{
 "cells": [
  {
   "cell_type": "markdown",
   "id": "189ac9a3-6f66-457d-9836-049569d71e13",
   "metadata": {},
   "source": [
    "+++++++++++++İkili (Binary) Dosyalar\n",
    "\n",
    "\n",
    "Dosyalar çoğunlukla iki farklı sınıfa ayrılır: Metin dosyaları ve ikili dosyalar. Metin dosyaları derken neyi kastettiğimiz az çok anlaşılıyor. Eğer bir dosyayı bir metin düzenleyici ile açtığınızda herhangi bir dilde yazılmış ‘okunabilir’ bir metin görüyorsanız, o dosya bir metin dosyasıdır. Mesela Notepad, Gedit, Kwrite veya benzeri metin düzenleyicileri kullanarak oluşturduğunuz dosyalar birer metin dosyasıdır. Şimdiye kadar verdiğimiz bütün örnekler metin dosyalarını içeriyordu. Peki ‘ikili’ (binary) dosya ne demek?\n",
    "\n",
    "İkili dosyalar ise, metin dosyalarının aksine, metin düzenleyicilerle açılamayan, açılmaya çalışıldığında ise çoğunlukla anlamsız karakterler içeren bir dosya türüdür. Resim dosyaları, müzik dosyaları, video dosyaları, MS Office dosyaları, LibreOffice dosyaları, OpenOffice dosyaları, vb. ikili dosyalara örnektir.\n",
    "\n",
    "Önceki bölümlerde de ifade ettiğimiz gibi, bilgisayarlar yalnızca sayılarla işlem yapabilir. Bilgisayarların üzerinde işlem yapabildiği bu sayıların 0 ve 1 adlı iki sayı olduğunu biliyoruz.\n",
    "\n",
    "Peki bu iki farklı sayıyı kullanarak neler yapabiliriz? Aslında, bu iki farklı sayıyı kullanarak her türlü işlemi yapabiliriz: Basit veya karmaşık aritmetik hesaplamalar, metin düzenleme, resim veya video düzenleme, web siteleri hazırlama, uzaya mekik gönderme… Bütün bu işlemleri sadece iki farklı sayı kullanarak yapabiliriz. Daha doğrusu bilgisayarlar yapabilir.\n",
    "\n",
    "Durum böyle olmasına rağmen, ilk bilgisayarlar yalnızca hesaplama işlemleri için kullanılıyordu. Yani metin içeren işlemleri yapmak bilgisayarların değil, mesela daktiloların görevi olarak görülüyordu. Bu durumu telefon teknolojisi ile kıyaslayabilirsiniz. Bildiğiniz gibi, ilk telefonlar yalnızca iki kişi arasındaki sesli iletişimi sağlamak için kullanılıyordu. Ama yeni nesil telefonlar artık ikiden fazla kişi arasındaki sesli ve görüntülü iletişimi sağlayabilmenin yanısıra, önceleri birbirinden farklı cihazlarla gerçekleştirilen işlemleri artık tek başına yerine getirebiliyor.\n",
    "\n",
    "İlk bilgisayarlarda ise metinlerin, daha doğrusu karakterlerin görevi bir hayli sınırlıydı.\n",
    "\n",
    "Başta da söylediğimiz gibi, çoğunlukla dosyalar iki farklı sınıfa ayrılır: Metin dosyaları ve ikili dosyalar. Ama işin aslı sadece tek bir dosya türü vardır: İkili dosyalar (binary files). Yani bilgisayarlar açısından bütün dosyalar, içlerinde ne olursa olsun, birer ikili dosyadır ve içlerinde sadece 0’ları ve 1’leri barındırır. İşte bu 0 ve 1’lerin ne anlama geleceğini, işletim sistemleri ve bu sistemler üzerine kurulu yazılımlar belirler. Eğer bir dosya metin dosyasıysa bu dosyadaki 0 ve 1’ler birer karakter/harf olarak yorumlanır. Ama eğer dosya bir ikili dosyaysa dosya içindeki 0 ve 1’ler özel birtakım veriler olarak ele alınır ve bu verileri okuyan yazılıma göre değer kazanır. Örneğin eğer ilgili dosya bir resim dosyasıyla, bu dosya herhangi bir resim görüntüleyici yazılım ile açıldığında karşımıza bir resim çıkar. Eğer ilgili dosya bir video dosyasıyla, bu dosya bir video görüntüleyici yazılım ile açıldığında karşımıza bir video çıkar. Bu olgudan bir sonraki bölümde daha ayrıntılı olarak söz edeceğiz. Biz şimdilik işin sadece pratiğine yoğunlaşalım ve temel olarak iki farklı dosya çeşidi olduğunu varsayalım: Metin dosyaları ve ikili dosyalar.\n",
    "\n",
    "Buraya gelene kadar hep metin dosyalarından söz etmiştik. Şimdi ise ikili dosyalardan söz edeceğiz.\n",
    "\n",
    "Hatırlarsanız metin dosyalarını açmak için temel olarak şöyle bir komut kullanıyorduk:\n",
    "\n"
   ]
  },
  {
   "cell_type": "code",
   "execution_count": null,
   "id": "f04bd0ac-2ec5-4864-9a08-b8f38e2aa351",
   "metadata": {},
   "outputs": [],
   "source": [
    "f = open(dosya_adı, 'r')"
   ]
  },
  {
   "cell_type": "markdown",
   "id": "d3acb637-fa8e-450a-b202-cdeac8d832a1",
   "metadata": {},
   "source": [
    "Bu şekilde bir metin dosyasını okuma kipinde açmış oluyoruz. Bir metin dosyasını değil de, ikili bir dosyayı açmak için ise şu komutu kullanacağız:\n",
    "\n"
   ]
  },
  {
   "cell_type": "code",
   "execution_count": null,
   "id": "66df3e91-483c-4f60-ade4-18031be07dc6",
   "metadata": {},
   "outputs": [],
   "source": [
    "f = open(dosya_adı, 'rb')"
   ]
  },
  {
   "cell_type": "markdown",
   "id": "2f90c26f-a22d-4491-9675-d59c19314f09",
   "metadata": {},
   "source": [
    "Dosyaya erişme kiplerini gösterdiğimiz tabloda ikili erişim türlerini de verdiğimizi hatırlıyorsunuz.\n",
    "\n",
    "Peki neden metin dosyaları ve ikili dosyalar için farklı erişim kipleri kullanıyoruz?\n",
    "\n",
    "İşletim sistemleri satır sonları için birbirinden farklı karakterler kullanırlar. Örneğin GNU/Linux dağıtımlarında satır sonları \\n karakteri ile gösterilir. Windows işletim sistemi ise satır sonlarını \\r\\n karakterleriyle gösterir. İşte Python herhangi bir dosyayı açarken, eğer o dosya bir metin dosyası ise, satır sonlarını gösteren karakterleri, dosyanın açıldığı işletim sistemine göre ayarlar. Yani satır sonlarını standart bir hale getirerek \\n karakterine dönüştürür.\n",
    "\n",
    "Metin dosyaları ile ikili dosyalar arasında önemli bir fark bulunur: Bir metin dosyasındaki ufak değişiklikler dosyanın okunamaz hale gelmesine yol açmaz. Olabilecek en kötü şey, değiştirilen karakterin okunamaz hale gelmesidir. Ancak ikili dosyalarda ufak değişiklikler dosyanın tümden bozulmasına yol açabilir. Dolayısıyla Python’ın yukarıda bahsedilen satır sonu değişiklikleri ikili dosyaların bozulmasına yol açabilir. Yani eğer siz ikili bir dosyayı ‘rb’ yerine sadece ‘r’ gibi bir kiple açarsanız dosyanın bozulmasına yol açabilirsiniz. İkili bir dosyayı ‘rb’ (veya ‘wb’, ‘ab’, ‘xb’, vb.) gibi bir kipte açtığınızda Python satır sonlarına herhangi bir değiştirme-dönüştürme işlemi uygulamaz. Böylece dosya bozulma riskiyle karşı karşıya kalmaz. O yüzden, metin dosyalarını ve ikili dosyaları açarken farklı kipler kullanmamız gerektiğine dikkat ediyoruz."
   ]
  },
  {
   "cell_type": "markdown",
   "id": "fa8802e3-12ec-45f8-a322-f35d991e5f87",
   "metadata": {},
   "source": [
    "++++++++++İkili Dosyalarla Örnekler\n",
    "\n",
    "\n",
    "Gelin isterseniz bu noktada birkaç örnek verelim.\n",
    "\n",
    "\n",
    "++++++++++++PDF Dosyalarından Bilgi Alma\n",
    "\n",
    "\n",
    "Tıpkı resim, müzik ve video dosyaları gibi, PDF dosyaları da birer ikili dosyadır. O halde hemen önümüze bir PDF dosyası alalım ve bu dosyayı okuma kipinde açalım:\n",
    "\n",
    "\n"
   ]
  },
  {
   "cell_type": "code",
   "execution_count": null,
   "id": "770cf3b9-bb5b-4e3c-b575-d68155d9f1e0",
   "metadata": {},
   "outputs": [],
   "source": [
    "f = open(\"falanca.pdf\", \"rb\")"
   ]
  },
  {
   "cell_type": "markdown",
   "id": "4a00703b-2f1a-4df5-b109-d8833a1867a4",
   "metadata": {},
   "source": [
    "Şimdi de bu dosyadan 10 baytlık bir veri okuyalım:"
   ]
  },
  {
   "cell_type": "raw",
   "id": "6f2eba9e-ccba-47d4-80e6-d8299f90ece7",
   "metadata": {},
   "source": [
    "f.read(10)\n",
    "\n",
    "b'%PDF-1.3\\n4'"
   ]
  },
  {
   "cell_type": "markdown",
   "id": "08f3878d-6788-4898-bdc8-837e140f5264",
   "metadata": {},
   "source": [
    "Bu çıktıda gördüğünüz ‘b’ işaretine şimdilik takılmayın. Birazdan bunun ne olduğunu bütün ayrıntılarıyla anlatacağız. Biz bu harfin, elimizdeki verinin bayt türünde bir veri olduğunu gösteren bir işaret olduğunu bilelim yeter.\n",
    "\n",
    "Gördüğünüz gibi, bir PDF dosyasının ilk birkaç baytını okuyarak hem dosyanın bir PDF belgesi olduğunu teyit edebiliyoruz, hem de bu PDF belgesinin, hangi PDF sürümü ile oluşturulduğunu anlayabiliyoruz. Buna göre bu belge PDF talimatnamesinin 1.3 numaralı sürümü ile oluşturulmuş.\n",
    "\n",
    "Eğer biz bu belgeyi bir ikili dosya olarak değil de bir metin dosyası olarak açmaya çalışsaydık şöyle bir hata alacaktık:\n",
    "\n"
   ]
  },
  {
   "cell_type": "code",
   "execution_count": null,
   "id": "a0d1d104-7ab0-482c-b74b-edd4662cc703",
   "metadata": {},
   "outputs": [],
   "source": [
    "f = open(\"falanca.pdf\")\n",
    "okunan = f.read()\n"
   ]
  },
  {
   "cell_type": "raw",
   "id": "505f24b0-d42a-48ef-a131-4bffa20fc788",
   "metadata": {},
   "source": [
    "Traceback (most recent call last):\n",
    "  File \"<stdin>\", line 1, in <module>\n",
    "  File \"C:\\Python33\\lib\\encodings\\cp1254.py\", line 23, in decode\n",
    "    return codecs.charmap_decode(input,self.errors,decoding_table)[0]\n",
    "UnicodeDecodeError: 'charmap' codec can't decode byte 0x9d in position 527: char\n",
    "acter maps to <undefined>"
   ]
  },
  {
   "cell_type": "markdown",
   "id": "d1124a83-3287-45d9-a691-2dc62eddc731",
   "metadata": {},
   "source": [
    "Python’ın bu dosyanın bir ikili dosya olduğu konusunda bilgilendirerek, dosyanın düzgün bir şekilde açılıp okunabilmesini sağlıyoruz.\n",
    "\n",
    "Gelin bu PDF belgesi üzerinde biraz daha çalışalım.\n",
    "\n",
    "PDF belgelerinde, o belge hakkında bazı önemli bilgiler veren birtakım özel etiketler bulunur. Bu etiketler şunlardır:"
   ]
  },
  {
   "cell_type": "raw",
   "id": "e74b3077-b85c-4900-9b26-41e6c981545f",
   "metadata": {},
   "source": [
    "Etiket     Anlamı\n",
    "/Creator   Belgeyi oluşturan yazılım\n",
    "/Producer  Belgeyi PDF’e çeviren yazılım\n",
    "/Title     Belgenin başlığı\n",
    "/Author    Belgenin yazarı\n",
    "/Subject   Belgenin konusu\n",
    "/Keywords  Belgenin anahtar kelimeleri\n",
    "/CreationDate Belgenin oluşturulma zamanı\n",
    "/ModDate      Belgenin değiştirilme zamanı"
   ]
  },
  {
   "cell_type": "markdown",
   "id": "bfb4f530-3952-40cd-9600-1a8c5d3e439c",
   "metadata": {},
   "source": [
    "Bu etiketlerin tamamı bütün PDF dosyalarında tanımlı değildir. Ama özellikle /Producer etiketi her PDF dosyasında bulunur.\n",
    "\n",
    "Şimdi örnek olması bakımından elimize bir PDF dosyası alalım ve bunu güzelce okuyalım:\n",
    "\n"
   ]
  },
  {
   "cell_type": "code",
   "execution_count": null,
   "id": "6fcc1845-8545-4c1e-9df7-2e1a8d3c147f",
   "metadata": {},
   "outputs": [],
   "source": [
    "f = open(\"falanca.pdf\", \"rb\")\n",
    "okunan = f.read()"
   ]
  },
  {
   "cell_type": "markdown",
   "id": "f40a8a76-5fab-41bd-b804-5d4d93a1216d",
   "metadata": {},
   "source": [
    "Şimdi de /Producer ifadesinin dosya içinde geçtiği noktanın sıra numarasını bulalım. Bildiğiniz gibi, dosyaların read() metodu bize bir karakter dizisi verir. Yine bildiğiniz gibi, karakter dizilerinin index() metodu yardımıyla bir öğenin karakter dizisi içinde geçtiği noktayı bulabiliyoruz. Yani:\n",
    "\n"
   ]
  },
  {
   "cell_type": "code",
   "execution_count": null,
   "id": "fcf4bd56-324c-42b2-9ed2-a63cfba8a30c",
   "metadata": {},
   "outputs": [],
   "source": [
    "producer_index = okunan.index(b\"/Producer\")"
   ]
  },
  {
   "cell_type": "markdown",
   "id": "dd6fb303-442f-45ca-b30d-f75a02cccf2c",
   "metadata": {},
   "source": [
    "Burada /Producer ifadesinin başına ‘b’ harfini yerleştirmeyi unutmuyoruz. Çünkü şu anda yaptığımız işlem ikili bir dosya içinde geçen birtakım baytları arama işlemidir.\n",
    "\n",
    "producer_index değişkeni, ‘/Producer’ ifadesinin ilk baytının dosya içindeki konumunu tutuyor. Kontrol edelim:"
   ]
  },
  {
   "cell_type": "raw",
   "id": "5b83714f-4f76-40ba-b245-b1b22178a8ca",
   "metadata": {},
   "source": [
    "producer_index"
   ]
  },
  {
   "cell_type": "raw",
   "id": "8027bad5-ecba-48fc-9c87-7f1f618c2df6",
   "metadata": {},
   "source": [
    "4077883"
   ]
  },
  {
   "cell_type": "markdown",
   "id": "19c55eaa-adb6-4b7a-a2a4-665cc9735080",
   "metadata": {},
   "source": [
    "Bu değerin gerçekten de ‘/Producer’ ifadesinin ilk baytını depoladığını teyit edelim:\n",
    "\n"
   ]
  },
  {
   "cell_type": "code",
   "execution_count": null,
   "id": "e8f846fe-dda8-4131-a7fb-d4199c7a6aca",
   "metadata": {},
   "outputs": [],
   "source": [
    "okunan[producer_index]\n",
    "47"
   ]
  },
  {
   "cell_type": "markdown",
   "id": "cb380ce1-fb9c-4628-9a55-d75c5e701221",
   "metadata": {},
   "source": [
    "Daha önce de dediğimiz gibi, bilgisayarlar yalnızca sayıları görür. Bu sayının hangi karaktere karşılık geldiğini bulmak için chr() fonksiyonundan yararlanabilirsiniz:"
   ]
  },
  {
   "cell_type": "code",
   "execution_count": null,
   "id": "b39b9851-8c84-4af9-b0df-fa4135dad603",
   "metadata": {},
   "outputs": [],
   "source": [
    "chr(okunan[producer_index])\n",
    "'/'"
   ]
  },
  {
   "cell_type": "markdown",
   "id": "e9b3dc6c-b706-4196-8b56-6e2067f58554",
   "metadata": {},
   "source": [
    "Gördüğünüz gibi, gerçekten de producer_index değişkeni ‘/Producer’ ifadesinin ilk baytının dosya içindeki konumunu gösteriyor. Biz bu konumu ve bu konumun 50-60 bayt ötesini sorgularsak, PDF belgesini üreten yazılımın adına ulaşabiliriz. Dikkatlice bakın:"
   ]
  },
  {
   "cell_type": "code",
   "execution_count": null,
   "id": "052b870f-453f-4ed9-903f-6a1a902a0f14",
   "metadata": {},
   "outputs": [],
   "source": [
    "okunan[producer_index:producer_index+50]\n",
    "b'/Producer (Acrobat Distiller 2.0 for Macintosh)\\r/T'"
   ]
  },
  {
   "cell_type": "markdown",
   "id": "81537f1e-f8dc-46b9-8411-9e80ef5850e7",
   "metadata": {},
   "source": [
    "Hatta eğer bu çıktı üzerine split() metodunu uygularsak, çıktıyı daha kullanışlı bir hale getirebiliriz:"
   ]
  },
  {
   "cell_type": "code",
   "execution_count": null,
   "id": "554f9b75-6a47-4345-87ed-f8262764cda4",
   "metadata": {},
   "outputs": [],
   "source": [
    "producer = okunan[producer_index:producer_index+50].split()\n",
    "producer\n",
    "[b'/Producer', b'(Acrobat', b'Distiller', b'2.0', b'for', b'Macintosh)', b'/T']"
   ]
  },
  {
   "cell_type": "markdown",
   "id": "786e092c-2005-4972-9f53-62ea9fc40f0c",
   "metadata": {},
   "source": [
    "Bu şekilde, ihtiyacımız olan bilginin istediğimiz parçasına kolayca ulaşabiliriz:"
   ]
  },
  {
   "cell_type": "code",
   "execution_count": null,
   "id": "e46e51fd-770f-4a49-92fc-f9000da1e2c6",
   "metadata": {},
   "outputs": [],
   "source": [
    "producer[0]\n",
    "b'/Producer'"
   ]
  },
  {
   "cell_type": "code",
   "execution_count": null,
   "id": "4bbc1838-6c76-453d-a137-07edce81b2e3",
   "metadata": {},
   "outputs": [],
   "source": [
    "producer[1]\n",
    "\n",
    "b'(Acrobat'"
   ]
  },
  {
   "cell_type": "code",
   "execution_count": null,
   "id": "16197661-66b9-4eb9-8f6c-6f274e990824",
   "metadata": {},
   "outputs": [],
   "source": [
    "producer[1:3]\n",
    "\n",
    "[b'(Acrobat', b'Distiller']"
   ]
  },
  {
   "cell_type": "markdown",
   "id": "3f371995-fb11-4789-98bf-e5067e971df5",
   "metadata": {},
   "source": [
    "Elbette bu yöntem, bir PDF dosyasından gerekli etiketleri almanın en iyi yöntemi değildir. Ama henüz Python bilgimiz bu kadarını yapmamıza müsaade ediyor. Ancak yine de, yukarıda örnek, bir ikili dosyadan nasıl veri alınacağı konusunda size iyi bir fikir verecektir.\n",
    "\n"
   ]
  },
  {
   "cell_type": "markdown",
   "id": "12e09404-21ed-4bcc-a17d-14167ddf5dcb",
   "metadata": {},
   "source": [
    "+++++++++Resim Dosyalarının Türünü Tespit Etme\n",
    "\n",
    "\n",
    "Dediğimiz gibi, resim dosyaları, müzik dosyaları, video dosyaları ve benzeri dosyalar birer ikili dosyadır. Mesela resim dosyalarını ele alalım. Diyelim ki, resimlerin hangi türde olduğunu tespit eden bir program yazmak istiyorsunuz. Yani yazdığınız bu programla bir resim dosyasının PNG mi, JPEG mi, TIFF mi, yoksa BMP mi olduğunu anlamak istiyorsunuz.\n",
    "\n",
    "Peki bir resim dosyasının hangi türde olduğunu bulmak için uzantısına baksanız olmaz mı? Asla unutmayın dosya uzantıları ile dosya biçimleri arasında doğrudan bir bağlantı yoktur. O yüzden dosya uzantıları, dosya biçimini anlamak açısından güvenilir bir yöntem değildir. Bir resim dosyasının sonuna hangi uzantıyı getirirseniz getirin, o dosya bir resim dosyasıdır. Yani mesela bir resim dosyasının uzantısı yanlışlıkla veya bilerek .doc olarak değiştirilmişse, o dosya bir WORD dosyası haline gelmez. İşte yazacağınız program, bir resim dosyasının uzantısı ne olursa olsun, hatta dosyanın bir uzantısı olmasa bile, o dosyanın hangi türde olduğunu söyleyebilecek.\n",
    "\n",
    "Bir resim dosyasının hangi türde olduğunu anlayabilmek için ilgili dosyanın ilk birkaç baytını okumanız yeterlidir. Bu birkaç bayt içinde o resim dosyasının türüne dair bilgileri bulabilirsiniz.\n",
    "\n",
    "Resim dosyalarının türlerini birbirinden ayırt etmenizi sağlayacak verilerin ne olduğunu, ilgili resim türünün teknik şartnamesine bakarak öğrenebilirsiniz. Ancak teknik şartnameler genellikle okuması zor metinlerdir. Bu yüzden, doğrudan şartnameyi okumak yerine, Internet üzerinde kısa bir araştırma yaparak konuyu daha kolay anlamanızı sağlayacak yardımcı belgelerden de yardım alabilirsiniz."
   ]
  },
  {
   "cell_type": "markdown",
   "id": "ca24385e-a262-44df-a341-2ea9f6e27453",
   "metadata": {},
   "source": [
    "+++++++++++JPEG\n",
    "\n",
    "\n",
    "JPEG biçimi ile ilgili bilgileri https://jpeg.org/ adresinde bulabilirsiniz. JPEG dosya biçimini daha iyi anlamanızı sağlayacak yardımcı kaynak ise şudur:\n",
    "\n",
    "http://www.faqs.org/faqs/jpeg-faq/part1/section-15.html\n",
    "\n",
    "Yukarıda verdiğimiz adreslerdeki bilgilere göre bir JPEG dosyasının en başında şu veriler bulunur:"
   ]
  },
  {
   "cell_type": "raw",
   "id": "8976268c-32e0-4678-8543-8b11071bd5a4",
   "metadata": {},
   "source": [
    "FF  D8      FF      E0      ?   ?   4A      46      49      46      00"
   ]
  },
  {
   "cell_type": "markdown",
   "id": "62497540-85c6-4a73-a729-9b338bccb18c",
   "metadata": {},
   "source": [
    "Ancak eğer ilgili JPEG dosyası bir CANON fotograf makinesi ile oluşturulmuşsa bu veri dizisi şöyle de olabilir:\n",
    "\n"
   ]
  },
  {
   "cell_type": "raw",
   "id": "61511454-44ee-4ef6-9f16-f56d875adb21",
   "metadata": {},
   "source": [
    "FF  D8      FF      E0      ?   ?   45  78  69  66  00"
   ]
  },
  {
   "cell_type": "markdown",
   "id": "52e7e838-8d2e-46cb-9169-d1a9cb29bb42",
   "metadata": {},
   "source": [
    "Burada soru işareti ile gösterdiğimiz kısım, yani dosyanın 5. ve 6. baytları farklı JPEG dosyalarında birbirinden farklı olabilir. Dolayısıyla bir JPEG dosyasını başka resim dosyalarından ayırabilmek için dosyanın ilk dört baytına bakmamız, sonraki iki baytı atlamamız ve bunlardan sonra gelen beş baytı kontrol etmemiz yeterli olacaktır.\n",
    "\n",
    "Yukarıda gördükleriniz birer on altılı (hex) sayıdır. Bunlar onlu düzende sırasıyla şu sayılara karşılık gelir:"
   ]
  },
  {
   "cell_type": "code",
   "execution_count": null,
   "id": "44c7211f-0912-4829-8930-59003bbbd76c",
   "metadata": {},
   "outputs": [],
   "source": [
    "255 216 255 224 ? ? 74 70 73 70 0\n",
    "255 216 255 224 ? ? 45 78 69 66 0 #canon"
   ]
  },
  {
   "cell_type": "markdown",
   "id": "9f1353d0-78cc-49c9-ae64-188825b6aa80",
   "metadata": {},
   "source": [
    "Bu diziler içinde özellikle şu dört sayı bizi yakından ilgilendiriyor:"
   ]
  },
  {
   "cell_type": "code",
   "execution_count": null,
   "id": "9ba5217e-7c83-4fe6-9ef4-39cb41d8eb00",
   "metadata": {},
   "outputs": [],
   "source": [
    "74 70 73 70\n",
    "45 78 69 66 #canon"
   ]
  },
  {
   "cell_type": "markdown",
   "id": "f009ebb2-3f9b-467b-b6f4-9ebc35924170",
   "metadata": {},
   "source": [
    "Bu sayılar sırasıyla ‘J’, ‘F’, ‘I’, ‘F’ ve ‘E’, ‘x’, ‘i’, ‘f’ harflerine karşılık gelir. Yani bir JPEG dosyasını ayırt edebilmek için ilgili dosyanın 7-10 arası baytlarının ne olduğuna bakmamız yeterli olacaktır. Eğer bu aralıkta ‘JFIF’ veya ‘Exif’ ifadeleri varsa, o dosya bir JPEG dosyasıdır. Buna göre şöyle bir kod yazabiliriz:"
   ]
  },
  {
   "cell_type": "code",
   "execution_count": null,
   "id": "9cd83877-0a76-4ef0-9189-c3e850cd3f83",
   "metadata": {},
   "outputs": [],
   "source": [
    "f = open(dosya_adı, 'rb')\n",
    "data = f.read(10)\n",
    "if data[6:11] in [b\"JFIF\", b\"Exif\"]:\n",
    "    print(\"Bu dosya JPEG!\")\n",
    "else:\n",
    "    print(\"Bu dosya JPEG değil!\")"
   ]
  },
  {
   "cell_type": "markdown",
   "id": "fbfb3abe-4822-41a8-80ed-6df54af503c3",
   "metadata": {},
   "source": [
    "Burada herhangi bir resim dosyasının ilk on baytını okuduk öncelikle:"
   ]
  },
  {
   "cell_type": "code",
   "execution_count": null,
   "id": "30dfd454-2b73-4be0-9769-d4797050903b",
   "metadata": {},
   "outputs": [],
   "source": [
    "data = f.read(10)\n"
   ]
  },
  {
   "cell_type": "markdown",
   "id": "695c3496-05e5-458c-a4c8-e7013064551d",
   "metadata": {},
   "source": [
    "Çünkü aradığımız bilgiler ilk on bayt içinde yer alıyor.\n",
    "\n",
    "Daha sonra okuduğumuz kısmın 7 ila 10. baytları arasında kalan verinin ne olduğuna bakıyoruz:"
   ]
  },
  {
   "cell_type": "code",
   "execution_count": null,
   "id": "080d99ca-2e6c-4561-bb6a-fd53b6f74ecf",
   "metadata": {},
   "outputs": [],
   "source": [
    "if data[6:11] in [b\"JFIF\", b\"Exif\"]:\n",
    "    ..."
   ]
  },
  {
   "cell_type": "markdown",
   "id": "9d512c0d-c5d3-4c79-9c99-de476ed873c3",
   "metadata": {},
   "source": [
    "Eğer ilgili aralıkta ‘JFIF’ veya ‘Exif’ baytları yer alıyorsa bu dosyanın bir JPEG dosyası olduğuna karar veriyoruz.\n",
    "\n",
    "Yukarıdaki kodları elinizdeki bir JPEG dosyasına uygulayarak kendi kendinize pratik yapabilirsiniz.\n",
    "\n",
    "Mesela benim elimde d1.jpg, d2.jpg ve d3.jpeg adlı üç farklı JPEG dosyası var:"
   ]
  },
  {
   "cell_type": "raw",
   "id": "5846b836-2614-4a22-bb58-959bde4a9168",
   "metadata": {},
   "source": [
    "dosyalar = [\"d1.jpg\", \"d2.jpg\", \"d3.jpeg\"]"
   ]
  },
  {
   "cell_type": "markdown",
   "id": "b74cfd08-af42-43cf-b24d-89382531ab27",
   "metadata": {},
   "source": [
    "Bu dosyaların ilk onar baytını okuyorum:"
   ]
  },
  {
   "cell_type": "code",
   "execution_count": null,
   "id": "67f96916-86aa-4c8f-9dec-105560478f13",
   "metadata": {},
   "outputs": [],
   "source": [
    "for f in dosyalar:\n",
    "    okunan = open(f, 'rb').read(10)\n",
    "    print(okunan)"
   ]
  },
  {
   "cell_type": "markdown",
   "id": "cf47a016-e5bd-480c-a31d-2d49179fced5",
   "metadata": {},
   "source": [
    "Buradan şu çıktıyı alıyorum:\n",
    "\n"
   ]
  },
  {
   "cell_type": "code",
   "execution_count": null,
   "id": "6353ed18-c155-4112-ab81-20a8227f1d25",
   "metadata": {},
   "outputs": [],
   "source": [
    "d1.jpg         b'\\xff\\xd8\\xff\\xe0\\x00\\x10JFIF'\n",
    "d2.jpg         b'\\xff\\xd8\\xff\\xe1T\\xaaExif'\n",
    "d3.jpeg        b'\\xff\\xd8\\xff\\xe0\\x00\\x10JFIF'"
   ]
  },
  {
   "cell_type": "markdown",
   "id": "a0e0a619-31ec-488c-91b4-7fee4e521c3b",
   "metadata": {},
   "source": [
    "Gördüğünüz gibi bu çıktılar yukarıda JPEG dosyalarına ilişkin olarak verdiğimiz bayt dizilimi ile uyuşuyor. Mesela ilk dosyayı ele alalım:"
   ]
  },
  {
   "cell_type": "code",
   "execution_count": null,
   "id": "49bad577-229a-40e9-a3ba-9f4e92a15d83",
   "metadata": {},
   "outputs": [],
   "source": [
    "d1.jpg         b'\\xff\\xd8\\xff\\xe0\\x00\\x10JFIF'"
   ]
  },
  {
   "cell_type": "markdown",
   "id": "c998270a-860a-461a-ba15-46a918caabb4",
   "metadata": {},
   "source": [
    "Burada şu baytlar var:\n",
    "\n"
   ]
  },
  {
   "cell_type": "code",
   "execution_count": null,
   "id": "f2ce54aa-038a-4a02-beba-ac500576e29c",
   "metadata": {},
   "outputs": [],
   "source": [
    "\\xff \\xd8 \\xff \\xe0 \\x00 \\x10 J F I F"
   ]
  },
  {
   "cell_type": "markdown",
   "id": "f32bd239-6f64-4313-bc44-c6fd99f67fe5",
   "metadata": {},
   "source": [
    "Sayıların başındaki \\x işaretleri bunların birer on altılı sayı olduğunu gösteren bir işarettir. Dolayısıyla yukarıdakileri daha net inceleyebilmek için şöyle de yazabiliriz:"
   ]
  },
  {
   "cell_type": "code",
   "execution_count": null,
   "id": "36376dc5-2dac-4d09-8b26-e2a8ca8dc408",
   "metadata": {},
   "outputs": [],
   "source": [
    "ff d8 ff e0 00 10 J F I F"
   ]
  },
  {
   "cell_type": "markdown",
   "id": "a82dc948-c244-470a-b16e-141c75f1e591",
   "metadata": {},
   "source": [
    "Şimdi de ikinci dosyanın çıktısını ele alalım:\n",
    "\n"
   ]
  },
  {
   "cell_type": "code",
   "execution_count": null,
   "id": "0b2f92c7-8e23-499b-9cb8-abf06a4a7f37",
   "metadata": {},
   "outputs": [],
   "source": [
    "d2.jpg         b'\\xff\\xd8\\xff\\xe1T\\xaaExif'"
   ]
  },
  {
   "cell_type": "markdown",
   "id": "ae4583a6-c866-4096-a285-74f0f9758505",
   "metadata": {},
   "source": [
    "Burada da şu baytlar var:\n",
    "\n"
   ]
  },
  {
   "cell_type": "code",
   "execution_count": null,
   "id": "a196a41a-b730-40b3-a7da-f50a891e3152",
   "metadata": {},
   "outputs": [],
   "source": [
    "ff d8 ff e1T aa E x i f"
   ]
  },
  {
   "cell_type": "markdown",
   "id": "5dfefda2-5a9a-4dff-8e88-7a5db98b0d07",
   "metadata": {},
   "source": [
    "İşte dosyaların türünü ayırt etmek için bu çıktılardaki son dört baytı kontrol etmemiz yeterli olacaktır:"
   ]
  },
  {
   "cell_type": "code",
   "execution_count": null,
   "id": "fcf2afee-7ed4-47d3-9131-3b3aaff39221",
   "metadata": {},
   "outputs": [],
   "source": [
    "for f in dosyalar:\n",
    "    okunan = open(f, 'rb').read(10)\n",
    "    if okunan[6:11] in [b'JFIF', b'Exif']:\n",
    "        print(\"Evet {} adlı dosya bir JPEG!\".format(f))\n",
    "    else:\n",
    "        print(\"{} JPEG değil!\".format(f))"
   ]
  },
  {
   "cell_type": "markdown",
   "id": "f8ce0ef6-0823-4de7-8774-d5f2e7a41926",
   "metadata": {},
   "source": [
    "Bu kodları elinizde bulunan farklı türdeki dosyalara uygulayarak, aldığınız çıktıları inceleyebilirsiniz.\n",
    "\n"
   ]
  },
  {
   "cell_type": "markdown",
   "id": "8eb56058-1f67-4033-81b3-b0c087f44d92",
   "metadata": {},
   "source": [
    "++++++++PNG\n",
    "\n",
    "\n",
    "PNG dosya biçiminin teknik şartnamesine http://www.libpng.org/pub/png/spec/ adresinden ulaşabilirsiniz.\n",
    "\n",
    "Ayrıca yardımcı kaynak olarak da https://www.fileformat.info/format/png/egff.htm adresindeki belgeyi kullanabilirsiniz.\n",
    "\n",
    "Şartnamade, http://www.libpng.org/pub/png/spec/1.2/PNG-Rationale.html#R.PNG-file-signature sayfasındaki bilgiye göre bir PNG dosyasının ilk 8 baytı mutlaka aşağıdaki değerleri içeriyor:"
   ]
  },
  {
   "cell_type": "raw",
   "id": "f7832659-d3d7-47c4-a7a7-2b3ba9883766",
   "metadata": {},
   "source": [
    "onlu değer\n",
    "\n",
    "137 80 78 71 13 10 26 10\n",
    "\n",
    "on altılı değer\n",
    "\n",
    "89 50 4e 47 0d 0a 1a 0a\n",
    "\n",
    "karakter değeri\n",
    "\n",
    "\\211 P N G \\r \\n \\032 \\n\n",
    "\n"
   ]
  },
  {
   "cell_type": "markdown",
   "id": "69213b6f-2ec4-413d-8ee7-31b56eba5ffa",
   "metadata": {},
   "source": [
    "Şimdi elimize herhangi bir PNG dosyası alarak bu durumu teyit edelim:\n",
    "\n"
   ]
  },
  {
   "cell_type": "code",
   "execution_count": null,
   "id": "48419004-00ed-4d4e-a8d2-56c50fb049b9",
   "metadata": {},
   "outputs": [],
   "source": [
    "f = open(\"falanca.png\", \"rb\")"
   ]
  },
  {
   "cell_type": "code",
   "execution_count": null,
   "id": "6e54e82d-b5da-4b2b-86c5-d91db1b96447",
   "metadata": {},
   "outputs": [],
   "source": [
    "okunan = f.read(8)"
   ]
  },
  {
   "cell_type": "markdown",
   "id": "0c28b40e-fccd-4d68-a8f3-f8d41fafac2f",
   "metadata": {},
   "source": [
    "\n",
    "Şartnamede de söylendiği gibi, bir PNG dosyasını öteki türlerden ayırt edebilmek için dosyanın ilk 8 baytına bakmamız yeterli olacaktır. O yüzden biz de yukarıdaki kodlarda sadece ilk 8 baytı okumakla yetindik.\n",
    "\n",
    "Bakalım ilk 8 baytta neler varmış:"
   ]
  },
  {
   "cell_type": "raw",
   "id": "a45eaf39-d3b7-4e0a-bf1e-166a4fe1ba20",
   "metadata": {},
   "source": [
    "okunan\n",
    "b'\\x89PNG\\r\\n\\x1a\\n'"
   ]
  },
  {
   "cell_type": "markdown",
   "id": "7e2e35aa-63f6-408c-bab9-442eb41928fa",
   "metadata": {},
   "source": [
    "Bu değerin, şartnamedeki karakter değeri ile aynı olup olmadığını sorgulayarak herhangi bir dosyanın PNG olup olmadığına karar verebilirsiniz:"
   ]
  },
  {
   "cell_type": "raw",
   "id": "bfb0f7ca-68f0-42ea-a457-26f93549a133",
   "metadata": {},
   "source": [
    "okunan == b\"\\211PNG\\r\\n\\032\\n\"\n",
    "\n",
    "True"
   ]
  },
  {
   "cell_type": "markdown",
   "id": "27c01aa1-f421-4148-bed1-0b1c1c399e35",
   "metadata": {},
   "source": [
    "Dolayısıyla şuna benzer bir kod yazarak, farklı resim dosyalarının türünü tespit edebilirsiniz:\n",
    "\n"
   ]
  },
  {
   "cell_type": "code",
   "execution_count": null,
   "id": "c1d6ad81-d5ed-4969-8f97-135642072dbc",
   "metadata": {},
   "outputs": [],
   "source": [
    "for f in dosyalar:\n",
    "    okunan = open(f, 'rb').read(10)\n",
    "    if okunan[6:11] in [b'JFIF', b'Exif']:\n",
    "        print(\"{} adlı dosya bir JPEG!\".format(f))\n",
    "    elif okunan[:8] == b\"\\211PNG\\r\\n\\032\\n\":\n",
    "        print(\"{} adlı dosya bir PNG!\".format(f))\n",
    "    else:\n",
    "        print(\"Türü bilinmeyen dosya: {}\".format(f))"
   ]
  },
  {
   "cell_type": "markdown",
   "id": "6fff49b8-24a3-4923-89e4-8c771117e08a",
   "metadata": {},
   "source": [
    "Bu kodlarda bir resim dosyasının ilk 10 baytını okuduk. 7-11 arası baytların içinde ‘JFIF’ veya ‘Exif’ baytları varsa o dosyanın bir JPEG olduğuna; ilk 8 bayt b”211PNGrn032n” adlı bayt dizisine eşitse de o dosyanın bir PNG olduğuna karar veriyoruz."
   ]
  },
  {
   "cell_type": "markdown",
   "id": "dbc8bd9c-204a-4721-bd2a-18985db004e0",
   "metadata": {},
   "source": [
    "++++++GIF\n",
    "\n",
    "\n",
    "GIF şartnamesine https://www.w3.org/Graphics/GIF/spec-gif89a.txt adresinden ulaşabilirsiniz.\n",
    "\n",
    "Bir dosyanın GIF olup olmadığına karar verebilmek için ilk 3 baytını okumanız yeterli olacaktır. Standart bir GIF dosyasının ilk üç baytı ‘G’, ‘I’ ve ‘F’ karakterlerinden oluşur. Dosyanın sonraki 3 baytı ise GIF’in sürüm numarasını verir. 27.01.2025 itibariyle GIF standardının şu sürümleri bulunmaktadır:"
   ]
  },
  {
   "cell_type": "raw",
   "id": "94587edd-1b04-47ad-9f52-379864f130df",
   "metadata": {},
   "source": [
    "87a - Mayıs 1987\n",
    "\n",
    "89a - Temmuz 1989"
   ]
  },
  {
   "cell_type": "markdown",
   "id": "943464f7-2e64-4c19-af4e-3423fdab0a0c",
   "metadata": {},
   "source": [
    "Dolayısıyla standart bir GIF dosyasının ilk 6 baytı şöyledir:\n",
    "\n",
    "‘GIF87a’ veya ‘GIF89a’\n",
    "\n",
    "Eğer bir dosyanın GIF olup olmadığını anlamak isterseniz dosyanın ilk 3 veya 6 baytını denetlemeniz yeterli olacaktır:"
   ]
  },
  {
   "cell_type": "code",
   "execution_count": null,
   "id": "a3f1b80e-7f02-49a6-a36c-ce545258b4e9",
   "metadata": {},
   "outputs": [],
   "source": [
    "for f in dosyalar:\n",
    "    okunan = open(f, 'rb').read(10)\n",
    "    if okunan[6:11] in [b'JFIF', b'Exif']:\n",
    "        print(\"{} adlı dosya bir JPEG!\".format(f))\n",
    "    elif okunan[:8] == b\"\\211PNG\\r\\n\\032\\n\":\n",
    "        print(\"{} adlı dosya bir PNG!\".format(f))\n",
    "    elif okunan[:3] == b'GIF':\n",
    "        print(\"{} adlı dosya bir GIF!\".format(f))\n",
    "    else:\n",
    "        print(\"Türü bilinmeyen dosya: {}\".format(f))\n"
   ]
  },
  {
   "cell_type": "markdown",
   "id": "6af65eb8-fdd6-4347-a78e-877fb2888c53",
   "metadata": {},
   "source": [
    "+++++TIFF\n",
    "\n",
    "TIFF şartnamesine https://www.itu.int/itudoc/itu-t/com16/tiff-fx/docs/tiff6.pdf adresinden ulaşabilirsiniz. Bu şartnameye göre bir TIFF dosyası şunlardan herhangi biri ile başlar:"
   ]
  },
  {
   "cell_type": "raw",
   "id": "01e8e458-10dd-4f4b-a5bd-b740bbc74ca7",
   "metadata": {},
   "source": [
    "‘II’\n",
    "\n",
    "‘MM’"
   ]
  },
  {
   "cell_type": "markdown",
   "id": "7e06407f-2af3-46ea-803f-311ee36b8848",
   "metadata": {},
   "source": [
    "Dolayısıyla, bir TIFF dosyasını tespit edebilmek için dosyanın ilk 2 baytına bakmanız yeterli olacaktır:"
   ]
  },
  {
   "cell_type": "code",
   "execution_count": null,
   "id": "f9fdc07e-a1be-416b-bdfd-99a5ce2fde30",
   "metadata": {},
   "outputs": [],
   "source": [
    "for f in dosyalar:\n",
    "    okunan = open(f, 'rb').read(10)\n",
    "    if okunan[6:11] in [b'JFIF', b'Exif']:\n",
    "        print(\"{} adlı dosya bir JPEG!\".format(f))\n",
    "    elif okunan[:8] == b\"\\211PNG\\r\\n\\032\\n\":\n",
    "        print(\"{} adlı dosya bir PNG!\".format(f))\n",
    "    elif okunan[:3] == b'GIF':\n",
    "        print(\"{} adlı dosya bir GIF!\".format(f))\n",
    "    elif okunan[:2] in [b'II', b'MM']:\n",
    "        print(\"{} adlı dosya bir TIFF!\".format(f))\n",
    "    else:\n",
    "        print(\"Türü bilinmeyen dosya: {}\".format(f))"
   ]
  },
  {
   "cell_type": "markdown",
   "id": "c532b5a5-70f3-48c2-a9af-c9600c1edbc1",
   "metadata": {},
   "source": [
    "+++++++BMP\n",
    "\n",
    "\n",
    "BMP türündeki resim dosyalarına ilişkin bilgi için https://www.loc.gov/preservation/digital/formats/fdd/fdd000189.shtml adresine başvurabilirsiniz.\n",
    "\n",
    "Buna göre, BMP dosyaları ‘BM’ ile başlar. Yani:\n",
    "\n"
   ]
  },
  {
   "cell_type": "code",
   "execution_count": null,
   "id": "be0d491d-dec0-49ea-a6c4-0ab8e97571f1",
   "metadata": {},
   "outputs": [],
   "source": [
    "for f in dosyalar:\n",
    "    okunan = open(f, 'rb').read(10)\n",
    "    if okunan[6:11] in [b'JFIF', b'Exif']:\n",
    "        print(\"{} adlı dosya bir JPEG!\".format(f))\n",
    "    elif okunan[:8] == b\"\\211PNG\\r\\n\\032\\n\":\n",
    "        print(\"{} adlı dosya bir PNG!\".format(f))\n",
    "    elif okunan[:3] == b'GIF':\n",
    "        print(\"{} adlı dosya bir GIF!\".format(f))\n",
    "    elif okunan[:2] in [b'II', b'MM']:\n",
    "        print(\"{} adlı dosya bir TIFF!\".format(f))\n",
    "    elif okunan[:2] in [b'BM']:\n",
    "        print(\"{} adlı dosya bir BMP!\".format(f))\n",
    "    else:\n",
    "        print(\"Türü bilinmeyen dosya: {}\".format(f))"
   ]
  },
  {
   "cell_type": "markdown",
   "id": "ec4d700d-8aa0-45c3-acc7-589c10bdf543",
   "metadata": {},
   "source": [
    "Gördüğünüz gibi ikili dosyalar, baytların özel bir şekilde dizildiği ve özel bir şekilde yorumlandığı bir dosya türüdür. Dolayısıyla ikili dosyalarla çalışabilmek için, ikili dosyanın bayt dizilimini yakından tanımak gerekiyor."
   ]
  },
  {
   "cell_type": "code",
   "execution_count": null,
   "id": "2c0d6bd0-e66a-47a8-a269-103eb6c216c6",
   "metadata": {},
   "outputs": [],
   "source": []
  }
 ],
 "metadata": {
  "kernelspec": {
   "display_name": "Python 3 (ipykernel)",
   "language": "python",
   "name": "python3"
  },
  "language_info": {
   "codemirror_mode": {
    "name": "ipython",
    "version": 3
   },
   "file_extension": ".py",
   "mimetype": "text/x-python",
   "name": "python",
   "nbconvert_exporter": "python",
   "pygments_lexer": "ipython3",
   "version": "3.10.12"
  }
 },
 "nbformat": 4,
 "nbformat_minor": 5
}
