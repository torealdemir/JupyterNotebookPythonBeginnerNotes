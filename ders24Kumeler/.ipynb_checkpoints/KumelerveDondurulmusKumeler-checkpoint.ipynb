{
 "cells": [
  {
   "cell_type": "markdown",
   "id": "db075a1a-484b-496e-8aea-1d60b3634d5f",
   "metadata": {},
   "source": [
    "+++++++++Kümeler ve Dondurulmuş Kümeler\n",
    "\n",
    "\n",
    "Bu bölümde Python’daki iki veri tipini daha inceleyeceğiz. İnceleyeceğimiz veri tiplerinin adı küme ve dondurulmuş küme.\n",
    "\n",
    "Özellikle kümeleri öğrendiğimizde, bu veri tipinin kendine has birtakım özellikleri sayesinde bunların kimi zaman hiç tahmin bile edemeyeceğimiz yerlerde işimize yaradığını göreceğiz. Normalde uzun uzun kod yazmayı gerektiren durumlarda kümeleri kullanmak, bir-iki satırla işlerimizi halletmemizi sağlayabilir.\n",
    "\n",
    "Bu bölümde kümeler dışında, bir de dondurulmuş kümelerden söz edeceğiz. Bu iki veri tipi birbiriyle ilişkilidir. O yüzden bu iki veri tipini tek bölümde ele alacağız.\n",
    "\n",
    "İsterseniz anlatmaya önce kümelerle başlayalım.\n",
    "\n",
    "++++++++++++++Kümeler\n",
    "\n",
    "\n",
    "Tıpkı listeler, demetler, karakter dizileri, sayılar ve dosyalar gibi kümeler de Python’daki veri tiplerinden biridir. Adından da az çok tahmin edebileceğiniz gibi kümeler, matematikten bildiğimiz “küme” kavramıyla sıkı sıkıya bağlantılıdır. Bu veri tipi, matematikteki kümelerin sahip olduğu bütün özellikleri taşır. Yani matematikteki kümelerden bildiğimiz kesişim, birleşim ve fark gibi özellikler Python’daki kümeler için de geçerlidir.\n",
    "\n",
    "++++++++++Küme Oluşturmak\n",
    "\n",
    "\n",
    "Kümelerin bize sunduklarından faydalanabilmek için elbette öncelikle bir küme oluşturmamız gerekiyor. Küme oluşturmak çok kolay bir işlemdir. Örneğin boş bir kümeyi şöyle oluşturuyoruz:"
   ]
  },
  {
   "cell_type": "code",
   "execution_count": 1,
   "id": "f15f7b9d-ee20-431f-bbfb-6ec2b69a0036",
   "metadata": {},
   "outputs": [],
   "source": [
    "boş_küme = set()"
   ]
  },
  {
   "cell_type": "markdown",
   "id": "c7bb489e-e290-4ea8-81d5-c1326821bf89",
   "metadata": {},
   "source": [
    "Listeler, demetler ve sözlüklerin aksine kümelerin ayırt edici bir işareti yoktur. Küme oluşturmak için set() adlı özel bir fonksiyondan yararlanıyoruz.\n",
    "\n",
    "Yukarıdaki boş veri tipinin bir küme olduğunu nasıl teyit edeceğinizi biliyorsunuz:\n",
    "\n"
   ]
  },
  {
   "cell_type": "code",
   "execution_count": 2,
   "id": "26d18d34-7659-43e7-89c2-8a4ea7656648",
   "metadata": {},
   "outputs": [
    {
     "data": {
      "text/plain": [
       "set"
      ]
     },
     "execution_count": 2,
     "metadata": {},
     "output_type": "execute_result"
    }
   ],
   "source": [
    "type(boş_küme)"
   ]
  },
  {
   "cell_type": "markdown",
   "id": "a3af2f77-bee2-4482-818d-4569b50d3ec5",
   "metadata": {},
   "source": [
    "Gördüğünüz gibi, Python programlama dilinde kümeler set ifadesiyle gösteriliyor.\n",
    "\n",
    "Yukarıda boş bir küme oluşturduk. İçinde öğe de barındıran kümeleri ise şu şekilde oluşturuyoruz:\n",
    "\n"
   ]
  },
  {
   "cell_type": "code",
   "execution_count": 3,
   "id": "ae7270b3-112a-4da8-8283-8c88bd696c61",
   "metadata": {},
   "outputs": [],
   "source": [
    "küme = set([\"elma\", \"armut\", \"kebap\"])"
   ]
  },
  {
   "cell_type": "markdown",
   "id": "cf7e5d8a-f014-4dbb-a193-33b8fc08cc6c",
   "metadata": {},
   "source": [
    "Böylelikle, içinde öğe barındıran ilk kümemizi başarıyla oluşturduk. Dikkat ederseniz, küme oluştururken listelerden faydalandık. Gördüğünüz gibi set() fonksiyonu içindeki öğeler bir liste içinde yer alıyor. Dolayısıyla yukarıdaki tanımlamayı şöyle de yapabiliriz:"
   ]
  },
  {
   "cell_type": "code",
   "execution_count": 4,
   "id": "03d0e1bf-bb23-49c7-af75-df9d9cc40187",
   "metadata": {},
   "outputs": [],
   "source": [
    "liste = [\"elma\", \"armut\", \"kebap\"]\n",
    "küme = set(liste)"
   ]
  },
  {
   "cell_type": "markdown",
   "id": "b2af1b53-8d15-42b1-912c-ff86c41a382f",
   "metadata": {},
   "source": [
    "Bu daha temiz bir görüntü oldu. Elbette küme tanımlamak için mutlaka liste kullanmak zorunda değiliz. İstersek demetleri de küme haline getirebiliriz:"
   ]
  },
  {
   "cell_type": "code",
   "execution_count": 5,
   "id": "2018ebdf-0cc5-4439-be11-9635a98e2086",
   "metadata": {},
   "outputs": [],
   "source": [
    "demet = (\"elma\", \"armut\", \"kebap\")\n",
    "küme = set(demet)"
   ]
  },
  {
   "cell_type": "markdown",
   "id": "b97ae01f-8caa-4b3d-a705-8990df69d763",
   "metadata": {},
   "source": [
    "Hatta ve hatta karakter dizilerinden dahi küme yapabiliriz:"
   ]
  },
  {
   "cell_type": "code",
   "execution_count": 6,
   "id": "56eb3fe6-e77e-4189-ac52-7af7b5fabc3c",
   "metadata": {},
   "outputs": [],
   "source": [
    "kardiz = \"Python Programlama Dili için Türkçe Kaynak\"\n",
    "küme = set(kardiz)"
   ]
  },
  {
   "cell_type": "markdown",
   "id": "89b52f11-db4d-4af9-911a-db401d81022b",
   "metadata": {},
   "source": [
    "Kullandığımız karakter dizisinin böyle uzun olmasına da gerek yok. Tek karakterlik dizilerden bile küme oluşturabiliriz:"
   ]
  },
  {
   "cell_type": "code",
   "execution_count": 7,
   "id": "4ea95880-fd0a-437c-b676-7132ead1d1cd",
   "metadata": {},
   "outputs": [],
   "source": [
    "kardiz = \"a\"\n",
    "küme = set(kardiz)"
   ]
  },
  {
   "cell_type": "markdown",
   "id": "27311a51-8128-41fe-b231-555c450c34a3",
   "metadata": {},
   "source": [
    "Ama sayılardan küme oluşturamayız:\n",
    "\n"
   ]
  },
  {
   "cell_type": "code",
   "execution_count": 8,
   "id": "d6412813-c68d-48f5-8923-667f90f9352c",
   "metadata": {},
   "outputs": [
    {
     "ename": "TypeError",
     "evalue": "'int' object is not iterable",
     "output_type": "error",
     "traceback": [
      "\u001b[0;31m---------------------------------------------------------------------------\u001b[0m",
      "\u001b[0;31mTypeError\u001b[0m                                 Traceback (most recent call last)",
      "Cell \u001b[0;32mIn[8], line 2\u001b[0m\n\u001b[1;32m      1\u001b[0m n \u001b[38;5;241m=\u001b[39m \u001b[38;5;241m10\u001b[39m\n\u001b[0;32m----> 2\u001b[0m küme \u001b[38;5;241m=\u001b[39m \u001b[38;5;28;43mset\u001b[39;49m\u001b[43m(\u001b[49m\u001b[43mn\u001b[49m\u001b[43m)\u001b[49m\n",
      "\u001b[0;31mTypeError\u001b[0m: 'int' object is not iterable"
     ]
    }
   ],
   "source": [
    "n = 10\n",
    "küme = set(n)"
   ]
  },
  {
   "cell_type": "markdown",
   "id": "f4aab11c-ddbd-4367-8b89-099c69162086",
   "metadata": {},
   "source": [
    "Peki sözlükleri kullanarak küme oluşturabilir miyiz? Elbette, neden olmasın?"
   ]
  },
  {
   "cell_type": "code",
   "execution_count": 9,
   "id": "4fe34a89-cb4b-48e7-83e7-f89e1a45dd49",
   "metadata": {},
   "outputs": [],
   "source": [
    "bilgi = {\"işletim sistemi\": \"GNU\", \"sistem çekirdeği\": \"Linux\",\n",
    "\"dağıtım\": \"Ubuntu GNU/Linux\"}"
   ]
  },
  {
   "cell_type": "code",
   "execution_count": 10,
   "id": "fb7d19d9-d73d-4ccb-af09-c419d039fdb7",
   "metadata": {},
   "outputs": [],
   "source": [
    "küme = set(bilgi)"
   ]
  },
  {
   "cell_type": "markdown",
   "id": "80b4c02c-e9c5-4f1e-b6c0-0d801548b857",
   "metadata": {},
   "source": [
    "Küme oluşturmanın son bir yönteminden daha söz edelim. En başta söylediğimiz gibi, listeler, demetler, sözlükler ve karakter dizilerinin aksine kümelerin [ ], ( ), { }, ‘ ‘ gibi ayırt edici bir işareti yoktur. Ama eğer istersek sözlükleri oluşturmak için kullandığımız özel işaretleri küme oluşturmak için de kullanabiliriz. Dikkatlice bakın:"
   ]
  },
  {
   "cell_type": "code",
   "execution_count": 11,
   "id": "8cac1565-06b5-4685-af90-065a70b0dcad",
   "metadata": {},
   "outputs": [],
   "source": [
    "küme = {'Python', 'C++', 'Ruby', 'PHP'}"
   ]
  },
  {
   "cell_type": "markdown",
   "id": "dced0e1a-0e38-45d1-9144-48eb675e5ca4",
   "metadata": {},
   "source": [
    "Gördüğünüz gibi, aslında sözlüklerin ayırt edici işareti olan süslü parantezleri kullanarak ve öğeleri birbirinden virgülle ayırarak da küme adlı veri tipini elde edebiliyoruz. Teyit edelim bunu:"
   ]
  },
  {
   "cell_type": "code",
   "execution_count": 12,
   "id": "eb3c33b8-538d-43a7-9234-e117037628d7",
   "metadata": {},
   "outputs": [
    {
     "data": {
      "text/plain": [
       "set"
      ]
     },
     "execution_count": 12,
     "metadata": {},
     "output_type": "execute_result"
    }
   ],
   "source": [
    "type(küme)"
   ]
  },
  {
   "cell_type": "markdown",
   "id": "33d1076d-9aed-488c-b29e-c898e23fea23",
   "metadata": {},
   "source": [
    "Ancak bu yapıyı kullanarak boş bir küme oluşturamazsınız:"
   ]
  },
  {
   "cell_type": "code",
   "execution_count": 13,
   "id": "19750364-40e8-46fc-8499-799f92bd49b8",
   "metadata": {},
   "outputs": [],
   "source": [
    "küme = {}"
   ]
  },
  {
   "cell_type": "markdown",
   "id": "6e2ff8b0-a97e-4f44-9cd4-191c7985ab4c",
   "metadata": {},
   "source": [
    "Bu şekilde oluşturduğunuz şey bir küme değil, sözlük olacaktır:"
   ]
  },
  {
   "cell_type": "code",
   "execution_count": 14,
   "id": "d8c82f63-164c-49b5-98c5-a28832248254",
   "metadata": {},
   "outputs": [
    {
     "data": {
      "text/plain": [
       "dict"
      ]
     },
     "execution_count": 14,
     "metadata": {},
     "output_type": "execute_result"
    }
   ],
   "source": [
    "type(küme)"
   ]
  },
  {
   "cell_type": "markdown",
   "id": "83c14af8-4997-4bd3-9632-9c08894f0d03",
   "metadata": {},
   "source": [
    "Boş bir küme oluşturmak için set() fonksiyonunu kullanmanız gerektiğini biliyorsunuz:\n",
    "\n"
   ]
  },
  {
   "cell_type": "code",
   "execution_count": 15,
   "id": "9a290b01-6bee-48c0-826d-9c4be40785a7",
   "metadata": {},
   "outputs": [
    {
     "data": {
      "text/plain": [
       "set"
      ]
     },
     "execution_count": 15,
     "metadata": {},
     "output_type": "execute_result"
    }
   ],
   "source": [
    "küme = set(küme)\n",
    "type(küme)"
   ]
  },
  {
   "cell_type": "markdown",
   "id": "a9219f79-2da3-46c9-b69e-2293caa7909f",
   "metadata": {},
   "source": [
    "Böylece kümeleri nasıl oluşturacağımızı öğrendik. Eğer oluşturduğunuz kümeyi ekrana yazdırmak isterseniz, ne yapacağınızı biliyorsunuz. Tanımladığınız küme değişkenini kullanmanız yeterli olacaktır:"
   ]
  },
  {
   "cell_type": "code",
   "execution_count": 16,
   "id": "e6500c5c-3be6-489d-85e8-39c6fa25761f",
   "metadata": {},
   "outputs": [
    {
     "data": {
      "text/plain": [
       "set()"
      ]
     },
     "execution_count": 16,
     "metadata": {},
     "output_type": "execute_result"
    }
   ],
   "source": [
    "küme"
   ]
  },
  {
   "cell_type": "markdown",
   "id": "3a05ab2d-5f69-4287-a9e6-e16ae84392f8",
   "metadata": {},
   "source": [
    "Bu arada, bir sözlüğü kümeye çevirdiğinizde, elbette sözlüğün yalnızca anahtarları kümeye eklenecektir. Sözlüğün değerleri ise böyle bir işlemin sonucunda ortadan kaybolur.\n",
    "\n",
    "Eğer bir sözlüğü kümeye çevirirken hem anahtarları hem de değerleri korumak gibi bir niyetiniz varsa şöyle bir şey yazabilirsiniz:\n",
    "\n",
    "Sözlüğümüz şu:"
   ]
  },
  {
   "cell_type": "code",
   "execution_count": 17,
   "id": "6f596e96-cbc6-4437-b47b-1466bb8f40f2",
   "metadata": {},
   "outputs": [],
   "source": [
    "bilgi = {\"işletim sistemi\": \"GNU\", \"sistem çekirdeği\": \"Linux\",\n",
    "\"dağıtım\": \"Ubuntu GNU/Linux\"}"
   ]
  },
  {
   "cell_type": "markdown",
   "id": "726a747e-c953-4df6-a930-8d9e6f173fd9",
   "metadata": {},
   "source": [
    "Bu sözlükteki anahtar-değer çiftlerini bir küme içine, çift öğeli demetler olarak yerleştirebiliriz:\n",
    "\n"
   ]
  },
  {
   "cell_type": "code",
   "execution_count": 18,
   "id": "db62fa8c-b885-46d9-b445-ac37f2566892",
   "metadata": {},
   "outputs": [],
   "source": [
    "liste = [(anahtar, değer) for anahtar, değer in bilgi.items()]\n",
    "küme = set(liste)"
   ]
  },
  {
   "cell_type": "markdown",
   "id": "ea7853c0-576a-4df2-8eca-80343808740e",
   "metadata": {},
   "source": [
    "Gördüğünüz gibi, liste üreteçlerini kullanarak önce bir liste oluşturuyoruz. Bu liste her bir anahtarı ve değeri tek tek bir demet içine yerleştiriyor. Daha sonra da bu listeyi set() fonksiyonuna göndererek kümemizi oluşturuyoruz.\n",
    "\n",
    "+++++++++++Kümelerin Yapısı\n",
    "\n",
    "Bir önceki başlık altında kümelerin nasıl tanımlanacağını inceledik. Gelin şimdi de biraz kümelerin yapısından bahsedelim.\n",
    "\n",
    "Örneğin şöyle bir küme tanımlayalım:\n",
    "\n"
   ]
  },
  {
   "cell_type": "code",
   "execution_count": 19,
   "id": "dc0caa6b-73b8-4b88-a588-62493fee7e05",
   "metadata": {},
   "outputs": [
    {
     "name": "stdout",
     "output_type": "stream",
     "text": [
      "{'t', 'h', 'l', 'r', 'a', 'o', 'n', ' ', 'P', 'g', 'D', 'i', 'm', 'y'}\n"
     ]
    }
   ],
   "source": [
    "kardiz = \"Python Programlama Dili\"\n",
    "küme = set(kardiz)\n",
    "print(küme)\n"
   ]
  },
  {
   "cell_type": "markdown",
   "id": "55138006-f731-4d43-9f1d-546d9cd248ff",
   "metadata": {},
   "source": [
    "Burada bir şey dikkatinizi çekmiş olmalı. Bir öğeyi küme olarak tanımlayıp ekrana yazdırdığımızda elde ettiğimiz çıktı, o öğe içindeki her bir alt öğeyi tek bir kez içeriyor. Yani mesela “Python Programlama Dili” içinde iki adet “P” karakteri var, ama çıktıda bu iki “P” karakterinin yalnızca biri görünüyor. Buradan anlıyoruz ki, kümeler aynı öğeyi birden fazla tekrar etmez. Bu çok önemli bir özelliktir ve pek çok yerde işimize yarar. Aynı durum karakter dizisi dışında kalan öteki veri tipleri için de geçerlidir. Yani mesela eğer bir listeyi küme haline getiriyorsak, o listedeki öğeler küme içinde yalnızca bir kez geçecektir. Listede aynı öğeden iki-üç tane bulunsa bile, kümemiz bu öğeleri teke indirecektir.\n",
    "\n"
   ]
  },
  {
   "cell_type": "code",
   "execution_count": 20,
   "id": "73ba84a6-d06b-401e-b529-39348f4ecd96",
   "metadata": {},
   "outputs": [],
   "source": [
    "liste = [\"elma\", \"armut\", \"elma\", \"kebap\", \"şeker\", \"armut\",\n",
    "\"çilek\", \"ağaç\", \"şeker\", \"kebap\", \"şeker\"]\n"
   ]
  },
  {
   "cell_type": "code",
   "execution_count": 21,
   "id": "a571ed74-e633-4ee5-a3d6-289e67789810",
   "metadata": {},
   "outputs": [
    {
     "name": "stdout",
     "output_type": "stream",
     "text": [
      "şeker\n",
      "armut\n",
      "elma\n",
      "ağaç\n",
      "çilek\n",
      "kebap\n"
     ]
    }
   ],
   "source": [
    "for i in set(liste):\n",
    "    print(i)"
   ]
  },
  {
   "cell_type": "markdown",
   "id": "35884f2a-87cd-418c-9420-6db1071f6a28",
   "metadata": {},
   "source": [
    "Gördüğünüz gibi, liste içinde birden fazla bulunan öğeler, Python’daki kümeler yardımıyla teke indirilebiliyor.\n",
    "\n",
    "Öğrendiğimiz bu bilgi sayesinde, daha önce gördüğümüz count() metodunu da kullanarak, şöyle bir kod yazabiliriz:"
   ]
  },
  {
   "cell_type": "code",
   "execution_count": 22,
   "id": "6eda3fcb-55f8-441c-a5ec-f927e22b6ba7",
   "metadata": {},
   "outputs": [],
   "source": [
    "liste = [\"elma\", \"armut\", \"elma\", \"kiraz\",\n",
    "\"çilek\", \"kiraz\", \"elma\", \"kebap\"]"
   ]
  },
  {
   "cell_type": "code",
   "execution_count": 23,
   "id": "8ff5bd86-16a2-4677-853d-697a55384fda",
   "metadata": {},
   "outputs": [
    {
     "name": "stdout",
     "output_type": "stream",
     "text": [
      "armut listede 1 kez geçiyor!\n",
      "elma listede 3 kez geçiyor!\n",
      "kiraz listede 2 kez geçiyor!\n",
      "çilek listede 1 kez geçiyor!\n",
      "kebap listede 1 kez geçiyor!\n"
     ]
    }
   ],
   "source": [
    "for i in set(liste):\n",
    "    print(\"{} listede {} kez geçiyor!\".format(i, liste.count(i)))\n"
   ]
  },
  {
   "cell_type": "markdown",
   "id": "fe58fb51-3f6c-4675-a8bb-9e2839bc1591",
   "metadata": {},
   "source": [
    "Burada set(liste) ifadesini kullanarak, liste öğelerini eşşiz ve benzersiz bir hale getirdik.\n",
    "\n",
    "Kümelerin önemli bir özelliği de, tıpkı sözlükler gibi, herhangi bir şekilde ‘öğe sırası’ kavramına sahip olmamasıdır.\n",
    "\n",
    "Dikkatlice bakın:\n",
    "\n"
   ]
  },
  {
   "cell_type": "code",
   "execution_count": 24,
   "id": "8a5fbe2c-e085-4acd-acc3-f8a37b72a1a9",
   "metadata": {},
   "outputs": [
    {
     "data": {
      "text/plain": [
       "{'PyGobject', 'PyQT', 'Tkinter'}"
      ]
     },
     "execution_count": 24,
     "metadata": {},
     "output_type": "execute_result"
    }
   ],
   "source": [
    "arayüz_takımları = {'Tkinter', 'PyQT', 'PyGobject'}\n",
    "arayüz_takımları"
   ]
  },
  {
   "cell_type": "markdown",
   "id": "c6d30259-5ce5-41d9-a4d5-00d707998d6e",
   "metadata": {},
   "source": [
    "Sözlüklerde karşılaştığımız durumun aynısının kümeler için de geçerli olduğuna dikkatinizi çekmek isterim. Gördüğünüz gibi, arayüz_takımları adlı kümenin öğeleri, öğe tanımlama sırasını çıktıda korumuyor. Biz ‘Tkinter’ öğesini kümenin ilk sırasına yerleştirmiştik, ama bu öğe çıktıda en sona gitti… Aynen sözlüklerde olduğu gibi, kümelerde de öğelerin tanımlanma sırasına bel bağlayarak herhangi bir işlem yapamazsınız. Bu durumun bir yansıması olarak, küme öğelerine sıralarına göre de erişemezsiniz:\n",
    "\n"
   ]
  },
  {
   "cell_type": "code",
   "execution_count": 25,
   "id": "0dfa15cf-ea32-4f7e-8d58-ae20aedd85d2",
   "metadata": {},
   "outputs": [
    {
     "ename": "TypeError",
     "evalue": "'set' object is not subscriptable",
     "output_type": "error",
     "traceback": [
      "\u001b[0;31m---------------------------------------------------------------------------\u001b[0m",
      "\u001b[0;31mTypeError\u001b[0m                                 Traceback (most recent call last)",
      "Cell \u001b[0;32mIn[25], line 1\u001b[0m\n\u001b[0;32m----> 1\u001b[0m \u001b[43marayüz_takımları\u001b[49m\u001b[43m[\u001b[49m\u001b[38;5;241;43m0\u001b[39;49m\u001b[43m]\u001b[49m\n",
      "\u001b[0;31mTypeError\u001b[0m: 'set' object is not subscriptable"
     ]
    }
   ],
   "source": [
    "arayüz_takımları[0]\n"
   ]
  },
  {
   "cell_type": "markdown",
   "id": "b80b1800-a599-447f-b73d-3dc0946f1c64",
   "metadata": {},
   "source": [
    "Tıpkı hata mesajında da söylendiği gibi, küme adlı veri tipi açısından öğe sırası diye bir kavram yoktur…\n",
    "\n",
    "Esasında tek bir küme pek bir işe yaramaz. Kümeler ancak birden fazla olduğunda bunlarla yararlı işler yapabiliriz. Çünkü kümelerin en önemli özelliği, başka kümelerle karşılaştırılabilme kabiliyetidir. Yani mesela kümelerin kesişimini, birleşimini veya farkını bulabilmek için öncelikle elimizde birden fazla küme olması gerekiyor. İşte biz de şimdi bu tür işlemleri nasıl yapacağımızı öğreneceğiz. O halde hiç vakit kaybetmeden yolumuza devam edelim.\n",
    "\n",
    "+++++++++Küme Üreteçleri (Set Comprehensions)\n",
    "\n",
    "\n",
    "Bildiğiniz gibi liste üreteçleri, liste oluşturmanın kısa ve temiz bir yoludur. Aynı şekilde sözlük üreteçleri de sözlük oluşturmanın kısa ve temiz bir yoludur.\n",
    "\n",
    "İşte liste üreteçlerini ve sözlük üreteçlerini kullanarak nasıl tek satırda ve hızlı bir şekilde listeler ve sözlükler üretebiliyorsak, aynı şekilde küme üreteçlerini kullanarak tek satırda ve hızlı bir şekilde kümeler de üretebiliriz.\n",
    "\n",
    "Örneğin elimizde şöyle bir liste olduğunu düşünelim:\n",
    "\n"
   ]
  },
  {
   "cell_type": "code",
   "execution_count": 26,
   "id": "48290866-93a6-45f6-bb67-e556ce3622ad",
   "metadata": {},
   "outputs": [],
   "source": [
    "import random\n",
    "\n",
    "liste = [random.randint(0, 10000) for i in range(1000)]"
   ]
  },
  {
   "cell_type": "markdown",
   "id": "6d79cdb8-c806-446f-9c7e-47ef4ff0ec3e",
   "metadata": {},
   "source": [
    "Bu arada, buradaki random adlı modüle şimdilik takılmayın. Birkaç bölüm sonra bu modülü inceleyeceğiz. Biz şimdilik random’un da tıpkı sys ve os gibi bir modül olduğunu ve rastgele sayılar üretmemizi sağladığını bilelim yeter. Yukarıdaki kodlarda da bu modül 0 ile 10000 arasında rastgele 1000 adet sayı üretmemizi sağladı.\n",
    "\n",
    "Şimdi amacımız bu liste içinde yer alan sayılardan, değeri 100’den küçük olanları bulmak.\n",
    "\n",
    "Bunun için şu kodları kullanabiliriz:"
   ]
  },
  {
   "cell_type": "code",
   "execution_count": 35,
   "id": "c3724ac3-3883-4287-b14f-9f81f16a9db4",
   "metadata": {},
   "outputs": [
    {
     "name": "stdout",
     "output_type": "stream",
     "text": [
      "[28, 71, 46, 38, 89, 67, 5, 68, 4, 73, 29, 82, 4]\n"
     ]
    }
   ],
   "source": [
    "import random\n",
    "\n",
    "liste = [random.randint(0, 10000) for i in range(1000)]\n",
    "\n",
    "yüzden_küçük_sayılar = [i for i in liste if i < 100]\n",
    "print(yüzden_küçük_sayılar)"
   ]
  },
  {
   "cell_type": "markdown",
   "id": "e0c8bbcc-1234-4f35-b4a1-77a82c8c0a6c",
   "metadata": {},
   "source": [
    "Ancak ortaya çıkan listede aynı sayılardan birkaç tane olabilir. İşte eğer birbirinin aynı olmayan sayılardan oluşmuş bir listeyi hızlı ve pratik bir şekilde elde etmek istiyorsanız küme üreteçlerini kullanabilirsiniz:\n",
    "\n"
   ]
  },
  {
   "cell_type": "code",
   "execution_count": 36,
   "id": "a5275c62-1a22-48a5-874d-59b03068ae3b",
   "metadata": {},
   "outputs": [
    {
     "name": "stdout",
     "output_type": "stream",
     "text": [
      "{98, 69, 8, 73, 75, 49, 56, 91}\n"
     ]
    }
   ],
   "source": [
    "import random\n",
    "\n",
    "liste = [random.randint(0, 10000) for i in range(1000)]\n",
    "\n",
    "küme = {i for i in liste if i < 100}\n",
    "print(küme)"
   ]
  },
  {
   "cell_type": "markdown",
   "id": "5379cd6b-b07e-4598-8d20-5b76772209da",
   "metadata": {},
   "source": [
    "Gördüğünüz gibi, küme üreteçlerinin sözdizimi, liste ve sözlük üreteçlerinin sözdizimine çok benziyor.\n",
    "\n"
   ]
  },
  {
   "cell_type": "markdown",
   "id": "4d0d72c1-c503-4ecc-ab68-38c66710afa5",
   "metadata": {},
   "source": [
    "+++++++++Kümelerin Metotları\n",
    "\n",
    "\n",
    "Daha önceki veri tiplerinde olduğu gibi, kümelerin de metotları vardır. Artık biz bir veri tipinin metotlarını nasıl listeleyeceğimizi çok iyi biliyoruz. Nasıl liste için list(); demet için tuple(); sözlük için de dict() fonksiyonlarını kullanıyorsak, kümeler için de set() adlı fonksiyondan yararlanacağız:"
   ]
  },
  {
   "cell_type": "code",
   "execution_count": 37,
   "id": "a8f96c23-7785-413d-84f4-847cdebd41f3",
   "metadata": {},
   "outputs": [
    {
     "data": {
      "text/plain": [
       "['__and__',\n",
       " '__class__',\n",
       " '__class_getitem__',\n",
       " '__contains__',\n",
       " '__delattr__',\n",
       " '__dir__',\n",
       " '__doc__',\n",
       " '__eq__',\n",
       " '__format__',\n",
       " '__ge__',\n",
       " '__getattribute__',\n",
       " '__gt__',\n",
       " '__hash__',\n",
       " '__iand__',\n",
       " '__init__',\n",
       " '__init_subclass__',\n",
       " '__ior__',\n",
       " '__isub__',\n",
       " '__iter__',\n",
       " '__ixor__',\n",
       " '__le__',\n",
       " '__len__',\n",
       " '__lt__',\n",
       " '__ne__',\n",
       " '__new__',\n",
       " '__or__',\n",
       " '__rand__',\n",
       " '__reduce__',\n",
       " '__reduce_ex__',\n",
       " '__repr__',\n",
       " '__ror__',\n",
       " '__rsub__',\n",
       " '__rxor__',\n",
       " '__setattr__',\n",
       " '__sizeof__',\n",
       " '__str__',\n",
       " '__sub__',\n",
       " '__subclasshook__',\n",
       " '__xor__',\n",
       " 'add',\n",
       " 'clear',\n",
       " 'copy',\n",
       " 'difference',\n",
       " 'difference_update',\n",
       " 'discard',\n",
       " 'intersection',\n",
       " 'intersection_update',\n",
       " 'isdisjoint',\n",
       " 'issubset',\n",
       " 'issuperset',\n",
       " 'pop',\n",
       " 'remove',\n",
       " 'symmetric_difference',\n",
       " 'symmetric_difference_update',\n",
       " 'union',\n",
       " 'update']"
      ]
     },
     "execution_count": 37,
     "metadata": {},
     "output_type": "execute_result"
    }
   ],
   "source": [
    "dir(set)"
   ]
  },
  {
   "cell_type": "markdown",
   "id": "50eb62c8-f456-477c-9d2c-135f93464319",
   "metadata": {},
   "source": [
    "Hemen işimize yarayacak metotları alalım:\n",
    "\n"
   ]
  },
  {
   "cell_type": "code",
   "execution_count": 41,
   "id": "92c27bc9-8069-44c1-a49f-82a0dfe1a464",
   "metadata": {},
   "outputs": [
    {
     "name": "stdout",
     "output_type": "stream",
     "text": [
      "add\n",
      "clear\n",
      "copy\n",
      "difference\n",
      "difference_update\n",
      "discard\n",
      "intersection\n",
      "intersection_update\n",
      "isdisjoint\n",
      "issubset\n",
      "issuperset\n",
      "pop\n",
      "remove\n",
      "symmetric_difference\n",
      "symmetric_difference_update\n",
      "union\n",
      "update\n"
     ]
    }
   ],
   "source": [
    "for i in dir(set):\n",
    "    if \"__\" not in i:\n",
    "        print(i)"
   ]
  },
  {
   "cell_type": "markdown",
   "id": "7a3691fd-4aa7-4ae7-b8d7-cf8a7a23fa51",
   "metadata": {},
   "source": [
    "Gördüğünüz gibi kümelerin epey metodu var. Bu arada if \"__\" not in i satırında “_” yerine “__” kullandığımıza dikkat edin. Neden? Çünkü eğer sadece “_” kullanırsak symmetric_difference ve symmetric_difference_update metotları çıktımızda yer almayacaktır.\n",
    "\n",
    "Unutmadan söyleyelim: Kümeler de, tıpkı listeler ve sözlükler gibi, değiştirilebilir bir veri tipidir.\n",
    "\n",
    "+++++++++++clear()\n",
    "\n",
    "\n",
    "Kümelerle ilgili olarak inceleyeceğimiz ilk metot clear(). Bu metodu daha önce sözlükleri çalışırken de görmüştük. Sözlüklerde bu metodun görevi sözlüğün içini boşaltmak idi. Burada da aynı vazifeyi görür:"
   ]
  },
  {
   "cell_type": "code",
   "execution_count": 42,
   "id": "76d2838e-ae3e-4d85-b5b8-8b3780dc20ab",
   "metadata": {},
   "outputs": [
    {
     "name": "stdout",
     "output_type": "stream",
     "text": [
      "n\n",
      "d\n",
      "a\n"
     ]
    }
   ],
   "source": [
    "km = set(\"adana\")\n",
    "for i in km:\n",
    "    print(i)\n"
   ]
  },
  {
   "cell_type": "code",
   "execution_count": 43,
   "id": "d1e2c2ee-eaf3-4012-acac-3fd4667a34ae",
   "metadata": {},
   "outputs": [
    {
     "data": {
      "text/plain": [
       "set()"
      ]
     },
     "execution_count": 43,
     "metadata": {},
     "output_type": "execute_result"
    }
   ],
   "source": [
    "km.clear()\n",
    "km"
   ]
  },
  {
   "cell_type": "markdown",
   "id": "125796d1-cb3f-4ea4-a51e-3726116ecbdd",
   "metadata": {},
   "source": [
    "Burada önce “km” adlı bir küme oluşturduk. Daha sonra da clear() metodunu kullanarak bu kümenin bütün öğelerini sildik. Artık elimizde boş bir küme var."
   ]
  },
  {
   "cell_type": "markdown",
   "id": "3fa70de2-6975-4099-b7eb-33ed6ffae23a",
   "metadata": {},
   "source": [
    "+++++++++++copy()\n",
    "\n",
    "\n",
    "Listeler ve sözlükleri incelerken copy() adlı bir metot öğrenmiştik. Bu metot aynı zamanda kümelerle birlikte de kullanılabilir. Üstelik işlevi de aynıdır:\n",
    "\n"
   ]
  },
  {
   "cell_type": "code",
   "execution_count": 44,
   "id": "bb2e4f7f-1f99-4525-8752-1e14e3662581",
   "metadata": {},
   "outputs": [
    {
     "data": {
      "text/plain": [
       "{'a', 'h', 'k', 'm', 'n', 'r', 'ş'}"
      ]
     },
     "execution_count": 44,
     "metadata": {},
     "output_type": "execute_result"
    }
   ],
   "source": [
    "km = set(\"kahramanmaraş\")\n",
    "yedek = km.copy()\n",
    "yedek\n"
   ]
  },
  {
   "cell_type": "code",
   "execution_count": 45,
   "id": "4cf76435-5053-4737-8d16-e68684299c19",
   "metadata": {},
   "outputs": [
    {
     "data": {
      "text/plain": [
       "{'a', 'h', 'k', 'm', 'n', 'r', 'ş'}"
      ]
     },
     "execution_count": 45,
     "metadata": {},
     "output_type": "execute_result"
    }
   ],
   "source": [
    "km"
   ]
  },
  {
   "cell_type": "markdown",
   "id": "2e7a8779-a7ab-4490-bc65-e01d3b765f06",
   "metadata": {},
   "source": [
    "Burada bir şey dikkatinizi çekmiş olmalı. “km” adlı kümeyi “yedek” adıyla kopyaladık, ama bu iki kümenin çıktılarına baktığımız zaman öğe sıralamasının birbirinden farklı olduğunu görüyoruz. Biliyorsunuz, tıpkı sözlüklerde olduğu gibi, kümeler de sırasız veri tipleridir. Bu yüzden, elde ettiğimiz çıktıda öğeler rastgele diziliyor. Dolayısıyla öğelere sıralarına göre erişemiyoruz. Aynen sözlüklerde olduğu gibi…"
   ]
  },
  {
   "cell_type": "markdown",
   "id": "ae8fd97b-93a9-44c8-a8dc-4493f55dd849",
   "metadata": {},
   "source": [
    "+++++++++++add()\n",
    "\n",
    "\n",
    "Kümelerden bahsederken, bunların değiştirilebilir bir veri tipi olduğunu söylemiştik. Dolayısıyla kümeler, üzerlerinde değişiklik yapmamıza müsaade eden metotlar da içerir. Örneğin add() bu tür metotlardan biridir. Add kelimesi Türkçe’de “eklemek” anlamına gelir. Adından da anlaşılacağı gibi, bu metot yardımıyla kümelerimize yeni öğeler ilave edebileceğiz. Hemen bunun nasıl kullanıldığına bakalım:"
   ]
  },
  {
   "cell_type": "code",
   "execution_count": 46,
   "id": "a4478548-2042-44d1-802c-95b487b2c0cc",
   "metadata": {},
   "outputs": [
    {
     "name": "stdout",
     "output_type": "stream",
     "text": [
      "{'kebap', 'elma', 'çilek', 'armut'}\n"
     ]
    }
   ],
   "source": [
    "küme = set([\"elma\", \"armut\", \"kebap\"])\n",
    "küme.add(\"çilek\")\n",
    "print(küme)\n"
   ]
  },
  {
   "cell_type": "markdown",
   "id": "316fd2b3-1123-4db4-b3e8-26d152fd6b95",
   "metadata": {},
   "source": [
    "Gördüğünüz gibi, add() metodunu kullanarak, kümemize çilek adlı yeni bir öğe ekledik. Eğer kümede zaten varolan bir öğe eklemeye çalışırsak kümede herhangi bir değişiklik olmayacaktır. Çünkü, daha önce de söylediğimiz gibi, kümeler her bir öğeyi tek bir sayıda barındırır.\n",
    "\n",
    "Eğer bir kümeye birden fazla öğeyi aynı anda eklemek isterseniz for döngüsünden yararlanabilirsiniz:\n",
    "\n"
   ]
  },
  {
   "cell_type": "code",
   "execution_count": 47,
   "id": "5e493ec3-4e49-424a-aa3b-5181719ad1f8",
   "metadata": {},
   "outputs": [],
   "source": [
    "yeni = [1,2,3]\n",
    "for i in yeni:\n",
    "    küme.add(i)"
   ]
  },
  {
   "cell_type": "code",
   "execution_count": 48,
   "id": "07aa8a7a-75d7-4d7a-9a0e-49855ea653e8",
   "metadata": {},
   "outputs": [
    {
     "data": {
      "text/plain": [
       "{1, 2, 3, 'armut', 'elma', 'kebap', 'çilek'}"
      ]
     },
     "execution_count": 48,
     "metadata": {},
     "output_type": "execute_result"
    }
   ],
   "source": [
    "küme\n"
   ]
  },
  {
   "cell_type": "markdown",
   "id": "14b59aa2-3bd3-4995-b997-07c7cab32fb7",
   "metadata": {},
   "source": [
    "Burada yeni adlı listeyi kümeye for döngüsü ile ekledik. Ama bu işlemi yapmanın başka bir yolu daha vardır. Bu işlem için Python’da ayrı bir metot bulunur. Bu metodun adı update() metodudur. Sırası gelince bu metodu da göreceğiz.\n",
    "\n",
    "Bu arada, yeri gelmişken kümelerin önemli bir özelliğinden daha söz edelim. Bir kümeye herhangi bir öğe ekleyebilmemiz için, o öğenin değiştirilemeyen (immutable) bir veri tipi olması gerekiyor. Bildiğiniz gibi Python’daki şu veri tipleri değiştirilemeyen veri tipleridir:\n",
    "\n",
    "Demetler\n",
    "\n",
    "Sayılar\n",
    "\n",
    "Karakter Dizileri\n",
    "\n",
    "Şu veri tipleri ise değiştirilebilen veri tipleridir:\n",
    "\n",
    "Listeler\n",
    "\n",
    "Sözlükler\n",
    "\n",
    "Kümeler\n",
    "\n",
    "Dolayısıyla bir kümeye ancak şu veri tiplerini ekleyebiliriz:\n",
    "\n",
    "Demetler\n",
    "\n",
    "Sayılar\n",
    "\n",
    "Karakter Dizileri\n",
    "\n",
    "Şu kodları dikkatlice inceleyin:\n",
    "\n",
    "Önce boş bir küme oluşturalım:\n",
    "\n"
   ]
  },
  {
   "cell_type": "code",
   "execution_count": 49,
   "id": "e15da034-11b0-49a7-bad0-59d3637d03bf",
   "metadata": {},
   "outputs": [],
   "source": [
    "küme = set()"
   ]
  },
  {
   "cell_type": "markdown",
   "id": "edca9029-1722-43b8-9725-5cdf3895455a",
   "metadata": {
    "scrolled": true
   },
   "source": [
    "Bu kümeye bir demet ekleyelim:"
   ]
  },
  {
   "cell_type": "code",
   "execution_count": 52,
   "id": "4056049d-f929-48e4-b30a-c7d8e668d3ba",
   "metadata": {},
   "outputs": [
    {
     "data": {
      "text/plain": [
       "{(1, 2, 3)}"
      ]
     },
     "execution_count": 52,
     "metadata": {},
     "output_type": "execute_result"
    }
   ],
   "source": [
    "l = (1,2,3)\n",
    "küme.add(l)\n",
    "küme"
   ]
  },
  {
   "cell_type": "markdown",
   "id": "25b2e21a-cd28-4ae2-905d-0c735b0c31a1",
   "metadata": {},
   "source": [
    "Bir sayı ekleyelim:"
   ]
  },
  {
   "cell_type": "code",
   "execution_count": 53,
   "id": "ddff7202-e585-4410-9efb-f68898562187",
   "metadata": {},
   "outputs": [
    {
     "data": {
      "text/plain": [
       "{(1, 2, 3), 45}"
      ]
     },
     "execution_count": 53,
     "metadata": {},
     "output_type": "execute_result"
    }
   ],
   "source": [
    "l = 45\n",
    "küme.add(l)\n",
    "küme"
   ]
  },
  {
   "cell_type": "markdown",
   "id": "c949db77-834f-4a30-b09b-8411cd9f1ba7",
   "metadata": {},
   "source": [
    "Bir karakter dizisi ekleyelim:"
   ]
  },
  {
   "cell_type": "code",
   "execution_count": 54,
   "id": "92fc5e05-810c-4bf6-a3aa-5afce6af7c8b",
   "metadata": {},
   "outputs": [
    {
     "data": {
      "text/plain": [
       "{(1, 2, 3), 45, 'Jacques Derrida'}"
      ]
     },
     "execution_count": 54,
     "metadata": {},
     "output_type": "execute_result"
    }
   ],
   "source": [
    "l = 'Jacques Derrida'\n",
    "küme.add(l)\n",
    "küme"
   ]
  },
  {
   "cell_type": "code",
   "execution_count": 55,
   "id": "35a48887-21fd-40a4-af6e-fbf43b1a909f",
   "metadata": {},
   "outputs": [
    {
     "ename": "TypeError",
     "evalue": "unhashable type: 'list'",
     "output_type": "error",
     "traceback": [
      "\u001b[0;31m---------------------------------------------------------------------------\u001b[0m",
      "\u001b[0;31mTypeError\u001b[0m                                 Traceback (most recent call last)",
      "Cell \u001b[0;32mIn[55], line 2\u001b[0m\n\u001b[1;32m      1\u001b[0m l \u001b[38;5;241m=\u001b[39m [\u001b[38;5;241m1\u001b[39m,\u001b[38;5;241m2\u001b[39m,\u001b[38;5;241m3\u001b[39m]\n\u001b[0;32m----> 2\u001b[0m \u001b[43mküme\u001b[49m\u001b[38;5;241;43m.\u001b[39;49m\u001b[43madd\u001b[49m\u001b[43m(\u001b[49m\u001b[43ml\u001b[49m\u001b[43m)\u001b[49m\n",
      "\u001b[0;31mTypeError\u001b[0m: unhashable type: 'list'"
     ]
    }
   ],
   "source": [
    "l = [1,2,3]\n",
    "küme.add(l)\n"
   ]
  },
  {
   "cell_type": "markdown",
   "id": "213b9f06-20fc-4e55-91ee-7a1e7d69f6ac",
   "metadata": {},
   "source": [
    "Kümemize bir sözlük eklemeye çalışalım:\n",
    "\n"
   ]
  },
  {
   "cell_type": "code",
   "execution_count": 56,
   "id": "0af94918-4e7e-42e0-b817-8dc30c27c18f",
   "metadata": {},
   "outputs": [
    {
     "ename": "TypeError",
     "evalue": "unhashable type: 'dict'",
     "output_type": "error",
     "traceback": [
      "\u001b[0;31m---------------------------------------------------------------------------\u001b[0m",
      "\u001b[0;31mTypeError\u001b[0m                                 Traceback (most recent call last)",
      "Cell \u001b[0;32mIn[56], line 2\u001b[0m\n\u001b[1;32m      1\u001b[0m l \u001b[38;5;241m=\u001b[39m {\u001b[38;5;124m\"\u001b[39m\u001b[38;5;124ma\u001b[39m\u001b[38;5;124m\"\u001b[39m: \u001b[38;5;241m1\u001b[39m, \u001b[38;5;124m\"\u001b[39m\u001b[38;5;124mb\u001b[39m\u001b[38;5;124m\"\u001b[39m: \u001b[38;5;241m2\u001b[39m, \u001b[38;5;124m\"\u001b[39m\u001b[38;5;124mc\u001b[39m\u001b[38;5;124m\"\u001b[39m: \u001b[38;5;241m3\u001b[39m}\n\u001b[0;32m----> 2\u001b[0m \u001b[43mküme\u001b[49m\u001b[38;5;241;43m.\u001b[39;49m\u001b[43madd\u001b[49m\u001b[43m(\u001b[49m\u001b[43ml\u001b[49m\u001b[43m)\u001b[49m\n",
      "\u001b[0;31mTypeError\u001b[0m: unhashable type: 'dict'"
     ]
    }
   ],
   "source": [
    "l = {\"a\": 1, \"b\": 2, \"c\": 3}\n",
    "küme.add(l)"
   ]
  },
  {
   "cell_type": "markdown",
   "id": "d8ba4b45-c3ca-4078-963d-928bec0570be",
   "metadata": {},
   "source": [
    "Kümemize bir küme eklemeye çalışalım:\n",
    "\n"
   ]
  },
  {
   "cell_type": "code",
   "execution_count": 57,
   "id": "6de4b62c-135a-4dfb-8bda-46eafa6b01bf",
   "metadata": {},
   "outputs": [
    {
     "ename": "TypeError",
     "evalue": "unhashable type: 'set'",
     "output_type": "error",
     "traceback": [
      "\u001b[0;31m---------------------------------------------------------------------------\u001b[0m",
      "\u001b[0;31mTypeError\u001b[0m                                 Traceback (most recent call last)",
      "Cell \u001b[0;32mIn[57], line 2\u001b[0m\n\u001b[1;32m      1\u001b[0m l \u001b[38;5;241m=\u001b[39m {\u001b[38;5;241m1\u001b[39m, \u001b[38;5;241m2\u001b[39m, \u001b[38;5;241m3\u001b[39m}\n\u001b[0;32m----> 2\u001b[0m \u001b[43mküme\u001b[49m\u001b[38;5;241;43m.\u001b[39;49m\u001b[43madd\u001b[49m\u001b[43m(\u001b[49m\u001b[43ml\u001b[49m\u001b[43m)\u001b[49m\n",
      "\u001b[0;31mTypeError\u001b[0m: unhashable type: 'set'"
     ]
    }
   ],
   "source": [
    "l = {1, 2, 3}\n",
    "küme.add(l)"
   ]
  },
  {
   "cell_type": "markdown",
   "id": "2c839843-bbcd-43dc-ae79-5ab115131159",
   "metadata": {},
   "source": [
    "Gördüğünüz gibi, tıpkı sözlüklerde olduğu gibi, bir kümeye herhangi bir veri ekleyebilmemiz için o verinin ‘değiştirilemeyen’ bir veri tipi olması gerekiyor.\n",
    "\n",
    "++++++++++++difference()\n",
    "\n",
    "\n",
    "Bu metot iki kümenin farkını almamızı sağlar. Örneğin:"
   ]
  },
  {
   "cell_type": "code",
   "execution_count": 58,
   "id": "7d2e729e-bb3d-4cf0-99a2-56b1db0e3a71",
   "metadata": {},
   "outputs": [
    {
     "data": {
      "text/plain": [
       "{1, 5}"
      ]
     },
     "execution_count": 58,
     "metadata": {},
     "output_type": "execute_result"
    }
   ],
   "source": [
    "k1 = set([1, 2, 3, 5])\n",
    "k2 = set([3, 4, 2, 10])\n",
    "\n",
    "k1.difference(k2)"
   ]
  },
  {
   "cell_type": "markdown",
   "id": "198c7266-50e7-4d4d-93c1-bb3a3b7b7af9",
   "metadata": {},
   "source": [
    "Demek ki k1’in k2’den farkı buymuş. Peki k2’nin k1’den farkını bulmak istersek ne yapacağız?"
   ]
  },
  {
   "cell_type": "code",
   "execution_count": 59,
   "id": "9f43e3ef-8310-483c-9752-e245c668902c",
   "metadata": {},
   "outputs": [
    {
     "data": {
      "text/plain": [
       "{4, 10}"
      ]
     },
     "execution_count": 59,
     "metadata": {},
     "output_type": "execute_result"
    }
   ],
   "source": [
    "k2.difference(k1)"
   ]
  },
  {
   "cell_type": "markdown",
   "id": "6031984f-ffd2-4044-ab59-e0c421ba3b62",
   "metadata": {},
   "source": [
    "Gördüğünüz gibi, birinci kullanımda, k1’de bulunup k2’de bulunmayan öğeleri elde ediyoruz. İkinci kullanımda ise bunun tam tersi. Yani ikinci kullanımda k2’de bulunup k1’de bulunmayan öğeleri alıyoruz.\n",
    "\n",
    "İsterseniz uzun uzun difference() metodunu kullanmak yerine sadece eksi (-) işaretini kullanarak da aynı sonucu elde edebilirsiniz:"
   ]
  },
  {
   "cell_type": "code",
   "execution_count": 60,
   "id": "7fd0981c-5034-4408-aa23-178e641db22e",
   "metadata": {},
   "outputs": [
    {
     "data": {
      "text/plain": [
       "{1, 5}"
      ]
     },
     "execution_count": 60,
     "metadata": {},
     "output_type": "execute_result"
    }
   ],
   "source": [
    "k1 - k2"
   ]
  },
  {
   "cell_type": "markdown",
   "id": "b2f48585-656b-40fd-aa2e-3abdfd4bf6ac",
   "metadata": {},
   "source": [
    "…veya…"
   ]
  },
  {
   "cell_type": "code",
   "execution_count": 61,
   "id": "802a19c6-875f-4cb9-9c87-baf4a4677255",
   "metadata": {},
   "outputs": [
    {
     "data": {
      "text/plain": [
       "{4, 10}"
      ]
     },
     "execution_count": 61,
     "metadata": {},
     "output_type": "execute_result"
    }
   ],
   "source": [
    "k2 - k1"
   ]
  },
  {
   "cell_type": "markdown",
   "id": "35d75242-3b28-48a7-bb00-4c39c5c04e23",
   "metadata": {},
   "source": [
    "Hayır, “madem eksi işaretini kullanabiliyoruz, o halde artı işaretini de kullanabiliriz!” gibi bir fikir doğru değildir."
   ]
  },
  {
   "cell_type": "markdown",
   "id": "2f0cac91-dd91-4593-a8fb-24969dc83f8d",
   "metadata": {},
   "source": [
    "++++++++++++difference_update()\n",
    "\n",
    "\n",
    "Bu metot, difference() metodundan elde edilen sonuca göre bir kümenin güncellenmesini sağlar. Yani? Hemen bir örnek verelim:"
   ]
  },
  {
   "cell_type": "code",
   "execution_count": 62,
   "id": "0263ccb7-7f08-4138-a0b8-e7cf3c14e05f",
   "metadata": {},
   "outputs": [
    {
     "name": "stdout",
     "output_type": "stream",
     "text": [
      "{2}\n"
     ]
    }
   ],
   "source": [
    "k1 = set([1, 2, 3])\n",
    "k2 = set([1, 3, 5])\n",
    "k1.difference_update(k2)\n",
    "print(k1)\n"
   ]
  },
  {
   "cell_type": "code",
   "execution_count": 63,
   "id": "0b5ad53f-3787-490f-8e0e-0c013c03176e",
   "metadata": {},
   "outputs": [
    {
     "name": "stdout",
     "output_type": "stream",
     "text": [
      "{1, 3, 5}\n"
     ]
    }
   ],
   "source": [
    "print(k2)"
   ]
  },
  {
   "cell_type": "markdown",
   "id": "02a474ed-fa25-4b6c-aaeb-94eac6e4a150",
   "metadata": {},
   "source": [
    "Gördüğünüz gibi, bu metot k1’in k2’den farkını aldı ve bu farkı kullanarak k1’i yeniden oluşturdu. k1 ile k2 arasındaki tek fark 2 adlı öğe idi. Dolayısıyla difference_update() metodunu uyguladığımızda k1’in öğelerinin silinip yerlerine 2 adlı öğenin geldiğini görüyoruz."
   ]
  },
  {
   "cell_type": "markdown",
   "id": "6807077d-1a26-4462-b0af-9d023fefda01",
   "metadata": {},
   "source": [
    "++++++++++++discard()\n",
    "\n",
    "\n",
    "Bir önceki bölümde öğrendiğimiz add() metodu yardımıyla, önceden oluşturduğumuz bir kümeye yeni öğeler ekleyebiliyorduk. Bu bölümde öğreneceğimiz discard() metodu ise kümeden öğe silmemizi sağlayacak:"
   ]
  },
  {
   "cell_type": "code",
   "execution_count": 64,
   "id": "f7f6572c-5aa0-468d-9130-347bb60daa00",
   "metadata": {},
   "outputs": [
    {
     "name": "stdout",
     "output_type": "stream",
     "text": [
      "{'inek', 'kuş', 'at', 'deve', 'köpek'}\n"
     ]
    }
   ],
   "source": [
    "hayvanlar = set([\"kedi\", \"köpek\", \"at\", \"kuş\", \"inek\", \"deve\"])\n",
    "hayvanlar.discard(\"kedi\")\n",
    "print(hayvanlar)"
   ]
  },
  {
   "cell_type": "markdown",
   "id": "afc8364a-4a7d-445d-b47c-6a95f71f09cb",
   "metadata": {},
   "source": [
    "Eğer küme içinde bulunmayan bir öğe silmeye çalışırsak hiç bir şey olmaz. Yani hata mesajı almayız:\n",
    "\n"
   ]
  },
  {
   "cell_type": "code",
   "execution_count": 65,
   "id": "31a834af-a293-43da-adf7-97f789a1539e",
   "metadata": {},
   "outputs": [],
   "source": [
    "hayvanlar.discard(\"yılan\")"
   ]
  },
  {
   "cell_type": "markdown",
   "id": "bd1e5cd7-794f-4d97-906e-ae8ff230df45",
   "metadata": {},
   "source": [
    "Burada etkileşimli kabuk sessizce bir alt satıra geçecektir. Bu metodun en önemli özelliği budur. Yani olmayan bir öğeyi silmeye çalıştığımızda hata vermemesi.\n",
    "\n"
   ]
  },
  {
   "cell_type": "markdown",
   "id": "f07450a1-29a9-4b8d-91c0-ab8b597af3c5",
   "metadata": {},
   "source": [
    "+++++++++remove()\n",
    "\n",
    "\n",
    "Bu metot da bir önceki bölümde gördüğümüz discard() metoduyla aynı işlevi yerine getirir. Eğer bir kümeden öğe silmek istersek remove() metodunu da kullanabiliriz:"
   ]
  },
  {
   "cell_type": "code",
   "execution_count": 66,
   "id": "f8073525-0cd5-4695-a093-80421a95471c",
   "metadata": {},
   "outputs": [],
   "source": [
    "hayvanlar.remove(\"köpek\")"
   ]
  },
  {
   "cell_type": "markdown",
   "id": "132959ea-209e-4d85-a7cc-e68d1a11d331",
   "metadata": {},
   "source": [
    "Peki discard() varken remove() metoduna ne gerek var? Ya da tersi.\n",
    "\n",
    "Bu iki metot aynı işlevi yerine getirse de aralarında önemli bir fark vardır. Hatırlarsanız discard() metoduyla, kümede olmayan bir öğeyi silmeye çalışırsak herhangi bir hata mesajı almayacağımızı söylemiştik. Eğer remove() metodunu kullanarak, kümede olmayan bir öğeyi silmeye çalışırsak, discard() metodunun aksine, hata mesajı alırız:"
   ]
  },
  {
   "cell_type": "code",
   "execution_count": 67,
   "id": "ff6705cf-3e15-47dd-a3c3-376ad6a31c38",
   "metadata": {},
   "outputs": [
    {
     "ename": "KeyError",
     "evalue": "'fare'",
     "output_type": "error",
     "traceback": [
      "\u001b[0;31m---------------------------------------------------------------------------\u001b[0m",
      "\u001b[0;31mKeyError\u001b[0m                                  Traceback (most recent call last)",
      "Cell \u001b[0;32mIn[67], line 1\u001b[0m\n\u001b[0;32m----> 1\u001b[0m \u001b[43mhayvanlar\u001b[49m\u001b[38;5;241;43m.\u001b[39;49m\u001b[43mremove\u001b[49m\u001b[43m(\u001b[49m\u001b[38;5;124;43m\"\u001b[39;49m\u001b[38;5;124;43mfare\u001b[39;49m\u001b[38;5;124;43m\"\u001b[39;49m\u001b[43m)\u001b[49m\n",
      "\u001b[0;31mKeyError\u001b[0m: 'fare'"
     ]
    }
   ],
   "source": [
    "hayvanlar.remove(\"fare\")\n"
   ]
  },
  {
   "cell_type": "markdown",
   "id": "c6198c02-76a4-4c38-ae9c-e3c3e0b69df5",
   "metadata": {},
   "source": [
    "Bu iki metot arasındaki bu fark önemli bir farktır. Bazen yazdığınız programlarda, duruma göre her iki özelliğe de ihtiyacınız olabilir.\n",
    "\n"
   ]
  },
  {
   "cell_type": "markdown",
   "id": "53ca9ee6-14de-42bc-9ee3-3a4b022ec8f1",
   "metadata": {},
   "source": [
    "+++++++++intersection()\n",
    "\n",
    "\n",
    "intersection kelimesi Türkçe’de “kesişim” anlamına gelir. Adından da anladığımız gibi, intersection() metodu bize iki kümenin kesişim kümesini verecektir:"
   ]
  },
  {
   "cell_type": "code",
   "execution_count": 68,
   "id": "0bb36600-039c-4079-a83a-c05aba897bb5",
   "metadata": {},
   "outputs": [
    {
     "data": {
      "text/plain": [
       "{1, 3}"
      ]
     },
     "execution_count": 68,
     "metadata": {},
     "output_type": "execute_result"
    }
   ],
   "source": [
    "k1 = set([1, 2, 3, 4])\n",
    "k2 = set([1, 3, 5, 7])\n",
    "k1.intersection(k2)\n"
   ]
  },
  {
   "cell_type": "markdown",
   "id": "3a238a75-d23e-4fc3-a49b-1867e9eab73d",
   "metadata": {},
   "source": [
    "Gördüğünüz gibi, bu metot bize k1 ve k2’nin kesişim kümesini veriyor. Dolayısıyla bu iki küme arasındaki ortak elemanları bulmuş oluyoruz.\n",
    "\n",
    "Hatırlarsanız, difference() metodunu anlatırken, difference() kelimesi yerine “-” işaretini de kullanabileceğimiz, söylemiştik. Benzer bir durum intersection() metodu için de geçerlidir. İki kümenin kesişimini bulmak için “&” işaretinden yararlanabiliriz:"
   ]
  },
  {
   "cell_type": "code",
   "execution_count": 69,
   "id": "95fdb7a0-18f5-4575-87a1-bd548584d7e8",
   "metadata": {},
   "outputs": [
    {
     "data": {
      "text/plain": [
       "{1, 3}"
      ]
     },
     "execution_count": 69,
     "metadata": {},
     "output_type": "execute_result"
    }
   ],
   "source": [
    "k1 & k2"
   ]
  },
  {
   "cell_type": "markdown",
   "id": "59a8c3cb-57a1-4977-851c-eac7c2570fe7",
   "metadata": {},
   "source": [
    "Python programcıları genellikle uzun uzun intersection yazmak yerine “&” işaretini kullanırlar…\n",
    "\n",
    "İsterseniz bu metot için örnek bir program verelim. Böylece gerçek hayatta bu metodu nasıl kullanabileceğimizi görmüş oluruz:"
   ]
  },
  {
   "cell_type": "code",
   "execution_count": null,
   "id": "4d1ac83a-dd66-4897-b60e-58f8ecf29398",
   "metadata": {},
   "outputs": [],
   "source": [
    "tr = \"şçöğüıŞÇÖĞÜİ\"\n",
    "\n",
    "parola = input(\"Sisteme giriş için bir parola belirleyin: \")\n",
    "\n",
    "if set(tr) & set(parola):\n",
    "    print(\"Parolanızda Türkçe harfler kullanmayın!\")\n",
    "\n",
    "else:\n",
    "    print(\"Parolanız kabul edildi!\")\n"
   ]
  },
  {
   "cell_type": "markdown",
   "id": "6260620c-f0a0-4036-a64d-822c503c45fb",
   "metadata": {},
   "source": [
    "Burada eğer kullanıcı, parola belirlerken içinde Türkçe bir harf geçen bir kelime yazarsa programımız kendisini Türkçe harf kullanmaması konusunda uyaracaktır. Bu kodlarda kümeleri nasıl kullandığımıza dikkat edin. Programda asıl işi yapan kısım şu satırdır:"
   ]
  },
  {
   "cell_type": "code",
   "execution_count": null,
   "id": "646ba2b2-12dc-4261-a8b6-2182887c936d",
   "metadata": {},
   "outputs": [],
   "source": [
    "if set(tr) & set(parola):\n",
    "    print(\"Parolanızda Türkçe harfler kullanmayın!\")"
   ]
  },
  {
   "cell_type": "markdown",
   "id": "720774f1-0278-4306-a29c-010398159a6f",
   "metadata": {},
   "source": [
    "Burada aslında şöyle bir şey demiş oluyoruz:\n",
    "\n",
    "Eğer set(tr) ve set(parola) kümelerinin kesişim kümesi boş değilse, kullanıcıya “Parolanızda Türkçe harfler kullanmayın!” uyarısını göster!\n",
    "\n",
    "set(tr) ve set(parola) kümelerinin kesişim kümesinin boş olmaması, kullanıcının girdiği kelime içindeki harflerden en az birinin tr adlı değişken içinde geçtiği anlamına gelir. Burada basitçe, tr değişkeni ile parola değişkeni arasındaki ortak öğeleri sorguluyoruz. Eğer kullanıcı herhangi bir Türkçe harf içermeyen bir kelime girerse set(tr) ve set(parola) kümelerinin kesişim kümesi boş olacaktır. İsterseniz küçük bir deneme yapalım:"
   ]
  },
  {
   "cell_type": "code",
   "execution_count": 70,
   "id": "9d0392d3-31de-4c67-9a05-00b15396f498",
   "metadata": {},
   "outputs": [
    {
     "data": {
      "text/plain": [
       "{'ç'}"
      ]
     },
     "execution_count": 70,
     "metadata": {},
     "output_type": "execute_result"
    }
   ],
   "source": [
    "tr = \"şçöğüıŞÇÖĞÜİ\"\n",
    "parola = \"çilek\"\n",
    "set(tr) & set(parola)\n",
    "\n"
   ]
  },
  {
   "cell_type": "markdown",
   "id": "2846dc65-a08f-4c92-84ea-4b403818c6a1",
   "metadata": {},
   "source": [
    "Burada kullanıcının “çilek” adlı kelimeyi girdiğini varsayıyoruz. Böyle bir durumda set(tr) ve set(parola) kümelerinin kesişim kümesi “ç” harfini içerecek, dolayısıyla da programımız kullanıcıya uyarı mesajı gösterecektir. Eğer kullanıcımız “kalem” gibi Türkçe harf içermeyen bir kelime girerse:"
   ]
  },
  {
   "cell_type": "code",
   "execution_count": 71,
   "id": "f3c78f63-48ef-4f9f-ab11-21d8539de856",
   "metadata": {},
   "outputs": [
    {
     "data": {
      "text/plain": [
       "set()"
      ]
     },
     "execution_count": 71,
     "metadata": {},
     "output_type": "execute_result"
    }
   ],
   "source": [
    "tr = \"şçöğüıŞÇÖĞÜİ\"\n",
    "parola = \"kalem\"\n",
    "set(tr) & set(parola)"
   ]
  },
  {
   "cell_type": "markdown",
   "id": "294d0375-7190-4e9a-a579-2ccade02aa59",
   "metadata": {},
   "source": [
    "Gördüğünüz gibi, elde ettiğimiz küme boş. Dolayısıyla böyle bir durumda programımız kullanıcıya herhangi bir uyarı mesajı göstermeyecektir.\n",
    "\n",
    "intersection() metodunu pek çok yerde kullanabilirsiniz. Hatta iki dosya arasındaki benzerlikleri bulmak için dahi bu metottan yararlanabilirsiniz. İlerde dosya işlemleri konusunu işlerken bu metottan nasıl yararlanabileceğimizi de anlatacağız.\n",
    "\n",
    "++++++++++++++intersection_update()\n",
    "\n",
    "\n",
    "Hatırlarsanız difference_update() metodunu işlerken şöyle bir şey demiştik:\n",
    "\n",
    "Bu metot, difference() metodundan elde edilen sonuca göre bir kümenin güncellenmesini sağlar.\n",
    "\n",
    "İşte intersection_update metodu da buna çok benzer bir işlevi yerine getirir. Bu metodun görevi, intersection() metodundan elde edilen sonuca göre bir kümenin güncellenmesini sağlamaktır:"
   ]
  },
  {
   "cell_type": "code",
   "execution_count": 72,
   "id": "ed0847d8-8425-4ab0-bc16-bbade9e808c5",
   "metadata": {},
   "outputs": [
    {
     "name": "stdout",
     "output_type": "stream",
     "text": [
      "{1, 3}\n"
     ]
    }
   ],
   "source": [
    "k1 = set([1, 2, 3])\n",
    "k2 = set([1, 3, 5])\n",
    "k1.intersection_update(k2)\n",
    "print(k1)"
   ]
  },
  {
   "cell_type": "code",
   "execution_count": 73,
   "id": "4d7826e2-68a2-4000-801d-276b16276201",
   "metadata": {},
   "outputs": [
    {
     "name": "stdout",
     "output_type": "stream",
     "text": [
      "{1, 3, 5}\n"
     ]
    }
   ],
   "source": [
    "print(k2)"
   ]
  },
  {
   "cell_type": "markdown",
   "id": "bb1abd45-6cf7-4371-a63a-a376e92c011a",
   "metadata": {},
   "source": [
    "Gördüğünüz gibi, intersection_update() metodu k1’in bütün öğelerini sildi ve yerlerine k1 ve k2’nin kesişim kümesinin elemanlarını koydu.\n",
    "\n",
    "+++++++isdisjoint()\n",
    "\n",
    "Bu metodun çok basit bir görevi vardır. isdisjoint() metodunu kullanarak iki kümenin kesişim kümesinin boş olup olmadığı sorgulayabilirsiniz. Hatırlarsanız aynı işi bir önceki bölümde gördüğümüz intersection() metodunu kullanarak da yapabiliyorduk. Ama eğer hayattan tek beklentiniz iki kümenin kesişim kümesinin boş olup olmadığını, yani bu iki kümenin ortak eleman içerip içermediğini öğrenmekse, basitçe isdisjoint() metodundan yararlanabilirsiniz:"
   ]
  },
  {
   "cell_type": "code",
   "execution_count": 74,
   "id": "8db43853-5b83-49ac-83e2-7d3f0cb367cb",
   "metadata": {},
   "outputs": [
    {
     "data": {
      "text/plain": [
       "False"
      ]
     },
     "execution_count": 74,
     "metadata": {},
     "output_type": "execute_result"
    }
   ],
   "source": [
    "a = set([1, 2, 3])\n",
    "b = set([2, 4, 6])\n",
    "a.isdisjoint(b)\n"
   ]
  },
  {
   "cell_type": "markdown",
   "id": "7472fccd-bd4f-4abf-b9f3-d8cbd5114192",
   "metadata": {},
   "source": [
    "Gördüğünüz gibi, a ve b kümesinin kesişimi boş olmadığı için, yani bu iki küme ortak en az bir öğe barındırdığı için, isdisjoint() metodu False çıktısı veriyor. Burada temel olarak şu soruyu sormuş oluyoruz:\n",
    "\n",
    "a ve b ayrık kümeler mi?\n",
    "\n",
    "Python da bize cevap olarak, “Hayır değil,” anlamına gelen False çıktısını veriyor… Çünkü a ve b kümelerinin ortak bir elemanı var (2).\n",
    "\n",
    "Bir de şuna bakalım:"
   ]
  },
  {
   "cell_type": "code",
   "execution_count": 75,
   "id": "32cc162d-5e14-4403-863c-6158d7717d32",
   "metadata": {},
   "outputs": [
    {
     "data": {
      "text/plain": [
       "True"
      ]
     },
     "execution_count": 75,
     "metadata": {},
     "output_type": "execute_result"
    }
   ],
   "source": [
    "a = set([1, 3, 5])\n",
    "b = set([2, 4, 6])\n",
    "a.isdisjoint(b)"
   ]
  },
  {
   "cell_type": "markdown",
   "id": "1ba79a39-e350-4033-9d70-26e11550afe9",
   "metadata": {},
   "source": [
    "++++++++++++issubset()\n",
    "\n",
    "\n",
    "Bu metot yardımıyla, bir kümenin bütün elemanlarının başka bir küme içinde yer alıp yer almadığını sorgulayabiliriz. Yani bir kümenin, başka bir kümenin alt kümesi olup olmadığını bu metot yardımıyla öğrenebiliriz. Eğer bir küme başka bir kümenin alt kümesi ise bu metot bize True değerini verecek; eğer değilse False çıktısını verecektir:\n",
    "\n"
   ]
  },
  {
   "cell_type": "code",
   "execution_count": 76,
   "id": "9f561cf3-cbfd-4fdb-b6a9-7e3f8e80a867",
   "metadata": {},
   "outputs": [
    {
     "data": {
      "text/plain": [
       "True"
      ]
     },
     "execution_count": 76,
     "metadata": {},
     "output_type": "execute_result"
    }
   ],
   "source": [
    "a = set([1, 2, 3])\n",
    "b = set([0, 1, 2, 3, 4, 5])\n",
    "a.issubset(b)"
   ]
  },
  {
   "cell_type": "markdown",
   "id": "8b21ef8d-52a0-49c7-bab8-63823f75ec0c",
   "metadata": {},
   "source": [
    "Bu örnekte True çıktısını aldık, çünkü a kümesinin bütün öğeleri b kümesi içinde yer alıyor. Yani a, b’nin alt kümesidir."
   ]
  },
  {
   "cell_type": "markdown",
   "id": "beb72933-8aff-4a21-8e56-668245c695dd",
   "metadata": {},
   "source": [
    "++++++++++issuperset()\n",
    "\n",
    "\n",
    "Bu metot, bir önceki bölümde gördüğümüz issubset() metoduna benzer. Matematik derslerinde gördüğümüz “kümeler” konusunda hatırladığınız “b kümesi a kümesini kapsar” ifadesini bu metotla gösteriyoruz. Önce bir önceki derste gördüğümüz örneğe bakalım:"
   ]
  },
  {
   "cell_type": "code",
   "execution_count": 77,
   "id": "dab5464a-4ad4-4ae4-b0e5-40527446afdf",
   "metadata": {},
   "outputs": [
    {
     "data": {
      "text/plain": [
       "True"
      ]
     },
     "execution_count": 77,
     "metadata": {},
     "output_type": "execute_result"
    }
   ],
   "source": [
    "a = set([1, 2, 3])\n",
    "b = set([0, 1, 2, 3, 4, 5])\n",
    "a.issubset(b)"
   ]
  },
  {
   "cell_type": "markdown",
   "id": "c8b8f2c3-9c59-4200-abfc-1ec0ad0d3893",
   "metadata": {},
   "source": [
    "Buradan, “a kümesi b kümesinin alt kümesidir,” sonucuna ulaşıyoruz. Bir de şuna bakalım:\n",
    "\n"
   ]
  },
  {
   "cell_type": "code",
   "execution_count": 78,
   "id": "56690217-b97e-4d49-9267-ddf555e1c6c7",
   "metadata": {},
   "outputs": [
    {
     "data": {
      "text/plain": [
       "True"
      ]
     },
     "execution_count": 78,
     "metadata": {},
     "output_type": "execute_result"
    }
   ],
   "source": [
    "a = set([1, 2, 3])\n",
    "b = set([0, 1, 2, 3, 4, 5])\n",
    "b.issuperset(a)"
   ]
  },
  {
   "cell_type": "markdown",
   "id": "72d33968-8f94-4ba5-81de-248111c6e412",
   "metadata": {},
   "source": [
    "Burada ise, “b kümesi a kümesini kapsar,” sonucunu elde ediyoruz. Yani b kümesi a kümesinin bütün elemanlarını içinde barındırıyor.\n",
    "\n"
   ]
  },
  {
   "cell_type": "markdown",
   "id": "1fd75d79-bfca-4ee3-830e-ca4e761c064a",
   "metadata": {},
   "source": [
    "++++++++++++union()\n",
    "\n",
    "\n",
    "union() metodu iki kümenin birleşimini almamızı sağlar. Hemen bir örnek verelim:"
   ]
  },
  {
   "cell_type": "code",
   "execution_count": 79,
   "id": "f262f2d1-efb8-46da-9004-729fd32cbd62",
   "metadata": {},
   "outputs": [
    {
     "data": {
      "text/plain": [
       "{1, 2, 3, 4, 5, 6, 7, 8}"
      ]
     },
     "execution_count": 79,
     "metadata": {},
     "output_type": "execute_result"
    }
   ],
   "source": [
    "a = set([2, 4, 6, 8])\n",
    "b = set([1, 3, 5, 7])\n",
    "a.union(b)"
   ]
  },
  {
   "cell_type": "markdown",
   "id": "cb48e0b3-6979-4628-a1e4-c28963b107c4",
   "metadata": {},
   "source": [
    "Önceki bölümlerde gördüğümüz bazı metotlarda olduğu gibi, union() metodu da bir kısayola sahiptir. union() metodu yerine “|” işaretini de kullanabiliriz:\n",
    "\n"
   ]
  },
  {
   "cell_type": "code",
   "execution_count": 80,
   "id": "49fdf443-c3fb-423c-8479-55137b84f1f2",
   "metadata": {},
   "outputs": [
    {
     "data": {
      "text/plain": [
       "{1, 2, 3, 4, 5, 6, 7, 8}"
      ]
     },
     "execution_count": 80,
     "metadata": {},
     "output_type": "execute_result"
    }
   ],
   "source": [
    "a | b"
   ]
  },
  {
   "cell_type": "markdown",
   "id": "6f585357-abc4-4d5c-88e7-8daafd92d7d7",
   "metadata": {},
   "source": [
    "union() metodu yerine, bu metodun kısayolu olan “|” işareti Python programcıları tarafından daha sık kullanılır.\n",
    "\n",
    "++++++++++update()\n",
    "\n",
    "Hatırlarsanız add() metodunu anlatırken şöyle bir örnek vermiştik:"
   ]
  },
  {
   "cell_type": "code",
   "execution_count": 81,
   "id": "a11f30ce-5d9a-44dd-88dc-0ff0fc9c1bc8",
   "metadata": {},
   "outputs": [
    {
     "data": {
      "text/plain": [
       "{1, 2, 3, 'armut', 'elma', 'kebap'}"
      ]
     },
     "execution_count": 81,
     "metadata": {},
     "output_type": "execute_result"
    }
   ],
   "source": [
    "küme = set([\"elma\", \"armut\", \"kebap\"])\n",
    "yeni = [1, 2, 3]\n",
    "\n",
    "for i in yeni:\n",
    "    küme.add(i)\n",
    "\n",
    "küme"
   ]
  },
  {
   "cell_type": "markdown",
   "id": "05925a6c-2e7e-4e58-9423-4efe91f27464",
   "metadata": {},
   "source": [
    "Bu örneği verdikten sonra da şöyle bir şey demiştik:\n",
    "\n",
    "“Burada yeni adlı listeyi kümeye for döngüsü ile ekledik. Ama bu işlemi yapmanın başka bir yolu daha vardır. Bu işlem için Python’da ayrı bir metot bulunur.”\n",
    "\n",
    "İşte bu metodu öğrenmenin vakti geldi. Metodumuzun adı update(). Bu metot, bir kümeyi güncellememizi sağlar. İsterseniz yukarıdaki örneği, bu metodu kullanarak tekrar yazalım:"
   ]
  },
  {
   "cell_type": "code",
   "execution_count": 82,
   "id": "a7fdf192-0625-4a4a-bdad-81b1e6300db6",
   "metadata": {},
   "outputs": [
    {
     "name": "stdout",
     "output_type": "stream",
     "text": [
      "{1, 2, 3, 'armut', 'elma', 'kebap'}\n"
     ]
    }
   ],
   "source": [
    "küme = set([\"elma\", \"armut\", \"kebap\"])\n",
    "yeni = [1, 2, 3]\n",
    "küme.update(yeni)\n",
    "print(küme)"
   ]
  },
  {
   "cell_type": "markdown",
   "id": "34b13dee-d1e7-4e78-a423-f491c419efbe",
   "metadata": {},
   "source": [
    "Gördüğünüz gibi, for döngüsünü kullanmaya gerek kalmadan aynı sonucu elde edebildik."
   ]
  },
  {
   "cell_type": "markdown",
   "id": "dda73a2f-4e25-4c5b-a749-643a0db8063f",
   "metadata": {},
   "source": [
    "++++++++++symmetric_difference()\n",
    "\n",
    "\n",
    "Daha önceki bölümlerde difference() metodunu kullanarak iki küme arasındaki farklı öğeleri bulmayı öğrenmiştik. Örneğin elimizde şöyle iki küme var diyelim:"
   ]
  },
  {
   "cell_type": "code",
   "execution_count": 83,
   "id": "1b4439a6-96ab-4150-8e14-b465ce641487",
   "metadata": {},
   "outputs": [],
   "source": [
    "a = set([1, 2, 5])\n",
    "b = set([1, 4, 5])"
   ]
  },
  {
   "cell_type": "markdown",
   "id": "8af1d44b-7174-494d-8a9d-a8e7b88a4558",
   "metadata": {},
   "source": [
    "Eğer a kümesinin b kümesinden farkını bulmak istersek şöyle yapıyoruz:\n",
    "\n"
   ]
  },
  {
   "cell_type": "code",
   "execution_count": 84,
   "id": "33420a93-e2f4-4bff-9224-e5eb8c33e22c",
   "metadata": {},
   "outputs": [
    {
     "data": {
      "text/plain": [
       "{2}"
      ]
     },
     "execution_count": 84,
     "metadata": {},
     "output_type": "execute_result"
    }
   ],
   "source": [
    "a.difference(b)"
   ]
  },
  {
   "cell_type": "markdown",
   "id": "5712b4a1-3beb-4cff-bf09-af36a05ea446",
   "metadata": {},
   "source": [
    "Demek ki a kümesinde bulunup b kümesinde bulunmayan öğe 2 imiş.\n",
    "\n",
    "Bir de b kümesinde bulunup a kümesinde bulunmayan öğelere bakalım:\n",
    "\n"
   ]
  },
  {
   "cell_type": "code",
   "execution_count": 85,
   "id": "20df548f-54e4-41eb-9589-cd33ac9d540b",
   "metadata": {},
   "outputs": [
    {
     "data": {
      "text/plain": [
       "{4}"
      ]
     },
     "execution_count": 85,
     "metadata": {},
     "output_type": "execute_result"
    }
   ],
   "source": [
    "b.difference(a)"
   ]
  },
  {
   "cell_type": "markdown",
   "id": "55c930c9-56eb-427a-9c1b-a32b2b29cc68",
   "metadata": {},
   "source": [
    "Bu da bize “4” çıktısını verdi. Demek ki bu öğe b kümesinde bulunuyor, ama a kümesinde bulunmuyormuş. Peki ya kümelerin sadece birinde bulunan öğeleri nasıl alacağız? İşte bu noktada yardımımıza symmetric_difference() adlı metot yetişecek:"
   ]
  },
  {
   "cell_type": "code",
   "execution_count": 86,
   "id": "f8329140-f9cd-4df8-ad34-73fcb4de639a",
   "metadata": {},
   "outputs": [
    {
     "data": {
      "text/plain": [
       "{2, 4}"
      ]
     },
     "execution_count": 86,
     "metadata": {},
     "output_type": "execute_result"
    }
   ],
   "source": [
    "a.symmetric_difference(b)"
   ]
  },
  {
   "cell_type": "markdown",
   "id": "920e405b-dfd5-427b-9a4a-d3a2859e4b75",
   "metadata": {},
   "source": [
    "Böylece iki kümenin ortak olarak sahip olmadığı öğeleri almış olduk.\n",
    "\n"
   ]
  },
  {
   "cell_type": "markdown",
   "id": "8a6d8439-e57a-4df6-aaf6-4fec196248ab",
   "metadata": {},
   "source": [
    "++++++++symmetric_difference_update()\n",
    "\n",
    "\n",
    "Daha önce difference_update ve intersection_update gibi metotları öğrenmiştik. symmetric_difference_update() metodu da bunlara benzer bir işlevi yerine getirir:"
   ]
  },
  {
   "cell_type": "code",
   "execution_count": 87,
   "id": "af35519b-63e0-4e37-a069-ea2597889cad",
   "metadata": {},
   "outputs": [
    {
     "name": "stdout",
     "output_type": "stream",
     "text": [
      "{2, 4}\n"
     ]
    }
   ],
   "source": [
    "a = set([1,2, 5])\n",
    "b = set([1,4, 5])\n",
    "a.symmetric_difference_update(b)\n",
    "print(a)"
   ]
  },
  {
   "cell_type": "markdown",
   "id": "22a8e325-dd03-4cd2-8ee1-8df732a01580",
   "metadata": {},
   "source": [
    "Gördüğünüz gibi, a kümesinin eski öğeleri gitti, yerlerine symmetric_difference() metoduyla elde edilen çıktı geldi. Yani a kümesi, symmetric_difference() metodunun sonucuna göre güncellenmiş oldu…"
   ]
  },
  {
   "cell_type": "markdown",
   "id": "97a3be06-c5dc-41d4-8e3b-54f3200f3859",
   "metadata": {},
   "source": [
    "+++++++++pop()\n",
    "\n",
    "\n",
    "İnceleyeceğimiz son metot pop() metodu olacak. Gerçi bu metot bize hiç yabancı değil. Bu metodu listeler konusundan hatırlıyoruz. Orada öğrendiğimize göre, bu metot listenin bir öğesini silip ekrana basıyordu. Aslında buradaki fonksiyonu da farklı değil. Burada da kümelerin öğelerini silip ekrana basıyor:"
   ]
  },
  {
   "cell_type": "code",
   "execution_count": 88,
   "id": "ad0964c7-d979-49d1-b956-91d473e85093",
   "metadata": {},
   "outputs": [
    {
     "data": {
      "text/plain": [
       "'kebap'"
      ]
     },
     "execution_count": 88,
     "metadata": {},
     "output_type": "execute_result"
    }
   ],
   "source": [
    "a = set([\"elma\", \"armut\", \"kebap\"])\n",
    "a.pop()"
   ]
  },
  {
   "cell_type": "markdown",
   "id": "7d14e767-427c-43d0-89d5-166895c6ef86",
   "metadata": {},
   "source": [
    "Peki bu metot hangi ölçüte göre kümeden öğe siliyor? Herhangi bir ölçüt yok. Bu metot, küme öğelerini tamamen rastgele siliyor.\n",
    "\n",
    "Böylelikle Python’da Listeler, Demetler, Sözlükler ve Kümeler konusunu bitirmiş olduk. Bu konuları sık sık tekrar etmek, hiç olmazsa arada sırada göz gezdirmek bazı şeylerin zihnimizde yer etmesi açısından oldukça önemlidir.\n",
    "\n"
   ]
  },
  {
   "cell_type": "markdown",
   "id": "10f6889e-8156-41f6-8f92-69febda270ba",
   "metadata": {},
   "source": [
    "+++++++++++++++Dondurulmuş Kümeler (Frozenset)\n",
    "\n",
    "\n",
    "Daha önce de söylediğimiz gibi, kümeler üzerinde değişiklik yapabiliyoruz. Zaten kümelerin add() ve remove() gibi metotlarının olması bu durumu teyit ediyor. Ancak kimi durumlarda, öğeleri üzerinde değişiklik yapılamayan kümelere de ihtiyaç duyabilirsiniz. Hatırlarsanız listeler ve demetler arasında da buna benzer bir ilişki var. Demetler çoğu zaman, üzerinde değişiklik yapılamayan bir liste gibi davranır. İşte Python aynı imkanı bize kümelerde de sağlar. Eğer öğeleri üzerinde değişiklik yapılamayan bir küme oluşturmak isterseniz set() yerine frozenset() fonksiyonunu kullanabilirsiniz. Dilerseniz hemen bununla ilgili bir örnek verelim:"
   ]
  },
  {
   "cell_type": "code",
   "execution_count": 89,
   "id": "a653ab3c-20ec-400a-92f6-3a1545ae8a62",
   "metadata": {},
   "outputs": [],
   "source": [
    "dondurulmuş = frozenset([\"elma\", \"armut\", \"ayva\"])"
   ]
  },
  {
   "cell_type": "markdown",
   "id": "f653eebb-91a4-4697-b8fa-3aa8aa079542",
   "metadata": {},
   "source": [
    "Dondurulmuş kümeleri bu şekilde oluşturuyoruz. Şimdi bu dondurulmuş kümenin metotlarına bakalım:"
   ]
  },
  {
   "cell_type": "code",
   "execution_count": 90,
   "id": "7b55fd7a-c94c-49f7-ad44-b8e319881791",
   "metadata": {},
   "outputs": [
    {
     "data": {
      "text/plain": [
       "['__and__',\n",
       " '__class__',\n",
       " '__class_getitem__',\n",
       " '__contains__',\n",
       " '__delattr__',\n",
       " '__dir__',\n",
       " '__doc__',\n",
       " '__eq__',\n",
       " '__format__',\n",
       " '__ge__',\n",
       " '__getattribute__',\n",
       " '__gt__',\n",
       " '__hash__',\n",
       " '__init__',\n",
       " '__init_subclass__',\n",
       " '__iter__',\n",
       " '__le__',\n",
       " '__len__',\n",
       " '__lt__',\n",
       " '__ne__',\n",
       " '__new__',\n",
       " '__or__',\n",
       " '__rand__',\n",
       " '__reduce__',\n",
       " '__reduce_ex__',\n",
       " '__repr__',\n",
       " '__ror__',\n",
       " '__rsub__',\n",
       " '__rxor__',\n",
       " '__setattr__',\n",
       " '__sizeof__',\n",
       " '__str__',\n",
       " '__sub__',\n",
       " '__subclasshook__',\n",
       " '__xor__',\n",
       " 'copy',\n",
       " 'difference',\n",
       " 'intersection',\n",
       " 'isdisjoint',\n",
       " 'issubset',\n",
       " 'issuperset',\n",
       " 'symmetric_difference',\n",
       " 'union']"
      ]
     },
     "execution_count": 90,
     "metadata": {},
     "output_type": "execute_result"
    }
   ],
   "source": [
    "dir(dondurulmuş)"
   ]
  },
  {
   "cell_type": "markdown",
   "id": "3ad4b18a-7d30-48fa-9f90-101590285b49",
   "metadata": {},
   "source": [
    "Gördüğünüz gibi, add(), remove(), update() gibi, değişiklik yapmaya yönelik metotlar listede yok.\n",
    "\n",
    "Dondurulmuş kümeler ile normal kümeler arasında işlev olarak hiçbir fark yoktur. Bu ikisi arasındaki fark, listeler ile demetler arasındaki fark gibidir."
   ]
  },
  {
   "cell_type": "code",
   "execution_count": null,
   "id": "bdb28c2c-71a4-4f63-94ff-711403c66af4",
   "metadata": {},
   "outputs": [],
   "source": []
  }
 ],
 "metadata": {
  "kernelspec": {
   "display_name": "Python 3 (ipykernel)",
   "language": "python",
   "name": "python3"
  },
  "language_info": {
   "codemirror_mode": {
    "name": "ipython",
    "version": 3
   },
   "file_extension": ".py",
   "mimetype": "text/x-python",
   "name": "python",
   "nbconvert_exporter": "python",
   "pygments_lexer": "ipython3",
   "version": "3.10.12"
  }
 },
 "nbformat": 4,
 "nbformat_minor": 5
}
