{
 "cells": [
  {
   "cell_type": "markdown",
   "id": "b472b970-0271-4582-81ec-0997a0f32ca6",
   "metadata": {},
   "source": [
    "++++++++++++Nesne Tabanlı Programlama (Devamı)\n",
    "\n",
    "Geçen bölümde Python’da nesne tabanlı programlama konusunun temellerinden söz etmiştik. Bu bölümde ise nesne tabanlı programlamanın ayrıntılarına inmeye başlayacağız.\n",
    "\n",
    "++++++++++++Sınıf Metotları\n",
    "\n",
    "Nesne tabanlı programlamaya giriş yaptığımız geçen bölümde şunlara değindik:\n",
    "\n",
    "Sınıflar (classes)\n",
    "\n",
    "Örnekler (instances)\n",
    "\n",
    "Sınıf nitelikleri (class attributes)\n",
    "\n",
    "Örnek nitelikleri (instance attributes)\n",
    "\n",
    "Örnek metotları (instance methods)\n",
    "\n",
    "Bunlar nesne tabanlı programlamanın en temel kavramlarıdır. Bunları iyice öğrendiyseniz, etrafta gördüğünüz kodların büyük bölümünü anlayabilecek kıvama gelmişsiniz demektir.\n",
    "\n",
    "Ama elbette nesne tabanlı programlama yalnızca bu temel kavramlardan ibaret değil. Nesne tabanlı programlamanın derinlerine indikçe, bunların dışında başka pek çok kavramla daha karşılaşacağız. Mesela sınıf metotları (class methods) bu kavramlardan biridir. İşte bu bölümde, nesne tabanlı programlamanın ileri düzey kavramlarının ilki olan bu sınıf metotlarından (class methods) söz edeceğiz.\n",
    "\n",
    "Dilerseniz ne ile karşı karşıya olduğumuzu anlayabilmek için basit bir örnek üzerinden ilerleyelim.\n",
    "\n",
    "Hatırlarsanız bir önceki bölümde şöyle bir kod parçası vermiştik:\n",
    "\n"
   ]
  },
  {
   "cell_type": "code",
   "execution_count": null,
   "id": "32970ddd-23d8-4d9c-8552-f3bb795b7023",
   "metadata": {},
   "outputs": [],
   "source": [
    "class Çalışan():\n",
    "    personel = []\n",
    "\n",
    "    def __init__(self, isim):\n",
    "        self.isim = isim\n",
    "        self.kabiliyetleri = []\n",
    "        self.personele_ekle()\n",
    "\n",
    "    def personele_ekle(self):\n",
    "        self.personel.append(self.isim)\n",
    "        print('{} adlı kişi personele eklendi'.format(self.isim))\n",
    "\n",
    "    def personeli_görüntüle(self):\n",
    "        print('Personel listesi:')\n",
    "        for kişi in self.personel:\n",
    "            print(kişi)\n",
    "\n",
    "    def kabiliyet_ekle(self, kabiliyet):\n",
    "        self.kabiliyetleri.append(kabiliyet)\n",
    "\n",
    "    def kabiliyetleri_görüntüle(self):\n",
    "        print('{} adlı kişinin kabiliyetleri:'.format(self.isim))\n",
    "        for kabiliyet in self.kabiliyetleri:\n",
    "            print(kabiliyet)"
   ]
  },
  {
   "cell_type": "markdown",
   "id": "ab8be057-d9c5-43f5-9a40-ddbcf41ba25c",
   "metadata": {},
   "source": [
    "Bu kodlarda, bir personel listesi oluşturmamızı, personele ekleme yapmamızı, personeli görüntülememizi, personele yeni kabiliyet eklememizi ve eklediğimiz kabiliyetleri görüntüleyebilmemizi sağlayan örnek metotları var. Gelin bu kodlara bir de personel sayısını görüntülememizi sağlayacak bir başka örnek metodu daha ekleyelim:"
   ]
  },
  {
   "cell_type": "code",
   "execution_count": null,
   "id": "64aaaa9b-cfb1-401f-ad4c-4360abdfc515",
   "metadata": {},
   "outputs": [],
   "source": [
    "class Çalışan():\n",
    "    personel = []\n",
    "\n",
    "    def __init__(self, isim):\n",
    "        self.isim = isim\n",
    "        self.kabiliyetleri = []\n",
    "        self.personele_ekle()\n",
    "\n",
    "    def personel_sayısını_görüntüle(self):\n",
    "        print(len(self.personel))\n",
    "\n",
    "    def personele_ekle(self):\n",
    "        self.personel.append(self.isim)\n",
    "        print('{} adlı kişi personele eklendi'.format(self.isim))\n",
    "\n",
    "    def personeli_görüntüle(self):\n",
    "        print('Personel listesi:')\n",
    "        for kişi in self.personel:\n",
    "            print(kişi)\n",
    "\n",
    "    def kabiliyet_ekle(self, kabiliyet):\n",
    "        self.kabiliyetleri.append(kabiliyet)\n",
    "\n",
    "    def kabiliyetleri_görüntüle(self):\n",
    "        print('{} adlı kişinin kabiliyetleri:'.format(self.isim))\n",
    "        for kabiliyet in self.kabiliyetleri:\n",
    "            print(kabiliyet)"
   ]
  },
  {
   "cell_type": "markdown",
   "id": "6f91df5c-b1df-447b-a29e-4e0d94bb0e83",
   "metadata": {},
   "source": [
    "Burada yeni olarak personel_sayısını_görüntüle() adlı bir örnek metodu tanımladık. Bu metot, bir sınıf niteliği olan personel’e erişerek bunun uzunluğunu ekrana basıyor. Böylece personelin kaç kişiden oluştuğunu öğrenmiş oluyoruz.\n",
    "\n",
    "Bu yeni örnek metodunu aşağıdaki şekilde kullanabiliriz.\n",
    "\n",
    "Öncelikle kodlarımızı barındıran modülü içe aktaralım:\n",
    "\n"
   ]
  },
  {
   "cell_type": "code",
   "execution_count": null,
   "id": "d29eaa98-5d42-4819-af5f-0e48d4d2bbce",
   "metadata": {},
   "outputs": [],
   "source": [
    "import çalışan\n"
   ]
  },
  {
   "cell_type": "markdown",
   "id": "4325b9fc-f1b9-42c1-bf9b-f6e659ae72dc",
   "metadata": {},
   "source": [
    "Daha sonra personel listesine birkaç çalışan ekleyelim:\n",
    "\n"
   ]
  },
  {
   "cell_type": "code",
   "execution_count": null,
   "id": "b25c5153-7bc4-494c-821c-020a7953f64f",
   "metadata": {},
   "outputs": [],
   "source": [
    "ahmet = çalışan.Çalışan('Ahmet')\n",
    "\n",
    "Ahmet adlı kişi personele eklendi\n",
    "\n",
    "mehmet = çalışan.Çalışan('Mehmet')\n",
    "\n",
    "Mehmet adlı kişi personele eklendi\n",
    "\n",
    "ayşe = çalışan.Çalışan('Ayşe')\n",
    "\n",
    "Ayşe adlı kişi personele eklendi"
   ]
  },
  {
   "cell_type": "markdown",
   "id": "629fcf1a-b4e3-4fac-8ce9-00cf87a370b0",
   "metadata": {},
   "source": [
    "Artık herhangi bir örnek değişkeni üzerinden personel sayısına erişebiliriz:"
   ]
  },
  {
   "cell_type": "code",
   "execution_count": null,
   "id": "8e775469-1050-4dfe-bbee-ca450a4197b0",
   "metadata": {},
   "outputs": [],
   "source": [
    "ayşe.personel_sayısını_görüntüle()\n",
    "3"
   ]
  },
  {
   "cell_type": "markdown",
   "id": "27e2e4ff-def4-40b2-bf28-845d6fc81893",
   "metadata": {},
   "source": [
    "Ancak kodların çalışma mantığı açısından burada bir tutarsızlıktan söz edebiliriz. Genel olarak bütün personele dair bilgi veren bir fonksiyona ahmet, mehmet, ayşe gibi bireysel örnek değişkenleri üzerinden erişmek kulağa sizce de biraz tuhaf gelmiyor mu? Neticede bu fonksiyon, aslında sınıfın herhangi bir örneği ile özellikle veya doğrudan ilişkili değil. Yani bu fonksiyon tek tek sınıf örneklerini değil, genel olarak sınıfın bütününü ilgilendiriyor. Bu bakımdan, personel_sayısını_görüntüle() fonksiyonunun örnek değişkenlerinden bağımsız bir biçimde kullanılabilmesi çok daha mantıklı olacaktır.\n",
    "\n",
    "Ayrıca, bir örnek metodu olan personel_sayısını_görüntüle() fonksiyonunu örneklerden bağımsız olarak kullanamadığımız için, bu metot yardımıyla personel sayısının 0 olduğu bir durumu görüntülememiz de mümkün olmuyor. Çünkü bu fonksiyona erişebilmek için öncelikle sınıfı en az bir kez örneklemiş, yani sınıfın en az bir adet örneğini çıkarmış olmamız gerekiyor. Bu durum da kodlarımızın mantığı açısından son derece ciddi bir kısıtlamadır.\n",
    "\n",
    "Yukarıda sıralanan gerekçeler doğrultusunda kodları hem daha tutarlı bir hale getirmek hem de personel sayısının 0 olduğu durumu göstermemizi engelleyen kısıtlamayı aşabilmek için şöyle bir şey deneyebilirsiniz:"
   ]
  },
  {
   "cell_type": "code",
   "execution_count": null,
   "id": "7bb64173-d01e-4e53-9746-8b378359b688",
   "metadata": {},
   "outputs": [],
   "source": [
    "def personel_sayısını_görüntüle():\n",
    "    print(len(Çalışan.personel))\n",
    "\n",
    "class Çalışan():\n",
    "    personel = []\n",
    "\n",
    "    def __init__(self, isim):\n",
    "        self.isim = isim\n",
    "        self.kabiliyetleri = []\n",
    "        self.personele_ekle()\n",
    "\n",
    "    def personele_ekle(self):\n",
    "        self.personel.append(self.isim)\n",
    "        print('{} adlı kişi personele eklendi'.format(self.isim))\n",
    "\n",
    "    def personeli_görüntüle(self):\n",
    "        print('Personel listesi:')\n",
    "        for kişi in self.personel:\n",
    "            print(kişi)\n",
    "\n",
    "    def kabiliyet_ekle(self, kabiliyet):\n",
    "        self.kabiliyetleri.append(kabiliyet)\n",
    "\n",
    "    def kabiliyetleri_görüntüle(self):\n",
    "        print('{} adlı kişinin kabiliyetleri:'.format(self.isim))\n",
    "        for kabiliyet in self.kabiliyetleri:\n",
    "            print(kabiliyet)"
   ]
  },
  {
   "cell_type": "markdown",
   "id": "e1a85e81-e3d9-491e-bdee-e73c5499a5ff",
   "metadata": {},
   "source": [
    "Burada personel sayısını görüntüleyen fonksiyonu sınıftan ayırdık. Böylece şu şekilde bir kullanım mümkün olabildi:\n",
    "\n"
   ]
  },
  {
   "cell_type": "code",
   "execution_count": null,
   "id": "c1cd32f6-87da-4c4c-a8fa-3dfb09e9069b",
   "metadata": {},
   "outputs": [],
   "source": [
    "import çalışan\n",
    "çalışan.personel_sayısını_görüntüle()\n",
    "0"
   ]
  },
  {
   "cell_type": "markdown",
   "id": "7399c2c0-4f7e-478f-94b2-727ad01b4780",
   "metadata": {},
   "source": [
    "personel_sayısını_görüntüle() adlı fonksiyonu sınıftan ayırıp modül düzeyinde çalışan bir fonksiyon (veya bir başka deyişle global düzeyde çalışan bir fonksiyon) haline getirdiğimiz için, artık bu fonksiyon Çalışan() sınıfının herhangi bir örneğine bağımlı değil. Dolayısıyla bu fonksiyonu, Çalışan() sınıfı için bir örnek çıkarmak zorunda kalmadan da kullanabiliyoruz. Bu da bize personel sayısının 0 olduğu durumu gösterebilme imkanı tanıyor.\n",
    "\n",
    "Bu fonksiyonu bir de birkaç örnek çıkardıktan sonra çalıştıralım…\n",
    "\n",
    "Önce sınıfımızın birkaç örneğini çıkaralım:\n",
    "\n"
   ]
  },
  {
   "cell_type": "code",
   "execution_count": null,
   "id": "e81bf865-4b17-4f6b-9fff-67ebd915f7ae",
   "metadata": {},
   "outputs": [],
   "source": [
    "ahmet = çalışan.Çalışan('Ahmet')\n",
    "\n",
    "Ahmet adlı kişi personele eklendi\n",
    "\n",
    "ayşe = çalışan.Çalışan('Ayşe')\n",
    "\n",
    "Ayşe adlı kişi personele eklendi\n",
    "\n",
    "mehmet = çalışan.Çalışan('Mehmet')\n",
    "\n",
    "Mehmet adlı kişi personele eklendi"
   ]
  },
  {
   "cell_type": "markdown",
   "id": "dd9a1f0e-08c9-4a3e-bd93-39cc7e796bf0",
   "metadata": {},
   "source": [
    "Şimdi de personelin şu anda kaç kişiden oluştuğunu sorgulayalım:"
   ]
  },
  {
   "cell_type": "code",
   "execution_count": null,
   "id": "8209e8cd-bb90-40bd-8e0b-105808705f21",
   "metadata": {},
   "outputs": [],
   "source": [
    "çalışan.personel_sayısını_görüntüle()\n",
    "\n",
    "3"
   ]
  },
  {
   "cell_type": "markdown",
   "id": "10481e05-6dd3-45c3-86e2-cde2215663f9",
   "metadata": {},
   "source": [
    "Gördüğünüz gibi, bu şekilde kodlarımız biraz daha tutarlı bir görünüme kavuştu. Ancak bu şekilde, bariz bir biçimde Çalışan() sınıfı ile ilişkili olan personel_sayısını_görüntüle() fonksiyonunu sınıftan ayırmış ve kod bütünlüğünü bozmuş olduk. Çünkü, her ne kadar personel_sayısını_görüntüle() fonksiyonu Çalışan() sınıfının herhangi bir örneği ile ilişkili olmasa da, anlam açısından bu fonksiyonun Çalışan() sınıfına ait olduğu besbelli. Ayrıca, yukarıdaki kodları barındıran modülün tamamını değil de, from çalışan import Çalışan gibi bir komutla yalnızca Çalışan() sınıfını içe aktarırsak, personel_sayısını_görüntüle() fonksiyonu dışarıda kalacaktır:\n",
    "\n"
   ]
  },
  {
   "cell_type": "code",
   "execution_count": null,
   "id": "fd5d3570-a0fe-41de-aee5-6f80a8bee62f",
   "metadata": {},
   "outputs": [],
   "source": [
    "from çalışan import Çalışan\n",
    "dir()"
   ]
  },
  {
   "cell_type": "markdown",
   "id": "0cec933c-92f3-4cfe-bf5f-a1b709a490ad",
   "metadata": {},
   "source": [
    "Gördüğünüz gibi, personel_sayısını_görüntüle() fonksiyonu listede yok. Dolayısıyla, sınıfla sıkı sıkıya ilişkili olan bu fonksiyonu sınıftan kopardığımız için, seçmeli içe aktarmalarda bu fonksiyon geride kalıyor ve böylece bu fonksiyonu kullanamaz hale geliyoruz.\n",
    "\n",
    "Seçmeli içe aktarmalarda bu fonksiyon aktarım işlemiyle birlikte gelmediği için, ilgili fonksiyonu özel olarak içe aktarmamız gerekir:"
   ]
  },
  {
   "cell_type": "code",
   "execution_count": null,
   "id": "dce60ab5-4931-4ac6-af3f-ee9c4cde310c",
   "metadata": {},
   "outputs": [],
   "source": [
    "from çalışan import personel_sayısını_görüntüle"
   ]
  },
  {
   "cell_type": "markdown",
   "id": "cb552fec-0c1d-4b12-9cab-25ac2158dc6b",
   "metadata": {},
   "source": [
    "Bu şekilde çalışan modülü içinden personel_sayısını_görüntüle() adlı fonksiyonu özel olarak elle içe aktarmış olduk. Artık bu fonksiyonu şöyle kullanabiliriz:\n",
    "\n"
   ]
  },
  {
   "cell_type": "code",
   "execution_count": null,
   "id": "bde3d1bd-e3ed-4788-8ff5-23d59db9a020",
   "metadata": {},
   "outputs": [],
   "source": [
    "personel_sayısını_görüntüle()"
   ]
  },
  {
   "cell_type": "markdown",
   "id": "6369f219-354f-4c1d-9b33-bcf78d94c818",
   "metadata": {},
   "source": [
    "Ancak bu da, her zaman tercih etmeyeceğiniz bir kısıtlama olabilir. O halde bu kısıtlamayı aşmak için gelin, ilgili fonksiyonu tekrar sınıf içine alalım:"
   ]
  },
  {
   "cell_type": "code",
   "execution_count": null,
   "id": "401057a6-13bc-4dbe-a591-97e9aff13118",
   "metadata": {},
   "outputs": [],
   "source": [
    "class Çalışan():\n",
    "    personel = []\n",
    "\n",
    "    def __init__(self, isim):\n",
    "        self.isim = isim\n",
    "        self.kabiliyetleri = []\n",
    "        self.personele_ekle()\n",
    "\n",
    "    def personel_sayısını_görüntüle(self):\n",
    "        print(len(self.personel))\n",
    "\n",
    "    def personele_ekle(self):\n",
    "        self.personel.append(self.isim)\n",
    "        print('{} adlı kişi personele eklendi'.format(self.isim))\n",
    "\n",
    "    def personeli_görüntüle(self):\n",
    "        print('Personel listesi:')\n",
    "        for kişi in self.personel:\n",
    "            print(kişi)\n",
    "\n",
    "    def kabiliyet_ekle(self, kabiliyet):\n",
    "        self.kabiliyetleri.append(kabiliyet)\n",
    "\n",
    "    def kabiliyetleri_görüntüle(self):\n",
    "        print('{} adlı kişinin kabiliyetleri:'.format(self.isim))\n",
    "        for kabiliyet in self.kabiliyetleri:\n",
    "            print(kabiliyet)"
   ]
  },
  {
   "cell_type": "markdown",
   "id": "b8f182ca-a25b-4f32-bb2f-13a81bdc161c",
   "metadata": {},
   "source": [
    "Yukarıdaki kodlarda ilgili fonksiyona bir örnek adıyla değil de, sınıf adıyla erişmek için ilk etapta şu kodu denemek aklınıza gelmiş olabilir:"
   ]
  },
  {
   "cell_type": "code",
   "execution_count": null,
   "id": "e30f5d10-bc89-4742-b4c9-c88f21e7f45b",
   "metadata": {},
   "outputs": [],
   "source": [
    "from çalışan import Çalışan\n",
    "Çalışan.personel_sayısını_görüntüle()\n",
    "Traceback (most recent call last):\n",
    "  File \"<stdin>\", line 1, in <module>\n",
    "TypeError: personel_sayısını_görüntüle() missing\n",
    "1 required positional argument: 'self'"
   ]
  },
  {
   "cell_type": "markdown",
   "id": "bd6b37d1-bd84-470d-90ba-244f5795a535",
   "metadata": {},
   "source": [
    "Çünkü burada siz Çalışan.personel_sayısını_görüntüle() komutunu vererek aslında sınıfın bir metoduna (class method) erişmeye çalışıyorsunuz. Ancak kodlarımızın içinde bir sınıf metodu yok. Zira, yukarıda sınıf adıyla erişmeye çalıştığımız personel_sayısını_görüntüle() fonksiyonu bir sınıf metodu değil, bir örnek metodudur. Örnek metotlarına da sınıf adlarıyla erişmemizin mümkün olmadığını, bu tür metotlara erişebilmek için sınıfı en az bir kez örneklemiş olmamız gerektiğini biliyorsunuz.\n",
    "\n",
    "Burada, __init__() ve personel_sayısını_görüntüle() dışında şu örnek metotları var: personel_sayısını_görüntüle(), personele_ekle(), personeli_görüntüle(), kabiliyet_ekle(), kabiliyetleri_görüntüle(). Bunları birer örnek metodu yapan şeyin, self kelimesi olduğunu biliyoruz…\n",
    "\n",
    "Daha önce de söylediğimiz gibi, her ne kadar Python’da sınıf niteliklerine hem örnekler hem de doğrudan sınıf adları üzerinden erişebilsek de örnek niteliklerine ve örnek metotlarına yalnızca örnekler üzerinden erişebiliriz. Bir metoda, sınıf adı ile erişebilmek için, ilgili metodu bir sınıf metodu olarak tanımlamış olmamız gerekir. Peki ama nasıl?"
   ]
  },
  {
   "cell_type": "markdown",
   "id": "78b115c9-00ac-4553-9cc3-6496917d8ac2",
   "metadata": {},
   "source": [
    "+++++++++++++++@classmethod Bezeyicisi ve cls\n",
    "\n",
    "Bildiğiniz gibi, örnek metotlarını oluşturmak için self adlı bir kelimeden yararlanıyorduk. Tanımladığımız örnek metotlarının parametre listesinde ilk sıraya yerleştirdiğimiz bu kelimeyi kullanarak, sınıf içinde örnek metotlarına erişebiliyoruz. İşte sınıf metotları için de benzer bir işlem yapacağız.\n",
    "\n",
    "Çok basit bir örnek verelim:"
   ]
  },
  {
   "cell_type": "code",
   "execution_count": null,
   "id": "1385c854-125b-407e-b83a-3c9353e1fe47",
   "metadata": {},
   "outputs": [],
   "source": [
    "class Sınıf():\n",
    "    sınıf_niteliği = 0\n",
    "\n",
    "    def __init__(self, param1, param2):\n",
    "        self.param1 = param1\n",
    "        self.param2 = param2\n",
    "        self.örnek_niteliği = 0\n",
    "\n",
    "    def örnek_metodu(self):\n",
    "        self.örnek_niteliği += 1\n",
    "        return self.örnek_niteliği\n",
    "\n",
    "    def sınıf_metodu(cls):\n",
    "        cls.sınıf_niteliği += 1\n",
    "        return cls.sınıf_niteliği"
   ]
  },
  {
   "cell_type": "markdown",
   "id": "50b116aa-9e48-491e-986e-2e897bdc8889",
   "metadata": {},
   "source": [
    "Burada örnek_metodu() ile sınıf_metodu() arasındaki fark, ilkinde self, ikincisinde ise cls kullanmamız. Ancak hatırlarsanız, self kelimesinin Python açısından bir zorunluluk olmadığını söylemiştik. Tıpkı self gibi, aslında cls kelimesi de Python açısından bir zorunluluk değildir. Yani cls yerine de istediğimiz kelimeyi kullanabilirdik. Bu metotlarda önemli olan, parametre listesinin ilk sırasını işgal eden kelimenin ne olduğudur. Dolayısıyla yukarıdaki örnekte Python açısından örnek_metodu() ile sınıf_metodu() arasında hiçbir fark bulunmaz. Python her iki metodu da birer örnek metodu olarak değerlendirir. Bu iki örnek metodu arasındaki fark, ilkinde sınıf örneklerini temsil edecek kelimenin self, ikincisinde ise cls olarak belirlenmiş olmasıdır. Python self veya cls kelimelerine özel bir önem atfetmez. Ama Python topluluğu içinde, örnek metotları için self, sınıf metotları için ise cls kullanmak çok güçlü bir gelenektir.\n",
    "\n",
    "Sözün özü, sınıf_metodu() fonksiyonunun ilk parametresini cls yapmış olmamız bu metodun bir sınıf metodu olabilmesi için gereklidir, ama yeterli değildir. Python’da bir sınıf metodu oluşturabilmek için bir parçaya daha ihtiyacımız var:"
   ]
  },
  {
   "cell_type": "code",
   "execution_count": null,
   "id": "e622ae1a-3ae5-4e18-9353-cb695433f970",
   "metadata": {},
   "outputs": [],
   "source": [
    "class Sınıf():\n",
    "    sınıf_niteliği = 0\n",
    "\n",
    "    def __init__(self, param1, param2):\n",
    "        self.param1 = param1\n",
    "        self.param2 = param2\n",
    "        self.örnek_niteliği = 0\n",
    "\n",
    "    def örnek_metodu(self):\n",
    "        self.örnek_niteliği += 1\n",
    "        return self.örnek_niteliği\n",
    "\n",
    "    @classmethod\n",
    "    def sınıf_metodu(cls):\n",
    "        cls.sınıf_niteliği += 1\n",
    "        return cls.sınıf_niteliği"
   ]
  },
  {
   "cell_type": "markdown",
   "id": "9242e236-29f7-4273-9abd-cb89e25f320b",
   "metadata": {},
   "source": [
    "İşte Python’da bir sınıf metodunu örnek metodundan ayıran asıl öğe, yukarıdaki örnekte gördüğümüz @classmethod ifadesidir. Python’da isminin önünde @ işareti olan bu tür öğelere ‘bezeyici’ (decorator) adı verilir. Gördüğünüz gibi, @classmethod bezeyicisi, yukarıdaki örnekte bir fonksiyonu sınıf metoduna dönüştürme işlevi görüyor. İlerleyen derslerimizde bezeyicilerin başka özelliklerinden de söz edeceğiz. Gelin isterseniz şimdi yukarıda öğrendiğimiz özelliği Çalışan() adlı sınıfa uygulayalım:"
   ]
  },
  {
   "cell_type": "code",
   "execution_count": null,
   "id": "75c9529b-164a-4f1a-87e8-637ecccf26ba",
   "metadata": {},
   "outputs": [],
   "source": [
    "class Çalışan():\n",
    "    personel = []\n",
    "\n",
    "    def __init__(self, isim):\n",
    "        self.isim = isim\n",
    "        self.kabiliyetleri = []\n",
    "        self.personele_ekle()\n",
    "\n",
    "    @classmethod\n",
    "    def personel_sayısını_görüntüle(cls):\n",
    "        print(len(cls.personel))\n",
    "\n",
    "    def personele_ekle(self):\n",
    "        self.personel.append(self.isim)\n",
    "        print('{} adlı kişi personele eklendi'.format(self.isim))\n",
    "\n",
    "    @classmethod\n",
    "    def personeli_görüntüle(cls):\n",
    "        print('Personel listesi:')\n",
    "        for kişi in cls.personel:\n",
    "            print(kişi)\n",
    "\n",
    "    def kabiliyet_ekle(self, kabiliyet):\n",
    "        self.kabiliyetleri.append(kabiliyet)\n",
    "\n",
    "    def kabiliyetleri_görüntüle(self):\n",
    "        print('{} adlı kişinin kabiliyetleri:'.format(self.isim))\n",
    "        for kabiliyet in self.kabiliyetleri:\n",
    "            print(kabiliyet)\n"
   ]
  },
  {
   "cell_type": "markdown",
   "id": "baca5ce1-7114-4925-815b-8d3decd248c6",
   "metadata": {},
   "source": [
    "Yukarıda personel_sayısını_görüntüle() adlı fonksiyonun yanı sıra, personeli_görüntüle() adlı fonksiyonu da bir sınıf metodu haline getirdik. Çünkü tıpkı personel_sayısını_görüntüle() fonksiyonu gibi, personeli_görüntüle() fonksiyonu da aslında tek tek örneklerden ziyade sınıfın genelini ilgilendiriyor. Dolayısıyla bu fonksiyona da sınıf adı üzerinden erişebilmek gayet makul ve mantıklı bir iştir.\n",
    "\n",
    "Sınıf metotlarımızı başarıyla tanımladığımıza göre artık yukarıdaki sınıfı şu şekilde kullanabiliriz:\n",
    "\n"
   ]
  },
  {
   "cell_type": "code",
   "execution_count": null,
   "id": "c1c5b8b2-491e-456f-a17a-13d625f1ac5a",
   "metadata": {},
   "outputs": [],
   "source": [
    "from çalışan import Çalışan\n",
    "Çalışan.personel_sayısını_görüntüle()\n",
    "0"
   ]
  },
  {
   "cell_type": "markdown",
   "id": "bf11b3a6-99d6-4381-a91b-900b2493df77",
   "metadata": {},
   "source": [
    "Bir sınıf metodu olarak tanımladığımız personel_sayısını_görüntüle() fonksiyonu artık ilgili sınıfın herhangi bir örneğine bağımlı olmadığı için, sınıfı örneklemek zorunda kalmadan, yalnızca sınıf adını kullanarak personel_sayısını_görüntüle() fonksiyonuna erişebiliyoruz. Bu da bize personel sayısının 0 olduğu durumu görüntüleyebilme imkanı veriyor…\n",
    "\n",
    "Ayrıca, personel_sayısını_görüntüle() adlı sınıf metodumuz, fiziksel olarak da sınıfın içinde yer aldığı için, seçmeli içe aktarmalarda sınıfın öteki öğeleriyle birlikte bu metot da aktarılacaktır:"
   ]
  },
  {
   "cell_type": "code",
   "execution_count": null,
   "id": "df2e399b-4971-4687-a720-0b8ee7f52558",
   "metadata": {},
   "outputs": [],
   "source": [
    "from çalışan import Çalışan\n",
    "dir(Çalışan)"
   ]
  },
  {
   "cell_type": "markdown",
   "id": "d4b330a7-27b4-4d45-a66d-22740730f494",
   "metadata": {},
   "source": [
    "Listede sınıf metodumuzun da olduğunu görüyorsunuz.\n",
    "\n",
    "Personele üye ekledikten sonra bu metodu nasıl kullanacağımızı biliyorsunuz:"
   ]
  },
  {
   "cell_type": "markdown",
   "id": "34124047-0ee4-419e-a606-01ab1e356b0f",
   "metadata": {},
   "source": [
    "Listede sınıf metodumuzun da olduğunu görüyorsunuz.\n",
    "\n",
    "Personele üye ekledikten sonra bu metodu nasıl kullanacağımızı biliyorsunuz:"
   ]
  },
  {
   "cell_type": "code",
   "execution_count": null,
   "id": "c3357850-cf3d-4b83-9aed-088607d5ca6a",
   "metadata": {},
   "outputs": [],
   "source": [
    "ahmet = Çalışan('Ahmet')\n",
    "\n",
    "Ahmet adlı kişi personele eklendi\n",
    "\n",
    "mehmet = Çalışan('Mehmet')\n",
    "\n",
    "Mehmet adlı kişi personele eklendi\n",
    "\n",
    "ayşe = Çalışan('Ayşe')\n",
    "\n",
    "Ayşe adlı kişi personele eklendi\n",
    "\n",
    "Çalışan.personel_sayısını_görüntüle()\n",
    "\n",
    "3"
   ]
  },
  {
   "cell_type": "markdown",
   "id": "39fdcc32-005f-4cf4-9f19-52123e843fbd",
   "metadata": {},
   "source": [
    "Gördüğünüz gibi, sınıf metodumuza doğrudan sınıf adını kullanarak erişebiliyoruz. Elbette bu durum, sınıf metoduna örnek adları üzerinden de erişmemize engel değil. Eğer arzu edersek personel_sayısını_görüntüle() adlı sınıf metodunu şu şekilde de çağırabiliriz:"
   ]
  },
  {
   "cell_type": "code",
   "execution_count": null,
   "id": "9113b7ef-c1d0-40cb-92fd-6b23173b93cf",
   "metadata": {},
   "outputs": [],
   "source": [
    "ayşe.personel_sayısını_görüntüle()\n",
    "\n",
    "3\n",
    "\n",
    "ahmet.personel_sayısını_görüntüle()\n",
    "\n",
    "3\n",
    "\n",
    "mehmet.personel_sayısını_görüntüle()\n",
    "\n",
    "3\n"
   ]
  },
  {
   "cell_type": "markdown",
   "id": "63773205-721f-4174-ac81-dd4388a5726f",
   "metadata": {},
   "source": [
    "Ancak örnek metotlarına ve örnek niteliklerine atıfta bulunmak için örnek adlarını kullanmak, sınıf metotları ve sınıf niteliklerine atıfta bulunmak için ise sınıf adlarını tercih etmek daha akıllıca olabilir.\n",
    "\n",
    "personel_sayısını_görüntüle() fonksiyonu için söylediğimiz bu sözler, personeli_görüntüle() fonksiyonu için de aynen geçerlidir.\n",
    "\n",
    "Sözün özü, sınıfın herhangi bir örneğine bağlı olmayan bir işlem yapan, ama anlamsal olarak da sınıfla ilişkili olduğu için sınıf dışında bırakmak istemediğiniz fonksiyonları birer sınıf metodu olarak tanımlayabilirsiniz.\n",
    "\n",
    "++++++++++++++Alternatif İnşacılar\n",
    "\n",
    "Sınıf metotlarının, işimize yarayabilecek bir başka özelliği ise, bunların bir ‘alternatif inşacı’ (alternative constructor) olarak kullanılabilecek olmasıdır. “Alternatif neyci?” diye sorduğunuzu rahatlıkla duyabiliyorum…\n",
    "\n",
    "Gelin isterseniz ‘alternatif inşacı’ kavramını bir dizi örnek üzerinde kabataslak da olsa açıklamaya çalışalım.\n",
    "\n",
    "Şimdi elinizde şöyle bir kitap listesi olduğunu düşünün:"
   ]
  },
  {
   "cell_type": "code",
   "execution_count": null,
   "id": "40cf8f7a-402f-49e7-afa8-346dde009814",
   "metadata": {},
   "outputs": [],
   "source": [
    "liste = [('9789753424080', 'Greenberg', 'Sana Gül Bahçesi Vadetmedim', 'Metis'),\n",
    "         ('975872519X', 'Evren', 'Postmodern Bir Kız Sevdim', 'İthaki'),\n",
    "         ('9789754060409', 'Nietzsche', 'Böyle Buyurdu Zerdüşt', 'Cem')]"
   ]
  },
  {
   "cell_type": "markdown",
   "id": "7afc542a-21be-4a2e-9a11-d6fe88e238b8",
   "metadata": {},
   "source": [
    "Bu liste, her bir kitap için, sırasıyla o kitabın ISBN numarasını, yazarını, ismini ve yayınevini gösteren birer demetten oluşuyor. Amacımız, bu listeden çeşitli ölçütlere göre sorgulama yapabilen bir program yazmak. Yazdığımız program; isbn, isim, eser ve yayınevi ölçütlerine göre bu listeden veri alabilmemizi sağlayacak.\n",
    "\n",
    "İlk denememizi yapalım:"
   ]
  },
  {
   "cell_type": "code",
   "execution_count": null,
   "id": "9b0580d1-0322-451a-9542-e5f7105f399d",
   "metadata": {},
   "outputs": [],
   "source": [
    "liste = [('9789753424080', 'Greenberg', 'Sana Gül Bahçesi Vadetmedim', 'Metis'),\n",
    "         ('975872519X', 'Evren', 'Postmodern Bir Kız Sevdim', 'İthaki'),\n",
    "         ('9789754060409', 'Nietzsche', 'Böyle Buyurdu Zerdüşt', 'Cem')]\n",
    "\n",
    "def sorgula(ölçüt=None, değer=None):\n",
    "    for li in liste:\n",
    "        if not ölçüt and not değer:\n",
    "            print(*li, sep=', ')\n",
    "\n",
    "        elif ölçüt == 'isbn':\n",
    "            if değer == li[0]:\n",
    "                print(*li, sep=', ')\n",
    "\n",
    "        elif ölçüt == 'yazar':\n",
    "            if değer == li[1]:\n",
    "                print(*li, sep=', ')\n",
    "\n",
    "        elif ölçüt == 'eser':\n",
    "            if değer == li[2]:\n",
    "                print(*li, sep=', ')\n",
    "\n",
    "        elif ölçüt == 'yayınevi':\n",
    "            if değer == li[3]:\n",
    "                print(*li, sep=', ')"
   ]
  },
  {
   "cell_type": "markdown",
   "id": "b266d7d5-f7e0-4273-b29e-b3f78975102a",
   "metadata": {},
   "source": [
    "Burada öncelikle kitap listemizi tanımladık. Daha sonra da sorgulama işlemini gerçekleştirecek sorgula() adlı bir fonksiyon yazdık.\n",
    "\n",
    "Bu fonksiyon toplam iki parametre alıyor: ölçüt ve değer. Bu parametrelerin öntanımlı değerlerini None olarak belirledik. Böylece bu fonksiyonu herhangi bir argüman vermeden de çalıştırabileceğiz.\n",
    "\n",
    "Fonksiyon gövdesinde ilk yaptığımız iş, fonksiyon argümansız çalıştırıldığında, yani ölçüt ve değer için herhangi bir değer belirlenmediğinde ne olacağını ayarlamak:\n",
    "\n"
   ]
  },
  {
   "cell_type": "code",
   "execution_count": null,
   "id": "3e5375ac-1478-4bfa-b335-d758c265a5cb",
   "metadata": {},
   "outputs": [],
   "source": [
    "for li in liste:\n",
    "    if not ölçüt and not değer:\n",
    "        print(*li, sep=', ')"
   ]
  },
  {
   "cell_type": "markdown",
   "id": "4500dd34-5b2c-489b-a652-154e1ed85692",
   "metadata": {},
   "source": [
    "Eğer ölçüt ve değer parametreleri için herhangi bir değer belirtilmemişse, yani bunlar None olarak bırakılmışsa, kitap listesinin tamamını, her bir öğe arasına birer virgül yerleştirerek ekrana basıyoruz.\n",
    "\n",
    "Eğer sorgula() fonksiyonu çağrılırken ölçüt parametresine ‘isbn’ argümanı, değer parametresine ise bir ISBN değeri verilmişse şu işlemi yapıyoruz:"
   ]
  },
  {
   "cell_type": "code",
   "execution_count": null,
   "id": "953d9f5d-2be1-4ee9-89f9-3def35e14fa8",
   "metadata": {},
   "outputs": [],
   "source": [
    "elif ölçüt == 'isbn':\n",
    "    if değer == li[0]:\n",
    "        print(*li, sep=', ')"
   ]
  },
  {
   "cell_type": "markdown",
   "id": "be366e74-c465-4ca1-b9b3-f1e9925aca7f",
   "metadata": {},
   "source": [
    "Burada yaptığımız şey şu: Eğer ölçüt ‘isbn’ ise, fonksiyona verilen değer argümanını, kitap listesi içindeki her bir demetin ilk sırasında arıyoruz. Çünkü ISBN bilgileri demetlerin ilk sırasında yer alıyor. Eğer bu koşul sağlanırsa listenin ilgili kısmını ekrana basıyoruz:"
   ]
  },
  {
   "cell_type": "code",
   "execution_count": null,
   "id": "d8d1d59c-f419-4b9f-973e-dc1b79280361",
   "metadata": {},
   "outputs": [],
   "source": [
    "if değer == li[0]:\n",
    "    print(*li, sep=', ')"
   ]
  },
  {
   "cell_type": "markdown",
   "id": "745aeae4-d15d-43c8-8174-d159ef0bd32f",
   "metadata": {},
   "source": [
    "Bu mantığı kullanarak öteki ölçütler için de birer sorgu kodu yazıyoruz:\n",
    "\n"
   ]
  },
  {
   "cell_type": "code",
   "execution_count": null,
   "id": "a355b5c2-1dbe-4792-916d-d205a79812c9",
   "metadata": {},
   "outputs": [],
   "source": [
    "elif ölçüt == 'yazar':\n",
    "    if değer == li[1]:\n",
    "        print(*li, sep=', ')\n",
    "\n",
    "elif ölçüt == 'eser':\n",
    "    if değer == li[2]:\n",
    "        print(*li, sep=', ')\n",
    "\n",
    "elif ölçüt == 'yayınevi':\n",
    "    if değer == li[3]:\n",
    "        print(*li, sep=', ')"
   ]
  },
  {
   "cell_type": "markdown",
   "id": "a615ceaf-9764-44d0-9f54-13013f812a1f",
   "metadata": {},
   "source": [
    "Her bir değer’i, listenin ilgili sırasında aradığımıza dikkat edin. Yazar bilgisi demetlerin ikinci sırasında yer aldığı için li[1]’i, aynı gerekçeyle eser için li[2]’yi, yayınevi için ise li[3]’ü sorguluyoruz.\n",
    "\n",
    "Gelelim bu fonksiyonu nasıl kullanacağımıza…\n",
    "\n",
    "Her zaman söylediğimiz gibi, Python’ın etkileşimli kabuğu mükemmel bir test ortamıdır. O halde şimdi bu kodları klist.py adlı bir dosyaya kaydedelim ve dosyanın bulunduğu dizinde bir etkileşimli kabuk oturumu başlatarak modülümüzü içe aktaralım:\n",
    "\n"
   ]
  },
  {
   "cell_type": "code",
   "execution_count": null,
   "id": "394b15b5-bba3-4111-8267-f9c48ac58181",
   "metadata": {},
   "outputs": [],
   "source": [
    "import klist"
   ]
  },
  {
   "cell_type": "markdown",
   "id": "2650d575-b198-48c9-994c-91c68912d56c",
   "metadata": {},
   "source": [
    "Önce klist modülü içindeki sorgula() fonksiyonunu argümansız olarak çağıralım:\n",
    "\n"
   ]
  },
  {
   "cell_type": "code",
   "execution_count": null,
   "id": "61e8fc6e-6c85-4d21-8b9d-70ebdbd6b682",
   "metadata": {},
   "outputs": [],
   "source": [
    "klist.sorgula()\n",
    "\n",
    "9789753424080, Greenberg, Sana Gül Bahçesi Vadetmedim, Metis\n",
    "975872519X, Evren, Postmodern Bir Kız Sevdim, İthaki\n",
    "9789754060409, Nietzsche, Böyle Buyurdu Zerdüşt, Cem"
   ]
  },
  {
   "cell_type": "markdown",
   "id": "59d58e98-65c1-4636-8372-0a504497cbb1",
   "metadata": {},
   "source": [
    "Tam da beklediğimiz gibi, fonksiyon argümansız çağrıldığında bütün kitap listesini, her bir öğe arasında bir virgül olacak şekilde ekrana basıyor.\n",
    "\n",
    "Şimdi de mesela ISBN numarasına göre birkaç sorgu işlemi gerçekleştirelim:"
   ]
  },
  {
   "cell_type": "code",
   "execution_count": null,
   "id": "de6fc602-83ff-4196-a8a6-23ff966ea501",
   "metadata": {},
   "outputs": [],
   "source": [
    "klist.sorgula('isbn', '9789754060409')\n",
    "\n",
    "9789754060409, Nietzsche, Böyle Buyurdu Zerdüşt , Cem\n",
    "\n",
    "klist.sorgula('isbn', '975872519X')\n",
    "\n",
    "975872519X, Evren, Postmodern Bir Kız Sevdim, İthaki\n",
    "\n",
    "klist.sorgula('isbn', '9789753424080')\n",
    "\n",
    "9789753424080, Greenberg, Sana Gül Bahçesi Vadetmedim, Metis"
   ]
  },
  {
   "cell_type": "markdown",
   "id": "0d8148d1-844f-49c1-a174-ad244e030470",
   "metadata": {},
   "source": [
    "Burada, sorgula() fonksiyonunun ilk parametresine argüman olarak ‘isbn’ değerini verdik. Böylece programımız ISBN numarasına göre sorgu yapmak istediğimizi anladı. Daha sonra da ikinci argüman olarak istediğimiz bir ISBN numarasını yazdık ve sorgu işlemini tamamladık.\n",
    "\n",
    "Bir de yayınevine göre sorgulama yapalım:"
   ]
  },
  {
   "cell_type": "code",
   "execution_count": null,
   "id": "a3a3031f-5bd8-4e4a-b829-d4ede0136494",
   "metadata": {},
   "outputs": [],
   "source": [
    "klist.sorgula('yayınevi', 'Metis')\n",
    "\n",
    "9789753424080, Greenberg, Sana Gül Bahçesi Vadetmedim, Metis\n",
    "\n",
    "klist.sorgula('yayınevi', 'İthaki')\n",
    "\n",
    "975872519X, Evren, Postmodern Bir Kız Sevdim, İthaki\n",
    "\n",
    "klist.sorgula('yayınevi', 'Cem')\n",
    "\n",
    "9789754060409, Nietzsche, Böyle Buyurdu Zerdüşt, Cem"
   ]
  },
  {
   "cell_type": "markdown",
   "id": "83786c97-1815-43a7-847b-b6a8f268504a",
   "metadata": {},
   "source": [
    "Gördüğünüz gibi, fonksiyonumuz gayet güzel çalışıyor…\n",
    "\n",
    "Yukarıda verdiğimiz kodlar, bahsettiğimiz amaç için yazılabilecek tek alternatif değildir elbette. Mesela yukarıdaki if-else yapısını bir sözlük içine yerleştirerek çok daha sade bir program elde edebiliriz.\n",
    "\n",
    "Dikkatlice inceleyin:"
   ]
  },
  {
   "cell_type": "code",
   "execution_count": null,
   "id": "a5cc4214-8cca-40db-97a3-b355deb536d6",
   "metadata": {},
   "outputs": [],
   "source": [
    "liste = [('9789753424080', 'Greenberg', 'Sana Gül Bahçesi Vadetmedim', 'Metis'),\n",
    "         ('975872519X', 'Evren', 'Postmodern Bir Kız Sevdim', 'İthaki'),\n",
    "         ('9789754060409', 'Nietzsche', 'Böyle Buyurdu Zerdüşt', 'Cem')]\n",
    "\n",
    "\n",
    "def sorgula(ölçüt=None, değer=None):\n",
    "    d = {'isbn'     : [li for li in liste if değer == li[0]],\n",
    "         'yazar'    : [li for li in liste if değer == li[1]],\n",
    "         'eser'     : [li for li in liste if değer == li[2]],\n",
    "         'yayınevi' : [li for li in liste if değer == li[3]]}\n",
    "\n",
    "    for öğe in d.get(ölçüt, liste):\n",
    "        print(*öğe, sep = ', ')"
   ]
  },
  {
   "cell_type": "markdown",
   "id": "52819754-8221-4c06-bea5-9cf15711822e",
   "metadata": {},
   "source": [
    "Burada bütün if-else cümleciklerini birer liste üretecine dönüştürüp, d adlı sözlüğün anahtarları olarak belirledik. Artık sorgulama işlemlerini bir if-else yapısı içinde değil de, bir sözlük içinden gerçekleştireceğiz.\n",
    "\n",
    "Hangi parametrenin hangi listeyi çağıracağını belirleyen sözlüğümüzü yazdıktan sonra, sözlüklerin get() metodunu kullanarak, ölçüt argümanının değerine göre sözlükten veri çekiyoruz. Eğer sözlükte bulunmayan bir ölçüt değeri verilirse tüm listeyi ekrana basıyoruz.\n",
    "\n",
    "Bu arada, eğer d sözlüğü içindeki liste üreteçlerinin birbirini tekrar eder bir yapıda olması sizi rahatsız ediyorsa, bu kısmı bir yardımcı fonksiyon aracılığıyla sadeleştirebilirsiniz:"
   ]
  },
  {
   "cell_type": "code",
   "execution_count": null,
   "id": "78eead51-5fbb-47f3-a26e-685add2b6c47",
   "metadata": {},
   "outputs": [],
   "source": [
    "liste = [('9789753424080', 'Greenberg', 'Sana Gül Bahçesi Vadetmedim', 'Metis'),\n",
    "         ('975872519X', 'Evren', 'Postmodern Bir Kız Sevdim', 'İthaki'),\n",
    "         ('9789754060409', 'Nietzsche', 'Böyle Buyurdu Zerdüşt', 'Cem')]\n",
    "\n",
    "def bul(değer, sıra):\n",
    "    return [li for li in liste if değer == li[sıra]]\n",
    "\n",
    "def sorgula(ölçüt=None, değer=None):\n",
    "    d = {'isbn'     : bul(değer, 0),\n",
    "         'yazar'    : bul(değer, 1),\n",
    "         'eser'     : bul(değer, 2),\n",
    "         'yayınevi' : bul(değer, 3)}\n",
    "\n",
    "    for öğe in d.get(ölçüt, liste):\n",
    "        print(*öğe, sep = ', ')"
   ]
  },
  {
   "cell_type": "markdown",
   "id": "82390d58-1e2f-4c12-b0de-125cc63f0d35",
   "metadata": {},
   "source": [
    "Burada bütün liste üreteçlerini tek bir bul() fonksiyonu içinde oluşturarak, sorgula() fonksiyonu içindeki d sözlüğüne gönderdik.\n",
    "\n",
    "Bu kodları da aynı ilk program örneğinde olduğu gibi kullanıyoruz:"
   ]
  },
  {
   "cell_type": "code",
   "execution_count": null,
   "id": "4aa5e07a-7b46-46b6-b92c-684ea40467ea",
   "metadata": {},
   "outputs": [],
   "source": [
    "import klist\n",
    "klist.sorgula()\n",
    "\n",
    "9789753424080, Greenberg, Sana Gül Bahçesi Vadetmedim, Metis\n",
    "975872519X, Evren, Postmodern Bir Kız Sevdim, İthaki\n",
    "9789754060409, Nietzsche, Böyle Buyurdu Zerdüşt, Cem\n",
    "\n",
    "klist.sorgula('yazar', 'Nietzsche')\n",
    "\n",
    "9789754060409, Nietzsche, Böyle Buyurdu Zerdüşt, Cem\n",
    "\n",
    "klist.sorgula('eser', 'Sana Gül Bahçesi Vadetmedim')\n",
    "\n",
    "9789753424080, Greenberg, Sana Gül Bahçesi Vadetmedim, Metis"
   ]
  },
  {
   "cell_type": "markdown",
   "id": "fb6a112e-ad16-40f7-8245-14a8120b1bcb",
   "metadata": {},
   "source": [
    "Yukarıdaki kodları yazmanın daha başka alternatifleri de var. Mesela, eğer arzu ederseniz, yukarıdaki kodları bir sınıf yapısı içinde de ifade edebilirsiniz:\n",
    "\n"
   ]
  },
  {
   "cell_type": "code",
   "execution_count": null,
   "id": "719136ab-f540-45aa-8485-7d28cb2a870e",
   "metadata": {},
   "outputs": [],
   "source": [
    "class Sorgu():\n",
    "    def __init__(self):\n",
    "        self.liste = [('9789753424080', 'Greenberg', 'Sana Gül Bahçesi Vadetmedim', 'Metis'),\n",
    "                      ('975872519X', 'Evren', 'Postmodern Bir Kız Sevdim', 'İthaki'),\n",
    "                      ('9789754060409', 'Nietzsche', 'Böyle Buyurdu Zerdüşt', 'Cem')]\n",
    "\n",
    "    def bul(self, değer, sıra):\n",
    "        return [li for li in self.liste if değer == li[sıra]]\n",
    "\n",
    "    def sorgula(self, ölçüt=None, değer=None):\n",
    "        d = {'isbn'     : self.bul(değer, 0),\n",
    "             'yazar'    : self.bul(değer, 1),\n",
    "             'eser'     : self.bul(değer, 2),\n",
    "             'yayınevi' : self.bul(değer, 3)}\n",
    "\n",
    "        for öğe in d.get(ölçüt, self.liste):\n",
    "            print(*öğe, sep = ', ')"
   ]
  },
  {
   "cell_type": "markdown",
   "id": "4f865722-f853-468b-8c44-1b1516bd584e",
   "metadata": {},
   "source": [
    "Burada kitap listesini bir örnek niteliği olarak tanımlamak suretiyle sınıfın her yerinden kullanılabilir hale getirdik.\n",
    "\n",
    "Ardından da bul() ve sorgula() adlı fonksiyonları, birer örnek metodu biçiminde sınıf içine yerleştirdik.\n",
    "\n",
    "Bu sınıfı da şu şekilde kullanabiliriz:\n",
    "\n"
   ]
  },
  {
   "cell_type": "code",
   "execution_count": null,
   "id": "ae8cf914-4765-465c-8279-8c84dbe967b5",
   "metadata": {},
   "outputs": [],
   "source": [
    "import klist\n",
    "sorgu = klist.Sorgu()\n",
    "sorgu.sorgula()\n",
    "\n",
    "9789753424080, Greenberg, Sana Gül Bahçesi Vadetmedim, Metis\n",
    "975872519X, Evren, Postmodern Bir Kız Sevdim, İthaki\n",
    "9789754060409, Nietzsche, Böyle Buyurdu Zerdüşt, Cem\n",
    "\n",
    "sorgu.sorgula('yazar', 'Evren')\n",
    "\n",
    "975872519X, Evren, Postmodern Bir Kız Sevdim, İthaki"
   ]
  },
  {
   "cell_type": "markdown",
   "id": "fc883f10-7cae-41b2-b9b2-1e94dd1afec0",
   "metadata": {},
   "source": [
    "Elbette, bu örnekte, ilk yazdığımız kodları bir sınıf yapısı içinde tarif etmenin bize pek bir katkısı yok. Burada yaptığımız şey esasında bütün kodları ‘Sorgu’ adlı bir etki alanı içine taşımaktan fazlası değil. Ama böyle bir imkanınızın da olduğunu bilmeniz her halükarda sizin için faydalı olacaktır.\n",
    "\n",
    "Gelelim yukarıdaki kodları yazmanın son alternatifine:"
   ]
  },
  {
   "cell_type": "code",
   "execution_count": null,
   "id": "dc4acdbc-40b5-4345-adf6-716a88e80a88",
   "metadata": {},
   "outputs": [],
   "source": [
    "class Sorgu():\n",
    "    def __init__(self, değer=None, sıra=None):\n",
    "        self.liste = [('9789753424080', 'Greenberg', 'Sana Gül Bahçesi Vadetmedim', 'Metis'),\n",
    "                      ('975872519X', 'Evren', 'Postmodern Bir Kız Sevdim', 'İthaki'),\n",
    "                      ('9789754060409', 'Nietzsche', 'Böyle Buyurdu Zerdüşt', 'Cem')]\n",
    "\n",
    "        if not değer and not sıra:\n",
    "            l = self.liste\n",
    "        else:\n",
    "            l = [li for li in self.liste if değer == li[sıra]]\n",
    "\n",
    "        for i in l:\n",
    "            print(*i, sep=', ')\n",
    "\n",
    "    @classmethod\n",
    "    def isbnden(cls, isbn):\n",
    "        cls(isbn, 0)\n",
    "\n",
    "    @classmethod\n",
    "    def yazardan(cls, yazar):\n",
    "        cls(yazar, 1)\n",
    "\n",
    "    @classmethod\n",
    "    def eserden(cls, eser):\n",
    "        cls(eser, 2)\n",
    "\n",
    "    @classmethod\n",
    "    def yayınevinden(cls, yayınevi):\n",
    "        cls(yayınevi, 3)"
   ]
  },
  {
   "cell_type": "markdown",
   "id": "96908333-33ca-4225-9e48-812bbec926cf",
   "metadata": {},
   "source": [
    "Burada da, her bir ölçütü ayrı birer sınıf metodu olarak tanımladık. Böylece bu ölçütleri yapısal olarak birbirinden ayırmış olduk. Yukarıdaki sınıfı şu şekilde kullanabiliriz:\n",
    "\n",
    "Önce modülümüzü içe aktaralım:\n",
    "\n"
   ]
  },
  {
   "cell_type": "code",
   "execution_count": null,
   "id": "30f3115a-1e40-4026-94be-6bed6cbc9865",
   "metadata": {},
   "outputs": [],
   "source": [
    "from klist import Sorgu"
   ]
  },
  {
   "cell_type": "markdown",
   "id": "d0006719-df3b-4f38-99ba-644aebd13868",
   "metadata": {},
   "source": [
    "ISBN numarasına göre bir sorgu gerçekleştirelim:"
   ]
  },
  {
   "cell_type": "code",
   "execution_count": null,
   "id": "4abf1ed4-1735-4ac0-a360-69ae3e7e92e3",
   "metadata": {},
   "outputs": [],
   "source": [
    "Sorgu.isbnden(\"9789753424080\")\n",
    "\n",
    "9789753424080, Greenberg, Sana Gül Bahçesi Vadetmedim, Metis"
   ]
  },
  {
   "cell_type": "markdown",
   "id": "77286aa0-b937-4a09-82e6-2fe2d38d9e9e",
   "metadata": {},
   "source": [
    "Gördüğünüz gibi, sınıf metodu yaklaşımı, gayet temiz bir sorgu kodu üretmemize imkan tanıyor.\n",
    "\n",
    "Bir de yazara ve esere göre sorgulayalım:"
   ]
  },
  {
   "cell_type": "code",
   "execution_count": null,
   "id": "95c0eb7d-b0bb-4bb9-a212-a6eb8f6f7e02",
   "metadata": {},
   "outputs": [],
   "source": [
    "Sorgu.yazardan(\"Greenberg\")\n",
    "\n",
    "9789753424080, Greenberg, Sana Gül Bahçesi Vadetmedim, Metis\n",
    "\n",
    "Sorgu.eserden(\"Postmodern Bir Kız Sevdim\")\n",
    "\n",
    "975872519X, Evren, Postmodern Bir Kız Sevdim, İthaki\n"
   ]
  },
  {
   "cell_type": "markdown",
   "id": "460329c3-ed3b-4b72-bda9-4bc9134952f6",
   "metadata": {},
   "source": [
    "Bunlar da gayet güzel görünüyor.\n",
    "\n",
    "Şimdi bir de bütün listeyi alalım:\n",
    "\n"
   ]
  },
  {
   "cell_type": "code",
   "execution_count": null,
   "id": "924bcd3f-39c3-4c90-b1c4-7e7cbf90b8ff",
   "metadata": {},
   "outputs": [],
   "source": [
    "hepsi = Sorgu()\n",
    "\n",
    "9789753424080, Greenberg, Sana Gül Bahçesi Vadetmedim, Metis\n",
    "975872519X, Evren, Postmodern Bir Kız Sevdim, İthaki\n",
    "9789754060409, Nietzsche, Böyle Buyurdu Zerdüşt, Cem"
   ]
  },
  {
   "cell_type": "markdown",
   "id": "028bb57c-80b6-4818-8f5f-fe8553b03bb2",
   "metadata": {},
   "source": [
    "Gördüğünüz gibi, sınıfı parametresiz olarak örneklediğimizde bütün listeyi elde ediyoruz.\n",
    "\n",
    "İşte ‘alternatif inşa’ denen işlem tam olarak budur. Yukarıdaki örnekte isbnden(), yazardan(), eserden() ve yayınevinden() adlı sınıf metotları, Sorgu() adlı sınıfı alternatif şekillerde inşa etmemizi sağlıyor [1].\n",
    "\n",
    "Normal şartlarda, bir sınıfı, __init__() fonksiyonuna verdiğimiz parametreler aracılığıyla inşa ediyoruz (birkaç sayfa sonra ‘inşa’ kavramından daha ayrıntılı olarak bahsedeceğiz).\n",
    "\n",
    "Mesela:"
   ]
  },
  {
   "cell_type": "code",
   "execution_count": null,
   "id": "6c260bf6-8fc3-4e28-9901-c0b3bfee20e7",
   "metadata": {},
   "outputs": [],
   "source": [
    "class Giriş():\n",
    "    def __init__(self, mesaj='Müşteri numaranız: '):\n",
    "        cevap = input(mesaj)\n",
    "        print('Hoşgeldiniz!')"
   ]
  },
  {
   "cell_type": "markdown",
   "id": "12b29b3e-a1ff-443a-adbf-702c497c1723",
   "metadata": {},
   "source": [
    "Burada tanımladığımız Giriş() sınıfı, bir müşteri numarası aracılığıyla sisteme giriş imkanı sağlıyor:\n",
    "\n"
   ]
  },
  {
   "cell_type": "code",
   "execution_count": null,
   "id": "81ec8598-b21f-4e12-93eb-bdb6b9b583f9",
   "metadata": {},
   "outputs": [],
   "source": [
    "from sistem import Giriş #kodlarımız sistem.py dosyası içinde\n",
    "Giriş()"
   ]
  },
  {
   "cell_type": "markdown",
   "id": "6a14d42c-ec3f-4bb6-adfe-b9d811ecdf5d",
   "metadata": {},
   "source": [
    "Eğer biz aynı zamanda bir parola ve TC Kimlik Numarası ile de giriş imkanı sağlamak istersek, başka yöntemlerin yanı sıra, sınıf metotlarından da yararlanabiliriz:"
   ]
  },
  {
   "cell_type": "code",
   "execution_count": null,
   "id": "b7b6c3fc-9e5b-4167-8d3c-91f0307f0b55",
   "metadata": {},
   "outputs": [],
   "source": [
    "class Giriş():\n",
    "    def __init__(self, mesaj='Müşteri numaranız: '):\n",
    "        cevap = input(mesaj)\n",
    "        print('Hoşgeldiniz!')\n",
    "\n",
    "    @classmethod\n",
    "    def paroladan(cls):\n",
    "        mesaj = 'Lütfen parolanızı giriniz: '\n",
    "        cls(mesaj)\n",
    "\n",
    "    @classmethod\n",
    "    def tcknden(cls):\n",
    "        mesaj = 'Lütfen TC kimlik numaranızı giriniz: '\n",
    "        cls(mesaj)"
   ]
  },
  {
   "cell_type": "markdown",
   "id": "ca7a9145-bf77-4ba6-9686-d18e24555aff",
   "metadata": {},
   "source": [
    "Bu şekilde yukarıdaki sınıfı aşağıdaki gibi de inşa etme imkanına kavuşuyoruz:\n",
    "\n"
   ]
  },
  {
   "cell_type": "code",
   "execution_count": null,
   "id": "78f280ae-5147-4fcb-9a0f-e1fa5f93de69",
   "metadata": {},
   "outputs": [],
   "source": [
    "Giriş.paroladan()\n"
   ]
  },
  {
   "cell_type": "markdown",
   "id": "f4239a8b-e11c-4193-b7a9-16fb559c718a",
   "metadata": {},
   "source": [
    "veya:\n",
    "\n"
   ]
  },
  {
   "cell_type": "code",
   "execution_count": null,
   "id": "3ffd1e2f-b01c-4175-be75-f57c8b1b9f68",
   "metadata": {},
   "outputs": [],
   "source": [
    "Giriş.tcknden()\n"
   ]
  },
  {
   "cell_type": "markdown",
   "id": "d7387899-2c9c-4dae-b4b7-9c548c67ce25",
   "metadata": {},
   "source": [
    "Sınıf metotları içinde kullandığımız cls(mesaj) satırları, Giriş() adlı sınıfı farklı bir parametre ile çağırmamızı sağlıyor. Gördüğünüz gibi, bu sınıfın mesaj parametresinin öntanımlı değeri ‘Müşteri numaranız: ‘. Sınıfımızı farklı bir şekilde çağırabilmek için, cls(mesaj) kodları yardımıyla sınıfın mesaj parametresini ‘Lütfen parolanızı giriniz: ‘ ve ‘Lütfen TC kimlik numaranızı giriniz: ‘ değerleri ile yeniden çalıştırıyoruz.\n",
    "\n",
    "Daha önce de birkaç kez vurguladığımız gibi, cls kelimesi Python açısından bir zorunluluk değildir. Yani yukarıdaki sınıfı mesela şöyle de yazabilirdik:"
   ]
  },
  {
   "cell_type": "code",
   "execution_count": null,
   "id": "2ab94a37-2a87-4154-a9a3-6d811a7cd8d4",
   "metadata": {},
   "outputs": [],
   "source": [
    "class Giriş():\n",
    "    def __init__(self, mesaj='Müşteri numaranız: '):\n",
    "        cevap = input(mesaj)\n",
    "        print('Hoşgeldiniz!')\n",
    "\n",
    "    @classmethod\n",
    "    def paroladan(snf):\n",
    "        mesaj = 'Lütfen parolanızı giriniz: '\n",
    "        snf(mesaj)\n",
    "\n",
    "    @classmethod\n",
    "    def tcknden(snf):\n",
    "        mesaj = 'Lütfen TC kimlik numaranızı giriniz: '\n",
    "        snf(mesaj)"
   ]
  },
  {
   "cell_type": "markdown",
   "id": "3212aed9-608a-4820-b63e-67f6783d854e",
   "metadata": {},
   "source": [
    "Ancak, tıpkı self kelimesinde olduğu gibi, cls de Python topluluğu içinde son derece yerleşik bir gelenektir. Bu geleneği bozmak isteyeceğinizi zannetmiyorum.\n",
    "\n",
    "İlk bakışta sınıf metotları size pek gerekli değilmiş gibi gelebilir. Ama eğer bu metotların gerçek dünyadaki kullanımına ilişkin bir örnek verirsek belki fikriniz değişir.\n",
    "\n",
    "Sınıf metotlarının kullanımına ilişkin güzel bir örneği datetime modülünde görebilirsiniz.\n",
    "\n",
    "Aşağıdaki örneği daha iyi anlayabilmek için datetime Modülü ve time Modülü belgelerine bakınız.\n",
    "Bir standart kütüphane modülü olan datetime’ın kaynak dosyasını açarsanız (kaynak dosyanın nerede olduğunu nasıl öğrenebilirim diye soran arkadaşlara teessüflerimi iletiyorum…), orada date sınıfının şöyle yazıldığını göreceksiniz:"
   ]
  },
  {
   "cell_type": "code",
   "execution_count": 1,
   "id": "eb723968-cc29-4213-a92f-5d8445ff5575",
   "metadata": {},
   "outputs": [],
   "source": [
    "class date:\n",
    "    __slots__ = '_year', '_month', '_day'\n",
    "\n",
    "    def __new__(cls, year, month=None, day=None):\n",
    "        if (isinstance(year, bytes) and len(year) == 4 and\n",
    "            1 <= year[2] <= 12 and month is None):  # Month is sane\n",
    "            # Pickle support\n",
    "            self = object.__new__(cls)\n",
    "            self.__setstate(year)\n",
    "            return self\n",
    "        _check_date_fields(year, month, day)\n",
    "        self = object.__new__(cls)\n",
    "        self._year = year\n",
    "        self._month = month\n",
    "        self._day = day\n",
    "        return self\n",
    "\n",
    "    @classmethod\n",
    "    def fromtimestamp(cls, t):\n",
    "        y, m, d, hh, mm, ss, weekday, jday, dst = _time.localtime(t)\n",
    "        return cls(y, m, d)\n",
    "\n",
    "    @classmethod\n",
    "    def today(cls):\n",
    "        t = _time.time()\n",
    "        return cls.fromtimestamp(t)\n",
    "\n",
    "    @classmethod\n",
    "    def fromordinal(cls, n):\n",
    "        y, m, d = _ord2ymd(n)\n",
    "        return cls(y, m, d)"
   ]
  },
  {
   "cell_type": "markdown",
   "id": "3f118142-182d-423b-9aa6-0c152a29a5c7",
   "metadata": {},
   "source": [
    "Gördüğünüz gibi, burada üç tane sınıf metodu var:"
   ]
  },
  {
   "cell_type": "code",
   "execution_count": null,
   "id": "78dd3b01-2f2d-4bf4-a904-34729f613331",
   "metadata": {},
   "outputs": [],
   "source": [
    "@classmethod\n",
    "def fromtimestamp(cls, t):\n",
    "    ...\n",
    "\n",
    "@classmethod\n",
    "def today(cls):\n",
    "    ...\n",
    "\n",
    "@classmethod\n",
    "def fromordinal(cls, n):\n",
    "    ..."
   ]
  },
  {
   "cell_type": "markdown",
   "id": "23c59540-1393-4310-adf5-eb3d4285321c",
   "metadata": {},
   "source": [
    "Normal şartlarda datetime modülü içindeki date sınıfını şu şekilde kullanıyoruz:"
   ]
  },
  {
   "cell_type": "code",
   "execution_count": null,
   "id": "aedeee24-8f16-4ebd-9847-2c576f228bec",
   "metadata": {},
   "outputs": [],
   "source": [
    "import datetime\n",
    "bugün = datetime.date(2015, 6, 16)"
   ]
  },
  {
   "cell_type": "markdown",
   "id": "6a80a08d-114d-4fd8-9fb5-d7e85750465b",
   "metadata": {},
   "source": [
    "Bu şekilde, date sınıfına sırasıyla yıl, ay ve gün bilgisi girerek bugün adlı bir tarih nesnesi oluşturmuş oluyoruz. Bu şekilde herhangi bir tarihi elle oluşturabilirsiniz.\n",
    "\n",
    "Eğer amacınız bugünün tarihini oluşturmaksa, yıl, ay ve gün bilgilerini yukarıdaki gibi date sınıfına elle girebileceğiniz gibi, today() adlı sınıf metodunu da kullanabilirsiniz:"
   ]
  },
  {
   "cell_type": "code",
   "execution_count": null,
   "id": "d35c5826-198f-4709-8883-08a962798704",
   "metadata": {},
   "outputs": [],
   "source": [
    "bugün = datetime.date.today()"
   ]
  },
  {
   "cell_type": "markdown",
   "id": "2123e88c-fb8e-492a-ba63-02c54a302f6b",
   "metadata": {},
   "source": [
    "İşte böylece, date sınıfının size sunduğu bir alternatif inşacı (today()) vasıtasıyla bugünün tarihini otomatik olarak elde etmiş oldunuz.\n",
    "\n",
    "Aynı şekilde, eğer elinizde bir zaman damgası varsa ve siz bu zaman damgasından bir tarih elde etmek istiyorsanız yine date sınıfının sunduğu bir başka alternatif inşacıdan yararlanabilirsiniz:"
   ]
  },
  {
   "cell_type": "code",
   "execution_count": null,
   "id": "75b70c7e-8d04-4797-a256-78fc6b0ff784",
   "metadata": {},
   "outputs": [],
   "source": [
    "import time\n",
    "zaman_damgası = time.time()\n",
    "bugün = datetime.date.fromtimestamp(zaman_damgası)"
   ]
  },
  {
   "cell_type": "markdown",
   "id": "c6e4662f-2e35-4a17-857a-539f4677a334",
   "metadata": {},
   "source": [
    "Eğer elinizde tam sayı biçimli bir Gregoryen tarih verisi varsa bu veriyi kullanarak da bir tarih nesnesi elde edebilirsiniz:\n",
    "\n"
   ]
  },
  {
   "cell_type": "code",
   "execution_count": null,
   "id": "5737abca-971f-459d-933f-350ae409d8c3",
   "metadata": {},
   "outputs": [],
   "source": [
    "gregoryen = 735765\n",
    "bugün = datetime.date.fromordinal(gregoryen)\n",
    "\n",
    "datetime.date(2015, 6, 16)"
   ]
  },
  {
   "cell_type": "markdown",
   "id": "c00d41ed-09bd-4a21-8394-4ff138d657ce",
   "metadata": {},
   "source": [
    "Uzun lafın kısası, alternatif inşacılar, bir sınıftan nesne oluşturmak için bize alternatif yollar sunan son derece faydalı araçlardır. Bu arada, eğer bu bölümde değindiğimiz bazı kavramları anlamakta zorlandıysanız hiç canınızı sıkmayın. Bir sonraki bölümü işledikten sonra, burada anlatılanlar kafanıza çok daha sağlam bir şekilde yerleşmiş olacak.\n",
    "\n",
    "+++++++++++++++Statik Metotlar\n",
    "\n",
    "Python’da örnek metotları ve sınıf metotları dışında bir de statik metotlar bulunur. Bildiğiniz gibi, örnek nitelikleri üzerinde işlem yapacağımız zaman örnek metotlarını kullanıyoruz. Aynı şekilde sınıf nitelikleri üzerinde işlem yapacağımız zaman ise sınıf metotlarından faydalanıyoruz. Örnek metotları içinde herhangi bir örnek niteliğine erişmek istediğimizde self kelimesini kullanıyoruz. Sınıf metotları içinde bir sınıf niteliğine erişmek için ise cls kelimesini kullanıyoruz. İşte eğer bir sınıf içindeki herhangi bir fonksiyonda örnek veya sınıf niteliklerinin hiçbirine erişmeniz gerekmiyorsa, statik metotları kullanabilirsiniz.\n",
    "\n"
   ]
  },
  {
   "cell_type": "markdown",
   "id": "17410444-7625-4743-9fc6-5e2277bca2da",
   "metadata": {},
   "source": [
    "+++++++++++@staticmethod Bezeyicisi\n",
    "\n",
    "Buraya gelene kadar öğrendiğimiz örnek ve sınıf metotlarını nasıl kullanacağımızı biliyorsunuz:"
   ]
  },
  {
   "cell_type": "code",
   "execution_count": null,
   "id": "9c4dd28c-ef44-47a0-a40b-00d30b17ce2b",
   "metadata": {},
   "outputs": [],
   "source": [
    "class Sınıf():\n",
    "    sınıf_niteliği = 0\n",
    "\n",
    "    def __init__(self, veri):\n",
    "        self.veri = veri\n",
    "\n",
    "    def örnek_metodu(self):\n",
    "        return self.veri\n",
    "\n",
    "    @classmethod\n",
    "    def sınıf_metodu(cls):\n",
    "        return cls.sınıf_niteliği"
   ]
  },
  {
   "cell_type": "markdown",
   "id": "ddccbea2-cfd5-4bc4-b5b3-c426cfb0a7bd",
   "metadata": {},
   "source": [
    "Burada örnek_metodu(), self yardımıyla örnek niteliklerine erişiyor. sınıf_metodu() ise cls yardımıyla sınıf niteliklerine erişiyor. Sınıf metodu tanımlamak için ayrıca @classmethod bezeyicisini de kullanıyoruz. İşte eğer sınıf içinde tanımlayacağınız fonksiyon herhangi bir örnek ya da sınıf niteliği üzerinde herhangi bir işlem yapmayacaksa şöyle bir şey yazabilirsiniz:\n",
    "\n"
   ]
  },
  {
   "cell_type": "code",
   "execution_count": null,
   "id": "65c36370-1bda-4af2-b3cf-0b0d20b17441",
   "metadata": {},
   "outputs": [],
   "source": [
    "class Sınıf():\n",
    "    sınıf_niteliği = 0\n",
    "\n",
    "    def __init__(self, veri):\n",
    "        self.veri = veri\n",
    "\n",
    "    def örnek_metodu(self):\n",
    "        return self.veri\n",
    "\n",
    "    @classmethod\n",
    "    def sınıf_metodu(cls):\n",
    "        return cls.sınıf_niteliği\n",
    "\n",
    "    @staticmethod\n",
    "    def statik_metot():\n",
    "        print('merhaba statik metot!')\n"
   ]
  },
  {
   "cell_type": "markdown",
   "id": "6cfd4827-baad-4214-a288-cfa7aa7d7fd9",
   "metadata": {},
   "source": [
    "Gördüğünüz gibi, statik metotları tanımlamak için @staticmethod bezeyicisini kullanıyoruz. Statik metotlar, ilk parametre olarak self veya cls benzeri kelimeler almaz. Çünkü bu tür sınıfların örnek veya sınıf nitelikleri ile herhangi bir işi yoktur.\n",
    "\n",
    "Peki statik metotlar ne işe yarar?\n",
    "\n",
    "Bu metotlar sınıf metotlarına çok benzer. Tıpkı sınıf metotlarında olduğu gibi, anlamsal olarak sınıfla ilgili olan, ancak sınıf metotlarının aksine bu sınıfın herhangi bir niteliğine erişmesine gerek olmayan fonksiyonları, sınıf dışına atmak yerine, birer statik metot olarak sınıf içine yerleştirebiliriz.\n",
    "\n",
    "Basit bir örnek verelim:\n",
    "\n"
   ]
  },
  {
   "cell_type": "code",
   "execution_count": null,
   "id": "20e10ed7-d405-4e94-a25f-928dea90da2d",
   "metadata": {},
   "outputs": [],
   "source": [
    "class Mat():\n",
    "    '''Matematik işlemleri yapmamızı sağlayan\n",
    "    bir sınıf.'''\n",
    "\n",
    "    @staticmethod\n",
    "    def pi():\n",
    "        return 22/7\n",
    "\n",
    "    @staticmethod\n",
    "    def karekök(sayı):\n",
    "        return sayı ** 0.5"
   ]
  },
  {
   "cell_type": "markdown",
   "id": "6aaba5f9-a6c5-43f2-bc1a-215f62d40130",
   "metadata": {},
   "source": [
    "Burada Mat() adlı bir sınıf tanımladık. Bu sınıf içinde iki adet statik metodumuz var: pi() ve karekök(). Gördüğünüz gibi, bu iki fonksiyon, örnek ve sınıf metotlarının aksine ilk parametre olarak self veya cls almıyor. Çünkü bu iki sınıfın da sınıf veya örnek nitelikleriyle herhangi bir işi yok.\n",
    "\n",
    "Statik metotları hem örnekler hem de sınıf adları üzerinden kullanabiliriz.\n",
    "\n",
    "Yukarıdaki kodların mat.py adlı bir dosyada yer aldığını varsayarsak:\n",
    "\n"
   ]
  },
  {
   "cell_type": "code",
   "execution_count": null,
   "id": "c94b626d-259e-4cf4-93f7-0cc6b5b74837",
   "metadata": {},
   "outputs": [],
   "source": [
    "from mat import Mat\n",
    "m = Mat()\n",
    "m.pi() #örnek üzerinden\n",
    "\n",
    "3.142857142857143\n",
    "\n",
    "m.karekök(144) #örnek üzerinden\n",
    "\n",
    "12.0\n",
    "\n",
    "Mat.pi() #sınıf üzerinden\n",
    "3.142857142857143\n",
    "\n",
    "Mat.karekök(144) #sınıf üzerinden\n",
    "\n",
    "12.0"
   ]
  },
  {
   "cell_type": "markdown",
   "id": "506b7538-8172-4ebb-9b5f-f1b66288277e",
   "metadata": {},
   "source": [
    "Statik metotların özellikle sınıf adları üzerinden kullanılabilmesi, bu tür metotları epey kullanışlı hale getirir. Böylece sınıfı örneklemek zorunda kalmadan, sınıf içindeki statik metotlara ulaşabiliriz.\n",
    "\n",
    "Elbette eğer isteseydik biz bu fonksiyonları şöyle de tanımlayabilirdik:"
   ]
  },
  {
   "cell_type": "code",
   "execution_count": null,
   "id": "0ffab4b0-1872-4417-9d64-223a2afc3c64",
   "metadata": {},
   "outputs": [],
   "source": [
    "class Mat():\n",
    "    '''Matematik işlemleri yapmamızı sağlayan\n",
    "    bir sınıf.'''\n",
    "\n",
    "    def pi(self):\n",
    "        return 22/7\n",
    "\n",
    "    def karekök(self, sayı):\n",
    "        return sayı ** 0.5"
   ]
  },
  {
   "cell_type": "markdown",
   "id": "e18ba4e4-5bd7-4c69-9d13-88379751c599",
   "metadata": {},
   "source": [
    "Burada bu iki fonksiyonu birer örnek metodu olarak tanımladık. Bu fonksiyonları bu şekilde tanımladığımızda, bunlara örnekler üzerinden erişebiliriz:"
   ]
  },
  {
   "cell_type": "code",
   "execution_count": null,
   "id": "112dbf51-3a3a-41f4-8ce4-0326935b1a09",
   "metadata": {},
   "outputs": [],
   "source": [
    "from mat import Mat\n",
    "m = Mat()\n",
    "m.pi()\n",
    "\n",
    "3.142857142857143\n",
    "\n",
    "m.karekök(144)\n",
    "\n",
    "12.0"
   ]
  },
  {
   "cell_type": "markdown",
   "id": "9a23dd65-dbeb-41cc-aae3-47ee79138ff2",
   "metadata": {},
   "source": [
    "Ancak bildiğiniz gibi, örnek metotlarına sınıf adları üzerinden erişemeyiz:\n",
    "\n"
   ]
  },
  {
   "cell_type": "code",
   "execution_count": null,
   "id": "8b132c0f-6b9a-4fcc-af36-79d47687553c",
   "metadata": {},
   "outputs": [],
   "source": [
    "Mat.pi()\n",
    "\n",
    "Traceback (most recent call last):\n",
    "  File \"<stdin>\", line 1, in <module>\n",
    "TypeError: pi() missing 1 required positional argument: 'self'"
   ]
  },
  {
   "cell_type": "markdown",
   "id": "2607ac9f-632a-4839-97ce-fb576107fc68",
   "metadata": {},
   "source": [
    "Aynı şekilde bunları sınıf metodu olarak da tanımlayabilirdik:"
   ]
  },
  {
   "cell_type": "code",
   "execution_count": null,
   "id": "a531e5df-71fe-4091-b75e-5f6a8050154f",
   "metadata": {},
   "outputs": [],
   "source": [
    "class Mat():\n",
    "    '''Matematik işlemleri yapmamızı sağlayan\n",
    "    bir sınıf.'''\n",
    "\n",
    "    @classmethod\n",
    "    def pi(cls):\n",
    "        return 22/7\n",
    "\n",
    "    @classmethod\n",
    "    def karekök(cls, sayı):\n",
    "        return sayı ** 0.5"
   ]
  },
  {
   "cell_type": "markdown",
   "id": "947411c9-166a-46e0-b51b-e39601777d8e",
   "metadata": {},
   "source": [
    "Bu metotları böyle tanımladığımızda, bu metotlara hem örnekler üzerinden hem de sınıf adı üzerinden erişebiliriz:"
   ]
  },
  {
   "cell_type": "code",
   "execution_count": null,
   "id": "185270e6-d346-413a-b777-c4dbdd9e1c58",
   "metadata": {},
   "outputs": [],
   "source": [
    "from mat import Mat\n",
    "m = Mat()\n",
    "m.pi() #örnek üzerinden\n",
    "\n",
    "3.142857142857143\n",
    "\n",
    "m.karekök(144) #örnek üzerinden\n",
    "\n",
    "12.0\n",
    "\n",
    "Mat.pi() #sınıf üzerinden\n",
    "3.142857142857143\n",
    "\n",
    "Mat.karekök(144) #sınıf üzerinden\n",
    "\n",
    "12.0"
   ]
  },
  {
   "cell_type": "markdown",
   "id": "2fccfa1e-a458-45d7-a2b2-ececa6aef84c",
   "metadata": {},
   "source": [
    "Gördüğünüz gibi, kullanım açısından sınıf metotları ile statik metotlar aynı. Ancak Mat() sınıfı içindeki fonksiyonları birer sınıf metodu olarak tanımladığımızda gereksiz yere cls parametresi kullanmış oluyoruz. Fonksiyon içinde herhangi bir yerde kullanılmadığı için, yukarıdaki örnekte cls parametresinin hiçbir amaca hizmet etmediğine dikkat edin.\n",
    "\n",
    "Statik metotların çok sık kullanılan araçlar olmadığını da belirterek yolumuza devam edelim.\n",
    "\n",
    "Dipnotları:\n",
    "\n",
    "[1]\n",
    "Aslında burada inşa edilen şey sınıftan ziyade nesnedir. Bu durumu ve ‘nesne’ kavramını bir sonraki bölümde ayrıntılı olarak ele alacağız."
   ]
  },
  {
   "cell_type": "code",
   "execution_count": null,
   "id": "25ede90c-685a-46de-a93e-f7b18af99db3",
   "metadata": {},
   "outputs": [],
   "source": []
  }
 ],
 "metadata": {
  "kernelspec": {
   "display_name": "Python 3 (ipykernel)",
   "language": "python",
   "name": "python3"
  },
  "language_info": {
   "codemirror_mode": {
    "name": "ipython",
    "version": 3
   },
   "file_extension": ".py",
   "mimetype": "text/x-python",
   "name": "python",
   "nbconvert_exporter": "python",
   "pygments_lexer": "ipython3",
   "version": "3.10.12"
  }
 },
 "nbformat": 4,
 "nbformat_minor": 5
}
