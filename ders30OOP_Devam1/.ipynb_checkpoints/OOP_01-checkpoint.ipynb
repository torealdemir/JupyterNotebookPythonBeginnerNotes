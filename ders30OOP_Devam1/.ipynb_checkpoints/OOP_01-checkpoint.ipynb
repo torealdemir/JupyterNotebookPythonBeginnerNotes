{
 "cells": [
  {
   "cell_type": "markdown",
   "id": "b472b970-0271-4582-81ec-0997a0f32ca6",
   "metadata": {},
   "source": [
    "++++++++++++Nesne Tabanlı Programlama (Devamı)\n",
    "\n",
    "Geçen bölümde Python’da nesne tabanlı programlama konusunun temellerinden söz etmiştik. Bu bölümde ise nesne tabanlı programlamanın ayrıntılarına inmeye başlayacağız.\n",
    "\n",
    "++++++++++++Sınıf Metotları\n",
    "\n",
    "Nesne tabanlı programlamaya giriş yaptığımız geçen bölümde şunlara değindik:\n",
    "\n",
    "Sınıflar (classes)\n",
    "\n",
    "Örnekler (instances)\n",
    "\n",
    "Sınıf nitelikleri (class attributes)\n",
    "\n",
    "Örnek nitelikleri (instance attributes)\n",
    "\n",
    "Örnek metotları (instance methods)\n",
    "\n",
    "Bunlar nesne tabanlı programlamanın en temel kavramlarıdır. Bunları iyice öğrendiyseniz, etrafta gördüğünüz kodların büyük bölümünü anlayabilecek kıvama gelmişsiniz demektir.\n",
    "\n",
    "Ama elbette nesne tabanlı programlama yalnızca bu temel kavramlardan ibaret değil. Nesne tabanlı programlamanın derinlerine indikçe, bunların dışında başka pek çok kavramla daha karşılaşacağız. Mesela sınıf metotları (class methods) bu kavramlardan biridir. İşte bu bölümde, nesne tabanlı programlamanın ileri düzey kavramlarının ilki olan bu sınıf metotlarından (class methods) söz edeceğiz.\n",
    "\n",
    "Dilerseniz ne ile karşı karşıya olduğumuzu anlayabilmek için basit bir örnek üzerinden ilerleyelim.\n",
    "\n",
    "Hatırlarsanız bir önceki bölümde şöyle bir kod parçası vermiştik:\n",
    "\n"
   ]
  },
  {
   "cell_type": "code",
   "execution_count": null,
   "id": "32970ddd-23d8-4d9c-8552-f3bb795b7023",
   "metadata": {},
   "outputs": [],
   "source": [
    "class Çalışan():\n",
    "    personel = []\n",
    "\n",
    "    def __init__(self, isim):\n",
    "        self.isim = isim\n",
    "        self.kabiliyetleri = []\n",
    "        self.personele_ekle()\n",
    "\n",
    "    def personele_ekle(self):\n",
    "        self.personel.append(self.isim)\n",
    "        print('{} adlı kişi personele eklendi'.format(self.isim))\n",
    "\n",
    "    def personeli_görüntüle(self):\n",
    "        print('Personel listesi:')\n",
    "        for kişi in self.personel:\n",
    "            print(kişi)\n",
    "\n",
    "    def kabiliyet_ekle(self, kabiliyet):\n",
    "        self.kabiliyetleri.append(kabiliyet)\n",
    "\n",
    "    def kabiliyetleri_görüntüle(self):\n",
    "        print('{} adlı kişinin kabiliyetleri:'.format(self.isim))\n",
    "        for kabiliyet in self.kabiliyetleri:\n",
    "            print(kabiliyet)"
   ]
  },
  {
   "cell_type": "markdown",
   "id": "ab8be057-d9c5-43f5-9a40-ddbcf41ba25c",
   "metadata": {},
   "source": [
    "Bu kodlarda, bir personel listesi oluşturmamızı, personele ekleme yapmamızı, personeli görüntülememizi, personele yeni kabiliyet eklememizi ve eklediğimiz kabiliyetleri görüntüleyebilmemizi sağlayan örnek metotları var. Gelin bu kodlara bir de personel sayısını görüntülememizi sağlayacak bir başka örnek metodu daha ekleyelim:"
   ]
  },
  {
   "cell_type": "code",
   "execution_count": null,
   "id": "64aaaa9b-cfb1-401f-ad4c-4360abdfc515",
   "metadata": {},
   "outputs": [],
   "source": [
    "class Çalışan():\n",
    "    personel = []\n",
    "\n",
    "    def __init__(self, isim):\n",
    "        self.isim = isim\n",
    "        self.kabiliyetleri = []\n",
    "        self.personele_ekle()\n",
    "\n",
    "    def personel_sayısını_görüntüle(self):\n",
    "        print(len(self.personel))\n",
    "\n",
    "    def personele_ekle(self):\n",
    "        self.personel.append(self.isim)\n",
    "        print('{} adlı kişi personele eklendi'.format(self.isim))\n",
    "\n",
    "    def personeli_görüntüle(self):\n",
    "        print('Personel listesi:')\n",
    "        for kişi in self.personel:\n",
    "            print(kişi)\n",
    "\n",
    "    def kabiliyet_ekle(self, kabiliyet):\n",
    "        self.kabiliyetleri.append(kabiliyet)\n",
    "\n",
    "    def kabiliyetleri_görüntüle(self):\n",
    "        print('{} adlı kişinin kabiliyetleri:'.format(self.isim))\n",
    "        for kabiliyet in self.kabiliyetleri:\n",
    "            print(kabiliyet)"
   ]
  },
  {
   "cell_type": "markdown",
   "id": "6f91df5c-b1df-447b-a29e-4e0d94bb0e83",
   "metadata": {},
   "source": [
    "Burada yeni olarak personel_sayısını_görüntüle() adlı bir örnek metodu tanımladık. Bu metot, bir sınıf niteliği olan personel’e erişerek bunun uzunluğunu ekrana basıyor. Böylece personelin kaç kişiden oluştuğunu öğrenmiş oluyoruz.\n",
    "\n",
    "Bu yeni örnek metodunu aşağıdaki şekilde kullanabiliriz.\n",
    "\n",
    "Öncelikle kodlarımızı barındıran modülü içe aktaralım:\n",
    "\n"
   ]
  },
  {
   "cell_type": "code",
   "execution_count": null,
   "id": "d29eaa98-5d42-4819-af5f-0e48d4d2bbce",
   "metadata": {},
   "outputs": [],
   "source": [
    "import çalışan\n"
   ]
  },
  {
   "cell_type": "markdown",
   "id": "4325b9fc-f1b9-42c1-bf9b-f6e659ae72dc",
   "metadata": {},
   "source": [
    "Daha sonra personel listesine birkaç çalışan ekleyelim:\n",
    "\n"
   ]
  },
  {
   "cell_type": "code",
   "execution_count": null,
   "id": "b25c5153-7bc4-494c-821c-020a7953f64f",
   "metadata": {},
   "outputs": [],
   "source": [
    "ahmet = çalışan.Çalışan('Ahmet')\n",
    "\n",
    "Ahmet adlı kişi personele eklendi\n",
    "\n",
    "mehmet = çalışan.Çalışan('Mehmet')\n",
    "\n",
    "Mehmet adlı kişi personele eklendi\n",
    "\n",
    "ayşe = çalışan.Çalışan('Ayşe')\n",
    "\n",
    "Ayşe adlı kişi personele eklendi"
   ]
  },
  {
   "cell_type": "markdown",
   "id": "629fcf1a-b4e3-4fac-8ce9-00cf87a370b0",
   "metadata": {},
   "source": [
    "Artık herhangi bir örnek değişkeni üzerinden personel sayısına erişebiliriz:"
   ]
  },
  {
   "cell_type": "code",
   "execution_count": null,
   "id": "8e775469-1050-4dfe-bbee-ca450a4197b0",
   "metadata": {},
   "outputs": [],
   "source": [
    "ayşe.personel_sayısını_görüntüle()\n",
    "3"
   ]
  },
  {
   "cell_type": "markdown",
   "id": "27e2e4ff-def4-40b2-bf28-845d6fc81893",
   "metadata": {},
   "source": [
    "Ancak kodların çalışma mantığı açısından burada bir tutarsızlıktan söz edebiliriz. Genel olarak bütün personele dair bilgi veren bir fonksiyona ahmet, mehmet, ayşe gibi bireysel örnek değişkenleri üzerinden erişmek kulağa sizce de biraz tuhaf gelmiyor mu? Neticede bu fonksiyon, aslında sınıfın herhangi bir örneği ile özellikle veya doğrudan ilişkili değil. Yani bu fonksiyon tek tek sınıf örneklerini değil, genel olarak sınıfın bütününü ilgilendiriyor. Bu bakımdan, personel_sayısını_görüntüle() fonksiyonunun örnek değişkenlerinden bağımsız bir biçimde kullanılabilmesi çok daha mantıklı olacaktır.\n",
    "\n",
    "Ayrıca, bir örnek metodu olan personel_sayısını_görüntüle() fonksiyonunu örneklerden bağımsız olarak kullanamadığımız için, bu metot yardımıyla personel sayısının 0 olduğu bir durumu görüntülememiz de mümkün olmuyor. Çünkü bu fonksiyona erişebilmek için öncelikle sınıfı en az bir kez örneklemiş, yani sınıfın en az bir adet örneğini çıkarmış olmamız gerekiyor. Bu durum da kodlarımızın mantığı açısından son derece ciddi bir kısıtlamadır.\n",
    "\n",
    "Yukarıda sıralanan gerekçeler doğrultusunda kodları hem daha tutarlı bir hale getirmek hem de personel sayısının 0 olduğu durumu göstermemizi engelleyen kısıtlamayı aşabilmek için şöyle bir şey deneyebilirsiniz:"
   ]
  },
  {
   "cell_type": "code",
   "execution_count": null,
   "id": "7bb64173-d01e-4e53-9746-8b378359b688",
   "metadata": {},
   "outputs": [],
   "source": [
    "def personel_sayısını_görüntüle():\n",
    "    print(len(Çalışan.personel))\n",
    "\n",
    "class Çalışan():\n",
    "    personel = []\n",
    "\n",
    "    def __init__(self, isim):\n",
    "        self.isim = isim\n",
    "        self.kabiliyetleri = []\n",
    "        self.personele_ekle()\n",
    "\n",
    "    def personele_ekle(self):\n",
    "        self.personel.append(self.isim)\n",
    "        print('{} adlı kişi personele eklendi'.format(self.isim))\n",
    "\n",
    "    def personeli_görüntüle(self):\n",
    "        print('Personel listesi:')\n",
    "        for kişi in self.personel:\n",
    "            print(kişi)\n",
    "\n",
    "    def kabiliyet_ekle(self, kabiliyet):\n",
    "        self.kabiliyetleri.append(kabiliyet)\n",
    "\n",
    "    def kabiliyetleri_görüntüle(self):\n",
    "        print('{} adlı kişinin kabiliyetleri:'.format(self.isim))\n",
    "        for kabiliyet in self.kabiliyetleri:\n",
    "            print(kabiliyet)"
   ]
  },
  {
   "cell_type": "markdown",
   "id": "e1a85e81-e3d9-491e-bdee-e73c5499a5ff",
   "metadata": {},
   "source": [
    "Burada personel sayısını görüntüleyen fonksiyonu sınıftan ayırdık. Böylece şu şekilde bir kullanım mümkün olabildi:\n",
    "\n"
   ]
  },
  {
   "cell_type": "code",
   "execution_count": null,
   "id": "c1cd32f6-87da-4c4c-a8fa-3dfb09e9069b",
   "metadata": {},
   "outputs": [],
   "source": [
    "import çalışan\n",
    "çalışan.personel_sayısını_görüntüle()\n",
    "0"
   ]
  },
  {
   "cell_type": "markdown",
   "id": "7399c2c0-4f7e-478f-94b2-727ad01b4780",
   "metadata": {},
   "source": [
    "personel_sayısını_görüntüle() adlı fonksiyonu sınıftan ayırıp modül düzeyinde çalışan bir fonksiyon (veya bir başka deyişle global düzeyde çalışan bir fonksiyon) haline getirdiğimiz için, artık bu fonksiyon Çalışan() sınıfının herhangi bir örneğine bağımlı değil. Dolayısıyla bu fonksiyonu, Çalışan() sınıfı için bir örnek çıkarmak zorunda kalmadan da kullanabiliyoruz. Bu da bize personel sayısının 0 olduğu durumu gösterebilme imkanı tanıyor.\n",
    "\n",
    "Bu fonksiyonu bir de birkaç örnek çıkardıktan sonra çalıştıralım…\n",
    "\n",
    "Önce sınıfımızın birkaç örneğini çıkaralım:\n",
    "\n"
   ]
  },
  {
   "cell_type": "code",
   "execution_count": null,
   "id": "e81bf865-4b17-4f6b-9fff-67ebd915f7ae",
   "metadata": {},
   "outputs": [],
   "source": [
    "ahmet = çalışan.Çalışan('Ahmet')\n",
    "\n",
    "Ahmet adlı kişi personele eklendi\n",
    "\n",
    "ayşe = çalışan.Çalışan('Ayşe')\n",
    "\n",
    "Ayşe adlı kişi personele eklendi\n",
    "\n",
    "mehmet = çalışan.Çalışan('Mehmet')\n",
    "\n",
    "Mehmet adlı kişi personele eklendi"
   ]
  },
  {
   "cell_type": "markdown",
   "id": "dd9a1f0e-08c9-4a3e-bd93-39cc7e796bf0",
   "metadata": {},
   "source": [
    "Şimdi de personelin şu anda kaç kişiden oluştuğunu sorgulayalım:"
   ]
  },
  {
   "cell_type": "code",
   "execution_count": null,
   "id": "8209e8cd-bb90-40bd-8e0b-105808705f21",
   "metadata": {},
   "outputs": [],
   "source": [
    "çalışan.personel_sayısını_görüntüle()\n",
    "\n",
    "3"
   ]
  },
  {
   "cell_type": "markdown",
   "id": "10481e05-6dd3-45c3-86e2-cde2215663f9",
   "metadata": {},
   "source": [
    "Gördüğünüz gibi, bu şekilde kodlarımız biraz daha tutarlı bir görünüme kavuştu. Ancak bu şekilde, bariz bir biçimde Çalışan() sınıfı ile ilişkili olan personel_sayısını_görüntüle() fonksiyonunu sınıftan ayırmış ve kod bütünlüğünü bozmuş olduk. Çünkü, her ne kadar personel_sayısını_görüntüle() fonksiyonu Çalışan() sınıfının herhangi bir örneği ile ilişkili olmasa da, anlam açısından bu fonksiyonun Çalışan() sınıfına ait olduğu besbelli. Ayrıca, yukarıdaki kodları barındıran modülün tamamını değil de, from çalışan import Çalışan gibi bir komutla yalnızca Çalışan() sınıfını içe aktarırsak, personel_sayısını_görüntüle() fonksiyonu dışarıda kalacaktır:\n",
    "\n"
   ]
  },
  {
   "cell_type": "code",
   "execution_count": null,
   "id": "fd5d3570-a0fe-41de-aee5-6f80a8bee62f",
   "metadata": {},
   "outputs": [],
   "source": [
    "from çalışan import Çalışan\n",
    "dir()"
   ]
  },
  {
   "cell_type": "markdown",
   "id": "0cec933c-92f3-4cfe-bf5f-a1b709a490ad",
   "metadata": {},
   "source": [
    "Gördüğünüz gibi, personel_sayısını_görüntüle() fonksiyonu listede yok. Dolayısıyla, sınıfla sıkı sıkıya ilişkili olan bu fonksiyonu sınıftan kopardığımız için, seçmeli içe aktarmalarda bu fonksiyon geride kalıyor ve böylece bu fonksiyonu kullanamaz hale geliyoruz.\n",
    "\n",
    "Seçmeli içe aktarmalarda bu fonksiyon aktarım işlemiyle birlikte gelmediği için, ilgili fonksiyonu özel olarak içe aktarmamız gerekir:"
   ]
  },
  {
   "cell_type": "code",
   "execution_count": null,
   "id": "dce60ab5-4931-4ac6-af3f-ee9c4cde310c",
   "metadata": {},
   "outputs": [],
   "source": [
    "from çalışan import personel_sayısını_görüntüle"
   ]
  },
  {
   "cell_type": "markdown",
   "id": "cb552fec-0c1d-4b12-9cab-25ac2158dc6b",
   "metadata": {},
   "source": [
    "Bu şekilde çalışan modülü içinden personel_sayısını_görüntüle() adlı fonksiyonu özel olarak elle içe aktarmış olduk. Artık bu fonksiyonu şöyle kullanabiliriz:\n",
    "\n"
   ]
  },
  {
   "cell_type": "code",
   "execution_count": null,
   "id": "bde3d1bd-e3ed-4788-8ff5-23d59db9a020",
   "metadata": {},
   "outputs": [],
   "source": [
    "personel_sayısını_görüntüle()"
   ]
  },
  {
   "cell_type": "markdown",
   "id": "6369f219-354f-4c1d-9b33-bcf78d94c818",
   "metadata": {},
   "source": [
    "Ancak bu da, her zaman tercih etmeyeceğiniz bir kısıtlama olabilir. O halde bu kısıtlamayı aşmak için gelin, ilgili fonksiyonu tekrar sınıf içine alalım:"
   ]
  },
  {
   "cell_type": "code",
   "execution_count": null,
   "id": "401057a6-13bc-4dbe-a591-97e9aff13118",
   "metadata": {},
   "outputs": [],
   "source": [
    "class Çalışan():\n",
    "    personel = []\n",
    "\n",
    "    def __init__(self, isim):\n",
    "        self.isim = isim\n",
    "        self.kabiliyetleri = []\n",
    "        self.personele_ekle()\n",
    "\n",
    "    def personel_sayısını_görüntüle(self):\n",
    "        print(len(self.personel))\n",
    "\n",
    "    def personele_ekle(self):\n",
    "        self.personel.append(self.isim)\n",
    "        print('{} adlı kişi personele eklendi'.format(self.isim))\n",
    "\n",
    "    def personeli_görüntüle(self):\n",
    "        print('Personel listesi:')\n",
    "        for kişi in self.personel:\n",
    "            print(kişi)\n",
    "\n",
    "    def kabiliyet_ekle(self, kabiliyet):\n",
    "        self.kabiliyetleri.append(kabiliyet)\n",
    "\n",
    "    def kabiliyetleri_görüntüle(self):\n",
    "        print('{} adlı kişinin kabiliyetleri:'.format(self.isim))\n",
    "        for kabiliyet in self.kabiliyetleri:\n",
    "            print(kabiliyet)"
   ]
  },
  {
   "cell_type": "markdown",
   "id": "b8f182ca-a25b-4f32-bb2f-13a81bdc161c",
   "metadata": {},
   "source": [
    "Yukarıdaki kodlarda ilgili fonksiyona bir örnek adıyla değil de, sınıf adıyla erişmek için ilk etapta şu kodu denemek aklınıza gelmiş olabilir:"
   ]
  },
  {
   "cell_type": "code",
   "execution_count": null,
   "id": "e30f5d10-bc89-4742-b4c9-c88f21e7f45b",
   "metadata": {},
   "outputs": [],
   "source": [
    "from çalışan import Çalışan\n",
    "Çalışan.personel_sayısını_görüntüle()\n",
    "Traceback (most recent call last):\n",
    "  File \"<stdin>\", line 1, in <module>\n",
    "TypeError: personel_sayısını_görüntüle() missing\n",
    "1 required positional argument: 'self'"
   ]
  },
  {
   "cell_type": "markdown",
   "id": "bd6b37d1-bd84-470d-90ba-244f5795a535",
   "metadata": {},
   "source": [
    "Çünkü burada siz Çalışan.personel_sayısını_görüntüle() komutunu vererek aslında sınıfın bir metoduna (class method) erişmeye çalışıyorsunuz. Ancak kodlarımızın içinde bir sınıf metodu yok. Zira, yukarıda sınıf adıyla erişmeye çalıştığımız personel_sayısını_görüntüle() fonksiyonu bir sınıf metodu değil, bir örnek metodudur. Örnek metotlarına da sınıf adlarıyla erişmemizin mümkün olmadığını, bu tür metotlara erişebilmek için sınıfı en az bir kez örneklemiş olmamız gerektiğini biliyorsunuz.\n",
    "\n",
    "Burada, __init__() ve personel_sayısını_görüntüle() dışında şu örnek metotları var: personel_sayısını_görüntüle(), personele_ekle(), personeli_görüntüle(), kabiliyet_ekle(), kabiliyetleri_görüntüle(). Bunları birer örnek metodu yapan şeyin, self kelimesi olduğunu biliyoruz…\n",
    "\n",
    "Daha önce de söylediğimiz gibi, her ne kadar Python’da sınıf niteliklerine hem örnekler hem de doğrudan sınıf adları üzerinden erişebilsek de örnek niteliklerine ve örnek metotlarına yalnızca örnekler üzerinden erişebiliriz. Bir metoda, sınıf adı ile erişebilmek için, ilgili metodu bir sınıf metodu olarak tanımlamış olmamız gerekir. Peki ama nasıl?"
   ]
  },
  {
   "cell_type": "code",
   "execution_count": null,
   "id": "522b0ae3-409e-40f0-9111-32a07eebd56c",
   "metadata": {},
   "outputs": [],
   "source": []
  }
 ],
 "metadata": {
  "kernelspec": {
   "display_name": "Python 3 (ipykernel)",
   "language": "python",
   "name": "python3"
  },
  "language_info": {
   "codemirror_mode": {
    "name": "ipython",
    "version": 3
   },
   "file_extension": ".py",
   "mimetype": "text/x-python",
   "name": "python",
   "nbconvert_exporter": "python",
   "pygments_lexer": "ipython3",
   "version": "3.10.12"
  }
 },
 "nbformat": 4,
 "nbformat_minor": 5
}
