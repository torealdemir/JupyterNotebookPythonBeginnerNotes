{
 "cells": [
  {
   "cell_type": "markdown",
   "id": "e2c3153c-e27b-4076-809b-b72d29203a5e",
   "metadata": {},
   "source": [
    "İşleçler\n",
    "Bu bölümde, aslında pek de yabancısı olmadığımız ve hatta önceki derslerimizde üstünkörü de olsa değindiğimiz bir konuyu çok daha ayrıntılı bir şekilde ele alacağız. Burada anlatacağımız konu size yer yer sıkıcı gelebilir. Ancak bu konuyu hakkıyla öğrenmenizin, programcılık maceranız açısından hayati önemde olduğunu rahatlıkla söyleyebilirim.\n",
    "\n",
    "Gelelim konumuza…\n",
    "\n",
    "Bu bölümün konusu işleçler. Peki nedir bu ‘işleç’ denen şey?\n",
    "\n",
    "İngilizce’de operator adı verilen işleçler, sağında ve solunda bulunan değerler arasında bir ilişki kuran işaretlerdir. Bir işlecin sağında ve solunda bulunan değerlere ise işlenen (operand) adı veriyoruz.\n",
    "\n",
    "Biz bu bölümde işleçleri altı başlık altında inceleyeceğiz:\n",
    "\n",
    "Aritmetik İşleçler\n",
    "\n",
    "Karşılaştırma İşleçleri\n",
    "\n",
    "Bool İşleçleri\n",
    "\n",
    "Değer Atama İşleçleri\n",
    "\n",
    "Bitwise (Bitsel) İşleçleri\n",
    "\n",
    "Aitlik İşleçleri\n",
    "\n",
    "Kimlik İşleçleri\n",
    "\n",
    "Gördüğünüz gibi, işlememiz gereken konu çok, gitmemiz gereken yol uzun. O halde hiç vakit kaybetmeden, aritmetik işleçlerle yolculuğumuza başlayalım."
   ]
  },
  {
   "cell_type": "markdown",
   "id": "0821972f-437d-4cb9-a01d-e2ad9a2f05f0",
   "metadata": {},
   "source": [
    "Aritmetik İşleçler\n",
    "Dedik ki, sağında ve solunda bulunan değerler arasında bir ilişki kuran işaretlere işleç (operator) adı verilir. Önceki derslerimizde temel işleçlerin bazılarını öğrenmiştik. İsterseniz bunları şöyle bir hatırlayalım:\n",
    "\n",
    "+\n",
    "\n",
    "toplama\n",
    "\n",
    "-\n",
    "\n",
    "çıkarma\n",
    "\n",
    "*\n",
    "\n",
    "çarpma\n",
    "\n",
    "/\n",
    "\n",
    "bölme\n",
    "\n",
    "**\n",
    "\n",
    "kuvvet\n",
    "\n",
    "Bu işleçlere aritmetik işleçler adı verilir. Aritmetik işleçler; matematikte kullanılan ve sayılarla aritmetik işlemler yapmamızı sağlayan yardımcı araçlardır.\n",
    "\n",
    "Dilerseniz bu tanımı bir örnekle somutlaştıralım:"
   ]
  },
  {
   "cell_type": "code",
   "execution_count": 1,
   "id": "dce5dff5-f540-4844-a252-37687d7bed39",
   "metadata": {},
   "outputs": [
    {
     "data": {
      "text/plain": [
       "78"
      ]
     },
     "execution_count": 1,
     "metadata": {},
     "output_type": "execute_result"
    }
   ],
   "source": [
    "45 + 33"
   ]
  },
  {
   "cell_type": "markdown",
   "id": "bae74842-663b-4d53-ac8d-7caca54afefe",
   "metadata": {},
   "source": [
    "Burada 45 ve 33 değerlerine işlenen (operand) adı verilir. Bu iki değer arasında yer alan + işareti ise bir işleçtir (operator). Dikkat ederseniz + işleci 45 ve 33 adlı işlenenler arasında bir toplama ilişkisi kuruyor.\n",
    "\n",
    "Bir örnek daha verelim:\n",
    "\n"
   ]
  },
  {
   "cell_type": "code",
   "execution_count": 2,
   "id": "3b21ce98-c543-4cab-b650-4955ca651f92",
   "metadata": {},
   "outputs": [
    {
     "data": {
      "text/plain": [
       "1058"
      ]
     },
     "execution_count": 2,
     "metadata": {},
     "output_type": "execute_result"
    }
   ],
   "source": [
    "23 * 46"
   ]
  },
  {
   "cell_type": "markdown",
   "id": "a9a15d4a-1a7f-478f-abf3-6f30a9adf0e5",
   "metadata": {},
   "source": [
    "Burada da 23 ve 46 değerleri birer işlenendir. Bu iki değer arasında yer alan * işareti ise, işlenenler arasında bir çarpma ilişkisi kuran bir işleçtir.\n",
    "\n",
    "Ancak bir noktaya özellikle dikkatinizi çekmek istiyorum. Daha önceki derslerimizde de değindiğimiz gibi, + ve * işleçleri Python’da birden fazla anlama gelir. Örneğin yukarıdaki örnekte + işleci, işlenenler arasında bir toplama ilişkisi kuruyor. Ama aşağıdaki durum biraz farklıdır:\n",
    "\n"
   ]
  },
  {
   "cell_type": "code",
   "execution_count": 3,
   "id": "b3f8b024-78a4-4c47-8c41-2abe8d32bb02",
   "metadata": {},
   "outputs": [
    {
     "data": {
      "text/plain": [
       "'google.com'"
      ]
     },
     "execution_count": 3,
     "metadata": {},
     "output_type": "execute_result"
    }
   ],
   "source": [
    "\"google\" + \".com\""
   ]
  },
  {
   "cell_type": "markdown",
   "id": "8720b715-9edc-47a3-a858-b60a99efdede",
   "metadata": {},
   "source": [
    "Burada + işleci işlenenler (“istihza” ve “.com”) arasında bir birleştirme ilişkisi kuruyor.\n",
    "\n",
    "Tıpkı + işlecinde olduğu gibi, * işleci de Python’da birden fazla anlama gelir. Bu işlecin, çarpma ilişkisi kurma işlevi dışında tekrar etme ilişkisi kurma işlevi de vardır. Yani:"
   ]
  },
  {
   "cell_type": "code",
   "execution_count": 4,
   "id": "87e6e228-fd03-4f8f-b42d-e46e3f7b8123",
   "metadata": {},
   "outputs": [
    {
     "data": {
      "text/plain": [
       "'hizlihizli'"
      ]
     },
     "execution_count": 4,
     "metadata": {},
     "output_type": "execute_result"
    }
   ],
   "source": [
    "\"hizli\" * 2"
   ]
  },
  {
   "cell_type": "code",
   "execution_count": 5,
   "id": "4e289d76-498f-4a01-8feb-7f08494e8e60",
   "metadata": {},
   "outputs": [
    {
     "data": {
      "text/plain": [
       "'------------------------------'"
      ]
     },
     "execution_count": 5,
     "metadata": {},
     "output_type": "execute_result"
    }
   ],
   "source": [
    "\"-\" * 30"
   ]
  },
  {
   "cell_type": "markdown",
   "id": "4b121fa0-28a5-4275-b7b3-54afdbe3a137",
   "metadata": {},
   "source": [
    "Burada * işlecinin, sayılar arasında çarpma işlemi yapmak dışında bir görev üstlendiğini görüyoruz.\n",
    "\n",
    "Python’da bu tür farklar, yazacağınız programın sağlıklı çalışabilmesi açısından büyük önem taşır. O yüzden bu tür farklara karşı her zaman uyanık olmamız gerekiyor.\n",
    "\n",
    "+ ve * işleçlerinin aksine / ve - işleçleri ise işlenenler arasında sadece bölme ve çıkarma ilişkisi kurar. Bu işleçler tek işlevlidir:\n",
    "\n"
   ]
  },
  {
   "cell_type": "code",
   "execution_count": 6,
   "id": "36af7bd2-93fc-4a67-911a-68fd71e9c3fe",
   "metadata": {},
   "outputs": [
    {
     "data": {
      "text/plain": [
       "6.25"
      ]
     },
     "execution_count": 6,
     "metadata": {},
     "output_type": "execute_result"
    }
   ],
   "source": [
    "25 / 4"
   ]
  },
  {
   "cell_type": "code",
   "execution_count": 7,
   "id": "f4585f40-5d30-429b-b8d9-e5dc5ad85be5",
   "metadata": {},
   "outputs": [
    {
     "data": {
      "text/plain": [
       "5"
      ]
     },
     "execution_count": 7,
     "metadata": {},
     "output_type": "execute_result"
    }
   ],
   "source": [
    "10 - 5"
   ]
  },
  {
   "cell_type": "markdown",
   "id": "679f8891-fe37-4f40-a389-9617f58702a8",
   "metadata": {},
   "source": [
    "Önceki derslerde gördüğümüz ve yukarıda da tekrar ettiğimiz dört adet temel aritmetik işlece şu iki aritmetik işleci de ekleyelim:\n",
    "\n",
    "%\n",
    "\n",
    "modülüs\n",
    "\n",
    "//\n",
    "\n",
    "taban bölme\n",
    "\n",
    "İlk önce modülüsün ne olduğunu ve ne işe yaradığını anlamaya çalışalım.\n",
    "\n",
    "Şu bölme işlemine bir bakın:\n",
    "\n",
    "_images/bolme.png\n",
    "Burada 02 sayısı bölme işleminin kalanıdır. İşte modülüs denen işleç de bölme işleminden kalan bu değeri gösterir. Yani:\n",
    "\n"
   ]
  },
  {
   "cell_type": "code",
   "execution_count": 8,
   "id": "7e83e5c3-35b2-4a3c-a8b3-5c154a50a0ff",
   "metadata": {},
   "outputs": [
    {
     "data": {
      "text/plain": [
       "2"
      ]
     },
     "execution_count": 8,
     "metadata": {},
     "output_type": "execute_result"
    }
   ],
   "source": [
    "30 % 4 "
   ]
  },
  {
   "cell_type": "markdown",
   "id": "02668d52-099a-48d6-9231-b043aabbd0c2",
   "metadata": {},
   "source": [
    "Gördüğünüz gibi modülüs işleci (%) gerçekten de bölme işleminden kalan sayıyı gösteriyor… Peki bu bilgi ne işimize yarar?\n",
    "\n",
    "Mesela bu bilgiyi kullanarak bir sayının tek mi yoksa çift mi olduğunu tespit edebiliriz:\n",
    "\n"
   ]
  },
  {
   "cell_type": "code",
   "execution_count": 9,
   "id": "9a5c0856-3844-4e2b-a258-84ce47bf9a2f",
   "metadata": {},
   "outputs": [
    {
     "name": "stdin",
     "output_type": "stream",
     "text": [
      "Bir sayı girin:  2\n"
     ]
    },
    {
     "name": "stdout",
     "output_type": "stream",
     "text": [
      "Girdiğiniz sayı bir çift sayıdır.\n"
     ]
    }
   ],
   "source": [
    "sayı = int(input(\"Bir sayı girin: \"))\n",
    "\n",
    "if sayı % 2 == 0:\n",
    "    print(\"Girdiğiniz sayı bir çift sayıdır.\")\n",
    "else:\n",
    "    print(\"Girdiğiniz sayı bir tek sayıdır.\")"
   ]
  },
  {
   "cell_type": "markdown",
   "id": "be3c9b90-6226-46c1-a186-eb6d1095f029",
   "metadata": {},
   "source": [
    "Eğer bir sayı 2’ye bölündüğünde kalan değer 0 ise o sayı çifttir. Aksi halde o sayı tektir. Mesela:"
   ]
  },
  {
   "cell_type": "code",
   "execution_count": 10,
   "id": "070e4ad6-1875-457c-9df7-bb910b487a0f",
   "metadata": {},
   "outputs": [
    {
     "data": {
      "text/plain": [
       "0"
      ]
     },
     "execution_count": 10,
     "metadata": {},
     "output_type": "execute_result"
    }
   ],
   "source": [
    "14 % 2 "
   ]
  },
  {
   "cell_type": "markdown",
   "id": "6771d4c2-d637-4c09-bf65-19b6bff5b5ca",
   "metadata": {},
   "source": [
    "Gördüğünüz gibi, bir çift sayı olan 14’ü 2’ye böldüğümüzde kalan sayı 0 oluyor. Çünkü çift sayılar 2’ye tam bölünürler.\n",
    "\n",
    "Bir de şuna bakalım:"
   ]
  },
  {
   "cell_type": "code",
   "execution_count": 11,
   "id": "d4912a11-6979-4146-8d68-03220051005a",
   "metadata": {},
   "outputs": [
    {
     "data": {
      "text/plain": [
       "1"
      ]
     },
     "execution_count": 11,
     "metadata": {},
     "output_type": "execute_result"
    }
   ],
   "source": [
    "15 % 2"
   ]
  },
  {
   "cell_type": "markdown",
   "id": "284a89c9-1baf-40df-8ca4-aa0e4e2d385c",
   "metadata": {},
   "source": [
    "Bir tek sayı olan 15 ise 2’ye bölündüğünde kalan sayı 1 oluyor. Yani 15 sayısı 2’ye tam bölünmüyor. Bu bilgiden yola çıkarak 15 sayısının bir tek sayı olduğunu söyleyebiliyoruz.\n",
    "\n",
    "Bir sayının tek mi yoksa çift mi olduğunu tespit etme işlemini küçümsememenizi tavsiye ederim. Bir sayının tek mi yoksa çift mi olduğu bilgisinin, arayüz geliştirirken dahi işinize yarayacağından emin olabilirsiniz.\n",
    "\n",
    "Elbette modülüs işlecini bir sayının yalnızca 2’ye tam bölünüp bölünmediğini denetlemek için kullanmıyoruz. Bu işleci kullanarak herhangi bir sayının herhangi bir sayıya tam bölünüp bölünmediğini de denetleyebilirsiniz. Örneğin:"
   ]
  },
  {
   "cell_type": "code",
   "execution_count": 12,
   "id": "65ff02ce-e35b-47c9-94bb-711dfab5a05a",
   "metadata": {},
   "outputs": [
    {
     "data": {
      "text/plain": [
       "1"
      ]
     },
     "execution_count": 12,
     "metadata": {},
     "output_type": "execute_result"
    }
   ],
   "source": [
    "45 % 4 "
   ]
  },
  {
   "cell_type": "code",
   "execution_count": 14,
   "id": "2c9bdf98-885a-4d97-b2b2-208889bf732f",
   "metadata": {},
   "outputs": [
    {
     "data": {
      "text/plain": [
       "0"
      ]
     },
     "execution_count": 14,
     "metadata": {},
     "output_type": "execute_result"
    }
   ],
   "source": [
    "36 % 9"
   ]
  },
  {
   "cell_type": "markdown",
   "id": "94f52d1e-2ae2-42be-b55f-4ddb5f9ae4f8",
   "metadata": {},
   "source": [
    "Bu bilgiyi kullanarak mesela şöyle bir program yazabilirsiniz:"
   ]
  },
  {
   "cell_type": "code",
   "execution_count": 15,
   "id": "e690620c-880a-4d7b-a58c-f1f49c16ab36",
   "metadata": {},
   "outputs": [
    {
     "name": "stdin",
     "output_type": "stream",
     "text": [
      "Bir sayı girin:  23\n",
      "Bir sayı daha girin:  23\n"
     ]
    },
    {
     "name": "stdout",
     "output_type": "stream",
     "text": [
      "23 sayısı 23 sayısına tam bölünüyor!\n"
     ]
    }
   ],
   "source": [
    "bölünen = int(input(\"Bir sayı girin: \"))\n",
    "bölen = int(input(\"Bir sayı daha girin: \"))\n",
    "\n",
    "şablon = \"{} sayısı {} sayısına tam\".format(bölünen, bölen)\n",
    "\n",
    "if bölünen % bölen == 0:\n",
    "    print(şablon, \"bölünüyor!\")\n",
    "else:\n",
    "    print(şablon, \"bölünmüyor!\")"
   ]
  },
  {
   "cell_type": "markdown",
   "id": "8ebffc06-d55b-45b0-b743-d05281ac12a8",
   "metadata": {},
   "source": [
    "Programımız, kullanıcının girdiği ilk sayının ikinci sayıya tam bölünüp bölünmediğini hesaplıyor ve sonuca göre kullanıcıyı bilgilendiriyor. Bu kodlarda özellikle şu satıra dikkat edin:\n",
    "\n",
    "if bölünen % bölen == 0:\n",
    "    ...\n",
    "\n",
    "Programımızın temelini bu kod oluşturuyor. Çünkü bir sayının bir sayıya tam bölünüp bölünmediğini bu kodla belirliyoruz. Eğer bir sayı başka bir sayıya bölündüğünde kalan değer, yani modülüs 0 ise, o sayı öbür sayıya tam bölünüyor demektir.\n",
    "\n",
    "Ayrıca bir sayının son basamağını elde etmek için de modülüsten yararlanabilirsiniz. Herhangi bir tamsayı 10’a bölündüğünde kalan (yani modülüs), bölünen sayının son basamağı olacaktır:"
   ]
  },
  {
   "cell_type": "code",
   "execution_count": 16,
   "id": "de2039d4-bfaa-4205-a220-feb3c5f6c782",
   "metadata": {
    "scrolled": true
   },
   "outputs": [
    {
     "data": {
      "text/plain": [
       "5"
      ]
     },
     "execution_count": 16,
     "metadata": {},
     "output_type": "execute_result"
    }
   ],
   "source": [
    "65 % 10"
   ]
  },
  {
   "cell_type": "code",
   "execution_count": 17,
   "id": "1e102b1e-7d30-425c-a273-3fddb8803c60",
   "metadata": {},
   "outputs": [
    {
     "data": {
      "text/plain": [
       "3"
      ]
     },
     "execution_count": 17,
     "metadata": {},
     "output_type": "execute_result"
    }
   ],
   "source": [
    "543 % 10"
   ]
  },
  {
   "cell_type": "markdown",
   "id": "1e958fac-b0fc-4fca-9626-ddf90fd60710",
   "metadata": {},
   "source": [
    "Programlama tecrübeniz arttıkça, aslında modülüsün ne kadar faydalı bir araç olduğunu kendi gözlerinizle göreceksiniz.\n",
    "\n",
    "Modülüs işlecini örnekler eşliğinde ayrıntılı bir şekilde incelediğimize göre sıra geldi taban bölme işlecini açıklamaya…\n",
    "\n",
    "Öncelikle şu örneği inceleyelim:"
   ]
  },
  {
   "cell_type": "code",
   "execution_count": 18,
   "id": "73622705-a34d-411d-b807-a818630a1ee2",
   "metadata": {},
   "outputs": [
    {
     "data": {
      "text/plain": [
       "2.5"
      ]
     },
     "execution_count": 18,
     "metadata": {},
     "output_type": "execute_result"
    }
   ],
   "source": [
    " 5 / 2"
   ]
  },
  {
   "cell_type": "markdown",
   "id": "a2e49117-d26d-4f16-89ee-20772901e9cd",
   "metadata": {},
   "source": [
    "Burada, bildiğimiz bölme işlecini (/) kullanarak basit bir bölme işlemi yaptık. Elde ettiğimiz sonuç doğal olarak 2.5.\n",
    "\n",
    "Matematikte bölme işleminin sonucunun kesirli olması durumuna ‘kesirli bölme’ adı verilir. Bunun tersi ise tamsayılı bölme veya taban bölmedir. Eğer herhangi bir sebeple kesirli bölme işlemi değil de taban bölme işlemi yapmanız gerekirse // işlecinden yararlanabilirsiniz:"
   ]
  },
  {
   "cell_type": "code",
   "execution_count": 19,
   "id": "52c977a7-917c-43e4-9dd8-15f79a92d50e",
   "metadata": {},
   "outputs": [
    {
     "data": {
      "text/plain": [
       "2"
      ]
     },
     "execution_count": 19,
     "metadata": {},
     "output_type": "execute_result"
    }
   ],
   "source": [
    "5 // 2"
   ]
  },
  {
   "cell_type": "markdown",
   "id": "948f049f-2cad-490d-aaa8-543880712938",
   "metadata": {},
   "source": [
    "Gördüğünüz gibi, // işleci sayesinde bölme işleminin sonucu kesirli değil, tamsayı olarak elde ediliyor.\n",
    "\n",
    "Yukarıda yaptığımız taban bölme işlemi şununla aynı anlama gelir:\n",
    "\n"
   ]
  },
  {
   "cell_type": "code",
   "execution_count": 20,
   "id": "4579d8fb-b1bb-43b5-9673-5f724f076457",
   "metadata": {},
   "outputs": [
    {
     "data": {
      "text/plain": [
       "2"
      ]
     },
     "execution_count": 20,
     "metadata": {},
     "output_type": "execute_result"
    }
   ],
   "source": [
    " int (5 / 2)"
   ]
  },
  {
   "cell_type": "markdown",
   "id": "6fdd53b6-334f-44ce-921e-fb7eec1abdde",
   "metadata": {},
   "source": [
    "Daha açık ifade etmemiz gerekirse:"
   ]
  },
  {
   "cell_type": "code",
   "execution_count": 21,
   "id": "16223972-8903-465b-b9f3-7a3efbff282e",
   "metadata": {},
   "outputs": [],
   "source": [
    "a = 5 / 2"
   ]
  },
  {
   "cell_type": "code",
   "execution_count": 22,
   "id": "bc9371ca-473d-4382-a68b-b841ed7fbeac",
   "metadata": {},
   "outputs": [
    {
     "data": {
      "text/plain": [
       "2.5"
      ]
     },
     "execution_count": 22,
     "metadata": {},
     "output_type": "execute_result"
    }
   ],
   "source": [
    "a"
   ]
  },
  {
   "cell_type": "code",
   "execution_count": 23,
   "id": "7a80ad25-407a-46e0-b168-522057d1ffa6",
   "metadata": {},
   "outputs": [
    {
     "data": {
      "text/plain": [
       "2"
      ]
     },
     "execution_count": 23,
     "metadata": {},
     "output_type": "execute_result"
    }
   ],
   "source": [
    "int(a)"
   ]
  },
  {
   "cell_type": "markdown",
   "id": "4bb62f54-6ca9-463f-8b5d-2d38b8227d1a",
   "metadata": {},
   "source": [
    "Burada olan şu: 5 / 2 işleminin sonucu bir kayan noktalı sayıdır (2.5). Bunu şu şekilde teyit edebiliriz:"
   ]
  },
  {
   "cell_type": "code",
   "execution_count": 24,
   "id": "f907966f-b9fc-4bb0-9dbc-0662189302e7",
   "metadata": {},
   "outputs": [],
   "source": [
    "a = 5 /2"
   ]
  },
  {
   "cell_type": "code",
   "execution_count": 25,
   "id": "f765f236-021b-461f-80ed-ee2b7d3582a8",
   "metadata": {},
   "outputs": [
    {
     "data": {
      "text/plain": [
       "float"
      ]
     },
     "execution_count": 25,
     "metadata": {},
     "output_type": "execute_result"
    }
   ],
   "source": [
    "type(a)"
   ]
  },
  {
   "cell_type": "markdown",
   "id": "4475b1b3-d62b-4e98-8068-6c087b370769",
   "metadata": {},
   "source": [
    "Buradaki float çıktısının floating point number, yani kayan noktalı sayı anlamına geldiğini biliyorsunuz.\n",
    "\n",
    "Bu kayan noktalı sayının sadece tabanını elde etmek için bu sayıyı tamsayıya (integer) çevirmemiz yeterli olacaktır. Yani:\n",
    "\n"
   ]
  },
  {
   "cell_type": "code",
   "execution_count": 26,
   "id": "9c178729-9182-44b4-acbe-1349567cc9fb",
   "metadata": {},
   "outputs": [
    {
     "data": {
      "text/plain": [
       "2"
      ]
     },
     "execution_count": 26,
     "metadata": {},
     "output_type": "execute_result"
    }
   ],
   "source": [
    "int(a)"
   ]
  },
  {
   "cell_type": "markdown",
   "id": "b4c5e66c-5481-4da4-a1aa-179092e59b22",
   "metadata": {},
   "source": [
    "Bu arada yeri gelmişken round() adlı bir gömülü fonksiyondan bahsetmeden geçmeyelim. Eğer bir sayının değerini yuvarlamanız gerekirse round() fonksiyonundan yararlanabilirsiniz. Bu fonksiyon şöyle kullanılır:\n",
    "\n"
   ]
  },
  {
   "cell_type": "code",
   "execution_count": 27,
   "id": "da531740-b158-43f3-b8b4-75b06c3b6b3f",
   "metadata": {},
   "outputs": [
    {
     "data": {
      "text/plain": [
       "3"
      ]
     },
     "execution_count": 27,
     "metadata": {},
     "output_type": "execute_result"
    }
   ],
   "source": [
    "round(2.55)"
   ]
  },
  {
   "cell_type": "markdown",
   "id": "7193be6a-9e82-4ed1-b5e1-c9f54048fc61",
   "metadata": {},
   "source": [
    "Gördüğünüz gibi, round() fonksiyonuna parametre olarak bir sayı veriyoruz. Bu fonksiyon da bize o sayının yuvarlanmış halini döndürüyor. Bu fonksiyonu kullanarak yuvarlanacak sayının noktadan sonraki hassasiyetini de belirleyebilirsiniz. Örneğin:"
   ]
  },
  {
   "cell_type": "code",
   "execution_count": 28,
   "id": "16c86d30-0b72-4546-b418-97393388cd73",
   "metadata": {},
   "outputs": [
    {
     "data": {
      "text/plain": [
       "2.5"
      ]
     },
     "execution_count": 28,
     "metadata": {},
     "output_type": "execute_result"
    }
   ],
   "source": [
    "round(2.55, 1)"
   ]
  },
  {
   "cell_type": "markdown",
   "id": "87bc4974-8f4d-4da4-a8f6-77d078b55076",
   "metadata": {},
   "source": [
    "Burada ikinci parametre olarak 1 sayısını verdiğimiz için, noktadan sonraki bir basamak görüntüleniyor. Bir de şuna bakalım:"
   ]
  },
  {
   "cell_type": "code",
   "execution_count": 30,
   "id": "862e30de-8b07-4933-bf22-75cddfceb088",
   "metadata": {},
   "outputs": [
    {
     "data": {
      "text/plain": [
       "2.7"
      ]
     },
     "execution_count": 30,
     "metadata": {},
     "output_type": "execute_result"
    }
   ],
   "source": [
    "round(2.68, 1)"
   ]
  },
  {
   "cell_type": "markdown",
   "id": "8796eaa3-8045-499a-9084-419d77f21ebb",
   "metadata": {},
   "source": [
    "Burada da yuvarlama işlemi yapılırken noktadan sonra bir basamak korunuyor. Eğer 1 sayısı yerine 2 sayısını kullanırsanız, yukarıdaki örnek şu çıktıyı verir:"
   ]
  },
  {
   "cell_type": "code",
   "execution_count": 31,
   "id": "5a4589b3-e937-4343-b306-d46d5d7e314f",
   "metadata": {},
   "outputs": [
    {
     "data": {
      "text/plain": [
       "2.68"
      ]
     },
     "execution_count": 31,
     "metadata": {},
     "output_type": "execute_result"
    }
   ],
   "source": [
    "round(2.68, 2)"
   ]
  },
  {
   "cell_type": "markdown",
   "id": "4f6f06dc-237a-4218-ba0c-5ff9544c80af",
   "metadata": {},
   "source": [
    "round() fonksiyonunun çalışma prensibini anlamak için kendi kendinize örnekler yapabilirsiniz.\n",
    "\n",
    "Şimdiye kadar öğrendiğimiz ve yukarıdaki tabloda andığımız bir başka aritmetik işleç de kuvvet işleci (**) idi. Mesela bu işleci kullanarak bir sayının karesini hesaplayabileceğimizi biliyorsunuz:"
   ]
  },
  {
   "cell_type": "code",
   "execution_count": 32,
   "id": "58cd25a4-ed00-40a1-aea0-9752c23296a4",
   "metadata": {},
   "outputs": [
    {
     "data": {
      "text/plain": [
       "625"
      ]
     },
     "execution_count": 32,
     "metadata": {},
     "output_type": "execute_result"
    }
   ],
   "source": [
    "25 ** 2"
   ]
  },
  {
   "cell_type": "markdown",
   "id": "5e531748-e8d8-4cd2-9ab1-3e919c51ab89",
   "metadata": {},
   "source": [
    "Bir sayının 2. kuvveti o sayının karesidir. Bir sayının 0.5. kuvveti ise o sayının kareköküdür:\n",
    "\n"
   ]
  },
  {
   "cell_type": "code",
   "execution_count": 33,
   "id": "fa7aa63b-9dc0-4635-9008-a5ef2225edbd",
   "metadata": {},
   "outputs": [
    {
     "data": {
      "text/plain": [
       "25.0"
      ]
     },
     "execution_count": 33,
     "metadata": {},
     "output_type": "execute_result"
    }
   ],
   "source": [
    "625 ** 0.5"
   ]
  },
  {
   "cell_type": "markdown",
   "id": "8270c999-6dea-4da8-b709-3b3561036716",
   "metadata": {},
   "source": [
    "Bu arada, eğer karekökün kayan noktalı sayı cinsinden olması hoşunuza gitmediyse, bu sayıyı int() fonksiyonu ile tam sayıya çevirebileceğinizi biliyorsunuz:"
   ]
  },
  {
   "cell_type": "code",
   "execution_count": 34,
   "id": "1ffcc101-3107-49eb-8e2c-958450f389a1",
   "metadata": {},
   "outputs": [
    {
     "data": {
      "text/plain": [
       "25"
      ]
     },
     "execution_count": 34,
     "metadata": {},
     "output_type": "execute_result"
    }
   ],
   "source": [
    "int(625 ** 0.5)"
   ]
  },
  {
   "cell_type": "markdown",
   "id": "a67c94a1-975b-4389-bbf8-992487d88aa1",
   "metadata": {},
   "source": [
    "Kuvvet hesaplamaları için ** işlecinin yanısıra pow() adlı bir fonksiyondan da yararlanabileceğimizi öğrenmiştik:\n",
    "\n"
   ]
  },
  {
   "cell_type": "code",
   "execution_count": 35,
   "id": "311165f0-4781-431f-a3b6-49f3748b67a6",
   "metadata": {},
   "outputs": [
    {
     "data": {
      "text/plain": [
       "625"
      ]
     },
     "execution_count": 35,
     "metadata": {},
     "output_type": "execute_result"
    }
   ],
   "source": [
    "pow(25, 2)"
   ]
  },
  {
   "cell_type": "markdown",
   "id": "bc0f7df0-645d-4fda-8625-48c4f1091d37",
   "metadata": {},
   "source": [
    "Bildiğiniz gibi pow() fonksiyonu aslında toplam üç parametre alabiliyor:"
   ]
  },
  {
   "cell_type": "code",
   "execution_count": 36,
   "id": "6ad18fce-d353-4ffc-a0ab-d0ad47a18731",
   "metadata": {},
   "outputs": [
    {
     "data": {
      "text/plain": [
       "0"
      ]
     },
     "execution_count": 36,
     "metadata": {},
     "output_type": "execute_result"
    }
   ],
   "source": [
    "pow(25, 2, 5)"
   ]
  },
  {
   "cell_type": "markdown",
   "id": "a9ac223b-c7c1-40bd-bdf8-9c97ffd69917",
   "metadata": {},
   "source": [
    "Bu işlemin şununla aynı anlama geliyor:"
   ]
  },
  {
   "cell_type": "code",
   "execution_count": 37,
   "id": "68b1462e-ee56-428b-b033-ab06b60360b2",
   "metadata": {},
   "outputs": [
    {
     "data": {
      "text/plain": [
       "0"
      ]
     },
     "execution_count": 37,
     "metadata": {},
     "output_type": "execute_result"
    }
   ],
   "source": [
    "(25 ** 2) % 5"
   ]
  },
  {
   "cell_type": "markdown",
   "id": "9930b920-ab71-463b-aab9-ceadefbbf342",
   "metadata": {},
   "source": [
    "Yani pow(25, 2, 5) gibi bir komut verdiğimizde, 25 sayısının 2. kuvvetini alıp, elde ettiğimiz sayının 5’e bölünmesinden kalan sayıyı hesaplamış oluyoruz.\n",
    "\n",
    "Böylece aritmetik işleçleri tamamlamış olduk. Artık karşılaştırma işleçlerini inceleyebiliriz."
   ]
  },
  {
   "cell_type": "markdown",
   "id": "ca3d82d2-7e4f-4a58-99c2-bcff73afef8c",
   "metadata": {},
   "source": [
    "Karşılaştırma İşleçleri\n",
    "Adından da anlaşılacağı gibi, karşılaştırma işleçleri, işlenenler (operands) arasında bir karşılaştırma ilişkisi kuran işleçlerdir. Bu işleçleri şöyle sıralayabiliriz:\n",
    "\n",
    "==\n",
    "\n",
    "eşittir\n",
    "\n",
    "!=\n",
    "\n",
    "eşit değildir\n",
    "\n",
    ">\n",
    "\n",
    "büyüktür\n",
    "\n",
    "<\n",
    "\n",
    "küçüktür\n",
    "\n",
    ">=\n",
    "\n",
    "büyük eşittir\n",
    "\n",
    "<=\n",
    "\n",
    "küçük eşittir\n",
    "\n",
    "\n",
    "Bu işleçlerin hiçbiri size yabancı değil, zira bunların hepsini aslında daha önceki derslerde verdiğimiz örneklerde kullanmıştık. Burada da bunlarla ilgili basit bir örnek vererek yolumuza devam edelim:"
   ]
  },
  {
   "cell_type": "code",
   "execution_count": 40,
   "id": "c565508a-d7ff-4aed-8f04-c40ba37376e2",
   "metadata": {},
   "outputs": [
    {
     "name": "stdin",
     "output_type": "stream",
     "text": [
      "parolanız:  das\n"
     ]
    },
    {
     "name": "stdout",
     "output_type": "stream",
     "text": [
      "yanlış parola!\n"
     ]
    }
   ],
   "source": [
    "parola = \"xyz05\"\n",
    "\n",
    "soru = input(\"parolanız: \")\n",
    "\n",
    "if soru == parola:\n",
    "    print(\"doğru parola!\")\n",
    "\n",
    "elif soru != parola:\n",
    "    print(\"yanlış parola!\")"
   ]
  },
  {
   "cell_type": "markdown",
   "id": "c0f5d965-0df3-4a60-8db4-8bf38b43268c",
   "metadata": {},
   "source": [
    "Burada soru değişkeniyle kullanıcıdan alınan verinin, programın başında tanımladığımız parola değişkeninin değerine eşit olup olmadığını sorguluyoruz. Buna göre, eğer kullanıcıdan gelen veri parolayla eşleşiyorsa (if soru == parola), kullanıcıyı parolanın doğru olduğu konusunda bilgilendiriyoruz (print(\"doğru parola!\")). Ama eğer kullanıcıdan gelen veri parolayla eşleşmiyorsa (elif soru != parola), o zaman da kullanıcıya parolanın yanlış olduğunu bildiriyoruz (print(\"yanlış parola!\")).\n",
    "\n",
    "Yukarıdaki örnekte == (eşittir) ve != (eşit değildir) işleçlerinin kullanımını örneklendirdik. Öteki karşılaştırma işleçlerinin de nasıl kullanıldığını biliyorsunuz. Basit bir örnek verelim:"
   ]
  },
  {
   "cell_type": "code",
   "execution_count": 41,
   "id": "14db45ac-ea11-4f3b-86d2-fb8eef4bbf47",
   "metadata": {},
   "outputs": [
    {
     "name": "stdin",
     "output_type": "stream",
     "text": [
      "sayı:  23\n"
     ]
    },
    {
     "name": "stdout",
     "output_type": "stream",
     "text": [
      "sayı 100 veya 100'den küçük\n"
     ]
    }
   ],
   "source": [
    "sayı = input(\"sayı: \")\n",
    "\n",
    "if int(sayı) <= 100:\n",
    "    print(\"sayı 100 veya 100'den küçük\")\n",
    "\n",
    "elif int(sayı) >= 100:\n",
    "    print(\"sayı 100 veya 100'den büyük\")"
   ]
  },
  {
   "cell_type": "markdown",
   "id": "69f2083c-f673-44f2-9f1e-fd9d0c516210",
   "metadata": {},
   "source": [
    "Böylece karşılaştırma işleçlerini de incelemiş olduk. O halde gelelim bool işleçlerine…\n",
    "\n"
   ]
  },
  {
   "cell_type": "markdown",
   "id": "152f57d8-d949-47c7-9881-eb4c089baec9",
   "metadata": {},
   "source": [
    "Bool İşleçleri\n",
    "Bu bölümde bool işleçlerinden söz edeceğiz, ancak bool işleçlerine geçmeden önce biraz bool kavramından bahsetmemiz yerinde olacaktır.\n",
    "\n",
    "Nedir bu bool denen şey?\n",
    "\n",
    "Bilgisayar bilimi iki adet değer üzerine kuruludur: 1 ve 0. Yani sırasıyla True ve False. Bilgisayar biliminde herhangi bir şeyin değeri ya True, ya da False’tur. İşte bu True ve False olarak ifade edilen değerlere bool değerleri adı verilir (George Boole adlı İngiliz matematikçi ve filozofun adından). Türkçe olarak söylemek gerekirse, True değerinin karşılığı Doğru, False değerinin karşılığı ise Yanlış’tır.\n",
    "\n",
    "Örneğin:\n",
    "\n",
    "\n"
   ]
  },
  {
   "cell_type": "code",
   "execution_count": 44,
   "id": "4885791c-c767-4550-ad23-da4364724721",
   "metadata": {},
   "outputs": [],
   "source": [
    "a = 1"
   ]
  },
  {
   "cell_type": "markdown",
   "id": "429e2ee0-efca-4ae9-8662-62b27d496567",
   "metadata": {},
   "source": [
    "Burada a adlı bir değişken tanımladık. Bu değişkenin değeri 1. Şimdi bu değişkenin değerini sorgulayalım:"
   ]
  },
  {
   "cell_type": "code",
   "execution_count": 45,
   "id": "98d2ba33-fa74-47bf-a0b5-6f1a41daaffc",
   "metadata": {},
   "outputs": [
    {
     "data": {
      "text/plain": [
       "True"
      ]
     },
     "execution_count": 45,
     "metadata": {},
     "output_type": "execute_result"
    }
   ],
   "source": [
    "a ==1 "
   ]
  },
  {
   "cell_type": "markdown",
   "id": "d7941ef4-1c67-45ed-8998-6a30c9e87950",
   "metadata": {},
   "source": [
    "Gördüğünüz gibi, a == 1 sorgusu True (Doğru) çıktısı veriyor. Çünkü a değişkeninin değeri gerçekten de 1. Bir de şunu deneyelim:"
   ]
  },
  {
   "cell_type": "code",
   "execution_count": 46,
   "id": "da2734ae-aa57-4471-bf59-b19da4fc873d",
   "metadata": {},
   "outputs": [
    {
     "data": {
      "text/plain": [
       "False"
      ]
     },
     "execution_count": 46,
     "metadata": {},
     "output_type": "execute_result"
    }
   ],
   "source": [
    "a == 2"
   ]
  },
  {
   "cell_type": "markdown",
   "id": "06db92c4-ffc5-49c9-b8c2-558fe9bbc2e2",
   "metadata": {},
   "source": [
    "Burada da a değişkeninin değerinin 2 sayısına eşdeğer olup olmadığını sorguladık. a değişkeninin değeri 2 olmadığı için de Python bize False (Yanlış) çıktısı verdi.\n",
    "\n",
    "Gördüğünüz gibi, bool işleçleri herhangi bir ifadenin doğruluğunu veya yanlışlığını sorgulamak için kullanılabiliyor. Buna göre, eğer bir sorgulamanın sonucu doğru ise True, eğer yanlış ise False çıktısı alıyoruz.\n",
    "\n",
    "Bool işleçleri sadece yukarıda verdiğimiz örneklerdeki gibi, salt bir doğruluk-yanlışlık sorgulamaya yarayan araçlar değildir. Bilgisayar biliminde her şeyin bir bool değeri vardır. Bununla ilgili genel kuralımız şu: 0 değeri ve boş veri tipleri False’tur. Bunlar dışında kalan her şey ise True’dur.\n",
    "\n",
    "Bu durumu bool() adlı özel bir fonksiyondan yararlanarak teyit edebiliriz:\n",
    "\n"
   ]
  },
  {
   "cell_type": "code",
   "execution_count": 47,
   "id": "93226562-03d6-415e-94a5-731541e8a473",
   "metadata": {},
   "outputs": [
    {
     "data": {
      "text/plain": [
       "True"
      ]
     },
     "execution_count": 47,
     "metadata": {},
     "output_type": "execute_result"
    }
   ],
   "source": [
    "bool(3)"
   ]
  },
  {
   "cell_type": "code",
   "execution_count": 49,
   "id": "5da9f41f-5639-4858-b2d7-f1444db25315",
   "metadata": {},
   "outputs": [
    {
     "data": {
      "text/plain": [
       "True"
      ]
     },
     "execution_count": 49,
     "metadata": {},
     "output_type": "execute_result"
    }
   ],
   "source": [
    "bool(\"elma\")"
   ]
  },
  {
   "cell_type": "code",
   "execution_count": 50,
   "id": "1a5a0d8a-c503-4bc8-a91a-5c0793036af0",
   "metadata": {},
   "outputs": [
    {
     "data": {
      "text/plain": [
       "True"
      ]
     },
     "execution_count": 50,
     "metadata": {},
     "output_type": "execute_result"
    }
   ],
   "source": [
    "bool(\" \")"
   ]
  },
  {
   "cell_type": "code",
   "execution_count": 52,
   "id": "38829cb3-0315-4c6e-9c1a-cfe93950c9ab",
   "metadata": {},
   "outputs": [
    {
     "data": {
      "text/plain": [
       "True"
      ]
     },
     "execution_count": 52,
     "metadata": {},
     "output_type": "execute_result"
    }
   ],
   "source": [
    "bool(\"    \")"
   ]
  },
  {
   "cell_type": "code",
   "execution_count": 55,
   "id": "b1ccd033-359f-4d24-b4b0-f8ccf4b1aff3",
   "metadata": {},
   "outputs": [
    {
     "data": {
      "text/plain": [
       "True"
      ]
     },
     "execution_count": 55,
     "metadata": {},
     "output_type": "execute_result"
    }
   ],
   "source": [
    "bool(\"damsl;dmas\")"
   ]
  },
  {
   "cell_type": "code",
   "execution_count": 56,
   "id": "078a7e2f-70ef-44bd-8f74-f52bcf83c1c3",
   "metadata": {},
   "outputs": [
    {
     "data": {
      "text/plain": [
       "False"
      ]
     },
     "execution_count": 56,
     "metadata": {},
     "output_type": "execute_result"
    }
   ],
   "source": [
    "bool(0)"
   ]
  },
  {
   "cell_type": "code",
   "execution_count": 57,
   "id": "2b759f51-0b67-4c29-86f5-11e6da849a65",
   "metadata": {},
   "outputs": [
    {
     "data": {
      "text/plain": [
       "False"
      ]
     },
     "execution_count": 57,
     "metadata": {},
     "output_type": "execute_result"
    }
   ],
   "source": [
    "bool(\"\")"
   ]
  },
  {
   "cell_type": "markdown",
   "id": "92da312b-50e7-4ba8-8556-167f10bf2711",
   "metadata": {},
   "source": [
    "Gördüğünüz gibi, gerçekten de 0 sayısının ve boş karakter dizilerinin bool değeri False’tur. Geri kalan her şey ise True’dur.\n",
    "\n",
    "0’ın bir sayı, “0”’ın ise bir karakter dizisi olduğunu unutmayın. Sayı olan 0’ın bool değeri False’tur, ama karakter dizisi olan “0”’ın değeri True’dur.\n",
    "Yukarıdaki örneklere göre, içinde herhangi bir değer barındıran karakter dizileri (0 hariç) True çıktısı veriyor. Burada söylediğimiz şey bütün veri tipleri için geçerlidir. Eğer herhangi bir veri tipi herhangi bir değer içermiyorsa o veri tipi False çıktısı verir.\n",
    "\n",
    "Peki bu bilgi bizim ne işimize yarar? Yani mesela boş veri tiplerinin False, içinde bir veri barındıran veri tiplerinin ise True olması bizim için neden bu kadar önemli? Bunu birazdan açıklayacağız. Ama önce isterseniz, bool değerleri ile ilgili çok önemli bir konuya değinelim.\n",
    "\n",
    "Belki kendiniz de farketmişsinizdir; bool değerleri Python’da koşul belirten if, elif ve else deyimlerinin de temelini oluşturur. Şu örneği ele alalım mesela:"
   ]
  },
  {
   "cell_type": "code",
   "execution_count": 58,
   "id": "1f427f3b-b07f-4335-9ec6-84ea7aa7a716",
   "metadata": {},
   "outputs": [
    {
     "name": "stdin",
     "output_type": "stream",
     "text": [
      "İsminiz:  dsadas\n"
     ]
    },
    {
     "name": "stdout",
     "output_type": "stream",
     "text": [
      "dsadas ismini pek sevmem!\n"
     ]
    }
   ],
   "source": [
    "isim = input(\"İsminiz: \")\n",
    "\n",
    "if isim == \"Ferhat\":\n",
    "    print(\"Ne güzel bir isim bu!\")\n",
    "else:\n",
    "    print(isim, \"ismini pek sevmem!\")"
   ]
  },
  {
   "cell_type": "markdown",
   "id": "c9f84112-b7cb-40d3-8e41-59fea16bf343",
   "metadata": {},
   "source": [
    "Burada if isim == \"Ferhat\" dediğimizde, aslında Python’a şu emri vermiş oluyoruz:\n",
    "\n",
    "Eğer isim == \"Ferhat\" ifadesi True ise…\n",
    "\n",
    "Bunu teyit etmek için şöyle bir kod yazabilirsiniz:"
   ]
  },
  {
   "cell_type": "code",
   "execution_count": 59,
   "id": "223c0325-67db-40c8-89b7-df7e9eeeb3c7",
   "metadata": {},
   "outputs": [
    {
     "name": "stdin",
     "output_type": "stream",
     "text": [
      "İsminiz:  tkewl\n"
     ]
    },
    {
     "name": "stdout",
     "output_type": "stream",
     "text": [
      "False\n"
     ]
    }
   ],
   "source": [
    "isim = input(\"İsminiz: \")\n",
    "\n",
    "print(isim == \"Ferhat\")"
   ]
  },
  {
   "cell_type": "markdown",
   "id": "fb36be7e-ce30-4edf-811b-1d5b1cda9053",
   "metadata": {},
   "source": [
    "Eğer burada kullanıcı ‘Ferhat’ ismini girecek olursa programımız True çıktısı verir. Ama eğer kullanıcı başka bir isim girerse bu kez False çıktısını alırız. İşte koşul bildiren deyimler, karar verme görevini, kendilerine verilen ifadelerin bool değerlerine bakarak yerine getirir. Dolayısıyla yukarıdaki örneği şu şekilde Türkçeye çevirebiliriz:\n",
    "\n",
    "Eğer isim == \"Ferhat\" ifadesinin bool değeri True ise, Ne güzel bir isim bu! çıktısı ver! Ama eğer isim == \"Ferhat\" ifadesinin bool değeri True dışında herhangi bir şey ise (yani False ise), … ismini pek sevmem! çıktısı ver!\n",
    "\n",
    "Koşul bildiren deyimlerle bool değerleri arasındaki ilişkiyi daha iyi anlamak için bir örnek daha verelim:\n",
    "\n",
    "Hatırlarsanız içi boş veri tiplerinin bool değerinin her zaman False olacağını söylemiştik. Yani:"
   ]
  },
  {
   "cell_type": "code",
   "execution_count": 60,
   "id": "838dd8de-3107-44ff-86f0-9b2e193a8db3",
   "metadata": {},
   "outputs": [],
   "source": [
    "a = \"\""
   ]
  },
  {
   "cell_type": "code",
   "execution_count": 61,
   "id": "ff6db72c-2c3d-49af-8d65-99819b78e5ea",
   "metadata": {},
   "outputs": [
    {
     "data": {
      "text/plain": [
       "False"
      ]
     },
     "execution_count": 61,
     "metadata": {},
     "output_type": "execute_result"
    }
   ],
   "source": [
    "bool(a)"
   ]
  },
  {
   "cell_type": "markdown",
   "id": "a1694627-ea67-47ab-9b9e-c2a04128b8f4",
   "metadata": {},
   "source": [
    "Herhangi bir değere sahip veri tiplerinin bool değeri ise her zaman True olur (0 hariç):"
   ]
  },
  {
   "cell_type": "code",
   "execution_count": 62,
   "id": "679975e9-a89b-4d24-8082-0dae10e29f5f",
   "metadata": {},
   "outputs": [],
   "source": [
    "a = \"asdas\"\n"
   ]
  },
  {
   "cell_type": "code",
   "execution_count": 63,
   "id": "79fa002d-b6e0-45e9-ac86-2b453f5b52f3",
   "metadata": {},
   "outputs": [
    {
     "data": {
      "text/plain": [
       "True"
      ]
     },
     "execution_count": 63,
     "metadata": {},
     "output_type": "execute_result"
    }
   ],
   "source": [
    "bool(a)"
   ]
  },
  {
   "cell_type": "markdown",
   "id": "31253480-c677-478d-8df1-b5a8083d6f7e",
   "metadata": {},
   "source": [
    "İçi boş veri tiplerinin bool değerinin her zaman False olacağı bilgisini kullanarak şöyle bir uygulama yazabiliriz:"
   ]
  },
  {
   "cell_type": "code",
   "execution_count": 64,
   "id": "22a8c67a-29de-46fe-a61f-8fa63682a131",
   "metadata": {},
   "outputs": [
    {
     "name": "stdin",
     "output_type": "stream",
     "text": [
      "Kullanıcı adınız:  dasdas\n"
     ]
    },
    {
     "name": "stdout",
     "output_type": "stream",
     "text": [
      "Teşekkürler!\n"
     ]
    }
   ],
   "source": [
    "kullanıcı = input(\"Kullanıcı adınız: \")\n",
    "\n",
    "if bool(kullanıcı) == True:\n",
    "    print(\"Teşekkürler!\")\n",
    "else:\n",
    "    print(\"Kullanıcı adı alanı boş bırakılamaz!\")"
   ]
  },
  {
   "cell_type": "markdown",
   "id": "5ee57660-9fef-4e25-a6c9-03076f8da162",
   "metadata": {},
   "source": [
    "Burada şöyle bir emir verdik:\n",
    "\n",
    "“Eğer kullanıcı değişkeninin bool değeri True ise Teşekkürler! çıktısı ver! Değilse Kullanıcı adı alanı boş bırakılamaz! uyarısını göster!\n",
    "\n",
    "Eğer kullanıcı, kullanıcı adına herhangi bir şey yazdıktan sonra Enter tuşuna basarsa kullanıcı değişkeni, kullanıcının girdiği değeri gösterecek ve böylece bool(kullanıcı) komutu True çıktısı verecektir. Bu sayede de kodlarımızın içindeki if bloğu çalışmaya başlayacaktır.\n",
    "\n",
    "Ama eğer kullanıcı, kullanıcı adını yazmadan Enter tuşuna basarsa, kullanıcı değişkeni boş kalacağı için (yani kullanıcı = \"\" gibi bir durum ortaya çıkacağı için) bool(kullanıcı) komutu False çıktısı verecek ve böylece else bloğu çalışacaktır.\n",
    "\n",
    "Yalnız bu noktada şöyle bir uyarı yapalım. Yukarıdaki komutlar sözdizimi açısından tamamen doğru olsa da, etrafta yukarıdakine benzer bir kullanımı pek görmezsiniz. Aynı iş için genellikle şöyle bir şeyler yazılır:\n",
    "\n"
   ]
  },
  {
   "cell_type": "code",
   "execution_count": 65,
   "id": "7c90a3d6-4c52-4230-b307-6e040c31563f",
   "metadata": {},
   "outputs": [
    {
     "name": "stdin",
     "output_type": "stream",
     "text": [
      "Kullanıcı adınız:  adsas\n"
     ]
    },
    {
     "name": "stdout",
     "output_type": "stream",
     "text": [
      "Teşekkürler!\n"
     ]
    }
   ],
   "source": [
    "kullanıcı = input(\"Kullanıcı adınız: \")\n",
    "\n",
    "if kullanıcı:\n",
    "    print(\"Teşekkürler!\")"
   ]
  },
  {
   "cell_type": "markdown",
   "id": "f1a3070b-64ad-4bee-a102-6e0244175502",
   "metadata": {},
   "source": [
    "Gördüğünüz gibi, if bool(kullanıcı) == True: kodunu if kullanıcı: şeklinde kısaltabiliyoruz. Bu ikisi tamamen aynı anlama gelir. Yani ikisi de ‘kullanıcı değişkeninin bool değeri True ise…’ demektir.\n",
    "\n",
    "Bool kavramına aşinalık kazandığımıza göre şimdi bool işleçlerini incelemeye başlayabiliriz.\n",
    "\n",
    "Bool işleçleri, bool değerlerinden birini elde etmemizi sağlayan işleçlerdir. Bu işleçler şunlardır:\n",
    "\n",
    "and\n",
    "\n",
    "or\n",
    "\n",
    "not\n",
    "\n",
    "Eğer mantık dersleri aldıysanız bu işleçler size hiç yabancı gelmeyecektir. Eğer lisede mantık dersleri almadıysanız veya aldığınız derslerden hiçbir şey hatırlamıyorsanız, yine de ziyanı yok. Biz burada bu işleçleri bütün ayrıntılarıyla inceleyeceğiz.\n",
    "\n",
    "Önce and ile başlayalım…\n",
    "\n",
    "Türkçe söylemek gerekirse and ‘ve’ anlamına gelir. Peki bu and ne işimize yarar? Çok basit bir örnek verelim:\n",
    "\n",
    "Hatırlarsanız geçen bölümde koşullu durumlara örnek verirken şöyle bir durumdan bahsetmiştik:\n",
    "\n",
    "Diyelim ki Google’ın Gmail hizmeti aracılığıyla bir e.posta hesabı aldınız. Bu hesaba gireceğiniz zaman Gmail size bir kullanıcı adı ve parola sorar. Siz de kendinize ait kullanıcı adını ve parolayı sayfadaki kutucuklara yazarsınız. Eğer yazdığınız kullanıcı adı ve parola doğruysa hesabınıza erişebilirsiniz. Ama eğer kullanıcı adınız ve parolanız doğru değilse hesabınıza erişemezsiniz. Yani e.posta hesabınıza erişmeniz, kullanıcı adı ve parolayı doğru girme koşuluna bağlıdır.\n",
    "\n",
    "Burada çok önemli bir nokta var. Kullanıcının Gmail sistemine girebilmesi için hem kullanıcı adını hem de parolayı doğru yazması gerekiyor. Yani kullanıcı adı veya paroladan herhangi biri yanlış ise sisteme giriş mümkün olmayacaktır.\n",
    "\n",
    "Yukarıdaki durumu taklit eden bir programı, şu ana kadar olan bilgilerimizi kullanarak şöyle yazabiliyoruz:"
   ]
  },
  {
   "cell_type": "code",
   "execution_count": 66,
   "id": "b1c53795-2b03-46e1-848c-390eb8e10b87",
   "metadata": {},
   "outputs": [
    {
     "name": "stdin",
     "output_type": "stream",
     "text": [
      "Kullanıcı adınız:  aliveli\n",
      "Parolanız:  asdasd\n"
     ]
    },
    {
     "name": "stdout",
     "output_type": "stream",
     "text": [
      "Yanlış kullanıcı adı veya parola!\n"
     ]
    }
   ],
   "source": [
    "kullanıcı_adı = input(\"Kullanıcı adınız: \")\n",
    "parola = input(\"Parolanız: \")\n",
    "\n",
    "if kullanıcı_adı == \"aliveli\":\n",
    "    if parola == \"12345678\":\n",
    "        print(\"Programa hoşgeldiniz\")\n",
    "    else:\n",
    "        print(\"Yanlış kullanıcı adı veya parola!\")\n",
    "\n",
    "else:\n",
    "    print(\"Yanlış kullanıcı adı veya parola!\")"
   ]
  },
  {
   "cell_type": "markdown",
   "id": "50b0513c-4baf-42be-80eb-1403c869796f",
   "metadata": {},
   "source": [
    "Burada yeni bir bilgiyle daha karşılaşıyoruz. Gördüğünüz gibi, burada if deyimlerini iç içe kullandık. Python’da istediğiniz kadar iç içe geçmiş if deyimi kullanabilirsiniz. Ancak yazdığınız bir programda eğer üçten fazla iç içe if deyimi kullandıysanız, benimsediğiniz yöntemi yeniden gözden geçirmenizi tavsiye ederim. Çünkü iç içe geçmiş if deyimleri bir süre sonra anlaşılması güç bir kod yapısı ortaya çıkarabilir. Neyse… Biz konumuza dönelim.\n",
    "\n",
    "Yukarıdaki yazdığımız programda kullanıcının sisteme giriş yapabilmesi için hem kullanıcı adını hem de parolayı doğru girmesi gerekiyor. Kullanıcı adı ve paroladan herhangi biri yanlışsa sisteme girişe izin verilmiyor. Ancak yukarıdaki yöntem dolambaçlıdır. Halbuki aynı işlevi yerine getirmenin, Python’da çok daha kolay bir yolu var. Bakalım:\n",
    "\n"
   ]
  },
  {
   "cell_type": "code",
   "execution_count": 67,
   "id": "4e2708b6-a3a9-4eee-9f46-57817b78d5d4",
   "metadata": {},
   "outputs": [
    {
     "name": "stdin",
     "output_type": "stream",
     "text": [
      "Kullanıcı adınız:  2e12\n",
      "Parolanız:  dasda\n"
     ]
    },
    {
     "name": "stdout",
     "output_type": "stream",
     "text": [
      "Yanlış kullanıcı adı veya parola!\n"
     ]
    }
   ],
   "source": [
    "kullanıcı_adı = input(\"Kullanıcı adınız: \")\n",
    "parola = input(\"Parolanız: \")\n",
    "\n",
    "if kullanıcı_adı == \"aliveli\" and parola == \"12345678\":\n",
    "    print(\"Programa hoşgeldiniz\")\n",
    "\n",
    "else:\n",
    "    print(\"Yanlış kullanıcı adı veya parola!\")"
   ]
  },
  {
   "cell_type": "markdown",
   "id": "13e69505-7f57-4014-a42e-473cf6cd4684",
   "metadata": {},
   "source": [
    "Burada and işlecini nasıl kullandığımızı görüyorsunuz. Bu işleci kullanarak iki farklı ifadeyi birbirine bağladık. Böylece kullanıcının sisteme girişini hem kullanıcı adının hem de parolanın doğru olması koşuluna dayandırdık.\n",
    "\n",
    "Peki and işlecinin çalışma mantığı nedir? Dediğim gibi, and Türkçede ‘ve’ anlamına geliyor. Bu işleci daha iyi anlayabilmek için şu cümleler arasındaki farkı düşünün:\n",
    "\n",
    "Toplantıya Ali ve Veli katılacak.\n",
    "\n",
    "Toplantıya Ali veya Veli katılacak.\n",
    "\n",
    "İlk cümlede ‘ve’ bağlacı kullanıldığı için, bu cümlenin gereğinin yerine getirilebilmesi, hem Ali’nin hem de Veli’nin toplantıya katılmasına bağlıdır. Sadece Ali veya sadece Veli’nin toplantıya katılması durumunda bu cümlenin gereği yerine getirilememiş olacaktır.\n",
    "\n",
    "İkinci cümlede ise toplantıya Ali ve Veli’den herhangi birisinin katılması yeterlidir. Toplantıya sadece Ali’nin katılması, sadece Veli’nin katılması veya her ikisinin birden katılması, bu cümlenin gereğinin yerine getirilebilmesi açısından yeterlidir.\n",
    "\n",
    "İşte Python’daki and işleci de aynı bu şekilde işler. Şu örneklere bir bakalım:\n",
    "\n"
   ]
  },
  {
   "cell_type": "code",
   "execution_count": 68,
   "id": "c2aaff42-f11d-4047-a999-01eff1c321b4",
   "metadata": {},
   "outputs": [
    {
     "data": {
      "text/plain": [
       "True"
      ]
     },
     "execution_count": 68,
     "metadata": {},
     "output_type": "execute_result"
    }
   ],
   "source": [
    "a=23\n",
    "b=10\n",
    "a==23"
   ]
  },
  {
   "cell_type": "code",
   "execution_count": 69,
   "id": "b6954709-3560-4d2b-bdbb-bdd69bc25621",
   "metadata": {},
   "outputs": [
    {
     "data": {
      "text/plain": [
       "True"
      ]
     },
     "execution_count": 69,
     "metadata": {},
     "output_type": "execute_result"
    }
   ],
   "source": [
    "b==10"
   ]
  },
  {
   "cell_type": "code",
   "execution_count": 70,
   "id": "e304bd06-b8a0-4d3a-9a7a-fa42b4eb567d",
   "metadata": {},
   "outputs": [
    {
     "data": {
      "text/plain": [
       "True"
      ]
     },
     "execution_count": 70,
     "metadata": {},
     "output_type": "execute_result"
    }
   ],
   "source": [
    "a==23 and b ==10"
   ]
  },
  {
   "cell_type": "markdown",
   "id": "8533efa9-6e85-4070-8002-f51e85731029",
   "metadata": {},
   "source": [
    "urada değeri 23 olan bir adet a değişkeni ve değeri 10 olan bir adet b değişkeni tanımladık. Daha sonra bu iki değişkenin değerini tek tek sorguladık ve bunların gerçekten de sırasıyla 23 ve 10 sayısına eşit olduğunu gördük. Son olarak da bunları and işleci ile birbirine bağlayarak sorguladık. a değişkeninin değeri 23, b değişkeninin değeri de 10 olduğu için, yani and ile bağlanan her iki önerme de True çıktısı verdiği için a == 23 and b == 10 ifadesi True değeri verdi.\n",
    "\n",
    "Bir de şuna bakalım:"
   ]
  },
  {
   "cell_type": "code",
   "execution_count": 71,
   "id": "75034a91-9ec1-43a3-ba43-517dcac2685a",
   "metadata": {},
   "outputs": [
    {
     "data": {
      "text/plain": [
       "True"
      ]
     },
     "execution_count": 71,
     "metadata": {},
     "output_type": "execute_result"
    }
   ],
   "source": [
    "a = 23\n",
    "b = 10\n",
    "a == 23"
   ]
  },
  {
   "cell_type": "code",
   "execution_count": 72,
   "id": "b9e1e0c3-2aa5-4c6d-b12d-f5636fa738ef",
   "metadata": {},
   "outputs": [
    {
     "data": {
      "text/plain": [
       "False"
      ]
     },
     "execution_count": 72,
     "metadata": {},
     "output_type": "execute_result"
    }
   ],
   "source": [
    "b == 54"
   ]
  },
  {
   "cell_type": "code",
   "execution_count": 73,
   "id": "c450929e-8e5f-4111-9636-acc042b75283",
   "metadata": {},
   "outputs": [
    {
     "data": {
      "text/plain": [
       "False"
      ]
     },
     "execution_count": 73,
     "metadata": {},
     "output_type": "execute_result"
    }
   ],
   "source": [
    "a == 23 and b == 54"
   ]
  },
  {
   "cell_type": "markdown",
   "id": "d5e69d4d-7c81-44d4-a948-3d663c9e8ff3",
   "metadata": {},
   "source": [
    "Burada ise a değişkenin değeri 23’tür. Dolayısıyla a == 23 ifadesi True çıktısı verir. Ancak b değişkeninin değeri 54 değildir. O yüzden de b == 54 komutu False çıktısı verir. Gördüğünüz gibi, and işleci ile bağlanan önermelerden herhangi biri False olduğunda çıktımız da False oluyor. Unutmayın: and işlecinin True çıktısı verebilmesi için bu işleç tarafından bağlanan her iki önermenin de True olması gerekir. Eğer önermelerden biri bile True değilse çıktı da True olmayacaktır.\n",
    "\n",
    "Tahmin edebileceğiniz gibi, and işleci en yaygın if deyimleriyle birlikte kullanılır. Mesela yukarıda kullanıcıdan kullanıcı adı ve parola alırken de bu and işlecinden yararlanmıştık.\n",
    "\n",
    "Gelelim or işlecine…\n",
    "\n",
    "Tıpkı and gibi bir bool işleci olan or’un Türkçede karşılığı ‘veya’dır. Yukarıda ‘Toplantıya Ali veya Veli katılacak.’ cümlesini tartışırken aslında bu or kelimesinin anlamını açıklamıştık. Hatırlarsanız and işlecinin True çıktısı verebilmesi için bu işleçle bağlanan bütün önermelerin True değerine sahip olması gerekiyordu. or işlecinin True çıktısı verebilmesi için ise or işleciyle bağlanan önermelerden herhangi birinin True çıktısı vermesi yeterli olacaktır. Söylediğimiz bu şeyleri birkaç örnek üzerinde somutlaştıralım:"
   ]
  },
  {
   "cell_type": "code",
   "execution_count": 74,
   "id": "ed009f4b-3da7-494d-b99f-0bb4e9711e37",
   "metadata": {},
   "outputs": [
    {
     "data": {
      "text/plain": [
       "True"
      ]
     },
     "execution_count": 74,
     "metadata": {},
     "output_type": "execute_result"
    }
   ],
   "source": [
    "a = 23\n",
    "b = 10\n",
    "a == 23"
   ]
  },
  {
   "cell_type": "code",
   "execution_count": 75,
   "id": "335cae1c-bed8-4f72-9d0e-7e8530cb8266",
   "metadata": {},
   "outputs": [
    {
     "data": {
      "text/plain": [
       "True"
      ]
     },
     "execution_count": 75,
     "metadata": {},
     "output_type": "execute_result"
    }
   ],
   "source": [
    "b == 10"
   ]
  },
  {
   "cell_type": "code",
   "execution_count": 76,
   "id": "62ba705c-d52e-45f9-8eb7-c7c8dee45e6f",
   "metadata": {},
   "outputs": [
    {
     "data": {
      "text/plain": [
       "False"
      ]
     },
     "execution_count": 76,
     "metadata": {},
     "output_type": "execute_result"
    }
   ],
   "source": [
    "a == 11 "
   ]
  },
  {
   "cell_type": "code",
   "execution_count": 77,
   "id": "3ae987fe-4412-45b4-b8c8-d5cd915f344f",
   "metadata": {},
   "outputs": [
    {
     "data": {
      "text/plain": [
       "False"
      ]
     },
     "execution_count": 77,
     "metadata": {},
     "output_type": "execute_result"
    }
   ],
   "source": [
    "a == 11 "
   ]
  },
  {
   "cell_type": "code",
   "execution_count": 78,
   "id": "b89c9687-5422-4e3e-a1b8-8bd7a244e73e",
   "metadata": {},
   "outputs": [
    {
     "data": {
      "text/plain": [
       "True"
      ]
     },
     "execution_count": 78,
     "metadata": {},
     "output_type": "execute_result"
    }
   ],
   "source": [
    "a == 11 or b == 10"
   ]
  },
  {
   "cell_type": "markdown",
   "id": "e851a60c-f169-4bba-af09-faa3ed708108",
   "metadata": {},
   "source": [
    "Gördüğünüz gibi, a == 11 ifadesinin bool değeri False olduğu halde, b == 10 ifadesinin bool değeri True olduğu için a == 11 or b == 10 ifadesi True değerini veriyor.\n",
    "\n",
    "and ve or işleçlerini öğrendiğimize göre, bir sınavdan alınan notların harf karşılıklarını gösteren bir uygulama yazabiliriz:"
   ]
  },
  {
   "cell_type": "markdown",
   "id": "ec219d7b-9043-4720-b74f-ed2f9f5017cb",
   "metadata": {},
   "source": [
    "x = int(input(\"Notunuz: \"))\n",
    "\n",
    "if x > 100 or x < 0:\n",
    "    print(\"Böyle bir not yok\")\n",
    "\n",
    "elif x >= 90 and x <= 100:\n",
    "    print(\"A aldınız.\")\n",
    "\n",
    "elif x >= 80 and x <= 89:\n",
    "    print(\"B aldınız.\")\n",
    "\n",
    "elif x >= 70 and x <= 79:\n",
    "    print(\"C aldınız.\")\n",
    "\n",
    "elif x >= 60 and x <= 69:\n",
    "    print(\"D aldınız.\")\n",
    "\n",
    "elif x >= 0 and x <= 59:\n",
    "    print(\"F aldınız.\")"
   ]
  },
  {
   "cell_type": "markdown",
   "id": "999b6773-394d-4459-9555-1a1f42a6e27a",
   "metadata": {},
   "source": [
    "Bu programda eğer kullanıcı 100’den büyük ya da 0’dan küçük bir sayı girerse Böyle bir not yok uyarısı alacaktır. 0-100 arası notlarda ise, her bir not aralığına karşılık gelen harf görüntülenecektir. Eğer isterseniz yukarıdaki kodları şu şekilde de kısaltabilirsiniz:\n",
    "\n"
   ]
  },
  {
   "cell_type": "code",
   "execution_count": 79,
   "id": "834074ac-93c0-46d5-ba50-d3145539e268",
   "metadata": {},
   "outputs": [
    {
     "name": "stdin",
     "output_type": "stream",
     "text": [
      "Notunuz:  23\n"
     ]
    },
    {
     "name": "stdout",
     "output_type": "stream",
     "text": [
      "F aldınız.\n"
     ]
    }
   ],
   "source": [
    "x = int(input(\"Notunuz: \"))\n",
    "\n",
    "if x > 100 or x < 0:\n",
    "    print(\"Böyle bir not yok\")\n",
    "\n",
    "elif x >= 90 <= 100:\n",
    "    print(\"A aldınız.\")\n",
    "\n",
    "elif x >= 80 <= 89:\n",
    "    print(\"B aldınız.\")\n",
    "\n",
    "elif x >= 70 <= 79:\n",
    "    print(\"C aldınız.\")\n",
    "\n",
    "elif x >= 60 <= 69:\n",
    "    print(\"D aldınız.\")\n",
    "\n",
    "elif x >= 0 <= 59:\n",
    "    print(\"F aldınız.\")"
   ]
  },
  {
   "cell_type": "markdown",
   "id": "77182b90-084f-4798-b7b4-72194729101d",
   "metadata": {},
   "source": [
    "Gördüğünüz gibi, and x kısımlarını çıkardığımızda da bir önceki kodlarla aynı anlamı yakalayabiliyoruz.\n",
    "\n",
    "Hatta yukarıdaki kodları şöyle de yazabilirsiniz:\n",
    "\n"
   ]
  },
  {
   "cell_type": "code",
   "execution_count": 80,
   "id": "536da352-20f8-48af-a840-413326ff27fd",
   "metadata": {},
   "outputs": [
    {
     "name": "stdin",
     "output_type": "stream",
     "text": [
      "Notunuz:  -2\n"
     ]
    },
    {
     "name": "stdout",
     "output_type": "stream",
     "text": [
      "Böyle bir not yok\n"
     ]
    }
   ],
   "source": [
    "x = int(input(\"Notunuz: \"))\n",
    "\n",
    "if x > 100 or x < 0:\n",
    "    print(\"Böyle bir not yok\")\n",
    "\n",
    "#90 sayısı x'ten küçük veya x'e eşit,\n",
    "#x sayısı 100'den küçük veya 100'e eşit ise,\n",
    "#Yani x, 90 ile 100 arasında bir sayı ise\n",
    "elif 90 <= x <= 100:\n",
    "    print(\"A aldınız.\")\n",
    "\n",
    "#80 sayısı x'ten küçük veya x'e eşit,\n",
    "#x sayısı 89'dan küçük veya 89'a eşit ise,\n",
    "#Yani x, 80 ile 89 arasında bir sayı ise\n",
    "elif 80 <= x <= 89:\n",
    "    print(\"B aldınız.\")\n",
    "\n",
    "elif 70 <= x <= 79:\n",
    "    print(\"C aldınız.\")\n",
    "\n",
    "elif 60 <= x <= 69:\n",
    "    print(\"D aldınız.\")\n",
    "\n",
    "elif 0 <= x <= 59:\n",
    "    print(\"F aldınız.\")"
   ]
  },
  {
   "cell_type": "markdown",
   "id": "4b700047-d108-4d2e-af39-dbd4825d8bad",
   "metadata": {},
   "source": [
    "Bu kodlar bir öncekiyle aynı işi yapar. Yorumlardan da göreceğiniz gibi, bu iki kod arasında sadece mantık farkı var.\n",
    "\n",
    "Hatta, daha da ileri giderek aynı kodu çok daha basit hale getirmek isterseniz, aşağıdaki koda bakabilirsiniz.\n",
    "\n"
   ]
  },
  {
   "cell_type": "code",
   "execution_count": 81,
   "id": "2448ef88-6b5a-4d4d-a4fe-c0a1b253e855",
   "metadata": {},
   "outputs": [
    {
     "name": "stdin",
     "output_type": "stream",
     "text": [
      "Notunuz:  23\n"
     ]
    },
    {
     "name": "stdout",
     "output_type": "stream",
     "text": [
      "F aldınız.\n"
     ]
    }
   ],
   "source": [
    "x = int(input(\"Notunuz: \"))\n",
    "\n",
    "if x > 100 or x < 0:\n",
    "    print(\"Böyle bir not yok\")\n",
    "\n",
    "elif x >= 90:\n",
    "    print(\"A aldınız.\")\n",
    "\n",
    "elif x >= 80:\n",
    "    print(\"B aldınız.\")\n",
    "\n",
    "elif x >= 70:\n",
    "    print(\"C aldınız.\")\n",
    "\n",
    "elif x >= 60:\n",
    "    print(\"D aldınız.\")\n",
    "\n",
    "elif x >= 0:\n",
    "    print(\"F aldınız.\")"
   ]
  },
  {
   "cell_type": "markdown",
   "id": "b4a86529-b123-4545-bbb2-16f772f2d9bd",
   "metadata": {},
   "source": [
    "Son bool işlecimiz not. Bu kelimenin İngilizce’deki anlamı ‘değil’dir. Bu işleci şöyle kullanıyoruz:\n",
    "\n"
   ]
  },
  {
   "cell_type": "code",
   "execution_count": 82,
   "id": "ed8f00a3-0a5b-4da2-aa37-48cad9db30e8",
   "metadata": {},
   "outputs": [
    {
     "data": {
      "text/plain": [
       "False"
      ]
     },
     "execution_count": 82,
     "metadata": {},
     "output_type": "execute_result"
    }
   ],
   "source": [
    "a = 23\n",
    "not a"
   ]
  },
  {
   "cell_type": "code",
   "execution_count": 83,
   "id": "a1791c6f-f199-4cff-be91-97044afae464",
   "metadata": {},
   "outputs": [
    {
     "data": {
      "text/plain": [
       "True"
      ]
     },
     "execution_count": 83,
     "metadata": {},
     "output_type": "execute_result"
    }
   ],
   "source": [
    "a=\"\"\n",
    "not a"
   ]
  },
  {
   "cell_type": "markdown",
   "id": "1d0576d1-762e-4d22-82d0-78f6200276b0",
   "metadata": {},
   "source": [
    "Bu işleç, özellikle kullanıcı tarafından bir değişkene veri girilip girilmediğini denetlemek için kullanılabilir. Örneğin:"
   ]
  },
  {
   "cell_type": "code",
   "execution_count": 84,
   "id": "5a414c71-0d86-46aa-9c7c-88063b49e257",
   "metadata": {},
   "outputs": [
    {
     "name": "stdin",
     "output_type": "stream",
     "text": [
      "parola:  \n"
     ]
    },
    {
     "name": "stdout",
     "output_type": "stream",
     "text": [
      "Parola boş bırakılamaz!\n"
     ]
    }
   ],
   "source": [
    "parola = input(\"parola: \")\n",
    "\n",
    "if not parola:\n",
    "    print(\"Parola boş bırakılamaz!\")"
   ]
  },
  {
   "cell_type": "markdown",
   "id": "f9209896-6bf8-4a89-b8fa-ae50e9679044",
   "metadata": {},
   "source": [
    "Eğer kullanıcı herhangi bir parola belirlemeden doğrudan Enter tuşuna basacak olursa parola değişkeninin değeri boş bir karakter dizisi olacaktır. Yani parola = \"\". Boş veri tiplerinin bool değerinin False olacağını biliyoruz. Dolayısıyla, yukarıdaki gibi bir örnekte, kullanıcı parolayı boş geçtiğinde not parola kodu True verecek ve böylece ekrana “Parola boş bırakılamaz!” karakter dizisi yazdırılacaktır. Eğer yukarıdaki örneğin mantığını kavramakta zorluk çekiyorsanız şu örnekleri incelemenizi de öneririm:\n",
    "\n"
   ]
  },
  {
   "cell_type": "code",
   "execution_count": 85,
   "id": "f5fe22ad-2292-42ff-8f6f-e24ca9c8ecca",
   "metadata": {},
   "outputs": [
    {
     "data": {
      "text/plain": [
       "False"
      ]
     },
     "execution_count": 85,
     "metadata": {},
     "output_type": "execute_result"
    }
   ],
   "source": [
    "parola=\"\"\n",
    "bool(parola)"
   ]
  },
  {
   "cell_type": "code",
   "execution_count": 86,
   "id": "110f6206-81a6-4d51-a647-6a008cf7bf7f",
   "metadata": {},
   "outputs": [
    {
     "data": {
      "text/plain": [
       "True"
      ]
     },
     "execution_count": 86,
     "metadata": {},
     "output_type": "execute_result"
    }
   ],
   "source": [
    "bool(not parola)"
   ]
  },
  {
   "cell_type": "code",
   "execution_count": 87,
   "id": "565cfb13-66dc-4c36-b676-7bdf20aeb591",
   "metadata": {},
   "outputs": [
    {
     "data": {
      "text/plain": [
       "True"
      ]
     },
     "execution_count": 87,
     "metadata": {},
     "output_type": "execute_result"
    }
   ],
   "source": [
    "parola = \"1243\"\n",
    "bool(parola)"
   ]
  },
  {
   "cell_type": "code",
   "execution_count": 88,
   "id": "a36837f9-6977-488c-a469-80f4743c14ba",
   "metadata": {},
   "outputs": [
    {
     "data": {
      "text/plain": [
       "False"
      ]
     },
     "execution_count": 88,
     "metadata": {},
     "output_type": "execute_result"
    }
   ],
   "source": [
    "bool(not parola)"
   ]
  },
  {
   "cell_type": "markdown",
   "id": "fbe4722d-a73b-41e4-bc16-84d3eb58fce4",
   "metadata": {},
   "source": [
    "Aslında yukarıdaki örneklerde şuna benzer sorular sormuş gibi oluyoruz:"
   ]
  },
  {
   "cell_type": "code",
   "execution_count": 89,
   "id": "acfadaef-b01e-4a8c-a8db-8c3f81de041a",
   "metadata": {},
   "outputs": [
    {
     "data": {
      "text/plain": [
       "True"
      ]
     },
     "execution_count": 89,
     "metadata": {},
     "output_type": "execute_result"
    }
   ],
   "source": [
    "parola = \"\"\n",
    "bool(parola) #parola boş bırakılmamış, değil mi?\n",
    "\n",
    "False #Hayır, parola boş bırakılmış.\n",
    "\n",
    "bool(not parola) #parola boş bırakılmış, değil mi?\n",
    "\n",
    "True #Evet, parola boş bırakılmış"
   ]
  },
  {
   "cell_type": "markdown",
   "id": "92857c94-f0ce-4e2e-82a8-6ed8913ee5dd",
   "metadata": {},
   "source": [
    "Kendi kendinize pratik yaparak bu işlecin görevini daha iyi anlayabilirsiniz.\n",
    "\n",
    "Böylece kısmen çetrefilli bir konu olan bool işleçlerini de geride bırakmış olduk. Sırada değer atama işleçleri var.\n",
    "\n"
   ]
  },
  {
   "cell_type": "markdown",
   "id": "a9ff51ef-c9d2-4a1e-a1c7-40ce2e0db9ac",
   "metadata": {},
   "source": [
    "++++++++++Değer Atama İşleçleri\n",
    "\n",
    "\n",
    "Bu noktaya kadar yaptığımız çalışmalarda sadece tek bir değer atama işleci gördük. Bu işleç = işlecidir. Adından da anlaşılacağı gibi, bu işlecin görevi bir değişkene değer atamaktır. Mesela:"
   ]
  },
  {
   "cell_type": "code",
   "execution_count": 90,
   "id": "a1902eda-73d6-49a3-88d6-65da1ed46dcc",
   "metadata": {},
   "outputs": [],
   "source": [
    "a=23"
   ]
  },
  {
   "cell_type": "markdown",
   "id": "382f56b0-6671-4501-8ca4-c251740d4d14",
   "metadata": {},
   "source": [
    "Burada = işleci a değişkenine 23 değerini atama işlevi görüyor.\n",
    "\n",
    "Python’daki tek değer atama işleci elbette = değildir. Bunun dışında başka değer atama işleçleri de bulunur. Tek tek inceleyelim:\n",
    "\n",
    "+= işleci\n",
    "\n",
    "Bu işlecin ne işe yaradığını anlamak için şöyle bir örnek düşünün:"
   ]
  },
  {
   "cell_type": "code",
   "execution_count": 91,
   "id": "dafd5379-d7c4-4424-a6a8-826f25637dbf",
   "metadata": {},
   "outputs": [],
   "source": [
    "a=23"
   ]
  },
  {
   "cell_type": "markdown",
   "id": "6b6be0ae-6482-4251-bfbd-7c6024d89138",
   "metadata": {},
   "source": [
    "a degerine mesela 5 ekleyip bu degeri 28'e esitlemek icin ne yapmamiz lazim?"
   ]
  },
  {
   "cell_type": "code",
   "execution_count": 92,
   "id": "9fa2a74a-10f8-4b4e-a2a7-04d56d17375d",
   "metadata": {},
   "outputs": [
    {
     "name": "stdout",
     "output_type": "stream",
     "text": [
      "28\n"
     ]
    }
   ],
   "source": [
    "a = a + 5\n",
    "print(a)\n"
   ]
  },
  {
   "cell_type": "markdown",
   "id": "0582382c-9234-4d3b-a51c-591b6eeca0eb",
   "metadata": {},
   "source": [
    "Burada yaptığımız şey çok basit: a değişkeninin taşıdığı değere 5 ilave ediyoruz ve daha sonra bu değeri tekrar a değişkenine atıyoruz. Aynı işlemi çok daha kolay bir şekilde de yapabiliriz:"
   ]
  },
  {
   "cell_type": "code",
   "execution_count": 93,
   "id": "a678dd9a-ece6-4031-ab2a-dbd54c601f46",
   "metadata": {},
   "outputs": [
    {
     "name": "stdout",
     "output_type": "stream",
     "text": [
      "33\n"
     ]
    }
   ],
   "source": [
    "a += 5\n",
    "print(a)"
   ]
  },
  {
   "cell_type": "markdown",
   "id": "78191845-b769-4982-b60e-86a9e6bf734c",
   "metadata": {},
   "source": [
    "Bu kod, yukarıdakiyle tamamen aynı anlama gelir. Ama bir önceki koda göre çok daha verimlidir. Çünkü a += 5 kodunda Python a değişkeninin değerini sadece bir kez kontrol ettiği için, işlemi a = a + 5 koduna göre daha hızlı yapacaktır.\n",
    "\n",
    "-= işleci\n",
    "\n",
    "Bir önceki += işleci toplama işlemi yapıp, ortaya çıkan değeri tekrar aynı değişkene atıyordu. -= işleci de buna benzer bir işlem gerçekleştirir:"
   ]
  },
  {
   "cell_type": "code",
   "execution_count": 94,
   "id": "9dc1a6d7-3b50-4272-92b8-061f141c867a",
   "metadata": {},
   "outputs": [
    {
     "name": "stdout",
     "output_type": "stream",
     "text": [
      "18\n"
     ]
    }
   ],
   "source": [
    "a = 23\n",
    "a -= 5\n",
    "print(a)"
   ]
  },
  {
   "cell_type": "markdown",
   "id": "8b699dbf-3bd3-4fb6-a555-7117867e7298",
   "metadata": {},
   "source": [
    "Yukarıdaki kullanım şununla tamamen aynıdır:"
   ]
  },
  {
   "cell_type": "code",
   "execution_count": 95,
   "id": "0790a101-fe12-41b9-b8d7-56498e0a06be",
   "metadata": {},
   "outputs": [
    {
     "name": "stdout",
     "output_type": "stream",
     "text": [
      "18\n"
     ]
    }
   ],
   "source": [
    "a = 23\n",
    "a = a - 5\n",
    "print(a)\n"
   ]
  },
  {
   "cell_type": "markdown",
   "id": "7f20c8f1-a5e2-4147-804f-d82a9d191a7b",
   "metadata": {},
   "source": [
    "Ancak tıpkı += işlecinde olduğu gibi, -= işleci de alternatifine göre daha hızlı çalışan bir araçtır.\n",
    "\n",
    "/= işleci\n",
    "\n",
    "Bu işlecin çalışma mantığı da yukarıdaki işleçlerle aynıdır:\n",
    "\n"
   ]
  },
  {
   "cell_type": "code",
   "execution_count": 96,
   "id": "b4b60291-ac51-453b-9d01-e3a17459dbd2",
   "metadata": {},
   "outputs": [
    {
     "name": "stdout",
     "output_type": "stream",
     "text": [
      "10.0\n"
     ]
    }
   ],
   "source": [
    "a = 30\n",
    "a /= 3\n",
    "print(a)\n"
   ]
  },
  {
   "cell_type": "markdown",
   "id": "1702ae2d-2f25-4589-9602-2fc6464131ca",
   "metadata": {},
   "source": [
    "Yukarıdaki işlem de şununla tamamen aynıdır:"
   ]
  },
  {
   "cell_type": "code",
   "execution_count": 98,
   "id": "4da464c3-8dcc-4164-933c-eee0a4718d97",
   "metadata": {},
   "outputs": [
    {
     "name": "stdout",
     "output_type": "stream",
     "text": [
      "10.0\n"
     ]
    }
   ],
   "source": [
    "a = 30\n",
    "a = a / 3\n",
    "print(a)"
   ]
  },
  {
   "cell_type": "markdown",
   "id": "a8da08c9-3e24-4212-9976-d3c617efbcae",
   "metadata": {},
   "source": [
    "*= işleci\n",
    "\n",
    "Bu da ötekiler gibi, çarpma işlemi yapıp, bu işlemin sonucunu aynı değişkene atar:"
   ]
  },
  {
   "cell_type": "code",
   "execution_count": 100,
   "id": "928e1646-2917-49e2-9910-ac97b5d3ae73",
   "metadata": {},
   "outputs": [
    {
     "name": "stdout",
     "output_type": "stream",
     "text": [
      "40\n"
     ]
    }
   ],
   "source": [
    "a = 20\n",
    "a *= 2\n",
    "print(a)"
   ]
  },
  {
   "cell_type": "markdown",
   "id": "c8666ae3-b637-4242-b4ac-3287221a131f",
   "metadata": {},
   "source": [
    "Bu işlecin eşdeğeri de şudur:"
   ]
  },
  {
   "cell_type": "code",
   "execution_count": 101,
   "id": "b5680b5f-7a53-43da-85c3-167e5f8a5326",
   "metadata": {},
   "outputs": [
    {
     "name": "stdout",
     "output_type": "stream",
     "text": [
      "40\n"
     ]
    }
   ],
   "source": [
    "a = 20\n",
    "a = a * 2\n",
    "print(a)"
   ]
  },
  {
   "cell_type": "markdown",
   "id": "ca30e6d5-2a1b-4834-85c8-8c5f7609f503",
   "metadata": {},
   "source": [
    "%= işleci\n",
    "\n",
    "Bu işlecimiz ise bölme işleminden kalan sayıyı aynı değişkene atar:"
   ]
  },
  {
   "cell_type": "code",
   "execution_count": 102,
   "id": "8f8aebf4-2b6f-4b48-9d88-90f43246f3fb",
   "metadata": {},
   "outputs": [
    {
     "name": "stdout",
     "output_type": "stream",
     "text": [
      "1\n"
     ]
    }
   ],
   "source": [
    "a = 40\n",
    "a %= 3\n",
    "print(a)"
   ]
  },
  {
   "cell_type": "markdown",
   "id": "0ef6a94e-7c42-45b2-b5e2-2836214e8dd4",
   "metadata": {},
   "source": [
    "Bu işleç de şuna eşdeğerdir:"
   ]
  },
  {
   "cell_type": "code",
   "execution_count": 103,
   "id": "be764d50-bfac-450f-b046-bf52ba02a5f7",
   "metadata": {},
   "outputs": [
    {
     "name": "stdout",
     "output_type": "stream",
     "text": [
      "1\n"
     ]
    }
   ],
   "source": [
    "a = 40\n",
    "a = a % 3\n",
    "print(a)\n"
   ]
  },
  {
   "cell_type": "markdown",
   "id": "a71fb17f-cb8c-4523-a028-eb608391c87e",
   "metadata": {},
   "source": [
    "**= işleci\n",
    "\n",
    "Bu işlecin ne yaptığını tahmin etmek zor değil. Bu işlecimiz, bir sayının kuvvetini hesapladıktan sonra çıkan değeri aynı değişkene atıyor:"
   ]
  },
  {
   "cell_type": "code",
   "execution_count": 104,
   "id": "47fa053e-3bc7-4e03-a2e1-dbd51e3ebc9b",
   "metadata": {},
   "outputs": [
    {
     "name": "stdout",
     "output_type": "stream",
     "text": [
      "144\n"
     ]
    }
   ],
   "source": [
    "a = 12\n",
    "a **= 2\n",
    "print(a)"
   ]
  },
  {
   "cell_type": "markdown",
   "id": "50d22a82-f66a-4327-8170-8cab2a0d33e2",
   "metadata": {},
   "source": [
    "Eşdeğeri:\n",
    "\n"
   ]
  },
  {
   "cell_type": "code",
   "execution_count": 105,
   "id": "c6e5850d-31dd-4922-a8a6-bed691621a0e",
   "metadata": {},
   "outputs": [
    {
     "name": "stdout",
     "output_type": "stream",
     "text": [
      "144\n"
     ]
    }
   ],
   "source": [
    "a = 12\n",
    "a = a ** 2\n",
    "print(a)\n",
    "\n"
   ]
  },
  {
   "cell_type": "markdown",
   "id": "287669ea-e288-4c9f-9afb-d1bd5a989775",
   "metadata": {},
   "source": [
    "//= işleci"
   ]
  },
  {
   "cell_type": "markdown",
   "id": "56f6ed3d-2cc3-4e5c-bdd4-430a0fd84892",
   "metadata": {},
   "source": [
    "Değer atama işleçlerinin sonuncusu olan //= işlecinin görevi ise taban bölme işleminin sonucunu aynı değişkene atamaktır:"
   ]
  },
  {
   "cell_type": "code",
   "execution_count": 108,
   "id": "adcf4552-028f-4add-8635-40299f1fb007",
   "metadata": {},
   "outputs": [
    {
     "name": "stdout",
     "output_type": "stream",
     "text": [
      "2\n"
     ]
    }
   ],
   "source": [
    "a = 5\n",
    "a //= 2\n",
    "print(a)\n"
   ]
  },
  {
   "cell_type": "markdown",
   "id": "92173153-cec7-43bc-953a-1a788fdd5759",
   "metadata": {},
   "source": [
    "Eşdeğeri:"
   ]
  },
  {
   "cell_type": "code",
   "execution_count": 109,
   "id": "636d88a0-74db-4615-868e-954286b23aa5",
   "metadata": {},
   "outputs": [
    {
     "name": "stdout",
     "output_type": "stream",
     "text": [
      "2\n"
     ]
    }
   ],
   "source": [
    "a = 5\n",
    "a = a // 2\n",
    "print(a)"
   ]
  },
  {
   "cell_type": "markdown",
   "id": "c08a66ee-112a-461d-8cae-68d62800350e",
   "metadata": {},
   "source": [
    "Bu işleçler arasından, özellikle += ve -= işleçleri işinize bir hayli yarayacak.\n",
    "\n",
    "Bu arada eğer bu işleçleri kullanırken mesela += mi yoksa =+ mı yazacağınızı karıştırıyorsanız, şöyle düşünebilirsiniz:"
   ]
  },
  {
   "cell_type": "code",
   "execution_count": 110,
   "id": "7d46b4a1-6bfd-44d8-83d9-d0e15f8fe737",
   "metadata": {},
   "outputs": [
    {
     "name": "stdout",
     "output_type": "stream",
     "text": [
      "10\n"
     ]
    }
   ],
   "source": [
    "a = 5\n",
    "a += 5\n",
    "print(a)"
   ]
  },
  {
   "cell_type": "markdown",
   "id": "a0d8388a-c505-448a-8562-cb55ef93e926",
   "metadata": {},
   "source": [
    "Burada, değeri 5 olan bir a değişkenine 5 daha ekleyip, çıkan sonucu tekrar a değişkenine atadık. Böylece değeri 10 olan bir a değişkeni elde ettik. += işlecinin doğru kullanımı yukarıdaki gibidir. Bir de yukarıdaki örneği şöyle yazmayı deneyelim:"
   ]
  },
  {
   "cell_type": "code",
   "execution_count": 111,
   "id": "6478cfca-5931-49eb-953d-ab6cae4fd8c4",
   "metadata": {},
   "outputs": [
    {
     "name": "stdout",
     "output_type": "stream",
     "text": [
      "5\n"
     ]
    }
   ],
   "source": [
    "a = 5\n",
    "a =+ 5\n",
    "print(a)"
   ]
  },
  {
   "cell_type": "markdown",
   "id": "5eeb074a-630c-406a-b02e-e4c1ca893aab",
   "metadata": {},
   "source": [
    "Burada + işleci ile = işlecinin yerini değiştirdik.\n",
    "\n",
    "a =+ 5 satırına dikkatlice bakın. Aslında burada yaptığımız şeyin a = +5 işlemi olduğunu, yani a değişkenine +5 gibi bir değer verdiğimizi göreceksiniz. Durum şu örnekte daha net görünecektir:"
   ]
  },
  {
   "cell_type": "code",
   "execution_count": 112,
   "id": "71f8e2c6-e076-4600-9e08-599c7e40392a",
   "metadata": {},
   "outputs": [
    {
     "name": "stdout",
     "output_type": "stream",
     "text": [
      "-5\n"
     ]
    }
   ],
   "source": [
    "a = 5\n",
    "a =- 5\n",
    "print(a)\n"
   ]
  },
  {
   "cell_type": "markdown",
   "id": "2b56e75b-0f17-444c-a040-a2a19e22d53b",
   "metadata": {},
   "source": [
    "Gördüğünüz gibi, a =- 5 yazdığımızda, aslında yaptığımız şey a değişkenine -5 değerini vermekten ibarettir. Yani a = -5."
   ]
  },
  {
   "cell_type": "markdown",
   "id": "c56024f9-144c-45da-abb5-215e4e45d63c",
   "metadata": {},
   "source": [
    ":= işleci"
   ]
  },
  {
   "cell_type": "markdown",
   "id": "c58bd63e-ac77-4066-8c52-7a2ff536c0ec",
   "metadata": {},
   "source": [
    "Walrus operatörü olarak da bilinen bu işleç, Python’un 3.8 versiyonu ile eklenmiştir. Bundan önceki versiyonlarda bulunmamaktadır ve çalışmayacaktır. SyntaxError hatası verecektir."
   ]
  },
  {
   "cell_type": "markdown",
   "id": "2785c91b-9c42-434c-a70d-901a7805e058",
   "metadata": {},
   "source": [
    "Bu işleç biraz garip gözüküyor olabilir. Ne yaptığını bakarak kestirmek de biraz zor. En iyisi bir örnekle başlayalım:\n",
    "\n"
   ]
  },
  {
   "cell_type": "code",
   "execution_count": 113,
   "id": "fbf31e80-ea45-472c-b2c3-106518105f83",
   "metadata": {},
   "outputs": [
    {
     "name": "stdin",
     "output_type": "stream",
     "text": [
      "Adın ne?  dasdsad\n"
     ]
    },
    {
     "name": "stdout",
     "output_type": "stream",
     "text": [
      "Çok uzun bir adın var.\n"
     ]
    }
   ],
   "source": [
    "giriş = len(input(\"Adın ne? \"))\n",
    "\n",
    "if giriş < 4:\n",
    "    print(\"Adın kısaymış.\")\n",
    "elif giriş < 6:\n",
    "    print(\"Adın biraz uzunmuş.\")\n",
    "else:\n",
    "    print(\"Çok uzun bir adın var.\")"
   ]
  },
  {
   "cell_type": "markdown",
   "id": "6e3079da-296f-4e5c-bd68-4b5ca23d75fe",
   "metadata": {},
   "source": [
    "Gördüğünüz gibi girilen karakter dizisinin uzunluğuna göre ekrana bir çıktı yazdırmaktayız. Python3.8’e sahipseniz vereceğimiz örnekleri kendiniz de deneyebilirsiniz. Bir de := işleci ile bu kodu nasıl yazabileceğimize bakalım:"
   ]
  },
  {
   "cell_type": "code",
   "execution_count": 114,
   "id": "5466394f-3fe3-4482-9866-422ce9492887",
   "metadata": {},
   "outputs": [
    {
     "name": "stdin",
     "output_type": "stream",
     "text": [
      "Adın ne?  2123123\n"
     ]
    },
    {
     "name": "stdout",
     "output_type": "stream",
     "text": [
      "Çok uzun bir adın var.\n"
     ]
    }
   ],
   "source": [
    "if ( giriş := len(input(\"Adın ne? \")) ) < 4:\n",
    "    print(\"Adın kısaymış.\")\n",
    "elif giriş < 6:\n",
    "    print(\"Adın biraz uzunmuş.\")\n",
    "else:\n",
    "    print(\"Çok uzun bir adın var.\")"
   ]
  },
  {
   "cell_type": "markdown",
   "id": "dc938e09-ea25-4c0a-8d95-b17041e6225a",
   "metadata": {},
   "source": [
    "Burada giriş değişkenine değer atamayı if ifadesinin içinde yaptık. Normalde böyle bir işlemi = ile yapamazdık:"
   ]
  },
  {
   "cell_type": "code",
   "execution_count": 115,
   "id": "49ea1733-c029-428b-983e-2fd488f82876",
   "metadata": {},
   "outputs": [
    {
     "ename": "SyntaxError",
     "evalue": "invalid syntax. Maybe you meant '==' or ':=' instead of '='? (1136545836.py, line 1)",
     "output_type": "error",
     "traceback": [
      "\u001b[0;36m  Cell \u001b[0;32mIn[115], line 1\u001b[0;36m\u001b[0m\n\u001b[0;31m    if ( giriş = len(input(\"Adın ne? \")) ) < 4:\u001b[0m\n\u001b[0m         ^\u001b[0m\n\u001b[0;31mSyntaxError\u001b[0m\u001b[0;31m:\u001b[0m invalid syntax. Maybe you meant '==' or ':=' instead of '='?\n"
     ]
    }
   ],
   "source": [
    "if ( giriş = len(input(\"Adın ne? \")) ) < 4:"
   ]
  },
  {
   "cell_type": "markdown",
   "id": "c6830ea9-43d7-4c0c-8550-6ece0f77ceea",
   "metadata": {},
   "source": [
    "Fark edebileceğiniz gibi walrus operatörü bizi bir satır fazladan yazmaktan kurtardı. Kullanıcıdan alınan bilginin giriş değişkenine nasıl atandığına dikkat edin. giriş değişkeninden sonra := işlecini kullanıyoruz ve aynı zamanda değişken atamasını yaptığımız bölümün tamamını parantez içine alıyoruz. Peki bu parantezi koymaz isek ne olur? Gelin bir örnek ile de onu deneyelim:\n",
    "\n"
   ]
  },
  {
   "cell_type": "code",
   "execution_count": 116,
   "id": "7b29ddea-e2a9-4b6b-af0b-e795309f46f3",
   "metadata": {},
   "outputs": [
    {
     "name": "stdin",
     "output_type": "stream",
     "text": [
      "Adın ne?  hihjk\n"
     ]
    }
   ],
   "source": [
    "if  giriş := len(input(\"Adın ne? \"))  < 4:\n",
    "    print(giriş)"
   ]
  },
  {
   "cell_type": "markdown",
   "id": "31ee02bf-d44c-4645-ae6e-e71cd7fd3fb9",
   "metadata": {},
   "source": [
    "Eğer bu kodu çalıştırsanız ekrana True yazıldığını veya hiçbir şey yazılmadığını görebilirsiniz. Oysa önceki parantez kullandığımız kodda giriş değişkeni bir int’di. Bu örneğimizde ise ilk önce len(input(\"Adın ne? \"))  < 4 kısmı çalışıyor ve bunun sonucu daha sonra giriş değişkenimize atanıyor. Bu yüzden giriş değişkenimiz True veya False, yani bir bool oluyor. Eğer giriş değişkeni True olursa ekrana yazılıyor, ancak eğer False olursa ekrana yazılmıyor. Çünkü if ifadesinin değeri de False oluyor. if ifadesinin kontrol ettiği yer len(input(\"Adın ne? \"))  < 4 kısmı olduğu için if deyiminin içine girilmiyor.\n",
    "\n",
    "Çok önemli bir işleç olmayabilir ama bazen aynı fonksiyonu iki defa çağırmak yerine bir defa çağırmak gibi kolaylıklar sağlamaktadır. Bu konu ile alakalı daha fazla örnek için buraya bakabilirsiniz"
   ]
  },
  {
   "cell_type": "markdown",
   "id": "75cb491b-4c53-43c1-b91f-80f13cd5addf",
   "metadata": {},
   "source": [
    "Bitwise (Bitsel)\n",
    "\n",
    "İşleçleri\n",
    "Bu bölümde bitwise işleçlerinden söz edeceğiz, ancak bitwise işleçlerini anlayabilmek için öncelikle ikili sayı sistemi hakkında bilgi sahibi olmanız gerekecek. Görüldüğü üzere, bitwise işleçleri ikili sayılar temelinde işlemler yapmamıza yarar sağlar.\n",
    "\n",
    "Peki, nedir bu ikili sayma sistemi?\n",
    "\n",
    "İkili sayı sistemi, bilgisayarların verileri temsil etmek için kullandığı temel sayı sistemidir. Her yerde duyduğunuz gibi, ekrandaki her şey size ne kadar karmaşık gelse de, bilgisayarlarımız bunları ikili (binary) tabanda temsil eder. Örneğin, “10” sayısının ikili tabanda gösterimi “1010” şeklindedir. İkili sayma sisteminde, bir sayıyı oluşturan rakamlar 2’nin kuvvetleri olarak hesaplanır. Bu sayıyı 2’nin kuvvetlerini kullanarak şu şekilde hesaplayabiliriz:\n",
    "\n"
   ]
  },
  {
   "cell_type": "code",
   "execution_count": 117,
   "id": "89731754-2760-4fa7-ba3b-c7ab95d3763b",
   "metadata": {},
   "outputs": [
    {
     "data": {
      "text/plain": [
       "10"
      ]
     },
     "execution_count": 117,
     "metadata": {},
     "output_type": "execute_result"
    }
   ],
   "source": [
    "(0 * (2 ** 0)) + (1 * (2 ** 1)) + (0 * (2 ** 2)) + (1 * (2 ** 3))\n"
   ]
  },
  {
   "cell_type": "markdown",
   "id": "6ff13d3f-ddd2-46d1-8683-a7a0fe2efc9e",
   "metadata": {},
   "source": [
    "Tabii, daha fazlasını dokümanın ileri bölümlerinde anlatacağız. Şimdilik bunları bilseniz yeterli."
   ]
  },
  {
   "cell_type": "markdown",
   "id": "1ca0b588-4fda-4b67-ad79-a0f3d6562113",
   "metadata": {},
   "source": [
    "&\n",
    "\n",
    "Mantıksal And\n",
    "\n",
    "|\n",
    "\n",
    "Mantıksal Or\n",
    "\n",
    ">>\n",
    "\n",
    "Kaydırma\n",
    "\n",
    "<<\n",
    "\n",
    "Kaydırma\n",
    "\n",
    "^\n",
    "\n",
    "Mantıksal XOR\n",
    "\n",
    "~\n",
    "\n",
    "Tümleme\n",
    "\n",
    "Şunu da söylemeden geçmeyelim, yukarıda gördüğünüz bu işleçler çoğumuzun lise matematik derslerinde gördüğü veya göreceği sembolik mantık (namıdeğer matematiksel mantık) ilkelerine dayandığından, her işleçte sembolik mantık derslerindeki karşılıklarını da göstereceğiz. Tabii, daha önce sembolik mantıktan haberdar olmayanlar için başlamadan önce ilerde işimize yarayacak olan önermelerin ne olduğuna bir bakalım. Eğer daha detaylı olarak öğrenmek isterseniz, Wikipedia’ya bakmanız yeterli."
   ]
  },
  {
   "cell_type": "markdown",
   "id": "115b52ef-2d86-4865-a6c1-fd81df64df83",
   "metadata": {},
   "source": [
    "Önermeler\n",
    "\n",
    "Siz hiç farketmemiş olsanız da Python’da birçok kez önerme kullandınız. Hemen birini gösterelim:\n",
    "\n"
   ]
  },
  {
   "cell_type": "code",
   "execution_count": 118,
   "id": "e25dcbcb-17bf-4de1-85ab-19d494905d09",
   "metadata": {},
   "outputs": [
    {
     "ename": "SyntaxError",
     "evalue": "incomplete input (3715081021.py, line 2)",
     "output_type": "error",
     "traceback": [
      "\u001b[0;36m  Cell \u001b[0;32mIn[118], line 2\u001b[0;36m\u001b[0m\n\u001b[0;31m    if a == 10:\u001b[0m\n\u001b[0m               ^\u001b[0m\n\u001b[0;31mSyntaxError\u001b[0m\u001b[0;31m:\u001b[0m incomplete input\n"
     ]
    }
   ],
   "source": [
    "a = 10 \n",
    "if a == 10:"
   ]
  },
  {
   "cell_type": "markdown",
   "id": "c3407515-cb0f-4b2c-b5a1-2f9f8a36f223",
   "metadata": {},
   "source": [
    "Yukarıda gördüğünüz kodda a == 10 bir önermedir. Peki önerme dediğimiz şeyi tanımlasak nasıl olur? Mantıkta doğrulanabilir ya da yanlışlanabilir olmak zorunda olan ifadelere önerme denir. Bayağı hiçbir şey ifade etmeyen kelimeler grubu gibi duran bu cümleyi biraz açıklayalım. Demek istediğimiz şey şu: Herhangi bir cümlemiz olsun, doğru ya da yanlış olması umrumuzda bile değil ama yanlış ya da doğru olabilmesi onun bize bir önerme olabileceğini gösteriyor. Mesela Mertcan adında bir arkadaşımız olsun. Bu arkadaş Keloğlan izlemeyi seviyor olsun. Mertcan’ın bir arkadaşına şöyle bir şey diyelim:\n",
    "\n",
    "Mertcan Keloğlan izlemeyi sevmiyor.\n",
    "\n",
    "Bu cümle bir önermedir ancak bu önerme doğru değildir. Sembolik olarak değerini göstermek istersek, 0 ile göstermemiz gerekecektir."
   ]
  },
  {
   "cell_type": "code",
   "execution_count": 119,
   "id": "fae6dddc-8c64-4f81-924e-c73ecf804082",
   "metadata": {},
   "outputs": [
    {
     "ename": "SyntaxError",
     "evalue": "incomplete input (2170735758.py, line 1)",
     "output_type": "error",
     "traceback": [
      "\u001b[0;36m  Cell \u001b[0;32mIn[119], line 1\u001b[0;36m\u001b[0m\n\u001b[0;31m    if a == 10:\u001b[0m\n\u001b[0m               ^\u001b[0m\n\u001b[0;31mSyntaxError\u001b[0m\u001b[0;31m:\u001b[0m incomplete input\n"
     ]
    }
   ],
   "source": [
    "if a == 10:"
   ]
  },
  {
   "cell_type": "markdown",
   "id": "89bf9ce3-a5f4-4a34-baaa-87ab324f8f8f",
   "metadata": {},
   "source": [
    "O zaman ilk örneğimize dönersek, gerçekten de a = 10 olduğu için önerme doğrudur, yani if bloğumuz güzelce çalışır. Son olarak, neyin önerme olduğunu söylediğimiz gibi, neyin önerme olmadığını da belirtelim. Mesela:\n",
    "\n",
    "Bugün hava çok güzel.\n",
    "\n",
    "Bence en güzel şehir Erzincan’dır.\n",
    "\n",
    "Bu iki cümleyi inceleyelim. Bugün hava sana göre güzel olabilir ama bana göre olmayabilir. Ya da bir başkası en güzel şehrin İstanbul olduğunu düşünüyor olabilir. Yani bu cümlelerin doğruluğunu ya da yanlışlığını kesin olarak belirleyemeyiz. Demek ki bu iki örnekteki gibi öznel cümlelerden önerme olmaz.\n",
    "\n",
    "Bence önermeleri herkes anladı. Meraklısı için internet emrinize amade.\n",
    "\n"
   ]
  },
  {
   "cell_type": "markdown",
   "id": "4adfcb59-4ac7-4555-adc0-cfae352069c9",
   "metadata": {},
   "source": [
    "Mantiksal AND (ve) İşleci (&)\n",
    "\n",
    "Bu işleç her iki tarafındaki değişkenin bitleri üzerinde mantıksal and işlemi uygular. Aslında önceki bölümde gördüğünüz and işleci ile aynı işlemi karşılıklı bitler üzerinde yapar. Mesela buna bir örnek verelim.\n",
    "\n",
    "\n",
    "if (True and False):  # 1 = True, 0 = False\n",
    "\n",
    "Daha önceki örneklerimizde anlatıldığı üzere bu ifade False olacağından if bloğumuz çalışmayacaktır. Mantıksal And işlecimiz de aynı işlemi karşılıklı bitler üzerinde yapacak.\n",
    "\n",
    "1 & 1\n",
    "\n",
    "= 1\n",
    "\n",
    "1 & 0\n",
    "\n",
    "= 0\n",
    "\n",
    "0 & 1\n",
    "\n",
    "= 0\n",
    "\n",
    "0 & 0\n",
    "\n",
    "= 0\n",
    "\n",
    "Örnek üzerinden anlatmak bu tarz işleçlerin işlevini anlayabilmek için daha uygun olacaktır.\n",
    "\n",
    "\n",
    "a = 10          # 0000 1010 = 10\n",
    "b = 20          # 0001 0100 = 20\n",
    "\n",
    "print(a & b)    # 0000 0000 = 0\n",
    "\n",
    "0\n",
    "c = 10          # 0000 1010 = 10\n",
    "d = 22          # 0001 0110 = 22\n",
    "\n",
    "print(c & d)    # 0000 0010 = 2\n",
    "\n",
    "2"
   ]
  },
  {
   "cell_type": "markdown",
   "id": "18ab13fa-17e3-460a-9ded-13c828dbee6b",
   "metadata": {},
   "source": [
    "Örneklerde de gördüğünüz gibi mantıksal And işleci karşılıklı bitlerde işlem yapar. And işlemi ile karşılaştırılmış iki bitten biri bile 0 olsa; 0 sonucunu alırsınız. 1 sonucu alabilmek için her iki bitin de 1 olması gerek."
   ]
  },
  {
   "cell_type": "markdown",
   "id": "1dd02d59-9111-4f8e-8bfe-c02d951889f5",
   "metadata": {},
   "source": [
    "Mantıksal OR (veya) İşleci (|)\n",
    "\n",
    "Bu işleç, her iki tarafındaki değişkenin bitleri üzerinde mantıksal or (veya) işlemi yapar. Bu işleç, önceki bölümde gördüğünüz or işleci ile aynı işlemi karşılıklı bitler üzerinde yapar.\n",
    "\n",
    "if (True or False):  # 1 = True, 0 = False\n",
    "\n",
    "Bu örneğimizde parantez içi ifademiz True değerine eşit olacağından if bloğumuz çalışacaktır. Mantıksal or da aynı prensibe dayalıdır.\n",
    "\n",
    "1 | 1\n",
    "\n",
    "= 1\n",
    "\n",
    "1 | 0\n",
    "\n",
    "= 1\n",
    "\n",
    "0 | 1\n",
    "\n",
    "= 1\n",
    "\n",
    "0 | 0\n",
    "\n",
    "= 0\n",
    "\n",
    "Hemen güzide örneğimizi getirelim."
   ]
  },
  {
   "cell_type": "code",
   "execution_count": 120,
   "id": "4573acb9-ef83-44ac-aeb0-6957af4592a2",
   "metadata": {},
   "outputs": [
    {
     "name": "stdout",
     "output_type": "stream",
     "text": [
      "30\n"
     ]
    }
   ],
   "source": [
    "a = 10          # 0000 1010 = 10\n",
    "b = 20          # 0001 0100 = 20\n",
    "\n",
    "print(a | b)    # 0001 1110 = 30"
   ]
  },
  {
   "cell_type": "code",
   "execution_count": 121,
   "id": "082708e0-b74d-4b10-ac6d-d37ee52e28f7",
   "metadata": {},
   "outputs": [],
   "source": [
    "a = 10          # 0000 1010 = 10\n",
    "b = 22          # 0001 0110 = 22"
   ]
  },
  {
   "cell_type": "code",
   "execution_count": 122,
   "id": "01ed1757-b2bf-4f48-8604-5ffb0eaf95f3",
   "metadata": {},
   "outputs": [
    {
     "name": "stdout",
     "output_type": "stream",
     "text": [
      "30\n"
     ]
    }
   ],
   "source": [
    "print(a | b)    # 0001 1110 = 30"
   ]
  },
  {
   "cell_type": "markdown",
   "id": "e14f6a0c-6040-48c2-be8d-232c83b5ce27",
   "metadata": {},
   "source": [
    "Örneğimizi inceleyelim, alt alta bitlerde eğer sadece bir tane ‘1’ varsa, o bit karşılaştırma sonrasında 1’e eşit olur. Zaten yukarıdaki tablomuzda belirtilmiş. Eğer karşılaştırma sonucunun 0 olmasını istiyor isek her iki bitinde 0 değerini alması lazım.\n",
    "\n"
   ]
  },
  {
   "cell_type": "markdown",
   "id": "394b3d38-eedf-4f74-a5cc-d72aac4d03b8",
   "metadata": {},
   "source": [
    "Mantıksal XOR (ya da) İşleci (^)\n",
    "\n",
    "Bu işleçten önceki bütün işleçlerin adı sembolik mantıktaki karşılığı ile aynıydı ancak burada durum biraz farklı. Sembolik mantık derslerinde biz XOR işlecine ‘ya da’ deriz. Bu işleç de her iki tarafındaki değişkenin bitleri üzerinde ‘XOR’ işlemi yapar. Tabii bu derslerde “ya da”nın işlevini daha önce görmedik. O zaman “ya da”yı gösterelim\n",
    "\n",
    "1 ^ 1\n",
    "\n",
    "= 0\n",
    "\n",
    "1 ^ 0\n",
    "\n",
    "= 1\n",
    "\n",
    "0 ^ 1\n",
    "\n",
    "= 1\n",
    "\n",
    "0 ^ 0\n",
    "\n",
    "= 0\n",
    "\n",
    "XOR (ya da) ile bağlanan iki basit önermenin doğru olabilmesi için iki önermenin de değerinin birbirinden farklı olması gerekmektedir. Yani XOR (ya da) ile karşılaştırma işleminin 1 (doğru) olabilmesi için önermelerin birbirinden farklı doğruluk değerlerine sahip olması gerekmektedir. Tabloyu güzelce incelerseniz aklınıza kazınacaktır.\n",
    "\n",
    "Örneğimiz üzerinden de bir görelim isterseniz."
   ]
  },
  {
   "cell_type": "code",
   "execution_count": 123,
   "id": "f03a31cb-f60a-4f30-929d-d7d9d5aaee72",
   "metadata": {},
   "outputs": [
    {
     "name": "stdout",
     "output_type": "stream",
     "text": [
      "30\n"
     ]
    }
   ],
   "source": [
    "a = 10         # 0000 1010 = 10\n",
    "b = 20         # 0001 0100 = 20\n",
    "\n",
    "print(a^b)     # 0001 1110 = 30"
   ]
  },
  {
   "cell_type": "code",
   "execution_count": 124,
   "id": "dd3b8156-8bd0-4f13-b5e4-288565ce297b",
   "metadata": {},
   "outputs": [
    {
     "name": "stdout",
     "output_type": "stream",
     "text": [
      "28\n"
     ]
    }
   ],
   "source": [
    "a = 10         # 0000 1010 = 10\n",
    "b = 22         # 0001 0110 = 22\n",
    "\n",
    "print(a^b)     # 0001 1100 = 28"
   ]
  },
  {
   "cell_type": "markdown",
   "id": "45e83be1-b424-4112-ae8a-7705b8010570",
   "metadata": {},
   "source": [
    "Örnekte de görüldüğü gibi alt alta olan bitlerde eğer bit değeri aynı ise karşılaştırma sonrası o bitin değeri 0 olacaktır. Eğer bu durum gerçekleşmezse bitimizin değeri 1 olacaktır."
   ]
  },
  {
   "cell_type": "markdown",
   "id": "d70c0b89-3da0-4de2-8662-1ee33064a728",
   "metadata": {},
   "source": [
    "Tümleme (Invert) İşleci (~)\n",
    "\n",
    "Tümleme işleci diğer işleçlerden farklı olarak 2 değer arasında karşılaştırma yapmaz. Bu işlece sembolik mantıkta “Değil” denir. Bu işlecin görevi aldığı değeri tersine çevirmektir.\n",
    "\n",
    "~1\n",
    "\n",
    "= 0\n",
    "\n",
    "~0\n",
    "\n",
    "= 1\n",
    "\n",
    "Tablodan da anlaşılacağı gibi tümleme işleci aldığını tersine çevirip bize veriyor. Bu işlevin aynısını verdiğimiz değere de yapacak.\n",
    "\n",
    "Hemen bir örnek getirelim:"
   ]
  },
  {
   "cell_type": "code",
   "execution_count": 125,
   "id": "2a3be7e8-ddad-4350-9655-e71fc696cb3c",
   "metadata": {},
   "outputs": [
    {
     "name": "stdout",
     "output_type": "stream",
     "text": [
      "-2\n"
     ]
    }
   ],
   "source": [
    "a = 1             #  0000 0001 = 1\n",
    "\n",
    "print(~a)         #  1111 1110 = -2"
   ]
  },
  {
   "cell_type": "code",
   "execution_count": 126,
   "id": "b27f43f3-897c-4e34-af42-7f63792f363b",
   "metadata": {},
   "outputs": [
    {
     "name": "stdout",
     "output_type": "stream",
     "text": [
      "-20\n"
     ]
    }
   ],
   "source": [
    "b = 19            #  0001 0011 = 19\n",
    "\n",
    "print(~b)         #  1110 1100 = -20\n"
   ]
  },
  {
   "cell_type": "markdown",
   "id": "c53b8e7c-f581-49d7-a31a-c24171b8ffd1",
   "metadata": {},
   "source": [
    "Hay aksi sanki buradaki çıktılarda bir garipilik var değil mi? Evet var. Hemen açıklayalım. Şöyle ki bir bit dizisinde son bit karakterin (ya da sayının) işaretini temsil eder. Geçmiş örneklerimizde son bit hep 0 olduğu için sayımız pozitif değerdeydi. Bu örneğimizde ise ‘~’ işaretinin etkisiyle bu değerimiz 1 oldu yani negatif değerli tam sayıyı temsil etti. Ama iş burası ile de kalmıyor. Biz tümleme işlemi yaptığımız zaman aslında bitlerin değerini başka şekilde hesaplıyoruz. Bir kere 1 ile 0 değerlerinin işlevelemini değiştirmiş oluyoruz. Yani ikilinin katlarını artık 0’a göre yazıyoruz. Bu değerleri en sonunda toplayıp -1’den çıkarıyoruz. İşte böylece tümleme işlemimiz sonucu çıkan bitin değerini hesaplayabiliriz. Ama bu kısım o kadar da önemli değil sadece formüle etmek de yeter.\n",
    "\n",
    "n - (2n + 1)\n",
    "\n",
    "İşte size tümleme işleminin sonucunu gösteren güzide formül.\n",
    "\n"
   ]
  },
  {
   "cell_type": "markdown",
   "id": "ed380fe7-f4fc-4d61-85a9-8e3f0b434481",
   "metadata": {},
   "source": [
    "Shifting (kaydırma) İşleçleri (`>>` `<<`)\n",
    "\n",
    "Kaydırma işleçlerinin sembolik mantıkta bir karşılığı yoktur. Bunlar tamamen programlamaya özgüdür. Bu işleçler için bir tabloya da ihtiyaç duymayacağız. Hemen bir örnek verelim ve açıklamasını yapalım."
   ]
  },
  {
   "cell_type": "code",
   "execution_count": 128,
   "id": "eaf2fef4-9b24-4d89-ab1b-183174983733",
   "metadata": {},
   "outputs": [
    {
     "name": "stdout",
     "output_type": "stream",
     "text": [
      "8\n"
     ]
    }
   ],
   "source": [
    "a = 64              # 0100 0000 = 64\n",
    "\n",
    "print(a >> 3)       # 0000 1000 = 8"
   ]
  },
  {
   "cell_type": "code",
   "execution_count": 129,
   "id": "ab159e1b-bf2b-469d-acf8-b67949eae980",
   "metadata": {},
   "outputs": [
    {
     "name": "stdout",
     "output_type": "stream",
     "text": [
      "64\n"
     ]
    }
   ],
   "source": [
    "b = 16              # 0001 0000 = 16\n",
    "\n",
    "print(b << 2)       # 0100 0000 = 64"
   ]
  },
  {
   "cell_type": "markdown",
   "id": "0bbe923e-d3cd-4ac9-a14d-9e68f12f03e2",
   "metadata": {},
   "source": [
    "Zaten az çok örneklerden ne olduğu ortaya çıkıyor. Okların solundaki sayının bitlerini okların sağındaki sayı kadar okların yönünde kaydırıyoruz. Ancak bu işleçte bazı püf noktalarımız var, onu hemen gösterelim."
   ]
  },
  {
   "cell_type": "code",
   "execution_count": 130,
   "id": "cb44e037-8e02-4f50-b43f-67bc95bb36f9",
   "metadata": {},
   "outputs": [
    {
     "name": "stdout",
     "output_type": "stream",
     "text": [
      "128\n"
     ]
    }
   ],
   "source": [
    "a = 64\n",
    "\n",
    "print(a << 1)       # ... 1000 0000 = 128"
   ]
  },
  {
   "cell_type": "markdown",
   "id": "2b37175c-30ac-4aad-a2de-86a24bc8b21f",
   "metadata": {},
   "source": [
    "Evet, burada önceki işleçte gösterdiğimiz negatif-pozitif olayını yaşamadık. Peki neden? Şu ana kadar ki örneklerimizde hep 8 bit üzerinden örnekler yaptık ancak Python’da bu genellikle böyle olmuyor. Bunu şöyle kontrol edebiliriz."
   ]
  },
  {
   "cell_type": "code",
   "execution_count": 131,
   "id": "7f34bf5d-da9e-41c1-aab5-07502c718d0d",
   "metadata": {},
   "outputs": [
    {
     "data": {
      "text/plain": [
       "28"
      ]
     },
     "execution_count": 131,
     "metadata": {},
     "output_type": "execute_result"
    }
   ],
   "source": [
    "import sys\n",
    "\n",
    "a = 1\n",
    "sys.getsizeof(a)    # 28"
   ]
  },
  {
   "cell_type": "markdown",
   "id": "27e8e75d-67dc-45fa-ab00-527194f3db1f",
   "metadata": {},
   "source": [
    "Yukarıdaki kodda anlamadığınız yerler varsa takılmayın. Sadece şunu bilmeniz yeterli. Bu kod parçası size elinizdeki değişkenin boyutunu söyler. Gördüğünüz gibi ‘a’ değişkenin boyutu 28miş. Demek ki bu değişken 28 bitten oluşuyormuş. Peki şöyle birşey yapsaydık."
   ]
  },
  {
   "cell_type": "code",
   "execution_count": 132,
   "id": "7109a26b-3d4a-41df-80c9-943928879e0e",
   "metadata": {},
   "outputs": [
    {
     "data": {
      "text/plain": [
       "32"
      ]
     },
     "execution_count": 132,
     "metadata": {},
     "output_type": "execute_result"
    }
   ],
   "source": [
    "import sys\n",
    "\n",
    "a = 1\n",
    "a <<= 30\n",
    "\n",
    "sys.getsizeof(a)    # 32"
   ]
  },
  {
   "cell_type": "markdown",
   "id": "43760856-1a1b-435c-90fb-9dab68a05b04",
   "metadata": {},
   "source": [
    "Gördüğünüz gibi değişkenimiz boyut değişikliğine uğradı. Yani bit kaydırma işleminde sola giderken değişkenimizin gidebileceği başka yeri kalmayınca boyutunu değiştirebiliyor. Ancak bunu tümeleme işleminde yapmıyor çünkü tümeleme işleminin amacına uygun değil. Bir başka püf nokta ise şöyle:\n",
    "\n",
    "Değer atama işleçleri bölümünde gördüğünüz “+=”, “-=” gibi ifadeleri bitsel işleçler ile de kullanabilirsiniz. (Yukarıda gördüğünüz gibi)"
   ]
  },
  {
   "cell_type": "code",
   "execution_count": 133,
   "id": "9a841e50-24f9-4df1-80c4-d4a1f9e66b90",
   "metadata": {},
   "outputs": [
    {
     "name": "stdout",
     "output_type": "stream",
     "text": [
      "1\n"
     ]
    }
   ],
   "source": [
    "a = 15      # 0000 1111 = 15\n",
    "\n",
    "print(a >> 3)   # 0000 0001 = 1\n"
   ]
  },
  {
   "cell_type": "markdown",
   "id": "21748d81-ebec-43e9-b63f-d3ce0cf3a4a4",
   "metadata": {},
   "source": [
    "Gördüğünüz gibi bit kaydırma işleminde eğer sağda yer yoksa o değer atılır. Çünkü bitlerde değer artırımı sol tarafa ekleme yaparak olur ki zaten mantıklısı da bu.\n",
    "\n"
   ]
  },
  {
   "cell_type": "markdown",
   "id": "5d67ef75-5af0-4b6d-aa37-264ed12e6d12",
   "metadata": {},
   "source": [
    "Bu kısım eğer programlamaya yeni başlıyorsanız biraz zor gelebilir. Anlayamadığınız kısım olursa telaşlanmayın ve ilerlemeye devam edin. Biraz daha temelinizi sağlamlaştırınca tekrar buraya dönebilirsiniz. Emin olun, o zaman her şey daha güzelce oturur."
   ]
  },
  {
   "cell_type": "markdown",
   "id": "3308c067-a544-40f3-a00d-a0150d075631",
   "metadata": {},
   "source": [
    "Bitsel İşleçleri Kullanmanın Avantajları ve Dezavantajları\n",
    "\n",
    "Şimdi bitsel işleçlerimizin avantajlarını ve dezavantajlarını görelim.\n",
    "\n",
    "Avantajlar:\n",
    "\n",
    "Performans: Bitsel işlemler genellikle daha hızlıdır çünkü bilgisayarlar üzerinde doğrudan donanım seviyesinde gerçekleştirilirler. Özellikle büyük veri setleri üzerinde çalışırken performansı artırabilirler.\n",
    "\n",
    "Bellek Kullanımı: Bitsel işlemler genellikle daha az bellek kullanır. Bu, özellikle çok büyük veri yapıları üzerinde işlem yaparken bellek kullanımını azaltmaya yardımcı olabilir.\n",
    "\n",
    "Dezavantajlar:\n",
    "\n",
    "Okunabilirlik: Bitsel işlemler, genellikle kodun okunabilirliğini azaltabilir. Bit seviyesinde yapılan işlemler, kodun ne yaptığını anlamak için daha fazla çaba gerektirebilir.\n",
    "\n",
    "Hata Yapma Olasılığı: Bitsel işlemlerle çalışırken, yanlış operatörler veya yanlış bit işlemleri yapma olasılığı daha yüksektir. Bu, hataların bulunması ve düzeltilmesi için daha fazla zaman harcanmasına neden olabilir.\n",
    "\n",
    "Asıl dezavantajı görünür kılmak için buraya koydum. Bitwise ile yapılan işlemler Python dilinin amacına uygun değildir. Python yazılım dilinin amacı kullanıcı kolaylığıdır. Pythonda performans ve bellek kullanımı çok önemsenmez. Eğer böyle ihtiyaçlarınız varsa başka dillerle ilgilenmeniz daha doğru olacaktır. Ama bu söylediklerimden “Şimdi ben bu bölümü boşuna mı okudum?” diye bir sonuç çıkarmayın. Burada gösterdiğimiz şeyler neredeyse bütün programlama dillerinde mevcut. Ayrıca yaptığınız bütün işlemler dayanağını bu işleçlerden alıyor. Bu kısma özellikle dikkat etmenizi rica ediyorum. Emin olun bu yolculukta öğrendiğiniz hiçbir şey boşuna olmayacak."
   ]
  },
  {
   "cell_type": "markdown",
   "id": "b9b6f05b-d10a-44f2-9268-1eb86246c694",
   "metadata": {},
   "source": [
    "Aitlik İşleçleri\n",
    "Aitlik işleçleri, bir karakter dizisi ya da sayının, herhangi bir veri tipi içinde bulunup bulunmadığını sorgulamamızı sağlayan işleçlerdir.\n",
    "\n",
    "Python’da bir tane aitlik işleci bulunur. Bu işleç de in işlecidir. Bu işleci şöyle kullanıyoruz:\n",
    "\n"
   ]
  },
  {
   "cell_type": "code",
   "execution_count": 135,
   "id": "d69495fe-addc-41e5-ae2a-f00fc4323462",
   "metadata": {},
   "outputs": [
    {
     "data": {
      "text/plain": [
       "True"
      ]
     },
     "execution_count": 135,
     "metadata": {},
     "output_type": "execute_result"
    }
   ],
   "source": [
    "a = \"abcd\"\n",
    "\"a\" in a"
   ]
  },
  {
   "cell_type": "code",
   "execution_count": 136,
   "id": "4702dfca-b4b6-4cb3-a7e7-b7705ab2af27",
   "metadata": {},
   "outputs": [
    {
     "data": {
      "text/plain": [
       "False"
      ]
     },
     "execution_count": 136,
     "metadata": {},
     "output_type": "execute_result"
    }
   ],
   "source": [
    "\"f\" in a"
   ]
  },
  {
   "cell_type": "markdown",
   "id": "e70d427c-9357-4820-9420-2e0eb66aa295",
   "metadata": {},
   "source": [
    "Gördüğünüz gibi, in adlı bu işleç, bir öğenin, veri tipi içinde bulunup bulunmadığını sorguluyor. Eğer bahsedilen öğe, veri tipi içinde geçiyorsa True çıktısı, eğer geçmiyorsa False çıktısı alıyoruz.\n",
    "\n",
    "Henüz bu in işlecini verimli bir şekilde kullanmamızı sağlayacak araçlardan yoksunuz. Ancak birkaç sayfa sonra öğreneceğimiz yeni araçlarla birlikte bu işleci çok daha düzgün ve verimli bir şekilde kullanabilecek duruma geleceğiz.\n",
    "\n"
   ]
  },
  {
   "cell_type": "markdown",
   "id": "08e3d3ae-f23b-4c2f-8abd-90651c4e546f",
   "metadata": {},
   "source": [
    "Kimlik İşleçleri\n",
    "Python’da her şeyin (ya da başka bir deyişle her nesnenin) bir kimlik numarası (identity) vardır. Kabaca söylemek gerekirse, bu kimlik numarası denen şey esasında o nesnenin bellekteki adresini gösterir.\n",
    "\n",
    "Peki bir nesnenin kimlik numarasına nasıl ulaşırız?\n",
    "\n",
    "Python’da bu işi yapmamızı sağlayacak id() adlı bir fonksiyon bulunur (İngilizcedeki identity (kimlik) kelimesinin kısaltması). Şimdi bir örnek üzerinde bu id() fonksiyonunu nasıl kullanacağımıza bakalım:\n",
    "\n"
   ]
  },
  {
   "cell_type": "code",
   "execution_count": 140,
   "id": "fb586ba7-3a73-4b2b-91e8-49ac4b1d4e91",
   "metadata": {},
   "outputs": [
    {
     "data": {
      "text/plain": [
       "130392047750480"
      ]
     },
     "execution_count": 140,
     "metadata": {},
     "output_type": "execute_result"
    }
   ],
   "source": [
    "a = 100\n",
    "id(a)"
   ]
  },
  {
   "cell_type": "markdown",
   "id": "9efc1e9f-7b01-40f1-8aee-b81a6d9d268c",
   "metadata": {},
   "source": [
    "Çıktıda gördüğümüz 137990748 sayısı a değişkeninin tuttuğu 100 sayısının kimlik numarasını gösteriyor.\n",
    "\n",
    "Bir de şu örneklere bakalım:"
   ]
  },
  {
   "cell_type": "code",
   "execution_count": 138,
   "id": "26d35b1e-1efc-4958-ad54-282e1a8f5690",
   "metadata": {},
   "outputs": [
    {
     "data": {
      "text/plain": [
       "130392047748880"
      ]
     },
     "execution_count": 138,
     "metadata": {},
     "output_type": "execute_result"
    }
   ],
   "source": [
    "a = 50\n",
    "id(a)"
   ]
  },
  {
   "cell_type": "code",
   "execution_count": 141,
   "id": "9f04782e-c284-43bf-9885-20c1ae7a7547",
   "metadata": {},
   "outputs": [
    {
     "data": {
      "text/plain": [
       "130391923911024"
      ]
     },
     "execution_count": 141,
     "metadata": {},
     "output_type": "execute_result"
    }
   ],
   "source": [
    "kardiz = \"Elveda Zalim Dünya!\"\n",
    "id(kardiz)"
   ]
  },
  {
   "cell_type": "markdown",
   "id": "193866a4-ef9d-4d96-9796-6057915e04bd",
   "metadata": {},
   "source": [
    "Gördüğünüz gibi, Python’daki her nesnenin kimliği eşşiz, tek ve benzersizdir.\n",
    "\n",
    "Yukarıda verdiğimiz ilk örnekte bir a değişkeni tanımlayıp bunun değerini 100 olarak belirlemiş ve id(a) komutuyla da bu nesnenin kimlik numarasına ulaşmıştık. Yani:"
   ]
  },
  {
   "cell_type": "code",
   "execution_count": 142,
   "id": "2cc6b691-bb7a-450d-9547-07422e9e7af0",
   "metadata": {},
   "outputs": [
    {
     "data": {
      "text/plain": [
       "130392047750480"
      ]
     },
     "execution_count": 142,
     "metadata": {},
     "output_type": "execute_result"
    }
   ],
   "source": [
    "a = 100\n",
    "id(a)"
   ]
  },
  {
   "cell_type": "markdown",
   "id": "e1c9504b-7177-4e87-8196-119b2befb4c7",
   "metadata": {},
   "source": [
    "Bir de şu örneğe bakalım:"
   ]
  },
  {
   "cell_type": "code",
   "execution_count": 143,
   "id": "1d15552f-871e-4a56-89c1-33e78ecade71",
   "metadata": {},
   "outputs": [
    {
     "data": {
      "text/plain": [
       "130392047750480"
      ]
     },
     "execution_count": 143,
     "metadata": {},
     "output_type": "execute_result"
    }
   ],
   "source": [
    "b = 100\n",
    "id(b)"
   ]
  },
  {
   "cell_type": "markdown",
   "id": "f4d76a48-ecf2-4008-a3ef-c171f5103503",
   "metadata": {},
   "source": [
    "Gördüğünüz gibi, Python a ve b değişkenlerinin değeri için aynı kimlik numarasını gösterdi. Bu demek oluyor ki, Python iki adet 100 sayısı için bellekte iki farklı nesne oluşturmuyor. İlk kullanımda önbelleğine aldığı sayıyı, ikinci kez ihtiyaç olduğunda bellekten alıp kullanıyor. Bu tür bir önbellekleme mekanizmasının gerekçesi performansı artırmaktır.\n",
    "\n",
    "Ama bir de şu örneklere bakalım:\n",
    "\n"
   ]
  },
  {
   "cell_type": "code",
   "execution_count": 144,
   "id": "79df3f11-6ab0-42a7-98b1-0d92eceb5435",
   "metadata": {},
   "outputs": [
    {
     "data": {
      "text/plain": [
       "130391925013584"
      ]
     },
     "execution_count": 144,
     "metadata": {},
     "output_type": "execute_result"
    }
   ],
   "source": [
    "a = 1000\n",
    "id(a)"
   ]
  },
  {
   "cell_type": "code",
   "execution_count": 145,
   "id": "0506da4e-11e1-44a7-a028-7fe16244c010",
   "metadata": {},
   "outputs": [
    {
     "data": {
      "text/plain": [
       "130391925013392"
      ]
     },
     "execution_count": 145,
     "metadata": {},
     "output_type": "execute_result"
    }
   ],
   "source": [
    "b = 1000\n",
    "id(b)\n"
   ]
  },
  {
   "cell_type": "code",
   "execution_count": 146,
   "id": "fdf8c8a6-ed9c-4bca-8586-3ec7bf2555ba",
   "metadata": {},
   "outputs": [
    {
     "data": {
      "text/plain": [
       "130391925010032"
      ]
     },
     "execution_count": 146,
     "metadata": {},
     "output_type": "execute_result"
    }
   ],
   "source": [
    "id(1000)"
   ]
  },
  {
   "cell_type": "markdown",
   "id": "8dbbb08d-d72c-46ad-9977-b4c6dd112673",
   "metadata": {},
   "source": [
    "Bu defa Python a değişkeninin tuttuğu 1000 sayısı, b değişkeninin tuttuğu 1000 sayısı ve tek başına yazdığımız 1000 sayısı için farklı kimlik numaraları gösterdi. Bu demek oluyor ki, Python a değişkeninin tuttuğu 1000 sayısı için, b değişkeninin tuttuğu 1000 sayısı için ve doğrudan girdiğimiz 1000 sayısı için bellekte üç farklı nesne oluşturuyor. Yani bu üç adet 1000 sayısı Python açısından birbirinden farklı…\n",
    "\n",
    "Yukarıdaki durumu görebileceğimiz başka bir yöntem de Python’daki is adlı kimlik işlecini kullanmaktır. Deneyelim:"
   ]
  },
  {
   "cell_type": "code",
   "execution_count": 147,
   "id": "2ccd5614-9acb-4ce5-8c73-3e12bd6b1d4a",
   "metadata": {},
   "outputs": [
    {
     "name": "stderr",
     "output_type": "stream",
     "text": [
      "<>:1: SyntaxWarning: \"is\" with a literal. Did you mean \"==\"?\n",
      "<>:1: SyntaxWarning: \"is\" with a literal. Did you mean \"==\"?\n",
      "/tmp/ipykernel_18710/3643870781.py:1: SyntaxWarning: \"is\" with a literal. Did you mean \"==\"?\n",
      "  a is 1000\n"
     ]
    },
    {
     "data": {
      "text/plain": [
       "False"
      ]
     },
     "execution_count": 147,
     "metadata": {},
     "output_type": "execute_result"
    }
   ],
   "source": [
    "a is 1000  #false"
   ]
  },
  {
   "cell_type": "code",
   "execution_count": 148,
   "id": "19ec40a5-e77a-4db1-9838-22d8c45a24b3",
   "metadata": {},
   "outputs": [
    {
     "name": "stderr",
     "output_type": "stream",
     "text": [
      "<>:1: SyntaxWarning: \"is\" with a literal. Did you mean \"==\"?\n",
      "<>:1: SyntaxWarning: \"is\" with a literal. Did you mean \"==\"?\n",
      "/tmp/ipykernel_18710/2739510503.py:1: SyntaxWarning: \"is\" with a literal. Did you mean \"==\"?\n",
      "  b is 1000\n"
     ]
    },
    {
     "data": {
      "text/plain": [
       "False"
      ]
     },
     "execution_count": 148,
     "metadata": {},
     "output_type": "execute_result"
    }
   ],
   "source": [
    "b is 1000 #true"
   ]
  },
  {
   "cell_type": "markdown",
   "id": "4bf43558-40cf-4018-abd4-a6854559097d",
   "metadata": {},
   "source": [
    "Gördüğünüz gibi, Python False (Yanlış) çıktısını suratımıza bir tokat gibi çarptı… Peki bu ne anlama geliyor?\n",
    "\n",
    "Bu şu anlama geliyor: Demek ki görünüşte aynı olan iki nesne aslında birbirinin aynı olmayabiliyor. Bunun neden bu kadar önemli olduğunu ilerleyen derslerde çok daha iyi anlayacağız.\n",
    "\n",
    "Yukarıdaki durumun bir başka yansıması daha vardır. Özellikle Python’a yeni başlayıp da bu dilde yer alan is işlecini öğrenenler, bu işlecin == işleciyle aynı işleve sahip olduğu yanılgısına kapılabiliyor ve is işlecini kullanarak iki nesne arasında karşılaştırma işlemi yapmaya kalkışabiliyor.\n",
    "\n",
    "Ancak Python’da is işlecini kullanarak iki nesne arasında karşılaştırma yapmak güvenli değildir. Yani is ve == işleçleri birbirleriyle aynı işlevi görmez. Bu iki işleç nesnelerin farklı yönlerini sorgular: is işleci nesnelerin kimliklerine bakıp o nesnelerin aynı nesneler olup olmadığını kontrol ederken, == işleci nesnelerin içeriğine bakarak o nesnelerin aynı değere sahip olup olmadıklarını sorgular. Bu iki tanım arasındaki ince farka dikkat edin.\n",
    "\n",
    "Yani:\n",
    "\n"
   ]
  },
  {
   "cell_type": "code",
   "execution_count": 149,
   "id": "40103dc0-b957-439d-969a-03f88bdd494e",
   "metadata": {},
   "outputs": [
    {
     "name": "stderr",
     "output_type": "stream",
     "text": [
      "<>:1: SyntaxWarning: \"is\" with a literal. Did you mean \"==\"?\n",
      "<>:1: SyntaxWarning: \"is\" with a literal. Did you mean \"==\"?\n",
      "/tmp/ipykernel_18710/3643870781.py:1: SyntaxWarning: \"is\" with a literal. Did you mean \"==\"?\n",
      "  a is 1000\n"
     ]
    },
    {
     "data": {
      "text/plain": [
       "False"
      ]
     },
     "execution_count": 149,
     "metadata": {},
     "output_type": "execute_result"
    }
   ],
   "source": [
    "a is 1000 #false"
   ]
  },
  {
   "cell_type": "markdown",
   "id": "49bb396c-cb49-43b3-a2bf-e928675081f3",
   "metadata": {},
   "source": [
    "Ama:"
   ]
  },
  {
   "cell_type": "code",
   "execution_count": 150,
   "id": "28024604-43b4-41e1-9ef2-1e0c4141a4c8",
   "metadata": {},
   "outputs": [
    {
     "data": {
      "text/plain": [
       "True"
      ]
     },
     "execution_count": 150,
     "metadata": {},
     "output_type": "execute_result"
    }
   ],
   "source": [
    "a==1000"
   ]
  },
  {
   "cell_type": "markdown",
   "id": "1ca47aa3-7dbd-4ebc-80dd-28a9990de409",
   "metadata": {},
   "source": [
    "Burada is işleci a değişkeninin tuttuğu veri ile 1000 sayısının aynı kimlik numarasına sahip olup olmadığını sorgularken, == işleci a değişkeninin tuttuğu verinin 1000 olup olmadığını denetliyor. Yani is işlecinin yaptığı şey kabaca şu oluyor:"
   ]
  },
  {
   "cell_type": "code",
   "execution_count": 151,
   "id": "e5bfe5fb-5ab8-481e-b7ca-3b1e03ee55f1",
   "metadata": {},
   "outputs": [
    {
     "data": {
      "text/plain": [
       "False"
      ]
     },
     "execution_count": 151,
     "metadata": {},
     "output_type": "execute_result"
    }
   ],
   "source": [
    "id(a) == id(1000)"
   ]
  },
  {
   "cell_type": "markdown",
   "id": "79f98564-7641-4516-a206-42dec4a2a5c9",
   "metadata": {},
   "source": [
    "Şimdiye kadar denediğimiz örnekler hep sayıydı. Şimdi isterseniz bir de karakter dizilerinin durumuna bakalım:\n",
    "\n"
   ]
  },
  {
   "cell_type": "code",
   "execution_count": 152,
   "id": "13c0c0c1-47f2-4763-8375-fc85c93cf767",
   "metadata": {},
   "outputs": [
    {
     "name": "stderr",
     "output_type": "stream",
     "text": [
      "<>:2: SyntaxWarning: \"is\" with a literal. Did you mean \"==\"?\n",
      "<>:2: SyntaxWarning: \"is\" with a literal. Did you mean \"==\"?\n",
      "/tmp/ipykernel_18710/2844909164.py:2: SyntaxWarning: \"is\" with a literal. Did you mean \"==\"?\n",
      "  a is \"python\"\n"
     ]
    },
    {
     "data": {
      "text/plain": [
       "True"
      ]
     },
     "execution_count": 152,
     "metadata": {},
     "output_type": "execute_result"
    }
   ],
   "source": [
    "a = \"python\"\n",
    "a is \"python\" #true"
   ]
  },
  {
   "cell_type": "markdown",
   "id": "64fc48c4-cc7c-4e7c-a3c3-dd3a11df628e",
   "metadata": {},
   "source": [
    "Burada True çıktısını aldık. Bir de == işleci ile bir karşılaştırma yapalım:"
   ]
  },
  {
   "cell_type": "code",
   "execution_count": 153,
   "id": "5d81c313-59d7-4d29-a512-36955294b595",
   "metadata": {},
   "outputs": [
    {
     "data": {
      "text/plain": [
       "True"
      ]
     },
     "execution_count": 153,
     "metadata": {},
     "output_type": "execute_result"
    }
   ],
   "source": [
    "a==\"python\""
   ]
  },
  {
   "cell_type": "markdown",
   "id": "73fbbcfe-48b0-4785-a4de-d9225646d1c4",
   "metadata": {},
   "source": [
    "Bu da normal olarak True çıktısı veriyor. Ama şu örneğe bakarsak:"
   ]
  },
  {
   "cell_type": "code",
   "execution_count": 154,
   "id": "7710aaba-c33a-42e4-9618-18bd50c85051",
   "metadata": {},
   "outputs": [
    {
     "name": "stderr",
     "output_type": "stream",
     "text": [
      "<>:2: SyntaxWarning: \"is\" with a literal. Did you mean \"==\"?\n",
      "<>:2: SyntaxWarning: \"is\" with a literal. Did you mean \"==\"?\n",
      "/tmp/ipykernel_18710/2242502483.py:2: SyntaxWarning: \"is\" with a literal. Did you mean \"==\"?\n",
      "  a is \"python güçlü ve kolay bir programlama dilidir\"\n"
     ]
    },
    {
     "data": {
      "text/plain": [
       "False"
      ]
     },
     "execution_count": 154,
     "metadata": {},
     "output_type": "execute_result"
    }
   ],
   "source": [
    "a = \"python güçlü ve kolay bir programlama dilidir\"\n",
    "a is \"python güçlü ve kolay bir programlama dilidir\"\n",
    "#false"
   ]
  },
  {
   "cell_type": "markdown",
   "id": "3e7863c8-5a39-4ff0-8e4e-c2fecb4ec39e",
   "metadata": {},
   "source": [
    "Ama:"
   ]
  },
  {
   "cell_type": "code",
   "execution_count": 155,
   "id": "5506e2b0-b759-4ce0-8294-60e5c30b4191",
   "metadata": {},
   "outputs": [
    {
     "data": {
      "text/plain": [
       "True"
      ]
     },
     "execution_count": 155,
     "metadata": {},
     "output_type": "execute_result"
    }
   ],
   "source": [
    "a == \"python güçlü ve kolay bir programlama dilidir\""
   ]
  },
  {
   "cell_type": "markdown",
   "id": "2e90a241-b9a7-4cd0-819c-ffe2903bd242",
   "metadata": {},
   "source": [
    "is ve == işleçlerinin nasıl da farklı sonuçlar verdiğini görüyorsunuz. Çünkü bunlardan biri nesnelerin kimliğini sorgularken, öbürü nesnelerin içeriğini sorguluyor. Ayrıca burada dikkatimizi çekmesi gereken başka bir nokta da “python” karakter dizisinin önbelleğe alınıp gerektiğinde tekrar tekrar kullanılıyorken, “python güçlü ve kolay bir programlama dilidir” karakter dizisinin ise önbelleğe alınmıyor olmasıdır. Aynı karakter dizisinin tekrar kullanılması gerektiğinde Python bunun için bellekte yeni bir nesne daha oluşturuyor.\n",
    "\n",
    "Peki neden Python, örneğin, 100 sayısını ve “python” karakter dizisini önbelleklerken 1000 sayısını ve “python güçlü ve kolay bir programlama dilidir” karakter dizisini önbelleğe almıyor. Sebebi şu: Python kendi iç mekanizmasının işleyişi gereğince ‘ufak’ nesneleri önbelleğe alırken ‘büyük’ nesneler için her defasında yeni bir depolama işlemi yapıyor. Peki ufak ve büyük kavramlarının ölçütü nedir? İsterseniz Python açısından ufak kavramının sınırının ne olabileceğini şöyle bir kod yardımıyla sorgulayabiliriz:"
   ]
  },
  {
   "cell_type": "code",
   "execution_count": 156,
   "id": "9f11bb4e-f15d-4788-8f33-3a9c7639fbc4",
   "metadata": {},
   "outputs": [
    {
     "name": "stdout",
     "output_type": "stream",
     "text": [
      "-5\n",
      "-4\n",
      "-3\n",
      "-2\n",
      "-1\n",
      "0\n",
      "1\n",
      "2\n",
      "3\n",
      "4\n",
      "5\n",
      "6\n",
      "7\n",
      "8\n",
      "9\n",
      "10\n",
      "11\n",
      "12\n",
      "13\n",
      "14\n",
      "15\n",
      "16\n",
      "17\n",
      "18\n",
      "19\n",
      "20\n",
      "21\n",
      "22\n",
      "23\n",
      "24\n",
      "25\n",
      "26\n",
      "27\n",
      "28\n",
      "29\n",
      "30\n",
      "31\n",
      "32\n",
      "33\n",
      "34\n",
      "35\n",
      "36\n",
      "37\n",
      "38\n",
      "39\n",
      "40\n",
      "41\n",
      "42\n",
      "43\n",
      "44\n",
      "45\n",
      "46\n",
      "47\n",
      "48\n",
      "49\n",
      "50\n",
      "51\n",
      "52\n",
      "53\n",
      "54\n",
      "55\n",
      "56\n",
      "57\n",
      "58\n",
      "59\n",
      "60\n",
      "61\n",
      "62\n",
      "63\n",
      "64\n",
      "65\n",
      "66\n",
      "67\n",
      "68\n",
      "69\n",
      "70\n",
      "71\n",
      "72\n",
      "73\n",
      "74\n",
      "75\n",
      "76\n",
      "77\n",
      "78\n",
      "79\n",
      "80\n",
      "81\n",
      "82\n",
      "83\n",
      "84\n",
      "85\n",
      "86\n",
      "87\n",
      "88\n",
      "89\n",
      "90\n",
      "91\n",
      "92\n",
      "93\n",
      "94\n",
      "95\n",
      "96\n",
      "97\n",
      "98\n",
      "99\n",
      "100\n",
      "101\n",
      "102\n",
      "103\n",
      "104\n",
      "105\n",
      "106\n",
      "107\n",
      "108\n",
      "109\n",
      "110\n",
      "111\n",
      "112\n",
      "113\n",
      "114\n",
      "115\n",
      "116\n",
      "117\n",
      "118\n",
      "119\n",
      "120\n",
      "121\n",
      "122\n",
      "123\n",
      "124\n",
      "125\n",
      "126\n",
      "127\n",
      "128\n",
      "129\n",
      "130\n",
      "131\n",
      "132\n",
      "133\n",
      "134\n",
      "135\n",
      "136\n",
      "137\n",
      "138\n",
      "139\n",
      "140\n",
      "141\n",
      "142\n",
      "143\n",
      "144\n",
      "145\n",
      "146\n",
      "147\n",
      "148\n",
      "149\n",
      "150\n",
      "151\n",
      "152\n",
      "153\n",
      "154\n",
      "155\n",
      "156\n",
      "157\n",
      "158\n",
      "159\n",
      "160\n",
      "161\n",
      "162\n",
      "163\n",
      "164\n",
      "165\n",
      "166\n",
      "167\n",
      "168\n",
      "169\n",
      "170\n",
      "171\n",
      "172\n",
      "173\n",
      "174\n",
      "175\n",
      "176\n",
      "177\n",
      "178\n",
      "179\n",
      "180\n",
      "181\n",
      "182\n",
      "183\n",
      "184\n",
      "185\n",
      "186\n",
      "187\n",
      "188\n",
      "189\n",
      "190\n",
      "191\n",
      "192\n",
      "193\n",
      "194\n",
      "195\n",
      "196\n",
      "197\n",
      "198\n",
      "199\n",
      "200\n",
      "201\n",
      "202\n",
      "203\n",
      "204\n",
      "205\n",
      "206\n",
      "207\n",
      "208\n",
      "209\n",
      "210\n",
      "211\n",
      "212\n",
      "213\n",
      "214\n",
      "215\n",
      "216\n",
      "217\n",
      "218\n",
      "219\n",
      "220\n",
      "221\n",
      "222\n",
      "223\n",
      "224\n",
      "225\n",
      "226\n",
      "227\n",
      "228\n",
      "229\n",
      "230\n",
      "231\n",
      "232\n",
      "233\n",
      "234\n",
      "235\n",
      "236\n",
      "237\n",
      "238\n",
      "239\n",
      "240\n",
      "241\n",
      "242\n",
      "243\n",
      "244\n",
      "245\n",
      "246\n",
      "247\n",
      "248\n",
      "249\n",
      "250\n",
      "251\n",
      "252\n",
      "253\n",
      "254\n",
      "255\n",
      "256\n"
     ]
    }
   ],
   "source": [
    "for k in range(-1000, 1000):\n",
    "    for v in range(-1000, 1000):\n",
    "        if k is v:\n",
    "            print(k)"
   ]
  },
  {
   "cell_type": "markdown",
   "id": "4fea94a6-02ac-4c79-8bbd-3a4d81b30f89",
   "metadata": {},
   "source": [
    "Burada henüz öğrenmediğimiz şeyler var. Bunları birkaç bölüm sonra ayrıntılı bir şekilde inceleyeceğiz."
   ]
  },
  {
   "cell_type": "markdown",
   "id": "5b9a96dd-350d-4d10-ae87-6fbba737e6eb",
   "metadata": {},
   "source": [
    "Bu kod -1000 ve 1000 aralığındaki iki sayı grubunu karşılaştırıp, kimlikleri aynı olan sayıları ekrana döküyor. Yani bir bakıma Python’un hangi sayıya kadar önbellekleme yaptığını gösteriyor. Buna göre -5 ile 257 arasında kalan sayılar Python tarafından ufak olarak değerlendiriliyor ve önbelleğe alınıyor. Bu aralığın dışında kalan sayılar için ise bellekte her defasında ayrı bir nesne oluşturuluyor."
   ]
  },
  {
   "cell_type": "markdown",
   "id": "2bc1c821-39b8-49a9-9e62-f3f3d3e8d5d4",
   "metadata": {},
   "source": [
    "Burada aldığımız sonuca göre şöyle bir denetleme işlemi yapalım:"
   ]
  },
  {
   "cell_type": "code",
   "execution_count": 157,
   "id": "5890813d-1951-459c-bfc3-6669cc9c8421",
   "metadata": {},
   "outputs": [
    {
     "name": "stderr",
     "output_type": "stream",
     "text": [
      "<>:2: SyntaxWarning: \"is\" with a literal. Did you mean \"==\"?\n",
      "<>:2: SyntaxWarning: \"is\" with a literal. Did you mean \"==\"?\n",
      "/tmp/ipykernel_18710/1450375898.py:2: SyntaxWarning: \"is\" with a literal. Did you mean \"==\"?\n",
      "  a is 256\n"
     ]
    },
    {
     "data": {
      "text/plain": [
       "True"
      ]
     },
     "execution_count": 157,
     "metadata": {},
     "output_type": "execute_result"
    }
   ],
   "source": [
    "a = 256\n",
    "a is 256"
   ]
  },
  {
   "cell_type": "code",
   "execution_count": 158,
   "id": "595fab3b-c230-4251-af5d-870ad9087f63",
   "metadata": {},
   "outputs": [
    {
     "name": "stderr",
     "output_type": "stream",
     "text": [
      "<>:2: SyntaxWarning: \"is\" with a literal. Did you mean \"==\"?\n",
      "<>:2: SyntaxWarning: \"is\" with a literal. Did you mean \"==\"?\n",
      "/tmp/ipykernel_18710/274325606.py:2: SyntaxWarning: \"is\" with a literal. Did you mean \"==\"?\n",
      "  a is 257\n"
     ]
    },
    {
     "data": {
      "text/plain": [
       "False"
      ]
     },
     "execution_count": 158,
     "metadata": {},
     "output_type": "execute_result"
    }
   ],
   "source": [
    "a = 257\n",
    "a is 257"
   ]
  },
  {
   "cell_type": "code",
   "execution_count": 159,
   "id": "cdb2bfe5-0df8-4eaf-ba81-d0302914fa55",
   "metadata": {},
   "outputs": [
    {
     "name": "stderr",
     "output_type": "stream",
     "text": [
      "<>:2: SyntaxWarning: \"is\" with a literal. Did you mean \"==\"?\n",
      "<>:2: SyntaxWarning: \"is\" with a literal. Did you mean \"==\"?\n",
      "/tmp/ipykernel_18710/632354002.py:2: SyntaxWarning: \"is\" with a literal. Did you mean \"==\"?\n",
      "  a is -5\n"
     ]
    },
    {
     "data": {
      "text/plain": [
       "True"
      ]
     },
     "execution_count": 159,
     "metadata": {},
     "output_type": "execute_result"
    }
   ],
   "source": [
    "a = -5\n",
    "a is -5"
   ]
  },
  {
   "cell_type": "code",
   "execution_count": 160,
   "id": "13cff66f-db10-4dae-8c96-08ce5ff6f9e5",
   "metadata": {},
   "outputs": [
    {
     "name": "stderr",
     "output_type": "stream",
     "text": [
      "<>:2: SyntaxWarning: \"is\" with a literal. Did you mean \"==\"?\n",
      "<>:2: SyntaxWarning: \"is\" with a literal. Did you mean \"==\"?\n",
      "/tmp/ipykernel_18710/782153807.py:2: SyntaxWarning: \"is\" with a literal. Did you mean \"==\"?\n",
      "  a is -6\n"
     ]
    },
    {
     "data": {
      "text/plain": [
       "False"
      ]
     },
     "execution_count": 160,
     "metadata": {},
     "output_type": "execute_result"
    }
   ],
   "source": [
    "a = -6\n",
    "a is -6"
   ]
  },
  {
   "cell_type": "markdown",
   "id": "f68ea63a-11dc-4fda-a0ff-44449af63c56",
   "metadata": {},
   "source": [
    "Böylece Python’daki kimlik işleçlerini de incelemiş olduk. Belki programcılık maceranız boyunca id() fonksiyonunu hiç kullanmayacaksınız, ancak bu fonksiyonun arkasındaki mantığı anlamak, Python’ın kimi yerlerde alttan alta neler çevirdiğini çok daha kolay kavramanızı sağlayacaktır."
   ]
  },
  {
   "cell_type": "markdown",
   "id": "74c44836-a1a5-42d5-a554-9881bf64abfe",
   "metadata": {},
   "source": [
    "+++++Uygulama Örnekleri\n",
    "\n",
    "\n",
    "Basit Bir Hesap Makinesi\n",
    "Şu ana kadar Python’da pek çok şey öğrendik. Bu öğrendiğimiz şeylerle artık kısmen yararlı bazı programlar yazabiliriz. Elbette henüz yazacağımız programlar pek yetenekli olamayacak olsa da, en azından bize öğrendiklerimizle pratik yapma imkanı sağlayacak. Bu bölümde, if, elif, else yapılarını ve öğrendiğimiz temel aritmetik işleçleri kullanarak çok basit bir hesap makinesi yapmayı deneyeceğiz. Bu arada, bu derste yeni şeyler öğrenerek ufkumuzu ve bilgimizi genişletmeyi de ihmal etmeyeceğiz.\n",
    "\n",
    "İsterseniz önce kullanıcıya bazı seçenekler sunarak işe başlayalım:"
   ]
  },
  {
   "cell_type": "code",
   "execution_count": 161,
   "id": "3c3d79b0-8e93-4492-acca-8f1734710fd0",
   "metadata": {},
   "outputs": [
    {
     "name": "stdout",
     "output_type": "stream",
     "text": [
      "\n",
      "(1) topla\n",
      "(2) çıkar\n",
      "(3) çarp\n",
      "(4) böl\n",
      "(5) karesini hesapla\n",
      "(6) kare kök hesapla\n",
      "\n"
     ]
    }
   ],
   "source": [
    "giriş = \"\"\"\n",
    "(1) topla\n",
    "(2) çıkar\n",
    "(3) çarp\n",
    "(4) böl\n",
    "(5) karesini hesapla\n",
    "(6) kare kök hesapla\n",
    "\"\"\"\n",
    "\n",
    "print(giriş)"
   ]
  },
  {
   "cell_type": "markdown",
   "id": "ab234a19-e945-439d-886b-4c8ffa46bbad",
   "metadata": {},
   "source": [
    "Burada kullanıcıya bazı seçenekler sunduk. Bu seçenekleri ekrana yazdırmak için üç tırnak işaretlerinden yararlandığımıza dikkat edin. Birden fazla satıra yayılmış bu tür ifadeleri en kolay üç tırnak işaretleri yardımıyla yazdırabileceğimizi biliyorsunuz artık.\n",
    "\n",
    "Biz burada bütün seçenekleri tek bir değişken içine yerleştirdik. Esasında her bir seçenek için ayrı bir değişken tanımlamak da mümkündür. Yani aslında yukarıdaki kodları şöyle de yazabiliriz:"
   ]
  },
  {
   "cell_type": "code",
   "execution_count": 162,
   "id": "88a64937-c532-4679-839e-2597f685b483",
   "metadata": {},
   "outputs": [
    {
     "name": "stdout",
     "output_type": "stream",
     "text": [
      "(1) topla (2) çıkar (3) çarp (4) böl (5) karesini hesapla\n"
     ]
    }
   ],
   "source": [
    "seçenek1 = \"(1) topla\"\n",
    "seçenek2 = \"(2) çıkar\"\n",
    "seçenek3 = \"(3) çarp\"\n",
    "seçenek4 = \"(4) böl\"\n",
    "seçenek5 = \"(5) karesini hesapla\"\n",
    "seçenek6 = \"(6) karekök hesapla\"\n",
    "\n",
    "print(seçenek1, seçenek2, seçenek3, seçenek4, seçenek5)\n"
   ]
  },
  {
   "cell_type": "markdown",
   "id": "91808e64-27d1-4644-8321-9585f53318e1",
   "metadata": {},
   "source": [
    "Yalnız burada dikkat ederseniz, seçenekler hep yan yana diziliyor. Eğer programınızda yukarıdaki şekli kullanmak isterseniz, bu seçeneklerin yan yana değil de, alt alta görünmesini sağlamak için, önceki derslerimizde öğrendiğimiz sep parametresini kullanabilirsiniz:\n",
    "\n"
   ]
  },
  {
   "cell_type": "code",
   "execution_count": 163,
   "id": "59a46ee1-0eeb-4c4f-b1be-6f9500ddccd1",
   "metadata": {},
   "outputs": [
    {
     "name": "stdout",
     "output_type": "stream",
     "text": [
      "(1) topla\n",
      "(2) çıkar\n",
      "(3) çarp\n",
      "(4) böl\n",
      "(5) karesini hesapla\n",
      "(6) karekök hesapla\n"
     ]
    }
   ],
   "source": [
    "seçenek1 = \"(1) topla\"\n",
    "seçenek2 = \"(2) çıkar\"\n",
    "seçenek3 = \"(3) çarp\"\n",
    "seçenek4 = \"(4) böl\"\n",
    "seçenek5 = \"(5) karesini hesapla\"\n",
    "seçenek6 = \"(6) karekök hesapla\"\n",
    "\n",
    "print(seçenek1, seçenek2, seçenek3, seçenek4, seçenek5, seçenek6, sep=\"\\n\")"
   ]
  },
  {
   "cell_type": "markdown",
   "id": "679e7f11-5064-468f-92c2-eba271535a34",
   "metadata": {},
   "source": [
    "Burada sep parametresinin değeri olarak \\n kaçış dizisini belirlediğimize dikkat edin. \\n kaçış dizisinin ne işe yaradığını hatırlıyorsunuz. Bu dizi, satır başına geçmemizi sağlıyordu. Burada, ayraç olarak satır başı kaçış dizisini belirlediğimiz için her bir seçenek yan yana değil, alt alta görünecektir. Elbette sep parametresi için istediğiniz değeri belirleyebilirsiniz. Mesela her bir seçeneği satır başı işaretiyle ayırmak yerine, çift tire gibi bir işaretle ayırmayı da tercih edebilirsiniz:"
   ]
  },
  {
   "cell_type": "code",
   "execution_count": 164,
   "id": "34e9dcd8-2353-4510-aa37-2d5219f82539",
   "metadata": {},
   "outputs": [
    {
     "name": "stdout",
     "output_type": "stream",
     "text": [
      "(1) topla--(2) çıkar--(3) çarp--(4) böl--(5) karesini hesapla\n"
     ]
    }
   ],
   "source": [
    "print(seçenek1, seçenek2, seçenek3, seçenek4, seçenek5, sep=\"--\")"
   ]
  },
  {
   "cell_type": "markdown",
   "id": "74a03ef0-0f69-4a93-a404-4e8534fbed86",
   "metadata": {},
   "source": [
    "Programınızda nasıl bir giriş paragrafı belirleyeceğiniz konusunda özgürsünüz. Gelin isterseniz biz birinci şekille yolumuza devam edelim:"
   ]
  },
  {
   "cell_type": "code",
   "execution_count": 165,
   "id": "51017cf3-e041-43df-8652-3dfe8664079a",
   "metadata": {},
   "outputs": [
    {
     "name": "stdout",
     "output_type": "stream",
     "text": [
      "\n",
      "(1) topla\n",
      "(2) çıkar\n",
      "(3) çarp\n",
      "(4) böl\n",
      "(5) karesini hesapla\n",
      "(6) karekök hesapla\n",
      "\n"
     ]
    }
   ],
   "source": [
    "giriş = \"\"\"\n",
    "(1) topla\n",
    "(2) çıkar\n",
    "(3) çarp\n",
    "(4) böl\n",
    "(5) karesini hesapla\n",
    "(6) karekök hesapla\n",
    "\"\"\"\n",
    "\n",
    "print(giriş)"
   ]
  },
  {
   "cell_type": "markdown",
   "id": "760da12a-5742-4e94-818e-3a9552a3a576",
   "metadata": {},
   "source": [
    "Burada giriş adlı bir değişken oluşturduk. Bu değişkenin içinde barındırdığı değeri kullanıcıların görebilmesi için print() fonksiyonu yardımıyla bu değişkeni ekrana yazdırıyoruz. Devam edelim:\n",
    "\n"
   ]
  },
  {
   "cell_type": "code",
   "execution_count": 166,
   "id": "701a1e9e-c406-4b8b-ad6a-910d9ce339a2",
   "metadata": {},
   "outputs": [
    {
     "name": "stdin",
     "output_type": "stream",
     "text": [
      "Yapmak istediğiniz işlemin numarasını girin:  asd\n"
     ]
    }
   ],
   "source": [
    "soru = input(\"Yapmak istediğiniz işlemin numarasını girin: \")"
   ]
  },
  {
   "cell_type": "markdown",
   "id": "aa614785-3fdd-4034-b66a-c474aa388f07",
   "metadata": {},
   "source": [
    "Bu kod yardımıyla kullanıcıya bir soru soruyoruz. Kullanıcıdan yapmasını istediğimiz şey, yukarıda belirlediğimiz giriş seçenekleri içinden bir sayı seçmesi. Kullanıcı 1, 2, 3, 4, 5 veya 6 seçeneklerinden herhangi birini seçebilir. Kullanıcıyı, seçtiği numaranın karşısında yazan işleme yönlendireceğiz. Yani mesela eğer kullanıcı klavyedeki 1 tuşuna basarsa hesap makinemiz toplama işlemi yapacaktır. 2 tuşu ise kullanıcıyı çıkarma işlemine yönlendirir…\n",
    "\n",
    "input() fonksiyonunu işlediğimiz bölümde, bu fonksiyonun değer olarak her zaman bir karakter dizisi (string) verdiğini söylemiştik. Yukarıdaki kodun çıktısı da doğal olarak bir karakter dizisi olacaktır. Bizim şu aşamada kullanıcıdan karakter dizisi almamızın bir sakıncası yok. Çünkü kullanıcının gireceği 1, 2, 3, 4, 5 veya 6 değerleriyle herhangi bir aritmetik işlem yapmayacağız. Kullanıcının gireceği bu değerler, yalnızca bize onun hangi işlemi yapmak istediğini belirtecek. Dolayısıyla input() fonksiyonunu yukarıdaki şekilde kullanıyoruz.\n",
    "\n",
    "İsterseniz şimdiye kadar gördüğümüz kısma topluca bakalım:\n",
    "\n"
   ]
  },
  {
   "cell_type": "code",
   "execution_count": 167,
   "id": "55ece9ac-9529-414f-88b7-909c299d7bca",
   "metadata": {},
   "outputs": [
    {
     "name": "stdout",
     "output_type": "stream",
     "text": [
      "\n",
      "(1) topla\n",
      "(2) çıkar\n",
      "(3) çarp\n",
      "(4) böl\n",
      "(5) karesini hesapla\n",
      "(6) karekök hesapla\n",
      "\n"
     ]
    },
    {
     "name": "stdin",
     "output_type": "stream",
     "text": [
      "Yapmak istediğiniz işlemin numarasını girin:  sda\n"
     ]
    }
   ],
   "source": [
    "giriş = \"\"\"\n",
    "(1) topla\n",
    "(2) çıkar\n",
    "(3) çarp\n",
    "(4) böl\n",
    "(5) karesini hesapla\n",
    "(6) karekök hesapla\n",
    "\"\"\"\n",
    "\n",
    "print(giriş)\n",
    "\n",
    "soru = input(\"Yapmak istediğiniz işlemin numarasını girin: \")"
   ]
  },
  {
   "cell_type": "markdown",
   "id": "7cd8a73f-710e-4439-bce9-1f1539f6c17f",
   "metadata": {},
   "source": [
    "Bu kodları çalıştırdığımızda, ekranda giriş paragrafımız görünecek ve kullanıcıya, yapmak istediği işlemin ne olduğu sorulacaktır. Henüz kodlarımız eksik olduğu için, kullanıcı hangi sayıyı girerse girsin, programımız hiç bir iş yapmadan kapanacaktır. O halde yolumuza devam edelim:"
   ]
  },
  {
   "cell_type": "code",
   "execution_count": 170,
   "id": "f9db808a-7281-4cc2-8cdc-fd04a552e339",
   "metadata": {},
   "outputs": [
    {
     "ename": "SyntaxError",
     "evalue": "incomplete input (164433437.py, line 1)",
     "output_type": "error",
     "traceback": [
      "\u001b[0;36m  Cell \u001b[0;32mIn[170], line 1\u001b[0;36m\u001b[0m\n\u001b[0;31m    if soru == \"1\":\u001b[0m\n\u001b[0m                   ^\u001b[0m\n\u001b[0;31mSyntaxError\u001b[0m\u001b[0;31m:\u001b[0m incomplete input\n"
     ]
    }
   ],
   "source": [
    "if soru == \"1\":"
   ]
  },
  {
   "cell_type": "markdown",
   "id": "91912b49-2685-4c9d-b0f5-a583daa1ffbf",
   "metadata": {},
   "source": [
    "Böylece ilk if deyimimizi tanımlamış olduk. Buradaki yazım şekline çok dikkat edin. Bu kodlarla Python’a şu emri vermiş oluyoruz:\n",
    "\n",
    "Eğer soru adlı değişkenin değeri 1 ise, yani eğer kullanıcı klavyede 1 tuşuna basarsa…\n",
    "\n",
    "if deyimlerinin en sonuna : işaretini koymayı unutmuyoruz. Python’a yeni başlayanların en çok yaptığı hatalardan birisi, sondaki bu : işaretini koymayı unutmalarıdır. Bu işaret bize çok ufak bir ayrıntıymış gibi görünse de Python için manevi değeri çok büyüktür! Python’un bize öfkeli mesajlar göstermesini istemiyorsak bu işareti koymayı unutmayacağız. Bu arada, burada == işaretini kullandığımıza da dikkat edin. Bunun ne anlama geldiğini önceki derslerimizde öğrenmiştik. Bu işaret, iki şeyin aynı değere sahip olup olmadığını sorgulamamızı sağlıyor. Biz burada soru adlı değişkenin değerinin 1 olup olmadığını sorguladık. soru değişkeninin değeri kullanıcı tarafından belirleneceği için henüz bu değişkenin değerinin ne olduğunu bilmiyoruz. Bizim programımızda kullanıcı klavyeden 1, 2, 3, 4, 5 veya 6 değerlerinden herhangi birini seçebilir. Biz yukarıdaki kod yardımıyla, eğer kullanıcı klavyede 1 tuşuna basarsa ne yapılacağını belirleyeceğiz. O halde devam edelim:"
   ]
  },
  {
   "cell_type": "code",
   "execution_count": 171,
   "id": "4caad489-f811-41bf-9c9f-2aa4d783e697",
   "metadata": {},
   "outputs": [],
   "source": [
    "if soru == \"1\":\n",
    "    sayı1 = int(input(\"Toplama işlemi için ilk sayıyı girin: \"))\n",
    "    sayı2 = int(input(\"Toplama işlemi için ikinci sayıyı girin: \"))\n",
    "    print(sayı1, \"+\", sayı2, \"=\", sayı1 + sayı2)"
   ]
  },
  {
   "cell_type": "markdown",
   "id": "ef605467-eb09-403d-8f3c-29d6c9fbb661",
   "metadata": {},
   "source": [
    "Böylece ilk if bloğumuzu tanımlamış olduk.\n",
    "\n",
    "if deyimimizi yazdıktan sonra ne yaptığımız çok önemli. Buradaki girintileri, programımız güzel görünsün diye yapmıyoruz. Bu girintilerin Python için bir anlamı var. Eğer bu girintileri vermezsek programımız çalışmayacaktır. Eğer Python kodlarına duyarlı bir metin düzenleyici kullanıyorsanız, : işaretini koyup Enter tuşuna bastıktan sonra otomatik olarak girinti verilecektir. Eğer kullandığınız metin düzenleyici size böyle bir kolaylık sunmuyorsa Enter tuşuna bastıktan sonra klavyedeki boşluk (SPACE) tuşunu kullanarak dört vuruşluk bir girinti oluşturabilirsiniz. Bu girintiler, ilk satırda belirlediğimiz if deyimiyle gösterilecek işlemlere işaret ediyor. Dolayısıyla burada yazılan kodları Pythoncadan Türkçeye çevirecek olursak şöyle bir şey elde ederiz:"
   ]
  },
  {
   "cell_type": "markdown",
   "id": "9cf6563d-e843-4a03-a352-be960de641ef",
   "metadata": {},
   "source": [
    "eğer sorunun değeri '1' ise:\n",
    "    Toplama işlemi için ilk sayı girilsin. Bu değere 'sayı1' diyelim.\n",
    "    Sonra ikinci sayı girilsin. Bu değere de 'sayı2' diyelim.\n",
    "    En son, 'sayı1', '+' işleci, 'sayı2', '=' işleci ve 'sayı1 + sayı2'\n",
    "    ekrana yazdırılsın..."
   ]
  },
  {
   "cell_type": "markdown",
   "id": "57472756-c3b1-47c0-9885-139837748386",
   "metadata": {},
   "source": [
    "Gelin isterseniz buraya kadar olan bölümü yine topluca görelim:"
   ]
  },
  {
   "cell_type": "code",
   "execution_count": 172,
   "id": "eba0aed8-fe28-4564-8d05-ed8c2f868e5b",
   "metadata": {},
   "outputs": [
    {
     "name": "stdout",
     "output_type": "stream",
     "text": [
      "\n",
      "(1) topla\n",
      "(2) çıkar\n",
      "(3) çarp\n",
      "(4) böl\n",
      "(5) karesini hesapla\n",
      "(6) karekök hesapla\n",
      "\n"
     ]
    },
    {
     "name": "stdin",
     "output_type": "stream",
     "text": [
      "Yapmak istediğiniz işlemin numarasını girin:  23\n"
     ]
    }
   ],
   "source": [
    "giriş = \"\"\"\n",
    "(1) topla\n",
    "(2) çıkar\n",
    "(3) çarp\n",
    "(4) böl\n",
    "(5) karesini hesapla\n",
    "(6) karekök hesapla\n",
    "\"\"\"\n",
    "\n",
    "print(giriş)\n",
    "\n",
    "soru = input(\"Yapmak istediğiniz işlemin numarasını girin: \")\n",
    "\n",
    "if soru == \"1\":\n",
    "    sayı1 = int(input(\"Toplama işlemi için ilk sayıyı girin: \"))\n",
    "    sayı2 = int(input(\"Toplama işlemi için ikinci sayıyı girin: \"))\n",
    "    print(sayı1, \"+\", sayı2, \"=\", sayı1 + sayı2)"
   ]
  },
  {
   "cell_type": "markdown",
   "id": "e592759c-13e6-4577-b825-2bd6eba2eed3",
   "metadata": {},
   "source": [
    "Bu kodları çalıştırıp, klavyede 1 tuşuna bastığımızda, bizden bir sayı girmemiz istenecektir. İlk sayımızı girdikten sonra bize tekrar bir sayı girmemiz söylenecek. Bu emre de uyup Enter tuşuna basınca, girdiğimiz bu iki sayının toplandığını göreceğiz. Fena sayılmaz, değil mi?\n",
    "\n",
    "Şimdi programımızın geri kalan kısmını yazıyoruz. İşin temelini kavradığımıza göre birden fazla kod bloğunu aynı anda yazabiliriz:"
   ]
  },
  {
   "cell_type": "code",
   "execution_count": 173,
   "id": "ade2950c-9a80-40c2-ba96-bf4adb360c4e",
   "metadata": {},
   "outputs": [
    {
     "ename": "SyntaxError",
     "evalue": "invalid syntax (2114265399.py, line 1)",
     "output_type": "error",
     "traceback": [
      "\u001b[0;36m  Cell \u001b[0;32mIn[173], line 1\u001b[0;36m\u001b[0m\n\u001b[0;31m    elif soru == \"2\":\u001b[0m\n\u001b[0m    ^\u001b[0m\n\u001b[0;31mSyntaxError\u001b[0m\u001b[0;31m:\u001b[0m invalid syntax\n"
     ]
    }
   ],
   "source": [
    "elif soru == \"2\":\n",
    "    sayı3 = int(input(\"Çıkarma işlemi için ilk sayıyı girin: \"))\n",
    "    sayı4 = int(input(\"Çıkarma işlemi için ikinci sayıyı girin: \"))\n",
    "    print(sayı3, \"-\", sayı4, \"=\", sayı3 - sayı4)\n",
    "\n",
    "elif soru == \"3\":\n",
    "    sayı5 = int(input(\"Çarpma işlemi için ilk sayıyı girin: \"))\n",
    "    sayı6 = int(input(\"Çarpma işlemi için ikinci sayıyı girin: \"))\n",
    "    print(sayı5, \"x\", sayı6, \"=\", sayı5 * sayı6)\n",
    "\n",
    "elif soru == \"4\":\n",
    "    sayı7 = int(input(\"Bölme işlemi için ilk sayıyı girin: \"))\n",
    "    sayı8 = int(input(\"Bölme işlemi için ikinci sayıyı girin: \"))\n",
    "    print(sayı7, \"/\", sayı8, \"=\", sayı7 / sayı8)\n",
    "\n",
    "elif soru == \"5\":\n",
    "    sayı9 = int(input(\"Karesini hesaplamak istediğiniz sayıyı girin: \"))\n",
    "    print(sayı9, \"sayısının karesi =\", sayı9 ** 2)\n",
    "\n",
    "elif soru == \"6\":\n",
    "    sayı10 = int(input(\"Karekökünü hesaplamak istediğiniz sayıyı girin: \"))\n",
    "    print(sayı10, \"sayısının karekökü = \", sayı10 ** 0.5)"
   ]
  },
  {
   "cell_type": "markdown",
   "id": "d87fe87b-0586-4890-a198-41542b46d79e",
   "metadata": {},
   "source": [
    "Bunlarla birlikte kodlarımızın büyük bölümünü tamamlamış oluyoruz. Bu bölümdeki tek fark, ilk if bloğunun aksine, burada elif bloklarını kullanmış olmamız. Eğer burada bütün blokları if kullanarak yazarsanız, biraz sonra kullanacağımız else bloğu her koşulda çalışacağı için beklentinizin dışında sonuçlar elde edersiniz.\n",
    "\n",
    "Yukarıdaki kodlarda az da olsa farklılık gösteren tek yer son iki elif bloğumuz. Esasında buradaki fark da pek büyük bir fark sayılmaz. Neticede tek bir sayının karesini ve karekökünü hesaplayacağımız için, kullanıcıdan yalnızca tek bir giriş istiyoruz.\n",
    "\n",
    "Şimdi de son bloğumuzu yazalım. Az evvel çıtlattığımız gibi, bu son blok bir else bloğu olacak:"
   ]
  },
  {
   "cell_type": "code",
   "execution_count": 174,
   "id": "4e0d5fa5-4fc0-42db-9cf5-45379f3d0367",
   "metadata": {},
   "outputs": [
    {
     "ename": "SyntaxError",
     "evalue": "invalid syntax (1187803181.py, line 1)",
     "output_type": "error",
     "traceback": [
      "\u001b[0;36m  Cell \u001b[0;32mIn[174], line 1\u001b[0;36m\u001b[0m\n\u001b[0;31m    else:\u001b[0m\n\u001b[0m    ^\u001b[0m\n\u001b[0;31mSyntaxError\u001b[0m\u001b[0;31m:\u001b[0m invalid syntax\n"
     ]
    }
   ],
   "source": [
    "else:\n",
    "    print(\"Yanlış giriş.\")\n",
    "    print(\"Aşağıdaki seçeneklerden birini giriniz:\", giriş)"
   ]
  },
  {
   "cell_type": "markdown",
   "id": "e02df4ea-f68e-4397-8a9c-0801c315239d",
   "metadata": {},
   "source": [
    "Çok basit bir else bloğu ile işimizi bitirdik. Bu bloğun ne işe yaradığını biliyorsunuz:\n",
    "\n",
    "Eğer kullanıcının girdiği değer yukarıdaki bloklardan hiç birine uymuyorsa bu else bloğunu işlet!\n",
    "\n",
    "gibi bir emir vermiş oluyoruz bu else bloğu yardımıyla. Mesela kullanıcımız 1, 2, 3, 4, 5 veya 6 seçeneklerini girmek yerine 7 yazarsa, bu blok işletilecek.\n",
    "\n",
    "Gelin isterseniz son kez kodlarımızı topluca bir görelim:"
   ]
  },
  {
   "cell_type": "code",
   "execution_count": 175,
   "id": "84427ef3-184d-4e47-9b4b-2c3cd0d5349f",
   "metadata": {},
   "outputs": [
    {
     "name": "stdout",
     "output_type": "stream",
     "text": [
      "\n",
      "(1) topla\n",
      "(2) çıkar\n",
      "(3) çarp\n",
      "(4) böl\n",
      "(5) karesini hesapla\n",
      "(6) karekök hesapla\n",
      "\n"
     ]
    },
    {
     "name": "stdin",
     "output_type": "stream",
     "text": [
      "Yapmak istediğiniz işlemin numarasını girin:  2\n",
      "Çıkarma işlemi için ilk sayıyı girin:  3\n",
      "Çıkarma işlemi için ikinci sayıyı girin:  4\n"
     ]
    },
    {
     "name": "stdout",
     "output_type": "stream",
     "text": [
      "3 - 4 = -1\n"
     ]
    }
   ],
   "source": [
    "giriş = \"\"\"\n",
    "(1) topla\n",
    "(2) çıkar\n",
    "(3) çarp\n",
    "(4) böl\n",
    "(5) karesini hesapla\n",
    "(6) karekök hesapla\n",
    "\"\"\"\n",
    "\n",
    "print(giriş)\n",
    "\n",
    "soru = input(\"Yapmak istediğiniz işlemin numarasını girin: \")\n",
    "\n",
    "if soru == \"1\":\n",
    "    sayı1 = int(input(\"Toplama işlemi için ilk sayıyı girin: \"))\n",
    "    sayı2 = int(input(\"Toplama işlemi için ikinci sayıyı girin: \"))\n",
    "    print(sayı1, \"+\", sayı2, \"=\", sayı1 + sayı2)\n",
    "\n",
    "elif soru == \"2\":\n",
    "    sayı3 = int(input(\"Çıkarma işlemi için ilk sayıyı girin: \"))\n",
    "    sayı4 = int(input(\"Çıkarma işlemi için ikinci sayıyı girin: \"))\n",
    "    print(sayı3, \"-\", sayı4, \"=\", sayı3 - sayı4)\n",
    "\n",
    "elif soru == \"3\":\n",
    "    sayı5 = int(input(\"Çarpma işlemi için ilk sayıyı girin: \"))\n",
    "    sayı6 = int(input(\"Çarpma işlemi için ikinci sayıyı girin: \"))\n",
    "    print(sayı5, \"x\", sayı6, \"=\", sayı5 * sayı6)\n",
    "\n",
    "elif soru == \"4\":\n",
    "    sayı7 = int(input(\"Bölme işlemi için ilk sayıyı girin: \"))\n",
    "    sayı8 = int(input(\"Bölme işlemi için ikinci sayıyı girin: \"))\n",
    "    print(sayı7, \"/\", sayı8, \"=\", sayı7 / sayı8)\n",
    "\n",
    "elif soru == \"5\":\n",
    "    sayı9 = int(input(\"Karesini hesaplamak istediğiniz sayıyı girin: \"))\n",
    "    print(sayı9, \"sayısının karesi =\", sayı9 ** 2)\n",
    "\n",
    "elif soru == \"6\":\n",
    "    sayı10 = int(input(\"Karekökünü hesaplamak istediğiniz sayıyı girin: \"))\n",
    "    print(sayı10, \"sayısının karekökü = \", sayı10 ** 0.5)\n",
    "\n",
    "else:\n",
    "    print(\"Yanlış giriş.\")\n",
    "    print(\"Aşağıdaki seçeneklerden birini giriniz:\", giriş)"
   ]
  },
  {
   "cell_type": "markdown",
   "id": "520d2630-94a3-4a13-9736-fd442929cc27",
   "metadata": {},
   "source": [
    "\n",
    "Genel olarak baktığımızda, bütün programın aslında basit bir ‘if, elif, else’ yapısından ibaret olduğunu görüyoruz. Ayrıca bu kodlardaki simetriye de dikkatinizi çekmek isterim. Gördüğünüz gibi her ‘paragraf’ bir if, elif veya else bloğundan oluşuyor ve her blok kendi içinde girintili bir yapı sergiliyor. Temel olarak şöyle bir şeyle karşı karşıyayız:\n",
    "\n",
    "\n",
    "\n",
    "Eğer böyle bir durum varsa:\n",
    "    şöyle bir işlem yap\n",
    "\n",
    "Yok eğer şöyle bir durum varsa:\n",
    "    böyle bir işlem yap\n",
    "\n",
    "Eğer bambaşka bir durum varsa:\n",
    "    şöyle bir şey yap\n",
    "\n",
    "    \n",
    "Böylelikle şirin bir hesap makinesine sahip olmuş olduk! Hesap makinemiz pek yetenekli değil, ama olsun… Henüz bildiklerimiz bunu yapmamıza müsaade ediyor. Yine de başlangıçtan bu noktaya kadar epey yol katettiğimizi görüyorsunuz.\n",
    "\n",
    "Şimdi bu programı çalıştırın ve neler yapabildiğine göz atın. Bu arada kodları da iyice inceleyin. Programı yeterince anladıktan sonra, program üzerinde kendinize göre bazı değişiklikler yapın, yeni özellikler ekleyin. Eksikliklerini, zayıf yönlerini bulmaya çalışın. Böylece bu dersten azami faydayı sağlamış olacaksınız."
   ]
  },
  {
   "cell_type": "markdown",
   "id": "62bff2c7-a45a-41c8-ba4a-feadc0a55f9b",
   "metadata": {},
   "source": [
    "++++++++Sürüme Göre İşlem Yapan Program\n",
    "\n",
    "\n",
    "Bildiğiniz gibi, şu anda piyasada iki farklı Python serisi bulunuyor: Python2 ve Python3. Daha önce de söylediğimiz gibi, Python’ın 2.x serisi ile çalışan bir program Python’ın 3.x serisi ile muhtemelen çalışmayacaktır. Aynı şekilde bunun tersi de geçerlidir. Yani 3.x ile çalışan bir program 2.x ile büyük ihtimalle çalışmayacaktır.\n",
    "\n",
    "Bu durum, yazdığınız programların farklı Python sürümleri ile çalıştırılma ihtimaline karşı bazı önlemler almanızı gerektirebilir. Örneğin yazdığınız bir programda kullanıcılarınızdan beklentiniz, programınızı Python’ın 3.x sürümlerinden biri ile çalıştırmaları olabilir. Eğer programınız Python’ın 2.x sürümlerinden biri ile çalıştırılırsa kullanıcıya bir uyarı mesajı göstermek isteyebilirsiniz.\n",
    "\n",
    "Hatta yazdığınız bir program, aynı serinin farklı sürümlerinde dahi çalışmayı engelleyecek özellikler içeriyor olabilir. Örneğin print() fonksiyonunun flush adlı parametresi dile 3.3 sürümü ile birlikte eklendi. Dolayısıyla bu parametreyi kullanan bir program, kullanıcının 3.3 veya daha yüksek bir Python sürümü kullanmasını gerektirir. Böyle bir durumda, programınızı çalıştıran Python sürümünün en düşük 3.3 olmasını temin etmeniz gerekir.\n",
    "\n",
    "Peki bunu nasıl yapacaksınız?\n",
    "\n",
    "Burada aklınızda ilk olarak, kodlarınıza #!/usr/bin/env python3.3 veya #! python3.3 gibi bir satır eklemek gelmiş olabilir. Ama unutmayın, bu çözüm ancak kısıtlı bir işlevsellik sunabilir. Programımıza böyle bir satır eklediğimizde, programımızın Python’ın 3.3 sürümü ile çalıştırılması gerektiğini belirtiyoruz. Ama 3.3 dışı bir sürümle çalıştırıldığında ne olacağını belirtmiyoruz. Böyle bir durumda, eğer programımız 3.3 dışı bir sürümle çalıştırılırsa çökecektir. Bizim burada daha kapsamlı ve esnek bir çözüm bulmamız gerekiyor.\n",
    "\n",
    "Hatırlarsanız önceki derslerden birinde sys adlı bir modülden söz etmiştik. Bildiğiniz gibi, bu modül içinde pek çok yararlı değişken ve fonksiyon bulunuyor. Önceki derslerimizde, bu modül içinde bulunan exit() fonksiyonu ile stdout ve version değişkenlerini gördüğümüzü hatırlıyor olmalısınız. sys modülü içinde bulunan exit() fonksiyonunun programdan çıkmamızı sağladığını, stdout değişkeninin standart çıktı konumu bilgisini tuttuğunu ve version değişkeninin de kullandığımız Python sürümü hakkında bilgi verdiğini biliyoruz. İşte yukarıda bahsettiğimiz programda da bu sys modülünden yararlanacağız.\n",
    "\n",
    "Bu iş için, version değişkenine çok benzeyen version_info adlı bir değişkeni kullanacağız.\n",
    "\n",
    "Bu değişkenin nasıl kullanıldığına etkileşimli kabukta beraberce bakalım…\n",
    "\n",
    "sys modülü içindeki araçları kullanabilmek için öncelikle bu modülü içe aktarmamız gerektiğini biliyorsunuz:\n",
    "\n"
   ]
  },
  {
   "cell_type": "code",
   "execution_count": 176,
   "id": "96dfde81-c07f-427c-99f7-6e8c26fbe9e2",
   "metadata": {},
   "outputs": [],
   "source": [
    "import sys"
   ]
  },
  {
   "cell_type": "markdown",
   "id": "bd8045b3-6a42-4736-ade7-9b9998a64575",
   "metadata": {},
   "source": [
    "Şimdi de bu modül içindeki version_info adlı değişkene erişelim:"
   ]
  },
  {
   "cell_type": "code",
   "execution_count": 177,
   "id": "c6be66d3-c41a-4264-994e-fd4b5bdb0682",
   "metadata": {},
   "outputs": [
    {
     "data": {
      "text/plain": [
       "sys.version_info(major=3, minor=10, micro=12, releaselevel='final', serial=0)"
      ]
     },
     "execution_count": 177,
     "metadata": {},
     "output_type": "execute_result"
    }
   ],
   "source": [
    "sys.version_info"
   ]
  },
  {
   "cell_type": "markdown",
   "id": "472e0a66-362b-48e7-ac19-5e00568bf176",
   "metadata": {},
   "source": [
    "ördüğünüz gibi, bu değişken de bize tıpkı version adlı değişken gibi, kullandığımız Python sürümü hakkında bilgi veriyor.\n",
    "\n",
    "Ben yukarıdaki komutu Python3’te verdiğinizi varsaydım. Eğer yukarıdaki komutu Python3 yerine Python2’de verseydik şöyle bir çıktı alacaktık:\n",
    "\n",
    "sys.version_info(major=|major2|, minor=|minor2|, micro=|micro2|, releaselevel='final', serial=0)\n",
    "\n"
   ]
  },
  {
   "cell_type": "markdown",
   "id": "03ea3acb-f7e6-488c-891b-f6895f1fdde4",
   "metadata": {},
   "source": [
    "version_info ve version değişkenlerinin verdikleri çıktının birbirlerinden farklı yapıda olduğuna dikkat edin. version değişkeni, version_info değişkeninden farklı olarak şöyle bir çıktı verir:\n",
    "\n",
    "'3.7.0 (default, 19.08.2024, 12:24:55)\n",
    "[GCC 4.4.7 20120313 (Red Hat 4.4.7-3)] on linux'\n",
    "\n"
   ]
  },
  {
   "cell_type": "markdown",
   "id": "d857639d-4d28-40a0-a011-81bee06f615f",
   "metadata": {},
   "source": [
    "version_info değişkeninin verdiği çıktı bizim şu anda yazmak istediğimiz programa daha uygun. Bunun neden böyle olduğunu biraz sonra siz de anlayacaksınız.\n",
    "\n",
    "Gördüğünüz gibi, version_info değişkeninin çıktısında major ve minor gibi bazı değerler var. Çıktıdan da rahatlıkla anlayabileceğiniz gibi, major, kullanılan Python serisinin ana sürüm numarasını; minor ise alt sürüm numarasını verir. Çıktıda bir de micro adlı bir değer var. Bu da kullanılan Python serisinin en alt sürüm numarasını verir.\n",
    "\n",
    "Bu değere şu şekilde erişiyoruz:\n",
    "\n"
   ]
  },
  {
   "cell_type": "code",
   "execution_count": 178,
   "id": "f41cec93-b8b1-48fb-8a83-814f09ed0c78",
   "metadata": {},
   "outputs": [
    {
     "data": {
      "text/plain": [
       "10"
      ]
     },
     "execution_count": 178,
     "metadata": {},
     "output_type": "execute_result"
    }
   ],
   "source": [
    "sys.version_info.minor"
   ]
  },
  {
   "cell_type": "code",
   "execution_count": 179,
   "id": "9530b2d4-c7b4-449d-b5cb-ca73ac1c71b7",
   "metadata": {},
   "outputs": [
    {
     "data": {
      "text/plain": [
       "12"
      ]
     },
     "execution_count": 179,
     "metadata": {},
     "output_type": "execute_result"
    }
   ],
   "source": [
    "sys.version_info.micro"
   ]
  },
  {
   "cell_type": "code",
   "execution_count": 180,
   "id": "f6fb6bfe-8535-4a4d-b4ba-a224da2399f4",
   "metadata": {},
   "outputs": [
    {
     "data": {
      "text/plain": [
       "3"
      ]
     },
     "execution_count": 180,
     "metadata": {},
     "output_type": "execute_result"
    }
   ],
   "source": [
    "sys.version_info.major"
   ]
  },
  {
   "cell_type": "markdown",
   "id": "aa9493a2-5ba5-42f0-a5cc-a6f87aaaef34",
   "metadata": {},
   "source": [
    "İşte bu çıktılardaki major (ve yerine göre bununla birlikte minor ve micro) değerini kullanarak, programımızın hangi Python sürümü ile çalıştırılması gerektiğini kontrol edebiliriz. Şimdi programımızı yazalım:\n",
    "\n"
   ]
  },
  {
   "cell_type": "code",
   "execution_count": 181,
   "id": "81232c56-465e-4511-9614-a58339fd4e85",
   "metadata": {},
   "outputs": [
    {
     "name": "stdout",
     "output_type": "stream",
     "text": [
      "Programa hoşgeldiniz.\n"
     ]
    }
   ],
   "source": [
    "import sys\n",
    "\n",
    "_2x_metni = \"\"\"\n",
    "Python'ın 2.x sürümlerinden birini kullanıyorsunuz.\n",
    "Programı çalıştırabilmek için sisteminizde Python'ın\n",
    "3.x sürümlerinden biri kurulu olmalı.\"\"\"\n",
    "\n",
    "_3x_metni = \"Programa hoşgeldiniz.\"\n",
    "\n",
    "if sys.version_info.major < 3:\n",
    "    print(_2x_metni)\n",
    "else:\n",
    "    print(_3x_metni)"
   ]
  },
  {
   "cell_type": "markdown",
   "id": "aeb8bd78-d77c-4ef6-b2f9-38593dca57b4",
   "metadata": {},
   "source": [
    "Gelin isterseniz öncelikle bu kodları biraz inceleyelim.\n",
    "\n",
    "İlk olarak modülümüzü içe aktarıyoruz. Bu modül içindeki araçları kullanabilmemiz için bunu yapmamız şart:"
   ]
  },
  {
   "cell_type": "code",
   "execution_count": 182,
   "id": "7d9d9730-2037-4d89-8bb1-d7325e350f12",
   "metadata": {},
   "outputs": [],
   "source": [
    "import sys"
   ]
  },
  {
   "cell_type": "markdown",
   "id": "b827c316-1f1c-4475-af44-84fdf721e1e8",
   "metadata": {},
   "source": [
    "Ardından Python’ın 2.x sürümlerinden herhangi birini kullananlar için bir uyarı metni oluşturuyoruz:"
   ]
  },
  {
   "cell_type": "code",
   "execution_count": 183,
   "id": "24efa6ce-34ad-4e2c-8c19-f0dca8c9a4d1",
   "metadata": {},
   "outputs": [],
   "source": [
    "_2x_metni = \"\"\"\n",
    "Python'ın 2.x sürümlerinden birini kullanıyorsunuz.\n",
    "Programı çalıştırabilmek için sisteminizde Python'ın\n",
    "3.x sürümlerinden biri kurulu olmalı.\"\"\""
   ]
  },
  {
   "cell_type": "markdown",
   "id": "be0dba06-e5e5-48ab-a79e-149535e8e09e",
   "metadata": {},
   "source": [
    "Bildiğiniz gibi Python’da değişken adları bir sayıyla başlamaz. O yüzden değişken isminin başına bir tane alt çizgi işareti koyduğumuza dikkat edin.\n",
    "\n",
    "Bu da Python3 kullanıcıları için:"
   ]
  },
  {
   "cell_type": "code",
   "execution_count": 184,
   "id": "8bbb3d7f-8cbc-41ec-bf75-2fe226e82f43",
   "metadata": {},
   "outputs": [],
   "source": [
    "_3x_metni = \"Programa hoşgeldiniz.\""
   ]
  },
  {
   "cell_type": "markdown",
   "id": "90cc4d1a-4f5d-4e95-9a28-cb41c330d8be",
   "metadata": {},
   "source": [
    "Artık sürüm kontrolü kısmına geçebiliriz. Eğer major parametresinin değeri 3’ten küçükse _2x_metnini yazdırıyoruz. Bunun dışındaki bütün durumlar için ise _3x_metnini basıyoruz:"
   ]
  },
  {
   "cell_type": "code",
   "execution_count": 185,
   "id": "c0a3b876-3ced-471d-b348-6e17c625ec0a",
   "metadata": {},
   "outputs": [
    {
     "name": "stdout",
     "output_type": "stream",
     "text": [
      "Programa hoşgeldiniz.\n"
     ]
    }
   ],
   "source": [
    "if sys.version_info.major < 3:\n",
    "    print(_2x_metni)\n",
    "else:\n",
    "    print(_3x_metni)"
   ]
  },
  {
   "cell_type": "markdown",
   "id": "4fb26757-eafa-458e-9ee0-b84d28b53e2c",
   "metadata": {},
   "source": [
    "Gördüğünüz gibi, kullanılan Python sürümünü kontrol etmek ve eğer program istenmeyen bir Python sürümüyle çalıştırılıyorsa ne yapılacağını belirlemek son derece kolay.\n",
    "\n",
    "Yukarıdaki çok basit bir kod parçası olsa da bize Python programlama diline ve bu dilin farklı sürümlerine dair son derece önemli bazı bilgiler veriyor.\n",
    "\n",
    "Eğer bu programı Python’ın 3.x sürümlerinden biri ile çalıştırdıysanız şu çıktıyı alacaksınız:\n",
    "\n",
    "\n",
    "Programa hoşgeldiniz."
   ]
  },
  {
   "cell_type": "markdown",
   "id": "f4c8eaa8-e5aa-46d0-bbd5-676a7e2745f9",
   "metadata": {},
   "source": [
    "Ama eğer bu programı Python’ın 2.x sürümlerinden biri ile çalıştırdıysanız, beklentinizin aksine, şöyle bir hata mesajı alacaksınız:\n",
    "\n",
    "\n",
    "File \"test.py\", line 5\n",
    "SyntaxError: Non-ASCII character '\\xc4' in file test.py on line 6, but no\n",
    "encoding declared; see http://www.python.org/peps/pep-0263.html for details\n"
   ]
  },
  {
   "cell_type": "markdown",
   "id": "875d19db-996e-4163-97ba-7ce7b74ceca1",
   "metadata": {},
   "source": [
    "Biz _2x_metni adlı değişkenin ekrana basılmasını beklerken Python bize bir hata mesajı gösterdi. Aslında siz bu hata mesajına hiç yabancı değilsiniz. Bunu daha önce de görmüştünüz. Hatırlarsanız önceki derslerimizde karakter kodlamalarından bahsederken, Python’ın 2.x sürümlerinde öntanımlı karakter kodlamasının ASCII olduğundan söz etmiştik. Bu yüzden programlarımızda Türkçe karakterleri kullanırken bazı ilave işlemler yapmamız gerekiyordu.\n",
    "\n",
    "Burada ilk olarak karakter kodlamasını UTF-8 olarak değiştirmemiz gerekiyor. Bunun nasıl yapılacağını biliyorsunuz. Programımızın ilk satırına şu kodu ekliyoruz:\n",
    "\n",
    "\n",
    "\n",
    "# -*- coding: utf-8 -*-\n",
    "\n"
   ]
  },
  {
   "cell_type": "code",
   "execution_count": 187,
   "id": "03cd7307-2aff-49b6-9da5-515fcb0bb0b3",
   "metadata": {},
   "outputs": [],
   "source": [
    "# -*- coding: utf-8 -*-"
   ]
  },
  {
   "cell_type": "markdown",
   "id": "883c9ed1-f7a2-4868-bc02-01695bb8e245",
   "metadata": {},
   "source": [
    "Bu satır Python3 için gerekli değil. Çünkü Python3’te öntanımlı karakter kodlaması zaten UTF-8. Ama Python2’de öntanımlı karakter kodlaması ASCII. O yüzden Python2 kullanıcılarını da düşünerek UTF-8 kodlamasını açıkça belirtiyoruz. Böylece programımızın Python’ın 2.x sürümlerinde Türkçe karakterler yüzünden çökmesini önlüyoruz.\n",
    "\n",
    "Ama burada bir problem daha var. Programımız Türkçe karakterler yüzünden çökmüyor çökmemesine ama, bu defa da Türkçe karakterleri düzgün göstermiyor:\n",
    "\n",
    "Python'Ä±n 2.x sÃ¼rÃ¼mlerinden birini kullanÄ±yorsunuz.\n",
    "ProgramÄ± Ã§alÄ±ÅŸtÄ±rabilmek iÃ§in sisteminizde Python'Ä±n\n",
    "3.x sÃ¼rÃ¼mlerinden biri kurulu olmalÄ±.\n",
    "\n",
    "\n",
    "Programımızı Python’ın 2.x sürümlerinden biri ile çalıştıranların uyarı mesajını düzgün bir şekilde görüntüleyebilmesini istiyorsanız, Türkçe karakterler içeren karakter dizilerinin en başına bir ‘u’ harfi eklemelisiniz. Yani _2x_metni adlı değişkeni şöyle yazmalısınız:"
   ]
  },
  {
   "cell_type": "code",
   "execution_count": 188,
   "id": "e005516b-ca61-4613-8446-6c294d7edc3e",
   "metadata": {},
   "outputs": [],
   "source": [
    "_2x_metni = u\"\"\"\n",
    "Python'ın 2.x sürümlerinden birini kullanıyorsunuz.\n",
    "Programı çalıştırabilmek için sisteminizde Python'ın\n",
    "3.x sürümlerinden biri kurulu olmalı.\"\"\""
   ]
  },
  {
   "cell_type": "markdown",
   "id": "c2bb7cdc-91cf-494d-a51f-cbccf7ad61bf",
   "metadata": {},
   "source": [
    "Bu karakter dizisinin en başına bir ‘u’ harfi ekleyerek bu karakter dizisini ‘unicode’ olarak tanımlamış olduk. Eğer ‘unicode’ kavramını bilmiyorsanız endişe etmeyin. İlerde bu kavramdan bolca söz edeceğiz. Biz şimdilik, içinde Türkçe karakterler geçen karakter dizilerinin Python2 kullanıcıları tarafından düzgün görüntülenebilmesi için başlarına bir ‘u’ harfi eklenmesi gerektiğini bilelim yeter.\n",
    "\n",
    "Eğer siz bir Windows kullanıcısıysanız ve bütün bu işlemlerden sonra bile Türkçe karakterleri düzgün görüntüleyemiyorsanız, bu durum muhtemelen MS-DOS komut satırının kullandığı yazı tipinin Türkçe karakterleri gösterememesinden kaynaklanıyordur. Bu problemi çözmek için MS-DOS komut satırının başlık çubuğuna sağ tıklayıp ‘özellikler’ seçeneğini seçerek yazı tipini ‘Lucida Console’ olarak değiştirin. Bu işlemin ardından da komut satırında şu komutu verin:\n",
    "\n"
   ]
  },
  {
   "cell_type": "code",
   "execution_count": 189,
   "id": "d5929967-324a-41b3-8606-b8f6de2edd70",
   "metadata": {},
   "outputs": [
    {
     "ename": "SyntaxError",
     "evalue": "invalid syntax (974190277.py, line 1)",
     "output_type": "error",
     "traceback": [
      "\u001b[0;36m  Cell \u001b[0;32mIn[189], line 1\u001b[0;36m\u001b[0m\n\u001b[0;31m    chcp 1254\u001b[0m\n\u001b[0m         ^\u001b[0m\n\u001b[0;31mSyntaxError\u001b[0m\u001b[0;31m:\u001b[0m invalid syntax\n"
     ]
    }
   ],
   "source": [
    "chcp 1254"
   ]
  },
  {
   "cell_type": "markdown",
   "id": "624ce25e-359d-48d3-a6b1-6151515fdc5f",
   "metadata": {},
   "source": [
    "Böylece Türkçe karakterleri düzgün görüntüleyebilirsiniz.\n",
    "\n",
    "MS-DOS’taki Türkçe karakter problemi hakkında daha ayrıntılı bilgi için https://web.archive.org/web/20150516030259/http://www.istihza.com/py2/python-programlarini-kaydetmek.html#ms-dos-ta-turkce-karakter-problemi adresindeki makalemizi inceleyebilirsiniz.\n",
    "Şimdiye kadar anlattıklarımızdan öğrendiğiniz gibi, sys modülü içinde sürüm denetlemeye yarayan iki farklı değişken var. Bunlardan biri version, öbürü ise version_info.\n",
    "\n",
    "Python3’te bu değişkenlerin şu çıktıları verdiğiniz biliyoruz:\n",
    "\n",
    "version:\n",
    "\n",
    "'3.7.0 (default, 19.08.2024, 12:24:55)\n",
    "[GCC 4.4.7 20120313 (Red Hat 4.4.7-3)] on linux'\n",
    "version_info:\n",
    "\n",
    "sys.version_info(major=|major3|, minor=|minor3|, micro=|micro3|, releaselevel='final', serial=0)\n",
    "Gördüğünüz gibi, çıktıların hem yapıları birbirinden farklı, hem de verdikleri bilgiler arasında bazı farklar da var. Mesela version değişkeni, kullandığımız Python sürümünün hangi tarih ve saatte, hangi işletim sistemi üzerinde derlendiği bilgisini de veriyor. Ancak kullanılan Python sürümünün ne olduğunu tespit etmek konusunda version_info biraz daha pratik görünüyor. Bu değişkenin bize major, minor ve micro gibi parametreler aracılığıyla sunduğu sayı değerli verileri işleçlerle birlikte kullanarak bu sayılar üzerinde aritmetik işlemler yapıp, kullanılan Python sürümünü kontrol edebiliyoruz.\n",
    "\n",
    "version değişkeni bize bir karakter dizisi verdiği için, bu değişkenin değerini kullanarak herhangi bir aritmetik işlem yapamıyoruz. Mesela version_info değişkeniyle yukarıda yaptığımız büyüktür-küçüktür sorgulamasını version değişkeniyle tabii ki yapamayız.\n",
    "\n",
    "Yukarıdaki örnekte seriler arası sürüm kontrolünü nasıl yapacağımızı gördük. Bunun için kullandığımız kod şuydu:\n",
    "\n"
   ]
  },
  {
   "cell_type": "code",
   "execution_count": 190,
   "id": "92645e4a-a1d2-44da-bb75-b6800c75e40e",
   "metadata": {},
   "outputs": [
    {
     "ename": "SyntaxError",
     "evalue": "incomplete input (8930096.py, line 1)",
     "output_type": "error",
     "traceback": [
      "\u001b[0;36m  Cell \u001b[0;32mIn[190], line 1\u001b[0;36m\u001b[0m\n\u001b[0;31m    if sys.version_info.major < 3:\u001b[0m\n\u001b[0m                                  ^\u001b[0m\n\u001b[0;31mSyntaxError\u001b[0m\u001b[0;31m:\u001b[0m incomplete input\n"
     ]
    }
   ],
   "source": [
    "if sys.version_info.major < 3:"
   ]
  },
  {
   "cell_type": "markdown",
   "id": "3bffbb5f-0389-46d3-b0cb-abc061c97f51",
   "metadata": {},
   "source": [
    "Burada kullanılan Python serisinin 3.x’ten düşük olduğu durumları sorguladık. Peki aynı serinin farklı sürümlerini denetlemek istersek ne yapacağız? Mesela Python’ın 3.2 sürümünü sorgulamak istersek nasıl bir kod kullanacağız?\n",
    "\n",
    "Bunun için şöyle bir şey yazabiliriz:"
   ]
  },
  {
   "cell_type": "code",
   "execution_count": 191,
   "id": "8c69d63a-3c72-4899-92de-52e1a606a90b",
   "metadata": {},
   "outputs": [],
   "source": [
    "if sys.version_info.major == 3 and sys.version_info.minor == 2:\n",
    "    ..."
   ]
  },
  {
   "cell_type": "markdown",
   "id": "96643708-0e0a-4306-a411-66c334fd75b2",
   "metadata": {},
   "source": [
    "Gördüğünüz gibi burada version_info değişkeninin hem major hem de minor parametrelerini kullandık. Ayrıca hem ana sürüm, hem de alt sürüm için belli bir koşul talep ettiğimizden ötürü and adlı Bool işlecinden de yararlandık. Çünkü koşulun gerçekleşmesi, ana sürümün 3 ve alt sürümün 2 olmasına bağlı.\n",
    "\n",
    "Yukarıdaki işlem için version değişkenini de kullanabilirdik. Dikkatlice bakın:\n",
    "\n"
   ]
  },
  {
   "cell_type": "code",
   "execution_count": 192,
   "id": "574df8d8-c62a-4d52-9d2a-f5b3deb1bda7",
   "metadata": {},
   "outputs": [],
   "source": [
    "if \"3.2\" in sys.version:\n",
    "    ..."
   ]
  },
  {
   "cell_type": "markdown",
   "id": "d3aace89-5da9-4a44-97fc-2f7a330b6697",
   "metadata": {},
   "source": [
    "Bildiğiniz gibi, version değişkeni Python’ın 3.x sürümlerinde şuna benzer bir çıktı veriyor:\n",
    "\n",
    "'3.7.0 (default, 19.08.2024, 12:24:55)\n",
    "[GCC 4.4.7 20120313 (Red Hat 4.4.7-3)] on linux'\n",
    "İşte biz burada in işlecini kullanarak, version değişkeninin verdiği karakter dizisi içinde ‘3.2’ diye bir ifade aradık.\n",
    "\n",
    "Bu konuyu daha iyi anlamak için kendi kendinize bazı denemeler yapmanızı tavsiye ederim. Ne kadar çok örnek kod yazarsanız, o kadar çok tecrübe kazanırsınız."
   ]
  },
  {
   "cell_type": "code",
   "execution_count": null,
   "id": "04914493-ad5b-49f1-a044-b9c7ef2b29b9",
   "metadata": {},
   "outputs": [],
   "source": []
  }
 ],
 "metadata": {
  "kernelspec": {
   "display_name": "Python 3 (ipykernel)",
   "language": "python",
   "name": "python3"
  },
  "language_info": {
   "codemirror_mode": {
    "name": "ipython",
    "version": 3
   },
   "file_extension": ".py",
   "mimetype": "text/x-python",
   "name": "python",
   "nbconvert_exporter": "python",
   "pygments_lexer": "ipython3",
   "version": "3.10.12"
  }
 },
 "nbformat": 4,
 "nbformat_minor": 5
}
