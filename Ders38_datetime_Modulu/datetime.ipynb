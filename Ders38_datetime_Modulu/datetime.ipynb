{
 "cells": [
  {
   "cell_type": "markdown",
   "id": "33260abb-496a-47dc-ac99-cdab4f76a89d",
   "metadata": {},
   "source": [
    "++++++++++++++++++datetime Modülü\n",
    "\n",
    "Bu bölümde, zaman, saat ve tarihlerle ilgili işlemler yapmamızı sağlayan önemli bir standart kütüphane modülünden söz edeceğiz. Bu modülün adı datetime.\n",
    "\n",
    "datetime modülü; zaman, saat ve tarihlerle ilgili işlemler yapabilmemiz için bize çeşitli fonksiyon ve nitelikler sunan bazı sınıflardan oluşur. Bu modül içinde temel olarak üç farklı sınıf bulunur."
   ]
  },
  {
   "cell_type": "markdown",
   "id": "20168c94-77e7-46bf-8740-932039af00ce",
   "metadata": {},
   "source": [
    "datetime modülü içinde yer alan bu üç sınıf şunlardır:\n",
    "\n",
    "-date sınıfı; tarihle ilgili işlemler yapabilmemizi sağlayan fonksiyon ve nitelikleri barındırır.\n",
    "\n",
    "-time sınıfı; zamanla/saatle ilgili işlemler yapabilmemizi sağlayan fonksiyon ve nitelikleri barındırır.\n",
    "\n",
    "-datetime sınıfı; date ve time sınıflarının birleşiminden ve ilave birkaç nitelik ve fonksiyondan oluşur.\n",
    "\n",
    "Buna göre, datetime adlı sınıf hem date sınıfını hem de time sınıfını kapsadığı için, datetime modülü ile işlem yapmak istediğinizde, çoğunlukla yalnızca datetime sınıfını kullanarak bütün işlerinizi halledebilirsiniz.\n",
    "\n",
    "Dolayısıyla:"
   ]
  },
  {
   "cell_type": "code",
   "execution_count": 1,
   "id": "269fcb17-66f3-435e-9e5c-b3696d6a106a",
   "metadata": {},
   "outputs": [],
   "source": [
    "from datetime import datetime"
   ]
  },
  {
   "cell_type": "markdown",
   "id": "8c40ad73-bbd5-44f2-b11b-301d9ccef737",
   "metadata": {},
   "source": [
    "Komutunu vererek datetime modülü içindeki datetime adlı sınıfı içe aktarmayı tercih edebilirsiniz.\n",
    "\n",
    "Bakalım datetime modülünün datetime sınıfı içinde neler varmış:"
   ]
  },
  {
   "cell_type": "code",
   "execution_count": 2,
   "id": "5969ed05-759e-441d-b3ad-e126c10c42e7",
   "metadata": {},
   "outputs": [
    {
     "data": {
      "text/plain": [
       "['__add__',\n",
       " '__class__',\n",
       " '__delattr__',\n",
       " '__dir__',\n",
       " '__doc__',\n",
       " '__eq__',\n",
       " '__format__',\n",
       " '__ge__',\n",
       " '__getattribute__',\n",
       " '__gt__',\n",
       " '__hash__',\n",
       " '__init__',\n",
       " '__init_subclass__',\n",
       " '__le__',\n",
       " '__lt__',\n",
       " '__ne__',\n",
       " '__new__',\n",
       " '__radd__',\n",
       " '__reduce__',\n",
       " '__reduce_ex__',\n",
       " '__repr__',\n",
       " '__rsub__',\n",
       " '__setattr__',\n",
       " '__sizeof__',\n",
       " '__str__',\n",
       " '__sub__',\n",
       " '__subclasshook__',\n",
       " 'astimezone',\n",
       " 'combine',\n",
       " 'ctime',\n",
       " 'date',\n",
       " 'day',\n",
       " 'dst',\n",
       " 'fold',\n",
       " 'fromisocalendar',\n",
       " 'fromisoformat',\n",
       " 'fromordinal',\n",
       " 'fromtimestamp',\n",
       " 'hour',\n",
       " 'isocalendar',\n",
       " 'isoformat',\n",
       " 'isoweekday',\n",
       " 'max',\n",
       " 'microsecond',\n",
       " 'min',\n",
       " 'minute',\n",
       " 'month',\n",
       " 'now',\n",
       " 'replace',\n",
       " 'resolution',\n",
       " 'second',\n",
       " 'strftime',\n",
       " 'strptime',\n",
       " 'time',\n",
       " 'timestamp',\n",
       " 'timetuple',\n",
       " 'timetz',\n",
       " 'today',\n",
       " 'toordinal',\n",
       " 'tzinfo',\n",
       " 'tzname',\n",
       " 'utcfromtimestamp',\n",
       " 'utcnow',\n",
       " 'utcoffset',\n",
       " 'utctimetuple',\n",
       " 'weekday',\n",
       " 'year']"
      ]
     },
     "execution_count": 2,
     "metadata": {},
     "output_type": "execute_result"
    }
   ],
   "source": [
    "dir(datetime)"
   ]
  },
  {
   "cell_type": "markdown",
   "id": "078cfc0f-00eb-4aa6-8d7a-edadc1d89030",
   "metadata": {},
   "source": [
    "Elbette, eğer isterseniz doğrudan datetime modülünü de içe aktarabilirsiniz:"
   ]
  },
  {
   "cell_type": "code",
   "execution_count": 6,
   "id": "7905c50c-0a97-46bf-998d-39ce4ad228dc",
   "metadata": {},
   "outputs": [],
   "source": [
    "import datetime"
   ]
  },
  {
   "cell_type": "markdown",
   "id": "dec81b4f-fa15-4c8b-88fc-a6b328bbf014",
   "metadata": {},
   "source": [
    "Bu durumda, datetime modülü içindeki datetime sınıfına erişmek için modül adını da kullanmanız gerekir:\n",
    "\n"
   ]
  },
  {
   "cell_type": "code",
   "execution_count": 7,
   "id": "a7be7178-72ac-42dd-8f75-fb301ef88258",
   "metadata": {},
   "outputs": [
    {
     "data": {
      "text/plain": [
       "['__add__',\n",
       " '__class__',\n",
       " '__delattr__',\n",
       " '__dir__',\n",
       " '__doc__',\n",
       " '__eq__',\n",
       " '__format__',\n",
       " '__ge__',\n",
       " '__getattribute__',\n",
       " '__gt__',\n",
       " '__hash__',\n",
       " '__init__',\n",
       " '__init_subclass__',\n",
       " '__le__',\n",
       " '__lt__',\n",
       " '__ne__',\n",
       " '__new__',\n",
       " '__radd__',\n",
       " '__reduce__',\n",
       " '__reduce_ex__',\n",
       " '__repr__',\n",
       " '__rsub__',\n",
       " '__setattr__',\n",
       " '__sizeof__',\n",
       " '__str__',\n",
       " '__sub__',\n",
       " '__subclasshook__',\n",
       " 'astimezone',\n",
       " 'combine',\n",
       " 'ctime',\n",
       " 'date',\n",
       " 'day',\n",
       " 'dst',\n",
       " 'fold',\n",
       " 'fromisocalendar',\n",
       " 'fromisoformat',\n",
       " 'fromordinal',\n",
       " 'fromtimestamp',\n",
       " 'hour',\n",
       " 'isocalendar',\n",
       " 'isoformat',\n",
       " 'isoweekday',\n",
       " 'max',\n",
       " 'microsecond',\n",
       " 'min',\n",
       " 'minute',\n",
       " 'month',\n",
       " 'now',\n",
       " 'replace',\n",
       " 'resolution',\n",
       " 'second',\n",
       " 'strftime',\n",
       " 'strptime',\n",
       " 'time',\n",
       " 'timestamp',\n",
       " 'timetuple',\n",
       " 'timetz',\n",
       " 'today',\n",
       " 'toordinal',\n",
       " 'tzinfo',\n",
       " 'tzname',\n",
       " 'utcfromtimestamp',\n",
       " 'utcnow',\n",
       " 'utcoffset',\n",
       " 'utctimetuple',\n",
       " 'weekday',\n",
       " 'year']"
      ]
     },
     "execution_count": 7,
     "metadata": {},
     "output_type": "execute_result"
    }
   ],
   "source": [
    "dir(datetime.datetime)"
   ]
  },
  {
   "cell_type": "markdown",
   "id": "3ebe0a7c-0383-4f9e-8151-49bbb31a195e",
   "metadata": {},
   "source": [
    "İşte biz bu bölümde, yukarıdaki komutun çıktısında gördüğümüz nitelik ve fonksiyonlar arasından en önemli olanlarını inceleyeceğiz.\n",
    "\n"
   ]
  },
  {
   "cell_type": "markdown",
   "id": "1d8e9300-7b2b-4d4a-bdad-6d543f0a1ffb",
   "metadata": {},
   "source": [
    "+++++++++++++++++++now()\n",
    "\n",
    "datetime modülünün içindeki datetime sınıfının now() adlı fonksiyonu, bize içindeki bulunduğumuz andaki tarih, saat ve zaman bilgilerini verir. datetime modülünü import datetime şeklinde içe aktardığımızı varsayarsak bunu şu şekilde kullanıyoruz:"
   ]
  },
  {
   "cell_type": "code",
   "execution_count": 8,
   "id": "30b55441-e3ed-4e9a-b882-15c6fb5ac086",
   "metadata": {},
   "outputs": [],
   "source": [
    "an = datetime.datetime.now()"
   ]
  },
  {
   "cell_type": "markdown",
   "id": "76a5185f-b1e3-48ee-b993-5fde077caf42",
   "metadata": {},
   "source": [
    "Bu fonksiyon bize datetime.datetime adlı özel bir sınıf nesnesi verir:"
   ]
  },
  {
   "cell_type": "code",
   "execution_count": 9,
   "id": "10d48d4a-76c8-4121-b2a2-aa1f53fca93c",
   "metadata": {},
   "outputs": [
    {
     "data": {
      "text/plain": [
       "datetime.datetime(2025, 3, 3, 10, 34, 56, 136293)"
      ]
     },
     "execution_count": 9,
     "metadata": {},
     "output_type": "execute_result"
    }
   ],
   "source": [
    "an"
   ]
  },
  {
   "cell_type": "markdown",
   "id": "35cae11d-7325-4fc8-9e88-639df3984f98",
   "metadata": {},
   "source": [
    "Bu özel sınıfın da kendine özgü birtakım nitelikleri bulunur.\n",
    "\n",
    "Mesela year adlı niteliği kullanarak içinde bulunduğumuz yılı sorgulayabiliriz:"
   ]
  },
  {
   "cell_type": "code",
   "execution_count": 10,
   "id": "674e3cb5-f9e7-4c56-857f-86be2af383a5",
   "metadata": {},
   "outputs": [
    {
     "data": {
      "text/plain": [
       "2025"
      ]
     },
     "execution_count": 10,
     "metadata": {},
     "output_type": "execute_result"
    }
   ],
   "source": [
    "an.year"
   ]
  },
  {
   "cell_type": "markdown",
   "id": "a53b015c-a2f1-4059-a103-a657763b4fd1",
   "metadata": {},
   "source": [
    "Aynı şekilde aşağıdaki nitelikler de, içinde bulunduğumuz ana ilişkin çeşitli bilgiler verir:\n",
    "\n"
   ]
  },
  {
   "cell_type": "code",
   "execution_count": null,
   "id": "43855fc2-7e63-46a7-9abb-e033ea5b450e",
   "metadata": {},
   "outputs": [],
   "source": [
    "an.month #ay\n",
    "\n",
    "12\n",
    "\n",
    "an.day #gün\n",
    "\n",
    "5\n",
    "\n",
    "an.hour #saat\n",
    "\n",
    "10\n",
    "\n",
    "an.minute #dakika\n",
    "\n",
    "20\n",
    "\n",
    "an.second #saniye\n",
    "\n",
    "33\n",
    "\n",
    "an.microsecond #mikrosaniye\n",
    "\n",
    "337309"
   ]
  },
  {
   "cell_type": "markdown",
   "id": "d8d741c9-8d6b-4d8a-86f5-b710ee1a8416",
   "metadata": {},
   "source": [
    "++++++++++++today()\n",
    "\n",
    "Bu fonksiyon now() ile aynı içeriğe ve işleve sahiptir. today() fonksiyonunu now fonksiyonunu kullandığınız gibi kullanabilirsiniz:"
   ]
  },
  {
   "cell_type": "code",
   "execution_count": 11,
   "id": "59995d34-d53e-42a4-b8c4-ea7d67b736f9",
   "metadata": {},
   "outputs": [
    {
     "data": {
      "text/plain": [
       "2025"
      ]
     },
     "execution_count": 11,
     "metadata": {},
     "output_type": "execute_result"
    }
   ],
   "source": [
    "bugün = datetime.datetime.today()\n",
    "\n",
    "bugün.year"
   ]
  },
  {
   "cell_type": "code",
   "execution_count": 12,
   "id": "4c9cb580-9c26-4b9c-89a4-423186fa8064",
   "metadata": {},
   "outputs": [
    {
     "data": {
      "text/plain": [
       "3"
      ]
     },
     "execution_count": 12,
     "metadata": {},
     "output_type": "execute_result"
    }
   ],
   "source": [
    "bugün.month"
   ]
  },
  {
   "cell_type": "code",
   "execution_count": 13,
   "id": "4c8ae95a-ab05-408d-adca-4df3aceb1c42",
   "metadata": {},
   "outputs": [
    {
     "data": {
      "text/plain": [
       "36"
      ]
     },
     "execution_count": 13,
     "metadata": {},
     "output_type": "execute_result"
    }
   ],
   "source": [
    "bugün.minute"
   ]
  },
  {
   "cell_type": "code",
   "execution_count": 14,
   "id": "b7762be0-8839-4396-889f-e1af4d8eca54",
   "metadata": {},
   "outputs": [
    {
     "data": {
      "text/plain": [
       "48"
      ]
     },
     "execution_count": 14,
     "metadata": {},
     "output_type": "execute_result"
    }
   ],
   "source": [
    "bugün.second"
   ]
  },
  {
   "cell_type": "code",
   "execution_count": 15,
   "id": "9cbff272-34fc-4972-a28f-8fd8aa0d27eb",
   "metadata": {},
   "outputs": [
    {
     "data": {
      "text/plain": [
       "48673"
      ]
     },
     "execution_count": 15,
     "metadata": {},
     "output_type": "execute_result"
    }
   ],
   "source": [
    "bugün.microsecond"
   ]
  },
  {
   "cell_type": "markdown",
   "id": "01ca54a0-1f63-438b-b5df-718f8cc2dd14",
   "metadata": {},
   "source": [
    "++++++++++++ctime()\n",
    "\n",
    "ctime() fonksiyonu, içinde bulunduğumuz ana ilişkin tarih ve zaman bilgilerini içeren okunaklı bir karakter dizisi verir. Bu fonksiyona, parametre olarak biraz önce oluşturduğumuza benzer bir datetime.datetime sınıfı vermemiz gerekir. Yani:\n"
   ]
  },
  {
   "cell_type": "code",
   "execution_count": 16,
   "id": "8d69a630-6aa1-4c5b-ba40-d493b8d11dd7",
   "metadata": {},
   "outputs": [
    {
     "data": {
      "text/plain": [
       "'Mon Mar  3 10:37:36 2025'"
      ]
     },
     "execution_count": 16,
     "metadata": {},
     "output_type": "execute_result"
    }
   ],
   "source": [
    "an = datetime.datetime.now()\n",
    "tarih = datetime.datetime.ctime(an)\n",
    "tarih"
   ]
  },
  {
   "cell_type": "markdown",
   "id": "f9b38762-60eb-4721-b111-7460e9fde371",
   "metadata": {},
   "source": [
    "++++++++++strftime()\n",
    "\n",
    "strftime() fonksiyonu, size tarih ve zaman bilgilerini ihtiyaçlarınız doğrultusunda biçimlendirme imkanı sunar.\n",
    "\n",
    "Bu fonksiyon toplam iki parametre alır. İlk parametre, tıpkı ctime() fonksiyonunda olduğu gibi, bir datetime.datetime sınıfıdır. İkinci parametre ise, tarih/zaman bilgisini içeren karakter dizisini nasıl biçimlendirmek istediğimizi gösteren bir biçimlendiricidir. Yani:"
   ]
  },
  {
   "cell_type": "code",
   "execution_count": 17,
   "id": "105c1af6-c4ce-4232-af47-72c0fbe4b526",
   "metadata": {},
   "outputs": [
    {
     "data": {
      "text/plain": [
       "'Mon Mar  3 10:39:28 2025'"
      ]
     },
     "execution_count": 17,
     "metadata": {},
     "output_type": "execute_result"
    }
   ],
   "source": [
    "an = datetime.datetime.now()\n",
    "tarih = datetime.datetime.strftime(an, '%c')\n",
    "tarih\n"
   ]
  },
  {
   "cell_type": "markdown",
   "id": "f982d5bd-1bb9-485a-bfa0-904dae9c06c7",
   "metadata": {},
   "source": [
    "Burada ilk parametre olarak an değişkeninin tuttuğu datetime.datetime sınıfını, ikinci parametre olarak ise %c adlı biçimlendiriciyi kullandık.\n",
    "\n",
    "%c dışında başka tarih biçimlendiricileri de bulunur:\n",
    "\n",
    "%a:\n",
    "hafta gününün kısaltılmış adı\n",
    "\n",
    "%A:\n",
    "hafta gününün tam adı\n",
    "\n",
    "%b:\n",
    "ayın kısaltılmış adı\n",
    "\n",
    "%B:\n",
    "ayın tam adı\n",
    "\n",
    "%c:\n",
    "tam tarih, saat ve zaman bilgisi\n",
    "\n",
    "%d:\n",
    "sayı değerli bir karakter dizisi olarak gün\n",
    "\n",
    "%j:\n",
    "belli bir tarihin, yılın kaçıncı gününe denk geldiğini gösteren 1-366 arası bir sayı\n",
    "\n",
    "%m:\n",
    "sayı değerli bir karakter dizisi olarak ay\n",
    "\n",
    "%U:\n",
    "belli bir tarihin yılın kaçıncı haftasına geldiğini gösteren 0-53 arası bir sayı\n",
    "\n",
    "%y:\n",
    "yılın son iki rakamı\n",
    "\n",
    "%Y:\n",
    "yılın dört haneli tam hali\n",
    "\n",
    "%x:\n",
    "tam tarih bilgisi\n",
    "\n",
    "%X:\n",
    "tam saat bilgisi\n",
    "\n",
    "Yukarıdaki biçimlendiricilerle ilgili birkaç örnek verelim:"
   ]
  },
  {
   "cell_type": "code",
   "execution_count": 18,
   "id": "179f2f09-10c3-40ff-aae1-8972bdbf5c18",
   "metadata": {},
   "outputs": [
    {
     "data": {
      "text/plain": [
       "'2025'"
      ]
     },
     "execution_count": 18,
     "metadata": {},
     "output_type": "execute_result"
    }
   ],
   "source": [
    "datetime.datetime.strftime(an, '%Y') # Yıl\n"
   ]
  },
  {
   "cell_type": "code",
   "execution_count": 20,
   "id": "6fb52b2b-95da-4a40-a42b-5e26088b18a8",
   "metadata": {},
   "outputs": [
    {
     "data": {
      "text/plain": [
       "'10:39:28'"
      ]
     },
     "execution_count": 20,
     "metadata": {},
     "output_type": "execute_result"
    }
   ],
   "source": [
    "datetime.datetime.strftime(an, '%X') # Saat\n"
   ]
  },
  {
   "cell_type": "code",
   "execution_count": 21,
   "id": "5299c99e-c0b7-4c40-ad35-5029383566c5",
   "metadata": {},
   "outputs": [
    {
     "data": {
      "text/plain": [
       "'03'"
      ]
     },
     "execution_count": 21,
     "metadata": {},
     "output_type": "execute_result"
    }
   ],
   "source": [
    "datetime.datetime.strftime(an, '%d') # Gün\n"
   ]
  },
  {
   "cell_type": "markdown",
   "id": "7bb6495c-f6ab-47a1-b859-b2b389fa6ac7",
   "metadata": {},
   "source": [
    "strftime() fonksiyonu öntanımlı olarak İngilizce çıktı verecektir:"
   ]
  },
  {
   "cell_type": "code",
   "execution_count": 22,
   "id": "00a83a54-48ac-4e22-8f89-8a8bb5ecda5b",
   "metadata": {},
   "outputs": [
    {
     "data": {
      "text/plain": [
       "'Monday'"
      ]
     },
     "execution_count": 22,
     "metadata": {},
     "output_type": "execute_result"
    }
   ],
   "source": [
    "datetime.datetime.strftime(an, '%A')\n"
   ]
  },
  {
   "cell_type": "code",
   "execution_count": 23,
   "id": "fd0207b5-0061-42d1-8ffa-6b98c9a88ab7",
   "metadata": {},
   "outputs": [
    {
     "data": {
      "text/plain": [
       "'March'"
      ]
     },
     "execution_count": 23,
     "metadata": {},
     "output_type": "execute_result"
    }
   ],
   "source": [
    "datetime.datetime.strftime(an, '%B')\n"
   ]
  },
  {
   "cell_type": "markdown",
   "id": "f95243e5-5a67-4cae-8f40-9609399d9495",
   "metadata": {},
   "source": [
    "Eğer isterseniz, locale adlı başka bir modülü kullanarak, strftime() modülünün, sisteminizdeki tanımlı dili kullanmasını sağlayabilirsiniz.\n",
    "\n",
    "Bunun için öncelikle locale modülünü içe aktaralım:"
   ]
  },
  {
   "cell_type": "code",
   "execution_count": 24,
   "id": "c06d13aa-8322-43c9-ba8b-38240c6d70e9",
   "metadata": {},
   "outputs": [],
   "source": [
    "import locale"
   ]
  },
  {
   "cell_type": "markdown",
   "id": "d616cd61-542e-4055-88c3-729c09afac5e",
   "metadata": {},
   "source": [
    "Ardından Python’ın kullanmasını istediğimiz yerel/dil bilgisini, sistemdeki öntanımlı yerel/dil olarak ayarlayalım:\n",
    "\n"
   ]
  },
  {
   "cell_type": "code",
   "execution_count": 25,
   "id": "72f02cff-1867-4c3f-921d-3d3fd034d089",
   "metadata": {},
   "outputs": [
    {
     "data": {
      "text/plain": [
       "'LC_CTYPE=en_US.UTF-8;LC_NUMERIC=tr_TR.UTF-8;LC_TIME=tr_TR.UTF-8;LC_COLLATE=en_US.UTF-8;LC_MONETARY=tr_TR.UTF-8;LC_MESSAGES=en_US.UTF-8;LC_PAPER=tr_TR.UTF-8;LC_NAME=tr_TR.UTF-8;LC_ADDRESS=tr_TR.UTF-8;LC_TELEPHONE=tr_TR.UTF-8;LC_MEASUREMENT=tr_TR.UTF-8;LC_IDENTIFICATION=tr_TR.UTF-8'"
      ]
     },
     "execution_count": 25,
     "metadata": {},
     "output_type": "execute_result"
    }
   ],
   "source": [
    "locale.setlocale(locale.LC_ALL, '')"
   ]
  },
  {
   "cell_type": "markdown",
   "id": "f18f5a96-22e3-4722-8a8f-0cabf1734829",
   "metadata": {},
   "source": [
    "Bu çıktı bize sistemimizdeki tanımlı dilin/yerelin Türkçe olduğunu söylüyor. Bu komutu verdikten sonra, artık strftime() fonksiyonu, ilgili dile/yerele uygun bir çıktı verecektir:"
   ]
  },
  {
   "cell_type": "code",
   "execution_count": 26,
   "id": "849d0153-d0fa-4c0c-ae2d-3c78bd09de32",
   "metadata": {},
   "outputs": [
    {
     "data": {
      "text/plain": [
       "'Mart'"
      ]
     },
     "execution_count": 26,
     "metadata": {},
     "output_type": "execute_result"
    }
   ],
   "source": [
    "datetime.datetime.strftime(an, '%B')\n"
   ]
  },
  {
   "cell_type": "code",
   "execution_count": 27,
   "id": "51a79cc6-dc89-4723-a529-b2d6dcfef1c1",
   "metadata": {},
   "outputs": [
    {
     "data": {
      "text/plain": [
       "'Pazartesi'"
      ]
     },
     "execution_count": 27,
     "metadata": {},
     "output_type": "execute_result"
    }
   ],
   "source": [
    "datetime.datetime.strftime(an, '%A')\n"
   ]
  },
  {
   "cell_type": "markdown",
   "id": "be912bbf-1b8c-4fdf-b71f-6e9c57c46aa8",
   "metadata": {},
   "source": [
    "++++++++strptime()\n",
    "\n",
    "Diyelim ki elimizde, herhangi bir kaynaktan gelmiş şöyle bir karakter dizisi var:"
   ]
  },
  {
   "cell_type": "code",
   "execution_count": 31,
   "id": "19773e00-7cfb-40bd-bca3-6895558cdbbd",
   "metadata": {},
   "outputs": [],
   "source": [
    "t = '27 Mayıs 2014'"
   ]
  },
  {
   "cell_type": "markdown",
   "id": "ef9969ae-df7c-4f5a-8284-8077c7f4fef0",
   "metadata": {},
   "source": [
    "Amacımız, tarih bilgisi içeren bu karakter dizisini gün, ay ve yıl öğelerine ayırmak. Bunun için basitçe şöyle bir kod yazabiliriz:\n",
    "\n"
   ]
  },
  {
   "cell_type": "code",
   "execution_count": 32,
   "id": "3038078e-61cb-4e2b-ba3a-dd0b67525ab9",
   "metadata": {},
   "outputs": [
    {
     "data": {
      "text/plain": [
       "'27'"
      ]
     },
     "execution_count": 32,
     "metadata": {},
     "output_type": "execute_result"
    }
   ],
   "source": [
    "gün, ay, yıl = t.split()\n",
    "gün"
   ]
  },
  {
   "cell_type": "code",
   "execution_count": 33,
   "id": "f645bd1d-5b88-40fc-a7e3-c7ac74a46f8b",
   "metadata": {},
   "outputs": [
    {
     "data": {
      "text/plain": [
       "'Mayıs'"
      ]
     },
     "execution_count": 33,
     "metadata": {},
     "output_type": "execute_result"
    }
   ],
   "source": [
    "ay"
   ]
  },
  {
   "cell_type": "code",
   "execution_count": 34,
   "id": "b445c026-9dd1-4a14-95bc-99b333a402ca",
   "metadata": {},
   "outputs": [
    {
     "data": {
      "text/plain": [
       "'2014'"
      ]
     },
     "execution_count": 34,
     "metadata": {},
     "output_type": "execute_result"
    }
   ],
   "source": [
    "yıl"
   ]
  },
  {
   "cell_type": "markdown",
   "id": "c0cc423f-f1f4-425f-95cf-0fcede9fe25c",
   "metadata": {},
   "source": [
    "Peki eğer elimizdeki karakter dizisi şöyle bir şeyse ne yapacağız?"
   ]
  },
  {
   "cell_type": "code",
   "execution_count": 35,
   "id": "85ad9a11-acd9-4495-9706-f97bfecdfa5a",
   "metadata": {},
   "outputs": [],
   "source": [
    "t = '27 Mayıs 2014 saat 12:34:44'\n"
   ]
  },
  {
   "cell_type": "markdown",
   "id": "c7743caf-60f5-4078-931a-23ed4466c31e",
   "metadata": {},
   "source": [
    "Bunun için de t değişkeni üzerine split() metodunu uyguladıktan sonra ‘saat’ kelimesini listeden atmayı tercih edebiliriz:"
   ]
  },
  {
   "cell_type": "code",
   "execution_count": 36,
   "id": "75d654bf-474a-406d-b2ed-57647ba78518",
   "metadata": {},
   "outputs": [
    {
     "data": {
      "text/plain": [
       "'27'"
      ]
     },
     "execution_count": 36,
     "metadata": {},
     "output_type": "execute_result"
    }
   ],
   "source": [
    "gün, ay, yıl, saat = [i for i in t.split() if 'saat' not in i]\n",
    "gün"
   ]
  },
  {
   "cell_type": "code",
   "execution_count": 37,
   "id": "0ec23266-29b7-43c4-908e-15393b23fd16",
   "metadata": {},
   "outputs": [
    {
     "data": {
      "text/plain": [
       "'Mayıs'"
      ]
     },
     "execution_count": 37,
     "metadata": {},
     "output_type": "execute_result"
    }
   ],
   "source": [
    "ay"
   ]
  },
  {
   "cell_type": "code",
   "execution_count": 38,
   "id": "9b3124bb-4d39-4031-b1b0-ed2ca43c794b",
   "metadata": {},
   "outputs": [
    {
     "data": {
      "text/plain": [
       "'2014'"
      ]
     },
     "execution_count": 38,
     "metadata": {},
     "output_type": "execute_result"
    }
   ],
   "source": [
    "yıl"
   ]
  },
  {
   "cell_type": "code",
   "execution_count": 39,
   "id": "e41f0735-1e91-4548-83c3-9606af418f3c",
   "metadata": {},
   "outputs": [
    {
     "data": {
      "text/plain": [
       "'12:34:44'"
      ]
     },
     "execution_count": 39,
     "metadata": {},
     "output_type": "execute_result"
    }
   ],
   "source": [
    "saat"
   ]
  },
  {
   "cell_type": "markdown",
   "id": "7db498ab-912f-477d-b287-a0e570431ea9",
   "metadata": {},
   "source": [
    "Yukarıdaki yöntemler, tarih bilgisi içeren karakter dizilerini ayıklamak için geçerli ve uygun olsa da epey meşakkatlidir. Üstelik bu şekilde ayıkladığımız verilerin kullanım alanı da oldukça kısıtlı olacaktır. Mesela bu verileri datetime.datetime türünde verileri bekleyen uygulamalar içinde kullanamayız.\n",
    "\n",
    "İşte böyle bir durumda strptime() adlı fonksiyon devreye girerek, tarih/zaman bilgisi içeren herhangi bir karakter dizisini datetime.datetime türünde bir nesneye dönüştürebilmemiz için bize bir yol sunar.\n",
    "\n",
    "Şimdi dikkatlice bakın:\n",
    "\n",
    "Elimizdeki karakter dizisi şu:\n",
    "\n"
   ]
  },
  {
   "cell_type": "code",
   "execution_count": 40,
   "id": "e48b0cfb-c197-4c68-9efd-ccc332011ac3",
   "metadata": {},
   "outputs": [],
   "source": [
    "t = '27 Mayıs 2014 saat 12:34:44'\n"
   ]
  },
  {
   "cell_type": "markdown",
   "id": "2323a58b-29c1-4bbe-9dd4-b27d0bbc00eb",
   "metadata": {},
   "source": [
    "Şimdi bu karakter dizisini strptime() fonksiyonunu kullanarak ayıklıyoruz:"
   ]
  },
  {
   "cell_type": "code",
   "execution_count": 41,
   "id": "447bbed5-bf4a-4fbb-84ed-b5c665e597ee",
   "metadata": {},
   "outputs": [],
   "source": [
    "z = datetime.datetime.strptime(t, '%d %B %Y saat %H:%M:%S')"
   ]
  },
  {
   "cell_type": "code",
   "execution_count": 42,
   "id": "e6f133e7-f8a6-4f3e-a3d0-36b46ca179c6",
   "metadata": {},
   "outputs": [
    {
     "name": "stdout",
     "output_type": "stream",
     "text": [
      "2014-05-27 12:34:44\n"
     ]
    }
   ],
   "source": [
    "print(z)"
   ]
  },
  {
   "cell_type": "markdown",
   "id": "8dd7e8e7-4e6d-40da-bfea-b3dd873a668f",
   "metadata": {},
   "source": [
    "Gördüğünüz gibi, strptime() fonksiyonu iki parametre alıyor. İlk parametre, ayıklamak istediğimiz, tarih-zaman bilgisi içeren karakter dizisi. İkinci parametre ise, bu karakter dizisinin yapısını temsil eden tarih biçimlendiricilerden oluşan başka bir karakter dizisi. Bu karakter dizisi, '27 Mayıs 2014 saat 12:34:44' adlı karakter dizisinin içindeki, tarih ve saati gösteren kısımların her biri için bir biçimlendirici içeriyor:\n",
    "\n"
   ]
  },
  {
   "cell_type": "code",
   "execution_count": null,
   "id": "d89aa21c-968c-4766-95af-3567c39ed65a",
   "metadata": {},
   "outputs": [],
   "source": [
    "27      ==> %d\n",
    "Mayıs   ==> %B\n",
    "2014    ==> %Y\n",
    "12      ==> %H\n",
    "34      ==> %M\n",
    "44      ==> %S"
   ]
  },
  {
   "cell_type": "markdown",
   "id": "44444ec9-6b18-4c9d-983d-83b48ad0c501",
   "metadata": {},
   "source": [
    "Bu şekilde bir datetime.datetime nesnesi oluşturduktan sonra, artık bu nesnenin öğelerine, herhangi bir datetime.datetime nesnesi gibi erişebiliriz:\n",
    "\n"
   ]
  },
  {
   "cell_type": "code",
   "execution_count": 43,
   "id": "bfdca111-ffe8-4e95-ae0c-aa6b930da0de",
   "metadata": {},
   "outputs": [
    {
     "data": {
      "text/plain": [
       "5"
      ]
     },
     "execution_count": 43,
     "metadata": {},
     "output_type": "execute_result"
    }
   ],
   "source": [
    "z.month"
   ]
  },
  {
   "cell_type": "code",
   "execution_count": 44,
   "id": "3e564271-12b1-450d-9e2e-4136cae01af8",
   "metadata": {},
   "outputs": [
    {
     "data": {
      "text/plain": [
       "27"
      ]
     },
     "execution_count": 44,
     "metadata": {},
     "output_type": "execute_result"
    }
   ],
   "source": [
    "z.day"
   ]
  },
  {
   "cell_type": "code",
   "execution_count": 45,
   "id": "db643084-0d3d-4a92-a009-e8eb8814e39e",
   "metadata": {},
   "outputs": [
    {
     "data": {
      "text/plain": [
       "2014"
      ]
     },
     "execution_count": 45,
     "metadata": {},
     "output_type": "execute_result"
    }
   ],
   "source": [
    "z.year"
   ]
  },
  {
   "cell_type": "code",
   "execution_count": 46,
   "id": "b874c9a6-3e49-458f-9aee-9eecaac3e4b3",
   "metadata": {},
   "outputs": [
    {
     "data": {
      "text/plain": [
       "12"
      ]
     },
     "execution_count": 46,
     "metadata": {},
     "output_type": "execute_result"
    }
   ],
   "source": [
    "z.hour"
   ]
  },
  {
   "cell_type": "code",
   "execution_count": 47,
   "id": "d7740639-7568-49f4-9867-5c14c93b03cb",
   "metadata": {},
   "outputs": [
    {
     "data": {
      "text/plain": [
       "34"
      ]
     },
     "execution_count": 47,
     "metadata": {},
     "output_type": "execute_result"
    }
   ],
   "source": [
    "z.minute"
   ]
  },
  {
   "cell_type": "code",
   "execution_count": 48,
   "id": "e5fa448e-ccec-440d-a5f9-075624f47cd3",
   "metadata": {},
   "outputs": [
    {
     "data": {
      "text/plain": [
       "44"
      ]
     },
     "execution_count": 48,
     "metadata": {},
     "output_type": "execute_result"
    }
   ],
   "source": [
    "z.second"
   ]
  },
  {
   "cell_type": "markdown",
   "id": "9f3ee230-d202-4174-88e5-0288598ac81e",
   "metadata": {},
   "source": [
    "+++++++++++++fromtimestamp()\n",
    "\n",
    "Hatırlarsanız os modülünü anlatırken stat() adlı bir fonksiyondan söz etmiştik. Bu fonksiyonun, dosyalar hakkında bilgi almamızı sağladığını biliyorsunuz:\n",
    "\n"
   ]
  },
  {
   "cell_type": "code",
   "execution_count": null,
   "id": "0dcfe54a-f8bb-44c2-828d-d6716be0bf38",
   "metadata": {},
   "outputs": [],
   "source": [
    "os.stat('dosya_adı')"
   ]
  },
  {
   "cell_type": "markdown",
   "id": "2791676e-3972-4cfd-b634-bb72547ecbc2",
   "metadata": {},
   "source": [
    "Mesela bir dosyanın son değiştirilme tarihi öğrenmek için şöyle bir kod kullanıyorduk:"
   ]
  },
  {
   "cell_type": "code",
   "execution_count": null,
   "id": "175498de-0b5f-4615-86e0-bf23ac0f7962",
   "metadata": {},
   "outputs": [],
   "source": [
    "os.stat('dosya_adı').st_mtime"
   ]
  },
  {
   "cell_type": "markdown",
   "id": "97fa45a4-c479-46d5-8120-32567952827c",
   "metadata": {},
   "source": [
    "st_mtime niteliği bize şuna benzer bir çıktı veriyor:"
   ]
  },
  {
   "cell_type": "code",
   "execution_count": null,
   "id": "3d6689cc-0599-437f-b656-d2764095e323",
   "metadata": {},
   "outputs": [],
   "source": [
    "1417784445.8881965"
   ]
  },
  {
   "cell_type": "markdown",
   "id": "b807622d-916f-40c7-a23a-2e124c17f6b3",
   "metadata": {},
   "source": [
    "Bu, içinde ayrıntılı tarih bilgisi barındıran bir zaman damgasıdır (timestamp). İşte bu zaman damgasını anlamlı bir tarih bilgisine dönüştürebilmek için datetime modülünün datetime sınıfı içindeki fromtimestamp() adlı fonksiyondan yararlanacağız:"
   ]
  },
  {
   "cell_type": "code",
   "execution_count": null,
   "id": "5bfd9413-7e27-49dc-9e4b-90243009762c",
   "metadata": {},
   "outputs": [],
   "source": [
    "zaman_damgası = os.stat('dosya_adı').st_mtime\n",
    "tarih = datetime.datetime.fromtimestamp(zaman_damgası)\n",
    "tarih"
   ]
  },
  {
   "cell_type": "raw",
   "id": "0a3277b0-60e7-4f19-ae30-84f00da49639",
   "metadata": {},
   "source": [
    "datetime.datetime(2014, 12, 5, 15, 0, 45, 888196)"
   ]
  },
  {
   "cell_type": "markdown",
   "id": "ce8078eb-7513-4957-8a8c-05abf12b0b35",
   "metadata": {},
   "source": [
    "Bu şekilde bir datetime.datetime nesnesi elde ettikten sonra artık bu nesneyi istediğimiz şekilde manipüle edebiliriz. Mesela:\n",
    "\n"
   ]
  },
  {
   "cell_type": "code",
   "execution_count": null,
   "id": "90ca7b44-34f6-4cea-b53a-3dc90ae6ffeb",
   "metadata": {},
   "outputs": [],
   "source": [
    "datetime.datetime.strftime(tarih, '%c')"
   ]
  },
  {
   "cell_type": "code",
   "execution_count": null,
   "id": "61191160-9d62-4894-8f48-82d6e633b31f",
   "metadata": {},
   "outputs": [],
   "source": [
    "'12/05/14 15:00:45'"
   ]
  },
  {
   "cell_type": "markdown",
   "id": "2a7f1846-f6ed-4390-b519-ac4f03af3e25",
   "metadata": {},
   "source": [
    "\n",
    "Demek ki 1417784445.8881965 zaman damgası, içinde ‘12/05/14 15:00:45’ tarihini barındırıyormuş.\n",
    "\n"
   ]
  },
  {
   "cell_type": "markdown",
   "id": "3e452158-6408-4489-ab83-a27afb2ee8b5",
   "metadata": {},
   "source": [
    "+++++++++++++++++++timestamp()\n",
    "\n",
    "Eğer datetime.datetime nesnelerinden bir zaman damgası üretmek isterseniz timestamp() fonksiyonunu kullanabilirsiniz:\n",
    "\n"
   ]
  },
  {
   "cell_type": "code",
   "execution_count": 53,
   "id": "a713905b-937c-4d3e-8e74-234e583682d4",
   "metadata": {},
   "outputs": [
    {
     "data": {
      "text/plain": [
       "1740988402.349381"
      ]
     },
     "execution_count": 53,
     "metadata": {},
     "output_type": "execute_result"
    }
   ],
   "source": [
    "tarih = datetime.datetime.now()\n",
    "zaman_damgası = datetime.datetime.timestamp(tarih)\n",
    "zaman_damgası\n"
   ]
  },
  {
   "cell_type": "markdown",
   "id": "52d8e140-7b27-410d-83b3-57f245269f57",
   "metadata": {},
   "source": [
    "Eğer daha sonra bu zaman damgasını anlamlı bir tarihe dönüştürmeniz gerekirse fromtimestamp() fonksiyonunu kullanabileceğinizi biliyorsunuz:"
   ]
  },
  {
   "cell_type": "code",
   "execution_count": 54,
   "id": "73fcf223-275b-458b-ba13-c2444215d714",
   "metadata": {},
   "outputs": [],
   "source": [
    "tarih = datetime.datetime.fromtimestamp(zaman_damgası)"
   ]
  },
  {
   "cell_type": "markdown",
   "id": "c52a44e7-24e7-4d2a-a4da-ca547d6ba6a4",
   "metadata": {},
   "source": [
    "++++++++++++++Tarihlerle İlgili Aritmetik İşlemler\n",
    "\n",
    "datetime modülünü kullanarak, tarihler arasında çıkarma-toplama gibi çeşitli aritmetik işlemler de yapabilirsiniz. Bu bölümde bu işlemleri nasıl yapacağımızı anlatacağız.\n",
    "\n"
   ]
  },
  {
   "cell_type": "markdown",
   "id": "6deab85d-7d32-42eb-832a-7d87e6993c91",
   "metadata": {},
   "source": [
    "++++++++++++Belirli Bir Tarihi Kaydetmek\n",
    "\n",
    "Python’da datetime modülünü kullanarak bugünün tarihini bir datetime.datetime sınıfı olarak nasıl alabileceğimizi biliyoruz:\n",
    "\n"
   ]
  },
  {
   "cell_type": "code",
   "execution_count": null,
   "id": "563431bc-b342-44da-bbd5-781c2c6e1e21",
   "metadata": {},
   "outputs": [],
   "source": [
    "datetime.datetime.now()"
   ]
  },
  {
   "cell_type": "markdown",
   "id": "d03cf093-ca98-47ce-8f16-f6067f855e57",
   "metadata": {},
   "source": [
    "veya:"
   ]
  },
  {
   "cell_type": "code",
   "execution_count": null,
   "id": "e7f15a33-8645-4b25-8701-bf6d6c408e10",
   "metadata": {},
   "outputs": [],
   "source": [
    "datetime.datetime.today()"
   ]
  },
  {
   "cell_type": "markdown",
   "id": "127182d7-796c-41c1-a622-d013d8d1504b",
   "metadata": {},
   "source": [
    "Peki biz mesela bugünün değil de, geçmişteki veya gelecekteki belirli bir tarihi almak istersek ne yapacağız?\n",
    "\n",
    "Bu iş içinde yine datetime modülünün datetime adlı sınıfından yararlanacağız.\n",
    "\n",
    "Diyelim ki 16 Şubat 2016, saat 13:45:32’yi bir datetime sınıfı olarak kaydetmek istiyoruz. Bunun için şöyle bir kod kullanacağız:"
   ]
  },
  {
   "cell_type": "code",
   "execution_count": 55,
   "id": "6997de54-bf2e-4c8c-a9c5-1c96ca380a76",
   "metadata": {},
   "outputs": [],
   "source": [
    "tarih = datetime.datetime(2016, 2, 16, 13, 45, 32)"
   ]
  },
  {
   "cell_type": "markdown",
   "id": "d1f43356-b9b5-4639-8bea-e5682733ef6a",
   "metadata": {},
   "source": [
    "Gördüğünüz gibi, belirli bir tarihi bir datetime.datetime nesnesi olarak kaydetmek istediğimizde datetime sınıfına parametre olarak sırasıyla ilgili tarihin yıl, ay, gün, saat, dakika ve saniye kısımlarını giriyoruz.\n",
    "\n",
    "Bu arada, eğer isterseniz bu tarih için bir mikrosaniye de belirtebilirsiniz:"
   ]
  },
  {
   "cell_type": "code",
   "execution_count": 56,
   "id": "163e5373-1608-4544-be9e-796a1bea569c",
   "metadata": {},
   "outputs": [],
   "source": [
    "tarih = datetime.datetime(2016, 2, 16, 13, 45, 32, 5)"
   ]
  },
  {
   "cell_type": "markdown",
   "id": "8b0f5964-10a1-471b-bb9a-12f25ce08a8b",
   "metadata": {},
   "source": [
    "Böylece belirli bir tarihi bir datetime sınıfı olarak kaydetmiş olduk. Bu sınıf, datetime.datetime nesnelerinin bütün özelliklerine sahiptir:"
   ]
  },
  {
   "cell_type": "code",
   "execution_count": 57,
   "id": "c8d1136a-93ff-4d7f-8adf-5d0463d5d43c",
   "metadata": {},
   "outputs": [
    {
     "data": {
      "text/plain": [
       "2016"
      ]
     },
     "execution_count": 57,
     "metadata": {},
     "output_type": "execute_result"
    }
   ],
   "source": [
    "tarih.year"
   ]
  },
  {
   "cell_type": "code",
   "execution_count": 58,
   "id": "bee8cd18-2136-403c-9799-cbc48dc7c67f",
   "metadata": {},
   "outputs": [
    {
     "data": {
      "text/plain": [
       "16"
      ]
     },
     "execution_count": 58,
     "metadata": {},
     "output_type": "execute_result"
    }
   ],
   "source": [
    "tarih.day\n"
   ]
  },
  {
   "cell_type": "code",
   "execution_count": 59,
   "id": "962072f6-b3b1-4c8a-ae86-b04147004be3",
   "metadata": {},
   "outputs": [
    {
     "data": {
      "text/plain": [
       "2"
      ]
     },
     "execution_count": 59,
     "metadata": {},
     "output_type": "execute_result"
    }
   ],
   "source": [
    "tarih.month"
   ]
  },
  {
   "cell_type": "markdown",
   "id": "71c1171f-3762-4728-9aa1-4ed7b24c0862",
   "metadata": {},
   "source": [
    "++++++++++++++İki Tarih Arasındaki Farkı Bulmak\n",
    "\n",
    "Size şöyle bir soru sormama izin verin: Diyelim ki bugünün tarihi 9 Aralık 2014. Doğum tarihimizin 27 Mayıs olduğunu varsayarsak, acaba 2015 yılındaki doğum günümüze kaç gün kaldığını nasıl bulabiliriz?\n",
    "\n",
    "Bunun için öncelikle bugünün tarihini bir datetime.datetime nesnesi olarak alalım:\n",
    "\n"
   ]
  },
  {
   "cell_type": "code",
   "execution_count": 60,
   "id": "da409deb-6c2f-4c55-8f30-a00bcbeb6a45",
   "metadata": {},
   "outputs": [],
   "source": [
    "bugün = datetime.datetime.today()"
   ]
  },
  {
   "cell_type": "markdown",
   "id": "d062b8c0-ab6f-40e5-9a01-61eefe00a46f",
   "metadata": {},
   "source": [
    "Şimdi de doğumgünümüze denk gelen tarihi bir datetime.datetime nesnesi olarak kaydedelim:\n",
    "\n"
   ]
  },
  {
   "cell_type": "code",
   "execution_count": 63,
   "id": "cc5864e6-d56d-4b4c-8b70-ea15f252ea7c",
   "metadata": {},
   "outputs": [],
   "source": [
    "doğumgünü = datetime.datetime(2025, 5, 27)"
   ]
  },
  {
   "cell_type": "markdown",
   "id": "43bc1b0e-ea4b-4df8-a31d-0f1978e49d3f",
   "metadata": {},
   "source": [
    "Şimdi de bu iki tarih arasındaki farkı bulalım:"
   ]
  },
  {
   "cell_type": "code",
   "execution_count": 64,
   "id": "dc5f8548-a39e-45ad-9469-9585d6298712",
   "metadata": {},
   "outputs": [
    {
     "data": {
      "text/plain": [
       "datetime.timedelta(days=84, seconds=46785, microseconds=46516)"
      ]
     },
     "execution_count": 64,
     "metadata": {},
     "output_type": "execute_result"
    }
   ],
   "source": [
    "fark = doğumgünü - bugün\n",
    "fark\n"
   ]
  },
  {
   "cell_type": "markdown",
   "id": "1c841659-7a6b-4e12-9571-f8f0dcda7137",
   "metadata": {},
   "source": [
    "Buradan elde ettiğimiz şey bir timedelta nesnesi. Bu nesne, tarihler arasındaki farkı gün, saniye ve mikrosaniye olarak tutan özel bir veri tipidir. Yukarıdaki çıktıdan anladığımıza göre, 27 Mayıs 2015 tarihi ile 9 Aralık 2014 tarihi arasında 168 gün, 34694 saniye ve 719236 mikrosaniye varmış…\n",
    "\n",
    "Yukarıdaki timedelta nesnesinin niteliklerine şu şekilde ulaşabilirsiniz:"
   ]
  },
  {
   "cell_type": "code",
   "execution_count": 65,
   "id": "45a030d7-1cf2-4031-981c-56cdd89cb6e1",
   "metadata": {},
   "outputs": [
    {
     "data": {
      "text/plain": [
       "84"
      ]
     },
     "execution_count": 65,
     "metadata": {},
     "output_type": "execute_result"
    }
   ],
   "source": [
    "fark.days #gün"
   ]
  },
  {
   "cell_type": "code",
   "execution_count": 66,
   "id": "7de5406f-4b57-4eb5-9a86-a37bf06a0226",
   "metadata": {},
   "outputs": [
    {
     "data": {
      "text/plain": [
       "46785"
      ]
     },
     "execution_count": 66,
     "metadata": {},
     "output_type": "execute_result"
    }
   ],
   "source": [
    "fark.seconds #saniye"
   ]
  },
  {
   "cell_type": "code",
   "execution_count": 67,
   "id": "68293481-b8cf-42b1-9354-3707e34ef70a",
   "metadata": {},
   "outputs": [
    {
     "data": {
      "text/plain": [
       "46516"
      ]
     },
     "execution_count": 67,
     "metadata": {},
     "output_type": "execute_result"
    }
   ],
   "source": [
    "fark.microseconds #mikrosaniye"
   ]
  },
  {
   "cell_type": "markdown",
   "id": "cf6fff16-9741-4a4b-ae5f-41c544c33466",
   "metadata": {},
   "source": [
    "++++++++++İleri Bir Tarihi Bulmak\n",
    "\n",
    "Diyelim ki 200 gün sonra hangi tarihte olacağımızı bulmak istiyoruz. Tıpkı bir önceki başlıkta tartıştığımız gibi, bu isteğimizi yerine getirmek için de timedelta nesnesinden yararlanacağız.\n",
    "\n",
    "Önce bugünün tarihini bulalım:"
   ]
  },
  {
   "cell_type": "code",
   "execution_count": 68,
   "id": "56694424-f1fd-4129-a48f-2e00a1b870fa",
   "metadata": {},
   "outputs": [],
   "source": [
    "bugün = datetime.datetime.today()"
   ]
  },
  {
   "cell_type": "markdown",
   "id": "1b18a446-cabc-4c1f-861e-ef20353d843c",
   "metadata": {},
   "source": [
    "Şimdi 200 günlük farkı bir timedelta nesnesi olarak kaydedelim:"
   ]
  },
  {
   "cell_type": "code",
   "execution_count": 69,
   "id": "f4c2e076-291c-46c6-b09f-e7799a53e7fa",
   "metadata": {},
   "outputs": [],
   "source": [
    "fark = datetime.timedelta(days=200)"
   ]
  },
  {
   "cell_type": "markdown",
   "id": "ccd5ee0e-9bba-4709-a043-57e6708f1867",
   "metadata": {},
   "source": [
    "Burada datetime modülünün timedelta() fonksiyonunun days adlı parametresini 200 değeri ile çağırdığımıza dikkat edin. days adlı parametrenin dışında, timedelta() fonksiyonu şu parametrelere de sahiptir:\n",
    "\n"
   ]
  },
  {
   "cell_type": "code",
   "execution_count": null,
   "id": "59eb4ac2-ee53-41ea-9937-47c8bbb0842a",
   "metadata": {},
   "outputs": [],
   "source": [
    "fark = datetime.timedelta(days=200, seconds=40, microseconds=30)"
   ]
  },
  {
   "cell_type": "markdown",
   "id": "f799c1b9-eaf8-43b5-b629-2457929cb011",
   "metadata": {},
   "source": [
    "Gördüğünüz gibi, gün dışında saniye (seconds) ve mikrosaniye (microseconds) ayarlarını da yapabiliyoruz. Yukarıdaki belirlediğimiz timedelta nesnesi doğrultusunda 200 gün, 40 saniye ve 30 mikrosaniye geleceğe gidelim:"
   ]
  },
  {
   "cell_type": "code",
   "execution_count": 70,
   "id": "e7969624-8ad2-4234-aa8f-5d2d4da6c82b",
   "metadata": {},
   "outputs": [],
   "source": [
    "gelecek = bugün + fark"
   ]
  },
  {
   "cell_type": "code",
   "execution_count": 71,
   "id": "3883c0a6-bf2b-4d42-8e87-9b1b62daa09e",
   "metadata": {},
   "outputs": [
    {
     "data": {
      "text/plain": [
       "datetime.datetime(2025, 9, 19, 11, 3, 7, 583344)"
      ]
     },
     "execution_count": 71,
     "metadata": {},
     "output_type": "execute_result"
    }
   ],
   "source": [
    "gelecek"
   ]
  },
  {
   "cell_type": "markdown",
   "id": "0291775c-5b7e-4add-af28-9f1735115baa",
   "metadata": {},
   "source": [
    "Bu tarihi anlamlı bir karakter dizisine dönüştürelim:"
   ]
  },
  {
   "cell_type": "code",
   "execution_count": 72,
   "id": "fc7c9234-819e-44f1-b7c1-434703a8cfde",
   "metadata": {},
   "outputs": [
    {
     "data": {
      "text/plain": [
       "'Cum 19 Eyl 2025 11:03:07'"
      ]
     },
     "execution_count": 72,
     "metadata": {},
     "output_type": "execute_result"
    }
   ],
   "source": [
    "gelecek.strftime('%c')"
   ]
  },
  {
   "cell_type": "markdown",
   "id": "be0b5d5a-9b03-4ba5-ba60-c16089951d39",
   "metadata": {},
   "source": [
    "++++++++++Geçmiş Bir Tarihi Bulmak\n",
    "\n",
    "Geçmiş bir tarihi bulmak da, tahmin edebileceğiniz gibi, ileri bir tarihi bulmaya çok benzer. Basit bir örnek verelim:\n",
    "\n"
   ]
  },
  {
   "cell_type": "code",
   "execution_count": 73,
   "id": "0dfca465-44e4-43cd-bf47-e8129d28e057",
   "metadata": {},
   "outputs": [],
   "source": [
    "bugün = datetime.datetime.today()"
   ]
  },
  {
   "cell_type": "markdown",
   "id": "ee34d260-7e40-42fc-8d63-dd53abb501d9",
   "metadata": {},
   "source": [
    "Bugünden 200 gün geriye gidelim:"
   ]
  },
  {
   "cell_type": "code",
   "execution_count": 74,
   "id": "74ec8939-cde7-4e4a-a5de-b0b74155f0be",
   "metadata": {},
   "outputs": [
    {
     "data": {
      "text/plain": [
       "datetime.datetime(2024, 8, 15, 11, 4, 49, 595084)"
      ]
     },
     "execution_count": 74,
     "metadata": {},
     "output_type": "execute_result"
    }
   ],
   "source": [
    "fark = datetime.timedelta(days=200)\n",
    "geçmiş = bugün - fark\n",
    "geçmiş"
   ]
  },
  {
   "cell_type": "code",
   "execution_count": 75,
   "id": "cf5efd19-766c-4764-b709-3072eb93ac81",
   "metadata": {},
   "outputs": [
    {
     "data": {
      "text/plain": [
       "'Prş 15 Ağu 2024 11:04:49'"
      ]
     },
     "execution_count": 75,
     "metadata": {},
     "output_type": "execute_result"
    }
   ],
   "source": [
    "geçmiş.strftime('%c')"
   ]
  },
  {
   "cell_type": "code",
   "execution_count": null,
   "id": "714d09e2-33b0-472e-98c4-4100d9030ed7",
   "metadata": {},
   "outputs": [],
   "source": []
  }
 ],
 "metadata": {
  "kernelspec": {
   "display_name": "Python 3 (ipykernel)",
   "language": "python",
   "name": "python3"
  },
  "language_info": {
   "codemirror_mode": {
    "name": "ipython",
    "version": 3
   },
   "file_extension": ".py",
   "mimetype": "text/x-python",
   "name": "python",
   "nbconvert_exporter": "python",
   "pygments_lexer": "ipython3",
   "version": "3.10.12"
  }
 },
 "nbformat": 4,
 "nbformat_minor": 5
}
