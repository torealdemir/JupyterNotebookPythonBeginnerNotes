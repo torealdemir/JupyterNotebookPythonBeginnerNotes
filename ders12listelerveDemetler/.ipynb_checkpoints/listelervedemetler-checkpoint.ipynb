{
 "cells": [
  {
   "cell_type": "markdown",
   "id": "7347b4cb-3243-4ed9-94bc-aefbcc744bc9",
   "metadata": {},
   "source": [
    "+++++++++++++++Listeler ve Demetler\n",
    "\n",
    "\n",
    "Bu bölüme gelene kadar yalnızca iki farklı veri tipi görmüştük. Bunlardan biri karakter dizileri, öteki ise sayılardı. Ancak tabii ki Python’daki veri tipleri yalnızca bu ikisiyle sınırlı değildir. Python’da karakter dizileri ve sayıların dışında, başka amaçlara hizmet eden, başka veri tipleri de vardır. İşte biz bu bölümde iki farklı veri tipi daha öğreneceğiz. Bu bölümde ele alacağımız veri tiplerinin adı ‘liste’ (list) ve ‘demet’ (tuple).\n",
    "\n",
    "Bu bölümde birer veri tipi olarak listeler ve demetlerden söz etmenin yanısıra liste ve demetlerin metotlarından da bahsedeceğiz. Listelerle demetleri öğrendikten sonra Python’daki hareket imkanınızın bir hayli genişlediğine tanık olacaksınız.\n",
    "\n",
    "Python programlama diline yeni başlayan biri, karakter dizilerini öğrendikten sonra bu dilde her şeyi karakter dizileri yardımıyla halledebileceğini zannedebilir. O yüzden yeni bir veri tipi ile karşılaştığında (örneğin listeler veya demetler), bu yeni veri tipi ona anlamsız ve gereksizmiş gibi görünebilir. Aslında daha önce de söylediğimiz gibi, bir programlama dilini yeni öğrenenlerin genel sorunudur bu. Öğrenci, bir programlama dilini oluşturan minik parçaları öğrenirken, öğrencinin zihni bu parçaların ne işine yarayacağı konusunda şüpheyle dolar. Sanki gereksiz şeylerle vakit kaybediyormuş gibi hissedebilir. En önemli ve en büyük programların, bu minik parçaların sistematik bir şekilde birleştirilmesiyle ortaya çıkacak olması öğrencinin kafasına yatmayabilir. Halbuki en karmaşık programların bile kaynak kodlarını incelediğinizde görecekleriniz karakter dizileri, listeler, demetler, sayılar ve buna benzer başka veri tiplerinden ibarettir. Nasıl en lezzetli yemekler birkaç basit malzemenin bir araya gelmesi ile ortaya çıkıyorsa, en abidevi programlar da ilk bakışta birbiriyle ilgisiz görünen çok basit parçaların incelikli bir şekilde birleştirilmesinden oluşur.\n",
    "\n",
    "O halde bu noktada, Python programlama diline yeni başlayan hemen herkesin sorduğu o soruyu soralım kendimize: ‘Neden farklı veri tipleri var? Bu veri tiplerinin hepsine gerçekten ihtiyacım olacak mı?’\n",
    "\n",
    "Bu soruyu başka bir soruyla cevaplamaya çalışalım: ‘Acaba neden farklı giysi tipleri var? Neden kot pantolon, kumaş pantolon, tişört, gömlek ve buna benzer ayrımlara ihtiyaç duyuyoruz?’ Bu sorunun cevabı çok basit: ‘Çünkü farklı durumlara farklı giysi türleri uygundur!’\n",
    "\n",
    "Örneğin ev taşıyacaksanız, herhalde kumaş pantolon ve gömlek giymezsiniz üzerinize. Buna benzer bir şekilde iş görüşmesine giderken de kot pantolon ve tişört doğru bir tercih olmayabilir. İşte buna benzer sebeplerden, programlama dillerinde de belli durumlarda belli veri tiplerini kullanmanız gerekir. Örneğin bir durumda karakter dizilerini kullanmak uygunken, başka bir durumda listeleri veya demetleri kullanmak daha mantıklı olabilir. Zira her veri tipinin kendine has güçlü ve zayıf yanları vardır. Veri tiplerini ve bunların ayrıntılarını öğrendikçe, hangi veri tipinin hangi sorun için daha kullanışlı olduğunu kestirebilecek duruma geleceğinizden hiç kuşkunuz olmasın.\n",
    "\n",
    "Biz bu bölümde listeleri ve demetleri olabildiğince ayrıntılı bir şekilde inceleyeceğiz. O yüzden bu veri tiplerini incelerken konuyu birkaç farklı bölüme ayıracağız.\n",
    "\n",
    "Listeleri ve demetleri incelemeye listelerden başlayalım…\n",
    "\n",
    "+++++++++++++Listeler\n",
    "\n",
    "\n",
    "Giriş bölümünde de değindiğimiz gibi, listeler Python’daki veri tiplerinden biridir. Tıpkı karakter dizileri ve sayılar gibi…\n",
    "\n",
    "+++++++++++++++Liste Tanımlamak\n",
    "\n",
    "\n",
    "Listeleri tanımaya, bu veri tipini nasıl tanımlayacağımızı öğrenerek başlayalım.\n",
    "\n",
    "Hatırlarsanız bir karakter dizisi tanımlayabilmek için şöyle bir yol izliyorduk:"
   ]
  },
  {
   "cell_type": "code",
   "execution_count": 5,
   "id": "e5e46c3f-5050-46fc-b0a3-13c57b37cd91",
   "metadata": {},
   "outputs": [],
   "source": [
    "kardiz = \"karakter dizisi\""
   ]
  },
  {
   "cell_type": "markdown",
   "id": "1459e06e-cf65-4a21-b874-7a9de71e0eaf",
   "metadata": {},
   "source": [
    "Yani herhangi bir öğeyi karakter dizisi olarak tanımlayabilmek için yapmamız gereken tek şey o öğeyi tırnak içine almaktı. Herhangi bir öğeyi (tek, çift veya üç) tırnak içine aldığımızda karakter dizimizi tanımlamış oluyoruz. Liste tanımlamak için de buna benzer bir şey yapıyoruz. Dikkatlice bakın:\n",
    "\n"
   ]
  },
  {
   "cell_type": "code",
   "execution_count": 6,
   "id": "912d4001-cfb9-4d72-a586-b424154cf24c",
   "metadata": {},
   "outputs": [],
   "source": [
    "liste = [\"öğe1\", \"öğe2\", \"öğe3\"]"
   ]
  },
  {
   "cell_type": "markdown",
   "id": "8e97800f-ca51-4b62-a2c2-e8ae9fbe4bf7",
   "metadata": {},
   "source": [
    "Gördüğünüz gibi, liste tanımlamak da son derece kolay. Bir liste elde etmek için, öğeleri birbirinden virgülle ayırıp, bunların hepsini köşeli parantezler içine alıyoruz.\n",
    "\n",
    "Karakter dizilerini anlatırken, herhangi bir nesnenin karakter dizisi olup olmadığından emin olmak için type() fonksiyonundan yararlanabileceğimizi söylemiştik. Eğer bir nesne type() fonksiyonuna <class ‘str’> cevabı veriyorsa o nesne bir karakter dizisidir. Listeler için de buna benzer bir sorgulama yapabiliriz:"
   ]
  },
  {
   "cell_type": "code",
   "execution_count": 7,
   "id": "5de3aba7-80f3-42af-9147-d09634079fcd",
   "metadata": {},
   "outputs": [
    {
     "data": {
      "text/plain": [
       "list"
      ]
     },
     "execution_count": 7,
     "metadata": {},
     "output_type": "execute_result"
    }
   ],
   "source": [
    "liste = [\"öğe1\", \"öğe2\", \"öğe3\"]\n",
    "type(liste)"
   ]
  },
  {
   "cell_type": "markdown",
   "id": "6794dc85-095d-4293-a979-8e112d0cec67",
   "metadata": {},
   "source": [
    "Bu çıktıdan anlıyoruz ki, liste veri tipi type() fonksiyonuna <class ‘list’> cevabı veriyor. Dolayısıyla, eğer bir nesne type() fonksiyonuna <class ‘list’> cevabı veriyorsa o nesnenin bir liste olduğunu rahatlıkla söyleyebiliriz.\n",
    "\n",
    "Yukarıda tanımladığımız liste adlı listeye baktığımızda dikkatimizi bir şey çekiyor olmalı. Bu listeye şöyle bir baktığımızda, aslında bu listenin, içinde üç adet karakter dizisi barındırdığını görüyoruz. Gerçekten de listeler, bir veya daha fazla veri tipini içinde barındıran kapsayıcı bir veri tipidir. Mesela şu listeye bir bakalım:\n",
    "\n"
   ]
  },
  {
   "cell_type": "code",
   "execution_count": 4,
   "id": "2bd01ee1-d21f-46fa-be90-18a55679ddc8",
   "metadata": {},
   "outputs": [],
   "source": [
    "liste = [\"Ahmet\", \"Mehmet\", 23, 65, 3.2]"
   ]
  },
  {
   "cell_type": "markdown",
   "id": "08d836ae-0488-441a-909b-3362cc6c9990",
   "metadata": {},
   "source": [
    "Gördüğünüz gibi, liste içinde hem karakter dizileri (“Ahmet”, “Mehmet”), hem de sayılar (23, 65, 3.2) var.\n",
    "\n",
    "Dahası, listelerin içinde başka listeler de bulunabilir:"
   ]
  },
  {
   "cell_type": "code",
   "execution_count": 8,
   "id": "5374de73-7337-4333-898b-c15f6246e476",
   "metadata": {},
   "outputs": [],
   "source": [
    "liste = [\"Ali\", \"Veli\", [\"Ayşe\", \"Nazan\", \"Zeynep\"], 34, 65, 33, 5.6]"
   ]
  },
  {
   "cell_type": "markdown",
   "id": "d4d74b3e-c75d-4b13-8571-3845b2ffbc8f",
   "metadata": {},
   "source": [
    "Bu liste adlı değişkenin tipini sorgularsak şöyle bir çıktı alacağımızı biliyorsunuz:"
   ]
  },
  {
   "cell_type": "code",
   "execution_count": 9,
   "id": "fba9b585-d82a-4a50-89f7-725214945fac",
   "metadata": {},
   "outputs": [
    {
     "data": {
      "text/plain": [
       "list"
      ]
     },
     "execution_count": 9,
     "metadata": {},
     "output_type": "execute_result"
    }
   ],
   "source": [
    "type(liste)"
   ]
  },
  {
   "cell_type": "markdown",
   "id": "4a8f1158-4b6f-4d1d-babc-3bd9908ef515",
   "metadata": {},
   "source": [
    "Bir de şunu deneyelim:"
   ]
  },
  {
   "cell_type": "code",
   "execution_count": 10,
   "id": "97a09196-f9c4-402c-b81c-469bfcb06697",
   "metadata": {},
   "outputs": [
    {
     "name": "stdout",
     "output_type": "stream",
     "text": [
      "Ali adlı öğenin veri tipi: <class 'str'>\n",
      "Veli adlı öğenin veri tipi: <class 'str'>\n",
      "['Ayşe', 'Nazan', 'Zeynep'] adlı öğenin veri tipi: <class 'list'>\n",
      "34 adlı öğenin veri tipi: <class 'int'>\n",
      "65 adlı öğenin veri tipi: <class 'int'>\n",
      "33 adlı öğenin veri tipi: <class 'int'>\n",
      "5.6 adlı öğenin veri tipi: <class 'float'>\n"
     ]
    }
   ],
   "source": [
    "for öğe in liste:\n",
    "    print(\"{} adlı öğenin veri tipi: {}\".format(öğe, type(öğe)))"
   ]
  },
  {
   "cell_type": "markdown",
   "id": "dc97d798-258a-401c-bf2e-ceec3eacab00",
   "metadata": {},
   "source": [
    "Bu kodlar bize şunu gösteriyor: Farklı öğeleri bir araya getirip bunları köşeli parantezler içine alırsak ‘liste’ adlı veri tipini oluşturmuş oluyoruz. Bu listenin öğeleri farklı veri tiplerine ait olabilir. Yukarıdaki kodların da gösterdiği gibi, liste içinde yer alan “Ali” ve “Veli” öğeleri birer karakter dizisi; [‘Ayşe’, ‘Nazan’, ‘Zeynep’] adlı öğe bir liste; 34, 65 ve 33 öğeleri birer tam sayı; 5.6 öğesi ise bir kayan noktalı sayıdır. İşte farklı veri tiplerine ait bu öğelerin hepsi bir araya gelerek liste denen veri tipini oluşturuyor. Yukarıdaki örnekten de gördüğünüz gibi, bir listenin içinde başka bir liste de yer alabiliyor. Örneğin burada listemizin öğelerinden biri, [‘Ayşe’, ‘Nazan’, ‘Zeynep’] adlı başka bir listedir.\n",
    "\n",
    "Hatırlarsanız karakter dizilerinin belirleyici özelliği tırnak işaretleri idi. Yukarıdaki örneklerden de gördüğünüz gibi listelerin belirleyici özelliği de köşeli parantezlerdir. Mesela:"
   ]
  },
  {
   "cell_type": "code",
   "execution_count": 11,
   "id": "b32e7f54-a136-4401-8476-39dcbc9d315c",
   "metadata": {},
   "outputs": [],
   "source": [
    "karakter = \"\""
   ]
  },
  {
   "cell_type": "markdown",
   "id": "9ee953b8-82fc-4354-872b-ec018ab1df29",
   "metadata": {},
   "source": [
    "Bu boş bir karakter dizisidir. Şu ise boş bir liste:"
   ]
  },
  {
   "cell_type": "code",
   "execution_count": 12,
   "id": "315b29d6-6509-4bac-9c80-67f160189108",
   "metadata": {},
   "outputs": [],
   "source": [
    "liste = []"
   ]
  },
  {
   "cell_type": "markdown",
   "id": "68c0fdf4-76dc-4fb0-8a03-3a827cfde17e",
   "metadata": {},
   "source": [
    "Tıpkı karakter dizilerinde olduğu gibi, listelerle de iki şekilde karşılaşabilirsiniz:\n",
    "\n",
    "Listeyi kendiniz tanımlamış olabilirsiniz.\n",
    "\n",
    "Liste size başka bir kaynaktan gelmiş olabilir.\n",
    "\n",
    "Yukarıdaki örneklerde bir listeyi kendimizin nasıl tanımlayacağımızı öğrendik. Peki listeler bize başka hangi kaynaktan gelebilir?\n",
    "\n",
    "Hatırlarsanız karakter dizilerinin metotlarını sıralamak için dir() adlı bir fonksiyondan yararlanmıştık.\n",
    "\n",
    "Mesela karakter dizilerinin bize hangi metotları sunduğunu görmek için bu fonksiyonu şöyle kullanmıştık:\n",
    "\n"
   ]
  },
  {
   "cell_type": "code",
   "execution_count": 13,
   "id": "bd19cc8d-e760-420f-89d9-838a9c1ac7b4",
   "metadata": {},
   "outputs": [
    {
     "data": {
      "text/plain": [
       "['__add__',\n",
       " '__class__',\n",
       " '__contains__',\n",
       " '__delattr__',\n",
       " '__dir__',\n",
       " '__doc__',\n",
       " '__eq__',\n",
       " '__format__',\n",
       " '__ge__',\n",
       " '__getattribute__',\n",
       " '__getitem__',\n",
       " '__getnewargs__',\n",
       " '__gt__',\n",
       " '__hash__',\n",
       " '__init__',\n",
       " '__init_subclass__',\n",
       " '__iter__',\n",
       " '__le__',\n",
       " '__len__',\n",
       " '__lt__',\n",
       " '__mod__',\n",
       " '__mul__',\n",
       " '__ne__',\n",
       " '__new__',\n",
       " '__reduce__',\n",
       " '__reduce_ex__',\n",
       " '__repr__',\n",
       " '__rmod__',\n",
       " '__rmul__',\n",
       " '__setattr__',\n",
       " '__sizeof__',\n",
       " '__str__',\n",
       " '__subclasshook__',\n",
       " 'capitalize',\n",
       " 'casefold',\n",
       " 'center',\n",
       " 'count',\n",
       " 'encode',\n",
       " 'endswith',\n",
       " 'expandtabs',\n",
       " 'find',\n",
       " 'format',\n",
       " 'format_map',\n",
       " 'index',\n",
       " 'isalnum',\n",
       " 'isalpha',\n",
       " 'isascii',\n",
       " 'isdecimal',\n",
       " 'isdigit',\n",
       " 'isidentifier',\n",
       " 'islower',\n",
       " 'isnumeric',\n",
       " 'isprintable',\n",
       " 'isspace',\n",
       " 'istitle',\n",
       " 'isupper',\n",
       " 'join',\n",
       " 'ljust',\n",
       " 'lower',\n",
       " 'lstrip',\n",
       " 'maketrans',\n",
       " 'partition',\n",
       " 'removeprefix',\n",
       " 'removesuffix',\n",
       " 'replace',\n",
       " 'rfind',\n",
       " 'rindex',\n",
       " 'rjust',\n",
       " 'rpartition',\n",
       " 'rsplit',\n",
       " 'rstrip',\n",
       " 'split',\n",
       " 'splitlines',\n",
       " 'startswith',\n",
       " 'strip',\n",
       " 'swapcase',\n",
       " 'title',\n",
       " 'translate',\n",
       " 'upper',\n",
       " 'zfill']"
      ]
     },
     "execution_count": 13,
     "metadata": {},
     "output_type": "execute_result"
    }
   ],
   "source": [
    "dir(str)"
   ]
  },
  {
   "cell_type": "markdown",
   "id": "70f3ff42-cb44-4c55-8bec-defca2e1915d",
   "metadata": {},
   "source": [
    "Artık bu çıktı size çok daha anlamlı geliyor olmalı. Gördüğünüz gibi çıktımız köşeli parantezler arasında yer alıyor. Yani aslında yukarıdaki çıktı bir liste. Dilerseniz bunu nasıl teyit edebileceğinizi biliyorsunuz:\n",
    "\n"
   ]
  },
  {
   "cell_type": "code",
   "execution_count": 14,
   "id": "e07d313e-393c-4f43-ba55-1c4314054fe5",
   "metadata": {},
   "outputs": [
    {
     "data": {
      "text/plain": [
       "list"
      ]
     },
     "execution_count": 14,
     "metadata": {},
     "output_type": "execute_result"
    }
   ],
   "source": [
    "komut = dir(str)\n",
    "type(komut)"
   ]
  },
  {
   "cell_type": "markdown",
   "id": "57089b1b-54bb-43a1-95a4-4b54e4debb83",
   "metadata": {},
   "source": [
    "Gördüğünüz gibi, tıpkı input() fonksiyonundan gelen verinin bir karakter dizisi olması gibi, dir() fonksiyonundan gelen veri tipi de bir listedir.\n",
    "\n",
    "dir() fonksiyonu dışında, başka bir şeyin daha bize liste verdiğini biliyoruz. Bu şey, karakter dizilerinin split() adlı metodudur:"
   ]
  },
  {
   "cell_type": "code",
   "execution_count": 15,
   "id": "bd0f0427-23fa-4e3f-90aa-7c18128b7658",
   "metadata": {},
   "outputs": [
    {
     "data": {
      "text/plain": [
       "['Ankara', 'Büyükşehir', 'Belediyesi']"
      ]
     },
     "execution_count": 15,
     "metadata": {},
     "output_type": "execute_result"
    }
   ],
   "source": [
    "kardiz = \"Ankara Büyükşehir Belediyesi\"\n",
    "kardiz.split()"
   ]
  },
  {
   "cell_type": "markdown",
   "id": "c381576f-1811-479a-95f9-f845ead022bb",
   "metadata": {},
   "source": [
    "Görüyorsunuz, split() metodunun çıktısı da köşeli parantezler içinde yer alıyor. Demek ki bu çıktı da bir listedir.\n",
    "\n",
    "Peki bir fonksiyonun bize karakter dizisi mi, liste mi yoksa başka bir veri tipi mi verdiğini bilmenin ne faydası var?\n",
    "\n",
    "Her zaman söylediğimiz gibi, Python’da o anda elinizde olan verinin tipini bilmeniz son derece önemlidir. Aksi halde o veriyi nasıl evirip çevireceğinizi, o veriyle neler yapabileceğinizi bilemezsiniz. Mesela ‘Ankara Büyükşehir Belediyesi’ ifadesini ele alalım. Bu ifadeyle ilgili size şöyle bir soru sorduğumu düşünün: ‘Acaba bu ifadenin ilk harfini nasıl alırız?’\n",
    "\n",
    "Eğer bu ifade size input() fonksiyonundan gelmişse, yani bir karakter dizisiyse uygulayacağınız yöntem farklı, split() metoduyla gelmişse, yani liste ise uygulayacağınız yöntem farklı olacaktır.\n",
    "\n",
    "Eğer bu ifade bir karakter dizisi ise ilk harfi şu şekilde alabilirsiniz:"
   ]
  },
  {
   "cell_type": "code",
   "execution_count": 16,
   "id": "a960eddb-86a9-4d9a-8b3b-154134651b53",
   "metadata": {},
   "outputs": [],
   "source": [
    "kardiz = [\"Ankara Buyuksehir Belediyesi\"]"
   ]
  },
  {
   "cell_type": "code",
   "execution_count": 17,
   "id": "f6d263dc-ccbb-42d0-97e9-47d44365e402",
   "metadata": {},
   "outputs": [
    {
     "data": {
      "text/plain": [
       "'Ankara Buyuksehir Belediyesi'"
      ]
     },
     "execution_count": 17,
     "metadata": {},
     "output_type": "execute_result"
    }
   ],
   "source": [
    "kardiz[0]"
   ]
  },
  {
   "cell_type": "markdown",
   "id": "b539c8a0-d184-41e6-b007-2595fd9168e2",
   "metadata": {},
   "source": [
    "Ama eğer bu ifade bir liste ise yukarıdaki yöntem size farklı bir sonuç verir:\n",
    "\n"
   ]
  },
  {
   "cell_type": "code",
   "execution_count": null,
   "id": "28068fec-9a77-4632-af16-21e195036251",
   "metadata": {},
   "outputs": [],
   "source": [
    "liste = kardiz.split()\n",
    "liste[0]\n"
   ]
  },
  {
   "cell_type": "raw",
   "id": "d97c7277-5225-4e47-83b3-4381d780c963",
   "metadata": {},
   "source": [
    "'Ankara'"
   ]
  },
  {
   "cell_type": "markdown",
   "id": "9cf98e2d-7aa3-46b0-8736-27c64946fd5b",
   "metadata": {},
   "source": [
    "Çünkü “Ankara Büyükşehir Belediyesi” adlı karakter dizisinin ilk öğesi “A” karakteridir, ama [‘Ankara’, ‘Büyükşehir’, ‘Belediyesi’] adlı listenin ilk öğesi “A” karakteri değil, “Ankara” kelimesidir.\n",
    "\n",
    "Gördüğünüz gibi, bir nesnenin hangi veri tipine ait olduğunu bilmek o nesneyle neleri nasıl yapabileceğimizi doğrudan etkiliyor. O yüzden programlama çalışmalarınız esnasında veri tiplerine karşı her zaman uyanık olmalısınız."
   ]
  },
  {
   "cell_type": "markdown",
   "id": "b604e1e3-b93d-4778-a689-70faffd39e5f",
   "metadata": {},
   "source": [
    "Her ne kadar karakter dizileri ve listeler iki farklı veri tipi olsa ve bu iki veri tipinin birbirinden çok farklı yönleri ve yetenekleri olsa da, bu iki veri tipi arasında önemli benzerlikler de vardır. Örneğin karakter dizilerini işlerken öğrendiğimiz pek çok fonksiyonu listelerle birlikte de kullanabilirsiniz. Mesela karakter dizilerini incelerken öğrendiğimiz len() fonksiyonu listelerin boyutunu hesaplamada da kullanılabilir:"
   ]
  },
  {
   "cell_type": "code",
   "execution_count": 20,
   "id": "618b3711-f1fa-42cb-90ff-5706d60e1c45",
   "metadata": {},
   "outputs": [
    {
     "data": {
      "text/plain": [
       "5"
      ]
     },
     "execution_count": 20,
     "metadata": {},
     "output_type": "execute_result"
    }
   ],
   "source": [
    "diller = [\"İngilizce\", \"Fransızca\", \"Türkçe\", \"İtalyanca\", \"İspanyolca\"]\n",
    "len(diller)\n"
   ]
  },
  {
   "cell_type": "markdown",
   "id": "1a6a1abf-726a-49a5-a9dc-4ffb2fd0b2ba",
   "metadata": {},
   "source": [
    "Karakter dizileri karakterlerden oluşan bir veri tipi olduğu için len() fonksiyonu karakter dizisi içindeki karakterlerin sayısını veriyor. Listeler ise başka veri tiplerini bir araya toplayan bir veri tipi olduğu için len() fonksiyonu liste içindeki veri tiplerinin sayısını söylüyor.\n",
    "\n",
    "len() fonksiyonu dışında, range() fonksiyonuyla listeleri de birlikte kullanabilirsiniz. Mesela herhangi bir kaynaktan size şunlar gibi iki öğeli listeler geliyor olabilir:\n",
    "\n"
   ]
  },
  {
   "cell_type": "raw",
   "id": "9b8b4587-2e59-4fe5-a1f0-1e9373f41aca",
   "metadata": {},
   "source": [
    "[0, 10]\n",
    "[6, 60]\n",
    "[12, 54]\n",
    "[67, 99]"
   ]
  },
  {
   "cell_type": "markdown",
   "id": "31b9950b-642e-4c58-ad57-b79d020d2df5",
   "metadata": {},
   "source": [
    "Bu iki öğeli listeleri tek bir liste içinde topladığımızı düşünürsek şöyle bir kod yazabiliriz:"
   ]
  },
  {
   "cell_type": "code",
   "execution_count": 21,
   "id": "633c922a-121d-4882-8c8d-454d649790b2",
   "metadata": {},
   "outputs": [
    {
     "name": "stdout",
     "output_type": "stream",
     "text": [
      "0 1 2 3 4 5 6 7 8 9\n",
      "6 7 8 9 10 11 12 13 14 15 16 17 18 19 20 21 22 23 24 25 26 27 28 29 30 31 32 33 34 35 36 37 38 39 40 41 42 43 44 45 46 47 48 49 50 51 52 53 54 55 56 57 58 59\n",
      "12 13 14 15 16 17 18 19 20 21 22 23 24 25 26 27 28 29 30 31 32 33 34 35 36 37 38 39 40 41 42 43 44 45 46 47 48 49 50 51 52 53\n",
      "67 68 69 70 71 72 73 74 75 76 77 78 79 80 81 82 83 84 85 86 87 88 89 90 91 92 93 94 95 96 97 98\n"
     ]
    }
   ],
   "source": [
    "sayılar = [[0, 10], [6, 60], [12, 54], [67, 99]]\n",
    "\n",
    "for i in sayılar:\n",
    "    print(*range(*i))"
   ]
  },
  {
   "cell_type": "markdown",
   "id": "88d59990-93b6-426d-8d6e-7cb4ca304b49",
   "metadata": {},
   "source": [
    "Eğer ilk bakışta bu kod gözünüze anlaşılmaz göründüyse bu kodu parçalara ayırarak inceleyebilirsiniz.\n",
    "\n",
    "Burada öncelikle bir for döngüsü oluşturduk. Bu sayede sayılar adlı listedeki öğelerin üzerinden tek tek geçebileceğiz. Eğer döngü içinde sadece öğeleri ekrana yazdırıyor olsaydık şöyle bir kodumuz olacaktı:"
   ]
  },
  {
   "cell_type": "code",
   "execution_count": 22,
   "id": "e92cbdc4-31df-4595-a57a-208aaee46af1",
   "metadata": {},
   "outputs": [
    {
     "name": "stdout",
     "output_type": "stream",
     "text": [
      "[0, 10]\n",
      "[6, 60]\n",
      "[12, 54]\n",
      "[67, 99]\n"
     ]
    }
   ],
   "source": [
    "for i in sayılar:\n",
    "    print(i)"
   ]
  },
  {
   "cell_type": "markdown",
   "id": "e72d642a-c37b-4e6c-8edd-958b880e30e2",
   "metadata": {},
   "source": [
    "range() fonksiyonunun nasıl kullanıldığını hatırlıyorsunuz. Yukarıdaki listelerde görünen ilk sayılar range() fonksiyonunun ilk parametresi, ikinci sayılar ise ikinci parametresi olacak. Yani her döngüde şöyle bir şey elde etmemiz gerekiyor:"
   ]
  },
  {
   "cell_type": "raw",
   "id": "a6508bbd-53fc-48ad-a0bd-c51552542a41",
   "metadata": {},
   "source": [
    "range(0, 10)\n",
    "range(6, 60)\n",
    "range(12, 54)\n",
    "range(67, 99)"
   ]
  },
  {
   "cell_type": "markdown",
   "id": "edec3269-135c-47eb-9957-82a5c7a77924",
   "metadata": {},
   "source": [
    "Aslında kodlarımızı şöyle yazarak yukarıdaki çıktıyı elde edebilirdik:"
   ]
  },
  {
   "cell_type": "code",
   "execution_count": 23,
   "id": "990ba499-858f-4997-90d1-7fe4a58816ac",
   "metadata": {},
   "outputs": [
    {
     "name": "stdout",
     "output_type": "stream",
     "text": [
      "range(0, 10)\n",
      "range(6, 60)\n",
      "range(12, 54)\n",
      "range(67, 99)\n"
     ]
    }
   ],
   "source": [
    "sayılar = [[0, 10], [6, 60], [12, 54], [67, 99]]\n",
    "\n",
    "for i in sayılar:\n",
    "    print(range(i[0], i[1]))"
   ]
  },
  {
   "cell_type": "markdown",
   "id": "2952b4eb-58d5-4946-979e-eebc503e0f10",
   "metadata": {},
   "source": [
    "Yukarıdaki açıklamalarda gördüğünüz gibi, i değişkeninin çıktısı ikişer öğeli bir liste oluyor. İşte burada yaptığımız şey, bu ikişer öğeli listelerin ilk öğesini (i[0]) range() fonksiyonunun ilk parametresi, ikinci öğesini (i[1]) ise range() fonksiyonunun ikinci parametresi olarak atamaktan ibaret. Ancak ilk derslerimizden hatırlayacağınız gibi, bunu yapmanın daha kısa bir yolu var. Bildiğiniz gibi, öğelerden oluşan dizileri ayrıştırmak için yıldız işaretinden yararlanabiliyoruz. Dolayısıyla yukarıdaki kodları şöyle yazmak daha pratik olabilir:"
   ]
  },
  {
   "cell_type": "code",
   "execution_count": 24,
   "id": "0631d770-bac2-49dc-81e8-3043635a5605",
   "metadata": {},
   "outputs": [
    {
     "name": "stdout",
     "output_type": "stream",
     "text": [
      "range(0, 10)\n",
      "range(6, 60)\n",
      "range(12, 54)\n",
      "range(67, 99)\n"
     ]
    }
   ],
   "source": [
    "sayılar = [[0, 10], [6, 60], [12, 54], [67, 99]]\n",
    "\n",
    "for i in sayılar:\n",
    "    print(range(*i))"
   ]
  },
  {
   "cell_type": "markdown",
   "id": "2a8a7d32-0a9e-4dbc-baf9-9d69e6f167c9",
   "metadata": {},
   "source": [
    "Gördüğünüz gibi, i değişkeninin soluna bir yıldız ekleyerek bu değişken içindeki değerleri ayrıştırdık ve şöyle bir çıktı elde ettik:\n",
    "\n"
   ]
  },
  {
   "cell_type": "raw",
   "id": "7153929f-ce0e-4c25-8147-9dec8fa5bc5a",
   "metadata": {},
   "source": [
    "range(0, 10)\n",
    "range(6, 60)\n",
    "range(12, 54)\n",
    "range(67, 99)"
   ]
  },
  {
   "cell_type": "markdown",
   "id": "efe4353c-9187-4864-8c9f-39128a8531c2",
   "metadata": {},
   "source": [
    "Hatırlarsanız, range(0, 10) gibi bir kod yazdığımızda Python bize 0 ile 10 arasındaki sayıları doğrudan göstermiyordu. Aralıktaki sayıları görmek için range() fonksiyonunun çıktısını bir döngü içine almalıyız:\n",
    "\n"
   ]
  },
  {
   "cell_type": "code",
   "execution_count": 25,
   "id": "9d2f2c56-e476-4fb5-baf8-e283c85157b3",
   "metadata": {},
   "outputs": [
    {
     "name": "stdout",
     "output_type": "stream",
     "text": [
      "0\n",
      "1\n",
      "2\n",
      "3\n",
      "4\n",
      "5\n",
      "6\n",
      "7\n",
      "8\n",
      "9\n"
     ]
    }
   ],
   "source": [
    "for i in range(0, 10):\n",
    "    print(i)"
   ]
  },
  {
   "cell_type": "markdown",
   "id": "c6c216f6-28e7-4005-acc5-3df608aa84d5",
   "metadata": {},
   "source": [
    "range(0, 10) çıktısını görmek için döngü kurmak yerine yine yıldız işaretinden yararlanabiliyoruz. Örneğin:"
   ]
  },
  {
   "cell_type": "code",
   "execution_count": 26,
   "id": "2a7b6774-860c-4ee7-b456-b0130eb0b7d4",
   "metadata": {},
   "outputs": [
    {
     "name": "stdout",
     "output_type": "stream",
     "text": [
      "0 1 2 3 4 5 6 7 8 9\n"
     ]
    }
   ],
   "source": [
    "print(*range(0, 10))"
   ]
  },
  {
   "cell_type": "markdown",
   "id": "4cce8984-7c95-47dc-be31-3af992c4834b",
   "metadata": {},
   "source": [
    "Aynı şeyi yukarıdaki kodlara da uygularsak şöyle bir şey elde ederiz:"
   ]
  },
  {
   "cell_type": "code",
   "execution_count": 27,
   "id": "6632cd4c-090e-47ec-9cfb-7a7590489d8b",
   "metadata": {},
   "outputs": [
    {
     "name": "stdout",
     "output_type": "stream",
     "text": [
      "0 1 2 3 4 5 6 7 8 9\n",
      "6 7 8 9 10 11 12 13 14 15 16 17 18 19 20 21 22 23 24 25 26 27 28 29 30 31 32 33 34 35 36 37 38 39 40 41 42 43 44 45 46 47 48 49 50 51 52 53 54 55 56 57 58 59\n",
      "12 13 14 15 16 17 18 19 20 21 22 23 24 25 26 27 28 29 30 31 32 33 34 35 36 37 38 39 40 41 42 43 44 45 46 47 48 49 50 51 52 53\n",
      "67 68 69 70 71 72 73 74 75 76 77 78 79 80 81 82 83 84 85 86 87 88 89 90 91 92 93 94 95 96 97 98\n"
     ]
    }
   ],
   "source": [
    "sayılar = [[0, 10], [6, 60], [12, 54], [67, 99]]\n",
    "\n",
    "for i in sayılar:\n",
    "    print(*range(*i))"
   ]
  },
  {
   "cell_type": "markdown",
   "id": "440390f0-4130-4692-832b-a5a5d799d96e",
   "metadata": {},
   "source": [
    "Gördüğünüz gibi, yıldız işaretini hem i değişkenine, hem de range() fonksiyonuna ayrı ayrı uygulayarak istediğimiz sonucu elde ettik.\n",
    "\n",
    "Bu arada, yukarıdaki örnek bize listeler hakkında önemli bir bilgi de verdi. Karakter dizilerinin öğelerine erişmek için nasıl kardiz[öğe_sırası] gibi bir formülden yararlanıyorsak, listelerin öğelerine erişmek için de aynı şekilde liste[öğe_sırası] gibi bir formülden yararlanabiliyoruz.\n",
    "\n",
    "Listelerin öğelerine nasıl ulaşacağımızın ayrıntılarını biraz sonra göreceğiz. Ama biz şimdi listelere ilişkin önemli bir fonksiyonu inceleyerek yolumuza devam edelim.\n",
    "\n"
   ]
  },
  {
   "cell_type": "markdown",
   "id": "5346ae7a-a236-46a2-9a6b-354f7017aa20",
   "metadata": {},
   "source": [
    "+++++++++++++++list() Fonksiyonu\n",
    "\n",
    "\n",
    "Yukarıdaki örneklerden de gördüğünüz gibi liste oluşturmak için öğeleri belirleyip bunları köşeli parantezler içine almamız yeterli oluyor. Bu yöntemin dışında, liste oluşturmanın bir yöntemi daha bulunur. Mesela elimizde şöyle bir karakter dizisi olduğunu düşünelim:"
   ]
  },
  {
   "cell_type": "code",
   "execution_count": 28,
   "id": "69007186-df19-4e51-ae34-f9f1bc3189de",
   "metadata": {},
   "outputs": [],
   "source": [
    "alfabe = \"abcçdefgğhıijklmnoöprsştuüvyz\""
   ]
  },
  {
   "cell_type": "markdown",
   "id": "266ef975-054f-4f3c-9bbe-eac4d00b6100",
   "metadata": {},
   "source": [
    "Sorumuz şu olsun: ‘Acaba bu karakter dizisini listeye nasıl çeviririz?’\n",
    "\n",
    "Karakter dizilerini anlatırken split() adlı bir metottan söz etmiştik. Bu metot karakter dizilerini belli bir ölçüte göre bölmemizi sağlıyordu. split() metoduyla elde edilen verinin bir liste olduğunu biliyorsunuz. Örneğin:\n",
    "\n"
   ]
  },
  {
   "cell_type": "code",
   "execution_count": 29,
   "id": "16e615ea-3be4-498e-ba7c-bfe4e8f28742",
   "metadata": {},
   "outputs": [
    {
     "data": {
      "text/plain": [
       "['ahmet', 'mehmet', 'cem']"
      ]
     },
     "execution_count": 29,
     "metadata": {},
     "output_type": "execute_result"
    }
   ],
   "source": [
    "isimler = \"ahmet mehmet cem\"\n",
    "\n",
    "isimler.split()"
   ]
  },
  {
   "cell_type": "markdown",
   "id": "a43659a7-0a22-4c33-b251-08fb4a45a1a4",
   "metadata": {},
   "source": [
    "Ancak split() metodunun bir karakter dizisini bölüp bize bir liste verebilmesi için karakter dizisinin belli bir ölçüte göre bölünebilir durumda olması gerekiyor. Mesela yukarıdaki isimler adlı karakter dizisi belli bir ölçüte göre bölünebilir durumdadır. Neden? Çünkü karakter dizisi içindeki her parça arasında bir boşluk karakteri var. Dolayısıyla split() metodu bu karakter dizisini boşluklardan bölebiliyor. Aynı şey şu karakter dizisi için de geçerlidir:"
   ]
  },
  {
   "cell_type": "code",
   "execution_count": 30,
   "id": "97c735f1-f34d-4200-b15d-a5cd82511ec2",
   "metadata": {},
   "outputs": [],
   "source": [
    "isimler = \"elma, armut, çilek\""
   ]
  },
  {
   "cell_type": "markdown",
   "id": "d41d7ab6-83f6-4e3e-96ed-5f6c6280c254",
   "metadata": {},
   "source": [
    "Bu karakter dizisini oluşturan her bir parça arasında bir adet virgül ve bir adet boşluk karakteri var. Dolayısıyla biz bu karakter dizisini split() metodunu kullanarak “virgül + boşluk karakteri” ölçütüne göre bölebiliriz:"
   ]
  },
  {
   "cell_type": "code",
   "execution_count": 31,
   "id": "3dfdd2dd-ca78-4099-8174-40d7b05236ed",
   "metadata": {},
   "outputs": [
    {
     "data": {
      "text/plain": [
       "['elma', 'armut', 'çilek']"
      ]
     },
     "execution_count": 31,
     "metadata": {},
     "output_type": "execute_result"
    }
   ],
   "source": [
    "isimler.split(\", \")"
   ]
  },
  {
   "cell_type": "markdown",
   "id": "9634f7d0-0ba6-400e-bef4-096dd2bf4f2d",
   "metadata": {},
   "source": [
    "Ancak bölümün başında tanımladığımız alfabe adlı karakter dizisi biraz farklıdır:\n",
    "\n"
   ]
  },
  {
   "cell_type": "code",
   "execution_count": 32,
   "id": "ee52eb73-acca-4ce9-a060-3d3f4115c720",
   "metadata": {},
   "outputs": [],
   "source": [
    "alfabe = \"abcçdefgğhıijklmnoöprsştuüvyz\""
   ]
  },
  {
   "cell_type": "markdown",
   "id": "ecd4a0f6-97c3-4c17-9f71-2dce448f7f6d",
   "metadata": {},
   "source": [
    "Gördüğünüz gibi, bu karakter dizisi tek bir parçadan oluşuyor. Dolayısıyla bu karakter dizisini öğelerine bölmemizi sağlayacak bir ölçüt yok. Yani bu karakter dizisini şu şekilde bölemeyiz:"
   ]
  },
  {
   "cell_type": "code",
   "execution_count": 33,
   "id": "292d24ac-cdb7-4cdd-84f2-94e023bf75dc",
   "metadata": {},
   "outputs": [
    {
     "data": {
      "text/plain": [
       "['abcçdefgğhıijklmnoöprsştuüvyz']"
      ]
     },
     "execution_count": 33,
     "metadata": {},
     "output_type": "execute_result"
    }
   ],
   "source": [
    "alfabe.split()"
   ]
  },
  {
   "cell_type": "markdown",
   "id": "eba8fe3c-0c55-4515-9f2c-cf31103b9cb4",
   "metadata": {},
   "source": [
    "Elbette bu karakter dizisini isterseniz farklı şekillerde bölebilirsiniz. Mesela:\n",
    "\n"
   ]
  },
  {
   "cell_type": "code",
   "execution_count": 34,
   "id": "4ccf315c-e003-41fa-ac28-a77dddf78ccb",
   "metadata": {},
   "outputs": [
    {
     "data": {
      "text/plain": [
       "['abcçdefgğhı', 'jklmnoöprsştuüvyz']"
      ]
     },
     "execution_count": 34,
     "metadata": {},
     "output_type": "execute_result"
    }
   ],
   "source": [
    "alfabe.split(\"i\")"
   ]
  },
  {
   "cell_type": "markdown",
   "id": "0100c58a-63af-418d-be52-e2956b556ff0",
   "metadata": {},
   "source": [
    "Gördüğünüz gibi, biz burada alfabe karakter dizisini “i” harfinden bölebildik. Ama istediğimiz şey bu değil. Biz aslında şöyle bir çıktı elde etmek istiyoruz:\n",
    "\n"
   ]
  },
  {
   "cell_type": "raw",
   "id": "10cc99ae-b192-4503-9fd6-c2e4ec3c14a8",
   "metadata": {},
   "source": [
    "['a', 'b', 'c', 'ç', 'd', 'e', 'f', 'g', 'ğ', 'h', 'ı', 'i', 'j',\n",
    " 'k', 'l', 'm', 'n', 'o', 'ö', 'p', 'r', 's', 'ş', 't', 'u', 'ü',\n",
    " 'v', 'y', 'z']"
   ]
  },
  {
   "cell_type": "markdown",
   "id": "93fbff85-0d43-4106-a66f-03c7dd40ae7f",
   "metadata": {},
   "source": [
    "Yani bizim amacımız, alfabe karakter dizisi içindeki her bir öğeyi birbirinden ayırmak. İşte Türk alfabesindeki harflerden oluşan bu karakter dizisini, list() adlı bir fonksiyondan yararlanarak istediğimiz şekilde bölebiliriz:\n",
    "\n"
   ]
  },
  {
   "cell_type": "code",
   "execution_count": 35,
   "id": "88dd5d01-91e3-4ffb-b7f2-9916024747ab",
   "metadata": {},
   "outputs": [
    {
     "name": "stdout",
     "output_type": "stream",
     "text": [
      "['a', 'b', 'c', 'ç', 'd', 'e', 'f', 'g', 'ğ', 'h', 'ı', 'i', 'j', 'k', 'l', 'm', 'n', 'o', 'ö', 'p', 'r', 's', 'ş', 't', 'u', 'ü', 'v', 'y', 'z']\n"
     ]
    }
   ],
   "source": [
    "harf_listesi = list(alfabe)\n",
    "print(harf_listesi)"
   ]
  },
  {
   "cell_type": "markdown",
   "id": "e2d5bdb9-b593-4b98-a204-9bbc9538983e",
   "metadata": {},
   "source": [
    "Böylece list() fonksiyonu yardımıyla bu karakter dizisini tek hamlede listeye çevirmiş olduk.\n",
    "\n",
    "Peki bir karakter dizisini neden listeye çevirme ihtiyacı duyarız? Şu anda listelerle ilgili pek çok şeyi henüz bilmediğimiz için ilk bakışta bu çevirme işlemi gözünüze gereksizmiş gibi görünebilir, ama ilerleyen zamanda sizin de göreceğiniz gibi, bazı durumlarda listeleri manipüle etmek karakter dizilerini manipüle etmeye kıyasla çok daha kolaydır. O yüzden kimi zaman karakter dizilerini listeye çevirmek durumunda kalabilirsiniz.\n",
    "\n",
    "list() fonksiyonunun yaptığı işi, daha önce öğrendiğimiz str(), int() ve float() fonksiyonlarının yaptığı işle kıyaslayabilirsiniz. list() fonksiyonu da tıpkı str(), int() ve float() fonksiyonları gibi bir dönüştürme fonksiyonudur. Örneğin int() fonksiyonunu kullanarak sayı değerli karakter dizilerini sayıya dönüştürebiliyoruz:"
   ]
  },
  {
   "cell_type": "code",
   "execution_count": 36,
   "id": "a2345091-5733-4724-9afe-5516d41a00ce",
   "metadata": {},
   "outputs": [
    {
     "data": {
      "text/plain": [
       "123"
      ]
     },
     "execution_count": 36,
     "metadata": {},
     "output_type": "execute_result"
    }
   ],
   "source": [
    "k = \"123\"\n",
    "int(k)\n"
   ]
  },
  {
   "cell_type": "markdown",
   "id": "c5c6d2a5-eec2-449a-bafd-dd86839fd9bd",
   "metadata": {},
   "source": [
    "Bu dönüştürme işlemi sayesinde sayılar üzerinde aritmetik işlem yapma imkanımız olabiliyor. İşte list() fonksiyonu da buna benzer bir amaca hizmet eder. Mesela input() fonksiyonundan gelen bir karakter dizisi ile toplama çıkarma yapabilmek için nasıl bu karakter dizisini önce sayıya dönüştürmemiz gerekiyorsa, bazı durumlarda bu karakter dizisini (veya başka veri tiplerini) listeye çevirmemiz de gerekebilir. Böyle bir durumda list() fonksiyonunu kullanarak farklı veri tiplerini rahatlıkla listeye çevirebiliriz.\n",
    "\n",
    "Yukarıdaki işlevlerinin dışında, list() fonksiyonu boş bir liste oluşturmak için de kullanılabilir:"
   ]
  },
  {
   "cell_type": "code",
   "execution_count": 37,
   "id": "326a1cf9-8c11-4622-852c-3175bf974752",
   "metadata": {},
   "outputs": [
    {
     "name": "stdout",
     "output_type": "stream",
     "text": [
      "[]\n"
     ]
    }
   ],
   "source": [
    "li = list()\n",
    "print(li)\n"
   ]
  },
  {
   "cell_type": "markdown",
   "id": "d27fe0ae-62b3-4f39-afb9-8b0997687668",
   "metadata": {},
   "source": [
    "Yukarıdaki kodlardan gördüğünüz gibi, boş bir liste oluşturmak için liste = [] koduna alternatif olarak list() fonksiyonundan da yararlanabilirsiniz.\n",
    "\n",
    "list() fonksiyonunun önemli bir görevi de range() fonksiyonunun, sayı aralığını ekrana basmasını sağlamaktır. Bildiğiniz gibi, range() fonksiyonu tek başına bir sayı aralığını ekrana dökmez. Bu fonksiyon bize yalnızca şöyle bir çıktı verir:"
   ]
  },
  {
   "cell_type": "code",
   "execution_count": 38,
   "id": "491b4564-e5f8-474e-8d3f-08d99d562423",
   "metadata": {},
   "outputs": [
    {
     "data": {
      "text/plain": [
       "range(0, 10)"
      ]
     },
     "execution_count": 38,
     "metadata": {},
     "output_type": "execute_result"
    }
   ],
   "source": [
    "range(10)"
   ]
  },
  {
   "cell_type": "markdown",
   "id": "a1a82508-b8b5-41a8-9daa-5a3e11b20034",
   "metadata": {},
   "source": [
    "Bu sayı aralığını ekrana dökmek için range() fonksiyonu üzerinde bir for döngüsü kurmamız gerekir:"
   ]
  },
  {
   "cell_type": "code",
   "execution_count": 39,
   "id": "6a67b982-1823-4fb1-b4ea-bd690915e921",
   "metadata": {},
   "outputs": [
    {
     "name": "stdout",
     "output_type": "stream",
     "text": [
      "0\n",
      "1\n",
      "2\n",
      "3\n",
      "4\n",
      "5\n",
      "6\n",
      "7\n",
      "8\n",
      "9\n"
     ]
    }
   ],
   "source": [
    "for i in range(10):\n",
    "    print(i)\n"
   ]
  },
  {
   "cell_type": "markdown",
   "id": "3cf5c98f-3188-4554-a70c-89775b1ffcaa",
   "metadata": {},
   "source": [
    "Bu bölümde verdiğimiz örneklerde aynı işi şöyle de yapabileceğimizi öğrenmiştik:\n",
    "\n"
   ]
  },
  {
   "cell_type": "code",
   "execution_count": 40,
   "id": "4e5c112d-85e8-453c-9238-dc5595af1050",
   "metadata": {},
   "outputs": [
    {
     "name": "stdout",
     "output_type": "stream",
     "text": [
      "0 1 2 3 4 5 6 7 8 9\n"
     ]
    }
   ],
   "source": [
    "print(*range(10))"
   ]
  },
  {
   "cell_type": "markdown",
   "id": "d7cfcaac-4a0a-4c5b-b979-aafa6be51b51",
   "metadata": {},
   "source": [
    "Bu görevi yerine getirmenin üçüncü bir yolu da list() fonksiyonunu kullanmaktır:\n",
    "\n",
    "list"
   ]
  },
  {
   "cell_type": "code",
   "execution_count": 41,
   "id": "d36b5178-22bb-471f-afa3-87be798c28b7",
   "metadata": {},
   "outputs": [
    {
     "data": {
      "text/plain": [
       "[0, 1, 2, 3, 4, 5, 6, 7, 8, 9]"
      ]
     },
     "execution_count": 41,
     "metadata": {},
     "output_type": "execute_result"
    }
   ],
   "source": [
    "list(range(10))"
   ]
  },
  {
   "cell_type": "markdown",
   "id": "0849610e-7caf-43d4-8d15-60531ffdddd0",
   "metadata": {},
   "source": [
    "Aslında burada yaptığımız şey range(10) ifadesini bir listeye dönüştürmekten ibarettir. Burada range türünde bir veriyi list türünde bir veriye dönüştürüyoruz:"
   ]
  },
  {
   "cell_type": "code",
   "execution_count": 42,
   "id": "b8f23bdf-4d34-4335-ac71-2f8331cd6a64",
   "metadata": {},
   "outputs": [
    {
     "data": {
      "text/plain": [
       "range"
      ]
     },
     "execution_count": 42,
     "metadata": {},
     "output_type": "execute_result"
    }
   ],
   "source": [
    "type(range(10))\n"
   ]
  },
  {
   "cell_type": "code",
   "execution_count": 43,
   "id": "16f471cb-3b3f-4727-8bcd-866b4f74c81f",
   "metadata": {},
   "outputs": [
    {
     "data": {
      "text/plain": [
       "list"
      ]
     },
     "execution_count": 43,
     "metadata": {},
     "output_type": "execute_result"
    }
   ],
   "source": [
    "li = list(range(10))\n",
    "type(li)"
   ]
  },
  {
   "cell_type": "markdown",
   "id": "80f0f4e8-c932-4060-a107-02c2fd947f83",
   "metadata": {},
   "source": [
    "Gördüğünüz gibi, yukarıdaki üç yöntem de aralıktaki sayıları ekrana döküyor. Yalnız dikkat ederseniz bu üç yöntemin çıktıları aslında görünüş olarak birbirlerinden ince farklarla ayrılıyor. Yazdığınız programda nasıl bir çıktıya ihtiyacınız olduğuna bağlı olarak yukarıdaki yöntemlerden herhangi birini tercih edebilirsiniz.\n",
    "\n",
    "Böylece Python’da listelerin ne olduğunu ve bu veri tipinin nasıl oluşturulacağını öğrenmiş olduk. O halde bir adım daha atarak listelerin başka özelliklerine değinelim."
   ]
  },
  {
   "cell_type": "markdown",
   "id": "0aeed282-78c3-4415-94e7-695cf6a41bf7",
   "metadata": {},
   "source": [
    "+++++++++++++++++Listelerin Öğelerine Erişmek\n",
    "\n",
    "\n",
    "Tıpkı karakter dizilerinde olduğu gibi, listelerde de her öğenin bir sırası vardır. Hatırlarsanız karakter dizilerinin öğelerine şu şekilde ulaşıyorduk:"
   ]
  },
  {
   "cell_type": "code",
   "execution_count": 44,
   "id": "49628d1f-ec9b-456d-be78-164385a4af12",
   "metadata": {},
   "outputs": [
    {
     "data": {
      "text/plain": [
       "'p'"
      ]
     },
     "execution_count": 44,
     "metadata": {},
     "output_type": "execute_result"
    }
   ],
   "source": [
    "kardiz = \"python\"\n",
    "kardiz[0]\n"
   ]
  },
  {
   "cell_type": "markdown",
   "id": "f3c323f3-ab1d-4312-84e7-66de676490ef",
   "metadata": {},
   "source": [
    "Bu bölümdeki birkaç örnekte de gördüğünüz gibi, listelerin öğelerine ulaşırken de aynı yöntemi kullanabiliyoruz:"
   ]
  },
  {
   "cell_type": "code",
   "execution_count": 45,
   "id": "7d59ed09-c0ac-41c8-ac22-b5d94e1aa171",
   "metadata": {},
   "outputs": [
    {
     "data": {
      "text/plain": [
       "'elma'"
      ]
     },
     "execution_count": 45,
     "metadata": {},
     "output_type": "execute_result"
    }
   ],
   "source": [
    "meyveler = [\"elma\", \"armut\", \"çilek\", \"kiraz\"]\n",
    "meyveler[0]"
   ]
  },
  {
   "cell_type": "markdown",
   "id": "1ae9a113-a97f-468f-a92c-50ccbfe7df06",
   "metadata": {},
   "source": [
    "Yalnız yöntem aynı olsa da yukarıdaki iki çıktı arasında bazı farklar olduğunu da gözden kaçırmayın. Bir karakter dizisinin 0. öğesini aldığımızda o karakter dizisinin ilk karakterini almış oluyoruz. Bir listenin 0. öğesini aldığımızda ise o listenin ilk öğesini almış oluyoruz.\n",
    "\n",
    "Sayma yöntemi olarak ise karakter dizileri ve listelerde aynı mantık geçerli. Hem listelerde hem de karakter dizilerinde Python saymaya 0’dan başlıyor. Yani karakter dizilerinde olduğu gibi, listelerde de ilk öğenin sırası 0.\n",
    "\n",
    "Eğer bu listenin öğelerinin hepsine tek tek ulaşmak isterseniz for döngüsünden yararlanabilirsiniz:\n",
    "\n"
   ]
  },
  {
   "cell_type": "code",
   "execution_count": 48,
   "id": "0e99a677-c7b9-4c3c-9b59-fcd3f4070ab2",
   "metadata": {},
   "outputs": [
    {
     "name": "stdout",
     "output_type": "stream",
     "text": [
      "elma\n",
      "armut\n",
      "çilek\n",
      "kiraz\n"
     ]
    }
   ],
   "source": [
    "meyveler = [\"elma\", \"armut\", \"çilek\", \"kiraz\"]\n",
    "\n",
    "for meyve in meyveler:\n",
    "    print(meyve)"
   ]
  },
  {
   "cell_type": "markdown",
   "id": "399cc117-45a3-4a5e-8d65-aa9e66118d64",
   "metadata": {},
   "source": [
    "Bu listedeki öğeleri numaralandırmak da mümkün:"
   ]
  },
  {
   "cell_type": "code",
   "execution_count": 49,
   "id": "66ad0b78-96a9-42db-8fe2-9e707f820bd3",
   "metadata": {},
   "outputs": [
    {
     "name": "stdout",
     "output_type": "stream",
     "text": [
      "0. elma\n",
      "1. armut\n",
      "2. çilek\n",
      "3. kiraz\n"
     ]
    }
   ],
   "source": [
    "meyveler = [\"elma\", \"armut\", \"çilek\", \"kiraz\"]\n",
    "\n",
    "for öğe_sırası in range(len(meyveler)):\n",
    "    print(\"{}. {}\".format(öğe_sırası, meyveler[öğe_sırası]))"
   ]
  },
  {
   "cell_type": "markdown",
   "id": "f4765dbd-96d7-4d3b-b0f2-98b3c5bb9d54",
   "metadata": {},
   "source": [
    "…veya enumerate() fonksiyonunu kullanarak şöyle bir şey de yazabiliriz:"
   ]
  },
  {
   "cell_type": "code",
   "execution_count": 50,
   "id": "e19978ce-5fe5-44d9-813d-407c1201b0f0",
   "metadata": {},
   "outputs": [
    {
     "name": "stdout",
     "output_type": "stream",
     "text": [
      "1. elma\n",
      "2. armut\n",
      "3. çilek\n",
      "4. kiraz\n"
     ]
    }
   ],
   "source": [
    "for sıra, öğe in enumerate(meyveler, 1):\n",
    "    print(\"{}. {}\".format(sıra, öğe))"
   ]
  },
  {
   "cell_type": "markdown",
   "id": "e1196eff-a0fd-49cd-9644-de3bc350b498",
   "metadata": {},
   "source": [
    "Dediğimiz gibi, liste öğelerine ulaşmak için kullandığımız yöntem, karakter dizilerinin öğelerine ulaşmak için kullandığımız yöntemle aynı. Aslında karakter dizileri ile listeler arasındaki benzerlik bununla sınırlı değildir. Benzerlikleri birkaç örnek üzerinde gösterelim:\n",
    "\n"
   ]
  },
  {
   "cell_type": "code",
   "execution_count": 51,
   "id": "cfbd18cd-6262-403c-8e50-884eb770f0b1",
   "metadata": {},
   "outputs": [
    {
     "data": {
      "text/plain": [
       "'kiraz'"
      ]
     },
     "execution_count": 51,
     "metadata": {},
     "output_type": "execute_result"
    }
   ],
   "source": [
    "meyveler = [\"elma\", \"armut\", \"çilek\", \"kiraz\"]\n",
    "meyveler[-1]"
   ]
  },
  {
   "cell_type": "markdown",
   "id": "29abbaeb-1916-4124-9e61-8f0ab2b9a209",
   "metadata": {},
   "source": [
    "Karakter dizilerinde olduğu gibi, öğe sırasını eksi değerli bir sayı yaptığımızda liste öğeleri sondan başa doğru okunuyor. Dolayısıyla meyveler[-1] komutu bize meyveler adlı listenin son öğesini veriyor."
   ]
  },
  {
   "cell_type": "code",
   "execution_count": 52,
   "id": "3264c33d-2553-411d-8044-9aac15511e84",
   "metadata": {},
   "outputs": [
    {
     "data": {
      "text/plain": [
       "['elma', 'armut']"
      ]
     },
     "execution_count": 52,
     "metadata": {},
     "output_type": "execute_result"
    }
   ],
   "source": [
    "meyveler[0:2]"
   ]
  },
  {
   "cell_type": "markdown",
   "id": "f5f09b29-620e-462e-8229-679cf822f0f7",
   "metadata": {},
   "source": [
    "Karakter dizileri konusunu işlerken öğrendiğimiz dilimleme yöntemi listeler için de aynen geçerlidir. Orada öğrendiğimiz dilimleme kurallarını listelere de uygulayabiliyoruz. Örneğin liste öğelerini ters çevirmek için şöyle bir kod yazabiliyoruz:"
   ]
  },
  {
   "cell_type": "code",
   "execution_count": 53,
   "id": "442b87a8-09dd-4daa-a3cf-5fc937ca5386",
   "metadata": {},
   "outputs": [
    {
     "data": {
      "text/plain": [
       "['kiraz', 'çilek', 'armut', 'elma']"
      ]
     },
     "execution_count": 53,
     "metadata": {},
     "output_type": "execute_result"
    }
   ],
   "source": [
    "meyveler[::-1]"
   ]
  },
  {
   "cell_type": "markdown",
   "id": "8e739ec0-9d40-477f-b963-931b4f7053e7",
   "metadata": {},
   "source": [
    "Bu bölümün başında da söylediğimiz gibi, liste adlı veri tipi, içinde başka bir liste de barındırabilir. Buna şöyle bir örnek vermiştik:"
   ]
  },
  {
   "cell_type": "code",
   "execution_count": 54,
   "id": "4c1d5c57-22cb-4275-ad32-94f57400648a",
   "metadata": {},
   "outputs": [],
   "source": [
    "liste = [\"Ali\", \"Veli\", [\"Ayşe\", \"Nazan\", \"Zeynep\"], 34, 65, 33, 5.6]"
   ]
  },
  {
   "cell_type": "markdown",
   "id": "55a70140-0259-498f-b6bf-b16d627c8568",
   "metadata": {},
   "source": [
    "Bu listedeki öğeler şunlardır:"
   ]
  },
  {
   "cell_type": "raw",
   "id": "3cca5732-ae69-4084-9d10-793a0193a532",
   "metadata": {},
   "source": [
    "Ali\n",
    "Veli\n",
    "['Ayşe', 'Nazan', 'Zeynep']\n",
    "34\n",
    "65\n",
    "33\n",
    "5.6"
   ]
  },
  {
   "cell_type": "markdown",
   "id": "df81792c-b311-4130-a4ee-e4ab4ed09fd3",
   "metadata": {},
   "source": [
    "Gördüğünüz gibi, bu liste içinde [‘Ayşe’, ‘Nazan’, ‘Zeynep’] gibi bir liste daha var. Bu liste ana listenin öğelerinden biridir ve bu da öteki öğeler gibi tek öğelik bir yer kaplar. Yani:"
   ]
  },
  {
   "cell_type": "code",
   "execution_count": 55,
   "id": "67311f84-2a52-484f-85fb-9af6d260a547",
   "metadata": {},
   "outputs": [
    {
     "data": {
      "text/plain": [
       "7"
      ]
     },
     "execution_count": 55,
     "metadata": {},
     "output_type": "execute_result"
    }
   ],
   "source": [
    "len(liste)"
   ]
  },
  {
   "cell_type": "markdown",
   "id": "450f6de8-507e-4890-920e-df328bc57219",
   "metadata": {},
   "source": [
    "Bu çıktıdan anlıyoruz ki, listemiz toplam 7 öğeden oluşuyor. Listenin 2. sırasında yer alan listenin kendisi üç öğeden oluştuğu halde bu öğe ana liste içinde sadece tek öğelik bir yer kaplıyor. Yani 2. sıradaki listenin öğeleri tek tek sayılmıyor. Peki böyle bir liste içindeki gömülü listenin öğelerini elde etmek istersek ne yapacağız? Yani mesela içe geçmiş listenin tamamını değil de, örneğin sadece “Ayşe” öğesini almak istersek ne yapmamız gerekiyor? Dikkatlice bakın:"
   ]
  },
  {
   "cell_type": "code",
   "execution_count": 56,
   "id": "24cee14d-f402-45d2-8ea4-4a9707f9ddca",
   "metadata": {},
   "outputs": [
    {
     "data": {
      "text/plain": [
       "'Ayşe'"
      ]
     },
     "execution_count": 56,
     "metadata": {},
     "output_type": "execute_result"
    }
   ],
   "source": [
    "liste[2][0]\n"
   ]
  },
  {
   "cell_type": "markdown",
   "id": "8eca8ac3-a49a-437a-8899-645d6c955e0e",
   "metadata": {},
   "source": [
    "“Nazan” öğesini almak için:"
   ]
  },
  {
   "cell_type": "code",
   "execution_count": 57,
   "id": "1b7548eb-8481-4d34-9d49-9e77dd25a416",
   "metadata": {},
   "outputs": [
    {
     "data": {
      "text/plain": [
       "'Nazan'"
      ]
     },
     "execution_count": 57,
     "metadata": {},
     "output_type": "execute_result"
    }
   ],
   "source": [
    "liste[2][1]"
   ]
  },
  {
   "cell_type": "markdown",
   "id": "bbac5b3a-10a3-4047-9f5d-dba9931f4199",
   "metadata": {},
   "source": [
    "“Zeynep” öğesini almak için:"
   ]
  },
  {
   "cell_type": "code",
   "execution_count": 58,
   "id": "0e7ca7d2-f67b-4c4b-8785-fd6f0d696ce2",
   "metadata": {},
   "outputs": [
    {
     "data": {
      "text/plain": [
       "'Zeynep'"
      ]
     },
     "execution_count": 58,
     "metadata": {},
     "output_type": "execute_result"
    }
   ],
   "source": [
    "liste[2][2]"
   ]
  },
  {
   "cell_type": "markdown",
   "id": "21150107-e6f4-4ec2-9f7c-acaf655e6d83",
   "metadata": {},
   "source": [
    "Gördüğünüz gibi, iç içe geçmiş listelerin öğelerini almak oldukça basit. Yapmamız gereken tek şey, gömülü listenin önce ana listedeki konumunu, ardından da almak istediğimiz öğenin gömülü listedeki konumunu belirtmektir.\n",
    "\n",
    "İstersek gömülü listeyi ayrı bir liste olarak da alabiliriz:"
   ]
  },
  {
   "cell_type": "code",
   "execution_count": 59,
   "id": "259563ac-ae59-4ed0-8f07-95ebcb3f2caf",
   "metadata": {},
   "outputs": [
    {
     "data": {
      "text/plain": [
       "['Ayşe', 'Nazan', 'Zeynep']"
      ]
     },
     "execution_count": 59,
     "metadata": {},
     "output_type": "execute_result"
    }
   ],
   "source": [
    "yeni_liste = liste[2]\n",
    "yeni_liste"
   ]
  },
  {
   "cell_type": "markdown",
   "id": "6e011d12-d767-4911-a712-1f51da522b55",
   "metadata": {},
   "source": [
    "Böylece bu listenin öğelerine normal bir şekilde ulaşabiliriz:"
   ]
  },
  {
   "cell_type": "code",
   "execution_count": 60,
   "id": "dbe7cd8e-f107-4f10-be30-78eb28abdbd5",
   "metadata": {},
   "outputs": [
    {
     "data": {
      "text/plain": [
       "'Ayşe'"
      ]
     },
     "execution_count": 60,
     "metadata": {},
     "output_type": "execute_result"
    }
   ],
   "source": [
    "yeni_liste[0]"
   ]
  },
  {
   "cell_type": "code",
   "execution_count": 61,
   "id": "d6c29f77-9e44-49bd-858e-3509d172079b",
   "metadata": {},
   "outputs": [
    {
     "data": {
      "text/plain": [
       "'Nazan'"
      ]
     },
     "execution_count": 61,
     "metadata": {},
     "output_type": "execute_result"
    }
   ],
   "source": [
    "yeni_liste[1]"
   ]
  },
  {
   "cell_type": "code",
   "execution_count": 62,
   "id": "d456c64c-71e2-4a69-9239-7e87a46798fa",
   "metadata": {},
   "outputs": [
    {
     "data": {
      "text/plain": [
       "'Zeynep'"
      ]
     },
     "execution_count": 62,
     "metadata": {},
     "output_type": "execute_result"
    }
   ],
   "source": [
    "yeni_liste[2]"
   ]
  },
  {
   "cell_type": "markdown",
   "id": "73202d43-dd47-4b94-ac99-0e0775e7dcc8",
   "metadata": {},
   "source": [
    "Eğer bir listenin öğelerine erişmeye çalışırken, varolmayan bir sıra sayısı belirtirseniz Python size bir hata mesajı gösterecektir:"
   ]
  },
  {
   "cell_type": "code",
   "execution_count": 63,
   "id": "f57a066f-c6d9-4980-8d22-f143a1a5a79a",
   "metadata": {},
   "outputs": [
    {
     "name": "stdout",
     "output_type": "stream",
     "text": [
      "10\n"
     ]
    }
   ],
   "source": [
    "liste = range(10)\n",
    "print(len(liste))\n"
   ]
  },
  {
   "cell_type": "markdown",
   "id": "31495b8b-4323-4988-a10d-bfaad2dac972",
   "metadata": {},
   "source": [
    "Burada range() fonksiyonundan yararlanarak 10 öğeli bir liste tanımladık. Bu listenin son öğesinin şu formüle göre bulunabileceğini karakter dizileri konusundan hatırlıyor olmalısınız:"
   ]
  },
  {
   "cell_type": "code",
   "execution_count": 64,
   "id": "a5169176-6b83-4f35-ac84-27246bd0f366",
   "metadata": {},
   "outputs": [
    {
     "data": {
      "text/plain": [
       "9"
      ]
     },
     "execution_count": 64,
     "metadata": {},
     "output_type": "execute_result"
    }
   ],
   "source": [
    "liste[len(liste)-1]"
   ]
  },
  {
   "cell_type": "markdown",
   "id": "f789ed54-fef7-406e-b0db-bf5d4d8bbf08",
   "metadata": {},
   "source": [
    "Demek ki bu listenin son öğesi 9 sayısı imiş… Bir de şunu deneyelim:"
   ]
  },
  {
   "cell_type": "code",
   "execution_count": 65,
   "id": "84bf2126-ce96-424a-92de-99b4ecf19ae2",
   "metadata": {},
   "outputs": [
    {
     "ename": "IndexError",
     "evalue": "range object index out of range",
     "output_type": "error",
     "traceback": [
      "\u001b[0;31m---------------------------------------------------------------------------\u001b[0m",
      "\u001b[0;31mIndexError\u001b[0m                                Traceback (most recent call last)",
      "Cell \u001b[0;32mIn[65], line 1\u001b[0m\n\u001b[0;32m----> 1\u001b[0m \u001b[43mliste\u001b[49m\u001b[43m[\u001b[49m\u001b[38;5;241;43m10\u001b[39;49m\u001b[43m]\u001b[49m\n",
      "\u001b[0;31mIndexError\u001b[0m: range object index out of range"
     ]
    }
   ],
   "source": [
    "liste[10]\n"
   ]
  },
  {
   "cell_type": "markdown",
   "id": "a2802ad4-29bb-4bd6-afdd-a9f1d0081fb6",
   "metadata": {},
   "source": [
    "Gördüğünüz gibi, listemizde 10. öğe diye bir şey olmadığı için Python bize IndexError tipinde bir hata mesajı gösteriyor. Çünkü bu listenin son öğesinin sırası len(liste)-1, yani 9’dur.\n",
    "\n",
    "++++++++++++Listelerin Öğelerini Değiştirmek\n",
    "\n",
    "\n",
    "Hatırlarsanız karakter dizilerinden söz ederken bunların değiştirilemez (immutable) bir veri tipi olduğunu söylemiştik. Bu özellikten ötürü, bir karakter dizisi üzerinde değişiklik yapmak istediğimizde o karakter dizisini yeniden oluşturuyoruz. Örneğin:"
   ]
  },
  {
   "cell_type": "code",
   "execution_count": 67,
   "id": "2808409e-dfd8-4e34-b5ce-51a1552c8cb4",
   "metadata": {},
   "outputs": [
    {
     "data": {
      "text/plain": [
       "'İstihza'"
      ]
     },
     "execution_count": 67,
     "metadata": {},
     "output_type": "execute_result"
    }
   ],
   "source": [
    "kardiz = \"istihza\"\n",
    "kardiz = \"İ\" + kardiz[1:]\n",
    "kardiz"
   ]
  },
  {
   "cell_type": "markdown",
   "id": "0287e070-6416-482a-84c1-1c3b5c99c95c",
   "metadata": {},
   "source": [
    "Listeler ise değiştirilebilen (mutable) bir veri tipidir. Dolayısıyla listeler üzerinde doğrudan değişiklik yapabiliriz. Bir liste üzerinde değişiklik yapabilmek için o listeyi yeniden tanımlamamıza gerek yok. Şu örneği dikkatlice inceleyin:"
   ]
  },
  {
   "cell_type": "code",
   "execution_count": 68,
   "id": "effe3ae2-6c89-4e30-8863-4aba3294419f",
   "metadata": {},
   "outputs": [
    {
     "name": "stdout",
     "output_type": "stream",
     "text": [
      "['kırmızı', 'sarı', 'mavi', 'yeşil', 'beyaz']\n"
     ]
    }
   ],
   "source": [
    "renkler = [\"kırmızı\", \"sarı\", \"mavi\", \"yeşil\", \"beyaz\"]\n",
    "print(renkler)\n"
   ]
  },
  {
   "cell_type": "code",
   "execution_count": 70,
   "id": "21459d29-477a-4b8a-bf85-40306b90fbcd",
   "metadata": {},
   "outputs": [
    {
     "name": "stdout",
     "output_type": "stream",
     "text": [
      "['siyah', 'sarı', 'mavi', 'yeşil', 'beyaz']\n"
     ]
    }
   ],
   "source": [
    "renkler[0] = \"siyah\"\n",
    "print(renkler)"
   ]
  },
  {
   "cell_type": "markdown",
   "id": "259922be-8504-40a0-9fb7-158845f2c22e",
   "metadata": {},
   "source": [
    "Liste öğelerini nasıl değiştirdiğimize çok dikkat edin. Yukarıdaki örnekte renkler adlı listenin 0. öğesini değiştirmek istiyoruz. Bunun için şöyle bir formül kullandık:\n",
    "\n"
   ]
  },
  {
   "cell_type": "raw",
   "id": "8f88325f-f0f8-442b-981f-f63753492a86",
   "metadata": {},
   "source": [
    "renkler[öğe_sırası] = yeni_öğe"
   ]
  },
  {
   "cell_type": "markdown",
   "id": "6b9f95c2-e5f8-4051-bdba-0bca44aea724",
   "metadata": {},
   "source": [
    "Örnek olması açısından, aynı listenin 2. sırasındaki “mavi” adlı öğeyi “mor” yapalım bir de:\n",
    "\n"
   ]
  },
  {
   "cell_type": "code",
   "execution_count": 71,
   "id": "7459a2d5-78be-4217-a0d9-3652c4582efc",
   "metadata": {},
   "outputs": [
    {
     "name": "stdout",
     "output_type": "stream",
     "text": [
      "['siyah', 'sarı', 'mor', 'yeşil', 'beyaz']\n"
     ]
    }
   ],
   "source": [
    "renkler[2] = \"mor\"\n",
    "print(renkler)"
   ]
  },
  {
   "cell_type": "markdown",
   "id": "47f8c028-bf48-4d39-83f2-7c0b32599999",
   "metadata": {},
   "source": [
    "Gördüğünüz gibi, listeler üzerinde değişiklik yapmak son derece kolay. Sırf bu özellik bile, neden bazı durumlarda listelerin karakter dizileri yerine tercih edilebileceğini gösterecek güçtedir.\n",
    "\n",
    "Liste öğelerini değiştirmeye çalışırken, eğer var olmayan bir sıra numarasına atıfta bulunursanız Python size IndexError tipinde bir hata mesajı gösterecektir:\n",
    "\n"
   ]
  },
  {
   "cell_type": "code",
   "execution_count": 72,
   "id": "9f69806c-58de-4372-9806-868af7b7e37c",
   "metadata": {},
   "outputs": [
    {
     "ename": "IndexError",
     "evalue": "list assignment index out of range",
     "output_type": "error",
     "traceback": [
      "\u001b[0;31m---------------------------------------------------------------------------\u001b[0m",
      "\u001b[0;31mIndexError\u001b[0m                                Traceback (most recent call last)",
      "Cell \u001b[0;32mIn[72], line 1\u001b[0m\n\u001b[0;32m----> 1\u001b[0m \u001b[43mrenkler\u001b[49m\u001b[43m[\u001b[49m\u001b[38;5;241;43m10\u001b[39;49m\u001b[43m]\u001b[49m \u001b[38;5;241m=\u001b[39m \u001b[38;5;124m\"\u001b[39m\u001b[38;5;124mpembe\u001b[39m\u001b[38;5;124m\"\u001b[39m\n",
      "\u001b[0;31mIndexError\u001b[0m: list assignment index out of range"
     ]
    }
   ],
   "source": [
    "renkler[10] = \"pembe\""
   ]
  },
  {
   "cell_type": "markdown",
   "id": "525ac4d4-73d7-4be1-a419-b1caa5219e0b",
   "metadata": {},
   "source": [
    "Sıra numaralarını kullanarak listeler üzerinde daha ilginç işlemler de yapabilirsiniz. Mesela şu örneğe bakın:"
   ]
  },
  {
   "cell_type": "code",
   "execution_count": 73,
   "id": "ea72c7b0-1f34-45f4-86e3-1b6a66b9f832",
   "metadata": {},
   "outputs": [
    {
     "name": "stdout",
     "output_type": "stream",
     "text": [
      "[5, 6, 7]\n"
     ]
    }
   ],
   "source": [
    "liste = [1, 2, 3]\n",
    "liste[0:len(liste)] = 5, 6, 7\n",
    "print(liste)\n"
   ]
  },
  {
   "cell_type": "markdown",
   "id": "545e1128-4b0c-4b1d-9870-7f2b504784e4",
   "metadata": {},
   "source": [
    "Burada liste adlı listenin bütün öğelerini bir çırpıda değiştirdik. Peki bunu nasıl yaptık?\n",
    "\n",
    "Yukarıdaki örneği şu şekilde yazarsak biraz daha açıklayıcı olabilir:"
   ]
  },
  {
   "cell_type": "code",
   "execution_count": 74,
   "id": "37cbd3d3-0f4b-4e34-bc6d-78aa7497caeb",
   "metadata": {},
   "outputs": [],
   "source": [
    "liste[0:3] = 5, 6, 7"
   ]
  },
  {
   "cell_type": "markdown",
   "id": "63563b96-dac9-4010-b60f-e8ed2f48ebdd",
   "metadata": {},
   "source": [
    "Bu kodlarla yaptığımız şey, listenin 0. ve 3. öğesi arasında kalan bütün öğelerin yerine 5, 6 ve 7 öğelerini yerleştirmekten ibarettir.\n",
    "\n",
    "Karakter dizilerinden hatırlayacağınız gibi, eğer sıra numarası bir karakter dizisinin ilk öğesine karşılık geliyorsa o sıra numarasını belirtmeyebiliriz. Aynı şekilde eğer sıra numarası bir karakter dizisinin son öğesine karşılık geliyorsa o sıra numarasını da belirtmeyebiliriz. Bu kural listeler için de geçerlidir. Dolayısıyla yukarıdaki örneği şöyle de yazabilirdik:"
   ]
  },
  {
   "cell_type": "code",
   "execution_count": 75,
   "id": "a52bd19e-e196-40c7-8277-25768650b3b2",
   "metadata": {},
   "outputs": [],
   "source": [
    "liste[:] = 5, 6, 7"
   ]
  },
  {
   "cell_type": "markdown",
   "id": "adb2bd70-2093-4ff1-8376-d20a45a84e87",
   "metadata": {},
   "source": [
    "Sıra numaralarını kullanarak gerçekten son derece enteresan işlemler yapabilirsiniz. Sıra numaraları ile neler yapabileceğinizi görmek için kendi kendinize ve hayal gücünüzü zorlayarak bazı denemeler yapmanızı tavsiye ederim.\n",
    "\n"
   ]
  },
  {
   "cell_type": "markdown",
   "id": "49b168be-36cc-43b7-a9eb-4c2b3cca185f",
   "metadata": {},
   "source": [
    "+++++++++++Listeye Öğe Eklemek\n",
    "\n",
    "\n",
    "Listeler büyüyüp küçülebilen bir veri tipidir. Yani Python’da bir listeye istediğiniz kadar öğe ekleyebilirsiniz. Diyelim ki elimizde şöyle bir liste var:\n",
    "\n"
   ]
  },
  {
   "cell_type": "code",
   "execution_count": 76,
   "id": "7d80e9e0-427a-445f-bf1a-4050c07f0c4e",
   "metadata": {},
   "outputs": [],
   "source": [
    "liste = [2, 4, 5, 7]"
   ]
  },
  {
   "cell_type": "markdown",
   "id": "dfb0b9f8-1daf-4b3a-84be-0be0a71581de",
   "metadata": {},
   "source": [
    "Bu listeye yeni bir öğe ekleyebilmek için şöyle bir kod yazabiliriz:"
   ]
  },
  {
   "cell_type": "code",
   "execution_count": 77,
   "id": "af3e6ab4-48e4-4c56-a8a3-2265b1782a69",
   "metadata": {},
   "outputs": [
    {
     "data": {
      "text/plain": [
       "[2, 4, 5, 7, 8]"
      ]
     },
     "execution_count": 77,
     "metadata": {},
     "output_type": "execute_result"
    }
   ],
   "source": [
    "liste + [8]"
   ]
  },
  {
   "cell_type": "markdown",
   "id": "45c2243a-22c0-4455-9ba7-7d55edd8e6e6",
   "metadata": {},
   "source": [
    "Bu örnek, bize listeler hakkında önemli bir bilgi veriyor. Python’da + işareti kullanarak bir listeye öğe ekleyecekseniz, eklediğiniz öğenin de liste olması gerekiyor. Mesela bir listeye doğrudan karakter dizilerini veya sayıları ekleyemezsiniz:"
   ]
  },
  {
   "cell_type": "code",
   "execution_count": 78,
   "id": "ea551623-1beb-47b6-9c96-807d1dcc9bd2",
   "metadata": {},
   "outputs": [
    {
     "ename": "TypeError",
     "evalue": "can only concatenate list (not \"int\") to list",
     "output_type": "error",
     "traceback": [
      "\u001b[0;31m---------------------------------------------------------------------------\u001b[0m",
      "\u001b[0;31mTypeError\u001b[0m                                 Traceback (most recent call last)",
      "Cell \u001b[0;32mIn[78], line 1\u001b[0m\n\u001b[0;32m----> 1\u001b[0m \u001b[43mliste\u001b[49m\u001b[43m \u001b[49m\u001b[38;5;241;43m+\u001b[39;49m\u001b[43m \u001b[49m\u001b[38;5;241;43m8\u001b[39;49m\n",
      "\u001b[0;31mTypeError\u001b[0m: can only concatenate list (not \"int\") to list"
     ]
    }
   ],
   "source": [
    "liste + 8"
   ]
  },
  {
   "cell_type": "markdown",
   "id": "5e4dfcfb-4b9c-4b99-86e4-2ba518c37ed6",
   "metadata": {},
   "source": [
    "Listelere + işareti ile ekleyeceğiniz öğelerin de bir liste olması gerekiyor. Aksi halde Python bize bir hata mesajı gösteriyor.\n",
    "\n",
    "+++++++++++Listeleri Birleştirmek\n",
    "\n",
    "    \n",
    "Bazı durumlarda elinize farklı kaynaklardan farklı listeler gelebilir. Böyle bir durumda bu farklı listeleri tek bir liste halinde birleştirmeniz gerekebilir. Tıpkı karakter dizilerinde olduğu gibi, listelerde de birleştirme işlemleri için + işlecinden yararlanabilirsiniz.\n",
    "\n",
    "Diyelim ki elimizde şöyle iki adet liste var:\n",
    "\n"
   ]
  },
  {
   "cell_type": "code",
   "execution_count": 79,
   "id": "aa16ed51-211e-408b-b6f5-33e98a39cb52",
   "metadata": {},
   "outputs": [],
   "source": [
    "derlenen_diller = [\"C\", \"C++\", \"C#\", \"Java\"]\n",
    "yorumlanan_diller = [\"Python\", \"Perl\", \"Ruby\"]"
   ]
  },
  {
   "cell_type": "markdown",
   "id": "4c7f43f3-07a0-47cf-8599-50564a6b6568",
   "metadata": {},
   "source": [
    "Bu iki farklı listeyi tek bir liste haline getirmek için şöyle bir kod yazabiliriz:\n",
    "\n"
   ]
  },
  {
   "cell_type": "code",
   "execution_count": 81,
   "id": "7e613df8-d36e-4d3b-9b13-5be840113594",
   "metadata": {},
   "outputs": [],
   "source": [
    "programlama_dilleri = derlenen_diller + yorumlanan_diller"
   ]
  },
  {
   "cell_type": "markdown",
   "id": "9ae3e0dd-c043-439b-884c-31e73b693be8",
   "metadata": {},
   "source": [
    "Bu işlemin sonucunu görelim:"
   ]
  },
  {
   "cell_type": "code",
   "execution_count": 82,
   "id": "c51697e5-54ab-4a44-b00c-889a07011166",
   "metadata": {},
   "outputs": [
    {
     "name": "stdout",
     "output_type": "stream",
     "text": [
      "['C', 'C++', 'C#', 'Java', 'Python', 'Perl', 'Ruby']\n"
     ]
    }
   ],
   "source": [
    "print(programlama_dilleri)"
   ]
  },
  {
   "cell_type": "markdown",
   "id": "d0caa0b5-3819-4ec1-a27a-eac7915d159d",
   "metadata": {},
   "source": [
    "Gördüğünüz gibi, derlenen_diller ve yorumlanan_diller adlı listelerin öğelerini programlama_dilleri adlı tek bir liste içinde topladık.\n",
    "\n",
    "Programcılık maceranız boyunca listeleri birleştirmenizi gerektiren pek çok farklı durumla karşılaşabilirsiniz. Örneğin şöyle bir durum düşünün: Diyelim ki kullanıcı tarafından girilen sayıların ortalamasını hesaplayan bir program yazmak istiyorsunuz. Bunun için şöyle bir kod yazabilirsiniz:"
   ]
  },
  {
   "cell_type": "code",
   "execution_count": null,
   "id": "162dab44-fde1-4e74-b85b-a3646bd6186a",
   "metadata": {},
   "outputs": [],
   "source": [
    "sayılar = 0\n",
    "\n",
    "for i in range(10):\n",
    "    sayılar += int(input(\"not: \"))\n",
    "\n",
    "print(sayılar/10)"
   ]
  },
  {
   "cell_type": "markdown",
   "id": "119c5572-e71a-46d6-af1d-1b9611eeeac3",
   "metadata": {},
   "source": [
    "Bu program kullanıcının 10 adet sayı girmesine izin verip, program çıkışında, girilen sayıların ortalamasını verecektir.\n",
    "\n",
    "Peki girilen sayıların ortalaması ile birlikte, hangi sayıların girildiğini de göstermek isterseniz nasıl bir kod yazarsınız?\n",
    "\n",
    "Eğer böyle bir şeyi karakter dizileri ile yazmaya kalkışırsanız epey eziyet çekersiniz. Ama şöyle bir kod yardımıyla istediğiniz şeyi basit bir şekilde elde edebilirsiniz:"
   ]
  },
  {
   "cell_type": "code",
   "execution_count": null,
   "id": "e61f51c9-1a52-4910-a37c-961e5a7e1e99",
   "metadata": {},
   "outputs": [],
   "source": [
    "sayılar = 0\n",
    "notlar = []\n",
    "\n",
    "for i in range(10):\n",
    "    veri = int(input(\"{}. not: \".format(i+1)))\n",
    "    sayılar += veri\n",
    "    notlar += [veri]\n",
    "\n",
    "print(\"Girdiğiniz notlar: \", *notlar)\n",
    "print(\"Not ortalamanız: \", sayılar/10)"
   ]
  },
  {
   "cell_type": "markdown",
   "id": "a0d8f12f-6ad5-4be3-b1eb-fe4ec459605a",
   "metadata": {},
   "source": [
    "Burada kullanıcıdan gelen verileri her döngüde tek tek notlar adlı listeye gönderiyoruz. Böylece programın sonunda, kullanıcıdan gelen veriler bir liste halinde elimizde bulunmuş oluyor.\n",
    "\n",
    "Bu arada, yukarıdaki kodlarda dikkatinizi bir şey çekmiş olmalı. Kullanıcıdan gelen verileri notlar adlı listeye gönderirken şöyle bir kod yazdık:"
   ]
  },
  {
   "cell_type": "raw",
   "id": "bf2b32dc-f90f-408d-8bae-d30c9c313e01",
   "metadata": {},
   "source": [
    "notlar += [veri]"
   ]
  },
  {
   "cell_type": "markdown",
   "id": "5dd83e13-524a-41d7-92be-a76dd8758253",
   "metadata": {},
   "source": [
    "Buradaki [veri] ifadesine dikkat edin. Bu kod yardımıyla kullanıcıdan gelen veri adlı değişkeni liste haline getiriyoruz. Bu yöntem bizim için yeni bir şey. Peki neden burada list() fonksiyonundan yararlanmadık?\n",
    "\n",
    "Bunu anlamak için list() fonksiyonunun çalışma mantığını anlamamız gerekiyor.\n",
    "\n",
    "Elinizde şöyle bir karakter dizisi olduğunu düşünün:"
   ]
  },
  {
   "cell_type": "code",
   "execution_count": 84,
   "id": "42806d56-9014-4ec2-868e-706373bd2dc4",
   "metadata": {},
   "outputs": [],
   "source": [
    "alfabe = \"abcçdefgğhıijklmnoöprsştuüvyz\""
   ]
  },
  {
   "cell_type": "markdown",
   "id": "59cc9ecc-a682-4dbb-bb74-fa9fdafbf48f",
   "metadata": {},
   "source": [
    "Diyelim ki siz bu karakter dizisindeki bütün öğeleri tek tek bir listeye atmak istiyorsunuz. Bu iş için list() fonksiyonunu kullanabileceğimizi daha önce söylemiştik:"
   ]
  },
  {
   "cell_type": "code",
   "execution_count": 85,
   "id": "99d4a4ba-b350-4b79-b3ae-c22bde7ad940",
   "metadata": {},
   "outputs": [],
   "source": [
    "liste = list(alfabe)"
   ]
  },
  {
   "cell_type": "markdown",
   "id": "9c4c1c2d-83e7-4c8c-b6f9-343f8d082f11",
   "metadata": {},
   "source": [
    "Peki list() fonksiyonu bu karakter dizisinin öğelerini listeye atarken nasıl bir yöntem izliyor?\n",
    "\n",
    "Aslında list() fonksiyonunun yaptığı iş şuna eşdeğerdir:"
   ]
  },
  {
   "cell_type": "code",
   "execution_count": null,
   "id": "f3a88aae-d8a8-49a4-ba4d-6a87bc61528f",
   "metadata": {},
   "outputs": [],
   "source": [
    "liste = []\n",
    "alfabe = \"abcçdefgğhıijklmnoöprsştuüvyz\"\n",
    "\n",
    "for harf in alfabe:\n",
    "    liste += harf\n",
    "\n",
    "print(liste)"
   ]
  },
  {
   "cell_type": "markdown",
   "id": "25224f73-82cc-4914-8330-789e3e39d9c0",
   "metadata": {},
   "source": [
    "list() fonksiyonu da tam olarak böyle çalışır. Yani bir karakter dizisi üzerinde döngü kurarak, o karakter dizisinin her bir öğesini tek tek bir listeye atar.\n",
    "\n",
    "for döngülerini işlerken, bu döngünün sayılar üzerinde çalışmayacağını söylemiştik. Çünkü sayılar, karakter dizilerinin aksine, üzerinde döngü kurulabilen bir veri tipi değildir. Bunu bir örnek üzerinde tekrar görelim:"
   ]
  },
  {
   "cell_type": "code",
   "execution_count": 86,
   "id": "44a2705a-9cb9-4610-b0f2-bc1bd892d964",
   "metadata": {},
   "outputs": [
    {
     "ename": "TypeError",
     "evalue": "'int' object is not iterable",
     "output_type": "error",
     "traceback": [
      "\u001b[0;31m---------------------------------------------------------------------------\u001b[0m",
      "\u001b[0;31mTypeError\u001b[0m                                 Traceback (most recent call last)",
      "Cell \u001b[0;32mIn[86], line 1\u001b[0m\n\u001b[0;32m----> 1\u001b[0m \u001b[38;5;28;01mfor\u001b[39;00m i \u001b[38;5;129;01min\u001b[39;00m \u001b[38;5;241m12345\u001b[39m:\n\u001b[1;32m      2\u001b[0m     \u001b[38;5;28mprint\u001b[39m(i)\n",
      "\u001b[0;31mTypeError\u001b[0m: 'int' object is not iterable"
     ]
    }
   ],
   "source": [
    "for i in 12345:\n",
    "    print(i)\n"
   ]
  },
  {
   "cell_type": "markdown",
   "id": "ed404d09-8bd3-4290-83f0-0230260970c9",
   "metadata": {},
   "source": [
    "Gördüğünüz gibi, 12345 sayısı üzerinde döngü kuramıyoruz. Aynı hata mesajını list() fonksiyonunda da görürsünüz:"
   ]
  },
  {
   "cell_type": "code",
   "execution_count": 87,
   "id": "3f0bf421-db0f-4962-ab0d-45f9a5a99f72",
   "metadata": {},
   "outputs": [
    {
     "ename": "TypeError",
     "evalue": "'int' object is not iterable",
     "output_type": "error",
     "traceback": [
      "\u001b[0;31m---------------------------------------------------------------------------\u001b[0m",
      "\u001b[0;31mTypeError\u001b[0m                                 Traceback (most recent call last)",
      "Cell \u001b[0;32mIn[87], line 1\u001b[0m\n\u001b[0;32m----> 1\u001b[0m \u001b[38;5;28;43mlist\u001b[39;49m\u001b[43m(\u001b[49m\u001b[38;5;241;43m12345\u001b[39;49m\u001b[43m)\u001b[49m\n",
      "\u001b[0;31mTypeError\u001b[0m: 'int' object is not iterable"
     ]
    }
   ],
   "source": [
    "list(12345)"
   ]
  },
  {
   "cell_type": "markdown",
   "id": "3ecbac6e-82a7-4de0-a0db-bda7f3f8f92c",
   "metadata": {},
   "source": [
    "Dediğimiz gibi, tıpkı for döngüsünde olduğu gibi, list() fonksiyonu da ancak, üzerinde döngü kurulabilen nesneler üzerinde çalışabilir. Mesela:"
   ]
  },
  {
   "cell_type": "code",
   "execution_count": 88,
   "id": "035ebad8-1a57-4af4-9d16-e91d96d2fdc8",
   "metadata": {},
   "outputs": [
    {
     "data": {
      "text/plain": [
       "['1', '2', '3', '4', '5']"
      ]
     },
     "execution_count": 88,
     "metadata": {},
     "output_type": "execute_result"
    }
   ],
   "source": [
    "list(\"12345\")"
   ]
  },
  {
   "cell_type": "markdown",
   "id": "29ed2a6f-e927-42d3-a397-3b40f2cc6996",
   "metadata": {},
   "source": [
    "Bu bilgilerin ışığında, yukarıda yazdığımız kodların şu şekilde yazılması halinde Python’ın bize hata mesajı göstereceğini söyleyebiliriz:"
   ]
  },
  {
   "cell_type": "code",
   "execution_count": null,
   "id": "8ae14230-4327-4cd6-891f-3ddf455cc71a",
   "metadata": {},
   "outputs": [],
   "source": [
    "notlar = []\n",
    "\n",
    "for i in range(10):\n",
    "    veri = int(input(\"{}. not: \".format(i+1)))\n",
    "    notlar += list(veri)\n",
    "\n",
    "print(\"Girdiğiniz notlar: \", *notlar)"
   ]
  },
  {
   "cell_type": "markdown",
   "id": "7ec6b1e2-f793-4415-a4d7-80c37f418979",
   "metadata": {},
   "source": [
    "Kullanıcıdan gelen veri değerini int() fonksiyonuyla sayıya dönüştürdüğümüz için ve sayılar da üzerinde döngü kurulabilen bir veri tipi olmadığı için list() fonksiyonuna parametre olarak atanamaz.\n",
    "\n",
    "Peki kullanıcıdan gelen veri değerini sayıya dönüştürmeden, karakter dizisi biçiminde list() fonksiyonuna parametre olarak verirsek ne olur? Bu durumda list() fonksiyonu çalışır, ama istediğimiz gibi bir sonuç vermez. Şu kodları dikkatlice inceleyin:"
   ]
  },
  {
   "cell_type": "code",
   "execution_count": null,
   "id": "987d90f2-71c7-4e8e-9739-4fcf0974d1fc",
   "metadata": {},
   "outputs": [],
   "source": [
    "notlar = []\n",
    "\n",
    "for i in range(10):\n",
    "    veri = input(\"{}. not: \".format(i+1))\n",
    "    notlar += list(veri)\n",
    "\n",
    "print(\"Girdiğiniz notlar: \", *notlar)"
   ]
  },
  {
   "cell_type": "markdown",
   "id": "820a9456-30e2-4ff3-9c41-aa0efe6b2cda",
   "metadata": {},
   "source": [
    "Bu kodları çalıştırdığınızda, tek haneli sayılar düzgün bir şekilde listeye eklenir, ancak çift ve daha fazla haneli sayılar ise listeye parça parça eklenir. Örneğin 234 sayısını girdiğinizde listeye 2, 3 ve 4 sayıları tek tek eklenir. Çünkü, yukarıda da dediğim gibi, list() fonksiyonu, aslında karakter dizileri üzerine bir for döngüsü kurar. Yani:"
   ]
  },
  {
   "cell_type": "code",
   "execution_count": 89,
   "id": "70969233-fc12-4347-96f0-dc63b62c5af8",
   "metadata": {},
   "outputs": [
    {
     "name": "stdout",
     "output_type": "stream",
     "text": [
      "2\n",
      "3\n",
      "4\n"
     ]
    }
   ],
   "source": [
    "for i in \"234\":\n",
    "    print(i)"
   ]
  },
  {
   "cell_type": "markdown",
   "id": "1b98c8ba-d1ab-4bb3-a4b1-4af72ebd4abe",
   "metadata": {},
   "source": [
    "Dolayısıyla listeye 234 sayısı bir bütün olarak değil de, parça parça eklendiği için istediğiniz sonucu alamamış olursunuz.\n",
    "\n",
    "Peki bu sorunun üstesinden nasıl geleceğiz? Aslında bu sorunun çözümü çok basittir. Eğer bir verinin listeye parça parça değil de, bir bütün olarak eklenmesini istiyorsanız [] işaretlerinden yararlanabilirsiniz. Tıpkı şu örnekte olduğu gibi:"
   ]
  },
  {
   "cell_type": "code",
   "execution_count": null,
   "id": "43be8527-f36b-46e9-8b81-9d09763b53d6",
   "metadata": {},
   "outputs": [],
   "source": [
    "liste = []\n",
    "\n",
    "while True:\n",
    "    sayı = input(\"Bir sayı girin: (çıkmak için q) \")\n",
    "\n",
    "    if sayı == \"q\":\n",
    "        break\n",
    "\n",
    "    sayı = int(sayı)\n",
    "\n",
    "    if sayı not in liste:\n",
    "        liste +=  [sayı]\n",
    "        print(liste)\n",
    "    else:\n",
    "        print(\"Bu sayıyı daha önce girdiniz!\")"
   ]
  },
  {
   "cell_type": "markdown",
   "id": "15c82c5a-2d8e-4011-9b97-7b6123eac505",
   "metadata": {},
   "source": [
    "Gördüğünüz gibi, kullanıcı tarafından aynı verinin birden fazla girilmesini önlemek için de listelerden yararlanabiliyoruz.\n",
    "\n",
    "Yalnız burada şunu söyleyelim: Gerçek programlarda listelere öğe eklemek veya listeleri birleştirmek gibi işlemler için yukarıdaki gibi + işlecinden yararlanmayacağız. Yukarıda gösterdiğimiz yöntem de doğru olmakla birlikte, bu iş için genellikle liste metotlarından yararlanılır. Bu metotları birazdan göreceğiz.\n",
    "\n"
   ]
  },
  {
   "cell_type": "markdown",
   "id": "e0c3df21-98e0-485b-91db-57376a307fb6",
   "metadata": {},
   "source": [
    "+++++++++++++++Listeden Öğe Çıkarmak\n",
    "\n",
    "\n",
    "Bir listeden öğe silmek için del adlı ifadeden yararlanabilirsiniz. Örneğin:"
   ]
  },
  {
   "cell_type": "code",
   "execution_count": 90,
   "id": "6e841ae6-ac87-4202-8df4-c03ec7efb8b1",
   "metadata": {},
   "outputs": [
    {
     "data": {
      "text/plain": [
       "[1, 5, 3, 2]"
      ]
     },
     "execution_count": 90,
     "metadata": {},
     "output_type": "execute_result"
    }
   ],
   "source": [
    "liste = [1, 5, 3, 2, 9]\n",
    "del liste[-1]\n",
    "liste"
   ]
  },
  {
   "cell_type": "markdown",
   "id": "a0061078-056f-448b-853d-3084cb43d341",
   "metadata": {},
   "source": [
    "++++++++++++++++Listeleri Silmek\n",
    "\n",
    "\n",
    "Python’da listeleri tamamen silmek de mümkündür. Örneğin:"
   ]
  },
  {
   "cell_type": "code",
   "execution_count": 92,
   "id": "8b8e96ad-bdf5-428e-a2d5-edf0b23a0c51",
   "metadata": {},
   "outputs": [
    {
     "ename": "NameError",
     "evalue": "name 'liste' is not defined",
     "output_type": "error",
     "traceback": [
      "\u001b[0;31m---------------------------------------------------------------------------\u001b[0m",
      "\u001b[0;31mNameError\u001b[0m                                 Traceback (most recent call last)",
      "Cell \u001b[0;32mIn[92], line 3\u001b[0m\n\u001b[1;32m      1\u001b[0m liste \u001b[38;5;241m=\u001b[39m [\u001b[38;5;241m1\u001b[39m, \u001b[38;5;241m5\u001b[39m, \u001b[38;5;241m3\u001b[39m, \u001b[38;5;241m2\u001b[39m, \u001b[38;5;241m9\u001b[39m]\n\u001b[1;32m      2\u001b[0m \u001b[38;5;28;01mdel\u001b[39;00m liste\n\u001b[0;32m----> 3\u001b[0m \u001b[43mliste\u001b[49m\n",
      "\u001b[0;31mNameError\u001b[0m: name 'liste' is not defined"
     ]
    }
   ],
   "source": [
    "liste = [1, 5, 3, 2, 9]\n",
    "del liste\n",
    "liste"
   ]
  },
  {
   "cell_type": "markdown",
   "id": "8082a8f9-6fea-4c10-9275-b13f76455cef",
   "metadata": {},
   "source": [
    "++++++++++++++Listeleri Kopyalamak\n",
    "\n",
    "\n",
    "Diyelim ki, yazdığınız bir programda, varolan bir listeyi kopyalamak, yani aynı listeden bir tane daha üretmek istiyorsunuz. Mesela elimizde şöyle bir liste olsun:"
   ]
  },
  {
   "cell_type": "code",
   "execution_count": 93,
   "id": "20b9cd90-e7d6-4550-9694-6f5927462061",
   "metadata": {},
   "outputs": [],
   "source": [
    "li1 = [\"elma\", \"armut\", \"erik\"]"
   ]
  },
  {
   "cell_type": "markdown",
   "id": "b3133b6c-e48c-40e6-a532-f5bbff3177a0",
   "metadata": {},
   "source": [
    "Amacımız bu listeden bir tane daha oluşturmak. İlk olarak aklınıza şöyle bir yöntem gelmiş olabilir:\n",
    "\n"
   ]
  },
  {
   "cell_type": "code",
   "execution_count": 94,
   "id": "e22f9327-df59-46b9-a98e-b14d662ae7dd",
   "metadata": {},
   "outputs": [],
   "source": [
    "li2 = li1"
   ]
  },
  {
   "cell_type": "markdown",
   "id": "d922fde3-9b42-4564-b395-fb6b57059764",
   "metadata": {},
   "source": [
    "Gerçekten de bu yöntem bize aynı öğelere sahip iki liste verdi:"
   ]
  },
  {
   "cell_type": "code",
   "execution_count": 95,
   "id": "4762c595-cd8b-4590-a719-344be1f3f447",
   "metadata": {},
   "outputs": [
    {
     "name": "stdout",
     "output_type": "stream",
     "text": [
      "['elma', 'armut', 'erik']\n"
     ]
    }
   ],
   "source": [
    "print(li1)"
   ]
  },
  {
   "cell_type": "code",
   "execution_count": 96,
   "id": "678db4d9-10c8-4696-9e95-a88b9d1e8abe",
   "metadata": {},
   "outputs": [
    {
     "name": "stdout",
     "output_type": "stream",
     "text": [
      "['elma', 'armut', 'erik']\n"
     ]
    }
   ],
   "source": [
    "print(li2)"
   ]
  },
  {
   "cell_type": "markdown",
   "id": "cd6ab9f3-51de-4cf5-a626-a68502c6eab8",
   "metadata": {},
   "source": [
    "Gelin şimdi ilk listemiz olan li1 üzerinde bir değişiklik yapalım. Mesela bu listenin “elma” olan ilk öğesini “karpuz” olarak değiştirelim:"
   ]
  },
  {
   "cell_type": "code",
   "execution_count": 97,
   "id": "4991276a-c4c4-438f-b9c7-d82e4ccf6e82",
   "metadata": {},
   "outputs": [
    {
     "name": "stdout",
     "output_type": "stream",
     "text": [
      "['karpuz', 'armut', 'erik']\n"
     ]
    }
   ],
   "source": [
    "li1[0] = \"karpuz\"\n",
    "print(li1)"
   ]
  },
  {
   "cell_type": "markdown",
   "id": "613982b6-5721-444d-827b-e0647cf3dbb5",
   "metadata": {},
   "source": [
    "Gördüğünüz gibi, li1 adlı listenin ilk öğesini başarıyla değiştirdik. Şimdi şu noktada, li2 adlı öbür listemizin durumunu kontrol edelim:\n",
    "\n"
   ]
  },
  {
   "cell_type": "code",
   "execution_count": 98,
   "id": "874290d3-af6c-48d1-ae8c-407ca557950a",
   "metadata": {},
   "outputs": [
    {
     "name": "stdout",
     "output_type": "stream",
     "text": [
      "['karpuz', 'armut', 'erik']\n"
     ]
    }
   ],
   "source": [
    "print(li2)"
   ]
  },
  {
   "cell_type": "markdown",
   "id": "5f083dc1-fc91-451e-ae21-b8a0ac75db80",
   "metadata": {},
   "source": [
    "O da ne! Biz biraz önce li1 üzerinde değişiklik yapmıştık, ama görünüşe göre bu değişiklikten li2 de etkilenmiş. Muhtemelen beklediğiniz şey bu değildi. Yani siz li2 listesinin içeriğinin aynı kalıp, değişiklikten yalnızca li1 listesinin etkilenmesini istiyordunuz. Biraz sonra bu isteğinizi nasıl yerine getirebileceğinizi göstereceğiz. Ama önce dilerseniz, bir liste üzerindeki değişiklikten öteki listenin de neden etkilendiğini anlamaya çalışalım.\n",
    "\n",
    "Hatırlarsanız, listelerin değiştirilebilir (mutable) bir veri tipi olduğunu söylemiştik. Listeler bu özellikleriyle karakter dizilerinden ayrılıyor. Zira biraz önce li1 ve li2 üzerinde yaptığımız işlemin bir benzerini karakter dizileri ile yaparsak farklı bir sonuç alırız. Dikkatlice bakın:"
   ]
  },
  {
   "cell_type": "code",
   "execution_count": 99,
   "id": "69c0d3f2-51a2-4d3c-92cc-ecef29f37775",
   "metadata": {},
   "outputs": [],
   "source": [
    "a = \"elma\""
   ]
  },
  {
   "cell_type": "markdown",
   "id": "9ef4c102-5dd5-4c01-88e3-66fb378fa290",
   "metadata": {},
   "source": [
    "Burada, değeri “elma” olan a adlı bir karakter dizisi tanımladık. Şimdi bu karakter dizisini kopyalayalım:"
   ]
  },
  {
   "cell_type": "code",
   "execution_count": null,
   "id": "4b6f006e-ae8f-4590-9531-fcb5672c2ebd",
   "metadata": {},
   "outputs": [],
   "source": []
  },
  {
   "cell_type": "code",
   "execution_count": 100,
   "id": "766a3134-93ac-4894-a9ec-db561e63656f",
   "metadata": {},
   "outputs": [
    {
     "data": {
      "text/plain": [
       "'elma'"
      ]
     },
     "execution_count": 100,
     "metadata": {},
     "output_type": "execute_result"
    }
   ],
   "source": [
    "b = a\n",
    "a\n"
   ]
  },
  {
   "cell_type": "code",
   "execution_count": 101,
   "id": "38d49279-a2a1-4647-a508-64965fd8f795",
   "metadata": {},
   "outputs": [
    {
     "data": {
      "text/plain": [
       "'elma'"
      ]
     },
     "execution_count": 101,
     "metadata": {},
     "output_type": "execute_result"
    }
   ],
   "source": [
    "b"
   ]
  },
  {
   "cell_type": "markdown",
   "id": "c0b3a048-b219-4aee-a2bb-dc59bcedd830",
   "metadata": {},
   "source": [
    "Böylece aynı değere sahip iki farklı karakter dizimiz olmuş oldu.\n",
    "\n",
    "Şimdi a adlı karakter dizisi üzerinde değişiklik yapalım. Ama biz biliyoruz ki, bir karakter dizisini değiştirmenin tek yolu, o karakter dizisini yeniden tanımlamaktır:"
   ]
  },
  {
   "cell_type": "code",
   "execution_count": 102,
   "id": "5e5777df-5175-4859-b57a-ae65c6debcfc",
   "metadata": {},
   "outputs": [],
   "source": [
    "a = \"E\" + a[1:]"
   ]
  },
  {
   "cell_type": "code",
   "execution_count": 103,
   "id": "bd6b053e-9547-443b-86d2-6d729dffb733",
   "metadata": {},
   "outputs": [
    {
     "data": {
      "text/plain": [
       "'Elma'"
      ]
     },
     "execution_count": 103,
     "metadata": {},
     "output_type": "execute_result"
    }
   ],
   "source": [
    "a"
   ]
  },
  {
   "cell_type": "markdown",
   "id": "453d0767-17fd-4d9d-9471-c45a3dd15fd4",
   "metadata": {},
   "source": [
    "Burada yaptığımız şeyin bir ‘değişiklik’ olmadığına dikkatinizi çekmek isterim. Çünkü aslında biz burada varolan a adlı değişken üzerinde bir değişiklik yapmak yerine, yine a adı taşıyan başka bir değişken oluşturuyoruz.\n",
    "\n",
    "Peki bu ‘değişiklikten’ öbür karakter dizisi etkilendi mi?"
   ]
  },
  {
   "cell_type": "code",
   "execution_count": 104,
   "id": "2bfce851-74e0-4ce8-9819-f280a7d54d81",
   "metadata": {},
   "outputs": [
    {
     "data": {
      "text/plain": [
       "'elma'"
      ]
     },
     "execution_count": 104,
     "metadata": {},
     "output_type": "execute_result"
    }
   ],
   "source": [
    "b"
   ]
  },
  {
   "cell_type": "markdown",
   "id": "b0914b33-23ad-49fa-b804-e0a1dbc25770",
   "metadata": {},
   "source": [
    "Gördüğünüz gibi, bu değişiklik öteki karakter dizisini etkilememiş. Bunun sebebinin, karakter dizilerinin değiştirilemeyen (immutable) bir veri tipi olması olduğunu söylemiştik.\n",
    "\n",
    "Gelin isterseniz bu olgunun derinlerine inelim biraz…\n",
    "\n",
    "Yukarıda a ve b adlı iki değişken var. Bunların kimliklerini kontrol edelim:"
   ]
  },
  {
   "cell_type": "code",
   "execution_count": 105,
   "id": "eeb8e44b-d34e-4c92-ac5a-9c279932e04b",
   "metadata": {},
   "outputs": [
    {
     "data": {
      "text/plain": [
       "133159357934960"
      ]
     },
     "execution_count": 105,
     "metadata": {},
     "output_type": "execute_result"
    }
   ],
   "source": [
    "id(a)"
   ]
  },
  {
   "cell_type": "code",
   "execution_count": 106,
   "id": "3814a7bb-f255-4d5b-b894-ac64e7b25d64",
   "metadata": {},
   "outputs": [
    {
     "data": {
      "text/plain": [
       "133159357403824"
      ]
     },
     "execution_count": 106,
     "metadata": {},
     "output_type": "execute_result"
    }
   ],
   "source": [
    "id(b)"
   ]
  },
  {
   "cell_type": "markdown",
   "id": "6a430284-801e-4baf-b25a-59f7df089f16",
   "metadata": {},
   "source": [
    "Gördüğünüz gibi, bu iki değişken farklı kimlik numaralarına sahip. Bu durumu şu şekilde de teyit edebileceğimizi biliyorsunuz:"
   ]
  },
  {
   "cell_type": "code",
   "execution_count": 107,
   "id": "06bbabf3-74e7-4617-9503-b7f22ca95f2b",
   "metadata": {},
   "outputs": [
    {
     "data": {
      "text/plain": [
       "False"
      ]
     },
     "execution_count": 107,
     "metadata": {},
     "output_type": "execute_result"
    }
   ],
   "source": [
    "id(a) == id(b)"
   ]
  },
  {
   "cell_type": "markdown",
   "id": "c7dd478c-5a31-462f-b541-8ea4892d6c98",
   "metadata": {},
   "source": [
    "Demek ki gerçekten de id(a) ile id(b) birbirinden farklıymış. Yani aslında biz aynı nesne üzerinde bir değişiklik yapmak yerine, farklı bir nesne oluşturmuşuz.\n",
    "\n",
    "Bu sonuç bize, bu iki karakter dizisinin bellekte farklı konumlarda saklandığını gösteriyor. Dolayısıyla Python, bir karakter dizisini kopyaladığımızda bellekte ikinci bir nesne daha oluşturuyor. Bu nedenle birbirinden kopyalanan karakter dizilerinin biri üzerinde yapılan herhangi bir işlem öbürünü etkilemiyor. Ama listelerde (ve değiştirilebilir bütün veri tiplerinde) durum farklı. Şimdi şu örneklere dikkatlice bakın:"
   ]
  },
  {
   "cell_type": "code",
   "execution_count": 108,
   "id": "e476d3b4-2dc5-48a7-b4f4-382e6dda8eed",
   "metadata": {},
   "outputs": [],
   "source": [
    "liste1 = [\"ahmet\", \"mehmet\", \"özlem\"]"
   ]
  },
  {
   "cell_type": "markdown",
   "id": "ddcbcdbf-6656-4fdf-a5f9-2ef61e85238e",
   "metadata": {},
   "source": [
    "Bu listeyi kopyalayalım:"
   ]
  },
  {
   "cell_type": "code",
   "execution_count": 109,
   "id": "835aa0ac-fdaa-4661-bad5-e0228f67f6ac",
   "metadata": {},
   "outputs": [],
   "source": [
    "liste2 = liste1\n"
   ]
  },
  {
   "cell_type": "markdown",
   "id": "d1cc16e5-d3d0-43ee-b63e-91700b716313",
   "metadata": {},
   "source": [
    "Elimizde aynı öğelere sahip iki liste var:"
   ]
  },
  {
   "cell_type": "code",
   "execution_count": 110,
   "id": "16d16894-89c2-4b45-a505-b5b077335e63",
   "metadata": {},
   "outputs": [
    {
     "data": {
      "text/plain": [
       "['ahmet', 'mehmet', 'özlem']"
      ]
     },
     "execution_count": 110,
     "metadata": {},
     "output_type": "execute_result"
    }
   ],
   "source": [
    "liste1"
   ]
  },
  {
   "cell_type": "code",
   "execution_count": 111,
   "id": "654685d4-ddd9-4a63-8e35-ce317f9cfd87",
   "metadata": {},
   "outputs": [
    {
     "data": {
      "text/plain": [
       "['ahmet', 'mehmet', 'özlem']"
      ]
     },
     "execution_count": 111,
     "metadata": {},
     "output_type": "execute_result"
    }
   ],
   "source": [
    "liste2"
   ]
  },
  {
   "cell_type": "markdown",
   "id": "704de302-8480-4735-bfe5-c248a548f9a4",
   "metadata": {},
   "source": [
    "Bu listelerin kimlik numaralarını kontrol edelim:\n",
    "\n"
   ]
  },
  {
   "cell_type": "code",
   "execution_count": 112,
   "id": "9cdff8f2-6116-4447-bc00-efe3d48b84a1",
   "metadata": {},
   "outputs": [
    {
     "data": {
      "text/plain": [
       "133159357576320"
      ]
     },
     "execution_count": 112,
     "metadata": {},
     "output_type": "execute_result"
    }
   ],
   "source": [
    "id(liste1)"
   ]
  },
  {
   "cell_type": "code",
   "execution_count": 113,
   "id": "47a3b2dc-d533-4547-8602-14c4f04ff157",
   "metadata": {},
   "outputs": [
    {
     "data": {
      "text/plain": [
       "133159357576320"
      ]
     },
     "execution_count": 113,
     "metadata": {},
     "output_type": "execute_result"
    }
   ],
   "source": [
    "id(liste2)"
   ]
  },
  {
   "cell_type": "code",
   "execution_count": 114,
   "id": "1ffe8484-fdfa-45e1-a5b2-5d1037ad4f4d",
   "metadata": {},
   "outputs": [
    {
     "data": {
      "text/plain": [
       "True"
      ]
     },
     "execution_count": 114,
     "metadata": {},
     "output_type": "execute_result"
    }
   ],
   "source": [
    "id(liste1) == id(liste2)"
   ]
  },
  {
   "cell_type": "markdown",
   "id": "086107ee-48b4-4530-8f46-4ad565de17b1",
   "metadata": {},
   "source": [
    "Gördüğünüz gibi, liste1 ve liste2 adlı listeler aynı kimlik numarasına sahip. Yani bu iki nesne birbiriyle aynı. Dolayısıyla birinde yaptığınız değişiklik öbürünü de etkiler. Eğer birbirinden kopyalanan listelerin birbirini etkilemesini istemiyorsanız, önünüzde birkaç seçenek var.\n",
    "\n",
    "İlk seçeneğe göre şöyle bir kod yazabilirsiniz:\n",
    "\n",
    "Önce özgün listemizi oluşturalım:"
   ]
  },
  {
   "cell_type": "code",
   "execution_count": 115,
   "id": "1d7018f0-448a-404a-a167-e4ba21819d46",
   "metadata": {},
   "outputs": [],
   "source": [
    "liste1 = [\"ahmet\", \"mehmet\", \"özlem\"]"
   ]
  },
  {
   "cell_type": "markdown",
   "id": "297b971e-7af4-4909-b5aa-cdd8f17caada",
   "metadata": {},
   "source": [
    "Şimdi bu listeyi kopyalayalım:"
   ]
  },
  {
   "cell_type": "code",
   "execution_count": 116,
   "id": "27d82eaf-6766-46e3-8b0d-b6c587026afc",
   "metadata": {},
   "outputs": [],
   "source": [
    "liste2 = liste1[:]"
   ]
  },
  {
   "cell_type": "markdown",
   "id": "4241e058-2792-41e3-84f0-bf641c701609",
   "metadata": {},
   "source": [
    "Burada liste1’i kopyalarken, listeyi baştan sona dilimlediğimize dikkat edin.\n",
    "\n",
    "Bakalım liste1’deki değişiklik öbürünü de etkiliyor mu:\n",
    "\n"
   ]
  },
  {
   "cell_type": "code",
   "execution_count": 117,
   "id": "b5e170ac-c02a-4a26-b005-d0c3e0d26ea2",
   "metadata": {},
   "outputs": [],
   "source": [
    "liste1[0] = \"veli\""
   ]
  },
  {
   "cell_type": "code",
   "execution_count": 118,
   "id": "78d04939-6556-49b0-862e-2eb1b8846175",
   "metadata": {},
   "outputs": [
    {
     "data": {
      "text/plain": [
       "['veli', 'mehmet', 'özlem']"
      ]
     },
     "execution_count": 118,
     "metadata": {},
     "output_type": "execute_result"
    }
   ],
   "source": [
    "liste1\n"
   ]
  },
  {
   "cell_type": "code",
   "execution_count": 119,
   "id": "d2c49fea-3c87-426a-8ba9-67a33f794d4c",
   "metadata": {},
   "outputs": [
    {
     "data": {
      "text/plain": [
       "['ahmet', 'mehmet', 'özlem']"
      ]
     },
     "execution_count": 119,
     "metadata": {},
     "output_type": "execute_result"
    }
   ],
   "source": [
    "liste2"
   ]
  },
  {
   "cell_type": "markdown",
   "id": "445eef5d-7919-4d8d-a223-c5d6187483b7",
   "metadata": {},
   "source": [
    "Gördüğünüz gibi, liste1’de yaptığımız değişiklik liste2’ye yansımadı. Demek ki yöntemimiz işe yaramış.\n",
    "\n",
    "Aynı işi yapmak için kullanabileceğimiz ikinci yöntem ise list() fonksiyonunu kullanmaktır:\n",
    "\n",
    "Önce özgün listemizi görelim:"
   ]
  },
  {
   "cell_type": "code",
   "execution_count": 120,
   "id": "6b893f24-92de-4313-9adc-166403dbee31",
   "metadata": {},
   "outputs": [],
   "source": [
    "liste1 = [\"ahmet\", \"mehmet\", \"özlem\"]"
   ]
  },
  {
   "cell_type": "markdown",
   "id": "242f7d02-1ae2-4b1a-af86-72125e444c5e",
   "metadata": {},
   "source": [
    "Şimdi bu listeyi kopyalayalım:"
   ]
  },
  {
   "cell_type": "code",
   "execution_count": 121,
   "id": "84d6fa37-4213-43d5-b4b9-61e88d99d8c3",
   "metadata": {},
   "outputs": [],
   "source": [
    "liste2 = list(liste1)"
   ]
  },
  {
   "cell_type": "markdown",
   "id": "24ea43a9-b4aa-4e1a-8411-245c80ebc66a",
   "metadata": {},
   "source": [
    "Artık elimizde birbirinin kopyası durumunda iki farklı liste var:"
   ]
  },
  {
   "cell_type": "code",
   "execution_count": 122,
   "id": "552878b8-3c0d-4654-a477-52e66817ff27",
   "metadata": {},
   "outputs": [
    {
     "data": {
      "text/plain": [
       "['ahmet', 'mehmet', 'özlem']"
      ]
     },
     "execution_count": 122,
     "metadata": {},
     "output_type": "execute_result"
    }
   ],
   "source": [
    "liste2"
   ]
  },
  {
   "cell_type": "code",
   "execution_count": 123,
   "id": "63264580-327d-48b3-bf5e-a2d4402e5c36",
   "metadata": {},
   "outputs": [
    {
     "data": {
      "text/plain": [
       "['ahmet', 'mehmet', 'özlem']"
      ]
     },
     "execution_count": 123,
     "metadata": {},
     "output_type": "execute_result"
    }
   ],
   "source": [
    "liste1"
   ]
  },
  {
   "cell_type": "markdown",
   "id": "c9115eea-ee25-4611-ae86-e999609ba5d6",
   "metadata": {},
   "source": [
    "Şimdi liste2 üzerinde bir değişiklik yapalım:"
   ]
  },
  {
   "cell_type": "code",
   "execution_count": 124,
   "id": "cfc378bf-a06d-4dea-a56d-ebb5016a8eff",
   "metadata": {},
   "outputs": [],
   "source": [
    "liste2[0] = 'veli'"
   ]
  },
  {
   "cell_type": "code",
   "execution_count": 125,
   "id": "e35b34c4-8432-4cc1-9905-a3260b89d038",
   "metadata": {},
   "outputs": [
    {
     "data": {
      "text/plain": [
       "['veli', 'mehmet', 'özlem']"
      ]
     },
     "execution_count": 125,
     "metadata": {},
     "output_type": "execute_result"
    }
   ],
   "source": [
    "liste2"
   ]
  },
  {
   "cell_type": "markdown",
   "id": "3020acfe-ca31-4faf-8e22-2c4102ee2d39",
   "metadata": {},
   "source": [
    "Bakalım liste1 bu değişiklikten etkilenmiş mi:"
   ]
  },
  {
   "cell_type": "code",
   "execution_count": 126,
   "id": "8203f095-8844-4ad2-8097-c929fffa31b4",
   "metadata": {},
   "outputs": [
    {
     "data": {
      "text/plain": [
       "['ahmet', 'mehmet', 'özlem']"
      ]
     },
     "execution_count": 126,
     "metadata": {},
     "output_type": "execute_result"
    }
   ],
   "source": [
    "liste1"
   ]
  },
  {
   "cell_type": "markdown",
   "id": "431480e6-fcaa-422f-a9bb-20c928e72512",
   "metadata": {},
   "source": [
    "Gördüğünüz gibi, her şey yolunda. Dilerseniz bu nesnelerin birbirinden farklı olduğunu id() fonksiyonu aracılığıyla teyit edebileceğinizi biliyorsunuz.\n",
    "\n",
    "Listeleri kopyalamanın üçüncü bir yöntemi daha var. Bu yöntemi de bir sonraki bölümde liste metotlarını incelerken ele alacağız.\n",
    "\n"
   ]
  },
  {
   "cell_type": "markdown",
   "id": "1d53a3a9-f09f-4800-bd0d-6cac56b03739",
   "metadata": {},
   "source": [
    "++++++++++++Liste Üreteçleri (List Comprehensions)\n",
    "\n",
    "\n",
    "Şimdi Python’daki listelere ilişkin çok önemli bir konuya değineceğiz. Bu konunun adı ‘liste üreteçleri’. İngilizce’de buna “List Comprehension” adı veriliyor.\n",
    "\n",
    "Adından da anlaşılacağı gibi, liste üreteçlerinin görevi liste üretmektir. Basit bir örnek ile liste üreteçleri konusuna giriş yapalım:"
   ]
  },
  {
   "cell_type": "code",
   "execution_count": 127,
   "id": "500f806f-0f06-4034-9f05-e88053a1339b",
   "metadata": {},
   "outputs": [],
   "source": [
    "liste = [i for i in range(1000)]"
   ]
  },
  {
   "cell_type": "markdown",
   "id": "1d149b89-9158-4f74-986e-97c7e7d166da",
   "metadata": {},
   "source": [
    "Burada 0’dan 1000’e kadar olan sayıları tek satırda bir liste haline getirdik. Bu kodların söz dizimine çok dikkat edin. Aslında yukarıdaki kod şu şekilde de yazılabilir:"
   ]
  },
  {
   "cell_type": "code",
   "execution_count": 128,
   "id": "8d5d6399-8394-40d0-984e-a576dd57a18a",
   "metadata": {},
   "outputs": [],
   "source": [
    "liste = []\n",
    "\n",
    "for i in range(1000):\n",
    "    liste += [i]"
   ]
  },
  {
   "cell_type": "markdown",
   "id": "89c51571-dc07-4507-9496-400daebab6b1",
   "metadata": {},
   "source": [
    "Burada önce liste adlı boş bir liste tanımladık. Daha sonra 0 ile 1000 aralığında bütün sayıları bu boş listeye teker teker gönderdik. Böylece elimizde 0’dan 1000’e kadar olan sayıları tutan bir liste olmuş oldu. Aynı iş için liste üreteçlerini kullandığımızda ise bu etkiyi çok daha kısa bir yoldan halletmiş oluyoruz. Liste üreteçlerini kullandığımız kodu tekrar önümüze alalım:\n",
    "\n"
   ]
  },
  {
   "cell_type": "code",
   "execution_count": null,
   "id": "e27730a8-1817-4f60-80bd-5d829aa7be7b",
   "metadata": {},
   "outputs": [],
   "source": [
    "liste = [i for i in range(1000)]"
   ]
  },
  {
   "cell_type": "markdown",
   "id": "3d3f9c0b-c86b-4781-8fcd-c6a45fee8d25",
   "metadata": {},
   "source": [
    "Gördüğünüz gibi, burada önceden boş bir liste tanımlamamıza gerek kalmadı. Ayrıca bu kodlarda for döngüsünün parantezler içine alınarak nasıl sadeleştirildiğine de dikkatinizi çekmek isterim. Şu kod:\n",
    "\n"
   ]
  },
  {
   "cell_type": "code",
   "execution_count": null,
   "id": "7d1edcb4-b9e1-48fa-bcd4-5b8b856051d1",
   "metadata": {},
   "outputs": [],
   "source": [
    "for i in range(1000):\n",
    "    liste += [i]"
   ]
  },
  {
   "cell_type": "markdown",
   "id": "552d12ab-351a-4f32-9323-fe51b5492f7f",
   "metadata": {},
   "source": [
    "Liste üreteçlerini kullandığımızda şu koda dönüşüyor:"
   ]
  },
  {
   "cell_type": "code",
   "execution_count": null,
   "id": "ac1662fa-88c4-48cd-b414-eaacd007d613",
   "metadata": {},
   "outputs": [],
   "source": [
    "[i for i in range(1000)]"
   ]
  },
  {
   "cell_type": "markdown",
   "id": "1c91ea15-c20a-442a-be87-3607893c5ad5",
   "metadata": {},
   "source": [
    "Pek çok durumda liste üreteçleri öbür seçeneklere kıyasla bir alternatif olma işlevi görür. Yani liste üreteçleri ile elde edeceğiniz sonucu başka araçlarla da elde edebilirsiniz. Mesela yukarıdaki kodların yaptığı işlevi yerine getirmek için başka bir seçenek olarak list() fonksiyonundan da yararlanabileceğimizi biliyorsunuz:"
   ]
  },
  {
   "cell_type": "code",
   "execution_count": 129,
   "id": "b6fe62c7-70db-45fa-8bf8-3a8926618ecc",
   "metadata": {},
   "outputs": [],
   "source": [
    "liste = list(range(1000))"
   ]
  },
  {
   "cell_type": "markdown",
   "id": "c8d84ee6-a4c4-49a6-8505-249c608a972b",
   "metadata": {},
   "source": [
    "Bu basit örneklerde liste üreteçlerini kullanmanın erdemi pek göze çarpmıyor. Ama bazı durumlarda liste üreteçleri öteki alternatiflere kıyasla çok daha pratik bir çözüm sunar. Böyle durumlarda başka seçeneklere başvurup yolunuzu uzatmak yerine liste üreteçlerini kullanarak işinizi kısa yoldan halledebilirsiniz.\n",
    "\n",
    "Örneğin 0 ile 1000 arasındaki çift sayıları listelemek için liste üreteçlerini kullanmak, alternatiflerine göre daha makul bir tercih olabilir:\n",
    "\n"
   ]
  },
  {
   "cell_type": "code",
   "execution_count": 130,
   "id": "5b8fd644-80f9-43ce-8b57-a1a4c3703a16",
   "metadata": {},
   "outputs": [],
   "source": [
    "liste = [i for i in range(1000) if i % 2 == 0]"
   ]
  },
  {
   "cell_type": "markdown",
   "id": "0dd4d2d2-c0fb-43c7-9c35-8e2bcefe5857",
   "metadata": {},
   "source": [
    "Aynı işi for döngüsü ile yapmak için şöyle bir kod yazmamız gerekir:"
   ]
  },
  {
   "cell_type": "code",
   "execution_count": 131,
   "id": "1b84ef4d-adda-4e2c-8640-eab6f34ddb1f",
   "metadata": {},
   "outputs": [],
   "source": [
    "liste = []\n",
    "for i in range(1000):\n",
    "    if i % 2 == 0:\n",
    "        liste += [i]"
   ]
  },
  {
   "cell_type": "markdown",
   "id": "2920a876-afbc-490f-aa62-d75761d03e19",
   "metadata": {},
   "source": [
    "Gördüğünüz gibi, liste üreteçleri bize aynı işi daha kısa bir yoldan halletme imkanı tanıyor. Bu arada for döngüsünün ve bu döngü içinde yer alan if deyiminin liste üreteçleri içinde nasıl göründüğüne dikkat ediyoruz.\n",
    "\n",
    "Liste üreteçleri ile ilgili bir örnek daha verelim. Mesela elinizde şöyle bir liste olduğunu düşünün:\n",
    "\n"
   ]
  },
  {
   "cell_type": "code",
   "execution_count": 132,
   "id": "4c011b0d-d187-4b4d-bb8a-9f758f516c80",
   "metadata": {},
   "outputs": [],
   "source": [
    "liste = [[1, 2, 3],\n",
    "         [4, 5, 6],\n",
    "         [7, 8, 9],\n",
    "         [10, 11, 12]]"
   ]
  },
  {
   "cell_type": "markdown",
   "id": "7ff4c8ae-9484-4b77-bbda-1b590c5ac897",
   "metadata": {},
   "source": [
    "Burada iç içe geçmiş 4 adet liste var. Bu listenin bütün öğelerini tek bir listeye nasıl alabiliriz? Yani şöyle bir çıktıyı nasıl elde ederiz?"
   ]
  },
  {
   "cell_type": "raw",
   "id": "da0428c1-dda9-4cd1-af63-3136553dfa27",
   "metadata": {},
   "source": [
    "[1, 2, 3, 4, 5, 6, 7, 8, 9, 10, 11, 12]"
   ]
  },
  {
   "cell_type": "markdown",
   "id": "a0f9d94c-0d79-45bf-903a-d865b51de19f",
   "metadata": {},
   "source": [
    "for döngülerini kullanarak şöyle bir kod yazabiliriz:\n",
    "\n"
   ]
  },
  {
   "cell_type": "code",
   "execution_count": null,
   "id": "c0d02400-adea-4164-95f3-c09a62cc626c",
   "metadata": {},
   "outputs": [],
   "source": [
    "liste = [[1, 2, 3],\n",
    "         [4, 5, 6],\n",
    "         [7, 8, 9],\n",
    "         [10, 11, 12]]\n",
    "\n",
    "tümü = []\n",
    "\n",
    "for i in liste:\n",
    "    for z in i:\n",
    "        tümü += [z]\n",
    "\n",
    "print(tümü)"
   ]
  },
  {
   "cell_type": "markdown",
   "id": "66bfac52-dbee-4243-81d1-e15585d3a680",
   "metadata": {},
   "source": [
    "Liste üreteçleri ise daha kısa bir çözüm sunar:"
   ]
  },
  {
   "cell_type": "code",
   "execution_count": 133,
   "id": "3335f195-1b1c-4fca-89cd-ee8d6bf5af2d",
   "metadata": {},
   "outputs": [
    {
     "name": "stdout",
     "output_type": "stream",
     "text": [
      "[1, 2, 3, 4, 5, 6, 7, 8, 9, 10, 11, 12]\n"
     ]
    }
   ],
   "source": [
    "liste = [[1, 2, 3],\n",
    "         [4, 5, 6],\n",
    "         [7, 8, 9],\n",
    "         [10, 11, 12]]\n",
    "\n",
    "tümü = [z for i in liste for z in i]\n",
    "print(tümü)"
   ]
  },
  {
   "cell_type": "markdown",
   "id": "8864f3ba-55ee-40e1-bc64-090383c0c93a",
   "metadata": {},
   "source": [
    "Bu liste üreteci gerçekten de bize kısa bir çözüm sunuyor, ama bu tip iç içe geçmiş for döngülerinden oluşan liste üreteçlerinde bazen okunaklılık sorunu ortaya çıkabilir. Yani bu tür iç içe geçmiş for döngülerinden oluşan liste üreteçlerini anlamak, alternatif yöntemlere göre daha zor olabilir.\n",
    "\n",
    "Bazı durumlarda ise liste üreteçleri bir sorunun çözümü için tek makul yol olabilir. Diyelim ki bir X.O.X Oyunu (Tic Tac Toe) yazıyorsunuz. Bu oyunda oyuncular oyun tahtası üzerine X veya O işaretlerinden birini yerleştirecek. Oyuncunun bu oyunu kazanabilmesi için, X veya O işaretlerinden birisinin oyun tahtası üzerinde belli konumlarda bulunması gerekiyor. Yani mesela X işaretinin oyunu kazanabilmesi için bu işaretin oyun tahtası üzerinde şu şekilde bir dizilime sahip olması gerekir:"
   ]
  },
  {
   "cell_type": "raw",
   "id": "6f3b01ad-9d7e-42c3-bdeb-7fa01c952b3d",
   "metadata": {},
   "source": [
    "O   X   O\n",
    "\n",
    "___  X   O\n",
    "\n",
    "___  X  ___"
   ]
  },
  {
   "cell_type": "markdown",
   "id": "7454f498-9881-4216-baeb-f54e2c6d1f9a",
   "metadata": {},
   "source": [
    "Bu dizilime göre oyunu X işareti kazanır. Peki X işaretinin, oyunu kazanmasını sağlayacak bu dizilime ulaştığını nasıl tespit edeceksiniz?\n",
    "\n",
    "Bunun için öncelikle oyun tahtası üzerinde hangi dizilim şekillerinin galibiyeti getireceğini gösteren bir liste hazırlayabilirsiniz. Mesela yukarıdaki gibi 3x3 boyutundaki bir oyun tahtasında X işaretinin oyunu kazanabilmesi için şu dizilimlerden herhangi birine sahip olması gerekir:"
   ]
  },
  {
   "cell_type": "raw",
   "id": "cbe5973d-5c72-4762-8666-f5bf87f21c05",
   "metadata": {},
   "source": [
    "[0, 0], [1, 0], [2, 0]\n",
    "\n",
    " X  ___  ___\n",
    "\n",
    " X  ___  ___\n",
    "\n",
    " X  ___  ___\n",
    "\n",
    "\n",
    "[0, 1], [1, 1], [2, 1]\n",
    "\n",
    " ___  X  ___\n",
    "\n",
    " ___  X  ___\n",
    "\n",
    " ___  X  ___\n",
    "\n",
    "\n",
    "[0, 2], [1, 2], [2, 2]\n",
    "\n",
    " ___  ___  X\n",
    "\n",
    " ___  ___  X\n",
    "\n",
    " ___  ___  X\n",
    "\n",
    "[0, 0], [0, 1], [0, 2]\n",
    "\n",
    " X    X    X\n",
    "___  ___  ___\n",
    "\n",
    "___  ___  ___\n",
    "\n",
    "\n",
    "[1, 0], [1, 1], [1, 2]\n",
    "\n",
    "___  ___  ___\n",
    "\n",
    " X    X    X\n",
    "___  ___  ___\n",
    "\n",
    "\n",
    "[2, 0], [2, 1], [2, 2]\n",
    "\n",
    "___  ___  ___\n",
    "\n",
    "___  ___  ___\n",
    "\n",
    " X    X    X\n",
    "\n",
    "\n",
    "[0, 0], [1, 1], [2, 2]\n",
    "\n",
    " X   ___  ___\n",
    "\n",
    " ___  X   ___\n",
    "\n",
    " ___  ___  X\n",
    "\n",
    "\n",
    " [0, 2], [1, 1], [2, 0]\n",
    "\n",
    " ___  ___  X\n",
    "\n",
    " ___  X  ___\n",
    "\n",
    " X  ___  ___"
   ]
  },
  {
   "cell_type": "markdown",
   "id": "52b5e064-eb7e-4c43-924f-f00a21b9e459",
   "metadata": {},
   "source": [
    "Aynı dizilimler O işareti için de geçerlidir. Dolayısıyla bu kazanma ölçütlerini şöyle bir liste içinde toplayabilirsiniz:\n",
    "\n"
   ]
  },
  {
   "cell_type": "raw",
   "id": "63dae489-fa5a-4a10-b598-5deec3c01493",
   "metadata": {},
   "source": [
    "kazanma_ölçütleri = [[[0, 0], [1, 0], [2, 0]],\n",
    "                     [[0, 1], [1, 1], [2, 1]],\n",
    "                     [[0, 2], [1, 2], [2, 2]],\n",
    "                     [[0, 0], [0, 1], [0, 2]],\n",
    "                     [[1, 0], [1, 1], [1, 2]],\n",
    "                     [[2, 0], [2, 1], [2, 2]],\n",
    "                     [[0, 0], [1, 1], [2, 2]],\n",
    "                     [[0, 2], [1, 1], [2, 0]]]"
   ]
  },
  {
   "cell_type": "markdown",
   "id": "a3e29982-cef1-4155-98f1-9bea3641e098",
   "metadata": {},
   "source": [
    "Oyun sırasında X veya O işaretlerinin aldığı konumu bu kazanma ölçütleri ile karşılaştırarak oyunu kimin kazandığını tespit edebilirsiniz. Yani kazanma_ölçütleri adlı liste içindeki, iç içe geçmiş listelerden herhangi biri ile oyunun herhangi bir aşamasında tamamen eşleşen işaret, oyunu kazanmış demektir.\n",
    "\n",
    "Bir sonraki bölümde bu bahsettiğimiz X.O.X Oyununu yazacağız. O zaman bu sürecin nasıl işlediğini daha ayrıntılı bir şekilde inceleyeceğiz. Şimdilik yukarıdaki durumu temsil eden basit bir örnek vererek liste üreteçlerinin kullanımını incelemeye devam edelim.\n",
    "\n",
    "Örneğin elinizde, yukarıda bahsettiğimiz kazanma ölçütlerini temsil eden şöyle bir liste olduğunu düşünün:\n",
    "\n"
   ]
  },
  {
   "cell_type": "raw",
   "id": "fb5a321a-c171-4bdc-9e07-51e71cfd9d4e",
   "metadata": {},
   "source": [
    "liste1 = [[1, 2, 3],\n",
    "          [4, 5, 6],\n",
    "          [7, 8, 9],\n",
    "          [10, 11, 12],\n",
    "          [13, 14, 15],\n",
    "          [16, 17, 18],\n",
    "          [19, 20, 21],\n",
    "          [22, 23, 24],\n",
    "          [25, 26, 27],\n",
    "          [28, 29, 30],\n",
    "          [31, 32, 33]]"
   ]
  },
  {
   "cell_type": "markdown",
   "id": "7ba36398-0503-4add-9769-d1126dd4fe58",
   "metadata": {},
   "source": [
    "Bir de şöyle bir liste:"
   ]
  },
  {
   "cell_type": "raw",
   "id": "02508c9a-da3e-4d83-89ed-e248608e5e6c",
   "metadata": {},
   "source": [
    "liste2 = [1, 27, 88, 98, 50, 9, 28, 45, 54, 66, 61, 23, 10, 33,\n",
    "          22, 12, 6, 99, 63, 26, 87, 25, 77, 5, 16, 93, 99, 44,\n",
    "          59, 69, 34, 10, 60, 92, 61, 44, 5, 3, 23, 99, 79, 51,\n",
    "          89, 63, 53, 31, 76, 41, 49, 10, 88, 63, 55, 43, 40, 71,\n",
    "          16, 49, 78, 41, 35, 97, 33, 76, 25, 81, 15, 99, 64, 20,\n",
    "          33, 6, 89, 81, 44, 53, 59, 75, 27, 15, 64, 36, 72, 78,\n",
    "          34, 36, 20, 41, 41, 75, 56, 30, 86, 46, 9, 42, 21, 64,\n",
    "          26, 52, 77, 65, 64, 12, 38, 1, 35, 20, 73, 71, 37, 35,\n",
    "          72, 38, 100, 52, 16, 49, 79]\n"
   ]
  },
  {
   "cell_type": "markdown",
   "id": "1a2552d6-e393-4e1c-9c9f-e94d0c3a8e52",
   "metadata": {},
   "source": [
    "Burada amacınız liste1 içinde yer alan iç içe geçmiş listelerden hangisinin liste2 içindeki sayıların alt kümesi olduğunu, yani liste2 içindeki sayıların, liste1 içindeki üçlü listelerden hangisiyle birebir eşleştiğini bulmak. Bunun için şöyle bir kod yazabiliriz:\n",
    "\n"
   ]
  },
  {
   "cell_type": "code",
   "execution_count": null,
   "id": "9a76b2be-47f1-436d-836c-1d9b643217cd",
   "metadata": {},
   "outputs": [],
   "source": [
    "for i in liste1:\n",
    "    ortak = [z for z in i if z in liste2]\n",
    "    if len(ortak) == len(i):\n",
    "        print(i)"
   ]
  },
  {
   "cell_type": "markdown",
   "id": "83bea4c9-9569-4800-83b8-70bbae7fcd9e",
   "metadata": {},
   "source": [
    "Bu kodlar ilk bakışta gözünüze çok karmaşık gelmiş olabilir. Ama aslında hiç de karmaşık değildir bu kodlar. Şimdi bu kodları Türkçe’ye çevirelim:\n",
    "\n",
    "1. satır: liste1 adlı listedeki her bir öğeye i adını verelim\n",
    "\n",
    "2. satır: i içindeki, liste2’de de yer alan her bir öğeye de z adını verelim ve bunları ortak adlı bir listede toplayalım.\n",
    "\n",
    "3. satır: eğer ortak adlı listenin uzunluğu i değişkeninin uzunluğu ile aynıysa\n",
    "\n",
    "4. satır: i’yi ekrana basalım ve böylece alt kümeyi bulmuş olalım.\n",
    "\n",
    "Eğer bu satırları anlamakta zorluk çekiyorsanız okumaya devam edin. Biraz sonra vereceğimiz örnek programda da bu kodları görecek ve bu kodların ne işe yaradığını orada daha iyi anlayacaksınız."
   ]
  },
  {
   "cell_type": "markdown",
   "id": "dde50e12-f0c8-4aea-acdb-eefa5d1cdaca",
   "metadata": {},
   "source": [
    "+++++++++++++++Örnek Program: X.O.X Oyunu\n",
    "\n",
    "\n",
    "Şu ana kadar Python programlama dili hakkında epey bilgi edindik. Buraya kadar öğrendiklerimizi kullanarak işe yarar programlar yazabiliyoruz. Belki farkındasınız, belki de değilsiniz, ama özellikle listeler konusunu öğrenmemiz bize çok şey kazandırdı.\n",
    "\n",
    "Bir önceki bölümde, bir X.O.X Oyunu yazacağımızdan söz etmiş ve bu oyunun Python’la nasıl yazılabileceğine dair bazı ipuçları da vermiştik. İşte bu bölümde, Python programlama dilinde şimdiye kadar öğrendiklerimizi kullanarak bu oyunu yazacağız.\n",
    "\n",
    "Yazacağımız oyunun İngilizce adı Tic Tac Toe. Bu oyunun ne olduğunu ve kurallarını bir önceki bölümde kabataslak bir şekilde vermiştik. Eğer isterseniz oyun kurallarına wikipedia.org/wiki/Çocuk_oyunları#X_O_X_OYUNU adresinden de bakabilirsiniz.\n",
    "\n",
    "Oyunu ve kurallarını bildiğinizi varsayarak kodlamaya başlayalım.\n",
    "\n",
    "Burada ilk yapmamız gereken şey, üzerinde oyun oynanacak tahtayı çizmek olmalı. Amacımız şöyle bir görüntü elde etmek:"
   ]
  },
  {
   "cell_type": "raw",
   "id": "65c2a7cb-d512-40cc-9b4e-c840e193b9cc",
   "metadata": {},
   "source": [
    "___ ___ ___\n",
    "\n",
    "___ ___ ___\n",
    "\n",
    "___ ___ ___"
   ]
  },
  {
   "cell_type": "markdown",
   "id": "56a9bc48-51ae-42f6-9711-e00e5706e3a2",
   "metadata": {},
   "source": [
    "Bu tahtada oyuncu soldan sağa ve yukarıdan aşağıya doğru iki adet konum bilgisi girecek ve oyunu oynayan kişinin gireceği bu konumlara “X” ve “O” harfleri işaretlenecek.\n",
    "\n",
    "Böyle bir görüntü oluşturmak için pek çok farklı yöntem kullanılabilir. Ama oyuncunun her konum bilgisi girişinde, X veya O işaretini tahta üzerinde göstereceğimiz için tahta üzerinde oyun boyunca sürekli birtakım değişiklikler olacak. Bildiğiniz gibi karakter dizileri, üzerinde değişiklik yapmaya müsait bir veri tipi değil. Böyle bir görev için listeler daha uygun bir araç olacaktır. O yüzden tahtayı oluşturmada listeleri kullanmayı tercih edeceğiz."
   ]
  },
  {
   "cell_type": "code",
   "execution_count": 135,
   "id": "ed1bb39b-5f1c-4734-99c2-d40059ae3f4a",
   "metadata": {},
   "outputs": [],
   "source": [
    "tahta = [[\"___\", \"___\", \"___\"],\n",
    "         [\"___\", \"___\", \"___\"],\n",
    "         [\"___\", \"___\", \"___\"]]"
   ]
  },
  {
   "cell_type": "markdown",
   "id": "19fe0710-1270-410c-808e-aa4b0f1f1977",
   "metadata": {},
   "source": [
    "Gördüğünüz gibi, burada iç içe geçmiş üç adet listeden oluşan bir liste var. print(tahta) komutunu kullanarak bu listeyi ekrana yazdırırsanız listenin yapısı daha belirgin bir şekilde ortaya çıkacaktır:\n",
    "\n"
   ]
  },
  {
   "cell_type": "raw",
   "id": "c03a2421-b3fa-4a96-8028-fe45c8ae8712",
   "metadata": {},
   "source": [
    "[['___', '___', '___'], ['___', '___', '___'], ['___', '___', '___']]"
   ]
  },
  {
   "cell_type": "markdown",
   "id": "51eaabe4-e322-421f-b874-d82ee9083496",
   "metadata": {},
   "source": [
    "\n",
    "Oyun tahtasını oluşturduğumuza göre, şimdi yapmamız gereken şey bu oyun tahtasını düzgün bir şekilde oyuncuya göstermek olmalı. Dediğimiz gibi, oyuncu şöyle bir çıktı görmeli:\n",
    "\n"
   ]
  },
  {
   "cell_type": "raw",
   "id": "a531f795-0549-496a-8818-512c83a9fcec",
   "metadata": {},
   "source": [
    "___ ___ ___\n",
    "\n",
    "___ ___ ___\n",
    "\n",
    "___ ___ ___"
   ]
  },
  {
   "cell_type": "markdown",
   "id": "c6538e8b-52a2-46b7-b0f3-e6ee1c8be2fe",
   "metadata": {},
   "source": [
    "Bu görüntüyü elde etmek için şu kodları yazıyoruz:\n",
    "\n"
   ]
  },
  {
   "cell_type": "code",
   "execution_count": 136,
   "id": "b2251453-ba09-4ef8-a4b3-5a0a4534941a",
   "metadata": {},
   "outputs": [
    {
     "name": "stdout",
     "output_type": "stream",
     "text": [
      "\n",
      "\n",
      "\n",
      "\n",
      "\n",
      "\n",
      "\n",
      "\n",
      "\n",
      "\n",
      "\n",
      "\n",
      "\n",
      "\n",
      "\n",
      "\n",
      "                               ___ ___ ___\n",
      "\n",
      "                               ___ ___ ___\n",
      "\n",
      "                               ___ ___ ___\n",
      "\n"
     ]
    }
   ],
   "source": [
    "print(\"\\n\"*15)\n",
    "\n",
    "for i in tahta:\n",
    "    print(\"\\t\".expandtabs(30), *i, end=\"\\n\"*2)"
   ]
  },
  {
   "cell_type": "markdown",
   "id": "1bbb8327-6dba-4b5c-8ce0-495358076b0e",
   "metadata": {},
   "source": [
    "Bu kodlarda bilmediğiniz hiçbir şey yok. Burada gördüğünüz her şeyi önceki derslerde öğrenmiştiniz.\n",
    "\n",
    "Yukarıdaki kodları yazarken tamamen, elde etmek istediğimiz görüntüye odaklanıyoruz. Mesela print(\"\\n\"*15) kodunu yazmamızın nedeni, oyun tahtası için ekranda boş bir alan oluşturmak. Bu etkiyi elde etmek için 15 adet yeni satır karakteri bastık ekrana. Bu kodla elde edilen etkiyi daha iyi görebilmek için bu kodu programdan çıkarmayı deneyebilirsiniz.\n",
    "\n",
    "Alttaki satırda ise bir for döngüsü tanımladık. Bu döngünün amacı tahta adlı listedeki “__” öğelerini düzgün bir şekilde oyuncuya gösterebilmek. Oyun tahtasının, ekranı (yaklaşık olarak da olsa) ortalamasını istiyoruz. O yüzden, tahta öğelerine soldan girinti verebilmek için print() fonksiyonunun ilk parametresini \"\\t\".expandtabs(30) şeklinde yazdık. Karakter dizilerinin expandtabs() adlı metodunu önceki derslerimizden hatırlıyor olmalısınız. Bu metodu kullanarak sekme (TAB) karakterlerini genişletebiliyorduk. Burada da “\\t” karakterini bu metot yardımıyla genişleterek liste öğelerini sol baştan girintiledik.\n",
    "\n",
    "print() fonksiyonunun ikinci parametresi ise *i. Bu parametrenin ne iş yaptığını anlamak için şöyle bir kod yazalım:"
   ]
  },
  {
   "cell_type": "code",
   "execution_count": 137,
   "id": "cae16adb-77db-4bc3-a609-b22b41050eaf",
   "metadata": {},
   "outputs": [
    {
     "name": "stdout",
     "output_type": "stream",
     "text": [
      "['___', '___', '___']\n",
      "['___', '___', '___']\n",
      "['___', '___', '___']\n"
     ]
    }
   ],
   "source": [
    "tahta = [[\"___\", \"___\", \"___\"],\n",
    "         [\"___\", \"___\", \"___\"],\n",
    "         [\"___\", \"___\", \"___\"]]\n",
    "\n",
    "for i in tahta:\n",
    "    print(i)"
   ]
  },
  {
   "cell_type": "markdown",
   "id": "bdab14c1-99fe-4440-b5fc-cb48d58c3a0d",
   "metadata": {},
   "source": [
    "Gördüğünüz gibi, iç içe geçmiş üç adet listeden oluşan tahta adlı liste içindeki bu iç listeler ekrana döküldü. Bir de şuna bakın:"
   ]
  },
  {
   "cell_type": "code",
   "execution_count": 138,
   "id": "9495ff73-fb78-4a4a-8ded-5e161b90de14",
   "metadata": {},
   "outputs": [
    {
     "name": "stdout",
     "output_type": "stream",
     "text": [
      "___ ___ ___\n",
      "___ ___ ___\n",
      "___ ___ ___\n"
     ]
    }
   ],
   "source": [
    "tahta = [[\"___\", \"___\", \"___\"],\n",
    "         [\"___\", \"___\", \"___\"],\n",
    "         [\"___\", \"___\", \"___\"]]\n",
    "\n",
    "for i in tahta:\n",
    "    print(*i)\n"
   ]
  },
  {
   "cell_type": "markdown",
   "id": "93d1be56-4b8d-4a6f-a95d-107024771b64",
   "metadata": {},
   "source": [
    "Bu defa liste yapısını değil, listeyi oluşturan öğelerin kendisini görüyoruz. Yıldız işaretinin, birlikte kullanıldığı öğeler üzerinde nasıl bir etkiye sahip olduğunu yine önceki derslerimizden hatırlıyorsunuz. Mesela şu örneğe bakın:\n",
    "\n"
   ]
  },
  {
   "cell_type": "code",
   "execution_count": 139,
   "id": "d314a468-f533-4c5d-a662-aedabf58a837",
   "metadata": {},
   "outputs": [
    {
     "name": "stdout",
     "output_type": "stream",
     "text": [
      "i s t i h z a \n"
     ]
    }
   ],
   "source": [
    "kardiz = \"istihza\"\n",
    "\n",
    "for i in kardiz:\n",
    "    print(i, end=\" \")\n",
    "print()"
   ]
  },
  {
   "cell_type": "markdown",
   "id": "24a6c9d6-bd26-49d8-b406-b6e7c41cddbb",
   "metadata": {},
   "source": [
    "Aynı çıktıyı basitçe şu şekilde de elde edebileceğimizi biliyorsunuz:"
   ]
  },
  {
   "cell_type": "code",
   "execution_count": 140,
   "id": "11da218a-60aa-4cc4-a9df-b8155cc83527",
   "metadata": {},
   "outputs": [
    {
     "name": "stdout",
     "output_type": "stream",
     "text": [
      "i s t i h z a\n"
     ]
    }
   ],
   "source": [
    "kardiz = \"istihza\"\n",
    "print(*kardiz)"
   ]
  },
  {
   "cell_type": "markdown",
   "id": "317b601d-b1f0-4aea-9a42-74b9109b828d",
   "metadata": {},
   "source": [
    "İşte oyun tahtasını ekrana dökmek için kullandığımız kodda da benzer bir şey yaptık. Yıldız işareti yardımıyla, tahta adlı listeyi oluşturan iç içe geçmiş listeleri liste dışına çıkarıp düzgün bir şekilde kullanıcıya gösterdik.\n",
    "\n",
    "print() fonksiyonu içindeki son parametremiz şu: end=\"\\n\"*2\n",
    "\n",
    "Bu parametrenin ne işe yaradığını kolaylıkla anlayabildiğinizi zannediyorum. Bu parametre de istediğimiz çıktıyı elde etmeye yönelik bir çabadan ibarettir. tahta adlı liste içindeki iç içe geçmiş listelerin her birinin sonuna ikişer adet “\\n” karakteri yerleştirerek, çıktıdaki satırlar arasında yeterli miktarda aralık bıraktık. Eğer oyun tahtasındaki satırların biraz daha aralıklı olmasını isterseniz bu parametredeki 2 çarpanını artırabilirsiniz. Mesela: end=\"\\n\"*3\n",
    "\n",
    "Şimdi yapmamız gereken şey, oyundaki kazanma ölçütlerini belirlemek. Hatırlarsanız bu konuya bir önceki bölümde değinmiştik. O yüzden aşağıda söyleyeceklerimizin bir bölümüne zaten aşinasınız. Burada önceden söylediğimiz bazı şeylerin yeniden üzerinden geçeceğiz.\n",
    "\n",
    "Dediğim gibi, kodların bu bölümünde, hangi durumda oyunun biteceğini ve kazananın kim olacağını tespit edebilmemiz gerekiyor. Mesela oyun sırasında şöyle bir görüntü ortaya çıkarsa hemen oyunu durdurup “O KAZANDI!” gibi bir çıktı verebilmemiz lazım:\n",
    "\n"
   ]
  },
  {
   "cell_type": "raw",
   "id": "3eed8c01-b28b-40c4-af37-4c56cf1c8808",
   "metadata": {},
   "source": [
    " O   O   O\n",
    "\n",
    "___  X   X\n",
    "\n",
    "___ ___ ___"
   ]
  },
  {
   "cell_type": "markdown",
   "id": "a33ff1dc-98e6-4b3c-a79a-082fd9c7636c",
   "metadata": {},
   "source": [
    "Veya şöyle bir durumda “X KAZANDI!” diyebilmeliyiz:"
   ]
  },
  {
   "cell_type": "raw",
   "id": "0458fff1-ee7a-42ab-984e-b7c33cad9b82",
   "metadata": {},
   "source": [
    "X   O  ___\n",
    "\n",
    "X   O   O\n",
    "\n",
    "X  ___ ___"
   ]
  },
  {
   "cell_type": "markdown",
   "id": "5b31bdb1-ca52-4a5c-8217-5569ec9f2c8d",
   "metadata": {},
   "source": [
    "Yukarıdaki iki örnek üzerinden düşünecek olursak, herhangi bir işaretin şu konumlarda bulunması o işaretin kazandığını gösteriyor:"
   ]
  },
  {
   "cell_type": "raw",
   "id": "fee53ce4-bf27-4174-8e64-904ddb02a32d",
   "metadata": {},
   "source": [
    "yukarıdan aşağıya 0; soldan sağa 0\n",
    "yukarıdan aşağıya 1; soldan sağa 0\n",
    "yukarıdan aşağıya 2; soldan sağa 0"
   ]
  },
  {
   "cell_type": "markdown",
   "id": "27cc607c-f014-4053-87c4-ec65c76691f3",
   "metadata": {},
   "source": [
    "veya:"
   ]
  },
  {
   "cell_type": "raw",
   "id": "ea739504-b375-4421-8824-1c107c80fa6d",
   "metadata": {},
   "source": [
    "yukarıdan aşağıya 0; soldan sağa 0\n",
    "yukarıdan aşağıya 0; soldan sağa 1\n",
    "yukarıdan aşağıya 0; soldan sağa 2"
   ]
  },
  {
   "cell_type": "markdown",
   "id": "53c5f039-d202-4b72-b9ea-7ee24457644e",
   "metadata": {},
   "source": [
    "İşte bizim yapmamız gereken şey, bir işaretin oyun tahtası üzerinde hangi konumlarda bulunması halinde oyunun biteceğini tespit etmek. Yukarıdaki örnekleri göz önüne alarak bunun için şöyle bir liste hazırlayabiliriz:\n",
    "\n"
   ]
  },
  {
   "cell_type": "raw",
   "id": "c9f4d7a3-a028-4414-ac4e-b49b7357205e",
   "metadata": {},
   "source": [
    "kazanma_ölçütleri = [[[0, 0], [1, 0], [2, 0]],\n",
    "                     [[0, 0], [0, 1], [0, 2]]]"
   ]
  },
  {
   "cell_type": "markdown",
   "id": "183535e1-65d7-434b-976e-d42e06d2db86",
   "metadata": {},
   "source": [
    "Burada iki adet listeden oluşan, kazanma_ölçütleri adlı bir listemiz var. Liste içinde, her biri üçer öğeden oluşan şu listeleri görüyoruz:"
   ]
  },
  {
   "cell_type": "raw",
   "id": "59cfa96e-4626-4724-8e29-9aec1fded01f",
   "metadata": {},
   "source": [
    "[[0, 0], [1, 0], [2, 0]]\n",
    "[[0, 0], [0, 1], [0, 2]]"
   ]
  },
  {
   "cell_type": "markdown",
   "id": "f832f335-3131-4e65-be98-199207398c7e",
   "metadata": {},
   "source": [
    "Bu listeler de kendi içinde ikişer öğeli bazı listelerden oluşuyor. Mesela ilk liste içinde şu listeler var:\n",
    "\n"
   ]
  },
  {
   "cell_type": "raw",
   "id": "dcd67461-0a03-4223-b06d-ca937e1528f7",
   "metadata": {},
   "source": [
    "[0, 0], [1, 0], [2, 0]"
   ]
  },
  {
   "cell_type": "markdown",
   "id": "984c87a8-f350-4d40-b789-45642285a42b",
   "metadata": {},
   "source": [
    "İkinci liste içinde ise şu listeler:"
   ]
  },
  {
   "cell_type": "raw",
   "id": "2747414f-b9b9-4522-82f9-84b245d4b88c",
   "metadata": {},
   "source": [
    "[0, 0], [0, 1], [0, 2]"
   ]
  },
  {
   "cell_type": "markdown",
   "id": "69719857-6a89-4aba-9aae-28fd37fccb14",
   "metadata": {},
   "source": [
    "Burada her bir liste içindeki ilk sayı oyun tahtasında yukarıdan aşağıya doğru olan düzlemi; ikinci sayı ise soldan sağa doğru olan düzlemi gösteriyor.\n",
    "\n",
    "Tabii ki oyun içindeki tek kazanma ölçütü bu ikisi olmayacak. Öteki kazanma ölçütlerini de tek tek tanımlamalıyız:"
   ]
  },
  {
   "cell_type": "raw",
   "id": "a61965bd-72c3-42ee-a0b6-3d4a81ff4ce6",
   "metadata": {},
   "source": [
    "kazanma_ölçütleri = [[[0, 0], [1, 0], [2, 0]],\n",
    "                     [[0, 1], [1, 1], [2, 1]],\n",
    "                     [[0, 2], [1, 2], [2, 2]],\n",
    "                     [[0, 0], [0, 1], [0, 2]],\n",
    "                     [[1, 0], [1, 1], [1, 2]],\n",
    "                     [[2, 0], [2, 1], [2, 2]],\n",
    "                     [[0, 0], [1, 1], [2, 2]],\n",
    "                     [[0, 2], [1, 1], [2, 0]]]"
   ]
  },
  {
   "cell_type": "markdown",
   "id": "1469e862-4103-4abf-b3ec-f80369598698",
   "metadata": {},
   "source": [
    "İşte X veya O işaretleri kazanma_ölçütleri adlı listede belirtilen koordinatlarda bulunduğunda, ilgili işaretin oyunu kazandığını ilan edip oyundan çıkabileceğiz.\n",
    "\n",
    "Yukarıdaki açıklamalardan da anlayacağınız gibi, X ve O işaretlerinin oyun tahtasındaki konumu, oyunun gidişatı açısından önem taşıyor. O yüzden şu şekilde iki farklı liste daha tanımlamamızda fayda var:"
   ]
  },
  {
   "cell_type": "raw",
   "id": "09110e3f-8186-4efc-a08e-8c47f730d983",
   "metadata": {},
   "source": [
    "x_durumu = []\n",
    "o_durumu = []"
   ]
  },
  {
   "cell_type": "markdown",
   "id": "3c6a9049-e5b8-4e2b-9413-fa280ae4c8f3",
   "metadata": {},
   "source": [
    "Bu değişkenler sırasıyla X işaretinin ve O işaretinin oyun içinde aldıkları konumları kaydedecek. Bu konumlarla, bir önceki adımda tanımladığımız kazanma ölçütlerini karşılaştırarak oyunu kimin kazandığını tespit edebileceğiz.\n",
    "\n",
    "Gördüğünüz gibi, oyunda iki farklı işaret var: X ve O. Dolayısıyla oynama sırası sürekli olarak bu iki işaret arasında değişmeli. Mesela oyuna 0 işareti ile başlanacaksa, 0 işaretinin yerleştirilmesinden sonra sıranın X işaretine geçmesi gerekiyor. X işareti de yerleştirildikten sonra sıra tekrar 0 işaretine geçmeli ve oyun süresince bu böyle devam edebilmeli.\n",
    "\n",
    "Bu sürekliliği sağlamak için şöyle bir kod yazabiliriz:\n",
    "\n"
   ]
  },
  {
   "cell_type": "raw",
   "id": "46e09a36-b9f3-4297-a79d-129b4bc6b786",
   "metadata": {},
   "source": [
    "sıra = 1\n",
    "\n",
    "while True:\n",
    "    if sıra % 2 == 0:\n",
    "        işaret = \"X\".center(3)\n",
    "    else:\n",
    "        işaret = \"O\".center(3)\n",
    "\n",
    "    sıra += 1\n",
    "\n",
    "    print()\n",
    "    print(\"İŞARET: {}\\n\".format(işaret))\n",
    "## it will cause infinite looop if u work that code !!\n"
   ]
  },
  {
   "cell_type": "markdown",
   "id": "3d99dc9a-a02e-41c0-83c7-eea1e29ac3e7",
   "metadata": {},
   "source": [
    "Burada sayıların tek veya çift olma özelliğinden yararlanarak X ve O işaretleri arasında geçiş yaptık. Önce sıra adlı bir değişken tanımlayıp bunun değerini 1 olarak belirledik. while döngüsünde ise bu değişkenin değerini her defasında 1 artırdık. Eğer sayının değeri çiftse işaret X; tekse O olacak. Bu arada X ve O adlı karakter dizilerini, center() metodu yardımıyla ortaladığımıza dikkat edin.\n",
    "\n",
    "Yukarıdaki kodları bu şekilde çalıştırdığınızda X ve O harflerinin çok hızlı bir şekilde ekrandan geçtiğini göreceksiniz. Eğer ekranda son hız akıp giden bu verileri yavaşlatmak ve neler olup bittiğini daha net görmek isterseniz yukarıdaki kodları şöyle yazabilirsiniz:"
   ]
  },
  {
   "cell_type": "code",
   "execution_count": null,
   "id": "c92c16e2-5ec8-41f7-bf14-51193d788a49",
   "metadata": {},
   "outputs": [],
   "source": [
    "from time import sleep\n",
    "\n",
    "sıra = 1\n",
    "\n",
    "while True:\n",
    "    if sıra % 2 == 0:\n",
    "        işaret = \"X\".center(3)\n",
    "    else:\n",
    "        işaret = \"O\".center(3)\n",
    "    sıra += 1\n",
    "\n",
    "    print()\n",
    "    print(\"İŞARET: {}\\n\".format(işaret))\n",
    "    sleep(0.3)"
   ]
  },
  {
   "cell_type": "markdown",
   "id": "029411bf-41ac-465a-8853-6fb378faedb3",
   "metadata": {},
   "source": [
    "Bu kodlarda henüz öğrenmediğimiz parçalar var. Ama şimdilik bu bilmediğiniz parçalara değil, sonuca odaklanın. Burada yaptığımız şey, while döngüsü içinde her bir print() fonksiyonu arasına 0.3 saniyelik duraklamalar eklemek. Böylece programın akışı yavaşlamış oluyor. Biz de işaret değişkeninin her döngüde bir X, bir O oluşunu daha net bir şekilde görebiliyoruz."
   ]
  },
  {
   "cell_type": "raw",
   "id": "949c5a1a-e22f-47bd-bc15-462a932c3019",
   "metadata": {},
   "source": [
    "Asıl program içinde X ve O karakterlerinin geçişini özellikle yavaşlatmamıza gerek kalmayacak. Programın ilerleyen satırlarında input() fonksiyonu yardımıyla kullanıcıdan veri girişi isteyeceğimiz için X ve O’ların akışı zaten doğal olarak duraklamış olacak."
   ]
  },
  {
   "cell_type": "markdown",
   "id": "3c24ce39-9731-4fed-a4e2-da34b3a27eb6",
   "metadata": {},
   "source": [
    "while döngümüzü yazmaya devam edelim:"
   ]
  },
  {
   "cell_type": "code",
   "execution_count": null,
   "id": "bf4bc3f6-08ea-4e85-9660-d2b4e5c4a4eb",
   "metadata": {},
   "outputs": [],
   "source": [
    "x = input(\"yukarıdan aşağıya [1, 2, 3]: \".ljust(30))\n",
    "if x == \"q\":\n",
    "    break\n",
    "\n",
    "y = input(\"soldan sağa [1, 2, 3]: \".ljust(30))\n",
    "if y == \"q\":\n",
    "    break\n",
    "\n",
    "x = int(x)-1\n",
    "y = int(y)-1"
   ]
  },
  {
   "cell_type": "markdown",
   "id": "c2e58f69-d9a5-4896-a9e2-49a400e0fdec",
   "metadata": {},
   "source": [
    "Burada X veya O işaretlerini tahta üzerinde uygun yerlere yerleştirebilmek için kullanıcının konum bilgisi girmesini istiyoruz. x değişkeni yukarıdan aşağıya doğru olan düzlemdeki konumu, y değişkeni ise soldan sağa doğru olan düzlemdeki konumu depolayacak. Oyunda kullanıcının girebileceği değerler 1, 2 veya 3 olacak. Mesela oyuncu O işareti için yukarıdan aşağıya 1; soldan sağa 2 değerini girmişse şöyle bir görüntü elde edeceğiz:\n",
    "\n"
   ]
  },
  {
   "cell_type": "raw",
   "id": "80c6e7cb-98a2-48de-b2be-5da650c18b07",
   "metadata": {},
   "source": [
    "__  O  ___\n",
    "\n",
    "___ ___ ___\n",
    "\n",
    "___ ___ ___"
   ]
  },
  {
   "cell_type": "markdown",
   "id": "b80878ec-b90b-4405-8030-444710197128",
   "metadata": {},
   "source": [
    "Burada ljust() metotlarını, kullanıcıya gösterilecek verinin düzgün bir şekilde hizalanması amacıyla kullandık.\n",
    "\n",
    "Eğer kullanıcı x veya y değişkenlerinden herhangi birine “q” cevabı verirse oyundan çıkıyoruz.\n",
    "\n",
    "Yukarıdaki kodların son iki satırında ise kullanıcıdan gelen karakter dizilerini birer sayıya dönüştürüyoruz. Bu arada, bildiğiniz gibi Python saymaya 0’dan başlıyor. Ama insanlar açısından doğal olan saymaya 1’den başlamaktır. O yüzden mesela kullanıcı 1 sayısını girdiğinde Python’ın bunu 0 olarak algılamasını sağlamamız gerekiyor. Bunun için x ve y değerlerinden 1 çıkarıyoruz.\n",
    "\n",
    "Kullanıcıdan gerekli konum bilgilerini aldığımıza göre, bu bilgilere dayanarak X ve O işaretlerini oyun tahtası üzerine yerleştirebiliriz. Şimdi şu kodları dikkatlice inceleyin:"
   ]
  },
  {
   "cell_type": "code",
   "execution_count": null,
   "id": "22510cab-6d20-45d0-9538-bbfc3855e064",
   "metadata": {},
   "outputs": [],
   "source": [
    "print(\"\\n\"*15)\n",
    "\n",
    "if tahta[x][y] == \"___\":\n",
    "    tahta[x][y] = işaret\n",
    "    if işaret == \"X\".center(3):\n",
    "        x_durumu += [[x, y]]\n",
    "    elif işaret == \"O\".center(3):\n",
    "        o_durumu += [[x, y]]\n",
    "    sıra += 1\n",
    "else:\n",
    "    print(\"\\nORASI DOLU! TEKRAR DENEYİN\\n\")"
   ]
  },
  {
   "cell_type": "markdown",
   "id": "659c1d18-a645-4ff4-a159-0157920fd52d",
   "metadata": {},
   "source": [
    "Burada öncelikle 15 adet satır başı karakteri basıyoruz. Böylece oyun tahtası için ekranda boş bir alan oluşturmuş oluyoruz. Bu satır tamamen güzel bir görüntü elde etmeye yönelik bir uygulamadır. Yani bu satırı yazmasanız da programınız çalışır. Veya siz kendi zevkinize göre daha farklı bir görünüm elde etmeye çalışabilirsiniz.\n",
    "\n",
    "İkinci satırda gördüğümüz if tahta[x][y] == \"___\": kodu, oyun tahtası üzerindeki bir konumun halihazırda boş mu yoksa dolu mu olduğunu tespit etmemizi sağlıyor. Amacımız oyuncunun aynı konuma iki kez giriş yapmasını engellemek. Bunun için tahta üzerinde x ve y konumlarına denk gelen yerde “___” işaretinin olup olmadığına bakmamız yeterli olacaktır. Eğer bakılan konumda “___” işareti varsa orası boş demektir. O konuma işaret koyulabilir. Ama eğer o konumda “___” işareti yoksa X veya O işaretlerinden biri var demektir. Dolayısıyla o konuma işaret koyulamaz. Böyle bir durumda kullanıcıya “ORASI DOLU! TEKRAR DENEYİN” uyarısını gösteriyoruz.\n",
    "\n",
    "Oyun tahtası üzerinde değişiklik yapabilmek için nasıl bir yol izlediğimize dikkat edin:"
   ]
  },
  {
   "cell_type": "raw",
   "id": "ddc9c4bf-9076-4fa2-a94a-0b5ee3c7b9b1",
   "metadata": {},
   "source": [
    "tahta[x][y] = işaret"
   ]
  },
  {
   "cell_type": "markdown",
   "id": "1460f99b-9f5f-4488-8ac2-d0dcc5144991",
   "metadata": {},
   "source": [
    "Mesela oyuncu yukarıdan aşağıya 1; soldan sağa 2 sayısını girmişse, kullanıcıdan gelen sayılardan 1 çıkardığımız için, Python yukarıdaki kodu şöyle değerlendirecektir:\n",
    "\n"
   ]
  },
  {
   "cell_type": "raw",
   "id": "cc763db8-4bee-41e0-b452-f4092f89537b",
   "metadata": {},
   "source": [
    "tahta[0][1] = işaret\n"
   ]
  },
  {
   "cell_type": "markdown",
   "id": "4f0b1053-86f3-4c05-b741-c6819ea0bf47",
   "metadata": {},
   "source": [
    "Yani tahta adlı liste içindeki ilk listenin ikinci sırasına ilgili işaret yerleştirilecektir.\n",
    "\n",
    "Ayrıca yukarıdaki kodlarda şu satırları da görüyoruz:"
   ]
  },
  {
   "cell_type": "raw",
   "id": "97c078d7-15be-438e-a360-7a982a8c4792",
   "metadata": {},
   "source": [
    "if işaret == \"X\".center(3):\n",
    "    x_durumu += [[x, y]]\n",
    "elif işaret == \"O\".center(3):\n",
    "    o_durumu += [[x, y]]"
   ]
  },
  {
   "cell_type": "markdown",
   "id": "559614bb-4908-4826-9375-6831ee39e0cd",
   "metadata": {},
   "source": [
    "Eğer işaret sırası X’te ise oyuncunun girdiği konum bilgilerini x_durumu adlı değişkene, eğer işaret sırası O’da ise konum bilgilerini o_durumu adlı değişkene yolluyoruz. Oyunu hangi işaretin kazandığını tespit edebilmemiz açısından bu kodlar büyük önem taşıyor. x_durumu ve o_durumu değişkenlerini kazanma_ölçütleri adlı liste ile karşılaştırarak oyunu kimin kazandığına karar vereceğiz.\n",
    "\n",
    "Bu arada, oyunun en başında tanımladığımız sıra adlı değişkeni if bloğu içinde artırdığımıza dikkat edin. Bu sayede, kullanıcının yanlışlıkla aynı konuma iki kez işaret yerleştirmeye çalışması halinde işaret sırası değişmeyecek. Yani mesela o anda sıra X’te ise ve oyuncu yanlış bir konum girdiyse sıra yine X’te olacak. Eğer sıra değişkenini if bloğu içine yazmazsak, yanlış konum girildiğinde işaret sırası O’a geçecektir.\n",
    "\n",
    "İsterseniz şimdiye kadar yazdığımız kodları şöyle bir topluca görelim:\n",
    "\n"
   ]
  },
  {
   "cell_type": "code",
   "execution_count": null,
   "id": "18e72046-edb0-4348-a233-82848e0e7dfc",
   "metadata": {},
   "outputs": [],
   "source": [
    "tahta = [[\"___\", \"___\", \"___\"],\n",
    "         [\"___\", \"___\", \"___\"],\n",
    "         [\"___\", \"___\", \"___\"]]\n",
    "\n",
    "print(\"\\n\"*15)\n",
    "\n",
    "for i in tahta:\n",
    "    print(\"\\t\".expandtabs(30), *i, end=\"\\n\"*2)\n",
    "\n",
    "kazanma_ölçütleri = [[[0, 0], [1, 0], [2, 0]],\n",
    "                     [[0, 1], [1, 1], [2, 1]],\n",
    "                     [[0, 2], [1, 2], [2, 2]],\n",
    "                     [[0, 0], [0, 1], [0, 2]],\n",
    "                     [[1, 0], [1, 1], [1, 2]],\n",
    "                     [[2, 0], [2, 1], [2, 2]],\n",
    "                     [[0, 0], [1, 1], [2, 2]],\n",
    "                     [[0, 2], [1, 1], [2, 0]]]\n",
    "\n",
    "x_durumu = []\n",
    "o_durumu = []\n",
    "\n",
    "sıra = 1\n",
    "while True:\n",
    "    if sıra % 2 == 0:\n",
    "        işaret = \"X\".center(3)\n",
    "    else:\n",
    "        işaret = \"O\".center(3)\n",
    "\n",
    "    print()\n",
    "    print(\"İŞARET: {}\\n\".format(işaret))\n",
    "\n",
    "    x = input(\"yukarıdan aşağıya [1, 2, 3]: \".ljust(30))\n",
    "    if x == \"q\":\n",
    "        break\n",
    "\n",
    "    y = input(\"soldan sağa [1, 2, 3]: \".ljust(30))\n",
    "    if y == \"q\":\n",
    "        break\n",
    "\n",
    "    x = int(x)-1\n",
    "    y = int(y)-1\n",
    "\n",
    "    print(\"\\n\"*15)\n",
    "\n",
    "    if tahta[x][y] == \"___\":\n",
    "        tahta[x][y] = işaret\n",
    "        if işaret == \"X\".center(3):\n",
    "            x_durumu += [[x, y]]\n",
    "        elif işaret == \"O\".center(3):\n",
    "            o_durumu += [[x, y]]\n",
    "        sıra += 1\n",
    "    else:\n",
    "        print(\"\\nORASI DOLU! TEKRAR DENEYİN\\n\")"
   ]
  },
  {
   "cell_type": "markdown",
   "id": "181bdb04-3f06-4e82-a669-d28e27e8146a",
   "metadata": {},
   "source": [
    "Gördüğünüz gibi epey kod yazmışız. Kodlarımızı topluca incelediğimize göre yazmaya devam edebiliriz:"
   ]
  },
  {
   "cell_type": "code",
   "execution_count": null,
   "id": "92382df5-3160-4995-bb4e-63765aa526ef",
   "metadata": {},
   "outputs": [],
   "source": [
    "for i in tahta:\n",
    "     print(\"\\t\".expandtabs(30), *i, end=\"\\n\"*2)"
   ]
  },
  {
   "cell_type": "markdown",
   "id": "ae174cec-9065-4d61-9375-f86fc991735a",
   "metadata": {},
   "source": [
    "Bu kodların ne işe yaradığınız biliyorsunuz. Oyun tahtasının son durumunu kullanıcıya göstermek için kullanıyoruz bu kodları.\n",
    "\n",
    "Sıra geldi oyunun en önemli kısmına. Bu noktada oyunu kimin kazandığını belirlememiz gerekiyor. Dikkatlice inceleyin:\n",
    "\n"
   ]
  },
  {
   "cell_type": "code",
   "execution_count": null,
   "id": "9536c215-9be3-4f85-87d2-c08dbd854a9f",
   "metadata": {},
   "outputs": [],
   "source": [
    "for i in kazanma_ölçütleri:\n",
    "    o = [z for z in i if z in o_durumu]\n",
    "    x = [z for z in i if z in x_durumu]\n",
    "    if len(o) == len(i):\n",
    "        print(\"O KAZANDI!\")\n",
    "        quit()\n",
    "    if len(x) == len(i):\n",
    "        print(\"X KAZANDI!\")\n",
    "        quit()"
   ]
  },
  {
   "cell_type": "markdown",
   "id": "cb0fce74-7d15-4af4-9052-92be5a57f568",
   "metadata": {},
   "source": [
    "Bu kodları anlayabilmek için en iyi yol uygun yerlere print() fonksiyonları yerleştirerek çıktıları incelemektir. Mesela bu kodları şöyle yazarak o ve x değişkenlerinin değerlerini izleyebilirsiniz:\n",
    "\n"
   ]
  },
  {
   "cell_type": "code",
   "execution_count": null,
   "id": "77b281cf-b2b3-4a7b-8945-643a8b330497",
   "metadata": {},
   "outputs": [],
   "source": [
    "for i in kazanma_ölçütleri:\n",
    "    o = [z for z in i if z in o_durumu]\n",
    "    x = [z for z in i if z in x_durumu]\n",
    "    print(\"o: \", o)\n",
    "    print(\"x: \", x)\n",
    "    if len(o) == len(i):\n",
    "        print(\"O KAZANDI!\")\n",
    "        quit()\n",
    "    if len(x) == len(i):\n",
    "        print(\"X KAZANDI!\")\n",
    "        quit()"
   ]
  },
  {
   "cell_type": "markdown",
   "id": "c8a3f118-8d25-4311-875d-d594e40183e4",
   "metadata": {},
   "source": [
    "Bu kodlar içindeki en önemli öğeler o ve x adlı değişkenlerdir. Burada, o_durumu veya x_durumu adlı listelerdeki değerlerle kazanma_ölçütleri adlı listedeki değerleri karşılaştırarak, ortak değerleri o veya x değişkenlerine yolluyoruz. Eğer ortak öğe sayısı 3’e ulaşırsa (if len(o) == len(i): veya if len(x) == len(i):), bu sayıyı yakalayan ilk işaret hangisiyse oyunu o kazanmış demektir.\n",
    "\n",
    "Kodlarımızın son hali şöyle oldu:"
   ]
  },
  {
   "cell_type": "code",
   "execution_count": null,
   "id": "736500a3-b58d-42b8-bdd4-fc2985f95c4e",
   "metadata": {},
   "outputs": [],
   "source": [
    "tahta = [[\"___\", \"___\", \"___\"],\n",
    "         [\"___\", \"___\", \"___\"],\n",
    "         [\"___\", \"___\", \"___\"]]\n",
    "\n",
    "print(\"\\n\"*15)\n",
    "\n",
    "for i in tahta:\n",
    "    print(\"\\t\".expandtabs(30), *i, end=\"\\n\"*2)\n",
    "\n",
    "kazanma_ölçütleri = [[[0, 0], [1, 0], [2, 0]],\n",
    "                     [[0, 1], [1, 1], [2, 1]],\n",
    "                     [[0, 2], [1, 2], [2, 2]],\n",
    "                     [[0, 0], [0, 1], [0, 2]],\n",
    "                     [[1, 0], [1, 1], [1, 2]],\n",
    "                     [[2, 0], [2, 1], [2, 2]],\n",
    "                     [[0, 0], [1, 1], [2, 2]],\n",
    "                     [[0, 2], [1, 1], [2, 0]]]\n",
    "\n",
    "x_durumu = []\n",
    "o_durumu = []\n",
    "\n",
    "sıra = 1\n",
    "while True:\n",
    "    if sıra % 2 == 0:\n",
    "        işaret = \"X\".center(3)\n",
    "    else:\n",
    "        işaret = \"O\".center(3)\n",
    "\n",
    "    print()\n",
    "    print(\"İŞARET: {}\\n\".format(işaret))\n",
    "\n",
    "    x = input(\"yukarıdan aşağıya [1, 2, 3]: \".ljust(30))\n",
    "    if x == \"q\":\n",
    "        break\n",
    "\n",
    "    y = input(\"soldan sağa [1, 2, 3]: \".ljust(30))\n",
    "    if y == \"q\":\n",
    "        break\n",
    "\n",
    "    x = int(x)-1\n",
    "    y = int(y)-1\n",
    "\n",
    "    print(\"\\n\"*15)\n",
    "\n",
    "    if tahta[x][y] == \"___\":\n",
    "        tahta[x][y] = işaret\n",
    "        if işaret == \"X\".center(3):\n",
    "            x_durumu += [[x, y]]\n",
    "        elif işaret == \"O\".center(3):\n",
    "            o_durumu += [[x, y]]\n",
    "        sıra += 1\n",
    "    else:\n",
    "        print(\"\\nORASI DOLU! TEKRAR DENEYİN\\n\")\n",
    "\n",
    "    for i in tahta:\n",
    "         print(\"\\t\".expandtabs(30), *i, end=\"\\n\"*2)\n",
    "\n",
    "    for i in kazanma_ölçütleri:\n",
    "        o = [z for z in i if z in o_durumu]\n",
    "        x = [z for z in i if z in x_durumu]\n",
    "\n",
    "        if len(o) == len(i):\n",
    "            print(\"O KAZANDI!\")\n",
    "            quit()\n",
    "        if len(x) == len(i):\n",
    "            print(\"X KAZANDI!\")\n",
    "            quit()"
   ]
  },
  {
   "cell_type": "markdown",
   "id": "0ab326cf-01cd-40f5-b358-5bf8ec0e660f",
   "metadata": {},
   "source": [
    "Gördüğünüz gibi, sadece şu ana kadar öğrendiğimiz bilgileri kullanarak bir oyun yazabilecek duruma geldik. Burada küçük parçaları birleştirerek bir bütüne nasıl ulaştığımızı özellikle görmenizi isterim. Dikkat ederseniz, yukarıdaki programda sadece karakter dizileri, sayılar, listeler ve birkaç fonksiyon var. Nasıl sadece 7 nota ile müzik şaheserleri meydana getirilebiliyorsa, yalnızca 4-5 veri tipi ile de dünyayı ayağa kaldıracak programlar da yazılabilir.\n",
    "\n",
    "Listeleri temel olarak incelediğimize göre biraz da demetlerden söz edebiliriz.\n",
    "\n",
    "++++++++++++++++++Demetler\n",
    "\n",
    "\n",
    "Demetler, özellikle görünüş olarak listelere çok benzeyen bir veri tipidir. Bu veri tipi de, tıpkı listeler gibi, farklı veri tiplerini içinde barındıran kapsayıcı bir veri tipidir.\n",
    "\n",
    "+++++++++++++Demet Tanımlamak\n",
    "\n",
    "\n",
    "Demet tanımlamanın birkaç farklı yolu vardır. Nasıl karakter dizilerinin ayırt edici özelliği tırnak işaretleri, listelerin ayırt edici özelliği ise köşeli parantez işaretleri ise, demetlerin ayırt edici özelliği de normal parantez işaretleridir. Dolayısıyla bir demet tanımlamak için normal parantez işaretlerinden yararlanacağız:\n",
    "\n"
   ]
  },
  {
   "cell_type": "code",
   "execution_count": 1,
   "id": "26451d72-5d4d-45c1-a2c2-ab87ae9d44e2",
   "metadata": {},
   "outputs": [
    {
     "data": {
      "text/plain": [
       "tuple"
      ]
     },
     "execution_count": 1,
     "metadata": {},
     "output_type": "execute_result"
    }
   ],
   "source": [
    "demet = (\"ahmet\", \"mehmet\", 23, 45)\n",
    "\n",
    "type(demet)\n"
   ]
  },
  {
   "cell_type": "markdown",
   "id": "4700080b-f293-4795-aa91-6b81a25e9d2d",
   "metadata": {},
   "source": [
    "Gördüğünüz gibi, karakter dizilerinin type() sorgusuna str, listelerin ise list cevabı vermesi gibi, demetler de type() sorgusuna tuple cevabı veriyor.\n",
    "\n",
    "Yalnız, dediğimiz gibi Python’da demet tanımlamanın birden fazla yolu vardır. Mesela yukarıdaki demeti şöyle de tanımlayabiliriz:\n",
    "\n"
   ]
  },
  {
   "cell_type": "code",
   "execution_count": 2,
   "id": "d73f148f-5147-4abe-bb26-f33e2c9120af",
   "metadata": {},
   "outputs": [],
   "source": [
    "demet = \"ahmet\", \"mehmet\", 23, 45"
   ]
  },
  {
   "cell_type": "markdown",
   "id": "b484014c-ae65-44bf-9f8e-52d6dcafd860",
   "metadata": {},
   "source": [
    "Gördüğünüz gibi, parantez işaretlerini kullanmadan, öğeleri yalnızca virgül işareti ile ayırdığımızda da elde ettiğimiz şey bir demet oluyor.\n",
    "\n",
    "Demet oluşturmak için tuple() adlı bir fonksiyondan da yararlanabilirsiniz. Bu fonksiyon, liste oluşturan list() fonksiyonuna çok benzer:\n",
    "\n"
   ]
  },
  {
   "cell_type": "code",
   "execution_count": 3,
   "id": "e45e10d3-374c-446d-a9ad-7eaeee7149a1",
   "metadata": {},
   "outputs": [
    {
     "data": {
      "text/plain": [
       "('a', 'b', 'c', 'd', 'e', 'f', 'g')"
      ]
     },
     "execution_count": 3,
     "metadata": {},
     "output_type": "execute_result"
    }
   ],
   "source": [
    "tuple('abcdefg')"
   ]
  },
  {
   "cell_type": "markdown",
   "id": "b2ea119e-ab00-40dc-b57c-fc1ac689782a",
   "metadata": {},
   "source": [
    "Bu fonksiyonu kullanarak başka veri tiplerini demete dönüştürebilirsiniz:"
   ]
  },
  {
   "cell_type": "code",
   "execution_count": 4,
   "id": "9ea8faea-2e7b-4dcb-8101-9a29d240aa8a",
   "metadata": {},
   "outputs": [
    {
     "data": {
      "text/plain": [
       "('ahmet', 'mehmet', 34, 45)"
      ]
     },
     "execution_count": 4,
     "metadata": {},
     "output_type": "execute_result"
    }
   ],
   "source": [
    "tuple([\"ahmet\", \"mehmet\", 34, 45])"
   ]
  },
  {
   "cell_type": "markdown",
   "id": "ffee447c-3522-4668-93e0-21441348b886",
   "metadata": {},
   "source": [
    "Burada, [“ahmet”, “mehmet”, 34, 45] adlı bir listeyi tuple() fonksiyonu yardımıyla demete dönüştürdük.\n",
    "\n"
   ]
  },
  {
   "cell_type": "markdown",
   "id": "8eaa6a38-ac4c-40f9-9ac0-4fabed456420",
   "metadata": {},
   "source": [
    "+++++++++++Tek Öğeli bir Demet Tanımlamak\n",
    "\n",
    "\n",
    "Tek öğeli bir karakter dizisi oluşturabilmek için şu yolu izliyorduk hatırlarsanız:\n",
    "\n"
   ]
  },
  {
   "cell_type": "code",
   "execution_count": 5,
   "id": "ecee3aa0-9f8d-46d2-adc7-783251000852",
   "metadata": {},
   "outputs": [],
   "source": [
    "kardiz = 'A'"
   ]
  },
  {
   "cell_type": "markdown",
   "id": "cdee66be-cc6a-4740-89ae-87b52a3287da",
   "metadata": {},
   "source": [
    "Bu tek öğeli bir karakter dizisidir. Bir de tek öğeli bir liste tanımlayalım:"
   ]
  },
  {
   "cell_type": "code",
   "execution_count": 6,
   "id": "b70fb7d7-965d-4ebc-8941-727b61f148d9",
   "metadata": {},
   "outputs": [],
   "source": [
    "liste = ['ahmet']"
   ]
  },
  {
   "cell_type": "markdown",
   "id": "506fe029-e691-42de-8e09-4f21a54a53f1",
   "metadata": {},
   "source": [
    "Bu da tek öğeli bir listedir. Gelin bir de tek öğeli bir demet oluşturmaya çalışalım:\n",
    "\n"
   ]
  },
  {
   "cell_type": "code",
   "execution_count": 7,
   "id": "1b98719a-02bf-4dad-8057-85f01a5450d8",
   "metadata": {},
   "outputs": [],
   "source": [
    "demet = ('ahmet')"
   ]
  },
  {
   "cell_type": "markdown",
   "id": "03107a29-4052-4209-8a79-6ce2783ff462",
   "metadata": {},
   "source": [
    "Bu şekilde tek öğeli bir demet oluşturduğunuzu zannediyorsunuz, ama aslında oluşturduğunuz şey basit bir karakter dizisinden ibaret! Gelin kontrol edelim:\n",
    "\n"
   ]
  },
  {
   "cell_type": "code",
   "execution_count": 8,
   "id": "7bba143e-983a-4ed4-b919-b7ceab00e132",
   "metadata": {},
   "outputs": [
    {
     "data": {
      "text/plain": [
       "str"
      ]
     },
     "execution_count": 8,
     "metadata": {},
     "output_type": "execute_result"
    }
   ],
   "source": [
    "type(demet)"
   ]
  },
  {
   "cell_type": "markdown",
   "id": "2f982c38-a5ab-4b67-a75a-e0ad71365f7f",
   "metadata": {},
   "source": [
    "Python programlama dilinde tek öğeli bir demet oluşturma işlemi biraz ‘tuhaf’tır. Eğer tek öğeye sahip bir demet oluşturacaksak şöyle bir şey yazmalıyız:"
   ]
  },
  {
   "cell_type": "code",
   "execution_count": 9,
   "id": "11ad12cf-2c76-4b38-8f92-ed28b98da4a6",
   "metadata": {},
   "outputs": [],
   "source": [
    "demet = ('ahmet',)"
   ]
  },
  {
   "cell_type": "markdown",
   "id": "d9700f19-478c-4ddd-8591-bea7a68e4e24",
   "metadata": {},
   "source": [
    "veya:"
   ]
  },
  {
   "cell_type": "code",
   "execution_count": 10,
   "id": "e7760a0d-70f1-47aa-843f-bf81f4f01c1e",
   "metadata": {},
   "outputs": [],
   "source": [
    "demet = 'ahmet',"
   ]
  },
  {
   "cell_type": "markdown",
   "id": "48f3df3a-e669-48eb-ad04-fd03d0e24bf6",
   "metadata": {},
   "source": [
    "Gördüğünüz gibi, tek öğeli bir demet tanımlarken, o tek öğenin yanına bir tane virgül işareti yerleştiriyoruz. Böylece demet tanımlamak isterken, yanlışlıkla alelade bir şekilde ‘ahmet’ adlı bir karakter dizisini ‘demet’ adlı bir değişkene atamamış oluyoruz…\n",
    "\n"
   ]
  },
  {
   "cell_type": "markdown",
   "id": "524ee753-63a4-4962-b30c-7afb008fc3c3",
   "metadata": {},
   "source": [
    "+++++++++++++++Demetlerin Öğelerine Erişmek\n",
    "\n",
    "\n",
    "Eğer bir demet içinde yer alan herhangi bir öğeye erişmek isterseniz, karakter dizileri ve listelerden hatırladığınız yöntemi kullanabilirsiniz:\n",
    "\n"
   ]
  },
  {
   "cell_type": "code",
   "execution_count": 11,
   "id": "22431a76-f953-4794-aca9-92eb8020365c",
   "metadata": {},
   "outputs": [
    {
     "data": {
      "text/plain": [
       "'elma'"
      ]
     },
     "execution_count": 11,
     "metadata": {},
     "output_type": "execute_result"
    }
   ],
   "source": [
    "demet = ('elma', 'armut', 'kiraz')\n",
    "demet[0]\n"
   ]
  },
  {
   "cell_type": "code",
   "execution_count": 12,
   "id": "2a4c15f2-e713-48d2-bf68-70d3577818c3",
   "metadata": {},
   "outputs": [
    {
     "data": {
      "text/plain": [
       "'kiraz'"
      ]
     },
     "execution_count": 12,
     "metadata": {},
     "output_type": "execute_result"
    }
   ],
   "source": [
    "demet[-1]"
   ]
  },
  {
   "cell_type": "code",
   "execution_count": 13,
   "id": "eb319098-02fd-48f2-bf3e-df48f25f1ea0",
   "metadata": {},
   "outputs": [
    {
     "data": {
      "text/plain": [
       "('elma', 'armut')"
      ]
     },
     "execution_count": 13,
     "metadata": {},
     "output_type": "execute_result"
    }
   ],
   "source": [
    "demet[:2]"
   ]
  },
  {
   "cell_type": "markdown",
   "id": "d38c746b-d0fa-4209-9bd4-e46f3e4fe655",
   "metadata": {},
   "source": [
    "Gördüğünüz gibi, daha önce öğrendiğimiz indeksleme ve dilimleme kuralları aynen demetler için de geçerli.\n",
    "\n"
   ]
  },
  {
   "cell_type": "markdown",
   "id": "c247e77b-74aa-4b13-b700-84a38582a63e",
   "metadata": {},
   "source": [
    "++++++++++Demetlerle Listelerin Birbirinden Farkı\n",
    "\n",
    "\n",
    "En başta da söylediğimiz gibi, demetlerle listeler birbirine çok benzer. Ama demetlerle listelerin birbirinden çok önemli bazı farkları da vardır. Bu iki veri tipi arasındaki en önemli fark şudur; listeler değiştirilebilir (mutable) bir veri tipi iken, demetler değiştirilemez (immutable) bir veri tipidir. Yani tıpkı karakter dizileri gibi, demetler de bir kez tanımlandıktan sonra bunların üzerinde değişiklik yapmak mümkün değildir:"
   ]
  },
  {
   "cell_type": "code",
   "execution_count": 14,
   "id": "3d9b3042-cbfe-4bf0-93d8-6761ba6e78b1",
   "metadata": {},
   "outputs": [
    {
     "ename": "TypeError",
     "evalue": "'tuple' object does not support item assignment",
     "output_type": "error",
     "traceback": [
      "\u001b[0;31m---------------------------------------------------------------------------\u001b[0m",
      "\u001b[0;31mTypeError\u001b[0m                                 Traceback (most recent call last)",
      "Cell \u001b[0;32mIn[14], line 2\u001b[0m\n\u001b[1;32m      1\u001b[0m demet \u001b[38;5;241m=\u001b[39m (\u001b[38;5;124m'\u001b[39m\u001b[38;5;124melma\u001b[39m\u001b[38;5;124m'\u001b[39m, \u001b[38;5;124m'\u001b[39m\u001b[38;5;124marmut\u001b[39m\u001b[38;5;124m'\u001b[39m, \u001b[38;5;124m'\u001b[39m\u001b[38;5;124mkiraz\u001b[39m\u001b[38;5;124m'\u001b[39m)\n\u001b[0;32m----> 2\u001b[0m \u001b[43mdemet\u001b[49m\u001b[43m[\u001b[49m\u001b[38;5;241;43m0\u001b[39;49m\u001b[43m]\u001b[49m \u001b[38;5;241m=\u001b[39m \u001b[38;5;124m'\u001b[39m\u001b[38;5;124mkarpuz\u001b[39m\u001b[38;5;124m'\u001b[39m\n",
      "\u001b[0;31mTypeError\u001b[0m: 'tuple' object does not support item assignment"
     ]
    }
   ],
   "source": [
    "demet = ('elma', 'armut', 'kiraz')\n",
    "demet[0] = 'karpuz'"
   ]
  },
  {
   "cell_type": "markdown",
   "id": "1eed9475-e702-4c4d-b21c-36ac4873fad9",
   "metadata": {},
   "source": [
    "Gördüğünüz gibi, demetin herhangi bir öğesini değiştirmeye çalıştığımızda Python bize bir hata mesajı gösteriyor.\n",
    "\n",
    "Bu bakımdan, eğer programın akışı esnasında üzerinde değişiklik yapmayacağınız veya değişiklik yapılmasını istemediğiniz birtakım veriler varsa ve eğer siz bu verileri liste benzeri bir taşıyıcı içine yerleştirmek istiyorsanız, listeler yerine demetleri kullanabilirsiniz. Ayrıca demetler üzerinde işlem yapmak listelere kıyasla daha hızlıdır. Dolayısıyla, performans avantajı nedeniyle de listeler yerine demetleri kullanmak isteyebilirsiniz.\n",
    "\n",
    "Tahmin edebileceğiniz gibi, tıpkı karakter dizilerinde olduğu gibi, önceden tanımlanmış bir demetin üzerinde değişiklik yapabilmek için, örneğin bir demetle başka bir demeti birleştirmek için o demeti yeniden tanımlamak da mümkündür:"
   ]
  },
  {
   "cell_type": "code",
   "execution_count": 15,
   "id": "db60cf4f-84c4-4411-8ba8-502457fa6343",
   "metadata": {},
   "outputs": [],
   "source": [
    "demet = ('ahmet', 'mehmet')\n",
    "demet = demet + ('selin',)"
   ]
  },
  {
   "cell_type": "markdown",
   "id": "c6a88730-bc14-4301-ae75-fa2e4c1498d3",
   "metadata": {},
   "source": [
    "Eğer sadece demet + ('selin',) demiş olsaydık özgün demet üzerinde herhangi bir değişiklik yapmış olmayacaktık. Siz bu olguya karakter dizilerinden de aşinasınız. O yüzden, özgün demet üzerinde herhangi bir değişiklik yapabilmek için, daha doğrusu özgün demet üzerinde bir değişiklik yapmış gibi görünebilmek için, özgün demeti sıfırdan tanımlamamız gerekiyor…\n",
    "\n",
    "Burada ayrıca ‘ahmet’ ve ‘mehmet’ öğelerinden oluşan bir demete ‘selin’ öğesini nasıl eklediğimize de dikkat edin. Asla unutmamalısınız: Python programlama dilinde sadece aynı tür verileri birbiriyle birleştirebilirsiniz. Mesela yukarıdaki örnekte ‘selin’ adlı öğeyi demet adlı demete bir karakter dizisi olarak ekleyemezsiniz:"
   ]
  },
  {
   "cell_type": "code",
   "execution_count": 16,
   "id": "b147cfda-0079-4a51-b2c6-6c04b8161d69",
   "metadata": {},
   "outputs": [
    {
     "ename": "TypeError",
     "evalue": "can only concatenate tuple (not \"str\") to tuple",
     "output_type": "error",
     "traceback": [
      "\u001b[0;31m---------------------------------------------------------------------------\u001b[0m",
      "\u001b[0;31mTypeError\u001b[0m                                 Traceback (most recent call last)",
      "Cell \u001b[0;32mIn[16], line 1\u001b[0m\n\u001b[0;32m----> 1\u001b[0m demet \u001b[38;5;241m=\u001b[39m \u001b[43mdemet\u001b[49m\u001b[43m \u001b[49m\u001b[38;5;241;43m+\u001b[39;49m\u001b[43m \u001b[49m\u001b[38;5;124;43m'\u001b[39;49m\u001b[38;5;124;43mselin\u001b[39;49m\u001b[38;5;124;43m'\u001b[39;49m\n",
      "\u001b[0;31mTypeError\u001b[0m: can only concatenate tuple (not \"str\") to tuple"
     ]
    }
   ],
   "source": [
    "demet = demet + 'selin'\n"
   ]
  },
  {
   "cell_type": "markdown",
   "id": "e17729f8-2a2e-4194-979a-493bf18988bf",
   "metadata": {},
   "source": [
    "Bu arada, yukarıdaki kodu şöyle yazdığınızda da aslında bir demetle karakter dizisini birleştirmeye çalışıyor olduğunuza dikkat edin:"
   ]
  },
  {
   "cell_type": "code",
   "execution_count": 17,
   "id": "81d3ce51-62e7-4ec5-8f02-454d968f2cb9",
   "metadata": {},
   "outputs": [
    {
     "ename": "TypeError",
     "evalue": "can only concatenate tuple (not \"str\") to tuple",
     "output_type": "error",
     "traceback": [
      "\u001b[0;31m---------------------------------------------------------------------------\u001b[0m",
      "\u001b[0;31mTypeError\u001b[0m                                 Traceback (most recent call last)",
      "Cell \u001b[0;32mIn[17], line 1\u001b[0m\n\u001b[0;32m----> 1\u001b[0m demet \u001b[38;5;241m=\u001b[39m \u001b[43mdemet\u001b[49m\u001b[43m \u001b[49m\u001b[38;5;241;43m+\u001b[39;49m\u001b[43m \u001b[49m\u001b[43m(\u001b[49m\u001b[38;5;124;43m'\u001b[39;49m\u001b[38;5;124;43mselin\u001b[39;49m\u001b[38;5;124;43m'\u001b[39;49m\u001b[43m)\u001b[49m\n",
      "\u001b[0;31mTypeError\u001b[0m: can only concatenate tuple (not \"str\") to tuple"
     ]
    }
   ],
   "source": [
    "demet = demet + ('selin')"
   ]
  },
  {
   "cell_type": "markdown",
   "id": "0bbc1a9e-c7f7-475f-a64e-af45efa82b6e",
   "metadata": {},
   "source": [
    "Hatırlarsanız, tek öğeli bir demet tanımlayabilmek için parantez içindeki tek öğenin yanına bir virgül işareti yerleştirmemiz gerekiyordu. Aksi halde demet değil, karakter dizisi tanımlamış oluyorduk. Zaten bir Python programcısı olarak, demetler üzerinde çalışırken en sık yapacağınız hata da demet tanımlamaya çalışırken yanlışlıkla karakter dizisi tanımlamak olacaktır.\n",
    "\n",
    "Dediğimiz ve yukarıda da örneklerle gösterdiğimiz gibi, bir demeti yeni baştan tanımlayarak da o demet üzerinde değişiklik yapmış etkisi elde edebilirsiniz. Ancak elbette bir araya topladığınız veriler üzerinde sık sık değişiklikler yapacaksanız demetler yerine listeleri tercih etmelisiniz.\n",
    "\n"
   ]
  },
  {
   "cell_type": "markdown",
   "id": "c543ff46-cc63-41f2-b211-9a26ee01e510",
   "metadata": {},
   "source": [
    "+++++++++++++Demetlerin Kullanım Alanı\n",
    "\n",
    "\n",
    "Demetleri ilk öğrendiğinizde bu veri tipi size son derece gereksizmiş gibi gelebilir. Ama aslında oldukça yaygın kullanılan bir veri tipidir bu. Özellikle programların ayar (conf) dosyalarında bu veri tipi sıklıkla kullanılır. Örneğin Python tabanlı bir web çatısı (framework) olan Django’nun settings.py adlı ayar dosyasında pek çok değer bir demet olarak saklanır. Mesela bir Django projesinde web sayfalarının şablonlarını (template) hangi dizin altında saklayacağınızı belirlediğiniz ayar şöyle görünür:"
   ]
  },
  {
   "cell_type": "raw",
   "id": "eb5c9857-cfcb-459e-beda-4df1e89e962a",
   "metadata": {},
   "source": [
    "TEMPLATE_DIRS = ('/home/projects/djprojects/blog/templates',)"
   ]
  },
  {
   "cell_type": "markdown",
   "id": "4eec98fc-da28-4bf5-a3b5-9a9bcba9fc8d",
   "metadata": {},
   "source": [
    "Burada, şablon dosyalarının hangi dizinde yer alacağını bir demet içinde gösteriyoruz. Bu demet içine birden fazla dizin adı yazabilirdik. Ama biz bütün şablon dosyalarını tek bir dizin altında tutmayı tercih ettiğimiz için tek öğeli bir demet tanımlamışız. Bu arada, daha önce de söylediğimiz gibi, demetlerle ilgili en sık yapacağınız hata, tek öğeli demet tanımlamaya çalışırken aslında yanlışlıkla bir karakter dizisi tanımlamak olacaktır. Örneğin yukarıdaki TEMPLATE_DIRS değişkenini şöyle yazsaydık:\n",
    "\n"
   ]
  },
  {
   "cell_type": "raw",
   "id": "6d904239-73ca-4a4a-b629-c1948af3b9df",
   "metadata": {},
   "source": [
    "TEMPLATE_DIRS = ('/home/projects/djprojects/blog/templates')"
   ]
  },
  {
   "cell_type": "markdown",
   "id": "17461b46-b3c0-4237-9db4-8db4d9c4c4be",
   "metadata": {},
   "source": [
    "Aslında bir demet değil, alelade bir karakter dizisi tanımlamış olurduk…"
   ]
  },
  {
   "cell_type": "code",
   "execution_count": null,
   "id": "f44ab033-364b-4c7d-a63d-9da9f2f1b3e5",
   "metadata": {},
   "outputs": [],
   "source": []
  }
 ],
 "metadata": {
  "kernelspec": {
   "display_name": "Python 3 (ipykernel)",
   "language": "python",
   "name": "python3"
  },
  "language_info": {
   "codemirror_mode": {
    "name": "ipython",
    "version": 3
   },
   "file_extension": ".py",
   "mimetype": "text/x-python",
   "name": "python",
   "nbconvert_exporter": "python",
   "pygments_lexer": "ipython3",
   "version": "3.10.12"
  }
 },
 "nbformat": 4,
 "nbformat_minor": 5
}
