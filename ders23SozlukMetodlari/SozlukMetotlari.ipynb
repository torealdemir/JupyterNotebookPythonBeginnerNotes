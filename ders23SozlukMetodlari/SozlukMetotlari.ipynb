{
 "cells": [
  {
   "cell_type": "markdown",
   "id": "fe0f1e19-6e4e-4519-ab48-350eadda76b7",
   "metadata": {},
   "source": [
    "+++++++++++Sözlüklerin Metotları\n",
    "\n",
    "\n",
    "Tıpkı öteki veri tiplerinde olduğu gibi, sözlüklerin de birtakım metotları bulunur. Bu bölümde sözlüklerin şu metotlarını inceleyeceğiz:\n",
    "\n",
    "keys()\n",
    "\n",
    "values()\n",
    "\n",
    "items()\n",
    "\n",
    "get()\n",
    "\n",
    "clear()\n",
    "\n",
    "copy()\n",
    "\n",
    "fromkeys()\n",
    "\n",
    "pop()\n",
    "\n",
    "popitem()\n",
    "\n",
    "setdefault()\n",
    "\n",
    "update()\n",
    "\n",
    "İlk olarak keys() metoduyla başlayalım.\n",
    "\n",
    "++++++keys()\n",
    "\n",
    "\n",
    "Sözlükleri tarif ederken, sözlüklerin anahtar-değer çiftlerinden oluşan bir veri tipi olduğunu söylemiştik. Bir sözlüğü normal yollardan ekrana yazdırırsanız size hem anahtarları hem de bunlara karşılık gelen değerleri verecektir. Ama eğer bir sözlüğün sadece anahtarlarını almak isterseniz keys() metodundan yararlanabilirsiniz:"
   ]
  },
  {
   "cell_type": "code",
   "execution_count": 1,
   "id": "fe3c872e-440f-45dc-8c2c-5aa88699cdb5",
   "metadata": {},
   "outputs": [
    {
     "name": "stdout",
     "output_type": "stream",
     "text": [
      "dict_keys(['a', 'b', 'c', 'd'])\n"
     ]
    }
   ],
   "source": [
    "sözlük = {\"a\": 0,\n",
    "          \"b\": 1,\n",
    "          \"c\": 2,\n",
    "          \"d\": 3}\n",
    "print(sözlük.keys())"
   ]
  },
  {
   "cell_type": "markdown",
   "id": "18f9b5b5-711c-4f82-aef9-d00502b59606",
   "metadata": {},
   "source": [
    "Gördüğünüz gibi, sözlük.keys() komutu bize bir dict_keys nesnesi veriyor. Bu nesneyi programınızda kullanabilmek için isterseniz, bunu listeye, demete veya karakter dizisine dönüştürebilirsiniz:\n",
    "\n"
   ]
  },
  {
   "cell_type": "code",
   "execution_count": 2,
   "id": "6ccfd9fc-116b-4b95-8674-5082adb89a04",
   "metadata": {},
   "outputs": [
    {
     "data": {
      "text/plain": [
       "['a', 'b', 'c', 'd']"
      ]
     },
     "execution_count": 2,
     "metadata": {},
     "output_type": "execute_result"
    }
   ],
   "source": [
    "liste = list(sözlük.keys())\n",
    "liste"
   ]
  },
  {
   "cell_type": "code",
   "execution_count": 3,
   "id": "9d36340a-2595-4dce-a1a3-06cdfc889152",
   "metadata": {},
   "outputs": [
    {
     "data": {
      "text/plain": [
       "('a', 'b', 'c', 'd')"
      ]
     },
     "execution_count": 3,
     "metadata": {},
     "output_type": "execute_result"
    }
   ],
   "source": [
    "demet = tuple(sözlük.keys())\n",
    "demet"
   ]
  },
  {
   "cell_type": "code",
   "execution_count": 4,
   "id": "204776d4-6502-4d6e-b26f-6312f5bd0071",
   "metadata": {},
   "outputs": [
    {
     "data": {
      "text/plain": [
       "'abcd'"
      ]
     },
     "execution_count": 4,
     "metadata": {},
     "output_type": "execute_result"
    }
   ],
   "source": [
    "kardiz = \"\".join(sözlük.keys())\n",
    "kardiz\n"
   ]
  },
  {
   "cell_type": "markdown",
   "id": "1c2b9404-3fa9-46cd-9a9e-52399dcb46de",
   "metadata": {},
   "source": [
    "Son örnekte sözlük anahtarlarını karakter dizisine dönüştürmek için str() fonksiyonunu değil, karakter dizilerinin join() adlı metodunu kullandığımıza dikkat edin. Çünkü tuple() ve list() fonksiyonlarının aksine str() fonksiyonu, sözlükteki anahtarların nasıl bir ölçüte göre karakter dizisine çevrileceğine dair bir kural içermez. Zira siz bu sözlük anahtarlarını pek çok farklı şekilde karakter dizisine çevirebilirsiniz. Örneğin öğeleri karakter dizisi içine yerleştirirken öğelerin arasına virgül koymak isteyebilirsiniz:"
   ]
  },
  {
   "cell_type": "code",
   "execution_count": 5,
   "id": "8f4395cd-aa3a-456d-a9a7-22059151b551",
   "metadata": {},
   "outputs": [
    {
     "data": {
      "text/plain": [
       "'a, b, c, d'"
      ]
     },
     "execution_count": 5,
     "metadata": {},
     "output_type": "execute_result"
    }
   ],
   "source": [
    "kardiz = ', '.join(sözlük.keys())\n",
    "kardiz"
   ]
  },
  {
   "cell_type": "markdown",
   "id": "f9c635c0-b203-4160-bddd-c538eb865b6b",
   "metadata": {},
   "source": [
    "Eğer sözlük anahtarlarını str() fonksiyonu yardımıyla karakter dizisine dönüştürmeye kalkışırsanız beklemediğiniz bir çıktı alırsınız."
   ]
  },
  {
   "cell_type": "markdown",
   "id": "6f39094c-fb66-4788-9cd7-6a8cfb8d7037",
   "metadata": {},
   "source": [
    "++++++++values()\n",
    "\n",
    "\n",
    "keys() metodu bir sözlüğün anahtarlarını veriyor. Bir sözlüğün değerlerini ise values() metodu verir:"
   ]
  },
  {
   "cell_type": "code",
   "execution_count": 6,
   "id": "c0049faa-edfd-4bba-a549-c21995d18ce2",
   "metadata": {},
   "outputs": [
    {
     "data": {
      "text/plain": [
       "{'a': 0, 'b': 1, 'c': 2, 'd': 3}"
      ]
     },
     "execution_count": 6,
     "metadata": {},
     "output_type": "execute_result"
    }
   ],
   "source": [
    "sözlük"
   ]
  },
  {
   "cell_type": "code",
   "execution_count": 7,
   "id": "0737d222-9585-4d3f-b1a8-d63c1a428166",
   "metadata": {},
   "outputs": [
    {
     "name": "stdout",
     "output_type": "stream",
     "text": [
      "dict_values([0, 1, 2, 3])\n"
     ]
    }
   ],
   "source": [
    "print(sözlük.values())"
   ]
  },
  {
   "cell_type": "markdown",
   "id": "60302faf-2153-49d7-9136-06c0afd1fcf5",
   "metadata": {},
   "source": [
    "Gördüğünüz gibi, bu metottan bir dict_values nesnesi alıyoruz. Tıpkı keys() metodunda olduğu gibi, values() metodunda da bu çıktıyı başka veri tiplerine dönüştürme imkanına sahibiz:\n",
    "\n"
   ]
  },
  {
   "cell_type": "code",
   "execution_count": 8,
   "id": "99a623a6-bfa7-4047-930a-8000aa9086ec",
   "metadata": {},
   "outputs": [
    {
     "data": {
      "text/plain": [
       "[0, 1, 2, 3]"
      ]
     },
     "execution_count": 8,
     "metadata": {},
     "output_type": "execute_result"
    }
   ],
   "source": [
    "liste = list(sözlük.values())\n",
    "liste"
   ]
  },
  {
   "cell_type": "code",
   "execution_count": 9,
   "id": "cc913222-362d-4433-8727-ad788a4de95b",
   "metadata": {},
   "outputs": [
    {
     "data": {
      "text/plain": [
       "(0, 1, 2, 3)"
      ]
     },
     "execution_count": 9,
     "metadata": {},
     "output_type": "execute_result"
    }
   ],
   "source": [
    "demet = tuple(sözlük.values())\n",
    "demet"
   ]
  },
  {
   "cell_type": "markdown",
   "id": "a1ffd57a-09d0-4588-9382-1da4ad27fa12",
   "metadata": {},
   "source": [
    "Yalnız bu verileri karakter dizisine dönüştürmeye çalıştığınızda ufak bir problemle karşılaşacaksınız:\n",
    "\n"
   ]
  },
  {
   "cell_type": "code",
   "execution_count": 10,
   "id": "068f3709-39cc-4c48-9f06-2ce5013db414",
   "metadata": {},
   "outputs": [
    {
     "ename": "TypeError",
     "evalue": "sequence item 0: expected str instance, int found",
     "output_type": "error",
     "traceback": [
      "\u001b[0;31m---------------------------------------------------------------------------\u001b[0m",
      "\u001b[0;31mTypeError\u001b[0m                                 Traceback (most recent call last)",
      "Cell \u001b[0;32mIn[10], line 1\u001b[0m\n\u001b[0;32m----> 1\u001b[0m kardiz \u001b[38;5;241m=\u001b[39m \u001b[38;5;124;43m\"\u001b[39;49m\u001b[38;5;124;43m\"\u001b[39;49m\u001b[38;5;241;43m.\u001b[39;49m\u001b[43mjoin\u001b[49m\u001b[43m(\u001b[49m\u001b[43msözlük\u001b[49m\u001b[38;5;241;43m.\u001b[39;49m\u001b[43mvalues\u001b[49m\u001b[43m(\u001b[49m\u001b[43m)\u001b[49m\u001b[43m)\u001b[49m\n",
      "\u001b[0;31mTypeError\u001b[0m: sequence item 0: expected str instance, int found"
     ]
    }
   ],
   "source": [
    "kardiz = \"\".join(sözlük.values())"
   ]
  },
  {
   "cell_type": "markdown",
   "id": "29e4379e-7269-4657-bad8-0a2621c7566d",
   "metadata": {},
   "source": [
    "Bunun sebebi, sözlükteki değerlerin int tipinde olmasıdır. Bildiğiniz gibi, sadece aynı tip verileri birbiriyle birleştirebiliriz. Eğer birleştirmek istediğimiz veriler birbirinden farklı tipte ise, bunları birleştirmeden önce bir dönüştürme işlemi yapmamız gerekir:\n",
    "\n"
   ]
  },
  {
   "cell_type": "code",
   "execution_count": 11,
   "id": "beadd278-1c86-4748-8ee0-34039c9198e4",
   "metadata": {},
   "outputs": [
    {
     "data": {
      "text/plain": [
       "'0123'"
      ]
     },
     "execution_count": 11,
     "metadata": {},
     "output_type": "execute_result"
    }
   ],
   "source": [
    "kardiz = \"\".join([str(i) for i in sözlük.values()])\n",
    "kardiz"
   ]
  },
  {
   "cell_type": "markdown",
   "id": "30285169-e852-4f3d-b2e4-eaf9b3a6be42",
   "metadata": {},
   "source": [
    "Gördüğünüz gibi, sözlükteki değerlerin her birini, tek bir liste üreteci içinde karakter dizisine dönüştürdük ve ortaya çıkan listeyi karakter dizilerinin join() metodu yardımıyla, öğelerin arasında hiçbir boşluk bırakmadan kardiz adlı bir karakter dizisi içine yerleştirdik. Elbette eğer isteseydik bu öğelerin her birinin arasına bir virgül de koyabilirdik:"
   ]
  },
  {
   "cell_type": "code",
   "execution_count": 12,
   "id": "ca31b97f-90b6-4044-a819-e5d570c03c20",
   "metadata": {},
   "outputs": [
    {
     "data": {
      "text/plain": [
       "'0, 1, 2, 3'"
      ]
     },
     "execution_count": 12,
     "metadata": {},
     "output_type": "execute_result"
    }
   ],
   "source": [
    "kardiz = \", \".join([str(i) for i in sözlük.values()])\n",
    "kardiz"
   ]
  },
  {
   "cell_type": "markdown",
   "id": "633e7e15-af1c-4f69-ad78-1efea3cd095e",
   "metadata": {},
   "source": [
    "++++++++++items()\n",
    "\n",
    "\n",
    "Bu metot, bir sözlüğün hem anahtarlarını hem de değerlerini aynı anda almamızı sağlar:\n",
    "\n"
   ]
  },
  {
   "cell_type": "code",
   "execution_count": 13,
   "id": "55b69745-dc6e-43c7-a89c-211d3d6b83b4",
   "metadata": {},
   "outputs": [
    {
     "data": {
      "text/plain": [
       "dict_items([('a', 0), ('b', 1), ('c', 2), ('d', 3)])"
      ]
     },
     "execution_count": 13,
     "metadata": {},
     "output_type": "execute_result"
    }
   ],
   "source": [
    "sözlük.items()"
   ]
  },
  {
   "cell_type": "markdown",
   "id": "b364e03a-bd10-4e39-b30f-eecd4406472b",
   "metadata": {},
   "source": [
    "Gördüğünüz gibi, tek bir liste içinde iki öğeli demetler halinde hem anahtarları hem de değerleri görebiliyoruz. Bu metot sıklıkla for döngüleri ile birlikte kullanılarak bir sözlüğün anahtar ve değerlerinin manipüle edilebilmesini sağlar:"
   ]
  },
  {
   "cell_type": "code",
   "execution_count": 14,
   "id": "fbe35692-0774-4e84-a298-85072c7c6b9a",
   "metadata": {},
   "outputs": [
    {
     "name": "stdout",
     "output_type": "stream",
     "text": [
      "a = 0\n",
      "b = 1\n",
      "c = 2\n",
      "d = 3\n"
     ]
    }
   ],
   "source": [
    "for anahtar, değer in sözlük.items():\n",
    "    print(\"{} = {}\".format(anahtar, değer))"
   ]
  },
  {
   "cell_type": "markdown",
   "id": "ca1b48cf-b316-4a10-9e4e-819642f355b0",
   "metadata": {},
   "source": [
    "+++++++++++++get()\n",
    "\n",
    "\n",
    "Bu metot sözlüklerin en kullanışlı metotlarından biridir. Bu metot pek çok durumda işinizi bir hayli kolaylaştırır.\n",
    "\n",
    "Diyelim ki şöyle bir program yazdık:"
   ]
  },
  {
   "cell_type": "code",
   "execution_count": 15,
   "id": "91615350-cdee-42b6-9408-2f86ee7c5b20",
   "metadata": {},
   "outputs": [
    {
     "name": "stdin",
     "output_type": "stream",
     "text": [
      "Lütfen anlamını öğrenmek istediğiniz kelimeyi yazınız: sad\n"
     ]
    },
    {
     "ename": "KeyError",
     "evalue": "'sad'",
     "output_type": "error",
     "traceback": [
      "\u001b[0;31m---------------------------------------------------------------------------\u001b[0m",
      "\u001b[0;31mKeyError\u001b[0m                                  Traceback (most recent call last)",
      "Cell \u001b[0;32mIn[15], line 7\u001b[0m\n\u001b[1;32m      3\u001b[0m ing_sözlük \u001b[38;5;241m=\u001b[39m {\u001b[38;5;124m\"\u001b[39m\u001b[38;5;124mdil\u001b[39m\u001b[38;5;124m\"\u001b[39m: \u001b[38;5;124m\"\u001b[39m\u001b[38;5;124mlanguage\u001b[39m\u001b[38;5;124m\"\u001b[39m, \u001b[38;5;124m\"\u001b[39m\u001b[38;5;124mbilgisayar\u001b[39m\u001b[38;5;124m\"\u001b[39m: \u001b[38;5;124m\"\u001b[39m\u001b[38;5;124mcomputer\u001b[39m\u001b[38;5;124m\"\u001b[39m, \u001b[38;5;124m\"\u001b[39m\u001b[38;5;124mmasa\u001b[39m\u001b[38;5;124m\"\u001b[39m: \u001b[38;5;124m\"\u001b[39m\u001b[38;5;124mtable\u001b[39m\u001b[38;5;124m\"\u001b[39m}\n\u001b[1;32m      5\u001b[0m sorgu \u001b[38;5;241m=\u001b[39m \u001b[38;5;28minput\u001b[39m(\u001b[38;5;124m\"\u001b[39m\u001b[38;5;124mLütfen anlamını öğrenmek istediğiniz kelimeyi yazınız:\u001b[39m\u001b[38;5;124m\"\u001b[39m)\n\u001b[0;32m----> 7\u001b[0m \u001b[38;5;28mprint\u001b[39m(\u001b[43ming_sözlük\u001b[49m\u001b[43m[\u001b[49m\u001b[43msorgu\u001b[49m\u001b[43m]\u001b[49m)\n",
      "\u001b[0;31mKeyError\u001b[0m: 'sad'"
     ]
    }
   ],
   "source": [
    "#!/usr/bin/env python3.0\n",
    "\n",
    "ing_sözlük = {\"dil\": \"language\", \"bilgisayar\": \"computer\", \"masa\": \"table\"}\n",
    "\n",
    "sorgu = input(\"Lütfen anlamını öğrenmek istediğiniz kelimeyi yazınız:\")\n",
    "\n",
    "print(ing_sözlük[sorgu])"
   ]
  },
  {
   "cell_type": "markdown",
   "id": "effd61b5-89ed-4816-986b-7f31ac5d2bda",
   "metadata": {},
   "source": [
    "Bu programı çalıştırdığımızda eğer kullanıcı “ing_sözlük” adıyla belirttiğimiz sözlük içinde bulunan kelimelerden birini yazarsa, o kelimenin karşılığını alacaktır. Diyelim ki kullanıcımız soruya “dil” diye cevap verdi. Bu durumda ekrana “dil” kelimesinin sözlükteki karşılığı olan “language” yazdırılacaktır. Peki ya kullanıcı sözlükte tanımlı olmayan bir kelime yazarsa ne olacak? Öyle bir durumda programımız hata verecektir. Programımız için doğru yol, hata vermektense, kullanıcıyı kelimenin sözlükte olmadığı konusunda bilgilendirmektir. Bunu klasik bir yaklaşımla şu şekilde yapabiliriz:"
   ]
  },
  {
   "cell_type": "code",
   "execution_count": 16,
   "id": "775aa98b-da97-427f-a355-f2c791b64318",
   "metadata": {},
   "outputs": [
    {
     "name": "stdin",
     "output_type": "stream",
     "text": [
      "Lütfen anlamını öğrenmek istediğiniz kelimeyi yazınız: da\n"
     ]
    },
    {
     "name": "stdout",
     "output_type": "stream",
     "text": [
      "Bu kelime veritabanımızda yoktur!\n"
     ]
    }
   ],
   "source": [
    "ing_sözlük = {\"dil\": \"language\", \"bilgisayar\": \"computer\", \"masa\": \"table\"}\n",
    "\n",
    "sorgu = input(\"Lütfen anlamını öğrenmek istediğiniz kelimeyi yazınız:\")\n",
    "\n",
    "if sorgu not in ing_sözlük:\n",
    "    print(\"Bu kelime veritabanımızda yoktur!\")\n",
    "\n",
    "else:\n",
    "    print(ing_sözlük[sorgu])"
   ]
  },
  {
   "cell_type": "markdown",
   "id": "7a51c602-fc34-40f7-bdf1-b5f6dd1e6b58",
   "metadata": {},
   "source": [
    "Ama açıkçası bu pek verimli bir yaklaşım sayılmaz. Yukarıdaki yöntem yerine sözlüklerin get() metodundan faydalanabiliriz. Bakalım bunu nasıl yapıyoruz:\n",
    "\n"
   ]
  },
  {
   "cell_type": "code",
   "execution_count": null,
   "id": "06bca194-903e-4480-b216-0eb79bbadf47",
   "metadata": {},
   "outputs": [],
   "source": [
    "ing_sözlük = {\"dil\": \"language\", \"bilgisayar\": \"computer\", \"masa\": \"table\"}\n",
    "\n",
    "sorgu = input(\"Lütfen anlamını öğrenmek istediğiniz kelimeyi yazınız:\")\n",
    "\n",
    "print(ing_sözlük.get(sorgu, \"Bu kelime veritabanımızda yoktur!\"))"
   ]
  },
  {
   "cell_type": "markdown",
   "id": "8aaffd48-621e-4df9-82ea-f73600a42913",
   "metadata": {},
   "source": [
    "Gördüğünüz gibi, burada çok basit bir metot yardımıyla bütün dertlerimizi hallettik. Sözlüklerin get() adlı metodu, parantez içinde iki adet argüman alır. Birinci argüman sorgulamak istediğimiz sözlük öğesidir. İkinci argüman ise bu öğenin sözlükte bulunmadığı durumda kullanıcıya hangi mesajın gösterileceğini belirtir. Buna göre, yukarıda yaptığımız şey, önce “sorgu” değişkenini sözlükte aramak, eğer bu öğe sözlükte bulunamıyorsa da kullanıcıya, “Bu kelime veritabanımızda yoktur!” cümlesini göstermekten ibarettir…\n",
    "\n",
    "Gelin isterseniz bununla ilgili bir örnek daha yapalım.\n",
    "\n",
    "Diyelim ki bir havadurumu programı yazmak istiyoruz. Bu programda kullanıcı bir şehir adı girecek. Program da girilen şehre ait havadurumu bilgilerini ekrana yazdıracak. Bu programı klasik yöntemle şu şekilde yazabiliriz:\n",
    "\n"
   ]
  },
  {
   "cell_type": "code",
   "execution_count": null,
   "id": "099d33c4-f9ad-4255-81c1-df42c486d1b7",
   "metadata": {},
   "outputs": [],
   "source": [
    "#!/usr/bin/env python3\n",
    "\n",
    "soru = input(\"Şehrinizin adını tamamı küçük harf olacak şekilde yazın:\")\n",
    "\n",
    "if soru == \"istanbul\":\n",
    "    print(\"gök gürültülü ve sağanak yağışlı\")\n",
    "\n",
    "elif soru == \"ankara\":\n",
    "    print(\"açık ve güneşli\")\n",
    "\n",
    "elif soru == \"izmir\":\n",
    "    print(\"bulutlu\")\n",
    "\n",
    "else:\n",
    "    print(\"Bu şehre ilişkin havadurumu bilgisi bulunmamaktadır.\")\n"
   ]
  },
  {
   "cell_type": "markdown",
   "id": "734a3b5a-4d99-40b3-94ff-2f0d98ed3a73",
   "metadata": {},
   "source": [
    "Yukarıdaki, gayet geçerli bir yöntemdir. Ama biz istersek bu kodları “get” metodu yardımıyla çok daha verimli ve sade bir hale getirebiliriz:\n",
    "\n"
   ]
  },
  {
   "cell_type": "code",
   "execution_count": null,
   "id": "03fade47-f75c-42fe-b766-aa4f5bd2c90d",
   "metadata": {},
   "outputs": [],
   "source": [
    "#!/usr/bin/env python3\n",
    "\n",
    "soru = input(\"Şehrinizin adını tamamı küçük harf olacak şekilde yazın:\")\n",
    "\n",
    "cevap = {\"istanbul\": \"gök gürültülü ve sağanak yağışlı\",\n",
    "         \"ankara\": \"açık ve güneşli\", \"izmir\": \"bulutlu\"}\n",
    "\n",
    "print(cevap.get(soru, \"Bu şehre ilişkin havadurumu bilgisi bulunmamaktadır.\"))"
   ]
  },
  {
   "cell_type": "markdown",
   "id": "e55b5fcb-c642-4bf7-8339-cac6ff68553c",
   "metadata": {},
   "source": [
    "++++++++++++clear()\n",
    "\n",
    "\n",
    "Bu kelime İngilizce’de “temizlemek” anlamına gelir. Görevi sözlükteki öğeleri temizlemektir. Yani içi dolu bir sözlüğü bu metot yardımıyla tamamen boşaltabiliriz:"
   ]
  },
  {
   "cell_type": "code",
   "execution_count": 17,
   "id": "fa322fdf-6c30-4d31-9817-8393230e498b",
   "metadata": {},
   "outputs": [],
   "source": [
    "lig = {\"şampiyon\": \"Adana Demirspor\", \"ikinci\": \"Mersin İdman Yurdu\",\n",
    "... \"üçüncü\": \"Adana Gençlerbirliği\"}"
   ]
  },
  {
   "cell_type": "markdown",
   "id": "b44d6229-0d2a-4dff-b616-5b35227ee417",
   "metadata": {},
   "source": [
    "İsterseniz sözlüğümüzü boşaltmadan önce bu sözlükle biraz çalışalım:\n",
    "\n",
    "Sözlüğümüzün öğelerine şöyle ulaşıyoruz:\n",
    "\n"
   ]
  },
  {
   "cell_type": "code",
   "execution_count": 18,
   "id": "6bac10ed-1475-491e-bcdd-626a865a6828",
   "metadata": {},
   "outputs": [
    {
     "data": {
      "text/plain": [
       "{'şampiyon': 'Adana Demirspor',\n",
       " 'ikinci': 'Mersin İdman Yurdu',\n",
       " 'üçüncü': 'Adana Gençlerbirliği'}"
      ]
     },
     "execution_count": 18,
     "metadata": {},
     "output_type": "execute_result"
    }
   ],
   "source": [
    "lig"
   ]
  },
  {
   "cell_type": "markdown",
   "id": "125fa8fa-601e-45c1-a957-3e1eb46043d1",
   "metadata": {},
   "source": [
    "Eğer bu sözlüğün öğelerine tek tek erişmek istersek şöyle yapıyoruz:"
   ]
  },
  {
   "cell_type": "code",
   "execution_count": 19,
   "id": "4564a521-f96f-4f66-866b-2cfe05508130",
   "metadata": {},
   "outputs": [
    {
     "data": {
      "text/plain": [
       "'Adana Demirspor'"
      ]
     },
     "execution_count": 19,
     "metadata": {},
     "output_type": "execute_result"
    }
   ],
   "source": [
    "lig[\"şampiyon\"]\n"
   ]
  },
  {
   "cell_type": "code",
   "execution_count": 20,
   "id": "7b3327cc-b943-4905-b5a0-91ed7a492fb4",
   "metadata": {},
   "outputs": [
    {
     "data": {
      "text/plain": [
       "'Adana Gençlerbirliği'"
      ]
     },
     "execution_count": 20,
     "metadata": {},
     "output_type": "execute_result"
    }
   ],
   "source": [
    "lig[\"üçüncü\"]"
   ]
  },
  {
   "cell_type": "markdown",
   "id": "97b7fdac-b7f7-42db-b7fe-00df41ad2bf8",
   "metadata": {},
   "source": [
    "Şimdi geldi bu sözlüğün bütün öğelerini silmeye:\n",
    "\n"
   ]
  },
  {
   "cell_type": "code",
   "execution_count": 21,
   "id": "ae0c847a-a998-4b21-891e-00ef854c7245",
   "metadata": {},
   "outputs": [],
   "source": [
    "lig.clear()"
   ]
  },
  {
   "cell_type": "code",
   "execution_count": 22,
   "id": "971d5f62-c947-48ee-8099-a3fecadb906e",
   "metadata": {},
   "outputs": [
    {
     "data": {
      "text/plain": [
       "{}"
      ]
     },
     "execution_count": 22,
     "metadata": {},
     "output_type": "execute_result"
    }
   ],
   "source": [
    "lig"
   ]
  },
  {
   "cell_type": "markdown",
   "id": "fa61000f-aeaa-4061-860d-484ccdf416b8",
   "metadata": {},
   "source": [
    "Gördüğünüz gibi artık “lig” adlı sözlüğümüz bomboş. clear() metodunu kullanarak bu sözlüğün bütün öğelerini sildik. Ama tabii ki bu şekilde sözlüğü silmiş olmadık. Boş da olsa bellekte hâlâ “lig” adlı bir sözlük duruyor. Eğer siz “lig”i ortadan kaldırmak isterseniz “del” adlı bir parçacıktan yararlanmanız gerekir:\n",
    "\n"
   ]
  },
  {
   "cell_type": "code",
   "execution_count": 23,
   "id": "348e5083-d81b-4334-9737-f3a6d868644e",
   "metadata": {},
   "outputs": [],
   "source": [
    "del lig"
   ]
  },
  {
   "cell_type": "code",
   "execution_count": 24,
   "id": "732ad61f-2049-493d-a14e-df072dc44452",
   "metadata": {},
   "outputs": [
    {
     "ename": "NameError",
     "evalue": "name 'lig' is not defined",
     "output_type": "error",
     "traceback": [
      "\u001b[0;31m---------------------------------------------------------------------------\u001b[0m",
      "\u001b[0;31mNameError\u001b[0m                                 Traceback (most recent call last)",
      "Cell \u001b[0;32mIn[24], line 1\u001b[0m\n\u001b[0;32m----> 1\u001b[0m \u001b[43mlig\u001b[49m\n",
      "\u001b[0;31mNameError\u001b[0m: name 'lig' is not defined"
     ]
    }
   ],
   "source": [
    "lig"
   ]
  },
  {
   "cell_type": "markdown",
   "id": "63dc14d7-e9b9-47e8-91c6-20eedb2e1c4f",
   "metadata": {},
   "source": [
    "Gördüğünüz gibi artık “lig” diye bir şey yok… Bu sözlüğü bellekten tamamen kaldırdık.\n",
    "\n",
    "clear() adlı metodun ne olduğunu ve ne işe yaradığını gördüğümüze göre başka bir metoda geçebiliriz."
   ]
  },
  {
   "cell_type": "markdown",
   "id": "19cd4a2c-6551-4d32-a21f-9fcc7acaf972",
   "metadata": {},
   "source": [
    "++++++++++copy()\n",
    "\n",
    "\n",
    "Diyelim ki elimizde şöyle bir sözlük var:"
   ]
  },
  {
   "cell_type": "code",
   "execution_count": 26,
   "id": "f0a74de6-9fce-410c-bb04-9f6bfbbcff2e",
   "metadata": {},
   "outputs": [],
   "source": [
    "hava_durumu = {\"İstanbul\": \"yağmurlu\", \"Adana\": \"güneşli\", \"İzmir\": \"bulutlu\"}"
   ]
  },
  {
   "cell_type": "markdown",
   "id": "fd24a43e-25a1-4ed4-8121-2661aecf018b",
   "metadata": {},
   "source": [
    "Biz bu sözlüğü kopyalamak istiyoruz. Hemen şöyle bir şey deneyelim:"
   ]
  },
  {
   "cell_type": "code",
   "execution_count": 27,
   "id": "87aabab0-1d88-4cc9-bdae-8a774af92644",
   "metadata": {},
   "outputs": [],
   "source": [
    "yedek_hava_durumu = hava_durumu"
   ]
  },
  {
   "cell_type": "markdown",
   "id": "25d00614-9891-4629-93c4-e26d1dce2e55",
   "metadata": {},
   "source": [
    "Artık elimizde aynı sözlükten iki tane var:"
   ]
  },
  {
   "cell_type": "code",
   "execution_count": 28,
   "id": "ffd694f5-5bfe-4f29-a904-c91cdcd4d0c3",
   "metadata": {},
   "outputs": [
    {
     "data": {
      "text/plain": [
       "{'İstanbul': 'yağmurlu', 'Adana': 'güneşli', 'İzmir': 'bulutlu'}"
      ]
     },
     "execution_count": 28,
     "metadata": {},
     "output_type": "execute_result"
    }
   ],
   "source": [
    "hava_durumu"
   ]
  },
  {
   "cell_type": "code",
   "execution_count": 29,
   "id": "24754202-cb40-49fa-826f-7792821de034",
   "metadata": {},
   "outputs": [
    {
     "data": {
      "text/plain": [
       "{'İstanbul': 'yağmurlu', 'Adana': 'güneşli', 'İzmir': 'bulutlu'}"
      ]
     },
     "execution_count": 29,
     "metadata": {},
     "output_type": "execute_result"
    }
   ],
   "source": [
    "yedek_hava_durumu"
   ]
  },
  {
   "cell_type": "markdown",
   "id": "3c3a15e4-0861-426f-a3aa-8fcf45d3cfbc",
   "metadata": {},
   "source": [
    "Şimdi hava_durumu adlı sözlüğe bir öğe ekleyelim:"
   ]
  },
  {
   "cell_type": "code",
   "execution_count": 30,
   "id": "f76e62ab-c989-4d00-be71-f0d7a79a5d91",
   "metadata": {},
   "outputs": [],
   "source": [
    "hava_durumu[\"Mersin\"] = \"sisli\""
   ]
  },
  {
   "cell_type": "code",
   "execution_count": 31,
   "id": "1e924629-1232-4a07-bcbe-c69d903eb0bb",
   "metadata": {},
   "outputs": [
    {
     "data": {
      "text/plain": [
       "{'İstanbul': 'yağmurlu',\n",
       " 'Adana': 'güneşli',\n",
       " 'İzmir': 'bulutlu',\n",
       " 'Mersin': 'sisli'}"
      ]
     },
     "execution_count": 31,
     "metadata": {},
     "output_type": "execute_result"
    }
   ],
   "source": [
    "hava_durumu"
   ]
  },
  {
   "cell_type": "markdown",
   "id": "95d5837d-00ee-4a4e-be7d-7197f05e6d1d",
   "metadata": {},
   "source": [
    "Şimdi bir de yedek_hava_durumu adlı sözlüğün durumuna bakalım:"
   ]
  },
  {
   "cell_type": "code",
   "execution_count": 32,
   "id": "8064b4b4-8916-498b-87df-e5ee5377a4ce",
   "metadata": {},
   "outputs": [
    {
     "data": {
      "text/plain": [
       "{'İstanbul': 'yağmurlu',\n",
       " 'Adana': 'güneşli',\n",
       " 'İzmir': 'bulutlu',\n",
       " 'Mersin': 'sisli'}"
      ]
     },
     "execution_count": 32,
     "metadata": {},
     "output_type": "execute_result"
    }
   ],
   "source": [
    "yedek_hava_durumu"
   ]
  },
  {
   "cell_type": "markdown",
   "id": "1721065b-455d-476a-9b8b-65b5c14577da",
   "metadata": {},
   "source": [
    "Gördüğünüz gibi, hava_durumu adlı sözlüğe yaptığımız ekleme yedek_hava_durumu adlı sözlüğü de etkiledi. Hatırlarsanız buna benzer bir durumla daha önce listeleri anlatırken de karşılaşmıştık. Çünkü varolan bir sözlüğü veya listeyi başka bir değişkene atadığımızda aslında yaptığımız şey bir kopyalama işleminden ziyade bellekteki aynı nesneye gönderme yapan iki farklı isim belirlemekten ibaret. Yani sözlüğümüzü bellekteki bir nesne olarak düşünürsek, bu nesneye atıfta bulunan, “hava_durumu” ve “yedek_hava_durumu” adlı iki farklı isim belirlemiş oluyoruz. Eğer istediğimiz şey bellekteki nesneden iki adet oluşturmak ve bu iki farklı nesneyi iki farklı isimle adlandırmak ise yukarıdaki yöntemi kullanmak istemediğiniz sonuçlar doğurabilir. Yani amacınız bir sözlüğü yedekleyip orijinal sözlüğü korumaksa ve yukarıdaki yöntemi kullandıysanız, hiç farkında olmadan orijinal sözlüğü de değiştirebilirsiniz. İşte böyle durumlarda imdadımıza sözlüklerin “copy” metodu yetişecek. Bu metodu kullanarak varolan bir sözlüğü gerçek anlamda kopyalayabilir, yani yedekleyebiliriz…"
   ]
  },
  {
   "cell_type": "code",
   "execution_count": 33,
   "id": "7887d5d7-6138-45aa-942e-528ab67f6609",
   "metadata": {},
   "outputs": [],
   "source": [
    "hava_durumu = {\"İstanbul\": \"yağmurlu\", \"Adana\": \"güneşli\", \"İzmir\": \"bulutlu\"}"
   ]
  },
  {
   "cell_type": "markdown",
   "id": "cb393078-0b70-4aa6-804e-6dc79628f5c6",
   "metadata": {},
   "source": [
    "Şimdi bu sözlüğü yedekliyoruz. Yani kopyalıyoruz:"
   ]
  },
  {
   "cell_type": "code",
   "execution_count": 34,
   "id": "fa77d606-6e8b-4983-914c-eb707ff9710d",
   "metadata": {},
   "outputs": [],
   "source": [
    "yedek_hava_durumu = hava_durumu.copy()"
   ]
  },
  {
   "cell_type": "markdown",
   "id": "aec15ce1-faa6-4cad-952e-aea4c3c2c11c",
   "metadata": {},
   "source": [
    "Bakalım hava_durumu adlı sözlüğe ekleme yapınca yedek_hava_durumu adlı sözlüğün durumu ne oluyor?\n",
    "\n"
   ]
  },
  {
   "cell_type": "code",
   "execution_count": 35,
   "id": "8784a375-5266-4d7b-9cf6-d972ccf2ec4c",
   "metadata": {},
   "outputs": [],
   "source": [
    "hava_durumu[\"Mersin\"] = \"sisli\""
   ]
  },
  {
   "cell_type": "code",
   "execution_count": 36,
   "id": "852f8e1a-de59-4472-9af6-36e682a9426c",
   "metadata": {},
   "outputs": [
    {
     "data": {
      "text/plain": [
       "{'İstanbul': 'yağmurlu',\n",
       " 'Adana': 'güneşli',\n",
       " 'İzmir': 'bulutlu',\n",
       " 'Mersin': 'sisli'}"
      ]
     },
     "execution_count": 36,
     "metadata": {},
     "output_type": "execute_result"
    }
   ],
   "source": [
    "hava_durumu"
   ]
  },
  {
   "cell_type": "markdown",
   "id": "b806c655-92f2-4c16-8db0-d53888fb88cf",
   "metadata": {},
   "source": [
    "yedek_hava_durumu adlı sözlüğe bakalım:\n",
    "\n"
   ]
  },
  {
   "cell_type": "code",
   "execution_count": 37,
   "id": "b30340fb-ed7c-4256-9bd7-634233e73165",
   "metadata": {},
   "outputs": [
    {
     "data": {
      "text/plain": [
       "{'İstanbul': 'yağmurlu', 'Adana': 'güneşli', 'İzmir': 'bulutlu'}"
      ]
     },
     "execution_count": 37,
     "metadata": {},
     "output_type": "execute_result"
    }
   ],
   "source": [
    "yedek_hava_durumu\n"
   ]
  },
  {
   "cell_type": "markdown",
   "id": "fbbef6a7-59f7-40fc-b68d-043cfc834860",
   "metadata": {},
   "source": [
    "Gördüğünüz gibi bu defa sözlüklerin birinde yapılan değişiklik öbürünü etkilemedi… copy metodu sağolsun!…\n",
    "\n"
   ]
  },
  {
   "cell_type": "markdown",
   "id": "78e7361c-5eb9-410b-91f6-013db91c6a07",
   "metadata": {},
   "source": [
    "+++++++++++++++++fromkeys()\n",
    "\n",
    "\n",
    "fromkeys() metodu öteki metotlardan biraz farklıdır. Bu metot mevcut sözlük üzerinde işlem yapmaz. fromkeys()’in görevi yeni bir sözlük oluşturmaktır. Bu metot yeni bir sözlük oluştururken listeler veya demetlerden yararlanır. Şöyle ki:"
   ]
  },
  {
   "cell_type": "code",
   "execution_count": 38,
   "id": "6b0952af-93e8-4323-9b7a-097eccceded3",
   "metadata": {},
   "outputs": [
    {
     "data": {
      "text/plain": [
       "{'Ahmet': 'Kadıköy', 'Mehmet': 'Kadıköy', 'Can': 'Kadıköy'}"
      ]
     },
     "execution_count": 38,
     "metadata": {},
     "output_type": "execute_result"
    }
   ],
   "source": [
    "elemanlar = \"Ahmet\", \"Mehmet\", \"Can\"\n",
    "\n",
    "adresler = dict.fromkeys(elemanlar, \"Kadıköy\")\n",
    "\n",
    "adresler"
   ]
  },
  {
   "cell_type": "markdown",
   "id": "fa56fdd5-7e1c-400a-afb1-d3bc87fe8dc5",
   "metadata": {},
   "source": [
    "Gördüğünüz gibi öncelikle “elemanlar” adlı bir demet tanımladık. Daha sonra da “adresler” adlı bir sözlük tanımlayarak, fromkeys() metodu yardımıyla anahtar olarak “elemanlar” demetindeki öğelerden oluşan, değer olarak ise “Kadıköy”ü içeren bir sözlük meydana getirdik.\n",
    "\n",
    "En başta tanımladığımız “elemanlar” demeti liste de olabilirdi. Hatta tek başına bir karakter dizisi dahi yazabilirdik oraya…\n",
    "\n"
   ]
  },
  {
   "cell_type": "markdown",
   "id": "48c5f6b8-d41e-4f36-a029-9d57f9697f34",
   "metadata": {},
   "source": [
    "+++++++++pop()\n",
    "\n",
    "\n",
    "Bu metodu listelerden hatırlıyoruz. Bu metot listelerle birlikte kullanıldığında, listenin en son öğesini silip, silinen öğeyi de ekrana basıyordu. Eğer bu metodu bir sıra numarası ile birlikte kullanırsak, listede o sıra numarasına karşılık gelen öğe siliniyor ve silinen bu öğe ekrana basılıyordu. Bu metodun sözlüklerdeki kullanımı da az çok buna benzer. Ama burada farklı olarak, pop metodunu argümansız bir şekilde kullanamıyoruz. Yani pop metodunun parantezi içinde mutlaka bir sözlük öğesi belirtmeliyiz:"
   ]
  },
  {
   "cell_type": "code",
   "execution_count": 39,
   "id": "db1cd2a5-05b7-45fc-9832-f8ce5887c71f",
   "metadata": {},
   "outputs": [],
   "source": [
    "sepet = {\"meyveler\": (\"elma\", \"armut\"), \"sebzeler\": (\"pırasa\", \"fasulye\"),\n",
    "\"içecekler\": (\"su\", \"kola\", \"ayran\")}"
   ]
  },
  {
   "cell_type": "code",
   "execution_count": 40,
   "id": "ce1eca0f-6619-49d3-85e8-15991435a7fa",
   "metadata": {},
   "outputs": [
    {
     "data": {
      "text/plain": [
       "('elma', 'armut')"
      ]
     },
     "execution_count": 40,
     "metadata": {},
     "output_type": "execute_result"
    }
   ],
   "source": [
    "sepet.pop(\"meyveler\")"
   ]
  },
  {
   "cell_type": "markdown",
   "id": "c2572bb7-1079-428e-a681-ccd55a5cb682",
   "metadata": {},
   "source": [
    "Bu komut, sözlükteki “meyveler” anahtarını silecek ve sildiği bu öğenin değerini ekrana basacaktır. Eğer silmeye çalıştığımız anahtar sözlükte yoksa Python bize bir hata mesajı gösterecektir:\n",
    "\n"
   ]
  },
  {
   "cell_type": "code",
   "execution_count": 41,
   "id": "76caa894-6735-477d-9d82-b73fabf9cacc",
   "metadata": {},
   "outputs": [
    {
     "ename": "KeyError",
     "evalue": "'tatlılar'",
     "output_type": "error",
     "traceback": [
      "\u001b[0;31m---------------------------------------------------------------------------\u001b[0m",
      "\u001b[0;31mKeyError\u001b[0m                                  Traceback (most recent call last)",
      "Cell \u001b[0;32mIn[41], line 1\u001b[0m\n\u001b[0;32m----> 1\u001b[0m \u001b[43msepet\u001b[49m\u001b[38;5;241;43m.\u001b[39;49m\u001b[43mpop\u001b[49m\u001b[43m(\u001b[49m\u001b[38;5;124;43m\"\u001b[39;49m\u001b[38;5;124;43mtatlılar\u001b[39;49m\u001b[38;5;124;43m\"\u001b[39;49m\u001b[43m)\u001b[49m\n",
      "\u001b[0;31mKeyError\u001b[0m: 'tatlılar'"
     ]
    }
   ],
   "source": [
    "sepet.pop(\"tatlılar\")\n"
   ]
  },
  {
   "cell_type": "markdown",
   "id": "4d58f0d4-8c5c-475b-aacf-e0ce8c2ce3f7",
   "metadata": {},
   "source": [
    "Bir program yazarken böyle bir durumla karşılaşmak istemeyiz çoğu zaman. Yani bir sözlük içinde arama yaparken, aranan öğenin sözlükte bulunmadığı bir durumda kullanıcıya mekanik ve anlamsız bir hata göstermek yerine, daha anlaşılır bir mesaj iletmeyi tercih edebiliriz. Hatırlarsanız sözlüklerin get() metodunu kullanarak benzer bir şey yapabiliyorduk. Şu anda incelemekte olduğumuz pop() metodu da bize böyle bir imkan verir. Bakalım:"
   ]
  },
  {
   "cell_type": "code",
   "execution_count": 42,
   "id": "d7cf321e-e81d-46e1-a805-0aed84764790",
   "metadata": {},
   "outputs": [
    {
     "data": {
      "text/plain": [
       "'Silinecek öğe yok!'"
      ]
     },
     "execution_count": 42,
     "metadata": {},
     "output_type": "execute_result"
    }
   ],
   "source": [
    "sepet.pop(\"tatlılar\", \"Silinecek öğe yok!\")"
   ]
  },
  {
   "cell_type": "markdown",
   "id": "22acfb9d-e3fa-48ba-9f7e-f397d0ab5eb2",
   "metadata": {},
   "source": [
    "Böylelikle sözlükte bulunmayan bir öğeyi silmeye çalıştığımızda Python bize bir hata mesajı göstermek yerine, “Silinecek öğe yok!” şeklinde daha anlamlı bir mesaj verecektir…"
   ]
  },
  {
   "cell_type": "markdown",
   "id": "458c4a9d-b9b9-4da8-bbf6-bb7ad5d65c46",
   "metadata": {},
   "source": [
    "++++++++++++popitem()\n",
    "\n",
    "\n",
    "popitem() metodu da bir önceki bölümde öğrendiğimiz pop() metoduna benzer. Bu iki metodun görevleri hemen hemen aynıdır. Ancak pop() metodu parantez içinde bir parametre alırken, popitem() metodunun parantezi boş, yani parametresiz olarak kullanılır. Bu metot bir sözlükten son eklenen öğeyi silmek için kullanılır(Python 3.7’den önceki sürümlerde bunun yerine rastgele bir öğe kaldırılır)…"
   ]
  },
  {
   "cell_type": "code",
   "execution_count": 43,
   "id": "3ad5fa57-0792-4502-bb90-9ee3840d277a",
   "metadata": {},
   "outputs": [
    {
     "data": {
      "text/plain": [
       "('sebzeler', ('pırasa', 'fasulye'))"
      ]
     },
     "execution_count": 43,
     "metadata": {},
     "output_type": "execute_result"
    }
   ],
   "source": [
    "sepet = {\"meyveler\": (\"elma\", \"armut\"), \"sebzeler\": (\"pırasa\", \"fasulye\")}\n",
    "\n",
    "sepet.popitem()\n"
   ]
  },
  {
   "cell_type": "markdown",
   "id": "8c85bdbb-937f-4217-893a-68730485d627",
   "metadata": {},
   "source": [
    "Eğer sözlük boşsa bu metot bize KeyError hata mesajı gösterir.\n",
    "\n"
   ]
  },
  {
   "cell_type": "markdown",
   "id": "4374117e-1c56-4a01-88a8-bf7e9213fd65",
   "metadata": {},
   "source": [
    "+++++++++++++setdefault()\n",
    "\n",
    "\n",
    "Bu metot epey enteresan, ama bir o kadar da yararlı bir araçtır… Bu metodun ne işe yaradığını doğrudan bir örnek üzerinde görelim:\n",
    "\n"
   ]
  },
  {
   "cell_type": "code",
   "execution_count": 44,
   "id": "8dadcb30-b997-4f11-a54a-01ad3d745824",
   "metadata": {},
   "outputs": [
    {
     "data": {
      "text/plain": [
       "('su', 'kola')"
      ]
     },
     "execution_count": 44,
     "metadata": {},
     "output_type": "execute_result"
    }
   ],
   "source": [
    "sepet = {\"meyveler\": (\"elma\", \"armut\"), \"sebzeler\": (\"pırasa\", \"fasulye\")}\n",
    "\n",
    "sepet.setdefault(\"içecekler\", (\"su\", \"kola\"))\n"
   ]
  },
  {
   "cell_type": "markdown",
   "id": "39b074ce-1aaf-484f-9a17-63bfd0e57354",
   "metadata": {},
   "source": [
    "Bu komut yardımıyla sözlüğümüz içinde “içecekler” adlı bir anahtar oluşturduk. Bu anahtarın değeri ise (“su”, “kola”) oldu… Bir de şuna bakalım:\n",
    "\n"
   ]
  },
  {
   "cell_type": "code",
   "execution_count": 45,
   "id": "ea6b74b3-93d9-4afa-b23d-2e185f322d80",
   "metadata": {},
   "outputs": [
    {
     "data": {
      "text/plain": [
       "('elma', 'armut')"
      ]
     },
     "execution_count": 45,
     "metadata": {},
     "output_type": "execute_result"
    }
   ],
   "source": [
    "sepet.setdefault(\"meyveler\", (\"erik\", \"çilek\"))"
   ]
  },
  {
   "cell_type": "markdown",
   "id": "5946c740-cb5d-4509-b81e-d68884efbceb",
   "metadata": {},
   "source": [
    "Gördüğünüz gibi, sözlükte zaten “meyveler” adlı bir anahtar bulunduğu için, Python aynı adı taşıyan ama değerleri farklı olan yeni bir “meyveler” anahtarı oluşturmadı. Demek ki bu metot yardımıyla bir sözlük içinde arama yapabiliyor, eğer aradığımız anahtar sözlükte yoksa, setdefault() metodu içinde belirttiğimiz özellikleri taşıyan yeni bir anahtar-değer çifti oluşturabiliyoruz."
   ]
  },
  {
   "cell_type": "markdown",
   "id": "f9c9239e-c99d-45bc-89b3-98b8bbf09676",
   "metadata": {},
   "source": [
    "+++++++++++++update()\n",
    "\n",
    "\n",
    "İnceleyeceğimiz son metot update() metodu… Bu metot yardımıyla oluşturduğumuz sözlükleri yeni verilerle güncelleyeceğiz. Diyelim ki elimizde şöyle bir sözlük var:"
   ]
  },
  {
   "cell_type": "code",
   "execution_count": 46,
   "id": "152391e4-2ae7-477f-abd5-813ed27bdbdd",
   "metadata": {},
   "outputs": [],
   "source": [
    "stok = {\"elma\": 5, \"armut\": 10, \"peynir\": 6, \"sosis\": 15}"
   ]
  },
  {
   "cell_type": "markdown",
   "id": "a4c89593-dee8-4fa0-8f84-17590c082058",
   "metadata": {},
   "source": [
    "Stoğumuzda 5 adet elma, 10 adet armut, 6 kutu peynir, 15 adet de sosis var. Diyelim ki daha sonraki zamanlarda bu stoğa mal giriş-çıkışı oldu ve stoğun son hali şöyle:\n",
    "\n"
   ]
  },
  {
   "cell_type": "code",
   "execution_count": 47,
   "id": "a4f01fce-aef4-4d6d-8594-26434da859a9",
   "metadata": {},
   "outputs": [],
   "source": [
    "yeni_stok = {\"elma\": 3, \"armut\": 20, \"peynir\": 8, \"sosis\": 4, \"sucuk\": 6}\n"
   ]
  },
  {
   "cell_type": "markdown",
   "id": "baf90de1-67e2-434c-a1cd-6e9634f57304",
   "metadata": {},
   "source": [
    "Yapmamız gereken şey, stoğumuzu yeni bilgilere göre güncellemek olacaktır. İşte bu işlemi update() metodu ile yapabiliriz:"
   ]
  },
  {
   "cell_type": "code",
   "execution_count": 48,
   "id": "dba28325-c024-4560-ab34-5e8da93036c1",
   "metadata": {},
   "outputs": [
    {
     "name": "stdout",
     "output_type": "stream",
     "text": [
      "{'elma': 3, 'armut': 20, 'peynir': 8, 'sosis': 4, 'sucuk': 6}\n"
     ]
    }
   ],
   "source": [
    "stok.update(yeni_stok)\n",
    "\n",
    "print(stok)"
   ]
  },
  {
   "cell_type": "code",
   "execution_count": null,
   "id": "ffa7ef54-58ae-40ae-b591-367b26c0419a",
   "metadata": {},
   "outputs": [],
   "source": []
  }
 ],
 "metadata": {
  "kernelspec": {
   "display_name": "Python 3 (ipykernel)",
   "language": "python",
   "name": "python3"
  },
  "language_info": {
   "codemirror_mode": {
    "name": "ipython",
    "version": 3
   },
   "file_extension": ".py",
   "mimetype": "text/x-python",
   "name": "python",
   "nbconvert_exporter": "python",
   "pygments_lexer": "ipython3",
   "version": "3.10.12"
  }
 },
 "nbformat": 4,
 "nbformat_minor": 5
}
