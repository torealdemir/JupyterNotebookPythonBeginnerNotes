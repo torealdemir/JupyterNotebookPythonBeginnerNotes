{
 "cells": [
  {
   "cell_type": "markdown",
   "id": "42fa1769-5bdb-4f4d-9e58-8fddc02eead1",
   "metadata": {},
   "source": [
    "+++++++__Nesne Tabanlı Programlama (Devamı)__\n",
    "\n",
    "Geçen bölümde verdiğimiz bilgiler sayesinde miras alma konusunun temelini oluşturan taban sınıf, alt sınıf ve türeme gibi kavramlarla birlikte super() ve object gibi araçların ne olduğunu ve ne işe yaradığını da öğrendik. Dolayısıyla artık miras alma mekanizmasına dair daha renkli, daha teşvik edici örnekler verebiliriz. Böylece, belki de gözünüze ilk bakışta pek de matah bir şey değilmiş gibi görünen bu ‘miras alma’ denen mekanizmanın aslında ne kadar önemli bir konu olduğuna sizleri ikna edebiliriz.\n",
    "\n",
    "Bu bölümde ayrıca geçen bölümlerde incelemeye fırsat bulamasak da nesne tabanlı programlama kapsamında incelememiz gereken başka konuları da ele alacağız.\n",
    "\n",
    "Nesne tabanlı programlamadan ilk bahsettiğimiz derste, nesne tabanlı programlama yaklaşımının grafik arayüz tasarımı için biçilmiş kaftan olduğundan söz etmiştik hatırlarsanız. Bu bölümde inceleyeceğimiz konuların bazılarını grafik arayüz tasarımı eşliğinde anlatacağız. Grafik arayüz programlamanın bize sunduğu düğmeli-menülü görsel programların, nesne tabanlı programlamaya ilişkin soyut kavramları somut bir düzleme taşımamıza imkan tanıması sayesinde, nesne tabanlı programlamaya ilişkin çetrefilli konuları daha rahat anlama fırsatı bulacağız."
   ]
  },
  {
   "cell_type": "markdown",
   "id": "b5bc9cca-b1cd-4e88-aba1-a8ecbf721455",
   "metadata": {},
   "source": [
    "+++++++++++Tkinter Hakkında\n",
    "\n",
    "\n",
    "Hatırlarsanız, önceki derslerimizde birkaç kez Tkinter adlı bir modülden söz etmiştik. Tkinter, Python kurulumu ile birlikte gelen ve pencereli-menülü modern programlar yazmamızı sağlayan grafik arayüz geliştirme takımlarından biridir.\n",
    "\n",
    "Tkinter bir standart kütüphane paketi olduğu için, Python programlama dilini kurduğunuzda Tkinter de otomatik olarak kurulur[1].\n",
    "\n",
    "Elbette Python’da grafik arayüzlü programlar yazmamızı sağlayacak tek modül Tkinter değildir. Bunun dışında PyQt, PyGI ve Kivy gibi alternatifler de bulunur. Ancak Tkinter’in öteki alternatiflere karşı en büyük üstünlüğü hem öbürlerine kıyasla çok daha kolay olması hem de Python’la birlikte gelmesidir. PyQt, PyGI ve Kivy’yi kullanabilmek için öncelikle bunları bilgisayarınıza kurmanız gerekir. Ayrıca Tkinter dışındaki alternatifleri kullanarak yazdığınız programları dağıtırken, bu arayüz kütüphanelerini kullanıcılarınızın bilgisayarına ya kendiniz kurmanız ya da kullanıcılarınızdan bu kütüphaneleri kurmasını talep etmeniz gerekir.\n",
    "\n",
    "Ben size, ilerde başka arayüz takımlarına geçiş yapacak da olsanız, Tkinter’i mutlaka öğrenmenizi tavsiye ederim. Hem nesne tabanlı programlama hem de grafik arayüz geliştirme kavramlarını öğrenmek açısından Tkinter son derece uygun bir ortamdır.\n",
    "\n",
    "Biz bu bölümde Tkinter modülünü kullanarak, prosedürel programlama, nesne tabanlı programlama, sınıflar, miras alma ve nesne programlamaya ilişkin öteki konular üzerine ufak tefek de olsa bazı çalışmalar yapacağız. Bu çalışmalar sayesinde bir yandan öğrendiğimiz eski konulara ilişkin güzel bir pratik yapma imkanı bulacağız, bir yandan Tkinter’in çalışmalarımızın sonucunu görsel bir şekilde izleme imkanı sağlaması sayesinde nesne tabanlı programlamanın çetrefilli kavramlarını anlamamız kolaylaşacak, bir yandan da ilk kez gördüğümüz kodları anlama ve bunlar hakkında fikir yürütme kabiliyeti kazanacağız. Yani bir taşla tamı tamına üç kuş vurmuş olacağız…"
   ]
  },
  {
   "cell_type": "markdown",
   "id": "a4ecb35c-c15e-4e29-91a7-9188cd623826",
   "metadata": {},
   "source": [
    "+++++++++++++=Prosedürel Bir Örnek\n",
    "\n",
    "Başta da söylediğimiz gibi, nesne tabanlı programlama, grafik arayüzlü programlar geliştirmek için son derece uygun bir programlama yaklaşımıdır. Zaten kendi araştırmalarınız sırasında da, etraftaki grafik arayüzlü programların büyük çoğunluğunun nesne tabanlı programlama yaklaşımıyla yazıldığını göreceksiniz. Biz de bu derste vereceğimiz Tkinter örneklerinde sınıflı yapıları kullanacağız. Ancak dilerseniz Tkinter’in nasıl bir şey olduğunu daha kolay anlayabilmek için öncelikle nesne tabanlı yaklaşım yerine prosedürel yaklaşımı kullanarak birkaç küçük çalışma yapalım. Zira özellikle basit kodlarda, prosedürel yapıyı anlamak nesne tabanlı programlama yaklaşımı ile yazılmış kodları anlamaktan daha kolaydır. Ancak tabii ki kodlar büyüyüp karmaşıklaştıkça sınıflı yapıları kullanmak çok daha akıllıca olacaktır.\n",
    "\n",
    "O halde gelin isterseniz Tkinter modülünü nasıl kullanacağımızı anlamak için, bir metin dosyası açıp içine şu kodları yazalım:"
   ]
  },
  {
   "cell_type": "code",
   "execution_count": null,
   "id": "9eac1075-d356-4269-b76a-dee07ecde873",
   "metadata": {},
   "outputs": [],
   "source": [
    "import tkinter\n",
    "\n",
    "pencere = tkinter.Tk()\n",
    "pencere.mainloop()"
   ]
  },
  {
   "cell_type": "markdown",
   "id": "1d2f12fe-b2d7-4000-bbbc-db25d42dcf78",
   "metadata": {},
   "source": [
    "Bu kodları herhangi bir Python programı gibi kaydedip çalıştırdığınızda boş bir pencerenin açıldığını göreceksiniz. İşte böylece siyah komut satırından renkli grafik arayüze geçiş yapmış oldunuz. Hadi hayırlı olsun!\n",
    "\n",
    "Gördüğünüz gibi, bu kodlarda sınıfları kullanmadık. Dediğimiz gibi, ilk etapta Tkinter’i daha iyi anlayabilmek için sınıflı yapılar yerine prosedürel bir yaklaşımı benimseyeceğiz.\n",
    "\n",
    "Burada öncelikle Tkinter modülünü içe aktardığımıza dikkat edin:\n",
    "\n"
   ]
  },
  {
   "cell_type": "code",
   "execution_count": null,
   "id": "6e1385d1-71cf-4c83-91f7-7d7cf3f492f1",
   "metadata": {},
   "outputs": [],
   "source": [
    "import tkinter\n"
   ]
  },
  {
   "cell_type": "markdown",
   "id": "731770f3-e810-424d-a0f2-ebcd47352f90",
   "metadata": {},
   "source": [
    "Modülü bu şekilde içe aktardığımız için, modül içindeki nitelik ve metotlara erişmek istediğimizde modülün adını kullanmamız gerekecek. Mesela yukarıda modülün adını kullanarak, tkinter modülü içindeki Tk() sınıfını örnekledik:"
   ]
  },
  {
   "cell_type": "code",
   "execution_count": null,
   "id": "e064c21c-7fd9-451f-927b-170fad824357",
   "metadata": {},
   "outputs": [],
   "source": [
    "pencere = tkinter.Tk()\n"
   ]
  },
  {
   "cell_type": "markdown",
   "id": "6410e46e-ce45-42ab-b8ce-649ede65aade",
   "metadata": {},
   "source": [
    "Dilerseniz içe aktarma işlemini şu şekilde yaparak işlerimizi biraz daha kolaylaştırabiliriz:"
   ]
  },
  {
   "cell_type": "code",
   "execution_count": null,
   "id": "9c9c2c74-937d-4eed-b7e1-c6c0a68f41d1",
   "metadata": {},
   "outputs": [],
   "source": [
    "import tkinter as tk\n"
   ]
  },
  {
   "cell_type": "markdown",
   "id": "ecd8961e-43c1-44a0-ad09-6ce0e3673ad5",
   "metadata": {},
   "source": [
    "Böylece tkinter modülünün nitelik ve metotlarına ‘tkinter’ yerine ‘tk’ önekiyle erişebiliriz:"
   ]
  },
  {
   "cell_type": "code",
   "execution_count": null,
   "id": "0e05cc16-0e8c-44f0-b5c0-a13177e3741f",
   "metadata": {},
   "outputs": [],
   "source": [
    "pencere = tk.Tk()\n"
   ]
  },
  {
   "cell_type": "markdown",
   "id": "1ab859ab-4d51-4f3b-a7b5-2041c35b2f7f",
   "metadata": {},
   "source": [
    "Yukarıdaki kodları yazdığımızda, yani tkinter modülünün Tk() sınıfını örneklediğimiz anda aslında penceremiz oluştu. Ancak bu pencere örnekleme ile birlikte oluşmuş olsa da, Tkinter’in iç işleyişi gereği, ‘ana döngü’ adlı bir mekanizma çalışmaya başlamadan görünür hale gelmez. İşte bu özel ana döngü mekanizmasını çalıştırmak ve böylece oluşturduğumuz pencereyi görünür hale getirmek için, Tk() sınıf örneklerinin mainloop() adlı bir metodunu çalıştıracağız:"
   ]
  },
  {
   "cell_type": "code",
   "execution_count": null,
   "id": "5651b14a-8023-4da3-926b-60d0e35b91b9",
   "metadata": {},
   "outputs": [],
   "source": [
    "pencere.mainloop()\n"
   ]
  },
  {
   "cell_type": "markdown",
   "id": "99eb2f29-741b-4ff7-8af2-eaba2705c980",
   "metadata": {},
   "source": [
    "Gördüğünüz gibi, Tk() sınıfını pencere adıyla örnekledikten sonra Tk() sınıfının mainloop() adlı metoduna pencere örneği üzerinden eriştik.\n",
    "\n",
    "Bu ana döngü mekanizmasının benzerlerini Tkinter’in dışındaki öbür grafik arayüz tasarım araçlarında da göreceksiniz.\n",
    "\n",
    "Bu arada, yukarıdaki prosedürel örnekte bile, biz istemesek de sınıflarla muhatap olduğumuza dikkatinizi çekmek isterim. Çünkü kullandığımız tkinter modülünün kendisi halihazırda birtakım sınıflardan oluşuyor. Dolayısıyla bu modülü içe aktardığımızda, kodlarımızın içine pek çok sınıfı ister istemez dahil etmiş oluyoruz. Esasında sırf bu durum bile, grafik arayüzlü programlarda neden nesne tabanlı programlamanın tercih edildiğini gayet güzel gösteriyor bize. Neticede, kullandığımız harici kaynaklardan ötürü her şekilde sınıflarla ve nesne tabanlı yapılarla içli dışlı olacağımız için, kendi yazdığımız kodlarda da nesne tabanlı yapılardan kaçmamızın hiçbir gerekçesi yok.\n",
    "\n",
    "Neyse… Biz konumuza dönelim…\n",
    "\n",
    "Yukarıda Tkinter modülünü kullanarak boş bir pencere oluşturduk. Gelin isterseniz bu boş pencere üzerinde birtakım değişiklikler yapalım.\n",
    "\n",
    "Öncelikle tkinter modülümüzü içe aktaralım:\n",
    "\n"
   ]
  },
  {
   "cell_type": "code",
   "execution_count": null,
   "id": "f92b61bc-b2e9-4a48-906a-28293700570e",
   "metadata": {},
   "outputs": [],
   "source": [
    "import tkinter as tk\n"
   ]
  },
  {
   "cell_type": "markdown",
   "id": "e134fe1d-2ef9-406e-a35a-410b05104240",
   "metadata": {},
   "source": [
    "Şimdi bu modülün Tk() adlı sınıfını örnekleyelim:"
   ]
  },
  {
   "cell_type": "code",
   "execution_count": null,
   "id": "fc1bd641-b68c-4ac0-aea3-fa44eaadc2f7",
   "metadata": {},
   "outputs": [],
   "source": [
    "pencere = tk.Tk()\n"
   ]
  },
  {
   "cell_type": "markdown",
   "id": "4cdd49fc-8448-4948-a5ff-90ea578e0261",
   "metadata": {},
   "source": [
    "Böylece penceremizi oluşturmuş olduk. Tkinter’le verdiğimiz ilk örnekte de gördüğünüz gibi, Tkinter’le oluşturulan boş bir pencere öntanımlı olarak 200 piksel genişliğe ve 200 piksel yüksekliğe sahip olacaktır. Ancak isterseniz, Tk() sınıfının geometry() adlı metodunu kullanarak, pencere boyutunu ayarlayabilirsiniz (Tk() sınıfının hangi metotlara sahip olduğunu görmek için dir(pencere) komutunu verebileceğinizi biliyorsunuz):"
   ]
  },
  {
   "cell_type": "code",
   "execution_count": null,
   "id": "590a03a8-fa2a-48e1-bacb-64088b4f7d4e",
   "metadata": {},
   "outputs": [],
   "source": [
    "import tkinter as tk\n",
    "\n",
    "pencere = tk.Tk()\n",
    "pencere.geometry('200x70')\n",
    "\n",
    "pencere.mainloop()"
   ]
  },
  {
   "cell_type": "markdown",
   "id": "a3a44df7-d14b-48d0-8f56-290de85284b8",
   "metadata": {},
   "source": [
    "Kendi yazdığımız sınıflardaki nitelik ve metotlara nasıl erişiyorsak, Tk() sınıfının nitelik ve metotlarına da aynı şekilde eriştiğimize dikkat edin. Neticede bizim yazdıklarımız da sınıftır, Tk() da sınıftır. Tk() sınıfının bizimkilerden tek farkı, Tk() sınıfının Python geliştiricilerince yazılmış olmasıdır. Yazarları farklı olsa da bütün sınıflar aynı kurallara tabidir. Dolayısıyla ilgili sınıfı kullanabilmek için önce sınıfımızı örnekliyoruz, ardından da bu sınıf içinde tanımlı olan nitelik ve metotlara noktalı gösterim tekniğini kullanarak ulaşıyoruz. Burada da Tk() sınıf örneklerinin geometry() metodunu kullanarak 200x200 yerine 200x70 boyutlarında bir pencere oluşturduk:"
   ]
  },
  {
   "cell_type": "code",
   "execution_count": null,
   "id": "b13d502e-9d7e-49b3-8e75-3c6c94d9a6bd",
   "metadata": {},
   "outputs": [],
   "source": [
    "pencere.geometry('200x70')\n"
   ]
  },
  {
   "cell_type": "markdown",
   "id": "37c5685c-4339-4ed9-b160-a0ce129bac89",
   "metadata": {},
   "source": [
    "Şimdi bu boş pencereye bir etiket bir de düğme ekleyelim:"
   ]
  },
  {
   "cell_type": "code",
   "execution_count": null,
   "id": "b1864912-4185-4022-a8d8-51fd300cffb5",
   "metadata": {},
   "outputs": [],
   "source": [
    "import tkinter as tk\n",
    "\n",
    "pencere = tk.Tk()\n",
    "pencere.geometry('200x70')\n",
    "\n",
    "etiket = tk.Label(text='Merhaba Zalim Dünya')\n",
    "etiket.pack()\n",
    "\n",
    "düğme = tk.Button(text='Tamam', command=pencere.destroy)\n",
    "düğme.pack()\n",
    "\n",
    "pencere.mainloop()"
   ]
  },
  {
   "cell_type": "markdown",
   "id": "9901fd89-a22d-46b9-9107-e703a05f69d5",
   "metadata": {},
   "source": [
    "Burada tkinter modülünün Tk() sınıfına ek olarak, aynı modülün Label() ve Button() adlı iki sınıfını daha kullandık. Label() sınıfı etiketler, Button() sınıfı ise düğmeler oluşturmamızı sağlıyor. Bu sınıfların örnekleri üzerinde çalıştırdığımız pack() metodunu ise, etiket ve düğmeleri pencere üzerine yerleştirmek için kullanıyoruz.\n",
    "\n",
    "Label() ve Button() sınıflarının text adlı bir parametre aldığını görüyorsunuz. Bu parametrenin değeri, etiket veya düğmenin üzerinde ne yazacağını gösteriyor.\n",
    "\n",
    "Bu kodları da tıpkı başka Python programlarını çalıştırdığınız gibi çalıştırabilirsiniz.\n",
    "\n",
    "Bu arada, Tkinter’de bir şeyi oluşturmanın ve görünür hale getirmenin iki farklı işlem gerektirdiğine özellikle dikkat edin. Mesela üzerinde ‘Merhaba Zalim Dünya’ yazan bir etiket oluşturmak için şu kodu kullanıyoruz:"
   ]
  },
  {
   "cell_type": "code",
   "execution_count": null,
   "id": "21689570-3afc-4359-a0fd-156762a37182",
   "metadata": {},
   "outputs": [],
   "source": [
    "etiket = tk.Label(text='Merhaba Zalim Dünya')\n"
   ]
  },
  {
   "cell_type": "markdown",
   "id": "3d33ed4f-9f45-46f2-a4a7-3f83f9b6de37",
   "metadata": {},
   "source": [
    "Bu etiketi pencere üzerine yerleştirmek, yani görünür hale getirmek için ise şu komutu kullanıyoruz:"
   ]
  },
  {
   "cell_type": "code",
   "execution_count": null,
   "id": "7b97549c-95c2-49fa-a297-d7f24d4d13fe",
   "metadata": {},
   "outputs": [],
   "source": [
    "etiket.pack()"
   ]
  },
  {
   "cell_type": "markdown",
   "id": "9238ea3e-6951-4224-8cfb-2ff6a9034f0a",
   "metadata": {},
   "source": [
    "Aynı şekilde bir düğme oluşturmak için de şu komutu kullanıyoruz:\n",
    "\n"
   ]
  },
  {
   "cell_type": "code",
   "execution_count": null,
   "id": "88eba4f7-954d-41f9-9412-46140372daca",
   "metadata": {},
   "outputs": [],
   "source": [
    "düğme = tk.Button(text='Tamam', command=pencere.destroy)"
   ]
  },
  {
   "cell_type": "markdown",
   "id": "8c1ffcc7-b422-4403-9512-240a9289be52",
   "metadata": {},
   "source": [
    "Böylece üzerinde ‘Tamam’ yazan ve tıklandığında pencereyi kapatan bir düğme oluşturmuş oluyoruz. Düğmenin üzerine tıklandığında ne olacağını Button() sınıfının command parametresi aracılığıyla belirledik. Bu parametreye, pencere örneğinin destroy() metodunu verdiğimizde pencereye kapatma sinyali gönderilecektir. Yalnız bu metodu yazarken parantez işaretlerini kullanmadığımıza dikkat edin. Eğer metodu pencere.destroy() şeklinde parantezli bir biçimde yazarsak, kapatma komutu daha düğmeye basmadan çalışacak ve bu durumda düğmemiz düzgün işlemeyecektir.\n",
    "\n",
    "Tıpkı etikette olduğu gibi, düğmemizi de pencere üzerine yerleştirmek, yani görünür hale getirmek için pack() metodundan yararlanıyoruz:\n",
    "\n"
   ]
  },
  {
   "cell_type": "code",
   "execution_count": null,
   "id": "4488a254-fc73-485a-830b-9225fcc0b3e6",
   "metadata": {},
   "outputs": [],
   "source": [
    "düğme.pack()\n"
   ]
  },
  {
   "cell_type": "markdown",
   "id": "b2015a2f-9160-4896-8909-56fd86c5f98f",
   "metadata": {},
   "source": [
    "Bunun, Tk() sınıfı ile mainloop() metodu arasındaki ilişkiye benzediğine dikkatinizi çekmek isterim: Tıpkı pack() metoduna benzer bir şekilde, Tk() sınıfı yardımıyla da bir pencere oluşturduktan sonra, bu pencerenin görünür hale gelebilmesi için mainloop() metodunu çalıştırmamız gerektiğini hatırlıyorsunuz.\n",
    "\n",
    "Bu kodlarda Tkinter’e ilişkin ayrıntılardan ziyade, sınıflı yapıları kodlarımıza nasıl dahil ettiğimize ve bunları nasıl kullandığımıza odaklanmanızı istiyorum. Gördüğünüz gibi, tkinter modülünden içe aktardığımız Tk(), Label() ve Button() gibi sınıfların metot ve niteliklerini, mesela tıpkı karakter dizilerinin metot ve niteliklerini kullanır gibi kullanıyoruz.\n",
    "\n",
    "Yukarıdaki örnekte, tkinter modülünün sınıflarını, kodlarımız içine prosedürel olarak dahil ettik. Yani her sınıfı, belli bir sıraya göre kodlarımız içinde belirtip, bunları adım adım çalıştırdık. Prosedürel programlamada kodların yazılış sırası çok önemlidir. Bunu kanıtlamak için çok basit bir örnek verelim:\n",
    "\n"
   ]
  },
  {
   "cell_type": "code",
   "execution_count": null,
   "id": "a800fbd0-c799-4925-8e62-447dae105bb4",
   "metadata": {},
   "outputs": [],
   "source": [
    "import tkinter as tk\n",
    "\n",
    "pencere = tk.Tk()\n",
    "\n",
    "def çıkış():\n",
    "    etiket['text'] = 'Elveda zalim dünya...'\n",
    "    düğme['text'] = 'Bekleyin...'\n",
    "    düğme['state'] = 'disabled'\n",
    "    pencere.after(2000, pencere.destroy)\n",
    "\n",
    "etiket = tk.Label(text='Merhaba Zalim Dünya')\n",
    "etiket.pack()\n",
    "\n",
    "düğme = tk.Button(text='Çık', command=çıkış)\n",
    "düğme.pack()\n",
    "\n",
    "pencere.protocol('WM_DELETE_WINDOW', çıkış)\n",
    "\n",
    "pencere.mainloop()"
   ]
  },
  {
   "cell_type": "markdown",
   "id": "9a0fd1b6-0746-46c6-a503-62f388ccbc88",
   "metadata": {},
   "source": [
    "Burada her zamanki gibi öncelikle gerekli modülü içe aktardık:"
   ]
  },
  {
   "cell_type": "code",
   "execution_count": null,
   "id": "8f917fd6-be8f-4231-877b-17e3ab9e1584",
   "metadata": {},
   "outputs": [],
   "source": [
    "import tkinter as tk"
   ]
  },
  {
   "cell_type": "markdown",
   "id": "47b543e9-f975-4599-97d3-b33cc13ab42f",
   "metadata": {},
   "source": [
    "Daha sonra Tk() sınıfı yardımıyla penceremizi oluşturduk:"
   ]
  },
  {
   "cell_type": "code",
   "execution_count": null,
   "id": "8f1a9875-6e02-4990-b010-abb565dc41c3",
   "metadata": {},
   "outputs": [],
   "source": [
    "pencere = tk.Tk()"
   ]
  },
  {
   "cell_type": "markdown",
   "id": "ef0bd467-6381-42f0-913d-8c37bc48162d",
   "metadata": {},
   "source": [
    "Ardından çıkış() adlı bir fonksiyon tanımladık:"
   ]
  },
  {
   "cell_type": "code",
   "execution_count": null,
   "id": "d6801c40-f768-4d4d-92b4-080571c2b0ff",
   "metadata": {},
   "outputs": [],
   "source": [
    "def çıkış():\n",
    "    etiket['text'] = 'Elveda zalim dünya...'\n",
    "    düğme['text'] = 'Bekleyin...'\n",
    "    düğme['state'] = 'disabled'\n",
    "    pencere.after(2000, pencere.destroy)"
   ]
  },
  {
   "cell_type": "markdown",
   "id": "8c3340f3-c574-463f-b74c-4643b2a12bfc",
   "metadata": {},
   "source": [
    "Bu fonksiyon, pencere kapatılırken hangi işlemlerin yapılacağını belirliyor. Buna göre, programdan çıkılırken sırasıyla şu işlemleri gerçekleştiriyoruz:\n",
    "\n",
    "Etiketin text parametresini ‘Elveda zalim dünya…’ olarak değiştiriyoruz.\n",
    "\n",
    "Düğmenin text parametresini ‘Bekleyin…’ olarak değiştiriyoruz.\n",
    "\n",
    "Düğmenin state parametresini ‘disabled’ olarak değiştirerek düğmeyi basılamaz hale getiriyoruz.\n",
    "\n",
    "2000 milisaniye (yani 2 saniye) sonra ise pencere.destroy() komutunu işleterek pencerenin kapanmasını sağlıyoruz.\n",
    "\n",
    "çıkış() fonksiyonunu tanımladıktan sonra Label() ve Button() düğmeleri aracılığıyla etiket ve düğmelerimizi oluşturuyoruz:"
   ]
  },
  {
   "cell_type": "code",
   "execution_count": null,
   "id": "2777cb26-a853-4403-9aff-8ebe6a1991a2",
   "metadata": {},
   "outputs": [],
   "source": [
    "etiket = tk.Label(text='Merhaba Zalim Dünya')\n",
    "etiket.pack()\n",
    "\n",
    "düğme = tk.Button(text='Çık', command=çıkış)\n",
    "düğme.pack()"
   ]
  },
  {
   "cell_type": "markdown",
   "id": "61f396a4-b460-4bc3-8d82-940641c3f513",
   "metadata": {},
   "source": [
    "Buna göre, düğmeye basıldığında, command parametresinin değeri olan çıkış() fonksiyonu çalışmaya başlayacak ve fonksiyon gövdesinde tanımladığımız işlemler gerçekleşecek.\n",
    "\n",
    "Bildiğiniz gibi, bir program penceresinde, o programı kapatmayı sağlayacak düğmelerin yanı sıra, bir de en üst sağ (veya sol) köşede program penceresini kapatan bir ‘X’ düğmesi bulunur. İşte bu ‘X’ düğmesine basıldığında da pencere kapanmadan önce çıkış() fonksiyonunun çalışması için şu kodu yazıyoruz:"
   ]
  },
  {
   "cell_type": "code",
   "execution_count": null,
   "id": "1fd29856-0f0f-4eb4-bdfc-dbc1c137ed12",
   "metadata": {},
   "outputs": [],
   "source": [
    "pencere.protocol('WM_DELETE_WINDOW', çıkış)\n"
   ]
  },
  {
   "cell_type": "markdown",
   "id": "7449ac38-231a-40e1-8449-4786fe0ae63d",
   "metadata": {},
   "source": [
    "protocol() de tıpkı geometry() gibi, Tk() sınıfının metotlarından biridir. Bu metodu WM_DELETE_WINDOW argümanıyla birlikte kullanarak, pencere üzerindeki ‘X’ düğmesine basıldığında neler olacağını tanımlayabiliyoruz.\n",
    "\n",
    "Son olarak da ana döngü mekanizmasını çalıştırıyoruz ve penceremizi görünür hale getiriyoruz:"
   ]
  },
  {
   "cell_type": "code",
   "execution_count": null,
   "id": "f49f300b-ae22-4a7a-ac3f-fbf03804582a",
   "metadata": {},
   "outputs": [],
   "source": [
    "pencere.mainloop()\n"
   ]
  },
  {
   "cell_type": "markdown",
   "id": "c535a70b-8a80-4556-b6b1-730f98994037",
   "metadata": {},
   "source": [
    "Bu prosedürel kodları tekrar önümüze alalım:\n",
    "\n"
   ]
  },
  {
   "cell_type": "code",
   "execution_count": null,
   "id": "66eb5609-ea7d-4827-a856-5f2421e4b0d2",
   "metadata": {},
   "outputs": [],
   "source": [
    "import tkinter as tk\n",
    "\n",
    "pencere = tk.Tk()\n",
    "\n",
    "def çıkış():\n",
    "    etiket['text'] = 'Elveda zalim dünya...'\n",
    "    düğme['text'] = 'Bekleyin...'\n",
    "    düğme['state'] = 'disabled'\n",
    "    pencere.after(2000, pencere.destroy)\n",
    "\n",
    "etiket = tk.Label(text='Merhaba Zalim Dünya')\n",
    "etiket.pack()\n",
    "\n",
    "düğme = tk.Button(text='Çık', command=çıkış)\n",
    "düğme.pack()\n",
    "\n",
    "pencere.protocol('WM_DELETE_WINDOW', çıkış)\n",
    "\n",
    "pencere.mainloop()"
   ]
  },
  {
   "cell_type": "markdown",
   "id": "6e85ed34-d948-4dea-944c-039370b33aeb",
   "metadata": {},
   "source": [
    "En başta da söylediğimiz gibi, bu kodlarda, satır sıraları çok önemlidir. Mesela burada düğmeyi oluşturan kodlarla pencere.protocol() kodlarının çalışması için bunların mutlaka çıkış() fonksiyonu tanımlandıktan sonra yazılması gerekir. Eğer bu kodları şöyle yazarsanız:"
   ]
  },
  {
   "cell_type": "code",
   "execution_count": null,
   "id": "7aa1e7c4-7fcf-42f5-8e3b-2b4955b9d109",
   "metadata": {},
   "outputs": [],
   "source": [
    "import tkinter as tk\n",
    "\n",
    "pencere = tk.Tk()\n",
    "pencere.protocol('WM_DELETE_WINDOW', çıkış)\n",
    "\n",
    "def çıkış():\n",
    "    etiket['text'] = 'Elveda zalim dünya...'\n",
    "    düğme['text'] = 'Bekleyin...'\n",
    "    düğme['state'] = 'disabled'\n",
    "    pencere.after(2000, pencere.destroy)\n",
    "\n",
    "etiket = tk.Label(text='Merhaba Zalim Dünya')\n",
    "etiket.pack()\n",
    "\n",
    "düğme = tk.Button(text='Çık', command=çıkış)\n",
    "düğme.pack()\n",
    "\n",
    "pencere.mainloop()\n"
   ]
  },
  {
   "cell_type": "markdown",
   "id": "118424dc-32dc-4474-9279-80d0840230bf",
   "metadata": {},
   "source": [
    "… programınız çalışmayacaktır.\n",
    "\n",
    "Bu durum, programcıyı, istediği kod düzenini oturtmak konusunda epey kısıtlar. Ama eğer nesne tabanlı programlama yaklaşımını kullanırsak kod akışını belirlerken daha özgür olabiliriz. Ayrıca prosedürel yaklaşımda kodlar büyüdükçe programınızın çorbaya dönme ihtimali nesne tabanlı programlama yaklaşımına göre daha fazladır. Ancak elbette nesne tabanlı programlama yaklaşımını kullanmak tek başına düzgün ve düzenli kod yazmanın teminatı değildir. Nesne tabanlı programlama yaklaşımını kullanarak da gayet sebze çorbası kıvamında kodlar yazabilirsiniz. En başta da söylediğimiz gibi, nesne tabanlı programlama bir seçenektir. Eğer istemezseniz, nesne tabanlı programlama yaklaşımını kullanmak zorunda değilsiniz. Ama elinizde böyle bir imkanınız olduğunu ve başkalarının da bu yaklaşımdan yoğun bir şekilde faydalandığını bilmek çok önemlidir."
   ]
  },
  {
   "cell_type": "markdown",
   "id": "1623848b-6d1e-4ed3-bbc7-8b317a6757ba",
   "metadata": {},
   "source": [
    "++++++++++__Sınıflı Bir Örnek__\n",
    "\n",
    "\n",
    "Bir önceki başlıkta Tkinter’i kullanılarak prosedürel bir kod yazdık. Peki acaba yukarıdaki kodları nesne tabanlı olarak nasıl yazabiliriz?\n",
    "\n",
    "Dikkatlice bakın:"
   ]
  },
  {
   "cell_type": "code",
   "execution_count": null,
   "id": "b06f58b5-386f-43f1-b872-110c6c790992",
   "metadata": {},
   "outputs": [],
   "source": [
    "import tkinter as tk\n",
    "\n",
    "class Pencere(tk.Tk):\n",
    "    def __init__(self):\n",
    "        super().__init__()\n",
    "        self.protocol('WM_DELETE_WINDOW', self.çıkış)\n",
    "\n",
    "        self.etiket = tk.Label(text='Merhaba Zalim Dünya')\n",
    "        self.etiket.pack()\n",
    "\n",
    "        self.düğme = tk.Button(text='Çık', command=self.çıkış)\n",
    "        self.düğme.pack()\n",
    "\n",
    "    def çıkış(self):\n",
    "        self.etiket['text'] = 'Elveda zalim dünya...'\n",
    "        self.düğme['text'] = 'Bekleyin...'\n",
    "        self.düğme['state'] = 'disabled'\n",
    "        self.after(2000, self.destroy)\n",
    "\n",
    "pencere = Pencere()\n",
    "pencere.mainloop()"
   ]
  },
  {
   "cell_type": "markdown",
   "id": "f4a170e3-165f-4a33-9a18-c2dced39b548",
   "metadata": {},
   "source": [
    "Bu kodlarda gördüğünüz bütün satırları anlayacak kadar nesne tabanlı programlama bilgisine sahipsiniz. Ama gelin biz yine de bu kodları sizin için tek tek ve tane tane açıklayalım.\n",
    "\n",
    "Öncelikle tkinter modülünü tk adıyla içe aktarıyoruz:"
   ]
  },
  {
   "cell_type": "code",
   "execution_count": null,
   "id": "6840e327-0f07-413e-a6af-6988e76ad6e0",
   "metadata": {},
   "outputs": [],
   "source": [
    "import tkinter as tk\n"
   ]
  },
  {
   "cell_type": "markdown",
   "id": "99df74d0-382e-40de-bbde-edafb203993d",
   "metadata": {},
   "source": [
    "Daha sonra Pencere() adlı sınıfımızı tanımlamaya başlıyoruz:"
   ]
  },
  {
   "cell_type": "code",
   "execution_count": null,
   "id": "15b145ba-c57b-4daf-a630-624df0e5dab1",
   "metadata": {},
   "outputs": [],
   "source": [
    "class Pencere(tk.Tk):\n",
    "    ..."
   ]
  },
  {
   "cell_type": "markdown",
   "id": "a0f7f261-e211-4df4-bb83-a4b67c9e5de6",
   "metadata": {},
   "source": [
    "Burada öncelikle Tk() sınıfını miras aldığımıza dikkat edin. Bu sayede bu sınıfın içindeki bütün nitelik ve metotları kendi uygulamamız içinden çağırabileceğiz.\n",
    "\n",
    "Penceremiz oluşur oluşmaz pencere üzerinde bir etiket ile bir düğme olmasını planlıyoruz. Pencere oluşur oluşmaz işletilecek kodları tanımlamak için bir __init__() metoduna ihtiyacımız olduğunu biliyorsunuz:"
   ]
  },
  {
   "cell_type": "code",
   "execution_count": null,
   "id": "50c24ac2-6fd0-43a2-90e4-aafbc2f37512",
   "metadata": {},
   "outputs": [],
   "source": [
    "class Pencere(tk.Tk):\n",
    "    def __init__(self):\n",
    "        ..."
   ]
  },
  {
   "cell_type": "markdown",
   "id": "59303a2a-b497-4dac-96d0-0e4b171c7a7e",
   "metadata": {},
   "source": [
    "Ancak kendi __init__() metodumuzu tanımlarken, Tk() sınıfının kendi __init__() metodundaki işlemleri de gölgelemememiz lazım. Dolayısıyla orijinal __init__() metodunu kendi __init__() metodumuza aktarmak için super() fonksiyonundan yararlanacağız:"
   ]
  },
  {
   "cell_type": "code",
   "execution_count": null,
   "id": "e7280682-a08b-48df-ba5a-208dd3a66976",
   "metadata": {},
   "outputs": [],
   "source": [
    "class Pencere(tk.Tk):\n",
    "    def __init__(self):\n",
    "        super().__init__()"
   ]
  },
  {
   "cell_type": "markdown",
   "id": "21a2cf4b-ef04-4d62-9052-7cdcce77f189",
   "metadata": {},
   "source": [
    "Artık taban sınıfın __init__() metodunu kendi tanımladığımız alt sınıfın __init__() metodu içinden özelleştirmeye başlayabiliriz. Öncelikle şu satırı yazıyoruz:"
   ]
  },
  {
   "cell_type": "code",
   "execution_count": null,
   "id": "f34f0b83-3b95-484e-97b0-086a7c2fb7c9",
   "metadata": {},
   "outputs": [],
   "source": [
    "self.protocol('WM_DELETE_WINDOW', self.çıkış)"
   ]
  },
  {
   "cell_type": "markdown",
   "id": "9365af46-a4aa-4a99-ae17-6bbfde29e093",
   "metadata": {},
   "source": [
    "protocol() metodunun öntanımlı davranışı, pencerenin ‘X’ düğmesine basıldığında programı sonlandırmaktır. İşte biz bu öntanımlı davranışı değiştirmek için protocol() metodunu içeren kodu tekrar tanımlıyoruz ve ‘X’ düğmesine basıldığında çıkış() fonksiyonunun çalışmasını sağlıyoruz.\n",
    "\n",
    "Daha sonra normal bir şekilde etiketimizi ve düğmemizi tanımlıyoruz:"
   ]
  },
  {
   "cell_type": "code",
   "execution_count": null,
   "id": "bde326d4-6199-4615-b834-c4de079badbb",
   "metadata": {},
   "outputs": [],
   "source": [
    "self.etiket = tk.Label(text='Merhaba Zalim Dünya')\n",
    "self.etiket.pack()\n",
    "\n",
    "self.düğme = tk.Button(text='Çık', command=self.çıkış)\n",
    "self.düğme.pack()"
   ]
  },
  {
   "cell_type": "markdown",
   "id": "bdf2ec03-9f5b-4837-888e-675b2990a7a1",
   "metadata": {},
   "source": [
    "İki farklı yerde atıfta bulunduğumuz çıkış() fonksiyonumuz ise şöyle:"
   ]
  },
  {
   "cell_type": "code",
   "execution_count": null,
   "id": "f940eb8a-30fb-4d45-b642-308fba12078e",
   "metadata": {},
   "outputs": [],
   "source": [
    "def çıkış(self):\n",
    "    self.etiket['text'] = 'Elveda zalim dünya...'\n",
    "    self.düğme['text'] = 'Bekleyin...'\n",
    "    self.düğme['state'] = 'disabled'\n",
    "    self.after(2000, self.destroy)"
   ]
  },
  {
   "cell_type": "markdown",
   "id": "6032cc57-ece5-4589-99fb-6f65aa9fc4ae",
   "metadata": {},
   "source": [
    "Son olarak da şu kodları yazıp programımızı tamamlıyoruz:"
   ]
  },
  {
   "cell_type": "code",
   "execution_count": null,
   "id": "7ea2de23-71cc-4c96-8b89-3869e57a65c0",
   "metadata": {},
   "outputs": [],
   "source": [
    "pencere = Pencere()\n",
    "pencere.mainloop()"
   ]
  },
  {
   "cell_type": "markdown",
   "id": "f9ee4f9c-915e-482a-93a8-01e962e66237",
   "metadata": {},
   "source": [
    "Elbette zevkler ve renkler tartışılmaz, ancak ben yukarıdaki kodları, prosedürel kodlara göre çok daha düzgün, düzenli, anlaşılır ve okunaklı bulduğumu, bu kodlara baktığımda, programı oluşturan parçaların prosedürel kodlara kıyasla daha yerli yerinde olduğunu düşündüğümü söylemeden de geçmeyeceğim…\n",
    "\n",
    "Eğer siz aksini düşünüyorsanız sizi prosedürel yolu tercih etmekten alıkoyan hiçbir şeyin olmadığını da bilin. Ancak tabii ki bu, nesne tabanlı programlamadan kaçabileceğiniz anlamına da gelmiyor! Unutmayın, bu yaklaşımı siz kullanmasanız da başkaları kullanıyor."
   ]
  },
  {
   "cell_type": "markdown",
   "id": "57f06485-9a8a-4aee-8b90-4a542b0f92a2",
   "metadata": {},
   "source": [
    "+++++++++++++++Çoklu Miras Alma\n",
    "\n",
    "Python’da bir sınıf, aynı anda birden fazla sınıfı da miras alabilir. Eğer yazdığınız bir uygulamada birden fazla taban sınıftan nitelik ve metot miras almanız gerekirse bunu şu şekilde gerçekleştirebilirsiniz:"
   ]
  },
  {
   "cell_type": "code",
   "execution_count": null,
   "id": "33473fd2-b4af-46da-a0a1-67d0b7e3a416",
   "metadata": {},
   "outputs": [],
   "source": [
    "class Sınıf(taban_sınıf1, taban_sınıf2):\n",
    "    pass"
   ]
  },
  {
   "cell_type": "markdown",
   "id": "2bcc52df-15af-4269-b0fa-90b0c1b2edfe",
   "metadata": {},
   "source": [
    "Bu şekilde hem taban_sınıf1 hem de taban_sınıf2’de bulunan nitelik ve metotlar aynı anda Sınıf adlı sınıfa dahil olacaktır.\n",
    "\n",
    "Ufak bir örnek verelim. Diyelim ki elimizde şu sınıflar var:\n",
    "\n"
   ]
  },
  {
   "cell_type": "code",
   "execution_count": null,
   "id": "0335d655-e85b-4b60-8de0-4533cee89bf1",
   "metadata": {},
   "outputs": [],
   "source": [
    "class c1:\n",
    "    sn1 = 'sn1'\n",
    "\n",
    "    def __init__(self):\n",
    "        self.ön1 = 'ön1'\n",
    "        print(self.ön1)\n",
    "\n",
    "    def örn_metot1(self):\n",
    "        self.öm1 = 'öm1'\n",
    "        return self.öm1\n",
    "\n",
    "class c2:\n",
    "    sn2 = 'sn2'\n",
    "\n",
    "    def __init__(self):\n",
    "        self.ön2 = 'ön2'\n",
    "        print(self.ön2)\n",
    "\n",
    "    def örn_metot2(self):\n",
    "        self.öm2 = 'öm2'\n",
    "        return self.öm2\n",
    "\n",
    "class c3:\n",
    "    sn3 = 'sn3'\n",
    "\n",
    "    def __init__(self):\n",
    "        self.ön3 = 'ön3'\n",
    "        print(self.ön3)\n",
    "\n",
    "    def örn_metot3(self):\n",
    "        self.öm3 = 'öm3'\n",
    "        return self.öm3"
   ]
  },
  {
   "cell_type": "markdown",
   "id": "6f113335-003b-447c-a278-92378a2f86d7",
   "metadata": {},
   "source": [
    "Burada üç farklı sınıf ve her bir sınıfın içinde de birer sınıf niteliği, birer __init__() metodu, birer örnek niteliği ve birer örnek metodu görüyoruz.\n",
    "\n",
    "Şimdi bu üç sınıfı birden taban sınıf olarak miras alan dördüncü bir sınıf tanımlayalım:"
   ]
  },
  {
   "cell_type": "code",
   "execution_count": null,
   "id": "c331e483-38af-4ad2-b9da-12a76bbcc2ee",
   "metadata": {},
   "outputs": [],
   "source": [
    "class c4(c1, c2, c3):\n",
    "    pass"
   ]
  },
  {
   "cell_type": "markdown",
   "id": "35b2310f-5a18-488a-b398-a8332ede45db",
   "metadata": {},
   "source": [
    "Burada, taban sınıf vazifesi görecek sınıfların adını c4 sınıfının parantezleri arasına tek tek yerleştirdiğimize dikkat edin. Bu şekilde c1, c2 ve c3 adlı sınıfları aynı anda miras almış oluyoruz. İşte bu mekanizmaya Python’da çoklu miras alma (multiple inheritance) adı veriliyor.\n",
    "\n",
    "Tek bir sınıfı miras aldığınızda hangi kurallar geçerliyse, birden fazla sınıfı miras aldığınızda da temel olarak aynı kurallar geçerlidir. Ancak çoklu miras almada birden fazla sınıf söz konusu olduğu için, miras alınan sınıfların da kendi aralarında veya başka sınıflarla nitelik ve/veya metot alışverişi yapması halinde ortaya çıkabilecek beklenmedik durumlara karşı dikkatli olmalısınız. Ayrıca çoklu miras alma işlemi sırasında, aynı adı taşıyan metotlardan yalnızca birinin miras alınacağını da unutmayın.\n",
    "\n",
    "Örneğin:"
   ]
  },
  {
   "cell_type": "code",
   "execution_count": null,
   "id": "fcd96cec-5f8e-455d-b504-34e5e8170f23",
   "metadata": {},
   "outputs": [],
   "source": [
    "class c1:\n",
    "    sn1 = 'sn1'\n",
    "\n",
    "    def __init__(self):\n",
    "        self.ön1 = 'ön1'\n",
    "        print(self.ön1)\n",
    "\n",
    "    def örn_metot1(self):\n",
    "        self.öm1 = 'öm1'\n",
    "        return self.öm1\n",
    "\n",
    "    def ortak_metot(self):\n",
    "        self.om = 'ortak metot_c1'\n",
    "        return self.om\n",
    "\n",
    "class c2:\n",
    "    sn2 = 'sn2'\n",
    "\n",
    "    def __init__(self):\n",
    "        self.ön2 = 'ön2'\n",
    "        print(self.ön2)\n",
    "\n",
    "    def örn_metot2(self):\n",
    "        self.öm2 = 'öm2'\n",
    "        return self.öm2\n",
    "\n",
    "    def ortak_metot(self):\n",
    "        self.om = 'ortak metot_c2'\n",
    "        return self.om\n",
    "\n",
    "class c3:\n",
    "    sn3 = 'sn3'\n",
    "\n",
    "    def __init__(self):\n",
    "        self.ön3 = 'ön3'\n",
    "        print(self.ön3)\n",
    "\n",
    "    def örn_metot3(self):\n",
    "        self.öm3 = 'öm3'\n",
    "        return self.öm3\n",
    "\n",
    "    def ortak_metot(self):\n",
    "        self.om = 'ortak metot_c3'\n",
    "        return self.om\n",
    "\n",
    "class c4(c1, c2, c3):\n",
    "    def __init__(self):\n",
    "        super().__init__()"
   ]
  },
  {
   "cell_type": "markdown",
   "id": "d1241a61-cf78-4116-a107-fcf85daa15cf",
   "metadata": {},
   "source": [
    "Burada, aynı adı taşıyan __init__() ve ortak_metot() adlı metotlardan yalnızca biri miras alınacaktır. Bunlardan hangisinin miras alınacağını az çok tahmin etmişsinizdir. Evet, doğru bildiniz. Miras alma listesinde hangi sınıf önde geliyorsa onun metotları miras alınacaktır:\n",
    "\n"
   ]
  },
  {
   "cell_type": "code",
   "execution_count": null,
   "id": "b5e33598-1889-4d7f-b4af-08b8c2286768",
   "metadata": {},
   "outputs": [],
   "source": [
    "s = c4()\n",
    "print(s.ortak_metot())"
   ]
  },
  {
   "cell_type": "markdown",
   "id": "c74bf318-8128-4e0f-90e9-0cbc5f0f55e5",
   "metadata": {},
   "source": [
    "Gördüğünüz gibi, c4() sınıfı önce c1 sınıfını miras aldığı için hep c1 sınıfının metotları öncelik kazanıyor.\n",
    "\n",
    "Eğer sınıfları class c4(c2, c3, c1): şeklinde miras alsaydık, bu kez de c2 sınıfının metotları öncelik kazanacaktı.\n",
    "\n",
    "Elbette, Python’ın sizin için belirlediği öncelik sırası yerine kendi belirlediğiniz öncelik sırasını da dayatabilirsiniz:\n",
    "\n"
   ]
  },
  {
   "cell_type": "code",
   "execution_count": null,
   "id": "064dc767-0482-4c36-b77d-3bba59ddfbc6",
   "metadata": {},
   "outputs": [],
   "source": [
    "class c4(c1, c2, c3):\n",
    "    def __init__(self):\n",
    "        c2.__init__(self)\n",
    "\n",
    "    def ortak_metot(self):\n",
    "        return c3.ortak_metot(self)"
   ]
  },
  {
   "cell_type": "markdown",
   "id": "adabfc6d-d598-448b-b82a-36319a4a8e08",
   "metadata": {},
   "source": [
    "Burada c2 sınıfının __init__() metodu ile c3 sınıfının ortak_metot’una miras önceliği verdik.\n",
    "\n"
   ]
  },
  {
   "cell_type": "markdown",
   "id": "062a1b55-a4aa-4985-aa5c-857b509cab65",
   "metadata": {},
   "source": [
    "+++++++++++++++__Dahil Etme__\n",
    "\n",
    "Bir sınıftaki nitelik ve metotları başka bir sınıf içinde kullanmanın tek yolu ilgili sınıf veya sınıfları miras almak değildir. Hatta bazı durumlarda, miras alma iyi bir yöntem dahi olmayabilir. Özellikle birden fazla sınıfa ait nitelik ve metotlara ihtiyaç duyduğumuzda, çoklu miras alma yöntemini kullanmak yerine, dahil etme (composition) denen yöntemi tercih edebiliriz.\n",
    "\n",
    "Peki nedir bu dahil etme denen şey? Adından da anlaşılacağı gibi, dahil etme yönteminde, taban sınıfın nitelik ve metotlarını miras almak yerine, alt sınıf içine dahil ediyoruz. Esasında biz bunun örneğini görmüştük. Şu kodu hatırlıyorsunuz:"
   ]
  },
  {
   "cell_type": "code",
   "execution_count": null,
   "id": "3f07afeb-6a57-4150-9e97-e52460b59871",
   "metadata": {},
   "outputs": [],
   "source": [
    "import tkinter as tk\n",
    "\n",
    "class Pencere(tk.Tk):\n",
    "    def __init__(self):\n",
    "        super().__init__()\n",
    "        self.protocol('WM_DELETE_WINDOW', self.çıkış)\n",
    "\n",
    "        self.etiket = tk.Label(text='Merhaba Zalim Dünya')\n",
    "        self.etiket.pack()\n",
    "\n",
    "        self.düğme = tk.Button(text='Çık', command=self.çıkış)\n",
    "        self.düğme.pack()\n",
    "\n",
    "    def çıkış(self):\n",
    "        self.etiket['text'] = 'Elveda zalim dünya...'\n",
    "        self.düğme['text'] = 'Bekleyin...'\n",
    "        self.düğme['state'] = 'disabled'\n",
    "        self.after(2000, self.destroy)\n",
    "\n",
    "pencere = Pencere()\n",
    "pencere.mainloop()"
   ]
  },
  {
   "cell_type": "markdown",
   "id": "5de10066-8810-4780-a715-174925e07a81",
   "metadata": {},
   "source": [
    "Burada aynı anda hem miras alma hem de dahil etme yönteminden yararlanıyoruz. İlk önce Tk() sınıfını miras aldık. Böylece bu sınıfın nitelik ve metotlarına doğrudan erişim elde ettik. Etiket ve düğme oluşturmamızı sağlayan Label() ve Button() sınıflarını ise Pencere() sınıfımız içine dahil ettik. Böylece bu sınıfların nitelik ve metotlarına sırasıyla self.etiket ve self.düğme adları altında erişim kazandık.\n",
    "\n",
    "Miras alma ve dahil etme yöntemleri arasında tercih yaparken genel yaklaşımımız şu olacak: Eğer yazdığımız uygulama, bir başka sınıfın türevi ise, o sınıfı miras alacağız. Ama eğer bir sınıf, yazdığımız uygulamanın bir parçası ise o sınıfı uygulamamıza dahil edeceğiz.\n",
    "\n",
    "Yani mesela yukarıdaki örnekte temel olarak yaptığımız şey bir uygulama penceresi tasarlamaktır. Dolayısıyla uygulama penceremiz, tk.Tk() sınıfının doğrudan bir türevidir. O yüzden bu sınıfı miras almayı tercih ediyoruz.\n",
    "\n",
    "Pencere üzerine etiket ve düğme yerleştirmemizi sağlayan Label() ve Button() sınıfları ise, uygulama penceresinin birer parçasıdır. Dolayısıyla bu sınıfları uygulamamızın içine dahil ediyoruz.\n",
    "\n",
    "Yukarıda anlattığımız iki farklı ilişki türü ‘olma ilişkisi’ (is-a relationship) ve ‘sahiplik ilişkisi’ (has-a relationship) olarak adlandırılabilir. Olma ilişkisinde, bir sınıf ötekinin türevidir. Sahip olma ilişkisinde ise bir sınıf öteki sınıfın parçasıdır. Eğer iki sınıf arasında ‘olma ilişkisi’ varsa miras alma yöntemini kullanıyoruz. Ama eğer iki sınıf arasında ‘sahiplik ilişkisi’ varsa dahil etme yöntemini kullanıyoruz."
   ]
  },
  {
   "cell_type": "code",
   "execution_count": null,
   "id": "3dd52c71-e58e-4bc3-aa6f-951b7ce23992",
   "metadata": {},
   "outputs": [],
   "source": []
  }
 ],
 "metadata": {
  "kernelspec": {
   "display_name": "Python 3 (ipykernel)",
   "language": "python",
   "name": "python3"
  },
  "language_info": {
   "codemirror_mode": {
    "name": "ipython",
    "version": 3
   },
   "file_extension": ".py",
   "mimetype": "text/x-python",
   "name": "python",
   "nbconvert_exporter": "python",
   "pygments_lexer": "ipython3",
   "version": "3.10.12"
  }
 },
 "nbformat": 4,
 "nbformat_minor": 5
}
