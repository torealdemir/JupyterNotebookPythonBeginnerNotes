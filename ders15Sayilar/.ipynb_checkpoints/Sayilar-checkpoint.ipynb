{
 "cells": [
  {
   "cell_type": "markdown",
   "id": "a182c722-c071-4258-a078-54825fe18ecc",
   "metadata": {},
   "source": [
    "Sayılar\n",
    "Geçen bölümde sayma sistemlerini ayrıntılı bir şekilde inceledik. Bu bölümde ise yine bununla bağlantılı bir konu olan sayılar konusunu ele alacağız. Esasında biz sayıların ne olduğuna ve Python’da bunların nasıl kullanılacağına dair tamamen bilgisiz değiliz. Buraya gelene kadar, sayılar konusunda epey şey söyledik aslında. Mesela biz Python’da üç tür sayı olduğunu biliyoruz:\n",
    "\n",
    "Tam Sayılar (integers)\n",
    "\n",
    "Kayan Noktalı Sayılar (floating point numbers veya kısaca floats)\n",
    "\n",
    "Karmaşık Sayılar (complex numbers)\n",
    "\n",
    "Eğer bir veri type(veri) sorgulamasına int cevabı veriyorsa o veri bir tam sayıdır. Eğer bir veri type(veri) sorgulamasına float cevabı veriyorsa o veri bir kayan noktalı sayıdır. Eğer bir veri type(veri) sorgulamasına complex cevabını veriyorsa o veri bir karmaşık sayıdır.\n",
    "\n",
    "Mesela şunlar birer tam sayıdır:\n",
    "\n",
    "15, 4, 33\n",
    "\n",
    "Şunlar birer kayan noktalı sayıdır:\n",
    "\n",
    "3.5, 6.6, 2.3\n",
    "\n",
    "Şunlarsa birer karmaşık sayıdır:\n",
    "\n",
    "3+3j, 5+2j, 19+10j\n",
    "\n",
    "Ayrıca şimdiye kadar öğrendiklerimiz sayesinde bu sayıların çeşitli fonksiyonlar yardımıyla birbirlerine dönüştürülebileceğini de biliyoruz:\n",
    "\n",
    "Fonksiyon\n",
    "\n",
    "Görevi\n",
    "\n",
    "Örnek\n",
    "\n",
    "int()\n",
    "\n",
    "Bir veriyi tam sayıya dönüştürür\n",
    "\n",
    "int('2')\n",
    "\n",
    "float()\n",
    "\n",
    "Bir veriyi kayan noktalı sayıya dönüştürür\n",
    "\n",
    "float(2)\n",
    "\n",
    "complex()\n",
    "\n",
    "Bir veriyi karmaşık sayıya dönüştürür\n",
    "\n",
    "complex(2)\n",
    "\n",
    "Dediğimiz gibi, bunlar bizim zaten sayılara dair bildiğimiz şeyler. Elbette bir de henüz öğrenmediklerimiz var.\n",
    "\n",
    "Gelin şimdi bunların neler olduğunu inceleyelim.\n",
    "\n",
    "+++++++++++++++Sayıların Metotları\n",
    "\n",
    "\n",
    "Tıpkı öteki veri tiplerinde olduğu gibi, sayıların da bazı metotları bulunur. Bu metotları kullanarak sayılar üzerinde çeşitli işlemler gerçekleştirebiliriz.\n",
    "\n",
    "++++++++++++++Tam Sayıların Metotları\n",
    "\n",
    "\n",
    "Dediğimiz gibi, Python’da birkaç farklı sayı tipi bulunur. Biz ilk olarak tam sayı (integer) denen sayı tipinin metot ve niteliklerini inceleyeceğiz.\n",
    "\n",
    "Öncelikle hangi metotlar ve niteliklerle karşı karşıya olduğumuza bakalım:"
   ]
  },
  {
   "cell_type": "code",
   "execution_count": 1,
   "id": "27a57b43-dc3f-448f-8445-465f0e81de95",
   "metadata": {},
   "outputs": [
    {
     "data": {
      "text/plain": [
       "['as_integer_ratio',\n",
       " 'bit_count',\n",
       " 'bit_length',\n",
       " 'conjugate',\n",
       " 'denominator',\n",
       " 'from_bytes',\n",
       " 'imag',\n",
       " 'numerator',\n",
       " 'real',\n",
       " 'to_bytes']"
      ]
     },
     "execution_count": 1,
     "metadata": {},
     "output_type": "execute_result"
    }
   ],
   "source": [
    "[i for i in dir(int) if not i.startswith(\"_\")]"
   ]
  },
  {
   "cell_type": "markdown",
   "id": "10efe693-5ab1-4864-b8d8-a1104cb7b95c",
   "metadata": {},
   "source": [
    "Bu listede şimdilik bizi ilgilendiren tek bir metot var. Bu metodun adı bit_length().\n",
    "\n",
    "\n",
    "\n",
    "\n",
    "+++++++++bit_length()\n",
    "\n",
    "\n",
    "Bilgisayarlar hakkında bilmemiz gereken en önemli bilgilerden biri şudur: Bilgisayarlar ancak ve ancak sayılarla işlem yapabilir. Bilgisayarların işlem yapabildiği sayılar da onlu sistemdeki sayılar değil, ikili sistemdeki sayılardır. Yani 0’lar ve 1’ler.\n",
    "\n",
    "Bilgisayar terminolojisinde bu 0’lar ve 1’lerden oluşan herbir basamağa ‘bit’ adı verilir. Yani ikili sayma sisteminde ‘0’ ve ‘1’ sayılarından herbiri 1 bit’tir. Mesela onlu sistemde 2 sayısının ikili sistemdeki karşılığı olan 10 sayısı iki bit’lik bir sayıdır. Onlu sistemdeki 100 sayısının ikili sistemdeki karşılığı olan 1100100 sayısı ise yedi bitlik bir sayıdır.\n",
    "\n",
    "Bu durumu daha net bir şekilde görebilmek için şu kodları yazalım:\n",
    "\n"
   ]
  },
  {
   "cell_type": "code",
   "execution_count": 2,
   "id": "f9598794-04b1-4726-a3d2-e6fcb87e91b1",
   "metadata": {},
   "outputs": [
    {
     "name": "stdout",
     "output_type": "stream",
     "text": [
      "0\t0\t1\n",
      "1\t1\t1\n",
      "2\t10\t2\n",
      "3\t11\t2\n",
      "4\t100\t3\n",
      "5\t101\t3\n",
      "6\t110\t3\n",
      "7\t111\t3\n",
      "8\t1000\t4\n",
      "9\t1001\t4\n",
      "10\t1010\t4\n"
     ]
    }
   ],
   "source": [
    "for i in range(11):\n",
    "    print(i, bin(i)[2:], len(bin(i)[2:]), sep=\"\\t\")"
   ]
  },
  {
   "cell_type": "markdown",
   "id": "147566b3-d142-45ce-8626-4e94dd84ff13",
   "metadata": {},
   "source": [
    "Burada ikinci sütundaki sayılar ilk sütundaki sayıların ikili sistemdeki karşılıklarıdır. Üçüncü sütundaki sayılar ise her bir sayının kaç bit olduğunu, yani bir bakıma ikili sayma sisteminde kaç basamağa sahip olduğunu gösteriyor.\n",
    "\n",
    "İşte herhangi bir tam sayının kaç bit’lik bir yer kapladığını öğrenmek için, tam sayıların metotlarından biri olan bit_length() metodundan yararlanacağız:"
   ]
  },
  {
   "cell_type": "code",
   "execution_count": 3,
   "id": "663e72e8-cf5d-40db-823a-81043e051c75",
   "metadata": {},
   "outputs": [
    {
     "data": {
      "text/plain": [
       "4"
      ]
     },
     "execution_count": 3,
     "metadata": {},
     "output_type": "execute_result"
    }
   ],
   "source": [
    "sayı = 10\n",
    "sayı.bit_length()"
   ]
  },
  {
   "cell_type": "markdown",
   "id": "0af34544-801a-4d9d-b6fd-5b99cf2bfe36",
   "metadata": {},
   "source": [
    "Demek ki 10 sayısı bellekte dört bitlik bir yer kaplıyormuş. Yani bu sayının ikili sistemdeki karşılığı olan 1010 sayısı dört basamaktan oluşuyormuş.\n",
    "\n",
    "Yukarıdaki örneklerden de rahatlıkla çıkarabileceğiniz gibi, bit_length() metodu, ikili sayma sistemindeki bir sayı üzerine len() fonksiyonunun uygulanması ile eşdeğerdir. Yani:"
   ]
  },
  {
   "cell_type": "code",
   "execution_count": 4,
   "id": "65f0c238-d844-4158-98b8-05b813e74b49",
   "metadata": {},
   "outputs": [
    {
     "data": {
      "text/plain": [
       "True"
      ]
     },
     "execution_count": 4,
     "metadata": {},
     "output_type": "execute_result"
    }
   ],
   "source": [
    "len(bin(10)[2:]) == (10).bit_length()"
   ]
  },
  {
   "cell_type": "markdown",
   "id": "cc1a5b77-c565-4ef3-a94b-ab842e81cecf",
   "metadata": {},
   "source": [
    "Bu arada şu son örnekte bir şey dikkatinizi çekmiş olmalı: bit_length() metodunu doğrudan sayılar üzerine uygulayamıyoruz. Yani:\n",
    "\n"
   ]
  },
  {
   "cell_type": "code",
   "execution_count": 5,
   "id": "0fcbe11e-1c80-411f-9f89-0e3bb4f0c682",
   "metadata": {},
   "outputs": [
    {
     "ename": "SyntaxError",
     "evalue": "invalid decimal literal (2256983267.py, line 1)",
     "output_type": "error",
     "traceback": [
      "\u001b[0;36m  Cell \u001b[0;32mIn[5], line 1\u001b[0;36m\u001b[0m\n\u001b[0;31m    10.bit_length()\u001b[0m\n\u001b[0m      ^\u001b[0m\n\u001b[0;31mSyntaxError\u001b[0m\u001b[0;31m:\u001b[0m invalid decimal literal\n"
     ]
    }
   ],
   "source": [
    "10.bit_length()"
   ]
  },
  {
   "cell_type": "markdown",
   "id": "048cfee1-13c3-4f6c-8810-13a671924980",
   "metadata": {},
   "source": [
    "Bu metodu sayılarla birlikte kullanabilmek için iki seçeneğimiz var: bit_length() metodunu uygulamak istediğimiz sayıyı önce bir değişkene atayabiliriz:"
   ]
  },
  {
   "cell_type": "code",
   "execution_count": 6,
   "id": "80e01407-4ad0-4ce3-8f13-8d4370b57ac3",
   "metadata": {},
   "outputs": [
    {
     "data": {
      "text/plain": [
       "4"
      ]
     },
     "execution_count": 6,
     "metadata": {},
     "output_type": "execute_result"
    }
   ],
   "source": [
    "a = 10\n",
    "a.bit_length()"
   ]
  },
  {
   "cell_type": "markdown",
   "id": "ff0af1c9-e06a-43fd-9385-33bbe6bc030c",
   "metadata": {},
   "source": [
    "…veya ilgili sayıyı parantez içine alabiliriz:"
   ]
  },
  {
   "cell_type": "code",
   "execution_count": 7,
   "id": "b93af23a-88ed-4b98-b75d-59b5bf7dafcb",
   "metadata": {},
   "outputs": [
    {
     "data": {
      "text/plain": [
       "4"
      ]
     },
     "execution_count": 7,
     "metadata": {},
     "output_type": "execute_result"
    }
   ],
   "source": [
    "(10).bit_length()"
   ]
  },
  {
   "cell_type": "markdown",
   "id": "74e05a36-e941-4ffa-8459-5b9d101aa3a2",
   "metadata": {},
   "source": [
    "Bu durum, yani sayıyı parantez içinde gösterme zorunluluğu, 10 sayısının sağına bir nokta işareti koyduğumuzda, Python’ın bu sayıyı bir kayan noktalı sayı olarak değerlendirmesinden kaynaklanıyor. Yani biz ‘10’ yazıp, bit_length() metodunu bu sayıya bağlama amacıyla sayının sağına bir nokta koyduğumuz anda, Python bu sayının bir kayan noktalı sayı olduğunu zannediyor. Çünkü Python açısından, 10. sayısı bir kayan noktalı sayıdır. Bunu teyit edelim:"
   ]
  },
  {
   "cell_type": "code",
   "execution_count": 8,
   "id": "b727705e-9f39-47a0-a0b1-7e8996e83532",
   "metadata": {},
   "outputs": [
    {
     "data": {
      "text/plain": [
       "float"
      ]
     },
     "execution_count": 8,
     "metadata": {},
     "output_type": "execute_result"
    }
   ],
   "source": [
    "type(10.)"
   ]
  },
  {
   "cell_type": "markdown",
   "id": "64bf01c4-ce85-4f9d-bb92-5593fcb31357",
   "metadata": {},
   "source": [
    "\n",
    "Kayan noktalı sayıların bit_length() adlı bir metodu olmadığı için de Python’ın bize bir hata mesajı göstermekten başka yapabileceği bir şey kalmıyor.\n",
    "\n"
   ]
  },
  {
   "cell_type": "markdown",
   "id": "a7fd59d2-5225-4e85-8e88-8e1fc6663bae",
   "metadata": {},
   "source": [
    "+++++++++Kayan Noktalı Sayıların Metotları\n",
    "\n",
    "\n",
    "Python’da tam sayılar dışında kayan noktalı sayıların da olduğunu biliyoruz. Bu sayı tipinin şu metotları vardır:"
   ]
  },
  {
   "cell_type": "code",
   "execution_count": 9,
   "id": "46d61417-a51a-49ad-af6e-53dc2d785001",
   "metadata": {},
   "outputs": [
    {
     "data": {
      "text/plain": [
       "['as_integer_ratio',\n",
       " 'conjugate',\n",
       " 'fromhex',\n",
       " 'hex',\n",
       " 'imag',\n",
       " 'is_integer',\n",
       " 'real']"
      ]
     },
     "execution_count": 9,
     "metadata": {},
     "output_type": "execute_result"
    }
   ],
   "source": [
    "[i for i in dir(float) if not i.startswith(\"_\")]"
   ]
  },
  {
   "cell_type": "markdown",
   "id": "4660ad10-3bc2-4eb4-ae8b-d84e25315c77",
   "metadata": {},
   "source": [
    "Biz bu metotlar arasından, as_integer_ratio() ve is_integer() adlı metotlarla ilgileneceğiz.\n",
    "\n",
    "+++++++++++++as_integer_ratio()\n",
    "\n",
    "\n",
    "Bu metot, birbirine bölündüğünde ilgili kayan noktalı sayıyı veren iki adet tam sayı verir bize. Örnek üzerinden açıklayalım:"
   ]
  },
  {
   "cell_type": "code",
   "execution_count": 10,
   "id": "62f8fdf5-f972-4696-8e9b-67aad98c4be0",
   "metadata": {},
   "outputs": [
    {
     "data": {
      "text/plain": [
       "(9, 2)"
      ]
     },
     "execution_count": 10,
     "metadata": {},
     "output_type": "execute_result"
    }
   ],
   "source": [
    "sayı = 4.5\n",
    "sayı.as_integer_ratio()\n"
   ]
  },
  {
   "cell_type": "markdown",
   "id": "3c3df404-fed7-40f6-a571-51c50ddfda38",
   "metadata": {},
   "source": [
    "9 sayısını 2 sayısına böldüğümüzde 4.5 sayısını elde ederiz. İşte as_integer_ratio() metodu, bu 9 ve 2 sayılarını bize ayrı ayrı verir."
   ]
  },
  {
   "cell_type": "markdown",
   "id": "c65ff7ee-3d6a-48a4-b710-bf16a35901f1",
   "metadata": {},
   "source": [
    "++++++is_integer()\n",
    "\n",
    "\n",
    "Bir kayan noktalı sayının ondalık kısmında 0 harici bir sayının olup olmadığını kontrol etmek için bu metodu kullanıyoruz. Örneğin:"
   ]
  },
  {
   "cell_type": "code",
   "execution_count": 11,
   "id": "98b8b1ec-2998-40ed-9f12-342b481f00aa",
   "metadata": {},
   "outputs": [
    {
     "data": {
      "text/plain": [
       "True"
      ]
     },
     "execution_count": 11,
     "metadata": {},
     "output_type": "execute_result"
    }
   ],
   "source": [
    "(12.0).is_integer()"
   ]
  },
  {
   "cell_type": "code",
   "execution_count": 12,
   "id": "3bfc7a41-4c0e-4d71-9672-dbd1d36ffe03",
   "metadata": {},
   "outputs": [
    {
     "data": {
      "text/plain": [
       "False"
      ]
     },
     "execution_count": 12,
     "metadata": {},
     "output_type": "execute_result"
    }
   ],
   "source": [
    "(12.5).is_integer()"
   ]
  },
  {
   "cell_type": "markdown",
   "id": "caec3c68-3e77-45df-b15c-f163408c309e",
   "metadata": {},
   "source": [
    "++++++++Karmaşık Sayıların Metotları\n",
    "\n",
    "Gelelim karmaşık sayıların metot ve niteliklerine…\n"
   ]
  },
  {
   "cell_type": "code",
   "execution_count": 14,
   "id": "7d8178a0-978a-4ce5-b22e-cf08f75e3466",
   "metadata": {},
   "outputs": [
    {
     "data": {
      "text/plain": [
       "['conjugate', 'imag', 'real']"
      ]
     },
     "execution_count": 14,
     "metadata": {},
     "output_type": "execute_result"
    }
   ],
   "source": [
    "[i for i in dir(complex) if not i.startswith(\"_\")]"
   ]
  },
  {
   "cell_type": "markdown",
   "id": "6b051ea3-a432-4896-9ddd-1e47ae06f0fa",
   "metadata": {},
   "source": [
    "\n",
    "Gördüğünüz gibi, karmaşık sayıların da birkaç tane metot ve niteliği var. Biz bunlar arasından imag ve real adlı nitelikleri inceleyeceğiz.\n",
    "\n"
   ]
  },
  {
   "cell_type": "markdown",
   "id": "a5f0c3fd-ec5d-4a6b-8cd6-04fa9c8edbf1",
   "metadata": {},
   "source": [
    "++++++++++imag\n",
    "\n",
    "\n",
    "Bir gerçek bir de sanal kısımdan oluşan sayılara karmaşık sayılar (complex) adı verildiğini biliyorsunuz. Örneğin şu bir karmaşık sayıdır:"
   ]
  },
  {
   "cell_type": "markdown",
   "id": "83569c21-322c-45cc-ae6b-3b01ff490948",
   "metadata": {},
   "source": [
    "12+4j\n",
    "\n",
    "İşte imag adlı nitelik, bize bir karmaşık sayının sanal kısmını verir:\n",
    "\n"
   ]
  },
  {
   "cell_type": "code",
   "execution_count": 15,
   "id": "ee6dad3e-f23f-4d91-9db2-6f1441ca7eb6",
   "metadata": {},
   "outputs": [
    {
     "data": {
      "text/plain": [
       "4.0"
      ]
     },
     "execution_count": 15,
     "metadata": {},
     "output_type": "execute_result"
    }
   ],
   "source": [
    "c = 12+4j\n",
    "c.imag\n"
   ]
  },
  {
   "cell_type": "markdown",
   "id": "a24f050e-2415-4f86-8339-55e69ad5ebbe",
   "metadata": {},
   "source": [
    "+++++++++real\n",
    "\n",
    "\n",
    "real adlı nitelik bize bir karmaşık sayının gerçek kısmını verir:"
   ]
  },
  {
   "cell_type": "code",
   "execution_count": 16,
   "id": "64731101-8b81-42ea-ad78-59ce43e80f1e",
   "metadata": {},
   "outputs": [
    {
     "data": {
      "text/plain": [
       "12.0"
      ]
     },
     "execution_count": 16,
     "metadata": {},
     "output_type": "execute_result"
    }
   ],
   "source": [
    "c = 12+4j\n",
    "c.real"
   ]
  },
  {
   "cell_type": "markdown",
   "id": "4361d70a-14b0-4dd2-b9a7-c012acefb75c",
   "metadata": {},
   "source": [
    "++++++++++Aritmetik Fonksiyonlar\n",
    "\n",
    "\n",
    "Python programlama dili, bize sayılarla rahat çalışabilmemiz için bazı fonksiyonlar sunar. Bu fonksiyonları kullanarak, karmaşık aritmetik işlemleri kolayca yapabiliriz.\n",
    "\n",
    "Biz bu bölümde Python’ın bize sunduğu bu gömülü fonksiyonları tek tek inceleyeceğiz.\n",
    "\n",
    "Gömülü fonksiyonlar, Python programlama dilinde, herhangi bir özel işlem yapmamıza gerek olmadan, kodlarımız içinde doğrudan kullanabileceğimiz fonksiyonlardır. Biz şimdiye kadar pek çok gömülü fonksiyonla zaten tanışmıştık. O yüzden gömülü fonksiyonlar bizim yabancısı olduğumuz bir konu değil. Mesela buraya gelene kadar gördüğümüz, len(), range(), type(), open(), print() ve id() gibi fonksiyonların tamamı birer gömülü fonksiyondur. Biz bu fonksiyonları ilerleyen derslerde çok daha ayrıntılı bir şekilde inceleyeceğiz. Ama şu anda bile fonksiyonlar konusunda epey bilgiye sahibiz.\n",
    "\n",
    "Şimdiye kadar öğrendiğimiz gömülü fonksiyonlardan şu listede yer alanlar, matematik işlemlerinde kullanılmaya uygun olanlardır:"
   ]
  },
  {
   "cell_type": "raw",
   "id": "db1128ce-bd6c-4a69-9e92-b75fb38ffdb5",
   "metadata": {},
   "source": [
    "complex()\n",
    "\n",
    "float()\n",
    "\n",
    "int()\n",
    "\n",
    "pow()\n",
    "\n",
    "round()\n",
    "\n",
    "hex()\n",
    "\n",
    "oct()\n",
    "\n",
    "bin()"
   ]
  },
  {
   "cell_type": "markdown",
   "id": "b35c6bb0-a01a-428a-8f7b-734279df17e8",
   "metadata": {},
   "source": [
    "Biz bu fonksiyonların ne işe yaradığını önceki derslerimizde zaten ayrıntılı olarak incelemiştik. O yüzden burada bunlardan söz etmeyeceğiz. Onun yerine, henüz öğrenmediğimiz, ama mutlaka bilmemiz gereken gömülü fonksiyonları ele alacağız.\n",
    "\n",
    "O halde hiç vakit kaybetmeden yola koyulalım…\n",
    "\n"
   ]
  },
  {
   "cell_type": "markdown",
   "id": "47f15f23-767f-486e-9d5b-cb27631bae71",
   "metadata": {},
   "source": [
    "++++++++++++abs()\n",
    "\n",
    "\n",
    "Bu fonksiyon bize bir sayının mutlak değerini verir:"
   ]
  },
  {
   "cell_type": "code",
   "execution_count": 17,
   "id": "9359c627-521c-4bcf-a9ef-9c41a2a3dcae",
   "metadata": {},
   "outputs": [
    {
     "data": {
      "text/plain": [
       "2"
      ]
     },
     "execution_count": 17,
     "metadata": {},
     "output_type": "execute_result"
    }
   ],
   "source": [
    "abs(-2)"
   ]
  },
  {
   "cell_type": "code",
   "execution_count": 18,
   "id": "c532dc2e-89b8-42b6-8104-d0cf245cdf5b",
   "metadata": {},
   "outputs": [
    {
     "data": {
      "text/plain": [
       "2"
      ]
     },
     "execution_count": 18,
     "metadata": {},
     "output_type": "execute_result"
    }
   ],
   "source": [
    "abs(2)"
   ]
  },
  {
   "cell_type": "markdown",
   "id": "8c8c40e6-b105-414f-a352-025661fb0ce1",
   "metadata": {},
   "source": [
    "++++++++++++++divmod()\n",
    "\n",
    "\n",
    "Bu fonksiyon, bir sayının bir sayıya bölünmesi işleminde bölümü ve kalanı verir:"
   ]
  },
  {
   "cell_type": "code",
   "execution_count": 19,
   "id": "4cb067d2-035f-4adc-932a-1d8bb59c49cb",
   "metadata": {},
   "outputs": [
    {
     "data": {
      "text/plain": [
       "(5, 0)"
      ]
     },
     "execution_count": 19,
     "metadata": {},
     "output_type": "execute_result"
    }
   ],
   "source": [
    "divmod(10,2)"
   ]
  },
  {
   "cell_type": "markdown",
   "id": "17107de2-b860-40bb-9818-99685e82f31c",
   "metadata": {},
   "source": [
    "10 sayısı 2 sayısına bölündüğünde ‘bölüm’ 5, ‘kalan’ ise 0’dır.\n",
    "\n",
    "Bir örnek daha verelim:"
   ]
  },
  {
   "cell_type": "code",
   "execution_count": 20,
   "id": "11d58741-9877-4d5b-9925-119fddb30241",
   "metadata": {},
   "outputs": [
    {
     "data": {
      "text/plain": [
       "(4, 2)"
      ]
     },
     "execution_count": 20,
     "metadata": {},
     "output_type": "execute_result"
    }
   ],
   "source": [
    "divmod(14, 3)"
   ]
  },
  {
   "cell_type": "markdown",
   "id": "3f207081-14c3-44b8-850d-d428ef1ece41",
   "metadata": {},
   "source": [
    "Bu sonuçtan gördüğünüz gibi, aslında divmod() fonksiyonu şu kodlarla aynı işi yapıyor:"
   ]
  },
  {
   "cell_type": "code",
   "execution_count": 21,
   "id": "59674729-cd59-47b7-9d68-2f0f9590ec37",
   "metadata": {},
   "outputs": [
    {
     "data": {
      "text/plain": [
       "(4, 2)"
      ]
     },
     "execution_count": 21,
     "metadata": {},
     "output_type": "execute_result"
    }
   ],
   "source": [
    "14 // 3, 14 % 3"
   ]
  },
  {
   "cell_type": "markdown",
   "id": "34bc9ec8-fc9b-49a8-9063-9afa48478c56",
   "metadata": {},
   "source": [
    "Bu fonksiyonun gerçekleştirdiği bölme işleminin bir ‘taban bölme’ işlemi olduğuna özellikle dikkatinizi çekmek istiyorum."
   ]
  },
  {
   "cell_type": "markdown",
   "id": "b165bf46-6ae4-4488-9863-61460f6b0e02",
   "metadata": {},
   "source": [
    "+++++++max()\n",
    "\n",
    "\n",
    "Size şöyle bir soru sorduğumu düşünün: Acaba aşağıdaki listede yer alan sayıların en büyüğü kaçtır?"
   ]
  },
  {
   "cell_type": "code",
   "execution_count": 22,
   "id": "4b3efe60-e050-4a5e-a772-ecc6809943c8",
   "metadata": {},
   "outputs": [],
   "source": [
    "sayilar = [882388, 260409, 72923, 692476, 131925, 259114, 47630, 84513, 25413, 614654,\n",
    " 239479, 299159, 175488, 345972, 458112, 791030, 243610, 413702, 565285,\n",
    " 773607, 131583, 979177, 247202, 615485, 647512, 556823, 242460, 852928,\n",
    " 893126, 792435, 273904, 544434, 627222, 601984, 966446, 384143, 308858,\n",
    " 915106, 914423, 826315, 258342, 188056, 934954, 253918, 468223, 262875,\n",
    " 462902, 370061, 336521, 367829, 147846, 838385, 605377, 175140, 957437,\n",
    " 105779, 153499, 435097, 9934, 435761, 989066, 357279, 341319, 420455,\n",
    " 220075, 28839, 910043, 891209, 975758, 140968, 837021, 526798, 235190,\n",
    " 634295, 521918, 400634, 385922, 842289, 106889, 742531, 359913, 842431,\n",
    " 666182, 516933, 22222, 445705, 589281, 709098, 48521, 513501, 277645,\n",
    " 860937, 655966, 923944, 7895, 77482, 929007, 562981, 904166, 619260,\n",
    " 616293, 203512, 67534, 615578, 74381, 484273, 941872, 110617, 53517,\n",
    " 402324, 156156, 839504 , 625325, 694080, 904277, 163914, 756250, 809689,\n",
    " 354050, 523654, 26723, 167882, 103404, 689579, 121439, 158946, 485258,\n",
    " 850804, 650603, 717388, 981770, 573882, 358726, 957285, 418479, 851590,\n",
    " 960182, 11955, 894146, 856069, 369866, 740623, 867622, 616830, 894801,\n",
    " 827179, 580024, 987174, 638930, 129200, 214789, 45268, 455924, 655940,\n",
    " 335481, 845907, 942437, 759380, 790660, 432715, 858959, 289617, 757317,\n",
    " 982063, 237940, 141714, 939369, 198282, 975017, 785968, 49954, 854914,\n",
    " 996780, 121633, 436419, 471, 776271, 91626, 209175, 894281, 417963, 624464,\n",
    " 736535, 418888, 506194, 591087, 64075, 50252, 952943, 25878, 217085,\n",
    " 223996, 416042, 484123, 810460, 423284, 956886, 237772, 960241, 601551,\n",
    " 830147, 449088, 364567, 337281, 524358, 980387, 393760, 619710, 100181,\n",
    " 96738, 275199, 553783, 975654, 662536, 979103, 869504, 702350, 174361,\n",
    " 970250, 267625, 661580, 444662, 871532, 881977, 981660, 446047, 508758,\n",
    " 530694, 608789, 339540, 242774, 637473, 874011, 732999, 511638, 744144,\n",
    " 710805, 641326, 88085, 128487, 59732, 739340, 443638, 830333, 832136,\n",
    " 882277, 403538, 441349, 721048, 32859]"
   ]
  },
  {
   "cell_type": "markdown",
   "id": "3d6f1fd7-05c9-4731-823d-e6e41acf3d70",
   "metadata": {},
   "source": [
    "İşte böyle bir soruyu çözmek için max() fonksiyonundan yararlanabilirsiniz. Yukarıdaki listeyi sayılar adlı bir değişkene atadığımızı varsayarsak, aşağıdaki kod bize listedeki en büyük sayıyı verecektir:"
   ]
  },
  {
   "cell_type": "code",
   "execution_count": 24,
   "id": "cdbbc4b1-2bf5-48d9-9a10-c593b47a919e",
   "metadata": {},
   "outputs": [
    {
     "data": {
      "text/plain": [
       "996780"
      ]
     },
     "execution_count": 24,
     "metadata": {},
     "output_type": "execute_result"
    }
   ],
   "source": [
    "max(sayilar)"
   ]
  },
  {
   "cell_type": "markdown",
   "id": "f865971f-b32e-48e3-a903-4eff0c438246",
   "metadata": {},
   "source": [
    "\n",
    "Yukarıdaki örneklerde max() fonksiyonunu kullanarak bir dizi içindeki en büyük sayıyı bulduk. Peki bu fonksiyonu kullanarak bir dizi içindeki en uzun karakter dizisini bulabilir miyiz? Evet, bulabiliriz.\n",
    "\n",
    "Diyelim ki elimizde şöyle bir liste var:"
   ]
  },
  {
   "cell_type": "code",
   "execution_count": 25,
   "id": "150b8952-2b3f-460e-ae43-c8038f2009ac",
   "metadata": {},
   "outputs": [],
   "source": [
    "isimler = [\"ahmet\", \"mehmet\", \"necla\", \"sedat\", \"abdullah\",\n",
    "           \"gıyaseddin\", \"sibel\", \"can\", \"necmettin\", \"savaş\", \"özgür\"]"
   ]
  },
  {
   "cell_type": "markdown",
   "id": "d6d062d6-388d-43b1-8844-202958e74ed4",
   "metadata": {},
   "source": [
    "Amacımız bu liste içindeki en uzun kelimeyi bulmak. İşte bunu max() fonksiyonu ile yapabiliriz. Dikkatlice bakın:"
   ]
  },
  {
   "cell_type": "code",
   "execution_count": 26,
   "id": "a6dc373e-5b97-4132-9042-080af409c58d",
   "metadata": {},
   "outputs": [
    {
     "name": "stdout",
     "output_type": "stream",
     "text": [
      "gıyaseddin\n"
     ]
    }
   ],
   "source": [
    "print(max(isimler, key=len))"
   ]
  },
  {
   "cell_type": "markdown",
   "id": "e16b15da-b975-4ba5-b100-5e2fec8ac20f",
   "metadata": {},
   "source": [
    "Bu kodları çalıştırdığımızda, listedeki en uzun isim olan ‘gıyaseddin’i elde edeceğiz.\n",
    "\n",
    "Gördüğünüz gibi, max() fonksiyonu key adlı özel bir parametre daha alıyor. Bu parametreye biz ‘len’ değerini verdik. Böylece max() fonksiyonu liste içindeki öğeleri uzunluklarına göre sıralayıp en uzun öğeyi bize sundu.\n",
    "\n",
    "Hatırlarsanız geçen bölümde şöyle bir kod yazmıştık:\n",
    "\n"
   ]
  },
  {
   "cell_type": "code",
   "execution_count": 27,
   "id": "4c2eac77-1af1-46d6-b506-f57b84acb585",
   "metadata": {},
   "outputs": [
    {
     "name": "stdout",
     "output_type": "stream",
     "text": [
      "  onlu     sekizli  on altılı   ikili   \n",
      "    0         0         0         0    \n",
      "    1         1         1         1    \n",
      "    2         2         2        10    \n",
      "    3         3         3        11    \n",
      "    4         4         4        100   \n",
      "    5         5         5        101   \n",
      "    6         6         6        110   \n",
      "    7         7         7        111   \n",
      "    8        10         8       1000   \n",
      "    9        11         9       1001   \n",
      "   10        12         a       1010   \n",
      "   11        13         b       1011   \n",
      "   12        14         c       1100   \n",
      "   13        15         d       1101   \n",
      "   14        16         e       1110   \n",
      "   15        17         f       1111   \n",
      "   16        20        10       10000  \n"
     ]
    }
   ],
   "source": [
    "sayı_sistemleri = [\"onlu\", \"sekizli\", \"on altılı\", \"ikili\"]\n",
    "\n",
    "print((\"{:^9} \"*len(sayı_sistemleri)).format(*sayı_sistemleri))\n",
    "\n",
    "for i in range(17):\n",
    "    print(\"{0:^9} {0:^9o} {0:^9x} {0:^9b}\".format(i))"
   ]
  },
  {
   "cell_type": "markdown",
   "id": "eec91f76-2346-4071-a778-75b5a9b9aa70",
   "metadata": {},
   "source": [
    "Bu kodlar, farklı sayma sistemleri arasındaki farkları daha net görmemizi sağlamıştı. Yalnız burada dikkat ettiyseniz, sayı_sistemleri adlı listeye her öğe ekleyişimizde, listedeki en uzun değeri dikkate alarak karakter dizisi biçimlendiricileri içindeki, öğeler arasında ne kadar boşluk bırakılacağını belirleyen sayıları güncelliyorduk. Mesela yukarıdaki örnekte, öğeler arasında yeterince boşluk bırakabilmek için bu sayıyı 9 olarak belirlemiştik. İşte şimdi öğrendiğimiz max() fonksiyonunu kullanarak bu sayının otomatik olarak belirlenmesini sağlayabiliriz. Dikkatlice inceleyin:\n",
    "\n"
   ]
  },
  {
   "cell_type": "code",
   "execution_count": 28,
   "id": "f3b9a59e-6e68-4abf-b806-ac83a5e2a33a",
   "metadata": {},
   "outputs": [
    {
     "name": "stdout",
     "output_type": "stream",
     "text": [
      "  onlu     sekizli  on altılı   ikili   \n",
      "    0         0         0         0    \n",
      "    1         1         1         1    \n",
      "    2         2         2        10    \n",
      "    3         3         3        11    \n",
      "    4         4         4        100   \n",
      "    5         5         5        101   \n",
      "    6         6         6        110   \n",
      "    7         7         7        111   \n",
      "    8        10         8       1000   \n",
      "    9        11         9       1001   \n",
      "   10        12         a       1010   \n",
      "   11        13         b       1011   \n",
      "   12        14         c       1100   \n",
      "   13        15         d       1101   \n",
      "   14        16         e       1110   \n",
      "   15        17         f       1111   \n",
      "   16        20        10       10000  \n"
     ]
    }
   ],
   "source": [
    "sayı_sistemleri = [\"onlu\", \"sekizli\", \"on altılı\", \"ikili\"]\n",
    "\n",
    "en_uzun = len(max(sayı_sistemleri, key=len))\n",
    "\n",
    "print((\"{:^{aralık}} \"*len(sayı_sistemleri)).format(*sayı_sistemleri, aralık=en_uzun))\n",
    "\n",
    "for i in range(17):\n",
    "    print(\"{0:^{1}} {0:^{1}o} {0:^{1}x} {0:^{1}b}\".format(i, en_uzun))"
   ]
  },
  {
   "cell_type": "markdown",
   "id": "6e98089c-6108-4d21-bcdc-b57a525584b4",
   "metadata": {},
   "source": [
    "Gördüğünüz gibi, max() fonksiyonunu ve bu fonksiyonun key parametresini kullanarak, oluşturduğumuz tablodaki öğelerin arasına uygun boşluğu otomatik olarak eklemiş olduk. Bunun için, sayı_sistemleri adlı listedeki en uzun öğenin uzunluk miktarını temel aldık."
   ]
  },
  {
   "cell_type": "markdown",
   "id": "f45bcbac-23e9-41b3-a7bb-130cbe12392e",
   "metadata": {},
   "source": [
    "++++++++min()\n",
    "\n",
    "\n",
    "Bu fonksiyon, max() fonksiyonun yaptığı işin tam tersini yapar. Yani bu fonksiyonu kullanarak bir dizi içindeki en küçük sayıyı bulabilirsiniz:"
   ]
  },
  {
   "cell_type": "code",
   "execution_count": 29,
   "id": "88c6d36b-6be1-4396-ac6d-5bea8a51e454",
   "metadata": {},
   "outputs": [
    {
     "data": {
      "text/plain": [
       "471"
      ]
     },
     "execution_count": 29,
     "metadata": {},
     "output_type": "execute_result"
    }
   ],
   "source": [
    "min(sayilar)"
   ]
  },
  {
   "cell_type": "markdown",
   "id": "53015965-3aff-4170-90b8-63fedeadae4c",
   "metadata": {},
   "source": [
    "Tıpkı max() fonksiyonunda olduğu gibi, min() fonksiyonunda da key parametresini kullanabilirsiniz. Mesela max() fonksiyonunu anlatırken verdiğimiz isim listesindeki en kısa ismi bulabilmek için şu kodu yazabilirsiniz:\n",
    "\n"
   ]
  },
  {
   "cell_type": "code",
   "execution_count": 30,
   "id": "c5cb529f-f32d-4479-be0f-0ae4851658c3",
   "metadata": {},
   "outputs": [
    {
     "name": "stdout",
     "output_type": "stream",
     "text": [
      "can\n"
     ]
    }
   ],
   "source": [
    "print(min(isimler, key=len))"
   ]
  },
  {
   "cell_type": "markdown",
   "id": "9eb44528-a270-47dd-9d15-2dec89272c96",
   "metadata": {},
   "source": [
    "++++++++++sum()\n",
    "\n",
    "\n",
    "Bu fonksiyon bir dizi içinde yer alan bütün sayıları birbiriyle toplar. Örneğin:"
   ]
  },
  {
   "cell_type": "code",
   "execution_count": 31,
   "id": "e1b5ca42-e18e-4126-a1ec-ccbc073c204b",
   "metadata": {},
   "outputs": [
    {
     "data": {
      "text/plain": [
       "198"
      ]
     },
     "execution_count": 31,
     "metadata": {},
     "output_type": "execute_result"
    }
   ],
   "source": [
    "a = [10, 20, 43, 45 , 77, 2, 0, 1]\n",
    "sum(a)"
   ]
  },
  {
   "cell_type": "markdown",
   "id": "71f7d0f2-5639-49f6-8a60-4d4a7932f9ed",
   "metadata": {},
   "source": [
    "Eğer bu fonksiyonun, toplama işlemini belli bir sayının üzerine gerçekleştirmesini istiyorsanız şu kodu yazabilirsiniz:\n",
    "\n"
   ]
  },
  {
   "cell_type": "code",
   "execution_count": 32,
   "id": "88719a7e-0984-42ab-9519-7d0f1f2c7a45",
   "metadata": {},
   "outputs": [
    {
     "data": {
      "text/plain": [
       "208"
      ]
     },
     "execution_count": 32,
     "metadata": {},
     "output_type": "execute_result"
    }
   ],
   "source": [
    "sum(a, 10)"
   ]
  },
  {
   "cell_type": "markdown",
   "id": "cc5ae2ba-0c61-413b-a9e8-6e88a39e9ea0",
   "metadata": {},
   "source": [
    "sum() fonksiyonuna bu şekilde ikinci bir parametre verdiğinizde, bu ikinci parametre toplam değere eklenecektir."
   ]
  },
  {
   "cell_type": "code",
   "execution_count": null,
   "id": "a615becd-ce3e-48b1-8b3a-22284c5980b9",
   "metadata": {},
   "outputs": [],
   "source": []
  }
 ],
 "metadata": {
  "kernelspec": {
   "display_name": "Python 3 (ipykernel)",
   "language": "python",
   "name": "python3"
  },
  "language_info": {
   "codemirror_mode": {
    "name": "ipython",
    "version": 3
   },
   "file_extension": ".py",
   "mimetype": "text/x-python",
   "name": "python",
   "nbconvert_exporter": "python",
   "pygments_lexer": "ipython3",
   "version": "3.10.12"
  }
 },
 "nbformat": 4,
 "nbformat_minor": 5
}
