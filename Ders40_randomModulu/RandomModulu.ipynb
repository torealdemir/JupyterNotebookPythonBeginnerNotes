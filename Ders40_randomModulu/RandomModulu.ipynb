{
 "cells": [
  {
   "cell_type": "markdown",
   "id": "07a7969b-95be-46b0-9258-50914f3a5c3d",
   "metadata": {},
   "source": [
    "++++++++++++++++++random Modülü\n",
    "\n",
    "Eğer yazdığınız programlarda, belirli bir aralıkta rastgele sayıların üretilmesine ihtiyaç duyarsanız Python’ın standart kütüphanesinde bulunan random adlı bir modülü kullanabilirsiniz.\n",
    "\n",
    "Tıpkı öteki modüllerde olduğu gibi, random modülü de birtakım faydalı nitelik ve fonksiyonları barındırır. Biz bu bölümde, bu nitelik ve fonksiyonlar arasında en sık kullanılanları inceleyeceğiz.\n",
    "\n",
    "Elbette bu modülü kullanabilmek için öncelikle modülümüzü içe aktarmamız gerekiyor:"
   ]
  },
  {
   "cell_type": "code",
   "execution_count": 1,
   "id": "40b92ac6-9b0d-4c00-9e7d-73b4fb7efc0f",
   "metadata": {},
   "outputs": [],
   "source": [
    "import random"
   ]
  },
  {
   "cell_type": "markdown",
   "id": "3b61514b-7072-4108-af0b-145e71b35bb4",
   "metadata": {},
   "source": [
    "Bu işlemin ardından, bu modülün bize sunduğu bütün işlevlerden yararlanabiliriz.\n",
    "\n",
    "+++++++++++++random()\n",
    "\n",
    "random modülünün random() adlı fonksiyonunu kullanarak, 0.0 ile 1.0 arasında rastgele bir kayan noktalı sayı üretebilirsiniz:\n",
    "\n"
   ]
  },
  {
   "cell_type": "code",
   "execution_count": 2,
   "id": "4d7290af-0e6b-4482-8257-989c48832407",
   "metadata": {},
   "outputs": [
    {
     "data": {
      "text/plain": [
       "0.8905397932314244"
      ]
     },
     "execution_count": 2,
     "metadata": {},
     "output_type": "execute_result"
    }
   ],
   "source": [
    "random.random()\n"
   ]
  },
  {
   "cell_type": "markdown",
   "id": "dbda25d1-df74-411c-8235-1baf9e6d519d",
   "metadata": {},
   "source": [
    "random() fonksiyonu, kendisini her çalıştırışınızda farklı bir kayan noktalı sayı üretecektir:\n",
    "\n"
   ]
  },
  {
   "cell_type": "code",
   "execution_count": 3,
   "id": "b9cd83d8-a970-4f10-b6ac-196debed0a2c",
   "metadata": {},
   "outputs": [
    {
     "data": {
      "text/plain": [
       "0.956994856954475"
      ]
     },
     "execution_count": 3,
     "metadata": {},
     "output_type": "execute_result"
    }
   ],
   "source": [
    "random.random()"
   ]
  },
  {
   "cell_type": "markdown",
   "id": "76f28922-07ca-4669-ab31-e6ac746199c3",
   "metadata": {},
   "source": [
    "Üretilen sayıların 0 ile 1 arasında olduğunu özellikle dikkatinizi çekmek isterim.\n",
    "\n",
    "Mesela bu fonksiyonu kullanarak, 0 ile 1 arası 10 tane sayı üretelim. Bu sayıları gösterirken de noktadan sonra yalnızca dört basamak görüntülenmesine izin verelim:\n",
    "\n"
   ]
  },
  {
   "cell_type": "code",
   "execution_count": 4,
   "id": "dd887717-fbef-4a93-8224-0c7b3338fe9c",
   "metadata": {},
   "outputs": [
    {
     "name": "stdout",
     "output_type": "stream",
     "text": [
      "0.1122\n",
      "0.2890\n",
      "0.5474\n",
      "0.7806\n",
      "0.4823\n",
      "0.3154\n",
      "0.2813\n",
      "0.0313\n",
      "0.1621\n",
      "0.6481\n"
     ]
    }
   ],
   "source": [
    "for i in range(10):\n",
    "    print(\"{:.4f}\".format(random.random()))\n"
   ]
  },
  {
   "cell_type": "markdown",
   "id": "3d72aa93-a4e1-46e2-ba8f-4aca01513a74",
   "metadata": {},
   "source": [
    "+++++++++++++uniform()\n",
    "\n",
    "Biraz önce gördüğümüz random() fonksiyonu, dikkat ederseniz herhangi bir parametre almıyordu. Çünkü bu fonksiyonun tek görevi 0 ile 1 arası sayılar üretmektir. Peki ya biz üreteceğimiz sayıların farklı bir aralıkta olmasını istersek ne yapacağız?\n",
    "\n",
    "İşte, belirli bir aralıkta kayan noktalı sayılar üretmek istediğimizde, random() yerine uniform() adlı bir fonksiyon kullanacağız. Dikkatlice inceleyin:"
   ]
  },
  {
   "cell_type": "code",
   "execution_count": 5,
   "id": "8396e5ae-fd3d-4fe4-92db-78bb8f6c9843",
   "metadata": {},
   "outputs": [
    {
     "data": {
      "text/plain": [
       "0.9893782539973295"
      ]
     },
     "execution_count": 5,
     "metadata": {},
     "output_type": "execute_result"
    }
   ],
   "source": [
    "random.uniform(0.5, 1.5)"
   ]
  },
  {
   "cell_type": "markdown",
   "id": "2190779f-8582-4828-a23a-5cbfc848fa8f",
   "metadata": {},
   "source": [
    "Bu kod, her çalıştırılışında 0.5 ile 1.5 arası rastgele bir kayan noktalı sayı üretecektir:\n",
    "\n"
   ]
  },
  {
   "cell_type": "code",
   "execution_count": 6,
   "id": "c242d5a9-cf03-4a0b-92d9-770f7be1c623",
   "metadata": {},
   "outputs": [
    {
     "data": {
      "text/plain": [
       "1.3496409620079965"
      ]
     },
     "execution_count": 6,
     "metadata": {},
     "output_type": "execute_result"
    }
   ],
   "source": [
    "random.uniform(0.5, 1.5)"
   ]
  },
  {
   "cell_type": "code",
   "execution_count": 7,
   "id": "42e56bb4-4189-4b91-b5ec-ea22b7125d9a",
   "metadata": {},
   "outputs": [
    {
     "data": {
      "text/plain": [
       "0.9318257856222062"
      ]
     },
     "execution_count": 7,
     "metadata": {},
     "output_type": "execute_result"
    }
   ],
   "source": [
    "random.uniform(0.5, 1.5)"
   ]
  },
  {
   "cell_type": "markdown",
   "id": "f206011b-9ce4-477d-a125-477ebdefd45a",
   "metadata": {},
   "source": [
    "++++++++++++randint()\n",
    "\n",
    "Şimdiye kadar öğrendiğimiz random() ve uniform() fonksiyonları bize yalnızca kayan noktalı sayılar üretme imkanı veriyordu. Ancak elbette biz kimi durumlarda kayan noktalı sayılar yerine tam sayılar üretmek de isteyebiliriz. İşte böyle bir durumda, random modülünün randint() adlı başka bir fonksiyonunu kullanabiliriz.\n",
    "\n",
    "Mesela 45 ile 500 arasında rastgele bir sayı üretmek isterseniz, randint() fonksiyonunu şu şekilde kullanabilirsiniz:\n",
    "\n"
   ]
  },
  {
   "cell_type": "code",
   "execution_count": 8,
   "id": "52674b09-2d93-4e20-90d7-a8dc7c424a85",
   "metadata": {},
   "outputs": [
    {
     "data": {
      "text/plain": [
       "206"
      ]
     },
     "execution_count": 8,
     "metadata": {},
     "output_type": "execute_result"
    }
   ],
   "source": [
    "random.randint(45, 500)"
   ]
  },
  {
   "cell_type": "markdown",
   "id": "bd09f3e2-463b-43fe-aae1-938de05a1a41",
   "metadata": {},
   "source": [
    "Bu fonksiyon, her çalıştırılışında 45 ile 500 arasında rastgele bir tam sayı üretecektir.\n",
    "\n",
    "+++++++++++++++choice()\n",
    "\n",
    "random modülünün choice() adlı fonksiyonunu kullanarak, dizi niteliği taşıyan veri tiplerinden rastgele öğeler seçebiliriz. Bu tanım biraz anlaşılmaz gelmiş olabilir. O yüzden bunu bir örnekle açıklayalım.\n",
    "\n",
    "Diyelim ki elimizde şöyle bir liste var:"
   ]
  },
  {
   "cell_type": "code",
   "execution_count": 9,
   "id": "36206bf6-693f-4431-86de-044fb55d7447",
   "metadata": {},
   "outputs": [],
   "source": [
    "liste = ['ali', 'veli', 'ahmet',\n",
    "'mehmet', 'celal', 'selin', 'nihat']"
   ]
  },
  {
   "cell_type": "markdown",
   "id": "bca33da5-4ef7-44de-b96a-e05e393244a1",
   "metadata": {},
   "source": [
    "Bildiğiniz gibi, listeler, dizi niteliği taşıyan veri tipleridir. Dolayısıyla choice() fonksiyonunu kullanarak bu diziden rastgele bir öğe seçebiliriz:"
   ]
  },
  {
   "cell_type": "code",
   "execution_count": 10,
   "id": "c9988b50-ea37-46f8-bd5c-6044c7bb9731",
   "metadata": {},
   "outputs": [],
   "source": [
    "liste = ['ali', 'veli', 'ahmet', 'mehmet', 'celal', 'selin', 'nihat']\n"
   ]
  },
  {
   "cell_type": "code",
   "execution_count": 11,
   "id": "e3471dd2-3d70-4ba7-97c8-b377ba90784c",
   "metadata": {},
   "outputs": [
    {
     "data": {
      "text/plain": [
       "'selin'"
      ]
     },
     "execution_count": 11,
     "metadata": {},
     "output_type": "execute_result"
    }
   ],
   "source": [
    "random.choice(liste)"
   ]
  },
  {
   "cell_type": "code",
   "execution_count": 12,
   "id": "27841a37-50a6-4835-b4fc-bf62ad4268d7",
   "metadata": {},
   "outputs": [
    {
     "data": {
      "text/plain": [
       "'mehmet'"
      ]
     },
     "execution_count": 12,
     "metadata": {},
     "output_type": "execute_result"
    }
   ],
   "source": [
    "random.choice(liste)"
   ]
  },
  {
   "cell_type": "code",
   "execution_count": 13,
   "id": "33e30f62-0148-4b16-ab35-9f012ff8f3ae",
   "metadata": {},
   "outputs": [
    {
     "data": {
      "text/plain": [
       "'selin'"
      ]
     },
     "execution_count": 13,
     "metadata": {},
     "output_type": "execute_result"
    }
   ],
   "source": [
    "random.choice(liste)"
   ]
  },
  {
   "cell_type": "markdown",
   "id": "7efde3ac-aaa1-49a4-868f-1ab1fa39d5e4",
   "metadata": {},
   "source": [
    "Tıpkı bu örnekte olduğu gibi, karakter dizileri de dizi niteliği taşıyan bir veri tipi olduğu için, choice() fonksiyonuna cevap verir:"
   ]
  },
  {
   "cell_type": "code",
   "execution_count": 14,
   "id": "b4d74b7d-ba29-413e-af7c-d7527e9b28a2",
   "metadata": {},
   "outputs": [
    {
     "data": {
      "text/plain": [
       "'i'"
      ]
     },
     "execution_count": 14,
     "metadata": {},
     "output_type": "execute_result"
    }
   ],
   "source": [
    "kardiz = 'istihza'\n",
    "random.choice(kardiz)"
   ]
  },
  {
   "cell_type": "markdown",
   "id": "d9c65844-7105-47be-8e54-11cfed61e1c2",
   "metadata": {},
   "source": [
    "Peki acaba bu ‘i’ harfi karakter dizisinin başındaki ‘i’ harfi mi, yoksa ortasındaki ‘i’ harfi mi? Sizce bunu nasıl anlayabiliriz?\n",
    "\n",
    "++++++++++shuffle()\n",
    "\n",
    "shuffle() fonksiyonunu kullanarak, dizi niteliği taşıyan veri tiplerindeki öğeleri karıştırabilirsiniz (yani öğelerin sırasını karışık bir hale getirebilirsiniz). Mesela:"
   ]
  },
  {
   "cell_type": "code",
   "execution_count": 15,
   "id": "1acae604-9d76-4ac2-a3d0-cfdc7e132dce",
   "metadata": {},
   "outputs": [],
   "source": [
    "l = list(range(10))"
   ]
  },
  {
   "cell_type": "markdown",
   "id": "67413a95-6132-47ab-9b31-5a443629b6f8",
   "metadata": {},
   "source": [
    "10 öğeli bir listemiz var. Bu listedeki öğeler 0’dan 10’a kadar düzgün bir şekilde sıralanmış:\n",
    "\n"
   ]
  },
  {
   "cell_type": "code",
   "execution_count": 16,
   "id": "e0b15592-d2f3-4689-99fc-511b90b1ea20",
   "metadata": {},
   "outputs": [
    {
     "data": {
      "text/plain": [
       "[0, 1, 2, 3, 4, 5, 6, 7, 8, 9]"
      ]
     },
     "execution_count": 16,
     "metadata": {},
     "output_type": "execute_result"
    }
   ],
   "source": [
    "l"
   ]
  },
  {
   "cell_type": "markdown",
   "id": "eb547882-d626-48f9-ad6b-dab6650ad329",
   "metadata": {},
   "source": [
    "Şimdi biz shuffle() fonksiyonunu kullanarak öğeleri karıştıracağız:"
   ]
  },
  {
   "cell_type": "code",
   "execution_count": 17,
   "id": "4d7a760a-fcf1-4d62-9cdb-1265fd893fc2",
   "metadata": {},
   "outputs": [
    {
     "data": {
      "text/plain": [
       "[5, 3, 7, 8, 6, 0, 2, 9, 1, 4]"
      ]
     },
     "execution_count": 17,
     "metadata": {},
     "output_type": "execute_result"
    }
   ],
   "source": [
    "random.shuffle(l)\n",
    "l"
   ]
  },
  {
   "cell_type": "markdown",
   "id": "7f216a71-cca2-4550-bf9d-8082d4c0bffb",
   "metadata": {},
   "source": [
    "Burada dikkat etmemiz gereken önemli nokta, shuffle() fonksiyonunun, özgün listenin kendisi üzerinde değişiklik yapıyor oluşudur. Yani liste üzerinde shuffle() metodunu uyguladıktan sonra artık özgün listeyi kaybediyoruz. Dolayısıyla elimizde artık öğeleri 0’dan 10’a kadar düzgün bir şekilde sıralanmış liste yok. Onun yerine, öğeleri karıştırılmış bir liste var elimizde.\n",
    "\n",
    "Liste üzerine shuffle() fonksiyonunu her uygulayışınızda özgün listenin öğeleri bir daha karıştırılacaktır.\n",
    "\n",
    "Peki size bir soru…\n",
    "\n",
    "Elinizde şöyle bir liste var:\n",
    "\n",
    "arkadaşlar = [‘ali’, ‘veli’, ‘mehmet’, ‘ahmet’, ‘serkan’, ‘selin’]\n",
    "\n",
    "Görevimiz bu listenin öğelerini karıştırmak. Ama biz aynı zamanda özgün arkadaşlar listesindeki öğe sıralamasını da kaybetmek istemiyoruz. Bunu nasıl başarabiliriz?\n",
    "\n",
    "++++++++++++randrange()\n",
    "\n",
    "randrange() fonksiyonu, yukarıda öğrendiğimiz randint() fonksiyonu ile aynı işi yapar. Yani her iki fonksiyon da, belli bir aralıkta rastgele tamsayılar üretir. Ancak aralarında iki ufak fark bulunur.\n",
    "\n",
    "İlk önce birincisine bakalım…\n",
    "\n",
    "Dikkatlice inceleyin:"
   ]
  },
  {
   "cell_type": "code",
   "execution_count": 20,
   "id": "7c383a95-e1f4-4d05-9c05-8004c5d343f7",
   "metadata": {},
   "outputs": [
    {
     "data": {
      "text/plain": [
       "7"
      ]
     },
     "execution_count": 20,
     "metadata": {},
     "output_type": "execute_result"
    }
   ],
   "source": [
    "random.randrange(10)"
   ]
  },
  {
   "cell_type": "markdown",
   "id": "b91fc22f-2baf-4ec4-b5b2-df909529ccd0",
   "metadata": {},
   "source": [
    "Gördüğünüz gibi, randrange() fonksiyonunu tek parametre ile kullanabiliyoruz. Yukarıdaki komutu eğer randint() ile yazmak istersek şunu yapmamız gerekir:"
   ]
  },
  {
   "cell_type": "code",
   "execution_count": 21,
   "id": "8a55890c-b53c-4465-a0cd-42e37530250d",
   "metadata": {},
   "outputs": [
    {
     "data": {
      "text/plain": [
       "2"
      ]
     },
     "execution_count": 21,
     "metadata": {},
     "output_type": "execute_result"
    }
   ],
   "source": [
    "random.randint(0, 10)"
   ]
  },
  {
   "cell_type": "markdown",
   "id": "9463290b-26c8-44b8-b666-06a95f3ea61e",
   "metadata": {},
   "source": [
    "randrange() fonksiyonundan farklı olarak, randint() fonksiyonunu iki parametre ile kullanmamız gerekir. Eğer bu fonksiyona tek parametre verirsek hata alırız:\n",
    "\n"
   ]
  },
  {
   "cell_type": "code",
   "execution_count": 22,
   "id": "79f78c56-9160-42d1-b5f2-5024a65f91ec",
   "metadata": {},
   "outputs": [
    {
     "ename": "TypeError",
     "evalue": "Random.randint() missing 1 required positional argument: 'b'",
     "output_type": "error",
     "traceback": [
      "\u001b[0;31m---------------------------------------------------------------------------\u001b[0m",
      "\u001b[0;31mTypeError\u001b[0m                                 Traceback (most recent call last)",
      "Cell \u001b[0;32mIn[22], line 1\u001b[0m\n\u001b[0;32m----> 1\u001b[0m \u001b[43mrandom\u001b[49m\u001b[38;5;241;43m.\u001b[39;49m\u001b[43mrandint\u001b[49m\u001b[43m(\u001b[49m\u001b[38;5;241;43m10\u001b[39;49m\u001b[43m)\u001b[49m\n",
      "\u001b[0;31mTypeError\u001b[0m: Random.randint() missing 1 required positional argument: 'b'"
     ]
    }
   ],
   "source": [
    "random.randint(10)"
   ]
  },
  {
   "cell_type": "markdown",
   "id": "dc9da4f5-0145-4f55-bde7-2d0af3570aa5",
   "metadata": {},
   "source": [
    "\n",
    "Elbette, eğer istersek randrange() fonksiyonunu da çift parametre ile kullanarak, farklı bir sayı aralığı belirtme imkanına sahibiz:\n",
    "\n"
   ]
  },
  {
   "cell_type": "code",
   "execution_count": 23,
   "id": "102fb709-277e-4b4f-9784-5ef8cc1402cf",
   "metadata": {},
   "outputs": [
    {
     "data": {
      "text/plain": [
       "215"
      ]
     },
     "execution_count": 23,
     "metadata": {},
     "output_type": "execute_result"
    }
   ],
   "source": [
    "random.randrange(10, 500)"
   ]
  },
  {
   "cell_type": "markdown",
   "id": "f7a9caa7-6523-429d-8e74-6786b07daec4",
   "metadata": {},
   "source": [
    "Bu komut, 10 ile 500 arası rastgele tam sayılar üretecektir. Ayrıca bu komut şununla da eşdeğerdir:\n",
    "\n"
   ]
  },
  {
   "cell_type": "code",
   "execution_count": 24,
   "id": "1290655b-a80d-4363-9e25-35494601cd16",
   "metadata": {},
   "outputs": [
    {
     "data": {
      "text/plain": [
       "41"
      ]
     },
     "execution_count": 24,
     "metadata": {},
     "output_type": "execute_result"
    }
   ],
   "source": [
    "random.randint(10, 500)"
   ]
  },
  {
   "cell_type": "markdown",
   "id": "036e393b-73d6-4b05-b86a-3a7dc38b122d",
   "metadata": {},
   "source": [
    "Bu iki fonksiyon arasındaki ikinci fark ise, rastgele sayı üretilecek aralığın son değeridir. Bu muğlak ifadeyi bir örnekle anlaşılır hale getirmeye çalışalım:"
   ]
  },
  {
   "cell_type": "code",
   "execution_count": 25,
   "id": "f7b4583e-c293-47d4-bba5-0d31049e775d",
   "metadata": {},
   "outputs": [
    {
     "data": {
      "text/plain": [
       "10"
      ]
     },
     "execution_count": 25,
     "metadata": {},
     "output_type": "execute_result"
    }
   ],
   "source": [
    "random.randrange(10, 20)"
   ]
  },
  {
   "cell_type": "markdown",
   "id": "e1a2042a-31cf-41b1-a203-604e32422344",
   "metadata": {},
   "source": [
    "Bu komut, 10 ile 20 arasında rastgele bir sayı üretir. Üretilecek en düşük sayı 10 iken, en büyük sayı ise 19 olacaktır. 20 sayısı asla üretilmez.\n",
    "\n",
    "Bir de şuna bakalım:\n",
    "\n"
   ]
  },
  {
   "cell_type": "code",
   "execution_count": 26,
   "id": "2e132bb3-d408-4515-aee5-867507544461",
   "metadata": {},
   "outputs": [
    {
     "data": {
      "text/plain": [
       "20"
      ]
     },
     "execution_count": 26,
     "metadata": {},
     "output_type": "execute_result"
    }
   ],
   "source": [
    "random.randint(10, 20)"
   ]
  },
  {
   "cell_type": "markdown",
   "id": "e5ad0e45-518e-4247-9107-1504c220b4a2",
   "metadata": {},
   "source": [
    "Burada da yine 10 ile 20 arasında rastgele bir sayı üretilir. Tıpkı randrange() metodunda olduğu gibi, üretilecek en düşük sayı 10’dur. Ancak en büyük sayı 20 olacaktır.\n",
    "\n",
    "Bu iki fonksiyonu kullanırken bu farklılığa dikkat etmemiz gerekir. Aksi halde yazdığımız programlar hatalı çalışabilir.\n",
    "\n",
    "Peki size bir soru: Acaba randint() ile randrange() arasındaki bu farkı nasıl kanıtlarsınız?"
   ]
  },
  {
   "cell_type": "markdown",
   "id": "d0bb8caa-d751-46f0-a686-d86afaf44d14",
   "metadata": {},
   "source": [
    "++++++++++++sample()\n",
    "\n",
    "‘Sample’ kelimesi ‘numune’ anlamına gelir. İşte kelimenin bu anlamına paralel olarak sample() fonksiyonu da, dizi niteliği taşıyan veri tiplerinden belli sayıda numune alınabilmesini sağlar. Bakınız:"
   ]
  },
  {
   "cell_type": "code",
   "execution_count": 27,
   "id": "d3b585fb-7af4-4c8d-a804-e073a0102ba5",
   "metadata": {},
   "outputs": [],
   "source": [
    "liste = range(100)"
   ]
  },
  {
   "cell_type": "markdown",
   "id": "270d1637-8222-4939-a18c-5d8445be5b93",
   "metadata": {},
   "source": [
    "100 öğeli bir liste oluşturduk. Şimdi bu listeden 5 tane rastgele numune alalım:\n",
    "\n"
   ]
  },
  {
   "cell_type": "code",
   "execution_count": 28,
   "id": "f3d85e2e-8040-4d95-8e91-e183606e811e",
   "metadata": {},
   "outputs": [
    {
     "data": {
      "text/plain": [
       "[74, 43, 79, 52, 69]"
      ]
     },
     "execution_count": 28,
     "metadata": {},
     "output_type": "execute_result"
    }
   ],
   "source": [
    "random.sample(liste, 5)"
   ]
  },
  {
   "cell_type": "markdown",
   "id": "0dac75c5-752b-4b25-9411-958ac05f5d10",
   "metadata": {},
   "source": [
    "Gördüğünüz gibi, sample() fonksiyonunun ilk parametresi numune alınacak diziyi, ikinci parametresi ise bu diziden kaç tane numune alınacağını gösteriyor."
   ]
  },
  {
   "cell_type": "code",
   "execution_count": null,
   "id": "b1eb98c3-be35-4426-811a-fdeb00daefdd",
   "metadata": {},
   "outputs": [],
   "source": []
  }
 ],
 "metadata": {
  "kernelspec": {
   "display_name": "Python 3 (ipykernel)",
   "language": "python",
   "name": "python3"
  },
  "language_info": {
   "codemirror_mode": {
    "name": "ipython",
    "version": 3
   },
   "file_extension": ".py",
   "mimetype": "text/x-python",
   "name": "python",
   "nbconvert_exporter": "python",
   "pygments_lexer": "ipython3",
   "version": "3.10.12"
  }
 },
 "nbformat": 4,
 "nbformat_minor": 5
}
