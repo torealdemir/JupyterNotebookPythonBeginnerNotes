{
 "cells": [
  {
   "cell_type": "markdown",
   "id": "0cc3b329-376e-43c1-bd5a-3394826bf7eb",
   "metadata": {},
   "source": [
    "+++++++++Paketler\n",
    "\n",
    "Birkaç bölüm önce, Python’ın belkemiği olduğunu söylediğimiz modüller konusundan söz etmiştik. Bu bölümde de yine modüllerle bağlantılı bir konuyu ele alacağız. Konumuz Python’daki paketler.\n",
    "\n"
   ]
  },
  {
   "cell_type": "markdown",
   "id": "7b5f8b0a-69b9-450f-b67f-ad62bae544bd",
   "metadata": {},
   "source": [
    "++++++++++++Paket Nedir?\n",
    "\n",
    "Öncelikle paketin ne demek olduğunu anlamaya çalışarak başlayalım. Python’da bir dizin yapısı içinde bir araya getirilen, birbiriyle bağlantılı modüllere paket adı verilir. Dolayısıyla paketler modüllerden oluşur.\n",
    "\n",
    "Python programlama dilinde paketler hem geniş bir yer tutar, hem de büyük bir önem taşır. Hatta Python’ı bilmenin paketleri bilmek demek olduğunu söylersek çok da abartmış olmayız. Mesela Python’la web programları yazmak için kullanılan en gözde araçlardan biri olan django web çatısı, aslında birtakım üçüncü şahıs modüllerinin bir paket yapısı içinde bir araya getirilmiş halinden başka bir şey değildir. Aynı şekilde Python’la Android ve iOS üzerinde çalışabilecek programlar yazmak isterseniz kivy adlı bir başka Python paketini öğrenmeniz gerekir. Python programlama dilini kullanarak grafik arayüzlü yazılımlar geliştirmemizi sağlayan tkinter ise standart kütüphanede bulunan pek çok paketten yalnızca bir tanesidir.\n",
    "\n",
    "Etrafta django, kivy ve tkinter gibi pek çok kullanışlı paket bulabilirsiniz. Mesela standart kütüphanede bulunan sqlite3, Sqlite veritabanları üzerinde çalışmamıza imkan tanıyan çeşitli modülleri içinde barındıran bir Python paketidir. Yine standart kütüphanede bulunan urllib paketi yardımıyla internet adresleri (URL’ler) üzerinde çeşitli işlemler yapabilirsiniz. Python kurulum dizini içindeki Lib klasörü altında pek çok standart Python paketi görebilirsiniz.\n",
    "\n",
    "Peki modüllerle paketleri birbirinden ayıran şey nedir?\n",
    "\n",
    "Öncelikle, paketler modüllere kıyasla çok daha kapsamlı bir yapıdır. Zira bir paket içinde (genellikle) birden fazla modül bulunur. Örneğin standart kütüphanede bulunan ve tek bir os.py dosyasından oluşan os bir modülken, içinde pek çok farklı modülü barındıran collections bir pakettir. Tek bir dosyadan oluştuğu ve bir dizin yapısı içinde yer almadığı için bir modülden içe aktarma işlemi gerçekleştirmek son derece kolaydır. Paketlerden içe aktarma yaparken uymamız gereken kurallar ise haliyle biraz daha karmaşıktır.\n",
    "\n",
    "İkincisi, bütün paketler aynı zamanda birer modüldür, ancak bütün modüller birer paket değildir. Örneğin venv paketinden bahsederken ‘venv modülü’ demek yanlış olmaz. Ancak os modülünden bahsederken ‘os paketi’ demek biraz abes kaçacaktır.\n",
    "\n",
    "Üçüncüsü, paketlerin __path__ adlı özel bir niteliği bulunur. Modüllerde ise bu nitelik bulunmaz. Örneğin:\n",
    "\n"
   ]
  },
  {
   "cell_type": "code",
   "execution_count": 1,
   "id": "51129e95-61fb-463e-99ed-d3cb5220806e",
   "metadata": {},
   "outputs": [
    {
     "ename": "AttributeError",
     "evalue": "module 'os' has no attribute '__path__'",
     "output_type": "error",
     "traceback": [
      "\u001b[0;31m---------------------------------------------------------------------------\u001b[0m",
      "\u001b[0;31mAttributeError\u001b[0m                            Traceback (most recent call last)",
      "Cell \u001b[0;32mIn[1], line 2\u001b[0m\n\u001b[1;32m      1\u001b[0m \u001b[38;5;28;01mimport\u001b[39;00m\u001b[38;5;250m \u001b[39m\u001b[38;5;21;01mos\u001b[39;00m\n\u001b[0;32m----> 2\u001b[0m \u001b[43mos\u001b[49m\u001b[38;5;241;43m.\u001b[39;49m\u001b[43m__path__\u001b[49m\n",
      "\u001b[0;31mAttributeError\u001b[0m: module 'os' has no attribute '__path__'"
     ]
    }
   ],
   "source": [
    "import os\n",
    "os.__path__\n"
   ]
  },
  {
   "cell_type": "markdown",
   "id": "bc50c954-8380-43eb-8200-79542bb9749b",
   "metadata": {},
   "source": [
    "os bir modül olduğu için, __path__ niteliğine sahip değildir. Bir de json paketine bakalım:"
   ]
  },
  {
   "cell_type": "code",
   "execution_count": 2,
   "id": "8c0cf5c9-365e-43c9-9cf4-03fc7adb31b1",
   "metadata": {},
   "outputs": [
    {
     "data": {
      "text/plain": [
       "['/usr/lib/python3.10/json']"
      ]
     },
     "execution_count": 2,
     "metadata": {},
     "output_type": "execute_result"
    }
   ],
   "source": [
    "import json\n",
    "json.__path__"
   ]
  },
  {
   "cell_type": "markdown",
   "id": "56cef322-4e50-4d8d-b76b-4c71bce0a993",
   "metadata": {},
   "source": [
    "json ise bir paket olduğu için, __path__ niteliğine sahiptir. Birazdan bu niteliğin ne işe yaradığını anlatacağız. Ama ondan önce öğrenmeniz gereken başka şeyler var.\n",
    "\n"
   ]
  },
  {
   "cell_type": "markdown",
   "id": "9da40c61-6377-4503-b03b-0c36bf9a3760",
   "metadata": {},
   "source": [
    "+++++++++++++++++Paket Türleri\n",
    "\n",
    "Tıpkı fonksiyonlarda ve modüllerde olduğu gibi, paketlerin de türleri vardır. Paketleri, kaynaklarına göre ikiye ayırabiliriz:\n",
    "\n",
    "Standart Paketler\n",
    "\n",
    "Üçüncü Şahıs Paketleri\n",
    "\n",
    "Bu türlerin ne anlama geldiğini isimlerine bakarak rahatlıkla anlayabiliyoruz. Ama gelin isterseniz bunları kısaca gözden geçirelim.\n",
    "\n",
    "Öncelikle standart paketlerden başlayalım."
   ]
  },
  {
   "cell_type": "markdown",
   "id": "a4772a8c-0ddc-4fd2-86a2-c777efe0b63d",
   "metadata": {},
   "source": [
    "++++++++++++++++++Standart Paketler\n",
    "\n",
    "Standart paketler, Python’ın standart kütüphanesinde bulunan paketlerdir. Tıpkı gömülü fonksiyonlar ve standart modüller gibi, standart paketler de dilin bir parçası olduklarından, bunlara erişebilmek için herhangi bir ek yazılım indirip kurmamıza gerek kalmaz; bu paketler her an emrimize amadedir. Standart paketlere Python kurulum dizini içindeki Lib klasöründen erişebilirsiniz. Bir standart paketin tam olarak hangi konumda bulunduğunu öğrenmek için ise ilgili paketin __path__ niteliğini sorgulayabilirsiniz:"
   ]
  },
  {
   "cell_type": "code",
   "execution_count": 3,
   "id": "33958378-d569-4e65-a1de-40f4fed8229c",
   "metadata": {},
   "outputs": [
    {
     "data": {
      "text/plain": [
       "['/usr/lib/python3.10/urllib']"
      ]
     },
     "execution_count": 3,
     "metadata": {},
     "output_type": "execute_result"
    }
   ],
   "source": [
    "import urllib\n",
    "urllib.__path__"
   ]
  },
  {
   "cell_type": "markdown",
   "id": "1f94b5f3-c225-41ec-a4e8-3a4183ba7da0",
   "metadata": {},
   "source": [
    "Eğer sorguladığınız şeyin bir __path__ niteliği yoksa, paket sandığınız o şey, aslında bir paket değildir. Örneğin:"
   ]
  },
  {
   "cell_type": "code",
   "execution_count": 4,
   "id": "e4708608-e564-42ae-b892-2af1478bb62e",
   "metadata": {},
   "outputs": [
    {
     "ename": "AttributeError",
     "evalue": "module 'subprocess' has no attribute '__path__'",
     "output_type": "error",
     "traceback": [
      "\u001b[0;31m---------------------------------------------------------------------------\u001b[0m",
      "\u001b[0;31mAttributeError\u001b[0m                            Traceback (most recent call last)",
      "Cell \u001b[0;32mIn[4], line 2\u001b[0m\n\u001b[1;32m      1\u001b[0m \u001b[38;5;28;01mimport\u001b[39;00m\u001b[38;5;250m \u001b[39m\u001b[38;5;21;01msubprocess\u001b[39;00m\n\u001b[0;32m----> 2\u001b[0m \u001b[43msubprocess\u001b[49m\u001b[38;5;241;43m.\u001b[39;49m\u001b[43m__path__\u001b[49m\n",
      "\u001b[0;31mAttributeError\u001b[0m: module 'subprocess' has no attribute '__path__'"
     ]
    }
   ],
   "source": [
    "import subprocess\n",
    "subprocess.__path__"
   ]
  },
  {
   "cell_type": "markdown",
   "id": "3aa4f578-6b09-4131-a14d-5c34f33ea63b",
   "metadata": {},
   "source": [
    "Çünkü, bildiğiniz gibi, paketlerin aksine, modüllerin __path__ adlı bir niteliği bulunmaz. subprocess de bir paket değil, modül olduğu için __path__ sorgusu hata verecektir.\n",
    "\n",
    "Bir paketin __path__ niteliğini sorguladığınızda çıktıda hangi dizini görüyorsanız, o paketin bilgisayardaki konumu odur. Mesela yukarıda adını andığımız urllib paketinin __path__ niteliğini sorgulayıp, karşımıza çıkan klasöre gidelim. Paket dizininin içini açtığımızda karşımıza şu dosyalar çıkacak:\n",
    "\n"
   ]
  },
  {
   "cell_type": "raw",
   "id": "8dfd0f6b-1fd9-4422-a5a8-e5816fef24aa",
   "metadata": {},
   "source": [
    "error.py\n",
    "parse.py\n",
    "request.py\n",
    "response.py\n",
    "robotparser.py\n",
    "__init__.py"
   ]
  },
  {
   "cell_type": "markdown",
   "id": "6472e399-820d-4a87-8b5e-3851814f449d",
   "metadata": {},
   "source": [
    "Daha önce de dediğimiz gibi, paketler modüllerden oluşur. İşte urllib paketi de yukarıda ismini gördüğümüz modüllerin birleşiminden oluşuyor. Python kurulum dizini içindeki Lib klasörü altında yer alan paketleri inceleyerek, hangi paketin hangi modüllerden oluştuğunu kendiniz de görebilirsiniz."
   ]
  },
  {
   "cell_type": "markdown",
   "id": "68ea43b2-6d57-4d26-8d18-9bb1a03222ad",
   "metadata": {},
   "source": [
    "++++++++++++++Üçüncü Şahıs Paketleri\n",
    "\n",
    "Python’da standart paketlerin dışında bir de üçüncü şahıs paketleri vardır. Bunlar Python geliştiricileri haricindeki kişilerce yazılıp kullanımımıza sunulmuş araçlardır. Bu paketler, standart paketlerin aksine dilin bir parçası olmadığından, bu paketleri kullanabilmek için öncelikle bunları bilgisayarımıza kurmamız gerekir. Mesela django, kivy ve ilk derslerimizden birinde bahsettiğimiz cx_freeze birer üçüncü şahıs paketidir.\n",
    "\n",
    "Peki bu üçüncü şahıs paketlerini nereden bulabiliriz?\n",
    "\n",
    "Hatırlarsanız Modüller konusunu işlerken ‘Üçüncü Şahıs Modüllerinden’ de söz etmiştik. Üçüncü şahıs modüllerini bulabileceğimiz başlıca kaynağın https://pypi.org adresi olduğunu ve buradan 60.000’in üzerinde üçüncü şahıs Python modülüne ulaşabileceğimizi de ifade etmiştik. İşte orada bahsettiğimiz üçüncü şahıs modülleri, aslında birer pakettir. Zira üçüncü şahıs modülleri çoğunlukla birer paket biçiminde sunulur. Dolayısıyla üçüncü şahıs modüllerine nereden ve nasıl ulaşıyorsak, üçüncü şahıs paketlerine de aynı yerden ve aynı şekilde ulaşabiliriz. Ayrıca bir üçüncü şahıs paketini kurmadan önce, ilgili paketin yardım dosyalarını veya websitesini incelemekte de fayda var. Çünkü bazı üçüncü şahıs modüllerini kurabilmek için birtakım özel gereksinimleri yerine getirmeniz gerekiyor olabilir. Bu tür bilgilere de ancak ilgili paketi geliştiren kişi veya ekibin websitesinden ulaşabilirsiniz.\n",
    "\n",
    "Bir üçüncü şahıs paketinin https://pypi.org adresindeki adını öğrendikten sonra, bu paketi şu komutla kurabilirsiniz:"
   ]
  },
  {
   "cell_type": "code",
   "execution_count": null,
   "id": "8dd63e15-2feb-403c-baa3-5e57f31ee650",
   "metadata": {},
   "outputs": [],
   "source": [
    "pip3 install paket_adı"
   ]
  },
  {
   "cell_type": "markdown",
   "id": "2661aa1e-2090-4d30-82f4-91d36798a28e",
   "metadata": {},
   "source": [
    "Mesela restructuredText biçimli metin dosyalarından şık ve kullanışlı belgeler üretmemizi sağlayan sphinx paketi PyPI sitesinde bulunuyor. Dolayısıyla bu paketi kurmak için şu komutu verebiliriz:"
   ]
  },
  {
   "cell_type": "code",
   "execution_count": null,
   "id": "2800aac1-c0de-407e-a76d-f65bde174973",
   "metadata": {},
   "outputs": [],
   "source": [
    "pip3 install sphinx"
   ]
  },
  {
   "cell_type": "markdown",
   "id": "faef4773-4bfa-401c-a076-ee2de8f574b2",
   "metadata": {},
   "source": [
    "Elbette, eğer bir GNU/Linux dağıtımı kullanıyorsanız, bu komutu root haklarıyla çalıştırmanız gerektiğini söylememe herhalde gerek yok:"
   ]
  },
  {
   "cell_type": "code",
   "execution_count": null,
   "id": "251f6f9d-7459-46bd-a36b-3f14b40f67e8",
   "metadata": {},
   "outputs": [],
   "source": [
    "sudo pip3 install sphinx"
   ]
  },
  {
   "cell_type": "markdown",
   "id": "a644fffe-d69b-4732-b5ff-a2c35506a826",
   "metadata": {},
   "source": [
    "pip3 adlı yazılım, sphinx paketinin bütün dosyalarını PyPI sitesinden çekip otomatik olarak bilgisayarımıza kuracaktır.\n",
    "\n",
    "Bir üçüncü şahıs paketini pip3 komutuyla kurmak yerine elle kurmayı da tercih edebilirsiniz. Örnek olarak bu defa django paketini alalım. Bu paketin en son sürümünü https://pypi.org/project/Django/#files adresinden indirebilirsiniz. Ayrıca arzu ederseniz https://www.djangoproject.com adresine uğrayarak bu modülün resmi websitesine de gözatabilirsiniz.\n",
    "\n",
    "İndirdiğiniz tar.gz uzantılı sıkıştırılmış dosyayı açtığınızda karşısınıza pek çok dizin ve bu dizinlerin içinde de pek çok Python dosyası çıkacak. Django, geniş kapsamlı üçüncü şahıs paketlerine güzel bir örnektir.\n",
    "\n",
    "Django paketini açıp django-master adlı dizinin içine girdiğinizde, orada setup.py adlı bir dosya göreceksiniz. İşte pip3 komutu yerine, bu dosyayı kullanarak da bu paketi bilgisayarımıza kurabiliriz.\n",
    "\n",
    "Dikkatlice bakın:"
   ]
  },
  {
   "cell_type": "code",
   "execution_count": null,
   "id": "99548775-22dc-41ce-8ebc-83da3679c429",
   "metadata": {},
   "outputs": [],
   "source": [
    "python3 setup.py install\n"
   ]
  },
  {
   "cell_type": "markdown",
   "id": "aacc318c-b3d2-46c3-8595-22f9108f2ae0",
   "metadata": {},
   "source": [
    "Bu komutta iki önemli unsur var. Birincisi, komutu çalıştırdığımız Python sürümü. Unutmayın, bir Python paketini hangi Python sürümü ile kurarsanız, o paketi o sürüm ile kullanabilirsiniz. Ben yukarıdaki komutta, sizin Python sürümünüzü başlatan komutun python3 olduğunu varsaydım. Eğer siz Python’ı başlatmak için veya başka Python programlarını çalıştırmak için farklı bir komut kullanıyorsanız, setup.py dosyasını da o komutla çalıştıracaksınız. Neticede setup.py de sıradan bir Python programıdır. Bu programı install parametresi ile birlikte çalıştırarak Django paketini sisteminize kurmuş oluyorsunuz. Kurulum tamamlandıktan sonra, kurulumun başarılı olup olmadığını test etmek için Python komut satırında şu komutu verin:"
   ]
  },
  {
   "cell_type": "code",
   "execution_count": null,
   "id": "0c367a64-c549-4038-b9a3-e6175cefbb81",
   "metadata": {},
   "outputs": [],
   "source": [
    "import django\n"
   ]
  },
  {
   "cell_type": "markdown",
   "id": "adcc424e-b279-41b9-aac0-2f04551390df",
   "metadata": {},
   "source": [
    "Eğer herhangi bir çıktı verilmeden alt satıra geçildiyse, bir üçüncü şahıs paketi olan django’yu bilgisayarınıza başarıyla kurmuşsunuz demektir. Bu üçüncü şahıs modülünü nasıl kullanacağınızı öğrenmek için internet üzerindeki sayısız makaleden ve kitaptan yararlanabilirsiniz."
   ]
  },
  {
   "cell_type": "markdown",
   "id": "44b27880-a124-4fd2-ae03-e965eaa249b1",
   "metadata": {},
   "source": [
    "++++++++++Paketlerin İçe Aktarılması\n",
    "\n",
    "Modüllerle paketler arasındaki önemli bir fark, paketlerin modüllere kıyasla daha karmaşık bir yapıda olmasıdır. Yalnızca tek bir dosyadan oluşan modüllerin bu basit yapısından ötürü, bir modülden nitelik veya metot içe aktarmak çok kolaydır. Mesela bir modül olan os’u şu şekilde içe aktarabiliriz:\n",
    "\n"
   ]
  },
  {
   "cell_type": "code",
   "execution_count": null,
   "id": "da02a4d3-f846-4431-8587-05745d8fa65f",
   "metadata": {},
   "outputs": [],
   "source": [
    "import os\n"
   ]
  },
  {
   "cell_type": "markdown",
   "id": "32e338d4-be75-45dd-8c0a-f057b96d7a2d",
   "metadata": {},
   "source": [
    "Eğer os modülünden name niteliğini almak istersek şu komutu kullanabiliriz:\n",
    "\n"
   ]
  },
  {
   "cell_type": "code",
   "execution_count": null,
   "id": "59184b96-ab52-4bfd-a3f1-0f84b8a26c5b",
   "metadata": {},
   "outputs": [],
   "source": [
    "from os import name"
   ]
  },
  {
   "cell_type": "markdown",
   "id": "a428b244-987c-4537-910e-cb98f4904dce",
   "metadata": {},
   "source": [
    "os modülü içindeki bütün nitelik ve metotları içe aktarmak istediğimizde yıldızlı içe aktarma yönteminden yararlanabiliriz:\n",
    "\n"
   ]
  },
  {
   "cell_type": "code",
   "execution_count": null,
   "id": "314a4ed2-a01e-4d1e-8f68-b1dc8f290a31",
   "metadata": {},
   "outputs": [],
   "source": [
    "from os import *"
   ]
  },
  {
   "cell_type": "markdown",
   "id": "a93be5d3-fab6-41d6-a83b-eb80e5a5806e",
   "metadata": {},
   "source": [
    "Veya bu modül içindeki bir niteliği veya metodu başka bir isim altında da içe aktarabiliriz:"
   ]
  },
  {
   "cell_type": "code",
   "execution_count": null,
   "id": "1b988f30-48fb-443a-b997-f1d0aa3a586e",
   "metadata": {},
   "outputs": [],
   "source": [
    "from os import execv as exe"
   ]
  },
  {
   "cell_type": "markdown",
   "id": "6bf43936-84ff-43b9-8207-5b53867933ec",
   "metadata": {},
   "source": [
    "Gelelim paketlere…"
   ]
  },
  {
   "cell_type": "markdown",
   "id": "9e577b04-3d22-4297-b370-38ec119059b4",
   "metadata": {},
   "source": [
    "+++++++++++import paket\n",
    "\n",
    "Mesela urllib paketini ele alalım. Tıpkı os modülünde yaptığımız gibi, urllib paketini de şu şekilde içe aktarabiliriz:\n",
    "\n"
   ]
  },
  {
   "cell_type": "code",
   "execution_count": null,
   "id": "db77ed9e-3483-4dcf-a5a0-bb8239aae3e9",
   "metadata": {},
   "outputs": [],
   "source": [
    "import urllib"
   ]
  },
  {
   "cell_type": "markdown",
   "id": "b96b841b-81cc-4f83-ae7b-2d576c19e381",
   "metadata": {},
   "source": [
    "Ancak os modülünün aksine, urllib paketini içe aktardığımızda mevcut isim alanına herhangi bir nitelik veya metot otomatik olarak aktarılmaz. Örneğin os modülünü içe aktardığımızda bu modülün içeriğinin, os öneki altında mevcut isim alanına döküldüğünü biliyoruz:\n",
    "\n"
   ]
  },
  {
   "cell_type": "code",
   "execution_count": null,
   "id": "eb63e1ff-2787-48e9-a648-48c83787be55",
   "metadata": {},
   "outputs": [],
   "source": [
    "dir(os)"
   ]
  },
  {
   "cell_type": "markdown",
   "id": "a748d2c3-45fa-4755-b617-bfcf79629fc0",
   "metadata": {},
   "source": [
    "Gördüğünüz gibi, modül içeriği kullanılabilir durumda. Listedeki nitelik ve metotlara os öneki ile erişebiliriz:\n",
    "\n"
   ]
  },
  {
   "cell_type": "code",
   "execution_count": null,
   "id": "d568de43-7a12-4c8e-93eb-a793dadeb6f3",
   "metadata": {},
   "outputs": [],
   "source": [
    "os.name\n",
    "os.listdir(os.getcwd())"
   ]
  },
  {
   "cell_type": "markdown",
   "id": "9780cdc8-e7bd-4560-8d78-869cfe075eac",
   "metadata": {},
   "source": [
    "gibi…\n",
    "\n",
    "Ancak import os komutunun aksine, import urllib komutu, paket içeriğini otomatik olarak mevcut isim alanına aktarmaz:"
   ]
  },
  {
   "cell_type": "code",
   "execution_count": 5,
   "id": "3feae4ae-c12b-47cb-8af1-f8d93f639722",
   "metadata": {},
   "outputs": [
    {
     "data": {
      "text/plain": [
       "['__builtins__',\n",
       " '__cached__',\n",
       " '__doc__',\n",
       " '__file__',\n",
       " '__loader__',\n",
       " '__name__',\n",
       " '__package__',\n",
       " '__path__',\n",
       " '__spec__',\n",
       " 'error',\n",
       " 'parse',\n",
       " 'request',\n",
       " 'response']"
      ]
     },
     "execution_count": 5,
     "metadata": {},
     "output_type": "execute_result"
    }
   ],
   "source": [
    "import urllib\n",
    "dir(urllib)\n"
   ]
  },
  {
   "cell_type": "markdown",
   "id": "cb385eee-aba2-4b8a-a179-93730de1b9cd",
   "metadata": {},
   "source": [
    "Gördüğünüz gibi listede yalnızca standart metot ve nitelikler var. Bu listede mesela paket içeriğinde olduğunu bildiğimiz error.py, parse.py, request.py, response.py ve robotparser.py gibi modülleri göremiyoruz. Eğer paket içinde bulunan belirli bir modülü içe aktarmak istiyorsak bunu açık açık belirtmeliyiz. Nasıl mı? Görelim…\n",
    "\n"
   ]
  },
  {
   "cell_type": "markdown",
   "id": "e19558c5-ec56-401d-9007-6b70a13468c0",
   "metadata": {},
   "source": [
    "++++++++++import paket.modül\n",
    "\n",
    "Mesela urllib paketinden request modülünü içe aktarmak istersek şu komutu yazacağız:"
   ]
  },
  {
   "cell_type": "code",
   "execution_count": null,
   "id": "d6ce2002-0d30-4d0d-b97c-a15b67f4a078",
   "metadata": {},
   "outputs": [],
   "source": [
    "import urllib.request"
   ]
  },
  {
   "cell_type": "markdown",
   "id": "c630e0bb-a490-44e4-9541-cba7cf1a7134",
   "metadata": {},
   "source": [
    "Bu modülü yukarıdaki şekilde içe aktardığımızda, modül içindeki nitelik ve metotlara urllib.request önekiyle erişebiliriz:\n",
    "\n"
   ]
  },
  {
   "cell_type": "code",
   "execution_count": null,
   "id": "0e6abf30-6c51-4341-ba38-b546b8f5931d",
   "metadata": {},
   "outputs": [],
   "source": [
    "urllib.request.urlopen('https://yazbel.com/')"
   ]
  },
  {
   "cell_type": "markdown",
   "id": "88245898-b337-4da2-80c7-a3a29ec89971",
   "metadata": {},
   "source": [
    "+++++++++++from paket import modül\n",
    "\n",
    "Yukarıda olduğu gibi, urllib paketi içindeki request modülünü import paket.modül gibi bir komutla içe aktardığımızda ilgili modülün bütün nitelik ve metotları urllib.request ismi altında içe aktarıldığından, urllib paketi içindeki request modülünün nitelik ve metotlarına ulaşabilmek için her defasında urllib.request önekini kullanmamız gerekir. Eğer her defasında uzun uzun urllib.request yazmak istemiyorsanız paket içindeki modülü şu şekilde içe aktarabilirsiniz:"
   ]
  },
  {
   "cell_type": "code",
   "execution_count": null,
   "id": "5aa43afb-0ea4-43a7-b83a-fb7b2672d3ae",
   "metadata": {},
   "outputs": [],
   "source": [
    "from urllib import request"
   ]
  },
  {
   "cell_type": "markdown",
   "id": "18cb01f2-d043-41d0-8b38-13f26e04047f",
   "metadata": {},
   "source": [
    "Böylece request modülünün nitelik ve metotlarına yalnızca request önekiyle erişebilirsiniz:"
   ]
  },
  {
   "cell_type": "code",
   "execution_count": null,
   "id": "d880c073-5109-4294-b7a6-e533689b3ae8",
   "metadata": {},
   "outputs": [],
   "source": [
    "request.urlopen('https://yazbel.com/')"
   ]
  },
  {
   "cell_type": "markdown",
   "id": "77147364-198a-4f04-84bc-f831a2685392",
   "metadata": {},
   "source": [
    "+++++++++++++from paket.modül import nitelik_veya_metot\n",
    "\n",
    "Peki bir paket içinde yer alan herhangi bir modül içindeki nitelik ve metotlara öneksiz olarak erişmek istersek ne yapacağız? Python bize bu isteğimizi yerine getirmemizi sağlayacak bir yol da sunar.\n",
    "\n",
    "Dikkatlice bakın:"
   ]
  },
  {
   "cell_type": "code",
   "execution_count": null,
   "id": "7681020e-ae0e-4ea4-bd67-851d36584835",
   "metadata": {},
   "outputs": [],
   "source": [
    "from urllib.request import urlopen"
   ]
  },
  {
   "cell_type": "markdown",
   "id": "22b53c9e-1541-48c0-851b-730b285feab7",
   "metadata": {},
   "source": [
    "Bu şekilde urllib paketi içindeki request modülünden urlopen adlı metodu doğrudan içe aktarmış olduk. Dolayısıyla bu metodu dümdüz kullanabiliriz:\n",
    "\n"
   ]
  },
  {
   "cell_type": "code",
   "execution_count": null,
   "id": "322b1026-31cb-4fd7-b60a-00e1ea9fe414",
   "metadata": {},
   "outputs": [],
   "source": [
    "urlopen('https://yazbel.com/')"
   ]
  },
  {
   "cell_type": "markdown",
   "id": "0cf91ce9-63d3-4cd1-9a85-79b6a15fdfb8",
   "metadata": {},
   "source": [
    "Ancak, modüller konusunu işlerken öneksiz aktarmaya ilişkin söylediklerimizin paketler için de geçerli olduğunu aklımızdan çıkarmıyoruz."
   ]
  },
  {
   "cell_type": "markdown",
   "id": "500030ea-bf13-442d-b75c-1217b840bfe2",
   "metadata": {},
   "source": [
    "+++++++++++++from paket.modül import *\n",
    "\n",
    "Eğer bir paket içindeki bir modülün bütün nitelik ve metotlarını mevcut isim alanına olduğu gibi aktarmak isterseniz şu içe aktarma yöntemini kullanabilirsiniz:\n",
    "\n"
   ]
  },
  {
   "cell_type": "code",
   "execution_count": null,
   "id": "39fa977b-88d7-4752-a5f2-125e5fa9d866",
   "metadata": {},
   "outputs": [],
   "source": [
    "from paket.modül import *"
   ]
  },
  {
   "cell_type": "markdown",
   "id": "91d0feff-5dba-4447-9366-732216944a2f",
   "metadata": {},
   "source": [
    "Bu bilgiyi urllib modülüne uygulayalım:"
   ]
  },
  {
   "cell_type": "code",
   "execution_count": null,
   "id": "37fdccdf-ca33-4490-9f51-c8a5d2b40994",
   "metadata": {},
   "outputs": [],
   "source": [
    "from urllib.request import *"
   ]
  },
  {
   "cell_type": "markdown",
   "id": "cc9f90a8-4707-4593-9dce-d3e5c13c121d",
   "metadata": {},
   "source": [
    "Bu şekilde urllib paketi içindeki request modülünün bütün nitelik ve metotlarını doğrudan mevcut isim alanına aktarmış olduk. Bu yöntemin büyük bir rahatlık sunmakla birlikte önemli dezavantajlara da sahip olduğunu gayet iyi bildiğinizden eminim.\n",
    "\n",
    "+++++++++++++Kendi Oluşturduğumuz Paketler\n",
    "\n",
    "Buraya kadar hep başkalarının yazdığı, hazır paketlerden söz ettik. Bu sayede bir Python paketinin yapı olarak neye benzediğini ve nasıl kullanılacağını kabataslak da olsa anlamış olduk. Elbette biz sadece başkalarının yazdığı paketleri kullanmayacağız. Bir de bizim kendi yazdığımız Python paketleri olacak.\n",
    "\n",
    "Kendi oluşturduğumuz paketler, adı üzerinde, kendi kendimize yazıp meydana getirdiğimiz paketlerdir. Bu paketleri iyice geliştirdikten ve başkaları için de yararlı olabilecek hale getirdikten sonra, istersek https://pypi.org adresindeki üçüncü şahıs paket deposuna yükleyebiliriz. Böylece kendi geliştirdiğimiz paketler de, üçüncü şahıs Python paketleri arasına girmiş olur…\n",
    "\n",
    "İşte bu bölümde, bu tür paketleri nasıl yazacağımızı ele alacağız.\n",
    "\n",
    "+++++++++++Paket Oluşturmak\n",
    "\n",
    "Bir Python programı yazdığınızı düşünün. Programınızı ilk yazmaya başlarken doğal olarak programınız tek bir dosyadan oluşacaktır. Ancak elbette programınız büyüdükçe, bütün kodları tek bir dosyaya sıkıştırmak yerine, farklı işlevleri farklı dosyalar içinde tanımlamanın daha mantıklı olduğunu farkedeceksiniz. Mesela programın grafik arayüz kısmını bir dosyada tanımlarken, düğmelere, menülere bağlayacağınız işlevleri bir başka dosyada tanımlamak isteyebilirsiniz. Programınızın gerçekleştirdiği işlemleri küçük, mantıklı birimlere bölüp bunları farklı modüllere taşımanız, programınızı çok daha rahat bir şekilde idare etmenizi sağlayacaktır. Yani, yazdığınız programı birkaç modüle bölüp, bunları bir paket yapısı içinde sunmanız hem kendiniz açısından, hem de kodlarınızı okuyan başkaları açısından işleri epey kolaylaştıracaktır.\n",
    "\n",
    "Python’da bir paket oluşturmak son derece kolaydır. Program kodlarını içeren .py dosyasını bir klasör içine koyduğunuz anda, o klasörün adını taşıyan bir paket meydana getirmiş olursunuz.\n",
    "\n",
    "Mesela bir sipariş takip programı yazdığımızı düşünelim. Ana klasörümüzün adını siparistakip koyalım. Bu klasör içinde de komut.py, veritabani.py ve siparis.py adlı modüller olsun. Yani şöyle bir dosya-dizin yapısı oluşturalım:"
   ]
  },
  {
   "cell_type": "raw",
   "id": "623fa05d-3d25-49b2-9fd0-c0834d3f8f63",
   "metadata": {},
   "source": [
    "+ siparistakip\n",
    "|__ siparis.py\n",
    "|__ komut.py\n",
    "|__ veritabani.py"
   ]
  },
  {
   "cell_type": "markdown",
   "id": "1875740e-de18-42a9-8567-82a7e7f3a993",
   "metadata": {},
   "source": [
    "İşte bu şekilde basit bir dosya-dizin yapısı oluşturduğumuzda, siparistakip adlı bir Python paketi meydana getirmiş oluyoruz[1].\n",
    "\n",
    "Gelin isterseniz, siparistakip dizininin gerçekten bir paket olduğunu teyit edelim.\n",
    "\n",
    "Öncelikle paketimizi içe aktaralım. Bunun için siparistakip dizininin bulunduğu klasörde şu komutu verelim:"
   ]
  },
  {
   "cell_type": "code",
   "execution_count": null,
   "id": "1248ddb7-73c7-4dc3-9a74-c9a45826f507",
   "metadata": {},
   "outputs": [],
   "source": [
    "import siparistakip"
   ]
  },
  {
   "cell_type": "markdown",
   "id": "1c082f50-61c4-451c-9433-6195f9d6890e",
   "metadata": {},
   "source": [
    "Şimdi paket içeriğini kontrol edelim:"
   ]
  },
  {
   "cell_type": "code",
   "execution_count": null,
   "id": "4a50b285-414d-4e85-a6e1-1ebe2283be30",
   "metadata": {},
   "outputs": [],
   "source": [
    "dir(siparistakip)\n",
    "\n",
    "['__doc__', '__loader__', '__name__',\n",
    " '__package__', '__path__', '__spec__']"
   ]
  },
  {
   "cell_type": "markdown",
   "id": "37ae63ac-2fc3-4579-9d70-27ea4db9e00a",
   "metadata": {},
   "source": [
    "Gördüğünüz gibi, listede __path__ adlı bir nitelik var. Bu niteliğin yalnızca paketlerde bulunduğunu biliyorsunuz. Demek ki siparistakip gerçekten de bir Python paketiymiş. Bunun dışında, listede gördüğünüz __package__ niteliğini kullanarak da bir modülün paket olup olmadığını kontrol edebilirsiniz:"
   ]
  },
  {
   "cell_type": "code",
   "execution_count": null,
   "id": "c5622812-e5cb-4fdc-b799-964c94f1c43f",
   "metadata": {},
   "outputs": [],
   "source": [
    "siparistakip.__package__\n",
    "\n",
    "'siparistakip'"
   ]
  },
  {
   "cell_type": "markdown",
   "id": "3997f5d6-71ff-446b-a0bb-b2ea92e816f0",
   "metadata": {},
   "source": [
    "Eğer test ettiğimiz modül bir paketse, __package__ niteliği bize bir paket adı verecektir. Yok eğer test ettiğimiz modül bir paket değil de alelade bir modülse, __package__ niteliği boş bir karakter dizisi döndürecektir. Mesela os modülünün bir paket olmadığını biliyoruz:\n",
    "\n"
   ]
  },
  {
   "cell_type": "code",
   "execution_count": null,
   "id": "fcadfe8b-f3a2-4320-9883-978bc35b7608",
   "metadata": {},
   "outputs": [],
   "source": [
    "import os\n",
    "os.__package__\n",
    "\n",
    "''"
   ]
  },
  {
   "cell_type": "markdown",
   "id": "bd219c40-56c2-442f-90e0-43fb536c51a1",
   "metadata": {},
   "source": [
    "Gördüğünüz gibi, bu modülün __package__ niteliği boş bir karakter dizisi. Ayrıca bu modül bir paket olmadığı için, __path__ adlı bir nitelik de barındırmıyor:"
   ]
  },
  {
   "cell_type": "code",
   "execution_count": 6,
   "id": "644991eb-5f4b-4f45-902d-69af41523603",
   "metadata": {},
   "outputs": [
    {
     "ename": "AttributeError",
     "evalue": "module 'os' has no attribute '__path__'",
     "output_type": "error",
     "traceback": [
      "\u001b[0;31m---------------------------------------------------------------------------\u001b[0m",
      "\u001b[0;31mAttributeError\u001b[0m                            Traceback (most recent call last)",
      "Cell \u001b[0;32mIn[6], line 1\u001b[0m\n\u001b[0;32m----> 1\u001b[0m \u001b[43mos\u001b[49m\u001b[38;5;241;43m.\u001b[39;49m\u001b[43m__path__\u001b[49m\n",
      "\u001b[0;31mAttributeError\u001b[0m: module 'os' has no attribute '__path__'"
     ]
    }
   ],
   "source": [
    "os.__path__"
   ]
  },
  {
   "cell_type": "markdown",
   "id": "4af97eab-ab5e-4c08-adbc-c1202907ca1a",
   "metadata": {},
   "source": [
    "Dolayısıyla bütün işaretler, gerçekten de siparistakip adlı bir paket oluşturduğumuzu gösteriyor…\n",
    "\n",
    "++++++++++++++İçe Aktarma İşlemleri\n",
    "\n",
    "Standart paketleri anlatırken, bu paketlerin her konumdan içe aktarılabileceğini söylemiştik. Aynı şey üçüncü şahıs paketleri için de geçerlidir. Çünkü gerek Python geliştiricileri, gerekse üçüncü şahıs paketleri geliştirenler, bu paketleri bize sunarken bunları Python’ın sys.path çıktısına eklemişlerdir. O yüzden standart ve üçüncü şahıs paketlerini içe aktarırken sorun yaşamayız.\n",
    "\n",
    "Ancak tabii ki kendi yazdığımız paketler sys.path listesine ekli olmadığı için, bunları içe aktarırken bazı noktalara dikkat etmeniz gerekir.\n",
    "\n",
    "Mesela masaüstünde şu yapıya sahip bir paket oluşturalım:\n",
    "\n"
   ]
  },
  {
   "cell_type": "code",
   "execution_count": null,
   "id": "7215541f-1dc0-485f-acde-558a3503b595",
   "metadata": {},
   "outputs": [],
   "source": [
    "+ paket\n",
    "|__ modul1.py\n",
    "|__ modul2.py\n",
    "|__ modul3.py\n",
    "    + altdizin\n",
    "    |__altmodul1.py\n",
    "    |__altmodul2.py"
   ]
  },
  {
   "cell_type": "markdown",
   "id": "16173b32-e8fb-46b8-ab3a-6ba1627d95b5",
   "metadata": {},
   "source": [
    "Bu dizinde dosya içerikleri şöyle olsun:\n",
    "\n"
   ]
  },
  {
   "cell_type": "code",
   "execution_count": null,
   "id": "38303ca9-0549-4694-aa1a-c01aba661d91",
   "metadata": {},
   "outputs": [],
   "source": [
    "modul1.py:\n",
    "\n",
    "isim1 = 'modul1'\n",
    "print(isim1)"
   ]
  },
  {
   "cell_type": "code",
   "execution_count": null,
   "id": "b7d0b3af-5594-4be4-a0c1-41d5fb8a8731",
   "metadata": {},
   "outputs": [],
   "source": [
    "modul2.py:\n",
    "\n",
    "isim2 = 'modul2'\n",
    "print(isim2)"
   ]
  },
  {
   "cell_type": "code",
   "execution_count": null,
   "id": "6d6be429-88ac-4632-9101-3fbf0812f18b",
   "metadata": {},
   "outputs": [],
   "source": [
    "modul3.py:\n",
    "\n",
    "isim3 = 'modul3'\n",
    "print(isim3)"
   ]
  },
  {
   "cell_type": "code",
   "execution_count": null,
   "id": "9875cd04-0cf0-4741-b6ec-40e3d5103b87",
   "metadata": {},
   "outputs": [],
   "source": [
    "altmodul1.py:\n",
    "\n",
    "altisim1 = 'altmodul1'\n",
    "print(altisim1)"
   ]
  },
  {
   "cell_type": "code",
   "execution_count": null,
   "id": "33c44393-0ad2-4a4f-9077-a4faca6ece60",
   "metadata": {},
   "outputs": [],
   "source": [
    "altmodul2.py:\n",
    "\n",
    "altisim2 = 'altmodul2'\n",
    "print(altisim2)"
   ]
  },
  {
   "cell_type": "markdown",
   "id": "50043cf9-04bb-404b-992d-6a0828c8bdbe",
   "metadata": {},
   "source": [
    "Şimdi paket adlı dizinin bulunduğu klasörde bir etkileşimli kabuk oturumu açalım. Yalnız bu oturumu paket dizinin içinde değil, bir üst dizinde açacaksınız. Yani o anda bulunduğunuz dizinde dir veya ls komutu verdiğinizde paket adlı dizini görüyor olmanız lazım… Eğer dir veya ls komutunun çıktısında altdizin adlı dizini görüyorsanız yanlış yerdesiniz demektir. Hemen bir üst dizine gidin.\n",
    "\n",
    "Bulunduğumuz konumda şu komutu verelim:"
   ]
  },
  {
   "cell_type": "code",
   "execution_count": null,
   "id": "627042e3-35e5-43b6-873a-59bdae4f99ca",
   "metadata": {},
   "outputs": [],
   "source": [
    "import paket"
   ]
  },
  {
   "cell_type": "markdown",
   "id": "a776d3b1-280d-4da4-ad41-36bb9b76ebfc",
   "metadata": {},
   "source": [
    "Eğer hiçbir çıktı almadan bir alt satıra geçtiyseniz her şey yolunda demektir. Eğer bir hata mesajı görüyorsanız, etkileşimli kabuk oturumunu yanlış konumda açmışsınızdır. Oturumu doğru konumda açıp tekrar gelin…\n",
    "\n",
    "Standart paketlerde ve üçüncü şahıs paketlerinde gördüğümüz gibi, bir paketi yukarıdaki şekilde içe aktardığımızda, o pakete ait herhangi bir modül veya nitelik otomatik olarak içe aktarılmıyor. dir(paket) komutu verdiğinizde yalnızca standart niteliklerin içe aktarıldığını göreceksiniz:\n",
    "\n"
   ]
  },
  {
   "cell_type": "code",
   "execution_count": null,
   "id": "61ced6da-4352-4438-9c70-9e4237fb43e0",
   "metadata": {},
   "outputs": [],
   "source": [
    "dir(paket)\n",
    "\n",
    "['__doc__', '__loader__', '__name__',\n",
    " '__package__', '__path__', '__spec__']"
   ]
  },
  {
   "cell_type": "markdown",
   "id": "a37f8473-1068-4956-b73c-94a6fc9f9c50",
   "metadata": {},
   "source": [
    "Gördüğünüz gibi, oluşturduğumuz paket, bir Python paketinin sahip olması gereken bütün niteliklere sahip.\n",
    "\n",
    "Şimdi bu paket içindeki modul1 adlı modülü içe aktaralım:"
   ]
  },
  {
   "cell_type": "code",
   "execution_count": null,
   "id": "4788aa3a-36bf-4204-b430-37b07a4e694f",
   "metadata": {},
   "outputs": [],
   "source": [
    "from paket import modul1\n",
    "\n",
    "modul1"
   ]
  },
  {
   "cell_type": "markdown",
   "id": "31fa5d5c-5224-450b-9629-ae0932f743e8",
   "metadata": {},
   "source": [
    "Böylece modul1 adlı modülün içindeki değişkenin değerini almış olduk. Paket içindeki öteki modülleri de aynı şekilde içe aktarabilirsiniz:"
   ]
  },
  {
   "cell_type": "code",
   "execution_count": null,
   "id": "6bf5b40a-5361-48fc-a122-47adce03091c",
   "metadata": {},
   "outputs": [],
   "source": [
    "from paket import modul2\n",
    "\n",
    "modul2\n",
    "\n",
    "from paket import modul3\n",
    "\n",
    "modul3"
   ]
  },
  {
   "cell_type": "markdown",
   "id": "d41ab0da-99c6-4073-b3de-4c72a27bb493",
   "metadata": {},
   "source": [
    "Peki ya mesela modul1 içindeki isim1 değişkenini almak istersek ne yapacağız?\n",
    "\n",
    "Dikkatlice bakın:\n",
    "\n"
   ]
  },
  {
   "cell_type": "code",
   "execution_count": null,
   "id": "6e8f65eb-d427-4e12-b337-3f59773dc1e4",
   "metadata": {},
   "outputs": [],
   "source": [
    "from paket.modul1 import isim1\n",
    "\n",
    "modul1"
   ]
  },
  {
   "cell_type": "markdown",
   "id": "42f65751-fa7c-446e-8d97-b657b778fb20",
   "metadata": {},
   "source": [
    "Gördüğünüz gibi, paket içindeki modul1 modülünün isim1 niteliğini başarıyla aldık. Örnek olması açısından ötekileri de alalım:\n",
    "\n"
   ]
  },
  {
   "cell_type": "code",
   "execution_count": null,
   "id": "b7e15972-adf5-4418-a691-e50b6da4adb1",
   "metadata": {},
   "outputs": [],
   "source": [
    "from paket.modul2 import isim2\n",
    "\n",
    "modul2\n"
   ]
  },
  {
   "cell_type": "code",
   "execution_count": null,
   "id": "002ccdda-3965-4adf-9aa9-9f4cdac41b02",
   "metadata": {},
   "outputs": [],
   "source": [
    "from paket.modul3 import isim3\n",
    "\n",
    "modul3"
   ]
  },
  {
   "cell_type": "markdown",
   "id": "86073fe4-7072-4929-ba92-f1ba0aa1c0c8",
   "metadata": {},
   "source": [
    "Buradaki temel mantığı kavradığınızı zannediyorum. Standart modülleri incelerken bahsettiğimiz içe aktarma yöntemlerini tek tek yukarıdaki yapıya uygulayarak, buraya kadar anlattıklarımızı anlayıp anlamadığınızı test edebilirsiniz. Dilerseniz pratik yapmak açısından bir de altdizin içindeki modüllere uzanalım.\n",
    "\n",
    "Öncelikle altdizin’i içe aktaralım:\n",
    "\n"
   ]
  },
  {
   "cell_type": "code",
   "execution_count": null,
   "id": "b8fcb21e-848a-483b-acb7-388a61920149",
   "metadata": {},
   "outputs": [],
   "source": [
    "import paket.altdizin"
   ]
  },
  {
   "cell_type": "markdown",
   "id": "cc8ef351-5acc-4e48-8beb-c48e7addd8cf",
   "metadata": {},
   "source": [
    "Bu şekilde paket adlı paketin altdizin adlı alt dizinini içe aktarmış olduk. Artık bu alt dizin içindeki modüllere ve onların niteliklerine erişebiliriz. Mesela paket adlı paketin altdizin adlı alt dizini içindeki altmodul1 adlı modülün altisim1 niteliğini alalım:\n",
    "\n"
   ]
  },
  {
   "cell_type": "code",
   "execution_count": null,
   "id": "f55c0997-088f-4d2b-bdea-45a98fbe62e8",
   "metadata": {},
   "outputs": [],
   "source": [
    "paket.altdizin.altmodul1.altisim1\n",
    "\n",
    "'altmodul1'"
   ]
  },
  {
   "cell_type": "markdown",
   "id": "69eb646c-042a-44e2-b8c8-8cdba6dc69d5",
   "metadata": {},
   "source": [
    "Gördüğünüz gibi, altisim1 niteliğine erişmek için uzun bir yol gitmemiz gerekiyor. Bu yolu kısaltmak isterseniz modülü şu şekilde içe aktarabilirsiniz:"
   ]
  },
  {
   "cell_type": "code",
   "execution_count": null,
   "id": "bce297fc-7bbe-4470-a6de-43deff606ea9",
   "metadata": {},
   "outputs": [],
   "source": [
    "from paket.altdizin import altmodul1"
   ]
  },
  {
   "cell_type": "markdown",
   "id": "4ea6cbfa-b743-4d59-9a65-5a8a57c51c27",
   "metadata": {},
   "source": [
    "Artık altmodul1’in niteliklerine yalnızca altmodul1 önekiyle ulaşabilirsiniz:\n",
    "\n"
   ]
  },
  {
   "cell_type": "code",
   "execution_count": null,
   "id": "82b4a27c-92f0-4d16-8d80-2bb644105893",
   "metadata": {},
   "outputs": [],
   "source": [
    "altmodul1.altisim1\n",
    "\n",
    "'altmodul1'"
   ]
  },
  {
   "cell_type": "markdown",
   "id": "9aa800bf-7b5d-4fb4-8771-52812ae41890",
   "metadata": {},
   "source": [
    "Hatta doğrudan altisim1 niteliğinin kendisini de alabilirsiniz:"
   ]
  },
  {
   "cell_type": "code",
   "execution_count": null,
   "id": "fb45773d-f5e0-4911-8418-1f8380d7ea25",
   "metadata": {},
   "outputs": [],
   "source": [
    "from paket.altdizin.altmodul1 import altisim1\n",
    "altisim1\n",
    "\n",
    "'altmodul1'"
   ]
  },
  {
   "cell_type": "markdown",
   "id": "bbfbf803-51db-47a7-93cd-61676d6aafa4",
   "metadata": {},
   "source": [
    "Gördüğünüz gibi, Python’ın içe aktarma mantığı gayet basit. Bulunduğunuz konumdan itibaren, alt dizin ve modül adlarını sırasıyla kullanarak ve bunları birbiriyle nokta işareti ile birleştirerek her bir modüle ve modül içindeki niteliğe erişebiliyoruz.\n",
    "\n",
    "++++++++++++++++İçe Aktarma Mantığı\n",
    "\n",
    "\n",
    "Yukarıdaki örneklerden gördüğünüz gibi, Python’ın içe aktarma mekanizması gayet basit bir şekilde işliyor. Ancak yine de bu durum sizin rehavete kapılmanıza yol açmasın. Zira kimi zaman bu mekanizma hiç beklemediğiniz durumların ortaya çıkmasına da yol açabilir.\n",
    "\n",
    "Python’da paketler üzerinde çalışırken, Python programlama dilinin paketleri içe aktarma mekanizmasını çok iyi anlamış olmalısınız. Eğer bu mekanizmayı hakkıyla anlamadan paket yapmaya kalkışırsanız, Python’ın içe aktarma sırasında verebileceği sürpriz hatalar size saç baş yoldurabilir. İşte bu bölümde Python’ın paket içe aktarma mantığı üzerine eğilerek, engebeli yüzeyleri nasıl aşabileceğimizi anlamaya çalışacağız.\n",
    "\n",
    "++++++++++++++++İçe Aktarma İşleminin Konumu\n",
    "\n",
    "Python’da herhangi bir içe aktarma işlemi yapacağımız zaman, unutmamamız gereken en önemli konu, Python’ın bütün içe aktarma işlemlerini tek bir konumdan gerçekleştirdiği gerçeğidir. Bunun ne demek olduğunu anlamak için çok basit bir örnek verelim.\n",
    "\n",
    "Yukarıda şöyle bir paket yapısı oluşturmuştuk:\n",
    "\n"
   ]
  },
  {
   "cell_type": "code",
   "execution_count": null,
   "id": "df8e7a3d-b392-4a06-b05f-250e4aa52967",
   "metadata": {},
   "outputs": [],
   "source": [
    "+ paket\n",
    "|__ modul1.py\n",
    "|__ modul2.py\n",
    "|__ modul3.py\n",
    "    + altdizin\n",
    "    |__altmodul1.py\n",
    "    |__altmodul2.py"
   ]
  },
  {
   "cell_type": "markdown",
   "id": "d9d9aa29-f74e-49fa-bccf-df81276f1370",
   "metadata": {},
   "source": [
    "Burada altmodul2.py dosyasının içine şunu yazalım:"
   ]
  },
  {
   "cell_type": "code",
   "execution_count": null,
   "id": "b210630a-c972-468f-9819-20656deb41d0",
   "metadata": {},
   "outputs": [],
   "source": [
    "import altmodul1"
   ]
  },
  {
   "cell_type": "markdown",
   "id": "68489d37-da02-464e-8eac-a2b3a0348c09",
   "metadata": {},
   "source": [
    "Yani bu dosya ile aynı dizinde bulunan altmodul1.py dosyasını, altmodul2.py dosyası içinden bir modül olarak içe aktaralım.\n",
    "\n",
    "Şimdi, daha önce yaptığımız gibi, paket adlı dizinin bulunduğu klasörde bir etkileşimli kabuk oturumu açalım ve şu komutu yazalım:\n",
    "\n"
   ]
  },
  {
   "cell_type": "code",
   "execution_count": null,
   "id": "58268b6b-3040-4a34-808c-91458e6edf3d",
   "metadata": {},
   "outputs": [],
   "source": [
    "from paket.altdizin import altmodul2\n"
   ]
  },
  {
   "cell_type": "markdown",
   "id": "b00144ce-0859-442f-9f90-6baf05f77935",
   "metadata": {},
   "source": [
    "Bu komut bize şöyle bir hata mesajı verecek:"
   ]
  },
  {
   "cell_type": "code",
   "execution_count": null,
   "id": "8742db65-cafd-47da-8cf1-a3ae0238ae39",
   "metadata": {},
   "outputs": [],
   "source": [
    "ImportError: No module named 'altmodul1'"
   ]
  },
  {
   "cell_type": "markdown",
   "id": "3c65ae17-a660-47ad-84d9-da21da0054a6",
   "metadata": {},
   "source": [
    "Bu hatanın sebebi, Python’ın altmodul1 adlı modülü bulamıyor olmasıdır. Halbuki bu modül, altmodul2 ile aynı dizinde bulunuyor. O halde acaba Python bu modülü neden bulamıyor?\n",
    "\n",
    "Bunu anlamak için şöyle bir deneme yapalım:\n",
    "\n",
    "Şimdi altmodul1.py ve altmodul2.py dosyalarının bulunduğu konumda bir etkileşimli kabuk oturumu başlatın ve şu komutu verin:"
   ]
  },
  {
   "cell_type": "code",
   "execution_count": null,
   "id": "09ebef4e-cd9b-4d25-9703-50e38a3af61d",
   "metadata": {},
   "outputs": [],
   "source": [
    "import altmodul2\n"
   ]
  },
  {
   "cell_type": "markdown",
   "id": "5d603945-b7b5-4151-a6bb-e0a6c121b50c",
   "metadata": {},
   "source": [
    "Gördüğünüz gibi, bu defa Python herhangi bir hata mesajı vermeden, impport altmodul1 komutuyla altmodul2.py dosyası içinden çağırdığımız altmodul1 modülünün içeriğini alabildi. Peki ama neden?\n",
    "\n",
    "Başta da söylediğimiz gibi, Python bütün aktarma işlemlerini tek bir konumdan yapar. Yani eğer siz bir modülü üst dizinden içe aktardıysanız, o üst dizinin adı paket içindeki bütün aktarmalara önek olarak eklenecektir. Dolayısıyla paket adlı dizinin bulunduğu konumdan altdizin içindeki altmodul2.py dosyasını çağırdığınızda, altmodul2.py içindeki import altmodul1 komutu, altmodul1.py dosyasını bulamayacaktır. Ama siz altmodul2.py dosyasını kendi dizini içinden çağırdığınızda, import altmodul1 komutu, aynı dizin içindeki altmodul1.py dosyasını bulabilecektir.\n",
    "\n",
    "Bu okuduklarınız ilk bakışta size çok karmaşıkmış gibi gelebilir, ama aslında biraz dikkat ederseniz bu sistemin hiç de öyle karmaşık olmadığını, aksine son derece mantıklı olduğunu göreceksiniz.\n",
    "\n",
    "Durumu daha da netleştirmek için şöyle bir şey yapalım:\n",
    "\n",
    "altmodul2.py dosyasını açıp, import altmodul1 komutunu şöyle yazalım:"
   ]
  },
  {
   "cell_type": "code",
   "execution_count": null,
   "id": "a31ad37d-984a-4891-b053-0f95a53a4f66",
   "metadata": {},
   "outputs": [],
   "source": [
    "from paket.altdizin import altmodul1"
   ]
  },
  {
   "cell_type": "markdown",
   "id": "fc40d439-6419-488d-8f0f-0d8de1c8d1ba",
   "metadata": {},
   "source": [
    "Bu değişikliği kaydettikten sonra tekrar paket dizininin bulunduğu konumda bir oturum açıp şu komutu verelim:"
   ]
  },
  {
   "cell_type": "code",
   "execution_count": null,
   "id": "c45aef2e-2af7-4f89-b2fb-09329ee422ee",
   "metadata": {},
   "outputs": [],
   "source": [
    "from paket.altdizin import altmodul2"
   ]
  },
  {
   "cell_type": "markdown",
   "id": "827ddd45-57c4-428b-bfca-a72ce41e165f",
   "metadata": {},
   "source": [
    "İşte bu kez komutumuz başarıyla çalıştı ve altmodul1 modülünü bulabildi…\n",
    "\n",
    "Şimdi de altmodul1.py ve altmodul2.py dosyalarının bulunduğu konuma tekrar dönüp burada yine bir etkileşimli kabuk oturumu başlatalım ve daha önce verdiğimiz şu komutu tekrar verelim:"
   ]
  },
  {
   "cell_type": "code",
   "execution_count": null,
   "id": "12e0a60b-dfec-405b-be84-b84ff7cf1f46",
   "metadata": {},
   "outputs": [],
   "source": [
    "import altmodul2"
   ]
  },
  {
   "cell_type": "markdown",
   "id": "0d56defa-f33e-4aed-9ea5-7be09418e910",
   "metadata": {},
   "source": [
    "O da ne! Geçen sefer hatasız çalışan kod bu defa hata verdi:"
   ]
  },
  {
   "cell_type": "code",
   "execution_count": null,
   "id": "b8deff89-0287-403e-9c3f-64edd08ab799",
   "metadata": {},
   "outputs": [],
   "source": [
    "ImportError: No module named 'paket'"
   ]
  },
  {
   "cell_type": "markdown",
   "id": "a501ae63-ca96-4a67-b4cc-d7b72ecb9a4b",
   "metadata": {},
   "source": [
    "Gördüğünüz gibi, modülü içe aktardığımız konumdan ötürü Python bu kez de paket adlı paketi bulamıyor.\n",
    "\n",
    "Birazdan bütün bu sorunların kesin çözümünü vereceğiz. Ama ondan önce başka bir konudan söz edelim."
   ]
  },
  {
   "cell_type": "markdown",
   "id": "11b55a42-3583-44cb-a17d-abe0ca52ef15",
   "metadata": {},
   "source": [
    "++++++++++++++++++Bağıl İçe Aktarma\n",
    "\n",
    "Dediğimiz gibi, bir içe aktarma işleminin başarılı olabilmesi, o içe aktarma işleminin yapıldığı konumun neresi olduğuna ve paket içinde bulunan öteki modüllerdeki içe aktarmaların nasıl yazıldığına bağlıdır. Yani mesela normalde aynı konumda bulunan iki modül birbirini yalnızca import modül_adı gibi bir komutla içe aktarabilecekken, eğer bu modüller üst dizinin bulunduğu konumdan çağrılıyorsa, içe aktarma başarısız olabilir. Bunun bir örneğini yukarıda görmüştük. altdizin içinde bulunan altmodul1.py dosyasını, aynı dizindeki altmodul2.py dosyasından içe aktarmak için altmodul2.py dosyasına import altmodul1 yazdığımızda, ana paket dizininin bulunduğu konumdan altdizin içindeki altmodul2.py dosyasını from paket.altdizin import altmodul2 gibi bir komut ile içe aktarma girişimimiz başarısızlığa uğruyordu. Python’ın ilgili modülü bulabilmesini sağlamak için, altmodul2.py dosyasına import altmodul1 yazmak yerine from paket.altdizin import altmodul1 yazmıştık. İşte aynı şeyi ‘bağıl içe aktarma’ (relative import) denen bir mekanizma yardımıyla da gerçekleştirebiliriz.\n",
    "\n",
    "Bu mekanizmada içe aktarma işlemi, içe aktaran modülün bulunduğu konuma göre gerçekleşir. Bir örnek verelim…\n",
    "\n",
    "altmodul2.py dosyasına import altmodul1 veya from paket.altdizin import altmodul1 yerine şunu yazalım:\n",
    "\n"
   ]
  },
  {
   "cell_type": "code",
   "execution_count": null,
   "id": "b42347b6-39d3-47a1-9878-a72a9530ff38",
   "metadata": {},
   "outputs": [],
   "source": [
    "from . import altmodul1\n"
   ]
  },
  {
   "cell_type": "markdown",
   "id": "c2f690a1-ab3d-4ddd-863b-67c08b027aea",
   "metadata": {},
   "source": [
    "Burada from kelimesinden sonra gelen nokta (.), içe aktaran modülle aynı dizine atıfta bulunuyor. Yani bu şekilde altmodul2.py’nin bulunduğu dizine atıfta bulunmuş, böylece bu dizinde bulunan altmodul1 adlı modülü içe aktarabilmiş olduk. paket dizininden, hatta altdizin dizininden yapılacak içe aktarma işlemleri bu komut sayesinde başarılı olacaktır.\n",
    "\n",
    "Dediğimiz gibi, orada . işareti, içe aktaran modülle aynı dizini temsil ediyor. Eğer oraya yan yana iki nokta (..) koyacak olursanız, bir üst dizine atıfta bulunabilirsiniz. Mesela bir üst dizinde bulunan modul3.py dosyasını altmodul2.py veya altmodul1.py dosyasından içe aktarmak isterseniz, bu dosyaların herhangi birine şu kodu yazabilirsiniz:\n",
    "\n"
   ]
  },
  {
   "cell_type": "code",
   "execution_count": null,
   "id": "933d33f3-fc42-43af-9110-7bbec357c719",
   "metadata": {},
   "outputs": [],
   "source": [
    "from .. import modul3"
   ]
  },
  {
   "cell_type": "markdown",
   "id": "fb1b3f8b-fa1c-4a40-9e94-9277c739a8c1",
   "metadata": {},
   "source": [
    "Üç nokta yan yana koyduğunuzda ise (…) iki üst dizine atıfta bulunmuş olursunuz. Ancak bu şekilde paketin dışına çıkamayacağınızı da unutmayın. Yani mesela paket dizininin bulunduğu konuma göre bir üst dizinde bulunan, yani paket dışındaki falanca.py adlı bir modülü şu şekilde içe aktaramazsınız:\n",
    "\n"
   ]
  },
  {
   "cell_type": "code",
   "execution_count": null,
   "id": "cff80aba-823f-416d-9971-3e8fdc55ebe1",
   "metadata": {},
   "outputs": [],
   "source": [
    "from ... import falanca"
   ]
  },
  {
   "cell_type": "markdown",
   "id": "5dcd38a8-ccf9-4ac2-92b9-0d8768191565",
   "metadata": {},
   "source": [
    "Ama tabii eğer paketinizin dizin yapısı iki üst dizine çıkılmasına müsaade ediyorsa yukarıdaki komut çalışacaktır. Yani elinizdeki, aşağıdakine benzer yapıda bir pakette:"
   ]
  },
  {
   "cell_type": "code",
   "execution_count": null,
   "id": "c2c80ad4-c09f-48de-8285-55f55e0ac397",
   "metadata": {},
   "outputs": [],
   "source": [
    "+ paket\n",
    "|__ modul1.py\n",
    "|__ modul2.py\n",
    "|__ modul3.py\n",
    "    + altdizin\n",
    "    |__altmodul1.py\n",
    "    |__altmodul2.py\n",
    "        + altaltdizin\n",
    "        |__altaltmodul1.py\n",
    "        |__altaltmodul2.py"
   ]
  },
  {
   "cell_type": "markdown",
   "id": "7d6924ec-ded9-4215-b9c6-1b560b918af6",
   "metadata": {},
   "source": [
    "altaltmodul1.py dosyasının bulunduğu konumdan itibaren iki üst dizine çıkarak modul2.py dosyasını içe aktarabilirsiniz:"
   ]
  },
  {
   "cell_type": "code",
   "execution_count": null,
   "id": "1db0a654-a4a9-402b-9655-4d3d1f4e25c2",
   "metadata": {},
   "outputs": [],
   "source": [
    "from ... import modul2"
   ]
  },
  {
   "cell_type": "markdown",
   "id": "5eb2ceb7-4b4b-48e6-b436-da8c7f27993c",
   "metadata": {},
   "source": [
    "Yukarıda gösterdiğimiz bağıl içe aktarma mekanizması, paket adı belirtmeden içe aktarma işlemi gerçekleştirmenizi sağlar. Yani bu mekanizma sayesinde from paketadi.modul import altmodul yerine from . import modul gibi bir kod yazarak, aynı dizin içinde veya üst dizinlerde bulunan modüllere atıfta bulunabilirsiniz."
   ]
  },
  {
   "cell_type": "markdown",
   "id": "e0482d82-3ca0-46d2-bc29-42b144d90672",
   "metadata": {},
   "source": [
    "++++++++++++++++++++Paketlerin Yola Eklenmesi\n",
    "\n",
    "Daha önce de birkaç kez vurguladığımız gibi, içe aktarma işlemlerinde Python aradığımız modülü veya paketi bulabilmek için sys.path adlı listede görünen dizinlerin içine bakar. Eğer içe aktarmak istediğiniz paket dizini bu listede değilse, o paketi içe aktarabilmek için, komut satırını o dizinin bulunduğu klasörde açmanız gerekir. Yani standart paketler ve üçüncü şahıs paketlerin aksine, sys.path’e eklenmemiş bir paketi her yerden içe aktaramazsınız.\n",
    "\n",
    "Peki bir paketi sys.path listesine nasıl ekleyeceğiz?\n",
    "\n",
    "Aslında bu sorunun cevabı çok basit. Bildiğiniz gibi, sys.path aslında basit bir listeden ibarettir. Dolayısıyla listeler üzerinde nasıl değişiklik yapıyorsanız, sys.path üzerinde de o şekilde değişiklik yapacaksınız.\n",
    "\n",
    "Gelin isterseniz, yukarıda oluşturduğumuz paket adlı paket üzerinden bir uygulama yapalım.\n",
    "\n",
    "Python’da bir paketi sys.path listesine eklerken dikkat etmemiz gereken çok önemli bir konu var: Bir paketi sys.path listesine eklerken, paket adına karşılık gelen dizini değil, paketi içeren dizini bu listeye eklemeliyiz. Yani mesela paket adlı dizin masaüstündeyse, bizim listeye masaüstünün olduğu dizini eklememiz gerekiyor, paketin olduğu dizini değil…\n",
    "\n",
    "Dikkatlice bakın:\n",
    "\n"
   ]
  },
  {
   "cell_type": "code",
   "execution_count": null,
   "id": "24f1f65c-14b5-4969-abd8-76e5bb6354ed",
   "metadata": {},
   "outputs": [],
   "source": [
    "import os, sys\n",
    "kullanıcı = os.environ['HOME'] #Windows'ta os.environ['HOMEPATH']\n",
    "masaüstü = os.path.join(kullanıcı, 'Desktop')\n",
    "sys.path.append(masaüstü)"
   ]
  },
  {
   "cell_type": "markdown",
   "id": "8c9f9f9f-346e-4bdd-b7ce-1c08a7dd6028",
   "metadata": {},
   "source": [
    "Böylece masaüstünün bulunduğu dizini sys.path’e eklemiş olduk. Burada uyguladığımız adımlara şöyle bir bakalım.\n",
    "\n",
    "Öncelikle gerekli modülleri içe aktardık:"
   ]
  },
  {
   "cell_type": "code",
   "execution_count": null,
   "id": "5f1062c4-03ad-4276-9abf-650cd3593b8c",
   "metadata": {},
   "outputs": [],
   "source": [
    "import os, sys\n"
   ]
  },
  {
   "cell_type": "markdown",
   "id": "34a79bb5-0324-47fc-8372-fc523533fda5",
   "metadata": {},
   "source": [
    "Amacımız masaüstünün yolunu sys.path’e eklemek. Dolayısıyla öncelikle kullanıcı dizininin nerede olduğunu tespit etmemiz lazım. Bildiğiniz gibi, kullanıcı dizinleri, bilgisayarı kuran kişinin ismine göre belirlendiği için, bütün bilgisayarlarda bu değer farklı olur. Bu değerin ne olduğu tespit edebilmek için os modülünün environ niteliğinden yararlanabiliriz. Bu nitelik, işletim sistemine özgü çevre değişkenlerini tutar.\n",
    "\n",
    "GNU/Linux’ta kullanıcı dizinini tutan çevre değişkeni ‘HOME’ anahtarı ile gösterilir:"
   ]
  },
  {
   "cell_type": "code",
   "execution_count": null,
   "id": "4399b6ea-2b5d-4b72-80da-7d081dcda926",
   "metadata": {},
   "outputs": [],
   "source": [
    "kullanıcı = os.environ['HOME']"
   ]
  },
  {
   "cell_type": "markdown",
   "id": "ca7a4262-f7b4-43bd-b7d1-9ccec70c1e86",
   "metadata": {},
   "source": [
    "Windows’ta ise ‘HOMEPATH’ anahtarını kullanıyoruz:"
   ]
  },
  {
   "cell_type": "code",
   "execution_count": null,
   "id": "fff3224d-6671-4c31-8c48-40dca204e6c9",
   "metadata": {},
   "outputs": [],
   "source": [
    "kullanıcı = os.environ['HOMEPATH']"
   ]
  },
  {
   "cell_type": "markdown",
   "id": "0caf613d-b56b-45c2-8fd3-3df9f037b07a",
   "metadata": {},
   "source": [
    "Kullanıcı dizinini elde ettikten sonra, masaüstüne giden yolu bulabilmek için şu komutu kullanıyoruz:"
   ]
  },
  {
   "cell_type": "code",
   "execution_count": null,
   "id": "66fe384d-6449-4ce2-ab4b-d1fb61ac186b",
   "metadata": {},
   "outputs": [],
   "source": [
    "masaüstü = os.path.join(kullanıcı, 'Desktop')"
   ]
  },
  {
   "cell_type": "markdown",
   "id": "2eda30e2-49fe-47a9-aad7-67c86bbb1585",
   "metadata": {},
   "source": [
    "Sıra geldi elde ettiğimiz tam dizin yolunu sys.path’e eklemeye:"
   ]
  },
  {
   "cell_type": "code",
   "execution_count": null,
   "id": "d053232d-d388-42e9-a253-6f74ea7e659e",
   "metadata": {},
   "outputs": [],
   "source": [
    "sys.path.append(masaüstü)"
   ]
  },
  {
   "cell_type": "markdown",
   "id": "9b5b34a9-b842-45d0-8606-c744348ef4f9",
   "metadata": {},
   "source": [
    "Gördüğünüz gibi, listelerin append() metodu yardımıyla masaüstünün yolunu sys.path adlı listeye ekledik.\n",
    "\n",
    "Artık masaüstünde bulunan paketleri rahatlıkla her yerden içe aktarabiliriz."
   ]
  },
  {
   "cell_type": "code",
   "execution_count": null,
   "id": "52e12c26-e209-4791-8fff-1537068ef7c3",
   "metadata": {},
   "outputs": [],
   "source": []
  },
  {
   "cell_type": "code",
   "execution_count": null,
   "id": "7e8c8cfa-be5c-4e28-aa18-3f82147fcf22",
   "metadata": {},
   "outputs": [],
   "source": []
  }
 ],
 "metadata": {
  "kernelspec": {
   "display_name": "Python 3 (ipykernel)",
   "language": "python",
   "name": "python3"
  },
  "language_info": {
   "codemirror_mode": {
    "name": "ipython",
    "version": 3
   },
   "file_extension": ".py",
   "mimetype": "text/x-python",
   "name": "python",
   "nbconvert_exporter": "python",
   "pygments_lexer": "ipython3",
   "version": "3.10.12"
  }
 },
 "nbformat": 4,
 "nbformat_minor": 5
}
