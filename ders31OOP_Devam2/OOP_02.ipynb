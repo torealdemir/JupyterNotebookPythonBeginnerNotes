{
 "cells": [
  {
   "cell_type": "markdown",
   "id": "f4b0e5e7-e9d0-460f-bcf3-5401436a3591",
   "metadata": {},
   "source": [
    "+++++++++++Nesne Tabanlı Programlama (Devamı)\n",
    "\n",
    "Bu bölümde de, temellerini geçen derslerimizde attığımız nesne tabanlı programlama konusunu incelemeye devam edeceğiz. Bu bölümde uygulamaya yönelik bazı örnekler yapmanın yanı sıra, nesne tabanlı programlamaya ilişkin bazı teorik bilgiler de vereceğiz.\n",
    "\n",
    "++++++++++Nesneler¶\n",
    "\n",
    "Geçen bölümlerden birinde sınıfları tanımlarken, bunların, nesne üretmemizi sağlayan bir veri tipi olduğuna dair muğlak bir laf etmiştik. İşte bu başlık altında, o tanım içinde geçen ve nesne tabanlı programlamanın temelini oluşturan ‘nesne’ kavramı üzerine eğileceğiz.\n",
    "\n"
   ]
  },
  {
   "cell_type": "markdown",
   "id": "65ea1d02-a6de-4676-9b6e-3e14fc856d32",
   "metadata": {},
   "source": [
    "++++++++++Nesne Nedir?\n",
    "\n",
    "Programlamaya ilişkin kavramlar içinde, özellikle programlamaya yeni başlayanların kafasını en fazla karıştıran kavram nedir diye sorsak, herhalde alacağımız cevap ‘nesne’ olur. Hakikaten, sağda solda sürekli duyduğumuz bu ‘nesne’ denen şey, öteden beri yazılım geliştirici adaylarının zihnini karıştırır durur.\n",
    "\n",
    "Aslında ‘nesne’ (object) dedikleri, ilk bakışta uyandırdığı izlenimin aksine, anlaması zor, gizemli bir kavram değildir. Dolayısıyla, nesne kavramına ilişkin olarak öğrenmemiz gereken ilk şey, bunun abartılacak veya korkulacak bir şey olmadığıdır. Peki ama tam olarak nedir bu nesne dedikleri?\n",
    "\n",
    "Kabaca, Python’da belli birtakım metotlara ve/veya niteliklere sahip olan öğelere nesne adı verilir. Yani ‘nesne’ kelimesi, içinde birtakım metot ve/veya nitelikler barındıran öğeleri tanımlamak için kullanılan bir tabirden, basit bir isimlendirmeden ibarettir.\n",
    "\n",
    "Peki bir nesne oluşturmak için acaba ne yapmamız gerekiyor?\n",
    "\n",
    "Hatırlarsanız, geçen bölümde, sınıfların nesne üretmemizi sağlayan veri tipleri olduğunu söylemiştik. O halde gelin minik bir nesne üretelim:\n",
    "\n"
   ]
  },
  {
   "cell_type": "code",
   "execution_count": null,
   "id": "48ba9386-1140-4885-9fa1-773a2b77c3ba",
   "metadata": {},
   "outputs": [],
   "source": [
    "class Sınıf():\n",
    "    pass\n",
    "\n",
    "sınıf = Sınıf()"
   ]
  },
  {
   "cell_type": "markdown",
   "id": "ee16e81c-a3b0-4137-a6b9-2b5346b2e209",
   "metadata": {},
   "source": [
    "İşte bu kodlardaki sınıf = Sınıf() komutu ile bir nesne üretmiş olduk. Nesnemizin adı da ‘sınıf’. Teknik olarak ifade edersek, sınıf örneği, Sınıf() adlı sınıfın bütün nitelik ve metotlarını bünyesinde barındıran bir nesnedir. Mesela yukarıdaki kodların sınıf.py adlı bir dosyada bulunduğunu varsayarak şöyle bir deneme yapalım:"
   ]
  },
  {
   "cell_type": "code",
   "execution_count": null,
   "id": "5a599b39-7569-4652-a9f6-c5ab359a2718",
   "metadata": {},
   "outputs": [],
   "source": [
    "import sınıf\n",
    "snf = sınıf.Sınıf()"
   ]
  },
  {
   "cell_type": "markdown",
   "id": "0abd35d6-e2e8-4d38-bb09-b9103f8fe1cc",
   "metadata": {},
   "source": [
    "Bu şekilde, kodları içeren modülü içe aktarmış ve modül içindeki Sınıf() adlı sınıfı snf adı ile örneklemiş olduk. Yani yukarıdaki kodlar yardımıyla snf adlı bir nesne oluşturduk. Bakalım bu nesne hangi nitelik ve/veya metotlara sahipmiş:"
   ]
  },
  {
   "cell_type": "code",
   "execution_count": null,
   "id": "03af38b1-c16e-4b3e-9202-ffa74f672783",
   "metadata": {},
   "outputs": [],
   "source": [
    "dir(snf)\n",
    "\n",
    "['__class__', '__delattr__', '__dict__', '__dir__', '__doc__',\n",
    " '__eq__', '__format__', '__ge__', '__getattribute__', '__gt__',\n",
    " '__hash__', '__init__', '__le__', '__lt__', '__module__', '__ne__',\n",
    " '__new__', '__reduce__', '__reduce_ex__', '__repr__', '__setattr__',\n",
    " '__sizeof__', '__str__', '__subclasshook__', '__weakref__']"
   ]
  },
  {
   "cell_type": "markdown",
   "id": "21de9fd3-0720-4571-949d-7ddb9061a6d8",
   "metadata": {},
   "source": [
    "Gördüğünüz gibi, biz boş bir sınıf tanımlamış olsak da, snf nesnesi öntanımlı olarak yine de bazı nitelik ve metotlara sahip. İşte Python’da, yukarıdaki gibi birtakım nitelik ve metotlara sahip olan bu tür öğelere ‘nesne’ adı veriyoruz.\n",
    "\n",
    "Bir de isterseniz yukarıdaki gibi boş bir sınıf tanımlamak yerine, sınıfımız içinde kendimiz birtakım nitelik ve metotlar tanımlamayı da deneyelim:"
   ]
  },
  {
   "cell_type": "code",
   "execution_count": null,
   "id": "b027c411-bc0c-49b8-923a-95f7ec825a18",
   "metadata": {},
   "outputs": [],
   "source": [
    "class Sınıf():\n",
    "    sınıf_niteliği = 'sınıf niteliği'\n",
    "\n",
    "    def __init__(self):\n",
    "        self.örnek_niteliği = 'örnek niteliği'\n",
    "\n",
    "    def örnek_metodu(self):\n",
    "        print('örnek metodu')\n",
    "\n",
    "    @classmethod\n",
    "    def sınıf_metodu(cls):\n",
    "        print('sınıf metodu')\n",
    "\n",
    "    @staticmethod\n",
    "    def statik_metot():\n",
    "        print('statik metot')"
   ]
  },
  {
   "cell_type": "markdown",
   "id": "340d3daf-fe1f-48d0-9979-0bcc657f40ef",
   "metadata": {},
   "source": [
    "Şimdi nesne içeriğini tekrar kontrol edelim:"
   ]
  },
  {
   "cell_type": "code",
   "execution_count": null,
   "id": "391bb164-31ed-4053-995a-3d82418b89a6",
   "metadata": {},
   "outputs": [],
   "source": [
    "import sınıf\n",
    "snf = sınıf.Sınıf()\n",
    "dir(snf)\n",
    "\n",
    "['__class__', '__delattr__', '__dict__', '__dir__', '__doc__',\n",
    " '__eq__', '__format__', '__ge__', '__getattribute__', '__gt__',\n",
    " '__hash__', '__init__', '__le__', '__lt__', '__module__', '__ne__',\n",
    " '__new__', '__reduce__', '__reduce_ex__', '__repr__', '__setattr__',\n",
    " '__sizeof__', '__str__', '__subclasshook__', '__weakref__',\n",
    " 'statik_metot', 'sınıf_metodu', 'sınıf_niteliği',\n",
    " 'örnek_metodu', 'örnek_niteliği']\n"
   ]
  },
  {
   "cell_type": "markdown",
   "id": "e6489b9e-260d-4c7e-8e4b-75d612af2aff",
   "metadata": {},
   "source": [
    "Gördüğünüz gibi, kendi tanımladığımız nitelik ve metotlar da snf adlı nesne içine eklenmiş…\n",
    "\n",
    "İşte snf adlı sınıf örneğinin, yukarıda gösterilen birtakım durum ve davranışlara sahip olmasından yola çıkarak, snf örneğinin bir nesne olduğunu söylüyoruz.\n",
    "\n",
    "Yukarıdaki açıklamaların, ‘nesne’ kavramı hakkında en azından bir fikir sahibi olmanızı sağladığını zannediyorum. Gördüğünüz gibi, nesne denen şey aslında basit bir isimlendirmeden ibarettir: Python’da belli bir durumu/niteliği/metodu/davranışı olan elemanlara/öğelere nesne (object) adı veriyoruz. Peki o zaman, nesne denen şey basit bir adlandırmadan ibaretse nesne tabanlı programlamanın etrafında koparılan bunca yaygaranın sebebi nedir?\n",
    "\n",
    "Nesne tabanlı programlamayı bu kadar özel ve önemli kılan şeyin ne olduğunu anlamak için gelin nesnelere biraz daha yakından bakalım.\n",
    "\n"
   ]
  },
  {
   "cell_type": "markdown",
   "id": "325f323c-dd3a-4074-8608-e425f6efcaa2",
   "metadata": {},
   "source": [
    "+++++++++++++++Basit Bir Oyun\n",
    "\n",
    "Gelin isterseniz nesne denen kavramı daha iyi anlayabilmek, bir nesneyi nesne yapan metot ve nitelikler arasındaki ilişkiyi daha net bir şekilde kavrayabilmek için, komut satırı üzerinde çalışan çok basit bir oyun tasarlayalım. Bu şekilde hem eski bilgilerimizi tekrar etmiş oluruz, hem teorik bilgilerimizi uygulama sahasına dökmüş oluruz, hem de yeni şeyler öğrenmiş oluruz.\n",
    "\n",
    "Oyunumuzun kodları şöyle:\n",
    "\n"
   ]
  },
  {
   "cell_type": "code",
   "execution_count": null,
   "id": "a5c0b3f7-a339-4571-8521-8ee0fe28ab3b",
   "metadata": {},
   "outputs": [],
   "source": [
    "import time\n",
    "import random\n",
    "import sys\n",
    "\n",
    "class Oyuncu():\n",
    "    def __init__(self, isim, can=5, enerji=100):\n",
    "        self.isim = isim\n",
    "        self.darbe = 0\n",
    "        self.can = can\n",
    "        self.enerji = enerji\n",
    "\n",
    "    def mevcut_durumu_görüntüle(self):\n",
    "        print('darbe: ', self.darbe)\n",
    "        print('can: ', self.can)\n",
    "        print('enerji: ', self.enerji)\n",
    "\n",
    "    def saldır(self, rakip):\n",
    "        print('Bir saldırı gerçekleştirdiniz.')\n",
    "        print('Saldırı sürüyor. Bekleyiniz.')\n",
    "\n",
    "        for i in range(10):\n",
    "            time.sleep(.3)\n",
    "            print('.', end='', flush=True)\n",
    "\n",
    "        sonuç = self.saldırı_sonucunu_hesapla()\n",
    "\n",
    "        if sonuç == 0:\n",
    "            print('\\nSONUÇ: kazanan taraf yok')\n",
    "\n",
    "        if sonuç == 1:\n",
    "            print('\\nSONUÇ: rakibinizi darbelediniz')\n",
    "            self.darbele(rakip)\n",
    "\n",
    "        if sonuç == 2:\n",
    "            print('\\nSONUÇ: rakibinizden darbe aldınız')\n",
    "            rakip.darbele(self)\n",
    "\n",
    "    def saldırı_sonucunu_hesapla(self):\n",
    "         return random.randint(0, 2)\n",
    "\n",
    "    def kaç(self):\n",
    "        print('Kaçılıyor...')\n",
    "        for i in range(10):\n",
    "            time.sleep(.3)\n",
    "            print('\\n', flush=True)\n",
    "\n",
    "        print('Rakibiniz sizi yakaladı')\n",
    "\n",
    "    def darbele(self, darbelenen):\n",
    "        darbelenen.darbe += 1\n",
    "        darbelenen.enerji -= 1\n",
    "        if (darbelenen.darbe % 5) == 0:\n",
    "            darbelenen.can -= 1\n",
    "        if darbelenen.can < 1:\n",
    "            darbelenen.enerji = 0\n",
    "            print('Oyunu {} kazandı!'.format(self.isim))\n",
    "            self.oyundan_çık()\n",
    "\n",
    "    def oyundan_çık(self):\n",
    "        print('Çıkılıyor...')\n",
    "        sys.exit()\n",
    "\n",
    "##################################\n",
    "\n",
    "# Oyuncular\n",
    "siz = Oyuncu('Ahmet')\n",
    "rakip = Oyuncu('Mehmet')\n",
    "\n",
    "# Oyun başlangıcı\n",
    "while True:\n",
    "    print('Şu anda rakibinizle karşı karşıyasınız.',\n",
    "          'Yapmak istediğiniz hamle: ',\n",
    "          'Saldır:  s',\n",
    "          'Kaç:     k',\n",
    "          'Çık:     q', sep='\\n')\n",
    "\n",
    "    hamle = input('\\n> ')\n",
    "    if hamle == 's':\n",
    "        siz.saldır(rakip)\n",
    "\n",
    "        print('Rakibinizin durumu')\n",
    "        rakip.mevcut_durumu_görüntüle()\n",
    "\n",
    "        print('Sizin durumunuz')\n",
    "        siz.mevcut_durumu_görüntüle()\n",
    "\n",
    "    if hamle == 'k':\n",
    "        siz.kaç()\n",
    "\n",
    "    if hamle == 'q':\n",
    "        siz.oyundan_çık()"
   ]
  },
  {
   "cell_type": "markdown",
   "id": "761f325a-5d60-4029-8a19-5ed7c397bf49",
   "metadata": {},
   "source": [
    "Komut satırı üzerinde çalışan basit bir oyundur bu. Dilerseniz bu kodları incelemeye başlamadan önce, bir dosyaya kaydedip çalıştırın. Karşınıza şöyle bir ekran gelecek:\n",
    "\n"
   ]
  },
  {
   "cell_type": "raw",
   "id": "45662b6c-3a0c-4367-8ef1-e8d0a6222c45",
   "metadata": {},
   "source": [
    "Şu anda rakibinizle karşı karşıyasınız.\n",
    "Yapmak istediğiniz hamle:\n",
    "Saldır:  s\n",
    "Kaç:     k\n",
    "Çık:     q\n",
    "\n",
    ">"
   ]
  },
  {
   "cell_type": "markdown",
   "id": "44c8ee1b-9e44-4698-a853-1b9915cfb70a",
   "metadata": {},
   "source": [
    "Programımız bize burada üç farklı seçenek sunuyor. Eğer rakibimize saldırmak istiyorsak klavyedeki ‘s’ tuşuna; rakibimizden kaçmak istiyorsak klavyedeki ‘k’ tuşuna; yok eğer oyundan çıkmak istiyorsak da klavyedeki ‘q’ tuşuna basacağız. Tercihinizi belirleyip neler olduğunu inceleyin ve oyunu iyice tanımaya çalışın.\n",
    "\n",
    "Oyunu iyice anlayıp tanıdıktan sonra oyun kodlarını incelemeye geçebiliriz.\n",
    "\n",
    "Yukarıda ilk olarak Oyuncu adlı bir sınıf tanımladık:"
   ]
  },
  {
   "cell_type": "code",
   "execution_count": null,
   "id": "f16b634d-5176-45af-864a-262982e7e650",
   "metadata": {},
   "outputs": [],
   "source": [
    "class Oyuncu():\n",
    "    def __init__(self, isim, can=5, enerji=100):\n",
    "        self.isim = isim\n",
    "        self.darbe = 0\n",
    "        self.can = can\n",
    "        self.enerji = enerji"
   ]
  },
  {
   "cell_type": "markdown",
   "id": "1cef0321-eece-45b1-a04d-e36cf299df4e",
   "metadata": {},
   "source": [
    "class kelimesinin sınıf tanımlamamızı sağlayan bir araç, Oyuncu kelimesinin ise tanımladığımız sınıfın adı olduğunu biliyoruz. Bu satırın hemen ardından gelen __init__() fonksiyonu, sınıfımız örneklendiğinde neler olacağını tanımladığımız yerdir. Bu sınıfın, örnekleme sırasında hangi parametreleri alacağını da __init__() fonksiyonu içinde belirliyoruz. Parametre listesinde gördüğümüz ilk öğe, yani self, sınıfın o anki örneğini temsil ediyor. Python’ın söz dizimi kuralları gereğince bu kelimeyi oraya yazmamız gerektiğini biliyoruz.\n",
    "\n",
    "Yukarıdaki fonksiyon, self dışında toplam üç parametre alıyor: isim, can ve enerji. Bunlardan ilki, yani isim parametresinin öntanımlı bir değeri yok. Dolayısıyla sınıfı çağırırken (yani örneklerken) bu parametrenin değerini belirtmemiz gerekecek. Öteki iki parametre olan can ve enerji ise birtakım öntanımlı değerlere sahip. Dolayısıyla sınıfı örneklendirirken bu parametrelere farklı bir değer atamadığımız sürece, bu parametreler, listede belirtilen değerleri taşıyacak.\n",
    "\n",
    "Parametre olarak belirlediğimiz değerleri sınıf içinde kullanabilmek için, bunları __init__() fonksiyonunun gövdesinde birer örnek niteliğine dönüştürüyoruz:"
   ]
  },
  {
   "cell_type": "code",
   "execution_count": null,
   "id": "1fab0990-f7d6-4c22-a281-9ea879c491b9",
   "metadata": {},
   "outputs": [],
   "source": [
    "self.isim = isim\n",
    "self.darbe = 0\n",
    "self.can = can\n",
    "self.enerji = enerji"
   ]
  },
  {
   "cell_type": "markdown",
   "id": "27ab0f80-e172-45b6-b5ae-f7c812c36342",
   "metadata": {},
   "source": [
    "Burada ilave olarak bir de değeri 0 olan self.darbe adlı bir değişken tanımladık. Bu da sınıfımızın örnek niteliklerinden biri olup, ilgili oyuncu (yani sınıfın o anki örneği) darbe aldıkça bunun değeri yükselecektir.\n",
    "\n",
    "Gelin isterseniz bu aşamada sınıfımızı örnekleyerek neler olup bittiğini daha net anlamaya çalışalım:"
   ]
  },
  {
   "cell_type": "code",
   "execution_count": null,
   "id": "a1af0127-e0ec-4e7f-8478-b6af34622d35",
   "metadata": {},
   "outputs": [],
   "source": [
    "class Oyuncu():\n",
    "    def __init__(self, isim, can=5, enerji=100):\n",
    "        self.isim = isim\n",
    "        self.darbe = 0\n",
    "        self.can = can\n",
    "        self.enerji = enerji\n",
    "\n",
    "#Sınıfımızı örnekliyoruz\n",
    "oyuncu = Oyuncu('Ahmet')"
   ]
  },
  {
   "cell_type": "markdown",
   "id": "31bc8557-f8c3-427c-8b20-924ad450e387",
   "metadata": {},
   "source": [
    "Burada oyuncu = Oyuncu('Ahmet') komutunu verdiğimiz anda __init__() fonksiyonu çalışmaya başlıyor ve oyuncu adlı nesne için sırasıyla şu değişkenleri oluşturuyor:"
   ]
  },
  {
   "cell_type": "code",
   "execution_count": null,
   "id": "a01e1d26-14a2-4406-ae2c-3b8b692fcca5",
   "metadata": {},
   "outputs": [],
   "source": [
    "isim = 'Ahmet'\n",
    "darbe = 0\n",
    "can = 5\n",
    "enerji = 100"
   ]
  },
  {
   "cell_type": "markdown",
   "id": "87d403a8-bb64-4b62-8acb-8b7a4a9d085d",
   "metadata": {},
   "source": [
    "Bu örnek niteliklerine nasıl ulaşabileceğinizi biliyorsunuz:"
   ]
  },
  {
   "cell_type": "code",
   "execution_count": null,
   "id": "e646d5e9-a160-441a-b07f-e13a145dfb74",
   "metadata": {},
   "outputs": [],
   "source": [
    "print('İsim: ', oyuncu.isim)\n",
    "print('Darbe: ', oyuncu.darbe)\n",
    "print('Can: ', oyuncu.can)\n",
    "print('Enerji: ', oyuncu.enerji)"
   ]
  },
  {
   "cell_type": "markdown",
   "id": "fa673ab4-bfaf-4b60-9b5c-d33226632c4c",
   "metadata": {},
   "source": [
    "Başta da söylediğimiz gibi, Oyuncu() sınıfını örnekleyerek meydana getireceğiniz bütün sınıf örnekleri, yani nesneler, __init__() fonksiyonu içinde tanımladığınız örnek niteliklerini taşıyacaktır:\n",
    "\n"
   ]
  },
  {
   "cell_type": "code",
   "execution_count": null,
   "id": "48c1734a-01da-484e-ac71-5be345079582",
   "metadata": {},
   "outputs": [],
   "source": [
    "class Oyuncu():\n",
    "    def __init__(self, isim, can=5, enerji=100):\n",
    "        self.isim = isim\n",
    "        self.darbe = 0\n",
    "        self.can = can\n",
    "        self.enerji = enerji\n",
    "\n",
    "oyuncu1 = Oyuncu('Ahmet')\n",
    "oyuncu2 = Oyuncu('Mehmet')\n",
    "oyuncu3 = Oyuncu('Veli')\n",
    "oyuncu4 = Oyuncu('Ayşe')"
   ]
  },
  {
   "cell_type": "markdown",
   "id": "18f903ef-f585-459a-b6cc-8bb073852b62",
   "metadata": {},
   "source": [
    "Burada oyuncu1, oyuncu2, oyuncu3 ve oyuncu4 olmak üzere dört farklı nesne oluşturduk. Bu nesnelerin hangi niteliklere sahip olacağını ise Oyuncu() sınıfının tanımı içinde belirttik. Yani sınıfımız tıpkı bir fabrika gibi çalışarak, bizim için, aynı nitelikleri taşıyan dört farklı nesne üretti.\n",
    "\n",
    "İşte nesne tabanlı programlamanın özünü oluşturan ‘nesne’ budur. Bir nesnenin hangi niteliklere sahip olacağını belirleyen veri tipine sınıf (class) derken, o sınıfın ortaya çıkardığı ürüne ise nesne (object) adını veriyoruz. Bunu şuna benzetebilirsiniz: Eğer ‘İnsan’ bir sınıfsa, ‘Mahmut’ bu sınıfın bir örneğidir. Dolayısıyla Mahmut, İnsan sınıfından üretilmiş bir nesnedir. Aynı şekilde eğer ‘Köpek’ bir sınıfsa, ‘Karabaş’ da bu sınıfın bir örneğidir. Yani Karabaş, Köpek sınıfından üretilmiş bir nesnedir. Mahmut’un hangi özelliklere sahip olacağını İnsan sınıfının nasıl tanımlandığı, Karabaş’ın hangi özelliklere sahip olacağını ise Köpek sınıfının nasıl tanımlandığı belirler. İşte aynı bunun gibi, Oyuncu() sınıfından üretilen nesnelerin hangi özelliklere sahip olacağını da Oyuncu() sınıfının nasıl tanımlandığı belirler.\n",
    "\n",
    "Kodlarımızı incelemeye devam edelim…"
   ]
  },
  {
   "cell_type": "code",
   "execution_count": null,
   "id": "38d0e218-8293-4d96-bb0d-43596a15dfce",
   "metadata": {},
   "outputs": [],
   "source": [
    "def mevcut_durumu_görüntüle(self):\n",
    "    print('darbe: ', self.darbe)\n",
    "    print('can: ', self.can)\n",
    "    print('enerji: ', self.enerji)\n"
   ]
  },
  {
   "cell_type": "markdown",
   "id": "7470f988-ca07-4e30-ad09-64563edfcee0",
   "metadata": {},
   "source": [
    "Burada mevcut_durumu_görüntüle() adlı bir örnek metodu tanımladık. Örnek metotlarının ilk parametresinin her zaman self olması gerektiğini biliyoruz.\n",
    "\n",
    "Tanımladığımız örnek metodunun görevi, Oyuncu() sınıfından oluşturduğumuz nesnelerin (yani örneklerin) o anki darbe, can ve enerji durumlarını görüntülemek. Birer örnek niteliği olan darbe, can ve enerji değişkenlerine self aracılığıyla eriştiğimize özellikle dikkat ediyoruz.\n",
    "\n",
    "Gelelim sınıfımızın önemli örnek metotlarından biri olan saldır() fonksiyonunu incelemeye:"
   ]
  },
  {
   "cell_type": "code",
   "execution_count": null,
   "id": "52e936d0-f390-4ee1-a0ed-8e33c3c6df6b",
   "metadata": {},
   "outputs": [],
   "source": [
    "def saldır(self, rakip):\n",
    "    print('Bir saldırı gerçekleştirdiniz.')\n",
    "    print('Saldırı sürüyor. Bekleyiniz.')\n",
    "\n",
    "    for i in range(10):\n",
    "        time.sleep(.3)\n",
    "        print('.', end='', flush=True)\n",
    "\n",
    "    sonuç = self.saldırı_sonucunu_hesapla()\n",
    "\n",
    "    if sonuç == 0:\n",
    "        print('\\nSONUÇ: kazanan taraf yok')\n",
    "\n",
    "    if sonuç == 1:\n",
    "        print('\\nSONUÇ: rakibinizi darbelediniz')\n",
    "        self.darbele(rakip)\n",
    "\n",
    "    if sonuç == 2:\n",
    "        print('\\nSONUÇ: rakibinizden darbe aldınız')\n",
    "        rakip.darbele(self)"
   ]
  },
  {
   "cell_type": "markdown",
   "id": "42b72a39-55fc-40e1-9b28-0348e0382a4b",
   "metadata": {},
   "source": [
    "Bu fonksiyon, self dışında tek bir parametre alıyor. Fonksiyonu çalıştırırken kullanacağımız rakip parametresi, saldırının kime karşı (yani sınıf örneklerinden hangisine karşı) düzenleneceğini belirleyecek.\n",
    "\n",
    "Fonksiyon gövdesinde ilk olarak şöyle bir kısım görüyoruz:"
   ]
  },
  {
   "cell_type": "code",
   "execution_count": null,
   "id": "1bac25d8-d931-448f-9e09-0384012a2a20",
   "metadata": {},
   "outputs": [],
   "source": [
    "print('Bir saldırı gerçekleştirdiniz.')\n",
    "print('Saldırı sürüyor. Bekleyiniz.')\n",
    "\n",
    "for i in range(10):\n",
    "    time.sleep(.3)\n",
    "    print('.', end='', flush=True)\n"
   ]
  },
  {
   "cell_type": "markdown",
   "id": "46722dcc-9003-48d8-b739-2fe00eb7290a",
   "metadata": {},
   "source": [
    "Burada saldırının gerçekleştiğine dair kullanıcıyı bilgilendirdikten sonra şöyle bir kod parçası yazdık:\n",
    "\n"
   ]
  },
  {
   "cell_type": "code",
   "execution_count": null,
   "id": "634dca6c-1231-4191-8e9d-cdf4179db55d",
   "metadata": {},
   "outputs": [],
   "source": [
    "for i in range(10):\n",
    "    time.sleep(.3)\n",
    "    print('.', end='', flush=True)"
   ]
  },
  {
   "cell_type": "markdown",
   "id": "bf777342-06d3-4f1f-80e8-5034549ee056",
   "metadata": {},
   "source": [
    "Bu kodlarda time adlı bir standart kütüphane modülünün sleep() adlı bir metodundan yararlandığımızı görüyorsunuz. Elbette bu modülü kullanabilmek için öncelikle bu modülü içe aktarmış olmamız gerekiyor. Bu işlemi dosyanın en başında import time satırı yardımıyla gerçekleştirdiğimizi görebilirsiniz.\n",
    "\n",
    "Yukarıdaki satırlar, 300’er milisaniye aralıklarla, yan yana nokta işaretleri yerleştirecektir. Dilerseniz etkileşimli kabukta bu kodları şu şekilde test edebilirsiniz:"
   ]
  },
  {
   "cell_type": "code",
   "execution_count": null,
   "id": "191f099f-657f-4480-b221-16cd4d7138fa",
   "metadata": {},
   "outputs": [],
   "source": [
    "import time\n",
    "for i in range(10):\n",
    "    time.sleep(.3)\n",
    "    print('.', end='', flush=True)"
   ]
  },
  {
   "cell_type": "markdown",
   "id": "8c3b8cac-2298-451d-9175-b80b5708bedb",
   "metadata": {},
   "source": [
    "print() fonksiyonu içinde kullandığımız end ve flush parametrelerinin ne olduğunu ve ne işe yaradığını ilk derslerimizden hatırlıyor olmalısınız. Eğer hatırlamıyorsanız, bu parametreleri tek tek kodlardan çıkarıp, bu kodları bir de öyle çalıştırın. Sonucun ne olduğunu takip ederek, end ve flush parametrelerinin görevini daha iyi anlayabilirsiniz.\n",
    "\n",
    "Bu kodların ardından şöyle bir satır yazdık:"
   ]
  },
  {
   "cell_type": "code",
   "execution_count": null,
   "id": "08f55fda-1ba2-494a-81bb-307af4d0ea9b",
   "metadata": {},
   "outputs": [],
   "source": [
    "sonuç = self.saldırı_sonucunu_hesapla()"
   ]
  },
  {
   "cell_type": "markdown",
   "id": "d48eb615-8d40-4e92-9bd8-515dd9ff8045",
   "metadata": {},
   "source": [
    "Burada, saldırı_sonucunu_hesapla() adlı bir örnek metodunu çağırdığımızı görüyorsunuz:\n",
    "\n"
   ]
  },
  {
   "cell_type": "code",
   "execution_count": null,
   "id": "637df691-1eba-4e28-8990-84e2d2fb7ae2",
   "metadata": {},
   "outputs": [],
   "source": [
    "def saldırı_sonucunu_hesapla(self):\n",
    "     return random.randint(0, 2)"
   ]
  },
  {
   "cell_type": "markdown",
   "id": "e9ff7d67-de4f-48d9-8e46-f907461973b5",
   "metadata": {},
   "source": [
    "Biraz önce time adlı bir standart kütüphane modülünü kullanmıştık. Şimdi ise random adlı başka bir standart kütüphane modülünü kullanıyoruz. Elbette bu modülü de kullanabilmek için öncelikle bu modülü import random komutuyla içe aktarmış olmamız gerekiyor. Bu zorunluluğu da, tıpkı time modülünde olduğu gibi, dosyanın en başında yerine getirmiştik.\n",
    "\n",
    "Yukarıda random modülünü, 0 ile 2 arası rastgele sayılar üretmek için kullandık. random.randint(0, 2) komutu her çalıştığında 0, 1 ve 2 sayılarından birini rastgele üretecektir. Buradan elde ettiğimiz sonucu sonuç adlı bir değişkene atayarak saldır() fonksiyonu içinde şu şekilde kullanıyoruz:"
   ]
  },
  {
   "cell_type": "code",
   "execution_count": null,
   "id": "539b6dcb-bd97-4744-8e9f-4b8102cd24a9",
   "metadata": {},
   "outputs": [],
   "source": [
    "sonuç = self.saldırı_sonucunu_hesapla()\n",
    "\n",
    "if sonuç == 0:\n",
    "    print('\\nSONUÇ: kazanan taraf yok')\n",
    "\n",
    "if sonuç == 1:\n",
    "    print('\\nSONUÇ: rakibinizi darbelediniz')\n",
    "    self.darbele(rakip)\n",
    "\n",
    "if sonuç == 2:\n",
    "    print('\\nSONUÇ: rakibinizden darbe aldınız')\n",
    "    rakip.darbele(self)"
   ]
  },
  {
   "cell_type": "markdown",
   "id": "5e5705cd-7445-4000-b08e-9ad725c3f96c",
   "metadata": {},
   "source": [
    "Eğer randint() metodu 0 sayısını üretirse, rakibimize karşı gerçekleştirdiğimiz saldırının sonuçsuz kaldığına hükmediyoruz:"
   ]
  },
  {
   "cell_type": "code",
   "execution_count": null,
   "id": "586ea0b2-9f3a-4575-8e23-37a800da957a",
   "metadata": {},
   "outputs": [],
   "source": [
    "if sonuç == 0:\n",
    "    print('\\nSONUÇ: kazanan taraf yok')"
   ]
  },
  {
   "cell_type": "markdown",
   "id": "8b2269e3-cb48-4b35-8627-8fd04b017ba6",
   "metadata": {},
   "source": [
    "Eğer randint() metodu 1 sayısını üretirse, rakibimizi başarıyla darbelediğimize, 2 sayısını üretirse de rakibimiz tarafından darbelendiğimize hükmediyoruz:"
   ]
  },
  {
   "cell_type": "code",
   "execution_count": null,
   "id": "b8afa90b-afa7-4e3b-9766-8bdbda3ddb0e",
   "metadata": {},
   "outputs": [],
   "source": [
    "if sonuç == 1:\n",
    "    print('\\nSONUÇ: rakibinizi darbelediniz')\n",
    "    self.darbele(rakip)\n",
    "\n",
    "if sonuç == 2:\n",
    "    print('\\nSONUÇ: rakibinizden darbe aldınız')\n",
    "    rakip.darbele(self)"
   ]
  },
  {
   "cell_type": "markdown",
   "id": "8a949b69-ff36-4bc6-bfad-0c45706b360f",
   "metadata": {},
   "source": [
    "Saldırı sonucunda rakibimizi darbelediğimizde ve rakibimizden darbe yediğimizde darbele() adlı bir başka örnek metodunu çağırdığımızı da gözden kaçırmayın.\n",
    "\n",
    "Bu arada, örnek metotlarına da self öneki ile eriştiğimize dikkatinizi çekmek isterim. Ayrıca her ne kadar örnek metotlarını tanımlarken parantez listesi içinde self kelimesini belirtsek de, bu metotları çağırırken bunları argüman olarak kullanmadığımıza da özellikle dikkat etmelisiniz. Yani biz bu metotları şöyle tanımlıyoruz:"
   ]
  },
  {
   "cell_type": "code",
   "execution_count": null,
   "id": "9f8aba35-5e63-4ce4-bff8-2fb62ecfadd5",
   "metadata": {},
   "outputs": [],
   "source": [
    "def saldırı_sonucunu_hesapla(self):\n",
    "     return random.randint(0, 2)"
   ]
  },
  {
   "cell_type": "markdown",
   "id": "c913fde2-ea4c-4a02-ba29-6134bf37379f",
   "metadata": {},
   "source": [
    "Burada parametre listesinde self’i görüyoruz. Ama bu fonksiyonları çağırırken parantez içinde bu self’i kullanmıyoruz:\n",
    "\n"
   ]
  },
  {
   "cell_type": "code",
   "execution_count": null,
   "id": "f2c01892-dd81-489e-90c8-352e67c1d13f",
   "metadata": {},
   "outputs": [],
   "source": [
    "self.saldırı_sonucunu_hesapla()"
   ]
  },
  {
   "cell_type": "markdown",
   "id": "853b6ca4-f209-4c68-82ed-0dc5b688f013",
   "metadata": {},
   "source": [
    "self’i parantez içinde bir argüman olarak kullanmak yerine, bu kelimeyi fonksiyon adının başına bir önek olarak takıyoruz.\n",
    "\n",
    "Ne diyorduk? Evet, saldır() fonksiyonu içinde darbele() adlı bir fonksiyona atıfta bulunduk. Yani saldırı sonucunda rakibimizi darbelediğimizde ve rakibimizden darbe yediğimizde darbele() adlı bir başka örnek metodunu çağırdık:"
   ]
  },
  {
   "cell_type": "code",
   "execution_count": null,
   "id": "27a590b8-50b6-4537-9181-fbc513c1f03f",
   "metadata": {},
   "outputs": [],
   "source": [
    "def darbele(self, darbelenen):\n",
    "    darbelenen.darbe += 1\n",
    "    darbelenen.enerji -= 1\n",
    "    if (darbelenen.darbe % 5) == 0:\n",
    "        darbelenen.can -= 1\n",
    "    if darbelenen.can < 1:\n",
    "        darbelenen.enerji = 0\n",
    "        print('Oyunu {} kazandı!'.format(self.isim))\n",
    "        self.oyundan_çık()"
   ]
  },
  {
   "cell_type": "markdown",
   "id": "b24e6f1a-3ca2-4266-98bf-845d2cc28311",
   "metadata": {},
   "source": [
    "Bu fonksiyon içinde, herhangi bir darbe alma durumunda oyuncunun darbe, can ve enerji miktarlarında meydana gelecek değişiklikleri tanımlıyoruz.\n",
    "\n",
    "Buna göre herhangi bir darbe alma durumunda aşağıdaki işlemler gerçekleştirilecek:\n",
    "\n",
    "Darbelenen oyuncunun darbe değeri 1 birim artacak:\n",
    "\n"
   ]
  },
  {
   "cell_type": "code",
   "execution_count": null,
   "id": "f871f610-d5be-4ae5-9fe3-279d5efdcce9",
   "metadata": {},
   "outputs": [],
   "source": [
    "darbelenen.darbe += 1"
   ]
  },
  {
   "cell_type": "markdown",
   "id": "ab8d9da9-fb71-4cc7-b6d1-82f2468e6bfb",
   "metadata": {},
   "source": [
    "enerji değeri 1 birim azalacak:"
   ]
  },
  {
   "cell_type": "code",
   "execution_count": null,
   "id": "bcd4b559-b1ef-4281-9ff5-d134c28b784f",
   "metadata": {},
   "outputs": [],
   "source": [
    "darbelenen.enerji -= 1"
   ]
  },
  {
   "cell_type": "markdown",
   "id": "fe8b1a99-8391-4328-887d-5d361d423192",
   "metadata": {},
   "source": [
    "Darbelenen oyuncu her 5 darbede 1 can kaybedecek:"
   ]
  },
  {
   "cell_type": "code",
   "execution_count": null,
   "id": "53142300-e170-4cdf-b49a-a13d02429cb0",
   "metadata": {},
   "outputs": [],
   "source": [
    "if (darbelenen.darbe % 5) == 0:\n",
    "    darbelenen.can -= 1"
   ]
  },
  {
   "cell_type": "markdown",
   "id": "78581b84-e15a-42c9-998b-b60d46a7b822",
   "metadata": {},
   "source": [
    "Burada her 5 darbede 1 can kaybetme kriterini nasıl belirlediğimize dikkat edin. Bildiğiniz gibi, oyuncu darbe yedikçe darbe değişkeninin değeri artıyor. Bu değer 5 sayısına ulaştığında, 5 % 5 işleminin sonucu 0 olacaktır. Yani bu sayı 5’e bölündüğünde bölme işleminden kalan değer 0 olacaktır. 5’in tüm katları için (5, 10, 15, 20 gibi…) bu durum geçerlidir. Eğer darbe değişkenin ulaştığı değer 5’in katı değilse, bu sayı 5’e tam bölünmediği için, bölmeden kalan değer 0 dışında bir sayı olur. Dolayısıyla darbe değerinin ulaştığı sayının 5’e bölünmesinden kalan değerin 0 olup olmadığını kontrol ederek oyuncunun 5 darbede 1 can kaybetmesini sağlayabiliyoruz.\n",
    "\n",
    "Oyuncunun can değeri 1’in altına düştüğünde ise enerji değeri 0’a inecek ve oyunu kimin kazandığı ilan edildikten sonra oyun kapatılacak:\n",
    "\n"
   ]
  },
  {
   "cell_type": "code",
   "execution_count": null,
   "id": "afd441cd-e0a0-46fd-8e28-ff5c9e11205e",
   "metadata": {},
   "outputs": [],
   "source": [
    "if darbelenen.can < 1:\n",
    "    darbelenen.enerji = 0\n",
    "    print('Oyunu {} kazandı!'.format(self.isim))\n",
    "    self.oyundan_çık()"
   ]
  },
  {
   "cell_type": "markdown",
   "id": "101f1e35-087e-471f-9f67-1a5f0c0dd0af",
   "metadata": {},
   "source": [
    "Burada oyundan_çık() adlı bir örnek metoduna daha atıfta bulunduk:"
   ]
  },
  {
   "cell_type": "code",
   "execution_count": null,
   "id": "a85c59b0-5a9f-4d23-b5a1-c039e40e8b49",
   "metadata": {},
   "outputs": [],
   "source": [
    "def oyundan_çık(self):\n",
    "    print('Çıkılıyor...')\n",
    "    sys.exit()"
   ]
  },
  {
   "cell_type": "markdown",
   "id": "1d76fc8f-1ff6-4167-a555-af689489c64a",
   "metadata": {},
   "source": [
    "Gayet basit bir fonksiyon. Herhangi bir şekilde oyundan çıkmak gerektiğinde sys modülünün exit() fonksiyonunu kullanarak oyunu terk ediyoruz.\n",
    "\n",
    "İlerlemeden önce, darbele() fonksiyonunu kullandığımız kısma tekrar bakalım:"
   ]
  },
  {
   "cell_type": "code",
   "execution_count": null,
   "id": "34831d79-35c3-4f63-9f11-4588c906347b",
   "metadata": {},
   "outputs": [],
   "source": [
    "sonuç = self.saldırı_sonucunu_hesapla()\n",
    "\n",
    "if sonuç == 0:\n",
    "    print('\\nSONUÇ: kazanan taraf yok')\n",
    "\n",
    "if sonuç == 1:\n",
    "    print('\\nSONUÇ: rakibinizi darbelediniz')\n",
    "    self.darbele(rakip)\n",
    "\n",
    "if sonuç == 2:\n",
    "    print('\\nSONUÇ: rakibinizden darbe aldınız')\n",
    "    rakip.darbele(self)\n"
   ]
  },
  {
   "cell_type": "markdown",
   "id": "7f7d6a34-e56a-4fc2-9bdb-4ddf12176328",
   "metadata": {},
   "source": [
    "Bildiğiniz gibi, darbele() fonksiyonu, self dışında 1 adet parametre daha alıyor. Bu parametre, darbeyi hangi oyuncunun alacağını gösteriyor. İşte bunu tespit etmek için darbelenen adlı bir parametre belirledik. Gördüğünüz gibi, darbele() fonksiyonu saldır() adlı başka bir fonksiyonun içinden çağrılıyor. saldır() fonksiyonu da rakip adlı bir parametre alıyor. İşte darbe alan oyuncunun can ve enerji değerlerini yenilemek istediğimizde bu parametreyi, darbele() fonksiyonuna gönderiyoruz:"
   ]
  },
  {
   "cell_type": "code",
   "execution_count": null,
   "id": "49e6b109-e0ac-4ab9-9207-b858cc0f34f2",
   "metadata": {},
   "outputs": [],
   "source": [
    "self.darbele(rakip)\n"
   ]
  },
  {
   "cell_type": "markdown",
   "id": "6117873b-e1d4-4b8c-af19-f0e6cf79cbe8",
   "metadata": {},
   "source": [
    "Burada darbelenen oyuncu karşı taraf. Yani rakibimiz bizden (self’den) darbe yemiş. Eğer darbelenen kişi kendimizsek, rakip oyuncusunun bizi darbelemesini istiyoruz:\n",
    "\n"
   ]
  },
  {
   "cell_type": "code",
   "execution_count": null,
   "id": "fcdb82c6-5519-4f10-b73d-ce10494a89e9",
   "metadata": {},
   "outputs": [],
   "source": [
    "rakip.darbele(self)\n"
   ]
  },
  {
   "cell_type": "markdown",
   "id": "1e58c26b-5b88-48f4-898e-d80b8cf39559",
   "metadata": {},
   "source": [
    "Pek çok kez söylediğimiz gibi, self kelimesi mevcut sınıf örneğini temsil eder. Dolayısıyla kendimize atıfta bulunmak istediğimiz durumlarda, yukarıda olduğu gibi self’i kullanabiliriz.\n",
    "\n",
    "Eğer arzu ederseniz, darbele() fonksiyonunu şöyle de yazabilirsiniz:"
   ]
  },
  {
   "cell_type": "code",
   "execution_count": null,
   "id": "913e5ada-e4de-47cd-91b0-2bdec17ea102",
   "metadata": {},
   "outputs": [],
   "source": [
    "def darbele(self):\n",
    "    self.darbe += 1\n",
    "    self.enerji -= 1\n",
    "    if (self.darbe % 5) == 0:\n",
    "        self.can -= 1\n",
    "    if self.can < 1:\n",
    "        self.enerji = 0\n",
    "        print('Oyunu {} kazandı!'.format(self.isim))\n",
    "        self.oyundan_çık()"
   ]
  },
  {
   "cell_type": "markdown",
   "id": "7613f2d1-2452-477c-b22e-8f0c65e8dd87",
   "metadata": {},
   "source": [
    "Burada darbelenen parametresini iptal ettik. Kimin durumunun yenileceğini self’in kim olduğu belirleyecek:\n",
    "\n"
   ]
  },
  {
   "cell_type": "code",
   "execution_count": null,
   "id": "54a46434-da63-4648-a30b-b38cfb95714b",
   "metadata": {},
   "outputs": [],
   "source": [
    "if sonuç == 1:\n",
    "    print('\\nSONUÇ: rakibinizi darbelediniz')\n",
    "    rakip.darbele()\n",
    "\n",
    "if sonuç == 2:\n",
    "    print('\\nSONUÇ: rakibinizden darbe aldınız')\n",
    "    self.darbele()"
   ]
  },
  {
   "cell_type": "markdown",
   "id": "d3ee89ec-4a2e-437b-8a08-f5da18b01ea3",
   "metadata": {},
   "source": [
    "Gördüğünüz gibi, eğer rakibi darbeleyip onun can ve enerji durumunu yenilemek istiyorsak, ilgili fonksiyonu rakip.darbele() şeklinde çağırıyoruz. Kendimizin durumunu yenilemek istediğimizde ise self.darbele() komutunu kullanıyoruz. Tabii darbele fonksiyonunu bu şekilde tanımlayacaksak ismini darbe_al olarak belirlemek daha anlamlı olur.\n",
    "\n",
    "Sınıfımızı tanımladığımıza göre artık bu sınıfı nasıl kullanacağımızı incelemeye geçebiliriz:"
   ]
  },
  {
   "cell_type": "code",
   "execution_count": null,
   "id": "dcd2e20b-8ff9-4a82-b00f-f961aca9e3a3",
   "metadata": {},
   "outputs": [],
   "source": [
    "siz = Oyuncu('Ahmet')\n",
    "rakip = Oyuncu('Mehmet')"
   ]
  },
  {
   "cell_type": "markdown",
   "id": "564078db-1dd7-42e6-8779-711987c21365",
   "metadata": {},
   "source": [
    "Burada öncelikle Oyuncu() sınıfı için iki farklı nesne/örnek oluşturuyoruz:\n",
    "\n"
   ]
  },
  {
   "cell_type": "code",
   "execution_count": null,
   "id": "a4299c13-7d17-4bec-8cd6-6a9382b4318d",
   "metadata": {},
   "outputs": [],
   "source": [
    "siz = Oyuncu('Ahmet')\n",
    "rakip = Oyuncu('Mehmet')"
   ]
  },
  {
   "cell_type": "markdown",
   "id": "1edf077d-42e3-4369-8a14-c8eb2ddea7e1",
   "metadata": {},
   "source": [
    "Bu iki nesne, Oyuncu() sınıfının bütün niteliklerini taşıyor. Nesneleri oluştururken, zorunlu argüman olan isim değerini mutlaka belirtmemiz gerektiğini unutmuyoruz.\n",
    "\n",
    "Daha sonra bir while döngüsü içinde, oyunumuzun kullanıcı tarafından görüntülenecek kısmını kodluyoruz:"
   ]
  },
  {
   "cell_type": "code",
   "execution_count": null,
   "id": "db84bb9d-fce4-4ce2-b7a7-e36fb62c0b76",
   "metadata": {},
   "outputs": [],
   "source": [
    "while True:\n",
    "    print('Şu anda rakibinizle karşı karşıyasınız.',\n",
    "          'Yapmak istediğiniz hamle: ',\n",
    "          'Saldır:  s',\n",
    "          'Kaç:     k',\n",
    "          'Çık:     q', sep='\\n')\n",
    "\n",
    "    hamle = input('\\n> ')\n",
    "    if hamle == 's':\n",
    "        siz.saldır(rakip)\n",
    "\n",
    "        print('Rakibinizin durumu')\n",
    "        rakip.mevcut_durumu_görüntüle()\n",
    "\n",
    "        print('Sizin durumunuz')\n",
    "        siz.mevcut_durumu_görüntüle()\n",
    "\n",
    "    if hamle == 'k':\n",
    "        siz.kaç()\n",
    "\n",
    "    if hamle == 'q':\n",
    "        siz.oyundan_çık()"
   ]
  },
  {
   "cell_type": "markdown",
   "id": "e286bb86-e7d5-4c60-9d76-9db4a14ba52b",
   "metadata": {},
   "source": [
    "Oyunun nasıl oynanacağı konusunda kullanıcılarımızı bilgilendiriyoruz:"
   ]
  },
  {
   "cell_type": "code",
   "execution_count": null,
   "id": "72dd3ce2-de34-4449-83c7-6947e6beb244",
   "metadata": {},
   "outputs": [],
   "source": [
    "print('Şu anda rakibinizle karşı karşıyasınız.',\n",
    "      'Yapmak istediğiniz hamle: ',\n",
    "      'Saldır:  s',\n",
    "      'Kaç:     k',\n",
    "      'Çık:     q', sep='\\n')"
   ]
  },
  {
   "cell_type": "markdown",
   "id": "04951e2f-c917-431c-b46d-49f29fae6745",
   "metadata": {},
   "source": [
    "Kullanıcılarımızın klavyede hangi tuşa bastığını şu şekilde alıyoruz:\n",
    "\n"
   ]
  },
  {
   "cell_type": "code",
   "execution_count": null,
   "id": "eab70579-47a1-4dac-9232-bfb8a5c65dec",
   "metadata": {},
   "outputs": [],
   "source": [
    "hamle = input('\\n> ')"
   ]
  },
  {
   "cell_type": "markdown",
   "id": "4f859ec8-1534-449b-903e-7f0cd0781b0e",
   "metadata": {},
   "source": [
    "Eğer kullanıcı ‘s’ tuşuna basarsa rakibimize saldırıyoruz:"
   ]
  },
  {
   "cell_type": "code",
   "execution_count": null,
   "id": "bf8c461a-e6f8-4758-b683-f3754a1ddeaa",
   "metadata": {},
   "outputs": [],
   "source": [
    "if hamle == 's':\n",
    "    siz.saldır(rakip)"
   ]
  },
  {
   "cell_type": "markdown",
   "id": "76e2c457-899e-4c6a-ad20-b107f770cf0c",
   "metadata": {},
   "source": [
    "Saldırının ardından hem kendi durumumuzu hem de rakibimizin durumunu görüntülüyoruz:\n",
    "\n"
   ]
  },
  {
   "cell_type": "code",
   "execution_count": null,
   "id": "58d80968-d1c4-4d1b-9cf2-d7ad2b0be00f",
   "metadata": {},
   "outputs": [],
   "source": [
    "print('Rakibinizin durumu')\n",
    "rakip.mevcut_durumu_görüntüle()\n",
    "\n",
    "print('Sizin durumunuz')\n",
    "siz.mevcut_durumu_görüntüle()\n"
   ]
  },
  {
   "cell_type": "markdown",
   "id": "74ec30aa-ed6a-41a3-acdc-32a7043fcbc4",
   "metadata": {},
   "source": [
    "Eğer kullanıcı ‘k’ tuşuna basarsa:"
   ]
  },
  {
   "cell_type": "code",
   "execution_count": null,
   "id": "a6fca419-684e-4c3a-9b81-90c1bb002588",
   "metadata": {},
   "outputs": [],
   "source": [
    "if hamle == 'k':\n",
    "    siz.kaç()"
   ]
  },
  {
   "cell_type": "markdown",
   "id": "a582157b-b91d-4b2f-bd87-e4b1317bfd35",
   "metadata": {},
   "source": [
    "sınıf içinde tanımladığımız kaç() metodunu çalıştırıyoruz:"
   ]
  },
  {
   "cell_type": "code",
   "execution_count": null,
   "id": "daabbada-aad6-48e3-93ac-950f05606071",
   "metadata": {},
   "outputs": [],
   "source": [
    "def kaç(self):\n",
    "    print('Kaçılıyor...')\n",
    "    for i in range(10):\n",
    "        time.sleep(.3)\n",
    "        print('\\n', flush=True)\n",
    "\n",
    "    print('Rakibiniz sizi yakaladı')"
   ]
  },
  {
   "cell_type": "markdown",
   "id": "5d362341-e75a-4eb8-adb3-63778e120f38",
   "metadata": {},
   "source": [
    "Burada 300’er milisaniyelik aralıklarla ‘\\n’ kaçış dizisini kullanarak bir alt satıra geçiyoruz.\n",
    "\n",
    "Kullanıcının ‘q’ tuşuna basması halinde ise oyundan derhal çıkıyoruz:"
   ]
  },
  {
   "cell_type": "code",
   "execution_count": null,
   "id": "2f6e0d6b-5657-4dfb-8fd6-5efcfbc9ee2f",
   "metadata": {},
   "outputs": [],
   "source": [
    "if hamle == 'q':\n",
    "    siz.oyundan_çık()"
   ]
  },
  {
   "cell_type": "markdown",
   "id": "23f9b5b8-4be1-49ad-9724-19765b14e0c7",
   "metadata": {},
   "source": [
    "Bu örnek kodlar bize sınıflar ve nesneler hakkında epey bilgi verdi. Ayrıca bu kodlar sayesinde önceki bilgilerimizi de pekiştirmiş olduk."
   ]
  },
  {
   "cell_type": "markdown",
   "id": "807756c0-fc86-4730-ab70-52d1fa06d3b0",
   "metadata": {},
   "source": [
    "++++++++++++Her Şey Bir Nesnedir\n",
    "\n",
    "Belki sağda solda şu sözü duymuşsunuzdur: Python’da her şey bir nesnedir. Gerçekten de (if, def, and, or gibi deyim ve işleçler hariç) Python’da her şey bir nesnedir. Peki her şeyin nesne olması tam olarak ne anlama geliyor?\n",
    "\n",
    "Hatırlarsanız nesnenin ne olduğunu tanımlarken, belli bir durumda bulunan ve belli birtakım davranışları olan öğelere nesne adı verildiğini söylemiştik. İşte Python’daki her şey, bu tanım doğrultusunda bir nesnedir.\n",
    "\n",
    "Mesela, aşağıdaki komutu verdiğimiz anda bir nesne oluşturmuş oluyoruz:"
   ]
  },
  {
   "cell_type": "code",
   "execution_count": null,
   "id": "1418e032-35be-4713-8ff2-d44a3acf4d8b",
   "metadata": {},
   "outputs": [],
   "source": [
    "'istihza'\n"
   ]
  },
  {
   "cell_type": "code",
   "execution_count": null,
   "id": "ebfc76d7-2b53-46bf-bba6-741ea13a0d2c",
   "metadata": {},
   "outputs": [],
   "source": [
    "type('istihza')\n",
    "\n",
    "<class 'str'>"
   ]
  },
  {
   "cell_type": "markdown",
   "id": "8ef06c1b-91fa-424d-8d52-2eefd28188dc",
   "metadata": {},
   "source": [
    "…bütün özelliklerini taşıyan bir nesnedir:"
   ]
  },
  {
   "cell_type": "code",
   "execution_count": null,
   "id": "1260cac5-a989-4f8b-9823-e388d99abdee",
   "metadata": {},
   "outputs": [],
   "source": [
    "dir('istihza')\n",
    "\n",
    "['__add__', '__class__', '__contains__', '__delattr__',\n",
    " '__dir__', '__doc__', '__eq__', '__format__', '__ge__',\n",
    " '__getattribute__', '__getitem__', '__getnewargs__',\n",
    " '__gt__', '__hash__', '__init__', '__iter__', '__le__',\n",
    " '__len__', '__lt__', '__mod__', '__mul__', '__ne__',\n",
    " '__new__', '__reduce__', '__reduce_ex__', '__repr__',\n",
    " '__rmod__', '__rmul__', '__setattr__', '__sizeof__',\n",
    " '__str__', '__subclasshook__', 'capitalize', 'casefold',\n",
    " 'center', 'count', 'encode', 'endswith', 'expandtabs',\n",
    " 'find', 'format', 'format_map', 'index', 'isalnum',\n",
    " 'isalpha', 'isdecimal', 'isdigit', 'isidentifier',\n",
    " 'islower', 'isnumeric', 'isprintable', 'isspace',\n",
    " 'istitle', 'isupper', 'join', 'ljust', 'lower', 'lstrip',\n",
    " 'maketrans', 'partition', 'replace', 'rfind', 'rindex',\n",
    " 'rjust', 'rpartition', 'rsplit', 'rstrip', 'split',\n",
    " 'splitlines', 'startswith', 'strip', 'swapcase',\n",
    " 'title', 'translate', 'upper', 'zfill']"
   ]
  },
  {
   "cell_type": "markdown",
   "id": "38cce0e5-ce32-442b-898a-34f397506b5e",
   "metadata": {},
   "source": [
    "Aynı şekilde, ['elma', 'armut'] listesi de, list adlı sınıfın…"
   ]
  },
  {
   "cell_type": "code",
   "execution_count": 2,
   "id": "b66bd913-b276-4ff2-a73a-8221c2560367",
   "metadata": {},
   "outputs": [
    {
     "data": {
      "text/plain": [
       "list"
      ]
     },
     "execution_count": 2,
     "metadata": {},
     "output_type": "execute_result"
    }
   ],
   "source": [
    "type(['elma', 'armut'])"
   ]
  },
  {
   "cell_type": "markdown",
   "id": "0e64377f-e290-46d8-8f4a-a03f594b29b1",
   "metadata": {},
   "source": [
    "…bütün özelliklerini taşıyan bir nesnedir:"
   ]
  },
  {
   "cell_type": "code",
   "execution_count": 3,
   "id": "0dda001e-ac15-41ba-8cf7-f811c7256243",
   "metadata": {},
   "outputs": [
    {
     "data": {
      "text/plain": [
       "['__add__',\n",
       " '__class__',\n",
       " '__class_getitem__',\n",
       " '__contains__',\n",
       " '__delattr__',\n",
       " '__delitem__',\n",
       " '__dir__',\n",
       " '__doc__',\n",
       " '__eq__',\n",
       " '__format__',\n",
       " '__ge__',\n",
       " '__getattribute__',\n",
       " '__getitem__',\n",
       " '__gt__',\n",
       " '__hash__',\n",
       " '__iadd__',\n",
       " '__imul__',\n",
       " '__init__',\n",
       " '__init_subclass__',\n",
       " '__iter__',\n",
       " '__le__',\n",
       " '__len__',\n",
       " '__lt__',\n",
       " '__mul__',\n",
       " '__ne__',\n",
       " '__new__',\n",
       " '__reduce__',\n",
       " '__reduce_ex__',\n",
       " '__repr__',\n",
       " '__reversed__',\n",
       " '__rmul__',\n",
       " '__setattr__',\n",
       " '__setitem__',\n",
       " '__sizeof__',\n",
       " '__str__',\n",
       " '__subclasshook__',\n",
       " 'append',\n",
       " 'clear',\n",
       " 'copy',\n",
       " 'count',\n",
       " 'extend',\n",
       " 'index',\n",
       " 'insert',\n",
       " 'pop',\n",
       " 'remove',\n",
       " 'reverse',\n",
       " 'sort']"
      ]
     },
     "execution_count": 3,
     "metadata": {},
     "output_type": "execute_result"
    }
   ],
   "source": [
    "dir(['elma', 'armut'])"
   ]
  },
  {
   "cell_type": "markdown",
   "id": "38278e9e-ac9a-4121-85ff-66e5b5f50548",
   "metadata": {},
   "source": [
    "Hatta mesela 1 gibi alelade bir sayı bile, dış dünyayla iletişim kurmasını ve dış dünyanın kendisiyle iletişim kurabilmesini sağlayan pek çok nitelik ve metoda sahip bir nesnedir:\n",
    "\n"
   ]
  },
  {
   "cell_type": "code",
   "execution_count": 4,
   "id": "2af11fe1-8a51-4979-bf02-53636ecde2d8",
   "metadata": {},
   "outputs": [
    {
     "data": {
      "text/plain": [
       "['__abs__',\n",
       " '__add__',\n",
       " '__and__',\n",
       " '__bool__',\n",
       " '__ceil__',\n",
       " '__class__',\n",
       " '__delattr__',\n",
       " '__dir__',\n",
       " '__divmod__',\n",
       " '__doc__',\n",
       " '__eq__',\n",
       " '__float__',\n",
       " '__floor__',\n",
       " '__floordiv__',\n",
       " '__format__',\n",
       " '__ge__',\n",
       " '__getattribute__',\n",
       " '__getnewargs__',\n",
       " '__gt__',\n",
       " '__hash__',\n",
       " '__index__',\n",
       " '__init__',\n",
       " '__init_subclass__',\n",
       " '__int__',\n",
       " '__invert__',\n",
       " '__le__',\n",
       " '__lshift__',\n",
       " '__lt__',\n",
       " '__mod__',\n",
       " '__mul__',\n",
       " '__ne__',\n",
       " '__neg__',\n",
       " '__new__',\n",
       " '__or__',\n",
       " '__pos__',\n",
       " '__pow__',\n",
       " '__radd__',\n",
       " '__rand__',\n",
       " '__rdivmod__',\n",
       " '__reduce__',\n",
       " '__reduce_ex__',\n",
       " '__repr__',\n",
       " '__rfloordiv__',\n",
       " '__rlshift__',\n",
       " '__rmod__',\n",
       " '__rmul__',\n",
       " '__ror__',\n",
       " '__round__',\n",
       " '__rpow__',\n",
       " '__rrshift__',\n",
       " '__rshift__',\n",
       " '__rsub__',\n",
       " '__rtruediv__',\n",
       " '__rxor__',\n",
       " '__setattr__',\n",
       " '__sizeof__',\n",
       " '__str__',\n",
       " '__sub__',\n",
       " '__subclasshook__',\n",
       " '__truediv__',\n",
       " '__trunc__',\n",
       " '__xor__',\n",
       " 'as_integer_ratio',\n",
       " 'bit_count',\n",
       " 'bit_length',\n",
       " 'conjugate',\n",
       " 'denominator',\n",
       " 'from_bytes',\n",
       " 'imag',\n",
       " 'numerator',\n",
       " 'real',\n",
       " 'to_bytes']"
      ]
     },
     "execution_count": 4,
     "metadata": {},
     "output_type": "execute_result"
    }
   ],
   "source": [
    "dir(1)\n"
   ]
  },
  {
   "cell_type": "markdown",
   "id": "b9659c7e-55ca-44a6-8944-9d5e5f896cbb",
   "metadata": {},
   "source": [
    "İşte konuya bu noktadan baktığımızda, Python’da her şey bir nesnedir. Yani Python’daki her şeyle, sahip oldukları metotlar ve nitelikler aracılığıyla etkileşebilirsiniz.\n",
    "\n",
    "Python’ın bu özelliğini bilmek, muhatap olduğunuz programlama dilini ve onun kabiliyetlerini tanımak açısından önemlidir. Python’da her şeyin bir nesne olduğunu anladığınız anda, {'a': 0, 'b': 1} gibi bir kodla yalnızca basit bir sözlük tanımlamadığınızı, bunun arkaplanında, bu sözlükle etkileşim kurmanızı sağlayacak koca bir mekanizma bulunduğunu bilirsiniz.\n",
    "\n"
   ]
  },
  {
   "cell_type": "markdown",
   "id": "1159815f-df4f-4776-a80b-bdcb887717d2",
   "metadata": {},
   "source": [
    "++++++++++++++Birinci Sınıf Öğeler\n",
    "\n",
    "Tıpkı ‘her şey bir nesnedir’ sözü gibi, yine sağda solda sıklıkla duyabileceğiniz bir söz de Python’da nesnelerin ‘birinci sınıf öğeler’ olduğudur. Peki burada ‘birinci sınıf’ (first class) ifadesiyle kastedilen şey tam olarak nedir?\n",
    "\n",
    "Programlama dillerinde herhangi bir öğenin birinci sınıf bir öğe olması, o öğenin, dil içindeki herhangi bir değer ile aynı kabiliyetlere sahip olması anlamına gelir. ‘Bunun birinci sınıf olmakla ne alakası var?’ diye sorduğunuzu duyar gibiyim…\n",
    "\n",
    "Şöyle bir cümle kurduğunuzu düşünün: ‘Gelişmiş bir toplumda kadınlar birinci sınıf vatandaşlardır.’ Bu cümleden, bir toplumun gelişmiş sayılabilmesi için kadınların erkeklerle eşit haklara sahip olması gerektiğini anlıyoruz. Yani kadınların birinci sınıf vatandaşlar olması, erkeklerle eşit haklara sahip olması anlamına geliyor. İşte tıpkı bunun gibi, Python’daki sınıf yapılarının ‘birinci sınıf’ öğeler olması, bu yapıların, dil içindeki öteki değerlerle aynı özelliklere ve kabiliyetlere sahip olması demektir. Yani Python’daki sınıflar şu özelliklere sahiptir:\n",
    "\n",
    "Başka bir fonksiyona veya sınıfa parametre olarak verilebilirler\n",
    "\n",
    "Bir fonksiyondan döndürülebilirler\n",
    "\n",
    "Bir değişkene atanabilirler\n",
    "\n",
    "Yani, bir öğenin ‘birinci sınıf’ olması demek, dil içindeki başka öğelerle yapabildiğiniz her şeyi o öğeyle de yapabilmeniz demektir.\n",
    "\n",
    "Durumu biraz daha netleştirebilmek için, konu hakkında Guido Van Rossum’un ne dediğine bir bakalım:\n",
    "\n",
    "Python’a ilişkin hedeflerimden bir tanesi de, bu dili, bütün nesneler “birinci sınıf” olacak şekilde tasarlamaktı. Bununla kastettiğim, dil içinde kendisine bir isim verilebilen bütün nesnelerin (örn. tam sayılar, karakter dizileri, fonksiyonlar, sınıflar, modüller, metotlar, vb.) eşit statüye sahip olmasıdır. Yani, bütün nesnelerin değişkenlere atanabilmesi, listelerin içine yerleştirilebilmesi, sözlükler içinde depolanabilmesi, argüman olarak atanabilmesi vesaire…\n",
    "\n",
    "kaynak: http://python-history.blogspot.com.tr/2009/02/first-class-everything.html\n",
    "\n",
    "Gelin bütün bu tanımları somutlaştıran birkaç örnek verelim.\n",
    "\n",
    "Mesela Deneme() adlı basit bir sınıf tanımlayalım:\n",
    "\n"
   ]
  },
  {
   "cell_type": "code",
   "execution_count": 5,
   "id": "e388dae7-4766-46e6-bbb6-d47da3b04fea",
   "metadata": {},
   "outputs": [],
   "source": [
    "class Deneme():\n",
    "    def __init__(self):\n",
    "        self.değer = 0\n",
    "    def metot(self):\n",
    "        self.metot_değeri = 1"
   ]
  },
  {
   "cell_type": "markdown",
   "id": "6cc8be6b-6159-4fc6-99be-7d3c7947a4ef",
   "metadata": {},
   "source": [
    "Yukarıdaki tanımlara göre, bu sınıfın birinci sınıf bir nesne olabilmesi için başka bir fonksiyona veya sınıfa parametre olarak atanabilmesi gerekiyor. Bakalım acaba gerçekten öyle mi?\n",
    "\n"
   ]
  },
  {
   "cell_type": "code",
   "execution_count": 6,
   "id": "42658488-eeb0-4adc-994d-9aaf8e578ba3",
   "metadata": {},
   "outputs": [
    {
     "name": "stdout",
     "output_type": "stream",
     "text": [
      "<__main__.Deneme object at 0x7aec5d1e39d0>\n"
     ]
    }
   ],
   "source": [
    "print(Deneme())\n"
   ]
  },
  {
   "cell_type": "markdown",
   "id": "c04b9202-e17f-4ee6-b7f9-d3b570086e4b",
   "metadata": {},
   "source": [
    "Gördüğünüz gibi, gerçekten de sınıfımızı print() fonksiyonuna parametre olarak atayabildik.\n",
    "\n",
    "Yine yukarıdaki tanıma göre birinci sınıf nesnelerin bir fonksiyondan döndürülebilmesi gerekiyor:\n",
    "\n"
   ]
  },
  {
   "cell_type": "code",
   "execution_count": 7,
   "id": "3f1b9e80-e710-4d03-a0d3-8c52632b01f9",
   "metadata": {},
   "outputs": [
    {
     "name": "stdout",
     "output_type": "stream",
     "text": [
      "<__main__.Deneme object at 0x7aec5d1e3160>\n"
     ]
    }
   ],
   "source": [
    "def fonksiyon():\n",
    "    return Deneme()\n",
    "\n",
    "print(fonksiyon())"
   ]
  },
  {
   "cell_type": "markdown",
   "id": "dade57bf-2315-48df-abfd-3d4225551053",
   "metadata": {},
   "source": [
    "Bu testi de başarıyla geçtik.\n",
    "\n",
    "Son olarak, bir nesnenin birinci sınıf olabilmesi için bir değişkene atanabilmesi gerekiyor:\n",
    "\n"
   ]
  },
  {
   "cell_type": "code",
   "execution_count": 8,
   "id": "6836cf49-05f7-4ecf-a220-3a7227b98dd1",
   "metadata": {},
   "outputs": [],
   "source": [
    "değişken = Deneme()"
   ]
  },
  {
   "cell_type": "markdown",
   "id": "a50d6bc1-693a-4b5c-b58b-376d4d515a7e",
   "metadata": {},
   "source": [
    "Gördüğünüz gibi, Python için bu da oldukça basit bir görev.\n",
    "\n",
    "İlk bakışta bu özellikten pek etkilenmemiş olabilirsiniz… Şöyle bir düşününce, aslında çok da önemli bir özellik değilmiş gibi gelebilir bu size. Ancak başka programlama dillerinin;\n",
    "\n",
    "Öğelerin kullanımına ilişkin çeşitli kısıtlamalar koyduğunu,\n",
    "\n",
    "Yani öğeler arasında ayrım yaptığını,\n",
    "\n",
    "Değişkenlerle fonksiyonların ve fonksiyonlarla sınıfların aynı haklara sahip olmadığını,\n",
    "\n",
    "Mesela bir değişkeni veya herhangi bir değeri kullanabildiğiniz her yerde fonksiyon veya sınıf kullanamadığınızı,\n",
    "\n",
    "Yani fonksiyonların ve/veya sınıfların birinci sınıf öğeler olmadığını\n",
    "\n",
    "gördüğünüzde Python’daki bu esneklik daha bir anlam kazanacaktır."
   ]
  },
  {
   "cell_type": "code",
   "execution_count": null,
   "id": "18741115-36a1-46d9-b367-a16c7e5fea00",
   "metadata": {},
   "outputs": [],
   "source": []
  }
 ],
 "metadata": {
  "kernelspec": {
   "display_name": "Python 3 (ipykernel)",
   "language": "python",
   "name": "python3"
  },
  "language_info": {
   "codemirror_mode": {
    "name": "ipython",
    "version": 3
   },
   "file_extension": ".py",
   "mimetype": "text/x-python",
   "name": "python",
   "nbconvert_exporter": "python",
   "pygments_lexer": "ipython3",
   "version": "3.10.12"
  }
 },
 "nbformat": 4,
 "nbformat_minor": 5
}
