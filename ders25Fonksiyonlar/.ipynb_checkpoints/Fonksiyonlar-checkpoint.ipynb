{
 "cells": [
  {
   "cell_type": "markdown",
   "id": "6ec08b55-9877-46eb-9d5d-343fada23d92",
   "metadata": {},
   "source": [
    "++++++++++++Fonksiyonlar\n",
    "\n",
    "İlk derslerimizden bu yana bir şey özellikle dikkatinizi çekmiş olmalı: İlk andan itibaren hep ‘fonksiyon’ diye bir kavramdan söz ettik; üstelik yazdığımız kodlarda da bu fonksiyon denen şeyi bolca kullandık. Evet, belki bu kavramı şimdiye dek enine boyuna inceleme fırsatımız hiç olmadı, ama yine de adının fonksiyon olduğunu söylediğimiz pek çok araç tanıdık bu noktaya gelinceye kadar.\n",
    "\n",
    "Herhalde, ‘Fonksiyon denince aklınıza ilk ne geliyor?’ diye bir soru sorsam, vereceğiniz cevap print() fonksiyonu olacaktır. Gerçekten de bu fonksiyonu ilk derslerimizden bu yana o kadar sık kullandık ki, fonksiyon denince aklınıza ilk bu fonksiyonun gelmesi gayet doğal.\n",
    "\n",
    "Elbette öğrendiğimiz tek fonksiyon print() değildi. Bunun dışında type() diye bir fonksiyondan da söz etmiştik. print() kadar olmasa da, type() fonksiyonunu da yazdığımız kodlarda epey kullandık. print() ve type() dışında, fonksiyon olarak str(), int() ve benzeri araçlarla da tanıştık. Bunların dışında pek çok başka fonksiyon da Python’la birlikte hayatımıza girdi.\n",
    "\n",
    "İşte bu bölümde, en baştan bu yana sıklıkla sözünü ettiğimiz, ama hiçbir zaman tam anlamıyla ele almadığımız bu kavramı daha iyi anlayabilmek için, fonksiyon konusunu ayrıntılı olarak ele alacağız. Bu bölümde amacımız fonksiyonları enine boyuna inceleyerek, okurun bilgi dağarcığında fonksiyonlara ilişkin sağlam bir altyapı oluşturmaktır. Okur, bu bölümü bitirdikten sonra fonksiyonlara ilişkin olarak bilmesi gereken her şeyi öğrenmiş olacak.\n",
    "\n",
    "++++++++++++++Fonksiyon Nedir ve Ne İşe Yarar?\n",
    "\n",
    "Biz şimdiye dek karşılaştığımız print(), len(), type() ve open() gibi örnekler sayesinde ‘fonksiyon’ denen şeyi az çok tanıdığımızı söyleyebiliriz. Dolayısıyla fonksiyonun ne demek olduğunu şeklen de olsa biliyoruz ve hatta fonksiyonları kodlarımız içinde etkili bir şekilde kullanabiliyoruz.\n",
    "\n",
    "İlk derslerimizden bu yana öğrendiğimiz fonksiyonlara şöyle bir bakacak olursak, fonksiyonların görünüşüne ve yapısına dair herhalde şu tespitleri yapabiliriz:\n",
    "\n",
    "Her fonksiyonun bir adı bulunur ve fonksiyonlar sahip oldukları bu adlarla anılır. (print fonksiyonu, open fonksiyonu, type fonksiyonu, input fonksiyonu, len fonksiyonu vb.)\n",
    "\n",
    "Şekil olarak, her fonksiyonun isminin yanında birer parantez işareti bulunur. (open(), print(), input(), len() vb.)\n",
    "\n",
    "Bu parantez işaretlerinin içine, fonksiyonlara işlevsellik kazandıran bazı parametreler yazılır. (open(dosya_adı), print(\"Merhaba Zalim Dünya!\"), len(\"kahramanmaraş\") vb.)\n",
    "\n",
    "Fonksiyonlar farklı sayıda parametre alabilir. Örneğin print() fonksiyonu toplam 256 adet parametre alabilirken, input() fonksiyonu yalnızca tek bir parametre alır.\n",
    "\n",
    "Fonksiyonların isimli ve isimsiz parametreleri vardır. print() fonksiyonundaki sep, end ve file parametreleri isimli parametrelere örnekken, mesela print(\"Merhaba Dünya!\") kodunda Merhaba Dünya! parametresi isimsiz bir parametredir. Aynı şekilde input(\"Adınız: \") gibi bir kodda Adınız: parametresi isimsiz bir parametredir.\n",
    "\n",
    "Fonksiyonların, isimli ve isimsiz parametreleri dışında, bir de varsayılan değerli parametreleri vardır. Örneğin print() fonksiyonunun sep, end ve file parametreleri varsayılan değerli parametrelere birer örnektir. Eğer bir parametrenin varsayılan bir değeri varsa, o parametreye herhangi bir değer vermeden de fonksiyonu kullanabiliriz. Python bu parametrelere, belirli değerleri öntanımlı olarak kendisi atayacaktır. Tabii eğer istersek, varsayılan değerli parametrelere kendimiz de başka birtakım değerler verebiliriz.\n",
    "\n",
    "Fonksiyon kavramının tam olarak ne olduğunu henüz bilmiyor da olsak, şimdiye kadar öğrendiğimiz fonksiyonlara bakarak fonksiyonlar hakkında yukarıdaki çıkarımları yapabiliyoruz. Demek ki aslında fonksiyonlar hakkında alttan alta pek çok şey öğrenmişiz. O halde, fonksiyonlar hakkında şimdiden bildiklerimize güvenerek, fonksiyon kavramının ne olduğundan ziyade ne işe yaradığı konusuna rahatlıkla eğilebiliriz. Zaten fonksiyonların ne işe yaradığını öğrendikten sonra, fonksiyonların ne olduğunu da hemencecik anlayacaksınız.\n",
    "\n",
    "Fonksiyonların ne işe yaradığını en genel ve en kaba haliyle tarif etmek istersek şöyle bir tanımlama yapabiliriz:\n",
    "\n",
    "Fonksiyonların görevi, karmaşık işlemleri bir araya toplayarak, bu işlemleri tek adımda yapmamızı sağlamaktır. Fonksiyonlar çoğu zaman, yapmak istediğimiz işlemler için bir şablon vazifesi görür. Fonksiyonları kullanarak, bir veya birkaç adımdan oluşan işlemleri tek bir isim altında toplayabiliriz. Python’daki ‘fonksiyon’ kavramı başka programlama dillerinde ‘rutin’ veya ‘prosedür’ olarak adlandırılır. Gerçekten de fonksiyonlar rutin olarak tekrar edilen görevleri veya prosedürleri tek bir ad/çatı altında toplayan araçlardır.\n",
    "\n",
    "Dilerseniz yukarıdaki soyut ifadeleri basit bir örnek üzerinde somutlaştırmaya çalışalım. Örneğin print() fonksiyonunu ele alalım.\n",
    "\n",
    "Bu fonksiyonun görevini biliyorsunuz: print() fonksiyonunun görevi, kullanıcının girdiği parametreleri ekrana çıktı olarak vermektir. Her ne kadar print() fonksiyonunun görevini, ekrana çıktı vermek olarak tanımlasak da, aslında bu fonksiyon, ekrana çıktı vermenin yanı sıra, başka bir takım ilave işlemler de yapar. Yani bu fonksiyon, aslında aldığı parametreleri sadece ekrana çıktı olarak vermekle yetinmez. Örneğin şu komutu inceleyelim:\n",
    "\n"
   ]
  },
  {
   "cell_type": "raw",
   "id": "e0e00f44-f371-4d46-b0fe-e3f733f81a9e",
   "metadata": {},
   "source": [
    "print(\"Fırat\", \"Özgül\", \"1980\", \"Adana\")"
   ]
  },
  {
   "cell_type": "markdown",
   "id": "fce0e6f6-b7f8-4dae-8b90-263ea006d4a3",
   "metadata": {},
   "source": [
    "Burada print() fonksiyonu toplam dört adet parametre alıyor. Fonksiyonumuz, görevi gereği, bu parametreleri ekrana çıktı olarak verecek. Bu komutu çalıştırdığımızda şöyle bir çıktı alıyoruz:"
   ]
  },
  {
   "cell_type": "raw",
   "id": "cf0b369e-bd67-4804-9087-1f59b34f3653",
   "metadata": {},
   "source": [
    "Fırat Özgül 1980 Adana\n"
   ]
  },
  {
   "cell_type": "markdown",
   "id": "627c3316-aa71-4e18-b1ff-f5033395468b",
   "metadata": {},
   "source": [
    "Dikkat ederseniz, burada salt bir ‘ekrana çıktı verme’ işleminden fazlası var. Zira print() fonksiyonu aldığı parametreleri şu şekilde de ekrana verebilirdi:"
   ]
  },
  {
   "cell_type": "raw",
   "id": "3d0bc9d8-5295-44fb-aea2-879ebcef51d8",
   "metadata": {},
   "source": [
    "FıratÖzgül1980Adana"
   ]
  },
  {
   "cell_type": "markdown",
   "id": "9f8149f5-7f93-43ce-b6a6-536ba5c4919c",
   "metadata": {},
   "source": [
    "Veya şu şekilde:\n",
    "\n"
   ]
  },
  {
   "cell_type": "raw",
   "id": "f0aa7e29-a705-4813-9117-aee23e99117d",
   "metadata": {},
   "source": [
    "F\n",
    "ı\n",
    "r\n",
    "a\n",
    "t\n",
    "Ö\n",
    "z\n",
    "g\n",
    "ü\n",
    "l\n",
    "1\n",
    "9\n",
    "8\n",
    "0\n",
    "A\n",
    "d\n",
    "a\n",
    "n\n",
    "a"
   ]
  },
  {
   "cell_type": "markdown",
   "id": "0a15cea9-b7cb-4d60-8dfe-c1a65a1ff283",
   "metadata": {},
   "source": [
    "Neticede bunlar da birer çıktı verme işlemidir. Ama dediğimiz gibi, print() fonksiyonu aldığı parametreleri sadece ekrana çıktı olarak vermekle yetinmiyor. Gelin isterseniz ne demek istediğimizi biraz daha açıklayalım:\n",
    "\n",
    "print() fonksiyonunun yukarıdaki komutu nasıl algıladığını önceki derslerimizde öğrenmiştik. Yukarıdaki komut Python tarafından şu şekilde algılanıyor:\n",
    "\n"
   ]
  },
  {
   "cell_type": "code",
   "execution_count": null,
   "id": "5ae6480e-6019-4f96-b803-a45c31be0935",
   "metadata": {},
   "outputs": [],
   "source": [
    "print(\"Fırat\", \"Özgül\", \"1980\", \"Adana\", sep=\" \", end=\"\\n\",\n",
    "file=sys.stdout, flush=False)"
   ]
  },
  {
   "cell_type": "markdown",
   "id": "36b0868d-ef65-401c-82ea-9467f4c7848f",
   "metadata": {},
   "source": [
    "Yani print() fonksiyonu;\n",
    "\n",
    "Kendisine verilen “Fırat”, “Özgül”, “1980” ve “Adana” parametrelerini ekrana basıyor,\n",
    "\n",
    "sep=” “ parametresinin etkisiyle, bu parametreler arasına birer boşluk ekliyor,\n",
    "\n",
    "end=”\\n” parametresinin etkisiyle, sonuncu parametreyi de ekrana bastıktan sonra bir alt satıra geçiyor,\n",
    "\n",
    "file=sys.stdout parametresinin etkisiyle, çıktı konumu olarak komut ekranını kullanıyor. Yani çıktıları ekrana veriyor.\n",
    "\n",
    "flush=False parametresinin etkisiyle, çıktılar ekrana gönderilmeden önce tamponda bekletiliyor.\n",
    "\n",
    "Eğer print() gibi bir fonksiyon olmasaydı, yukarıda listediğimiz bütün bu işlemleri kendimiz yapmak zorunda kalacaktık. Yani ekranda göstermek istediğimiz ifadeleri ekrana çıktı olarak vermenin yanısıra, bunların ekranda nasıl görüneceğini de tek tek kendimiz elle ayarlamak zorunda kalacaktık. Ekrana çıktı verme ile ilgili pek çok işlem tek bir print() fonksiyonu altında birleştirildiği için, her ihtiyaç duyduğumuzda o işlemleri tek tek bizim yapmamıza gerek kalmıyor.\n",
    "\n",
    "Aynı şey mesela input() fonksiyonu için de geçerlidir. Bu fonksiyonu kullanarak, programımızı kullanan kişilerle etkileşim içine girebiliyoruz. Tıpkı print() fonksiyonunda olduğu gibi, input() fonksiyonu da aslında alttan alta epey karmaşık işlemler gerçekleştirir. Ama o karmaşık işlemlerin tek bir input() fonksiyonu içinde bir araya getirilmiş olması sayesinde, sadece input() gibi basit bir komut vererek kullanıcılarımızla iletişime geçebiliyoruz.\n",
    "\n",
    "Bu açıdan bakıldığında fonksiyonlar değişkenlere benzer. Bildiğiniz gibi, her defasında bir değeri tekrar tekrar yazmak yerine bir değişkene atayarak o değere kolayca erişebiliyoruz. Örneğin:"
   ]
  },
  {
   "cell_type": "code",
   "execution_count": null,
   "id": "e1ce8b5f-d90a-48a1-b0bd-bc7eb17d03e9",
   "metadata": {},
   "outputs": [],
   "source": [
    "kurum = \"Sosyal Sigortalar Kurumu\""
   ]
  },
  {
   "cell_type": "markdown",
   "id": "a006e5e4-9658-491c-9f67-7c684d54e545",
   "metadata": {},
   "source": [
    "Burada tanımladığımız kurum adlı değişken sayesinde, ‘Sosyal Sigortalar Kurumu’ ifadesini kullanmamız gereken her yerde sadece değişken adını kullanarak, değişkenin tuttuğu değere ulaşabiliyoruz. İşte fonksiyonlar da buna benzer bir işlev görür: Örneğin ekrana bir çıktı vermemiz gereken her yerde, yukarıda verdiğimiz karmaşık adımları tek tek gerçekleştirmeye çalışmak yerine, bu karmaşık ve rutin adımları bir araya getiren print() gibi bir fonksiyondan yararlanarak işlerimizi çok daha kolay bir şekilde halledebiliriz.\n",
    "\n",
    "Bu anlattıklarımız fonksiyonların ne işe yaradığı konusunda size bir fikir vermiş olabilir. Dilerseniz bu anlattıklarımızı bir örnek aracılığıyla biraz daha somutlaştırmaya çalışalım:\n",
    "\n",
    "Hatırlarsanız ‘Kullanıcıyla Veri Alışverişi’ başlıklı bölümde şöyle bir örnek vermiştik:"
   ]
  },
  {
   "cell_type": "code",
   "execution_count": null,
   "id": "704e3f9b-ddc2-4bed-8870-36c7cb4862c9",
   "metadata": {},
   "outputs": [],
   "source": [
    "isim    = \"Fırat\"\n",
    "soyisim = \"Özgül\"\n",
    "işsis   = \"Ubuntu\"\n",
    "şehir   = \"İstanbul\"\n",
    "\n",
    "print(\"isim           : \", isim)\n",
    "print(\"soyisim        : \", soyisim)\n",
    "print(\"işletim sistemi: \", işsis)\n",
    "print(\"şehir          : \", şehir)"
   ]
  },
  {
   "cell_type": "markdown",
   "id": "d3b95b37-8f93-41c2-8c34-8a7c95330a88",
   "metadata": {},
   "source": [
    "Bu programı çalıştırdığımızda şöyle bir çıktı alıyoruz:"
   ]
  },
  {
   "cell_type": "code",
   "execution_count": null,
   "id": "2f364da2-a9f3-4c98-92f7-1b5e96a115da",
   "metadata": {},
   "outputs": [],
   "source": [
    "isim           :  Fırat\n",
    "soyisim        :  Özgül\n",
    "işletim sistemi:  Ubuntu\n",
    "şehir          :  İstanbul"
   ]
  },
  {
   "cell_type": "markdown",
   "id": "d98073e1-0ca6-4000-a680-a482090a43c6",
   "metadata": {},
   "source": [
    "Bu program, belli değerleri kullanarak bir kayıt oluşturma işlemi gerçekleştiriyor. Mesela yukarıdaki örnekte, ‘Fırat Özgül’ adlı şahsa ait isim, soyisim, işletim sistemi ve şehir bilgilerini alarak, bu kişi için bir kayıt oluşturuyoruz.\n",
    "\n",
    "Peki ‘Fırat Özgül’ adlı kişinin yanısıra, ‘Mehmet Öztaban’ adlı başka bir kişi için de kayıt oluşturmak istersek ne yapacağız?\n",
    "\n",
    "Aklınıza şöyle bir şey yazmak gelmiş olabilir:"
   ]
  },
  {
   "cell_type": "code",
   "execution_count": null,
   "id": "d65d396a-5229-4608-85ff-b08ba7442913",
   "metadata": {},
   "outputs": [],
   "source": [
    "isim1    = \"Fırat\"\n",
    "soyisim1 = \"Özgül\"\n",
    "işsis1   = \"Ubuntu\"\n",
    "şehir1   = \"İstanbul\"\n",
    "\n",
    "print(\"isim           : \", isim1)\n",
    "print(\"soyisim        : \", soyisim1)\n",
    "print(\"işletim sistemi: \", işsis1)\n",
    "print(\"şehir          : \", şehir1)\n",
    "\n",
    "print(\"-\"*30)\n",
    "\n",
    "isim2    = \"Mehmet\"\n",
    "soyisim2 = \"Öztaban\"\n",
    "işsis2   = \"Debian\"\n",
    "şehir2   = \"Ankara\"\n",
    "\n",
    "print(\"isim           : \", isim2)\n",
    "print(\"soyisim        : \", soyisim2)\n",
    "print(\"işletim sistemi: \", işsis2)\n",
    "print(\"şehir          : \", şehir2)\n",
    "\n",
    "print(\"-\"*30)"
   ]
  },
  {
   "cell_type": "markdown",
   "id": "087547d4-0bd6-4500-9c33-cb52638aa3e6",
   "metadata": {},
   "source": [
    "Programa her yeni kayıt eklenişinde, her yeni kişi için benzer satırları tekrar tekrar yazabilirsiniz. Peki ama bu yöntem sizce de çok sıkıcı değil mi? Üstelik bir o kadar da hataya açık bir yöntem. Muhtemelen ilk kaydı ekledikten sonra, ikinci kaydı eklerken birinci kayıttaki bilgileri kopyalayıp, bu kopya üzerinden ikinci kaydı oluşturuyorsunuz. Hatta muhtemelen kopyalayıp yapıştırdıktan sonra yeni kaydı düzenlerken bazı hatalar da yapıyor ve düzgün çalışan bir program elde edebilmek için o hataları düzeltmekle de uğraşıyorsunuz.\n",
    "\n",
    "Bütün bu işleri kolaylaştıracak bir çözüm olsa ve bizi aynı şeyleri tekrar tekrar yazmaktan kurtarsa sizce de çok güzel olmaz mıydı? Mesela tıpkı print() fonksiyonu gibi, kayıt_oluştur() adlı bir fonksiyon olsa, biz sadece gerekli bilgileri bu fonksiyonun parantezleri içine parametre olarak yazsak ve bu fonksiyon bize istediğimiz bilgileri içeren bir kayıt oluştursa ne hoş olurdu, değil mi? Yani örneğin bahsettiğimiz bu hayali kayıt_oluştur() fonksiyonunu şu şekilde kullanabilseydik…"
   ]
  },
  {
   "cell_type": "code",
   "execution_count": null,
   "id": "a0154d1d-b79d-4966-b54c-595cc2548422",
   "metadata": {},
   "outputs": [],
   "source": [
    "kayıt_oluştur(\"Mehmet\", \"Öztaban\", \"Debian\", \"Ankara\")"
   ]
  },
  {
   "cell_type": "markdown",
   "id": "7a18136b-fab1-4995-809e-4d40c79c7810",
   "metadata": {},
   "source": [
    "… ve bu komut bize şu çıktıyı verebilseydi…"
   ]
  },
  {
   "cell_type": "raw",
   "id": "8cce35a1-8350-4ae0-8b63-ba2edf5b72d8",
   "metadata": {},
   "source": [
    "------------------------------\n",
    "isim           :  Mehmet\n",
    "soyisim        :  Öztaban\n",
    "işletim sistemi:  Debian\n",
    "şehir          :  Ankara\n",
    "------------------------------"
   ]
  },
  {
   "cell_type": "markdown",
   "id": "71e7a090-ce3f-4e2a-8ade-261d0e9e70ca",
   "metadata": {},
   "source": [
    "… ne kadar güzel olurdu, değil mi?\n",
    "\n",
    "İşte böyle bir şey Python’da mümkündür. Nasıl Python geliştiricileri print(), input() ve benzeri fonksiyonları tanımlayıp, karmaşık işlemleri tek adımda yapabilmemiz için bize sunmuş ve böylece bizi her defasında tekerleği yeniden icat etme külfetinden kurtarmışsa, biz de kendi fonksiyonlarımızı tanımlayarak, kendimizi aynı işlemleri tekrar tekrar yapma zahmetinden kurtarabiliriz.\n",
    "\n",
    "Gelin şimdi bu işi nasıl yapabileceğimizi tartışalım.\n",
    "\n",
    "+++++++Fonksiyon Tanımlamak ve Çağırmak\n",
    "\n",
    "Bir önceki bölümde, kayıt_oluştur() adlı hayali bir fonksiyondan söz etmiştik. Tasarımıza göre bu fonksiyon şu şekilde kullanılacak:\n",
    "\n"
   ]
  },
  {
   "cell_type": "code",
   "execution_count": null,
   "id": "ddc1775c-c198-48c0-8d8f-e284a93a22a9",
   "metadata": {},
   "outputs": [],
   "source": [
    "kayıt_oluştur(\"Ahmet\", \"Gür\", \"Pardus\", \"İzmir\")"
   ]
  },
  {
   "cell_type": "markdown",
   "id": "cf710047-fae6-4859-b33c-0812e2b6abba",
   "metadata": {},
   "source": [
    "Bu komutu verdiğimizde ise şöyle bir çıktı almayı planlıyoruz:\n",
    "\n"
   ]
  },
  {
   "cell_type": "code",
   "execution_count": null,
   "id": "d8e2fc31-de27-4cee-afad-694184e95087",
   "metadata": {},
   "outputs": [],
   "source": [
    "------------------------------\n",
    "isim           :  Ahmet\n",
    "soyisim        :  Gür\n",
    "işletim sistemi:  Pardus\n",
    "şehir          :  İzmir\n",
    "------------------------------"
   ]
  },
  {
   "cell_type": "markdown",
   "id": "4dfec636-8062-49e2-a2aa-ade2a82f0be6",
   "metadata": {},
   "source": [
    "Dediğimiz gibi, böyle bir şey yapmak Python’la mümkündür. Ancak tabii ki kayıt_oluştur() adlı böyle bir fonksiyonu kullanabilmenin belli ön koşulları var. Nasıl sayı adlı bir değişkeni kullanabilmek için öncelikle bu ada sahip bir değişken tanımlamış olmamız gerekiyorsa, aynı şekilde kayıt_oluştur() adlı bir fonksiyonu kullanabilmek için de öncelikle bu ada sahip bir fonksiyonu tanımlamış olmamız gerekiyor. Zira mesela input() ve print() gibi fonksiyonları kullanabiliyor olmamız, Python geliştiricilerinin bu fonksiyonları tanımlayıp dilin içine gömmüş olmaları sayesindedir.\n",
    "\n",
    "İşte biz de kayıt_oluştur() adlı fonksiyonu kullanabilmek için bu ada sahip fonksiyonu aşağıdaki şekilde tanımlamalıyız:"
   ]
  },
  {
   "cell_type": "code",
   "execution_count": null,
   "id": "edc96f21-c9af-4218-a1a6-c1ee3a03cfd2",
   "metadata": {},
   "outputs": [],
   "source": [
    "def kayıt_oluştur(isim, soyisim, işsis, şehir):\n",
    "    print(\"-\"*30)\n",
    "\n",
    "    print(\"isim           : \", isim)\n",
    "    print(\"soyisim        : \", soyisim)\n",
    "    print(\"işletim sistemi: \", işsis)\n",
    "    print(\"şehir          : \", şehir)\n",
    "\n",
    "    print(\"-\"*30)"
   ]
  },
  {
   "cell_type": "markdown",
   "id": "218338fd-a9e9-454c-9d3f-a00cd5db4d41",
   "metadata": {},
   "source": [
    "İlk bakışta bu kodlar size hiçbir şey ifade etmemiş olabilir. Ama hiç endişe etmeyin. Biz birazdan bu satırların ne anlama geldiğini bütün ayrıntılarıyla anlatacağız. Siz şimdilik anlamadığınız kısımları görmezden gelip okumaya devam edin.\n",
    "\n",
    "Yukarıdaki kodlar yardımıyla fonksiyonumuzu tanımlamış olduk. Artık elimizde, tıpkı print() veya input() gibi, kayıt_oluştur() adlı ‘ev yapımı’ bir fonksiyon var. Dolayısıyla bu yeni fonksiyonumuzu, daha önce öğrendiğimiz fonksiyonları nasıl kullanıyorsak aynı şekilde kullanabiliriz. Yani aşağıdaki gibi komutlar yazabiliriz:"
   ]
  },
  {
   "cell_type": "code",
   "execution_count": null,
   "id": "2448f46c-7beb-41d8-92b4-0ede2e7114ae",
   "metadata": {},
   "outputs": [],
   "source": [
    "kayıt_oluştur(\"Fırat\", \"Özgül\", \"Ubuntu\", \"İstanbul\")\n",
    "kayıt_oluştur(\"Mehmet\", \"Öztaban\", \"Debian\", \"Ankara\")"
   ]
  },
  {
   "cell_type": "markdown",
   "id": "3e589412-ff09-407d-befe-2743da1cb848",
   "metadata": {},
   "source": [
    "Yalnız fonksiyonumuzu tanımlayıp bitirdikten sonra, bu fonksiyonu kullanırken, kodlarımızın hizalamasına dikkat ediyoruz. Fonksiyonu kullanmak için yazdığımız kodları def ifadesinin hizasına getiriyoruz. Yani:"
   ]
  },
  {
   "cell_type": "code",
   "execution_count": null,
   "id": "89a78726-4102-404f-9cbc-9e2fc8c8a3d4",
   "metadata": {},
   "outputs": [],
   "source": [
    "def kayıt_oluştur(isim, soyisim, işsis, şehir):\n",
    "    print(\"-\"*30)\n",
    "\n",
    "    print(\"isim           : \", isim)\n",
    "    print(\"soyisim        : \", soyisim)\n",
    "    print(\"işletim sistemi: \", işsis)\n",
    "    print(\"şehir          : \", şehir)\n",
    "\n",
    "    print(\"-\"*30)\n",
    "\n",
    "kayıt_oluştur(\"Fırat\", \"Özgül\", \"Ubuntu\", \"İstanbul\")\n",
    "kayıt_oluştur(\"Mehmet\", \"Öztaban\", \"Debian\", \"Ankara\")"
   ]
  },
  {
   "cell_type": "markdown",
   "id": "63034fc0-754d-4560-9440-b874ebf30fe8",
   "metadata": {},
   "source": [
    "Yukarıdaki yapıyı kullanarak, istediğiniz sayıda kayıt oluşturabilirsiniz. Mesela:\n",
    "\n"
   ]
  },
  {
   "cell_type": "code",
   "execution_count": null,
   "id": "f0f81215-8c4f-41cd-9557-18667191c7bc",
   "metadata": {},
   "outputs": [],
   "source": [
    "kayıt_oluştur(\"İlkay\", \"Kaya\", \"Mint\", \"Adana\")\n",
    "kayıt_oluştur(\"Seda\", \"Kara\", \"SuSe\", \"Erzurum\")"
   ]
  },
  {
   "cell_type": "markdown",
   "id": "8db2e7cc-519b-44cf-9881-06ec9fe20293",
   "metadata": {},
   "source": [
    "Gördüğünüz gibi, yukarıdaki yöntem sayesinde kodlarımızdaki tekrar eden kısımlar ortadan kalktı. Yukarıdaki fonksiyonun bize nasıl bir kolaylık sağladığını daha net görebilmek için, fonksiyon kullanarak sadece şu 11 satırla elde ettiğimiz çıktıyı, fonksiyon kullanmadan elde etmeyi deneyebilirsiniz:\n",
    "\n"
   ]
  },
  {
   "cell_type": "code",
   "execution_count": null,
   "id": "0a071cb8-3c19-4377-bbfb-5d5c6119f307",
   "metadata": {},
   "outputs": [],
   "source": [
    "def kayıt_oluştur(isim, soyisim, işsis, şehir):\n",
    "    print(\"-\"*30)\n",
    "\n",
    "    print(\"isim           : \", isim)\n",
    "    print(\"soyisim        : \", soyisim)\n",
    "    print(\"işletim sistemi: \", işsis)\n",
    "    print(\"şehir          : \", şehir)\n",
    "\n",
    "    print(\"-\"*30)\n",
    "\n",
    "kayıt_oluştur(\"Fırat\", \"Özgül\", \"Ubuntu\", \"İstanbul\")\n",
    "kayıt_oluştur(\"Mehmet\", \"Öztaban\", \"Debian\", \"Ankara\")\n",
    "kayıt_oluştur(\"İlkay\", \"Kaya\", \"Mint\", \"Adana\")\n",
    "kayıt_oluştur(\"Seda\", \"Kara\", \"SuSe\", \"Erzurum\")"
   ]
  },
  {
   "cell_type": "markdown",
   "id": "b70b4af7-b41e-4c3e-be1d-4332da6e8319",
   "metadata": {},
   "source": [
    "Bu anlattıklarımız size çok karmaşık gelmiş olabilir. Ama endişe etmenize hiç gerek yok. Biraz sonra, yukarıda yazdığımız kodların hepsini didik didik edeceğiz. Ama öncelikle yukarıdaki kod parçasını yapısal olarak bir incelemenizi istiyorum. Fonksiyonu tanımladığımız aşağıdaki kod parçasına şöyle bir baktığınızda neler görüyorsunuz?\n",
    "\n"
   ]
  },
  {
   "cell_type": "code",
   "execution_count": null,
   "id": "ee4c73d8-a70b-4a19-a3e5-a7c3a3b7dd5a",
   "metadata": {},
   "outputs": [],
   "source": [
    "def kayıt_oluştur(isim, soyisim, işsis, şehir):\n",
    "     print(\"-\"*30)\n",
    "\n",
    "     print(\"isim           : \", isim)\n",
    "     print(\"soyisim        : \", soyisim)\n",
    "     print(\"işletim sistemi: \", işsis)\n",
    "     print(\"şehir          : \", şehir)\n",
    "\n",
    "     print(\"-\"*30)\n",
    "\n",
    "kayıt_oluştur(\"Fırat\", \"Özgül\", \"Ubuntu\", \"İstanbul\")\n"
   ]
  },
  {
   "cell_type": "markdown",
   "id": "f7b8e3ef-a9e0-4e31-9711-9eb7d413e084",
   "metadata": {},
   "source": [
    "Bu kodları incelediğinizde şu noktalar dikkatinizi çekiyor olmalı:\n",
    "\n",
    "Kodlar def adlı bir ifade ile başlamış.\n",
    "\n",
    "Bunun ardından ‘kayıt_oluştur’ ifadesini görüyoruz.\n",
    "\n",
    "Bu ifadeyi, içinde birtakım kelimeler barındıran bir parantez çifti izliyor.\n",
    "\n",
    "Parantezin içinde, isim, soyisim, işsis ve şehir adlı değerler var.\n",
    "\n",
    "def ile başlayan bu satır iki nokta üst üste işareti ile son buluyor.\n",
    "\n",
    "İlk satırın ardından gelen kısım ilk satıra göre girintili bir şekilde yazılmış.\n",
    "\n",
    "kayıt_oluştur(\"Fırat\", \"Özgül\", \"Ubuntu\", \"İstanbul\") satırı önceki satırlara göre girintisiz yazılmış.\n",
    "\n",
    "Eğer bu kodlara dikkatlice bakacak olursanız, aslında bu kodların topu topu iki parçadan oluştuğunu göreceksiniz. İsterseniz yukarıdaki yapıyı biraz sadeleştirelim:"
   ]
  },
  {
   "cell_type": "code",
   "execution_count": null,
   "id": "354a3928-4fa1-4684-acff-491d22fc9327",
   "metadata": {},
   "outputs": [],
   "source": [
    "def kayıt_oluştur(parametre1, parametre2, parametre3, parametre4):\n",
    "    (...)\n",
    "\n",
    "kayıt_oluştur(parametre1, parametre2, parametre3, parametre4)"
   ]
  },
  {
   "cell_type": "markdown",
   "id": "b1d677da-c88b-49cb-9cc4-c31d05fcee21",
   "metadata": {},
   "source": [
    "Bu yapının ilk parçası şudur:"
   ]
  },
  {
   "cell_type": "code",
   "execution_count": null,
   "id": "2a21b97f-d394-4c0f-b0d7-ee0386c4dfd8",
   "metadata": {},
   "outputs": [],
   "source": [
    "def kayıt_oluştur(parametre1, parametre2, parametre3, parametre4):\n",
    "    (...)"
   ]
  },
  {
   "cell_type": "markdown",
   "id": "2dcb4bbc-8cf2-48db-a4dd-cdb666fc5434",
   "metadata": {},
   "source": [
    "İkinci parçası ise şu:"
   ]
  },
  {
   "cell_type": "code",
   "execution_count": null,
   "id": "7a87ee22-a27c-4a9d-b638-d06191af459e",
   "metadata": {},
   "outputs": [],
   "source": [
    "kayıt_oluştur(parametre1, parametre2, parametre3, parametre4)"
   ]
  },
  {
   "cell_type": "markdown",
   "id": "49d24d4f-6281-4b6a-8904-6ed9aa6c4897",
   "metadata": {},
   "source": [
    "Teknik olarak söylemek gerekirse, ilk parçaya ‘fonksiyon tanımı’ (function definition), ikinci parçaya ise ‘fonksiyon çağrısı’ (function call) adı verilir. Dolayısıyla bir fonksiyonun yaşam döngüsü iki aşamadan oluşur. Buna göre bir fonksiyon önce tanımlanır;"
   ]
  },
  {
   "cell_type": "code",
   "execution_count": null,
   "id": "ead1ba13-9260-4875-92be-50fcb83a1b22",
   "metadata": {},
   "outputs": [],
   "source": [
    "def kayıt_oluştur(parametre1, parametre2, parametre3, parametre4):\n",
    "    (...)"
   ]
  },
  {
   "cell_type": "markdown",
   "id": "80f2e79c-819e-465e-b52b-6ab95cb9214d",
   "metadata": {},
   "source": [
    "…sonra da çağrılır;"
   ]
  },
  {
   "cell_type": "raw",
   "id": "82915ee8-fbf8-4fd0-83c0-e239d1b7123d",
   "metadata": {},
   "source": [
    "kayıt_oluştur(parametre1, parametre2, parametre3, parametre4)"
   ]
  },
  {
   "cell_type": "markdown",
   "id": "dc7c7814-9b93-47d8-b3e9-f5b18ffbd0c6",
   "metadata": {},
   "source": [
    "Aslında biz şimdiye kadar gördüğümüz print(), type(), open() vb. fonksiyonlarda bu ‘fonksiyon çağrısı’ kısmıyla zaten tanışmıştık. Zira şu komut tam anlamıyla bir fonksiyon çağrısıdır (yani bir fonksiyon çağırma işlemidir):"
   ]
  },
  {
   "cell_type": "code",
   "execution_count": null,
   "id": "f46733ea-fdfa-48c8-81d4-2c338383d438",
   "metadata": {},
   "outputs": [],
   "source": [
    "print(\"Fırat\", \"Özgül\", \"Adana\", 32)"
   ]
  },
  {
   "cell_type": "markdown",
   "id": "a558f7fa-6d25-4639-bf4d-5a381629b777",
   "metadata": {},
   "source": [
    "Gördüğünüz gibi, yukarıdaki komutun yapı olarak şu komuttan hiçbir farkı yok:\n",
    "\n"
   ]
  },
  {
   "cell_type": "code",
   "execution_count": null,
   "id": "3516490c-f558-48c1-8b67-fefda27d704b",
   "metadata": {
    "jupyter": {
     "source_hidden": true
    }
   },
   "outputs": [],
   "source": [
    "kayıt_oluştur(\"Fırat\", \"Özgül\", \"Ubuntu\", \"İstanbul\")"
   ]
  },
  {
   "cell_type": "markdown",
   "id": "cbe97f71-eed6-4a89-9b22-ded2bb51d3d2",
   "metadata": {},
   "source": [
    "Bu iki fonksiyon arasındaki tek fark, print() fonksiyonunu Python geliştiricilerinin; kayıt_oluştur() fonksiyonunu ise sizin tanımlamış olmanızdır.\n",
    "\n",
    "Elbette bu iki fonksiyon yapı olarak birbirinin aynı olsa da, işlev olarak birbirinden farklıdır. print() fonksiyonunun görevi kendisine parametre olarak verilen değerleri ekrana çıktı vermek iken, kayıt_oluştur() fonksiyonunun görevi kendisine parametre olarak verilen değerleri kullanarak bir kayıt oluşturmaktır.\n",
    "\n",
    "Bu derse gelinceye kadar öğrendiğimiz print(), type() ve open() gibi fonksiyonlara teknik olarak ‘gömülü fonksiyonlar’ (builtin functions) adı verilir. Bu fonksiyonlara bu adın verilmiş olmasının sebebi, bu fonksiyonların gerçekten de Python programlama dili içine gömülü bir vaziyette olmalarıdır. Dikkat ederseniz kendi yazdığımız fonksiyonları kullanabilmek için öncelikle fonksiyonu tanımlamamız gerekiyor. Gömülü fonksiyonlar ise Python geliştiricileri tarafından halihazırda tanımlanmış olduğu için bunları biz herhangi bir tanımlama işlemi yapmaya gerek kalmadan doğrudan çağırabiliyoruz.\n",
    "\n",
    "Böylece bir fonksiyonun yapı olarak neye benzediğini üstünkörü de olsa incelemiş olduk. Buraya kadar anlatılan kısımda bazı noktaları anlamakta zorlanmış olabilirsiniz. Eğer öyleyse hiç endişelenmeyin. Bu gayet doğal.\n",
    "\n",
    "Gelin isterseniz şimdi yukarıda anlattıklarımızın içini doldurmaya çalışalım.\n",
    "\n",
    "+++++++Fonksiyonların Yapısı\n",
    "\n",
    "İsterseniz biraz da fonksiyonların yapısından söz edelim. Böylelikle ne ile karşı karşıya olduğumuzu anlamak zihninizde biraz daha kolaylaşır.\n",
    "\n",
    "Dedik ki, bir fonksiyonun ilk parçasına ‘fonksiyon tanımı’ (function definition) adı verilir. Bir fonksiyonu tanımlamak için def adlı bir parçacıktan yararlanıyoruz. Örneğin:"
   ]
  },
  {
   "cell_type": "code",
   "execution_count": null,
   "id": "332c7eac-87dd-4b05-8d8e-36d9045ff1b8",
   "metadata": {},
   "outputs": [],
   "source": [
    "def bir_fonksiyon():\n",
    "    (...)"
   ]
  },
  {
   "cell_type": "markdown",
   "id": "7e3d21c9-9001-4d3f-9693-12026d4fdaa8",
   "metadata": {},
   "source": [
    "Burada def parçacığı, tanımladığımız şeyin bir fonksiyon olduğunu gösteriyor. bir_fonksiyon ifadesi ise tanımladığımız bu fonksiyonun adıdır. Fonksiyonu tanımladıktan sonra, çağırırken bu adı kullanacağız.\n",
    "\n",
    "def bir_fonksiyon(): ifadesinin sonundaki iki nokta işaretinden de tahmin edebileceğiniz gibi, sonraki satıra yazacağımız kodlar girintili olacak. Yani mesela:\n",
    "\n"
   ]
  },
  {
   "cell_type": "code",
   "execution_count": null,
   "id": "7b7b88dc-e2dd-4d2b-ac21-7f432554fcd7",
   "metadata": {},
   "outputs": [],
   "source": [
    "def selamla():\n",
    "    print(\"Elveda Zalim Dünya!\")"
   ]
  },
  {
   "cell_type": "markdown",
   "id": "eb45dd5b-73b5-4d14-aced-883852878c5e",
   "metadata": {},
   "source": [
    "Yukarıda selamla() adlı bir fonksiyon tanımlamış olduk. Bu fonksiyonun görevi ekrana Elveda Zalim Dünya! çıktısı vermektir.\n",
    "\n",
    "Bu noktada şöyle bir soru akla geliyor: Acaba fonksiyon gövdesindeki kısım için ne kadarlık bir girinti oluşturacağız?\n",
    "\n",
    "Girintilemeye ilişkin olarak önceki derslerde bahsettiğimiz bütün kurallar burada da geçerlidir. Fonksiyon gövdesine, def ifadesinden itibaren 4 (dört) boşlukluk bir girinti veriyoruz. def ifadesinden itibaren girintili olarak yazdığımız kısmın tamamı o fonksiyonun gövdesini oluşturur ve bütünüyle o fonksiyona aittir.\n",
    "\n",
    "Bu kodlarla yaptığımız şey bir fonksiyon tanımlama işlemidir. Eğer bu kodları bir dosyaya kaydedip çalıştırırsak herhangi bir çıktı almayız. Çünkü henüz fonksiyonumuzu çağırmadık. Bu durumu print(), input() ve benzeri gömülü fonksiyonlara benzetebilirsiniz. Tıpkı yukarıda bizim yaptığımız gibi, gömülü fonksiyonlar da Python geliştiricileri tarafından bir yerlerde tanımlanmış vaziyette dururlar, ama biz bu fonksiyonları yazdığımız programlarda çağırana kadar bu fonksiyonlar çalışmaz.\n",
    "\n",
    "Daha önce de dediğimiz gibi, bir fonksiyonun yaşam döngüsü iki aşamadan oluşur: Fonksiyon tanımı ve fonksiyon çağrısı. Yukarıda bu döngünün sadece fonksiyon tanımı aşaması mevcut. Unutmayın, bir fonksiyon çağrılmadan asla çalışmaz. Bir fonksiyonun çalışabilmesi için o fonksiyonun tanımlandıktan sonra çağrılması gerekir. Örneğin input() fonksiyonu Python’ın derinliklerinde bir yerlerde tanımlanmış vaziyette durur. Bu fonksiyon, biz onu çağırana kadar, bulunduğu yerde sessizce bekler. Aynı şekilde selamla() adlı fonksiyon da programımız içinde tanımlanmış vaziyette, bizim onu çağıracağımız anı bekliyor. Bu söylediklerimizi destekleyecek açıklayıcı bilgileri biraz sonra vereceğiz. Biz şimdilik fonksiyon tanımı kısmını incelemeye devam edelim.\n",
    "\n",
    "Bu arada yukarıdaki fonksiyon tanımının yapısına çok dikkat edin. İki nokta üst üste işaretinden sonraki satırda girintili olarak yazılan bütün kodlar (yani fonksiyonun gövde kısmı) fonksiyonun bir parçasıdır. Girintinin dışına çıkıldığı anda fonksiyon tanımlama işlemi de sona erer.\n",
    "\n",
    "Örneğin:\n",
    "\n"
   ]
  },
  {
   "cell_type": "code",
   "execution_count": null,
   "id": "b9704674-0d2e-479a-b2b8-92cbb1228371",
   "metadata": {},
   "outputs": [],
   "source": [
    "def selamla():\n",
    "    print(\"Elveda Zalim Dünya!\")\n",
    "\n",
    "selamla()"
   ]
  },
  {
   "cell_type": "markdown",
   "id": "b6661ea2-ae43-4604-a457-06c8a4f3d13e",
   "metadata": {},
   "source": [
    "İşte burada fonksiyonumuzu çağırmış olduk. Dikkat edin! Dediğim gibi, iki nokta üst üste işaretinden sonraki satırda girintili olarak yazılan bütün kodlar fonksiyona aittir. selamla() satırı ise fonksiyon tanımının dışında yer alır. Bu satırla birlikte girintinin dışına çıkıldığı için artık fonksiyon tanımlama safhası sona ermiş oldu.\n",
    "\n",
    "Biz yukarıdaki örnekte, selamla() adlı fonksiyonu tanımlar tanımlamaz çağırmayı tercih ettik. Ama elbette siz bir fonksiyonu tanımlar tanımlamaz çağırmak zorunda değilsiniz. Yazdığınız bir program içinde fonksiyonlarınızı tanımladıktan sonra, ihtiyacınıza bağlı olarak, programın herhangi başka bir yerinde fonksiyonlarınızı çağırabilirsiniz.\n",
    "\n",
    "Fonksiyonlarla ilgili söylediklerimizi toparlayacak olursak şöyle bir bilgi listesi ortaya çıkarabiliriz:\n",
    "\n",
    "Python’da kabaca iki tip fonksiyon bulunur. Bunlardan biri gömülü fonksiyonlar (builtin functions), öteki ise özel fonksiyonlardır (custom functions). Burada ‘özel’ ifadesi, ‘kullanıcının ihtiyaçlarına göre kullanıcı tarafından özel olarak üretilmiş’ anlamına gelir.\n",
    "\n",
    "Gömülü fonksiyonlar; Python geliştiricileri tarafından tanımlanıp dilin içine gömülmüş olan print(), open(), type(), str(), int() vb. fonksiyonlardır. Bu fonksiyonlar halihazırda tanımlanıp hizmetimize sunulduğu için bunları biz herhangi bir tanımlama işlemi yapmadan doğrudan kullanabiliriz.\n",
    "\n",
    "Özel fonksiyonlar ise, gömülü fonksiyonların aksine, Python geliştiricileri tarafından değil, bizim tarafımızdan tanımlanmıştır. Bu fonksiyonlar dilin bir parçası olmadığından, bu fonksiyonları kullanabilmek için bunları öncelikle tanımlamamız gerekir.\n",
    "\n",
    "Python’da bir fonksiyonun yaşam döngüsü iki aşamadan oluşur: Tanımlanma ve çağrılma.\n",
    "\n",
    "Bir fonksiyonun çağrılabilmesi (yani kullanılabilmesi) için mutlaka birisi tarafından tanımlanmış olması gerekir.\n",
    "\n",
    "Fonksiyonu tanımlayan kişi Python geliştiricileri olabileceği gibi, siz de olabilirsiniz. Ama neticede ortada bir fonksiyon varsa, bir yerlerde o fonksiyonun tanımı da vardır.\n",
    "\n",
    "Fonksiyon tanımlamak için def adlı bir ifadeden yararlanıyoruz. Bu ifadeden sonra, tanımlayacağımız fonksiyonun adını belirleyip iki nokta üst üste işareti koyuyoruz. İki nokta üst üste işaretinden sonra gelen satırlar girintili olarak yazılıyor. Daha önce öğrendiğimiz bütün girintileme kuralları burada da geçerlidir.\n",
    "\n",
    "Fonksiyonun adını belirleyip iki nokta üst üste koyduktan sonra, alt satırda girintili olarak yazdığımız bütün kodlar fonksiyonun gövdesini oluşturur. Doğal olarak, bir fonksiyonun gövdesindeki bütün kodlar o fonksiyona aittir. Girintinin dışına çıkıldığı anda fonksiyon tanımı da sona erer.\n",
    "\n",
    "Fonksiyonlarla ilgili öğrendiklerimizi toparladığımıza göre, gelin isterseniz fonksiyonlarla ilgili bir örnek yaparak, bu yapıyı daha iyi anlamaya çalışalım:\n",
    "\n"
   ]
  },
  {
   "cell_type": "code",
   "execution_count": null,
   "id": "c5b4a39d-a9ca-4dcf-9053-6d0dfb0ecd5d",
   "metadata": {},
   "outputs": [],
   "source": [
    "def sistem_bilgisi_göster():\n",
    "    import sys\n",
    "    print(\"\\nSistemde kurulu Python'ın;\")\n",
    "    print(\"\\tana sürüm numarası:\", sys.version_info.major)\n",
    "    print(\"\\talt sürüm numarası:\", sys.version_info.minor)\n",
    "    print(\"\\tminik sürüm numarası:\", sys.version_info.micro)\n",
    "\n",
    "    print(\"\\nKullanılan işletim sisteminin;\")\n",
    "    print(\"\\tadı:\", sys.platform)"
   ]
  },
  {
   "cell_type": "markdown",
   "id": "409c6584-1b9e-41f7-9bc5-d6c4ec91f475",
   "metadata": {},
   "source": [
    "Burada sistem_bilgisi_göster() adlı bir fonksiyon tanımladık. Bu fonksiyonun görevi, kullanıcının sistemindeki Python sürümü ve işletim sistemine dair birtakım bilgiler vermektir.\n",
    "\n",
    "Bu arada, bu kodlarda, daha önceki derslerimizde öğrendiğimiz sys modülünden ve bu modül içindeki değişkenlerden yararlandığımızı görüyorsunuz. Bu kodlarda sys modülünün içindeki şu araçları kullandık:\n",
    "\n",
    "version_info.major: Python’ın ana sürüm numarası (Örn. 3)\n",
    "\n",
    "version_info.minor: Python’ın alt sürüm numarası (Örn. 4)\n",
    "\n",
    "version_info.micro: Python’ın minik sürüm numarası (Örn. 0)\n",
    "\n",
    "platform: Kullanılan işletim sisteminin adı (Örn. ‘win32’ veya ‘linux2’)\n",
    "\n",
    "Yukarıda tanımladığımız fonksiyonu nasıl çağıracağımızı biliyorsunuz:\n",
    "\n"
   ]
  },
  {
   "cell_type": "raw",
   "id": "fd97bbae-8665-40bb-b482-c58c656aff58",
   "metadata": {},
   "source": [
    "sistem_bilgisi_göster()"
   ]
  },
  {
   "cell_type": "markdown",
   "id": "78049002-2222-4149-9d40-d11b80b3c823",
   "metadata": {},
   "source": [
    "Bu fonksiyonun tanımını ve çağrısını eksiksiz bir program içinde gösterelim:"
   ]
  },
  {
   "cell_type": "code",
   "execution_count": 3,
   "id": "dcc05125-05d6-4b11-814e-1ecf21259d04",
   "metadata": {},
   "outputs": [
    {
     "name": "stdout",
     "output_type": "stream",
     "text": [
      "\n",
      "Sistemde kurulu Python'ın;\n",
      "\tana sürüm numarası: 3\n",
      "\talt sürüm numarası: 10\n",
      "\tminik sürüm numarası: 12\n",
      "\n",
      "Kullanılan işletim sisteminin;\n",
      "\tadı: linux\n"
     ]
    }
   ],
   "source": [
    "def sistem_bilgisi_göster():\n",
    "    import sys\n",
    "    print(\"\\nSistemde kurulu Python'ın;\")\n",
    "    print(\"\\tana sürüm numarası:\", sys.version_info.major)\n",
    "    print(\"\\talt sürüm numarası:\", sys.version_info.minor)\n",
    "    print(\"\\tminik sürüm numarası:\", sys.version_info.micro)\n",
    "\n",
    "    print(\"\\nKullanılan işletim sisteminin;\")\n",
    "    print(\"\\tadı:\", sys.platform)\n",
    "\n",
    "sistem_bilgisi_göster()"
   ]
  },
  {
   "cell_type": "markdown",
   "id": "b5cc603c-d9de-457d-b87f-d0c96083234e",
   "metadata": {},
   "source": [
    "++++++++++Fonksiyonlar Ne İşe Yarar?\n",
    "\n",
    "Şimdiye kadar söylediklerimizden ve verdiğimiz örneklerden fonksiyonların ne işe yaradığını anlamış olmalısınız. Ama biz yine de fonksiyonların faydası üzerine birkaç söz daha söyleyelim. Böylece fonksiyonların ne işe yaradığı konusunda aklımızda hiçbir şüphe kalmaz…\n",
    "\n",
    "İsterseniz bir örnek üzerinden ilerleyelim.\n",
    "\n",
    "Diyelim ki, bir sayının karesini bulan bir program yazmak istiyoruz. Şimdiye kadarki bilgilerimizi kullanarak şöyle bir şey yazabiliriz:\n",
    "\n"
   ]
  },
  {
   "cell_type": "code",
   "execution_count": null,
   "id": "ea15aec7-4b9f-493b-8e02-2eeabea81ca3",
   "metadata": {},
   "outputs": [],
   "source": [
    "sayı = 12\n",
    "çıktı = \"{} sayısının karesi {} sayısıdır\"\n",
    "print(çıktı.format(sayı, sayı**2))\n"
   ]
  },
  {
   "cell_type": "markdown",
   "id": "4130605f-523d-4c06-9eb2-b532578150e5",
   "metadata": {},
   "source": [
    "Yukarıdaki programı çalıştırdığımızda şöyle bir çıktı elde edeceğiz:"
   ]
  },
  {
   "cell_type": "code",
   "execution_count": null,
   "id": "449c03c9-ebc1-49c7-93ac-4d73458b2807",
   "metadata": {},
   "outputs": [],
   "source": [
    "12 sayısının karesi 144 sayısıdır"
   ]
  },
  {
   "cell_type": "markdown",
   "id": "7a1243d9-3332-43eb-9a22-2b93ed8dded0",
   "metadata": {},
   "source": [
    "Gayet güzel. Şimdi şöyle bir durum hayal edin: Diyelim ki büyük bir program içinde, farklı farklı yerlerde yukarıdaki işlemi tekrar tekrar yapmak istiyorsunuz. Böyle bir durumda şöyle bir şey yazmanız gerekebilir:\n",
    "\n"
   ]
  },
  {
   "cell_type": "code",
   "execution_count": null,
   "id": "2b2a13c1-49b6-48db-b840-f080fb89227d",
   "metadata": {},
   "outputs": [],
   "source": [
    "sayı = 12\n",
    "çıktı = \"{} sayısının karesi {} sayısıdır\"\n",
    "print(çıktı.format(sayı, sayı**2))\n",
    "\n",
    "####programla ilgili başka kodlar###\n",
    "\n",
    "sayı = 15\n",
    "print(çıktı.format(sayı, sayı**2))\n",
    "\n",
    "###programla ilgili başka kodlar###\n",
    "\n",
    "sayı = 29\n",
    "print(çıktı.format(sayı, sayı**2))"
   ]
  },
  {
   "cell_type": "markdown",
   "id": "5cfcec41-30db-44b0-b056-4b2f060b78e5",
   "metadata": {},
   "source": [
    "Buradaki sorun, aynı şeyleri tekrar tekrar yazmak zorunda kalmamızdır. Bu küçük örnekte pek belli olmuyor olabilir, ama özellikle büyük programlarda aynı kodların program içinde sürekli olarak tekrarlanması pek çok probleme yol açar. Örneğin kodlarda bir değişiklik yapmak istediğinizde, tekrarlanan kısımları bulup hepsinin üzerinde tek tek değişiklik yapmanız gerekir. Mesela çıktı adlı değişkenin içeriğini değiştirmek isterseniz, yaptığınız değişiklik programınızın pek çok kısmını etkileyebilir. Örneğin, çıktı değişkenini şu şekle getirdiğinizi düşünün:\n",
    "\n"
   ]
  },
  {
   "cell_type": "code",
   "execution_count": null,
   "id": "b23530c2-55c8-4478-90c9-b27a3f3c5ed5",
   "metadata": {},
   "outputs": [],
   "source": [
    "çıktı = \"{} sayısının karesi {}, karekökü {} sayısıdır\""
   ]
  },
  {
   "cell_type": "markdown",
   "id": "51e49ada-007c-4a96-8a55-992d7780a614",
   "metadata": {},
   "source": [
    "Böyle bir durumda, program içinde geçen bütün print(çıktı.format(sayı, sayı**2)) satırlarını bulup, üçüncü {} işaretine ait işlemi parantez içine eklemeniz gerekir. Tahmin edebileceğiniz gibi, son derece sıkıcı, yorucu ve üstelik hata yapmaya açık bir işlemdir bu. İşte bu tür problemlere karşı fonksiyonlar çok iyi bir çözümdür.\n",
    "\n",
    "Yukarıda bahsettiğimiz kare bulma işlemi için şu şekilde basit bir fonksiyon tanımlayabiliriz:\n",
    "\n"
   ]
  },
  {
   "cell_type": "code",
   "execution_count": null,
   "id": "3c679131-6266-404f-8c0e-6b72c5d3aa11",
   "metadata": {},
   "outputs": [],
   "source": [
    "def kare_bul():\n",
    "    sayı = 12\n",
    "    çıktı = \"{} sayısının karesi {} sayısıdır\"\n",
    "    print(çıktı.format(sayı, sayı**2))"
   ]
  },
  {
   "cell_type": "markdown",
   "id": "08120329-6e49-4cf9-9410-7dc585199f84",
   "metadata": {},
   "source": [
    "Bu fonksiyonu tanımladık. Şimdi de fonksiyonumuzu çağıralım:"
   ]
  },
  {
   "cell_type": "code",
   "execution_count": null,
   "id": "b86a035f-b888-48f1-9e8e-f3f4efe2d62e",
   "metadata": {},
   "outputs": [],
   "source": [
    "kare_bul()"
   ]
  },
  {
   "cell_type": "markdown",
   "id": "dffc152a-44e5-4726-820b-bb74d8d9f367",
   "metadata": {},
   "source": [
    "Kodlarımız tam olarak şöyle görünüyor:\n",
    "\n"
   ]
  },
  {
   "cell_type": "code",
   "execution_count": null,
   "id": "7261966a-ed99-4f1c-ab88-253fcbe43c88",
   "metadata": {},
   "outputs": [],
   "source": [
    "def kare_bul():\n",
    "    sayı = 12\n",
    "    çıktı = \"{} sayısının karesi {} sayısıdır\"\n",
    "    print(çıktı.format(sayı, sayı**2))\n",
    "\n",
    "kare_bul()"
   ]
  },
  {
   "cell_type": "markdown",
   "id": "053395b2-db77-441e-80ab-2a8decbdd8cd",
   "metadata": {},
   "source": [
    "Burada fonksiyonumuz def kare_bul(): satırıyla başlıyor, print(çıktı.format(sayı, sayı**2)) satırıyla bitiyor. Daha sonra gelen kare_bul() kodu, girintinin dışında yer aldığı için fonksiyon tanımına ait değildir.\n",
    "\n",
    "Bu kodları bir dosyaya kaydedip çalıştırdığımızda alacağımız çıktı şu olacaktır:\n",
    "\n",
    "12 sayısının karesi 144 sayısıdır\n",
    "\n",
    "kare_bul() adlı fonksiyonu bir kez tanımladıktan sonra bu fonksiyonu programınız içinde gereken her yerde çağırabilirsiniz:\n",
    "\n"
   ]
  },
  {
   "cell_type": "code",
   "execution_count": null,
   "id": "a8a9ba85-570e-4247-aa2a-d01cd0586e49",
   "metadata": {},
   "outputs": [],
   "source": [
    "kare_bul()\n",
    "\n",
    "####programla ilgili başka kodlar###\n",
    "\n",
    "kare_bul()\n",
    "\n",
    "###programla ilgili başka kodlar###\n",
    "\n",
    "kare_bul()"
   ]
  },
  {
   "cell_type": "markdown",
   "id": "769f3dc6-8502-4aba-9c9a-bce832708917",
   "metadata": {},
   "source": [
    "Gördüğünüz gibi kare_bul() adlı bu fonksiyon bizi pek çok zahmetten kurtarıyor. Ancak bu fonksiyonun bir sorunu var. Bu fonksiyon ekrana yalnızca 12 sayısının karesi 144 sayısıdır çıktısı verebiliyor. Buradaki problem, fonksiyonun sadece 12 sayısı üzerinde işlem yapabilmesi. Şöyle bir düşününce, bu çıktının ne kadar anlamsız olduğunu, aslında yukarıdaki fonksiyonun tamamen gereksiz bir iş yaptığını rahatlıkla görebiliyoruz. Fonksiyonumuzun adı kare_bul. Ama dediğimiz gibi, fonksiyonumuz sadece 12 sayısının karesini söyleyebiliyor. Halbuki mantık olarak fonksiyonumuzun, bütün sayıların karesini söyleyebilmesini beklerdik.\n",
    "\n",
    "Bu arada, gördüğünüz gibi, yukarıdaki fonksiyon parametresiz bir fonksiyondur. Dolayısıyla bu fonksiyonu çağırırken parantez içinde herhangi bir değer belirtmiyoruz.\n",
    "Fonksiyonumuzun gerçek anlamda işlevli bir hale gelebilmesi için sadece tek bir sayıyı değil, bütün sayıları inceleyebiliyor olması gerek. İşte fonksiyonumuza bu yeteneği parametreler aracılığıyla kazandırabiliriz.\n",
    "\n",
    "Dikkatlice bakın:\n",
    "\n"
   ]
  },
  {
   "cell_type": "code",
   "execution_count": null,
   "id": "a7f94c48-5c2b-446e-9ad3-fcf59cd904b8",
   "metadata": {},
   "outputs": [],
   "source": [
    "def kare_bul(sayı):\n",
    "    çıktı = \"{} sayısının karesi {} sayısıdır\"\n",
    "    print(çıktı.format(sayı, sayı**2))"
   ]
  },
  {
   "cell_type": "markdown",
   "id": "533e82bf-e5a9-47a0-8e0c-6a37bf852c0c",
   "metadata": {},
   "source": [
    "Fonksiyona parametre olarak nasıl bir isim verdiğinizin önemi yoktur. Parantez içine parametre olarak istediğiniz kelimeyi yazabilirsiniz. Önemli olan, parantez içinde fonksiyonun kaç parametre alacağını gösteren bir işaret olmasıdır. Mesela yukarıdaki fonksiyonu şöyle de tanımlayabilirdik:\n",
    "\n"
   ]
  },
  {
   "cell_type": "code",
   "execution_count": null,
   "id": "832a055a-b1fb-4cca-9aed-5fe9d81f0734",
   "metadata": {},
   "outputs": [],
   "source": [
    "def kare_bul(i):\n",
    "    çıktı = \"{} sayısının karesi {} sayısıdır\"\n",
    "    print(çıktı.format(i, i**2))"
   ]
  },
  {
   "cell_type": "markdown",
   "id": "ce7af378-018d-4e9f-ac1c-22221e02d753",
   "metadata": {},
   "source": [
    "…veya şöyle:\n",
    "\n"
   ]
  },
  {
   "cell_type": "code",
   "execution_count": null,
   "id": "9e176a5b-3869-49c4-8d1d-03ebe1e3969c",
   "metadata": {},
   "outputs": [],
   "source": [
    "def kare_bul(osman):\n",
    "    çıktı = \"{} sayısının karesi {} sayısıdır\"\n",
    "    print(çıktı.format(osman, osman**2))"
   ]
  },
  {
   "cell_type": "markdown",
   "id": "cc0ffd8a-b013-4f43-898e-87fbfa01a752",
   "metadata": {},
   "source": [
    "Elbette parametre adı olarak akılda kalıcı ve daha mantıklı bir seçim yapmak işlerinizi kolaylaştıracaktır…\n",
    "\n",
    "Şimdi de yukarıdaki fonksiyonu çağıralım:"
   ]
  },
  {
   "cell_type": "code",
   "execution_count": null,
   "id": "dc9cb63d-c4a0-4c13-8ffa-49a825dd8136",
   "metadata": {},
   "outputs": [],
   "source": [
    "kare_bul(9)"
   ]
  },
  {
   "cell_type": "markdown",
   "id": "71c99a19-da64-40cd-a1df-159f2d9c50b9",
   "metadata": {},
   "source": [
    "Bu fonksiyonu çalıştırdığımızda şu çıktıyı alırız:"
   ]
  },
  {
   "cell_type": "raw",
   "id": "9d215488-aadb-4fe1-8a25-d2dd20aaa207",
   "metadata": {},
   "source": [
    "9 sayısının karesi 81 sayısıdır"
   ]
  },
  {
   "cell_type": "markdown",
   "id": "ca9355e4-6e6b-44de-a07c-3ddc7ebd7b83",
   "metadata": {},
   "source": [
    "Bu fonksiyona parametre olarak hangi sayıyı verirseniz o sayının karesi hesaplanacaktır. Örneğin:\n",
    "\n"
   ]
  },
  {
   "cell_type": "code",
   "execution_count": null,
   "id": "c56ebf1d-e352-4713-9f7f-92b58b8d37fc",
   "metadata": {},
   "outputs": [],
   "source": [
    "kare_bul(15)\n",
    "kare_bul(25555)"
   ]
  },
  {
   "cell_type": "markdown",
   "id": "2308cf83-44ab-47ff-91a2-8bd0bf59cf5c",
   "metadata": {},
   "source": [
    "Yine bu fonksiyonu programınız içinde gereken her yerde çağırabilirsiniz:\n",
    "\n"
   ]
  },
  {
   "cell_type": "code",
   "execution_count": null,
   "id": "ce411fbf-5441-44ce-ada2-270f11651349",
   "metadata": {},
   "outputs": [],
   "source": [
    "kare_bul(17)\n",
    "\n",
    "####programla ilgili başka kodlar###\n",
    "\n",
    "kare_bul(21)\n",
    "\n",
    "###programla ilgili başka kodlar###\n",
    "\n",
    "kare_bul(54354)\n"
   ]
  },
  {
   "cell_type": "markdown",
   "id": "312ca61b-cbac-4155-8b3b-d9f87edf594e",
   "metadata": {},
   "source": [
    "Fonksiyonu oluşturan kodlarda herhangi bir değişiklik yapmak istediğinizde sadece fonksiyon tanımının gövdesini değiştirmeniz yeterli olacaktır. Örneğin:\n",
    "\n"
   ]
  },
  {
   "cell_type": "code",
   "execution_count": null,
   "id": "d692f7d2-4940-44f6-b1db-f36ffe28635a",
   "metadata": {},
   "outputs": [],
   "source": [
    "def kare_bul(sayı):\n",
    "    çıktı = \"{} sayısının karesi {}, karekökü ise {} sayısıdır\"\n",
    "    print(çıktı.format(sayı, sayı**2, sayı**0.5))"
   ]
  },
  {
   "cell_type": "markdown",
   "id": "be1a026e-69ee-4b16-8d75-0fb6e7abcfeb",
   "metadata": {},
   "source": [
    "Bu sayede sadece fonksiyon gövdesinde değişiklik yaparak, programın başka kısımlarını hiç etkilemeden yolumuza devam edebiliyoruz.\n",
    "\n",
    "Buraya kadar anlattıklarımız, fonksiyonların ne işe yaradığı ve bir program yazarken neden fonksiyonlara ihtiyaç duyacağımız konusunda size bir fikir vermiş olmalı. Eğer hala aklınızda fonksiyonların faydası konusunda bir şüphe kaldıysa, fonksiyonların faydasını anlamanızı sağlayabilmek için size şöyle bir soru sormama izin verin: Acaba ‘istihza’ kelimesinin kaç karakterden oluştuğunu nasıl buluruz?\n",
    "\n",
    "‘Elbette len() fonksiyonunu kullanarak!’ dediğinizi duyar gibiyim. Gerçekten de Python’da bir karakter dizisinin uzunluğunu bulmanın en iyi yolu len() fonksiyonunu kullanmaktır:\n",
    "\n"
   ]
  },
  {
   "cell_type": "code",
   "execution_count": null,
   "id": "6b0ff1dd-d78c-4696-a29f-56d23855dbae",
   "metadata": {},
   "outputs": [],
   "source": [
    "len(\"istihza\")"
   ]
  },
  {
   "cell_type": "markdown",
   "id": "d9662140-2074-4e5c-acff-0df7e8a2f9ca",
   "metadata": {},
   "source": [
    "Peki ya Python’da len() diye bir fonksiyon olmasaydı ne yapacaktınız? Böyle bir durumda, karakter dizilerinin uzunluğunu ölçmek için sizin bir yöntem icat etmeniz gerekecekti. Mesela ‘istihza’ kelimesinin kaç karakterden oluştuğunu bulmak için şöyle bir kod yazacaktınız:"
   ]
  },
  {
   "cell_type": "code",
   "execution_count": null,
   "id": "752d1dd0-77bd-4453-a14b-c95fcd95f59e",
   "metadata": {},
   "outputs": [],
   "source": [
    "c = 0\n",
    "for s in \"istihza\":\n",
    "    c += 1\n",
    "print(c)"
   ]
  },
  {
   "cell_type": "markdown",
   "id": "355d1ca9-d345-4041-8225-951a607c8083",
   "metadata": {},
   "source": [
    "Burada önce c adlı bir değişken tanımlayıp, bu değişkenin değerini 0 yaptık. Bu değişken, uzunluğunu sorgulamak istediğimiz kelimenin kaç karakterden oluştuğu bilgisini saklayacak.\n",
    "\n",
    "Ardından bir for döngüsü tanımlıyoruz. Bu döngüde, ‘istihza’ kelimesindeki her bir karakter için c değişkeninin değerini 1 sayı artırıyoruz. Böylece döngü sonunda c değişkeni ‘istihza’ kelimesi içinde kaç karakter olduğu bilgisini tutmuş oluyor.\n",
    "\n",
    "Son olarak da c değişkeninin nihai değerini ekrana yazdırıyoruz.\n",
    "\n",
    "Bu kodları çalıştırdığınızda 7 cevabı alacaksınız. Demek ki ‘istihza’ kelimesinde 7 karakter varmış. Peki ‘istihza’ kelimesi yerine mesela ‘Afyonkarahisar’ kelimesi içinde kaç karakter olduğunu hesaplamak isterseniz ne yapacaksınız? Elbette yukarıdaki kodları tekrar yazıp, ‘istihza’ kelimesini ‘Afyonkarahisar’ kelimesi ile değiştireceksiniz. Böylece bu kelimenin kaç karakterden oluştuğunu bulmuş olacaksınız. Sorgulamak istediğiniz her kelime için aynı şeyleri yapabilirsiniz…\n",
    "\n",
    "Ne kadar verimsiz bir yöntem, değil mi?\n",
    "\n",
    "Halbuki hiç bu tür şeylerle uğraşmaya gerek yok. Eğer Python bize len() fonksiyonu gibi bir fonksiyon vermemiş olsaydı, kendi len() fonksiyonumuzu icat edebilirdik. Dikkatlice bakın:"
   ]
  },
  {
   "cell_type": "code",
   "execution_count": null,
   "id": "b0115ba4-2203-4620-82b9-cd58109a0c19",
   "metadata": {},
   "outputs": [],
   "source": [
    "def uzunluk(öğe):\n",
    "    c = 0\n",
    "    for s in öğe:\n",
    "        c += 1\n",
    "    print(c)"
   ]
  },
  {
   "cell_type": "markdown",
   "id": "89d7b605-81a0-4be7-9185-d0dcc76a36e3",
   "metadata": {},
   "source": [
    "Böylece adı uzunluk olan bir fonksiyon tanımlamış olduk. Artık bir öğenin uzunluğunu hesaplamak istediğimizde, bütün o kodları her defasında tekrar tekrar yazmak yerine sadece uzunluk() fonksiyonunu kullanabiliriz:"
   ]
  },
  {
   "cell_type": "raw",
   "id": "68495234-1c87-43f6-81e8-de7b41336adb",
   "metadata": {},
   "source": [
    "uzunluk(\"istihza\")\n",
    "uzunluk(\"Afyonkarahisar\")\n",
    "uzunluk(\"Tarım ve Köyişleri Bakanlığı\")\n"
   ]
  },
  {
   "cell_type": "markdown",
   "id": "12f082f8-57d5-4602-914e-876d20e7bd2d",
   "metadata": {},
   "source": [
    "Üstelik bu fonksiyon yalnızca karakter dizilerinin değil öteki veri tiplerinin de uzunluğunu hesaplayabilir:\n",
    "\n"
   ]
  },
  {
   "cell_type": "code",
   "execution_count": null,
   "id": "f6e01876-e139-4303-bc06-a7e730a8ac93",
   "metadata": {},
   "outputs": [],
   "source": [
    "liste = [\"ahmet\", \"mehmet\", \"veli\"]\n",
    "uzunluk(liste)"
   ]
  },
  {
   "cell_type": "markdown",
   "id": "6a9297f0-04b1-49f9-9679-b601b4b2fc5a",
   "metadata": {},
   "source": [
    "Verdiğimiz bu örnek bize hem gömülü fonksiyonların faydasını, hem de genel olarak fonksiyonların ne işe yaradığını açıkça gösteriyor. Buna göre, len() benzeri gömülü fonksiyonlar tekerleği yeniden icat etme derdinden kurtarıyor bizi. Örneğin Python geliştiricilerinin len() gibi bir fonksiyon tanımlamış olmaları sayesinde, bir karakter dizisinin uzunluğunu hesaplamak için kendi kendimize yöntem icat etmek zorunda kalmıyoruz. Ama eğer kendi yöntemimizi icat etmemiz gerekirse, istediğimiz işlevi yerine getiren bir fonksiyon tanımlamamız da mümkün.\n",
    "\n",
    "Böylece temel olarak fonksiyonların ne işe yaradığını, neye benzediğini, nasıl tanımlandığını ve nasıl çağrıldığını incelemiş olduk. Şimdi fonksiyonların biraz daha derinine dalmaya başlayabiliriz.\n",
    "\n",
    "+++++++Parametreler ve Argümanlar\n",
    "\n",
    "\n",
    "Şimdiye kadar yaptığımız örnekler sayesinde aslında parametrelerin neye benzediğini ve ne işe yaradığını öğrenmiştik. Bu bölümde ise sizi ‘argüman’ adlı bir kavramla tanıştırıp, argüman ile parametre arasındaki benzerlik ve farklılıkları inceleyeceğiz. Bunun yanısıra, parametre kavramını da bu bölümde daha derinlikli bir şekilde ele alacağız.\n",
    "\n",
    "O halde hemen yola koyulalım.\n",
    "\n",
    "Parametrenin ne olduğunu biliyorsunuz. Bunlar fonksiyon tanımlarken parantez içinde belirttiğimiz, fonksiyon gövdesinde yapılan işin değişken öğelerini gösteren parçalardır. Mesela:"
   ]
  },
  {
   "cell_type": "code",
   "execution_count": null,
   "id": "8a6a416f-1d77-4203-ada6-98d7bb83ad32",
   "metadata": {},
   "outputs": [],
   "source": [
    "def kopyala(kaynak_dosya, hedef_dizin):\n",
    "    çıktı = \"{} adlı dosya {} adlı dizin içine kopyalandı!\"\n",
    "    print(çıktı.format(kaynak_dosya, hedef_dizin))"
   ]
  },
  {
   "cell_type": "markdown",
   "id": "827027e5-8d45-4ede-8199-a00080f85db8",
   "metadata": {},
   "source": [
    "Burada kopyala() adlı bir fonksiyon tanımladık. Bu fonksiyon toplam iki adet parametre alıyor: kaynak_dosya ve hedef_dizin. Gördüğünüz gibi, bu iki parametre gerçekten de fonksiyon gövdesinde yapılan işin değişken öğelerini gösteriyor. Bu fonksiyonun üreteceği çıktı, fonksiyonu çağıran kişinin bu iki parametreye vereceği değerlere bağlı olarak şekillenecek.\n",
    "\n",
    "Bildiğiniz gibi, parametrelere ne ad verdiğinizin hiçbir önemi yok. Elbette parametrenin görevine uygun bir isim vermeniz fonksiyonunuzun okunaklılığını artıracaktır. Ama tabii ki bu fonksiyonu pekala şu parametrelerle de tanımlayabilirdik:"
   ]
  },
  {
   "cell_type": "code",
   "execution_count": null,
   "id": "bf97bb8c-a6ff-490e-a047-5e29d0dfdee7",
   "metadata": {},
   "outputs": [],
   "source": [
    "def kopyala(a, b):\n",
    "    çıktı = \"{} adlı dosya {} adlı dizin içine kopyalandı!\"\n",
    "    print(çıktı.format(a, b))"
   ]
  },
  {
   "cell_type": "markdown",
   "id": "e1b92852-0f4b-48da-8cc9-0d6a9dfbb170",
   "metadata": {},
   "source": [
    "Burada önemli olan, parametre görevi görecek iki adet kelime bulmak. Bu kelimelerin ne olduğunun önemi yok. Ama tabii ki kaynak_dosya ve hedef_dizin adları, a ve b adlarına kıyasla, fonksiyondaki parametrelerin yaptığı işi çok daha iyi tarif ediyor.\n",
    "\n",
    "Parametre adı belirleme kuralları değişken adı belirleme kurallarıyla aynıdır. Dolayısıyla bir değişken adı belirlerken neye dikkat ediyorsak, parametre adı belirlerken de aynı şeye dikkat etmeliyiz.\n",
    "\n",
    "Gelin şimdi isterseniz tanımladığınız bu fonksiyonu çağıralım:"
   ]
  },
  {
   "cell_type": "raw",
   "id": "2e68ca85-8a96-4a43-9440-2d90a814ffd3",
   "metadata": {},
   "source": [
    "kopyala(\"deneme.txt\", \"/home/istihza/Desktop\")"
   ]
  },
  {
   "cell_type": "markdown",
   "id": "9c0f04d7-fbde-4378-8cd1-13c532635c51",
   "metadata": {},
   "source": [
    "Kodlarımız dosya içinde tam olarak şöyle görünüyor:"
   ]
  },
  {
   "cell_type": "code",
   "execution_count": null,
   "id": "0d3870a4-2d4b-43e3-a85d-aa0a68115fe9",
   "metadata": {},
   "outputs": [],
   "source": [
    "def kopyala(kaynak_dosya, hedef_dizin):\n",
    "    çıktı = \"{} adlı dosya {} adlı dizin içine kopyalandı!\"\n",
    "    print(çıktı.format(kaynak_dosya, hedef_dizin))\n",
    "\n",
    "kopyala(\"deneme.txt\", \"/home/istihza/Desktop\")"
   ]
  },
  {
   "cell_type": "raw",
   "id": "6f8efce9-731b-4211-b07c-16000aeef2ee",
   "metadata": {},
   "source": [
    "deneme.txt adlı dosya /home/istihza/Desktop adlı dizin içine kopyalandı!"
   ]
  },
  {
   "cell_type": "markdown",
   "id": "50991eaf-5da4-4b0d-a78d-56c7e251d788",
   "metadata": {},
   "source": [
    "Gördüğünüz gibi, “deneme.txt” ve “/home/istihza/Desktop” değerleri, çıktı adlı karakter dizisinde uygun yerlere yerleştirildi ve ekrana çıktı olarak verildi. İşte burada gördüğünüz bu “deneme.txt” ve “/home/istihza/Desktop” değerlerine argüman adı verilir. Yani bir fonksiyonu tanımlarken belirlediğimiz adlara parametre, aynı fonksiyonu çağırırken belirlediğimiz adlara ise argüman deniyor. Dolayısıyla fonksiyon tanımında belirlediğimiz kaynak_dosya ve hedef_dizin adlı değişkenler birer parametre, fonksiyon çağrısında bu parametrelere karşılık gelen “deneme.txt” ve “/home/istihza/Desktop” değerleri ise birer argüman oluyor.\n",
    "\n",
    "Böylece parametre ve argüman arasındaki farkı öğrenmiş olduk. Ancak şunu belirtmekte yarar var: Bu iki kavram genellikle birbirinin yerine kullanılır. Yani bu iki kavram arasındaki, yukarıda açıkladığımız farka pek kimse dikkat etmez. Dolayısıyla pek çok yerde hem parametre hem de argüman için aynı ifadenin kullanıldığını görebilirsiniz. Özellikle Türkçede parametre kelimesi argüman kelimesine kıyasla daha bilinir ve yaygın olduğu için, ayrım yapılmaksızın hem fonksiyon çağrısındaki değerlere, hem de fonksiyon tanımındaki değerlere parametre adı verilir.\n",
    "\n",
    "Gelelim parametrelerin çeşitlerine…\n",
    "\n",
    "Python’da parametreler işlevlerine göre farklı kategorilere ayrılır. Gelin şimdi bu kategorileri tek tek inceleyelim.\n",
    "\n",
    "+++++++++++++Sıralı (veya İsimsiz) Parametreler\n",
    "\n",
    "Python’da şöyle bir fonksiyon tanımlayabileceğimizi biliyoruz:"
   ]
  },
  {
   "cell_type": "code",
   "execution_count": null,
   "id": "29ea4e6e-69ee-494c-9f8a-a36bbae2a4df",
   "metadata": {},
   "outputs": [],
   "source": [
    "def kayıt_oluştur(isim, soyisim, işsis, şehir):\n",
    "    print(\"-\"*30)\n",
    "\n",
    "    print(\"isim           : \", isim)\n",
    "    print(\"soyisim        : \", soyisim)\n",
    "    print(\"işletim sistemi: \", işsis)\n",
    "    print(\"şehir          : \", şehir)\n",
    "\n",
    "    print(\"-\"*30)"
   ]
  },
  {
   "cell_type": "markdown",
   "id": "6e531ab4-f87e-41d1-92fb-5e141deb1beb",
   "metadata": {},
   "source": [
    "Yukarıda tanımladığımız bu fonksiyonu şu şekilde çağırabiliriz:\n",
    "\n"
   ]
  },
  {
   "cell_type": "raw",
   "id": "4a66250c-8c8f-4743-a120-7f73214acc44",
   "metadata": {},
   "source": [
    "kayıt_oluştur(\"Ahmet\", \"Öz\", \"Debian\", \"Ankara\")"
   ]
  },
  {
   "cell_type": "markdown",
   "id": "744cd2ac-6ab4-4e99-80f3-4fbfa3afc2cd",
   "metadata": {},
   "source": [
    "Bu fonksiyonda, yazdığımız parametrelerin sırası büyük önem taşır. Mesela yukarıdaki fonksiyonu şöyle çağırdığımızı düşünün:"
   ]
  },
  {
   "cell_type": "raw",
   "id": "1374289f-f1cf-4283-ae5d-b9fe06be1212",
   "metadata": {},
   "source": [
    "kayıt_oluştur(\"Debian\", \"Ankara\", \"Öz\", \"Ahmet\")"
   ]
  },
  {
   "cell_type": "markdown",
   "id": "51b0bdfc-5d4b-4ee7-bc95-cac293778af3",
   "metadata": {},
   "source": [
    "Eğer fonksiyon parametrelerini bu sırayla kullanırsak aldığımız çıktı hatalı olacaktır:"
   ]
  },
  {
   "cell_type": "raw",
   "id": "a8618a77-8475-4c78-b038-7026ac29f8d1",
   "metadata": {},
   "source": [
    "------------------------------\n",
    "isim           :  Debian\n",
    "soyisim        :  Ankara\n",
    "işletim sistemi:  Öz\n",
    "şehir          :  Ahmet\n",
    "------------------------------"
   ]
  },
  {
   "cell_type": "markdown",
   "id": "cd316d64-7b2e-492a-8681-598e8b819b18",
   "metadata": {},
   "source": [
    "Gördüğünüz gibi, isim, soyisim ve öteki bilgiler birbirine karışmış. İşte Python’da, veriliş sırası önem taşıyan bu tür parametrelere ‘sıralı parametreler’ (veya isimsiz parametreler) adı verilir.\n",
    "\n",
    "+++++++++++İsimli Parametreler\n",
    "\n",
    "\n",
    "Bir önceki bölümde verdiğimiz şu örneği yeniden ele alalım:\n",
    "\n"
   ]
  },
  {
   "cell_type": "code",
   "execution_count": null,
   "id": "d029a0b7-3d7b-447d-9a34-6102937ed6b5",
   "metadata": {},
   "outputs": [],
   "source": [
    "def kayıt_oluştur(isim, soyisim, işsis, şehir):\n",
    "    print(\"-\"*30)\n",
    "\n",
    "    print(\"isim           : \", isim)\n",
    "    print(\"soyisim        : \", soyisim)\n",
    "    print(\"işletim sistemi: \", işsis)\n",
    "    print(\"şehir          : \", şehir)\n",
    "\n",
    "    print(\"-\"*30)"
   ]
  },
  {
   "cell_type": "markdown",
   "id": "f65b8fc4-1634-4242-9c16-6778c26f53a3",
   "metadata": {},
   "source": [
    "Bu fonksiyonu çağırırken parametrelerin sırasını doğru vermenin, alacağımız çıktının düzgün olması bakımından büyük önem taşıdığını biliyoruz. Ancak özellikle parametre sayısının çok olduğu fonksiyonlarda parametre sırasını akılda tutmak zor olabilir. Böyle durumlarda parametreleri isimleri ile birlikte kullanmayı tercih edebiliriz:\n",
    "\n"
   ]
  },
  {
   "cell_type": "raw",
   "id": "c47c130d-ba2b-4072-a430-17d62c82afe1",
   "metadata": {},
   "source": [
    "kayıt_oluştur(soyisim=\"Öz\", isim=\"Ahmet\", işsis=\"Debian\", şehir= \"Ankara\")"
   ]
  },
  {
   "cell_type": "markdown",
   "id": "a2ad06a7-d3c7-46b7-b4d2-e3ddb3f0c634",
   "metadata": {},
   "source": [
    "Böylece fonksiyon parametrelerini istediğimiz sıra ile kullanabiliriz. Ancak burada dikkat etmemiz gereken bazı noktalar var. Python’da isimli bir parametrenin ardından sıralı bir parametre gelemez. Yani şu kullanım yanlıştır:"
   ]
  },
  {
   "cell_type": "raw",
   "id": "64922d51-a682-4f76-89a6-4b58c7b82109",
   "metadata": {},
   "source": [
    "kayıt_oluştur(soyisim=\"Öz\", isim=\"Ahmet\", \"Debian\", \"Ankara\")"
   ]
  },
  {
   "cell_type": "markdown",
   "id": "4fb43e8d-f13b-4ef4-a998-6845a8a1aa4a",
   "metadata": {},
   "source": [
    "Bu kodlar bize şu hatayı verir:"
   ]
  },
  {
   "cell_type": "code",
   "execution_count": null,
   "id": "3914e59a-9717-473e-9d6b-0bfa3cf7b85c",
   "metadata": {},
   "outputs": [],
   "source": [
    " File \"<stdin>\", line 1\n",
    "SyntaxError: non-keyword arg after keyword arg"
   ]
  },
  {
   "cell_type": "markdown",
   "id": "5f8c5296-b56c-4af9-8388-6c9923f3181a",
   "metadata": {},
   "source": [
    "Bu yüzden, eğer isimli parametreler kullanacaksak, isimli parametrelerden sonra sıralı parametre kullanmamaya dikkat ediyoruz.\n",
    "\n",
    "+++++++++Varsayılan Değerli Parametreler\n",
    "\n",
    "Şimdiye kadar karşılaştığımız fonksiyonlarda bir şey dikkatinizi çekmiş olmalı. Mesela print() fonksiyonunu ele alalım. Bildiğiniz gibi, bu fonksiyonu en basit şekilde şöyle kullanıyoruz:"
   ]
  },
  {
   "cell_type": "code",
   "execution_count": null,
   "id": "33cfc4ae-8a5c-46cb-863b-1562c5c3ec59",
   "metadata": {},
   "outputs": [],
   "source": [
    "print(\"Fırat\", \"Özgül\")"
   ]
  },
  {
   "cell_type": "markdown",
   "id": "9786df30-c2b3-499f-bb83-f1b3af32f95e",
   "metadata": {},
   "source": [
    "Evet, print() fonksiyonunu bu şekilde kullanabiliyoruz, ancak bildiğiniz gibi, aslında bu fonksiyonun bazı özel parametreleri de var. Daha önceki derslerimizden hatırlayacağınız gibi, biz yukarıdaki komutu verdiğimizde aslında Python bunu şu şekilde algılıyor:\n",
    "\n"
   ]
  },
  {
   "cell_type": "code",
   "execution_count": null,
   "id": "f1f58e48-c895-43b9-8a9d-1958a6066672",
   "metadata": {},
   "outputs": [],
   "source": [
    "print(\"Fırat\", \"Özgül\", sep=\" \", end=\"\\n\", file=sys.stdout, flush=False)"
   ]
  },
  {
   "cell_type": "markdown",
   "id": "6c73d501-e1f7-4b7a-9f86-085a857e8b84",
   "metadata": {},
   "source": [
    "Yani biz görmesek de aslında her print() çağrısı sep, end, file ve flush parametrelerini de içeriyor. Biz bu özel parametreleri kullanmasak da, yazdığımız kod düzgün bir şekilde çalışır. Bunun nedeni, sep, end, file ve flush parametrelerinin öntanımlı olarak birtakım değerlere sahip olmasıdır. Yani biz bu parametrelere kendimiz bir değer atamazsak Python bu parametrelere kendi belirlediği bazı öntanımlı değerleri atayacaktır. Dolayısıyla, eğer biz başka bir değer yazmazsak, sep parametresi “ “ değerine, end parametresi “n” değerine, file parametresi sys.stdout değerine, flush parametresi ise False değerine sahip olacaktır. İşte bu tür parametrelere Python’da ‘varsayılan değerli parametreler’ adı verilir. Peki biz kendimiz varsayılan değerli parametreler içeren fonksiyonları nasıl tanımlayabiliriz?\n",
    "\n",
    "Şu örneğe dikkatlice bakın:"
   ]
  },
  {
   "cell_type": "code",
   "execution_count": null,
   "id": "ecfa641e-8f6e-4503-8f2a-153adf5c9e68",
   "metadata": {},
   "outputs": [],
   "source": [
    "def kur(kurulum_dizini=\"/usr/bin/\"):\n",
    "    print(\"Program {} dizinine kuruldu!\".format(kurulum_dizini))"
   ]
  },
  {
   "cell_type": "markdown",
   "id": "f59bcea2-6c13-4365-88e9-e9a426d9e8fd",
   "metadata": {},
   "source": [
    "Burada kur() adlı bir fonksiyon tanımladık. Bu fonksiyonun görevi, yazdığımız bir programı, kullanıcının bilgisayarındaki bir dizine kurmak ve programın hangi dizine kurulduğu konusunda kullanıcıyı bilgilendirmek. Bu fonksiyonu şu şekilde çağırabiliriz:\n",
    "\n"
   ]
  },
  {
   "cell_type": "code",
   "execution_count": null,
   "id": "4946cf38-4243-4499-90b0-9237cecceda3",
   "metadata": {},
   "outputs": [],
   "source": [
    "kur()"
   ]
  },
  {
   "cell_type": "markdown",
   "id": "1559421a-2724-45e1-9891-5751d75ab392",
   "metadata": {},
   "source": [
    "Eğer kur() fonksiyonunu böyle çağırırsak bize şu çıktıyı verecektir:"
   ]
  },
  {
   "cell_type": "raw",
   "id": "a6d03eca-9c92-45e1-9f5d-0f4dc8a08ca1",
   "metadata": {},
   "source": [
    "Program /usr/bin/ dizinine kuruldu!"
   ]
  },
  {
   "cell_type": "markdown",
   "id": "43994165-7f61-4df1-8a87-30df4c31060d",
   "metadata": {},
   "source": [
    "Gördüğünüz gibi, kur() fonksiyonunun kurulum_dizini adlı bir parametresi var. Biz fonksiyonu tanımlarken, bu parametreye bir varsayılan değer atadık (/usr/bin/). Böylece kur() fonksiyonu parametresiz olarak çağrıldığında bu varsayılan değer devreye girdi. Eğer biz bu değeri değiştirmek istersek, mesela programımızın “C:\\Users\\firat” dizinine kurulmasını istersek, kur() fonksiyonunu şöyle çağırmalıyız:"
   ]
  },
  {
   "cell_type": "code",
   "execution_count": null,
   "id": "a9bcc216-1410-4a19-8c25-88c013943b84",
   "metadata": {},
   "outputs": [],
   "source": [
    "kur(\"C:\\\\Users\\\\firat\")"
   ]
  },
  {
   "cell_type": "markdown",
   "id": "aa9fcd4f-ebb1-4794-a509-f097df415a6c",
   "metadata": {},
   "source": [
    "kur() fonksiyonunu yukarıdaki gibi çağırdığımızda Python bize şöyle bir çıktı verir:\n",
    "\n"
   ]
  },
  {
   "cell_type": "raw",
   "id": "0af47f1b-7e80-4e9d-ad32-5794655411f2",
   "metadata": {},
   "source": [
    "Program C:\\Users\\firat dizinine kuruldu!"
   ]
  },
  {
   "cell_type": "markdown",
   "id": "38206828-79d8-494f-9fcc-1aad30f7fb19",
   "metadata": {},
   "source": [
    "Bu örnek size, varsayılan değerli parametreler belirlemenin ne kadar faydalı olabileceğini göstermiş olmalı. Mesela bir program yazdığınızı düşünün. Programınızı indiren kullanıcılar, yukarıdaki gibi bir varsayılan değerli parametre belirlemiş olmanız sayesinde programınızı nereye kuracaklarını belirlemek zorunda kalmadan bir sonraki kurulum adımına geçebiliyorlar…\n",
    "\n",
    "Elbette eğer isterseniz kullanıcılarınızı bir kurulum dizini belirlemeye zorlamak da isteyebilirsiniz. Bunun için yine varsayılan değerli parametrelerden yararlanabilirsiniz:\n",
    "\n"
   ]
  },
  {
   "cell_type": "code",
   "execution_count": null,
   "id": "81bb52c2-3714-4932-b59e-ba7b7710b85d",
   "metadata": {},
   "outputs": [],
   "source": [
    "def kur(kurulum_dizini=''):\n",
    "    if not kurulum_dizini:\n",
    "        print(\"Lütfen programı hangi dizine kurmak istediğinizi belirtin!\")\n",
    "    else:\n",
    "        print(\"Program {} dizinine kuruldu!\".format(kurulum_dizini))"
   ]
  },
  {
   "cell_type": "markdown",
   "id": "73cc3621-1904-4f94-b439-3d40b96f2798",
   "metadata": {},
   "source": [
    "Bu defa kurulum_dizini parametresinin varsayılan değerini boş bir karakter dizisi olarak belirledik. Eğer bu parametrenin değeri boş bir karakter dizisi olursa, kullanıcı herhangi bir kurulum dizini belirtmemiş demektir. Eğer kullanıcı herhangi bir kurulum dizini belirtmezse kurulum_dizini parametresinin bool değeri False olacaktır. Bu özelliği dikkate alarak fonksiyon gövdesinde şu kodları kullanabiliyoruz:\n",
    "\n"
   ]
  },
  {
   "cell_type": "code",
   "execution_count": null,
   "id": "788befc0-c960-40a6-9d27-a268155a5a82",
   "metadata": {},
   "outputs": [],
   "source": [
    "if not kurulum_dizini:\n",
    "    print(\"Lütfen programı hangi dizine kurmak istediğinizi belirtin!\")\n"
   ]
  },
  {
   "cell_type": "markdown",
   "id": "150a4ed3-4154-4d22-b05c-de4c79bb201c",
   "metadata": {},
   "source": [
    "Böylece, kurulum_dizini parametresinin bool değeri False olursa kullanıcılarımıza şöyle bir uyarı gösteriyoruz:\n",
    "\n"
   ]
  },
  {
   "cell_type": "raw",
   "id": "91e32446-e751-4358-bed3-367e064f62f9",
   "metadata": {},
   "source": [
    "\"Lütfen programı hangi dizine kurmak istediğinizi belirtin!\""
   ]
  },
  {
   "cell_type": "markdown",
   "id": "ead6f0f2-c767-4351-a837-705fb93b0880",
   "metadata": {},
   "source": [
    "Dolayısıyla kuruluma başlayabilmek için kur() fonksiyonunun şöyle çalıştırılmasını zorunlu tutuyoruz:\n",
    "\n"
   ]
  },
  {
   "cell_type": "code",
   "execution_count": null,
   "id": "a96e5bd5-820b-4f8c-9e7d-2a799a629a66",
   "metadata": {},
   "outputs": [],
   "source": [
    "kur(\"C:\\\\Users\\\\istihza\")"
   ]
  },
  {
   "cell_type": "markdown",
   "id": "bfdd1099-9fc4-48a5-a263-29957965d9e9",
   "metadata": {},
   "source": [
    "Buna benzer durumlarla pek çok kez karşılaşmış olmalısınız. Özellikle programların kurulmasını sağlayan ‘setup’ betiklerinde her aşama için bir varsayılan değer belirlenip, kullanıcının sadece ‘Next’ tuşlarına basarak sağlıklı bir kurulum yapması sağlanabiliyor. Eğer kullanıcı varsayılan değerlerin dışında birtakım değerler belirlemek isterse, yukarıda örneğini verdiğimiz yapı kullanıcıya böyle bir özgürlük de sağlıyor.\n",
    "\n",
    "+++++++++Rastgele Sayıda İsimsiz Parametre Belirleme\n",
    "\n",
    "\n",
    "Şimdiye kadar öğrendiğimiz pek çok fonksiyonun toplam kaç parametre alabileceği bellidir. Örneğin input() fonksiyonu yalnızca tek bir parametre alabilir. Eğer bu fonksiyona birden fazla parametre verirsek Python bize bir hata mesajı gösterecektir. Aynı şekilde mesela pow() fonksiyonunun da kaç parametre alabileceği bellidir. Ama örneğin print() fonksiyonuna verebileceğimiz parametre sayısı (teknik olarak 256 ile sınırlı olsa da) pratik olarak neredeyse sınırsızdır.\n",
    "\n",
    "Peki acaba biz kendimiz, sınırsız parametre alabilen fonksiyonlar üretebilir miyiz?\n",
    "\n",
    "Bu sorunun cevabı ‘evet’ olacaktır. Şimdi şu örneğe dikkatlice bakın:"
   ]
  },
  {
   "cell_type": "code",
   "execution_count": null,
   "id": "3ae1e4e4-10f2-471c-aaed-ab6310897368",
   "metadata": {},
   "outputs": [],
   "source": [
    "def fonksiyon(*parametreler):\n",
    "    print(parametreler)\n",
    "\n",
    "fonksiyon(1, 2, 3, 4, 5)"
   ]
  },
  {
   "cell_type": "markdown",
   "id": "f2bc9b1e-4540-4331-84fe-90fb96a7c11d",
   "metadata": {},
   "source": [
    "Bu kodları çalıştırdığımızda şu çıktıyı alacağız:"
   ]
  },
  {
   "cell_type": "code",
   "execution_count": null,
   "id": "1bc644e8-002a-44fc-ae20-16ab167c9a51",
   "metadata": {},
   "outputs": [],
   "source": [
    "(1, 2, 3, 4, 5)"
   ]
  },
  {
   "cell_type": "markdown",
   "id": "0720bc34-3feb-4add-9891-89f26eea2579",
   "metadata": {},
   "source": [
    "Gördüğünüz gibi, fonksiyon tanımı içinde kullandığımız * işareti sayesinde fonksiyonumuzun pratik olarak sınırsız sayıda parametre kabul etmesini sağlayabiliyoruz. Bu arada, bu tür fonksiyonların alabileceği parametre sayısı, dediğimiz gibi, pratikte sınırsızdır, ama teknik olarak bu sayı 256 adedi geçemez.\n",
    "\n",
    "Yukarıdaki kodların verdiği çıktının bir demet olduğuna dikkatinizi çekmek isterim. Bu bilgiye sahip olduktan sonra, bu tür fonksiyonları demet işleme kurallarına göre istediğiniz şekilde manipüle edebilirsiniz.\n",
    "\n",
    "Peki böyle bir fonksiyon tanımlamak ne işimize yarar?\n",
    "\n",
    "Mesela bu yapıyı kullanarak şöyle bir fonksiyon yazabilirsiniz:"
   ]
  },
  {
   "cell_type": "code",
   "execution_count": null,
   "id": "b660f41b-224e-41f1-950a-3303f340f78b",
   "metadata": {},
   "outputs": [],
   "source": [
    "def çarp(*sayılar):\n",
    "    sonuç = 1\n",
    "    for i in sayılar:\n",
    "        sonuç *= i\n",
    "    print(sonuç)"
   ]
  },
  {
   "cell_type": "markdown",
   "id": "cb53e678-8798-47b5-9b3f-7b86299d9c61",
   "metadata": {},
   "source": [
    "Bu fonksiyon kendisine verilen bütün parametreleri birbiriyle çarpar. Örneğin:\n",
    "\n"
   ]
  },
  {
   "cell_type": "code",
   "execution_count": null,
   "id": "e253012d-e36c-46ec-b384-3bc719a5cbfc",
   "metadata": {},
   "outputs": [],
   "source": [
    "çarp(1, 2, 3, 4)"
   ]
  },
  {
   "cell_type": "markdown",
   "id": "f99b274c-fe98-42fb-b91f-c0c834d1d08f",
   "metadata": {},
   "source": [
    "Bu kodun çıktısı 24 olacaktır. Gördüğünüz gibi, fonksiyonumuza istediğimiz sayıda parametre vererek bu sayıların birbiriyle çarpılmasını sağlayabiliyoruz.\n",
    "\n",
    "Aslında burada kullandığımız * işareti size hiç yabancı değil. Hatırlarsanız print() fonksiyonundan bahsederken şuna benzer bir kullanım örneği vermiştik:"
   ]
  },
  {
   "cell_type": "code",
   "execution_count": 4,
   "id": "cd057756-7485-4970-aa68-a9c58a9700a4",
   "metadata": {},
   "outputs": [
    {
     "name": "stdout",
     "output_type": "stream",
     "text": [
      "T.B.M.M\n"
     ]
    }
   ],
   "source": [
    "print(*'TBMM', sep='.')"
   ]
  },
  {
   "cell_type": "markdown",
   "id": "bea0c703-0c64-4609-a46e-24fdb35a4d49",
   "metadata": {},
   "source": [
    "Burada * işareti, eklendiği parametreyi öğelerine ayırıyor. sep parametresi ise * işaretinin birbirinden ayırdığı öğelerin arasına birer ‘.’ karakteri ekliyor.\n",
    "\n",
    "Bu işaretin etkilerini şu örneklerde daha net görebilirsiniz:\n",
    "\n"
   ]
  },
  {
   "cell_type": "code",
   "execution_count": 5,
   "id": "70e0475c-8012-4f8d-b0cf-d306c9547dbe",
   "metadata": {},
   "outputs": [
    {
     "name": "stdout",
     "output_type": "stream",
     "text": [
      "Ahmet Mehmet Veli\n"
     ]
    }
   ],
   "source": [
    "liste = [\"Ahmet\", \"Mehmet\", \"Veli\"]\n",
    "print(*liste)\n"
   ]
  },
  {
   "cell_type": "code",
   "execution_count": 6,
   "id": "8a631e0f-9096-4451-83a0-6e3fc045727a",
   "metadata": {},
   "outputs": [
    {
     "name": "stdout",
     "output_type": "stream",
     "text": [
      "a b\n"
     ]
    }
   ],
   "source": [
    "sözlük = {\"a\": 1, \"b\": 2}\n",
    "print(*sözlük)"
   ]
  },
  {
   "cell_type": "markdown",
   "id": "2a524528-21d8-46b9-899b-4b8b27579fca",
   "metadata": {},
   "source": [
    "Gördüğünüz gibi, * işareti herhangi bir öğeyi alıp, bunu parçalarına ayırıyor. İşte bu * işaretini fonksiyon tanımlarken kullandığımızda ise bu işlemin tam tersi gerçekleşiyor. Yani fonksiyon tanımında parametrenin soluna * getirdiğimizde, bu fonksiyon çağrılırken verilen argümanlar tek bir değişken içinde bir demet olarak toplanıyor. Zaten bu konunun başında verdiğimiz şu örnekte de bu durum açıkça görünüyor:"
   ]
  },
  {
   "cell_type": "code",
   "execution_count": 7,
   "id": "f2126ec0-cc0b-4617-9fd3-63069e29db7b",
   "metadata": {},
   "outputs": [
    {
     "name": "stdout",
     "output_type": "stream",
     "text": [
      "(1, 2, 3, 4, 5)\n"
     ]
    }
   ],
   "source": [
    "def fonksiyon(*parametreler):\n",
    "    print(parametreler)\n",
    "\n",
    "fonksiyon(1, 2, 3, 4, 5)"
   ]
  },
  {
   "cell_type": "markdown",
   "id": "8c9520ec-e08b-40b6-8521-d8cdfb382323",
   "metadata": {},
   "source": [
    "Aynen söylediğimiz gibi, fonksiyon() adlı fonksiyona argüman olarak verdiğimiz her bir öğenin (1, 2, 3, 4, 5) tek bir demet içinde toplandığını görüyorsunuz.\n",
    "\n",
    "Yıldızlı parametreler, tanımladığınız fonksiyonun parametre sayısını herhangi bir şekilde sınırlamak istemediğiniz durumlarda çok işinize yarar.\n",
    "\n",
    "Elbette * işaretiyle birlikte kullanacağınız parametrenin adı olarak, Python’ın değişken adlandırma kurallarına uygun bütün kelimeleri belirleyebilirsiniz. Mesela biz yukarıda ‘parametreler’ adını tercih ettik. Ama Python dünyasında * işaretiyle birlikte kullanılacak parametrenin adı geleneksel olarak, ‘argümanlar’ anlamında ‘args’tır. Yani Python programcıları genellikle yukarıdaki gibi bir fonksiyonu şöyle tanımlar:\n",
    "\n"
   ]
  },
  {
   "cell_type": "code",
   "execution_count": null,
   "id": "3f8d7fdc-403f-44e6-9e45-524357b3700e",
   "metadata": {},
   "outputs": [],
   "source": [
    "def fonksiyon(*args):\n",
    "    ..."
   ]
  },
  {
   "cell_type": "markdown",
   "id": "ce69f8c0-d0cf-4ca3-98c0-e6e921571f2f",
   "metadata": {},
   "source": [
    "* işareti ile birlikte kullanılacak parametrenin adını ‘args’ yapmak bir zorunluluk olmamakla birlikte, başka Python programcılarının kodlarınızı daha kolay anlayabilmesi açısından bu geleneği devam ettirmenizi tavsiye ederim. Yazdığımız kodlarda Python programlama dilinin geleneklerine bağlı kalmak çoğunlukla iyi bir alışkanlıktır.\n",
    "\n",
    "++++++++++Rastgele Sayıda İsimli Parametre Belirleme\n",
    "\n",
    "Bir önceki başlık altında, fonksiyon tanımlarken rastgele sayıda isimsiz parametrelerin nasıl belirleneceğini tartıştık. Aynı bu şekilde, rastgele sayıda isimli parametre belirlemek de mümkündür.\n",
    "\n",
    "Örneğin:"
   ]
  },
  {
   "cell_type": "code",
   "execution_count": null,
   "id": "eca055d1-0a35-45b4-9699-db8b268a0252",
   "metadata": {},
   "outputs": [],
   "source": [
    "def fonksiyon(**parametreler):\n",
    "    print(parametreler)\n",
    "\n",
    "fonksiyon(isim=\"Ahmet\", soyisim=\"Öz\", meslek=\"Mühendis\", şehir=\"Ankara\")"
   ]
  },
  {
   "cell_type": "markdown",
   "id": "e65bcbd8-a771-4aa2-9eaa-18346a3d6305",
   "metadata": {},
   "source": [
    "Bu kodları çalıştırdığımızda şöyle bir çıktı alıyoruz:"
   ]
  },
  {
   "cell_type": "code",
   "execution_count": null,
   "id": "f3ef53de-6023-4b3e-a030-3b9ec5df418d",
   "metadata": {},
   "outputs": [],
   "source": [
    "{'isim': 'Ahmet', 'soyisim': 'Öz', 'meslek': 'Mühendis', 'şehir': 'Ankara'}"
   ]
  },
  {
   "cell_type": "code",
   "execution_count": null,
   "id": "74ef8460-a50c-4262-abf8-f7926c92b2ef",
   "metadata": {},
   "outputs": [],
   "source": [
    "def kayıt_oluştur(isim, soyisim, işsis, şehir):\n",
    "    print(\"-\"*30)\n",
    "\n",
    "    print(\"isim           : \", isim)\n",
    "    print(\"soyisim        : \", soyisim)\n",
    "    print(\"işletim sistemi: \", işsis)\n",
    "    print(\"şehir          : \", şehir)\n",
    "\n",
    "    print(\"-\"*30)"
   ]
  },
  {
   "cell_type": "markdown",
   "id": "40b08fff-0ebc-45f6-bd77-4021f553d993",
   "metadata": {},
   "source": [
    "Bu fonksiyon bize toplam dört adet parametre kullanarak, isim, soyisim, işletim sistemi ve şehir bilgilerinden meydana gelen bir kayıt oluşturma imkanı sağlıyor. Bu fonksiyonda kullanıcının girebileceği bilgiler sınırlı. Ama bir de şöyle bir fonksiyon yazdığımızı düşünün:"
   ]
  },
  {
   "cell_type": "code",
   "execution_count": null,
   "id": "f390c4f0-542c-4740-a0ea-9488254337e8",
   "metadata": {},
   "outputs": [],
   "source": [
    "def kayıt_oluştur(**bilgiler):\n",
    "    print(\"-\"*30)\n",
    "\n",
    "    for anahtar, değer in bilgiler.items():\n",
    "        print(\"{:<10}: {}\".format(anahtar, değer))\n",
    "\n",
    "    print(\"-\"*30)\n",
    "\n",
    "kayıt_oluştur(ad=\"Fırat\", soyad=\"Özgül\", şehir=\"İstanbul\", tel=\"05333213232\")"
   ]
  },
  {
   "cell_type": "markdown",
   "id": "1077f42e-00d9-44cc-bc46-736b394e1a63",
   "metadata": {},
   "source": [
    "Bu fonksiyonu çalıştırdığımızda şu çıktıyı alacağız:\n",
    "\n"
   ]
  },
  {
   "cell_type": "code",
   "execution_count": null,
   "id": "1bd48007-923d-43d9-acee-298f46df6e46",
   "metadata": {},
   "outputs": [],
   "source": [
    "tel       : 05333213232\n",
    "ad        : Fırat\n",
    "şehir     : İstanbul\n",
    "soyad     : Özgül"
   ]
  },
  {
   "cell_type": "markdown",
   "id": "ddb797cf-75e2-4830-9b42-050a360b178a",
   "metadata": {},
   "source": [
    "Gördüğünüz gibi, ** işaretlerini kullanmamız sayesinde hem adlarını hem de değerlerini kendimiz belirlediğimiz bir kişi veritabanı oluşturma imkanı elde ediyoruz. Üstelik bu veritabanının, kişiye ait kaç farklı bilgi içereceğini de tamamen kendimiz belirleyebiliyoruz.\n",
    "\n",
    "Tıpkı * işaretlerinin betimlediği parametrenin geleneksel olarak ‘args’ şeklinde adlandırılması gibi, ** işaretlerinin betimlediği parametre de geleneksel olarak ‘kwargs’ şeklinde adlandırılır. Dolayısıyla yukarıdaki gibi bir fonksiyonu Python programcıları şöyle tanımlar:\n",
    "\n"
   ]
  },
  {
   "cell_type": "code",
   "execution_count": null,
   "id": "204e18b1-75ea-4b28-b6c4-6848ace9e9ba",
   "metadata": {},
   "outputs": [],
   "source": [
    "def kayıt_oluştur(**kwargs):\n",
    "    ..."
   ]
  },
  {
   "cell_type": "markdown",
   "id": "a8e2d11b-fc6e-440b-9069-ec00ec6a483c",
   "metadata": {},
   "source": [
    "** işaretli parametreler pek çok farklı durumda işinize yarayabilir veya işinizi kolaylaştırabilir. Mesela * ve ** işaretlerini kullanarak şöyle bir program yazabilirsiniz:\n",
    "\n"
   ]
  },
  {
   "cell_type": "code",
   "execution_count": null,
   "id": "5f35931f-e859-464f-ad47-443089f589cf",
   "metadata": {},
   "outputs": [],
   "source": [
    "def karşılık_bul(*args, **kwargs):\n",
    "    for sözcük in args:\n",
    "        if sözcük in kwargs:\n",
    "            print(\"{} = {}\".format(sözcük, kwargs[sözcük]))\n",
    "        else:\n",
    "            print(\"{} kelimesi sözlükte yok!\".format(sözcük))\n",
    "\n",
    "\n",
    "sözlük = {\"kitap\"      : \"book\",\n",
    "          \"bilgisayar\" : \"computer\",\n",
    "          \"programlama\": \"programming\"}\n",
    "\n",
    "karşılık_bul(\"kitap\", \"bilgisayar\", \"programlama\", \"fonksiyon\", **sözlük)\n"
   ]
  },
  {
   "cell_type": "markdown",
   "id": "ccbdcba5-b5d1-4044-8593-a8d707f1c0c4",
   "metadata": {},
   "source": [
    "Burada tanımladığımız karşılık_bul() adlı fonksiyon, kendisine verilen parametreleri (*args), bir sözlük içinde arayarak (**sözlük) karşılıklarını bize çıktı olarak veriyor. Eğer verilen parametre sözlükte yoksa, ilgili kelimenin sözlükte bulunmadığı konusunda da bizi bilgilendiriyor.\n",
    "\n",
    "karşılık_bul() adlı fonksiyonu nasıl tanımladığımıza çok dikkat edin. Parametre listesi içinde belirttiğimiz *args ifadesi sayesinde, fonksiyonu kullanacak kişiye, istediği sayıda isimsiz parametre girme imkanı tanıyoruz. **kwargs parametresi ise kullanıcıya istediği sayıda isimli parametre girme olanağı veriyor.\n",
    "\n",
    "Esasında yukarıdaki kod *args ve **kwargs yapıları açısından ucuz bir örnektir. Bu yapılar için daha nitelikli bir örnek verelim…\n",
    "\n",
    "Bildiğiniz gibi print() fonksiyonu sınırsız sayıda isimsiz parametre ve buna ek olarak birkaç tane de isimli parametre alıyor. Bu fonksiyonun alabildiği isimli parametrelerin sep, end, file ve flush adlı parametreler olduğunu biliyorsunuz. Yine bildiğiniz gibi, sep parametresi print() fonksiyonuna verilen isimsiz parametrelerin her birinin arasına hangi karakterin geleceğini; end parametresi ise bu parametrelerin en sonuna hangi karakterin geleceğini belirliyor. Bizim amacımız bu fonksiyona bir de start adında isimli bir parametre ekleyerek print() fonksiyonunun işlevini genişleten başka bir fonksiyon yazmak. Bu yeni parametre, karakter dizilerinin en başına hangi karakterin geleceğini belirleyecek.\n",
    "\n",
    "Şimdi bu amacımızı gerçekleştirecek kodlarımızı yazalım:"
   ]
  },
  {
   "cell_type": "code",
   "execution_count": null,
   "id": "04d3d7c5-b303-463a-b4f9-cd83122e2a01",
   "metadata": {},
   "outputs": [],
   "source": [
    "def bas(*args, start='', **kwargs):\n",
    "    for öğe in args:\n",
    "        print(start+öğe, **kwargs)\n",
    "\n",
    "bas('öğe1', 'öğe2', 'öğe3', start=\"#.\")"
   ]
  },
  {
   "cell_type": "markdown",
   "id": "4baa7c25-338d-4588-bf81-30ec0521814b",
   "metadata": {},
   "source": [
    "print() fonksiyonunun işlevini genişleten yeni fonksiyonumuzun adı bas(). Bu fonksiyon her bakımdan print() fonksiyonu ile aynı işlevi görecek. Ancak bas() fonksiyonu, print() fonksiyonuna ek olarak, sahip olduğu start adlı bir isimli parametre sayesinde, kendisine verilen parametrelerin en başına istediğimiz herhangi bir karakteri ekleme olanağı da verecek bize.\n",
    "\n",
    "bas() fonksiyonunun ilk parametresi olan *args sayesinde kullanıcıya istediği kadar parametre verme imkanı tanıyoruz. Daha sonra da ilave start parametresini tanımlıyoruz. Bu parametrenin öntanımlı değeri boş bir karakter dizisi. Yani eğer kullanıcı bu parametrenin değerine herhangi bir şey yazmazsa, *args kapsamında verilen parametreler üzerinde hiçbir değişiklik yapmıyoruz. Bunun ardından gelen **kwargs parametresi ise print() fonksiyonunun halihazırda sahip olduğu sep, end, file ve flush parametrelerinin bas() fonksiyonunda da aynı şekilde kullanılmasını sağlıyor. **kwargs şeklinde bir tanımlama sayesinde, print() fonksiyonunun isimli parametrelerini tek tek belirtip tanımlamak zorunda kalmıyoruz:"
   ]
  },
  {
   "cell_type": "code",
   "execution_count": null,
   "id": "d5f9a92b-3688-4143-83a9-a747447a12a4",
   "metadata": {},
   "outputs": [],
   "source": [
    "def bas(*args, start='', **kwargs):\n",
    "    for öğe in args:\n",
    "        print(start+öğe, **kwargs)\n",
    "\n",
    "f = open(\"te.txt\", \"w\")\n",
    "\n",
    "bas('öğe1', 'öğe2', 'öğe3', start=\"#.\", end=\"\", file=f)"
   ]
  },
  {
   "cell_type": "markdown",
   "id": "d39c7620-933f-4548-824a-cdfae29472f0",
   "metadata": {},
   "source": [
    "Eğer elimizde **kwargs gibi bir imkan olmasaydı yukarıdaki fonksiyonu şu şekilde tanımlamamız gerekirdi:"
   ]
  },
  {
   "cell_type": "code",
   "execution_count": null,
   "id": "7ff34859-8ffe-4756-91e0-1a897f52299e",
   "metadata": {},
   "outputs": [],
   "source": [
    "import sys\n",
    "\n",
    "def bas(*args, start='', sep=' ', end='\\n', file=sys.stdout, flush=False):\n",
    "    for öğe in args:\n",
    "        print(start+öğe, sep=sep, end=end, file=file, flush=flush)"
   ]
  },
  {
   "cell_type": "markdown",
   "id": "70a0098f-5e24-4e38-adca-6a2b4cf180e0",
   "metadata": {},
   "source": [
    "Gördüğünüz gibi, print() fonksiyonunun bütün isimli parametrelerini ve bunların öntanımlı değerlerini tanımlamak zorunda kaldık. Eğer günün birinde Python geliştiricileri print() fonksiyonuna bir başka isimli parametre daha eklerse, yukarıdaki fonksiyonu ilgili yeniliğe göre elden geçirmemiz gerekir. Ama **kwargs yapısını kullandığımızda, print() fonksiyonuna Python geliştiricilerince eklenecek bütün parametreler bizim fonksiyonumuza da otomatik olarak yansıyacaktır…\n",
    "\n",
    "+++++++++++return Deyimi\n",
    "\n",
    "Bu bölümde return adlı bir deyimden söz edeceğiz. Özellikle Python programlama dilini öğrenmeye yeni başlayanlar bu deyimin ne işe yaradığını anlamakta zorlanabiliyor. Biz burada bu deyimi anlaşılır hale getirebilmek için elimizden geleni yapacağız. Öncelikle çok basit bir örnek verelim:\n",
    "\n"
   ]
  },
  {
   "cell_type": "code",
   "execution_count": null,
   "id": "aa3c3e9d-754c-4461-a5bc-6a2166871dcf",
   "metadata": {},
   "outputs": [],
   "source": [
    "def ismin_ne():\n",
    "    isim = input(\"ismin ne? \")\n",
    "    print(isim)"
   ]
  },
  {
   "cell_type": "markdown",
   "id": "01eaf355-3d60-4f5c-a38c-c3fa9b368204",
   "metadata": {},
   "source": [
    "Bu çok basit bir fonksiyon. Bu fonksiyonu nasıl çağıracağımızı biliyoruz:\n",
    "\n"
   ]
  },
  {
   "cell_type": "code",
   "execution_count": null,
   "id": "fdde24bc-766b-4c35-941a-1454e77d33e0",
   "metadata": {},
   "outputs": [],
   "source": [
    "ismin_ne()"
   ]
  },
  {
   "cell_type": "markdown",
   "id": "5a010b8a-eca2-41b7-90eb-258d7674d765",
   "metadata": {},
   "source": [
    "Fonksiyonu bu şekilde çağırdıktan sonra, fonksiyon tanımında yer alan input() fonksiyonu sayesinde kullanıcıya ismi sorulacak ve verdiği cevap ekrana basılacaktır.\n",
    "\n",
    "Yukarıdaki fonksiyonun tek işlevi kullanıcıdan aldığı isim bilgisini ekrana basmaktır. Aldığınız bu veriyi başka yerlerde kullanamazsınız. Bu fonksiyonu çağırdığınız anda kullanıcıya ismi sorulacak ve alınan cevap ekrana basılacaktır. Ancak siz, tanımladığınız fonksiyonların tek görevinin bir veriyi ekrana basmak olmasını istemeyebilirsiniz.\n",
    "\n",
    "Örneğin yukarıdaki fonksiyon yardımıyla kullanıcıdan ismini aldıktan sonra, bu isim bilgisini başka bir karakter dizisi içinde kullanmak isteyebilirsiniz. Diyelim ki amacınız ismin_ne() fonksiyonuyla aldığınız ismi şu karakter dizisi içine aşağıdaki şekilde yerleştirmek:\n",
    "\n"
   ]
  },
  {
   "cell_type": "raw",
   "id": "c6b3ae8d-cca6-4e76-abf4-8c1fc8b15329",
   "metadata": {},
   "source": [
    "Merhaba Fırat. Nasılsın?"
   ]
  },
  {
   "cell_type": "markdown",
   "id": "9a05d56c-c3bb-4874-9843-79223605e4de",
   "metadata": {},
   "source": [
    "Bildiğimiz yöntemi kullanarak bu amacımızı gerçekleştirmeye çalışalım:"
   ]
  },
  {
   "cell_type": "code",
   "execution_count": null,
   "id": "c6f0fe08-91ce-4d4a-8232-c7a3e04964fc",
   "metadata": {},
   "outputs": [],
   "source": [
    "print(\"Merhaba {}. Nasılsın?\".format(ismin_ne()))"
   ]
  },
  {
   "cell_type": "markdown",
   "id": "7c650e9d-a32d-43c2-9de5-0a83e242374e",
   "metadata": {},
   "source": [
    "Buradan şöyle bir çıktı alıyoruz:"
   ]
  },
  {
   "cell_type": "raw",
   "id": "cf9dace2-6dba-4058-8eaa-79ead08bf51e",
   "metadata": {},
   "source": [
    "ismin ne? Fırat\n",
    "Fırat\n",
    "Merhaba None. Nasılsın?"
   ]
  },
  {
   "cell_type": "markdown",
   "id": "2fb54750-ca52-48f7-bbbc-7668957e4fa2",
   "metadata": {},
   "source": [
    "Gördüğünüz gibi, istediğimiz şeyi elde edemiyoruz. Çünkü dediğimiz gibi, yukarıdaki fonksiyonun tek görevi kullanıcıdan aldığı çıktıyı ekrana basmaktır. Bu fonksiyondan gelen çıktıyı başka yerde kullanamayız. Eğer kullanmaya çalışırsak yukarıdaki gibi hiç beklemediğimiz bir sonuç alırız.\n",
    "\n",
    "Bu arada, çıktıda None diye bir şey gördüğünüze dikkat edin. Yukarıdaki fonksiyonu şu şekilde çağırarak bunu daha net görebilirsiniz:"
   ]
  },
  {
   "cell_type": "code",
   "execution_count": null,
   "id": "c5159686-79e2-4d4b-98f3-042dbb046ad9",
   "metadata": {},
   "outputs": [],
   "source": [
    "print(ismin_ne())"
   ]
  },
  {
   "cell_type": "markdown",
   "id": "40540ee6-8252-453f-91ff-e7f2835b6fb5",
   "metadata": {},
   "source": [
    "Buradan şu çıktıyı alıyoruz:"
   ]
  },
  {
   "cell_type": "raw",
   "id": "6f84133e-393a-49ef-a976-2f9b93bc2d20",
   "metadata": {},
   "source": [
    "ismin ne? Fırat\n",
    "Fırat\n",
    "None\n"
   ]
  },
  {
   "cell_type": "markdown",
   "id": "625ca77d-d6b0-447e-91ef-fee4e340ae9c",
   "metadata": {},
   "source": [
    "Bu çıktının ne anlama geldiğini birazdan açıklayacağız. Ama öncelikle başka bir konudan söz edelim.\n",
    "\n",
    "Biraz önce söylediğimiz gibi, yukarıda tanımladığımız ismin_ne() adlı fonksiyonun tek görevi kullanıcıdan aldığı isim bilgisini ekrana basmaktır. Şimdi bu fonksiyonu bir de şöyle tanımlayalım:"
   ]
  },
  {
   "cell_type": "code",
   "execution_count": null,
   "id": "ec947f2d-2209-4299-ae1d-26203e5d6de2",
   "metadata": {},
   "outputs": [],
   "source": [
    "def ismin_ne():\n",
    "    isim = input(\"ismin ne? \")\n",
    "    return isim"
   ]
  },
  {
   "cell_type": "markdown",
   "id": "615face4-18ef-4271-8594-ccc6fb334433",
   "metadata": {},
   "source": [
    "Şimdi de bu fonksiyonu çağıralım:\n",
    "\n"
   ]
  },
  {
   "cell_type": "markdown",
   "id": "74ccbc45-e999-4f27-99ea-8b23b4e203fb",
   "metadata": {},
   "source": [
    "Gördüğünüz gibi, fonksiyonu çağırdığımızda yalnızca fonksiyon gövdesindeki input() fonksiyonu çalıştı, ama bu fonksiyondan gelen veri ekrana çıktı olarak verilmedi. Çünkü biz burada herhangi bir ekrana basma (‘print’) işlemi yapmadık. Yaptığımız tek şey isim adlı değişkeni ‘döndürmek’.\n",
    "\n",
    "Peki bu ne anlama geliyor?\n",
    "\n",
    "return kelimesi İngilizcede ‘iade etmek, geri vermek, döndürmek’ gibi anlamlar taşır. İşte yukarıdaki örnekte de return deyiminin yaptığı iş budur. Yani bu deyim bize fonksiyondan bir değer ‘döndürür’.\n",
    "\n",
    "Eğer tanımladığımız bir fonksiyonda return deyimini kullanarak herhangi bir değer döndürmezsek, Python fonksiyondan hususi bir değerin döndürülmediğini göstermek için ‘None’ adlı bir değer döndürür… İşte yukarıda tanımladığımız ilk ismin_ne() fonksiyonunu print(ismin_ne()) şeklinde çağırdığımızda ekranda None değerinin görünmesinin nedeni budur.\n",
    "\n",
    "Peki bir fonksiyon içinde herhangi bir veriyi ekrana basmayıp return deyimi yardımıyla döndürmemizin bize ne faydası var?\n",
    "\n",
    "Aslında bunun cevabı çok açık. Bir fonksiyon içinde bir değeri döndürmek yerine ekrana bastığınızda o fonksiyonun işlevini alabildiğine kısıtlamış oluyorsunuz. Fonksiyonunuzun tek işlevi bir değeri ekrana basmak oluyor. Şu örnekte de gösterdiğimiz gibi, bu değeri daha sonra başka ortamlarda kullanamıyoruz:"
   ]
  },
  {
   "cell_type": "code",
   "execution_count": null,
   "id": "687c513e-9f85-4b1b-8c1d-2f184ca0c8ad",
   "metadata": {},
   "outputs": [],
   "source": [
    "def ismin_ne():\n",
    "    isim = input(\"ismin ne? \")\n",
    "    print(isim)\n",
    "\n",
    "print(\"Merhaba {}. Nasılsın?\".format(ismin_ne()))"
   ]
  },
  {
   "cell_type": "markdown",
   "id": "67948f1d-fe62-48f4-ae47-c86789af0b89",
   "metadata": {},
   "source": [
    "Ama eğer, mesela yukarıdaki fonksiyonda isim değişkenini basmak yerine döndürürsek işler değişir:\n",
    "\n"
   ]
  },
  {
   "cell_type": "code",
   "execution_count": null,
   "id": "6737a6f0-0a45-471e-a32d-8944e98663d5",
   "metadata": {},
   "outputs": [],
   "source": [
    "def ismin_ne():\n",
    "    isim = input(\"ismin ne? \")\n",
    "    return isim\n",
    "\n",
    "print(\"Merhaba {}. Nasılsın?\".format(ismin_ne()))"
   ]
  },
  {
   "cell_type": "markdown",
   "id": "4a094f7e-430c-4ac4-95f5-51c83ca63e47",
   "metadata": {},
   "source": [
    "Bu kodları çalıştırdığımızda şu çıktıyı alıyoruz:"
   ]
  },
  {
   "cell_type": "raw",
   "id": "9b298db1-cc0f-49fd-a343-4e8533a5a592",
   "metadata": {},
   "source": [
    ".. code-block:: pycon"
   ]
  },
  {
   "cell_type": "markdown",
   "id": "5f2e3a03-5e6a-4654-b044-93e4d1949248",
   "metadata": {},
   "source": [
    "ismin ne? Fırat Merhaba Fırat. Nasılsın?\n",
    "\n",
    "Gördüğünüz gibi, istediğimiz çıktıyı rahatlıkla elde ettik. ismin_ne() adlı fonksiyondan isim değerini döndürmüş olmamız sayesinde bu değerle istediğimiz işlemi gerçekleştirebiliyoruz. Yani bu değeri sadece ekrana basmakla sınırlamıyoruz kendimizi. Hatta fonksiyondan döndürdüğümüz değeri başka bir değişkene atama imkanına dahi sahibiz bu şekilde:"
   ]
  },
  {
   "cell_type": "code",
   "execution_count": null,
   "id": "f9d3e250-3adc-4474-8d92-a934eeebed5f",
   "metadata": {},
   "outputs": [],
   "source": [
    "ad = ismin_ne()\n",
    "print(ad)"
   ]
  },
  {
   "cell_type": "markdown",
   "id": "219502ee-7182-43fa-9e81-25d0eb179e68",
   "metadata": {},
   "source": [
    "Eğer fonksiyondan değer döndürmek yerine bu değeri ekrana basmayı tercih etseydik yukarıdaki işlemi yapamazdık.\n",
    "\n",
    "return deyimiyle ilgili son bir şey daha söyleyelim…\n",
    "\n",
    "Bu deyim, içinde bulunduğu fonksiyonun çalışma sürecini kesintiye uğratır. Yani return deyimini kullandığınız satırdan sonra gelen hiçbir kod çalışmaz. Basit bir örnek verelim:\n",
    "\n"
   ]
  },
  {
   "cell_type": "code",
   "execution_count": null,
   "id": "0b0740f9-ad4a-431e-8f9d-e5cf0bbe9f28",
   "metadata": {},
   "outputs": [],
   "source": [
    "def fonk():\n",
    "    print(3)\n",
    "    return\n",
    "    print(5)\n",
    "\n",
    "fonk()"
   ]
  },
  {
   "cell_type": "markdown",
   "id": "b358e04e-6a05-4c0a-aeb4-38fe17edaab5",
   "metadata": {},
   "source": [
    "Bu kodları çalıştırdığınızda yalnızca print(3) satırının çalıştığını, print(5) satırına ise hiç ulaşılmadığını göreceksiniz. İşte bu durumun sebebi, Python’ın kodları return satırından itibaren okumayı bırakmasıdır. Bu özellikten çeşitli şekillerde yararlanabilirsiniz. Örneğin:"
   ]
  },
  {
   "cell_type": "code",
   "execution_count": null,
   "id": "0b4e6212-3885-4ce4-a4bc-6ebee8e5ccfb",
   "metadata": {},
   "outputs": [],
   "source": [
    "def fonk(n):\n",
    "    if n < 0:\n",
    "        return 'eksi değerli sayı olmaz!'\n",
    "    else:\n",
    "        return n\n",
    "\n",
    "f = fonk(-5)\n",
    "print(f)"
   ]
  },
  {
   "cell_type": "markdown",
   "id": "9fee68a0-0d41-44e4-96d4-be58005279af",
   "metadata": {},
   "source": [
    "Burada eğer fonksiyona parametre olarak eksi değerli bir sayı verilirse Python bize bir uyarı verecek ve fonksiyonun çalışmasını durduracaktır.\n",
    "\n"
   ]
  },
  {
   "cell_type": "markdown",
   "id": "e579792a-3dc7-4128-8073-b83f4ed465ea",
   "metadata": {},
   "source": [
    "+++++++++++Örnek bir Uygulama\n",
    "\n",
    "\n",
    "Gelin isterseniz buraya kadar öğrendiklerimizi kullanarak örnek bir uygulama yazalım. Bir yandan da yeni şeyler öğrenerek bilgimize bilgi katalım.\n",
    "\n",
    "Amacımız belli miktarda ve belli aralıkta rastgele sayılar üreten bir program yazmak. Örneğin programımız şu şekilde altı adet rastgele sayı üretebilecek:\n",
    "\n"
   ]
  },
  {
   "cell_type": "raw",
   "id": "d415f0e7-2e96-4e24-bf38-49ee1a9e4c88",
   "metadata": {},
   "source": [
    "103, 298, 152, 24, 91, 285"
   ]
  },
  {
   "cell_type": "markdown",
   "id": "30215a79-3e63-444b-9dc1-db5a42d42cda",
   "metadata": {},
   "source": [
    "Ancak programımız bu sayıları üretirken her sayıdan yalnızca bir adet üretecek. Yani aynı seride bir sayıdan birden fazla bulunamayacak.\n",
    "\n",
    "Dilerseniz öncelikle kodlarımızı görelim:"
   ]
  },
  {
   "cell_type": "code",
   "execution_count": null,
   "id": "fe9a787b-29ee-49c1-8843-36201205d7d5",
   "metadata": {},
   "outputs": [],
   "source": [
    "import random\n",
    "\n",
    "def sayı_üret(başlangıç=0, bitiş=500, adet=6):\n",
    "    sayılar = set()\n",
    "\n",
    "    while len(sayılar) < adet:\n",
    "        sayılar.add(random.randrange(başlangıç, bitiş))\n",
    "\n",
    "    return sayılar"
   ]
  },
  {
   "cell_type": "markdown",
   "id": "03e77e94-7f04-4009-8412-cefe365431c4",
   "metadata": {},
   "source": [
    "Esasında bu kodların (neredeyse) tamamını anlayabilecek kadar Python bilgisine sahipsiniz. Burada anlamamış olabileceğiniz tek şey random modülüdür. O yüzden gelin isterseniz bu modülden biraz söz edelim.\n",
    "\n",
    "Biz henüz modül kavramını bilmiyoruz. Ama buraya gelene kadar birkaç konu altında modüllerle ilgili bazı örnekler de yapmadık değil. Örneğin şimdiye kadar yazdığımız programlardan öğrendiğimiz kadarıyla Python’da os ve sys adlı iki modülün bulunduğunu, bu modüllerin içinde, program yazarken işimize yarayacak pek çok değişken ve fonksiyon bulunduğunu ve bu fonksiyonları programlarımızda kullanabilmek için ilkin bu modülleri içe aktarmamız gerektiğini biliyoruz. İşte tıpkı os ve sys gibi, random da Python programlama dili bünyesinde bulunan modüllerden biridir. Bu modülün içinde, rastgele sayılar üretmemizi sağlayacak bazı fonksiyonlar bulunur. İşte randrange() de bu fonksiyonlardan biridir. Dilerseniz bu fonksiyonun nasıl kullanıldığını anlamak için etkileşimli kabukta birkaç deneme çalışması yapalım.\n",
    "\n",
    "random modülünün içindeki araçları kullanabilmek için öncelikle bu modülü içe aktarmalıyız:\n",
    "\n"
   ]
  },
  {
   "cell_type": "code",
   "execution_count": 9,
   "id": "b68f4f16-11a6-4723-b998-eeee850801d9",
   "metadata": {},
   "outputs": [],
   "source": [
    "import random"
   ]
  },
  {
   "cell_type": "markdown",
   "id": "cb8d1c32-e06e-4f31-bf6e-66022b02413d",
   "metadata": {},
   "source": [
    "Acaba bu modülün içinde neler varmış?"
   ]
  },
  {
   "cell_type": "code",
   "execution_count": 10,
   "id": "ea86f9df-54ae-4a9f-a2bf-36838c111936",
   "metadata": {},
   "outputs": [
    {
     "data": {
      "text/plain": [
       "['BPF',\n",
       " 'LOG4',\n",
       " 'NV_MAGICCONST',\n",
       " 'RECIP_BPF',\n",
       " 'Random',\n",
       " 'SG_MAGICCONST',\n",
       " 'SystemRandom',\n",
       " 'TWOPI',\n",
       " '_ONE',\n",
       " '_Sequence',\n",
       " '_Set',\n",
       " '__all__',\n",
       " '__builtins__',\n",
       " '__cached__',\n",
       " '__doc__',\n",
       " '__file__',\n",
       " '__loader__',\n",
       " '__name__',\n",
       " '__package__',\n",
       " '__spec__',\n",
       " '_accumulate',\n",
       " '_acos',\n",
       " '_bisect',\n",
       " '_ceil',\n",
       " '_cos',\n",
       " '_e',\n",
       " '_exp',\n",
       " '_floor',\n",
       " '_index',\n",
       " '_inst',\n",
       " '_isfinite',\n",
       " '_log',\n",
       " '_os',\n",
       " '_pi',\n",
       " '_random',\n",
       " '_repeat',\n",
       " '_sha512',\n",
       " '_sin',\n",
       " '_sqrt',\n",
       " '_test',\n",
       " '_test_generator',\n",
       " '_urandom',\n",
       " '_warn',\n",
       " 'betavariate',\n",
       " 'choice',\n",
       " 'choices',\n",
       " 'expovariate',\n",
       " 'gammavariate',\n",
       " 'gauss',\n",
       " 'getrandbits',\n",
       " 'getstate',\n",
       " 'lognormvariate',\n",
       " 'normalvariate',\n",
       " 'paretovariate',\n",
       " 'randbytes',\n",
       " 'randint',\n",
       " 'random',\n",
       " 'randrange',\n",
       " 'sample',\n",
       " 'seed',\n",
       " 'setstate',\n",
       " 'shuffle',\n",
       " 'triangular',\n",
       " 'uniform',\n",
       " 'vonmisesvariate',\n",
       " 'weibullvariate']"
      ]
     },
     "execution_count": 10,
     "metadata": {},
     "output_type": "execute_result"
    }
   ],
   "source": [
    "dir(random)"
   ]
  },
  {
   "cell_type": "markdown",
   "id": "f478baec-bfe7-45e1-9ecd-533ebf19812a",
   "metadata": {},
   "source": [
    "Gördüğünüz gibi bu modülün içinde epey araç var. Gelin isterseniz bu araçlardan en sık kullanılanlarını tanıyalım.\n",
    "\n",
    "Örneğin random modülü içinde bulunan sample() adlı fonksiyon herhangi bir dizi içinden istediğimiz sayıda rastgele numune almamızı sağlar:\n",
    "\n"
   ]
  },
  {
   "cell_type": "code",
   "execution_count": 11,
   "id": "a9735885-b837-4f7b-93e3-8fd89b1699bc",
   "metadata": {},
   "outputs": [
    {
     "data": {
      "text/plain": [
       "['zeynep', 'sevim']"
      ]
     },
     "execution_count": 11,
     "metadata": {},
     "output_type": "execute_result"
    }
   ],
   "source": [
    "liste = [\"ahmet\", \"mehmet\", \"sevgi\", \"sevim\", \"selin\", \"zeynep\", \"selim\"]\n",
    "random.sample(liste, 2)\n"
   ]
  },
  {
   "cell_type": "markdown",
   "id": "79de8d98-9633-43ce-a0b7-a44a50b46692",
   "metadata": {},
   "source": [
    "Gördüğünüz gibi, yedi kişilik bir isim listesinden 2 adet rastgele numune aldık. Aynı işlemi tekrarlayalım:"
   ]
  },
  {
   "cell_type": "code",
   "execution_count": 12,
   "id": "f84a2d92-53f7-4770-9050-effeb647fffe",
   "metadata": {},
   "outputs": [
    {
     "data": {
      "text/plain": [
       "['ahmet', 'selim']"
      ]
     },
     "execution_count": 12,
     "metadata": {},
     "output_type": "execute_result"
    }
   ],
   "source": [
    "random.sample(liste, 2)"
   ]
  },
  {
   "cell_type": "code",
   "execution_count": 13,
   "id": "54c5f408-1763-4957-a024-9c7483b895a0",
   "metadata": {},
   "outputs": [
    {
     "data": {
      "text/plain": [
       "['ahmet', 'sevim', 'selin', 'zeynep', 'sevgi']"
      ]
     },
     "execution_count": 13,
     "metadata": {},
     "output_type": "execute_result"
    }
   ],
   "source": [
    "random.sample(liste, 5)\n"
   ]
  },
  {
   "cell_type": "markdown",
   "id": "56dc648e-80ee-4375-9435-360d8f02e55b",
   "metadata": {},
   "source": [
    "Numune alma işlemi tamamen rastgeledir. Ayrıca gördüğünüz gibi, listeden istediğimiz sayıda numune alabiliyoruz.\n",
    "\n",
    "random modülü içinde bulunan shuffle() adlı başka bir fonksiyon, bir dizi içindeki öğelerin sırasını rastgele bir şekilde karıştırmamızı sağlar:"
   ]
  },
  {
   "cell_type": "code",
   "execution_count": 14,
   "id": "a781e9a5-5fc5-4cd6-a781-5ba0a1f821a0",
   "metadata": {},
   "outputs": [],
   "source": [
    "liste = [\"ahmet\", \"mehmet\", \"sevgi\", \"sevim\",\n",
    "\"selin\", \"zeynep\", \"selim\"]\n",
    "random.shuffle(liste)"
   ]
  },
  {
   "cell_type": "markdown",
   "id": "7522e568-2702-4562-8216-10e858c806ed",
   "metadata": {},
   "source": [
    "shuffle() fonksiyonu liste öğelerini yine aynı liste içinde değiştirdi. Değişikliği görmek için listeyi ekrana basabilirsiniz:"
   ]
  },
  {
   "cell_type": "code",
   "execution_count": 15,
   "id": "5ddea5b0-0cf0-4fd3-8c0d-d282f24ded7e",
   "metadata": {},
   "outputs": [
    {
     "data": {
      "text/plain": [
       "['zeynep', 'mehmet', 'sevim', 'ahmet', 'selin', 'selim', 'sevgi']"
      ]
     },
     "execution_count": 15,
     "metadata": {},
     "output_type": "execute_result"
    }
   ],
   "source": [
    "liste"
   ]
  },
  {
   "cell_type": "markdown",
   "id": "d11879f1-04f1-4216-af0b-57b7344a95db",
   "metadata": {},
   "source": [
    "random modülü içinde bulunan bir başka fonksiyon ise randrange() fonksiyonudur. Bu fonksiyon, belli bir aralıkta rastgele sayılar üretmemizi sağlar:\n",
    "\n"
   ]
  },
  {
   "cell_type": "code",
   "execution_count": 16,
   "id": "9a768f87-a988-4a3b-9cb0-5f559cdd4308",
   "metadata": {},
   "outputs": [
    {
     "data": {
      "text/plain": [
       "170"
      ]
     },
     "execution_count": 16,
     "metadata": {},
     "output_type": "execute_result"
    }
   ],
   "source": [
    "random.randrange(0, 500)"
   ]
  },
  {
   "cell_type": "markdown",
   "id": "d9c813b0-fcfd-41aa-8dc6-b900477e217a",
   "metadata": {},
   "source": [
    "Burada 0 ile 500 arasında rastgele bir sayı ürettik.\n",
    "\n",
    "Gördüğünüz gibi random son derece faydalı olabilecek bir modüldür. Dilerseniz şimdi random modülünü bir kenara bırakıp kodlarımıza geri dönelim:\n",
    "\n"
   ]
  },
  {
   "cell_type": "code",
   "execution_count": 17,
   "id": "802f9973-e966-4286-baf4-27581846629b",
   "metadata": {},
   "outputs": [],
   "source": [
    "import random\n",
    "\n",
    "def sayı_üret(başlangıç=0, bitiş=500, adet=6):\n",
    "    sayılar = set()\n",
    "\n",
    "    while len(sayılar) < adet:\n",
    "        sayılar.add(random.randrange(başlangıç, bitiş))\n",
    "\n",
    "    return sayılar"
   ]
  },
  {
   "cell_type": "markdown",
   "id": "e4b352d5-db51-498a-a779-63f432f8df1e",
   "metadata": {},
   "source": [
    "Burada ilk satırın ne iş yaptığını öğrendik. Bu satır yardımıyla random modülünü içe aktarıyoruz.\n",
    "\n",
    "Sonraki satırda fonksiyonumuzu tanımlamaya başlıyoruz:\n",
    "\n"
   ]
  },
  {
   "cell_type": "code",
   "execution_count": null,
   "id": "e6da9303-51a0-4969-8e8a-e7aefea6fc08",
   "metadata": {},
   "outputs": [],
   "source": [
    "def sayı_üret(başlangıç=0, bitiş=500, adet=6):"
   ]
  },
  {
   "cell_type": "markdown",
   "id": "a17cb41b-5370-4894-9346-66b5673b47d9",
   "metadata": {},
   "source": [
    "Fonksiyonumuzun adı sayı_üret. Bu fonksiyon toplam üç farklı parametre alıyor. Bunlar başlangıç, bitiş ve adet. Dikkat ederseniz bu parametrelerin her birinin bir varsayılan değeri var. Dolayısıyla sayı_üret() fonksiyonu parametresiz olarak çağrıldığında bu üç parametre öntanımlı değerlerine sahip olacaktır.\n",
    "\n",
    "Gelelim fonksiyon gövdesine…\n",
    "\n",
    "İlk olarak sayılar adlı bir küme tanımlıyoruz.\n",
    "\n",
    "Bildiğiniz gibi, kümeler içinde öğeler her zaman tektir. Yani bir küme içinde aynı öğeden yalnızca bir adet bulunabilir. Kümelerin bu özelliği bizim yazdığımız program için oldukça uygun. Çünkü biz de ürettiğimiz rastgele sayıların benzersiz olmasını istiyoruz. Bu benzersizliği sağlayabilecek en uygun veri tipi kümelerdir.\n",
    "\n",
    "Bir sonraki satırda bir while döngüsü görüyoruz:"
   ]
  },
  {
   "cell_type": "code",
   "execution_count": null,
   "id": "0c3a1540-ce9c-4530-9c86-cc9e2f58b0f5",
   "metadata": {},
   "outputs": [],
   "source": [
    "while len(sayılar) < adet:\n",
    "    sayılar.add(random.randrange(başlangıç, bitiş))"
   ]
  },
  {
   "cell_type": "markdown",
   "id": "e1affd5f-74f4-43f7-b6a7-39845d48c897",
   "metadata": {},
   "source": [
    "Bu döngüye göre, sayılar değişkeninin uzunluğu adet parametresinin değerinden az olduğu müddetçe, sayılar adlı değişkene başlangıç ve bitiş parametrelerinin gösterdiği değerler arasından rastgele sayılar eklemeye devam edeceğiz. Örneğin kullanıcı fonksiyonumuzu parametresiz olarak çağırdıysa, yukarıdaki döngü şu şekilde işleyecektir:\n",
    "\n"
   ]
  },
  {
   "cell_type": "code",
   "execution_count": null,
   "id": "ae251ee3-60e1-4441-853a-c8494b19fa30",
   "metadata": {},
   "outputs": [],
   "source": [
    "while len(sayılar) < 6:\n",
    "    sayılar.add(random.randrange(0, 500))"
   ]
  },
  {
   "cell_type": "markdown",
   "id": "42caed16-661c-43a8-a71f-18b0e78a20b8",
   "metadata": {},
   "source": [
    "Buna göre, sayılar değişkeninin uzunluğu 6’dan az olduğu müddetçe bu değişkene 0 ile 500 arasında rastgele sayılar eklemeye devam edeceğiz. Böylelikle sayılar değişkeni içinde birbirinden farklı toplam 6 sayı olmuş olacak.\n",
    "\n",
    "Fonksiyonun son satırında ise şu kodu görüyoruz:\n",
    "\n"
   ]
  },
  {
   "cell_type": "code",
   "execution_count": null,
   "id": "7174c4c3-fb92-4b97-86c3-87cf16d99899",
   "metadata": {},
   "outputs": [],
   "source": [
    "return sayılar"
   ]
  },
  {
   "cell_type": "markdown",
   "id": "ec63a157-d141-4ba0-9ace-9a023d4f8613",
   "metadata": {},
   "source": [
    "Bu kod yardımıyla, belirtilen miktardaki sayıları tutan sayılar adlı değişkeni fonksiyondan döndürüyoruz. Yani fonksiyonumuz dış dünyaya sayılar adlı bir değişken veriyor… Bu değişkeni bu şekilde döndürdükten sonra istediğimiz gibi kullanabiliriz. Mesela:\n",
    "\n"
   ]
  },
  {
   "cell_type": "code",
   "execution_count": null,
   "id": "e513b12a-00bb-443a-ac86-8ffbae8e1f7d",
   "metadata": {},
   "outputs": [],
   "source": [
    "for i in range(100):\n",
    "    print(sayı_üret())"
   ]
  },
  {
   "cell_type": "markdown",
   "id": "d81aa6fa-7f33-4f18-8f8f-323922e36f29",
   "metadata": {},
   "source": [
    "Buradan şuna benzer bir çıktı alacaksınız:"
   ]
  },
  {
   "cell_type": "raw",
   "id": "78b37f13-7a35-446b-961c-c4e57e82e4cf",
   "metadata": {},
   "source": [
    "{34, 144, 211, 468, 58, 286}\n",
    "{41, 170, 395, 113, 178, 29}\n",
    "{161, 195, 452, 271, 212, 324}\n",
    "{1, 328, 461, 398, 464, 220}\n",
    "{356, 489, 12, 114, 329, 472}\n",
    "{320, 34, 238, 176, 243, 149}\n",
    "{364, 304, 434, 403, 217, 63}\n",
    "{452, 392, 175, 464, 81, 467}\n",
    "{36, 230, 21, 440, 287, 415}\n",
    "{292, 391, 145, 182, 440, 223}\n",
    "{386, 38, 309, 377, 59, 277}\n",
    "{0, 2, 42, 400, 404, 60}\n",
    "{48, 482, 393, 80, 116, 407}\n",
    "{483, 136, 431, 35, 344, 381}\n",
    "..."
   ]
  },
  {
   "cell_type": "markdown",
   "id": "e17ef432-260b-4cb9-92da-368ef288ec87",
   "metadata": {},
   "source": [
    "Gördüğünüz gibi, sayı_üret() fonksiyonunu kullanarak, her biri 6 öğeden oluşan 100 adet sayı listesi elde ettik. Biz yukarıda bu fonksiyonu parametresiz olarak çalıştırdığımız için, Python başlangıç, bitiş ve adet parametrelerinin öntanımlı değerlerini kullandı (sırasıyla 0, 500 ve 6).\n",
    "\n",
    "İstersek biz fonksiyonumuzu farklı parametrelerle çağırabiliriz:"
   ]
  },
  {
   "cell_type": "code",
   "execution_count": null,
   "id": "880984e0-ea84-42c6-87e8-13765c86cb62",
   "metadata": {},
   "outputs": [],
   "source": [
    "print(sayı_üret(0, 100, 10))"
   ]
  },
  {
   "cell_type": "markdown",
   "id": "1967a9a7-26bb-443c-a8a1-307147005ca2",
   "metadata": {},
   "source": [
    "Bu kodlar bize 0 ile 100 arasından 10 adet rastgele sayı seçer:\n",
    "\n"
   ]
  },
  {
   "cell_type": "code",
   "execution_count": null,
   "id": "f172c1d1-50e1-456b-8f39-55945632d437",
   "metadata": {},
   "outputs": [],
   "source": [
    "{3, 4, 9, 11, 13, 47, 50, 53, 54, 61}"
   ]
  },
  {
   "cell_type": "markdown",
   "id": "edb43b82-70fa-45d4-add8-bdb6b0612c3f",
   "metadata": {},
   "source": [
    "Eğer çıktının küme parantezleri arasında görünmesini istemiyorsanız elbette çıktıyı keyfinize göre biçimlendirebilirsiniz:\n",
    "\n"
   ]
  },
  {
   "cell_type": "code",
   "execution_count": 18,
   "id": "9a3aa709-b05e-40e6-b1d7-776cfd499304",
   "metadata": {},
   "outputs": [
    {
     "name": "stdout",
     "output_type": "stream",
     "text": [
      "1408-260-267-526-535-540-799-292-1062-425-569-829-592-1235-212-596-1374-864-996-1137\n"
     ]
    }
   ],
   "source": [
    "print(*sayı_üret(100, 1500, 20), sep='-')"
   ]
  },
  {
   "cell_type": "markdown",
   "id": "8f34ac30-6822-43be-875a-3ca7105d5957",
   "metadata": {},
   "source": [
    "Bu şekilde, 100 ile 1500 arası sayılardan rastgele 20 adet seçip her bir sayının arasına bir tane - işareti yerleştirdik:\n",
    "\n"
   ]
  },
  {
   "cell_type": "markdown",
   "id": "4cdbeac6-b2e3-45ec-8045-ee37c4322cbc",
   "metadata": {},
   "source": [
    "++++++++++++++Fonksiyonların Kapsamı ve global Deyimi\n",
    "\n",
    "\n",
    "Elimizde şöyle bir kod olduğunu düşünelim:"
   ]
  },
  {
   "cell_type": "code",
   "execution_count": null,
   "id": "58b03b83-dbf4-4bb4-870d-15f869c89b33",
   "metadata": {},
   "outputs": [],
   "source": [
    "x = 0\n",
    "\n",
    "def fonk():\n",
    "    x = 1\n",
    "    return x"
   ]
  },
  {
   "cell_type": "markdown",
   "id": "dbadb9d6-396f-40f7-9b4b-654033d2e271",
   "metadata": {},
   "source": [
    "Bu kodlarda, fonksiyonun dışında x adlı bir değişken var. Fonksiyonun içinde de yine x adını taşıyan başka bir değişken var. Fonksiyonumuzun görevi bu x değişkenini döndürmek.\n",
    "\n",
    "Bu noktada size şöyle bir soru sormama izin verin: Acaba fonksiyon içinde tanımladığımız x değişkeni, fonksiyon dışındaki x değişkeninin değerini değiştiriyor mu? Bu sorunun cevabını şu kodlarla verelim:\n",
    "\n"
   ]
  },
  {
   "cell_type": "code",
   "execution_count": 19,
   "id": "9cba5315-c05f-44c6-95a9-04d1e5799b98",
   "metadata": {},
   "outputs": [
    {
     "name": "stdout",
     "output_type": "stream",
     "text": [
      "fonksiyon içindeki x:  1\n",
      "fonksiyon dışındaki x:  0\n"
     ]
    }
   ],
   "source": [
    "x = 0\n",
    "\n",
    "def fonk():\n",
    "    x = 1\n",
    "    return x\n",
    "\n",
    "print('fonksiyon içindeki x: ', fonk())\n",
    "print('fonksiyon dışındaki x: ', x)"
   ]
  },
  {
   "cell_type": "markdown",
   "id": "b06b65f8-6292-4197-9dc4-392cce8ecc7a",
   "metadata": {},
   "source": [
    "Gördüğünüz gibi fonksiyon içindeki ve fonksiyon dışındaki aynı adlı değişkenler birbirine karışmıyor. Bunun sebebi, Python’daki ‘isim alanı’ (namespace) adlı bir kavramdır.\n",
    "\n",
    "Peki isim alanı ne demek?\n",
    "\n",
    "Python’da değişkenlerin, fonksiyonların ve daha sonra göreceğiniz gibi sınıfların bir kapsamı vardır. Bu kapsama Python’da ‘isim alanı’ adı verilir. Dolayısıyla Python’da her nesnenin, geçerli ve etkin olduğu bir isim alanı bulunur. Örneğin yukarıdaki kodlarda fonksiyon dışındaki x değişkeni ana isim alanında yer alan ‘global’ bir değişkendir. Fonksiyon içindeki x değişkeni ise fonk() değişkeninin isim alanı içinde yer alan ‘lokal’ bir değişkendir. Bu iki değişken, adları aynı da olsa, birbirlerinden farklı iki nesnedir.\n",
    "\n",
    "Bir de şu örneklere bakalım:"
   ]
  },
  {
   "cell_type": "code",
   "execution_count": 20,
   "id": "6b13e125-94ec-46d9-8653-6d098d9512b2",
   "metadata": {},
   "outputs": [
    {
     "name": "stdout",
     "output_type": "stream",
     "text": [
      "x'in ilk hali: []\n",
      "x'i değiştiriyoruz...\n",
      "x'in son hali:  [1]\n"
     ]
    }
   ],
   "source": [
    "x = []\n",
    "print('x\\'in ilk hali:', x)\n",
    "\n",
    "def değiştir():\n",
    "    print('x\\'i değiştiriyoruz...')\n",
    "    x.append(1)\n",
    "    return x\n",
    "\n",
    "değiştir()\n",
    "print('x\\'in son hali: ', x)"
   ]
  },
  {
   "cell_type": "markdown",
   "id": "4a3b21cf-6737-436a-93cb-08fb59072f35",
   "metadata": {},
   "source": [
    "Burada ise daha farklı bir durum söz konusu. Fonksiyon içinde append() metodunu kullanarak yaptığımız ekleme işlemi fonksiyon dışındaki listeyi de etkiledi. Peki ama bu nasıl oluyor?\n",
    "\n",
    "Python herhangi bir nesneye göndermede bulunduğumuzda, yani o nesnenin değerini talep ettiğimizde aradığımız nesneyi ilk önce mevcut isim alanı içinde arar. Eğer aranan nesneyi mevcut isim alanı içinde bulamazsa yukarıya doğru bütün isim alanlarını tek tek kontrol eder.\n",
    "\n",
    "Birkaç örnek verelim:"
   ]
  },
  {
   "cell_type": "code",
   "execution_count": 22,
   "id": "261a5702-d69e-4c70-b03f-2e654ac5ac66",
   "metadata": {},
   "outputs": [
    {
     "ename": "NameError",
     "evalue": "name 'y' is not defined",
     "output_type": "error",
     "traceback": [
      "\u001b[0;31m---------------------------------------------------------------------------\u001b[0m",
      "\u001b[0;31mNameError\u001b[0m                                 Traceback (most recent call last)",
      "Cell \u001b[0;32mIn[22], line 4\u001b[0m\n\u001b[1;32m      1\u001b[0m \u001b[38;5;28;01mdef\u001b[39;00m\u001b[38;5;250m \u001b[39m\u001b[38;5;21mfonk\u001b[39m():\n\u001b[1;32m      2\u001b[0m     \u001b[38;5;28mprint\u001b[39m(y)\n\u001b[0;32m----> 4\u001b[0m \u001b[43mfonk\u001b[49m\u001b[43m(\u001b[49m\u001b[43m)\u001b[49m\n",
      "Cell \u001b[0;32mIn[22], line 2\u001b[0m, in \u001b[0;36mfonk\u001b[0;34m()\u001b[0m\n\u001b[1;32m      1\u001b[0m \u001b[38;5;28;01mdef\u001b[39;00m\u001b[38;5;250m \u001b[39m\u001b[38;5;21mfonk\u001b[39m():\n\u001b[0;32m----> 2\u001b[0m     \u001b[38;5;28mprint\u001b[39m(\u001b[43my\u001b[49m)\n",
      "\u001b[0;31mNameError\u001b[0m: name 'y' is not defined"
     ]
    }
   ],
   "source": [
    "def fonk():\n",
    "    print(y)\n",
    "\n",
    "fonk()"
   ]
  },
  {
   "cell_type": "markdown",
   "id": "f519212d-3cba-4584-85de-02678c261a53",
   "metadata": {},
   "source": [
    "Bu hatanın sebebi, y adlı bir değişkenin tanımlanmamış olmasıdır. Bu hatayı gidermek için şöyle bir kod yazabiliriz:"
   ]
  },
  {
   "cell_type": "code",
   "execution_count": 24,
   "id": "c8699bb3-87b1-46ef-a262-cb71974037c4",
   "metadata": {},
   "outputs": [
    {
     "name": "stdout",
     "output_type": "stream",
     "text": [
      "0\n"
     ]
    }
   ],
   "source": [
    "x = 0\n",
    "\n",
    "def fonk():\n",
    "    print(x)\n",
    "\n",
    "fonk()"
   ]
  },
  {
   "cell_type": "markdown",
   "id": "80f10da3-721c-4d8c-b68f-75406bcae83b",
   "metadata": {},
   "source": [
    "Bu kod global alandaki x değişkeninin değerini verecektir.\n",
    "\n",
    "Yukarıdaki örnekte, biz print() ile x’in değerini sorguladığımızda Python öncelikle fonk() adlı fonksiyonun isim alanına baktı. Orada x’i bulamayınca bu kez global alana yönelip, orada bulduğu x’in değerini yazdırdı.\n",
    "\n",
    "Bu durumu daha net anlayabilmek için şu kodları inceleyelim:\n",
    "\n"
   ]
  },
  {
   "cell_type": "code",
   "execution_count": 25,
   "id": "26e4e786-714d-451a-a62a-31280d302b33",
   "metadata": {},
   "outputs": [
    {
     "name": "stdout",
     "output_type": "stream",
     "text": [
      "10\n",
      "0\n"
     ]
    }
   ],
   "source": [
    "x = 0\n",
    "\n",
    "def fonk():\n",
    "    x = 10\n",
    "    print(x)\n",
    "\n",
    "fonk()\n",
    "print(x)"
   ]
  },
  {
   "cell_type": "markdown",
   "id": "9ecee9e0-5037-47e4-b5a7-3b86d9b0a166",
   "metadata": {},
   "source": [
    "Bu kodları çalıştırdığımızda 10 çıktısını alırız. Çünkü Python, dediğimiz gibi, öncelikle mevcut isim alanını kontrol ediyor. x değişkenini mevcut isim alanında bulduğu için de global alana bakmasına gerek kalmıyor.\n",
    "\n",
    "Yalnız burada dikkat etmemiz gereken bazı şeyler var.\n",
    "\n",
    "Dediğimiz gibi, global isim alanındaki nesnelerin değerini lokal isim alanlarından sorgulayabiliyoruz. Ancak istediğimiz şey global isim alanındaki nesnelerin değerini değiştirmekse bazı kavramlar arasındaki farkları iyi anlamamız gerekiyor.\n",
    "\n",
    "Python’da bir nesnenin değerini değiştirmekle, o nesneyi yeniden tanımlamak farklı kavramlardır.\n",
    "\n",
    "Eğer bir nesne değiştirilebilir bir nesne ise, o nesnenin değerini, lokal isim alanlarından değiştirebilirsiniz:\n",
    "\n"
   ]
  },
  {
   "cell_type": "code",
   "execution_count": 26,
   "id": "d8d88868-16df-447f-ae90-a1e375f70dcf",
   "metadata": {},
   "outputs": [
    {
     "name": "stdout",
     "output_type": "stream",
     "text": [
      "{10}\n"
     ]
    }
   ],
   "source": [
    "x = set()\n",
    "\n",
    "def fonk():\n",
    "    x.add(10)\n",
    "    return x\n",
    "\n",
    "print(fonk())"
   ]
  },
  {
   "cell_type": "markdown",
   "id": "06031860-d4e1-427e-a3c0-e5a0cd806f98",
   "metadata": {},
   "source": [
    "Ama eğer bir nesne değiştirilemez bir nesne ise, o nesnenin değerini zaten normalde de değiştiremezsiniz. Değiştirmiş gibi yapmak için ise o nesneyi yeniden tanımlamanız gerektiğini biliyorsunuz:\n",
    "\n"
   ]
  },
  {
   "cell_type": "code",
   "execution_count": 27,
   "id": "50392192-b0ee-469a-8408-e75ed8e7d1c8",
   "metadata": {},
   "outputs": [
    {
     "name": "stdout",
     "output_type": "stream",
     "text": [
      "Fırat Özgül\n"
     ]
    }
   ],
   "source": [
    "isim = 'Fırat'\n",
    "isim += ' Özgül'\n",
    "print(isim)"
   ]
  },
  {
   "cell_type": "markdown",
   "id": "8926bef9-9686-4481-921b-94778406cc6b",
   "metadata": {},
   "source": [
    "Burada yaptığımız şey, karakter dizisinin değerini değiştirmekten ziyade bu karakter dizisini yeniden tanımlamaktır. Çünkü bildiğiniz gibi karakter dizileri değiştirilemeyen veri tipleridir.\n",
    "\n",
    "İşte karakter dizileri gibi değiştirilemeyen nesneleri, lokal isim alanlarında değiştiremeyeceğiniz gibi, yeniden tanımlayamazsınız da…"
   ]
  },
  {
   "cell_type": "code",
   "execution_count": 28,
   "id": "32b33a54-ea11-49d8-80ab-eec3daae9164",
   "metadata": {},
   "outputs": [
    {
     "ename": "UnboundLocalError",
     "evalue": "local variable 'isim' referenced before assignment",
     "output_type": "error",
     "traceback": [
      "\u001b[0;31m---------------------------------------------------------------------------\u001b[0m",
      "\u001b[0;31mUnboundLocalError\u001b[0m                         Traceback (most recent call last)",
      "Cell \u001b[0;32mIn[28], line 7\u001b[0m\n\u001b[1;32m      4\u001b[0m     isim \u001b[38;5;241m+\u001b[39m\u001b[38;5;241m=\u001b[39m \u001b[38;5;124m'\u001b[39m\u001b[38;5;124m Özgül\u001b[39m\u001b[38;5;124m'\u001b[39m\n\u001b[1;32m      5\u001b[0m     \u001b[38;5;28;01mreturn\u001b[39;00m isim\n\u001b[0;32m----> 7\u001b[0m \u001b[38;5;28mprint\u001b[39m(\u001b[43mfonk\u001b[49m\u001b[43m(\u001b[49m\u001b[43m)\u001b[49m)\n",
      "Cell \u001b[0;32mIn[28], line 4\u001b[0m, in \u001b[0;36mfonk\u001b[0;34m()\u001b[0m\n\u001b[1;32m      3\u001b[0m \u001b[38;5;28;01mdef\u001b[39;00m\u001b[38;5;250m \u001b[39m\u001b[38;5;21mfonk\u001b[39m():\n\u001b[0;32m----> 4\u001b[0m     isim \u001b[38;5;241m+\u001b[39m\u001b[38;5;241m=\u001b[39m \u001b[38;5;124m'\u001b[39m\u001b[38;5;124m Özgül\u001b[39m\u001b[38;5;124m'\u001b[39m\n\u001b[1;32m      5\u001b[0m     \u001b[38;5;28;01mreturn\u001b[39;00m isim\n",
      "\u001b[0;31mUnboundLocalError\u001b[0m: local variable 'isim' referenced before assignment"
     ]
    }
   ],
   "source": [
    "isim = 'Fırat'\n",
    "\n",
    "def fonk():\n",
    "    isim += ' Özgül'\n",
    "    return isim\n",
    "\n",
    "print(fonk())"
   ]
  },
  {
   "cell_type": "markdown",
   "id": "cc27a066-3a4d-4d46-97c9-be319c4aca9a",
   "metadata": {},
   "source": [
    "Bu kodları çalıştırdığınızda Python size bir hata mesajı gösterecektir.\n",
    "\n",
    "Aynı durum değiştirilebilir nesneler için de geçerlidir:"
   ]
  },
  {
   "cell_type": "code",
   "execution_count": 29,
   "id": "ca0c0ab1-2106-483c-af77-5aa1cdde7352",
   "metadata": {},
   "outputs": [
    {
     "ename": "UnboundLocalError",
     "evalue": "local variable 'isim_listesi' referenced before assignment",
     "output_type": "error",
     "traceback": [
      "\u001b[0;31m---------------------------------------------------------------------------\u001b[0m",
      "\u001b[0;31mUnboundLocalError\u001b[0m                         Traceback (most recent call last)",
      "Cell \u001b[0;32mIn[29], line 7\u001b[0m\n\u001b[1;32m      4\u001b[0m     isim_listesi \u001b[38;5;241m+\u001b[39m\u001b[38;5;241m=\u001b[39m [\u001b[38;5;124m'\u001b[39m\u001b[38;5;124mFırat Özgül\u001b[39m\u001b[38;5;124m'\u001b[39m, \u001b[38;5;124m'\u001b[39m\u001b[38;5;124mOrçun Kunek\u001b[39m\u001b[38;5;124m'\u001b[39m]\n\u001b[1;32m      5\u001b[0m     \u001b[38;5;28;01mreturn\u001b[39;00m isim_listesi\n\u001b[0;32m----> 7\u001b[0m \u001b[38;5;28mprint\u001b[39m(\u001b[43mfonk\u001b[49m\u001b[43m(\u001b[49m\u001b[43m)\u001b[49m)\n",
      "Cell \u001b[0;32mIn[29], line 4\u001b[0m, in \u001b[0;36mfonk\u001b[0;34m()\u001b[0m\n\u001b[1;32m      3\u001b[0m \u001b[38;5;28;01mdef\u001b[39;00m\u001b[38;5;250m \u001b[39m\u001b[38;5;21mfonk\u001b[39m():\n\u001b[0;32m----> 4\u001b[0m     isim_listesi \u001b[38;5;241m+\u001b[39m\u001b[38;5;241m=\u001b[39m [\u001b[38;5;124m'\u001b[39m\u001b[38;5;124mFırat Özgül\u001b[39m\u001b[38;5;124m'\u001b[39m, \u001b[38;5;124m'\u001b[39m\u001b[38;5;124mOrçun Kunek\u001b[39m\u001b[38;5;124m'\u001b[39m]\n\u001b[1;32m      5\u001b[0m     \u001b[38;5;28;01mreturn\u001b[39;00m isim_listesi\n",
      "\u001b[0;31mUnboundLocalError\u001b[0m: local variable 'isim_listesi' referenced before assignment"
     ]
    }
   ],
   "source": [
    "isim_listesi = []\n",
    "\n",
    "def fonk():\n",
    "    isim_listesi += ['Fırat Özgül', 'Orçun Kunek']\n",
    "    return isim_listesi\n",
    "\n",
    "print(fonk())"
   ]
  },
  {
   "cell_type": "markdown",
   "id": "c1c9fd63-9e66-475e-92a3-264521cd9e03",
   "metadata": {},
   "source": [
    "Değiştirilebilen bir veri tipi olan listeleri, fonksiyon içinde yeniden tanımlayamazsınız. Ancak tabii isterseniz listeleri değişikliğe uğratabilirsiniz:"
   ]
  },
  {
   "cell_type": "code",
   "execution_count": null,
   "id": "45bbe227-5826-4c8e-b902-e5c6e39079f7",
   "metadata": {},
   "outputs": [],
   "source": [
    "isim_listesi = []\n",
    "\n",
    "def fonk():\n",
    "    isim_listesi.extend(['Fırat Özgül', 'Orçun Kunek'])\n",
    "    return isim_listesi\n",
    "\n",
    "print(fonk())"
   ]
  },
  {
   "cell_type": "markdown",
   "id": "632097ee-2b48-4cfb-b255-c944f7d8019a",
   "metadata": {},
   "source": [
    "Bu kodlar düzgün bir şekilde çalışıp, fonksiyon dışındaki isim_listesi adlı listeyi değişikliğe uğratacaktır. Ancak şu kodlar hata verecektir:\n",
    "\n"
   ]
  },
  {
   "cell_type": "code",
   "execution_count": null,
   "id": "1e410fde-3ab9-463f-b60f-3db161a481e3",
   "metadata": {},
   "outputs": [],
   "source": [
    "isim_listesi = []\n",
    "\n",
    "def fonk():\n",
    "    isim_listesi += ['Fırat Özgül', 'Orçun Kunek']\n",
    "    return isim_listesi\n",
    "\n",
    "print(fonk())"
   ]
  },
  {
   "cell_type": "markdown",
   "id": "98ea0b92-44ab-4d28-be5e-693892f2374d",
   "metadata": {},
   "source": [
    "İşte Python programlama dili bu tür durumlar için çözüm olacak bir araç sunar bize. Bu aracın adı global.\n",
    "\n",
    "Gelin isterseniz bu global adlı deyimin nasıl kullanılacağına bakalım önce…\n",
    "\n",
    "Şu kodların hata vereceğini biliyorsunuz:"
   ]
  },
  {
   "cell_type": "code",
   "execution_count": null,
   "id": "77d67efa-aba5-4bbc-aef8-c4b48fb3f102",
   "metadata": {},
   "outputs": [],
   "source": [
    "isim = 'Fırat'\n",
    "\n",
    "def fonk():\n",
    "    isim += ' Özgül'\n",
    "    return isim\n",
    "\n",
    "print(fonk())"
   ]
  },
  {
   "cell_type": "markdown",
   "id": "5fcabd2b-d955-4104-b583-cfd49a4f44f8",
   "metadata": {},
   "source": [
    "Ama bu kodlara şöyle bir ekleme yaparsanız işler değişir:\n",
    "\n"
   ]
  },
  {
   "cell_type": "code",
   "execution_count": null,
   "id": "b1e249b3-6c72-4d34-9960-f03406f75218",
   "metadata": {},
   "outputs": [],
   "source": [
    "isim = 'Fırat'\n",
    "\n",
    "def fonk():\n",
    "    global isim\n",
    "    isim += ' Özgül'\n",
    "    return isim\n",
    "\n",
    "print(fonk())"
   ]
  },
  {
   "cell_type": "markdown",
   "id": "acb567eb-71c1-4624-948e-180764a9cb98",
   "metadata": {},
   "source": [
    "Burada fonk() adlı fonksiyonun ilk satırında şöyle bir kod görüyoruz:\n",
    "\n"
   ]
  },
  {
   "cell_type": "code",
   "execution_count": null,
   "id": "1cdbc8b1-c3e5-4032-a666-87a3070090f2",
   "metadata": {},
   "outputs": [],
   "source": [
    "global isim"
   ]
  },
  {
   "cell_type": "markdown",
   "id": "1b50517e-c749-47a1-91c3-597fdc0d2cad",
   "metadata": {},
   "source": [
    "İşte bu satır, isim adlı değişkenin global alana taşınmasını sağlıyor. Böylece global alanda bulunan isim adlı değişkeni değişikliğe uğratabiliyoruz.\n",
    "\n",
    "global deyimi her ne kadar ilk bakışta çok faydalı bir araçmış gibi görünse de aslında programlarımızda genellikle bu deyimi kullanmaktan kaçınmamız iyi bir fikir olacaktır. Çünkü bu deyim aslında global alanı kirletmemize neden oluyor. Global değişkenlerin lokal isim alanlarında değişikliğe uğratılması, eğer dikkatsiz davranırsanız programlarınızın hatalı çalışmasına yol açabilir."
   ]
  },
  {
   "cell_type": "code",
   "execution_count": null,
   "id": "8c5e175e-d24d-46ee-a8bf-366c359779a7",
   "metadata": {},
   "outputs": [],
   "source": []
  }
 ],
 "metadata": {
  "kernelspec": {
   "display_name": "Python 3 (ipykernel)",
   "language": "python",
   "name": "python3"
  },
  "language_info": {
   "codemirror_mode": {
    "name": "ipython",
    "version": 3
   },
   "file_extension": ".py",
   "mimetype": "text/x-python",
   "name": "python",
   "nbconvert_exporter": "python",
   "pygments_lexer": "ipython3",
   "version": "3.10.12"
  }
 },
 "nbformat": 4,
 "nbformat_minor": 5
}
