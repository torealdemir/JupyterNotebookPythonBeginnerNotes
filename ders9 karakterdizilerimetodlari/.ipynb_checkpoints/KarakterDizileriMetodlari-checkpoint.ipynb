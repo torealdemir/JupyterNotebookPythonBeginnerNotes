{
 "cells": [
  {
   "cell_type": "markdown",
   "id": "490cb705-d424-4f5b-a8fb-88151885c434",
   "metadata": {},
   "source": [
    "Karakter Dizileri\n",
    "Buraya gelene kadar Python programlama diline ilişkin epey bilgi edindik. Artık yazdığımız programlarda input() fonksiyonu sayesinde kullanıcıyla iletişim kurabiliyor; if, elif, else deyimleri yardımıyla programlarımızın karar vermesini sağlayabiliyor; işleçler ve döngüler yoluyla programlarımızı istediğimiz sayıda çalıştırabiliyoruz. Eğer buraya kadar olan bölümleri dikkatlice takip ettiyseniz, şu ana kadar öğrendiklerinize dayanarak, Python’ı giriş düzeyinde bildiğinizi rahatlıkla iddia edebilirsiniz. Zira şimdiye kadar öğrendiklerinizi kullanarak ufak tefek de olsa işe yarar programlar yazabilecek durumdasınız.\n",
    "\n",
    "Buraya kadar öğrendiğimiz bilgiler Python programlama dilinin temellerini oluşturuyordu. Temel Python bilgilerini edindiğimize göre, artık başlangıç-orta düzey arası konuları incelemeye başlayabileceğiz.\n",
    "\n",
    "Bu bölümde, önceki derslerde üstünkörü bakıp geçtiğimiz bir konu olan karakter dizilerini çok daha derinlemesine ele alacağız. Python programlama dili içindeki önemi nedeniyle bu bölüm epey uzun olacak.\n",
    "\n",
    "Aslında biz karakter dizisi kavramının ne olduğunu biliyoruz. Çok kaba bir şekilde ifade etmek gerekirse, karakter dizileri, adından da anlaşılacağı gibi, karakterlerin bir araya gelmesiyle oluşan bir dizidir. Karakter dizileri; tek, çift veya üç tırnak içinde gösterilen, öteki veri tiplerinden de bu tırnaklar aracılığıyla ayırt edilen özel bir veri tipidir. Teknik olarak ifade etmek gerekirse, bir nesneyi type() fonksiyonu yardımıyla sorguladığımızda, eğer <class ‘str’> çıktısı alıyorsak bu nesne bir karakter dizisidir.\n",
    "\n",
    "Her ne kadar ayrıntılarına girmemiş de olsak, dediğimiz gibi, biz karakter dizilerini daha ilk bölümlerden bu yana her fırsatta kullanıyoruz. Dolayısıyla bu veri tipinin ne olduğu konusunda bir sıkıntımız yok. Bu bölümde, şimdiye kadar karakter dizileri ile ilgili öğrendiğimiz şeylere ek olarak, karakter dizilerin metotlarından da söz edeceğiz.\n",
    "\n",
    "Peki bu ‘metot’ denen şey de ne oluyor?\n",
    "\n",
    "Kabaca ifade etmek gerekirse, metotlar Python’da nesnelerin niteliklerini değiştirmemizi, sorgulamamızı veya bu nesnelere yeni özellikler katmamızı sağlayan araçlardır. Metotlar sayesinde karakter dizilerini istediğimiz gibi eğip bükebileceğiz.\n",
    "\n",
    "Elbette bu bölümde bahsedeceğimiz tek şey karakter dizilerinin metotları olmayacak. Bu bölümde aynı zamanda karakter dizilerinin yapısı ve özelliklerine dair söyleyeceklerimiz de olacak.\n",
    "\n",
    "Python’da şimdiye kadar yapabildiğimiz şeylerin sizi tatmin etmekten uzak olduğunu, daha fazlasını yapabilmek için sabırsızlandığınızı tahmin edebiliyorum. O halde ne duruyoruz, hiç vakit kaybetmeden yola koyulalım.\n",
    "\n",
    "+++++++++++++++Karakter Dizilerinin Öğelerine Erişmek\n",
    "\n",
    "\n",
    "Python ile programlama yaparken karakter dizileri ile iki şekilde karşılaşabilirsiniz: Birincisi, bir karakter dizisini doğrudan kendiniz tanımlamış olabilirsiniz. İkincisi, karakter dizisi size başka bir kaynak aracılığıyla gelmiş olabilir (mesela input() fonksiyonu yardımıyla kullanıcıdan aldığınız bir veri).\n",
    "\n",
    "Python’da kendi tanımladığınız ya da herhangi başka bir kaynaktan gelen karakter dizilerine erişmenin birkaç farklı yolu vardır. Örneğin:\n",
    "\n"
   ]
  },
  {
   "cell_type": "code",
   "execution_count": 1,
   "id": "7f36191c-f4b2-45ac-a8d5-5760bb2d362a",
   "metadata": {},
   "outputs": [],
   "source": [
    "nesne = \"karakter dizisi\""
   ]
  },
  {
   "cell_type": "markdown",
   "id": "06943bfa-9049-4fc6-b8c0-588a40bb1377",
   "metadata": {},
   "source": [
    "Burada değeri “karakter dizisi” olan nesne adlı bir değişken tanımladık. Yazdığımız programlarda bu değişkene erişmek için, değişkenin adını kullanmamız yeterlidir. Örneğin:\n",
    "\n"
   ]
  },
  {
   "cell_type": "code",
   "execution_count": 2,
   "id": "c655bacb-654f-48bd-8d6b-6364d1dc3ab2",
   "metadata": {},
   "outputs": [
    {
     "name": "stdout",
     "output_type": "stream",
     "text": [
      "karakter dizisi\n"
     ]
    }
   ],
   "source": [
    "print(nesne)"
   ]
  },
  {
   "cell_type": "markdown",
   "id": "c1f5ba97-2bd3-43af-a0a4-b5ceb04271ec",
   "metadata": {},
   "source": [
    "Bu komut bize karakter dizisinin tamamını verecektir.\n",
    "\n",
    "Bir karakter dizisini yukarıda gördüğümüz gibi kendimiz tanımlayabiliriz. Bunun dışında, mesela input() fonksiyonuyla kullanıcıdan aldığımız verilerin de birer karakter dizisi olacağını biliyoruz:"
   ]
  },
  {
   "cell_type": "code",
   "execution_count": 3,
   "id": "f2356fb8-9b80-4194-846e-2c67da5e6362",
   "metadata": {},
   "outputs": [
    {
     "name": "stdin",
     "output_type": "stream",
     "text": [
      "Herhangi bir şey:  dasmldas\n"
     ]
    }
   ],
   "source": [
    "veri = input(\"Herhangi bir şey: \")"
   ]
  },
  {
   "cell_type": "markdown",
   "id": "489a5826-a39a-41d2-8662-f51cd1599453",
   "metadata": {},
   "source": [
    "Tıpkı kendi tanımladığımız karakter dizilerinde olduğu gibi, kullanıcıdan gelen karakter dizilerini de aşağıdaki komut yardımıyla ekranda görüntüleyebiliriz:"
   ]
  },
  {
   "cell_type": "code",
   "execution_count": 4,
   "id": "3dd44334-a744-4524-a65a-3e4f191c1dbe",
   "metadata": {},
   "outputs": [
    {
     "name": "stdout",
     "output_type": "stream",
     "text": [
      "dasmldas\n"
     ]
    }
   ],
   "source": [
    "print(veri)"
   ]
  },
  {
   "cell_type": "markdown",
   "id": "5db2a5f6-ffa3-4570-8ce2-68dc06c74fa6",
   "metadata": {},
   "source": [
    "Bu komut da bize veri değişkeninin tuttuğu karakter dizisinin tamamını verecektir.\n",
    "\n",
    "Ayrıca istersek bu karakter dizilerini bir for döngüsü içine alabilir, böylece bu dizinin öğelerine tek tek de erişebiliriz:"
   ]
  },
  {
   "cell_type": "code",
   "execution_count": 5,
   "id": "37dbab9c-cb68-41e0-ac2e-6bae11e85dab",
   "metadata": {},
   "outputs": [
    {
     "name": "stdout",
     "output_type": "stream",
     "text": [
      "k\n",
      "a\n",
      "r\n",
      "a\n",
      "k\n",
      "t\n",
      "e\n",
      "r\n",
      " \n",
      "d\n",
      "i\n",
      "z\n",
      "i\n",
      "s\n",
      "i\n"
     ]
    }
   ],
   "source": [
    "for karakter in nesne:\n",
    "    print(karakter)"
   ]
  },
  {
   "cell_type": "markdown",
   "id": "b26ef672-6da3-48b5-94fa-aa9707159b7e",
   "metadata": {},
   "source": [
    "for döngüsüyle elde ettiğimiz bu etkiyi şu kodlar yardımıyla da elde edebileceğimizi gayet iyi biliyor olmalısınız:"
   ]
  },
  {
   "cell_type": "code",
   "execution_count": 6,
   "id": "0580f7c5-c9f5-478f-844f-83328c81a81e",
   "metadata": {},
   "outputs": [
    {
     "name": "stdout",
     "output_type": "stream",
     "text": [
      "k\n",
      "a\n",
      "r\n",
      "a\n",
      "k\n",
      "t\n",
      "e\n",
      "r\n",
      " \n",
      "d\n",
      "i\n",
      "z\n",
      "i\n",
      "s\n",
      "i\n"
     ]
    }
   ],
   "source": [
    "print(*nesne, sep=\"\\n\")"
   ]
  },
  {
   "cell_type": "markdown",
   "id": "2390f4c2-6cee-4e61-b0c6-26f8119ac70c",
   "metadata": {},
   "source": [
    "Önceki derslerde verdiğimiz örneklerden de bildiğiniz gibi, karakter dizilerinin öğelerine yukarıdaki yöntemlerle tek tek erişebilmemiz sayesinde herhangi bir işlemi karakter dizilerinin bütün öğelerine bir çırpıda uygulayabiliyoruz. Mesela:\n",
    "\n"
   ]
  },
  {
   "cell_type": "code",
   "execution_count": 7,
   "id": "d72bf145-6757-4025-9da1-18389a7da950",
   "metadata": {},
   "outputs": [
    {
     "name": "stdout",
     "output_type": "stream",
     "text": [
      "2\n",
      "4\n",
      "6\n",
      "8\n",
      "10\n",
      "12\n",
      "14\n",
      "16\n",
      "18\n"
     ]
    }
   ],
   "source": [
    "nesne = \"123456789\"\n",
    "\n",
    "for n in nesne:\n",
    "    print(int(n) * 2)"
   ]
  },
  {
   "cell_type": "markdown",
   "id": "5ea4930a-4865-469d-aeae-947ed522e937",
   "metadata": {},
   "source": [
    "Burada nesne değişkeni içindeki sayı değerli karakter dizilerini n olarak adlandırdıktan sonra, n değişkenlerinin her birini tek tek 2 sayısı ile çarptık. Yani çarpma işlemini karakter dizisinin bütün öğelerine tek seferde uygulayabildik. Bu arada, yukarıdaki örnekte nesne değişkeninin her bir öğesini for döngüsü içinde int() fonksiyonu yardımıyla tam sayıya çevirdiğimizi görüyorsunuz. Daha önce de defalarca söylediğimiz gibi, Python’da o anda elinizde olan verinin tipini bilmeniz çok önemlidir. Eğer kendi yazdığınız veya mesela input() fonksiyonundan gelen bir verinin karakter dizisi olduğunu bilmezseniz yukarıdaki kodları şu şekilde yazma gafletine düşebilirsiniz:\n",
    "\n"
   ]
  },
  {
   "cell_type": "code",
   "execution_count": 8,
   "id": "20475300-1b8e-4fc4-aaf1-30d4a6f56d4d",
   "metadata": {},
   "outputs": [
    {
     "name": "stdout",
     "output_type": "stream",
     "text": [
      "11\n",
      "22\n",
      "33\n",
      "44\n",
      "55\n",
      "66\n",
      "77\n",
      "88\n",
      "99\n"
     ]
    }
   ],
   "source": [
    "nesne = \"123456789\"\n",
    "\n",
    "for n in nesne:\n",
    "    print(n * 2)"
   ]
  },
  {
   "cell_type": "markdown",
   "id": "972f0cfe-2114-490a-9ef0-5e29feeed887",
   "metadata": {},
   "source": [
    "Gördüğünüz gibi, aslında nesne içindeki öğeleri 2 ile çarpmak isterken, biz her bir öğeyi iki kez ekrana yazdırmış olduk. Çünkü bildiğiniz gibi karakter dizileri ile aritmetik işlemler yapamıyoruz. Eğer sayı değerli karakter dizileri arasında aritmetik işlem yapacaksak öncelikle bu karakter dizilerini sayıya çevirmemiz gerekir. Ayrıca gerçek bir program içinde yukarıdaki gibi bir durumun ne kadar yıkıcı sonuçlar doğuracabileceğini düşünün. Yukarıdaki program çalışma sırasında hiçbir hata vermeyeceği için, siz programınızın düzgün çalıştığını zannederek hayatınıza devam edeceksiniz. Ama belki de yukarıdaki sinsi hata yüzünden, programınızı kullanan bir şirket veri, zaman ve para kaybına uğrayacak.\n",
    "\n",
    "Yukarıdaki örneklerde bir şey daha dikkatinizi çekmiş olmalı: Gördüğünüz gibi, karakter dizisinin öğelerine erişirken bu öğelerin tamamını elde ediyoruz. Mesela print(nesne) komutunu verdiğimizde veya nesne değişkenini bir döngü içine aldığımızda sonuç olarak elde ettiğimiz şey, ilgili karakter dizisinin tamamıdır. Yani aslında karakter dizisinin hangi öğesine erişeceğimizi seçemiyoruz. Peki ya biz bir karakter dizisinin öğelerinin tamamına değil de, sadece tek bir öğesine erişmek istersek ne yapacağız? Mesela yukarıdaki örnekte nesne adlı değişken içindeki sayıların tamamını değil de sadece tek bir öğesini (veya belli bir ölçüte göre yalnızca bazı öğelerini) 2 ile çarpmak istersek nasıl bir yol izleyeceğiz?\n",
    "\n",
    "Python’da karakter dizilerinin içindeki öğelerin bir sırası vardır. Örneğin “Python” dediğimizde, bu karakter dizisinin ilk öğesi olan “P” karakterinin sırası 0’dır. “y” karakteri ise 1. sıradadır. Aynı şekilde devam edersek, “t” karakteri 2., “h” karakteri 3., “o” karakteri 4., “n” karakteri ise 5. sırada yer alır.\n",
    "\n",
    "Bu anlattığımız soyut durumu bir örnekle somutlaştırmaya çalışalım:\n",
    "\n",
    "Dedik ki, “Python” gibi bir karakter dizisinin her bir öğesinin belli bir sırası vardır. İşte eğer biz bu karakter dizisinin bütün öğelerini değil de, sadece belli karakterlerini almak istersek, karakter dizisindeki öğelerin sahip olduğu bu sıradan yararlanacağız.\n",
    "\n",
    "Diyelim ki “Python” karakter dizisinin ilk karakterini almak istiyoruz. Yani biz bu karakter dizisinin sadece “P” harfine ulaşmayı amaçlıyoruz.\n",
    "\n",
    "Bu isteğimizi nasıl yerine getirebileceğimizi basit bir örnek üzerinde göstermeye çalışalım:"
   ]
  },
  {
   "cell_type": "code",
   "execution_count": 9,
   "id": "d3f6d678-bd31-4e1f-b2bd-78af6d7dd1eb",
   "metadata": {},
   "outputs": [],
   "source": [
    "kardiz = \"Python\""
   ]
  },
  {
   "cell_type": "markdown",
   "id": "3c219603-a7a6-41b8-b0a8-bc395392827b",
   "metadata": {},
   "source": [
    "Burada değeri “Python” olan kardiz adlı bir değişken tanımladık. Şimdi bu karakter dizisinin ilk öğesine erişeceğiz:"
   ]
  },
  {
   "cell_type": "code",
   "execution_count": 10,
   "id": "e210652a-c416-4626-a284-21a77b4e38c5",
   "metadata": {},
   "outputs": [
    {
     "data": {
      "text/plain": [
       "'P'"
      ]
     },
     "execution_count": 10,
     "metadata": {},
     "output_type": "execute_result"
    }
   ],
   "source": [
    "kardiz[0]"
   ]
  },
  {
   "cell_type": "markdown",
   "id": "9e6ccc5c-9289-4d5a-97db-770097a3dd04",
   "metadata": {},
   "source": [
    "Burada yaptığımız işleme çok dikkat edin. Karakter dizisinin istediğimiz bir öğesine ulaşmak için, ilgili öğenin sırasını köşeli parantezler içinde belirttik. Biz bu örnekte karakter dizisinin ilk öğesine ulaşmak istediğimiz için köşeli parantez içinde 0 sayısını kullandık.\n",
    "\n",
    "Şimdi de, ilk verdiğimiz örnekteki nesne değişkeni içinde yer alan sayılar arasından sadece birini 2 ile çarpmak istediğimizi düşünelim:"
   ]
  },
  {
   "cell_type": "code",
   "execution_count": 11,
   "id": "ab4e2127-71a9-45ca-b14f-071d6f23dc18",
   "metadata": {},
   "outputs": [
    {
     "data": {
      "text/plain": [
       "4"
      ]
     },
     "execution_count": 11,
     "metadata": {},
     "output_type": "execute_result"
    }
   ],
   "source": [
    "nesne = \"123456789\"\n",
    "int(nesne[1]) * 2"
   ]
  },
  {
   "cell_type": "markdown",
   "id": "7f38e8b3-ac12-4286-8120-c69fa83d4bb7",
   "metadata": {},
   "source": [
    "Burada da öncelikle nesne değişkeninin birinci sırasında yer alan öğeyi (dikkat: sıfırıncı sırada yer alan öğeyi değil!) elde etmek için köşeli parantezler içinde 1 sayısını kullandık. Daha sonra int() fonksiyonu yardımıyla bu karakter dizisini tam sayıya çevirdik, ki bununla aritmetik işlem yapabilelim… Son olarak da elimizdeki tam sayıyı 2 ile çarparak istediğimiz sonuca ulaştık.\n",
    "\n",
    "Elbette yukarıdaki kodları şöyle de yazabilirdik:\n",
    "\n"
   ]
  },
  {
   "cell_type": "code",
   "execution_count": 12,
   "id": "b27555be-08e5-4e93-b85f-05622a28fc3c",
   "metadata": {},
   "outputs": [
    {
     "data": {
      "text/plain": [
       "4"
      ]
     },
     "execution_count": 12,
     "metadata": {},
     "output_type": "execute_result"
    }
   ],
   "source": [
    "nesne = \"123456789\"\n",
    "sayı = int(nesne[1])\n",
    "sayı * 2"
   ]
  },
  {
   "cell_type": "markdown",
   "id": "f29e2c2c-2ebc-4710-ad9d-c4aa6bc67cef",
   "metadata": {},
   "source": [
    "Belki farkındasınız, belki de değilsiniz, ama aslında şu noktada karakter dizilerinin çok önemli bir özelliği ile karşı karşıyayız. Gördüğünüz gibi, yukarıda bahsettiğimiz sıra kavramı sayesinde Python’da karakter dizilerinin bütün öğelerine tek tek ve herhangi bir sıra gözetmeksizin erişmemiz mümkün. Mesela yukarıdaki ilk örnekte kardiz[0] gibi bir yapı kullanarak karakter dizisinin sıfırıncı (yani ilk) öğesini, nesne[1] gibi bir yapı kullanarak da karakter dizisinin birinci (yani aslında ikinci) öğesini alabildik.\n",
    "\n",
    "Bu yapının mantığını kavramak için şu örnekleri dikkatlice inceleyin:\n",
    "\n"
   ]
  },
  {
   "cell_type": "code",
   "execution_count": 13,
   "id": "296d8edc-f817-452e-86e4-85f14c765a4d",
   "metadata": {},
   "outputs": [
    {
     "data": {
      "text/plain": [
       "'P'"
      ]
     },
     "execution_count": 13,
     "metadata": {},
     "output_type": "execute_result"
    }
   ],
   "source": [
    "kardiz = \"Python\"\n",
    "\n",
    "kardiz[0]\n",
    "\n"
   ]
  },
  {
   "cell_type": "code",
   "execution_count": 14,
   "id": "43c4bf1c-1121-4ca5-a1ae-21fd75576401",
   "metadata": {},
   "outputs": [
    {
     "data": {
      "text/plain": [
       "'y'"
      ]
     },
     "execution_count": 14,
     "metadata": {},
     "output_type": "execute_result"
    }
   ],
   "source": [
    "kardiz[1]"
   ]
  },
  {
   "cell_type": "code",
   "execution_count": 15,
   "id": "32ba0c1d-914e-4c7f-bdd2-10f534cd2eee",
   "metadata": {},
   "outputs": [],
   "source": [
    "nesne=\"123456789\""
   ]
  },
  {
   "cell_type": "code",
   "execution_count": 16,
   "id": "b76fda29-a561-417f-bf7b-2b8fd811ad4f",
   "metadata": {},
   "outputs": [
    {
     "data": {
      "text/plain": [
       "'1'"
      ]
     },
     "execution_count": 16,
     "metadata": {},
     "output_type": "execute_result"
    }
   ],
   "source": [
    "nesne[0]"
   ]
  },
  {
   "cell_type": "markdown",
   "id": "7ae0537a-2414-4362-b0ca-716ee3d7e24b",
   "metadata": {},
   "source": [
    "Burada şöyle bir formül yazabiliriz:\n",
    "\n",
    "karakter_dizisi[öğe_sırası]"
   ]
  },
  {
   "cell_type": "markdown",
   "id": "1addac11-438d-4555-8fad-c05d6c6e9057",
   "metadata": {},
   "source": [
    "Bu formülü uygulayarak karakter dizilerinin her bir öğesine tek tek erişmemiz mümkün. Burada çok önemli bir noktaya daha dikkatinizi çekmek isterim. Yukarıdaki örneklerden de gördüğünüz gibi, Python’da öğe sıralaması 0’dan başlıyor. Yani bir karakter dizisinin ilk öğesinin sırası 0 oluyor. Python programlama dilini özellikle yeni öğrenenlerin en sık yaptığı hatalardan biri de bir karakter dizisinin ilk öğesine ulaşmak için 1 sayısını kullanmalarıdır. Asla unutmayın, Python saymaya her zaman 0’dan başlar. Dolayısıyla bir karakter dizisinin ilk öğesinin sırası 0’dır. Eğer ilk öğeye ulaşayım derken 1 sayısını kullanırsanız ulaştığınız öğe ilk öğe değil, ikinci öğe olacaktır. Bu ayrıntıyı gözden kaçırmamaya dikkat etmelisiniz.\n",
    "\n",
    "Karakter dizilerinin öğelerine tek tek erişirken dikkat etmemiz gereken önemli noktalardan biri de, öğe sırası belirtirken, karakter dizisinin toplam uzunluğu dışına çıkmamaktır. Yani mesela 7 karakterlik bir karakter dizimiz varsa, bu karakter dizisinin son öğesinin sırası 6 olacaktır. Çünkü biliyorsunuz, Python saymaya 0’dan başlıyor. Dolayısıyla ilk karakterin sırası 0 olacağı için, 7 karakterlik bir karakter dizisinde son öğenin sırası 6 olacaktır. Örneğin:"
   ]
  },
  {
   "cell_type": "code",
   "execution_count": 17,
   "id": "4b66efb9-b969-469c-a67e-6640544f61ca",
   "metadata": {},
   "outputs": [
    {
     "data": {
      "text/plain": [
       "7"
      ]
     },
     "execution_count": 17,
     "metadata": {},
     "output_type": "execute_result"
    }
   ],
   "source": [
    "kardiz = \"istihza\"\n",
    "len(kardiz)"
   ]
  },
  {
   "cell_type": "markdown",
   "id": "badfcdfe-24a3-4cc8-9777-4dc0a9952838",
   "metadata": {},
   "source": [
    "Gördüğünüz gibi, “istihza” adlı karakter dizisinin uzunluğu 7. Yani bu karakter dizisi içinde 7 adet karakter var. Bu karakter dizisini incelemeye devam edelim:"
   ]
  },
  {
   "cell_type": "code",
   "execution_count": 18,
   "id": "987b2230-3897-4cd3-8678-d44a2b8a4f20",
   "metadata": {},
   "outputs": [
    {
     "data": {
      "text/plain": [
       "'i'"
      ]
     },
     "execution_count": 18,
     "metadata": {},
     "output_type": "execute_result"
    }
   ],
   "source": [
    "kardiz[0]"
   ]
  },
  {
   "cell_type": "markdown",
   "id": "3662491e-71ce-440c-8fed-2a2e14b30d43",
   "metadata": {},
   "source": [
    "Dediğimiz gibi, karakter dizisinin ilk öğesinin sırası 0. Dolayısıyla son öğenin sırası 6 olacaktır:\n",
    "\n"
   ]
  },
  {
   "cell_type": "code",
   "execution_count": 19,
   "id": "c071515d-163b-4818-bc57-5a6e09a80a3e",
   "metadata": {},
   "outputs": [
    {
     "data": {
      "text/plain": [
       "'a'"
      ]
     },
     "execution_count": 19,
     "metadata": {},
     "output_type": "execute_result"
    }
   ],
   "source": [
    "kardiz[6]"
   ]
  },
  {
   "cell_type": "markdown",
   "id": "20ec2b75-e480-4914-8601-23f65771f142",
   "metadata": {},
   "source": [
    "Bu durumu şöyle formüle edebiliriz:"
   ]
  },
  {
   "cell_type": "code",
   "execution_count": 20,
   "id": "247d81f8-1be5-4e03-9ced-95240f9d3568",
   "metadata": {},
   "outputs": [
    {
     "data": {
      "text/plain": [
       "'a'"
      ]
     },
     "execution_count": 20,
     "metadata": {},
     "output_type": "execute_result"
    }
   ],
   "source": [
    "kardiz[len(kardiz)-1]"
   ]
  },
  {
   "cell_type": "markdown",
   "id": "a4fb5851-41c8-4de2-891a-f90dfa6f4c2b",
   "metadata": {},
   "source": [
    "Yani;\n",
    "\n",
    "Bir karakter dizisinin uzunluğunun 1 eksiği, o karakter dizisinin son öğesini verir.\n",
    "\n",
    "Yukarıdaki formülü eğer şöyle yazsaydık hata alırdık:\n",
    "\n"
   ]
  },
  {
   "cell_type": "code",
   "execution_count": 21,
   "id": "10e21dea-4364-4c34-bbe0-affafd8cd3db",
   "metadata": {},
   "outputs": [
    {
     "ename": "IndexError",
     "evalue": "string index out of range",
     "output_type": "error",
     "traceback": [
      "\u001b[0;31m---------------------------------------------------------------------------\u001b[0m",
      "\u001b[0;31mIndexError\u001b[0m                                Traceback (most recent call last)",
      "Cell \u001b[0;32mIn[21], line 1\u001b[0m\n\u001b[0;32m----> 1\u001b[0m \u001b[43mkardiz\u001b[49m\u001b[43m[\u001b[49m\u001b[38;5;28;43mlen\u001b[39;49m\u001b[43m(\u001b[49m\u001b[43mkardiz\u001b[49m\u001b[43m)\u001b[49m\u001b[43m]\u001b[49m\n",
      "\u001b[0;31mIndexError\u001b[0m: string index out of range"
     ]
    }
   ],
   "source": [
    "kardiz[len(kardiz)]"
   ]
  },
  {
   "cell_type": "markdown",
   "id": "c79ebd09-32a6-48e2-a7dd-a6600b06f027",
   "metadata": {},
   "source": [
    "Çünkü len(kardiz) kodu bize karakter dizisinin uzunluğunu veriyor. Yani yukarıdaki “istihza” karakter dizisini göz önüne alırsak, len(kardiz) çıktısı 7 olacaktır. Dolayısıyla “istihza” karakter dizisinin son öğesine ulaşmak istersek bu değerin 1 eksiğini almamız gerekiyor. Yani len(kardiz)-1.\n",
    "\n",
    "Şu ana kadar öğe sırası olarak hep artı değerli sayılar kullandık. Ancak istersek öğe sırası olarak eksi değerli sayıları da kullanabiliriz. Eğer bir karakter dizisine öğe sırası olarak eksi değerli bir sayı verirsek Python o karakter dizisini sondan başa doğru okumaya başlayacaktır. Yani:"
   ]
  },
  {
   "cell_type": "code",
   "execution_count": 22,
   "id": "d308038e-ad6b-4f04-9c97-3ea0adb99502",
   "metadata": {},
   "outputs": [
    {
     "data": {
      "text/plain": [
       "'a'"
      ]
     },
     "execution_count": 22,
     "metadata": {},
     "output_type": "execute_result"
    }
   ],
   "source": [
    "kardiz[-1]"
   ]
  },
  {
   "cell_type": "markdown",
   "id": "ded96e27-9470-470f-a2ca-84f1026a5762",
   "metadata": {},
   "source": [
    "Gördüğünüz gibi -1 sayısı karakter dizisini tersten okuyup, sondan başa doğru ilk öğeyi veriyor. Dolayısıyla, yukarıda anlattığımız len(kardiz)-1 yönteminin yanısıra, -1 sayısını kullanarak da karakter dizilerinin son karakterini elde edebiliyoruz. Bir de şuna bakalım:"
   ]
  },
  {
   "cell_type": "code",
   "execution_count": 23,
   "id": "8314899a-19fe-4c0a-8af0-8a2a1ae351cf",
   "metadata": {},
   "outputs": [
    {
     "data": {
      "text/plain": [
       "'z'"
      ]
     },
     "execution_count": 23,
     "metadata": {},
     "output_type": "execute_result"
    }
   ],
   "source": [
    "kardiz[-2]"
   ]
  },
  {
   "cell_type": "markdown",
   "id": "5cb7c803-af94-4152-8c19-6aa4fe905105",
   "metadata": {},
   "source": [
    "Dediğimiz gibi, eksi değerli sayılar karakter dizisindeki karakterleri sondan başa doğru elde etmemizi sağlar. Dolayısıyla -2 sayısı, karakter dizisinde sondan bir önceki karakteri verecektir.\n",
    "\n",
    "Karakter dizilerinin öğelerine tek tek erişmek amacıyla öğe sırası belirtirken, karakter dizisinin toplam uzunluğu dışına çıkmamamız gerektiğini söylemiştik. Peki karakter dizisinin uzunluğunu aşan bir sayı verirsek ne olur? Ne olacağını yukarıdaki örneklerden birinde görmüştük aslında. Ama konunun öneminden dolayı bir kez daha tekrar edelim."
   ]
  },
  {
   "cell_type": "code",
   "execution_count": 24,
   "id": "5a3a3a49-04a8-4dd2-9e4f-e99645cc9fe4",
   "metadata": {},
   "outputs": [
    {
     "ename": "IndexError",
     "evalue": "string index out of range",
     "output_type": "error",
     "traceback": [
      "\u001b[0;31m---------------------------------------------------------------------------\u001b[0m",
      "\u001b[0;31mIndexError\u001b[0m                                Traceback (most recent call last)",
      "Cell \u001b[0;32mIn[24], line 2\u001b[0m\n\u001b[1;32m      1\u001b[0m kardiz \u001b[38;5;241m=\u001b[39m \u001b[38;5;124m\"\u001b[39m\u001b[38;5;124mistihza\u001b[39m\u001b[38;5;124m\"\u001b[39m\n\u001b[0;32m----> 2\u001b[0m \u001b[43mkardiz\u001b[49m\u001b[43m[\u001b[49m\u001b[38;5;241;43m7\u001b[39;49m\u001b[43m]\u001b[49m\n",
      "\u001b[0;31mIndexError\u001b[0m: string index out of range"
     ]
    }
   ],
   "source": [
    "kardiz = \"istihza\"\n",
    "kardiz[7]"
   ]
  },
  {
   "cell_type": "code",
   "execution_count": 25,
   "id": "366c13c3-00e0-4081-a07f-67e3368e8151",
   "metadata": {},
   "outputs": [
    {
     "ename": "IndexError",
     "evalue": "string index out of range",
     "output_type": "error",
     "traceback": [
      "\u001b[0;31m---------------------------------------------------------------------------\u001b[0m",
      "\u001b[0;31mIndexError\u001b[0m                                Traceback (most recent call last)",
      "Cell \u001b[0;32mIn[25], line 1\u001b[0m\n\u001b[0;32m----> 1\u001b[0m \u001b[43mkardiz\u001b[49m\u001b[43m[\u001b[49m\u001b[38;5;241;43m-\u001b[39;49m\u001b[38;5;241;43m8\u001b[39;49m\u001b[43m]\u001b[49m\n",
      "\u001b[0;31mIndexError\u001b[0m: string index out of range"
     ]
    }
   ],
   "source": [
    "kardiz[-8]"
   ]
  },
  {
   "cell_type": "markdown",
   "id": "b989883f-e893-4a7e-843b-07ccc51312fb",
   "metadata": {},
   "source": [
    "Eğer karakter dizisinin uzunluğunu aşan bir sayı belirtirsek Python bize IndexError türünde bir hata mesajı verecektir.\n",
    "\n",
    "Gördüğünüz gibi, kardiz[0], kardiz[1], kardiz[2], vb. komutlarla karakter dizisinin öğelerine erişebiliyoruz. Burada öğe sıralarını tek tek yazmak yerine range() fonksiyonunu kullanarak da öğelere tek tek erişebilirsiniz:\n",
    "\n"
   ]
  },
  {
   "cell_type": "code",
   "execution_count": 26,
   "id": "951c4c16-f052-4b36-a661-f9f80dfa094b",
   "metadata": {},
   "outputs": [
    {
     "name": "stdout",
     "output_type": "stream",
     "text": [
      "i\n",
      "s\n",
      "t\n",
      "i\n",
      "h\n",
      "z\n",
      "a\n"
     ]
    }
   ],
   "source": [
    "for i in range(7):\n",
    "    print(kardiz[i])"
   ]
  },
  {
   "cell_type": "markdown",
   "id": "30f19d38-b0f7-4342-9ae1-cf842cd5af46",
   "metadata": {},
   "source": [
    "Bu kodlarda, kardiz[0], kardiz[1], kardiz[2] şeklinde öğe sıralarını tek tek elle yazmak yerine, range(7) aralığındaki sayıları bir for döngüsüne alıyoruz. Böylece Python kardiz[öğe_sırası] gibi bir yapı içinde öğe_sırası yerine range(7) aralığındaki bütün sayıları (yani 0, 1, 2, 3, 4, 5, 6 sayılarını) tek tek uyguluyor.\n",
    "\n",
    "Burada aklınıza hemen şöyle bir soru gelmiş olabilir:\n",
    "\n",
    "Biz kendi tanımladığımız karakter dizisinin uzunluğunun toplam 7 karakter olduğunu bildiğimiz için yukarıdaki örnekte range() fonksiyonunu range(7) şeklinde kullanabildik. Ama başka kaynaktan gelen bir karakter dizisinin uzunluğunu nasıl bileceğiz?\n",
    "\n",
    "Aslında bu sorunun cevabı çok basit. Uzunluğunu bilmediğiniz karakter dizileri için range() fonksiyonuyla birlikte len() fonksiyonundan yararlanabilirsiniz. Nasıl mı? Hemen bir örnek verelim:"
   ]
  },
  {
   "cell_type": "code",
   "execution_count": 27,
   "id": "8077776a-b0a4-41bf-822c-0d6e31459da0",
   "metadata": {},
   "outputs": [
    {
     "name": "stdout",
     "output_type": "stream",
     "text": [
      "i\n",
      "s\n",
      "t\n",
      "i\n",
      "h\n",
      "z\n",
      "a\n"
     ]
    }
   ],
   "source": [
    "for karakter in range(len(kardiz)):\n",
    "    print(kardiz[karakter])"
   ]
  },
  {
   "cell_type": "markdown",
   "id": "294fb8c4-2a32-49e3-979c-038d8b6f682d",
   "metadata": {},
   "source": [
    "Burada range() fonksiyonuna verdiğimiz len(kardiz) parametresine dikkatlice bakın. Biz kardiz adlı değişkenin tuttuğu karakter dizisinin 7 karakterden oluştuğunu biliyoruz. Ama eğer bu karakter dizisini biz belirlememişsek, karakter dizisinin tam olarak kaç karakterden oluşacağını bilemeyiz. Bu kodlarda len(kardiz) ifadesini kullanarak, sabit bir değer belirlemekten kaçınmış oluyoruz. Böylece, mesela kullanıcıdan aldığımız bir karakter dizisinin kaç karakterden oluştuğunu belirleme görevini Python’a bırakmış oluyoruz. Karakter dizisinin uzunluğu ne ise (len(kardiz)), Python range() fonksiyonuna o sayıyı parametre olarak kendisi atayacaktır.\n",
    "\n",
    "Yukarıdaki durumu daha iyi anlayabilmek için bir örnek daha verelim. Diyelim ki kullanıcıya ismini sorup, kendisine şöyle bir çıktı vermek istiyorsunuz:\n",
    "\n",
    "isminizin 1. harfi ...\n",
    "isminizin 2. harfi ...\n",
    "isminizin 3. harfi ...\n",
    "\n",
    "\n",
    "Bunu yapabilmek için şöyle bir uygulama yazabilirsiniz:"
   ]
  },
  {
   "cell_type": "code",
   "execution_count": 28,
   "id": "73a92f5f-3772-4f83-8488-5c9dd3b7cafe",
   "metadata": {},
   "outputs": [
    {
     "name": "stdin",
     "output_type": "stream",
     "text": [
      "isminiz:  tore\n"
     ]
    },
    {
     "name": "stdout",
     "output_type": "stream",
     "text": [
      "isminizin 0. harfi: t\n",
      "isminizin 1. harfi: o\n",
      "isminizin 2. harfi: r\n",
      "isminizin 3. harfi: e\n"
     ]
    }
   ],
   "source": [
    "isim = input(\"isminiz: \")\n",
    "\n",
    "for i in range(len(isim)):\n",
    "    print(\"isminizin {}. harfi: {}\".format(i, isim[i]))"
   ]
  },
  {
   "cell_type": "markdown",
   "id": "eae5c8c0-8b36-4db3-87b6-44e2f8c923d8",
   "metadata": {},
   "source": [
    "Gördüğünüz gibi, kullanıcının girdiği kelimenin uzunluğu kaç ise o sayı otomatik olarak range() fonksiyonuna atanıyor. Diyelim ki kullanıcı Ferhat ismini girmiş olsun. Bu kelimede toplam 6 karakter var. Dolayısıyla Python for satırını şöyle yorumlayacaktır:"
   ]
  },
  {
   "cell_type": "code",
   "execution_count": null,
   "id": "7cdecb8c-c7b2-401c-8950-fd12d00c9813",
   "metadata": {},
   "outputs": [],
   "source": [
    "for i in range(6):"
   ]
  },
  {
   "cell_type": "markdown",
   "id": "c523ec1f-e0f9-4aff-8936-a0bb7de16626",
   "metadata": {},
   "source": [
    "Python for döngüsünün ilk turunda şöyle bir işlem gerçekleştirir:\n",
    "\n"
   ]
  },
  {
   "cell_type": "code",
   "execution_count": null,
   "id": "5c9f7e86-a45c-468f-9e4c-0fd8ac172e9b",
   "metadata": {},
   "outputs": [],
   "source": [
    "print(\"isminizin {}. harfi: {}\".format(0, isim[0]))"
   ]
  },
  {
   "cell_type": "markdown",
   "id": "46fd8f78-fab8-43a3-af00-467fef424f44",
   "metadata": {},
   "source": [
    "İkinci turda ise şöyle bir işlem:"
   ]
  },
  {
   "cell_type": "code",
   "execution_count": null,
   "id": "5cbeb1ae-5bf5-4683-9af1-ea66a15f7247",
   "metadata": {},
   "outputs": [],
   "source": [
    "print(\"isminizin {}. harfi: {}\".format(1, isim[1]))\n"
   ]
  },
  {
   "cell_type": "markdown",
   "id": "7be2866e-b9b6-4171-bb41-2a2d3ca3439c",
   "metadata": {},
   "source": [
    "Bu döngü 6 sayısına gelene kadar devam eder. Burada i adlı değişkenin değerinin her döngüde nasıl değiştiğine dikkat edin. Python i adını verdiğimiz değişkene, for döngüsünün her turunda sırasıya 0, 1, 2, 3, 4 ve 5 sayılarını atayacağı için isim adlı değişkenin öğeleri isim[öğe_sırası] formülü sayesinde tek tek ekrana dökülecektir.\n",
    "\n",
    "Yalnız bu kodların çıktısında iki nokta dikkatinizi çekmiş olmalı. Birincisi, isminizin 0. harfi f gibi bir çıktıyı kullanıcılarınız yadırgayabilir. Çünkü ‘0. harf’ çok yapay duran bir ifade. Onun yerine ilk harfi ‘1. harf’ olarak adlandırmamız çok daha mantıklı olacaktır. Bunun için kodlarınıza şu basit eklemeyi yapabilirsiniz:\n",
    "\n"
   ]
  },
  {
   "cell_type": "code",
   "execution_count": 29,
   "id": "6ed15e54-667e-4c49-945d-fdf4d70bdc78",
   "metadata": {},
   "outputs": [
    {
     "name": "stdin",
     "output_type": "stream",
     "text": [
      "isminiz:  tore\n"
     ]
    },
    {
     "name": "stdout",
     "output_type": "stream",
     "text": [
      "isminizin 1. harfi: t\n",
      "isminizin 2. harfi: o\n",
      "isminizin 3. harfi: r\n",
      "isminizin 4. harfi: e\n"
     ]
    }
   ],
   "source": [
    "isim = input(\"isminiz: \")\n",
    "\n",
    "for i in range(len(isim)):\n",
    "    print(\"isminizin {}. harfi: {}\".format(i+1, isim[i]))"
   ]
  },
  {
   "cell_type": "markdown",
   "id": "1ef54685-2c53-41e7-91fd-93a91e768d1d",
   "metadata": {},
   "source": [
    "Burada ilk i değişkeninin değerini 1 sayı artırdık. Böylece 0 sayısı 1’e, 1 sayısı 2’ye, 2 sayısı 3’e… dönüşmüş oldu. Bu şekilde kullanıcılarınıza çok daha doğal görünen bir çıktı verebilmiş oluyorsunuz. Eğer bu işlemi yapmazsanız, kullanıcılarınızın ‘doğal görünmeyen’ bir çıktı almalarının yanısıra, programınızın verdiği çıktı kimi durumlarda epey yanıltıcı da olabilir…\n",
    "\n"
   ]
  },
  {
   "cell_type": "markdown",
   "id": "e9a357bb-b091-43a4-8702-46d25115a2ad",
   "metadata": {},
   "source": [
    "++++++++++Karakter Dizilerini Dilimlemek\n",
    "\n",
    "\n",
    "Bir önceki bölümde bir karakter dizisinin istediğimiz öğesini, o öğenin sırasını belirterek nasıl elde edebileceğimizi gördük. Bu bölümde de benzer bir şey yapacağız. Ama burada yapacağımız şey, bir önceki bölümde yaptığımız işleme göre biraz daha kapsamlı bir işlem olacak.\n",
    "\n",
    "Bu bölümde karakter dizilerini ‘dilimlemekten’ söz edeceğiz. Peki ‘dilimlemek’ derken neyi kastediyoruz? Aslında burada gerçek anlamda ‘karpuz gibi dilimlemekten’ söz ediyoruz… Şu örnek, ne demek istediğimizi daha net ortaya koyacaktır:"
   ]
  },
  {
   "cell_type": "code",
   "execution_count": 30,
   "id": "da6bbbb9-5363-4a55-bd7d-726abbd19fa1",
   "metadata": {},
   "outputs": [
    {
     "data": {
      "text/plain": [
       "'istihza'"
      ]
     },
     "execution_count": 30,
     "metadata": {},
     "output_type": "execute_result"
    }
   ],
   "source": [
    "site = \"www.istihza.com\"\n",
    "site[4:11]"
   ]
  },
  {
   "cell_type": "code",
   "execution_count": 31,
   "id": "7b34e455-d838-4b37-8256-eb28ecab77fe",
   "metadata": {},
   "outputs": [
    {
     "data": {
      "text/plain": [
       "'com'"
      ]
     },
     "execution_count": 31,
     "metadata": {},
     "output_type": "execute_result"
    }
   ],
   "source": [
    "site[12:15]"
   ]
  },
  {
   "cell_type": "code",
   "execution_count": 32,
   "id": "fbae078d-4fe6-449a-8b15-3bc4eddbcf52",
   "metadata": {},
   "outputs": [
    {
     "data": {
      "text/plain": [
       "'www'"
      ]
     },
     "execution_count": 32,
     "metadata": {},
     "output_type": "execute_result"
    }
   ],
   "source": [
    "site[0:3]"
   ]
  },
  {
   "cell_type": "markdown",
   "id": "a8ab031e-15ef-4dc8-82a1-e5d38c954978",
   "metadata": {},
   "source": [
    "Gördüğünüz gibi, karakter dizisine köşeli parantez içinde bazı değerler vererek bu karakter dizisini dilim dilim ayırdık. Peki bunu nasıl yaptık? Yukarıdaki örneklerde şöyle bir yapı gözümüze çarpıyor:\n",
    "\n",
    "\n",
    "karakter_dizisi[alınacak_ilk_öğenin_sırası:alınacak_son_öğenin_sırasının_bir_fazlası]\n",
    "\n",
    "Bu formülü çok basit bir örneğe uygulayalım:"
   ]
  },
  {
   "cell_type": "code",
   "execution_count": 33,
   "id": "1ac6e4ae-5639-426f-9da5-28a529391368",
   "metadata": {},
   "outputs": [
    {
     "data": {
      "text/plain": [
       "'ist'"
      ]
     },
     "execution_count": 33,
     "metadata": {},
     "output_type": "execute_result"
    }
   ],
   "source": [
    "karakter_dizisi = \"istanbul\"\n",
    "karakter_dizisi[0:3]"
   ]
  },
  {
   "cell_type": "markdown",
   "id": "0188678d-c6a0-4a30-9b3d-8ba863cc351d",
   "metadata": {},
   "source": [
    "Burada alacağımız ilk öğenin sıra numarası 0. Yani “istanbul” karakter dizisindeki ‘i’ harfi. Alacağımız son öğenin sıra numarasının 1 fazlası ise 3. Yani 2. sıradaki ‘t’ harfi. İşte karakter_dizisi[0:3] dediğimizde, Python 0. öğe ile 3. öğe arasında kalan bütün öğeleri bize verecektir. Bizim örneğimizde bu aralıktaki öğeler ‘i’, ‘s’ ve ‘t’ harfleri. Dolayısıyla Python bize ‘istanbul’ kelimesindeki ‘ist’ kısmını dilimleyip veriyor.\n",
    "\n",
    "Bu bilgileri kullanarak şöyle bir uygulama yazalım:"
   ]
  },
  {
   "cell_type": "code",
   "execution_count": 34,
   "id": "20d533d8-5da1-476e-bcfb-4cabb05a4a6c",
   "metadata": {},
   "outputs": [
    {
     "name": "stdout",
     "output_type": "stream",
     "text": [
      "site:  google\n",
      "site:  istihza\n",
      "site:  yahoo\n",
      "site:  gnu\n"
     ]
    }
   ],
   "source": [
    "site1 = \"www.google.com\"\n",
    "site2 = \"www.istihza.com\"\n",
    "site3 = \"www.yahoo.com\"\n",
    "site4 = \"www.gnu.org\"\n",
    "\n",
    "for isim in site1, site2, site3, site4:\n",
    "    print(\"site: \", isim[4:-4])"
   ]
  },
  {
   "cell_type": "markdown",
   "id": "c9d093ca-aa8b-495c-8ee0-e852bc0572f8",
   "metadata": {},
   "source": [
    "Bu örnek Python’da dilimleme işlemlerinin yapısı ve özellikleri hakkında bize epey bilgi veriyor. Gördüğünüz gibi, hem artı hem de eksi değerli sayıları kullanabiliyoruz. Önceki bölümden hatırlayacağınız gibi, eğer verilen sayı eksi değerliyse Python karakter dizisini sağdan sola (yani sondan başa doğru) okuyacaktır. Yukarıdaki örnekte isim[4:-4] yapısını kullanarak, site1, site2, site3, site4 adlı karakter dizilerini, ilk dört ve son dört karakterler hariç olacak şekilde dilimledik. Böylece elimizde ilk dört ve son dört karakter arasındaki bütün karakterler kalmış oldu. Yani “google”, “istihza”, “yahoo” ve “gnu”.\n",
    "\n",
    "Bütün bu anlattıklarımızı daha iyi anlayabilmek için bir örnek daha verelim:"
   ]
  },
  {
   "cell_type": "code",
   "execution_count": 36,
   "id": "fcd8d992-2a4a-4dab-abd6-4b5b27b6d066",
   "metadata": {},
   "outputs": [],
   "source": [
    "ata1 = \"Akıllı bizi arayıp sormaz deli bacadan akar!\"\n",
    "ata2 = \"Ağa güçlü olunca  kul suçlu olur!\"\n",
    "ata3 = \"Avcı ne kadar hile bilirse ayı da o kadar yol bilir!\"\n",
    "ata4 = \"Lafla pilav pişse deniz kadar yağ benden!\"\n",
    "ata5 = \"Zenginin gönlü oluncaya kadar fukaranın canı çıkar!\""
   ]
  },
  {
   "cell_type": "markdown",
   "id": "ac0fb33d-6144-4608-a4ba-ef439612ceda",
   "metadata": {},
   "source": [
    "Burada beş adet atasözü verdik. Bizim görevimiz, bu atasözlerinin sonunda bulunan ünlem işaretlerini ortadan kaldırmak:\n",
    "\n"
   ]
  },
  {
   "cell_type": "code",
   "execution_count": 37,
   "id": "2edbb429-16a8-4cb0-9e4c-456863371d16",
   "metadata": {},
   "outputs": [
    {
     "name": "stdout",
     "output_type": "stream",
     "text": [
      "Akıllı bizi arayıp sormaz deli bacadan akar\n",
      "Ağa güçlü olunca  kul suçlu olur\n",
      "Avcı ne kadar hile bilirse ayı da o kadar yol bilir\n",
      "Lafla pilav pişse deniz kadar yağ benden\n",
      "Zenginin gönlü oluncaya kadar fukaranın canı çıkar\n"
     ]
    }
   ],
   "source": [
    "for ata in ata1, ata2, ata3, ata4, ata5:\n",
    "    print(ata[0:-1])"
   ]
  },
  {
   "cell_type": "markdown",
   "id": "cdebcd0c-85f7-462c-814e-4d3b322b1bc2",
   "metadata": {},
   "source": [
    "Burada yaptığımız şey şu: ata1, ata2, ata3, ata4 ve ata5 adlı değişkenlerin her birini ata olarak adlandırdıktan sonra ata adlı değişkenin en başından en sonuna kadar olan kısmı dilimleyip aldık. Yani ata[0] ile ata[-1] arasında kalan bütün karakterleri elde etmiş olduk. Peki bu ünlem işaretlerini kaldırdıktan sonra bunların yerine birer nokta koymak istersek ne yapacağız?\n",
    "\n",
    "O da çok basit bir işlem:"
   ]
  },
  {
   "cell_type": "code",
   "execution_count": 38,
   "id": "adf677cf-0dcc-4a54-9336-8b27e3a64ff7",
   "metadata": {},
   "outputs": [
    {
     "name": "stdout",
     "output_type": "stream",
     "text": [
      "Akıllı bizi arayıp sormaz deli bacadan akar.\n",
      "Ağa güçlü olunca  kul suçlu olur.\n",
      "Avcı ne kadar hile bilirse ayı da o kadar yol bilir.\n",
      "Lafla pilav pişse deniz kadar yağ benden.\n",
      "Zenginin gönlü oluncaya kadar fukaranın canı çıkar.\n"
     ]
    }
   ],
   "source": [
    "for ata in ata1, ata2, ata3, ata4, ata5:\n",
    "    print(ata[0:-1] + \".\")"
   ]
  },
  {
   "cell_type": "markdown",
   "id": "353a4fd5-1940-484b-b915-44787c634c31",
   "metadata": {},
   "source": [
    "Gördüğünüz gibi, son karakter olan ünlem işaretini attıktan sonra onun yerine bir nokta işareti koymak için yaptığımız tek şey, dilimlediğimiz karakter dizisine, artı işareti (+) yardımıyla bir . karakteri eklemekten ibarettir.\n",
    "\n",
    "Böylece karakter dizilerini nasıl dilimleyeceğimizi öğrenmiş olduk. Bu konuyu kapatmadan önce dilimlemeye ilişkin bazı ayrıntılardan söz edelim. Diyelim ki elimizde şöyle bir karakter dizisi var:"
   ]
  },
  {
   "cell_type": "code",
   "execution_count": 39,
   "id": "727a2e65-42d3-46b5-ac2e-40d76f796112",
   "metadata": {},
   "outputs": [],
   "source": [
    "kardiz = \"Sana Gül Bahçesi Vadetmedim\""
   ]
  },
  {
   "cell_type": "markdown",
   "id": "4aca0084-a2fd-44e4-85cb-b6a0000adf29",
   "metadata": {},
   "source": [
    "Bu karakter dizisi içinden sadece ‘Sana’ kısmını dilimlemek için şöyle bir şey yazabileceğimizi biliyorsunuz:\n",
    "\n"
   ]
  },
  {
   "cell_type": "code",
   "execution_count": 40,
   "id": "59dee998-f407-4f1c-bead-cc0dd398a08a",
   "metadata": {},
   "outputs": [
    {
     "data": {
      "text/plain": [
       "'Sana'"
      ]
     },
     "execution_count": 40,
     "metadata": {},
     "output_type": "execute_result"
    }
   ],
   "source": [
    "kardiz[0:4]\n"
   ]
  },
  {
   "cell_type": "markdown",
   "id": "5720e159-3160-43d5-af70-f7af3dac5140",
   "metadata": {},
   "source": [
    "Burada 0. karakterden 4. karaktere kadar olan kısmı dilimlemiş oluyoruz. Python bize bu tür durumlarda şöyle bir kolaylık sağlar: Eğer karakter dizisi içinden alınan ilk karakterin sırasını gösteren sayı 0 ise, bu sayıyı belirtmesek de olur. Yani kardiz[0:4] kodunu şöyle de yazabiliriz:"
   ]
  },
  {
   "cell_type": "code",
   "execution_count": 41,
   "id": "58728f22-578c-45cd-bc1a-0ea4ab9e74ce",
   "metadata": {},
   "outputs": [
    {
     "data": {
      "text/plain": [
       "'Sana'"
      ]
     },
     "execution_count": 41,
     "metadata": {},
     "output_type": "execute_result"
    }
   ],
   "source": [
    "kardiz[:4]"
   ]
  },
  {
   "cell_type": "markdown",
   "id": "aa7efccc-5eec-4c42-977a-c0c80cf6f6b4",
   "metadata": {},
   "source": [
    "Gördüğünüz gibi, ilk sıra sayısını yazmazsak Python ilk sayıyı 0 kabul ediyor.\n",
    "\n",
    "Şimdi de aynı karakter dizisi içindeki ‘Vadetmedim’ kısmını dilimlemeye çalışalım:"
   ]
  },
  {
   "cell_type": "code",
   "execution_count": 42,
   "id": "520f2857-7184-4d23-937a-badca9d03a31",
   "metadata": {},
   "outputs": [
    {
     "data": {
      "text/plain": [
       "'Vadetmedim'"
      ]
     },
     "execution_count": 42,
     "metadata": {},
     "output_type": "execute_result"
    }
   ],
   "source": [
    "kardiz[17:27]\n"
   ]
  },
  {
   "cell_type": "markdown",
   "id": "f20e88b9-9778-425f-9df4-6003678a49ca",
   "metadata": {},
   "source": [
    "Burada da 17. karakter ile 27. karakter arasında kalan bütün karakterleri dilimledik. Tıpkı, alacağımız ilk karakterin sırası 0 olduğunda bu sayıyı belirtmemize gerek olmadığı gibi, alacağımız son karakterin sırası karakter dizisinin sonuncu karakterine denk geliyorsa o sayıyı da yazmamıza gerek yok. Yani yukarıdaki kardiz[17:27] kodunu şöyle de yazabiliriz:"
   ]
  },
  {
   "cell_type": "code",
   "execution_count": 43,
   "id": "80285e84-e682-4913-b303-943a6c0d308b",
   "metadata": {},
   "outputs": [
    {
     "data": {
      "text/plain": [
       "'Vadetmedim'"
      ]
     },
     "execution_count": 43,
     "metadata": {},
     "output_type": "execute_result"
    }
   ],
   "source": [
    "kardiz[17:]"
   ]
  },
  {
   "cell_type": "markdown",
   "id": "78f90e7a-dbd5-422d-97b3-c7a4dc61384f",
   "metadata": {},
   "source": [
    "Python’daki bu dilimleme özelliğini kullanarak karakter dizilerini istediğiniz gibi eğip bükebilir, evirip çevirebilirsiniz.\n",
    "\n",
    "Python’daki bu dilimleme yapısı ilk bakışta gözünüze biraz karmaşıkmış gibi görünebilir. Ama aslında hiç de öyle değildir. Bu yapının mantığını bir kez kavradıktan sonra kodlarınızı hatasız bir şekilde yazabilirsiniz.\n",
    "\n",
    "Dilimleme yapısını daha iyi anlayabilmek için kendi kendinize bazı denemeler yapmanızı tavsiye ederim. Bu yapının nasıl çalıştığını anlamanın en iyi yolu bol bol örnek kod yazmaktır."
   ]
  },
  {
   "cell_type": "markdown",
   "id": "12955d15-b5e6-4e77-bde7-94b858482d90",
   "metadata": {},
   "source": [
    "+++++++++++++++++Karakter Dizilerini Ters Çevirmek\n",
    "\n",
    "\n",
    "Eğer amacınız bir karakter dizisini ters çevirmek, yani karakter dizisi içindeki her bir öğeyi tersten yazdırmaksa biraz önce öğrendiğimiz dilimleme yöntemini kullanabilirsiniz. Dikkatlice bakın:\n",
    "\n"
   ]
  },
  {
   "cell_type": "code",
   "execution_count": 44,
   "id": "bb92fa26-55f5-4106-8e94-d5106808dc2a",
   "metadata": {},
   "outputs": [
    {
     "data": {
      "text/plain": [
       "'midemtedaV iseçhaB lüG anaS'"
      ]
     },
     "execution_count": 44,
     "metadata": {},
     "output_type": "execute_result"
    }
   ],
   "source": [
    "kardiz[::-1]"
   ]
  },
  {
   "cell_type": "markdown",
   "id": "064d0b86-321e-44d5-ab97-4bfe54ce6dd7",
   "metadata": {},
   "source": [
    "Gördüğünüz gibi, “Sana Gül Bahçesi Vadetmedim” adlı karakter dizisi içindeki bütün karakterler sondan başa doğru ekrana dizildi.\n",
    "\n",
    "Aslında bu komutla Python’a şöyle bir emir vermiş oluyoruz:\n",
    "\n",
    "kardiz değişkeni içindeki bütün karakterleri, en son karakterden ilk karaktere kadar sondan başa doğru tek tek ekrana yazdır!\n",
    "\n",
    "Bildiğiniz gibi, eğer almak istediğimiz karakter, dizi içindeki ilk karakterse bu karakterin dizi içindeki sırasını belirtmemize gerek yok. Aynı şekilde, eğer almak istediğimiz karakter, dizi içindeki son karakterse, bu karakterin de dizi içindeki sırasını belirtmemize gerek yok. İşte yukarıdaki örnekte bu kuraldan yararlandık.\n",
    "\n",
    "Eğer bir karakter dizisinin tamamının değil de, sadece belli bir kısmının ters çevrilmiş halini elde etmek istiyorsanız elbette yapmanız gereken şey, almak istediğiniz ilk ve son karakterlerin sırasını parantez içinde belirtmek olacaktır. Mesela yukarıdaki karakter dizisinde sadece ‘Gül’ kelimesini ters çevirmek istersek şöyle bir şey yazabiliriz:"
   ]
  },
  {
   "cell_type": "code",
   "execution_count": 45,
   "id": "ce21aed5-10d0-465c-8c59-b6c067fcd93d",
   "metadata": {},
   "outputs": [
    {
     "data": {
      "text/plain": [
       "'lüG'"
      ]
     },
     "execution_count": 45,
     "metadata": {},
     "output_type": "execute_result"
    }
   ],
   "source": [
    "kardiz[7:4:-1]"
   ]
  },
  {
   "cell_type": "markdown",
   "id": "4889b15f-3d03-4c1b-8582-b9146474a685",
   "metadata": {},
   "source": [
    "Yukarıdaki örnek, karakter dizisi dilimlemeye ilişkin olarak bize bazı başka ipuçları da veriyor. Gördüğünüz gibi, köşeli parantez içinde toplam üç adet parametre kullanabiliyoruz. Yani formülümüz şöyle:"
   ]
  },
  {
   "cell_type": "raw",
   "id": "7023a9a9-65c4-40df-a109-af80313011c6",
   "metadata": {},
   "source": [
    "kardiz[ilk_karakter:son_karakter:atlama_sayısı]"
   ]
  },
  {
   "cell_type": "markdown",
   "id": "8baad083-4278-4c09-ad9e-08f96272296b",
   "metadata": {},
   "source": [
    "Bir örnek verelim:\n",
    "\n"
   ]
  },
  {
   "cell_type": "code",
   "execution_count": 46,
   "id": "56f95c8a-9d18-469f-8ee6-5a8ae44f4683",
   "metadata": {},
   "outputs": [
    {
     "data": {
      "text/plain": [
       "'istanbul'"
      ]
     },
     "execution_count": 46,
     "metadata": {},
     "output_type": "execute_result"
    }
   ],
   "source": [
    "kardiz = \"istanbul\"\n",
    "kardiz[0:8:1]\n"
   ]
  },
  {
   "cell_type": "markdown",
   "id": "5c7070c4-f8ef-46d3-add8-150cf895243a",
   "metadata": {},
   "source": [
    "Burada “istanbul” adlı karakter dizisinin bütün öğelerini birer birer ekrana döktük. Bir de şuna bakalım:\n",
    "\n"
   ]
  },
  {
   "cell_type": "code",
   "execution_count": 47,
   "id": "e87932a7-0d06-42fd-a8cd-bdaec5e2db95",
   "metadata": {},
   "outputs": [
    {
     "data": {
      "text/plain": [
       "'itnu'"
      ]
     },
     "execution_count": 47,
     "metadata": {},
     "output_type": "execute_result"
    }
   ],
   "source": [
    "kardiz[0:8:2]"
   ]
  },
  {
   "cell_type": "markdown",
   "id": "23e4fe7a-d12a-4ad6-ae20-24d7be566a37",
   "metadata": {},
   "source": [
    "Burada ise “istanbul” adlı karakter dizisinin bütün öğelerini ikişer ikişer atlayarak ekrana döktük. Yani bir karakter yazıp bir karakter atladık (istanbul).\n",
    "\n",
    "Python’ın kuralları gereğince yukarıdaki kodu şöyle yazabileceğimizi de biliyorsunuz:"
   ]
  },
  {
   "cell_type": "code",
   "execution_count": 48,
   "id": "5ceb16ab-abb6-47f2-9cdc-7817064712ad",
   "metadata": {},
   "outputs": [
    {
     "data": {
      "text/plain": [
       "'itnu'"
      ]
     },
     "execution_count": 48,
     "metadata": {},
     "output_type": "execute_result"
    }
   ],
   "source": [
    "kardiz[::2]"
   ]
  },
  {
   "cell_type": "markdown",
   "id": "77741fbb-d37e-435d-9009-72abf0aa5742",
   "metadata": {},
   "source": [
    "Eğer karakter dizisini ters çevirmek istiyorsak, yukarıdaki örneği eksi değerli bir atlama sayısı ile yazmamız gerekir:"
   ]
  },
  {
   "cell_type": "code",
   "execution_count": 49,
   "id": "2bd38e14-d552-4ff6-b5c3-4e2a689aeb55",
   "metadata": {},
   "outputs": [
    {
     "data": {
      "text/plain": [
       "'lubnatsi'"
      ]
     },
     "execution_count": 49,
     "metadata": {},
     "output_type": "execute_result"
    }
   ],
   "source": [
    "kardiz[::-1]"
   ]
  },
  {
   "cell_type": "code",
   "execution_count": 50,
   "id": "7d74514f-b366-4863-a21e-3dfdd2e71a95",
   "metadata": {},
   "outputs": [
    {
     "data": {
      "text/plain": [
       "'lbas'"
      ]
     },
     "execution_count": 50,
     "metadata": {},
     "output_type": "execute_result"
    }
   ],
   "source": [
    "kardiz[::-2]"
   ]
  },
  {
   "cell_type": "markdown",
   "id": "6430e855-35e5-4ebe-b8a5-cfe91ca33dd2",
   "metadata": {},
   "source": [
    "Dediğimiz gibi, yukarıdaki yöntemi kullanarak karakter dizilerini ters çevirebilirsiniz. Ama eğer isterseniz reversed() adlı bir fonksiyondan da yararlanabiliriz.\n",
    "\n",
    "Gelelim bu fonksiyonun nasıl kullanılacağına… Önce şöyle bir deneme yapalım:"
   ]
  },
  {
   "cell_type": "code",
   "execution_count": 51,
   "id": "c64b9490-5248-4f9d-9974-7f2f7e5e12cb",
   "metadata": {},
   "outputs": [
    {
     "data": {
      "text/plain": [
       "<reversed at 0x77bdf45e53c0>"
      ]
     },
     "execution_count": 51,
     "metadata": {},
     "output_type": "execute_result"
    }
   ],
   "source": [
    "reversed(\"Sana Gül Bahçesi Vadetmedim\")"
   ]
  },
  {
   "cell_type": "markdown",
   "id": "275e918b-f5e5-4cbc-a8b5-f19f371a9d4c",
   "metadata": {},
   "source": [
    "Gördüğünüz gibi, bu fonksiyonu düz bir şekilde kullandığımızda bize bir ‘reversed’ nesnesi vermekle yetiniyor. Buna benzer bir olguyla range() fonksiyonunda da karşılaşmıştık:"
   ]
  },
  {
   "cell_type": "code",
   "execution_count": 52,
   "id": "f9f0646b-16a4-46c4-b0bc-04c0a8e01e80",
   "metadata": {},
   "outputs": [
    {
     "data": {
      "text/plain": [
       "range(0, 10)"
      ]
     },
     "execution_count": 52,
     "metadata": {},
     "output_type": "execute_result"
    }
   ],
   "source": [
    "range(10)"
   ]
  },
  {
   "cell_type": "markdown",
   "id": "b6bcca69-8d34-4a01-9bb7-421de75afc85",
   "metadata": {},
   "source": [
    "Hatırlarsanız, range(10) gibi bir komutun içeriğini görebilmek için bu komut üzerinde bir for döngüsü kurmamız gerekiyordu:"
   ]
  },
  {
   "cell_type": "code",
   "execution_count": 59,
   "id": "5999fe5b-6e09-446c-90ac-256fc4118010",
   "metadata": {},
   "outputs": [
    {
     "name": "stdout",
     "output_type": "stream",
     "text": [
      "0\n",
      "1\n",
      "2\n",
      "3\n",
      "4\n",
      "5\n",
      "6\n",
      "7\n",
      "8\n",
      "9\n"
     ]
    }
   ],
   "source": [
    "for i in range(10):\n",
    "    print(i)"
   ]
  },
  {
   "cell_type": "markdown",
   "id": "b169a036-aaf2-4105-ac6d-03abedeb24e5",
   "metadata": {},
   "source": [
    "veya"
   ]
  },
  {
   "cell_type": "code",
   "execution_count": 60,
   "id": "ad920efd-ce40-4160-aba3-c110965183b3",
   "metadata": {},
   "outputs": [
    {
     "name": "stdout",
     "output_type": "stream",
     "text": [
      "0 1 2 3 4 5 6 7 8 9\n"
     ]
    }
   ],
   "source": [
    "print(*range(10))"
   ]
  },
  {
   "cell_type": "markdown",
   "id": "c209dd3a-8c22-44ca-b7cd-3152b04d05cc",
   "metadata": {},
   "source": [
    "Aynı durum reversed() fonksiyonu için de geçerlidir:"
   ]
  },
  {
   "cell_type": "code",
   "execution_count": 61,
   "id": "5962291d-a957-49be-ad6c-ec8d23afa1ed",
   "metadata": {},
   "outputs": [
    {
     "name": "stdout",
     "output_type": "stream",
     "text": [
      "midemtedav isechab lug anas"
     ]
    }
   ],
   "source": [
    "for i in reversed(\"sana gul bahcesi vadetmedim\"):\n",
    "    print(i, end=\"\")"
   ]
  },
  {
   "cell_type": "markdown",
   "id": "522a666d-ce52-4f9c-bb60-e35966fae3c2",
   "metadata": {},
   "source": [
    "veya"
   ]
  },
  {
   "cell_type": "code",
   "execution_count": 62,
   "id": "c9a31a69-a68d-4d95-8e28-b38101f3637d",
   "metadata": {},
   "outputs": [
    {
     "name": "stdout",
     "output_type": "stream",
     "text": [
      "midemtedav isechab lug anas\n"
     ]
    }
   ],
   "source": [
    "print(*reversed(\"sana gul bahcesi vadetmedim\"), sep=\"\")"
   ]
  },
  {
   "cell_type": "markdown",
   "id": "684b52f0-c65f-45a2-ab26-941dd98e7045",
   "metadata": {},
   "source": [
    "Dilimleme veya reversed() fonksiyonunu kullanma yöntemlerinden hangisi kolayınıza geliyorsa onu tercih edebilirsiniz."
   ]
  },
  {
   "cell_type": "markdown",
   "id": "ac913602-b7ef-4d63-9793-9c0a2f178a7f",
   "metadata": {},
   "source": [
    "+++++++++++Karakter Dizilerini Alfabe Sırasına Dizmek\n",
    "\n",
    "\n",
    "\n",
    "Python’da karakter dizilerinin öğelerine tek tek ulaşma, öğeleri dilimleme ve ters çevirmenin yanısıra, bu öğeleri alfabe sırasına dizmek de mümkündür. Bunun için sorted() adlı bir fonksiyondan yararlanacağız:"
   ]
  },
  {
   "cell_type": "code",
   "execution_count": 63,
   "id": "b4b79f4a-ee1d-47a6-a0a3-cd8042af6e8a",
   "metadata": {},
   "outputs": [
    {
     "data": {
      "text/plain": [
       "['a', 'i', 'k', 'p', 't']"
      ]
     },
     "execution_count": 63,
     "metadata": {},
     "output_type": "execute_result"
    }
   ],
   "source": [
    "sorted(\"kitap\")"
   ]
  },
  {
   "cell_type": "markdown",
   "id": "2675fe78-9876-4c1c-b60d-7b8f29077c49",
   "metadata": {},
   "source": [
    "Nasıl input() fonksiyonu çıktı olarak bir karakter dizisi ve len() fonksiyonu bir sayı veriyorsa, sorted() fonksiyonu da bize çıktı olarak, birkaç bölüm sonra inceleyeceğimiz ‘liste’ adlı bir veri tipi verir.\n",
    "\n",
    "Ama tabii eğer isterseniz bu çıktıyı alıştığınız biçimde alabilirsiniz:"
   ]
  },
  {
   "cell_type": "code",
   "execution_count": 64,
   "id": "d8e6cdb7-f91d-4b69-930a-6455ed5459b5",
   "metadata": {},
   "outputs": [
    {
     "name": "stdout",
     "output_type": "stream",
     "text": [
      "aikpt\n"
     ]
    }
   ],
   "source": [
    "print(*sorted(\"kitap\"), sep=\"\")"
   ]
  },
  {
   "cell_type": "markdown",
   "id": "5bde8a7b-5050-4940-b702-cec059b70b8a",
   "metadata": {},
   "source": [
    "…veya:"
   ]
  },
  {
   "cell_type": "code",
   "execution_count": null,
   "id": "c10b5193-02b7-4c4d-874f-582739c5f154",
   "metadata": {},
   "outputs": [],
   "source": [
    "for i in sorted(\"kitap\"):\n",
    "    print(i, end=\"\")"
   ]
  },
  {
   "cell_type": "markdown",
   "id": "59f36990-8073-4e36-bd00-3c243b4f5e57",
   "metadata": {},
   "source": [
    "Bir örnek daha verelim:"
   ]
  },
  {
   "cell_type": "code",
   "execution_count": 65,
   "id": "b38d17a1-42c8-4036-89bb-824575f01df9",
   "metadata": {},
   "outputs": [
    {
     "data": {
      "text/plain": [
       "['a', 'e', 'l', 'm']"
      ]
     },
     "execution_count": 65,
     "metadata": {},
     "output_type": "execute_result"
    }
   ],
   "source": [
    "sorted(\"elma\")"
   ]
  },
  {
   "cell_type": "markdown",
   "id": "58252dc5-536b-4c23-a9c0-d80d2c57f6ff",
   "metadata": {},
   "source": [
    "Gördüğünüz gibi, sorted() fonksiyonunu kullanmak çok kolay, ama aslında bu fonksiyonun önemli bir problemi var. Dikkatlice bakın:"
   ]
  },
  {
   "cell_type": "code",
   "execution_count": 66,
   "id": "e1bfaf91-7e7f-46a9-a534-4182f7b5d577",
   "metadata": {},
   "outputs": [
    {
     "data": {
      "text/plain": [
       "['e', 'i', 'k', 'ç', 'ç']"
      ]
     },
     "execution_count": 66,
     "metadata": {},
     "output_type": "execute_result"
    }
   ],
   "source": [
    "sorted(\"çiçek\")"
   ]
  },
  {
   "cell_type": "markdown",
   "id": "1bb3585d-3bb5-4ac3-a9d5-b683a5d16f6d",
   "metadata": {},
   "source": [
    "Burada Türkçe bir karakter olan ‘ç’ harfinin düzgün sıralanamadığını görüyoruz. Bu sorun bütün Türkçe karakterler için geçerlidir.\n",
    "\n",
    "Bu sorunu aşmak için şöyle bir yöntem deneyebilirsiniz:"
   ]
  },
  {
   "cell_type": "code",
   "execution_count": null,
   "id": "f64ae21c-ba8a-4efb-9197-f461bc36f86b",
   "metadata": {},
   "outputs": [],
   "source": [
    "import locale\n",
    "locale.setlocale(locale.LC_ALL, \"Turkish_Turkey.1254\") #Windows için\n",
    "locale.setlocale(locale.LC_ALL, \"tr_TR\") #GNU/Linux için\n",
    "sorted(\"çiçek\", key=locale.strxfrm)"
   ]
  },
  {
   "cell_type": "markdown",
   "id": "2972c546-7d97-4dd0-814f-211929f68de6",
   "metadata": {},
   "source": [
    "Burada locale adlı bir modülden yararlandık. locale de tıpkı sys, os ve keyword gibi bir modül olup, içinde pek çok değişken ve fonksiyon barındırır.\n",
    "\n",
    "locale modülü bize belli bir dilin kendine has özelliklerine göre programlama yapma imkanı verir. Örneğin bu modülünün içinde yer alan fonksiyonlardan biri olan setlocale() fonksiyonunu kullanarak, programımızda öntanımlı dil ayarlarına uygun bir şekilde programlama yapma olanağı sağlarız.\n",
    "\n",
    "Bu modülü ilerleyen derslerde daha ayrıntılı bir şekilde inceleyeceğiz. O yüzden locale modülünü bir kenara bırakıp yolumuza devam edelim.\n",
    "\n",
    "Yukarıdaki örnekte Türkçe karakterleri doğru sıralayabilmek için sorted() fonksiyonunu nasıl kullandığımıza dikkat edin:"
   ]
  },
  {
   "cell_type": "code",
   "execution_count": 69,
   "id": "f3a8f13b-eef8-4173-b863-f2fd0d8db004",
   "metadata": {},
   "outputs": [
    {
     "data": {
      "text/plain": [
       "['e', 'i', 'k', 'ç', 'ç']"
      ]
     },
     "execution_count": 69,
     "metadata": {},
     "output_type": "execute_result"
    }
   ],
   "source": [
    "sorted(\"çiçek\", key=locale.strxfrm)"
   ]
  },
  {
   "cell_type": "markdown",
   "id": "5424d43d-70f7-4f11-ba01-bec69e17fb8c",
   "metadata": {},
   "source": [
    "Burada sorted() metodunun key adlı özel bir parametresine locale.strxfrm değerini vererek Türkçeye duyarlı bir sıralama yapılmasını sağladık. Yukarıdaki yöntem pek çok durumda işinize yarar. Ancak bu yöntem tek bir yerde işe yaramaz. Dikkatlice bakın:"
   ]
  },
  {
   "cell_type": "code",
   "execution_count": 70,
   "id": "ed65e047-ed1e-42e6-9a8e-b98a73f724df",
   "metadata": {},
   "outputs": [
    {
     "data": {
      "text/plain": [
       "['a', 'd', 'f', 'g', 'h', 'i', 'k', 'ı']"
      ]
     },
     "execution_count": 70,
     "metadata": {},
     "output_type": "execute_result"
    }
   ],
   "source": [
    "sorted(\"afgdhkıi\", key=locale.strxfrm)"
   ]
  },
  {
   "cell_type": "markdown",
   "id": "584a3181-96f4-4b00-bb88-c08e9fa3747b",
   "metadata": {},
   "source": [
    "Gördüğünüz gibi, bu yöntem ‘i’ harfini ‘ı’ harfinden önce getiriyor. Halbuki Türk alfabesine göre bunun tersi olmalıydı. Buna benzer problemlerle İngiliz alfabesi dışındaki pek çok alfabede karşılaşırsınız. Dolayısıyla bu sadece Türkçeye özgü bir sorun değil.\n",
    "\n",
    "Bu soruna karşı şöyle bir kod da yazabilirsiniz:"
   ]
  },
  {
   "cell_type": "code",
   "execution_count": 71,
   "id": "c755b3e3-798f-4ebf-aafe-bb054b04b955",
   "metadata": {},
   "outputs": [
    {
     "data": {
      "text/plain": [
       "['a', 'd', 'f', 'g', 'h', 'ı', 'i', 'k']"
      ]
     },
     "execution_count": 71,
     "metadata": {},
     "output_type": "execute_result"
    }
   ],
   "source": [
    "harfler = \"abcçdefgğhıijklmnoöprsştuüvyz\"\n",
    "çevrim = {i: harfler.index(i) for i in harfler}\n",
    "sorted(\"afgdhkıi\", key=çevrim.get)\n"
   ]
  },
  {
   "cell_type": "markdown",
   "id": "c23dd337-6f8a-47b5-90cd-74a5bafd87a2",
   "metadata": {},
   "source": [
    "Gördüğünüz gibi burada ilk iş olarak Türk alfabesindeki bütün harfleri harfler adlı bir değişkene atadık. Daha sonra ise şöyle bir kod yazdık:"
   ]
  },
  {
   "cell_type": "code",
   "execution_count": 72,
   "id": "9dba5601-da53-4145-9d82-87147446b0e5",
   "metadata": {},
   "outputs": [],
   "source": [
    "çevrim = {i: harfler.index(i) for i in harfler}\n"
   ]
  },
  {
   "cell_type": "markdown",
   "id": "a1420f4a-6599-4261-bee1-ce3a906b5a62",
   "metadata": {},
   "source": [
    "Burada henüz öğrenmediğimiz bir yapı var, ama ne olup bittiğini daha iyi anlamak için bu çevrim değişkeninin içeriğini kontrol etmeyi deneyebilirsiniz:\n",
    "\n"
   ]
  },
  {
   "cell_type": "code",
   "execution_count": 73,
   "id": "1eca7f30-c7ca-4227-8e2f-12ee9cf75760",
   "metadata": {},
   "outputs": [
    {
     "name": "stdout",
     "output_type": "stream",
     "text": [
      "{'a': 0, 'b': 1, 'c': 2, 'ç': 3, 'd': 4, 'e': 5, 'f': 6, 'g': 7, 'ğ': 8, 'h': 9, 'ı': 10, 'i': 11, 'j': 12, 'k': 13, 'l': 14, 'm': 15, 'n': 16, 'o': 17, 'ö': 18, 'p': 19, 'r': 20, 's': 21, 'ş': 22, 't': 23, 'u': 24, 'ü': 25, 'v': 26, 'y': 27, 'z': 28}\n"
     ]
    }
   ],
   "source": [
    "print(çevrim)"
   ]
  },
  {
   "cell_type": "markdown",
   "id": "4de77136-2184-4ebd-a7c2-492c184a2f09",
   "metadata": {},
   "source": [
    "Bu çıktıya dikkatlice bakarsanız, her bir harfin bir sayıya karşılık gelecek şekilde birbiriyle eşleştirildiğini göreceksiniz. Mesela ‘ğ’ harfi 8 ile, ‘f’ harfi 6 ile eşleşmiş. Yine dikkatlice bakarsanız, biraz önce bize sorun çıkaran ‘ı’ harfinin 10, ‘i’ harfinin ise 11 ile eşleştiğini göreceksiniz. Evet, doğru tahmin ettiniz. Harfleri sayılarla eşleştirerek, Python’ın harfler yerine sayıları sıralamasını sağlayacağız. Bunu da yine key parametresini kullanarak yapıyoruz:"
   ]
  },
  {
   "cell_type": "code",
   "execution_count": 74,
   "id": "5f8f10ba-765d-4ae2-8cd8-79a1f12695bc",
   "metadata": {},
   "outputs": [
    {
     "data": {
      "text/plain": [
       "['a', 'd', 'f', 'g', 'h', 'ı', 'i', 'k']"
      ]
     },
     "execution_count": 74,
     "metadata": {},
     "output_type": "execute_result"
    }
   ],
   "source": [
    "sorted(\"afgdhkıi\", key=çevrim.get)"
   ]
  },
  {
   "cell_type": "markdown",
   "id": "9e0cfd6d-c5b2-472e-aba9-3363838258fb",
   "metadata": {},
   "source": [
    "Bu yapıyı daha iyi anlayabilmek için kendi kendinize bazı denemeler yapın. Eğer burada olan biteni anlamakta zorlanıyorsanız hiç endişe etmeyin. Bir-iki bölüm sonra bunları da kolayca anlayabilecek duruma geleceksiniz. Bizim burada bu bilgileri vermekteki amacımız, Python’ın Türkçe harflerle sıralama işlemini sorunsuz bir şekilde yapabileceğini göstermektir. Bu esnada bir-iki yeni bilgi kırıntısı da kapmanızı sağlayabildiysek kendimizi başarılı sayacağız.\n",
    "\n"
   ]
  },
  {
   "cell_type": "markdown",
   "id": "8b971c46-d4a2-4f84-ad9f-e7130c3f51c4",
   "metadata": {},
   "source": [
    "+++++++++++++++++++Karakter Dizileri Üzerinde Değişiklik Yapmak\n",
    "\n",
    "\n",
    "Bu kısımda karakter dizilerinin çok önemli bir özelliğinden söz edeceğiz. Konumuz karakter dizileri üzerinde değişiklik yapmak. İsterseniz neyle karşı karşıya olduğumuzu anlayabilmek için çok basit bir örnek verelim.\n",
    "\n",
    "Elimizde şöyle bir karakter dizisi olduğunu düşünün:\n",
    "\n"
   ]
  },
  {
   "cell_type": "code",
   "execution_count": 76,
   "id": "354577d1-be01-4630-933f-70d550504cb7",
   "metadata": {},
   "outputs": [],
   "source": [
    "meyve = \"elma\""
   ]
  },
  {
   "cell_type": "markdown",
   "id": "7c54e192-9e9e-4ac7-a9e3-7ef3b3c3180d",
   "metadata": {},
   "source": [
    "Amacımız bu karakter dizisinin ilk harfini büyütmek olsun.\n",
    "\n",
    "Bunun için dilimleme yönteminden yararlanabileceğimizi biliyorsunuz:\n",
    "\n"
   ]
  },
  {
   "cell_type": "code",
   "execution_count": 77,
   "id": "01b46a21-4300-41bd-9900-526e8856c08f",
   "metadata": {},
   "outputs": [
    {
     "data": {
      "text/plain": [
       "'Elma'"
      ]
     },
     "execution_count": 77,
     "metadata": {},
     "output_type": "execute_result"
    }
   ],
   "source": [
    "\"E\" + meyve[1:]\n"
   ]
  },
  {
   "cell_type": "markdown",
   "id": "d083ae93-a8fe-4c83-bb63-8f9a0f359dc2",
   "metadata": {},
   "source": [
    "Burada “E” harfi ile, meyve değişkeninin ilk harfi dışında kalan bütün harfleri birleştirdik.\n",
    "\n",
    "Bir örnek daha verelim.\n",
    "\n",
    "Elimizde şöyle dört adet internet sitesi adresi olsun:"
   ]
  },
  {
   "cell_type": "code",
   "execution_count": 78,
   "id": "e64d8dd7-1b15-4c05-b19c-296b3d2b6b69",
   "metadata": {},
   "outputs": [],
   "source": [
    "site1 = \"www.google.com\"\n",
    "site2 = \"www.istihza.com\"\n",
    "site3 = \"www.yahoo.com\"\n",
    "site4 = \"www.gnu.org\""
   ]
  },
  {
   "cell_type": "markdown",
   "id": "3d35f815-6b9e-4e2d-8ed7-4dfe2078e2b6",
   "metadata": {},
   "source": [
    "Bizim amacımız bu adreslerin her birinin baş tarafına http:// ifadesini eklemek. Bunun için de yine karakter dizisi birleştirme işlemlerinden yararlanabiliriz. Dikkatlice inceleyin:"
   ]
  },
  {
   "cell_type": "code",
   "execution_count": 79,
   "id": "e7af0443-742a-4428-9468-6b46ad88e963",
   "metadata": {},
   "outputs": [
    {
     "name": "stdout",
     "output_type": "stream",
     "text": [
      "http://www.google.com\n",
      "http://www.istihza.com\n",
      "http://www.yahoo.com\n",
      "http://www.gnu.org\n"
     ]
    }
   ],
   "source": [
    "site1 = \"www.google.com\"\n",
    "site2 = \"www.istihza.com\"\n",
    "site3 = \"www.yahoo.com\"\n",
    "site4 = \"www.gnu.org\"\n",
    "\n",
    "for i in site1, site2, site3, site4:\n",
    "    print(\"http://\", i, sep=\"\")"
   ]
  },
  {
   "cell_type": "markdown",
   "id": "b3de8867-0a17-400d-ac3d-b15bfea74719",
   "metadata": {},
   "source": [
    "Eğer www. kısımlarını atmak isterseniz karakter dizisi birleştirme işlemleri ile birlikte dilimleme yöntemini de kullanmanız gerekir:"
   ]
  },
  {
   "cell_type": "code",
   "execution_count": 80,
   "id": "528c4634-0555-4a56-82d8-11d900d739ac",
   "metadata": {},
   "outputs": [
    {
     "name": "stdout",
     "output_type": "stream",
     "text": [
      "http://google.com\n",
      "http://istihza.com\n",
      "http://yahoo.com\n",
      "http://gnu.org\n"
     ]
    }
   ],
   "source": [
    "for i in site1, site2, site3, site4:\n",
    "    print(\"http://\", i[4:], sep=\"\")"
   ]
  },
  {
   "cell_type": "markdown",
   "id": "727518ca-e18e-4cb8-a71c-4727fa7cef07",
   "metadata": {},
   "source": [
    "Belki farkındayız, belki de değiliz, ama aslında yukarıdaki örnekler karakter dizileri hakkında bize çok önemli bir bilgi veriyor. Dikkat ettiyseniz yukarıdaki örneklerde karakter dizileri üzerinde bir değişiklik yapmışız gibi görünüyor. Esasında öyle de denebilir. Ancak burada önemli bir ayrıntı var. Yukarıdaki örneklerde gördüğümüz değişiklikler kalıcı değildir. Yani aslında bu değişikliklerin orijinal karakter dizisi üzerinde hiçbir etkisi yoktur. Gelin isterseniz bunu teyit edelim:"
   ]
  },
  {
   "cell_type": "code",
   "execution_count": 81,
   "id": "057d792f-5ad5-4607-8f03-51bdfe247af5",
   "metadata": {},
   "outputs": [
    {
     "data": {
      "text/plain": [
       "'İstihza'"
      ]
     },
     "execution_count": 81,
     "metadata": {},
     "output_type": "execute_result"
    }
   ],
   "source": [
    "kardiz = \"istihza\"\n",
    "\"İ\" + kardiz[1:]\n"
   ]
  },
  {
   "cell_type": "markdown",
   "id": "6415d644-2008-4c6b-b9a9-221bf830b976",
   "metadata": {},
   "source": [
    "Dediğimiz gibi, sanki burada “istihza” karakter dizisini “İstihza” karakter dizisine çevirmişiz gibi duruyor. Ama aslında öyle değil:\n",
    "\n"
   ]
  },
  {
   "cell_type": "code",
   "execution_count": 82,
   "id": "1bccf506-f38a-4549-908b-07a855ee6aef",
   "metadata": {},
   "outputs": [
    {
     "name": "stdout",
     "output_type": "stream",
     "text": [
      "istihza\n"
     ]
    }
   ],
   "source": [
    "print(kardiz)"
   ]
  },
  {
   "cell_type": "markdown",
   "id": "a8778df9-7354-471f-85cc-2933cfbcdece",
   "metadata": {},
   "source": [
    "Gördüğünüz gibi, kardiz değişkeninin orijinalinde hiçbir değişiklik yok. Ayrıca burada \"İ\" + kardiz[1:] satırı ile elde ettiğiniz sonuca tekrar ulaşmanızın imkanı yok. Bu değişiklik kaybolmuş durumda. Peki bunun sebebi nedir?\n",
    "\n",
    "Bunun nedeni, karakter dizilerinin değiştirilemeyen (immutable) bir veri tipi olmasıdır. Python’da iki tür veri tipi bulunur: değiştirilemeyen veri tipleri (immutable datatypes) ve değiştirilebilen veri tipleri (mutable datatypes). Bizim şimdiye kadar gördüğümüz veri tipleri (sayılar ve karakter dizileri), değiştirilemeyen veri tipleridir. Henüz değiştirilebilen bir veri tipi görmedik. Ama birkaç bölüm sonra değiştirilebilen veri tiplerini de inceleyeceğiz.\n",
    "\n",
    "Neyse… Dediğimiz gibi, karakter dizileri üzerinde yaptığımız değişikliklerin kalıcı olmamasının nedeni, karakter dizilerinin değiştirilemeyen bir veri tipi olmasıdır. Python’da bir karakter dizisini bir kez tanımladıktan sonra bu karakter dizisi üzerinde artık değişiklik yapamazsınız. Eğer bir karakter dizisi üzerinde değişiklik yapmanız gerekiyorsa, yapabileceğiniz tek şey o karakter dizisini yeniden tanımlamaktır. Mesela yukarıdaki örnekte kardiz değişkeninin tuttuğu karakter dizisini değiştirmek isterseniz şöyle bir kod yazabilirsiniz:"
   ]
  },
  {
   "cell_type": "code",
   "execution_count": 83,
   "id": "005fe5c1-970f-45bd-947f-d74a22e389ee",
   "metadata": {},
   "outputs": [
    {
     "name": "stdout",
     "output_type": "stream",
     "text": [
      "İstihza\n"
     ]
    }
   ],
   "source": [
    "kardiz = \"İ\" + kardiz[1:]\n",
    "print(kardiz)\n"
   ]
  },
  {
   "cell_type": "markdown",
   "id": "3e0ef725-28bb-43be-ac6b-4b364747bff5",
   "metadata": {},
   "source": [
    "Burada yaptığımız şey kardiz değişkeninin değerini değiştirmek değildir. Biz burada aslında bambaşka bir kardiz değişkeni daha tanımlıyoruz. Yani ilk kardiz değişkeni ile sonraki kardiz değişkeni aynı şeyler değil. Bunu teyit etmek için önceki derslerimizde gördüğümüz id() fonksiyonundan yararlanabilirsiniz:"
   ]
  },
  {
   "cell_type": "code",
   "execution_count": 84,
   "id": "0a20d8fc-0b49-48ab-bd01-a5f25589ff80",
   "metadata": {},
   "outputs": [
    {
     "data": {
      "text/plain": [
       "131657733552816"
      ]
     },
     "execution_count": 84,
     "metadata": {},
     "output_type": "execute_result"
    }
   ],
   "source": [
    "kardiz = \"istihza\"\n",
    "id(kardiz)\n"
   ]
  },
  {
   "cell_type": "code",
   "execution_count": 85,
   "id": "ab4e825c-be58-426a-9b17-0ac8008699ed",
   "metadata": {},
   "outputs": [
    {
     "data": {
      "text/plain": [
       "131657729924944"
      ]
     },
     "execution_count": 85,
     "metadata": {},
     "output_type": "execute_result"
    }
   ],
   "source": [
    "kardiz = \"İ\" + kardiz[1:]\n",
    "id(kardiz)\n"
   ]
  },
  {
   "cell_type": "markdown",
   "id": "e8343920-f8fe-4510-9b41-5891f1abc3a7",
   "metadata": {},
   "source": [
    "Gördüğünüz gibi, ilk kardiz değişkeni ile sonraki kardiz değişkeni farklı kimlik numaralarına sahip. Yani bu iki değişken bellek içinde farklı adreslerde tutuluyor. Daha doğrusu, ikinci kardiz, ilk kardiz’i silip üzerine yazıyor.\n",
    "\n",
    "Her ne kadar kardiz = \"İ\" + kardiz[1:] kodu kardiz’in değerini aslında değiştirmiyor olsa da, sanki kardiz değişkeninin tuttuğu karakter dizisi değişiyormuş gibi bir etki elde ediyoruz. Bu da bizi memnun etmeye yetiyor…\n",
    "\n",
    "Yukarıdaki örnekte karakter dizisinin baş kısmı üzerinde değişiklik yaptık. Eğer karakter dizisinin ortasında kalan bir kısmı değiştirmek isterseniz de şöyle bir şey yazabilirsiniz:"
   ]
  },
  {
   "cell_type": "code",
   "execution_count": 86,
   "id": "f604a6ae-8187-4cd6-aba2-ce2f2fd968e3",
   "metadata": {},
   "outputs": [
    {
     "data": {
      "text/plain": [
       "'istİHza'"
      ]
     },
     "execution_count": 86,
     "metadata": {},
     "output_type": "execute_result"
    }
   ],
   "source": [
    "kardiz = \"istihza\"\n",
    "kardiz = kardiz[:3] + \"İH\" + kardiz[5:]\n",
    "kardiz"
   ]
  },
  {
   "cell_type": "markdown",
   "id": "14a4ccb5-f0d3-406a-8145-2ec65785c783",
   "metadata": {},
   "source": [
    "Gördüğünüz gibi, yukarıdaki kodlarda karakter dizilerini dilimleyip birleştirerek, yani bir bakıma kesip biçerek istediğimiz çıktıyı elde ettik.\n",
    "\n",
    "Mesela ilk örnekte kardiz değişkeninin ilk karakteri dışında kalan kısmını (kardiz[1:]) “İ” harfi ile birleştirdik (\"İ\" + kardiz[1:]\").\n",
    "\n",
    "İkinci örnekte ise kardiz değişkeninin ilk üç karakterine “İH” ifadesini ekledik ve sonra buna kardiz değişkeninin 5. karakterinden sonraki kısmını ilave ettik.\n",
    "\n",
    "Karakter dizileri üzerinde değişiklik yapmanızın hangi durumlarda gerekli olacağını gösteren bir örnek daha verip bu konuyu kapatalım.\n",
    "\n",
    "Diyelim ki, bir kelime içindeki sesli ve sessiz harfleri birbirinden ayırmanız gereken bir program yazıyorsunuz. Yani mesela amacınız ‘istanbul’ kelimesi içinde geçen ‘i’, ‘a’ ve ‘u’ harflerini bir yerde, ‘s’, ‘t’, ‘n’, ‘b’ ve ‘l’ harflerini ise ayrı bir yerde toplamak. Bunun için şöyle bir program yazabilirsiniz:"
   ]
  },
  {
   "cell_type": "code",
   "execution_count": 87,
   "id": "d2e875cf-d36f-4e61-bcf9-3c0decb44eb8",
   "metadata": {},
   "outputs": [
    {
     "name": "stdout",
     "output_type": "stream",
     "text": [
      "sesli harfler:  iau\n",
      "sessiz harfler:  stnbl\n"
     ]
    }
   ],
   "source": [
    "sesli_harfler = \"aeıioöuü\"\n",
    "sessiz_harfler = \"bcçdfgğhjklmnprsştvyz\"\n",
    "\n",
    "sesliler = \"\"\n",
    "sessizler = \"\"\n",
    "\n",
    "kelime = \"istanbul\"\n",
    "\n",
    "for i in kelime:\n",
    "    if i in sesli_harfler:\n",
    "        sesliler += i\n",
    "    else:\n",
    "        sessizler += i\n",
    "\n",
    "print(\"sesli harfler: \", sesliler)\n",
    "print(\"sessiz harfler: \", sessizler)"
   ]
  },
  {
   "cell_type": "markdown",
   "id": "d406ebed-5a18-4c74-82dd-931f39483226",
   "metadata": {},
   "source": [
    "Burada öncelikle şu kodlar yardımıyla Türkçedeki sesli ve sessiz harfleri belirliyoruz:\n",
    "\n"
   ]
  },
  {
   "cell_type": "raw",
   "id": "713abef9-4ea3-4776-b965-b398ab2989cf",
   "metadata": {},
   "source": [
    "sesli_harfler = \"aeıioöuü\"\n",
    "sessiz_harfler = \"bcçdfgğhjklmnprsştvyz\""
   ]
  },
  {
   "cell_type": "markdown",
   "id": "21e73a24-1d68-4dec-9782-9e175e7ee5bf",
   "metadata": {},
   "source": [
    "Ardından da, sesli ve sessiz harflerini ayıklayacağımız kelimedeki sesli harfler ve sessiz harfler için boş birer karakter dizisi tanımlıyoruz:"
   ]
  },
  {
   "cell_type": "raw",
   "id": "fb19e58d-a2ad-4223-881e-0e5f5e8e5971",
   "metadata": {},
   "source": [
    "sesliler = \"\"\n",
    "sessizler = \"\""
   ]
  },
  {
   "cell_type": "markdown",
   "id": "02ceb65d-e986-49dd-8659-d562c0f20e68",
   "metadata": {},
   "source": [
    "Programımız içinde ilgili harfleri, o harfin ait olduğu değişkene atayacağız.\n",
    "\n",
    "Kelimemiz “istanbul”:"
   ]
  },
  {
   "cell_type": "code",
   "execution_count": 88,
   "id": "15f3a268-bdb2-4394-8b01-7b96e71ccd37",
   "metadata": {},
   "outputs": [],
   "source": [
    "kelime = \"istanbul\""
   ]
  },
  {
   "cell_type": "markdown",
   "id": "46bdd984-5763-429f-be71-b5d1eb41ae9f",
   "metadata": {},
   "source": [
    "Şimdi bu kelime üzerinde bir for döngüsü kuruyoruz ve kelime içinde geçen herbir harfe tek tek bakıyoruz. Kelime içinde geçen harflerden, sesli_harfler değişkeninde tanımlı karakter dizisinde geçenleri sesliler adlı değişkene atıyoruz. Aksi durumda ise, yani kelime içinde geçen harflerden, sessiz_harfler değişkeninde tanımlı karakter dizisinde geçenleri, sessizler adlı değişkene gönderiyoruz:\n",
    "\n"
   ]
  },
  {
   "cell_type": "code",
   "execution_count": 89,
   "id": "3fa7fbb7-ed1f-4d97-80c7-10ae0a866c31",
   "metadata": {},
   "outputs": [],
   "source": [
    "for i in kelime:\n",
    "    if i in sesli_harfler:\n",
    "        sesliler += i\n",
    "    else:\n",
    "        sessizler += i"
   ]
  },
  {
   "cell_type": "markdown",
   "id": "be8d50a3-6609-467d-af12-148bb5ac888e",
   "metadata": {},
   "source": [
    "Bunun için for döngüsü içinde basit bir ‘if-else’ bloğu tanımladığımızı görüyorsunuz. Ayrıca bunu yaparken, sesliler ve sessizler adlı değişkenlere, for döngüsünün her bir dönüşünde yeni bir harf gönderip, bu değişkenleri, döngünün her dönüşünde yeni baştan tanımladığımıza dikkat edin. Çünkü, dediğimiz gibi, karakter dizileri değiştirilemeyen veri tipleridir. Bir karakter dizisi üzerinde değişiklik yapmak istiyorsak, o karakter dizisini baştan tanımlamamız gerekir.\n",
    "\n"
   ]
  },
  {
   "cell_type": "markdown",
   "id": "0244f7df-5a5c-4cd3-a548-d040cd6d31ad",
   "metadata": {},
   "source": [
    "++++++++++++Üç Önemli Fonksiyon\n",
    "\n",
    "\n",
    "\n",
    "\n",
    "Karakter dizilerinin temel özellikleri hakkında söyleyeceklerimizin sonuna geldik sayılır. Biraz sonra karakter dizilerinin çok önemli bir parçası olan metotlardan söz edeceğiz. Ama isterseniz metotlara geçmeden önce, çok önemli üç fonksiyondan söz edelim. Bu fonksiyonlar sadece karakter dizileri ile değil, başka veri tipleri ile çalışırken de işlerimizi bir hayli kolaylaştıracak.\n",
    "\n"
   ]
  },
  {
   "cell_type": "code",
   "execution_count": 91,
   "id": "8eb8b77e-c150-4834-8f27-046533ac1b14",
   "metadata": {},
   "outputs": [
    {
     "data": {
      "text/plain": [
       "['__add__',\n",
       " '__class__',\n",
       " '__contains__',\n",
       " '__delattr__',\n",
       " '__dir__',\n",
       " '__doc__',\n",
       " '__eq__',\n",
       " '__format__',\n",
       " '__ge__',\n",
       " '__getattribute__',\n",
       " '__getitem__',\n",
       " '__getnewargs__',\n",
       " '__gt__',\n",
       " '__hash__',\n",
       " '__init__',\n",
       " '__init_subclass__',\n",
       " '__iter__',\n",
       " '__le__',\n",
       " '__len__',\n",
       " '__lt__',\n",
       " '__mod__',\n",
       " '__mul__',\n",
       " '__ne__',\n",
       " '__new__',\n",
       " '__reduce__',\n",
       " '__reduce_ex__',\n",
       " '__repr__',\n",
       " '__rmod__',\n",
       " '__rmul__',\n",
       " '__setattr__',\n",
       " '__sizeof__',\n",
       " '__str__',\n",
       " '__subclasshook__',\n",
       " 'capitalize',\n",
       " 'casefold',\n",
       " 'center',\n",
       " 'count',\n",
       " 'encode',\n",
       " 'endswith',\n",
       " 'expandtabs',\n",
       " 'find',\n",
       " 'format',\n",
       " 'format_map',\n",
       " 'index',\n",
       " 'isalnum',\n",
       " 'isalpha',\n",
       " 'isascii',\n",
       " 'isdecimal',\n",
       " 'isdigit',\n",
       " 'isidentifier',\n",
       " 'islower',\n",
       " 'isnumeric',\n",
       " 'isprintable',\n",
       " 'isspace',\n",
       " 'istitle',\n",
       " 'isupper',\n",
       " 'join',\n",
       " 'ljust',\n",
       " 'lower',\n",
       " 'lstrip',\n",
       " 'maketrans',\n",
       " 'partition',\n",
       " 'removeprefix',\n",
       " 'removesuffix',\n",
       " 'replace',\n",
       " 'rfind',\n",
       " 'rindex',\n",
       " 'rjust',\n",
       " 'rpartition',\n",
       " 'rsplit',\n",
       " 'rstrip',\n",
       " 'split',\n",
       " 'splitlines',\n",
       " 'startswith',\n",
       " 'strip',\n",
       " 'swapcase',\n",
       " 'title',\n",
       " 'translate',\n",
       " 'upper',\n",
       " 'zfill']"
      ]
     },
     "execution_count": 91,
     "metadata": {},
     "output_type": "execute_result"
    }
   ],
   "source": [
    "dir(str)\n"
   ]
  },
  {
   "cell_type": "markdown",
   "id": "3b07d60a-a1f9-47da-a878-3a61aa896b57",
   "metadata": {},
   "source": [
    "İngilizcede ‘karakter dizisi’nin karşılığının string, bu kelimenin kısaltmasının da ‘str’ olduğunu hatırlıyor olmalısınız. İşte dir() fonksiyonuna parametre olarak bu ‘str’ kelimesini verdiğimizde, Python bize karakter dizilerinin bütün metotlarını listeliyor.\n",
    "\n",
    "Karakter dizileri dışında, şimdiye kadar öğrendiğimiz başka bir veri tipi de sayılar. Biz Python’da sayıların tam sayılar (integer), kayan noktalı sayılar (float) ve karmaşık sayılar (complex) olarak üçe ayrıldığını da biliyoruz. Örnek olması açısından dir() fonksiyonunu bir de sırasıyla, tam sayılar, kayan noktalı sayılar ve karmaşık sayılar üzerinde de uygulayalım:"
   ]
  },
  {
   "cell_type": "code",
   "execution_count": 92,
   "id": "90948584-0a06-4126-bb20-ca9f86803c97",
   "metadata": {},
   "outputs": [
    {
     "data": {
      "text/plain": [
       "['__abs__',\n",
       " '__add__',\n",
       " '__and__',\n",
       " '__bool__',\n",
       " '__ceil__',\n",
       " '__class__',\n",
       " '__delattr__',\n",
       " '__dir__',\n",
       " '__divmod__',\n",
       " '__doc__',\n",
       " '__eq__',\n",
       " '__float__',\n",
       " '__floor__',\n",
       " '__floordiv__',\n",
       " '__format__',\n",
       " '__ge__',\n",
       " '__getattribute__',\n",
       " '__getnewargs__',\n",
       " '__gt__',\n",
       " '__hash__',\n",
       " '__index__',\n",
       " '__init__',\n",
       " '__init_subclass__',\n",
       " '__int__',\n",
       " '__invert__',\n",
       " '__le__',\n",
       " '__lshift__',\n",
       " '__lt__',\n",
       " '__mod__',\n",
       " '__mul__',\n",
       " '__ne__',\n",
       " '__neg__',\n",
       " '__new__',\n",
       " '__or__',\n",
       " '__pos__',\n",
       " '__pow__',\n",
       " '__radd__',\n",
       " '__rand__',\n",
       " '__rdivmod__',\n",
       " '__reduce__',\n",
       " '__reduce_ex__',\n",
       " '__repr__',\n",
       " '__rfloordiv__',\n",
       " '__rlshift__',\n",
       " '__rmod__',\n",
       " '__rmul__',\n",
       " '__ror__',\n",
       " '__round__',\n",
       " '__rpow__',\n",
       " '__rrshift__',\n",
       " '__rshift__',\n",
       " '__rsub__',\n",
       " '__rtruediv__',\n",
       " '__rxor__',\n",
       " '__setattr__',\n",
       " '__sizeof__',\n",
       " '__str__',\n",
       " '__sub__',\n",
       " '__subclasshook__',\n",
       " '__truediv__',\n",
       " '__trunc__',\n",
       " '__xor__',\n",
       " 'as_integer_ratio',\n",
       " 'bit_count',\n",
       " 'bit_length',\n",
       " 'conjugate',\n",
       " 'denominator',\n",
       " 'from_bytes',\n",
       " 'imag',\n",
       " 'numerator',\n",
       " 'real',\n",
       " 'to_bytes']"
      ]
     },
     "execution_count": 92,
     "metadata": {},
     "output_type": "execute_result"
    }
   ],
   "source": [
    "dir(int)\n"
   ]
  },
  {
   "cell_type": "code",
   "execution_count": 93,
   "id": "1f067c72-91ca-4a41-8b4a-828412dd18db",
   "metadata": {},
   "outputs": [
    {
     "data": {
      "text/plain": [
       "['__abs__',\n",
       " '__add__',\n",
       " '__bool__',\n",
       " '__ceil__',\n",
       " '__class__',\n",
       " '__delattr__',\n",
       " '__dir__',\n",
       " '__divmod__',\n",
       " '__doc__',\n",
       " '__eq__',\n",
       " '__float__',\n",
       " '__floor__',\n",
       " '__floordiv__',\n",
       " '__format__',\n",
       " '__ge__',\n",
       " '__getattribute__',\n",
       " '__getformat__',\n",
       " '__getnewargs__',\n",
       " '__gt__',\n",
       " '__hash__',\n",
       " '__init__',\n",
       " '__init_subclass__',\n",
       " '__int__',\n",
       " '__le__',\n",
       " '__lt__',\n",
       " '__mod__',\n",
       " '__mul__',\n",
       " '__ne__',\n",
       " '__neg__',\n",
       " '__new__',\n",
       " '__pos__',\n",
       " '__pow__',\n",
       " '__radd__',\n",
       " '__rdivmod__',\n",
       " '__reduce__',\n",
       " '__reduce_ex__',\n",
       " '__repr__',\n",
       " '__rfloordiv__',\n",
       " '__rmod__',\n",
       " '__rmul__',\n",
       " '__round__',\n",
       " '__rpow__',\n",
       " '__rsub__',\n",
       " '__rtruediv__',\n",
       " '__setattr__',\n",
       " '__setformat__',\n",
       " '__sizeof__',\n",
       " '__str__',\n",
       " '__sub__',\n",
       " '__subclasshook__',\n",
       " '__truediv__',\n",
       " '__trunc__',\n",
       " 'as_integer_ratio',\n",
       " 'conjugate',\n",
       " 'fromhex',\n",
       " 'hex',\n",
       " 'imag',\n",
       " 'is_integer',\n",
       " 'real']"
      ]
     },
     "execution_count": 93,
     "metadata": {},
     "output_type": "execute_result"
    }
   ],
   "source": [
    "dir(float)"
   ]
  },
  {
   "cell_type": "code",
   "execution_count": 94,
   "id": "3ebde1a4-1b0d-4fbc-8452-2906d69ffb12",
   "metadata": {},
   "outputs": [
    {
     "data": {
      "text/plain": [
       "['__abs__',\n",
       " '__add__',\n",
       " '__bool__',\n",
       " '__class__',\n",
       " '__delattr__',\n",
       " '__dir__',\n",
       " '__doc__',\n",
       " '__eq__',\n",
       " '__format__',\n",
       " '__ge__',\n",
       " '__getattribute__',\n",
       " '__getnewargs__',\n",
       " '__gt__',\n",
       " '__hash__',\n",
       " '__init__',\n",
       " '__init_subclass__',\n",
       " '__le__',\n",
       " '__lt__',\n",
       " '__mul__',\n",
       " '__ne__',\n",
       " '__neg__',\n",
       " '__new__',\n",
       " '__pos__',\n",
       " '__pow__',\n",
       " '__radd__',\n",
       " '__reduce__',\n",
       " '__reduce_ex__',\n",
       " '__repr__',\n",
       " '__rmul__',\n",
       " '__rpow__',\n",
       " '__rsub__',\n",
       " '__rtruediv__',\n",
       " '__setattr__',\n",
       " '__sizeof__',\n",
       " '__str__',\n",
       " '__sub__',\n",
       " '__subclasshook__',\n",
       " '__truediv__',\n",
       " 'conjugate',\n",
       " 'imag',\n",
       " 'real']"
      ]
     },
     "execution_count": 94,
     "metadata": {},
     "output_type": "execute_result"
    }
   ],
   "source": [
    "dir(complex)"
   ]
  },
  {
   "cell_type": "markdown",
   "id": "38704fca-d5e9-45d6-8567-c04aa4340069",
   "metadata": {},
   "source": [
    "Gördüğünüz gibi, dir() fonksiyonunu kullanmak için, metotlarını listelemek istediğimiz nesneyi alıp dir() fonksiyonuna parametre olarak veriyoruz. Örneğin yukarıda karakter dizileri için str; tam sayılar için int; kayan noktalı sayılar için float; karmaşık sayılar için ise complex parametrelerini kullandık.\n",
    "\n",
    "dir() fonksiyonunu kullanabilmek için tek yöntemimiz, sorgulamak istediğimiz nesnenin adını kullanmak değil. Mesela karakter dizilerinin metotlarını sorgulamak için ‘str’ kelimesini kullanabileceğimiz gibi, herhangi bir karakter dizisini de kullanabiliriz. Yani:\n",
    "\n"
   ]
  },
  {
   "cell_type": "code",
   "execution_count": 95,
   "id": "39ab84dd-a095-4790-9a5e-f00a25f16968",
   "metadata": {},
   "outputs": [
    {
     "data": {
      "text/plain": [
       "['__add__',\n",
       " '__class__',\n",
       " '__contains__',\n",
       " '__delattr__',\n",
       " '__dir__',\n",
       " '__doc__',\n",
       " '__eq__',\n",
       " '__format__',\n",
       " '__ge__',\n",
       " '__getattribute__',\n",
       " '__getitem__',\n",
       " '__getnewargs__',\n",
       " '__gt__',\n",
       " '__hash__',\n",
       " '__init__',\n",
       " '__init_subclass__',\n",
       " '__iter__',\n",
       " '__le__',\n",
       " '__len__',\n",
       " '__lt__',\n",
       " '__mod__',\n",
       " '__mul__',\n",
       " '__ne__',\n",
       " '__new__',\n",
       " '__reduce__',\n",
       " '__reduce_ex__',\n",
       " '__repr__',\n",
       " '__rmod__',\n",
       " '__rmul__',\n",
       " '__setattr__',\n",
       " '__sizeof__',\n",
       " '__str__',\n",
       " '__subclasshook__',\n",
       " 'capitalize',\n",
       " 'casefold',\n",
       " 'center',\n",
       " 'count',\n",
       " 'encode',\n",
       " 'endswith',\n",
       " 'expandtabs',\n",
       " 'find',\n",
       " 'format',\n",
       " 'format_map',\n",
       " 'index',\n",
       " 'isalnum',\n",
       " 'isalpha',\n",
       " 'isascii',\n",
       " 'isdecimal',\n",
       " 'isdigit',\n",
       " 'isidentifier',\n",
       " 'islower',\n",
       " 'isnumeric',\n",
       " 'isprintable',\n",
       " 'isspace',\n",
       " 'istitle',\n",
       " 'isupper',\n",
       " 'join',\n",
       " 'ljust',\n",
       " 'lower',\n",
       " 'lstrip',\n",
       " 'maketrans',\n",
       " 'partition',\n",
       " 'removeprefix',\n",
       " 'removesuffix',\n",
       " 'replace',\n",
       " 'rfind',\n",
       " 'rindex',\n",
       " 'rjust',\n",
       " 'rpartition',\n",
       " 'rsplit',\n",
       " 'rstrip',\n",
       " 'split',\n",
       " 'splitlines',\n",
       " 'startswith',\n",
       " 'strip',\n",
       " 'swapcase',\n",
       " 'title',\n",
       " 'translate',\n",
       " 'upper',\n",
       " 'zfill']"
      ]
     },
     "execution_count": 95,
     "metadata": {},
     "output_type": "execute_result"
    }
   ],
   "source": [
    "dir(\"\")"
   ]
  },
  {
   "cell_type": "markdown",
   "id": "7e364470-bf31-4dca-a9cf-16cfb79f1b9e",
   "metadata": {},
   "source": [
    "Burada dir() fonksiyonuna parametre olarak boş bir karakter dizisi verdik. Bu kodun dir(str) kodundan hiçbir farkı yoktur. Bu komut da bize karakter dizilerinin metotlarını listeler.\n",
    "\n",
    "Aynı etkiyi dilersek şöyle de elde edebiliriz:"
   ]
  },
  {
   "cell_type": "code",
   "execution_count": 96,
   "id": "265c6119-b9b9-4ab1-b3fd-8938a8ac351e",
   "metadata": {},
   "outputs": [
    {
     "data": {
      "text/plain": [
       "['__add__',\n",
       " '__class__',\n",
       " '__contains__',\n",
       " '__delattr__',\n",
       " '__dir__',\n",
       " '__doc__',\n",
       " '__eq__',\n",
       " '__format__',\n",
       " '__ge__',\n",
       " '__getattribute__',\n",
       " '__getitem__',\n",
       " '__getnewargs__',\n",
       " '__gt__',\n",
       " '__hash__',\n",
       " '__init__',\n",
       " '__init_subclass__',\n",
       " '__iter__',\n",
       " '__le__',\n",
       " '__len__',\n",
       " '__lt__',\n",
       " '__mod__',\n",
       " '__mul__',\n",
       " '__ne__',\n",
       " '__new__',\n",
       " '__reduce__',\n",
       " '__reduce_ex__',\n",
       " '__repr__',\n",
       " '__rmod__',\n",
       " '__rmul__',\n",
       " '__setattr__',\n",
       " '__sizeof__',\n",
       " '__str__',\n",
       " '__subclasshook__',\n",
       " 'capitalize',\n",
       " 'casefold',\n",
       " 'center',\n",
       " 'count',\n",
       " 'encode',\n",
       " 'endswith',\n",
       " 'expandtabs',\n",
       " 'find',\n",
       " 'format',\n",
       " 'format_map',\n",
       " 'index',\n",
       " 'isalnum',\n",
       " 'isalpha',\n",
       " 'isascii',\n",
       " 'isdecimal',\n",
       " 'isdigit',\n",
       " 'isidentifier',\n",
       " 'islower',\n",
       " 'isnumeric',\n",
       " 'isprintable',\n",
       " 'isspace',\n",
       " 'istitle',\n",
       " 'isupper',\n",
       " 'join',\n",
       " 'ljust',\n",
       " 'lower',\n",
       " 'lstrip',\n",
       " 'maketrans',\n",
       " 'partition',\n",
       " 'removeprefix',\n",
       " 'removesuffix',\n",
       " 'replace',\n",
       " 'rfind',\n",
       " 'rindex',\n",
       " 'rjust',\n",
       " 'rpartition',\n",
       " 'rsplit',\n",
       " 'rstrip',\n",
       " 'split',\n",
       " 'splitlines',\n",
       " 'startswith',\n",
       " 'strip',\n",
       " 'swapcase',\n",
       " 'title',\n",
       " 'translate',\n",
       " 'upper',\n",
       " 'zfill']"
      ]
     },
     "execution_count": 96,
     "metadata": {},
     "output_type": "execute_result"
    }
   ],
   "source": [
    "a = \"karakter\"\n",
    "dir(a)"
   ]
  },
  {
   "cell_type": "markdown",
   "id": "034fe529-b85a-4a85-a5a2-e2b2c8574197",
   "metadata": {},
   "source": [
    "Karakter dizilerinin metotlarını listelemek için, siz hangi yöntem kolayınıza geliyorsa onu kullanabilirsiniz. Bu satırların yazarı genellikle şu yöntemi kullanıyor:"
   ]
  },
  {
   "cell_type": "code",
   "execution_count": null,
   "id": "8b986987-56d2-4c2c-a008-595ce4550cb1",
   "metadata": {},
   "outputs": [],
   "source": [
    "dir(\"\")"
   ]
  },
  {
   "cell_type": "markdown",
   "id": "e9745a3a-9ffd-469a-adf3-33b7e1d8551f",
   "metadata": {},
   "source": [
    "dir(\"\") komutunun çıktısından da göreceğiniz gibi, karakter dizilerinin epey metodu var. Metot listesi içinde bizi ilgilendirenler başında veya sonunda _ işareti olmayanlar. Yani şunlar:\n",
    "\n"
   ]
  },
  {
   "cell_type": "code",
   "execution_count": 97,
   "id": "08feda8c-f439-4794-9590-2c190e6cda14",
   "metadata": {},
   "outputs": [
    {
     "name": "stdout",
     "output_type": "stream",
     "text": [
      "capitalize\n",
      "casefold\n",
      "center\n",
      "count\n",
      "encode\n",
      "endswith\n",
      "expandtabs\n",
      "find\n",
      "format\n",
      "format_map\n",
      "index\n",
      "isalnum\n",
      "isalpha\n",
      "isascii\n",
      "isdecimal\n",
      "isdigit\n",
      "isidentifier\n",
      "islower\n",
      "isnumeric\n",
      "isprintable\n",
      "isspace\n",
      "istitle\n",
      "isupper\n",
      "join\n",
      "ljust\n",
      "lower\n",
      "lstrip\n",
      "maketrans\n",
      "partition\n",
      "removeprefix\n",
      "removesuffix\n",
      "replace\n",
      "rfind\n",
      "rindex\n",
      "rjust\n",
      "rpartition\n",
      "rsplit\n",
      "rstrip\n",
      "split\n",
      "splitlines\n",
      "startswith\n",
      "strip\n",
      "swapcase\n",
      "title\n",
      "translate\n",
      "upper\n",
      "zfill\n"
     ]
    }
   ],
   "source": [
    "for i in dir(\"\"):\n",
    "    if \"_\" not in i[0]:\n",
    "        print(i)"
   ]
  },
  {
   "cell_type": "markdown",
   "id": "427557b7-7eb9-4e15-8580-76957ba50770",
   "metadata": {},
   "source": [
    "Bu arada bu metotları listelemek için nasıl bir kod kullandığımıza dikkat edin:\n",
    "\n"
   ]
  },
  {
   "cell_type": "code",
   "execution_count": null,
   "id": "be046a57-35d9-4fdd-8ab0-3fe96f0e8f2a",
   "metadata": {},
   "outputs": [],
   "source": [
    "for i in dir(\"\"):\n",
    "    if \"_\" not in i[0]:\n",
    "        print(i)"
   ]
  },
  {
   "cell_type": "markdown",
   "id": "df8e2ba8-b052-4168-a2ec-fe7d0c2a6acd",
   "metadata": {},
   "source": [
    "Burada dir(\"\") komutunun içerdiği her bir metoda tek tek bakıyoruz. Bu metotlar içinde, ilk harfi _ karakteri olmayan bütün metotları listeliyoruz. Böylece istediğimiz listeyi elde etmiş oluyoruz. İsterseniz ilgilendiğimiz metotların sayısını da çıktıya ekleyebiliriz:"
   ]
  },
  {
   "cell_type": "code",
   "execution_count": 98,
   "id": "4b5392da-a440-4ce5-8133-832357c80aee",
   "metadata": {},
   "outputs": [
    {
     "name": "stdout",
     "output_type": "stream",
     "text": [
      "capitalize\n",
      "casefold\n",
      "center\n",
      "count\n",
      "encode\n",
      "endswith\n",
      "expandtabs\n",
      "find\n",
      "format\n",
      "format_map\n",
      "index\n",
      "isalnum\n",
      "isalpha\n",
      "isascii\n",
      "isdecimal\n",
      "isdigit\n",
      "isidentifier\n",
      "islower\n",
      "isnumeric\n",
      "isprintable\n",
      "isspace\n",
      "istitle\n",
      "isupper\n",
      "join\n",
      "ljust\n",
      "lower\n",
      "lstrip\n",
      "maketrans\n",
      "partition\n",
      "removeprefix\n",
      "removesuffix\n",
      "replace\n",
      "rfind\n",
      "rindex\n",
      "rjust\n",
      "rpartition\n",
      "rsplit\n",
      "rstrip\n",
      "split\n",
      "splitlines\n",
      "startswith\n",
      "strip\n",
      "swapcase\n",
      "title\n",
      "translate\n",
      "upper\n",
      "zfill\n",
      "Toplam 47 adet metot ile ilgileniyoruz.\n"
     ]
    }
   ],
   "source": [
    "sayaç = 0\n",
    "\n",
    "for i in dir(\"\"):\n",
    "    if \"_\" not in i[0]:\n",
    "        sayaç += 1\n",
    "        print(i)\n",
    "\n",
    "print(\"Toplam {} adet metot ile ilgileniyoruz.\".format(sayaç))"
   ]
  },
  {
   "cell_type": "markdown",
   "id": "95d99504-6aa0-420d-a46d-42d08d17031f",
   "metadata": {},
   "source": [
    "Burada da, ilk karakteri _ olmayan her bir metot için sayaç değişkeninin değerini 1 artırıyoruz. Böylece programın sonunda sayaç değişkeni ilgilendiğimiz metot sayısını göstermiş oluyor.\n",
    "\n",
    "Eğer her metodun soluna, sıra numarasını da eklemek isterseniz elbette şöyle bir kod da yazabilirsiniz:"
   ]
  },
  {
   "cell_type": "code",
   "execution_count": null,
   "id": "696f9bb7-fcdc-4f5b-a126-bf4dafcaa40f",
   "metadata": {},
   "outputs": [],
   "source": [
    "sayaç = 0\n",
    "\n",
    "for i in dir(\"\"):\n",
    "    if \"_\" not in i[0]:\n",
    "        sayaç += 1\n",
    "        print(sayaç, i)\n",
    "\n",
    "print(\"Toplam {} adet metot ile ilgileniyoruz.\".format(sayaç))"
   ]
  },
  {
   "cell_type": "markdown",
   "id": "334e8f69-4318-4eb8-956a-5f1b9efb35b3",
   "metadata": {},
   "source": [
    "Bu noktada bir parantez açalım. Yukarıdaki yöntemi kullanarak metotları numaralandırabilirsiniz. Ama aslında Python bize numaralandırma işlemleri için özel bir fonksiyon sunar. Şimdi isterseniz bu özel fonksiyonu inceleyelim.\n",
    "\n"
   ]
  },
  {
   "cell_type": "markdown",
   "id": "6c9b9b03-edf9-46b3-afca-4beae87d9fdc",
   "metadata": {},
   "source": [
    "++++++++++enumerate()\n",
    "\n",
    "\n",
    "\n",
    "Eğer yazdığınız bir programda numaralandırmaya ilişkin işlemler yapmanız gerekiyorsa Python’ın size sunduğu çok özel bir fonksiyondan yararlanabilirsiniz. Bu fonksiyonun adı enumerate().\n",
    "\n",
    "Gelelim bu fonksiyonun nasıl kullanılacağına… Önce şöyle bir deneme yapalım:\n",
    "\n"
   ]
  },
  {
   "cell_type": "code",
   "execution_count": 99,
   "id": "586ccfc7-d0f8-4a1a-afe1-93734a57f116",
   "metadata": {},
   "outputs": [
    {
     "data": {
      "text/plain": [
       "<enumerate at 0x77bdeebc4500>"
      ]
     },
     "execution_count": 99,
     "metadata": {},
     "output_type": "execute_result"
    }
   ],
   "source": [
    "enumerate(\"istihza\")"
   ]
  },
  {
   "cell_type": "markdown",
   "id": "ec6dbb8a-1987-4583-91fa-3304da8e7936",
   "metadata": {},
   "source": [
    "Tıpkı reversed() fonksiyonunun bir ‘reversed’ nesnesi vermesi gibi, bu fonksiyonun da bize yalnızca bir ‘enumerate’ nesnesi verdiğini görüyorsunuz.\n",
    "\n",
    "reversed() fonksiyonunu kullanabilmek için şöyle bir kod yazmıştık:\n",
    "\n"
   ]
  },
  {
   "cell_type": "code",
   "execution_count": 100,
   "id": "712bcb03-a92b-48e4-a595-09731ae8bf3e",
   "metadata": {},
   "outputs": [
    {
     "name": "stdout",
     "output_type": "stream",
     "text": [
      "a z h i t s i\n"
     ]
    }
   ],
   "source": [
    "print(*reversed(\"istihza\"))"
   ]
  },
  {
   "cell_type": "markdown",
   "id": "c5a14ce4-4092-4282-af27-d780bdf9df04",
   "metadata": {},
   "source": [
    "enumerate() için de benzer bir şeyi deneyebiliriz:"
   ]
  },
  {
   "cell_type": "code",
   "execution_count": 101,
   "id": "163a68cd-7f63-476b-ae55-3e462fb2cb8f",
   "metadata": {},
   "outputs": [
    {
     "name": "stdout",
     "output_type": "stream",
     "text": [
      "(0, 'i') (1, 's') (2, 't') (3, 'i') (4, 'h') (5, 'z') (6, 'a')\n"
     ]
    }
   ],
   "source": [
    "print(*enumerate(\"istihza\"))"
   ]
  },
  {
   "cell_type": "markdown",
   "id": "3c13029a-d4e2-4ab5-998a-7700b324c927",
   "metadata": {},
   "source": [
    "Enumerate kelimesi İngilizcede ‘numaralamak, numaralandırmak’ gibi anlamlara gelir. Dolayısıyla enumerate() fonksiyonu, kendisine parametre olarak verilen değer hakkında bize iki farklı bilgi verir: Bir öğe ve bu öğeye ait bir sıra numarası. Yukarıdaki çıktıda gördüğünüz şey de işte her bir öğenin kendisi ve o öğeye ait bir sıra numarasıdır.\n",
    "\n",
    "Yukarıdaki çıktıyı daha iyi anlayabilmek için bir for döngüsü kullanmak daha açıklayıcı olabilir:"
   ]
  },
  {
   "cell_type": "code",
   "execution_count": 102,
   "id": "ae98f650-53a4-4970-80b7-b60b5b505f98",
   "metadata": {},
   "outputs": [
    {
     "name": "stdout",
     "output_type": "stream",
     "text": [
      "(0, 'i')\n",
      "(1, 's')\n",
      "(2, 't')\n",
      "(3, 'i')\n",
      "(4, 'h')\n",
      "(5, 'z')\n",
      "(6, 'a')\n"
     ]
    }
   ],
   "source": [
    "for i in enumerate(\"istihza\"):\n",
    "    print(i)"
   ]
  },
  {
   "cell_type": "markdown",
   "id": "ae228937-6fdc-463e-9cdb-15bcdc3a2ad6",
   "metadata": {},
   "source": [
    "Gördüğünüz gibi, gerçekten de bu fonksiyon bize bir öğe (mesela ‘i’ harfi) ve bu öğeye ait bir sıra numarası (mesela 0) veriyor.\n",
    "\n",
    "Hatırlarsanız, enumerate() fonksiyonunu öğrenmeden önce, dir(\"\") komutundan elde ettiğimiz çıktıları şu şekilde numaralandırabileceğimizi söylemiştik:"
   ]
  },
  {
   "cell_type": "code",
   "execution_count": null,
   "id": "fd139af2-4d16-404c-bddf-633f97d97c00",
   "metadata": {},
   "outputs": [],
   "source": [
    "sayaç = 0\n",
    "\n",
    "for i in dir(\"\"):\n",
    "    if \"_\" not in i[0]:\n",
    "        sayaç += 1\n",
    "        print(sayaç, i)"
   ]
  },
  {
   "cell_type": "markdown",
   "id": "8c4354ab-09bd-43ed-9a70-6b6a1d824097",
   "metadata": {},
   "source": [
    "Ama artık enumerate() fonksiyonunu öğrendiğimize göre, aynı işi çok daha verimli bir şekilde gerçekleştirebiliriz:"
   ]
  },
  {
   "cell_type": "code",
   "execution_count": 103,
   "id": "682588f8-a1dd-43f8-a075-894d7e00390a",
   "metadata": {},
   "outputs": [
    {
     "name": "stdout",
     "output_type": "stream",
     "text": [
      "0 __add__\n",
      "1 __class__\n",
      "2 __contains__\n",
      "3 __delattr__\n",
      "4 __dir__\n",
      "5 __doc__\n",
      "6 __eq__\n",
      "7 __format__\n",
      "8 __ge__\n",
      "9 __getattribute__\n",
      "10 __getitem__\n",
      "11 __getnewargs__\n",
      "12 __gt__\n",
      "13 __hash__\n",
      "14 __init__\n",
      "15 __init_subclass__\n",
      "16 __iter__\n",
      "17 __le__\n",
      "18 __len__\n",
      "19 __lt__\n",
      "20 __mod__\n",
      "21 __mul__\n",
      "22 __ne__\n",
      "23 __new__\n",
      "24 __reduce__\n",
      "25 __reduce_ex__\n",
      "26 __repr__\n",
      "27 __rmod__\n",
      "28 __rmul__\n",
      "29 __setattr__\n",
      "30 __sizeof__\n",
      "31 __str__\n",
      "32 __subclasshook__\n",
      "33 capitalize\n",
      "34 casefold\n",
      "35 center\n",
      "36 count\n",
      "37 encode\n",
      "38 endswith\n",
      "39 expandtabs\n",
      "40 find\n",
      "41 format\n",
      "42 format_map\n",
      "43 index\n",
      "44 isalnum\n",
      "45 isalpha\n",
      "46 isascii\n",
      "47 isdecimal\n",
      "48 isdigit\n",
      "49 isidentifier\n",
      "50 islower\n",
      "51 isnumeric\n",
      "52 isprintable\n",
      "53 isspace\n",
      "54 istitle\n",
      "55 isupper\n",
      "56 join\n",
      "57 ljust\n",
      "58 lower\n",
      "59 lstrip\n",
      "60 maketrans\n",
      "61 partition\n",
      "62 removeprefix\n",
      "63 removesuffix\n",
      "64 replace\n",
      "65 rfind\n",
      "66 rindex\n",
      "67 rjust\n",
      "68 rpartition\n",
      "69 rsplit\n",
      "70 rstrip\n",
      "71 split\n",
      "72 splitlines\n",
      "73 startswith\n",
      "74 strip\n",
      "75 swapcase\n",
      "76 title\n",
      "77 translate\n",
      "78 upper\n",
      "79 zfill\n"
     ]
    }
   ],
   "source": [
    "for sıra, metot in enumerate(dir(\"\")):\n",
    "    print(sıra, metot)"
   ]
  },
  {
   "cell_type": "markdown",
   "id": "f45d5f7c-4bdd-4515-a71b-fa1b6e0f2547",
   "metadata": {},
   "source": [
    "enumerate() metodunun verdiği her bir çıktının iki öğeli olduğunu biliyoruz (öğenin kendisi ve o öğenin sıra numarası). Yukarıdaki kodlar yardımıyla, bu öğelerin her birini ayrı bir değişkene (sıra ve metot) atamış oluyoruz. Böylece bu çıktıyı manipüle etmek bizim için daha kolay oluyor. Mesela bu özelliği kullanarak metot ve sıra numarasının yerlerini değiştirebiliriz:"
   ]
  },
  {
   "cell_type": "code",
   "execution_count": null,
   "id": "2208a94c-f9b0-4d90-b74c-70c88bf80cc0",
   "metadata": {},
   "outputs": [],
   "source": [
    "for sıra, metot in enumerate(dir(\"\")):\n",
    "    print(metot, sıra)"
   ]
  },
  {
   "cell_type": "markdown",
   "id": "65edf64f-2de0-47d6-ad6e-92ab530a14ab",
   "metadata": {},
   "source": [
    "Pratik olması açısından şöyle bir örnek daha verelim:"
   ]
  },
  {
   "cell_type": "code",
   "execution_count": null,
   "id": "54c8587f-fec5-45d6-a25d-5bf8078e9d7f",
   "metadata": {},
   "outputs": [],
   "source": [
    "for sıra, metot in enumerate(dir(\"\")):\n",
    "    print(sıra, metot, len(metot))\n"
   ]
  },
  {
   "cell_type": "markdown",
   "id": "9fdccd3b-b66b-4a9b-ad2d-fba007c204fd",
   "metadata": {},
   "source": [
    "Burada, dir(\"\") ile elde ettiğimiz metotların sırasını (sıra), bu metotların adlarını (metot) ve her bir metodun kaç karakterden oluştuğunu (len(metot)) gösteren bir çıktı elde ettik.\n",
    "\n",
    "Bu arada, gördüğünüz gibi, enumerate() fonksiyonu numaralandırmaya 0’dan başlıyor. Elbette eğer isterseniz bu fonksiyonun numaralandırmaya kaçtan başlayacağını kendiniz de belirleyebilirsiniz. Dikkatlice bakın:\n",
    "\n"
   ]
  },
  {
   "cell_type": "code",
   "execution_count": null,
   "id": "93a6a712-b647-4f1d-8740-bdeaeff4356b",
   "metadata": {
    "jupyter": {
     "source_hidden": true
    }
   },
   "outputs": [],
   "source": [
    "for sıra, harf in enumerate(\"istihza\", 1):\n",
    "    print(sıra, harf)\n"
   ]
  },
  {
   "cell_type": "markdown",
   "id": "58ea1bc0-ac86-49e3-9478-9898319f6585",
   "metadata": {},
   "source": [
    "Burada ‘istihza’ kelimesi içindeki harfleri numaralandırdık. Bunu yaparken de numaralandırmaya 1’den başladık. Bunun için enumerate() fonksiyonuna ikinci bir parametre verdiğimize dikkat edin.\n",
    "\n",
    "enumerate() fonksiyonunu da incelediğimize göre önemli bir başka fonksiyondan daha söz edebiliriz."
   ]
  },
  {
   "cell_type": "markdown",
   "id": "87836674-1d9d-46ab-953f-7b2b9fb3c579",
   "metadata": {},
   "source": [
    "+++++++++++++help()\n",
    "\n",
    "\n",
    "\n",
    "Python’la ilgili herhangi bir konuda yardıma ihtiyacınız olduğunda, internetten araştırma yaparak pek çok ayrıntılı belgeye ulaşabilirsiniz. Ama eğer herhangi bir nesne hakkında hızlı bir şekilde ve İngilizce olarak yardım almak isterseniz help() adlı özel bir fonksiyondan yararlanabilirsiniz.\n",
    "\n",
    "Bu fonksiyonu iki farklı şekilde kullanıyoruz. Birinci yöntemde, etkileşimli kabuğa help() yazıp Enter düğmesine basıyoruz:"
   ]
  },
  {
   "cell_type": "code",
   "execution_count": null,
   "id": "bc01683f-82eb-48bc-ab08-340df5390d19",
   "metadata": {},
   "outputs": [],
   "source": [
    "help()"
   ]
  },
  {
   "cell_type": "code",
   "execution_count": null,
   "id": "c5ab1495-a563-423c-bbfb-72d5df8d6bd2",
   "metadata": {},
   "outputs": [],
   "source": [
    "++++++++++Notlar\n",
    "\n",
    "\n",
    "Hatırlarsanız döngüleri anlatırken şöyle bir örnek vermiştik:\n",
    "\n"
   ]
  },
  {
   "cell_type": "code",
   "execution_count": null,
   "id": "b2533544-f937-47a9-b088-6278debffe9f",
   "metadata": {},
   "outputs": [],
   "source": [
    "tr_harfler = \"şçöğüİı\"\n",
    "a = 0\n",
    "\n",
    "while a < len(tr_harfler):\n",
    "    print(tr_harfler[a], sep=\"\\n\")\n",
    "    a += 1"
   ]
  },
  {
   "cell_type": "markdown",
   "id": "9349f84e-494c-4166-a123-4a23aa5a7039",
   "metadata": {},
   "source": [
    "Bu kodların for döngüsü ile yazılabilecek olan şu kodlara alternatif olduğundan söz etmiştik:\n",
    "\n"
   ]
  },
  {
   "cell_type": "code",
   "execution_count": null,
   "id": "dd5534ac-f378-4f11-ba38-31232a00b90a",
   "metadata": {},
   "outputs": [],
   "source": [
    "tr_harfler = \"şçöğüİı\"\n",
    "\n",
    "for tr_harf in tr_harfler:\n",
    "    print(tr_harf)"
   ]
  },
  {
   "cell_type": "markdown",
   "id": "92e8d79c-b901-4e34-811e-1dcbe088f670",
   "metadata": {},
   "source": [
    "Yukarıdaki while örneğini verirken, henüz karakter dizilerinin öğelerine tek tek nasıl erişebileceğimizi öğrenmemiştik. Ama artık bu konuyu da öğrendiğimiz için yukarıdaki while döngüsünü rahatlıkla anlayabiliyoruz:\n",
    "\n"
   ]
  },
  {
   "cell_type": "code",
   "execution_count": null,
   "id": "9cfab2f1-b794-4cf9-a57d-d03e219f191a",
   "metadata": {},
   "outputs": [],
   "source": [
    "while a < len(tr_harfler):\n",
    "    print(tr_harfler[a], sep=\"\\n\")\n",
    "    a += 1"
   ]
  },
  {
   "cell_type": "markdown",
   "id": "79ac5d37-d584-4734-9ea4-97a2e1178ba0",
   "metadata": {},
   "source": [
    "Burada yaptığımız şey şu: a değişkeninin değeri tr_harfler değişkeninin uzunluğundan (len(tr_harfler)) küçük olduğu müddetçe a değişkeninin değerini 1 sayı artırıp yine a değişkenine gönderiyoruz (a += 1).\n",
    "\n",
    "while döngüsünün her dönüşünde de, a değişkeninin yeni değeri yardımıyla tr_harfler adlı karakter dizisinin öğelerine tek tek ve sırayla erişiyoruz (print(tr_hafler[a])).\n",
    "\n",
    "Yine hatırlarsanız, önceki derslerimizde sys adlı bir modül içindeki version adlı bir değişkenden söz etmiştik. Bu değişken bize kullandığımız Python’ın sürümünü bir karakter dizisi olarak veriyordu:"
   ]
  },
  {
   "cell_type": "code",
   "execution_count": 1,
   "id": "450263cd-1ac3-4493-81fa-3e0bee2f1358",
   "metadata": {},
   "outputs": [
    {
     "data": {
      "text/plain": [
       "'3.10.12 (main, Nov  6 2024, 20:22:13) [GCC 11.4.0]'"
      ]
     },
     "execution_count": 1,
     "metadata": {},
     "output_type": "execute_result"
    }
   ],
   "source": [
    "import sys\n",
    "sys.version"
   ]
  },
  {
   "cell_type": "markdown",
   "id": "cb9f1341-db13-49f2-86ba-8b06f7fa7014",
   "metadata": {},
   "source": [
    "Bu çıktıda, kullandığımız Python sürümünün dışında başka birtakım bilgiler de var. İşte biz eğer istersek, bu bölümde öğrendiğimiz bilgileri kullanarak bu karakter dizisinin istediğimiz kısmını, mesela sadece sürüm bilgisini karakter dizisinin içinden dilimleyip alabiliriz:"
   ]
  },
  {
   "cell_type": "code",
   "execution_count": 4,
   "id": "5c2d277a-5db7-4e29-a5e4-c47f48a93136",
   "metadata": {},
   "outputs": [
    {
     "data": {
      "text/plain": [
       "'3.10.12'"
      ]
     },
     "execution_count": 4,
     "metadata": {},
     "output_type": "execute_result"
    }
   ],
   "source": [
    "sys.version[:7]"
   ]
  },
  {
   "cell_type": "markdown",
   "id": "23977132-b81e-433d-ac73-9996389069d2",
   "metadata": {},
   "source": [
    "Elbette, yukarıdaki karakter dizisini elde etmek için, kullanması ve yönetmesi daha kolay bir araç olan version_info değişkeninden de yararlanabilirdiniz:"
   ]
  },
  {
   "cell_type": "code",
   "execution_count": 5,
   "id": "8229d29d-16c5-4751-aaac-cd87e378b4a8",
   "metadata": {},
   "outputs": [
    {
     "data": {
      "text/plain": [
       "'3.10.12'"
      ]
     },
     "execution_count": 5,
     "metadata": {},
     "output_type": "execute_result"
    }
   ],
   "source": [
    "\n",
    "'{}.{}.{}'.format(sys.version_info.major, sys.version_info.minor, sys.version_info.micro)"
   ]
  },
  {
   "cell_type": "markdown",
   "id": "545ef7cc-72ae-4903-af53-664c96dacce8",
   "metadata": {},
   "source": [
    "Ancak burada şöyle bir sorun olduğunu biliyorsunuz: Python’ın 2.7 öncesi sürümlerinde version_info’nun major, minor ve micro gibi nitelikleri yok. Dolayısıyla 2.7 öncesi sürümlerde version_info’yu kullanırken hata almamak için try... except bloklarından yararlanabileceğimizi görmüştük. Ancak version_info’yu bütün Python sürümlerinde güvenli bir şekilde kullanmanın başka bir yöntemi daha var. Dikkatlice bakın:\n",
    "\n"
   ]
  },
  {
   "cell_type": "code",
   "execution_count": 6,
   "id": "c7849c82-8839-4b56-8038-f536cf9a0f8d",
   "metadata": {},
   "outputs": [
    {
     "name": "stdout",
     "output_type": "stream",
     "text": [
      "3.10.12\n"
     ]
    }
   ],
   "source": [
    "major = sys.version_info[0]\n",
    "minor = sys.version_info[1]\n",
    "micro = sys.version_info[2]\n",
    "\n",
    "print(major, minor, micro, sep=\".\")"
   ]
  },
  {
   "cell_type": "markdown",
   "id": "042b56af-aec2-4819-b189-bf0bafe9ee91",
   "metadata": {},
   "source": [
    "Bu yöntem bütün Python sürümlerinde çalışır. Dolayısıyla, farklı Python sürümlerinde çalışmasını tasarladığınız programlarınızda sürüm kontrolünü sys.version_info’nun major, minor veya micro nitelikleri ile yapmak yerine yukarıdaki yöntemle yapabilirsiniz:"
   ]
  },
  {
   "cell_type": "code",
   "execution_count": 7,
   "id": "5804c01a-8a25-4b94-982d-19259c011bee",
   "metadata": {},
   "outputs": [],
   "source": [
    "if sys.version_info[1] < 3:\n",
    "    print(\"Kullandığınız Python sürümü eski!\")"
   ]
  },
  {
   "cell_type": "markdown",
   "id": "4cbf25e8-319e-45dd-b95b-b57f881b719f",
   "metadata": {},
   "source": [
    "Gördüğünüz gibi, karakter dizisi dilimleme işlemleri pek çok farklı kullanım alanına sahip. Programlama maceranız boyunca karakter dizilerinin bu özelliğinden bol bol yararlanacağınızdan hiç kuşkunuz olmasın."
   ]
  },
  {
   "cell_type": "code",
   "execution_count": null,
   "id": "e8f8d5c1-b17a-419e-a47e-55013c3e8507",
   "metadata": {},
   "outputs": [],
   "source": []
  },
  {
   "cell_type": "code",
   "execution_count": null,
   "id": "24b9a511-bea5-42c5-9226-75ee21407e7a",
   "metadata": {},
   "outputs": [],
   "source": []
  }
 ],
 "metadata": {
  "kernelspec": {
   "display_name": "Python 3 (ipykernel)",
   "language": "python",
   "name": "python3"
  },
  "language_info": {
   "codemirror_mode": {
    "name": "ipython",
    "version": 3
   },
   "file_extension": ".py",
   "mimetype": "text/x-python",
   "name": "python",
   "nbconvert_exporter": "python",
   "pygments_lexer": "ipython3",
   "version": "3.10.12"
  }
 },
 "nbformat": 4,
 "nbformat_minor": 5
}
