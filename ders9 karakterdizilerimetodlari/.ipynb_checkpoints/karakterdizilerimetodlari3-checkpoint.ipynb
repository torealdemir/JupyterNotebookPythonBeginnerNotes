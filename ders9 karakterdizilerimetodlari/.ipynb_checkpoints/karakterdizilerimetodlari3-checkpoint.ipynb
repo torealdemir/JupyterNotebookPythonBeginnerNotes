{
 "cells": [
  {
   "cell_type": "markdown",
   "id": "b6f7a080-b3fb-4b4a-9b91-8ba77762ec99",
   "metadata": {},
   "source": [
    "+++++++++Karakter Dizilerinin Metotları (Devamı)\n",
    "\n",
    "\n",
    "Karakter dizileri konusunun en başında söylediğimiz gibi, karakter dizileri metot yönünden bir hayli zengin bir veri tipidir. Bir önceki bölümde karakter dizileri metotlarının bir kısmını incelemiştik. Bu bölümde yine metotları incelemeye devam edeceğiz.\n",
    "\n",
    "++++++++++capitalize()\n",
    "\n",
    "\n",
    "Hatırlarsanız, bir önceki bölümde öğrendiğimiz startswith() ve endswith() metotları karakter dizileri üzerinde herhangi bir değişiklik yapmıyordu. Bu iki metodun görevi, karakter dizilerini sorgulamamızı sağlamaktı. Şimdi göreceğimiz capitalize() metodu ise karakter dizileri üzerinde değişiklik yapmamızı sağlayacak. Dolayısıyla bu capitalize() metodu da ‘değiştirici metotlar’dan biridir diyebiliriz.\n",
    "\n",
    "Hatırlarsanız, upper() ve lower() metotları bir karakter dizisi içindeki bütün karakterleri etkiliyordu. Yani mesela upper() metodunu bir karakter dizisine uygularsak, o karakter dizisi içindeki bütün karakterler büyük harfe dönecektir. Aynı şekilde lower() metodu da bir karakter dizisi içindeki bütün karakterleri küçük harfe çevirir.\n",
    "\n",
    "Şimdi göreceğimiz capitalize() metodu da upper() ve lower() metotlarına benzemekle birlikte onlardan biraz daha farklı davranır: capitalize() metodunun görevi karakter dizilerinin yalnızca ilk harfini büyütmektir. Örneğin:"
   ]
  },
  {
   "cell_type": "code",
   "execution_count": 1,
   "id": "03cc27f2-f340-4d53-b77c-961f17cba63a",
   "metadata": {},
   "outputs": [
    {
     "data": {
      "text/plain": [
       "'Python'"
      ]
     },
     "execution_count": 1,
     "metadata": {},
     "output_type": "execute_result"
    }
   ],
   "source": [
    "a = \"python\"\n",
    "a.capitalize()"
   ]
  },
  {
   "cell_type": "markdown",
   "id": "c9a7bec2-e8ea-469e-9b55-9abbbf5f2acb",
   "metadata": {},
   "source": [
    "Bu metodu kullanırken dikkat etmemiz gereken bir nokta var: Bu metot bir karakter dizisinin yalnızca ilk harfini büyütür. Yani birden fazla kelimeden oluşan karakter dizilerine bu metodu uyguladığımızda bütün kelimelerin ilk harfi büyümez. Yalnızca ilk kelimenin ilk harfi büyür. Yani:"
   ]
  },
  {
   "cell_type": "code",
   "execution_count": 2,
   "id": "6a73fe2e-bea6-480f-9820-3d55991572f9",
   "metadata": {},
   "outputs": [
    {
     "data": {
      "text/plain": [
       "'Python programlama dili'"
      ]
     },
     "execution_count": 2,
     "metadata": {},
     "output_type": "execute_result"
    }
   ],
   "source": [
    "a = \"python programlama dili\"\n",
    "a.capitalize()"
   ]
  },
  {
   "cell_type": "markdown",
   "id": "cd21f3e7-9ca5-47e3-8d9e-1aac8556ee94",
   "metadata": {},
   "source": [
    "“python programlama dili” üç kelimeden oluşan bir karakter dizisidir. Bu karakter dizisi üzerine capitalize() metodunu uyguladığımızda bu üç kelimenin tamamının ilk harfleri büyümüyor. Yalnızca ilk ‘python’ kelimesinin ilk harfi bu metottan etkileniyor.\n",
    "\n",
    "Bu arada capitalize() metodunu kullanırken bir şey dikkatinizi çekmiş olmalı. Bu metodun da, tıpkı upper() ve lower() metotlarında olduğu gibi, Türkçe karakterlerden bazıları ile ufak bir problemi var. Mesela şu örneğe bir bakın:"
   ]
  },
  {
   "cell_type": "code",
   "execution_count": 3,
   "id": "35037e32-b350-49e7-9cc0-e134ed346951",
   "metadata": {},
   "outputs": [
    {
     "data": {
      "text/plain": [
       "'Istanbul'"
      ]
     },
     "execution_count": 3,
     "metadata": {},
     "output_type": "execute_result"
    }
   ],
   "source": [
    "kardiz = \"istanbul\"\n",
    "kardiz.capitalize()"
   ]
  },
  {
   "cell_type": "markdown",
   "id": "c55fda46-fac5-4926-a28f-98310d61c24c",
   "metadata": {},
   "source": [
    "‘istanbul’ kelimesinin ilk harfi büyütüldüğünde ‘İ’ olması gerekirken ‘I’ oldu. Bildiğiniz gibi bu problem ‘ş’, ‘ç’, ‘ö’, ‘ğ’ ve ‘ü’ gibi öteki Türkçe karakterlerde karşımıza çıkmaz. Sadece ‘i’ ve ‘İ’ harfleri karakter dizisi metotlarında bize problem çıkaracaktır. Ama endişe etmemize hiç gerek yok. Bu sorunu da basit bir ‘if-else’ yapısıyla çözebilecek kadar Python bilgisine sahibiz:\n",
    "\n"
   ]
  },
  {
   "cell_type": "code",
   "execution_count": 4,
   "id": "44380aaf-4ea7-45ba-97a2-99e4ae29fe97",
   "metadata": {},
   "outputs": [
    {
     "name": "stdout",
     "output_type": "stream",
     "text": [
      "İstanbul büyükşehir belediyesi\n"
     ]
    }
   ],
   "source": [
    "kardiz = \"istanbul büyükşehir belediyesi\"\n",
    "\n",
    "if kardiz.startswith(\"i\"):\n",
    "    kardiz = \"İ\" + kardiz[1:]\n",
    "\n",
    "kardiz = kardiz.capitalize()\n",
    "\n",
    "print(kardiz)"
   ]
  },
  {
   "cell_type": "markdown",
   "id": "5979338c-02e5-466a-8339-a52efc9d89e3",
   "metadata": {},
   "source": [
    "Burada yaptığımız şey şu: Eğer değişkenin tuttuğu karakter dizisi ‘i’ harfi ile başlıyorsa, \"İ\" + kardiz[1:] kodunu kullanarak karakter dizisinin ilk harfi dışında kalan kısmıyla ‘İ’ harfini birleştiriyoruz. Bu yapıyı daha iyi anlayabilmek için etkileşimli kabukta şu denemeleri yapabilirsiniz:\n",
    "\n"
   ]
  },
  {
   "cell_type": "code",
   "execution_count": 5,
   "id": "ba150b81-1122-4134-a12c-4f9cc6d2118b",
   "metadata": {},
   "outputs": [
    {
     "data": {
      "text/plain": [
       "'stanbul'"
      ]
     },
     "execution_count": 5,
     "metadata": {},
     "output_type": "execute_result"
    }
   ],
   "source": [
    "kardiz = \"istanbul\"\n",
    "kardiz[1:]\n"
   ]
  },
  {
   "cell_type": "markdown",
   "id": "c7af3f14-1120-4600-afc2-793ec4ccbdca",
   "metadata": {},
   "source": [
    "Gördüğünüz gibi, kardiz[1:] kodu bize karakter dizisinin ilk harfi hariç geri kalan kısmını veriyor. Bu yapıyı dilimleme konusundan hatırlıyor olmalısınız. İşte biz dilimleme tekniğinin bu özelliğinden yararlanarak, karakter dizisinin ilk harfini kesip, baş tarafa bir adet ‘İ’ harfi ekliyoruz:\n",
    "\n"
   ]
  },
  {
   "cell_type": "code",
   "execution_count": 6,
   "id": "de9b5a84-510c-4a05-acb3-13939d3a77fe",
   "metadata": {},
   "outputs": [
    {
     "data": {
      "text/plain": [
       "'İstanbul'"
      ]
     },
     "execution_count": 6,
     "metadata": {},
     "output_type": "execute_result"
    }
   ],
   "source": [
    "\"İ\" + kardiz[1:]"
   ]
  },
  {
   "cell_type": "markdown",
   "id": "9c51ce6f-ec3d-4512-bf75-334a1c758295",
   "metadata": {},
   "source": [
    "Hatırlarsanız karakter dizilerinin değiştirilemeyen bir veri tipi olduğunu söylemiştik. O yüzden, karakter dizisinin “stanbul” kısmını ‘İ’ harfiyle birleştirdikten sonra, bu değişikliğin kalıcı olabilmesi için kardiz = \"İ\" + kardiz[1:] kodu yardımıyla, yaptığımız değişikliği tekrar kardiz adlı bir değişkene atıyoruz.\n",
    "\n",
    "Böylece;\n",
    "\n"
   ]
  },
  {
   "cell_type": "code",
   "execution_count": 7,
   "id": "4460a92b-3110-4911-a028-c4a6343c5c9b",
   "metadata": {},
   "outputs": [],
   "source": [
    "if kardiz.startswith(\"i\"):\n",
    "    kardiz = \"İ\" + kardiz[1:]"
   ]
  },
  {
   "cell_type": "markdown",
   "id": "e208c188-35b0-49d0-8123-dfd39a9a82ba",
   "metadata": {},
   "source": [
    "kodlarının ne yaptığını anlamış olduk. Kodların geri kalanında ise şöyle bir kod bloğu görüyoruz:\n",
    "\n",
    "kardiz = kardiz.capitalize()\n",
    "\n",
    "\n",
    "Buna göre, hangi harfle başlarsa başlasın Python’ın standart capitalize() metodunu bu karakter dizisi üzerine uyguluyoruz.\n",
    "\n",
    "Son olarak da print(kardiz) kodunu kullanarak yeni karakter dizisini ekrana yazdırıyoruz ve böylece capitalize() metodundaki Türkçe karakter sorununu kıvrak bir çalımla aşmış oluyoruz.\n",
    "\n"
   ]
  },
  {
   "cell_type": "markdown",
   "id": "b013aad8-07c9-413a-bac9-cf60f93ecc3e",
   "metadata": {},
   "source": [
    "+++++++++++title()\n",
    "\n",
    "\n",
    "Bu metot biraz önce öğrendiğimiz capitalize() metoduna benzer. Bildiğiniz gibi capitalize() metodu bir karakter dizisinin yalnızca ilk harfini büyütüyordu. title() metodu da karakter dizilerinin ilk harfini büyütür. Ama capitalize() metodundan farklı olarak bu metot, birden fazla kelimeden oluşan karakter dizilerinin her kelimesinin ilk harflerini büyütür.\n",
    "\n",
    "Bunu bir örnek üzerinde anlatsak sanırım daha iyi olacak:"
   ]
  },
  {
   "cell_type": "code",
   "execution_count": 9,
   "id": "1ebc8f8d-0a71-4fc9-9367-67104491aaa1",
   "metadata": {},
   "outputs": [
    {
     "data": {
      "text/plain": [
       "'Python programlama dili'"
      ]
     },
     "execution_count": 9,
     "metadata": {},
     "output_type": "execute_result"
    }
   ],
   "source": [
    "a = \"python programlama dili\"\n",
    "a.capitalize()"
   ]
  },
  {
   "cell_type": "code",
   "execution_count": 10,
   "id": "bacffc8b-ae74-4677-a81a-f9afe1c93b18",
   "metadata": {},
   "outputs": [
    {
     "data": {
      "text/plain": [
       "'Python Programlama Dili'"
      ]
     },
     "execution_count": 10,
     "metadata": {},
     "output_type": "execute_result"
    }
   ],
   "source": [
    "a.title()"
   ]
  },
  {
   "cell_type": "markdown",
   "id": "ec81c7a4-7606-429e-8856-91b6e858d774",
   "metadata": {},
   "source": [
    "capitalize() metodu ile title() metodu arasındaki fark bariz bir biçimde görünüyor. Dediğimiz gibi, capitalize() metodu yalnızca ilk kelimenin ilk harfini büyütmekle yetinirken, title() metodu karakter dizisi içindeki bütün kelimelerin ilk harflerini büyütüyor.\n",
    "\n",
    "Tahmin edebileceğiniz gibi, capitalize() metodundaki Türkçe karakter problemi title() metodu için de geçerlidir. Yani:\n",
    "\n"
   ]
  },
  {
   "cell_type": "code",
   "execution_count": 11,
   "id": "ea4c60b9-90cc-43f4-8f57-0400d78a77ad",
   "metadata": {},
   "outputs": [
    {
     "data": {
      "text/plain": [
       "'Istanbul'"
      ]
     },
     "execution_count": 11,
     "metadata": {},
     "output_type": "execute_result"
    }
   ],
   "source": [
    "kardiz = \"istanbul\"\n",
    "kardiz.title()\n"
   ]
  },
  {
   "cell_type": "code",
   "execution_count": 12,
   "id": "2a252ca8-616f-4136-8cce-e270d0377d7e",
   "metadata": {},
   "outputs": [
    {
     "data": {
      "text/plain": [
       "'Istanbul Büyükşehir Belediyesi'"
      ]
     },
     "execution_count": 12,
     "metadata": {},
     "output_type": "execute_result"
    }
   ],
   "source": [
    "kardiz = \"istanbul büyükşehir belediyesi\"\n",
    "kardiz.title()"
   ]
  },
  {
   "cell_type": "markdown",
   "id": "1c5713a5-5437-4fb4-9370-f036343c693c",
   "metadata": {},
   "source": [
    "Gördüğünüz gibi, burada da Python ‘i’ harfini düzgün büyütemedi. Ama tabii ki bu bizi durduramaz! Çözümümüz hazır:"
   ]
  },
  {
   "cell_type": "code",
   "execution_count": 13,
   "id": "a65ebab3-dce3-496e-9ee4-3106fa89467d",
   "metadata": {},
   "outputs": [
    {
     "name": "stdout",
     "output_type": "stream",
     "text": [
      "Istanbul\n"
     ]
    }
   ],
   "source": [
    "kardiz = \"istanbul\"\n",
    "if kardiz.startswith(\"i\"):\n",
    "    kardiz = \"I\" + kardiz[1:]\n",
    "else:\n",
    "    kardiz = kardiz.title()\n",
    "\n",
    "print(kardiz)"
   ]
  },
  {
   "cell_type": "markdown",
   "id": "04d0d73c-a77b-4f99-8d53-cf610bc01548",
   "metadata": {},
   "source": [
    "Bu kodların capitalize() metodunu anlatırken verdiğimiz koda ne kadar benzediğini görüyorsunuz. Bu iki kod hemen hemen birbirinin aynısı. Tek fark, en sondaki kardiz.capitalize() kodunun burada kardiz.title() olması ve if bloğu içine ek olarak kardiz = kardiz.title() satırını yazmış olmamız. kardiz.capitalize() kodunun neden kardiz.title() koduna dönüştüğünü açıklamaya gerek yok. Ama eğer kardiz = kardiz.title() kodunun ne işe yaradığını tam olarak anlamadıysanız o satırı silin ve kardiz değişkeninin değerini “istanbul büyükşehir belediyesi” yapın. Yani:"
   ]
  },
  {
   "cell_type": "code",
   "execution_count": 14,
   "id": "36dda664-2b18-4d45-a11a-7e7e7e8c49c1",
   "metadata": {},
   "outputs": [
    {
     "name": "stdout",
     "output_type": "stream",
     "text": [
      "İstanbul büyükşehir belediyesi\n"
     ]
    }
   ],
   "source": [
    "kardiz = \"istanbul büyükşehir belediyesi\"\n",
    "\n",
    "if kardiz.startswith(\"i\"):\n",
    "    kardiz = \"İ\" + kardiz[1:]\n",
    "else:\n",
    "    kardiz = kardiz.title()\n",
    "\n",
    "print(kardiz)"
   ]
  },
  {
   "cell_type": "markdown",
   "id": "e49d2953-1358-4e3d-bd72-63177d96cb4a",
   "metadata": {},
   "source": [
    "Burada yalnızca ilk kelimenin ilk harfi büyüdü. Halbuki title() metodunun işleyişi gereğince karakter dizisi içindeki bütün kelimelerin ilk harflerinin büyümesi gerekiyordu. İşte o satır bütün kelimelerin ilk harflerinin büyümesini sağlıyor. Eğer bir kelimenin ilk harfi zaten büyükse title() metodu bu harfe dokunmaz, ama karakter dizisi içindeki öbür kelimelerin ilk harflerini yine de büyütür.\n",
    "\n",
    "İşte yukarıda title() metodunun bu özelliğinden faydalanıyoruz. kardiz = \"İ\" + kardiz[1:] komutu karakter dizisinin ilk kelimesinin ilk harfini düzgün bir şekilde büyütüyor, ama geri kalan kelimelere hiçbir şey yapmıyor. kardiz = kardiz.title() komutu ise karakter dizisi içindeki geri kalan kelimelerin ilk harflerini büyütüyor. Böylece istediğimiz çıktıyı elde edebilmiş oluyoruz. Yalnız bu kodlarda bir şey dikkatinizi çekmiş olmalı. kardiz = kardiz.title() komutunu program içinde iki yerde kullandık. Programcılıktaki en önemli ilkelerden biri de mümkün olduğunca tekrardan kaçınmaktır. Eğer yazdığınız bir programda aynı kodları program boyunca tekrar tekrar yazıyorsanız muhtemelen bir yerde hata yapıyorsunuzdur. Öyle bir durumda yapmanız gereken şey kodlarınızı tekrar gözden geçirip, tekrar eden kodları nasıl azaltabileceğinizi düşünmektir. İşte burada da böyle bir tekrar söz konusu. Biz tekrara düşmekten kurtulmak için yukarıdaki kodları şöyle de yazabiliriz:"
   ]
  },
  {
   "cell_type": "code",
   "execution_count": 15,
   "id": "d11df4cd-b918-464a-a6e9-2cd34d48338e",
   "metadata": {},
   "outputs": [
    {
     "name": "stdout",
     "output_type": "stream",
     "text": [
      "İstanbul Büyükşehir Belediyesi\n"
     ]
    }
   ],
   "source": [
    "kardiz = \"istanbul büyükşehir belediyesi\"\n",
    "\n",
    "if kardiz.startswith(\"i\"):\n",
    "    kardiz = \"İ\" + kardiz[1:]\n",
    "\n",
    "kardiz = kardiz.title()\n",
    "\n",
    "print(kardiz)"
   ]
  },
  {
   "cell_type": "markdown",
   "id": "dec99b5f-5340-4f9e-9057-254250a3b7cd",
   "metadata": {},
   "source": [
    "kardiz = kardiz.title() komutunu hem if bloğunda, hem de else bloğunda kullandığımız için, programımız her koşulda bu kodu zaten çalıştıracak. O yüzden bu satırı if bloğuna yazdıktan sonra bir de aynı şeyi else bloğu içine yazmak gereksiz. Onun yerine else bloğunu tamamen kaldırıp, o satırı if bloğunun çıkışına yerleştirebiliriz.\n",
    "\n",
    "Eski kodlardaki mantık işleyişi şöyle idi:\n",
    "\n",
    "kardiz adlı bir değişken tanımla\n",
    "\n",
    "Eğer kardiz ‘i’ harfi ile başlıyorsa (if), kardiz’in ilk harfi hariç geri kalan kısmı ile ‘İ’ harfini birleştir.\n",
    "\n",
    "Daha sonra kardiz değişkenine title() metodunu uygula.\n",
    "\n",
    "Eğer kardiz ‘i’ harfi ile değil de başka bir harfle başlıyorsa (else), kardiz değişkenine title() metodunu uygula.\n",
    "\n",
    "Son olarak kardiz değişkenini yazdır.\n",
    "\n",
    "Tekrar eden kodları çıkardıktan sonra ise kodlarımızın mantık işleyişi şöyle oldu:\n",
    "\n",
    "kardiz adlı bir değişken tanımla\n",
    "\n",
    "Eğer kardiz ‘i’ harfi ile başlıyorsa (if), kardiz’in ilk harfi hariç geri kalan kısmı ile ‘İ’ harfini birleştir.\n",
    "\n",
    "Daha sonra kardiz değişkenine title() metodunu uygula.\n",
    "\n",
    "Son olarak kardiz değişkenini yazdır.\n",
    "\n",
    "Gördüğünüz gibi, aynı sonuca daha kısa bir yoldan ulaşabiliyoruz.\n",
    "\n",
    "Ama bir dakika! Burada bir sorun var!\n",
    "\n",
    "Bu kodlar ‘i’ harfinin karakter dizisinin yalnızca en başında yer aldığı durumlarda düzgün çalışacaktır. Bu kodlar mesela şu karakter dizisini düzgün büyütemez:\n",
    "\n",
    "on iki ada\n",
    "Aynı şekilde bu kodlar şu karakter dizisini de büyütemez:\n",
    "\n",
    "hükümet istifa!\n",
    "Çünkü bu karakter dizilerinde ‘i’ harfi karakter dizisini oluşturan kelimelerin ilkinde yer almıyor. Bizim yazdığımız kod ise yalnızca ilk kelime düşünülerek yazılmış. Peki bu sorunun üstesinden nasıl geleceğiz?\n",
    "\n",
    "Evet, doğru tahmin ettiniz. Bizi kurtaracak şey split() metodu ve basit bir for döngüsü. Dikkatlice bakın:"
   ]
  },
  {
   "cell_type": "code",
   "execution_count": 16,
   "id": "b98681eb-dcdb-4e75-9f4e-84959fad6856",
   "metadata": {},
   "outputs": [
    {
     "name": "stdout",
     "output_type": "stream",
     "text": [
      "On İki Ada "
     ]
    }
   ],
   "source": [
    "kardiz = \"on iki ada\"\n",
    "\n",
    "for kelime in kardiz.split():\n",
    "    if kelime.startswith(\"i\"):\n",
    "        kelime = \"İ\" + kelime[1:]\n",
    "\n",
    "    kelime = kelime.title()\n",
    "\n",
    "    print(kelime, end=\" \")"
   ]
  },
  {
   "cell_type": "markdown",
   "id": "570c622c-435e-46dd-bc3b-d2f70333de26",
   "metadata": {},
   "source": [
    "Gördüğünüz gibi, split() metodu \"on iki ada\" adlı karakter dizisini kelimelerine ayırıyor. İşte biz de kelimelerine ayrılmış bu yapı üzerinde bir for döngüsü kurarak herbir öğenin ilk harfinin ‘i’ olup olmadığını kontrol edebiliyoruz.\n",
    "\n"
   ]
  },
  {
   "cell_type": "markdown",
   "id": "edc838b8-fff5-4bf7-a4fd-5b591a746375",
   "metadata": {},
   "source": [
    "++++++++++swapcase()\n",
    "\n",
    "\n",
    "swapcase() metodu da büyük-küçük harfle ilgili bir metottur. Bu metot bir karakter dizisi içindeki büyük harfleri küçük harfe; küçük harfleri de büyük harfe dönüştürür. Örneğin:"
   ]
  },
  {
   "cell_type": "code",
   "execution_count": 17,
   "id": "fcc356b8-1e92-49a1-88fb-d03df22432cc",
   "metadata": {},
   "outputs": [
    {
     "data": {
      "text/plain": [
       "'PYTHON'"
      ]
     },
     "execution_count": 17,
     "metadata": {},
     "output_type": "execute_result"
    }
   ],
   "source": [
    "kardiz = \"python\"\n",
    "kardiz.swapcase()"
   ]
  },
  {
   "cell_type": "code",
   "execution_count": 18,
   "id": "ed1f6e2b-622d-4c3e-8699-abedd9abc37d",
   "metadata": {},
   "outputs": [
    {
     "data": {
      "text/plain": [
       "'python'"
      ]
     },
     "execution_count": 18,
     "metadata": {},
     "output_type": "execute_result"
    }
   ],
   "source": [
    "kardiz = \"PYTHON\"\n",
    "kardiz.swapcase()"
   ]
  },
  {
   "cell_type": "code",
   "execution_count": 19,
   "id": "4b73fe56-249b-42a1-8fb3-bda55dc29c48",
   "metadata": {},
   "outputs": [
    {
     "data": {
      "text/plain": [
       "'pYTHON'"
      ]
     },
     "execution_count": 19,
     "metadata": {},
     "output_type": "execute_result"
    }
   ],
   "source": [
    "kardiz = \"Python\"\n",
    "kardiz.swapcase()"
   ]
  },
  {
   "cell_type": "markdown",
   "id": "e73e7af2-e52c-4cdc-a71a-56b9a0911917",
   "metadata": {},
   "source": [
    "Gördüğünüz gibi, bu metot aynen dediğimiz gibi işliyor. Yani küçük harfleri büyük harfe; büyük harfleri de küçük harfe dönüştürüyor.\n",
    "\n",
    "Yine tahmin edebileceğiniz gibi, bu metodun da bazı Türkçe karakterlerle problemi var:"
   ]
  },
  {
   "cell_type": "code",
   "execution_count": 20,
   "id": "5d94611e-e278-44ee-9ce0-2554f1f45ce3",
   "metadata": {},
   "outputs": [
    {
     "data": {
      "text/plain": [
       "'ISTIHZA'"
      ]
     },
     "execution_count": 20,
     "metadata": {},
     "output_type": "execute_result"
    }
   ],
   "source": [
    "kardiz = \"istihza\"\n",
    "kardiz.swapcase()\n"
   ]
  },
  {
   "cell_type": "markdown",
   "id": "1a501eb8-ad08-46e7-9b33-fc51a9860cb0",
   "metadata": {},
   "source": [
    "Bu sorunu da aşmak tabii ki bizim elimizde:"
   ]
  },
  {
   "cell_type": "code",
   "execution_count": 21,
   "id": "2d50dc9c-1aea-4531-bb1d-6cb46f226e17",
   "metadata": {},
   "outputs": [
    {
     "name": "stdout",
     "output_type": "stream",
     "text": [
      "İSTANBUL\n"
     ]
    }
   ],
   "source": [
    "kardiz = \"istanbul\"\n",
    "\n",
    "for i in kardiz:\n",
    "    if i == 'İ':\n",
    "        kardiz = kardiz.replace('İ', 'i')\n",
    "    elif i == 'i':\n",
    "        kardiz = kardiz.replace('i', 'İ')\n",
    "    else:\n",
    "        kardiz = kardiz.replace(i, i.swapcase())\n",
    "\n",
    "print(kardiz)"
   ]
  },
  {
   "cell_type": "markdown",
   "id": "8521d5d1-4f0c-455d-ac75-bcbf9cd43436",
   "metadata": {},
   "source": [
    "Daha önceki örneklerde de olduğu gibi, bu kodlarda da ‘i’ ve ‘I’ harflerini tek tek kontrolden geçiriyoruz. Eğer bir karakter dizisi içinde bu iki harften biri varsa, bunların büyük harf veya küçük harf karşılıklarını elle yerine koyuyoruz. Bu karakterler dışında kalan karakterlere ise doğrudan swapcase() metodunu uygulayarak istediğimiz sonucu elde ediyoruz. Bu kodlarda kafanıza yatmayan yerler varsa, kodlar içinde kendinize göre bazı eklemeler çıkarmalar yaparak neyin ne işe yaradığını daha kolay anlayabilirsiniz.\n",
    "\n",
    "+++++++++++casefold()\n",
    "\n",
    "\n",
    "Bu metot işlev olarak lower() metoduna çok benzer. Hatta Türkçe açısından, bu metodun lower() metodundan hiçbir farkı yoktur. Ancak bazı başka dillerde, bu metot bazı harfler için lower() metodunun verdiğinden farklı bir çıktı verir. Örneğin Almancadaki ‘ß’ harfi bu duruma bir örnek olabilir:"
   ]
  },
  {
   "cell_type": "code",
   "execution_count": 22,
   "id": "11918e70-24f7-4226-a7f7-a1c2965ea688",
   "metadata": {},
   "outputs": [
    {
     "data": {
      "text/plain": [
       "'ß'"
      ]
     },
     "execution_count": 22,
     "metadata": {},
     "output_type": "execute_result"
    }
   ],
   "source": [
    "\"ß\".lower()"
   ]
  },
  {
   "cell_type": "code",
   "execution_count": 23,
   "id": "6ac5cab9-123e-4adc-bee8-6891cb0727b3",
   "metadata": {},
   "outputs": [
    {
     "data": {
      "text/plain": [
       "'ss'"
      ]
     },
     "execution_count": 23,
     "metadata": {},
     "output_type": "execute_result"
    }
   ],
   "source": [
    "\"ß\".casefold()"
   ]
  },
  {
   "cell_type": "markdown",
   "id": "6d89bda6-307b-4fd0-acb0-2ecfb790f3a5",
   "metadata": {},
   "source": [
    "Gördüğünüz gibi, lower() ve casefold() metotları bu harfe farklı davranıyor.\n",
    "\n",
    "Türkçedeki İ-i sorunu bu metot için de aynen geçerlidir."
   ]
  },
  {
   "cell_type": "markdown",
   "id": "6f7f35da-2074-4682-b182-1a738b795317",
   "metadata": {},
   "source": [
    "+++++++++++++++++strip(), lstrip(), rstrip()\n",
    "\n",
    "\n",
    "Bu başlıkta birbiriyle bağlantılı üç adet karakter dizisi metodunu inceleyeceğiz. Bu metotlar strip(), lstrip() ve rstrip(). İlk olarak strip() metoduyla başlayalım.\n",
    "\n",
    "Zaman zaman, içinde anlamsız ya da gereksiz karakterler barındıran metinleri bu anlamsız ve gereksiz karakterlerden temizlemeniz gereken durumlarla karşılaşabilirsiniz. Örneğin arkadaşınızdan gelen bir e.postada her satırın başında ve/veya sonunda > gibi bir karakter olabilir. Arkadaşınızdan gelen bu e.postayı kullanabilmek için öncelikle metin içindeki o > karakterlerini silmeniz gerekebilir. Hepimizin bildiği gibi, bu tür karakterleri elle temizlemeye kalkışmak son derece sıkıcı ve zaman alıcı bir yöntemdir. Ama artık siz bir Python programcısı olduğunuza göre bu tür angaryaları Python’a devredebilirsiniz.\n",
    "\n",
    "Yukarıda bahsettiğimiz duruma yönelik bir örnek vermeden önce dilerseniz strip() metoduyla ilgili çok basit örnekler vererek başlayalım işe:\n",
    "\n"
   ]
  },
  {
   "cell_type": "code",
   "execution_count": 25,
   "id": "0657df5f-953b-4a5f-94ba-0987cea30246",
   "metadata": {},
   "outputs": [],
   "source": [
    "kardiz = \" istihza \""
   ]
  },
  {
   "cell_type": "markdown",
   "id": "0db52773-edbd-4f5b-9161-84540bce5cb6",
   "metadata": {},
   "source": [
    "Burada değeri “ istihza “ olan kardiz adlı bir karakter dizisi tanımladık. Dikkat ederseniz bu karakter dizisinin sağında ve solunda birer boşluk karakteri var. Bazı durumlarda kullanıcıdan ya da başka kaynaktan gelen karakter dizilerinde bu tür istenmeyen boşluklar olabilir. Ama sizin kullanıcıdan veya başka bir kaynaktan gelen o karakter dizisini düzgün kullanabilmeniz için öncelikle o karakter dizisinin sağında ve solunda bulunan boşluk karakterlerinden kurtulmanız gerekebilir. İşte böyle anlarda strip() metodu yardımınıza yetişecektir. Dikkatlice inceleyin:\n",
    "\n"
   ]
  },
  {
   "cell_type": "code",
   "execution_count": 26,
   "id": "b2168643-0d1c-48f3-a7f7-3f033d9f1885",
   "metadata": {},
   "outputs": [
    {
     "name": "stdout",
     "output_type": "stream",
     "text": [
      " istihza \n"
     ]
    }
   ],
   "source": [
    "kardiz = \" istihza \"\n",
    "print(kardiz)"
   ]
  },
  {
   "cell_type": "code",
   "execution_count": 27,
   "id": "336f7e2e-e5a2-4388-8613-0d7b4770d36f",
   "metadata": {},
   "outputs": [
    {
     "data": {
      "text/plain": [
       "'istihza'"
      ]
     },
     "execution_count": 27,
     "metadata": {},
     "output_type": "execute_result"
    }
   ],
   "source": [
    "kardiz.strip()"
   ]
  },
  {
   "cell_type": "markdown",
   "id": "c2c54a9e-1461-450e-a8f7-4451462ee923",
   "metadata": {},
   "source": [
    "Gördüğünüz gibi, strip() metodunu kullanarak, karakter dizisinin orijinalinde bulunan sağlı sollu boşluk karakterlerini bir çırpıda ortadan kaldırdık.\n",
    "\n",
    "strip() metodu yukarıdaki örnekte olduğu gibi parametresiz olarak kullanıldığında, bir karakter dizisinin sağında veya solunda bulunan belli başlı karakterleri kırpar. strip() metodunun öntanımlı olarak kırptığı karakterler şunlardır:\n",
    "\n",
    "‘ ‘\n",
    "\n",
    "boşluk karakteri\n",
    "\n",
    "\\t\n",
    "\n",
    "sekme (TAB) oluşturan kaçış dizisi\n",
    "\n",
    "\\n\n",
    "\n",
    "satır başına geçiren kaçış dizisi\n",
    "\n",
    "\\r\n",
    "\n",
    "imleci aynı satırın başına döndüren kaçış dizisi\n",
    "\n",
    "\\v\n",
    "\n",
    "düşey sekme oluşturan kaçış dizisi\n",
    "\n",
    "\\f\n",
    "\n",
    "yeni bir sayfaya geçiren kaçış dizisi\n",
    "\n",
    "Yani eğer strip() metoduna herhangi bir parametre vermezsek bu metot otomatik olarak karakter dizilerinin sağında ve solunda bulunan yukarıdaki karakterleri kırpacaktır. Ancak eğer biz istersek strip() metoduna bir parametre vererek bu metodun istediğimiz herhangi başka bir karakteri kırpmasını da sağlayabiliriz. Örneğin:"
   ]
  },
  {
   "cell_type": "code",
   "execution_count": 28,
   "id": "48ff7f58-00b4-4f4b-9aa1-e873215245dc",
   "metadata": {},
   "outputs": [
    {
     "data": {
      "text/plain": [
       "'ython'"
      ]
     },
     "execution_count": 28,
     "metadata": {},
     "output_type": "execute_result"
    }
   ],
   "source": [
    "kardiz = \"python\"\n",
    "kardiz.strip(\"p\")"
   ]
  },
  {
   "cell_type": "markdown",
   "id": "085cb61e-dccf-41be-b87a-8f7ef5c167fe",
   "metadata": {},
   "source": [
    "Burada strip() metoduna parametre olarak “p” karakter dizisini vererek, strip() metodunun, karakter dizisinin başında bulunan “p” karakterini ortadan kaldırmasını sağladık. Yalnız strip() metodunu kullanırken bir noktaya dikkat etmelisiniz. Bu metot bir karakter dizisinin hem başında, hem de sonunda bulunan karakterlerle ilgilenir. Mesela şu örneğe bakalım:"
   ]
  },
  {
   "cell_type": "code",
   "execution_count": 29,
   "id": "e7d63b25-0423-4da8-8a15-bcc0b9ec3f89",
   "metadata": {},
   "outputs": [
    {
     "data": {
      "text/plain": [
       "'aza'"
      ]
     },
     "execution_count": 29,
     "metadata": {},
     "output_type": "execute_result"
    }
   ],
   "source": [
    "kardiz = \"kazak\"\n",
    "kardiz.strip(\"k\")\n"
   ]
  },
  {
   "cell_type": "markdown",
   "id": "e9cfc20d-2991-4f76-946b-8e4f8eae88dd",
   "metadata": {},
   "source": [
    "Gördüğünüz gibi, strip() metoduna “k” parametresini vererek, “kazak” adlı karakter dizisinin hem başındaki hem de sonundaki “k” harflerini kırpmayı başardık. Eğer bu metoda verdiğiniz parametre karakter dizisinde geçmiyorsa, bu durumda strip() metodu herhangi bir işlem yapmaz. Ya da aradığınız karakter, karakter dizisinin yalnızca tek bir tarafında (mesela sadece başında veya sadece sonunda) geçiyorsa, strip() metodu, ilgili karakter hangi taraftaysa onu siler. Aranan karakterin bulunmadığı tarafla ilgilenmez.\n",
    "\n",
    "strip() metodunu anlatmaya başlarken, içinde gereksiz yere > işaretlerinin geçtiği e.postalardan söz etmiş ve bu e.postalardaki o gereksiz karakterleri elle silmenin ne kadar da sıkıcı bir iş olduğunu söylemiştik. Eğer e.postalarınızda bu tip durumlarla sık sık karşılaşıyorsanız, gereksiz karakterleri silme görevini sizin yerinize Python yerine getirebilir. Şimdi şu kodları dikkatlice inceleyin:"
   ]
  },
  {
   "cell_type": "code",
   "execution_count": 30,
   "id": "c42bf5b9-7099-49bb-9db6-fc459cfc0406",
   "metadata": {},
   "outputs": [
    {
     "name": "stdout",
     "output_type": "stream",
     "text": [
      " Python programlama dili Guido Van Rossum adlı Hollandalı bir programcı tarafından  90'lı yılların başında geliştirilmeye başlanmıştır. Çoğu insan, isminin Python  olmasına bakarak, bu programlama dilinin, adını piton yılanından aldığını düşünür.  Ancak zannedildiğinin aksine bu programlama dilinin adı piton yılanından gelmez.  Guido Van Rossum bu programlama dilini, The Monty Python adlı bir İngiliz komedi  grubunun, Monty Python's Flying Circus adlı gösterisinden esinlenerek adlandırmıştır.  Ancak her ne kadar gerçek böyle olsa da, Python programlama dilinin pek çok yerde  bir yılan figürü ile temsil edilmesi neredeyse bir gelenek halini almıştır diyebiliriz. "
     ]
    }
   ],
   "source": [
    "metin = \"\"\"\n",
    "> Python programlama dili Guido Van Rossum adlı Hollandalı bir programcı tarafından\n",
    "> 90'lı yılların başında geliştirilmeye başlanmıştır. Çoğu insan, isminin Python\n",
    "> olmasına bakarak, bu programlama dilinin, adını piton yılanından aldığını düşünür.\n",
    "> Ancak zannedildiğinin aksine bu programlama dilinin adı piton yılanından gelmez.\n",
    "> Guido Van Rossum bu programlama dilini, The Monty Python adlı bir İngiliz komedi\n",
    "> grubunun, Monty Python's Flying Circus adlı gösterisinden esinlenerek adlandırmıştır.\n",
    "> Ancak her ne kadar gerçek böyle olsa da, Python programlama dilinin pek çok yerde\n",
    "> bir yılan figürü ile temsil edilmesi neredeyse bir gelenek halini almıştır diyebiliriz.\n",
    "\"\"\"\n",
    "\n",
    "for i in metin.split():\n",
    "    print(i.strip(\"> \"), end=\" \")"
   ]
  },
  {
   "cell_type": "markdown",
   "id": "5d3ee5af-b02b-48d6-9e3d-868060c4ccd5",
   "metadata": {},
   "source": [
    "Gördüğünüz gibi, her satırın başında bulunan ‘> ‘ karakterlerini ufacık birkaç kod yardımıyla rahatlıkla temizledik. Burada strip() metoduyla birlikte split() metodunu da kullandığımızı görüyorsunuz. split() metodu ile önce metin adlı karakter dizisini parçaladık. Daha sonra da strip() metodu yardımıyla baş taraftaki istenmeyen karakterleri temizledik.\n",
    "\n",
    "Yukarıdaki örnekte verdiğimiz metin, istenmeyen karakterleri yalnızca tek bir tarafta içeriyor. Ama elbette istenmeyen karakterler, karakter dizisinin ne tarafında olursa olsun strip() metodu bu karakterleri başarıyla kırpacaktır.\n",
    "\n",
    "Bu bölümün başlığında strip() metodu ile birlikte lstrip() ve rstrip() adlı iki metodun daha adı geçiyordu. strip() metodunun ne işe yaradığını öğrendik. Peki bu lstrip() ve rstrip() metotları ne işe yarıyor?\n",
    "\n",
    "lstrip() metodundan başlayalım anlatmaya…\n",
    "\n",
    "strip() metodunu anlatırken, bu metodun bir karakter dizisinin sağında ve solunda bulunan istenmeyen karakterleri kırptığını söylemiştik. Ancak bazen, istediğimiz şey bu olmayabilir. Yani biz bir karakter dizisinin hem sağında, hem de solunda bulunan gereksiz karakterleri değil, yalnızca sağında veya yalnızca solunda bulunan gereksiz karakterleri kırpmak isteyebiliriz. Örneğin strip() metodunu anlatırken verdiğimiz “kazak” örneğini ele alalım. Şöyle bir komutun ne yapacağını biliyorsunuz:"
   ]
  },
  {
   "cell_type": "code",
   "execution_count": 31,
   "id": "290dd4f4-7e5a-4d72-af47-9167c85ab30d",
   "metadata": {},
   "outputs": [
    {
     "data": {
      "text/plain": [
       "'aza'"
      ]
     },
     "execution_count": 31,
     "metadata": {},
     "output_type": "execute_result"
    }
   ],
   "source": [
    "\"kazak\".strip(\"k\")\n"
   ]
  },
  {
   "cell_type": "markdown",
   "id": "2356c20c-7e0a-433a-88b4-7b955992bc0e",
   "metadata": {},
   "source": [
    "Bu komut hem sol, hem de sağ taraftaki “k” karakterlerini kırpacaktır. Ama peki ya biz sadece sol taraftaki “k” karakterini atmak istersek ne olacak? İşte böyle bir durumda strip() metodundan değil, lstrip() metodundan faydalanacağız.\n",
    "\n",
    "lstrip() metodu bir karakter dizisinin sol tarafındaki gereksiz karakterlerden kurtulmamızı sağlar. Mesela bu bilgiyi yukarıdaki örneğe uygulayalım:"
   ]
  },
  {
   "cell_type": "code",
   "execution_count": 32,
   "id": "5f805420-e510-4545-a8af-ce5049d0a2f5",
   "metadata": {},
   "outputs": [
    {
     "data": {
      "text/plain": [
       "'azak'"
      ]
     },
     "execution_count": 32,
     "metadata": {},
     "output_type": "execute_result"
    }
   ],
   "source": [
    "\"kazak\".lstrip(\"k\")"
   ]
  },
  {
   "cell_type": "markdown",
   "id": "c73a3108-7c52-4fc5-8203-4631e413c921",
   "metadata": {},
   "source": [
    "Gördüğünüz gibi, lstrip() metodu yalnızca sol baştaki “k” harfiyle ilgilendi. Sağ taraftaki “k” harfine ise dokunmadı. Eğer sol taraftaki karakteri değil de yalnızca sağ taraftaki karakteri uçurmak istemeniz halinde ise rstrip() metodundan yararlanacaksınız:"
   ]
  },
  {
   "cell_type": "code",
   "execution_count": 33,
   "id": "9d8c85d6-9b4f-4649-b143-7b091948a70a",
   "metadata": {},
   "outputs": [
    {
     "data": {
      "text/plain": [
       "'kaza'"
      ]
     },
     "execution_count": 33,
     "metadata": {},
     "output_type": "execute_result"
    }
   ],
   "source": [
    "\"kazak\".rstrip(\"k\")"
   ]
  },
  {
   "cell_type": "markdown",
   "id": "c7a2b04d-59ab-406e-9f87-52728e39924a",
   "metadata": {},
   "source": [
    "Bu arada, yukarıdaki metotları doğrudan karakter dizileri üzerine uygulayabildiğimize de dikkat edin. Yani şu iki yöntem de uygun ve doğrudur:\n",
    "\n"
   ]
  },
  {
   "cell_type": "raw",
   "id": "3234042a-2ba2-459e-8765-17b256c48412",
   "metadata": {},
   "source": [
    "kardiz = \"karakter dizisi\"\n",
    "kardiz.metot_adı()"
   ]
  },
  {
   "cell_type": "raw",
   "id": "357bddba-1f06-49ae-8b1f-e39ec7357cb7",
   "metadata": {},
   "source": [
    "\"karakter dizisi\".metot_adı()"
   ]
  },
  {
   "cell_type": "markdown",
   "id": "25d98b61-4aa6-4b65-ab54-f61b7ab198bb",
   "metadata": {},
   "source": [
    "++++++++++++join()\n",
    "\n",
    "\n",
    "Hatırlarsanız şimdiye kadar öğrendiğimiz metotlar arasında split() adlı bir metot vardı. Bu metodun ne işe yaradığını ve nasıl kullanıldığını biliyorsunuz:"
   ]
  },
  {
   "cell_type": "code",
   "execution_count": 35,
   "id": "74b0c194-9e62-4122-8bb3-8902ba541a81",
   "metadata": {},
   "outputs": [
    {
     "name": "stdout",
     "output_type": "stream",
     "text": [
      "['Beşiktaş', 'Jimnastik', 'Kulübü']\n"
     ]
    }
   ],
   "source": [
    "kardiz = \"Beşiktaş Jimnastik Kulübü\"\n",
    "bölünmüş = kardiz.split()\n",
    "print(bölünmüş)"
   ]
  },
  {
   "cell_type": "markdown",
   "id": "00667fd4-c941-49fb-b772-9d8068b45e6d",
   "metadata": {},
   "source": [
    "Gördüğünüz gibi split() metodu bir karakter dizisini belli yerlerden bölerek parçalara ayırıyor. Bu noktada insanın aklına şöyle bir soru geliyor: Diyelim ki elimizde böyle bölünmüş bir karakter dizisi grubu var. Biz bu grup içindeki karakter dizilerini tekrar birleştirmek istersek ne yapacağız?\n",
    "\n",
    "Şimdi şu kodlara çok dikkatlice bakın:"
   ]
  },
  {
   "cell_type": "code",
   "execution_count": 36,
   "id": "554ee6be-134e-470d-803e-3454542b881e",
   "metadata": {},
   "outputs": [
    {
     "data": {
      "text/plain": [
       "'Beşiktaş Jimnastik Kulübü'"
      ]
     },
     "execution_count": 36,
     "metadata": {},
     "output_type": "execute_result"
    }
   ],
   "source": [
    "\" \".join(bölünmüş)"
   ]
  },
  {
   "cell_type": "markdown",
   "id": "a655f75b-83ce-4e37-8297-2745afdd9978",
   "metadata": {},
   "source": [
    "Gördüğünüz gibi, “Beşiktaş Jimnastik Kulübü” adlı karakter dizisinin ilk halini tekrar elde ettik. Yani bu karakter dizisine ait, bölünmüş parçaları tekrar bir araya getirdik. Ancak bu işi yapan kod gözünüzüne biraz tuhaf ve anlaşılmaz görünmüş olabilir.\n",
    "\n",
    "İlk başta dikkatimizi çeken şey, bu metodun öbür metotlara göre biraz daha farklı bir yapıya sahipmiş gibi görünmesi. Ama belki yukarıdaki örneği şöyle yazarsak bu örnek biraz daha anlaşılır gelebilir gözünüze:"
   ]
  },
  {
   "cell_type": "code",
   "execution_count": 37,
   "id": "303556b5-7f44-4ff9-95fa-b3957d061db0",
   "metadata": {},
   "outputs": [
    {
     "data": {
      "text/plain": [
       "'Beşiktaş Jimnastik Kulübü'"
      ]
     },
     "execution_count": 37,
     "metadata": {},
     "output_type": "execute_result"
    }
   ],
   "source": [
    "birleştirme_karakteri = \" \"\n",
    "birleştirme_karakteri.join(bölünmüş)"
   ]
  },
  {
   "cell_type": "markdown",
   "id": "9d3b7626-f646-4429-995d-19849aa87265",
   "metadata": {},
   "source": [
    "Burada da tıpkı öteki metotlarda olduğu gibi, join() metodunu bir karakter dizisi üzerine uyguladık. Bu karakter dizisi bir adet boşluk karakteri. Ayrıca gördüğünüz gibi join() metodu bir adet de parametre alıyor. Bu örnekte join() metoduna verdiğimiz parametre bölünmüş adlı değişken. Aslında şöyle bir düşününce yukarıdaki kodların sanki şöyle yazılması gerekiyormuş gibi gelebilir size:"
   ]
  },
  {
   "cell_type": "raw",
   "id": "6bcc37fc-a9b8-4e8e-8cb0-c9e39ac7ff72",
   "metadata": {},
   "source": [
    "bölünmüş.join(birleştirme_karakteri)"
   ]
  },
  {
   "cell_type": "markdown",
   "id": "6f7dd0c6-7cbd-4091-89bb-9328e499ae07",
   "metadata": {},
   "source": [
    "Ama bu kullanım yanlıştır. Üstelik kodunuzu böyle yazarsanız Python size bir hata mesajı gösterecektir:"
   ]
  },
  {
   "cell_type": "markdown",
   "id": "4437e2df-6e00-4b95-a263-e9f266c04701",
   "metadata": {},
   "source": [
    "Buradaki hata mesajı bize şöyle diyor: ‘liste nesnesinin join adlı bir niteliği yoktur!’. Bu cümledeki ‘liste nesnesi’ ifadesine özellikle dikkatinizi çekmek istiyorum. Biz şimdiye kadar iki tür nesne (ya da başka bir ifadeyle veri tipi) görmüştük. Bunlar karakter dizileri ve sayılardı. Burada karşımıza üçüncü bir nesne çıkıyor. Gördüğümüz kadarıyla bu yeni nesnenin adı ‘liste’. (Liste adlı veri tipini birkaç bölüm sonra en ince ayrıntısına kadar inceleyeceğiz. Python’da böyle bir veri tipi olduğunu bilmemiz bizim için şimdilik yeterli.)\n",
    "\n",
    "İşte yukarıdaki hatayı almamızın nedeni, aslında karakter dizilerine ait bir metot olan join() metodunu bir liste üzerinde uygulamaya çalışmamız. Böyle bir durumda da Python doğal olarak bizi ‘liste nesnelerinin join adlı bir niteliği olmadığı’ konusunda uyarıyor. Bütün bu anlattıklarımız bizi şu sonuca ulaştırıyor: Bir veri tipine ait metotlar doğal olarak yalnızca o veri tipi üzerinde kullanılabilir. Mesela yukarıdaki örnekte gördüğümüz gibi, bir karakter dizisi metodu olan join()’i başka bir veri tipine uygulamaya çalışırsak hata alırız.\n",
    "\n",
    "Sonuç olarak, join() adlı metodu bölünmüş adlı değişkene uygulayamayacağımızı anlamış bulunuyoruz. O halde bu metotla birlikte kullanılmak üzere bir karakter dizisi bulmamız gerekiyor.\n",
    "\n",
    "En başta da söylediğimiz gibi, join() metodunun görevi bölünmüş karakter dizisi gruplarını birleştirmektir. Bu metot görevini yerine getirirken, yani karakter dizisi gruplarını birleştirirken bir birleştirme karakterine ihtiyaç duyar. Bizim örneğimizde bu birleştirme karakteri bir adet boşluktur. Durumu daha iyi anlayabilmek için örneğimizi tekrar gözümünün önüne getirelim:"
   ]
  },
  {
   "cell_type": "code",
   "execution_count": 39,
   "id": "5a76872f-7ab4-4dec-8c3f-fd65f582a162",
   "metadata": {},
   "outputs": [
    {
     "name": "stdout",
     "output_type": "stream",
     "text": [
      "['Beşiktaş', 'Jimnastik', 'Kulübü']\n"
     ]
    }
   ],
   "source": [
    "kardiz = \"Beşiktaş Jimnastik Kulübü\"\n",
    "bölünmüş = kardiz.split()\n",
    "print(bölünmüş)"
   ]
  },
  {
   "cell_type": "code",
   "execution_count": 40,
   "id": "dee17b69-13c9-450b-942a-af93ceeb13a9",
   "metadata": {},
   "outputs": [
    {
     "name": "stdout",
     "output_type": "stream",
     "text": [
      "Beşiktaş Jimnastik Kulübü\n"
     ]
    }
   ],
   "source": [
    "kardiz = \" \".join(bölünmüş)\n",
    "print(kardiz)"
   ]
  },
  {
   "cell_type": "markdown",
   "id": "f57f93ad-4379-45ec-a32b-318dda92226f",
   "metadata": {},
   "source": [
    "Gördüğünüz gibi, orijinal karakter dizisinin bölünmüş parçalarını, her bir parçanın arasında bir adet boşluk olacak şekilde yeniden birleştirdik. Elbette sadece boşluk karakteri kullanabileceğiz diye bir kaide yok. Mesela şu örneklere bakın:"
   ]
  },
  {
   "cell_type": "code",
   "execution_count": 41,
   "id": "12618104-a9d0-4e82-86f8-d7c94051aa52",
   "metadata": {},
   "outputs": [],
   "source": [
    "kardiz = \"-\".join(bölünmüş)"
   ]
  },
  {
   "cell_type": "code",
   "execution_count": 42,
   "id": "786b55c4-f72b-4dd4-8201-ab971a971ab0",
   "metadata": {},
   "outputs": [],
   "source": [
    "kardiz = \"\".join(bölünmüş)\n"
   ]
  },
  {
   "cell_type": "markdown",
   "id": "2cf88166-1b1e-4377-80d1-fc40617e85ad",
   "metadata": {},
   "source": [
    "İlk örnekte, bölünmüş karakter dizilerini - işareti ile birleştirdik. İkinci örnekte ise bu karakter dizilerini birleştirmek için boş bir karakter dizisi kullandık. Yani parçaları birleştirirken arada boşluk olmamasını sağladık.\n",
    "\n",
    "join() metodu ile bol bol pratik yaparak bu metodu hakkıyla öğrenmenizi tavsiye ederim. Zira programcılık maceranız boyunca en sık kullanacağınız karakter dizisi metotları listesinin en başlarında bu metot yer alır.\n",
    "\n"
   ]
  },
  {
   "cell_type": "markdown",
   "id": "4b2c1a28-cdd3-4e8f-883b-ffacc8309053",
   "metadata": {},
   "source": [
    "++++++++count()\n",
    "\n",
    "\n",
    "Tıpkı daha önce öğrendiğimiz sorgulayıcı metotlar gibi, count() metodu da bir karakter dizisi üzerinde herhangi bir değişiklik yapmamızı sağlamaz. Bu metodun görevi bir karakter dizisi içinde belli bir karakterin kaç kez geçtiğini sorgulamaktır. Bununla ilgili hemen bir örnek verelim:\n",
    "\n"
   ]
  },
  {
   "cell_type": "code",
   "execution_count": 43,
   "id": "d13cff78-e8e8-4c92-8552-ebe8cc7afe89",
   "metadata": {},
   "outputs": [
    {
     "data": {
      "text/plain": [
       "5"
      ]
     },
     "execution_count": 43,
     "metadata": {},
     "output_type": "execute_result"
    }
   ],
   "source": [
    "şehir = \"Kahramanmaraş\"\n",
    "şehir.count(\"a\")"
   ]
  },
  {
   "cell_type": "markdown",
   "id": "27b5dba1-2145-48df-8136-ddc8a8bf8811",
   "metadata": {},
   "source": [
    "Buradan anlıyoruz ki, “Kahramanmaraş” adlı karakter dizisi içinde toplam 5 adet “a” karakteri geçiyor.\n",
    "\n",
    "count() metodu yaygın olarak yukarıdaki örnekte görüldüğü şekilde sadece tek bir parametre ile kullanılır. Ama aslında bu metot toplam 3 parametre alır. Şimdi şu örnekleri dikkatlice inceleyin:\n",
    "\n"
   ]
  },
  {
   "cell_type": "code",
   "execution_count": 44,
   "id": "71e419a1-759f-4473-9415-e18dbf5f4bcc",
   "metadata": {},
   "outputs": [
    {
     "data": {
      "text/plain": [
       "3"
      ]
     },
     "execution_count": 44,
     "metadata": {},
     "output_type": "execute_result"
    }
   ],
   "source": [
    "şehir = \"adana\"\n",
    "şehir.count(\"a\")"
   ]
  },
  {
   "cell_type": "code",
   "execution_count": 45,
   "id": "6c40f0a0-e975-4916-9176-fe7c8c6e8d4e",
   "metadata": {},
   "outputs": [
    {
     "data": {
      "text/plain": [
       "2"
      ]
     },
     "execution_count": 45,
     "metadata": {},
     "output_type": "execute_result"
    }
   ],
   "source": [
    "şehir.count(\"a\", 1)"
   ]
  },
  {
   "cell_type": "code",
   "execution_count": 46,
   "id": "a17c5b87-9bbe-463b-af40-1bdba5672752",
   "metadata": {},
   "outputs": [
    {
     "data": {
      "text/plain": [
       "2"
      ]
     },
     "execution_count": 46,
     "metadata": {},
     "output_type": "execute_result"
    }
   ],
   "source": [
    "şehir.count(\"a\", 2)"
   ]
  },
  {
   "cell_type": "code",
   "execution_count": 47,
   "id": "b55511f0-dabd-41f4-bfaa-458cc0fab6d9",
   "metadata": {},
   "outputs": [
    {
     "data": {
      "text/plain": [
       "1"
      ]
     },
     "execution_count": 47,
     "metadata": {},
     "output_type": "execute_result"
    }
   ],
   "source": [
    "şehir.count(\"a\", 3)"
   ]
  },
  {
   "cell_type": "code",
   "execution_count": 48,
   "id": "d300b34a-43c3-49b9-9454-05f6bac2fe46",
   "metadata": {},
   "outputs": [
    {
     "data": {
      "text/plain": [
       "1"
      ]
     },
     "execution_count": 48,
     "metadata": {},
     "output_type": "execute_result"
    }
   ],
   "source": [
    "şehir.count(\"a\", 4)"
   ]
  },
  {
   "cell_type": "markdown",
   "id": "efe25cb5-5455-4802-a36e-8994ca5d82bc",
   "metadata": {},
   "source": [
    "İlk örnekte count() metodunu tek bir parametre ile birlikte kullandığımız için “adana” adlı karakter dizisi içindeki bütün “a” harflerinin toplam sayısı çıktı olarak verildi.\n",
    "\n",
    "İkinci örnekte ise count() metoduna ikinci bir parametre daha verdik. Bu ikinci parametre, count() metodunun bir karakteri saymaya başlarken karakter dizisinin kaçıncı sırasından başlayacağını gösteriyor. Bu örnekte ikinci parametre olarak 1 sayısını verdiğimiz için, Python saymaya “adana” karakter dizisinin 1. sırasından başlayacak. Dolayısıyla 0. sıradaki “a” harfi sayım işleminin dışında kalacağı için toplam “a” sayısı 3 değil 2 olarak görünecek. Gördüğünüz gibi, sonraki örneklerde de aynı mantığı takip ettiğimiz için aradığımız karakterin toplam sayısı örnekten örneğe farklılık gösteriyor.\n",
    "\n",
    "Peki bu metodu gerçek programlarda ne amaçla kullanabilirsiniz? Bu metodu kullanarak, örneğin, kullanıcıyı aynı karakterden yalnızca bir adet girmeye zorlayabilirsiniz. Bunun için mesela şöyle bir yapı kullanabilirsiniz:"
   ]
  },
  {
   "cell_type": "code",
   "execution_count": 49,
   "id": "3ad97dbb-060f-4984-8f8c-6980f47de0ed",
   "metadata": {},
   "outputs": [
    {
     "name": "stdin",
     "output_type": "stream",
     "text": [
      "parolanız:  eqwq\n"
     ]
    },
    {
     "name": "stdout",
     "output_type": "stream",
     "text": [
      "Parolanızda aynı harfi bir kez kullanabilirsiniz!\n"
     ]
    }
   ],
   "source": [
    "parola = input(\"parolanız: \")\n",
    "\n",
    "kontrol = True\n",
    "\n",
    "for i in parola:\n",
    "    if parola.count(i) > 1:\n",
    "        kontrol = False\n",
    "\n",
    "if kontrol:\n",
    "    print('Parolanız onaylandı!')\n",
    "else:\n",
    "    print('Parolanızda aynı harfi bir kez kullanabilirsiniz!')"
   ]
  },
  {
   "cell_type": "markdown",
   "id": "aa4981dd-808d-45d6-be42-d76b0ccda857",
   "metadata": {},
   "source": [
    "Burada kontrol değişkeninin değerini True olarak belirledik. Eğer parola içindeki harflerden herhangi biri 1’den fazla geçiyorsa bu durumda kontrol değişkeninin değerini False yapıyoruz:\n",
    "\n"
   ]
  },
  {
   "cell_type": "code",
   "execution_count": null,
   "id": "d10f9f3f-a5cc-49a7-86cf-7384c2f76d3e",
   "metadata": {},
   "outputs": [],
   "source": [
    "for i in parola:\n",
    "    if parola.count(i) > 1:\n",
    "        kontrol = False"
   ]
  },
  {
   "cell_type": "markdown",
   "id": "684076ab-89f6-4210-9a72-e61e8dbb688e",
   "metadata": {},
   "source": [
    "Daha sonra da kontrol değişkeninin durumuna göre kullanıcıya parolanın onaylandığı veya onaylanmadığı bilgisini veriyoruz. Buna göre eğer kontrol değişkeninin değeri True ise şu çıktıyı veriyoruz:\n",
    "\n",
    "Parolanız onaylandı!\n"
   ]
  },
  {
   "cell_type": "markdown",
   "id": "ed6a3d9f-83ab-469d-b8f1-ad764cdf2820",
   "metadata": {},
   "source": [
    "Aksi halde şu çıktıyı veriyoruz:\n",
    "\n",
    "\n",
    "\n",
    "Parolanızda aynı harfi bir kez kullanabilirsiniz!"
   ]
  },
  {
   "cell_type": "markdown",
   "id": "88f1e6f2-5b0b-40a4-aed7-b156f7efc7f0",
   "metadata": {},
   "source": [
    "Yukarıdakine benzer durumların dışında count() metodunu şöyle durumlarda da kullanabilirsiniz:"
   ]
  },
  {
   "cell_type": "raw",
   "id": "18246845-4e45-44d8-8e47-9c2e62213974",
   "metadata": {},
   "source": [
    "kelime = input(\"Herhangi bir kelime: \")\n",
    "\n",
    "for harf in kelime:\n",
    "    print(\"{} harfi {} kelimesinde {} kez geçiyor!\".format(harf,\n",
    "                                                           kelime,\n",
    "                                                           kelime.count(harf)))"
   ]
  },
  {
   "cell_type": "markdown",
   "id": "23088728-c9d1-420c-a8ca-7caca6fb6bd7",
   "metadata": {},
   "source": [
    "Burada amacımız kullanıcının girdiği bir kelime içindeki bütün harflerin o kelime içinde kaç kez geçtiğini bulmak. count() metodunu kullanarak bu işi çok kolay bir şekilde halledebiliyoruz. Kullanıcının mesela ‘adana’ kelimesini girdiğini varsayarsak yukarıdaki program şöyle bir çıktı verecektir:"
   ]
  },
  {
   "cell_type": "raw",
   "id": "221b61c3-0f93-4b1d-a506-edfd860ed298",
   "metadata": {},
   "source": [
    "a harfi adana kelimesinde 3 kez geçiyor!\n",
    "d harfi adana kelimesinde 1 kez geçiyor!\n",
    "a harfi adana kelimesinde 3 kez geçiyor!\n",
    "n harfi adana kelimesinde 1 kez geçiyor!\n",
    "a harfi adana kelimesinde 3 kez geçiyor!"
   ]
  },
  {
   "cell_type": "markdown",
   "id": "bb7e04d6-4218-4350-bf32-e5158b91778f",
   "metadata": {},
   "source": [
    "Ancak burada şöyle bir problem var: ‘adana’ kelimesi içinde birden fazla geçen harfler (mesela ‘a’ harfi) çıktıda birkaç kez tekrarlanıyor. Yani mesela ‘a’ harfinin geçtiği her yerde programımız ‘a’ harfinin kelime içinde kaç kez geçtiğini rapor ediyor. İstediğiniz davranış bu olabilir. Ama bazı durumlarda her harfin kelime içinde kaç kez geçtiği bilgisinin yalnızca bir kez raporlanmasını isteyebilirsiniz. Yani siz yukarıdaki gibi bir çıktı yerine şöyle bir çıktı elde etmek istiyor olabilirsiniz:"
   ]
  },
  {
   "cell_type": "raw",
   "id": "b906c4d6-9178-443a-ae56-2de6efd18c4a",
   "metadata": {},
   "source": [
    "a harfi adana kelimesinde 3 kez geçiyor!\n",
    "d harfi adana kelimesinde 1 kez geçiyor!\n",
    "n harfi adana kelimesinde 1 kez geçiyor!"
   ]
  },
  {
   "cell_type": "markdown",
   "id": "f515aaa9-86d4-4800-87ff-1704ff6e85a8",
   "metadata": {},
   "source": [
    "Böyle bir çıktı elde edebilmek için şöyle bir program yazabilirsiniz:\n",
    "\n"
   ]
  },
  {
   "cell_type": "code",
   "execution_count": 50,
   "id": "bba32a04-4178-476e-bac0-2fe0acf4ea4d",
   "metadata": {},
   "outputs": [
    {
     "name": "stdin",
     "output_type": "stream",
     "text": [
      "Herhangi bir kelime:  toerwnklfnsdklfnksldfnlkadsnfks\n"
     ]
    },
    {
     "name": "stdout",
     "output_type": "stream",
     "text": [
      "t harfi toerwnklfnsdklfnksldfnlkadsnfks kelimesinde 1 kez geçiyor!\n",
      "o harfi toerwnklfnsdklfnksldfnlkadsnfks kelimesinde 1 kez geçiyor!\n",
      "e harfi toerwnklfnsdklfnksldfnlkadsnfks kelimesinde 1 kez geçiyor!\n",
      "r harfi toerwnklfnsdklfnksldfnlkadsnfks kelimesinde 1 kez geçiyor!\n",
      "w harfi toerwnklfnsdklfnksldfnlkadsnfks kelimesinde 1 kez geçiyor!\n",
      "n harfi toerwnklfnsdklfnksldfnlkadsnfks kelimesinde 5 kez geçiyor!\n",
      "k harfi toerwnklfnsdklfnksldfnlkadsnfks kelimesinde 5 kez geçiyor!\n",
      "l harfi toerwnklfnsdklfnksldfnlkadsnfks kelimesinde 4 kez geçiyor!\n",
      "f harfi toerwnklfnsdklfnksldfnlkadsnfks kelimesinde 4 kez geçiyor!\n",
      "s harfi toerwnklfnsdklfnksldfnlkadsnfks kelimesinde 4 kez geçiyor!\n",
      "d harfi toerwnklfnsdklfnksldfnlkadsnfks kelimesinde 3 kez geçiyor!\n",
      "a harfi toerwnklfnsdklfnksldfnlkadsnfks kelimesinde 1 kez geçiyor!\n"
     ]
    }
   ],
   "source": [
    "kelime = input(\"Herhangi bir kelime: \")\n",
    "sayaç = \"\"\n",
    "\n",
    "for harf in kelime:\n",
    "    if harf not in sayaç:\n",
    "        sayaç += harf\n",
    "\n",
    "for harf in sayaç:\n",
    "    print(\"{} harfi {} kelimesinde {} kez geçiyor!\".format(harf,\n",
    "                                                           kelime,\n",
    "                                                           kelime.count(harf)))"
   ]
  },
  {
   "cell_type": "markdown",
   "id": "efe93a7c-2c2f-40c3-b04e-de9229b7a45c",
   "metadata": {},
   "source": [
    "Gelin isterseniz bu kodları şöyle bir inceleyelim.\n",
    "\n",
    "Bu kodlarda öncelikle kullanıcıdan herhangi bir kelime girmesini istiyoruz.\n",
    "\n",
    "Daha sonra sayaç adlı bir değişken tanımlıyoruz. Bu değişken, kullanıcının girdiği kelime içindeki harfleri tutacak. Bu değişken, kelime değişkeninden farklı olarak, kullanıcının girdiği sözcük içinde birden fazla geçen harflerden yalnızca tek bir örnek içerecek.\n",
    "\n",
    "Değişkenimizi tanımladıktan sonra bir for döngüsü kuruyoruz. Bu döngüye dikkatlice bakın. Kullanıcının girdiği kelime içinde geçen harflerden her birini yalnızca bir kez alıp sayaç değişkenine gönderiyoruz. Böylece elimizde her harften sadece bir adet olmuş oluyor. Burada Python’ın arka planda neler çevirdiğini daha iyi anlayabilmek için isterseniz döngüden sonra şöyle bir satır ekleyerek sayaç değişkeninin içeriğini inceleyebilir, böylece burada kullandığımız for döngüsünün nasıl çalıştığını daha iyi görebilirsiniz:"
   ]
  },
  {
   "cell_type": "code",
   "execution_count": 51,
   "id": "9d3d75ce-ce22-41d9-8090-ca38cea4ab4b",
   "metadata": {},
   "outputs": [
    {
     "name": "stdout",
     "output_type": "stream",
     "text": [
      "sayaç içeriği:  toerwnklfsda\n"
     ]
    }
   ],
   "source": [
    "print(\"sayaç içeriği: \", sayaç)"
   ]
  },
  {
   "cell_type": "markdown",
   "id": "6ee37f09-2051-4cb1-a7b1-b7fdc23c3120",
   "metadata": {},
   "source": [
    "İlk döngümüz sayesinde, kullanıcının girdiği kelime içindeki her harfi teke indirerek, bu harfleri sayaç değişkeni içinde topladık. Şimdi yapmamız gereken şey, sayaç değişkenine gönderilen her bir harfin, kelime adlı değişken içinde kaç kez geçtiğini hesaplamak olmalı. Bunu da yine bir for döngüsü ile yapabiliriz:"
   ]
  },
  {
   "cell_type": "raw",
   "id": "16b56343-192b-4c72-b047-5a41c1f59b45",
   "metadata": {},
   "source": [
    "for harf in sayaç:\n",
    "    print(\"{} harfi {} kelimesinde {} kez geçiyor!\".format(harf,\n",
    "                                                           kelime,\n",
    "                                                           kelime.count(harf)))"
   ]
  },
  {
   "cell_type": "markdown",
   "id": "321571a6-1dfb-4bad-a96d-f8f4b06ad59f",
   "metadata": {},
   "source": [
    "Burada yaptığımız şey şu: count() metodunu kullanarak, sayaç değişkeninin içindeki her bir harfin, kelime değişkeninin içinde kaç kez geçtiğini buluyoruz. Bu döngünün nasıl çalıştığını daha iyi anlayabilmek için, isterseniz bu döngüyü şu şekilde sadeleştirebilirsiniz:\n",
    "\n"
   ]
  },
  {
   "cell_type": "raw",
   "id": "9b409aa4-985c-4435-b893-1b0503a137df",
   "metadata": {},
   "source": [
    "for harf in sayaç:\n",
    "    print(harf, kelime, kelime.count(harf))"
   ]
  },
  {
   "cell_type": "markdown",
   "id": "db602deb-7280-42f2-b8c0-f9050a756226",
   "metadata": {},
   "source": [
    "Gördüğünüz gibi, sayaç değişkeni içindeki herbir harfin kelime adlı karakter dizisi içinde kaç kez geçtiğini tek tek sorguladık.\n",
    "\n",
    "Yukarıdaki örneklerde count() metodunun iki farklı parametre aldığını gördük. Bu metot bunların dışında üçüncü bir parametre daha alır. Bu üçüncü parametre ikinci parametreyle ilişkilidir. Dilerseniz bu ilişkiyi bir örnek üzerinde görelim:\n",
    "\n"
   ]
  },
  {
   "cell_type": "code",
   "execution_count": 52,
   "id": "c8a63364-db17-483b-a8ef-53671d1fe136",
   "metadata": {},
   "outputs": [
    {
     "data": {
      "text/plain": [
       "3"
      ]
     },
     "execution_count": 52,
     "metadata": {},
     "output_type": "execute_result"
    }
   ],
   "source": [
    "kardiz = \"python programlama dili\"\n",
    "kardiz.count(\"a\")\n"
   ]
  },
  {
   "cell_type": "code",
   "execution_count": 53,
   "id": "3bef0156-e6f4-4a7f-9301-c3e0be06aec3",
   "metadata": {},
   "outputs": [
    {
     "data": {
      "text/plain": [
       "2"
      ]
     },
     "execution_count": 53,
     "metadata": {},
     "output_type": "execute_result"
    }
   ],
   "source": [
    "kardiz.count(\"a\", 15)"
   ]
  },
  {
   "cell_type": "markdown",
   "id": "26a68745-2527-4eae-86d7-10bfc6ffe854",
   "metadata": {},
   "source": [
    "Bu örneklerden anladığımıza göre, “python programlama dili” adlı karakter dizisi içinde toplam 3 adet ‘a’ harfi var. Eğer bu karakter dizisi içindeki ‘a’ harflerini karakter dizisinin en başından itibaren değil de, 15. karakterden itibaren saymaya başlarsak bu durumda 2 adet ‘a’ harfi buluyoruz. Şimdi de şu örneğe bakalım:"
   ]
  },
  {
   "cell_type": "code",
   "execution_count": 54,
   "id": "8f638cfb-96d8-4c5d-9e48-7dac92cff525",
   "metadata": {},
   "outputs": [
    {
     "data": {
      "text/plain": [
       "1"
      ]
     },
     "execution_count": 54,
     "metadata": {},
     "output_type": "execute_result"
    }
   ],
   "source": [
    "kardiz.count(\"a\", 15, 17)"
   ]
  },
  {
   "cell_type": "markdown",
   "id": "18ac3b0d-933a-4a98-9c98-93bdae87df06",
   "metadata": {},
   "source": [
    "Burada, 15. karakter ile 17. karakter arasında kalan ‘a’ harflerini saymış olduk. 15. karakter ile 17. karakter arasında toplam 1 adet ‘a’ harfi olduğu için de Python bize 1 sonucunu verdi. Bütün bu örneklerden sonra count() metoduna ilişkin olarak şöyle bir tespitte bulunabiliriz:\n",
    "\n",
    "count() metodu bir karakter dizisi içinde belli bir karakterin kaç kez geçtiğini sorgulamamızı sağlar. Örneğin bu metodu count(\"a\") şeklinde kullanırsak Python bize karakter dizisi içindeki bütün “a” harflerinin sayısını verecektir. Eğer bu metoda 2. ve 3. parametreleri de verirsek, sorgulama işlemi karakter dizisinin belli bir kısmında gerçekleştirilecektir. Örneğin count(\"a\", 4, 7) gibi bir kullanım, bize karakter dizisinin 4. ve 7. karakterleri arasında kalan “a” harflerinin sayısını verecektir.\n",
    "\n",
    "Böylece bir metodu daha ayrıntılı bir şekilde incelemiş olduk. Artık başka bir metot incelemeye geçebiliriz.\n",
    "\n"
   ]
  },
  {
   "cell_type": "markdown",
   "id": "a3e38929-8296-4d0f-b962-2e2cee66fb3d",
   "metadata": {},
   "source": [
    "++++++index(), rindex()\n",
    "\n",
    "\n",
    "Bu bölümün başında karakter dizilerinin dilimlenme özelliğinden söz ederken, karakter dizisi içindeki her harfin bir sırası olduğunu söylemiştik. Örneğin “python” adlı karakter dizisinde ‘p’ harfinin sırası 0’dır. Aynı şekilde ‘n’ harfinin sırası ise 5’tir. Karakterlerin, bir karakter dizisi içinde hangi sırada bulunduğunu öğrenmek için index() adlı bir metottan yararlanabiliriz. Örneğin:\n",
    "\n"
   ]
  },
  {
   "cell_type": "code",
   "execution_count": 55,
   "id": "ed775ff2-3477-4a6a-8685-d765f3f48754",
   "metadata": {},
   "outputs": [
    {
     "data": {
      "text/plain": [
       "0"
      ]
     },
     "execution_count": 55,
     "metadata": {},
     "output_type": "execute_result"
    }
   ],
   "source": [
    "kardiz = \"python\"\n",
    "kardiz.index(\"p\")\n"
   ]
  },
  {
   "cell_type": "code",
   "execution_count": 56,
   "id": "1098d244-db67-4541-974e-1b0b8cf8de90",
   "metadata": {},
   "outputs": [
    {
     "data": {
      "text/plain": [
       "5"
      ]
     },
     "execution_count": 56,
     "metadata": {},
     "output_type": "execute_result"
    }
   ],
   "source": [
    "kardiz.index(\"n\")"
   ]
  },
  {
   "cell_type": "markdown",
   "id": "e83f3612-6efe-4b2c-bc0f-a2d9f7a35a82",
   "metadata": {},
   "source": [
    "Eğer sırasını sorguladığımız karakter, o karakter dizisi içinde bulunmuyorsa, bu durumda Python bize bir hata mesajı gösterir:"
   ]
  },
  {
   "cell_type": "code",
   "execution_count": 57,
   "id": "823282de-b941-48fe-a522-f7436426a1c7",
   "metadata": {},
   "outputs": [
    {
     "ename": "ValueError",
     "evalue": "substring not found",
     "output_type": "error",
     "traceback": [
      "\u001b[0;31m---------------------------------------------------------------------------\u001b[0m",
      "\u001b[0;31mValueError\u001b[0m                                Traceback (most recent call last)",
      "Cell \u001b[0;32mIn[57], line 1\u001b[0m\n\u001b[0;32m----> 1\u001b[0m \u001b[43mkardiz\u001b[49m\u001b[38;5;241;43m.\u001b[39;49m\u001b[43mindex\u001b[49m\u001b[43m(\u001b[49m\u001b[38;5;124;43m\"\u001b[39;49m\u001b[38;5;124;43mz\u001b[39;49m\u001b[38;5;124;43m\"\u001b[39;49m\u001b[43m)\u001b[49m\n",
      "\u001b[0;31mValueError\u001b[0m: substring not found"
     ]
    }
   ],
   "source": [
    "kardiz.index(\"z\")"
   ]
  },
  {
   "cell_type": "markdown",
   "id": "a3af58f8-1fd3-4697-9a4a-6767aadb191f",
   "metadata": {},
   "source": [
    "Bu metodun özelliği, sorguladığımız karakterin, karakter dizisi içinde geçtiği ilk konumu vermesidir. Yani örneğin:\n",
    "\n"
   ]
  },
  {
   "cell_type": "code",
   "execution_count": 58,
   "id": "0847d348-b610-4aaa-b08f-744c3769cd97",
   "metadata": {},
   "outputs": [
    {
     "data": {
      "text/plain": [
       "0"
      ]
     },
     "execution_count": 58,
     "metadata": {},
     "output_type": "execute_result"
    }
   ],
   "source": [
    "kardiz = \"adana\"\n",
    "kardiz.index(\"a\")"
   ]
  },
  {
   "cell_type": "markdown",
   "id": "4c081810-63a7-4b22-87ab-0a38614f6939",
   "metadata": {},
   "source": [
    "“adana” adlı karakter dizisi içinde 3 adet ‘a’ harfi var. Ancak biz index() metodu yardımıyla “adana” karakter dizisi içindeki ‘a’ harfinin konumunu sorgularsak, Python bize ‘a’ harfinin geçtiği ilk konumu, yani 0. konumu, bildirecektir. Halbuki “adana” karakter dizisi içinde 2. ve 4. sıralarda da birer ‘a’ harfi var. Ancak index() metodu 0. konumdaki ‘a’ harfini gördükten sonra karakter dizisinin geri kalanına bakmaz.\n",
    "\n",
    "index() metodunu biz yukarıda tek bir parametre ile birlikte kullandık. Bu parametre, karakter dizisi içinde konumunu öğrenmek istediğimiz karakteri gösteriyor. Ama bu metot aslında toplam 3 parametre alır. Şu örnekleri dikkatlice inceleyelim:"
   ]
  },
  {
   "cell_type": "code",
   "execution_count": 59,
   "id": "37355ac8-af0b-4364-858c-f48d23d69e8e",
   "metadata": {},
   "outputs": [
    {
     "data": {
      "text/plain": [
       "0"
      ]
     },
     "execution_count": 59,
     "metadata": {},
     "output_type": "execute_result"
    }
   ],
   "source": [
    "kardiz = \"adana\"\n",
    "kardiz.index(\"a\")"
   ]
  },
  {
   "cell_type": "markdown",
   "id": "1b342f54-2ae0-4454-805a-d3cb20aa7cb7",
   "metadata": {},
   "source": [
    "Burada normal bir şekilde index() metodunu tek bir parametre ile birlikte kullandık. Böylece Python bize ‘a’ harfinin karakter dizisi içinde ilk olarak hangi sırada bulunduğunu gösterdi. Bir de şu örneğe bakalım:\n",
    "\n"
   ]
  },
  {
   "cell_type": "code",
   "execution_count": 60,
   "id": "a944bcdf-61bf-4ef2-a3a0-6465e43f4f21",
   "metadata": {},
   "outputs": [
    {
     "data": {
      "text/plain": [
       "2"
      ]
     },
     "execution_count": 60,
     "metadata": {},
     "output_type": "execute_result"
    }
   ],
   "source": [
    "kardiz.index(\"a\", 1)\n"
   ]
  },
  {
   "cell_type": "markdown",
   "id": "82becc34-a32c-4fd6-a338-c176a3eb54b9",
   "metadata": {},
   "source": [
    "Gördüğünüz gibi, bu defa index() metoduna ikinci bir parametre daha verdik. index() metodunun ikinci parametresi, Python’ın aramaya kaçıncı sıradan itibaren başlayacağını gösteriyor. Biz yukarıdaki örnekte Python’ın aramaya 1. sıradan itibaren başlamasını istedik. Bu yüzden Python 0. sıradaki “a” karakterini es geçti ve 2. sırada bulunan “a” karakterini gördü. Bir de şuna bakalım:"
   ]
  },
  {
   "cell_type": "code",
   "execution_count": 61,
   "id": "32231f46-e663-4cd5-ac52-238acc82bcc8",
   "metadata": {},
   "outputs": [
    {
     "data": {
      "text/plain": [
       "4"
      ]
     },
     "execution_count": 61,
     "metadata": {},
     "output_type": "execute_result"
    }
   ],
   "source": [
    "kardiz.index(\"a\", 3)"
   ]
  },
  {
   "cell_type": "markdown",
   "id": "d1a2cf25-b188-4a9d-9411-0c7dff20c4fa",
   "metadata": {},
   "source": [
    "Bu defa Python’ın aramaya 3. sıradan başlamasını istedik. Dolayısıyla Python 0. ve 2. sıralardaki ‘a’ harflerini görmezden gelip bize 4. sıradaki ‘a’ harfinin sırasını bildirdi.\n",
    "\n",
    "Gelelim index() metodunun 3. parametresine… Dilerseniz 3. parametrenin ne işe yaradığını bir örnek üzerinde gösterelim:"
   ]
  },
  {
   "cell_type": "code",
   "execution_count": 62,
   "id": "eecb6cf6-7568-47bf-bfed-bf0b4664d7c1",
   "metadata": {},
   "outputs": [
    {
     "data": {
      "text/plain": [
       "2"
      ]
     },
     "execution_count": 62,
     "metadata": {},
     "output_type": "execute_result"
    }
   ],
   "source": [
    "kardiz = \"adana\"\n",
    "kardiz.index(\"a\", 1, 3)\n"
   ]
  },
  {
   "cell_type": "markdown",
   "id": "a1beacb6-fc1a-494f-9550-959124d3d9f8",
   "metadata": {},
   "source": [
    "Hatırlarsanız, bundan önce count() adlı bir metot öğrenmiştik. O metot da toplam 3 parametre alıyordu. count() metodunda kullandığımız 2. ve 3. parametrelerin görevlerini hatırlıyor olmalısınız. İşte index() metodunun 2. ve 3. parametreleri de aynen count() metodundaki gibi çalışır. Yani Python’ın sorgulama işlemini hangi sıra aralıklarından gerçekleştireceğini gösterir. Mesela yukarıdaki örnekte biz “adana” karakter dizisinin 1. ve 3. sıraları arasındaki ‘a’ harflerini sorguladık. Yani yukarıdaki örnekte Python ‘a’ harfini aramaya 1. konumdan başladı ve aramayı 3. konumda kesti. Böylece “adana” karakter dizisinin 2. sırasındaki ‘a’ harfinin konumunu bize bildirdi.\n",
    "\n",
    "Gördüğünüz gibi, index() metodu bize aradığımız karakterin yalnızca ilk konumunu bildiriyor. Peki biz mesela “adana” karakter dizisi içindeki bütün ‘a’ harflerinin sırasını öğrenmek istersek ne yapacağız?\n",
    "\n",
    "Bu isteğimizi yerine getirmek için karakter dizisinin her bir sırasını tek tek kontrol etmemiz yeterli olacaktır. Yani şöyle bir şey yazmamız gerekiyor:"
   ]
  },
  {
   "cell_type": "code",
   "execution_count": 63,
   "id": "0883b865-4fea-40f8-a003-c588b0f1490d",
   "metadata": {},
   "outputs": [
    {
     "name": "stdout",
     "output_type": "stream",
     "text": [
      "0\n",
      "2\n",
      "2\n",
      "4\n",
      "4\n"
     ]
    }
   ],
   "source": [
    "kardiz = \"adana\"\n",
    "\n",
    "print(kardiz.index(\"a\", 0))\n",
    "print(kardiz.index(\"a\", 1))\n",
    "print(kardiz.index(\"a\", 2))\n",
    "print(kardiz.index(\"a\", 3))\n",
    "print(kardiz.index(\"a\", 4))"
   ]
  },
  {
   "cell_type": "markdown",
   "id": "a14be66f-5d7f-4809-bd03-5e53ec57c276",
   "metadata": {},
   "source": [
    "Buradaki mantığı anladığınızı sanıyorum. Bildiğiniz gibi, index() metodunun ikinci parametresi sayesinde karakter dizisi içinde aradığımız bir karakteri hangi konumdan itibaren arayacağımızı belirleyebiliyoruz. Örneğin yukarıdaki kodlarda gördüğünüz ilk print() satırı ‘a’ karakterini 0. konumdan itibaren arıyor ve gördüğü ilk ‘a’ harfinin konumunu raporluyor. İkinci print() satırı ‘a’ karakterini 1. konumdan itibaren arıyor ve gördüğü ilk ‘a’ harfinin konumunu raporluyor. Bu süreç karakter dizisinin sonuna ulaşılıncaya kadar devam ediyor. Böylece karakter dizisi içinde geçen bütün ‘a’ harflerinin konumunu elde etmiş oluyoruz.\n",
    "\n",
    "Elbette yukarıdaki kodları, sadece işin mantığını anlamanızı sağlamak için bu şekilde verdik. Tahmin edebileceğiniz gibi, yukarıdaki kod yazımı son derece verimsiz bir yoldur. Ayrıca gördüğünüz gibi, yukarıdaki kodlar sadece 5 karakter uzunluğundaki karakter dizileri için geçerlidir. Halbuki programlamada esas alınması gereken yöntem, kodlarınızı olabildiğince genel amaçlı tutup, farklı durumlarda da çalışabilmesini sağlamaktır. Dolayısıyla yukarıdaki mantığı şu şekilde kodlara dökmek çok daha akıllıca bir yol olacaktır:"
   ]
  },
  {
   "cell_type": "code",
   "execution_count": null,
   "id": "90cb0885-a414-49d1-b4d8-f08d9b6904e6",
   "metadata": {},
   "outputs": [],
   "source": [
    "kardiz = \"adana\"\n",
    "\n",
    "for i in range(len(kardiz)):\n",
    "    print(kardiz.index(\"a\", i))"
   ]
  },
  {
   "cell_type": "markdown",
   "id": "22b40be3-9062-4af2-807f-d09216cf97d8",
   "metadata": {},
   "source": [
    "Gördüğünüz gibi, yukarıdaki kodlar yardımıyla, bir önceki verimsiz kodları hem kısalttık, hem de daha geniş kapsamlı bir hale getirdik. Hatta yukarıdaki kodları şöyle yazarsanız karakter dizisi ve bu karakter dizisi içinde aranacak karakteri kullanıcıdan da alabilirsiniz:"
   ]
  },
  {
   "cell_type": "code",
   "execution_count": null,
   "id": "b55f02d5-8120-462c-9f21-cbd27aa47c9d",
   "metadata": {},
   "outputs": [],
   "source": [
    "kardiz = input(\"Metin girin: \")\n",
    "aranacak = input(\"Aradığınız harf: \")\n",
    "\n",
    "for i in range(len(kardiz)):\n",
    "    print(kardiz.index(aranacak, i))"
   ]
  },
  {
   "cell_type": "markdown",
   "id": "310f3307-c186-4015-8d3d-be05e9a544df",
   "metadata": {},
   "source": [
    "Bu kodlarda bazı problemler dikkatinizi çekmiş olmalı. Mesela, aranan karakter dizisinin bulunduğu konumlar çıktıda tekrar ediyor. Örneğin, kullanıcının “adana” karakter dizisi içinde ‘a’ harfini aramak istediğini varsayarsak programımız şöyle bir çıktı veriyor:\n",
    "\n",
    "0\n",
    "2\n",
    "2\n",
    "4\n",
    "4\n",
    "\n"
   ]
  },
  {
   "cell_type": "markdown",
   "id": "b6408aaf-76a8-471d-bd4d-899ba83eb606",
   "metadata": {},
   "source": [
    "Burada 2 ve 4 sayılarının birden fazla geçtiğini görüyoruz. Bunu engellemek için şöyle bir kod yazabiliriz:\n",
    "\n"
   ]
  },
  {
   "cell_type": "code",
   "execution_count": null,
   "id": "217adab8-26a7-44e8-8313-ae957d9f1eff",
   "metadata": {},
   "outputs": [],
   "source": [
    "kardiz = input(\"Metin girin: \")\n",
    "aranacak = input(\"Aradığınız harf: \")\n",
    "\n",
    "for i in range(len(kardiz)):\n",
    "    if i == kardiz.index(aranacak, i):\n",
    "        print(i)"
   ]
  },
  {
   "cell_type": "markdown",
   "id": "ac231a33-a185-4081-983d-0bdede7cfef6",
   "metadata": {},
   "source": [
    "Bu kodlarla yaptığımız şey şu: Öncelikle karakter dizisinin uzunluğunu gösteren sayı aralığı üzerinde bir for döngüsü kuruyoruz. Kullanıcının burada yine “adana” karakter dizisini girdiğini varsayarsak, “adana” karakter dizisinin uzunluğu 5 olduğu için for döngümüz şöyle görünecektir:\n",
    "\n",
    "for i in range(5):\n",
    "\n"
   ]
  },
  {
   "cell_type": "markdown",
   "id": "91ab7945-08f3-4e13-b4bb-365c540df2a0",
   "metadata": {},
   "source": [
    "Daha sonra for döngüsü içinde tanımladığımız i değişkeninin değerinin, karakter dizisi içinde aradığımız karakterin konumu ile eşleşip eşleşmediğini kontrol ediyoruz ve değeri eşleşen sayıları print() fonksiyonunu kullanarak ekrana döküyoruz.\n",
    "\n",
    "Eğer bu kodlar ilk bakışta gözünüze anlaşılmaz göründüyse bu kodları bir de şu şekilde yazarak arka planda neler olup bittiğini daha net görebilirsiniz:"
   ]
  },
  {
   "cell_type": "code",
   "execution_count": null,
   "id": "041b4c66-25d3-4c95-b678-6bd863d78129",
   "metadata": {},
   "outputs": [],
   "source": [
    "kardiz = input(\"Metin girin: \")\n",
    "aranacak = input(\"Aradığınız harf: \")\n",
    "\n",
    "for i in range(len(kardiz)):\n",
    "    print(\"i'nin değeri: \", i)\n",
    "    if i == kardiz.index(aranacak, i):\n",
    "        print(\"%s. sırada 1 adet %s harfi bulunuyor\" %(i, aranacak))\n",
    "    else:\n",
    "        print(\"%s. sırada %s harfi bulunmuyor\" %(i, aranacak))\n"
   ]
  },
  {
   "cell_type": "markdown",
   "id": "a207c496-215a-4d13-8b94-0e3c2d77d4a7",
   "metadata": {},
   "source": [
    "\n",
    "Gördüğünüz gibi index() metodu bir karakter dizisi içindeki karakterleri ararken karakter dizisini soldan sağa doğru okuyor. Python’da bu işlemin tersi de mümkündür. Yani isterseniz Python’ın, karakter dizisini soldan sağa doğru değil de, sağdan sola doğru okumasını da sağlayabilirsiniz. Bu iş için rindex() adlı bir metottan yararlanacağız. Bu metot her yönden index() metoduyla aynıdır. index() ve rindex() metotlarının birbirinden tek farkı, index() metodunun karakter dizilerini soldan sağa, rindex() metodunun ise sağdan sola doğru okumasıdır. Hemen bir örnekle durumu açıklamaya çalışalım:\n",
    "\n"
   ]
  },
  {
   "cell_type": "code",
   "execution_count": 64,
   "id": "b54da9c2-83f4-4811-a479-601f0dd6d4a7",
   "metadata": {},
   "outputs": [
    {
     "data": {
      "text/plain": [
       "0"
      ]
     },
     "execution_count": 64,
     "metadata": {},
     "output_type": "execute_result"
    }
   ],
   "source": [
    "kardiz = \"adana\"\n",
    "kardiz.index(\"a\")"
   ]
  },
  {
   "cell_type": "code",
   "execution_count": 65,
   "id": "a2a47703-4550-40e7-85b0-8d0fa918c2ac",
   "metadata": {},
   "outputs": [
    {
     "data": {
      "text/plain": [
       "4"
      ]
     },
     "execution_count": 65,
     "metadata": {},
     "output_type": "execute_result"
    }
   ],
   "source": [
    "kardiz.rindex(\"a\")"
   ]
  },
  {
   "cell_type": "markdown",
   "id": "999ad5a4-b174-4402-9f12-996f314a76d0",
   "metadata": {},
   "source": [
    "Bu iki örnek, index() ve rindex() metotları arasındaki farkı gayet net bir şekilde ortaya koyuyor. index() metodu, karakter dizisini soldan sağa doğru okuduğu için “adana” karakter dizisinin 0. sırasındaki ‘a’ harfini yakaladı. rindex() metodu ise karakter dizisini sağdan sola doğru okuduğu için “adana” karakter dizisinin 4. sırasındaki ‘a’ harfini yakaladı…\n",
    "\n"
   ]
  },
  {
   "cell_type": "markdown",
   "id": "5fab450a-09e2-438c-b8fd-d54ad777e1cd",
   "metadata": {},
   "source": [
    "++++++++++find, rfind()\n",
    "\n",
    "\n",
    "find() ve rfind() metotları tamamen index() ve rindex() metotlarına benzer. find() ve rfind() metotlarının görevi de bir karakter dizisi içindeki bir karakterin konumunu sorgulamaktır:"
   ]
  },
  {
   "cell_type": "code",
   "execution_count": 66,
   "id": "4bfb1687-fd39-4160-94fc-bbbb790de596",
   "metadata": {},
   "outputs": [
    {
     "data": {
      "text/plain": [
       "0"
      ]
     },
     "execution_count": 66,
     "metadata": {},
     "output_type": "execute_result"
    }
   ],
   "source": [
    "kardiz = \"adana\"\n",
    "kardiz.find(\"a\")"
   ]
  },
  {
   "cell_type": "code",
   "execution_count": 67,
   "id": "29b727cc-3d8a-461f-a569-2c4dfea2d4fc",
   "metadata": {},
   "outputs": [
    {
     "data": {
      "text/plain": [
       "4"
      ]
     },
     "execution_count": 67,
     "metadata": {},
     "output_type": "execute_result"
    }
   ],
   "source": [
    "kardiz.rfind(\"a\")"
   ]
  },
  {
   "cell_type": "markdown",
   "id": "fa3bcec0-deaa-4b76-bd82-664c00be247b",
   "metadata": {},
   "source": [
    "Peki index()/rindex() ve find()/rfind() metotları arasında ne fark var?\n",
    "\n",
    "index() ve rindex() metotları karakter dizisi içindeki karakteri sorgularken, eğer o karakteri bulamazsa bir ValueError hatası verir:\n",
    "\n"
   ]
  },
  {
   "cell_type": "code",
   "execution_count": 68,
   "id": "30633aa7-7bda-45d9-927a-d0f7c0652756",
   "metadata": {},
   "outputs": [
    {
     "ename": "ValueError",
     "evalue": "substring not found",
     "output_type": "error",
     "traceback": [
      "\u001b[0;31m---------------------------------------------------------------------------\u001b[0m",
      "\u001b[0;31mValueError\u001b[0m                                Traceback (most recent call last)",
      "Cell \u001b[0;32mIn[68], line 2\u001b[0m\n\u001b[1;32m      1\u001b[0m kardiz \u001b[38;5;241m=\u001b[39m \u001b[38;5;124m\"\u001b[39m\u001b[38;5;124madana\u001b[39m\u001b[38;5;124m\"\u001b[39m\n\u001b[0;32m----> 2\u001b[0m \u001b[43mkardiz\u001b[49m\u001b[38;5;241;43m.\u001b[39;49m\u001b[43mindex\u001b[49m\u001b[43m(\u001b[49m\u001b[38;5;124;43m\"\u001b[39;49m\u001b[38;5;124;43mz\u001b[39;49m\u001b[38;5;124;43m\"\u001b[39;49m\u001b[43m)\u001b[49m\n",
      "\u001b[0;31mValueError\u001b[0m: substring not found"
     ]
    }
   ],
   "source": [
    "kardiz = \"adana\"\n",
    "kardiz.index(\"z\")\n"
   ]
  },
  {
   "cell_type": "markdown",
   "id": "6cfdbf8c-f3e3-446e-a30f-bce14df01e14",
   "metadata": {},
   "source": [
    "Ama find() ve rfind() metotları böyle bir durumda -1 çıktısı verir:"
   ]
  },
  {
   "cell_type": "code",
   "execution_count": 69,
   "id": "a1d6c59c-a88b-4b98-9cc1-7d4c67883ae7",
   "metadata": {},
   "outputs": [
    {
     "data": {
      "text/plain": [
       "-1"
      ]
     },
     "execution_count": 69,
     "metadata": {},
     "output_type": "execute_result"
    }
   ],
   "source": [
    "kardiz = \"adana\"\n",
    "kardiz.find(\"z\")"
   ]
  },
  {
   "cell_type": "markdown",
   "id": "0a48a39c-d46d-4653-a1b4-e73c9f94f60c",
   "metadata": {},
   "source": [
    "Bu iki metot çifti arasındaki tek fark budur.\n",
    "\n"
   ]
  },
  {
   "cell_type": "markdown",
   "id": "117a28b4-1c88-4a70-9e50-e76bc80582fa",
   "metadata": {},
   "source": [
    "center()\n",
    "Center kelimesi İngilizce’de ‘orta, merkez, ortalamak’ gibi anlamlara gelir. Bu anlama uygun olarak, center() metodunu karakter dizilerini ortalamak için kullanabilirsiniz. Örneğin:"
   ]
  },
  {
   "cell_type": "code",
   "execution_count": null,
   "id": "86d64076-cd17-49c4-a951-cfb248b7cd10",
   "metadata": {},
   "outputs": [],
   "source": [
    "for metot in dir(\"\"):\n",
    "    print(metot.center(15))"
   ]
  },
  {
   "cell_type": "markdown",
   "id": "26eee6f0-5bc3-48a2-8a94-8292aadfb1c3",
   "metadata": {},
   "source": [
    "Gördüğünüz gibi center() metodu bir adet parametre alıyor. Bu parametre, karakter dizisine uygulanacak ortalama işleminin genişliğini gösteriyor. Bu parametrenin nasıl bir etki ortaya çıkardığını daha iyi anlayabilmek için isterseniz bir iki basit örnek verelim:\n",
    "\n"
   ]
  },
  {
   "cell_type": "code",
   "execution_count": 70,
   "id": "df9071ae-af08-492a-a910-8ac83aa051a2",
   "metadata": {},
   "outputs": [],
   "source": [
    "kardiz = \"python\""
   ]
  },
  {
   "cell_type": "markdown",
   "id": "e2f1dc55-ab14-4602-93f7-bade4649b515",
   "metadata": {},
   "source": [
    "Burada 6 karakterlik bir karakter dizisi tanımladık. Şimdi dikkatlice bakın:"
   ]
  },
  {
   "cell_type": "code",
   "execution_count": 71,
   "id": "aa28dad9-dde2-4eb4-bc9d-525896cdf54a",
   "metadata": {},
   "outputs": [
    {
     "data": {
      "text/plain": [
       "'python'"
      ]
     },
     "execution_count": 71,
     "metadata": {},
     "output_type": "execute_result"
    }
   ],
   "source": [
    "kardiz.center(1)"
   ]
  },
  {
   "cell_type": "markdown",
   "id": "b837c709-c08c-44f4-b81d-d5df2919e893",
   "metadata": {},
   "source": [
    "Burada ise center() metoduna parametre olarak 1 sayısını verdik. Ancak bu parametre karakter dizimizinin uzunluğundan az olduğu için çıktı üzerinde herhangi bir etkisi olmadı. Bir de şuna bakalım:\n",
    "\n"
   ]
  },
  {
   "cell_type": "code",
   "execution_count": 72,
   "id": "e5623ae2-d594-48c5-acd7-3ad92f33259c",
   "metadata": {},
   "outputs": [
    {
     "data": {
      "text/plain": [
       "'  python  '"
      ]
     },
     "execution_count": 72,
     "metadata": {},
     "output_type": "execute_result"
    }
   ],
   "source": [
    "kardiz.center(10)"
   ]
  },
  {
   "cell_type": "markdown",
   "id": "130e1704-1ce8-404c-86ed-5556e4342a3d",
   "metadata": {},
   "source": [
    "Çıktıdaki tırnak işaretlerine bakarak, ‘python’ kelimesinin ortalandığını görebilirsiniz. Buradan şu sonucu çıkarıyoruz: center() metoduna verilen genişlik parametresi aslında bir karakter dizisinin toplam kaç karakterlik bir yer kaplayacağını gösteriyor. Mesela yukarıdaki örnekte bu metoda verdiğimiz 10 sayısı \"python\" adlı karakter dizisinin toplam 10 karakterlik bir yer kaplayacağını gösteriyor. Kaplanacak yere karakter dizisinin kendisi de dahildir. Yani 10 olarak belirttiğimiz boşluk adedinin 6’sı ‘python’ kelimesinin kendisi tarafından işgal ediliyor. Geriye kalan 4 boşlukluk mesafe ise karakter dizisinin sol ve sağ tarafına paylaştırılıyor.\n",
    "\n",
    "center() metodunun karakter dizileri üzerindeki etkisini daha net olarak görmek için şöyle bir döngü kurabilirsiniz:"
   ]
  },
  {
   "cell_type": "code",
   "execution_count": 75,
   "id": "6d5b75fb-51f1-4002-b6a1-b28be818cc87",
   "metadata": {},
   "outputs": [
    {
     "name": "stdout",
     "output_type": "stream",
     "text": [
      "python\n",
      "python\n",
      "python\n",
      "python\n",
      "python\n",
      "python\n",
      " python\n",
      " python \n",
      "  python \n",
      "  python  \n",
      "   python  \n",
      "   python   \n",
      "    python   \n",
      "    python    \n",
      "     python    \n",
      "     python     \n",
      "      python     \n",
      "      python      \n",
      "       python      \n"
     ]
    }
   ],
   "source": [
    "for i in range(1, 20):\n",
    "    print(kardiz.center(i))\n",
    "   "
   ]
  },
  {
   "cell_type": "markdown",
   "id": "da732aa8-b2d4-4962-a815-7ab628cde60a",
   "metadata": {},
   "source": [
    "Bu örnekte, karakter dizisinin her adımda nasıl ortaya doğru kaydığı açıkça görülüyor. Dikkat ederseniz çıktının ilk altı satırında karakter dizisinin konumu değişmiyor. Ancak center() metoduna verilen parametrenin değeri karakter dizisinin uzunluğunu aştığı anda karakter dizisi ortaya doğru ilerlemeye başlıyor.\n",
    "\n",
    "center() metodu genellikle yukarıdaki gösterdiğimiz şekilde tek bir parametre ile birlikte kullanılır. Ancak bu metot aslında bir parametre daha alır. Şu örneği inceleyelim:\n",
    "\n"
   ]
  },
  {
   "cell_type": "code",
   "execution_count": 76,
   "id": "6d92f623-9f5e-477e-a334-ca2f01f51184",
   "metadata": {},
   "outputs": [
    {
     "data": {
      "text/plain": [
       "'---elma---'"
      ]
     },
     "execution_count": 76,
     "metadata": {},
     "output_type": "execute_result"
    }
   ],
   "source": [
    "kardiz = \"elma\"\n",
    "kardiz.center(10, \"-\")\n"
   ]
  },
  {
   "cell_type": "markdown",
   "id": "b4f52e40-8e43-49be-8b82-e100aff2b6ee",
   "metadata": {},
   "source": [
    "\n",
    "Gördüğünüz gibi, center() metoduna verdiğimiz “-” değeri sayesinde “elma” karakteri ortalanırken, sağ ve sol taraftaki boşluklara da “-” karakteri eklenmiş oldu.\n",
    "\n"
   ]
  },
  {
   "cell_type": "markdown",
   "id": "a393d44d-49ad-496d-98a1-54a37985b7e9",
   "metadata": {},
   "source": [
    "+++++++++++rjust(), ljust()\n",
    "\n",
    "\n",
    "Bu metotlar da tıpkı bir önceki center() metodu gibi karakter dizilerini hizalama vazifesi görür. rjust() metodu bir karakter dizisini sağa yaslarken, ljust() metodu karakter dizisini sola yaslar. Mesela şu iki kod parçasının çıktılarını inceleyin:"
   ]
  },
  {
   "cell_type": "code",
   "execution_count": 77,
   "id": "8727fe70-6059-46e5-a6cd-52c78f0a06c0",
   "metadata": {},
   "outputs": [
    {
     "name": "stdout",
     "output_type": "stream",
     "text": [
      "__add__             \n",
      "__class__           \n",
      "__contains__        \n",
      "__delattr__         \n",
      "__dir__             \n",
      "__doc__             \n",
      "__eq__              \n",
      "__format__          \n",
      "__ge__              \n",
      "__getattribute__    \n",
      "__getitem__         \n",
      "__getnewargs__      \n",
      "__gt__              \n",
      "__hash__            \n",
      "__init__            \n",
      "__init_subclass__   \n",
      "__iter__            \n",
      "__le__              \n",
      "__len__             \n",
      "__lt__              \n",
      "__mod__             \n",
      "__mul__             \n",
      "__ne__              \n",
      "__new__             \n",
      "__reduce__          \n",
      "__reduce_ex__       \n",
      "__repr__            \n",
      "__rmod__            \n",
      "__rmul__            \n",
      "__setattr__         \n",
      "__sizeof__          \n",
      "__str__             \n",
      "__subclasshook__    \n",
      "capitalize          \n",
      "casefold            \n",
      "center              \n",
      "count               \n",
      "encode              \n",
      "endswith            \n",
      "expandtabs          \n",
      "find                \n",
      "format              \n",
      "format_map          \n",
      "index               \n",
      "isalnum             \n",
      "isalpha             \n",
      "isascii             \n",
      "isdecimal           \n",
      "isdigit             \n",
      "isidentifier        \n",
      "islower             \n",
      "isnumeric           \n",
      "isprintable         \n",
      "isspace             \n",
      "istitle             \n",
      "isupper             \n",
      "join                \n",
      "ljust               \n",
      "lower               \n",
      "lstrip              \n",
      "maketrans           \n",
      "partition           \n",
      "removeprefix        \n",
      "removesuffix        \n",
      "replace             \n",
      "rfind               \n",
      "rindex              \n",
      "rjust               \n",
      "rpartition          \n",
      "rsplit              \n",
      "rstrip              \n",
      "split               \n",
      "splitlines          \n",
      "startswith          \n",
      "strip               \n",
      "swapcase            \n",
      "title               \n",
      "translate           \n",
      "upper               \n",
      "zfill               \n"
     ]
    }
   ],
   "source": [
    "for i in dir(\"\"):\n",
    "    print(i.ljust(20))\n"
   ]
  },
  {
   "cell_type": "code",
   "execution_count": 78,
   "id": "ac9d5d5c-f23c-4bda-b0ca-f91b409bda0b",
   "metadata": {},
   "outputs": [
    {
     "name": "stdout",
     "output_type": "stream",
     "text": [
      "             __add__\n",
      "           __class__\n",
      "        __contains__\n",
      "         __delattr__\n",
      "             __dir__\n",
      "             __doc__\n",
      "              __eq__\n",
      "          __format__\n",
      "              __ge__\n",
      "    __getattribute__\n",
      "         __getitem__\n",
      "      __getnewargs__\n",
      "              __gt__\n",
      "            __hash__\n",
      "            __init__\n",
      "   __init_subclass__\n",
      "            __iter__\n",
      "              __le__\n",
      "             __len__\n",
      "              __lt__\n",
      "             __mod__\n",
      "             __mul__\n",
      "              __ne__\n",
      "             __new__\n",
      "          __reduce__\n",
      "       __reduce_ex__\n",
      "            __repr__\n",
      "            __rmod__\n",
      "            __rmul__\n",
      "         __setattr__\n",
      "          __sizeof__\n",
      "             __str__\n",
      "    __subclasshook__\n",
      "          capitalize\n",
      "            casefold\n",
      "              center\n",
      "               count\n",
      "              encode\n",
      "            endswith\n",
      "          expandtabs\n",
      "                find\n",
      "              format\n",
      "          format_map\n",
      "               index\n",
      "             isalnum\n",
      "             isalpha\n",
      "             isascii\n",
      "           isdecimal\n",
      "             isdigit\n",
      "        isidentifier\n",
      "             islower\n",
      "           isnumeric\n",
      "         isprintable\n",
      "             isspace\n",
      "             istitle\n",
      "             isupper\n",
      "                join\n",
      "               ljust\n",
      "               lower\n",
      "              lstrip\n",
      "           maketrans\n",
      "           partition\n",
      "        removeprefix\n",
      "        removesuffix\n",
      "             replace\n",
      "               rfind\n",
      "              rindex\n",
      "               rjust\n",
      "          rpartition\n",
      "              rsplit\n",
      "              rstrip\n",
      "               split\n",
      "          splitlines\n",
      "          startswith\n",
      "               strip\n",
      "            swapcase\n",
      "               title\n",
      "           translate\n",
      "               upper\n",
      "               zfill\n"
     ]
    }
   ],
   "source": [
    "for i in dir(\"\"):\n",
    "    print(i.rjust(20))\n"
   ]
  },
  {
   "cell_type": "markdown",
   "id": "e4361eb0-1287-4b37-b900-53e4215e032d",
   "metadata": {},
   "source": [
    "ljust() metodu bize özellikle karakter dizilerinin hizalama işlemlerinde yardımcı oluyor. Bu metot yardımıyla karakter dizilerimizi sola yaslayıp, sağ tarafına da istediğimiz karakterleri yerleştirebiliyoruz. Hemen bir örnek verelim:\n",
    "\n"
   ]
  },
  {
   "cell_type": "code",
   "execution_count": 79,
   "id": "45ce00a2-761d-427b-a96e-1bb902e3403e",
   "metadata": {},
   "outputs": [
    {
     "data": {
      "text/plain": [
       "'tel no....'"
      ]
     },
     "execution_count": 79,
     "metadata": {},
     "output_type": "execute_result"
    }
   ],
   "source": [
    "kardiz = \"tel no\"\n",
    "kardiz.ljust(10, \".\")"
   ]
  },
  {
   "cell_type": "markdown",
   "id": "4b45ae0d-2722-444a-8252-80e619cb160b",
   "metadata": {},
   "source": [
    "Burada olan şey şu: ljust() metodu, kendisine verilen 10 parametresinin etkisiyle 10 karakterlik bir alan oluşturuyor. Bu 10 karakterlik alanın içine önce 6 karakterlik yer kaplayan “tel no” ifadesini, geri kalan 4 karakterlik boşluğa ise “.” karakterini yerleştiriyor. Eğer ljust() metoduna verilen sayı karakter dizisinin uzunluğundan az yer tutarsa, karakter dizisinin görünüşünde herhangi bir değişiklik olmayacaktır. Örneğin yukarıdaki örnekte karakter dizimizin uzunluğu 6. Dolayısıyla kodumuzu şu şekilde yazarsak bir sonuç elde edemeyiz:"
   ]
  },
  {
   "cell_type": "code",
   "execution_count": 80,
   "id": "9fb63ed1-5b97-40cc-a4f1-8c773e6c15f9",
   "metadata": {},
   "outputs": [
    {
     "data": {
      "text/plain": [
       "'tel no'"
      ]
     },
     "execution_count": 80,
     "metadata": {},
     "output_type": "execute_result"
    }
   ],
   "source": [
    "kardiz.ljust(5, \".\")"
   ]
  },
  {
   "cell_type": "markdown",
   "id": "2e3342dc-7ece-44ab-83e1-7dc3085e5a21",
   "metadata": {},
   "source": [
    "Gördüğünüz gibi, karakter dizisinde herhangi bir değişiklik olmadı. ljust() metoduna verdiğimiz “.” karakterini görebilmemiz için, verdiğimiz sayı cinsli parametrenin en az karakter dizisinin boyunun bir fazlası olması gerekir:\n",
    "\n"
   ]
  },
  {
   "cell_type": "code",
   "execution_count": 81,
   "id": "7b8174db-90d8-4ee5-8b54-d997fa7210f8",
   "metadata": {},
   "outputs": [
    {
     "data": {
      "text/plain": [
       "'tel no.'"
      ]
     },
     "execution_count": 81,
     "metadata": {},
     "output_type": "execute_result"
    }
   ],
   "source": [
    "kardiz.ljust(7, \".\")"
   ]
  },
  {
   "cell_type": "markdown",
   "id": "f6e7e267-4b53-4ad8-9dfa-6ce0fb5f3f36",
   "metadata": {},
   "source": [
    "ljust() metoduyla ilgili basit bir örnek daha verelim:\n",
    "\n"
   ]
  },
  {
   "cell_type": "code",
   "execution_count": 82,
   "id": "2951b15c-6225-47c1-a0e3-eb0f5fd94e50",
   "metadata": {},
   "outputs": [],
   "source": [
    "for i in \"elma\", \"armut\", \"patlıcan\":\n",
    "    i.ljust(10, \".\")"
   ]
  },
  {
   "cell_type": "markdown",
   "id": "e9fafa20-d5da-436c-aa2a-9aaa7e4d39f7",
   "metadata": {},
   "source": [
    "Gördüğünüz gibi, bu metot karakter dizilerini şık bir biçimde sola hizalamamıza yardımcı oluyor.\n",
    "\n",
    "rjust() metodu ise, ljust() metodunun yaptığı işin tam tersini yapar. Yani karakter dizilerini sola değil sağa yaslar:"
   ]
  },
  {
   "cell_type": "code",
   "execution_count": 83,
   "id": "98cb610a-bcb6-465a-965e-aceb46c2f4b3",
   "metadata": {},
   "outputs": [],
   "source": [
    "for i in \"elma\", \"armut\", \"patlıcan\":\n",
    "    i.rjust(10, \".\")"
   ]
  },
  {
   "cell_type": "markdown",
   "id": "55ec51a6-9830-4279-bda9-d2b73a00547b",
   "metadata": {},
   "source": [
    "ljust() ve rjust() metotları, kullanıcılarınıza göstereceğiniz çıktıların düzgün görünmesini sağlamak açısından oldukça faydalıdır."
   ]
  },
  {
   "cell_type": "markdown",
   "id": "8b23a99d-597e-4261-9c58-edee847381a2",
   "metadata": {},
   "source": [
    "++++++++zfill()\n",
    "\n",
    "\n",
    "Bu metot kimi yerlerde işimizi epey kolaylaştırabilir. zfill() metodu yardımıyla karakter dizilerinin sol tarafına istediğimiz sayıda sıfır ekleyebiliriz:"
   ]
  },
  {
   "cell_type": "code",
   "execution_count": 84,
   "id": "023fe970-2b52-4fad-84c0-a6fd49fbd367",
   "metadata": {},
   "outputs": [
    {
     "data": {
      "text/plain": [
       "'012'"
      ]
     },
     "execution_count": 84,
     "metadata": {},
     "output_type": "execute_result"
    }
   ],
   "source": [
    "a = \"12\"\n",
    "a.zfill(3)\n"
   ]
  },
  {
   "cell_type": "markdown",
   "id": "aa80004d-107a-4cf9-9fbe-6854e3731788",
   "metadata": {},
   "source": [
    "Bu metodu şöyle bir iş için kullanabilirsiniz:"
   ]
  },
  {
   "cell_type": "code",
   "execution_count": 85,
   "id": "90f7d475-34fb-45bc-8fab-e3a0ffefa992",
   "metadata": {},
   "outputs": [
    {
     "name": "stdout",
     "output_type": "stream",
     "text": [
      "00\n",
      "01\n",
      "02\n",
      "03\n",
      "04\n",
      "05\n",
      "06\n",
      "07\n",
      "08\n",
      "09\n",
      "10\n"
     ]
    }
   ],
   "source": [
    "for i in range(11):\n",
    "    print(str(i).zfill(2))"
   ]
  },
  {
   "cell_type": "markdown",
   "id": "a36251a9-cfee-4c0c-a39e-7f9eb2b1971d",
   "metadata": {},
   "source": [
    "Burada str() fonksiyonunu kullanarak, range() fonksiyonundan elde ettiğimiz sayıları birer karakter dizisine çevirdiğimize dikkat edin. Çünkü zfill() karakter dizilerinin bir metodudur. Sayıların değil…"
   ]
  },
  {
   "cell_type": "markdown",
   "id": "cfa24a45-cf3d-4576-8684-5b83fd330303",
   "metadata": {},
   "source": [
    "partition(), rpartition()\n",
    "Bu metot yardımıyla bir karakter dizisini belli bir ölçüte göre üçe bölüyoruz. Örneğin:"
   ]
  },
  {
   "cell_type": "code",
   "execution_count": 86,
   "id": "a432c360-9a57-4786-bb59-fb933cff6eb8",
   "metadata": {},
   "outputs": [
    {
     "data": {
      "text/plain": [
       "('ist', 'an', 'bul')"
      ]
     },
     "execution_count": 86,
     "metadata": {},
     "output_type": "execute_result"
    }
   ],
   "source": [
    "a = \"istanbul\"\n",
    "a.partition(\"an\")"
   ]
  },
  {
   "cell_type": "markdown",
   "id": "68c51ae8-701f-400a-8749-7d2e13c5be5a",
   "metadata": {},
   "source": [
    "Eğer partition() metoduna parantez içinde verdiğimiz ölçüt karakter dizisi içinde bulunmuyorsa şu sonuçla karşılaşırız:\n",
    "\n"
   ]
  },
  {
   "cell_type": "code",
   "execution_count": 87,
   "id": "b7d90251-d438-4503-9ec2-ee9a4e8c6035",
   "metadata": {},
   "outputs": [
    {
     "data": {
      "text/plain": [
       "('istanbul', '', '')"
      ]
     },
     "execution_count": 87,
     "metadata": {},
     "output_type": "execute_result"
    }
   ],
   "source": [
    "a = \"istanbul\"\n",
    "a.partition(\"h\")"
   ]
  },
  {
   "cell_type": "markdown",
   "id": "69bfc41d-2845-4baf-9be2-9b8107cb8075",
   "metadata": {},
   "source": [
    "Gelelim rpartition() metoduna… Bu metot da partition() metodu ile aynı işi yapar, ama yöntemi biraz farklıdır. partition() metodu karakter dizilerini soldan sağa doğru okur. rpartition() metodu ise sağdan sola doğru. Peki bu durumun ne gibi bir sonucu vardır? Hemen görelim:"
   ]
  },
  {
   "cell_type": "code",
   "execution_count": 88,
   "id": "bb945841-aa80-45a6-933a-493e7c45e980",
   "metadata": {},
   "outputs": [
    {
     "data": {
      "text/plain": [
       "('', 'i', 'stihza')"
      ]
     },
     "execution_count": 88,
     "metadata": {},
     "output_type": "execute_result"
    }
   ],
   "source": [
    "b = \"istihza\"\n",
    "b.partition(\"i\")"
   ]
  },
  {
   "cell_type": "markdown",
   "id": "e733536b-88e0-4a70-a041-709819fb49a8",
   "metadata": {},
   "source": [
    "Gördüğünüz gibi, partition() metodu karakter dizisini ilk ‘i’ harfinden böldü. Şimdi aynı işlemi rpartition() metodu ile yapalım:"
   ]
  },
  {
   "cell_type": "code",
   "execution_count": 89,
   "id": "9b836fd2-f3cb-4d0d-8dd3-3e4dd394e2d9",
   "metadata": {},
   "outputs": [
    {
     "data": {
      "text/plain": [
       "('ist', 'i', 'hza')"
      ]
     },
     "execution_count": 89,
     "metadata": {},
     "output_type": "execute_result"
    }
   ],
   "source": [
    "b.rpartition(\"i\")"
   ]
  },
  {
   "cell_type": "markdown",
   "id": "0a14f8ae-2be4-4cb6-9a2e-aff585cd9342",
   "metadata": {},
   "source": [
    "rpartition() metodu ise, karakter dizisini sağdan sola doğru okuduğu için ilk ‘i’ harfinden değil, son ‘i’ harfinden böldü karakter dizisini.\n",
    "\n",
    "partition() ve rpartition() metotları, ölçütün karakter dizisi içinde bulunmadığı durumlarda da farklı tepkiler verir:\n",
    "\n"
   ]
  },
  {
   "cell_type": "code",
   "execution_count": 90,
   "id": "8f5f9722-b2f0-4747-b33d-6f7144449da9",
   "metadata": {},
   "outputs": [
    {
     "data": {
      "text/plain": [
       "('istihza', '', '')"
      ]
     },
     "execution_count": 90,
     "metadata": {},
     "output_type": "execute_result"
    }
   ],
   "source": [
    "b.partition(\"g\")"
   ]
  },
  {
   "cell_type": "code",
   "execution_count": 91,
   "id": "484e2dd3-bacd-41af-833e-a4926f29e63c",
   "metadata": {},
   "outputs": [
    {
     "data": {
      "text/plain": [
       "('', '', 'istihza')"
      ]
     },
     "execution_count": 91,
     "metadata": {},
     "output_type": "execute_result"
    }
   ],
   "source": [
    "b.rpartition(\"g\")"
   ]
  },
  {
   "cell_type": "markdown",
   "id": "15593499-eac0-4782-82a3-575a88da07de",
   "metadata": {},
   "source": [
    "Gördüğünüz gibi, partition() metodu boş karakter dizilerini sağa doğru yaslarken, rpartition() metodu sola doğru yasladı.\n",
    "\n"
   ]
  },
  {
   "cell_type": "markdown",
   "id": "f38b4bab-c194-499a-bf0d-d15cb27e77bd",
   "metadata": {},
   "source": [
    "encode()\n",
    "Bu metot yardımıyla karakter dizilerimizi istediğimiz kodlama sistemine göre kodlayabiliriz. Python 3.x’te varsayılan karakter kodlaması utf-8’dir. Eğer istersek şu karakter dizisini utf-8 yerine cp1254 ile kodlayabiliriz:\n",
    "\n"
   ]
  },
  {
   "cell_type": "code",
   "execution_count": 92,
   "id": "7cfe4d99-b12a-4091-ad31-320e35337692",
   "metadata": {},
   "outputs": [
    {
     "data": {
      "text/plain": [
       "b'\\xe7ilek'"
      ]
     },
     "execution_count": 92,
     "metadata": {},
     "output_type": "execute_result"
    }
   ],
   "source": [
    "\"çilek\".encode(\"cp1254\")"
   ]
  },
  {
   "cell_type": "markdown",
   "id": "55163e23-120b-4aba-aedb-619cf964a981",
   "metadata": {},
   "source": [
    "+++++++expandtabs()\n",
    "\n",
    "\n",
    "Bu metot yardımıyla bir karakter dizisi içindeki sekme boşluklarını genişletebiliyoruz. Örneğin:"
   ]
  },
  {
   "cell_type": "code",
   "execution_count": 93,
   "id": "5a75e977-d923-4ec4-8b73-f7c38d120fc1",
   "metadata": {},
   "outputs": [
    {
     "data": {
      "text/plain": [
       "'elma      bir       meyvedir'"
      ]
     },
     "execution_count": 93,
     "metadata": {},
     "output_type": "execute_result"
    }
   ],
   "source": [
    "a = \"elma\\tbir\\tmeyvedir\"\n",
    "a.expandtabs(10)\n"
   ]
  },
  {
   "cell_type": "markdown",
   "id": "52258574-0299-480a-bad5-fe9567632f6f",
   "metadata": {},
   "source": [
    "Böylece bir metot grubunu daha geride bırakmış olduk. Gördüğünüz gibi bazı metotlar sıklıkla kullanılabilme potansiyeli taşırken, bazı metotlar pek öyle sık kullanılacakmış gibi görünmüyor…\n",
    "\n",
    "Sonraki bölümde metotları incelemeye devam edeceğiz."
   ]
  },
  {
   "cell_type": "code",
   "execution_count": null,
   "id": "fc2cac1c-acad-4bbe-92d8-618e1e98f27e",
   "metadata": {},
   "outputs": [],
   "source": []
  }
 ],
 "metadata": {
  "kernelspec": {
   "display_name": "Python 3 (ipykernel)",
   "language": "python",
   "name": "python3"
  },
  "language_info": {
   "codemirror_mode": {
    "name": "ipython",
    "version": 3
   },
   "file_extension": ".py",
   "mimetype": "text/x-python",
   "name": "python",
   "nbconvert_exporter": "python",
   "pygments_lexer": "ipython3",
   "version": "3.10.12"
  }
 },
 "nbformat": 4,
 "nbformat_minor": 5
}
