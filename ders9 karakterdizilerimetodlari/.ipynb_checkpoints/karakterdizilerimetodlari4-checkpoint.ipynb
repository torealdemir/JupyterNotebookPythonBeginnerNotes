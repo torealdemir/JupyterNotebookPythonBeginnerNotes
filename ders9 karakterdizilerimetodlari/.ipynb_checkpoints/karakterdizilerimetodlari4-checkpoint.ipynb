{
 "cells": [
  {
   "cell_type": "markdown",
   "id": "59952bcf-07cf-4ebe-ab14-780e3382276c",
   "metadata": {},
   "source": [
    "Karakter Dizilerinin Metotları (Devamı)\n",
    "Karakter dizileri konusunun 4. bölümüne geldik. Bu bölümde de karakter dizilerinin metotlarını incelemeye devam edeceğiz.\n",
    "\n",
    "str.maketrans(), translate()\n",
    "Bu iki metot birbiriyle bağlantılı olduğu ve genellikle birlikte kullanıldığı için, bunları bir arada göreceğiz.\n",
    "\n",
    "Dilerseniz bu iki metodun ne işe yaradığını anlatmaya çalışmak yerine bir örnek üzerinden bu metotların görevini anlamayı deneyelim.\n",
    "\n",
    "Şöyle bir vaka hayal edin: Bildiğiniz gibi, internet üzerinde bazen Türkçe karakterleri kullanamıyoruz. Böyle durumlarda, elimizdeki bir metni, cümleyi veya kelimeyi Türkçe karakter içermeyecek bir hale getirmemiz gerekebiliyor. Örneğin şu cümleyi ele alalım:\n",
    "\n",
    "Bildiğiniz gibi, internet üzerinde bazen Türkçe karakterleri kullanamıyoruz.\n",
    "\n",
    "İşte buna benzer bir cümleyi kimi zaman Türkçe karakterlerinden arındırmak zorunda kalabiliyoruz. Eğer elinizde Türkçe yazılmış bir metin varsa ve sizin amacınız bu metin içinde geçen Türkçeye özgü karakterleri noktasız benzerleriyle değiştirmek ise str.maketrans() ve translate() metotlarından yararlanabilirsiniz.\n",
    "\n",
    "Örneğimiz şu cümle idi:\n",
    "\n",
    "Bildiğiniz gibi, internet üzerinde bazen Türkçe karakterleri kullanamıyoruz.\n",
    "\n",
    "Amacımız bu cümleyi şu şekilde değiştirmek:\n",
    "\n",
    "Bildiginiz gibi, internet uzerinde bazen Turkce karakterleri kullanamiyoruz.\n",
    "\n",
    "Bunun için şöyle bir kod yazabilirsiniz:"
   ]
  },
  {
   "cell_type": "code",
   "execution_count": 2,
   "id": "566def31-2c90-4832-8b08-c3a51354171b",
   "metadata": {},
   "outputs": [
    {
     "name": "stdout",
     "output_type": "stream",
     "text": [
      "Bildiginiz gibi, internet uzerinde bazen Turkce karakterleri kullanamiyoruz.\n"
     ]
    }
   ],
   "source": [
    "kaynak = \"şçöğüıŞÇÖĞÜİ\"\n",
    "hedef  = \"scoguiSCOGUI\"\n",
    "\n",
    "çeviri_tablosu = str.maketrans(kaynak, hedef)\n",
    "\n",
    "metin = \"Bildiğiniz gibi, internet üzerinde bazen Türkçe karakterleri kullanamıyoruz.\"\n",
    "\n",
    "print(metin.translate(çeviri_tablosu))"
   ]
  },
  {
   "cell_type": "markdown",
   "id": "9fd31a64-c393-4a03-aa60-824a05c90f83",
   "metadata": {},
   "source": [
    "Gördüğünüz gibi, “kaynak” adlı karakter dizisi içinde belirttiğimiz bütün harfler “hedef” adlı karakter dizisi içindeki harflerle tek tek değiştirildi. Böylece Türkçeye özgü karakterleri (‘şçöğüıŞÇÖĞÜİ’) en yakın noktasız benzerleriyle (‘scoguiSCOGUI’) değiştirmiş olduk.\n",
    "\n",
    "Peki yukarıda nasıl bir süreç işledi de biz istediğimiz sonucu elde edebildik. Dilerseniz yukarıdaki kodlara biraz daha yakından bakalım. Mesela çeviri_tablosu adlı değişkenin çıktısına bakarak str.maketrans() metodunun alttan alta neler karıştırdığını görelim:"
   ]
  },
  {
   "cell_type": "code",
   "execution_count": 3,
   "id": "7d0069c0-7c2a-4553-9f08-cf11acc0ebb1",
   "metadata": {},
   "outputs": [
    {
     "name": "stdout",
     "output_type": "stream",
     "text": [
      "{351: 115, 231: 99, 246: 111, 287: 103, 252: 117, 305: 105, 350: 83, 199: 67, 214: 79, 286: 71, 220: 85, 304: 73}\n"
     ]
    }
   ],
   "source": [
    "kaynak = \"şçöğüıŞÇÖĞÜİ\"\n",
    "hedef  = \"scoguiSCOGUI\"\n",
    "\n",
    "çeviri_tablosu = str.maketrans(kaynak, hedef)\n",
    "\n",
    "print(çeviri_tablosu)\n"
   ]
  },
  {
   "cell_type": "markdown",
   "id": "494d42e3-ca06-47db-b22d-238a025b730e",
   "metadata": {},
   "source": [
    "Bu çıktı size tamamen anlamsız görünmüş olabilir. Ama aslında son derece anlamlı ve bir o kadar da önemli bir çıktıdır bu. Gelin isterseniz bu çıktının yapısını biraz inceleyelim. (Buna benzer bir çıktıyı sorted() metodunu incelerken de görmüştük)\n",
    "\n",
    "Gördüğünüz gibi, tamamen sayılardan oluşan bir çıktı bu. Burada birbirlerinden virgül ile ayrılmış sayı çiftleri görüyoruz. Bu sayı çiftlerini daha net görebilmek için bu çıktıyı derli toplu bir hale getirelim:\n",
    "\n",
    "{214: 79,\n",
    " 231: 99,\n",
    " 220: 85,\n",
    " 199: 67,\n",
    " 304: 73,\n",
    " 305: 105,\n",
    " 286: 71,\n",
    " 246: 111,\n",
    " 351: 115,\n",
    " 252: 117,\n",
    " 350: 83,\n",
    " 287: 103}"
   ]
  },
  {
   "cell_type": "markdown",
   "id": "70c18b19-253a-4267-8987-3f882d309b71",
   "metadata": {},
   "source": [
    "Bu şekilde sanırım çıktımız biraz daha anlam kazandı. Gördüğünüz gibi, iki nokta üst üste işaretinin solunda ve sağında bazı sayılar var. Tahmin edebileceğiniz gibi, soldaki sayılar sağdaki sayılarla ilişkili.\n",
    "\n",
    "Peki bütün bu sayılar ne anlama geliyor ve bu sayılar arasında ne tür bir ilişki var?\n",
    "\n",
    "Teknik olarak, bilgisayarların temelinde sayılar olduğunu duymuşsunuzdur. Bilgisayarınızda gördüğünüz her karakter aslında bir sayıya karşılık gelir. Zaten bilgisayarlar ‘a’, ‘b’, ‘c’, vb. kavramları anlayamaz. Bilgisayarların anlayabildiği tek şey sayılardır. Mesela siz klavyeden ‘a’ harfini girdiğinizde bilgisayar bunu 97 olarak algılar. Ya da siz ‘i’ harfi girdiğinizde, bilgisayarın gördüğü tek şey 105 sayısıdır… Bu durumu Python’daki chr() adlı özel bir fonksiyon yardımıyla teyit edebiliriz. Dikkatlice inceleyin:"
   ]
  },
  {
   "cell_type": "code",
   "execution_count": 4,
   "id": "0ec185f6-495a-4b7b-9d81-a9dabb8a918d",
   "metadata": {},
   "outputs": [
    {
     "data": {
      "text/plain": [
       "'a'"
      ]
     },
     "execution_count": 4,
     "metadata": {},
     "output_type": "execute_result"
    }
   ],
   "source": [
    "chr(97)"
   ]
  },
  {
   "cell_type": "code",
   "execution_count": 5,
   "id": "630c8daf-bb8a-4d8b-875b-f7d77490da58",
   "metadata": {},
   "outputs": [
    {
     "data": {
      "text/plain": [
       "'i'"
      ]
     },
     "execution_count": 5,
     "metadata": {},
     "output_type": "execute_result"
    }
   ],
   "source": [
    "chr(105)"
   ]
  },
  {
   "cell_type": "code",
   "execution_count": 6,
   "id": "e5f50747-5b2b-4416-baf8-2818b466c417",
   "metadata": {},
   "outputs": [
    {
     "data": {
      "text/plain": [
       "'A'"
      ]
     },
     "execution_count": 6,
     "metadata": {},
     "output_type": "execute_result"
    }
   ],
   "source": [
    "chr(65)"
   ]
  },
  {
   "cell_type": "markdown",
   "id": "54eadead-50f5-4b4a-9945-143c1053f919",
   "metadata": {},
   "source": [
    "Gördüğünüz gibi, gerçekten de her sayı bir karaktere karşılık geliyor. İsterseniz bir de yukarıdaki sayı grubundaki sayıları denetleyelim:"
   ]
  },
  {
   "cell_type": "code",
   "execution_count": 7,
   "id": "7874de0d-f821-445c-a389-324b2ac664aa",
   "metadata": {},
   "outputs": [
    {
     "name": "stdout",
     "output_type": "stream",
     "text": [
      "214 Ö\n",
      "231 ç\n",
      "220 Ü\n",
      "199 Ç\n",
      "304 İ\n",
      "305 ı\n",
      "286 Ğ\n",
      "246 ö\n",
      "351 ş\n",
      "252 ü\n",
      "350 Ş\n",
      "287 ğ\n"
     ]
    }
   ],
   "source": [
    "for i in 214, 231, 220, 199, 304, 305, 286, 246, 351, 252, 350, 287:\n",
    "    print(i, chr(i))"
   ]
  },
  {
   "cell_type": "markdown",
   "id": "768c25f9-8885-4da7-8f70-fcfb957fadb6",
   "metadata": {},
   "source": [
    "Bu çıktı sayesinde bazı şeyler zihninizde yavaş yavaş açıklığa kavuşuyor olmalı. Bu çıktı mesela 214 sayısının ‘Ö’ harfine, 220 sayısının ‘Ü’ harfine, 305 sayısının da ‘ı’ harfine karşılık geldiğini gösteriyor.\n",
    "\n",
    "Burada iki nokta işaretinin sol tarafında kalan sayıların karakter karşılıklarını gördük. Bir de iki nokta işaretinin sağ tarafında kalan sayılara bakalım:\n",
    "\n"
   ]
  },
  {
   "cell_type": "code",
   "execution_count": 8,
   "id": "8bef4118-5383-479b-9955-a5818066d1a5",
   "metadata": {},
   "outputs": [
    {
     "name": "stdout",
     "output_type": "stream",
     "text": [
      "79 O\n",
      "99 c\n",
      "85 U\n",
      "67 C\n",
      "73 I\n",
      "105 i\n",
      "71 G\n",
      "111 o\n",
      "115 s\n",
      "117 u\n",
      "83 S\n",
      "103 g\n"
     ]
    }
   ],
   "source": [
    "for i in 79, 99, 85, 67, 73, 105, 71, 111, 115, 117, 83, 103:\n",
    "    print(i, chr(i))"
   ]
  },
  {
   "cell_type": "markdown",
   "id": "3fc5d57b-8ab7-48e8-92e4-86881ce26d66",
   "metadata": {},
   "source": [
    "Burada da mesela 79 sayısının ‘O’ harfine, 85 sayısının ‘U’ harfine, 105 sayısının da ‘i’ harfine karşılık geldiğini görüyoruz.\n",
    "\n",
    "Yukarıdaki ve yukarıdan bir önceki kodların çıktılarını bir araya getirirseniz şöyle bir durumla karşı karşıya olduğunuzu görürsünüz:"
   ]
  },
  {
   "cell_type": "markdown",
   "id": "b5aba98e-a7e6-4527-a935-07b875392fad",
   "metadata": {},
   "source": [
    "Bütün bu söylediklerimizden şu sonuç çıkıyor:\n",
    "\n",
    "çeviri_tablosu = str.maketrans(kaynak, hedef) satırı, kaynak ve hedef olarak adlandırdığımız karakter dizilerini birleştirip, bu değişkenler içindeki herbir karakteri birbiriyle eşleştiriyor. Yani aşağıdaki gibi bir işlem yapıyor:\n",
    "\n"
   ]
  },
  {
   "cell_type": "raw",
   "id": "e9edbdc4-8fdf-4677-99c2-72966be5ec2c",
   "metadata": {},
   "source": [
    "çeviri_tablosu = {\"Ö\": \"O\",\n",
    "                  \"ç\": \"c\",\n",
    "                  \"Ü\": \"U\",\n",
    "                  \"Ç\": \"C\",\n",
    "                  \"İ\": \"I\",\n",
    "                  \"ı\": \"i\",\n",
    "                  \"Ğ\": \"G\",\n",
    "                  \"ö\": \"o\",\n",
    "                  \"ş\": \"s\",\n",
    "                  \"ü\": \"u\",\n",
    "                  \"Ş\": \"S\",\n",
    "                  \"ğ\": \"g\"}"
   ]
  },
  {
   "cell_type": "markdown",
   "id": "a5a8db1f-46c3-453b-969a-9b1e4e13fb07",
   "metadata": {},
   "source": [
    "Burada çeviri_tablosu değişkeni içinde gösterdiğimiz biçimin Python’daki adı ‘sözlük’tür. Sözlükler de tıpkı karakter dizileri gibi bir veri tipidir. Bunları da birkaç bölüm sonra ayrıntılı bir biçimde inceleyeceğiz. Biz burada, bazı şeyleri anlamamızı kolaylaştıracağı için sözlük adlı veri tipini oldukça genel bir biçimde sizlere tanıttık. Dediğim gibi, bu veri tipinin ayrıntılarını daha sonra inceleyeceğiz, ama yine de şu noktada sözlükleri kenarından köşesinden de olsa tanımamız bizim için faydalı olacaktır.\n",
    "\n",
    "Dediğim gibi, yukarıda çeviri_tablosu adıyla gösterdiğimiz şey bir sözlüktür. Bu sözlüğün nasıl çalıştığını görmek için şöyle bir kod yazalım:"
   ]
  },
  {
   "cell_type": "raw",
   "id": "b94c360d-0834-453c-ab99-979854604e06",
   "metadata": {},
   "source": [
    "çeviri_tablosu = {\"Ö\": \"O\",\n",
    "                  \"ç\": \"c\",\n",
    "                  \"Ü\": \"U\",\n",
    "                  \"Ç\": \"C\",\n",
    "                  \"İ\": \"I\",\n",
    "                  \"ı\": \"i\",\n",
    "                  \"Ğ\": \"G\",\n",
    "                  \"ö\": \"o\",\n",
    "                  \"ş\": \"s\",\n",
    "                  \"ü\": \"u\",\n",
    "                  \"Ş\": \"S\",\n",
    "                  \"ğ\": \"g\"}\n",
    "\n",
    "print(çeviri_tablosu[\"Ö\"])"
   ]
  },
  {
   "cell_type": "raw",
   "id": "69e37ef8-02de-4275-9ad1-e726b3f64956",
   "metadata": {},
   "source": [
    "Bu kodları bir dosyaya kaydedip çalıştırırsanız şöyle bir çıktı alırsınız:\n",
    "\n",
    "0"
   ]
  },
  {
   "cell_type": "markdown",
   "id": "062b79ae-d7b0-4510-a769-67a7a185f353",
   "metadata": {},
   "source": [
    "Gördüğünüz gibi, sözlük içinde geçen “Ö” adlı öğeyi parantez içinde belirttiğimiz zaman, Python bize bu öğenin karşısındaki değeri veriyor. Sözlük içinde “Ö” öğesinin karşılığı “O” harfi olduğu için de çıktımız “O” oluyor. Bir de şunlara bakalım:"
   ]
  },
  {
   "cell_type": "code",
   "execution_count": 9,
   "id": "9e3ebf2c-3e3b-4112-acd9-cef3227c5567",
   "metadata": {},
   "outputs": [
    {
     "name": "stdout",
     "output_type": "stream",
     "text": [
      "O\n",
      "c\n",
      "U\n",
      "C\n",
      "I\n",
      "i\n",
      "G\n",
      "o\n",
      "S\n",
      "g\n"
     ]
    }
   ],
   "source": [
    "çeviri_tablosu = {\"Ö\": \"O\",\n",
    "                  \"ç\": \"c\",\n",
    "                  \"Ü\": \"U\",\n",
    "                  \"Ç\": \"C\",\n",
    "                  \"İ\": \"I\",\n",
    "                  \"ı\": \"i\",\n",
    "                  \"Ğ\": \"G\",\n",
    "                  \"ö\": \"o\",\n",
    "                  \"ş\": \"s\",\n",
    "                  \"ü\": \"u\",\n",
    "                  \"Ş\": \"S\",\n",
    "                  \"ğ\": \"g\"}\n",
    "\n",
    "print(çeviri_tablosu[\"Ö\"])\n",
    "print(çeviri_tablosu[\"ç\"])\n",
    "print(çeviri_tablosu[\"Ü\"])\n",
    "print(çeviri_tablosu[\"Ç\"])\n",
    "print(çeviri_tablosu[\"İ\"])\n",
    "print(çeviri_tablosu[\"ı\"])\n",
    "print(çeviri_tablosu[\"Ğ\"])\n",
    "print(çeviri_tablosu[\"ö\"])\n",
    "print(çeviri_tablosu[\"Ş\"])\n",
    "print(çeviri_tablosu[\"ğ\"])"
   ]
  },
  {
   "cell_type": "markdown",
   "id": "c8968696-290e-421a-aece-e9101fc1be5f",
   "metadata": {},
   "source": [
    "Gördüğünüz gibi, sözlük içinde iki nokta üst üste işaretinin sol tarafında görünen öğeleri parantez içinde yazarak, iki nokta üst üste işaretinin sağ tarafındaki değerleri elde edebiliyoruz.\n",
    "\n",
    "Bütün bu anlattıklarımızdan sonra şu satırları gayet iyi anlamış olmalısınız:\n",
    "\n"
   ]
  },
  {
   "cell_type": "raw",
   "id": "b11a65bf-a2b2-49f0-9947-b35f917ccb5d",
   "metadata": {},
   "source": [
    "kaynak = \"şçöğüıŞÇÖĞÜİ\"\n",
    "hedef  = \"scoguiSCOGUI\"\n",
    "\n",
    "çeviri_tablosu = str.maketrans(kaynak, hedef)"
   ]
  },
  {
   "cell_type": "markdown",
   "id": "be163484-85b8-4844-98dc-7fd86623ce74",
   "metadata": {},
   "source": [
    "Burada Python, kaynak ve hedef adlı değişkenler içindeki karakter dizilerini birer birer eşleştirerek bize bir sözlük veriyor. Bu sözlükte:"
   ]
  },
  {
   "cell_type": "raw",
   "id": "3ebcfc47-7e2e-4025-9d1e-18869c0bc301",
   "metadata": {},
   "source": [
    "\"ş\" harfi \"s\" harfine;\n",
    "\"ç\" harfi \"c\" harfine;\n",
    "\"ö\" harfi \"o\" harfine;\n",
    "\"ğ\" harfi \"g\" harfine;\n",
    "\"ü\" harfi \"u\" harfine;\n",
    "\"ı\" harfi \"i\" harfine;\n",
    "\"Ş\" harfi \"S\" harfine;\n",
    "\"Ç\" harfi \"C\" harfine;\n",
    "\"Ö\" harfi \"O\" harfine;\n",
    "\"Ğ\" harfi \"G\" harfine;\n",
    "\"Ü\" harfi \"U\" harfine;\n",
    "\"İ\" harfi \"I\" harfine"
   ]
  },
  {
   "cell_type": "markdown",
   "id": "b514fd63-8799-41a1-92d7-581eedb3653c",
   "metadata": {},
   "source": [
    "karşılık geliyor…\n",
    "\n",
    "Kodların geri kalanında ise şu satırları görmüştük:\n",
    "\n"
   ]
  },
  {
   "cell_type": "code",
   "execution_count": 10,
   "id": "68b4b22a-06c4-457e-a06e-e1f8b9005669",
   "metadata": {},
   "outputs": [
    {
     "name": "stdout",
     "output_type": "stream",
     "text": [
      "Bildiğiniz gibi, internet üzerinde bazen Türkçe karakterleri kullanamıyoruz.\n"
     ]
    }
   ],
   "source": [
    "metin = \"Bildiğiniz gibi, internet üzerinde bazen Türkçe karakterleri kullanamıyoruz.\"\n",
    "\n",
    "print(metin.translate(çeviri_tablosu))"
   ]
  },
  {
   "cell_type": "markdown",
   "id": "ce9ec3cf-7aa7-45e4-83ab-a1c68095d5bb",
   "metadata": {},
   "source": [
    "Burada da orijinal metnimizi tanımladıktan sonra translate() adlı metot yardımıyla, çeviri tablosundaki öğe eşleşmesi doğrultusunda metnimizi tercüme ediyoruz. Bu kodlarda metin.translate(çeviri_tablosu) satırının yaptığı tek şey çeviri_tablosu adlı sözlükteki eşleşme kriterlerini metin adlı karakter dizisine uygulamaktan ibarettir.\n",
    "\n",
    "Karakter dizilerinin bu maketrans() adlı metodu kullanım olarak gözünüze öteki metotlardan farklı görünmüş olabilir. Daha açık bir dille ifade etmek gerekirse, bu metodu bir karakter dizisi üzerine değil de str üzerine uyguluyor olmamız, yani str.maketrans() yazıyor olmamız sizi şaşırtmış olabilir. Eğer anlamanızı kolaylaştıracaksa;"
   ]
  },
  {
   "cell_type": "code",
   "execution_count": 11,
   "id": "f09d3e2a-fe78-4e93-856e-74dcff537f74",
   "metadata": {},
   "outputs": [],
   "source": [
    "çeviri_tablosu = str.maketrans(kaynak, hedef)"
   ]
  },
  {
   "cell_type": "markdown",
   "id": "f6b418a4-3e03-499b-8fc4-8dd33984b9fc",
   "metadata": {},
   "source": [
    "satırını şu şekilde de yazabilirsiniz:"
   ]
  },
  {
   "cell_type": "code",
   "execution_count": 12,
   "id": "8e285cdf-2b95-4d0e-ba06-9e8409ea2a86",
   "metadata": {},
   "outputs": [],
   "source": [
    "çeviri_tablosu = ''.maketrans(kaynak, hedef)"
   ]
  },
  {
   "cell_type": "markdown",
   "id": "18384fd8-2298-421b-ac86-1dea7d0ba313",
   "metadata": {},
   "source": [
    "Yani maketrans() metodunu boş bir karakter dizisi üzerine de uygulayabilirsiniz. Neticede maketrans() karakter dizilerinin bir metodudur. Bu metot hangi karakter dizisi üzerine uygulandığıyla değil, parametre olarak hangi değerleri aldığıyla (bizim örneğimizde kaynak ve hedef) ilgilenir. Dolayısıyla bu metodu ilgili-ilgisiz her türlü karakter dizisine uygulayabilirsiniz:"
   ]
  },
  {
   "cell_type": "code",
   "execution_count": null,
   "id": "2c509415-9b6b-4c62-bfa0-20aea285e1d4",
   "metadata": {},
   "outputs": [],
   "source": [
    "çeviri_tablosu = 'mahmut'.maketrans(kaynak, hedef)\n",
    "çeviri_tablosu = 'zalim dünya!'.maketrans(kaynak, hedef)"
   ]
  },
  {
   "cell_type": "markdown",
   "id": "e879efdc-b0aa-45ec-acc3-a88555284514",
   "metadata": {},
   "source": [
    "Ama tabii dikkat dağıtmamak açısından en uygun hareket, bu karakter dizisini str üzerine uygulamak olacaktır:\n",
    "\n"
   ]
  },
  {
   "cell_type": "raw",
   "id": "f844d9f5-5f4c-43a6-95b8-8929254bcf63",
   "metadata": {},
   "source": [
    "çeviri_tablosu = str.maketrans(kaynak, hedef)"
   ]
  },
  {
   "cell_type": "markdown",
   "id": "b77fa44e-dee7-42f9-9b5c-b223cd2f8346",
   "metadata": {},
   "source": [
    "Bu küçük ayrıntıya da dikkati çektiğimize göre yolumuza devam edebiliriz…\n",
    "\n",
    "Yukarıda verdiğimiz örnek vasıtasıyla str.maketrans() ve translate() adlı metotları epey ayrıntılı bir şekilde incelemiş olduk. Dilerseniz pratik olması açısından bir örnek daha verelim:\n",
    "\n",
    "\n",
    "\n",
    "“Ben on parmak Türkçe F klavye kullanıyorum. Bunun için, bazı tuş kombinasyonları ile veya sistem tepsisi üzerindeki klavye simgesine tıklayarak Türkçe Q - Türkçe F değişimi yapıyorum. Bazen bunu yapmayı unutuyorum ve bir metne bakarak yazıyorsam gözüm ekranda olmuyor. Bir paragrafı yazıp bitirdikten sonra ekranda bir karakter salatası görünce çok bozuluyorum.”\n",
    "\n"
   ]
  },
  {
   "cell_type": "markdown",
   "id": "a27e978e-830c-490b-a6da-b8b0563ed60d",
   "metadata": {},
   "source": [
    "İşte böyle bir durumda yukarıdaki iki metodu kullanarak o karakter salatasını düzeltebilirsiniz. Karakter salatamız şu olsun:\n",
    "\n",
    "Bfjflrk öa kdhsı yteua idjslyd bdcusldvdj ks?\n",
    "\n",
    "Buna göre kodlarımızı yazmaya başlayabiliriz. Öncelikle metnimizi tanımlayalım:\n",
    "\n"
   ]
  },
  {
   "cell_type": "code",
   "execution_count": 13,
   "id": "39f8d91e-b336-404e-8f5d-3461bb028981",
   "metadata": {},
   "outputs": [],
   "source": [
    "metin = \"Bfjflrk öa kdhsı yteua idjslyd bdcusldvdj ks?\""
   ]
  },
  {
   "cell_type": "markdown",
   "id": "903c2d65-547e-4b91-a03c-66c78bdbd9f9",
   "metadata": {},
   "source": [
    "Şimdi de sırasıyla q ve f klavye düzenlerini birer karakter dizisi haline getirelim:\n",
    "\n"
   ]
  },
  {
   "cell_type": "code",
   "execution_count": 14,
   "id": "92a6708f-3448-4192-b5b5-661e5cee87c7",
   "metadata": {},
   "outputs": [],
   "source": [
    "q_klavye_düzeni = \"qwertyuıopğüasdfghjklşi,zxcvbnmöç.\"\n",
    "f_klavye_düzeni = \"fgğıodrnhpqwuieaütkmlyşxjövcçzsb.,\""
   ]
  },
  {
   "cell_type": "markdown",
   "id": "2011edfc-bde7-4db7-8db0-636f7e4ac968",
   "metadata": {},
   "source": [
    "Burada amacımız yanlışlıkla q klavye düzeninde yazıldığı için karman çorman bir hale gelmiş metni düzgün bir şekilde f klavye düzenine dönüştürmek. Yani burada çıkış noktamız (kaynağımız) q_klavye_düzeni iken, varış noktamız (hedefimiz) f_klavye_düzeni. Buna göre çeviri tablomuzu oluşturabiliriz:\n",
    "\n"
   ]
  },
  {
   "cell_type": "code",
   "execution_count": 15,
   "id": "4f5ab641-a75f-4f41-81b7-d5bd6129ae97",
   "metadata": {},
   "outputs": [],
   "source": [
    "çeviri_tablosu = str.maketrans(q_klavye_düzeni, f_klavye_düzeni)"
   ]
  },
  {
   "cell_type": "code",
   "execution_count": 16,
   "id": "a64216ec-3353-4adb-bbca-da591bac3896",
   "metadata": {},
   "outputs": [
    {
     "name": "stdout",
     "output_type": "stream",
     "text": [
      "{113: 102, 119: 103, 101: 287, 114: 305, 116: 111, 121: 100, 117: 114, 305: 110, 111: 104, 112: 112, 287: 113, 252: 119, 97: 117, 115: 105, 100: 101, 102: 97, 103: 252, 104: 116, 106: 107, 107: 109, 108: 108, 351: 121, 105: 351, 44: 120, 122: 106, 120: 246, 99: 118, 118: 99, 98: 231, 110: 122, 109: 115, 246: 98, 231: 46, 46: 44}\n"
     ]
    }
   ],
   "source": [
    "print(çeviri_tablosu)"
   ]
  },
  {
   "cell_type": "markdown",
   "id": "e8ed535b-dee5-4d14-9e11-90fb07b8db81",
   "metadata": {},
   "source": [
    "Tahmin edebileceğiniz gibi, bu sözlükte iki nokta üst üste işaretinin solundaki sayılar q_klavye_düzeni adlı değişken içindeki karakterleri; sağındaki sayılar ise f_klavye_düzeni adlı değişken içindeki karakterleri temsil ediyor.\n",
    "\n",
    "Son olarak translate() metodu yardımıyla sözlükteki öğe eşleşmesini metin adlı değişkenin üzerine uyguluyoruz:"
   ]
  },
  {
   "cell_type": "code",
   "execution_count": 17,
   "id": "510caab0-0ac9-408f-9d02-70746507b0c1",
   "metadata": {},
   "outputs": [
    {
     "name": "stdout",
     "output_type": "stream",
     "text": [
      "Bakalım bu metin doğru şekilde çevrilecek mi?\n"
     ]
    }
   ],
   "source": [
    "print(metin.translate(çeviri_tablosu))"
   ]
  },
  {
   "cell_type": "code",
   "execution_count": 18,
   "id": "31d98fa8-2bdd-47a8-b8fe-7a87c0443da9",
   "metadata": {},
   "outputs": [
    {
     "name": "stdout",
     "output_type": "stream",
     "text": [
      "Bakalım bu metin doğru şekilde çevrilecek mi?\n"
     ]
    }
   ],
   "source": [
    "metin = \"Bfjflrk öa kdhsı yteua idjslyd bdcusldvdj ks?\"\n",
    "\n",
    "q_klavye_düzeni = \"qwertyuıopğüasdfghjklşi,zxcvbnmöç.\"\n",
    "f_klavye_düzeni = \"fgğıodrnhpqwuieaütkmlyşxjövcçzsb.,\"\n",
    "\n",
    "çeviri_tablosu = str.maketrans(q_klavye_düzeni, f_klavye_düzeni)\n",
    "\n",
    "print(metin.translate(çeviri_tablosu))"
   ]
  },
  {
   "cell_type": "markdown",
   "id": "9ea17919-65a0-4cdd-ab26-135c7b7814bf",
   "metadata": {},
   "source": [
    "Ne elde ettiniz?\n",
    "\n",
    "Yukarıdaki iki örnekte de gördüğümüz gibi, str.maketrans() metodu kaynak ve hedef karakter dizilerini alıp bunları birleştirerek bize bir sözlük veri tipinde bir nesne veriyor. Yani tıpkı input() fonksiyonunun bize bir karakter dizisi verdiği gibi, str.maketrans() metodu da bize bir sözlük veriyor.\n",
    "\n",
    "Eğer isterseniz, sözlüğü str.maketrans() metoduna oluşturtmak yerine, kendiniz de bir sözlük oluşturarak str.maketrans() metoduna parametre olarak atayabilirsiniz. Örneğin:"
   ]
  },
  {
   "cell_type": "code",
   "execution_count": 19,
   "id": "e910c5a9-6163-409f-9b1d-4472c43465a2",
   "metadata": {},
   "outputs": [
    {
     "name": "stdout",
     "output_type": "stream",
     "text": [
      "Bakalım bu metin doğru şekilde çevrilecek mi?\n"
     ]
    }
   ],
   "source": [
    "metin = \"Bfjflrk öa kdhsı yteua idjslyd bdcusldvdj ks?\"\n",
    "\n",
    "sözlük = {\"q\": \"f\",\n",
    "          \"w\": \"g\",\n",
    "          \"e\": \"ğ\",\n",
    "          \"r\": \"ı\",\n",
    "          \"t\": \"o\",\n",
    "          \"y\": \"d\",\n",
    "          \"u\": \"r\",\n",
    "          \"ı\": \"n\",\n",
    "          \"o\": \"h\",\n",
    "          \"p\": \"p\",\n",
    "          \"ğ\": \"q\",\n",
    "          \"ü\": \"w\",\n",
    "          \"a\": \"u\",\n",
    "          \"s\": \"i\",\n",
    "          \"d\": \"e\",\n",
    "          \"f\": \"a\",\n",
    "          \"g\": \"ü\",\n",
    "          \"h\": \"t\",\n",
    "          \"j\": \"k\",\n",
    "          \"k\": \"m\",\n",
    "          \"l\": \"l\",\n",
    "          \"ş\": \"y\",\n",
    "          \"i\": \"ş\",\n",
    "          \",\": \"x\",\n",
    "          \"z\": \"j\",\n",
    "          \"x\": \"ö\",\n",
    "          \"c\": \"v\",\n",
    "          \"v\": \"c\",\n",
    "          \"b\": \"ç\",\n",
    "          \"n\": \"z\",\n",
    "          \"m\": \"s\",\n",
    "          \"ö\": \"b\",\n",
    "          \"ç\": \".\",\n",
    "          \".\": \",\"}\n",
    "\n",
    "çeviri_tablosu = str.maketrans(sözlük)\n",
    "print(metin.translate(çeviri_tablosu))"
   ]
  },
  {
   "cell_type": "markdown",
   "id": "f2a7f8e3-cd3b-44bc-92d7-673dde7ae59c",
   "metadata": {},
   "source": [
    "Burada birbiriyle eşleşecek karakterleri kendimiz yazıp bir sözlük oluşturduk ve bunu parametre olarak doğrudan str.maketrans() metoduna verdik. Bu kodlarda kaynak ve hedef diye iki ayrı karakter dizisi tanımlamak yerine tek bir sözlük oluşturduğumuz için, str.maketrans() metodunu iki parametreyle değil, tek parametreyle kullandığımıza dikkat edin. Ayrıca sözlüğü nasıl oluşturduğumuzu da dikkatlice inceleyin.\n",
    "\n",
    "Sözlükteki öğe çiftlerini böyle alt alta yazmamızın nedeni zorunluluk değil, bir tercihtir. İstersek bu sözlüğü şöyle de tanımlayabilirdik:"
   ]
  },
  {
   "cell_type": "code",
   "execution_count": 20,
   "id": "c2561f3e-2a81-4b01-a17f-21438908b965",
   "metadata": {},
   "outputs": [],
   "source": [
    "sözlük = {\"q\": \"f\", \"w\": \"g\", \"e\": \"ğ\", \"r\": \"ı\", \"t\": \"o\", \"y\": \"d\", \"u\": \"r\",\n",
    "          \"ı\": \"n\", \"o\": \"h\", \"p\": \"p\", \"ğ\": \"q\", \"ü\": \"w\", \"a\": \"u\", \"s\": \"i\",\n",
    "          \"d\": \"e\", \"f\": \"a\", \"g\": \"ü\", \"h\": \"t\", \"j\": \"k\", \"k\": \"m\", \"l\": \"l\",\n",
    "          \"ş\": \"y\", \"i\": \"ş\", \",\": \"x\", \"z\": \"j\", \"x\": \"ö\", \"c\": \"v\", \"v\": \"c\",\n",
    "          \"b\": \"ç\", \"n\": \"z\", \"m\": \"s\", \"ö\": \"b\", \"ç\": \".\", \".\": \",\"}"
   ]
  },
  {
   "cell_type": "markdown",
   "id": "450f6af2-584d-4f42-914a-267ae9339f2d",
   "metadata": {},
   "source": [
    "Burada da öğe çiftlerini yan yana yazdık. Bu iki yöntemden hangisi size daha okunaklı geliyorsa onu tercih edebilirsiniz.\n",
    "\n",
    "Şimdi size bir soru sormama izin verin. Acaba aşağıdaki metin içinde geçen bütün sesli harfleri silin desem, nasıl bir kod yazarsınız?\n",
    "\n",
    "Bu programlama dili Guido Van Rossum adlı Hollandalı bir programcı tarafından 90’lı yılların başında geliştirilmeye başlanmıştır. Çoğu insan, isminin Python olmasına bakarak, bu programlama dilinin, adını piton yılanından aldığını düşünür. Ancak zannedildiğinin aksine bu programlama dilinin adı piton yılanından gelmez. Guido Van Rossum bu programlama dilini, The Monty Python adlı bir İngiliz komedi grubunun, Monty Python’s Flying Circus adlı gösterisinden esinlenerek adlandırmıştır. Ancak her ne kadar gerçek böyle olsa da, Python programlama dilinin pek çok yerde bir yılan figürü ile temsil edilmesi neredeyse bir gelenek halini almıştır diyebiliriz.\n",
    "\n",
    "Aklınıza ilk olarak şöyle bir kod yazmak gelebilir:"
   ]
  },
  {
   "cell_type": "code",
   "execution_count": 21,
   "id": "a958223b-bd5a-49d2-bd16-05e68c1c401e",
   "metadata": {},
   "outputs": [
    {
     "name": "stdout",
     "output_type": "stream",
     "text": [
      "B prgrmlm dl Gd Vn Rssm dl Hllndl br\n",
      "prgrmc trfndn 90'l yllrn bşnd glştrlmy bşlnmştr.\n",
      "Çğ nsn, smnn Pythn lmsn bkrk, b prgrmlm dlnn, dn\n",
      "ptn ylnndn ldğn dşnr. nck znndldğnn ksn b\n",
      "prgrmlm dlnn d ptn ylnndn glmz. Gd Vn Rssm b\n",
      "prgrmlm dln, Th Mnty Pythn dl br nglz kmd grbnn, Mnty\n",
      "Pythn's Flyng Crcs dl gstrsndn snlnrk dlndrmştr. nck\n",
      "hr n kdr grçk byl ls d, Pythn prgrmlm dlnn pk çk yrd\n",
      "br yln fgr l tmsl dlms nrdys br glnk hln lmştr\n",
      "dyblrz.\n"
     ]
    }
   ],
   "source": [
    "metin = \"\"\"Bu programlama dili Guido Van Rossum adlı Hollandalı bir\n",
    "programcı tarafından 90'lı yılların başında geliştirilmeye başlanmıştır.\n",
    "Çoğu insan, isminin Python olmasına bakarak, bu programlama dilinin, adını\n",
    "piton yılanından aldığını düşünür. Ancak zannedildiğinin aksine bu\n",
    "programlama dilinin adı piton yılanından gelmez. Guido Van Rossum bu\n",
    "programlama dilini, The Monty Python adlı bir İngiliz komedi grubunun, Monty\n",
    "Python's Flying Circus adlı gösterisinden esinlenerek adlandırmıştır. Ancak\n",
    "her ne kadar gerçek böyle olsa da, Python programlama dilinin pek çok yerde\n",
    "bir yılan figürü ile temsil edilmesi neredeyse bir gelenek halini almıştır\n",
    "diyebiliriz.\"\"\"\n",
    "\n",
    "sesli_harfler = \"aeıioöuüAEIİOÖUÜ\"\n",
    "\n",
    "yeni_metin = \"\"\n",
    "\n",
    "for i in metin:\n",
    "    if not i in sesli_harfler:\n",
    "        yeni_metin += i\n",
    "\n",
    "print(yeni_metin)"
   ]
  },
  {
   "cell_type": "markdown",
   "id": "9d6889ef-5fd6-4495-953e-b8b8e1bbe672",
   "metadata": {},
   "source": [
    "Burada öncelikle metin adlı bir değişken tanımlayarak metnimizi bu değişken içine yerleştirdik. Ardından da Türkçedeki sesli harfleri içeren bir karakter dizisi tanımladık.\n",
    "\n",
    "Daha sonra da yeni_metin adlı boş bir karakter dizisi oluşturduk. Bu karakter dizisi, orijinal metnin, sesli harfler ayıklandıktan sonraki halini barındıracak. Biliyorsunuz, karakter dizileri değiştirilemeyen (immutable) bir veri tipidir. Dolayısıyla bir karakter dizisi içinde yaptığımız değişiklikleri koruyabilmek için bu değişiklikleri başka bir değişken içinde tutmamız gerekiyor.\n",
    "\n",
    "Bu kodların ardından bir for döngüsü tanımlıyoruz. Buna göre, metin içinde geçen her bir karaktere tek tek bakıyoruz (for i in metin:) ve bu karakterler arasında, sesli_harfler değişkeni içinde geçmeyenleri, yani bütün sessiz harfleri (if not i in sesli_harfler:) tek tek yeni_metin adlı değişkene yolluyoruz (yeni_metin += i).\n",
    "\n",
    "Son olarak da yeni_metin adlı karakter dizisini ekrana basıyoruz. Böylece orijinal metin içindeki bütün sesli harfleri ayıklamış oluyoruz.\n",
    "\n",
    "Yukarıdaki, gayet doğru ve geçerli bir yöntemdir. Böyle bir kod yazmanızın hiçbir sakıncası yok. Ama eğer isterseniz aynı işi str.maketrans() ve translate() metotları yardımıyla da halledebilirsiniz:"
   ]
  },
  {
   "cell_type": "code",
   "execution_count": 22,
   "id": "1d974882-8dd6-4002-9ff8-d7ac1551fe80",
   "metadata": {},
   "outputs": [
    {
     "name": "stdout",
     "output_type": "stream",
     "text": [
      "B prgrmlm dl Gd Vn Rssm dl Hllndl br\n",
      "prgrmc trfndn 90'l yllrn bşnd glştrlmy bşlnmştr.\n",
      "Çğ nsn, smnn Pythn lmsn bkrk, b prgrmlm dlnn, dn\n",
      "ptn ylnndn ldğn dşnr. nck znndldğnn ksn b\n",
      "prgrmlm dlnn d ptn ylnndn glmz. Gd Vn Rssm b\n",
      "prgrmlm dln, Th Mnty Pythn dl br nglz kmd grbnn, Mnty\n",
      "Pythn's Flyng Crcs dl gstrsndn snlnrk dlndrmştr. nck\n",
      "hr n kdr grçk byl ls d, Pythn prgrmlm dlnn pk çk yrd\n",
      "br yln fgr l tmsl dlms nrdys br glnk hln lmştr\n",
      "dyblrz.\n"
     ]
    }
   ],
   "source": [
    "metin = \"\"\"Bu programlama dili Guido Van Rossum adlı Hollandalı bir\n",
    "programcı tarafından 90'lı yılların başında geliştirilmeye başlanmıştır.\n",
    "Çoğu insan, isminin Python olmasına bakarak, bu programlama dilinin, adını\n",
    "piton yılanından aldığını düşünür. Ancak zannedildiğinin aksine bu\n",
    "programlama dilinin adı piton yılanından gelmez. Guido Van Rossum bu\n",
    "programlama dilini, The Monty Python adlı bir İngiliz komedi grubunun, Monty\n",
    "Python's Flying Circus adlı gösterisinden esinlenerek adlandırmıştır. Ancak\n",
    "her ne kadar gerçek böyle olsa da, Python programlama dilinin pek çok yerde\n",
    "bir yılan figürü ile temsil edilmesi neredeyse bir gelenek halini almıştır\n",
    "diyebiliriz.\"\"\"\n",
    "\n",
    "silinecek = \"aeıioöuüAEIİOÖUÜ\"\n",
    "\n",
    "çeviri_tablosu = str.maketrans('', '', silinecek)\n",
    "\n",
    "print(metin.translate(çeviri_tablosu))"
   ]
  },
  {
   "cell_type": "markdown",
   "id": "d2804747-a40c-430a-98ab-be519c5356df",
   "metadata": {},
   "source": [
    "Burada da öncelikle metnimizi bir karakter dizisi içine yerleştirdik. Daha sonra da şu kodu yazdık:\n",
    "\n"
   ]
  },
  {
   "cell_type": "raw",
   "id": "ec9cbcd0-394a-44a5-9647-26939d3709a8",
   "metadata": {},
   "source": [
    "silinecek = \"aeıioöuüAEIİOÖUÜ\""
   ]
  },
  {
   "cell_type": "markdown",
   "id": "25256b7d-afbf-4544-9e6f-492c0bd753d4",
   "metadata": {},
   "source": [
    "Bu kodlar yardımıyla, metin içinden çıkarmak istediğimiz harfleri tek tek belirledik.\n",
    "\n",
    "Ardından str.maketrans() fonksiyonumuzu yazarak çeviri tablosunu oluşturduk. Burada ilk iki parametrenin boş birer karakter dizisi olduğuna dikkat ediyoruz. İlk iki parametreyi bu şekilde yazmamızın nedeni şu: Biz orijinal metin içindeki herhangi bir şeyi değiştirmek istemiyoruz. Bizim amacımız orijinal metin içindeki sesli harfleri silmek. Tabii o iki parametreyi yazmasak da olmaz. O yüzden o iki parametrenin yerine birer tane boş karakter dizisi yerleştiriyoruz.\n",
    "\n",
    "Bu noktada çeviri_tablosu adlı değişkeni yazdırarak neler olup bittiğini daha net görebilirsiniz:"
   ]
  },
  {
   "cell_type": "raw",
   "id": "111d25e3-cf0a-4b31-98b8-451af187cd2c",
   "metadata": {},
   "source": [
    "{214: None,\n",
    " 97 : None,\n",
    " 101: None,\n",
    " 65 : None,\n",
    " 105: None,\n",
    " 111: None,\n",
    " 304: None,\n",
    " 305: None,\n",
    " 220: None,\n",
    " 117: None,\n",
    " 246: None,\n",
    " 73 : None,\n",
    " 79 : None,\n",
    " 252: None,\n",
    " 85 : None,\n",
    " 69 : None}\n"
   ]
  },
  {
   "cell_type": "markdown",
   "id": "349a8de4-5c26-4c97-acce-bf716af1ec11",
   "metadata": {},
   "source": [
    "Gördüğünüz gibi, silinecek adlı değişken içindeki bütün karakterler None değeriyle eşleşiyor… None ‘hiç, sıfır, yokluk’ gibi anlamlara gelir. Dolayısıyla Python, iki nokta üst üste işaretinin sol tarafındaki karakterlerle karşılaştığında bunların yerine birer adet ‘yokluk’ koyuyor! Yani sonuç olarak bu karakterleri metinden silmiş oluyor…\n",
    "\n",
    "Bu kodlarda iki nokta üst üste işaretinin solundaki karakterlerin None ile eşleşmesini sağlayan şey, str.maketrans() metoduna verdiğimiz üçüncü parametredir. Eğer o parametreyi yazmazsak, yani kodlarımızı şu şekle getirirsek çeviri_tablosu değişkeninin çıktısı farklı olacaktır:"
   ]
  },
  {
   "cell_type": "code",
   "execution_count": 24,
   "id": "e84c688d-a909-4d1a-9a7a-901909b44890",
   "metadata": {},
   "outputs": [
    {
     "name": "stdout",
     "output_type": "stream",
     "text": [
      "{}\n"
     ]
    }
   ],
   "source": [
    "metin = \"\"\"Bu programlama dili Guido Van Rossum adlı Hollandalı bir\n",
    "programcı tarafından 90'lı yılların başında geliştirilmeye başlanmıştır.\n",
    "Çoğu insan, isminin Python olmasına bakarak, bu programlama dilinin, adını\n",
    "piton yılanından aldığını düşünür. Ancak zannedildiğinin aksine bu\n",
    "programlama dilinin adı piton yılanından gelmez. Guido Van Rossum bu\n",
    "programlama dilini, The Monty Python adlı bir İngiliz komedi grubunun, Monty\n",
    "Python's Flying Circus adlı gösterisinden esinlenerek adlandırmıştır. Ancak\n",
    "her ne kadar gerçek böyle olsa da, Python programlama dilinin pek çok yerde\n",
    "bir yılan figürü ile temsil edilmesi neredeyse bir gelenek halini almıştır\n",
    "diyebiliriz.\"\"\"\n",
    "\n",
    "silinecek = \"aeıioöuüAEIİOÖUÜ\"\n",
    "\n",
    "çeviri_tablosu = str.maketrans('', '')\n",
    "\n",
    "print(çeviri_tablosu)"
   ]
  },
  {
   "cell_type": "markdown",
   "id": "b10dc0b5-65e9-4c9c-b28c-61ef846457ac",
   "metadata": {},
   "source": [
    "Gördüğünüz gibi, elde ettiğimiz şey boş bir sözlüktür. Sözlük boş olduğu, yani değiştirilecek herhangi bir karakter olmadığı için bu kodlar orijinal metin üzerinde herhangi bir değişiklik yapmaz.\n",
    "\n",
    "İsterseniz üçüncü parametrenin ne işe yaradığını ve nasıl çalıştığını daha iyi anlayabilmek için daha basit bir örnek verelim:\n",
    "\n"
   ]
  },
  {
   "cell_type": "code",
   "execution_count": 25,
   "id": "391fd609-32ee-4111-a4cc-9e251f0c5884",
   "metadata": {},
   "outputs": [
    {
     "name": "stdout",
     "output_type": "stream",
     "text": [
      "cmylmz\n"
     ]
    }
   ],
   "source": [
    "metin = \"Cem Yılmaz\"\n",
    "\n",
    "kaynak = \"CY\"\n",
    "hedef  = \"cy\"\n",
    "silinecek = \"eıa \"\n",
    "\n",
    "çeviri_tablosu = str.maketrans(kaynak, hedef, silinecek)\n",
    "\n",
    "print(metin.translate(çeviri_tablosu))"
   ]
  },
  {
   "cell_type": "markdown",
   "id": "7447be8c-024b-4398-8561-6b2b5a3ffcb5",
   "metadata": {},
   "source": [
    "Burada ‘C’ ve ‘Y’ harflerini sırasıyla ‘c’ ve ‘y’ harfleriyle eşleştirdik. Bu nedenle orijinal metin içindeki ‘C’ ve ‘Y’ harfleri yerlerini sırasıyla ‘c’ ve ‘y’ harflerine bıraktı. Silinecek karakterler olarak ise ‘e’, ‘ı’, ‘a’ ve boşluk karakterlerini seçtik. Böylece ‘Cem Yılmaz’ adlı orijinal metin içindeki boşluk karakteri de silinerek, bu metin ‘cmylmz’ karakter dizisine dönüştü."
   ]
  },
  {
   "cell_type": "markdown",
   "id": "1aca3221-f3e6-4271-8f91-76dd4fb5ea74",
   "metadata": {},
   "source": [
    "++++++++++++isalpha()\n",
    "\n",
    "\n",
    "Bu metot yardımıyla bir karakter dizisinin ‘alfabetik’ olup olmadığını denetleyeceğiz. Peki ‘alfabetik’ ne demek?\n",
    "\n",
    "Eğer bir karakter dizisi içinde yalnızca alfabe harfleri (‘a’, ‘b’, ‘c’ gibi…) varsa o karakter dizisi için ‘alfabetik’ diyoruz. Bir örnekle bunu doğrulayalım:\n",
    "\n"
   ]
  },
  {
   "cell_type": "code",
   "execution_count": 27,
   "id": "2e0ab0a7-7125-4315-94d9-cbc8545018aa",
   "metadata": {},
   "outputs": [
    {
     "data": {
      "text/plain": [
       "True"
      ]
     },
     "execution_count": 27,
     "metadata": {},
     "output_type": "execute_result"
    }
   ],
   "source": [
    "a = \"kezban\"\n",
    "a.isalpha()"
   ]
  },
  {
   "cell_type": "code",
   "execution_count": 28,
   "id": "0176a5b2-376f-4b99-95ab-cee55e9a69a0",
   "metadata": {},
   "outputs": [
    {
     "data": {
      "text/plain": [
       "False"
      ]
     },
     "execution_count": 28,
     "metadata": {},
     "output_type": "execute_result"
    }
   ],
   "source": [
    "b = \"k3zb6n\"\n",
    "b.isalpha()\n"
   ]
  },
  {
   "cell_type": "markdown",
   "id": "848896d3-9031-4c4b-8694-8854137486dc",
   "metadata": {},
   "source": [
    "+++++++++++++isdigit()\n",
    "\n",
    "\n",
    "Bu metot da isalpha() metoduna benzer. Bunun yardımıyla bir karakter dizisinin sayısal olup olmadığını denetleyebiliriz. Sayılardan oluşan karakter dizilerine ‘sayı değerli karakter dizileri’ adı verilir. Örneğin şu bir ‘sayı değerli karakter dizisi’dir:"
   ]
  },
  {
   "cell_type": "code",
   "execution_count": 29,
   "id": "246d28d9-0914-4c21-adb8-bf340cdc1231",
   "metadata": {},
   "outputs": [],
   "source": [
    "a = \"12345\""
   ]
  },
  {
   "cell_type": "code",
   "execution_count": 30,
   "id": "785a1603-fe93-4405-a7d9-0ce3ab18b0aa",
   "metadata": {},
   "outputs": [
    {
     "data": {
      "text/plain": [
       "True"
      ]
     },
     "execution_count": 30,
     "metadata": {},
     "output_type": "execute_result"
    }
   ],
   "source": [
    "a.isdigit()"
   ]
  },
  {
   "cell_type": "markdown",
   "id": "123310b5-4437-4986-889f-dc723cbcf398",
   "metadata": {},
   "source": [
    "Ama şu karakter dizisi sayısal değildir:\n",
    "\n"
   ]
  },
  {
   "cell_type": "code",
   "execution_count": 31,
   "id": "383209a0-89a6-429f-bd70-a818c46a53a8",
   "metadata": {},
   "outputs": [
    {
     "data": {
      "text/plain": [
       "False"
      ]
     },
     "execution_count": 31,
     "metadata": {},
     "output_type": "execute_result"
    }
   ],
   "source": [
    "b = \"123445b\"\n",
    "b.isdigit()"
   ]
  },
  {
   "cell_type": "markdown",
   "id": "bf5018f2-6815-4dcb-a66a-0d948ef29509",
   "metadata": {},
   "source": [
    "+++++++++++++isalnum()\n",
    "\n",
    "\n",
    "Bu metot, bir karakter dizisinin ‘alfanümerik’ olup olmadığını denetlememizi sağlar. Peki ‘alfanümerik’ nedir?\n",
    "\n",
    "Daha önce bahsettiğimiz metotlardan hatırlayacaksınız:\n",
    "\n",
    "Alfabetik karakter dizileri, alfabe harflerinden oluşan karakter dizileridir.\n",
    "\n",
    "Sayısal karakter dizileri, sayılardan oluşan karakter dizileridir.\n",
    "\n",
    "Alfanümerik karakter dizileri ise bunun birleşimidir. Yani sayı ve/veya harflerden oluşan karakter dizilerine alfanümerik karakter dizileri adı verilir. Örneğin şu karakter dizisi alfanümerik bir karakter dizisidir:\n",
    "\n"
   ]
  },
  {
   "cell_type": "code",
   "execution_count": 32,
   "id": "96c1adb9-7bb4-4f29-8a38-e431a0f63743",
   "metadata": {},
   "outputs": [
    {
     "data": {
      "text/plain": [
       "True"
      ]
     },
     "execution_count": 32,
     "metadata": {},
     "output_type": "execute_result"
    }
   ],
   "source": [
    "a = \"123abc\"\n",
    "a.isalnum()"
   ]
  },
  {
   "cell_type": "code",
   "execution_count": 33,
   "id": "9a754fa9-4085-4dcd-8a67-def74fb84cb9",
   "metadata": {},
   "outputs": [
    {
     "data": {
      "text/plain": [
       "False"
      ]
     },
     "execution_count": 33,
     "metadata": {},
     "output_type": "execute_result"
    }
   ],
   "source": [
    "b = \"123abc>\"\n",
    "b.isalnum()\n"
   ]
  },
  {
   "cell_type": "markdown",
   "id": "c06cbaa7-f01d-43e3-8efd-6a3d26573694",
   "metadata": {},
   "source": [
    "b değişkeninin tuttuğu karakter dizisinde alfanümerik karakterlerin yanısıra (“123abc”), alfanümerik olmayan bir karakter dizisi de bulunduğu için (“>”), b.isalnum() şeklinde gösterdiğimiz denetlemenin sonucu False (yanlış) olarak görünecektir.\n",
    "\n",
    "Dolayısıyla, bir karakter dizisi içinde en az bir adet alfanümerik olmayan bir karakter dizisi bulunursa (bizim örneğimizde \">\"), o karakter dizisi alfanümerik olmayacaktır.\n",
    "\n"
   ]
  },
  {
   "cell_type": "markdown",
   "id": "e063cfaa-e857-4030-9fe0-0d095f678c11",
   "metadata": {},
   "source": [
    "+++++++++++++++isdecimal()\n",
    "\n",
    "\n",
    "Bu metot yardımıyla bir karakter dizisinin ondalık sayı cinsinden olup olmadığını denetliyoruz. Mesela aşağıdaki örnek ondalık sayı cinsinden bir karakter dizisidir:"
   ]
  },
  {
   "cell_type": "code",
   "execution_count": 34,
   "id": "07294b33-8a13-4dca-b953-fa28d1910473",
   "metadata": {},
   "outputs": [
    {
     "data": {
      "text/plain": [
       "True"
      ]
     },
     "execution_count": 34,
     "metadata": {},
     "output_type": "execute_result"
    }
   ],
   "source": [
    "a = \"123\"\n",
    "a.isdecimal()"
   ]
  },
  {
   "cell_type": "markdown",
   "id": "023e4a51-e60f-4709-8545-5d506303fbcb",
   "metadata": {},
   "source": [
    "Ama şu ise kayan noktalı (floating-point) sayı cinsinden bir karakter dizisidir:"
   ]
  },
  {
   "cell_type": "code",
   "execution_count": 35,
   "id": "c09c978e-eccc-4742-a278-67b8b793e9c2",
   "metadata": {},
   "outputs": [
    {
     "data": {
      "text/plain": [
       "False"
      ]
     },
     "execution_count": 35,
     "metadata": {},
     "output_type": "execute_result"
    }
   ],
   "source": [
    "a = \"123.3\"\n",
    "a.isdecimal()"
   ]
  },
  {
   "cell_type": "markdown",
   "id": "30919351-1379-4aef-b216-5f0626a54bf0",
   "metadata": {},
   "source": [
    "Dolayısıyla a.isdecimal() komutu False çıktısı verir…"
   ]
  },
  {
   "cell_type": "markdown",
   "id": "d0b480e0-bb44-47a6-b31b-f29a67791b79",
   "metadata": {},
   "source": [
    "+++++++++++isidentifier()\n",
    "\n",
    "\n",
    "Identifier kelimesi Türkçede ‘tanımlayıcı’ anlamına gelir. Python’da değişkenler, fonksiyon ve modül adlarına ‘tanımlayıcı’ denir. İşte başlıkta gördüğümüz isidentifier() metodu, neyin tanımlayıcı olup neyin tanımlayıcı olamayacağını denetlememizi sağlar. Hatırlarsanız değişkenler konusundan bahsederken, değişken adı belirlemenin bazı kuralları olduğunu söylemiştik. Buna göre, örneğin, değişken adları bir sayı ile başlayamıyordu. Dolayısıyla şöyle bir değişken adı belirleyemiyoruz:"
   ]
  },
  {
   "cell_type": "code",
   "execution_count": 37,
   "id": "07ca5480-9a96-4ba4-8120-5e5200fbe3c7",
   "metadata": {},
   "outputs": [],
   "source": [
    "la = 12"
   ]
  },
  {
   "cell_type": "code",
   "execution_count": 39,
   "id": "00864708-10f0-4466-9c7a-61cf8de19b77",
   "metadata": {},
   "outputs": [
    {
     "data": {
      "text/plain": [
       "False"
      ]
     },
     "execution_count": 39,
     "metadata": {},
     "output_type": "execute_result"
    }
   ],
   "source": [
    "\"1a\".isidentifier()"
   ]
  },
  {
   "cell_type": "markdown",
   "id": "c94983c3-9fa6-4f68-94ea-166f1913aa95",
   "metadata": {},
   "source": [
    "Demek ki \"1a\" ifadesini herhangi bir tanımlayıcı adı olarak kullanamıyoruz. Yani bu ada sahip bir değişken, fonksiyon adı veya modül adı oluşturamıyoruz. Ama mesela \"liste1\" ifadesi geçerli bir tanımlayıcıdır. Hemen denetleyelim:"
   ]
  },
  {
   "cell_type": "code",
   "execution_count": 41,
   "id": "04c0992d-1950-4629-9596-d9268c73c5c0",
   "metadata": {},
   "outputs": [
    {
     "data": {
      "text/plain": [
       "True"
      ]
     },
     "execution_count": 41,
     "metadata": {},
     "output_type": "execute_result"
    }
   ],
   "source": [
    "\"liste1\".isidentifier()\n"
   ]
  },
  {
   "cell_type": "markdown",
   "id": "0c0061e6-5317-4522-aa88-0ed310d20879",
   "metadata": {},
   "source": [
    "++++++++isnumeric()\n",
    "\n",
    "\n",
    "Bu metot bir karakter dizisinin nümerik olup olmadığını denetler. Yani bu metot yardımıyla bir karakter dizisinin sayı değerli olup olmadığını denetleyebiliriz:"
   ]
  },
  {
   "cell_type": "code",
   "execution_count": 42,
   "id": "85f628de-bf8a-491d-b900-07b2944742a6",
   "metadata": {},
   "outputs": [
    {
     "data": {
      "text/plain": [
       "True"
      ]
     },
     "execution_count": 42,
     "metadata": {},
     "output_type": "execute_result"
    }
   ],
   "source": [
    "a = \" \"\n",
    "a.isspace()\n"
   ]
  },
  {
   "cell_type": "code",
   "execution_count": 43,
   "id": "7867509a-eae9-4473-a09c-2c6ed16b4f38",
   "metadata": {},
   "outputs": [
    {
     "data": {
      "text/plain": [
       "True"
      ]
     },
     "execution_count": 43,
     "metadata": {},
     "output_type": "execute_result"
    }
   ],
   "source": [
    "a = \"              \"\n",
    "a.isspace()\n"
   ]
  },
  {
   "cell_type": "code",
   "execution_count": 44,
   "id": "13a2c7a4-d0c2-4909-9362-8b746dd12054",
   "metadata": {},
   "outputs": [
    {
     "data": {
      "text/plain": [
       "False"
      ]
     },
     "execution_count": 44,
     "metadata": {},
     "output_type": "execute_result"
    }
   ],
   "source": [
    "a = \"\" #karakter dizimiz tamamen boş. İçinde boşluk karakteri bile yok...\n",
    "a.isspace()"
   ]
  },
  {
   "cell_type": "code",
   "execution_count": 49,
   "id": "3f9ccd6f-3d6e-4974-a52c-10c070cd584e",
   "metadata": {},
   "outputs": [
    {
     "data": {
      "text/plain": [
       "False"
      ]
     },
     "execution_count": 49,
     "metadata": {},
     "output_type": "execute_result"
    }
   ],
   "source": [
    "a = \"fd\"\n",
    "a.isspace()"
   ]
  },
  {
   "cell_type": "markdown",
   "id": "b5d348c8-02e4-4992-a141-fb701ebe7e36",
   "metadata": {},
   "source": [
    "isprintable()\n",
    "Hatırlarsanız önceki derslerimizde \\n, \\t, \\r ve buna benzer karakterlerden söz etmiştik. Örneğin \\n karakterinin ‘satır başı’ anlamına geldiğini ve bu karakterin görevinin karakter dizisini bir alt satıra almak olduğunu söylemiştik. Örnek verelim:\n",
    "\n"
   ]
  },
  {
   "cell_type": "code",
   "execution_count": 50,
   "id": "edd1b362-4cc9-49b6-b435-074d2b1ff814",
   "metadata": {},
   "outputs": [
    {
     "name": "stdout",
     "output_type": "stream",
     "text": [
      "birinci satır\n",
      "ikinci satır\n"
     ]
    }
   ],
   "source": [
    "print(\"birinci satır\\nikinci satır\")"
   ]
  },
  {
   "cell_type": "markdown",
   "id": "b7a8f934-d9ce-423b-a1f3-911b061ee366",
   "metadata": {},
   "source": [
    "Bu örnekte \\n karakterinin öteki karakterlerden farklı olduğunu görüyorsunuz. Mesela “b” karakteri komut çıktısında görünüyor. Ama \\n karakteri çıktıda görünmüyor. \\n karakteri elbette yukarıdaki kodlar içinde belli bir işleve sahip. Ancak karakter dizisindeki öteki karakterlerden farklı olarak \\n karakteri ekranda görünmüyor. İşte Python’da bunun gibi, ekranda görünmeyen karakterlere ‘basılmayan karakterler’ (non-printing characters) adı verilir. ‘b’, ‘c’, ‘z’, ‘x’, ‘=’, ‘?’, ‘!’ ve benzeri karakterler ise ‘basılabilen karakterler’ (printable characters) olarak adlandırılır. İşte başlıkta gördüğünüz isprintable() metodu da karakterlerin bu yönünü sorgular. Yani bir karakterin basılabilen bir karakter mi yoksa basılmayan bir karakter mi olduğunu söyler bize. Örneğin:"
   ]
  },
  {
   "cell_type": "code",
   "execution_count": 51,
   "id": "c486398f-c068-4c4b-8b69-3815151dc24b",
   "metadata": {},
   "outputs": [
    {
     "data": {
      "text/plain": [
       "True"
      ]
     },
     "execution_count": 51,
     "metadata": {},
     "output_type": "execute_result"
    }
   ],
   "source": [
    "karakter = \"a\"\n",
    "karakter.isprintable()"
   ]
  },
  {
   "cell_type": "markdown",
   "id": "9a91b809-1417-45ec-abcb-8cb1a4e82a9a",
   "metadata": {},
   "source": [
    "Demek ki “a” karakteri basılabilen bir karaktermiş. Bir de şuna bakalım:"
   ]
  },
  {
   "cell_type": "code",
   "execution_count": 52,
   "id": "738d84dd-a2cf-456d-90df-76606745ee50",
   "metadata": {},
   "outputs": [
    {
     "data": {
      "text/plain": [
       "False"
      ]
     },
     "execution_count": 52,
     "metadata": {},
     "output_type": "execute_result"
    }
   ],
   "source": [
    "karakter = \"\\n\"\n",
    "karakter.isprintable()"
   ]
  },
  {
   "cell_type": "markdown",
   "id": "12c7036a-93ef-4e8d-bf07-ff25937a2761",
   "metadata": {},
   "source": [
    "Demek ki \\n karakteri gerçekten de basılamayan bir karaktermiş.\n",
    "\n",
    "Basılamayan karakterlerin listesini görmek için https://www.asciitable.com/ adresini ziyaret edebilirsiniz. Listedeki ilk 32 karakter (0’dan başlayarak 32’ye kadar olan karakterler) ve listedeki 127. karakter basılamayan karakterlerdir.\n",
    "\n"
   ]
  },
  {
   "cell_type": "code",
   "execution_count": null,
   "id": "120e06d5-1642-4a66-9169-1018a1c22783",
   "metadata": {},
   "outputs": [],
   "source": []
  }
 ],
 "metadata": {
  "kernelspec": {
   "display_name": "Python 3 (ipykernel)",
   "language": "python",
   "name": "python3"
  },
  "language_info": {
   "codemirror_mode": {
    "name": "ipython",
    "version": 3
   },
   "file_extension": ".py",
   "mimetype": "text/x-python",
   "name": "python",
   "nbconvert_exporter": "python",
   "pygments_lexer": "ipython3",
   "version": "3.10.12"
  }
 },
 "nbformat": 4,
 "nbformat_minor": 5
}
