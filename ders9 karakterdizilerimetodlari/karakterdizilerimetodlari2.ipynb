{
 "cells": [
  {
   "cell_type": "markdown",
   "id": "f3291a61-a522-4960-bc05-ebcbd8b59f53",
   "metadata": {},
   "source": [
    "++++++Karakter Dizilerinin Metotları\n",
    "\n",
    "\n",
    "Geçen bölümde karakter dizilerinin genel özelliklerinden söz ettik. Bu ikinci bölümde ise karakter dizilerini biraz daha ayrıntılı bir şekilde incelemeye ve karakter dizilerinin yepyeni özelliklerini görmeye başlayacağız.\n",
    "\n",
    "Hatırlarsanız, geçen bölümün en başında, metot diye bir şeyden söz edeceğimizi söylemiştik. Orada da kabaca tarif ettiğimiz gibi, metotlar Python’da nesnelerin niteliklerini değiştirmemizi, sorgulamamızı veya bu nesnelere yeni özellikler katmamızı sağlayan araçlardır. Metotlar sayesinde karakter dizilerini istediğimiz gibi eğip bükebileceğiz.\n",
    "\n",
    "Geçen bölümün sonlarına doğru, bir karakter dizisinin hangi metotlara sahip olduğunu şu komut yardımıyla listeleyebileceğimizi öğrenmiştik:"
   ]
  },
  {
   "cell_type": "code",
   "execution_count": null,
   "id": "e37852a9-72f0-4965-9bb3-6ec4aab20057",
   "metadata": {},
   "outputs": [],
   "source": [
    "dir(\"\")"
   ]
  },
  {
   "cell_type": "markdown",
   "id": "f41662c6-b9dc-4d2a-839d-9e705dd8ced8",
   "metadata": {},
   "source": [
    "Bu komutu verdiğinizde aldığınız çıktıdan da gördüğünüz gibi, karakter dizilerinin 40’ın üzerinde metodu var. Dolayısıyla metot sayısının çokluğu gözünüzü korkutmuş olabilir. Ama aslında buna hiç lüzum yok. Çünkü programcılık maceranızda bu metotların bazılarını ya çok nadiren kullanacaksınız, ya da hiç kullanmayacaksınız. Çok kullanılan metotlar belli başlıdır. Elbette bütün metotlar hakkında fikir sahibi olmak gerekir. Zaten siz de göreceksiniz ki, bu metotlar kullandıkça aklınızda kalacak. Doğal olarak çok kullandığınız metotları daha kolay öğreneceksiniz. Eğer bir program yazarken hangi metodu kullanmanız gerektiğini veya kullanacağınız metodun ismini hatırlayamazsanız etkileşimli kabukta dir(\"\") gibi bir komut verip çıkan sonucu incelemek pek zor olmasa gerek. Ayrıca hatırlayamadığınız bir metot olması durumunda dönüp bu sayfaları tekrar gözden geçirme imkanına da sahipsiniz. Unutmayın, bütün metotları ve bu metotların nasıl kullanıldığını ezbere bilmeniz zaten beklenmiyor. Metotları hatırlayamamanız gayet normal. Böyle bir durumda referans kitaplarına bakmak en doğal hakkınız."
   ]
  },
  {
   "cell_type": "markdown",
   "id": "e42c9d88-8a26-4088-b22d-891d8850625c",
   "metadata": {},
   "source": [
    "+++++++++++++++replace()\n",
    "\n",
    "\n",
    "Karakter dizisi metotları arasında inceleyeceğimiz ilk metot replace() metodu olacak. replace kelimesi Türkçede ‘değiştirmek, yerine koymak’ gibi anlamlar taşır. İşte bu metodun yerine getirdiği görev de tam olarak budur. Yani bu metodu kullanarak bir karakter dizisi içindeki karakterleri başka karakterlerle değiştirebileceğiz.\n",
    "\n",
    "Peki bu metodu nasıl kullanacağız? Hemen bir örnek verelim:"
   ]
  },
  {
   "cell_type": "code",
   "execution_count": 1,
   "id": "3f6813cc-0777-473a-bbf7-bf5aafff25bf",
   "metadata": {},
   "outputs": [],
   "source": [
    "kardiz = \"elma\""
   ]
  },
  {
   "cell_type": "markdown",
   "id": "370b0713-f14e-44ae-9f20-fb275800f1b9",
   "metadata": {},
   "source": [
    "Burada “elma” değerini taşıyan kardiz adlı bir karakter dizisi tanımladık. Şimdi bu karakter dizisinin içinde geçen “e” harfini “E” ile değiştirelim. Dikkatlice bakın:"
   ]
  },
  {
   "cell_type": "code",
   "execution_count": 2,
   "id": "51d493a4-f056-4852-8232-ff277c3d72e1",
   "metadata": {},
   "outputs": [
    {
     "data": {
      "text/plain": [
       "'Elma'"
      ]
     },
     "execution_count": 2,
     "metadata": {},
     "output_type": "execute_result"
    }
   ],
   "source": [
    "kardiz.replace(\"e\", \"E\")"
   ]
  },
  {
   "cell_type": "markdown",
   "id": "17e4de99-7450-4580-90c4-764a7fc2d6c6",
   "metadata": {},
   "source": [
    "Gördüğünüz gibi, replace() son derece yararlı ve kullanımı oldukça kolay bir metot. Bu arada bu ilk metodumuz sayesinde Python’daki metotların nasıl kullanılacağı konusunda da bilgi edinmiş olduk. Yukarıdaki örneklerin bize gösterdiği gibi şöyle bir formülle karşı karşıyayız:\n",
    "\n",
    "karakter_dizisi.metot(parametre)\n",
    "Metotlar karakter dizilerinden nokta ile ayrılır. Python’da bu yönteme ‘noktalı gösterim’ (dot notation) adı verilir.\n",
    "\n",
    "Bu arada metotların görünüş ve kullanım olarak fonksiyonlara ne kadar benzediğine dikkat edin. Tıpkı fonksiyonlarda olduğu gibi, metotlar da birtakım parametreler alabiliyor.\n",
    "\n",
    "Yukarıdaki örnekte, replace() metodunun iki farklı parametre aldığını görüyoruz. Bu metoda verdiğimiz ilk parametre değiştirmek istediğimiz karakter dizisini gösteriyor. İkinci parametre ise birinci parametrede belirlediğimiz karakter dizisinin yerine ne koyacağımızı belirtiyor. Yani replace() metodu şöyle bir formüle sahiptir:\n",
    "\n",
    "karakter_dizisi.replace(eski_karakter_dizisi, yeni_karakter_dizisi)\n",
    "Gelin isterseniz elimizin alışması için replace() metoduyla birkaç örnek daha verelim:"
   ]
  },
  {
   "cell_type": "code",
   "execution_count": 3,
   "id": "d999896d-8e1e-4467-9bdc-6ffd1113e240",
   "metadata": {},
   "outputs": [],
   "source": [
    "kardiz = \"memleket\""
   ]
  },
  {
   "cell_type": "code",
   "execution_count": 4,
   "id": "e59552b1-db30-4170-b78e-5ccb619b69fc",
   "metadata": {},
   "outputs": [
    {
     "data": {
      "text/plain": [
       "'memleKET'"
      ]
     },
     "execution_count": 4,
     "metadata": {},
     "output_type": "execute_result"
    }
   ],
   "source": [
    "kardiz.replace(\"ket\", \"KET\")"
   ]
  },
  {
   "cell_type": "markdown",
   "id": "f96e74b8-98f4-41b0-9c5f-1b76d1d468db",
   "metadata": {},
   "source": [
    "Burada gördüğünüz gibi, replace() metodu aynı anda birden fazla karakteri değiştirme yeteneğine de sahip.\n",
    "\n",
    "replace() metodunun iki parametreden oluştuğunu, ilk parametrenin değiştirilecek karakter dizisini, ikinci parametrenin ise ilk karakter dizisinin yerine geçecek yeni karakter dizisini gösterdiğini söylemiştik. Aslında replace() metodu üçüncü bir parametre daha alır. Bu parametre ise bir karakter dizisi içindeki karakterlerin kaç tanesinin değiştirileceğini gösterir. Eğer bu parametreyi belirtmezsek replace() metodu ilgili karakterlerin tamamını değiştirir. Yani:"
   ]
  },
  {
   "cell_type": "code",
   "execution_count": 5,
   "id": "6c0385ec-67de-4019-86f9-7941720c2d41",
   "metadata": {},
   "outputs": [],
   "source": [
    "kardiz = \"memleket\""
   ]
  },
  {
   "cell_type": "code",
   "execution_count": 6,
   "id": "19994568-fd09-4d09-b396-2dfcc4cd040d",
   "metadata": {},
   "outputs": [
    {
     "data": {
      "text/plain": [
       "'mmlkt'"
      ]
     },
     "execution_count": 6,
     "metadata": {},
     "output_type": "execute_result"
    }
   ],
   "source": [
    "kardiz.replace(\"e\", \"\")"
   ]
  },
  {
   "cell_type": "markdown",
   "id": "9db77d05-bc66-47e8-9074-57639ea45398",
   "metadata": {},
   "source": [
    "Gördüğünüz gibi, replace() metodunu iki parametre ile kullanıp üçüncü parametreyi belirtmediğimizde, “memleket” kelimesi içindeki bütün “e” harfleri boş karakter dizisi ile değiştiriliyor (yani bir anlamda siliniyor).\n",
    "\n",
    "Şimdi şu örneğe bakalım:"
   ]
  },
  {
   "cell_type": "code",
   "execution_count": 7,
   "id": "bb2460c9-11ad-4c40-b159-dfd61135315a",
   "metadata": {},
   "outputs": [
    {
     "data": {
      "text/plain": [
       "'mmleket'"
      ]
     },
     "execution_count": 7,
     "metadata": {},
     "output_type": "execute_result"
    }
   ],
   "source": [
    "kardiz.replace(\"e\", \"\", 1)"
   ]
  },
  {
   "cell_type": "markdown",
   "id": "86b2c955-5768-414e-af47-212a94d08cdc",
   "metadata": {},
   "source": [
    "Burada replace() metodunu üçüncü bir parametre ile birlikte kullandık. Üçüncü parametre olarak 1 sayısını verdiğimiz için replace() metodu sadece tek bir “e” harfini sildi.\n",
    "\n",
    "Bu üçüncü parametreyi, silmek istediğiniz harf sayısı kadar artırabilirsiniz. Mesela:"
   ]
  },
  {
   "cell_type": "code",
   "execution_count": 8,
   "id": "eb138a60-039c-4e49-a957-55dcf159b435",
   "metadata": {},
   "outputs": [
    {
     "data": {
      "text/plain": [
       "'mmlket'"
      ]
     },
     "execution_count": 8,
     "metadata": {},
     "output_type": "execute_result"
    }
   ],
   "source": [
    "kardiz.replace(\"e\", \"\", 2)"
   ]
  },
  {
   "cell_type": "code",
   "execution_count": 9,
   "id": "63bdf135-517a-4ba6-bde5-188d250e112f",
   "metadata": {},
   "outputs": [
    {
     "data": {
      "text/plain": [
       "'mmlkt'"
      ]
     },
     "execution_count": 9,
     "metadata": {},
     "output_type": "execute_result"
    }
   ],
   "source": [
    "kardiz.replace(\"e\", \"\", 3)"
   ]
  },
  {
   "cell_type": "markdown",
   "id": "41903275-6d7d-43d3-88d0-ba8edc9b6b7f",
   "metadata": {},
   "source": [
    "urada ilk örnekte üçüncü parametre olarak 2 sayısını kullandığımız için, ‘replace’ işleminden karakter dizisi içindeki 2 adet “e” harfi etkilendi. Üçüncü örnekte ise “memleket” adlı karakter dizisi içinde geçen üç adet “e” harfi değişiklikten etkilendi.\n",
    "\n",
    "Karakter dizileri konusunun ilk bölümünde ‘değiştirilebilirlik’ (mutability) üzerine söylediğimiz şeylerin burada da geçerli olduğunu unutmayın. Orada da söylediğimiz gibi, karakter dizileri değiştirilemeyen veri tipleridir. Dolayısıyla eğer bir karakter dizisi üzerinde değişiklik yapmak istiyorsanız, o karakter dizisini baştan tanımlamalısınız. Örneğin:"
   ]
  },
  {
   "cell_type": "code",
   "execution_count": 10,
   "id": "6d22d046-44f0-43d5-b241-785d614370e0",
   "metadata": {},
   "outputs": [
    {
     "data": {
      "text/plain": [
       "'Elma'"
      ]
     },
     "execution_count": 10,
     "metadata": {},
     "output_type": "execute_result"
    }
   ],
   "source": [
    "meyve = \"elma\"\n",
    "meyve = meyve.replace(\"e\", \"E\")\n",
    "meyve"
   ]
  },
  {
   "cell_type": "markdown",
   "id": "87f6a7b7-f532-4886-b396-c94d8295b2ad",
   "metadata": {},
   "source": [
    "Böylece replace() metodunu incelemiş olduk. Sırada üç önemli metot var."
   ]
  },
  {
   "cell_type": "markdown",
   "id": "17a7643f-c990-4b13-ab2b-25ebeb1a2d5b",
   "metadata": {},
   "source": [
    "++++++++++split(), rsplit(), splitlines()\n",
    "\n",
    "\n",
    "Şimdi size şöyle bir soru sorduğumu düşünün: Acaba aşağıdaki karakter dizisinde yer alan bütün kelimelerin ilk harfini nasıl alırız?"
   ]
  },
  {
   "cell_type": "code",
   "execution_count": 11,
   "id": "b16573b2-91bc-4594-82d8-9f79d53bdc12",
   "metadata": {},
   "outputs": [],
   "source": [
    "kardiz = \"Ankara Büyükşehir Belediyesi\""
   ]
  },
  {
   "cell_type": "markdown",
   "id": "686a1738-a814-4e5e-9dbc-019fb78eae78",
   "metadata": {},
   "source": [
    "Yani diyorum ki burada “ABB” gibi bir çıktıyı nasıl elde ederiz?\n",
    "\n",
    "Sadece bu karakter dizisi söz konusu ise, elbette karakter dizilerinin dilimlenme özelliğinden yararlanarak, kardiz değişkeni içindeki “A”, “B”, ve “B” harflerini tek tek alabiliriz:"
   ]
  },
  {
   "cell_type": "code",
   "execution_count": 14,
   "id": "e190c1a9-bef3-4ec9-82fb-11487f4ce5b5",
   "metadata": {},
   "outputs": [
    {
     "name": "stdout",
     "output_type": "stream",
     "text": [
      "ABB\n"
     ]
    }
   ],
   "source": [
    "print(kardiz[0], kardiz[7], kardiz[18], sep=\"\")"
   ]
  },
  {
   "cell_type": "markdown",
   "id": "9d86e463-0f74-4b65-94f7-bd3d3e004599",
   "metadata": {},
   "source": [
    "Ancak bu yöntemin ne kadar kullanışsız olduğu ortada. Çünkü bu metot yalnızca “İstanbul Büyükşehir Belediyesi” adlı karakter dizisi için geçerlidir. Eğer karakter dizisi değişirse bu yöntem de çöpe gider. Bu soruna genel bir çözüm üretebilsek ne güzel olurdu, değil mi?\n",
    "\n",
    "İşte Python’da bu sorunu çözmemizi sağlayacak çok güzel bir metot bulunur. Bu metodun adı split().\n",
    "\n",
    "Bu metodun görevi karakter dizilerini belli noktalardan bölmektir. Zaten split kelimesi Türkçede ‘bölmek, ayırmak’ gibi anlamlara gelir. İşte bu metot, üzerine uygulandığı karakter dizilerini parçalarına ayırır. Örneğin:"
   ]
  },
  {
   "cell_type": "code",
   "execution_count": 15,
   "id": "2af45a9b-ee17-455f-a4f0-9e56b7f45739",
   "metadata": {},
   "outputs": [],
   "source": [
    "kardiz = \"Ankara Büyükşehir Belediyesi\""
   ]
  },
  {
   "cell_type": "code",
   "execution_count": 16,
   "id": "c57286d1-bcb5-4fc4-81e5-ee26f8be312a",
   "metadata": {},
   "outputs": [
    {
     "data": {
      "text/plain": [
       "['Ankara', 'Büyükşehir', 'Belediyesi']"
      ]
     },
     "execution_count": 16,
     "metadata": {},
     "output_type": "execute_result"
    }
   ],
   "source": [
    "kardiz.split()"
   ]
  },
  {
   "cell_type": "markdown",
   "id": "6687cdaf-f402-49c6-9ed2-da8200dfccb5",
   "metadata": {},
   "source": [
    "Gördüğünüz gibi bu metot sayesinde “Ankara Büyükşehir Belediyesi” adlı karakter dizisini kelimelere bölmeyi başardık. Eğer bu çıktı üzerine bir for döngüsü uygularsak şöyle bir sonuç elde ederiz:\n",
    "\n"
   ]
  },
  {
   "cell_type": "code",
   "execution_count": 17,
   "id": "7b00490b-4dbf-4019-9a16-628ec71f2b8d",
   "metadata": {},
   "outputs": [
    {
     "name": "stdout",
     "output_type": "stream",
     "text": [
      "Ankara\n",
      "Büyükşehir\n",
      "Belediyesi\n"
     ]
    }
   ],
   "source": [
    "for i in kardiz.split():\n",
    "    print(i)"
   ]
  },
  {
   "cell_type": "markdown",
   "id": "bf5e60f3-82eb-404d-b259-48308346c82e",
   "metadata": {},
   "source": [
    "Artık bu bilgiyi kullanarak şöyle bir program yazabiliriz:"
   ]
  },
  {
   "cell_type": "code",
   "execution_count": 18,
   "id": "9562afd2-27af-4c7c-8fc2-6a42ff94ebf1",
   "metadata": {},
   "outputs": [
    {
     "name": "stdin",
     "output_type": "stream",
     "text": [
      "kisaltmasini ogrenmek istediginiz kurum adini girin:  tore aldemir hehe\n"
     ]
    },
    {
     "name": "stdout",
     "output_type": "stream",
     "text": [
      "tah"
     ]
    }
   ],
   "source": [
    "kardiz = input(\"kisaltmasini ogrenmek istediginiz kurum adini girin: \")\n",
    "\n",
    "for i in kardiz.split():\n",
    "    print(i[0], end=\"\")"
   ]
  },
  {
   "cell_type": "markdown",
   "id": "527f232e-3fc4-4c3f-b928-d20c2ceeba93",
   "metadata": {},
   "source": [
    "Burada kullanıcı hangi kurum adını girerse girsin, bu kurum adının her kelimesinin ilk harfi ekrana dökülecektir. Örneğin kullanıcı burada “Türkiye Büyük Millet Meclisi” ifadesini girmişse split() metodu öncelikle bu ifadeyi alıp şu şekle dönüştürür:\n",
    "\n",
    "['Türkiye', 'Büyük', 'Millet', 'Meclisi']\n",
    "Daha sonra biz bu çıktı üzerinde bir for döngüsü kurarsak bu kelime grubunun her bir öğesine tek tek müdahale etme imkanına erişiriz. Örneğin yukarıdaki programda bu kelime grubunun her bir öğesinin ilk harfini tek tek ekrana döktük ve “TBMM” çıktısını elde ettik.\n",
    "\n",
    "Yukarıdaki örneklerde split() metodunu herhangi bir parametre içermeyecek şekilde kullandık. Yani metodun parantezleri içine herhangi bir şey eklemedik. split() metodunu bu şekilde parametresiz olarak kullandığımızda bu metot karakter dizilerini bölerken boşluk karakterini ölçüt alacaktır. Yani karakter dizisi içinde karşılaştığı her boşluk karakterinde bir bölme işlemi uygulayacaktır. Ama bazen istediğimiz şey, bir karakter dizisini boşluklardan bölmek değildir. Mesela şu örneğe bakalım:\n",
    "\n",
    "kardiz = \"Bolvadin, Kilis, Siverek, İskenderun, İstanbul\"\n",
    "Eğer bu karakter dizisi üzerine split() metodunu parametresiz olarak uygularsak şöyle bir çıktı elde ederiz:\n",
    "\n",
    "['Bolvadin,', 'Kilis,', 'Siverek,', 'İskenderun,', 'İstanbul']\n",
    "split() metoduna herhangi bir parametre vermediğimiz için bu metot karakter dizisi içindeki kelimeleri boşluklardan böldü. Bu yüzden karakter dizisi içindeki virgül işaretleri de bölünen kelimeler içinde görünüyor:\n",
    "\n"
   ]
  },
  {
   "cell_type": "markdown",
   "id": "94e8127a-3e09-4391-8253-b5cb2a81a221",
   "metadata": {},
   "source": [
    "Bu arada tıpkı replace() metodunu anlatırken gösterdiğimiz gibi, kardiz.split() ifadesini de yine kardiz adını taşıyan bir değişkene atadık. Böylece kardiz.split() komutu ile elde ettiğimiz değişiklik kaybolmamış oldu. Karakter dizilerinin değiştirilemeyen bir veri tipi olduğunu biliyorsunuz. Dolayısıyla yukarıdaki karakter dizisi üzerine split() metodunu uyguladığımızda aslında orijinal karakter dizisi üzerinde herhangi bir değişiklik yapmış olmuyoruz. Çıktıda görünen değişikliğin orijinal karakter dizisini etkileyebilmesi için eski karakter dizisini silip, yerine yeni değerleri yazmamız gerekiyor. Bunu da kardiz = kardiz.split() gibi bir komutla hallediyoruz.\n",
    "\n",
    "Nerede kalmıştık? Gördüğünüz gibi split() metodu parametresiz olarak kullanıldığında karakter dizisini boşluklardan bölüyor. Ama yukarıdaki örnekte karakter dizisini boşluklardan değil de virgüllerden bölsek çok daha anlamlı bir çıktı elde edebiliriz.\n",
    "\n",
    "Dikkatlice inceleyin:"
   ]
  },
  {
   "cell_type": "code",
   "execution_count": 19,
   "id": "720a3e97-da03-475c-8148-f10bffad25bc",
   "metadata": {},
   "outputs": [
    {
     "name": "stdout",
     "output_type": "stream",
     "text": [
      "['Bolvadin', ' Kilis', ' Siverek', ' İskenderun', ' İstanbul']\n"
     ]
    }
   ],
   "source": [
    "kardiz = \"Bolvadin, Kilis, Siverek, İskenderun, İstanbul\"\n",
    "kardiz = kardiz.split(\",\")\n",
    "print(kardiz)"
   ]
  },
  {
   "cell_type": "code",
   "execution_count": 20,
   "id": "4f0a6b64-b1c4-46b6-90fc-7cfed79ea1e6",
   "metadata": {},
   "outputs": [
    {
     "name": "stdout",
     "output_type": "stream",
     "text": [
      "Bolvadin\n",
      " Kilis\n",
      " Siverek\n",
      " İskenderun\n",
      " İstanbul\n"
     ]
    }
   ],
   "source": [
    "for i in kardiz:\n",
    "    print(i)"
   ]
  },
  {
   "cell_type": "markdown",
   "id": "983c56ad-1c38-4432-9196-4e85146f9d3e",
   "metadata": {},
   "source": [
    "Gördüğünüz gibi, split() metodu tam da istediğimiz gibi, karakter dizisini bu kez boşluklardan değil virgüllerden böldü. Peki bunu nasıl başardı? Aslında bu sorunun cevabı gayet net bir şekilde görünüyor. Dikkat ederseniz yukarıdaki örnekte split() metoduna parametre olarak virgül karakter dizisini verdik. Yani şöyle bir şey yazdık:\n",
    "\n"
   ]
  },
  {
   "cell_type": "code",
   "execution_count": null,
   "id": "36f2ffd2-6791-435e-b119-11e6c696d9e7",
   "metadata": {},
   "outputs": [],
   "source": [
    "kardiz.split(\",\")"
   ]
  },
  {
   "cell_type": "markdown",
   "id": "d31defca-fbba-4124-a7f2-de3ee1d34b08",
   "metadata": {},
   "source": [
    "Bu sayede split() metodu karakter dizisini virgüllerden bölmeyi başardı. Tahmin edebileceğiniz gibi, split() metoduna hangi parametreyi verirseniz bu metot ilgili karakter dizisini o karakterin geçtiği yerlerden bölecektir. Yani mesela siz bu metoda “l” parametresini verirseniz, bu metot da ‘l’ harfi geçen yerden karakter dizisini bölecektir:"
   ]
  },
  {
   "cell_type": "code",
   "execution_count": null,
   "id": "d08526d8-8794-4f0b-8d81-23ef0ea7bae8",
   "metadata": {},
   "outputs": [],
   "source": [
    "kardiz.split(\"l\")"
   ]
  },
  {
   "cell_type": "code",
   "execution_count": null,
   "id": "e76619e6-edfa-4e3d-bc1f-4f9f685ea8b9",
   "metadata": {},
   "outputs": [],
   "source": [
    "for i in kardiz.split(\"l\"):\n",
    "    print(i)"
   ]
  },
  {
   "cell_type": "markdown",
   "id": "9a7d56f1-62aa-4d29-9f04-a01b3e780d7e",
   "metadata": {},
   "source": [
    "Eğer parametre olarak verdiğiniz değer karakter dizisi içinde hiç geçmiyorsa karakter dizisi üzerinde herhangi bir değişiklik yapılmaz:\n",
    "\n"
   ]
  },
  {
   "cell_type": "code",
   "execution_count": null,
   "id": "803a1afc-4443-44a3-a786-38f5d125ca81",
   "metadata": {},
   "outputs": [],
   "source": [
    "kardiz.split(\"z\")"
   ]
  },
  {
   "cell_type": "markdown",
   "id": "a30165a3-626b-43be-b4a6-f56263529f5c",
   "metadata": {},
   "source": [
    "Aynı şey, split() metodundan önce öğrendiğimiz replace() metodu için de geçerlidir. Yani eğer değiştirilmek istenen karakter, karakter dizisi içinde yer almıyorsa herhangi bir işlem yapılmaz.\n",
    "\n",
    "split() metodu çoğunlukla, yukarıda anlattığımız şekilde parametresiz olarak veya tek parametre ile kullanılır. Ama aslında bu metot ikinci bir parametre daha alır. Bu ikinci parametre, karakter dizisinin kaç kez bölüneceğini belirler:"
   ]
  },
  {
   "cell_type": "code",
   "execution_count": 23,
   "id": "de0405af-6fe4-47f8-87f5-67d5d751ead7",
   "metadata": {},
   "outputs": [],
   "source": [
    "kardiz = \"Ankara Büyükşehir Belediyesi\""
   ]
  },
  {
   "cell_type": "code",
   "execution_count": 24,
   "id": "c06487ec-6085-45b0-b3a7-f0190e2e27c9",
   "metadata": {},
   "outputs": [
    {
     "data": {
      "text/plain": [
       "['Ankara', 'Büyükşehir Belediyesi']"
      ]
     },
     "execution_count": 24,
     "metadata": {},
     "output_type": "execute_result"
    }
   ],
   "source": [
    "kardiz.split(\" \", 1)"
   ]
  },
  {
   "cell_type": "code",
   "execution_count": 25,
   "id": "d8bd34aa-183d-478d-989b-acde46ea82b6",
   "metadata": {},
   "outputs": [
    {
     "data": {
      "text/plain": [
       "['Ankara', 'Büyükşehir', 'Belediyesi']"
      ]
     },
     "execution_count": 25,
     "metadata": {},
     "output_type": "execute_result"
    }
   ],
   "source": [
    "kardiz.split(\" \", 2)"
   ]
  },
  {
   "cell_type": "markdown",
   "id": "75e70465-81d0-48a6-82b6-1ff1db6b4b95",
   "metadata": {},
   "source": [
    "Gördüğünüz gibi, ilk örnekte kullandığımız 1 sayısı sayesinde bölme işlemi karakter dizisi üzerine bir kez uygulandı. İkinci örnekte ise 2 sayısının etkisiyle karakter dizimiz iki kez bölme işlemine maruz kaldı.\n",
    "\n",
    "Elbette, split() metodunun ikinci parametresini kullanabilmek için ilk parametreyi de mutlaka yazmanız gerekir. Aksi halde Python ne yapmaya çalıştığınızı anlayamaz:"
   ]
  },
  {
   "cell_type": "code",
   "execution_count": 26,
   "id": "d76d94fb-36f2-4d2b-8de0-f2a0b5323af5",
   "metadata": {},
   "outputs": [
    {
     "ename": "TypeError",
     "evalue": "must be str or None, not int",
     "output_type": "error",
     "traceback": [
      "\u001b[0;31m---------------------------------------------------------------------------\u001b[0m",
      "\u001b[0;31mTypeError\u001b[0m                                 Traceback (most recent call last)",
      "Cell \u001b[0;32mIn[26], line 1\u001b[0m\n\u001b[0;32m----> 1\u001b[0m \u001b[43mkardiz\u001b[49m\u001b[38;5;241;43m.\u001b[39;49m\u001b[43msplit\u001b[49m\u001b[43m(\u001b[49m\u001b[38;5;241;43m2\u001b[39;49m\u001b[43m)\u001b[49m\n",
      "\u001b[0;31mTypeError\u001b[0m: must be str or None, not int"
     ]
    }
   ],
   "source": [
    "kardiz.split(2)"
   ]
  },
  {
   "cell_type": "markdown",
   "id": "fef1a900-6aef-448b-8a38-dcd665669695",
   "metadata": {},
   "source": [
    "Gördüğünüz gibi, ilk parametreyi es geçip doğrudan ikinci parametreyi yazmaya çalıştığımızda Python parametre olarak verdiğimiz 2 sayısının bölme ölçütü olduğunu zannediyor. Yukarıdaki hatayı engellemek için bölme ölçütünü de açıkça belirtmemiz gerekir. Yukarıdaki örnekte bölme ölçütümüz bir adet boşluk karakteri idi. Bildiğiniz gibi, bölme ölçütü herhangi bir şey olabilir. Mesela virgül."
   ]
  },
  {
   "cell_type": "code",
   "execution_count": 27,
   "id": "ceb5cca5-c9bc-45fe-9eff-d90a61087041",
   "metadata": {},
   "outputs": [],
   "source": [
    "arkadaşlar = \"Ahmet, Mehmet, Kezban, Mualla, Süreyya, Veli\""
   ]
  },
  {
   "cell_type": "code",
   "execution_count": 28,
   "id": "d2f53877-6ffe-49c3-abf0-96db5573fb89",
   "metadata": {},
   "outputs": [
    {
     "data": {
      "text/plain": [
       "['Ahmet', ' Mehmet', ' Kezban', ' Mualla, Süreyya, Veli']"
      ]
     },
     "execution_count": 28,
     "metadata": {},
     "output_type": "execute_result"
    }
   ],
   "source": [
    "arkadaşlar.split(\",\", 3)"
   ]
  },
  {
   "cell_type": "markdown",
   "id": "cf323260-e5a6-4dba-80cd-b316ee0bdaf1",
   "metadata": {},
   "source": [
    "Burada da bölme ölçütü olarak virgül karakterini kullandık ve arkadaşlar adlı karakter dizisi üzerine 3 kez bölme işlemi uyguladık. İlk bölme işlemi “Ahmet” karakter dizisini; ikinci bölme işlemi “Mehmet” karakter dizisini; üçüncü bölme işlemi ise “Kezban” karakter dizisini ayırdı. arkadaşlar adlı karakter dizisinin geri kalanını oluşturan “Mualla, Süreyya, Veli” kısmı ise herhangi bir bölme işlemine tabi tutulmadan tek parça olarak kaldı.\n",
    "\n",
    "split() metoduyla son bir örnek verip yolumuza devam edelim.\n",
    "\n",
    "Bildiğiniz gibi sys modülünün version değişkeni bize bir karakter dizisi veriyor:"
   ]
  },
  {
   "cell_type": "raw",
   "id": "5b31c8fe-2f7e-4224-8ff2-1755048e2a0a",
   "metadata": {},
   "source": [
    "'3.7.0 (default, 19.08.2024, 12:24:55)\n",
    "[GCC 4.4.7 20120313 (Red Hat 4.4.7-3)] on linux'"
   ]
  },
  {
   "cell_type": "markdown",
   "id": "8d771674-6e80-46e3-a88c-bb31bda43147",
   "metadata": {},
   "source": [
    "Bu karakter dizisi içinden yalnızca sürüm kısmını ayıklamak için karakter dizilerinin dilimlenme özelliğinden yararlanabiliyoruz:"
   ]
  },
  {
   "cell_type": "code",
   "execution_count": 33,
   "id": "0605073e-2b9f-4fdc-bf95-39220c5797ab",
   "metadata": {},
   "outputs": [
    {
     "name": "stdout",
     "output_type": "stream",
     "text": [
      "3.10.12\n"
     ]
    }
   ],
   "source": [
    "import sys\n",
    "surum = sys.version\n",
    "print(surum[:7])"
   ]
  },
  {
   "cell_type": "markdown",
   "id": "1330028e-4a56-42c5-815f-62787e9e1ff5",
   "metadata": {},
   "source": [
    "Bu işlemin bir benzerini split() metoduyla da yapabiliriz. Dikkatlice inceleyin:"
   ]
  },
  {
   "cell_type": "code",
   "execution_count": 34,
   "id": "c080d3df-7b85-42db-b9a9-edfe500f4757",
   "metadata": {},
   "outputs": [
    {
     "data": {
      "text/plain": [
       "['3.10.12', '(main,', 'Nov', '6', '2024,', '20:22:13)', '[GCC', '11.4.0]']"
      ]
     },
     "execution_count": 34,
     "metadata": {},
     "output_type": "execute_result"
    }
   ],
   "source": [
    "surum = sys.version\n",
    "surum.split()"
   ]
  },
  {
   "cell_type": "markdown",
   "id": "cfa0d19f-7fa0-4c83-8cda-79a68abe2664",
   "metadata": {},
   "source": [
    "Gördüğünüz gibi, sys.version komutuna split() metodunu uyguladığımızda, üzerinde işlem yapması çok daha kolay olan bir veri tipi elde ediyoruz. Bu veri tipinin adı ‘liste’. Önceki derslerimizde öğrendiğimiz dir() fonksiyonunun da liste adlı bu veri tipini verdiğini hatırlıyor olmalısınız. İlerleyen derslerde, tıpkı karakter dizileri ve sayılar adlı veri tipleri gibi, liste adlı veri tipini de bütün ayrıntılarıyla inceleyeceğiz. Şimdilik biz sadece bazı durumlarda liste veri tipinin karakter dizilerine kıyasla daha kullanışlı bir veri tipi olduğunu bilelim yeter.\n",
    "\n",
    "Yukarıdaki örnekten de gördüğünüz gibi, sys.version komutunun çıktısını split() metodu yardımıyla boşluklardan bölerek bir liste elde ettik. Bu listenin ilk öğesi, kullandığımız Python serisinin sürüm numarasını verecektir:"
   ]
  },
  {
   "cell_type": "code",
   "execution_count": 35,
   "id": "fdfcddd4-3366-4712-9312-7c5026038038",
   "metadata": {},
   "outputs": [
    {
     "name": "stdout",
     "output_type": "stream",
     "text": [
      "3.10.12\n"
     ]
    }
   ],
   "source": [
    "print(surum.split()[0])"
   ]
  },
  {
   "cell_type": "markdown",
   "id": "84032d92-d6e4-4c67-80a3-9dfe7f3ce21b",
   "metadata": {},
   "source": [
    "öylece split() metodunu öğrenmiş olduk. Gelelim rsplit() metoduna…\n",
    "\n",
    "rsplit() metodu her yönüyle split() metoduna benzer. split() ile rsplit() arasındaki tek fark, split() metodunun karakter dizisini soldan sağa, rsplit() metodunun ise sağdan sola doğru okumasıdır. Şu örnekleri dikkatlice inceleyerek bu iki metot arasındaki farkı bariz bir şekilde görebilirsiniz:"
   ]
  },
  {
   "cell_type": "code",
   "execution_count": 36,
   "id": "7dcb37c4-aaf0-470d-899d-7080e71dbf37",
   "metadata": {},
   "outputs": [
    {
     "data": {
      "text/plain": [
       "['Ankara', 'Büyükşehir Belediyesi']"
      ]
     },
     "execution_count": 36,
     "metadata": {},
     "output_type": "execute_result"
    }
   ],
   "source": [
    "kardiz.split(\" \", 1)"
   ]
  },
  {
   "cell_type": "code",
   "execution_count": 37,
   "id": "e5222278-78b6-4035-826c-3085a42767e1",
   "metadata": {},
   "outputs": [
    {
     "data": {
      "text/plain": [
       "['Ankara Büyükşehir', 'Belediyesi']"
      ]
     },
     "execution_count": 37,
     "metadata": {},
     "output_type": "execute_result"
    }
   ],
   "source": [
    "kardiz.rsplit(\" \", 1)"
   ]
  },
  {
   "cell_type": "markdown",
   "id": "f59781a0-c20c-465e-bb52-e81e5fb7427c",
   "metadata": {},
   "source": [
    "Gördüğünüz gibi, split() metodu karakter dizisini soldan sağa doğru okuduğu için bölme işlemini “Ankara” karakter dizisine uyguladı. rsplit() metodu ise karakter dizisini sağdan sola soğru okuduğu için bölme işlemini “Belediyesi” adlı karakter dizisine uyguladı.\n",
    "\n",
    "rsplit() metodunun pek yaygın kullanılan bir metot olmadığını belirterek splitlines() metoduna geçelim.\n",
    "\n",
    "Bildiğiniz gibi, split() metodunu bir karakter dizisini kelime kelime ayırabilmek için kullanabiliyoruz. splitlines() metodunu ise bir karakter dizisini satır satır ayırmak için kullanabiliriz. Mesela elinizde uzun bir metin olduğunu ve amacınızın bu metin içindeki herbir satırı ayrı ayrı almak olduğunu düşünün. İşte splitlines() metoduyla bu amacınızı gerçekleştirebilirsiniz. Hemen bir örnek verelim:"
   ]
  },
  {
   "cell_type": "code",
   "execution_count": 38,
   "id": "aa3eb394-fb6c-43ee-ad23-01d080309149",
   "metadata": {},
   "outputs": [
    {
     "name": "stdout",
     "output_type": "stream",
     "text": [
      "['Python programlama dili Guido Van Rossum adlı Hollandalı bir programcı', \"tarafından 90'lı yılların başında geliştirilmeye başlanmıştır. Çoğu insan, isminin\", 'Python olmasına bakarak, bu programlama dilinin, adını piton yılanından aldığını', 'düşünür. Ancak zannedildiğinin aksine bu programlama dilinin adı piton yılanından', 'gelmez. Guido Van Rossum bu programlama dilini, The Monty Python adlı bir İngiliz', \"komedi grubunun, Monty Python's Flying Circus adlı gösterisinden esinlenerek\", 'adlandırmıştır. Ancak her ne kadar gerçek böyle olsa da, Python programlama', 'dilinin pek çok yerde bir yılan figürü ile temsil edilmesi neredeyse bir gelenek', 'halini almıştır diyebiliriz.']\n"
     ]
    }
   ],
   "source": [
    "metin = \"\"\"Python programlama dili Guido Van Rossum adlı Hollandalı bir programcı\n",
    "tarafından 90'lı yılların başında geliştirilmeye başlanmıştır. Çoğu insan, isminin\n",
    "Python olmasına bakarak, bu programlama dilinin, adını piton yılanından aldığını\n",
    "düşünür. Ancak zannedildiğinin aksine bu programlama dilinin adı piton yılanından\n",
    "gelmez. Guido Van Rossum bu programlama dilini, The Monty Python adlı bir İngiliz\n",
    "komedi grubunun, Monty Python's Flying Circus adlı gösterisinden esinlenerek\n",
    "adlandırmıştır. Ancak her ne kadar gerçek böyle olsa da, Python programlama\n",
    "dilinin pek çok yerde bir yılan figürü ile temsil edilmesi neredeyse bir gelenek\n",
    "halini almıştır diyebiliriz.\"\"\"\n",
    "\n",
    "print(metin.splitlines())"
   ]
  },
  {
   "cell_type": "markdown",
   "id": "594dacb3-b89c-448b-81ef-3c3993e873a9",
   "metadata": {},
   "source": [
    "Gördüğünüz gibi, metnimiz Enter tuşuna bastığımız noktalardan bölündü. Biz henüz bu çıktıyı nasıl değerlendireceğimizi ve bu çıktıdan nasıl yararlanacağımızı bilmiyoruz. Ayrıca şu anda bu çıktı gözünüze çok anlamlı görünmemiş olabilir. Ama ‘Listeler’ adlı konuyu öğrendiğimizde bu çıktı size çok daha anlamlı görünecek.\n",
    "\n",
    "splitlines() metodu yukarıdaki gibi parametresiz olarak kullanılabileceği gibi, bir adet parametre ile de kullanılabilir. Bunu bir örnek üzerinde gösterelim:\n",
    "\n"
   ]
  },
  {
   "cell_type": "code",
   "execution_count": 39,
   "id": "ca096ca5-5e55-4c52-baa0-d03d9234e00b",
   "metadata": {},
   "outputs": [
    {
     "name": "stdout",
     "output_type": "stream",
     "text": [
      "['Python programlama dili Guido Van Rossum adlı Hollandalı bir programcı\\n', \"tarafından 90'lı yılların başında geliştirilmeye başlanmıştır. Çoğu insan, isminin\\n\", 'Python olmasına bakarak, bu programlama dilinin, adını piton yılanından aldığını\\n', 'düşünür. Ancak zannedildiğinin aksine bu programlama dilinin adı piton yılanından\\n', 'gelmez. Guido Van Rossum bu programlama dilini, The Monty Python adlı bir İngiliz\\n', \"komedi grubunun, Monty Python's Flying Circus adlı gösterisinden esinlenerek\\n\", 'adlandırmıştır. Ancak her ne kadar gerçek böyle olsa da, Python programlama\\n', 'dilinin pek çok yerde bir yılan figürü ile temsil edilmesi neredeyse bir gelenek\\n', 'halini almıştır diyebiliriz.']\n"
     ]
    }
   ],
   "source": [
    "metin = \"\"\"Python programlama dili Guido Van Rossum adlı Hollandalı bir programcı\n",
    "tarafından 90'lı yılların başında geliştirilmeye başlanmıştır. Çoğu insan, isminin\n",
    "Python olmasına bakarak, bu programlama dilinin, adını piton yılanından aldığını\n",
    "düşünür. Ancak zannedildiğinin aksine bu programlama dilinin adı piton yılanından\n",
    "gelmez. Guido Van Rossum bu programlama dilini, The Monty Python adlı bir İngiliz\n",
    "komedi grubunun, Monty Python's Flying Circus adlı gösterisinden esinlenerek\n",
    "adlandırmıştır. Ancak her ne kadar gerçek böyle olsa da, Python programlama\n",
    "dilinin pek çok yerde bir yılan figürü ile temsil edilmesi neredeyse bir gelenek\n",
    "halini almıştır diyebiliriz.\"\"\"\n",
    "\n",
    "print(metin.splitlines(True))"
   ]
  },
  {
   "cell_type": "markdown",
   "id": "53af084d-4f8c-415d-824f-bb99c9fabc68",
   "metadata": {},
   "source": [
    "Gördüğünüz gibi, parametresiz kullanımda, program çıktısında satır başı karakterleri (\\n) görünmüyor. Ama eğer splitlines() metoduna parametre olarak True verirsek program çıktısında satır başı karakterleri de görünüyor. Yazdığınız programlarda ihtiyacınıza göre splitlines() metodunu parametreli olarak veya parametresiz bir şekilde kullanabilirsiniz."
   ]
  },
  {
   "cell_type": "markdown",
   "id": "d88fdded-0a73-4a15-ad33-52c8e14d585d",
   "metadata": {},
   "source": [
    "++++++++lower()\n",
    "\n",
    "\n",
    "Mutlaka karşılaşmışsınızdır. Bazı programlarda kullanıcıdan istenen veriler büyük-küçük harfe duyarlıdır. Yani mesela kullanıcıdan bir parola isteniyorsa, kullanıcının bu parolayı büyük-küçük harfe dikkat ederek yazması gerekir. Bu programlar açısından, örneğin ‘parola’ ve ‘Parola’ aynı kelimeler değildir. Mesela kullanıcının parolası ‘parola’ ise, bu kullanıcı programa ‘Parola’ yazarak giremez.\n",
    "\n",
    "Bazı başka programlarda ise bu durumun tam tersi söz konusudur. Yani büyük-küçük harfe duyarlı programların aksine bazı programlar da kullanıcıdan gelen verinin büyük harfli mi yoksa küçük harfli mi olduğunu önemsemez. Kullanıcı doğru kelimeyi büyük harfle de yazsa, küçük harfle de yazsa program istenen işlemi gerçekleştirir. Mesela Google’da yapılan aramalar bu mantık üzerine çalışır. Örneğin ‘kitap’ kelimesini Google’da aratıyorsanız, bu kelimeyi büyük harfle de yazsanız, küçük harfle de yazsanız Google size aynı sonuçları gösterecektir. Google açısından, aradığınız kelimeyi büyük ya da küçük harfle yazmanızın bir önemi yoktur.\n",
    "\n",
    "Şimdi şöyle bir program yazdığımızı düşünün:"
   ]
  },
  {
   "cell_type": "code",
   "execution_count": null,
   "id": "d75280ff-7b8d-4527-8432-5b66b606b89c",
   "metadata": {},
   "outputs": [],
   "source": [
    "kişi = input(\"Aradığınız kişinin adı ve soyadı: \")\n",
    "\n",
    "if kişi == \"Ahmet Öz\":\n",
    "    print(\"email: aoz@hmail.com\")\n",
    "    print(\"tel  : 02121231212\")\n",
    "    print(\"şehir: istanbul\")\n",
    "\n",
    "elif kişi == \"Mehmet Söz\":\n",
    "    print(\"email: msoz@zmail.com\")\n",
    "    print(\"tel  : 03121231212\")\n",
    "    print(\"şehir: ankara\")\n",
    "\n",
    "elif kişi == \"Mahmut Göz\":\n",
    "    print(\"email: mgoz@jmail.com\")\n",
    "    print(\"tel  : 02161231212\")\n",
    "    print(\"şehir: istanbul\")\n",
    "\n",
    "else:\n",
    "    print(\"Aradığınız kişi veritabanında yok!\")"
   ]
  },
  {
   "cell_type": "markdown",
   "id": "1edb6e65-a989-4e91-99db-ec542a6cf867",
   "metadata": {},
   "source": [
    "Bu programın doğru çalışabilmesi için kullanıcının, örneğin, Ahmet Öz adlı kişiyi ararken büyük-küçük harfe dikkat etmesi gerekir. Eğer kullanıcı Ahmet Öz yazarsa o kişiyle ilgili bilgileri alabilir, ama eğer mesela Ahmet öz yazarsa bilgileri alamaz. Peki acaba biz bu sorunun üstesinden nasıl gelebiliriz? Yani programımızın büyük-küçük harfe duyarlı olmamasını nasıl sağlayabiliriz?\n",
    "\n",
    "Bu işi yapmanın iki yolu var: Birincisi if bloklarını her türlü ihtimali düşünerek yazabiliriz. Mesela:"
   ]
  },
  {
   "cell_type": "code",
   "execution_count": null,
   "id": "96c832a0-2ddb-4d30-a23d-6cadfc3015c1",
   "metadata": {},
   "outputs": [],
   "source": [
    "if kişi == \"Ahmet Öz\" or kişi == \"Ahmet öz\" or kişi == \"ahmet öz\":\n",
    "    ..."
   ]
  },
  {
   "cell_type": "markdown",
   "id": "12994604-9cbb-4df1-bb11-e6aebee26f1a",
   "metadata": {},
   "source": [
    "Ama burada bazı problemler var. Birincisi, kullanıcının kaç türlü veri girebileceğini kestiremeyebilirsiniz. İkincisi, kestirebilseniz bile, her kişi için olasılıkları girmeye çalışmak eziyetten başka bir şey değildir…\n",
    "\n",
    "İşte burada imdadımıza lower() metodu yetişecek. Dikkatlice inceleyin:"
   ]
  },
  {
   "cell_type": "code",
   "execution_count": null,
   "id": "cb742094-b62d-4cf9-a01b-18367a32757f",
   "metadata": {},
   "outputs": [],
   "source": [
    "kişi = input(\"Aradığınız kişinin adı ve soyadı: \")\n",
    "kişi = kişi.lower()\n",
    "\n",
    "if kişi == \"ahmet öz\":\n",
    "    print(\"email: aoz@hmail.com\")\n",
    "    print(\"tel  : 02121231212\")\n",
    "    print(\"şehir: istanbul\")\n",
    "\n",
    "elif kişi == \"mehmet söz\":\n",
    "    print(\"email: msoz@zmail.com\")\n",
    "    print(\"tel  : 03121231212\")\n",
    "    print(\"şehir: ankara\")\n",
    "\n",
    "elif kişi == \"mahmut göz\":\n",
    "    print(\"email: mgoz@jmail.com\")\n",
    "    print(\"tel  : 02161231212\")\n",
    "    print(\"şehir: istanbul\")\n",
    "\n",
    "else:\n",
    "    print(\"Aradığınız kişi veritabanında yok!\")\n"
   ]
  },
  {
   "cell_type": "markdown",
   "id": "66030524-75a1-44f0-8d48-0f41f0590010",
   "metadata": {},
   "source": [
    "Artık kullanıcı ‘ahmet öz’ de yazsa, ‘Ahmet Öz’ de yazsa, hatta ‘AhMeT öZ’ de yazsa programımız doğru çalışacaktır. Peki bu nasıl oluyor? Elbette lower() metodu sayesinde…\n",
    "\n",
    "Yukarıdaki örneklerin de bize gösterdiği gibi, lower() metodu, karakter dizisindeki bütün harfleri küçük harfe çeviriyor. Örneğin:"
   ]
  },
  {
   "cell_type": "code",
   "execution_count": 40,
   "id": "d32c1c93-5a4e-49db-8e4a-fce2a7b0d2ec",
   "metadata": {},
   "outputs": [
    {
     "data": {
      "text/plain": [
       "'elma'"
      ]
     },
     "execution_count": 40,
     "metadata": {},
     "output_type": "execute_result"
    }
   ],
   "source": [
    "kardiz = \"ELMA\"\n",
    "kardiz.lower()\n"
   ]
  },
  {
   "cell_type": "code",
   "execution_count": 41,
   "id": "e7790033-e6e6-47d3-b1b3-7e9f3ee21eed",
   "metadata": {},
   "outputs": [
    {
     "data": {
      "text/plain": [
       "'armut'"
      ]
     },
     "execution_count": 41,
     "metadata": {},
     "output_type": "execute_result"
    }
   ],
   "source": [
    "kardiz = \"arMuT\"\n",
    "kardiz.lower()"
   ]
  },
  {
   "cell_type": "code",
   "execution_count": 42,
   "id": "38726ba2-528c-4a74-8255-9c16426adc98",
   "metadata": {},
   "outputs": [
    {
     "data": {
      "text/plain": [
       "'python programlama'"
      ]
     },
     "execution_count": 42,
     "metadata": {},
     "output_type": "execute_result"
    }
   ],
   "source": [
    "kardiz = \"PYTHON PROGRAMLAMA\"\n",
    "kardiz.lower()"
   ]
  },
  {
   "cell_type": "markdown",
   "id": "134e15aa-62ad-40cc-a00b-a0083f7cb617",
   "metadata": {},
   "source": [
    "Eğer karakter dizisi zaten tamamen küçük harflerden oluşuyorsa bu metot hiçbir işlem yapmaz:\n",
    "\n"
   ]
  },
  {
   "cell_type": "code",
   "execution_count": 43,
   "id": "1236407b-dd1b-4d20-9ae8-e6380a8b8246",
   "metadata": {},
   "outputs": [
    {
     "data": {
      "text/plain": [
       "'elma'"
      ]
     },
     "execution_count": 43,
     "metadata": {},
     "output_type": "execute_result"
    }
   ],
   "source": [
    "kardiz = \"elma\"\n",
    "kardiz.lower()"
   ]
  },
  {
   "cell_type": "markdown",
   "id": "06e3237c-e82d-46ea-83eb-59b6380803ae",
   "metadata": {},
   "source": [
    "İşte verdiğimiz örnek programda da lower() metodunun bu özelliğinden yararlandık. Bu metot sayesinde, kullanıcı ne tür bir kelime girerse girsin, bu kelimeler her halükarda küçük harfe çevrileceği için, if blokları kullanıcıdan gelen veriyi yakalayabilecektir.\n",
    "\n",
    "Gördüğünüz gibi, son derece kolay ve kullanışlı bir metot bu. Ama bu metodun bir problemi var. Şu örneği dikkatlice inceleyin:"
   ]
  },
  {
   "cell_type": "code",
   "execution_count": 44,
   "id": "62f9dcbc-c010-48ed-82e1-c575c50b996b",
   "metadata": {},
   "outputs": [
    {
     "name": "stdout",
     "output_type": "stream",
     "text": [
      "i̇stanbul\n"
     ]
    }
   ],
   "source": [
    "il = \"İSTANBUL\"\n",
    "print(il.lower())"
   ]
  },
  {
   "cell_type": "code",
   "execution_count": 45,
   "id": "5d3f0058-71a9-4556-9e1f-7a5a437b4233",
   "metadata": {},
   "outputs": [
    {
     "name": "stdout",
     "output_type": "stream",
     "text": [
      "ısparta, adıyaman, diyarbakır, aydın, balıkesir, ağrı\n"
     ]
    }
   ],
   "source": [
    "iller = \"ISPARTA, ADIYAMAN, DİYARBAKIR, AYDIN, BALIKESİR, AĞRI\"\n",
    "\n",
    "iller = iller.replace(\"I\", \"ı\").replace(\"İ\", \"i\").lower()\n",
    "print(iller)"
   ]
  },
  {
   "cell_type": "markdown",
   "id": "b9cdea9c-afd0-4fe8-91c6-2a09d715d42c",
   "metadata": {},
   "source": [
    "Bu kodlarla yaptığımız şey çok basit:\n",
    "\n",
    "İlk replace() metoduyla karakter dizisi içinde geçen bütün ‘I’ harflerini, ‘ı’ ile değiştiriyoruz.\n",
    "\n",
    "İkinci replace() metoduyla karakter dizisi içinde geçen bütün ‘İ’ harflerini ‘i’ ile değiştiriyoruz.\n",
    "\n",
    "Bu iki işlemin ardından karakter dizisi içinde geçen ‘I’ ve ‘İ’ harflerini küçültmüş olduk. Ancak öteki harfler henüz küçülmedi. O yüzden de karakter dizimiz üzerine bir de lower() metodunu uyguluyoruz. Böylece bütün harfler düzgün bir şekilde küçülmüş oluyor.\n",
    "\n",
    "Bu kodlarda farklı metotları uç uca nasıl eklediğimize dikkat edin.\n",
    "\n",
    "Bu örnek size şunu göstermiş olmalı: Aslında programlama dediğimiz şey gerçekten de çok basit parçaların uygun bir şekilde birleştirilmesinden ibaret. Tıpkı bir yap-bozun parçalarını birleştirmek gibi…\n",
    "\n",
    "Ayrıca bu örnek sizi bir gerçekle daha tanıştırıyor: Gördüğünüz gibi, artık Python’da o kadar ilerlediniz ki Python’ın problemlerini tespit edip bu problemlere çözüm dahi üretebiliyorsunuz!\n",
    "\n",
    "++++++++++++upper()\n",
    "\n",
    "\n",
    "Bu metot biraz önce öğrendiğimiz lower() metodunun yaptığı işin tam tersini yapar. Hatırlarsanız lower() metodu yardımıyla karakter dizileri içindeki harfleri küçültüyorduk. upper() metodu ise bu harfleri büyütmemizi sağlar.\n",
    "\n",
    "Örneğin:\n",
    "\n"
   ]
  },
  {
   "cell_type": "code",
   "execution_count": 47,
   "id": "524c2d6f-72cd-438d-aec1-be1e3bfbc632",
   "metadata": {},
   "outputs": [
    {
     "data": {
      "text/plain": [
       "'KALEM'"
      ]
     },
     "execution_count": 47,
     "metadata": {},
     "output_type": "execute_result"
    }
   ],
   "source": [
    "kardiz = \"kalem\"\n",
    "kardiz.upper()\n"
   ]
  },
  {
   "cell_type": "markdown",
   "id": "a20377af-670b-4c39-acca-356794264251",
   "metadata": {},
   "source": [
    "lower() metodunu anlatırken, kullanıcıdan gelen verileri belli bir düzene sokmak konusunda bu metodun oldukça faydalı olduğunu söylemiştik. Kullanıcıdan gelen verilerin lower() metodu yardımıyla standart bir hale getirilmesi sayesinde, kullanıcının girdiği kelimelerin büyük-küçük harfli olmasının önemli olmadığı programlar yazabiliyoruz. Elbette eğer isterseniz kullanıcıdan gelen bütün verileri lower() metoduyla küçük harfe çevirmek yerine, upper() metoduyla büyük harfe çevirmeyi de tercih edebilirsiniz. Python programcıları genellikle kullanıcı verilerini standart bir hale getirmek için bütün harfleri küçültmeyi tercih eder, ama tabii ki sizin bunun tersini yapmak istemenizin önünde hiçbir engel yok.\n",
    "\n",
    "Diyelim ki, şehirlere göre hava durumu bilgisi veren bir program yazmak istiyorsunuz. Bunun için şöyle bir kod yazarak işe başlayabilirsiniz:"
   ]
  },
  {
   "cell_type": "code",
   "execution_count": null,
   "id": "868c627c-9417-41e6-a34b-fb61a44f4612",
   "metadata": {},
   "outputs": [],
   "source": [
    "şehir = input(\"Hava durumunu öğrenmek için bir şehir adı girin: \")\n",
    "\n",
    "if şehir == \"ADANA\":\n",
    "    print(\"parçalı bulutlu\")\n",
    "\n",
    "elif şehir == \"ERZURUM\":\n",
    "    print(\"karla karışık yağmurlu\")\n",
    "\n",
    "elif şehir == \"ANTAKYA\":\n",
    "    print(\"açık ve güneşli\")\n",
    "\n",
    "else:\n",
    "    print(\"Girdiğiniz şehir veritabanında yok!\")"
   ]
  },
  {
   "cell_type": "markdown",
   "id": "8d08271b-6f27-4576-8442-5bbdfbd170ad",
   "metadata": {},
   "source": [
    "Burada programımızın doğru çalışabilmesi, kullanıcının şehir adlarını büyük harfle girmesine bağlıdır. Örneğin programımız ‘ADANA’ cevabını kabul edecek, ama mesela ‘Adana’ cevabını kabul etmeyecektir. Bunu engellemek için lower() metodunu kullanabileceğimizi biliyoruz. Bu sorunu çözmek için aynı şekilde upper() metodunu da kullanabiliriz:"
   ]
  },
  {
   "cell_type": "code",
   "execution_count": null,
   "id": "8c2e66b4-fb73-475d-ab2d-adf057d898fd",
   "metadata": {},
   "outputs": [],
   "source": [
    "şehir = input(\"Hava durumunu öğrenmek için bir şehir adı girin: \")\n",
    "\n",
    "şehir = şehir.upper()\n",
    "\n",
    "if şehir == \"ADANA\":\n",
    "    print(\"parçalı bulutlu\")\n",
    "\n",
    "elif şehir == \"ERZURUM\":\n",
    "    print(\"karla karışık yağmurlu\")\n",
    "\n",
    "elif şehir == \"ANTAKYA\":\n",
    "    print(\"açık ve güneşli\")\n",
    "\n",
    "else:\n",
    "    print(\"Girdiğiniz şehir veritabanında yok!\")"
   ]
  },
  {
   "cell_type": "markdown",
   "id": "028619b7-dc30-4166-a2e9-1135ded524c8",
   "metadata": {},
   "source": [
    "Burada yazdığımız şehir = şehir.upper() kodu sayesinde artık kullanıcı şehir adını büyük harfle de girse, küçük harfle de girse programımız düzgün çalışacaktır.\n",
    "\n",
    "Hatırlarsanız lower() metodunu anlatırken bu metodun bazı Türkçe karakterlerle problemi olduğunu söylemiştik. Aynı sorun, tahmin edebileceğiniz gibi, upper() metodu için de geçerlidir.\n",
    "\n",
    "Dikkatlice inceleyin:"
   ]
  },
  {
   "cell_type": "code",
   "execution_count": 48,
   "id": "486d7825-b552-4409-9e71-80527326de0b",
   "metadata": {},
   "outputs": [
    {
     "data": {
      "text/plain": [
       "'ISTANBUL'"
      ]
     },
     "execution_count": 48,
     "metadata": {},
     "output_type": "execute_result"
    }
   ],
   "source": [
    "kardiz = \"istanbul\"\n",
    "kardiz.upper()"
   ]
  },
  {
   "cell_type": "markdown",
   "id": "d562e6e9-b5ed-48dd-8b35-64e76dda4034",
   "metadata": {},
   "source": [
    "lower() metodu Türkçe’deki ‘I’ harfini ‘i’ şeklinde küçültüyordu. upper() metodu ise ‘i’ harfini yanlış olarak ‘I’ şeklinde büyütüyor. Elbette bu sorun da çözülemeyecek gibi değil. Burada da lower() metodu için uyguladığımız yöntemin bir benzerini uygulayacağız:"
   ]
  },
  {
   "cell_type": "code",
   "execution_count": 49,
   "id": "0ebab285-5d48-479f-868f-3343203b0a91",
   "metadata": {},
   "outputs": [
    {
     "name": "stdout",
     "output_type": "stream",
     "text": [
      "İSTANBUL, İZMİR, SİİRT, MERSİN\n"
     ]
    }
   ],
   "source": [
    "iller = \"istanbul, izmir, siirt, mersin\"\n",
    "\n",
    "iller = iller.replace(\"i\", \"İ\").upper()\n",
    "print(iller)"
   ]
  },
  {
   "cell_type": "markdown",
   "id": "c02c6af5-8905-492c-bad8-03d5a14fb219",
   "metadata": {},
   "source": [
    "Bu kodlarla, önce karakter dizisi içinde geçen ‘i’ harflerini ‘İ’ ile değiştiriyoruz. Böylece şöyle bir şey elde etmiş oluyoruz:\n",
    "\n",
    "İstanbul, İzmİr, sİİrt, mersİn\n",
    "Gördüğünüz gibi öteki harfler eski hallerinde kaldı. Öteki harfleri de büyütebilmek için karakter dizisine upper() metodunu uygulamamız yeterli olacaktır.\n",
    "\n",
    "Bir sorunun daha üstesinden geldiğimize göre kendimizden emin bir şekilde bir sonraki metodumuzu incelemeye geçebiliriz."
   ]
  },
  {
   "cell_type": "markdown",
   "id": "7c7663fd-9408-4ff0-a6b4-9226c6a4f9fd",
   "metadata": {},
   "source": [
    "++++++++islower(), isupper()\n",
    "\n",
    "\n",
    "Yukarıda öğrendiğimiz lower() ve upper() adlı metotlar karakter dizileri üzerinde bazı değişiklikler yapmamıza yardımcı oluyor. Karakter dizileri üzerinde birtakım değişiklikler yapmamızı sağlayan bu tür metotlara ‘değiştirici metotlar’ adı verilir. Bu tür metotların dışında bir de ‘sorgulayıcı metotlar’dan söz edebiliriz. Sorgulayıcı metotlar, değiştirici metotların aksine, bir karakter dizisi üzerinde değişiklik yapmamızı sağlamaz. Bu tür metotların görevi karakter dizilerinin durumunu sorgulamaktır. Sorgulayıcı metotlara örnek olarak islower() ve isupper() metotlarını verebiliriz.\n",
    "\n",
    "Bildiğiniz gibi, lower() metodu bir karakter dizisini tamamen küçük harflerden oluşacak şekle getiriyordu. islower() metodu ise bir karakter dizisinin tamamen küçük harflerden oluşup oluşmadığını sorguluyor.\n",
    "\n",
    "Hemen bir örnek verelim:"
   ]
  },
  {
   "cell_type": "code",
   "execution_count": 52,
   "id": "58de355c-877b-4c5e-bf79-60b4d3e70548",
   "metadata": {},
   "outputs": [
    {
     "data": {
      "text/plain": [
       "True"
      ]
     },
     "execution_count": 52,
     "metadata": {},
     "output_type": "execute_result"
    }
   ],
   "source": [
    "kardiz = \"istihza\"\n",
    "kardiz.islower()\n"
   ]
  },
  {
   "cell_type": "markdown",
   "id": "6d1b9509-7e77-4bd1-97c8-9d924d8c5681",
   "metadata": {},
   "source": [
    "“istihza” tamamen küçük harflerden oluşan bir karakter dizisi olduğu için islower() sorgusu True çıktısı veriyor. Bir de şuna bakalım:"
   ]
  },
  {
   "cell_type": "code",
   "execution_count": 53,
   "id": "384ac0e4-ffdc-4948-a4b7-45b8ef61b7f0",
   "metadata": {},
   "outputs": [
    {
     "data": {
      "text/plain": [
       "False"
      ]
     },
     "execution_count": 53,
     "metadata": {},
     "output_type": "execute_result"
    }
   ],
   "source": [
    "kardiz = \"Ankara\"\n",
    "kardiz.islower()"
   ]
  },
  {
   "cell_type": "markdown",
   "id": "f021b1a7-75de-4505-83d5-f26a7ae71d07",
   "metadata": {},
   "source": [
    "“Ankara” ise içinde bir adet büyük harf barındırdığı için islower() sorgusuna False cevabı veriyor.\n",
    "\n",
    "Yazdığınız programlarda, örneğin, kullanıcıdan gelen verinin sadece küçük harflerden oluşmasını istiyorsanız bu metottan yararlanarak kullanıcıdan gelen verinin gerçekten tamamen küçük harflerden oluşup oluşmadığını denetleyebilirsiniz:"
   ]
  },
  {
   "cell_type": "code",
   "execution_count": null,
   "id": "3027f3fe-073a-476b-83fa-dd374852256a",
   "metadata": {},
   "outputs": [],
   "source": [
    "veri = input(\"Adınız: \")\n",
    "\n",
    "if not veri.islower():\n",
    "    print(\"Lütfen isminizi sadece küçük harflerle yazın\")"
   ]
  },
  {
   "cell_type": "markdown",
   "id": "1cecb53d-c3a7-4be3-a0af-96279738c5ba",
   "metadata": {},
   "source": [
    "isupper() metodu da islower() metodunun yaptığı işin tam tersini yapar. Bildiğiniz gibi, upper() metodu bir karakter dizisini tamamen büyük harflerden oluşacak şekle getiriyordu. isupper() metodu ise bir karakter dizisinin tamamen büyük harflerden oluşup oluşmadığını sorguluyor:\n",
    "\n"
   ]
  },
  {
   "cell_type": "code",
   "execution_count": 54,
   "id": "35a2dcea-2b95-47c5-9f1b-12e7ede4e543",
   "metadata": {},
   "outputs": [
    {
     "data": {
      "text/plain": [
       "True"
      ]
     },
     "execution_count": 54,
     "metadata": {},
     "output_type": "execute_result"
    }
   ],
   "source": [
    "kardiz = \"İSTİHZA\"\n",
    "kardiz.isupper()\n"
   ]
  },
  {
   "cell_type": "code",
   "execution_count": 55,
   "id": "c0d9d830-a7c9-420e-9b8e-9b0181020f80",
   "metadata": {},
   "outputs": [
    {
     "data": {
      "text/plain": [
       "False"
      ]
     },
     "execution_count": 55,
     "metadata": {},
     "output_type": "execute_result"
    }
   ],
   "source": [
    "\n",
    "kardiz = \"python\"\n",
    "kardiz.isupper()\n"
   ]
  },
  {
   "cell_type": "markdown",
   "id": "e017ff64-e6e6-416f-906f-00d1b3f1bb9a",
   "metadata": {},
   "source": [
    "Tıpkı islower() metodunda olduğu gibi, isupper() metodunu da kullanıcıdan gelen verinin büyük harfli mi yoksa küçük harfli mi olduğunu denetlemek için kullanabilirsiniz.\n",
    "\n",
    "Örneğin, internet kültüründe kullanıcıların forum ve e.posta listesi gibi yerlerde tamamı büyük harflerden oluşan kelimelerle yazması kaba bir davranış olarak kabul edilir. Kullanıcıların tamamı büyük harflerden oluşan kelimeler kullanmasını engellemek için yukarıdaki metotlardan yararlanabilirsiniz:"
   ]
  },
  {
   "cell_type": "code",
   "execution_count": null,
   "id": "5ed8faac-efca-4596-b5c8-11a5288d7510",
   "metadata": {},
   "outputs": [],
   "source": [
    "veri = input(\"mesajınız: \")\n",
    "böl = veri.split()\n",
    "\n",
    "for i in böl:\n",
    "    if i.isupper():\n",
    "        print(\"Tamamı büyük harflerden oluşan kelimeler kullanmayın!\")"
   ]
  },
  {
   "cell_type": "markdown",
   "id": "03a1af1c-2b9c-4bb2-8c0c-ed23f2fb0f0e",
   "metadata": {},
   "source": [
    "Burada kullanıcının girdiği mesaj içindeki her kelimeyi tek tek sorgulayabilmek için öncelikle split() metodu yardımıyla karakter dizisini parçalarına ayırdığımıza dikkat edin. böl = veri.split() satırının tam olarak ne işe yaradığını anlamak için bu programı bir de o satır olmadan çalıştırmayı deneyebilirsiniz.\n",
    "\n",
    "islower() ve isupper() metotları programlamada sıklıkla kullanılan karakter dizisi metotlarından ikisidir. Dolayısıyla bu iki metodu iyi öğrenmek programlama maceranız sırasında işlerinizi epey kolaylaştıracaktır.\n",
    "\n"
   ]
  },
  {
   "cell_type": "markdown",
   "id": "02032419-b2fa-4fd5-a140-cad819fd2371",
   "metadata": {},
   "source": [
    "++++++++++++endswith()\n",
    "\n",
    "\n",
    "Tıpkı isupper() ve islower() metotları gibi, endswith() metodu da sorgulayıcı metotlardan biridir. endswith() metodu karakter dizileri üzerinde herhangi bir değişiklik yapmamızı sağlamaz. Bu metodun görevi karakter dizisinin durumunu sorgulamaktır.\n",
    "\n",
    "Bu metot yardımıyla bir karakter dizisinin hangi karakter dizisi ile bittiğini sorgulayabiliyoruz. Yani örneğin:"
   ]
  },
  {
   "cell_type": "code",
   "execution_count": 56,
   "id": "5a0c84e0-74aa-4e2e-9ff4-1ec7d2b47c4c",
   "metadata": {},
   "outputs": [
    {
     "data": {
      "text/plain": [
       "True"
      ]
     },
     "execution_count": 56,
     "metadata": {},
     "output_type": "execute_result"
    }
   ],
   "source": [
    "kardiz = \"istihza\"\n",
    "kardiz.endswith(\"a\")"
   ]
  },
  {
   "cell_type": "markdown",
   "id": "90029d17-497d-4e1c-9713-e129736d6c64",
   "metadata": {},
   "source": [
    "Burada, değeri “istihza” olan kardiz adlı bir karakter dizisi tanımladık. Daha sonra da kardiz.endswith(\"a\") ifadesiyle bu karakter dizisinin “a” karakteri ile bitip bitmediğini sorguladık. Gerçekten de “istihza” karakter dizisinin sonunda “a” karakteri bulunduğu için Python bize True cevabı verdi. Bir de şuna bakalım:"
   ]
  },
  {
   "cell_type": "code",
   "execution_count": 57,
   "id": "fd944b46-ae5b-4b6f-ba56-65fd94bda21a",
   "metadata": {},
   "outputs": [
    {
     "data": {
      "text/plain": [
       "False"
      ]
     },
     "execution_count": 57,
     "metadata": {},
     "output_type": "execute_result"
    }
   ],
   "source": [
    "kardiz.endswith(\"z\")"
   ]
  },
  {
   "cell_type": "markdown",
   "id": "2143c979-bbe1-4cbe-89a6-f49d5b8d4867",
   "metadata": {},
   "source": [
    "Bu defa da False çıktısı aldık. Çünkü karakter dizimiz ‘z’ harfiyle bitmiyor.\n",
    "\n",
    "Gelin isterseniz elimizi alıştırmak için bu metotla birkaç örnek daha yapalım:\n",
    "\n"
   ]
  },
  {
   "cell_type": "code",
   "execution_count": 58,
   "id": "f7689617-6756-4a65-83b9-ec5878f5e98b",
   "metadata": {},
   "outputs": [
    {
     "name": "stdout",
     "output_type": "stream",
     "text": [
      "tkinter.mp3\n",
      "sarki.mp3\n",
      "falanca.mp3\n",
      "c++.mp3\n"
     ]
    }
   ],
   "source": [
    "d1 = \"python.ogg\"\n",
    "d2 = \"tkinter.mp3\"\n",
    "d3 = \"pygtk.ogg\"\n",
    "d4 = \"movie.avi\"\n",
    "d5 = \"sarki.mp3\"\n",
    "d6 = \"filanca.ogg\"\n",
    "d7 = \"falanca.mp3\"\n",
    "d8 = \"dosya.avi\"\n",
    "d9 = \"perl.ogg\"\n",
    "d10 = \"c.avi\"\n",
    "d11 = \"c++.mp3\"\n",
    "\n",
    "for i in d1, d2, d3, d4, d5, d6, d7, d8, d9, d10, d11:\n",
    "    if i.endswith(\".mp3\"):\n",
    "        print(i)"
   ]
  },
  {
   "cell_type": "markdown",
   "id": "95dfd767-df4d-4f61-bc35-58902de6a9f1",
   "metadata": {},
   "source": [
    "Bu örnekte, elimizde farklı uzantılara sahip bazı dosyalar olduğunu varsaydık ve bu dosya adlarının herbirini ayrı birer değişken içinde depoladık. Gördüğünüz gibi, dosya uzantıları .ogg, .mp3 veya .avi. Bizim burada amacımız elimizdeki mp3 dosyalarını listelemek. Bu işlem için endswith() metodundan yararlanabiliyoruz. Burada yaptığımız şey şu:\n",
    "\n",
    "Öncelikle d1, d2, d3, d4, d5, d6, d7, d8, d9, d10 ve d11 adlı değişkenleri bir for döngüsü içine alıyoruz ve bu değişkenlerinin herbirinin içeriğini tek tek kontrol ediyoruz (for i in d1, d2, d3, d4, d5, d6, d7, d8, d9, d10, d11:). Ardından, eğer baktığımız bu değişkenlerin değerleri “.mp3” ifadesi ile bitiyorsa (if i.endswith(\".mp3\"):), ölçüte uyan bütün karakter dizilerini ekrana döküyoruz (print(i)).\n",
    "\n",
    "Yukarıdaki örneği, dilerseniz, endswith() metodunu kullanmadan şöyle de yazabilirsiniz:"
   ]
  },
  {
   "cell_type": "code",
   "execution_count": 59,
   "id": "f0a97b4d-0763-4e18-a7bc-e3d3dc75af5f",
   "metadata": {},
   "outputs": [
    {
     "name": "stdout",
     "output_type": "stream",
     "text": [
      "tkinter.mp3\n",
      "sarki.mp3\n",
      "falanca.mp3\n",
      "c++.mp3\n"
     ]
    }
   ],
   "source": [
    "\n",
    "for i in d1, d2, d3, d4, d5, d6, d7, d8, d9, d10, d11:\n",
    "    if i[-4:len(i)] == \".mp3\":\n",
    "        print(i)\n"
   ]
  },
  {
   "cell_type": "markdown",
   "id": "68698392-daf9-48cc-834b-e80d6bd8ca9b",
   "metadata": {},
   "source": [
    "Burada karakter dizilerinin dilimlenebilme özelliğinden yararlandık. Ancak gördüğünüz gibi, dilimlenecek kısmı ayarlamaya uğraşmak yerine endswith() metodunu kullanmak çok daha mantıklı ve kolay bir yöntemdir.\n",
    "\n",
    "Yukarıdaki örnekte de gördüğünüz gibi, endswith() metodu özellikle dosya uzantılarına göre dosya türlerini tespit etmede oldukça işe yarar bir metottur.\n",
    "\n"
   ]
  },
  {
   "cell_type": "code",
   "execution_count": null,
   "id": "dd105265-8ee4-4db6-b2dc-ef2a4b2734aa",
   "metadata": {},
   "outputs": [],
   "source": []
  }
 ],
 "metadata": {
  "kernelspec": {
   "display_name": "Python 3 (ipykernel)",
   "language": "python",
   "name": "python3"
  },
  "language_info": {
   "codemirror_mode": {
    "name": "ipython",
    "version": 3
   },
   "file_extension": ".py",
   "mimetype": "text/x-python",
   "name": "python",
   "nbconvert_exporter": "python",
   "pygments_lexer": "ipython3",
   "version": "3.10.12"
  }
 },
 "nbformat": 4,
 "nbformat_minor": 5
}
