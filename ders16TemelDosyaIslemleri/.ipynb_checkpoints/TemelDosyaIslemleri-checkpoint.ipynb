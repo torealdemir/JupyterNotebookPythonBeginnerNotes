{
 "cells": [
  {
   "cell_type": "markdown",
   "id": "86b88f94-8690-43ab-b022-c488eb3ce121",
   "metadata": {},
   "source": [
    "+++++++++++Temel Dosya İşlemleri\n",
    "\n",
    "\n",
    "Hatırlarsanız print() fonksiyonunu anlatırken, bu fonksiyonun file adlı bir parametresi olduğundan söz etmiştik. Bu parametre yardımıyla print() fonksiyonunun çıktılarını bir dosyaya gönderebiliyorduk. Böylece print() fonksiyonunun bu özelliği sayesinde, Python’daki ‘Dosya Girdi/Çıktısı’ (File I/O) konusuyla da ilk kez tanışmış olmuştuk.\n",
    "\n",
    "Ayrıca print() fonksiyonu dışında, open() adlı başka bir fonksiyon yardımıyla da dosyaları açabileceğimizi ve bu dosyaların üzerinde çeşitli işlemleri gerçekleştirebileceğimizi öğrenmiştik. Ancak gerek print() fonksiyonunun file parametresi, gerekse open() fonksiyonuyla şimdiye kadar yaptığımız örnekler aracılığıyla öğrendiklerimiz dosyalara ilişkin çok sınırlı işlemleri yerine getirmemizi sağlıyordu.\n",
    "\n",
    "İşte biz bu bölümde, dosya girdi/çıktısı konusuna ilişkin bildiklerimizi bir adım öteye götüreceğiz ve gerçek anlamda dosyaları nasıl manipüle edeceğimizi öğreneceğiz.\n",
    "\n",
    "Programcılık maceramız boyunca dosyalarla bol bol muhatap olacaksınız. O yüzden bu konuyu olabildiğince ayrıntılı ve anlaşılır bir şekilde anlatmaya çalışacağız.\n",
    "\n",
    "Dediğimiz gibi, biz esasında bu noktaya gelinceye kadar çeşitli fonksiyonlar ve bunların birtakım parametreleri aracılığıyla dosya işlemlerinden az da olsa zaten söz etmiştik. Dolayısıyla aslında tamamen yabancısı olduğunuz bir konuyla karşı karşıya olmanız gibi bir durum söz konusu değil. Biz bu bölümde, zaten aşina olduğumuz bir konuyu çok daha derinlemesine ele alacağız.\n",
    "\n",
    "Python programlama dilinde dosyalarla uğraşırken bütün dosya işlemleri için temel olarak tek bir fonksiyondan yararlanacağız. Bu fonksiyonu siz zaten tanıyorsunuz. Fonksiyonumuzun adı open().\n",
    "\n",
    "++++++++++++++++Dosya Oluşturmak\n",
    "\n",
    "\n",
    "Dediğimiz gibi, Python programlama dilinde dosya işlemleri için open() adlı bir fonksiyondan yararlanacağız. İşte dosya oluşturmak için de bu fonksiyonu kullanacağız.\n",
    "\n",
    "Önceki derslerimizde verdiğimiz örneklerden de bildiğiniz gibi, open() fonksiyonunu temel olarak şöyle kullanıyoruz:\n",
    "\n"
   ]
  },
  {
   "cell_type": "code",
   "execution_count": null,
   "id": "b5eea79d-a644-4d20-b50f-3e039bb2d386",
   "metadata": {},
   "outputs": [],
   "source": [
    "f = open(dosya_adı, kip)"
   ]
  },
  {
   "cell_type": "markdown",
   "id": "9e8a4eac-468a-43a5-ac89-1ff2d54ee4ae",
   "metadata": {},
   "source": [
    "Mesela “tahsilat.txt” adlı bir dosyayı yazma kipinde açmak için şöyle bir komut kullanıyoruz:"
   ]
  },
  {
   "cell_type": "code",
   "execution_count": 2,
   "id": "3d2ed7a6-d169-49db-85fb-667cfd07a03e",
   "metadata": {},
   "outputs": [],
   "source": [
    "tahsilat_dosyası = open(\"tahsilat_dosyası.txt\", \"w\")"
   ]
  },
  {
   "cell_type": "markdown",
   "id": "59ec52ea-5c1d-4df7-9898-2b54849561e7",
   "metadata": {},
   "source": [
    "Burada ‘tahsilat_dosyası.txt’ ifadesi dosyamızın adını belirtiyor. “w” harfi ise bu dosyanın yazma kipinde açıldığını söylüyor.\n",
    "\n",
    "Yukarıdaki komutu çalıştırdığınızda, o anda hangi dizin altında bulunuyorsanız o dizin içinde tahsilat_dosyası.txt adlı boş bir dosyanın oluştuğunu göreceksiniz.\n",
    "\n",
    "Bu arada, dosya adını yazarken, dosya adı ile birlikte o dosyanın hangi dizin altında oluşturulacağını da belirleyebilirsiniz. Örneğin:\n",
    "\n"
   ]
  },
  {
   "cell_type": "code",
   "execution_count": null,
   "id": "0417b4f0-590d-4a47-b1ec-1d8825fac574",
   "metadata": {},
   "outputs": [],
   "source": [
    "dosya = open(\"/dosyayı/oluşturmak/istediğimiz/dizin/dosya_adı\", \"w\")"
   ]
  },
  {
   "cell_type": "markdown",
   "id": "06d7ae22-f21b-4a2f-a446-b74e35724876",
   "metadata": {},
   "source": [
    "Eğer dosya adını dizin belirtmeden yazarsanız, oluşturduğunuz dosya, o anda hangi dizin altında bulunuyorsanız orada oluşacaktır.\n",
    "\n",
    "Ayrıca dosyayı barındıran dizin adlarını yazarken, dizinleri ayırmak için ters taksim (\\) yerine düz taksim (/) kullanmaya dikkat edin. Aksi halde, dizin adı oluşturmaya çalışırken yanlışlıkla kaçış dizileri oluşturabilirsiniz. Esasında siz bu olguya hiç yabancı değilsiniz. Zira kaçış dizilerini anlatırken şöyle bir örnek verdiğimizi hatırlıyor olmalısınız:"
   ]
  },
  {
   "cell_type": "code",
   "execution_count": null,
   "id": "9cf43b4c-cc0b-45b3-9078-6179116bf495",
   "metadata": {},
   "outputs": [],
   "source": [
    "print(\"C:\\aylar\\nisan\\toplam masraf\")"
   ]
  },
  {
   "cell_type": "markdown",
   "id": "214272b4-b829-4d51-bd7f-995420844212",
   "metadata": {},
   "source": [
    "İşte eğer bu örnekte olduğu gibi ters taksim işaretleri ile oluşturulmuş dizin adları kullanırsanız programınız hata verecektir:\n",
    "\n"
   ]
  },
  {
   "cell_type": "raw",
   "id": "886d35d8-e2a5-4032-af7b-6b9696c06c25",
   "metadata": {},
   "source": [
    "open(\"C:\\aylar\\nisan\\toplam masraf\\masraf.txt\", \"w\")\n",
    "\n",
    "Traceback (most recent call last):\n",
    "  File \"<stdin>\", line 1, in <module>\n",
    "OSError: [Errno 22] Invalid argument: 'C:\\x07ylar\\nisan\\toplam masraf\\masraf.txt'"
   ]
  },
  {
   "cell_type": "markdown",
   "id": "00ef418a-5a89-4835-86e0-8d695b883d4f",
   "metadata": {},
   "source": [
    "Bunun sebebi, bildiğiniz gibi, Python’ın \\a, \\n ve \\t ifadelerini birer kaçış dizisi olarak algılamasıdır. Bu durumdan kaçabilmek için, dizin adlarını ters taksim işareti ile ayırmanın dışında, r adlı kaçış dizisinden de yararlanabilirsiniz:\n",
    "\n"
   ]
  },
  {
   "cell_type": "code",
   "execution_count": null,
   "id": "f3aea6f1-9a79-4c0a-b76f-deb56ded6669",
   "metadata": {},
   "outputs": [],
   "source": [
    "open(r\"C:\\aylar\\nisan\\toplam masraf\\masraf.txt\", \"w\")"
   ]
  },
  {
   "cell_type": "markdown",
   "id": "3b91d57c-0a06-4360-81ff-0af5440acea6",
   "metadata": {},
   "source": [
    "…veya ters taksim işaretlerini çiftleyebilirsiniz:"
   ]
  },
  {
   "cell_type": "code",
   "execution_count": null,
   "id": "2c8fb7ef-194e-468e-8539-c66f33ddc00c",
   "metadata": {},
   "outputs": [],
   "source": [
    "open(\"C:\\\\aylar\\\\nisan\\\\toplam masraf\\\\masraf.txt\", \"w\")"
   ]
  },
  {
   "cell_type": "markdown",
   "id": "ec684752-8b24-4c80-855c-75291eae58d9",
   "metadata": {},
   "source": [
    "Bu şekilde, eğer bilgisayarınızda C:\\aylar\\nisan\\toplam masraf\\ adlı bir dizin varsa, o dizin içinde masraf.txt adlı bir dosya oluşturulacaktır.\n",
    "\n",
    "Böylece Python programlama dilinde boş bir dosyanın nasıl oluşturulacağını öğrenmiş olduk. O halde gelin isterseniz şimdi bu dosyanın içini nasıl dolduracağımızı öğrenelim."
   ]
  },
  {
   "cell_type": "markdown",
   "id": "d2b93e66-312e-49f2-ae75-1221b57ada6d",
   "metadata": {},
   "source": [
    "++++++Dosyaya Yazmak\n",
    "\n",
    "\n",
    "Bir dosyayı, yukarıda gösterdiğimiz şekilde yazma kipinde açtığımız zaman, Python bizim için içi boş bir dosya oluşturacaktır. Peki biz bu dosyanın içini nasıl dolduracağız?\n",
    "\n",
    "Python programlama dilinde, open() fonksiyonu ile yazma kipinde açtığımız bir dosyaya bir veri yazabilmek için dosyaların write() adlı metodundan yararlanacağız.\n",
    "\n",
    "Siz aslında bu metodun da nasıl kullanılacağını çok iyi biliyorsunuz:"
   ]
  },
  {
   "cell_type": "raw",
   "id": "e2048a12-34c5-4e7f-9568-1585835ce4ef",
   "metadata": {},
   "source": [
    "dosya.write(yazılacak_şeyler)"
   ]
  },
  {
   "cell_type": "markdown",
   "id": "79033845-4950-4a71-a1a5-465efa4beb25",
   "metadata": {},
   "source": [
    "Gelin bu formülü somutlaştıracak bir örnek verelim. Mesela yukarıda oluşturduğumuz tahsilat dosyasının içine bazı veriler girelim.\n",
    "\n",
    "Önce dosyamızı nasıl oluşturacağımızı hatırlayalım:\n",
    "\n"
   ]
  },
  {
   "cell_type": "code",
   "execution_count": 3,
   "id": "ac4242ea-b0ad-40c9-9dc1-64296d5d6e98",
   "metadata": {},
   "outputs": [],
   "source": [
    "ths = open(\"tahsilat_dosyası.txt\", \"w\")"
   ]
  },
  {
   "cell_type": "markdown",
   "id": "c5f40b57-77b5-42b6-b284-e2a3ce010134",
   "metadata": {},
   "source": [
    "Şimdi de bu dosyaya şu bilgileri girelim:\n",
    "\n"
   ]
  },
  {
   "cell_type": "code",
   "execution_count": 4,
   "id": "09cc1333-9449-4020-b3a1-3992de7ed238",
   "metadata": {},
   "outputs": [
    {
     "data": {
      "text/plain": [
       "27"
      ]
     },
     "execution_count": 4,
     "metadata": {},
     "output_type": "execute_result"
    }
   ],
   "source": [
    "ths.write(\"Halil Pazarlama: 120.000 TL\")"
   ]
  },
  {
   "cell_type": "code",
   "execution_count": 5,
   "id": "d203a022-3a58-42d2-b8ae-0ebcda666c77",
   "metadata": {},
   "outputs": [
    {
     "data": {
      "text/plain": [
       "27"
      ]
     },
     "execution_count": 5,
     "metadata": {},
     "output_type": "execute_result"
    }
   ],
   "source": [
    "ths = open(\"tahsilat_dosyası.txt\", \"w\")\n",
    "ths.write(\"Halil Pazarlama: 120.000 TL\")"
   ]
  },
  {
   "cell_type": "markdown",
   "id": "efd2f0dc-3180-49bb-b27b-ae797bb7ed49",
   "metadata": {},
   "source": [
    "Bu komutları verdiğinizde, tahsilat_dosyası.txt adlı dosyanın içine şu bilgilerin işlendiğini göreceksiniz:\n",
    "\n"
   ]
  },
  {
   "cell_type": "raw",
   "id": "6af28680-ca94-4f29-b9da-8ff4be9ff8ec",
   "metadata": {},
   "source": [
    "Halil Pazarlama: 120.000 TL"
   ]
  },
  {
   "cell_type": "markdown",
   "id": "e822eb8e-dc5a-449e-8281-8d4fe31b46bb",
   "metadata": {},
   "source": [
    "Eğer dosyayı açtığınızda bu bilgi yerine hâlâ boş bir dosya görüyorsanız, sebebi tamponda tutulan verilerin henüz dosyaya işlenmemiş olmasıdır.\n",
    "\n",
    "Bu konuyu print() fonksiyonunun flush adlı parametresini incelerken öğrendiğimizi hatırlıyor olmalısınız.\n",
    "Eğer durum böyleyse, dosyanızı kapatmanız gerekiyor. Bunu close() adlı başka bir metotla yapabildiğimizi biliyorsunuz:\n",
    "\n"
   ]
  },
  {
   "cell_type": "code",
   "execution_count": 6,
   "id": "dcec4681-7def-4584-bb4c-009e0e9dcc00",
   "metadata": {},
   "outputs": [],
   "source": [
    "ths.close()"
   ]
  },
  {
   "cell_type": "markdown",
   "id": "5528377f-2a7e-4377-a629-a1f1a71e2794",
   "metadata": {},
   "source": [
    "Bu arada, bu söylediklerimizden, eğer yazdığınız bilgiler zaten dosyaya işlenmişse dosyayı kapatmanıza gerek olmadığı anlamını çıkarmayın. Herhangi bir şekilde açtığınız dosyaları kapatmanız, özellikle dosyanın açılmasıyla birlikte kullanılmaya başlayan ve arka planda çalışan kaynakların serbest bırakılması açısından büyük önem taşıyor. O yüzden açtığımız dosyaların tamamını programın işleyişi sona erdiğinde kapatmayı unutmuyoruz. Yani yukarıdaki programı tam olarak şöyle yazıyoruz:\n",
    "\n"
   ]
  },
  {
   "cell_type": "code",
   "execution_count": 7,
   "id": "c9ddd21b-95a5-4ac6-adb1-ea3370b7414a",
   "metadata": {},
   "outputs": [],
   "source": [
    "ths = open(\"tahsilat_dosyası.txt\", \"w\")\n",
    "ths.write(\"Halil Pazarlama: 120.000 TL\"),\n",
    "ths.close()"
   ]
  },
  {
   "cell_type": "markdown",
   "id": "d23d6718-dabf-4ffc-a17c-7bcc1af11cbc",
   "metadata": {},
   "source": [
    "Bu kodlarda sırasıyla şu işlemleri gerçekleştirdik:\n",
    "\n",
    "tahsilat_dosyası adlı bir dosyayı yazma kipinde açarak, bu adda bir dosya oluşturulmasını sağladık,\n",
    "\n",
    "write() metodunu kullanarak bu dosyaya bazı bilgiler girdik,\n",
    "\n",
    "Dosyamıza yazdığımız bilgilerin dosyaya işlendiğinden emin olmak ve işletim sisteminin dosyanın açılması ve dosyaya veri işlenmesi için devreye soktuğu bütün kaynakları serbest bırakmak için close() metoduyla programımızı kapattık.\n",
    "\n",
    "Bu arada, bu başlığı kapatmadan önce önemli bir bilgi daha verelim. Python’da bir dosyayı “w” kipinde açtığımızda, eğer o adda bir dosya ilgili dizin içinde zaten varsa, Python bu dosyayı sorgusuz sualsiz silip, yerine aynı adda başka bir boş dosya oluşturacaktır. Yani mesela yukarıda tahsilat_dosyası.txt adlı dosyayı oluşturup içine bir şeyler yazdıktan sonra bu dosyayı yine “w” kipinde açmaya çalışırsanız, Python bu dosyanın bütün içeriğini silip, yine tahsilat_dosyası.txt adını taşıyan başka bir dosya oluşturacaktır. O yüzden dosya işlemleri sırasında bu “w” kipini kullanırken dikkat ediyoruz ve disk üzerinde var olan dosyalarımızı yanlışlıkla silmiyoruz.\n",
    "\n",
    "Böylece bir dosyanın nasıl oluşturulacağını, nasıl açılacağını ve içine birtakım bilgilerin nasıl girileceğini kabataslak da olsa öğrenmiş olduk. Şimdi de dosyaları nasıl okuyacağımızı öğrenelim."
   ]
  },
  {
   "cell_type": "markdown",
   "id": "cbc493d8-47f8-4d66-89c5-887634515f6f",
   "metadata": {},
   "source": [
    "++++++++++Dosya Okumak\n",
    "\n",
    "\n",
    "Bir önceki başlıkta dosyaların içine bilgi girme işleminin Python programlama dilinde nasıl yapıldığını inceledik. Elbette bir dosyaya yazabilmenin yanısıra, bilgisayarınızda halihazırda var olan bir dosyayı okumak da isteyeceksiniz. Peki bunu nasıl yapacaksınız?\n",
    "\n",
    "Python’da bir dosyayı okumak için yukarıda anlattığımız yazma yöntemine benzer bir yöntem kullanacağız. Bildiğiniz gibi, bir dosyayı yazma kipinde açmak için “w” harfini kullanıyoruz. Bir dosyayı okuma kipinde açmak için ise “r” harfini kullanacağız.\n",
    "\n",
    "Mesela, bilgisayarımızda var olan fihrist.txt adlı dosyayı okumak üzere açalım:"
   ]
  },
  {
   "cell_type": "code",
   "execution_count": null,
   "id": "939fdc7b-da71-4d4c-9780-dc078aba4879",
   "metadata": {},
   "outputs": [],
   "source": [
    "fihrist = open(\"fihrist.txt\", \"r\")"
   ]
  },
  {
   "cell_type": "markdown",
   "id": "4b4d29dd-792c-4f75-9473-d653efb03203",
   "metadata": {},
   "source": [
    "Bir dosyayı open() fonksiyonu yardımıyla açarken kip parametresi için “r” harfini kullanırsak, Python o dosyayı okuma yetkisiyle açacaktır. Yalnız burada şöyle bir özellik var: Eğer bir dosyayı okuma kipinde açacaksanız, bu “r” harfini hiç belirtmeseniz de olur. Yani şu komut bilgisayarımızdaki fihrist.txt adlı dosyayı okuma kipinde açacaktır:\n",
    "\n"
   ]
  },
  {
   "cell_type": "code",
   "execution_count": null,
   "id": "bed7914c-db0e-411f-a328-8bdb921a9851",
   "metadata": {},
   "outputs": [],
   "source": [
    "fihrist = open(\"fihrist.txt\")"
   ]
  },
  {
   "cell_type": "markdown",
   "id": "45a28777-1ec4-4148-b794-b48762ccd5cb",
   "metadata": {},
   "source": [
    "Dolayısıyla bir dosyayı açarken kip belirtmediğimizde Python bizim o dosyayı okuma kipinde açmak istediğimizi varsayacaktır.\n",
    "\n",
    "Hatırlarsanız, “w” kipiyle açtığımız bir dosyaya yazmak için write() adlı bir metottan yararlanıyorduk. “r” kipiyle açtığımız bir dosyayı okumak için ise read(), readline() ve readlines() adlı üç farklı metottan yararlanacağız.\n",
    "\n",
    "Yukarıdaki üç metot da Python’da dosya okuma işlemlerini gerçekleştirmemizi sağlar. Peki bu metotların üçü de aynı işi yapıyorsa neden tek bir metot değil de üç farklı metot var?\n",
    "\n",
    "Bu metotların üçü de dosya okumaya yarasa da, verdikleri çıktılar birbirinden farklıdır. O yüzden farklı amaçlar için farklı metodu kullanmanız gereken durumlarla karşılaşabilirsiniz.\n",
    "\n",
    "Bu metotlar arasındaki farkı anlamanın en kolay yolu bu üç metodu sırayla kullanıp, çıktıları incelemektir.\n",
    "\n",
    "Öncelikle içeriği şu olan, fihrist.txt adlı bir dosyamızın olduğunu varsayalım:"
   ]
  },
  {
   "cell_type": "code",
   "execution_count": 13,
   "id": "a5ff9c3c-e236-483f-840d-8ba48187bd91",
   "metadata": {},
   "outputs": [
    {
     "name": "stdout",
     "output_type": "stream",
     "text": [
      "Ahmet Özbudak : 0533 123 23 34\n",
      "Mehmet Sülün  : 0532 212 22 22\n",
      "Sami Sam      : 0542 333 34 34\n"
     ]
    }
   ],
   "source": [
    "fihrist = open(\"fihrist.txt\")\n",
    "print(fihrist.read())"
   ]
  },
  {
   "cell_type": "markdown",
   "id": "46398bc7-8c65-46c3-800d-5ba4bc97311d",
   "metadata": {},
   "source": [
    "Şimdi bir dosya açıp şu kodları yazalım:"
   ]
  },
  {
   "cell_type": "code",
   "execution_count": 14,
   "id": "e899ba59-0553-47bd-90d7-291ef6aff583",
   "metadata": {},
   "outputs": [
    {
     "name": "stdout",
     "output_type": "stream",
     "text": [
      "Ahmet Özbudak : 0533 123 23 34\n",
      "Mehmet Sülün  : 0532 212 22 22\n",
      "Sami Sam      : 0542 333 34 34\n"
     ]
    }
   ],
   "source": [
    "fihrist = open(\"fihrist.txt\")\n",
    "print(fihrist.read())"
   ]
  },
  {
   "cell_type": "markdown",
   "id": "51c6ecd8-50de-4dc5-9e4b-fb851c4473e8",
   "metadata": {},
   "source": [
    "Bu kodları çalıştırdığımızda, eğer kullandığınız işletim sistemi GNU/Linux ise muhtemelen şu çıktıyı elde edeceksiniz:"
   ]
  },
  {
   "cell_type": "markdown",
   "id": "d244ae4b-7362-4dc4-a7a2-797ed74c6743",
   "metadata": {},
   "source": [
    "Ama eğer bu kodları Windows’ta çalıştırdıysanız Türkçe karakterler bozuk çıkmış olabilir. Bu durumu şimdilik görmezden gelin. Birazdan bu durumun nedenini açıklayacağız.\n",
    "\n",
    "Yukarıda elde ettiğimiz şey bir karakter dizisidir bunu şu şekilde teyit edebileceğinizi biliyorsunuz:"
   ]
  },
  {
   "cell_type": "code",
   "execution_count": 15,
   "id": "eb10f5e2-dee4-4875-ae9c-6c8e66ac9f41",
   "metadata": {},
   "outputs": [
    {
     "name": "stdout",
     "output_type": "stream",
     "text": [
      "<class 'str'>\n"
     ]
    }
   ],
   "source": [
    "fihrist = open(\"fihrist.txt\")\n",
    "print(type(fihrist.read()))"
   ]
  },
  {
   "cell_type": "markdown",
   "id": "9920de06-a881-4688-84e9-b84c84ac3a04",
   "metadata": {},
   "source": [
    "Gördüğünüz gibi, read() metodu bize, dosyanın bütün içeriğini bir karakter dizisi olarak veriyor. Bir de şuna bakalım:"
   ]
  },
  {
   "cell_type": "code",
   "execution_count": 16,
   "id": "51efbb00-e8f2-4156-973d-3f7c56bc566d",
   "metadata": {},
   "outputs": [
    {
     "name": "stdout",
     "output_type": "stream",
     "text": [
      "Ahmet Özbudak : 0533 123 23 34\n",
      "\n"
     ]
    }
   ],
   "source": [
    "fihrist = open(\"fihrist.txt\")\n",
    "print(fihrist.readline())\n"
   ]
  },
  {
   "cell_type": "markdown",
   "id": "2f9e5778-840d-47e6-aaae-3922cd86038e",
   "metadata": {},
   "source": [
    "read() metodu bize dosya içeriğinin tamamını veriyordu. Gördüğünüz gibi readline() metodu tek bir satır veriyor. Yani bu metot yardımıyla dosyaları satır satır okuyabiliyoruz.\n",
    "\n",
    "Bu metodun işleyiş tarzını daha iyi görebilmek için bu kodları dosyaya yazıp çalıştırmak yerine etkileşimli kabuk üzerinden de çalıştırabilirsiniz:\n",
    "\n"
   ]
  },
  {
   "cell_type": "code",
   "execution_count": 17,
   "id": "a8fe7348-2bf9-4284-aaa6-241d438db890",
   "metadata": {},
   "outputs": [
    {
     "name": "stdout",
     "output_type": "stream",
     "text": [
      "Ahmet Özbudak : 0533 123 23 34\n",
      "\n"
     ]
    }
   ],
   "source": [
    "fihrist = open(\"fihrist.txt\", \"r\")\n",
    "print(fihrist.readline())"
   ]
  },
  {
   "cell_type": "code",
   "execution_count": 18,
   "id": "33fb2027-0d63-4f72-9727-fff2fa5d5a4d",
   "metadata": {},
   "outputs": [
    {
     "name": "stdout",
     "output_type": "stream",
     "text": [
      "Mehmet Sülün  : 0532 212 22 22\n",
      "\n"
     ]
    }
   ],
   "source": [
    "print(fihrist.readline())"
   ]
  },
  {
   "cell_type": "code",
   "execution_count": 19,
   "id": "ae4175d9-4487-4b11-94bc-4daf135cc051",
   "metadata": {},
   "outputs": [
    {
     "name": "stdout",
     "output_type": "stream",
     "text": [
      "Sami Sam      : 0542 333 34 34\n"
     ]
    }
   ],
   "source": [
    "print(fihrist.readline())\n"
   ]
  },
  {
   "cell_type": "markdown",
   "id": "e6695d03-3d62-4ccc-9722-2d235271ef0d",
   "metadata": {},
   "source": [
    "Gördüğünüz gibi, readline() metodu gerçekten de dosyayı satır satır okuyor.\n",
    "\n",
    "Son satırı da okuduktan sonra, readline() metodunu tekrar çalıştırırsak ne olur peki? Bakalım:\n",
    "\n"
   ]
  },
  {
   "cell_type": "code",
   "execution_count": 20,
   "id": "ba44741d-02ca-49d8-aa90-33fcde34b9f7",
   "metadata": {},
   "outputs": [
    {
     "name": "stdout",
     "output_type": "stream",
     "text": [
      "\n"
     ]
    }
   ],
   "source": [
    "print(fihrist.readline())"
   ]
  },
  {
   "cell_type": "markdown",
   "id": "a50ef629-40c3-4de4-a547-c2751eeb0988",
   "metadata": {},
   "source": [
    "\n",
    "Gördüğünüz gibi, bu defa hiçbir çıktı almadık. Çünkü dosyada okunacak satır kalmadı. Bu yüzden de Python bize boş bir çıktı verdi. Bu durumu daha net görmek için kodu etkileşimli kabukta print() olmadan yazabilirsiniz:\n",
    "\n"
   ]
  },
  {
   "cell_type": "code",
   "execution_count": 21,
   "id": "637f5653-198d-4edc-938f-64a022a9e06c",
   "metadata": {},
   "outputs": [
    {
     "data": {
      "text/plain": [
       "''"
      ]
     },
     "execution_count": 21,
     "metadata": {},
     "output_type": "execute_result"
    }
   ],
   "source": [
    "fihrist.readline()"
   ]
  },
  {
   "cell_type": "markdown",
   "id": "91dd7dbc-c37f-47bd-9044-cfdbbda20b62",
   "metadata": {},
   "source": [
    "Gerçekten de elimizdeki şey boş bir karakter dizisi… Demek ki bir dosya tamamen okunduktan sonra, Python otomatik olarak tekrar dosyanın başına dönmüyor. Böyle bir durumda dosyanın başına nasıl geri döneceğimizi inceleyeceğiz, ama isterseniz biz başka bir konuyla devam edelim.\n",
    "\n",
    "Bir dosyanın tamamı okunduktan sonra otomatik olarak başa sarılmaması özelliği sadece readline() metodu için değil, öteki bütün dosya okuma metotları için de geçerlidir. Yani bir dosyayı read(), readline() veya readlines() metotlarından herhangi biri ile okuduğunuzda imleç başa dönmez.\n",
    "\n",
    "Dediğimiz ve gösterdiğimiz gibi, read() ve readline() metotları bize bir karakter dizisi döndürüyor. Bu iki metot arasındaki fark ise, read() metodunun dosyanın tamamını önümüze sererken, readline() metodunun dosyayı satır satır okuyup, her defasında tek bir satırı önümüze sürmesidir. Bir de readlines() metodunun ne yaptığına bakalım…\n",
    "\n",
    "Şu kodları yazalım:"
   ]
  },
  {
   "cell_type": "code",
   "execution_count": 22,
   "id": "01cb976e-42ba-428e-b333-df9cbf3559f9",
   "metadata": {},
   "outputs": [
    {
     "name": "stdout",
     "output_type": "stream",
     "text": [
      "['Ahmet Özbudak : 0533 123 23 34\\n', 'Mehmet Sülün  : 0532 212 22 22\\n', 'Sami Sam      : 0542 333 34 34']\n"
     ]
    }
   ],
   "source": [
    "fihrist = open(\"fihrist.txt\")\n",
    "print(fihrist.readlines())"
   ]
  },
  {
   "cell_type": "markdown",
   "id": "f12a8c5c-0e6f-48c9-b0f3-0f453a8dcaca",
   "metadata": {},
   "source": [
    "Gördüğünüz gibi, bu defa karakter dizisi yerine bir liste ile karşılaşıyoruz. Demek ki read() ve readline() metotları çıktı olarak bize bir karakter dizisi verirken, readlines() metodu liste veriyormuş. Bunun neden önemli bir bilgi olduğunu artık gayet iyi biliyor olmanız lazım. Zira bir verinin tipi, o veriyle neler yapıp neler yapamayacağımızı doğrudan etkiler…\n",
    "\n"
   ]
  },
  {
   "cell_type": "markdown",
   "id": "89783b5d-21bd-441d-af77-3e86a4a01f8f",
   "metadata": {},
   "source": [
    "Dosyaları Otomatik Kapatma\n",
    "Daha önce de söylediğimiz gibi, bir dosyayı açıp bu dosya üzerinde gerekli işlemleri yaptıktan sonra bu dosyayı açık bırakmamak büyük önem taşır. Dolayısıyla üzerinde işlem yaptığımız bütün dosyaları, işimiz bittikten sonra, mutlaka kapatmalıyız. Çünkü bir dosya açıldığında işletim sistemi, sistem kaynaklarının bir kısmını bu dosyaya ayırır. Eğer dosyayı açık bırakırsak, sistem kaynaklarını gereksiz yere meşgul etmiş oluruz. Ancak farklı sebeplerden, dosyalar açıldıktan sonra kapanmayabilir. Örneğin açtığınız dosyayı kapatmayı unutmuş olabilirsiniz. Yani programınızın hiçbir yerinde close() metodunu kullanmamışsınızdır. Bunun dışında, programınızdaki bir hata da dosyaların kapanmasını engelleyebilir. Örneğin bir dosya açıldıktan sonra programda beklenmeyen bir hata gerçekleşirse, programınız asla close() satırına ulaşamayabilir. Bu durumda da açılan dosya kapanmadan öylece bekler.\n",
    "\n",
    "Bu tür durumlara karşı iki seçeneğiniz var:\n",
    "\n",
    "try... except... finally... bloklarından yararlanmak\n",
    "\n",
    "with adlı bir deyimi kullanmak\n",
    "\n",
    "Birinci yöntemden daha önce de bahsettiğimizi hatırlıyorsunuz. Hata yakalama bölümünü anlatırken bununla ilgili şöyle bir örnek vermiştik:\n",
    "\n"
   ]
  },
  {
   "cell_type": "code",
   "execution_count": null,
   "id": "c42d41f1-bd22-4698-918a-37272ea8b48d",
   "metadata": {},
   "outputs": [],
   "source": [
    "try:\n",
    "    dosya = open(\"dosyaadı\", \"r\")\n",
    "    ...burada dosyayla bazı işlemler yapıyoruz...\n",
    "    ...ve ansızın bir hata oluşuyor...\n",
    "except IOError:\n",
    "    print(\"bir hata oluştu!\")\n",
    "finally:\n",
    "    dosya.close()"
   ]
  },
  {
   "cell_type": "markdown",
   "id": "48a639f4-837d-4c25-a8d7-f9179135cd1d",
   "metadata": {},
   "source": [
    "Bu yöntem gayet uygun ve iyi bir yöntemdir. Ancak Python bize bu tür durumlar için çok daha pratik bir yöntem sunar. Dikkatlice bakın:"
   ]
  },
  {
   "cell_type": "code",
   "execution_count": null,
   "id": "1d72ccee-7e90-492a-9afe-4e50b079b28e",
   "metadata": {},
   "outputs": [],
   "source": [
    "with open(\"dosyaadı\", \"r\") as dosya:\n",
    "    print(dosya.read())"
   ]
  },
  {
   "cell_type": "markdown",
   "id": "dd88b642-b73c-47ae-8bd6-71d95327d719",
   "metadata": {},
   "source": [
    "Dosyalarımızı bu şekilde açıp üzerlerinde işlemlerimizi yaptığımızda Python dosyayı bizim için kendisi kapatacaktır. Bu şekilde bizim ayrıca bir close() satırı yazmamıza gerek yok. with deyimini kullanmamız sayesinde, dosya açıldıktan sonra arada bir hata oluşsa bile Python dosyayı sağsalim kapatıp sistem kaynaklarının israf edilmesini önleyecektir."
   ]
  },
  {
   "cell_type": "markdown",
   "id": "dd0317b2-51f4-4dce-8f8c-ab7290b64085",
   "metadata": {},
   "source": [
    "Dosyayı İleri-Geri Sarmak\n",
    "Dosya okumak için kullanılan metotları anlatırken, dosya bir kez okunduktan sonra imlecin otomatik olarak dosyanın başına dönmediğini görmüştük. Yani mesela read() metoduyla dosyayı bir kez okuduktan sonra, dosyayı tekrar okumak istersek elde edeceğimiz şey boş bir karakter dizisi olacaktır. Çünkü dosya okunduktan sonra okunacak başka bir satır kalmamış, imleç dosya sonuna ulaşmış ve otomatik olarak da başa dönmemiştir. Bu olguyu etkileşimli kabuk üzerinde daha net bir şekilde görebileceğinizi biliyorsunuz.\n",
    "\n",
    "Peki dosyayı tamamen okuduktan sonra tekrar başa dönmek istersek ne yapacağız? Bir dosya tamamen okunduktan sonra tekrar başa dönmek için dosyaların seek() adlı bir metodundan yararlanacağız.\n",
    "\n",
    "Mesela şu örneklere bakalım. Bu örnekleri daha iyi anlamak için bunları Python’ın etkileşimli kabuğunda çalıştırmanızı tavsiye ederim:"
   ]
  },
  {
   "cell_type": "code",
   "execution_count": 23,
   "id": "b78bda55-b81f-4d19-9447-f89bfa2cb2eb",
   "metadata": {},
   "outputs": [
    {
     "data": {
      "text/plain": [
       "\"'Bu programlama dili Guido Van Rossum adlı Hollandalı bir\\nprogramcı\\\\ntarafından 90’lı yılların başında geliştirilmeye başlanmıştır.\\nÇoğu insan,\\\\nisminin Python olmasına aldanarak, bu programlama dilinin,\\nadını piton\\\\nyılanından aldığını düşünür. Ancak zannedildiğinin aksine bu\\nprogramlama dilinin\\\\nadı piton yılanından gelmez. Guido Van Rossum bu\\nprogramlama dilini, The Monty\\\\nPython adlı bir İngiliz komedi grubunun,\\nMonty Python’s Flying Circus adlı\\\\ngösterisinden esinlenerek adlandırmıştır.\\nAncak her ne kadar gerçek böyle olsa\\\\nda, Python programlama dilinin pek çok\\nyerde bir yılan figürü ile temsil\\\\nedilmesi neredeyse bir gelenek halini\\nalmıştır.\\\\n'\""
      ]
     },
     "execution_count": 23,
     "metadata": {},
     "output_type": "execute_result"
    }
   ],
   "source": [
    "f = open(\"python.txt\")\n",
    "f.read()"
   ]
  },
  {
   "cell_type": "markdown",
   "id": "6b7e8328-5810-4dc9-bb82-a87852e70d7f",
   "metadata": {},
   "source": [
    "Burada open() fonksiyonunu kullanarak python.txt adlı bir dosyayı açıp, read() metodu yardımıyla da bu dosyanın içeriğini okuduk. Bu noktada dosyayı tekrar okumaya çalışırsak elde edeceğimiz şey boş bir karakter dizisi olacaktır:"
   ]
  },
  {
   "cell_type": "code",
   "execution_count": 24,
   "id": "e4fc93cd-8ada-43b5-9fc0-b555dab06556",
   "metadata": {},
   "outputs": [
    {
     "data": {
      "text/plain": [
       "''"
      ]
     },
     "execution_count": 24,
     "metadata": {},
     "output_type": "execute_result"
    }
   ],
   "source": [
    "f.read()"
   ]
  },
  {
   "cell_type": "markdown",
   "id": "7db2b7b8-9efd-41b1-9f84-b0ab760b751d",
   "metadata": {},
   "source": [
    "Çünkü dosya bir kez tamamen okunduktan sonra imleç otomatik olarak başa dönmüyor. Dosyayı tekrar okumak istiyorsak, bunu başa bizim sarmamız lazım. İşte bunun için seek() metodunu kullanacağız:\n",
    "\n"
   ]
  },
  {
   "cell_type": "code",
   "execution_count": 25,
   "id": "3330d02d-d13a-496d-9aa6-382874f3229b",
   "metadata": {},
   "outputs": [
    {
     "data": {
      "text/plain": [
       "0"
      ]
     },
     "execution_count": 25,
     "metadata": {},
     "output_type": "execute_result"
    }
   ],
   "source": [
    "f.seek(0)"
   ]
  },
  {
   "cell_type": "markdown",
   "id": "c8b30bf0-ed29-4653-846c-2762fade1916",
   "metadata": {},
   "source": [
    "Gördüğünüz gibi seek() metodunu bir parametre ile birlikte kullandık. Bu metoda verdiğimiz parametre, dosya içinde kaçıncı bayt konumuna gideceğimizi gösteriyor. Biz burada 0 sayısını kullanarak dosyanın ilk baytına, yani en başına dönmüş olduk. Artık dosyayı tekrar okuyabiliriz:\n",
    "\n"
   ]
  },
  {
   "cell_type": "code",
   "execution_count": 26,
   "id": "0ebc086e-1244-4a4e-86d7-e457e76963d5",
   "metadata": {},
   "outputs": [
    {
     "data": {
      "text/plain": [
       "\"'Bu programlama dili Guido Van Rossum adlı Hollandalı bir\\nprogramcı\\\\ntarafından 90’lı yılların başında geliştirilmeye başlanmıştır.\\nÇoğu insan,\\\\nisminin Python olmasına aldanarak, bu programlama dilinin,\\nadını piton\\\\nyılanından aldığını düşünür. Ancak zannedildiğinin aksine bu\\nprogramlama dilinin\\\\nadı piton yılanından gelmez. Guido Van Rossum bu\\nprogramlama dilini, The Monty\\\\nPython adlı bir İngiliz komedi grubunun,\\nMonty Python’s Flying Circus adlı\\\\ngösterisinden esinlenerek adlandırmıştır.\\nAncak her ne kadar gerçek böyle olsa\\\\nda, Python programlama dilinin pek çok\\nyerde bir yılan figürü ile temsil\\\\nedilmesi neredeyse bir gelenek halini\\nalmıştır.\\\\n'\""
      ]
     },
     "execution_count": 26,
     "metadata": {},
     "output_type": "execute_result"
    }
   ],
   "source": [
    "f.read()"
   ]
  },
  {
   "cell_type": "markdown",
   "id": "0125dafe-befd-4f44-903c-02a8a2b5c508",
   "metadata": {},
   "source": [
    "Elbette seek() metodunu kullanarak istediğiniz bayt konumuna dönebilirsiniz. Mesela eğer dosyanın 10. baytının bulunduğu konuma dönmek isterseniz bu metodu şöyle kullanabilirsiniz:"
   ]
  },
  {
   "cell_type": "code",
   "execution_count": 27,
   "id": "39957d38-fdbe-4fa9-af1c-a5c768a92147",
   "metadata": {},
   "outputs": [
    {
     "data": {
      "text/plain": [
       "10"
      ]
     },
     "execution_count": 27,
     "metadata": {},
     "output_type": "execute_result"
    }
   ],
   "source": [
    "f.seek(10)"
   ]
  },
  {
   "cell_type": "markdown",
   "id": "ba0df949-0f39-4e02-8792-7594a98170f7",
   "metadata": {},
   "source": [
    "Eğer o anda dosyanın hangi bayt konumunda bulunduğunuzu öğrenmek isterseniz de tell() adlı başka bir metottan yararlanabilirsiniz. Bu metodu parametresiz olarak kullanıyoruz:\n",
    "\n"
   ]
  },
  {
   "cell_type": "code",
   "execution_count": 28,
   "id": "7a6aa143-b593-4be9-bc2f-636b280aca94",
   "metadata": {},
   "outputs": [
    {
     "data": {
      "text/plain": [
       "10"
      ]
     },
     "execution_count": 28,
     "metadata": {},
     "output_type": "execute_result"
    }
   ],
   "source": [
    "f.tell()"
   ]
  },
  {
   "cell_type": "markdown",
   "id": "6f3397ee-fa54-420f-b3a8-b115c34676bd",
   "metadata": {},
   "source": [
    "Bu çıktıya göre o anda dosyanın 20. baytının üzerindeyiz…\n",
    "\n",
    "Bu arada, dosya içinde bulunduğumuz konumu baytlar üzerinden tarif etmemizi biraz yadırgamış olabilirsiniz. Acaba neden karakter değil de bayt? Biraz sonra bu konuya geleceğiz. Biz şimdilik önemli başka bir konuya değinelim.\n",
    "\n"
   ]
  },
  {
   "cell_type": "markdown",
   "id": "01b2d7aa-948c-494a-8eb9-1e6e950d8e69",
   "metadata": {},
   "source": [
    "+++++++++Dosyalarda Değişiklik Yapmak\n",
    "\n",
    "\n",
    "Buraya kadar, Python’da bir dosyanın nasıl oluşturulacağını, boş bir dosyaya nasıl veri girileceğini ve varolan bir dosyadan nasıl veri okunacağını öğrendik. Ama varolan ve içi halihazırda dolu bir dosyaya nasıl veri ekleneceğini bilmiyoruz. İşte şimdi bu işlemin nasıl yapılacağını tartışacağız.\n",
    "\n",
    "Ancak burada önemli bir ayrıntıya dikkatinizi çekmek istiyorum. Dosyaların neresinde değişiklik yapmak istediğiniz büyük önem taşır. Unutmayın, dosyaların başında, ortasında ve sonunda değişiklik yapmak birbirlerinden farklı kavramlar olup, birbirinden farklı işlemlerin uygulanmasını gerektirir.\n",
    "\n",
    "Biz bu bölümde dosyaların baş tarafına, ortasına ve sonuna nasıl veri eklenip çıkarılacağını ayrı ayrı tartışacağız."
   ]
  },
  {
   "cell_type": "markdown",
   "id": "b4b3f11b-86ff-46ad-9c82-6e919d0205b7",
   "metadata": {},
   "source": [
    "+++++++++++Dosyaların Sonunda Değişiklik Yapmak\n",
    "\n",
    "\n",
    "Daha önce de söylediğimiz gibi, Python’da bir dosyayı açarken, o dosyayı hangi kipte açacağımızı belirtmemiz gerekiyor. Yani eğer bir dosyayı okumak istiyorsak dosyayı “r” kipinde, yazmak istiyorsak da “w” kipinde açmamız gerekiyor. Bildiğiniz gibi “w” kipi dosya içeriğini tamamen siliyor.\n",
    "\n",
    "Eğer bir dosyayı tamamen silmeden, o dosyaya ekleme yapmak veya o dosyada herhangi bir değişiklik yapmak istiyorsak, dosyamızı buraya kadar öğrendiğimiz iki kipten daha farklı bir kiple açmamız gerekiyor. Şimdi öğreneceğimiz bu yeni kipin adı “a”. Yani Python’da içi boş olmayan bir dosyada değişiklik yapabilmek için “a” adlı bir kipten yararlanacağız:"
   ]
  },
  {
   "cell_type": "code",
   "execution_count": null,
   "id": "1f66cec9-1a2d-41a9-aeb9-c74d2c8622fb",
   "metadata": {},
   "outputs": [],
   "source": [
    "f = open(dosya_adı, \"a\")"
   ]
  },
  {
   "cell_type": "markdown",
   "id": "4e2a8b1d-22ed-430d-bc71-154996d107ad",
   "metadata": {},
   "source": [
    "Örneğin yukarıda verdiğimiz fihrist.txt adlı dosyayı bu kipte açalım ve dosyaya yeni bir girdi ekleyelim:\n",
    "\n"
   ]
  },
  {
   "cell_type": "code",
   "execution_count": 30,
   "id": "7e73bde9-0368-4b58-89f8-47d569df3ab4",
   "metadata": {},
   "outputs": [],
   "source": [
    "with open(\"fihrist.txt\", \"a\") as f:\n",
    "    f.write(\"Selin Ozden\\t: 0212 222 22 22\")"
   ]
  },
  {
   "cell_type": "markdown",
   "id": "e62cddbc-d1a2-4d3c-b61b-c409c85e8407",
   "metadata": {},
   "source": [
    "Gördüğünüz gibi, dosyaya yeni eklediğimiz girdiler otomatik olarak dosyanın sonuna ilave ediliyor. Burada şu noktaya dikkat etmeniz lazım. Dosyanın sonunda bir satır başı karakterinin (\\n) bulunup bulunmamasına bağlı olarak, dosyaya eklediğiniz yeni satırlar düzgün bir şekilde bir alt satıra geçebileceği gibi, dosyanın son satırının yanına da eklenebilir. Dolayısıyla duruma göre yukarıdaki satırı şu şekilde yazmanız gerekebilir:\n",
    "\n"
   ]
  },
  {
   "cell_type": "code",
   "execution_count": 31,
   "id": "a794a7db-4764-4241-a863-7c08980e69ee",
   "metadata": {},
   "outputs": [],
   "source": [
    "with open(\"fihrist.txt\", \"a\") as f:\n",
    "    f.write(\"\\nSelin Özden\\t: 0212 222 22 22\")"
   ]
  },
  {
   "cell_type": "markdown",
   "id": "96016d69-7810-41aa-af0d-b0299382ceed",
   "metadata": {},
   "source": [
    "Burada bir alt satıra geçebilmek için ‘Selin’ ifadesinden önce bir satır başı karakteri eklediğimize dikkat edin. Ayrıca eğer bu satırdan sonra bir başka satır daha ekleyecekseniz, ilgili satırın sonuna da bir satır başı karakteri koymanız gerekebilir:"
   ]
  },
  {
   "cell_type": "code",
   "execution_count": 32,
   "id": "eedde695-e85a-44ca-801e-bd9e24cc68f9",
   "metadata": {},
   "outputs": [],
   "source": [
    "with open(\"fihrist.txt\", \"a\") as f:\n",
    "    f.write(\"Selin Özden\\t: 0212 222 22 22\\n\")"
   ]
  },
  {
   "cell_type": "markdown",
   "id": "df6c2b8b-93f9-45bc-bb8c-bfebd6f80194",
   "metadata": {},
   "source": [
    "Karşı karşıya olduğunuz duruma göre, satır başı karakterlerine ihtiyacınız olup olmadığını ve ihtiyacınız varsa bunları nereye yerleştireceğinizi kendiniz değerlendirmelisiniz.\n",
    "\n"
   ]
  },
  {
   "cell_type": "markdown",
   "id": "5b3cf7a0-28cf-4180-8d76-d36a7af71105",
   "metadata": {},
   "source": [
    "+++++++++++++++Dosyaların Başında Değişiklik Yapmak\n",
    "\n",
    "\n",
    "Bir önceki bölümde dosya sonuna nasıl yeni satır ekleyeceğimizi öğrendik. Ama siz programcılık maceranız sırasında muhtemelen dosyaların sonuna değil de, en başına ekleme yapmanız gereken durumlarla da karşılaşacaksınız. Python’da bu işi yapmak da çok kolaydır.\n",
    "\n",
    "Örnek olması açısından, fihrist.txt adlı dosyanın içeriğini ele alalım:"
   ]
  },
  {
   "cell_type": "raw",
   "id": "b61fe528-553c-4c17-873e-8837927d1c6f",
   "metadata": {},
   "source": [
    "Ahmet Özbudak : 0533 123 23 34\n",
    "Mehmet Sülün  : 0532 212 22 22\n",
    "Sami Sam      : 0542 333 34 34\n",
    "Selin Özden   : 0212 222 22 22"
   ]
  },
  {
   "cell_type": "markdown",
   "id": "3607384f-9896-4ef6-b0e9-3a2d1d77f1c3",
   "metadata": {},
   "source": [
    "Dosya içeriği bu. Eğer bu dosyayı “a” kipi ile açtıktan sonra doğrudan write() metodunu kullanarak bir ekleme yaparsak, yeni değer dosyanın sonuna eklenecektir. Ama biz mesela şu veriyi:\n",
    "\n"
   ]
  },
  {
   "cell_type": "raw",
   "id": "2f22c7dc-e16d-4289-b122-eefef9b25369",
   "metadata": {},
   "source": [
    "Sedat Köz     : 0322 234 45 45"
   ]
  },
  {
   "cell_type": "markdown",
   "id": "5099f403-a429-4c37-a7fd-56ed837c5aaf",
   "metadata": {},
   "source": [
    "‘Ahmet Özbudak : 0533 123 23 34’ girdisinin hemen üstüne, yani dosyanın sonuna değil de en başına eklemek istersek ne yapacağız?\n",
    "\n",
    "Öncelikle şu kodları deneyelim:\n",
    "\n"
   ]
  },
  {
   "cell_type": "code",
   "execution_count": 33,
   "id": "14764557-dca3-41da-a141-440178ecd5cb",
   "metadata": {},
   "outputs": [
    {
     "ename": "UnsupportedOperation",
     "evalue": "not writable",
     "output_type": "error",
     "traceback": [
      "\u001b[0;31m---------------------------------------------------------------------------\u001b[0m",
      "\u001b[0;31mUnsupportedOperation\u001b[0m                      Traceback (most recent call last)",
      "Cell \u001b[0;32mIn[33], line 4\u001b[0m\n\u001b[1;32m      2\u001b[0m veri \u001b[38;5;241m=\u001b[39m f\u001b[38;5;241m.\u001b[39mread()\n\u001b[1;32m      3\u001b[0m f\u001b[38;5;241m.\u001b[39mseek(\u001b[38;5;241m0\u001b[39m) \u001b[38;5;66;03m#Dosyayı başa sarıyoruz\u001b[39;00m\n\u001b[0;32m----> 4\u001b[0m \u001b[43mf\u001b[49m\u001b[38;5;241;43m.\u001b[39;49m\u001b[43mwrite\u001b[49m\u001b[43m(\u001b[49m\u001b[38;5;124;43m\"\u001b[39;49m\u001b[38;5;124;43mSedat Köz\u001b[39;49m\u001b[38;5;130;43;01m\\t\u001b[39;49;00m\u001b[38;5;124;43m: 0322 234 45 45\u001b[39;49m\u001b[38;5;130;43;01m\\n\u001b[39;49;00m\u001b[38;5;124;43m\"\u001b[39;49m\u001b[38;5;241;43m+\u001b[39;49m\u001b[43mveri\u001b[49m\u001b[43m)\u001b[49m\n",
      "\u001b[0;31mUnsupportedOperation\u001b[0m: not writable"
     ]
    }
   ],
   "source": [
    "with open(\"fihrist.txt\", \"r\") as f:\n",
    "    veri = f.read()\n",
    "    f.seek(0) #Dosyayı başa sarıyoruz\n",
    "    f.write(\"Sedat Köz\\t: 0322 234 45 45\\n\"+veri)"
   ]
  },
  {
   "cell_type": "markdown",
   "id": "c475e521-cb7f-409e-a231-992afa9ac16e",
   "metadata": {},
   "source": [
    "Bu hatayı almamızın sebebi dosyayı ‘okuma’ kipinde açmış olmamız. Çünkü bir dosyayı okuma kipinde açtığımızda o dosya üzerinde yalnızca okuma işlemleri yapabiliriz. Dosyaya yeni veri ekleme kısmına gelindiğinde, dosya yalnızca okuma yetkisine sahip olduğu için, Python bize yukarıdaki hata mesajını verecek, dosyanın ‘yazılamaz’ olduğundan şikayet edecektir.\n",
    "\n",
    "Peki dosyayı “w” karakteri yardımıyla yazma kipinde açarsak ne olur? O zaman da şu meş’um hatayı alırız:"
   ]
  },
  {
   "cell_type": "raw",
   "id": "bc2f38c5-141a-4880-b551-935716f0b2a5",
   "metadata": {},
   "source": [
    "Traceback (most recent call last):\n",
    "  File \"deneme.py\", line 2, in <module>\n",
    "    veri = f.read()\n",
    "io.UnsupportedOperation: not readable\n"
   ]
  },
  {
   "cell_type": "markdown",
   "id": "d12dc278-70d0-4cda-9287-630c4ec90590",
   "metadata": {},
   "source": [
    "Gördüğünüz gibi, bu kez de dosyanın okunamadığına ilişkin bir hata alıyoruz. Çünkü biz bu kez de dosyayı ‘yazma’ kipinde açtık. Ancak burada şöyle bir durum var. Bildiğiniz gibi, bir dosyayı “w” kipi ile açtığımızda, Python bize hiçbir şey sormadan varolan içeriği silecektir. Burada da yukarıda yazdığımız kodlar yüzünden dosya içeriğini kaybettik. Unutmayın, dosya okuma-yazma işlemleri belli bir takım riskleri içinde barındırır. O yüzden bu tür işlemleri yaparken fazladan dikkat göstermeliyiz.\n",
    "\n",
    "Yukarıda da gördüğümüz gibi, dosyamızı “r” veya “w” kiplerinde açmak işe yaramadı. Peki ne yapacağız? Bunun cevabı çok basit: Dosyamızı hem okuma hem de yazma kipinde açacağız. Bunun için de farklı bir kip kullanacağız. Dikkatlice bakın:\n",
    "\n"
   ]
  },
  {
   "cell_type": "code",
   "execution_count": 35,
   "id": "a880e988-1c56-4d38-a0f1-5bad1ecdde4f",
   "metadata": {},
   "outputs": [],
   "source": [
    "with open(\"fihrist.txt\", \"r+\") as f:\n",
    "    veri = f.read()\n",
    "    f.seek(0) #Dosyayi basa sariyoruz\n",
    "    f.write(\"\\nSedatKoz\\t: 0322 234 45 45\\n\" + veri)"
   ]
  },
  {
   "cell_type": "markdown",
   "id": "1504c2e4-a220-455b-930e-9fcae8dbdb08",
   "metadata": {},
   "source": [
    "Burada “r+” adlı yeni bir kip kullandığımıza dikkat edin. “+” işareti bir dosyayı hem okuma hem de yazma kipinde açmamıza yardımcı olur. İşte bu işareti “r” kipiyle birlikte “r+” şeklinde kullanarak dosyamızı hem okuma hem de yazma kipinde açmayı başardık. Artık ilgili dosya üzerinde hem okuma hem de yazma işlemlerini aynı anda gerçekleştirebiliriz.\n",
    "\n",
    "Yukarıdaki kodlarda ilk satırın ardından şöyle bir kod yazdık:"
   ]
  },
  {
   "cell_type": "raw",
   "id": "98110038-437c-4e43-a839-7d467a9911b7",
   "metadata": {},
   "source": [
    "veri = f.read()"
   ]
  },
  {
   "cell_type": "markdown",
   "id": "daba585d-6317-4fe5-aa96-e316c21f994f",
   "metadata": {},
   "source": [
    "Böylece dosyanın bütün içeriğini veri adlı bir değişkene atamış olduk. Peki bu işlemi yapmazsak ne olur? Yani mesela şöyle bir kod yazarsak:\n",
    "\n"
   ]
  },
  {
   "cell_type": "raw",
   "id": "6cb8c816-bb32-46a1-8faa-1fc388b621a8",
   "metadata": {},
   "source": [
    "with open(\"fihrist.txt\", \"r+\") as f:\n",
    "    f.seek(0)\n",
    "    f.write(\"Sedat Köz\\t: 0322 234 45 45\\n\")"
   ]
  },
  {
   "cell_type": "markdown",
   "id": "824c3676-30b9-4e1e-b94e-84a533f2fdf3",
   "metadata": {},
   "source": [
    "Bu şekilde ‘Sedat Köz\\t: 0322 234 45 45\\n’ satırı, dosyadaki ilk satırı silip onun yerine geçecektir. Çünkü f.seek(0) ile dosyanın başına dönüp o noktaya, yani dosyanın ilk satırına bir veri ekledikten sonra Python öbür satırları otomatik olarak bir alt satıra kaydırmaz. Bunun yerine ilk satırdaki verileri silip onun yerine, yeni eklenen satırı getirir. Eğer yapmak istediğiniz şey buysa ne âlâ. Bu kodları kullanabilirsiniz. Ama bizim istediğimiz şey bu değil. O yüzden veri = f.read() satırını kullanarak dosya içeriğini bir değişken içinde depoluyoruz ve böylece bu verileri kaybetmemiş oluyoruz.\n",
    "\n",
    "Bu satırın ardından gelen f.seek(0) satırının ne işe yaradığını biliyorsunuz. Biz yeni veriyi dosyanın en başına eklemek istediğimiz için, doğal olarak bu kod yardımıyla dosyanın en başına sarıyoruz. Böylece şu kod:"
   ]
  },
  {
   "cell_type": "code",
   "execution_count": null,
   "id": "943836cf-5899-4094-8490-5dc0b54b1255",
   "metadata": {},
   "outputs": [],
   "source": [
    "f.write(\"Sedat Köz\\t: 0322 234 45 45\\n\"+veri)"
   ]
  },
  {
   "cell_type": "markdown",
   "id": "f1156e21-b42c-40db-b763-1dfb2039ed18",
   "metadata": {},
   "source": [
    "Sedat Köz\\t: 0322 234 45 45\\n’ satırını dosyanın en başına ekliyor. Ayrıca burada, biraz önce veri değişkenine atadığımız dosya içeriğini de yeni eklediğimiz satırın hemen arkasına ilave ettiğimize dikkat edin. Eğer bunu yapmazsanız, elinizde sadece Sedat Köz’ün iletişim bilgilerini barındıran bir dosya olacaktır…"
   ]
  },
  {
   "cell_type": "markdown",
   "id": "7b1eec99-72f1-47b5-a429-3d6d1bcb1132",
   "metadata": {},
   "source": [
    "+++++++++++++Dosyaların Ortasında Değişiklik Yapmak\n",
    "\n",
    "\n",
    "Gördüğünüz gibi, Python’da bir dosyanın en sonuna ve en başına veri eklemek çok zor değil. Birkaç satır yardımıyla bu işlemleri rahatlıkla yapabiliyoruz. Peki ya bir dosyanın en başına veya en sonuna değil de rastgele bir yerine ekleme yapmak istersek ne olacak?\n",
    "\n",
    "Hatırlarsanız, Python’da her veri tipinin farklı özellikleri olduğundan, her veri tipinin farklı açılardan birbirlerine karşı üstünlükleri ya da zayıflıkları olduğundan söz etmiştik. Dediğimiz gibi, Python’da bazı işler için bazı veri tiplerini kullanmak daha pratik ve avantajlı olabilir. Örneğin karakter dizileri değiştirilemeyen veri tipleri olduğu için, mesela bir metinde değişiklik yapmamız gereken durumlarda, eğer mümkünse listeleri kullanmak daha mantıklı olabilir. Zira bildiğiniz gibi, karakter dizilerinin aksine listeler değiştirilebilir veri tipleridir.\n",
    "\n",
    "Önceki sayfalarda bir dosyayı okurken üç farklı metottan yararlanabileceğimizi öğrenmiştik. Bu metotların read(), readline() ve readlines() adlı metotlar olduğunu biliyorsunuz. Bu üç metottan read() adlı olanı bize çıktı olarak bir karakter dizisi veriyor. readline() metodu ise dosyaları satır satır okuyor ve bize yine bir karakter dizisi veriyor. Sonuncu metot olan readlines() ise bize bir liste veriyor. readline() metodundan farklı olarak readlines() metodu dosyanın tamamını bir çırpıda okuyor.\n",
    "\n",
    "Bu üç metot arasından, adı readlines() olanının, dosyaların herhangi bir yerinde değişiklik yapmak konusunda bize yardımcı olabileceğini tahmin etmiş olabilirsiniz. Çünkü dediğimiz gibi readlines() metodu bize bir dosyanın içeriğini liste halinde veriyor. Bildiğiniz gibi listeler, üzerinde değişiklik yapılabilen veri tipleridir. Listelerin bu özelliğinden yararlanarak, dosyaların herhangi bir yerinde yapmak istediğimiz değişiklikleri rahatlıkla yapabiliriz. Şimdi dikkatlice bakın şu kodlara:"
   ]
  },
  {
   "cell_type": "code",
   "execution_count": 37,
   "id": "b231d82b-ace9-496c-8919-e46f235358e2",
   "metadata": {},
   "outputs": [],
   "source": [
    "with open(\"fihrist.txt\", \"r+\") as f:\n",
    "    veri = f.readlines()\n",
    "    veri.insert(2, \"torerere rerere\\t: 0322 234 45 45\\n\")\n",
    "    f.seek(0)\n",
    "    f.writelines(veri)"
   ]
  },
  {
   "cell_type": "markdown",
   "id": "6c491403-581a-416c-b523-406c3e9b908c",
   "metadata": {},
   "source": [
    "Bu kodları bir dosyaya kaydedip çalıştırdıysanız, istediğimiz işlemi başarıyla yerine getirdiğini görmüşsünüzdür. Peki ama bu kodlar nasıl çalışıyor?\n",
    "\n",
    "Yukarıdaki kodlarda dikkatimizi çeken pek çok özellik var. İlk olarak gözümüze çarpan şey, dosyayı “r+” kipinde açmış olmamız. Bu şekilde dosyayı hem okuma hem de yazma kipinde açmış oluyoruz. Çünkü dosyada aynı anda hem okuma hem de yazma işlemleri gerçekleştireceğiz.\n",
    "\n",
    "Daha sonra şöyle bir satır yazdık:\n",
    "\n"
   ]
  },
  {
   "cell_type": "raw",
   "id": "ae2c1a55-0883-40c6-af43-20faf5ef1f1c",
   "metadata": {},
   "source": [
    "veri = f.readlines()"
   ]
  },
  {
   "cell_type": "markdown",
   "id": "3fd56022-6948-429e-836d-6acf8f0aaded",
   "metadata": {},
   "source": [
    "Bu sayede dosyadaki bütün verileri bir liste olarak almış olduk. Liste adlı veri tipi ile ne yapabiliyorsak, bu şekilde aldığımız dosya içeriği üzerinde de aynı şeyleri yapabiliriz. Bizim amacımız bu listenin 2. sırasına yeni bir satır eklemek. Bu işlemi listelerin insert() adlı metodu yardımıyla rahatlıkla yapabiliriz:"
   ]
  },
  {
   "cell_type": "raw",
   "id": "d1fb51f4-cda9-4e01-a576-541976caa929",
   "metadata": {},
   "source": [
    "veri.insert(2, \"Sedat Köz\\t: 0322 234 45 45\\n\")"
   ]
  },
  {
   "cell_type": "markdown",
   "id": "ef38e575-9431-435f-bad1-3e52436c3298",
   "metadata": {},
   "source": [
    "Bu şekilde liste üzerinde istediğimiz değişiklikleri yaptıktan sonra tekrar dosyanın başına dönmemiz lazım. Çünkü readlines() metoduyla dosyayı bir kez tam olarak okuduktan sonra imleç o anda dosyanın en sonunda bulunuyor. Eğer dosyanın en başına dönmeden herhangi bir yazma işlemi gerçekleştirirsek, yazılan veriler dosyanın sonuna eklenecektir. Bizim yapmamız gereken şey dosyanın en başına sarıp, değiştirilmiş verilerin dosyaya yazılmasını sağlamak olmalı. Bunu da şu satır yardımıyla yapıyoruz:\n",
    "\n"
   ]
  },
  {
   "cell_type": "raw",
   "id": "f472eabf-fcd1-4c2a-9b11-11b5dbc30230",
   "metadata": {},
   "source": [
    "f.seek(0)"
   ]
  },
  {
   "cell_type": "markdown",
   "id": "c50ace84-a3d6-43f0-b9e6-4689feefa5d6",
   "metadata": {},
   "source": [
    "Son olarak da bütün verileri dosyaya yazıyoruz:"
   ]
  },
  {
   "cell_type": "raw",
   "id": "f42b6ab1-4119-4613-9dc0-2645ca155ccf",
   "metadata": {},
   "source": [
    "f.writelines(veri)"
   ]
  },
  {
   "cell_type": "markdown",
   "id": "385d16c6-76ed-45c3-9208-900582b1eeb7",
   "metadata": {},
   "source": [
    "Şimdiye kadar dosyaya yazma işlemleri için write() adlı bir metottan yararlanmıştık. Burada ise writelines() adlı başka bir metot görüyoruz. Peki bu iki metot arasındaki fark nedir?\n",
    "\n",
    "write() metodu bir dosyaya yalnızca karakter dizilerini yazabilir. Bu metot yardımıyla dosyaya liste tipinde herhangi bir veri yazamazsınız. Eğer mutlaka write() metodunu kullanmak isterseniz, liste üzerinde bir for döngüsü kurmanız gerekir. O zaman yukarıdaki kodları şöyle yazmanız gerekir:"
   ]
  },
  {
   "cell_type": "code",
   "execution_count": null,
   "id": "d5c22029-8ef0-46b3-8617-8b0b77565239",
   "metadata": {},
   "outputs": [],
   "source": [
    "with open(\"fihrist.txt\", \"r+\") as f:\n",
    "    veri = f.readlines()\n",
    "    veri.insert(2, \"Sedat Köz\\t: 0322 234 45 45\\n\")\n",
    "    f.seek(0)\n",
    "    for öğe in veri:\n",
    "        f.write(öğe)"
   ]
  },
  {
   "cell_type": "markdown",
   "id": "f0904369-5756-4875-a581-48fd989c98b0",
   "metadata": {},
   "source": [
    "writelines() adlı metot ise bize dosyaya liste tipinde verileri yazma imkanı verir. Dolayısıyla herhangi bir döngü kurmak zorunda kalmadan listeleri dosyalarımıza yazabiliriz.\n",
    "\n",
    "Böylece Python’da dosyaların herhangi bir yerine nasıl yazabileceğimizi öğrenmiş olduk. Bu arada eğer isteseydik yukarıdaki kodları şöyle de yazabilirdik:\n"
   ]
  },
  {
   "cell_type": "code",
   "execution_count": null,
   "id": "e5156011-4468-421b-855b-2f47495037d2",
   "metadata": {},
   "outputs": [],
   "source": [
    "with open(\"fihrist.txt\", \"r\") as f:\n",
    "    veri = f.readlines()\n",
    "\n",
    "with open(\"fihrist.txt\", \"w\") as f:\n",
    "    veri.insert(2, \"Sedat Köz\\t: 0322 234 45 45\\n\")\n",
    "    f.writelines(veri)"
   ]
  },
  {
   "cell_type": "markdown",
   "id": "086e78ff-88bf-496f-af0b-bf5701ed4207",
   "metadata": {},
   "source": [
    "Bir önceki kodlardan farklı olarak bu kodlarda dosyamızı önce okuma kipinde açıp verileri veri adlı bir değişken içinde sakladık. Ardından aynı dosyayı bir kez de yazma kipinde açarak, gerekli değişiklikleri liste üzerinde gerçekleştirdikten sonra bütün verileri dosyaya yazdık.\n",
    "\n",
    "Unutmayın, Python’da herhangi bir işlemi pek çok farklı şekilde gerçekleştirebilirsiniz. Biz yukarıda olası yöntemlerden bazılarını ele aldık. Zaten bütün yöntemleri tek tek göstermemiz pek mümkün olmazdı. Siz dosyalara ilişkin bilgilerinizi ve farklı araçları kullanarak aynı işlemleri çok daha farklı şekillerde de yapabilirsiniz. Yani karşı karşıya olduğunuz durumu değerlendirip, yukarıdaki kodlardan uygun olanını veya kendi bulduğunuz bambaşka bir yöntemi kullanabilirsiniz.\n",
    "\n",
    "Bu arada, aslında yukarıdaki kodlarda uyguladığımız yöntem biraz güvensiz. Çünkü aynı dosyayı hem okuyup hem de bu dosyaya yeni veri ekliyoruz. Eğer bu işlemlerin herhangi bir aşamasında bir hata oluşursa, bütün değişiklikleri dosyaya işleyemeden dosya içeriğini tümden kaybedebiliriz. Bu tür risklere karşı en uygun çözüm, okuma ve yazma işlemlerini ayrı dosyalar üzerinde gerçekleştirmektir. Bunun nasıl yapılacağından biraz sonra söz edeceğiz. Biz şimdi başka bir konuya değinelim.\n",
    "\n",
    "\n",
    "++++++++++Dosyaya Erişme Kipleri\n",
    "\n",
    "\n",
    "Dosyalar konusunu anlatırken yukarıda verdiğimiz örneklerden de gördüğünüz gibi, Python’da dosyalara erişimin türünü ve niteliğini belirleyen bazı kipler var. Bu kipler dosyaların açılırken hangi yetkilere sahip olacağını veya olmayacağını belirliyor. Gelin isterseniz bu kipleri tek tek ele alalım.\n",
    "\n"
   ]
  },
  {
   "cell_type": "raw",
   "id": "312f62f8-2f03-4efb-8e9e-086e36d70239",
   "metadata": {},
   "source": [
    "\n",
    "Kip\n",
    "\n",
    "Açıklaması\n",
    "\n",
    "\"r\"\n",
    "\n",
    "Bu öntanımlı kiptir. Bu kip dosyayı okuma yetkisiyle açar. Ancak bu kipi kullanabilmemiz için, ilgili dosyanın disk üzerinde halihazırda var olması gerekir. Eğer bu kipte açılmak istenen dosya mevcut değilse Python bize bir hata mesajı gösterecektir. Dediğimiz gibi, bu öntanımlı kiptir. Dolayısıyla dosyayı açarken herhangi bir kip belirtmezsek Python dosyayı bu kipte açmak istediğimizi varsayacaktır.\n",
    "\n",
    "\"w\"\n",
    "\n",
    "Bu kip dosyayı yazma yetkisiyle açar. Eğer belirttiğiniz adda bir dosya zaten disk üzerinde varsa, Python hiçbir şey sormadan dosya içeriğini silecektir. Eğer belirttiğiniz adda bir dosya diskte yoksa, Python o adda bir dosyayı otomatik olarak oluşturur.\n",
    "\n",
    "\"a\"\n",
    "\n",
    "Bu kip dosyayı yazma yetkisiyle açar. Eğer dosya zaten disk üzerinde mevcutsa içeriğinde herhangi bir değişiklik yapılmaz. Bu kipte açtığınız bir dosyaya eklediğiniz veriler varolan verilere ilave edilir. Eğer belirttiğiniz adda bir dosya yoksa Python otomatik olarak o adda bir dosyayı sizin için oluşturacaktır.\n",
    "\n",
    "\"x\"\n",
    "\n",
    "Bu kip dosyayı yazma yetkisiyle açar. Eğer belirttiğiniz adda bir dosya zaten disk üzerinde varsa, Python varolan dosyayı silmek yerine size bir hata mesajı gösterir. Zaten bu kipin “w” kipinden farkı, varolan dosyaları silmemesidir. Eğer belirttiğiniz adda bir dosya diskte yoksa, bu kip yardımıyla o ada sahip bir dosya oluşturabilirsiniz.\n",
    "\n",
    "\"r+\"\n",
    "\n",
    "Bu kip, bir dosyayı hem yazma hem de okuma yetkisiyle açar. Bu kipi kullanabilmeniz için, belirttiğiniz dosyanın disk üzerinde mevcut olması gerekir.\n",
    "\n",
    "\"w+\"\n",
    "\n",
    "Bu kip bir dosyayı hem yazma hem de okuma yetkisiyle açar. Eğer dosya mevcutsa içerik silinir, eğer dosya mevcut değilse oluşturulur.\n",
    "\n",
    "\"a+\"\n",
    "\n",
    "Bu kip bir dosyayı hem yazma hem de okuma yetkisiyle açar. Eğer dosya zaten disk üzerinde mevcutsa içeriğinde herhangi bir değişiklik yapılmaz. Bu kipte açtığınız bir dosyaya eklediğiniz veriler varolan verilere ilave edilir. Eğer belirttiğiniz adda bir dosya yoksa Python otomatik olarak o adda bir dosyayı sizin için oluşturacaktır.\n",
    "\n",
    "\"x+\"\n",
    "\n",
    "Bu kip dosyayı hem okuma hem de yazma yetkisiyle açar. Eğer belirttiğiniz adda bir dosya zaten disk üzerinde varsa, Python varolan dosyayı silmek yerine size bir hata mesajı gösterir. Zaten bu kipin “w+” kipinden farkı, varolan dosyaları silmemesidir. Eğer belirttiğiniz adda bir dosya diskte yoksa, bu kip yardımıyla o ada sahip bir dosya oluşturup bu dosyayı hem okuma hem de yazma yetkisiyle açabilirsiniz.\n",
    "\n",
    "\"rb\"\n",
    "\n",
    "Bu kip, metin dosyaları ile ikili (binary) dosyaları ayırt eden sistemlerde ikili dosyaları okuma yetkisiyle açmak için kullanılır. “r” kipi için söylenenler bu kip için de geçerlidir.\n",
    "\n",
    "\"wb\"\n",
    "\n",
    "Bu kip, metin dosyaları ile ikili dosyaları ayırt eden sistemlerde ikili dosyaları yazma yetkisiyle açmak için kullanılır. “w” kipi için söylenenler bu kip için de geçerlidir.\n",
    "\n",
    "\"ab\"\n",
    "\n",
    "Bu kip, metin dosyaları ile ikili dosyaları ayırt eden sistemlerde ikili dosyaları yazma yetkisiyle açmak için kullanılır. “a” kipi için söylenenler bu kip için de geçerlidir.\n",
    "\n",
    "\"xb\"\n",
    "\n",
    "Bu kip, metin dosyaları ile ikili dosyaları ayırt eden sistemlerde ikili dosyaları yazma yetkisiyle açmak için kullanılır. “x” kipi için söylenenler bu kip için de geçerlidir.\n",
    "\n",
    "\"rb+\"\n",
    "\n",
    "Bu kip, metin dosyaları ile ikili dosyaları ayırt eden sistemlerde ikili dosyaları hem okuma hem de yazma yetkisiyle açmak için kullanılır. “r+” kipi için söylenenler bu kip için de geçerlidir.\n",
    "\n",
    "\"wb+\"\n",
    "\n",
    "Bu kip, metin dosyaları ile ikili dosyaları ayırt eden sistemlerde ikili dosyaları hem okuma hem de yazma yetkisiyle açmak için kullanılır. “w+” kipi için söylenenler bu kip için de geçerlidir.\n",
    "\n",
    "\"ab+\"\n",
    "\n",
    "Bu kip, metin dosyaları ile ikili dosyaları ayırt eden sistemlerde ikili dosyaları hem okuma hem de yazma yetkisiyle açmak için kullanılır. “a+” kipi için söylenenler bu kip için de geçerlidir.\n",
    "\n",
    "\"xb+\"\n",
    "\n",
    "Bu kip, metin dosyaları ile ikili dosyaları ayırt eden sistemlerde ikili dosyaları hem okuma hem de yazma yetkisiyle açmak için kullanılır. “x+” kipi için söylenenler bu kip için de geçerlidir.\n",
    "\n"
   ]
  },
  {
   "cell_type": "markdown",
   "id": "60f290b2-f82d-455c-af9d-894da99ac76a",
   "metadata": {},
   "source": [
    "Bütün bu tabloya baktığınızda ilk bakışta sanki bir sürü farklı erişim kipi olduğunu düşünmüş olabilirsiniz. Ama aslında tabloyu biraz daha incelerseniz, temel olarak “r”, “w”, “a”, “x” ve “b” kiplerinin olduğunu, geri kalan kiplerin ise bunların kombinasyonlarından oluştuğunu göreceksiniz.\n",
    "\n",
    "Daha önce de söylediğimiz gibi, dosya işlemlerini pek çok farklı yöntemle gerçekleştirebilirsiniz. Yukarıdaki tabloyu dikkatlice inceleyerek, yapmak istediğiniz işleme uygun kipi rahatlıkla seçebilirsiniz.\n",
    "\n",
    "Bu arada, yukarıdaki tabloda değindiğimiz ikili (binary) dosyalardan henüz söz etmedik. Bir sonraki bölümde bu dosya türünü de ele alacağız."
   ]
  },
  {
   "cell_type": "code",
   "execution_count": null,
   "id": "4b94f9d1-11e0-4f29-8f70-814a899acb6e",
   "metadata": {},
   "outputs": [],
   "source": []
  }
 ],
 "metadata": {
  "kernelspec": {
   "display_name": "Python 3 (ipykernel)",
   "language": "python",
   "name": "python3"
  },
  "language_info": {
   "codemirror_mode": {
    "name": "ipython",
    "version": 3
   },
   "file_extension": ".py",
   "mimetype": "text/x-python",
   "name": "python",
   "nbconvert_exporter": "python",
   "pygments_lexer": "ipython3",
   "version": "3.10.12"
  }
 },
 "nbformat": 4,
 "nbformat_minor": 5
}
