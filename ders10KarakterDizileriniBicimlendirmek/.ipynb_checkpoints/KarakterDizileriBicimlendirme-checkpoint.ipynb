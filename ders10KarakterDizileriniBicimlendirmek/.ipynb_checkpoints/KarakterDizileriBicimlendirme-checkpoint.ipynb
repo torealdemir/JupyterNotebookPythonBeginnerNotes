{
 "cells": [
  {
   "cell_type": "markdown",
   "id": "fea2bf2c-6e20-4ceb-be5e-a0521df543c6",
   "metadata": {},
   "source": [
    "++++++++++Karakter Dizilerini Biçimlendirmek\n",
    "\n",
    "\n",
    "Bu bölüme gelinceye kadar, Python’da karakter dizilerinin biçimlendirilmesine ilişkin epey söz söyledik. Ancak bu konu ile ilgili bilgilerimiz hem çok dağınık, hem de çok yüzeysel. İşte bu bölümde amacımız, daha önce farklı yerlerde dile getirdiğimiz bu önemli konuya ait bilgi kırıntılarını bir araya toplayıp, karakter dizisi biçimlendirme konusunu, Python bilgimiz elverdiği ölçüde ayrıntılı bir şekilde ele almak olacak.\n",
    "\n",
    "Şu ana kadar yaptığımız örneklere bakarak, programlama maceranız boyunca karakter dizileriyle bol bol haşır neşir olacağınızı anlamış olmalısınız. Bundan sonra yazdığınız programlarda da karakter dizilerinin size pek çok farklı biçimlerde geldiğine tanık olacaksınız. Farklı farklı biçimlerde elinize ulaşan bu karakter dizilerini, muhtemelen, sadece alt alta ve rastgele bir şekilde ekrana yazdırmakla yetinmeyeceksiniz. Bu karakter dizilerini, yazdığınız programlarda kullanabilmek için, programınıza uygun şekillerde biçimlendirmeniz gerekecek. Dilerseniz neden bahsettiğimizi daha net bir şekilde anlatabilmek için çok basit bir örnek verelim.\n",
    "\n",
    "Diyelim ki, yazdığınız bir programda kullanmak üzere, kullanıcıdan isim bilgisi almanız gerekiyor. Programınızın işleyişi gereğince, eğer isim 5 karakterse veya bundan küçükse ismin tamamı görüntülenecek, ama eğer isim 5 karakterden büyükse 5 karakteri aşan kısım yerine üç nokta işareti koyulacak. Yani eğer isim Fırat ise bu ismin tamamı görüntülenecek. Ama eğer isim mesela Abdullah ise, o zaman bu isim Abdul… şeklinde görüntülenecek.\n",
    "\n",
    "Bu amaca ulaşmak için ilk denememizi yapalım:"
   ]
  },
  {
   "cell_type": "code",
   "execution_count": 4,
   "id": "40e3adcd-1a07-454e-9106-630ebe458524",
   "metadata": {},
   "outputs": [
    {
     "name": "stdin",
     "output_type": "stream",
     "text": [
      "isminiz  tanrikut\n"
     ]
    },
    {
     "name": "stdout",
     "output_type": "stream",
     "text": [
      "tanri ...\n"
     ]
    }
   ],
   "source": [
    "isim = input(\"isminiz \")\n",
    "if len(isim) <= 5:\n",
    "    print(isim[:5])\n",
    "else:\n",
    "    print(isim[:5], \"...\")\n",
    "    "
   ]
  },
  {
   "cell_type": "markdown",
   "id": "f45c35ee-2679-4eca-9b4d-d2ef4243ee3a",
   "metadata": {},
   "source": [
    "Buradan elde ettiğimiz çıktı ihtiyacımızı kısmen karşılıyor. Ama çıktı tam istediğimiz gibi değil. Çünkü normalde isme bitişik olması gereken üç nokta işareti, isimden bir boşluk ile ayrılmış.\n",
    "\n",
    "Bu sorunu şu şekilde halledebiliriz:"
   ]
  },
  {
   "cell_type": "code",
   "execution_count": 5,
   "id": "60330e4e-3be1-4038-bbcf-579f986c0495",
   "metadata": {},
   "outputs": [
    {
     "name": "stdin",
     "output_type": "stream",
     "text": [
      "isminiz:  adnklsndklas\n"
     ]
    },
    {
     "name": "stdout",
     "output_type": "stream",
     "text": [
      "adnkl...\n"
     ]
    }
   ],
   "source": [
    "isim = input(\"isminiz: \")\n",
    "if len(isim) <= 5:\n",
    "    print(isim[:5])\n",
    "else:\n",
    "    print(isim[:5] + \"...\")"
   ]
  },
  {
   "cell_type": "markdown",
   "id": "1bf2b101-bfc7-4520-9c25-41d1904e04a0",
   "metadata": {},
   "source": [
    "veya:"
   ]
  },
  {
   "cell_type": "code",
   "execution_count": null,
   "id": "48e12989-8a49-4abd-b38d-dc507ee62cb5",
   "metadata": {},
   "outputs": [],
   "source": [
    "isim = input(\"isminiz: \")\n",
    "\n",
    "if len(isim) <= 5:\n",
    "    print(isim[:5])\n",
    "else:\n",
    "    print(isim[:5], \"...\", sep=\"\")"
   ]
  },
  {
   "cell_type": "markdown",
   "id": "9f356fe1-0a89-45b7-a3d5-55609d300c31",
   "metadata": {},
   "source": [
    "Yukarıdaki gibi basit durumlarda klasik karakter dizisi birleştirme yöntemlerini kullanarak işinizi halledebilirsiniz. Ama daha karmaşık durumlarda, farklı kaynaklardan gelen karakter dizilerini ihtiyaçlarınıza göre bir araya getirmek, karakter dizisi birleştirme yöntemleri ile pek mümkün olmayacak veya çok zor olacaktır.\n",
    "\n",
    "Bir de uzun ve karmaşık bir metnin içine dışarıdan değerler yerleştirmeniz gereken şöyle bir metinle karşı karşıya olduğunuzu düşünün:\n",
    "\n",
    "Sayın .........\n",
    "\n",
    ".... tarihinde yapmış olduğunuz, ........ hakkındaki başvurunuz incelemeye alınmıştır.\n",
    "\n",
    "Size .... işgünü içinde cevap verilecektir.\n",
    "\n",
    "\n",
    "Saygılarımızla,\n",
    "\n",
    "......\n",
    "Böyle bir metin içine dışarıdan değer yerleştirmek için karakter dizisi birleştirme yöntemlerine başvurmak işinizi epey zorlaştıracaktır.\n",
    "\n",
    "İşte klasik karakter dizisi birleştirme işlemlerinin yetersiz kaldığı veya işleri büsbütün zorlaştırdığı bu tür durumlarda Python’ın size sunduğu ‘karakter dizisi biçimlendirme’ araçlarından yararlanabilirsiniz.\n",
    "\n",
    "Bunun için biz bu bölümde iki farklı yöntemden söz edeceğiz:\n",
    "\n",
    "% işareti ile biçimlendirme\n",
    "\n",
    "format() metodu ile biçimlendirme.\n",
    "\n",
    "% işareti ile biçimlendirme, karakter dizisi biçimlendirmenin eski yöntemidir. Bu yöntem ağırlıklı olarak Python’ın 3.x sürümlerinden önce kullanılıyordu. Ama Python’ın 3.x sürümlerinde de bu yöntemi kullanma imkanımız var. Her ne kadar bu yöntem Python3’te geçerliliğini korusa da muhtemelen ileride dilden tamamen kaldırılacak. Ancak hem etrafta bu yöntemle yazılmış eski programlar olması, hem de bu yöntemin halen geçerliliğini koruması nedeniyle bu yöntemi (kendimiz kullanmayacak bile olsak) mutlaka öğrenmemiz gerekiyor.\n",
    "\n",
    "format() metodu ise Python’ın 3.x sürümleri ile dile dahil olan bir özelliktir. Python’ın 2.x sürümlerinde bu metodu kullanamazsınız. Dilin geleceğinde bu metot olduğu için, yeni yazılan kodlarda format() metodunu kullanmak daha akıllıca olacaktır.\n",
    "\n",
    "Biz bu sayfalarda yukarıda adını andığımız her iki yöntemi de inceleyeceğiz. İlk olarak % işareti ile biçimlendirmeden söz edelim."
   ]
  },
  {
   "cell_type": "markdown",
   "id": "7f8658d5-23ca-4500-a0bf-00eb5938f8a3",
   "metadata": {},
   "source": [
    "+++++++% İşareti ile Biçimlendirme (Eski Yöntem)\n",
    "\n",
    "\n",
    "Daha önce de söylediğimiz gibi, Python programlama dilinin 3.x sürümlerinden önce, bir karakter dizisini biçimlendirebilmek için % işaretinden yararlanıyorduk. Bununla ilgili basit bir örnek verelim:\n",
    "\n"
   ]
  },
  {
   "cell_type": "code",
   "execution_count": null,
   "id": "6a0af684-8a30-4371-ba75-b4b719d9b97e",
   "metadata": {},
   "outputs": [],
   "source": [
    "parola = input(\"parola: \")\n",
    "\n",
    "print(\"Girdiğiniz parola (%s) kurallara uygun bir paroladır!\" %parola)"
   ]
  },
  {
   "cell_type": "markdown",
   "id": "ac503e3c-d8da-4708-9622-a604e77ee1dd",
   "metadata": {},
   "source": [
    "Bu programı çalıştırıp parola girdiğinizde, yazdığınız parola çıktıda parantez içinde görünecektir.\n",
    "\n",
    "Yukarıdaki yapıyı incelediğimizde iki nokta gözümüze çarpıyor:\n",
    "\n",
    "İlk olarak, karakter dizisinin içinde bir % işareti ve buna bitişik olarak yazılmış bir s harfi görüyoruz.\n",
    "\n",
    "İkincisi, karakter dizisinin dışında %parola gibi bir ifade daha var.\n",
    "\n",
    "Rahatlıkla tahmin edebileceğiniz gibi, bu ifadeler birbiriyle doğrudan bağlantılıdır. Dilerseniz bu yapıyı açıklamaya geçmeden önce bir örnek daha verelim. Bu örnek sayesinde benim açıklamama gerek kalmadan karakter dizisi biçimlendirme mantığını derhal kavrayacağınızı zannediyorum:\n",
    "\n"
   ]
  },
  {
   "cell_type": "code",
   "execution_count": null,
   "id": "16fd3f3b-48e8-4459-9ecc-e75d4b2876aa",
   "metadata": {
    "jupyter": {
     "source_hidden": true
    }
   },
   "outputs": [],
   "source": [
    "print(\"%s ve %s iyi bir ikilidir!\" %(\"Python\", \"Django\"))"
   ]
  },
  {
   "cell_type": "markdown",
   "id": "39fb46cd-547b-45a8-bf50-ceb8d7191ac6",
   "metadata": {},
   "source": [
    "Dediğim gibi, bu basit örnek karakter dizilerinin nasıl biçimlendirildiğini gayet açık bir şekilde gösteriyor. Dilerseniz yapıyı şöyle bir inceleyelim:\n",
    "\n",
    "Python’da %s yapısı, karakter dizisi içinde bir yer tutma vazifesi görür.\n",
    "\n",
    "%s yapısı bir anlamda değişkenlere benzer. Tıpkı değişkenlerde olduğu gibi, %s yapısının değeri değişebilir.\n",
    "\n",
    "Bir karakter dizisi içindeki her %s ifadesi için, karakter dizisi dışında bu ifadeye karşılık gelen bir değer olmalıdır. Python, karakter dizisi içinde geçen her %s ifadesinin yerine, karakter dizisi dışındaki her bir değeri tek tek yerleştirir. Bizim örneğimizde karakter dizisi içindeki ilk %s ifadesinin karakter dizisi dışındaki karşılığı “Python”; karakter dizisi içindeki ikinci %s ifadesinin karakter dizisi dışındaki karşılığı ise “Django”’dur.\n",
    "\n",
    "Eğer karakter dizisi içindeki %s işaretlerinin sayısı ile karakter dizisi dışında bu işaretlere karşılık gelen değerlerin sayısı birbirini tutmazsa Python bize bir hata mesajı gösterecektir. Mesela:"
   ]
  },
  {
   "cell_type": "code",
   "execution_count": 6,
   "id": "0d3c5449-e7bf-46b8-b568-008d6784b038",
   "metadata": {},
   "outputs": [
    {
     "ename": "TypeError",
     "evalue": "not enough arguments for format string",
     "output_type": "error",
     "traceback": [
      "\u001b[0;31m---------------------------------------------------------------------------\u001b[0m",
      "\u001b[0;31mTypeError\u001b[0m                                 Traceback (most recent call last)",
      "Cell \u001b[0;32mIn[6], line 1\u001b[0m\n\u001b[0;32m----> 1\u001b[0m \u001b[38;5;28mprint\u001b[39m(\u001b[38;5;124;43m\"\u001b[39;49m\u001b[38;5;124;43mBenim adım \u001b[39;49m\u001b[38;5;132;43;01m%s\u001b[39;49;00m\u001b[38;5;124;43m, soyadım \u001b[39;49m\u001b[38;5;132;43;01m%s\u001b[39;49;00m\u001b[38;5;124;43m\"\u001b[39;49m\u001b[43m \u001b[49m\u001b[38;5;241;43m%\u001b[39;49m\u001b[38;5;124;43m\"\u001b[39;49m\u001b[38;5;124;43mistihza\u001b[39;49m\u001b[38;5;124;43m\"\u001b[39;49m)\n",
      "\u001b[0;31mTypeError\u001b[0m: not enough arguments for format string"
     ]
    }
   ],
   "source": [
    "print(\"Benim adım %s, soyadım %s\" %\"istihza\")\n"
   ]
  },
  {
   "cell_type": "markdown",
   "id": "0ea79818-2a7b-498b-a249-707744184311",
   "metadata": {},
   "source": [
    "Gördüğünüz gibi bu kodlar hata verdi. Çünkü karakter dizisi içindeki iki adet %s ifadesine karşılık, karakter dizisinin dışında tek bir değer var (“istihza”). Halbuki bizim şöyle bir kod yazmamız gerekiyordu:"
   ]
  },
  {
   "cell_type": "code",
   "execution_count": 7,
   "id": "41e09327-1d0a-4827-bda8-76568d049c86",
   "metadata": {},
   "outputs": [
    {
     "name": "stdout",
     "output_type": "stream",
     "text": [
      "istihza adlı kişinin mekanı www.istihza.com adresidir.\n"
     ]
    }
   ],
   "source": [
    "isim = \"istihza\"\n",
    "print(\"%s adlı kişinin mekanı www.%s.com adresidir.\" %(isim, isim))"
   ]
  },
  {
   "cell_type": "markdown",
   "id": "819717f3-50c4-4d8d-a695-a56e8b4d6110",
   "metadata": {},
   "source": [
    "Bu defa herhangi bir hata mesajı almadık. Çünkü bu kodlarda, olması gerektiği gibi, karakter dizisi içindeki iki adet %s ifadesine karşılık, dışarıda da iki adet değer var.\n",
    "\n",
    "Eğer karakter dizisi içinde tek bir %s ifadesi varsa, karakter dizisi dışında buna karşılık gelen değeri gösterirken, bu değeri parantez içine almamıza gerek yok. Ama eğer karakter dizisi içinde birden fazla %s işareti varsa, bunlara karşılık gelen değerleri parantez içinde gösteriyoruz. Mesela yukarıdaki parola örneğinde, karakter dizisinin içinde tek bir %s ifadesi var. Dolayısıyla karakter dizisi dışında bu ifadeye karşılık gelen parola değişkenini parantez içine almıyoruz. Ama “Python” ve “Django” örneğinde karakter dizisi içinde iki adet %s ifadesi yer aldığı için, karakter dizisi dışında bu ifadelere karşılık gelen “Python” ve “Django” kelimelerini parantez içinde gösteriyoruz.\n",
    "\n",
    "Bütün bu anlattıklarımızı sindirebilmek için dilerseniz bir örnek verelim:\n",
    "\n"
   ]
  },
  {
   "cell_type": "code",
   "execution_count": 8,
   "id": "6a2285bc-ba49-4b63-a21b-290c85d248ba",
   "metadata": {},
   "outputs": [
    {
     "name": "stdout",
     "output_type": "stream",
     "text": [
      "1. karakter: 'i'\n",
      "2. karakter: 's'\n",
      "3. karakter: 't'\n",
      "4. karakter: 'i'\n",
      "5. karakter: 'h'\n",
      "6. karakter: 'z'\n",
      "7. karakter: 'a'\n"
     ]
    }
   ],
   "source": [
    "kardiz = \"istihza\"\n",
    "\n",
    "for sıra, karakter in enumerate(kardiz, 1):\n",
    "    print(\"%s. karakter: '%s'\" %(sıra, karakter))"
   ]
  },
  {
   "cell_type": "markdown",
   "id": "7973fbd7-7033-4e86-9a18-8b0f63e4ef71",
   "metadata": {},
   "source": [
    "Gördüğünüz gibi, “istihza” adlı karakter dizisi içindeki her bir harfin sırasını ve harfin kendisini uygun bir düzen içinde ekrana yazdırdık. Karakter sırasının ve karakterin kendisinin cümle içinde geleceği yerleri %s işaretleri ile gösteriyoruz. Python da her bir değeri, ilgili konumlara tek tek yerleştiriyor.\n",
    "\n",
    "Hatırlarsanız önceki derslerimizde basit bir hesap makinesi örneği vermiştik. İşte şimdi öğrendiklerimizi o programa uygularsak karakter dizisi biçimlendiricileri üzerine epey pratik yapmış oluruz:"
   ]
  },
  {
   "cell_type": "code",
   "execution_count": null,
   "id": "9d6cf4f5-e750-4a76-be81-47ee01735170",
   "metadata": {},
   "outputs": [],
   "source": [
    "giriş = \"\"\"\n",
    "    (1) topla\n",
    "    (2) çıkar\n",
    "    (3) çarp\n",
    "    (4) böl\n",
    "    (5) karesini hesapla\n",
    "    (6) karekök hesapla\n",
    "    \"\"\"\n",
    "print(giriş)\n",
    "a = 1\n",
    "\n",
    "while a == 1:\n",
    "    soru = input(\"Yapmak istediginiz islemin numarasini girin cikmak icin q: \")\n",
    "    if soru == \"q\":\n",
    "        print(\"cikiliyor\")\n",
    "        a = 0\n",
    "    \n",
    "    elif soru == \"1\":\n",
    "        sayı1 = int(input(\"Toplama işlemi için ilk sayıyı girin: \"))\n",
    "        sayı2 = int(input(\"Toplama işlemi için ikinci sayıyı girin: \"))\n",
    "\n",
    "        #İlk %s'ye karşılık gelen değer   : sayı1\n",
    "        #İkinci %s'ye karşılık gelen değer: sayı2\n",
    "        #Üçüncü %s'ye karşılık gelen değer: sayı1 + sayı2\n",
    "        print(\"%s + %s = %s\" %(sayı1, sayı2, sayı1 + sayı2))\n",
    "\n",
    "    elif soru == \"2\":\n",
    "        sayı3 = int(input(\"Çıkarma işlemi için ilk sayıyı girin: \"))\n",
    "        sayı4 = int(input(\"Çıkarma işlemi için ikinci sayıyı girin: \"))\n",
    "        print(\"%s - %s = %s\" %(sayı3, sayı4, sayı3 - sayı4))\n",
    "\n",
    "    elif soru == \"3\":\n",
    "        sayı5 = int(input(\"Çarpma işlemi için ilk sayıyı girin: \"))\n",
    "        sayı6 = int(input(\"Çarpma işlemi için ikinci sayıyı girin: \"))\n",
    "        print(\"%s x %s = %s\" %(sayı5, sayı6, sayı5 * sayı6))\n",
    "\n",
    "    elif soru == \"4\":\n",
    "        sayı7 = int(input(\"Bölme işlemi için ilk sayıyı girin: \"))\n",
    "        sayı8 = int(input(\"Bölme işlemi için ikinci sayıyı girin: \"))\n",
    "        print(\"%s / %s = %s\" %(sayı7, sayı8, sayı7 / sayı8))\n",
    "\n",
    "    elif soru == \"5\":\n",
    "        sayı9 = int(input(\"Karesini hesaplamak istediğiniz sayıyı girin: \"))\n",
    "\n",
    "        #İlk %s'ye karşılık gelen değer   : sayı9\n",
    "        #İkinci %s'ye karşılık gelen değer: sayı9 ** 2\n",
    "        print(\"%s sayısının karesi = %s\" %(sayı9, sayı9 ** 2))\n",
    "\n",
    "    elif soru == \"6\":\n",
    "        sayı10 = int(input(\"Karekökünü hesaplamak istediğiniz sayıyı girin: \"))\n",
    "        print(\"%s sayısının karekökü = %s\" %(sayı10, sayı10 ** 0.5))\n",
    "\n",
    "    else:\n",
    "        print(\"Yanlış giriş.\")\n",
    "        print(\"Aşağıdaki seçeneklerden birini giriniz:\", giriş)"
   ]
  },
  {
   "cell_type": "markdown",
   "id": "3693b2fd-d693-44c1-8d7f-4a8a38e9343b",
   "metadata": {},
   "source": [
    "Bu arada, gördüğünüz gibi, Python’da biçim düzenleyici olarak kullanılan simge aynı zamanda ‘yüzde’ (%) anlamına da geliyor. O halde size şöyle bir soru sorayım: Acaba 0’dan 100’e kadar olan sayıların başına birer yüzde işareti koyarak bu sayıları nasıl gösterirsiniz? %0, %1, %10, %15 gibi… Önce şöyle bir şey deneyelim:"
   ]
  },
  {
   "cell_type": "code",
   "execution_count": 9,
   "id": "e0427c7c-285c-466b-b7bc-472a115f53e4",
   "metadata": {},
   "outputs": [
    {
     "name": "stdout",
     "output_type": "stream",
     "text": [
      "0\n",
      "1\n",
      "2\n",
      "3\n",
      "4\n",
      "5\n",
      "6\n",
      "7\n",
      "8\n",
      "9\n",
      "10\n",
      "11\n",
      "12\n",
      "13\n",
      "14\n",
      "15\n",
      "16\n",
      "17\n",
      "18\n",
      "19\n",
      "20\n",
      "21\n",
      "22\n",
      "23\n",
      "24\n",
      "25\n",
      "26\n",
      "27\n",
      "28\n",
      "29\n",
      "30\n",
      "31\n",
      "32\n",
      "33\n",
      "34\n",
      "35\n",
      "36\n",
      "37\n",
      "38\n",
      "39\n",
      "40\n",
      "41\n",
      "42\n",
      "43\n",
      "44\n",
      "45\n",
      "46\n",
      "47\n",
      "48\n",
      "49\n",
      "50\n",
      "51\n",
      "52\n",
      "53\n",
      "54\n",
      "55\n",
      "56\n",
      "57\n",
      "58\n",
      "59\n",
      "60\n",
      "61\n",
      "62\n",
      "63\n",
      "64\n",
      "65\n",
      "66\n",
      "67\n",
      "68\n",
      "69\n",
      "70\n",
      "71\n",
      "72\n",
      "73\n",
      "74\n",
      "75\n",
      "76\n",
      "77\n",
      "78\n",
      "79\n",
      "80\n",
      "81\n",
      "82\n",
      "83\n",
      "84\n",
      "85\n",
      "86\n",
      "87\n",
      "88\n",
      "89\n",
      "90\n",
      "91\n",
      "92\n",
      "93\n",
      "94\n",
      "95\n",
      "96\n",
      "97\n",
      "98\n",
      "99\n"
     ]
    }
   ],
   "source": [
    "for i in range(100):\n",
    "    print(\"%s\" %i)\n"
   ]
  },
  {
   "cell_type": "markdown",
   "id": "1e1df0a4-2deb-4e00-8b86-ccbaccc633d5",
   "metadata": {},
   "source": [
    "Bu kodlar tabii ki sadece 0’dan 100’e kadar olan sayıları ekrana dökmekle yetinecektir. Sayıların başında % işaretini göremeyeceğiz.\n",
    "\n",
    "Bir de şöyle bir şey deneyelim:"
   ]
  },
  {
   "cell_type": "code",
   "execution_count": 10,
   "id": "8d4bb304-4ac0-439d-9fed-e6cb9bde63bf",
   "metadata": {},
   "outputs": [
    {
     "ename": "TypeError",
     "evalue": "not all arguments converted during string formatting",
     "output_type": "error",
     "traceback": [
      "\u001b[0;31m---------------------------------------------------------------------------\u001b[0m",
      "\u001b[0;31mTypeError\u001b[0m                                 Traceback (most recent call last)",
      "Cell \u001b[0;32mIn[10], line 2\u001b[0m\n\u001b[1;32m      1\u001b[0m \u001b[38;5;28;01mfor\u001b[39;00m i \u001b[38;5;129;01min\u001b[39;00m \u001b[38;5;28mrange\u001b[39m(\u001b[38;5;241m100\u001b[39m):\n\u001b[0;32m----> 2\u001b[0m     \u001b[38;5;28mprint\u001b[39m(\u001b[38;5;124;43m\"\u001b[39;49m\u001b[38;5;132;43;01m%%\u001b[39;49;00m\u001b[38;5;124;43ms\u001b[39;49m\u001b[38;5;124;43m\"\u001b[39;49m\u001b[43m \u001b[49m\u001b[38;5;241;43m%\u001b[39;49m\u001b[43mi\u001b[49m)\n",
      "\u001b[0;31mTypeError\u001b[0m: not all arguments converted during string formatting"
     ]
    }
   ],
   "source": [
    "for i in range(100):\n",
    "    print(\"%%s\" %i)"
   ]
  },
  {
   "cell_type": "markdown",
   "id": "2b1fc442-d3fb-4072-9300-29ac7967a4bb",
   "metadata": {},
   "source": [
    "Bu defa da hata mesajı aldık. Halbuki doğru cevap şu olmalıydı:\n",
    "\n"
   ]
  },
  {
   "cell_type": "code",
   "execution_count": 12,
   "id": "ee9e199a-1474-4ec9-81e8-58e406830850",
   "metadata": {},
   "outputs": [
    {
     "name": "stdout",
     "output_type": "stream",
     "text": [
      "%0\n",
      "%1\n",
      "%2\n",
      "%3\n",
      "%4\n",
      "%5\n",
      "%6\n",
      "%7\n",
      "%8\n",
      "%9\n",
      "%10\n",
      "%11\n",
      "%12\n",
      "%13\n",
      "%14\n",
      "%15\n",
      "%16\n",
      "%17\n",
      "%18\n",
      "%19\n",
      "%20\n",
      "%21\n",
      "%22\n",
      "%23\n",
      "%24\n",
      "%25\n",
      "%26\n",
      "%27\n",
      "%28\n",
      "%29\n",
      "%30\n",
      "%31\n",
      "%32\n",
      "%33\n",
      "%34\n",
      "%35\n",
      "%36\n",
      "%37\n",
      "%38\n",
      "%39\n",
      "%40\n",
      "%41\n",
      "%42\n",
      "%43\n",
      "%44\n",
      "%45\n",
      "%46\n",
      "%47\n",
      "%48\n",
      "%49\n",
      "%50\n",
      "%51\n",
      "%52\n",
      "%53\n",
      "%54\n",
      "%55\n",
      "%56\n",
      "%57\n",
      "%58\n",
      "%59\n",
      "%60\n",
      "%61\n",
      "%62\n",
      "%63\n",
      "%64\n",
      "%65\n",
      "%66\n",
      "%67\n",
      "%68\n",
      "%69\n",
      "%70\n",
      "%71\n",
      "%72\n",
      "%73\n",
      "%74\n",
      "%75\n",
      "%76\n",
      "%77\n",
      "%78\n",
      "%79\n",
      "%80\n",
      "%81\n",
      "%82\n",
      "%83\n",
      "%84\n",
      "%85\n",
      "%86\n",
      "%87\n",
      "%88\n",
      "%89\n",
      "%90\n",
      "%91\n",
      "%92\n",
      "%93\n",
      "%94\n",
      "%95\n",
      "%96\n",
      "%97\n",
      "%98\n",
      "%99\n"
     ]
    }
   ],
   "source": [
    "for i in range(100):\n",
    "    print(\"%%%s\" %i)"
   ]
  },
  {
   "cell_type": "markdown",
   "id": "59d47217-aae6-4c70-837f-5e0704b2350d",
   "metadata": {},
   "source": [
    "Burada % işaretini arka arkaya iki kez kullanarak bir adet % işareti elde ettik. Daha sonra da normal bir şekilde %s biçimini kullandık. Yani üç adet ‘%’ işaretini yan yana getirmiş olduk.\n",
    "\n",
    "Bütün bu örneklerden sonra, karakter dizisi biçimlendiricilerinin işimizi ne kadar kolaylaştırdığını görmüş olmalısınız. İstediğimiz etkiyi elde etmek için karakter dizisi biçimlendiricilerini kullanmak, karakter dizilerini birleştirme işlemlerinden yararlanmaya göre çok daha esnek bir yöntemdir. Hatta bazı durumlarda karakter dizisi biçimlendiricilerini kullanmak makul tek yöntemdir.\n",
    "\n",
    "Yukarıda verdiğimiz örnekler, %s ile biçimlendirme konusunun en temel yönlerini gösteriyor. Ama aslında bu aracı kullanarak çok daha karmaşık biçimlendirme işlemleri de yapabiliriz.\n",
    "\n",
    "Yani yukarıdaki örneklerde %s yapısını en basit şekilde mesela şöyle kullandık:"
   ]
  },
  {
   "cell_type": "code",
   "execution_count": null,
   "id": "709cf4e3-8fb7-4190-bfa2-9ffb44ed2125",
   "metadata": {},
   "outputs": [],
   "source": [
    "print(\"Karakter dizilerinin toplam %s adet metodu vardır\" %len(dir(str)))"
   ]
  },
  {
   "cell_type": "markdown",
   "id": "3ab73b7d-df69-4f75-a6bf-c4949d8e0a7d",
   "metadata": {},
   "source": [
    "Ama eğer istersek bundan daha karmaşık biçimlendirme işlemleri de gerçekleştirebiliriz. Şu örneğe bakın:\n",
    "\n"
   ]
  },
  {
   "cell_type": "code",
   "execution_count": 13,
   "id": "7fd6aa92-5514-4879-99ec-6e8e69e3054d",
   "metadata": {},
   "outputs": [
    {
     "name": "stdout",
     "output_type": "stream",
     "text": [
      "        __add__\n",
      "      __class__\n",
      "   __contains__\n",
      "    __delattr__\n",
      "        __dir__\n",
      "        __doc__\n",
      "         __eq__\n",
      "     __format__\n",
      "         __ge__\n",
      "__getattribute__\n",
      "    __getitem__\n",
      " __getnewargs__\n",
      "         __gt__\n",
      "       __hash__\n",
      "       __init__\n",
      "__init_subclass__\n",
      "       __iter__\n",
      "         __le__\n",
      "        __len__\n",
      "         __lt__\n",
      "        __mod__\n",
      "        __mul__\n",
      "         __ne__\n",
      "        __new__\n",
      "     __reduce__\n",
      "  __reduce_ex__\n",
      "       __repr__\n",
      "       __rmod__\n",
      "       __rmul__\n",
      "    __setattr__\n",
      "     __sizeof__\n",
      "        __str__\n",
      "__subclasshook__\n",
      "     capitalize\n",
      "       casefold\n",
      "         center\n",
      "          count\n",
      "         encode\n",
      "       endswith\n",
      "     expandtabs\n",
      "           find\n",
      "         format\n",
      "     format_map\n",
      "          index\n",
      "        isalnum\n",
      "        isalpha\n",
      "        isascii\n",
      "      isdecimal\n",
      "        isdigit\n",
      "   isidentifier\n",
      "        islower\n",
      "      isnumeric\n",
      "    isprintable\n",
      "        isspace\n",
      "        istitle\n",
      "        isupper\n",
      "           join\n",
      "          ljust\n",
      "          lower\n",
      "         lstrip\n",
      "      maketrans\n",
      "      partition\n",
      "   removeprefix\n",
      "   removesuffix\n",
      "        replace\n",
      "          rfind\n",
      "         rindex\n",
      "          rjust\n",
      "     rpartition\n",
      "         rsplit\n",
      "         rstrip\n",
      "          split\n",
      "     splitlines\n",
      "     startswith\n",
      "          strip\n",
      "       swapcase\n",
      "          title\n",
      "      translate\n",
      "          upper\n",
      "          zfill\n"
     ]
    }
   ],
   "source": [
    "for i in dir(str):\n",
    "    print(\"%15s\" %i)"
   ]
  },
  {
   "cell_type": "markdown",
   "id": "bc0d6ac6-40e7-481a-9a80-93ae34c26c89",
   "metadata": {},
   "source": [
    "Gördüğünüz gibi % ile s işaretleri arasına bir sayı yerleştirdik. Bu sayı, biçimlendirilecek karakter dizisinin toplam kaç karakterlik yer kaplayacağını gösteriyor. Durumu daha net görebilmeniz için şöyle bir örnek verelim:"
   ]
  },
  {
   "cell_type": "code",
   "execution_count": 15,
   "id": "c93dff08-770a-4c2c-99a4-106d57c09ef9",
   "metadata": {},
   "outputs": [
    {
     "name": "stdout",
     "output_type": "stream",
     "text": [
      "|        istihza|\n"
     ]
    }
   ],
   "source": [
    "print(\"|%15s|\" %\"istihza\")"
   ]
  },
  {
   "cell_type": "markdown",
   "id": "8cfc9d85-d605-4e38-9970-a152a1f74868",
   "metadata": {},
   "source": [
    "Karakter dizisinin başına ve sonuna eklediğimiz ‘|’ işaretleri sayesinde karakter dizisinin nasıl ve ne şekilde hizalandığını daha belirgin bir şekilde görebiliyoruz. Aslında yukarıdaki örneğin yaptığı iş size hiç yabancı değil. Aynı etkiyi, karakter dizisi metotlarından rjust() ile de yapabileceğimizi biliyorsunuz:\n",
    "\n"
   ]
  },
  {
   "cell_type": "code",
   "execution_count": 16,
   "id": "64debbdd-93e8-431e-9a46-fe31d90ea7e4",
   "metadata": {},
   "outputs": [
    {
     "name": "stdout",
     "output_type": "stream",
     "text": [
      "        istihza\n"
     ]
    }
   ],
   "source": [
    "print(\"istihza\".rjust(15))"
   ]
  },
  {
   "cell_type": "markdown",
   "id": "fa50ec2c-e56e-4509-a5c7-e372f58fcf23",
   "metadata": {},
   "source": [
    "Aynen yukarıdaki çıktıyı rjust() metodunu kullanarak elde etmek için ise şöyle bir şey yazabilirsiniz:"
   ]
  },
  {
   "cell_type": "code",
   "execution_count": 17,
   "id": "851cd22e-d791-402b-926e-b77951272b37",
   "metadata": {},
   "outputs": [
    {
     "name": "stdout",
     "output_type": "stream",
     "text": [
      "|        istihza|\n"
     ]
    }
   ],
   "source": [
    "print(\"|%s|\" %\"istihza\".rjust(15))\n"
   ]
  },
  {
   "cell_type": "markdown",
   "id": "9d79f1df-5f6d-4d94-9eb3-30bc269fe393",
   "metadata": {},
   "source": [
    "\n",
    "Yukarıdaki örnekte “istihza” karakter dizisini sağa doğru yasladık. Sola yaslamak için ise negatif sayılardan yararlanabilirsiniz:\n",
    "\n"
   ]
  },
  {
   "cell_type": "code",
   "execution_count": 18,
   "id": "4e70460a-fa46-441a-a0dd-99a6de4f680e",
   "metadata": {},
   "outputs": [
    {
     "name": "stdout",
     "output_type": "stream",
     "text": [
      "|istihza        |\n"
     ]
    }
   ],
   "source": [
    "print(\"|%-15s|\" %\"istihza\")"
   ]
  },
  {
   "cell_type": "markdown",
   "id": "7257fb52-1b3c-4625-8822-4cee587a1961",
   "metadata": {},
   "source": [
    "Tıpkı biraz önce verdiğimiz örnekteki gibi, aynı etkiyi ljust() metoduyla da elde edebilirsiniz:"
   ]
  },
  {
   "cell_type": "code",
   "execution_count": 19,
   "id": "a60e610c-0918-4894-b064-c694d498e579",
   "metadata": {},
   "outputs": [
    {
     "name": "stdout",
     "output_type": "stream",
     "text": [
      "|istihza        |\n"
     ]
    }
   ],
   "source": [
    "print(\"|%s|\" %\"istihza\".ljust(15))\n"
   ]
  },
  {
   "cell_type": "markdown",
   "id": "e23cd046-b453-40e3-8879-e2baaef2c936",
   "metadata": {},
   "source": [
    "Gördüğünüz gibi, %s yapısını farklı şekillerde kullanarak epey karmaşık çıktılar elde edebiliyoruz. Ama aslında karakter dizisi biçimlendiricilerini kullanarak yapabileceklerimiz bunlarla da sınırlı değildir. Mesela size şöyle bir soru sorduğumu düşünün: Acaba aşağıdaki içeriğe sahip bir HTML şablonunu nasıl elde edebiliriz?"
   ]
  },
  {
   "cell_type": "raw",
   "id": "012cfc2c-9c43-46aa-8c9c-f595b4b8fd1d",
   "metadata": {},
   "source": [
    "<html>\n",
    "    <head>\n",
    "        <title> {{ sayfa başlığı }} </title>\n",
    "    </head>\n",
    "\n",
    "    <body>\n",
    "        <h1> {{ birinci seviye başlık }} </h1>\n",
    "        <p>Web sitemize hoşgeldiniz! Konumuz: {{ konu }}</p>\n",
    "    </body>\n",
    "</html>"
   ]
  },
  {
   "cell_type": "markdown",
   "id": "b6ba5ff9-1514-4315-9cb8-44813c0981ee",
   "metadata": {},
   "source": [
    "Burada bütün değişkenler tek bir değere sahip olacak. Örneğin değişkenimiz Python Programlama Dili ise yukarıdaki şablon şöyle bir HTML sayfası üretecek:\n",
    "\n"
   ]
  },
  {
   "cell_type": "raw",
   "id": "334662c9-de6c-43f0-89ac-ba5b61ebbe22",
   "metadata": {},
   "source": [
    "<html>\n",
    "    <head>\n",
    "        <title> Python Programlama Dili </title>\n",
    "    </head>\n",
    "\n",
    "    <body>\n",
    "        <h1> Python Programlama Dili </h1>\n",
    "        <p>Web sitemize hoşgeldiniz! Konumuz: Python Programlama Dili</p>\n",
    "    </body>\n",
    "</html>"
   ]
  },
  {
   "cell_type": "markdown",
   "id": "7830bd66-14b8-4d60-be37-c81f029f98f9",
   "metadata": {},
   "source": [
    "Aklınıza ilk olarak şöyle bir çözüm gelmiş olabilir:\n",
    "\n"
   ]
  },
  {
   "cell_type": "raw",
   "id": "c87f3ba6-10ca-4a3d-b410-28e4d5bf1b3f",
   "metadata": {},
   "source": [
    "sayfa = \"\"\"\n",
    "<html>\n",
    "    <head>\n",
    "        <title> %s </title>\n",
    "    </head>\n",
    "\n",
    "    <body>\n",
    "        <h1> %s </h1>\n",
    "        <p>Web sitemize hoşgeldiniz! Konumuz: %s</p>\n",
    "    </body>\n",
    "</html>\n",
    "\"\"\"\n",
    "\n",
    "print(sayfa % (\"Python Programlama Dili\",\n",
    "               \"Python Programlama Dili\",\n",
    "               \"Python Programlama Dili\"))"
   ]
  },
  {
   "cell_type": "markdown",
   "id": "7fb29775-bb75-4dca-9d45-7ef7c72091db",
   "metadata": {},
   "source": [
    "\n",
    "Bu gayet makul ve doğru bir çözümdür. Ancak gördüğünüz gibi yukarıdaki kodlarda bizi rahatsız eden bir nokta var. Bu kodlarda aynı karakter dizisini (“Python Programlama Dili”) üç kez tekrar ediyoruz. En baştan beri söylediğimiz gibi, kod yazarken tekrarlardan olabildiğince kaçınmaya çalışmamız programımızın performansını artıracaktır. Burada da tekrardan kaçınmak amacıyla şöyle bir kod yazmayı tercih edebiliriz. Dikkatlice inceleyin:"
   ]
  },
  {
   "cell_type": "raw",
   "id": "25b4e354-7a10-4fe8-97d6-83ce3f04b3ac",
   "metadata": {},
   "source": [
    "sayfa = \"\"\"\n",
    "<html>\n",
    "    <head>\n",
    "        <title> %(dil)s </title>\n",
    "    </head>\n",
    "\n",
    "    <body>\n",
    "        <h1> %(dil)s </h1>\n",
    "        <p>Web sitemize hoşgeldiniz! Konumuz: %(dil)s</p>\n",
    "    </body>\n",
    "</html>\n",
    "\"\"\"\n",
    "\n",
    "print(sayfa % {\"dil\": \"Python Programlama Dili\"})"
   ]
  },
  {
   "cell_type": "markdown",
   "id": "59ea6c9e-910a-4ee6-b316-8eac6bac7cbf",
   "metadata": {},
   "source": [
    "Gördüğünüz gibi, yukarıdaki kodlar bizi aynı karakter dizisini tekrar tekrar yazma zahmetinden kurtardı. Peki ama nasıl? Gelin isterseniz bu yapıyı daha iyi anlayabilmek için daha basit bir örnek verelim:\n",
    "\n"
   ]
  },
  {
   "cell_type": "code",
   "execution_count": null,
   "id": "dbd0a3f8-ab22-4b5a-940f-6821dd859043",
   "metadata": {},
   "outputs": [],
   "source": [
    "print(\"depoda %(miktar)s kilo %(ürün)s kaldı\" %{\"miktar\": 25,\n",
    "                                                \"ürün\": \"elma\"})"
   ]
  },
  {
   "cell_type": "markdown",
   "id": "17c37aa7-f162-4ff3-b1a9-f6d35d7de7f4",
   "metadata": {},
   "source": [
    "Burada şöyle bir yapıyla karşı karşıyayız:"
   ]
  },
  {
   "cell_type": "raw",
   "id": "d7d38ecb-0493-4738-8532-f865aa942d35",
   "metadata": {},
   "source": [
    "\"%(değişken_adı)s\" % {\"değişken_adı\": \"değişken_değeri\"}"
   ]
  },
  {
   "cell_type": "markdown",
   "id": "8e600ce7-be77-4bd3-85db-59a76f009b27",
   "metadata": {},
   "source": [
    "{“değişken_adı”: “değişken_değeri”} yapısıyla önceki derslerimizde karşılaşmıştınız. Dolayısıyla bu yapının temel olarak ne işe yaradığını biliyorsunuz. Hatta bu yapının adının ‘sözlük’ olduğunu da öğrenmiştiniz. İşte burada, sözlük adlı veri tipinden yararlanarak değişken adları ile değişken değerlerini eşleştirdik. Böylece aynı şeyleri tekrar tekrar yazmamıza gerek kalmadı. Ayrıca yukarıdaki örnekte değerleri sırasına göre değil, ismine göre çağırdığımız için, karakter dizisi içindeki değerlerin sırasını takip etme zahmetinden de kurtulmuş olduk.\n",
    "\n",
    "Böylece % yapısının tüm temel ayrıntılarını öğrenmiş olduk. Artık % işaretinin başka yönlerini incelemeye başlayabiliriz."
   ]
  },
  {
   "cell_type": "markdown",
   "id": "e61a9fbc-be67-43b4-b077-d721bd5c82b9",
   "metadata": {},
   "source": [
    "++++++++Biçimlendirme Karakterleri\n",
    "\n",
    "\n",
    "Biraz önce, Python’da eski usul karakter dizisi biçimlendirme yöntemi olan % işareti üzerine en temel bilgileri edindik. Buraya kadar öğrendiklerimiz, yazdığımız programlarda genellikle yolumuzu yordamımızı bulmamıza yetecektir. Ama isterseniz şimdi karakter dizisi biçimlendirme konusunu biraz daha derinlemesine ele alalım. Mesela Python’daki biçimlendirme karakterlerinin neler olduğunu inceleyelim."
   ]
  },
  {
   "cell_type": "markdown",
   "id": "f53a08b5-93c9-4aa5-bb53-6fe5d43b5f0d",
   "metadata": {},
   "source": [
    "++++++++++++++++++s\n",
    "\n",
    "\n",
    "Önceki örneklerden de gördüğünüz gibi, Python’da biçim düzenleme işlemleri için %s adlı bir yapıdan faydalanıyoruz. Bu yapıyı şöyle bir masaya yatırdığımızda aslında bu yapının iki parçadan oluştuğunu görebiliriz. Bu parçalar % ve s karakterleridir. Burada gördüğümüz parçalardan % sabit, s ise değişkendir. Yani % sabit değerini bazı harflerle birlikte kullanarak, farklı karakter dizisi biçimlendirme işlemleri gerçekleştirebiliriz.\n",
    "\n",
    "Biz önceki sayfalarda verdiğimiz örneklerde bu simgeyi s harfiyle birlikte kullandık. Örneğin:"
   ]
  },
  {
   "cell_type": "code",
   "execution_count": 20,
   "id": "38828ba8-0b52-4931-974f-e686de6616b1",
   "metadata": {},
   "outputs": [
    {
     "name": "stdout",
     "output_type": "stream",
     "text": [
      "Benim adım istihza\n"
     ]
    }
   ],
   "source": [
    "print(\"Benim adım %s\" %\"istihza\")"
   ]
  },
  {
   "cell_type": "markdown",
   "id": "d276adf0-a543-4cb7-967c-8c2673621a5c",
   "metadata": {},
   "source": [
    "Bu kodlardaki s karakteri İngilizce string, yani ‘karakter dizisi’ ifadesinin kısaltmasıdır. Esasında en yaygın çift de budur. Yani etraftaki Python programlarında yaygın olarak %s yapısını görürüz. Ancak Python’da % biçim düzenleyicisiyle birlikte kullanılabilecek tek karakter s değildir. Daha önce de dediğimiz gibi, s karakteri string, yani ‘karakter dizisi’ ifadesinin kısaltmasıdır. Yani aslında %s yapısı Python’da özel olarak karakter dizilerini temsil eder.\n",
    "\n",
    "Peki bu ne demek oluyor?\n",
    "\n",
    "Bir karakter dizisi içinde %s yapısını kullandığımızda, dışarıda buna karşılık gelen değerin de bir karakter dizisi veya karakter dizisine çevrilebilecek bir değer olması gerekir. Python’da her şey bir karakter dizisi olarak temsil edilebilir. Dolayısıyla bütün işlemlerinizde % işaretini s karakteri ile birlikte kullanabilirsiniz. Ama bazı özel durumlarda % işaretini s dışında başka harflerle birlikte kullanmanız da gerekebilir.\n",
    "\n",
    "Biz % yapısı ile ilgili verdiğimiz ilk örneklerde bu yapının s karakteri ile birlikte kullanılışını gösteren pek çok örnek verdiğimiz için % ile s birlikteliği üzerinde daha fazla durmayacağız. Bunun yerine, % ile birlikte kullanılan öteki karakterleri inceleyeceğiz. O halde yola koyulalım.\n",
    "\n"
   ]
  },
  {
   "cell_type": "markdown",
   "id": "fb3ec65c-a962-490f-9b6e-d7fe7cf9cace",
   "metadata": {},
   "source": [
    "+++++++++++++++d\n",
    "\n",
    "\n",
    "Bir önceki başlıkta gördüğümüz s harfi nasıl karakter dizilerini temsil ediyorsa, d harfi de sayıları temsil eder. İsterseniz küçük bir örnekle açıklamaya çalışalım durumu:"
   ]
  },
  {
   "cell_type": "code",
   "execution_count": 21,
   "id": "16e7399f-3a45-487a-97e3-ddf9318b869f",
   "metadata": {},
   "outputs": [
    {
     "name": "stdout",
     "output_type": "stream",
     "text": [
      "Şubat ayı bu yıl 28 gün çekiyor\n"
     ]
    }
   ],
   "source": [
    "print(\"Şubat ayı bu yıl %d gün çekiyor\" %28)"
   ]
  },
  {
   "cell_type": "markdown",
   "id": "41b8d9f4-e331-46a7-96eb-8c9ad8ddb25a",
   "metadata": {},
   "source": [
    "Gördüğünüz gibi, % işaretiyle birlikte bu defa s yerine d harfini kullandık. Buna uygun olarak da dış tarafta 28 sayısını kullandık. Peki yukarıdaki ifadeyi şöyle de yazamaz mıydık?"
   ]
  },
  {
   "cell_type": "code",
   "execution_count": 22,
   "id": "b912a072-b7ec-40fc-a572-bd7e8772402e",
   "metadata": {},
   "outputs": [
    {
     "name": "stdout",
     "output_type": "stream",
     "text": [
      "Şubat ayı bu yıl 28 gün çekiyor\n"
     ]
    }
   ],
   "source": [
    "print(\"Şubat ayı bu yıl %s gün çekiyor\" %28)"
   ]
  },
  {
   "cell_type": "markdown",
   "id": "6b623911-995b-4c65-a443-642fb870ee9a",
   "metadata": {},
   "source": [
    "Elbette yazabilirdik. Bu kod da bize doğru çıktı verecektir. Çünkü daha önce de dediğimiz gibi, s harfi karakter dizilerini ve karakter dizisine çevrilebilen değerleri temsil eder. Python’da sayılar karakter dizisine çevrilebildiği için %s gibi bir yapıyı hata almadan kullanabiliyoruz. Ama mesela şöyle bir şey yazamayız:"
   ]
  },
  {
   "cell_type": "code",
   "execution_count": 23,
   "id": "eb808b40-4d51-4df6-8566-6852bd6d5b62",
   "metadata": {},
   "outputs": [
    {
     "ename": "TypeError",
     "evalue": "%d format: a real number is required, not str",
     "output_type": "error",
     "traceback": [
      "\u001b[0;31m---------------------------------------------------------------------------\u001b[0m",
      "\u001b[0;31mTypeError\u001b[0m                                 Traceback (most recent call last)",
      "Cell \u001b[0;32mIn[23], line 1\u001b[0m\n\u001b[0;32m----> 1\u001b[0m \u001b[38;5;28mprint\u001b[39m(\u001b[38;5;124;43m\"\u001b[39;49m\u001b[38;5;124;43mŞubat ayı bu yıl \u001b[39;49m\u001b[38;5;132;43;01m%d\u001b[39;49;00m\u001b[38;5;124;43m gün çekiyor\u001b[39;49m\u001b[38;5;124;43m\"\u001b[39;49m\u001b[43m \u001b[49m\u001b[38;5;241;43m%\u001b[39;49m\u001b[38;5;124;43m\"\u001b[39;49m\u001b[38;5;124;43myirmi sekiz\u001b[39;49m\u001b[38;5;124;43m\"\u001b[39;49m)\n",
      "\u001b[0;31mTypeError\u001b[0m: %d format: a real number is required, not str"
     ]
    }
   ],
   "source": [
    "print(\"Şubat ayı bu yıl %d gün çekiyor\" %\"yirmi sekiz\")\n"
   ]
  },
  {
   "cell_type": "markdown",
   "id": "3a8ae7c9-2249-4167-a718-1eabd5300033",
   "metadata": {},
   "source": [
    "Gördüğünüz gibi bu defa hata aldık. Çünkü d harfi yalnızca sayı değerleri temsil edebilir. Bu harfle birlikte karakter dizilerini kullanamayız.\n",
    "\n",
    "Doğrusunu söylemek gerekirse, d harfi aslında tam sayı (integer) değerleri temsil eder. Eğer bu harfin kullanıldığı bir karakter dizisinde değer olarak mesela bir kayan noktalı sayı (float) verirsek, bu değer tamsayıya çevrilecektir. Bunun ne demek olduğunu hemen bir örnekle görelim:\n",
    "\n"
   ]
  },
  {
   "cell_type": "code",
   "execution_count": 24,
   "id": "71868b33-61ba-40e9-8eb1-92601602d70a",
   "metadata": {},
   "outputs": [
    {
     "name": "stdout",
     "output_type": "stream",
     "text": [
      "13\n"
     ]
    }
   ],
   "source": [
    "print(\"%d\" %13.5)"
   ]
  },
  {
   "cell_type": "markdown",
   "id": "6ddeeeb3-ba9c-464d-a826-ff224c32d7bc",
   "metadata": {},
   "source": [
    "Gördüğünüz gibi, %d ifadesi, 13.5 sayısının ondalık kısmını çıktıda göstermiyor. Çünkü d harfi sadece tamsayıları temsil etme işlevi görüyor.\n",
    "\n",
    "Burada şöyle bir soru aklınıza gelmiş olabilir: ‘Acaba %d ifadesi ile hiç uğraşmasak, bunun yerine her yerde %s ifadesini kullansak olmaz mı?’.\n",
    "\n",
    "Çoğu zaman olur, ama mesela şöyle bir durum düşünün: Yazdığınız programda kullanıcıdan sadece tam sayı girmesini istiyor olabilirsiniz. Yani mesela kullanıcının ondalık sayı girmesi halinde, siz bu sayının sadece tam sayı kısmını almak istiyor olabilirsiniz. Örneğin kullanıcı 23.8 gibi bir sayı girmişse, siz bu sayıda ihtiyacınız olan 23 kısmını almak isteyebilirsiniz. İşte bu %d işaretinden yararlanarak, kullanıcının girdiği ondalık sayının sadece tam sayı kısmını çekebilirsiniz:"
   ]
  },
  {
   "cell_type": "code",
   "execution_count": 25,
   "id": "1c70c046-ed36-4bc9-85db-9800952d1551",
   "metadata": {},
   "outputs": [
    {
     "name": "stdin",
     "output_type": "stream",
     "text": [
      "sayı:  23\n"
     ]
    },
    {
     "name": "stdout",
     "output_type": "stream",
     "text": [
      "23\n"
     ]
    }
   ],
   "source": [
    "sayı = input(\"sayı: \")\n",
    "\n",
    "print(\"%d\" %float(sayı))"
   ]
  },
  {
   "cell_type": "markdown",
   "id": "9fcedadf-db87-412a-a59e-6825d324f8e5",
   "metadata": {},
   "source": [
    "Elbette Python’da bir ondalık sayının sadece taban kısmını almanın başka yöntemleri de vardır. Ama yukarıda verdiğimiz örnek bir ondalık sayının sadece tabanını almanın gayet basit ve etkili bir yoludur.\n",
    "\n",
    "%s yapısını anlatırken gösterdiğimiz ileri düzey biçimlendirme tekniklerini %d ile de kullanabilirsiniz. Örneğin:\n",
    "\n"
   ]
  },
  {
   "cell_type": "code",
   "execution_count": 26,
   "id": "c8bcc837-4a62-4fab-9dd1-a35334d6dfdf",
   "metadata": {},
   "outputs": [
    {
     "name": "stdout",
     "output_type": "stream",
     "text": [
      "|     23|\n"
     ]
    }
   ],
   "source": [
    "print(\"|%7d|\" %23)"
   ]
  },
  {
   "cell_type": "code",
   "execution_count": 27,
   "id": "88fc1a19-8888-4565-aaa3-9a502c623da8",
   "metadata": {},
   "outputs": [
    {
     "name": "stdout",
     "output_type": "stream",
     "text": [
      "|23     |\n"
     ]
    }
   ],
   "source": [
    "print(\"|%-7d|\" %23)"
   ]
  },
  {
   "cell_type": "markdown",
   "id": "f32f29df-b929-4271-b82a-2ed58d154248",
   "metadata": {},
   "source": [
    "veya:"
   ]
  },
  {
   "cell_type": "code",
   "execution_count": 28,
   "id": "f95057cb-5481-4e7e-b63d-04c79974f831",
   "metadata": {},
   "outputs": [
    {
     "name": "stdout",
     "output_type": "stream",
     "text": [
      "23\n"
     ]
    }
   ],
   "source": [
    "print(\"%(sayı)d\" % {\"sayı\": 23})"
   ]
  },
  {
   "cell_type": "markdown",
   "id": "4b8cee58-523c-4601-9bb3-4c458505f8ea",
   "metadata": {},
   "source": [
    "%s yapısına ek olarak, sayının kaplayacağı alandaki boşluklara birer 0 da yerleştirebilirsiniz:\n",
    "\n"
   ]
  },
  {
   "cell_type": "code",
   "execution_count": 29,
   "id": "8e407092-56ff-4264-8fa1-89951a66e189",
   "metadata": {},
   "outputs": [
    {
     "name": "stdout",
     "output_type": "stream",
     "text": [
      "00023\n"
     ]
    }
   ],
   "source": [
    "print(\"%05d\" %23)"
   ]
  },
  {
   "cell_type": "markdown",
   "id": "4475996c-ce2b-4c02-8180-57215f2003fb",
   "metadata": {},
   "source": [
    "…veya:"
   ]
  },
  {
   "cell_type": "code",
   "execution_count": 30,
   "id": "cac20172-7451-4e50-8730-af15c07ed77d",
   "metadata": {},
   "outputs": [
    {
     "name": "stdout",
     "output_type": "stream",
     "text": [
      "00023\n"
     ]
    }
   ],
   "source": [
    "print(\"%.5d\" %23)\n"
   ]
  },
  {
   "cell_type": "markdown",
   "id": "4c467d6d-367d-412f-84a9-526d3d96a91f",
   "metadata": {},
   "source": [
    "Hatta hem sayının kaplayacağı boşluk miktarını hem de bu boşlukların ne kadarının 0 ile doldurulacağını da belirleyebilirsiniz:\n",
    "\n"
   ]
  },
  {
   "cell_type": "code",
   "execution_count": 31,
   "id": "c629e506-f7f5-473c-98da-02513c674806",
   "metadata": {},
   "outputs": [
    {
     "name": "stdout",
     "output_type": "stream",
     "text": [
      "     00023\n"
     ]
    }
   ],
   "source": [
    "print(\"%10.5d\" %23)"
   ]
  },
  {
   "cell_type": "markdown",
   "id": "3d51deee-9154-4fb2-8c05-5e1a5329433c",
   "metadata": {},
   "source": [
    "Burada 23 sayısının toplam 10 boşlukluk bir yer kaplamasını ve bu 10 adet boşluğun 5 tanesinin içine 0 sayılarının ve 23 sayısının sığdırılmasını istedik.\n",
    "\n",
    "Bir de şuna bakalım:"
   ]
  },
  {
   "cell_type": "code",
   "execution_count": 32,
   "id": "a839cd61-c565-4fb6-8bad-fc0e38a2695c",
   "metadata": {},
   "outputs": [
    {
     "name": "stdout",
     "output_type": "stream",
     "text": [
      "0000000023\n"
     ]
    }
   ],
   "source": [
    "print(\"%010.d\" %23)"
   ]
  },
  {
   "cell_type": "markdown",
   "id": "e35398ce-2d22-44f5-b39b-af56427b5056",
   "metadata": {},
   "source": [
    "Burada ise 23 sayısının toplam 10 boşlukluk bir yer kaplamasını ve bu 10 adet boşluğa 23 sayısı yerleştirildikten sonra arta kalan kısmın 0 sayıları ile doldurulmasını istedik.\n",
    "\n",
    "Bu arada, son örnekte yaptığımız şeyi, daha önce öğrendiğimiz zfill() metoduyla da yapabileceğimizi biliyorsunuz:"
   ]
  },
  {
   "cell_type": "code",
   "execution_count": 33,
   "id": "439096d7-e8b3-492a-ad54-df761835d3f6",
   "metadata": {},
   "outputs": [
    {
     "data": {
      "text/plain": [
       "'0000000023'"
      ]
     },
     "execution_count": 33,
     "metadata": {},
     "output_type": "execute_result"
    }
   ],
   "source": [
    "\"23\".zfill(10)"
   ]
  },
  {
   "cell_type": "markdown",
   "id": "354f0b40-f3fb-474c-9faf-6faaf2baafd1",
   "metadata": {},
   "source": [
    "Yukarıdaki kullanımlar ilk bakışta gözünüze karışık görünmüş olabilir. Ama eğer yeterince pratik yaparsanız, aslında bu biçimlerin hiç de o kadar karmaşık olmadığını anlarsınız. İsterseniz bu biçimlerle neler yapabileceğimizi şöyle bir kısaca tarif edelim:\n",
    "\n",
    "d harfi, % işaretiyle birlikte kullanıldığında sayıları temsil eder. Bu iki karakterin en temel kullanımı şöyledir:\n",
    "\n"
   ]
  },
  {
   "cell_type": "code",
   "execution_count": 34,
   "id": "c25a533d-2de5-4b1a-93ce-0d347dd569d8",
   "metadata": {},
   "outputs": [
    {
     "data": {
      "text/plain": [
       "'10'"
      ]
     },
     "execution_count": 34,
     "metadata": {},
     "output_type": "execute_result"
    }
   ],
   "source": [
    "\"%d\" %10"
   ]
  },
  {
   "cell_type": "markdown",
   "id": "0f476354-4e28-4671-8c48-36ab43a88998",
   "metadata": {},
   "source": [
    "d harfi ile % işareti arasına bir pozitif veya negatif sayı getirerek, temsil edilecek sayının toplam kaç boşluktan oluşan bir alan içine yerleştirileceğini belirleyebiliyoruz:"
   ]
  },
  {
   "cell_type": "code",
   "execution_count": 36,
   "id": "4405bb98-4785-4e35-bed4-72826f614af6",
   "metadata": {},
   "outputs": [
    {
     "data": {
      "text/plain": [
       "'   10'"
      ]
     },
     "execution_count": 36,
     "metadata": {},
     "output_type": "execute_result"
    }
   ],
   "source": [
    "\"%5d\" %10"
   ]
  },
  {
   "cell_type": "markdown",
   "id": "372bf28c-ea57-4f15-94a8-80002865ceec",
   "metadata": {},
   "source": [
    "Burada 10 sayısını toplam 5 boşlukluk bir alan içine yerleştirdik. Gördüğünüz gibi, bir pozitif sayı kullandığımızda, sayımız kendisine ayrılan alan içinde sağa yaslanıyor. Eğer bu sayıyı sola yaslamak istersek negatif sayılardan yararlanabiliriz:\n",
    "\n"
   ]
  },
  {
   "cell_type": "code",
   "execution_count": 37,
   "id": "b41da7d0-f687-4b24-9438-965febbc5ad0",
   "metadata": {},
   "outputs": [
    {
     "data": {
      "text/plain": [
       "'10   '"
      ]
     },
     "execution_count": 37,
     "metadata": {},
     "output_type": "execute_result"
    }
   ],
   "source": [
    "\"%-5d\" %10"
   ]
  },
  {
   "cell_type": "markdown",
   "id": "fc137336-ce88-4c16-8e09-c8135a5d304f",
   "metadata": {},
   "source": [
    "Eğer sağa yasladığımız bir sayının sol tarafını sıfırla doldurmak istersek, hizalama miktarını belirtmek için kullandığımız sayının soluna bir sıfır ekleyebiliriz:\n",
    "\n"
   ]
  },
  {
   "cell_type": "code",
   "execution_count": 38,
   "id": "3a1fa6e4-d8ed-40ec-b4db-4f293b80fb4f",
   "metadata": {},
   "outputs": [
    {
     "data": {
      "text/plain": [
       "'00010'"
      ]
     },
     "execution_count": 38,
     "metadata": {},
     "output_type": "execute_result"
    }
   ],
   "source": [
    "\"%05d\" %10"
   ]
  },
  {
   "cell_type": "markdown",
   "id": "86d65962-8269-4683-8986-95a8f8f9125e",
   "metadata": {},
   "source": [
    "Aynı etkiyi şu şekilde de elde edebilirsiniz:"
   ]
  },
  {
   "cell_type": "code",
   "execution_count": 39,
   "id": "3f8d165f-c6fb-4b76-9906-03c4631eece6",
   "metadata": {},
   "outputs": [
    {
     "data": {
      "text/plain": [
       "'00010'"
      ]
     },
     "execution_count": 39,
     "metadata": {},
     "output_type": "execute_result"
    }
   ],
   "source": [
    "\"%.5d\" %10"
   ]
  },
  {
   "cell_type": "markdown",
   "id": "82754653-2677-4f86-843b-92428c1b701a",
   "metadata": {},
   "source": [
    "Eğer nokta işaretinden önce bir sayı belirtirseniz, karakter dizisi o belirttiğiniz sayı kadar sağa yaslanacaktır. Yani:"
   ]
  },
  {
   "cell_type": "code",
   "execution_count": 44,
   "id": "63e974ac-d1b4-4024-b133-5829c1553c7b",
   "metadata": {},
   "outputs": [
    {
     "data": {
      "text/plain": [
       "'     00010'"
      ]
     },
     "execution_count": 44,
     "metadata": {},
     "output_type": "execute_result"
    }
   ],
   "source": [
    "\"%10.5d\" %10"
   ]
  },
  {
   "cell_type": "markdown",
   "id": "54adc8c5-aee1-4fb3-888a-5a790ad38de7",
   "metadata": {},
   "source": [
    "… veya sola:"
   ]
  },
  {
   "cell_type": "code",
   "execution_count": 45,
   "id": "0e73738e-cd15-47a4-b160-7a094c707fba",
   "metadata": {},
   "outputs": [
    {
     "data": {
      "text/plain": [
       "'00010     '"
      ]
     },
     "execution_count": 45,
     "metadata": {},
     "output_type": "execute_result"
    }
   ],
   "source": [
    "\"%-10.5d\" %10"
   ]
  },
  {
   "cell_type": "markdown",
   "id": "75130ff2-cd8e-4f8b-a3fa-8876e0f0db01",
   "metadata": {},
   "source": [
    "Her iki şekilde de, karakter dizisini toplam 10 boşluktan oluşan bir alan içine yerleştirmiş olduk. Bu toplam alanın 5 boşlukluk kısmı sayının kendisi ve sayının soluna gelecek 0’lar arasında paylaştırıldı.\n",
    "\n",
    "Gördüğünüz gibi, biçimlendirme mantığının aslında o kadar da korkulacak bir yanı yok. Kendi kendinize yukarıdakilere benzer örnekler yaparak bu yapıyı daha iyi bir şekilde anlamaya çalışabilirsiniz."
   ]
  },
  {
   "cell_type": "markdown",
   "id": "dfc45bff-000b-4ed0-8165-91ea7294ba95",
   "metadata": {},
   "source": [
    "++++++++++++i\n",
    "\n",
    "\n",
    "Bu harf de integer, yani ‘tam sayı’ kelimesinin kısaltmasıdır. Kullanım ve işlev olarak, d harfinden hiç bir farkı yoktur."
   ]
  },
  {
   "cell_type": "markdown",
   "id": "dac986fb-12bf-4bea-a8f8-c90ab952a1aa",
   "metadata": {},
   "source": [
    "+++++++++++++o\n",
    "\n",
    "\n",
    "Bu harf octal (sekizli) kelimesinin kısaltmasıdır. Adından da anlaşılacağı gibi, sekizli düzendeki sayıları temsil eder. Dolayısıyla bu harfi kullanarak onlu düzendeki bir sayıyı sekizli düzendeki karşılığına dönüştürebilirsiniz. Örneğin:"
   ]
  },
  {
   "cell_type": "code",
   "execution_count": 46,
   "id": "64f09a36-5bab-41d8-a9ff-7f33d0328825",
   "metadata": {},
   "outputs": [
    {
     "name": "stdout",
     "output_type": "stream",
     "text": [
      "10 sayısının sekizli düzendeki karşılığı 12 sayısıdır.\n"
     ]
    }
   ],
   "source": [
    "print(\"%i sayısının sekizli düzendeki karşılığı %o sayısıdır.\" %(10, 10))"
   ]
  },
  {
   "cell_type": "markdown",
   "id": "1ae7c4af-c3d4-459a-b296-a14d6d7e6098",
   "metadata": {},
   "source": [
    "%d yapısını anlatırken gösterdiğimiz ileri düzey biçimlendirme tekniklerinin tamamını %o ile de kullanabilirsiniz."
   ]
  },
  {
   "cell_type": "markdown",
   "id": "4ca9d045-12c4-49b5-88c5-37db1827e174",
   "metadata": {},
   "source": [
    "++++++++++++x\n",
    "\n",
    "\n",
    "Bu harf hexadecimal, yani onaltılı düzendeki sayıları temsil eder. Dolayısıyla bu harfi kullanarak onlu düzendeki bir sayıyı onaltılı düzendeki karşılığına çevirebilirsiniz:"
   ]
  },
  {
   "cell_type": "code",
   "execution_count": 47,
   "id": "9638156d-6ff6-42f5-9a3f-e7f72932e630",
   "metadata": {},
   "outputs": [
    {
     "name": "stdout",
     "output_type": "stream",
     "text": [
      "20 sayısının onaltılı düzendeki karşılığı 14 sayısıdır.\n"
     ]
    }
   ],
   "source": [
    "print(\"%i sayısının onaltılı düzendeki karşılığı %x sayısıdır.\" %(20, 20))"
   ]
  },
  {
   "cell_type": "markdown",
   "id": "bf5e018b-3c23-484f-a660-6732ad1d86bc",
   "metadata": {},
   "source": [
    "Buradaki ‘x’ küçük harf olarak kullanıldığında, onaltılı düzende harfle gösterilen sayılar da küçük harfle temsil edilecektir:\n",
    "\n"
   ]
  },
  {
   "cell_type": "code",
   "execution_count": 48,
   "id": "9f1b7d6b-92cc-403c-9b17-a2affa4e7820",
   "metadata": {},
   "outputs": [
    {
     "name": "stdout",
     "output_type": "stream",
     "text": [
      "10 sayısının onaltılı düzendeki karşılığı a sayısıdır.\n"
     ]
    }
   ],
   "source": [
    "print(\"%i sayısının onaltılı düzendeki karşılığı %x sayısıdır.\" %(10, 10))\n"
   ]
  },
  {
   "cell_type": "markdown",
   "id": "976b913d-d7b5-4a9d-a9e5-b274fdc21411",
   "metadata": {},
   "source": [
    "+++++++++++++++++++X\n",
    "\n",
    "\n",
    "Bu da tıpkı x harfinde olduğu gibi, onaltılı düzendeki sayıları temsil eder. Ancak bunun farkı, harfle gösterilen onaltılı sayıları büyük harfle temsil etmesidir:"
   ]
  },
  {
   "cell_type": "code",
   "execution_count": 49,
   "id": "b49a6db4-1da5-4ca6-aa93-b36472f7e3ff",
   "metadata": {},
   "outputs": [
    {
     "name": "stdout",
     "output_type": "stream",
     "text": [
      "10 sayısının onaltılı düzendeki karşılığı A sayısıdır.\n"
     ]
    }
   ],
   "source": [
    "print(\"%i sayısının onaltılı düzendeki karşılığı %X sayısıdır.\" %(10, 10))"
   ]
  },
  {
   "cell_type": "raw",
   "id": "d55d4b75-32d0-4924-a5a5-b021a412da3a",
   "metadata": {},
   "source": [
    "%d yapısını anlatırken gösterdiğimiz ileri düzey biçimlendirme tekniklerinin tamamını %X ile de kullanabilirsiniz."
   ]
  },
  {
   "cell_type": "markdown",
   "id": "e4d0d023-058c-4f18-9e2e-fcc95ea373ca",
   "metadata": {},
   "source": [
    "+++++++++++++++++++f\n",
    "\n",
    "\n",
    "Python’da karakter dizilerini biçimlendirirken s harfinden sonra en çok kullanılan harf f harfidir. Bu harf İngilizce’deki float, yani ‘kayan noktalı sayı’ kelimesinin kısaltmasıdır. Adından da anlaşılacağı gibi, karakter dizileri içindeki kayan noktalı sayıları temsil etmek için kullanılır.\n",
    "\n"
   ]
  },
  {
   "cell_type": "code",
   "execution_count": 50,
   "id": "d8083a91-8cf9-4978-a86d-0fc18587aefd",
   "metadata": {},
   "outputs": [
    {
     "name": "stdout",
     "output_type": "stream",
     "text": [
      "Dolar 1.471000 TL olmuş...\n"
     ]
    }
   ],
   "source": [
    "print(\"Dolar %f TL olmuş...\" %1.4710)"
   ]
  },
  {
   "cell_type": "markdown",
   "id": "f1e70294-a59f-4ab5-8827-635d1fd2a7b9",
   "metadata": {},
   "source": [
    "Bu çıktı sizi biraz şaşırtmış olabilir. Çünkü gördüğünüz gibi, çıktıda bizim eklemediğimiz haneler var.\n",
    "\n",
    "Python’da bir karakter dizisi içindeki sayıyı %f yapısı ile kayan noktalı sayıya çevirdiğimizde noktadan sonra öntanımlı olarak 6 hane yer alacaktır. Yani mesela:"
   ]
  },
  {
   "cell_type": "code",
   "execution_count": 51,
   "id": "291e8d88-a859-41f3-b15b-667048413fe4",
   "metadata": {},
   "outputs": [
    {
     "name": "stdout",
     "output_type": "stream",
     "text": [
      "10.000000\n"
     ]
    }
   ],
   "source": [
    "print(\"%f\" %10)"
   ]
  },
  {
   "cell_type": "markdown",
   "id": "225a2580-794e-49e7-b8e9-bc0bc3e22368",
   "metadata": {},
   "source": [
    "Gördüğünüz gibi, gerçekten de 10 tam sayısı %f yapısı ile kayan noktalı sayıya dönüştürüldüğünde noktadan sonra 6 adet sıfıra sahip oluyor.\n",
    "\n",
    "Başka bir örnek daha verelim:"
   ]
  },
  {
   "cell_type": "code",
   "execution_count": 52,
   "id": "b575adb8-4a88-40d6-b496-5a57728b32bf",
   "metadata": {},
   "outputs": [
    {
     "name": "stdout",
     "output_type": "stream",
     "text": [
      "23.600000\n"
     ]
    }
   ],
   "source": [
    "print(\"%f\"%23.6)"
   ]
  },
  {
   "cell_type": "markdown",
   "id": "2fb1cab8-267e-4798-93b6-ed9f447b725e",
   "metadata": {},
   "source": [
    "Bu örnek, %f yapısının, kayan noktalı sayıların noktadan sonraki hane sayısını da 6’ya tamamladığını gösteriyor. Ama elbette biz istersek, daha önce öğrendiğimiz teknikleri kullanarak, noktadan sonra kaç hane olacağını belirleyebiliriz:"
   ]
  },
  {
   "cell_type": "code",
   "execution_count": 53,
   "id": "fd25599b-d8f8-4754-b17d-09b45a29c5be",
   "metadata": {},
   "outputs": [
    {
     "name": "stdout",
     "output_type": "stream",
     "text": [
      "10.00\n"
     ]
    }
   ],
   "source": [
    "print(\"%.2f\" % 10)\n"
   ]
  },
  {
   "cell_type": "markdown",
   "id": "b7f1cee1-ffb5-4cae-83ee-5539159c5257",
   "metadata": {},
   "source": [
    "%f yapısında, % ile f arasına .2 gibi bir ifade yerleştirerek noktadan sonra 2 hane olmasını sağladık.\n",
    "\n"
   ]
  },
  {
   "cell_type": "raw",
   "id": "9342ef30-1087-453b-97d7-2f5014b3f5f7",
   "metadata": {},
   "source": [
    "Daha önce gösterdiğimiz ileri düzey biçimlendirme tekniklerini %f ile de kullanabilirsiniz."
   ]
  },
  {
   "cell_type": "markdown",
   "id": "66b70b35-bc8a-4842-b061-fb4592ad1357",
   "metadata": {},
   "source": [
    "+++++++++++c\n",
    "\n",
    "\n",
    "Bu harf de Python’daki önemli karakter dizisi biçimlendiricilerinden biridir. Bu harf tek bir karakteri temsil eder:\n",
    "\n"
   ]
  },
  {
   "cell_type": "code",
   "execution_count": 56,
   "id": "bcc12cd6-40a2-4803-85b0-a0d20b2d1a35",
   "metadata": {},
   "outputs": [
    {
     "name": "stdout",
     "output_type": "stream",
     "text": [
      "a\n"
     ]
    }
   ],
   "source": [
    "print(\"%c\" %\"a\")"
   ]
  },
  {
   "cell_type": "markdown",
   "id": "14bf847e-0e00-4029-8de3-de2e88591faf",
   "metadata": {},
   "source": [
    "Ama:\n",
    "\n"
   ]
  },
  {
   "cell_type": "code",
   "execution_count": 57,
   "id": "4fdafa10-365e-496e-aafd-59bf78fec970",
   "metadata": {},
   "outputs": [
    {
     "ename": "TypeError",
     "evalue": "%c requires int or char",
     "output_type": "error",
     "traceback": [
      "\u001b[0;31m---------------------------------------------------------------------------\u001b[0m",
      "\u001b[0;31mTypeError\u001b[0m                                 Traceback (most recent call last)",
      "Cell \u001b[0;32mIn[57], line 1\u001b[0m\n\u001b[0;32m----> 1\u001b[0m \u001b[38;5;28mprint\u001b[39m(\u001b[38;5;124;43m\"\u001b[39;49m\u001b[38;5;132;43;01m%c\u001b[39;49;00m\u001b[38;5;124;43m\"\u001b[39;49m\u001b[43m \u001b[49m\u001b[38;5;241;43m%\u001b[39;49m\u001b[38;5;124;43m\"\u001b[39;49m\u001b[38;5;124;43mistihza\u001b[39;49m\u001b[38;5;124;43m\"\u001b[39;49m)\n",
      "\u001b[0;31mTypeError\u001b[0m: %c requires int or char"
     ]
    }
   ],
   "source": [
    "print(\"%c\" %\"istihza\")"
   ]
  },
  {
   "cell_type": "markdown",
   "id": "bae3b03c-9866-4cc7-8362-759e42994417",
   "metadata": {},
   "source": [
    "Gördüğünüz gibi, c harfi sadece tek bir karakteri kabul ediyor. Karakter sayısı birden fazla olduğunda bu komut hata veriyor.\n",
    "\n",
    "c harfinin bir başka özelliği de ASCII tablosunda sayılara karşılık gelen karakterleri de gösterebilmesidir:"
   ]
  },
  {
   "cell_type": "code",
   "execution_count": 58,
   "id": "c772cb00-26fa-41c9-907a-fadb0e9d468d",
   "metadata": {},
   "outputs": [
    {
     "name": "stdout",
     "output_type": "stream",
     "text": [
      "A\n"
     ]
    }
   ],
   "source": [
    "print(\"%c\" %65)"
   ]
  },
  {
   "cell_type": "markdown",
   "id": "d18ae0d7-5538-4680-9703-bcefca40d29b",
   "metadata": {},
   "source": [
    "ASCII tablosunda 65 sayısı ‘A’ harfine karşılık geldiği için yukarıdaki komutun çıktısı ‘A’ harfini gösteriyor. Eğer isterseniz c harfini kullanarak bütün ASCII tablosunu ekrana dökebilirsiniz:"
   ]
  },
  {
   "cell_type": "code",
   "execution_count": 59,
   "id": "58eb4876-ff3e-43b7-9e31-2f7a394f2be8",
   "metadata": {},
   "outputs": [
    {
     "name": "stdout",
     "output_type": "stream",
     "text": [
      "0 ==> \u0000\n",
      "1 ==> \u0001\n",
      "2 ==> \u0002\n",
      "3 ==> \u0003\n",
      "4 ==> \u0004\n",
      "5 ==> \u0005\n",
      "6 ==> \u0006\n",
      "7 ==> \u0007\n",
      "8 ==>\n",
      "9 ==> \t\n",
      "10 ==> \n",
      "\n",
      "11 ==> \u000b",
      "\n",
      "12 ==> \f",
      "\n",
      "13 ==> \n",
      "14 ==> \u000e\n",
      "15 ==> \u000f\n",
      "16 ==> \u0010\n",
      "17 ==> \u0011\n",
      "18 ==> \u0012\n",
      "19 ==> \u0013\n",
      "20 ==> \u0014\n",
      "21 ==> \u0015\n",
      "22 ==> \u0016\n",
      "23 ==> \u0017\n",
      "24 ==> \u0018\n",
      "25 ==> \u0019\n",
      "26 ==> \u001a\n",
      "27 ==> \u001b\n",
      "28 ==> \u001c",
      "\n",
      "29 ==> \u001d",
      "\n",
      "30 ==> \u001e",
      "\n",
      "31 ==> \u001f\n",
      "32 ==>  \n",
      "33 ==> !\n",
      "34 ==> \"\n",
      "35 ==> #\n",
      "36 ==> $\n",
      "37 ==> %\n",
      "38 ==> &\n",
      "39 ==> '\n",
      "40 ==> (\n",
      "41 ==> )\n",
      "42 ==> *\n",
      "43 ==> +\n",
      "44 ==> ,\n",
      "45 ==> -\n",
      "46 ==> .\n",
      "47 ==> /\n",
      "48 ==> 0\n",
      "49 ==> 1\n",
      "50 ==> 2\n",
      "51 ==> 3\n",
      "52 ==> 4\n",
      "53 ==> 5\n",
      "54 ==> 6\n",
      "55 ==> 7\n",
      "56 ==> 8\n",
      "57 ==> 9\n",
      "58 ==> :\n",
      "59 ==> ;\n",
      "60 ==> <\n",
      "61 ==> =\n",
      "62 ==> >\n",
      "63 ==> ?\n",
      "64 ==> @\n",
      "65 ==> A\n",
      "66 ==> B\n",
      "67 ==> C\n",
      "68 ==> D\n",
      "69 ==> E\n",
      "70 ==> F\n",
      "71 ==> G\n",
      "72 ==> H\n",
      "73 ==> I\n",
      "74 ==> J\n",
      "75 ==> K\n",
      "76 ==> L\n",
      "77 ==> M\n",
      "78 ==> N\n",
      "79 ==> O\n",
      "80 ==> P\n",
      "81 ==> Q\n",
      "82 ==> R\n",
      "83 ==> S\n",
      "84 ==> T\n",
      "85 ==> U\n",
      "86 ==> V\n",
      "87 ==> W\n",
      "88 ==> X\n",
      "89 ==> Y\n",
      "90 ==> Z\n",
      "91 ==> [\n",
      "92 ==> \\\n",
      "93 ==> ]\n",
      "94 ==> ^\n",
      "95 ==> _\n",
      "96 ==> `\n",
      "97 ==> a\n",
      "98 ==> b\n",
      "99 ==> c\n",
      "100 ==> d\n",
      "101 ==> e\n",
      "102 ==> f\n",
      "103 ==> g\n",
      "104 ==> h\n",
      "105 ==> i\n",
      "106 ==> j\n",
      "107 ==> k\n",
      "108 ==> l\n",
      "109 ==> m\n",
      "110 ==> n\n",
      "111 ==> o\n",
      "112 ==> p\n",
      "113 ==> q\n",
      "114 ==> r\n",
      "115 ==> s\n",
      "116 ==> t\n",
      "117 ==> u\n",
      "118 ==> v\n",
      "119 ==> w\n",
      "120 ==> x\n",
      "121 ==> y\n",
      "122 ==> z\n",
      "123 ==> {\n",
      "124 ==> |\n",
      "125 ==> }\n",
      "126 ==> ~\n",
      "127 ==> \n"
     ]
    }
   ],
   "source": [
    "for i in range(128):\n",
    "    print(\"%s ==> %c\" %(i, i))"
   ]
  },
  {
   "cell_type": "raw",
   "id": "092d0dbb-0c37-4d95-bf72-c51f447a6e28",
   "metadata": {},
   "source": [
    "%s yapısını anlatırken gösterdiğimiz ileri düzey biçimlendirme tekniklerinin tamamını %c ile de kullanabilirsiniz."
   ]
  },
  {
   "cell_type": "markdown",
   "id": "3238034e-19f3-4eeb-b2cb-550e5cb4f727",
   "metadata": {},
   "source": [
    "Böylece Python’da % işareti kullanarak nasıl biçimlendirme yapabileceğimizi öğrenmiş olduk. Dilerseniz pratik olması açısından, karakter dizisi biçimlendiricilerinin kullanımını gösteren bir örnek vererek bu bölümü noktalayalım.\n",
    "\n",
    "Dikkatlice inceleyin:"
   ]
  },
  {
   "cell_type": "code",
   "execution_count": 60,
   "id": "4bf47f91-5345-4d0e-96fc-6a8fbdb545a3",
   "metadata": {},
   "outputs": [
    {
     "name": "stdout",
     "output_type": "stream",
     "text": [
      "\n",
      "__add__             __class__           __contains__        \n",
      "__delattr__         __dir__             __doc__             \n",
      "__eq__              __format__          __ge__              \n",
      "__getattribute__    __getitem__         __getnewargs__      \n",
      "__gt__              __hash__            __init__            \n",
      "__init_subclass__   __iter__            __le__              \n",
      "__len__             __lt__              __mod__             \n",
      "__mul__             __ne__              __new__             \n",
      "__reduce__          __reduce_ex__       __repr__            \n",
      "__rmod__            __rmul__            __setattr__         \n",
      "__sizeof__          __str__             __subclasshook__    \n",
      "capitalize          casefold            center              \n",
      "count               encode              endswith            \n",
      "expandtabs          find                format              \n",
      "format_map          index               isalnum             \n",
      "isalpha             isascii             isdecimal           \n",
      "isdigit             isidentifier        islower             \n",
      "isnumeric           isprintable         isspace             \n",
      "istitle             isupper             join                \n",
      "ljust               lower               lstrip              \n",
      "maketrans           partition           removeprefix        \n",
      "removesuffix        replace             rfind               \n",
      "rindex              rjust               rpartition          \n",
      "rsplit              rstrip              split               \n",
      "splitlines          startswith          strip               \n",
      "swapcase            title               translate           \n",
      "upper               zfill               "
     ]
    }
   ],
   "source": [
    "for sıra, karakter in enumerate(dir(str)):\n",
    "    if sıra % 3 == 0:\n",
    "        print(\"\\n\", end=\"\")\n",
    "    print(\"%-20s\" %karakter, end=\"\")"
   ]
  },
  {
   "cell_type": "markdown",
   "id": "38b56354-1fb8-4848-b0a5-6bdc9d7efdde",
   "metadata": {},
   "source": [
    "Burada, gördüğünüz gibi, karakter dizisi metotlarını bir tablo görünümü içinde ekrana yazdırdık. Şu satırlar yardımıyla tablodaki sütun sayısını 3 olarak belirledik:"
   ]
  },
  {
   "cell_type": "code",
   "execution_count": 61,
   "id": "855c3bf5-30fd-4d29-9161-85bf3006d024",
   "metadata": {},
   "outputs": [],
   "source": [
    "if sıra % 3 == 0:\n",
    "    print(\"\\n\", end=\"\")"
   ]
  },
  {
   "cell_type": "markdown",
   "id": "022a9c6a-ea6d-4007-a5db-fe7adc02718a",
   "metadata": {},
   "source": [
    "Burada modülüs işlecini nasıl kullandığımıza çok dikkat edin. sıra değişkeninin değerini 3’e böldüğümüzde kalan değerin 0 olduğu her sayıda satır başına geçiyoruz. Böylece her 3. sütunda bir satır aşağı geçilmiş oluyor.\n",
    "\n",
    "Bununla ilgili bir örnek daha verelim:\n",
    "\n"
   ]
  },
  {
   "cell_type": "code",
   "execution_count": 62,
   "id": "f3929c99-b4bc-4244-bf5c-0f99aecee78d",
   "metadata": {},
   "outputs": [
    {
     "name": "stdout",
     "output_type": "stream",
     "text": [
      "    0    0    0\n",
      "    1    1    1\n",
      "    2    2    2\n",
      "    3    3    3\n",
      "    4    4    4\n",
      "    5    5    5\n",
      "    6    6    6\n",
      "    7    7    7\n",
      "    8   10    8\n",
      "    9   11    9\n",
      "   10   12    a\n",
      "   11   13    b\n",
      "   12   14    c\n",
      "   13   15    d\n",
      "   14   16    e\n",
      "   15   17    f\n",
      "   16   20   10\n",
      "   17   21   11\n",
      "   18   22   12\n",
      "   19   23   13\n"
     ]
    }
   ],
   "source": [
    "for i in range(20):\n",
    "    print(\"%5d%5o%5x\" %(i, i, i))"
   ]
  },
  {
   "cell_type": "markdown",
   "id": "03a8df94-2ca8-48f0-9f11-9a051b95d727",
   "metadata": {},
   "source": [
    "Burada 0’dan 20’ye kadar olan sayıların onlu, sekizli ve onaltılı düzendeki karşılıklarını bir tablo görünümü içinde ekrana çıktı verdik. Bu arada, eğer isterseniz yukarıdaki kodları şöyle de yazabileceğinizi biliyorsunuz:"
   ]
  },
  {
   "cell_type": "code",
   "execution_count": 63,
   "id": "af97f58c-4018-4df6-8fe2-8fea79cf92a9",
   "metadata": {},
   "outputs": [
    {
     "name": "stdout",
     "output_type": "stream",
     "text": [
      "    0    0    0\n",
      "    1    1    1\n",
      "    2    2    2\n",
      "    3    3    3\n",
      "    4    4    4\n",
      "    5    5    5\n",
      "    6    6    6\n",
      "    7    7    7\n",
      "    8   10    8\n",
      "    9   11    9\n",
      "   10   12    a\n",
      "   11   13    b\n",
      "   12   14    c\n",
      "   13   15    d\n",
      "   14   16    e\n",
      "   15   17    f\n",
      "   16   20   10\n",
      "   17   21   11\n",
      "   18   22   12\n",
      "   19   23   13\n"
     ]
    }
   ],
   "source": [
    "for i in range(20):\n",
    "    print(\"%(deger)5d%(deger)5o%(deger)5x\" %({\"deger\": i}))"
   ]
  },
  {
   "cell_type": "markdown",
   "id": "9820f65a-9771-47a2-b4db-8c064999216f",
   "metadata": {},
   "source": [
    "Burada da, tablomuzu biçimlendirmek için ‘sözlük’ adını verdiğimiz yapıdan yararlandık."
   ]
  },
  {
   "cell_type": "markdown",
   "id": "c09eaf9a-a828-4c13-ab3f-b995543e49f4",
   "metadata": {},
   "source": [
    "++++++++++++format() Metodu ile Biçimlendirme (Yeni Yöntem)\n",
    "\n",
    "\n",
    "En başta da söylediğimiz gibi, % işaretini kullanarak karakter dizisi biçimlendirme eskide kalmış bir yöntemdir. Bu yöntem ağırlıklı olarak Python’ın 2.x sürümlerinde kullanılıyordu. Her ne kadar bu yöntemi Python’ın 3.x sürümlerinde de kullanmak mümkün olsa da yeni yazılan kodlarda bu yöntem yerine biraz sonra göreceğimiz format() metodunu kullanmak çok daha akıllıca olacaktır. Çünkü muhtemelen % ile biçimlendirme yöntemi, ileriki bir Python sürümünde dilden tamamen kaldırılacak. Bu yüzden bu eski metoda fazla bel bağlamamak gerekiyor.\n",
    "\n",
    "Daha önceki derslerimizde verdiğimiz örnekler sayesinde format() metodunun temel olarak nasıl kullanılacağını biliyoruz. Ama isterseniz biz yine de bütünlük açısından format() metodunun temel kullanımını burada tekrar ele alalım.\n",
    "\n",
    "format() metodunu en basit şekilde şöyle kullanıyoruz:"
   ]
  },
  {
   "cell_type": "code",
   "execution_count": 64,
   "id": "edfe4db2-b591-4fb7-8e0f-e6753f9f339b",
   "metadata": {},
   "outputs": [
    {
     "name": "stdout",
     "output_type": "stream",
     "text": [
      "Django ve Python iyi bir ikilidir!\n"
     ]
    }
   ],
   "source": [
    "print(\"{} ve {} iyi bir ikilidir!\".format(\"Django\", \"Python\"))"
   ]
  },
  {
   "cell_type": "markdown",
   "id": "80af4b3b-d4f1-4c5b-a22a-42d67fb00706",
   "metadata": {},
   "source": [
    "Gördüğünüz gibi, eski yöntemdeki % işaretine karşılık, yeni yöntemde {} işaretini kullanıyoruz.\n",
    "\n",
    "Çok basit bir örnek daha verelim:\n",
    "\n"
   ]
  },
  {
   "cell_type": "code",
   "execution_count": 65,
   "id": "c16691bb-6f5a-47a5-a1e6-72a9b033043b",
   "metadata": {},
   "outputs": [
    {
     "name": "stdin",
     "output_type": "stream",
     "text": [
      "İsminiz:  asdsa\n"
     ]
    },
    {
     "name": "stdout",
     "output_type": "stream",
     "text": [
      "Merhaba asdsa. Nasılsın?\n"
     ]
    }
   ],
   "source": [
    "isim = input(\"İsminiz: \")\n",
    "print(\"Merhaba {}. Nasılsın?\".format(isim))"
   ]
  },
  {
   "cell_type": "markdown",
   "id": "2e8abed1-0e19-4b83-afee-ae2900987201",
   "metadata": {},
   "source": [
    "Elbette bu örneği şu şekilde de yazabilirdik:\n",
    "\n"
   ]
  },
  {
   "cell_type": "code",
   "execution_count": 66,
   "id": "9e11db7b-fa67-4e88-824d-3f51b101e193",
   "metadata": {},
   "outputs": [
    {
     "name": "stdin",
     "output_type": "stream",
     "text": [
      "İsminiz:  dasdadsas\n"
     ]
    },
    {
     "name": "stdout",
     "output_type": "stream",
     "text": [
      "Merhaba dasdadsas. Nasılsın?\n"
     ]
    }
   ],
   "source": [
    "isim = input(\"İsminiz: \")\n",
    "print(\"Merhaba\", isim + \".\", \"Nasılsın?\")"
   ]
  },
  {
   "cell_type": "markdown",
   "id": "79777c12-6b75-4dbb-9a74-ba6a338fc089",
   "metadata": {},
   "source": [
    "Burada format() metodunu ve biçim düzenleyicileri hiç kullanmadan, sadece karakter dizilerini birleştirerek istediğimiz çıktıyı elde ettik. Ama siz de görüyorsunuz; karakter dizilerini birleştirmekle uğraşacağımıza format() metodunu kullanmak hem daha pratiktir, hem de bu şekilde yazdığımız kodlar daha okunaklı olur.\n",
    "\n",
    "Yukarıdaki örnekte format() metodunu tek bir parametre ile birlikte kullandık (isim). Bu parametre (tıpkı eski % işaretinde olduğu gibi), karakter dizisi içindeki {} işaretine karşılık geliyor.\n",
    "\n",
    "Bu konuyu daha iyi anlayabilmek için bir örnek daha verelim:"
   ]
  },
  {
   "cell_type": "code",
   "execution_count": null,
   "id": "76ec6fff-e14a-440e-8dc5-72001a2bed4e",
   "metadata": {},
   "outputs": [],
   "source": [
    "kalkış       = input(\"Kalkış yeri: \")\n",
    "varış        = input(\"Varış yeri: \")\n",
    "isim_soyisim = input(\"İsim ve soyisim: \")\n",
    "bilet_sayısı = input(\"Bilet sayısı: \")\n",
    "\n",
    "print(\"\"\"{} noktasından {} noktasına, 14:30 hareket saatli\n",
    "sefer için {} adına {} adet bilet ayrılmıştır!\"\"\".format(kalkış,\n",
    "                                                         varış,\n",
    "                                                         isim_soyisim,\n",
    "                                                         bilet_sayısı))"
   ]
  },
  {
   "cell_type": "markdown",
   "id": "22688e26-2957-4da1-84cc-95a730ee1dbe",
   "metadata": {},
   "source": [
    "Gördüğünüz gibi, {} işaretleri karakter dizisi içinde bir ‘yer tutma’ görevi görüyor. Tutulan bu yerlere nelerin geleceğini format() metodunun parametreleri vasıtasıyla belirliyoruz.\n",
    "\n",
    "Elbette eğer isterseniz yukarıdaki örneği şu şekilde de yazabilirsiniz:\n",
    "\n"
   ]
  },
  {
   "cell_type": "code",
   "execution_count": null,
   "id": "9c0d307b-b265-48f5-b466-d69ca6cd923a",
   "metadata": {},
   "outputs": [],
   "source": [
    "kalkış       = input(\"Kalkış yeri: \")\n",
    "varış        = input(\"Varış yeri: \")\n",
    "isim_soyisim = input(\"İsim ve soyisim: \")\n",
    "bilet_sayısı = input(\"Bilet sayısı: \")\n",
    "\n",
    "metin = \"{} noktasından {} noktasına, 14:30 hareket saatli \\\n",
    "sefer için {} adına {} adet bilet ayrılmıştır!\"\n",
    "\n",
    "print(metin.format(kalkış, varış, isim_soyisim, bilet_sayısı))"
   ]
  },
  {
   "cell_type": "markdown",
   "id": "18925e68-c1c8-485e-916c-e86e8700879a",
   "metadata": {},
   "source": [
    "Ancak yaygın olarak kullanılan yöntem, karakter dizisini herhangi bir değişkene atamadan, doğrudan format() metoduna bağlamaktır. Elbette hangi yöntem kolayınıza geliyorsa onu tercih etmekte özgürsünüz. Ama özellikle biçimlendirilecek karakter dizisinin çok uzun olduğu durumlarda, yukarıdaki gibi, karakter dizisini önce bir değişkene atayıp, sonra da bu değişken üzerine format() metodunu uygulamak daha mantıklı olabilir.\n",
    "\n",
    "Verdiğimiz bu örneği, her zaman olduğu gibi, format() metoduna başvurmadan yazmak da mümkündür:"
   ]
  },
  {
   "cell_type": "code",
   "execution_count": null,
   "id": "41b512ee-10c0-4c13-ac47-3121b5c9bf82",
   "metadata": {},
   "outputs": [],
   "source": [
    "kalkış       = input(\"Kalkış yeri: \")\n",
    "varış        = input(\"Varış yeri: \")\n",
    "isim_soyisim = input(\"İsim ve soyisim: \")\n",
    "bilet_sayısı = input(\"Bilet sayısı: \")\n",
    "\n",
    "print(kalkış, \"noktasından\", varış, \"noktasına, 14:30 hareket saatli \\\n",
    "sefer için\", isim_soyisim, \"adına\", bilet_sayısı, \"adet bilet ayrılmıştır!\")"
   ]
  },
  {
   "cell_type": "markdown",
   "id": "2ab0f0bf-ab00-462a-aa17-09b9b77940f3",
   "metadata": {},
   "source": [
    "Tıpkı daha önce verdiğimiz örnekte olduğu gibi, burada da format() metodunu kullanmak karakter dizilerini birleştirme yöntemine göre daha mantıklı ve kolay görünüyor. Ayrıca bir karakter dizisi karmaşıklaştıkça bu karakter dizisini sadece karakter dizisi birleştirme yöntemleriyle biçimlendirmeye çalışmak bir süre sonra tam bir eziyet halini alabilir. O yüzden, ‘Ben format() metodunu öğrenmesem de olur,’ diye düşünmeyin sakın. Mesela şöyle bir programı format() metodu kullanmadan yazmaya çalışmak hiç akıl kârı değildir:"
   ]
  },
  {
   "cell_type": "code",
   "execution_count": null,
   "id": "961b2cbd-772b-4daf-9289-094de5680261",
   "metadata": {},
   "outputs": [],
   "source": [
    "kodlama  = \"utf-8\"\n",
    "site_adı = \"Python Programlama Dili\"\n",
    "dosya    = open(\"deneme.html\", \"w\", encoding=kodlama)\n",
    "içerik   = \"\"\"\n",
    "<html>\n",
    "\n",
    "<head>\n",
    "    <meta http-equiv=\"Content-Type\" content=\"text/html; charset={}\" />\n",
    "    <title>{}</title>\n",
    "</head>\n",
    "\n",
    "<body>\n",
    "    <h1>istihza.com web sitesine hoş geldiniz!</h1>\n",
    "    <p><b>{}</b> için bir Türkçe belgelendirme projesi...</p>\n",
    "</body>\n",
    "\n",
    "</html>\n",
    "\"\"\"\n",
    "\n",
    "print(içerik.format(kodlama, site_adı, site_adı), file=dosya)\n",
    "\n",
    "dosya.close()"
   ]
  },
  {
   "cell_type": "markdown",
   "id": "d9d6a5d0-4e3a-46da-a360-a9e5e81277bc",
   "metadata": {},
   "source": [
    "Burada şu satırın bir kısmı hariç bütün kodları anlayabilecek düzeydesiniz:"
   ]
  },
  {
   "cell_type": "code",
   "execution_count": null,
   "id": "d6bbea87-17b6-4aaf-bd65-8591868c7a31",
   "metadata": {},
   "outputs": [],
   "source": [
    "dosya  = open(\"deneme.html\", \"w\", encoding=kodlama)"
   ]
  },
  {
   "cell_type": "markdown",
   "id": "39412fc1-809b-4ac8-bd97-ba7798eb388a",
   "metadata": {},
   "source": [
    "Bu kodlarla, deneme.html adlı bir dosya oluşturduğumuzu biliyorsunuz. Daha önceki derslerimizde birkaç kez gördüğümüz open() fonksiyonu Python’da dosya oluşturmamıza imkan veriyor. Bu fonksiyon içinde kullandığımız üç parametrenin ilk ikisi size tanıdık gelecektir. İlk parametre dosyanın adını, ikinci parametre ise bu dosyanın hangi kipte açılacağını gösteriyor. Burada kullandığımız “w” parametresi deneme.html adlı dosyanın yazma kipinde açılacağını gösteriyor. Bu fonksiyona atadığımız encoding parametresi ise oluşturulacak dosyanın kodlama biçimini gösteriyor. Bu da Türkçe karakterlerin dosyada düzgün görüntülenebilmesi açısından önem taşıyor.\n",
    "\n",
    "Küme parantezlerini, yukarıdaki örneklerde görüldüğü şekilde içi boş olarak kullanabilirsiniz. Böyle bir durumda Python, karakter dizisi içindeki küme parantezleriyle, karakter dizisi dışındaki değerleri teker teker ve sırasıyla eşleştirecektir. Ama isterseniz küme parantezleri içine birer sayı yazarak, karakter dizisi dışındaki değerlerin hangi sırayla kullanılacağını belirleyebilirsiniz. Örneğin:\n",
    "\n"
   ]
  },
  {
   "cell_type": "code",
   "execution_count": 67,
   "id": "507eb9e4-f198-4978-b3bc-089ea6dddd27",
   "metadata": {},
   "outputs": [
    {
     "data": {
      "text/plain": [
       "'Fırat Özgül'"
      ]
     },
     "execution_count": 67,
     "metadata": {},
     "output_type": "execute_result"
    }
   ],
   "source": [
    "\"{0} {1}\".format(\"Fırat\", \"Özgül\")"
   ]
  },
  {
   "cell_type": "markdown",
   "id": "21f09982-3a24-45a5-a889-4a66a1440915",
   "metadata": {},
   "source": [
    "Küme parantezleri içinde sayı kullanabilme imkanı sayesinde değerlerin sırasını istediğiniz gibi düzenleyebilirsiniz:"
   ]
  },
  {
   "cell_type": "markdown",
   "id": "e098ecd2-e5ab-4206-87ed-8eb4336a82b8",
   "metadata": {},
   "source": [
    "\"{1} {0}\".format(\"Fırat\", \"Özgül\")"
   ]
  },
  {
   "cell_type": "markdown",
   "id": "2f0b6870-c199-4786-884b-4e27dbd96c03",
   "metadata": {},
   "source": [
    "Hatta bu özellik sayesinde değerleri bir kez yazıp, birden fazla sayıda tekrar edebilirsiniz:"
   ]
  },
  {
   "cell_type": "code",
   "execution_count": 68,
   "id": "917c92b1-4e27-406d-9937-3381f26c0247",
   "metadata": {},
   "outputs": [
    {
     "data": {
      "text/plain": [
       "'Fırat Özgül (Özgül Fırat)'"
      ]
     },
     "execution_count": 68,
     "metadata": {},
     "output_type": "execute_result"
    }
   ],
   "source": [
    "\"{0} {1} ({1} {0})\".format(\"Fırat\", \"Özgül\")"
   ]
  },
  {
   "cell_type": "markdown",
   "id": "b575ad43-435d-4d44-9dbc-db5c25e6a557",
   "metadata": {},
   "source": [
    "Dolayısıyla, {} işaretleri içinde öğelerin sırasını da belirterek, biraz önce verdiğimiz HTML sayfası örneğini şu şekilde yazabilirsiniz:\n",
    "\n"
   ]
  },
  {
   "cell_type": "raw",
   "id": "39a8bb69-de11-49bb-8e6b-96965bb12a3e",
   "metadata": {},
   "source": [
    "kodlama  = \"utf-8\"\n",
    "site_adı = \"Python Programlama Dili\"\n",
    "dosya    = open(\"deneme.html\", \"w\", encoding=kodlama)\n",
    "içerik   = \"\"\"\n",
    "<html>\n",
    "\n",
    "<head>\n",
    "    <meta http-equiv=\"Content-Type\" content=\"text/html; charset={0}\" />\n",
    "    <title>{1}</title>\n",
    "</head>\n",
    "\n",
    "<body>\n",
    "    <h1>istihza.com web sitesine hoş geldiniz!</h1>\n",
    "    <p><b>{1}</b> için bir Türkçe belgelendirme projesi...</p>\n",
    "</body>\n",
    "\n",
    "</html>\n",
    "\"\"\"\n",
    "\n",
    "print(içerik.format(kodlama, site_adı), file=dosya)\n",
    "\n",
    "dosya.close()"
   ]
  },
  {
   "cell_type": "markdown",
   "id": "5d8167d0-449e-400d-a4fd-e5ba9cee336f",
   "metadata": {},
   "source": [
    "Gördüğünüz gibi, öğelerin sıra numarasını belirtmemiz sayesinde, karakter dizisi içinde iki kez ihtiyaç duyduğumuz site_adı adlı değişkeni format() metodu içinde iki kez yazmak zorunda kalmadık.\n",
    "\n",
    "Yukarıdaki örnekler bize, format() metodunun parametrelerine sıra numarasına göre erişebileceğimizi gösteriyor. Biz aynı zamanda bu metodun parametrelerine isme göre de erişebiliriz. Çok basit bir örnek:\n",
    "\n"
   ]
  },
  {
   "cell_type": "code",
   "execution_count": null,
   "id": "8d88bc17-6022-4228-9ab5-8332a7723cef",
   "metadata": {},
   "outputs": [],
   "source": [
    "print(\"{dil} dersleri\".format(dil=\"python\"))\n"
   ]
  },
  {
   "cell_type": "markdown",
   "id": "d82b4123-d74b-4610-8d55-e3d9bfa2ca40",
   "metadata": {},
   "source": [
    "Bu yöntemi kullanarak, aynı değişkeni birkaç farklı yerde kullanabilirsiniz:\n",
    "\n"
   ]
  },
  {
   "cell_type": "raw",
   "id": "405888f4-addc-49c9-a025-eef3f7e28436",
   "metadata": {},
   "source": [
    "sayfa = \"\"\"\n",
    "<html>\n",
    "\n",
    "<head>\n",
    "    <meta http-equiv=\"Content-Type\" content=\"text/html; charset=utf-8\" />\n",
    "    <title>{konu}</title>\n",
    "</head>\n",
    "\n",
    "<body>\n",
    "    <h1>istihza.com web sitesine hoş geldiniz!</h1>\n",
    "    <p><b>{konu}</b> için bir Türkçe belgelendirme projesi...</p>\n",
    "</body>\n",
    "\n",
    "</html>\n",
    "\"\"\"\n",
    "\n",
    "print(sayfa.format(konu=\"Python Programlama Dili\"))"
   ]
  },
  {
   "cell_type": "markdown",
   "id": "0b94ca97-25ac-45ce-93f6-aeb8144421b8",
   "metadata": {},
   "source": [
    "format() metodunun yetenekleri yukarıda gösterdiğimiz şeylerle sınırlı değildir. Tıpkı eski biçimlendirme yönteminde olduğu gibi, {} işaretleri arasında bazı sayılar kullanarak, karakter dizileri üzerinde hizalama işlemleri de yapabiliriz.\n",
    "\n",
    "Dikkatlice bakın:"
   ]
  },
  {
   "cell_type": "code",
   "execution_count": 69,
   "id": "dda86d61-6f04-42aa-a88a-bef105a1dcc7",
   "metadata": {},
   "outputs": [
    {
     "name": "stdout",
     "output_type": "stream",
     "text": [
      "        istihza\n"
     ]
    }
   ],
   "source": [
    "print(\"{:>15}\".format(\"istihza\"))"
   ]
  },
  {
   "cell_type": "markdown",
   "id": "c98f7e9c-1f34-447d-add5-12ec71f9ed01",
   "metadata": {},
   "source": [
    "\n",
    "Bu gösterim gözünüze oldukça yabancı ve karışık gelmiş olabilir. Ama aslında hiç de öyle anlaşılmaz bir yanı yoktur bu kodların. Gördüğünüz gibi, burada öncelikle : adlı bir işaretten yararlanıyoruz. Bu işaretin ardından > adlı başka bir işaret görüyoruz. Son olarak da 15 sayısını kullanıyoruz.\n",
    "\n",
    ": işareti, bir biçimlendirme işlemi yapacağımızı gösteriyor. > işareti ise bu biçimlendirmenin bir hizalama işlemi olacağını haber veriyor. En sondaki 15 sayısı ise bu hizalama işleminin 15 karakterlik bir alan ile ilgili olduğunu söylüyor. Bu şekilde karakter dizisini 15 karakterlik bir alan içine yerleştirip karakter dizisini sağa yasladık. Yukarıdaki çıktıyı daha iyi anlayabilmek için kodları şöyle de yazabilirsiniz:\n",
    "\n"
   ]
  },
  {
   "cell_type": "code",
   "execution_count": 70,
   "id": "4b62f5e6-911c-4552-b799-8e04ed176de5",
   "metadata": {},
   "outputs": [
    {
     "name": "stdout",
     "output_type": "stream",
     "text": [
      "|        istihza|\n"
     ]
    }
   ],
   "source": [
    "print(\"|{:>15}|\".format(\"istihza\"))\n"
   ]
  },
  {
   "cell_type": "markdown",
   "id": "e9a80e83-7eb5-4795-8aa2-30336c77d653",
   "metadata": {},
   "source": [
    "Gördüğünüz gibi, karakter dizimiz, kendisine ayrılan 15 karakterlik alan içinde sağa yaslanmış vaziyette duruyor.\n",
    "\n",
    "Eğer aynı karakter dizisini sola yaslamak isterseniz şöyle bir şey yazabilirsiniz:"
   ]
  },
  {
   "cell_type": "code",
   "execution_count": 71,
   "id": "1cb1f75b-85ee-45b8-a479-cbe96ee36892",
   "metadata": {},
   "outputs": [
    {
     "name": "stdout",
     "output_type": "stream",
     "text": [
      "|istihza        |\n"
     ]
    }
   ],
   "source": [
    "print(\"|{:<15}|\".format(\"istihza\"))"
   ]
  },
  {
   "cell_type": "markdown",
   "id": "ac3c8985-dbce-49fa-a976-08a25619728f",
   "metadata": {},
   "source": [
    "Bu defa < adlı işaretten yararlandığımıza dikkat edin.\n",
    "\n",
    "Yukarıdaki yöntemi kullanarak, karakter dizilerini sola veya sağa yaslamanın yanısıra, kendilerine ayrılan alan içinde ortalayabilirsiniz de:\n",
    "\n"
   ]
  },
  {
   "cell_type": "code",
   "execution_count": 72,
   "id": "5f9898b4-6852-41d7-b733-a84cba01ea39",
   "metadata": {},
   "outputs": [
    {
     "name": "stdout",
     "output_type": "stream",
     "text": [
      "|    istihza    |\n"
     ]
    }
   ],
   "source": [
    "print(\"|{:^15}|\".format(\"istihza\"))"
   ]
  },
  {
   "cell_type": "markdown",
   "id": "5907e07f-d50e-4011-bec9-8204f6a48ff0",
   "metadata": {},
   "source": [
    "Gördüğünüz gibi, python3 ile gelen format() metodunu hizalama işlemleri için kullanırken üç farklı işaretten yararlanıyoruz:"
   ]
  },
  {
   "cell_type": "raw",
   "id": "b6b329e8-0301-4eeb-923b-43320f925bd0",
   "metadata": {},
   "source": [
    ">\n",
    "\n",
    "sağa yaslama\n",
    "\n",
    "<\n",
    "\n",
    "sola yaslama\n",
    "\n",
    "^\n",
    "\n",
    "ortalama"
   ]
  },
  {
   "cell_type": "markdown",
   "id": "ce41b526-dda1-4d26-8c10-800c4e12f507",
   "metadata": {},
   "source": [
    "Yukarıdaki işaretler, yaptıkları işi çağrıştırdıkları için, bunları akılda tutmak çok zor olmasa gerek. Mesela örnek olması açısından, eski biçimlendirme yönteminin son kısmında verdiğimiz şu örneği:\n",
    "\n"
   ]
  },
  {
   "cell_type": "code",
   "execution_count": 73,
   "id": "96f4222f-2835-4f08-9b53-d1ece7f0f158",
   "metadata": {},
   "outputs": [
    {
     "name": "stdout",
     "output_type": "stream",
     "text": [
      "\n",
      "__add__             __class__           __contains__        \n",
      "__delattr__         __dir__             __doc__             \n",
      "__eq__              __format__          __ge__              \n",
      "__getattribute__    __getitem__         __getnewargs__      \n",
      "__gt__              __hash__            __init__            \n",
      "__init_subclass__   __iter__            __le__              \n",
      "__len__             __lt__              __mod__             \n",
      "__mul__             __ne__              __new__             \n",
      "__reduce__          __reduce_ex__       __repr__            \n",
      "__rmod__            __rmul__            __setattr__         \n",
      "__sizeof__          __str__             __subclasshook__    \n",
      "capitalize          casefold            center              \n",
      "count               encode              endswith            \n",
      "expandtabs          find                format              \n",
      "format_map          index               isalnum             \n",
      "isalpha             isascii             isdecimal           \n",
      "isdigit             isidentifier        islower             \n",
      "isnumeric           isprintable         isspace             \n",
      "istitle             isupper             join                \n",
      "ljust               lower               lstrip              \n",
      "maketrans           partition           removeprefix        \n",
      "removesuffix        replace             rfind               \n",
      "rindex              rjust               rpartition          \n",
      "rsplit              rstrip              split               \n",
      "splitlines          startswith          strip               \n",
      "swapcase            title               translate           \n",
      "upper               zfill               "
     ]
    }
   ],
   "source": [
    "for sıra, karakter in enumerate(dir(str)):\n",
    "    if sıra % 3 == 0:\n",
    "        print(\"\\n\", end=\"\")\n",
    "    print(\"%-20s\" %karakter, end=\"\")"
   ]
  },
  {
   "cell_type": "markdown",
   "id": "33bc220b-13b0-47e2-adea-640d9235b9fa",
   "metadata": {},
   "source": [
    "… bir de yeni format() metoduyla yazalım:"
   ]
  },
  {
   "cell_type": "code",
   "execution_count": 74,
   "id": "9e3773e9-9e82-4fe2-b758-1cce5887becd",
   "metadata": {},
   "outputs": [
    {
     "name": "stdout",
     "output_type": "stream",
     "text": [
      "\n",
      "__add__             __class__           __contains__        \n",
      "__delattr__         __dir__             __doc__             \n",
      "__eq__              __format__          __ge__              \n",
      "__getattribute__    __getitem__         __getnewargs__      \n",
      "__gt__              __hash__            __init__            \n",
      "__init_subclass__   __iter__            __le__              \n",
      "__len__             __lt__              __mod__             \n",
      "__mul__             __ne__              __new__             \n",
      "__reduce__          __reduce_ex__       __repr__            \n",
      "__rmod__            __rmul__            __setattr__         \n",
      "__sizeof__          __str__             __subclasshook__    \n",
      "capitalize          casefold            center              \n",
      "count               encode              endswith            \n",
      "expandtabs          find                format              \n",
      "format_map          index               isalnum             \n",
      "isalpha             isascii             isdecimal           \n",
      "isdigit             isidentifier        islower             \n",
      "isnumeric           isprintable         isspace             \n",
      "istitle             isupper             join                \n",
      "ljust               lower               lstrip              \n",
      "maketrans           partition           removeprefix        \n",
      "removesuffix        replace             rfind               \n",
      "rindex              rjust               rpartition          \n",
      "rsplit              rstrip              split               \n",
      "splitlines          startswith          strip               \n",
      "swapcase            title               translate           \n",
      "upper               zfill               "
     ]
    }
   ],
   "source": [
    "for sıra, karakter in enumerate(dir(str)):\n",
    "    if sıra % 3 == 0:\n",
    "        print(\"\\n\", end=\"\")\n",
    "    print(\"{:<20}\".format(karakter), end=\"\")"
   ]
  },
  {
   "cell_type": "markdown",
   "id": "6661518d-2119-4cd3-824f-44d63f32ddbe",
   "metadata": {},
   "source": [
    "\n",
    "Bu örneği inceleyerek, eski ile yeni yöntem arasında nelerin değiştiğini, neyin neye karşılık geldiğini görebilirsiniz.\n",
    "\n"
   ]
  },
  {
   "cell_type": "markdown",
   "id": "3ef86654-3312-4ee3-af53-298ac021aa8c",
   "metadata": {},
   "source": [
    "+++++++++Biçimlendirme Karakterleri\n",
    "\n",
    "\n",
    "Hatırlarsanız Python2’de geçerli olan eski biçimlendirme yönteminde % karakteri ile bazı harfleri birlikte kullanarak karakter dizileri üzerinde biçimlendirme ve dönüştürme işlemleri yapabiliyorduk. Aynı şey Python3 ile birlikte gelen bu format() metodu için de geçerlidir. Yani benzer harfleri kullanarak format() metodu ile de karakter dizileri üzerinde biçimlendirme ve dönüştürme işlemleri yapabiliriz.\n",
    "\n",
    "format() metodu ile birlikte şu harfleri kullanabiliyoruz:\n",
    "\n",
    "++++++++++++++s\n",
    "\n",
    "\n",
    "Bu harf karakter dizilerini temsil eder.\n",
    "\n",
    "Yalnız bu biçimlendirici karakterlerin {} işaretleri içindeki kullanımı ilk bakışta gözünüze biraz karışık gelebilir:"
   ]
  },
  {
   "cell_type": "code",
   "execution_count": 75,
   "id": "5440d90c-b30c-46de-9e67-8e0bf7ef1a82",
   "metadata": {},
   "outputs": [
    {
     "name": "stdout",
     "output_type": "stream",
     "text": [
      "karakter dizisi\n"
     ]
    }
   ],
   "source": [
    "print(\"{:s}\".format(\"karakter dizisi\"))"
   ]
  },
  {
   "cell_type": "markdown",
   "id": "43dcc6ad-f00d-4155-b5a6-cb39733c6af9",
   "metadata": {},
   "source": [
    "Bu arada, harfleri {} yapısının içinde nasıl kullandığımıza dikkat edin. Gördüğünüz gibi biçimlendirme karakterini kullanırken, karakterin sol tarafına bir adet : işareti de yerleştiriyoruz. Bir örnek verelim:"
   ]
  },
  {
   "cell_type": "code",
   "execution_count": 76,
   "id": "86828b3f-42c0-4da6-9e73-613418128dbf",
   "metadata": {},
   "outputs": [
    {
     "name": "stdout",
     "output_type": "stream",
     "text": [
      "Python ve Django iyi bir ikilidir!\n"
     ]
    }
   ],
   "source": [
    "print(\"{:s} ve {:s} iyi bir ikilidir!\".format(\"Python\", \"Django\"))"
   ]
  },
  {
   "cell_type": "markdown",
   "id": "e837d04d-ff01-43dc-b4bc-f7daa502a352",
   "metadata": {},
   "source": [
    "Yalnız, s harfi karakter dizilerini temsil ettiği için, {} işaretleri arasında bu harfi kullandığımızda, format() metodunun alabileceği parametreyi karakter dizisiyle sınırlandırmış oluruz. Dolayısıyla bu harfi kullandıktan sonra format() metodu içinde sadece karakter dizilerini kullanabiliriz. Eğer sayı kullanırsak Python bize bir hata mesajı gösterecektir:"
   ]
  },
  {
   "cell_type": "code",
   "execution_count": 77,
   "id": "27e1b365-849c-438d-9368-5e8405f23bac",
   "metadata": {},
   "outputs": [
    {
     "ename": "ValueError",
     "evalue": "Unknown format code 's' for object of type 'int'",
     "output_type": "error",
     "traceback": [
      "\u001b[0;31m---------------------------------------------------------------------------\u001b[0m",
      "\u001b[0;31mValueError\u001b[0m                                Traceback (most recent call last)",
      "Cell \u001b[0;32mIn[77], line 1\u001b[0m\n\u001b[0;32m----> 1\u001b[0m \u001b[38;5;28mprint\u001b[39m(\u001b[38;5;124;43m\"\u001b[39;49m\u001b[38;5;132;43;01m{:s}\u001b[39;49;00m\u001b[38;5;124;43m\"\u001b[39;49m\u001b[38;5;241;43m.\u001b[39;49m\u001b[43mformat\u001b[49m\u001b[43m(\u001b[49m\u001b[38;5;241;43m12\u001b[39;49m\u001b[43m)\u001b[49m)\n",
      "\u001b[0;31mValueError\u001b[0m: Unknown format code 's' for object of type 'int'"
     ]
    }
   ],
   "source": [
    "print(\"{:s}\".format(12))\n"
   ]
  },
  {
   "cell_type": "markdown",
   "id": "5b7dd413-592e-49ad-a4b3-1297a75195aa",
   "metadata": {},
   "source": [
    "Bu yüzden, eğer amacınız format() metoduna parametre olarak karakter dizisi vermekse, {} işaretleri içinde herhangi bir harf kullanmamak daha akıllıca olabilir:"
   ]
  },
  {
   "cell_type": "code",
   "execution_count": 78,
   "id": "49b9c64f-0d10-497c-b1cf-8fbde9ea0d48",
   "metadata": {},
   "outputs": [
    {
     "name": "stdout",
     "output_type": "stream",
     "text": [
      "Python ve Django iyi bir ikilidir!\n"
     ]
    }
   ],
   "source": [
    "print(\"{} ve {} iyi bir ikilidir!\".format(\"Python\", \"Django\"))"
   ]
  },
  {
   "cell_type": "markdown",
   "id": "3c59cbf6-5be6-4bcd-aa35-528e5bd0ff7b",
   "metadata": {},
   "source": [
    "+++++++++++c\n",
    "\n",
    "\n",
    "Bu harf 0 ile 256 arası sayıların ASCII tablosundaki karşılıklarını temsil eder:\n",
    "\n"
   ]
  },
  {
   "cell_type": "code",
   "execution_count": 80,
   "id": "9e5733bb-53e4-4044-9175-cd691871e9d4",
   "metadata": {},
   "outputs": [
    {
     "name": "stdout",
     "output_type": "stream",
     "text": [
      "A\n"
     ]
    }
   ],
   "source": [
    "print(\"{:c}\".format(65))"
   ]
  },
  {
   "cell_type": "markdown",
   "id": "2d9e86c3-b0f9-4848-8096-4bb06b8cc5f7",
   "metadata": {},
   "source": [
    "++++++++++++++d\n",
    "\n",
    "\n",
    "Bu harf sayıları temsil eder:\n",
    "\n"
   ]
  },
  {
   "cell_type": "code",
   "execution_count": 81,
   "id": "c77b6cff-01ea-4c9a-9d38-c1fda75ec32e",
   "metadata": {},
   "outputs": [
    {
     "name": "stdout",
     "output_type": "stream",
     "text": [
      "65\n"
     ]
    }
   ],
   "source": [
    "print(\"{:d}\".format(65))"
   ]
  },
  {
   "cell_type": "markdown",
   "id": "5d2987f9-3230-4373-9327-0713ad6d772a",
   "metadata": {},
   "source": [
    "Eğer sayı dışında bir değer kullanırsanız Python size bir hata mesajı gösterir:"
   ]
  },
  {
   "cell_type": "code",
   "execution_count": 82,
   "id": "808d380b-5648-4857-8417-5c8cd39a5b1a",
   "metadata": {},
   "outputs": [
    {
     "ename": "ValueError",
     "evalue": "Unknown format code 'd' for object of type 'str'",
     "output_type": "error",
     "traceback": [
      "\u001b[0;31m---------------------------------------------------------------------------\u001b[0m",
      "\u001b[0;31mValueError\u001b[0m                                Traceback (most recent call last)",
      "Cell \u001b[0;32mIn[82], line 1\u001b[0m\n\u001b[0;32m----> 1\u001b[0m \u001b[38;5;28mprint\u001b[39m(\u001b[38;5;124;43m\"\u001b[39;49m\u001b[38;5;132;43;01m{:d}\u001b[39;49;00m\u001b[38;5;124;43m\"\u001b[39;49m\u001b[38;5;241;43m.\u001b[39;49m\u001b[43mformat\u001b[49m\u001b[43m(\u001b[49m\u001b[38;5;124;43m\"\u001b[39;49m\u001b[38;5;124;43m65\u001b[39;49m\u001b[38;5;124;43m\"\u001b[39;49m\u001b[43m)\u001b[49m)\n",
      "\u001b[0;31mValueError\u001b[0m: Unknown format code 'd' for object of type 'str'"
     ]
    }
   ],
   "source": [
    "print(\"{:d}\".format(\"65\"))"
   ]
  },
  {
   "cell_type": "markdown",
   "id": "1a0f6826-b8ee-4435-8cfd-2d2d9782edb4",
   "metadata": {},
   "source": [
    "++++++++++++++++++o\n",
    "\n",
    "\n",
    "\n",
    "Bu harf onlu düzendeki sayıları sekizli düzendeki karşılıklarına çevirir:\n",
    "\n"
   ]
  },
  {
   "cell_type": "code",
   "execution_count": 83,
   "id": "1f137218-e20f-4643-850e-14f75d62bc4b",
   "metadata": {},
   "outputs": [
    {
     "name": "stdout",
     "output_type": "stream",
     "text": [
      "101\n"
     ]
    }
   ],
   "source": [
    "print(\"{:o}\".format(65))"
   ]
  },
  {
   "cell_type": "markdown",
   "id": "8d160737-48b3-4021-a0bd-e80b3309adfd",
   "metadata": {},
   "source": [
    "++++++++++++x\n",
    "\n",
    "\n",
    "Bu harf onlu düzendeki sayıları onaltılı düzendeki karşılıklarına çevirir:\n",
    "\n"
   ]
  },
  {
   "cell_type": "code",
   "execution_count": 84,
   "id": "e3f432a3-beb6-433a-b10b-ab1e539a9be3",
   "metadata": {},
   "outputs": [
    {
     "name": "stdout",
     "output_type": "stream",
     "text": [
      "41\n"
     ]
    }
   ],
   "source": [
    "print(\"{:x}\".format(65))"
   ]
  },
  {
   "cell_type": "markdown",
   "id": "77fb554e-9095-4b7d-b7b0-5ba809849655",
   "metadata": {},
   "source": [
    "++++++++++++++X\n",
    "\n",
    "\n",
    "Tıpkı x harfinde olduğu gibi, bu harf de onlu düzendeki sayıları onaltılı düzendeki karşılıklarına çevirir:\n",
    "\n"
   ]
  },
  {
   "cell_type": "code",
   "execution_count": 85,
   "id": "f1dfe144-7119-44df-ae29-f0b7c9062674",
   "metadata": {},
   "outputs": [
    {
     "data": {
      "text/plain": [
       "'41'"
      ]
     },
     "execution_count": 85,
     "metadata": {},
     "output_type": "execute_result"
    }
   ],
   "source": [
    "\"{:X}\".format(65)"
   ]
  },
  {
   "cell_type": "markdown",
   "id": "a681c94f-e67b-49fe-8048-fc44e1851a2b",
   "metadata": {},
   "source": [
    "Peki x ile X harfi arasında ne fark var? Fark şudur: x; onaltılı düzende harfle gösterilen sayıları küçük harf şeklinde temsil eder. X işareti bu sayıları büyük harf şeklinde temsil eder. Bu ikisi arasındaki farkı daha net görmek için şöyle bir kod yazabilirsiniz:"
   ]
  },
  {
   "cell_type": "code",
   "execution_count": 86,
   "id": "b45db6f4-2ce1-4cd1-81c4-7cf08a18919a",
   "metadata": {},
   "outputs": [
    {
     "name": "stdout",
     "output_type": "stream",
     "text": [
      "0         0\n",
      "1         1\n",
      "2         2\n",
      "3         3\n",
      "4         4\n",
      "5         5\n",
      "6         6\n",
      "7         7\n",
      "8         8\n",
      "9         9\n",
      "a         A\n",
      "b         B\n",
      "c         C\n",
      "d         D\n",
      "e         E\n",
      "f         F\n",
      "10        10\n",
      "11        11\n",
      "12        12\n",
      "13        13\n"
     ]
    }
   ],
   "source": [
    "for i in range(20):\n",
    "    print(\"{:x}{:10X}\".format(i, i))"
   ]
  },
  {
   "cell_type": "markdown",
   "id": "fa16b939-6f0b-4408-aea2-1c575e48a1c2",
   "metadata": {},
   "source": [
    "Gördüğünüz gibi gerçekten de x harfi onaltılı düzende harflerle gösterilen sayıları küçük harf olarak; X harfi ise büyük harf olarak temsil ediyor."
   ]
  },
  {
   "cell_type": "markdown",
   "id": "07c6467a-c8b7-4eaa-a14d-f6c053f861c6",
   "metadata": {},
   "source": [
    "++++++++++b\n",
    "\n",
    "\n",
    "Bu işaret, onlu düzendeki sayıları ikili düzendeki karşılıklarına çevirir:"
   ]
  },
  {
   "cell_type": "code",
   "execution_count": 88,
   "id": "f87997cd-532f-4dc6-8531-a95421eb92d8",
   "metadata": {},
   "outputs": [
    {
     "data": {
      "text/plain": [
       "'10'"
      ]
     },
     "execution_count": 88,
     "metadata": {},
     "output_type": "execute_result"
    }
   ],
   "source": [
    "\"{:b}\".format(2)"
   ]
  },
  {
   "cell_type": "markdown",
   "id": "301e9f23-bfad-4c81-aff0-1f17e3fd3807",
   "metadata": {},
   "source": [
    "+++++++++++++++++f\n",
    "\n",
    "\n",
    "Bu işaret, eski biçimlendirme yöntemini anlatırken gösterdiğimiz f işaretiyle benzer bir işleve sahiptir:"
   ]
  },
  {
   "cell_type": "code",
   "execution_count": 89,
   "id": "c491b130-cc92-4564-b7ea-0c705796f4df",
   "metadata": {},
   "outputs": [
    {
     "name": "stdout",
     "output_type": "stream",
     "text": [
      "50.00\n"
     ]
    }
   ],
   "source": [
    "print(\"{:.2f}\".format(50))"
   ]
  },
  {
   "cell_type": "markdown",
   "id": "d4a8bfe7-0cf9-44b4-a964-e8fd4e7727b2",
   "metadata": {},
   "source": [
    "+++++++++++++++++,\n",
    "\n",
    "\n",
    ": işaretini , işareti (basamak ayracı) ile birlikte kullanarak, sayıları basamaklarına ayırabilirsiniz:"
   ]
  },
  {
   "cell_type": "code",
   "execution_count": 90,
   "id": "3d5f0c46-705f-464d-b19f-6b459a38a2bb",
   "metadata": {},
   "outputs": [
    {
     "data": {
      "text/plain": [
       "'1,234,567,890'"
      ]
     },
     "execution_count": 90,
     "metadata": {},
     "output_type": "execute_result"
    }
   ],
   "source": [
    "\"{:,}\".format(1234567890)"
   ]
  },
  {
   "cell_type": "markdown",
   "id": "efde2727-d4b0-4aee-bd3f-9711b7dc8973",
   "metadata": {},
   "source": [
    "Böylece Python’da karakter dizisi biçimlendirmenin hem eski hem de yeni yöntemini, şu ana kadarki Python bilgimiz elverdiği ölçüde ayrıntılı bir şekilde incelemiş olduk. Buradaki bilgileri kullanarak bol bol örnek yapmak bu konuyu daha iyi anlamanıza yardımcı olacaktır."
   ]
  },
  {
   "cell_type": "code",
   "execution_count": null,
   "id": "35192aa2-2f06-4e26-8020-4a05238898a5",
   "metadata": {},
   "outputs": [],
   "source": []
  }
 ],
 "metadata": {
  "kernelspec": {
   "display_name": "Python 3 (ipykernel)",
   "language": "python",
   "name": "python3"
  },
  "language_info": {
   "codemirror_mode": {
    "name": "ipython",
    "version": 3
   },
   "file_extension": ".py",
   "mimetype": "text/x-python",
   "name": "python",
   "nbconvert_exporter": "python",
   "pygments_lexer": "ipython3",
   "version": "3.10.12"
  }
 },
 "nbformat": 4,
 "nbformat_minor": 5
}
