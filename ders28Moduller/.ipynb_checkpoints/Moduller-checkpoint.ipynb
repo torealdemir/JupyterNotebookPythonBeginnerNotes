{
 "cells": [
  {
   "cell_type": "markdown",
   "id": "14b74309-d6e2-42fd-a447-2e1c9439ccc6",
   "metadata": {},
   "source": [
    "++++++++++++Modüller\n",
    "\n",
    "Bu bölümde, geçen derste ayrıntılı olarak incelediğimiz ‘Fonksiyonlar’ kadar önemli bir konuyu ele alacağız. Bu önemli konunun adı ‘modüller’.\n",
    "\n",
    "Biz şimdiye kadar modül konusunu hiç ayrıntılı olarak ele almamış olsak da esasında siz modül kavramına büsbütün yabancı sayılmazsınız. Zira biz önceki derslerimizde zaman zaman modüllerden söz etmiş, hatta yeri geldiğinde bunları kodlarımız içinde kullanmaktan da çekinmemiştik.\n",
    "\n",
    "Bu konuya gelene kadar, çeşitli bölümlerde şu modüllerden bahsettiğimizi hatırlıyorsunuzdur:\n",
    "\n",
    "sys\n",
    "\n",
    "os\n",
    "\n",
    "keyword\n",
    "\n",
    "random\n",
    "\n",
    "unicodedata\n",
    "\n",
    "locale\n",
    "\n",
    "İşte şimdi, daha önce farklı bölümlerde şöyle bir temas edip geçtiğimiz modüller konusunu bu bölümde derinlemesine incelemeye çalışacağız.\n",
    "\n",
    "+++++++++++Modül Nedir?\n",
    "\n",
    "Dediğimiz gibi, bu bölümde Python’daki en önemli konulardan biri olan modüllerden söz edeceğiz. Ancak modülleri kullanabilmek için elbette öncelikle ‘modül’ denen şeyin ne olduğunu iyice bir anlamamız gerekiyor. Peki, nedir bu modül denen şey?\n",
    "\n",
    "Bu soruyu, şimdiye kadar gördüğümüz modüllere bakarak cevaplayacak olursak, modüllerin, bazı işlevleri kolaylıkla yerine getirmemizi sağlayan birtakım fonksiyonları ve nitelikleri içinde barındıran araçlar olduğunu söyleyebiliriz.\n",
    "\n",
    "Mesela ‘Kümeler ve Dondurulmuş Kümeler’ adlı bölümde random adlı bir modüle değindiğimizi hatırlıyor olmalısınız. Orada bu modülle ilgili şöyle bir örnek vermiştik:\n",
    "\n"
   ]
  },
  {
   "cell_type": "code",
   "execution_count": null,
   "id": "04024cc1-fe01-4778-b4eb-524393aecfe0",
   "metadata": {},
   "outputs": [],
   "source": [
    "liste = [random.randint(0, 10000) for i in range(1000)]\n"
   ]
  },
  {
   "cell_type": "markdown",
   "id": "2a229983-5ec9-4a34-a4fa-47ce12e27fda",
   "metadata": {},
   "source": [
    "Bu örnekte, random adlı modülün içindeki randint() adlı faydalı bir fonksiyondan yararlanarak 0 ile 10.000 sayıları arasında 1000 adet rastgele sayı içeren bir liste oluşturmuştuk. Dolayısıyla, yukarıdaki tanımda da belirttiğimiz gibi, bir modül olan random, örnekte bahsettiğimiz işlevi kolaylıkla yerine getirmemizi sağlayan bir fonksiyon barındırıyor. Biz de bu fonksiyonu kullanarak amacımızı rahatlıkla yerine getirebiliyoruz.\n",
    "\n",
    "random modülünün dışında, önceki derslerimizde şöyle bir değinip geçtiğimiz, sys, os ve locale gibi modüllerin de çeşitli görevleri kolayca yerine getirmemizi sağlayan birtakım araçlar barındırdığını görmüştük.\n",
    "\n",
    "İşin doğrusu, modül denen şey Python programlama dilinin bel kemiğidir. Eğer modüller olmasaydı, Python programlama dili hem çok kullanışsız bir dil olurdu, hem de modüller sayesinde çok kolay bir şekilde üstesinden gelebildiğimiz zorluklar için her defasında kendimiz yeniden bir çözüm icat etmek zorunda kalırdık.\n",
    "\n",
    "Belki bu iddialı laf size şu anda pek anlamlı gelmemiş olabilir. Şu ana kadar modüllerle ilgili öğrendikleriniz, henüz zihninizde bu lafın iddiasını teyit etmiyor olabilir. Ama modüllerin neden bu kadar önemli olduğunu birazdan çok daha net bir şekilde anlayacaksınız. Şimdilik okumaya devam edin.\n",
    "\n",
    "Hatırlarsanız bir önceki bölümde Python’daki fonksiyonlardan bahsetmiştik. Yine hatırlarsanız o bölümde pek çok örnek fonksiyon da tanımlamıştık. Mesela kayıt_oluştur() adlı şöyle bir fonksiyon tanımladığımızı hatırlıyor olmalısınız:"
   ]
  },
  {
   "cell_type": "code",
   "execution_count": null,
   "id": "58f772c6-bdbe-405f-ba69-ef0e1d0024cc",
   "metadata": {},
   "outputs": [],
   "source": [
    "def kayıt_oluştur(isim, soyisim, işsis, şehir):\n",
    "    print(\"-\"*30)\n",
    "\n",
    "    print(\"isim           : \", isim)\n",
    "    print(\"soyisim        : \", soyisim)\n",
    "    print(\"işletim sistemi: \", işsis)\n",
    "    print(\"şehir          : \", şehir)\n",
    "\n",
    "    print(\"-\"*30)\n"
   ]
  },
  {
   "cell_type": "markdown",
   "id": "8364cbeb-bb77-4ce0-a1c6-da3778e756ad",
   "metadata": {},
   "source": [
    "Bu fonksiyonu bir kez tanımladıktan sonra, bu fonksiyonu aynı program içinde istediğimiz kadar kullanabiliyoruz. Yani kayıt_oluştur adlı bir fonksiyon tanımlamış olmamız sayesinde, bu fonksiyonun gövdesinde belirttiğimiz işlemleri her defasında tekrar tekrar yapmak zorunda kalmıyoruz; bütün bu işlemleri tek bir ‘kayıt_oluştur’ ismine atamış olduğumuz için, bu fonksiyonun bize sunduğu işleve ihtiyaç duyduğumuz her yerde bu fonksiyonu kullanabiliyoruz. Örneğin:"
   ]
  },
  {
   "cell_type": "raw",
   "id": "e42bb978-c6a4-4b5f-9329-39fcd393025d",
   "metadata": {},
   "source": [
    "kayıt_oluştur('Fırat', 'Özgül', 'Debian', 'Arsuz')\n"
   ]
  },
  {
   "cell_type": "markdown",
   "id": "ceb589c2-f27d-46c5-a585-68d8c84a8bfe",
   "metadata": {},
   "source": [
    "Ya da:\n",
    "\n"
   ]
  },
  {
   "cell_type": "raw",
   "id": "43bc7464-fb59-4440-a8c0-4538153bb8e9",
   "metadata": {},
   "source": [
    "kayıt_oluştur('Zerrin', 'Söz', 'Ubuntu', 'Bolvadin')\n"
   ]
  },
  {
   "cell_type": "markdown",
   "id": "211c8b8b-c5b4-4de7-b849-9d644ed8be43",
   "metadata": {},
   "source": [
    "Eğer yukarıdaki işlevselliği bir fonksiyon olarak tanımlamış olmasaydık, kayıt_oluştur('Fırat', 'Özgül', 'Debian', 'Arsuz') kodunun verdiği çıktıyı elde etmek için şu kodları yazmak zorunda kalacaktık:\n",
    "\n"
   ]
  },
  {
   "cell_type": "code",
   "execution_count": null,
   "id": "32e44996-fd17-4a6b-afd2-3f082f7dfa81",
   "metadata": {},
   "outputs": [],
   "source": [
    "print(\"-\"*30)\n",
    "\n",
    "print(\"isim           : \", \"Fırat\")\n",
    "print(\"soyisim        : \", \"Özgül\")\n",
    "print(\"işletim sistemi: \", \"Debian\")\n",
    "print(\"şehir          : \", \"Arsuz\")\n",
    "\n",
    "print(\"-\"*30)"
   ]
  },
  {
   "cell_type": "markdown",
   "id": "fe76ff75-a0ac-4a6a-91c2-042166940f4a",
   "metadata": {},
   "source": [
    "Burada isim, soyisim, işletim sistemi ve şehir bilgileri değiştiğinde de her defasında aynı şeyleri uzun uzadıya tekrar tekrar yazmamız gerekecekti:"
   ]
  },
  {
   "cell_type": "code",
   "execution_count": null,
   "id": "0b8dc578-6d8a-4c5c-a613-33fe204bbb86",
   "metadata": {},
   "outputs": [],
   "source": [
    "print(\"-\"*30)\n",
    "\n",
    "print(\"isim           : \", \"Zerrin\")\n",
    "print(\"soyisim        : \", \"Söz\")\n",
    "print(\"işletim sistemi: \", \"Ubuntu\")\n",
    "print(\"şehir          : \", \"Bolvadin\")\n",
    "\n",
    "print(\"-\"*30)"
   ]
  },
  {
   "cell_type": "markdown",
   "id": "504e6b35-6d21-42dd-b137-74160bfe3435",
   "metadata": {},
   "source": [
    "İşte modüller de buna benzer bir vazife görür. Yani Python’ın fonksiyon sistemi nasıl bize bir işlevselliği aynı dosya içinde tekrar tekrar kullanma imkanı veriyorsa, modül sistemi de bir fonksiyonu farklı dosyalar ve programlar içinde tekrar tekrar kullanma imkanı verir.\n",
    "\n",
    "Dolayısıyla, eğer modül sistemi olmasaydı, biz bir kez yazdığımız (veya başka bir Python programcısı tarafından yazılmış) kayıt_oluştur() fonksiyonunu başka bir programda da kullanmak istediğimizde, bu fonksiyonu alıp her defasında yeni programa elle kopyalamak zorunda kalırdık. Ama modül sistemi sayesinde, bir program içinde bulunan fonksiyonları (ve diğer nitelikleri) başka Python programları içine ‘aktarabiliyoruz’. Böylece bir Python programındaki (veya modülündeki) işlevsellikten, başka bir Python programında da yararlanabiliyoruz. Dolayısıyla modüller sayesinde, bir kez yazdığımız kodları pek çok farklı program içinde kullanma imkanı elde ediyoruz. Bu da bizim;\n",
    "\n",
    "Daha az kod yazmamızı,\n",
    "\n",
    "Bir kez yazdığımız kodları tekrar tekrar kullanabilmemizi,\n",
    "\n",
    "Daha düzenli, daha derli toplu bir şekilde çalışabilmemizi\n",
    "\n",
    "sağlıyor.\n",
    "\n",
    "İşte bu bölümde, modüllerin bütün bu işlevleri nasıl yerine getirdiğini, modül denen şeyden nasıl faydalanabileceğimizi ve modüllerin neden bu kadar önemli olduğunu öğreneceğiz. Dilerseniz lafı daha fazla dolandırmadan modüller konusuna hızlı bir giriş yapalım.\n",
    "\n",
    "+++++++++++++Hazır Modüller\n",
    "\n",
    "Hatırlarsanız, Python’da iki farklı fonksiyon türü olduğundan söz etmiştik:\n",
    "\n",
    "Kendi tanımladığımız fonksiyonlar\n",
    "\n",
    "Gömülü (‘built-in’) fonksiyonlar\n",
    "\n",
    "Aynı şekilde modüller de iki farklı başlık altında incelenebilir:\n",
    "\n",
    "Kendi tanımladığımız modüller\n",
    "\n",
    "Hazır modüller\n",
    "\n",
    "Biz burada öncelikle hazır modülleri ele alacağız. Bu şekilde modül kavramını iyice anladıktan sonra da kendi modüllerimizi nasıl yazacağımızı öğreneceğiz.\n",
    "\n",
    "Hazır modüller, Python geliştiricilerinin veya bizim dışımızdaki Python programcılarının yazıp hizmetimize sunduğu modüllerdir.\n",
    "\n",
    "Hazır modüller de kendi içinde ikiye ayrılabilir:\n",
    "\n",
    "Standart Kütüphane Modülleri\n",
    "\n",
    "Üçüncü Şahıs Modülleri\n",
    "\n",
    "Standart Kütüphane Modülleri, doğrudan Python geliştiricileri tarafından yazılıp dile kaynaştırılmış modüllerdir. Bu yönüyle bu modüller daha önce öğrendiğimiz gömülü fonksiyonlara çok benzer. Tıpkı gömülü fonksiyonlarda olduğu gibi, Standart Kütüphane Modülleri de her an emrimize amadedir. Biz bunları istediğimiz her an, herhangi bir ek yazılım kurmak zorunda kalmadan, kendi programlarımız içinde kullanabiliriz.\n",
    "\n",
    "Python’ın Standart Kütüphanesi içinde hangi modüllerin olduğunu https://docs.python.org/3/library/ adresinden inceleyebilirsiniz.\n",
    "Standart Kütüphane içinde, Python ile programlama yaparken işlerinizi bir hayli kolaylaştıracak pek çok modül bulacaksınız.\n",
    "\n",
    "Başta da söylediğimiz gibi, biz bu bölüme gelinceye kadar üstünkörü de olsa modüllerden söz etmiştik. Örneğin önceki derslerimizde andığımız sys, os, random ve benzeri modüller hep birer Standart Kütüphane modülüdür. Dolayısıyla bu modüllerin sunduğu işlevsellikten kendi programlarımızda istediğimiz her an yararlanabiliriz.\n",
    "\n",
    "+++++++++++++Modüllerin İçe Aktarılması\n",
    "\n",
    "Python’da herhangi bir modülü kullanabilmek için öncelikle onu ‘içe aktarmamız’ gerekir. İçe aktarmak, bir modül içindeki fonksiyon ve nitelikleri başka bir program (veya ortam) içinden kullanılabilir hale getirmek demektir. İsterseniz bu soyut tanımlamayı bir örnek ile somutlaştıralım. Mesela, bir Standart Kütüphane modülü olduğunu öğrendiğimiz ve önceki derslerimizde de değindiğimiz os adlı modülü içe aktaralım. Bunun için öncelikle etkileşimli kabuğu çalıştıralım ve şu komutu verelim:\n",
    "\n"
   ]
  },
  {
   "cell_type": "code",
   "execution_count": 1,
   "id": "4092ba5b-aa2f-49af-b769-9944f5e12d99",
   "metadata": {},
   "outputs": [],
   "source": [
    "import os\n"
   ]
  },
  {
   "cell_type": "markdown",
   "id": "d940cb05-d338-4337-a2bb-2c0bb5f944fe",
   "metadata": {},
   "source": [
    "Böylece os adlı modülü içe aktarmış, yani bu modül içindeki fonksiyon ve nitelikleri kullanılabilir hale getirmiş olduk.\n",
    "\n",
    "Hatırlarsanız ‘modül’ kavramını tanımlarken, bunların bize birtakım yararlı fonksiyonlar ve nitelikler sunan araçlar olduğunu söylemiştik. İşte, mesela bu os modülünün bize hangi yararlı fonksiyonları ve nitelikleri sunduğunu öğrenmek için dir() fonksiyonunu kullanabiliriz:"
   ]
  },
  {
   "cell_type": "code",
   "execution_count": 2,
   "id": "70843765-4372-4c36-ab23-1357849d94a1",
   "metadata": {},
   "outputs": [
    {
     "data": {
      "text/plain": [
       "['CLD_CONTINUED',\n",
       " 'CLD_DUMPED',\n",
       " 'CLD_EXITED',\n",
       " 'CLD_KILLED',\n",
       " 'CLD_STOPPED',\n",
       " 'CLD_TRAPPED',\n",
       " 'DirEntry',\n",
       " 'EFD_CLOEXEC',\n",
       " 'EFD_NONBLOCK',\n",
       " 'EFD_SEMAPHORE',\n",
       " 'EX_CANTCREAT',\n",
       " 'EX_CONFIG',\n",
       " 'EX_DATAERR',\n",
       " 'EX_IOERR',\n",
       " 'EX_NOHOST',\n",
       " 'EX_NOINPUT',\n",
       " 'EX_NOPERM',\n",
       " 'EX_NOUSER',\n",
       " 'EX_OK',\n",
       " 'EX_OSERR',\n",
       " 'EX_OSFILE',\n",
       " 'EX_PROTOCOL',\n",
       " 'EX_SOFTWARE',\n",
       " 'EX_TEMPFAIL',\n",
       " 'EX_UNAVAILABLE',\n",
       " 'EX_USAGE',\n",
       " 'F_LOCK',\n",
       " 'F_OK',\n",
       " 'F_TEST',\n",
       " 'F_TLOCK',\n",
       " 'F_ULOCK',\n",
       " 'GRND_NONBLOCK',\n",
       " 'GRND_RANDOM',\n",
       " 'GenericAlias',\n",
       " 'MFD_ALLOW_SEALING',\n",
       " 'MFD_CLOEXEC',\n",
       " 'MFD_HUGETLB',\n",
       " 'MFD_HUGE_16GB',\n",
       " 'MFD_HUGE_16MB',\n",
       " 'MFD_HUGE_1GB',\n",
       " 'MFD_HUGE_1MB',\n",
       " 'MFD_HUGE_256MB',\n",
       " 'MFD_HUGE_2GB',\n",
       " 'MFD_HUGE_2MB',\n",
       " 'MFD_HUGE_32MB',\n",
       " 'MFD_HUGE_512KB',\n",
       " 'MFD_HUGE_512MB',\n",
       " 'MFD_HUGE_64KB',\n",
       " 'MFD_HUGE_8MB',\n",
       " 'MFD_HUGE_MASK',\n",
       " 'MFD_HUGE_SHIFT',\n",
       " 'Mapping',\n",
       " 'MutableMapping',\n",
       " 'NGROUPS_MAX',\n",
       " 'O_ACCMODE',\n",
       " 'O_APPEND',\n",
       " 'O_ASYNC',\n",
       " 'O_CLOEXEC',\n",
       " 'O_CREAT',\n",
       " 'O_DIRECT',\n",
       " 'O_DIRECTORY',\n",
       " 'O_DSYNC',\n",
       " 'O_EXCL',\n",
       " 'O_FSYNC',\n",
       " 'O_LARGEFILE',\n",
       " 'O_NDELAY',\n",
       " 'O_NOATIME',\n",
       " 'O_NOCTTY',\n",
       " 'O_NOFOLLOW',\n",
       " 'O_NONBLOCK',\n",
       " 'O_PATH',\n",
       " 'O_RDONLY',\n",
       " 'O_RDWR',\n",
       " 'O_RSYNC',\n",
       " 'O_SYNC',\n",
       " 'O_TMPFILE',\n",
       " 'O_TRUNC',\n",
       " 'O_WRONLY',\n",
       " 'POSIX_FADV_DONTNEED',\n",
       " 'POSIX_FADV_NOREUSE',\n",
       " 'POSIX_FADV_NORMAL',\n",
       " 'POSIX_FADV_RANDOM',\n",
       " 'POSIX_FADV_SEQUENTIAL',\n",
       " 'POSIX_FADV_WILLNEED',\n",
       " 'POSIX_SPAWN_CLOSE',\n",
       " 'POSIX_SPAWN_DUP2',\n",
       " 'POSIX_SPAWN_OPEN',\n",
       " 'PRIO_PGRP',\n",
       " 'PRIO_PROCESS',\n",
       " 'PRIO_USER',\n",
       " 'P_ALL',\n",
       " 'P_NOWAIT',\n",
       " 'P_NOWAITO',\n",
       " 'P_PGID',\n",
       " 'P_PID',\n",
       " 'P_PIDFD',\n",
       " 'P_WAIT',\n",
       " 'PathLike',\n",
       " 'RTLD_DEEPBIND',\n",
       " 'RTLD_GLOBAL',\n",
       " 'RTLD_LAZY',\n",
       " 'RTLD_LOCAL',\n",
       " 'RTLD_NODELETE',\n",
       " 'RTLD_NOLOAD',\n",
       " 'RTLD_NOW',\n",
       " 'RWF_APPEND',\n",
       " 'RWF_DSYNC',\n",
       " 'RWF_HIPRI',\n",
       " 'RWF_NOWAIT',\n",
       " 'RWF_SYNC',\n",
       " 'R_OK',\n",
       " 'SCHED_BATCH',\n",
       " 'SCHED_FIFO',\n",
       " 'SCHED_IDLE',\n",
       " 'SCHED_OTHER',\n",
       " 'SCHED_RESET_ON_FORK',\n",
       " 'SCHED_RR',\n",
       " 'SEEK_CUR',\n",
       " 'SEEK_DATA',\n",
       " 'SEEK_END',\n",
       " 'SEEK_HOLE',\n",
       " 'SEEK_SET',\n",
       " 'SPLICE_F_MORE',\n",
       " 'SPLICE_F_MOVE',\n",
       " 'SPLICE_F_NONBLOCK',\n",
       " 'ST_APPEND',\n",
       " 'ST_MANDLOCK',\n",
       " 'ST_NOATIME',\n",
       " 'ST_NODEV',\n",
       " 'ST_NODIRATIME',\n",
       " 'ST_NOEXEC',\n",
       " 'ST_NOSUID',\n",
       " 'ST_RDONLY',\n",
       " 'ST_RELATIME',\n",
       " 'ST_SYNCHRONOUS',\n",
       " 'ST_WRITE',\n",
       " 'TMP_MAX',\n",
       " 'WCONTINUED',\n",
       " 'WCOREDUMP',\n",
       " 'WEXITED',\n",
       " 'WEXITSTATUS',\n",
       " 'WIFCONTINUED',\n",
       " 'WIFEXITED',\n",
       " 'WIFSIGNALED',\n",
       " 'WIFSTOPPED',\n",
       " 'WNOHANG',\n",
       " 'WNOWAIT',\n",
       " 'WSTOPPED',\n",
       " 'WSTOPSIG',\n",
       " 'WTERMSIG',\n",
       " 'WUNTRACED',\n",
       " 'W_OK',\n",
       " 'XATTR_CREATE',\n",
       " 'XATTR_REPLACE',\n",
       " 'XATTR_SIZE_MAX',\n",
       " 'X_OK',\n",
       " '_Environ',\n",
       " '__all__',\n",
       " '__builtins__',\n",
       " '__cached__',\n",
       " '__doc__',\n",
       " '__file__',\n",
       " '__loader__',\n",
       " '__name__',\n",
       " '__package__',\n",
       " '__spec__',\n",
       " '_check_methods',\n",
       " '_execvpe',\n",
       " '_exists',\n",
       " '_exit',\n",
       " '_fspath',\n",
       " '_fwalk',\n",
       " '_get_exports_list',\n",
       " '_spawnvef',\n",
       " '_walk',\n",
       " '_wrap_close',\n",
       " 'abc',\n",
       " 'abort',\n",
       " 'access',\n",
       " 'altsep',\n",
       " 'chdir',\n",
       " 'chmod',\n",
       " 'chown',\n",
       " 'chroot',\n",
       " 'close',\n",
       " 'closerange',\n",
       " 'confstr',\n",
       " 'confstr_names',\n",
       " 'copy_file_range',\n",
       " 'cpu_count',\n",
       " 'ctermid',\n",
       " 'curdir',\n",
       " 'defpath',\n",
       " 'device_encoding',\n",
       " 'devnull',\n",
       " 'dup',\n",
       " 'dup2',\n",
       " 'environ',\n",
       " 'environb',\n",
       " 'error',\n",
       " 'eventfd',\n",
       " 'eventfd_read',\n",
       " 'eventfd_write',\n",
       " 'execl',\n",
       " 'execle',\n",
       " 'execlp',\n",
       " 'execlpe',\n",
       " 'execv',\n",
       " 'execve',\n",
       " 'execvp',\n",
       " 'execvpe',\n",
       " 'extsep',\n",
       " 'fchdir',\n",
       " 'fchmod',\n",
       " 'fchown',\n",
       " 'fdatasync',\n",
       " 'fdopen',\n",
       " 'fork',\n",
       " 'forkpty',\n",
       " 'fpathconf',\n",
       " 'fsdecode',\n",
       " 'fsencode',\n",
       " 'fspath',\n",
       " 'fstat',\n",
       " 'fstatvfs',\n",
       " 'fsync',\n",
       " 'ftruncate',\n",
       " 'fwalk',\n",
       " 'get_blocking',\n",
       " 'get_exec_path',\n",
       " 'get_inheritable',\n",
       " 'get_terminal_size',\n",
       " 'getcwd',\n",
       " 'getcwdb',\n",
       " 'getegid',\n",
       " 'getenv',\n",
       " 'getenvb',\n",
       " 'geteuid',\n",
       " 'getgid',\n",
       " 'getgrouplist',\n",
       " 'getgroups',\n",
       " 'getloadavg',\n",
       " 'getlogin',\n",
       " 'getpgid',\n",
       " 'getpgrp',\n",
       " 'getpid',\n",
       " 'getppid',\n",
       " 'getpriority',\n",
       " 'getrandom',\n",
       " 'getresgid',\n",
       " 'getresuid',\n",
       " 'getsid',\n",
       " 'getuid',\n",
       " 'getxattr',\n",
       " 'initgroups',\n",
       " 'isatty',\n",
       " 'kill',\n",
       " 'killpg',\n",
       " 'lchown',\n",
       " 'linesep',\n",
       " 'link',\n",
       " 'listdir',\n",
       " 'listxattr',\n",
       " 'lockf',\n",
       " 'lseek',\n",
       " 'lstat',\n",
       " 'major',\n",
       " 'makedev',\n",
       " 'makedirs',\n",
       " 'memfd_create',\n",
       " 'minor',\n",
       " 'mkdir',\n",
       " 'mkfifo',\n",
       " 'mknod',\n",
       " 'name',\n",
       " 'nice',\n",
       " 'open',\n",
       " 'openpty',\n",
       " 'pardir',\n",
       " 'path',\n",
       " 'pathconf',\n",
       " 'pathconf_names',\n",
       " 'pathsep',\n",
       " 'pidfd_open',\n",
       " 'pipe',\n",
       " 'pipe2',\n",
       " 'popen',\n",
       " 'posix_fadvise',\n",
       " 'posix_fallocate',\n",
       " 'posix_spawn',\n",
       " 'posix_spawnp',\n",
       " 'pread',\n",
       " 'preadv',\n",
       " 'putenv',\n",
       " 'pwrite',\n",
       " 'pwritev',\n",
       " 'read',\n",
       " 'readlink',\n",
       " 'readv',\n",
       " 'register_at_fork',\n",
       " 'remove',\n",
       " 'removedirs',\n",
       " 'removexattr',\n",
       " 'rename',\n",
       " 'renames',\n",
       " 'replace',\n",
       " 'rmdir',\n",
       " 'scandir',\n",
       " 'sched_get_priority_max',\n",
       " 'sched_get_priority_min',\n",
       " 'sched_getaffinity',\n",
       " 'sched_getparam',\n",
       " 'sched_getscheduler',\n",
       " 'sched_param',\n",
       " 'sched_rr_get_interval',\n",
       " 'sched_setaffinity',\n",
       " 'sched_setparam',\n",
       " 'sched_setscheduler',\n",
       " 'sched_yield',\n",
       " 'sendfile',\n",
       " 'sep',\n",
       " 'set_blocking',\n",
       " 'set_inheritable',\n",
       " 'setegid',\n",
       " 'seteuid',\n",
       " 'setgid',\n",
       " 'setgroups',\n",
       " 'setpgid',\n",
       " 'setpgrp',\n",
       " 'setpriority',\n",
       " 'setregid',\n",
       " 'setresgid',\n",
       " 'setresuid',\n",
       " 'setreuid',\n",
       " 'setsid',\n",
       " 'setuid',\n",
       " 'setxattr',\n",
       " 'spawnl',\n",
       " 'spawnle',\n",
       " 'spawnlp',\n",
       " 'spawnlpe',\n",
       " 'spawnv',\n",
       " 'spawnve',\n",
       " 'spawnvp',\n",
       " 'spawnvpe',\n",
       " 'splice',\n",
       " 'st',\n",
       " 'stat',\n",
       " 'stat_result',\n",
       " 'statvfs',\n",
       " 'statvfs_result',\n",
       " 'strerror',\n",
       " 'supports_bytes_environ',\n",
       " 'supports_dir_fd',\n",
       " 'supports_effective_ids',\n",
       " 'supports_fd',\n",
       " 'supports_follow_symlinks',\n",
       " 'symlink',\n",
       " 'sync',\n",
       " 'sys',\n",
       " 'sysconf',\n",
       " 'sysconf_names',\n",
       " 'system',\n",
       " 'tcgetpgrp',\n",
       " 'tcsetpgrp',\n",
       " 'terminal_size',\n",
       " 'times',\n",
       " 'times_result',\n",
       " 'truncate',\n",
       " 'ttyname',\n",
       " 'umask',\n",
       " 'uname',\n",
       " 'uname_result',\n",
       " 'unlink',\n",
       " 'unsetenv',\n",
       " 'urandom',\n",
       " 'utime',\n",
       " 'wait',\n",
       " 'wait3',\n",
       " 'wait4',\n",
       " 'waitid',\n",
       " 'waitid_result',\n",
       " 'waitpid',\n",
       " 'waitstatus_to_exitcode',\n",
       " 'walk',\n",
       " 'write',\n",
       " 'writev']"
      ]
     },
     "execution_count": 2,
     "metadata": {},
     "output_type": "execute_result"
    }
   ],
   "source": [
    "dir(os)\n"
   ]
  },
  {
   "cell_type": "markdown",
   "id": "070cdd1a-be6c-430a-93c7-046762646fbb",
   "metadata": {},
   "source": [
    "Gördüğünüz gibi bu modül pek çok fonksiyon ve nitelik barındırıyor.\n",
    "\n",
    "Bu modüle adını veren os kelimesi operating system (işletim sistemi) ifadesinin kısaltmasıdır. Bu modül, kullandığımız işletim sistemine ilişkin işlemler yapabilmemiz için bize çeşitli fonksiyonlar ve nitelikler sunar. Hemen bir örnek verelim.\n",
    "\n",
    "Diyelim ki bir program yazdınız. Ancak yazdığınız bu programın yalnızca Windows işletim sisteminde çalışmasını istiyorsunuz. Buna göre, eğer programınız Windows işletim sistemi kurulu bir bilgisayarda çalıştırılırsa programınızın normal bir şekilde başlamasını, ama eğer Windows dışı bir işletim sisteminde çalıştırılırsa da kullanıcıya bir uyarı mesajı verilmesini istiyorsunuz.\n",
    "\n",
    "İşte bunun için os modülünden yararlanabilirsiniz. Şimdi dir(os) komutuyla elde ettiğimiz listeye bakalım. Orada name adlı bir nitelik olduğunu göreceksiniz. Bu nitelik, bize kodlarımızın hangi işletim sisteminde çalıştığını gösterir. Dolayısıyla da yukarıda tarif ettiğimiz iş için gayet uygun bir araçtır.\n",
    "\n",
    "Önceden import os komutuyla os modülünü içe aktarmış olduğumuzu varsayarsak, modülün bu niteliğini şöyle kullanıyoruz:\n",
    "\n"
   ]
  },
  {
   "cell_type": "code",
   "execution_count": 3,
   "id": "99899eab-8747-496d-aa95-0e9ce0d9e985",
   "metadata": {},
   "outputs": [
    {
     "data": {
      "text/plain": [
       "'posix'"
      ]
     },
     "execution_count": 3,
     "metadata": {},
     "output_type": "execute_result"
    }
   ],
   "source": [
    "os.name\n"
   ]
  },
  {
   "cell_type": "markdown",
   "id": "48ff4e0d-f368-4e45-b705-b7191ac8ed97",
   "metadata": {},
   "source": [
    "os adlı modülün içindeki name niteliğine nasıl eriştiğimize çok dikkat edin. Önce modülümüzün adı olan ‘os’u yazıyoruz. Ardından bir nokta işareti koyup, ihtiyacımız olan niteliğin adını belirtiyoruz. Yani şöyle bir formül takip ediyoruz:"
   ]
  },
  {
   "cell_type": "raw",
   "id": "5a67d19d-3036-4886-b620-21b162b8a29b",
   "metadata": {},
   "source": [
    "modül_adı.fonksiyon_veya_nitelik\n"
   ]
  },
  {
   "cell_type": "markdown",
   "id": "eab98e16-7fff-4f99-8d5c-058f4e794aab",
   "metadata": {},
   "source": [
    "os.name komutu, kullandığınız işletim sistemine bağlı olarak farklı çıktılar verir. Eğer bu komutu bir GNU/Linux dağıtımında veya bir Mac bilgisayarda verirsek yukarıdaki gibi ‘posix’ çıktısı alırız. Ama eğer aynı komutu Windows’ta verirsek ‘nt’ çıktısı alırız. Dolayısıyla os modülünün name niteliğini kullanarak, yazdığımız bir programın hangi işletim sisteminde çalıştığını denetleyebiliriz:\n",
    "\n"
   ]
  },
  {
   "cell_type": "code",
   "execution_count": 4,
   "id": "2f993955-8721-4d16-93b0-2a1f4f196ecd",
   "metadata": {},
   "outputs": [
    {
     "name": "stdout",
     "output_type": "stream",
     "text": [
      "Kusura bakmayın! Bu programı yalnızca Windows'ta kullanabilirsiniz!\n"
     ]
    }
   ],
   "source": [
    "if os.name != 'nt':\n",
    "    print('Kusura bakmayın! Bu programı yalnızca',\n",
    "    'Windows\\'ta kullanabilirsiniz!')\n",
    "else:\n",
    "    print('Hoşgeldin Windows kullanıcısı!')"
   ]
  },
  {
   "cell_type": "markdown",
   "id": "a0df189d-1421-423b-8892-53a5e0b28322",
   "metadata": {},
   "source": [
    "Etkileşimli kabukta yazdığımız bu programı gelin bir de bir metin dosyasına kaydedelim. Zira biz henüz modülleri öğrenme aşamasında olduğumuz için şimdilik bunları etkileşimli kabukta test ediyor olsak da, gerçek hayatta programlarımızı etkileşimli kabuğa değil, program dosyaları içine yazacağız.\n",
    "\n",
    "Yukarıdaki kodları bir dosyaya kaydettiğimizde programımız şöyle görünür:\n",
    "\n"
   ]
  },
  {
   "cell_type": "code",
   "execution_count": null,
   "id": "9b78958d-63ee-4c06-8247-fbf72d98da14",
   "metadata": {},
   "outputs": [],
   "source": [
    "import os\n",
    "\n",
    "if os.name != 'nt':\n",
    "    print('Kusura bakmayın! Bu programı yalnızca',\n",
    "          'Windows\\'ta kullanabilirsiniz!')\n",
    "else:\n",
    "    print('Hoşgeldin Windows kullanıcısı!')"
   ]
  },
  {
   "cell_type": "markdown",
   "id": "ad199c02-d54c-4c88-a842-4dc2379ec8e3",
   "metadata": {},
   "source": [
    "Gördüğünüz gibi, programımızı kaydederken, programımızın en başına import os komutunu yazarak öncelikle ilgili modülü içe aktarıyoruz. Python’da modüller genellikle programın en başında içe aktarılır. Ama bu bir zorunluluk değildir. Modülleri programın istediğiniz her yerinde içe aktarabilirsiniz (bununla ilgili bir istisnadan biraz sonra söz edeceğiz).\n",
    "\n",
    "Modül içe aktarmaya ilişkin en önemli kural, modüle ait bir nitelik veya fonksiyonun kullanılmasından önce modülün içe aktarılmış olması gerekliliğidir. Yani mesela yukarıdaki programda os modülü içindeki name niteliğini kullanmadan önce os modülünü içe aktarmış olmamız gerekir. Eğer Python, if os.name != 'nt': satırından önce herhangi bir yerde import os gibi bir komutla os modülünün içe aktarıldığını göremezse hata verecektir.\n",
    "\n",
    "Bu programı yukarıdaki gibi bir dosyaya kaydettikten sonra bunu herhangi bir Python programı gibi çalıştırabilirsiniz.\n",
    "\n",
    "Eğer bu programı Windows dışındaki bir işletim sisteminde çalıştırırsanız şu çıktıyı alırsınız:\n",
    "\n"
   ]
  },
  {
   "cell_type": "raw",
   "id": "757b8d0f-fc34-4c4a-88f5-1833b4374b97",
   "metadata": {},
   "source": [
    "Kusura bakmayın! Bu programı yalnızca\n",
    "Windows'ta kullanabilirsiniz!"
   ]
  },
  {
   "cell_type": "markdown",
   "id": "b6dceb50-828d-4906-ae23-a64a8feb9101",
   "metadata": {},
   "source": [
    "Ama eğer bu program Windows işletim sisteminde çalıştırılırsa şu çıktıyı verir:\n",
    "\n"
   ]
  },
  {
   "cell_type": "raw",
   "id": "11bff97d-8c4e-4f8a-afc5-055957aa2f97",
   "metadata": {},
   "source": [
    "Hoşgeldin Windows kullanıcısı!\n"
   ]
  },
  {
   "cell_type": "markdown",
   "id": "a5c10ca9-f999-47ef-835b-808f6401f74f",
   "metadata": {},
   "source": [
    "Böylece modül içindeki bir niteliğe erişmiş olduk. Yalnız burada asla unutmamamız gereken şey, öncelikle kullanacağımız modülü import modül_adı komutuyla içe aktarmak olacaktır. Modülü içe aktarmazsak tabii ki o modüldeki fonksiyon veya niteliklere de erişemeyiz. (Sık yapılan bir hata olduğu için, bunu tekrar tekrar vurguluyoruz…)\n",
    "\n",
    "Bu arada bir modülü, her etkileşimli kabuk oturumunda yalnızca bir kez içe aktarmak yeterlidir. Yani siz etkileşimli kabuğu çalıştırdıktan sonra bir kez import os komutuyla modülü içe aktardıktan sonra, o etkileşimli kabuk oturumunu kapatana kadar, aynı modülü tekrar içe aktarmak zorunda kalmadan bu modülün içeriğini kullanabilirsiniz.\n",
    "\n",
    "Aynı şekilde, eğer bu kodları etkileşimli kabuğa değil de bir program dosyasına yazıyorsanız, import os komutunu dosyanın başına bir kez yazdıktan sonra aynı modülü programın ilerleyen kısımlarında tekrar içe aktarmak zorunda kalmadan, o modülünün içeriğinden yararlanabilirsiniz.\n",
    "\n",
    "Gördüğünüz gibi, bir Standart Kütüphane Modülü olan os bize name adlı çok kullanışlı bir nitelik sunuyor. Eğer os modülü olmasaydı, name adlı niteliğin sunduğu işlevi kendimiz icat etmek zorunda kalırdık.\n",
    "\n",
    "Başka bir örnek daha verelim…\n",
    "\n",
    "Diyelim ki yine bir program yazdınız. Programınızın çalışması için, programınızı kullanan kişinin bilgisayarında birtakım dizinler oluşturmanız gerekiyor. İşte bu iş için de os modülünden yararlanabilirsiniz.\n",
    "\n",
    "Bu modül içindeki makedirs() fonksiyonunu kullanarak, o anda içinde bulunduğunuz dizinde yeni bir dizin oluşturabilirsiniz:\n",
    "\n"
   ]
  },
  {
   "cell_type": "code",
   "execution_count": 5,
   "id": "b6749b76-a424-4c9e-bb37-c5eec396b670",
   "metadata": {},
   "outputs": [],
   "source": [
    "os.makedirs('DATA')\n"
   ]
  },
  {
   "cell_type": "markdown",
   "id": "8353bd2a-5442-4eeb-849a-293513d1b443",
   "metadata": {},
   "source": [
    "Bu komutu verdikten sonra, o anda altında bulunduğunuz dizinde DATA adlı bir dizin oluşacaktır. Eğer o anda hangi dizin altında bulunduğunuzu öğrenmek isterseniz de yine os modülünden faydalanabilirsiniz:\n",
    "\n"
   ]
  },
  {
   "cell_type": "code",
   "execution_count": 6,
   "id": "ea875eb0-ac72-402d-802a-0e0048c7590c",
   "metadata": {},
   "outputs": [
    {
     "data": {
      "text/plain": [
       "'/home/toree/Desktop/python-notes/ders28Moduller'"
      ]
     },
     "execution_count": 6,
     "metadata": {},
     "output_type": "execute_result"
    }
   ],
   "source": [
    "os.getcwd()\n"
   ]
  },
  {
   "cell_type": "markdown",
   "id": "02f71148-83a3-47c4-9aca-e26991de561a",
   "metadata": {},
   "source": [
    "os modülünün getcwd() fonksiyonu bize o anda hangi dizin altında bulunduğumuzu gösterir. Bu komutun çıktısında hangi dizin adını görüyorsanız, biraz önce makedirs() fonksiyonu ile oluşturduğunuz DATA dizini de o dizin altında oluşmuştur…\n",
    "\n",
    "Gördüğünüz gibi, bir çırpıda os modülünün birkaç özelliğinden birden yararlandık. Daha önce de söylediğimiz gibi, eğer os modülü olmasaydı yukarıda gerçekleştirdiğimiz bütün işlevleri kendiniz icat etmek zorunda kalırdınız.\n",
    "\n",
    "Böylece Python’daki modüllerin neye benzediğini ve nasıl kullanıldığını anlamış olduk. Modüllerin faydalı araçlar olduğu konusunda sizleri ikna edebilmiş olduğumuzu varsayarak bir sonraki bölüme geçelim.\n",
    "\n",
    "+++++++++Farklı İçe Aktarma Yöntemleri\n",
    "\n",
    "Biz şimdiye kadar, modülleri import modül_adı şeklinde içe aktardık. Esasında standart içe aktarma yöntemi de budur. Bir modülü bu şekilde içe aktardığımız zaman, modül adını kullanarak, o modülün içeriğine erişebiliriz:\n",
    "\n"
   ]
  },
  {
   "cell_type": "code",
   "execution_count": 7,
   "id": "27241dca-5054-40c1-8064-3cd4040236b3",
   "metadata": {},
   "outputs": [
    {
     "data": {
      "text/plain": [
       "'3.10.12 (main, Jan 17 2025, 14:35:34) [GCC 11.4.0]'"
      ]
     },
     "execution_count": 7,
     "metadata": {},
     "output_type": "execute_result"
    }
   ],
   "source": [
    "import sys\n",
    "sys.version #Python'ın sürümünü verir"
   ]
  },
  {
   "cell_type": "markdown",
   "id": "a9506bac-3171-4643-a5c9-aa87ff5a084e",
   "metadata": {},
   "source": [
    "veya:"
   ]
  },
  {
   "cell_type": "code",
   "execution_count": 8,
   "id": "2865925d-095c-4d59-bb35-64cf431f2c22",
   "metadata": {},
   "outputs": [
    {
     "data": {
      "text/plain": [
       "'posix'"
      ]
     },
     "execution_count": 8,
     "metadata": {},
     "output_type": "execute_result"
    }
   ],
   "source": [
    "import os\n",
    "os.name #İşletim sistemimizin adını verir"
   ]
  },
  {
   "cell_type": "markdown",
   "id": "3762ba50-28fa-4bd9-9951-447ed52893a0",
   "metadata": {},
   "source": [
    "gibi…\n",
    "\n",
    "Ancak Python’da bir modülü içe aktarmanın tek yöntemi bu değildir. Eğer istersek modülleri daha farklı şekillerde de içe aktarabiliriz.\n",
    "\n",
    "Gelin şimdi bu alternatif modül aktarma biçimlerinin neler olduğunu görelim.\n",
    "\n",
    "import modül_adı as farklı_isim\n",
    "Bazı koşullar, bir modülü kendi adıyla değil de başka bir isimle içe aktarmanızı gerektirebilir. Ya da siz bir modülü kendi adı dışında bir adla içe aktarmanın daha iyi bir fikir olduğunu düşünebilirsiniz.\n",
    "\n",
    "Peki ama ne tür koşullar bir modülü farklı bir adla içe aktarmamızı gerektirebilir veya biz hangi sebeple bir modülü farklı adla içe aktarmayı isteyebiliriz?\n",
    "\n",
    "Bu soruların cevabını verebilmek için, gelin isterseniz subprocess adlı bir Standart Kütüphane modülünden yararlanalım. Hem bu vesileyle yeni bir modül de öğrenmiş oluruz…\n",
    "\n",
    "subprocess modülü, harici komutları Python içinden çalıştırabilmemizi sağlayan oldukça faydalı bir araçtır. Bu modülü kullanarak Python programlarımızın içinden başka programları çalıştırabiliriz.\n",
    "\n",
    "Bir modülün içindeki fonksiyon ve nitelikleri her kullanmak isteyişimizde, o fonksiyon veya niteliğin başına modül adını da eklememiz gerektiğini artık gayet iyi biliyorsunuz. Örneğin subprocess adlı modülü\n",
    "\n"
   ]
  },
  {
   "cell_type": "code",
   "execution_count": 9,
   "id": "d3e1de48-3e30-442b-9754-e03630ae5849",
   "metadata": {},
   "outputs": [],
   "source": [
    "import subprocess\n"
   ]
  },
  {
   "cell_type": "markdown",
   "id": "6cde52c3-398a-4782-9709-3c002c7c0f6f",
   "metadata": {},
   "source": [
    "komutuyla içe aktardıktan sonra, bu modül içindeki herhangi bir fonksiyon veya niteliği kullanabilmenin birinci şartı, modül adını ilgili fonksiyon veya niteliğin önüne getirmektir. Mesela biz subprocess modülünün call() adlı fonksiyonunu kullanmak istersek, şöyle bir kod yazmamız gerekir:\n",
    "\n"
   ]
  },
  {
   "cell_type": "code",
   "execution_count": null,
   "id": "cbb40bd2-22e2-4973-ba86-079c3c771648",
   "metadata": {},
   "outputs": [],
   "source": [
    "subprocess.call('notepad.exe')\n"
   ]
  },
  {
   "cell_type": "markdown",
   "id": "18e9f83c-3b4a-4dad-9e55-5d5db11bf447",
   "metadata": {},
   "source": [
    "Bu şekilde ‘Notepad’ programını Python içinden çalıştırmış olduk.\n",
    "\n",
    "Ancak gördüğünüz gibi, ‘subprocess’ biraz uzun bir kelime. Bu modülü her kullanmak isteyişinizde nitelik veya fonksiyon adının önüne bu uzun kelimeyi getirmek bir süre sonra sıkıcı bir hal alabilir. Bu yüzden eğer isterseniz modülü import subprocess şeklinde kendi adıyla değil de daha kısa bir adla içe aktarmayı tercih edebilirsiniz:\n",
    "\n"
   ]
  },
  {
   "cell_type": "code",
   "execution_count": null,
   "id": "cea8431e-367f-40dd-80ba-99e89d544e07",
   "metadata": {},
   "outputs": [],
   "source": [
    "import subprocess as sp\n"
   ]
  },
  {
   "cell_type": "markdown",
   "id": "638d55bb-47bd-462d-8028-11f83f3ef8fe",
   "metadata": {},
   "source": [
    "Burada şöyle bir formül uyguladığımıza dikkat edin:\n",
    "\n"
   ]
  },
  {
   "cell_type": "code",
   "execution_count": null,
   "id": "cd8d2d4b-afac-4b13-827b-a5db41e1b2b5",
   "metadata": {},
   "outputs": [],
   "source": [
    "import modül_adı as farklı_bir_isim\n"
   ]
  },
  {
   "cell_type": "markdown",
   "id": "7e2a3304-02de-47a0-8c9e-8a9583814ead",
   "metadata": {},
   "source": [
    "Böylece artık bu modülü yalnızca sp önekiyle kullanabilirsiniz:\n",
    "\n"
   ]
  },
  {
   "cell_type": "code",
   "execution_count": null,
   "id": "dc14f4bb-4bc0-4951-a40e-d70209ae0b4c",
   "metadata": {},
   "outputs": [],
   "source": [
    "sp.call('notepad.exe')\n"
   ]
  },
  {
   "cell_type": "markdown",
   "id": "fb5ab5a5-bdb3-44fa-a692-bc4242dadf27",
   "metadata": {},
   "source": [
    "Örnek olması açısından başka bir modülü daha ele alalım. Modülümüzün adı webbrowser.\n",
    "\n",
    "webbrowser modülü, bilgisayarımızda kurulu internet tarayıcısını kullanarak internet sitelerini açabilmemizi sağlar.\n",
    "Tıpkı ‘subprocess’ gibi, ‘webbrowser’ kelimesi de, her defasında tekrar etmesi sıkıcı olabilecek bir kelime. Dolayısıyla dilerseniz bu modülü import webbrowser yerine farklı bir isimle içe aktarabilirsiniz. Örneğin:\n",
    "\n"
   ]
  },
  {
   "cell_type": "code",
   "execution_count": null,
   "id": "d1e69fff-11c1-4b59-a46e-1e6ccc025d0f",
   "metadata": {},
   "outputs": [],
   "source": [
    "import webbrowser as br\n"
   ]
  },
  {
   "cell_type": "markdown",
   "id": "d47e0a63-4981-4f67-8ffc-92acc894701d",
   "metadata": {},
   "source": [
    "veya:\n",
    "\n"
   ]
  },
  {
   "cell_type": "code",
   "execution_count": 12,
   "id": "3c718de5-1e24-42ee-ba28-f64573cf4d38",
   "metadata": {},
   "outputs": [],
   "source": [
    "import webbrowser as web\n"
   ]
  },
  {
   "cell_type": "markdown",
   "id": "42f37bfe-8dcd-4c34-b9a1-1ad34ca9e009",
   "metadata": {},
   "source": [
    "Modülü hangi adla içe aktaracağınız tamamen size kalmış. Diyelim ki bu modülü ‘web’ adıyla içe aktardık. Artık bu modülün içindeki araçları web önekiyle kullanabiliriz:"
   ]
  },
  {
   "cell_type": "code",
   "execution_count": 13,
   "id": "bd27c549-d10c-4adc-9439-9361b218a8b5",
   "metadata": {},
   "outputs": [
    {
     "data": {
      "text/plain": [
       "True"
      ]
     },
     "execution_count": 13,
     "metadata": {},
     "output_type": "execute_result"
    }
   ],
   "source": [
    "web.open('www.google.com')\n"
   ]
  },
  {
   "cell_type": "markdown",
   "id": "61d03f63-b543-461f-91c4-1e9007bac3ce",
   "metadata": {},
   "source": [
    "Eğer biz webbrowser modülünü doğrudan kendi adıyla içe aktarsaydık:"
   ]
  },
  {
   "cell_type": "code",
   "execution_count": 14,
   "id": "1ab3d155-de9e-4db5-b07e-10bdf27e90d9",
   "metadata": {},
   "outputs": [],
   "source": [
    "import webbrowser\n"
   ]
  },
  {
   "cell_type": "markdown",
   "id": "8f8acd01-06db-46cb-bff8-0f83f5c518e7",
   "metadata": {},
   "source": [
    "Bu durumda yukarıdaki komutu şu şekilde vermek zorunda kalacaktık:\n",
    "\n"
   ]
  },
  {
   "cell_type": "code",
   "execution_count": 15,
   "id": "1de79d1e-a94c-4284-a24a-8bed9666c06a",
   "metadata": {},
   "outputs": [
    {
     "data": {
      "text/plain": [
       "True"
      ]
     },
     "execution_count": 15,
     "metadata": {},
     "output_type": "execute_result"
    }
   ],
   "source": [
    "webbrowser.open('www.google.com')\n"
   ]
  },
  {
   "cell_type": "markdown",
   "id": "af658ed7-b32e-4bc4-907a-6121076ac890",
   "metadata": {},
   "source": [
    " Ama bu modülü daha kısa bir adla içe aktarmış olmamız sayesinde, bu modülü gayet pratik bir şekilde kullanma imkanına kavuşuyoruz.\n",
    "\n",
    "from modül_adı import isim1, isim2\n",
    "Şimdiye kadar verdiğimiz örneklerden de gördüğünüz gibi, Standart Kütüphane Modülleri’nin içinde çok sayıda fonksiyon ve nitelik bulunuyor. Mesela os modülünü ele alalım:\n",
    "\n"
   ]
  },
  {
   "cell_type": "code",
   "execution_count": 16,
   "id": "62cc78f4-c234-4e58-a11c-074c06a7eed0",
   "metadata": {},
   "outputs": [
    {
     "data": {
      "text/plain": [
       "['CLD_CONTINUED',\n",
       " 'CLD_DUMPED',\n",
       " 'CLD_EXITED',\n",
       " 'CLD_KILLED',\n",
       " 'CLD_STOPPED',\n",
       " 'CLD_TRAPPED',\n",
       " 'DirEntry',\n",
       " 'EFD_CLOEXEC',\n",
       " 'EFD_NONBLOCK',\n",
       " 'EFD_SEMAPHORE',\n",
       " 'EX_CANTCREAT',\n",
       " 'EX_CONFIG',\n",
       " 'EX_DATAERR',\n",
       " 'EX_IOERR',\n",
       " 'EX_NOHOST',\n",
       " 'EX_NOINPUT',\n",
       " 'EX_NOPERM',\n",
       " 'EX_NOUSER',\n",
       " 'EX_OK',\n",
       " 'EX_OSERR',\n",
       " 'EX_OSFILE',\n",
       " 'EX_PROTOCOL',\n",
       " 'EX_SOFTWARE',\n",
       " 'EX_TEMPFAIL',\n",
       " 'EX_UNAVAILABLE',\n",
       " 'EX_USAGE',\n",
       " 'F_LOCK',\n",
       " 'F_OK',\n",
       " 'F_TEST',\n",
       " 'F_TLOCK',\n",
       " 'F_ULOCK',\n",
       " 'GRND_NONBLOCK',\n",
       " 'GRND_RANDOM',\n",
       " 'GenericAlias',\n",
       " 'MFD_ALLOW_SEALING',\n",
       " 'MFD_CLOEXEC',\n",
       " 'MFD_HUGETLB',\n",
       " 'MFD_HUGE_16GB',\n",
       " 'MFD_HUGE_16MB',\n",
       " 'MFD_HUGE_1GB',\n",
       " 'MFD_HUGE_1MB',\n",
       " 'MFD_HUGE_256MB',\n",
       " 'MFD_HUGE_2GB',\n",
       " 'MFD_HUGE_2MB',\n",
       " 'MFD_HUGE_32MB',\n",
       " 'MFD_HUGE_512KB',\n",
       " 'MFD_HUGE_512MB',\n",
       " 'MFD_HUGE_64KB',\n",
       " 'MFD_HUGE_8MB',\n",
       " 'MFD_HUGE_MASK',\n",
       " 'MFD_HUGE_SHIFT',\n",
       " 'Mapping',\n",
       " 'MutableMapping',\n",
       " 'NGROUPS_MAX',\n",
       " 'O_ACCMODE',\n",
       " 'O_APPEND',\n",
       " 'O_ASYNC',\n",
       " 'O_CLOEXEC',\n",
       " 'O_CREAT',\n",
       " 'O_DIRECT',\n",
       " 'O_DIRECTORY',\n",
       " 'O_DSYNC',\n",
       " 'O_EXCL',\n",
       " 'O_FSYNC',\n",
       " 'O_LARGEFILE',\n",
       " 'O_NDELAY',\n",
       " 'O_NOATIME',\n",
       " 'O_NOCTTY',\n",
       " 'O_NOFOLLOW',\n",
       " 'O_NONBLOCK',\n",
       " 'O_PATH',\n",
       " 'O_RDONLY',\n",
       " 'O_RDWR',\n",
       " 'O_RSYNC',\n",
       " 'O_SYNC',\n",
       " 'O_TMPFILE',\n",
       " 'O_TRUNC',\n",
       " 'O_WRONLY',\n",
       " 'POSIX_FADV_DONTNEED',\n",
       " 'POSIX_FADV_NOREUSE',\n",
       " 'POSIX_FADV_NORMAL',\n",
       " 'POSIX_FADV_RANDOM',\n",
       " 'POSIX_FADV_SEQUENTIAL',\n",
       " 'POSIX_FADV_WILLNEED',\n",
       " 'POSIX_SPAWN_CLOSE',\n",
       " 'POSIX_SPAWN_DUP2',\n",
       " 'POSIX_SPAWN_OPEN',\n",
       " 'PRIO_PGRP',\n",
       " 'PRIO_PROCESS',\n",
       " 'PRIO_USER',\n",
       " 'P_ALL',\n",
       " 'P_NOWAIT',\n",
       " 'P_NOWAITO',\n",
       " 'P_PGID',\n",
       " 'P_PID',\n",
       " 'P_PIDFD',\n",
       " 'P_WAIT',\n",
       " 'PathLike',\n",
       " 'RTLD_DEEPBIND',\n",
       " 'RTLD_GLOBAL',\n",
       " 'RTLD_LAZY',\n",
       " 'RTLD_LOCAL',\n",
       " 'RTLD_NODELETE',\n",
       " 'RTLD_NOLOAD',\n",
       " 'RTLD_NOW',\n",
       " 'RWF_APPEND',\n",
       " 'RWF_DSYNC',\n",
       " 'RWF_HIPRI',\n",
       " 'RWF_NOWAIT',\n",
       " 'RWF_SYNC',\n",
       " 'R_OK',\n",
       " 'SCHED_BATCH',\n",
       " 'SCHED_FIFO',\n",
       " 'SCHED_IDLE',\n",
       " 'SCHED_OTHER',\n",
       " 'SCHED_RESET_ON_FORK',\n",
       " 'SCHED_RR',\n",
       " 'SEEK_CUR',\n",
       " 'SEEK_DATA',\n",
       " 'SEEK_END',\n",
       " 'SEEK_HOLE',\n",
       " 'SEEK_SET',\n",
       " 'SPLICE_F_MORE',\n",
       " 'SPLICE_F_MOVE',\n",
       " 'SPLICE_F_NONBLOCK',\n",
       " 'ST_APPEND',\n",
       " 'ST_MANDLOCK',\n",
       " 'ST_NOATIME',\n",
       " 'ST_NODEV',\n",
       " 'ST_NODIRATIME',\n",
       " 'ST_NOEXEC',\n",
       " 'ST_NOSUID',\n",
       " 'ST_RDONLY',\n",
       " 'ST_RELATIME',\n",
       " 'ST_SYNCHRONOUS',\n",
       " 'ST_WRITE',\n",
       " 'TMP_MAX',\n",
       " 'WCONTINUED',\n",
       " 'WCOREDUMP',\n",
       " 'WEXITED',\n",
       " 'WEXITSTATUS',\n",
       " 'WIFCONTINUED',\n",
       " 'WIFEXITED',\n",
       " 'WIFSIGNALED',\n",
       " 'WIFSTOPPED',\n",
       " 'WNOHANG',\n",
       " 'WNOWAIT',\n",
       " 'WSTOPPED',\n",
       " 'WSTOPSIG',\n",
       " 'WTERMSIG',\n",
       " 'WUNTRACED',\n",
       " 'W_OK',\n",
       " 'XATTR_CREATE',\n",
       " 'XATTR_REPLACE',\n",
       " 'XATTR_SIZE_MAX',\n",
       " 'X_OK',\n",
       " '_Environ',\n",
       " '__all__',\n",
       " '__builtins__',\n",
       " '__cached__',\n",
       " '__doc__',\n",
       " '__file__',\n",
       " '__loader__',\n",
       " '__name__',\n",
       " '__package__',\n",
       " '__spec__',\n",
       " '_check_methods',\n",
       " '_execvpe',\n",
       " '_exists',\n",
       " '_exit',\n",
       " '_fspath',\n",
       " '_fwalk',\n",
       " '_get_exports_list',\n",
       " '_spawnvef',\n",
       " '_walk',\n",
       " '_wrap_close',\n",
       " 'abc',\n",
       " 'abort',\n",
       " 'access',\n",
       " 'altsep',\n",
       " 'chdir',\n",
       " 'chmod',\n",
       " 'chown',\n",
       " 'chroot',\n",
       " 'close',\n",
       " 'closerange',\n",
       " 'confstr',\n",
       " 'confstr_names',\n",
       " 'copy_file_range',\n",
       " 'cpu_count',\n",
       " 'ctermid',\n",
       " 'curdir',\n",
       " 'defpath',\n",
       " 'device_encoding',\n",
       " 'devnull',\n",
       " 'dup',\n",
       " 'dup2',\n",
       " 'environ',\n",
       " 'environb',\n",
       " 'error',\n",
       " 'eventfd',\n",
       " 'eventfd_read',\n",
       " 'eventfd_write',\n",
       " 'execl',\n",
       " 'execle',\n",
       " 'execlp',\n",
       " 'execlpe',\n",
       " 'execv',\n",
       " 'execve',\n",
       " 'execvp',\n",
       " 'execvpe',\n",
       " 'extsep',\n",
       " 'fchdir',\n",
       " 'fchmod',\n",
       " 'fchown',\n",
       " 'fdatasync',\n",
       " 'fdopen',\n",
       " 'fork',\n",
       " 'forkpty',\n",
       " 'fpathconf',\n",
       " 'fsdecode',\n",
       " 'fsencode',\n",
       " 'fspath',\n",
       " 'fstat',\n",
       " 'fstatvfs',\n",
       " 'fsync',\n",
       " 'ftruncate',\n",
       " 'fwalk',\n",
       " 'get_blocking',\n",
       " 'get_exec_path',\n",
       " 'get_inheritable',\n",
       " 'get_terminal_size',\n",
       " 'getcwd',\n",
       " 'getcwdb',\n",
       " 'getegid',\n",
       " 'getenv',\n",
       " 'getenvb',\n",
       " 'geteuid',\n",
       " 'getgid',\n",
       " 'getgrouplist',\n",
       " 'getgroups',\n",
       " 'getloadavg',\n",
       " 'getlogin',\n",
       " 'getpgid',\n",
       " 'getpgrp',\n",
       " 'getpid',\n",
       " 'getppid',\n",
       " 'getpriority',\n",
       " 'getrandom',\n",
       " 'getresgid',\n",
       " 'getresuid',\n",
       " 'getsid',\n",
       " 'getuid',\n",
       " 'getxattr',\n",
       " 'initgroups',\n",
       " 'isatty',\n",
       " 'kill',\n",
       " 'killpg',\n",
       " 'lchown',\n",
       " 'linesep',\n",
       " 'link',\n",
       " 'listdir',\n",
       " 'listxattr',\n",
       " 'lockf',\n",
       " 'lseek',\n",
       " 'lstat',\n",
       " 'major',\n",
       " 'makedev',\n",
       " 'makedirs',\n",
       " 'memfd_create',\n",
       " 'minor',\n",
       " 'mkdir',\n",
       " 'mkfifo',\n",
       " 'mknod',\n",
       " 'name',\n",
       " 'nice',\n",
       " 'open',\n",
       " 'openpty',\n",
       " 'pardir',\n",
       " 'path',\n",
       " 'pathconf',\n",
       " 'pathconf_names',\n",
       " 'pathsep',\n",
       " 'pidfd_open',\n",
       " 'pipe',\n",
       " 'pipe2',\n",
       " 'popen',\n",
       " 'posix_fadvise',\n",
       " 'posix_fallocate',\n",
       " 'posix_spawn',\n",
       " 'posix_spawnp',\n",
       " 'pread',\n",
       " 'preadv',\n",
       " 'putenv',\n",
       " 'pwrite',\n",
       " 'pwritev',\n",
       " 'read',\n",
       " 'readlink',\n",
       " 'readv',\n",
       " 'register_at_fork',\n",
       " 'remove',\n",
       " 'removedirs',\n",
       " 'removexattr',\n",
       " 'rename',\n",
       " 'renames',\n",
       " 'replace',\n",
       " 'rmdir',\n",
       " 'scandir',\n",
       " 'sched_get_priority_max',\n",
       " 'sched_get_priority_min',\n",
       " 'sched_getaffinity',\n",
       " 'sched_getparam',\n",
       " 'sched_getscheduler',\n",
       " 'sched_param',\n",
       " 'sched_rr_get_interval',\n",
       " 'sched_setaffinity',\n",
       " 'sched_setparam',\n",
       " 'sched_setscheduler',\n",
       " 'sched_yield',\n",
       " 'sendfile',\n",
       " 'sep',\n",
       " 'set_blocking',\n",
       " 'set_inheritable',\n",
       " 'setegid',\n",
       " 'seteuid',\n",
       " 'setgid',\n",
       " 'setgroups',\n",
       " 'setpgid',\n",
       " 'setpgrp',\n",
       " 'setpriority',\n",
       " 'setregid',\n",
       " 'setresgid',\n",
       " 'setresuid',\n",
       " 'setreuid',\n",
       " 'setsid',\n",
       " 'setuid',\n",
       " 'setxattr',\n",
       " 'spawnl',\n",
       " 'spawnle',\n",
       " 'spawnlp',\n",
       " 'spawnlpe',\n",
       " 'spawnv',\n",
       " 'spawnve',\n",
       " 'spawnvp',\n",
       " 'spawnvpe',\n",
       " 'splice',\n",
       " 'st',\n",
       " 'stat',\n",
       " 'stat_result',\n",
       " 'statvfs',\n",
       " 'statvfs_result',\n",
       " 'strerror',\n",
       " 'supports_bytes_environ',\n",
       " 'supports_dir_fd',\n",
       " 'supports_effective_ids',\n",
       " 'supports_fd',\n",
       " 'supports_follow_symlinks',\n",
       " 'symlink',\n",
       " 'sync',\n",
       " 'sys',\n",
       " 'sysconf',\n",
       " 'sysconf_names',\n",
       " 'system',\n",
       " 'tcgetpgrp',\n",
       " 'tcsetpgrp',\n",
       " 'terminal_size',\n",
       " 'times',\n",
       " 'times_result',\n",
       " 'truncate',\n",
       " 'ttyname',\n",
       " 'umask',\n",
       " 'uname',\n",
       " 'uname_result',\n",
       " 'unlink',\n",
       " 'unsetenv',\n",
       " 'urandom',\n",
       " 'utime',\n",
       " 'wait',\n",
       " 'wait3',\n",
       " 'wait4',\n",
       " 'waitid',\n",
       " 'waitid_result',\n",
       " 'waitpid',\n",
       " 'waitstatus_to_exitcode',\n",
       " 'walk',\n",
       " 'write',\n",
       " 'writev']"
      ]
     },
     "execution_count": 16,
     "metadata": {},
     "output_type": "execute_result"
    }
   ],
   "source": [
    "import os\n",
    "dir(os)"
   ]
  },
  {
   "cell_type": "markdown",
   "id": "ab716c74-a8a0-4ec0-b893-4401ce8a481a",
   "metadata": {},
   "source": [
    "Listede epey isim var…\n",
    "\n",
    "Biz import os komutunu verdiğimizde, listedeki bütün o isimleri ‘os’ ismi altında içe aktarmış oluyoruz. Bunun bir sakıncası yok, ancak yazdığımız programlarda bu fonksiyon ve niteliklerin hepsine ihtiyaç duymayız. O yüzden, eğer arzu ederseniz, import os gibi bir komutla bütün o isimleri içe aktarmak yerine, yalnızca kullanacağınız isimleri içe aktarmayı tercih de edebilirsiniz. Mesela os modülünün yalnızca name niteliğini kullanacaksanız, modülü şu şekilde içe aktarabilirsiniz:"
   ]
  },
  {
   "cell_type": "code",
   "execution_count": 17,
   "id": "cb012e21-66ed-41cf-a2c2-2251424c96df",
   "metadata": {},
   "outputs": [],
   "source": [
    "from os import name\n"
   ]
  },
  {
   "cell_type": "markdown",
   "id": "47971f69-ffec-413f-a0a9-d325b56dcd67",
   "metadata": {},
   "source": [
    "\n",
    "Bu şekilde os modülünden yalnızca name ismi içe aktarılmış olur ve yalnızca bu ismi kullanabiliriz:\n",
    "\n"
   ]
  },
  {
   "cell_type": "code",
   "execution_count": 18,
   "id": "65920eba-e077-443c-afa8-709af484a8e1",
   "metadata": {},
   "outputs": [
    {
     "data": {
      "text/plain": [
       "'posix'"
      ]
     },
     "execution_count": 18,
     "metadata": {},
     "output_type": "execute_result"
    }
   ],
   "source": [
    "name"
   ]
  },
  {
   "cell_type": "markdown",
   "id": "e82a215c-81b1-4d24-9978-89b7846403ed",
   "metadata": {},
   "source": [
    "Bu durumda os.name komutu hata verecektir:"
   ]
  },
  {
   "cell_type": "raw",
   "id": "e228f2de-24d7-4a3f-be92-08e1849b8f0c",
   "metadata": {},
   "source": [
    "NameError: name 'os' is not defined\n"
   ]
  },
  {
   "cell_type": "markdown",
   "id": "bf538bf6-145d-4b65-8709-73ff6af656ba",
   "metadata": {},
   "source": [
    "Çünkü biz from os import name komutunu verdiğimizde, os modülünü değil, bu modül içindeki bir nitelik olan name’i içe aktarmış oluyoruz. Dolayısıyla os ismini kullanamıyoruz.\n",
    "\n",
    "Bu şekilde, aynı modül içinden birkaç farklı nitelik ve fonksiyonu da içe aktarabilirsiniz:\n",
    "\n"
   ]
  },
  {
   "cell_type": "code",
   "execution_count": 20,
   "id": "c79aaebf-305a-4b00-b731-1966439e0d27",
   "metadata": {},
   "outputs": [],
   "source": [
    "from os import name, listdir, getcwd\n"
   ]
  },
  {
   "cell_type": "markdown",
   "id": "7cdf4136-432a-4a67-add2-808597d59e81",
   "metadata": {},
   "source": [
    "Bu komutla os modülü içinden yalnızca name niteliğini, listdir() fonksiyonunu ve getcwd() fonksiyonunu aktarmış olduk:\n",
    "\n"
   ]
  },
  {
   "cell_type": "code",
   "execution_count": 21,
   "id": "9198c1d5-7f36-4acc-b42f-b7596cb71aaa",
   "metadata": {},
   "outputs": [
    {
     "data": {
      "text/plain": [
       "['DATA', '.ipynb_checkpoints', 'Moduller.ipynb']"
      ]
     },
     "execution_count": 21,
     "metadata": {},
     "output_type": "execute_result"
    }
   ],
   "source": [
    "listdir()\n"
   ]
  },
  {
   "cell_type": "markdown",
   "id": "1e0b45d8-c814-49f0-88b8-99690dedb4e9",
   "metadata": {},
   "source": [
    "Bu fonksiyon, o anda içinde bulunduğumuz dizindeki dosyaları listeler.\n",
    "\n",
    "name ve getcwd() isimlerinin görevini ise daha önce öğrenmiştik:\n",
    "\n"
   ]
  },
  {
   "cell_type": "code",
   "execution_count": 22,
   "id": "92859ea6-c0ba-498a-8857-2a1a04814b96",
   "metadata": {},
   "outputs": [
    {
     "data": {
      "text/plain": [
       "'posix'"
      ]
     },
     "execution_count": 22,
     "metadata": {},
     "output_type": "execute_result"
    }
   ],
   "source": [
    "name\n"
   ]
  },
  {
   "cell_type": "code",
   "execution_count": 23,
   "id": "a5cc87c9-8794-4a13-8b64-8386bf60067a",
   "metadata": {},
   "outputs": [
    {
     "data": {
      "text/plain": [
       "'/home/toree/Desktop/python-notes/ders28Moduller'"
      ]
     },
     "execution_count": 23,
     "metadata": {},
     "output_type": "execute_result"
    }
   ],
   "source": [
    "getcwd()\n"
   ]
  },
  {
   "cell_type": "markdown",
   "id": "15408f70-c2db-45a1-9aae-573c762345f4",
   "metadata": {},
   "source": [
    "Gelelim bir başka modül aktarma biçimine…\n",
    "\n",
    "from modül_adı import isim as farklı_isim\n",
    "Bir modülü, kendi adından farklı bir adla nasıl içe aktarabileceğinizi biliyorsunuz:"
   ]
  },
  {
   "cell_type": "code",
   "execution_count": 24,
   "id": "e10173ed-1dc1-4827-adc3-18c44a5136e7",
   "metadata": {},
   "outputs": [],
   "source": [
    "import subprocess as sp\n"
   ]
  },
  {
   "cell_type": "markdown",
   "id": "bc1b926a-ab41-4742-9d64-64f994a884ab",
   "metadata": {},
   "source": [
    "Bu şekilde subprocess modülünü sp adıyla içe aktarmış oluyoruz.\n",
    "\n",
    "Aynı şekilde, bir modül içinden belli nitelik ve fonksiyonları da nasıl içe aktaracağınızı biliyorsunuz:"
   ]
  },
  {
   "cell_type": "code",
   "execution_count": 25,
   "id": "2f941fbf-f83b-4888-b619-190d165c9f3d",
   "metadata": {},
   "outputs": [],
   "source": [
    "from os import path, listdir\n"
   ]
  },
  {
   "cell_type": "markdown",
   "id": "c83ed109-e483-4da0-8db0-e198480ef737",
   "metadata": {},
   "source": [
    "Bu şekilde os modülünden path niteliğini ve listdir() fonksiyonunu içe aktarmış oluyoruz.\n",
    "\n",
    "Peki ya bir modül içinden belli nitelik ve fonksiyonları farklı bir adla içe aktarmak isterseniz ne yapacaksınız?\n",
    "\n",
    "İşte Python size bunun için de bir yol sunar. Dikkatlice bakın:"
   ]
  },
  {
   "cell_type": "code",
   "execution_count": 26,
   "id": "70e32ada-3360-4c80-82f3-8d83954b39ff",
   "metadata": {},
   "outputs": [],
   "source": [
    "from os import path as p\n"
   ]
  },
  {
   "cell_type": "markdown",
   "id": "9e7cb090-67e2-465e-870b-80c726083aca",
   "metadata": {},
   "source": [
    "veya:\n",
    "\n"
   ]
  },
  {
   "cell_type": "code",
   "execution_count": 27,
   "id": "3aee5549-f066-4e93-a4d9-efffb574bd0e",
   "metadata": {},
   "outputs": [],
   "source": [
    "from os import listdir as ld\n"
   ]
  },
  {
   "cell_type": "markdown",
   "id": "7f2cff8d-2602-4ab7-a611-f3d930d87bd9",
   "metadata": {},
   "source": [
    "gibi…\n",
    "\n",
    "Bu örneklerde, os modülü içinden path adlı niteliği p adıyla; listdir() fonksiyonunu ise ld adıyla içe aktardık. Böylece path niteliğini p adıyla; listdir() fonksiyonunu da ld adıyla kullanabiliriz.\n",
    "\n",
    "Yalnız bu yöntem çok sık kullanılmaz. Bunu da not edip, içe aktarma yöntemlerinin sonuncusuna geçelim.\n",
    "\n",
    "from modül_adı import *\n",
    "Python’daki modülleri from modül_adı import * formülüne göre içe aktarmak da mümkündür (bu yönteme ‘yıldızlı içe aktarma’ diyebilirsiniz). Bu şekilde bir modül içindeki bütün fonksiyon ve nitelikleri içe aktarmış oluruz (ismi _ ile başlayanlar hariç):"
   ]
  },
  {
   "cell_type": "code",
   "execution_count": 28,
   "id": "315d8adb-7f29-4365-9bb5-842cd450868e",
   "metadata": {},
   "outputs": [],
   "source": [
    "from sys import *\n"
   ]
  },
  {
   "cell_type": "markdown",
   "id": "b6909d12-e05f-4771-8798-d7bade1e5c40",
   "metadata": {},
   "source": [
    "Böylece sys modülü içindeki bütün fonksiyon ve nitelikleri, başlarına modül adını eklemeye gerek olmadan kullanabiliriz:\n",
    "\n"
   ]
  },
  {
   "cell_type": "code",
   "execution_count": 29,
   "id": "14bbf4a8-23d0-41b8-ad71-b57f8bc17cf3",
   "metadata": {},
   "outputs": [
    {
     "data": {
      "text/plain": [
       "'3.10.12 (main, Jan 17 2025, 14:35:34) [GCC 11.4.0]'"
      ]
     },
     "execution_count": 29,
     "metadata": {},
     "output_type": "execute_result"
    }
   ],
   "source": [
    "version"
   ]
  },
  {
   "cell_type": "markdown",
   "id": "83e4f571-0b87-4bdc-b276-49d81c34d0e1",
   "metadata": {},
   "source": [
    "Ancak bu yöntem pek tavsiye edilmez. Çünkü bu şekilde, modül içindeki bütün isimleri kontrolsüz bir şekilde mevcut ortama ‘boşaltmış’ oluyoruz. Mesela eğer modül bu şekilde içe aktarılmadan önce version diye başka bir değişken tanımlamışsanız, modül içe aktarıldıktan sonra, önceden tanımladığınız bu version değişkeninin değeri kaybolacaktır:\n",
    "\n"
   ]
  },
  {
   "cell_type": "code",
   "execution_count": 30,
   "id": "a5c25321-796b-4026-9163-6c23d3059f36",
   "metadata": {},
   "outputs": [
    {
     "name": "stdout",
     "output_type": "stream",
     "text": [
      "1.0\n"
     ]
    }
   ],
   "source": [
    "version = '1.0'\n",
    "print(version)"
   ]
  },
  {
   "cell_type": "markdown",
   "id": "05af3351-d599-40c1-ad32-2355fc3b49bc",
   "metadata": {},
   "source": [
    "Bu ortama from sys import * komutuyla sys modülünün bütün içeriğini aktaralım:\n",
    "\n"
   ]
  },
  {
   "cell_type": "code",
   "execution_count": 31,
   "id": "781b5f01-dea0-43f2-b92f-a495157bfb39",
   "metadata": {},
   "outputs": [],
   "source": [
    "from sys import *\n"
   ]
  },
  {
   "cell_type": "markdown",
   "id": "4a09d351-0298-420a-b838-b0002b123be7",
   "metadata": {},
   "source": [
    "Şimdi de version değişkeninin değerini yazdıralım:"
   ]
  },
  {
   "cell_type": "code",
   "execution_count": 32,
   "id": "52b28a20-0694-4f9f-b6e2-a9b1836baeaa",
   "metadata": {},
   "outputs": [
    {
     "name": "stdout",
     "output_type": "stream",
     "text": [
      "3.10.12 (main, Jan 17 2025, 14:35:34) [GCC 11.4.0]\n"
     ]
    }
   ],
   "source": [
    "print(version)\n"
   ]
  },
  {
   "cell_type": "markdown",
   "id": "17ea13ff-e81b-49ba-b567-07c22757ef33",
   "metadata": {},
   "source": [
    "Gördüğünüz gibi, sys modülünün içindeki version niteliği bizim önceden tanımladığımız version değişkeniyle çakıştı ve herhangi bir uyarı vermeden, bizim tanımladığımız version değerini silip kendi version değerini bizimkinin yerine geçirdi…\n",
    "\n",
    "from modül_adı import * komutunun yaptığı şeyi, sıkıştırılmış bir klasörün bütün içeriğini olduğu gibi masaüstüne atmaya benzetebilirsiniz. Böyle bir durumda, eğer masaüstünde sıkıştırılmış klasördekilerle aynı adlı dosyalar varsa, sıkıştırılmış klasör içindeki dosya adları, masaüstünde halihazırda varolan dosya adlarıyla çakışacaktır.\n",
    "\n",
    "Bir sonraki konuya geçmeden önce, yıldızlı içe aktarma ile ilgili önemli bir noktaya değinelim.\n",
    "\n",
    "Hatırlarsanız, bu konunun başında, modülleri programımızın her yerinden içe aktarabileceğimizi söylemiştik. Mesela bir modülü, program dosyamızın en başında içe aktarabiliriz:"
   ]
  },
  {
   "cell_type": "code",
   "execution_count": 33,
   "id": "b033779b-3021-4158-b7d4-e8b1ba8e0107",
   "metadata": {},
   "outputs": [],
   "source": [
    "from os import *\n"
   ]
  },
  {
   "cell_type": "markdown",
   "id": "05a66aac-6022-4c93-843b-1f255e8a51b9",
   "metadata": {},
   "source": [
    "Ama bunun bir istisnası var. Bir modülü yıldızlı olarak içe aktaracaksak, bu işlemi lokal etki alanları içinden gerçekleştiremeyiz. Yani mesela bir fonksiyonun lokal isim alanı içinde şöyle bir kod yazabiliriz:"
   ]
  },
  {
   "cell_type": "code",
   "execution_count": null,
   "id": "78b41d9e-be81-4541-bf1a-c1e1ab117966",
   "metadata": {},
   "outputs": [],
   "source": [
    "def fonksiyon():\n",
    "    import os"
   ]
  },
  {
   "cell_type": "markdown",
   "id": "36521996-cefe-42cf-93a3-a95525daac5b",
   "metadata": {},
   "source": [
    "Veya:\n",
    "\n"
   ]
  },
  {
   "cell_type": "code",
   "execution_count": null,
   "id": "c17b0a8d-35c0-44ad-9c16-9260dce65dcb",
   "metadata": {},
   "outputs": [],
   "source": [
    "def fonksiyon():\n",
    "    import subprocess as sp\n"
   ]
  },
  {
   "cell_type": "markdown",
   "id": "684991bf-1597-40cf-9ecd-e886d69cbb77",
   "metadata": {},
   "source": [
    "Ama şöyle bir kod yazamayız:\n",
    "\n"
   ]
  },
  {
   "cell_type": "code",
   "execution_count": null,
   "id": "fc8b7454-0a7d-4148-b4b2-ddca9a8745f2",
   "metadata": {},
   "outputs": [],
   "source": [
    "def fonksiyon():\n",
    "    from os import *"
   ]
  },
  {
   "cell_type": "markdown",
   "id": "7f80c70b-8fea-494b-9e5c-3a15ab839b43",
   "metadata": {},
   "source": [
    "Bu kodları bir dosyaya kaydedip çalıştırdığımızda şuna benzer bir hata alırız:\n",
    "\n"
   ]
  },
  {
   "cell_type": "code",
   "execution_count": null,
   "id": "5e1b74ed-b2c7-4f64-9221-242f069bc381",
   "metadata": {},
   "outputs": [],
   "source": [
    "SyntaxError: import * only allowed at module level"
   ]
  },
  {
   "cell_type": "markdown",
   "id": "54b7d985-cfdb-43c4-b955-1f9742a18080",
   "metadata": {},
   "source": [
    "Bunun anlamı şu: Yıldızlı içe aktarma işlemleri ancak modül seviyesinde, yani global isim alanında gerçekleştirilebilir. Dolayısıyla yukarıdaki içe aktarma işlemini ancak fonksiyonun dışında gerçekleştirebiliriz:"
   ]
  },
  {
   "cell_type": "code",
   "execution_count": null,
   "id": "c3bd4c7b-e210-4619-843e-f3396e39ac77",
   "metadata": {},
   "outputs": [],
   "source": [
    "from os import *\n",
    "\n",
    "def fonksiyon():\n",
    "    pass"
   ]
  },
  {
   "cell_type": "markdown",
   "id": "30693e30-5474-4cf4-af60-d7659e4ad2bf",
   "metadata": {},
   "source": [
    "Veya"
   ]
  },
  {
   "cell_type": "code",
   "execution_count": null,
   "id": "ca98cbc3-6911-4592-972e-3b457db7b731",
   "metadata": {},
   "outputs": [],
   "source": [
    "def fonksiyon():\n",
    "    pass\n",
    "\n",
    "from os import *"
   ]
  },
  {
   "cell_type": "markdown",
   "id": "63725c5b-aca8-4e8f-b4d0-fb682dc64a06",
   "metadata": {},
   "source": [
    "Bu istisnai duruma dikkat ediyoruz. Elbette modül içe aktarma işlemlerini gerçekleştirmenin en sağlıklı yolu bütün modülleri program dosyasının en başında içe aktarmaktır.\n",
    "\n",
    "+++++++++++Kendi Tanımladığımız Modüller\n",
    "\n",
    "Buraya gelene kadar sadece Python’daki hazır modüllerden söz ettik. Hazır modüllerin, ‘Standart Kütüphane Modülleri’ ve ‘Üçüncü Şahıs Modülleri’ olarak ikiye ayrıldığını öğrenmiştiniz. Yukarıda bu hazır modüllerin ‘Standart Kütüphane Modülleri’ adını verdiğimiz alt başlığını halihazırda ele aldık. Dolayısıyla artık standart modüllerin neler olduğunu ve genel olarak bunların nasıl kullanıldığını biliyoruz.\n",
    "\n",
    "Hazır modül başlığı altında bir de ‘üçüncü şahıs modülleri’nin bulunduğunu da söylemiştik. Birazdan üçüncü şahıs modüllerinden de söz edeceğiz. Ama isterseniz ondan önce hazır modüllere bir ara verelim ve biraz da kendi modüllerimizi nasıl yazabileceğimize bakalım. Kendi modüllerimizi yazmak, modül konusunu biraz daha net bir şekilde anlamamızı sağlayacaktır.\n",
    "\n",
    "++++++++++++Modüllerin Tanımlanması\n",
    "\n",
    "Hatırlarsanız bu bölümün başında, ‘modül nedir?’ sorusuna şu cevabı vermiştik:\n",
    "\n",
    "Bazı işlevleri kolaylıkla yerine getirmemizi sağlayan birtakım fonksiyonları ve nitelikleri içinde barındıran araçlar…\n",
    "\n",
    "Esasında Python’daki modülleri şöyle de tanımlayabiliriz:\n",
    "\n",
    "Diyelim ki bir program yazıyorsunuz. Yazdığınız bu programın içinde karakter dizileri, sayılar, değişkenler, listeler, demetler, sözlükler ve fonksiyonlar var. Programınız da .py uzantılı bir metin dosyası içinde yer alıyor. İşte bütün bu öğeleri ve veri tiplerini içeren .py uzantılı dosyaya ‘modül’ adı verilir. Yani şimdiye kadar yazdığınız ve yazacağınız bütün Python programları aynı zamanda birer modül adayıdır.\n",
    "\n",
    "Gelin isterseniz yukarıdaki bu tanımın doğruluğunu test edelim.\n",
    "\n",
    "Şimdi Python’ın etkileşimli kabuğunu çalıştırın ve kütüphane modüllerinden biri olan os modülünü içe aktarın:\n",
    "\n"
   ]
  },
  {
   "cell_type": "code",
   "execution_count": 34,
   "id": "4fac97ca-c3b7-4864-816d-49b39a9aae5c",
   "metadata": {},
   "outputs": [],
   "source": [
    "import os\n"
   ]
  },
  {
   "cell_type": "markdown",
   "id": "665cb120-28a5-4744-8bbe-0cd51ac0671a",
   "metadata": {},
   "source": [
    "dir(os) komutunu kullanarak modülün içeriğini kontrol ettiğinizde, o listede __file__ adlı bir niteliğin olduğunu göreceksiniz. Bu nitelik Python ile yazılmış tüm modüllerde bulunur. Bu niteliği şu şekilde kullanıyoruz:"
   ]
  },
  {
   "cell_type": "code",
   "execution_count": 35,
   "id": "7936b778-fb28-4064-9a8d-2be46fffad10",
   "metadata": {},
   "outputs": [
    {
     "data": {
      "text/plain": [
       "'/usr/lib/python3.10/os.py'"
      ]
     },
     "execution_count": 35,
     "metadata": {},
     "output_type": "execute_result"
    }
   ],
   "source": [
    "os.__file__"
   ]
  },
  {
   "cell_type": "markdown",
   "id": "b1e3961a-911e-403f-a08e-5fb22a4bfdce",
   "metadata": {},
   "source": [
    "İşte buradan aldığımız çıktı bize os modülünün kaynak dosyasının nerede olduğunu gösteriyor. Hemen çıktıda görünen konuma gidelim ve os.py dosyasını açalım.\n",
    "\n",
    "Dosyayı açtığınızda, gerçekten de bu modülün aslında sıradan bir Python programı olduğunu göreceksiniz. Dosyanın içeriğini incelediğinizde, dir(os) komutuyla elde ettiğimiz nitelik ve fonksiyonların dosya içinde nasıl tanımlandığını görebilirsiniz. Mesela yeni dizinler oluşturmak için os.makedirs() şeklinde kullandığımız makedirs fonksiyonunun os.py içinde tanımlanmış alelade bir fonksiyon olduğunu görebilirsiniz.\n",
    "\n",
    "Aynı şekilde, önceki sayfalarda örneklerini verdiğimiz webbrowser modülü de, bilgisayarımızdaki sıradan bir Python programından ibarettir. Bu modülün nerede olduğunu da şu komutla görebilirsiniz:"
   ]
  },
  {
   "cell_type": "code",
   "execution_count": 36,
   "id": "76b540d6-be2e-4159-8210-a78b9cdecaa6",
   "metadata": {},
   "outputs": [
    {
     "data": {
      "text/plain": [
       "'/usr/lib/python3.10/webbrowser.py'"
      ]
     },
     "execution_count": 36,
     "metadata": {},
     "output_type": "execute_result"
    }
   ],
   "source": [
    "import webbrowser\n",
    "webbrowser.__file__"
   ]
  },
  {
   "cell_type": "markdown",
   "id": "5a0f14b4-2536-4f6e-8342-7531f8902b7c",
   "metadata": {},
   "source": [
    "Gördüğünüz gibi, webbrowser modülü de, tıpkı os modülü gibi, bilgisayarımızdaki .py uzantılı bir dosyadan başka bir şey değil. İsterseniz bu dosyanın da içini açıp inceleyebilirsiniz.\n",
    "\n",
    "Yalnız şu gerçeği de unutmamalıyız: Python’daki bütün modüller Python programlama dili ile yazılmamıştır. Bazı modüller C ile yazılmıştır. Dolayısıyla C ile yazılmış bir modülün .py uzantılı bir Python dosyası bulunmaz. Mesela sys böyle bir modüldür. Bu modül C programlama dili ile yazıldığı için, kayıtlı bir .py dosyasına sahip değildir. Dolayısıyla bu modülün bir __file__ niteliği de bulunmaz:"
   ]
  },
  {
   "cell_type": "code",
   "execution_count": 37,
   "id": "ccec07ce-808c-4679-a480-ac3bb4832bf1",
   "metadata": {},
   "outputs": [
    {
     "ename": "AttributeError",
     "evalue": "module 'sys' has no attribute '__file__'",
     "output_type": "error",
     "traceback": [
      "\u001b[0;31m---------------------------------------------------------------------------\u001b[0m",
      "\u001b[0;31mAttributeError\u001b[0m                            Traceback (most recent call last)",
      "Cell \u001b[0;32mIn[37], line 2\u001b[0m\n\u001b[1;32m      1\u001b[0m \u001b[38;5;28;01mimport\u001b[39;00m\u001b[38;5;250m \u001b[39m\u001b[38;5;21;01msys\u001b[39;00m\n\u001b[0;32m----> 2\u001b[0m \u001b[43msys\u001b[49m\u001b[38;5;241;43m.\u001b[39;49m\u001b[38;5;18;43m__file__\u001b[39;49m\n",
      "\u001b[0;31mAttributeError\u001b[0m: module 'sys' has no attribute '__file__'"
     ]
    }
   ],
   "source": [
    "import sys\n",
    "sys.__file__"
   ]
  },
  {
   "cell_type": "markdown",
   "id": "e32fd225-0c18-4b55-9b7c-b1c11828dab6",
   "metadata": {},
   "source": [
    "Ama tabii ki, Python’daki standart kütüphane modüllerinin çok büyük bölümü Python ile yazılmıştır ve bu modüllerin kaynak dosyalarını os ve webbrowser modüllerini bulduğunuz dizinde görebilirsiniz. Örneğin önceki derslerimizde bahsi geçen locale ve random gibi modüllerin kaynak dosyalarını da burada bulabilirsiniz.\n",
    "\n",
    "Gelelim asıl konumuz olan ‘modül tanımlama’ya…\n",
    "\n",
    "Hatırlarsanız, Python’da bir fonksiyon tanımlamak için şu söz dizimini kullanıyorduk:\n",
    "\n"
   ]
  },
  {
   "cell_type": "code",
   "execution_count": null,
   "id": "998734e3-020d-4b5d-a95e-50fbf5849735",
   "metadata": {},
   "outputs": [],
   "source": [
    "def fonksiyon_adı(parametreler):\n",
    "    fonksiyon_gövdesi"
   ]
  },
  {
   "cell_type": "markdown",
   "id": "d5efef69-9c5f-4554-b0d5-a9fba4dccacd",
   "metadata": {},
   "source": [
    "Ancak yukarıdaki örneklerden de rahatlıkla görebileceğiniz gibi, modüller için böyle özel bir söz dizimi yoktur. Yazdığınız her Python programı aynı zamanda potansiyel bir modüldür.\n",
    "\n",
    "O halde şimdi gelin bir tane de kendimiz modül yazalım.\n",
    "\n",
    "Mesela bir program dosyası oluşturalım ve adını da sözlük.py koyalım. İşte bu program, aynı zamanda bir Python modülüdür. Bu modülün adı da ‘sözlük’tür. Dediğimiz gibi, Python’da modüller genellikle .py uzantısına sahiptir. Ancak bir modülün adı söylenirken bu .py uzantısı dikkate alınmaz. Bu yüzden elinizdeki ‘sözlük.py’ adlı programın modül adı ‘sözlük’ olacaktır.\n",
    "\n",
    "Gördüğünüz gibi, modül tanımlamakta herhangi bir özel zorluk yok. Yazdığımız her program, otomatik olarak, aynı zamanda bir modül oluyor.\n",
    "\n",
    "sözlük.py adlı programımızın içeriği şöyle olsun:"
   ]
  },
  {
   "cell_type": "code",
   "execution_count": 38,
   "id": "85791fd8-644c-411d-8360-dedc3d42eef0",
   "metadata": {},
   "outputs": [],
   "source": [
    "sözlük = {\"kitap\"      : \"book\",\n",
    "          \"bilgisayar\" : \"computer\",\n",
    "          \"programlama\": \"programming\"}\n",
    "\n",
    "def ara(sözcük):\n",
    "    hata = \"{} kelimesi sözlükte yok!\"\n",
    "    return sözlük.get(sözcük, hata.format(sözcük))"
   ]
  },
  {
   "cell_type": "markdown",
   "id": "f3834afc-f3b9-40fd-bbb5-0185a9fb2c75",
   "metadata": {},
   "source": [
    "İşte böylece ilk modülümüzü tanımlamış olduk. Şimdi de, yazdığımız bu modülü nasıl kullanacağımızı öğrenelim.\n",
    "\n",
    "Esasında kütüphane modülleriyle kendi yazdığımız modüller arasında kullanım açısından pek bir fark yoktur. Bu bölümün başında gördüğümüz kütüphane modüllerini nasıl kullanıyorsak, kendi modüllerimizi de öyle kullanıyoruz.\n",
    "\n",
    "Kütüphane modüllerini anlatırken gördüğümüz gibi, modül sistemi sayesinde, bir program içinde bulunan fonksiyon (ve nitelikleri) başka Python programları içine aktarabiliyoruz. Böylece bir Python programındaki (veya modülündeki) işlevsellikten, başka bir Python programında da yararlanabiliyoruz.\n",
    "\n",
    "Şimdi, eğer bu sözlük.py dosyasını, mesela masaüstüne kaydettiyseniz, masaüstünün bulunduğu konumda bir komut satırı açın ve Python’ın etkileşimli kabuğunu başlatın. Tıpkı kütüphane modüllerinde olduğu gibi, etkileşimli kabukta şu komutu vererek sözlük adlı modülü içe aktarın:\n",
    "\n"
   ]
  },
  {
   "cell_type": "code",
   "execution_count": null,
   "id": "7b9ad386-b47b-4bf8-877a-8268a433d17b",
   "metadata": {},
   "outputs": [],
   "source": [
    "import sözlük\n"
   ]
  },
  {
   "cell_type": "markdown",
   "id": "9114e2ee-894e-4077-922f-c3310e13be0c",
   "metadata": {},
   "source": [
    "Eğer hiçbir şey olmadan bir alt satıra geçildiyse modülünüzü başarıyla içe aktardınız demektir. Eğer No module named sözlük gibi bir hata mesajıyla karşılaşıyorsanız, muhtemelen Python’ı sözlük.py dosyasının olduğu dizinde başlatamamışsınızdır.\n",
    "\n",
    "import sözlük komutunun başarılı olduğunu varsayarak yolumuza devam edelim…\n",
    "\n",
    "+++++++++Modüllerin Yolu\n",
    "\n",
    "Python geliştiricilerinin yazıp dile kaynaştırdığı kütüphane modülleri ile kendi yazdığınız modüller arasında pek bir fark bulunmadığını ifade etmiştik. Her iki modül türü de, içinde Python komutlarını ve veri tiplerini barındıran alelade Python programlarından ibarettir.\n",
    "\n",
    "Ancak şimdiye kadar yaptığımız örneklerde bir şey dikkatinizi çekmiş olmalı. Kütüphane modüllerini her yerden içe aktarabiliyoruz. Yani, komut satırını çalıştırdığımız her konumda veya program dosyamızın bulunduğu her dizin altında bu modülleri rahatlıkla kullanabiliyoruz. Python’ın bu modülleri bulamaması gibi bir şey söz konusu değil.\n",
    "\n",
    "Ama kendi yazdığımız modülleri içe aktarabilmemiz için, bu modüllerin o anda içinde bulunduğumuz dizin altında yer alması gerekiyor. Yani mesela yukarıda örneğini verdiğimiz sözlük modülünü, sözlük.py dosyasını bilgisayarımızdaki hangi konuma kaydetmişsek o konumdan içe aktarabiliyoruz.\n",
    "\n",
    "Diyelim ki sözlük.py dosyasını masaüstüne kaydetmiştik. İşte bu modülü komut satırında içe aktarabilmemiz için, komut satırını da masaüstünün bulunduğu konumda çalıştırmış olmamız gerekiyor.\n",
    "\n",
    "Aynı şekilde eğer biz bu sözlük modülünü, deneme.py adlı başka bir program içinde kullanacaksak, bu deneme.py dosyasının da sözlük.py adlı dosya ile aynı dizinde yer alması gerekiyor.\n",
    "\n",
    "Aksi halde, import sözlük komutu hata verecektir.\n",
    "\n",
    "Peki neden kütüphane modüllerini her yerden içe aktarabilirken, kendi yazdığımız modülleri yalnızca bulundukları dizin altında içe aktarabiliyoruz?\n",
    "\n",
    "Aslında bunun cevabı çok basit: Biz bir program dosyasında veya komut satırında import modül_adı gibi bir komut verdiğimizde Python ‘modül_adı’ olarak belirttiğimiz modülü bulmak için bir arama işlemi gerçekleştirir. Elbette Python bu modülü sabit diskin tamamında aramaz. Python, içe aktarmak istediğimiz modülü bulmak için belli birtakım dizinlerin içini kontrol eder. Peki Python modül dosyasını bulmak için hangi dizinlerin içine bakar? Bu sorunun cevabını bize sys modülünün path adlı bir niteliği verecek. Hemen bakalım:"
   ]
  },
  {
   "cell_type": "code",
   "execution_count": 40,
   "id": "8a9c8096-c0fc-4972-b4c3-6067af552d2a",
   "metadata": {},
   "outputs": [
    {
     "data": {
      "text/plain": [
       "['/usr/lib/python310.zip',\n",
       " '/usr/lib/python3.10',\n",
       " '/usr/lib/python3.10/lib-dynload',\n",
       " '',\n",
       " '/home/toree/.local/lib/python3.10/site-packages',\n",
       " '/usr/local/lib/python3.10/dist-packages',\n",
       " '/usr/lib/python3/dist-packages']"
      ]
     },
     "execution_count": 40,
     "metadata": {},
     "output_type": "execute_result"
    }
   ],
   "source": [
    "import sys\n",
    "sys.path"
   ]
  },
  {
   "cell_type": "markdown",
   "id": "271f0497-eb35-4c7a-8ebf-dadf1a122852",
   "metadata": {},
   "source": [
    "İşte Python bir modül dosyasını ararken, import komutunun verildiği dizin ile birlikte, sys.path çıktısında görünen dizinlerin içine de bakar. Eğer modül dosyasını bu dizinlerin içinde bulursa modülü başarıyla içe aktarır, ama eğer bulamazsa ImportError cinsinden bir hata verir.\n",
    "\n",
    "Peki eğer biz kendi modüllerimizi de her yerden içe aktarabilmek istersek ne yapmamız gerekiyor?\n",
    "\n",
    "Bunun için iki seçeneğimiz var: Birincisi, modülün yolunu sys.path listesine ekleyebiliriz. İkincisi, modülümüzü sys.path içinde görünen dizinlerden birine kopyalayabilir veya taşıyabiliriz.\n",
    "\n",
    "Öncelikle birinci seçeneği ele alalım.\n",
    "\n",
    "Gördüğünüz gibi, sys.path komutunun çıktısı aslında basit bir listeden başka bir şey değildir. Dolayısıyla Python’da liste adlı veri tipi üzerinde ne tür işlemler yapabiliyorsanız, sys.path üzerinde de aynı şeyleri yapabilirsiniz.\n",
    "\n",
    "Mesela, modül dosyasının /home/istihza/programlar adlı dizin içinde bulunduğunu varsayarsak, modül dosyasının yolunu sys.path listesinin en sonuna şu şekilde ekleyebiliriz:"
   ]
  },
  {
   "cell_type": "code",
   "execution_count": null,
   "id": "22872f80-330a-4a26-9fb8-e5519a77c672",
   "metadata": {},
   "outputs": [],
   "source": [
    "sys.path.append(r'/home/istihza/programlar')\n"
   ]
  },
  {
   "cell_type": "markdown",
   "id": "4a73b6f6-fc1c-4a6f-92c3-884eabea16e6",
   "metadata": {},
   "source": [
    "Burada listelerin append() metodunu kullandığımıza dikkat edin. Dediğimiz gibi, sys.path aslında basit bir listeden ibarettir. Dolayısıyla bir listeye nasıl öğe ekliyorsak, sys.path’e de aynı şekilde öğe ekliyoruz.\n",
    "\n",
    "Modül dosyasının bulunduğu /home/istihza/programlar yolunu sys.path listesine eklediğimize göre, artık modülümüzü her yerden içe aktarabiliriz.\n",
    "\n",
    "Kendi yazdığımız bir modülü her yerden içe aktarabilmenin ikinci yönteminin, ilgili modül dosyasını sys.path çıktısında görünen dizinlerden herhangi birine kopyalamak olduğunu söylemiştik. Dolayısıyla, sys.path çıktısına bakıp, modül dosyanızı orada görünen dizinlerden herhangi biri içine kopyalayabilirsiniz. Yaygın olarak tercih edilen konum, Python kurulum dizini içindeki site-packages adlı dizindir. Bu dizinin yerini şu şekilde tespit edebilirsiniz:"
   ]
  },
  {
   "cell_type": "code",
   "execution_count": null,
   "id": "c9f0e293-abe7-43d2-a9f1-9ff1ca19b225",
   "metadata": {},
   "outputs": [],
   "source": [
    "from distutils import sysconfig\n",
    "sysconfig.get_python_lib()"
   ]
  },
  {
   "cell_type": "markdown",
   "id": "0950a122-55c5-42c1-8c89-d6a2e4c1d3b6",
   "metadata": {},
   "source": [
    "Modül dosyanızı, bu komutlardan aldığınız çıktının gösterdiği dizin içine kopyaladıktan sonra, modülünüzü her yerden içe aktarabilirsiniz.\n",
    "\n",
    "Bu konuyu kapatmadan önce sys.path ile ilgili önemli bir bilgi daha verelim. Python, içe aktarmak istediğimiz bir modülü bulabilmek için dizinleri ararken sys.path listesindeki dizin adlarını soldan sağa doğru okur. Modül dosyasını bulduğu anda da arama işlemini sona erdirir ve modülü içe aktarır. Diyelim ki sys.path çıktımız şöyle:\n",
    "\n"
   ]
  },
  {
   "cell_type": "code",
   "execution_count": null,
   "id": "d08f3b0c-eceb-4d4e-88bf-b71e8b20cb9d",
   "metadata": {},
   "outputs": [],
   "source": [
    "['A', 'B', 'C']\n"
   ]
  },
  {
   "cell_type": "markdown",
   "id": "f208f820-f621-4cd8-8905-7e3f7319f93c",
   "metadata": {},
   "source": [
    "Eğer hem A, hem de B dizininde sözlük.py adlı bir dosya varsa, Python A dizinindeki sözlük modülünü içe aktarır. Çünkü sys.path çıktısında A dizini B dizininden önce geliyor. Eğer siz içe aktarma sırasında bir dizine öncelik vermek isterseniz o dizini append() metoduyla sys.path listesinin sonuna eklemek yerine, insert() metoduyla listenin en başına ekleyebilirsiniz:"
   ]
  },
  {
   "cell_type": "code",
   "execution_count": null,
   "id": "ca4e9e9b-f869-431b-8a7a-072954e8bb97",
   "metadata": {},
   "outputs": [],
   "source": [
    "sys.path.insert(0, r'dizin/adı')\n"
   ]
  },
  {
   "cell_type": "markdown",
   "id": "71f68f9b-92c1-47ee-a71b-3fa34df413af",
   "metadata": {},
   "source": [
    "Böylece Python, modülünüzü en başa eklediğiniz dizinden içe aktaracaktır.\n",
    "\n",
    "Tekrar tekrar söylediğimiz gibi, sys.path sıradan bir listedir. Dolayısıyla listelerin üzerine hangi metotları uygulayabiliyorsanız sys.path üzerine de o metotları uygulayabilirsiniz.\n",
    "\n",
    "++++++++++++Modüllerde Değişiklik Yapmak\n",
    "\n",
    "Python’da bir modül başka bir ortama aktarıldığında, o modülün içinde yer alan nitelik ve fonksiyonların o ortam içinden kullanılabilir hale geldiğini biliyorsunuz. Yukarıdaki örnekte biz import sözlük komutuyla, sözlük adlı modülün bütün içeriğini etkileşimli kabuk ortamına (veya program dosyasına) aktarmış olduk. Dolayısıyla da artık bu modülün bütün içeriğine erişebiliriz. Peki acaba bu modül içinde bizim erişebileceğimiz hangi nitelik ve fonksiyonlar bulunuyor?\n",
    "\n",
    "Tıpkı kütüphane modüllerini işlerken yaptığımız gibi, dir() fonksiyonundan yararlanarak, içe aktardığımız bu modül içindeki kullanılabilir fonksiyon ve nitelikleri görebilirsiniz:\n",
    "\n"
   ]
  },
  {
   "cell_type": "code",
   "execution_count": null,
   "id": "41018c63-cec8-4af2-ae98-2ea4f9b4bde6",
   "metadata": {},
   "outputs": [],
   "source": [
    "dir(sözlük)\n",
    "['__builtins__', '__cached__', '__doc__',\n",
    "'__file__', '__loader__', '__name__',\n",
    "'__package__', '__spec__', 'ara', 'sözlük']"
   ]
  },
  {
   "cell_type": "markdown",
   "id": "5d644cc0-e338-4e76-babb-82c9d8cbd27f",
   "metadata": {},
   "source": [
    "Gördüğünüz gibi, nasıl os modülünün içinde name, listdir() ve getcwd() gibi nitelik ve fonksiyonlar varsa, kendi yazdığımız sözlük modülü içinde de ara() adlı bir fonksiyon ve sözlük adlı bir nitelik var.\n",
    "\n",
    "İşte biz bu fonksiyon ve niteliği kullanma imkanına sahibiz. Gelin birkaç deneme çalışması yapalım:\n",
    "\n"
   ]
  },
  {
   "cell_type": "code",
   "execution_count": null,
   "id": "d939e49b-bb3a-47ff-8d23-130f50d60b69",
   "metadata": {},
   "outputs": [],
   "source": [
    "sözlük.sözlük\n"
   ]
  },
  {
   "cell_type": "markdown",
   "id": "733c3b36-4bb0-4303-bdf5-259a384b3a56",
   "metadata": {},
   "source": [
    "Bu komutun, bir kütüphane modülündeki niteliklere erişmekten hiçbir farkı olmadığına dikkatinizi çekmek isterim. Mesela sys modülünün version niteliğine nasıl erişiyorsak, sözlük modülünün sözlük niteliğine de aynı şekilde erişiyoruz.\n",
    "\n",
    "sözlük.sözlük komutu bize sözlük modülü içindeki sözlük adlı değişkenin içeriğini verecektir.\n",
    "\n",
    "Şimdi de aynı modül içindeki ara() fonksiyonuna erişelim:"
   ]
  },
  {
   "cell_type": "code",
   "execution_count": null,
   "id": "62cb3275-a27e-49d6-a85f-8e9d86c04892",
   "metadata": {},
   "outputs": [],
   "source": [
    "sözlük.ara('kitap')\n"
   ]
  },
  {
   "cell_type": "markdown",
   "id": "c38efc39-a73a-42cb-bd13-42db87abfccf",
   "metadata": {},
   "source": [
    "Bu da bize ara() fonksiyonunu kitap argümanıyla birlikte çağırma imkanı veriyor.\n",
    "\n",
    "Yukarıda verdiğimiz örnekte sözlük modülünü etkileşimli kabuk üzerinde kullandık. Elbette program yazarken modülleri etkileşimli kabukta değil, program dosyaları içinde kullanacağız. Ancak özellikle bir modülün geliştirilme aşamasında o modülü test etmek için etkileşimli kabuk üzerinde çalışmak oldukça pratik ve faydalı bir yoldur. Mesela yazmakta olduğunuz bir programın (diğer bir deyişle modülün) nitelik ve fonksiyonlarını test etmek için, o programı etkileşimli kabukta bir modül olarak içe aktarıp çeşitli deneme çalışmaları yapabilirsiniz.\n",
    "\n",
    "Dilerseniz yine yukarıdaki örnek üzerinden gidelim:"
   ]
  },
  {
   "cell_type": "code",
   "execution_count": null,
   "id": "e113820f-2fee-4fc1-a90d-72cb309eb00c",
   "metadata": {},
   "outputs": [],
   "source": [
    "sözlük = {\"kitap\"      : \"book\",\n",
    "          \"bilgisayar\" : \"computer\",\n",
    "          \"programlama\": \"programming\"}\n",
    "\n",
    "def ara(sözcük):\n",
    "    hata = \"{} kelimesi sözlükte yok!\"\n",
    "    return sözlük.get(sözcük, hata.format(sözcük))"
   ]
  },
  {
   "cell_type": "markdown",
   "id": "1581af4c-b18f-411f-a936-f75e0a606b72",
   "metadata": {},
   "source": [
    "Bu modülü içe aktaralım:\n",
    "\n"
   ]
  },
  {
   "cell_type": "code",
   "execution_count": null,
   "id": "30f23830-0b0b-4462-be64-0ae1bba2af4a",
   "metadata": {},
   "outputs": [],
   "source": [
    "import sözlük\n"
   ]
  },
  {
   "cell_type": "markdown",
   "id": "34b6b888-3343-482c-a29f-97b48ad28e49",
   "metadata": {},
   "source": [
    "Modülün içeriğini kontrol edelim:\n",
    "\n"
   ]
  },
  {
   "cell_type": "code",
   "execution_count": null,
   "id": "895f5b35-9974-4dbb-9bd5-5e456429cdb4",
   "metadata": {
    "jupyter": {
     "source_hidden": true
    }
   },
   "outputs": [],
   "source": [
    "dir(sözlük)\n"
   ]
  },
  {
   "cell_type": "markdown",
   "id": "397b8ad3-3bd9-4724-8c59-7e64be4879c4",
   "metadata": {},
   "source": [
    "Bu komutun çıktısında sözlük niteliğini ve ara() fonksiyonunu görüyoruz. Gelin şimdi programımıza bir ekleme yapalım:\n",
    "\n"
   ]
  },
  {
   "cell_type": "code",
   "execution_count": null,
   "id": "8e93b590-63ce-4d19-af30-b8f65e585b29",
   "metadata": {},
   "outputs": [],
   "source": [
    "sözlük = {\"kitap\"      : \"book\",\n",
    "          \"bilgisayar\" : \"computer\",\n",
    "          \"programlama\": \"programming\"}\n",
    "\n",
    "def ara(sözcük):\n",
    "    hata = \"{} kelimesi sözlükte yok!\"\n",
    "    return sözlük.get(sözcük, hata.format(sözcük))\n",
    "\n",
    "def ekle(sözcük, anlam):\n",
    "    mesaj = \"{} kelimesi sözlüğe eklendi!\"\n",
    "    sözlük[sözcük] = anlam\n",
    "    print(mesaj.format(sözcük))"
   ]
  },
  {
   "cell_type": "markdown",
   "id": "16630561-354a-4622-ac1e-ed48755a3dd6",
   "metadata": {},
   "source": [
    "Burada sözlük modülüne ekle() adlı bir fonksiyon ilave ettik. Bu fonksiyon, sözlüğe yeni kelimeler eklememizi sağlayacak. Şimdi tekrar modülümüzün içeriğini kontrol edelim:\n",
    "\n"
   ]
  },
  {
   "cell_type": "code",
   "execution_count": null,
   "id": "51b5d942-02ce-46f6-8eed-b0e529fb0196",
   "metadata": {},
   "outputs": [],
   "source": [
    "dir(sözlük)\n"
   ]
  },
  {
   "cell_type": "markdown",
   "id": "bad1658f-0c57-41bd-9a0a-731139f67b43",
   "metadata": {},
   "source": [
    "Ancak gördüğünüz gibi, modüle yeni eklediğimiz ekle() fonksiyonu bu çıktıda görünmüyor. Bunun nedeni, etkileşimli kabukta modül bir kez içe aktarıldıktan sonra, o modülde yapılan değişikliklerin otomatik olarak etkinleşmiyor oluşudur. Yani değişikliklerin etkileşimli kabukta etkinleşebilmesi için o modülü yeniden yüklememiz lazım. Bunu iki şekilde yapabiliriz:\n",
    "\n",
    "Birincisi, etkileşimli kabuğu kapatıp yeniden açtıktan sonra import sözlük komutuyla sözlük modülünü tekrar içe aktarabiliriz.\n",
    "\n",
    "İkincisi, importlib adlı bir kütüphane modülünden yararlanarak kendi modülümüzün tekrar yüklenmesini sağlayabiliriz. Bu modülü şöyle kullanıyoruz:"
   ]
  },
  {
   "cell_type": "code",
   "execution_count": null,
   "id": "d384ae28-be01-4593-b24e-97f3ac7ca52d",
   "metadata": {},
   "outputs": [],
   "source": [
    "import importlib\n",
    "importlib.reload(sözlük)"
   ]
  },
  {
   "cell_type": "markdown",
   "id": "b98408ea-7258-4b21-a989-22923719bc95",
   "metadata": {},
   "source": [
    "Bu iki komutu verdikten sonra, sözlük üzerinde tekrar dir() fonksiyonunu uygularsak, yeni eklediğimiz ekle() fonksiyonunun çıktıya yansıdığını görürüz:"
   ]
  },
  {
   "cell_type": "code",
   "execution_count": null,
   "id": "0fe0c48f-2085-445c-a4f3-2c8e4539da48",
   "metadata": {},
   "outputs": [],
   "source": [
    "dir(sözlük)\n",
    "\n",
    "['__builtins__', '__cached__', '__doc__', '__file__',\n",
    "'__loader__', '__name__', '__package__', '__spec__',\n",
    "'ara', 'ekle', 'sözlük']"
   ]
  },
  {
   "cell_type": "markdown",
   "id": "5e5e7c82-564f-483f-b11e-2d0e88f9b67b",
   "metadata": {},
   "source": [
    "Tıpkı önceki derslerimizde gördüğümüz sys, os ve keyword modülleri gibi, importlib de bir kütüphane modülüdür. Bu modülün bizim yukarıda yazdığımız sözlük adlı modülden farkı, Python geliştiricileri tarafından yazılıp dile entegre edilmiş bir ‘hazır modül’ olmasıdır. Yani sözlük modülünü biz kendimiz yazdık, importlib modülünü ise Python geliştiricileri yazdı. İkisi arasındaki tek fark bu.\n",
    "\n",
    "Ne diyorduk? Evet, sözlük adlı modüle ekle() adlı yeni bir fonksiyon ilave ettik. Bu fonksiyona da, tıpkı sözlük niteliğinde ve ara() fonksiyonunda olduğu gibi, modül adını kullanarak erişebiliriz:"
   ]
  },
  {
   "cell_type": "code",
   "execution_count": null,
   "id": "ee0102dd-7193-4308-8c8e-066305426066",
   "metadata": {},
   "outputs": [],
   "source": [
    "sözlük.ekle('araba', 'car')\n",
    "\n",
    "araba kelimesi sözlüğe eklendi!"
   ]
  },
  {
   "cell_type": "markdown",
   "id": "133b1713-1c4f-4546-9b15-902b13815a49",
   "metadata": {},
   "source": [
    "Sözlüğümüze, ‘araba’ adlı yeni bir kelimeyi, ‘car’ karşılığı ile birlikte ekledik. Hemen bunu sorgulayalım:\n",
    "\n"
   ]
  },
  {
   "cell_type": "code",
   "execution_count": null,
   "id": "58c5ac1e-548c-4739-b875-81aa0da5db2d",
   "metadata": {},
   "outputs": [],
   "source": [
    "sözlük.ara('araba')\n",
    "'car'"
   ]
  },
  {
   "cell_type": "markdown",
   "id": "5530d5d2-3d8f-4469-b5c6-3230b9c1d6a2",
   "metadata": {},
   "source": [
    "Gayet güzel! Şimdi sözlüğümüze bir ekleme daha yapalım:\n",
    "\n"
   ]
  },
  {
   "cell_type": "code",
   "execution_count": null,
   "id": "25061d99-6317-4121-9795-f971692a3de3",
   "metadata": {},
   "outputs": [],
   "source": [
    "sözlük = {\"kitap\"      : \"book\",\n",
    "          \"bilgisayar\" : \"computer\",\n",
    "          \"programlama\": \"programming\"}\n",
    "\n",
    "def ara(sözcük):\n",
    "    hata = \"{} kelimesi sözlükte yok!\"\n",
    "    return sözlük.get(sözcük, hata.format(sözcük))\n",
    "\n",
    "def ekle(sözcük, anlam):\n",
    "    mesaj = \"{} kelimesi sözlüğe eklendi!\"\n",
    "    sözlük[sözcük] = anlam\n",
    "    print(mesaj.format(sözcük))\n",
    "\n",
    "def sil(sözcük):\n",
    "    try:\n",
    "        sözlük.pop(sözcük)\n",
    "    except KeyError as err:\n",
    "        print(err, \"kelimesi bulunamadı!\")\n",
    "    else:\n",
    "        print(\"{} kelimesi sözlükten silindi!\".format(sözcük))"
   ]
  },
  {
   "cell_type": "markdown",
   "id": "fe4e091b-e6c7-49e3-a2e5-a69024ed1c9c",
   "metadata": {},
   "source": [
    "\n",
    "Bu defa da modülümüze sil() adlı başka bir fonksiyon ekledik. Bu fonksiyon, sözlükten öğe silmemizi sağlayacak:\n",
    "\n"
   ]
  },
  {
   "cell_type": "code",
   "execution_count": null,
   "id": "ae335ae7-ad90-4569-9680-b04cd4ff8965",
   "metadata": {},
   "outputs": [],
   "source": [
    "sözlük.sil('kitap')\n",
    "\n",
    "Traceback (most recent call last):\n",
    "  File \"<stdin>\", line 1, in <module>\n",
    "AttributeError: 'module' object has no attribute 'sil'"
   ]
  },
  {
   "cell_type": "markdown",
   "id": "425a41bf-ba17-474b-8935-07373e92f3a5",
   "metadata": {},
   "source": [
    "Gördüğünüz gibi, bu kez bir hata mesajı aldık. Peki sizce neden? Elbette değişiklik yaptıktan sonra modülü yeniden yüklemediğimizden… O halde önce modülümüzü yeniden yükleyelim:"
   ]
  },
  {
   "cell_type": "code",
   "execution_count": null,
   "id": "4319a799-9984-45ea-95a5-003c934a6b0a",
   "metadata": {},
   "outputs": [],
   "source": [
    "importlib.reload(sözlük)\n"
   ]
  },
  {
   "cell_type": "markdown",
   "id": "ff210e9a-6477-4829-ae76-2b09d220111b",
   "metadata": {},
   "source": [
    "Şimdi bu fonksiyonu kullanabiliriz:\n",
    "\n"
   ]
  },
  {
   "cell_type": "code",
   "execution_count": null,
   "id": "a3b4df6d-3eb3-4e74-9b0a-bd9984fa5cf3",
   "metadata": {},
   "outputs": [],
   "source": [
    "sözlük.sil('kitap')\n",
    "kitap kelimesi sözlükten silindi!\n"
   ]
  },
  {
   "cell_type": "markdown",
   "id": "962b9489-8ea7-443f-8349-e4e4338cd48a",
   "metadata": {},
   "source": [
    "Bu noktada, importlib modülünün reload() fonksiyonunun çalışma sistemine ilişkin birkaç önemli bilgi verelim.\n",
    "\n",
    "importlib modülünün reload() fonksiyonu, bir modüle yeni eklenen öğeleri yeniden yükleyerek, bunların etkileşimli kabukta kullanılabilir hale gelmesini sağlar. Bunun ne demek olduğunu biliyoruz. Yukarıda bunun örneklerini vermiştik.\n",
    "\n",
    "Eğer bir modüldeki bazı nitelik veya fonksiyonları silerseniz, importlib modülünün reload() fonksiyonu ile bu modülü yeniden yükledikten sonra bile bu nitelik ve fonksiyonlar önbellekte tutulmaya devam eder. Örneğin, yukarıdaki sözlük modülünü önce içe aktaralım:"
   ]
  },
  {
   "cell_type": "code",
   "execution_count": null,
   "id": "3a7c03f7-934c-49c7-ad79-cf20d753ec81",
   "metadata": {},
   "outputs": [],
   "source": [
    "import sözlük\n"
   ]
  },
  {
   "cell_type": "markdown",
   "id": "dbf297d0-fe7a-4e97-a37d-6d3a15b3b03a",
   "metadata": {},
   "source": [
    "Şimdi modülün içeriğini kontrol edelim:\n",
    "\n"
   ]
  },
  {
   "cell_type": "code",
   "execution_count": null,
   "id": "317a60c1-c52e-4b50-bf34-485b2734b601",
   "metadata": {},
   "outputs": [],
   "source": [
    "dir(sözlük)\n",
    "['__builtins__', '__cached__', '__doc__', '__file__',\n",
    "'__loader__', '__name__', '__package__', '__spec__',\n",
    "'ara', 'ekle', 'sil', 'sözlük']\n"
   ]
  },
  {
   "cell_type": "markdown",
   "id": "49e5a9fb-1183-4334-954d-3c5022680f2a",
   "metadata": {},
   "source": [
    "Modül dosyasından sil() adlı fonksiyonu çıkaralım. Yani modülümüzün son hali şöyle olsun:"
   ]
  },
  {
   "cell_type": "code",
   "execution_count": null,
   "id": "32975e3e-f60c-414e-bc5c-d00cc8e7d7af",
   "metadata": {},
   "outputs": [],
   "source": [
    "sözlük = {\"kitap\"      : \"book\",\n",
    "          \"bilgisayar\" : \"computer\",\n",
    "          \"programlama\": \"programming\"}\n",
    "\n",
    "def ara(sözcük):\n",
    "    hata = \"{} kelimesi sözlükte yok!\"\n",
    "    return sözlük.get(sözcük, hata.format(sözcük))\n",
    "\n",
    "def ekle(sözcük, anlam):\n",
    "    mesaj = \"{} kelimesi sözlüğe eklendi!\"\n",
    "    sözlük[sözcük] = anlam\n",
    "    print(mesaj.format(sözcük))"
   ]
  },
  {
   "cell_type": "markdown",
   "id": "354d00d0-cd31-47c6-a494-b0c25171300a",
   "metadata": {},
   "source": [
    "Tekrar etkileşimli kabuğa dönüp, importlib modülünün reload() fonksiyonu aracılığıyla modülümüzü yeniden yükleyelim:\n",
    "\n"
   ]
  },
  {
   "cell_type": "code",
   "execution_count": null,
   "id": "8cae6b65-98de-46c6-b5d7-d0b69d428cd9",
   "metadata": {},
   "outputs": [],
   "source": [
    "import importlib\n",
    "importlib.reload(sözlük)"
   ]
  },
  {
   "cell_type": "markdown",
   "id": "8cc096fd-cf7a-4ed4-8914-404f4810c34e",
   "metadata": {},
   "source": [
    "Şimdi sözlük modülünün içeriğini tekrar kontrol edelim:\n",
    "\n"
   ]
  },
  {
   "cell_type": "code",
   "execution_count": null,
   "id": "09581663-440d-4a11-9b41-3fb7b80c1c97",
   "metadata": {},
   "outputs": [],
   "source": [
    "dir(sözlük)\n",
    "\n",
    "['__builtins__', '__cached__', '__doc__', '__file__',\n",
    "'__loader__', '__name__', '__package__', '__spec__',\n",
    "'ara', 'ekle', 'sil', 'sözlük']"
   ]
  },
  {
   "cell_type": "markdown",
   "id": "6cbed810-1f1e-4703-8a85-ef04a32930db",
   "metadata": {},
   "source": [
    "Gördüğünüz gibi, biz sil() fonksiyonunu çıkarmış olduğumuz halde, dir(sözlük) çıktısında bu öğe görünmeye devam ediyor. Üstelik bu fonksiyon halen kullanılabilir durumda!"
   ]
  },
  {
   "cell_type": "code",
   "execution_count": null,
   "id": "35f615ee-653c-4007-b146-d9f72d1bba2e",
   "metadata": {},
   "outputs": [],
   "source": [
    "sözlük.sil('programlama')\n",
    "programlama kelimesi sözlükten silindi!\n"
   ]
  },
  {
   "cell_type": "markdown",
   "id": "ba17c959-2fb9-445e-9b45-e226426fdee6",
   "metadata": {},
   "source": [
    "Ancak bu durumu rahatlıkla görmezden gelebilirsiniz. Ama eğer o öğenin orada olması sizi rahatsız ediyorsa, şu komutla o öğeyi silebilirsiniz:\n",
    "\n"
   ]
  },
  {
   "cell_type": "code",
   "execution_count": null,
   "id": "fdb2ba8a-4806-4467-9410-e080f2f32e4e",
   "metadata": {},
   "outputs": [],
   "source": [
    "del sözlük.sil\n"
   ]
  },
  {
   "cell_type": "markdown",
   "id": "7ebfffa5-b97a-4dbe-9cfa-1044e6900219",
   "metadata": {},
   "source": [
    "Dediğimiz gibi, modülden silinen öğeler, reload() ile yeniden yüklendikten sonra dahi kullanılır durumda kalmaya devam eder. Ama eğer modül içinde varolan bir öğe üzerinde değişiklik yaparsanız o değişiklik, reload() sonrası modülün görünümüne yansıyacaktır. Yani mesela, modülde halihazırda varolan sil() fonksiyonu üzerinde bir değişiklik yaparsanız, bu değişiklik reload() ile yeniden yükleme sonrasında etkileşimli kabuğa yansıyacaktır.\n",
    "\n",
    "+++++++++Üçüncü Şahıs Modülleri\n",
    "\n",
    "Buraya kadar Python’daki kütüphane modüllerinden ve kendi yazdığımız modüllerden söz ettik. Artık modüllerin ne olduğunu ve ne işe yaradığını gayet iyi biliyoruz. Bu bölümde ise, yine bir ‘hazır modül’ türü olan üçüncü şahıs modüllerinden bahsedeceğiz.\n",
    "\n",
    "Üçüncü şahıs modülleri, başka Python programcıları tarafından yazılıp hizmetimize sunulmuş programlardır. Bu yönüyle bunlar kütüphane modüllerine çok benzer. Ama bu ikisi arasında önemli bir fark bulunur: Kütüphane modülleri Python programlama dilinin bir parçasıdır. Dolayısıyla kütüphane modüllerini kullanmak için herhangi bir ek yazılım indirmemiz gerekmez. Üçüncü şahıs modülleri ise dilin bir parçası değildir. Bu modülleri kullanabilmek için, öncelikle bunları modül geliştiricisinin koyduğu yerden bilgisayarımıza indirmemiz gerekir.\n",
    "\n",
    "Hatırlarsanız ilk derslerimizde Cx_Freeze adlı bir yazılımdan söz etmiştik. İşte bu yazılım bir üçüncü şahıs modülüdür. Bu modülü kullanabilmek için öncelikle ilgili yazılımı programımıza kurmamız gerekmişti.\n",
    "\n",
    "Python için yazılmış üçüncü şahıs modüllerine çeşitli kaynaklardan ulaşabilirsiniz. Bu tür modülleri bulabileceğiniz en geniş kaynak https://pypi.org/ adresidir. Burada 60.000’in üzerinde modüle ulaşabilirsiniz.\n",
    "\n",
    "Peki bu modülleri nasıl kuracağız?\n",
    "\n",
    "Eğer bir modül https://pypi.org/ adresinde ise, bu modülü sistem komut satırında şu şekilde kurabilirsiniz:"
   ]
  },
  {
   "cell_type": "raw",
   "id": "cc87427c-764f-443c-b31e-46f384c362f7",
   "metadata": {},
   "source": [
    "pip3 install modül_adı\n"
   ]
  },
  {
   "cell_type": "raw",
   "id": "a97c2a57-25f5-4352-bc85-4386b829e014",
   "metadata": {},
   "source": [
    "Python’ın 2.7.9 ve 3.4.0 sürümlerinden itibaren, pip adlı yazılım öntanımlı olarak Python kurulumuyla birlikte geliyor. Dolayısıyla Python2’deki pip’i kullanmak isterseniz pip2 komutunu, Python3’teki pip’i kullanmak isterseniz de pip3 komutunu kullanabilirsiniz."
   ]
  },
  {
   "cell_type": "markdown",
   "id": "c95061bd-9fc5-4204-aaf3-18ca68d2372b",
   "metadata": {},
   "source": [
    "Örneğin amacınız Django adlı üçüncü şahıs modülünü kurmak ise bu modülü şu komut ile kurabilirsiniz:"
   ]
  },
  {
   "cell_type": "raw",
   "id": "c819b3ed-f5fc-4b3b-9d16-28ebf3665ce8",
   "metadata": {},
   "source": [
    "pip3 install django\n"
   ]
  },
  {
   "cell_type": "markdown",
   "id": "91ebef4c-3ac7-45ea-bec2-4df4d00daef2",
   "metadata": {},
   "source": [
    "Eğer bir üçüncü şahıs modülünü https://pypi.org/ adresinden değil de başka bir kaynaktan indiriyorsanız, kurulum için birkaç farklı seçenek olabilir.\n",
    "\n",
    "Eğer indireceğiniz dosya Windows işletim sistemine uyumlu bir .exe dosyasıysa, bunu herhangi bir Windows programı gibi kurabilirsiniz.\n",
    "\n",
    "Eğer indireceğiniz dosya .tar.gz veya .zip gibi sıkıştırılmış bir klasör olarak iniyorsa öncelikle bu sıkıştırılmış klasörü açın. Eğer klasör içeriğinde setup.py adlı bir dosya görürseniz bu dosyanın bulunduğu konumda bir komut satırı açın ve şu komutu verin:"
   ]
  },
  {
   "cell_type": "raw",
   "id": "48d60218-e1b7-4034-99fe-7194d8e4766c",
   "metadata": {},
   "source": [
    "python setup.py install\n"
   ]
  },
  {
   "cell_type": "markdown",
   "id": "f44d69d6-c278-4d12-bfbb-f8ed792542f6",
   "metadata": {},
   "source": [
    "Tabii burada python komutunun python3 mü, py -3 mü yoksa başka bir şey mi olacağı tamamen sizin Python kurulumunu nasıl yaptığınıza bağlıdır. Neticede siz oraya, Python’ı hangi komutla başlatıyorsanız onu yazacaksınız. Yani eğer Python’ı python3 komutuyla başlatıyorsanız yukarıdaki komutu şöyle vereceksiniz:"
   ]
  },
  {
   "cell_type": "raw",
   "id": "8f0c0e53-d094-479d-954a-89446ac1873d",
   "metadata": {},
   "source": [
    "python3 setup.py install\n"
   ]
  },
  {
   "cell_type": "markdown",
   "id": "6cbebff0-e989-4186-a47c-59c7fbab2398",
   "metadata": {},
   "source": [
    "Aynı şekilde, GNU/Linux kullanıcılarının da bu komutu yetkili kullanıcı olarak vermesi gerekecektir muhtemelen:\n",
    "\n"
   ]
  },
  {
   "cell_type": "raw",
   "id": "763d5244-139b-4192-b219-9087107e6cb9",
   "metadata": {},
   "source": [
    "sudo python3 setup.py install\n"
   ]
  },
  {
   "cell_type": "markdown",
   "id": "b384aaa2-c3c6-4f3f-8543-3f0a667452e6",
   "metadata": {},
   "source": [
    "Veya önce:\n",
    "\n"
   ]
  },
  {
   "cell_type": "raw",
   "id": "151110e9-1e34-4148-85cf-5ad72d013c9e",
   "metadata": {},
   "source": [
    "su -"
   ]
  },
  {
   "cell_type": "markdown",
   "id": "44c51035-1a42-4757-b12d-92336738d818",
   "metadata": {},
   "source": [
    "Ardından:"
   ]
  },
  {
   "cell_type": "raw",
   "id": "7a059922-a66b-44b7-86b0-60a089a662b8",
   "metadata": {},
   "source": [
    "python3 setup.py install"
   ]
  },
  {
   "cell_type": "markdown",
   "id": "63071519-08f9-4489-a6b0-0accf20e2d3f",
   "metadata": {},
   "source": [
    "İndirip kurduğunuz bir üçüncü şahıs modülünü nasıl kullanacağınızı, indirdiğiniz modülün belgelerine bakarak öğrenebilirsiniz.\n",
    "\n",
    "Paketler konusunu işlerken üçüncü şahıs modüllerinden daha ayrıntılı bir şekilde söz edeceğiz.\n",
    "\n",
    "\n",
    "+++++++++__all__ Listesi\n",
    "\n",
    "Önceki başlıklar altında da ifade ettiğimiz gibi, farklı içe aktarma yöntemlerini kullanarak, bir modül içindeki öğeleri farklı şekillerde içe aktarabiliyoruz. Gelin isterseniz Python’ın içe aktarma mekanizmasını anlayabilmek için ufak bir test yapalım.\n",
    "\n",
    "Şimdi masaüstünde, içeriği aşağıdaki gibi olan, modül.py adlı bir dosya oluşturun:"
   ]
  },
  {
   "cell_type": "markdown",
   "id": "987ec75a-1a19-432c-a110-494636340f12",
   "metadata": {},
   "source": [
    "Önceki başlıklar altında da ifade ettiğimiz gibi, farklı içe aktarma yöntemlerini kullanarak, bir modül içindeki öğeleri farklı şekillerde içe aktarabiliyoruz. Gelin isterseniz Python’ın içe aktarma mekanizmasını anlayabilmek için ufak bir test yapalım.\n",
    "\n",
    "Şimdi masaüstünde, içeriği aşağıdaki gibi olan, modül.py adlı bir dosya oluşturun:"
   ]
  },
  {
   "cell_type": "code",
   "execution_count": 42,
   "id": "eed14a17-ba51-46ae-8636-db5fbd9e4675",
   "metadata": {},
   "outputs": [],
   "source": [
    "def fonk1():\n",
    "    print('fonk1')\n",
    "\n",
    "def fonk2():\n",
    "    print('fonk2')\n",
    "\n",
    "def fonk3():\n",
    "    print('fonk3')\n",
    "\n",
    "def fonk4():\n",
    "    print('fonk4')\n",
    "\n",
    "def fonk5():\n",
    "    print('fonk5')\n",
    "\n",
    "def _fonk6():\n",
    "    print('_fonk6')\n",
    "\n",
    "def __fonk7():\n",
    "    print('__fonk7')\n",
    "\n",
    "def fonk8_():\n",
    "    print('fonk8_')"
   ]
  },
  {
   "cell_type": "markdown",
   "id": "c3f8a187-69ef-453d-a653-7a319188427e",
   "metadata": {},
   "source": [
    "Daha sonra, masaüstünün bulunduğu konumda bir komut penceresi açarak Python’ın etkileşimli kabuğunu çalıştırın ve orada şu komutu verip bu modül.py adlı dosyayı bir modül olarak içe aktarın:\n",
    "\n"
   ]
  },
  {
   "cell_type": "code",
   "execution_count": null,
   "id": "ad8fd607-d5c2-4c16-8fb9-f63856e8c225",
   "metadata": {},
   "outputs": [],
   "source": [
    "import modül\n"
   ]
  },
  {
   "cell_type": "markdown",
   "id": "f1450cb3-6d52-459e-9e3d-d0484429f603",
   "metadata": {},
   "source": [
    "Şimdi de şu komutu kullanarak modül içeriğini kontrol edin:\n",
    "\n"
   ]
  },
  {
   "cell_type": "code",
   "execution_count": null,
   "id": "6b5e866a-f149-4d88-b88a-e5a6ff4148fe",
   "metadata": {},
   "outputs": [],
   "source": [
    "dir(modül)\n",
    "['__builtins__', '__cached__', '__doc__', '__file__', '__fonk7',\n",
    " '__loader__', '__name__', '__package__', '__spec__', '_fonk6',\n",
    " 'fonk1', 'fonk2', 'fonk3', 'fonk4', 'fonk5', 'fonk8_']\n"
   ]
  },
  {
   "cell_type": "markdown",
   "id": "c84aea93-c922-4eb3-9cd1-9d57f8cea847",
   "metadata": {},
   "source": [
    "Gördüğünüz gibi, modül içinde tanımladığımız bütün fonksiyonlar bu listede var. Dolayısıyla bu fonksiyonlara şu şekilde erişebiliyoruz:"
   ]
  },
  {
   "cell_type": "code",
   "execution_count": null,
   "id": "82d75676-73f4-4f6d-9bf5-5da1a915e6b0",
   "metadata": {},
   "outputs": [],
   "source": [
    "modül.fonk1()\n",
    "\n",
    "fonk1\n",
    "\n",
    "modül.fonk2()\n",
    "\n",
    "fonk2\n",
    "\n",
    "modül._fonk6()\n",
    "\n",
    "_fonk6\n",
    "\n",
    "modül.__fonk7()\n",
    "\n",
    "__fonk7\n",
    "\n",
    "modül.fonk8_()\n",
    "\n",
    "fonk8_"
   ]
  },
  {
   "cell_type": "markdown",
   "id": "7bdbd4aa-b195-49e6-ba1d-82e03806f711",
   "metadata": {},
   "source": [
    "Bu şekilde, istisnasız bütün fonksiyonlara erişim yetkisi elde ettiğimize dikkatinizi çekmek isterim.\n",
    "\n",
    "Şimdi etkileşimli kabuğu kapatıp tekrar açalım ve bu kez modülümüzü şu şekilde içe aktaralım:"
   ]
  },
  {
   "cell_type": "code",
   "execution_count": null,
   "id": "c0e92704-c187-4df0-b559-a64470c94ca2",
   "metadata": {
    "jupyter": {
     "source_hidden": true
    }
   },
   "outputs": [],
   "source": [
    "from modül import *\n"
   ]
  },
  {
   "cell_type": "markdown",
   "id": "15a9a39c-c408-49fd-8e77-eacf95eab66a",
   "metadata": {},
   "source": [
    "Bu şekilde, ismi _ ile başlayanlar hariç bütün fonksiyonları, modül öneki olmadan mevcut etki alanına aktardığımızı biliyoruz.\n",
    "\n",
    "Kontrol edelim:\n",
    "\n"
   ]
  },
  {
   "cell_type": "code",
   "execution_count": null,
   "id": "7167a434-325b-4494-b0b1-12a90c343b0c",
   "metadata": {},
   "outputs": [],
   "source": [
    "dir()\n",
    "['__builtins__', '__doc__', '__loader__', '__name__',\n",
    " '__package__', '__spec__', 'fonk1', 'fonk2', 'fonk3',\n",
    " 'fonk4', 'fonk5', 'fonk8_']"
   ]
  },
  {
   "cell_type": "markdown",
   "id": "436fb53f-dd23-4a03-85ea-ced49b7616ea",
   "metadata": {},
   "source": [
    "Gördüğünüz gibi, gerçekten de ismi _ ile başlayanlar hariç, bütün fonksiyonlar, modül öneki olmadan kullanılmaya hazır bir şekilde mevcut etki alanımız içinde görünüyor. Bunları şu şekilde kullanabileceğimizi biliyorsunuz:"
   ]
  },
  {
   "cell_type": "code",
   "execution_count": null,
   "id": "c1125a44-098d-4378-8ef2-78f4ea9fe58b",
   "metadata": {},
   "outputs": [],
   "source": [
    "fonk4()\n",
    "\n",
    "fonk4\n",
    "\n",
    "fonk8_()\n",
    "\n",
    "fonk8_"
   ]
  },
  {
   "cell_type": "markdown",
   "id": "31a84546-2fd0-4c32-b89b-079a3c22b3a9",
   "metadata": {},
   "source": [
    "Elbette, ismi _ ile başlayan fonksiyonları, doğrudan isimlerini kullanarak içe aktarma imkanına sahipsiniz:"
   ]
  },
  {
   "cell_type": "code",
   "execution_count": null,
   "id": "ba064fea-740e-4922-b6ec-34ab4a2a4efb",
   "metadata": {},
   "outputs": [],
   "source": [
    "from modül import __fonk7\n",
    "from modül import _fonk6"
   ]
  },
  {
   "cell_type": "markdown",
   "id": "bfda14bc-a623-4554-bd4b-27dc569087eb",
   "metadata": {},
   "source": [
    "Tabii, bu fonksiyonları içe aktarabilmek için bunların isimlerini biliyor olmanız lazım…\n",
    "\n",
    "Peki siz, yazdığınız bir programda yalnızca kendi belirlediğiniz isimlerin içe aktarılmasını isterseniz ne yapacaksınız? İşte bunun için, başlıkta sözünü ettiğimiz __all__ adlı bir listeden yararlanabilirsiniz.\n",
    "\n",
    "Şimdi biraz önce oluşturduğunuz modül.py dosyasının en başına şu satırı ekleyin:\n",
    "\n"
   ]
  },
  {
   "cell_type": "raw",
   "id": "4251f669-441d-43d2-9ef5-439e4fdfacb5",
   "metadata": {},
   "source": [
    "__all__ = ['fonk1', 'fonk2', 'fonk3']\n"
   ]
  },
  {
   "cell_type": "markdown",
   "id": "77d4dd75-5134-4a84-b842-e9f754a873e8",
   "metadata": {},
   "source": [
    "Daha sonra etkileşimli kabukta modülünüzü şu şekilde içe aktarın:\n",
    "\n"
   ]
  },
  {
   "cell_type": "code",
   "execution_count": null,
   "id": "17bdcba2-927a-40bd-9d94-cc8aea05f7e8",
   "metadata": {},
   "outputs": [],
   "source": [
    "from modül import *\n"
   ]
  },
  {
   "cell_type": "markdown",
   "id": "0dd62fc6-83c8-4193-a7bb-f7d5d484a03d",
   "metadata": {},
   "source": [
    "Şimdi de içe aktarılan fonksiyonların neler olduğunu kontrol edin:\n",
    "\n"
   ]
  },
  {
   "cell_type": "code",
   "execution_count": null,
   "id": "54da80f2-5f02-497f-ba25-d352b7c88c4f",
   "metadata": {},
   "outputs": [],
   "source": [
    "dir()\n",
    "['__builtins__', '__doc__', '__loader__', '__name__', '__package__',\n",
    " '__spec__', 'fonk1', 'fonk2', 'fonk3']"
   ]
  },
  {
   "cell_type": "markdown",
   "id": "edfc1c89-4c67-447e-bb77-4ceebe0949a4",
   "metadata": {},
   "source": [
    "Gördüğünüz gibi, yalnızca __all__ listesi içinde belirttiğimiz fonksiyonlar içe aktarıldı. Bu listeyi kullanarak, yıldızlı içe aktarmalarda nelerin içe aktarılıp nelerin dışarıda bırakılacağını kontrol edebilirsiniz. Yalnız unutmamanız gereken nokta, bu yöntemin öteki içe aktarma türlerinde hiçbir işe yaramayacağıdır. Yani mesela modül adlı modülümüzü import modül şeklinde içe aktarırsak __all__ listesi dikkate alınmayacaktır.\n",
    "\n",
    "Peki ya __all__ listesini boş bırakırsak ne olur?\n",
    "\n"
   ]
  },
  {
   "cell_type": "code",
   "execution_count": null,
   "id": "408d125d-5b8b-4cd7-8417-39ce2b67ff87",
   "metadata": {},
   "outputs": [],
   "source": [
    "__all__ = []\n"
   ]
  },
  {
   "cell_type": "markdown",
   "id": "799b011b-d865-494d-bbb2-c78fa723f6d2",
   "metadata": {},
   "source": [
    "Tabii ki, bu şekilde yıldızlı aktarmalarda (modülün kendi varsayılan fonksiyonları hariç) hiçbir fonksiyon içe aktarılmaz…\n",
    "\n",
    "+++++++++Modüllerin Özel Nitelikleri\n",
    "\n",
    "Python’da bütün modüllerin ortak olarak sahip olduğu bazı nitelikler vardır. Bu niteliklerin hangileri olduğunu görmek için kesişim kümelerinden yararlanarak şöyle bir kod yazabiliriz:\n",
    "\n"
   ]
  },
  {
   "cell_type": "code",
   "execution_count": null,
   "id": "e0ff34fc-bf96-425e-b350-12865ad59112",
   "metadata": {},
   "outputs": [],
   "source": [
    "import os, sys, random\n",
    "\n",
    "set_os = set(dir(os))\n",
    "set_sys = set(dir(sys))\n",
    "set_random = set(dir(random))\n",
    "\n",
    "print(set_os & set_sys & set_random)"
   ]
  },
  {
   "cell_type": "markdown",
   "id": "432c31f7-2015-4a54-a83b-c3448f18b2e8",
   "metadata": {},
   "source": [
    "Bu kodlar, os, sys ve random modüllerinin kesişim kümesini, yani her üç modülde ortak olarak bulunan nitelikleri verecektir. Bu kodları çalıştırdığımızda şu çıktıyı alıyoruz:"
   ]
  },
  {
   "cell_type": "code",
   "execution_count": null,
   "id": "39d4e610-8f1b-4857-89d2-4b9e68393c54",
   "metadata": {},
   "outputs": [],
   "source": [
    "{'__doc__', '__package__', '__loader__', '__name__', '__spec__'}"
   ]
  },
  {
   "cell_type": "markdown",
   "id": "24da3214-9dd4-4681-9069-34f7930aa8c8",
   "metadata": {},
   "source": [
    "Demek ki hem os hem sys hem de random modülünde ortak olarak bulunan nitelikler bunlarmış… Eğer bu üç modülün bütün modülleri temsil etmiyor olabileceğinden endişe ediyorsanız, bildiğiniz başka modülleri de bu kodlara ekleyerek testinizin kapsamını genişletebilirsiniz.\n",
    "\n",
    "Mesela bu kodlara bir de subprocess modülünü ekleyelim:"
   ]
  },
  {
   "cell_type": "code",
   "execution_count": null,
   "id": "82f82fd0-ea38-47f4-a459-376a7068126d",
   "metadata": {},
   "outputs": [],
   "source": [
    "import os, sys, random, subprocess\n",
    "\n",
    "set_os = set(dir(os))\n",
    "set_sys = set(dir(sys))\n",
    "set_random = set(dir(random))\n",
    "set_subprocess = set(dir(subprocess))\n",
    "\n",
    "print(set_os & set_sys & set_random & set_subprocess)"
   ]
  },
  {
   "cell_type": "markdown",
   "id": "0580fdf6-2472-4a24-840c-3deab2e78d53",
   "metadata": {},
   "source": [
    "Yalnız burada şöyle bir şey dikkatinizi çekmiş olmalı: Kesişim kümesini bulmak istediğimiz öğelere başka öğeler de eklemek istediğimizde her defasında birkaç farklı işlem yapmak zorunda kalıyoruz. Bu da hem kodlarımızı hatalara açık hale getiriyor, hem de aslında kolayca halledebileceğimiz bir işi gereksiz yere uzatmamıza yol açıyor.\n",
    "\n",
    "Gelin bu kodları biraz daha genel amaçlı bir hale getirelim. Zira ‘kodların yeniden kullanılabilir özellikte olması’ (code reusability) programcılıkta aranan bir niteliktir:"
   ]
  },
  {
   "cell_type": "code",
   "execution_count": null,
   "id": "db8969f0-f8ab-48d5-8a71-d09bba7f2c9c",
   "metadata": {},
   "outputs": [],
   "source": [
    "modüller = ['os', 'sys', 'random']\n",
    "\n",
    "def kesişim_bul(modüller):\n",
    "    kümeler = [set(dir(__import__(modül))) for modül in modüller]\n",
    "    return set.intersection(*kümeler)\n",
    "\n",
    "print(kesişim_bul(modüller))"
   ]
  },
  {
   "cell_type": "markdown",
   "id": "22fd5cd1-5b66-46e3-ad7c-f705f7341617",
   "metadata": {},
   "source": [
    "Eğer bu kodlara yeni bir modül eklemek istersek, yapmamız gereken tek şey en baştaki modüller listesini güncellemek olacaktır. Mesela bu listeye bir de subprocess modülünü ekleyelim:\n",
    "\n"
   ]
  },
  {
   "cell_type": "code",
   "execution_count": null,
   "id": "b19ec348-1880-4f44-bb03-e3c6b6ea1793",
   "metadata": {},
   "outputs": [],
   "source": [
    "modüller = ['os', 'sys', 'random', 'subprocess']\n",
    "\n",
    "def kesişim_bul(modüller):\n",
    "    kümeler = [set(dir(__import__(modül))) for modül in modüller]\n",
    "    return set.intersection(*kümeler)\n",
    "\n",
    "print(kesişim_bul(modüller))"
   ]
  },
  {
   "cell_type": "markdown",
   "id": "e55f6c72-6485-4ffe-88e0-533c89653b92",
   "metadata": {},
   "source": [
    "Gördüğünüz gibi, bu kodlar işimizi epey kolaylaştırdı. Sadece tek bir noktada değişiklik yaparak istediğimiz sonucu elde ettik.\n",
    "\n",
    "Bu arada, __import__ fonksiyonu hariç, bu kodlardaki her şeyi daha önceki derslerimizde öğrenmiştik. Ama gelin isterseniz biz yine de bu kodların üzerinden şöyle bir geçelim.\n",
    "\n",
    "Burada ilk yaptığımız iş, kullanmak istediğimiz modül adlarını tutması için bir liste tanımlamak:\n",
    "\n"
   ]
  },
  {
   "cell_type": "code",
   "execution_count": null,
   "id": "04796e99-3d46-4eb4-b76f-5b4b16c64a22",
   "metadata": {},
   "outputs": [],
   "source": [
    "modüller = ['os', 'sys', 'random', 'subprocess']"
   ]
  },
  {
   "cell_type": "markdown",
   "id": "ca70b181-f56a-43e0-bbef-19fc6ff0e957",
   "metadata": {},
   "source": [
    "Bu listede modül adlarının birer karakter dizisi olarak gösterildiğine dikkat edin. Zaten bu modülleri henüz içe aktarmadığımız için, bunları doğrudan tırnaksız isimleriyle kullanamayız.\n",
    "\n",
    "Daha sonra, asıl işi yapacak olan kesişim_bul() adlı fonksiyonumuzu tanımlıyoruz:\n",
    "\n"
   ]
  },
  {
   "cell_type": "code",
   "execution_count": null,
   "id": "e94c263a-edf8-4bb7-92a0-3e1543c7cb89",
   "metadata": {},
   "outputs": [],
   "source": [
    "def kesişim_bul(modüller):\n",
    "    kümeler = [set(dir(__import__(modül))) for modül in modüller]\n",
    "    return set.intersection(*kümeler)"
   ]
  },
  {
   "cell_type": "markdown",
   "id": "3a3db11d-5707-432a-9fe5-544ff82ebbbb",
   "metadata": {},
   "source": [
    "Bu fonksiyon, modüller adlı tek bir parametre alıyor.\n",
    "\n",
    "Fonksiyonumuzun gövdesinde ilk olarak şöyle bir kod yazıyoruz:"
   ]
  },
  {
   "cell_type": "code",
   "execution_count": null,
   "id": "bd0bfedf-05f0-45f7-afa0-f6ee355b3b22",
   "metadata": {},
   "outputs": [],
   "source": [
    "kümeler = [set(dir(__import__(modül))) for modül in modüller]\n"
   ]
  },
  {
   "cell_type": "markdown",
   "id": "199d5acb-58cb-41a2-bad7-77e52e3243ca",
   "metadata": {},
   "source": [
    "Burada modüller adlı listedeki her öğe üzerine sırasıyla __import__ fonksiyonunu, dir() fonksiyonunu ve set() fonksiyonunu uyguluyoruz. Daha sonra elde ettiğimiz sonucu bir liste üreteci yardımıyla liste haline getirip kümeler değişkenine atıyoruz.\n",
    "\n",
    "Gelelim __import__ fonksiyonunun ne olduğuna…\n",
    "\n",
    "Bir gömülü fonksiyon olan __import__ fonksiyonu, modül adlarını içeren karakter dizilerini kullanarak, herhangi bir modülü içe aktarmamızı sağlayan bir araçtır. Bu fonksiyonunu şöyle kullanıyoruz:\n",
    "\n"
   ]
  },
  {
   "cell_type": "code",
   "execution_count": null,
   "id": "b775e31e-2caa-400f-9279-af4af2537dfa",
   "metadata": {},
   "outputs": [],
   "source": [
    "__import__('os')\n",
    "__import__('sys')"
   ]
  },
  {
   "cell_type": "markdown",
   "id": "4d9a12c3-5b15-489d-8ed9-89224085417b",
   "metadata": {},
   "source": [
    "Bu fonksiyonun parametre olarak bir karakter dizisi alıyor olmasının bize nasıl bir esneklik sağladığına dikkatinizi çekmek isterim. Bu fonksiyon sayesinde modül aktarma işlemini, kod parçaları içine programatik olarak yerleştirebilme imkanı elde ediyoruz. Yani, modül aktarma işlemini mesela bir for döngüsü içine alamıyorken:"
   ]
  },
  {
   "cell_type": "code",
   "execution_count": null,
   "id": "f9a40ed9-37b6-454b-be76-6b2f1fa1c449",
   "metadata": {},
   "outputs": [],
   "source": [
    "modüller = ['os', 'sys', 'random']\n",
    "for modül in modüller:\n",
    "    import modül\n",
    "\n",
    "Traceback (most recent call last):\n",
    "  File \"<stdin>\", line 2, in <module>\n",
    "ImportError: No module named 'modül'\n"
   ]
  },
  {
   "cell_type": "raw",
   "id": "cff8679e-8055-4a65-94b0-43f902be671f",
   "metadata": {},
   "source": [
    "__import__ fonksiyonu bize böyle bir işlem yapabilme olanağı sunuyor:"
   ]
  },
  {
   "cell_type": "code",
   "execution_count": null,
   "id": "5227c3a7-2679-4fe3-9ee0-9d8afc836a87",
   "metadata": {},
   "outputs": [],
   "source": [
    "modüller = ['os', 'sys', 'random']\n",
    "for modül in modüller:\n",
    "    __import__(modül)\n",
    "\n",
    "<module 'os' from 'C:\\\\Python34\\\\lib\\\\os.py'>\n",
    "<module 'sys' (built-in)>\n",
    "<module 'random' from 'C:\\\\Python34\\\\lib\\\\random.py'>"
   ]
  },
  {
   "cell_type": "raw",
   "id": "81c7f2d2-edce-45d9-befc-d5ad06a65e2c",
   "metadata": {},
   "source": [
    "Yalnız, __import__('os') gibi bir komut verdiğimizde, ‘os’ ismi doğrudan kullanılabilir hale gelmiyor. Yani:\n",
    "\n"
   ]
  },
  {
   "cell_type": "code",
   "execution_count": null,
   "id": "a1d38946-90e6-4dcb-bb7a-000ab5860543",
   "metadata": {},
   "outputs": [],
   "source": [
    "__import__('os')\n"
   ]
  },
  {
   "cell_type": "markdown",
   "id": "8f6b1d89-7e2e-4453-b59f-86c725c5059c",
   "metadata": {},
   "source": [
    "…komutunu verdiğimizde, mesela os modülünün bir niteliği olan name’i kullanamıyoruz:\n",
    "\n"
   ]
  },
  {
   "cell_type": "code",
   "execution_count": null,
   "id": "39c601f8-c333-4544-8c83-6749fb090a8d",
   "metadata": {},
   "outputs": [],
   "source": [
    "os.name\n",
    "\n",
    "Traceback (most recent call last):\n",
    "  File \"<stdin>\", line 1, in <module>\n",
    "NameError: name 'os' is not defined"
   ]
  },
  {
   "cell_type": "markdown",
   "id": "7030fd19-e0bc-4c6b-9398-d04dbd118b32",
   "metadata": {},
   "source": [
    "‘os’ ismini kullanabilmemiz için şöyle bir şey yazmış olmalıydık:\n",
    "\n"
   ]
  },
  {
   "cell_type": "code",
   "execution_count": null,
   "id": "4c907586-11ea-4de2-bb2b-3362a8854f71",
   "metadata": {},
   "outputs": [],
   "source": [
    "os = __import__('os')\n"
   ]
  },
  {
   "cell_type": "markdown",
   "id": "eb8a34c4-9363-4056-b642-45c22e30f3e5",
   "metadata": {},
   "source": [
    "Eğer __import__ fonksiyonu yardımıyla içe aktardığımız os modülünü bu şekilde bir isme atamazsak, __import__('os') komutu ile içe aktarılan bütün os fonksiyon ve nitelikleri, bu komut bir kez çalıştıktan sonra unutulacaktır. Eğer __import__ fonksiyonunu bir isme atamadan, içe aktarılan modülün niteliklerine erişmek isterseniz içe aktarma işlemi ile niteliğe erişme işlemini aynı satırda gerçekleştirmeniz gerekir:\n",
    "\n"
   ]
  },
  {
   "cell_type": "code",
   "execution_count": null,
   "id": "5c6cba16-e85a-4fdf-8226-eab6dbe0ed51",
   "metadata": {},
   "outputs": [],
   "source": [
    "__import__('os').name\n"
   ]
  },
  {
   "cell_type": "markdown",
   "id": "2d100091-642c-435e-af2d-f41a850c0660",
   "metadata": {},
   "source": [
    "__import__ fonksiyonu çok sık kullanacağınız bir araç değildir. Ancak özellikle tek satırda hem bir modülü içe aktarmanız, hem de hemen ardından başka işlemler yapmanız gereken durumlarda bu fonksiyon işinize yarayabilir:"
   ]
  },
  {
   "cell_type": "code",
   "execution_count": null,
   "id": "7f6ac070-0962-4b84-9535-eedc8e2bf605",
   "metadata": {},
   "outputs": [],
   "source": [
    "open('den.txt', 'w').write('merhaba'); __import__('subprocess').call('notepad.exe den.txt')"
   ]
  },
  {
   "cell_type": "markdown",
   "id": "54f8a9be-98ce-4817-8f98-61ce17630ac0",
   "metadata": {},
   "source": [
    "\n",
    "Gerekli modülleri içe aktardıktan ve kümemimizi tanımladıktan sonra da fonksiyon tanımını şu kodla bitiriyoruz:"
   ]
  },
  {
   "cell_type": "code",
   "execution_count": null,
   "id": "af892c72-036a-49c2-a340-fca197b4a972",
   "metadata": {},
   "outputs": [],
   "source": [
    "return set.intersection(*kümeler)"
   ]
  },
  {
   "cell_type": "markdown",
   "id": "df04cb9b-2878-410f-b6d0-25ce522cfa10",
   "metadata": {},
   "source": [
    "Burada kümelerin intersection() metodundan faydalandık. Bu metodu önceki derslerimizde ele almıştık. Bu metot yardımıyla birden fazla kümenin kesişimini bulabiliyoruz.\n",
    "\n",
    "Bu fonksiyonu normalde şöyle kullanıyorduk:"
   ]
  },
  {
   "cell_type": "raw",
   "id": "878accae-aeb8-4f45-93ad-e32515d367fa",
   "metadata": {},
   "source": [
    "küme1.intersection(küme2)\n"
   ]
  },
  {
   "cell_type": "markdown",
   "id": "fc59209a-0a58-45a4-ae53-c1130b5846e8",
   "metadata": {},
   "source": [
    "Bu komut, küme1 ile küme2 adlı kümelerin kesişimini bulacaktır. Eğer bizim kodlarımızda olduğu gibi küme ismi belirtmeksizin birden fazla kümenin kesişimini bulmak isterseniz bu metodu doğrudan küme veri tipi (set) üzerine uygulayabilirsiniz:\n",
    "\n"
   ]
  },
  {
   "cell_type": "code",
   "execution_count": null,
   "id": "7a9624ed-8454-43e4-9383-d40378c39d5f",
   "metadata": {},
   "outputs": [],
   "source": [
    "set.intersection(küme1, küme2)\n"
   ]
  },
  {
   "cell_type": "markdown",
   "id": "0664f31c-a969-4f40-9ad9-7d2068350d6e",
   "metadata": {},
   "source": [
    "Eğer intersection() metoduna parametreleri bir liste içinden atamak isterseniz bu listeyi yıldız işleci yardımıyla çözmeniz gerekir:\n",
    "\n"
   ]
  },
  {
   "cell_type": "code",
   "execution_count": null,
   "id": "82592ccb-b039-4903-af75-3589e07146d1",
   "metadata": {},
   "outputs": [],
   "source": [
    "liste = [küme1, küme2, küme3]\n",
    "set.intersection(*liste)"
   ]
  },
  {
   "cell_type": "markdown",
   "id": "fb092e69-a25d-4387-a26f-5c2cbc5eb609",
   "metadata": {},
   "source": [
    "İşte bizim yukarıda return set.intersection(*kümeler) komutuyla yaptığımız şey de tam olarak budur. Burada intersection() metodunu doğrudan set veri tipi üzerine uyguladık ve bu metodun parametrelerini kümeler adlı listeden yıldız işleci yardımıyla çözdük.\n",
    "\n",
    "Son olarak da, tanımladığımız kesişim_bul() fonksiyonunu modüller adlı parametre ile çağırdık:"
   ]
  },
  {
   "cell_type": "code",
   "execution_count": null,
   "id": "e5f35d47-7811-40a0-8880-2aa64ea5030d",
   "metadata": {},
   "outputs": [],
   "source": [
    "print(kesişim_bul(modüller))\n",
    "{'__doc__', '__name__', '__loader__', '__spec__', '__package__'}"
   ]
  },
  {
   "cell_type": "markdown",
   "id": "1ffdc743-2e6f-4b8a-ad78-c97caea1c935",
   "metadata": {},
   "source": [
    "İşte bu bölümün konusu, bütün modüllerde ortak olan bu beş özel nitelik. İlk olarak __doc__ niteliği ile başlayalım.\n",
    "\n",
    "__doc__ Niteliği\n",
    "İsterseniz __doc__ niteliğini tarif etmeye çalışmak yerine, bunu bir örnek üzerinden anlatalım. Şimdi Python kurulum dizini içinde os.py dosyasının bulunduğu konuma gidelim ve bu dosyayı açalım. Dosyayı açtığınızda, sayfanın en başında şu karakter dizisini göreceksiniz:\n",
    "\n"
   ]
  },
  {
   "cell_type": "code",
   "execution_count": null,
   "id": "94406720-31af-458e-976e-da3a4ba2e5f8",
   "metadata": {},
   "outputs": [],
   "source": [
    "r\"\"\"OS routines for NT or Posix depending on what system we're on.\n",
    "\n",
    "This exports:\n",
    "  - all functions from posix, nt or ce, e.g. unlink, stat, etc.\n",
    "  - os.path is either posixpath or ntpath\n",
    "  - os.name is either 'posix', 'nt' or 'ce'.\n",
    "  - os.curdir is a string representing the current directory ('.' or ':')\n",
    "  - os.pardir is a string representing the parent directory ('..' or '::')\n",
    "  - os.sep is the (or a most common) pathname separator ('/' or ':' or '\\\\')\n",
    "  - os.extsep is the extension separator (always '.')\n",
    "  - os.altsep is the alternate pathname separator (None or '/')\n",
    "  - os.pathsep is the component separator used in $PATH etc\n",
    "  - os.linesep is the line separator in text files ('\\r' or '\\n' or '\\r\\n')\n",
    "  - os.defpath is the default search path for executables\n",
    "  - os.devnull is the file path of the null device ('/dev/null', etc.)\n",
    "\n",
    "Programs that import and use 'os' stand a better chance of being\n",
    "portable between different platforms.  Of course, they must then\n",
    "only use functions that are defined by all platforms (e.g., unlink\n",
    "and opendir), and leave all pathname manipulation to os.path\n",
    "(e.g., split and join).\n",
    "\"\"\""
   ]
  },
  {
   "cell_type": "markdown",
   "id": "fe0167f8-dbca-4af8-abb7-b1644c44ff12",
   "metadata": {},
   "source": [
    "Şimdi Python’ın etkileşimli kabuğunu açın ve şu komutları verin:"
   ]
  },
  {
   "cell_type": "code",
   "execution_count": null,
   "id": "ed75d02f-3601-4375-839d-7cb12b3c6ad3",
   "metadata": {},
   "outputs": [],
   "source": [
    "import os\n",
    "print(os.__doc__)"
   ]
  },
  {
   "cell_type": "markdown",
   "id": "c516f8c8-1907-44d2-80db-bc9ff7d3a301",
   "metadata": {},
   "source": [
    "Bu komutları verdiğinizde, yukarıdaki karakter dizisinin çıktı olarak verildiğini göreceksiniz. Teknik dilde, üç tırnak içinde gösterilen karakter dizilerine belge dizisi (docstring) veya belgelendirme dizisi (documentation string) adı verilir. Modüllerin __doc__ niteliğini kullanarak, bir modül dosyasının en başında bulunan belgelendirme dizilerine erişebiliriz.\n",
    "\n",
    "Bir örnek daha verelim. Mesela random modülüne bakalım:\n",
    "\n"
   ]
  },
  {
   "cell_type": "code",
   "execution_count": null,
   "id": "f402fed4-0f59-4b3c-b625-db931d8f3c7d",
   "metadata": {},
   "outputs": [],
   "source": [
    "import random\n",
    "print(random.__doc__)"
   ]
  },
  {
   "cell_type": "markdown",
   "id": "14e34803-214f-428c-9b29-353dc81a1fa5",
   "metadata": {},
   "source": [
    "os.py dosyası ile aynı konumda bulunan random.py dosyasını açtığınızda, yukarıdaki komutlardan aldığınız çıktının random.py dosyasının en başındaki uzun karakter dizisi olduğunu göreceksiniz.\n",
    "\n",
    "Çeşitli yazılımlar, bu belge dizilerini kullanarak, ilgili modüle ilişkin kısa kılavuzlar oluşturur. Mesela Python’ın help() fonksiyonu bu belge dizilerinden yararlanır:\n"
   ]
  },
  {
   "cell_type": "code",
   "execution_count": null,
   "id": "7388fefd-3fb1-4ff6-ba86-f3b270731816",
   "metadata": {},
   "outputs": [],
   "source": [
    "help(os)\n"
   ]
  },
  {
   "cell_type": "markdown",
   "id": "77f76834-4cbd-4884-83c4-cd91399a6d1f",
   "metadata": {},
   "source": [
    "Siz de kendi yazdığınız modüllerde bu belge dizilerinden yararlanabilirsiniz. Ancak aklınızda bulundurmanız gereken önemli nokta, bu belge dizilerini üç tırnak içinde belirtmeniz gerektiğidir. Alt alta çift veya tek tırnak ile tanımladığınız karakter dizilerine __doc__ niteliği aracılığıyla erişmeye çalıştığınızda sadece ilk satırdaki karakter dizisine ulaşırsınız. Yani:\n",
    "\n"
   ]
  },
  {
   "cell_type": "code",
   "execution_count": null,
   "id": "b9dbfd95-1590-49a5-9bbe-25bbcab26a4d",
   "metadata": {},
   "outputs": [],
   "source": [
    "\"satır1\"\n",
    "\"satır2\"\n",
    "\"satır3\""
   ]
  },
  {
   "cell_type": "markdown",
   "id": "a43f242b-ad18-416a-adb0-a1931e031189",
   "metadata": {},
   "source": [
    "…şeklinde tanımladığınız karakter dizileri __doc__ niteliği ile çağrıldığında yalnızca “satır1” görüntülenecektir. Eğer bu üç satırın da kapsama alanına girmesini istiyorsak yukarıdaki karakter dizilerini şöyle tanımlamalıyız:\n",
    "\n"
   ]
  },
  {
   "cell_type": "code",
   "execution_count": null,
   "id": "03460420-e217-4e17-ba50-9ad8cb1ed18c",
   "metadata": {},
   "outputs": [],
   "source": [
    "'''\n",
    "satır1\n",
    "satır2\n",
    "satır3\n",
    "'''\n"
   ]
  },
  {
   "cell_type": "raw",
   "id": "85cdfa23-fd7d-482a-a9f5-f9eb2300e6c5",
   "metadata": {},
   "source": [
    "__name__ Niteliği\n",
    "Şöyle bir program yazdığımızı varsayalım:"
   ]
  },
  {
   "cell_type": "code",
   "execution_count": null,
   "id": "c6b0310c-2523-4380-8c15-a6ff26fc120d",
   "metadata": {},
   "outputs": [],
   "source": [
    "sözlük = {\"kitap\"      : \"book\",\n",
    "          \"bilgisayar\" : \"computer\",\n",
    "          \"programlama\": \"programming\"}\n",
    "\n",
    "def ara(sözcük):\n",
    "    hata = \"{} kelimesi sözlükte yok!\"\n",
    "    print(sözlük.get(sözcük, hata.format(sözcük)))\n",
    "\n",
    "def ekle(sözcük, anlam):\n",
    "    mesaj = \"{} kelimesi sözlüğe eklendi!\"\n",
    "    sözlük[sözcük] = anlam\n",
    "    print(mesaj.format(sözcük))\n",
    "\n",
    "def sil(sözcük):\n",
    "    try:\n",
    "        sözlük.pop(sözcük)\n",
    "    except KeyError as err:\n",
    "        print(err, \"kelimesi bulunamadı!\")\n",
    "    else:\n",
    "        print(\"{} kelimesi sözlükten silindi!\".format(sözcük))\n",
    "\n",
    "print('1. Sözlükte kelime ara')\n",
    "print('2. Sözlüğe kelime ekle')\n",
    "print('3. Sözlükten kelime sil')\n",
    "no = input('Yapmak istediğiniz işlemin numarasını girin: ')\n",
    "\n",
    "if no == '1':\n",
    "    sözcük = input('Aradığınız sözcük: ')\n",
    "    ara(sözcük)\n",
    "\n",
    "elif no == '2':\n",
    "    sözcük = input('Ekleyeceğiniz sözcük: ')\n",
    "    anlam = input('Eklediğiniz sözcüğün anlamı: ')\n",
    "    ekle(sözcük, anlam)\n",
    "\n",
    "elif no == '3':\n",
    "    sözcük = input('Sileceğiniz sözcük: ')\n",
    "    sil(sözcük)\n",
    "\n",
    "else:\n",
    "    print('Yanlış işlem')"
   ]
  },
  {
   "cell_type": "markdown",
   "id": "a2b9f1d1-c71c-44a6-8ee9-c44bbd7a6ad1",
   "metadata": {},
   "source": [
    "sözlük.py adını verdiğimiz bu programı normal bir şekilde komut satırında"
   ]
  },
  {
   "cell_type": "code",
   "execution_count": null,
   "id": "461ff5e9-bd35-472a-a6c6-5faf845413fe",
   "metadata": {},
   "outputs": [],
   "source": [
    "python sözlük.py\n"
   ]
  },
  {
   "cell_type": "markdown",
   "id": "51f0ada9-819c-44ee-a874-1dc8bb75cb5a",
   "metadata": {},
   "source": [
    "gibi bir komutla çalıştırdığımızda bize birtakım sorular sorulacak ve verdiğimiz cevaplara göre sözlük üzerinde bazı işlemler yapılacaktır.\n",
    "\n",
    "Hatırlarsanız, modüller konusunu anlatmaya başlarken, yazdığımız bütün programların aslında birer modül olduğunu, dolayısıyla bunların başka programların içine aktarılarak, sahip oldukları işlevlerden başka programlarda da yararlananılabileceğini söylemiştik.\n",
    "\n",
    "Yukarıdaki kodları, komut satırı üzerinde bağımsız bir program gibi çalıştırabiliyoruz. Peki acaba biz bu programı doğrudan çalıştırmak değil de başka bir programın içine aktarıp sahip olduğu işlevlerden yararlanmak istersek ne yapacağız?\n",
    "\n",
    "İşte bunun için __name__ adlı bir nitelikten yararlanacağız.\n",
    "\n",
    "Python’daki herhangi bir modülü içe aktardıktan sonra bu modül üzerine dir() fonksiyonunu uygularsanız, istisnasız her modülün __name__ adlı bir niteliği olduğunu görürsünüz.\n",
    "\n",
    "__name__ niteliği iki farklı değer alabilir: İçinde bulunduğu modülün adı veya \"__main__\" adlı özel bir değer.\n",
    "\n",
    "Eğer bir Python programı başka bir program içinden modül olarak içe aktarılıyorsa, __name__ niteliğinin değeri o modülün adı olacaktır.\n",
    "\n",
    "Eğer bir Python programı doğrudan bağımsız bir program olarak çalıştırılıyorsa, __name__ niteliğinin değeri bu defa \"__main__\" olacaktır.\n",
    "\n",
    "Gelin isterseniz bu durumu bir örnek üzerinde somutlaştıralım. Mesela masaüstünde deneme.py adlı bir dosya oluşturup içine sadece şunu yazalım:\n",
    "\n"
   ]
  },
  {
   "cell_type": "code",
   "execution_count": null,
   "id": "ff6d5ecc-77e2-4642-bea1-06d192da2afd",
   "metadata": {},
   "outputs": [],
   "source": [
    "print(__name__)"
   ]
  },
  {
   "cell_type": "markdown",
   "id": "614edb07-1889-4126-b031-b0c2da7f7caa",
   "metadata": {},
   "source": [
    "Şimdi önce bu dosyayı bağımsız bir program olarak çalıştıralım:"
   ]
  },
  {
   "cell_type": "code",
   "execution_count": null,
   "id": "48f2fc5d-8aca-4b78-9611-aa92e4a4250f",
   "metadata": {},
   "outputs": [],
   "source": [
    "python deneme.py\n"
   ]
  },
  {
   "cell_type": "markdown",
   "id": "9c3f260d-def6-4c45-bf8f-be27f84607e7",
   "metadata": {},
   "source": [
    "Programımızı bu şekilde çalıştırdığımızda alacağımız çıktı şu olacaktır:"
   ]
  },
  {
   "cell_type": "code",
   "execution_count": null,
   "id": "2d89ab92-4b3f-46b2-9013-034b8d41146b",
   "metadata": {},
   "outputs": [],
   "source": [
    "__main__\n"
   ]
  },
  {
   "cell_type": "markdown",
   "id": "8991d879-eba6-4f28-a499-b4fd008220b9",
   "metadata": {},
   "source": [
    "Demek ki __name__ niteliğinin değeri \"__main__\" imiş…\n",
    "\n",
    "Şimdi de deneme.py dosyasının bulunduğu konumda Python’ın etkileşimli kabuğunu çalıştıralım ve şu komut yardımıyla bu dosyayı bir modül olarak içe aktaralım:\n",
    "\n"
   ]
  },
  {
   "cell_type": "code",
   "execution_count": null,
   "id": "9f9dbea2-7a5a-459f-a214-e45a502fcc94",
   "metadata": {},
   "outputs": [],
   "source": [
    "import deneme\n"
   ]
  },
  {
   "cell_type": "markdown",
   "id": "50066f6e-74b7-40f8-abdb-47e38c40f52e",
   "metadata": {},
   "source": [
    "Bu defa şu çıktıyı aldık:\n",
    "\n"
   ]
  },
  {
   "cell_type": "code",
   "execution_count": null,
   "id": "088c5532-fc52-4095-8c4c-c07e5333fbe5",
   "metadata": {},
   "outputs": [],
   "source": [
    "deneme\n"
   ]
  },
  {
   "cell_type": "markdown",
   "id": "2c7db31b-d6f6-432d-9402-8c33502df69c",
   "metadata": {},
   "source": [
    "Gördüğünüz gibi, __name__ niteliğinin değeri bu kez de modül dosyasının adı oldu.\n",
    "\n",
    "İşte bu özellikten yararlanarak, yazdığınız programların bağımsız çalıştırılırken ayrı, modül olarak içe aktarılırken ayrı davranmasını sağlayabilirsiniz.\n",
    "\n",
    "Gelin bu bilgiyi yukarıdaki sözlük.py dosyasına uygulayalım.\n",
    "\n",
    "Bu programı komut satırı üzerinde bağımsız bir program olarak çalıştırdığınızda ne olacağını biliyorsunuz. Peki ya aynı programı bir modül olarak içe aktarırsak ne olur?\n",
    "\n",
    "Deneyelim:"
   ]
  },
  {
   "cell_type": "code",
   "execution_count": null,
   "id": "21d3d9c8-7000-4f1a-b76f-ac5ab02c73da",
   "metadata": {},
   "outputs": [],
   "source": [
    "import sözlük\n",
    "\n",
    "Yapmak istediğiniz işlemin numarasını girin:"
   ]
  },
  {
   "cell_type": "markdown",
   "id": "ab820648-70b3-4d0f-abc4-969a2b818c6f",
   "metadata": {},
   "source": [
    "Gördüğünüz gibi, programımız doğrudan çalışmaya başladı. Ama biz bunu istemiyoruz. Biz istiyoruz ki, sözlük.py bir modül olarak aktarıldığında çalışmaya başlamasın. Ama biz onun içindeki nitelikleri kullanabilelim.\n",
    "\n",
    "Bunun için sözlük.py dosyasında şu değişikliği yapacağız:\n",
    "\n"
   ]
  },
  {
   "cell_type": "code",
   "execution_count": null,
   "id": "9fe0c657-7259-4bf0-826b-b935a9e0587f",
   "metadata": {},
   "outputs": [],
   "source": [
    "sözlük = {\"kitap\"      : \"book\",\n",
    "          \"bilgisayar\" : \"computer\",\n",
    "          \"programlama\": \"programming\"}\n",
    "\n",
    "def ara(sözcük):\n",
    "    hata = \"{} kelimesi sözlükte yok!\"\n",
    "    print(sözlük.get(sözcük, hata.format(sözcük)))\n",
    "\n",
    "def ekle(sözcük, anlam):\n",
    "    mesaj = \"{} kelimesi sözlüğe eklendi!\"\n",
    "    sözlük[sözcük] = anlam\n",
    "    print(mesaj.format(sözcük))\n",
    "\n",
    "def sil(sözcük):\n",
    "    try:\n",
    "        sözlük.pop(sözcük)\n",
    "    except KeyError as err:\n",
    "        print(err, \"kelimesi bulunamadı!\")\n",
    "    else:\n",
    "        print(\"{} kelimesi sözlükten silindi!\".format(sözcük))\n",
    "\n",
    "#BURAYA DİKKAT!!!\n",
    "if __name__ == '__main__':\n",
    "    no = input('Yapmak istediğiniz işlemin numarasını girin: ')\n",
    "    print('1. Sözlükte kelime ara')\n",
    "    print('2. Sözlüğe kelime ekle')\n",
    "    print('3. Sözlükten kelime sil')\n",
    "\n",
    "    if no == '1':\n",
    "        sözcük = input('Aradığınız sözcük: ')\n",
    "        ara(sözcük)\n",
    "\n",
    "    elif no == '2':\n",
    "        sözcük = input('Ekleyeceğiniz sözcük: ')\n",
    "        anlam = input('Eklediğiniz sözcüğün anlamı: ')\n",
    "        ekle(sözcük, anlam)\n",
    "\n",
    "    elif no == '3':\n",
    "        sözcük = input('Sileceğiniz sözcük: ')\n",
    "        sil(sözcük)\n",
    "\n",
    "    else:\n",
    "        print('Yanlış işlem')"
   ]
  },
  {
   "cell_type": "markdown",
   "id": "e7a7e5ba-f5f8-4c81-8ff1-0d1e5d99475f",
   "metadata": {},
   "source": [
    "Gördüğünüz gibi, çok basit bir if deyimi yardımıyla dosyamızın bağımsız bir program olarak mı çalıştırıldığını yoksa bir modül olarak içe mi aktarıldığını kontrol ettik. Eğer __name__ niteliğinin değeri ‘__main__’ ise, yani programımız bağımsız olarak çalıştırılıyorsa if bloğu içindeki kodları işletiyoruz. Eğer bu niteliğin değeri başka bir şey ise (yani modülün adı ise), bu durumda programımız bir modül olarak içe aktarılıyor demektir. Bu durumda if bloğu içindeki kodları çalıştırmıyoruz…\n",
    "\n",
    "Her şeyin yolunda olup olmadığını kontrol etmek için sözlük modülünü içe aktaralım:\n",
    "\n"
   ]
  },
  {
   "cell_type": "code",
   "execution_count": null,
   "id": "b5fb1aa8-613a-4ffd-9dd1-c4712fb5c4e1",
   "metadata": {},
   "outputs": [],
   "source": [
    "import sözlük\n"
   ]
  },
  {
   "cell_type": "markdown",
   "id": "1610e806-07db-4c63-b937-bc6374bed040",
   "metadata": {},
   "source": [
    "Bu kez, tam da istediğimiz şekilde, programımız doğrudan çalışmaya başlamadan bize içindeki fonksiyonları kullanma imkanı sundu:\n",
    "\n"
   ]
  },
  {
   "cell_type": "code",
   "execution_count": null,
   "id": "5493818c-e546-43c9-a0bd-fd4e35dc5393",
   "metadata": {},
   "outputs": [],
   "source": [
    "dir(sözlük)\n",
    "\n",
    "['__builtins__', '__cached__', '__doc__', '__file__',\n",
    " '__loader__', '__name__', '__package__', '__spec__',\n",
    " 'ara', 'ekle', 'sil', 'sözlük']"
   ]
  },
  {
   "cell_type": "code",
   "execution_count": null,
   "id": "8543fac6-dca6-4713-9aa1-d19aca7eca1e",
   "metadata": {},
   "outputs": [],
   "source": [
    "++++++++__loader__ Niteliği\n",
    "\n",
    "Python’da içe aktarılan bütün modüllerin __loader__ adlı bir niteliği bulunur. Bu nitelik, ilgili modülü içe aktaran mekanizma hakkında bize çeşitli bilgiler veren birtakım araçlar sunar:\n",
    "\n"
   ]
  },
  {
   "cell_type": "code",
   "execution_count": null,
   "id": "4381bffc-16f7-4cba-9b56-a38269572e37",
   "metadata": {},
   "outputs": [],
   "source": [
    "import os\n",
    "yükleyici = os.__loader__\n",
    "\n",
    "dir(yükleyici)\n",
    "\n",
    "['__class__', '__delattr__', '__dict__', '__dir__', '__doc__', '__eq__',\n",
    " '__format__', '__ge__', '__getattribute__', '__gt__', '__hash__',\n",
    " '__init__', '__le__', '__lt__', '__module__', '__ne__', '__new__',\n",
    " '__reduce__', '__reduce_ex__', '__repr__', '__setattr__', '__sizeof__',\n",
    " '__str__', '__subclasshook__', '__weakref__', '_cache_bytecode',\n",
    " 'exec_module', 'get_code', 'get_data', 'get_filename', 'get_source',\n",
    " 'is_package', 'load_module', 'name', 'path', 'path_mtime', 'path_stats',\n",
    " 'set_data', 'source_to_code']"
   ]
  },
  {
   "cell_type": "markdown",
   "id": "a54b13ae-2932-4f6a-9983-b655e4002c5c",
   "metadata": {},
   "source": [
    "Mesela, içe aktardığınız bir modülün kaynak kodlarını görüntülemek için bu modülden yararlanabilirsiniz:\n",
    "\n"
   ]
  },
  {
   "cell_type": "code",
   "execution_count": null,
   "id": "fc219fa4-bf6b-411b-842a-9ab7b2b39a46",
   "metadata": {},
   "outputs": [],
   "source": [
    "import webbrowser\n",
    "yükleyici = webbrowser.__loader__\n",
    "kaynak = yükleyici.get_data(webbrowser.__file__)\n",
    "kaynak"
   ]
  },
  {
   "cell_type": "raw",
   "id": "0bd72b19-9f93-4a8f-90ff-b0b61b60b519",
   "metadata": {},
   "source": [
    "Burada, daha önce öğrendiğimiz __file__ niteliğini kullandığımıza dikkat edin. __loader__ niteliğinin get_data() adlı metodu, parametre olarak, sorgulayacağımız modülün dizin adresini ister. Bir modülün dizin adresini __file__ niteliği yardımıyla elde edebileceğimizi biliyoruz. Dolayısıyla da get_data() metoduna parametre olarak webbrowser.__file__ kodunu veriyoruz. Elde ettiğimiz şey ise, sorguladığımız modülün kaynak kodlarını içeren bir bayt (bytes) veri tipi oluyor.\n",
    "\n",
    "__loader__, günlük olarak kullanacağımız bir araç değil. Eğer yazdığınız kodlarda bu niteliğin sunduğu olanaklara ihtiyaç duyarsanız, doğrudan bu nitelik yerine pkgutil adlı bir modülü kullanabilirsiniz.\n",
    "\n"
   ]
  },
  {
   "cell_type": "raw",
   "id": "86bc2ff4-0d5c-42f4-8d42-0890a08036dd",
   "metadata": {},
   "source": [
    "__spec__ Niteliği\n",
    "__spec__ niteliği de bize modüller hakkında çeşitli bilgiler sunan birtakım araçları içinde barındırır. Mesela bir modülün ad ve konum bilgilerine ulaşmak için bu niteliği kullanabiliriz:\n",
    "\n"
   ]
  },
  {
   "cell_type": "code",
   "execution_count": null,
   "id": "d5f08b29-9c95-42dd-8198-beb51eef75cb",
   "metadata": {},
   "outputs": [],
   "source": [
    "import subprocess\n",
    "adı = subprocess.__spec__.name\n",
    "konumu = subprocess.__spec__.origin\n",
    "adı\n",
    "'subprocess'"
   ]
  },
  {
   "cell_type": "code",
   "execution_count": null,
   "id": "bc5bbce9-efe7-41da-ae49-ed766c1c73e8",
   "metadata": {},
   "outputs": [],
   "source": [
    "konumu\n",
    "'C:\\\\Pythonxy\\\\lib\\\\subprocess.py'"
   ]
  },
  {
   "cell_type": "raw",
   "id": "182791d4-1f0e-4954-84f5-0a67747261bf",
   "metadata": {},
   "source": [
    "Tıpkı __loader__ gibi, bu nitelik de günlük olarak kullanacağımız bir araç değil. Bu niteliğin içindeki araçların sunduğu bilgileri başka yollardan da elde edebileceğimizi biliyorsunuz.\n",
    "\n",
    "__package__ Niteliği\n",
    "Henüz bu niteliğin ne olduğunu anlayacak bilgiye sahip olmadığımız için, bu niteliğin incelemesini ‘Paketler’ konusunu işlediğimiz bölüme bırakıyoruz.\n",
    "\n",
    "Böylece modüller konusunu tamamlamış olduk. Bu bölümde modüllere ilişkin epey bilgi verdik. Eğer modüller konusunda aklınıza yatmayan yerler varsa, hiç ümitsizliğe kapılmadan okumaya devam edin. Birazdan ‘sınıflar’ konusunu işlerken, modüllerden ve modüllerin çeşitli özelliklerinden de söz edeceğiz. O zaman, burada anlamamış olabileceğiniz konuları çok daha net bir şekilde anlayacaksınız.\n",
    "\n"
   ]
  }
 ],
 "metadata": {
  "kernelspec": {
   "display_name": "Python 3 (ipykernel)",
   "language": "python",
   "name": "python3"
  },
  "language_info": {
   "codemirror_mode": {
    "name": "ipython",
    "version": 3
   },
   "file_extension": ".py",
   "mimetype": "text/x-python",
   "name": "python",
   "nbconvert_exporter": "python",
   "pygments_lexer": "ipython3",
   "version": "3.10.12"
  }
 },
 "nbformat": 4,
 "nbformat_minor": 5
}
