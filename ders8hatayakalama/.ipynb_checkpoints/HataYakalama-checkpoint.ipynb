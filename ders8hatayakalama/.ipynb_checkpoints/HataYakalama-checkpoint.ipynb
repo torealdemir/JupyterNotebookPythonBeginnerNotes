{
 "cells": [
  {
   "cell_type": "markdown",
   "id": "08eca587-cd61-4b89-b33c-a56640b8643e",
   "metadata": {},
   "source": [
    "+++++++++Hata Yakalama\n",
    "\n",
    "\n",
    "Şimdiye kadar yazdığımız bütün programlar, dikkat ettiyseniz tek bir ortak varsayım üzerine kurulu. Buna göre biz, yazdığımız programın kullanıcı tarafından nasıl kullanılmasını istiyorsak, her zaman o şekilde kullanılacağını varsayıyoruz. Örneğin sayıları toplayan bir program yazdığımızda, kullanıcının her zaman sayı değerli bir veri gireceğini düşünüyoruz. Ancak bütün iyi niyetimize rağmen, yazdığımız programlarda işler her zaman beklediğimiz gibi gitmeyebilir. Örneğin, dediğimiz gibi, yazdığımız programı, kullanıcının bir sayı girmesi temeli üzerine kurgulamışsak, kullanıcının her zaman sayı değerli bir veri gireceğinden emin olamayız.\n",
    "\n",
    "Mesela şöyle bir program yazdığımızı düşünün:"
   ]
  },
  {
   "cell_type": "code",
   "execution_count": null,
   "id": "fab405e2-af97-499c-8063-97938f5011ac",
   "metadata": {},
   "outputs": [],
   "source": [
    "veri1 = input(\"Karekökünü hesaplamak istediğiniz sayı: \")\n",
    "karekök = int(veri1) ** 0.5\n",
    "\n",
    "print(veri1, \"sayısının karekökü: \", karekök)\n",
    "\n",
    "veri2 = input(\"Karesini hesaplamak istediğiniz sayı: \")\n",
    "kare = int(veri2) ** 2\n",
    "\n",
    "print(veri2, \"sayısının karesi: \", kare)\n"
   ]
  },
  {
   "cell_type": "markdown",
   "id": "13e4928e-8281-4b39-ba6e-6110a40adf39",
   "metadata": {},
   "source": [
    "Bu kodlardaki sorunu anlamaya çalışmadan önce dilerseniz kodları şöyle bir inceleyelim.\n",
    "\n",
    "Gördüğünüz gibi, burada kullanıcının gireceği sayılara göre karekök ve kare alma işlemleri yapıyoruz. Bu kodlarda gördüğümüz ** işleci yardımıyla bir sayının herhangi bir kuvvetini hesaplayabileceğimizi biliyorsunuz. Mesela 217’nin kaç ettiğini hesaplamak için ** işlecini kullanabiliyoruz:\n",
    "\n"
   ]
  },
  {
   "cell_type": "code",
   "execution_count": 2,
   "id": "30d2eb6b-8c29-4591-8a23-6409440060de",
   "metadata": {},
   "outputs": [
    {
     "data": {
      "text/plain": [
       "1801088541"
      ]
     },
     "execution_count": 2,
     "metadata": {},
     "output_type": "execute_result"
    }
   ],
   "source": [
    "21 ** 7"
   ]
  },
  {
   "cell_type": "markdown",
   "id": "76fcb45b-1d2d-41fe-a101-a0dd287f00bf",
   "metadata": {},
   "source": [
    "Yine bildiğiniz gibi, bu işleçten, bir sayının karesini hesaplamak için de yararlanabiliyoruz. Çünkü neticede bir sayının karesi, o sayının 2. kuvvetidir:\n",
    "\n"
   ]
  },
  {
   "cell_type": "code",
   "execution_count": 3,
   "id": "ebe312f9-a24d-406f-9e21-5d87fbfc2355",
   "metadata": {},
   "outputs": [
    {
     "data": {
      "text/plain": [
       "144"
      ]
     },
     "execution_count": 3,
     "metadata": {},
     "output_type": "execute_result"
    }
   ],
   "source": [
    "12 ** 2"
   ]
  },
  {
   "cell_type": "markdown",
   "id": "4e42d8d2-25fe-4e68-b4cf-0c6ac1724435",
   "metadata": {},
   "source": [
    "Kodlarımızı incelediğimize göre, bu programdaki aksaklıkları irdelemeye başlayabiliriz.\n",
    "\n",
    "Bu program, kullanıcı sayı değerli bir veri girdiği müddetçe sorunsuz bir şekilde çalışacaktır. Peki ya kullanıcı sayı değerli bir veri yerine başka bir şey girerse ne olur?\n",
    "\n",
    "Örneğin kullanıcı yukarıdaki programa bir sayı yerine, (bilerek veya bilmeyerek) içinde harf barındıran bir veri girerse şuna benzer bir hata alır:"
   ]
  },
  {
   "cell_type": "code",
   "execution_count": null,
   "id": "20c7dc8e-f5e3-4f48-9745-d0e6ac726bac",
   "metadata": {},
   "outputs": [],
   "source": [
    "Traceback (most recent call last):\n",
    "  File \"deneme.py\", line 2, in <module>\n",
    "    karekök = int(veri1) ** 0.5\n",
    "ValueError: invalid literal for int() with base 10: 'fds'\n"
   ]
  },
  {
   "cell_type": "markdown",
   "id": "375bf42a-a9ba-4e75-8dd2-2fe031fa223c",
   "metadata": {},
   "source": [
    "Yazdığınız programların bu tür hatalar vermesi normaldir. Ancak son kullanıcı açısından düşündüğümüzde, kullanıcının yukarıdaki gibi bir hata mesajı görmesi yerine, hatanın neden kaynaklandığını ya da neyi yanlış yaptığını daha açık bir şekilde ifade eden bir mesaj alması çok daha mantıklı olacaktır. Zira yukarıdaki hata mesajı programcılar açısından anlamlı olabilir, ancak son kullanıcı açısından büsbütün anlaşılmazdır!\n",
    "\n",
    "Dediğimiz gibi, programınızın çalışma esnasında bu tür hatalar vermesi normal. Çünkü yapmaya çalıştığınız işlem, kullanıcının belli tipte bir veri girmesine bağlı. Burada sizin bir programcı olarak göreviniz, yazdığınız programın çalışma esnasında vermesi muhtemel hataları önceden kestirip, programınızda buna göre bazı önlemler almanızdır. İşte biz de bu bölümde bu önlemleri nasıl alacağımızı anlamaya çalışacağız."
   ]
  },
  {
   "cell_type": "markdown",
   "id": "a4082de1-ac7f-4171-98fa-3ba88e578c90",
   "metadata": {},
   "source": [
    "Hata Türleri\n",
    "Biz bu bölümde hatalardan bahsedeceğimizi söylemiştik. Ancak her şeyden önce ‘hata’ kavramının çok boyutlu olduğunu hatırlatmakta fayda var. Özellikle programcılık açısından hata kavramının ne anlama geldiğini biraz incelememiz gerekiyor.\n",
    "\n",
    "Biz bu bölümde hataları üç farklı başlık altında ele alacağız:\n",
    "\n",
    "Programcı Hataları (Error)\n",
    "\n",
    "Program Kusurları (Bug)\n",
    "\n",
    "İstisnalar (Exception)\n",
    "\n",
    "Öncelikle programcı hatalarından bahsedelim.\n",
    "\n",
    "Programcıdan kaynaklanan hatalar doğrudan doğruya programı yazan kişinin dikkatsizliğinden ötürü ortaya çıkan bariz hatalardır. Örneğin şu kod bir programcı hatası içerir:"
   ]
  },
  {
   "cell_type": "code",
   "execution_count": 4,
   "id": "00df8864-a51f-4d75-b714-970e13412aab",
   "metadata": {},
   "outputs": [
    {
     "ename": "SyntaxError",
     "evalue": "Missing parentheses in call to 'print'. Did you mean print(...)? (1995721686.py, line 1)",
     "output_type": "error",
     "traceback": [
      "\u001b[0;36m  Cell \u001b[0;32mIn[4], line 1\u001b[0;36m\u001b[0m\n\u001b[0;31m    print \"Merhaba Python!\"\u001b[0m\n\u001b[0m    ^\u001b[0m\n\u001b[0;31mSyntaxError\u001b[0m\u001b[0;31m:\u001b[0m Missing parentheses in call to 'print'. Did you mean print(...)?\n"
     ]
    }
   ],
   "source": [
    "print \"Merhaba Python!\""
   ]
  },
  {
   "cell_type": "markdown",
   "id": "4c5a0826-db3e-4f33-9f0e-0bfee8d969c3",
   "metadata": {},
   "source": [
    "Bu hata mesajında bizi ilgilendiren kısım son cümlede yer alıyor: SyntaxError, yani Söz dizimi hatası.\n",
    "\n",
    "Bu hatalar, programlama diline ilişkin bir özelliğin yanlış kullanımından veya en basit şekilde programcının yaptığı yazım hatalarından kaynaklanır. Programcının hataları genellikle SyntaxError şeklinde ortaya çıkar. Bu hatalar çoğunlukla programcı tarafından farkedilir ve program kullanıcıya ulaşmadan önce programcı tarafından düzeltilir. Bu tür hataların tespiti diğer hatalara kıyasla kolaydır. Çünkü bu tür hatalar programınızın çalışmasını engellediği için bunları farketmemek pek mümkün değildir…\n",
    "\n",
    "Program kusurları, başka bir deyişle bug’lar ise çok daha karmaşıktır. Kusurlu programlar çoğu zaman herhangi bir hata vermeden çalışır. Ancak programın ürettiği çıktılar beklediğiniz gibi değildir. Örneğin yazdığınız programda bir formül hatası yapmış olabilirsiniz. Bu durumda programınız hiçbir şey yokmuş gibi çalışır, ancak formül hatalı olduğu için hesaplamaların sonuçları yanlıştır. Örneğin daha önceki derslerimizde yazdığımız şu program yukarıdaki gibi bir kusur içerir:\n",
    "\n"
   ]
  },
  {
   "cell_type": "code",
   "execution_count": null,
   "id": "55e970d1-1246-4ebb-9f61-ac7f327d256d",
   "metadata": {},
   "outputs": [],
   "source": [
    "sayı1 = input(\"Toplama işlemi için ilk sayıyı girin: \")\n",
    "sayı2 = input(\"Toplama işlemi için ikinci sayıyı girin: \")\n",
    "\n",
    "print(sayı1, \"+\", sayı2, \"=\", sayı1 + sayı2)"
   ]
  },
  {
   "cell_type": "markdown",
   "id": "8876def6-fe49-4174-ae1e-421c8ca89e4a",
   "metadata": {},
   "source": [
    "Bu programda kullanıcı veri girdiği zaman, programımız toplama işlemi değil karakter dizisi birleştirme işlemi yapacaktır. Böyle bir program çalışma sırasında hata vermeyeceği için buradaki sorunu tespit etmek, özellikle büyük programlarda çok güçtür. Yani sizin düzgün çalıştığını zannettiğiniz program aslında gizliden gizliye bir bug barındırıyor olabilir.\n",
    "\n",
    "Aynı şekilde, mesela eval() fonksiyonunun dikkatsizce kullanıldığı programlar da güvenlik açısından kusurludur. Yani bu tür programlar bir güvenlik kusuru (security bug veya security flaw) barındırır.\n",
    "\n",
    "Dediğimiz gibi, program kusurları çok boyutlu olup, burada anlattığımızdan çok daha karmaşıktır.\n",
    "\n",
    "Gelelim üçüncü kategori olan istisnalara (exceptions)…\n",
    "\n",
    "İstisnalar, adından da az çok anlaşılacağı gibi, bir programın çalışması sırasında ortaya çıkan, normalden farklı, istisnai durumlardır. Örneğin şu programa bakalım:"
   ]
  },
  {
   "cell_type": "code",
   "execution_count": 5,
   "id": "1309e1c2-d3bf-4bdf-90f5-3479d753ac97",
   "metadata": {},
   "outputs": [
    {
     "name": "stdin",
     "output_type": "stream",
     "text": [
      "ilk sayı:  23\n",
      "ikinci sayı:  0\n"
     ]
    },
    {
     "ename": "ZeroDivisionError",
     "evalue": "division by zero",
     "output_type": "error",
     "traceback": [
      "\u001b[0;31m---------------------------------------------------------------------------\u001b[0m",
      "\u001b[0;31mZeroDivisionError\u001b[0m                         Traceback (most recent call last)",
      "Cell \u001b[0;32mIn[5], line 7\u001b[0m\n\u001b[1;32m      4\u001b[0m ilk_sayı \u001b[38;5;241m=\u001b[39m \u001b[38;5;28mint\u001b[39m(ilk_sayı)\n\u001b[1;32m      5\u001b[0m ikinci_sayı \u001b[38;5;241m=\u001b[39m \u001b[38;5;28mint\u001b[39m(ikinci_sayı)\n\u001b[0;32m----> 7\u001b[0m \u001b[38;5;28mprint\u001b[39m(ilk_sayı, \u001b[38;5;124m\"\u001b[39m\u001b[38;5;124m/\u001b[39m\u001b[38;5;124m\"\u001b[39m, ikinci_sayı, \u001b[38;5;124m\"\u001b[39m\u001b[38;5;124m=\u001b[39m\u001b[38;5;124m\"\u001b[39m, \u001b[43milk_sayı\u001b[49m\u001b[43m \u001b[49m\u001b[38;5;241;43m/\u001b[39;49m\u001b[43m \u001b[49m\u001b[43mikinci_sayı\u001b[49m)\n",
      "\u001b[0;31mZeroDivisionError\u001b[0m: division by zero"
     ]
    }
   ],
   "source": [
    "ilk_sayı = input(\"ilk sayı: \")\n",
    "ikinci_sayı = input(\"ikinci sayı: \")\n",
    "\n",
    "ilk_sayı = int(ilk_sayı)\n",
    "ikinci_sayı = int(ikinci_sayı)\n",
    "\n",
    "print(ilk_sayı, \"/\", ikinci_sayı, \"=\", ilk_sayı / ikinci_sayı)"
   ]
  },
  {
   "cell_type": "markdown",
   "id": "3fbe541a-9d24-4c5a-8991-add5d633fad8",
   "metadata": {},
   "source": [
    "Burada ilk sayıyı ikinci sayıya bölen bir program yazdık. Bu program her türlü bölme işlemini yapabilir. Ama burada hesaba katmamız gereken iki şey var:\n",
    "\n",
    "Kullanıcı sayı yerine, sayı değerli olmayan bir veri tipi girebilir. Mesela ilk sayıya karşılık 23, ikinci sayıya karşılık ‘fdsfd’ gibi bir şey yazabilir.\n",
    "\n",
    "Kullanıcı bir sayıyı 0’a bölmeye çalışabilir. Mesela ilk sayıya karşılık 23, ikinci sayıya karşılık 0 yazabilir.\n",
    "\n",
    "İlk durumda programımız şöyle bir hata verir:"
   ]
  },
  {
   "cell_type": "markdown",
   "id": "48be9fcd-51ad-4f79-b0ed-5a76fd06304f",
   "metadata": {},
   "source": [
    "Buradaki sorun, sayı değerli olmayan bir verinin, int() fonksiyonu aracılığıyla sayıya çevrilmeye çalışılıyor olması.\n",
    "\n",
    "İkinci durumda ise programımız şöyle bir hata verir:"
   ]
  },
  {
   "cell_type": "markdown",
   "id": "9fc58a4a-3ca6-49f0-9e83-99e106de1108",
   "metadata": {},
   "source": [
    "Buradaki sorun ise, bir sayının 0’a bölünmeye çalışılıyor olması. Matematikte sayılar 0’a bölünemez…\n",
    "\n",
    "İşte bu iki örnekte gördüğümüz ValueError ve ZeroDivisionError birer istisnadır. Yani kullanıcıların, kendilerinden sayı beklenirken sayı değerli olmayan veri girmesi veya bir sayıyı 0’a bölmeye çalışması istisnai birer durumdur ve yazdığımız programların exception (istisna) üretmesine yol açar.\n",
    "\n",
    "Böylece hata (error), kusur (bug) ve istisna (exception) arasındaki farkları şöyle bir gözden geçirmiş olduk. Yalnız burada şunu söylemekte yarar var: Bu üç kavram arasındaki fark belli belirsizdir. Yani bu kavramların çoğu yerde birbirlerinin yerine kullanıldığını da görebilirsiniz. Örneğin exception kavramı için Türkçe’de çoğu zaman ‘hata’ kelimesini kullanıyoruz. Zaten dikkat ederseniz bu bölümün başlığı da ‘İstisna Yakalama’ değil, ‘Hata Yakalama’dır. Aynı şekilde, İngilizcede de bu kavramların çoğu yerde birbirlerinin yerine kullanıldığını görebilirsiniz. Dolayısıyla, konuya karşı özel bir ilginiz yoksa, hata, kusur ve istisna kavramlarını birbirinden ayırmak için kendinizi zorlamanıza gerek yok. Bu üç kavram çoğu zaman birbirinin yerine kullanılıyor da olsa, aslında aralarında bazı farklar olduğunu öğrenmişseniz bu bölüm amacına ulaşmış demektir.\n",
    "\n",
    "Konuyla ilgili temel bilgileri edindiğimize göre asıl meseleye geçebiliriz…\n",
    "\n",
    "++++++++++try… except…\n",
    "\n",
    "\n",
    "\n",
    "Bir önceki bölümde hatalardan ve hataları yakalamaktan söz ettik. Peki bu hataları nasıl yakalayacağız?\n",
    "\n",
    "Python’da hata yakalama işlemleri için try... except... bloklarından yararlanılır. Hemen bir örnek verelim:"
   ]
  },
  {
   "cell_type": "code",
   "execution_count": null,
   "id": "6eb66277-878c-4ff6-ae9c-5425973dea91",
   "metadata": {},
   "outputs": [],
   "source": [
    "ilk_sayı    = input(\"ilk sayı: \")\n",
    "ikinci_sayı = input(\"ikinci sayı: \")\n",
    "\n",
    "try:\n",
    "    sayı1 = int(ilk_sayı)\n",
    "    sayı2 = int(ikinci_sayı)\n",
    "    print(sayı1, \"/\", sayı2, \"=\", sayı1 / sayı2)\n",
    "except ValueError:\n",
    "    print(\"Lütfen sadece sayı girin!\")"
   ]
  },
  {
   "cell_type": "markdown",
   "id": "d99bfa4c-4d9c-4b02-9862-e310f079309b",
   "metadata": {},
   "source": [
    "Biliyoruz ki, bir veriyi sayıya dönüştürmek istediğimizde eğer kullanıcı sayı değerli bir veri yerine harf değerli bir veri girerse programımız çöker. Dolayısıyla int(ilk_sayı) ve int(ikinci_sayı) kodları, kullanıcının gireceği veri türüne göre hata üretme potansiyeline sahiptir. O yüzden, burada hata vereceğini bildiğimiz o kodları try bloğu içine aldık.\n",
    "\n",
    "Yine bildiğimiz gibi, veri dönüştürme işlemi sırasında kullanıcının uygun olmayan bir veri girmesi halinde üretilecek hata bir ValueError’dır. Dolayısıyla except bloğu içine yazacağımız hata türünün adı da ValueError olacaktır. O yüzden ValueError adlı hatayı yakalayabilmek için şu satırları yazdık:"
   ]
  },
  {
   "cell_type": "code",
   "execution_count": null,
   "id": "1f58551c-519f-4c2f-95d4-5fb1a3832176",
   "metadata": {},
   "outputs": [],
   "source": [
    "except ValueError:\n",
    "    print(\"Lütfen sadece sayı girin!\")"
   ]
  },
  {
   "cell_type": "markdown",
   "id": "65fcb4f5-6b90-48ab-aca9-e2ffd3f604e5",
   "metadata": {},
   "source": [
    "Burada bu kodlarla Python’a şu emri vermiş olduk:\n",
    "\n",
    "Eğer try bloğu içinde belirtilen işlemler sırasında bir ValueError ile karşılaşırsan bunu görmezden gel ve normal şartlar altında kullanıcıya göstereceğin hata mesajını gösterme. Onun yerine kullanıcıya Lütfen sadece sayı girin! uyarısını göster.\n",
    "\n",
    "Yukarıda Türkçeye çevirdiğimiz emri Pythoncada nasıl ifade ettiğimize dikkat edin. Temel olarak şöyle bir yapıyla karşı karşıyayız:"
   ]
  },
  {
   "cell_type": "code",
   "execution_count": null,
   "id": "ce0eed4f-3e5d-485c-9bf1-350be091c45d",
   "metadata": {},
   "outputs": [],
   "source": [
    "try:\n",
    "    hata verebileceğini bildiğimiz kodlar\n",
    "except HataAdı:\n",
    "    hata durumunda yapılacak işlem"
   ]
  },
  {
   "cell_type": "markdown",
   "id": "a33c90df-8c8e-4f22-b541-3caee8fd8df2",
   "metadata": {},
   "source": [
    "Gelin isterseniz bir örnek daha verelim.\n",
    "\n",
    "Hatırlarsanız bir sayının 0’a bölünmesinin mümkün olmadığını, böyle bir durumda programımızın hata vereceğini söylemiştik. Bu durumu teyit etmek için etkileşimli kabukta şu kodu deneyebilirsiniz:\n",
    "\n"
   ]
  },
  {
   "cell_type": "code",
   "execution_count": 6,
   "id": "19fd30ec-b334-495a-9f73-88475d86fad5",
   "metadata": {},
   "outputs": [
    {
     "ename": "ZeroDivisionError",
     "evalue": "division by zero",
     "output_type": "error",
     "traceback": [
      "\u001b[0;31m---------------------------------------------------------------------------\u001b[0m",
      "\u001b[0;31mZeroDivisionError\u001b[0m                         Traceback (most recent call last)",
      "Cell \u001b[0;32mIn[6], line 1\u001b[0m\n\u001b[0;32m----> 1\u001b[0m \u001b[38;5;241;43m2\u001b[39;49m\u001b[43m \u001b[49m\u001b[38;5;241;43m/\u001b[39;49m\u001b[43m \u001b[49m\u001b[38;5;241;43m0\u001b[39;49m\n",
      "\u001b[0;31mZeroDivisionError\u001b[0m: division by zero"
     ]
    }
   ],
   "source": [
    "2 / 0"
   ]
  },
  {
   "cell_type": "markdown",
   "id": "9055e59b-2d93-4242-b4c0-7d6e5a9f4846",
   "metadata": {},
   "source": [
    "Daha önce de söylediğimiz gibi, bu hata mesajında bizi ilgilendiren kısım ZeroDivisionError. Demek ki bir sayı 0’a bölündüğünde Python ZeroDivisionError veriyormuş. O halde şöyle bir kod yazabiliriz:"
   ]
  },
  {
   "cell_type": "code",
   "execution_count": null,
   "id": "af1e4e33-0ad2-4d6c-b341-ac3e3b0d50c4",
   "metadata": {},
   "outputs": [],
   "source": [
    "ilk_sayı    = input(\"ilk sayı: \")\n",
    "ikinci_sayı = input(\"ikinci sayı: \")\n",
    "\n",
    "try:\n",
    "    sayı1 = int(ilk_sayı)\n",
    "    sayı2 = int(ikinci_sayı)\n",
    "    print(sayı1, \"/\", sayı2, \"=\", sayı1 / sayı2)\n",
    "except ZeroDivisionError:\n",
    "    print(\"Bir sayıyı 0'a bölemezsiniz!\")"
   ]
  },
  {
   "cell_type": "markdown",
   "id": "7cfeed42-6b89-4897-b328-3c1177d834e3",
   "metadata": {},
   "source": [
    "Gördüğünüz gibi, Python’ın ZeroDivisionError vereceğini bildiğimiz durumlara karşı bu hata türünü yakalama yoluna gidiyoruz. Böylece kullanıcıya anlamsız ve karmaşık hata mesajları göstermek ve daha da kötüsü, programımızın çökmesine sebep olmak yerine daha anlaşılır mesajlar üretiyoruz.\n",
    "\n",
    "Yukarıdaki kodlarda özellikle bir nokta dikkatinizi çekmiş olmalı: Dikkat ederseniz yukarıdaki kodlar aslında bir değil iki farklı hata üretme potansiyeline sahip. Eğer kullanıcı sayı değerli veri yerine harf değerli bir veri girerse ValueError, eğer bir sayıyı 0’a bölmeye çalışırsa da ZeroDivisionError hatası alıyoruz. Peki aynı kodlarda iki farklı hata türünü nasıl yakalayacağız?\n",
    "\n",
    "Çok basit:"
   ]
  },
  {
   "cell_type": "code",
   "execution_count": null,
   "id": "7e799215-20ea-462d-8812-36404035eb1b",
   "metadata": {},
   "outputs": [],
   "source": [
    "ilk_sayı    = input(\"ilk sayı: \")\n",
    "ikinci_sayı = input(\"ikinci sayı: \")\n",
    "\n",
    "try:\n",
    "    sayı1 = int(ilk_sayı)\n",
    "    sayı2 = int(ikinci_sayı)\n",
    "    print(sayı1, \"/\", sayı2, \"=\", sayı1 / sayı2)\n",
    "except ZeroDivisionError:\n",
    "    print(\"Bir sayıyı 0'a bölemezsiniz!\")\n",
    "except ValueError:\n",
    "    print(\"Lütfen sadece sayı girin!\")"
   ]
  },
  {
   "cell_type": "markdown",
   "id": "61eef151-8612-467f-8d2c-aca15d8dac77",
   "metadata": {},
   "source": [
    "Gördüğünüz gibi çözüm gayet mantıklı. Birden fazla hata türü üreteceğini bildiğimiz kodları yine tek bir try bloğu içine alıyoruz. Hata türlerini ise ayrı except blokları içinde ele alıyoruz.\n",
    "\n",
    "Bir program yazarken, en iyi yaklaşım, yukarıda yaptığımız gibi, her hata türü için kullanıcıya ayrı bir uyarı mesajı göstermektir. Böylece kullanıcılarımız bir hatayla karşılaştıklarında sorunu nasıl çözebilecekleri konusunda en azından bir fikir sahibi olabilirler.\n",
    "\n",
    "Dediğimiz gibi, her hata için ayrı bir mesaj göstermek en iyisidir. Ama tabii dilerseniz hata türlerini gruplayıp hepsi için tek bir hata mesajı göstermeyi de tercih edebilirsiniz. Bunu nasıl yapacağımızı görelim:"
   ]
  },
  {
   "cell_type": "code",
   "execution_count": null,
   "id": "86fad9d5-a9f7-4544-9a2f-32b2d9014c7d",
   "metadata": {},
   "outputs": [],
   "source": [
    "ilk_sayı    = input(\"ilk sayı: \")\n",
    "ikinci_sayı = input(\"ikinci sayı: \")\n",
    "\n",
    "try:\n",
    "    sayı1 = int(ilk_sayı)\n",
    "    sayı2 = int(ikinci_sayı)\n",
    "    print(sayı1, \"/\", sayı2, \"=\", sayı1 / sayı2)\n",
    "except (ValueError, ZeroDivisionError):\n",
    "    print(\"Bir hata oluştu!\")"
   ]
  },
  {
   "cell_type": "markdown",
   "id": "8c173ed6-254f-4c7b-af4e-4ffa007e3074",
   "metadata": {},
   "source": [
    "Gördüğünüz gibi, burada ValueError ve ZeroDivisionError adlı hata türlerini tek bir parantez içinde topladık. Burada dikkat edeceğimiz nokta, bu hata türlerini gruplarken bunları parantez içine almak ve birbirlerinden virgülle ayırmaktır.\n",
    "\n",
    "Bu arada, gördüğünüz gibi yukarıdaki programlar sadece bir kez çalışıp kapanıyor. Ama biz bu programları tekrar tekrar nasıl çalıştırabileceğimizi gayet iyi biliyoruz:\n",
    "\n"
   ]
  },
  {
   "cell_type": "code",
   "execution_count": null,
   "id": "4591e125-1c03-43b3-bb2b-6ce9414481a0",
   "metadata": {},
   "outputs": [],
   "source": [
    "while True:\n",
    "    ilk_sayı = input(\"ilk sayı (Programdan çıkmak için q tuşuna basın): \")\n",
    "\n",
    "    if ilk_sayı == \"q\":\n",
    "        break\n",
    "\n",
    "    ikinci_sayı = input(\"ikinci sayı: \")\n",
    "\n",
    "    try:\n",
    "        sayı1 = int(ilk_sayı)\n",
    "        sayı2 = int(ikinci_sayı)\n",
    "        print(sayı1, \"/\", sayı2, \"=\", sayı1 / sayı2)\n",
    "    except (ValueError, ZeroDivisionError):\n",
    "        print(\"Bir hata oluştu!\")\n",
    "        print(\"Lütfen tekrar deneyin!\")"
   ]
  },
  {
   "cell_type": "markdown",
   "id": "a67fc5cd-5b3b-4e7b-87a8-65c8d7415fc1",
   "metadata": {},
   "source": [
    "Python’da hata yakalamanın en yaygın yolu yukarıda gösterdiğimiz gibi kodları try... except blokları içine almaktır. Programcılık maceranızın büyük bölümünde bu yapıyı kullanacaksınız. Ama bazen, karşı karşıya olduğunuz duruma veya ihtiyacınıza göre try... except bloklarının farklı varyasyonlarını kullanmanız gerekebilir. İşte şimdi biz de bu farklı varyasyonların neler olduğunu incelemeye çalışacağız.\n",
    "\n"
   ]
  },
  {
   "cell_type": "markdown",
   "id": "d967cd01-9d46-4606-92e3-befce3e263b2",
   "metadata": {},
   "source": [
    "+++++++++++try… except… as…\n",
    "\n",
    "\n",
    "Bildiğiniz gibi, Python bir programın çalışması esnasında hata üretirken çıktıda hata türünün adıyla birlikte kısa bir hata açıklaması veriyor. Yani mesela şöyle bir çıktı üretiyor:"
   ]
  },
  {
   "cell_type": "code",
   "execution_count": null,
   "id": "f96b044c-3e07-4ba1-bcae-515b90ec0080",
   "metadata": {},
   "outputs": [],
   "source": [
    "ValueError: invalid literal for int() with base 10: 'f'"
   ]
  },
  {
   "cell_type": "markdown",
   "id": "0e1ed771-bb19-4503-81f5-fa7f323ea00c",
   "metadata": {},
   "source": [
    "Burada ‘ValueError’ hata türünün adı, ‘invalid literal for int() with base 10: ‘f’’ ise hatanın açıklamasıdır. Eğer istersek, yazdığımız programda bu hata açıklamasına erişebiliriz. Dikkatlice bakın:"
   ]
  },
  {
   "cell_type": "code",
   "execution_count": null,
   "id": "72f92dd1-cb07-4866-8cc5-60b3832936d6",
   "metadata": {},
   "outputs": [],
   "source": [
    "ilk_sayı    = input(\"ilk sayı: \")\n",
    "ikinci_sayı = input(\"ikinci sayı: \")\n",
    "\n",
    "try:\n",
    "    sayı1 = int(ilk_sayı)\n",
    "    sayı2 = int(ikinci_sayı)\n",
    "    print(sayı1, \"/\", sayı2, \"=\", sayı1 / sayı2)\n",
    "except ValueError as hata:\n",
    "    print(hata)"
   ]
  },
  {
   "cell_type": "markdown",
   "id": "3ffe4660-ba5c-424b-992e-f9d307db9069",
   "metadata": {},
   "source": [
    "Bu programı çalıştırıp sayı değerli olmayan bir veri girersek hata çıktısı şöyle olacaktır:"
   ]
  },
  {
   "cell_type": "code",
   "execution_count": null,
   "id": "d6cbf6fd-9684-41a3-9b40-5eae4b3f1ad2",
   "metadata": {},
   "outputs": [],
   "source": [
    "invalid literal for int() with base 10: 'f'"
   ]
  },
  {
   "cell_type": "markdown",
   "id": "616dc3ce-3961-4b3a-8a6b-f48831e2df55",
   "metadata": {},
   "source": [
    "Gördüğünüz gibi, bu defa çıktıda hata türünün adı (ValueError) görünmüyor. Onun yerine sadece hata açıklaması var.\n",
    "\n",
    "Diyelim ki kullanıcıya olası bir hata durumunda hem kendi yazdığınız hata mesajını, hem de özgün hata mesajını göstermek istiyorsunuz. İşte yukarıdaki yapı böyle durumlarda işe yarayabilir:"
   ]
  },
  {
   "cell_type": "code",
   "execution_count": null,
   "id": "a37ac7cc-83ad-4e3c-ab7d-4a63fe229569",
   "metadata": {},
   "outputs": [],
   "source": [
    "ilk_sayı    = input(\"ilk sayı: \")\n",
    "ikinci_sayı = input(\"ikinci sayı: \")\n",
    "\n",
    "try:\n",
    "    sayı1 = int(ilk_sayı)\n",
    "    sayı2 = int(ikinci_sayı)\n",
    "    print(sayı1, \"/\", sayı2, \"=\", sayı1 / sayı2)\n",
    "except ValueError as hata:\n",
    "    print(\"Sadece sayı girin!\")\n",
    "    print(\"orijinal hata mesajı: \", hata)"
   ]
  },
  {
   "cell_type": "markdown",
   "id": "ab77dd08-1a3c-444a-a7f9-e4980d8358f0",
   "metadata": {},
   "source": [
    "Bu arada, biraz önce yaptığımız gibi, hata türlerini grupladığınızda da bu yöntemi kullanabilirsiniz:"
   ]
  },
  {
   "cell_type": "code",
   "execution_count": null,
   "id": "0a0741b1-4337-4e70-bed1-e621ac8df6e6",
   "metadata": {},
   "outputs": [],
   "source": [
    "ilk_sayı    = input(\"ilk sayı: \")\n",
    "ikinci_sayı = input(\"ikinci sayı: \")\n",
    "\n",
    "try:\n",
    "    sayı1 = int(ilk_sayı)\n",
    "    sayı2 = int(ikinci_sayı)\n",
    "    print(sayı1, \"/\", sayı2, \"=\", sayı1 / sayı2)\n",
    "except (ValueError, ZeroDivisionError) as hata:\n",
    "    print(\"Bir hata oluştu!\")\n",
    "    print(\"orijinal hata mesajı: \", hata)"
   ]
  },
  {
   "cell_type": "markdown",
   "id": "3147af66-d242-43ee-a440-8d3df625273f",
   "metadata": {},
   "source": [
    "Burada except falancaHata as filanca yapısını kullanarak falancaHata’yı filanca olarak isimlendiriyor ve daha sonra bu ismi istediğimiz gibi kullanabiliyoruz. Böylece bütün hata türleri için hem kendi yazdığınız mesajı görüntüleyebiliyor, hem de özgün hata mesajını da çıktıya eklediğimiz için, kullanıcıya hata hakkında en azından bir fikir sahibi olma imkanı vermiş oluyoruz."
   ]
  },
  {
   "cell_type": "markdown",
   "id": "a94f8383-e125-4505-8363-ce59f6d74b16",
   "metadata": {},
   "source": [
    "++++++++try… except… else…\n",
    "\n",
    "\n",
    "Daha önce de dediğimiz gibi, Python’da hata yakalama işlemleri için çoğunlukla try... except... bloklarını bilmek yeterli olacaktır. İşlerimizin büyük kısmını sadece bu blokları kullanarak halledebiliriz. Ancak Python bize bu konuda, zaman zaman işimize yarayabilecek başka araçlar da sunmaktadır. İşte try... except... else... blokları da bu araçlardan biridir. Bu bölümde kısaca bu blokların ne işe yaradığından söz edeceğiz.\n",
    "\n",
    "Öncelikle try... except... else... bloğunun ne işe yaradığına bakalım. Esasında biz bu else deyimini daha önce de ‘koşullu ifadeler’ konusunu işlerken görmüştük. Buradaki kullanımı da zaten hemen hemen aynıdır. Diyelim ki elimizde şöyle bir şey var:"
   ]
  },
  {
   "cell_type": "code",
   "execution_count": null,
   "id": "d4acd078-ecfb-4cee-884b-a924a47fa734",
   "metadata": {},
   "outputs": [],
   "source": [
    "try:\n",
    "    bölünen = int(input(\"bölünecek sayı: \"))\n",
    "    bölen = int(input(\"bölen sayı: \"))\n",
    "    print(bölünen/bölen)\n",
    "except ValueError:\n",
    "    print(\"hata!\")"
   ]
  },
  {
   "cell_type": "markdown",
   "id": "ea0703d1-1630-4637-bdf0-7062eb53bedf",
   "metadata": {},
   "source": [
    "Bu şekilde hem ValueError hatasını hem de ZeroDivisionError hatasını yakalamış oluruz. Bu kodların özelliği, except... bloklarının tek bir try... bloğunu temel almasıdır. Yani biz burada bütün kodlarımızı tek bir try... bloğu içine tıkıştırıyoruz. Bu blok içinde gerçekleşen hataları da daha sonra tek tek except... blokları yardımıyla yakalıyoruz. Ama eğer biz istersek bu kodlarda verilebilecek hataları gruplamayı da tercih edebiliriz:"
   ]
  },
  {
   "cell_type": "code",
   "execution_count": null,
   "id": "79b58495-8ae5-402c-ac0d-1793077d2198",
   "metadata": {},
   "outputs": [],
   "source": [
    "try:\n",
    "    bölünen = int(input(\"bölünecek sayı: \"))\n",
    "    bölen = int(input(\"bölen sayı: \"))\n",
    "except ValueError:\n",
    "    print(\"Lütfen sadece sayı girin!\")\n",
    "else:\n",
    "    try:\n",
    "        print(bölünen/bölen)\n",
    "    except ZeroDivisionError:\n",
    "        print(\"Bir sayıyı 0'a bölemezsiniz!\")"
   ]
  },
  {
   "cell_type": "markdown",
   "id": "eeebe535-b7c7-4584-8ef9-6cdd3ae18619",
   "metadata": {},
   "source": [
    "Burada yaptığımız şey şu: İlk try... except... bloğu yardımıyla öncelikle int(input()) fonksiyonu ile kullanıcıdan gelecek verinin sayı olup olmadığını denetliyoruz. Ardından bir else... bloğu açarak, bunun içinde ikinci try... except... bloğumuzu devreye sokuyoruz. Burada da bölme işlemini gerçekleştiriyoruz. Kullanıcının bölme işlemi sırasında 0 sayısını girmesi ihtimaline karşı da except ZeroDivisionError ifadesi yardımıyla olası hatayı göğüslüyoruz. Bu şekilde bir kodlamanın bize getireceği avantaj, hatalar üzerinde belli bir kontrol sağlamamıza yardımcı olmasıdır. Yukarıdaki kodlar sayesinde hatalara bir nevi ‘teker teker gelin!’ mesajı vermiş oluyoruz. Böylelikle her blok içinde sadece almayı beklediğimiz hatayı karşılıyoruz. Mesela yukarıda ilk try... bloğu içindeki dönüştürme işlemi yalnızca ValueError hatası verebilir. else: bloğundan sonraki try... bloğunda yer alan işlem ise ancak ZeroDivisionError verecektir. Biz yukarıda kullandığımız yapı sayesinde her bir hatayı tek tek ve yeri geldiğinde karşılıyoruz. Bu durumun aksine, bölümün ilk başında verdiğimiz try... except bloğunda hem ValueError hem de ZeroDivisionError hatalarının gerçekleşme ihtimali bulunuyor. Dolayısıyla biz orada bütün hataları tek bir try... bloğu içine sıkıştırmış oluyoruz. İşte else: bloğu bu sıkışıklığı gidermiş oluyor. Ancak sizi bir konuda uyarmak isterim: Bu yapı, her akla geldiğinde kullanılacak bir yapı değildir. Büyük programlarda bu tarz bir kullanım kodlarınızın darmadağın olmasına, kodlarınız üzerindeki denetimi tamamen kaybetmenize de yol açabilir. Sonunda da elinizde bölük pörçük bir kod yığını kalabilir. Zaten açıkça söylemek gerekirse try... except... else... yapısının çok geniş bir kullanım alanı yoktur. Bu yapı ancak çok nadir durumlarda kullanılmayı gerektirebilir. Dolayısıyla bu üçlü yapıyı hiç kullanmadan bir ömrü rahatlıkla geçirebilirsiniz."
   ]
  },
  {
   "cell_type": "markdown",
   "id": "f48941f8-17b1-483b-ac67-3d5de42dbc46",
   "metadata": {},
   "source": [
    "++++++try… except… finally…\n",
    "\n",
    "\n",
    "try... except... else... yapılarının dışında, Python’ın bize sunduğu bir başka yapı da try... except... finally... yapılarıdır. Bunu şöyle kullanıyoruz:"
   ]
  },
  {
   "cell_type": "code",
   "execution_count": null,
   "id": "4c085e71-8784-47b8-b152-7646f221eeff",
   "metadata": {},
   "outputs": [],
   "source": [
    "try:\n",
    "    ...bir takım işler...\n",
    "except birHata:\n",
    "    ...hata alınınca yapılacak işlemler...\n",
    "finally:\n",
    "    ...hata olsa da olmasa da yapılması gerekenler..."
   ]
  },
  {
   "cell_type": "markdown",
   "id": "a7e0e81c-1f41-486b-abd5-3b1e63bf0204",
   "metadata": {},
   "source": [
    "finally.. bloğunun en önemli özelliği, programın çalışması sırasında herhangi bir hata gerçekleşse de gerçekleşmese de işletilecek olmasıdır. Eğer yazdığınız programda mutlaka ama mutlaka işletilmesi gereken bir kısım varsa, o kısmı finally... bloğu içine yazabilirsiniz.\n",
    "\n",
    "finally... bloğu özellikle dosya işlemlerinde işimize yarayabilir. Henüz Python’da dosyalarla nasıl çalışacağımızı öğrenmedik, ama ben şimdilik size en azından dosyalarla çalışma prensibi hakkında bir şeyler söyleyeyim.\n",
    "\n",
    "Genel olarak Python’da dosyalarla çalışabilmek için öncelikle bilgisayarda bulunan bir dosyayı okuma veya yazma kipinde açarız. Dosyayı açtıktan sonra bu dosyayla ihtiyacımız olan birtakım işlemler gerçekleştiririz. Dosyayla işimiz bittikten sonra ise dosyamızı mutlaka kapatmamız gerekir. Ancak eğer dosya üzerinde işlem yapılırken bir hata ile karşılaşılırsa dosyamızı kapatma işlemini gerçekleştirdiğimiz bölüme hiç ulaşılamayabilir. İşte finally... bloğu böyle bir durumda işimize yarayacaktır:"
   ]
  },
  {
   "cell_type": "code",
   "execution_count": null,
   "id": "331efeb4-2021-49f8-9656-eb8465064793",
   "metadata": {},
   "outputs": [],
   "source": [
    "try:\n",
    "    dosya = open(\"dosyaadı\", \"r\")\n",
    "    ...burada dosyayla bazı işlemler yapıyoruz...\n",
    "    ...ve ansızın bir hata oluşuyor...\n",
    "except IOError:\n",
    "    print(\"bir hata oluştu!\")\n",
    "finally:\n",
    "    dosya.close()"
   ]
  },
  {
   "cell_type": "markdown",
   "id": "c8f87148-df2b-413e-95d8-9326a90c4e6a",
   "metadata": {},
   "source": [
    "Burada finally... bloğu içine yazdığımız dosya.close() ifadesi dosyamızı güvenli bir şekilde kapatmaya yarıyor. Bu blok, yazdığımız program hata verse de vermese de işletilecektir."
   ]
  },
  {
   "cell_type": "markdown",
   "id": "c55f9840-ef81-47ca-8c3d-e034063ca283",
   "metadata": {},
   "source": [
    "++++++raise\n",
    "\n",
    "\n",
    "Bazen, yazdığımız bir programda, kullanıcının yaptığı bir işlem normal şartlar altında hata vermeyecek olsa bile biz ona ‘Python tarzı’ bir hata mesajı göstermek isteyebiliriz. Böyle bir durumda ihtiyacımız olan şey Python’ın bize sunduğu raise adlı deyimdir. Bu deyim yardımıyla duruma özgü hata mesajları üretebiliriz. Bir örnek verelim:\n",
    "\n"
   ]
  },
  {
   "cell_type": "code",
   "execution_count": null,
   "id": "0fff84b1-d7be-41ea-9661-80fea402a6c2",
   "metadata": {},
   "outputs": [],
   "source": [
    "bölünen = int(input(\"bölünecek sayı: \"))\n",
    "\n",
    "if bölünen == 23:\n",
    "    raise Exception(\"Bu programda 23 sayısını görmek istemiyorum!\")\n",
    "\n",
    "bölen = int(input(\"bölen sayı: \"))\n",
    "print(bölünen/bölen)"
   ]
  },
  {
   "cell_type": "markdown",
   "id": "548a40b7-0788-4fb5-8198-33bfff82f09b",
   "metadata": {},
   "source": [
    "Burada eğer kullanıcı 23 sayısını girerse, kullanıcıya bir hata mesajı gösterilip programdan çıkılacaktır. Biz bu kodlarda Exception adlı genel hata mesajını kullandık. Burada Exception yerine her istediğimizi yazamayız. Yazabileceklerimiz ancak Python’da tanımlı hata mesajları olabilir. Örneğin NameError, TypeError, ZeroDivisionError, IOError, vb…\n",
    "\n"
   ]
  },
  {
   "cell_type": "code",
   "execution_count": null,
   "id": "f6dd597f-002b-4618-be7d-126603336b00",
   "metadata": {},
   "outputs": [],
   "source": [
    "tr_karakter = \"şçğüöıİ\"\n",
    "\n",
    "parola = input(\"Parolanız: \")\n",
    "\n",
    "for i in parola:\n",
    "    if i in tr_karakter:\n",
    "        raise TypeError(\"Parolada Türkçe karakter kullanılamaz!\")\n",
    "    else:\n",
    "        pass\n",
    "\n",
    "print(\"Parola kabul edildi!\")"
   ]
  },
  {
   "cell_type": "markdown",
   "id": "f172d17e-83cb-4d1c-8c0a-4d57bf2bc659",
   "metadata": {},
   "source": [
    "Bu kodlar çalıştırıldığında, eğer kullanıcı, içinde Türkçe karakter geçen bir parola yazarsa kendisine TypeError tipinde bir hata mesajı gösteriyoruz. Eğer kullanıcının parolası Türkçe karakter içermiyorsa hiçbir şey yapmadan geçiyoruz ve bir sonraki satırda kendisine ‘Parola kabul edildi!’ mesajını gösteriyoruz.\n",
    "\n",
    "raise deyimini, bir hata mesajına ek olarak bir işlem yapmak istediğimizde de kullanabiliriz. Örneğin:"
   ]
  },
  {
   "cell_type": "code",
   "execution_count": null,
   "id": "730c50c8-c005-496d-9c46-8ead83ade247",
   "metadata": {},
   "outputs": [],
   "source": [
    "try:\n",
    "    bölünen = int(input(\"bölünecek sayı: \"))\n",
    "    bölen = int(input(\"bölen sayı: \"))\n",
    "    print(bölünen/bölen)\n",
    "except ZeroDivisionError:\n",
    "    print(\"bir sayıyı 0'a bölemezsiniz\")\n",
    "    raise"
   ]
  },
  {
   "cell_type": "markdown",
   "id": "4ddc4bf7-b963-4a39-8fee-563c1bb27163",
   "metadata": {},
   "source": [
    "Burada, eğer kullanıcı bir sayıyı 0’a bölmeye çalışırsa, normal bir şekilde ZeroDivisionError hatası verilecek ve programdan çıkılacaktır. Ama bu hata mesajıyla birlikte kullanıcıya ‘bir sayıyı 0’a bölemezsiniz,’ uyarısını da gösterme imkanını elde edeceğiz. Yani burada except ZeroDivisionError bloğunu herhangi bir hatayı engellemek için değil, hataya ilave bilgi eklemek için kullanıyoruz. Bunu yapmamızı sağlayan şey tabii ki bu kodlar içinde görünen raise adlı deyimdir…"
   ]
  },
  {
   "cell_type": "markdown",
   "id": "117c1975-e118-47bd-8af0-e06c4b6ca533",
   "metadata": {},
   "source": [
    "++++++assert\n",
    "\n",
    "\n",
    "Bazen programımızda bir hata yaptığımızda bu hatayı bulmakta zorlanabiliriz. print fonksiyonunu kullanarak bu hatamızı bulmaya çalışabiliriz ancak bu da programımız ekrana çok fazla yazdırma işlemi yapıyorsa gözden kaçabilir. Böyle durumlarda assert ifadesini kullanabiliriz. assert ifadesi aynı zamanda hata yükseltmenin kısa bir yoludur. Ancak assert ifadesini kullanarak sadece AssertionError türünde bir hata yükseltebiliriz. Normalde raise kullanmamız daha doğru olacaktır. Dediğimiz gibi assert ifadesi hızlı bir şekilde kodumuzdaki hataları belirlemek için kullanılır. Şimdi şöyle bir kodumuz olduğunu düşünelim:"
   ]
  },
  {
   "cell_type": "code",
   "execution_count": null,
   "id": "d4ad18e2-4c08-4b49-bb5a-424f9dc8f0ad",
   "metadata": {},
   "outputs": [],
   "source": [
    "giriş = input(\"Merhaba! Adın ne? \")\n",
    "if len(giriş) == 0:\n",
    "    raise AssertionError(\"İsim bölümü boş.\")\n",
    "print(\"Hoşgeldiniz.\")"
   ]
  },
  {
   "cell_type": "markdown",
   "id": "a51323c3-49e0-44f5-9c2e-10990b985635",
   "metadata": {},
   "source": [
    "Bu kodu assert kullanarak şu şekilde de yazabilirdik:"
   ]
  },
  {
   "cell_type": "code",
   "execution_count": null,
   "id": "98eb4b30-3a64-48d8-a03f-d9521ab744ee",
   "metadata": {},
   "outputs": [],
   "source": [
    "giriş = input(\"Merhaba! Adın ne? \")\n",
    "assert len(giriş) != 0 , \"İsim bölümü boş.\"\n",
    "print(\"Hoşgeldiniz.\")"
   ]
  },
  {
   "cell_type": "markdown",
   "id": "8f126205-4461-4762-a827-abc7b64d94b5",
   "metadata": {},
   "source": [
    "Dikkat ederseniz assert ifadesinin şu şekilde kullanıldığını görebilirsiniz:"
   ]
  },
  {
   "cell_type": "code",
   "execution_count": null,
   "id": "24d36c4d-5c6c-4c52-8473-5de6f2aca888",
   "metadata": {},
   "outputs": [],
   "source": [
    "assert ifade , mesaj"
   ]
  },
  {
   "cell_type": "markdown",
   "id": "cd68c7be-1021-477a-9df6-880f5a36a4de",
   "metadata": {},
   "source": [
    "Burada ifade bir bool yani True veya False olabileceği gibi, (aynı if’deki gibi) bool fonksiyonu ile birlikte kullanılabilecek bir nesne de olabilir. Sonuç olarak eğer ifade’nin değeri True ise assert ifademiz çalışmayacak, False ise çalışacaktır. Yani assert ifademizin içine doğru olmasını istediğimiz durumu yazmalıyız ki eğer yanlış olursa hata yükseltsin. Zaten assert kelimesi “iddia etmek” anlamına gelir. Yani biz assert ifadesini kullanarak bir ifadenin doğru olduğunu iddia ediyoruz, bu iddiamız yanlış ise Python bir hata yükseltiyor. Ayrıca assert ifademiz çalıştığında bir hata yükseleceği için program da sonlanacaktır, yani bu özelliği istemediğimiz bir durum gerçekleştiğinde programı sonlandırmak için de kullanabiliriz. mesaj ise hata verildiğinde ekrana yazılmasını istediğimiz mesajdır. Tabii ki raise ifadesinde olduğu gibi burada da bir mesaj vermek zorunda değiliz. Yani assert ifadesini şu şekilde de kullanabiliriz:\n",
    "\n"
   ]
  },
  {
   "cell_type": "code",
   "execution_count": null,
   "id": "75e3dc85-e81b-4145-897c-f157421dbba9",
   "metadata": {},
   "outputs": [],
   "source": [
    "assert ifade"
   ]
  },
  {
   "cell_type": "markdown",
   "id": "6ee99e21-8f58-4d05-93f0-8e09994ab731",
   "metadata": {},
   "source": [
    "Şimdi baştaki örneğimize geri dönersek:"
   ]
  },
  {
   "cell_type": "code",
   "execution_count": null,
   "id": "4ed22679-cfd4-4e78-b8f0-3cce488ca70f",
   "metadata": {},
   "outputs": [],
   "source": [
    "giriş = input(\"Merhaba! Adın ne? \")\n",
    "assert len(giriş) != 0 , \"İsim bölümü boş.\"\n",
    "print(\"Hoşgeldiniz.\")"
   ]
  },
  {
   "cell_type": "markdown",
   "id": "a31b5928-ce8b-46a3-9232-67d64386a697",
   "metadata": {},
   "source": [
    "Bu kodumuzu çalıştırdığımızda:\n",
    "\n",
    "\n",
    "Merhaba! Adın ne? Ali\n",
    "Hoşgeldiniz.\n"
   ]
  },
  {
   "cell_type": "markdown",
   "id": "bf40ec0a-23d3-4301-a36f-e8173d90f8d9",
   "metadata": {},
   "source": [
    "giriş değişkenimizin uzunluğu 0 olmadığı için bir hata verilmedi. Şimdi aynı kodu çalıştırıp hiçbir şey yazmadan enter tuşuna basalım:\n",
    "\n"
   ]
  },
  {
   "cell_type": "code",
   "execution_count": null,
   "id": "eb11eea1-81bd-4574-80a1-a53da364f9c8",
   "metadata": {
    "jupyter": {
     "source_hidden": true
    }
   },
   "outputs": [],
   "source": [
    "code-block:: pycon"
   ]
  },
  {
   "cell_type": "code",
   "execution_count": null,
   "id": "bab8f798-a961-4081-abd4-5e9eea0bb5ab",
   "metadata": {},
   "outputs": [],
   "source": [
    "Merhaba! Adın ne?\n",
    "Traceback (most recent call last):\n",
    "  File \"C:\\Users\\Kullanıcı\\Desktop\\assert_ifadesi.py\", line 2, in <module>\n",
    "    assert len(giriş) != 0 , \"İsim bölümü boş.\"\n",
    "AssertionError: İsim bölümü boş."
   ]
  },
  {
   "cell_type": "markdown",
   "id": "3c8a305f-246c-458d-80bf-58154d33bac6",
   "metadata": {},
   "source": [
    "Gördüğünüz gibi assert ifadesini de bu şeklide kullanıyoruz. Burada bir şeye dikkat etmek lazım ki assert bir fonksiyon değildir, bu yüzden parantezler ile şu şekilde kullanılmamalıdır:"
   ]
  },
  {
   "cell_type": "code",
   "execution_count": null,
   "id": "9df6bda0-9283-4ae6-8f12-d46f8a682ee8",
   "metadata": {},
   "outputs": [],
   "source": [
    "assert(ifade)"
   ]
  },
  {
   "cell_type": "markdown",
   "id": "5611628c-378d-4843-b597-62ca5e547750",
   "metadata": {},
   "source": [
    "Bu kullanım hata vermeyecek olsa da farkında olmadan -ileride öğreneceğimiz bir konu- bir demet oluşturmuş oluyoruz.\n",
    "\n",
    "Son olarak büyük bir proje yazdığımızda, şu örnekteki gibi:"
   ]
  },
  {
   "cell_type": "code",
   "execution_count": null,
   "id": "80883ee1-a1d2-4793-89e6-389e5dcde399",
   "metadata": {},
   "outputs": [],
   "source": [
    "giriş = input(\"Merhaba! Adın ne? \")\n",
    "if len(giriş) == 0:\n",
    "    raise AssertionError(\"İsim bölümü boş.\")\n",
    "print(\"Hoşgeldiniz.\")"
   ]
  },
  {
   "cell_type": "markdown",
   "id": "cd9e34e1-f12b-49e5-9a01-3ab8053024e9",
   "metadata": {},
   "source": [
    "if ve raise ifadesi kullanmak yerine assert kullanmamızın iki avantajından bahsedelim. Öncelikle istediğiniz zaman geliştirme arayüzünüzün “Bul (Find)” özelliğini kullanarak bu anahtar kelimeleri bulup silebilir veya yorum satırı haline getirebilirsiniz. Bu özellik uzun bir kod yazdığımızda zaman kazanmamızı sağlar. İkinci olarak da python yorumlayıcısını komut satırından -O parametresi (optimize anlamına gelir) ile şu şekilde çağırdığımızda:"
   ]
  },
  {
   "cell_type": "code",
   "execution_count": null,
   "id": "4318b366-6cd6-4ebc-b584-393583d7621d",
   "metadata": {},
   "outputs": [],
   "source": [
    "C:\\Users\\User> python -O kod_dosyası\n"
   ]
  },
  {
   "cell_type": "markdown",
   "id": "104b9645-8123-4832-bb6e-a54b764c2158",
   "metadata": {},
   "source": [
    "kod_dosyası programımızdaki bütün assert ifadeleri python yorumlayıcısı tarafından yok sayılır ve hiçbiri çalıştırılmaz. Yani assert ifadelerinin hepsini yorum satırı haline getirmek istediğimizde bunun ile uğraşmak yerine bu özelliği kullanabiliriz."
   ]
  },
  {
   "cell_type": "markdown",
   "id": "ecb9087b-9f5d-4c03-a325-e9df6498a887",
   "metadata": {},
   "source": [
    "+++++Bütün Hataları Yakalamak\n",
    "\n",
    "\n",
    "Şimdiye kadar yaptığımız bütün örneklerde except... bloğunu bir hata mesajı adıyla birlikte kullandık. Yani örneklerimiz şuna benziyordu:"
   ]
  },
  {
   "cell_type": "code",
   "execution_count": null,
   "id": "b8c8469d-c8a6-458f-8ca1-dfa305789a21",
   "metadata": {},
   "outputs": [],
   "source": [
    "try:\n",
    "    ....birtakım işler...\n",
    "except ZeroDivisionError:\n",
    "    ...hata mesajı..."
   ]
  },
  {
   "cell_type": "markdown",
   "id": "3285817d-d5d1-47fb-b530-a3d212ef7d29",
   "metadata": {},
   "source": [
    "Yukarıdaki kod yardımıyla sadece ZeroDivisionError adlı hatayı yakalayabiliriz. Eğer yazdığımız program başka bir hata daha veriyorsa, o hata mesajı yukarıdaki blokların kapsamı dışında kalacaktır. Ama eğer istersek yukarıdaki kodu şu şekilde yazarak olası bütün hataları yakalayabiliriz:"
   ]
  },
  {
   "cell_type": "code",
   "execution_count": null,
   "id": "7d06ea5d-ddaa-4bf8-afc2-8dfff1c8d5d3",
   "metadata": {},
   "outputs": [],
   "source": [
    "try:\n",
    "    ....birtakım işler...\n",
    "except:\n",
    "    ...hata mesajı..."
   ]
  },
  {
   "cell_type": "markdown",
   "id": "1b18a07f-d209-46b2-9ae4-4f57becdb38e",
   "metadata": {},
   "source": [
    "Gördüğünüz gibi, burada herhangi bir hata adı belirtmedik. Böylece Python, yazdığımız programda hangi hata oluşursa oluşsun hepsini yakalayabilecektir.\n",
    "\n",
    "Bu yöntem gözünüze çok pratik görünmüş olabilir, ama aslında hiç de öyle sayılmaz. Hatta oldukça kötü bir yöntem olduğunu söyleyebiliriz bunun. Çünkü bu tarz bir kod yazımının bazı dezavantajları vardır. Örneğin bu şekilde bütün hata mesajlarını aynı kefeye koyarsak, programımızda ne tür bir hata oluşursa oluşsun, kullanıcıya hep aynı mesajı göstermek zorunda kalacağız. Bu da, herhangi bir hata durumunda kullanıcıyı ne yapması gerektiği konusunda doğru düzgün bilgilendiremeyeceğimiz anlamına geliyor. Yani kullanıcı bir hataya sebep olduğunda tersliğin nereden kaynaklandığını tam olarak kestiremeyecektir.\n",
    "\n",
    "Ayrıca, eğer kendimiz bir program geliştirirken sürekli olarak bu tarz bir yazımı benimsersek, kendi kodlarımızdaki hataları da maskelemiş oluruz. Dolayısıyla, Python yukarıdaki geniş kapsamlı except... bloğu nedeniyle programımızdaki bütün hataları gizleyeceği için, programımızdaki potansiyel aksaklıkları görme imkanımız olmaz. Dolayısıyla bu tür bir yapıdan olabildiğince kaçınmakta fayda var. Ancak elbette böyle bir kod yazmanızı gerektiren bir durumla da karşılaşabilirsiniz. Örneğin:\n",
    "\n"
   ]
  },
  {
   "cell_type": "code",
   "execution_count": null,
   "id": "1d77202d-1af5-4d78-91d6-f8ee5f3ba680",
   "metadata": {},
   "outputs": [],
   "source": [
    "try:\n",
    "    birtakım kodlar\n",
    "except ValueError:\n",
    "    print(\"Yanlış değer\")\n",
    "except ZeroDivisionError:\n",
    "    print(\"Sıfıra bölme hatası\")\n",
    "except:\n",
    "    print(\"Beklenmeyen bir hata oluştu!\")"
   ]
  },
  {
   "cell_type": "markdown",
   "id": "0adbd4f4-026b-4633-b0e9-2058410fead6",
   "metadata": {},
   "source": [
    "Burada olası bütün hata türlerini yakaladıktan sonra, bunların dışında bizim o anda öngöremediğimiz bir hatanın oluşması ihtimaline karşı except: kodunu kullanarak kullanıcıya genel bir hata mesajı göstermeyi tercih edebiliriz. Böylece beklenmeyen bir hata meydana gelmesi durumunda da programımız çökmek yerine çalışmaya devam edebilecektir."
   ]
  },
  {
   "cell_type": "markdown",
   "id": "f039ab4a-b9cd-4b01-a824-4900dc5d0fa0",
   "metadata": {},
   "source": [
    "++++++++++++Örnek Uygulama\n",
    "\n",
    "\n",
    "Hata yakalama konusunu bütün ayrıntılarıyla inceledik. Gelin şimdi isterseniz ufak bir örnek yapalım.\n",
    "\n",
    "Hatırlarsanız bir kaç bölüm önce şöyle bir uygulama yazmıştık:\n",
    "\n"
   ]
  },
  {
   "cell_type": "code",
   "execution_count": null,
   "id": "1c17f26f-222d-4d1d-8eca-9d905e1d84e9",
   "metadata": {},
   "outputs": [],
   "source": [
    "import sys\n",
    "\n",
    "_2x_metni = \"\"\"\n",
    "Python'ın 2.x sürümlerinden birini kullanıyorsunuz.\n",
    "Programı çalıştırabilmek için sisteminizde Python'ın\n",
    "3.x sürümlerinden biri kurulu olmalı.\"\"\"\n",
    "\n",
    "_3x_metni = \"Programa hoşgeldiniz.\"\n",
    "\n",
    "if sys.version_info.major < 3:\n",
    "    print(_2x_metni)\n",
    "else:\n",
    "    print(_3x_metni)"
   ]
  },
  {
   "cell_type": "markdown",
   "id": "6a80ddd9-6a4b-4e41-bbbf-682a9415fffd",
   "metadata": {},
   "source": [
    "Bu programın ne iş yaptığını biliyorsunuz. Bu program yardımıyla, kullanıcılarımızın bilgisayarlarındaki Python sürümünü kontrol edip, programımızın kullanılan sürüme göre tepki vermesini sağlıyoruz.\n",
    "\n",
    "Ancak burada çok ciddi bir problem var. Python’ın 2.7 öncesi sürümlerinde sys modülünün version_info() metodu farklı çıktılar verir. Mesela Python’ın 2.7 öncesi sürümlerinde version_info() metodunun major, minor veya micro gibi nitelikleri bulunmaz. Bu nitelikler Python programlama diline 2.7 sürümüyle birlikte geldi. Dolayısıyla yukarıdaki programı Python’ın 2.7 öncesi sürümlerinden biriyle çalıştıran kullanıcılarınız istediğiniz çıktıyı alamayacak, Python bu kullanıcalara şuna benzer bir hata mesajı göstererek programın çökmesine sebep olacaktır:"
   ]
  },
  {
   "cell_type": "code",
   "execution_count": null,
   "id": "f9468f92-1291-438f-b98f-d438fab659d0",
   "metadata": {},
   "outputs": [],
   "source": [
    "AttributeError: 'tuple' object has no attribute 'major'"
   ]
  },
  {
   "cell_type": "markdown",
   "id": "2f0d1298-af16-4dbf-af3f-be87eb129efc",
   "metadata": {},
   "source": [
    "Python’ın 2.7 öncesi sürümlerinin kurulu olduğu bilgisayarlarda da programınızın en azından çökmemesi ve makul bir çıktı verebilmesi için yukarıdaki kodlar şöyle yazabilirsiniz:\n",
    "\n"
   ]
  },
  {
   "cell_type": "code",
   "execution_count": null,
   "id": "cb4d2886-2f2e-4ec5-bb44-599fd89980fc",
   "metadata": {},
   "outputs": [],
   "source": [
    "import sys\n",
    "\n",
    "_2x_metni = \"\"\"\n",
    "Python'ın 2.x sürümlerinden birini kullanıyorsunuz.\n",
    "Programı çalıştırabilmek için sisteminizde Python'ın\n",
    "3.x sürümlerinden biri kurulu olmalı.\"\"\"\n",
    "\n",
    "_3x_metni = \"Programa hoşgeldiniz.\"\n",
    "\n",
    "try:\n",
    "    if sys.version_info.major < 3:\n",
    "        print(_2x_metni)\n",
    "    else:\n",
    "        print(_3x_metni)\n",
    "except AttributeError:\n",
    "    print(_2x_metni)"
   ]
  },
  {
   "cell_type": "markdown",
   "id": "6c43c5c6-0d8f-4b59-bc3c-02cf055883e1",
   "metadata": {},
   "source": [
    "Gördüğünüz gibi, AttributeError adlı hatayı vereceğini bildiğimiz kısmı bir try... except bloğu içine aldık. Eğer programımız AttributeError hatasını veriyorsa, programımızın çalıştırıldığı sistem Python’ın 2.7 sürümünden daha düşük bir sürümü kullanıyor demektir. O yüzden kullanıcıya _2x_metni’ni gösteriyoruz.\n",
    "\n",
    "Elbette yukarıdaki programı yazmanın çok daha düzgün yolları vardır. Ama biz hata yakalama yöntemlerinin buna benzer durumlarda da bir alternatif olarak kullanılabileceğini bilelim. Ayrıca, dediğimiz gibi, try... except blokları yukarıdaki sorunun çözümü için en uygun araçlar olmasa da, bazı durumlarda hatayı önlemenin makul tek yoludur."
   ]
  },
  {
   "cell_type": "code",
   "execution_count": null,
   "id": "8d4efe5c-d98d-40dd-b3fa-2968bf074dbb",
   "metadata": {},
   "outputs": [],
   "source": []
  }
 ],
 "metadata": {
  "kernelspec": {
   "display_name": "Python 3 (ipykernel)",
   "language": "python",
   "name": "python3"
  },
  "language_info": {
   "codemirror_mode": {
    "name": "ipython",
    "version": 3
   },
   "file_extension": ".py",
   "mimetype": "text/x-python",
   "name": "python",
   "nbconvert_exporter": "python",
   "pygments_lexer": "ipython3",
   "version": "3.10.12"
  }
 },
 "nbformat": 4,
 "nbformat_minor": 5
}
