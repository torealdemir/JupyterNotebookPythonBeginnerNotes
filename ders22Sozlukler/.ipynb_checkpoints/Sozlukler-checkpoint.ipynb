{
 "cells": [
  {
   "cell_type": "markdown",
   "id": "90debd1c-ca55-4f57-8ca9-871d292fd889",
   "metadata": {},
   "source": [
    "+++++++Sözlükler\n",
    "\n",
    "\n",
    "Şu ana kadar Python programlama dilinde veri tipi olarak karakter dizilerini, sayıları, listeleri, demetleri ve dosyaları öğrendik. Yeni veri tipleri öğrendikçe Python’daki hareket alanımızın da genişlediğini siz de farketmişsinizdir. Bu bölümde yine Python’daki önemli veri tiplerinden birini inceleyeceğiz. Bu defa inceleyeceğimiz veri tipinin adı sözlük. İngilizcede buna dictionary diyorlar.\n",
    "\n",
    "Sözlükler de, tıpkı daha önceki derslerimizde öğrendiğimiz karakter dizileri, sayılar, listeler, demetler ve dosyalar gibi programlama maceramız boyunca işlerimizi bir hayli kolaylaştıracak ve hareket imkanımızı genişletecek veri tiplerinden biridir.\n",
    "\n",
    "Öteki veri tiplerinde olduğu gibi, sözlüklerin de birtakım metotları vardır. İşte bu bölümde hem genel olarak sözlüklerden söz edeceğiz, hem de bu veri tipinin metotlarını en ince ayrıntısına kadar inceleyeceğiz.\n",
    "\n",
    "Sözlük denen veri tipi Python programlama dilinin son derece kullanışlı ve işe yarar araçlarından bir tanesidir. Programlama alanında ilerledikçe, bu veri tipinin neler yapabileceğini görüp şaşıracağınızı rahatlıkla söyleyebilirim.\n",
    "\n",
    "Esasında biz daha önceki derslerimizin birinde sözlük adlı bu veri tipinden üstünkörü de olsa söz etmiştik. Yani aslında bu veri tipiyle tanışıklığımız eskiye dayanıyor.\n",
    "\n",
    "Hatırlayacaksınız, karakter dizilerinin str.maketrans() ve translate() adlı metotlarını anlatırken, Türkçeye özgü karakterleri ve bunların noktasız karşılıklarını içeren çeviri_tablosu adını verdiğimiz şöyle bir değişken tanımlamıştık:\n",
    "\n"
   ]
  },
  {
   "cell_type": "raw",
   "id": "d5c84003-8d74-4a9a-8ab2-54d78d96c080",
   "metadata": {},
   "source": [
    "çeviri_tablosu = {\"Ö\": \"O\",\n",
    "                  \"ç\": \"c\",\n",
    "                  \"Ü\": \"U\",\n",
    "                  \"Ç\": \"C\",\n",
    "                  \"İ\": \"I\",\n",
    "                  \"ı\": \"i\",\n",
    "                  \"Ğ\": \"G\",\n",
    "                  \"ö\": \"o\",\n",
    "                  \"ş\": \"s\",\n",
    "                  \"ü\": \"u\",\n",
    "                  \"Ş\": \"S\",\n",
    "                  \"ğ\": \"g\"}"
   ]
  },
  {
   "cell_type": "markdown",
   "id": "1d8ddeaa-79b7-4819-9db7-ca8a9d482aca",
   "metadata": {},
   "source": [
    "Burada çeviri_tablosu değişkeni içinde gösterdiğimiz biçimin Python’daki adının ‘sözlük’ olduğunu da ifade etmiştik. İşte bu bölümde, orada şöyle bir değinip geçtiğimiz bu veri tipini çok daha ayrıntılı bir şekilde ele alma imkanımız olacak.\n",
    "\n",
    "Hem eski bilgilerimize dayanarak, hem de yukarıda anlattıklarımızdan yola çıkarak sözlük veri tipinin ne olduğuna dair halihazırda kafamızda bir fikir oluşmuş olduğunu söyleyebiliriz.\n",
    "\n",
    "Sözlükler öteki veri tiplerine kıyasla biraz farklı bir görünüşe sahip bir veri tipidir. Biz birazdan sözlüklerin yapısını derinlemesine inceleyeceğiz.\n",
    "\n",
    "Ancak sözlüklerin yapısını incelemeye geçmeden önce öğrenmemiz gereken bir şey var. Tıpkı öteki veri tiplerinde olduğu gibi, sözlüklerle de çalışabilmek için öncelikle bu veri tipini tanımlamış olmamız gerekiyor. O yüzden isterseniz sözlüklerin yapısından söz etmeden önce bir sözlüğü nasıl tanımlayacağımızdan bahsedelim.\n",
    "\n",
    "+++++++Sözlük Tanımlamak\n",
    "\n",
    "\n",
    "Dediğimiz gibi, karakter dizilerini anlatırken verdiğimiz sözlük örneği sayesinde sözlüklerin neye benzediğini az çok biliyoruz. Gelin isterseniz sözlüklerin nasıl tanımlandığını inceleyerek bu veri tipinin derinliklerine doğru ilk kulaçlarımızı atalım.\n",
    "\n",
    "Python programlama dilindeki sözlük veri tipi, gerçek hayatta ‘sözlük’ denince aklınıza gelen şeye çok benzer. Mesela gerçek hayatta ‘kitap’ kelimesinin İngilizce bir sözlükteki karşılığı book kelimesidir. Dolayısıyla ‘kitap’ ve ‘book’ kelimeleri arasındaki ilişkiyi herhalde şu şekilde temsil edebiliriz:\n",
    "\n",
    "kitap: book\n",
    "\n",
    "Bu manzara bize ‘kitap’ kelimesinin karşılığının ‘book’ olduğunu açık bir şekilde gösteriyor. Eğer bu durumu Python’daki sözlük veri tipiyle göstermek isteseydik şöyle bir şey yazacaktık:\n",
    "\n"
   ]
  },
  {
   "cell_type": "code",
   "execution_count": 1,
   "id": "1a628ab2-7adf-4092-a072-33aa6efc9602",
   "metadata": {},
   "outputs": [],
   "source": [
    "kelimeler = {\"kitap\": \"book\"}"
   ]
  },
  {
   "cell_type": "markdown",
   "id": "68d5c945-2439-40da-a1d7-c4ebaa638dbd",
   "metadata": {},
   "source": [
    "Burada, içeriği sözlük veri tipi olan kelimeler adlı bir değişken tanımladık. Gördüğünüz gibi, listelere benzer bir şekilde sözlük veri tipi de içinde farklı veri tiplerini barındıran, ‘kapsayıcı’ bir veri tipidir. Burada sözlüğümüz iki adet karakter dizisinden oluşuyor.\n",
    "\n",
    "Yukarıdaki sözlüğü nasıl tanımladığımıza çok dikkat edin. Nasıl ki listelerin ayırt edici özelliği köşeli parantezlerdi, sözlüklerin ayırt edici özelliği de küme parantezleridir.\n",
    "\n",
    "Esasında sözlük dediğimiz şey en basit haliyle şöyle görünür:"
   ]
  },
  {
   "cell_type": "code",
   "execution_count": 2,
   "id": "d3bcff6c-810c-4495-bd86-96ce34a3c030",
   "metadata": {},
   "outputs": [],
   "source": [
    "sözlük = {}"
   ]
  },
  {
   "cell_type": "markdown",
   "id": "26c75a4e-fca9-444b-91ee-0eebe996c236",
   "metadata": {},
   "source": [
    "Bu örnek boş bir sözlüktür. İsterseniz yukarıdaki veri tipinin gerçekten de bir sözlük olduğunu kanıtlayalım:\n",
    "\n"
   ]
  },
  {
   "cell_type": "code",
   "execution_count": 3,
   "id": "0e6cb154-cdc1-4a8f-bf0e-9cc7cae6809a",
   "metadata": {},
   "outputs": [
    {
     "data": {
      "text/plain": [
       "dict"
      ]
     },
     "execution_count": 3,
     "metadata": {},
     "output_type": "execute_result"
    }
   ],
   "source": [
    "type(sözlük)"
   ]
  },
  {
   "cell_type": "markdown",
   "id": "bcad7093-f0f0-4932-a801-242c516eab04",
   "metadata": {},
   "source": [
    "Sözlüklerin Python programlama dilindeki teknik karşılığı dict ifadesidir. type(sözlük) sorgusu <class 'dict'> çıktısı verdiğine göre, sözlük adlı değişkenin gerçekten de bir sözlük olduğunu söyleyebiliyoruz.\n",
    "\n",
    "Yukarıda şöyle bir sözlük örneği verdiğimizi hatırlıyorsunuz:\n",
    "\n"
   ]
  },
  {
   "cell_type": "code",
   "execution_count": 4,
   "id": "95ac3bf2-4ad0-46b5-bee6-a5c45963df8e",
   "metadata": {},
   "outputs": [],
   "source": [
    "kelimeler = {\"kitap\": \"book\"}\n"
   ]
  },
  {
   "cell_type": "markdown",
   "id": "55a37c54-60d7-4f51-b672-f69fd9eebd62",
   "metadata": {},
   "source": [
    "\n",
    "Python programlama diline özellikle yeni başlayanlar, sözlüklerin görünüşü nedeniyle bir sözlükteki öğe sayısı konusunda tereddüte kapılabilir, örneğin yukarıdaki sözlüğün 2 öğeden oluştuğu yanılgısına düşebilir. O halde bu noktada size şöyle bir soru sormama izin verin: Acaba bu sözlükte kaç öğe var? Hemen bakalım:"
   ]
  },
  {
   "cell_type": "code",
   "execution_count": 5,
   "id": "46734dc4-390f-4d57-82d9-6fdc7948dd7d",
   "metadata": {},
   "outputs": [
    {
     "data": {
      "text/plain": [
       "1"
      ]
     },
     "execution_count": 5,
     "metadata": {},
     "output_type": "execute_result"
    }
   ],
   "source": [
    "len(kelimeler)"
   ]
  },
  {
   "cell_type": "markdown",
   "id": "1fc00fed-ab4d-44c6-801e-a1c98bfa9272",
   "metadata": {},
   "source": [
    "Demek ki elimizdeki veri tipi bir adet öğeye sahip bir sözlükmüş. Gördüğünüz gibi, \"kitap\": \"book\" ifadesi tek başına bir öğe durumundadır. Yani burada “kitap” karakter dizisini ayrı, “book” karakter dizisini ayrı bir öğe olarak almıyoruz. Bu ikisi tek bir sözlük öğesi oluşturuyor. Hatırlarsanız, listelerde öğeleri birbirinden ayırmak için virgül işaretlerinden yararlanıyorduk. Sözlüklerde de birden fazla öğeyi birbirinden ayırmak için virgül işaretlerinden yararlanacağız:\n",
    "\n"
   ]
  },
  {
   "cell_type": "code",
   "execution_count": 6,
   "id": "268a5b05-aca3-41de-b796-28ef287b852d",
   "metadata": {},
   "outputs": [],
   "source": [
    "kelimeler = {\"kitap\": \"book\", \"bilgisayar\": \"computer\"}"
   ]
  },
  {
   "cell_type": "markdown",
   "id": "4f53d91b-5fd5-497d-9f63-c3e713baaa5b",
   "metadata": {},
   "source": [
    "Bir önceki örnek tek öğeliydi. Bu sözlük ise 2 öğeye sahiptir:"
   ]
  },
  {
   "cell_type": "code",
   "execution_count": 7,
   "id": "1785c746-e539-4336-98b6-cb0c0c205e4e",
   "metadata": {},
   "outputs": [
    {
     "data": {
      "text/plain": [
       "2"
      ]
     },
     "execution_count": 7,
     "metadata": {},
     "output_type": "execute_result"
    }
   ],
   "source": [
    "len(kelimeler)\n"
   ]
  },
  {
   "cell_type": "markdown",
   "id": "e0d50fa8-3384-4a56-82e2-18e626a1ac7a",
   "metadata": {},
   "source": [
    "İlk derslerimizden bu yana sürekli olarak vurguladığımız gibi, Python programlama dilinde doğru kod yazmak kadar okunaklı kod yazmak da çok önemlidir. Mesela bir sözlüğü şöyle tanımladığımızda kodlarımızın pek okunaklı olmayacağını söyleyebiliriz:\n",
    "\n"
   ]
  },
  {
   "cell_type": "code",
   "execution_count": 8,
   "id": "171bc876-1851-4957-9cf4-1771f4aa3e39",
   "metadata": {},
   "outputs": [],
   "source": [
    "sözlük = {\"kitap\": \"book\", \"bilgisayar\": \"computer\", \"programlama\": \"programming\",\n",
    "\"dil\": \"language\", \"defter\": \"notebook\"}"
   ]
  },
  {
   "cell_type": "markdown",
   "id": "6a91474e-6a08-40c8-8003-c0d397f4ebc1",
   "metadata": {},
   "source": [
    "Teknik olarak baktığımızda bu kodlarda hiçbir problem yok. Ancak sözlükleri böyle sağa doğru uzayacak şekilde tanımladığımızda okunaklılığı azaltmış oluyoruz. Bu yüzden yukarıdaki sözlüğü şöyle yazmayı tercih edebiliriz:\n",
    "\n"
   ]
  },
  {
   "cell_type": "code",
   "execution_count": 9,
   "id": "fe1595a4-d830-4060-8400-d381ffb7458f",
   "metadata": {},
   "outputs": [],
   "source": [
    "sözlük = {\"kitap\"      : \"book\",\n",
    "          \"bilgisayar\" : \"computer\",\n",
    "          \"programlama\": \"programming\",\n",
    "          \"dil\"        : \"language\",\n",
    "          \"defter\"     : \"notebook\"}"
   ]
  },
  {
   "cell_type": "markdown",
   "id": "3a4da251-6a5d-4d61-8da4-5e20da843dbc",
   "metadata": {},
   "source": [
    "Bu şekilde sözlükteki öğeler arasındaki ilişki daha belirgin, yazdığınız kodlar da daha okunaklı bir hale gelecektir.\n",
    "\n",
    "Python’da bir sözlük oluşturmanın başka yolları da olmakla birlikte, en temel sözlük oluşturma yöntemi yukarıdaki örneklerde gösterdiğimiz gibidir. Biz ilerleyen sayfalarda sözlük oluşturmanın farklı yöntemlerini de ele alacağız. Ancak şimdilik ‘sözlük tanımlama’ konusunu burada noktalayıp sözlüklerle ilgili önemli bir konuya daha değinelim.\n",
    "\n",
    "++++++++++++Sözlük Öğelerine Erişmek\n",
    "\n",
    "\n",
    "Yukarıdaki örneklerden bir sözlüğün en basit şekilde nasıl tanımlanacağını öğrendik. Peki tanımladığımız bir sözlüğün öğelerine nasıl erişeceğiz?\n",
    "\n",
    "Hemen basit bir örnek verelim. Daha önce tanımladığımız şu sözlüğe bir bakalım mesela:\n",
    "\n"
   ]
  },
  {
   "cell_type": "code",
   "execution_count": 10,
   "id": "a1e9e974-10d9-44ea-8a47-733adc019190",
   "metadata": {},
   "outputs": [],
   "source": [
    "sözlük = {\"kitap\"      : \"book\",\n",
    "          \"bilgisayar\" : \"computer\",\n",
    "          \"programlama\": \"programming\",\n",
    "          \"dil\"        : \"language\",\n",
    "          \"defter\"     : \"notebook\"}"
   ]
  },
  {
   "cell_type": "markdown",
   "id": "49fef13b-0c05-455e-a4fa-2e8758306852",
   "metadata": {},
   "source": [
    "Bu sözlükte birtakım Türkçe kelimeler ve bunların İngilizce karşılıkları var. Şimdi mesela bu sözlükteki ‘kitap’ adlı öğeye erişelim:"
   ]
  },
  {
   "cell_type": "code",
   "execution_count": 11,
   "id": "cb3c8ee2-a2fc-4d80-a610-b4d2a5518552",
   "metadata": {},
   "outputs": [
    {
     "name": "stdout",
     "output_type": "stream",
     "text": [
      "book\n"
     ]
    }
   ],
   "source": [
    "print(sözlük[\"kitap\"])"
   ]
  },
  {
   "cell_type": "markdown",
   "id": "f1b8007e-d07c-44a5-972c-55e8cdb91077",
   "metadata": {},
   "source": [
    "Yukarıdaki örnekten anladığımız gibi, sözlük öğelerine erişmek için şöyle bir formül kullanıyoruz:\n",
    "\n",
    "sözlük[sözlük_öğesinin_adı]\n",
    "\n",
    "Aynı şekilde sözlük değişkeni içindeki ‘bilgisayar’ öğesinin karşılığını almak istersek şöyle bir kod yazıyoruz:\n",
    "\n"
   ]
  },
  {
   "cell_type": "code",
   "execution_count": 12,
   "id": "5f9e0bb5-540d-4a02-a22d-b039133f8558",
   "metadata": {},
   "outputs": [
    {
     "name": "stdout",
     "output_type": "stream",
     "text": [
      "computer\n"
     ]
    }
   ],
   "source": [
    "print(sözlük[\"bilgisayar\"])"
   ]
  },
  {
   "cell_type": "markdown",
   "id": "aac0924a-5422-46ad-baf4-0652bb142b73",
   "metadata": {},
   "source": [
    "Bu da bize “computer” çıktısını veriyor.\n",
    "\n",
    "Karakter dizilerini anlatırken verdiğimiz çeviri_tablosu adlı sözlüğe ve orada anlattıklarımıza geri dönelim şimdi. Artık sözlük adlı veri tipiyle iyiden iyiye tanıştığımıza göre, orada anlattıklarımız zihninizde daha net bir hale gelmiş olmalı.\n",
    "\n",
    "Oradaki tablomuz şöyleydi:"
   ]
  },
  {
   "cell_type": "code",
   "execution_count": 14,
   "id": "49b5f0fa-6824-4ef9-a92c-977b5d6ea4d6",
   "metadata": {},
   "outputs": [],
   "source": [
    "çeviri_tablosu = {\"Ö\": \"O\",\n",
    "                  \"ç\": \"c\",\n",
    "                  \"Ü\": \"U\",\n",
    "                  \"Ç\": \"C\",\n",
    "                  \"İ\": \"I\",\n",
    "                  \"ı\": \"i\",\n",
    "                  \"Ğ\": \"G\",\n",
    "                  \"ö\": \"o\",\n",
    "                  \"ş\": \"s\",\n",
    "                  \"ü\": \"u\",\n",
    "                  \"Ş\": \"S\",\n",
    "                  \"ğ\": \"g\"}"
   ]
  },
  {
   "cell_type": "markdown",
   "id": "1392f9e8-5987-46a9-bfcb-15d0b3028867",
   "metadata": {},
   "source": [
    "Mesela bu sözlükteki “Ö” öğesinin karşılığını elde etmek için şöyle bir kod yazdığımızı gayet iyi hatırlıyorsunuz:"
   ]
  },
  {
   "cell_type": "code",
   "execution_count": 15,
   "id": "40a8a52e-a288-4728-8021-ddfd0c8b6601",
   "metadata": {},
   "outputs": [
    {
     "name": "stdout",
     "output_type": "stream",
     "text": [
      "O\n"
     ]
    }
   ],
   "source": [
    "print(çeviri_tablosu[\"Ö\"])"
   ]
  },
  {
   "cell_type": "markdown",
   "id": "513aac52-8dad-4d9c-85c9-c3232e66a7c6",
   "metadata": {},
   "source": [
    "Gördüğünüz gibi sözlükteki “Ö” adlı öğeyi parantez içinde belirttiğimiz zaman, Python bize bu öğenin karşısındaki değeri veriyor. Dolayısıyla sözlük içinde “Ö” öğesinin karşılığı “O” harfi olduğu için de çıktımız “O” oldu.\n",
    "\n",
    "Sözlüğün öteki öğelerini ise şu şekilde alabiliyoruz:"
   ]
  },
  {
   "cell_type": "code",
   "execution_count": 16,
   "id": "5bab484b-737d-4484-9281-0218d5ac6658",
   "metadata": {},
   "outputs": [
    {
     "name": "stdout",
     "output_type": "stream",
     "text": [
      "O\n",
      "c\n",
      "U\n",
      "C\n",
      "I\n",
      "i\n",
      "G\n",
      "o\n",
      "S\n",
      "g\n"
     ]
    }
   ],
   "source": [
    "print(çeviri_tablosu[\"Ö\"])\n",
    "print(çeviri_tablosu[\"ç\"])\n",
    "print(çeviri_tablosu[\"Ü\"])\n",
    "print(çeviri_tablosu[\"Ç\"])\n",
    "print(çeviri_tablosu[\"İ\"])\n",
    "print(çeviri_tablosu[\"ı\"])\n",
    "print(çeviri_tablosu[\"Ğ\"])\n",
    "print(çeviri_tablosu[\"ö\"])\n",
    "print(çeviri_tablosu[\"Ş\"])\n",
    "print(çeviri_tablosu[\"ğ\"])"
   ]
  },
  {
   "cell_type": "markdown",
   "id": "8e6bb148-b3a1-41e7-8777-0909f63dc54c",
   "metadata": {},
   "source": [
    "Ancak kod tekrarından kaçınmak için yukarıdaki kodları şu şekilde sadeleştirme imkanımızın da olduğunu biliyorsunuz:"
   ]
  },
  {
   "cell_type": "code",
   "execution_count": 17,
   "id": "bfd58a8d-d2d8-47f2-9bc3-32cff204c8c7",
   "metadata": {},
   "outputs": [
    {
     "name": "stdout",
     "output_type": "stream",
     "text": [
      "O\n",
      "c\n",
      "U\n",
      "C\n",
      "I\n",
      "i\n",
      "G\n",
      "o\n",
      "s\n",
      "u\n",
      "S\n",
      "g\n"
     ]
    }
   ],
   "source": [
    "for i in çeviri_tablosu:\n",
    "    print(çeviri_tablosu[i])"
   ]
  },
  {
   "cell_type": "markdown",
   "id": "4aca81ec-c650-493f-afc9-b3c0a6e3a9ff",
   "metadata": {},
   "source": [
    "Gördüğünüz gibi, sözlük içinde iki nokta üst üste işaretinin sol tarafında görünen öğeleri köşeli parantez içinde yazarak, iki nokta üst üste işaretinin sağ tarafındaki değerleri elde edebiliyoruz.\n",
    "\n",
    "Eğer bir sözlük içinde bulunmayan bir öğeye erişmeye çalışırsak Python bize KeyError tipinde bir hata mesajı verecektir. Mesela yukarıdaki sözlüğü temel alacak olursak şöyle bir sorgu hata verecektir:\n",
    "\n"
   ]
  },
  {
   "cell_type": "code",
   "execution_count": 18,
   "id": "3b8576de-87b9-4f3e-bbfa-a60442cac1d1",
   "metadata": {},
   "outputs": [
    {
     "ename": "KeyError",
     "evalue": "'Z'",
     "output_type": "error",
     "traceback": [
      "\u001b[0;31m---------------------------------------------------------------------------\u001b[0m",
      "\u001b[0;31mKeyError\u001b[0m                                  Traceback (most recent call last)",
      "Cell \u001b[0;32mIn[18], line 1\u001b[0m\n\u001b[0;32m----> 1\u001b[0m \u001b[38;5;28mprint\u001b[39m(\u001b[43mçeviri_tablosu\u001b[49m\u001b[43m[\u001b[49m\u001b[38;5;124;43m\"\u001b[39;49m\u001b[38;5;124;43mZ\u001b[39;49m\u001b[38;5;124;43m\"\u001b[39;49m\u001b[43m]\u001b[49m)\n",
      "\u001b[0;31mKeyError\u001b[0m: 'Z'"
     ]
    }
   ],
   "source": [
    "print(çeviri_tablosu[\"Z\"])\n"
   ]
  },
  {
   "cell_type": "markdown",
   "id": "908053e3-d602-4555-b46c-ee3d7d6fdbd1",
   "metadata": {},
   "source": [
    "Sözlükte “Z” kaydı bulunmadığı için doğal olarak Python’ın bize bir hata mesajı göstermekten başka çaresi kalmıyor.\n",
    "\n",
    "Sözlükler ile ilgili epey bilgi edindik. Dilerseniz bu öğrendiklerimizi örnek bir uygulama üzerinde somutlaştırmaya çalışalım. Mesela Python’daki sözlükleri kullanarak basit bir telefon defteri uygulaması yazalım:"
   ]
  },
  {
   "cell_type": "code",
   "execution_count": 19,
   "id": "08474a3a-2eaa-48ed-8cc1-a5320443b8b8",
   "metadata": {},
   "outputs": [
    {
     "name": "stdin",
     "output_type": "stream",
     "text": [
      "Telefon numarasını öğrenmek için bir kişi adı girin:  seda naz\n"
     ]
    },
    {
     "name": "stdout",
     "output_type": "stream",
     "text": [
      "seda naz adlı kişinin telefon numarası: 0533 533 33 33\n"
     ]
    }
   ],
   "source": [
    "telefon_defteri = {\"ahmet öz\" : \"0532 532 32 32\",\n",
    "                   \"mehmet su\": \"0543 543 42 42\",\n",
    "                   \"seda naz\" : \"0533 533 33 33\",\n",
    "                   \"eda ala\"  : \"0212 212 12 12\"}\n",
    "\n",
    "kişi = input(\"Telefon numarasını öğrenmek için bir kişi adı girin: \")\n",
    "\n",
    "cevap = \"{} adlı kişinin telefon numarası: {}\"\n",
    "\n",
    "print(cevap.format(kişi, telefon_defteri[kişi]))\n"
   ]
  },
  {
   "cell_type": "markdown",
   "id": "3b5bd841-1685-43f9-84a2-803d8a35efcd",
   "metadata": {},
   "source": [
    "Burada öncelikle isimler ve telefon numaralarından oluşan, sözlük veri tipinde bir telefon defteri oluşturduk:\n",
    "\n"
   ]
  },
  {
   "cell_type": "raw",
   "id": "0da12bb3-beb7-4b7a-b835-5326f0fd928d",
   "metadata": {},
   "source": [
    "telefon_defteri = {\"ahmet öz\" : \"0532 532 32 32\",\n",
    "                   \"mehmet su\": \"0543 543 42 42\",\n",
    "                   \"seda naz\" : \"0533 533 33 33\",\n",
    "                   \"eda ala\"  : \"0212 212 12 12\"}"
   ]
  },
  {
   "cell_type": "markdown",
   "id": "84af8f86-8048-4163-a3e4-f73b2dc34271",
   "metadata": {},
   "source": [
    "Bu kodlarda bilmediğimiz hiçbir şey yok. Sözlüklere dair öğrendiklerimizi kullanarak oluşturduğumuz oldukça basit bir sözlüktür bu.\n",
    "\n",
    "Daha sonra kullanıcıdan, telefon numarasını öğrenmek için bir kişi adı girmesini istiyoruz. Bunu da şu kodlar yardımıyla yapıyoruz:"
   ]
  },
  {
   "cell_type": "raw",
   "id": "064af34b-17f1-4f52-a034-88b5d5b9ee72",
   "metadata": {},
   "source": [
    "kişi = input(\"Telefon numarasını öğrenmek için bir kişi adı girin: \")"
   ]
  },
  {
   "cell_type": "markdown",
   "id": "d9e08e73-b57c-4f58-a60d-ef4acd13bb08",
   "metadata": {},
   "source": [
    "Ardından da telefon defterinde sorgulama yapacak olan kullanıcıya göstereceğimiz cevap için bir şablon oluşturuyoruz:"
   ]
  },
  {
   "cell_type": "raw",
   "id": "879de55a-546a-4901-a149-21e12920b838",
   "metadata": {},
   "source": [
    "cevap = \"{} adlı kişinin telefon numarası: {}\"\n"
   ]
  },
  {
   "cell_type": "markdown",
   "id": "a3b37c82-531e-49ae-954a-3e3365db15e1",
   "metadata": {},
   "source": [
    "Mesela kullanıcı “ahmet öz” ismini sorgulamışsa ona şöyle bir cevap vereceğiz:\n",
    "\n"
   ]
  },
  {
   "cell_type": "raw",
   "id": "29a64ca7-7a88-4e47-96f7-f7e9bee1618d",
   "metadata": {},
   "source": [
    "\"ahmet öz adlı kişinin telefon numarası 0532 532 32 32\""
   ]
  },
  {
   "cell_type": "markdown",
   "id": "b5929822-8511-4dd3-a97f-b2c8844e0da1",
   "metadata": {},
   "source": [
    "Eğer aranan isim telefon defterinde varsa, bir önceki adımda tanımladığımız cevap şablonuna göre kullanıcıyı bilgilendiriyoruz. Ama eğer isim defterde yoksa, programımız hata veriyor. Bunu önlemek için şöyle bir kod yazabilirsiniz:\n",
    "\n"
   ]
  },
  {
   "cell_type": "code",
   "execution_count": null,
   "id": "8c8e6c4f-2f05-451b-b953-030d97937ced",
   "metadata": {},
   "outputs": [],
   "source": [
    "telefon_defteri = {\"ahmet öz\" : \"0532 532 32 32\",\n",
    "                   \"mehmet su\": \"0543 543 42 42\",\n",
    "                   \"seda naz\" : \"0533 533 33 33\",\n",
    "                   \"eda ala\"  : \"0212 212 12 12\"}\n",
    "\n",
    "kişi = input(\"Telefon numarasını öğrenmek için bir kişi adı girin: \")\n",
    "\n",
    "if kişi in telefon_defteri:\n",
    "    cevap = \"{} adlı kişinin telefon numarası: {}\"\n",
    "    print(cevap.format(kişi, telefon_defteri[kişi]))\n",
    "else:\n",
    "    print(\"Aradığınız kişi telefon rehberinde yok!\")"
   ]
  },
  {
   "cell_type": "markdown",
   "id": "ff6cf0a1-6d77-463a-a170-7d52298f4b00",
   "metadata": {},
   "source": [
    "Gördüğünüz gibi, if kişi in telefon_defteri satırı yardımıyla öncelikle aranan ismin sözlükte olup olmadığını denetledik. Eğer aranan isim sözlükte yer alıyorsa bu telefon numarasını kullanıcılarımıza gösteriyoruz. Aksi durumda aranan kişinin telefon rehberinde olmadığı konusunda kullanıcılarımızı bilgilendiriyoruz.\n",
    "\n",
    "Gördüğünüz gibi, sözlükler gerçekten de bize Python programlama maceramızda yepyeni olanakların kapısını açabilecek kadar güçlü bir veri tipi. Bu veri tipini programlarınızda bolca kullanacaksınız.\n",
    "\n",
    "Yukarıda verdiğimiz telefon defteri uygulamasına şöyle bir baktığınızda bu uygulamanın aslında geliştirilmeye bir hayli açık olduğu dikkatinizi çekmiştir. Mesela biz bu uygulamada sadece kendi tanımladığımız bir telefon defteri üzerinden sorgulama yapmaya izin verdik. Örneğin kullanıcı bu telefon defterine kendi isim-telefon çiftlerini giremiyor. Bu veri tipini etkili bir şekilde kullanmamızı sağlayacak araçlardan henüz yoksun olduğumuz için yukarıda tanımladığımız uygulama çok basit kaldı. O halde, sözlük veri tipini daha verimli ve etkili bir biçimde kullanabilmek için hiç vakit kaybetmeden bu veri tipinin derinliklerine doğru yol almaya devam edelim.\n",
    "\n",
    "++++++++++++Sözlüklerin Yapısı\n",
    "\n",
    "\n",
    "Yukarıdaki örneklerden, Python’da bir sözlüğün nasıl tanımlanacağını ve bir sözlüğün öğelerine nasıl erişileceğini öğrendik. Gelin isterseniz şimdi sözlük veri tipinin yapısına ilişkin bazı ayrıntıları inceleyelim.\n",
    "\n",
    "Mesela şu örneği tekrar önümüze alalım:\n",
    "\n",
    "sözlük = {\"kitap\": \"book\"}\n",
    "Burada iki nokta üst üste işaretinden önce ve sonra birer tane karakter dizisi görüyoruz. Bu karakter dizileri “kitap” ve “book”. Dediğimiz gibi, sözlükler de tıpkı listeler gibi, farklı veri tiplerinin bir araya gelmesi ile oluşan birleşik/kapsayıcı bir veri tipidir. Dolayısıyla bir sözlük içinde sadece karakter dizilerini değil, başka veri tiplerini de görebilirsiniz. İlerleyen sayfalarda sözlüklere ilişkin daha karmaşık örnekler verdiğimizde sözlüklerin hangi veri tiplerini içerebileceğini de göreceğiz.\n",
    "\n",
    "Ne dedik? Sözlük içinde iki nokta üst üste işaretinin solunda ve sağında “kitap” ve “book” adlı karakter dizileri var. Teknik olarak, iki nokta üst üste işaretinin solundaki karakter dizisine ‘anahtar’ (key), sağındaki karakter dizisine ise ‘değer’ (value) adı verilir. Bu bilgilere bakarak sözlük için şöyle bir tanım verebiliriz:\n",
    "\n",
    "Sözlükler; anahtar ve değer çiftlerinin birbirleriyle eşleştirildiği bir veri tipidir. Dolayısıyla sözlükler bu anahtar ve değer çiftleri arasında birebir ilişki kurar.\n",
    "\n",
    "Mesela yukarıdaki örnekte “kitap” öğesi anahtar, “book” öğesi ise değerdir. İşte sözlük dediğimiz şey, bu anahtar ve değer çifti arasında birebir ilişki kuran bir veri tipidir. Yani sözlük adlı veri tipi, bir anahtarı bir değerle eşleştirme görevi görür.\n",
    "\n",
    "Sözlüklerin bu özelliğini, sözlük öğelerine erişirken gayet net bir şekilde görebiliyoruz.\n",
    "\n",
    "Yukarıdaki örneklerde tanımladığımız sözlüklerde sadece karakter dizilerini kullandık. Ama aslında sözlükler farklı veri tiplerinden oluşabilir. Mesela:"
   ]
  },
  {
   "cell_type": "raw",
   "id": "cf9de035-7e6c-4f12-9f1c-deb0a9d04e76",
   "metadata": {},
   "source": [
    "sözlük = {\"sıfır\": 0,\n",
    "          \"bir\"  : 1,\n",
    "          \"iki\"  : 2,\n",
    "          \"üç\"   : 3,\n",
    "          \"dört\" : 4,\n",
    "          \"beş\"  : 5}"
   ]
  },
  {
   "cell_type": "markdown",
   "id": "8471d2f0-f93e-43c6-bdea-e361b14d2171",
   "metadata": {},
   "source": [
    "Burada sözlük içinde hem sayıları hem de karakter dizilerini kullandık. Aynı şekilde sözlük içinde listelere de yer verebiliriz:"
   ]
  },
  {
   "cell_type": "code",
   "execution_count": null,
   "id": "37e8177e-51bd-4fe6-8873-3ae846765618",
   "metadata": {},
   "outputs": [],
   "source": [
    "sözlük = {\"Ahmet Özkoparan\": [\"İstanbul\", \"Öğretmen\", 34],\n",
    "          \"Mehmet Yağız\"   : [\"Adana\", \"Mühendis\", 40],\n",
    "          \"Seda Bayrak\"    : [\"İskenderun\", \"Doktor\", 30]}"
   ]
  },
  {
   "cell_type": "markdown",
   "id": "2c975c5b-f114-48cf-a32c-3b69666b311a",
   "metadata": {},
   "source": [
    "Mesela bu sözlükte “Seda Bayrak” adlı kişinin bilgilerine ulaşmak istersek şöyle bir kod yazabiliriz:\n",
    "\n"
   ]
  },
  {
   "cell_type": "code",
   "execution_count": null,
   "id": "285ddf8c-cc18-4fa3-961f-775e3c91af73",
   "metadata": {},
   "outputs": [],
   "source": [
    "print(sözlük[\"Seda Bayrak\"])"
   ]
  },
  {
   "cell_type": "markdown",
   "id": "e511dd87-324b-40c1-9c4c-a412e42fd508",
   "metadata": {},
   "source": [
    "Gördüğünüz gibi, sözlük içinde “Seda Bayrak” adlı öğenin karşısındaki bilgi listesine ulaşabildik.\n",
    "\n",
    "İstersek sözlükleri, içlerinde başka sözlükleri barındıracak şekilde de tanımlayabiliriz:\n",
    "\n"
   ]
  },
  {
   "cell_type": "raw",
   "id": "e0f5d89a-4e36-432b-9ea9-f9e3a9941bd1",
   "metadata": {},
   "source": [
    "kişiler = {\"Ahmet Özkoparan\": {\"Memleket\": \"İstanbul\",\n",
    "                               \"Meslek\"  : \"Öğretmen\",\n",
    "                               \"Yaş\"     : 34},\n",
    "\n",
    "           \"Mehmet Yağız\"   : {\"Memleket\": \"Adana\",\n",
    "                               \"Meslek\"  : \"Mühendis\",\n",
    "                               \"Yaş\"     : 40},\n",
    "\n",
    "           \"Seda Bayrak\"    : {\"Memleket\": \"İskenderun\",\n",
    "                               \"Meslek\"  : \"Doktor\",\n",
    "                               \"Yaş\"     : 30}}"
   ]
  },
  {
   "cell_type": "markdown",
   "id": "8444cad8-66f3-475c-9b1e-160d20441f21",
   "metadata": {},
   "source": [
    "Böylece şöyle kodlar yazabiliriz:"
   ]
  },
  {
   "cell_type": "code",
   "execution_count": null,
   "id": "ff62817f-7c89-4360-9355-cbdb845cc6c6",
   "metadata": {},
   "outputs": [],
   "source": [
    "print(kişiler[\"Mehmet Yağız\"][\"Memleket\"])\n",
    "print(kişiler[\"Seda Bayrak\"][\"Yaş\"])\n",
    "print(kişiler[\"Ahmet Özkoparan\"][\"Meslek\"])"
   ]
  },
  {
   "cell_type": "markdown",
   "id": "369cb727-b09b-4c24-a377-fb5c7f4588ff",
   "metadata": {},
   "source": [
    "Yukarıdaki yapının benzerini listeler konusundan hatırlıyor olmalısınız. İç içe geçmiş listelerin öğelerine ulaşırken de buna benzer bir sözdiziminden yararlanıyorduk. Örneğin:"
   ]
  },
  {
   "cell_type": "raw",
   "id": "59e5d3f3-e2fe-487d-bf85-b59ce6185909",
   "metadata": {},
   "source": [
    "liste = [[\"Ahmet\", \"Mehmet\", \"Ayşe\"],\n",
    "         [\"Sedat\", \"Serkan\", \"Selin\"],\n",
    "         [\"Zeynep\", \"Nur\", \"Eda\"]]"
   ]
  },
  {
   "cell_type": "markdown",
   "id": "c7cb7d64-9cbd-49b6-8d28-eb7f48680c30",
   "metadata": {},
   "source": [
    "Burada bir liste içinde iç içe geçmiş üç farklı liste ile karşı karşıyayız. Mesela ilk listenin ilk öğesi olan “Ahmet” adlı öğeye erişmek istersek şöyle bir kod yazmamız gerekiyor:\n",
    "\n"
   ]
  },
  {
   "cell_type": "code",
   "execution_count": null,
   "id": "27da92af-caa6-4778-b975-2196db57df16",
   "metadata": {},
   "outputs": [],
   "source": [
    "print(liste[0][0])"
   ]
  },
  {
   "cell_type": "markdown",
   "id": "29b866a6-c4ed-4c93-a445-0f78cea769e4",
   "metadata": {},
   "source": [
    "İşte iç içe geçmiş sözlüklerin öğelerine ulaşmak için de buna benzer bir kod yazmamız gerekiyor. Örneğin kişiler adlı sözlükteki “Mehmet Yağız” adlı kişinin yaşına ulaşmak istersek şöyle bir şey yazacağız:\n",
    "\n"
   ]
  },
  {
   "cell_type": "code",
   "execution_count": null,
   "id": "946b81ad-a44e-4fce-a467-b4d7c931c058",
   "metadata": {},
   "outputs": [],
   "source": [
    "print(kişiler[\"Mehmet Yağız\"][\"Yaş\"])"
   ]
  },
  {
   "cell_type": "markdown",
   "id": "2876a6e3-7322-4d21-9c43-27a060e624c0",
   "metadata": {},
   "source": [
    "Gelin isterseniz kişiler adlı sözlüğü kullanarak basit bir irtibat listesi uygulaması yazalım. Böylece sözlüklere elimizi alıştırmış oluruz:"
   ]
  },
  {
   "cell_type": "raw",
   "id": "998ac361-6481-44f9-bf28-4617e24999b7",
   "metadata": {},
   "source": [
    "kişiler = {\"Ahmet Özkoparan\": {\"Memleket\": \"İstanbul\",\n",
    "                               \"Meslek\"  : \"Öğretmen\",\n",
    "                               \"Yaş\"     : 34},\n",
    "\n",
    "           \"Mehmet Yağız\"   : {\"Memleket\": \"Adana\",\n",
    "                               \"Meslek\"  : \"Mühendis\",\n",
    "                               \"Yaş\"     : 40},\n",
    "\n",
    "           \"Seda Bayrak\"    : {\"Memleket\": \"İskenderun\",\n",
    "                               \"Meslek\"  : \"Doktor\",\n",
    "                               \"Yaş\"     : 30}}\n",
    "\n",
    "isim = \"Hakkında ayrıntılı bilgi edinmek \\\n",
    "istediğiniz kişinin adını girin: \"\n",
    "\n",
    "arama = input(isim)\n",
    "\n",
    "ayrıntı = input(\"Memleket/Meslek/Yaş? \")\n",
    "\n",
    "print(kişiler[arama][ayrıntı])"
   ]
  },
  {
   "cell_type": "markdown",
   "id": "decbf991-1c5d-4b6b-9f0b-3e77645a5d38",
   "metadata": {},
   "source": [
    "\n",
    "Tıpkı bir önceki telefon defteri uygulamamız gibi, bu irtibat listesi uygulaması da geliştirilmeye açıktır. Ancak henüz bu iki uygulamayı geliştirmemizi sağlayacak bilgilerden yoksunuz. Bu uygulamaları istediğimiz kıvama sokabilmek için sözlüklere dair öğrenmemiz gereken başka şeyler de var.\n",
    "\n",
    "Sözlüklerin öteki veri tiplerinden önemli bir farkı, sözlük içinde yer alan öğelerin herhangi bir sıralama mantığına sahip olmamasıdır. Yani sözlükteki öğeler açısından ‘sıra’ diye bir kavram yoktur.\n",
    "\n",
    "Örneğin bir liste, demet veya karakter dizisi içindeki öğelere; bu öğelerin o liste, demet veya karakter dizisi içindeki sıralarına göre erişebilirsiniz:\n",
    "\n",
    "\n"
   ]
  },
  {
   "cell_type": "code",
   "execution_count": 21,
   "id": "0a4f166c-0d29-42ab-a927-436374f8fcfa",
   "metadata": {},
   "outputs": [
    {
     "data": {
      "text/plain": [
       "'Ahmet'"
      ]
     },
     "execution_count": 21,
     "metadata": {},
     "output_type": "execute_result"
    }
   ],
   "source": [
    "liste = [\"Ahmet\", \"Mehmet\", \"Zeynep\"]\n",
    "liste[0]"
   ]
  },
  {
   "cell_type": "code",
   "execution_count": 22,
   "id": "1b7ac228-0d2c-4f3c-885e-e58e4470c036",
   "metadata": {},
   "outputs": [
    {
     "data": {
      "text/plain": [
       "'Zeynep'"
      ]
     },
     "execution_count": 22,
     "metadata": {},
     "output_type": "execute_result"
    }
   ],
   "source": [
    "liste[-1]"
   ]
  },
  {
   "cell_type": "markdown",
   "id": "2df0c99e-c8dd-427c-a428-e94d69010565",
   "metadata": {},
   "source": [
    "Ancak sözlükler açısından böyle bir şey söz konusu değildir:"
   ]
  },
  {
   "cell_type": "code",
   "execution_count": 23,
   "id": "6a58adbb-5690-4e3c-8633-e680fa161c34",
   "metadata": {},
   "outputs": [],
   "source": [
    "sözlük = {'elma': 'apple',\n",
    "          'armut': 'pear',\n",
    "          'çilek': 'strawberry'}"
   ]
  },
  {
   "cell_type": "code",
   "execution_count": 24,
   "id": "a78929a5-8e93-4a46-9f18-b42e8b56b41f",
   "metadata": {},
   "outputs": [
    {
     "ename": "KeyError",
     "evalue": "0",
     "output_type": "error",
     "traceback": [
      "\u001b[0;31m---------------------------------------------------------------------------\u001b[0m",
      "\u001b[0;31mKeyError\u001b[0m                                  Traceback (most recent call last)",
      "Cell \u001b[0;32mIn[24], line 1\u001b[0m\n\u001b[0;32m----> 1\u001b[0m \u001b[43msözlük\u001b[49m\u001b[43m[\u001b[49m\u001b[38;5;241;43m0\u001b[39;49m\u001b[43m]\u001b[49m\n",
      "\u001b[0;31mKeyError\u001b[0m: 0"
     ]
    }
   ],
   "source": [
    "sözlük[0]"
   ]
  },
  {
   "cell_type": "markdown",
   "id": "ff86af6c-fdc9-4786-a670-d4a85c5aab77",
   "metadata": {},
   "source": [
    "Gördüğünüz gibi, sözlükler üzerinde sıralamaya dayalı bir sorgulama yapmaya çalıştığımızda Python bize bir hata mesajı gösteriyor.\n",
    "\n",
    "Bu durumun etkilerini şurada da görebilirsiniz:\n",
    "\n",
    "Dikkatlice bakın:\n",
    "\n"
   ]
  },
  {
   "cell_type": "code",
   "execution_count": 25,
   "id": "ca29de3c-879a-4252-8093-5e2ff5cb49a0",
   "metadata": {},
   "outputs": [
    {
     "data": {
      "text/plain": [
       "{'a': '0', 'b': '1', 'c': '2'}"
      ]
     },
     "execution_count": 25,
     "metadata": {},
     "output_type": "execute_result"
    }
   ],
   "source": [
    "sözlük = {'a': '0', 'b': '1', 'c': '2'}\n",
    "sözlük\n"
   ]
  },
  {
   "cell_type": "markdown",
   "id": "998fd000-8fd2-46c5-950d-20989e425fc2",
   "metadata": {},
   "source": [
    "Bu çıktıyı iyi inceleyin. Göreceğiniz gibi, çıktıda görünen öğeler bizim sözlüğü tanımladığımız sıradaki gibi değil. Biz sözlüğü ‘a’, ‘b’ ve ‘c’ şeklinde sıralayarak tanımladık, ama çıktı ‘a’, ‘c’ ve ‘b’ şeklinde oldu. O yüzden sözlükler üzerinde çalışırken öğelerin sırasına dayalı herhangi bir işlem yapmak hiç mantıklı değildir. Çünkü sözlükteki öğeleri tanımlarken kullandığınız sıralama düzeninin çıktıda da aynen korunacağının herhangi bir garantisi bulunmaz."
   ]
  },
  {
   "cell_type": "markdown",
   "id": "47322fb5-effe-4adf-857b-70643e6fe689",
   "metadata": {},
   "source": [
    "+++++++++++++Sözlüklere Öğe Eklemek\n",
    "\n",
    "\n",
    "Tıpkı listeler gibi, sözlükler de büyüyüp küçülebilen bir veri tipidir. Yani bir sözlüğü ilk kez tanımladıktan sonra istediğimiz zaman bu sözlüğe yeni öğeler ekleyebilir veya varolan öğeleri çıkarabiliriz. Biz şimdi bir sözlüğe nasıl öğe ekleyeceğimizi inceleyeceğiz.\n",
    "\n",
    "Diyelim ki elimizde şöyle boş bir sözlük var:\n",
    "\n"
   ]
  },
  {
   "cell_type": "code",
   "execution_count": 26,
   "id": "d7468651-0abb-4973-bdda-ff721588e804",
   "metadata": {},
   "outputs": [],
   "source": [
    "sözlük = {}"
   ]
  },
  {
   "cell_type": "markdown",
   "id": "90bac709-23a5-40bc-8e19-036212de6c18",
   "metadata": {},
   "source": [
    "Bu listeye öğe eklemek için şöyle bir formül kullanacağız:"
   ]
  },
  {
   "cell_type": "code",
   "execution_count": 27,
   "id": "e8380b94-be9f-4edb-bcb7-e35b2a1bf4c7",
   "metadata": {},
   "outputs": [
    {
     "ename": "NameError",
     "evalue": "name 'değer' is not defined",
     "output_type": "error",
     "traceback": [
      "\u001b[0;31m---------------------------------------------------------------------------\u001b[0m",
      "\u001b[0;31mNameError\u001b[0m                                 Traceback (most recent call last)",
      "Cell \u001b[0;32mIn[27], line 1\u001b[0m\n\u001b[0;32m----> 1\u001b[0m sözlük[anahtar] \u001b[38;5;241m=\u001b[39m \u001b[43mdeğer\u001b[49m\n",
      "\u001b[0;31mNameError\u001b[0m: name 'değer' is not defined"
     ]
    }
   ],
   "source": [
    "sözlük[anahtar] = değer"
   ]
  },
  {
   "cell_type": "markdown",
   "id": "05bd33ca-7b73-4706-9a79-7c11a9b68196",
   "metadata": {},
   "source": [
    "Bu formülü bir örnek üzerinden somutlaştıralım:\n",
    "\n"
   ]
  },
  {
   "cell_type": "code",
   "execution_count": 28,
   "id": "6d3886a8-b644-44db-a9ea-ffd7c1559ce3",
   "metadata": {},
   "outputs": [],
   "source": [
    "sözlük[\"Ahmet\"] = \"Adana\""
   ]
  },
  {
   "cell_type": "markdown",
   "id": "98c44a99-e269-4230-b14d-e7bdd2fc3ae0",
   "metadata": {},
   "source": [
    "Böylece sözlüğe, anahtarı “Ahmet”, değeri ise “Adana” olan bir öğe eklemiş olduk. Sözlüğümüzün son durumunu kontrol edelim:\n",
    "\n"
   ]
  },
  {
   "cell_type": "code",
   "execution_count": 29,
   "id": "f03b17ed-9cce-4892-98b4-e028d48b718e",
   "metadata": {},
   "outputs": [
    {
     "name": "stdout",
     "output_type": "stream",
     "text": [
      "{'Ahmet': 'Adana'}\n"
     ]
    }
   ],
   "source": [
    "print(sözlük)"
   ]
  },
  {
   "cell_type": "markdown",
   "id": "ceb27c1f-705c-483a-b871-f738446fa590",
   "metadata": {},
   "source": [
    "Gördüğünüz gibi, “Ahmet” öğesi sözlüğe eklendi. Artık bu öğeye normal yollardan ulaşabiliriz:\n",
    "\n"
   ]
  },
  {
   "cell_type": "code",
   "execution_count": 30,
   "id": "0ca604ac-bf2a-48b8-8ccf-ab515c984794",
   "metadata": {},
   "outputs": [
    {
     "name": "stdout",
     "output_type": "stream",
     "text": [
      "Adana\n"
     ]
    }
   ],
   "source": [
    "print(sözlük[\"Ahmet\"])"
   ]
  },
  {
   "cell_type": "markdown",
   "id": "9eaa423c-14eb-4c69-b259-68c433dc1326",
   "metadata": {},
   "source": [
    "Elimiz alışsın diye sözlüğe öğe eklemeye devam edelim:\n",
    "\n"
   ]
  },
  {
   "cell_type": "code",
   "execution_count": 31,
   "id": "742401a2-eeca-4782-8851-252b9909ade7",
   "metadata": {},
   "outputs": [
    {
     "data": {
      "text/plain": [
       "{'Ahmet': 'Adana', 'Mehmet': 'İstanbul'}"
      ]
     },
     "execution_count": 31,
     "metadata": {},
     "output_type": "execute_result"
    }
   ],
   "source": [
    "sözlük[\"Mehmet\"] = \"İstanbul\"\n",
    "sözlük"
   ]
  },
  {
   "cell_type": "code",
   "execution_count": 32,
   "id": "02785527-f7f7-42c5-a7e3-998226bf1a32",
   "metadata": {},
   "outputs": [
    {
     "data": {
      "text/plain": [
       "{'Ahmet': 'Adana', 'Mehmet': 'İstanbul', 'Seda': 'Mersin'}"
      ]
     },
     "execution_count": 32,
     "metadata": {},
     "output_type": "execute_result"
    }
   ],
   "source": [
    "sözlük[\"Seda\"] = \"Mersin\"\n",
    "sözlük"
   ]
  },
  {
   "cell_type": "code",
   "execution_count": 33,
   "id": "137e262c-8158-4381-9745-409f64451351",
   "metadata": {},
   "outputs": [
    {
     "data": {
      "text/plain": [
       "{'Ahmet': 'Adana', 'Mehmet': 'İstanbul', 'Seda': 'Mersin', 'Eda': 'Tarsus'}"
      ]
     },
     "execution_count": 33,
     "metadata": {},
     "output_type": "execute_result"
    }
   ],
   "source": [
    "sözlük[\"Eda\"] = \"Tarsus\"\n",
    "sözlük"
   ]
  },
  {
   "cell_type": "markdown",
   "id": "532df01e-ddc3-4998-a6a1-f7e379f23daf",
   "metadata": {},
   "source": [
    "Özellikle son çıktıya dikkatlice bakın. Sözlüğe en son “Eda” öğesini eklemiştik. Ama sözlüğü ekrana bastığımızda bu öğenin sözlüğün sonuna değil ortasına bir yere yerleştiğini görüyoruz. Bu durumun, sözlüklerin sırasız bir veri tipi olmasından kaynaklandığını biliyorsunuz.\n",
    "\n",
    "Gelin pratik olması açısından birkaç örnek daha verelim.\n",
    "\n",
    "Elimizde şöyle bir sözlük olsun:\n",
    "\n"
   ]
  },
  {
   "cell_type": "code",
   "execution_count": null,
   "id": "08c967d2-df4e-4f56-8ee9-323003f997ef",
   "metadata": {},
   "outputs": [],
   "source": [
    "personel = {\"Mehmet Öz\": \"AR-GE Müdürü\",\n",
    "            \"Samet Söz\": \"Genel Direktör\",\n",
    "            \"Sedat Gün\": \"Proje Müdürü\"}"
   ]
  },
  {
   "cell_type": "markdown",
   "id": "ca42599c-f452-4bff-a02b-e72e53c50c46",
   "metadata": {},
   "source": [
    "Şimdi bu sözlüğe \"Turgut Özben\": \"Mühendis\" anahtar-değer çiftini ekleyelim:\n",
    "\n"
   ]
  },
  {
   "cell_type": "code",
   "execution_count": null,
   "id": "1c552325-180a-4ec1-ae6e-e7ca33be1701",
   "metadata": {},
   "outputs": [],
   "source": [
    "personel[\"Turgut Özben\"] = \"Mühendis\""
   ]
  },
  {
   "cell_type": "markdown",
   "id": "d1f422d2-c12d-454c-af15-550a1a64a690",
   "metadata": {},
   "source": [
    "Sözlüğümüzün son halini görelim:\n",
    "\n"
   ]
  },
  {
   "cell_type": "code",
   "execution_count": null,
   "id": "d17e2494-3592-4608-ab06-ad77de8d9b9f",
   "metadata": {},
   "outputs": [],
   "source": [
    "print(personel)\n",
    "\n",
    "{'Samet Söz': 'Genel Direktör', 'Mehmet Öz': 'AR-GE Müdürü', 'Turgut Özben':\n",
    "'Mühendis', 'Sedat Gün': 'Proje Müdürü'}"
   ]
  },
  {
   "cell_type": "markdown",
   "id": "76a6f244-46bb-49ea-aa01-3b8c188f76c9",
   "metadata": {},
   "source": [
    "Gördüğünüz gibi eklemek istediğimiz öğe sözlüğe eklenmiş. Ancak bu öğenin sözlüğün en sonuna değil, sözlük içine rastgele bir şekilde yerleştirildiğine dikkatinizi çekmek isterim. Çünkü, dediğimiz gibi, sözlükler sırasız bir veri tipidir.\n",
    "\n",
    "Gelin bu konuyu daha iyi anlamak için bir örnek daha verelim.\n",
    "\n",
    "Önce notlar adında boş bir sözlük tanımlayalım:\n",
    "\n"
   ]
  },
  {
   "cell_type": "code",
   "execution_count": 34,
   "id": "69837a4b-7eba-4f9c-92cb-083e9f861ee0",
   "metadata": {},
   "outputs": [],
   "source": [
    "notlar = {}"
   ]
  },
  {
   "cell_type": "markdown",
   "id": "0ea84975-9df3-4133-849b-de1ebac9f6e3",
   "metadata": {},
   "source": [
    "Bu sözlüğe öğrencilerin sınavdan aldıkları notları ekleyeceğiz:"
   ]
  },
  {
   "cell_type": "code",
   "execution_count": 35,
   "id": "66fdfded-549f-412e-b94d-c47f15258316",
   "metadata": {},
   "outputs": [],
   "source": [
    "notlar[\"Ahmet\"] = 45\n",
    "notlar[\"Mehmet\"] = 77\n",
    "notlar[\"Seda\"] = 98\n",
    "notlar[\"Deniz\"] = 95\n",
    "notlar[\"Ege\"] = 95\n",
    "notlar[\"Zeynep\"] = 100"
   ]
  },
  {
   "cell_type": "markdown",
   "id": "2a9f40ee-2954-4c76-998c-eeeff77c65fb",
   "metadata": {},
   "source": [
    "Sözlüğümüzün son halini görelim:"
   ]
  },
  {
   "cell_type": "code",
   "execution_count": 36,
   "id": "3592ee5b-b7f9-4281-a2e8-86778f8ee73d",
   "metadata": {},
   "outputs": [
    {
     "name": "stdout",
     "output_type": "stream",
     "text": [
      "{'Ahmet': 45, 'Mehmet': 77, 'Seda': 98, 'Deniz': 95, 'Ege': 95, 'Zeynep': 100}\n"
     ]
    }
   ],
   "source": [
    "print(notlar)"
   ]
  },
  {
   "cell_type": "markdown",
   "id": "465ea3c6-d701-4113-9411-d14f3458a579",
   "metadata": {},
   "source": [
    "Bu noktada sözlüklerin önemli bir özelliğinden bahsetmemiz uygun olacak. Bir sözlüğe değer olarak bütün veri tiplerini verebiliriz. Yani:\n",
    "\n"
   ]
  },
  {
   "cell_type": "code",
   "execution_count": 37,
   "id": "be75659d-84cb-45da-b8ad-9163929848e6",
   "metadata": {},
   "outputs": [],
   "source": [
    "sözlük = {}\n",
    "sözlük = {'a': 1}\n",
    "sözlük = {'a': (1,2,3)}\n",
    "sözlük = {'a': 'kardiz'}\n",
    "sözlük = {'a': [1,2,3]}"
   ]
  },
  {
   "cell_type": "markdown",
   "id": "e5cb648d-ea8b-4b3a-b760-0a49ebef217b",
   "metadata": {},
   "source": [
    "Gördüğünüz gibi, sözlükler değer olarak her türlü veri tipini kabul ediyor. Ama durum sözlük anahtarları açısından böyle değildir. Yani sözlüklere anahtar olarak her veri tipini atayamayız. Bir değerin ‘anahtar’ olabilmesi için, o öğenin değiştirilemeyen (immutable) bir veri tipi olması gerekir. Python’da şimdiye kadar öğrendiğimiz şu veri tipleri değiştirilemeyen veri tipleridir:\n",
    "\n",
    "Demetler\n",
    "\n",
    "Sayılar\n",
    "\n",
    "Karakter Dizileri\n",
    "\n",
    "Şu veri tipleri ise değiştirilebilen veri tipleridir:\n",
    "\n",
    "Listeler\n",
    "\n",
    "Sözlükler\n",
    "\n",
    "Dolayısıyla bir sözlüğe anahtar olarak ancak şu veri tiplerini ekleyebiliriz:\n",
    "\n",
    "Demetler\n",
    "\n",
    "Sayılar\n",
    "\n",
    "Karakter Dizileri\n",
    "\n",
    "Şu kodları dikkatlice inceleyin:\n",
    "\n",
    "Önce boş bir sözlük oluşturalım:"
   ]
  },
  {
   "cell_type": "code",
   "execution_count": 38,
   "id": "46ce5343-02d1-4742-b75d-2be8a460929e",
   "metadata": {},
   "outputs": [],
   "source": [
    "sözlük = {}"
   ]
  },
  {
   "cell_type": "markdown",
   "id": "abffce9f-7863-4c12-8869-c25adb7579c6",
   "metadata": {},
   "source": [
    "Bu sözlüğe anahtar olarak bir demet ekleyelim:\n",
    "\n"
   ]
  },
  {
   "cell_type": "code",
   "execution_count": 39,
   "id": "8b60984f-b48e-4e7a-95b2-7e806c190771",
   "metadata": {},
   "outputs": [
    {
     "data": {
      "text/plain": [
       "{(1, 2, 3): 'falanca'}"
      ]
     },
     "execution_count": 39,
     "metadata": {},
     "output_type": "execute_result"
    }
   ],
   "source": [
    "l = (1,2,3)\n",
    "sözlük[l] = 'falanca'\n",
    "sözlük\n"
   ]
  },
  {
   "cell_type": "markdown",
   "id": "34a3abe9-4b70-4342-90f6-f046a55dac38",
   "metadata": {},
   "source": [
    "Bir sayı ekleyelim:"
   ]
  },
  {
   "cell_type": "code",
   "execution_count": 40,
   "id": "c52c164a-f3c0-4b27-85bb-d5acbbd87630",
   "metadata": {},
   "outputs": [
    {
     "data": {
      "text/plain": [
       "{(1, 2, 3): 'falanca', 45: 'falanca'}"
      ]
     },
     "execution_count": 40,
     "metadata": {},
     "output_type": "execute_result"
    }
   ],
   "source": [
    "l = 45\n",
    "sözlük[l] = 'falanca'\n",
    "sözlük\n"
   ]
  },
  {
   "cell_type": "markdown",
   "id": "bc08ad31-87f5-40d7-b44c-952433005aec",
   "metadata": {},
   "source": [
    "Bir karakter dizisi ekleyelim:"
   ]
  },
  {
   "cell_type": "code",
   "execution_count": 41,
   "id": "f3c3df77-9876-4965-ae54-8626c7b0728c",
   "metadata": {},
   "outputs": [
    {
     "data": {
      "text/plain": [
       "{(1, 2, 3): 'falanca', 45: 'falanca', 'kardiz': 'falanca'}"
      ]
     },
     "execution_count": 41,
     "metadata": {},
     "output_type": "execute_result"
    }
   ],
   "source": [
    "l = 'kardiz'\n",
    "sözlük[l] = 'falanca'\n",
    "sözlük\n"
   ]
  },
  {
   "cell_type": "markdown",
   "id": "6bb60027-d744-46ea-b6f2-fc4f5c6d32a2",
   "metadata": {},
   "source": [
    "Yukarıdakiler, değiştirilemeyen veri tipleri olduğu için sözlüklere anahtar olarak eklenebildi.\n",
    "\n",
    "Bir de şunlara bakalım:\n",
    "\n",
    "Sözlüğümüze anahtar olarak bir liste eklemeye çalışalım:\n",
    "\n"
   ]
  },
  {
   "cell_type": "code",
   "execution_count": 42,
   "id": "7842991b-3fef-4e35-aa91-1735bd3d6732",
   "metadata": {},
   "outputs": [
    {
     "ename": "TypeError",
     "evalue": "unhashable type: 'list'",
     "output_type": "error",
     "traceback": [
      "\u001b[0;31m---------------------------------------------------------------------------\u001b[0m",
      "\u001b[0;31mTypeError\u001b[0m                                 Traceback (most recent call last)",
      "Cell \u001b[0;32mIn[42], line 2\u001b[0m\n\u001b[1;32m      1\u001b[0m l \u001b[38;5;241m=\u001b[39m [\u001b[38;5;241m1\u001b[39m,\u001b[38;5;241m2\u001b[39m,\u001b[38;5;241m3\u001b[39m]\n\u001b[0;32m----> 2\u001b[0m \u001b[43msözlük\u001b[49m\u001b[43m[\u001b[49m\u001b[43ml\u001b[49m\u001b[43m]\u001b[49m \u001b[38;5;241m=\u001b[39m \u001b[38;5;124m'\u001b[39m\u001b[38;5;124mfalanca\u001b[39m\u001b[38;5;124m'\u001b[39m\n",
      "\u001b[0;31mTypeError\u001b[0m: unhashable type: 'list'"
     ]
    }
   ],
   "source": [
    "l = [1,2,3]\n",
    "sözlük[l] = 'falanca'\n"
   ]
  },
  {
   "cell_type": "markdown",
   "id": "1d1c9f15-75bd-4c52-a8fa-e9cd8e5b4339",
   "metadata": {},
   "source": [
    "Sözlüğümüze bir sözlük eklemeye çalışalım:"
   ]
  },
  {
   "cell_type": "markdown",
   "id": "472a5376-b1ba-4a70-a256-4a75f32d29d3",
   "metadata": {},
   "source": [
    "Sözlüklerle çalışırken sözlüklerin bu özelliğine karşı uyanık olmalıyız."
   ]
  },
  {
   "cell_type": "markdown",
   "id": "c8e18bd3-d97d-4f31-9af9-09989c0d64a3",
   "metadata": {},
   "source": [
    "++++++++Sözlük Öğeleri Üzerinde Değişiklik Yapmak\n",
    "\n",
    "\n",
    "Sözlükler değiştirilebilir veri tipleridir. Dolayısıyla sözlükler üzerinde rahatlıkla istediğimiz değişikliği yapabiliriz.\n",
    "\n",
    "Sözlükler üzerinde değişiklik yapma işlemi, biraz önce öğrendiğimiz, sözlüklere yeni öğe ekleme işlemiyle aynıdır. Dikkatlice bakın:"
   ]
  },
  {
   "cell_type": "code",
   "execution_count": 43,
   "id": "74635b9d-32c1-4e39-8462-fdd1c348c859",
   "metadata": {},
   "outputs": [],
   "source": [
    "notlar = {'Seda': 98, 'Ege': 95, 'Mehmet': 77,\n",
    "'Zeynep': 100, 'Deniz': 95, 'Ahmet': 45}"
   ]
  },
  {
   "cell_type": "markdown",
   "id": "6ae88bce-098d-4290-b36c-deea88e4cd32",
   "metadata": {},
   "source": [
    "Sözlüğümüz bu. Şimdi bu sözlükteki ‘Ahmet’ adlı kişinin 45 olan notunu 65 olarak değiştirelim:\n",
    "\n"
   ]
  },
  {
   "cell_type": "code",
   "execution_count": 44,
   "id": "ab82b093-1b12-4477-badb-41789a664136",
   "metadata": {},
   "outputs": [
    {
     "name": "stdout",
     "output_type": "stream",
     "text": [
      "{'Seda': 98, 'Ege': 95, 'Mehmet': 77, 'Zeynep': 100, 'Deniz': 95, 'Ahmet': 65}\n"
     ]
    }
   ],
   "source": [
    "notlar[\"Ahmet\"] = 65\n",
    "print(notlar)"
   ]
  },
  {
   "cell_type": "markdown",
   "id": "275ec83f-34fc-4155-9afc-52f0feb1e3d9",
   "metadata": {},
   "source": [
    "Gördüğünüz gibi Ahmet’in notu 65 olarak değişmiş…\n",
    "\n",
    "++++++++Sözlük Üreteçleri (Dictionary Comprehensions)\n",
    "\n",
    "\n",
    "Hatırlarsanız listeleri anlatırken liste üreteçleri adı bir kavramdan söz etmiştik. Liste üreteçlerini kullanarak tek satırda ve hızlı bir şekilde listeler oluşturabiliyorduk. Aynı şey sözlükler için de geçerlidir. Tıpkı liste üreteçlerinde olduğu gibi, sözlük üreteçleri sayesinde tek satırda ve hızlı bir şekilde sözlükler üretebiliriz.\n",
    "\n",
    "Örneğin elimizde, Türkçe alfabedeki harfleri içeren harfler adlı şöyle bir karakter dizisi olduğunu düşünün:\n",
    "\n"
   ]
  },
  {
   "cell_type": "code",
   "execution_count": 45,
   "id": "22031c4f-c11d-464f-b5c1-61080a1105cb",
   "metadata": {},
   "outputs": [],
   "source": [
    "harfler = 'abcçdefgğhıijklmnoöprsştuüvyz'"
   ]
  },
  {
   "cell_type": "markdown",
   "id": "1320fd25-803a-40f9-8671-2545e406bbbe",
   "metadata": {},
   "source": [
    "Amacımız bu harflerin her birine bir numara vermek. Yani nihai olarak şöyle bir sözlük elde etmek istiyoruz:"
   ]
  },
  {
   "cell_type": "code",
   "execution_count": null,
   "id": "d7404ae5-8e05-4430-ad7f-c51ad1b32b36",
   "metadata": {},
   "outputs": [],
   "source": [
    "{'ğ': 8,\n",
    " 'v': 26,\n",
    " 'ş': 22,\n",
    " 'u': 24,\n",
    " 't': 23,\n",
    " 'ö': 18,\n",
    " 'ı': 10,\n",
    " 'p': 19,\n",
    " 's': 21,\n",
    " 'r': 20,\n",
    " 'ü': 25,\n",
    " 'y': 27,\n",
    " 'ç': 3,\n",
    " 'z': 28,\n",
    " 'e': 5,\n",
    " 'd': 4,\n",
    " 'g': 7,\n",
    " 'f': 6,\n",
    " 'a': 0,\n",
    " 'c': 2,\n",
    " 'b': 1,\n",
    " 'm': 15,\n",
    " 'l': 14,\n",
    " 'o': 17,\n",
    " 'n': 16,\n",
    " 'i': 11,\n",
    " 'h': 9,\n",
    " 'k': 13,\n",
    " 'j': 12}"
   ]
  },
  {
   "cell_type": "markdown",
   "id": "9f21b4f3-62a2-4af1-a998-43adf5077093",
   "metadata": {},
   "source": [
    "Bunun için birkaç farklı yöntemden yararlanabiliriz. Örneğin:\n",
    "\n"
   ]
  },
  {
   "cell_type": "code",
   "execution_count": null,
   "id": "00d221ef-3cd9-4bd7-9ae3-105aafdd2a8f",
   "metadata": {},
   "outputs": [],
   "source": [
    "sözlük = {}\n",
    "for i in harfler:\n",
    "    sözlük[i] = harfler.index(i)"
   ]
  },
  {
   "cell_type": "markdown",
   "id": "acd9a0e9-4566-44be-adfc-edc1cf64e234",
   "metadata": {},
   "source": [
    "veya:"
   ]
  },
  {
   "cell_type": "code",
   "execution_count": null,
   "id": "8a529362-f10e-4ea2-8353-cf5af69ee7b1",
   "metadata": {},
   "outputs": [],
   "source": [
    "sözlük = {}\n",
    "for i in range(len(harfler)):\n",
    "    sözlük[harfler[i]] = i"
   ]
  },
  {
   "cell_type": "markdown",
   "id": "ee7bf22d-7bb9-4e16-8936-0cb6e52c5184",
   "metadata": {},
   "source": [
    "İşte bu işlemleri sözlük üreteçlerini kullanarak çok daha hızlı ve pratik bir şekilde halledebiliriz. Dikkatlice bakın:"
   ]
  },
  {
   "cell_type": "code",
   "execution_count": 46,
   "id": "ea8e4e78-acbb-4ac7-830b-eb2272c72398",
   "metadata": {},
   "outputs": [],
   "source": [
    "sözlük = {i: harfler.index(i) for i in harfler}"
   ]
  },
  {
   "cell_type": "markdown",
   "id": "efce7bea-6dc2-4332-9d27-0c0dd13c85bc",
   "metadata": {},
   "source": [
    "Bir örnek daha verelim. Diyelim ki elinizde şöyle bir isim listesi var:"
   ]
  },
  {
   "cell_type": "code",
   "execution_count": 47,
   "id": "88d8e7cc-2195-47f5-aab6-e5a5dc40ddf2",
   "metadata": {},
   "outputs": [],
   "source": [
    "isimler = [\"ahmet\", \"mehmet\", \"fırat\", \"zeynep\", \"selma\", \"abdullah\", \"cem\"]"
   ]
  },
  {
   "cell_type": "markdown",
   "id": "81899604-7f68-471d-9f0a-6c0511ad85db",
   "metadata": {},
   "source": [
    "Amacınız, bu isimleri ve her bir ismin kaç harften oluştuğunu gösteren bir sözlük elde etmek. Yani nihai olarak şöyle bir şey olsun istiyorsunuz elinizde:"
   ]
  },
  {
   "cell_type": "code",
   "execution_count": null,
   "id": "83df5f6d-ecac-499a-82e4-ede8cff63376",
   "metadata": {},
   "outputs": [],
   "source": [
    "{'zeynep': 6,\n",
    " 'cem': 3,\n",
    " 'abdullah': 8,\n",
    " 'ahmet': 5,\n",
    " 'mehmet': 6,\n",
    " 'fırat': 5,\n",
    " 'selma': 5}"
   ]
  },
  {
   "cell_type": "markdown",
   "id": "ab2cbe71-8278-4755-aabf-fc179986c797",
   "metadata": {},
   "source": [
    "İşte bu görev için de sözlük üreteçlerinden yararlanabilirsiniz:\n",
    "\n"
   ]
  },
  {
   "cell_type": "code",
   "execution_count": 48,
   "id": "63469cd1-2eba-4b7d-a163-6baa7c36e1c9",
   "metadata": {},
   "outputs": [
    {
     "data": {
      "text/plain": [
       "{'ahmet': 5,\n",
       " 'mehmet': 6,\n",
       " 'fırat': 5,\n",
       " 'zeynep': 6,\n",
       " 'selma': 5,\n",
       " 'abdullah': 8,\n",
       " 'cem': 3}"
      ]
     },
     "execution_count": 48,
     "metadata": {},
     "output_type": "execute_result"
    }
   ],
   "source": [
    "isimler = [\"ahmet\", \"mehmet\", \"fırat\", \"zeynep\", \"selma\", \"abdullah\", \"cem\"]\n",
    "sözlük = {i: len(i) for i in isimler}\n",
    "sözlük"
   ]
  },
  {
   "cell_type": "markdown",
   "id": "fae0c87a-0d63-402d-91ba-2ae90df70ddf",
   "metadata": {},
   "source": [
    "Bildiğiniz gibi sözlükler, her biri birbirinden : işareti ile ayrılan birtakım anahtar-değer çiftlerinden oluşuyor. İşte yukarıdaki sözlük üreteci yapısında biz : işaretinin sol tarafına isimler adlı listedeki her bir öğeyi; sağ tarafına da bu öğelerin uzunluklarını bir çırpıda ekliyoruz."
   ]
  },
  {
   "cell_type": "code",
   "execution_count": null,
   "id": "f1423100-f0c6-4354-9a3e-f3fb5168df05",
   "metadata": {},
   "outputs": [],
   "source": []
  }
 ],
 "metadata": {
  "kernelspec": {
   "display_name": "Python 3 (ipykernel)",
   "language": "python",
   "name": "python3"
  },
  "language_info": {
   "codemirror_mode": {
    "name": "ipython",
    "version": 3
   },
   "file_extension": ".py",
   "mimetype": "text/x-python",
   "name": "python",
   "nbconvert_exporter": "python",
   "pygments_lexer": "ipython3",
   "version": "3.10.12"
  }
 },
 "nbformat": 4,
 "nbformat_minor": 5
}
