{
 "cells": [
  {
   "cell_type": "markdown",
   "id": "7d8386fb-45e7-4c53-a2cf-750de84730cb",
   "metadata": {},
   "source": [
    "+++++++++++++++Önemli Standart Kütüphane Modülleri\n",
    "\n",
    "Daha önce de söylediğimiz gibi, modüller Python programlama dilinin belkemiğini oluşturur. Hatta Python’ı öğrenmek, bir bakıma modülleri öğrenmek demektir, diyebiliriz. Biz her ne kadar bu noktaya gelene kadar Python’daki bütün temel veri tiplerini ve fonksiyonları öğrenmiş olsak da modülleri öğrenmeden ve bunları etkili bir şekilde nasıl kullanacağımızı bilmeden işe yarar programlar yazamayız.\n",
    "\n",
    "Mesela diyelim ki veritabanına kayıt yapan bir program yazacaksınız. İşte bu iş için çeşitli modüllerden yararlanmanız gerekir.\n",
    "\n",
    "Eğer MS Excel veya MS Word gibi dosya biçimleri üzerinde çalışmalar yapacaksanız, bu dosyalar üzerinde işlem yapabilmenizi sağlayan birtakım modülleri kullanmanız gerekir.\n",
    "\n",
    "Aynı şekilde grafik bir arayüze sahip programlar geliştirebilmek için de bazı standart modülleri veya üçüncü şahıs modüllerini kullanmalısınız.\n",
    "\n",
    "Bu durum oyun programlama, taşınabilir cihaz programlama, ağ programlama, web programlama ve başka programlama alanları için de geçerlidir.\n",
    "\n",
    "Geçen bölümde, modüller konusundan söz ederken Python’daki standart kütüphane modüllerine ve üçüncü şahıs modüllerine şöyle bir göz gezdirmiştik. Önümüzdeki bir kaç bölüm boyunca ise bazı önemli standart modülleri ve üçüncü şahıs modüllerini ayrıntılı olarak inceleyeceğiz. Bu sayede programcılık ufkumuz epey bir genişlemiş olacak.\n",
    "\n"
   ]
  },
  {
   "cell_type": "markdown",
   "id": "5086bf1f-1f24-4c71-9988-b54b88ab9bcf",
   "metadata": {},
   "source": [
    "++++++++++++++++Düzenli İfadeler\n",
    "\n",
    "Düzenli ifadeler Python programlama dilinin en çetrefilli konularından biridir. Öyle ki, düzenli ifadelerin Python içinde ayrı bir dil olarak düşünülmesi gerektiğini söyleyenler dahi vardır. Ama bütün zorluklarına rağmen programlama deneyimimizin bir noktasında mutlaka karşımıza çıkacak olan bu yapıyı öğrenmemizde büyük fayda var. Düzenli ifadeleri öğrendikten sonra, elle yapılması saatler sürecek bir işlemi saliseler içinde yapabildiğinizi gördüğünüzde eminim düzenli ifadelerin ne büyük bir nimet olduğunu siz de anlayacaksınız. Tabii her güzel şey gibi, düzenli ifadelerin nimetlerinden yararlanabilecek düzeye gelmek de bir miktar kan, ter ve gözyaşı istiyor.\n",
    "\n",
    "Peki, düzenli ifadeleri kullanarak neler yapabiliriz? Çok genel bir ifadeyle, bu yapıyı kullanarak metinleri veya karakter dizilerini parmağımızda oynatabiliriz. Örneğin bir web sitesinde dağınık halde duran verileri bir çırpıda ayıklayabiliriz. Bu veriler, mesela, toplu halde görmek istediğimiz web adreslerinin bir listesi olabilir. Bunun dışında, örneğin, çok sayıda belge üzerinde tek adımda istediğimiz değişiklikleri yapabiliriz.\n",
    "\n",
    "Ancak genel bir kural olarak, düzenli ifadelerden kaçabildiğimiz müddetçe kaçmamız gerekir. Eğer Python’daki karakter dizisi metotları, o anda yapmak istediğimiz şey için yeterli geliyorsa mutlaka o metotları kullanmalıyız. Çünkü karakter dizisi metotları, düzenli ifadelere kıyasla hem daha basit, hem de çok daha hızlıdır. Ama bir noktadan sonra karakter dizilerini kullanarak yazdığınız kodlar iyice karmaşıklaşmaya başlamışsa, kodların her tarafı if deyimleriyle dolmuşsa, hatta basit bir işlemi gerçekleştirmek için yazdığınız kod sayfa sınırlarını zorlamaya başlamışsa, işte o noktada artık düzenli ifadelerin dünyasına adım atmanız gerekiyor olabilir. Ama bu durumda Jamie Zawinski’nin şu sözünü de aklınızdan çıkarmayın: “Bazıları, bir sorunla karşı karşıya kaldıklarında şunu der: ‘Evet, burada düzenli ifadeleri kullanmam gerekiyor.’ İşte onların bir sorunu daha vardır artık…”\n",
    "\n",
    "Başta da söylediğim gibi, düzenli ifadeler bize zorlukları unutturacak kadar büyük kolaylıklar sunar. Emin olun yüzlerce dosya üzerinde tek tek elle değişiklik yapmaktan daha zor değildir düzenli ifadeleri öğrenip kullanmak… Hem zaten biz de bu sayfalarda bu “sevimsiz” konuyu olabildiğince sevimli hale getirmek için elimizden gelen çabayı göstereceğiz. Sizin de çaba göstermeniz, bol bol alıştırma yapmanız durumunda düzenli ifadeleri kavramak o kadar da zorlayıcı olmayacaktır. Unutmayın, düzenli ifadeler ne kadar uğraştırıcı olsa da programcının en önemli silahlarından biridir. Hatta düzenli ifadeleri öğrendikten sonra onsuz geçen yıllarınıza acıyacaksınız.\n",
    "\n",
    "Şimdi lafı daha fazla uzatmadan işimize koyulalım."
   ]
  },
  {
   "cell_type": "markdown",
   "id": "fb1dd0cc-efb7-48e3-a5e2-ecdc2a736375",
   "metadata": {},
   "source": [
    "++++++++++++++Düzenli İfadelerin Metotları\n",
    "\n",
    "Python’daki düzenli ifadelere ilişkin her şey bir modül içinde tutulur. Bu modülün adı re. Tıpkı os modülünde, sys modülünde, tkinter modülünde ve öteki bütün modüllerde olduğu gibi, düzenli ifadeleri kullanabilmemiz için de öncelikle bu re modülünü içe aktarmamız gerekecek. Bu işlemi nasıl yapacağımızı çok iyi biliyorsunuz:"
   ]
  },
  {
   "cell_type": "code",
   "execution_count": 1,
   "id": "a70544d1-b4b4-41a2-9777-d82e17e98425",
   "metadata": {},
   "outputs": [],
   "source": [
    "import re"
   ]
  },
  {
   "cell_type": "markdown",
   "id": "4c8b80ec-d850-4580-b877-9764f9816bf1",
   "metadata": {},
   "source": [
    "Başta da söylediğimiz gibi, düzenli ifadeler bir programcının en önemli silahlarından biridir. Şu halde silahımızın özelliklerine bakalım. Yani bu yapının bize sunduğu araçları şöyle bir listeleyelim. Etkileşimli kabukta şu kodu yazıyoruz:\n",
    "\n"
   ]
  },
  {
   "cell_type": "code",
   "execution_count": 2,
   "id": "f3614018-e03b-49c0-bb20-fb51e249ab5b",
   "metadata": {},
   "outputs": [
    {
     "data": {
      "text/plain": [
       "['A',\n",
       " 'ASCII',\n",
       " 'DEBUG',\n",
       " 'DOTALL',\n",
       " 'I',\n",
       " 'IGNORECASE',\n",
       " 'L',\n",
       " 'LOCALE',\n",
       " 'M',\n",
       " 'MULTILINE',\n",
       " 'Match',\n",
       " 'Pattern',\n",
       " 'RegexFlag',\n",
       " 'S',\n",
       " 'Scanner',\n",
       " 'T',\n",
       " 'TEMPLATE',\n",
       " 'U',\n",
       " 'UNICODE',\n",
       " 'VERBOSE',\n",
       " 'X',\n",
       " '_MAXCACHE',\n",
       " '__all__',\n",
       " '__builtins__',\n",
       " '__cached__',\n",
       " '__doc__',\n",
       " '__file__',\n",
       " '__loader__',\n",
       " '__name__',\n",
       " '__package__',\n",
       " '__spec__',\n",
       " '__version__',\n",
       " '_cache',\n",
       " '_compile',\n",
       " '_compile_repl',\n",
       " '_expand',\n",
       " '_locale',\n",
       " '_pickle',\n",
       " '_special_chars_map',\n",
       " '_subx',\n",
       " 'compile',\n",
       " 'copyreg',\n",
       " 'enum',\n",
       " 'error',\n",
       " 'escape',\n",
       " 'findall',\n",
       " 'finditer',\n",
       " 'fullmatch',\n",
       " 'functools',\n",
       " 'match',\n",
       " 'purge',\n",
       " 'search',\n",
       " 'split',\n",
       " 'sre_compile',\n",
       " 'sre_parse',\n",
       " 'sub',\n",
       " 'subn',\n",
       " 'template']"
      ]
     },
     "execution_count": 2,
     "metadata": {},
     "output_type": "execute_result"
    }
   ],
   "source": [
    "dir(re)"
   ]
  },
  {
   "cell_type": "markdown",
   "id": "b39a5338-13c5-4406-a87b-109074287009",
   "metadata": {},
   "source": [
    "Tabii yukarıdaki dir(re) komutunu yazmadan önce import re şeklinde modülümüzü içe aktarmış olmamız gerekiyor.\n",
    "\n",
    "Gördüğünüz gibi, re modülü içinde epey metot/fonksiyon var. Biz bu sayfada ve ilerleyen sayfalarda, yukarıdaki metotların/fonksiyonların en sık kullanılanlarını size olabildiğince yalın bir şekilde anlatmaya çalışacağız. Eğer isterseniz, şu komutu kullanarak yukarıdaki metotlar/fonksiyonlar hakkında yardım da alabilirsiniz:"
   ]
  },
  {
   "cell_type": "code",
   "execution_count": null,
   "id": "6e74f1e3-9ca0-4515-acfc-67ac80e32184",
   "metadata": {},
   "outputs": [],
   "source": [
    "help(metot_veya_fonksiyon_adı)"
   ]
  },
  {
   "cell_type": "markdown",
   "id": "602f1e2d-b3ce-4a9a-842e-7ad31269eced",
   "metadata": {},
   "source": [
    "Bir örnek vermek gerekirse:"
   ]
  },
  {
   "cell_type": "code",
   "execution_count": 3,
   "id": "b15f67d9-88da-44d2-abd9-22928d7b142f",
   "metadata": {},
   "outputs": [
    {
     "name": "stdout",
     "output_type": "stream",
     "text": [
      "Help on function match in module re:\n",
      "\n",
      "match(pattern, string, flags=0)\n",
      "    Try to apply the pattern at the start of the string, returning\n",
      "    a Match object, or None if no match was found.\n",
      "\n"
     ]
    }
   ],
   "source": [
    "help(re.match)"
   ]
  },
  {
   "cell_type": "markdown",
   "id": "f85f8a09-4264-45cd-84d2-1752c92e9713",
   "metadata": {},
   "source": [
    "Ne yazık ki, Python’ın yardım dosyaları hep İngilizce. Dolayısıyla eğer İngilizce bilmiyorsanız, bu yardım dosyaları pek işinize yaramayacaktır. Bu arada yukarıdaki yardım bölümünden çıkmak için klavyedeki q düğmesine basmanız gerekir.\n",
    "\n"
   ]
  },
  {
   "cell_type": "markdown",
   "id": "9bbbb187-c930-423c-bc7e-283742cf750a",
   "metadata": {},
   "source": [
    "++++++++++++match() Metodu\n",
    "\n",
    "Bir önceki bölümde metotlar hakkında yardım almaktan bahsederken ilk örneğimizi match() metoduyla vermiştik, o halde match() metodu ile devam edelim.\n",
    "\n",
    "match() metodunu tarif etmek yerine, isterseniz bir örnek yardımıyla bu metodun ne işe yaradığını anlamaya çalışalım. Diyelim ki elimizde şöyle bir karakter dizisi var:"
   ]
  },
  {
   "cell_type": "code",
   "execution_count": 16,
   "id": "e2bd2577-4c6e-4464-916c-81f297fdbad4",
   "metadata": {},
   "outputs": [],
   "source": [
    "a = \"python güçlü bir programlama dilidir.\""
   ]
  },
  {
   "cell_type": "markdown",
   "id": "bb7dd9a3-aab3-4fd1-a254-21bc85e47678",
   "metadata": {},
   "source": [
    "Varsayalım ki biz bu karakter dizisi içinde ‘python’ kelimesi geçip geçmediğini öğrenmek istiyoruz. Ve bunu da düzenli ifadeleri kullanarak yapmak istiyoruz. Düzenli ifadeleri bu örneğe uygulayabilmek için yapmamız gereken şey, öncelikle bir düzenli ifade kalıbı oluşturup, daha sonra bu kalıbı yukarıdaki karakter dizisi ile karşılaştırmak. Biz bütün bu işlemleri match() metodunu kullanarak yapabiliriz:"
   ]
  },
  {
   "cell_type": "code",
   "execution_count": 9,
   "id": "fe63633b-bbe8-4d39-9bd1-1dbb5190bdc5",
   "metadata": {},
   "outputs": [
    {
     "data": {
      "text/plain": [
       "<re.Match object; span=(0, 6), match='python'>"
      ]
     },
     "execution_count": 9,
     "metadata": {},
     "output_type": "execute_result"
    }
   ],
   "source": [
    "re.match(\"python\", a)"
   ]
  },
  {
   "cell_type": "markdown",
   "id": "43630320-aa0f-4c15-8c3d-e8c5fed48ece",
   "metadata": {},
   "source": [
    "Burada, ‘python’ şeklinde bir düzenli ifade kalıbı oluşturduk. Düzenli ifade kalıpları match() metodunun ilk argümanıdır (yani parantez içindeki ilk değer). İkinci argümanımız ise (yani parantez içindeki ikinci değer), hazırladığımız kalıbı kendisiyle eşleştireceğimiz karakter dizisi olacaktır.\n",
    "\n",
    "Klavyede ENTER tuşuna bastıktan sonra karşımıza şöyle bir çıktı gelecek:\n",
    "\n"
   ]
  },
  {
   "cell_type": "code",
   "execution_count": 10,
   "id": "108996c1-4d35-4f05-a518-7e5ee839d65f",
   "metadata": {},
   "outputs": [
    {
     "ename": "SyntaxError",
     "evalue": "invalid syntax (837930394.py, line 1)",
     "output_type": "error",
     "traceback": [
      "\u001b[0;36m  Cell \u001b[0;32mIn[10], line 1\u001b[0;36m\u001b[0m\n\u001b[0;31m    <_sre.SRE_Match object; span=(0, 6), match='python'>\u001b[0m\n\u001b[0m    ^\u001b[0m\n\u001b[0;31mSyntaxError\u001b[0m\u001b[0;31m:\u001b[0m invalid syntax\n"
     ]
    }
   ],
   "source": [
    "<_sre.SRE_Match object; span=(0, 6), match='python'>"
   ]
  },
  {
   "cell_type": "markdown",
   "id": "e4910441-210e-4a02-8660-ce15bed3f131",
   "metadata": {},
   "source": [
    "Bu çıktı, düzenli ifade kalıbının karakter dizisi ile eşleştiği anlamına geliyor. Yani aradığımız şey, karakter dizisi içinde bulunmuş.\n",
    "\n",
    "Yukarıdaki çıktıda gördüğümüz ifadeye Python’cada eşleşme nesnesi (match object) adı veriliyor. Çünkü match() metodu yardımıyla yaptığımız şey aslında bir eşleştirme işlemidir (match kelimesi İngilizcede ‘eşleşmek’ anlamına gelir). Biz burada ‘python’ düzenli ifadesinin a değişkeniyle eşleşip eşleşmediğine bakıyoruz. Yani re.match(\"python\", a) ifadesi aracılığıyla ‘python’ ifadesi ile a değişkeninin tuttuğu karakter dizisinin eşleşip eşleşmediğini sorguluyoruz. Bizim örneğimizde ‘python’ a değişkeninin tuttuğu karakter dizisi ile eşleştiği için bize bir eşleşme nesnesi döndürülüyor.\n",
    "\n",
    "Bu çıktı, düzenli ifade kalıbının karakter dizisi ile eşleştiğini bildirmenin yanı sıra, bize başka birtakım bilgiler daha veriyor. Mesela bu çıktıdaki span parametresi, aradığımız ‘python’ karakter dizisinin, a değişkeninin 0. ila 6. karakterleri arasında yer aldığını söylüyor bize. Yani:"
   ]
  },
  {
   "cell_type": "code",
   "execution_count": 11,
   "id": "e147f699-9b69-406a-b046-07bf0e30780d",
   "metadata": {},
   "outputs": [
    {
     "data": {
      "text/plain": [
       "'python'"
      ]
     },
     "execution_count": 11,
     "metadata": {},
     "output_type": "execute_result"
    }
   ],
   "source": [
    "a[0:6]"
   ]
  },
  {
   "cell_type": "markdown",
   "id": "a1292690-6a54-452e-9ff8-b253ae2edc7e",
   "metadata": {},
   "source": [
    "Ayrıca yukarıdaki çıktıda gördüğümüz match parametresi de bize eşleşen ifadenin ‘python’ olduğu bilgisini veriyor.\n",
    "\n",
    "Bir de şu örneğe bakalım:\n",
    "\n"
   ]
  },
  {
   "cell_type": "code",
   "execution_count": 12,
   "id": "6b663a42-a313-49c5-91b3-62170d1d68d6",
   "metadata": {},
   "outputs": [],
   "source": [
    "re.match(\"Java\", a)"
   ]
  },
  {
   "cell_type": "markdown",
   "id": "edb1b331-458d-4d75-9f29-52099296078c",
   "metadata": {},
   "source": [
    "Burada ENTER tuşuna bastığımızda hiç bir çıktı almıyoruz. Aslında biz görmesek de Python burada “None” çıktısı veriyor. Eğer yukarıdaki komutu şöyle yazarsak “None” çıktısını biz de görebiliriz:\n",
    "\n"
   ]
  },
  {
   "cell_type": "code",
   "execution_count": 13,
   "id": "c2cd5e93-e71d-4aa3-850b-c4d0e1d8e714",
   "metadata": {},
   "outputs": [
    {
     "name": "stdout",
     "output_type": "stream",
     "text": [
      "None\n"
     ]
    }
   ],
   "source": [
    "print(re.match(\"Java\", a))\n"
   ]
  },
  {
   "cell_type": "markdown",
   "id": "b00eaa75-f5b2-4ff9-a833-9ca33e2b9060",
   "metadata": {},
   "source": [
    "Gördüğünüz gibi, ENTER tuşuna bastıktan sonra “None” çıktısı geldi. Demek ki “Java” ifadesi, “a” değişkeninin tuttuğu karakter dizisi ile eşleşmiyormuş. Buradan çıkardığımız sonuca göre, Python match() metodu yardımıyla aradığımız şeyi eşleştirdiği zaman bir eşleşme nesnesi (match object) döndürüyor. Eğer eşleşme yoksa, o zaman da “None” değerini döndürüyor.\n",
    "\n",
    "Biraz kafa karıştırmak için şöyle bir örnek verelim:\n",
    "\n"
   ]
  },
  {
   "cell_type": "code",
   "execution_count": 14,
   "id": "52144e72-ed28-4ff1-9e1b-cee194ebb6d8",
   "metadata": {},
   "outputs": [],
   "source": [
    "a = \"Python güçlü bir dildir\"\n",
    "re.match(\"güçlü\", a)"
   ]
  },
  {
   "cell_type": "markdown",
   "id": "a905c9dc-35f2-4094-ab8c-9493d0fac04f",
   "metadata": {},
   "source": [
    "Burada “a” değişkeninde “güçlü” ifadesi geçtiği halde match() metodu bize bir eşleşme nesnesi döndürmedi. Peki ama neden?\n",
    "\n",
    "Aslında bu gayet normal. Çünkü match() metodu bir karakter dizisinin sadece en başına bakar. Yani “Python güçlü bir dildir” ifadesini tutan a değişkenine re.match(“güçlü”, a) gibi bir fonksiyon uyguladığımızda, match() metodu a değişkeninin yalnızca en başına bakacağı ve a değişkeninin en başında “güçlü” yerine “python” olduğu için, match() metodu bize olumsuz yanıt veriyor.\n",
    "\n",
    "Aslında match() metodunun yaptığı bu işi, karakter dizilerinin split() metodu yardımıyla da yapabiliriz:"
   ]
  },
  {
   "cell_type": "code",
   "execution_count": 17,
   "id": "30fdd24d-3bd9-4342-832b-052b5b2d2723",
   "metadata": {},
   "outputs": [
    {
     "data": {
      "text/plain": [
       "True"
      ]
     },
     "execution_count": 17,
     "metadata": {},
     "output_type": "execute_result"
    }
   ],
   "source": [
    "a.split()[0] == \"python\""
   ]
  },
  {
   "cell_type": "markdown",
   "id": "2c0a8633-a4f3-4502-b9cf-e6ea096571ce",
   "metadata": {},
   "source": [
    "Demek ki a değişkeninin en başında “python” ifadesi varmış. Bir de şuna bakalım:"
   ]
  },
  {
   "cell_type": "code",
   "execution_count": 18,
   "id": "2584caec-922f-408f-858a-19e205a16349",
   "metadata": {},
   "outputs": [
    {
     "data": {
      "text/plain": [
       "False"
      ]
     },
     "execution_count": 18,
     "metadata": {},
     "output_type": "execute_result"
    }
   ],
   "source": [
    "a.split()[0] == \"güçlü\""
   ]
  },
  {
   "cell_type": "markdown",
   "id": "bc43b9f0-6ec7-4ecb-85bf-32c69a8600dc",
   "metadata": {},
   "source": [
    "Veya aynı işi sadece startswith() metodunu kullanarak dahi yapabiliriz:"
   ]
  },
  {
   "cell_type": "code",
   "execution_count": 19,
   "id": "537a0fa9-e922-4991-add2-0797bc2d433b",
   "metadata": {},
   "outputs": [
    {
     "data": {
      "text/plain": [
       "True"
      ]
     },
     "execution_count": 19,
     "metadata": {},
     "output_type": "execute_result"
    }
   ],
   "source": [
    "a.startswith(\"python\")"
   ]
  },
  {
   "cell_type": "markdown",
   "id": "9c2c8ac3-d1da-4a9d-ab4f-e291254f1329",
   "metadata": {},
   "source": [
    "Eğer düzenli ifadelerden tek beklentiniz bir karakter dizisinin en başındaki veriyle eşleştirme işlemi yapmaksa, split() veya startswith() metotlarını kullanmak daha mantıklıdır. Çünkü split() ve startswith() metotları match() metodundan çok daha hızlı çalışacaktır.\n",
    "\n",
    "match() metodunu kullanarak birkaç örnek daha yapalım:\n",
    "\n"
   ]
  },
  {
   "cell_type": "code",
   "execution_count": 20,
   "id": "8c4ab83a-650e-4d58-8b93-614d81426328",
   "metadata": {},
   "outputs": [
    {
     "data": {
      "text/plain": [
       "<re.Match object; span=(0, 1), match='1'>"
      ]
     },
     "execution_count": 20,
     "metadata": {},
     "output_type": "execute_result"
    }
   ],
   "source": [
    "sorgu = \"1234567890\"\n",
    "re.match(\"1\", sorgu)"
   ]
  },
  {
   "cell_type": "code",
   "execution_count": 21,
   "id": "ffae8f4a-603d-426e-8c8f-fe76edd35926",
   "metadata": {},
   "outputs": [
    {
     "data": {
      "text/plain": [
       "<re.Match object; span=(0, 4), match='1234'>"
      ]
     },
     "execution_count": 21,
     "metadata": {},
     "output_type": "execute_result"
    }
   ],
   "source": [
    "re.match(\"1234\", sorgu)"
   ]
  },
  {
   "cell_type": "code",
   "execution_count": 22,
   "id": "4b1a1a4c-a60c-4de2-a906-e29c3cc7245a",
   "metadata": {},
   "outputs": [],
   "source": [
    "re.match(\"124\", sorgu)"
   ]
  },
  {
   "cell_type": "markdown",
   "id": "d5cf2858-2720-4783-b8ca-a2d593355713",
   "metadata": {},
   "source": [
    "İsterseniz şimdiye kadar öğrendiğimiz şeyleri şöyle bir gözden geçirelim:\n",
    "\n",
    "Düzenli ifadeler Python’ın çok güçlü araçlarından biridir.\n",
    "\n",
    "Python’daki düzenli ifadelere ilişkin bütün fonksiyonlar re adlı bir modül içinde yer alır.\n",
    "\n",
    "Dolayısıyla düzenli ifadeleri kullanabilmek için öncelikle bu re modülünü import re diyerek içe aktarmamız gerekir.\n",
    "\n",
    "re modülünün içeriğini dir(re) komutu yardımıyla listeleyebiliriz.\n",
    "\n",
    "match() metodu re modülü içindeki fonksiyonlardan biridir.\n",
    "\n",
    "match() metodu bir karakter dizisinin yalnızca en başına bakar.\n",
    "\n",
    "Eğer aradığımız şey karakter dizisinin en başında yer alıyorsa, match() metodu bir eşleştirme nesnesi döndürür.\n",
    "\n",
    "Eğer aradığımız şey karakter dizisinin en başında yer almıyorsa, match() metodu “None” değeri döndürür.\n",
    "\n",
    "Daha önce söylediğimiz gibi, match() metodu ile bir eşleştirme işlemi yaptığımızda, eğer eşleşme varsa Python bize bir eşleşme nesnesi döndürecektir. Döndürülen bu eşleşme nesnesi bize span ve match parametreleri aracılığıyla, eşleşen karakter dizisinin sorgu dizisi içindeki yerini ve eşleşen dizinin ne olduğu söylüyor. span parametresinin değerine span() adlı bir metot yardımıyla erişebiliyoruz. Örneğin:\n",
    "\n"
   ]
  },
  {
   "cell_type": "code",
   "execution_count": 23,
   "id": "66080188-5218-4d0b-ba26-3a82baaf0e2b",
   "metadata": {},
   "outputs": [
    {
     "data": {
      "text/plain": [
       "<re.Match object; span=(0, 3), match='Bin'>"
      ]
     },
     "execution_count": 23,
     "metadata": {},
     "output_type": "execute_result"
    }
   ],
   "source": [
    "import re\n",
    "sorgu = 'Bin kunduz'\n",
    "eşleşme = re.match('Bin', sorgu)\n",
    "eşleşme"
   ]
  },
  {
   "cell_type": "code",
   "execution_count": 24,
   "id": "d7f8d5d6-241a-4ce4-b1fb-6a94024db2a8",
   "metadata": {},
   "outputs": [
    {
     "data": {
      "text/plain": [
       "(0, 3)"
      ]
     },
     "execution_count": 24,
     "metadata": {},
     "output_type": "execute_result"
    }
   ],
   "source": [
    "eşleşme.span()"
   ]
  },
  {
   "cell_type": "markdown",
   "id": "0a739e71-5da2-4bb2-8828-84e36b4436b0",
   "metadata": {},
   "source": [
    "Ancak, match() metodu ile bulunan şeyin ne olduğunu eşleşme nesnesinin match parametresine bakarak görebilsek de, bu değeri bir kod yardımıyla alamıyoruz. Çünkü eşleşme nesnelerinin span() metoduna benzeyen bir match() metodu bulunmaz.\n",
    "\n",
    "Ama istersek tabii ki bulunan şeyi de programatik olarak alma imkânımız var. Bunun için group() adlı bir başka metottan yararlanacağız:"
   ]
  },
  {
   "cell_type": "code",
   "execution_count": 27,
   "id": "95fec63f-a6b1-451b-aafc-5553db83e37a",
   "metadata": {},
   "outputs": [
    {
     "data": {
      "text/plain": [
       "'perl'"
      ]
     },
     "execution_count": 27,
     "metadata": {},
     "output_type": "execute_result"
    }
   ],
   "source": [
    "kardiz = \"perl, python ve ruby yüksek seviyeli dillerdir.\"\n",
    "eşleşme = re.match(\"perl\", kardiz)\n",
    "eşleşme.group()\n"
   ]
  },
  {
   "cell_type": "markdown",
   "id": "e0aad27f-0966-417e-9e2c-fc86c241a6e2",
   "metadata": {},
   "source": [
    "Burada, re.match(\"perl\", kardiz) komutunu bir değişkene atadık. Hatırlarsanız, bu fonksiyonu komut satırına yazdığımızda bir eşleşme nesnesi elde ediyorduk. İşte burada değişkene atadığımız şey aslında bu eşleşme nesnesinin kendisi oluyor. Bu durumu şu şekilde teyit edebilirsiniz:"
   ]
  },
  {
   "cell_type": "code",
   "execution_count": 28,
   "id": "0d659b3f-57c0-40c6-807b-9425c2b9c19d",
   "metadata": {},
   "outputs": [
    {
     "data": {
      "text/plain": [
       "re.Match"
      ]
     },
     "execution_count": 28,
     "metadata": {},
     "output_type": "execute_result"
    }
   ],
   "source": [
    "type(eşleşme)"
   ]
  },
  {
   "cell_type": "markdown",
   "id": "43b40813-9a7d-4d16-844f-5b1852395861",
   "metadata": {},
   "source": [
    "Gördüğünüz gibi, eşleşme değişkeninin tipi bir eşleşme nesnesi (match object). İsterseniz bu nesnenin metotlarına bir göz gezdirebiliriz:"
   ]
  },
  {
   "cell_type": "code",
   "execution_count": 29,
   "id": "424571b5-e459-4e24-a736-804c52043c0f",
   "metadata": {},
   "outputs": [
    {
     "data": {
      "text/plain": [
       "['__class__',\n",
       " '__class_getitem__',\n",
       " '__copy__',\n",
       " '__deepcopy__',\n",
       " '__delattr__',\n",
       " '__dir__',\n",
       " '__doc__',\n",
       " '__eq__',\n",
       " '__format__',\n",
       " '__ge__',\n",
       " '__getattribute__',\n",
       " '__getitem__',\n",
       " '__gt__',\n",
       " '__hash__',\n",
       " '__init__',\n",
       " '__init_subclass__',\n",
       " '__le__',\n",
       " '__lt__',\n",
       " '__module__',\n",
       " '__ne__',\n",
       " '__new__',\n",
       " '__reduce__',\n",
       " '__reduce_ex__',\n",
       " '__repr__',\n",
       " '__setattr__',\n",
       " '__sizeof__',\n",
       " '__str__',\n",
       " '__subclasshook__',\n",
       " 'end',\n",
       " 'endpos',\n",
       " 'expand',\n",
       " 'group',\n",
       " 'groupdict',\n",
       " 'groups',\n",
       " 'lastgroup',\n",
       " 'lastindex',\n",
       " 'pos',\n",
       " 're',\n",
       " 'regs',\n",
       " 'span',\n",
       " 'start',\n",
       " 'string']"
      ]
     },
     "execution_count": 29,
     "metadata": {},
     "output_type": "execute_result"
    }
   ],
   "source": [
    "dir(eşleşme)"
   ]
  },
  {
   "cell_type": "markdown",
   "id": "d0d35ee3-43e6-4b69-a5cc-e16952fdb5fc",
   "metadata": {},
   "source": [
    "Dikkat ederseniz yukarıda kullandığımız group() metodu listede görünüyor. Bu metot, doğrudan doğruya düzenli ifadelerin değil, eşleşme nesnelerinin bir metodudur. Listedeki öbür metotları da sırası geldiğinde inceleyeceğiz. Şimdi isterseniz bir örnek daha yapıp bu konuyu kapatalım:"
   ]
  },
  {
   "cell_type": "code",
   "execution_count": 30,
   "id": "329890b4-9ec6-4b04-9f2f-7d3b1542942e",
   "metadata": {},
   "outputs": [
    {
     "data": {
      "text/plain": [
       "'Adana'"
      ]
     },
     "execution_count": 30,
     "metadata": {},
     "output_type": "execute_result"
    }
   ],
   "source": [
    "iddia = \"Adana memleketlerin en güzelidir!\"\n",
    "nesne = re.match(\"Adana\", iddia)\n",
    "nesne.group()"
   ]
  },
  {
   "cell_type": "markdown",
   "id": "a27e1ea8-8588-4f4a-9903-498372eadc70",
   "metadata": {},
   "source": [
    "Peki, eşleştirmek istediğimiz düzenli ifade kalıbı bulunamazsa ne olur? Öyle bir durumda yukarıdaki kodlar hata verecektir. Hemen bakalım:"
   ]
  },
  {
   "cell_type": "code",
   "execution_count": 31,
   "id": "f445da77-617b-4903-9c52-fcf8ec9e7790",
   "metadata": {},
   "outputs": [
    {
     "ename": "AttributeError",
     "evalue": "'NoneType' object has no attribute 'group'",
     "output_type": "error",
     "traceback": [
      "\u001b[0;31m---------------------------------------------------------------------------\u001b[0m",
      "\u001b[0;31mAttributeError\u001b[0m                            Traceback (most recent call last)",
      "Cell \u001b[0;32mIn[31], line 2\u001b[0m\n\u001b[1;32m      1\u001b[0m nesne \u001b[38;5;241m=\u001b[39m re\u001b[38;5;241m.\u001b[39mmatch(\u001b[38;5;124m\"\u001b[39m\u001b[38;5;124mİstanbul\u001b[39m\u001b[38;5;124m\"\u001b[39m, iddia)\n\u001b[0;32m----> 2\u001b[0m \u001b[43mnesne\u001b[49m\u001b[38;5;241;43m.\u001b[39;49m\u001b[43mgroup\u001b[49m()\n",
      "\u001b[0;31mAttributeError\u001b[0m: 'NoneType' object has no attribute 'group'"
     ]
    }
   ],
   "source": [
    "nesne = re.match(\"İstanbul\", iddia)\n",
    "nesne.group()"
   ]
  },
  {
   "cell_type": "markdown",
   "id": "cf965373-2198-4160-867b-6450319a3183",
   "metadata": {},
   "source": [
    "Böyle bir hata, yazdığınız bir programın çökmesine neden olabilir. O yüzden kodlarımızı şuna benzer bir şekilde yazmamız daha mantıklı olacaktır:\n",
    "\n"
   ]
  },
  {
   "cell_type": "code",
   "execution_count": 32,
   "id": "4ae52c38-526f-4134-8386-2741ba78c475",
   "metadata": {},
   "outputs": [
    {
     "name": "stdout",
     "output_type": "stream",
     "text": [
      "eşleşme başarısız!\n"
     ]
    }
   ],
   "source": [
    "nesne = re.match(\"İstanbul\", iddia)\n",
    "if nesne:\n",
    "    print(\"eşleşen ifade:\", nesne.group())\n",
    "else:\n",
    "    print(\"eşleşme başarısız!\")"
   ]
  },
  {
   "cell_type": "markdown",
   "id": "5c80813e-cb61-4899-b6c6-4e902b84a62e",
   "metadata": {},
   "source": [
    "Şimdi isterseniz bu match() metoduna bir ara verip başka bir metodu inceleyelim.\n",
    "\n"
   ]
  },
  {
   "cell_type": "markdown",
   "id": "86a0d050-f246-44b5-a8ae-b228bbf5fc37",
   "metadata": {},
   "source": [
    "+++++++++++search() Metodu\n",
    "\n",
    "Bir önceki bölümde incelediğimiz match() metodu, karakter dizilerinin sadece en başına bakıyordu. Ama istediğimiz şey tabii ki her zaman bununla sınırlı olmayacaktır. match() metodunun, karakter dizilerinin sadece başına bakmasını engellemenin yolları olmakla birlikte, bizim işimizi görecek çok daha kullanışlı bir metodu vardır düzenli ifadelerin. Önceki bölümde dir(re) şeklinde gösterdiğimiz listeye tekrar bakarsanız, orada re modülünün search() adlı bir metodu olduğunu göreceksiniz. İşte bu yazımızda inceleyeceğimiz metot bu search() metodu olacaktır.\n",
    "\n",
    "search() metodu ile match() metodu arasında çok önemli bir fark vardır. match() metodu bir karakter dizisinin en başına bakıp bir eşleştirme işlemi yaparken, search() metodu karakter dizisinin genelinde bir arama işlemi yapar. Yani biri eşleştirir, öbürü arar.\n",
    "\n",
    "Hatırlarsanız, match() metodunu anlatırken şöyle bir örnek vermiştik:"
   ]
  },
  {
   "cell_type": "code",
   "execution_count": 33,
   "id": "83b77025-5581-496b-b1a5-d9cc19108d56",
   "metadata": {},
   "outputs": [],
   "source": [
    "a = \"Python güçlü bir dildir\"\n",
    "re.match(\"güçlü\", a)"
   ]
  },
  {
   "cell_type": "markdown",
   "id": "b01c0f8a-50f0-4da7-aae3-0c99c8188d3b",
   "metadata": {},
   "source": [
    "Yukarıdaki kod, karakter dizisinin başında bir eşleşme bulamadığı için bize None değeri döndürüyordu. Ama eğer aynı işlemi şöyle yaparsak, daha farklı bir sonuç elde ederiz:"
   ]
  },
  {
   "cell_type": "code",
   "execution_count": 34,
   "id": "8ab0bdcd-219d-4019-878c-06332b9d8206",
   "metadata": {},
   "outputs": [
    {
     "data": {
      "text/plain": [
       "<re.Match object; span=(7, 12), match='güçlü'>"
      ]
     },
     "execution_count": 34,
     "metadata": {},
     "output_type": "execute_result"
    }
   ],
   "source": [
    "a = \"Python güçlü bir dildir\"\n",
    "re.search(\"güçlü\", a)\n"
   ]
  },
  {
   "cell_type": "markdown",
   "id": "bf28c43e-e17f-41d3-a7bc-bf14cbea0c38",
   "metadata": {},
   "source": [
    "Gördüğünüz gibi, search() metodu “güçlü” kelimesini buldu. Çünkü search() metodu, match() metodunun aksine, bir karakter dizisinin sadece baş tarafına bakmakla yetinmiyor, karakter dizisinin geneli üzerinde bir arama işlemi gerçekleştiriyor.\n",
    "\n",
    "Tıpkı match() metodunda olduğu gibi, search() metodunda da span() ve group() metotlarından faydalanarak bulunan şeyin hangi aralıkta olduğunu ve bu şeyin ne olduğunu görüntüleyebiliriz:"
   ]
  },
  {
   "cell_type": "code",
   "execution_count": 35,
   "id": "72c23f43-8627-4342-a9d3-7c2d40caf2e2",
   "metadata": {},
   "outputs": [
    {
     "data": {
      "text/plain": [
       "(7, 12)"
      ]
     },
     "execution_count": 35,
     "metadata": {},
     "output_type": "execute_result"
    }
   ],
   "source": [
    "kardiz = \"Python güçlü bir dildir\"\n",
    "nesne = re.search(\"güçlü\", kardiz)\n",
    "nesne.span()"
   ]
  },
  {
   "cell_type": "code",
   "execution_count": 36,
   "id": "a3e5162c-8f63-49c0-b47d-36060a8fafd5",
   "metadata": {},
   "outputs": [
    {
     "data": {
      "text/plain": [
       "'güçlü'"
      ]
     },
     "execution_count": 36,
     "metadata": {},
     "output_type": "execute_result"
    }
   ],
   "source": [
    "nesne.group()"
   ]
  },
  {
   "cell_type": "markdown",
   "id": "0c5a11c2-e5c1-4039-b4de-a6e6e86010b2",
   "metadata": {},
   "source": [
    "Şimdiye kadar hep karakter dizileri üzerinde çalıştık. İsterseniz biraz da listeler üzerinde örnekler verelim.\n",
    "\n",
    "Şöyle bir listemiz olsun:"
   ]
  },
  {
   "cell_type": "code",
   "execution_count": 37,
   "id": "93d85ac0-ca57-4bb3-a0f3-7830bc6ecbfc",
   "metadata": {},
   "outputs": [
    {
     "ename": "TypeError",
     "evalue": "expected string or bytes-like object",
     "output_type": "error",
     "traceback": [
      "\u001b[0;31m---------------------------------------------------------------------------\u001b[0m",
      "\u001b[0;31mTypeError\u001b[0m                                 Traceback (most recent call last)",
      "Cell \u001b[0;32mIn[37], line 2\u001b[0m\n\u001b[1;32m      1\u001b[0m liste \u001b[38;5;241m=\u001b[39m [\u001b[38;5;124m\"\u001b[39m\u001b[38;5;124melma\u001b[39m\u001b[38;5;124m\"\u001b[39m, \u001b[38;5;124m\"\u001b[39m\u001b[38;5;124marmut\u001b[39m\u001b[38;5;124m\"\u001b[39m, \u001b[38;5;124m\"\u001b[39m\u001b[38;5;124mkebap\u001b[39m\u001b[38;5;124m\"\u001b[39m]\n\u001b[0;32m----> 2\u001b[0m \u001b[43mre\u001b[49m\u001b[38;5;241;43m.\u001b[39;49m\u001b[43msearch\u001b[49m\u001b[43m(\u001b[49m\u001b[38;5;124;43m\"\u001b[39;49m\u001b[38;5;124;43mkebap\u001b[39;49m\u001b[38;5;124;43m\"\u001b[39;49m\u001b[43m,\u001b[49m\u001b[43m \u001b[49m\u001b[43mliste\u001b[49m\u001b[43m)\u001b[49m\n",
      "File \u001b[0;32m/usr/lib/python3.10/re.py:200\u001b[0m, in \u001b[0;36msearch\u001b[0;34m(pattern, string, flags)\u001b[0m\n\u001b[1;32m    197\u001b[0m \u001b[38;5;28;01mdef\u001b[39;00m\u001b[38;5;250m \u001b[39m\u001b[38;5;21msearch\u001b[39m(pattern, string, flags\u001b[38;5;241m=\u001b[39m\u001b[38;5;241m0\u001b[39m):\n\u001b[1;32m    198\u001b[0m \u001b[38;5;250m    \u001b[39m\u001b[38;5;124;03m\"\"\"Scan through string looking for a match to the pattern, returning\u001b[39;00m\n\u001b[1;32m    199\u001b[0m \u001b[38;5;124;03m    a Match object, or None if no match was found.\"\"\"\u001b[39;00m\n\u001b[0;32m--> 200\u001b[0m     \u001b[38;5;28;01mreturn\u001b[39;00m \u001b[43m_compile\u001b[49m\u001b[43m(\u001b[49m\u001b[43mpattern\u001b[49m\u001b[43m,\u001b[49m\u001b[43m \u001b[49m\u001b[43mflags\u001b[49m\u001b[43m)\u001b[49m\u001b[38;5;241;43m.\u001b[39;49m\u001b[43msearch\u001b[49m\u001b[43m(\u001b[49m\u001b[43mstring\u001b[49m\u001b[43m)\u001b[49m\n",
      "\u001b[0;31mTypeError\u001b[0m: expected string or bytes-like object"
     ]
    }
   ],
   "source": [
    "liste = [\"elma\", \"armut\", \"kebap\"]\n",
    "re.search(\"kebap\", liste)"
   ]
  },
  {
   "cell_type": "markdown",
   "id": "c83a22b3-6b2f-4cf2-a2a1-2786ea9f1229",
   "metadata": {},
   "source": [
    "Ne oldu? Hata aldınız, değil mi? Bu normal. Çünkü düzenli ifadeler karakter dizileri üzerinde işler. Bunlar doğrudan listeler üzerinde işlem yapamaz. O yüzden bizim Python’a biraz yardımcı olmamız gerekiyor:"
   ]
  },
  {
   "cell_type": "code",
   "execution_count": 38,
   "id": "95b020e2-3c73-445f-9ca3-be10416df630",
   "metadata": {},
   "outputs": [
    {
     "name": "stdout",
     "output_type": "stream",
     "text": [
      "kebap\n"
     ]
    }
   ],
   "source": [
    "for i in liste:\n",
    "    nesne = re.search(\"kebap\", i)\n",
    "    if nesne:\n",
    "        print(nesne.group())"
   ]
  },
  {
   "cell_type": "markdown",
   "id": "26c1ef89-8789-4a06-8dbc-1fc1bf6c7f76",
   "metadata": {},
   "source": [
    "Hatta şimdiye kadar öğrendiklerimizle daha karmaşık bir şeyler de yapabiliriz:"
   ]
  },
  {
   "cell_type": "code",
   "execution_count": 39,
   "id": "fbca2d44-3777-4d4a-b8d9-834f5c608f73",
   "metadata": {},
   "outputs": [
    {
     "name": "stdout",
     "output_type": "stream",
     "text": [
      "b'programlama'\n",
      "b'programlama'\n",
      "b'programlama'\n",
      "b'programlama'\n",
      "b'programlama'\n",
      "b'programlama'\n",
      "b'programlama'\n",
      "b'programlama'\n",
      "b'programlama'\n",
      "b'programlama'\n",
      "b'programlama'\n",
      "b'programlama'\n",
      "b'programlama'\n",
      "b'programlama'\n",
      "b'programlama'\n",
      "b'programlama'\n",
      "b'programlama'\n",
      "b'programlama'\n",
      "b'programlama'\n",
      "b'programlama'\n",
      "b'programlama'\n",
      "b'programlama'\n",
      "b'programlama'\n",
      "b'programlama'\n",
      "b'programlama'\n",
      "b'programlama'\n",
      "b'programlama'\n",
      "b'programlama'\n",
      "b'programlama'\n",
      "b'programlama'\n",
      "b'programlama'\n",
      "b'programlama'\n",
      "b'programlama'\n",
      "b'programlama'\n",
      "b'programlama'\n",
      "b'programlama'\n",
      "b'programlama'\n",
      "b'programlama'\n",
      "b'programlama'\n",
      "b'programlama'\n",
      "b'programlama'\n",
      "b'programlama'\n",
      "b'programlama'\n",
      "b'programlama'\n",
      "b'programlama'\n",
      "b'programlama'\n",
      "b'programlama'\n",
      "b'programlama'\n",
      "b'programlama'\n"
     ]
    }
   ],
   "source": [
    "import re\n",
    "from urllib.request import urlopen\n",
    "f = urlopen(\"https://python-istihza.yazbel.com/\")\n",
    "for i in f:\n",
    "    nesne = re.search(b'programlama', i)\n",
    "    if nesne:\n",
    "            print(nesne.group())"
   ]
  },
  {
   "cell_type": "markdown",
   "id": "02e3c919-e1be-4e84-ae97-b04a0307e478",
   "metadata": {},
   "source": [
    "Gördüğünüz gibi, python-istihza.yazbel.com sayfasında kaç adet “programlama” kelimesi geçiyorsa hepsi ekrana dökülüyor.\n",
    "\n",
    "Bu arada, web sitesinde arama işlemi gerçekleştirirken urllib paketinin içindeki request modülünün urlopen() adlı fonksiyonunu kullandığımıza dikkat edin. Ayrıca search() metoduna parametre olarak bir karakter dizisi değil, bayt dizisi verdiğimizi de gözden kaçırmayın:"
   ]
  },
  {
   "cell_type": "code",
   "execution_count": null,
   "id": "2a60d27d-c8e4-45e1-aa49-6e3d68d18633",
   "metadata": {},
   "outputs": [],
   "source": [
    "re.search(b'programlama', i)"
   ]
  },
  {
   "cell_type": "markdown",
   "id": "3598a5df-517b-414a-9c91-492aa67660ee",
   "metadata": {},
   "source": [
    "Siz isterseniz bu kodları biraz daha geliştirebilirsiniz:"
   ]
  },
  {
   "cell_type": "code",
   "execution_count": null,
   "id": "cae196f4-3e1e-48bc-9d8f-c8b483fa6ae8",
   "metadata": {},
   "outputs": [],
   "source": [
    "import re\n",
    "from urllib.request import urlopen\n",
    "\n",
    "kelime = input(\"python-istihza.yazbel.com'da aramak istediğiniz kelime: \")\n",
    "\n",
    "f = urlopen(\"https://python-istihza.yazbel.com/\")\n",
    "data = str(f.read())\n",
    "\n",
    "nesne = re.search(kelime, data)\n",
    "\n",
    "if nesne:\n",
    "    print(\"kelime bulundu:\", nesne.group())\n",
    "else:\n",
    "    print(\"kelime bulunamadı!:\", kelime)"
   ]
  },
  {
   "cell_type": "markdown",
   "id": "77e3ab5e-f765-4fac-93ed-68322771cb9a",
   "metadata": {},
   "source": [
    "Burada, kullanıcıdan aldığımız kelimeyi search() metoduna göndermeden önce, siteden okuduğumuz verileri str() metodu yardımıyla karakter dizisine dönüştürdüğümüze dikkat edin. Böylece kullanıcıdan gelen karakter dizisini bayt dizisine çevirmemize gerek kalmadı.\n",
    "\n",
    "İlerde bilgimiz artınca daha yetkin kodlar yazabilecek duruma geleceğiz. Ama şimdilik elimizde olanlar ancak yukarıdaki kodu yazmamıza müsaade ediyor. Unutmayın, düzenli ifadeler sahasında ısınma turları atıyoruz daha…\n",
    "\n",
    "+++++++++++findall() Metodu\n",
    "\n",
    "Python komut satırında, yani etkileşimli kabukta, dir(re) yazdığımız zaman aldığımız listeye tekrar bakarsak orada bir de findall() adlı bir metodun olduğunu görürüz. İşte bu bölümde findall() adlı bu önemli metodu incelemeye çalışacağız.\n",
    "\n",
    "Önce şöyle bir metin alalım elimize:"
   ]
  },
  {
   "cell_type": "code",
   "execution_count": 40,
   "id": "3676c3e9-cf9b-4fa9-9916-b495f62bf730",
   "metadata": {},
   "outputs": [],
   "source": [
    "metin = \"\"\"Guido Van Rossum Python'ı geliştirmeye 1990 yılında başlamış... Yani\n",
    "aslında Python için nispeten yeni bir dil denebilir. Ancak Python'un çok uzun\n",
    "bir geçmişi olmasa da, bu dil öteki dillere kıyasla kolay olması, hızlı olması,\n",
    "ayrı bir derleyici programa ihtiyaç duymaması ve bunun gibi pek çok nedenden\n",
    "ötürü çoğu kimsenin gözdesi haline gelmiştir. Ayrıca Google'ın da Python'a özel\n",
    "bir önem ve değer verdiğini, çok iyi derecede Python bilenlere iş olanağı\n",
    "sunduğunu da hemen söyleyelim. Mesela bundan kısa bir süre önce Python'ın\n",
    "yaratıcısı Guido Van Rossum Google'de işe başladı...\"\"\""
   ]
  },
  {
   "cell_type": "markdown",
   "id": "af018df7-5fbb-4b21-8e7f-0acfd2a96829",
   "metadata": {},
   "source": [
    "Bu metin içinde geçen bütün “Python” kelimelerini bulmak istiyoruz:"
   ]
  },
  {
   "cell_type": "code",
   "execution_count": 42,
   "id": "60406843-6195-43a2-8118-bbe3c9d94523",
   "metadata": {},
   "outputs": [
    {
     "name": "stdout",
     "output_type": "stream",
     "text": [
      "['Python', 'Python', 'Python', 'Python', 'Python', 'Python']\n"
     ]
    }
   ],
   "source": [
    "print(re.findall(\"Python\", metin))"
   ]
  },
  {
   "cell_type": "markdown",
   "id": "c5502270-3c2d-4e62-8cce-f580d16a19b4",
   "metadata": {},
   "source": [
    "Gördüğünüz gibi, metinde geçen bütün “Python” kelimelerini bir çırpıda liste olarak aldık. Aynı işlemi search() metodunu kullanarak yapmak istersek yolu biraz uzatmamız gerekir:"
   ]
  },
  {
   "cell_type": "code",
   "execution_count": 43,
   "id": "5474c362-5dab-4c91-812d-83bf726f9c3f",
   "metadata": {},
   "outputs": [
    {
     "name": "stdout",
     "output_type": "stream",
     "text": [
      "Python\n",
      "Python\n",
      "Python\n",
      "Python\n",
      "Python\n",
      "Python\n"
     ]
    }
   ],
   "source": [
    "liste = metin.split()\n",
    "for i in liste:\n",
    "    nesne = re.search(\"Python\", i)\n",
    "    if nesne:\n",
    "        print(nesne.group())"
   ]
  },
  {
   "cell_type": "markdown",
   "id": "c3855c8f-584a-4857-bc83-ff2345985216",
   "metadata": {},
   "source": [
    "Gördüğünüz gibi, metinde geçen bütün “Python” kelimelerini search() metodunu kullanarak bulmak için öncelikle “metin” adlı karakter dizisini, daha önce karakter dizilerini işlerken gördüğümüz split() metodu yardımıyla bir liste haline getiriyoruz. Ardından bu liste üzerinde bir for döngüsü kurarak search() ve group() metotlarını kullanarak bütün “Python” kelimelerini ayıklıyoruz. Eğer karakter dizisini yukarıdaki şekilde listeye dönüştürmezsek şöyle bir netice alırız:\n",
    "\n"
   ]
  },
  {
   "cell_type": "code",
   "execution_count": 44,
   "id": "f8294889-e25d-477d-9afe-816fa3c27888",
   "metadata": {},
   "outputs": [
    {
     "name": "stdout",
     "output_type": "stream",
     "text": [
      "Python\n"
     ]
    }
   ],
   "source": [
    "nesne = re.search(\"Python\", metin)\n",
    "print(nesne.group())"
   ]
  },
  {
   "cell_type": "markdown",
   "id": "3fa98019-9ec3-4a37-922c-bae780e88c5b",
   "metadata": {},
   "source": [
    "Bu şekilde metinde geçen sadece ilk “Python” kelimesini alabiliyoruz."
   ]
  },
  {
   "cell_type": "markdown",
   "id": "5cacb882-917c-4c30-80ef-0af1d2925887",
   "metadata": {},
   "source": [
    "++++++++++++Metakarakterler\n",
    "\n",
    "Şimdiye kadar düzenli ifadelerle ilgili olarak verdiğimiz örnekler sizi biraz şaşırtmış olabilir. “Zor dediğin bunlar mıydı?” diye düşünmüş olabilirsiniz. Haklısınız, zira “zor” dediğim, buraya kadar olan kısımda verdiğim örneklerden ibaret değildir. Buraya kadar olan bölümde verdiğim örnekler işin en temel kısmını gözler önüne sermek içindi. Şimdiye kadar olan bölümde, mesela, “python” karakter dizisiyle eşleştirme yapmak için “python” kelimesini kullandık. Esasında bu, düzenli ifadelerin en temel özelliğidir. Yani “python” karakter dizisini bir düzenli ifade sayacak olursak (ki zaten öyledir), bu düzenli ifade en başta kendisiyle eşleşecektir. Bu ne demek? Şöyle ki: Eğer aradığınız şey “python” karakter dizisi ise, kullanmanız gereken düzenli ifade de “python” olacaktır.\n",
    "\n",
    "Diyoruz ki: “Düzenli ifadeler en başta kendileriyle eşleşirler”. Buradan şu anlam çıkıyor: Demek ki bir de kendileriyle eşleşmeyen düzenli ifadeler var. İşte bu durum, Python’daki düzenli ifadelere kişiliğini kazandıran şeydir. Biraz sonra ne demek istediğimizi daha açık anlayacaksınız. Artık gerçek anlamıyla düzenli ifadelere giriş yapıyoruz!\n",
    "\n",
    "Öncelikle, elimizde aşağıdaki gibi bir liste olduğunu varsayalım:"
   ]
  },
  {
   "cell_type": "code",
   "execution_count": 45,
   "id": "5aecf714-b4b7-4510-a4b0-61cc8a898829",
   "metadata": {},
   "outputs": [],
   "source": [
    "liste = [\"özcan\", \"mehmet\", \"süleyman\", \"selim\",\n",
    "\"kemal\", \"özkan\", \"esra\", \"dündar\", \"esin\",\n",
    "\"esma\", \"özhan\", \"özlem\"]"
   ]
  },
  {
   "cell_type": "markdown",
   "id": "0d6fb5c7-c75e-43c8-aea3-0383f1b9d0d6",
   "metadata": {},
   "source": [
    "Diyelim ki, biz bu liste içinden “özcan”, “özkan” ve “özhan” öğelerini ayıklamak/almak istiyoruz. Bunu yapabilmek için yeni bir bilgiye ihtiyacımız var: Metakarakterler.\n",
    "\n",
    "Metakarakterler; kabaca, programlama dilleri için özel anlam ifade eden sembollerdir. Örneğin daha önce gördüğümüz \\n bir bakıma bir metakarakterdir. Çünkü \\n sembolü Python için özel bir anlam taşır. Python bu sembolü gördüğü yerde yeni bir satıra geçer. Yukarıda “kendisiyle eşleşmeyen karakterler” ifadesiyle kastettiğimiz şey de işte bu metakarakterlerdir. Örneğin, “a” harfi yalnızca kendisiyle eşleşir. Tıpkı “istihza” kelimesinin yalnızca kendisiyle eşleşeceği gibi… Ama mesela \\t ifadesi kendisiyle eşleşmez. Python bu işareti gördüğü yerde sekme (tab) düğmesine basılmış gibi tepki verecektir. İşte düzenli ifadelerde de buna benzer metakarakterlerden yararlanacağız. Düzenli ifadeler içinde de, özel anlam ifade eden pek çok sembol, yani metakarakter vardır. Bu metakarakterlerden biri de “[ ]” sembolüdür. Şimdi yukarıda verdiğimiz listeden “özcan”, “özhan” ve “özkan” öğelerini bu sembolden yararlanarak nasıl ayıklayacağımızı görelim:"
   ]
  },
  {
   "cell_type": "code",
   "execution_count": null,
   "id": "22caf40b-a7ec-4e06-80b4-a7ba3cbf84e3",
   "metadata": {},
   "outputs": [],
   "source": [
    "re.search(\"öz[chk]an\", liste)"
   ]
  },
  {
   "cell_type": "markdown",
   "id": "72af9d4e-8b91-4566-bb87-8f34ef0426a3",
   "metadata": {},
   "source": [
    "Bu kodu böyle yazmamamız gerektiğini artık biliyoruz. Aksi halde hata alırız. Çünkü daha önce de dediğimiz gibi, düzenli ifadeler karakter dizileri üzerinde işlem yapabilir. Listeler üzerinde değil. Dolayısıyla komutumuzu şu şekilde vermemiz gerekiyor:"
   ]
  },
  {
   "cell_type": "code",
   "execution_count": null,
   "id": "419d08c3-59bb-41dd-aaf4-5ab43bfaac77",
   "metadata": {},
   "outputs": [],
   "source": [
    "for i in liste:\n",
    "    nesne = re.search(\"öz[chk]an\", i)\n",
    "    if nesne:\n",
    "        print(nesne.group())"
   ]
  },
  {
   "cell_type": "markdown",
   "id": "75da2bc6-8a4d-4bd8-8622-24c0531bfc44",
   "metadata": {},
   "source": [
    "Aynı işlemi şu şekilde de yapabiliriz:\n",
    "\n"
   ]
  },
  {
   "cell_type": "code",
   "execution_count": null,
   "id": "f8055296-d6ff-4f03-a3d1-2150ac24a680",
   "metadata": {},
   "outputs": [],
   "source": [
    "for i in liste:\n",
    "    if re.search(\"öz[chk]an\",i):\n",
    "        print(i)"
   ]
  },
  {
   "cell_type": "markdown",
   "id": "932c5ada-8e30-4ef2-aac0-df2a5abe93bd",
   "metadata": {},
   "source": [
    "Ancak, bu örnekte pek belli olmasa da, son yazdığımız kod her zaman istediğimiz sonucu vermez. Mesela listemiz şöyle olsaydı:"
   ]
  },
  {
   "cell_type": "code",
   "execution_count": null,
   "id": "fd6d23b8-485f-4813-961a-49c5d8c9dc68",
   "metadata": {},
   "outputs": [],
   "source": [
    "liste = [\"özcan demir\", \"mehmet\", \"süleyman\",\n",
    "\"selim\", \"kemal\", \"özkan nuri\", \"esra\", \"dündar\",\n",
    "\"esin\", \"esma\", \"özhan kamil\", \"özlem\"]\n"
   ]
  },
  {
   "cell_type": "markdown",
   "id": "e887f2f0-5599-4203-87c2-48a3ff9c7374",
   "metadata": {},
   "source": [
    "Yukarıdaki kod bu liste üzerine uygulandığında, sadece almak istediğimiz kısım değil, ilgisiz kısımlar da gelecektir.\n",
    "\n",
    "Gördüğünüz gibi, uygun kodları kullanarak, “özcan”, “özkan” ve “özhan” öğelerini listeden kolayca ayıkladık. Bize bu imkânı veren şey ise “[ ]” adlı metakarakter oldu. Aslında “[ ]” metakarakterinin ne işe yaradığını az çok anlamış olmalısınız. Ama biz yine de şöyle bir bakalım bu metakaraktere:\n",
    "\n",
    "“[ ]” adlı metakarakter, yukarıda verdiğimiz listedeki “öz” ile başlayıp, “c”, “h” veya “k” harflerinden herhangi biri ile devam eden ve “an” ile biten bütün öğeleri ayıklıyor. Gelin bununla ilgili bir örnek daha yapalım:"
   ]
  },
  {
   "cell_type": "code",
   "execution_count": null,
   "id": "33fbd95a-54e6-43ef-a882-fdd9c00d89a7",
   "metadata": {},
   "outputs": [],
   "source": [
    "for i in liste:\n",
    "    nesne = re.search(\"es[mr]a\",i)\n",
    "    if nesne:\n",
    "        print(nesne.group())"
   ]
  },
  {
   "cell_type": "markdown",
   "id": "f74ff782-6c67-4790-883f-ae3fcbc309fc",
   "metadata": {},
   "source": [
    "Gördüğünüz gibi, “es” ile başlayıp, “m” veya “r” harflerinden herhangi biriyle devam eden ve sonunda da “a” harfi bulunan bütün öğeleri ayıkladık. Bu da bize “esma” ve “esra” çıktılarını verdi…\n",
    "\n",
    "Dediğimiz gibi, metakarakterler programlama dilleri için özel anlam ifade eden sembollerdir. “Normal” karakterlerden farklı olarak, metakarakterlerle karşılaşan bir bilgisayar normalden farklı bir tepki verecektir. Yukarıda metakarakterlere örnek olarak “\\n” ve “\\t” kaçış dizilerini vermiştik. Örneğin Python’da print(”\\n”) gibi bir komut verdiğimizde, Python ekrana “\\n” yazdırmak yerine bir alt satıra geçecektir. Çünkü “\\n” Python için özel bir anlam taşımaktadır. Düzenli ifadelerde de birtakım metakarakterlerin kullanıldığını öğrendik. Bu metakarakterler, düzenli ifadeleri düzenli ifade yapan şeydir. Bunlar olmadan düzenli ifadelerle yararlı bir iş yapmak mümkün olmaz. Bu giriş bölümünde düzenli ifadelerde kullanılan metakarakterlere örnek olarak “[ ]” sembolünü verdik. Herhangi bir düzenli ifade içinde “[ ]” sembolünü gören Python, doğrudan doğruya bu sembolle eşleşen bir karakter dizisi aramak yerine, özel bir işlem gerçekleştirecektir. Yani “[ ]” sembolü kendisiyle eşleşmeyecektir…\n",
    "\n",
    "Python’da bulunan temel metakarakterleri topluca görelim:\n",
    "\n",
    "[ ] . \\* + ? { } ^ $ | ( )\n",
    "\n",
    "\n",
    "Doğrudur, yukarıdaki karakterler, çizgi romanlardaki küfürlere benziyor. Endişelenmeyin, biz bu metakarakterleri olabildiğince sindirilebilir hale getirmek için elimizden gelen çabayı göstereceğiz.\n",
    "\n",
    "Bu bölümde düzenli ifadelerin zor kısmı olan metakarakterlere, okurlarımızı ürkütmeden, yumuşak bir giriş yapmayı amaçladık. Şimdi artık metakarakterlerin temelini attığımıza göre üste kat çıkmaya başlayabiliriz."
   ]
  },
  {
   "cell_type": "markdown",
   "id": "02e3fbc1-2bb0-44dd-8632-5a8174163733",
   "metadata": {},
   "source": [
    "++++++++++++++[ ] (Köşeli Parantez)\n",
    "\n",
    "[ ] adlı metakaraktere önceki bölümde değinmiştik. Orada verdiğimiz örnek şuydu:\n"
   ]
  },
  {
   "cell_type": "code",
   "execution_count": null,
   "id": "d0fe3594-bcab-411e-8834-1b32c2b90e6a",
   "metadata": {},
   "outputs": [],
   "source": [
    "for i in liste:\n",
    "    nesne = re.search(\"öz[chk]an\", i)\n",
    "    if nesne:\n",
    "        print(nesne.group())"
   ]
  },
  {
   "cell_type": "markdown",
   "id": "c7f0a205-3a73-4e61-8b3d-23d2984fa788",
   "metadata": {},
   "source": [
    "Yukarıdaki örnekte, bir liste içinde geçen “özcan”, “özhan” ve “özkan” öğelerini ayıklıyoruz. Burada bu üç öğedeki farklı karakterleri (“c”, “h” ve “k”) köşeli parantez içinde nasıl belirttiğimize dikkat edin. Python, köşeli parantez içinde gördüğü bütün karakterleri tek tek liste öğelerine uyguluyor. Önce “öz” ile başlayan bütün öğeleri alıyor, ardından “öz” hecesinden sonra “c” harfiyle devam eden ve “an” hecesi ile biten öğeyi buluyor. Böylece “özcan” öğesini bulmuş oldu. Aynı işlemi, “öz” hecesinden sonra “h” harfini barındıran ve “an” hecesiyle biten öğeye uyguluyor. Bu şekilde ise “özhan” öğesini bulmuş oldu. En son hedef ise “öz” ile başlayıp “k” harfi ile devam eden ve “an” ile biten öğe. Yani listedeki “özkan” öğesi… En nihayetinde de elimizde “özcan”, “özhan” ve “özkan” öğeleri kalmış oluyor.\n",
    "\n",
    "Bir önceki bölümde yine “[ ]” metakarakteriyle ilgili olarak şu örneği de vermiştik:\n",
    "\n"
   ]
  },
  {
   "cell_type": "code",
   "execution_count": null,
   "id": "72d34f59-e2c3-42d1-b07e-5298ca856c13",
   "metadata": {},
   "outputs": [],
   "source": [
    "for i in liste:\n",
    "    nesne = re.search(\"es[mr]a\",i)\n",
    "    if nesne:\n",
    "        print(nesne.group())"
   ]
  },
  {
   "cell_type": "markdown",
   "id": "0a924e88-5459-476c-bb72-7b9f28a8ced8",
   "metadata": {},
   "source": [
    "Bu örneğin de “özcan, özkan, özhan” örneğinden bir farkı yok. Burada da Python köşeli parantez içinde gördüğü bütün karakterleri tek tek liste öğelerine uygulayıp, “esma” ve “esra” öğelerini bize veriyor.\n",
    "\n",
    "Şimdi bununla ilgili yeni bir örnek verelim\n",
    "\n",
    "Diyelim ki elimizde şöyle bir liste var:"
   ]
  },
  {
   "cell_type": "code",
   "execution_count": 46,
   "id": "455c05f4-8edd-4625-84da-99dd79bd54fc",
   "metadata": {},
   "outputs": [],
   "source": [
    "a = [\"23BH56\",\"TY76Z\",\"4Y7UZ\",\"TYUDZ\",\"34534\"]"
   ]
  },
  {
   "cell_type": "markdown",
   "id": "542590e0-aa1a-48af-8a95-e92fa26f1e85",
   "metadata": {},
   "source": [
    "Mesela biz bu listedeki öğeler içinde, sayıyla başlayanları ayıklayalım. Şimdi şu kodları dikkatlice inceleyin:"
   ]
  },
  {
   "cell_type": "code",
   "execution_count": null,
   "id": "543f679e-cdd4-4485-bcb2-175a56f6c838",
   "metadata": {},
   "outputs": [],
   "source": [
    "for i in a:\n",
    "    if re.match(\"[0-9]\",i):\n",
    "        print(i)"
   ]
  },
  {
   "cell_type": "markdown",
   "id": "f5d1aa67-8968-423e-86cb-bf7c2aa1870f",
   "metadata": {},
   "source": [
    "Burada parantez içinde kullandığımız ifadeye dikkat edin. “0” ile “9” arasındaki bütün öğeleri içeren bir karakter dizisi tanımladık. Yani kısaca, içinde herhangi bir sayı barındıran öğeleri kapsama alanımıza aldık. Burada ayrıca search() yerine match() metodunu kullandığımıza da dikkat edin. match() metodunu kullanmamızın nedeni, bu metodun bir karakter dizisinin sadece en başına bakması… Amacımız sayı ile başlayan bütün öğeleri ayıklamak olduğuna göre, yukarıda yazdığımız kod, liste öğeleri içinde yer alan ve sayı ile başlayan bütün öğeleri ayıklayacaktır. Biz burada Python’a şu emri vermiş oluyoruz:\n",
    "\n",
    "“Bana sayı ile başlayan bütün öğeleri bul! Önemli olan bu öğelerin sayıyla başlamasıdır! Sayıyla başlayan bu öğeler ister harfle devam etsin, ister başka bir karakterle… Sen yeter ki bana sayı ile başlayan öğeleri bul!”\n",
    "\n",
    "Bu emri alan Python, hemen liste öğelerini gözden geçirecek ve bize “23BH56”, “4Y7UZ” ve “34534” öğelerini verecektir. Dikkat ederseniz, Python bize listedeki “TY76Z” ve “TYUDZ” öğelerini vermedi. Çünkü “TY76Z” içinde sayılar olsa da bunlar bizim ölçütümüze uyacak şekilde en başta yer almıyor. “TYUDZ” öğesinde ise tek bir sayı bile yok…\n",
    "\n",
    "Şimdi de isterseniz listedeki “TY76Z” öğesini nasıl alabileceğimize bakalım:"
   ]
  },
  {
   "cell_type": "code",
   "execution_count": null,
   "id": "a446e4b8-2e14-4de5-bc24-fa1c00603cfd",
   "metadata": {},
   "outputs": [],
   "source": [
    "for i in a:\n",
    "    if re.match(\"[A-Z][A-Z][0-9]\",i):\n",
    "        print(i)"
   ]
  },
  {
   "cell_type": "markdown",
   "id": "73f2b504-c63c-461e-b2bc-c0c1a7dc7551",
   "metadata": {},
   "source": [
    "Burada dikkat ederseniz düzenli ifademizin başında “A-Z” diye bir şey yazdık. Bu ifade “A” ile “Z” harfleri arasındaki bütün karakterleri temsil ediyor. Biz burada yalnızca büyük harfleri sorguladık. Eğer küçük harfleri sorgulamak isteseydik “A-Z” yerine “a-z” diyecektik. Düzenli ifademiz içinde geçen birinci “A-Z” ifadesi aradığımız karakter dizisi olan “TY76Z” içindeki “T” harfini, ikinci “A-Z” ifadesi “Y” harfini, “0-9” ifadesi ise “7” sayısını temsil ediyor. Karakter dizisi içindeki geri kalan harfler ve sayılar otomatik olarak eşleştirilecektir. O yüzden onlar için ayrı bir şey yazmaya gerek yok. Yalnız bu söylediğimiz son şey sizi aldatmasın. Bu “otomatik eşleştirme” işlemi bizim şu anda karşı karşıya olduğumuz karakter dizisi için geçerlidir. Farklı nitelikteki karakter dizilerinin söz konusu olduğu başka durumlarda işler böyle yürümeyebilir. Düzenli ifadeleri başarılı bir şekilde kullanabilmenin ilk şartı, üzerinde işlem yapılacak karakter dizisini tanımaktır. Bizim örneğimizde yukarıdaki gibi bir düzenli ifade kalıbı oluşturmak işimizi görüyor. Ama başka durumlarda, duruma uygun başka kalıplar yazmak gerekebilir/gerekecektir. Dolayısıyla, tek bir düzenli ifade kalıbıyla hayatın geçmeyeceğini unutmamalıyız.\n",
    "\n",
    "Şimdi yukarıdaki kodu search() ve group() metotlarını kullanarak yazmayı deneyin. Elde ettiğiniz sonuçları dikkatlice inceleyin. match() ve search() metotlarının ne gibi farklılıklara sahip olduğunu kavramaya çalışın… Sorunuz olursa bana nasıl ulaşacağınızı biliyorsunuz…\n",
    "\n",
    "Bu arada, düzenli ifadelerle ilgili daha fazla şey öğrendiğimizde yukarıdaki kodu çok daha sade bir biçimde yazabileceğiz."
   ]
  },
  {
   "cell_type": "markdown",
   "id": "972b4ffc-7edc-4584-9e90-264a88013e6f",
   "metadata": {},
   "source": [
    "++++++++++++. (Nokta)\n",
    "\n",
    "Bir önceki bölümde “[]” adlı metakarakteri incelemiştik. Bu bölümde ise farklı bir metakarakteri inceleyeceğiz. İnceleyeceğimiz metakarakter: “.”\n",
    "\n",
    "Bu metakarakter, yeni satır karakteri hariç bütün karakterleri temsil etmek için kullanılır. Mesela:"
   ]
  },
  {
   "cell_type": "code",
   "execution_count": 47,
   "id": "4ecb2b07-d81b-417f-b10e-140753dae9d1",
   "metadata": {},
   "outputs": [
    {
     "name": "stdout",
     "output_type": "stream",
     "text": [
      "esra\n",
      "esma\n"
     ]
    }
   ],
   "source": [
    "for i in liste:\n",
    "    nesne = re.match(\"es.a\",i)\n",
    "    if nesne:\n",
    "        print(nesne.group())"
   ]
  },
  {
   "cell_type": "markdown",
   "id": "524ca72d-7bd9-42bf-874f-270db0852662",
   "metadata": {},
   "source": [
    "Gördüğünüz gibi, daha önce “[]” metakarakterini kullanarak yazdığımız bir düzenli ifadeyi bu kez farklı şekilde yazıyoruz. Unutmayın, bir düzenli ifade birkaç farklı şekilde yazılabilir. Biz bunlar içinde en basit ve en anlaşılır olanını seçmeliyiz. Ayrıca yukarıdaki kodu birkaç farklı şekilde de yazabilirsiniz. Mesela şu yazım da bizim durumumuzda geçerli bir seçenek olacaktır:"
   ]
  },
  {
   "cell_type": "code",
   "execution_count": null,
   "id": "028affbb-ab04-4be3-87e0-d1ed94dd5311",
   "metadata": {},
   "outputs": [],
   "source": [
    "for i in liste:\n",
    "    if re.match(\"es.a\",i):\n",
    "        print(i)"
   ]
  },
  {
   "cell_type": "markdown",
   "id": "f8756a7f-13b9-4966-9f15-003c786f1028",
   "metadata": {},
   "source": [
    "Tabii ki biz, o anda çözmek durumunda olduğumuz soruna en uygun olan seçeneği tercih etmeliyiz…\n",
    "\n",
    "Yalnız, unutmamamız gereken şey, bu “.” adlı metakarakterin sadece tek bir karakterin yerini tutuyor olmasıdır. Yani şöyle bir kullanım bize istediğimiz sonucu vermez:"
   ]
  },
  {
   "cell_type": "code",
   "execution_count": 48,
   "id": "4bebe351-619c-4e98-bde5-20c43f1fcd5b",
   "metadata": {},
   "outputs": [],
   "source": [
    "liste = [\"ahmet\",\"kemal\", \"kamil\", \"mehmet\"]\n",
    "for i in liste:\n",
    "    if re.match(\".met\",i):\n",
    "        print(i)"
   ]
  },
  {
   "cell_type": "markdown",
   "id": "f5bef48b-44c7-4310-a88d-10336138fc7e",
   "metadata": {},
   "source": [
    "Burada “.” sembolü “ah” ve “meh” hecelerinin yerini tutamaz. “.” sembolünün görevi sadece tek bir karakterin yerini tutmaktır (yeni satır karakteri hariç). Ama biraz sonra öğreneceğimiz metakarakter yardımıyla “ah” ve “meh” hecelerinin yerini de tutabileceğiz.\n",
    "\n",
    "“.” sembolünü kullanarak bir örnek daha yapalım. Bir önceki bölümde verdiğimiz “a” listesini hatırlıyorsunuz:"
   ]
  },
  {
   "cell_type": "code",
   "execution_count": null,
   "id": "b4a8f3e5-8453-4247-a9ea-3db067f6c659",
   "metadata": {},
   "outputs": [],
   "source": [
    "a = ['23BH56', 'TY76Z', '4Y7UZ', 'TYUDZ', '34534']"
   ]
  },
  {
   "cell_type": "markdown",
   "id": "be055e47-a9c2-4d65-b699-cbcc6f961580",
   "metadata": {},
   "source": [
    "Önce bu listeye bir öğe daha ekleyelim:"
   ]
  },
  {
   "cell_type": "code",
   "execution_count": 49,
   "id": "04177a29-af1f-45bf-9bdc-01d4e4a911eb",
   "metadata": {},
   "outputs": [],
   "source": [
    "a.append(\"1agAY54\")"
   ]
  },
  {
   "cell_type": "markdown",
   "id": "b914c9d0-db8e-486c-bfb4-73cc9b8acad8",
   "metadata": {},
   "source": [
    "Artık elimizde şöyle bir liste var:\n",
    "\n"
   ]
  },
  {
   "cell_type": "code",
   "execution_count": 50,
   "id": "aa6bb2a3-bc26-4f32-a2c8-7ee4310805a4",
   "metadata": {},
   "outputs": [],
   "source": [
    "a = ['23BH56', 'TY76Z', '4Y7UZ', 'TYUDZ',\n",
    "'34534', \"1agAY54\"]"
   ]
  },
  {
   "cell_type": "markdown",
   "id": "8c2f67f0-8e43-4b62-b38a-f7c4b9b8a393",
   "metadata": {},
   "source": [
    "Şimdi bu listeye şöyle bir düzenli ifade uygulayalım:"
   ]
  },
  {
   "cell_type": "code",
   "execution_count": 51,
   "id": "ee0c84e4-6b42-413f-b18b-fe50fa0a2fc4",
   "metadata": {},
   "outputs": [
    {
     "name": "stdout",
     "output_type": "stream",
     "text": [
      "23BH56\n",
      "34534\n",
      "1agAY54\n"
     ]
    }
   ],
   "source": [
    "for i in a:\n",
    "    if re.match(\".[0-9a-z]\", i):\n",
    "        print(i)\n"
   ]
  },
  {
   "cell_type": "markdown",
   "id": "d1d4d0b9-e211-4215-a147-e63ba95af526",
   "metadata": {},
   "source": [
    "Burada yaptığımız şey çok basit. Şu özelliklere sahip bir karakter dizisi arıyoruz:\n",
    "\n",
    "Herhangi bir karakter ile başlayacak. Bu karakter sayı, harf veya başka bir karakter olabilir.\n",
    "\n",
    "Ardından bir sayı veya alfabedeki küçük harflerden herhangi birisi gelecek.\n",
    "\n",
    "Bu ölçütleri karşıladıktan sonra, aradığımız karakter dizisi herhangi bir karakter ile devam edebilir.\n",
    "\n",
    "Yukarıdaki ölçütlere uyan karakter dizilerimiz: “23BH56”, “34534”, “1agAY54”\n",
    "\n",
    "Yine burada da kendinize göre birtakım değişiklikler yaparak, farklı yazım şekilleri ve farklı metotlar kullanarak ne olup ne bittiğini daha iyi kavrayabilirsiniz. Düzenli ifadeleri gereği gibi anlayabilmek için bol bol uygulama yapmamız gerektiğini unutmamalıyız."
   ]
  },
  {
   "cell_type": "markdown",
   "id": "c20f0742-ca19-4217-97b6-f02c8364bff3",
   "metadata": {},
   "source": [
    "+++++++++++++++++++=* (Yıldız)\n",
    "\n",
    "Bu metakarakter, kendinden önce gelen bir düzenli ifade kalıbını sıfır veya daha fazla sayıda eşleştirir. Tanımı biraz karışık olsa da örnek yardımıyla bunu da anlayacağız:"
   ]
  },
  {
   "cell_type": "code",
   "execution_count": 52,
   "id": "1f6495e0-9b80-4815-8498-9877b1ec43da",
   "metadata": {},
   "outputs": [
    {
     "name": "stdout",
     "output_type": "stream",
     "text": [
      "st\n",
      "sat\n",
      "saat\n",
      "saaat\n"
     ]
    }
   ],
   "source": [
    "yeniliste = [\"st\", \"sat\", \"saat\", \"saaat\", \"falanca\"]\n",
    "for i in yeniliste:\n",
    "    if re.match(\"sa*t\",i):\n",
    "        print(i)"
   ]
  },
  {
   "cell_type": "markdown",
   "id": "53dca49a-5f02-483e-a8b7-fd5bfeb3db0d",
   "metadata": {},
   "source": [
    "Burada “*” sembolü kendinden önce gelen “a” karakterini sıfır veya daha fazla sayıda eşleştiriyor. Yani mesela “st” içinde sıfır adet “a” karakteri var. Dolayısıyla bu karakter yazdığımız düzenli ifadeyle eşleşiyor. “sat” içinde bir adet “a” karakteri var. Dolayısıyla bu da eşleşiyor. “saat” ve “saaat” karakter dizilerinde sırasıyla iki ve üç adet “a” karakteri var. Tabii ki bunlar da yazdığımız düzenli ifadeyle eşleşiyor. Listemizin en son öğesi olan “falanca”da da ilk hecede bir adet “a” karakteri var. Ama bu öğedeki sorun, bunun “s” harfiyle başlamaması. Çünkü biz yazdığımız düzenli ifadede, aradığımız şeyin “s” harfi ile başlamasını, sıfır veya daha fazla sayıda “a” karakteri ile devam etmesini ve ardından da “t” harfinin gelmesini istemiştik. “falanca” öğesi bu koşulları karşılamadığı için süzgecimizin dışında kaldı.\n",
    "\n",
    "Burada dikkat edeceğimiz nokta, “*” metakarakterinin kendinden önce gelen yalnızca bir karakterle ilgileniyor olması… Yani bizim örneğimizde “*” sembolü sadece “a” harfinin sıfır veya daha fazla sayıda bulunup bulunmamasıyla ilgileniyor. Bu ilgi, en baştaki “s” harfini kapsamıyor. “s” harfinin de sıfır veya daha fazla sayıda eşleşmesini istersek düzenli ifademizi “s*a*t” veya “[sa]*t” biçiminde yazmamız gerekir… Bu iki seçenek içinde “[sa]*t” şeklindeki yazımı tercih etmenizi tavsiye ederim. Burada, daha önce öğrendiğimiz “[ ]” metakarakteri yardımıyla “sa” harflerini nasıl grupladığımıza dikkat edin…\n",
    "\n",
    "Şimdi “.” metakarakterini anlatırken istediğimiz sonucu alamadığımız listeye dönelim. Orada “ahmet” ve “mehmet” öğelerini listeden başarıyla ayıklayamamıştık. O durumda bizim başarısız olmamıza neden olan kullanım şöyleydi:"
   ]
  },
  {
   "cell_type": "code",
   "execution_count": 53,
   "id": "89508e47-d943-4bdf-97b4-bb9f25a2dbf8",
   "metadata": {},
   "outputs": [],
   "source": [
    "liste = [\"ahmet\", \"kemal\", \"kamil\", \"mehmet\"]\n",
    "for i in liste:\n",
    "    if re.match(\".met\",i):\n",
    "        print(i)"
   ]
  },
  {
   "cell_type": "markdown",
   "id": "2c3f1da2-29fb-4148-a7e2-681705376f5f",
   "metadata": {},
   "source": [
    "Ama artık elimizde * gibi bir araç olduğuna göre şimdi istediğimiz şeyi yapabiliriz. Yapmamız gereken tek şey . sembolünden sonra * sembolünü getirmek:\n",
    "\n"
   ]
  },
  {
   "cell_type": "code",
   "execution_count": 54,
   "id": "60f2babc-f229-4e8d-94e8-22570a816537",
   "metadata": {},
   "outputs": [
    {
     "name": "stdout",
     "output_type": "stream",
     "text": [
      "ahmet\n",
      "mehmet\n"
     ]
    }
   ],
   "source": [
    "for i in liste:\n",
    "    if re.match(\".*met\", i):\n",
    "        print(i)"
   ]
  },
  {
   "cell_type": "markdown",
   "id": "c075dca4-778d-4e7d-b7ad-d49b8bcfaa4e",
   "metadata": {},
   "source": [
    "Gördüğünüz gibi “ahmet” ve “mehmet” öğelerini bu kez başarıyla ayıkladık. Bunu yapmamızı sağlayan şey de “*” adlı metakarakter oldu… Burada Python’a şu emri verdik: “Bana kelime başında herhangi bir karakteri (“.” sembolü herhangi bir karakterin yerini tutuyor) sıfır veya daha fazla sayıda içeren ve sonu da “met” ile biten bütün öğeleri ver!”\n",
    "\n",
    "Bir önceki örneğimizde “a” harfinin sıfır veya daha fazla sayıda bulunup bulunmamasıyla ilgilenmiştik. Bu son örneğimizde ise herhangi bir harfin/karakterin sıfır veya daha fazla sayıda bulunup bulunmamasıyla ilgilendik. Dolayısıyla “.*met” şeklinde yazdığımız düzenli ifade, “ahmet”, “mehmet”, “muhammet”, “ismet”, “kısmet” ve hatta tek başına “met” gibi bütün öğeleri kapsayacaktır. Kısaca ifade etmek gerekirse, sonu “met” ile biten her şey (“met” ifadesinin kendisi de dâhil olmak üzere) kapsama alanımıza girecektir. Bunu günlük hayatta nerede kullanabileceğinizi hemen anlamış olmalısınız. Mesela bir dizin içindeki bütün “mp3” dosyalarını bu düzenli ifade yardımıyla listeleyebiliriz:\n",
    "\n"
   ]
  },
  {
   "cell_type": "code",
   "execution_count": null,
   "id": "cd4076a8-703b-4111-a87e-8add32a7c0b4",
   "metadata": {},
   "outputs": [],
   "source": [
    "import os\n",
    "import re\n",
    "dizin = os.listdir(os.getcwd())\n",
    "for i in dizin:\n",
    "    if re.match(\".*mp3\",i):\n",
    "        print(i)"
   ]
  },
  {
   "cell_type": "markdown",
   "id": "2c954d2f-1462-4862-bf57-528e80d40add",
   "metadata": {},
   "source": [
    "match() metodunu anlattığımız bölümde bu metodun bir karakter dizisinin yalnızca başlangıcıyla ilgilendiğini söylemiştik. Mesela o bölümde verdiğimiz şu örneği hatırlıyorsunuzdur:"
   ]
  },
  {
   "cell_type": "code",
   "execution_count": 56,
   "id": "9e20e2a5-da69-4ced-ad2b-95015a119607",
   "metadata": {},
   "outputs": [],
   "source": [
    "a = \"python güçlü bir dildir\"\n",
    "re.match(\"güçlü\", a)"
   ]
  },
  {
   "cell_type": "markdown",
   "id": "a989cd3f-c6b1-478b-a8f9-392fecb8d694",
   "metadata": {},
   "source": [
    "Bu örnekte Python bize çıktı olarak “None” değerini vermişti. Yani herhangi bir eşleşme bulamamıştı. Çünkü dediğimiz gibi, match() metodu bir karakter dizisinin yalnızca en başına bakar. Ama geldiğimiz şu noktada artık bu kısıtlamayı nasıl kaldıracağınızı biliyorsunuz:"
   ]
  },
  {
   "cell_type": "code",
   "execution_count": 57,
   "id": "5cb42c49-3414-403a-8a5d-4200244ff6d4",
   "metadata": {},
   "outputs": [
    {
     "data": {
      "text/plain": [
       "<re.Match object; span=(0, 12), match='python güçlü'>"
      ]
     },
     "execution_count": 57,
     "metadata": {},
     "output_type": "execute_result"
    }
   ],
   "source": [
    "re.match(\".*güçlü\", a)"
   ]
  },
  {
   "cell_type": "markdown",
   "id": "85c091bf-0f9b-48c8-a3a1-bc34623421f1",
   "metadata": {},
   "source": [
    "Ama match() metodunu bu şekilde zorlamak yerine performans açısından en doğru yol bu tür işler için search() metodunu kullanmak olacaktır.\n",
    "\n",
    "Bunu da geçtiğimize göre artık yeni bir metakarakteri incelemeye başlayabiliriz."
   ]
  },
  {
   "cell_type": "markdown",
   "id": "5eb8281b-d256-4d45-9484-b58c32ee6c5b",
   "metadata": {},
   "source": [
    "+++++++++++++++++++++++++++++     + (Artı)\n",
    "\n",
    "Bu metakarakter, bir önceki metakarakterimiz olan “*” ile benzerdir. Hatırlarsanız, “*” metakarakteri kendisinden önceki sıfır veya daha fazla sayıda tekrar eden karakterleri ayıklıyordu. “+” metakarakteri ise kendisinden önceki bir veya daha fazla sayıda tekrar eden karakterleri ayıklar. Bildiğiniz gibi, önceki örneklerimizden birinde “ahmet” ve “mehmet” öğelerini şu şekilde ayıklamıştık:\n",
    "\n"
   ]
  },
  {
   "cell_type": "code",
   "execution_count": null,
   "id": "fbd6482f-8ef8-41b0-bb1e-0e88ffc6e06c",
   "metadata": {},
   "outputs": [],
   "source": [
    "for i in liste:\n",
    "    if re.match(\".*met\",i):\n",
    "        print(i)"
   ]
  },
  {
   "cell_type": "markdown",
   "id": "2a34403c-1780-4802-a623-3ae4b4a6e373",
   "metadata": {},
   "source": [
    "Burada “ahmet” ve “mehmet” dışında “met” şeklinde bir öğe de bu düzenli ifadenin kapsamına girecektir. Mesela listemiz şöyle olsa idi:"
   ]
  },
  {
   "cell_type": "code",
   "execution_count": null,
   "id": "4717b4f5-691f-4f6b-83c6-6b0851c24f9c",
   "metadata": {},
   "outputs": [],
   "source": [
    "liste = [\"ahmet\", \"mehmet\", \"met\", \"kezban\"]"
   ]
  },
  {
   "cell_type": "markdown",
   "id": "b2f49051-cde8-44fe-9961-64c66970ff7c",
   "metadata": {},
   "source": [
    "Yukarıdaki düzenli ifade bu listedeki “met” öğesini de içine alacaktı. Çünkü “*” adlı metakarakter sıfır sayıda tekrar eden karakterleri de ayıklıyor. Ama bizim istediğimiz her zaman bu olmayabilir. Bazen de, ilgili karakterin en az bir kez tekrar etmesini isteriz. Bu durumda yukarıdaki düzenli ifadeyi şu şekilde yazmamız gerekir:\n",
    "\n"
   ]
  },
  {
   "cell_type": "code",
   "execution_count": null,
   "id": "444afe10-b40b-4b9b-9673-504e3919de8c",
   "metadata": {},
   "outputs": [],
   "source": [
    "for i in liste:\n",
    "    if re.match(\".+met\",i):\n",
    "        print(i)"
   ]
  },
  {
   "cell_type": "markdown",
   "id": "f653159b-0fa3-4ba5-ab8c-1d70035402ee",
   "metadata": {},
   "source": [
    "Burada şu komutu vermiş olduk: “ Bana sonu ‘met’ ile biten bütün öğeleri ver! Ama bana ‘met’ öğesini yalnız başına verme!”\n",
    "\n",
    "Aynı işlemi search() metodunu kullanarak da yapabileceğimizi biliyorsunuz:\n",
    "\n"
   ]
  },
  {
   "cell_type": "code",
   "execution_count": 58,
   "id": "9cc3153d-e70f-43ca-9fe0-0c3b514659c5",
   "metadata": {},
   "outputs": [],
   "source": [
    "for i in liste:\n",
    "    nesne = re.search(\".+met\",i)\n",
    "    if nesne:\n",
    "        nesne.group()\n"
   ]
  },
  {
   "cell_type": "markdown",
   "id": "bf06dbcc-dfae-40fa-ad44-8bd7a409dff6",
   "metadata": {},
   "source": [
    "Bir de daha önce verdiğimiz şu örneğe bakalım:"
   ]
  },
  {
   "cell_type": "code",
   "execution_count": 59,
   "id": "ec00f3c8-7662-4f2a-a77a-27c84ab2dca1",
   "metadata": {},
   "outputs": [
    {
     "name": "stdout",
     "output_type": "stream",
     "text": [
      "st\n",
      "sat\n",
      "saat\n",
      "saaat\n"
     ]
    }
   ],
   "source": [
    "yeniliste = [\"st\", \"sat\", \"saat\", \"saaat\", \"falanca\"]\n",
    "for i in yeniliste:\n",
    "    if re.match(\"sa*t\",i):\n",
    "        print(i)"
   ]
  },
  {
   "cell_type": "markdown",
   "id": "56cd1f54-57d0-4d3f-b8ab-d5cbfe534fa1",
   "metadata": {},
   "source": [
    "Burada yazdığımız düzenli ifadenin özelliği nedeniyle “st” de kapsama alanı içine giriyordu. Çünkü burada “*” sembolü “a” karakterinin hiç bulunmadığı durumları da içine alıyor. Ama eğer biz “a” karakteri en az bir kez geçsin istiyorsak, düzenli ifademizi şu şekilde yazmalıyız:"
   ]
  },
  {
   "cell_type": "code",
   "execution_count": 60,
   "id": "3db1ebe8-5b13-4dbb-9596-fdbc1013d058",
   "metadata": {},
   "outputs": [
    {
     "name": "stdout",
     "output_type": "stream",
     "text": [
      "sat\n",
      "saat\n",
      "saaat\n"
     ]
    }
   ],
   "source": [
    "for i in yeniliste:\n",
    "    if re.match(\"sa+t\", i):\n",
    "        print(i)"
   ]
  },
  {
   "cell_type": "markdown",
   "id": "a1be3f95-3d08-4d8f-b479-05995af63fee",
   "metadata": {},
   "source": [
    "Hatırlarsanız önceki derslerimizden birinde köşeli parantezi anlatırken şöyle bir örnek vermiştik:"
   ]
  },
  {
   "cell_type": "code",
   "execution_count": 61,
   "id": "e83cab24-4c81-4ae5-86e9-18d4ae4baee8",
   "metadata": {},
   "outputs": [
    {
     "name": "stdout",
     "output_type": "stream",
     "text": [
      "TY76Z\n"
     ]
    }
   ],
   "source": [
    "a = [\"23BH56\", \"TY76Z\", \"4Y7UZ\", \"TYUDZ\", \"34534\"]\n",
    "for i in a:\n",
    "    if re.match(\"[A-Z][A-Z][0-9]\",i):\n",
    "        print(i)"
   ]
  },
  {
   "cell_type": "markdown",
   "id": "57ffe590-7038-452f-a052-1304db7fe7d1",
   "metadata": {},
   "source": [
    "Burada amacımız sadece “TY76Z” öğesini almaktı. Dikkat ederseniz, öğenin başındaki “T” ve “Y” harflerini bulmak için iki kez “[A-Z]” yazdık. Ama artık “+” metakarakterini öğrendiğimize göre aynı işi daha basit bir şekilde yapabiliriz:\n",
    "\n"
   ]
  },
  {
   "cell_type": "code",
   "execution_count": 62,
   "id": "7eb2c708-570d-423f-b4c8-2d9913834e7d",
   "metadata": {},
   "outputs": [
    {
     "name": "stdout",
     "output_type": "stream",
     "text": [
      "TY76Z\n"
     ]
    }
   ],
   "source": [
    "for i in a:\n",
    "    if re.match(\"[A-Z]+[0-9]\",i):\n",
    "        print(i)"
   ]
  },
  {
   "cell_type": "markdown",
   "id": "cc273b4c-71b6-4fea-82c2-d606f53a50c8",
   "metadata": {},
   "source": [
    "Burada “[A-Z]” düzenli ifade kalıbını iki kez yazmak yerine bir kez yazıp yanına da “+” sembolünü koyarak, bu ifade kalıbının bir veya daha fazla sayıda tekrar etmesini istediğimizi belirttik…\n",
    "\n",
    "“+” sembolünün ne iş yaptığını da anladığımıza göre, artık yeni bir metakarakteri incelemeye başlayabiliriz."
   ]
  },
  {
   "cell_type": "markdown",
   "id": "5a0d7c22-d600-4dab-b76c-da1d054cebf3",
   "metadata": {},
   "source": [
    "++++++++++++++++++++++? (Soru İşareti)\n",
    "\n",
    "Hatırlarsanız, “*” karakteri sıfır ya da daha fazla sayıda eşleşmeleri; “+” ise bir ya da daha fazla sayıda eşleşmeleri kapsıyordu. İşte şimdi göreceğimiz “?” sembolü de eşleşme sayısının sıfır veya bir olduğu durumları kapsıyor. Bunu daha iyi anlayabilmek için önceden verdiğimiz şu örneğe bakalım:\n",
    "\n"
   ]
  },
  {
   "cell_type": "code",
   "execution_count": 63,
   "id": "03ec41a2-cafb-4ed7-919f-9845db8a56b8",
   "metadata": {},
   "outputs": [
    {
     "name": "stdout",
     "output_type": "stream",
     "text": [
      "st\n",
      "sat\n",
      "saat\n",
      "saaat\n"
     ]
    }
   ],
   "source": [
    "yeniliste = [\"st\", \"sat\", \"saat\", \"saaat\", \"falanca\"]\n",
    "for i in yeniliste:\n",
    "    if re.match(\"sa*t\",i):\n",
    "        print(i)"
   ]
  },
  {
   "cell_type": "code",
   "execution_count": 65,
   "id": "d1f57b67-94f6-4a08-be4c-bc8238b7611a",
   "metadata": {},
   "outputs": [
    {
     "name": "stdout",
     "output_type": "stream",
     "text": [
      "sat\n",
      "saat\n",
      "saaat\n"
     ]
    }
   ],
   "source": [
    "for i in yeniliste:\n",
    "    if re.match(\"sa+t\",i):\n",
    "        print(i)\n"
   ]
  },
  {
   "cell_type": "markdown",
   "id": "de6ba6f4-40db-46f8-b4f4-eae5b7302fed",
   "metadata": {},
   "source": [
    "“*” ve “+” sembollerinin hangi karakter dizilerini ayıkladığını görüyoruz. Şimdi de “?” sembolünün ne yaptığına bakalım:\n",
    "\n"
   ]
  },
  {
   "cell_type": "code",
   "execution_count": 66,
   "id": "95f4cc96-92f1-4c79-b7cf-2a17a693771e",
   "metadata": {},
   "outputs": [
    {
     "name": "stdout",
     "output_type": "stream",
     "text": [
      "st\n",
      "sat\n"
     ]
    }
   ],
   "source": [
    "for i in yeniliste:\n",
    "    if re.match(\"sa?t\",i):\n",
    "        print(i)"
   ]
  },
  {
   "cell_type": "markdown",
   "id": "fe65e857-c630-45d4-bd73-3dad20786578",
   "metadata": {},
   "source": [
    "Gördüğünüz gibi, “?” adlı metakarakterimiz, kendisinden önce gelen karakterin hiç bulunmadığı (yani sıfır sayıda olduğu) ve bir adet bulunduğu durumları içine alıyor. Bu yüzden de çıktı olarak bize sadece “st” ve “sat” öğelerini veriyor.\n",
    "\n",
    "Şimdi bu metakarakteri kullanarak gerçek hayatta karşımıza çıkabilecek bir örnek verelim. Bu metakarakterin tanımına tekrar bakarsak, “olsa da olur olmasa da olur” diyebileceğimiz durumlar için bu metakarakterin rahatlıkla kullanılabileceğini görürüz. Şöyle bir örnek verelim: Diyelim ki bir metin üzerinde arama yapacaksınız. Aradığınız kelime “uluslararası”:\n",
    "\n"
   ]
  },
  {
   "cell_type": "code",
   "execution_count": 67,
   "id": "35b92135-8c4c-4008-861c-667c47151f7d",
   "metadata": {},
   "outputs": [],
   "source": [
    "metin = \"\"\"Uluslararası hukuk, uluslar arası ilişkiler altında bir\n",
    "disiplindir. Uluslararası ilişkilerin hukuksal boyutunu bilimsel bir\n",
    "disiplin içinde inceler. Devletlerarası hukuk da denir. Ancak uluslar\n",
    "arası ilişkilere yeni aktörlerin girişi bu dalı sadece devletlerarası\n",
    "olmaktan çıkarmıştır.\"\"\""
   ]
  },
  {
   "cell_type": "markdown",
   "id": "b4da5a9a-bcac-48ee-a9c0-b56753006068",
   "metadata": {},
   "source": [
    "Şimdi yapmak istediğimiz şey “uluslararası” kelimesini bulmak. Ama dikkat ederseniz metin içinde “uluslararası” kelimesi aynı zamanda “uluslar arası” şeklinde de geçiyor. Bizim bu iki kullanımı da kapsayacak bir düzenli ifade yazmamız gerekecek…"
   ]
  },
  {
   "cell_type": "code",
   "execution_count": 68,
   "id": "cf675e05-f692-48f0-b914-9b098ef59a53",
   "metadata": {},
   "outputs": [
    {
     "name": "stdout",
     "output_type": "stream",
     "text": [
      "Uluslararası\n",
      "uluslar arası\n",
      "Uluslararası\n"
     ]
    }
   ],
   "source": [
    "nesne = re.findall(\"[Uu]luslar ?arası\", metin)\n",
    "for i in nesne:\n",
    "    print(i)"
   ]
  },
  {
   "cell_type": "markdown",
   "id": "ac6c1d22-c1bc-467b-a39e-c2fd54699de8",
   "metadata": {},
   "source": [
    "Verdiğimiz düzenli ifade kalıbını dikkatlice inceleyin. Bildiğiniz gibi, “?” metakarakteri, kendinden önce gelen karakterin (düzenli ifade kalıbını) sıfır veya bir kez geçtiği durumları arıyor. Burada “?” sembolünü “ “ karakterinden, yani “boşluk” karakterinden sonra kullandık. Dolayısıyla, “boşluk karakterinin sıfır veya bir kez geçtiği durumları” hedefledik. Bu şekilde hem “uluslar arası” hem de “uluslararası” kelimesini ayıklamış olduk. Düzenli ifademizde ayrıca şöyle bir şey daha yazdık: “[Uu]”. Bu da gerekiyor. Çünkü metnimiz içinde “uluslararası” kelimesinin büyük harfle başladığı yerler de var… Bildiğiniz gibi, “uluslar” ve “Uluslar” kelimeleri asla aynı değildir. Dolayısıyla hem “u” harfini hem de “U” harfini bulmak için, daha önce öğrendiğimiz “[]” metakarakterini kullanıyoruz."
   ]
  },
  {
   "cell_type": "markdown",
   "id": "fa74faab-acf2-42b6-8eb3-4db5d3365676",
   "metadata": {},
   "source": [
    "+++++++++++++++{ } (Küme Parantezi)\n",
    "\n",
    "{ } adlı metakarakterimiz yardımıyla bir eşleşmeden kaç adet istediğimizi belirtebiliyoruz. Yine aynı örnek üzerinden gidelim:"
   ]
  },
  {
   "cell_type": "code",
   "execution_count": 69,
   "id": "2922ec7b-10fd-4960-98c8-23139b65ef40",
   "metadata": {},
   "outputs": [
    {
     "name": "stdout",
     "output_type": "stream",
     "text": [
      "saaat\n"
     ]
    }
   ],
   "source": [
    "for i in yeniliste:\n",
    "    if re.match(\"sa{3}t\",i):\n",
    "        print(i)"
   ]
  },
  {
   "cell_type": "markdown",
   "id": "849fa413-4cfb-49cf-9ed0-a3dd38f8a442",
   "metadata": {},
   "source": [
    "Burada “a” karakterinin 3 kez tekrar etmesini istediğimizi belirttik. Python da bu emrimizi hemen yerine getirdi.\n",
    "\n",
    "Bu metakarakterin ilginç bir özelliği daha vardır. Küme içinde iki farklı sayı yazarak, bir karakterin en az ve en çok kaç kez tekrar etmesini istediğimizi belirtebiliriz. Örneğin:"
   ]
  },
  {
   "cell_type": "code",
   "execution_count": 70,
   "id": "fecf25ec-583a-4009-9742-9cd19b7720a4",
   "metadata": {},
   "outputs": [
    {
     "name": "stdout",
     "output_type": "stream",
     "text": [
      "st\n",
      "sat\n",
      "saat\n",
      "saaat\n"
     ]
    }
   ],
   "source": [
    "for i in yeniliste:\n",
    "    if re.match(\"sa{0,3}t\",i):\n",
    "        print(i)"
   ]
  },
  {
   "cell_type": "markdown",
   "id": "a7ac1309-3605-49ea-9afa-6c9b07e5d2f4",
   "metadata": {},
   "source": [
    "sa{0,3}t ifadesiyle, “a” harfinin en az sıfır kez, en çok da üç kez tekrar etmesini istediğimiz söyledik. Dolayısıyla, “a” harfinin sıfır, bir, iki ve üç kez tekrar ettiği durumlar ayıklanmış oldu. Bu sayı çiftlerini değiştirerek daha farklı sonuçlar elde edebilirsiniz. Ayrıca hangi sayı çiftinin daha önce öğrendiğimiz “?” metakarakteriyle aynı işi yaptığını bulmaya çalışın…\n",
    "\n"
   ]
  },
  {
   "cell_type": "markdown",
   "id": "773f8f43-a3da-459f-b612-b364b20ddd66",
   "metadata": {},
   "source": [
    "++++++++++++++++^ (Şapka)\n",
    "\n",
    "^ sembolünün iki işlevi var. Birinci işlevi, bir karakter dizisinin en başındaki veriyi sorgulamaktır. Yani aslında match() metodunun varsayılan olarak yerine getirdiği işlevi bu metakarakter yardımıyla açıkça belirterek yerine getirebiliyoruz. Şu örneğe bakalım:"
   ]
  },
  {
   "cell_type": "code",
   "execution_count": 71,
   "id": "5f23fc09-da2f-421e-8e0f-b06b823bb1af",
   "metadata": {},
   "outputs": [
    {
     "name": "stdout",
     "output_type": "stream",
     "text": [
      "23BH56\n",
      "TY76Z\n",
      "4Y7UZ\n",
      "1agAY54\n"
     ]
    }
   ],
   "source": [
    "a = ['23BH56', 'TY76Z', '4Y7UZ', 'TYUDZ',\n",
    "'34534', '1agAY54']\n",
    "for i in a:\n",
    "    if re.search(\"[A-Z]+[0-9]\",i):\n",
    "        print(i)"
   ]
  },
  {
   "cell_type": "markdown",
   "id": "1187e803-8a25-4544-9704-2ff027c46192",
   "metadata": {},
   "source": [
    "Bir de şuna bakalım:"
   ]
  },
  {
   "cell_type": "code",
   "execution_count": 72,
   "id": "35c5928c-be1e-4c0e-9c4d-fd5151812d7a",
   "metadata": {},
   "outputs": [
    {
     "name": "stdout",
     "output_type": "stream",
     "text": [
      "BH5\n",
      "TY7\n",
      "Y7\n",
      "AY5\n"
     ]
    }
   ],
   "source": [
    "for i in a:\n",
    "    nesne = re.search(\"[A-Z]+[0-9]\",i)\n",
    "    if nesne:\n",
    "        print(nesne.group())\n"
   ]
  },
  {
   "cell_type": "markdown",
   "id": "82436bda-b751-4ea5-99fb-f01e175a61f5",
   "metadata": {},
   "source": [
    "Dikkat ederseniz, şu son verdiğimiz kod oldukça hassas bir çıktı verdi bize. Çıktıdaki bütün değerler, aynen düzenli ifademizde belirttiğimiz gibi, yan yana bir veya daha fazla harf içeriyor ve sonra da bir sayı ile devam ediyor. Bu farklılığın nedeni, ilk kodlarda print(i) ifadesini kullanmamız. Bu durumun çıktılarımızı nasıl değiştirdiğine dikkat edin. Bir de şu örneğe bakalım:"
   ]
  },
  {
   "cell_type": "code",
   "execution_count": 73,
   "id": "f6b36d8d-858b-4270-a01b-452cdf643c8d",
   "metadata": {},
   "outputs": [
    {
     "name": "stdout",
     "output_type": "stream",
     "text": [
      "TY76Z\n"
     ]
    }
   ],
   "source": [
    "for i in a:\n",
    "    if re.match(\"[A-Z]+[0-9]\",i):\n",
    "        print(i)"
   ]
  },
  {
   "cell_type": "markdown",
   "id": "9a08c343-793a-45d4-a9e4-bf07095c9bb1",
   "metadata": {},
   "source": [
    "Burada sadece “TY76Z” çıktısını almamızın nedeni, match() metodunun karakter dizilerinin en başına bakıyor olması. Aynı etkiyi search() metoduyla da elde etmek için, başlıkta geçen “^” (şapka) sembolünden yararlanacağız:\n",
    "\n"
   ]
  },
  {
   "cell_type": "code",
   "execution_count": 74,
   "id": "14873ee8-b72c-4904-b18f-2e35da553f29",
   "metadata": {},
   "outputs": [
    {
     "name": "stdout",
     "output_type": "stream",
     "text": [
      "TY7\n"
     ]
    }
   ],
   "source": [
    "for i in a:\n",
    "    nesne = re.search(\"^[A-Z]+[0-9]\",i)\n",
    "    if nesne:\n",
    "        print(nesne.group())"
   ]
  },
  {
   "cell_type": "markdown",
   "id": "262c7360-e4a8-4d85-96d7-e34578119089",
   "metadata": {},
   "source": [
    "Gördüğünüz gibi, “^” (şapka) metakarakteri search() metodunun, karakter dizilerinin sadece en başına bakmasını sağladı. O yüzden de bize sadece, “TY7” çıktısını verdi. Hatırlarsanız aynı kodu, şapkasız olarak, şu şekilde kullanmıştık yukarıda:\n",
    "\n"
   ]
  },
  {
   "cell_type": "code",
   "execution_count": 76,
   "id": "af3b0a2e-3fb0-445f-adcc-40b283379e73",
   "metadata": {},
   "outputs": [
    {
     "name": "stdout",
     "output_type": "stream",
     "text": [
      "BH5\n",
      "TY7\n",
      "Y7\n",
      "AY5\n"
     ]
    }
   ],
   "source": [
    "for i in a:\n",
    "    nesne = re.search(\"[A-Z]+[0-9]\",i)\n",
    "    if nesne:\n",
    "        print(nesne.group())"
   ]
  },
  {
   "cell_type": "markdown",
   "id": "2d5aa372-8dde-4a9f-b179-5b5ca54c696a",
   "metadata": {},
   "source": [
    "Gördüğünüz gibi, şapka sembolü olmadığında search() metodu karakter dizisinin başına bakmakla yetinmiyor, aynı zamanda karakter dizisinin tamamını tarıyor. Biz yukarıdaki koda bir “^” sembolü ekleyerek, metodumuzun sadece karakter dizisinin en başına bakmasını istedik. O da emrimize sadakatle uydu. Burada dikkatimizi çekmesi gereken başka bir nokta da search() metodundaki çıktının kırpılmış olması. Dikkat ettiyseniz, search() metodu bize öğenin tamamını vermedi. Öğelerin yalnızca “[A-Z]+[0-9]” kalıbına uyan kısımlarını kesip attı önümüze. Çünkü biz ona tersini söylemedik. Eğer öğelerin tamamını istiyorsak bunu açık açık belirtmemiz gerekir:"
   ]
  },
  {
   "cell_type": "code",
   "execution_count": 77,
   "id": "324778ae-5207-4554-9aec-6f36a5853b1f",
   "metadata": {},
   "outputs": [
    {
     "name": "stdout",
     "output_type": "stream",
     "text": [
      "BH56\n",
      "TY76Z\n",
      "Y7UZ\n",
      "AY54\n"
     ]
    }
   ],
   "source": [
    "for i in a:\n",
    "    nesne = re.search(\"[A-Z]+[0-9].*\",i)\n",
    "    if nesne:\n",
    "        print(nesne.group())\n"
   ]
  },
  {
   "cell_type": "markdown",
   "id": "ec20872d-4599-488b-a0b7-f1ac11426b24",
   "metadata": {},
   "source": [
    "Veya metodumuzun karakter dizisinin sadece en başına bakmasını istersek:\n",
    "\n"
   ]
  },
  {
   "cell_type": "code",
   "execution_count": 78,
   "id": "09b3e2cd-a4c8-4a19-97a9-87d415bec3e3",
   "metadata": {},
   "outputs": [
    {
     "name": "stdout",
     "output_type": "stream",
     "text": [
      "TY76Z\n"
     ]
    }
   ],
   "source": [
    "for i in a:\n",
    "    nesne = re.search(\"^[A-Z]+[0-9].*\",i)\n",
    "    if nesne:\n",
    "        print(nesne.group())"
   ]
  },
  {
   "cell_type": "markdown",
   "id": "99d71222-fc96-48e6-adbf-9b436c5e311a",
   "metadata": {},
   "source": [
    "Bu kodlarda düzenli ifade kalıbının sonuna “.*” sembolünü eklediğimize dikkat edin. Böylelikle metodumuzun sonu herhangi bir şekilde biten öğeleri bize vermesini sağladık…\n",
    "\n",
    "Başta da söylediğimiz gibi, “^” metakarakterinin, karakter dizilerinin en başına demir atmak dışında başka bir görevi daha vardır: “Hariç” anlamına gelmek… Bu görevini sadece “[]” metakarakterinin içinde kullanıldığı zaman yerine getirir. Bunu bir örnekle görelim. Yukarıdaki listemiz üzerinde öyle bir süzgeç uygulayalım ki, “1agAY54” öğesi çıktılarımız arasında görünmesin… Bu öğeyi avlayabilmek için kullanmamız gereken düzenli ifade şöyle olacaktır: [0-9A-Z][^a-z]+"
   ]
  },
  {
   "cell_type": "code",
   "execution_count": null,
   "id": "c4c19e33-a896-4109-8478-ff71fa71064e",
   "metadata": {},
   "outputs": [],
   "source": [
    "for i in a:\n",
    "    nesne = re.match(\"[0-9A-Z][^a-z]+\",i)\n",
    "    if nesne:\n",
    "        print(nesne.group())"
   ]
  },
  {
   "cell_type": "markdown",
   "id": "a0f38dc6-1467-4343-8977-2fdc0921f950",
   "metadata": {},
   "source": [
    "Burada şu ölçütlere sahip bir öğe arıyoruz:\n",
    "\n",
    "Aradığımız öğe bir sayı veya büyük harf ile başlamalı\n",
    "\n",
    "En baştaki sayı veya büyük harften sonra küçük harf GELMEMELİ (Bu ölçütü “^” işareti sağlıyor)\n",
    "\n",
    "Üstelik bu “küçük harf gelmeme durumu” bir veya daha fazla sayıda tekrar etmeli… Yani baştaki sayı veya büyük harften sonra kaç tane olursa olsun asla küçük harf gelmemeli (Bu ölçütü de “+” işareti sağlıyor”)\n",
    "\n",
    "Bu ölçütlere uymayan tek öğe “1agAY54” olacaktır. Dolayısıyla bu öğe çıktıda görünmeyecek…\n",
    "\n",
    "Burada, “^” işaretinin nasıl kullanıldığına ve küçük harfleri nasıl dışarıda bıraktığına dikkat edin. Unutmayalım, bu “^” işaretinin “hariç” anlamı sadece “[]” metakarakterinin içinde kullanıldığı zaman geçerlidir."
   ]
  },
  {
   "cell_type": "markdown",
   "id": "2436bc55-7178-4648-87a7-d0c9e11fbbbc",
   "metadata": {},
   "source": [
    "+++++++++++++++$ (Dolar)\n",
    "\n",
    "Bir önceki bölümde “^” işaretinin, karakter dizilerinin en başına demir attığını söylemiştik. Yani bu sembol arama/eşleştirme işleminin karakter dizisinin en başından başlamasını sağlıyordu. Bu sembol bir bakıma karakter dizilerinin nasıl başlayacağını belirliyordu. İşte şimdi göreceğimiz “dolar işareti” de ($) karakter dizilerinin nasıl biteceğini belirliyor. Bu soyut açıklamaları somut bir örnekle bağlayalım:"
   ]
  },
  {
   "cell_type": "code",
   "execution_count": 79,
   "id": "78c8faec-9a87-4237-bdd7-482e98aef236",
   "metadata": {},
   "outputs": [],
   "source": [
    "liste = [\"at\", \"katkı\", \"fakat\", \"atkı\", \"rahat\",\n",
    "\"mat\", \"yat\", \"sat\", \"satılık\", \"katılım\"]"
   ]
  },
  {
   "cell_type": "markdown",
   "id": "4d3169d8-a72c-41be-9ac1-6a893568b7c5",
   "metadata": {},
   "source": [
    "Gördüğünüz gibi, elimizde on öğelik bir liste var. Diyelim ki biz bu listeden, “at” hecesiyle biten kelimeleri ayıklamak istiyoruz:"
   ]
  },
  {
   "cell_type": "code",
   "execution_count": 80,
   "id": "1409ac87-05dc-4a7c-af7f-d77e8c4cc7a4",
   "metadata": {},
   "outputs": [
    {
     "name": "stdout",
     "output_type": "stream",
     "text": [
      "at\n",
      "fakat\n",
      "rahat\n",
      "mat\n",
      "yat\n",
      "sat\n"
     ]
    }
   ],
   "source": [
    "for i in liste:\n",
    "    if re.search(\"at$\",i):\n",
    "        print(i)"
   ]
  },
  {
   "cell_type": "markdown",
   "id": "310d78a6-08cc-4cfe-8c33-00cc8263b320",
   "metadata": {},
   "source": [
    "Burada “$” metakarakteri sayesinde aradığımız karakter dizisinin nasıl bitmesi gerektiğini belirleyebildik. Eğer biz “at” ile başlayan bütün öğeleri ayıklamak isteseydik ne yapmamız gerektiğini biliyorsunuz:\n",
    "\n"
   ]
  },
  {
   "cell_type": "code",
   "execution_count": 81,
   "id": "ff2f70dc-0d22-4ab6-a99e-ec9d2273e99c",
   "metadata": {},
   "outputs": [
    {
     "name": "stdout",
     "output_type": "stream",
     "text": [
      "at\n",
      "atkı\n"
     ]
    }
   ],
   "source": [
    "for i in liste:\n",
    "    if re.search(\"^at\",i):\n",
    "        print(i)"
   ]
  },
  {
   "cell_type": "markdown",
   "id": "9a6eca35-ee35-419f-82c3-636f4f4e645f",
   "metadata": {},
   "source": [
    "Gördüğünüz gibi, “^” işareti bir karakter dizisinin nasıl başlayacağını belirlerken, “$” işareti aynı karakter dizisinin nasıl biteceğini belirliyor. Hatta istersek bu metakarakterleri birlikte de kullanabiliriz:"
   ]
  },
  {
   "cell_type": "code",
   "execution_count": 82,
   "id": "3f367104-d31b-4872-ae3e-8b1a3013aae3",
   "metadata": {},
   "outputs": [
    {
     "name": "stdout",
     "output_type": "stream",
     "text": [
      "at\n"
     ]
    }
   ],
   "source": [
    "for i in liste:\n",
    "    if re.search(\"^at$\",i):\n",
    "        print(i)"
   ]
  },
  {
   "cell_type": "markdown",
   "id": "04917481-03c6-4b5f-8a40-bc92ada12f82",
   "metadata": {},
   "source": [
    "Sonuç tam da beklediğimiz gibi oldu. Verdiğimiz düzenli ifade kalıbı ile “at” ile başlayan ve aynı şekilde biten karakter dizilerini ayıkladık. Bu da bize “at” çıktısını verdi."
   ]
  },
  {
   "cell_type": "markdown",
   "id": "aa3c2096-cd4a-4e00-a4ee-c94c67294f21",
   "metadata": {},
   "source": [
    "++++++++++++++++++++++\\ (Ters Bölü)\n",
    "\n",
    "Bu işaret bildiğimiz “kaçış dizisi”dir… Peki burada ne işi var? Şimdiye kadar öğrendiğimiz konulardan gördüğünüz gibi, Python’daki düzenli ifadeler açısından özel anlam taşıyan bir takım semboller/metakarakterler var. Bunlar kendileriyle eşleşmiyorlar. Yani bir karakter dizisi içinde bu sembolleri arıyorsak eğer, bunların taşıdıkları özel anlam yüzünden bu sembolleri ayıklamak hemencecik mümkün olmayacaktır. Yani mesela biz “$” sembolünü arıyor olsak, bunu Python’a nasıl anlatacağız? Çünkü bu sembolü yazdığımız zaman Python bunu farklı algılıyor. Lafı dolandırmadan hemen bir örnek verelim…\n",
    "\n",
    "Diyelim ki elimizde şöyle bir liste var:"
   ]
  },
  {
   "cell_type": "code",
   "execution_count": 83,
   "id": "327346e3-75c0-4872-a31e-04cbc7fb89dc",
   "metadata": {},
   "outputs": [],
   "source": [
    "liste = [\"10$\", \"25€\", \"20$\", \"10TL\", \"25£\"]"
   ]
  },
  {
   "cell_type": "markdown",
   "id": "a7ed111a-4c65-4f5d-90c3-9ba3c99e280d",
   "metadata": {},
   "source": [
    "Amacımız bu listedeki dolarlı değerleri ayıklamaksa ne yapacağız? Şunu deneyelim önce:\n",
    "\n"
   ]
  },
  {
   "cell_type": "code",
   "execution_count": 84,
   "id": "59791483-116c-478a-b49f-85cbb965442c",
   "metadata": {},
   "outputs": [],
   "source": [
    "for i in liste:\n",
    "    if re.match(\"[0-9]+$\",i):\n",
    "        print(i)"
   ]
  },
  {
   "cell_type": "markdown",
   "id": "f0f56525-c717-4188-8bfc-cde392ecf417",
   "metadata": {},
   "source": [
    "Python “$” işaretinin özel anlamından dolayı, bizim sayıyla biten bir karakter dizisi aradığımızı zannedecek, dolayısıyla da herhangi bir çıktı vermeyecektir. Çünkü listemizde sayıyla biten bir karakter dizisi yok… Peki biz ne yapacağız? İşte bu noktada “\\” metakarakteri devreye girecek… Hemen bakalım:"
   ]
  },
  {
   "cell_type": "code",
   "execution_count": 85,
   "id": "60c52e01-135f-48e7-9451-1ea514cee28f",
   "metadata": {},
   "outputs": [
    {
     "name": "stdout",
     "output_type": "stream",
     "text": [
      "10$\n",
      "20$\n"
     ]
    }
   ],
   "source": [
    "for i in liste:\n",
    "    if re.match(\"[0-9]+\\$\",i):\n",
    "        print(i)\n"
   ]
  },
  {
   "cell_type": "markdown",
   "id": "2b322acf-fcd7-4b72-bcc4-c0fb15609994",
   "metadata": {},
   "source": [
    "Gördüğünüz gibi, “\\” sembolünü kullanarak “$” işaretinin özel anlamından kaçtık… Bu metakarakteri de kısaca anlattığımıza göre yeni bir metakarakterle yolumuza devam edebiliriz…\n",
    "\n"
   ]
  },
  {
   "cell_type": "markdown",
   "id": "1d88ddb1-c4b2-440c-9334-dec8bf826232",
   "metadata": {},
   "source": [
    "+++++++++++++++| (Dik Çizgi)\n",
    "\n",
    "Bu metakarakter, birden fazla düzenli ifade kalıbını birlikte eşleştirmemizi sağlar. Bu ne demek? Hemen görelim:\n",
    "\n"
   ]
  },
  {
   "cell_type": "code",
   "execution_count": 86,
   "id": "acab473f-6821-417c-8ed6-d1fcec424e49",
   "metadata": {},
   "outputs": [
    {
     "name": "stdout",
     "output_type": "stream",
     "text": [
      "at\n",
      "fakat\n",
      "atkı\n",
      "rahat\n",
      "mat\n",
      "yat\n",
      "sat\n"
     ]
    }
   ],
   "source": [
    "liste = [\"at\", \"katkı\", \"fakat\", \"atkı\", \"rahat\",\n",
    "\"mat\", \"yat\", \"sat\", \"satılık\", \"katılım\"]\n",
    "for i in liste:\n",
    "    if re.search(\"^at|at$\",i):\n",
    "        print(i)\n"
   ]
  },
  {
   "cell_type": "markdown",
   "id": "01e6a2b2-3dd9-493a-85c0-83032cb07bed",
   "metadata": {},
   "source": [
    "Gördüğünüz gibi “|” metakarakterini kullanarak başta ve sonda “at” hecesini içeren kelimeleri ayıkladık. Aynı şekilde, mesela, renkleri içeren bir listeden belli renkleri de ayıklayabiliriz bu metakarakter yardımıyla…"
   ]
  },
  {
   "cell_type": "code",
   "execution_count": 87,
   "id": "746fa88f-2740-43e5-a135-554ed4166ffa",
   "metadata": {},
   "outputs": [
    {
     "ename": "NameError",
     "evalue": "name 'renkler' is not defined",
     "output_type": "error",
     "traceback": [
      "\u001b[0;31m---------------------------------------------------------------------------\u001b[0m",
      "\u001b[0;31mNameError\u001b[0m                                 Traceback (most recent call last)",
      "Cell \u001b[0;32mIn[87], line 1\u001b[0m\n\u001b[0;32m----> 1\u001b[0m \u001b[38;5;28;01mfor\u001b[39;00m i \u001b[38;5;129;01min\u001b[39;00m \u001b[43mrenkler\u001b[49m:\n\u001b[1;32m      2\u001b[0m     \u001b[38;5;28;01mif\u001b[39;00m re\u001b[38;5;241m.\u001b[39msearch(\u001b[38;5;124m\"\u001b[39m\u001b[38;5;124mkırmızı|mavi|sarı\u001b[39m\u001b[38;5;124m\"\u001b[39m, i):\n\u001b[1;32m      3\u001b[0m         \u001b[38;5;28mprint\u001b[39m(i)\n",
      "\u001b[0;31mNameError\u001b[0m: name 'renkler' is not defined"
     ]
    }
   ],
   "source": [
    "for i in renkler:\n",
    "    if re.search(\"kırmızı|mavi|sarı\", i):\n",
    "        print(i)"
   ]
  },
  {
   "cell_type": "markdown",
   "id": "db8159f1-92d8-4f4c-b39c-75f3a096bd27",
   "metadata": {},
   "source": [
    "Sırada son metakarakterimiz olan “()” var…"
   ]
  },
  {
   "cell_type": "markdown",
   "id": "9bcf2b4a-0516-454f-90e7-d456d8e8170e",
   "metadata": {},
   "source": [
    "+++++++++++++++( ) (Parantez)\n",
    "\n",
    "Bu metakarakter yardımıyla düzenli ifade kalıplarını gruplayacağız. Bu metakarakter bizim bir karakter dizisinin istediğimiz kısımlarını ayıklamamızda çok büyük kolaylıklar sağlayacak.\n",
    "\n",
    "Diyelim ki biz https://web.archive.org/web/20121025012131/http://www.istihza.com/py2/icindekiler_python.html adresindeki bütün başlıkları ve bu başlıklara ait html dosyalarını bir liste halinde almak istiyoruz. Bunun için şöyle bir şey yazabiliriz:\n",
    "\n"
   ]
  },
  {
   "cell_type": "code",
   "execution_count": 88,
   "id": "072fadc5-f32f-4065-aad1-110aec1d0c0e",
   "metadata": {},
   "outputs": [
    {
     "name": "stdout",
     "output_type": "stream",
     "text": [
      "href=\"https://web.archive.org/web/20121025012131/http://www.istihza.com/py3/icindekiler_python.html\">şuradaki</a>\n",
      "href=\"temel_bilgiler.html\">1. Temel Bilgiler</a>\n",
      "href=\"pythona-giris.html\">2. Python&#8217;a Giriş</a>\n",
      "href=\"python-programlarini-kaydetmek.html\">3. Python Programlarını Kaydetmek</a>\n",
      "href=\"kullaniciyla_iletisim.html\">4. Kullanıcıyla İletişim: Veri Alış-Verişi</a>\n",
      "href=\"kosul.html\">5. Python&#8217;da Koşula Bağlı Durumlar</a>\n",
      "href=\"ayrintilar.html\">6. Bazı Önemli Ayrıntılar</a>\n",
      "href=\"dongu.html\">7. Python&#8217;da Döngüler</a>\n",
      "href=\"hata.html\">8. Hata Yakalama</a>\n",
      "href=\"liste.html\">9. Listeler</a>\n",
      "href=\"demet.html\">10. Demetler</a>\n",
      "href=\"sozluk.html\">11. Sözlükler</a>\n",
      "href=\"kume.html\">12. Kümeler</a>\n",
      "href=\"fonksiyon.html\">13. Fonksiyonlar</a>\n",
      "href=\"modul.html\">14. Modüller</a>\n",
      "href=\"dosya.html\">15. Dosya İşlemleri</a>\n",
      "href=\"kardiz.html\">16. Karakter Dizileri</a>\n",
      "href=\"modifier.html\">17. Biçim Düzenleyiciler</a>\n",
      "href=\"unicode.html\">18. ascii, unicode ve Python</a>\n",
      "href=\"regex.html\">19. Düzenli İfadeler (Regular Expressions)</a>\n",
      "href=\"nesne.html\">20. Nesne Tabanlı Programlama – OOP (NTP)</a>\n",
      "href=\"sqlite.html\">21. Sqlite ile Veritabanı Programlama</a>\n",
      "href=\"sys.html\">sys Modülü</a>\n",
      "href=\"math.html\">math Modülü</a>\n",
      "href=\"datetime.html\">datetime Modülü</a>\n",
      "href=\"time.html\">time Modülü</a>\n",
      "href=\"lenascii.html\">len() Fonksiyonu ve ascii&#8217;nin Laneti</a>\n",
      "href=\"id_is.html\">Python&#8217;da id() Fonksiyonu, is İşleci ve Önbellekleme Mekanizması</a>\n",
      "href=\"windows-path.html\">Windows&#8217;ta Python&#8217;ı YOL&#8217;a (PATH) Eklemek</a>\n",
      "href=\"pep3000.html\">PEP 3000</a>\n",
      "href=\"openoffice.html\">Python ve OpenOffice</a>\n",
      "href=\"paketler.html\">Python&#8217;da Paket Kurulumu - Kullanımı</a>\n",
      "href=\"restructuredtext.html\">reStructuredText</a>\n",
      "href=\"sphinxdoc.html\">Sphinx</a>\n"
     ]
    }
   ],
   "source": [
    "import re\n",
    "from urllib.request import urlopen\n",
    "\n",
    "url = \"https://web.archive.org/web/20121025012131/http://www.istihza.com/py2/icindekiler_python.html\"\n",
    "f = urlopen(url)\n",
    "\n",
    "regex = 'href=\".+html\">.+</a>'\n",
    "\n",
    "for i in f:\n",
    "     nesne = re.search(regex, str(i, 'utf-8'))\n",
    "     if nesne:\n",
    "             print(nesne.group())"
   ]
  },
  {
   "cell_type": "markdown",
   "id": "a3c0555f-dd4b-442c-93e8-6394c446a0d1",
   "metadata": {},
   "source": [
    "Burada yaptığımız şey şu:\n",
    "\n",
    "Öncelikle “https://web.archive.org/web/20121025012131/http://www.istihza.com/py2/icindekiler_python.html” sayfasını urllib modülü yardımıyla açtık. Amacımız bu sayfadaki başlıkları ve bu başlıklara ait html dosyalarını listelemek\n",
    "\n",
    "Ardından, bütün sayfayı taramak için basit bir for döngüsü kurduk\n",
    "\n",
    "Düzenli ifade kalıbımızı şöyle yazdık: '<href=\".+html\">.+</a>' Çünkü bahsi geçen web sayfasındaki html uzantılı dosyalar bu şekilde gösteriliyor. Bu durumu, web tarayıcınızda https://web.archive.org/web/20121025012131/http://www.istihza.com/py2/icindekiler_python.html sayfasını açıp sayfa kaynağını görüntüleyerek teyit edebilirsiniz. (Firefox’ta CTRL+U’ya basarak sayfa kaynağını görebilirsiniz)\n",
    "\n",
    "Yazdığımız düzenli ifade kalıbı içinde dikkatimizi çekmesi gereken bazı noktalar var: Kalıbın “(.+html)” kısmında geçen “+” metakarakteri kendisinden önce gelen düzenli ifadenin bir veya daha fazla sayıda tekrar eden eşleşmelerini buluyor. Burada “+” metakarakterinden önce gelen düzenli ifade, kendisi de bir metakarakter olan “.” sembolü… Bu sembol bildiğiniz gibi, “herhangi bir karakter” anlamına geliyor. Dolayısıyla “.+” ifadesi şu demek oluyor: “Bana bir veya daha fazla sayıda tekrar eden bütün karakterleri bul!” Dolayısıyla burada “(.+html)” ifadesini birlikte düşünürsek, yazdığımız şey şu anlama geliyor: “Bana ‘html’ ile biten bütün karakter dizilerini bul!”\n",
    "\n",
    "“https://web.archive.org/web/20121025012131/http://www.istihza.com/py2/icindekiler_python.html” adresinin kaynağına baktığımız zaman aradığımız bilgilerin hep şu şekilde olduğunu görüyoruz: href=”kitap_hakkinda.html”>Bu Kitap Hakkxc4xb1nda</a> Dolayısıyla aslında düzenli ifade kalıbımızı yazarken yaptığımız şey, düzenli ifademizi kaynakta görünen şablona uydurmak…\n",
    "\n",
    "Ayrıca çıktıdaki Türkçe karakterlerin düzgün görünmesi için de bayt dizilerini karakter dizisine dönüştürürken ‘utf-8’ kodlamasını kullandık.\n",
    "\n",
    "Yukarıda verdiğimiz kodları çalıştırdığımız zaman aldığımız çıktı şu şekilde oluyor:\n",
    "\n"
   ]
  },
  {
   "cell_type": "markdown",
   "id": "890ab675-331f-41ef-bffd-9702baf2513b",
   "metadata": {},
   "source": [
    "Hemen hemen amacımıza ulaştık sayılır. Ama gördüğünüz gibi çıktımız biraz karmaşık. Bunları istediğimiz gibi düzenleyebilsek iyi olurdu, değil mi? Mesela bu çıktıları şu şekilde düzenleyebilmek hoş olurdu:"
   ]
  },
  {
   "cell_type": "code",
   "execution_count": null,
   "id": "9a1e0a6d-59ff-4513-8dbb-f7916fac2ce7",
   "metadata": {},
   "outputs": [],
   "source": [
    "Başlık: ANA SAYFA; Bağlantı: index.html"
   ]
  },
  {
   "cell_type": "markdown",
   "id": "1433646d-8dfc-46a8-a66f-cb87d7270cfe",
   "metadata": {},
   "source": [
    "İşte bu bölümde göreceğimiz “( )” metakarakteri istediğimiz şeyi yapmada bize yardımcı olacak.\n",
    "\n",
    "Dilerseniz en başta verdiğimiz kodlara tekrar dönelim:"
   ]
  },
  {
   "cell_type": "code",
   "execution_count": null,
   "id": "2e446ce4-b0a8-4f49-89dc-496ce0d3f858",
   "metadata": {},
   "outputs": [],
   "source": [
    "import re\n",
    "from urllib.request import urlopen\n",
    "\n",
    "url = \"http://belgeler.istihza.com/py3/index.html\"\n",
    "f = urlopen(url)\n",
    "\n",
    "regex = 'href=\".+html\">.+</a>'\n",
    "\n",
    "for i in f:\n",
    "     nesne = re.search(regex, str(i, 'utf-8'))\n",
    "     if nesne:\n",
    "             print(nesne.group())"
   ]
  },
  {
   "cell_type": "markdown",
   "id": "b6ca4fcc-be11-419c-8b04-a1bc85f52fdc",
   "metadata": {},
   "source": [
    "Şimdi bu kodlarda şu değişikliği yapıyoruz:"
   ]
  },
  {
   "cell_type": "code",
   "execution_count": null,
   "id": "070cf42c-2387-459f-8ee4-43a65d5b3afc",
   "metadata": {},
   "outputs": [],
   "source": [
    "import re\n",
    "from urllib.request import urlopen\n",
    "\n",
    "url = \"http://belgeler.istihza.com/py3/index.html\"\n",
    "f = urlopen(url)\n",
    "\n",
    "çıktı = \"Başlık: {};\\nBağlantı: {}\\n\"\n",
    "regex = 'href=\"(.+html)\">(.+)</a>'\n",
    "\n",
    "for i in f:\n",
    "     nesne = re.search(regex, str(i, 'utf-8'))\n",
    "     if nesne:\n",
    "             print(çıktı.format(nesne.group(2),\n",
    "                                nesne.group(1)))"
   ]
  },
  {
   "cell_type": "markdown",
   "id": "367ae7d8-582e-4ca3-9c6e-38229fa823b7",
   "metadata": {},
   "source": [
    "Kodlarda yaptığımız değişikliklere dikkat edin ve anlamaya çalışın. Bazı noktalar gözünüze karanlık göründüyse hiç endişe etmeyin, çünkü bir sonraki bölümde bütün karanlık noktaları tek tek açıklayacağız. Burada en azından, “( )” metakarakterini kullanarak düzenli ifadenin bazı bölümlerini nasıl grupladığımıza dikkat edin.\n",
    "\n",
    "Bu arada, elbette www.istihza.com sitesinde herhangi bir değişiklik olursa yukarıdaki kodların istediğiniz çıktıyı vermeyeceğini bilmelisiniz. Çünkü yazdığımız düzenli ifade istihza.com sitesinin sayfa yapısıyla sıkı sıkıya bağlantılıdır.\n",
    "\n"
   ]
  },
  {
   "cell_type": "markdown",
   "id": "dfaafbb6-02e6-4bdb-9d8f-e97f1a0e2aa1",
   "metadata": {},
   "source": [
    "++++++++++++++++Eşleşme Nesnelerinin Metotları\n",
    "\n",
    "++++++++++++++++++group() metodu\n",
    "\n",
    "Bu bölümde doğrudan düzenli ifadelerin değil, ama düzenli ifadeler kullanılarak üretilen eşleşme nesnelerinin bir metodu olan group() metodundan bahsedeceğiz. Esasında biz bu metodu önceki bölümlerde de kullanmıştık. Ama burada bu metoda biraz daha ayrıntılı olarak bakacağız.\n",
    "\n",
    "Daha önceki bölümlerden hatırlayacağınız gibi, bu metot düzenli ifadeleri kullanarak eşleştirdiğimiz karakter dizilerini görme imkanı sağlıyordu. Bu bölümde bu metodu “( )” metakarakteri yardımıyla daha verimli bir şekilde kullanacağız. İsterseniz ilk olarak şöyle basit bir örnek verelim:"
   ]
  },
  {
   "cell_type": "code",
   "execution_count": 89,
   "id": "c4fd34f6-d04b-434c-b21f-cde3fd9101f7",
   "metadata": {},
   "outputs": [
    {
     "name": "stdout",
     "output_type": "stream",
     "text": [
      "python bir programlama dilidir\n"
     ]
    }
   ],
   "source": [
    "kardiz = \"python bir programlama dilidir\"\n",
    "nesne = re.search(\"(python) (bir) (programlama) (dilidir)\", kardiz)\n",
    "print(nesne.group())"
   ]
  },
  {
   "cell_type": "markdown",
   "id": "d522c71d-1a08-4b34-85f2-a129dd7e71cc",
   "metadata": {},
   "source": [
    "Burada düzenli ifade kalıbımızı nasıl grupladığımıza dikkat edin. print(nesne.group()) komutunu verdiğimizde eşleşen karakter dizileri ekrana döküldü. Şimdi bu grupladığımız bölümlere tek tek erişelim:"
   ]
  },
  {
   "cell_type": "code",
   "execution_count": 90,
   "id": "97285705-803e-4467-b5ed-1ee63f59c0a3",
   "metadata": {},
   "outputs": [
    {
     "data": {
      "text/plain": [
       "'python bir programlama dilidir'"
      ]
     },
     "execution_count": 90,
     "metadata": {},
     "output_type": "execute_result"
    }
   ],
   "source": [
    "nesne.group(0)"
   ]
  },
  {
   "cell_type": "markdown",
   "id": "e9d9c848-57d0-4645-b208-ee5eb482e485",
   "metadata": {},
   "source": [
    "Gördüğünüz gibi, “0” indeksi eşleşen karakter dizisinin tamamını veriyor. Bir de şuna bakalım:"
   ]
  },
  {
   "cell_type": "code",
   "execution_count": 91,
   "id": "115b833f-c62a-434d-aa78-ca5bfafdc5ec",
   "metadata": {},
   "outputs": [
    {
     "data": {
      "text/plain": [
       "'python'"
      ]
     },
     "execution_count": 91,
     "metadata": {},
     "output_type": "execute_result"
    }
   ],
   "source": [
    "nesne.group(1)"
   ]
  },
  {
   "cell_type": "markdown",
   "id": "d579575a-5a2c-4bbc-b0f2-6a8948717bff",
   "metadata": {},
   "source": [
    "Burada 1 numaralı grubun öğesi olan “python”u aldık. Gerisinin nasıl olacağını tahmin edebilirsiniz:\n",
    "\n"
   ]
  },
  {
   "cell_type": "code",
   "execution_count": null,
   "id": "b5a71697-3c80-46cc-a6f7-2121117fe374",
   "metadata": {},
   "outputs": [],
   "source": [
    "nesne.group(2)\n",
    "\n",
    "'bir'\n",
    "\n",
    "nesne.group(3)\n",
    "\n",
    "'programlama'\n",
    "\n",
    "nesne.group(4)\n",
    "\n",
    "'dilidir'"
   ]
  },
  {
   "cell_type": "markdown",
   "id": "933eae39-9cb2-4f1f-b1a3-a1f8ee9798a9",
   "metadata": {},
   "source": [
    "Bu metodun bize ilerde ne büyük kolaylıklar sağlayacağını az çok tahmin ediyorsunuzdur. İsterseniz kullanabileceğimiz metotları tekrar listeleyelim:\n",
    "\n"
   ]
  },
  {
   "cell_type": "code",
   "execution_count": 92,
   "id": "a177fc5a-5bb0-4dab-8118-ee6e98d251c2",
   "metadata": {},
   "outputs": [
    {
     "data": {
      "text/plain": [
       "['__class__',\n",
       " '__class_getitem__',\n",
       " '__copy__',\n",
       " '__deepcopy__',\n",
       " '__delattr__',\n",
       " '__dir__',\n",
       " '__doc__',\n",
       " '__eq__',\n",
       " '__format__',\n",
       " '__ge__',\n",
       " '__getattribute__',\n",
       " '__getitem__',\n",
       " '__gt__',\n",
       " '__hash__',\n",
       " '__init__',\n",
       " '__init_subclass__',\n",
       " '__le__',\n",
       " '__lt__',\n",
       " '__module__',\n",
       " '__ne__',\n",
       " '__new__',\n",
       " '__reduce__',\n",
       " '__reduce_ex__',\n",
       " '__repr__',\n",
       " '__setattr__',\n",
       " '__sizeof__',\n",
       " '__str__',\n",
       " '__subclasshook__',\n",
       " 'end',\n",
       " 'endpos',\n",
       " 'expand',\n",
       " 'group',\n",
       " 'groupdict',\n",
       " 'groups',\n",
       " 'lastgroup',\n",
       " 'lastindex',\n",
       " 'pos',\n",
       " 're',\n",
       " 'regs',\n",
       " 'span',\n",
       " 'start',\n",
       " 'string']"
      ]
     },
     "execution_count": 92,
     "metadata": {},
     "output_type": "execute_result"
    }
   ],
   "source": [
    "dir(nesne)"
   ]
  },
  {
   "cell_type": "markdown",
   "id": "c9d53591-cf9f-4010-ad0e-a556a4386fe8",
   "metadata": {},
   "source": [
    "Bu listede group() dışında bir de groups() adlı bir metodun olduğunu görüyoruz. Şimdi bunun ne iş yaptığına bakalım."
   ]
  },
  {
   "cell_type": "markdown",
   "id": "1096ea54-09ae-45cf-b1c0-0fec1bf78135",
   "metadata": {},
   "source": [
    "+++++++++++++groups() metodu\n",
    "\n",
    "Bu metot, bize kullanabileceğimiz bütün grupları bir demet halinde sunar:"
   ]
  },
  {
   "cell_type": "code",
   "execution_count": 93,
   "id": "edadc2b7-3290-4dcc-b04a-c692269dea1e",
   "metadata": {},
   "outputs": [
    {
     "data": {
      "text/plain": [
       "('python', 'bir', 'programlama', 'dilidir')"
      ]
     },
     "execution_count": 93,
     "metadata": {},
     "output_type": "execute_result"
    }
   ],
   "source": [
    "nesne.groups()"
   ]
  },
  {
   "cell_type": "markdown",
   "id": "84bf21b2-07a7-4abd-a65e-aea918729e76",
   "metadata": {},
   "source": [
    "Şimdi isterseniz bir önceki bölümde yaptığımız örneğe geri dönelim:"
   ]
  },
  {
   "cell_type": "code",
   "execution_count": null,
   "id": "f83a37bf-694b-45bd-b8a6-f85bc2190510",
   "metadata": {},
   "outputs": [],
   "source": [
    "import re\n",
    "from urllib.request import urlopen\n",
    "\n",
    "url = \"http://belgeler.istihza.com/py3/index.html\"\n",
    "f = urlopen(url)\n",
    "\n",
    "çıktı = \"Başlık: {};\\nBağlantı: {}\\n\"\n",
    "regex = 'href=\"(.+html)\">(.+)</a>'\n",
    "\n",
    "for i in f:\n",
    "     nesne = re.search(regex, str(i, 'utf-8'))\n",
    "     if nesne:\n",
    "             print(çıktı.format(nesne.group(2),\n",
    "                                nesne.group(1)))"
   ]
  },
  {
   "cell_type": "markdown",
   "id": "4e2505fe-9c43-4ce7-aeed-51aa046308fd",
   "metadata": {},
   "source": [
    "Bu kodlarda son satırı şöyle değiştirelim:"
   ]
  },
  {
   "cell_type": "code",
   "execution_count": null,
   "id": "1a668511-8b67-4c78-a94c-24dbc5e75722",
   "metadata": {},
   "outputs": [],
   "source": [
    "import re\n",
    "from urllib.request import urlopen\n",
    "\n",
    "url = \"http://belgeler.istihza.com/py3/index.html\"\n",
    "f = urlopen(url)\n",
    "\n",
    "çıktı = \"Başlık: {};\\nBağlantı: {}\\n\"\n",
    "regex = 'href=\"(.+html)\">(.+)</a>'\n",
    "\n",
    "for i in f:\n",
    "     nesne = re.search(regex, str(i, 'utf-8'))\n",
    "     if nesne:\n",
    "             print(nesne.groups())"
   ]
  },
  {
   "cell_type": "markdown",
   "id": "0253f092-75f4-46c1-aa87-fac78e3b9b68",
   "metadata": {},
   "source": [
    "Gördüğünüz gibi şuna benzer çıktılar elde ediyoruz:\n",
    "\n"
   ]
  },
  {
   "cell_type": "raw",
   "id": "1b4dcb70-9967-4cbd-83fd-e481421d4928",
   "metadata": {},
   "source": [
    "('kitap_hakkinda.html', 'Bu Kitap Hakkında')\n",
    "('python_hakkinda.html', 'Python Hakkında')\n",
    "('temel_komut_satiri_bilgisi.html', 'Temel Komut Satırı Bilgisi')\n",
    "('path.html', 'YOL (<em>PATH</em>) Kavramı')\n",
    "('kurulum.html', 'Python Nasıl Kurulur?')\n",
    "...\n",
    "...\n",
    "..."
   ]
  },
  {
   "cell_type": "markdown",
   "id": "422bea15-9e84-45d4-a65a-5e5d59dfa91c",
   "metadata": {},
   "source": [
    "Demek ki (nesne.groups()) komutu bize “( )” metakarakteri ile daha önceden gruplamış olduğumuz öğeleri bir demet olarak veriyor. Biz de bu demetin öğelerine daha sonradan rahatlıkla erişebiliyoruz…\n",
    "\n",
    "Böylece eşleştirme nesnelerinin en sık kullanılan iki metodunu görmüş olduk. Bunları daha sonraki örneklerimizde de bol bol kullanacağız. O yüzden şimdilik bu konuya ara verelim."
   ]
  },
  {
   "cell_type": "markdown",
   "id": "9f58d61b-21b3-4ef5-8e93-a76b62ea443f",
   "metadata": {},
   "source": [
    "+++++++++++++Özel Diziler\n",
    "\n",
    "Düzenli ifadeler içinde metakarakterler dışında, özel anlamlar taşıyan bazı başka ifadeler de vardır. Bu bölümde bu özel dizileri inceleyeceğiz: Boşluk karakterinin yerini tutan özel dizi: \\s\n",
    "\n",
    "Bu sembol, bir karakter dizisi içinde geçen boşlukları yakalamak için kullanılır. Örneğin:\n",
    "\n"
   ]
  },
  {
   "cell_type": "code",
   "execution_count": 94,
   "id": "d6f9b923-cd50-467f-957f-c9fb2351fbef",
   "metadata": {},
   "outputs": [
    {
     "name": "stdout",
     "output_type": "stream",
     "text": [
      "5 Ocak\n",
      "4 Ekim\n"
     ]
    }
   ],
   "source": [
    "a = [\"5 Ocak\", \"27Mart\", \"4 Ekim\", \"Nisan 3\"]\n",
    "for i in a:\n",
    "    nesne = re.search(\"[0-9]\\\\s[A-Za-z]+\",i)\n",
    "    if nesne:\n",
    "        print(nesne.group())"
   ]
  },
  {
   "cell_type": "markdown",
   "id": "b0d19f06-1d0b-4ceb-b326-d33a4774a95f",
   "metadata": {},
   "source": [
    "Yukarıdaki örnekte, bir sayı ile başlayan, ardından bir adet boşluk karakteri içeren, sonra da bir büyük veya küçük harfle devam eden karakter dizilerini ayıkladık. Burada boşluk karakterini “\\s” simgesi ile gösterdiğimize dikkat edin."
   ]
  },
  {
   "cell_type": "markdown",
   "id": "58d57340-f747-425d-b6d9-f5c543302ec0",
   "metadata": {},
   "source": [
    "++++++++++++Ondalık Sayıların Yerini Tutan Özel Dizi: \\d\n",
    "\n",
    "Bu sembol, bir karakter dizisi içinde geçen ondalık sayıları eşleştirmek için kullanılır. Buraya kadar olan örneklerde bu işlevi yerine getirmek için “[0-9]” ifadesinden yararlanıyorduk. Şimdi artık aynı işlevi daha kısa yoldan, “\\d” dizisi ile yerine getirebiliriz. İsterseniz yine yukarıdaki örnekten gidelim:"
   ]
  },
  {
   "cell_type": "code",
   "execution_count": 95,
   "id": "63c21a4a-9441-4946-a3b2-00469b18e1e3",
   "metadata": {},
   "outputs": [
    {
     "name": "stdout",
     "output_type": "stream",
     "text": [
      "5 Ocak\n",
      "4 Ekim\n"
     ]
    }
   ],
   "source": [
    "a = [\"5 Ocak\", \"27Mart\", \"4 Ekim\", \"Nisan 3\"]\n",
    "for i in a:\n",
    "    nesne = re.search(\"\\d\\s[A-Za-z]+\",i)\n",
    "    if nesne:\n",
    "        print(nesne.group())\n"
   ]
  },
  {
   "cell_type": "markdown",
   "id": "83378f12-67e4-4f12-baca-f7c2de687dc4",
   "metadata": {},
   "source": [
    "Burada, “[0-9]” yerine “\\d” yerleştirerek daha kısa yoldan sonuca vardık."
   ]
  },
  {
   "cell_type": "markdown",
   "id": "d35d240b-5211-4ef4-85d7-ae08a8e6912d",
   "metadata": {},
   "source": [
    "+++++++++++++Alfanümerik Karakterlerin Yerini Tutan Özel Dizi: \\w\n",
    "\n",
    "Bu sembol, bir karakter dizisi içinde geçen alfanümerik karakterleri ve buna ek olarak “_” karakterini bulmak için kullanılır. Şu örneğe bakalım:\n",
    "\n"
   ]
  },
  {
   "cell_type": "code",
   "execution_count": 96,
   "id": "4255ce46-edfa-4d1c-8250-05c1d52f363f",
   "metadata": {},
   "outputs": [
    {
     "name": "stdout",
     "output_type": "stream",
     "text": [
      "abc123_\n"
     ]
    }
   ],
   "source": [
    "a = \"abc123_$%+\"\n",
    "print(re.search(\"\\w*\", a).group())"
   ]
  },
  {
   "cell_type": "markdown",
   "id": "6a976d81-06a1-432f-84b7-da0efb3bec0c",
   "metadata": {},
   "source": [
    "“\\w” özel dizisinin hangi karakterleri eşlediğine dikkat edin. Bu özel dizi şu ifadeyle aynı anlama gelir:\n",
    "\n"
   ]
  },
  {
   "cell_type": "raw",
   "id": "bae543d6-e54c-4c69-8bfc-c4e7ace895f7",
   "metadata": {},
   "source": [
    "[A-Za-z0-9_]"
   ]
  },
  {
   "cell_type": "markdown",
   "id": "b5006878-b19c-4fa0-8806-502b0325e871",
   "metadata": {},
   "source": [
    "Düzenli ifadeler içindeki özel diziler genel olarak bunlardan ibarettir. Ama bir de bunların büyük harfli versiyonları vardır ki, önemli oldukları için onları da inceleyeceğiz.\n",
    "\n",
    "Gördüğünüz gibi;\n",
    "\n",
    "“\\s” özel dizisi boşluk karakterlerini avlıyor\n",
    "\n",
    "“\\d” özel dizisi ondalık sayıları avlıyor\n",
    "\n",
    "“\\w” özel dizisi alfanümerik karakterleri ve “_” karakterini avlıyor\n",
    "\n",
    "Dedik ki, bir de bunların büyük harfli versiyonları vardır. İşte bu büyük harfli versiyonlar da yukarıdaki dizilerin yaptığı işin tam tersini yapar. Yani:\n",
    "\n",
    "“\\S” özel dizisi boşluk olmayan karakterleri avlar\n",
    "\n",
    "“\\D” özel dizisi ondalık sayı olmayan karakterleri avlar. Yani “[^0-9]” ile eşdeğerdir.\n",
    "\n",
    "“\\W” özel dizisi alfanümerik olmayan karakterleri ve “_” olmayan karakterleri avlar. Yani [^A-Za-z0-9_] ile eşdeğerdir.\n",
    "\n",
    "“\\D” ve “\\W” dizilerinin yeterince anlaşılır olduğunu zannediyorum. Burada sanırım sadece “S” dizisi bir örnekle somutlaştırılmayı hakediyor:"
   ]
  },
  {
   "cell_type": "code",
   "execution_count": 2,
   "id": "ccfd8781-1191-4121-9666-064821b3ee98",
   "metadata": {},
   "outputs": [
    {
     "name": "stdout",
     "output_type": "stream",
     "text": [
      "27Mart\n"
     ]
    }
   ],
   "source": [
    "import re\n",
    "a = [\"5 Ocak\", \"27Mart\", \"4 Ekim\", \"Nisan 3\"]\n",
    "for i in a:\n",
    "    nesne = re.search(\"\\d+\\S\\w+\",i)\n",
    "    if nesne:\n",
    "        print(nesne.group())\n"
   ]
  },
  {
   "cell_type": "markdown",
   "id": "248169db-38e4-45fb-b5e6-55a60f39a4b5",
   "metadata": {},
   "source": [
    "Burada “\\S” özel dizisinin listede belirtilen konumda boşluk içermeyen öğeyi nasıl bulduğuna dikkat edin.\n",
    "\n",
    "Şimdi bu özel diziler için genel bir örnek verip konuyu kapatalım…\n",
    "\n",
    "Bilgisayarımızda şu bilgileri içeren “adres.txt” adlı bir dosya olduğunu varsayıyoruz:\n",
    "\n"
   ]
  },
  {
   "cell_type": "code",
   "execution_count": 3,
   "id": "bd3abf30-9bab-4e04-ae83-998e5fb37a6d",
   "metadata": {},
   "outputs": [
    {
     "ename": "SyntaxError",
     "evalue": "leading zeros in decimal integer literals are not permitted; use an 0o prefix for octal integers (1755160284.py, line 1)",
     "output_type": "error",
     "traceback": [
      "\u001b[0;36m  Cell \u001b[0;32mIn[3], line 1\u001b[0;36m\u001b[0m\n\u001b[0;31m    esra : istinye 05331233445 esma : levent 05322134344 sevgi : dudullu\u001b[0m\n\u001b[0m                   ^\u001b[0m\n\u001b[0;31mSyntaxError\u001b[0m\u001b[0;31m:\u001b[0m leading zeros in decimal integer literals are not permitted; use an 0o prefix for octal integers\n"
     ]
    }
   ],
   "source": [
    "esra : istinye 05331233445 esma : levent 05322134344 sevgi : dudullu\n",
    "05354445434 kemal : sanayi 05425455555 osman : tahtakale 02124334444\n",
    "metin : taksim 02124344332 kezban : caddebostan 02163222122"
   ]
  },
  {
   "cell_type": "markdown",
   "id": "28c64b3d-e2a0-40de-97e1-1b684aa3d352",
   "metadata": {},
   "source": [
    "Amacımız bu dosyada yer alan isim ve telefon numaralarını “isim > telefon numarası” şeklinde almak:"
   ]
  },
  {
   "cell_type": "code",
   "execution_count": null,
   "id": "210866fb-696e-4619-80b5-d4142b345c06",
   "metadata": {},
   "outputs": [],
   "source": [
    "import re\n",
    "dosya = open(\"adres.txt\")\n",
    "for i in dosya.readlines():\n",
    "    nesne = re.search(\"(\\w+)\\s+:\\s(\\w+)\\s+(\\d+)\",i)\n",
    "    if nesne:\n",
    "        print(\"{} > {}\".format(nesne.group(1), nesne.group(3)))"
   ]
  },
  {
   "cell_type": "markdown",
   "id": "815e36fe-4cd0-417d-bdb3-7c8b0366cba8",
   "metadata": {},
   "source": [
    "Burada formülümüz şu şekilde: “Bir veya daha fazla karakter” + “bir veya daha fazla boşluk” + “’:’ işareti” + “bir adet boşluk” + “bir veya daha fazla sayı”\n",
    "\n",
    "İsterseniz bu bölümü çok basit bir soruyla kapatalım. Sorumuz şu:\n",
    "\n",
    "Elimizde şu adresteki yığın var: https://web.archive.org/web/20130511050633/http://www.istihza.com/denemeler/yigin.txt\n",
    "\n",
    "Yapmanız gereken, bu yığın içindeki gizli mesajı düzenli ifadeleri kullanarak bulmak…\n",
    "\n"
   ]
  },
  {
   "cell_type": "markdown",
   "id": "15674814-0c96-4865-abb6-4a14e09c667f",
   "metadata": {},
   "source": [
    "++++++++++++Düzenli İfadelerin Derlenmesi\n",
    "\n",
    "+++++++++++++++compile() metodu\n",
    "\n",
    "En başta da söylediğimiz gibi, düzenli ifadeler karakter dizilerine göre biraz daha yavaş çalışırlar. Ancak düzenli ifadelerin işleyişini hızlandırmanın da bazı yolları vardır. Bu yollardan biri de compile() metodunu kullanmaktır. “compile” kelimesi İngilizcede “derlemek” anlamına gelir. İşte biz de bu compile() metodu yardımıyla düzenli ifade kalıplarımızı kullanmadan önce derleyerek daha hızlı çalışmalarını sağlayacağız. Küçük boyutlu projelerde compile() metodu pek hissedilir bir fark yaratmasa da özellikle büyük çaplı programlarda bu metodu kullanmak oldukça faydalı olacaktır.\n",
    "\n",
    "Basit bir örnekle başlayalım:\n",
    "\n"
   ]
  },
  {
   "cell_type": "code",
   "execution_count": 4,
   "id": "6e31bcaa-ff4b-4319-8465-459940dd6319",
   "metadata": {},
   "outputs": [
    {
     "name": "stdout",
     "output_type": "stream",
     "text": [
      "Python2.7\n",
      "Python3.2\n",
      "Python3.3\n",
      "Python3.4\n"
     ]
    }
   ],
   "source": [
    "liste = [\"Python2.7\", \"Python3.2\", \"Python3.3\",\n",
    "\"Python3.4\", \"Java\"]\n",
    "derli = re.compile(\"[A-Za-z]+[0-9]\\.[0-9]\")\n",
    "for i in liste:\n",
    "    nesne = derli.search(i)\n",
    "    if nesne:\n",
    "        print(nesne.group())\n"
   ]
  },
  {
   "cell_type": "markdown",
   "id": "e5f183c8-6fd3-459d-8c45-849a7febf722",
   "metadata": {},
   "source": [
    "Burada öncelikle düzenli ifade kalıbımızı derledik. Derleme işlemini nasıl yaptığımıza dikkat edin. Derlenecek düzenli ifade kalıbını compile() metodunda parantez içinde belirtiyoruz. Daha sonra search() metodunu kullanırken ise, re.search() demek yerine, derli.search() şeklinde bir ifade kullanıyoruz. Ayrıca dikkat ederseniz derli.search() kullanımında parantez içinde sadece eşleşecek karakter dizisini kullandık (i). Eğer derleme işlemi yapmamış olsaydık, hem bu karakter dizisini, hem de düzenli ifade kalıbını yan yana kullanmamız gerekecektir. Ama düzenli ifade kalıbımızı yukarıda derleme işlemi esnasında belirttiğimiz için, bu kalıbı ikinci kez yazmamıza gerek kalmadı. Ayrıca burada kullandığımız düzenli ifade kalıbına da dikkat edin. Nasıl bir şablon oturttuğumuzu anlamaya çalışın. Gördüğünüz gibi, liste öğelerinde bulunan “.” işaretini eşleştirmek için düzenli ifade kalıbı içinde “\\.” ifadesini kullandık. Çünkü bildiğiniz gibi, tek başına “.” işaretinin Python açısından özel bir anlamı var. Dolayısıyla bu özel anlamdan kaçmak için “\\” işaretini de kullanmamız gerekiyor."
   ]
  },
  {
   "cell_type": "markdown",
   "id": "28a6a53d-f05e-41ee-9e26-9ec9d8cf18d3",
   "metadata": {},
   "source": [
    "++++++++++++++compile() ile Derleme Seçenekleri\n",
    "\n",
    "Bir önceki bölümde compile() metodunun ne olduğunu, ne işe yaradığını ve nasıl kullanıldığını görmüştük. Bu bölümde ise “compile” (derleme) işlemi sırasında kullanılabilecek seçenekleri anlatacağız."
   ]
  },
  {
   "cell_type": "markdown",
   "id": "53cb80c1-247b-4aa5-9f5b-5c6fe96a1952",
   "metadata": {},
   "source": [
    "++++++++++++re.IGNORECASE veya re.I\n",
    "\n",
    "Bildiğiniz gibi, Python’da büyük-küçük harfler önemlidir. Yani eğer “python” kelimesini arıyorsanız, alacağınız çıktılar arasında “Python” olmayacaktır. Çünkü “python” ve “Python” birbirlerinden farklı iki karakter dizisidir. İşte re.IGNORECASE veya kısaca re.I adlı derleme seçenekleri bize büyük-küçük harfe dikkat etmeden arama yapma imkanı sağlar. Hemen bir örnek verelim:\n",
    "\n"
   ]
  },
  {
   "cell_type": "code",
   "execution_count": 5,
   "id": "47f31d15-17fe-4255-bf1e-a68a2fefd2d9",
   "metadata": {},
   "outputs": [
    {
     "name": "stdout",
     "output_type": "stream",
     "text": [
      "['Programlama', 'Programlama', 'programlama', 'programlama']\n"
     ]
    }
   ],
   "source": [
    "import re\n",
    "\n",
    "metin = \"\"\"Programlama dili, programcının bir bilgisayara ne yapmasını\n",
    "istediğini anlatmasının standartlaştırılmış bir yoludur. Programlama\n",
    "dilleri, programcının bilgisayara hangi veri üzerinde işlem yapacağını,\n",
    "verinin nasıl depolanıp iletileceğini, hangi koşullarda hangi işlemlerin\n",
    "yapılacağını tam olarak anlatmasını sağlar. Şu ana kadar 2500’den fazla\n",
    "programlama dili yapılmıştır. Bunlardan bazıları: Pascal, Basic, C, C#,\n",
    "C++, Java, Cobol, Perl, Python, Ada, Fortran, Delphi programlama\n",
    "dilleridir.\"\"\"\n",
    "\n",
    "derli = re.compile(\"programlama\",re.IGNORECASE)\n",
    "print(derli.findall(metin))"
   ]
  },
  {
   "cell_type": "markdown",
   "id": "3782a99e-e0d8-4a1e-a2ff-f7f45de24caf",
   "metadata": {},
   "source": [
    "Gördüğünüz gibi, metinde geçen hem “programlama” kelimesini hem de “Programlama” kelimesini ayıklayabildik. Bunu yapmamızı sağlayan şey de re.IGNORECASE adlı derleme seçeneği oldu. Eğer bu seçeneği kullanmasaydık, çıktıda yalnızca “programlama” kelimesini görürdük. Çünkü aradığımız şey aslında “programlama” kelimesi idi. Biz istersek re.IGNORECASE yerine kısaca re.I ifadesini de kullanabiliriz. Aynı anlama gelecektir…\n",
    "\n"
   ]
  },
  {
   "cell_type": "markdown",
   "id": "1f805dde-7bfe-4281-9900-c9e09dc7ea34",
   "metadata": {},
   "source": [
    "+++++++++++++re.DOTALL veya re.S\n",
    "\n",
    "Bildiğiniz gibi, metakarakterler arasında yer alan “.” sembolü herhangi bir karakterin yerini tutuyordu. Bu metakarakter bütün karakterlerin yerini tutmak üzere kullanılabilir. Hatırlarsanız, “.” metakarakterini anlatırken, bu metakarakterin, yeni satır karakterinin yerini tutmayacağını söylemiştik. Bunu bir örnek yardımıyla görelim. Diyelim ki elimizde şöyle bir karakter dizisi var:\n",
    "\n"
   ]
  },
  {
   "cell_type": "code",
   "execution_count": null,
   "id": "2135e7b3-e807-42fa-85ea-b5640d6dfa1d",
   "metadata": {},
   "outputs": [],
   "source": [
    "a = \"Ben Python,\\nMonty Python\""
   ]
  },
  {
   "cell_type": "markdown",
   "id": "6a5a535c-e397-48eb-b58f-ba77671c9609",
   "metadata": {},
   "source": [
    "Bu karakter dizisi içinde “Python” kelimesini temel alarak bir arama yapmak istiyorsak eğer, kullanacağımız şu kod istediğimiz şeyi yeterince yerine getiremeyecektir:"
   ]
  },
  {
   "cell_type": "code",
   "execution_count": null,
   "id": "05e8a03b-a60c-408c-9399-b304fe0a518b",
   "metadata": {},
   "outputs": [],
   "source": [
    "print(re.search(\"Python.*\", a).group())"
   ]
  },
  {
   "cell_type": "markdown",
   "id": "540c180f-64d8-4641-82e0-41430e34b7e7",
   "metadata": {},
   "source": [
    "Bu kod şu çıktıyı verecektir:"
   ]
  },
  {
   "cell_type": "code",
   "execution_count": null,
   "id": "af0a9a1a-77f6-4193-9010-563ebb2791e6",
   "metadata": {},
   "outputs": [],
   "source": [
    "Python,"
   ]
  },
  {
   "cell_type": "markdown",
   "id": "c806e1fc-b8e3-4401-a848-519246794acb",
   "metadata": {},
   "source": [
    "Bunun sebebi, “.” metakarakterinin “\\n” (yeni satır) kaçış dizisini dikkate almamasıdır. Bu yüzden bu kaçış dizisinin ötesine geçip orada arama yapmıyor. Ama şimdi biz ona bu yeteneği de kazandıracağız:"
   ]
  },
  {
   "cell_type": "code",
   "execution_count": null,
   "id": "1675bfdb-42c8-42aa-b669-a5d98ca9adf4",
   "metadata": {},
   "outputs": [],
   "source": [
    "derle = re.compile(\"Python.*\", re.DOTALL)\n",
    "nesne = derle.search(a)\n",
    "if nesne:\n",
    "    print(nesne.group())"
   ]
  },
  {
   "cell_type": "markdown",
   "id": "1230c53c-54ce-466d-bc14-0092dae96432",
   "metadata": {},
   "source": [
    "re.DOTALL seçeneğini sadece re.S şeklinde de kısaltabilirsiniz…"
   ]
  },
  {
   "cell_type": "markdown",
   "id": "8e5bf214-0a6b-4679-b6a3-874772c34005",
   "metadata": {},
   "source": [
    "+++++++++++++Düzenli İfadelerle Metin/Karakter Dizisi Değiştirme İşlemleri\n",
    "\n",
    "+++++++++++++sub() metodu\n",
    "\n",
    "Şimdiye kadar hep düzenli ifadeler yoluyla bir karakter dizisini nasıl eşleştireceğimizi inceledik. Ama tabii ki düzenli ifadeler yalnızca bir karakter dizisi “bulmak”la ilgili değildir. Bu araç aynı zamanda bir karakter dizisini “değiştirmeyi” de kapsar. Bu iş için temel olarak iki metot kullanılır. Bunlardan ilki sub() metodudur. Bu bölümde sub() metodunu inceleyeceğiz.\n",
    "\n",
    "En basit şekliyle sub() metodunu şu şekilde kullanabiliriz:"
   ]
  },
  {
   "cell_type": "code",
   "execution_count": 6,
   "id": "ed3ea81b-a332-412d-bf58-a45adb2d8451",
   "metadata": {},
   "outputs": [
    {
     "name": "stdout",
     "output_type": "stream",
     "text": [
      "yeşil başlıklı kız, yeşil elma dolu sepetiyle anneannesinin evine gidiyormuş!\n"
     ]
    }
   ],
   "source": [
    "a = \"Kırmızı başlıklı kız, kırmızı elma dolu sepetiyle \\\n",
    "anneannesinin evine gidiyormuş!\"\n",
    "derle = re.compile(\"kırmızı\", re.IGNORECASE)\n",
    "print(derle.sub(\"yeşil\", a))"
   ]
  },
  {
   "cell_type": "markdown",
   "id": "7d0d69f4-cd0a-47f9-b9e3-5175ccca26e5",
   "metadata": {},
   "source": [
    "Burada karakter dizimiz içinde geçen bütün “kırmızı” kelimelerini “yeşil” kelimesiyle değiştirdik. Bunu yaparken de re.IGNORECASE adlı derleme seçeneğinden yararlandık.\n",
    "\n",
    "Elbette sub() metoduyla daha karmaşık işlemler yapılabilir. Bu noktada şöyle bir hatırlatma yapalım. Bu sub() metodu karakter dizilerinin replace() metoduna çok benzer. Ama tabii ki sub() metodu hem kendi başına replace() metodundan çok daha güçlüdür, hem de beraber kullanılabilecek derleme seçenekleri sayesinde replace() metodundan çok daha esnektir. Ama tabii ki, eğer yapmak istediğiniz iş replace() metoduyla halledilebiliyorsa en doğru yol, replace() metodunu kullanmaktır…\n",
    "\n",
    "Şimdi bu sub() metodunu kullanarak biraz daha karmaşık bir işlem yapacağız. Aşağıdaki metne bakalım:"
   ]
  },
  {
   "cell_type": "code",
   "execution_count": null,
   "id": "2f115e95-4243-4a5d-bfa9-cb21db0c7496",
   "metadata": {},
   "outputs": [],
   "source": [
    "metin = \"\"\"Karadeniz Ereğlisi denince akla ilk olarak kömür ve demir-çelik\n",
    "gelir. Kokusu ve tadıyla dünyaya nam salmış meşhur Osmanlı çileği ise ismini\n",
    "verdiği festival günleri dışında pek hatırlanmaz. Oysa Çin'den Arnavutköy'e\n",
    "oradan da Ereğli'ye getirilen kralların meyvesi çilek, burada geçirdiği değişim\n",
    "sonucu tadına doyulmaz bir hal alır. Ereğli'nin havasından mı suyundan mı\n",
    "bilinmez, kokusu, tadı bambaşka bir hale dönüşür ve meşhur Osmanlı çileği\n",
    "unvanını hak eder. Bu nazik ve aromalı çilekten yapılan reçel de likör de bir\n",
    "başka olur. Bu yıl dokuzuncusu düzenlenen Uluslararası Osmanlı Çileği Kültür\n",
    "Festivali'nde 36 üretici arasında yetiştirdiği çileklerle birinci olan Kocaali\n",
    "Köyü'nden Güner Özdemir, yılda bir ton ürün alıyor. 60 yaşındaki Özdemir,\n",
    "çileklerinin sırrını yoğun ilgiye ve içten duyduğu sevgiye bağlıyor: \"Erkekler\n",
    "bahçemize giremez. Koca ayaklarıyla ezerler çileklerimizi\" Çileği toplamanın zor\n",
    "olduğunu söyleyen Ayşe Özhan da çocukluğundan bu yana çilek bahçesinde\n",
    "çalışıyor. Her sabah 04.00'te kalkan Özhan, çileklerini özenle suluyor. Kasım\n",
    "başında ektiği çilek fideleri haziran başında meyve veriyor.\"\"\""
   ]
  },
  {
   "cell_type": "markdown",
   "id": "5b722df2-8e13-4011-aa6d-21c261bb95df",
   "metadata": {},
   "source": [
    "Gelin bu metin içinde geçen “çilek” kelimelerini “erik” kelimesi ile değiştirelim. Ama bunu yaparken, metin içinde “çilek” kelimesinin “Çilek” şeklinde de geçtiğine dikkat edelim. Ayrıca Türkçe kuralları gereği bu “çilek” kelimesinin bazı yerlerde ünsüz yumuşamasına uğrayarak “çileğ-” şekline dönüştüğünü de unutmayalım.\n",
    "\n",
    "Bu metin içinde geçen “çilek” kelimelerini “erik”le değiştirmek için birkaç yol kullanabilirsiniz. Birinci yolda, her değişiklik için ayrı bir düzenli ifade oluşturulabilir. Ancak bu yolun dezavantajı, metnin de birkaç kez kopyalanmasını gerektirmesidir. Çünkü ilk düzenli ifade oluşturulup buna göre metinde bir değişiklik yapıldıktan sonra, ilk değişiklikleri içeren metnin, farklı bir metin olarak kopyalanması gerekir (metin2 gibi…). Ardından ikinci değişiklik yapılacağı zaman, bu değişikliğin metin2 üzerinden yapılması gerekir. Aynı şekilde bu metin de, mesela, metin3 şeklinde tekrar kopyalanmalıdır. Bundan sonraki yeni bir değişiklik de bu metin3 üzerinden yapılacaktır… Bu durum bu şekilde uzar gider… Metni tekrar tekrar kopyalamak yerine, düzenli ifadeleri kullanarak şöyle bir çözüm de üretebiliriz:"
   ]
  },
  {
   "cell_type": "code",
   "execution_count": null,
   "id": "2ec504be-1429-4427-8ec6-73a50f90e567",
   "metadata": {},
   "outputs": [],
   "source": [
    "import re\n",
    "\n",
    "derle = re.compile(\"çile[kğ]\", re.IGNORECASE)\n",
    "\n",
    "def degistir(nesne):\n",
    "    a = {\"çileğ\":\"eriğ\", \"Çileğ\":\"Eriğ\", \"Çilek\":\"Erik\", \"çilek\":\"erik\"}\n",
    "    b = nesne.group().split()\n",
    "    for i in b:\n",
    "        return a[i]\n",
    "\n",
    "print(derle.sub(degistir, metin))"
   ]
  },
  {
   "cell_type": "markdown",
   "id": "5218c6f2-3dd0-42b1-9baf-80a0b24559aa",
   "metadata": {},
   "source": [
    "Gördüğünüz gibi, sub() metodu, argüman olarak bir fonksiyon da alabiliyor. Yukarıdaki kodlar biraz karışık görünmüş olabilir. Tek tek açıklayalım…\n",
    "\n",
    "Öncelikle şu satıra bakalım:"
   ]
  },
  {
   "cell_type": "code",
   "execution_count": null,
   "id": "548b46a3-b425-4104-94a5-d009ea6e2f9d",
   "metadata": {},
   "outputs": [],
   "source": [
    "derle = re.compile(\"çile[kğ]\", re.IGNORECASE)"
   ]
  },
  {
   "cell_type": "markdown",
   "id": "fa3cb0d8-0289-437e-a20e-85be75ef743a",
   "metadata": {},
   "source": [
    "Burada amacımız, metin içinde geçen “çilek” ve “çileğ” kelimelerini bulmak. Neden “çileğ”? Çünkü “çilek” kelimesi bir sesli harften önce geldiğinde sonundaki “k” harfi “ğ”ye dönüşüyor. Bu seçenekli yapıyı, daha önceki bölümlerde gördüğümüz “[ ]” adlı metakarakter yardımıyla oluşturduk. Düzenli ifade kalıbımızın hem büyük harfleri hem de küçük harfleri aynı anda bulması için re.IGNORECASE seçeneğinden yararlandık.\n",
    "\n",
    "Şimdi de şu satırlara bakalım:"
   ]
  },
  {
   "cell_type": "code",
   "execution_count": null,
   "id": "7cacd098-ccbe-4163-989e-17dfec07a37d",
   "metadata": {},
   "outputs": [],
   "source": [
    "def degistir(nesne):\n",
    "    a = {\"çileğ\":\"eriğ\", \"Çileğ\":\"Eriğ\", \"Çilek\":\"Erik\", \"çilek\":\"erik\"}\n",
    "    b = nesne.group().split()\n",
    "    for i in b:\n",
    "        return a[i]"
   ]
  },
  {
   "cell_type": "markdown",
   "id": "f3e83aff-edfa-4512-8eab-1fcb98bb362b",
   "metadata": {},
   "source": [
    "Burada, daha sonra sub() metodu içinde kullanacağımız fonksiyonu yazıyoruz. Fonksiyonu, def degistir(nesne) şeklinde tanımladık. Burada “nesne” adlı bir argüman kullanmamızın nedeni, fonksiyon içinde group() metodunu kullanacak olmamız. Bu metodu fonksiyon içinde “nesne” adlı argümana bağlayacağız. Bu fonksiyon, daha sonra yazacağımız sub() metodu tarafından çağrıldığında, yaptığımız arama işlemi sonucunda ortaya çıkan “eşleşme nesnesi” fonksiyona atanacaktır (eşleşme nesnesinin ne demek olduğunu ilk bölümlerden hatırlıyorsunuz). İşte “nesne” adlı bir argüman kullanmamızın nedeni de, eşleşme nesnelerinin bir metodu olan group() metodunu fonksiyon içinde kullanabilmek…\n",
    "\n",
    "Bir sonraki satırda bir adet sözlük görüyoruz:"
   ]
  },
  {
   "cell_type": "code",
   "execution_count": null,
   "id": "46ab1c99-12c8-41b4-bd18-d0be6eafec62",
   "metadata": {},
   "outputs": [],
   "source": [
    "a = {\"çileğ\":\"eriğ\", \"Çileğ\":\"Eriğ\", \"Çilek\":\"Erik\", \"çilek\":\"erik\"}"
   ]
  },
  {
   "cell_type": "markdown",
   "id": "88fb83c3-1a27-4d96-8233-767a342bb4bf",
   "metadata": {},
   "source": [
    "Bu sözlüğü oluşturmamızın nedeni, metin içinde geçen bütün “çilek” kelimelerini tek bir “erik” kelimesiyle değiştiremeyecek olmamız… Çünkü “çilek” kelimesi metin içinde pek çok farklı biçimde geçiyor. Başta da dediğimiz gibi, yukarıdaki yol yerine metni birkaç kez kopyalayarak ve her defasında bir değişiklik yaparak da sorunu çözebilirsiniz. (Mesela önce “çilek” kelimelerini bulup bunları “erik” ile değiştirirsiniz. Daha sonra “çileğ” kelimelerini arayıp bunları “eriğ” ile değiştirirsiniz, vb…) Ama metni tekrar tekrar oluşturmak pek performanslı bir yöntem olmayacaktır. Bizim şimdi kullandığımız yöntem metin kopyalama zorunluluğunu ortadan kaldırıyor. Bu sözlük içinde “çilek” kelimesinin alacağı şekilleri sözlük içinde birer anahtar olarak, “erik” kelimesinin alacağı şekilleri ise birer “değer” olarak belirliyoruz.\n",
    "\n",
    "Sonraki satırda iki metot birden var:"
   ]
  },
  {
   "cell_type": "code",
   "execution_count": null,
   "id": "acc3c924-cfd0-4228-8ee3-c24fcacec104",
   "metadata": {},
   "outputs": [],
   "source": [
    "b = nesne.group().split()"
   ]
  },
  {
   "cell_type": "markdown",
   "id": "02d74e69-3718-4d2f-9ef5-4179b0d37d03",
   "metadata": {},
   "source": [
    "Burada, fonksiyonumuzun argümanı olarak vazife gören eşleşme nesnesine ait metotlardan biri olan group() metodunu kullanıyoruz. Böylece derle = re.compile(\"çile[kğ]\", re.IGNORECASE) satırı yardımıyla metin içinde bulduğumuz bütün “çilek” ve çeşitlerini alıyoruz. Karakter dizilerinin split() metodunu kullanmamızın nedeni ise group() metodunun verdiği çıktıyı liste haline getirip daha kolay manipüle etmek. Burada for i in b: print(i) komutunu verirseniz group() metodu yardımıyla ne bulduğumuzu görebilirsiniz:\n",
    "\n"
   ]
  },
  {
   "cell_type": "raw",
   "id": "3882be43-f369-43ac-8d30-658db98edc7f",
   "metadata": {},
   "source": [
    "çileğ\n",
    "çilek\n",
    "çileğ\n",
    "çilek\n",
    "Çileğ\n",
    "çilek\n",
    "çilek\n",
    "çilek\n",
    "Çileğ\n",
    "çilek\n",
    "çilek\n",
    "çilek"
   ]
  },
  {
   "cell_type": "markdown",
   "id": "be87a3b0-9a40-4529-8e23-5af6b355693f",
   "metadata": {},
   "source": [
    "Bu çıktıyı gördükten sonra, kodlarda yapmaya çalıştığımız şey daha anlamlı görünmeye başlamış olmalı… Şimdi sonraki satıra geçiyoruz:\n",
    "\n"
   ]
  },
  {
   "cell_type": "code",
   "execution_count": null,
   "id": "278c86c8-3fd0-47c3-bdc5-fbe638003ca7",
   "metadata": {},
   "outputs": [],
   "source": [
    "for i in b:\n",
    "    return a[i]"
   ]
  },
  {
   "cell_type": "markdown",
   "id": "fbbdd686-0a98-4a69-83e1-c87113c94d59",
   "metadata": {},
   "source": [
    "Burada, group() metodu yardımıyla bulduğumuz eşleşmeler üzerinde bir for döngüsü oluşturduk. Ardından da return a[i] komutunu vererek “a” adlı sözlük içinde yer alan öğeleri yazdırıyoruz. Bu arada, buradaki “i”nin yukarıda verdiğimiz group() çıktılarını temsil ettiğine dikkat edin. a[i] gibi bir komut verdiğimizde aslında sırasıyla şu komutları vermiş oluyoruz:"
   ]
  },
  {
   "cell_type": "code",
   "execution_count": null,
   "id": "f8ec2a39-fc20-4807-83f3-d189976f8dc7",
   "metadata": {},
   "outputs": [],
   "source": [
    "a[\"çilek\"]\n",
    "a[\"çileğ\"]\n",
    "a[\"çilek\"]\n",
    "a[\"Çileğ\"]\n",
    "a[\"çilek\"]\n",
    "a[\"çilek\"]\n",
    "a[\"çilek\"]\n",
    "a[\"Çileğ\"]\n",
    "a[\"çilek\"]\n",
    "a[\"çilek\"]"
   ]
  },
  {
   "cell_type": "markdown",
   "id": "135a6542-6ee4-474e-9d05-bb595c662a74",
   "metadata": {},
   "source": [
    "Bu komutların çıktıları sırasıyla “erik”, “eriğ”, “erik”, “Eriğ”, “erik”, “erik”, “erik”, “Eriğ”, “erik”, “erik” olacaktır. İşte bu return satırı bir sonraki kod olan print(derle.sub(degistir,metin)) ifadesinde etkinlik kazanacak. Bu son satırımız sözlük öğelerini tek tek metne uygulayacak ve mesela a[\"çilek\"] komutu sayesinde metin içinde “çilek” gördüğü yerde “erik” kelimesini yapıştıracak ve böylece bize istediğimiz şekilde değiştirilmiş bir metin verecektir…\n",
    "\n",
    "Bu kodların biraz karışık gibi göründüğünü biliyorum, ama aslında çok basit bir mantığı var: group() metodu ile metin içinde aradığımız kelimeleri ayıklıyor. Ardından da “a” sözlüğü içinde bunları anahtar olarak kullanarak “çilek” ve çeşitleri yerine “erik” ve çeşitlerini koyuyor…\n",
    "\n",
    "Yukarıda verdiğimiz düzenli ifadeyi böyle ufak bir metinde kullanmak çok anlamlı olmayabilir. Ama çok büyük metinler üzerinde çok çeşitli ve karmaşık değişiklikler yapmak istediğinizde bu kodların işinize yarayabileceğini göreceksiniz."
   ]
  },
  {
   "cell_type": "markdown",
   "id": "c1b9dcfd-1c35-4798-9956-21801491d504",
   "metadata": {},
   "source": [
    "++++++++++++++subn() metodu\n",
    "\n",
    "Bu metodu çok kısa bir şekilde anlatıp geçeceğiz. Çünkü bu metot sub() metoduyla neredeyse tamamen aynıdır. Tek farkı, subn() metodunun bir metin içinde yapılan değişiklik sayısını da göstermesidir. Yani bu metodu kullanarak, kullanıcılarınıza “toplam şu kadar sayıda değişiklik yapılmıştır” şeklinde bir bilgi verebilirsiniz. Bu metot çıktı olarak iki öğeli bir demet verir. Birinci öğe değiştirilen metin, ikinci öğe ise yapılan değişiklik sayısıdır. Yani kullanıcıya değişiklik sayısını göstermek için yapmanız gereken şey, bu demetin ikinci öğesini almaktır. Mesela sub() metodunu anlatırken verdiğimiz kodların son satırını şöyle değiştirebilirsiniz:"
   ]
  },
  {
   "cell_type": "code",
   "execution_count": null,
   "id": "ff8e0c12-04a8-45e6-957e-1fb8715d4f44",
   "metadata": {},
   "outputs": [],
   "source": [
    "ab = derle.subn(degistir, metin)\n",
    "print(\"Toplam {} değişiklik yapılmıştır.\".format(ab[1]))"
   ]
  },
  {
   "cell_type": "markdown",
   "id": "78d4d4c0-0a43-4812-b34b-b8095ce3c649",
   "metadata": {},
   "source": [
    "Yani:\n",
    "\n"
   ]
  },
  {
   "cell_type": "code",
   "execution_count": 7,
   "id": "98eb6e91-9b02-4937-a8d1-e958a2e7bc9a",
   "metadata": {},
   "outputs": [
    {
     "name": "stdout",
     "output_type": "stream",
     "text": [
      "Toplam 12 değişiklik yapılmıştır.\n"
     ]
    }
   ],
   "source": [
    "import re\n",
    "\n",
    "metin = \"\"\"Karadeniz Ereğlisi denince akla ilk olarak kömür ve demir-çelik\n",
    "gelir. Kokusu ve tadıyla dünyaya nam salmış meşhur Osmanlı çileği ise ismini\n",
    "verdiği festival günleri dışında pek hatırlanmaz. Oysa Çin'den Arnavutköy'e\n",
    "oradan da Ereğli'ye getirilen kralların meyvesi çilek, burada geçirdiği değişim\n",
    "sonucu tadına doyulmaz bir hal alır. Ereğli'nin havasından mı suyundan mı\n",
    "bilinmez, kokusu, tadı bambaşka bir hale dönüşür ve meşhur Osmanlı çileği\n",
    "unvanını hak eder. Bu nazik ve aromalı çilekten yapılan reçel de likör de bir\n",
    "başka olur. Bu yıl dokuzuncusu düzenlenen Uluslararası Osmanlı Çileği Kültür\n",
    "Festivali'nde 36 üretici arasında yetiştirdiği çileklerle birinci olan Kocaali\n",
    "Köyü'nden Güner Özdemir, yılda bir ton ürün alıyor. 60 yaşındaki Özdemir,\n",
    "çileklerinin sırrını yoğun ilgiye ve içten duyduğu sevgiye bağlıyor: \"Erkekler\n",
    "bahçemize giremez. Koca ayaklarıyla ezerler çileklerimizi\" Çileği toplamanın zor\n",
    "olduğunu söyleyen Ayşe Özhan da çocukluğundan bu yana çilek bahçesinde\n",
    "çalışıyor. Her sabah 04.00'te kalkan Özhan, çileklerini özenle suluyor. Kasım\n",
    "başında ektiği çilek fideleri haziran başında meyve veriyor.\"\"\"\n",
    "\n",
    "derle = re.compile(\"çile[kğ]\", re.IGNORECASE)\n",
    "\n",
    "def degistir(nesne):\n",
    "    a = {\"çileğ\":\"eriğ\", \"Çileğ\":\"Eriğ\", \"Çilek\":\"Erik\", \"çilek\":\"erik\"}\n",
    "    b = nesne.group().split()\n",
    "    for i in b:\n",
    "        return a[i]\n",
    "\n",
    "ab = derle.subn(degistir, metin)\n",
    "print(\"Toplam {} değişiklik yapılmıştır.\".format(ab[1]))"
   ]
  },
  {
   "cell_type": "markdown",
   "id": "17b27d07-3b64-42a3-8c53-cee89516d81e",
   "metadata": {},
   "source": [
    "+++++++++++++++Sonuç\n",
    "\n",
    "Böylelikle düzenli ifadeler konusunu bitirmiş olduk. Buradaki amacımız, size düzenli ifadeler konusunda genel bir bakış sunabilmekti. Bu yazıları okuduktan sonra kafanızda düzenli ifadelerle ilgili kabataslak da olsa bir resim oluştuysa bu yazılar amacına ulaşmış demektir. Elbette düzenli ifadeler burada anlattıklarımızdan ibaret değildir. Bu konunun üzerine eğildiğinizde aslında düzenli ifadelerin dipsiz bir kuyu gibi olduğunu göreceksiniz. Esasında en başta da dediğimiz gibi, düzenli ifadeler apayrı bir dil gibidir. Doğrusu şu ki, düzenli ifadeler başlı başına bağımsız bir sistemdir. Hemen hemen bütün programlama dilleri öyle ya da böyle düzenli ifadeleri destekler. Python’da düzenli ifadeleri bünyesine adapte etmiş dillerden biridir. Bizim düzenli ifadeler konusundaki yaklaşımımız, her zaman bunları “gerektiğinde” kullanmak olmalıdır. Dediğimiz gibi, eğer yapmak istediğiniz bir işlemi karakter dizilerinin metotları yardımıyla yapabiliyorsanız düzenli ifadelere girişmemek en iyisidir. Çünkü karakter dizisi metotları hem daha hızlıdır hem de anlaması daha kolaydır."
   ]
  },
  {
   "cell_type": "code",
   "execution_count": null,
   "id": "8be616eb-63f4-4b65-8885-033d21b6ee1c",
   "metadata": {},
   "outputs": [],
   "source": []
  }
 ],
 "metadata": {
  "kernelspec": {
   "display_name": "Python 3 (ipykernel)",
   "language": "python",
   "name": "python3"
  },
  "language_info": {
   "codemirror_mode": {
    "name": "ipython",
    "version": 3
   },
   "file_extension": ".py",
   "mimetype": "text/x-python",
   "name": "python",
   "nbconvert_exporter": "python",
   "pygments_lexer": "ipython3",
   "version": "3.10.12"
  }
 },
 "nbformat": 4,
 "nbformat_minor": 5
}
