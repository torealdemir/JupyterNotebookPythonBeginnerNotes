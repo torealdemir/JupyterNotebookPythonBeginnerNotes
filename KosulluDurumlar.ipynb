{
 "cells": [
  {
   "cell_type": "markdown",
   "id": "87e255de-7d09-47af-b01c-5e8adfb5efa2",
   "metadata": {},
   "source": [
    "+++++++++++KOSULLU DURUMLAR\n",
    "\n",
    "Artık Python programlama dilinde belli bir noktaya geldik sayılır. Ama eğer farkettiyseniz, yine de elimizi kolumuzu bağlayan, istediğimiz şeyleri yapmamıza engel olan bir şeyler var. İşte bu bölümde, Python programlama dilinde hareket alanımızı bir hayli genişletecek araçları tanıyacağız.\n",
    "\n",
    "Aslında sadece bu bölümde değil, bu bölümü takip eden her bölümde, hareket alanımızı kısıtlayan duvarları tek tek yıktığımıza şahit olacaksınız. Özellikle bu bölümde inceleyeceğimiz ‘koşullu durumlar’ konusu, tabir yerindeyse, Python’da boyut atlamamızı sağlayacak.\n",
    "\n",
    "O halde hiç vakit kaybetmeden yola koyulalım…\n",
    "\n",
    "Şimdiye kadar öğrendiğimiz Python bilgilerini kullanarak şöyle bir program yazabileceğimizi biliyorsunuz:\n",
    "\n"
   ]
  },
  {
   "cell_type": "code",
   "execution_count": 1,
   "id": "95a40053-90e3-4bab-8c73-38e37281d17f",
   "metadata": {},
   "outputs": [
    {
     "name": "stdout",
     "output_type": "stream",
     "text": [
      "Programa hoşgeldiniz!\n",
      "\n",
      "Programımızı kullanabilmek için en az\n",
      "13 yaşında olmalısınız.\n",
      "Yaşınız:  15\n"
     ]
    }
   ],
   "source": [
    "yaş = 15\n",
    "\n",
    "print(\"\"\"Programa hoşgeldiniz!\n",
    "\n",
    "Programımızı kullanabilmek için en az\n",
    "13 yaşında olmalısınız.\"\"\")\n",
    "\n",
    "print(\"Yaşınız: \", yaş)"
   ]
  },
  {
   "cell_type": "markdown",
   "id": "cfbefdf9-4e4b-4032-929a-0ea117ed3039",
   "metadata": {},
   "source": [
    "Burada yaptığımız şey çok basit. Öncelikle, değeri 15 olan, yaş adlı bir değişken tanımladık. Daha sonra, programımızı çalıştıran kullanıcılar için bir hoşgeldin mesajı hazırladık. Son olarak da yaş değişkeninin değerini ekrana yazdırdık.\n",
    "\n",
    "Bu programın özelliği tek sesli bir uygulama olmasıdır. Yani bu programda kullanıcıyla herhangi bir etkileşim yok. Burada bütün değerleri/değişkenleri programcı olarak kendimiz belirliyoruz. Bu programın ne kadar yavan olduğunu herhalde söylemeye gerek yok.\n",
    "\n",
    "Ancak yine önceki derslerde öğrendiğimiz input() fonksiyonu yardımıyla yukarıdaki programın üzerindeki yavanlığı bir nebze de olsa atabilir, bu programı rahatlıkla çok sesli bir hale getirebilir, yani kullanıcıyla etkileşim içine girebiliriz.\n",
    "\n",
    "Yukarıdaki tek sesli uygulamayı, input() fonksiyonunu kullanarak çok sesli bir hale nasıl getireceğimizi gayet iyi bildiğinize eminim:"
   ]
  },
  {
   "cell_type": "code",
   "execution_count": 2,
   "id": "acb7cf7d-d42a-401b-a38c-f9530579fb42",
   "metadata": {},
   "outputs": [
    {
     "name": "stdout",
     "output_type": "stream",
     "text": [
      "Programa hoşgeldiniz!\n",
      "\n",
      "Programımızı kullanabilmek için en az\n",
      "13 yaşında olmalısınız.\n",
      "Lütfen yaşınızı girin.\n",
      "\n"
     ]
    },
    {
     "name": "stdin",
     "output_type": "stream",
     "text": [
      "Yaşınız: \t 17\n"
     ]
    },
    {
     "name": "stdout",
     "output_type": "stream",
     "text": [
      "Yaşınız:  17\n"
     ]
    }
   ],
   "source": [
    "print(\"\"\"Programa hoşgeldiniz!\n",
    "\n",
    "Programımızı kullanabilmek için en az\n",
    "13 yaşında olmalısınız.\"\"\")\n",
    "\n",
    "print(\"Lütfen yaşınızı girin.\\n\")\n",
    "\n",
    "yaş = input(\"Yaşınız: \\t\")\n",
    "\n",
    "print(\"Yaşınız: \", yaş)"
   ]
  },
  {
   "cell_type": "markdown",
   "id": "9346496f-08e9-4eb8-b8ae-072963fe3d8a",
   "metadata": {},
   "source": [
    "Tıpkı bir önceki uygulamada olduğu gibi, burada da yaptığımız şey çok basit. İlk örnekte yaş değişkeninin değerini kendimiz elle yazmıştık. İkinci örnekte ise bu yaş değişkenini kullanıcıdan alıyoruz ve tıpkı ilk örnekte olduğu gibi, bu değişkenin değerini ekrana yazdırıyoruz.\n",
    "\n",
    "Bu arada, yukarıdaki uygulamada yer verdiğimiz \\n ve \\t adlı kaçış dizileri de artık sizin için oldukça tanıdık. \\n kaçış dizisi yardımıyla bir alt satıra geçtiğimizi, \\t adlı kaçış dizisi yardımıyla da bir sekmelik boşluk bıraktığımızı biliyorsunuz.\n",
    "\n",
    "Gördüğünüz gibi, şu ana kadar öğrendiklerimizle ancak kullanıcıdan gelen yaş bilgisini ekrana yazdırabiliyoruz. Öğrendiğimiz input() fonksiyonu bize kullanıcıdan bilgi alma imkanı sağlıyor. Ama kullanıcıdan gelen bu bilgiyi şimdilik ancak olduğu gibi kullanabiliyoruz. Yani mesela yukarıdaki örneği dikkate alarak konuşacak olursak, kullanıcının yaşı eğer 13’ün üzerindeyse onu programa kabul edecek, yok eğer 13 yaşın altındaysa da programdan atacak bir mekanizma üretemiyoruz. Yapabildiğimiz tek şey, kullanıcının girdiği veriyi ekrana yazdırmak.\n",
    "\n",
    "Yukarıda verdiğimiz örneklerle nereye varmaya çalıştığımızı az çok tahmin etmişsinizdir. Dikkat ederseniz yukarıda sözünü ettiğimiz şey koşullu bir durum. Yani aslında yapmak istediğimiz şey, kullanıcının yaşını denetleyip, onun programa kabul edilmesini 13 yaşından büyük olma koşuluna bağlamak.\n",
    "\n",
    "İsterseniz tam olarak neden bahsettiğimizi anlayabilmek için, birkaç vaka örneği verelim.\n",
    "\n",
    "Diyelim ki Google’ın Gmail hizmeti aracılığıyla bir e.posta hesabı aldınız. Bu hesaba gireceğiniz zaman Gmail size bir kullanıcı adı ve parola sorar. Siz de kendinize ait kullanıcı adını ve parolayı sayfadaki kutucuklara yazarsınız. Eğer yazdığınız kullanıcı adı ve parola doğruysa hesabınıza erişebilirsiniz. Ama eğer kullanıcı adınız ve parolanız doğru değilse hesabınıza erişemezsiniz. Yani e.posta hesabınıza erişmeniz, kullanıcı adı ve parolayı doğru girme koşuluna bağlıdır.\n",
    "\n",
    "Ya da şu vaka örneğini düşünelim: Diyelim ki Pardus’ta komut satırı aracılığıyla güncelleme işlemi yapacaksınız. sudo pisi up komutunu verdiğiniz zaman güncellemelerin listesi size bildirilecek, bu güncellemeleri yapmak isteyip istemediğiniz sorulacaktır. Eğer evet cevabı verirseniz güncelleme işlemi başlar. Ama eğer hayır cevabı verirseniz güncelleme işlemi başlamaz. Yani güncelleme işleminin başlaması kullanıcının evet cevabı vermesi koşuluna bağlıdır.\n",
    "\n",
    "İşte bu bölümde biz bu tür koşullu durumlardan söz edeceğiz."
   ]
  },
  {
   "cell_type": "markdown",
   "id": "5d6c17d3-1845-4903-812e-4c3c0168e6f2",
   "metadata": {},
   "source": [
    "'KOŞUL DEYIMLERI¶'\n",
    "\n",
    "\n",
    "Hiç kuşkusuz, koşula bağlı durumlar Python’daki en önemli konulardan biridir. Giriş bölümünde bahsettiğimiz koşullu işlemleri yapabilmek için ‘koşul deyimleri’ adı verilen birtakım araçlardan yararlanacağız. Gelin şimdi bu araçların neler olduğunu görelim.\n",
    "\n",
    "if\n",
    "Python programlama dilinde koşullu durumları belirtmek için üç adet deyimden yararlanıyoruz:\n",
    "\n",
    "if\n",
    "\n",
    "elif\n",
    "\n",
    "else\n",
    "\n",
    "İsterseniz önce if deyimi ile başlayalım…\n",
    "\n",
    "Eğer daha önceden herhangi bir programlama dilini az da olsa kurcalama fırsatınız olduysa, bir programlama dilinde if deyimlerinin ne işe yaradığını az çok biliyorsunuzdur. Daha önceden hiç programcılık deneyiminiz olmamışsa da ziyanı yok. Zira bu bölümde if deyimlerinin ne işe yaradığını ve nerelerde kullanıldığını enine boyuna tartışacağız.\n",
    "\n",
    "İngilizce bir kelime olan ‘if’, Türkçede ‘eğer’ anlamına gelir. Anlamından da çıkarabileceğimiz gibi, bu kelime bir koşul bildiriyor. Yani ‘eğer bir şey falanca ise…’ ya da ‘eğer bir şey filanca ise…’ gibi… İşte biz Python’da bir koşula bağlamak istediğimiz durumları if deyimi aracılığıyla göstereceğiz.\n",
    "\n",
    "Gelin isterseniz bu deyimi nasıl kullanacağımıza dair ufacık bir örnek vererek işe başlayalım:\n",
    "\n",
    "Öncelikle elimizde şöyle bir değişken olsun:"
   ]
  },
  {
   "cell_type": "code",
   "execution_count": 4,
   "id": "577d9733-f134-4084-9cf5-5f9517eca7d2",
   "metadata": {},
   "outputs": [],
   "source": [
    "n=255"
   ]
  },
  {
   "cell_type": "markdown",
   "id": "3472ea7f-88d3-4cd2-9577-62fb9ad07126",
   "metadata": {},
   "source": [
    "Yukarıda verdiğimiz değişkenin değerinin bir karakter dizisi değil, aksine bir sayı olduğunu görüyoruz. Şimdi bu değişkenin değerini sorgulayalım:"
   ]
  },
  {
   "cell_type": "code",
   "execution_count": 5,
   "id": "fda6b146-e4d0-42ef-accf-4b0f07377dc5",
   "metadata": {},
   "outputs": [
    {
     "ename": "SyntaxError",
     "evalue": "incomplete input (250007416.py, line 1)",
     "output_type": "error",
     "traceback": [
      "\u001b[0;36m  Cell \u001b[0;32mIn[5], line 1\u001b[0;36m\u001b[0m\n\u001b[0;31m    if n > 10:\u001b[0m\n\u001b[0m              ^\u001b[0m\n\u001b[0;31mSyntaxError\u001b[0m\u001b[0;31m:\u001b[0m incomplete input\n"
     ]
    }
   ],
   "source": [
    "if n > 10:\n"
   ]
  },
  {
   "cell_type": "markdown",
   "id": "9644d7a1-b6ff-44c6-926a-ffc99f75816d",
   "metadata": {},
   "source": [
    "Burada sayının 10’dan büyük olup olmadığına bakıyoruz.\n",
    "\n",
    "Burada gördüğümüz > işaretinin ne demek olduğunu açıklamaya gerek yok sanırım. Hepimizin bildiği ‘büyüktür’ işareti Python’da da aynen bildiğimiz şekilde kullanılıyor. Mesela ‘küçüktür’ demek isteseydik, < işaretini kullanacaktık. İsterseniz hemen şurada araya girip bu işaretleri yeniden hatırlayalım\n",
    "\n",
    "İşleç\n",
    "\n",
    "Anlamı\n",
    "\n",
    ">\n",
    "\n",
    "büyüktür\n",
    "\n",
    "<\n",
    "\n",
    "küçüktür\n",
    "\n",
    ">=\n",
    "\n",
    "büyük eşittir\n",
    "\n",
    "<=\n",
    "\n",
    "küçük eşittir\n",
    "\n",
    "==\n",
    "\n",
    "eşittir\n",
    "\n",
    "!=\n",
    "\n",
    "eşit değildir\n",
    "\n",
    "Gördüğünüz gibi hiçbiri bize yabancı gelecek gibi değil. Yalnızca en sondaki ‘eşittir’ (==) ve ‘eşit değildir’ (!=) işaretleri biraz değişik gelmiş olabilir. Burada ‘eşittir’ işaretinin = olmadığına dikkat edin. Python’da = işaretini değer atama işlemleri için kullanıyoruz. == işaretini ise iki adet değerin birbirine eşit olup olmadığını denetlemek için… Mesela:"
   ]
  },
  {
   "cell_type": "code",
   "execution_count": 10,
   "id": "b6ce0362-ae13-4688-a3d6-d8e6b1ccbe62",
   "metadata": {},
   "outputs": [],
   "source": [
    "a = 26"
   ]
  },
  {
   "cell_type": "markdown",
   "id": "bbf4c002-bdee-480e-b693-fd9ee4e61d87",
   "metadata": {},
   "source": [
    "Burada değeri 26 olan a adlı bir değişken belirledik. Yani a değişkenine değer olarak 26 sayısını atadık. Ayrıca burada, değer atama işleminin ardından Enter tuşuna bastıktan sonra Python hiçbir şey yapmadan bir alt satıra geçti. Bir de şuna bakalım:"
   ]
  },
  {
   "cell_type": "code",
   "execution_count": 11,
   "id": "0dd96aa0-8001-4a0f-a4f0-0d407730aeb8",
   "metadata": {},
   "outputs": [
    {
     "data": {
      "text/plain": [
       "True"
      ]
     },
     "execution_count": 11,
     "metadata": {},
     "output_type": "execute_result"
    }
   ],
   "source": [
    "a == 26"
   ]
  },
  {
   "cell_type": "markdown",
   "id": "3b069b8d-7576-4a68-afbe-6843b38071d8",
   "metadata": {},
   "source": [
    "Burada ise yaptığımız şey a değişkeninin değerinin 26 olup olmadığını sorgulamak a == 26 komutunu verdikten sonra Python bize True diye bir çıktı verdi. Bu çıktının anlamını biraz sonra öğreneceğiz. Ama şimdi isterseniz konuyu daha fazla dağıtmayalım. Biz şimdilik sadece = ve == işaretlerinin birbirinden tamamen farklı anlamlara geldiğini bilelim yeter.\n",
    "\n",
    "Ne diyorduk?"
   ]
  },
  {
   "cell_type": "code",
   "execution_count": 12,
   "id": "af2bef3a-bc35-4da1-9074-ef3740b0a5f2",
   "metadata": {},
   "outputs": [
    {
     "ename": "SyntaxError",
     "evalue": "incomplete input (4099394066.py, line 1)",
     "output_type": "error",
     "traceback": [
      "\u001b[0;36m  Cell \u001b[0;32mIn[12], line 1\u001b[0;36m\u001b[0m\n\u001b[0;31m    if n > 10:\u001b[0m\n\u001b[0m              ^\u001b[0m\n\u001b[0;31mSyntaxError\u001b[0m\u001b[0;31m:\u001b[0m incomplete input\n"
     ]
    }
   ],
   "source": [
    "if n > 10:"
   ]
  },
  {
   "cell_type": "markdown",
   "id": "8712fe70-3c61-4d83-af97-fa39662432d0",
   "metadata": {},
   "source": [
    "Bu ifadeyle Python’a şöyle bir şey demiş oluyoruz:\n",
    "\n",
    "Eğer n sayısının değeri 10’dan büyükse…\n",
    "\n",
    "Burada kullandığımız işaretlere dikkat edin. En sonda bir adet : işaretinin olduğunu gözden kaçırmıyoruz. Bu tür işaretler Python için çok önemlidir. Bunları yazmayı unutursak Python gözümüzün yaşına bakmayacaktır.\n",
    "\n",
    "Dedik ki, if n > 10: ifadesi, ‘eğer n değişkeninin değeri 10’dan büyükse…’ anlamına gelir. Bu ifadenin eksik olduğu apaçık ortada. Yani belli ki bu cümlenin bir de devamı olması gerekiyor. O halde biz de devamını getirelim:"
   ]
  },
  {
   "cell_type": "code",
   "execution_count": 13,
   "id": "8704817f-dacf-4fb2-9e6b-cf79dbe3faf0",
   "metadata": {},
   "outputs": [
    {
     "name": "stdout",
     "output_type": "stream",
     "text": [
      "sayı 10'dan büyüktür!\n"
     ]
    }
   ],
   "source": [
    "if n > 10:\n",
    "    print(\"sayı 10'dan büyüktür!\")"
   ]
  },
  {
   "cell_type": "code",
   "execution_count": 14,
   "id": "36994928-4ab4-4bd0-95a2-d4ab928bf25c",
   "metadata": {},
   "outputs": [
    {
     "name": "stdout",
     "output_type": "stream",
     "text": [
      "255\n"
     ]
    }
   ],
   "source": [
    "print(n)\n"
   ]
  },
  {
   "cell_type": "markdown",
   "id": "42091a26-1f62-4f75-9707-d76b025ef897",
   "metadata": {},
   "source": [
    "Burada çok önemli bir durumla karşı karşıyayız. Dikkat ederseniz, ikinci satırı ilk satıra göre girintili yazdık. Elbette bunu şirinlik olsun diye yapmadık. Python programlama dilinde girintiler çok büyük önem taşır. Hatta ne kadarlık bir girinti verdiğiniz bile önemlidir. Eğer Python kodlarına duyarlı bir metin düzenleyici kullanıyorsanız, kullandığınız metin düzenleyici çoğu durumda sizin yerinize uygun bir şekilde girintilemeyi yapacaktır. Mesela IDLE adlı geliştirme ortamını kullananlar, ilk satırdaki : işaretini koyup Enter tuşuna bastıklarında otomatik olarak girinti verildiğini farkedeceklerdir. Eğer kullandığınız metin düzenleyici, satırları otomatik olarak girintilemiyorsa sizin bu girintileme işlemini elle yapmanız gerekecektir. Yalnız elle girintilerken, ne kadar girinti vereceğimize dikkat etmeliyiz. Genel kural olarak 4 boşlukluk bir girintileme uygun olacaktır. Girintileme işlemini klavyedeki sekme (Tab) tuşuna basarak da yapabilirsiniz. Ama aynı program içinde sekmelerle boşlukları karıştırmayın. Yani eğer girintileme işlemini klavyedeki boşluk (Space) tuşuna basarak yapıyorsanız, program boyunca aynı şekilde yapın. (Ben size girinti verirken Tab tuşu yerine Space tuşunu kullanmanızı tavsiye ederim). Kısaca söylemek gerekirse; Python’da girintileme ve girintilemede tutarlılık çok önemlidir. Özellikle büyük programlarda, girintilemeler açısından tutarsızlık gösterilmesi programın çalışmamasına sebep olabilir.\n",
    "\n",
    "Eğer yukarıdaki if bloğunu bir metin düzenleyici içine değil de doğrudan etkileşimli kabuğa yazmışsanız bazı şeyler dikkatinizi çekmiş olmalı. Etkileşimli kabukta if sayı > 10: satırını yazıp Enter tuşuna bastığınızda şöyle bir görüntüyle karşılaşmış olmalısınız:\n",
    "\n"
   ]
  },
  {
   "cell_type": "code",
   "execution_count": null,
   "id": "a095d2fa-3c3f-40a3-92c0-d3af06abcf76",
   "metadata": {},
   "outputs": [],
   "source": [
    "if n > 10:\n",
    "    "
   ]
  },
  {
   "cell_type": "markdown",
   "id": "d86a937e-4c14-4f35-abab-f501296fe1ee",
   "metadata": {},
   "source": [
    "Dikkat ederseniz, >>> işareti, … işaretine dönüştü. Eğer bu noktada herhangi bir şey yazmadan Enter tuşuna basacak olursanız Python size şöyle bir hata mesajı verecektir:"
   ]
  },
  {
   "cell_type": "markdown",
   "id": "ce18c6d6-554d-4734-8843-a312fe44108a",
   "metadata": {},
   "source": [
    "Hata mesajında da söylendiği gibi, Python bizden girintilenmiş bir blok beklerken, biz onun bu beklentisini karşılamamışız. Dolayısıyla bize yukarıdaki hata mesajını göstermiş. … işaretini gördükten sonra yapmamız gereken şey, dört kez boşluk (Space) tuşuna basarak girinti oluşturmak ve if bloğunun devamını yazmak olmalıydı. Yani şöyle:\n",
    "\n"
   ]
  },
  {
   "cell_type": "code",
   "execution_count": 15,
   "id": "05f063ce-b758-40fd-87a1-e93e1961da91",
   "metadata": {},
   "outputs": [
    {
     "name": "stdout",
     "output_type": "stream",
     "text": [
      "sayı 10'dan büyüktür!\n"
     ]
    }
   ],
   "source": [
    "if n > 10:\n",
    "     print(\"sayı 10'dan büyüktür!\")\n"
   ]
  },
  {
   "cell_type": "markdown",
   "id": "64ab7541-98c2-4f9f-bf36-a3c15c159335",
   "metadata": {},
   "source": [
    "Gördüğünüz gibi, print() fonksiyonunu yazıp Enter tuşuna bastıktan sonra yine … işaretini gördük. Python burada bizden yeni bir satır daha bekliyor. Ama bizim yazacak başka bir kodumuz olmadığı için tekrar Enter tuşuna basıyoruz ve nihai olarak şöyle bir görüntü elde ediyoruz:\n",
    "\n"
   ]
  },
  {
   "cell_type": "markdown",
   "id": "0633f2d0-a337-4510-a25e-00a0550f1f02",
   "metadata": {},
   "source": [
    "Demek ki 255 sayısı 10’dan büyükmüş! Ne büyük bir buluş! Merak etmeyin, daha çok şey öğrendikçe daha mantıklı programlar yazacağız. Burada amacımız işin temelini kavramak. Bunu da en iyi, (çok mantıklı olmasa bile) basit programlar yazarak yapabiliriz.\n",
    "\n",
    "Şimdi metin düzenleyicimizi açarak daha mantıklı şeyler yazmaya çalışalım. Zira yukarıdaki örnekte değişkeni kendimiz belirlediğimiz için, bu değişkenin değerini if deyimleri yardımıyla denetlemek pek akla yatkın görünmüyor. Ne de olsa değişkenin değerinin ne olduğunu biliyoruz. Dolayısıyla bu değişkenin 10 sayısından büyük olduğunu da biliyoruz! Bunu if deyimiyle kontrol etmek çok gerekli değil. Ama şimdi daha makul bir iş yapacağız. Değişkeni biz belirlemek yerine kullanıcıya belirleteceğiz:\n",
    "\n"
   ]
  },
  {
   "cell_type": "code",
   "execution_count": 16,
   "id": "ed11425b-629a-4b37-bccc-c4f0bd49f703",
   "metadata": {},
   "outputs": [
    {
     "name": "stdin",
     "output_type": "stream",
     "text": [
      "Bir sayı giriniz:  123\n"
     ]
    },
    {
     "name": "stdout",
     "output_type": "stream",
     "text": [
      "Girdiğiniz sayı 10'dan büyüktür!\n"
     ]
    }
   ],
   "source": [
    "sayı = int(input(\"Bir sayı giriniz: \"))\n",
    "\n",
    "if sayı > 10:\n",
    "    print(\"Girdiğiniz sayı 10'dan büyüktür!\")\n",
    "\n",
    "if sayı < 10:\n",
    "    print(\"Girdiğiniz sayı 10'dan küçüktür!\")\n",
    "\n",
    "if sayı == 10:\n",
    "    print(\"Girdiğiniz sayı 10'dur!\")"
   ]
  },
  {
   "cell_type": "markdown",
   "id": "ddabc713-6cdf-4f21-9b1f-00e8935feb21",
   "metadata": {},
   "source": [
    "Gördüğünüz gibi, art arda üç adet if bloğu kullandık. Bu kodlara göre, eğer kullanıcının girdiği sayı 10’dan büyükse, ilk if bloğu işletilecek; eğer sayı 10’dan küçükse ikinci if bloğu işletilecek; eğer sayı 10’a eşit ise üçüncü if bloğu işletilecektir. Peki ya kullanıcı muziplik yapıp sayı yerine harf yazarsa ne olacak? Böyle bir ihtimal için programımıza herhangi bir denetleyici yerleştirmedik. Dolayısıyla eğer kullanıcı sayı yerine harf girerse programımız hata verecek, yani çökecektir. Bu tür durumlara karşı nasıl önlem alacağımızı ilerleyen derslerimizde göreceğiz. Biz şimdilik bildiğimiz yolda yürüyelim.\n",
    "\n",
    "Yukarıdaki örnekte input() ile gelen karakter dizisini, int() fonksiyonu yardımıyla bir sayıya dönüştürdüğümüze dikkat edin. Kullanıcıdan gelen veriyi büyüklük-küçüklük ölçütüne göre inceleyeceğimiz için, gelen veriyi bir sayıya dönüştürmemiz gerekiyor. Bunu da int() fonksiyonu ile yapabileceğimizi biliyorsunuz.\n",
    "\n",
    "Elbette yukarıdaki dönüştürme işlemini şöyle de yapabilirdik:\n",
    "\n"
   ]
  },
  {
   "cell_type": "code",
   "execution_count": 17,
   "id": "afc3b61f-a0d5-403e-bbce-628133e11fc7",
   "metadata": {},
   "outputs": [
    {
     "name": "stdin",
     "output_type": "stream",
     "text": [
      "Bir sayı giriniz:  23\n"
     ]
    }
   ],
   "source": [
    "sayı = input(\"Bir sayı giriniz: \")\n",
    "sayı = int(sayı)"
   ]
  },
  {
   "cell_type": "markdown",
   "id": "1dc03bb3-1e64-48c0-9b61-85db81e5f9c1",
   "metadata": {},
   "source": [
    "Burada önce input() fonksiyonuyla veriyi aldık, daha sonra bu veriyi ayrı bir yerde sayıya dönüştürüp tekrar sayı adlı değişkene atadık.\n",
    "\n",
    "if deyimlerini kullanıcı adı veya parola denetlerken de kullanabiliriz. Mesela şöyle bir program taslağı yazabiliriz:"
   ]
  },
  {
   "cell_type": "code",
   "execution_count": 18,
   "id": "4eb4952a-96d3-4af2-9faf-f7b43e97a125",
   "metadata": {},
   "outputs": [
    {
     "ename": "SyntaxError",
     "evalue": "invalid syntax (1240278970.py, line 11)",
     "output_type": "error",
     "traceback": [
      "\u001b[0;36m  Cell \u001b[0;32mIn[18], line 11\u001b[0;36m\u001b[0m\n\u001b[0;31m    print(\"Sisteme Hoşgeldiniz!\")|\u001b[0m\n\u001b[0m                                  ^\u001b[0m\n\u001b[0;31mSyntaxError\u001b[0m\u001b[0;31m:\u001b[0m invalid syntax\n"
     ]
    }
   ],
   "source": [
    "print(\"\"\"\n",
    "Dünyanın en gelişmiş e.posta hizmetine\n",
    "hoşgeldiniz. Yalnız hizmetimizden\n",
    "yararlanmak için önce sisteme giriş\n",
    "yapmalısınız.\n",
    "\"\"\")\n",
    "\n",
    "parola = input(\"Parola: \")\n",
    "\n",
    "if parola == \"12345678\":\n",
    "    print(\"Sisteme Hoşgeldiniz!\")|"
   ]
  },
  {
   "cell_type": "markdown",
   "id": "7e1d469d-c0ec-4041-b6a1-23c71d4ac655",
   "metadata": {},
   "source": [
    "Gördüğünüz gibi, programın başında üç tırnak işaretlerinden yararlanarak uzun bir metni kullanıcıya gösterdik. Bu bölümü, kendiniz göze hoş gelecek bir şekilde süsleyebilirsiniz de. Eğer kullanıcı, kendisine parola sorulduğunda cevap olarak “12345678” yazarsa kullanıcıyı sisteme alıyoruz.\n",
    "\n",
    "Yukarıdaki örnekte, kullanıcının girdiği parola “12345678” ise kendisine “Sisteme Hoşgeldiniz!” mesajını gösteriyoruz. Mantık olarak bunun tersini yapmak da mümkündür. Yani:\n",
    "\n"
   ]
  },
  {
   "cell_type": "code",
   "execution_count": 19,
   "id": "f0084eb7-25b7-4066-8bb4-3fd429e16b9a",
   "metadata": {},
   "outputs": [
    {
     "ename": "NameError",
     "evalue": "name 'parola' is not defined",
     "output_type": "error",
     "traceback": [
      "\u001b[0;31m---------------------------------------------------------------------------\u001b[0m",
      "\u001b[0;31mNameError\u001b[0m                                 Traceback (most recent call last)",
      "Cell \u001b[0;32mIn[19], line 1\u001b[0m\n\u001b[0;32m----> 1\u001b[0m \u001b[38;5;28;01mif\u001b[39;00m \u001b[43mparola\u001b[49m \u001b[38;5;241m!=\u001b[39m \u001b[38;5;124m\"\u001b[39m\u001b[38;5;124m12345678\u001b[39m\u001b[38;5;124m\"\u001b[39m:\n\u001b[1;32m      2\u001b[0m     \u001b[38;5;28mprint\u001b[39m(\u001b[38;5;124m\"\u001b[39m\u001b[38;5;124mNe yazık ki yanlış parola girdiniz!\u001b[39m\u001b[38;5;124m\"\u001b[39m)\n",
      "\u001b[0;31mNameError\u001b[0m: name 'parola' is not defined"
     ]
    }
   ],
   "source": [
    "if parola != \"12345678\":\n",
    "    print(\"Ne yazık ki yanlış parola girdiniz!\")\n"
   ]
  },
  {
   "cell_type": "markdown",
   "id": "530f884c-e07e-46e7-a63f-4849ae739255",
   "metadata": {},
   "source": [
    "Burada ise bir önceki örneğin mantığını ters çevirdik. Önceki örnekte parola değişkeni “12345678” adlı karakter dizisine eşitse (if parola == \"12345678\") bir işlem yapıyorduk. Yukarıdaki örnekte ise parola değişkeni “12345678” adlı karakter dizisine eşit değilse (if parola != \"12345678\") bir işlem yapıyoruz.\n",
    "\n",
    "Bu iki örneğin de aslında aynı kapıya çıktığını görüyorsunuz. Tek değişiklik, kullanıcıya gösterilen mesajlardadır.\n",
    "\n",
    "Böylece Python’daki koşullu durumlar üzerindeki incelememizin ilk ve en önemli aşamasını geride bırakmış olduk. Dikkat ettiyseniz if deyimi sayesinde programlarımıza karar vermeyi öğrettik. Bu deyim yardımıyla, kullanıcıdan aldığımız herhangi bir verinin niteliği üzerinde kapsamlı bir karar verme işlemi yürütebiliyoruz. Yani artık programlarımız kullanıcıdan alınan veriyi olduğu gibi kabul etmekle yetinmiyor. Kullanıcının girdiği verinin ne olduğuna bağlı olarak programlarımızın farklı işlemler yapmasını da sağlayabiliyoruz.\n",
    "\n",
    "Daha önce de söylediğimiz gibi, if deyimi dışında Python’da koşullu durumları ifade etmek için kullandığımız, elif ve else adlı iki deyim daha vardır. Bunlar if ile birlikte kullanılırlar. Gelin isterseniz bu iki deyimden, adı elif olana bakalım."
   ]
  },
  {
   "cell_type": "markdown",
   "id": "b57d1ee7-8fd1-4db5-bbcd-f6d0b1f78817",
   "metadata": {},
   "source": [
    "++++++++elif\n",
    "\n",
    "\n",
    "Python’da, if deyimleriyle birlikte kullanılan ve yine koşul belirten bir başka deyim de elif deyimidir. Buna şöyle bir örnek verebiliriz:"
   ]
  },
  {
   "cell_type": "code",
   "execution_count": 20,
   "id": "db4e21f2-64ad-4ac2-a2a9-adab00a96a55",
   "metadata": {},
   "outputs": [
    {
     "name": "stdin",
     "output_type": "stream",
     "text": [
      "Yaşınız:  23\n"
     ]
    },
    {
     "name": "stdout",
     "output_type": "stream",
     "text": [
      "Eh, artık yaş yavaş yavaş kemale eriyor!\n"
     ]
    }
   ],
   "source": [
    "yaş = int(input(\"Yaşınız: \"))\n",
    "\n",
    "if yaş == 18:\n",
    "    print(\"18 iyidir!\")\n",
    "\n",
    "elif yaş < 0:\n",
    "    print(\"Yok canım, daha neler!...\")\n",
    "\n",
    "elif yaş < 18:\n",
    "    print(\"Genç bir kardeşimizsin!\")\n",
    "\n",
    "elif yaş > 18:\n",
    "    print(\"Eh, artık yaş yavaş yavaş kemale eriyor!\")"
   ]
  },
  {
   "cell_type": "markdown",
   "id": "62662d55-b3c8-48f2-8903-392b8e3a57b7",
   "metadata": {},
   "source": [
    "Yukarıdaki örneği şöyle yazmayı da deneyebilirsiniz:"
   ]
  },
  {
   "cell_type": "code",
   "execution_count": 22,
   "id": "07322b8c-099c-44a1-9239-03548757aee0",
   "metadata": {},
   "outputs": [
    {
     "name": "stdin",
     "output_type": "stream",
     "text": [
      "Yaşınız:  -2\n"
     ]
    },
    {
     "name": "stdout",
     "output_type": "stream",
     "text": [
      "Yok canım, daha neler!...\n",
      "Genç bir kardeşimizsin!\n"
     ]
    }
   ],
   "source": [
    "yaş = int(input(\"Yaşınız: \"))\n",
    "\n",
    "if yaş == 18:\n",
    "    print(\"18 iyidir!\")\n",
    "\n",
    "if yaş < 0:\n",
    "    print(\"Yok canım, daha neler!...\")\n",
    "\n",
    "if yaş < 18:\n",
    "    print(\"Genç bir kardeşimizsin!\")\n",
    "\n",
    "if yaş > 18:\n",
    "    print(\"Eh, artık yaş yavaş yavaş kemale eriyor!\")"
   ]
  },
  {
   "cell_type": "markdown",
   "id": "047473ab-bd8e-471e-80e8-2259f42b2b74",
   "metadata": {},
   "source": [
    "Bu iki programın da aynı işlevi gördüğünü düşünebilirsiniz. Ancak ilk bakışta pek belli olmasa da, aslında yukarıdaki iki program birbirinden farklı davranacaktır. Örneğin ikinci programda eğer kullanıcı eksi değerli bir sayı girerse hem if yaş < 0 bloğu, hem de if yaş < 18 bloğu çalışacaktır. İsterseniz yukarıdaki programı çalıştırıp, cevap olarak eksi değerli bir sayı verin. Ne demek istediğimiz gayet net anlaşılacaktır.\n",
    "\n",
    "Bu durum if ile elif arasındaki çok önemli bir farktan kaynaklanır. Buna göre if bize olası bütün sonuçları listeler, elif ise sadece doğru olan ilk sonucu verir. Bu soyut tanımlamayı biraz daha somutlaştıralım:"
   ]
  },
  {
   "cell_type": "code",
   "execution_count": 23,
   "id": "b2ec2ea1-0143-4d43-84d9-015d743462b0",
   "metadata": {},
   "outputs": [
    {
     "name": "stdin",
     "output_type": "stream",
     "text": [
      "Bir sayı giriniz:  23\n"
     ]
    },
    {
     "name": "stdout",
     "output_type": "stream",
     "text": [
      "verdiğiniz sayı 100'den küçüktür.\n",
      "verdiğiniz sayı 50'den küçüktür.\n"
     ]
    }
   ],
   "source": [
    "a = int(input(\"Bir sayı giriniz: \"))\n",
    "\n",
    "if a < 100:\n",
    "    print(\"verdiğiniz sayı 100'den küçüktür.\")\n",
    "\n",
    "if a < 50:\n",
    "    print(\"verdiğiniz sayı 50'den küçüktür.\")\n",
    "\n",
    "if a == 100:\n",
    "    print(\"verdiğiniz sayı 100'dür.\")\n",
    "\n",
    "if a > 100:\n",
    "    print(\"verdiğiniz sayı 100'den büyüktür.\")\n",
    "\n",
    "if a > 150:\n",
    "    print(\"verdiğiniz sayı 150'den büyüktür.\")"
   ]
  },
  {
   "cell_type": "markdown",
   "id": "4478a3f8-5e8f-4440-9fde-4b011b9852de",
   "metadata": {},
   "source": [
    "Yukarıdaki kodları çalıştırdığımızda, doğru olan bütün sonuçlar listelenecektir. Yani mesela kullanıcı 40 sayısını girmişse, ekrana verilecek çıktı şöyle olacaktır:\n",
    "\n",
    "verdiğiniz sayı 100'den küçüktür.\n",
    "verdiğiniz sayı 50'den küçüktür.\n",
    "\n"
   ]
  },
  {
   "cell_type": "markdown",
   "id": "2ce53173-6b70-405b-b1fa-82462a0a3492",
   "metadata": {},
   "source": [
    "Burada 40 sayısı hem 100’den, hem de 50’den küçük olduğu için iki sonuç da çıktı olarak verilecektir. Ama eğer yukarıdaki kodları şöyle yazarsak:"
   ]
  },
  {
   "cell_type": "code",
   "execution_count": 24,
   "id": "9c3f14d3-4f83-4394-b8d1-a762e8b2fe23",
   "metadata": {},
   "outputs": [
    {
     "name": "stdin",
     "output_type": "stream",
     "text": [
      "Bir sayı giriniz:  40\n"
     ]
    },
    {
     "name": "stdout",
     "output_type": "stream",
     "text": [
      "verdiğiniz sayı 100'den küçüktür.\n"
     ]
    }
   ],
   "source": [
    "a = int(input(\"Bir sayı giriniz: \"))\n",
    "\n",
    "if a < 100:\n",
    "    print(\"verdiğiniz sayı 100'den küçüktür.\")\n",
    "\n",
    "elif a < 50:\n",
    "    print(\"verdiğiniz sayı 50'den küçüktür.\")\n",
    "\n",
    "elif a == 100:\n",
    "    print(\"verdiğiniz sayı 100'dür.\")\n",
    "\n",
    "elif a > 150:\n",
    "    print(\"verdiğiniz sayı 150'den büyüktür.\")\n",
    "\n",
    "elif a > 100:\n",
    "    print(\"verdiğiniz sayı 100'den büyüktür.\")"
   ]
  },
  {
   "cell_type": "markdown",
   "id": "01b0a7f4-6fb5-4c97-ba52-5c08f0560123",
   "metadata": {},
   "source": [
    "Kullanıcının 40 sayısını girdiğini varsaydığımızda, bu defa programımımız yalnızca şu çıktıyı verecektir:\n",
    "\n",
    "verdiğiniz sayı 100'den küçüktür."
   ]
  },
  {
   "cell_type": "markdown",
   "id": "8fa82b3c-0020-4cb2-9856-0ff80952f723",
   "metadata": {},
   "source": [
    "Gördüğünüz gibi, elif deyimlerini kullandığımız zaman, ekrana yalnızca doğru olan ilk sonuç veriliyor. Yukarıda 40 sayısı hem 100’den hem de 50’den küçük olduğu halde, Python bu sayının 100’den küçük olduğunu görür görmez sonucu ekrana basıp, öteki koşul bloklarını incelemeyi bırakıyor. if deyimlerini arka arkaya sıraladığımızda ise, Python bütün olasılıkları tek tek değerlendirip, geçerli olan bütün sonuçları ekrana döküyor.\n",
    "\n",
    "Bir sonraki bölümde else deyimini öğrendiğimiz zaman, elif’in tam olarak ne işe yaradığını çok daha iyi anlamanızı sağlayacak bir örnek vereceğiz."
   ]
  },
  {
   "cell_type": "markdown",
   "id": "a7c3df6b-aef6-4f05-b810-fe3ddaa000b9",
   "metadata": {},
   "source": [
    "*****Şimdiye kadar verdiğimiz örneklerden de rahatlıkla anlayabileceğiniz gibi, ilk koşul bloğunda asla elif deyimi kullanılamaz. Bu deyimin kullanılabilmesi için kendisinden önce en az bir adet if bloğu olmalıdır. Yani Python’da koşullu durumları ifade ederken ilk koşul bloğumuz her zaman if deyimi ile başlamalıdır."
   ]
  },
  {
   "cell_type": "markdown",
   "id": "09ed5bff-39bb-467c-9646-3d631dad9d31",
   "metadata": {},
   "source": [
    "+++++++++else\n",
    "\n",
    "\n",
    "Şimdiye kadar Python’da koşul bildiren iki deyimi öğrendik. Bunlar if ve elif idi. Bu bölümde ise koşul deyimlerinin sonuncusu olan else deyimini göreceğiz. Öğrendiğimiz şeyleri şöyle bir gözden geçirecek olursak, temel olarak şöyle bir durumla karşı karşıya olduğumuzu görürüz:\n",
    "\n",
    "if falanca:\n",
    "    bu işlemi yap\n",
    "\n",
    "if filanca:\n",
    "    şu işlemi yap\n",
    "\n",
    "Veya şöyle bir durum:\n",
    "\n",
    "if falanca:\n",
    "    bu işlemi yap\n",
    "\n",
    "elif filanca:\n",
    "    şu işlemi yap\n",
    "if ile elif arasındaki farkı biliyoruz. Eğer if deyimlerini art arda sıralayacak olursak, Python doğru olan bütün sonuçları listeleyecektir. Ama eğer if deyiminden sonra elif deyimini kullanırsak, Python doğru olan ilk sonucu listelemekle yetinecektir.\n",
    "\n",
    "Bu bölümde göreceğimiz else deyimi, yukarıdaki tabloya bambaşka bir boyut kazandırıyor. Dikkat ederseniz şimdiye kadar öğrendiğimiz deyimleri kullanabilmek için ilgili bütün durumları tanımlamamız gerekiyordu. Yani:\n",
    "\n",
    "eğer böyle bir durum varsa:\n",
    "    bunu yap\n",
    "\n",
    "eğer şöyle bir durum varsa:\n",
    "    şunu yap\n",
    "\n",
    "eğer filancaysa:\n",
    "    şöyle git\n",
    "\n",
    "eğer falancaysa:\n",
    "    böyle gel\n",
    "gibi…\n",
    "\n",
    "Ancak her durum için bir if bloğu yazmak bir süre sonra yorucu ve sıkıcı olacaktır. İşte bu noktada devreye else deyimi girecek. else’in anlamı kabaca şudur:\n",
    "\n",
    "Eğer yukarıdaki koşulların hiçbiri gerçekleşmezse…\n",
    "\n",
    "Gelin isterseniz bununla ilgili şöyle bir örnek verelim:"
   ]
  },
  {
   "cell_type": "code",
   "execution_count": 26,
   "id": "8491e15b-322b-469f-8a35-07bc0e758f10",
   "metadata": {},
   "outputs": [
    {
     "name": "stdin",
     "output_type": "stream",
     "text": [
      "Bir meyve adı söyleyin bana: muz\n"
     ]
    },
    {
     "name": "stdout",
     "output_type": "stream",
     "text": [
      "muz gerçekten bir meyve midir?\n"
     ]
    }
   ],
   "source": [
    "soru = input(\"Bir meyve adı söyleyin bana:\")\n",
    "\n",
    "if soru == \"elma\":\n",
    "    print(\"evet, elma bir meyvedir...\")\n",
    "\n",
    "elif soru == \"karpuz\":\n",
    "    print(\"evet, karpuz bir meyvedir...\")\n",
    "\n",
    "elif soru == \"armut\":\n",
    "    print(\"evet, armut bir meyvedir...\")\n",
    "\n",
    "else:\n",
    "    print(soru, \"gerçekten bir meyve midir?\")"
   ]
  },
  {
   "cell_type": "markdown",
   "id": "a7f76448-b716-47dd-a100-260cadbbac38",
   "metadata": {},
   "source": [
    "Eğer kullanıcı soruya ‘elma’, ‘karpuz’ veya ‘armut’ cevabı verirse, evet, … bir meyvedir çıktısı verilecektir. Ama eğer kullanıcı bu üçü dışında bir cevap verirse, … gerçekten bir meyve midir? çıktısını görürüz. Burada else deyimi, programımıza şu anlamı katıyor:\n",
    "\n",
    "Eğer kullanıcı yukarıda belirlenen meyve adlarından hiç birini girmez, bunların yerine bambaşka bir şey yazarsa, o zaman else bloğu içinde belirtilen işlemi gerçekleştir.\n",
    "\n",
    "Dikkat ederseniz yukarıdaki kodlarda if deyimlerini art arda sıralamak yerine ilk if’ten sonra elif ile devam ettik. Peki şöyle bir şey yazarsak ne olur?\n",
    "\n"
   ]
  },
  {
   "cell_type": "code",
   "execution_count": 28,
   "id": "a04394f8-b36c-45a6-a54f-9212d7c1f521",
   "metadata": {},
   "outputs": [
    {
     "name": "stdin",
     "output_type": "stream",
     "text": [
      "Bir meyve adı söyleyin bana: elma\n"
     ]
    },
    {
     "name": "stdout",
     "output_type": "stream",
     "text": [
      "evet, elma bir meyvedir...\n",
      "elma gerçekten bir meyve midir?\n"
     ]
    }
   ],
   "source": [
    "soru = input(\"Bir meyve adı söyleyin bana:\")\n",
    "\n",
    "if soru == \"elma\":\n",
    "    print(\"evet, elma bir meyvedir...\")\n",
    "\n",
    "if soru == \"karpuz\":\n",
    "    print(\"evet, karpuz bir meyvedir...\")\n",
    "\n",
    "if soru == \"armut\":\n",
    "    print(\"evet, armut bir meyvedir...\")\n",
    "\n",
    "else:\n",
    "    print(soru, \"gerçekten bir meyve midir?\")"
   ]
  },
  {
   "cell_type": "markdown",
   "id": "1056a419-0f07-4b70-905c-fe5a15677fbd",
   "metadata": {},
   "source": [
    "Bu kodlar beklediğiniz sonucu vermeyecektir. İsterseniz yukarıdaki kodları çalıştırıp ne demek istediğimizi daha iyi anlayabilirsiniz. Eğer yukarıda olduğu gibi if deyimlerini art arda sıralar ve son olarak da bir else bloğu tanımlarsak, ekrana ilk bakışta anlamsız gibi görünen bir çıktı verilecektir:\n",
    "\n"
   ]
  },
  {
   "cell_type": "markdown",
   "id": "e595b9d5-4063-43e2-83c6-95e972dad412",
   "metadata": {},
   "source": [
    "Burada olan şey şu:\n",
    "\n",
    "Soruya ‘elma’ cevabını verdiğimizi düşünelim. Bu durumda, Python ilk olarak ilk if bloğunu değerlendirecek ve soruya verdiğimiz cevap ‘elma’ olduğu için evet, elma bir meyvedir… çıktısını verecektir.\n",
    "\n",
    "if ile elif arasındaki farkı anlatırken, hatırlarsanız art arda gelen if bloklarında Python’ın olası bütün sonuçları değerlendireceğini söylemiştik. İşte burada da böyle bir durum söz konusu. Gördüğünüz gibi, ilk if bloğundan sonra yine bir if bloğu geliyor. Bu nedenle Python olası bütün sonuçları değerlendirebilmek için blokları okumaya devam edecek ve sorunun cevabı ‘karpuz’ olmadığı için ikinci if bloğunu atlayacaktır.\n",
    "\n",
    "Sonraki blok yine bir if bloğu olduğu için Python kodları okumaya devam ediyor. Ancak sorunun cevabı ‘armut’ da olmadığı için, Python sonraki if bloğunu da geçiyor ve böylece else bloğuna ulaşıyor.\n",
    "\n",
    "Yukarıda verdiğimiz örnekteki gibi art arda if deyimlerinin sıralanıp en sona else deyiminin yerleştirildiği durumlarda else deyimi sadece bir önceki if deyimini dikkate alarak işlem yapar. Yani yukarıdaki örnekte kullanıcının verdiği cevap ‘armut’ olmadığı için else deyiminin olduğu blok çalışmaya başlar. Yukarıdaki örneğe ‘armut’ cevabını verirseniz ne demek istediğimi biraz daha iyi anlayabilirsiniz. ‘armut’ cevabı verilmesi durumunda sadece if soru == \"armut\" ifadesinin olduğu blok çalışır, else bloğu ise çalışmaz. Çünkü dediğim gibi, eğer else bloğundan önce art arda gelen if blokları varsa, else deyimi yalnızca kendisinden önceki son if bloğunu dikkate alır ve sanki yukarıdaki örnek şöyleymiş gibi davranır:"
   ]
  },
  {
   "cell_type": "code",
   "execution_count": 29,
   "id": "e273efce-857e-4480-823d-4f45d36b1563",
   "metadata": {},
   "outputs": [
    {
     "name": "stdout",
     "output_type": "stream",
     "text": [
      "elma gerçekten bir meyve midir?\n"
     ]
    }
   ],
   "source": [
    "if soru == \"armut\":\n",
    "    print(\"evet, armut bir meyvedir...\")\n",
    "\n",
    "else:\n",
    "    print(soru, \"gerçekten bir meyve midir?\")"
   ]
  },
  {
   "cell_type": "markdown",
   "id": "1dc45f81-a07f-416d-9f5b-ca1a15fe7535",
   "metadata": {},
   "source": [
    "Bu tür durumlarda else deyimi bir önceki if bloğundan önce gelen bütün if bloklarını görmezden gelir ve böylece şu anlamsız görünen çıktı elde edilir:\n",
    "\n"
   ]
  },
  {
   "cell_type": "markdown",
   "id": "43a671e8-2bbc-45c0-b0c3-0c4fb3d8a89a",
   "metadata": {},
   "source": [
    "Sözün özü, kullanıcının cevabı ‘elma’ olduğu için, yukarıdaki çıktıda yer alan ilk cümle ilk if bloğunun çalışması sonucu ekrana basılıyor. İkinci cümle ise else bloğundan bir önceki if bloğu kullanıcının cevabıyla uyuşmadığı için ekrana basılıyor.\n",
    "\n",
    "Yalnız bu dediğimizden, else ifadesi if ile birlikte kullanılmaz, anlamı çıkarılmamalı. Mesela şöyle bir örnek yapılabilir:\n",
    "\n"
   ]
  },
  {
   "cell_type": "code",
   "execution_count": 30,
   "id": "8527b3fc-d9b8-49f9-8185-bf5af8232cca",
   "metadata": {},
   "outputs": [
    {
     "name": "stdin",
     "output_type": "stream",
     "text": [
      "Programdan çıkmak istediğinize emin misiniz? Eminseniz 'e' harfine basın :  e\n"
     ]
    },
    {
     "name": "stdout",
     "output_type": "stream",
     "text": [
      "Güle güle!\n"
     ]
    }
   ],
   "source": [
    "soru = input(\"Programdan çıkmak istediğinize emin misiniz? \\\n",
    "Eminseniz 'e' harfine basın : \")\n",
    "\n",
    "if soru == \"e\":\n",
    "    print(\"Güle güle!\")\n",
    "\n",
    "else:\n",
    "    print(\"Peki, biraz daha sohbet edelim!\")"
   ]
  },
  {
   "cell_type": "markdown",
   "id": "3b060ffe-3b58-4b8d-8ac8-6a422826577b",
   "metadata": {},
   "source": [
    "Burada eğer kullanıcının cevabı ‘e’ ise if bloğu işletilecek, eğer cevap ‘e’ dışında herhangi bir şey ise else bloğu çalışacaktır. Gayet mantıklı bir süreç. Ama eğer yukarıdaki örneğe bir if bloğu daha eklerseniz işler beklediğiniz gibi gitmez:"
   ]
  },
  {
   "cell_type": "code",
   "execution_count": 31,
   "id": "2fe4d4a9-219f-439c-a782-23d7b63c7365",
   "metadata": {},
   "outputs": [
    {
     "name": "stdin",
     "output_type": "stream",
     "text": [
      "Programdan çıkmak istediğinize emin misiniz? Eminseniz 'e' harfine basın :  e\n"
     ]
    },
    {
     "name": "stdout",
     "output_type": "stream",
     "text": [
      "Güle güle!\n",
      "Peki, biraz daha sohbet edelim!\n"
     ]
    }
   ],
   "source": [
    "soru = input(\"Programdan çıkmak istediğinize emin misiniz? \\\n",
    "Eminseniz 'e' harfine basın : \")\n",
    "\n",
    "if soru == \"e\":\n",
    "    print(\"Güle güle!\")\n",
    "\n",
    "if soru == \"b\":\n",
    "    print(\"Kararsız kaldım şimdi!\")\n",
    "\n",
    "else:\n",
    "    print(\"Peki, biraz daha sohbet edelim!\")"
   ]
  },
  {
   "cell_type": "markdown",
   "id": "6cd707ac-4c0e-47e2-a335-a914bda8b8b2",
   "metadata": {},
   "source": [
    "Bu soruya ‘e’ cevabı verdiğimizi düşünelim. Bu cevap ilk if bloğuyla uyuşuyor ve böylece ekrana Güle güle! çıktısı veriliyor. İlk if bloğundan sonra tekrar bir if bloğu daha geldiği için Python bütün olasılıkları değerlendirmek amacıyla blokları okumaya devam ediyor ve cevap ‘b’ olmadığı için ikinci if bloğunu atlıyor ve böylece else bloğuna ulaşıyor. Bir önceki örnekte de söylediğimiz gibi, else bloğu art arda gelen if blokları gördüğünde sadece bir önceki if bloğunu dikkate aldığı ve kullanıcının cevabı da ‘b’ olmadığı için ekrana Peki, biraz daha sohbet edelim! çıktısını veriyor ve ilk bakışta tuhaf görünen şöyle bir çıktı üretiyor:"
   ]
  },
  {
   "cell_type": "markdown",
   "id": "5623358f-10c6-4c93-a597-6ff90e6e325b",
   "metadata": {},
   "source": [
    "Dolayısıyla, eğer programınızda bir else bloğuna yer verecekseniz, ondan önce gelen koşullu durumların ilkini if ile sonrakileri ise elif ile bağlayın. Yani:\n",
    "\n",
    "if koşul_1:\n",
    "    sonuç_1\n",
    "\n",
    "elif koşul_2:\n",
    "    sonuç_2\n",
    "\n",
    "elif koşul_3:\n",
    "    sonuç_3\n",
    "\n",
    "else:\n",
    "    sonuç_4\n",
    "\n",
    "Ama eğer else bloğundan önce sadece tek bir koşul bloğu yer alacaksa bunu if ile bağlayın. Yani:\n",
    "\n",
    "if koşul_1:\n",
    "    sonuç_1\n",
    "\n",
    "else:\n",
    "    sonuç_2\n",
    "\n",
    "Programlarımızın doğru çalışması ve istediğimiz sonucu verebilmesi için bu tür ayrıntılara olabildiğince dikkat etmemiz gerekiyor. Neticede koşullu durumlar mantıkla ilgilidir. Dolayısıyla koşullu durumlarla muhatap olurken mantığınızı hiçbir zaman devre dışı bırakmamalısınız.\n",
    "\n",
    "Bir önceki bölümde elif deyiminin tam olarak ne işe yaradığını anlamamızı sağlayacak bir örnek vereceğimizi söylemiştik. Şimdi bu örneğe bakalım:\n",
    "\n"
   ]
  },
  {
   "cell_type": "code",
   "execution_count": 33,
   "id": "2f250664-ad50-4818-ab04-a02069c6c419",
   "metadata": {},
   "outputs": [
    {
     "name": "stdin",
     "output_type": "stream",
     "text": [
      "boyunuz kaç cm? 184\n"
     ]
    },
    {
     "name": "stdout",
     "output_type": "stream",
     "text": [
      "boyunuz uzun\n"
     ]
    }
   ],
   "source": [
    "boy = int(input(\"boyunuz kaç cm?\"))\n",
    "\n",
    "if boy < 170:\n",
    "    print(\"boyunuz kısa\")\n",
    "\n",
    "elif boy < 180:\n",
    "    print(\"boyunuz normal\")\n",
    "\n",
    "else:\n",
    "    print(\"boyunuz uzun\")"
   ]
  },
  {
   "cell_type": "markdown",
   "id": "922ac073-7fa0-4b48-bb5a-4d3e321939eb",
   "metadata": {},
   "source": [
    "Yukarıda yedi satırla hallettiğimiz işi sadece if deyimleriyle yapmaya çalışırsanız bunun ne kadar zor olduğunu göreceksiniz. Diyelim ki kullanıcı ‘165’ cevabını verdi. Python bu 165 sayısının 170’ten küçük olduğunu görünce boyunuz kısa cevabını verecek, öteki satırları değerlendirmeyecektir. 165 sayısı, elif ile gösterdiğimiz koşullu duruma da uygun olduğu halde (165 < 180), koşul ilk blokta karşılandığı için ikinci blok değerlendirmeye alınmayacaktır.\n",
    "\n",
    "Kullanıcının ‘175’ cevabını verdiğini varsayalım: Python 175 sayısını görünce önce ilk koşula bakacak, verilen 175 sayısının ilk koşulu karşılamadığını görecektir (175 > 170). Bunun üzerine Python kodları incelemeye devam edecek ve elif bloğunu değerlendirmeye alacaktır. 175 sayısının 180’den küçük olduğunu görünce de çıktı olarak boyunuz normal cevabını verecektir.\n",
    "\n",
    "Peki ya kullanıcı ‘190’ cevabını verirse ne olacak? Python yine önce ilk if bloğuna bakacak ve 190 cevabının bu bloğa uymadığını görecektir. Dolayısıyla ilk bloğu bırakıp ikinci bloğa bakacaktır. 190 cevabının bu bloğa da uymadığını görünce, bir sonraki bloğu değerlendirmeye alacaktır. Bir sonraki blokta ise else deyimimiz var. Bu bölümde öğrendiğimiz gibi, else deyimi, ‘eğer kullanıcının cevabı yukarıdaki koşulların hiçbirine uymazsa bu bloğu çalıştır,’ anlamına geliyor. Kullanıcının girdiği 190 cevabı ne birinci ne de ikinci bloktaki koşula uyduğu için, normal bir şekilde else bloğu işletilecek, dolayısıyla da ekrana boyunuz uzun çıktısı verilecektir.\n",
    "\n",
    "Böylece Python’da if, elif ve else deyimlerini incelemiş olduk. Ancak tabii ki bu deyimlerle işimiz henüz bitmedi. Elimizdeki bilgiler şimdilik bu deyimleri ancak bu kadar incelememize yetiyor, ama ilerleyen sayfalarda bazı başka araçları da bilgi dağarcığımıza kattıktan sonra bu deyimlerin daha farklı yönlerini öğrenme imkanına kavuşacağız."
   ]
  },
  {
   "cell_type": "markdown",
   "id": "3ff8e966-e864-4dca-b624-813508fc03d2",
   "metadata": {},
   "source": [
    "++++++++ORNEK UYGULAMA\n",
    "\n",
    "\n",
    "Önceki derslerimizde len() fonksiyonunu anlatırken şöyle bir program tasarısından bahsetmiştik hatırlarsanız:\n",
    "\n",
    "Diyelim ki sisteme kayıt için kullanıcı adı ve parola belirlenmesini isteyen bir program yazıyorsunuz. Yazacağınız bu programda, belirlenebilecek kullanıcı adı ve parolanın toplam uzunluğu 40 karakteri geçmeyecek.\n",
    "\n",
    "O zaman henüz koşullu durumları öğrenmemiş olduğumuz için, yukarıda bahsettiğimiz programın ancak şu kadarlık kısmını yazabilmiştik:\n",
    "\n",
    "kullanıcı_adı = input(\"Kullanıcı adınız: \")\n",
    "parola        = input(\"Parolanız       : \")\n",
    "\n",
    "toplam_uzunluk = len(kullanıcı_adı) + len(parola)\n",
    "Burada yapabildiğimiz tek şey, kullanıcıdan kullanıcı adı ve parola bilgilerini alıp, bu bilgilerin karakter uzunluğunu ölçebilmekti. Ama artık koşullu durumları öğrendiğimize göre bu programı eksiksiz olarak yazabiliriz. Şu kodları dikkatlice inceleyin:\n",
    "\n",
    "kullanıcı_adı = input(\"Kullanıcı adınız: \")\n",
    "parola        = input(\"Parolanız       : \")\n",
    "\n",
    "toplam_uzunluk = len(kullanıcı_adı) + len(parola)\n",
    "\n",
    "mesaj = \"Kullanıcı adı ve parolanız toplam {} karakterden oluşuyor!\"\n",
    "\n",
    "print(mesaj.format(toplam_uzunluk))\n",
    "\n",
    "if toplam_uzunluk > 40:\n",
    "    print(\"Kullanıcı adınız ile parolanızın \",\n",
    "          \"toplam uzunluğu 40 karakteri geçmemeli!\")\n",
    "else:\n",
    "    print(\"Sisteme hoşgeldiniz!\")\n",
    "Burada öncelikle kullanıcıdan kullanıcı adı ve parola bilgilerini alıyoruz. Daha sonra da kullanıcıdan gelen bu bilgilerin toplam karakter uzunluğunu hesaplıyoruz. Bunun için len() fonksiyonundan yararlanmamız gerektiğini hatırlıyor olmalısınız.\n",
    "\n",
    "Eğer toplam uzunluk 40 karakterden fazla ise, if bloğunda verilen mesajı gösteriyoruz. Bunun dışındaki bütün durumlarda ise else bloğunu devreye sokuyoruz."
   ]
  },
  {
   "cell_type": "code",
   "execution_count": 36,
   "id": "36123ae7-98db-4bf6-b4c3-7edcd6101b42",
   "metadata": {},
   "outputs": [
    {
     "name": "stdin",
     "output_type": "stream",
     "text": [
      "kullanici adinizi girin 1i2mlkdnaslkdnkalsdnlkasdnklas\n",
      "parolanizi girin mdlasnfdlkasdnflkasndkflnlskdaf\n"
     ]
    },
    {
     "name": "stdout",
     "output_type": "stream",
     "text": [
      "kullanici adi ve parolanizin toplam uzunlugu 40 karakteri gecmemeli sizinkisi 61 karakter\n"
     ]
    }
   ],
   "source": [
    "kullanici_adi = input(\"kullanici adinizi girin\")\n",
    "password = input(\"parolanizi girin\")\n",
    "toplam_uzunluk = len(kullanici_adi) + len(password)\n",
    "mesaj = \"Kullanici adi ve paolaniz toplam {} karakterden olusuyor\"\n",
    "if toplam_uzunluk > 40:\n",
    "    print(\"kullanici adi ve parolanizin toplam uzunlugu 40 karakteri gecmemeli sizinkisi {} karakter\".format(toplam_uzunluk))\n",
    "else:\n",
    "    print(\"Sisteme hos geldiniz!\")\n",
    "    \n"
   ]
  },
  {
   "cell_type": "code",
   "execution_count": null,
   "id": "e7c5a371-e844-45f6-b843-7e264d4b0e6d",
   "metadata": {},
   "outputs": [],
   "source": []
  }
 ],
 "metadata": {
  "kernelspec": {
   "display_name": "Python 3 (ipykernel)",
   "language": "python",
   "name": "python3"
  },
  "language_info": {
   "codemirror_mode": {
    "name": "ipython",
    "version": 3
   },
   "file_extension": ".py",
   "mimetype": "text/x-python",
   "name": "python",
   "nbconvert_exporter": "python",
   "pygments_lexer": "ipython3",
   "version": "3.10.12"
  }
 },
 "nbformat": 4,
 "nbformat_minor": 5
}
