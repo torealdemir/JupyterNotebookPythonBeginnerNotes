{
 "cells": [
  {
   "cell_type": "markdown",
   "id": "8dedaaf5-7d2d-480b-8413-1c07736a6ee6",
   "metadata": {},
   "source": [
    "++++++++++++Baytlar (Bytes) ve Bayt Dizileri (Bytearrays)\n",
    "\n",
    "\n",
    "Bu bölüme gelinceye kadar veri tipi olarak karakter dizilerinden, listelerden ve dosyalardan söz etmiştik. Bu bölümde ise Python programlama dilindeki iki veri tipinden daha söz edeceğiz. Birbirleriyle doğrudan bağlantılı oldukları için bu bölümde birlikte ele alacağımız bu veri tiplerinin adı ‘baytlar’(bytes) ve ‘bayt dizileri’ (bytearrays).\n",
    "\n",
    "Bu bölümde yalnızca ‘baytlar’ ve ‘bayt dizileri’ adlı veri tiplerinden söz etmeyeceğiz. Bu iki yeni veri tipini bilgi dağarcığımıza eklemenin yanısıra, önceki bölümlerde öğrendiğimiz konuları zihnimizde pekiştirmeye ve sağlamlaştırmaya da devam edeceğiz."
   ]
  },
  {
   "cell_type": "markdown",
   "id": "698ef6a8-b3ae-474f-9e23-683fa83df929",
   "metadata": {},
   "source": [
    "+++++++++++++++++Giriş\n",
    "\n",
    "\n",
    "Bilgisayar teknolojisi ve bilimi açısından ‘karakter’ tamamen soyut bir kavramdır. Son birkaç bölümdür üstüne basa basa tekrar ettiğimiz gibi, karakter dediğimiz şey, bilgisayarların anlayabildiği tek kavram olan sayılara biz insanların atadığı birtakım işaretlerden ibarettir. Dolayısıyla bilgisayarlar açısından karakterler değil, ikili sayma düzenindeki birtakım sayılar, yani bitler ve baytlar vardır.\n",
    "\n",
    "Teknik olarak 1 bit, ikili sayma sistemindeki her bir basamağa verilen isimdir. Zaten ‘bit’ kelimesinin de İngilizcede ‘ikili basamak’ anlamına gelen ‘binary digit ifadesinin kısaltması olduğunu geçen bölümde öğrenmiştiniz.\n",
    "\n",
    "Örneğin ikili sayma sistemindeki 0, bir bitlik bir sayı iken, 100 üç bitlik bir sayıdır. Bu bit’lerin 8 tanesi bir araya gelince ‘bayt’ denen birimi oluşturur. Yani bayt, 8 adet bit’ten oluşan bir birimdir. Nasıl bir düzinede 10, bir destede de 12 öğe olmasını biz insanlar tercih etmiş ve belirlemişsek, bir bayt’ta da 8 bit olmasını yine biz insanlar tercih etmiş ve belirlemişizdir.\n",
    "\n",
    "Önceki derslerimizde de öğrendiğimiz gibi, 8 adet bit, yani 1 bayt, Genişletilmiş ASCII sisteminde bir adet karakteri temsil etmek için kullanılabilecek en büyük birim olarak tasarlanmıştır. Yani Genişletilmiş ASCII tablolarının en sonundaki 255 numaralı karakteri temsil edebilmek için 8 adet bit, yani toplam 1 bayt kullanmamız gerekir. Standart ASCII sistemi ise 7 bitlik bir sistem olduğu için, bir adet karakteri temsil etmek için kullanılabilecek en büyük birimin 7 bit olduğunu biliyorsunuz. Dolayısıyla ASCII sistemindeki son karaktere karşılık gelen 127. sayıyı temsil edebilmek için toplam 7 bit yeterlidir.\n",
    "\n",
    "Farklı bir sistem olan UTF-8 ise birden fazla bayt kullanarak çok sayıda karakteri temsil etmeye imkan tanır. UTF-8 ile, duruma göre 1, 2, 3 veya 4 bayt kullanarak, UNICODE sistemi içinde tanımlanmış bütün karakterleri temsil edebilirsiniz. UTF-8, değişken boyutlu bir kodlama sistemi olması sayesinde, bir karakteri temsil edebilmek için kaç bayt gerekiyorsa, o karakteri temsil etmek için o kadar bayt kullanır. Ama mesela UTF-32 adlı kod çözücü hangi karakter olursa olsun hepsini 4 bayt (32 bit) ile temsil eder. Bu durumda aslında tek baytla temsil edilebilecek ‘a’, ‘b’, ‘c’ gibi karakterler de boşu boşuna 4 bayt yer kaplamış olur. Zaten UTF-8’in bu kadar yaygın ve gözde olmasının nedeni de hem çok sayıda karakteri kodlayabilmesi, hem de bu işi yaparken tasarruflu olmayı başarabilmesidir.\n",
    "\n",
    "Python programlama dilinde karakter dizileri UNICODE kod konumları şeklinde temsil edilir. Dolayısıyla str adı verilen veri tipi esasında karakter dizilerini birtakım UNICODE kod konumları şeklinde gösteren soyut bir yapıdır. Yani biz Python’da karakter dizileri üzerinde işlem yaparken aslında baytlarla değil, UNICODE kod konumları ile muhatap oluyoruz. Ancak UNICODE kod konumları da tamamen soyut kavramlardır. Bunları bilgisayarın belleğinde bu şekilde temsil edemezsiniz ya da bu kod konumlarını herhangi bir ağ üzerinden başka bilgisayarlara iletemezsiniz. Bu kod konumlarını anlamlı bir şekilde kullanabilmek için öncelikle bunları bilgisayarların anlayabileceği bir biçim olan baytlara çevirmeniz gerekir. Çünkü dediğimiz gibi bilgisayarlar yalnızca bitler ve baytlardan anlar. İşte kod çözücülerin görevi de zaten bu kod konumlarını baytlara çevirmektir.\n",
    "\n",
    "Esasında programcılık maceranız boyunca genellikle metin ihtiyaçlarınızı UNICODE kod konumları üzerinden halledeceksiniz. Python sistemdeki öntanımlı kod çözücüyü kullanarak bu kod konumlarını alttan alta bayta çevirip bellekte saklayacaktır. Ama eğer yazdığınız programlarda herhangi bir şekilde doğrudan baytlarla muhatap olmanız gerekirse str veri tipini değil, bytes adlı başka bir veri tipini kullanacaksınız. Örneğin ikili (binary) dosyalar üzerinde çeşitli çalışmalar yapacaksanız ve bu ikili dosyalara birtakım veriler girecekseniz, gireceğiniz bu veriler bytes tipinde olacaktır.\n",
    "\n",
    "Bütün bu sebeplerden ötürü, str ve bytes veri tipleri arasındaki farkı anlamak, yazdığınız programların kararlılığı ve sağlamlığı açısından büyük önem taşır. O anda elinizde olan verinin hangi tipte olduğunu bilmezseniz, bu verinin, programınızın çalışması esnasında size ne tür tuzaklar kurabileceğini de kestiremezsiniz. Örneğin bütün karakterlerin 1 bayt olduğunu ve bunların da yalnızca 0 ile 127 arası sayılarla temsil edilebileceğini zanneden yazılımcıların tasarladığı programlara Türkçe karakterler girdiğinizde nasıl bu programlar patır patır dökülüyorsa, eğer siz de baytlar ve karakterler arasındaki farkı anlamazsanız sizin yazdığınız programlar da hiç beklemediğiniz bir anda tökezleyebilir.\n",
    "\n",
    "Örneğin yazdığınız bir programın bir aşamasında programa yalnızca tek karakterlik verilerin girilmesi temeli üzerinden bir işlem yaptığınızı düşünün. Yani programınız içinde yapacağınız bir işlem, birden fazla karakter girişinin engellenmesini gerektiriyor olsun.\n",
    "\n",
    "Bunun için şöyle bir şey yazmış olun:\n"
   ]
  },
  {
   "cell_type": "code",
   "execution_count": null,
   "id": "58b0e1ea-8fab-4067-8284-6f132cfac8d5",
   "metadata": {},
   "outputs": [],
   "source": [
    "a = \"k\"\n",
    "\n",
    "if len(a) > 1:\n",
    "    print(\"Lütfen yalnızca tek bir karakter giriniz!\")\n",
    "else:\n",
    "    print(\"Teşekkürler!\")"
   ]
  },
  {
   "cell_type": "markdown",
   "id": "512d0387-dca7-4306-8d89-020a68d46ae5",
   "metadata": {},
   "source": [
    "Ben burada temsili olarak a adlı bir değişken oluşturdum ve örnek olması açısından da bunun değerini ‘k’ olarak belirledim. Bu değerlerle programımız düzgün bir şekilde çalışır. Çünkü a değişkeninin değeri tek bir karakter olan ‘k’ harfi. Ama eğer a değişkeninin değeri mesela ‘kz’ gibi bir şey olsaydı programımız ‘Lütfen yalnızca tek bir karakter giriniz!’ uyarısı verecekti…\n",
    "\n",
    "Şimdi bu a değişkeninin sizin tarafınızdan belirlenmediğini, bu değerin başka bir kaynaktan geldiğini düşünün. Eğer size bu değeri gönderen kaynak, bu değeri UNICODE kod konumu olarak gönderiyorsa programınız düzgün çalışır. Ama peki ya gelen bu veri bayt olarak geliyorsa ne olacak?\n",
    "\n",
    "Yukarıda verdiğimiz örneğin neden önemli olduğunu, daha doğrusu bu örnekle ne demek istediğimiz ve nereye varmaya çalıştığımızı anlamamış olabilirsiniz. Ama endişe etmenize hiç gerek yok. Zira bu bölümde yukarıda sorduğumuz sorunun cevabını derinlemesine ele alacağız. Bu bölümün sonuna vardığımızda neler olup bittiğini ve baytların neden bu kadar önemli olduğunu gayet iyi anlıyor olacaksınız."
   ]
  },
  {
   "cell_type": "markdown",
   "id": "ccb2fb73-bd82-49f6-8221-401e49b6d6ae",
   "metadata": {},
   "source": [
    "+++++++++++++Eskisi ve Yenisi\n",
    "\n",
    "\n",
    "Gelin isterseniz tam olarak ne ile karşı karşıya olduğumuzu daha iyi anlayabilmek için Python3 öncesi durumun nasıl olduğuna bakalım. Eğer geçmişte Python programlama dilinin karakter dizileri ve baytları nasıl ele aldığını bilirsek bugünkü durumu ve dolayısıyla genel olarak karakter dizisi ve bayt kavramını çok daha net bir şekilde kavrayabiliriz.\n",
    "\n",
    "Python’ın 2.x sürümlerinde, bir karakter dizisi tanımladığınızda Python bu karakter dizisini bir bayt dizisi olarak temsil ediyordu. Örneğin:"
   ]
  },
  {
   "cell_type": "code",
   "execution_count": 1,
   "id": "1fda7ce7-3d5e-4d35-a1c3-3d80c795da2c",
   "metadata": {},
   "outputs": [],
   "source": [
    "kardiz = \"e\""
   ]
  },
  {
   "cell_type": "markdown",
   "id": "620021f9-fdde-4ee9-be4f-0e38226a7f69",
   "metadata": {},
   "source": [
    "Burada kardiz adlı değişkenin değeri, bir baytlık bir karakter dizisidir. Bunu len() fonksiyonu ile teyit edelim:"
   ]
  },
  {
   "cell_type": "code",
   "execution_count": 2,
   "id": "e175be20-a8ca-44a2-9f55-4867c799a78a",
   "metadata": {},
   "outputs": [
    {
     "data": {
      "text/plain": [
       "1"
      ]
     },
     "execution_count": 2,
     "metadata": {},
     "output_type": "execute_result"
    }
   ],
   "source": [
    "len(kardiz)\n"
   ]
  },
  {
   "cell_type": "markdown",
   "id": "e1a81473-a356-4e14-9391-b5810d6499b9",
   "metadata": {},
   "source": [
    "Bir de şuna bakalım:\n",
    "\n"
   ]
  },
  {
   "cell_type": "code",
   "execution_count": 3,
   "id": "c2ac7c1d-a3ec-45bd-b42c-ccfcb44979fe",
   "metadata": {},
   "outputs": [],
   "source": [
    "kardiz = \"ş\""
   ]
  },
  {
   "cell_type": "markdown",
   "id": "a9f58be1-df0c-45c0-b7b1-b8ea1878a9f4",
   "metadata": {},
   "source": [
    "Burada ise kardiz adlı değişkenin değerinin kaç baytlık bir karakter dizisi olduğu, yani bir bakıma len() fonksiyonunun ne çıktı vereceği işletim sisteminden işletim sistemine farklılık gösterir. Eğer kullandığınız işletim sistemi Windows ise muhtemelen len(kardiz) komutu 1 çıktısı verecektir. Ama eğer bu komutu GNU/Linux dağıtımlarından birinde veriyorsanız alacağınız çıktı büyük ihtimalle 2 olacaktır.\n",
    "\n",
    "Dediğimiz gibi, Python2’de str veri tipi bize bir dizi bayt verir. Dolayısıyla bu veri tipinin içinde tuttuğu karakter dizisinin kaç bayt ile gösterileceği, sistemdeki öntanımlı kod çözücünün hangisi olduğuna bağlıdır. Kullandığınız işletim sisteminde öntanımlı kod çözücünün hangisi olduğunu şu komutla bulabilirsiniz:"
   ]
  },
  {
   "cell_type": "code",
   "execution_count": 5,
   "id": "0d172843-0815-4711-90a3-3a4ea8ed9c0e",
   "metadata": {},
   "outputs": [
    {
     "data": {
      "text/plain": [
       "'UTF-8'"
      ]
     },
     "execution_count": 5,
     "metadata": {},
     "output_type": "execute_result"
    }
   ],
   "source": [
    "import locale\n",
    "locale.getpreferredencoding()"
   ]
  },
  {
   "cell_type": "markdown",
   "id": "c73fa2a4-1916-486c-a264-2ec254c71b7d",
   "metadata": {},
   "source": [
    "Eğer Windows kullanıyorsanız buradan alacağınız çıktı muhtemelen cp1254 olacaktır. cp1254, Microsoft’un Türkçe için özel olarak kullandığı bir kod sayfası olduğu için, 128 ile 256 sayıları arasında Türkçe karakterleri içerir. O yüzden bu kodlama sisteminde Türkçe karakterler 1 bayt ile gösterilebilir. Bu kod sayfasının içeriğinde hangi karakterlerin hangi sayılara karşılık geldiğini görmek için en.wikipedia.org/wiki/Windows-1254 adresindeki tabloyu inceleyebilirsiniz.\n",
    "\n",
    "Ama eğer yukarıdaki komutların çıktısı UTF-8 veya başka bir kod çözücü ise, Türkçe karakterler 1 bayt ile gösterilemeyeceği için len(kardiz) komutu 1 değil, 2 çıktısı verecektir.\n",
    "\n",
    "Bir de şuna bakalım:"
   ]
  },
  {
   "cell_type": "code",
   "execution_count": 6,
   "id": "104880a3-cb62-4ada-b2e7-93f94fde95e9",
   "metadata": {},
   "outputs": [
    {
     "data": {
      "text/plain": [
       "1"
      ]
     },
     "execution_count": 6,
     "metadata": {},
     "output_type": "execute_result"
    }
   ],
   "source": [
    "len(\"€\")"
   ]
  },
  {
   "cell_type": "markdown",
   "id": "c314876c-3c55-42c6-bd47-4cef7800cd48",
   "metadata": {},
   "source": [
    "Bu komutu hangi işletim sisteminde verdiğinize bağlı olarak yukarıdaki komuttan alacağınız çıktı farklı olacaktır. str tipi Python2’de karakter dizilerini bayt olarak temsil eder. Bu temsilin de hangi kurallara göre yapılacağı kullanılan kod çözücüye bağlıdır. Eğer karakter dizileri baytlara çevrilirken cp1254 adlı kod çözücü kullanılırsa, bu kod çözücü ‘€’ simgesini tek bayt ile gösterilebildiği için yukarıdaki komut 1 çıktısı verir. Ama UTF-8 adlı kod çözücü ‘€’ simgesini 3 baytla gösterebildiği için yukarıdaki komutun çıktısı da buna paralel olarak 3 olacaktır.\n",
    "\n",
    "str veri tipi ile gösterilen bu karakter dizilerinin içindeki baytlara ulaşmak için şu yöntemi kullanabilirsiniz:"
   ]
  },
  {
   "cell_type": "code",
   "execution_count": 7,
   "id": "6ed8daca-03a6-4536-abbc-f2613c0eea9f",
   "metadata": {},
   "outputs": [
    {
     "data": {
      "text/plain": [
       "'ş'"
      ]
     },
     "execution_count": 7,
     "metadata": {},
     "output_type": "execute_result"
    }
   ],
   "source": [
    "\"ş\"[0]"
   ]
  },
  {
   "cell_type": "code",
   "execution_count": null,
   "id": "64ce9142-4eff-4e84-883a-45731e844913",
   "metadata": {
    "jupyter": {
     "source_hidden": true
    }
   },
   "outputs": [],
   "source": [
    "\"ş\"[1]\n",
    "'\\x9f'"
   ]
  },
  {
   "cell_type": "markdown",
   "id": "34f6bbb3-6902-4efd-bd2a-a15a65ff3e72",
   "metadata": {},
   "source": [
    "Gördüğünüz gibi, str veri tipi gerçekten de bize bir dizi bayt veriyor. Eğer karakter dizilerini baytlarına göre değil de sahip oldukları karakter sayısına göre saymak isterseniz bunları UNICODE olarak tanımlanız gerekiyor:\n",
    "\n"
   ]
  },
  {
   "cell_type": "code",
   "execution_count": 9,
   "id": "f6861f07-cd6f-4c1f-8dae-9994c9a6b63f",
   "metadata": {},
   "outputs": [
    {
     "data": {
      "text/plain": [
       "1"
      ]
     },
     "execution_count": 9,
     "metadata": {},
     "output_type": "execute_result"
    }
   ],
   "source": [
    "len(u'ş')"
   ]
  },
  {
   "cell_type": "markdown",
   "id": "5c78a185-65f5-4c2d-b018-a33835908464",
   "metadata": {},
   "source": [
    "Python3 ile birlikte yukarıda bahsettiğimiz durumda bazı değişiklikler oldu. Artık str veri tipi UNICODE kod konumlarını döndürüyor. Dolayısıyla artık her karakter dizisi, sahip oldukları karakter sayısına göre sayılabiliyor:\n",
    "\n"
   ]
  },
  {
   "cell_type": "code",
   "execution_count": 10,
   "id": "2c271b75-e2f2-4f44-ae9b-a162be9eea65",
   "metadata": {},
   "outputs": [
    {
     "data": {
      "text/plain": [
       "1"
      ]
     },
     "execution_count": 10,
     "metadata": {},
     "output_type": "execute_result"
    }
   ],
   "source": [
    "len(\"ş\")"
   ]
  },
  {
   "cell_type": "code",
   "execution_count": 11,
   "id": "5f7aa0fa-2ffd-440f-9be9-7e3a47cff770",
   "metadata": {},
   "outputs": [
    {
     "data": {
      "text/plain": [
       "1"
      ]
     },
     "execution_count": 11,
     "metadata": {},
     "output_type": "execute_result"
    }
   ],
   "source": [
    "len(\"€\")"
   ]
  },
  {
   "cell_type": "markdown",
   "id": "cc164eba-2c45-4115-84af-62ad1d9ac7ad",
   "metadata": {},
   "source": [
    "İşte eğer Python2’deki str veri tipini elde etmek istiyorsanız, Python3’te bytes adlı yeni veri tipini kullanmanız gerekiyor."
   ]
  },
  {
   "cell_type": "markdown",
   "id": "cf902726-8fd4-47b7-818b-a82698961223",
   "metadata": {},
   "source": [
    "++++++++++Bayt Tanımlamak\n",
    "\n",
    "\n",
    "Bildiğiniz gibi Python programlama dilinde her veri tipinin kendine özgü bir tanımlanma biçimi var. Örneğin bir liste tanımlamak için şöyle bir şey yazıyoruz:"
   ]
  },
  {
   "cell_type": "code",
   "execution_count": 12,
   "id": "075dad57-63f3-4059-8c0b-0f7e3a50c652",
   "metadata": {},
   "outputs": [],
   "source": [
    "liste = []"
   ]
  },
  {
   "cell_type": "markdown",
   "id": "5f0f18d9-2849-450a-9e44-9b3452d32e36",
   "metadata": {},
   "source": [
    "Böylece boş bir liste tanımlamış olduk. Aynı şekilde karakter dizilerini de şöyle tanımlıyorduk:"
   ]
  },
  {
   "cell_type": "code",
   "execution_count": 13,
   "id": "9200a565-9f3a-4492-b9e9-41910f5847cf",
   "metadata": {},
   "outputs": [],
   "source": [
    "kardiz = ''"
   ]
  },
  {
   "cell_type": "markdown",
   "id": "ef4ca0a6-1963-445a-a64c-229428eaa0f7",
   "metadata": {},
   "source": [
    "Bu şekilde de boş bir karakter dizisi tanımlamış olduk. İşte boş bir bayt tanımlamak için de şu yapıyı kullanıyoruz:"
   ]
  },
  {
   "cell_type": "code",
   "execution_count": 14,
   "id": "1977f38b-e9e7-49e1-92ad-d1a7049c964b",
   "metadata": {},
   "outputs": [],
   "source": [
    "bayt = b''"
   ]
  },
  {
   "cell_type": "markdown",
   "id": "f403b7c5-4502-4341-84e5-57187e1e4671",
   "metadata": {},
   "source": [
    "Gelin tanımladığımız bu veri tipinin bayt olduğunu teyit edelim:"
   ]
  },
  {
   "cell_type": "code",
   "execution_count": 15,
   "id": "815267df-cef7-44b7-ba55-d8cd17586df7",
   "metadata": {},
   "outputs": [
    {
     "data": {
      "text/plain": [
       "bytes"
      ]
     },
     "execution_count": 15,
     "metadata": {},
     "output_type": "execute_result"
    }
   ],
   "source": [
    "type(bayt)\n"
   ]
  },
  {
   "cell_type": "markdown",
   "id": "357c60db-5f21-4862-84fa-fd6579a20a27",
   "metadata": {},
   "source": [
    "Gördüğünüz gibi, gerçekten de bayt tipinde bir veri tanımlamışız. Nasıl karakter dizileri ‘str’, listeler ‘list’ ifadesiyle gösteriliyorsa, baytlar da ‘bytes’ ifadesi ile gösterilir.\n",
    "\n",
    "Peki bu şekilde bir bayt veri tipi tanımlamak ne işimize yarar?\n",
    "\n",
    "Hatırlarsanız bayt veri tipini ikili (binary) dosyaları anlatırken de görmüştük. Orada da söylediğimiz gibi, ikili dosyaları okuduğunuzda elde edeceğiniz şey karakter dizisi değil bayttır. Aynı şekilde, ikili dosyalara da ancak baytları yazabilirsiniz. Dolayısıyla eğer ikili dosyalarla birtakım işlemler yapacaksanız bu bayt veri tipini yoğun olarak kullanacağınızdan hiç şüpheniz olmasın. Yani bayt veri tipi kolayca görmezden gelebileceğiniz gereksiz bir veri tipi değildir."
   ]
  },
  {
   "cell_type": "markdown",
   "id": "7d865b26-315b-4151-a396-f33d2950e225",
   "metadata": {},
   "source": [
    "++++++++++++bytes() Fonksiyonu\n",
    "\n",
    "\n",
    "Bayt veri tipi temel olarak ASCII karakterleri kabul eder. Dolayısıyla ASCII tablosu dışında kalan karakterleri doğrudan bayt olarak temsil edemezsiniz:\n",
    "\n"
   ]
  },
  {
   "cell_type": "code",
   "execution_count": 16,
   "id": "f509e030-3ede-422f-baac-5808825d05d4",
   "metadata": {},
   "outputs": [
    {
     "ename": "SyntaxError",
     "evalue": "bytes can only contain ASCII literal characters (1318650223.py, line 1)",
     "output_type": "error",
     "traceback": [
      "\u001b[0;36m  Cell \u001b[0;32mIn[16], line 1\u001b[0;36m\u001b[0m\n\u001b[0;31m    b'ş'\u001b[0m\n\u001b[0m        ^\u001b[0m\n\u001b[0;31mSyntaxError\u001b[0m\u001b[0;31m:\u001b[0m bytes can only contain ASCII literal characters\n"
     ]
    }
   ],
   "source": [
    "b'ş'"
   ]
  },
  {
   "cell_type": "markdown",
   "id": "2af97e6c-6ecb-4058-b3f4-ae5b40e455dd",
   "metadata": {},
   "source": [
    "Ama ASCII dışında kalan karakterleri de bayt’a dönüştürmenin bir yolu var. Bunun için bytes() adlı bir fonksiyondan yararlanacağız:\n",
    "\n"
   ]
  },
  {
   "cell_type": "code",
   "execution_count": 17,
   "id": "d0b90853-a2b0-4bf9-a57a-3b7eb55dc8ad",
   "metadata": {},
   "outputs": [],
   "source": [
    "b = bytes(\"ş\", \"utf-8\")"
   ]
  },
  {
   "cell_type": "markdown",
   "id": "ece048dd-6f73-4524-8779-8849e1d0d9e5",
   "metadata": {},
   "source": [
    "Gördüğünüz gibi, ilgili karakterin hangi kod çözücü ile kodlanacağını belirterek, bayt tipinde bir veri oluşturabiliyoruz.\n",
    "\n",
    "Tahmin edebileceğiniz gibi, bytes() fonksiyonu, belirttiğimiz kod çözücü ile kodlanamayan karakterlerle karşılaşılması durumunda ne yapılacağını belirlememizi sağlayan errors adlı bir parametreye de sahiptir:"
   ]
  },
  {
   "cell_type": "code",
   "execution_count": 18,
   "id": "8998dd1f-1f7e-4567-89e9-f22ce854a192",
   "metadata": {},
   "outputs": [
    {
     "data": {
      "text/plain": [
       "b'F&#305;rat'"
      ]
     },
     "execution_count": 18,
     "metadata": {},
     "output_type": "execute_result"
    }
   ],
   "source": [
    "b = bytes(\"Fırat\", \"ascii\", errors=\"xmlcharrefreplace\")\n",
    "b"
   ]
  },
  {
   "cell_type": "markdown",
   "id": "b952c356-ef7a-45ea-bf78-f114ccb6448f",
   "metadata": {},
   "source": [
    "Önceki derslerimizde errors parametresinin hangi değerleri alabileceğini tartışmıştık. Orada anlattığımız şeyler burada da geçerlidir."
   ]
  },
  {
   "cell_type": "markdown",
   "id": "3f177a0a-9262-4bd5-9f79-85c0f461406d",
   "metadata": {},
   "source": [
    "Baytların Metotları\n",
    "Bütün veri tiplerinde olduğu gibi, bytes adlı veri tipinin de birtakım metotları bulunur. Bu metotların listesini almak için şu komutu kullanabileceğinizi biliyorsunuz:"
   ]
  },
  {
   "cell_type": "code",
   "execution_count": 19,
   "id": "45c1b50f-63e1-4525-94e7-e278df4007e7",
   "metadata": {},
   "outputs": [
    {
     "data": {
      "text/plain": [
       "['__add__',\n",
       " '__class__',\n",
       " '__contains__',\n",
       " '__delattr__',\n",
       " '__dir__',\n",
       " '__doc__',\n",
       " '__eq__',\n",
       " '__format__',\n",
       " '__ge__',\n",
       " '__getattribute__',\n",
       " '__getitem__',\n",
       " '__getnewargs__',\n",
       " '__gt__',\n",
       " '__hash__',\n",
       " '__init__',\n",
       " '__init_subclass__',\n",
       " '__iter__',\n",
       " '__le__',\n",
       " '__len__',\n",
       " '__lt__',\n",
       " '__mod__',\n",
       " '__mul__',\n",
       " '__ne__',\n",
       " '__new__',\n",
       " '__reduce__',\n",
       " '__reduce_ex__',\n",
       " '__repr__',\n",
       " '__rmod__',\n",
       " '__rmul__',\n",
       " '__setattr__',\n",
       " '__sizeof__',\n",
       " '__str__',\n",
       " '__subclasshook__',\n",
       " 'capitalize',\n",
       " 'center',\n",
       " 'count',\n",
       " 'decode',\n",
       " 'endswith',\n",
       " 'expandtabs',\n",
       " 'find',\n",
       " 'fromhex',\n",
       " 'hex',\n",
       " 'index',\n",
       " 'isalnum',\n",
       " 'isalpha',\n",
       " 'isascii',\n",
       " 'isdigit',\n",
       " 'islower',\n",
       " 'isspace',\n",
       " 'istitle',\n",
       " 'isupper',\n",
       " 'join',\n",
       " 'ljust',\n",
       " 'lower',\n",
       " 'lstrip',\n",
       " 'maketrans',\n",
       " 'partition',\n",
       " 'removeprefix',\n",
       " 'removesuffix',\n",
       " 'replace',\n",
       " 'rfind',\n",
       " 'rindex',\n",
       " 'rjust',\n",
       " 'rpartition',\n",
       " 'rsplit',\n",
       " 'rstrip',\n",
       " 'split',\n",
       " 'splitlines',\n",
       " 'startswith',\n",
       " 'strip',\n",
       " 'swapcase',\n",
       " 'title',\n",
       " 'translate',\n",
       " 'upper',\n",
       " 'zfill']"
      ]
     },
     "execution_count": 19,
     "metadata": {},
     "output_type": "execute_result"
    }
   ],
   "source": [
    "dir(bytes)"
   ]
  },
  {
   "cell_type": "markdown",
   "id": "8d834eaa-aa32-442b-8910-4083dc362df5",
   "metadata": {},
   "source": [
    "Listeye baktığınızda bu metotları karakter dizilerinin metotları ile hemen hemen aynı olduğunu göreceksiniz. Baytların metotları arasında olup da karakter dizilerinin metotları arasında olmayan metotları şu şekilde elde edebilirsiniz:\n",
    "\n"
   ]
  },
  {
   "cell_type": "code",
   "execution_count": 20,
   "id": "1fef0164-5617-4c0d-a919-e0c9df71f16e",
   "metadata": {},
   "outputs": [
    {
     "name": "stdout",
     "output_type": "stream",
     "text": [
      "decode\n",
      "fromhex\n",
      "hex\n"
     ]
    }
   ],
   "source": [
    "for i in dir(bytes):\n",
    "    if i not in dir(str):\n",
    "        print(i)\n"
   ]
  },
  {
   "cell_type": "markdown",
   "id": "534593c8-b50c-4430-bee1-3c33207b7a04",
   "metadata": {},
   "source": [
    "++++++++++++decode\n",
    "\n",
    "\n",
    "Hatırlarsanız karakter dizilerinin encode() adlı bir metodu vardı. Bu metot yardımıyla karakter dizilerini belli bir kodlama biçimine göre kodlayabiliyor, yani bunları baytlara çevirebiliyorduk. Mesela ‘İ’ harfini UTF-8 ile kodlayalım:"
   ]
  },
  {
   "cell_type": "code",
   "execution_count": 21,
   "id": "b0572d43-c8e5-406d-be80-1ce316cc408a",
   "metadata": {},
   "outputs": [
    {
     "data": {
      "text/plain": [
       "b'\\xc4\\xb0'"
      ]
     },
     "execution_count": 21,
     "metadata": {},
     "output_type": "execute_result"
    }
   ],
   "source": [
    "\"İ\".encode(\"utf-8\")"
   ]
  },
  {
   "cell_type": "markdown",
   "id": "4d5ab91d-4965-44bc-9201-36cc76fe40c5",
   "metadata": {},
   "source": [
    "Aynı harfi cp1254 ile kodlarsak şu çıktıyı elde ederiz:"
   ]
  },
  {
   "cell_type": "code",
   "execution_count": 22,
   "id": "4b7bc4bf-538f-4f52-8a88-0061dc30348a",
   "metadata": {},
   "outputs": [
    {
     "data": {
      "text/plain": [
       "b'\\xdd'"
      ]
     },
     "execution_count": 22,
     "metadata": {},
     "output_type": "execute_result"
    }
   ],
   "source": [
    "\"İ\".encode(\"cp1254\")"
   ]
  },
  {
   "cell_type": "markdown",
   "id": "35e6cb84-f964-4c09-a30b-7612b7eac54d",
   "metadata": {},
   "source": [
    "Tahmin edebileceğiniz gibi, bu harfi ASCII ile kodlayamayız:"
   ]
  },
  {
   "cell_type": "code",
   "execution_count": 23,
   "id": "86cd8bbe-0e55-4c8b-ac44-2ed454dd0348",
   "metadata": {},
   "outputs": [
    {
     "ename": "UnicodeEncodeError",
     "evalue": "'ascii' codec can't encode character '\\u0130' in position 0: ordinal not in range(128)",
     "output_type": "error",
     "traceback": [
      "\u001b[0;31m---------------------------------------------------------------------------\u001b[0m",
      "\u001b[0;31mUnicodeEncodeError\u001b[0m                        Traceback (most recent call last)",
      "Cell \u001b[0;32mIn[23], line 1\u001b[0m\n\u001b[0;32m----> 1\u001b[0m \u001b[38;5;124;43m\"\u001b[39;49m\u001b[38;5;124;43mİ\u001b[39;49m\u001b[38;5;124;43m\"\u001b[39;49m\u001b[38;5;241;43m.\u001b[39;49m\u001b[43mencode\u001b[49m\u001b[43m(\u001b[49m\u001b[38;5;124;43m\"\u001b[39;49m\u001b[38;5;124;43mascii\u001b[39;49m\u001b[38;5;124;43m\"\u001b[39;49m\u001b[43m)\u001b[49m\n",
      "\u001b[0;31mUnicodeEncodeError\u001b[0m: 'ascii' codec can't encode character '\\u0130' in position 0: ordinal not in range(128)"
     ]
    }
   ],
   "source": [
    "\"İ\".encode(\"ascii\")"
   ]
  },
  {
   "cell_type": "markdown",
   "id": "08c94ea4-e418-4273-93ab-ea106c15f98b",
   "metadata": {},
   "source": [
    "İşte bu kodlama işlemini tersine çevirebilmek, yani baytları belli bir kodlama biçimine göre karakter dizilerine dönüştürebilmek için decode() metodundan yararlanacağız:\n",
    "\n"
   ]
  },
  {
   "cell_type": "code",
   "execution_count": 24,
   "id": "dc0c90d2-8377-46f8-8e4a-08e70970a5f5",
   "metadata": {},
   "outputs": [
    {
     "data": {
      "text/plain": [
       "'İ'"
      ]
     },
     "execution_count": 24,
     "metadata": {},
     "output_type": "execute_result"
    }
   ],
   "source": [
    "b\"\\xc4\\xb0\".decode(\"utf-8\")"
   ]
  },
  {
   "cell_type": "markdown",
   "id": "be1b2fb9-09b0-4e69-9393-4ecc02359e13",
   "metadata": {},
   "source": [
    "Bu baytları bir de başka kodlama sistemleri ile kodlamayı deneyelim:"
   ]
  },
  {
   "cell_type": "code",
   "execution_count": 25,
   "id": "9e43b047-a002-4529-9af8-6d2e31654fda",
   "metadata": {},
   "outputs": [
    {
     "data": {
      "text/plain": [
       "'Ä°'"
      ]
     },
     "execution_count": 25,
     "metadata": {},
     "output_type": "execute_result"
    }
   ],
   "source": [
    "b\"\\xc4\\xb0\".decode(\"cp1254\")\n"
   ]
  },
  {
   "cell_type": "markdown",
   "id": "29a4723b-004a-4fe6-8e5f-a5aa8f04a424",
   "metadata": {},
   "source": [
    "Gördüğünüz gibi, cp1254 adlı kod çözücü bu baytı çözebiliyor, ama yanlış çözüyor! Çünkü bu baytın gösterdiği sayı cp1254 adlı kod sayfasında ‘İ’ye değil, başka bir karaktere karşılık geliyor. Aslında başka iki karaktere, yani C4 ve B0 ile gösterilen Ä ve ° karakterlerine karşılık geliyor… Bu durumu https://en.wikipedia.org/wiki/Windows-1254 adresine gidip kendiniz de görebilirsiniz.\n",
    "\n",
    "Bu baytları bir de ASCII ile çözmeye çalışalım:"
   ]
  },
  {
   "cell_type": "code",
   "execution_count": 26,
   "id": "4d66539d-b7e9-4ae2-b8c1-fb9bfcf46c62",
   "metadata": {},
   "outputs": [
    {
     "ename": "UnicodeDecodeError",
     "evalue": "'ascii' codec can't decode byte 0xc4 in position 0: ordinal not in range(128)",
     "output_type": "error",
     "traceback": [
      "\u001b[0;31m---------------------------------------------------------------------------\u001b[0m",
      "\u001b[0;31mUnicodeDecodeError\u001b[0m                        Traceback (most recent call last)",
      "Cell \u001b[0;32mIn[26], line 1\u001b[0m\n\u001b[0;32m----> 1\u001b[0m \u001b[38;5;124;43mb\u001b[39;49m\u001b[38;5;124;43m\"\u001b[39;49m\u001b[38;5;130;43;01m\\xc4\u001b[39;49;00m\u001b[38;5;130;43;01m\\xb0\u001b[39;49;00m\u001b[38;5;124;43m\"\u001b[39;49m\u001b[38;5;241;43m.\u001b[39;49m\u001b[43mdecode\u001b[49m\u001b[43m(\u001b[49m\u001b[38;5;124;43m\"\u001b[39;49m\u001b[38;5;124;43mascii\u001b[39;49m\u001b[38;5;124;43m\"\u001b[39;49m\u001b[43m)\u001b[49m\n",
      "\u001b[0;31mUnicodeDecodeError\u001b[0m: 'ascii' codec can't decode byte 0xc4 in position 0: ordinal not in range(128)"
     ]
    }
   ],
   "source": [
    "b\"\\xc4\\xb0\".decode(\"ascii\")\n"
   ]
  },
  {
   "cell_type": "markdown",
   "id": "a7e62bcb-cb3a-4de5-a4a7-55fcf8a6eaac",
   "metadata": {},
   "source": [
    "Elbette, bu karakter 128’den büyük bir sayıya karşılık geldiği için ASCII tarafından çözülemeyecektir.\n",
    "\n",
    "++++++++++++fromhex\n",
    "\n",
    "\n",
    "Bu metot, onaltılı sayma sistemindeki bir sayıdan oluşan bir karakter dizisini alıp, bayta dönüştürür. Bu metodu şöyle kullanıyoruz:"
   ]
  },
  {
   "cell_type": "code",
   "execution_count": 27,
   "id": "5b5218d3-a1ba-49b6-a46c-4153f661d624",
   "metadata": {},
   "outputs": [
    {
     "data": {
      "text/plain": [
       "b'\\xc4\\xb0'"
      ]
     },
     "execution_count": 27,
     "metadata": {},
     "output_type": "execute_result"
    }
   ],
   "source": [
    "bytes.fromhex(\"c4b0\")"
   ]
  },
  {
   "cell_type": "markdown",
   "id": "f358ffd3-a2f8-4ae1-bc99-d0248a6b6116",
   "metadata": {},
   "source": [
    "Gördüğünüz gibi, bu metot bir onaltılı sayı olan c4b0’ı alıp, bize bir bayt nesnesi veriyor."
   ]
  },
  {
   "cell_type": "markdown",
   "id": "37b0ff59-f2a6-43ef-abcd-201054457d82",
   "metadata": {},
   "source": [
    "++++++++++++++Bayt Dizileri\n",
    "\n",
    "\n",
    "bytes adlı veri tipi ile elde ettiğimiz veri tıpkı karakter dizileri gibi, üzerinde değişiklik yapılamayan bir veridir. Dolayısıyla bir bytes nesnesi üzerinde değişiklik yapabilmek için o nesneyi tekrar tanımlamamız gerekir:"
   ]
  },
  {
   "cell_type": "code",
   "execution_count": 28,
   "id": "7484883c-0b8f-4d59-a358-334618f866d5",
   "metadata": {},
   "outputs": [
    {
     "data": {
      "text/plain": [
       "b'PDF-1.7'"
      ]
     },
     "execution_count": 28,
     "metadata": {},
     "output_type": "execute_result"
    }
   ],
   "source": [
    "b = b'PDF'\n",
    "v = b'-1.7'\n",
    "b = b + v\n",
    "b"
   ]
  },
  {
   "cell_type": "markdown",
   "id": "93694647-e9e7-4656-9505-e5b826d3f9e2",
   "metadata": {},
   "source": [
    "Ama Python programlama dilinde bytes veri tipi dışında, baytlara ilişkin ikinci veri tipi daha bulunur. bytearray adlı bu veri tipi, bytes veri tipinin aksine, üzerinde değişiklik yapılabilen bir veri tipidir.\n",
    "\n",
    "Python’da bytearray veri tipini şu şekilde tanımlıyoruz:"
   ]
  },
  {
   "cell_type": "code",
   "execution_count": 29,
   "id": "3d1d53e8-5c78-4105-a2ee-1a7d58381cff",
   "metadata": {},
   "outputs": [],
   "source": [
    "pdf = bytearray(b'PDF-1.7')"
   ]
  },
  {
   "cell_type": "markdown",
   "id": "d590372f-e811-4d8f-8869-f96383a39cff",
   "metadata": {},
   "source": [
    "Gördüğünüz gibi, bir bayt dizisi tanımlayabilmek için bytearray() adlı bir fonksiyondan faydalanıyoruz."
   ]
  },
  {
   "cell_type": "markdown",
   "id": "162b93a4-c870-41ef-b569-50a2e94f79c2",
   "metadata": {},
   "source": [
    "Bayt Dizilerinin Metotları\n",
    "Bayt dizileri bir bakıma listelerle baytların karışımı gibidir. dir(bytearray) gibi bir komutla bu veri tipinin metotlarını inceleyecek olursanız, bu veri tipinin hem baytlardan hem de listelerden birtakım metotlar aldığını görürsünüz.\n",
    "\n",
    "Bu veri tipi listelerin şu metotlarına sahiptir:\n",
    "\n",
    "append\n",
    "\n",
    "clear\n",
    "\n",
    "copy\n",
    "\n",
    "count\n",
    "\n",
    "extend\n",
    "\n",
    "index\n",
    "\n",
    "insert\n",
    "\n",
    "pop\n",
    "\n",
    "remove\n",
    "\n",
    "reverse\n",
    "\n",
    "Bu veri tipi baytların ise şu metotlarına sahiptir:\n",
    "\n",
    "capitalize\n",
    "\n",
    "center\n",
    "\n",
    "count\n",
    "\n",
    "decode\n",
    "\n",
    "endswith\n",
    "\n",
    "expandtabs\n",
    "\n",
    "find\n",
    "\n",
    "fromhex\n",
    "\n",
    "index\n",
    "\n",
    "isalnum\n",
    "\n",
    "isalpha\n",
    "\n",
    "isdigit\n",
    "\n",
    "islower\n",
    "\n",
    "isspace\n",
    "\n",
    "istitle\n",
    "\n",
    "isupper\n",
    "\n",
    "join\n",
    "\n",
    "ljust\n",
    "\n",
    "lower\n",
    "\n",
    "lstrip\n",
    "\n",
    "maketrans\n",
    "\n",
    "partition\n",
    "\n",
    "replace\n",
    "\n",
    "rfind\n",
    "\n",
    "rindex\n",
    "\n",
    "rjust\n",
    "\n",
    "rpartition\n",
    "\n",
    "rsplit\n",
    "\n",
    "rstrip\n",
    "\n",
    "split\n",
    "\n",
    "splitlines\n",
    "\n",
    "startswith\n",
    "\n",
    "strip\n",
    "\n",
    "swapcase\n",
    "\n",
    "title\n",
    "\n",
    "translate\n",
    "\n",
    "upper\n",
    "\n",
    "zfill"
   ]
  },
  {
   "cell_type": "code",
   "execution_count": null,
   "id": "f10f73ba-f6de-44c6-9dae-38c54c92b34c",
   "metadata": {},
   "outputs": [],
   "source": []
  }
 ],
 "metadata": {
  "kernelspec": {
   "display_name": "Python 3 (ipykernel)",
   "language": "python",
   "name": "python3"
  },
  "language_info": {
   "codemirror_mode": {
    "name": "ipython",
    "version": 3
   },
   "file_extension": ".py",
   "mimetype": "text/x-python",
   "name": "python",
   "nbconvert_exporter": "python",
   "pygments_lexer": "ipython3",
   "version": "3.10.12"
  }
 },
 "nbformat": 4,
 "nbformat_minor": 5
}
