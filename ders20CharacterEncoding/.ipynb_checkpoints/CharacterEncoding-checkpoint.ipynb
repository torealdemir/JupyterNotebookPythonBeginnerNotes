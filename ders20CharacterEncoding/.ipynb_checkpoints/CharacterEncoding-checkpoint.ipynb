{
 "cells": [
  {
   "cell_type": "markdown",
   "id": "9aa33ffe-15c5-4f29-8257-2779616fa6de",
   "metadata": {},
   "source": [
    "++++++++++++++Karakter Kodlama (Character Encoding)\n",
    "\n",
    "\n",
    "Bu bölüme gelinceye kadar Python programlama dilindeki karakter dizisi, liste ve dosya adlı veri tiplerine ilişkin epey söz söyledik. Artık bu veri tiplerine dair hemen hemen bütün ayrıntıları biliyoruz. Ancak henüz öğrenmediğimiz, ama programcılık maceramız açısından mutlaka öğrenmemiz gereken çok önemli bir konu daha var. Bu önemli konunun adı, karakter kodlama.\n",
    "\n",
    "Bu bölümde ‘karakter kodlama’ adlı hayati konuyu işlemenin yanısıra, son birkaç bölümde üstünkörü bir şekilde üzerinden geçtiğimiz, ama derinlemesine incelemeye pek fırsat bulamadığımız bütün konuları da ele almaya çalışacağız. Bu konuyu bitirdikten sonra, önceki konuları çalışırken zihninizde oluşmuş olabilecek boşlukların pek çoğunun dolduğunu farkedeceksiniz. Sözün özü, bu bölümde hem yeni şeyler söyleyeceğiz, hem de halihazırda öğrendiğimiz şeylerin bir kez daha üzerinden geçerek bunların zihnimizde iyiden iyiye pekişmesini sağlayacağız.\n",
    "\n",
    "Hatırlarsanız önceki derslerimizde karakter dizilerinin encode() adlı bir metodu olduğundan söz etmiştik. Aynı şekilde, dosyaların da encoding adlı bir parametresi olduğunu söylemiştik. Ayrıca bu encoding konusu, ilk derslerimizde metin düzenleyici ayarlarını anlatırken de karşımıza çıkmıştı. Orada, yazdığımız programlarda özellikle Türkçe karakterlerin düzgün görünebilmesi için, kullandığımız metin düzenleyicinin dil kodlaması (encoding) ayarlarını düzgün yapmamız gerektiğini üstüne basa basa söylemiştik. Biz şu ana kadar bu konuyu ayrıntılı olarak ele almamış da olsak, siz şimdiye kadar yazdığınız programlarda Türkçe karakterleri kullanırken halihazırda pek çok problemle karşılaşmış ve bu sorunların neden kaynaklandığını anlamakta zorlanmış olabilirsiniz.\n",
    "\n",
    "İşte bu bölümde, o zaman henüz bilgimiz yetersiz olduğu için ertelediğimiz bu encoding konusunu bütün ayrıntılarıyla ele alacağız ve yazdığımız programlarda Türkçe karakterleri kullanırken neden sorunlarla karşılaştığımızı, bu sorunun temelinde neyin yattığını anlamaya çalışacağız.\n",
    "\n",
    "O halde hiç vakit kaybetmeden bu önemli konuyu incelemeye başlayalım."
   ]
  },
  {
   "cell_type": "markdown",
   "id": "e45604db-75ab-4c76-a88e-c9169ea98efb",
   "metadata": {},
   "source": [
    "+++++++++++++++Giriş\n",
    "\n",
    "\n",
    "Önceki bölümlerde sık sık tekrar ettiğimiz gibi, bilgisayar dediğimiz şey, üzerinden elektrik geçen devrelerden oluşmuş bir sistemdir. Eğer bir devrede elektrik yoksa o devrenin değeri 0 volt iken, o devreden elektrik geçtiğinde devrenin değeri yaklaşık +5 volttur.\n",
    "\n",
    "Gördüğünüz gibi, ortada iki farklı değer var: 0 volt ve +5 volt. İkili (binary) sayma sisteminde de iki değer bulunur: 0 ve 1. İşte biz bu 0 volt’u ikili sistemde 0 ile, +5 volt’u ise 1 ile temsil ediyoruz. Yani devreden elektrik geçtiğinde o devrenin değeri 1, elektrik geçmediğinde ise 0 olmuş oluyor. Tabii bilgisayar açısından bakıldığında devrede elektrik vardır veya yoktur. Biz insanlar bu ikili durumu daha kolay bir şekilde manipüle edebilmek için farklı voltaj durumlarından her birine sırasıyla 0 ve 1 gibi bir ad veriyoruz. Yani iki farklı voltaj değerini iki farklı sayı halinde ‘kodlamış’ oluyoruz…\n",
    "\n",
    "Hatırlarsanız bir önceki bölümde tasarladığımız basit iletişim modelinde de ampulün loş ışık vermesini sağlayan düşük elektrik sinyallerini 0 ile, parlak ışık vermesini sağlayan yüksek elektrik sinyallerini ise 1 ile temsil etmiştik. Bu temsil işine de teknik olarak ‘kodlama’ (encoding) adı verildiğini söylemiştik. İşte bilgisayarlar açısından da benzer bir durum söz konusudur. Bilgisayarlarda da 0 volt ve +5 volt değerleri sırasıyla ikili sayma sistemindeki 0 ve 1 sayıları halinde kodlanabilir.\n",
    "\n",
    "Sözün özü ilk başta yalnızca iki farklı elektrik sinyali vardır. Elbette bu elektrik sinyalleri ile doğrudan herhangi bir işlem yapamayız. Mesela elektrik sinyallerini birbiriyle toplayıp, birbirinden çıkaramayız. Ama bu sinyalleri bir sayma sistemi ile temsil edersek (yani bu sinyalleri o sayma sisteminde kodlarsak), bunları kullanarak, örneğin, aritmetik işlemleri rahatlıkla gerçekleştirebiliriz. Mesela 0 volt ile +5 voltu birbiriyle toplayamayız, ama 0 voltu ikili sistemdeki 0 sayısıyla, +5 voltu ise ikili sistemdeki 1 sayısıyla kodladıktan sonra bu ikili sayılar arasında her türlü aritmetik işlemi gerçekleştirebiliriz.\n",
    "\n",
    "Bilgisayarlar yalnızca iki farklı voltaj durumundan anladığı ve bu iki farklı voltaj durumu da ikili sayma sistemindeki iki farklı sayı ile kolayca temsil edilebildiği için, ilk bilgisayarlar çoğunlukla sadece hesap işlemlerinde kullanılıyordu. Karakterlerin/harflerin bilgisayar dünyasındaki işlevi bir hayli kısıtlıydı. Metin oluşturma işi o zamanlarda daktilo ve benzeri araçların görevi olarak görülüyordu. Bu durumu, telefon teknolojisi ile kıyaslayabilirsiniz. İlk telefonlar da yalnızca iki kişi arasındaki sesli iletişimi sağlamak gibi kısıtlı bir amaca hizmet ediyordu. Bugün ise, geçmişte pek çok farklı cihaza paylaştırılmış görevleri akıllı telefonlar aracılığıyla tek elden halledebiliyoruz.\n",
    "\n",
    "Peki bir bilgisayar yalnızca elektrik sinyallerinden anlıyorsa, biz mesela bilgisayarları nasıl oluyor da metin girişi için kullanabiliyoruz?\n",
    "\n",
    "Bu sorunun cevabı aslında çok açık: Birtakım elektrik sinyallerini, birtakım aritmetik işlemleri gerçekleştirebilmek amacıyla nasıl birtakım sayılar halinde kodlayabiliyorsak; birtakım sayıları da, birtakım metin işlemlerini gerçekleştirebilmek amacıyla birtakım karakterler halinde kodlayabiliriz.\n",
    "\n",
    "Peki ama nasıl?\n",
    "\n",
    "Bir önceki bölümde bahsettiğimiz basit iletişim modeli aracılığıyla bunun nasıl yapılacağını anlatmıştık. Tıpkı bizim basit iletişim sistemimizde olduğu gibi, bilgisayarlar da yalnızca elektrik sinyallerini görür. Tıpkı orada yaptığımız gibi, bilgisayarlarda da hangi elektrik sinyalinin hangi sayıya; hangi sayının da hangi karaktere karşılık geleceğini belirleyebiliriz. Daha doğrusu, bilgisayarların gördüğü bu elektrik sinyallerini sayılara ve karakterlere dönüştürebiliriz. Dışarıdan girilen karakterleri de, bilgisayarların anlayabilmesi için tam aksi istikamette sayıya, oradan da elektrik sinyallerine çevirebiliriz. İşte bu dönüştürme işlemine karakter kodlama (character encoding) adı verilir.\n",
    "\n",
    "Bu noktada şöyle bir soru akla geliyor: Tamam, sayıları karakterlere, karakterleri de sayılara dönüştüreceğiz. Ama peki hangi sayıları hangi karakterlere, hangi karakterleri de hangi sayılara dönüştüreceğiz? Yani mesela ikili sistemdeki 0 sayısı hangi karaktere, 1 sayısı hangi karaktere, 10 sayısı hangi karaktere karşılık gelecek?\n",
    "\n",
    "Siz aslında bu sorunun cevabını da biliyorsunuz. Yine bir önceki bölümde anlattığımız gibi, hangi sayıların hangi karakterlere karşılık geleceğini, sayılarla karakterlerin eşleştirildiği birtakım tablolalar yardımıyla rahatlıkla belirleyebiliriz.\n",
    "\n",
    "Bu iş ilk başta kulağa çok kolaymış gibi geliyor. Esasında iş kolaydır, ama şöyle bir problem var: Herkes aynı sayıları aynı karakterlerle eşleştirmiyor olabilir. Mesela durumu bir önceki bölümde tasarladığımız basit iletişim modeli üzerinden düşünelim. Diyelim ki, başta yalnızca bir arkadaşınızla ikinizin arasındaki iletişimi sağlamak için tasarladığınız bu sistem başkalarının da dikkatini çekmiş olsun… Tıpkı sizin gibi, başkaları da loş ışık-parlak ışık karşıtlığı üzerinden birbiriyle iletişim kurmaya karar vermiş olsun. Ancak sistemin temeli herkesçe aynı şekilde kullanılıyor olsa da, karakter eşleştirme tablolarını herkes aynı şekilde kullanmıyor olabilir. Örneğin başkaları, kendi ihtiyaçları çerçevesinde, farklı sayıların farklı karakterlerle eşleştirildiği farklı tablolar tasarlamış olabilir. Bu durumun dezavantajı, farklı sistemlerle üretilen mesajların, başka sistemlerde aslı gibi görüntülenemeyecek olmasıdır. Örneğin ‘a’ harfinin 1010 gibi bir sayıyla temsil edildiği sistemle üretilen bir mesaj, aynı harfin mesela 1101 gibi bir sayıyla temsil edildiği sistemde düzgün görüntülenemeyecektir. İşte aynı şey bilgisayarlar için de geçerlidir.\n",
    "\n",
    "1960’lı yılların ilk yarısına kadar her bilgisayar üreticisi, sayılarla karakterlerin eşleştirildiği, birbirinden çok farklı tablolar kullanıyordu. Yani her bilgisayar üreticisi farklı karakterleri farklı sayılarla eşleştiriyordu. Örneğin bir bilgisayarda 10 sayısı ‘a’ harfine karşılık geliyorsa, başka bir bilgisayarda 10 sayısı ‘b’ harfine karşılık gelebiliyordu. Bu durumun doğal sonucu olarak, iki bilgisayar arasında güvenilir bir veri aktarımı gerçekleştirmek mümkün olmuyordu. Hatta daha da vahimi, aynı firma içinde bile birden fazla karakter eşleştirme tablosunun kullanıldığı olabiliyordu…\n",
    "\n",
    "Peki bu sorunun çözümü ne olabilir?\n",
    "\n",
    "Cevap elbette standartlaşma.\n",
    "\n",
    "Standartlaşma ilerleme ve uygarlık açısından çok önemli bir kavramdır. Standartlaşma olmadan ilerleme ve uygarlık düşünülemez. Eğer standartlaşma diye bir şey olmasaydı, mesela A4 piller boy ve en olarak standart bir ölçüye sahip olmasaydı, evde kullandığınız küçük aletlerin pili bittiğinde uygun pili satın almakta büyük zorluk çekerdiniz. Banyo-mutfak musluklarındaki plastik contanın belli bir standardı olmasaydı, conta eskidiğinde yenisini alabilmek için eskisinin ölçülerini inceden inceye hesaplayıp bu ölçülere göre yeni bir conta arayışına çıkmanız gerekirdi. Herhangi bir yerden bulduğunuz contayı herhangi bir muslukta kullanamazdınız. İşte bu durumun aynısı bilgisayarlar için de geçerlidir. Eğer bugün karakterlerle sayıları eşleştirme işlemi belli bir standart üzerinden yürütülüyor olmasaydı, kendi bilgisayarınızda oluşturduğunuz bir metni başka bir bilgisayarda açtığınızda aynı metni göremezdiniz. İşte 1960’lı yıllara kadar bilgisayar dünyasında da aynen buna benzer bir sorun vardı. Yani o dönemde, hangi sayıların hangi karakterlerle eşleşeceği konusunda uzlaşma olmadığı için, farklı bilgisayarlar arasında metin değiş tokuşu pek mümkün değildi.\n",
    "\n",
    "1960’lı yılların başında IBM şirketinde çalışan Bob Bemer adlı bir bilim adamı bu kargaşanın sona ermesi gerektiğine karar verip, herkes tarafından benimsenecek ortak bir karakter kodlama sistemi üzerinde ilk çalışmaları başlattı. İşte ASCII (‘aski’ okunur) böylece hayatımıza girmiş oldu.\n",
    "\n",
    "Peki bu ‘ASCII’ denen şey tam olarak ne anlama geliyor? Gelin bu sorunun cevabını, en baştan başlayarak ve olabildiğince ayrıntılı bir şekilde vermeye çalışalım."
   ]
  },
  {
   "cell_type": "markdown",
   "id": "2e415142-e426-426f-81e6-8089cb99ebfa",
   "metadata": {},
   "source": [
    "+++++++++++++ASCII\n",
    "\n",
    "\n",
    "Bilgisayarların iki farklı elektrik sinyali ile çalıştığını, bu iki farklı sinyalin de 0 ve 1 sayıları ile temsil edildiğini, bilgisayarla metin işlemleri yapabilmek için ise bu sayıların belli karakterlerle eşleştirilmesi gerektiğini söylemiştik.\n",
    "\n",
    "Yukarıda da bahsettiğimiz gibi, uygarlık ve ilerleme açısından standartlaşma önemli bir basamaktır. Şöyle düşünün: Biz bilgisayarların çalışma prensibinde iki farklı elektrik sinyali olduğunu biliyoruz. Biz insanlar olarak, işlerimizi daha kolay yapabilmek için, bu sinyalleri daha somut birer araç olan 0 ve 1 sayılarına atamışız. Eğer devrede elektrik yoksa bu durumu 0 ile, eğer devrede elektrik varsa bu durumu 1 ile temsil ediyoruz. Esasında bu da bir uzlaşma gerektirir. Devrede elektrik yoksa bu durumu pekala 0 yerine 1 ile de temsil edebilirdik… Eğer elektrik sinyallerinin temsili üzerinde böyle bir uzlaşmazlık olsaydı, her şeyden önce hangi sinyalin hangi sayıya karşılık geleceği konusunda da ortak bir karara varmamız gerekirdi.\n",
    "\n",
    "Elektriğin var olmadığı durumu 0 yerine 1 ile temsil etmek akla pek yatkın olmadığı için uzlaşmada bir problem çıkmıyor. Ama karakterler böyle değildir. Onlarca (hatta yüzlerce ve binlerce) karakterin sayılarla eşleştirilmesi gereken bir durumda, ortak bir eşleştirme düzeni üzerinde uzlaşma sağlamak hiç de kolay bir iş değildir. Zaten 1960’lı yılların başına kadar da böyle bir uzlaşma sağlanabilmiş değildi. Dediğimiz gibi, her bilgisayar üreticisi sayıları farklı karakterlerle eşleştiriyor, yani birbirlerinden tamamen farklı karakter kodlama sistemleri kullanıyordu.\n",
    "\n",
    "İşte bu kargaşayı ortadan kaldırmak gayesiyle, Bob Bemer ve ekibi hangi sayıların hangi karakterlere karşılık geleceğini belli bir standarda bağlayan bir tablo oluşturdu. Bu standarda ise American Standard Code for Information Interchange, yani ‘Bilgi Alışverişi için Standart Amerikan Kodu’ veya kısaca ‘ASCII’ adı verildi."
   ]
  },
  {
   "cell_type": "markdown",
   "id": "45d68e14-fb56-4b2f-9952-3205338c0a95",
   "metadata": {},
   "source": [
    "7 Bitlik bir Sistem\n",
    "ASCII adı verilen sistem, birtakım sayıların birtakım karakterlerle eşleştirildiği basit bir tablodan ibarettir. Bu tabloyu https://www.asciitable.com/ adresinde görebilirsiniz:\n",
    "\n",
    "İsterseniz bu tabloyu Python yardımıyla kendiniz de oluşturabilirsiniz:"
   ]
  },
  {
   "cell_type": "code",
   "execution_count": 4,
   "id": "d1e0e3ba-2a7d-4b64-9517-f23b7e2f5d2c",
   "metadata": {},
   "outputs": [
    {
     "name": "stdout",
     "output_type": "stream",
     "text": [
      "\n",
      "\n",
      "0    '\\x00'\t1    '\\x01'\t2    '\\x02'\t3    '\\x03'\t\n",
      "\n",
      "4    '\\x04'\t5    '\\x05'\t6    '\\x06'\t7    '\\x07'\t\n",
      "\n",
      "8    '\\x08'\t9      '\\t'\t10     '\\n'\t11   '\\x0b'\t\n",
      "\n",
      "12   '\\x0c'\t13     '\\r'\t14   '\\x0e'\t15   '\\x0f'\t\n",
      "\n",
      "16   '\\x10'\t17   '\\x11'\t18   '\\x12'\t19   '\\x13'\t\n",
      "\n",
      "20   '\\x14'\t21   '\\x15'\t22   '\\x16'\t23   '\\x17'\t\n",
      "\n",
      "24   '\\x18'\t25   '\\x19'\t26   '\\x1a'\t27   '\\x1b'\t\n",
      "\n",
      "28   '\\x1c'\t29   '\\x1d'\t30   '\\x1e'\t31   '\\x1f'\t\n",
      "\n",
      "32      ' '\t33      '!'\t34      '\"'\t35      '#'\t\n",
      "\n",
      "36      '$'\t37      '%'\t38      '&'\t39      \"'\"\t\n",
      "\n",
      "40      '('\t41      ')'\t42      '*'\t43      '+'\t\n",
      "\n",
      "44      ','\t45      '-'\t46      '.'\t47      '/'\t\n",
      "\n",
      "48      '0'\t49      '1'\t50      '2'\t51      '3'\t\n",
      "\n",
      "52      '4'\t53      '5'\t54      '6'\t55      '7'\t\n",
      "\n",
      "56      '8'\t57      '9'\t58      ':'\t59      ';'\t\n",
      "\n",
      "60      '<'\t61      '='\t62      '>'\t63      '?'\t\n",
      "\n",
      "64      '@'\t65      'A'\t66      'B'\t67      'C'\t\n",
      "\n",
      "68      'D'\t69      'E'\t70      'F'\t71      'G'\t\n",
      "\n",
      "72      'H'\t73      'I'\t74      'J'\t75      'K'\t\n",
      "\n",
      "76      'L'\t77      'M'\t78      'N'\t79      'O'\t\n",
      "\n",
      "80      'P'\t81      'Q'\t82      'R'\t83      'S'\t\n",
      "\n",
      "84      'T'\t85      'U'\t86      'V'\t87      'W'\t\n",
      "\n",
      "88      'X'\t89      'Y'\t90      'Z'\t91      '['\t\n",
      "\n",
      "92     '\\\\'\t93      ']'\t94      '^'\t95      '_'\t\n",
      "\n",
      "96      '`'\t97      'a'\t98      'b'\t99      'c'\t\n",
      "\n",
      "100     'd'\t101     'e'\t102     'f'\t103     'g'\t\n",
      "\n",
      "104     'h'\t105     'i'\t106     'j'\t107     'k'\t\n",
      "\n",
      "108     'l'\t109     'm'\t110     'n'\t111     'o'\t\n",
      "\n",
      "112     'p'\t113     'q'\t114     'r'\t115     's'\t\n",
      "\n",
      "116     't'\t117     'u'\t118     'v'\t119     'w'\t\n",
      "\n",
      "120     'x'\t121     'y'\t122     'z'\t123     '{'\t\n",
      "\n",
      "124     '|'\t125     '}'\t126     '~'\t127  '\\x7f'\t"
     ]
    }
   ],
   "source": [
    "for i in range(128):\n",
    "    if i % 4 == 0:\n",
    "        print(\"\\n\")\n",
    "\n",
    "    print(\"{:<3}{:>8}\\t\".format(i, repr(chr(i))), sep=\"\", end=\"\")"
   ]
  },
  {
   "cell_type": "markdown",
   "id": "72558a3d-3f29-491f-b3fe-7867b456e6c7",
   "metadata": {},
   "source": [
    "ASCII tablosunda toplam 128 karakterin sayılarla eşleştirilmiş durumda olduğunu görüyorsunuz. Bir önceki bölümde bahsettiğimiz basit iletişim modelinde anlattıklarımızdan da aşina olduğunuz gibi, 128 adet sayı 7 bite karşılık gelir (2**7=128). Yani 7 bit ile gösterilebilecek son sayı 127’dir. Dolayısıyla ASCII 7 bitlik bir sistemdir.\n",
    "\n",
    "ASCII tablosunu şöyle bir incelediğimizde ilk 32 öğenin göze ilk başta anlamsız görünen birtakım karakterlerden oluştuğunu görüyoruz:"
   ]
  },
  {
   "cell_type": "markdown",
   "id": "63e410c3-0cdf-4288-bfaa-fa74aa745d87",
   "metadata": {},
   "source": [
    "Aslında bu karakter salatası arasında bizim tanıdığımız birkaç karakter de yok değil. Mesela 9. sıradaki \\t öğesinin sekme oluşturan kaçış dizisi olduğunu söyledik. Aynı şekilde, 10. sıradaki \\n öğesinin satır başına geçiren kaçış dizisi olduğunu, 13. sıradaki \\r öğesinin ise satırı başa alan kaçış dizisi olduğunu da biliyoruz. Bu tür karakterler ‘basılamayan’ (non-printing) karakterlerdir. Yani mesela ekranda görüntülenebilen ‘a’, ‘b’, ‘c’, ‘!’, ‘?’, ‘=’ gibi karakterlerden farklı olarak bu ilk 32 karakter ekranda görünmez. Bunlara aynı zamanda ‘kontrol karakterleri’ (control characters) adı da verilir. Çünkü bu karakterler ekranda görüntülenmek yerine, metnin akışını kontrol eder. Bu karakterlerin ne işe yaradığını şu tabloyla tek tek gösterebiliriz (tablo https://tr.wikipedia.org/wiki/ASCII adresinden alıntıdır):"
   ]
  },
  {
   "cell_type": "raw",
   "id": "d14aa6cc-a584-4a13-8448-e188900f16ca",
   "metadata": {},
   "source": [
    "Sayı\n",
    "\n",
    "Karakter\n",
    "\n",
    "Sayı\n",
    "\n",
    "Karakter\n",
    "\n",
    "0\n",
    "\n",
    "boş\n",
    "\n",
    "16\n",
    "\n",
    "veri bağlantısından çık\n",
    "\n",
    "1\n",
    "\n",
    "başlık başlangıcı\n",
    "\n",
    "17\n",
    "\n",
    "aygıt denetimi 1\n",
    "\n",
    "2\n",
    "\n",
    "metin başlangıcı\n",
    "\n",
    "18\n",
    "\n",
    "aygıt denetimi 2\n",
    "\n",
    "3\n",
    "\n",
    "metin sonu\n",
    "\n",
    "19\n",
    "\n",
    "aygıt denetimi 3\n",
    "\n",
    "4\n",
    "\n",
    "aktarım sonu\n",
    "\n",
    "20\n",
    "\n",
    "aygıt denetimi 4\n",
    "\n",
    "5\n",
    "\n",
    "sorgu\n",
    "\n",
    "21\n",
    "\n",
    "olumsuz bildirim\n",
    "\n",
    "6\n",
    "\n",
    "bildirim\n",
    "\n",
    "22\n",
    "\n",
    "zaman uyumlu boşta kalma\n",
    "\n",
    "7\n",
    "\n",
    "zil\n",
    "\n",
    "23\n",
    "\n",
    "aktarım bloğu sonu\n",
    "\n",
    "8\n",
    "\n",
    "geri al\n",
    "\n",
    "24\n",
    "\n",
    "iptal\n",
    "\n",
    "9\n",
    "\n",
    "yatay sekme\n",
    "\n",
    "25\n",
    "\n",
    "ortam sonu\n",
    "\n",
    "10\n",
    "\n",
    "satır besleme/yeni satır\n",
    "\n",
    "26\n",
    "\n",
    "değiştir\n",
    "\n",
    "11\n",
    "\n",
    "dikey sekme\n",
    "\n",
    "27\n",
    "\n",
    "çık\n",
    "\n",
    "12\n",
    "\n",
    "form besleme/yeni sayfa\n",
    "\n",
    "28\n",
    "\n",
    "dosya ayırıcısı\n",
    "\n",
    "13\n",
    "\n",
    "satır başı\n",
    "\n",
    "29\n",
    "\n",
    "grup ayırıcısı\n",
    "\n",
    "14\n",
    "\n",
    "dışarı kaydır\n",
    "\n",
    "30\n",
    "\n",
    "kayıt ayırıcısı\n",
    "\n",
    "15\n",
    "\n",
    "içeri kaydır\n",
    "\n",
    "31\n",
    "\n",
    "birim ayırıcısı"
   ]
  },
  {
   "cell_type": "markdown",
   "id": "914a1a86-6631-4a6d-bbc4-94eb9f1feb7a",
   "metadata": {},
   "source": [
    "Gördüğünüz gibi, bunlar birer harf, sayı veya noktalama işareti değil. O yüzden bu karakterler ekranda görünmez. Ama bir metindeki veri, satır ve paragraf düzeninin nasıl olacağını, metnin nerede başlayıp nerede biteceğini ve nasıl görüneceğini kontrol ettikleri için önemlidirler.\n",
    "\n",
    "Geri kalan sayılar ise doğrudan karakterlere, sayılara ve noktalama işaretlerine tahsis edilmiştir:"
   ]
  },
  {
   "cell_type": "markdown",
   "id": "986b9d12-8b72-4dae-9652-4da7e90729c6",
   "metadata": {},
   "source": [
    "İşte 32 ile 127 arası sayılarla eşleştirilen yukarıdaki karakterler yardımıyla metin ihtiyaçlarımızın büyük bölümünü karşılayabiliriz. Yani ASCII adı verilen bu eşleştirme tablosu sayesinde bilgisayarların sayılarla birlikte karakterleri de işleyebilmesini sağlayabiliriz.\n",
    "\n",
    "1960’lı yıllara gelindiğinde, bilgisayarlar 8 bit uzunluğundaki verileri işleyebiliyordu. Yani, ASCII sisteminin gerçeklendiği (yani hayata geçirildiği) bilgisayarlar 8 bitlik bir kapasiteye sahipti. Bu 8 bitin 7 biti karakterle ayrılmıştı. Dolayısıyla mevcut bütün karakterler 7 bitlik bir alana sığdırılmıştı. Boşta kalan 8. bit ise, veri aktarımının düzgün gerçekleştirilip gerçekleştirilmediğini denetlemek amacıyla ‘doğruluk kontrolü’ için kullanılıyordu. Bu kontrole teknik olarak ‘eşlik denetimi’ (parity check), bu eşlik denetimini yapmamızı sağlayan bit’e ise ‘eşlik biti’ (parity bit) adı verildiğini biliyorsunuz. Geçen bölümde bu teknik terimlerin ne anlama geldiğini açıklamış, hatta bunlarla ilgili basit bir örnek de vermiştik.\n",
    "\n",
    "Adından da anlaşılacağı gibi, ASCII bir Amerikan standardıdır. Dolayısıyla hazırlanışında İngilizce temel alınmıştır. Zaten ASCII tablosunu incelediğinizde, bu tabloda Türkçeye özgü harflerin bulunmadığını göreceksiniz. Bu sebepten, bu standart ile mesela Türkçeye özgü karakterleri gösteremeyiz. Çünkü ASCII standardında ‘ş’, ‘ç’, ‘ğ’ gibi harfler kodlanmamıştır. Özellikle Python’ın 2.x serisini kullanmış olanlar, ASCII’nin bu yetersizliğinin nelere sebep olduğunu gayet iyi bilir. Python’ın 2.x serisinde mesela doğrudan şöyle bir kod yazamayız:\n",
    "\n"
   ]
  },
  {
   "cell_type": "code",
   "execution_count": null,
   "id": "b696eda2-9f17-41c6-a07a-9055a416620e",
   "metadata": {},
   "outputs": [],
   "source": [
    "print(\"Merhaba Şirin Baba!\")"
   ]
  },
  {
   "cell_type": "markdown",
   "id": "798cf354-df8e-4300-b57a-355fc3d40171",
   "metadata": {},
   "source": [
    "“Merhaba Şirin Baba! adlı karakter dizisinde geçen ‘Ş’ harfi ASCII dışı bir karakterdir. Yani bu harf ASCII ile temsil edilemez. O yüzden böyle bir kod yazıp bu kodu çalıştırdığımızda Python bize şöyle bir hata mesajı gösterecektir:"
   ]
  },
  {
   "cell_type": "raw",
   "id": "a222b5f5-15c7-4422-b750-fef9869a46ce",
   "metadata": {},
   "source": [
    " File \"deneme.py\", line 1\n",
    "SyntaxError: Non-ASCII character '\\xde' in file deneme.py on line 1, but no\n",
    "encoding declared; see http://www.python.org/peps/pep-0263.html for details"
   ]
  },
  {
   "cell_type": "markdown",
   "id": "239a5907-126e-4be0-9668-8ccc2fe29397",
   "metadata": {},
   "source": [
    "Aynen anlattığımız gibi, yukarıdaki hata mesajı da kodlar arasında ASCII olmayan bir karakter yer aldığından yakınıyor…\n",
    "\n",
    "ASCII’nin her ne kadar yukarıda bahsettiğimiz eksiklikleri olsa da bu standart son derece yaygındır ve piyasada bulunan pek çok sistemde kullanılmaya devam etmektedir. Örneğin size kullanıcı adı ve parola soran hemen hemen bütün sistemler bu ASCII tablosunu temel alır veya bu tablodan etkilenmiştir. O yüzden çoğu yerde kullanıcı adı ve/veya parola belirlerken Türkçe karakterleri kullanamazsınız. Hatta pek çok yazı tipinde yalnızca ASCII tablosunda yer alan karakterlerin karşılığı bulunur. Bu yüzden, mesela blogunuzda kullanmak üzere seçip beğendiğiniz çoğu yazı tipi ‘ş’, ‘ç’, ‘ğ’, ‘ö’ gibi harfleri göstermeyebilir. Yukarıda ‘Merhaba Şirin Baba!’ örneğinde de gösterdiğimiz gibi, Python’ın 2.x serisinde de öntanımlı olarak ASCII kodlama biçimi kullanılıyordu. O yüzden Python’ın 2.x sürümlerinde Türkçe karakterleri gösterebilmek için daha fazla ilave işlem yapmak zorunda kalıyorduk.\n",
    "\n",
    "Sözün özü, eğer yazdığınız veya kendiniz yazmamış da olsanız herhangi bir sebeple kullanmakta olduğunuz bir programda Türkçe karakterlere ilişkin bir hata alıyorsanız, bu durumun en muhtemel sebebi, kullandığınız programın veya sistemin, doğrudan ASCII’yi veya ASCII’ye benzer başka bir sistemi temel alarak çalışıyor olmasıdır. ASCII tablosunda görünen 128 karakter dışında kalan hiçbir karakter ASCII ile kodlanamayacağı için, özellikle farklı dillerin kullanıldığı bilgisayarlarda çalışan programlar kaçınılmaz olarak karakterlere ilişkin pek çok hata verecektir. Örneğin, karakter kodlamalarına ilişkin olarak yukarıda bahsettiğimiz ayrıntılardan habersiz bir Amerikalı programcının yazdığı bir programa Türkçe veri girdiğinizde bu program bir anda tuhaf görünen hatalar verip çökecektir…"
   ]
  },
  {
   "cell_type": "markdown",
   "id": "f9a6b6ab-084d-45ff-b7bb-80dac9448a13",
   "metadata": {},
   "source": [
    "++++++++++Genişletilmiş ASCII\n",
    "\n",
    "\n",
    "Dediğimiz gibi, ASCII 7 bitlik bir karakter kümesidir. Bu standardın ilk çıktığı dönemde 8. bitin hata kontrolü için kullanıldığını söylemiştik. Sonraki yıllarda 8. bitin hata kontrolü için kullanılmasından vazgeçildi. Böylece 8. bit yine boşa düşmüş oldu. Bu bitin boşa düşmesi ile elimizde yine toplam 128 karakterlik bir boşluk olmuş oldu. Dediğimiz gibi 7 bit ile toplam 128 sayı-karakter eşleştirilebilirken, 8 bit ile toplam 256 sayı-karakter eşleştirilebilir. Ne de olsa:"
   ]
  },
  {
   "cell_type": "code",
   "execution_count": 5,
   "id": "545c99f7-1f56-41d3-92e1-1fd71c7cff54",
   "metadata": {},
   "outputs": [
    {
     "data": {
      "text/plain": [
       "128"
      ]
     },
     "execution_count": 5,
     "metadata": {},
     "output_type": "execute_result"
    }
   ],
   "source": [
    "2**7"
   ]
  },
  {
   "cell_type": "code",
   "execution_count": 6,
   "id": "1ad7237b-c9b0-42da-88f2-3476540bc9ca",
   "metadata": {},
   "outputs": [
    {
     "data": {
      "text/plain": [
       "256"
      ]
     },
     "execution_count": 6,
     "metadata": {},
     "output_type": "execute_result"
    }
   ],
   "source": [
    "2**8"
   ]
  },
  {
   "cell_type": "markdown",
   "id": "0af09d0c-afb6-415e-8249-de935c7036aa",
   "metadata": {},
   "source": [
    "İşte bu fazla bit, farklı kişi, kurum ve organizasyonlar tarafından, İngilizcede bulunmayan ama başka dillerde bulunan karakterleri temsil etmek için kullanıldı. Ancak elbette bu fazladan bitin sağladığı 128 karakter de dünyadaki bütün karakterlerin temsil edilmesine yetmez. Bu yüzden 8. bitin sunduğu boşluk, birbirinden farklı karakterleri gösteren çeşitli tabloların ortaya çıkmasına sebep oldu. Bu birbirinden farklı tablolara genel olarak ‘kod sayfası’ adı verilir. Örneğin Microsoft şirketinin Türkiye’ye gönderdiği bilgisayarlarda tanımlı ‘cp857’ adlı kod sayfasında 128 ile 256 aralığında Türkçe karakterlere de yer verilmişti (bkzhttps://learn.microsoft.com/en-us/previous-versions/cc195068(v=msdn.10)).\n",
    "\n",
    "Bu tabloya baktığınızda baştan 128’e kadar olan karakterlerin standart ASCII tablosu ile aynı olduğunu göreceksiniz. 128. karakterden itibaren ise Türkçeye özgü harfler tanımlanır. Mesela bu tabloda 128. karakter Türkçedeki büyük ‘ç’ harfi iken, 159. karakter küçük ‘ş’ harfidir. Bu durumu şu Python kodları ile de teyit edebilirsiniz:"
   ]
  },
  {
   "cell_type": "code",
   "execution_count": 7,
   "id": "463c296c-7e02-4c84-b0c0-de5fe5e6db69",
   "metadata": {},
   "outputs": [
    {
     "data": {
      "text/plain": [
       "b'\\x80'"
      ]
     },
     "execution_count": 7,
     "metadata": {},
     "output_type": "execute_result"
    }
   ],
   "source": [
    "\"Ç\".encode(\"cp857\")"
   ]
  },
  {
   "cell_type": "code",
   "execution_count": 9,
   "id": "ea8486ee-b6da-4408-9b8c-92b2963e8005",
   "metadata": {},
   "outputs": [
    {
     "data": {
      "text/plain": [
       "b'\\x9f'"
      ]
     },
     "execution_count": 9,
     "metadata": {},
     "output_type": "execute_result"
    }
   ],
   "source": [
    "\"ş\".encode(\"cp857\")"
   ]
  },
  {
   "cell_type": "markdown",
   "id": "ea20b694-1a3b-4250-8b00-489922b28238",
   "metadata": {},
   "source": [
    "Bu arada bu sayıların onaltılı sayma düzenine göre olduğunu biliyorsunuz. Onlu düzende bunların karşılığı sırasıyla şudur:"
   ]
  },
  {
   "cell_type": "code",
   "execution_count": 10,
   "id": "8c8d234b-792c-4c6f-a057-f6d7d1fac491",
   "metadata": {},
   "outputs": [
    {
     "data": {
      "text/plain": [
       "128"
      ]
     },
     "execution_count": 10,
     "metadata": {},
     "output_type": "execute_result"
    }
   ],
   "source": [
    "int(\"80\", 16)"
   ]
  },
  {
   "cell_type": "code",
   "execution_count": 11,
   "id": "d613ba6a-3522-4aa9-86dc-532a6de1b343",
   "metadata": {},
   "outputs": [
    {
     "data": {
      "text/plain": [
       "159"
      ]
     },
     "execution_count": 11,
     "metadata": {},
     "output_type": "execute_result"
    }
   ],
   "source": [
    "int(\"9f\", 16)\n"
   ]
  },
  {
   "cell_type": "markdown",
   "id": "65a6e825-1a59-4e25-8e6b-9f71eb386800",
   "metadata": {},
   "source": [
    "Burada karakter dizilerinin encode() adlı metodunu kullandığımıza dikkat edin. Bu metot yardımıyla herhangi bir karakteri herhangi bir karakter kodlama sistemine göre kodlayabiliriz. Mesela yukarıdaki iki örnekte ‘Ç’ ve ‘ş’ harflerini ‘cp857’ adlı kod sayfasına göre kodladık ve bunların bu kod sayfasında hangi sayılara karşılık geldiğini bulduk.\n",
    "\n",
    "cp857 numaralı kod sayfasında ‘Ç’ ve ‘ş’ harfleri yer aldığı için, biz bu harfleri o kod sayfasına göre kodlayabiliyoruz. Ama mesela ASCII kodlama sisteminde bu harfler bulunmaz. O yüzden bu harfleri ASCII sistemine göre kodlayamayız:\n",
    "\n"
   ]
  },
  {
   "cell_type": "code",
   "execution_count": 12,
   "id": "d8e33662-e9b4-4b94-af96-893c26eb0f94",
   "metadata": {},
   "outputs": [
    {
     "ename": "UnicodeEncodeError",
     "evalue": "'ascii' codec can't encode character '\\xc7' in position 0: ordinal not in range(128)",
     "output_type": "error",
     "traceback": [
      "\u001b[0;31m---------------------------------------------------------------------------\u001b[0m",
      "\u001b[0;31mUnicodeEncodeError\u001b[0m                        Traceback (most recent call last)",
      "Cell \u001b[0;32mIn[12], line 1\u001b[0m\n\u001b[0;32m----> 1\u001b[0m \u001b[38;5;124;43m\"\u001b[39;49m\u001b[38;5;124;43mÇ\u001b[39;49m\u001b[38;5;124;43m\"\u001b[39;49m\u001b[38;5;241;43m.\u001b[39;49m\u001b[43mencode\u001b[49m\u001b[43m(\u001b[49m\u001b[38;5;124;43m\"\u001b[39;49m\u001b[38;5;124;43mascii\u001b[39;49m\u001b[38;5;124;43m\"\u001b[39;49m\u001b[43m)\u001b[49m\n",
      "\u001b[0;31mUnicodeEncodeError\u001b[0m: 'ascii' codec can't encode character '\\xc7' in position 0: ordinal not in range(128)"
     ]
    }
   ],
   "source": [
    "\"Ç\".encode(\"ascii\")"
   ]
  },
  {
   "cell_type": "markdown",
   "id": "aca5e4bb-d656-40d6-aba5-fce429e643d7",
   "metadata": {},
   "source": [
    "Tıpkı hata mesajında da söylendiği gibi:"
   ]
  },
  {
   "cell_type": "raw",
   "id": "8c5616a5-0df7-4a55-b216-1ea1340cc466",
   "metadata": {},
   "source": [
    "Unicode Kodlama Hatası: 'ascii' kod çözücüsü, 0 konumundaki '\\xc7' adlı\n",
    "karakteri kodlayamıyor. Sayı 0-128 aralığında değil."
   ]
  },
  {
   "cell_type": "markdown",
   "id": "5a1001e2-0faf-400e-9fd3-9b0b99a90371",
   "metadata": {},
   "source": [
    "Gerçekten de onlu sistemde 199 sayısına karşılık gelen bu onaltılı ‘\\xc7’ sayısı ASCII’nin kapsadığı sayı aralığının dışında kalmakta, bu yüzden de ASCII kod çözücüsü ile kodlanamamaktadır.\n",
    "\n",
    "Dediğimiz gibi, Microsoft Türkiye’ye gönderdiği bilgisayarlarda 857 numaralı kod sayfasını tanımlıyordu. Ama mesela Arapça konuşulan ülkelere gönderdiği bilgisayarlarda ise, bu adresten görebileceğiniz 708 numaralı kod sayfasını tanımlıyordu. Bu kod sayfasını incelediğinizde, 128 altı karakterlerin standart ASCII ile aynı olduğunu ancak 128 üstü karakterlerin Türkçe kod sayfasındaki karakterlerden farklı olduğunu göreceksiniz. İşte 128 üstü karakterler bütün dillerde birbirinden farklıdır. Bu farklılığın ne sonuç doğurabileceğini tahmin edebildiğinizi zannediyorum. Elbette, mesela kendi bilgisayarınızda yazdığınız bir metni Arapça konuşulan bir ülkedeki bilgisayara gönderdiğinizde, doğal olarak metin içindeki Türkçeye özgü karakterlerin yerinde başka karakterler belirecektir.\n",
    "\n",
    "Bu bölümün başında da söylediğimiz gibi, Genişletilmiş ASCII sisteminde 128 ile 256 aralığı için pek çok farklı karakter eşleştirme tabloları kullanılıyordu. Mesela Microsoft şirketi bu aralık için kendine özgü birtakım kod sayfaları tasarlamıştı. Bu kod sayfalarına örnek olarak yukarıda cp857 ve cp708 numaralı kod sayfalarını örnek vermiştik.\n",
    "\n",
    "Elbette 128 ile 256 aralığını dolduran, yalnızca Microsoft’a ait kod sayfaları yoktu piyasada. Aynı aralığı farklı karakterlerle dolduran pek çok başka eşleştirme tablosu da dolaşıyordu etrafta. Örneğin özellikle Batı Avrupa dillerindeki karakterleri temsil edebilmek için oluşturulmuş ‘latin1’ (öbür adıyla ISO-8859-1) adlı karakter kümesi bugün de yaygın olarak kullanılan sistemlerinden biridir. Almancada olup da ASCII sistemi ile temsil edilemeyen ‘ö’, ‘ß’, ‘ü’ gibi harfler ve Fransızcada olup da yine ASCII sistemi ile temsil edilemeyen ‘ç’ ve ‘é’ gibi harfler bu karakter kümesinde temsil edilebiliyordu. Eğer dilerseniz bu karakter kümesini de https://www.fileformat.info/info/charset/ISO-8859-1/list.htm adresinden inceleyebilirsiniz.\n",
    "\n",
    "Yalnız burada önemli bir ayrıntıyı not düşelim. ‘Genişletilmiş ASCII’, standart ASCII gibi genel kabul görmüş tek bir sistem değildir.Genişletilmiş ASCII dediğimizde zaten tek bir karakter kümesi akla gelmiyor. Dolayısıyla ASCII dendiğinde anlamamız gereken şey 128 karakterlik bir sayı-karakter eşleştirme tablosudur. ASCII hiçbir zaman bu 128 karakterin ötesine geçip de 256 karakterlik bir aralığı temsil etmiş değildir. Dolayısıyla 127. sayının ötesindeki karakterleri kapsayan sistem ASCII değildir. ‘Genişletilmiş ASCII’ kavramı, temel ASCII sisteminde temsil edilen sayı-karakter çiftlerinin pek çok farklı kurum ve kuruluş tarafından birbirinden farklı biçimlerde ‘genişletilmesiyle’ oluşturulmuş, ancak ASCII’nin kendisi kadar standartlaşamamış bir sistemler bütünüdür. Bu sistem içinde pek çok farklı kod sayfası (veya karakter kümesi) yer alır. Tek başına ‘Genişletilmiş ASCII’ ifadesi açıklayıcı olmayıp; ASCII’nin hangi karakter kümesine göre genişletildiğinin de belirtilmesi gerekir.\n",
    "\n",
    "Bütün bu anlattıklarımızdan şu sonucu çıkarıyoruz: ASCII bilgisayarlar arasında güvenli bir şekilde veri aktarımını sağlamak için atılmış en önemli ve en başarılı adımlardan bir tanesidir. Bu güçlü standart sayesinde uzun yıllar bilgisayarlar arası temel iletişim başarıyla sağlandı. Ancak bu standardın zayıf kaldığı nokta 7 bitlik olması ve boşta kalan 8. bitin tek başına dünyadaki bütün dilleri temsil etmeye yeterli olmamasıdır.\n",
    "\n",
    "+++++++++++1 Karakter == 1 Bayt\n",
    "\n",
    "\n",
    "ASCII standardı, her karakterin 1 bayt ile temsil edilebileceği varsayımı üzerine kurulmuştur. Bildiğiniz gibi, 1 bayt (geleneksel olarak) 8 bit’e karşılık gelir. Peki 1 bayt’ın 8 bit’e karşılık gelmesinin nedeni nedir? Aslında bunun özel bir nedeni yok. 1 destede neden 10 öğe, 1 düzinede de 12 öğe varsa, 1 bayt’ta da 8 bit vardır… Yani biz insanlar öyle olmasına karar verdiğimiz için 1 destede 10 öğe, 1 düzinede 12 öğe, 1 bayt’ta ise 8 bit vardır.\n",
    "\n",
    "Dediğimiz gibi ASCII standardı 7 bitlik bir sistemdir. Yani bu standartta en büyük sayı olan 127 yalnızca 7 bit ile gösterilebilir:"
   ]
  },
  {
   "cell_type": "code",
   "execution_count": 13,
   "id": "c861ad1f-a68d-4f7e-9c88-3d9edc3f1985",
   "metadata": {},
   "outputs": [
    {
     "data": {
      "text/plain": [
       "'1111111'"
      ]
     },
     "execution_count": 13,
     "metadata": {},
     "output_type": "execute_result"
    }
   ],
   "source": [
    "bin(127)[2:]"
   ]
  },
  {
   "cell_type": "markdown",
   "id": "7de37ba2-8f30-4821-8297-f609dd046d98",
   "metadata": {},
   "source": [
    "127 sayısı 7 bit ile gösterilebilecek son sayıdır:"
   ]
  },
  {
   "cell_type": "code",
   "execution_count": 14,
   "id": "6833532f-0eda-4f88-9fb0-779f7fa04170",
   "metadata": {},
   "outputs": [
    {
     "data": {
      "text/plain": [
       "7"
      ]
     },
     "execution_count": 14,
     "metadata": {},
     "output_type": "execute_result"
    }
   ],
   "source": [
    "(127).bit_length()"
   ]
  },
  {
   "cell_type": "code",
   "execution_count": 15,
   "id": "3fa7230f-2ceb-4cb4-be16-9dcb3597fbd6",
   "metadata": {},
   "outputs": [
    {
     "data": {
      "text/plain": [
       "8"
      ]
     },
     "execution_count": 15,
     "metadata": {},
     "output_type": "execute_result"
    }
   ],
   "source": [
    "(128).bit_length()"
   ]
  },
  {
   "cell_type": "markdown",
   "id": "369bf865-fd00-44c5-99f6-ed38c8946e71",
   "metadata": {},
   "source": [
    "8 bitlik bir sistem olan Genişletilmiş ASCII ise 0 ile 255 arası sayıları temsil edebilir:\n",
    "\n"
   ]
  },
  {
   "cell_type": "code",
   "execution_count": 16,
   "id": "f040a619-6ac3-4c4d-9c7b-d5626f8201bf",
   "metadata": {},
   "outputs": [
    {
     "data": {
      "text/plain": [
       "'11111111'"
      ]
     },
     "execution_count": 16,
     "metadata": {},
     "output_type": "execute_result"
    }
   ],
   "source": [
    "bin(255)[2:]"
   ]
  },
  {
   "cell_type": "markdown",
   "id": "c66d8a78-d33c-46e5-8602-18633add3d50",
   "metadata": {},
   "source": [
    "255 sayısı 8 bit ile gösterilebilecek son sayıdır:\n",
    "\n"
   ]
  },
  {
   "cell_type": "code",
   "execution_count": 17,
   "id": "606b1cc8-3bef-4ac6-ac89-31b197d62ed9",
   "metadata": {},
   "outputs": [
    {
     "data": {
      "text/plain": [
       "8"
      ]
     },
     "execution_count": 17,
     "metadata": {},
     "output_type": "execute_result"
    }
   ],
   "source": [
    "(255).bit_length()"
   ]
  },
  {
   "cell_type": "code",
   "execution_count": 18,
   "id": "734829c1-5adb-42cf-b093-42eef06252cc",
   "metadata": {},
   "outputs": [
    {
     "data": {
      "text/plain": [
       "9"
      ]
     },
     "execution_count": 18,
     "metadata": {},
     "output_type": "execute_result"
    }
   ],
   "source": [
    "(256).bit_length()"
   ]
  },
  {
   "cell_type": "markdown",
   "id": "1d2f8c2b-f652-4ebe-9187-b933e457f1ff",
   "metadata": {},
   "source": [
    "Dolayısıyla ASCII’de ve Genişletilmiş ASCII’de 1 baytlık alana toplam 256 karakter sığdırılabilir. Eğer daha fazla karakteri temsil etmek isterseniz 1 bayttan fazla bir alana ihtiyaç duyarsınız.\n",
    "\n",
    "Bu arada, olası bir yanlış anlamayı önleyelim:\n",
    "\n",
    "1 bayt olma durumu mesela doğrudan ‘a’ harfinin kendisi ile ilgili bir şey değildir. Yani ‘a’ harfi 1 bayt ile gösterilebiliyorken, mesela ‘ş’ harfi 1 bayt ile gösterilemiyorsa, bunun nedeni ‘ş’ harfininin ‘tuhaf bir harf’ olması değildir! Eğer ASCII gibi bir sistem Türkiye’de tasarlanmış olsaydı, herhalde ‘ş’ harfi ilk 128 sayı arasında kendine bir yer bulurdu. Mesela böyle bir sistemde muhtemelen ‘x’, ‘w’ ve ‘q’ harfleri, Türk alfabesinde yer almadıkları için, dışarıda kalırdı. O zaman da ‘ş’, ‘ç’, ‘ğ’ gibi harflerin 1 bayt olduğunu, ‘x’, ‘w’ ve ‘q’ gibi harflerin ise 1 bayt olmadığını söylerdik.\n",
    "\n"
   ]
  },
  {
   "cell_type": "markdown",
   "id": "a9a93299-c58a-4fd2-96c4-de0defa68f8a",
   "metadata": {},
   "source": [
    "=++++++++UNICODE\n",
    "\n",
    "\n",
    "İlk bilgisayarların ABD çıkışlı olması nedeniyle, bilgisayarlar çoğunlukla ABD’de üretilip ABD pazarına satılıyordu. Bu nedenle İngilizce alfabeyi temel alan ASCII gibi bir sistem bu pazarın karakter temsil ihtiyaçlarını %99 oranında karşılıyordu. Ancak bilgisayarların ABD dışına çıkması ve ABD dışında da da yayılmaya başlamasının ardından, ASCII’nin yetersizlikleri de iyice görünür olmaya başladı. Çünkü ASCII tablosunda, İngilizce dışındaki dillerde bulunan aksanlı ve noktalı harflerin (é, ä, ö, ç gibi) hiçbiri bulunmuyordu.\n",
    "\n",
    "İlk zamanlarda insanlar aksanlı ve noktalı harfleri ASCII tablosundaki benzerleriyle değiştirerek kullanmaya razı olmuşlardı (é yerine e; ä yerine a; ö yerine o; ç yerine c gibi). Ancak bu çözüm Avrupa dillerini kullananların sorununu kısmen çözüyor da olsa, Asya dillerindeki problemi çözemez. Çünkü ASCII tablosunu kullanarak Çince ve Japonca gibi dillerdeki karakterleri herhangi bir şekilde temsil etmeniz mümkün değildir.\n",
    "\n",
    "Bu sıkıntıyı kısmen de olsa giderebilmek için, yukarıda da bahsetmiş olduğumuz, 128-256 arasındaki boşluktan yararlanılmaya başlandı. Dediğimiz gibi, ASCII 7 bitlik bir sistem olduğu için, 8 bitlik bilgisayarlarda fazladan 1 bitin boşta kalmasına izin verir. İşte bu 1 bitlik boşluk dünyanın çeşitli ülkeleri tarafından kendi karakter ihtiyaçlarını karşılamak için kullanıldı. Dolayısıyla Almanlar 128-256 arasını farklı karakterlerle, Fransızlar başka karakterlerle, Yunanlar ise bambaşka karakterlerle doldurdular.\n",
    "\n",
    "Hatırlarsanız ASCII’nin ortaya çıkış sebebi bilgisayarlar arasında veri alışverişini mümkün kılmaktı. ASCII Amerika’daki bilgisayarlar arasında sağlıklı bir veri alışverişi gerçekleştirilmesini rahatlıkla mümkün kılıyordu. Ama bilgisayarların dünyaya yayılması ile birlikte ilk baştaki veri aktarımı problemi tekrar ortaya çıktı. Bu defa da, mesela Türkiye’den gönderilen bir metin (örneğin bir e.posta) Almanya’daki bilgisayarlarda düzgün görüntülenemeyebiliyordu. Örneğin Windows-1254 (cp1254) numaralı kod sayfası ile kodlanmış Türkçe bir metin, Almanya’da Windows-1250 numaralı kod sayfasının tanımlı olduğu bir bilgisayarda, aynı sayıların her iki kod sayfasında farklı karakterlere karşılık gelmesi nedeniyle düzgün görüntülenemez.\n",
    "\n",
    "Windows-1254 adlı kod sayfası için https://en.wikipedia.org/wiki/Windows-1254 adresine; Windows-1250 adlı kod sayfası için ise https://en.wikipedia.org/wiki/Windows-1250 adresine bakabilirsiniz.\n",
    "İşte nasıl 1960’lı yılların başında Bob Bemer ve arkadaşları bilgisayarlar arasında sağlıklı bir veri iletişimi sağlamak için kolları sıvayıp ASCII gibi bir çözüm ürettiyse, ASCII ve Genişletilmiş ASCII ile kodlanamayan karakterleri de kodlayıp, uluslar arasında çok geniş çaplı veri alışverişine izin verebilmek amacıyla Xerox şirketinden Joe Becker, Apple şirketinden ise Lee Collins ve Mark Davis UNICODE adlı bir çözüm üzerinde ilk çalışmaları başlattı.\n",
    "\n",
    "Peki tam olarak nedir bu UNICODE denen şey?\n",
    "\n",
    "Aslında Unicode da tıpkı ASCII gibi bir standarttır. Unicode’un bir proje olarak ortaya çıkışı 1987 yılına dayanır. Projenin amacı, dünyadaki bütün dillerde yer alan karakterlerin tek, benzersiz ve doğru bir biçimde temsil edilebilmesidir. Yani bu projenin ortaya çıkış gayesi, ASCII’nin yetersiz kaldığı noktaları telafi etmektir.\n",
    "\n",
    "Sınırsız Bitlik bir Sistem\n",
    "Unicode standardı ile ilgili olarak bilmemiz gereken ilk şey bu standardın ASCII’yi tamamen görmezden gelmiyor olmasıdır. Daha önce de söylediğimiz gibi, ASCII son derece yaygın ve güçlü bir standarttır. Üstelik ASCII standardı yaygın olarak kullanılmaya da devam etmektedir. Bu sebeple ASCII ile halihazırda kodlanmış karakterler UNICODE standardında da aynı şekilde kodlanmıştır. Dolayısıyla ASCII UNICODE sisteminin bir alt kümesi olduğu için, ASCII ile uyumlu olan bütün sistemler otomatik olarak UNICODE ile de uyumludur. Ancak tabii bunun tersi geçerli değildir.\n",
    "\n",
    "UNICODE’un ASCII’den en önemli farkı, UNICODE’un ASCII’ye kıyasla çok daha büyük miktarda karakterin kodlanmasına izin vermesidir. ASCII yalnızca 128 karakterin kodlanmasına izin verirken UNICODE 1.000.000’dan fazla karakterin kodlanmasına izin verir.\n",
    "\n",
    "UNICODE sistemini devasa bir karakter tablosu olarak hayal edebilirsiniz. Bildiğiniz gibi ASCII 7 bitlik bir sistemdir. Bu sebeple de sadece 128 karakteri kodlayabilir. UNICODE ilk ortaya çıktığında 16 bitlik bir sistem olarak tasarlanmıştı. Dolayısıyla UNICODE daha ilk çıkışında 2**16=65536 karakterin kodlanmasına izin veriyordu. Bugün ise UNICODE sisteminin böyle kesin bir sınırı yoktur. Çünkü ‘bilmem kaç bitlik bir sistem’ kavramı UNICODE için geçerli değildir. Dediğimiz gibi, UNICODE’u, ucu bucağı olmayan dev bir karakter tablosu olarak düşünebilirsiniz. Bu tabloya istediğimiz kadar karakteri ekleyebiliriz. Bizi engelleyen sınırlı bir bit kavramı mevcut değildir. Çünkü UNICODE sisteminin kendisi, ASCII sisteminin aksine, doğrudan doğruya karakterleri kodlamaz. UNICODE’un yaptığı şey karakterleri tanımlamaktan ibarettir.\n",
    "\n",
    "Unicode sisteminde her karakter tek ve benzersiz bir ‘kod konumuna’ (code point) karşılık gelir. Kod konumları şu formüle göre gösterilir:"
   ]
  },
  {
   "cell_type": "raw",
   "id": "c2565238-f4a2-4ff7-a8df-1e06dd82a61e",
   "metadata": {},
   "source": [
    "U+sayının_onaltılı_değeri"
   ]
  },
  {
   "cell_type": "markdown",
   "id": "9ad19baa-af67-458e-bc69-51e4c64c5958",
   "metadata": {},
   "source": [
    "Örneğin ‘a’ harfinin kod konumu şudur:"
   ]
  },
  {
   "cell_type": "raw",
   "id": "71be5045-4691-4398-a0ef-7577c5e2577b",
   "metadata": {},
   "source": [
    "u+0061"
   ]
  },
  {
   "cell_type": "markdown",
   "id": "21648876-b552-4eca-bdc9-b1cd9480206e",
   "metadata": {},
   "source": [
    "Buradaki 0061 sayısı onaltılı bir sayıdır. Bunu onlu sayı sistemine çevirebilirsiniz:"
   ]
  },
  {
   "cell_type": "code",
   "execution_count": 19,
   "id": "f40730ac-b419-4357-a292-b975a283a7bc",
   "metadata": {},
   "outputs": [
    {
     "data": {
      "text/plain": [
       "97"
      ]
     },
     "execution_count": 19,
     "metadata": {},
     "output_type": "execute_result"
    }
   ],
   "source": [
    "int(\"61\", 16)"
   ]
  },
  {
   "cell_type": "markdown",
   "id": "5dd98efd-faa4-45f8-9d84-fd8be5621236",
   "metadata": {},
   "source": [
    "Hatırlarsanız ‘a’ harfinin ASCII tablosundaki karşılığı da 97 idi.\n",
    "\n",
    "Esasında ASCII ile UNICODE birbirleri ile karşılaştırılamayacak iki farklı kavramdır. Neticede ASCII bir kodlama biçimidir. UNICODE ise pek çok farklı kodlama biçimini içinde barındıran devasa bir sistemdir.\n",
    "\n",
    "bkz: http://www.unicode.org/versions/Unicode6.2.0/UnicodeStandard-6.2.pdf"
   ]
  },
  {
   "cell_type": "markdown",
   "id": "03720c12-8328-4968-a3a4-ffc3c5cb66c5",
   "metadata": {},
   "source": [
    "++++++UTF-8 Kod Çözücüsü\n",
    "\n",
    "\n",
    "Dediğimiz gibi UNICODE devasa bir tablodan ibarettir. Bu tabloda karakterlere ilişkin birtakım bilgiler bulunur ve bu sistemde her karakter, kod konumları ile ifade edilir. UNICODE kendi başına karakterleri kodlamaz. Bu sistemde tanımlanan karakterleri kodlama işi kod çözücülerin görevidir.\n",
    "\n",
    "UNICODE sistemi içinde UTF-1, UTF-7, UTF-8, UTF-16 ve UTF-32 adlı kod çözücüler bulunur. UTF-8, UNICODE sistemi içindeki en yaygın, en bilinen ve en kullanışlı kod çözücüdür.\n",
    "\n",
    "UTF-8 adlı kod çözücünün kodlayabildiği karakterlerin listesine https://www.fileformat.info/info/charset/UTF-8/list.htm adresinden ulaşabilirsiniz. Bu listenin sayfalar dolusu olduğuna ve her sayfaya, sayfanın en altındaki ‘More…’ bağlantısı ile ulaşabileceğinize dikkat edin.\n",
    "\n",
    "\n",
    "+++++++++++1 Karakter != 1 Bayt\n",
    "\n",
    "\n",
    "ASCII sisteminde her karakterin 1 bayt’a karşılık geldiğini söylemiştik. Ancak 1 bayt dünyadaki bütün karakterleri kodlamaya yetmez. Geri kalan karakterleri de kodlayabilmek için 1 bayttan fazlasına ihtiyacımız var. Mesela karakter kodlama için:\n",
    "\n"
   ]
  },
  {
   "cell_type": "raw",
   "id": "02d170d8-95a6-4950-9af2-462bc7e9519a",
   "metadata": {},
   "source": [
    "1 bayt kullanırsak toplam 2**8  = 256\n",
    "2 bayt kullanırsak toplam 2**16 = 65,536\n",
    "3 bayt kullanırsak toplam 2**24 = 16,777,216\n",
    "4 bayt kullanırsak toplam 2**32 = 4,294,967,296"
   ]
  },
  {
   "cell_type": "markdown",
   "id": "3abc8e65-22d0-4aa6-aaf4-67bb0c320cf7",
   "metadata": {},
   "source": [
    "karakter kodlayabiliriz. Bu durumu şu Python kodları ile de gösterebiliriz:"
   ]
  },
  {
   "cell_type": "code",
   "execution_count": 20,
   "id": "76f75a3f-6675-4676-9826-d030611f29b8",
   "metadata": {},
   "outputs": [
    {
     "name": "stdout",
     "output_type": "stream",
     "text": [
      "1 bayt kullanırsak toplam 2**8  = 256\n",
      "2 bayt kullanırsak toplam 2**16 = 65,536\n",
      "3 bayt kullanırsak toplam 2**24 = 16,777,216\n",
      "4 bayt kullanırsak toplam 2**32 = 4,294,967,296\n"
     ]
    }
   ],
   "source": [
    "for i in range(1, 5):\n",
    "    print(\"{} bayt kullanırsak toplam 2**{:<2} = {:,}\".format(i, i*8, (2**(i*8))))"
   ]
  },
  {
   "cell_type": "markdown",
   "id": "3cc83051-90af-4b29-bc22-4eea936a388a",
   "metadata": {},
   "source": [
    "Görünüşe göre biz 4 baytlık bir sistem kullanırsak gelmiş geçmiş bütün karakterleri rahatlıkla temsil etmeye yetecek kadar alana sahip oluyoruz. Ancak burada şöyle bir durum var. Bildiğiniz gibi, 0 ile 256 aralığındaki karakterler yalnızca 1 bayt ile temsil edilebiliyor. 256 ile 65,536 arasındaki karakterler için ise 2 bayt yeter. Aynı şekilde 65,536 ile 16,777,216 aralığındaki sayılar için de 3 bayt yeterli. Bu durumda eğer biz bütün karakterleri 4 bayt ile temsil edecek olursak, korkunç derece bir israfa düşmüş oluruz. Çünkü ASCII gibi bir kodlama sisteminde yalnızca 1 bayt ile temsil edilebilecek bir karakterin kapladığı alan bu sistemle boşu boşuna 4 kat artmış olacaktır.\n",
    "\n",
    "Bu sorunun çözümü elbette sabit boyutlu karakter kodlama biçimleri yerine değişken boyutlu karakter kodlama biçimleri kullanmaktır. İşte UNICODE sistemi içindeki UTF-8 adlı kod çözücü, karakterleri değişken sayıda baytlar halinde kodlayabilir. UTF-8, UNICODE sistemi içinde tanımlanmış karakterleri kodlayabilmek için 1 ile 4 bayt arası değerleri kullanır. Böylece de bu kod çözücü UNICODE sistemi içinde tanımlanmış bütün karakterleri temsil edebilir.\n",
    "\n",
    "Bu durumu bir örnek üzerinden göstermeye çalışalım:"
   ]
  },
  {
   "cell_type": "code",
   "execution_count": 23,
   "id": "1bb47967-7952-48c4-8d56-2431ded23b7d",
   "metadata": {},
   "outputs": [
    {
     "name": "stdout",
     "output_type": "stream",
     "text": [
      "a    b'a'           1              \n",
      "b    b'b'           1              \n",
      "c    b'c'           1              \n",
      "ç    b'\\xc3\\xa7'    2              \n",
      "d    b'd'           1              \n",
      "e    b'e'           1              \n",
      "f    b'f'           1              \n",
      "g    b'g'           1              \n",
      "ğ    b'\\xc4\\x9f'    2              \n",
      "h    b'h'           1              \n",
      "ı    b'\\xc4\\xb1'    2              \n",
      "i    b'i'           1              \n",
      "j    b'j'           1              \n",
      "k    b'k'           1              \n",
      "l    b'l'           1              \n",
      "m    b'm'           1              \n",
      "n    b'n'           1              \n",
      "o    b'o'           1              \n",
      "ö    b'\\xc3\\xb6'    2              \n",
      "p    b'p'           1              \n",
      "r    b'r'           1              \n",
      "s    b's'           1              \n",
      "ş    b'\\xc5\\x9f'    2              \n",
      "t    b't'           1              \n",
      "u    b'u'           1              \n",
      "ü    b'\\xc3\\xbc'    2              \n",
      "v    b'v'           1              \n",
      "y    b'y'           1              \n",
      "z    b'z'           1              \n"
     ]
    }
   ],
   "source": [
    "harfler = \"abcçdefgğhıijklmnoöprsştuüvyz\"\n",
    "for s in harfler:\n",
    "    print(\"{:<5}{:<15}{:<15}\".format(s,\n",
    "                                     str(s.encode(\"utf-8\")),\n",
    "                                     len(s.encode(\"utf-8\"))))"
   ]
  },
  {
   "cell_type": "markdown",
   "id": "c33e7ff3-fae2-41f6-a201-a50ecfa98b72",
   "metadata": {},
   "source": [
    "Burada, s.encode(\"utf-8\") komutunun ‘baytlar’ (bytes) türünden bir veri tipi verdiğine dikkat edin (baytlar veri tipini bir sonraki bölümde ayrıntılı olarak inceleyeceğiz). Karakter dizilerinin aksine baytların format() adlı bir metodu bulunmaz. Bu yüzden, bu veri tipini format() metoduna göndermeden önce str() fonksiyonu yardımıyla karakter dizisine dönüştürmemiz gerekiyor. Bu dönüştürme işlevini, alternatif olarak şu şekilde de yapabilirdik:"
   ]
  },
  {
   "cell_type": "code",
   "execution_count": 24,
   "id": "6d14290f-ece1-4ccf-8480-4fabbb9559b8",
   "metadata": {},
   "outputs": [
    {
     "name": "stdout",
     "output_type": "stream",
     "text": [
      "z    b'z'           1              \n"
     ]
    }
   ],
   "source": [
    "print(\"{:<5}{!s:<15}{:<15}\".format(s,\n",
    "                                   s.encode(\"utf-8\"),\n",
    "                                   len(s.encode(\"utf-8\"))))"
   ]
  },
  {
   "cell_type": "markdown",
   "id": "7c18f593-d5f8-4984-820f-89b7d2148ef0",
   "metadata": {},
   "source": [
    "Hangi yöntemi seçeceğiniz paşa gönlünüze kalmış… Biz konumuza dönelim.\n",
    "\n",
    "Yukarıdaki tabloda ilk sütun Türk alfabesindeki tek tek harfleri gösteriyor. İkinci sütun ise bu harflerin UTF-8 ile kodlandığında nasıl göründüğünü. Son sütunda ise UTF-8 ile kodlanan Türk harflerinin kaç baytlık yer kapladığını görüyoruz.\n",
    "\n",
    "Bu tabloyu daha iyi anlayabilmek için mesela buradaki ‘ç’ harfini ele alalım:\n",
    "\n"
   ]
  },
  {
   "cell_type": "code",
   "execution_count": 25,
   "id": "0cc3cf07-35db-433c-a325-e6e82fabd1ee",
   "metadata": {},
   "outputs": [
    {
     "data": {
      "text/plain": [
       "b'\\xc3\\xa7'"
      ]
     },
     "execution_count": 25,
     "metadata": {},
     "output_type": "execute_result"
    }
   ],
   "source": [
    "'ç'.encode('utf-8')\n"
   ]
  },
  {
   "cell_type": "markdown",
   "id": "b296ef28-b02f-4699-8139-983c4fe4ab4c",
   "metadata": {},
   "source": [
    "Burada Python’ın kendi yerleştirdiği karakterleri çıkarırsak (‘b’ ve ‘\\x’ gibi) elimizde şu onaltılı sayı kalır:"
   ]
  },
  {
   "cell_type": "raw",
   "id": "99cd650c-a022-4b39-a455-dc8209343ee5",
   "metadata": {},
   "source": [
    "c3a7"
   ]
  },
  {
   "cell_type": "markdown",
   "id": "ee18c191-a681-468d-87ef-6da4e2147d70",
   "metadata": {},
   "source": [
    "Bu onaltılı sayının onlu sistemdeki karşılığı şudur:"
   ]
  },
  {
   "cell_type": "code",
   "execution_count": 26,
   "id": "cbe3f4f9-edb5-4875-a84f-379fa349ab60",
   "metadata": {},
   "outputs": [
    {
     "data": {
      "text/plain": [
       "50087"
      ]
     },
     "execution_count": 26,
     "metadata": {},
     "output_type": "execute_result"
    }
   ],
   "source": [
    "int('c3a7', 16)"
   ]
  },
  {
   "cell_type": "markdown",
   "id": "b7f0a6eb-4946-4f20-bb05-79c31949da8d",
   "metadata": {},
   "source": [
    "50087 sayısının ikili sayma sistemindeki karşılığı ise şudur:"
   ]
  },
  {
   "cell_type": "code",
   "execution_count": 27,
   "id": "59bd3dee-1717-4b9b-925e-1bb337ae44b8",
   "metadata": {},
   "outputs": [
    {
     "data": {
      "text/plain": [
       "'0b1100001110100111'"
      ]
     },
     "execution_count": 27,
     "metadata": {},
     "output_type": "execute_result"
    }
   ],
   "source": [
    "bin(50087)"
   ]
  },
  {
   "cell_type": "markdown",
   "id": "ab77b64a-0e67-4226-8ad0-36a983a53fe3",
   "metadata": {},
   "source": [
    "Gördüğünüz gibi, bu sayı 16 bitlik, yani 2 baytlık bir sayıdır. Bunu nasıl teyit edeceğinizi biliyorsunuz:\n",
    "\n"
   ]
  },
  {
   "cell_type": "code",
   "execution_count": 28,
   "id": "f0472234-92ae-417f-a397-de0a11dfb2a8",
   "metadata": {},
   "outputs": [
    {
     "data": {
      "text/plain": [
       "16"
      ]
     },
     "execution_count": 28,
     "metadata": {},
     "output_type": "execute_result"
    }
   ],
   "source": [
    "(50087).bit_length()"
   ]
  },
  {
   "cell_type": "markdown",
   "id": "240cf0e8-083e-47d2-983e-296428568b72",
   "metadata": {},
   "source": [
    "https://www.fileformat.info/info/charset/UTF-8/list.htm adresine gittiğinizde de UTF-8 tablosunda ‘ç’ harfinin ‘c3a7’ sayısıyla eşleştirildiğini göreceksiniz.\n",
    "\n",
    "Bir de UTF-8’in ‘a’ harfini nasıl temsil ettiğine bakalım:\n",
    "\n"
   ]
  },
  {
   "cell_type": "code",
   "execution_count": 29,
   "id": "101d8702-7b92-4d96-b4d2-32f03038cb01",
   "metadata": {},
   "outputs": [
    {
     "data": {
      "text/plain": [
       "b'a'"
      ]
     },
     "execution_count": 29,
     "metadata": {},
     "output_type": "execute_result"
    }
   ],
   "source": [
    "\"a\".encode(\"utf-8\")\n"
   ]
  },
  {
   "cell_type": "markdown",
   "id": "d95d2bfe-98c3-4646-accf-fd8ed10cf637",
   "metadata": {},
   "source": [
    "‘a’ harfi standart ASCII harflerinden biri olduğu için Python doğrudan bu harfin kendisini gösteriyor. Eğer bu harfin hangi sayıya karşılık geldiğini görmek isterseniz şu kodu kullanabilirsiniz:\n",
    "\n"
   ]
  },
  {
   "cell_type": "code",
   "execution_count": 30,
   "id": "69385e21-f5cd-42c4-9c37-7a4c3ffcd9fa",
   "metadata": {},
   "outputs": [
    {
     "data": {
      "text/plain": [
       "97"
      ]
     },
     "execution_count": 30,
     "metadata": {},
     "output_type": "execute_result"
    }
   ],
   "source": [
    "ord(\"a\")\n"
   ]
  },
  {
   "cell_type": "markdown",
   "id": "08485a28-2734-4b31-82be-a3a192e22cbb",
   "metadata": {},
   "source": [
    "Daha önce de söylediğimiz gibi, UNICODE sistemi ASCII ile uyumludur. Yani ASCII sisteminde tanımlanmış bir harf hangi sayı değerine sahipse, UNICODE içindeki bütün kod çözücüleri de o harf için aynı sayıyı kullanır. Yani mesela ‘a’ harfi hem ASCII’de, hem UTF-8’de 97 sayısı ile temsil edilir. Bu sayı 256’dan küçük olduğu için yalnızca 1 bayt ile temsil edilir. Ancak standart ASCII dışında kalan karakterler, farklı kod çözücüler tarafından farklı sayılarla eşleştirilecektir. Bununla ilgili şöyle bir çalışma yapabiliriz:\n",
    "\n"
   ]
  },
  {
   "cell_type": "code",
   "execution_count": null,
   "id": "a30854c6-f932-4756-b336-751c49723696",
   "metadata": {},
   "outputs": [],
   "source": [
    "kod_çözücüler = ['UTF-8', 'cp1254', 'latin-1', 'ASCII']\n",
    "\n",
    "harf = 'İ'\n",
    "\n",
    "for kç in kod_çözücüler:\n",
    "    try:\n",
    "        print(\"'{}' karakteri {} ile {} olarak \"\n",
    "              \"ve {} sayısıyla temsil edilir.\".format(harf, kç,\n",
    "                                                      harf.encode(kç),\n",
    "                                                      ord(harf)))\n",
    "    except UnicodeEncodeError:\n",
    "        print(\"'{}' karakteri {} ile temsil edilemez!\".format(harf, kç))"
   ]
  },
  {
   "cell_type": "markdown",
   "id": "b66b9951-8375-4ef7-ad13-380ba44308ba",
   "metadata": {},
   "source": [
    "Bu programı çalıştırdığımızda şuna benzer bir çıktı alırız:"
   ]
  },
  {
   "cell_type": "raw",
   "id": "bdef3c75-7103-4e55-b566-92cea6663e31",
   "metadata": {},
   "source": [
    ".. code-block:: pycon"
   ]
  },
  {
   "cell_type": "markdown",
   "id": "32d6ecfd-6b03-4b23-a654-0e792723bb4f",
   "metadata": {},
   "source": [
    "‘İ’ karakteri UTF-8 ile b’xc4xb0’ olarak ve 304 sayısıyla temsil edilir ‘İ’ karakteri cp1254 ile b’xdd’ olarak ve 304 sayısıyla temsil edilir. ‘İ’ karakteri latin-1 ile temsil edilemez! ‘İ’ karakteri ASCII ile temsil edilemez!\n",
    "\n",
    "Bu ufak programı kullanarak hangi karakterin hangi kod çözücü ile nasıl temsil edildiğini (veya temsil edilip edilemediğini) görebilirsiniz.\n",
    "\n"
   ]
  },
  {
   "cell_type": "markdown",
   "id": "fd22407b-4181-4742-8d73-f6b576544a4b",
   "metadata": {},
   "source": [
    "++++++++++Eksik Karakterler ve encode Metodu\n",
    "\n",
    "\n",
    "Dediğimiz ve örneklerden de gördüğümüz gibi, her karakter her kod çözücü ile çözülemeyebilir. Mesela Windows-1254 adlı kod sayfasında bulunan bir karakter Windows-1250 adlı kod sayfasında bulunamadığında, bulunmayan karakterin yerine bir soru işareti (veya başka bir simge) yerleştirilecektir.\n",
    "\n",
    "Aslında siz bu olguya hiç yabancı değilsiniz. İnternette dolaşırken mutlaka anlamsız karakterlerle dolu web sayfalarıyla karşılaşmışsınızdır. Bu durumun sebebi, ilgili sayfanın dil kodlamasının (encoding) düzgün belirtilmemiş olmasıdır. Yani sayfanın HTML kodları arasında meta charset etiketi ya hiç yazılmamış ya da yanlış yazılmıştır. Eğer bu etiket hiç yazılmamışsa, Internet tarayıcınız dil kodlamasının ne olduğunu kendince tahmin etmeyece çalışacak, çoğunlukla da yanlış bir karar verecektir. Tarayıcınız metnin dilini düzgün tespit edemediği için de bu metni yanlış bir karakter tablosu ile eşleştirecek, o karakter tablosunda tanımlanmamış karakterler yerine bir soru işareti veya başka anlamsız bir simge yerleştirecektir. Metni düzgün görüntüleyebilmek için tarayıcınızın dil kodlamasının yapıldığı menü öğesini bulup, doğru dil kodlamasını kendiniz seçeceksiniz. Böyle bir şeyi hayatınız boyunca en az bir kez yapmak zorunda kaldığınıza eminim…\n",
    "\n",
    "Bir karakter kümesinde herhangi bir karakter bulunamadığında, bulunamayan bu karakterin yerine neyin geleceği, tamamen aradaki yazılıma bağlıdır. Örneğin söz konusu olan bir Python programıysa, ilgili karakter bulunamadığında öntanımlı olarak bu karakterin yerine hiçbir şey koyulmaz. Onun yerine program çökmeye bırakılır… Ancak böyle bir durumda ne yapılacağını isterseniz kendiniz de belirleyebilirsiniz.\n",
    "\n",
    "Bunun için karakter dizilerinin encode() metodunun errors adlı parametresinden yararlanacağız. Bu parametre dört farklı değer alabilir:"
   ]
  },
  {
   "cell_type": "raw",
   "id": "1ac058d1-345c-495f-b9f0-22e07f9c9c4d",
   "metadata": {},
   "source": [
    "Parametre\n",
    "\n",
    "Anlamı\n",
    "\n",
    "‘strict’\n",
    "\n",
    "Karakter temsil edilemiyorsa hata verilir\n",
    "\n",
    "‘ignore’\n",
    "\n",
    "Temsil edilemeyen karakter görmezden gelinir\n",
    "\n",
    "‘replace’\n",
    "\n",
    "Temsil edilemeyen karakterin yerine bir ‘?’ işareti koyulur\n",
    "\n",
    "‘xmlcharrefreplace’\n",
    "\n",
    "Temsil edilemeyen karakter yerine XML karşılığı koyulur"
   ]
  },
  {
   "cell_type": "markdown",
   "id": "d8c2a747-1e44-44c6-b8f2-448d4924d525",
   "metadata": {},
   "source": [
    "Bu parametreleri şöyle kullanıyoruz:"
   ]
  },
  {
   "cell_type": "code",
   "execution_count": 31,
   "id": "67726b17-3752-4642-9e15-a552860568ee",
   "metadata": {},
   "outputs": [
    {
     "ename": "UnicodeEncodeError",
     "evalue": "'ascii' codec can't encode character '\\xfc' in position 4: ordinal not in range(128)",
     "output_type": "error",
     "traceback": [
      "\u001b[0;31m---------------------------------------------------------------------------\u001b[0m",
      "\u001b[0;31mUnicodeEncodeError\u001b[0m                        Traceback (most recent call last)",
      "Cell \u001b[0;32mIn[31], line 1\u001b[0m\n\u001b[0;32m----> 1\u001b[0m \u001b[38;5;124;43m\"\u001b[39;49m\u001b[38;5;124;43mbu Türkçe bir cümledir.\u001b[39;49m\u001b[38;5;124;43m\"\u001b[39;49m\u001b[38;5;241;43m.\u001b[39;49m\u001b[43mencode\u001b[49m\u001b[43m(\u001b[49m\u001b[38;5;124;43m\"\u001b[39;49m\u001b[38;5;124;43mascii\u001b[39;49m\u001b[38;5;124;43m\"\u001b[39;49m\u001b[43m,\u001b[49m\u001b[43m \u001b[49m\u001b[43merrors\u001b[49m\u001b[38;5;241;43m=\u001b[39;49m\u001b[38;5;124;43m\"\u001b[39;49m\u001b[38;5;124;43mstrict\u001b[39;49m\u001b[38;5;124;43m\"\u001b[39;49m\u001b[43m)\u001b[49m\n",
      "\u001b[0;31mUnicodeEncodeError\u001b[0m: 'ascii' codec can't encode character '\\xfc' in position 4: ordinal not in range(128)"
     ]
    }
   ],
   "source": [
    "\"bu Türkçe bir cümledir.\".encode(\"ascii\", errors=\"strict\")"
   ]
  },
  {
   "cell_type": "markdown",
   "id": "5bdcc437-19a2-4b6c-977f-d519028a7ad7",
   "metadata": {},
   "source": [
    "‘strict’ zaten öntanımlı değerdir. Dolayısıyla eğer errors parametresine herhangi bir değer vermezsek Python sanki ‘strict’ değerini vermişiz gibi davranacak ve ilgili karakter kodlaması ile temsil edilemeyen bir karakter ile karşılaşıldığında hata verecektir:"
   ]
  },
  {
   "cell_type": "code",
   "execution_count": 32,
   "id": "20af76f5-c916-4501-b84e-ab1833575ac9",
   "metadata": {},
   "outputs": [
    {
     "ename": "UnicodeEncodeError",
     "evalue": "'ascii' codec can't encode character '\\xfc' in position 4: ordinal not in range(128)",
     "output_type": "error",
     "traceback": [
      "\u001b[0;31m---------------------------------------------------------------------------\u001b[0m",
      "\u001b[0;31mUnicodeEncodeError\u001b[0m                        Traceback (most recent call last)",
      "Cell \u001b[0;32mIn[32], line 1\u001b[0m\n\u001b[0;32m----> 1\u001b[0m \u001b[38;5;124;43m\"\u001b[39;49m\u001b[38;5;124;43mbu Türkçe bir cümledir.\u001b[39;49m\u001b[38;5;124;43m\"\u001b[39;49m\u001b[38;5;241;43m.\u001b[39;49m\u001b[43mencode\u001b[49m\u001b[43m(\u001b[49m\u001b[38;5;124;43m\"\u001b[39;49m\u001b[38;5;124;43mascii\u001b[39;49m\u001b[38;5;124;43m\"\u001b[39;49m\u001b[43m)\u001b[49m\n",
      "\u001b[0;31mUnicodeEncodeError\u001b[0m: 'ascii' codec can't encode character '\\xfc' in position 4: ordinal not in range(128)"
     ]
    }
   ],
   "source": [
    "\"bu Türkçe bir cümledir.\".encode(\"ascii\")"
   ]
  },
  {
   "cell_type": "markdown",
   "id": "3b0a7971-5be1-4d3e-8194-1b22caa1061e",
   "metadata": {},
   "source": [
    "Gelelim öteki değerlerin ne yaptığına:"
   ]
  },
  {
   "cell_type": "code",
   "execution_count": 33,
   "id": "967e4ff2-d75b-4ee0-bd61-f1de033dea31",
   "metadata": {},
   "outputs": [
    {
     "data": {
      "text/plain": [
       "b'bu Trke bir cmledir.'"
      ]
     },
     "execution_count": 33,
     "metadata": {},
     "output_type": "execute_result"
    }
   ],
   "source": [
    "\"bu Türkçe bir cümledir.\".encode(\"ascii\", errors=\"ignore\")"
   ]
  },
  {
   "cell_type": "markdown",
   "id": "338d265a-b670-44c0-b6ae-79bf741e320e",
   "metadata": {},
   "source": [
    "Gördüğünüz gibi, errors parametresine ‘ignore’ değerini verdiğimizde, temsil edilemeyen karakterler görmezden geliniyor:"
   ]
  },
  {
   "cell_type": "code",
   "execution_count": 34,
   "id": "f7fcf3eb-4433-4d3b-9d04-8cfb3bf92b15",
   "metadata": {},
   "outputs": [
    {
     "data": {
      "text/plain": [
       "b'bu T?rk?e bir c?mledir.'"
      ]
     },
     "execution_count": 34,
     "metadata": {},
     "output_type": "execute_result"
    }
   ],
   "source": [
    "\"bu Türkçe bir cümledir.\".encode(\"ascii\", errors=\"replace\")\n"
   ]
  },
  {
   "cell_type": "markdown",
   "id": "ff3c3f5d-2c75-4902-91c5-9591d69f01cf",
   "metadata": {},
   "source": [
    "Burada ise ‘replace’ değerini kullandık. Böylece temsil edilemeyen karakterlerin yerine birer ? işareti koyuldu:\n",
    "\n"
   ]
  },
  {
   "cell_type": "code",
   "execution_count": 35,
   "id": "64736632-2456-4887-9989-a93ff6718f7d",
   "metadata": {},
   "outputs": [
    {
     "data": {
      "text/plain": [
       "b'bu T&#252;rk&#231;e bir c&#252;mledir.'"
      ]
     },
     "execution_count": 35,
     "metadata": {},
     "output_type": "execute_result"
    }
   ],
   "source": [
    "\"bu Türkçe bir cümledir.\".encode(\"ascii\", errors=\"xmlcharrefreplace\")"
   ]
  },
  {
   "cell_type": "markdown",
   "id": "1ce2f26f-445a-4b85-a6c3-b4b9869e1c87",
   "metadata": {},
   "source": [
    "Son olarak ise ‘xmlcharrefreplace’ değerinin ne yaptığını görüyoruz. Eğer errors parametresine ‘xmlcharrefreplace’ değerini verecek olursak, temsil edilemeyen her bir harf yerine o harfin XML karşılığı yerleştirilir. Bu değer, programınızdan alacağınız çıktıyı bir XML dosyasında kullanacağınız durumlarda işinize yarayabilir.\n",
    "\n",
    "++++++++++Dosyalar ve Karakter Kodlama\n",
    "\n",
    "\n",
    "Dosyalar konusunu anlatırken, Python’da bir dosyanın open() fonksiyonu ile açılacağını söylemiştik. Bildiğiniz gibi open() fonksiyonunu şu şekilde kullanıyoruz:"
   ]
  },
  {
   "cell_type": "code",
   "execution_count": null,
   "id": "597c1b84-ce36-444d-b877-39c1048d308d",
   "metadata": {},
   "outputs": [],
   "source": [
    "f = open(dosya_adı, dosya_açma_kipi)"
   ]
  },
  {
   "cell_type": "markdown",
   "id": "e93ad7ef-fe2e-4547-9636-a99b615cfa29",
   "metadata": {},
   "source": [
    "Burada biz open() fonksiyonunu iki farklı parametre ile birlikte kullandık. Ancak aslında belirtmemiz gereken önemli bir parametresi daha var bu fonksiyonun. İşte bu parametrenin adı encoding’dir.\n",
    "\n",
    "Gelin şimdi bu parametrenin ne olduğuna ve nasıl kullanıldığına bakalım:\n",
    "\n"
   ]
  },
  {
   "cell_type": "markdown",
   "id": "231f361f-a30d-4039-a9f1-ffbce92971a5",
   "metadata": {},
   "source": [
    "+++++++++encoding\n",
    "\n",
    "\n",
    "Tahmin edebileceğiniz gibi, encoding parametresi bir dosyanın hangi kod çözücü ile açılacağını belirtmemizi sağlar. Python’da dosyalar öntanımlı olarak locale adlı bir modülün getpreferredencoding() adlı fonksiyonunun gösterdiği kod çözücü ile açılır. Siz de dosyalarınızın varsayılan olarak hangi kod çözücü ile açılacağını öğrenmek için şu komutları yazabilirsiniz:"
   ]
  },
  {
   "cell_type": "code",
   "execution_count": 36,
   "id": "03421d9b-6942-4801-bf13-7fed1407c21b",
   "metadata": {},
   "outputs": [
    {
     "data": {
      "text/plain": [
       "'UTF-8'"
      ]
     },
     "execution_count": 36,
     "metadata": {},
     "output_type": "execute_result"
    }
   ],
   "source": [
    "import locale\n",
    "locale.getpreferredencoding()"
   ]
  },
  {
   "cell_type": "markdown",
   "id": "cfe28fc5-143d-402e-a7fc-dd231a5237a0",
   "metadata": {},
   "source": [
    "İşte eğer siz encoding parametresini belirtmezseniz, dosyalarınız yukarıdaki çıktıda görünen kod çözücü ile açılacaktır.\n",
    "\n",
    "GNU/Linux dağıtımlarında bu çıktı çoğunlukla UTF-8 olacaktır. O yüzden GNU/Linux’ta dosyalarınız muhtemelen encoding belirtmeseniz bile düzgün görünecektir. Ancak Windows’ta locale.getpreferredencoding() değeri cp1254 olacağı için, mesela UTF-8 ile kodlanmış dosyalarınızda özellikle Türkçe karakterler düzgün görüntülenemeyecektir. O yüzden, dosyalarınızın hangi kod çözücü ile kodlanmış olduğunu open() fonksiyonuna vereceğiniz encoding parametresi aracılığıyla her zaman belirtmelisiniz:"
   ]
  },
  {
   "cell_type": "code",
   "execution_count": null,
   "id": "477b1e6e-4646-46fb-87d9-64200562e6a3",
   "metadata": {},
   "outputs": [],
   "source": [
    "f = open(dosya, encoding='utf-8')"
   ]
  },
  {
   "cell_type": "markdown",
   "id": "f9415052-eadd-4871-9a31-14851b868440",
   "metadata": {},
   "source": [
    "Diyelim ki açmak istediğiniz dosya cp1254 adlı kod çözücü ile kodlanmış olsun. Eğer siz bu dosyayı açarken cp1254 adlı kod çözücüyü değil de başka bir kod çözücüyü yazarsanız elbette dosyadaki karakterler düzgün görüntülenemeyecektir.\n",
    "\n",
    "Örneğin cp1254 ile kodlanmış bir belgeyi UTF-8 ile açmaya kalkışırsanız veya siz hiçbir kod çözücü belirtmediğiniz halde kullandığınız işletim sistemi öntanımlı olarak dosyaları açmak için cp1254 harici bir kod çözücüyü kullanıyorsa, dosyayı okuma esnasında şuna benzer bir hata alırsınız:\n",
    "\n"
   ]
  },
  {
   "cell_type": "raw",
   "id": "d7399043-6d48-40e2-bccb-0978ce6c9ce5",
   "metadata": {},
   "source": [
    "f = open(\"belge.txt\", encoding=\"utf-8\")\n",
    "f.read(50)\n",
    "\n",
    "Traceback (most recent call last):\n",
    "  File \"<stdin>\", line 1, in <module>\n",
    "  File \"C:\\Python33\\lib\\codecs.py\", line 300, in decode\n",
    "    (result, consumed) = self._buffer_decode(data, self.errors, final)\n",
    "UnicodeDecodeError: 'utf-8' codec can't decode byte 0xde in position 79: invalid\n",
    " continuation byte"
   ]
  },
  {
   "cell_type": "markdown",
   "id": "59d27cbd-d35a-4bfe-a435-445207b2ebde",
   "metadata": {},
   "source": [
    "\n",
    "Gördüğünüz gibi, dosyamız bizim kullanmaya çalıştığımız kod çözücüden (UTF-8) farklı bir kod çözücü ile (cp1254) kodlanmış olduğu için, doğal olarak karakterler doğru sayılarla eşleştirilemiyor. Bu da kaçınılmaz olarak yukarıdaki hatanın verilmesine sebep oluyor.\n",
    "\n",
    "Aslında siz bu hatayı tanıyorsunuz. encode() metodunu anlatırken bunun ne olduğundan ve bu hataya karşı neler yapabileceğinizden söz etmiştik.\n",
    "\n",
    "Hatırlarsanız bu tür hatalara karşı ne tepki verileceğini belirleyebilmek için encode() metodunda errors adlı bir parametreyi kullanabiliyorduk. İşte open() fonksiyonunda da aynı errors parametresi bulunur.\n",
    "\n"
   ]
  },
  {
   "cell_type": "markdown",
   "id": "8d813a75-5d94-4314-a9f5-33705a7061ee",
   "metadata": {},
   "source": [
    "+++++++errors\n",
    "\n",
    "\n",
    "Dediğimiz gibi, bir dosyanın doğru görüntülenebilmesi ve okunabilmesi için, sahip olduğu kodlama biçiminin doğru olarak belirtilmesi gerekir. Ama okuyacağınız dosyaların hangi kodlama sistemine sahip olduğunu doğru tahmin etmeniz her zaman mümkün olmayabilir. Böyle durumlarda, programınızın çökmesini önlemek için çeşitli stratejiler belirlemeniz gerekir.\n",
    "\n",
    "Bir önceki bölümde verdiğimiz örnekten de gördüğünüz gibi, eğer Python, açılmaya çalışılan dosyadaki karakterleri encoding parametresinde gösterilen kod çözücü ile çözemezse öntanımlı olarak bir hata mesajı üretip programdan çıkacaktır. Ancak sizin istediğiniz şey her zaman bu olmayabilir. Mesela dosyadaki karakterler doğru kodlanamasa bile programınızın çökmemesini tercih edebilirsiniz. İşte bunun için errors parametresinden yararlanacaksınız.\n",
    "\n",
    "Bu parametreyi encoding() metodundan hatırlıyorsunuz. Bu parametre orada nasıl kullanılıyorsa, open() fonksiyonunda da aynı şekilde kullanılır. Dikkatlice bakın:"
   ]
  },
  {
   "cell_type": "code",
   "execution_count": null,
   "id": "d171665f-1029-46b2-81db-4c78d5ea2406",
   "metadata": {},
   "outputs": [],
   "source": [
    "f = open(dosya_adı, encoding='utf-8', errors='strict')"
   ]
  },
  {
   "cell_type": "markdown",
   "id": "c2a3fa59-0a61-4cdb-98c5-eb3240a19490",
   "metadata": {},
   "source": [
    "Bu zaten errors parametresinin öntanımlı değeridir. Dolayısıyla ‘strict’ değerini belirtmeseniz de öntanımlı olarak bu değeri belirtmişsiniz gibi davranılacaktır.\n",
    "\n"
   ]
  },
  {
   "cell_type": "code",
   "execution_count": null,
   "id": "a698382b-830c-4a9d-95e5-8ddfb852abf4",
   "metadata": {},
   "outputs": [],
   "source": [
    "f = open(dosya_adı, encoding='utf-8', errors='ignore')"
   ]
  },
  {
   "cell_type": "markdown",
   "id": "5e295dd7-afa6-4447-ac7f-6ab9985a9a38",
   "metadata": {},
   "source": [
    "Burada ise ‘ignore’ değerini kullanarak, Python’ın kodlanamayan karakterleri görmezden gelmesini sağlıyoruz.\n",
    "\n"
   ]
  },
  {
   "cell_type": "code",
   "execution_count": null,
   "id": "711a5e34-b159-4cd0-b0de-07bf0e93d4c1",
   "metadata": {},
   "outputs": [],
   "source": [
    "f = open(dosya_adı, encoding='utf-8', errors='replace')"
   ]
  },
  {
   "cell_type": "markdown",
   "id": "4fc3d3f1-b85a-4a83-8b2c-787a4ff973e5",
   "metadata": {},
   "source": [
    "‘replace’ değeri ise kodlanamayan karakterlerin yerine \\ufffd karakterini yerleştirecektir. Bu karakter işlev bakımından, encode() metodunu anlatırken gördüğümüz ‘?’ işaretine benzer. Bu karaktere teknik olarak ‘UNICODE Değiştirme Karakteri’ (UNICODE Replacement Character) adı verilir. Bazı yerlerde bu karakteri elmas şeklinde siyah bir küp içine yerleştirilmiş soru işareti şeklinde görebilirsiniz.\n",
    "\n",
    "Peki encode() metodunu anlatırken errors parametresi ile birlikte kullanabildiğimiz ‘xmlcharrefreplace’ değerini open() fonksiyonu ile birlikte kullanabilir miyiz?\n",
    "\n",
    "Hayır, open() fonksiyonu, errors parametresinde bu değerin kullanılmasına izin vermez.\n",
    "\n",
    "++++++++++++Konu ile ilgili Fonksiyonlar\n",
    "\n",
    "\n",
    "Bu bölümde, karakter kodlama işlemleri esnasında işimize yarayacak bazı fonksiyonları ele alacağız.\n",
    "\n",
    "+++++++++++++repr()\n",
    "\n",
    "\n",
    "İnceleyeceğimiz ilk fonksiyonun adı repr(). Esasında biz bu fonksiyonu önceki derslerimizde de birkaç örnekte kullanmıştık. Belki o zaman bu fonksiyonun ne işe yaradığını deneme-yanılma yoluyla anlamış olabilirsiniz. Eğer henüz bu fonksiyonun görevini anlamadıysanız da mesele değil. Bu bölümde bu fonksiyonu ve işlevini ayrıntılı bir şekilde anlatmaya çalışacağız.\n",
    "\n",
    "Dilerseniz repr() fonksiyonunu anlatmaya bir örnek ile başlayalım.\n",
    "\n",
    "Şimdi Python’ın etkileşimli kabuğunu açarak şu kodu yazın:\n",
    "\n"
   ]
  },
  {
   "cell_type": "code",
   "execution_count": 40,
   "id": "26f75384-3adb-4a31-9fea-abd442a54e9f",
   "metadata": {},
   "outputs": [
    {
     "data": {
      "text/plain": [
       "'Python programlama dili'"
      ]
     },
     "execution_count": 40,
     "metadata": {},
     "output_type": "execute_result"
    }
   ],
   "source": [
    "\"Python programlama dili\""
   ]
  },
  {
   "cell_type": "markdown",
   "id": "248c4b4c-5e57-418f-89c7-0f5275a9efe5",
   "metadata": {},
   "source": [
    "Dikkat ettiyseniz, yukarıdaki kodların çıktısında karakter dizisi tırnak işaretleri içinde gösteriliyor. Eğer bu karakter dizisini print() fonksiyonu içine yazarsanız o tırnak işaretleri kaybolacaktır:\n",
    "\n"
   ]
  },
  {
   "cell_type": "code",
   "execution_count": 43,
   "id": "6509e866-2c70-4f07-b251-6e2702fb0392",
   "metadata": {},
   "outputs": [
    {
     "name": "stdout",
     "output_type": "stream",
     "text": [
      "Python programlama dili\n"
     ]
    }
   ],
   "source": [
    "print(\"Python programlama dili\")\n"
   ]
  },
  {
   "cell_type": "markdown",
   "id": "7ffb2091-8397-42bd-9e94-f51d37ef89a1",
   "metadata": {},
   "source": [
    "Peki bu iki farklı çıktının sebebi ne?\n",
    "\n",
    "Python programlama dilinde nesneler iki farklı şekilde temsil edilir:\n",
    "\n",
    "Python’ın göreceği şekilde\n",
    "\n",
    "Kullanıcının göreceği şekilde\n",
    "\n",
    "Yukarıdaki ilk kullanım, yazdığımız kodu Python programlama dilinin nasıl gördüğünü gösteriyor. İkinci kullanım ise aynı kodu bizim nasıl gördüğümüzü gösteriyor. Zaten bu yüzden, etkileşimli kabukta print() fonksiyonu içinde yazmadığımız karakter dizilerinin çıktılarını ekranda görebildiğimiz halde, aynı karakter dizilerini bir dosyaya yazıp kaydettiğimizde ekranda çıktı olarak görebilmek için bunları print() fonksiyonu içine yazmamız gerekiyor.\n",
    "\n",
    "Bu söylediklerimiz biraz karmaşık gelmiş olabilir. İsterseniz ne anlatmaya çalıştığımızı daha açık bir örnek üzerinde gösterelim. Şimdi tekrar etkileşimli kabuğu açıp şu kodu çalıştıralım:\n",
    "\n"
   ]
  },
  {
   "cell_type": "code",
   "execution_count": 44,
   "id": "06c3b3f0-6b06-4c53-9b8c-3687e861ce1c",
   "metadata": {},
   "outputs": [
    {
     "data": {
      "text/plain": [
       "'birinci satır\\n'"
      ]
     },
     "execution_count": 44,
     "metadata": {},
     "output_type": "execute_result"
    }
   ],
   "source": [
    "\"birinci satır\\n\""
   ]
  },
  {
   "cell_type": "markdown",
   "id": "a6fe4cec-8cdf-4918-b11c-2c4ca847d502",
   "metadata": {},
   "source": [
    "Şimdi aynı kodu bir de şöyle yazalım:"
   ]
  },
  {
   "cell_type": "code",
   "execution_count": 45,
   "id": "93d830ce-9561-4dd9-baae-36e8b11efc28",
   "metadata": {},
   "outputs": [
    {
     "name": "stdout",
     "output_type": "stream",
     "text": [
      "birinci satır\n",
      "\n"
     ]
    }
   ],
   "source": [
    "print(\"birinci satır\\n\")"
   ]
  },
  {
   "cell_type": "markdown",
   "id": "35de3ebd-3d7d-4059-bfde-8d9f87e7d86c",
   "metadata": {},
   "source": [
    "Gördüğünüz gibi, ilk kodun çıktısında satır başı karakteri (\\n) görünürken, ikinci kodun çıktısında bu karakter görünmüyor (ama işlevini yerine getiriyor. Yani satır başına geçilmesini sağlıyor).\n",
    "\n",
    "İşte bunun sebebi, ilk kodun Python’ın bakış açısını yansıtırken, ikinci kodun bizim bakış açımızı yansıtmasıdır.\n",
    "\n",
    "Peki bu bilgi bizim ne işimize yarar?\n",
    "\n",
    "Şimdi şöyle bir örnek düşünün:\n",
    "\n",
    "Diyelim ki elimizde şöyle bir değişken var:"
   ]
  },
  {
   "cell_type": "code",
   "execution_count": 46,
   "id": "e96cccac-6d9e-4598-95a1-a315dab5d859",
   "metadata": {},
   "outputs": [],
   "source": [
    "a = \"elma \""
   ]
  },
  {
   "cell_type": "markdown",
   "id": "39691c1c-deb8-4471-8abe-a191b3735bc7",
   "metadata": {},
   "source": [
    "Şimdi bu değişkeni ekrana çıktı olarak verelim:"
   ]
  },
  {
   "cell_type": "code",
   "execution_count": 47,
   "id": "88552ff1-7a9c-493b-a4aa-ff8a59cbe696",
   "metadata": {},
   "outputs": [
    {
     "name": "stdout",
     "output_type": "stream",
     "text": [
      "elma \n"
     ]
    }
   ],
   "source": [
    "print(a)"
   ]
  },
  {
   "cell_type": "markdown",
   "id": "a6dbcb66-e671-4a6a-b991-88a606d7f595",
   "metadata": {},
   "source": [
    "Gördüğünüz gibi, bu çıktıya bakarak, a değişkeninin tuttuğu karakter dizisinin son tarafında bir adet boşluk karakteri olduğunu anlayamıyoruz. Bu yüzden bu değişkeni şöyle bir program içinde kullanmaya çalıştığımızda neden bozuk bir çıktı elde ettiğimizi anlamak zor olabilir:\n",
    "\n"
   ]
  },
  {
   "cell_type": "code",
   "execution_count": 48,
   "id": "75311dd6-18c7-4b70-96e0-528e4faff321",
   "metadata": {},
   "outputs": [
    {
     "name": "stdout",
     "output_type": "stream",
     "text": [
      "23 kilo elma  kaldı!\n"
     ]
    }
   ],
   "source": [
    "print(\"{} kilo {} kaldı!\".format(23, a))\n"
   ]
  },
  {
   "cell_type": "markdown",
   "id": "6f86a1f6-affc-4c93-81d2-e7d8f62e9ed9",
   "metadata": {},
   "source": [
    "Gördüğünüz gibi, “elma” karakter dizisinin son tarafında bir boşluk olduğu için ‘elma’ ile ‘kaldı’ kelimeleri arasında gereksiz bir açıklık meydana geldi.\n",
    "\n",
    "Bu boşluğu print() ile göremiyoruz, ama bu değişkeni print() olmadan yazdırdığımızda o boşluk da görünür:\n",
    "\n"
   ]
  },
  {
   "cell_type": "code",
   "execution_count": 49,
   "id": "b63b3676-e5a7-4c5e-b328-7ac592b593b9",
   "metadata": {},
   "outputs": [
    {
     "data": {
      "text/plain": [
       "'elma '"
      ]
     },
     "execution_count": 49,
     "metadata": {},
     "output_type": "execute_result"
    }
   ],
   "source": [
    "a"
   ]
  },
  {
   "cell_type": "markdown",
   "id": "b642290b-b6d9-446b-869a-d340e2037222",
   "metadata": {},
   "source": [
    "Bu sayede programınızdaki aksaklıkları giderme imkanı kazanmış olur, şu kodu yazarak gereksiz boşlukları atabilirsiniz:\n",
    "\n"
   ]
  },
  {
   "cell_type": "code",
   "execution_count": 50,
   "id": "daf658ec-b7d5-48c5-8964-efad507fb3a0",
   "metadata": {},
   "outputs": [
    {
     "name": "stdout",
     "output_type": "stream",
     "text": [
      "23 kilo elma kaldı!\n"
     ]
    }
   ],
   "source": [
    "print(\"{} kilo {} kaldı!\".format(23, a.strip()))"
   ]
  },
  {
   "cell_type": "markdown",
   "id": "a151757a-8c34-413d-9722-0aa3ccb83c30",
   "metadata": {},
   "source": [
    "Daha önce de dediğimiz gibi, başında print() olmayan ifadeler, bir dosyaya yazılıp çalıştırıldığında çıktıda görünmez. O halde biz yukarıdaki özellikten yazdığımız programlarda nasıl yararlanacağız? İşte burada yardımımıza repr() adlı bir fonksiyon yetişecek. Bu fonksiyonu şöyle kullanıyoruz:\n",
    "\n"
   ]
  },
  {
   "cell_type": "code",
   "execution_count": 51,
   "id": "d1093378-6575-4764-beed-15d943277c8b",
   "metadata": {},
   "outputs": [
    {
     "name": "stdout",
     "output_type": "stream",
     "text": [
      "'karakter dizisi\\n'\n"
     ]
    }
   ],
   "source": [
    "print(repr(\"karakter dizisi\\n\"))"
   ]
  },
  {
   "cell_type": "markdown",
   "id": "eda4a902-03f9-4752-a480-795d585b9bde",
   "metadata": {},
   "source": [
    "Gördüğünüz gibi hem tırnak işaretleri, hem de satır başı karakteri çıktıda görünüyor. Eğer repr() fonksiyonunu kullanmasaydık şöyle bir çıktı alacaktık:"
   ]
  },
  {
   "cell_type": "raw",
   "id": "3f12e117-b4c2-4a98-bfd4-d3eebe43015f",
   "metadata": {},
   "source": [
    "karakter dizisi"
   ]
  },
  {
   "cell_type": "markdown",
   "id": "71583784-f558-4ead-8434-25ad42b2f9bb",
   "metadata": {},
   "source": [
    "repr() fonksiyonu özellikle yazdığımız programlardaki hataları çözmeye çalışırken çok işimize yarar. Çünkü print() fonksiyonu, kullanıcının gözüne daha cazip görünecek bir çıktı üretebilmek için arkaplanda neler olup bittiğini kullanıcıdan gizler. İşte arkaplanda neler döndüğünü, print() fonksiyonunun bizden neleri gizlediğini görebilmek için bu repr() fonksiyonundan yararlanabiliriz.\n",
    "\n"
   ]
  },
  {
   "cell_type": "markdown",
   "id": "fc339dbc-ad50-45b0-b484-def759da9f89",
   "metadata": {},
   "source": [
    "Bütün bu açıklamalar bize şunu söylüyor: repr() fonksiyonu, bir karakter dizisinin Python tarafından nasıl temsil edildiğini gösterir. Yukarıda biz bu fonksiyonun nasıl kullanıldığına dair ayrıntıları verdik. Ancak bu fonksiyonun, yine yukarıdaki işleviyle bağlantılı olmakla birlikte biraz daha farklı görünen bir işlevi daha bulunur.\n",
    "\n",
    "Hatırlarsanız, ilk derslerimizde r adlı bir kaçış dizisinden söz etmiştik. Bu kaçış dizisini şöyle kullanıyorduk:"
   ]
  },
  {
   "cell_type": "code",
   "execution_count": 52,
   "id": "4283e114-6dbe-4e61-a121-90e953fe9de1",
   "metadata": {},
   "outputs": [
    {
     "name": "stdout",
     "output_type": "stream",
     "text": [
      "\\n\n"
     ]
    }
   ],
   "source": [
    "print(r\"\\n\")"
   ]
  },
  {
   "cell_type": "markdown",
   "id": "3168fa04-06c4-4f5a-bf87-e7aa83471dfb",
   "metadata": {},
   "source": [
    "Bildiğiniz gibi, \\n kaçış dizisi bir alt satıra geçmemizi sağlıyor. İşte r adlı kaçış dizisi \\n kaçış dizisinin bu işlevini baskılayarak, bizim \\n kaçış dizisinin kendisini çıktı olarak verebilmemizi sağlıyor.\n",
    "\n",
    "O halde bu noktada size şöyle bir soru sormama izin verin:\n",
    "\n",
    "Acaba bir değişkene atanmış kaçış dizilerinin işlevini nasıl baskılayabiliriz? Yani mesela elimizde şöyle bir değişken bulunuyor olsun:\n",
    "\n"
   ]
  },
  {
   "cell_type": "code",
   "execution_count": 53,
   "id": "81174963-df03-4b76-a7a2-eed06a5303ff",
   "metadata": {},
   "outputs": [],
   "source": [
    "yeni_satır = \"\\n\""
   ]
  },
  {
   "cell_type": "markdown",
   "id": "a881eac3-0d51-4d4d-95ae-6b5856ade164",
   "metadata": {},
   "source": [
    "Biz bu değişkenin değerini nasıl ekrana yazdıracağız?\n",
    "\n",
    "Eğer bunu doğrudan print() fonksiyonuna gönderirsek ne olacağını biliyorsunuz: Yeni satır karakteri işlevini yerine getirecek ve biz de yeni satır karakterinin kendisini değil, yaptığı işin sonucunu (yani satır başına geçildiğini) göreceğiz.\n",
    "\n",
    "İşte bu tür durumlar için de repr() fonksiyonundan yararlanabilirsiniz:\n",
    "\n"
   ]
  },
  {
   "cell_type": "code",
   "execution_count": 54,
   "id": "71677ec6-910b-46c5-b196-02bba3348143",
   "metadata": {},
   "outputs": [
    {
     "name": "stdout",
     "output_type": "stream",
     "text": [
      "'\\n'\n"
     ]
    }
   ],
   "source": [
    "print(repr('\\n'))"
   ]
  },
  {
   "cell_type": "markdown",
   "id": "6ee209fa-03ab-41a3-bb4a-edd3482d32f5",
   "metadata": {},
   "source": [
    "Böylece satır başı karakterinin işlevi baskılanacak ve biz çıktıda bu karakterin kendisini göreceğiz.\n",
    "\n",
    "Hatırlarsanız ASCII konusunu anlatırken şöyle bir örnek vermiştik:"
   ]
  },
  {
   "cell_type": "code",
   "execution_count": 55,
   "id": "32a9b3b0-a3dc-4f7a-816b-2776a50ba7c7",
   "metadata": {},
   "outputs": [
    {
     "name": "stdout",
     "output_type": "stream",
     "text": [
      "\n",
      "\n",
      "0    '\\x00'\t1    '\\x01'\t2    '\\x02'\t3    '\\x03'\t\n",
      "\n",
      "4    '\\x04'\t5    '\\x05'\t6    '\\x06'\t7    '\\x07'\t\n",
      "\n",
      "8    '\\x08'\t9      '\\t'\t10     '\\n'\t11   '\\x0b'\t\n",
      "\n",
      "12   '\\x0c'\t13     '\\r'\t14   '\\x0e'\t15   '\\x0f'\t\n",
      "\n",
      "16   '\\x10'\t17   '\\x11'\t18   '\\x12'\t19   '\\x13'\t\n",
      "\n",
      "20   '\\x14'\t21   '\\x15'\t22   '\\x16'\t23   '\\x17'\t\n",
      "\n",
      "24   '\\x18'\t25   '\\x19'\t26   '\\x1a'\t27   '\\x1b'\t\n",
      "\n",
      "28   '\\x1c'\t29   '\\x1d'\t30   '\\x1e'\t31   '\\x1f'\t\n",
      "\n",
      "32      ' '\t33      '!'\t34      '\"'\t35      '#'\t\n",
      "\n",
      "36      '$'\t37      '%'\t38      '&'\t39      \"'\"\t\n",
      "\n",
      "40      '('\t41      ')'\t42      '*'\t43      '+'\t\n",
      "\n",
      "44      ','\t45      '-'\t46      '.'\t47      '/'\t\n",
      "\n",
      "48      '0'\t49      '1'\t50      '2'\t51      '3'\t\n",
      "\n",
      "52      '4'\t53      '5'\t54      '6'\t55      '7'\t\n",
      "\n",
      "56      '8'\t57      '9'\t58      ':'\t59      ';'\t\n",
      "\n",
      "60      '<'\t61      '='\t62      '>'\t63      '?'\t\n",
      "\n",
      "64      '@'\t65      'A'\t66      'B'\t67      'C'\t\n",
      "\n",
      "68      'D'\t69      'E'\t70      'F'\t71      'G'\t\n",
      "\n",
      "72      'H'\t73      'I'\t74      'J'\t75      'K'\t\n",
      "\n",
      "76      'L'\t77      'M'\t78      'N'\t79      'O'\t\n",
      "\n",
      "80      'P'\t81      'Q'\t82      'R'\t83      'S'\t\n",
      "\n",
      "84      'T'\t85      'U'\t86      'V'\t87      'W'\t\n",
      "\n",
      "88      'X'\t89      'Y'\t90      'Z'\t91      '['\t\n",
      "\n",
      "92     '\\\\'\t93      ']'\t94      '^'\t95      '_'\t\n",
      "\n",
      "96      '`'\t97      'a'\t98      'b'\t99      'c'\t\n",
      "\n",
      "100     'd'\t101     'e'\t102     'f'\t103     'g'\t\n",
      "\n",
      "104     'h'\t105     'i'\t106     'j'\t107     'k'\t\n",
      "\n",
      "108     'l'\t109     'm'\t110     'n'\t111     'o'\t\n",
      "\n",
      "112     'p'\t113     'q'\t114     'r'\t115     's'\t\n",
      "\n",
      "116     't'\t117     'u'\t118     'v'\t119     'w'\t\n",
      "\n",
      "120     'x'\t121     'y'\t122     'z'\t123     '{'\t\n",
      "\n",
      "124     '|'\t125     '}'\t126     '~'\t127  '\\x7f'\t"
     ]
    }
   ],
   "source": [
    "for i in range(128):\n",
    "    if i % 4 == 0:\n",
    "        print(\"\\n\")\n",
    "\n",
    "    print(\"{:<3}{:>8}\\t\".format(i, repr(chr(i))), sep=\"\", end=\"\")"
   ]
  },
  {
   "cell_type": "markdown",
   "id": "f4311bf1-7031-41c4-9cc7-deeae21174aa",
   "metadata": {},
   "source": [
    "İşte burada, repr() fonksiyonunun yukarıda sözünü ettiğimiz işlevinden yararlanıyoruz. Eğer bu kodlarda repr() fonksiyonunu kullanmazsak, ASCII tablosunu oluşturan karakterler arasındaki \\n, \\a, \\t gibi kaçış dizileri ekranda görünmeyecek, bunun yerine bu kaçış dizileri doğrudan işlevlerini yerine getirecek, bu da bizim istediğimiz ASCII tablosunu üretmemize engel olacaktır."
   ]
  },
  {
   "cell_type": "markdown",
   "id": "8728ac80-ab4e-4c91-b59a-5e300102ed7e",
   "metadata": {},
   "source": [
    "++++++++ascii()\n",
    "\n",
    "\n",
    "ascii() fonksiyonu biraz önce öğrendiğimiz repr() fonksiyonuna çok benzer. Örneğin:"
   ]
  },
  {
   "cell_type": "code",
   "execution_count": 56,
   "id": "cd6b1c47-fa99-4a63-902a-51f4f202b24b",
   "metadata": {},
   "outputs": [
    {
     "data": {
      "text/plain": [
       "\"'asds'\""
      ]
     },
     "execution_count": 56,
     "metadata": {},
     "output_type": "execute_result"
    }
   ],
   "source": [
    "repr(\"asds\")"
   ]
  },
  {
   "cell_type": "code",
   "execution_count": 57,
   "id": "551a6cd9-ec36-48c8-b0be-bff5cd7d582c",
   "metadata": {},
   "outputs": [
    {
     "data": {
      "text/plain": [
       "\"'asds'\""
      ]
     },
     "execution_count": 57,
     "metadata": {},
     "output_type": "execute_result"
    }
   ],
   "source": [
    "ascii(\"asds\")"
   ]
  },
  {
   "cell_type": "markdown",
   "id": "443b6b59-e592-4303-b1cc-30ee3a48795e",
   "metadata": {},
   "source": [
    "Bu iki fonksiyon, ASCII tablosunda yer almayan karakterlere karşı tutumları yönünden birbirlerinden ayrılır. Örneğin:\n",
    "\n"
   ]
  },
  {
   "cell_type": "code",
   "execution_count": 58,
   "id": "78cc57cd-8d24-4fc4-9262-fac1f98ad531",
   "metadata": {},
   "outputs": [
    {
     "data": {
      "text/plain": [
       "\"'İ'\""
      ]
     },
     "execution_count": 58,
     "metadata": {},
     "output_type": "execute_result"
    }
   ],
   "source": [
    "repr(\"İ\")\n"
   ]
  },
  {
   "cell_type": "code",
   "execution_count": 59,
   "id": "9c0d17eb-2cf1-4457-a9dc-63b01e5a3f59",
   "metadata": {},
   "outputs": [
    {
     "data": {
      "text/plain": [
       "\"'\\\\u0130'\""
      ]
     },
     "execution_count": 59,
     "metadata": {},
     "output_type": "execute_result"
    }
   ],
   "source": [
    "ascii(\"İ\")"
   ]
  },
  {
   "cell_type": "markdown",
   "id": "77d383f8-5d34-4665-bfbb-bd4251051124",
   "metadata": {},
   "source": [
    "Gördüğünüz gibi, repr() fonksiyonu ASCII tablosunda yer almayan karakterleri de göründükleri gibi temsil ediyor. ascii() fonksiyonu ise bu karakterlerin UNICODE kod konumlarını (code points) gösteriyor.\n",
    "\n",
    "Bir örnek daha verelim:"
   ]
  },
  {
   "cell_type": "code",
   "execution_count": 60,
   "id": "17707ba0-cae7-474f-9aec-0b2c48d33a6c",
   "metadata": {},
   "outputs": [
    {
     "data": {
      "text/plain": [
       "\"'€'\""
      ]
     },
     "execution_count": 60,
     "metadata": {},
     "output_type": "execute_result"
    }
   ],
   "source": [
    "repr(\"€\")"
   ]
  },
  {
   "cell_type": "code",
   "execution_count": 61,
   "id": "719fd8e0-9a42-4912-84e5-b34eb2842146",
   "metadata": {},
   "outputs": [
    {
     "data": {
      "text/plain": [
       "\"'\\\\u20ac'\""
      ]
     },
     "execution_count": 61,
     "metadata": {},
     "output_type": "execute_result"
    }
   ],
   "source": [
    "ascii(\"€\")"
   ]
  },
  {
   "cell_type": "markdown",
   "id": "f1dbf730-693a-4983-95d7-9c668ff9741d",
   "metadata": {},
   "source": [
    "ascii() fonksiyonunun UNICODE kod konumlarını gösterme özelliğinin bir benzerini daha önce öğrendiğimiz encode() metodu yardımıyla da elde edebilirsiniz:\n",
    "\n"
   ]
  },
  {
   "cell_type": "code",
   "execution_count": 62,
   "id": "09893e87-7195-4f3e-b6ea-9b16cc058036",
   "metadata": {},
   "outputs": [
    {
     "data": {
      "text/plain": [
       "b'\\\\u20ac'"
      ]
     },
     "execution_count": 62,
     "metadata": {},
     "output_type": "execute_result"
    }
   ],
   "source": [
    "\"€\".encode(\"unicode_escape\")"
   ]
  },
  {
   "cell_type": "markdown",
   "id": "27d2ecf9-58a2-4ec7-ab09-e4a7bbddec0a",
   "metadata": {},
   "source": [
    "Ancak ascii() fonksiyonunun str tipinde, encode() metodunun ise bytes tipinde bir çıktı verdiğine dikkat edin.\n",
    "\n"
   ]
  },
  {
   "cell_type": "markdown",
   "id": "f65899a7-5c02-4475-a7f9-73e44807fec0",
   "metadata": {},
   "source": [
    "+++++++++++++ord()\n",
    "\n",
    "\n",
    "Bu fonksiyon, bir karakterin sayı karşılığını verir:\n",
    "\n"
   ]
  },
  {
   "cell_type": "code",
   "execution_count": 63,
   "id": "9edb9bd3-86e6-40da-94e7-cba268d34980",
   "metadata": {},
   "outputs": [
    {
     "data": {
      "text/plain": [
       "10"
      ]
     },
     "execution_count": 63,
     "metadata": {},
     "output_type": "execute_result"
    }
   ],
   "source": [
    "ord(\"\\n\")"
   ]
  },
  {
   "cell_type": "code",
   "execution_count": 64,
   "id": "24751bf8-7605-48ca-92fb-8de04cf3a3b0",
   "metadata": {},
   "outputs": [
    {
     "data": {
      "text/plain": [
       "8364"
      ]
     },
     "execution_count": 64,
     "metadata": {},
     "output_type": "execute_result"
    }
   ],
   "source": [
    "ord(\"€\")"
   ]
  },
  {
   "cell_type": "markdown",
   "id": "83ed7c62-61c0-48f5-8ae7-8991d08bfba0",
   "metadata": {},
   "source": [
    "++++++++++chr()\n",
    "\n",
    "Bu fonksiyon, bir sayının karakter karşılığını verir:\n",
    "\n",
    "\n"
   ]
  },
  {
   "cell_type": "code",
   "execution_count": 65,
   "id": "27146ec4-761f-43b2-9b55-981df95f9559",
   "metadata": {},
   "outputs": [
    {
     "data": {
      "text/plain": [
       "'\\n'"
      ]
     },
     "execution_count": 65,
     "metadata": {},
     "output_type": "execute_result"
    }
   ],
   "source": [
    "chr(10)"
   ]
  },
  {
   "cell_type": "code",
   "execution_count": 66,
   "id": "09685073-6688-4348-ad40-f82e7891eaf6",
   "metadata": {},
   "outputs": [
    {
     "data": {
      "text/plain": [
       "'€'"
      ]
     },
     "execution_count": 66,
     "metadata": {},
     "output_type": "execute_result"
    }
   ],
   "source": [
    "chr(8364)"
   ]
  },
  {
   "cell_type": "code",
   "execution_count": null,
   "id": "359df1f5-66c0-4706-ab69-1cb96a3898f5",
   "metadata": {},
   "outputs": [],
   "source": []
  }
 ],
 "metadata": {
  "kernelspec": {
   "display_name": "Python 3 (ipykernel)",
   "language": "python",
   "name": "python3"
  },
  "language_info": {
   "codemirror_mode": {
    "name": "ipython",
    "version": 3
   },
   "file_extension": ".py",
   "mimetype": "text/x-python",
   "name": "python",
   "nbconvert_exporter": "python",
   "pygments_lexer": "ipython3",
   "version": "3.10.12"
  }
 },
 "nbformat": 4,
 "nbformat_minor": 5
}
