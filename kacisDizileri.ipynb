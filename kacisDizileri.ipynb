{
 "cells": [
  {
   "cell_type": "markdown",
   "id": "3e8235d7-33fd-43f0-97f5-cdace4481d91",
   "metadata": {},
   "source": [
    "KACIS DIZILERI\n",
    "\n",
    "Python’da karakter dizilerini tanımlayabilmek için tek, çift veya üç tırnak işaretlerinden faydalandığımızı geçen bölümde öğrenmiştik. Python bir verinin karakter dizisi olup olmadığına bu tırnak işaretlerine bakarak karar verdiği için, tek, çift ve üç tırnak işaretleri Python açısından özel bir önem taşıyor. Zira Python’ın gözünde bir başlangıç tırnağı ile bitiş tırnağı arasında yer alan her şey bir karakter dizisidir.\n",
    "\n",
    "Örneğin ilk olarak bir “ işareti koyup ardından “elma şeklinde devam ettiğinizde, Python ilk tırnağı gördükten sonra karakter dizisini tanımlayabilmek için ikinci bir tırnak işareti aramaya başlar. Siz “elma” şeklinde kodunuzu tamamladığınızda ise Python bellekte “elma” adlı bir karakter dizisi oluşturur.\n",
    "\n",
    "Bu noktada size şöyle bir soru sormama izin verin: Acaba tırnak işaretleri herhangi bir metin içinde kaç farklı amaçla kullanılabilir?\n",
    "\n",
    "İsterseniz bu sorunun cevabını örnekler üzerinde vermeye çalışalım:\n",
    "\n",
    "Ahmet, “Bugün sinemaya gidiyorum,” dedi.\n",
    "\n",
    "Burada tırnak işaretlerini, bir başkasının sözlerini aktarmak için kullandık.\n",
    "\n",
    "‘book’ kelimesi Türkçede ‘kitap’ anlamına gelir.\n",
    "\n",
    "Burada ise tırnak işaretlerini bazı kelimeleri vurgulamak için kullandık.\n",
    "\n",
    "Bir de şuna bakalım:\n",
    "\n",
    "Yarın Adana’ya gidiyorum.\n",
    "\n",
    "Burada da tırnak işaretini, çekim eki olan ‘-(y)a’ ile özel isim olan ‘Adana’ kelimesini birbirinden ayırmak için kesme işareti görevinde kullandık.\n",
    "\n",
    "Şimdi yukarıda verdiğimiz ilk cümleyi bir karakter dizisi olarak tanımlamaya çalışalım:"
   ]
  },
  {
   "cell_type": "code",
   "execution_count": 1,
   "id": "77eed5a2-6c8e-4806-98a5-c4921f68a3fa",
   "metadata": {},
   "outputs": [
    {
     "data": {
      "text/plain": [
       "'Ahmet, \"Bugün sinemaya gidiyorum,\" dedi.'"
      ]
     },
     "execution_count": 1,
     "metadata": {},
     "output_type": "execute_result"
    }
   ],
   "source": [
    "'Ahmet, \"Bugün sinemaya gidiyorum,\" dedi.'"
   ]
  },
  {
   "cell_type": "markdown",
   "id": "c9ce8c0d-fd9b-4d6b-bd51-aa71d14820ca",
   "metadata": {},
   "source": [
    "Burada karakter dizisini tanımlamaya tek tırnak işareti ile başladık. Böylece Python bu karakter dizisini tanımlama işlemini bitirebilmek için ikinci bir tek tırnak işareti daha aramaya koyuldu ve aradığı tek tırnak işaretini cümlenin sonunda bularak, karakter dizisini düzgün bir şekilde oluşturabildi.\n",
    "\n",
    "Dediğimiz gibi, Python’ın gözünde tırnak işaretleri bir karakter dizisini başka veri tiplerinden ayırt etmeye yarayan bir ölçüttür. Ama biz insanlar, yukarıda verdiğimiz örnek cümlelerden de göreceğiniz gibi, programlama dillerinden farklı olarak, tırnak işaretlerini bir metin içinde daha farklı amaçlar için de kullanabiliyoruz.\n",
    "\n",
    "Şimdi yukarıdaki karakter dizisini şöyle tanımlamaya çalıştığımızı düşünün:"
   ]
  },
  {
   "cell_type": "code",
   "execution_count": 2,
   "id": "0a798be1-ee8c-4611-8ac3-0166cc3d059e",
   "metadata": {},
   "outputs": [
    {
     "ename": "SyntaxError",
     "evalue": "invalid syntax (3326576506.py, line 1)",
     "output_type": "error",
     "traceback": [
      "\u001b[0;36m  Cell \u001b[0;32mIn[2], line 1\u001b[0;36m\u001b[0m\n\u001b[0;31m    \"Ahmet, \"Bugün sinemaya gidiyorum,\" dedi.\"\u001b[0m\n\u001b[0m             ^\u001b[0m\n\u001b[0;31mSyntaxError\u001b[0m\u001b[0;31m:\u001b[0m invalid syntax\n"
     ]
    }
   ],
   "source": [
    "\"Ahmet, \"Bugün sinemaya gidiyorum,\" dedi.\""
   ]
  },
  {
   "cell_type": "markdown",
   "id": "ccd310a3-891c-4534-a603-3c511ada0011",
   "metadata": {},
   "source": [
    "İşte burada Python’ın çıkarları ile bizim çıkarlarımız birbiriyle çatıştı. Python karakter dizisini başlatan ilk çift tırnak işaretini gördükten sonra, karakter dizisini tanımlama işlemini bitirebilmek için ikinci bir tırnak işareti daha aramaya koyuldu. Bu arayış sırasında da ‘Bugün’ kelimesinin başındaki çift tırnak işaretini gördü ve karakter dizisinin şu olduğunu zannetti:"
   ]
  },
  {
   "cell_type": "code",
   "execution_count": 3,
   "id": "ba1b343a-0f1a-4712-8fa7-a75e30d3c40d",
   "metadata": {},
   "outputs": [
    {
     "data": {
      "text/plain": [
       "'Ahmet, '"
      ]
     },
     "execution_count": 3,
     "metadata": {},
     "output_type": "execute_result"
    }
   ],
   "source": [
    "\"Ahmet, \""
   ]
  },
  {
   "cell_type": "markdown",
   "id": "41dd075f-6b3d-4eae-a8a9-ab2f25bed62b",
   "metadata": {},
   "source": [
    "Buraya kadar bir sorun yok. Bu karakter dizisi Python’ın sözdizimi kurallarına uygun.\n",
    "\n",
    "Karakter dizisi bu şekilde tanımlandıktan sonra Python cümlenin geri kalanını okumaya devam ediyor ve herhangi bir tırnak işareti ile başlamayan ve kendisinden önce gelen öğeden herhangi bir virgül işareti ile ayrılmamış ‘Bugün’ kelimesini görüyor. Eğer bir kelime tırnak işareti ile başlamıyorsa bu kelime ya bir değişkendir ya da sayıdır. Ama ‘Bugün’ kelimesi ne bir değişken, ne de bir sayı olduğu, üstelik önceki öğeden de virgülle ayrılmadığı için Python’ın hata vermekten başka çaresi kalmıyor. Çünkü biz burada ‘Bugün’ kelimesinin baş tarafındaki çift tırnak işaretini karakter dizisi tanımlamak için değil, başkasının sözlerini aktarmak amacıyla kullandık. Ancak elbette bir programlama dili bizim amacımızın ne olduğunu kestiremez ve hata mesajını suratımıza yapıştırır:\n",
    "\n",
    "Peki biz böyle bir durumda ne yapmalıyız?\n",
    "\n",
    "Bu hatayı engellemek için karakter dizisini tanımlamaya çift tırnak yerine tek tırnakla ya da üç tırnakla başlayabiliriz:\n",
    "\n"
   ]
  },
  {
   "cell_type": "code",
   "execution_count": 5,
   "id": "bb1fa0dd-c6e1-47f1-b4f3-aaaf1a79735a",
   "metadata": {},
   "outputs": [
    {
     "data": {
      "text/plain": [
       "'Ahmet, \"Bugün sinemaya gidiyorum,\" dedi.'"
      ]
     },
     "execution_count": 5,
     "metadata": {},
     "output_type": "execute_result"
    }
   ],
   "source": [
    "'Ahmet, \"Bugün sinemaya gidiyorum,\" dedi.'\n",
    "\"\"\"Ahmet, \"Bugün sinemaya gidiyorum,\" dedi.\"\"\""
   ]
  },
  {
   "cell_type": "markdown",
   "id": "f5ff8b9b-508b-4717-93f2-a32babcad03a",
   "metadata": {},
   "source": [
    "Böylece karakter dizisini başlatan işaret ‘Bugün sinemaya gidiyorum,’ cümlesinin başındaki ve sonundaki işaretlerden farklı olduğu için, Python okuma esnasında bu cümleye takılmaz ve doğru bir şekilde, karakter dizisini kapatan tırnak işaretini bulabilir.\n",
    "\n",
    "Bu yöntem tamamen geçerli ve mantıklıdır. Ama eğer istersek, aynı karakter dizisini çift tırnakla tanımlayıp, yine de hata almayı engelleyebiliriz. Peki ama nasıl?\n",
    "\n",
    "İşte burada ‘kaçış dizileri’ adı verilen birtakım araçlardan faydalanacağız.\n",
    "\n",
    "Peki nedir bu ‘kaçış dizisi’ denen şey?\n",
    "\n",
    "Kaçış dizileri, Python’da özel anlam taşıyan işaret veya karakterleri, sahip oldukları bu özel anlam dışında bir amaçla kullanmamızı sağlayan birtakım araçlardır. Mesela yukarıda da örneklerini verdiğimiz gibi, tırnak işaretleri Python açısından özel anlam taşıyan işaretlerdir. Normalde Python bu işaretleri karakter dizilerini tanımlamak için kullanır. Ama eğer siz mesela bir metin içinde bu tırnak işaretlerini farklı bir amaçla kullanacaksanız Python’ı bu durumdan haberdar etmeniz gerekiyor. İşte kaçış dizileri, Python’ı böyle bir durumdan haberdar etmemize yarayan araçlardır.\n",
    "\n",
    "Python’da pek çok kaçış dizisi bulunur. Biz burada bu kaçış dizilerini tek tek inceleyeceğiz. O halde hemen işe koyulalım."
   ]
  },
  {
   "cell_type": "raw",
   "id": "0a5b93dd-cb8f-42b1-bbc6-ba862dffc07d",
   "metadata": {},
   "source": [
    "Ters Taksim (\\)\n",
    "\n",
    "\n",
    "Yukarıda verdiğimiz örneklerde, çift tırnakla gösterdiğimiz karakter dizilerinin içinde de çift tırnak işareti kullanabilmek için birkaç farklı yöntemden yararlanabildiğimizi öğrenmiştik. Buna göre, eğer bir karakter dizisi içinde çift tırnak işareti geçiyorsa, o karakter dizisini tek tırnakla; eğer tek tırnak geçiyorsa da o karakter dizisini çift tırnakla tanımlayarak bu sorunun üstesinden gelebiliyorduk. Ama daha önce de söylediğimiz gibi, ‘kaçış dizileri’ adı verilen birtakım araçları kullanarak, mesela içinde çift tırnak geçen karakter dizilerini yine çift tırnakla tanımlayabiliriz.\n",
    "\n",
    "Dilerseniz, kaçış dizisi kavramını açıklamaya geçmeden önce bununla ilgili birkaç örnek verelim. Bu sayede ne ile karşı karşıya olduğumuz, zihnimizde biraz daha belirginleşebilir:"
   ]
  },
  {
   "cell_type": "code",
   "execution_count": 6,
   "id": "b9994cbe-6ee8-4296-a771-313e0633eadc",
   "metadata": {},
   "outputs": [
    {
     "name": "stdout",
     "output_type": "stream",
     "text": [
      "Yarın Adana'ya gidiyorum.\n"
     ]
    }
   ],
   "source": [
    "print('Yarın Adana\\'ya gidiyorum.')"
   ]
  },
  {
   "cell_type": "markdown",
   "id": "bdbe2c95-c356-4a0d-ae36-4933c76c1fc9",
   "metadata": {},
   "source": [
    "Bir örnek daha verelim:"
   ]
  },
  {
   "cell_type": "code",
   "execution_count": 7,
   "id": "29b9efdd-a4c8-4c52-8c3b-d29b06aa2273",
   "metadata": {},
   "outputs": [
    {
     "name": "stdout",
     "output_type": "stream",
     "text": [
      "\"book\" kelimesi Türkçede \"kitap\" anlamına gelir.\n"
     ]
    }
   ],
   "source": [
    "print(\"\\\"book\\\" kelimesi Türkçede \\\"kitap\\\" anlamına gelir.\")"
   ]
  },
  {
   "cell_type": "markdown",
   "id": "01dbc95d-f217-4405-89c5-1b00b932feab",
   "metadata": {},
   "source": [
    "Burada da cümle içinde çift tırnak işaretlerini kullandığımız halde, \\ işaretleri sayesinde karakter dizilerini yine çift tırnakla tanımlayabildik.\n",
    "\n",
    "Bir de şu örneğe bakalım:"
   ]
  },
  {
   "cell_type": "code",
   "execution_count": 8,
   "id": "e1e4c5a0-7121-407d-aeea-58e989e38465",
   "metadata": {},
   "outputs": [
    {
     "name": "stdout",
     "output_type": "stream",
     "text": [
      "Python programlama dilinin adı \"piton\" yılanından gelmez\n"
     ]
    }
   ],
   "source": [
    "print(\"Python programlama dilinin adı \\\"piton\\\" yılanından gelmez\")"
   ]
  },
  {
   "cell_type": "markdown",
   "id": "dfcfe64d-b5df-4b97-abe7-221ce5cfa335",
   "metadata": {},
   "source": [
    "Bütün bu örneklerde, karakter dizisini hem çift tırnakla tanımlayıp hem de karakter dizisi içinde çift tırnak işaretlerini kullandığımız halde, herhangi bir hata almadığımızı görüyorsunuz. Yukarıdaki kodlarda hata almamızı önleyen şeyin \\ işareti olduğu belli. Ama dilerseniz bu işaretin, hata almamızı nasıl önlediğini anlatmadan önce son bir örnek daha verelim.\n",
    "\n",
    "Hatırlarsanız önceki sayfalarda şöyle bir karakter dizisi ile karşılaşmıştık:"
   ]
  },
  {
   "cell_type": "code",
   "execution_count": 9,
   "id": "4ffe3272-d79e-4778-b1fe-80603281dc00",
   "metadata": {},
   "outputs": [
    {
     "ename": "SyntaxError",
     "evalue": "unterminated string literal (detected at line 1) (448781391.py, line 1)",
     "output_type": "error",
     "traceback": [
      "\u001b[0;36m  Cell \u001b[0;32mIn[9], line 1\u001b[0;36m\u001b[0m\n\u001b[0;31m    print('İstanbul'un 5 günlük hava durumu tahmini')\u001b[0m\n\u001b[0m                                                   ^\u001b[0m\n\u001b[0;31mSyntaxError\u001b[0m\u001b[0;31m:\u001b[0m unterminated string literal (detected at line 1)\n"
     ]
    }
   ],
   "source": [
    "print('İstanbul'un 5 günlük hava durumu tahmini')"
   ]
  },
  {
   "cell_type": "markdown",
   "id": "6ef4d7f7-a086-442f-9cf3-fc364f4999ec",
   "metadata": {},
   "source": [
    "Burada da ‘İstanbul’un’ kelimesi içinde geçen tırnak işareti nedeniyle karakter dizisini tek tırnak kullanarak tanımlayamıyorduk. Bu karakter dizisini hatasız bir şekilde tanımlayabilmek için ya çift tırnak ya da üç tırnak kullanmamız gerekiyordu:"
   ]
  },
  {
   "cell_type": "code",
   "execution_count": 10,
   "id": "699dc028-8bbc-457f-920b-3b8b336ca9a6",
   "metadata": {},
   "outputs": [
    {
     "name": "stdout",
     "output_type": "stream",
     "text": [
      "İstanbul'un 5 günlük hava durumu tahmini\n"
     ]
    }
   ],
   "source": [
    "print(\"İstanbul'un 5 günlük hava durumu tahmini\")\n"
   ]
  },
  {
   "cell_type": "code",
   "execution_count": 11,
   "id": "7c407afa-6ed3-4205-bf39-668ede9587bf",
   "metadata": {},
   "outputs": [
    {
     "name": "stdout",
     "output_type": "stream",
     "text": [
      "İstanbul'un 5 günlük hava durumu tahmini\n"
     ]
    }
   ],
   "source": [
    "print(\"\"\"İstanbul'un 5 günlük hava durumu tahmini\"\"\")\n"
   ]
  },
  {
   "cell_type": "markdown",
   "id": "dcc711db-5bbe-4f49-a5c8-be8188ba8545",
   "metadata": {},
   "source": [
    "Tıpkı önceki örneklerde olduğu gibi, yukarıdaki karakter dizisini de aslında tek tırnakla tanımlayıp hata oluşmasını önleyebiliriz. Hemen görelim:"
   ]
  },
  {
   "cell_type": "code",
   "execution_count": 12,
   "id": "416ca82a-e025-4eef-bcd3-20657e918ab1",
   "metadata": {},
   "outputs": [
    {
     "name": "stdout",
     "output_type": "stream",
     "text": [
      "İstanbul'un 5 günlük hava durumu tahmini\n"
     ]
    }
   ],
   "source": [
    "print('İstanbul\\'un 5 günlük hava durumu tahmini')\n"
   ]
  },
  {
   "cell_type": "markdown",
   "id": "b0c7455c-1bf6-42c4-8144-640f8ec24103",
   "metadata": {},
   "source": [
    "Bütün örneklerde \\ işaretini kullandığımızı görüyorsunuz. İşte bu tür işaretlere Python’da kaçış dizisi (escape sequence) adı verilir. Bu işaretler karakter dizilerini tanımlarken oluşabilecek hatalardan kaçmamızı sağlar. Peki bu \\ işareti nasıl oluyor da karakter dizisini tanımlarken hata almamızı önlüyor? Gelin bu süreci adım adım tarif edelim:\n",
    "\n",
    "Python bir karakter dizisi tanımladığımızda, karakter dizisini soldan sağa doğru okumaya başlar. Mesela yukarıdaki örnekte ilk olarak karakter dizisini tanımlamaya tek tırnakla başladığımızı görür.\n",
    "\n",
    "Python karakter dizisini başlatan bu tek tırnak işaretini gördüğü zaman, soldan sağa doğru ilerleyerek karakter dizisini bitirecek olan tek tırnak işaretini aramaya başlar.\n",
    "\n",
    "Soldan sağa doğru ilerlerken ‘İstanbul’un’ kelimesi içinde geçen kesme işaretini görür ve karakter dizisinin burada sona erdiğini düşünür. Ancak karakter dizisini sona erdiren işaret bu olmadığı için Python’ın hata vermekten başka çaresi kalmaz.\n",
    "\n",
    "İşte biz ‘İstanbul’un’ kelimesi içinde geçen bu kesme işaretinin sol tarafına bir adet \\ işareti yerleştirerek Python’a, ‘Aradığın işaret bu değil. Sen karakter dizisini okumaya devam et. Biraz sonra aradığın tırnağı bulacaksın!’ mesajı vermiş, yani orada tırnak işaretini farklı bir amaçla kullandığımız konusunda Python’ı bilgilendirmiş oluruz.\n",
    "\n",
    "Şurada da aynı durum sözkonusu:"
   ]
  },
  {
   "cell_type": "code",
   "execution_count": 1,
   "id": "1ae185dd-c7cf-46f8-9f01-415f07c15754",
   "metadata": {},
   "outputs": [
    {
     "name": "stdout",
     "output_type": "stream",
     "text": [
      "Python programlama dilinin adı \"piton\" yılanından gelmez\n"
     ]
    }
   ],
   "source": [
    "print(\"Python programlama dilinin adı \\\"piton\\\" yılanından gelmez\")"
   ]
  },
  {
   "cell_type": "markdown",
   "id": "804594f8-8285-44e8-a7d6-706f72fe9a3d",
   "metadata": {},
   "source": [
    "Tıpkı bir önceki örnekte olduğu gibi, burada da Python karakter dizisini soldan sağa doğru okumaya başlıyor, karakter dizisini başlatan çift tırnak işaretini görüyor ve bunun üzerine Python karakter dizisini bitirecek olan çift tırnak işaretini aramaya koyuluyor.\n",
    "\n",
    "Karakter dizisini soldan sağa doğru okuduğu sırada, karakter dizisi içinde geçen ‘piton’ kelimesini görüyor. Eğer burada bir önlem almazsak Python bu kelimenin başındaki çift tırnak işaretini, karakter dizisini sona erdiren tırnak olarak algılar ve durum aslında böyle olmadığı için de hata verir.\n",
    "\n",
    "Bu hatayı önlemek için ‘piton’ kelimesinin başındaki çift tırnağın soluna bir adet \\ işareti yerleştirerek Python’a, ‘Aradığın tırnak bu değil!’ mesajı veriyoruz. Yani bir bakıma, \\ adlı kaçış dizisi kendisini tırnak işaretine siper edip Python’ın bu tırnağı görmesine mani oluyor…\n",
    "\n",
    "Bunun üzerine Python bu çift tırnak işaretini görmezden gelerek, soldan sağa doğru okumaya devam eder ve yol üzerinde ‘piton’ kelimesinin sonundaki çift tırnak işaretini görür. Eğer burada da bir önlem almazsak Python yine bir hata verecektir.\n",
    "\n",
    "Tıpkı biraz önce yaptığımız gibi, bu tırnak işaretinin de soluna bir adet \\ işareti yerleştirerek Python’a, ‘Aradığın tırnak bu da değil. Sen yine okumaya devam et!’ mesajı veriyoruz.\n",
    "\n",
    "Bu mesajı alan Python karakter dizisini soldan sağa doğru okumaya devam ediyor ve sonunda karakter dizisini bitiren çift tırnak işaretini bularak bize hatasız bir çıktı veriyor.\n",
    "\n",
    "Böylece \\ işareti üzerinden hem kaçış dizilerinin ne olduğunu öğrenmiş, hem de bu kaçış dizisinin nasıl kullanılacağına dair örnekler vermiş olduk. Ancak \\ kaçış dizisinin yetenekleri yukarıdakilerle sınırlı değildir. Bu kaçış dizisini, uzun karakter dizilerini bölmek için de kullanabiliriz. Şimdi şu örneği dikkatlice inceleyin:"
   ]
  },
  {
   "cell_type": "code",
   "execution_count": 2,
   "id": "4fa56035-e214-4405-b805-aa8b5024e8c7",
   "metadata": {},
   "outputs": [
    {
     "name": "stdout",
     "output_type": "stream",
     "text": [
      "Python 1990 yılında Guido Van Rossum tarafından geliştirilmeye başlanmış, oldukça güçlü ve yetenekli bir programlama dilidir.\n"
     ]
    }
   ],
   "source": [
    "print(\"Python 1990 yılında Guido Van Rossum \\\n",
    "tarafından geliştirilmeye başlanmış, oldukça \\\n",
    "güçlü ve yetenekli bir programlama dilidir.\")\n"
   ]
  },
  {
   "cell_type": "markdown",
   "id": "7688fd67-b638-45aa-9ea2-3edc925987b7",
   "metadata": {},
   "source": [
    "Normal şartlar altında, bir karakter dizisini tanımlamaya tek veya çift tırnakla başlamışsak, karakter dizisinin kapanış tırnağını koymadan Enter tuşuna bastığımızda Python bize bir hata mesajı gösterir:"
   ]
  },
  {
   "cell_type": "code",
   "execution_count": 3,
   "id": "b94665a8-9a54-42c3-a18c-ec4cd19b77f8",
   "metadata": {
    "scrolled": true
   },
   "outputs": [
    {
     "ename": "SyntaxError",
     "evalue": "unterminated string literal (detected at line 1) (3870466660.py, line 1)",
     "output_type": "error",
     "traceback": [
      "\u001b[0;36m  Cell \u001b[0;32mIn[3], line 1\u001b[0;36m\u001b[0m\n\u001b[0;31m    print(\"Python 1990 yılında Guido Van Rossum\u001b[0m\n\u001b[0m          ^\u001b[0m\n\u001b[0;31mSyntaxError\u001b[0m\u001b[0;31m:\u001b[0m unterminated string literal (detected at line 1)\n"
     ]
    }
   ],
   "source": [
    "print(\"Python 1990 yılında Guido Van Rossum"
   ]
  },
  {
   "cell_type": "markdown",
   "id": "41a7de9d-0b12-44a2-9d6c-56b378304163",
   "metadata": {},
   "source": [
    "İşte \\ kaçış dizisi bizim burada olası bir hatadan kaçmamızı sağlar. Eğer Enter tuşuna basmadan önce bu işareti kullanırsak Python tıpkı üç tırnak işaretlerinde şahit olduğumuz gibi, hata vermeden bir alt satıra geçecektir. Bu sırada, yani \\ kaçış dizisini koyup Enter tuşuna bastığımızda >>> işaretinin … işaretine dönüştüğünü görüyorsunuz. Bu işaretin, Python’ın bize verdiği bir ‘Yazmaya devam et!’ mesajı olduğunu biliyorsunuz."
   ]
  },
  {
   "cell_type": "markdown",
   "id": "071d31b6-52d4-4d0d-84c3-5d8793188d20",
   "metadata": {},
   "source": [
    "Satır Başı (\\n)\n",
    "\n",
    "\n",
    "Python’daki en temel kaçış dizisi biraz önce örneklerini verdiğimiz \\ işaretidir. Bu kaçış dizisi başka karakterlerle birleşerek, farklı işlevlere sahip yeni kaçış dizileri de oluşturabilir. Aslında bu olguya yabancı değiliz. Önceki sayfalarda bu duruma bir örnek vermiştik. Hatırlarsanız print() fonksiyonunu anlatırken end parametresinin ön tanımlı değerinin \\n, yani satır başı karakteri olduğunu söylemiştik."
   ]
  },
  {
   "cell_type": "markdown",
   "id": "828abf16-fe89-4f77-be67-b74058702a09",
   "metadata": {},
   "source": [
    "Satır başı karakterini ilk öğrendiğimizde bu karakteri anlatırken bazı örnekler de vermiştik:\n",
    "\n"
   ]
  },
  {
   "cell_type": "code",
   "execution_count": 4,
   "id": "ac693d0e-e589-4e1c-8fa9-ca2cca1a169b",
   "metadata": {},
   "outputs": [
    {
     "name": "stdout",
     "output_type": "stream",
     "text": [
      "birinci satır\n",
      "ikinci satır\n",
      "üçüncü satır\n"
     ]
    }
   ],
   "source": [
    "print(\"birinci satır\\nikinci satır\\nüçüncü satır\")"
   ]
  },
  {
   "cell_type": "markdown",
   "id": "50c8101d-a0d6-45b4-a3a5-a18dc2e600dd",
   "metadata": {},
   "source": [
    "Gördüğünüz gibi, \\n adlı kaçış dizisi, bir alt satıra geçilmesini sağlıyor. İşte aslında \\n kaçış dizisi de, \\ ile ‘n’ harfinin birleşmesinden oluşmuş bir kaçış dizisidir. Burada \\ işaretinin görevi, ‘n’ harfinin özel bir anlam kazanmasını sağlamaktır. \\ işareti ile ‘n’ harfi birleştiğinde ‘satır başı karakteri’ denen özel bir karakter dizisi ortaya çıkarıyor.\n",
    "\n",
    "Gelin bu kaçış dizisi ile ilgili bir örnek verelim. Şimdi şu kodları dikkatlice inceleyin:"
   ]
  },
  {
   "cell_type": "code",
   "execution_count": 5,
   "id": "b240c0e1-84ce-4c03-8b0c-4e96bc549c34",
   "metadata": {},
   "outputs": [
    {
     "name": "stdout",
     "output_type": "stream",
     "text": [
      "Türkiye'de Özgür Yazılımın Geçmişi\n",
      "----------------------------------\n"
     ]
    }
   ],
   "source": [
    "başlık = \"Türkiye'de Özgür Yazılımın Geçmişi\"\n",
    "print(başlık, \"\\n\", \"-\"*len(başlık), sep=\"\")"
   ]
  },
  {
   "cell_type": "markdown",
   "id": "d4d3cd57-e3c8-4bab-b282-5b28da380e62",
   "metadata": {},
   "source": [
    "Burada, başlık adlı değişkenin tuttuğu “Türkiye’de Özgür Yazılımın Geçmişi” adlı karakter dizisinin altını çizdik. Dikkat ederseniz, başlığın altına koyduğumuz çizgiler başlığın uzunluğunu aşmıyor. Yazdığımız program, başlığın uzunluğu kadar çizgiyi başlığın altına ekliyor. Bu programda başlık ne olursa olsun, programımız çizgi uzunluğunu kendisi ayarlayacaktır. Örneğin:"
   ]
  },
  {
   "cell_type": "code",
   "execution_count": 6,
   "id": "47345388-1cd4-4512-b539-b8ce7de2f591",
   "metadata": {},
   "outputs": [
    {
     "name": "stdout",
     "output_type": "stream",
     "text": [
      "Python Programlama Dili\n",
      "-----------------------\n"
     ]
    }
   ],
   "source": [
    "başlık = \"Python Programlama Dili\"\n",
    "print(başlık, \"\\n\", \"-\"*len(başlık), sep=\"\")\n"
   ]
  },
  {
   "cell_type": "code",
   "execution_count": 7,
   "id": "44328901-d8ed-4c6a-ba95-8924a48fd7b2",
   "metadata": {},
   "outputs": [
    {
     "name": "stdout",
     "output_type": "stream",
     "text": [
      "Alışveriş Listesi\n",
      "-----------------\n"
     ]
    }
   ],
   "source": [
    "başlık = \"Alışveriş Listesi\"\n",
    "print(başlık, \"\\n\", \"-\"*len(başlık), sep=\"\")"
   ]
  },
  {
   "cell_type": "markdown",
   "id": "3c04b678-9121-41ab-8528-3587b8835a24",
   "metadata": {},
   "source": [
    "Gelin isterseniz bu kodlardaki print() satırını şöyle bir inceleyelim. Kodumuz şu:"
   ]
  },
  {
   "cell_type": "code",
   "execution_count": 8,
   "id": "85dcaf2a-ea56-4a50-863e-ba09a8cd3494",
   "metadata": {},
   "outputs": [
    {
     "name": "stdout",
     "output_type": "stream",
     "text": [
      "Alışveriş Listesi\n",
      "-----------------\n"
     ]
    }
   ],
   "source": [
    "print(başlık, \"\\n\", \"-\"*len(başlık), sep=\"\")"
   ]
  },
  {
   "cell_type": "markdown",
   "id": "cc68fa45-ce1b-43de-855b-8be68bfce56c",
   "metadata": {},
   "source": [
    "Burada öncelikle başlık adlı değişkeni print() fonksiyonunun parantezleri içine yazdık. Böylece başlık değişkeninin değeri ekrana yazdırılacak.\n",
    "\n",
    "print() fonksiyonunun ikinci parametresinin \\n adlı kaçış dizisi olduğunu görüyoruz. Bu kaçış dizisini eklememiz sayesinde Python ilk parametreyi çıktı olarak verdikten sonra bir alt satıra geçiyor. Bu parametrenin tam olarak ne işe yaradığını anlamak için, yukarıdaki satırı bir de o parametre olmadan çalıştırmayı deneyebilirsiniz:"
   ]
  },
  {
   "cell_type": "code",
   "execution_count": 9,
   "id": "99a37141-e02f-4943-bbf8-dea963840587",
   "metadata": {},
   "outputs": [
    {
     "name": "stdout",
     "output_type": "stream",
     "text": [
      "Alışveriş Listesi-----------------\n"
     ]
    }
   ],
   "source": [
    "print(başlık, \"-\"*len(başlık), sep=\"\")"
   ]
  },
  {
   "cell_type": "markdown",
   "id": "1b674121-e90d-42bb-80f6-a29a6f46b895",
   "metadata": {},
   "source": [
    "print() fonksiyonunun üçüncü parametresinin ise şu olduğunu görüyoruz: \"-\"*len(başlık).\n",
    "İşte başlık değişkeninin altına gerekli sayıda çizgiyi çizen kodlar bunlardır. Burada len() fonksiyonunu nasıl kullandığımıza çok dikkat edin. Bu kod sayesinde başlık değişkeninin uzunluğu (len(başlık)) sayısınca - işaretini ekrana çıktı olarak verebiliyoruz.\n",
    "\n",
    "Yukarıdaki kodlarda print() fonksiyonunun son parametresi ise sep=''. Peki bu ne işe yarıyor? Her zaman olduğu gibi, bu kod parçasının ne işe yaradığını anlamak için programı bir de o kodlar olmadan çalıştırmayı deneyebilirsiniz:"
   ]
  },
  {
   "cell_type": "code",
   "execution_count": 11,
   "id": "5582e88d-4f32-4bd7-9ac4-c9e06a4503cc",
   "metadata": {},
   "outputs": [
    {
     "name": "stdout",
     "output_type": "stream",
     "text": [
      "Alışveriş Listesi \n",
      " -----------------\n"
     ]
    }
   ],
   "source": [
    "print(başlık, \"\\n\", \"-\"*len(başlık))"
   ]
  },
  {
   "cell_type": "markdown",
   "id": "9ca2c753-e446-4269-9837-526510c1e5a9",
   "metadata": {},
   "source": [
    "Gördüğünüz gibi, başlık değişkeninin tam altına gelmesi gereken çizgi işaretleri sağa kaymış. Bunun nedeni sep parametresinin öntanımlı değerinin bir adet boşluk karakteri olmasıdır. sep parametresinin öntanımlı değeri nedeniyle çizgilerin baş tarafına bir adet boşluk karakteri ekleniyor çıktıda. O yüzden bu çizgiler sağa kaymış görünüyor. İşte biz yukarıdaki kodlarda sep parametresinin öntanımlı değerini değiştirip, boşluk karakteri yerine boş bir karakter dizisi yerleştiriyoruz. Böylece çizgiler çıktıda sağa kaymıyor.\n",
    "\n",
    "Satır başı karakteri, programlama maceramız sırasında en çok kullanacağımız kaçış dizilerinden biri ve hatta belki de birincisidir. O yüzden bu kaçış dizisini çok iyi öğrenmenizi tavsiye ederim.\n",
    "\n",
    "Ayrıca bu kaçış dizisini (ve tabii öteki kaçış dizilerini) tanıyıp öğrenmeniz, yazacağınız programların selameti açısından da büyük önem taşır. Eğer bir karakter dizisi içinde geçen kaçış dizilerini ayırt edemezseniz Python size hiç beklemediğiniz çıktılar verebilir. Hatta yazdığınız programlar kaçış dizilerini tanımıyor olmanızdan ötürü bir anda hata verip çökebilir. Peki ama nasıl?\n",
    "\n",
    "Şimdi şu örneğe dikkatlice bakın:\n",
    "\n",
    "Diyelim ki bilgisayarınızın ‘C:\\’ dizinindeki ‘nisan’ adlı bir klasörün içinde yer alan masraflar.txt adlı bir dosyayı yazdığınız bir program içinde kullanmanız gerekiyor. Mesela bu dosyayı, tam adresiyle birlikte kullanıcılarınıza göstermek istiyorsunuz.\n",
    "\n",
    "İlk denememizi yapalım:"
   ]
  },
  {
   "cell_type": "code",
   "execution_count": 12,
   "id": "c9e266ba-f3f3-4c06-9d1c-e4f6c37e8dc8",
   "metadata": {},
   "outputs": [
    {
     "name": "stdout",
     "output_type": "stream",
     "text": [
      "C:\n",
      "isan\\masraflar.txt\n"
     ]
    }
   ],
   "source": [
    "print(\"C:\\nisan\\masraflar.txt\")"
   ]
  },
  {
   "cell_type": "markdown",
   "id": "497188c6-1977-4ed4-806f-1d12794615d0",
   "metadata": {},
   "source": [
    "Buradan şöyle bir çıktı aldık:\n",
    "C:\n",
    "isan\\masraflar.txt"
   ]
  },
  {
   "cell_type": "markdown",
   "id": "ff0db47e-45ad-49f3-b169-20178935a852",
   "metadata": {},
   "source": [
    "Gördüğünüz gibi, bu çıktıyı normal yollardan vermeye çalıştığımızda Python bize hiç de beklemediğimiz bir çıktı veriyor. Peki ama neden?\n",
    "\n",
    "Python’da karakter dizileri ile çalışırken asla aklımızdan çıkarmamamız gereken bir şey var: Eğer yazdığımız herhangi bir karakter dizisinin herhangi bir yerinde \\ işaretini kullanmışsak, bu işaretten hemen sonra gelen karakterin ne olduğuna çok dikkat etmemiz gerekir. Çünkü eğer dikkat etmezsek, farkında olmadan Python için özel anlam taşıyan bir karakter dizisi oluşturmuş olabiliriz. Bu da kodlarımızın beklediğimiz gibi çalışmasını engeller.\n",
    "\n",
    "Yukarıdaki sorunun kaynağını anlamak için \"C:\\nisan\\masraflar.txt\" adlı karakter dizisine çok dikkatlice bakın. Python bu karakter dizisinde bizim ‘\\nisan’ olarak belirttiğimiz kısmın başındaki \\n karakterlerini bir kaçış dizisi olarak algıladı. Çünkü \\n adlı karakter dizisi, ‘satır başı kaçış dizisi’ adını verdiğimiz, Python açısından özel anlam taşıyan bir karakter dizisine işaret ediyor. Zaten yukarıdaki tuhaf görünen çıktıya baktığınızda da, bu kaçış dizisinin olduğu noktadan itibaren karakter dizisinin bölünüp yeni bir satıra geçildiğini göreceksiniz. İşte biz yukarıdaki örnekte alelade bir dizin adı belirttiğimizi zannederken aslında hiç farkında olmadan bir kaçış dizisi üretmiş oluyoruz. Bu nedenle, daha önce de söylediğimiz gibi, karakter dizileri içinde farkında olarak veya olmayarak kullandığımız kaçış dizilerine karşı her zaman uyanık olmalıyız. Aksi takdirde, yukarıda olduğu gibi hiç beklemediğimiz çıktılarla karşılaşabiliriz.\n",
    "\n",
    "Esasen yukarıdaki problem bir dereceye kadar (ve yerine göre) ‘masum bir kusur’ olarak görülebilir. Çünkü bu hata programımızın çökmesine yol açmıyor. Ama bir karakter dizisi içindeki gizli kaçış dizilerini gözden kaçırmak, bazı durumlarda çok daha yıkıcı sonuçlara yol açabilir. Mesela yukarıdaki sorunlu dizin adını ekrana yazdırmak yerine open() fonksiyonunu kullanarak, bu karakter dizisi içinde belirttiğimiz masraflar.txt adlı dosyayı açmaya çalıştığımızı düşünün:\n",
    "\n"
   ]
  },
  {
   "cell_type": "code",
   "execution_count": 13,
   "id": "6d27f6ec-7652-4a28-8f13-db0d91993f43",
   "metadata": {},
   "outputs": [
    {
     "ename": "FileNotFoundError",
     "evalue": "[Errno 2] No such file or directory: 'C:\\nisan\\\\masraflar.txt'",
     "output_type": "error",
     "traceback": [
      "\u001b[0;31m---------------------------------------------------------------------------\u001b[0m",
      "\u001b[0;31mFileNotFoundError\u001b[0m                         Traceback (most recent call last)",
      "Cell \u001b[0;32mIn[13], line 1\u001b[0m\n\u001b[0;32m----> 1\u001b[0m \u001b[38;5;28;43mopen\u001b[39;49m\u001b[43m(\u001b[49m\u001b[38;5;124;43m\"\u001b[39;49m\u001b[38;5;124;43mC:\u001b[39;49m\u001b[38;5;130;43;01m\\n\u001b[39;49;00m\u001b[38;5;124;43misan\u001b[39;49m\u001b[38;5;124;43m\\\u001b[39;49m\u001b[38;5;124;43mmasraflar.txt\u001b[39;49m\u001b[38;5;124;43m\"\u001b[39;49m\u001b[43m)\u001b[49m\n",
      "File \u001b[0;32m~/.local/lib/python3.10/site-packages/IPython/core/interactiveshell.py:324\u001b[0m, in \u001b[0;36m_modified_open\u001b[0;34m(file, *args, **kwargs)\u001b[0m\n\u001b[1;32m    317\u001b[0m \u001b[38;5;28;01mif\u001b[39;00m file \u001b[38;5;129;01min\u001b[39;00m {\u001b[38;5;241m0\u001b[39m, \u001b[38;5;241m1\u001b[39m, \u001b[38;5;241m2\u001b[39m}:\n\u001b[1;32m    318\u001b[0m     \u001b[38;5;28;01mraise\u001b[39;00m \u001b[38;5;167;01mValueError\u001b[39;00m(\n\u001b[1;32m    319\u001b[0m         \u001b[38;5;124mf\u001b[39m\u001b[38;5;124m\"\u001b[39m\u001b[38;5;124mIPython won\u001b[39m\u001b[38;5;124m'\u001b[39m\u001b[38;5;124mt let you open fd=\u001b[39m\u001b[38;5;132;01m{\u001b[39;00mfile\u001b[38;5;132;01m}\u001b[39;00m\u001b[38;5;124m by default \u001b[39m\u001b[38;5;124m\"\u001b[39m\n\u001b[1;32m    320\u001b[0m         \u001b[38;5;124m\"\u001b[39m\u001b[38;5;124mas it is likely to crash IPython. If you know what you are doing, \u001b[39m\u001b[38;5;124m\"\u001b[39m\n\u001b[1;32m    321\u001b[0m         \u001b[38;5;124m\"\u001b[39m\u001b[38;5;124myou can use builtins\u001b[39m\u001b[38;5;124m'\u001b[39m\u001b[38;5;124m open.\u001b[39m\u001b[38;5;124m\"\u001b[39m\n\u001b[1;32m    322\u001b[0m     )\n\u001b[0;32m--> 324\u001b[0m \u001b[38;5;28;01mreturn\u001b[39;00m \u001b[43mio_open\u001b[49m\u001b[43m(\u001b[49m\u001b[43mfile\u001b[49m\u001b[43m,\u001b[49m\u001b[43m \u001b[49m\u001b[38;5;241;43m*\u001b[39;49m\u001b[43margs\u001b[49m\u001b[43m,\u001b[49m\u001b[43m \u001b[49m\u001b[38;5;241;43m*\u001b[39;49m\u001b[38;5;241;43m*\u001b[39;49m\u001b[43mkwargs\u001b[49m\u001b[43m)\u001b[49m\n",
      "\u001b[0;31mFileNotFoundError\u001b[0m: [Errno 2] No such file or directory: 'C:\\nisan\\\\masraflar.txt'"
     ]
    }
   ],
   "source": [
    "open(\"C:\\nisan\\masraflar.txt\")"
   ]
  },
  {
   "cell_type": "markdown",
   "id": "8fb8cce0-3b45-4690-919c-37e9cc1ef0d0",
   "metadata": {},
   "source": [
    "Eğer sorunun gözden kaçan bir kaçış dizisinden kaynaklandığını farkedemezseniz, bu sorunu çözebilmek için saatlerinizi ve hatta günlerinizi harcamak zorunda kalabilirsiniz. Çünkü yukarıdaki hata mesajı sorunun nedenine dair hiçbir şey söylemiyor. Ancak ve ancak yukarıdaki karakter dizisi içinde sinsice gizlenen bir \\n kaçış dizisi olduğu gözünüze çarparsa bu sorunu çözme yolunda bir adım atabilirsiniz.\n",
    "\n",
    "Diyelim ki sorunun ‘\\nisan’ ifadesinin başındaki \\n karakterlerinin Python tarafından bir kaçış dizisi olarak algılanmasından kaynaklandığını farkettiniz. Peki bu sorunu nasıl çözeceksiniz?\n",
    "\n",
    "Bu sorunun birkaç farklı çözüm yolu var. Biz şimdilik sadece ikisini göreceğiz. Bu bölümün sonuna vardığınızda öteki çözüm yolunu da öğrenmiş olacaksınız.\n",
    "\n",
    "Yukarıdaki problemi, ilgili kaçış dizisi içindeki ters taksim işaretini çiftleyerek çözebilirsiniz:"
   ]
  },
  {
   "cell_type": "code",
   "execution_count": 14,
   "id": "941d9412-8b44-4dd7-9077-88363f7e1d89",
   "metadata": {},
   "outputs": [
    {
     "ename": "FileNotFoundError",
     "evalue": "[Errno 2] No such file or directory: 'C:\\\\nisan\\\\masraflar'",
     "output_type": "error",
     "traceback": [
      "\u001b[0;31m---------------------------------------------------------------------------\u001b[0m",
      "\u001b[0;31mFileNotFoundError\u001b[0m                         Traceback (most recent call last)",
      "Cell \u001b[0;32mIn[14], line 1\u001b[0m\n\u001b[0;32m----> 1\u001b[0m \u001b[38;5;28;43mopen\u001b[39;49m\u001b[43m(\u001b[49m\u001b[38;5;124;43m\"\u001b[39;49m\u001b[38;5;124;43mC:\u001b[39;49m\u001b[38;5;130;43;01m\\\\\u001b[39;49;00m\u001b[38;5;124;43mnisan\u001b[39;49m\u001b[38;5;124;43m\\\u001b[39;49m\u001b[38;5;124;43mmasraflar\u001b[39;49m\u001b[38;5;124;43m\"\u001b[39;49m\u001b[43m)\u001b[49m\n",
      "File \u001b[0;32m~/.local/lib/python3.10/site-packages/IPython/core/interactiveshell.py:324\u001b[0m, in \u001b[0;36m_modified_open\u001b[0;34m(file, *args, **kwargs)\u001b[0m\n\u001b[1;32m    317\u001b[0m \u001b[38;5;28;01mif\u001b[39;00m file \u001b[38;5;129;01min\u001b[39;00m {\u001b[38;5;241m0\u001b[39m, \u001b[38;5;241m1\u001b[39m, \u001b[38;5;241m2\u001b[39m}:\n\u001b[1;32m    318\u001b[0m     \u001b[38;5;28;01mraise\u001b[39;00m \u001b[38;5;167;01mValueError\u001b[39;00m(\n\u001b[1;32m    319\u001b[0m         \u001b[38;5;124mf\u001b[39m\u001b[38;5;124m\"\u001b[39m\u001b[38;5;124mIPython won\u001b[39m\u001b[38;5;124m'\u001b[39m\u001b[38;5;124mt let you open fd=\u001b[39m\u001b[38;5;132;01m{\u001b[39;00mfile\u001b[38;5;132;01m}\u001b[39;00m\u001b[38;5;124m by default \u001b[39m\u001b[38;5;124m\"\u001b[39m\n\u001b[1;32m    320\u001b[0m         \u001b[38;5;124m\"\u001b[39m\u001b[38;5;124mas it is likely to crash IPython. If you know what you are doing, \u001b[39m\u001b[38;5;124m\"\u001b[39m\n\u001b[1;32m    321\u001b[0m         \u001b[38;5;124m\"\u001b[39m\u001b[38;5;124myou can use builtins\u001b[39m\u001b[38;5;124m'\u001b[39m\u001b[38;5;124m open.\u001b[39m\u001b[38;5;124m\"\u001b[39m\n\u001b[1;32m    322\u001b[0m     )\n\u001b[0;32m--> 324\u001b[0m \u001b[38;5;28;01mreturn\u001b[39;00m \u001b[43mio_open\u001b[49m\u001b[43m(\u001b[49m\u001b[43mfile\u001b[49m\u001b[43m,\u001b[49m\u001b[43m \u001b[49m\u001b[38;5;241;43m*\u001b[39;49m\u001b[43margs\u001b[49m\u001b[43m,\u001b[49m\u001b[43m \u001b[49m\u001b[38;5;241;43m*\u001b[39;49m\u001b[38;5;241;43m*\u001b[39;49m\u001b[43mkwargs\u001b[49m\u001b[43m)\u001b[49m\n",
      "\u001b[0;31mFileNotFoundError\u001b[0m: [Errno 2] No such file or directory: 'C:\\\\nisan\\\\masraflar'"
     ]
    }
   ],
   "source": [
    "open(\"C:\\\\nisan\\masraflar\")"
   ]
  },
  {
   "cell_type": "markdown",
   "id": "54958988-9224-497d-b525-c8055f6902b2",
   "metadata": {},
   "source": [
    "Tabii tutarlılık açısından karakter dizisi içindeki bütün ters taksim işaretlerini çiftlemek mantıklı olacaktır:"
   ]
  },
  {
   "cell_type": "code",
   "execution_count": 15,
   "id": "acfe980c-c1fa-475b-9d86-065bfe201bf9",
   "metadata": {},
   "outputs": [
    {
     "ename": "FileNotFoundError",
     "evalue": "[Errno 2] No such file or directory: 'C:\\\\nisan\\\\masraflar'",
     "output_type": "error",
     "traceback": [
      "\u001b[0;31m---------------------------------------------------------------------------\u001b[0m",
      "\u001b[0;31mFileNotFoundError\u001b[0m                         Traceback (most recent call last)",
      "Cell \u001b[0;32mIn[15], line 1\u001b[0m\n\u001b[0;32m----> 1\u001b[0m \u001b[38;5;28;43mopen\u001b[39;49m\u001b[43m(\u001b[49m\u001b[38;5;124;43m\"\u001b[39;49m\u001b[38;5;124;43mC:\u001b[39;49m\u001b[38;5;130;43;01m\\\\\u001b[39;49;00m\u001b[38;5;124;43mnisan\u001b[39;49m\u001b[38;5;130;43;01m\\\\\u001b[39;49;00m\u001b[38;5;124;43mmasraflar\u001b[39;49m\u001b[38;5;124;43m\"\u001b[39;49m\u001b[43m)\u001b[49m\n",
      "File \u001b[0;32m~/.local/lib/python3.10/site-packages/IPython/core/interactiveshell.py:324\u001b[0m, in \u001b[0;36m_modified_open\u001b[0;34m(file, *args, **kwargs)\u001b[0m\n\u001b[1;32m    317\u001b[0m \u001b[38;5;28;01mif\u001b[39;00m file \u001b[38;5;129;01min\u001b[39;00m {\u001b[38;5;241m0\u001b[39m, \u001b[38;5;241m1\u001b[39m, \u001b[38;5;241m2\u001b[39m}:\n\u001b[1;32m    318\u001b[0m     \u001b[38;5;28;01mraise\u001b[39;00m \u001b[38;5;167;01mValueError\u001b[39;00m(\n\u001b[1;32m    319\u001b[0m         \u001b[38;5;124mf\u001b[39m\u001b[38;5;124m\"\u001b[39m\u001b[38;5;124mIPython won\u001b[39m\u001b[38;5;124m'\u001b[39m\u001b[38;5;124mt let you open fd=\u001b[39m\u001b[38;5;132;01m{\u001b[39;00mfile\u001b[38;5;132;01m}\u001b[39;00m\u001b[38;5;124m by default \u001b[39m\u001b[38;5;124m\"\u001b[39m\n\u001b[1;32m    320\u001b[0m         \u001b[38;5;124m\"\u001b[39m\u001b[38;5;124mas it is likely to crash IPython. If you know what you are doing, \u001b[39m\u001b[38;5;124m\"\u001b[39m\n\u001b[1;32m    321\u001b[0m         \u001b[38;5;124m\"\u001b[39m\u001b[38;5;124myou can use builtins\u001b[39m\u001b[38;5;124m'\u001b[39m\u001b[38;5;124m open.\u001b[39m\u001b[38;5;124m\"\u001b[39m\n\u001b[1;32m    322\u001b[0m     )\n\u001b[0;32m--> 324\u001b[0m \u001b[38;5;28;01mreturn\u001b[39;00m \u001b[43mio_open\u001b[49m\u001b[43m(\u001b[49m\u001b[43mfile\u001b[49m\u001b[43m,\u001b[49m\u001b[43m \u001b[49m\u001b[38;5;241;43m*\u001b[39;49m\u001b[43margs\u001b[49m\u001b[43m,\u001b[49m\u001b[43m \u001b[49m\u001b[38;5;241;43m*\u001b[39;49m\u001b[38;5;241;43m*\u001b[39;49m\u001b[43mkwargs\u001b[49m\u001b[43m)\u001b[49m\n",
      "\u001b[0;31mFileNotFoundError\u001b[0m: [Errno 2] No such file or directory: 'C:\\\\nisan\\\\masraflar'"
     ]
    }
   ],
   "source": [
    "open(\"C:\\\\nisan\\\\masraflar\")"
   ]
  },
  {
   "cell_type": "markdown",
   "id": "4b6c8452-d2b9-44f4-b8f3-2a156f0d90ee",
   "metadata": {},
   "source": [
    "Bunun dışında, bu örnek için, dizin adlarını ters taksim yerine düz taksim işaretiyle ayırmayı tercih edebilirsiniz:"
   ]
  },
  {
   "cell_type": "code",
   "execution_count": 16,
   "id": "c285a1ba-ec3f-4362-ba3b-8b2b9e6e226f",
   "metadata": {},
   "outputs": [
    {
     "ename": "FileNotFoundError",
     "evalue": "[Errno 2] No such file or directory: 'C:/nisan/masraflar'",
     "output_type": "error",
     "traceback": [
      "\u001b[0;31m---------------------------------------------------------------------------\u001b[0m",
      "\u001b[0;31mFileNotFoundError\u001b[0m                         Traceback (most recent call last)",
      "Cell \u001b[0;32mIn[16], line 1\u001b[0m\n\u001b[0;32m----> 1\u001b[0m \u001b[38;5;28;43mopen\u001b[39;49m\u001b[43m(\u001b[49m\u001b[38;5;124;43m\"\u001b[39;49m\u001b[38;5;124;43mC:/nisan/masraflar\u001b[39;49m\u001b[38;5;124;43m\"\u001b[39;49m\u001b[43m)\u001b[49m\n",
      "File \u001b[0;32m~/.local/lib/python3.10/site-packages/IPython/core/interactiveshell.py:324\u001b[0m, in \u001b[0;36m_modified_open\u001b[0;34m(file, *args, **kwargs)\u001b[0m\n\u001b[1;32m    317\u001b[0m \u001b[38;5;28;01mif\u001b[39;00m file \u001b[38;5;129;01min\u001b[39;00m {\u001b[38;5;241m0\u001b[39m, \u001b[38;5;241m1\u001b[39m, \u001b[38;5;241m2\u001b[39m}:\n\u001b[1;32m    318\u001b[0m     \u001b[38;5;28;01mraise\u001b[39;00m \u001b[38;5;167;01mValueError\u001b[39;00m(\n\u001b[1;32m    319\u001b[0m         \u001b[38;5;124mf\u001b[39m\u001b[38;5;124m\"\u001b[39m\u001b[38;5;124mIPython won\u001b[39m\u001b[38;5;124m'\u001b[39m\u001b[38;5;124mt let you open fd=\u001b[39m\u001b[38;5;132;01m{\u001b[39;00mfile\u001b[38;5;132;01m}\u001b[39;00m\u001b[38;5;124m by default \u001b[39m\u001b[38;5;124m\"\u001b[39m\n\u001b[1;32m    320\u001b[0m         \u001b[38;5;124m\"\u001b[39m\u001b[38;5;124mas it is likely to crash IPython. If you know what you are doing, \u001b[39m\u001b[38;5;124m\"\u001b[39m\n\u001b[1;32m    321\u001b[0m         \u001b[38;5;124m\"\u001b[39m\u001b[38;5;124myou can use builtins\u001b[39m\u001b[38;5;124m'\u001b[39m\u001b[38;5;124m open.\u001b[39m\u001b[38;5;124m\"\u001b[39m\n\u001b[1;32m    322\u001b[0m     )\n\u001b[0;32m--> 324\u001b[0m \u001b[38;5;28;01mreturn\u001b[39;00m \u001b[43mio_open\u001b[49m\u001b[43m(\u001b[49m\u001b[43mfile\u001b[49m\u001b[43m,\u001b[49m\u001b[43m \u001b[49m\u001b[38;5;241;43m*\u001b[39;49m\u001b[43margs\u001b[49m\u001b[43m,\u001b[49m\u001b[43m \u001b[49m\u001b[38;5;241;43m*\u001b[39;49m\u001b[38;5;241;43m*\u001b[39;49m\u001b[43mkwargs\u001b[49m\u001b[43m)\u001b[49m\n",
      "\u001b[0;31mFileNotFoundError\u001b[0m: [Errno 2] No such file or directory: 'C:/nisan/masraflar'"
     ]
    }
   ],
   "source": [
    "open(\"C:/nisan/masraflar\")"
   ]
  },
  {
   "cell_type": "markdown",
   "id": "f7423b21-57f4-4595-86f7-398df479d8e1",
   "metadata": {},
   "source": [
    "Dediğimiz gibi, üçüncü (ve aslında daha kullanışlı olan) yöntemi biraz sonra inceleyeceğiz. Biz şimdilik kaçış dizilerini anlatmaya devam edelim.\n",
    "\n"
   ]
  },
  {
   "cell_type": "markdown",
   "id": "5b84ed1b-82e1-43c4-ba2a-3bbba255baa2",
   "metadata": {},
   "source": [
    "Sekme (\\t)\n",
    "\n",
    "\n",
    "Python’da \\ işareti sadece ‘n’ harfiyle değil, başka harflerle de birleşebilir. Örneğin \\ işaretini ‘t’ harfiyle birleştirerek yine özel bir anlam ifade eden bir kaçış dizisi elde edebiliriz:\n",
    "\n"
   ]
  },
  {
   "cell_type": "code",
   "execution_count": 18,
   "id": "3eb6066c-208e-4209-ac40-6eef164da3f9",
   "metadata": {},
   "outputs": [
    {
     "name": "stdout",
     "output_type": "stream",
     "text": [
      "abc\tdef\n"
     ]
    }
   ],
   "source": [
    "print(\"abc\\tdef\")"
   ]
  },
  {
   "cell_type": "markdown",
   "id": "a64047c7-54b6-4691-8a9e-1da7eff2543a",
   "metadata": {},
   "source": [
    "Burada \\t adlı kaçış dizisi, “abc” ifadesinden sonra sanki Tab (sekme) tuşuna basılmış gibi bir etki oluşturarak “def” ifadesini sağa doğru itiyor. Bir de şu örneğe bakalım:"
   ]
  },
  {
   "cell_type": "code",
   "execution_count": 19,
   "id": "8efb3503-1ea7-4cb2-bae1-0d7b1be3bee2",
   "metadata": {},
   "outputs": [
    {
     "name": "stdout",
     "output_type": "stream",
     "text": [
      "bir\tiki\tüç\n"
     ]
    }
   ],
   "source": [
    "print(\"bir\", \"iki\", \"üç\", sep=\"\\t\")"
   ]
  },
  {
   "cell_type": "markdown",
   "id": "05a2a9b6-62aa-4f32-a475-f65bcf00b858",
   "metadata": {},
   "source": [
    "Bir örnek daha:"
   ]
  },
  {
   "cell_type": "code",
   "execution_count": 20,
   "id": "3a4a678b-8f7c-466a-8606-9601cad70658",
   "metadata": {},
   "outputs": [
    {
     "name": "stdout",
     "output_type": "stream",
     "text": [
      "1\t2\t3\t4\t5\t6\t7\t8\t9\n"
     ]
    }
   ],
   "source": [
    "print(*\"123456789\", sep=\"\\t\")"
   ]
  },
  {
   "cell_type": "markdown",
   "id": "678b2e09-0a2f-4c3e-9a71-940e2e6ebd8e",
   "metadata": {},
   "source": [
    "Gördüğünüz gibi, parametreler arasında belli aralıkta bir boşluk bırakmak istediğimizde \\t adlı kaçış dizisinden yararlanabiliyoruz.\n",
    "\n",
    "Tıpkı \\n kaçış dizisinde olduğu gibi, karakter dizilerinde \\t kaçış dizisinin varlığına karşı da uyanık olmalıyız:"
   ]
  },
  {
   "cell_type": "code",
   "execution_count": 21,
   "id": "ff933682-0a01-4724-9356-accf90faf99d",
   "metadata": {},
   "outputs": [
    {
     "ename": "FileNotFoundError",
     "evalue": "[Errno 2] No such file or directory: 'C:\\nisan\\\\masraflar\\toplam_masraf.txt'",
     "output_type": "error",
     "traceback": [
      "\u001b[0;31m---------------------------------------------------------------------------\u001b[0m",
      "\u001b[0;31mFileNotFoundError\u001b[0m                         Traceback (most recent call last)",
      "Cell \u001b[0;32mIn[21], line 1\u001b[0m\n\u001b[0;32m----> 1\u001b[0m \u001b[38;5;28;43mopen\u001b[39;49m\u001b[43m(\u001b[49m\u001b[38;5;124;43m\"\u001b[39;49m\u001b[38;5;124;43mC:\u001b[39;49m\u001b[38;5;130;43;01m\\n\u001b[39;49;00m\u001b[38;5;124;43misan\u001b[39;49m\u001b[38;5;124;43m\\\u001b[39;49m\u001b[38;5;124;43mmasraflar\u001b[39;49m\u001b[38;5;130;43;01m\\t\u001b[39;49;00m\u001b[38;5;124;43moplam_masraf.txt\u001b[39;49m\u001b[38;5;124;43m\"\u001b[39;49m\u001b[43m)\u001b[49m\n",
      "File \u001b[0;32m~/.local/lib/python3.10/site-packages/IPython/core/interactiveshell.py:324\u001b[0m, in \u001b[0;36m_modified_open\u001b[0;34m(file, *args, **kwargs)\u001b[0m\n\u001b[1;32m    317\u001b[0m \u001b[38;5;28;01mif\u001b[39;00m file \u001b[38;5;129;01min\u001b[39;00m {\u001b[38;5;241m0\u001b[39m, \u001b[38;5;241m1\u001b[39m, \u001b[38;5;241m2\u001b[39m}:\n\u001b[1;32m    318\u001b[0m     \u001b[38;5;28;01mraise\u001b[39;00m \u001b[38;5;167;01mValueError\u001b[39;00m(\n\u001b[1;32m    319\u001b[0m         \u001b[38;5;124mf\u001b[39m\u001b[38;5;124m\"\u001b[39m\u001b[38;5;124mIPython won\u001b[39m\u001b[38;5;124m'\u001b[39m\u001b[38;5;124mt let you open fd=\u001b[39m\u001b[38;5;132;01m{\u001b[39;00mfile\u001b[38;5;132;01m}\u001b[39;00m\u001b[38;5;124m by default \u001b[39m\u001b[38;5;124m\"\u001b[39m\n\u001b[1;32m    320\u001b[0m         \u001b[38;5;124m\"\u001b[39m\u001b[38;5;124mas it is likely to crash IPython. If you know what you are doing, \u001b[39m\u001b[38;5;124m\"\u001b[39m\n\u001b[1;32m    321\u001b[0m         \u001b[38;5;124m\"\u001b[39m\u001b[38;5;124myou can use builtins\u001b[39m\u001b[38;5;124m'\u001b[39m\u001b[38;5;124m open.\u001b[39m\u001b[38;5;124m\"\u001b[39m\n\u001b[1;32m    322\u001b[0m     )\n\u001b[0;32m--> 324\u001b[0m \u001b[38;5;28;01mreturn\u001b[39;00m \u001b[43mio_open\u001b[49m\u001b[43m(\u001b[49m\u001b[43mfile\u001b[49m\u001b[43m,\u001b[49m\u001b[43m \u001b[49m\u001b[38;5;241;43m*\u001b[39;49m\u001b[43margs\u001b[49m\u001b[43m,\u001b[49m\u001b[43m \u001b[49m\u001b[38;5;241;43m*\u001b[39;49m\u001b[38;5;241;43m*\u001b[39;49m\u001b[43mkwargs\u001b[49m\u001b[43m)\u001b[49m\n",
      "\u001b[0;31mFileNotFoundError\u001b[0m: [Errno 2] No such file or directory: 'C:\\nisan\\\\masraflar\\toplam_masraf.txt'"
     ]
    }
   ],
   "source": [
    "open(\"C:\\nisan\\masraflar\\toplam_masraf.txt\")"
   ]
  },
  {
   "cell_type": "markdown",
   "id": "df3b9d3d-4012-468d-9103-cea565b81104",
   "metadata": {},
   "source": [
    "Burada da \\n ile yaşadığımız soruna benzer bir durum var. Biz toplam_masraf.txt adlı bir dosyaya atıfta bulunmaya çalışıyoruz, ama Python bu ifadenin başındaki ‘t’ harfinin, kendisinden önce gelen \\ işareti ile birleşmesinden ötürü, bunu \\t kaçış dizisi olarak algılıyor ve ona göre davranıyor.\n",
    "\n",
    "Belki yukarıdaki kodları şöyle yazarsak durumu anlamak daha kolay olabilir:"
   ]
  },
  {
   "cell_type": "code",
   "execution_count": 22,
   "id": "31748944-83f0-4f33-b049-310ece0bbe63",
   "metadata": {},
   "outputs": [
    {
     "name": "stdout",
     "output_type": "stream",
     "text": [
      "C:\n",
      "isan\\masraflar\toplam_masraf.txt\n"
     ]
    }
   ],
   "source": [
    "print(\"C:\\nisan\\masraflar\\toplam_masraf.txt\")"
   ]
  },
  {
   "cell_type": "markdown",
   "id": "12bfce84-3950-4a10-81b7-fa8b7b3d88e0",
   "metadata": {},
   "source": [
    "Gördüğünüz gibi, Python \\n kaçış dizisini gördüğü noktada alt satırın başına geçiyor ve \\t kaçış dizisini gördüğü noktada da önceki ve sonraki öğeler arasında bir sekme boşluğu bırakıyor. Bu durumu engellemek için ne yapmanız gerektiğini biliyorsunuz: Ya ters taksim işaretlerini çiftleyeceksiniz:\n",
    "\n"
   ]
  },
  {
   "cell_type": "code",
   "execution_count": 23,
   "id": "4ba832f2-b023-46c4-9e00-5600131fde32",
   "metadata": {},
   "outputs": [
    {
     "name": "stdout",
     "output_type": "stream",
     "text": [
      "C:\\nisan\\masraflar\\toplam_masraf.txt\n"
     ]
    }
   ],
   "source": [
    "print(\"C:\\\\nisan\\\\masraflar\\\\toplam_masraf.txt\")"
   ]
  },
  {
   "cell_type": "markdown",
   "id": "9831e67a-3e92-4cb5-a3f3-0487ae307f92",
   "metadata": {},
   "source": [
    "Ya da dizin adı ayracı olarak düz taksim işaretini kullanacaksınız:"
   ]
  },
  {
   "cell_type": "code",
   "execution_count": 24,
   "id": "964614c3-83d9-419b-8f56-ce5f6600365f",
   "metadata": {},
   "outputs": [
    {
     "name": "stdout",
     "output_type": "stream",
     "text": [
      "C:/nisan/masraflar/toplam_masraf.txt\n"
     ]
    }
   ],
   "source": [
    "print(\"C:/nisan/masraflar/toplam_masraf.txt\")"
   ]
  },
  {
   "cell_type": "markdown",
   "id": "72a03c3d-cd36-42c4-a508-f3bf41652d1f",
   "metadata": {},
   "source": [
    "Daha önce de söylediğimiz gibi, üçüncü ve daha pratik olan yolu biraz sonra göreceğiz. Şimdilik sadece biraz sabır…"
   ]
  },
  {
   "cell_type": "markdown",
   "id": "d55e791d-a933-48de-a827-8802ff0adc93",
   "metadata": {},
   "source": [
    "Zil Sesi (\\a)\n",
    "\n",
    "\n",
    "\\ işaretinin birleştiğinde farklı bir anlam türettiği bir başka harf de ‘a’ harfidir. \\ işareti ‘a’ harfiyle birleşerek !bip! benzeri bir zil sesi üretilmesini sağlayabilir:\n",
    "\n"
   ]
  },
  {
   "cell_type": "code",
   "execution_count": 33,
   "id": "fa2061ac-8f30-43f9-b6c5-b141e905b0b9",
   "metadata": {},
   "outputs": [
    {
     "name": "stdout",
     "output_type": "stream",
     "text": [
      "\u0007\n"
     ]
    }
   ],
   "source": [
    "print(\"\\a\")"
   ]
  },
  {
   "cell_type": "markdown",
   "id": "9f7da63a-b099-43a0-a2fe-8a58395d131d",
   "metadata": {},
   "source": [
    "İsterseniz yukarıdaki komutu şu şekilde yazarak, kafa şişirme katsayısını artırabilirsiniz:\n",
    "\n"
   ]
  },
  {
   "cell_type": "code",
   "execution_count": 34,
   "id": "fff7d60c-7acf-42b1-8a5d-7f825d24b8b9",
   "metadata": {},
   "outputs": [
    {
     "name": "stdout",
     "output_type": "stream",
     "text": [
      "\u0007\u0007\u0007\u0007\u0007\u0007\u0007\u0007\u0007\u0007\n"
     ]
    }
   ],
   "source": [
    "print(\"\\a\" * 10)\n"
   ]
  },
  {
   "cell_type": "markdown",
   "id": "d9387154-f327-481a-ac4a-97d9b8ee5244",
   "metadata": {},
   "source": [
    "Bu şekilde !bip! sesi 10 kez tekrar edilecektir. Ancak bu kaçış dizisi çoğunlukla sadece Windows üzerinde çalışacaktır. Bu kaçış dizisinin GNU/Linux üzerinde çalışma garantisi yoktur. Hatta bu kaçış dizisi bütün Windows sistemlerinde dahi çalışmayabilir. Dolayısıyla bu kaçış dizisinin işlevine bel bağlamak pek mantıklı bir iş değildir.\n",
    "\n",
    "Tıpkı \\n ve \\t kaçış dizilerinde olduğu gibi bu kaçış dizisinin varlığına karşı da uyanık olmalıyız. Burada da mesela ‘C:\\aylar’ gibi bir dizin adı tanımlamaya çalışırken aslında \\a kaçış dizisini oluşturuyor olabilirsiniz farkında olmadan."
   ]
  },
  {
   "cell_type": "markdown",
   "id": "015c9cc9-299f-4e00-baf2-15f0b8d0b626",
   "metadata": {},
   "source": [
    "Aynı Satır Başı (\\r)\n",
    "\n",
    "\n",
    "Bu kaçış dizisi, bir karakter dizisinde aynı satırın en başına dönülmesini sağlar. Bu kaçış dizisinin işlevini tanımına bakarak anlamak biraz zor olabilir. O yüzden dilerseniz bu kaçış dizisinin ne işe yaradığını bir örnek üzerinde göstermeye çalışalım:"
   ]
  },
  {
   "cell_type": "code",
   "execution_count": 35,
   "id": "705003b4-67fc-4409-935a-b25a124debec",
   "metadata": {},
   "outputs": [
    {
     "name": "stdout",
     "output_type": "stream",
     "text": [
      "Zalim Dünya!\n"
     ]
    }
   ],
   "source": [
    "print(\"Merhaba\\rZalim Dünya!\")"
   ]
  },
  {
   "cell_type": "markdown",
   "id": "cf539363-d91a-4683-ac80-804da24c220f",
   "metadata": {},
   "source": [
    "Burada olan şey şu: Normal şartlar altında, print() fonksiyonu içine yazdığımız bir karakter dizisindeki bütün karakterler soldan sağa doğru tek tek ekrana yazdırılır:"
   ]
  },
  {
   "cell_type": "code",
   "execution_count": 36,
   "id": "4f5277af-3074-4f67-93f3-56f7a69e8f09",
   "metadata": {},
   "outputs": [
    {
     "name": "stdout",
     "output_type": "stream",
     "text": [
      "Merhaba Zalim Dünya!\n"
     ]
    }
   ],
   "source": [
    "print(\"Merhaba Zalim Dünya!\")"
   ]
  },
  {
   "cell_type": "markdown",
   "id": "853640b5-b963-448b-a101-4741a17ef9e8",
   "metadata": {},
   "source": [
    "Ancak eğer karakter dizisinin herhangi bir yerine \\r adlı kaçış dizisini yerleştirirsek, bu kaçış dizisinin bulunduğu konumdan itibaren aynı satırın başına dönülecek ve \\r kaçış dizisinden sonra gelen bütün karakterler satır başındaki karakterlerin üzerine yazacaktır. Şu örnek daha açıklayıcı olabilir:"
   ]
  },
  {
   "cell_type": "code",
   "execution_count": 37,
   "id": "8f96215a-c812-4a68-bc93-6bac51453857",
   "metadata": {},
   "outputs": [
    {
     "name": "stdout",
     "output_type": "stream",
     "text": [
      "Dünyaba\n"
     ]
    }
   ],
   "source": [
    "print(\"Merhaba\\rDünya\")"
   ]
  },
  {
   "cell_type": "code",
   "execution_count": 38,
   "id": "ad738699-e6d8-4cde-9164-6602c895b270",
   "metadata": {},
   "outputs": [
    {
     "name": "stdout",
     "output_type": "stream",
     "text": [
      "izeülke\türkiye\\iller\n",
      "üfus.txt\n"
     ]
    }
   ],
   "source": [
    "print(\"C:\\ülke\\türkiye\\iller\\rize\\nüfus.txt\")"
   ]
  },
  {
   "cell_type": "markdown",
   "id": "57f7079c-91f2-4a1b-bde7-40c6e4a92bad",
   "metadata": {},
   "source": [
    "Burada farkında olmadan sadece bir değil, üç kaçış dizisi birden oluşturduk!"
   ]
  },
  {
   "cell_type": "markdown",
   "id": "178ea84c-cef9-48cd-a297-61784c5d5a41",
   "metadata": {},
   "source": [
    "Düşey Sekme (\\v)\n",
    "\n",
    "\n",
    "Eğer \\ işaretini ‘v’ harfiyle birlikte kullanırsak düşey sekme denen şeyi elde ederiz. Hemen bir örnek verelim:"
   ]
  },
  {
   "cell_type": "code",
   "execution_count": 39,
   "id": "b290f84f-7b7a-4093-b577-563f4a87029e",
   "metadata": {},
   "outputs": [
    {
     "name": "stdout",
     "output_type": "stream",
     "text": [
      "düşey\u000b",
      "sekme\n"
     ]
    }
   ],
   "source": [
    "print(\"düşey\\vsekme\")"
   ]
  },
  {
   "cell_type": "markdown",
   "id": "eb4c3406-24e2-431b-8070-c2f3f43aa3be",
   "metadata": {},
   "source": [
    "Yalnız bu \\v adlı kaçış dizisi her işletim sisteminde çalışmayabilir. Dolayısıyla, birden fazla platform üzerinde çalışmak üzere tasarladığınız programlarınızda bu kaçış dizisini kullanmanızı önermem."
   ]
  },
  {
   "cell_type": "markdown",
   "id": "1ce6539d-6242-4895-8039-5c97780ef3ef",
   "metadata": {},
   "source": [
    "İmleç Kaydırma (\\b)\n",
    "\n",
    "\n",
    "\\ kaçış dizisinin, biraraya geldiğinde özel bir anlam kazandığı bir başka harf de b’dir. \\b kaçış dizisinin görevi, imleci o anki konumundan sola kaydırmaktır. Bu tanım pek anlaşılır değil. O yüzden bir örnek verelim:"
   ]
  },
  {
   "cell_type": "code",
   "execution_count": 40,
   "id": "1ce2667d-540b-44f7-ad60-ebacd58778aa",
   "metadata": {},
   "outputs": [
    {
     "name": "stdout",
     "output_type": "stream",
     "text": [
      "yahoo.co\n"
     ]
    }
   ],
   "source": [
    "print(\"yahoo.com\\b\")"
   ]
  },
  {
   "cell_type": "code",
   "execution_count": 41,
   "id": "525f81bd-f6e5-415d-9fa5-4360476e4577",
   "metadata": {},
   "outputs": [
    {
     "name": "stdout",
     "output_type": "stream",
     "text": [
      "yahoo.co.uk\n"
     ]
    }
   ],
   "source": [
    "print(\"yahoo.com\\b.uk\")"
   ]
  },
  {
   "cell_type": "markdown",
   "id": "f3bef5c8-d205-46f9-b2b3-9a5e03d03851",
   "metadata": {},
   "source": [
    "Gördüğünüz gibi, \\b kaçış dizisinin etkisiyle imleç bir karakter sola kaydığı için, ‘com’ kelimesinin son harfi silindi ve bunun yerine \\b kaçış dizisinden sonra gelen .uk karakterleri yerleştirildi. Dolayısıyla biz de şu çıktıyı aldık:"
   ]
  },
  {
   "cell_type": "markdown",
   "id": "1f69c326-36e0-4976-bd23-fcc9c733b092",
   "metadata": {},
   "source": [
    "yahoo.co.uk"
   ]
  },
  {
   "cell_type": "markdown",
   "id": "02dc99f5-e7c9-4143-a9c9-801dbbf25d4f",
   "metadata": {},
   "source": [
    "Bir örnek daha verelim…\n",
    "\n",
    "Bildiğiniz gibi, print() fonksiyonu, kendisine verilen parametreler arasına birer boşluk yerleştirir:"
   ]
  },
  {
   "cell_type": "code",
   "execution_count": 42,
   "id": "688dfbaf-5673-4439-9c65-eceb0a351ad3",
   "metadata": {},
   "outputs": [
    {
     "name": "stdout",
     "output_type": "stream",
     "text": [
      "google . com\n"
     ]
    }
   ],
   "source": [
    "print('google', '.', 'com')"
   ]
  },
  {
   "cell_type": "markdown",
   "id": "511e2f5b-3a15-40a7-aad7-832d51e93696",
   "metadata": {},
   "source": [
    "Biz bu öğeleri birbirine bitiştirmek için şöyle bir yol izleyebileceğimizi biliyoruz:"
   ]
  },
  {
   "cell_type": "code",
   "execution_count": 44,
   "id": "5d312ce1-6aa5-40d1-9bef-0566609239c7",
   "metadata": {},
   "outputs": [
    {
     "name": "stdout",
     "output_type": "stream",
     "text": [
      "google.com\n"
     ]
    }
   ],
   "source": [
    "print('google', '.', 'com', sep='')"
   ]
  },
  {
   "cell_type": "markdown",
   "id": "8bcbd246-fbee-4082-8478-667b7f7227da",
   "metadata": {},
   "source": [
    "İşte aynı etkiyi \\b kaçış dizisini kullanarak da elde edebiliriz:"
   ]
  },
  {
   "cell_type": "code",
   "execution_count": 45,
   "id": "160de435-92bf-432b-8d72-b8359d6c0c5b",
   "metadata": {},
   "outputs": [
    {
     "name": "stdout",
     "output_type": "stream",
     "text": [
      "google.com\n"
     ]
    }
   ],
   "source": [
    "print('google', '\\b.', '\\bcom')"
   ]
  },
  {
   "cell_type": "markdown",
   "id": "71cf9dcc-2de3-4180-8f18-acd02222a6ab",
   "metadata": {},
   "source": [
    "Gördüğünüz gibi, \\b kaçış dizisi, ‘.’ ve ‘com’ parametrelerinden önce imleci birer karakter sola kaydırdığı için, parametreler arasındaki boşluk karakterleri ortadan kalktı."
   ]
  },
  {
   "cell_type": "markdown",
   "id": "ab8c6f35-4e00-48a0-af95-6abb70b294e4",
   "metadata": {},
   "source": [
    "Küçük Unicode (\\u)\n",
    "\n",
    "\n",
    "Tıpkı bundan önceki kaçış dizileri gibi, karakter dizileri içindeki varlığı konusunda dikkatli olmamız gereken bir başka kaçış dizisi de \\u adlı kaçış dizisidir. Eğer bu kaçış dizisini tanımaz ve dikkatli kullanmazsak, yazdığımız programlar tespit etmesi çok güç hatalar üretebilir.\n",
    "\n",
    "Örneğin şöyle bir çıktı vermek istediğinizi düşünün:\n",
    "\n",
    "Dosya konumu: C:\\users\\zeynep\\gizli\\dosya.txt\n",
    "\n",
    "Bu çıktıyı normal yollardan vermeye çalışırsak Python bize bir hata mesajı gösterecektir:\n",
    "\n"
   ]
  },
  {
   "cell_type": "code",
   "execution_count": 48,
   "id": "f885a1dd-39a3-4ace-8b67-557301a75fe9",
   "metadata": {},
   "outputs": [
    {
     "ename": "SyntaxError",
     "evalue": "(unicode error) 'unicodeescape' codec can't decode bytes in position 16-17: truncated \\uXXXX escape (3443337163.py, line 1)",
     "output_type": "error",
     "traceback": [
      "\u001b[0;36m  Cell \u001b[0;32mIn[48], line 1\u001b[0;36m\u001b[0m\n\u001b[0;31m    print(\"Dosya konumu: C:\\users\\zeynep\\gizli\\dosya.txt\")\u001b[0m\n\u001b[0m                                                         ^\u001b[0m\n\u001b[0;31mSyntaxError\u001b[0m\u001b[0;31m:\u001b[0m (unicode error) 'unicodeescape' codec can't decode bytes in position 16-17: truncated \\uXXXX escape\n"
     ]
    }
   ],
   "source": [
    "print(\"Dosya konumu: C:\\users\\zeynep\\gizli\\dosya.txt\")"
   ]
  },
  {
   "cell_type": "markdown",
   "id": "bd1f0556-f171-4a44-87e2-6b3b7ecf5eed",
   "metadata": {},
   "source": [
    "Belki sağda solda ‘UNICODE’ diye bir şey duymuşsunuzdur. Eğer şimdiye kadar böyle bir şey duymadıysanız veya duyduysanız bile ne olduğunu bilmiyorsanız hiç ziyanı yok. Birkaç bölüm sonra bunun ne anlama geldiğini bütün ayrıntılarıyla anlatacağız. Biz şimdilik sadece şunu bilelim: UNICODE, karakterlerin, harflerin, sayıların ve bilgisayar ekranında gördüğümüz öteki bütün işaretlerin her biri için tek ve benzersiz bir numaranın tanımlandığı bir sistemdir. Bu sistemde, ‘kod konumu’ (code point) adı verilen bu numaralar özel bir şekilde gösterilir. Örneğin ‘ı’ harfi UNICODE sisteminde şu şekilde temsil edilir:\n",
    "\n",
    "u+0131"
   ]
  },
  {
   "cell_type": "markdown",
   "id": "6af7f837-d833-4302-bb69-44d3af2a7c64",
   "metadata": {},
   "source": [
    "Aynı şekilde ‘a’ harfi bu sistemde şu kod konumu ile gösterilir:\n",
    "\n",
    "u+0061"
   ]
  },
  {
   "cell_type": "markdown",
   "id": "6c21543c-36fa-4cd9-a485-1605520395d3",
   "metadata": {},
   "source": [
    "Python programlama dilinde ise, yukarıdaki kod konumu düzeni şöyle gösterilir:\n",
    "\n",
    "\\\\u0131"
   ]
  },
  {
   "cell_type": "code",
   "execution_count": 49,
   "id": "86547914-29b0-4602-8d24-0190a871f0c1",
   "metadata": {},
   "outputs": [
    {
     "data": {
      "text/plain": [
       "'İ'"
      ]
     },
     "execution_count": 49,
     "metadata": {},
     "output_type": "execute_result"
    }
   ],
   "source": [
    "'\\u0130'\n"
   ]
  },
  {
   "cell_type": "code",
   "execution_count": 50,
   "id": "c4238171-7380-4ec7-9b34-3b53edec83a3",
   "metadata": {},
   "outputs": [
    {
     "data": {
      "text/plain": [
       "'p'"
      ]
     },
     "execution_count": 50,
     "metadata": {},
     "output_type": "execute_result"
    }
   ],
   "source": [
    "'\\u0070'"
   ]
  },
  {
   "cell_type": "code",
   "execution_count": 51,
   "id": "f6f57984-5e9a-4bf6-82ea-a36b4cac6ff2",
   "metadata": {},
   "outputs": [
    {
     "ename": "SyntaxError",
     "evalue": "(unicode error) 'unicodeescape' codec can't decode bytes in position 0-3: truncated \\uXXXX escape (380000262.py, line 1)",
     "output_type": "error",
     "traceback": [
      "\u001b[0;36m  Cell \u001b[0;32mIn[51], line 1\u001b[0;36m\u001b[0m\n\u001b[0;31m    \"\\ufdsf\"\u001b[0m\n\u001b[0m            ^\u001b[0m\n\u001b[0;31mSyntaxError\u001b[0m\u001b[0;31m:\u001b[0m (unicode error) 'unicodeescape' codec can't decode bytes in position 0-3: truncated \\uXXXX escape\n"
     ]
    }
   ],
   "source": [
    "\"\\ufdsf\""
   ]
  },
  {
   "cell_type": "markdown",
   "id": "1df2f79b-1e79-4a00-99b5-7d399b1a543a",
   "metadata": {},
   "source": [
    "Gördüğünüz gibi, eğer \\u kaçış dizisinden sonra doğru bir kod konumu belirtmezsek Python bize bir hata mesajı gösteriyor…\n",
    "\n",
    "Bu hata mesajının, biraz önce print(\"Dosya konumu: C:\\users\\zeynep\\gizli\\dosya.txt\") kodunu yazdıktan sonra aldığımız hata ile aynı olduğuna dikkat edin. Tıpkı \\ufdsf örneğinde olduğu gibi, \\users ifadesi de varolan bir UNICODE kod konumuna karşılık gelmediği için, Python’ın hata vermekten başka çaresi kalmıyor.\n",
    "\n",
    "Biz bu örnekte ‘users’ kelimesini kullanmaya çalışıyoruz, ama ‘u’ harfinden hemen önce gelen \\ kaçış dizisi nedeniyle, hiç farkında olmadan Python açısından önemli bir karakter dizisi (\\u) meydana getirmiş oluyoruz. O yüzden, böyle can sıkıcı hatalarla karşılaşmamak için olası kaçış dizilerine karşı her zaman uyanık olmamız gerekiyor.\n",
    "\n",
    "Peki biz bu kaçış dizisi yüzünden, yazdığımız programlarda Dosya konumu: C:\\users\\zeynep\\gizli\\dosya.txt”) gibi bir çıktı veremeyecek miyiz?\n",
    "\n",
    "Verebileceğimizi ve bunun bir yolu yordamı olduğunu biliyorsunuz:"
   ]
  },
  {
   "cell_type": "code",
   "execution_count": 52,
   "id": "32e3eb3e-3f03-4c69-8c96-e164f4940d51",
   "metadata": {},
   "outputs": [
    {
     "name": "stdout",
     "output_type": "stream",
     "text": [
      "Dosya konumu: C:\\users\\zeynep\\gizli\\dosya.txt\n"
     ]
    }
   ],
   "source": [
    "print(\"Dosya konumu: C:\\\\users\\\\zeynep\\\\gizli\\\\dosya.txt\")"
   ]
  },
  {
   "cell_type": "markdown",
   "id": "1f3c4293-f72a-442d-93ae-ca403c52058b",
   "metadata": {},
   "source": [
    "Gördüğünüz gibi, karakter dizisi içinde geçen bütün \\ işaretlerini çiftleyerek sorunumuzu çözdük. Buradaki gibi bir sorunla karşılaşmamak için, dizin adlarını ayırırken ters taksim işareti yerine düz taksim işaretini kullanmayı da tercih edebilirsiniz:"
   ]
  },
  {
   "cell_type": "code",
   "execution_count": 53,
   "id": "bd073609-fd48-4a66-b8ab-6aca62f49670",
   "metadata": {},
   "outputs": [
    {
     "name": "stdout",
     "output_type": "stream",
     "text": [
      "Dosya konumu: C:/users/zeynep/gizli/dosya.txt\n"
     ]
    }
   ],
   "source": [
    "print(\"Dosya konumu: C:/users/zeynep/gizli/dosya.txt\")"
   ]
  },
  {
   "cell_type": "markdown",
   "id": "0cf669a0-ae53-4125-b4ee-b114eb68cbf4",
   "metadata": {},
   "source": [
    "Biraz sonra bu sorunu halletmenin üçüncü ve daha kolay bir yönteminden daha söz edeceğiz. Ama biz şimdilik bu kaçış dizisini bir kenara bırakıp başka bir kaçış dizisini incelemeye geçelim.\n",
    "\n"
   ]
  },
  {
   "cell_type": "markdown",
   "id": "ea1614ab-8d99-48b2-8d47-62c27a8cb98d",
   "metadata": {},
   "source": [
    "Büyük Unicode (\\U)\n",
    "\n",
    "\n",
    "Bu kaçış dizisi biraz önce gördüğümüz \\u adlı kaçış dizisiyle hemen hemen aynı anlama gelir. Bu kaçış dizisi de, tıpkı \\u gibi, UNICODE kod konumlarını temsil etmek için kullanılır. Ancak U ile gösterilen kod konumları u ile gösterilenlere göre biraz daha uzundur. Örneğin, hatırlarsanız u kaçış dizisini kullanarak ‘ı’ harfinin UNICODE kod konumunu şöyle temsil ediyorduk:\n",
    "\n"
   ]
  },
  {
   "cell_type": "code",
   "execution_count": 55,
   "id": "c6b5481b-b29d-48c8-8bba-5e0d777779ec",
   "metadata": {},
   "outputs": [
    {
     "data": {
      "text/plain": [
       "'ı'"
      ]
     },
     "execution_count": 55,
     "metadata": {},
     "output_type": "execute_result"
    }
   ],
   "source": [
    "'\\u0131'"
   ]
  },
  {
   "cell_type": "markdown",
   "id": "42394a36-6d16-4395-b9bd-e41edbc503cf",
   "metadata": {},
   "source": [
    "Eğer aynı kod konumunu U adlı kaçış dizisi ile göstermek istersek şöyle bir şey yazmamız gerekir:"
   ]
  },
  {
   "cell_type": "code",
   "execution_count": null,
   "id": "c1660af4-5640-427c-abef-91570704c416",
   "metadata": {},
   "outputs": [],
   "source": []
  },
  {
   "cell_type": "code",
   "execution_count": 56,
   "id": "2ab6b193-a527-49fb-9e63-4d674178e5a0",
   "metadata": {},
   "outputs": [
    {
     "data": {
      "text/plain": [
       "'ı'"
      ]
     },
     "execution_count": 56,
     "metadata": {},
     "output_type": "execute_result"
    }
   ],
   "source": [
    "'\\U00000131'"
   ]
  },
  {
   "cell_type": "markdown",
   "id": "d56287f7-2169-4686-a176-59008cc32a0c",
   "metadata": {},
   "source": [
    "Gördüğünüz gibi, burada \\U kaçış dizisinden sonra gelen kısım toplam 8 haneli bir sayıdan oluşuyor. u kaçış dizisinde ise bu kısmı toplam 4 haneli bir sayı olarak yazıyorduk. İşte \\u kaçış dizisi ile U kaçış dizisi arasındaki fark budur. u kaçış dizisi hakkında söylediğimiz öteki her şey U kaçış dizisi için de geçerlidir."
   ]
  },
  {
   "cell_type": "markdown",
   "id": "9cfb9368-97d6-4c28-a70e-614a73329e06",
   "metadata": {},
   "source": [
    "Uzun Ad (\\N)\n",
    "\n",
    "\n",
    "UNICODE sistemi ile ilgili bir başka kaçış dizisi de \\N adlı kaçış dizisidir.\n",
    "\n",
    "Dediğimiz gibi, UNICODE sistemine ilişkin ayrıntılardan ilerleyen derslerde söz edeceğiz, ama bu sistemle ilgili ufak bir bilgi daha verelim.\n",
    "\n",
    "UNICODE sisteminde her karakterin tek ve benzersiz bir kod konumu olduğu gibi, tek ve benzersiz bir de uzun adı vardır. Örneğin ‘a’ harfinin UNICODE sistemindeki uzun adı şudur:\n",
    "\n",
    "LATIN SMALL LETTER A"
   ]
  },
  {
   "cell_type": "markdown",
   "id": "9f5225ad-9f8a-4ae8-bf85-d2e96ffdc9bb",
   "metadata": {},
   "source": [
    "Bir karakterin UNICODE sistemindeki uzun adını öğrenmek için unicodedata adlı bir modülden yararlanabilirsiniz:"
   ]
  },
  {
   "cell_type": "code",
   "execution_count": 57,
   "id": "c042f79c-f3be-4d14-89db-d59758813da0",
   "metadata": {},
   "outputs": [
    {
     "data": {
      "text/plain": [
       "'LATIN SMALL LETTER A'"
      ]
     },
     "execution_count": 57,
     "metadata": {},
     "output_type": "execute_result"
    }
   ],
   "source": [
    "import unicodedata\n",
    "unicodedata.name('a')"
   ]
  },
  {
   "cell_type": "code",
   "execution_count": 60,
   "id": "40acb911-e1b6-4bce-ba05-f93cdb3f4176",
   "metadata": {},
   "outputs": [
    {
     "data": {
      "text/plain": [
       "'LATIN SMALL LETTER S'"
      ]
     },
     "execution_count": 60,
     "metadata": {},
     "output_type": "execute_result"
    }
   ],
   "source": [
    "#import unicodedata\n",
    "unicodedata.name('s')\n",
    "                 "
   ]
  },
  {
   "cell_type": "markdown",
   "id": "c00ca9c5-0b92-43b9-880a-ccc5ef466e3c",
   "metadata": {},
   "source": [
    "Bu arada, daha önce de söylediğimiz gibi, bu ‘modül’ kavramına şimdilik takılmayın. İlerde modülleri ayrıntılı olarak inceleyeceğiz. Şimdilik unicodedata denen şeyin, (tıpkı daha önce örneklerini gördüğümüz os, sys ve keyword gibi) bir modül olduğunu ve bu modül içindeki name adlı bir fonksiyonu kullanarak, parantez içinde belirttiğimiz herhangi bir karakterin UNICODE sistemindeki uzun adını elde edebileceğimizi bilelim yeter.\n",
    "\n",
    "İşte \\N kaçış dizisi bu uzun isimleri, Python programlarımızda kullanma imkanı verir bize. Bu kaçış dizisini, karakterlerin UNICODE sistemindeki uzun adları ile birlikte kullanarak asıl karakterleri elde edebiliriz. Dikkatlice bakın:\n",
    "\n"
   ]
  },
  {
   "cell_type": "code",
   "execution_count": 61,
   "id": "07e859ee-5ac3-47f2-b82e-ce517b0c8e5c",
   "metadata": {},
   "outputs": [
    {
     "name": "stdout",
     "output_type": "stream",
     "text": [
      "a\n"
     ]
    }
   ],
   "source": [
    "print(\"\\N{LATIN SMALL LETTER A}\")"
   ]
  },
  {
   "cell_type": "code",
   "execution_count": 62,
   "id": "4e552f7e-a7ec-41ef-a4c3-9708ad6226ba",
   "metadata": {},
   "outputs": [
    {
     "name": "stdout",
     "output_type": "stream",
     "text": [
      "Ş\n"
     ]
    }
   ],
   "source": [
    "print(\"\\N{LATIN CAPITAL LETTER S WITH CEDILLA}\")\n"
   ]
  },
  {
   "cell_type": "code",
   "execution_count": 63,
   "id": "d24c7b14-225e-4a12-88b2-efa8411075f7",
   "metadata": {},
   "outputs": [
    {
     "ename": "SyntaxError",
     "evalue": "(unicode error) 'unicodeescape' codec can't decode bytes in position 0-1: malformed \\N character escape (16852350.py, line 1)",
     "output_type": "error",
     "traceback": [
      "\u001b[0;36m  Cell \u001b[0;32mIn[63], line 1\u001b[0;36m\u001b[0m\n\u001b[0;31m    print(\"\\Nisan\")\u001b[0m\n\u001b[0m                  ^\u001b[0m\n\u001b[0;31mSyntaxError\u001b[0m\u001b[0;31m:\u001b[0m (unicode error) 'unicodeescape' codec can't decode bytes in position 0-1: malformed \\N character escape\n"
     ]
    }
   ],
   "source": [
    "print(\"\\Nisan\")"
   ]
  },
  {
   "cell_type": "markdown",
   "id": "120372b2-077d-41a6-b01e-107ee550c9ff",
   "metadata": {},
   "source": [
    "Gördüğünüz gibi, herhangi bir karşılığı olmayan bir uzun ad belirttiğimizde Python bize bir hata mesajı gösteriyor. Çünkü Python \\N kaçış dizisinin hemen ardından { işaretinin getirilmesini ve sonra da UNICODE sistemi dahilinde geçerli bir uzun ad belirtilmesini bekliyor. Yukarıdaki örnekte \\N kaçış dizisinden sonra { işareti yok. Zaten \\N kaçış dizisinin hemen ardından gelen ‘isan’ ifadesi de doğru bir uzun ada işaret etmiyor. Dolayısıyla da Python’ın bize hata mesajı göstermekten başka çaresi kalmıyor…\n",
    "\n",
    "\\u, \\U ve \\N kaçış dizileri, UNICODE sistemi ile ilgili çalışmalar yapmak isteyen programcılar için Python programlama dilinin sunduğu faydalı araçlardan yalnızca birkaçıdır. Ancak bu araçların sizin işinize yaramayacağını asla düşünmeyin. Zira \\u, \\U ve \\N kaçış dizileri ile ilgili yukarıdaki durum hiç beklemediğiniz bir anda sizi de vurabilir. Çünkü bu kaçış dizilerinin oluşturduğu risk hiç de öyle nadir karşılaşılacak bir sorun değildir.\n",
    "\n",
    "Bildiğiniz gibi Windows 7’de kullanıcının dosyalarını içeren dizin adı C:\\Users\\kullanıcı_adı şeklinde gösteriliyor. Dolayısıyla Windows kullananlar UNICODE kaçış dizilerinden kaynaklanan bu tuzağa her an düşebilir. Ya da eğer adınız ‘u’ veya ‘n’ harfi ile başlıyorsa yine bu tuzağa düşme ihtimaliniz epey yüksek olacak, C:\\Users\\umut veya C:\\Users\\Nihat gibi bir dizin adı belirtirken çok dikkatli olmanız gerekecektir. Zira özellikle dosyalar üzerinde işlem yaparken, bu tür dizin adlarını sık sık kullanmak durumunda kalacaksınız. Bu yüzden, alelade bir kelime yazdığınızı zannederken hiç farkında olmadan bir kaçış dizisi tanımlıyor olma ihtimalini her zaman göz önünde bulundurmalı ve buna uygun önlemleri almış olmalısınız."
   ]
  },
  {
   "cell_type": "markdown",
   "id": "58c74ffa-2a81-4c47-9201-b2e3293adc50",
   "metadata": {},
   "source": [
    "----Onaltılı Karakter (\\x)\n",
    "‘x’ harfi de \\ işareti ile birleştiğinde özel anlam kazanarak bir kaçış dizisi meydana getirir.\n",
    "\n",
    "\\x kaçış dizisini kullanarak, onaltılı (hexadecimal) sayma sistemindeki bir sayının karakter karşılığını gösterebilirsiniz. Dikkatlice bakın:"
   ]
  },
  {
   "cell_type": "code",
   "execution_count": 64,
   "id": "71b0b93c-6197-46a4-8698-659efb77cffd",
   "metadata": {},
   "outputs": [
    {
     "data": {
      "text/plain": [
       "'A'"
      ]
     },
     "execution_count": 64,
     "metadata": {},
     "output_type": "execute_result"
    }
   ],
   "source": [
    "\"\\x41\""
   ]
  },
  {
   "cell_type": "markdown",
   "id": "e55b0166-b424-404a-a82f-aa9fb1786964",
   "metadata": {},
   "source": [
    "Onaltılı sayma sistemindeki 41 sayısı ‘A’ harfine karşılık gelir. Eğer hangi karakterlerin hangi sayılara karşılık geldiğini merak ediyorsanız https://ascii.cl/ adresindeki tabloyu inceleyebilirsiniz. Bu tabloda ‘hex’ sütunu altında gösterilen sayılar onaltılı sayılar olup, ‘symbol’ sütununda gösterilen karakterlere karşılık gelirler. Örneğin ‘hex’ sütunundaki 4E sayısı ‘symbol’ sütunundaki ‘N’ harfine karşılık gelir. Bu durumu Python’la da teyit edebilirsiniz:\n",
    "\n"
   ]
  },
  {
   "cell_type": "code",
   "execution_count": 65,
   "id": "ec7b9df7-1e23-42d8-b37a-7fc9b75f3f93",
   "metadata": {},
   "outputs": [
    {
     "data": {
      "text/plain": [
       "'N'"
      ]
     },
     "execution_count": 65,
     "metadata": {},
     "output_type": "execute_result"
    }
   ],
   "source": [
    "\"\\x4E\""
   ]
  },
  {
   "cell_type": "markdown",
   "id": "49fdccbe-1d3b-429a-83bd-06c4716480c2",
   "metadata": {},
   "source": [
    "Eğer sayılarla karakterler arasındaki bağlantının tam olarak ne olduğunu bilmiyorsanız hiç endişe etmeyin. Birkaç bölüm sonra sayılarla karakterler arasında nasıl bir bağ olduğunu gayet ayrıntılı bir şekilde anlatacağız. Biz şimdilik yalnızca \\x karakter dizisinin özel bir kaçış dizisine karşılık geldiğini ve bu kaçış dizisini karakter dizileri içinde kullanırken dikkatli olmamız gerektiğini bilelim yeter:"
   ]
  },
  {
   "cell_type": "code",
   "execution_count": 66,
   "id": "affd9b38-b2f9-4b97-94fa-721c3fda4fd6",
   "metadata": {},
   "outputs": [
    {
     "ename": "SyntaxError",
     "evalue": "(unicode error) 'unicodeescape' codec can't decode bytes in position 2-3: truncated \\UXXXXXXXX escape (2594604059.py, line 1)",
     "output_type": "error",
     "traceback": [
      "\u001b[0;36m  Cell \u001b[0;32mIn[66], line 1\u001b[0;36m\u001b[0m\n\u001b[0;31m    print(\"C:\\Users\\Ayşe\\xp_dosyaları\")\u001b[0m\n\u001b[0m                                      ^\u001b[0m\n\u001b[0;31mSyntaxError\u001b[0m\u001b[0;31m:\u001b[0m (unicode error) 'unicodeescape' codec can't decode bytes in position 2-3: truncated \\UXXXXXXXX escape\n"
     ]
    }
   ],
   "source": [
    "print(\"C:\\Users\\Ayşe\\xp_dosyaları\")\n"
   ]
  },
  {
   "cell_type": "markdown",
   "id": "327fc2f3-f9e5-4450-8966-a976aea6e75f",
   "metadata": {},
   "source": [
    "Gördüğünüz gibi, Python \\x ifadesinden sonra onaltılı bir sayı belirtmenizi bekliyor. Halbuki biz burada \\x ifadesini ‘xp_dosyaları’ adlı dizini gösterebilmek için kullanmıştık. Ama görünüşe göre yanlışlıkla Python için özel bir anlam ifade eden bir karakter dizisi oluşturmuşuz…\n",
    "\n"
   ]
  },
  {
   "cell_type": "markdown",
   "id": "f5cda2cf-b5fd-42f7-9a75-514cfe9e5d44",
   "metadata": {},
   "source": [
    "+++++++Etkisizleştirme (r)\n",
    "\n",
    "\n",
    "Dediğimiz gibi, Python’daki en temel kaçış dizisi \\ işaretidir. Bu işaret bazı başka harflerle birleşerek yeni kaçış dizileri de oluşturabilir.\n",
    "\n",
    "Python’da \\ işaretinin dışında temel bir kaçış dizisi daha bulunur. Bu kaçış dizisi ‘r’ harfidir. Şimdi bu kaçış dizisinin nasıl kullanılacağını ve ne işe yaradığını inceleyelim:\n",
    "\n",
    "Şöyle bir çıktı vermek istediğimizi düşünün:\n",
    "\n",
    "\n",
    "\n",
    "Kurulum dizini: C:\\aylar\\nisan\\toplam masraf\n",
    "\n",
    "\n",
    "Bildiğimiz yoldan bu çıktıyı vermeye çalışırsak neler olacağını adınız gibi biliyorsunuz:\n",
    "\n",
    "\n"
   ]
  },
  {
   "cell_type": "code",
   "execution_count": 68,
   "id": "73578c2a-22df-48c3-ae28-2426e99f95b2",
   "metadata": {},
   "outputs": [
    {
     "name": "stdout",
     "output_type": "stream",
     "text": [
      "Kurulum dizini: C:\u0007ylar\n",
      "isan\toplam masraf\n"
     ]
    }
   ],
   "source": [
    "print(\"Kurulum dizini: C:\\aylar\\nisan\\toplam masraf\")"
   ]
  },
  {
   "cell_type": "markdown",
   "id": "2a95d2d2-09c3-4685-aea2-d90620850851",
   "metadata": {},
   "source": [
    "Python tabii ki, karakter dizisi içinde geçen ‘\\aylar’, ‘\\nisan’, ve ‘\\toplam masraf’ ifadelerinin ilk karakterlerini yanlış anladı! \\a, \\n ve \\t gibi ifadeler Python’ın gözünde birer kaçış dizisi. Dolayısıyla Python \\a karakterlerini görünce bir !bip! sesi çıkarıyor, \\n karakterlerini görünce satır başına geçiyor ve \\t karakterlerini görünce de Tab tuşuna basılmış gibi bir tepki veriyor. Sonuç olarak da yukarıdaki gibi bir çıktı üretiyor.\n",
    "\n",
    "Daha önce bu durumu şöyle bir kod yazarak engellemiştik:"
   ]
  },
  {
   "cell_type": "code",
   "execution_count": 69,
   "id": "a9c9d652-d80d-4af0-b1e8-8d21c0c395ae",
   "metadata": {},
   "outputs": [
    {
     "name": "stdout",
     "output_type": "stream",
     "text": [
      "Kurulum dizini: C:\\aylar\\nisan\\toplam masraf\n"
     ]
    }
   ],
   "source": [
    "print(\"Kurulum dizini: C:\\\\aylar\\\\nisan\\\\toplam masraf\")"
   ]
  },
  {
   "cell_type": "markdown",
   "id": "29f75737-0fd2-4fa9-9f49-8bd733f79976",
   "metadata": {},
   "source": [
    "Burada, \\ işaretlerinin her birini çiftleyerek sorunun üstesinden geldik. Yukarıdaki yöntem doğru ve kabul görmüş bir çözümdür. Ama bu sorunun üstesinden gelmenin çok daha basit ve pratik bir yolu var. Bakalım:"
   ]
  },
  {
   "cell_type": "code",
   "execution_count": 70,
   "id": "ffa80d8b-604f-4591-a1db-f3daeaff9b76",
   "metadata": {},
   "outputs": [
    {
     "name": "stdout",
     "output_type": "stream",
     "text": [
      "Kurulum dizini: C:\\aylar\\nisan\\toplam masraf\n"
     ]
    }
   ],
   "source": [
    "print(r\"Kurulum dizini: C:\\aylar\\nisan\\toplam masraf\")"
   ]
  },
  {
   "cell_type": "markdown",
   "id": "f67c12e1-f9e5-469f-a3a5-125fe4522f1c",
   "metadata": {},
   "source": [
    "Gördüğünüz gibi, karakter dizisinin baş kısmının dış tarafına bir adet r harfi yerleştirerek sorunun üstesinden geliyoruz. Bu kaçış dizisinin, kullanım açısından öteki kaçış dizilerinden farklı olduğuna dikkat edin. Öteki kaçış dizileri karakter dizisinin içinde yer alırken, bu kaçış dizisi karakter dizisinin dışına yerleştiriliyor.\n",
    "\n",
    "Bu kaçış dizisinin tam olarak nasıl işlediğini görmek için dilerseniz bir örnek daha verelim:"
   ]
  },
  {
   "cell_type": "code",
   "execution_count": 71,
   "id": "7d914b51-3a88-43ab-bac4-ed39a8fef18c",
   "metadata": {},
   "outputs": [
    {
     "name": "stdout",
     "output_type": "stream",
     "text": [
      "Kaçış dizileri: \\, \n",
      ", \t, \u0007, \\, r\n"
     ]
    }
   ],
   "source": [
    "print(\"Kaçış dizileri: \\, \\n, \\t, \\a, \\\\, r\")"
   ]
  },
  {
   "cell_type": "markdown",
   "id": "2cc093ce-3ce7-417a-a723-fade12cf591a",
   "metadata": {},
   "source": [
    "Burada da Python bizim yapmak istediğimiz şeyi anlayamadı ve karakter dizisi içinde geçen kaçış dizilerini doğrudan ekrana yazdırmak yerine bu kaçış dizilerinin işlevlerini yerine getirmesine izin verdi. Tıpkı biraz önceki örnekte olduğu gibi, istersek kaçış dizilerini çiftleyerek bu sorunu aşabiliriz:\n",
    "\n"
   ]
  },
  {
   "cell_type": "code",
   "execution_count": 72,
   "id": "19479060-73e5-4755-80b5-9ec0e7d4f451",
   "metadata": {},
   "outputs": [
    {
     "name": "stdout",
     "output_type": "stream",
     "text": [
      "Kaçış dizileri: \\, \\n, \\t, \\a, \\\\, r\n"
     ]
    }
   ],
   "source": [
    "print(\"Kaçış dizileri: \\\\, \\\\n, \\\\t, \\\\a, \\\\\\, r\")"
   ]
  },
  {
   "cell_type": "markdown",
   "id": "cebb77bd-5678-48c6-89bd-d5f18e1e3d2e",
   "metadata": {},
   "source": [
    "Ama tabii ki bunun çok daha kolay bir yöntemi olduğunu biliyorsunuz:"
   ]
  },
  {
   "cell_type": "code",
   "execution_count": 73,
   "id": "921b6b05-cc5a-4b79-9455-364214de03a6",
   "metadata": {},
   "outputs": [
    {
     "name": "stdout",
     "output_type": "stream",
     "text": [
      "Kaçış dizileri: \\, \\n, \\t, \\a, \\\\, r\n"
     ]
    }
   ],
   "source": [
    "print(r\"Kaçış dizileri: \\, \\n, \\t, \\a, \\\\, r\")"
   ]
  },
  {
   "cell_type": "markdown",
   "id": "13b2e55d-2842-4608-93eb-628273b5dcb6",
   "metadata": {},
   "source": [
    "Gördüğünüz gibi, karakter dizisinin başına getirdiğimiz r kaçış dizisi, karakter dizisi içinde geçen kaçış dizilerinin işlevlerini yerine getirmesine engel olarak, istediğimiz çıktıyı elde etmemizi sağlıyor.\n",
    "\n",
    "Bu arada bu kaçış dizisini, daha önce öğrendiğimiz \\r adlı kaçış dizisi ile karıştırmamaya dikkat ediyoruz.\n",
    "\n",
    "Python’daki bütün kaçış dizilerinden söz ettiğimize göre, konuyu kapatmadan önce önemli bir ayrıntıdan söz edelim.\n",
    "\n",
    "Python’da karakter dizilerinin sonunda sadece çift sayıda \\ işareti bulunabilir. Tek sayıda \\ işareti kullanıldığında karakter dizisini bitiren tırnak işareti etkisizleşeceği için çakışma sorunu ortaya çıkar. Bu etkisizleşmeyi, karakter dizisinin başına koyduğunuz ‘r’ kaçış dizisi de engelleyemez. Yani:\n",
    "\n"
   ]
  },
  {
   "cell_type": "code",
   "execution_count": 74,
   "id": "f042a278-844b-4b74-844f-029220daf729",
   "metadata": {},
   "outputs": [
    {
     "ename": "SyntaxError",
     "evalue": "unterminated string literal (detected at line 1) (1054360507.py, line 1)",
     "output_type": "error",
     "traceback": [
      "\u001b[0;36m  Cell \u001b[0;32mIn[74], line 1\u001b[0;36m\u001b[0m\n\u001b[0;31m    print(\"Kaçış dizisi: \\\")\u001b[0m\n\u001b[0m          ^\u001b[0m\n\u001b[0;31mSyntaxError\u001b[0m\u001b[0;31m:\u001b[0m unterminated string literal (detected at line 1)\n"
     ]
    }
   ],
   "source": [
    "print(\"Kaçış dizisi: \\\")"
   ]
  },
  {
   "cell_type": "markdown",
   "id": "d08f21f7-3dec-477d-ad92-a6dc29e269c0",
   "metadata": {},
   "source": [
    "Bu şekilde bir tanımlama yaptığımızda Python bize bir hata mesajı gösterir. Çünkü kapanış tırnağının hemen öncesine yerleştirdiğimiz \\ kaçış dizisi, Python’ın karakter dizisini kapatan tırnak işaretini görmezden gelmesine yol açarak bu tırnağı etkisizleştiriyor. Böylece sanki karakter dizisini tanımlarken kapanış tırnağını hiç yazmamışız gibi bir sonuç ortaya çıkıyor:"
   ]
  },
  {
   "cell_type": "code",
   "execution_count": 75,
   "id": "692e6142-acbd-45cb-b76b-696d310a2bdf",
   "metadata": {},
   "outputs": [
    {
     "ename": "SyntaxError",
     "evalue": "unterminated string literal (detected at line 1) (1054360507.py, line 1)",
     "output_type": "error",
     "traceback": [
      "\u001b[0;36m  Cell \u001b[0;32mIn[75], line 1\u001b[0;36m\u001b[0m\n\u001b[0;31m    print(\"Kaçış dizisi: \\\")\u001b[0m\n\u001b[0m          ^\u001b[0m\n\u001b[0;31mSyntaxError\u001b[0m\u001b[0;31m:\u001b[0m unterminated string literal (detected at line 1)\n"
     ]
    }
   ],
   "source": [
    "print(\"Kaçış dizisi: \\\")"
   ]
  },
  {
   "cell_type": "markdown",
   "id": "a3041fea-e109-4dcc-9278-ae62a72efee2",
   "metadata": {},
   "source": [
    "Üstelik bu durumu, r adlı kaçış dizisi de engelleyemiyor:"
   ]
  },
  {
   "cell_type": "code",
   "execution_count": 76,
   "id": "da2218c6-c4f8-4c38-b07a-cee60980123e",
   "metadata": {},
   "outputs": [
    {
     "ename": "SyntaxError",
     "evalue": "unterminated string literal (detected at line 1) (1782955530.py, line 1)",
     "output_type": "error",
     "traceback": [
      "\u001b[0;36m  Cell \u001b[0;32mIn[76], line 1\u001b[0;36m\u001b[0m\n\u001b[0;31m    print(r\"Kaçış dizisi: \\\")\u001b[0m\n\u001b[0m          ^\u001b[0m\n\u001b[0;31mSyntaxError\u001b[0m\u001b[0;31m:\u001b[0m unterminated string literal (detected at line 1)\n"
     ]
    }
   ],
   "source": [
    "print(r\"Kaçış dizisi: \\\")"
   ]
  },
  {
   "cell_type": "markdown",
   "id": "98adc3f7-1e6e-4b9e-bb32-ab8e1dc743dd",
   "metadata": {},
   "source": [
    "Çözüm olarak birkaç farklı yöntemden yararlanabilirsiniz. Mesela karakter dizisini kapatmadan önce karakter dizisinin sonundaki \\ işaretinin sağına bir adet boşluk karakteri yerleştirmeyi deneyebilirsiniz:"
   ]
  },
  {
   "cell_type": "code",
   "execution_count": 77,
   "id": "66d0a4e7-78ab-43e6-a6f7-19ea37fb93b5",
   "metadata": {},
   "outputs": [
    {
     "name": "stdout",
     "output_type": "stream",
     "text": [
      "Kaçış dizisi: \\ \n"
     ]
    }
   ],
   "source": [
    "print(\"Kaçış dizisi: \\ \")"
   ]
  },
  {
   "cell_type": "markdown",
   "id": "68b49b1b-f8e1-48f2-8c15-89fa178eb902",
   "metadata": {},
   "source": [
    "Veya kaçış dizisini çiftleyebilirsiniz:"
   ]
  },
  {
   "cell_type": "code",
   "execution_count": 79,
   "id": "4d9ea97a-3cc1-4db5-9f94-00f3ef308b55",
   "metadata": {},
   "outputs": [
    {
     "name": "stdout",
     "output_type": "stream",
     "text": [
      "Kaçış dizisi: \\\n"
     ]
    }
   ],
   "source": [
    "print(\"Kaçış dizisi: \\\\\")"
   ]
  },
  {
   "cell_type": "markdown",
   "id": "f5acd624-968c-4adf-a5e9-6b88e9d39ad9",
   "metadata": {},
   "source": [
    "Ya da karakter dizisi birleştirme yöntemlerinden herhangi birini kullanabilirsiniz:"
   ]
  },
  {
   "cell_type": "code",
   "execution_count": 80,
   "id": "f8a6f8fd-0545-4c0f-8ce2-c8a4205167bc",
   "metadata": {},
   "outputs": [
    {
     "name": "stdout",
     "output_type": "stream",
     "text": [
      "Kaçış dizisi: \\\n",
      "Kaçış dizisi: \\\n",
      "Kaçış dizisi: \\\n"
     ]
    }
   ],
   "source": [
    "print(\"Kaçış dizisi: \" + \"\\\\\")\n",
    "print(\"Kaçış dizisi:\", \"\\\\\")\n",
    "print(\"Kaçış dizisi: \" \"\\\\\")"
   ]
  },
  {
   "cell_type": "markdown",
   "id": "831faaf5-989a-4368-91ba-634b0938a67a",
   "metadata": {},
   "source": [
    "++++++++++Sayfa Başı (\\f)\n",
    "\n",
    "\n",
    "\\f artık günümüzde pek kullanılmayan bir kaçış dizisidir. Bu kaçış dizisinin görevi, özellikle eski yazıcılarda, bir sayfanın sona erip yeni bir sayfanın başladığını göstermektir. Dolayısıyla eski model yazıcılar, bu karakteri gördükleri noktada mevcut sayfayı sona erdirip yeni bir sayfaya geçer.\n",
    "\n",
    "Bu kaçış dizisinin tam olarak ne işe yaradığını test etmek için şu kodları çalıştırın:\n",
    "\n"
   ]
  },
  {
   "cell_type": "code",
   "execution_count": 82,
   "id": "46163438-5c95-4934-b200-88c083c7279c",
   "metadata": {},
   "outputs": [],
   "source": [
    "f = open(\"deneme.txt\", \"w\")\n",
    "print(\"deneme\\fdeneme\", file=f)\n",
    "f.close()"
   ]
  },
  {
   "cell_type": "markdown",
   "id": "0a505157-69b5-4774-a61f-dacff8962256",
   "metadata": {},
   "source": [
    "Şimdi bu kodlarla oluşturduğunuz deneme.txt adlı dosyayı LibreOffice veya Microsoft Word gibi bir programla açın. ‘deneme’ satırlarının iki farklı sayfaya yazdırıldığını göreceksiniz. Bu arada, eğer Microsoft Word dosyayı açarken bir hata mesajı gösterirse, o hata mesajına birkaç kez ‘tamam’ diyerek hata penceresini kapatın. Dosya normal bir şekilde açılacaktır.\n",
    "\n",
    "Dediğimiz gibi, bu kaçış dizisi artık pek kullanılmıyor. Ama yine de bu kaçış dizisine karşı da uyanık olmalısınız. Çünkü bu kaçış dizisi de beklemediğiniz çıktılar almanıza yol açabilir. Mesela şu örneğe bir bakalım:"
   ]
  },
  {
   "cell_type": "code",
   "execution_count": 83,
   "id": "121adaeb-8213-45b3-811b-ee99ccc104bf",
   "metadata": {},
   "outputs": [
    {
     "data": {
      "text/plain": [
       "'\\x0cırat'"
      ]
     },
     "execution_count": 83,
     "metadata": {},
     "output_type": "execute_result"
    }
   ],
   "source": [
    "\"\\fırat\"\n"
   ]
  },
  {
   "cell_type": "markdown",
   "id": "f01a961e-f6f7-4fda-820a-2f21e0ea45bb",
   "metadata": {},
   "source": [
    "Gördüğünüz gibi, siz aslında ‘\\fırat’ yazmak isterken, Python bu kelimenin baş tarafındaki \\f karakter dizisini bir kaçış dizisi olarak değerlendirip ona göre bir çıktı verdi.\n",
    "\n",
    "Bütün bu anlattıklarımızın ardından, kaçış dizilerinin, birleştirildikleri karakterlerin farklı bir anlam yüklenmesini sağlayan birtakım işaretler olduğunu anlıyoruz. Örneğin \\ işareti ‘ (tek tırnak) işareti ile bir araya gelerek, tek tırnak işaretinin karakter dizisi tanımlama dışında başka bir anlam yüklenmesini sağlıyor. Aynı şekilde yine \\ işareti “ (çift tırnak) işareti ile birleşerek çift tırnak işaretinin de karakter dizisi tanımlama dışında bir anlama kavuşmasını sağlıyor. Böylece tırnak işaretlerini karakter dizileri içinde rahatlıkla kullanabiliyoruz.\n",
    "\n",
    "Ya da yine \\ işareti ‘n’ harfi ile bir araya gelip, bu harfin satır başına geçilmesini sağlayan bir kaçış dizisi oluşturmasını mümkün kılıyor. Veya aynı işaret ‘t’ harfiyle birleşip, öğeler arasında sekme oluşturulmasını sağlayabiliyor. Bu araçlar sayesinde ekrana yazdırdığımız bir metnin akışını kontrol etme imkanına kavuşuyoruz."
   ]
  },
  {
   "cell_type": "markdown",
   "id": "da55ca24-e909-41f4-a0e8-68ac1ea20797",
   "metadata": {},
   "source": [
    "Kaçış Dizilerine Toplu Bakış\n",
    "Biraz sonra bu önemli konuyu kapatacağız. Ama dilerseniz kapatmadan önce, bu bölümde öğrendiğimiz kaçış dizilerini şöyle bir topluca görelim:\n",
    "\n",
    "Kaçış Dizisi\n",
    "\n",
    "Anlamı\n",
    "\n",
    "\\’\n",
    "\n",
    "Karakter dizisi içinde tek tırnak işaretini kullanabilmemizi sağlar.\n",
    "\n",
    "\\”\n",
    "\n",
    "Karakter dizisi içinde çift tırnak işaretini kullanabilmemizi sağlar.\n",
    "\n",
    "\\\\\n",
    "\n",
    "Karakter dizisi içinde \\ işaretini kullanabilmemizi sağlar.\n",
    "\n",
    "\\n\n",
    "\n",
    "Yeni bir satıra geçmemizi sağlar.\n",
    "\n",
    "\\t\n",
    "\n",
    "Karakterler arasında sekme boşluğu bırakmamızı sağlar.\n",
    "\n",
    "\\u\n",
    "\n",
    "UNICODE kod konumlarını gösterebilmemizi sağlar.\n",
    "\n",
    "\\U\n",
    "\n",
    "UNICODE kod konumlarını gösterebilmemizi sağlar.\n",
    "\n",
    "\\N\n",
    "\n",
    "Karakterleri UNICODE adlarına göre kullanabilmemizi sağlar.\n",
    "\n",
    "\\x\n",
    "\n",
    "Onaltılı sistemdeki bir sayının karakter karşılığını gösterebilmemizi sağlar.\n",
    "\n",
    "\\a\n",
    "\n",
    "Destekleyen sistemlerde, kasa hoparlöründen bir ‘bip’ sesi verilmesini sağlar.\n",
    "\n",
    "\\r\n",
    "\n",
    "Aynı satırın başına dönülmesini sağlar.\n",
    "\n",
    "\\v\n",
    "\n",
    "Destekleyen sistemlerde düşey sekme oluşturulmasını sağlar.\n",
    "\n",
    "\\b\n",
    "\n",
    "İmlecin sola doğru kaydırılmasını sağlar\n",
    "\n",
    "\\f\n",
    "\n",
    "Yeni bir sayfaya geçilmesini sağlar.\n",
    "\n",
    "r\n",
    "\n",
    "Karakter dizisi içinde kaçış dizilerini kullanabilmemizi sağlar.\n",
    "\n",
    "Kaçış dizileriyle ilgili son olarak şunu söyleyebiliriz: Kaçış dizileri, görmezden gelebileceğiniz, ‘öğrenmesem de olur,’ diyebileceğiniz önemsiz birtakım işaretler değildir. Bu konu boyunca verdiğimiz örneklerden de gördüğünüz gibi, kaçış dizileri, kullanıcıya göstereceğiniz metinlerin biçimini doğrudan etkiliyor. Bütün bu örnekler, bu kaçış dizilerinin yersiz veya yanlış kullanılmasının ya da bunların bir metin içinde gözden kaçmasının, yazdığınız programların hata verip çökmesine, yani programınızın durmasına sebep olabileceğini de gösteriyor bize.\n",
    "\n",
    "Böylece bir bölümü daha bitirmiş olduk. Artık Python’la ‘gerçek’ programlar yazmamızın önünde hiçbir engel kalmadı."
   ]
  },
  {
   "cell_type": "code",
   "execution_count": null,
   "id": "4db81ad6-2408-4100-9688-b4ad503ae767",
   "metadata": {},
   "outputs": [],
   "source": []
  }
 ],
 "metadata": {
  "kernelspec": {
   "display_name": "Python 3 (ipykernel)",
   "language": "python",
   "name": "python3"
  },
  "language_info": {
   "codemirror_mode": {
    "name": "ipython",
    "version": 3
   },
   "file_extension": ".py",
   "mimetype": "text/x-python",
   "name": "python",
   "nbconvert_exporter": "python",
   "pygments_lexer": "ipython3",
   "version": "3.10.12"
  }
 },
 "nbformat": 4,
 "nbformat_minor": 5
}
