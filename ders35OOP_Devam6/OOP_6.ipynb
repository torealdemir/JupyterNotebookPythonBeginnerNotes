{
 "cells": [
  {
   "cell_type": "markdown",
   "id": "1235c5e1-3067-4590-8278-4d6cbb1509cb",
   "metadata": {},
   "source": [
    "+++++++++Nesne Tabanlı Programlama (Devamı)\n",
    "\n",
    "Nesne tabanlı programlamaya ilişkin bu son bölümde önceki derslerde incelemeye fırsat bulamadığımız ileri düzey konulardan söz edeceğiz.\n",
    "\n"
   ]
  },
  {
   "cell_type": "markdown",
   "id": "a2484040-e625-4353-b707-e0a1185d170f",
   "metadata": {},
   "source": [
    "+++++++++++İnşa, İlklendirme ve Sonlandırma\n",
    "\n",
    "Python’da bir sınıfın ömrü üç aşamadan oluşur:\n",
    "\n",
    "İnşa (Construction)\n",
    "\n",
    "İlklendirme (initialization)\n",
    "\n",
    "Sonlandırma (destruction)\n",
    "\n",
    "Biz bundan önceki derslerimizde ilklendirme sürecinin nasıl yürüdüğünü görmüştük. Bu dersimizde ise, ilklendirme sürecine de tekrar değinmekle birlikte, özellikle inşa ve sonlandırma süreçlerini ele alacağız.\n",
    "\n",
    "Önceki derslerimizden de bildiğimiz gibi, Python’da bir sınıfı ilklendirmek için __init__() adlı bir metottan yararlanıyoruz. Ancak, adının aksine, ilklendirme, sınıfların oluşturulmasına ilişkin ilk basamak değildir. Python, bir sınıfın ilklendirilmesinden önce o sınıfı inşa eder. Bu inşa işleminden sorumlu metodun adı ise __new__()’dur. Gelin bu metodu yakından tanımaya çalışalım.\n",
    "\n"
   ]
  },
  {
   "cell_type": "markdown",
   "id": "e723f8ee-e4a4-4571-802e-16089df63a92",
   "metadata": {},
   "source": [
    "++++++++++__new__() Metodu\n",
    "\n",
    "Bildiğiniz gibi, Python’da basit bir sınıfı şu şekilde tanımlıyoruz:\n",
    "\n"
   ]
  },
  {
   "cell_type": "code",
   "execution_count": null,
   "id": "b816ed47-8a60-4b21-8e51-60ef5b4d6854",
   "metadata": {},
   "outputs": [],
   "source": [
    "class Sınıf():\n",
    "    def __init__(self):\n",
    "        print('merhaba sınıf!')"
   ]
  },
  {
   "cell_type": "markdown",
   "id": "8ca0a2a1-b7ca-474a-9c4d-101d576dc534",
   "metadata": {},
   "source": [
    "Burada __init__() metodu, sınıfımız örneklenir örneklenmez hangi işlemlerin yapılacağını gösteriyor. Yani mesela sınıf = Sınıf() gibi bir kod yardımıyla Sınıf() adlı sınıfı örneklediğimiz anda ne olacağını bu __init__() metodu içinde tanımlıyoruz:\n",
    "\n"
   ]
  },
  {
   "cell_type": "code",
   "execution_count": null,
   "id": "c2cb8688-dd5c-4423-83b7-49a38e7db732",
   "metadata": {},
   "outputs": [],
   "source": [
    "# Yukarıdaki kodların `sınıf.py` adlı bir dosyada olduğunu varsayalım\n",
    "import sınıf\n",
    "snf = sınıf.Sınıf()\n",
    "\n",
    "merhaba sınıf!"
   ]
  },
  {
   "cell_type": "markdown",
   "id": "7176df9a-bf15-4f0a-a613-2584faf3ae80",
   "metadata": {},
   "source": [
    "Gördüğünüz gibi, tam da __init__() metodunda tanımladığımız şekilde, sınıfımızı örneklediğimiz anda ekrana ‘merhaba sınıf’ çıktısı verildi.\n",
    "\n",
    "Ancak yukarıda da belirttiğimiz gibi, bir sınıf örneklendiğinde çalışan ilk metot aslında __init__() değildir. Python bu süreçte alttan alta __new__() adlı başka bir metodu çalıştırır. Gelin bunu kanıtlayalım:"
   ]
  },
  {
   "cell_type": "code",
   "execution_count": null,
   "id": "e49735d6-ae54-44cf-92bc-ad1df47c05a6",
   "metadata": {},
   "outputs": [],
   "source": [
    "class Sınıf():\n",
    "    def __new__(cls):\n",
    "        pass\n",
    "\n",
    "    def __init__(self):\n",
    "        print('merhaba sınıf')"
   ]
  },
  {
   "cell_type": "markdown",
   "id": "f75295e2-3025-4dba-98f3-2bea4c2e5d84",
   "metadata": {},
   "source": [
    "Bu sınıfı örneklediğinizde, bir önceki kodların aksine, ekrana ‘merhaba sınıf’ yazısı çıktı olarak verilmeyecektir. İşte bunun sebebi, Python’ın öntanımlı __new__() metodunun üzerine yazıp, o metodun işlevselliğini ortadan kaldırmış olmanızdır. Eğer __new__() metodunun öntanımlı davranışını taklit etmek isterseniz yukarıdaki kodları şu şekilde yazmalısınız:"
   ]
  },
  {
   "cell_type": "code",
   "execution_count": null,
   "id": "ee0ba692-b1c4-4ef4-8ec8-09d25351c72f",
   "metadata": {},
   "outputs": [],
   "source": [
    "class Sınıf():\n",
    "    def __new__(cls, *args, **kwargs):\n",
    "        return object.__new__(cls, *args, **kwargs)\n",
    "\n",
    "    def __init__(self):\n",
    "        print('merhaba sınıf')"
   ]
  },
  {
   "cell_type": "markdown",
   "id": "fede1847-5061-4dc0-b157-515019ecf56e",
   "metadata": {},
   "source": [
    "Burada yaptığımız şeyin aslında temel olarak basit bir miras alma işleminden ibaret olduğunu görüyor olmalısınız. Bildiğiniz gibi, Python’daki bütün sınıflar, eğer başka bir sınıfı miras olarak almıyorlarsa, otomatik olarak object sınıfını miras alırlar. Yani aslında yukarıdaki sınıf tanımını Python şöyle görür:\n",
    "\n"
   ]
  },
  {
   "cell_type": "code",
   "execution_count": null,
   "id": "24e6488f-b846-40d7-a9f5-f4a0a1f1c96e",
   "metadata": {},
   "outputs": [],
   "source": [
    "class Sınıf(object):\n",
    "    ..."
   ]
  },
  {
   "cell_type": "markdown",
   "id": "898b3a17-49b6-49a8-8b72-7cbc2ab80bd9",
   "metadata": {},
   "source": [
    "Burada object taban sınıf olmuş oluyor. Bu taban sınıfın __new__() metodunun sahip olduğu işlevselliği Sınıf adlı alt sınıfa aktarabilmek için taban sınıfı kendi __new__() metodumuz içinde çağırıyoruz:"
   ]
  },
  {
   "cell_type": "code",
   "execution_count": null,
   "id": "64b6112f-f460-4742-9c0f-444bc5113ccd",
   "metadata": {},
   "outputs": [],
   "source": [
    "class Sınıf():\n",
    "    def __new__(cls, *args, **kwargs):\n",
    "        return object.__new__(cls, *args, **kwargs)"
   ]
  },
  {
   "cell_type": "markdown",
   "id": "99a6f44e-8571-4de4-9ed8-058be299f6b7",
   "metadata": {},
   "source": [
    "İşte eğer bir sınıfın inşa edilme sürecinin nasıl işleyeceğini kontrol etmek isterseniz bu __new__() metodunun üzerine yazarak metodu değişikliğe uğratabilirsiniz:\n",
    "\n"
   ]
  },
  {
   "cell_type": "code",
   "execution_count": null,
   "id": "df318e00-f367-4c14-a380-9cce83ef43d9",
   "metadata": {},
   "outputs": [],
   "source": [
    "class Sınıf():\n",
    "    def __new__(cls, *args, **kwargs):\n",
    "        print('Yeni sınıf inşa edilirken lütfen bekleyiniz...')\n",
    "        return object.__new__(cls, *args, **kwargs)\n",
    "\n",
    "    def __init__(self):\n",
    "        print('merhaba sınıf')"
   ]
  },
  {
   "cell_type": "markdown",
   "id": "f8366f71-6faf-4a6d-8ab4-c773cf84e66d",
   "metadata": {},
   "source": [
    "Ancak bu noktada şunu belirtmeden de geçmeyelim. __new__() metodu, sık sık muhatap olmanız gereken bir metot değil. __new__() metodunu kullanarak yapacağınız pek çok şeyi aslında doğrudan __init__() metodu aracılığıyla da yapabilirsiniz.\n",
    "\n"
   ]
  },
  {
   "cell_type": "code",
   "execution_count": null,
   "id": "b0f2f39e-c54c-4603-b95c-3ac3607f0397",
   "metadata": {},
   "outputs": [],
   "source": []
  }
 ],
 "metadata": {
  "kernelspec": {
   "display_name": "Python 3 (ipykernel)",
   "language": "python",
   "name": "python3"
  },
  "language_info": {
   "codemirror_mode": {
    "name": "ipython",
    "version": 3
   },
   "file_extension": ".py",
   "mimetype": "text/x-python",
   "name": "python",
   "nbconvert_exporter": "python",
   "pygments_lexer": "ipython3",
   "version": "3.10.12"
  }
 },
 "nbformat": 4,
 "nbformat_minor": 5
}
