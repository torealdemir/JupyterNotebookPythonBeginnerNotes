{
 "cells": [
  {
   "cell_type": "markdown",
   "id": "0859291f-e3da-4f6f-9ad0-853dace73509",
   "metadata": {},
   "source": [
    "++++++++Sayma Sistemleri\n",
    "\n",
    "\n",
    "Sayılar olmadan bilgisayar ve programlama düşünülemez. O yüzden, önceki derslerimizde karakter dizilerini anlatırken şöyle bir değinip geçtiğimiz sayılar konusunu, sayma sistemleri konusunu da ilave ederek, birer programcı adayı olan bizleri yakından ilgilendirdiği için mümkün olduğunca ayrıntılı bir şekilde ele almaya çalışacağız.\n",
    "\n",
    "Sayılar ve Sayma Sistemleri konusunu iki farklı bölümde inceleyeceğiz.\n",
    "\n",
    "Sayılar konusunun temelini oluşturduğu için, öncelikle sayma sistemlerinden söz edelim.\n",
    "\n",
    "Öncelikle ‘sayma sistemi’ kavramını tanımlayarak işe başlayalım. Nedir bu ‘sayma sistemi’ denen şey?\n",
    "\n",
    "Sayma işleminin hangi ölçütlere göre yapılacağını belirleyen kurallar bütününe sayma sistemi adı verilir.\n",
    "\n",
    "Dünyada yaygın olarak kullanılan dört farklı sayma sistemi vardır. Bunlar, onlu, sekizli, on altılı ve ikili sayma sistemleridir. Bu dördü arasında en yaygın kullanılan sayma sistemi ise, tabii ki, onlu sistemdir. İnsanların elleri ve ayaklarında on parmak olduğunu düşünürsek, bu sistemin neden daha yaygın kullanıldığını anlamak aslında hiç de zor değil!\n",
    "\n",
    "Onlu sistemin yaygınlığını düşünerek, sayma sistemleri konusunu anlatmaya onlu sayma sisteminden başlayalım."
   ]
  },
  {
   "cell_type": "markdown",
   "id": "235f55dc-ec97-4f39-a2b8-dc318d1b2ad8",
   "metadata": {},
   "source": [
    "++++++++++++Onlu Sayma Sistemi\n",
    "\n",
    "\n",
    "Biz insanlar genellikle hesap işlemleri için onlu sayma sistemini kullanırız. Hepinizin bildiği gibi bu sistem; 0, 1, 2, 3, 4, 5, 6, 7, 8 ve 9 olmak üzere toplam on rakamdan oluşur. Yani sayıları gösteren, birbirinden farklı toplam on simge (rakam) vardır bu sistemde. Bu on simgeyi kullanarak, olası bütün sayıları gösterebiliriz.\n",
    "\n",
    "Bu arada terminoloji ile ilgili ufak bir açıklama yapalım:\n",
    "\n",
    "Rakamlar, sayıları göstermeye yarayan simgelerdir. Onlu sayma sisteminde toplam on farklı rakam vardır. Bütün rakamlar birer sayıdır, ama bütün sayılar birer rakam değildir. Örneğin 8 hem bir rakam hem de bir sayıdır. Ancak mesela 32 bir sayı olup bu sayı, 3 ve 2 adlı iki farklı rakamın bir araya getirilmesi ile gösterilir. Yani 32 sayısı tek başına bir rakam değildir.\n",
    "\n",
    "Açıklamamızı da yaptığımıza göre yolumuza devam edebiliriz.\n",
    "\n",
    "İnsanlar yukarıda bahsettiğimiz bu onlu sisteme ve bu sistemi oluşturan rakamlara/simgelere o kadar alışmıştır ki, çoğu zaman başka bir sistemin varlığından veya var olma olasılığından haberdar bile değildir.\n",
    "\n",
    "Ama elbette dünya üzerindeki tek sayma sistemi onlu sistem olmadığı gibi, sayıları göstermek için kullanılabilecek rakamlar da yukarıdakilerle sınırlı değildir.\n",
    "\n",
    "Nihayetinde rakam dediğimiz şeyler insan icadı birtakım simgelerden ibarettir. Elbette doğada ‘2’ veya ‘7’ diye bir şey bulunmaz. Bizim yaygın olarak yukarıdaki şekilde gösterdiğimiz rakamlar Arap rakamlarıdır. Mesela Romalılar yukarıdakiler yerine I, II, III, IV, V, VI, VII, VIII, IX ve X gibi farklı simgeler kullanıyordu… Neticede 2 ve II aynı kavrama işaret ediyor. Sadece kullanılan simgeler birbirinden farklı, o kadar.\n",
    "\n",
    "Onlu sayma sisteminde bir sayıyı oluşturan rakamlar 10’un kuvvetleri olarak hesaplanır. Örneğin 1980 sayısını ele alalım. Bu sayıyı 10’un kuvvetlerini kullanarak şu şekilde hesaplayabiliriz:\n",
    "\n",
    "(0 * (10 ** 0)) + (8 * (10 ** 1)) + (9 * (10 ** 2)) + (1 * (10 ** 3))\n",
    "\n",
    "1980\n",
    "Gördüğünüz gibi, sayının en sağındaki basamak 10’un 0. kuvveti olacak şekilde, sola doğru kuvveti artırarak ilerliyoruz.\n",
    "\n",
    "Gelelim öteki sayma sistemlerine…\n",
    "\n"
   ]
  },
  {
   "cell_type": "markdown",
   "id": "3ac32c62-bf6f-41cc-b8a1-cb4735f50ffb",
   "metadata": {},
   "source": [
    "+++++++++++++Sekizli Sayma Sistemi\n",
    "\n",
    "\n",
    "Onlu sayma sisteminin aksine sekizli sayma sisteminde toplam sekiz rakam bulunur. Bu rakamlar şunlardır:\n",
    "\n",
    "0, 1, 2, 3, 4, 5, 6, 7\n",
    "\n",
    "Gördüğünüz gibi, onlu sistemde toplam on farklı simge varken, sekizli sistemde toplam sekiz farklı simge var.\n",
    "\n",
    "Bu bölümün en başında da söylediğimiz gibi, insanlar onlu sayma sistemine ve bu sistemi oluşturan simgelere o kadar alışmıştır ki, çoğu zaman başka bir sistemin varlığından veya var olma olasılığından haberdar bile değildir. Hatta başka sayma sistemlerinden bir vesileyle haberdar olup, bu sistemleri öğrenmeye çalışanlar onlu sayma sistemine olan alışkanlıkları nedeniyle yeni sayma sistemlerini anlamakta dahi zorluk çekebilirler. Bunun birincil nedeni, iyi tanıdıklarını zannettikleri onlu sistemi de aslında o kadar iyi tanımıyor olmalarıdır.\n",
    "\n",
    "O halde başka sayma sistemlerini daha iyi anlayabilmek için öncelikle yaygın olarak kullandığımız sayma sisteminin nasıl işlediğini anlamaya çalışalım:\n",
    "\n",
    "Onlu sistemde toplam on farklı simge bulunur:\n",
    "\n",
    "0, 1, 2, 3, 4, 5, 6, 7, 8, 9\n",
    "\n",
    "9’dan büyük bir sayıyı göstermek gerektiğinde simge listesinin en başına dönülür ve basamak sayısı bir artırılarak, semboller birleştirilir:\n",
    "\n",
    "10, 11, 12, 13, 14, 15, 16, 17, 18, 19, 20, …, 99, 100, …, 999, 1000\n",
    "\n",
    "İşte bu kural öteki sayma sistemleri için de geçerlidir. Mesela sekizli sayma sistemini ele alalım.\n",
    "\n",
    "Dediğimiz gibi, sekizli sistemde toplam sekiz farklı simge bulunur:\n",
    "\n",
    "0, 1, 2, 3, 4, 5, 6, 7\n",
    "\n",
    "Bu sistemde 7’den büyük bir sayıyı göstermek gerektiğinde, tıpkı onlu sistemde olduğu gibi, simge listesinin en başına dönüyoruz ve basamak sayısını bir artırarak sembolleri birleştiriyoruz:\n",
    "\n",
    "10, 11, 12, 13, 14, 15, 16, 17, 20, …, 77, 100\n",
    "\n",
    "Onlu sayma sistemi ile sekizli sayma sistemi arasındaki farkı daha belirgin bir şekilde görebilmek için şu kodları yazalım:\n",
    "\n"
   ]
  },
  {
   "cell_type": "code",
   "execution_count": 1,
   "id": "ebd82f09-49b5-4529-9f00-b8b4d6c151b5",
   "metadata": {},
   "outputs": [
    {
     "name": "stdout",
     "output_type": "stream",
     "text": [
      "onlu  sekizli \n",
      "  0     0  \n",
      "  1     1  \n",
      "  2     2  \n",
      "  3     3  \n",
      "  4     4  \n",
      "  5     5  \n",
      "  6     6  \n",
      "  7     7  \n",
      "  8    10  \n",
      "  9    11  \n",
      " 10    12  \n",
      " 11    13  \n",
      " 12    14  \n",
      " 13    15  \n",
      " 14    16  \n",
      " 15    17  \n",
      " 16    20  \n"
     ]
    }
   ],
   "source": [
    "sayı_sistemleri = [\"onlu\", \"sekizli\"]\n",
    "\n",
    "print((\"{:^5} \"*len(sayı_sistemleri)).format(*sayı_sistemleri))\n",
    "\n",
    "for i in range(17):\n",
    "    print(\"{0:^5} {0:^5o}\".format(i))"
   ]
  },
  {
   "cell_type": "markdown",
   "id": "776d4da1-ede7-4331-a952-9579e436cb9f",
   "metadata": {},
   "source": [
    "Gördüğünüz gibi, onlu sistemde elimizde toplam on farklı simge olduğu için, elimizdeki simgeleri kullanarak 10. sayıya kadar ilerleyebiliyoruz. Bu noktadan sonra simge stoğumuz tükendiği için en başa dönüp bir basamak artırıyoruz ve simgeleri birbiriyle birleştirerek yeni sayılar elde ediyoruz.\n",
    "\n",
    "Sekizli sistemde ise elimizde yalnızca sekiz farklı simge olduğu için, elimizdeki simgeleri kullanarak ancak 8. sayıya kadar gelebiliyoruz. Öteki sayıları gösterebilmek için bu noktadan sonra başa dönüp bir artırmamız ve simgeleri birbiriyle birleştirerek yeni sayılar elde etmemiz gerekiyor.\n",
    "\n",
    "Sekizli sayma sisteminde bir sayıyı oluşturan rakamlar 8’in kuvvetleri olarak hesaplanır. Örneğin sekizli sayma sistemindeki 3674 sayısını ele alalım. Bu sayıyı 8’in kuvvetlerini kullanarak şu şekilde hesaplayabiliriz:\n",
    "\n"
   ]
  },
  {
   "cell_type": "code",
   "execution_count": 2,
   "id": "6bc0f2f2-fc45-4767-94eb-1ff4953b388f",
   "metadata": {},
   "outputs": [
    {
     "data": {
      "text/plain": [
       "1980"
      ]
     },
     "execution_count": 2,
     "metadata": {},
     "output_type": "execute_result"
    }
   ],
   "source": [
    "(4 * (8 ** 0)) + (7 * (8 ** 1)) + (6 * (8 ** 2)) + (3 * (8 ** 3))"
   ]
  },
  {
   "cell_type": "markdown",
   "id": "b8b030c5-2b42-4170-b0e7-5c0a3940f48b",
   "metadata": {},
   "source": [
    "Bu hesaplama şeklini onlu sayma sisteminden hatırlıyor olmalısınız. Gördüğünüz gibi, sekizli sistemdeki bir sayının her bir basamağını 8’in kuvvetleri olarak hesapladığımızda, bu sayının onlu sistemdeki karşılığını elde ediyoruz."
   ]
  },
  {
   "cell_type": "markdown",
   "id": "8ae16668-4f50-468a-ab5a-8596427111b5",
   "metadata": {},
   "source": [
    "++++++++++On Altılı Sayma Sistemi\n",
    "\n",
    "\n",
    "Şu ana kadar onlu ve sekizli sayma sistemlerinden bahsettik. Önemli bir başka sayma sistemi de on altılı sayma sistemidir.\n",
    "\n",
    "Onlu sayma sisteminde on farklı rakam, sekizli sayma sisteminde sekiz farklı rakam olduğunu öğrenmiştik. On altılı sayma sisteminde ise, tahmin edebileceğiniz gibi, on altı farklı rakam bulunur:\n",
    "\n",
    "0, 1, 2, 3, 4, 5, 6, 7, 8, 9, a, b, c, d, e, f\n",
    "\n",
    "Şimdiye kadar öğrenmiş olduğumuz sayma sistemleri arasındaki farkı daha net görmek için biraz önce yazdığımız kodlara on altılı sayma sistemini de ekleyelim:"
   ]
  },
  {
   "cell_type": "code",
   "execution_count": 3,
   "id": "10264643-d06c-4fc8-8ab1-54a12e8ca74f",
   "metadata": {},
   "outputs": [
    {
     "name": "stdout",
     "output_type": "stream",
     "text": [
      "  onlu   sekizli  on altılı \n",
      "   0        0        0    \n",
      "   1        1        1    \n",
      "   2        2        2    \n",
      "   3        3        3    \n",
      "   4        4        4    \n",
      "   5        5        5    \n",
      "   6        6        6    \n",
      "   7        7        7    \n",
      "   8        10       8    \n",
      "   9        11       9    \n",
      "   10       12       a    \n",
      "   11       13       b    \n",
      "   12       14       c    \n",
      "   13       15       d    \n",
      "   14       16       e    \n",
      "   15       17       f    \n",
      "   16       20       10   \n"
     ]
    }
   ],
   "source": [
    "sayı_sistemleri = [\"onlu\", \"sekizli\", \"on altılı\"]\n",
    "\n",
    "print((\"{:^8} \"*len(sayı_sistemleri)).format(*sayı_sistemleri))\n",
    "\n",
    "for i in range(17):\n",
    "    print(\"{0:^8} {0:^8o} {0:^8x}\".format(i))"
   ]
  },
  {
   "cell_type": "markdown",
   "id": "d4c1c127-22ba-4efe-b4c2-e37f08f3ff90",
   "metadata": {},
   "source": [
    "Gördüğünüz gibi, onlu sistemde birbirinden farklı toplam 10 adet rakam/simge varken, sekizli sistemde toplam 8 farklı simge, on altılı sistemde ise toplam 16 farklı simge var. Yani onlu sistemde olası bütün sayılar eldeki 10 farklı simge ve bunların kombinasyonunun kullanılması yoluyla; sekizli sistemde 8 farklı simge ve bunların kombinasyonunun kullanılması yoluyla; on altılı sistemde ise 16 farklı simge ve bunların kombinasyonunun kullanılması yoluyla gösteriliyor. Bu sebeple onlu sistemde 9 sayısından itibaren bir basamak artırılıp simge listesinin başına dönülürken, sekizli sistemde 7 sayısından itibaren; on altılı sistemde ise f sayısından itibaren başa dönülüyor.\n",
    "\n",
    "On altılı sistemde 9 sayısından sonra gelen harfleri yadırgamış olabilirsiniz. Bu durumu şöyle düşünün: Sayı dediğimiz şeyler insan icadı birtakım simgelerden ibarettir. Daha önce de söylediğimiz gibi, doğada ‘2’ veya ‘7’ diye bir şey göremezsiniz…\n",
    "\n",
    "İşte on altılık sistemdeki sayıları gösterebilmek için de birtakım simgelere ihtiyaç var. İlk on simge, onluk sayma sistemindekilerle aynı. Ancak 10’dan sonraki sayıları gösterebilmek için elimizde başka simge yok. On altılık sistemi tasarlayanlar, bir tercih sonucu olarak, eksik sembolleri alfabe harfleriyle tamamlamayı tercih etmişler. Alfabe harfleri yerine pekala Roma rakamlarını da tercih edebilirlerdi. Eğer bu sistemi tasarlayanlar böyle tercih etmiş olsaydı bugün on altılık sistemi şöyle gösteriyor olabilirdik:"
   ]
  },
  {
   "cell_type": "raw",
   "id": "19cc465e-488b-4908-af4e-90d89e6d5251",
   "metadata": {},
   "source": [
    "0\n",
    "1\n",
    "2\n",
    "3\n",
    "4\n",
    "5\n",
    "6\n",
    "7\n",
    "8\n",
    "9\n",
    "I\n",
    "II\n",
    "III\n",
    "IV\n",
    "V\n",
    "VI"
   ]
  },
  {
   "cell_type": "markdown",
   "id": "1ea27b8d-742c-40aa-a8d5-00b9f3100d87",
   "metadata": {},
   "source": [
    "Bugün bu sayıları bu şekilde kullanmıyor olmamızın tek sebebi, sistemi tasarlayanların bunu böyle tercih etmemiş olmasıdır…\n",
    "\n",
    "On altılı sayma sisteminde bir sayıyı oluşturan rakamlar 16’nın kuvvetleri olarak hesaplanır. Peki ama bu sayma sistemindeki a, b, c, d, e ve f harfleriyle nasıl aritmetik işlem yapacağız? Örneğin on altılı sayma sistemindeki 7bc sayısını ele alalım. Bu sayının onlu sistemdeki karşılığını 16’nın kuvvetlerini kullanarak hesaplayabiliriz hesaplamasına, ama peki yukarıda bahsettiğimiz harfler ne olacak? Yani şöyle bir işlem tabii ki mümkün değil:\n",
    "\n"
   ]
  },
  {
   "cell_type": "code",
   "execution_count": 4,
   "id": "f27663c6-98af-40b5-b7c3-8783d328d3e2",
   "metadata": {},
   "outputs": [
    {
     "ename": "NameError",
     "evalue": "name 'c' is not defined",
     "output_type": "error",
     "traceback": [
      "\u001b[0;31m---------------------------------------------------------------------------\u001b[0m",
      "\u001b[0;31mNameError\u001b[0m                                 Traceback (most recent call last)",
      "Cell \u001b[0;32mIn[4], line 1\u001b[0m\n\u001b[0;32m----> 1\u001b[0m ((\u001b[43mc\u001b[49m \u001b[38;5;241m*\u001b[39m \u001b[38;5;241m16\u001b[39m \u001b[38;5;241m*\u001b[39m\u001b[38;5;241m*\u001b[39m \u001b[38;5;241m0\u001b[39m)) \u001b[38;5;241m+\u001b[39m ((b \u001b[38;5;241m*\u001b[39m \u001b[38;5;241m16\u001b[39m \u001b[38;5;241m*\u001b[39m\u001b[38;5;241m*\u001b[39m \u001b[38;5;241m1\u001b[39m)) \u001b[38;5;241m+\u001b[39m ((\u001b[38;5;241m7\u001b[39m \u001b[38;5;241m*\u001b[39m \u001b[38;5;241m16\u001b[39m \u001b[38;5;241m*\u001b[39m\u001b[38;5;241m*\u001b[39m \u001b[38;5;241m2\u001b[39m))\n",
      "\u001b[0;31mNameError\u001b[0m: name 'c' is not defined"
     ]
    }
   ],
   "source": [
    "((c * 16 ** 0)) + ((b * 16 ** 1)) + ((7 * 16 ** 2))"
   ]
  },
  {
   "cell_type": "markdown",
   "id": "cf08b8c7-4dae-4068-90c6-709028ec1b7a",
   "metadata": {},
   "source": [
    "Elbette c ve b sayılarını herhangi bir aritmetik işlemde kullanamayız. Bunun yerine, bu harflerin onlu sistemdeki karşılıklarını kullanacağız:"
   ]
  },
  {
   "cell_type": "raw",
   "id": "116acd84-0491-4860-977e-ad7ebb9620e6",
   "metadata": {},
   "source": [
    "a –> 10\n",
    "\n",
    "b –> 11\n",
    "\n",
    "c –> 12\n",
    "\n",
    "d –> 13\n",
    "\n",
    "e –> 14\n",
    "\n",
    "f –> 15"
   ]
  },
  {
   "cell_type": "markdown",
   "id": "db827f35-b416-4032-affa-b06ba99e9d5a",
   "metadata": {},
   "source": [
    "Buna göre:"
   ]
  },
  {
   "cell_type": "code",
   "execution_count": null,
   "id": "c75a4a1a-e43f-413d-a223-a9bf1b022378",
   "metadata": {},
   "outputs": [],
   "source": [
    "((12 * (16 ** 0)) + ((11 * (16 ** 1)) + ((7 * (16 ** 2))\n",
    "1980"
   ]
  },
  {
   "cell_type": "markdown",
   "id": "8b715775-cb14-4d5e-870b-206af235fc2a",
   "metadata": {},
   "source": [
    "Demek ki on altılı sistemdeki ‘7bc’ sayısının onlu sistemdeki karşılığı 1980’miş."
   ]
  },
  {
   "cell_type": "markdown",
   "id": "cba85345-5e96-4341-955c-4612e9c3a28a",
   "metadata": {},
   "source": [
    "+++++++++++İkili Sayma Sistemi\n",
    "\n",
    "\n",
    "Bildiğiniz, veya orada burada duymuş olabileceğiniz gibi, bilgisayarların temelinde iki tane sayı vardır: 0 ve 1. Bilgisayarlar bütün işlemleri sadece bu iki sayı ile yerine getirir.\n",
    "\n",
    "Onlu, sekizli ve on altılı sayı sistemleri dışında, özellikle bilgisayarların altyapısında tercih edilen bir başka sayı sistemi daha bulunur. İşte bu sistemin adı ikili (binary) sayı sistemidir. Nasıl onlu sistemde 10, sekizli sistemde 8, on altılı sistemde ise sayıları gösteren 16 farklı simge varsa, bu sayı sisteminde de sayıları gösteren toplam iki farklı sembol vardır: 0 ve 1.\n",
    "\n",
    "İkili sayı sisteminde olası bütün sayılar işte bu iki simge ile gösterilir.\n",
    "\n",
    "Gelin isterseniz durumu daha net bir şekilde görebilmek için yukarıda verdiğimiz sayı sistemi tablosuna ikili sayıları da ekleyelim:"
   ]
  },
  {
   "cell_type": "code",
   "execution_count": 8,
   "id": "90bbcfab-d5ab-4dd7-a5bb-0b8d79131b93",
   "metadata": {},
   "outputs": [
    {
     "name": "stdout",
     "output_type": "stream",
     "text": [
      "  onlu     sekizli  on altılı   ikili   \n",
      "    0         0         0         0    \n",
      "    1         1         1         1    \n",
      "    2         2         2        10    \n",
      "    3         3         3        11    \n",
      "    4         4         4        100   \n",
      "    5         5         5        101   \n",
      "    6         6         6        110   \n",
      "    7         7         7        111   \n",
      "    8        10         8       1000   \n",
      "    9        11         9       1001   \n",
      "   10        12         a       1010   \n",
      "   11        13         b       1011   \n",
      "   12        14         c       1100   \n",
      "   13        15         d       1101   \n",
      "   14        16         e       1110   \n",
      "   15        17         f       1111   \n",
      "   16        20        10       10000  \n"
     ]
    }
   ],
   "source": [
    "sayı_sistemleri = [\"onlu\", \"sekizli\", \"on altılı\", \"ikili\"]\n",
    "\n",
    "print((\"{:^9} \"*len(sayı_sistemleri)).format(*sayı_sistemleri))\n",
    "\n",
    "for i in range(17):\n",
    "    print(\"{0:^9} {0:^9o} {0:^9x} {0:^9b}\".format(i))"
   ]
  },
  {
   "cell_type": "markdown",
   "id": "476769f2-fb20-4575-a71b-c5f21d5beec1",
   "metadata": {},
   "source": [
    "Burada, onlu, sekizli ve on altılı sayı sistemleri için geçerli olan durumun aynen ikili sayı sistemi için de geçerli olduğunu rahatlıkla görebiliyoruz. İkili sayı sistemindeki mevcut sayıları gösterebilmemiz için toplam iki farklı simge var. Bunlar: 0 ve 1. İkili sayı sisteminde 0 ve 1 diye saymaya başlayıp üçüncü sayıyı söylememiz gerektiğinde, elimizde 0 ve 1’den başka simge olmadığı için bir basamak artırıp simge listesinin başına dönüyoruz ve böylece onluk düzendeki 2 sayısını ikili düzende gösterebilmek için 0 ve 1’den sonra 10 simgesini kullanıyoruz.\n",
    "\n",
    "Bu söylediklerimizden sonra İnternet üzerinde sıkça karşılaştığınız şu sözün anlamını herhalde artık daha iyi anlıyor olmalısınız:\n",
    "\n",
    "İnsanlar 10’a ayrılır: İkili sistemi bilenler ve bilmeyenler!\n",
    "\n",
    "Bu arada, elbette ikili düzendeki 10 sayısı ‘on’ şeklinde telaffuz edilmiyor. Bu sayıyı “bir-sıfır” diye seslendiriyoruz…\n",
    "\n",
    "İkili sayma sisteminde bir sayıyı oluşturan rakamlar 2’nin kuvvetleri olarak hesaplanır. Örneğin ikili sayma sistemindeki 1100 sayısını ele alalım. Bu sayıyı 2’nin kuvvetlerini kullanarak şu şekilde hesaplayabiliriz:"
   ]
  },
  {
   "cell_type": "code",
   "execution_count": 9,
   "id": "627b1c23-12da-4897-a2ad-9b8db4119b78",
   "metadata": {},
   "outputs": [
    {
     "data": {
      "text/plain": [
       "12"
      ]
     },
     "execution_count": 9,
     "metadata": {},
     "output_type": "execute_result"
    }
   ],
   "source": [
    "(0 * (2 ** 0)) + (0 * (2 ** 1)) + (1 * (2 ** 2)) + (1 * (2 ** 3))\n"
   ]
  },
  {
   "cell_type": "markdown",
   "id": "c92d9489-5d4c-4f04-acb5-df24e9323e82",
   "metadata": {},
   "source": [
    "Demek ki ‘1100’ sayısı onlu sistemde 12 sayısına karşılık geliyormuş."
   ]
  },
  {
   "cell_type": "markdown",
   "id": "de44d947-829d-4870-8bad-8270efe0d94f",
   "metadata": {},
   "source": [
    "++++++++++++++Sayma Sistemlerini Birbirine Dönüştürme\n",
    "\n",
    "\n",
    "Sıklıkla kullanılan dört farklı sayma sistemini öğrendik. Peki biz bir sayma sisteminden öbürüne dönüştürme işlemi yapmak istersek ne olacak? Örneğin onlu sistemdeki bir sayıyı ikili sisteme nasıl çevireceğiz?\n",
    "\n",
    "Python programlama dilinde bu tür işlemleri kolaylıkla yapmamızı sağlayan birtakım fonksiyonlar bulunur. Ayrıca özel fonksiyonları kullanmanın yanısıra karakter dizisi biçimlendirme (string formatting) yöntemlerini kullanarak da sayma sistemlerini birbirine dönüştürebiliriz. Biz burada her iki yöntemi de tek tek inceleyeceğiz.\n",
    "\n",
    "Gelin isterseniz bu dönüştürme işlemleri için hangi özel fonksiyonların olduğuna bakalım önce.\n",
    "\n"
   ]
  },
  {
   "cell_type": "markdown",
   "id": "7d47686d-807d-40a2-b038-7d585408eebc",
   "metadata": {},
   "source": [
    "+++++++++++++Fonksiyon Kullanarak\n",
    "\n",
    "\n",
    "bin()\n",
    "Bu fonksiyon bir sayının ikili (binary) sayı sistemindeki karşılığını verir:\n",
    "\n"
   ]
  },
  {
   "cell_type": "code",
   "execution_count": 10,
   "id": "e24f4dfd-e179-4ff5-add2-2f24f15b99fe",
   "metadata": {},
   "outputs": [
    {
     "data": {
      "text/plain": [
       "'0b10'"
      ]
     },
     "execution_count": 10,
     "metadata": {},
     "output_type": "execute_result"
    }
   ],
   "source": [
    "bin(2)"
   ]
  },
  {
   "cell_type": "markdown",
   "id": "490f2d07-e7f8-4149-8cc4-1d572a5b146c",
   "metadata": {},
   "source": [
    "Bu fonksiyonun çıktı olarak bir karakter dizisi verdiğine dikkat edin. Bu karakter dizisinin ilk iki karakteri (‘0b’), o sayının ikili sisteme ait bir sayı olduğunu gösteren bir işarettir. Bu bilgilerden yola çıkarak, yukarıdaki karakter dizisinin gerçek ikili kısmını almak için şu yöntemi kullanabilirsiniz:"
   ]
  },
  {
   "cell_type": "code",
   "execution_count": 11,
   "id": "498ce5af-0856-4e28-8c5d-9f9f2cc48fb2",
   "metadata": {},
   "outputs": [
    {
     "data": {
      "text/plain": [
       "'10'"
      ]
     },
     "execution_count": 11,
     "metadata": {},
     "output_type": "execute_result"
    }
   ],
   "source": [
    "bin(2)[2:]"
   ]
  },
  {
   "cell_type": "markdown",
   "id": "569706dc-7eba-497e-976c-ecfae6673b50",
   "metadata": {},
   "source": [
    "+++++++++++hex()\n",
    "\n",
    "\n",
    "Bu fonksiyon, herhangi bir sayıyı alıp, o sayının on altılı sistemdeki karşılığını verir:\n",
    "\n"
   ]
  },
  {
   "cell_type": "code",
   "execution_count": 12,
   "id": "1a46c5b0-d404-44ee-ae16-54264ccc5551",
   "metadata": {},
   "outputs": [
    {
     "data": {
      "text/plain": [
       "'0xa'"
      ]
     },
     "execution_count": 12,
     "metadata": {},
     "output_type": "execute_result"
    }
   ],
   "source": [
    "hex(10)"
   ]
  },
  {
   "cell_type": "markdown",
   "id": "7adf2cde-1315-4a16-abd8-ab5daac8d313",
   "metadata": {},
   "source": [
    "Tıpkı bin() fonksiyonunda olduğu gibi, hex() fonksiyonunun da çıktı olarak bir karakter dizisi verdiğine dikkat edin. Hatırlarsanız bin() fonksiyonunun çıktısındaki ilk iki karakter (0b), o sayının ikili sisteme ait bir sayı olduğunu gösteren bir işaret olarak kullanılıyordu. hex() fonksiyonunun çıktısındaki ilk iki karakter de (0x), o sayının on altılı sisteme ait bir sayı olduğunu gösteriyor.\n",
    "\n"
   ]
  },
  {
   "cell_type": "markdown",
   "id": "25461cd0-b948-4aea-a9c7-326a6d1cb13f",
   "metadata": {},
   "source": [
    "++++++++oct()\n",
    "\n",
    "\n",
    "Bu fonksiyon, herhangi bir sayıyı alıp, o sayının sekizli sistemdeki karşılığını verir:"
   ]
  },
  {
   "cell_type": "code",
   "execution_count": null,
   "id": "b1895d49-070a-4c5d-847b-50eb67f5e60e",
   "metadata": {},
   "outputs": [],
   "source": []
  },
  {
   "cell_type": "code",
   "execution_count": 13,
   "id": "f735d2c7-abe3-449c-b369-e6355fb98877",
   "metadata": {},
   "outputs": [
    {
     "data": {
      "text/plain": [
       "'0o12'"
      ]
     },
     "execution_count": 13,
     "metadata": {},
     "output_type": "execute_result"
    }
   ],
   "source": [
    "oct(10)"
   ]
  },
  {
   "cell_type": "markdown",
   "id": "ad452097-4284-4385-8ee7-82f6083715eb",
   "metadata": {},
   "source": [
    "Tıpkı bin() ve hex() fonksiyonlarında olduğu gibi, oct() fonksiyonunun da çıktı olarak bir karakter dizisi verdiğine dikkat edin. Hatırlarsanız bin() ve hex() fonksiyonlarının çıktısındaki ilk iki karakter (0b ve 0x), o sayıların hangi sisteme ait sayılar olduğunu gösteriyordu. Aynı şekilde oct() fonksiyonunun çıktısındaki ilk iki karakter de (0o), o sayının sekizli sisteme ait bir sayı olduğunu gösteriyor."
   ]
  },
  {
   "cell_type": "markdown",
   "id": "4c8a23bc-62ad-4e76-ac62-7d568b17f232",
   "metadata": {},
   "source": [
    "+++++++int()\n",
    "\n",
    "\n",
    "Aslında biz bu fonksiyonu yakından tanıyoruz. Bildiğiniz gibi bu fonksiyon herhangi bir sayı veya sayı değerli karakter dizisini tam sayıya (integer) dönüştürmek için kullanılıyor. int() fonksiyonunun şimdiye kadar gördüğümüz işlevi dışında bir işlevi daha bulunur: Biz bu fonksiyonu kullanarak herhangi bir sayıyı onlu sistemdeki karşılığına dönüştürebiliriz:"
   ]
  },
  {
   "cell_type": "code",
   "execution_count": 14,
   "id": "18e58efe-e6a2-40d3-b134-14f1fda9abe4",
   "metadata": {},
   "outputs": [
    {
     "data": {
      "text/plain": [
       "1980"
      ]
     },
     "execution_count": 14,
     "metadata": {},
     "output_type": "execute_result"
    }
   ],
   "source": [
    "int(\"7bc\", 16)"
   ]
  },
  {
   "cell_type": "markdown",
   "id": "bba73685-3589-4621-8869-eef267903313",
   "metadata": {},
   "source": [
    "Gördüğünüz gibi, bu fonksiyonu kullanırken dikkat etmemiz gereken bazı noktalar var. İlkin, eğer int() fonksiyonunu yukarıdaki gibi bir dönüştürme işlemi için kullanacaksak, bu fonksiyona verdiğimiz ilk parametrenin bir karakter dizisi olması gerekiyor. Dikkat etmemiz gereken ikinci nokta, int() fonksiyonuna verdiğimiz ikinci parametrenin niteliği. Bu parametre, dönüştürmek istediğimiz sayının hangi tabanda olduğunu gösteriyor. Yukarıdaki örneğe göre biz, on altı tabanındaki 7bc sayısını on tabanına dönüştürmek istiyoruz.\n",
    "\n",
    "Bir de şu örneklere bakalım:"
   ]
  },
  {
   "cell_type": "code",
   "execution_count": 15,
   "id": "28bbce06-0976-494d-9904-a5f5b4886bad",
   "metadata": {},
   "outputs": [
    {
     "data": {
      "text/plain": [
       "12"
      ]
     },
     "execution_count": 15,
     "metadata": {},
     "output_type": "execute_result"
    }
   ],
   "source": [
    "int('1100', 2)\n"
   ]
  },
  {
   "cell_type": "code",
   "execution_count": 16,
   "id": "e0969751-12f4-4b71-bbb9-1978be2084a3",
   "metadata": {},
   "outputs": [
    {
     "data": {
      "text/plain": [
       "4352"
      ]
     },
     "execution_count": 16,
     "metadata": {},
     "output_type": "execute_result"
    }
   ],
   "source": [
    "int('1100', 16)"
   ]
  },
  {
   "cell_type": "markdown",
   "id": "496c31a2-9e1e-460e-8075-84aa6c15bd37",
   "metadata": {},
   "source": [
    "İlk örnekte, ikili sistemdeki 1100 sayısını onlu sisteme çeviriyoruz ve 12 sayısını elde ediyoruz. İkinci örnekte ise on altılı sistemdeki 1100 sayısını onlu sisteme çeviriyoruz ve 4352 sayısını elde ediyoruz."
   ]
  },
  {
   "cell_type": "markdown",
   "id": "9a4e47ac-1e27-49cd-92db-d4b0f93dc2f6",
   "metadata": {},
   "source": [
    "+++++++++++++++Biçimlendirme Yoluyla\n",
    "\n",
    "\n",
    "Esasında biz karakter dizisi biçimlendirme yöntemlerini kullanarak dönüştürme işlemlerini nasıl gerçekleştireceğimizi biliyoruz. Biz burada zaten öğrendiğimiz bu bilgileri tekrar ederek öğrendiklerimizi pekiştirme amacı güdeceğiz."
   ]
  },
  {
   "cell_type": "markdown",
   "id": "53972e0e-3677-4036-aac4-8ad4a7938487",
   "metadata": {},
   "source": [
    "++++++++++++++b\n",
    "\n",
    "\n",
    "Bu karakteri kullanarak bir sayıyı ikili düzendeki karşılığına dönüştürebiliriz:"
   ]
  },
  {
   "cell_type": "code",
   "execution_count": 17,
   "id": "657dc230-1a19-4d99-8ec2-0454e2e010a1",
   "metadata": {},
   "outputs": [
    {
     "data": {
      "text/plain": [
       "'1100'"
      ]
     },
     "execution_count": 17,
     "metadata": {},
     "output_type": "execute_result"
    }
   ],
   "source": [
    "'{:b}'.format(12)"
   ]
  },
  {
   "cell_type": "markdown",
   "id": "7dbe9c28-d611-4c65-a764-56e125df34ea",
   "metadata": {},
   "source": [
    "Bu karakter, bin() fonksiyonuyla aynı işi yapar.\n",
    "\n"
   ]
  },
  {
   "cell_type": "markdown",
   "id": "65229798-7f71-471a-9f38-bb9eaaefa65a",
   "metadata": {},
   "source": [
    "++++++++++++++x\n",
    "\n",
    "\n",
    "Bu karakteri kullanarak bir sayıyı on altılı düzendeki karşılığına dönüştürebiliriz:"
   ]
  },
  {
   "cell_type": "code",
   "execution_count": 18,
   "id": "b6c1b597-1401-4ba6-9631-e7012b7d337e",
   "metadata": {},
   "outputs": [
    {
     "data": {
      "text/plain": [
       "'7bc'"
      ]
     },
     "execution_count": 18,
     "metadata": {},
     "output_type": "execute_result"
    }
   ],
   "source": [
    "'{:x}'.format(1980)"
   ]
  },
  {
   "cell_type": "markdown",
   "id": "7de16b9a-b44e-41f0-86ad-5e63c63890f2",
   "metadata": {},
   "source": [
    "Bu karakter, hex() fonksiyonuyla aynı işi yapar.\n",
    "\n"
   ]
  },
  {
   "cell_type": "markdown",
   "id": "1e437af1-f8f5-4e00-a4c4-1dbdd252083f",
   "metadata": {},
   "source": [
    "+++++++++++++++o\n",
    "\n",
    "\n",
    "Bu karakteri kullanarak bir sayıyı sekizli düzendeki karşılığına dönüştürebiliriz:"
   ]
  },
  {
   "cell_type": "code",
   "execution_count": 19,
   "id": "5226c106-666f-4472-9f87-d7a8af78b357",
   "metadata": {},
   "outputs": [
    {
     "data": {
      "text/plain": [
       "'3674'"
      ]
     },
     "execution_count": 19,
     "metadata": {},
     "output_type": "execute_result"
    }
   ],
   "source": [
    "'{:o}'.format(1980)"
   ]
  },
  {
   "cell_type": "markdown",
   "id": "fae78540-3ec6-4fc6-b314-927475dfd90c",
   "metadata": {},
   "source": [
    "Bu karakter, oct() fonksiyonuyla aynı işi yapar.\n",
    "\n",
    "Bütün bu anlattıklarımızdan sonra (eğer o zaman anlamakta zorluk çekmişseniz) aşağıdaki kodları daha iyi anlamış olmalısınız:"
   ]
  },
  {
   "cell_type": "code",
   "execution_count": 20,
   "id": "49305dce-630d-4ca7-8405-afb11a92ec10",
   "metadata": {},
   "outputs": [
    {
     "name": "stdout",
     "output_type": "stream",
     "text": [
      "  onlu     sekizli  on altılı   ikili   \n",
      "    0         0         0         0    \n",
      "    1         1         1         1    \n",
      "    2         2         2        10    \n",
      "    3         3         3        11    \n",
      "    4         4         4        100   \n",
      "    5         5         5        101   \n",
      "    6         6         6        110   \n",
      "    7         7         7        111   \n",
      "    8        10         8       1000   \n",
      "    9        11         9       1001   \n",
      "   10        12         a       1010   \n",
      "   11        13         b       1011   \n",
      "   12        14         c       1100   \n",
      "   13        15         d       1101   \n",
      "   14        16         e       1110   \n",
      "   15        17         f       1111   \n",
      "   16        20        10       10000  \n"
     ]
    }
   ],
   "source": [
    "sayı_sistemleri = [\"onlu\", \"sekizli\", \"on altılı\", \"ikili\"]\n",
    "\n",
    "print((\"{:^9} \"*len(sayı_sistemleri)).format(*sayı_sistemleri))\n",
    "\n",
    "for i in range(17):\n",
    "    print(\"{0:^9} {0:^9o} {0:^9x} {0:^9b}\".format(i))"
   ]
  },
  {
   "cell_type": "markdown",
   "id": "93fe0763-d259-4e1e-80c0-c82ec929e68a",
   "metadata": {},
   "source": [
    "Bu arada, yukarıda bir sayının, karakter dizisi biçimlendirme yöntemleri kullanılarak ikili, sekizli ve on altılı düzene nasıl çevrileceğini gördük. Bir sayıyı onlu düzene çevirmek için ise sadece int() fonksiyonunu kullanabiliyoruz. Böyle bir çevirme işlemini karakter dizisi biçimlendirme yöntemlerini kullanarak yapamıyoruz. Ama elbette, eğer başka bir sayma sisteminden onlu sisteme çevirdiğiniz bir sayıyı herhangi bir karakter dizisi içinde biçimlendirmek isterseniz şöyle bir kod kullanabilirsiniz:\n",
    "\n"
   ]
  },
  {
   "cell_type": "code",
   "execution_count": 21,
   "id": "bfcbe295-bbe1-45d7-93b7-999bcf8acf75",
   "metadata": {},
   "outputs": [
    {
     "data": {
      "text/plain": [
       "'7bc sayısının onlu karşılığı 1980 sayısıdır.'"
      ]
     },
     "execution_count": 21,
     "metadata": {},
     "output_type": "execute_result"
    }
   ],
   "source": [
    "n = '7bc'\n",
    "\"{} sayısının onlu karşılığı {:d} sayısıdır.\".format(n, int(n, 16))"
   ]
  },
  {
   "cell_type": "markdown",
   "id": "372696ec-b6e8-4255-9784-d73960e2c15d",
   "metadata": {},
   "source": [
    "…veya:"
   ]
  },
  {
   "cell_type": "code",
   "execution_count": 22,
   "id": "6ea2c5b7-385d-44b9-99de-86a15ed24f9a",
   "metadata": {},
   "outputs": [
    {
     "data": {
      "text/plain": [
       "'7bc sayısının onlu karşılığı 1980 sayısıdır.'"
      ]
     },
     "execution_count": 22,
     "metadata": {},
     "output_type": "execute_result"
    }
   ],
   "source": [
    "n = '7bc'\n",
    "\"{} sayısının onlu karşılığı {} sayısıdır.\".format(n, int(n, 16))"
   ]
  },
  {
   "cell_type": "markdown",
   "id": "8016877d-5a5b-4c66-95bc-0bd810b9472a",
   "metadata": {},
   "source": [
    "Zira bildiğiniz gibi, Python’da onlu sayıları temsil eden harf d harfidir. Eğer {} yapısı içinde herhangi bir harf kullanmazsanız yukarıdaki durumda Python {:d} yazmışsınız gibi davranacaktır."
   ]
  },
  {
   "cell_type": "markdown",
   "id": "505fd730-d654-4b38-8ffd-2b0c9432d753",
   "metadata": {},
   "source": [
    "+++++++++++++++++Sayma Sistemlerinin Birbirlerine Karşı Avantajları\n",
    "\n",
    "\n",
    "Böylece dört farklı sayı sisteminin hangi mantık üzerine işlediğini anlamış olduk. Ayrıca sayı sistemleri arasında dönüştürme işlemlerini de öğrendik.\n",
    "\n",
    "İşte bilgisayarlar bu sayı sistemleri arasında sadece ikili sayı sistemini ‘anlayabilir’. Aslında bu da hiç mantıksız değil. Bilgisayar dediğimiz şey, üzerinden elektrik geçen devrelerden ibaret bir makinedir. Eğer bir devrede elektrik yoksa o devrenin değeri ~0 volt iken, o devreden elektrik geçtiğinde devrenin değeri ~5 volttur. Gördüğünüz gibi, ortada iki farklı değer var: ~0 volt ve ~5 volt. Yukarıda anlattığımız gibi, ikili (binary) sayma sisteminde de iki değer bulunur: 0 ve 1. Dolayısıyla ikili sayma sistemi bilgisayarın iç işleyişine en uygun sistemdir. ikili sistemde ~0 volt’u 0 ile, ~5 volt’u ise 1 ile temsil edebiliyoruz. Yani devreden elektrik geçtiğinde o devrenin değeri 1, elektrik geçmediğinde ise 0 olmuş oluyor. Tabii bilgisayar açısından bakıldığında devrede elektrik vardır veya yoktur. Biz insanlar bu ikili durumu daha kolay bir şekilde temsil edebilmek için her bir duruma 0 ve 1 gibi bir ad veriyoruz.\n",
    "\n",
    "Bilgisayarın işlemcisi sadece bu iki farklı durumu kullanarak her türlü hesaplama işlemini gerçekleştirebilir. Bu sebeple ikili sayı sistemi bilgisayarın çalışma mantığı için gayet yeterli ve uygundur. İkili sayı sistemi yerine mesela onlu sayı sistemini kullanmak herhalde simge israfından başka bir şey olmazdı. Neticede, dediğimiz gibi, bilgisayarın işleyebilmesi için iki farklı simge yeterlidir.\n",
    "\n",
    "Dediğimiz gibi, ikili sayma sistemi bilgisayarın yapısına gayet uygundur. Ama biz insanlar açısından sadece iki simge yardımıyla saymaya çalışmak epey zor olacaktır. Ayrıca sayı büyüdükçe, ikili sistemde sayının kapladığı alan hızla ve kolayca artacak, yığılan bu sayıları idare etmek hiç de kolay olmayacaktır. İşte bu noktada devreye on altılı (hexadecimal) sayılar girer. Bu sayma sisteminde toplam 16 farklı rakam/simge olduğu için, büyük sayılar çok daha az yer kaplayacak şekilde gösterilebilir.\n",
    "\n",
    "Bildiğiniz gibi, ikili sayma sistemindeki her bir basamağa ‘bit’ adı verilir. İkili sayma sistemini kullanarak, 0’dan 256’ya kadar sayabilmek için toplam 8 bitlik (yani 8 hanelik) bir yer kullanmanız gerekir. On altılı sistemde ise bu işlemi sadece iki basamakla halledebilirsiniz. Yani on altılı sistemde 00 ile FF arasına toplam 255 tane sayı sığdırılabilir. Dolayısıyla on altılı sistemi kullanarak, çok büyük sayıları çok az yer kullanarak gösterebilirsiniz:"
   ]
  },
  {
   "cell_type": "code",
   "execution_count": 24,
   "id": "6a31113d-ec66-4994-a6de-455d314fad1f",
   "metadata": {},
   "outputs": [
    {
     "name": "stdout",
     "output_type": "stream",
     "text": [
      "0 0 0\n",
      "1 1 1\n",
      "2 10 2\n",
      "3 11 3\n",
      "4 100 4\n",
      "5 101 5\n",
      "6 110 6\n",
      "7 111 7\n",
      "8 1000 8\n",
      "9 1001 9\n",
      "10 1010 a\n",
      "11 1011 b\n",
      "12 1100 c\n",
      "13 1101 d\n",
      "14 1110 e\n",
      "15 1111 f\n",
      "16 10000 10\n",
      "17 10001 11\n",
      "18 10010 12\n",
      "19 10011 13\n",
      "20 10100 14\n",
      "21 10101 15\n",
      "22 10110 16\n",
      "23 10111 17\n",
      "24 11000 18\n",
      "25 11001 19\n",
      "26 11010 1a\n",
      "27 11011 1b\n",
      "28 11100 1c\n",
      "29 11101 1d\n",
      "30 11110 1e\n",
      "31 11111 1f\n",
      "32 100000 20\n",
      "33 100001 21\n",
      "34 100010 22\n",
      "35 100011 23\n",
      "36 100100 24\n",
      "37 100101 25\n",
      "38 100110 26\n",
      "39 100111 27\n",
      "40 101000 28\n",
      "41 101001 29\n",
      "42 101010 2a\n",
      "43 101011 2b\n",
      "44 101100 2c\n",
      "45 101101 2d\n",
      "46 101110 2e\n",
      "47 101111 2f\n",
      "48 110000 30\n",
      "49 110001 31\n",
      "50 110010 32\n",
      "51 110011 33\n",
      "52 110100 34\n",
      "53 110101 35\n",
      "54 110110 36\n",
      "55 110111 37\n",
      "56 111000 38\n",
      "57 111001 39\n",
      "58 111010 3a\n",
      "59 111011 3b\n",
      "60 111100 3c\n",
      "61 111101 3d\n",
      "62 111110 3e\n",
      "63 111111 3f\n",
      "64 1000000 40\n",
      "65 1000001 41\n",
      "66 1000010 42\n",
      "67 1000011 43\n",
      "68 1000100 44\n",
      "69 1000101 45\n",
      "70 1000110 46\n",
      "71 1000111 47\n",
      "72 1001000 48\n",
      "73 1001001 49\n",
      "74 1001010 4a\n",
      "75 1001011 4b\n",
      "76 1001100 4c\n",
      "77 1001101 4d\n",
      "78 1001110 4e\n",
      "79 1001111 4f\n",
      "80 1010000 50\n",
      "81 1010001 51\n",
      "82 1010010 52\n",
      "83 1010011 53\n",
      "84 1010100 54\n",
      "85 1010101 55\n",
      "86 1010110 56\n",
      "87 1010111 57\n",
      "88 1011000 58\n",
      "89 1011001 59\n",
      "90 1011010 5a\n",
      "91 1011011 5b\n",
      "92 1011100 5c\n",
      "93 1011101 5d\n",
      "94 1011110 5e\n",
      "95 1011111 5f\n",
      "96 1100000 60\n",
      "97 1100001 61\n",
      "98 1100010 62\n",
      "99 1100011 63\n",
      "100 1100100 64\n",
      "101 1100101 65\n",
      "102 1100110 66\n",
      "103 1100111 67\n",
      "104 1101000 68\n",
      "105 1101001 69\n",
      "106 1101010 6a\n",
      "107 1101011 6b\n",
      "108 1101100 6c\n",
      "109 1101101 6d\n",
      "110 1101110 6e\n",
      "111 1101111 6f\n",
      "112 1110000 70\n",
      "113 1110001 71\n",
      "114 1110010 72\n",
      "115 1110011 73\n",
      "116 1110100 74\n",
      "117 1110101 75\n",
      "118 1110110 76\n",
      "119 1110111 77\n",
      "120 1111000 78\n",
      "121 1111001 79\n",
      "122 1111010 7a\n",
      "123 1111011 7b\n",
      "124 1111100 7c\n",
      "125 1111101 7d\n",
      "126 1111110 7e\n",
      "127 1111111 7f\n",
      "128 10000000 80\n",
      "129 10000001 81\n",
      "130 10000010 82\n",
      "131 10000011 83\n",
      "132 10000100 84\n",
      "133 10000101 85\n",
      "134 10000110 86\n",
      "135 10000111 87\n",
      "136 10001000 88\n",
      "137 10001001 89\n",
      "138 10001010 8a\n",
      "139 10001011 8b\n",
      "140 10001100 8c\n",
      "141 10001101 8d\n",
      "142 10001110 8e\n",
      "143 10001111 8f\n",
      "144 10010000 90\n",
      "145 10010001 91\n",
      "146 10010010 92\n",
      "147 10010011 93\n",
      "148 10010100 94\n",
      "149 10010101 95\n",
      "150 10010110 96\n",
      "151 10010111 97\n",
      "152 10011000 98\n",
      "153 10011001 99\n",
      "154 10011010 9a\n",
      "155 10011011 9b\n",
      "156 10011100 9c\n",
      "157 10011101 9d\n",
      "158 10011110 9e\n",
      "159 10011111 9f\n",
      "160 10100000 a0\n",
      "161 10100001 a1\n",
      "162 10100010 a2\n",
      "163 10100011 a3\n",
      "164 10100100 a4\n",
      "165 10100101 a5\n",
      "166 10100110 a6\n",
      "167 10100111 a7\n",
      "168 10101000 a8\n",
      "169 10101001 a9\n",
      "170 10101010 aa\n",
      "171 10101011 ab\n",
      "172 10101100 ac\n",
      "173 10101101 ad\n",
      "174 10101110 ae\n",
      "175 10101111 af\n",
      "176 10110000 b0\n",
      "177 10110001 b1\n",
      "178 10110010 b2\n",
      "179 10110011 b3\n",
      "180 10110100 b4\n",
      "181 10110101 b5\n",
      "182 10110110 b6\n",
      "183 10110111 b7\n",
      "184 10111000 b8\n",
      "185 10111001 b9\n",
      "186 10111010 ba\n",
      "187 10111011 bb\n",
      "188 10111100 bc\n",
      "189 10111101 bd\n",
      "190 10111110 be\n",
      "191 10111111 bf\n",
      "192 11000000 c0\n",
      "193 11000001 c1\n",
      "194 11000010 c2\n",
      "195 11000011 c3\n",
      "196 11000100 c4\n",
      "197 11000101 c5\n",
      "198 11000110 c6\n",
      "199 11000111 c7\n",
      "200 11001000 c8\n",
      "201 11001001 c9\n",
      "202 11001010 ca\n",
      "203 11001011 cb\n",
      "204 11001100 cc\n",
      "205 11001101 cd\n",
      "206 11001110 ce\n",
      "207 11001111 cf\n",
      "208 11010000 d0\n",
      "209 11010001 d1\n",
      "210 11010010 d2\n",
      "211 11010011 d3\n",
      "212 11010100 d4\n",
      "213 11010101 d5\n",
      "214 11010110 d6\n",
      "215 11010111 d7\n",
      "216 11011000 d8\n",
      "217 11011001 d9\n",
      "218 11011010 da\n",
      "219 11011011 db\n",
      "220 11011100 dc\n",
      "221 11011101 dd\n",
      "222 11011110 de\n",
      "223 11011111 df\n",
      "224 11100000 e0\n",
      "225 11100001 e1\n",
      "226 11100010 e2\n",
      "227 11100011 e3\n",
      "228 11100100 e4\n",
      "229 11100101 e5\n",
      "230 11100110 e6\n",
      "231 11100111 e7\n",
      "232 11101000 e8\n",
      "233 11101001 e9\n",
      "234 11101010 ea\n",
      "235 11101011 eb\n",
      "236 11101100 ec\n",
      "237 11101101 ed\n",
      "238 11101110 ee\n",
      "239 11101111 ef\n",
      "240 11110000 f0\n",
      "241 11110001 f1\n",
      "242 11110010 f2\n",
      "243 11110011 f3\n",
      "244 11110100 f4\n",
      "245 11110101 f5\n",
      "246 11110110 f6\n",
      "247 11110111 f7\n",
      "248 11111000 f8\n",
      "249 11111001 f9\n",
      "250 11111010 fa\n",
      "251 11111011 fb\n",
      "252 11111100 fc\n",
      "253 11111101 fd\n",
      "254 11111110 fe\n",
      "255 11111111 ff\n"
     ]
    }
   ],
   "source": [
    "for i in range(256):\n",
    "    print(i, bin(i)[2:], hex(i)[2:])"
   ]
  },
  {
   "cell_type": "markdown",
   "id": "6d97e60d-874b-479b-a62f-f2ac0c02c764",
   "metadata": {},
   "source": [
    "Gördüğünüz gibi, onlu sistemde 255 şeklinde, ikili sistemde ise 11111111 şeklinde gösterilen sayı on altılı sistemde yalnızca ff şeklinde gösterilebiliyor. Dolayısıyla, kullanım açısından, biz insanlar için on altılık sayma sisteminin ikili sisteme kıyasla çok daha pratik bir yöntem olduğunu söyleyebiliriz.\n",
    "\n",
    "Ayrıca on altılı sistem, az alana çok veri sığdırabilme özelliği nedeniyle HTML renk kodlarının gösterilmesinde de tercih edilir. Örneğin beyaz rengi temsil etmek için on altılı sistemdeki #FFFFFF ifadesini kullanmak rgb(255,255,255) ifadesini kullanmaya kıyasla çok daha mantıklıdır. Hatta #FFFFFF ifadesini #FFF şeklinde kısaltma imkanı dahi vardır."
   ]
  },
  {
   "cell_type": "code",
   "execution_count": null,
   "id": "4d98bd13-a7bb-45cc-85f0-2f14dbf48869",
   "metadata": {},
   "outputs": [],
   "source": []
  }
 ],
 "metadata": {
  "kernelspec": {
   "display_name": "Python 3 (ipykernel)",
   "language": "python",
   "name": "python3"
  },
  "language_info": {
   "codemirror_mode": {
    "name": "ipython",
    "version": 3
   },
   "file_extension": ".py",
   "mimetype": "text/x-python",
   "name": "python",
   "nbconvert_exporter": "python",
   "pygments_lexer": "ipython3",
   "version": "3.10.12"
  }
 },
 "nbformat": 4,
 "nbformat_minor": 5
}
