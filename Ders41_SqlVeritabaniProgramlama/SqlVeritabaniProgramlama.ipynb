{
 "cells": [
  {
   "cell_type": "markdown",
   "id": "9414803f-1185-40ac-9e6f-a42785a4ae93",
   "metadata": {},
   "source": [
    "++++++++++++++++Sqlite ile Veritabanı Programlama\n",
    "\n",
    "+++++++++++Giriş\n",
    "\n",
    "Bu bölümde, Python’daki ileri düzey konulardan biri olan veritabanı programlamayı (database programming) inceleyeceğiz. Dilerseniz öncelikle ‘veritabanı’ denen şeyin ne olduğunu anlamaya çalışarak işe başlayalım.\n",
    "\n",
    "Esasında veritabanı, hiçbirimizin yabancısı olduğu bir kavram değil. Biz bu kelimeyi, teknik anlamının dışında, günlük hayatta da sıkça kullanıyoruz. Veritabanı, herkesin bildiği ve kullandığı anlamıyla, içinde veri barındıran bir ‘şey’dir. Günlük kullanımda, hakikaten, içinde veri barındıran her şeye veritabanı dendiğini duyarsınız.\n",
    "\n",
    "Veritabanı kelimesinin günlük kullanımdaki anlamı dışında bir de teknik anlamı vardır. Bizi esas ilgilendiren de zaten terimin teknik anlamıdır. Mesela Vikipedi’de veritabanı şöyle tanımlanıyor:\n",
    "\n",
    "Bilgisayar terminolojisinde, sistematik erişim imkânı olan, yönetilebilir, güncellenebilir, taşınabilir, birbirleri arasında tanımlı ilişkiler bulunabilen bilgiler kümesidir. Bir başka tanımı da, bir bilgisayarda sistematik şekilde saklanmış, programlarca işlenebilecek veri yığınıdır.\n",
    "\n",
    "Yukarıdaki tanım, veritabanının ne demek olduğunu gayet iyi ifade ediyor. Ama esasında bizim veritabanı tanımı üzerinde fazlaca durmamıza gerek yok. Biz her zaman olduğu gibi işin teknik boyutuyla değil, taktik boyutuyla ilgilenmeyi tercih edeceğiz. O halde yavaş yavaş işe koyulmaya başlayalım.\n",
    "\n",
    "Python’la veritabanı programlama işlemleri için pek çok alternatifimiz var. Python’la hangi veritabanı sistemlerini kullanabileceğinizi görmek için https://wiki.python.org/moin/DatabaseInterfaces adresindeki listeyi inceleyebilirsiniz. Biz bunlar içinde, sadeliği, basitliği ve kullanım kolaylığı nedeniyle Sqlite adlı veritabanı yönetim sistemini ele alacağız.\n",
    "\n",
    "+++++++++++++++++Neden Sqlite?\n",
    "\n",
    "Dediğimiz gibi, Python’da veritabanı işlemleri için kullanabileceğiniz pek çok alternatif bulunur. Ama biz bütün bu alternatifler içinde Sqlite’ı tercih edeceğiz. Peki neden Sqlite?\n",
    "\n",
    "Sqlite’ın öteki sistemlere göre pek çok avantajı bulunur. Gelin isterseniz Sqlite’ın bazı avantajlarına şöyle bir göz gezdirelim:\n",
    "\n",
    "Her şeyden önce Sqlite Python’un 2.5 sürümlerinden bu yana bu dilin bir parçasıdır. Dolayısıyla eğer kullandığınız Python sürümü 2.5 veya üstü ise Sqlite’ı Python’daki herhangi bir modül gibi içe aktarabilir ve kullanmaya başlayabilirsiniz.\n",
    "\n",
    "Sqlite herhangi bir yazılım veya sunucu kurulumu gerektirmez. Bu sayede, bu modülü kullanabilmek için öncelikle bir sunucu yapılandırmanıza da gerek yoktur. Bazı veritabanlarını kullanabilmek için arka planda bir veritabanı sunucusu çalıştırıyor olmanız gerekir. Sqlite’ta ise böyle bir şey yapmazsınız.\n",
    "\n",
    "Sqlite, öteki pek çok veritabanı alternatifine göre basittir. Bu yüzden Sqlite’ı çok kısa bir sürede kavrayıp kullanmaya başlayabilirsiniz.\n",
    "\n",
    "Sqlite özgür bir yazılımdır. Bu yazılımın baştan aşağı bütün kodları kamuya açıktır. Dolayısıyla Sqlite kodlarının her zerresini istediğiniz gibi kullanabilir, değişikliğe uğratabilir, satabilir ve ticari olan/olmayan bütün uygulamalarınızda gönül rahatlığıyla kullanabilirsiniz.\n",
    "\n",
    "Sqlite’ın sade ve basit olması sizi yanıltmasın. Bu özelliklerine bakarak, Sqlite’ın yeteneksiz bir veritabanı sistemi olduğunu düşünmeyin. Bugün Sqlite’ı aktif olarak kullanan pek çok büyük ve tanınmış şirket bulunur. Mesela, Adobe, Apple, Mozilla/Firefox, Google, Symbian ve Sun bu şirketlerden bazılarıdır. Hatta GNOME masaüstü ortamının sevilen müzik ve video çalarlarından Banshee’de de veritabanı olarak Sqlite kullanıldığını söyleyelim.\n",
    "\n",
    "Yukarıdaki sebeplerden ötürü, veritabanı konusunu Sqlite üzerinden anlatacağız. O halde hemen yola koyulalım.\n",
    "\n",
    "++++++++++++++Sqlite’ın Yapısı\n",
    "\n",
    "Bu bölümün en başında verdiğimiz veritabanı tanımından da anlaşılacağı gibi, veritabanları, verileri sonradan kullanılmak üzere içinde tutan bir sistemdir. Bütün ilişkisel veritabanlarında olduğu gibi, Sqlite da bu verileri tablo benzeri bir yapı içinde tutar. Yani aslında bir Sqlite veritabanı içindeki veriler şöyle bir yapıya sahiptir:\n",
    "\n",
    "\n",
    "Sqlite içinde oluşturulan yukarıdakine benzer her tablonun bir de ismi vardır. Daha doğrusu, Sqlite ile bir tablo oluştururken, bu tabloya bir de ad vermemiz gerekir. Mesela yukarıdaki tabloya ‘değerler’ adını verdiğimizi varsayabilirsiniz.\n",
    "\n",
    "Sqlite ile çalışırken veriler üzerinde yapacağımız işlemleri, yukarıdaki tablonun adını ve bu tablodaki sütunları kullanarak gerçekleştireceğiz. Bu yüzden Sqlite’ın yapısını anlamak büyük önem taşır. Gördüğünüz gibi, bu veritabanı sisteminin yapısını anlamak da öyle zor bir iş değildir.\n",
    "\n",
    "Yardımcı Araçlar\n",
    "Veritabanları üzerinde yapacağımız çalışmalar sırasında, işlerimizi kolaylaştırmak için bazı harici araçlara da ihtiyaç duyacağız. Gelin şimdi bu araçları tanıyalım.\n",
    "\n",
    "++++++++++++++Sqlitebrowser\n",
    "\n",
    "Sqlitebrowser, Sqlite veritabanlarının içeriğini grafik bir arayüz aracılığıyla görüntüleyebilmemizi sağlayan bir program. Bu program sayesinde, veritabanı üzerinde yaptığınız çalışmanın doğru sonuç verip vermediğini teyit edebilir, elinizdeki veritabanının içeriğinde hangi verilerin olduğunu açık seçik görebilirsiniz.\n",
    "\n",
    "Bu programı indirmek için ziyaret etmemiz gereken adres https://sqlitebrowser.org/.\n",
    "\n",
    "Eğer siz bir Windows kullanıcısı iseniz, sitedeki .exe dosyasını indirip, programı herhangi bir Windows programı gibi kurabilirsiniz.\n",
    "\n",
    "GNU/Linux kullanıcılarının önünde ise her zaman olduğu gibi birkaç farklı seçenek var. Öncelikle, bu program çoğu GNU/Linux dağıtımının paket deposunda zaten bulunur. Dolayısıyla bu programı dağıtımınızın paket deposu aracılığıyla rahatlıkla kurabilirsiniz. Mesela Ubuntu kullananlar şu komutla programı kurabilir:\n",
    "\n"
   ]
  },
  {
   "cell_type": "code",
   "execution_count": null,
   "id": "dd3e6770-8a60-42d5-98b9-8a896ab1903f",
   "metadata": {},
   "outputs": [],
   "source": [
    "sudo apt-get install sqlitebrowser"
   ]
  },
  {
   "cell_type": "markdown",
   "id": "98a48596-72b7-41f3-8710-cdfb3ed8eab2",
   "metadata": {},
   "source": [
    "GNU/Linux kullanıcıları, eğer arzu ederlerse, programın kaynak kodlarını sitesinden indirip programı kendileri derlemeyi de tercih edebilir. Bunun için öncelikle https://sqlitebrowser.org/ adresine gidip .tar.gz uzantılı dosyayı indirin.\n",
    "\n",
    "Bu programı derlemeye geçmeden önce şu bağımlılıkları kurmamız gerekiyor:\n",
    "\n",
    "cmake\n",
    "\n",
    "libqt4-dev\n",
    "\n",
    "libsqlite3-dev\n",
    "\n",
    "Ubuntu’da ayrıca build-essential paketine de ihtiyacınız olacak. Ubuntu kullanıcıları şu komutu vererek Sqlitebrowser programının bütün bağımlılıklarını sistemlerine kurabilir:\n",
    "\n",
    "sudo apt-get install build-essential cmake libqt4-dev libsqlite3-dev\n",
    "Bağımlılıkları kurduktan sonra, indirdiğiniz .tar.gz dosyasını aşağıdaki komut yardımıyla açın:\n",
    "\n"
   ]
  },
  {
   "cell_type": "code",
   "execution_count": null,
   "id": "465b70cd-4f3f-47d4-bbb3-61e818ccbc1f",
   "metadata": {},
   "outputs": [],
   "source": [
    "tar zxvf sqlitebrowser-3.7.0.tar.gz"
   ]
  },
  {
   "cell_type": "markdown",
   "id": "9f544586-8685-46a7-861f-cf651e11f773",
   "metadata": {},
   "source": [
    "Ben burada indirdiğiniz program sürümünün 3.7.0 olduğunu varsaydım. Sizin indirdiğiniz sürüm farklıysa yukarıdaki komutu o sürüme göre vereceksiniz.\n",
    "\n",
    "Daha sonra şu komutu vererek, açtığınız klasörün içine girin:"
   ]
  },
  {
   "cell_type": "code",
   "execution_count": null,
   "id": "ebbedf9f-bf3d-41c3-b333-1d7c7c7bf8cf",
   "metadata": {},
   "outputs": [],
   "source": [
    "cd sqlitebrowser-3.7.0"
   ]
  },
  {
   "cell_type": "markdown",
   "id": "eca36354-4104-421a-9230-bdc50af51b1e",
   "metadata": {},
   "source": [
    "Yine, burada da klasör adı ve sürüm numarası sizde farklıysa komutu düzeltin.\n",
    "\n",
    "Ardından sırasıyla şu komutları verin (cmake komutunun yanındaki nokta işaretine dikkat!!):\n",
    "\n"
   ]
  },
  {
   "cell_type": "code",
   "execution_count": null,
   "id": "d0a4467d-f728-47b8-b924-810efe853942",
   "metadata": {},
   "outputs": [],
   "source": [
    "cmake .\n",
    "make\n",
    "sudo make install"
   ]
  },
  {
   "cell_type": "markdown",
   "id": "420cc451-8ee7-4500-8853-b360327d36ea",
   "metadata": {},
   "source": [
    "Böylece Sqlitebrowser programını sisteminize kurmuş oldunuz. Programın kurulduğunu teyit etmek için şu komutu çalıştırın:\n",
    "\n"
   ]
  },
  {
   "cell_type": "code",
   "execution_count": null,
   "id": "0976e34d-581d-4a10-8aec-fb1b141076f0",
   "metadata": {},
   "outputs": [],
   "source": [
    "sqlitebrowser"
   ]
  },
  {
   "cell_type": "markdown",
   "id": "7941674b-f64b-4c34-948c-1b76a4c481fd",
   "metadata": {},
   "source": [
    "Eğer program penceresi açıldıysa her şey yolunda demektir. Eğer programı çalıştıramadıysanız veya yukarıdaki komutları anlamakta ve işletmekte zorluk çekiyorsanız paket deponuzdaki Sqlitebrowser sürümü ile yola devam etmenizi tavsiye ederim. Ya da eğer arzu ederseniz, https://forum.yazbel.com/ adresine uğrayıp yardım talebinde bulunabilirsiniz.\n",
    "\n",
    "+++++++++++++++Örnek Veritabanı\n",
    "\n",
    "Sqlite’ı öğrenirken, içinde örnek veriler barındıran bir veritabanının elimizin altında bulunması alıştırma yapabilmek açısından faydalı olacaktır. Bunun için https://web.archive.org/web/20170511004853/http://www.istihza.com/denemeler/kitaplar.sqlite adresindeki örnek veritabanını bilgisayarınıza indirin. Veritabanı sorgu çalışmalarımızı bu örnek veritabanı üzerinde gerçekleştireceğiz.\n",
    "\n",
    "Şimdi mesela biraz önce indirip kurduğunuz Sqlitebrowser programını çalıştırın ve File > Open Database yolunu takip ederek bu kitaplar.sqlite adlı veritabanı dosyasını açın. Eğer Sqlitebrowser programını Sqlite veritabanı dosyaları ile ilişkilendirdiyseniz, kitaplar.sqlite dosyası üzerine çift tıkladığınızda da bu veritabanı dosyası otomatik olarak Sqlitebrowser programı ile açılacaktır. Ayrıca elbette veritabanı dosyası üzerine sağ tıklayıp, ‘Birlikte aç…’ seçeneğini kullanarak da Sqlitebrowser programını çalıştırmayı deneyebilirsiniz.\n",
    "\n",
    "Sqlitebrowser programını çalıştırıp, kitaplar.sqlite dosyasını da açtıktan sonra, program penceresi üzerindeki ‘Browse Data’ sekmesine tıklayarak veritabanının içinde ne tür verilerin olduğunu inceleyin. Gördüğünüz gibi, Sqlitebrowser programı, veritabanı içindeki verileri görselleştirmek açısından epey kolaylık sağlıyor. Birazdan bu verilere Python aracılığıyla nasıl erişebileceğimizi de öğreneceğiz.\n",
    "\n",
    "++++++++++++++Yeni Bir Veritabanı Oluşturmak\n",
    "\n",
    "Bu bölümde sqlite adlı bir modül aracılığıyla yeni bir veritabanını nasıl oluşturacağımızı öğreneceğiz.\n",
    "\n",
    "Yukarıda sqlite adlı bir modülden söz ettik. Dolayısıyla, tahmin edebileceğiniz gibi, bu modülü kullanabilmek için öncelikle modülü içe aktarmamız gerekiyor. Bu bölümün başında da söylediğimiz gibi, Sqlite, Python’ın 2.5 sürümünden bu yana dilin bir parçasıdır:\n",
    "\n"
   ]
  },
  {
   "cell_type": "code",
   "execution_count": 1,
   "id": "fa8091fd-0d27-4b2f-941c-e267074bacdd",
   "metadata": {},
   "outputs": [],
   "source": [
    "import sqlite3"
   ]
  },
  {
   "cell_type": "markdown",
   "id": "07daa751-e098-4090-97b9-a683eb3e811c",
   "metadata": {},
   "source": [
    "Python’da Sqlite veritabanı sistemine ait modül ‘sqlite3’ adını taşır. Bu yüzden, bu modülü içe aktarmak için import sqlite3 ifadesini kullanmamız gerekiyor. Eğer bu isim size çok uzun geliyorsa veya modül adında sayıların ve harflerin birlikte bulunması nedeniyle hem sayı hem de harf girmeyi bir angarya olarak görüyorsanız elbette sqlite3 modülünü farklı bir adla da içe aktarabileceğinizi biliyorsunuz. Mesela:"
   ]
  },
  {
   "cell_type": "code",
   "execution_count": null,
   "id": "2a3fe8c5-c50a-423e-b4dc-8d5059154086",
   "metadata": {},
   "outputs": [],
   "source": [
    "import sqlite3 as sql"
   ]
  },
  {
   "cell_type": "markdown",
   "id": "2aefa93b-4d3b-4b7b-81da-111dddd2f283",
   "metadata": {},
   "source": [
    "Veya:"
   ]
  },
  {
   "cell_type": "code",
   "execution_count": null,
   "id": "740bad4a-f589-4a69-b8ae-7ec70b1742e6",
   "metadata": {},
   "outputs": [],
   "source": [
    "import sqlite3 as lite"
   ]
  },
  {
   "cell_type": "markdown",
   "id": "eb77c5a1-cd87-4d61-a30e-7bf43dcbd98b",
   "metadata": {},
   "source": [
    "Böylece sqlite3 modülünü ‘sql’ veya ‘lite’ adıyla içe aktarmış olduk. Ancak ben konuyu anlatırken, okur açısından kafa karışıklığına sebep olmamak için, modülü import sqlite3 şeklinde içe aktarmışız gibi davranacağım.\n",
    "\n",
    "Gelelim bu modül yardımıyla nasıl veritabanı oluşturulacağına… Bunun için sqlite3 modülünün connect() adlı metodundan yararlanacağız. Bu metodu şu şekilde kullanıyoruz:\n",
    "\n"
   ]
  },
  {
   "cell_type": "code",
   "execution_count": null,
   "id": "d576c805-3a6d-4d6c-964d-6f083da69192",
   "metadata": {},
   "outputs": [],
   "source": [
    "vt = sqlite3.connect('veritabanı_adı')"
   ]
  },
  {
   "cell_type": "markdown",
   "id": "cddc5b59-6dad-477e-a0b4-52ad99e3c8f5",
   "metadata": {},
   "source": [
    "connect() metoduna verdiğimiz varitabanı_adı adlı argüman, kullanacağımız veritabanının adıdır. Eğer belirtilen isimde bir veritabanı sistemde bulunmuyorsa o adla yeni bir veritabanı oluşturulacaktır. Mesela:\n",
    "\n"
   ]
  },
  {
   "cell_type": "code",
   "execution_count": null,
   "id": "f3492862-574f-46d5-b44a-82fb02319eb8",
   "metadata": {},
   "outputs": [],
   "source": [
    "vt = sqlite3.connect('deneme.sqlite')"
   ]
  },
  {
   "cell_type": "markdown",
   "id": "7158695b-a800-4ac2-b1a9-bd5975078e66",
   "metadata": {},
   "source": [
    "Eğer bu komutu verdiğiniz dizin içinde deneme.sqlite adlı bir veritabanı yoksa, bu ada sahip bir veritabanı oluşturulacaktır.\n",
    "\n",
    "Bu arada, biz veritabanı dosyasının uzantısı olarak .sqlite’ı seçtik. Ama eğer siz isterseniz kendinize uygun başka bir uzantı da belirleyebilirsiniz. Veritabanı dosyasının uzantısının ne olması gerektiği konusunda kesin kurallar bulunmaz. .sqlite uzantısının yerine, .sqlite3, .db veya .db3 gibi uzantıları tercih edenler de vardır. Hatta eğer siz isterseniz veritabanınızın uzantısını .osman olarak dahi belirleyebilirsiniz. Bu konuda herhangi bir kısıtlama bulunmaz.\n",
    "\n",
    "Yukarıdaki örnekte deneme.sqlite adını verdiğimiz bir veritabanı dosyasına, connect() metodu yardımıyla bağlandık. Elbette isteseydik connect() metoduna argüman olarak tam dosya yolu da verebilirdik:\n",
    "\n"
   ]
  },
  {
   "cell_type": "code",
   "execution_count": null,
   "id": "4e6cef64-64d9-4969-b0b4-c20ec843c36c",
   "metadata": {},
   "outputs": [],
   "source": [
    "import sqlite3\n",
    "vt = sqlite3.connect('/home/istihza/test.sqlite') #GNU/Linux\n",
    "vt = sqlite3.connect('c:/users/fozgul/desktop/test.sqlite') #Windows"
   ]
  },
  {
   "cell_type": "markdown",
   "id": "734f31f8-655e-4608-95b2-f8169546e664",
   "metadata": {},
   "source": [
    "Bu komut yardımıyla sabit disk üzerinde bir Sqlite veritabanı dosyası oluşturmuş oluyoruz. Ancak isterseniz sqlite3 ile geçici bir veritabanı da oluşturabilirsiniz:\n",
    "\n"
   ]
  },
  {
   "cell_type": "code",
   "execution_count": null,
   "id": "55b87d42-cec3-4c54-b327-8e343165b227",
   "metadata": {},
   "outputs": [],
   "source": [
    "vt = sqlite3.connect(':memory:')"
   ]
  },
  {
   "cell_type": "markdown",
   "id": "88874748-9bc5-4a14-b0cc-25f27d468de9",
   "metadata": {},
   "source": [
    "Oluşturduğunuz bu geçici veritabanı sabit disk üzerinde değil RAM (bellek) üzerinde çalışır. Veritabanını kapattığınız anda da bu geçici veritabanı silinir. Eğer arzu ederseniz, RAM üzerinde değil, disk üzerinde de geçici veritabanları oluşturabilirsiniz. Bunun için de şöyle bir komut kullanıyoruz:\n",
    "\n"
   ]
  },
  {
   "cell_type": "code",
   "execution_count": null,
   "id": "9188f836-2b67-4b4c-92b1-2d3e5228b989",
   "metadata": {},
   "outputs": [],
   "source": [
    "vt = sqlite3.connect('')"
   ]
  },
  {
   "cell_type": "markdown",
   "id": "30f1cc38-4245-4cd4-a75f-ed92551728c3",
   "metadata": {},
   "source": [
    "Gördüğünüz gibi, disk üzerinde geçici bir veritabanı oluşturmak için boş bir karakter dizisi kullandık. Tıpkı :memory: kullanımında olduğu gibi, boş karakter dizisiyle oluşturulan geçici veritabanları da veritabanı bağlantısının kesilmesiyle birlikte ortadan kalkacaktır.\n",
    "\n",
    "Geçici veritabanı oluşturmak, özellikle çeşitli testler veya denemeler yaptığınız durumlarda işinize yarar. Sonradan nasıl olsa sileceğiniz, sırf test amaçlı tuttuğunuz bir veritabanını disk üzerinde oluşturmak yerine RAM üzerinde oluşturmayı tercih edebilirsiniz. Ayrıca, geçici veritabanları sayesinde, yazdığınız bir kodu test ederken bir hatayla karşılaşırsanız sorunun veritabanı içinde varolan verilerden değil, yazdığınız koddan kaynaklandığından da emin olabilirsiniz. Çünkü, dediğimiz gibi, programın her yeniden çalışışında veritabanı baştan oluşturulacaktır.\n",
    "\n",
    "Dikkatinizi çekmek istediğim bir nokta da şudur: Gördüğünüz gibi Sqlite, veritabanını o anda içinde bulunduğunuz dizin içinde oluşturuyor. Mesela MySQL kullanıyor olsaydınız, oluşturulan veritabanlarının önceden tanımlanmış bir dizin içine atıldığını görecektiniz. Örneğin GNU/Linux sistemlerinde, MySQL veritabanları /var/lib/mysql gibi bir dizinin içinde tutulur.\n",
    "\n",
    "++++++++++++++++Varolan Bir Veritabanıyla Bağlantı Kurmak\n",
    "\n",
    "Biraz önce, deneme.sqlite adlı yeni bir Sqlite veritabanı oluşturmak için şöyle bir komut kullanmıştık:"
   ]
  },
  {
   "cell_type": "code",
   "execution_count": null,
   "id": "ca95573f-15e6-4ae9-b296-396820779ae3",
   "metadata": {},
   "outputs": [],
   "source": [
    "vt = sqlite3.connect('deneme.sqlite')"
   ]
  },
  {
   "cell_type": "markdown",
   "id": "f5f0660d-8235-4471-8796-961baf00dcf0",
   "metadata": {},
   "source": [
    "Eğer bu komutu verdiğiniz dizin içinde deneme.sqlite adlı bir veritabanı yoksa, bu ada sahip bir veritabanı oluşturulur. Eğer zaten bu adla bir veritabanı dosyanız varsa, sqlite3 bu veritabanına bağlanacaktır. Dolayısıyla Sqlite’ta hem yeni bir veritabanı oluşturmak hem de mevcut bir veritabanına bağlanmak için birbiriyle tamamen aynı kodları kullanıyoruz.\n",
    "\n",
    "Mesela biraz önce https://web.archive.org/web/20170511004853/http://www.istihza.com/denemeler/kitaplar.sqlite adresinden indirdiğimiz kitaplar.sqlite adlı veritabanına bağlanalım.\n",
    "\n",
    "Bu dosyanın bulunduğu konumda bir Python etkileşimli kabuk oturumu açtığımızı varsayarsak:\n",
    "\n"
   ]
  },
  {
   "cell_type": "code",
   "execution_count": null,
   "id": "a386fe9e-46bc-4d07-b419-ed11ca935df6",
   "metadata": {},
   "outputs": [],
   "source": [
    "vt = sqlite3.connect('kitaplar.sqlite')"
   ]
  },
  {
   "cell_type": "markdown",
   "id": "bbf8d7fb-fc98-4cb4-9e26-9cacb879b8e8",
   "metadata": {},
   "source": [
    "komutunu kullanarak kitaplar.sqlite adlı veritabanıyla bağlantı kurabiliriz.\n",
    "\n",
    "+++++++++++İmleç Oluşturma\n",
    "\n",
    "Yukarıda connect() metodunu kullanarak hem Sqlite ile nasıl veritabanı bağlantısı kuracağımızı hem de nasıl yeni bir veritabanı oluşturacağımızı öğrendik.\n",
    "\n",
    "connect() metodu, bir veritabanı üzerinde işlem yapabilmemizin ilk adımıdır. Veritabanını oluşturduktan veya varolan bir veritabanı ile bağlantı kurduktan sonra, veritabanı üzerinde işlem yapabilmek için sonraki adımda bir imleç oluşturmamız gerekir.\n",
    "\n",
    "İmleç oluşturmak için cursor() adlı bir metottan yararlanacağız:\n",
    "\n"
   ]
  },
  {
   "cell_type": "code",
   "execution_count": null,
   "id": "3370effc-6429-4d01-b581-758615f22e3d",
   "metadata": {},
   "outputs": [],
   "source": [
    "im = vt.cursor()"
   ]
  },
  {
   "cell_type": "markdown",
   "id": "b65ca780-82e2-414d-be3a-70f13521845e",
   "metadata": {},
   "source": [
    "İmleci oluşturduktan sonra artık önümüz iyice açılıyor. Böylece, yukarıda oluşturduğumuz im nesnesinin execute() metodunu kullanarak SQL komutlarını çalıştırabileceğiz. Nasıl mı? Hemen bakalım.\n",
    "\n",
    "++++++++Tablo Oluşturma\n",
    "\n",
    "Önceki bölümün sonunda söylediğimiz gibi, bir imleç nesnesi oluşturduktan sonra bunun execute() metodunu kullanarak SQL komutlarını işletebiliyoruz.\n",
    "\n",
    "Dilerseniz şimdi basit bir örnek yaparak neyin ne olduğunu anlamaya çalışalım.\n",
    "\n",
    "Öncelikle gerekli modülü içe aktaralım:"
   ]
  },
  {
   "cell_type": "code",
   "execution_count": null,
   "id": "1b258f0c-5847-499f-b464-a49ecba60b9a",
   "metadata": {},
   "outputs": [],
   "source": [
    "import sqlite3"
   ]
  },
  {
   "cell_type": "markdown",
   "id": "035d1a0e-68e3-4232-b455-49f53578d7dd",
   "metadata": {},
   "source": [
    "Şimdi de yeni bir veritabanı dosyası oluşturalım (veya varolan bir veritabanı dosyasına bağlanalım):\n",
    "\n"
   ]
  },
  {
   "cell_type": "code",
   "execution_count": null,
   "id": "4e0dce89-bc7e-4d2d-8e5f-f88b5430b36a",
   "metadata": {},
   "outputs": [],
   "source": [
    "vt = sqlite3.connect('veritabani.sqlite')"
   ]
  },
  {
   "cell_type": "markdown",
   "id": "e1e2ae63-c94e-4dcd-bce0-2ed973a74bf7",
   "metadata": {},
   "source": [
    "Bu veritabanı üzerinde işlem yapabilmek için öncelikle imlecimizi oluşturalım:"
   ]
  },
  {
   "cell_type": "code",
   "execution_count": null,
   "id": "1155471b-371c-4e0f-8aff-f49c14505ff1",
   "metadata": {},
   "outputs": [],
   "source": [
    "im = vt.cursor()"
   ]
  },
  {
   "cell_type": "markdown",
   "id": "e9f50956-7ed9-4ec5-98af-26dfa245ee1d",
   "metadata": {},
   "source": [
    "Şimdi de yukarıda oluşturduğumuz imlecin execute() adlı metodunu kullanarak veritabanı içinde bir tablo oluşturalım:"
   ]
  },
  {
   "cell_type": "code",
   "execution_count": null,
   "id": "a88f2ca1-47fc-48cf-8b7d-716e82f21a7d",
   "metadata": {},
   "outputs": [],
   "source": [
    "im.execute(\"CREATE TABLE adres_defteri (isim, soyisim)\")"
   ]
  },
  {
   "cell_type": "markdown",
   "id": "13c99921-63ef-4d9a-af03-13b6699e45cf",
   "metadata": {},
   "source": [
    "Hatırlarsanız, Sqlite veritabanı sisteminin tablo benzeri bir yapıya sahip olduğunu ve bu sistemdeki her tablonun da bir isminin bulunduğunu söylemiştik. İşte burada yaptığımız şey, ‘adres_defteri’ adlı bir tablo oluşturup, bu tabloya ‘isim’ ve ‘soyisim’ adlı iki sütun eklemekten ibarettir. Yani aslında şöyle bir şey oluşturmuş oluyoruz:\n",
    "\n",
    "isim\n",
    "\n",
    "soyisim\n",
    "\n",
    "Ayrıca oluşturduğumuz bu tablonun adının da ‘adres_defteri’ olduğunu unutmuyoruz…\n",
    "\n",
    "Bu işlemleri nasıl yaptığımıza dikkat edin. Burada CREATE TABLE adres_defteri (isim, soyisim) tek bir karakter dizisidir. Bu karakter dizisindeki CREATE TABLE kısmı bir SQL komutu olup, bu komut bir tablo oluşturulmasını sağlar.\n",
    "\n",
    "Burada CREATE TABLE ifadesini büyük harflerle yazdık. Ancak bu ifadeyi siz isterseniz küçük harflerle de yazabilirsiniz. Benim burada büyük harf kullanmaktaki amacım SQL komutlarının, ‘adres_defteri’, ‘isim’ ve ‘soyisim’ gibi öğelerden görsel olarak ayırt edilebilmesini sağlamak. Yani CREATE TABLE ifadesinin mesela ‘adres_defteri’ öğesinden kolayca ayırt edilebilmesini istediğim için burada CREATE TABLE ifadesini büyük harflerle yazdım.\n",
    "\n",
    "Karakter dizisinin devamında (isim, soyisim) ifadesini görüyoruz. Tahmin edebileceğiniz gibi, bunlar tablodaki sütun başlıklarının adını gösteriyor. Buna göre, oluşturduğumuz tabloda ‘isim’ ve ‘soyisim’ adlı iki farklı sütun başlığı olacak.\n",
    "\n",
    "Bu arada, Sqlite tabloları oluştururken tablo adı ve sütun başlıklarında Türkçe karakter kullanmaktan kaçınmak iyi bir fikirdir. Ayrıca eğer tablo adı ve sütun başlıklarında birden fazla kelimeden oluşan etiketler kullanacaksanız bunları ya birbirine bitiştirin ya da tırnak içine alın. Örneğin:"
   ]
  },
  {
   "cell_type": "code",
   "execution_count": null,
   "id": "a04950f6-f191-4032-afa6-a49a9777526f",
   "metadata": {},
   "outputs": [],
   "source": [
    "import sqlite3\n",
    "\n",
    "vt = sqlite3.connect('perso.sqlite')\n",
    "im = vt.cursor()\n",
    "\n",
    "im.execute(\"\"\"CREATE TABLE 'personel dosyasi'\n",
    "('personel ismi', 'personel soyismi', memleket)\"\"\")"
   ]
  },
  {
   "cell_type": "markdown",
   "id": "29e8033b-cd41-4751-8621-eb01ed94ddd5",
   "metadata": {},
   "source": [
    "Ayrıca, execute() metoduna parametre olarak verilen SQL komutlarının alelade birer karakter dizisi olduğuna da dikkatinizi çekmek isterim. Bunlar Python’daki karakter dizilerinin bütün özelliklerini taşır. Mesela bu karakter dizisini execute() metoduna göndermeden önce bir değişkene atayabilirsiniz:"
   ]
  },
  {
   "cell_type": "code",
   "execution_count": null,
   "id": "9de1c6ad-7026-4448-92b2-aef2f57e5543",
   "metadata": {},
   "outputs": [],
   "source": [
    "import sqlite3\n",
    "\n",
    "vt = sqlite3.connect('perso.sqlite')\n",
    "im = vt.cursor()\n",
    "\n",
    "sql = \"\"\"CREATE TABLE 'personel dosyasi'\n",
    "('personel ismi', 'personel soyismi', memleket)\"\"\"\n",
    "\n",
    "im.execute(sql)"
   ]
  },
  {
   "cell_type": "markdown",
   "id": "88837ceb-6c47-4a6c-a8bd-ff36b754e56b",
   "metadata": {},
   "source": [
    "Bu kodları kullanarak oluşturduğunuz perso.sqlite adlı veritabanı dosyasının içeriğini Sqlitebrowser programı yardımıyla görüntüleyip, gerçekten ‘personel ismi’, ‘personel soyismi’ ve ‘memleket’ sütunlarının oluşup oluşmadığını kontrol edin.\n",
    "\n",
    "Bu arada, bu kodları ikinci kez çalıştırdığınızda şöyle bir hata mesajı alacaksınız:"
   ]
  },
  {
   "cell_type": "code",
   "execution_count": null,
   "id": "066bf11f-88bb-47b9-b629-3ca4c8d35368",
   "metadata": {},
   "outputs": [],
   "source": [
    "sqlite3.OperationalError: table 'personel dosyasi' already exists\n"
   ]
  },
  {
   "cell_type": "markdown",
   "id": "57113f68-4d9a-434b-bb1a-a84698fc9a6b",
   "metadata": {},
   "source": [
    "Bu hata mesajını almanız gayet normal. Bunun üstesinden nasıl geleceğinizi öğrenmek için okumaya devam edin…\n",
    "\n",
    "+++++++++++++++Şartlı Tablo Oluşturma\n",
    "\n",
    "CREATE TABLE komutunu kullanarak tablo oluştururken şöyle bir problemle karşılaşmış olabilirsiniz. Diyelim ki şu kodları yazdınız:\n",
    "\n"
   ]
  },
  {
   "cell_type": "code",
   "execution_count": null,
   "id": "d5af302b-aa61-4b16-aa7d-b681863e473d",
   "metadata": {},
   "outputs": [],
   "source": [
    "import sqlite3\n",
    "\n",
    "vt = sqlite3.connect('vt.sqlite')\n",
    "\n",
    "im = vt.cursor()\n",
    "im.execute(\"CREATE TABLE personel (isim, soyisim, memleket)\")"
   ]
  },
  {
   "cell_type": "markdown",
   "id": "b6db20b7-602c-42b1-b74e-332806bc8e72",
   "metadata": {},
   "source": [
    "Bu kodları ilk kez çalıştırdığınızda, mevcut dizin altında vt.sqlite adlı bir veritabanı dosyası oluşturulacak ve bu veritabanı içinde ‘isim’, ‘soyisim’ ve ‘memleket’ başlıklı sütunlara sahip, ‘personel’ adlı bir tablo meydana getirilecektir.\n",
    "\n",
    "Ancak aynı kodları ikinci kez çalıştırdığınızda şöyle bir hata mesajı ile karşılaşacaksınız:"
   ]
  },
  {
   "cell_type": "code",
   "execution_count": null,
   "id": "557d7e14-3f19-4629-9037-0c5675d96313",
   "metadata": {},
   "outputs": [],
   "source": [
    "sqlite3.OperationalError: table personel already exists"
   ]
  },
  {
   "cell_type": "markdown",
   "id": "9b0afb5e-3dd9-4f9c-a9a4-341165beeb0b",
   "metadata": {},
   "source": [
    "Buradaki sorun, vt.sqlite dosyası içinde ‘personel’ adlı bir tablonun zaten bulunuyor olmasıdır. Bir veritabanı üzerinde işlem yaparken, aynı ada sahip iki tablo oluşturamayız. Bu hatayı önlemek için şartlı tablo oluşturma yönteminden yararlanacağız. Bunun için kullanacağımız SQL komutu şudur: CREATE TABLE IF NOT EXISTS.\n",
    "\n",
    "Örneğimizi bu yeni bilgiye göre tekrar yazalım:"
   ]
  },
  {
   "cell_type": "code",
   "execution_count": null,
   "id": "2e1d1c4c-3bdf-4df9-a3fe-cae6f1ef5b55",
   "metadata": {},
   "outputs": [],
   "source": [
    "import sqlite3\n",
    "\n",
    "vt = sqlite3.connect('vt.sqlite')\n",
    "\n",
    "im = vt.cursor()\n",
    "\n",
    "sorgu = \"\"\"CREATE TABLE IF NOT EXISTS personel\n",
    "(isim, soyisim, memleket)\"\"\"\n",
    "\n",
    "im.execute(sorgu)"
   ]
  },
  {
   "cell_type": "markdown",
   "id": "9ee8c1dc-5e32-450c-b968-7eeebd03209b",
   "metadata": {},
   "source": [
    "Bu kodları kaç kez çalıştırırsanız çalıştırın, programınız hata vermeden işleyecek; eğer veritabanında ‘personel’ adlı bir tablo yoksa oluşturacak, bu adla zaten bir tablo varsa da sessizce yoluna devam edecektir.\n",
    "\n",
    "++++++++++++++Tabloya Veri Girme\n",
    "\n",
    "Buraya kadar, sqlite3 modülünü kullanarak nasıl bir veritabanı oluşturacağımızı ve çeşitli sütünlardan oluşan bir tabloyu bu veritabanına nasıl yerleştireceğimizi öğrendik. Şimdi de oluşturduğumuz bu sütun başlıklarının altını dolduracağız.\n",
    "\n",
    "Dikkatlice bakın:"
   ]
  },
  {
   "cell_type": "code",
   "execution_count": null,
   "id": "a9cb2f48-9305-4fa7-b685-9996d5d05fdf",
   "metadata": {},
   "outputs": [],
   "source": [
    "import sqlite3\n",
    "\n",
    "vt = sqlite3.connect('vt.sqlite')\n",
    "im = vt.cursor()\n",
    "\n",
    "tablo_yap = \"\"\"CREATE TABLE IF NOT EXISTS personel\n",
    "(isim, soyisim, memleket)\"\"\"\n",
    "\n",
    "değer_gir = \"\"\"INSERT INTO personel VALUES ('Fırat', 'Özgül', 'Adana')\"\"\"\n",
    "\n",
    "im.execute(tablo_yap)\n",
    "im.execute(değer_gir)"
   ]
  },
  {
   "cell_type": "markdown",
   "id": "7ada9ae7-8199-4d85-859a-c6b6625285c4",
   "metadata": {},
   "source": [
    "Burada INSERT INTO tablo_adı VALUES adlı yeni bir SQL komutu daha öğreniyoruz. CREATE TABLE ifadesi Türkçe’de “TABLO OLUŞTUR” anlamına geliyor. INSERT INTO ise “… İÇİNE YERLEŞTİR” anlamına gelir. Yukarıdaki karakter dizisi içinde görünen VALUES ise “DEĞERLER” demektir. Yani aslında yukarıdaki karakter dizisi şu anlama gelir: “personel İÇİNE ‘Fırat’, ‘Özgül’ ve ‘Adana’ DEĞERLERİNİ YERLEŞTİR. Yani şöyle bir tablo oluştur”:"
   ]
  },
  {
   "cell_type": "markdown",
   "id": "4396cd06-8192-4859-94f3-af71873e9766",
   "metadata": {},
   "source": [
    "Buraya kadar gayet güzel gidiyoruz. İsterseniz şimdi derin bir nefes alıp, şu ana kadar yaptığımız şeyleri bir gözden geçirelim:\n",
    "\n",
    "-Öncelikle sqlite3 modülünü içe aktardık. Bu modülün nimetlerinden yararlanabilmek için bunu yapmamız gerekiyordu. “sqlite3” kelimesini her defasında yazmak bize angarya gibi gelebileceği için bu modülü farklı bir adla içe aktarmayı tercih edebiliriz. Mesela import sqlite3 as sql veya import sqlite3 as lite gibi…\n",
    "\n",
    "-sqlite3 modülünü içe aktardıktan sonra bir veritabanına bağlanmamız veya elimizde bir veritabanı yoksa yeni bir veritabanı oluşturmamız gerekiyor. Bunun için connect() adlı bir fonksiyondan yararlanıyoruz. Bu fonksiyonu, sqlite3.connect('veritabanı_adı') şeklinde kullanıyoruz. Eğer içinde bulunduğumuz dizinde, “veritabanı_adı” adlı bir veritabanı varsa Sqlite bu veritabanına bağlanır. Eğer bu adda bir veritabanı yoksa, çalışma dizini altında bu ada sahip yeni bir veritabanı oluşturulur. Özellikle deneme amaçlı işlemler yapmamız gerektiğinde, sabit disk üzerinde bir veritabanı oluşturmak yerine RAM üstünde geçici bir veritabanı ile çalışmayı da tercih edebiliriz. Bunun için yukarıdaki komutu şöyle yazıyoruz: sqlite3.connect(':memory:'). Bu komutla RAM üzerinde oluşturduğumuz veritabanı, bağlantı kesildiği anda ortadan kalkacaktır.\n",
    "\n",
    "-Veritabanımızı oluşturduktan veya varolan bir veritabanına bağlandıktan sonra yapmamız gereken şey bir imleç oluşturmak olacaktır. Daha sonra bu imlece ait metotlardan yararlanarak önemli işler yapabileceğiz. Sqlite’ta bir imleç oluşturabilmek için db.cursor() gibi bir komut kullanıyoruz. Tabii ben burada oluşturduğunuz veritabanına “db” adını verdiğinizi varsayıyorum.\n",
    "\n",
    "-İmlecimizi de oluşturduktan sonra önümüz iyice açılmış oldu. Şimdi dir(im) gibi bir komut kullanarak imlecin metotlarının ne olduğunu inceleyebilirsiniz. Tabii ben burada imlece “im” adını verdiğinizi varsaydım. Gördüğünüz gibi, listede execute() adlı bir metot da var. Artık imlecin bu execute() metodunu kullanarak SQL komutlarını işletebiliriz.\n",
    "\n",
    "Yukarıda üç adet SQL komutu öğrendik. Bunlardan ilki CREATE TABLE. Bu komut veritabanı içinde bir tablo oluşturmamızı sağlıyor. İkinci komutumuz CREATE TABLE IF NOT EXISTS. Bu komut da bir tabloyu eğer yoksa oluşturmamızı sağlıyor. Üçüncü komutumuz ise INSERT INTO ... VALUES .... Bu komut, oluşturduğumuz tabloya içerik eklememizi sağlıyor. Bunları şuna benzer bir şekilde kullandığımızı hatırlıyorsunuz:\n",
    "\n"
   ]
  },
  {
   "cell_type": "code",
   "execution_count": null,
   "id": "ba60411c-5279-4cd2-93f5-b898f2bf562e",
   "metadata": {},
   "outputs": [],
   "source": [
    "im.execute(\"CREATE TABLE personel (isim, soyisim, memleket)\")\n",
    "im.execute(\"INSERT INTO personel VALUES ('Fırat', 'Özgül', 'Adana')\")"
   ]
  },
  {
   "cell_type": "markdown",
   "id": "ec1431ac-631e-4a91-8981-3007dca35e32",
   "metadata": {},
   "source": [
    "Burada bir şey dikkatinizi çekmiş olmalı. SQL komutlarını yazmaya başlarken çift tırnakla başladık. Dolayısıyla karakter dizisini yazarken iç taraftaki Fırat, Özgül ve Adana değerlerini yazmak için tek tırnak kullanmamız gerekti. Karakter dizileri içindeki manevra alanınızı genişletmek için, SQL komutlarını üç tırnak içinde yazmayı da tercih edebilirsiniz. Böylece karakter dizisi içindeki tek ve çift tırnakları daha rahat bir şekilde kullanabilirsiniz. Yani:"
   ]
  },
  {
   "cell_type": "code",
   "execution_count": null,
   "id": "b1b26342-20ff-44e7-805d-d59fbccafec5",
   "metadata": {},
   "outputs": [],
   "source": [
    "im.execute(\"\"\"CREATE TABLE personel (isim, soyisim, memleket)\"\"\")\n",
    "im.execute(\"\"\"INSERT INTO personel VALUES (\"Fırat\", \"Özgül\", \"Adana\")\"\"\")"
   ]
  },
  {
   "cell_type": "markdown",
   "id": "dc13ee54-3025-442a-8fc6-39fd3d78e3d7",
   "metadata": {},
   "source": [
    "Ayrıca üç tırnak kullanmanız sayesinde, uzun satırları gerektiğinde bölerek çok daha okunaklı kodlar da yazabileceğinizi biliyorsunuz.\n",
    "\n",
    "+++++++++++++++Verilerin Veritabanına İşlenmesi\n",
    "\n",
    "Bir önceki bölümde bir Sqlite veritabanına nasıl veri gireceğimizi öğrendik. Ama aslında iş sadece veri girmeyle bitmiyor. Verileri veritabanına “işleyebilmek” için bir adım daha atmamız gerekiyor. Mesela şu örneğe bir bakalım:"
   ]
  },
  {
   "cell_type": "code",
   "execution_count": null,
   "id": "8a891c66-4e90-4fee-aff8-1051012825b3",
   "metadata": {},
   "outputs": [],
   "source": [
    "import sqlite3\n",
    "\n",
    "vt = sqlite3.connect(\"vt.sqlite\")\n",
    "\n",
    "im = vt.cursor()\n",
    "im.execute(\"\"\"CREATE TABLE IF NOT EXISTS\n",
    "    personel (isim, soyisim, sehir, eposta)\"\"\")\n",
    "\n",
    "im.execute(\"\"\"INSERT INTO personel VALUES\n",
    "    (\"Orçun\", \"Kunek\", \"Adana\", \"okunek@gmail.com\")\"\"\")"
   ]
  },
  {
   "cell_type": "markdown",
   "id": "4e6cae94-9581-4bfb-8284-53d271c933db",
   "metadata": {},
   "source": [
    "Burada öncelikle vt.sqlite adlı bir veritabanı oluşturduk ve bu veritabanına bağlandık. Ardından, vt.cursor() komutuyla imlecimizi de oluşturduktan sonra, SQL komutlarımızı çalıştırıyoruz. Önce isim, soyisim, şehir ve eposta adlı sütunlardan oluşan, “personel” adlı bir tablo oluşturduk. Daha sonra “personel” tablosunun içine “Orçun”, “Kunek”, “Adana” ve “okunek@gmail.com” değerlerini yerleştirdik.\n",
    "\n",
    "Ancak her ne kadar veritabanına veri işlemiş gibi görünsek de aslında henüz işlenmiş bir şey yoktur. İsterseniz bu durumu teyit etmek için Sqlitebrowser programını kullanabilir, tabloya verilerin işlenmediğini kendi gözlerinizle görebilirsiniz.\n",
    "\n",
    "Biz henüz sadece verileri girdik. Ama verileri veritabanına işlemedik. Bu girdiğimiz verileri veritabanına işleyebilmek için commit() adlı bir metottan yararlanacağız:"
   ]
  },
  {
   "cell_type": "code",
   "execution_count": null,
   "id": "21655f09-dd76-459b-bbb2-7951e541cbb7",
   "metadata": {},
   "outputs": [],
   "source": [
    "vt.commit()"
   ]
  },
  {
   "cell_type": "markdown",
   "id": "24a679d9-bc33-483f-9f97-628995461108",
   "metadata": {},
   "source": [
    "Gördüğünüz gibi, commit() imlecin değil, bağlantı nesnesinin (yani burada vt değişkeninin) bir metodudur. Şimdi bu satırı da betiğimize ekleyelim:"
   ]
  },
  {
   "cell_type": "code",
   "execution_count": null,
   "id": "c08c7da4-9a8c-4f88-a6e3-2c657aa5e284",
   "metadata": {},
   "outputs": [],
   "source": [
    "import sqlite3\n",
    "\n",
    "vt = sqlite3.connect(\"vt.sqlite\")\n",
    "\n",
    "im = vt.cursor()\n",
    "im.execute(\"\"\"CREATE TABLE IF NOT EXISTS\n",
    "    personel (isim, soyisim, sehir, eposta)\"\"\")\n",
    "\n",
    "im.execute(\"\"\"INSERT INTO personel VALUES\n",
    "    (\"Orçun\", \"Kunek\", \"Adana\", \"okunek@gmail.com\")\"\"\")\n",
    "\n",
    "vt.commit()"
   ]
  },
  {
   "cell_type": "markdown",
   "id": "3b7f0734-44ec-4efc-bf4b-2077707bcef7",
   "metadata": {},
   "source": [
    "Eğer vt.commit() satırını yazmazsak, veritabanı, tablo ve sütun başlıkları oluşturulur, ama sütunların içeriği veritabanına işlenmez."
   ]
  },
  {
   "cell_type": "markdown",
   "id": "17818111-ebc3-4f5e-a2b6-0f2ca330dd6e",
   "metadata": {},
   "source": [
    "+++++++++++++++++Veritabanının Kapatılması\n",
    "\n",
    "Bir veritabanı üzerinde yapacağımız bütün işlemleri tamamladıktan sonra, prensip olarak, o veritabanını kapatmamız gerekir. Mesela şu kodları ele alalım:"
   ]
  },
  {
   "cell_type": "code",
   "execution_count": null,
   "id": "183b85ac-5c40-4e03-bea9-ae7b35be9d0c",
   "metadata": {},
   "outputs": [],
   "source": [
    "import sqlite3\n",
    "\n",
    "vt = sqlite3.connect(\"vt.sqlite\")\n",
    "\n",
    "im = vt.cursor()\n",
    "im.execute(\"\"\"CREATE TABLE IF NOT EXISTS\n",
    "    personel (isim, soyisim, sehir, eposta)\"\"\")\n",
    "\n",
    "im.execute(\"\"\"INSERT INTO personel VALUES\n",
    "    (\"Orçun\", \"Kunek\", \"Adana\", \"okunek@gmail.com\")\"\"\")\n",
    "\n",
    "vt.commit()\n",
    "vt.close()"
   ]
  },
  {
   "cell_type": "markdown",
   "id": "5c6b538a-7acf-4daa-906a-f950584561ce",
   "metadata": {},
   "source": [
    "Burada bütün işlemleri bitirdikten sonra veritabanını kapatmak için, close() adlı bir metottan yararlandık:"
   ]
  },
  {
   "cell_type": "code",
   "execution_count": null,
   "id": "0562e93e-3c98-417b-aeb4-d9e7c8a5f62f",
   "metadata": {},
   "outputs": [],
   "source": [
    "vt.close()"
   ]
  },
  {
   "cell_type": "markdown",
   "id": "2ad75d43-05d3-4a79-bac0-8938fcc11aee",
   "metadata": {},
   "source": [
    "Bu şekilde, veritabanının ilk açıldığı andan itibaren, işletim sisteminin devreye soktuğu kaynakları serbest bırakmış oluyoruz. Esasında programımız kapandığında, açık olan bütün Sqlite veritabanları da otomatik olarak kapanır. Ama yine de bu işlemi elle yapmak her zaman iyi bir fikirdir.\n",
    "\n",
    "++++++++++++++Bağlam Yöneticisi Kullanımı\n",
    "\n",
    "Python’da bağlam yönetecisi(context manager) oluşturmak için with deyimi kullanılır. Python with deyimini kullanarak Sqlite ile işlem yaparken bir istisna ile karşılaşırsa yapılan işlemlerin otomatik olarak geri alınmasını sağlar. Eğer işlem sorunsuz gerçekleşirse herhangi bir etki yaratmaz. Aşağıda örnek koda bakalım:"
   ]
  },
  {
   "cell_type": "code",
   "execution_count": null,
   "id": "a1baf556-d565-4d3d-bc9a-0917246ad744",
   "metadata": {},
   "outputs": [],
   "source": [
    "import sqlite3\n",
    "\n",
    "con = sqlite3.connect(\":memory:\")\n",
    "con.execute(\"CREATE TABLE personel(id INTEGER PRIMARY KEY, isim VARCHAR UNIQUE)\")\n",
    "\n",
    "# Başarılı şekilde, con.commit() çalıştırılır.\n",
    "with con:\n",
    "    con.execute(\"INSERT INTO personel(isim) VALUES(?)\", (\"Fırat\",))\n",
    "\n",
    "# Hata yakalanınca con.rollback() otomatik olarak çağırılır ve işlemler geri alınır.\n",
    "try:\n",
    "    with con:\n",
    "        con.execute(\"INSERT INTO personel(isim) VALUES(?)\", (\"Fırat\",))\n",
    "except sqlite3.IntegrityError:\n",
    "    print(\"Aynı ismi iki defa ekleyemezsiniz!\")\n",
    "\n",
    "# Bağlam yöneticisi olarak kullanılan bağlantı nesnesi yalnızca işlemleri gerçekleştirir\n",
    "# veya geri alır, bu nedenle bağlantı nesnesi manuel olarak kapatılmalıdır.\n",
    "con.close()"
   ]
  },
  {
   "cell_type": "markdown",
   "id": "19a20d15-dfc0-4992-b543-2ae720e6432d",
   "metadata": {},
   "source": [
    "Not: Bağlam yöneticisi ne dolaylı olarak yeni bir işlem açar ne de bağlantıyı kapatır. Kısaca işlem sonunda bağlantıyı kapatmanız gerekir.\n",
    "\n",
    "++++++++++++Parametreli Sorgular\n",
    "\n",
    "Şu ana kadar verdiğimiz örneklerde, veritabanına girilecek verileri tek tek elle yerine koyduk. Örneğin:"
   ]
  },
  {
   "cell_type": "code",
   "execution_count": null,
   "id": "5c90c8fc-0059-4119-913f-791c24e26145",
   "metadata": {},
   "outputs": [],
   "source": [
    "im.execute(\"\"\"INSERT INTO personel VALUES\n",
    "    ('Fırat', 'Özgül', 'Adana')\"\"\")"
   ]
  },
  {
   "cell_type": "markdown",
   "id": "767106de-775c-47c2-837a-1ad05612d713",
   "metadata": {},
   "source": [
    "Ancak çoğu durumda veritabanına girilecek veriler harici kaynaklardan gelecektir. Basit bir örnek verelim:"
   ]
  },
  {
   "cell_type": "code",
   "execution_count": null,
   "id": "c2121078-7ae7-4d4b-a178-bd5f70b59abb",
   "metadata": {},
   "outputs": [],
   "source": [
    "import sqlite3\n",
    "\n",
    "with sqlite3.connect('vt.sqlite') as vt:\n",
    "    im = vt.cursor()\n",
    "\n",
    "    veriler = [('Fırat', 'Özgül', 'Adana'),\n",
    "               ('Ahmet', 'Söz', 'Bolvadin'),\n",
    "               ('Veli', 'Göz', 'İskenderun'),\n",
    "               ('Mehmet', 'Öz', 'Kilis')]\n",
    "\n",
    "    im.execute(\"\"\"CREATE TABLE IF NOT EXISTS personel\n",
    "        (isim, soyisim, memleket)\"\"\")\n",
    "\n",
    "    for veri in veriler:\n",
    "        im.execute(\"\"\"INSERT INTO personel VALUES\n",
    "            (?, ?, ?)\"\"\", veri)\n",
    "\n",
    "    vt.commit()"
   ]
  },
  {
   "cell_type": "markdown",
   "id": "0a44b1d9-628e-4387-a016-7aebeeee8811",
   "metadata": {},
   "source": [
    "Burada veritabanına işlenecek veriler, veriler adlı bir değişkenden geliyor. Bu değişken içindeki verileri veritabanına nasıl yerleştirdiğimize dikkat edin:\n",
    "\n"
   ]
  },
  {
   "cell_type": "code",
   "execution_count": null,
   "id": "cd358259-e669-420f-b34d-5c94519fa92a",
   "metadata": {},
   "outputs": [],
   "source": [
    "for veri in veriler:\n",
    "    im.execute(\"\"\"INSERT INTO personel VALUES\n",
    "        (?, ?, ?)\"\"\", veri)"
   ]
  },
  {
   "cell_type": "markdown",
   "id": "fad6e672-22ac-4f09-9578-0513225691dd",
   "metadata": {},
   "source": [
    "Ayrıca her bir sütunun (‘isim’, ‘soyisim’, ‘memleket’) altına gelecek her bir değer için (mesela sırasıyla ‘Fırat’, ‘Özgül’, ‘Adana’) bir adet ‘?’ işareti yerleştirdiğimizi de gözden kaçırmayın.\n",
    "\n",
    "++++++++++++Tablodaki Verileri Seçmek\n",
    "\n",
    "Yukarıda, bir veritabanına nasıl veri gireceğimizi ve bu verileri veritabanına nasıl işleyeceğimizi gördük. İşin asıl önemli kısmı, bu verileri daha sonra veritabanından (yani tablodan) geri alabilmektir. Şimdi bu işlemi nasıl yapacağımıza bakalım.\n",
    "\n",
    "Veritabanından herhangi bir veri alabilmek için ilk olarak SELECT veri FROM tablo_adı adlı bir SQL komutundan yararlanarak ilgili verileri seçmemiz gerekiyor.\n",
    "\n",
    "Dilerseniz önce bir tablo oluşturalım:"
   ]
  },
  {
   "cell_type": "code",
   "execution_count": null,
   "id": "3602979e-e039-4ddd-81bb-fae6f565203f",
   "metadata": {},
   "outputs": [],
   "source": [
    "import sqlite3\n",
    "\n",
    "vt = sqlite3.connect('vt.sqlite')\n",
    "\n",
    "im = vt.cursor()\n",
    "\n",
    "im.execute(\"\"\"CREATE TABLE IF NOT EXISTS faturalar\n",
    "(fatura, miktar, ilk_odeme_tarihi, son_odeme_tarihi)\"\"\")"
   ]
  },
  {
   "cell_type": "markdown",
   "id": "72de127f-98c0-4173-aedf-0b678a5b1fc3",
   "metadata": {},
   "source": [
    "Şimdi bu tabloya bazı veriler ekleyelim:"
   ]
  },
  {
   "cell_type": "code",
   "execution_count": null,
   "id": "1c9b467b-0c0c-452f-81d3-dd0b30454c3a",
   "metadata": {},
   "outputs": [],
   "source": [
    "im.execute(\"\"\"INSERT INTO faturalar VALUES\n",
    "(\"Elektrik\", 45, \"23 Ocak 2010\", \"30 Ocak 2010\")\"\"\")"
   ]
  },
  {
   "cell_type": "markdown",
   "id": "922bd52a-8bb3-46af-9174-10eee79c459a",
   "metadata": {},
   "source": [
    "Buraya kadar olan kısmı zaten biliyoruz. Bilmediğimiz ise bu veritabanından nasıl veri alacağımız. Onu da şöyle yapıyoruz:\n",
    "\n"
   ]
  },
  {
   "cell_type": "code",
   "execution_count": null,
   "id": "6a4676b5-978b-4c1e-b60a-8e657bcebd3a",
   "metadata": {},
   "outputs": [],
   "source": [
    "im.execute(\"\"\"SELECT * FROM faturalar\"\"\")"
   ]
  },
  {
   "cell_type": "markdown",
   "id": "beec0f41-2e9f-4691-b562-385b70743b9d",
   "metadata": {},
   "source": [
    "Burada özel bir SQL komutu olan SELECT veri FROM tablo_adı komutundan faydalandık. Burada joker karakterlerden biri olan “*” işaretini kullandığımıza dikkat edin. SELECT * FROM faturalar ifadesi şu anlama gelir: “faturalar adlı tablodaki bütün öğeleri seç!”\n",
    "\n",
    "Burada “SELECT” kelimesi “SEÇMEK” demektir. “FROM” ise “…DEN/…DAN” anlamı verir. Yani “SELECT FROM faturalar” dediğimizde “faturalardan seç” demiş oluyoruz. Burada kullandığımız “*” işareti de “her şey” anlamına geldiği için, “SELECT * FROM faturalar” ifadesi “faturalardan her şeyi seç” gibi bir anlama gelmiş oluyor.\n",
    "\n",
    "Verileri seçtiğimize göre, artık seçtiğimiz bu verileri nasıl alacağımıza bakabiliriz. Bunun için de fetchone(), fetchall() veya fetchmany() adlı metotlardan ya da for döngüsünden yararlanacağız.\n",
    "\n",
    "++++++++++Seçilen Verileri Almak\n",
    "\n",
    "Bu bölümde, SELECT sorgusu ile veritabanından seçtiğimiz verileri farklı yollarla nasıl çekebileceğimizi/alabileceğimizi inceleyeceğiz.\n",
    "\n",
    "+++++++++++++fetchall() Metodu¶\n",
    "\n",
    "Biraz önce şöyle bir program yazmıştık:"
   ]
  },
  {
   "cell_type": "code",
   "execution_count": null,
   "id": "bac31a21-a854-4148-bb1b-56b59c2097dc",
   "metadata": {},
   "outputs": [],
   "source": [
    "import sqlite3\n",
    "\n",
    "vt = sqlite3.connect('vt.sqlite')\n",
    "\n",
    "im = vt.cursor()\n",
    "\n",
    "im.execute(\"\"\"CREATE TABLE IF NOT EXISTS faturalar\n",
    "(fatura, miktar, ilk_odeme_tarihi, son_odeme_tarihi)\"\"\")\n",
    "\n",
    "im.execute(\"\"\"INSERT INTO faturalar VALUES\n",
    "(\"Elektrik\", 45, \"23 Ocak 2010\", \"30 Ocak 2010\")\"\"\")\n",
    "\n",
    "vt.commit()\n",
    "\n",
    "im.execute(\"\"\"SELECT * FROM faturalar\"\"\")"
   ]
  },
  {
   "cell_type": "markdown",
   "id": "7746b1d2-b275-4181-9685-91bcecf4fa38",
   "metadata": {},
   "source": [
    "Burada vt.sqlite adlı bir veritabanında ‘faturalar’ adlı bir tablo oluşturduk ve bu tabloya bazı veriler girdik. Daha sonra da SELECT adlı SQL komutu yardımıyla bu verileri seçtik. Şimdi de seçtiğimiz bu verileri veritabanından alacağız.\n",
    "\n",
    "Yukarıdaki programa şu satırı ekliyoruz:"
   ]
  },
  {
   "cell_type": "code",
   "execution_count": null,
   "id": "77e74798-e0f7-4cf1-ad5f-016107646146",
   "metadata": {},
   "outputs": [],
   "source": [
    "veriler = im.fetchall()"
   ]
  },
  {
   "cell_type": "markdown",
   "id": "72ce4372-a6d4-4f19-9d21-4105ea72550f",
   "metadata": {},
   "source": [
    "Burada da ilk defa gördüğümüz bir metot var: fetchall(). Gördüğünüz gibi, fetchall() imlecin bir metodudur. Yukarıda gördüğümüz SELECT * FROM faturalar komutu ‘faturalar’ adlı tablodaki bütün verileri seçiyordu. fetchall() metodu ise seçilen bu verileri alma işlevi görüyor. Yukarıda biz fetchall() metoduyla aldığımız bütün verileri veriler adlı bir değişkene atadık.\n",
    "\n",
    "Artık bu verileri rahatlıkla yazdırabiliriz:\n",
    "\n"
   ]
  },
  {
   "cell_type": "code",
   "execution_count": null,
   "id": "f62f8a0b-4b8e-450b-9756-6d9e94581acd",
   "metadata": {},
   "outputs": [],
   "source": [
    "print(veriler)"
   ]
  },
  {
   "cell_type": "markdown",
   "id": "e2bc5504-88d5-4693-b439-08d0b486b22d",
   "metadata": {},
   "source": [
    "Dilerseniz betiğimizi topluca görelim:\n",
    "\n"
   ]
  },
  {
   "cell_type": "code",
   "execution_count": null,
   "id": "1ca4c0fe-33c2-45c2-b285-695755b2bffc",
   "metadata": {},
   "outputs": [],
   "source": [
    "import sqlite3\n",
    "\n",
    "vt = sqlite3.connect('vt.sqlite')\n",
    "\n",
    "im = vt.cursor()\n",
    "\n",
    "im.execute(\"\"\"CREATE TABLE IF NOT EXISTS faturalar\n",
    "(fatura, miktar, ilk_odeme_tarihi, son_odeme_tarihi)\"\"\")\n",
    "\n",
    "im.execute(\"\"\"INSERT INTO faturalar VALUES\n",
    "(\"Elektrik\", 45, \"23 Ocak 2010\", \"30 Ocak 2010\")\"\"\")\n",
    "\n",
    "vt.commit()\n",
    "\n",
    "im.execute(\"\"\"SELECT * FROM faturalar\"\"\")\n",
    "\n",
    "veriler = im.fetchall()\n",
    "\n",
    "print(veriler)\n"
   ]
  },
  {
   "cell_type": "markdown",
   "id": "2f3f0151-981f-444e-8d93-d1001b53d526",
   "metadata": {},
   "source": [
    "Bu betiği ilk kez çalıştırdığımızda şöyle bir çıktı alırız:"
   ]
  },
  {
   "cell_type": "code",
   "execution_count": null,
   "id": "53057b8a-6371-46d3-9893-7bce43b57e97",
   "metadata": {},
   "outputs": [],
   "source": [
    "[('Elektrik', 45, '23 Ocak 2010', '30 Ocak 2010')]"
   ]
  },
  {
   "cell_type": "markdown",
   "id": "ee1a8841-a412-459c-9158-d01ed2b738f8",
   "metadata": {},
   "source": [
    "Gördüğünüz gibi, veriler bir liste içinde demet halinde yer alıyor. Ama tabii siz bu verileri istediğiz gibi biçimlendirecek kadar Python bilgisine sahipsiniz. Ayrıca programı her çalıştırdığınızda INSERT INTO sorgusu tekrar işletileceği için verilerin tabloya tekrar tekrar yazılacağını, bu verileri alırken de çıktı listesinin büyüyeceğini unutmayın. Peki eğer siz bir veritabanı dosyasına verilerin yalnızca bir kez yazılmasını istiyorsanız ne yapacaksınız? Yani mesela yukarıdaki kodlarda şu sorgu yalnızca tek bir kez işletilsin:"
   ]
  },
  {
   "cell_type": "code",
   "execution_count": null,
   "id": "3b746839-ee23-4447-805b-34ad5d13b8b5",
   "metadata": {},
   "outputs": [],
   "source": [
    "im.execute(\"\"\"INSERT INTO faturalar VALUES\n",
    "(\"Elektrik\", 45, \"23 Ocak 2010\", \"30 Ocak 2010\")\"\"\")"
   ]
  },
  {
   "cell_type": "markdown",
   "id": "4015d4fb-bf8c-4863-9b18-b5c11f410391",
   "metadata": {},
   "source": [
    "Böylece veritabanını her çalıştırdığınızda (\"Elektrik\", 45, \"23 Ocak 2010\", \"30 Ocak 2010\") satırı dosyaya tekrar tekrar yazdırılmasın.\n",
    "\n",
    "Bunu şu kodlarla halledebilirsiniz:"
   ]
  },
  {
   "cell_type": "code",
   "execution_count": null,
   "id": "5204a9f7-8471-4aed-81a3-72500dae2a8c",
   "metadata": {},
   "outputs": [],
   "source": [
    "import sqlite3, os\n",
    "\n",
    "dosya = 'vt.sqlite'\n",
    "dosya_mevcut = os.path.exists(dosya)\n",
    "\n",
    "vt = sqlite3.connect(dosya)\n",
    "im = vt.cursor()\n",
    "\n",
    "im.execute(\"\"\"CREATE TABLE IF NOT EXISTS faturalar\n",
    "(fatura, miktar, ilk_odeme_tarihi, son_odeme_tarihi)\"\"\")\n",
    "\n",
    "if not dosya_mevcut:\n",
    "    im.execute(\"\"\"INSERT INTO faturalar VALUES\n",
    "    (\"Elektrik\", 45, \"23 Ocak 2010\", \"30 Ocak 2010\")\"\"\")\n",
    "    vt.commit()\n",
    "\n",
    "im.execute(\"\"\"SELECT * FROM faturalar\"\"\")\n",
    "\n",
    "veriler = im.fetchall()\n",
    "print(veriler)"
   ]
  },
  {
   "cell_type": "markdown",
   "id": "f2a44042-4429-48dc-8074-0b712f4000f3",
   "metadata": {},
   "source": [
    "Burada kodlarımızın en başında vt.sqlite adlı bir veritabanının mevcut olup olmadığını kontrol ediyoruz (zira eğer ortada bir veritabanı dosyası yoksa, veri de yok demektir):"
   ]
  },
  {
   "cell_type": "code",
   "execution_count": null,
   "id": "0e4ea680-2023-4c45-bf45-bc6c76698a78",
   "metadata": {},
   "outputs": [],
   "source": [
    "dosya_mevcut = os.path.exists(dosya)"
   ]
  },
  {
   "cell_type": "markdown",
   "id": "7bef5942-bc88-461c-9598-7ab334ad75c5",
   "metadata": {},
   "source": [
    "Eğer böyle bir dosya mevcut değilse (dolayısıyla veri mevcut değilse) INSERT INTO sorgusu işletilerek gerekli veriler yerine yerleştirilecek:"
   ]
  },
  {
   "cell_type": "code",
   "execution_count": null,
   "id": "49081677-46aa-487f-841d-d174390f2888",
   "metadata": {},
   "outputs": [],
   "source": [
    "if not dosya_mevcut:\n",
    "    im.execute(\"\"\"INSERT INTO faturalar VALUES\n",
    "    (\"Elektrik\", 45, \"23 Ocak 2010\", \"30 Ocak 2010\")\"\"\")\n",
    "    vt.commit()"
   ]
  },
  {
   "cell_type": "markdown",
   "id": "c263129d-5bac-448f-8942-f2196ea405fd",
   "metadata": {},
   "source": [
    "Eğer böyle bir dosya zaten mevcutsa bu sorgu işletilemeyecek, onun yerine doğrudan SELECT sorgusuna geçilecek. Böylece değerler veritabanına bir kez işlendikten sonra, programımız aynı verileri tekrar tekrar veritabanına yerleştirmeye çalışmayacak.\n",
    "\n",
    "Bu arada, daha önce de belirttiğimiz gibi, tablo oluştururken sütun adlarında boşluk (ve Türkçe karakter) kullanmak iyi bir fikir değildir. Mesela ilk ödeme tarihi yerine ilk_odeme_tarihi ifadesini tercih edin. Eğer kelimeler arasında mutlaka boşluk bırakmak isterseniz bütün kelimeleri tırnak içine alın. Mesela: \"ilk odeme tarihi\" veya \"ilk ödeme tarihi\" gibi.\n",
    "\n",
    "Yukarıda gördüğünüz gibi, fetchall() metodu, bir veritabanından SELECT ile seçtiğimiz bütün verileri önümüze getiriyor. Eğer seçilen verilerden kaç tanesini almak istediğinizi kendiniz belirlemek istiyorsanız fetchall() yerine fetchone() veya fetchmany() metotlarından o anki amacınıza uygun olanını kullanmayı tercih edebilirsiniz. Birazdan fetchone() ve fetchmany() metotlarından da söz edeceğiz.\n",
    "\n",
    "Gelin isterseniz şimdi fetchall() metodunu kullanarak veritabanlarından veri çekme konusunda biraz alıştırma yapalım. Bu alıştırmalar için, daha önce söz ettiğimiz ve bilgisayarımıza indirdiğimiz kitaplar.sqlite adlı örnek veritabanını kullanacağız.\n",
    "\n",
    "Öncelikle veritabanına bağlanalım ve bir imleç oluşturalım:"
   ]
  },
  {
   "cell_type": "code",
   "execution_count": null,
   "id": "0fb7fe7d-04b7-45c8-9221-1d7c1aaa9cff",
   "metadata": {},
   "outputs": [],
   "source": [
    "import sqlite3\n",
    "vt = sqlite3.connect('kitaplar.sqlite')\n",
    "im = vt.cursor()"
   ]
  },
  {
   "cell_type": "markdown",
   "id": "f385a6ee-a556-4099-8a83-333f97a19b79",
   "metadata": {},
   "source": [
    "Şimdi bu veritabanındaki tabloyu seçeceğiz. Peki ama seçeceğimiz tablonun adını nereden bileceğiz? Hatırlarsanız, bir tablodaki bütün verileri seçebilmek için şu SQL sorgusunu kullanıyorduk:\n",
    "\n"
   ]
  },
  {
   "cell_type": "code",
   "execution_count": null,
   "id": "d09a1e4e-0d8f-4411-8975-88a34896933b",
   "metadata": {},
   "outputs": [],
   "source": [
    "\"SELECT * FROM tablo_adı\""
   ]
  },
  {
   "cell_type": "markdown",
   "id": "47b5eb79-8959-4f6a-b640-78645a535f0d",
   "metadata": {},
   "source": [
    "İşte bu sorguda ‘tablo_adı’ kısmına ne geleceğini bulabilmek için birkaç farklı yöntemden yararlanabiliriz.\n",
    "\n",
    "Bir veritabanında hangi tabloların olduğunu öğrenmek için Sqlitebrowser programını kullanabiliriz. Bir veritabanı dosyasını Sqlitebrowser ile açtıktan sonra, ‘Browse Data’ sekmesine gidip, ‘Table’ ifadesinin karşısında ne yazdığına bakabiliriz.\n",
    "\n",
    "Veritabanındaki tabloların adını öğrenmenin ikinci yolu şu komutları kullanmaktır:"
   ]
  },
  {
   "cell_type": "code",
   "execution_count": null,
   "id": "c90e674d-d300-4190-afaa-c6872714e852",
   "metadata": {},
   "outputs": [],
   "source": [
    "import sqlite3\n",
    "vt = sqlite3.connect('kitaplar.sqlite')\n",
    "im = vt.cursor()\n",
    "im.execute(\"SELECT name FROM sqlite_master\")\n",
    "im.fetchall()"
   ]
  },
  {
   "cell_type": "markdown",
   "id": "bf77f525-b6ca-4dc8-875b-ea91664551b6",
   "metadata": {},
   "source": [
    "Burada şu satıra dikkat edin:"
   ]
  },
  {
   "cell_type": "code",
   "execution_count": null,
   "id": "e746453f-fb66-4ec8-b691-5195fb0282fb",
   "metadata": {},
   "outputs": [],
   "source": [
    "im.execute(\"SELECT name FROM sqlite_master\")"
   ]
  },
  {
   "cell_type": "markdown",
   "id": "ebf4a78b-eeaf-4fcd-90f5-62e345422df6",
   "metadata": {},
   "source": [
    "Bütün Sqlite veritabanlarında, ilgili veritabanının şemasını gösteren ‘sqlite_master’ adlı bir tablo bulunur. İşte bu tabloyu sorgulayarak veritabanı hakkında bilgi edinebiliriz. Yukarıdaki örnekte, bu ‘sqlite_master’ tablosunun ‘name’ (isim) niteliğini sorguladık. Bu sorgu bize şu cevabı verdi:\n",
    "\n"
   ]
  },
  {
   "cell_type": "code",
   "execution_count": null,
   "id": "bd1cf002-cdf7-46a4-aa06-11c6579c2376",
   "metadata": {},
   "outputs": [],
   "source": [
    "im.fetchall()\n",
    "[('kitaplar',)]"
   ]
  },
  {
   "cell_type": "markdown",
   "id": "9cbcab39-bd16-4d90-a0e7-42f9b58cbe7e",
   "metadata": {},
   "source": [
    "Demek ki kitaplar.sqlite adlı veritabanında ‘kitaplar’ adlı tek bir tablo varmış.\n",
    "\n",
    "Gelin şimdi bu bu tablodaki bütün verileri alalım:\n",
    "\n"
   ]
  },
  {
   "cell_type": "code",
   "execution_count": null,
   "id": "a37d1276-3041-4473-a6af-f4242b0bb448",
   "metadata": {},
   "outputs": [],
   "source": [
    "im.execute(\"SELECT * FROM kitaplar\")\n",
    "im.fetchall()"
   ]
  },
  {
   "cell_type": "markdown",
   "id": "d86f3a5b-3154-4854-8e26-89ca256cfec2",
   "metadata": {},
   "source": [
    "Bu şekilde tablo içinde ne kadar veri varsa hepsini ekrana yazdırdık. Ancak tabii ki, bir veritabanının tamamını bir anda yazdırmak her zaman iyi bir fikir olmayabilir. Eğer veritabanının içinde milyonlarca girdi varsa bütün verilerin seçilip yazdırılması mantıklı olmayacaktır. Gelin o halde şimdi bizim seçilen verilerin ne kadarını çekeceğimizi belirleyebilmemizi sağlayacak metotları inceleyelim.\n",
    "\n",
    "++++++++++++++fetchone() Metodu\n",
    "\n",
    "fetchone() metodu, bir veritabanından seçilen verilerin tek tek alınabilmesine izin verir.\n",
    "\n",
    "Bu metodun nasıl kullanılacağını ‘kitaplar.sqlite’ adlı örnek veritabanımız üzerinden inceleyelim:\n",
    "\n",
    "Önce veritabanına bağlanalım:"
   ]
  },
  {
   "cell_type": "code",
   "execution_count": null,
   "id": "1ac1b554-69ca-41e5-bec7-c6bf9608d80f",
   "metadata": {},
   "outputs": [],
   "source": [
    "import sqlite3\n",
    "vt = sqlite3.connect('kitaplar.sqlite')\n",
    "im = vt.cursor()"
   ]
  },
  {
   "cell_type": "markdown",
   "id": "ea7bd4fd-42c2-4f7c-aeed-927a600e64a2",
   "metadata": {},
   "source": [
    "Şimdi ‘kitaplar’ adlı tablodan bütün verileri seçelim:"
   ]
  },
  {
   "cell_type": "code",
   "execution_count": null,
   "id": "8d3a9f19-8584-46e0-8374-a676b2fb44b1",
   "metadata": {},
   "outputs": [],
   "source": [
    "im.execute(\"\"\"SELECT * FROM kitaplar\"\"\")\n",
    "\n",
    "<sqlite3.Cursor object at 0x003C2D20>"
   ]
  },
  {
   "cell_type": "markdown",
   "id": "74cb0ea0-12e4-4085-b81f-eb3210494249",
   "metadata": {},
   "source": [
    "Artık seçtiğimiz verileri tek tek almaya başlayabiliriz:"
   ]
  },
  {
   "cell_type": "code",
   "execution_count": null,
   "id": "6ce5f358-7315-4601-bdcd-3f73ff439e01",
   "metadata": {},
   "outputs": [],
   "source": [
    "im.fetchone()\n",
    "\n",
    "('UZMANLAR İÇİN PHP', 'Mehmet Şamlı', '33,00 TL')"
   ]
  },
  {
   "cell_type": "markdown",
   "id": "6ff2c053-3580-45e6-afa3-8cdf7c9996ef",
   "metadata": {},
   "source": [
    "Bir tane daha alalım:"
   ]
  },
  {
   "cell_type": "code",
   "execution_count": null,
   "id": "a68e3046-406f-43a2-8495-821145360f5d",
   "metadata": {},
   "outputs": [],
   "source": [
    "im.fetchone()\n",
    "\n",
    "('ADOBE AİR', 'Engin Yöğen', '28,00 TL')"
   ]
  },
  {
   "cell_type": "markdown",
   "id": "03b66b2a-ca9e-40fa-9269-705f6f290393",
   "metadata": {},
   "source": [
    "İki tane daha…"
   ]
  },
  {
   "cell_type": "code",
   "execution_count": null,
   "id": "9b23b8d3-133d-4b6b-8e72-c6e21f598812",
   "metadata": {},
   "outputs": [],
   "source": [
    "im.fetchone()\n",
    "\n",
    "('WEB TASARIM REHBERİ', 'Mustafa Aydemir', '38,50 TL')\n",
    "\n",
    "im.fetchone()\n",
    "\n",
    "('ORACLE 11g R2', 'Teoman Dinçel', '34,00 TL')"
   ]
  },
  {
   "cell_type": "markdown",
   "id": "adcd9d8e-ef8a-45e6-9343-11e117886d3b",
   "metadata": {},
   "source": [
    "fetchone()’ın gayet faydalı bir metot olduğu her halinden belli…"
   ]
  },
  {
   "cell_type": "markdown",
   "id": "5dd4e91b-1e36-4d6b-86c7-5b413407dcb2",
   "metadata": {},
   "source": [
    "+++++++++++++++fetchmany() Metodu\n",
    "\n",
    "Bu metot, bir veritabanından seçtiğiniz verilerin istediğiniz kadarını alabilmenize imkan tanır. Dikkatlice bakın:"
   ]
  },
  {
   "cell_type": "code",
   "execution_count": null,
   "id": "56fe3fd7-29e2-4f9d-904b-6e98805a5cc7",
   "metadata": {},
   "outputs": [],
   "source": [
    "im.fetchmany(5)\n",
    "\n",
    "[('AS 3.0 İLE SUNUCU PROGRAMLAMA', 'Engin Yöğen', '24,00 TL'),\n",
    " ('HACKING INTERFACE', 'Hamza Elbahadır', '25,00 TL'),\n",
    " ('JAVA VE JAVA TEKNOLOJİLERİ', 'Tevfik Kızılören', '45,00 TL'),\n",
    " ('XML VE İLERİ XML TEKNOLOJİLERİ', 'Musa Çiçek', '24,50 TL'),\n",
    " ('GRAFİK&ANİMASYON', 'Anonim', '18,50 TL')]"
   ]
  },
  {
   "cell_type": "markdown",
   "id": "9dc725c8-3aaf-4c51-98a3-507f3c3aeaf7",
   "metadata": {},
   "source": [
    "Gördüğünüz gibi, beş öğeden oluşan bir liste elde ettik.\n",
    "\n",
    "Böylece bir veritabanından seçilen verileri almanın farklı yöntemlerini öğrenmiş olduk. Bu metotların dışında, eğer arzu ederseniz for döngüsünden yararlanarak da veri çekebilirsiniz. Bunun için herhangi bir metot kullanmanıza gerek yok:\n",
    "\n"
   ]
  },
  {
   "cell_type": "code",
   "execution_count": null,
   "id": "10f5a8aa-f6a3-4e05-aa3a-af05042368e0",
   "metadata": {},
   "outputs": [],
   "source": [
    "for veri in im:\n",
    "    print(veri)"
   ]
  },
  {
   "cell_type": "markdown",
   "id": "aa6f94b8-a866-491d-bed9-4c5e6dbb6f58",
   "metadata": {},
   "source": [
    "Gördüğünüz gibi, for döngüsünü doğrudan imleç üzerinde kuruyoruz.\n",
    "\n",
    "Eğer amacınız alınacak verilerin sayısını sınırlamaksa yine for döngüsünden ve fetchone() metodundan birlikte yararlanabilirsiniz:"
   ]
  },
  {
   "cell_type": "code",
   "execution_count": null,
   "id": "9a857908-872d-4f64-b167-a0acb74b4851",
   "metadata": {},
   "outputs": [],
   "source": [
    "for i in range(5):\n",
    "    print(im.fetchone())"
   ]
  },
  {
   "cell_type": "markdown",
   "id": "c35502e2-7f37-48a8-88f5-f47080f4e6e4",
   "metadata": {},
   "source": [
    "Biraz sonra veri süzmeyi öğrendiğimizde, bir veritabanından veri seçip almanın daha verimli yollarını göreceğiz.\n",
    "\n",
    "++++++++++++Veri Süzme\n",
    "\n",
    "Daha önce bir Sqlite veritabanında belli bir tablo içindeki bütün verileri seçmek için şu SQL komutunu kullanmamız gerektiğini öğrenmiştik:\n",
    "\n"
   ]
  },
  {
   "cell_type": "code",
   "execution_count": null,
   "id": "b9f0a6fb-983b-4724-9f19-28fd556e2ec3",
   "metadata": {},
   "outputs": [],
   "source": [
    "SELECT * FROM tablo_adi"
   ]
  },
  {
   "cell_type": "markdown",
   "id": "e44db1f8-b355-4fbb-a272-42daf5eb17ac",
   "metadata": {},
   "source": [
    "Ancak amacımız çoğu zaman bir tablo içindeki bütün verileri seçmek olmayacaktır. Programcılık maceramız boyunca genellikle yalnızca belli ölçütlere uyan verileri seçmek isteyeceğiz. Zira içinde milyonlarca veri barındırabilecek olan veritabanlarındaki verilerin tamamını seçmek akıl kârı değildir.\n",
    "\n",
    "Verileri süzme işini WHERE adlı bir SQL komutu yardımıyla gerçekleştireceğiz. Bu SQL komutunun sözdizimi şöyle:"
   ]
  },
  {
   "cell_type": "code",
   "execution_count": null,
   "id": "aef8cc36-7b90-4033-baa5-445acf6a0f7e",
   "metadata": {},
   "outputs": [],
   "source": [
    "SELECT * FROM tablo_adı WHERE sütun_başlığı = aranan_veri"
   ]
  },
  {
   "cell_type": "markdown",
   "id": "27c23bde-77d3-4b25-aa92-70e489bb553e",
   "metadata": {},
   "source": [
    "Gördüğünüz gibi, bu sorguyu gerçekleştirebilmek için tablodaki sütun başlıklarını bilmemiz gerekiyor.\n",
    "\n",
    "Önceki sayfalarda, kitaplar.sqlite adlı veritabanımızdaki tabloların adını nasıl öğrenebileceğimizi anlatmıştık. Hatırlarsanız bu iş için şu komutu kullanıyorduk:\n",
    "\n"
   ]
  },
  {
   "cell_type": "code",
   "execution_count": null,
   "id": "e43ca496-f59b-4631-ae72-a7aaeff68d1b",
   "metadata": {},
   "outputs": [],
   "source": [
    "im.execute(\"SELECT name FROM sqlite_master\")"
   ]
  },
  {
   "cell_type": "markdown",
   "id": "c3b1b96a-ee3b-4301-b52d-d92242a214d4",
   "metadata": {},
   "source": [
    "Bu şekilde, bütün Sqlite veritabanlarında bulunan ‘sqlite_master’ adlı özel bir tablonun ‘name’ niteliğini sorgulayarak, elimizdeki veritabanında bulunan tabloların adını elde edebiliyoruz. Adını öğrendiğimiz tablodaki sütun başlıklarını elde etmek için yine buna benzer bir komuttan yararlanacağız. Dikkatlice bakın:"
   ]
  },
  {
   "cell_type": "code",
   "execution_count": null,
   "id": "57cc10e1-d2a3-414f-881b-3523672bf836",
   "metadata": {},
   "outputs": [],
   "source": [
    "im.execute(\"SELECT sql FROM sqlite_master\").fetchone()\n",
    "\n",
    "('CREATE TABLE \"kitaplar\"\n",
    "(\\n\\t`KitapAdi`\\tTEXT,\\n\\t`Yazar`\\tTEXT,\\n\\t`Fiyati`\\tTEXT\\n)',)"
   ]
  },
  {
   "cell_type": "markdown",
   "id": "d48a0d79-0833-482e-85d3-acb93242db4d",
   "metadata": {},
   "source": [
    "‘sqlite_master’ adlı tablonun ‘sql’ niteliğini sorguladığımızda, ilgili tabloyu oluşturmak için kullanılan SQL komutunu görüyoruz. Bu komuta dikkatli bakarsanız, tablonun ‘KitapAdi’, ‘Yazar’ ve ‘Fiyati’ olmak üzere üç sütundan oluştuğunu göreceksiniz. Elbette sütun adlarını öğrenmek için Sqlitebrowser programını da kullanabileceğinizi artık biliyorsunuz.\n",
    "\n",
    "Sütun adlarını öğrendiğimize göre gelin şimdi yazar adına göre veritabanında bir sorgu yapalım:"
   ]
  },
  {
   "cell_type": "code",
   "execution_count": null,
   "id": "601300ad-1934-4077-9cdd-1b42d4540522",
   "metadata": {},
   "outputs": [],
   "source": [
    "im.execute(\"SELECT * FROM kitaplar WHERE Yazar = 'Fırat Özgül'\")"
   ]
  },
  {
   "cell_type": "markdown",
   "id": "45f2005b-3c0a-4f10-b8f4-440727b568bc",
   "metadata": {},
   "source": [
    "Burada sorguyu nasıl kurduğumuza dikkat edin. Bu sorgunun ilk kısmı olan SELECT * FROM kitaplar ifadesini zaten daha önce öğrenmiştik. Yeni olan kısım WHERE Yazar = 'Fırat Özgül'. Burada da anlaşılmayacak bir şey yok. Bu şekilde, veritabanındaki ‘kitaplar’ tablosunun ‘Yazar’ sütununda ‘Fırat Özgül’ bulunan bütün kayıtları seçiyoruz.\n",
    "\n",
    "Şimdi de seçtiğimiz bu verileri alalım:"
   ]
  },
  {
   "cell_type": "code",
   "execution_count": null,
   "id": "187da38b-8672-4e1e-ad1f-451f466b66a7",
   "metadata": {},
   "outputs": [],
   "source": [
    "im.fetchall()\n",
    "\n",
    "('HERYÖNÜYLE PYTHON', 'Fırat Özgül', '34,00 TL')"
   ]
  },
  {
   "cell_type": "markdown",
   "id": "5d487ed0-6d89-49ab-b3af-2cea4afde47e",
   "metadata": {},
   "source": [
    "Gayet başarılı… Bu arada, verileri almak için fetchall() yerine for döngüsü kullanabileceğinizi de biliyorsunuz:\n",
    "\n"
   ]
  },
  {
   "cell_type": "code",
   "execution_count": null,
   "id": "4d5dbbf8-5be5-47e5-93f3-3ac356f0212d",
   "metadata": {},
   "outputs": [],
   "source": [
    "for s in im:\n",
    "    print(s)\n",
    "\n",
    "('HERYÖNÜYLE PYTHON', 'Fırat Özgül', '34,00 TL')"
   ]
  },
  {
   "cell_type": "markdown",
   "id": "3478949a-214b-4cb6-9f25-bd4083cac6f0",
   "metadata": {},
   "source": [
    "İmleç üzerinde for döngüsü kurabildiğimize göre yıldızlı parametrelerden de yararlanabileceğimizi tahmin etmişsinizdir:\n",
    "\n"
   ]
  },
  {
   "cell_type": "code",
   "execution_count": null,
   "id": "e6a55e0a-4470-41cf-bbcc-20d604f85488",
   "metadata": {},
   "outputs": [],
   "source": [
    "print(*im)\n",
    "\n",
    "('HERYÖNÜYLE PYTHON', 'Fırat Özgül', '34,00 TL')"
   ]
  },
  {
   "cell_type": "markdown",
   "id": "9ff134ac-fc25-49dd-984a-4efd2ff48190",
   "metadata": {},
   "source": [
    "++++++++++++++++Veritabanı Güvenliği\n",
    "\n",
    "Python’da veritabanları ve Sqlite konusunda daha fazla ilerlemeden önce çok önemli bir konudan bahsetmemiz gerekiyor. Tahmin edebileceğiniz gibi, veritabanı denen şey oldukça hassas bir konudur. Bilgiyi bir araya toplayan bu sistem, içerdeki bilgilerin değerine ve önemine de bağlı olarak üçüncü şahısların iştahını kabartabilir. Ancak depoladığınız verilerin ne kadar değerli ve önemli olduğundan bağımsız olarak veritabanı güvenliğini sağlamak, siz programcıların asli görevidir.\n",
    "\n",
    "Peki veritabanı yönetim sistemleri acaba hangi tehditlerle karşı karşıya?\n",
    "\n",
    "SQL komutlarını işleten bütün veritabanları için günümüzdeki en büyük tehditlerden birisi hiç kuşkusuz kötü niyetli kişilerin veritabanınıza SQL komutu sızdırma (SQL injection) girişimleridir.\n",
    "\n",
    "Şimdi şöyle bir şey düşünün: Diyelim ki siz bir alışveriş karşılığı birine 100.000 TL’lik bir çek verdiniz. Ancak çeki verdiğiniz kişi bu çek üzerindeki miktarı tahrif ederek artırdı ve banka da tahrif edilerek artırılan bu miktarı çeki getiren kişiye (hamiline) ödedi. Böyle bir durumda epey başınız ağrıyacaktır.\n",
    "\n",
    "İşte böyle tatsız bir durumla karşılaşmamak için, çek veren kişi çekin üzerindeki miktarı hem rakamla hem de yazıyla belirtmeye özen gösterir. Ayrıca rakam ve yazılara ekleme yapılmasını da engellemek için rakam ve yazıların sağına soluna “#” gibi işaretler de koyar. Böylece çeki alan kişinin, kendisine izin verilenden daha fazla bir miktarı yazmasını engellemeye çalışır.\n",
    "\n",
    "Yukarıdakine benzer bir şey veritabanı uygulamalarında da karşımıza çıkabilir. Şimdi şu örneğe bakalım:\n",
    "\n"
   ]
  },
  {
   "cell_type": "code",
   "execution_count": null,
   "id": "9b85473f-7dc8-4264-a970-97e7772d0477",
   "metadata": {},
   "outputs": [],
   "source": [
    "import sqlite3\n",
    "\n",
    "#vt.sqlite adlı bir veritabanı dosyası oluşturup\n",
    "#bu veritabanına bağlanıyoruz.\n",
    "db = sqlite3.connect(\"vt.sqlite\")\n",
    "\n",
    "#Veritabanı üzerinde istediğimiz işlemleri yapabilmek\n",
    "#için bir imleç oluşturmamız gerekiyor.\n",
    "im = db.cursor()\n",
    "\n",
    "#imlecin execute() metodunu kullanarak, veritabanı içinde\n",
    "#\"kullanicilar\" adlı bir tablo oluşturuyoruz. Bu tabloda\n",
    "#kullanıcı_adi ve parola olmak üzere iki farklı sütun var.\n",
    "im.execute(\"\"\"CREATE TABLE IF NOT EXISTS kullanicilar\n",
    "    (kullanici_adi, parola)\"\"\")\n",
    "\n",
    "#Yukarıda oluşturduğumuz tabloya yerleştireceğimiz verileri\n",
    "#hazırlıyoruz. Verilerin liste içinde birer demet olarak\n",
    "#nasıl gösterildiğine özellikle dikkat ediyoruz.\n",
    "veriler = [\n",
    "            (\"ahmet123\", \"12345678\"),\n",
    "            (\"mehmet321\", \"87654321\"),\n",
    "            (\"selin456\", \"123123123\")\n",
    "          ]\n",
    "\n",
    "#veriler adlı liste içindeki bütün verileri kullanicilar adlı\n",
    "#tabloya yerleştiriyoruz. Burada tek öğeli bir demet\n",
    "#tanımladığımıza dikkat edin: (i,)\n",
    "for i in veriler:\n",
    "    im.execute(\"\"\"INSERT INTO kullanicilar VALUES %s\"\"\" %(i,))\n",
    "\n",
    "#Yaptığımız değişikliklerin tabloya işlenebilmesi için\n",
    "#commit() metodunu kullanıyoruz.\n",
    "db.commit()\n",
    "\n",
    "#Kullanıcıdan kullanıcı adı ve parola bilgilerini alıyoruz...\n",
    "kull = input(\"Kullanıcı adınız: \")\n",
    "paro = input(\"Parolanız: \")\n",
    "\n",
    "#Burada yine bir SQL komutu işletiyoruz. Bu komut, kullanicilar\n",
    "#adlı tabloda yer alan kullanici_adi ve parola adlı sütunlardaki\n",
    "#bilgileri seçiyor.\n",
    "im.execute(\"\"\"SELECT * FROM kullanicilar WHERE\n",
    "kullanici_adi = '%s' AND parola = '%s'\"\"\"%(kull, paro))\n",
    "\n",
    "#Hatırlarsanız daha önce fetchall() adlı bir metottan\n",
    "#söz etmiştik. İşte bu fetchone() metodu da ona benzer.\n",
    "#fetchall() bütün verileri alıyordu, fetchone() ise\n",
    "#verileri tek tek alır.\n",
    "data = im.fetchone()\n",
    "\n",
    "#Eğer data adlı değişken False değilse, yani bu\n",
    "#değişkenin içinde bir değer varsa kullanıcı adı\n",
    "#ve parola doğru demektir. Kullanıcıyı içeri alıyoruz.\n",
    "if data:\n",
    "    print(\"Programa hoşgeldin {}!\".format(data[0]))\n",
    "\n",
    "#Aksi halde kullanıcıya olumsuz bir mesaj veriyoruz.\n",
    "else:\n",
    "    print(\"Parola veya kullanıcı adı yanlış!\")"
   ]
  },
  {
   "cell_type": "markdown",
   "id": "3d64067b-603f-4d2c-87eb-3a135afeb0d3",
   "metadata": {},
   "source": [
    "Bu örnekte henüz bilmediğimiz bazı kısımlar var. Ama siz şimdilik bunları kafanıza takmayın. Nasıl olsa bu kodlarda görünen her şeyi biraz sonra tek tek öğreneceğiz. Siz şimdilik sadece işin özüne odaklanın.\n",
    "\n",
    "Yukarıdaki kodları çalıştırdığınızda, eğer kullanıcı adı ve parolayı doğru girerseniz ‘Programa hoşgeldin’ çıktısını göreceksiniz. Eğer kullanıcı adınız veya parolanız yanlışsa bununla ilgili bir uyarı alacaksınız.\n",
    "\n",
    "Her şey iyi hoş, ama bu kodlarda çok ciddi bir problem var.\n",
    "\n",
    "Dediğimiz gibi, bu kodlar çalışırken (teoride) eğer kullanıcı, veritabanında varolan bir kullanıcı adı ve parola yazarsa sisteme kabul edilecektir. Eğer doğru kullanıcı adı ve parola girilmezse sistem kullanıcıya giriş izni vermeyecektir. Ama acaba gerçekten öyle mi?\n",
    "\n",
    "Şimdi yukarıdaki programı tekrar çalıştırın. Kullanıcı adı ve parola sorulduğunda da her ikisi için şunu yazın:"
   ]
  },
  {
   "cell_type": "code",
   "execution_count": null,
   "id": "729d87c0-672f-4cb7-9d9f-a183db125a6a",
   "metadata": {},
   "outputs": [],
   "source": [
    "x' OR '1' = '1"
   ]
  },
  {
   "cell_type": "markdown",
   "id": "0f761f0a-5a21-4b1d-a7e1-a6fae954ab18",
   "metadata": {},
   "source": [
    "O da ne! Program sizi içeri aldı… Hem de kullanıcı adı ve parola doğru olmadığı halde… Hatta şu kodu sadece kullanıcı adı kısmına girip parola kısmını boş bırakmanız da sisteme giriş hakkı elde etmenize yetecektir.:\n",
    "\n"
   ]
  },
  {
   "cell_type": "code",
   "execution_count": null,
   "id": "25a18395-8658-4794-92ef-cfd5631b9f9c",
   "metadata": {},
   "outputs": [],
   "source": [
    "x' OR '1' = '1' --"
   ]
  },
  {
   "cell_type": "markdown",
   "id": "851fe11b-afab-4e63-85a7-722297e39428",
   "metadata": {},
   "source": [
    "İşte yukarıda gösterdiğimiz bu işleme “SQL sızdırma” (SQL injection) adı verilir. Kullanıcı, tıpkı en başta verdiğimiz tahrif edilmiş çek örneğinde olduğu gibi, sistemin zaaflarından yararlanarak, elde etmeye hakkı olandan daha fazlasına erişim hakkı elde ediyor.\n",
    "\n",
    "Burada en basit şekliyle bool işleçlerinden biri olan or’dan yararlanıyoruz. or’un nasıl işlediğini gayet iyi biliyorsunuz, ama ben yine de birkaç örnekle or’un ne olduğunu ve ne yaptığını size hatırlatayım. Şu örneklere bakın:\n",
    "\n"
   ]
  },
  {
   "cell_type": "code",
   "execution_count": 3,
   "id": "d8683b2d-0e48-49f0-90ee-44d5c2efd0dd",
   "metadata": {},
   "outputs": [
    {
     "data": {
      "text/plain": [
       "False"
      ]
     },
     "execution_count": 3,
     "metadata": {},
     "output_type": "execute_result"
    }
   ],
   "source": [
    "a = 21\n",
    "\n",
    "a == 22"
   ]
  },
  {
   "cell_type": "code",
   "execution_count": 4,
   "id": "cd736170-5463-4db1-963a-eead56f03f7b",
   "metadata": {},
   "outputs": [
    {
     "data": {
      "text/plain": [
       "True"
      ]
     },
     "execution_count": 4,
     "metadata": {},
     "output_type": "execute_result"
    }
   ],
   "source": [
    "b = 13\n",
    "\n",
    "b == 13"
   ]
  },
  {
   "cell_type": "code",
   "execution_count": 5,
   "id": "5a046ac0-4e0d-4189-8b24-982b87772ee5",
   "metadata": {},
   "outputs": [],
   "source": [
    "if a == 22 and b == 13:\n",
    "    print(\"Merhaba!\")\n"
   ]
  },
  {
   "cell_type": "code",
   "execution_count": 6,
   "id": "81892575-c103-4c4c-ac3c-ffcad80e9d1b",
   "metadata": {},
   "outputs": [
    {
     "name": "stdout",
     "output_type": "stream",
     "text": [
      "Merhaba!\n"
     ]
    }
   ],
   "source": [
    "if a == 22 or b == 13:\n",
    "    print(\"Merhaba!\")"
   ]
  },
  {
   "cell_type": "markdown",
   "id": "3434723b-7600-45b7-8d60-053577337d72",
   "metadata": {},
   "source": [
    "Örneklerden de gördüğünüz gibi, and işlecinin True sonucunu verebilmesi için her iki önermenin de doğru olması gerekir. O yüzden a == 22 and b == 13 gibi bir ifade False değeri veriyor. Ancak or işlecinin True sonucu verebilmesi için iki önermeden sadece birinin doğru olması yeterlidir. Bu yüzden, sadece b == 13 kısmı True olduğu halde a == 22 or b == 13 ifadesi True sonucu veriyor… İşte biz de yukarıdaki SQL sızdırma girişiminde or’un bu özelliğinden faydalanıyoruz.\n",
    "\n",
    "Dilerseniz neler olup bittiğini daha iyi anlayabilmek için, sızdırılan kodu doğrudan ilgili satıra uygulayalım:"
   ]
  },
  {
   "cell_type": "code",
   "execution_count": null,
   "id": "e6c5a193-91fc-411d-bea4-ed375e9f9425",
   "metadata": {},
   "outputs": [],
   "source": [
    "im.execute(\"\"\"SELECT * FROM kullanicilar WHERE\n",
    "kullanici_adi = 'x' OR '1' = '1' AND parola = 'x' OR '1' = '1'\"\"\")"
   ]
  },
  {
   "cell_type": "markdown",
   "id": "3953e6f2-da14-4307-a68b-ed62e9215cc4",
   "metadata": {},
   "source": [
    "Sanırım bu şekilde neler olup bittiği daha net görülüyor. Durumu biraz daha netleştirmek için Python’ı yardıma çağırabiliriz:\n",
    "\n"
   ]
  },
  {
   "cell_type": "code",
   "execution_count": null,
   "id": "6a227336-df1a-4992-82ad-0cabf0d642ae",
   "metadata": {},
   "outputs": [],
   "source": [
    "kullanici_adi = 'ahmet123'\n",
    "\n",
    "parola = '12345678'\n",
    "\n",
    "kullanici_adi == 'x'\n",
    "\n",
    "False\n",
    "\n",
    "'1' == '1'\n",
    "\n",
    "True\n",
    "\n",
    "kullanici_adi == 'x' or '1' == '1'\n",
    "\n",
    "True\n",
    "\n",
    "parola == 'x'\n",
    "\n",
    "False\n",
    "\n",
    "(kullanici_adi == 'x' or '1' == '1') and (parola == 'x' or '1' == '1')\n",
    "\n",
    "True"
   ]
  },
  {
   "cell_type": "markdown",
   "id": "ad13c84b-ce75-49aa-9e7c-7c587a546ce2",
   "metadata": {},
   "source": [
    "'1' == '1' ifadesi her zaman True değeri verecektir. Dolayısıyla kullanıcı adının ve parolanın doğru olup olmaması hiçbir önem taşımaz. Yani her zaman True değerini vereceği kesin olan ifadeler yardımıyla yukarıdaki gibi bir sızdırma girişiminde bulunabilirsiniz.\n",
    "\n",
    "Yukarıda yaptığımız şey, ‘%s’ ile gösterilen yerlere kötü niyetli bir SQL komutu sızdırmaktan ibarettir. Burada zaten başlangıç ve bitiş tırnakları olduğu için sızdırılan kodda başlangıç ve bitiş tırnaklarını yazmıyoruz. O yüzden sızdırılan kod şöyle görünüyor:"
   ]
  },
  {
   "cell_type": "code",
   "execution_count": null,
   "id": "1389774b-4c32-4338-a930-a0096489ec09",
   "metadata": {},
   "outputs": [],
   "source": [
    "x' OR '1' = '1\n"
   ]
  },
  {
   "cell_type": "markdown",
   "id": "9cfd6f23-b396-48c9-a7ba-7b6591ea1e41",
   "metadata": {},
   "source": [
    "Gördüğünüz gibi, x’in başındaki ve 1’in sonundaki tırnak işaretleri koymuyoruz.\n",
    "\n",
    "Peki yukarıda verdiğimiz şu kod nasıl çalışıyor:"
   ]
  },
  {
   "cell_type": "code",
   "execution_count": null,
   "id": "444dde3d-d6ec-4d8b-acef-05dda5158fd7",
   "metadata": {},
   "outputs": [],
   "source": [
    "x' OR '1' = '1' --"
   ]
  },
  {
   "cell_type": "markdown",
   "id": "97049bcf-8201-4203-9815-4cbff04111f9",
   "metadata": {},
   "source": [
    "Python’da yazdığımız kodlara yorum eklemek için “#” işaretinden yararlandığımızı biliyorsunuz. İşte SQL kodlarına yorum eklemek için de “–” işaretlerinden yararlanılır. Şimdi dilerseniz yukarıdaki kodu doğrudan ilgili satıra uygulayalım ve ne olduğunu görelim:"
   ]
  },
  {
   "cell_type": "code",
   "execution_count": null,
   "id": "6003425b-f5f7-41dd-8a92-03e873c9bccb",
   "metadata": {},
   "outputs": [],
   "source": [
    "im.execute(\"\"\"SELECT * FROM kullanicilar WHERE\n",
    "kullanici_adi = 'x' OR '1'='1' --AND parola = '%s'\"\"\")"
   ]
  },
  {
   "cell_type": "markdown",
   "id": "b499ab05-5186-4c4f-987f-130453683d05",
   "metadata": {},
   "source": [
    "Burada yazdığımız “–” işareti AND parola = '%s' kısmının sistem tarafından yorum olarak algılanmasını sağlıyor. Bu yüzden kodların bu kısmı işletilmiyor. Dolayısıyla da sisteme giriş yapabilmek için sadece kullanıcı adını girmemiz yeterli oluyor. Burada ayrıca kodlarımızın çalışması için 1’in sonuna bir adet tırnak yerleştirerek kodu kapattığımıza dikkat edin. Çünkü normal bitiş tırnağı yorum tarafında kaldı.\n",
    "\n",
    "Dikkat ederseniz SQL sızdırdığımızda “ahmet123” adlı kullanıcının hesabını ele geçirmiş olduk. Peki neden ötekiler değil de “ahmet123”? Bunun sebebi, “ahmet123” hesabının tablonun en başında yer alması. Eğer tablonun başında “admin” diye bir hesap olmuş olsaydı, veritabanına azami düzeyde zarar verme imkanına kavuşacaktınız.\n",
    "\n",
    "Peki SQL sızdırma girişimlerini nasıl önleyeceğiz? Bu girişime karşı alabileceğiniz başlıca önlem “%s” işaretlerini kullanmaktan kaçınmak olacaktır. Bu işaret yerine “?” işaretini kullanacaksınız. Yani yukarıdaki programı şöyle yazacağız:"
   ]
  },
  {
   "cell_type": "code",
   "execution_count": null,
   "id": "d1c84fe7-5131-4cdf-8ba8-5947a0c11a21",
   "metadata": {},
   "outputs": [],
   "source": [
    "import sqlite3\n",
    "\n",
    "db = sqlite3.connect(\"vt.sqlite\")\n",
    "\n",
    "im = db.cursor()\n",
    "\n",
    "im.execute(\"\"\"CREATE TABLE IF NOT EXISTS kullanicilar\n",
    "    (kullanici_adi, parola)\"\"\")\n",
    "\n",
    "veriler = [\n",
    "            (\"ahmet123\", \"12345678\"),\n",
    "            (\"mehmet321\", \"87654321\"),\n",
    "            (\"selin456\", \"123123123\")\n",
    "          ]\n",
    "\n",
    "for i in veriler:\n",
    "    im.execute(\"\"\"INSERT INTO kullanicilar VALUES (?, ?)\"\"\", i)\n",
    "\n",
    "db.commit()\n",
    "\n",
    "kull = input(\"Kullanıcı adınız: \")\n",
    "paro = input(\"Parolanız: \")\n",
    "\n",
    "im.execute(\"\"\"SELECT * FROM kullanicilar WHERE\n",
    "kullanici_adi = ? AND parola = ?\"\"\", (kull, paro))\n",
    "\n",
    "data = im.fetchone()\n",
    "\n",
    "if data:\n",
    "    print(\"Programa hoşgeldin {}!\".format(data[0]))\n",
    "else:\n",
    "    print(\"Parola veya kullanıcı adı yanlış!\")"
   ]
  },
  {
   "cell_type": "markdown",
   "id": "436f235c-bca0-4de6-83df-e3c01adf438f",
   "metadata": {},
   "source": [
    "Dediğimiz gibi, SQL sızdırma girişimlerine karşı alabileceğiniz başlıca önlem “%s” işaretleri yerine “?” işaretini kullanmak olmalıdır. Bunun dışında, SQL komutlarını işletmeden önce bazı süzgeçler uygulamak da güvenlik açısından işinize yarayabilir. Örneğin kullanıcıdan alınacak verileri alfanümerik karakterlerle [http://www.istihza.com/blog/alfanumerik-ne-demek.html/] (arşiv linki) sınırlayabilirsiniz:\n",
    "\n"
   ]
  },
  {
   "cell_type": "code",
   "execution_count": null,
   "id": "5f6e591e-4669-4971-b826-c13c030a8f38",
   "metadata": {},
   "outputs": [],
   "source": [
    "if kull.isalnum() and paro.isalnum():\n",
    "    im.execute(\"\"\"SELECT * FROM kullanicilar WHERE\n",
    "    kullanici_adi = '%s' AND parola = '%s'\"\"\"%(kull, paro))"
   ]
  },
  {
   "cell_type": "markdown",
   "id": "584cf90f-0721-4686-872f-eefb3bda7176",
   "metadata": {},
   "source": [
    "Böylece kullanıcının bazı “tehlikeli” karakterleri girmesini engelleyebilir, onları sadece harf ve sayı girmeye zorlayabilirsiniz.\n",
    "\n",
    "Her halükarda unutmamamız gereken şey, güvenliğin çok boyutlu bir kavram olduğudur. Birkaç önlemle pek çok güvenlik açığını engelleyebilirsiniz, ancak bütün güvenlik açıklarını bir çırpıda yamamak pek mümkün değildir. Bir programcı olarak sizin göreviniz, yazdığınız programları güvenlik açıklarına karşı sürekli taramak ve herhangi bir açık ortaya çıktığında da bunu derhal kapatmaya çalışmaktır.\n",
    "\n",
    "++++++++++++++Bölüm Soruları\n",
    "\n",
    "Bir veritabanı dosyasının var olup olmadığını nasıl tespit edersiniz?\n",
    "\n",
    "Bir veritabanı içinde belli bir tablonun var olup olmadığını tespit edin. Eğer yoksa o tabloyu oluşturun, varsa herhangi bir işlem yapmayın.\n",
    "\n",
    "Sqlite ile test amaçlı bir veritabanı oluşturun. Bu veritabanı dosyası, programınız kapanır kapanmaz ortadan kaybolmalı.\n",
    "\n",
    "Aşağıdaki kodların istenen veritabanını, tabloyu, satır ve sütunları oluşturup oluşturmadığını teyit edin:\n",
    "\n"
   ]
  },
  {
   "cell_type": "code",
   "execution_count": null,
   "id": "b1e6ce7d-a54a-4248-9ad2-6fd5a696594f",
   "metadata": {},
   "outputs": [],
   "source": [
    "import sqlite3\n",
    "\n",
    "vt = sqlite3.connect('vt.sqlite')\n",
    "\n",
    "im = vt.cursor()\n",
    "im.execute(\"CREATE TABLE kullanıcılar (ad, soyad, doğumtarihi, eposta)\")\n",
    "\n",
    "vt.commit()\n",
    "vt.close()"
   ]
  },
  {
   "cell_type": "markdown",
   "id": "e75f928a-d10d-4876-b1af-d72ef9305d63",
   "metadata": {},
   "source": [
    "Eğer veritabanı içeriği beklediğiniz gibi değilse sebebini açıklayın.\n",
    "\n",
    "Sqlite ile bir veritabanının oluşturulması ve bu veritabanına birtakım bilgiler girilebilmesi için sırasıyla hangi işlemlerin yapılması gerekir?\n"
   ]
  },
  {
   "cell_type": "markdown",
   "id": "04eac7d6-6f4e-4406-ae7f-eee6298d9a6c",
   "metadata": {},
   "source": [
    "sqlite3.connect('kitaplar.sqlite') boş bir veritabanının mı oluşturulduğunu yoksa varolan kitaplar.sqlite adlı bir veritabanı dosyasına mı bağlandığınızı nasıl teyit edersiniz?\n",
    "\n",
    "Sqlitebrowser programını ne şekilde kurdunuz? Eğer Ubuntu dışında bir GNU/Linux dağıtımına bu programı kurduysanız, programın kurulum aşamalarını anlatın.\n",
    "\n",
    "cmake komutu ile birlikte kullandığımız . (nokta) işaretinin anlamı nedir?\n",
    "\n",
    "Yazdığınız bir programı kullanan kişilerin, programınızı ilk kez çalıştırdıklarında karşılarında görmeleri gereken verileri veritabanına yerleştirmek için nasıl bir yöntem takip edebilirsiniz? Kullanıcılarınız programınızı ikinci kez çalıştırdığında bu verileri görmemeli.\n",
    "\n",
    "Bir önceki soruda uyguladığınız yöntemin herhangi bir kısıtlaması var mı? Bu yöntem hangi durumlarda işe yaramaz?\n",
    "\n",
    "Bir veritabanındaki bütün tabloların adını nasıl listelersiniz?"
   ]
  },
  {
   "cell_type": "code",
   "execution_count": null,
   "id": "adf7a769-d43a-42a1-b1f5-4e73eec19220",
   "metadata": {},
   "outputs": [],
   "source": []
  }
 ],
 "metadata": {
  "kernelspec": {
   "display_name": "Python 3 (ipykernel)",
   "language": "python",
   "name": "python3"
  },
  "language_info": {
   "codemirror_mode": {
    "name": "ipython",
    "version": 3
   },
   "file_extension": ".py",
   "mimetype": "text/x-python",
   "name": "python",
   "nbconvert_exporter": "python",
   "pygments_lexer": "ipython3",
   "version": "3.10.12"
  }
 },
 "nbformat": 4,
 "nbformat_minor": 5
}
