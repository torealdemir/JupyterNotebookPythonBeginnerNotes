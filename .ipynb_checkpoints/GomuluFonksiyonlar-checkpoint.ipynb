{
 "cells": [
  {
   "cell_type": "markdown",
   "id": "6a1e9d8b-abb6-46ad-a596-0338603ca9d8",
   "metadata": {},
   "source": [
    "+++++++++++Gömülü Fonksiyonlar\n",
    "\n",
    "Bu bölümde, daha önce de birkaç kez bahsettiğimiz ve çokça örneğini gördüğümüz bir kavramdan söz edeceğiz. Bu kavramın adı ‘gömülü fonksiyonlar’.\n",
    "\n",
    "Esasında biz buraya gelene kadar Python’da pek çok gömülü fonksiyon gördük. Dolayısıyla aslında görünüş olarak bunların neye benzediğini biliyoruz. Örneğin daha önceki derslerimizde gördüğümüz print() gömülü bir fonksiyondur. Aynı şekilde open(), type(), len(), pow(), bin() ve şimdiye kadar tanıştığımız öteki bütün fonksiyonlar birer gömülü fonksiyondur.\n",
    "\n",
    "Gömülü fonksiyonlar İngilizcede builtin functions olarak adlandırılır. Bu fonksiyonlar gerçekten de dile gömülü vaziyettedirler. Bildiğiniz gibi, bir fonksiyonu kullanabilmemiz için o fonksiyonu tanımlamamız gerekir. İşte gömülü fonksiyonlar, bizim tanımlamamıza gerek kalmadan, Python geliştiricileri tarafından önceden tanımlanıp dile gömülmüş ve hizmetimize sunulmuş faydalı birtakım araçlardır.\n",
    "\n",
    "İşte bu bölümde biz de bu gömülü fonksiyonları tek tek ve ayrıntılı olarak inceleyeceğiz. Dediğimiz gibi, bunlardan bir kısmını halihazırda görmüştünüz. Ama biz bütünlük açısından, önceden ele almış olduğumuz bu fonksiyonlara da kısaca değinmeden geçmeyeceğiz. Böylelikle hem yeni fonksiyonlar öğrenmiş olacağız hem de önceden öğrendiğimiz fonksiyonlarla birlikte yeni fonksiyonları da derli toplu bir şekilde görme imkanımız olacak.\n",
    "\n",
    "Bu bölümde elbette birtakım fonksiyonları salt art arda sıralamakla yetinmeyeceğiz. Python’daki gömülü fonksiyonları incelerken bir yandan da Python programlama dilindeki çok önemli bazı kavramları ele alacağız.\n",
    "\n",
    "İlk olarak abs() adlı bir fonksiyonla başlıyoruz gömülü fonksiyonları incelemeye…\n",
    "\n",
    "+++++++++++++abs()\n",
    "\n",
    "İngilizcede ‘mutlak’ anlamına gelen absolute adlı bir kelime bulunur. İşte bu fonksiyonun adı da bu kelimeden gelir. Fonksiyonumuzun görevi de isminin anlamına yakındır. abs() fonksiyonunu bir sayının mutlak değerini elde etmek için kullanıyoruz.\n",
    "\n",
    "Peki ‘mutlak değer’ ne anlama geliyor. Esasında siz bu kavrama matematik derslerinden aşinasınız. Ama bilmeyenler veya unutmuş olanlar için tekrar edelim. ‘Mutlak değer’ bir sayının 0’a olan uzaklığıdır. Örneğin 20 sayısının 0 sayısına olan uzaklığı 20’dir. Dolayısıyla 20 sayısının mutlak değeri 20’dir. Aynı şekilde -20 sayısının da 0 sayısına uzaklığı 20’dir. Yani, -20 sayısının da mutlak değeri 20’dir.\n",
    "\n",
    "İşte abs() fonksiyonu bize bir sayının mutlak değerinin ne olduğunu söyler:"
   ]
  },
  {
   "cell_type": "code",
   "execution_count": 81,
   "id": "ed2b6b18-a394-46d1-9141-155dac6fc859",
   "metadata": {},
   "outputs": [
    {
     "data": {
      "text/plain": [
       "20"
      ]
     },
     "execution_count": 81,
     "metadata": {},
     "output_type": "execute_result"
    }
   ],
   "source": [
    "abs(-20)\n"
   ]
  },
  {
   "cell_type": "code",
   "execution_count": 82,
   "id": "cbaf0c7d-8232-4d15-bdd9-0bbd13ab313f",
   "metadata": {},
   "outputs": [
    {
     "data": {
      "text/plain": [
       "20"
      ]
     },
     "execution_count": 82,
     "metadata": {},
     "output_type": "execute_result"
    }
   ],
   "source": [
    "abs(20)"
   ]
  },
  {
   "cell_type": "code",
   "execution_count": 83,
   "id": "b7905c4a-de9c-47c5-bab3-9b511e007297",
   "metadata": {},
   "outputs": [
    {
     "data": {
      "text/plain": [
       "20.0"
      ]
     },
     "execution_count": 83,
     "metadata": {},
     "output_type": "execute_result"
    }
   ],
   "source": [
    "abs(20.0)"
   ]
  },
  {
   "cell_type": "markdown",
   "id": "7b4e3caf-a038-4193-9d70-9480eac2cb24",
   "metadata": {},
   "source": [
    "Mutlak değer kavramı yalnızca tamsayılar ve kayan noktalı sayılar için değil, aynı zamanda karmaşık sayılar için de geçerlidir. Dolayısıyla abs() fonksiyonunu kullanarak karmaşık sayıların da mutlak değerini hesaplayabiliriz:\n",
    "\n"
   ]
  },
  {
   "cell_type": "code",
   "execution_count": 4,
   "id": "549f0428-f7f7-4225-ba43-7e806a561911",
   "metadata": {},
   "outputs": [
    {
     "data": {
      "text/plain": [
       "20.223748416156685"
      ]
     },
     "execution_count": 4,
     "metadata": {},
     "output_type": "execute_result"
    }
   ],
   "source": [
    "abs(20+3j)"
   ]
  },
  {
   "cell_type": "markdown",
   "id": "0ae2eda7-969c-4901-8700-ed86de8463b4",
   "metadata": {},
   "source": [
    "Gördüğünüz gibi bu fonksiyon yalnızca tek bir parametre alıyor ve bu parametrenin mutlak değerini döndürüyor.\n",
    "\n",
    "++++++round()\n",
    "\n",
    "round() fonksiyonu bir sayıyı belli ölçütlere göre yukarı veya aşağı doğru yuvarlamamızı sağlar. Basit birkaç örnek verelim:\n",
    "\n"
   ]
  },
  {
   "cell_type": "code",
   "execution_count": 5,
   "id": "b2f8e457-9d2b-4262-b7ee-7ea64e96768c",
   "metadata": {},
   "outputs": [
    {
     "data": {
      "text/plain": [
       "12"
      ]
     },
     "execution_count": 5,
     "metadata": {},
     "output_type": "execute_result"
    }
   ],
   "source": [
    "round(12.4)"
   ]
  },
  {
   "cell_type": "code",
   "execution_count": 6,
   "id": "572b3b7e-bda7-4491-8e0b-0e37b8ffa676",
   "metadata": {},
   "outputs": [
    {
     "data": {
      "text/plain": [
       "13"
      ]
     },
     "execution_count": 6,
     "metadata": {},
     "output_type": "execute_result"
    }
   ],
   "source": [
    "round(12.7)"
   ]
  },
  {
   "cell_type": "markdown",
   "id": "cd0a0f3b-0d19-43de-8e0b-574ad9e1a36a",
   "metadata": {},
   "source": [
    "Gördüğünüz gibi bu fonksiyon, kayan noktalı sayıları en yakın tam sayıya doğru yuvarlıyor.\n",
    "\n",
    "Ancak burada dikkat etmemiz gereken bir nokta var.\n",
    "\n",
    "Şu örnekleri bir inceleyelim:"
   ]
  },
  {
   "cell_type": "code",
   "execution_count": 7,
   "id": "a10680ca-142d-42bd-9d26-40a5f741d496",
   "metadata": {},
   "outputs": [
    {
     "data": {
      "text/plain": [
       "2"
      ]
     },
     "execution_count": 7,
     "metadata": {},
     "output_type": "execute_result"
    }
   ],
   "source": [
    "round(1.5)"
   ]
  },
  {
   "cell_type": "code",
   "execution_count": 8,
   "id": "876e6d94-7088-4504-8291-3259daecb60a",
   "metadata": {},
   "outputs": [
    {
     "data": {
      "text/plain": [
       "12"
      ]
     },
     "execution_count": 8,
     "metadata": {},
     "output_type": "execute_result"
    }
   ],
   "source": [
    "round(12.5)"
   ]
  },
  {
   "cell_type": "markdown",
   "id": "15a47a4f-4d1a-4d8d-ac95-91d5ca7cf00b",
   "metadata": {},
   "source": [
    "Gördüğünüz gibi, fonksiyonumuz 1.5 sayısını yukarı doğru, 12.5 sayısını ise aşağı doğru yuvarladı. Bunun sebebi, kayan noktalı bir sayının üst ve alt tam sayılara olan uzaklığının birbirine eşit olduğu durumlarda Python’ın çift sayıya doğru yuvarlama yapmayı tercih etmesidir. Mesela yukarıdaki örneklerde 1.5 sayısı hem 1 sayısına, hem de 2 sayısına eşit uzaklıkta bulunuyor. İşte Python bu durumda, bir çift sayı olan 2 sayısına doğru yuvarlamayı tercih edecektir.\n",
    "\n",
    "round() fonksiyonu toplam iki parametre alır. İlk parametre, yuvarlanacak sayının kendisidir. Yuvarlama hassasiyetini belirlemek için ise ikinci bir parametreden yararlanabiliriz.\n",
    "\n",
    "Örneğin 22 sayısını 7’ye böldüğümüzde normalde şöyle bir çıktı elde ederiz:"
   ]
  },
  {
   "cell_type": "code",
   "execution_count": 9,
   "id": "1fba7feb-02a8-406a-bd36-774a6e1fdeb5",
   "metadata": {},
   "outputs": [
    {
     "data": {
      "text/plain": [
       "3.142857142857143"
      ]
     },
     "execution_count": 9,
     "metadata": {},
     "output_type": "execute_result"
    }
   ],
   "source": [
    "22/7\n"
   ]
  },
  {
   "cell_type": "markdown",
   "id": "b886344e-9909-4015-88cf-26132d30c57a",
   "metadata": {},
   "source": [
    "round() fonksiyonunu tek parametre ile kullandığımızda bu fonksiyon yukarıdaki sayıyı şu şekilde yuvarlayacaktır:"
   ]
  },
  {
   "cell_type": "code",
   "execution_count": 10,
   "id": "1e186442-2a6d-4d1c-975c-72a79bbda773",
   "metadata": {},
   "outputs": [
    {
     "data": {
      "text/plain": [
       "3"
      ]
     },
     "execution_count": 10,
     "metadata": {},
     "output_type": "execute_result"
    }
   ],
   "source": [
    "round(22/7)\n"
   ]
  },
  {
   "cell_type": "markdown",
   "id": "a4947c41-1c5b-472b-8849-353968a12d52",
   "metadata": {},
   "source": [
    "İşte biz round() fonksiyonuna ikinci bir parametre daha vererek, yuvarlama hassasiyetini kontrol edebiliriz.\n",
    "\n",
    "Aşağıdaki örnekleri dikkatlice inceleyin:\n",
    "\n"
   ]
  },
  {
   "cell_type": "code",
   "execution_count": 11,
   "id": "06c320e1-df43-4262-b95d-3c47b14030a1",
   "metadata": {},
   "outputs": [
    {
     "data": {
      "text/plain": [
       "3"
      ]
     },
     "execution_count": 11,
     "metadata": {},
     "output_type": "execute_result"
    }
   ],
   "source": [
    "round(22/7)"
   ]
  },
  {
   "cell_type": "code",
   "execution_count": 12,
   "id": "be1eae81-eff4-44a4-9843-8d960cf609b6",
   "metadata": {},
   "outputs": [
    {
     "data": {
      "text/plain": [
       "3.0"
      ]
     },
     "execution_count": 12,
     "metadata": {},
     "output_type": "execute_result"
    }
   ],
   "source": [
    "round(22/7, 0)"
   ]
  },
  {
   "cell_type": "code",
   "execution_count": 13,
   "id": "1cbcb98b-8cff-4811-a3a8-6bb88d15d41b",
   "metadata": {},
   "outputs": [
    {
     "data": {
      "text/plain": [
       "3.1"
      ]
     },
     "execution_count": 13,
     "metadata": {},
     "output_type": "execute_result"
    }
   ],
   "source": [
    "round(22/7, 1)"
   ]
  },
  {
   "cell_type": "code",
   "execution_count": 14,
   "id": "8fc9fd44-10a3-4e62-beeb-e20529466692",
   "metadata": {},
   "outputs": [
    {
     "data": {
      "text/plain": [
       "3.14"
      ]
     },
     "execution_count": 14,
     "metadata": {},
     "output_type": "execute_result"
    }
   ],
   "source": [
    "round(22/7, 2)\n"
   ]
  },
  {
   "cell_type": "code",
   "execution_count": 15,
   "id": "a1b61c4f-5f2c-45e0-a950-99b1766a88d6",
   "metadata": {},
   "outputs": [
    {
     "data": {
      "text/plain": [
       "3.143"
      ]
     },
     "execution_count": 15,
     "metadata": {},
     "output_type": "execute_result"
    }
   ],
   "source": [
    "round(22/7, 3)"
   ]
  },
  {
   "cell_type": "code",
   "execution_count": 16,
   "id": "2ac51361-3da5-4d22-b348-0bbb53a770f6",
   "metadata": {},
   "outputs": [
    {
     "data": {
      "text/plain": [
       "3.1429"
      ]
     },
     "execution_count": 16,
     "metadata": {},
     "output_type": "execute_result"
    }
   ],
   "source": [
    "round(22/7, 4)"
   ]
  },
  {
   "cell_type": "markdown",
   "id": "e32adc3f-f0be-4109-9975-a14f53d3f06f",
   "metadata": {},
   "source": [
    "Gördüğünüz gibi, round() fonksiyonuna verdiğimiz ikinci parametre, yuvarlama işleminin ne kadar hassas olacağını belirliyor."
   ]
  },
  {
   "cell_type": "markdown",
   "id": "686bd0a6-ad99-4368-bb9b-9708029d4b3d",
   "metadata": {},
   "source": [
    "+++++++++++all()\n",
    "\n",
    "All kelimesi Türkçede ‘hepsi’ anlamına gelir. Bu fonksiyonun görevi de bu anlamı çağrıştırır. all() fonksiyonunun görevi, bir dizi içinde bulunan bütün değerler True ise True değeri, eğer bu değerlerden herhangi biri False ise de False değeri döndürmektir.\n",
    "\n",
    "Örneğin elimizde şöyle bir liste olduğunu varsayalım:"
   ]
  },
  {
   "cell_type": "code",
   "execution_count": 17,
   "id": "9429840c-a96b-4747-8529-bacf3d3f373a",
   "metadata": {},
   "outputs": [],
   "source": [
    "liste = [1, 2, 3, 4]"
   ]
  },
  {
   "cell_type": "markdown",
   "id": "12e01ebe-8c07-4e59-a325-0f1ef007a25e",
   "metadata": {},
   "source": [
    "Şimdi all() fonksiyonunu bu liste üzerine uygulayalım:"
   ]
  },
  {
   "cell_type": "code",
   "execution_count": 18,
   "id": "0522c78f-c766-4d80-a2ee-6fb98cd1b565",
   "metadata": {},
   "outputs": [
    {
     "data": {
      "text/plain": [
       "True"
      ]
     },
     "execution_count": 18,
     "metadata": {},
     "output_type": "execute_result"
    }
   ],
   "source": [
    "all(liste)"
   ]
  },
  {
   "cell_type": "markdown",
   "id": "938f25f5-6c3b-46ae-9994-ec31ff65e2af",
   "metadata": {},
   "source": [
    "Bildiğiniz gibi, 0 hariç bütün sayıların bool değeri True’dur. Yukarıdaki listede False değeri verebilecek herhangi bir değer bulunmadığından, all() fonksiyonu bu liste için True değerini veriyor. Bir de şuna bakalım:"
   ]
  },
  {
   "cell_type": "code",
   "execution_count": 19,
   "id": "b21de022-6dec-4926-bb85-ac4903d85e6e",
   "metadata": {},
   "outputs": [
    {
     "data": {
      "text/plain": [
       "False"
      ]
     },
     "execution_count": 19,
     "metadata": {},
     "output_type": "execute_result"
    }
   ],
   "source": [
    "liste = [0, 1, 2, 3, 4]\n",
    "all(liste)"
   ]
  },
  {
   "cell_type": "markdown",
   "id": "90eccdd1-2437-4181-b362-fe67cc99868a",
   "metadata": {},
   "source": [
    "Dediğimiz gibi, all() fonksiyonu ancak dizi içindeki bütün değerlerin bool değeri True ise True çıktısı verecektir.\n",
    "\n",
    "Son bir örnek daha verelim:"
   ]
  },
  {
   "cell_type": "code",
   "execution_count": 20,
   "id": "d250dbc4-fd63-4531-8d9a-ece59b193dff",
   "metadata": {},
   "outputs": [
    {
     "data": {
      "text/plain": [
       "False"
      ]
     },
     "execution_count": 20,
     "metadata": {},
     "output_type": "execute_result"
    }
   ],
   "source": [
    "liste = ['ahmet', 'mehmet', '']\n",
    "all(liste)\n"
   ]
  },
  {
   "cell_type": "markdown",
   "id": "8983057e-b19e-40ba-9472-55e6a0f6dfe7",
   "metadata": {},
   "source": [
    "Listede False değerine sahip bir boş karakter dizisi bulunduğu için all() fonksiyonu False çıktısı veriyor.\n",
    "\n",
    "Bu fonksiyonu her türlü kodun bool değerlerini test etmek için kullanabilirsiniz. Mesela bu fonksiyonu kullanarak, bir nesnenin listelenen özelliklerin hepsine sahip olup olmadığını denetleyebilirsiniz:"
   ]
  },
  {
   "cell_type": "code",
   "execution_count": 21,
   "id": "d748f6a2-c3a3-4a54-9525-de4755faa2f6",
   "metadata": {},
   "outputs": [
    {
     "data": {
      "text/plain": [
       "True"
      ]
     },
     "execution_count": 21,
     "metadata": {},
     "output_type": "execute_result"
    }
   ],
   "source": [
    "a = 3\n",
    "t1 = a == 3         #sayı 3 mü?\n",
    "t2 = a < 4          #sayı 4'ten küçük mü?\n",
    "t3 = a % 2 == 1     #sayı bir tek sayı mı?\n",
    "all([t1, t2, t3])   #sayı bu özelliklerin hepsine sahip "
   ]
  },
  {
   "cell_type": "markdown",
   "id": "af545aed-67b1-4939-8d66-0dde0f7c1771",
   "metadata": {},
   "source": [
    "Eğer sayımız bu özelliklerin birine bile sahip değilse, all() fonksiyonu False çıktısı verecektir.\n",
    "\n",
    "+++++++++++++any()\n",
    "\n",
    "Any kelimesi İngilizcede ‘herhangi bir’ anlamına gelir. İşte any() fonksiyonunun görevi de, bir dizi içindeki bütün değerlerden en az biri True ise True çıktısı vermektir.\n",
    "\n",
    "Örneğin:"
   ]
  },
  {
   "cell_type": "code",
   "execution_count": 22,
   "id": "b7ae5d76-e636-4211-af1e-c08e56039587",
   "metadata": {},
   "outputs": [
    {
     "data": {
      "text/plain": [
       "True"
      ]
     },
     "execution_count": 22,
     "metadata": {},
     "output_type": "execute_result"
    }
   ],
   "source": [
    "liste = ['ahmet', 'mehmet', '']\n",
    "any(liste)"
   ]
  },
  {
   "cell_type": "markdown",
   "id": "1e36c794-7c59-46bb-aea5-4a30722e0154",
   "metadata": {},
   "source": [
    "any() fonksiyonunun True çıktısı verebilmesi için listede yalnızca bir adet True değerli öğe olması yeterlidir. Bu fonksiyonun False çıktısı verebilmesi için dizi içindeki bütün öğelerin bool değerinin False olması gerekir:\n",
    "\n"
   ]
  },
  {
   "cell_type": "code",
   "execution_count": 23,
   "id": "a31b009b-4966-4666-94fc-862c8def8e1f",
   "metadata": {},
   "outputs": [
    {
     "data": {
      "text/plain": [
       "False"
      ]
     },
     "execution_count": 23,
     "metadata": {},
     "output_type": "execute_result"
    }
   ],
   "source": [
    "l = ['', 0, [], (), set(), dict()]\n",
    "any(l)\n"
   ]
  },
  {
   "cell_type": "markdown",
   "id": "772fca41-f55b-4787-bc1a-648462f9abe4",
   "metadata": {},
   "source": [
    "İçi boş veri tiplerinin bool değerinin False olduğunu biliyorsunuz.\n",
    "\n",
    "Tıpkı all() fonksiyonunda olduğu gibi, any() fonksiyonunu da, bir grup nesnenin bool değerlerini denetlemek amacıyla kullanabilirsiniz.\n",
    "\n",
    "++++++++++ascii()\n",
    "\n",
    "Bu fonksiyon, bir nesnenin ekrana basılabilir halini verir bize. Dilerseniz bu fonksiyonun yaptığı işi tanımlamak yerine bunu bir örnek üzerinden anlatmaya çalışalım:\n",
    "\n"
   ]
  },
  {
   "cell_type": "code",
   "execution_count": 24,
   "id": "a000971b-8e55-4b5c-842d-4b5977d56f6e",
   "metadata": {},
   "outputs": [
    {
     "name": "stdout",
     "output_type": "stream",
     "text": [
      "'istihza'\n"
     ]
    }
   ],
   "source": [
    "a = 'istihza'\n",
    "print(ascii(a))"
   ]
  },
  {
   "cell_type": "markdown",
   "id": "315695b5-cffb-4e1b-8a2e-f6fd7f4e8fab",
   "metadata": {},
   "source": [
    "Bu fonksiyonun, print() fonksiyonundan farklı olarak, çıktıya tırnak işaretlerini de eklediğine dikkat edin.\n",
    "\n",
    "ascii() fonksiyonunun tam olarak ne yaptığını daha iyi anlamak için herhalde şu örnek daha faydalı olacaktır.\n",
    "\n",
    "Dikkatlice bakın:"
   ]
  },
  {
   "cell_type": "code",
   "execution_count": 25,
   "id": "06581de4-a744-44f4-ac23-59ff0e873676",
   "metadata": {},
   "outputs": [
    {
     "name": "stdout",
     "output_type": "stream",
     "text": [
      "\n",
      "\n"
     ]
    }
   ],
   "source": [
    "print('\\n')"
   ]
  },
  {
   "cell_type": "markdown",
   "id": "d566a603-085d-4ef9-95ee-3bafe464bb61",
   "metadata": {},
   "source": [
    "Bu komutu verdiğimizde, n kaçış dizisinin etkisiyle yeni satıra geçileceğini biliyorsunuz.\n",
    "\n",
    "Bir de şuna bakın:"
   ]
  },
  {
   "cell_type": "code",
   "execution_count": 26,
   "id": "f86e9948-a4a4-4075-8125-7f3c111cc8d7",
   "metadata": {},
   "outputs": [
    {
     "name": "stdout",
     "output_type": "stream",
     "text": [
      "'\\n!'\n"
     ]
    }
   ],
   "source": [
    "print(ascii('\\n!'))"
   ]
  },
  {
   "cell_type": "markdown",
   "id": "c976f146-80ad-4b02-90d6-184a5a70d78a",
   "metadata": {},
   "source": [
    "Gördüğünüz gibi, ascii() fonksiyonu, satır başı kaçış dizisinin görevini yapmasını sağlamak yerine bu kaçış dizisinin ekrana basılabilir halini veriyor bize.\n",
    "\n",
    "Ayrıca bu fonksiyon, karakter dizileri içindeki Türkçe karakterlerin de UNICODE temsillerini döndürür. Örneğin:"
   ]
  },
  {
   "cell_type": "code",
   "execution_count": 27,
   "id": "b5fae32b-6f21-470a-9472-9791f14db518",
   "metadata": {},
   "outputs": [
    {
     "name": "stdout",
     "output_type": "stream",
     "text": [
      "'\\u0131\\u015f\\u0131k'\n"
     ]
    }
   ],
   "source": [
    "a = 'ışık'\n",
    "print(ascii(a))"
   ]
  },
  {
   "cell_type": "markdown",
   "id": "791adcfe-6216-462b-8102-e64bb238016f",
   "metadata": {},
   "source": [
    "Bunu daha net şu şekilde görebiliriz:"
   ]
  },
  {
   "cell_type": "code",
   "execution_count": 28,
   "id": "8f4b95c8-7ad2-4691-9d39-ca56ec762d4d",
   "metadata": {},
   "outputs": [
    {
     "name": "stdout",
     "output_type": "stream",
     "text": [
      "'\\u0131'\n",
      "'\\u015f'\n",
      "'\\u0131'\n",
      "'k'\n"
     ]
    }
   ],
   "source": [
    "for i in a:\n",
    "    print(ascii(i))"
   ]
  },
  {
   "cell_type": "markdown",
   "id": "f321a79f-4a8e-428f-a51c-509444e4c1cc",
   "metadata": {},
   "source": [
    "Gördüğünüz gibi, ascii() fonksiyonu ASCII olmayan karakterlerle karşılaştığında bunların karakter temsilleri yerine UNICODE temsillerini (veya onaltılık sayma düzenindeki karşılıklarını) veriyor.\n",
    "\n",
    "Son olarak şu örneğe bakalım:"
   ]
  },
  {
   "cell_type": "code",
   "execution_count": 29,
   "id": "d036bde4-701d-4320-872f-766206ffa5ce",
   "metadata": {},
   "outputs": [
    {
     "name": "stdout",
     "output_type": "stream",
     "text": [
      "['elma', 'armut', 'erik']\n"
     ]
    }
   ],
   "source": [
    "liste = ['elma', 'armut', 'erik']\n",
    "temsil = ascii(liste)\n",
    "print(temsil)"
   ]
  },
  {
   "cell_type": "markdown",
   "id": "03074bf9-c672-457f-86da-6092b83fc4ee",
   "metadata": {},
   "source": [
    "Burada listemiz ascii() fonksiyonuna parametre olarak verildikten sonra artık liste olma özelliğini yitirip bir karakter dizisi haline gelir. Bunu denetleyelim:"
   ]
  },
  {
   "cell_type": "code",
   "execution_count": 30,
   "id": "ca4a46ef-a234-428f-ad52-2c00f2d190a2",
   "metadata": {},
   "outputs": [
    {
     "name": "stdout",
     "output_type": "stream",
     "text": [
      "<class 'str'>\n"
     ]
    }
   ],
   "source": [
    "print(type(temsil))"
   ]
  },
  {
   "cell_type": "code",
   "execution_count": 31,
   "id": "ac977201-a9f9-49f3-95e1-e5156209952b",
   "metadata": {},
   "outputs": [
    {
     "data": {
      "text/plain": [
       "'['"
      ]
     },
     "execution_count": 31,
     "metadata": {},
     "output_type": "execute_result"
    }
   ],
   "source": [
    "temsil[0]\n"
   ]
  },
  {
   "cell_type": "markdown",
   "id": "bc086161-d25a-4382-aba9-ebe5b4d5b85f",
   "metadata": {},
   "source": [
    "Gördüğünüz gibi, ascii() fonksiyonu listeyi alıp, bunu ekrana basılabilir bir bütün haline getiriyor. Elbette bunun için de, kendisine verilen parametreyi bir karakter dizisine dönüştürüyor."
   ]
  },
  {
   "cell_type": "markdown",
   "id": "b7a11fbb-c313-433c-9d37-bbf1826c05f6",
   "metadata": {},
   "source": [
    "repr()\n",
    "repr() fonksiyonunun yaptığı iş, biraz önce gördüğümüz ascii() fonksiyonunun yaptığı işe çok benzer. Bu iki fonksiyon, ASCII olmayan karakterlere muameleleri açısından birbirinden ayrılır.\n",
    "\n",
    "Hatırlarsanız ascii() fonksiyonu ASCII olmayan karakterlerle karşılaştığında bunların UNICODE (veya onaltılık) temsillerini gösteriyordu:"
   ]
  },
  {
   "cell_type": "code",
   "execution_count": 32,
   "id": "9b63130b-6ec3-4d55-ba96-c9e263a169d8",
   "metadata": {},
   "outputs": [
    {
     "data": {
      "text/plain": [
       "\"'\\\\u015feker'\""
      ]
     },
     "execution_count": 32,
     "metadata": {},
     "output_type": "execute_result"
    }
   ],
   "source": [
    "ascii('şeker')"
   ]
  },
  {
   "cell_type": "markdown",
   "id": "aeae024d-7b6e-419a-b6c1-ae0456d20760",
   "metadata": {},
   "source": [
    "repr() fonksiyonu ise ASCII olmayan karakterlerle karşılaşsa bile, bize çıktı olarak bunların da karakter karşılıklarını gösterir:"
   ]
  },
  {
   "cell_type": "code",
   "execution_count": 33,
   "id": "7616c13f-881b-479c-8a37-2d95cfec1307",
   "metadata": {},
   "outputs": [
    {
     "data": {
      "text/plain": [
       "\"'şeker'\""
      ]
     },
     "execution_count": 33,
     "metadata": {},
     "output_type": "execute_result"
    }
   ],
   "source": [
    "repr('şeker')\n"
   ]
  },
  {
   "cell_type": "markdown",
   "id": "e86587ab-f9e1-497d-b275-708dec798f20",
   "metadata": {},
   "source": [
    "Geri kalan özellikleri bakımından repr() ve ascii() fonksiyonları birbiriyle aynıdır.\n",
    "\n",
    "+++++++++bool()\n",
    "\n",
    "Bu fonksiyon bir nesnenin bool değerini verir:\n",
    "\n"
   ]
  },
  {
   "cell_type": "code",
   "execution_count": 34,
   "id": "a4f51152-9c34-4e0e-adfd-0e28a816fdb7",
   "metadata": {},
   "outputs": [
    {
     "data": {
      "text/plain": [
       "False"
      ]
     },
     "execution_count": 34,
     "metadata": {},
     "output_type": "execute_result"
    }
   ],
   "source": [
    "bool(0)"
   ]
  },
  {
   "cell_type": "code",
   "execution_count": 35,
   "id": "77fb4d97-9a48-4810-9fbb-37a5821b3029",
   "metadata": {},
   "outputs": [
    {
     "data": {
      "text/plain": [
       "True"
      ]
     },
     "execution_count": 35,
     "metadata": {},
     "output_type": "execute_result"
    }
   ],
   "source": [
    "bool(1)\n"
   ]
  },
  {
   "cell_type": "code",
   "execution_count": 36,
   "id": "81ec049e-247e-4206-b165-fcecec066310",
   "metadata": {},
   "outputs": [
    {
     "data": {
      "text/plain": [
       "False"
      ]
     },
     "execution_count": 36,
     "metadata": {},
     "output_type": "execute_result"
    }
   ],
   "source": [
    "bool([])"
   ]
  },
  {
   "cell_type": "markdown",
   "id": "b8f56d03-4072-45c1-bede-57ecbb992aed",
   "metadata": {},
   "source": [
    "++++++++++++bin()\n",
    "\n",
    "Bu fonksiyon, bir sayının ikili düzendeki karşılığını verir:\n",
    "\n"
   ]
  },
  {
   "cell_type": "markdown",
   "id": "5b7650a2-5fdd-4626-92d4-a48169f60e8e",
   "metadata": {},
   "source": [
    "Bu fonksiyonun verdiği çıktının bir sayı değil, karakter dizisi olduğuna dikkat etmelisiniz.\n",
    "\n"
   ]
  },
  {
   "cell_type": "markdown",
   "id": "08a287fc-7a4f-4cff-bbec-45638cdc4cfc",
   "metadata": {},
   "source": [
    "++++++++++++bytes()\n",
    "\n",
    "Bu fonksiyon bytes türünde nesneler oluşturmak için kullanılır. Bu fonksiyonu ‘bayt’ adlı veri tipini incelerken ayrıntılı olarak ele almıştık. Gelin isterseniz burada da bu fonksiyona şöyle bir değinelim.\n",
    "\n",
    "Dediğimiz gibi, bytes() adlı fonksiyon, bytes türünde veriler oluşturmaya yarar. Bu fonksiyon işlev olarak, daha önce öğrendiğimiz list(), str(), int(), set(), dict() gibi fonksiyonlara çok benzer. Tıpkı bu fonksiyonlar gibi, bytes() fonksiyonunun görevi de farklı veri tiplerini ‘bayt’ adlı veri tipine dönüştürmektir.\n",
    "\n",
    "Bu fonksiyon, kendisine verilen parametrelerin türüne bağlı olarak birbirinden farklı sonuçlar ortaya çıkarır. Örneğin eğer bu fonksiyona parametre olarak bir tam sayı verecek olursanız, bu fonksiyon size o tam sayı miktarınca bir bayt nesnesi verecektir. Gelin isterseniz bu durumu örnekler üzerinde göstermeye çalışalım:\n",
    "\n"
   ]
  },
  {
   "cell_type": "code",
   "execution_count": 37,
   "id": "ecc097e4-e907-4e39-8da4-eabfe36acf08",
   "metadata": {},
   "outputs": [
    {
     "data": {
      "text/plain": [
       "b'\\x00\\x00\\x00\\x00\\x00\\x00\\x00\\x00\\x00\\x00'"
      ]
     },
     "execution_count": 37,
     "metadata": {},
     "output_type": "execute_result"
    }
   ],
   "source": [
    "bytes(10)"
   ]
  },
  {
   "cell_type": "markdown",
   "id": "b5be3ad8-16bd-4eb3-b99b-589a108850ca",
   "metadata": {},
   "source": [
    "Yukarıdaki komut bize, her bir öğesinin değeri 0 olan 10 baytlık bir veri döndürdü:\n",
    "\n"
   ]
  },
  {
   "cell_type": "code",
   "execution_count": 40,
   "id": "cf0e8cda-7b2c-4fcc-ba18-085c9f04e91e",
   "metadata": {},
   "outputs": [
    {
     "data": {
      "text/plain": [
       "b'\\x00\\x00\\x00\\x00\\x00\\x00\\x00\\x00\\x00\\x00'"
      ]
     },
     "execution_count": 40,
     "metadata": {},
     "output_type": "execute_result"
    }
   ],
   "source": [
    "a = bytes(10)\n",
    "a"
   ]
  },
  {
   "cell_type": "code",
   "execution_count": 41,
   "id": "2c59c942-a9ca-48ba-8d40-98c488de5d9e",
   "metadata": {},
   "outputs": [
    {
     "data": {
      "text/plain": [
       "0"
      ]
     },
     "execution_count": 41,
     "metadata": {},
     "output_type": "execute_result"
    }
   ],
   "source": [
    "a[0]"
   ]
  },
  {
   "cell_type": "code",
   "execution_count": 42,
   "id": "b5be25c5-c930-4a04-974f-b9b117e65461",
   "metadata": {},
   "outputs": [
    {
     "data": {
      "text/plain": [
       "0"
      ]
     },
     "execution_count": 42,
     "metadata": {},
     "output_type": "execute_result"
    }
   ],
   "source": [
    "a[1]"
   ]
  },
  {
   "cell_type": "code",
   "execution_count": 43,
   "id": "14a3822d-e5ec-43c7-87d3-2d569f816e16",
   "metadata": {},
   "outputs": [
    {
     "data": {
      "text/plain": [
       "0"
      ]
     },
     "execution_count": 43,
     "metadata": {},
     "output_type": "execute_result"
    }
   ],
   "source": [
    "a[2]"
   ]
  },
  {
   "cell_type": "markdown",
   "id": "4d99e2c7-4a4a-4b02-a038-512a08a769d0",
   "metadata": {},
   "source": [
    "Gördüğünüz gibi, bytes(10) komutuyla oluşturduğumuz a değişkeni içinde toplam 10 adet bayt var ve bu baytların her birinin değeri 0.\n",
    "\n",
    "Yukarıda, bytes() fonksiyonuna bir tam sayı değerli parametre verdiğimizde nasıl bir sonuç alacağımızı öğrendik. Peki biz bu fonksiyona parametre olarak bir karakter dizisi verirsek ne olur?\n",
    "\n",
    "Hemen görelim:"
   ]
  },
  {
   "cell_type": "code",
   "execution_count": 44,
   "id": "460a9ad2-9b6e-46e3-aa11-bd8aff632226",
   "metadata": {},
   "outputs": [
    {
     "ename": "TypeError",
     "evalue": "string argument without an encoding",
     "output_type": "error",
     "traceback": [
      "\u001b[0;31m---------------------------------------------------------------------------\u001b[0m",
      "\u001b[0;31mTypeError\u001b[0m                                 Traceback (most recent call last)",
      "Cell \u001b[0;32mIn[44], line 1\u001b[0m\n\u001b[0;32m----> 1\u001b[0m \u001b[38;5;28;43mbytes\u001b[39;49m\u001b[43m(\u001b[49m\u001b[38;5;124;43m'\u001b[39;49m\u001b[38;5;124;43mistihza\u001b[39;49m\u001b[38;5;124;43m'\u001b[39;49m\u001b[43m)\u001b[49m\n",
      "\u001b[0;31mTypeError\u001b[0m: string argument without an encoding"
     ]
    }
   ],
   "source": [
    "bytes('istihza')"
   ]
  },
  {
   "cell_type": "markdown",
   "id": "291de9af-9733-4f88-a59f-3412bf057601",
   "metadata": {},
   "source": [
    "Bu fonksiyona karakter dizilerini doğrudan parametre olarak veremeyiz. Eğer verirsek yukarıdaki gibi bir hata alırız. Peki acaba bu hatayı almamızın nedeni ne olabilir?\n",
    "\n",
    "Dediğimiz gibi, bytes() fonksiyonu, çeşitli veri tiplerini bayta dönüştürmeye yarar. Ancak bildiğiniz gibi, bayta dönüştürme işlemi her kod çözücü tarafından farklı biçimde yapılır. Örneğin:"
   ]
  },
  {
   "cell_type": "code",
   "execution_count": 45,
   "id": "b2f3cb2b-b3eb-4cb5-8213-1868ecf7b017",
   "metadata": {},
   "outputs": [
    {
     "data": {
      "text/plain": [
       "b'\\xc4\\xb1\\xc5\\x9f\\xc4\\xb1k'"
      ]
     },
     "execution_count": 45,
     "metadata": {},
     "output_type": "execute_result"
    }
   ],
   "source": [
    "'ışık'.encode('utf-8')"
   ]
  },
  {
   "cell_type": "code",
   "execution_count": 46,
   "id": "9679878a-8fca-4cd8-a8c0-0102c3bc5e0a",
   "metadata": {},
   "outputs": [
    {
     "data": {
      "text/plain": [
       "b'\\x8d\\x9f\\x8dk'"
      ]
     },
     "execution_count": 46,
     "metadata": {},
     "output_type": "execute_result"
    }
   ],
   "source": [
    "'ışık'.encode('cp857')"
   ]
  },
  {
   "cell_type": "code",
   "execution_count": 47,
   "id": "52a89ea4-5c6e-408f-848c-731c050d5aab",
   "metadata": {},
   "outputs": [
    {
     "data": {
      "text/plain": [
       "b'\\xfd\\xfe\\xfdk'"
      ]
     },
     "execution_count": 47,
     "metadata": {},
     "output_type": "execute_result"
    }
   ],
   "source": [
    "'ışık'.encode('cp1254')"
   ]
  },
  {
   "cell_type": "markdown",
   "id": "2bd54388-598b-4013-881c-1e046e3cebdf",
   "metadata": {},
   "source": [
    "Dolayısıyla, bytes() fonksiyonunun bir karakter dizisini bayta çevirirken nasıl davranması gerektiğini anlayabilmesi için, bayta dönüştürme işlemini hangi kod çözücü ile yapmak istediğimizi açıkça belirtmemiz gerekir:"
   ]
  },
  {
   "cell_type": "code",
   "execution_count": 48,
   "id": "1dbe0cfb-9435-4540-9b6f-ffd85c8a601e",
   "metadata": {},
   "outputs": [
    {
     "data": {
      "text/plain": [
       "b'\\xc4\\xb1\\xc5\\x9f\\xc4\\xb1k'"
      ]
     },
     "execution_count": 48,
     "metadata": {},
     "output_type": "execute_result"
    }
   ],
   "source": [
    "bytes('ışık', 'utf-8')"
   ]
  },
  {
   "cell_type": "code",
   "execution_count": 49,
   "id": "8818b718-94b7-4c85-9a53-6dcb00e1de54",
   "metadata": {},
   "outputs": [
    {
     "data": {
      "text/plain": [
       "b'\\xfd\\xfe\\xfdk'"
      ]
     },
     "execution_count": 49,
     "metadata": {},
     "output_type": "execute_result"
    }
   ],
   "source": [
    "bytes('ışık', 'cp1254')"
   ]
  },
  {
   "cell_type": "code",
   "execution_count": 50,
   "id": "2536f017-71b4-4eba-b3b5-db5b86f969dd",
   "metadata": {},
   "outputs": [
    {
     "data": {
      "text/plain": [
       "b'\\x8d\\x9f\\x8dk'"
      ]
     },
     "execution_count": 50,
     "metadata": {},
     "output_type": "execute_result"
    }
   ],
   "source": [
    "bytes('ışık', 'cp857')\n"
   ]
  },
  {
   "cell_type": "markdown",
   "id": "0d9b445c-0338-4905-87f9-768b986319d0",
   "metadata": {},
   "source": [
    "Gördüğünüz gibi, bytes() fonksiyonuna parametre olarak bir karakter dizisi verebilmek için, bu karakter dizisi ile birlikte bir kod çözücü de belirtmemiz gerekiyor. Böylece bytes() fonksiyonu kendisine verdiğimiz karakter dizisini, belirttiğimiz kod çözücünün kurallarına göre bayta dönüştürüyor.\n",
    "\n",
    "Bu arada, çıktıda görünen ‘b’ harflerinin, elimizdeki verinin bir bayt olduğunu gösteren bir işaret olduğunu biliyorsunuz.\n",
    "\n",
    "Ayrıca, bytes() fonksiyonuna verdiğimiz ikinci parametrenin isminin encoding olduğunu ve bu parametreyi isimli bir parametre olarak da kullanabileceğimizi belirtelim:\n",
    "\n"
   ]
  },
  {
   "cell_type": "code",
   "execution_count": 51,
   "id": "ac68c027-8f8b-4d2c-a6c4-a842089c531a",
   "metadata": {},
   "outputs": [
    {
     "data": {
      "text/plain": [
       "b'istihza'"
      ]
     },
     "execution_count": 51,
     "metadata": {},
     "output_type": "execute_result"
    }
   ],
   "source": [
    "bytes('istihza', encoding='ascii')\n"
   ]
  },
  {
   "cell_type": "markdown",
   "id": "1c2b8f6e-11ab-4a56-8f3e-3ff933cd4a91",
   "metadata": {},
   "source": [
    "Bu noktada size şöyle bir soru sorayım: Acaba bytes() fonksiyonuna ilk parametre olarak verdiğimiz karakter dizisi, ikinci parametrede belirttiğimiz kod çözücü tarafından tanınmazsa ne olur?\n",
    "\n",
    "Cevabı tahmin edebilirsiniz: Böyle bir durumda elbette Python bize bir hata mesajı gösterir:"
   ]
  },
  {
   "cell_type": "code",
   "execution_count": 52,
   "id": "e6832837-a5a5-4247-8137-110d57e66e73",
   "metadata": {},
   "outputs": [
    {
     "ename": "UnicodeEncodeError",
     "evalue": "'ascii' codec can't encode character '\\u015f' in position 0: ordinal not in range(128)",
     "output_type": "error",
     "traceback": [
      "\u001b[0;31m---------------------------------------------------------------------------\u001b[0m",
      "\u001b[0;31mUnicodeEncodeError\u001b[0m                        Traceback (most recent call last)",
      "Cell \u001b[0;32mIn[52], line 1\u001b[0m\n\u001b[0;32m----> 1\u001b[0m \u001b[38;5;28;43mbytes\u001b[39;49m\u001b[43m(\u001b[49m\u001b[38;5;124;43m'\u001b[39;49m\u001b[38;5;124;43mşeker\u001b[39;49m\u001b[38;5;124;43m'\u001b[39;49m\u001b[43m,\u001b[49m\u001b[43m \u001b[49m\u001b[38;5;124;43m'\u001b[39;49m\u001b[38;5;124;43mascii\u001b[39;49m\u001b[38;5;124;43m'\u001b[39;49m\u001b[43m)\u001b[49m\n",
      "\u001b[0;31mUnicodeEncodeError\u001b[0m: 'ascii' codec can't encode character '\\u015f' in position 0: ordinal not in range(128)"
     ]
    }
   ],
   "source": [
    "bytes('şeker', 'ascii')"
   ]
  },
  {
   "cell_type": "markdown",
   "id": "c6790082-e1c6-4592-bca4-e46611608146",
   "metadata": {},
   "source": [
    "… veya:"
   ]
  },
  {
   "cell_type": "code",
   "execution_count": 53,
   "id": "43a700a4-544b-4661-b780-132c871be412",
   "metadata": {},
   "outputs": [
    {
     "ename": "UnicodeEncodeError",
     "evalue": "'charmap' codec can't encode character '\\u20ac' in position 0: character maps to <undefined>",
     "output_type": "error",
     "traceback": [
      "\u001b[0;31m---------------------------------------------------------------------------\u001b[0m",
      "\u001b[0;31mUnicodeEncodeError\u001b[0m                        Traceback (most recent call last)",
      "Cell \u001b[0;32mIn[53], line 1\u001b[0m\n\u001b[0;32m----> 1\u001b[0m \u001b[38;5;28;43mbytes\u001b[39;49m\u001b[43m(\u001b[49m\u001b[38;5;124;43m'\u001b[39;49m\u001b[38;5;124;43m€\u001b[39;49m\u001b[38;5;124;43m'\u001b[39;49m\u001b[43m,\u001b[49m\u001b[43m \u001b[49m\u001b[38;5;124;43m'\u001b[39;49m\u001b[38;5;124;43mcp857\u001b[39;49m\u001b[38;5;124;43m'\u001b[39;49m\u001b[43m)\u001b[49m\n",
      "File \u001b[0;32m/usr/lib/python3.10/encodings/cp857.py:12\u001b[0m, in \u001b[0;36mCodec.encode\u001b[0;34m(self, input, errors)\u001b[0m\n\u001b[1;32m     11\u001b[0m \u001b[38;5;28;01mdef\u001b[39;00m\u001b[38;5;250m \u001b[39m\u001b[38;5;21mencode\u001b[39m(\u001b[38;5;28mself\u001b[39m,\u001b[38;5;28minput\u001b[39m,errors\u001b[38;5;241m=\u001b[39m\u001b[38;5;124m'\u001b[39m\u001b[38;5;124mstrict\u001b[39m\u001b[38;5;124m'\u001b[39m):\n\u001b[0;32m---> 12\u001b[0m     \u001b[38;5;28;01mreturn\u001b[39;00m \u001b[43mcodecs\u001b[49m\u001b[38;5;241;43m.\u001b[39;49m\u001b[43mcharmap_encode\u001b[49m\u001b[43m(\u001b[49m\u001b[38;5;28;43minput\u001b[39;49m\u001b[43m,\u001b[49m\u001b[43merrors\u001b[49m\u001b[43m,\u001b[49m\u001b[43mencoding_map\u001b[49m\u001b[43m)\u001b[49m\n",
      "\u001b[0;31mUnicodeEncodeError\u001b[0m: 'charmap' codec can't encode character '\\u20ac' in position 0: character maps to <undefined>"
     ]
    }
   ],
   "source": [
    "bytes('€', 'cp857')"
   ]
  },
  {
   "cell_type": "markdown",
   "id": "3cc372cd-2abf-4564-85f5-b135768ca754",
   "metadata": {},
   "source": [
    "‘ş’ harfi ‘ASCII’ karakter kümesinde; ‘€’ işareti ise ‘CP857’ adlı karakter kümesinde tanımlanmamış birer karakter olduğu için, ilgili kod çözücüler bu karakterleri çözüp bayta dönüştüremiyor. Yazdığımız kodların bu tür durumlarda tamamen çökmesini engellemek için, önceki derslerimizde de çeşitli vesilelerle öğrenmiş olduğumuz errors adlı bir parametreden yararlanabiliriz:"
   ]
  },
  {
   "cell_type": "code",
   "execution_count": 54,
   "id": "ae3c9418-7fe7-4d76-8898-4d178ea59ee3",
   "metadata": {},
   "outputs": [
    {
     "data": {
      "text/plain": [
       "b'???k'"
      ]
     },
     "execution_count": 54,
     "metadata": {},
     "output_type": "execute_result"
    }
   ],
   "source": [
    "bytes('ışık', encoding='ascii', errors='replace')"
   ]
  },
  {
   "cell_type": "code",
   "execution_count": 55,
   "id": "51cf0da2-a5fd-41bf-9419-e03f1b9718fd",
   "metadata": {},
   "outputs": [
    {
     "data": {
      "text/plain": [
       "b'?eker'"
      ]
     },
     "execution_count": 55,
     "metadata": {},
     "output_type": "execute_result"
    }
   ],
   "source": [
    "bytes('şeker', encoding='ascii', errors='replace')\n"
   ]
  },
  {
   "cell_type": "code",
   "execution_count": 56,
   "id": "63832dfd-ae0e-4988-8f46-f95a108f69c0",
   "metadata": {},
   "outputs": [
    {
     "data": {
      "text/plain": [
       "b'?'"
      ]
     },
     "execution_count": 56,
     "metadata": {},
     "output_type": "execute_result"
    }
   ],
   "source": [
    "bytes('€', encoding='cp857', errors='replace')"
   ]
  },
  {
   "cell_type": "code",
   "execution_count": 57,
   "id": "9fcdfde2-8458-4b99-848f-614dd52fa5b8",
   "metadata": {},
   "outputs": [
    {
     "data": {
      "text/plain": [
       "b''"
      ]
     },
     "execution_count": 57,
     "metadata": {},
     "output_type": "execute_result"
    }
   ],
   "source": [
    "bytes('€', encoding='cp857', errors='ignore')"
   ]
  },
  {
   "cell_type": "code",
   "execution_count": 58,
   "id": "b663892c-8f15-4570-9ac5-33fe70a73b30",
   "metadata": {},
   "outputs": [
    {
     "data": {
      "text/plain": [
       "b'&#8364;'"
      ]
     },
     "execution_count": 58,
     "metadata": {},
     "output_type": "execute_result"
    }
   ],
   "source": [
    "bytes('€', encoding='cp857', errors='xmlcharrefreplace')"
   ]
  },
  {
   "cell_type": "code",
   "execution_count": 59,
   "id": "4dce5ffc-8020-4929-9c5a-7f4a8444f67b",
   "metadata": {},
   "outputs": [
    {
     "data": {
      "text/plain": [
       "b'\\x9feker'"
      ]
     },
     "execution_count": 59,
     "metadata": {},
     "output_type": "execute_result"
    }
   ],
   "source": [
    "bytes('şeker', encoding='cp857', errors='xmlcharrefreplace')"
   ]
  },
  {
   "cell_type": "markdown",
   "id": "81cb716f-4f38-41d9-910e-28e5f14d3760",
   "metadata": {},
   "source": [
    "Gördüğünüz gibi, errors parametresine verdiğimiz çeşitli değerler yardımıyla, bytes() fonksiyonunun, encoding parametresinde belirtilen kod çözücü ile çözülemeyen karakterlerle karşılaştığında nasıl davranacağını belirleyebiliyoruz.\n",
    "\n",
    "errors parametresine verdiğimiz bütün bu değerleri önceki derslerimizde öğrenmiştik. Dolayısıyla yukarıda gösterdiğimiz kodları rahatlıkla anlayabilecek kadar Python bilgisine sahibiz.\n",
    "\n",
    "Son olarak, bytes() fonksiyonuna parametre olarak 0-256 arası sayılardan oluşan diziler de verebiliriz:\n",
    "\n"
   ]
  },
  {
   "cell_type": "code",
   "execution_count": 60,
   "id": "2b09272f-27e2-4310-938f-5d2d0bd5920a",
   "metadata": {},
   "outputs": [
    {
     "data": {
      "text/plain": [
       "b'A\\n\\x0c\\x0b\\x0fB'"
      ]
     },
     "execution_count": 60,
     "metadata": {},
     "output_type": "execute_result"
    }
   ],
   "source": [
    "bytes([65, 10, 12, 11, 15, 66])"
   ]
  },
  {
   "cell_type": "markdown",
   "id": "5a00fd12-22a3-49fd-a4ec-35a178ee3589",
   "metadata": {},
   "source": [
    "Bu yapı içinde Python, 0 ile 128 arası sayılar için standart ASCII tablosunu, 128 ile 256 arası sayılar için ise Latin-1 karakter kümesini temel alarak sayıları birer bayta dönüştürecektir.\n",
    "\n",
    "+++++++++++++bytearray()\n",
    "\n",
    "Bildiğiniz gibi baytlar değiştirilemeyen bir veri tipidir. Dolayısıyla bir bayt veri tipi üzerinde herhangi bir değişiklik yapamayız. Örneğin bir baytın herhangi bir öğesini başka bir değerle değiştiremeyiz:\n",
    "\n"
   ]
  },
  {
   "cell_type": "code",
   "execution_count": 61,
   "id": "ccadf187-39c8-4985-a3cc-ba893af5d4b7",
   "metadata": {},
   "outputs": [
    {
     "data": {
      "text/plain": [
       "105"
      ]
     },
     "execution_count": 61,
     "metadata": {},
     "output_type": "execute_result"
    }
   ],
   "source": [
    "a = bytes('istihza', 'ascii')\n",
    "a[0]"
   ]
  },
  {
   "cell_type": "code",
   "execution_count": 62,
   "id": "c568d338-0577-416c-b87d-5b2cc2e846b4",
   "metadata": {},
   "outputs": [
    {
     "ename": "TypeError",
     "evalue": "'bytes' object does not support item assignment",
     "output_type": "error",
     "traceback": [
      "\u001b[0;31m---------------------------------------------------------------------------\u001b[0m",
      "\u001b[0;31mTypeError\u001b[0m                                 Traceback (most recent call last)",
      "Cell \u001b[0;32mIn[62], line 1\u001b[0m\n\u001b[0;32m----> 1\u001b[0m \u001b[43ma\u001b[49m\u001b[43m[\u001b[49m\u001b[38;5;241;43m0\u001b[39;49m\u001b[43m]\u001b[49m \u001b[38;5;241m=\u001b[39m \u001b[38;5;241m106\u001b[39m\n",
      "\u001b[0;31mTypeError\u001b[0m: 'bytes' object does not support item assignment"
     ]
    }
   ],
   "source": [
    "a[0] = 106"
   ]
  },
  {
   "cell_type": "markdown",
   "id": "546a27ac-79c9-4639-a214-e12c467b502f",
   "metadata": {},
   "source": [
    "Ama eğer hem baytlarla çalışmak, hem de bu baytların üzerinde değişiklik yapabilmek isterseniz baytlar yerine bayt dizileri ile çalışabilirsiniz. İşte bunun için bytearray() adlı bir fonksiyondan yararlanıyoruz.\n",
    "\n",
    "Yaptıkları iş bakımından bytearray() ve bytes() fonksiyonları birbirlerine çok benzer. Bu ikisi arasındaki tek fark, bytearray() ile oluşturulan veri tipinin, bytes() ile oluşturulan veri tipinin aksine, değiştirilebilir nitelikte olmasıdır:"
   ]
  },
  {
   "cell_type": "code",
   "execution_count": 63,
   "id": "fb3bb7ed-f818-4053-982c-a388b5632270",
   "metadata": {},
   "outputs": [],
   "source": [
    "a = bytearray('adana', 'ascii')\n"
   ]
  },
  {
   "cell_type": "code",
   "execution_count": 64,
   "id": "8e1897bc-0111-4fe0-a681-b50a57c8f26a",
   "metadata": {},
   "outputs": [
    {
     "data": {
      "text/plain": [
       "bytearray(b'adana')"
      ]
     },
     "execution_count": 64,
     "metadata": {},
     "output_type": "execute_result"
    }
   ],
   "source": [
    "a"
   ]
  },
  {
   "cell_type": "code",
   "execution_count": 65,
   "id": "3ac4aa0f-7dbf-4fe8-9c42-a00c09d1a5a2",
   "metadata": {},
   "outputs": [
    {
     "data": {
      "text/plain": [
       "bytearray(b'Adana')"
      ]
     },
     "execution_count": 65,
     "metadata": {},
     "output_type": "execute_result"
    }
   ],
   "source": [
    "a[0] = 65\n",
    "\n",
    "a"
   ]
  },
  {
   "cell_type": "markdown",
   "id": "7a964696-d344-4aff-b2d8-dfb37b093b65",
   "metadata": {},
   "source": [
    "+++++++++chr()\n",
    "\n",
    "Bu fonksiyon, kendisine parametre olarak verilen bir tam sayının karakter karşılığını döndürür. Örneğin:"
   ]
  },
  {
   "cell_type": "code",
   "execution_count": 66,
   "id": "47a810b3-9686-49e6-8ab8-967d01954a05",
   "metadata": {},
   "outputs": [
    {
     "data": {
      "text/plain": [
       "'\\n'"
      ]
     },
     "execution_count": 66,
     "metadata": {},
     "output_type": "execute_result"
    }
   ],
   "source": [
    "chr(10)\n"
   ]
  },
  {
   "cell_type": "markdown",
   "id": "db6ba880-b89e-4916-9f37-50900c327fbb",
   "metadata": {},
   "source": [
    "Bildiğiniz gibi 10 sayısının karakter karşılığı satır başı karakteridir. Bir de şuna bakalım:\n",
    "\n"
   ]
  },
  {
   "cell_type": "code",
   "execution_count": 67,
   "id": "7a18b219-f93f-4908-b0a1-c68c9de0911b",
   "metadata": {},
   "outputs": [
    {
     "data": {
      "text/plain": [
       "'A'"
      ]
     },
     "execution_count": 67,
     "metadata": {},
     "output_type": "execute_result"
    }
   ],
   "source": [
    "chr(65)"
   ]
  },
  {
   "cell_type": "markdown",
   "id": "b4328dc6-1cb7-4024-9454-1bbda6064f36",
   "metadata": {},
   "source": [
    "65 sayısının karakter karşılığı ise ‘A’ harfidir.\n",
    "\n",
    "Bu fonksiyon sayıları karakterlere dönüştürürken ASCII sistemini değil, UNICODE sistemini temel alır. Dolayısıyla bu fonksiyon ile 128 (veya 255) üstü sayıları da dönüştürebiliriz. Örneğin:"
   ]
  },
  {
   "cell_type": "code",
   "execution_count": 68,
   "id": "702a20b7-ff8b-452a-9236-299e35effaf7",
   "metadata": {},
   "outputs": [
    {
     "data": {
      "text/plain": [
       "'ı'"
      ]
     },
     "execution_count": 68,
     "metadata": {},
     "output_type": "execute_result"
    }
   ],
   "source": [
    "chr(305)"
   ]
  },
  {
   "cell_type": "markdown",
   "id": "3ae744c5-8643-49d9-a700-939d08f7d866",
   "metadata": {},
   "source": [
    "+++++++list()\n",
    "\n",
    "Bu fonksiyon iki farklı amaç için kullanılabilir:\n",
    "\n",
    "Liste tipinde bir veri oluşturmak\n",
    "\n",
    "Farklı veri tiplerini liste adlı veri tipine dönüştürmek\n",
    "\n",
    "Birinci amaç için bu fonksiyonu şu şekilde kullanıyoruz:"
   ]
  },
  {
   "cell_type": "code",
   "execution_count": 69,
   "id": "d9a97dc0-b651-49d9-ab20-51fb07d1b078",
   "metadata": {},
   "outputs": [],
   "source": [
    "l = list()"
   ]
  },
  {
   "cell_type": "markdown",
   "id": "93ec1607-4f14-45d4-a889-73e08f7efdce",
   "metadata": {},
   "source": [
    "Böylece liste tipinde bir veri oluşturmuş olduk.\n",
    "\n",
    "Dediğimiz gibi list() fonksiyonunu, farklı tipteki verileri listeye dönüştürmek için de kullanabiliriz. Örneğin:\n",
    "\n"
   ]
  },
  {
   "cell_type": "code",
   "execution_count": 70,
   "id": "031e6373-b1b5-4a86-b54e-90dcd7da4e90",
   "metadata": {},
   "outputs": [
    {
     "data": {
      "text/plain": [
       "['i', 's', 't', 'i', 'h', 'z', 'a']"
      ]
     },
     "execution_count": 70,
     "metadata": {},
     "output_type": "execute_result"
    }
   ],
   "source": [
    "list('istihza')"
   ]
  },
  {
   "cell_type": "markdown",
   "id": "5e50879b-0852-4e13-8c33-d592ead26bef",
   "metadata": {},
   "source": [
    "Burada ‘istihza’ adlı karakter dizisini bir listeye dönüştürdük.\n",
    "\n",
    "Elbette bu fonksiyonu kullanarak başka veri tiplerini de listeye dönüştürebiliriz. Örneğin bir sözlüğü, bu fonksiyon yardımıyla kolayca listeye dönüştürebiliriz:\n",
    "\n"
   ]
  },
  {
   "cell_type": "code",
   "execution_count": 71,
   "id": "4e97c0a2-4c33-475f-9ce8-dc1ad3ac235f",
   "metadata": {},
   "outputs": [
    {
     "data": {
      "text/plain": [
       "['elma', 'armut', 'erik']"
      ]
     },
     "execution_count": 71,
     "metadata": {},
     "output_type": "execute_result"
    }
   ],
   "source": [
    "s = {'elma': 44, 'armut': 10, 'erik': 100}\n",
    "list(s)"
   ]
  },
  {
   "cell_type": "markdown",
   "id": "70f1c5ad-5a51-4aa5-9b3e-9cae316962f7",
   "metadata": {},
   "source": [
    "Bir sözlük listeye dönüştürülürken, elbette sözlüğün anahtarları dikkate alınacaktır. Eğer siz sözlüğün anahtarlarından değil de değerlerinde bir liste oluşturmak isterseniz şöyle bir kod yazabilirsiniz:\n",
    "\n"
   ]
  },
  {
   "cell_type": "code",
   "execution_count": 72,
   "id": "45f7c47d-dd8c-400d-b713-15cf7680efe3",
   "metadata": {},
   "outputs": [
    {
     "data": {
      "text/plain": [
       "[44, 10, 100]"
      ]
     },
     "execution_count": 72,
     "metadata": {},
     "output_type": "execute_result"
    }
   ],
   "source": [
    "list(s.values())"
   ]
  },
  {
   "cell_type": "markdown",
   "id": "978ceabd-d722-4a49-ac69-aa4003b4fa39",
   "metadata": {},
   "source": [
    "+++++++++++set()\n",
    "\n",
    "set() fonksiyonu list() fonksiyonuna çok benzer. Bu fonksiyon da tıpkı list() fonksiyonu gibi, veri tipleri arasında dönüştürme işlemleri gerçekleştirmek için kullanılabilir. set() fonksiyonunun görevi farklı veri tiplerini kümeye dönüştürmektir:"
   ]
  },
  {
   "cell_type": "code",
   "execution_count": 73,
   "id": "e665100b-c0ee-4a23-b20d-ff372e388609",
   "metadata": {},
   "outputs": [],
   "source": [
    "k = set()\n"
   ]
  },
  {
   "cell_type": "markdown",
   "id": "562dee75-144a-4924-82b6-6e8077da07a1",
   "metadata": {},
   "source": [
    "Burada boş bir küme oluşturduk. Şimdi de mesela bir karakter dizisini kümeye dönüştürelim:\n",
    "\n"
   ]
  },
  {
   "cell_type": "code",
   "execution_count": 74,
   "id": "76d6f32b-f0c1-4c84-b200-39f847d662c1",
   "metadata": {},
   "outputs": [
    {
     "data": {
      "text/plain": [
       "{'a', 'h', 'i', 's', 't', 'z'}"
      ]
     },
     "execution_count": 74,
     "metadata": {},
     "output_type": "execute_result"
    }
   ],
   "source": [
    "i = 'istihza'\n",
    "set(i)"
   ]
  },
  {
   "cell_type": "markdown",
   "id": "af5404c0-14fd-466c-8448-6d4ab88a981d",
   "metadata": {},
   "source": [
    "+++++++++++tuple()\n",
    "\n",
    "tuple() fonksiyonu da, tıpkı list(), set() ve benzerleri gibi bir dönüştürücü fonksiyondur. Bu fonksiyon farklı veri tiplerini demete dönüştürür:\n",
    "\n"
   ]
  },
  {
   "cell_type": "code",
   "execution_count": 75,
   "id": "ca1bfafb-a3fa-4172-815c-28927162dc93",
   "metadata": {},
   "outputs": [
    {
     "data": {
      "text/plain": [
       "('a',)"
      ]
     },
     "execution_count": 75,
     "metadata": {},
     "output_type": "execute_result"
    }
   ],
   "source": [
    "tuple('a')\n"
   ]
  },
  {
   "cell_type": "markdown",
   "id": "70b206c7-e8e3-4f5c-aa28-8fafcf024f90",
   "metadata": {},
   "source": [
    "+++++++++++frozenset()\n",
    "\n",
    "Bu fonksiyonu kullanarak farklı veri tiplerini dondurulmuş kümeye dönüştürebilirsiniz:\n",
    "\n"
   ]
  },
  {
   "cell_type": "code",
   "execution_count": 76,
   "id": "c72be266-57f2-46b2-93bf-346145e0bf62",
   "metadata": {},
   "outputs": [
    {
     "data": {
      "text/plain": [
       "frozenset({'a', 'h', 'i', 's', 't', 'z'})"
      ]
     },
     "execution_count": 76,
     "metadata": {},
     "output_type": "execute_result"
    }
   ],
   "source": [
    "s = set('istihza')\n",
    "df = frozenset(s)\n",
    "df"
   ]
  },
  {
   "cell_type": "markdown",
   "id": "cd0a62af-5743-479f-b7ab-d3e4f73386ea",
   "metadata": {},
   "source": [
    "+++++++++++complex()\n",
    "\n",
    "Sayılardan söz ederken, eğer matematikle çok fazla içli dışlı değilseniz pek karşılaşmayacağınız, ‘karmaşık sayı’ adlı bir sayı türünden de bahsetmiştik. Karmaşık sayılar, bir gerçek, bir de sanal kısımdan oluşan sayılardır.\n",
    "\n",
    "Karmaşık sayılar Python’da ‘complex’ ifadesiyle gösteriliyor. Mesela şu bir karmaşık sayıdır:"
   ]
  },
  {
   "cell_type": "code",
   "execution_count": 77,
   "id": "1b22d9ca-f27b-42c3-9517-7a19094bcee7",
   "metadata": {},
   "outputs": [
    {
     "data": {
      "text/plain": [
       "(12+0j)"
      ]
     },
     "execution_count": 77,
     "metadata": {},
     "output_type": "execute_result"
    }
   ],
   "source": [
    "12+0j\n"
   ]
  },
  {
   "cell_type": "markdown",
   "id": "6f153d8a-d9d7-4aa1-81ea-4f59eafa0df3",
   "metadata": {},
   "source": [
    "İşte eğer herhangi bir sayıyı karmaşık sayıya dönüştürmeniz gerekirse complex() adlı bir fonksiyondan yararlanabilirsiniz. Örneğin:\n",
    "\n"
   ]
  },
  {
   "cell_type": "code",
   "execution_count": 78,
   "id": "fcdc8b4a-1574-48b5-b92b-a179f6f3103d",
   "metadata": {},
   "outputs": [
    {
     "data": {
      "text/plain": [
       "(15+0j)"
      ]
     },
     "execution_count": 78,
     "metadata": {},
     "output_type": "execute_result"
    }
   ],
   "source": [
    "complex(15)\n"
   ]
  },
  {
   "cell_type": "markdown",
   "id": "4904c11c-e7a6-418c-b707-d536c873b31c",
   "metadata": {},
   "source": [
    "Böyle bir kod yazdığımızda, verdiğimiz parametre karmaşık sayının gerçek kısmını oluşturacak, sanal kısım ise 0 olarak kabul edilecektir. Elbette isterseniz sanal kısmı kendiniz de belirleyebilirsiniz:"
   ]
  },
  {
   "cell_type": "code",
   "execution_count": 79,
   "id": "d1b993d8-52f2-4575-be10-e11238649454",
   "metadata": {},
   "outputs": [
    {
     "data": {
      "text/plain": [
       "(15+2j)"
      ]
     },
     "execution_count": 79,
     "metadata": {},
     "output_type": "execute_result"
    }
   ],
   "source": [
    "complex(15, 2)\n"
   ]
  },
  {
   "cell_type": "markdown",
   "id": "8e95a1ce-1ef8-4684-abd5-821d362256a9",
   "metadata": {},
   "source": [
    "++++++++++float()\n",
    "\n",
    "Bu fonksiyonu, sayıları veya karakter dizilerini kayan noktalı sayıya dönüştürmek için kullanıyoruz:\n",
    "\n"
   ]
  },
  {
   "cell_type": "code",
   "execution_count": 80,
   "id": "aadf0ee9-4b62-4b9c-9b13-26b6477d860c",
   "metadata": {},
   "outputs": [
    {
     "data": {
      "text/plain": [
       "134.0"
      ]
     },
     "execution_count": 80,
     "metadata": {},
     "output_type": "execute_result"
    }
   ],
   "source": [
    "float('134')\n"
   ]
  },
  {
   "cell_type": "code",
   "execution_count": 81,
   "id": "17c9a4bb-36b3-4729-8273-a5ffda1c93c5",
   "metadata": {},
   "outputs": [
    {
     "data": {
      "text/plain": [
       "12.0"
      ]
     },
     "execution_count": 81,
     "metadata": {},
     "output_type": "execute_result"
    }
   ],
   "source": [
    "float(12)\n"
   ]
  },
  {
   "cell_type": "markdown",
   "id": "7ea3932c-6b41-438d-8cf5-6ba769f24cc7",
   "metadata": {},
   "source": [
    "+++++++++++int()\n",
    "\n",
    "Bu fonksiyon birkaç farklı amaç için kullanılabilir. int() fonksiyonunun en temel görevi, bir karakter dizisi veya kayan noktalı sayıyı (eğer mümkünse) tam sayıya dönüştürmektir:"
   ]
  },
  {
   "cell_type": "code",
   "execution_count": 82,
   "id": "1b469220-5284-4a2d-a3f7-83b09ccdb228",
   "metadata": {},
   "outputs": [
    {
     "data": {
      "text/plain": [
       "10"
      ]
     },
     "execution_count": 82,
     "metadata": {},
     "output_type": "execute_result"
    }
   ],
   "source": [
    "int('10')\n"
   ]
  },
  {
   "cell_type": "code",
   "execution_count": 83,
   "id": "24fba6b5-03a1-495c-abb2-31c871181cb5",
   "metadata": {},
   "outputs": [
    {
     "data": {
      "text/plain": [
       "12"
      ]
     },
     "execution_count": 83,
     "metadata": {},
     "output_type": "execute_result"
    }
   ],
   "source": [
    "int(12.4)\n"
   ]
  },
  {
   "cell_type": "markdown",
   "id": "c37a33f6-883f-4d01-b18b-fa216918de83",
   "metadata": {},
   "source": [
    "Bunun dışında bu fonksiyonu, herhangi bir sayma sisteminde temsil edilen bir sayıyı onlu sayma sistemine dönüştürmek için de kullanabiliriz. Örneğin:"
   ]
  },
  {
   "cell_type": "code",
   "execution_count": 84,
   "id": "898e9195-2f26-4f5a-8d38-c9a3585265a5",
   "metadata": {},
   "outputs": [
    {
     "data": {
      "text/plain": [
       "10"
      ]
     },
     "execution_count": 84,
     "metadata": {},
     "output_type": "execute_result"
    }
   ],
   "source": [
    "int('12', 8)\n"
   ]
  },
  {
   "cell_type": "markdown",
   "id": "881bdc84-6103-4df3-9152-817b0d2c51e5",
   "metadata": {},
   "source": [
    "Burada, sekizli sayma sistemine ait sayı değerli bir karakter dizisi olan ‘12’`yi onlu sayma sistemine dönüştürdük ve böylece `10 sayısını elde ettik.\n",
    "\n",
    "int() fonksiyonunu sayma sistemleri arasında dönüştürme işlemlerinde kullanabilmek için ilk parametrenin bir karakter dizisi olması gerektiğine dikkat ediyoruz.\n",
    "\n",
    "Bu arada, int('12', 8) komutununun 12 sayısını sekizli sayma sistemine dönüştürmediğine dikkat edin. Bu komutun yaptığı iş sekizli sayma sistemindeki 12 sayısını onlu sayma sistemine dönüştürmektir.\n",
    "\n",
    "int() fonksiyonunun bu kullanımıyla ilgili bir örnek daha verelim:\n",
    "\n"
   ]
  },
  {
   "cell_type": "code",
   "execution_count": 85,
   "id": "1321a9d5-67e8-4a03-b9df-54dee55f6fd5",
   "metadata": {},
   "outputs": [
    {
     "data": {
      "text/plain": [
       "1231"
      ]
     },
     "execution_count": 85,
     "metadata": {},
     "output_type": "execute_result"
    }
   ],
   "source": [
    "int('4cf', 16)\n"
   ]
  },
  {
   "cell_type": "markdown",
   "id": "0cb77522-fad6-479d-9f32-5b61606e5e4b",
   "metadata": {},
   "source": [
    "Burada da, onaltılı sayma sistemine ait bir sayı olan 4cf’yi onlu sayma sistemine çevirdik ve 1231 sayısını elde ettik. 4cf sayısını int() fonksiyonuna parametre olarak verirken bunu karakter dizisi şeklinde yazmayı unutmuyoruz. Aksi halde Python bize bir hata mesajı gösterecektir."
   ]
  },
  {
   "cell_type": "markdown",
   "id": "28da1616-ba0a-454b-b53e-295358b5120b",
   "metadata": {},
   "source": [
    "+++++++++str()\n",
    "\n",
    "Bu fonksiyonun, farklı veri tiplerini karakter dizisine dönüştürmek için kullanıldığını biliyorsunuz. Örneğin:"
   ]
  },
  {
   "cell_type": "code",
   "execution_count": 86,
   "id": "549cedaf-6071-4dc5-a680-dc74a0512238",
   "metadata": {},
   "outputs": [
    {
     "data": {
      "text/plain": [
       "'12'"
      ]
     },
     "execution_count": 86,
     "metadata": {},
     "output_type": "execute_result"
    }
   ],
   "source": [
    "str(12)\n"
   ]
  },
  {
   "cell_type": "markdown",
   "id": "231a774f-de2f-46c3-adae-9be14093c1ca",
   "metadata": {},
   "source": [
    "Burada 12 sayısını bir karakter dizisine dönüştürdük. Şimdi de bir baytı karakter dizisine dönüştürelim:"
   ]
  },
  {
   "cell_type": "code",
   "execution_count": 87,
   "id": "07c5b085-98c2-4c6f-889a-0ce0c395ede1",
   "metadata": {},
   "outputs": [],
   "source": [
    "bayt = b'istihza'\n"
   ]
  },
  {
   "cell_type": "markdown",
   "id": "bf69f086-37f2-4abe-aff5-9b29d13a3abf",
   "metadata": {},
   "source": [
    "Bayt nesnemizi tanımladık. Şimdi bunu bir karakter dizisine dönüştürelim:"
   ]
  },
  {
   "cell_type": "code",
   "execution_count": 88,
   "id": "fd3b914b-3ef9-45fe-98d0-818f5cc90979",
   "metadata": {},
   "outputs": [
    {
     "name": "stdout",
     "output_type": "stream",
     "text": [
      "istihza\n"
     ]
    }
   ],
   "source": [
    "kardiz = str(bayt, encoding='utf-8')\n",
    "print(kardiz)"
   ]
  },
  {
   "cell_type": "markdown",
   "id": "f171ed0b-06b1-40ad-8dfc-7720c6fd9552",
   "metadata": {},
   "source": [
    "Gördüğünüz gibi, bir baytı karakter dizisine dönüştürmek için str() fonksiyonuna encoding adlı bir parametre veriyoruz. Fonksiyonumuz, bu parametrede hangi kodlama biçimi belirtildiyse, baytları bu kodlama biçiminin kurallarına göre bir karakter dizisine dönüştürüyor.\n",
    "\n",
    "Tahmin edebileceğiniz gibi, belirttiğiniz kodlama biçiminin herhangi bir baytı karakter dizisine dönüştüremediği durumlara karşı bir errors parametresi de verebiliriz str() fonksiyonuna. Örneğin elimizde bayt tipinde şöyle bir veri olduğunu varsayalım:\n",
    "\n"
   ]
  },
  {
   "cell_type": "code",
   "execution_count": 89,
   "id": "5213c889-e9d2-4ae7-acf4-ba17cf2cb30b",
   "metadata": {},
   "outputs": [
    {
     "name": "stdout",
     "output_type": "stream",
     "text": [
      "b'kad\\xc4\\xb1n'\n"
     ]
    }
   ],
   "source": [
    "bayt = bytes('kadın', encoding='utf-8')\n",
    "print(bayt)\n"
   ]
  },
  {
   "cell_type": "markdown",
   "id": "2d908140-26ae-4a78-aa9e-82819840355c",
   "metadata": {},
   "source": [
    "Şimdi bu bayt veri tipini bir karakter dizisine dönüştürmeye çalışalım:\n",
    "\n",
    "\n"
   ]
  },
  {
   "cell_type": "code",
   "execution_count": 90,
   "id": "2182eb77-7bc7-4d9d-ad54-1fd62f5946be",
   "metadata": {},
   "outputs": [
    {
     "ename": "UnicodeDecodeError",
     "evalue": "'ascii' codec can't decode byte 0xc4 in position 3: ordinal not in range(128)",
     "output_type": "error",
     "traceback": [
      "\u001b[0;31m---------------------------------------------------------------------------\u001b[0m",
      "\u001b[0;31mUnicodeDecodeError\u001b[0m                        Traceback (most recent call last)",
      "Cell \u001b[0;32mIn[90], line 1\u001b[0m\n\u001b[0;32m----> 1\u001b[0m kardiz \u001b[38;5;241m=\u001b[39m \u001b[38;5;28;43mstr\u001b[39;49m\u001b[43m(\u001b[49m\u001b[43mbayt\u001b[49m\u001b[43m,\u001b[49m\u001b[43m \u001b[49m\u001b[43mencoding\u001b[49m\u001b[38;5;241;43m=\u001b[39;49m\u001b[38;5;124;43m'\u001b[39;49m\u001b[38;5;124;43mascii\u001b[39;49m\u001b[38;5;124;43m'\u001b[39;49m\u001b[43m)\u001b[49m\n",
      "\u001b[0;31mUnicodeDecodeError\u001b[0m: 'ascii' codec can't decode byte 0xc4 in position 3: ordinal not in range(128)"
     ]
    }
   ],
   "source": [
    "kardiz = str(bayt, encoding='ascii')"
   ]
  },
  {
   "cell_type": "markdown",
   "id": "914c644f-0ba3-4970-88c4-9a7f532f0a7a",
   "metadata": {},
   "source": [
    "ASCII adlı kod çözücü, b'kadın' içindeki baytlardan birini tanıyamadığı için bize bir hata mesajı gösterdi. Bildiğiniz gibi ASCII 128’den büyük baytları dönüştüremez. İşte bu tür durumlara karşı errors parametresinden yararlanabilirsiniz:\n",
    "\n"
   ]
  },
  {
   "cell_type": "code",
   "execution_count": 91,
   "id": "2e22b4ce-a354-4f9f-b338-bc9602660d9c",
   "metadata": {},
   "outputs": [
    {
     "name": "stdout",
     "output_type": "stream",
     "text": [
      "kadn\n"
     ]
    }
   ],
   "source": [
    "kardiz = str(bayt, encoding='ascii', errors='ignore')\n",
    "print(kardiz)"
   ]
  },
  {
   "cell_type": "markdown",
   "id": "41596479-92cf-454f-95e5-063171e5d271",
   "metadata": {},
   "source": [
    "errors parametresine verdiğimiz ‘ignore’ değeri sayesinde Python bize hata mesajı göstermek yerine, ASCII ile çözülemeyen baytı görmezden geldi. errors parametresinin hangi değerleri alabileceğini önceki derslerimizden hatırlıyor olmalısınız."
   ]
  },
  {
   "cell_type": "markdown",
   "id": "b04b1427-f698-49b5-96b0-bac6a604dcae",
   "metadata": {},
   "source": [
    "++++++++++dict()\n",
    "\n",
    "Bu fonksiyon, farklı veri tiplerinden sözlükler üretmemizi sağlar. Örneğin bu fonksiyonu kullanarak boş bir sözlük oluşturabiliriz:\n",
    "\n"
   ]
  },
  {
   "cell_type": "code",
   "execution_count": 92,
   "id": "818baf78-9c68-432b-a96b-b7cf1b36fd68",
   "metadata": {},
   "outputs": [],
   "source": [
    "s = dict()\n"
   ]
  },
  {
   "cell_type": "markdown",
   "id": "77207101-9d24-47cd-b176-95ad5935067f",
   "metadata": {},
   "source": [
    "Bu fonksiyon, değişkenlerden sözlükler oluşturmamızı da sağlar:\n",
    "\n"
   ]
  },
  {
   "cell_type": "code",
   "execution_count": 93,
   "id": "67e2c122-3573-4928-b6cc-bf8f0f1d4deb",
   "metadata": {},
   "outputs": [],
   "source": [
    "s = dict(a=1, b=2, c=3)\n"
   ]
  },
  {
   "cell_type": "markdown",
   "id": "0cd4b8f8-6542-49ca-8a2d-1e6fec7d9a24",
   "metadata": {},
   "source": [
    "dict() fonksiyonuna parametre olarak iç içe geçmiş listeler veya demetler vererek de sözlük üretebiliriz:\n",
    "\n"
   ]
  },
  {
   "cell_type": "code",
   "execution_count": 94,
   "id": "b45264c4-5358-4d93-a372-dac433e2bad8",
   "metadata": {},
   "outputs": [
    {
     "data": {
      "text/plain": [
       "{'a': 1, 'b': 2, 'c': 3}"
      ]
     },
     "execution_count": 94,
     "metadata": {},
     "output_type": "execute_result"
    }
   ],
   "source": [
    "öğeler = (['a', 1], ['b', 2], ['c', 3])\n",
    "dict(öğeler)"
   ]
  },
  {
   "cell_type": "markdown",
   "id": "9b7dd47b-96d6-4bfd-b3d2-18c9fb6b26a4",
   "metadata": {},
   "source": [
    "++++++++++++callable()\n",
    "\n",
    "Bu fonksiyon, bir nesnenin ‘çağrılabilir’ olup olmadığını denetler. Peki hangi nesneler çağrılabilir özelliktedir. Mesela fonksiyonlar çağrılabilir nesnelerdir. Değişkenler ise çağrılabilir nesneler değildir.\n",
    "\n",
    "Birkaç örnek verelim bununla ilgili:\n",
    "\n"
   ]
  },
  {
   "cell_type": "code",
   "execution_count": 95,
   "id": "41b74972-4e83-421d-a031-4df4fb1b5cbd",
   "metadata": {},
   "outputs": [
    {
     "data": {
      "text/plain": [
       "True"
      ]
     },
     "execution_count": 95,
     "metadata": {},
     "output_type": "execute_result"
    }
   ],
   "source": [
    "callable(open)\n"
   ]
  },
  {
   "cell_type": "markdown",
   "id": "b8abc20b-eace-4440-becf-550323a4ad88",
   "metadata": {},
   "source": [
    "Python’ın open() adlı bir fonksiyonu olduğu için, doğal olarak callable() fonksiyonu True çıktısı veriyor.\n",
    "\n",
    "Bir de şuna bakalım:\n",
    "\n"
   ]
  },
  {
   "cell_type": "code",
   "execution_count": 96,
   "id": "03387787-8f02-4cb0-94c0-e43282760e21",
   "metadata": {},
   "outputs": [
    {
     "data": {
      "text/plain": [
       "False"
      ]
     },
     "execution_count": 96,
     "metadata": {},
     "output_type": "execute_result"
    }
   ],
   "source": [
    "import sys\n",
    "callable(sys.version)"
   ]
  },
  {
   "cell_type": "markdown",
   "id": "48b19033-3d99-4874-8fca-0dd00c4b0942",
   "metadata": {},
   "source": [
    "Burada da sys modülü içindeki version adlı nesnenin çağrılabilir özellikte olup olmadığını sorguladık. Daha önceki derslerimizde de gördüğünüz gibi, sys modülü içindeki version adlı araç bir fonksiyon değil, değişkendir. Dolayısıyla bu değişken callable(sys.version) sorgusuna False yanıtı verir.\n",
    "\n"
   ]
  },
  {
   "cell_type": "markdown",
   "id": "d699fe72-f80e-4e41-8533-ed933ce3fde1",
   "metadata": {},
   "source": [
    "++++++++++++ord()\n",
    "\n",
    "\n",
    "Bu fonksiyon, bir karakterin karşılık geldiği ondalık sayıyı verir. Örneğin:"
   ]
  },
  {
   "cell_type": "code",
   "execution_count": 97,
   "id": "6635f843-0144-428d-97f8-6a1715cd7781",
   "metadata": {},
   "outputs": [
    {
     "data": {
      "text/plain": [
       "97"
      ]
     },
     "execution_count": 97,
     "metadata": {},
     "output_type": "execute_result"
    }
   ],
   "source": [
    "ord('a')\n"
   ]
  },
  {
   "cell_type": "code",
   "execution_count": 98,
   "id": "e612801e-af74-4469-a883-6f0eefe8e9ec",
   "metadata": {},
   "outputs": [
    {
     "data": {
      "text/plain": [
       "305"
      ]
     },
     "execution_count": 98,
     "metadata": {},
     "output_type": "execute_result"
    }
   ],
   "source": [
    "ord('ı')\n"
   ]
  },
  {
   "cell_type": "markdown",
   "id": "01571c15-6b38-4168-84fc-10341e0780dd",
   "metadata": {},
   "source": [
    "++++oct()\n",
    "\n",
    "Bu fonksiyon, bir sayıyı sekizli düzendeki karşılığına çevirmemizi sağlar:\n",
    "\n"
   ]
  },
  {
   "cell_type": "code",
   "execution_count": 99,
   "id": "547fc4d6-a8dd-42ea-a8f9-94c8ec6fb512",
   "metadata": {},
   "outputs": [
    {
     "data": {
      "text/plain": [
       "'0o12'"
      ]
     },
     "execution_count": 99,
     "metadata": {},
     "output_type": "execute_result"
    }
   ],
   "source": [
    "oct(10)\n"
   ]
  },
  {
   "cell_type": "markdown",
   "id": "5602a1cc-44e9-44d2-b612-17de564b6a61",
   "metadata": {},
   "source": [
    "++++++++++++++hex()\n",
    "\n",
    "Bu fonksiyon, bir sayıyı onaltılı düzendeki karşılığına çevirmemizi sağlar:"
   ]
  },
  {
   "cell_type": "code",
   "execution_count": 100,
   "id": "797f42ae-2485-4c54-ae22-75f1e12f0a50",
   "metadata": {},
   "outputs": [
    {
     "data": {
      "text/plain": [
       "'0x131'"
      ]
     },
     "execution_count": 100,
     "metadata": {},
     "output_type": "execute_result"
    }
   ],
   "source": [
    "hex(305)\n"
   ]
  },
  {
   "cell_type": "markdown",
   "id": "246fd286-9ff5-4a21-81c7-715c71cda035",
   "metadata": {},
   "source": [
    "Yalnız hem oct() hem de hex() fonksiyonlarında dikkat etmemiz gereken şey, bu fonksiyonların parametre olarak bir sayı alıp, çıktı olarak bir karakter dizisi veriyor olmasıdır.\n",
    "\n"
   ]
  },
  {
   "cell_type": "markdown",
   "id": "1f22caf6-c95b-42cb-af7d-b96392c45ceb",
   "metadata": {},
   "source": [
    "\n",
    "eval(), exec(), globals(), locals()\n",
    "Bu bölümde dört farklı fonksiyonu bir arada inceleyeceğiz. Bu fonksiyonları birlikte ele almamızın nedeni bunların birbiriyle yakından bağlantılı olması.\n",
    "\n",
    "Burada işleyeceğimiz bu dört fonksiyon şunlardan oluşuyor:\n",
    "\n",
    "eval()\n",
    "\n",
    "exec()\n",
    "\n",
    "globals()\n",
    "\n",
    "locals()\n",
    "\n",
    "Ancak bu fonksiyonlardan söz etmeye başlamadan önce Python’daki iki önemli kavramı açıklığa kavuşturmamız gerekiyor: Bu kavramlar şunlar:\n",
    "\n",
    "ifade\n",
    "\n",
    "deyim\n",
    "\n",
    "Öncelikle ‘ifade’ kavramından başlayalım.\n",
    "\n",
    "İngilizcede expression denen ‘ifadeler’, bir değer üretmek için kullanılan kod parçalarıdır. Karakter dizileri, sayılar, işleçler, öteki veri tipleri, liste üreteçleri, sözlük üreteçleri, küme üreteçleri, fonksiyonlar hep birer ifadedir. Örneğin:"
   ]
  },
  {
   "cell_type": "code",
   "execution_count": null,
   "id": "42177630-1f6b-46b8-9d34-923c5c5d5cea",
   "metadata": {},
   "outputs": [],
   "source": [
    "5\n",
    "\n",
    "23 + 4\n",
    "\n",
    "[i for i in range(10)]\n",
    "\n",
    "len([1, 2, 3])"
   ]
  },
  {
   "cell_type": "markdown",
   "id": "5ed3046a-8c63-4fa1-8cd2-100e5a747fe7",
   "metadata": {},
   "source": [
    "İngilizcede statement olarak adlandırılan ‘deyimler’ ise ifadeleri de kapsayan daha geniş bir kavramdır. Buna göre bütün ifadeler aynı zamanda birer deyimdir. Daha doğrusu, ifadelerin bir araya gelmesi ile deyimler oluşturulabilir.\n",
    "\n",
    "Deyimlere birkaç örnek verelim:"
   ]
  },
  {
   "cell_type": "code",
   "execution_count": null,
   "id": "5fc3f7e6-599b-4e01-a240-d9adcfdc9a37",
   "metadata": {},
   "outputs": [],
   "source": [
    "a = 5\n",
    "\n",
    "if a:\n",
    "    print(a)\n",
    "\n",
    "for i in range(10):\n",
    "    print(i)"
   ]
  },
  {
   "cell_type": "markdown",
   "id": "a9056aa7-dd19-4a98-830b-b0d68a6b8fd7",
   "metadata": {},
   "source": [
    "Python programlama dilinde deyimlerle ifadeleri ayırt etmenin kolay bir yolu da eval() fonksiyonundan yararlanmaktır. Eğer deyim mi yoksa ifade mi olduğundan emin olamadığınız bir şeyi eval() fonksiyonuna parametre olarak verdiğinizde hata almıyorsanız o parametre bir ifadedir. Eğer hata alıyorsanız o parametre bir deyimdir. Çünkü eval() fonksiyonuna parametre olarak yalnızca ifadeler verilebilir.\n",
    "\n",
    "Birkaç örnek verelim:\n",
    "\n"
   ]
  },
  {
   "cell_type": "code",
   "execution_count": 101,
   "id": "cf1347d8-ec44-4056-bbaf-3d725721aa15",
   "metadata": {},
   "outputs": [
    {
     "ename": "SyntaxError",
     "evalue": "invalid syntax (<string>, line 1)",
     "output_type": "error",
     "traceback": [
      "Traceback \u001b[0;36m(most recent call last)\u001b[0m:\n",
      "\u001b[0m  File \u001b[1;32m~/.local/lib/python3.10/site-packages/IPython/core/interactiveshell.py:3577\u001b[0m in \u001b[1;35mrun_code\u001b[0m\n    exec(code_obj, self.user_global_ns, self.user_ns)\u001b[0m\n",
      "\u001b[0;36m  Cell \u001b[0;32mIn[101], line 1\u001b[0;36m\n\u001b[0;31m    eval('a = 5')\u001b[0;36m\n",
      "\u001b[0;36m  File \u001b[0;32m<string>:1\u001b[0;36m\u001b[0m\n\u001b[0;31m    a = 5\u001b[0m\n\u001b[0m      ^\u001b[0m\n\u001b[0;31mSyntaxError\u001b[0m\u001b[0;31m:\u001b[0m invalid syntax\n"
     ]
    }
   ],
   "source": [
    "eval('a = 5')"
   ]
  },
  {
   "cell_type": "markdown",
   "id": "b19c45c3-1255-48f3-990d-0cb2f45e9a86",
   "metadata": {},
   "source": [
    "Gördüğünüz gibi, eval() fonksiyonu bize bir hata mesajı verdi. Çünkü a = 5 kodu bir deyimdir. Unutmayın, Python’da bütün değer atama işlemleri birer deyimdir. Dolayısıyla eval() fonksiyonu bu deyimi parametre olarak alamaz.\n",
    "\n",
    "Bir de şuna bakalım:"
   ]
  },
  {
   "cell_type": "code",
   "execution_count": 102,
   "id": "f4a1e926-9237-476d-86e4-015aaaaaba0c",
   "metadata": {},
   "outputs": [
    {
     "data": {
      "text/plain": [
       "30"
      ]
     },
     "execution_count": 102,
     "metadata": {},
     "output_type": "execute_result"
    }
   ],
   "source": [
    "eval('5 + 25')\n"
   ]
  },
  {
   "cell_type": "markdown",
   "id": "6f673656-99e9-4f9e-9780-da20e5721189",
   "metadata": {},
   "source": [
    "Bu defa hata almadık. Çünkü eval() fonksiyonuna, olması gerektiği gibi, parametre olarak bir ifade verdik. Bildiğiniz gibi, 5 + 25 kodu bir ifadedir.\n",
    "\n",
    "Dediğimiz gibi, eval() fonksiyonu deyimleri parametre olarak alamaz. Ama exec() fonksiyonu alabilir:\n",
    "\n"
   ]
  },
  {
   "cell_type": "code",
   "execution_count": 103,
   "id": "757f529b-b1d7-43de-8397-d7461554186c",
   "metadata": {},
   "outputs": [],
   "source": [
    "exec('a = 5')"
   ]
  },
  {
   "cell_type": "markdown",
   "id": "ee43b81f-c0cb-4767-b414-5574dafec485",
   "metadata": {},
   "source": [
    "Bu şekilde, değeri 5 olan a adlı bir değişken oluşturmuş olduk. İsterseniz kontrol edelim:"
   ]
  },
  {
   "cell_type": "code",
   "execution_count": 104,
   "id": "223281c4-82a9-46d7-8f2a-b72dce8f0190",
   "metadata": {},
   "outputs": [
    {
     "name": "stdout",
     "output_type": "stream",
     "text": [
      "5\n"
     ]
    }
   ],
   "source": [
    "print(a)"
   ]
  },
  {
   "cell_type": "markdown",
   "id": "28064270-ac12-47c9-8fe4-e2edf8f7fc5b",
   "metadata": {},
   "source": [
    "Gördüğünüz gibi, exec() fonksiyonu, mevcut isim alanı içinde a adlı bir değişken oluşturdu. Yalnız elbette mevcut isim alanı içinde yeni değişkenler ve yeni değerler oluştururken dikkatli olmamız gerektiğini biliyorsunuz. Zira mesela yukarıdaki komutu vermeden önce mevcut isim alanında zaten a adlı bir değişken varsa, o değişkenin değeri değişecektir:"
   ]
  },
  {
   "cell_type": "code",
   "execution_count": 105,
   "id": "96a6c61b-9135-482a-8236-f28ca3ec84c7",
   "metadata": {},
   "outputs": [],
   "source": [
    "a = 20\n"
   ]
  },
  {
   "cell_type": "markdown",
   "id": "38616b45-e005-40b7-b34a-8a2b177749cb",
   "metadata": {},
   "source": [
    "Elimizde, değeri 20 olan a adlı bir değişken var. Şimdi exec() fonksiyonu yardımıyla a değişkeninin de içinde yer aldığı mevcut isim alanına müdahale ediyoruz:"
   ]
  },
  {
   "cell_type": "code",
   "execution_count": 106,
   "id": "a0d05dc5-5fed-4138-9a3b-275e7b283a42",
   "metadata": {},
   "outputs": [],
   "source": [
    "exec('a = 10')\n"
   ]
  },
  {
   "cell_type": "markdown",
   "id": "1ba304a5-4638-4703-a103-05846315d29d",
   "metadata": {},
   "source": [
    "Böylece a değişkeninin eski değerini silmiş olduk. Kontrol edelim:\n",
    "\n"
   ]
  },
  {
   "cell_type": "code",
   "execution_count": 108,
   "id": "b08641ca-754c-4d4f-9916-79e27cb31d0f",
   "metadata": {},
   "outputs": [
    {
     "name": "stdout",
     "output_type": "stream",
     "text": [
      "10\n"
     ]
    }
   ],
   "source": [
    "print(a)"
   ]
  },
  {
   "cell_type": "markdown",
   "id": "f6109749-afa8-4037-bb3a-dc56fc7b20c2",
   "metadata": {},
   "source": [
    "Bu tür durumlarda, exec() ile oluşturduğunuz değişkenleri global isim alanına değil de, farklı bir isim alanına göndermeyi tercih edebilirsiniz. Peki ama bunu nasıl yapacağız?\n",
    "\n",
    "Python programlama dilinde isim alanları sözlük tipinde bir veridir. Örneğin global isim alanı basit bir sözlükten ibarettir.\n",
    "\n",
    "Global isim alanını gösteren sözlükte hangi anahtar ve değerlerin olduğunu görmek için globals() adlı bir fonksiyonu kullanabilirsiniz:"
   ]
  },
  {
   "cell_type": "code",
   "execution_count": 109,
   "id": "12b4ec65-9008-43f1-bcb9-5957da8517cd",
   "metadata": {},
   "outputs": [
    {
     "data": {
      "text/plain": [
       "{'__name__': '__main__',\n",
       " '__doc__': 'Automatically created module for IPython interactive environment',\n",
       " '__package__': None,\n",
       " '__loader__': None,\n",
       " '__spec__': None,\n",
       " '__builtin__': <module 'builtins' (built-in)>,\n",
       " '__builtins__': <module 'builtins' (built-in)>,\n",
       " '_ih': ['',\n",
       "  'abs(-20)',\n",
       "  'abs(20)',\n",
       "  'abs(20.0)',\n",
       "  'abs(20+3j)',\n",
       "  'round(12.4)',\n",
       "  'round(12.7)',\n",
       "  'round(1.5)',\n",
       "  'round(12.5)',\n",
       "  '22/7',\n",
       "  'round(22/7)',\n",
       "  'round(22/7)',\n",
       "  'round(22/7, 0)',\n",
       "  'round(22/7, 1)',\n",
       "  'round(22/7, 2)',\n",
       "  'round(22/7, 3)',\n",
       "  'round(22/7, 4)',\n",
       "  'liste = [1, 2, 3, 4]',\n",
       "  'all(liste)',\n",
       "  'liste = [0, 1, 2, 3, 4]\\nall(liste)',\n",
       "  \"liste = ['ahmet', 'mehmet', '']\\nall(liste)\",\n",
       "  \"a = 3\\nt1 = a == 3         #sayı 3 mü?\\nt2 = a < 4          #sayı 4'ten küçük mü?\\nt3 = a % 2 == 1     #sayı bir tek sayı mı?\\nall([t1, t2, t3])   #sayı bu özelliklerin hepsine sahip \",\n",
       "  \"liste = ['ahmet', 'mehmet', '']\\nany(liste)\",\n",
       "  \"l = ['', 0, [], (), set(), dict()]\\nany(l)\",\n",
       "  \"a = 'istihza'\\nprint(ascii(a))\",\n",
       "  \"print('\\\\n')\",\n",
       "  \"print(ascii('\\\\n!'))\",\n",
       "  \"a = 'ışık'\\nprint(ascii(a))\",\n",
       "  'for i in a:\\n    print(ascii(i))',\n",
       "  \"liste = ['elma', 'armut', 'erik']\\ntemsil = ascii(liste)\\nprint(temsil)\",\n",
       "  'print(type(temsil))',\n",
       "  'temsil[0]',\n",
       "  \"ascii('şeker')\",\n",
       "  \"repr('şeker')\",\n",
       "  'bool(0)',\n",
       "  'bool(1)',\n",
       "  'bool([])',\n",
       "  'bytes(10)',\n",
       "  'a = bytes(10)',\n",
       "  'a = bytes(10)\\na',\n",
       "  'a = bytes(10)\\na',\n",
       "  'a[0]',\n",
       "  'a[1]',\n",
       "  'a[2]',\n",
       "  \"bytes('istihza')\",\n",
       "  \"'ışık'.encode('utf-8')\",\n",
       "  \"'ışık'.encode('cp857')\",\n",
       "  \"'ışık'.encode('cp1254')\",\n",
       "  \"bytes('ışık', 'utf-8')\",\n",
       "  \"bytes('ışık', 'cp1254')\",\n",
       "  \"bytes('ışık', 'cp857')\",\n",
       "  \"bytes('istihza', encoding='ascii')\",\n",
       "  \"bytes('şeker', 'ascii')\",\n",
       "  \"bytes('€', 'cp857')\",\n",
       "  \"bytes('ışık', encoding='ascii', errors='replace')\",\n",
       "  \"bytes('şeker', encoding='ascii', errors='replace')\",\n",
       "  \"bytes('€', encoding='cp857', errors='replace')\",\n",
       "  \"bytes('€', encoding='cp857', errors='ignore')\",\n",
       "  \"bytes('€', encoding='cp857', errors='xmlcharrefreplace')\",\n",
       "  \"bytes('şeker', encoding='cp857', errors='xmlcharrefreplace')\",\n",
       "  'bytes([65, 10, 12, 11, 15, 66])',\n",
       "  \"a = bytes('istihza', 'ascii')\\na[0]\",\n",
       "  'a[0] = 106',\n",
       "  \"a = bytearray('adana', 'ascii')\",\n",
       "  'a',\n",
       "  'a[0] = 65\\n\\na',\n",
       "  'chr(10)',\n",
       "  'chr(65)',\n",
       "  'chr(305)',\n",
       "  'l = list()',\n",
       "  \"list('istihza')\",\n",
       "  \"s = {'elma': 44, 'armut': 10, 'erik': 100}\\nlist(s)\",\n",
       "  'list(s.values())',\n",
       "  'k = set()',\n",
       "  \"i = 'istihza'\\nset(i)\",\n",
       "  \"tuple('a')\",\n",
       "  \"s = set('istihza')\\ndf = frozenset(s)\\ndf\",\n",
       "  '12+0j',\n",
       "  'complex(15)',\n",
       "  'complex(15, 2)',\n",
       "  \"float('134')\",\n",
       "  'float(12)',\n",
       "  \"int('10')\",\n",
       "  'int(12.4)',\n",
       "  \"int('12', 8)\",\n",
       "  \"int('4cf', 16)\",\n",
       "  'str(12)',\n",
       "  \"bayt = b'istihza'\",\n",
       "  \"kardiz = str(bayt, encoding='utf-8')\\nprint(kardiz)\",\n",
       "  \"bayt = bytes('kadın', encoding='utf-8')\\nprint(bayt)\",\n",
       "  \"kardiz = str(bayt, encoding='ascii')\",\n",
       "  \"kardiz = str(bayt, encoding='ascii', errors='ignore')\\nprint(kardiz)\",\n",
       "  's = dict()',\n",
       "  's = dict(a=1, b=2, c=3)',\n",
       "  \"öğeler = (['a', 1], ['b', 2], ['c', 3])\\ndict(öğeler)\",\n",
       "  'callable(open)',\n",
       "  'import sys\\ncallable(sys.version)',\n",
       "  \"ord('a')\",\n",
       "  \"ord('ı')\",\n",
       "  'oct(10)',\n",
       "  'hex(305)',\n",
       "  \"eval('a = 5')\",\n",
       "  \"eval('5 + 25')\",\n",
       "  \"exec('a = 5')\",\n",
       "  'print(a)',\n",
       "  'a = 20',\n",
       "  \"exec('a = 10')\",\n",
       "  'print(a)\\n|',\n",
       "  'print(a)',\n",
       "  'globals()'],\n",
       " '_oh': {1: 20,\n",
       "  2: 20,\n",
       "  3: 20.0,\n",
       "  4: 20.223748416156685,\n",
       "  5: 12,\n",
       "  6: 13,\n",
       "  7: 2,\n",
       "  8: 12,\n",
       "  9: 3.142857142857143,\n",
       "  10: 3,\n",
       "  11: 3,\n",
       "  12: 3.0,\n",
       "  13: 3.1,\n",
       "  14: 3.14,\n",
       "  15: 3.143,\n",
       "  16: 3.1429,\n",
       "  18: True,\n",
       "  19: False,\n",
       "  20: False,\n",
       "  21: True,\n",
       "  22: True,\n",
       "  23: False,\n",
       "  31: '[',\n",
       "  32: \"'\\\\u015feker'\",\n",
       "  33: \"'şeker'\",\n",
       "  34: False,\n",
       "  35: True,\n",
       "  36: False,\n",
       "  37: b'\\x00\\x00\\x00\\x00\\x00\\x00\\x00\\x00\\x00\\x00',\n",
       "  39: b'\\x00\\x00\\x00\\x00\\x00\\x00\\x00\\x00\\x00\\x00',\n",
       "  40: b'\\x00\\x00\\x00\\x00\\x00\\x00\\x00\\x00\\x00\\x00',\n",
       "  41: 0,\n",
       "  42: 0,\n",
       "  43: 0,\n",
       "  45: b'\\xc4\\xb1\\xc5\\x9f\\xc4\\xb1k',\n",
       "  46: b'\\x8d\\x9f\\x8dk',\n",
       "  47: b'\\xfd\\xfe\\xfdk',\n",
       "  48: b'\\xc4\\xb1\\xc5\\x9f\\xc4\\xb1k',\n",
       "  49: b'\\xfd\\xfe\\xfdk',\n",
       "  50: b'\\x8d\\x9f\\x8dk',\n",
       "  51: b'istihza',\n",
       "  54: b'???k',\n",
       "  55: b'?eker',\n",
       "  56: b'?',\n",
       "  57: b'',\n",
       "  58: b'&#8364;',\n",
       "  59: b'\\x9feker',\n",
       "  60: b'A\\n\\x0c\\x0b\\x0fB',\n",
       "  61: 105,\n",
       "  64: bytearray(b'Adana'),\n",
       "  65: bytearray(b'Adana'),\n",
       "  66: '\\n',\n",
       "  67: 'A',\n",
       "  68: 'ı',\n",
       "  70: ['i', 's', 't', 'i', 'h', 'z', 'a'],\n",
       "  71: ['elma', 'armut', 'erik'],\n",
       "  72: [44, 10, 100],\n",
       "  74: {'a', 'h', 'i', 's', 't', 'z'},\n",
       "  75: ('a',),\n",
       "  76: frozenset({'a', 'h', 'i', 's', 't', 'z'}),\n",
       "  77: (12+0j),\n",
       "  78: (15+0j),\n",
       "  79: (15+2j),\n",
       "  80: 134.0,\n",
       "  81: 12.0,\n",
       "  82: 10,\n",
       "  83: 12,\n",
       "  84: 10,\n",
       "  85: 1231,\n",
       "  86: '12',\n",
       "  94: {'a': 1, 'b': 2, 'c': 3},\n",
       "  95: True,\n",
       "  96: False,\n",
       "  97: 97,\n",
       "  98: 305,\n",
       "  99: '0o12',\n",
       "  100: '0x131',\n",
       "  102: 30},\n",
       " '_dh': [PosixPath('/home/toree/Desktop/python-notes/ders26GomuluFonksiyonlar')],\n",
       " 'In': ['',\n",
       "  'abs(-20)',\n",
       "  'abs(20)',\n",
       "  'abs(20.0)',\n",
       "  'abs(20+3j)',\n",
       "  'round(12.4)',\n",
       "  'round(12.7)',\n",
       "  'round(1.5)',\n",
       "  'round(12.5)',\n",
       "  '22/7',\n",
       "  'round(22/7)',\n",
       "  'round(22/7)',\n",
       "  'round(22/7, 0)',\n",
       "  'round(22/7, 1)',\n",
       "  'round(22/7, 2)',\n",
       "  'round(22/7, 3)',\n",
       "  'round(22/7, 4)',\n",
       "  'liste = [1, 2, 3, 4]',\n",
       "  'all(liste)',\n",
       "  'liste = [0, 1, 2, 3, 4]\\nall(liste)',\n",
       "  \"liste = ['ahmet', 'mehmet', '']\\nall(liste)\",\n",
       "  \"a = 3\\nt1 = a == 3         #sayı 3 mü?\\nt2 = a < 4          #sayı 4'ten küçük mü?\\nt3 = a % 2 == 1     #sayı bir tek sayı mı?\\nall([t1, t2, t3])   #sayı bu özelliklerin hepsine sahip \",\n",
       "  \"liste = ['ahmet', 'mehmet', '']\\nany(liste)\",\n",
       "  \"l = ['', 0, [], (), set(), dict()]\\nany(l)\",\n",
       "  \"a = 'istihza'\\nprint(ascii(a))\",\n",
       "  \"print('\\\\n')\",\n",
       "  \"print(ascii('\\\\n!'))\",\n",
       "  \"a = 'ışık'\\nprint(ascii(a))\",\n",
       "  'for i in a:\\n    print(ascii(i))',\n",
       "  \"liste = ['elma', 'armut', 'erik']\\ntemsil = ascii(liste)\\nprint(temsil)\",\n",
       "  'print(type(temsil))',\n",
       "  'temsil[0]',\n",
       "  \"ascii('şeker')\",\n",
       "  \"repr('şeker')\",\n",
       "  'bool(0)',\n",
       "  'bool(1)',\n",
       "  'bool([])',\n",
       "  'bytes(10)',\n",
       "  'a = bytes(10)',\n",
       "  'a = bytes(10)\\na',\n",
       "  'a = bytes(10)\\na',\n",
       "  'a[0]',\n",
       "  'a[1]',\n",
       "  'a[2]',\n",
       "  \"bytes('istihza')\",\n",
       "  \"'ışık'.encode('utf-8')\",\n",
       "  \"'ışık'.encode('cp857')\",\n",
       "  \"'ışık'.encode('cp1254')\",\n",
       "  \"bytes('ışık', 'utf-8')\",\n",
       "  \"bytes('ışık', 'cp1254')\",\n",
       "  \"bytes('ışık', 'cp857')\",\n",
       "  \"bytes('istihza', encoding='ascii')\",\n",
       "  \"bytes('şeker', 'ascii')\",\n",
       "  \"bytes('€', 'cp857')\",\n",
       "  \"bytes('ışık', encoding='ascii', errors='replace')\",\n",
       "  \"bytes('şeker', encoding='ascii', errors='replace')\",\n",
       "  \"bytes('€', encoding='cp857', errors='replace')\",\n",
       "  \"bytes('€', encoding='cp857', errors='ignore')\",\n",
       "  \"bytes('€', encoding='cp857', errors='xmlcharrefreplace')\",\n",
       "  \"bytes('şeker', encoding='cp857', errors='xmlcharrefreplace')\",\n",
       "  'bytes([65, 10, 12, 11, 15, 66])',\n",
       "  \"a = bytes('istihza', 'ascii')\\na[0]\",\n",
       "  'a[0] = 106',\n",
       "  \"a = bytearray('adana', 'ascii')\",\n",
       "  'a',\n",
       "  'a[0] = 65\\n\\na',\n",
       "  'chr(10)',\n",
       "  'chr(65)',\n",
       "  'chr(305)',\n",
       "  'l = list()',\n",
       "  \"list('istihza')\",\n",
       "  \"s = {'elma': 44, 'armut': 10, 'erik': 100}\\nlist(s)\",\n",
       "  'list(s.values())',\n",
       "  'k = set()',\n",
       "  \"i = 'istihza'\\nset(i)\",\n",
       "  \"tuple('a')\",\n",
       "  \"s = set('istihza')\\ndf = frozenset(s)\\ndf\",\n",
       "  '12+0j',\n",
       "  'complex(15)',\n",
       "  'complex(15, 2)',\n",
       "  \"float('134')\",\n",
       "  'float(12)',\n",
       "  \"int('10')\",\n",
       "  'int(12.4)',\n",
       "  \"int('12', 8)\",\n",
       "  \"int('4cf', 16)\",\n",
       "  'str(12)',\n",
       "  \"bayt = b'istihza'\",\n",
       "  \"kardiz = str(bayt, encoding='utf-8')\\nprint(kardiz)\",\n",
       "  \"bayt = bytes('kadın', encoding='utf-8')\\nprint(bayt)\",\n",
       "  \"kardiz = str(bayt, encoding='ascii')\",\n",
       "  \"kardiz = str(bayt, encoding='ascii', errors='ignore')\\nprint(kardiz)\",\n",
       "  's = dict()',\n",
       "  's = dict(a=1, b=2, c=3)',\n",
       "  \"öğeler = (['a', 1], ['b', 2], ['c', 3])\\ndict(öğeler)\",\n",
       "  'callable(open)',\n",
       "  'import sys\\ncallable(sys.version)',\n",
       "  \"ord('a')\",\n",
       "  \"ord('ı')\",\n",
       "  'oct(10)',\n",
       "  'hex(305)',\n",
       "  \"eval('a = 5')\",\n",
       "  \"eval('5 + 25')\",\n",
       "  \"exec('a = 5')\",\n",
       "  'print(a)',\n",
       "  'a = 20',\n",
       "  \"exec('a = 10')\",\n",
       "  'print(a)\\n|',\n",
       "  'print(a)',\n",
       "  'globals()'],\n",
       " 'Out': {1: 20,\n",
       "  2: 20,\n",
       "  3: 20.0,\n",
       "  4: 20.223748416156685,\n",
       "  5: 12,\n",
       "  6: 13,\n",
       "  7: 2,\n",
       "  8: 12,\n",
       "  9: 3.142857142857143,\n",
       "  10: 3,\n",
       "  11: 3,\n",
       "  12: 3.0,\n",
       "  13: 3.1,\n",
       "  14: 3.14,\n",
       "  15: 3.143,\n",
       "  16: 3.1429,\n",
       "  18: True,\n",
       "  19: False,\n",
       "  20: False,\n",
       "  21: True,\n",
       "  22: True,\n",
       "  23: False,\n",
       "  31: '[',\n",
       "  32: \"'\\\\u015feker'\",\n",
       "  33: \"'şeker'\",\n",
       "  34: False,\n",
       "  35: True,\n",
       "  36: False,\n",
       "  37: b'\\x00\\x00\\x00\\x00\\x00\\x00\\x00\\x00\\x00\\x00',\n",
       "  39: b'\\x00\\x00\\x00\\x00\\x00\\x00\\x00\\x00\\x00\\x00',\n",
       "  40: b'\\x00\\x00\\x00\\x00\\x00\\x00\\x00\\x00\\x00\\x00',\n",
       "  41: 0,\n",
       "  42: 0,\n",
       "  43: 0,\n",
       "  45: b'\\xc4\\xb1\\xc5\\x9f\\xc4\\xb1k',\n",
       "  46: b'\\x8d\\x9f\\x8dk',\n",
       "  47: b'\\xfd\\xfe\\xfdk',\n",
       "  48: b'\\xc4\\xb1\\xc5\\x9f\\xc4\\xb1k',\n",
       "  49: b'\\xfd\\xfe\\xfdk',\n",
       "  50: b'\\x8d\\x9f\\x8dk',\n",
       "  51: b'istihza',\n",
       "  54: b'???k',\n",
       "  55: b'?eker',\n",
       "  56: b'?',\n",
       "  57: b'',\n",
       "  58: b'&#8364;',\n",
       "  59: b'\\x9feker',\n",
       "  60: b'A\\n\\x0c\\x0b\\x0fB',\n",
       "  61: 105,\n",
       "  64: bytearray(b'Adana'),\n",
       "  65: bytearray(b'Adana'),\n",
       "  66: '\\n',\n",
       "  67: 'A',\n",
       "  68: 'ı',\n",
       "  70: ['i', 's', 't', 'i', 'h', 'z', 'a'],\n",
       "  71: ['elma', 'armut', 'erik'],\n",
       "  72: [44, 10, 100],\n",
       "  74: {'a', 'h', 'i', 's', 't', 'z'},\n",
       "  75: ('a',),\n",
       "  76: frozenset({'a', 'h', 'i', 's', 't', 'z'}),\n",
       "  77: (12+0j),\n",
       "  78: (15+0j),\n",
       "  79: (15+2j),\n",
       "  80: 134.0,\n",
       "  81: 12.0,\n",
       "  82: 10,\n",
       "  83: 12,\n",
       "  84: 10,\n",
       "  85: 1231,\n",
       "  86: '12',\n",
       "  94: {'a': 1, 'b': 2, 'c': 3},\n",
       "  95: True,\n",
       "  96: False,\n",
       "  97: 97,\n",
       "  98: 305,\n",
       "  99: '0o12',\n",
       "  100: '0x131',\n",
       "  102: 30},\n",
       " 'get_ipython': <bound method InteractiveShell.get_ipython of <ipykernel.zmqshell.ZMQInteractiveShell object at 0x75fb6c9908e0>>,\n",
       " 'exit': <IPython.core.autocall.ZMQExitAutocall at 0x75fb6c991540>,\n",
       " 'quit': <IPython.core.autocall.ZMQExitAutocall at 0x75fb6c991540>,\n",
       " 'open': <function io.open(file, mode='r', buffering=-1, encoding=None, errors=None, newline=None, closefd=True, opener=None)>,\n",
       " '_': 30,\n",
       " '__': '0x131',\n",
       " '___': '0o12',\n",
       " '__session__': '/home/toree/Desktop/python-notes/ders26GomuluFonksiyonlar/Untitled.ipynb',\n",
       " '_i': 'print(a)',\n",
       " '_ii': 'print(a)\\n|',\n",
       " '_iii': \"exec('a = 10')\",\n",
       " '_i1': 'abs(-20)',\n",
       " '_1': 20,\n",
       " '_i2': 'abs(20)',\n",
       " '_2': 20,\n",
       " '_i3': 'abs(20.0)',\n",
       " '_3': 20.0,\n",
       " '_i4': 'abs(20+3j)',\n",
       " '_4': 20.223748416156685,\n",
       " '_i5': 'round(12.4)',\n",
       " '_5': 12,\n",
       " '_i6': 'round(12.7)',\n",
       " '_6': 13,\n",
       " '_i7': 'round(1.5)',\n",
       " '_7': 2,\n",
       " '_i8': 'round(12.5)',\n",
       " '_8': 12,\n",
       " '_i9': '22/7',\n",
       " '_9': 3.142857142857143,\n",
       " '_i10': 'round(22/7)',\n",
       " '_10': 3,\n",
       " '_i11': 'round(22/7)',\n",
       " '_11': 3,\n",
       " '_i12': 'round(22/7, 0)',\n",
       " '_12': 3.0,\n",
       " '_i13': 'round(22/7, 1)',\n",
       " '_13': 3.1,\n",
       " '_i14': 'round(22/7, 2)',\n",
       " '_14': 3.14,\n",
       " '_i15': 'round(22/7, 3)',\n",
       " '_15': 3.143,\n",
       " '_i16': 'round(22/7, 4)',\n",
       " '_16': 3.1429,\n",
       " '_i17': 'liste = [1, 2, 3, 4]',\n",
       " 'liste': ['elma', 'armut', 'erik'],\n",
       " '_i18': 'all(liste)',\n",
       " '_18': True,\n",
       " '_i19': 'liste = [0, 1, 2, 3, 4]\\nall(liste)',\n",
       " '_19': False,\n",
       " '_i20': \"liste = ['ahmet', 'mehmet', '']\\nall(liste)\",\n",
       " '_20': False,\n",
       " '_i21': \"a = 3\\nt1 = a == 3         #sayı 3 mü?\\nt2 = a < 4          #sayı 4'ten küçük mü?\\nt3 = a % 2 == 1     #sayı bir tek sayı mı?\\nall([t1, t2, t3])   #sayı bu özelliklerin hepsine sahip \",\n",
       " 'a': 10,\n",
       " 't1': True,\n",
       " 't2': True,\n",
       " 't3': True,\n",
       " '_21': True,\n",
       " '_i22': \"liste = ['ahmet', 'mehmet', '']\\nany(liste)\",\n",
       " '_22': True,\n",
       " '_i23': \"l = ['', 0, [], (), set(), dict()]\\nany(l)\",\n",
       " 'l': [],\n",
       " '_23': False,\n",
       " '_i24': \"a = 'istihza'\\nprint(ascii(a))\",\n",
       " '_i25': \"print('\\\\n')\",\n",
       " '_i26': \"print(ascii('\\\\n!'))\",\n",
       " '_i27': \"a = 'ışık'\\nprint(ascii(a))\",\n",
       " '_i28': 'for i in a:\\n    print(ascii(i))',\n",
       " 'i': 'istihza',\n",
       " '_i29': \"liste = ['elma', 'armut', 'erik']\\ntemsil = ascii(liste)\\nprint(temsil)\",\n",
       " 'temsil': \"['elma', 'armut', 'erik']\",\n",
       " '_i30': 'print(type(temsil))',\n",
       " '_i31': 'temsil[0]',\n",
       " '_31': '[',\n",
       " '_i32': \"ascii('şeker')\",\n",
       " '_32': \"'\\\\u015feker'\",\n",
       " '_i33': \"repr('şeker')\",\n",
       " '_33': \"'şeker'\",\n",
       " '_i34': 'bool(0)',\n",
       " '_34': False,\n",
       " '_i35': 'bool(1)',\n",
       " '_35': True,\n",
       " '_i36': 'bool([])',\n",
       " '_36': False,\n",
       " '_i37': 'bytes(10)',\n",
       " '_37': b'\\x00\\x00\\x00\\x00\\x00\\x00\\x00\\x00\\x00\\x00',\n",
       " '_i38': 'a = bytes(10)',\n",
       " '_i39': 'a = bytes(10)\\na',\n",
       " '_39': b'\\x00\\x00\\x00\\x00\\x00\\x00\\x00\\x00\\x00\\x00',\n",
       " '_i40': 'a = bytes(10)\\na',\n",
       " '_40': b'\\x00\\x00\\x00\\x00\\x00\\x00\\x00\\x00\\x00\\x00',\n",
       " '_i41': 'a[0]',\n",
       " '_41': 0,\n",
       " '_i42': 'a[1]',\n",
       " '_42': 0,\n",
       " '_i43': 'a[2]',\n",
       " '_43': 0,\n",
       " '_i44': \"bytes('istihza')\",\n",
       " '_i45': \"'ışık'.encode('utf-8')\",\n",
       " '_45': b'\\xc4\\xb1\\xc5\\x9f\\xc4\\xb1k',\n",
       " '_i46': \"'ışık'.encode('cp857')\",\n",
       " '_46': b'\\x8d\\x9f\\x8dk',\n",
       " '_i47': \"'ışık'.encode('cp1254')\",\n",
       " '_47': b'\\xfd\\xfe\\xfdk',\n",
       " '_i48': \"bytes('ışık', 'utf-8')\",\n",
       " '_48': b'\\xc4\\xb1\\xc5\\x9f\\xc4\\xb1k',\n",
       " '_i49': \"bytes('ışık', 'cp1254')\",\n",
       " '_49': b'\\xfd\\xfe\\xfdk',\n",
       " '_i50': \"bytes('ışık', 'cp857')\",\n",
       " '_50': b'\\x8d\\x9f\\x8dk',\n",
       " '_i51': \"bytes('istihza', encoding='ascii')\",\n",
       " '_51': b'istihza',\n",
       " '_i52': \"bytes('şeker', 'ascii')\",\n",
       " '_i53': \"bytes('€', 'cp857')\",\n",
       " '_i54': \"bytes('ışık', encoding='ascii', errors='replace')\",\n",
       " '_54': b'???k',\n",
       " '_i55': \"bytes('şeker', encoding='ascii', errors='replace')\",\n",
       " '_55': b'?eker',\n",
       " '_i56': \"bytes('€', encoding='cp857', errors='replace')\",\n",
       " '_56': b'?',\n",
       " '_i57': \"bytes('€', encoding='cp857', errors='ignore')\",\n",
       " '_57': b'',\n",
       " '_i58': \"bytes('€', encoding='cp857', errors='xmlcharrefreplace')\",\n",
       " '_58': b'&#8364;',\n",
       " '_i59': \"bytes('şeker', encoding='cp857', errors='xmlcharrefreplace')\",\n",
       " '_59': b'\\x9feker',\n",
       " '_i60': 'bytes([65, 10, 12, 11, 15, 66])',\n",
       " '_60': b'A\\n\\x0c\\x0b\\x0fB',\n",
       " '_i61': \"a = bytes('istihza', 'ascii')\\na[0]\",\n",
       " '_61': 105,\n",
       " '_i62': 'a[0] = 106',\n",
       " '_i63': \"a = bytearray('adana', 'ascii')\",\n",
       " '_i64': 'a',\n",
       " '_64': bytearray(b'Adana'),\n",
       " '_i65': 'a[0] = 65\\n\\na',\n",
       " '_65': bytearray(b'Adana'),\n",
       " '_i66': 'chr(10)',\n",
       " '_66': '\\n',\n",
       " '_i67': 'chr(65)',\n",
       " '_67': 'A',\n",
       " '_i68': 'chr(305)',\n",
       " '_68': 'ı',\n",
       " '_i69': 'l = list()',\n",
       " '_i70': \"list('istihza')\",\n",
       " '_70': ['i', 's', 't', 'i', 'h', 'z', 'a'],\n",
       " '_i71': \"s = {'elma': 44, 'armut': 10, 'erik': 100}\\nlist(s)\",\n",
       " 's': {'a': 1, 'b': 2, 'c': 3},\n",
       " '_71': ['elma', 'armut', 'erik'],\n",
       " '_i72': 'list(s.values())',\n",
       " '_72': [44, 10, 100],\n",
       " '_i73': 'k = set()',\n",
       " 'k': set(),\n",
       " '_i74': \"i = 'istihza'\\nset(i)\",\n",
       " '_74': {'a', 'h', 'i', 's', 't', 'z'},\n",
       " '_i75': \"tuple('a')\",\n",
       " '_75': ('a',),\n",
       " '_i76': \"s = set('istihza')\\ndf = frozenset(s)\\ndf\",\n",
       " 'df': frozenset({'a', 'h', 'i', 's', 't', 'z'}),\n",
       " '_76': frozenset({'a', 'h', 'i', 's', 't', 'z'}),\n",
       " '_i77': '12+0j',\n",
       " '_77': (12+0j),\n",
       " '_i78': 'complex(15)',\n",
       " '_78': (15+0j),\n",
       " '_i79': 'complex(15, 2)',\n",
       " '_79': (15+2j),\n",
       " '_i80': \"float('134')\",\n",
       " '_80': 134.0,\n",
       " '_i81': 'float(12)',\n",
       " '_81': 12.0,\n",
       " '_i82': \"int('10')\",\n",
       " '_82': 10,\n",
       " '_i83': 'int(12.4)',\n",
       " '_83': 12,\n",
       " '_i84': \"int('12', 8)\",\n",
       " '_84': 10,\n",
       " '_i85': \"int('4cf', 16)\",\n",
       " '_85': 1231,\n",
       " '_i86': 'str(12)',\n",
       " '_86': '12',\n",
       " '_i87': \"bayt = b'istihza'\",\n",
       " 'bayt': b'kad\\xc4\\xb1n',\n",
       " '_i88': \"kardiz = str(bayt, encoding='utf-8')\\nprint(kardiz)\",\n",
       " 'kardiz': 'kadn',\n",
       " '_i89': \"bayt = bytes('kadın', encoding='utf-8')\\nprint(bayt)\",\n",
       " '_i90': \"kardiz = str(bayt, encoding='ascii')\",\n",
       " '_i91': \"kardiz = str(bayt, encoding='ascii', errors='ignore')\\nprint(kardiz)\",\n",
       " '_i92': 's = dict()',\n",
       " '_i93': 's = dict(a=1, b=2, c=3)',\n",
       " '_i94': \"öğeler = (['a', 1], ['b', 2], ['c', 3])\\ndict(öğeler)\",\n",
       " 'öğeler': (['a', 1], ['b', 2], ['c', 3]),\n",
       " '_94': {'a': 1, 'b': 2, 'c': 3},\n",
       " '_i95': 'callable(open)',\n",
       " '_95': True,\n",
       " '_i96': 'import sys\\ncallable(sys.version)',\n",
       " 'sys': <module 'sys' (built-in)>,\n",
       " '_96': False,\n",
       " '_i97': \"ord('a')\",\n",
       " '_97': 97,\n",
       " '_i98': \"ord('ı')\",\n",
       " '_98': 305,\n",
       " '_i99': 'oct(10)',\n",
       " '_99': '0o12',\n",
       " '_i100': 'hex(305)',\n",
       " '_100': '0x131',\n",
       " '_i101': \"eval('a = 5')\",\n",
       " '_i102': \"eval('5 + 25')\",\n",
       " '_102': 30,\n",
       " '_i103': \"exec('a = 5')\",\n",
       " '_i104': 'print(a)',\n",
       " '_i105': 'a = 20',\n",
       " '_i106': \"exec('a = 10')\",\n",
       " '_i107': 'print(a)\\n|',\n",
       " '_i108': 'print(a)',\n",
       " '_i109': 'globals()'}"
      ]
     },
     "execution_count": 109,
     "metadata": {},
     "output_type": "execute_result"
    }
   ],
   "source": [
    "globals()"
   ]
  },
  {
   "cell_type": "markdown",
   "id": "c51b2277-84c7-4ca2-9d56-affc687758f4",
   "metadata": {},
   "source": [
    "Gördüğünüz gibi, elimizdeki şey gerçekten de bir sözlük. Dolayısıyla bir sözlük ile ne yapabilirsek bu sözlükle de aynı şeyi yapabiliriz…\n",
    "\n",
    "‘globals’ adlı bu sözlüğün içeriği, o anda global isim alanında bulunan nesnelere göre farklılık gösterecektir. Örneğin:"
   ]
  },
  {
   "cell_type": "code",
   "execution_count": 110,
   "id": "a76814b3-6396-4070-a465-5f87f864c472",
   "metadata": {},
   "outputs": [],
   "source": [
    "x = 10\n"
   ]
  },
  {
   "cell_type": "markdown",
   "id": "2a0c0bc6-34f9-4ef1-a89d-bd72c983a9e0",
   "metadata": {},
   "source": [
    "şeklinde 10 değerine sahip bir x nesnesi tanımladıktan sonra globals() fonksiyonunu tekrar çalıştırırsanız global isim alanına bu nesnenin de eklenmiş olduğunu görürsünüz.\n",
    "\n",
    "Dediğimiz gibi, globals() fonksiyonundan dönen nesne bir sözlüktür. Bu sözlüğe, herhangi bir sözlüğe veri ekler gibi değer de ekleyebilirsiniz:"
   ]
  },
  {
   "cell_type": "code",
   "execution_count": 112,
   "id": "cc064250-5668-4f9b-94e9-1a4a9ea8fe11",
   "metadata": {},
   "outputs": [],
   "source": [
    "globals()['z'] = 23\n"
   ]
  },
  {
   "cell_type": "markdown",
   "id": "587ffcc6-b93f-422d-9c88-9e65749951c8",
   "metadata": {},
   "source": [
    "Bu şekilde global isim alanına z adlı bir değişken eklemiş oldunuz:"
   ]
  },
  {
   "cell_type": "code",
   "execution_count": 113,
   "id": "0568a2f4-2b9d-48e7-b7d3-1eee2281d2d3",
   "metadata": {},
   "outputs": [
    {
     "data": {
      "text/plain": [
       "23"
      ]
     },
     "execution_count": 113,
     "metadata": {},
     "output_type": "execute_result"
    }
   ],
   "source": [
    "z"
   ]
  },
  {
   "cell_type": "markdown",
   "id": "018acf07-d7ce-4db4-96cc-77b96afc265e",
   "metadata": {},
   "source": [
    "Yalnız, Python programlama dili bize bu şekilde global isim alanına nesne ekleme imkanı verse de, biz mecbur değilsek bu yöntemi kullanmaktan kaçınmalıyız. Çünkü bu şekilde sıradışı bir yöntemle değişken tanımladığımız için aslında global isim alanını, nerden geldiğini kestirmenin güç olduğu değerlerle ‘kirletmiş’ oluyoruz.\n",
    "\n",
    "Bildiğiniz gibi, Python’da global isim alanı dışında bir de lokal isim alanı bulunur. Lokal isim alanlarının, fonksiyonlara (ve ileride göreceğimiz gibi sınıflara) ait bir isim alanı olduğunu biliyorsunuz. İşte bu isim alanlarına ulaşmak için de locals() adlı bir fonksiyondan yararlanacağız:\n",
    "\n"
   ]
  },
  {
   "cell_type": "code",
   "execution_count": 114,
   "id": "b344c68e-dc11-462e-806a-98402e20131c",
   "metadata": {},
   "outputs": [
    {
     "name": "stdout",
     "output_type": "stream",
     "text": [
      "{'param1': 10, 'param2': 20, 'x': 10}\n"
     ]
    }
   ],
   "source": [
    "def fonksiyon(param1, param2):\n",
    "    x = 10\n",
    "    print(locals())\n",
    "\n",
    "fonksiyon(10, 20)"
   ]
  },
  {
   "cell_type": "markdown",
   "id": "7e8011ca-e353-4017-bb95-eb1098990aea",
   "metadata": {},
   "source": [
    "Bu fonksiyonu çalıştırdığınızda şu çıktıyı alacaksınız:"
   ]
  },
  {
   "cell_type": "markdown",
   "id": "a28aedc2-39ff-4521-bb8a-4254ce5f9d86",
   "metadata": {},
   "source": [
    "Gördüğünüz gibi, locals() fonksiyonu gerçekten de bize fonksiyon() adlı fonksiyon içindeki lokal değerleri veriyor.\n",
    "\n",
    "globals() ve locals() fonksiyonlarının ne işe yaradığını incelediğimize göre exec() fonksiyonunu anlatırken kaldığımız yere dönebiliriz.\n",
    "\n",
    "Ne diyorduk?\n",
    "\n",
    "Elimizde, değeri 20 olan a adlı bir değişken vardı:"
   ]
  },
  {
   "cell_type": "code",
   "execution_count": 115,
   "id": "819c4b20-6259-423c-bd78-82a8e9927af0",
   "metadata": {},
   "outputs": [],
   "source": [
    "a = 20\n"
   ]
  },
  {
   "cell_type": "markdown",
   "id": "ecb19ad6-ce31-4b47-bace-3b80e747c1a5",
   "metadata": {},
   "source": [
    "exec() fonksiyonu yardımıyla a değişkeninin de içinde yer aldığı mevcut isim alanına müdahale edelim:\n",
    "\n"
   ]
  },
  {
   "cell_type": "code",
   "execution_count": 116,
   "id": "5313af54-a05e-46e3-b104-9daf12334fbd",
   "metadata": {},
   "outputs": [],
   "source": [
    "exec('a = 3')\n"
   ]
  },
  {
   "cell_type": "markdown",
   "id": "e07c7067-cdb8-4707-a5fe-9c3b6c03230b",
   "metadata": {},
   "source": [
    "Bu şekilde a değişkeninin varolan değerini silmiş olduk:"
   ]
  },
  {
   "cell_type": "code",
   "execution_count": 117,
   "id": "f50b2295-3f0d-461e-bfaf-80cd74be075f",
   "metadata": {},
   "outputs": [
    {
     "name": "stdout",
     "output_type": "stream",
     "text": [
      "3\n"
     ]
    }
   ],
   "source": [
    "print(a)\n"
   ]
  },
  {
   "cell_type": "markdown",
   "id": "640b1466-3876-47ff-a8e3-1fdc6794dc7c",
   "metadata": {},
   "source": [
    "Dediğimiz gibi, bu tür durumlarda, exec() ile oluşturduğunuz değişkenleri global isim alanı yerine farklı bir isim alanına göndermeyi tercih etmemiz daha uygun olacaktır. Python’da isim alanlarının basit bir sözlük olduğunu öğrendiğimize göre, exec() ile oluşturduğumuz değişkenleri global isim alanı yerine nasıl farklı bir isim alanına göndereceğimizi görebiliriz.\n",
    "\n",
    "Önce yeni bir isim alanı oluşturalım:\n",
    "\n"
   ]
  },
  {
   "cell_type": "code",
   "execution_count": 121,
   "id": "6cd795d4-72b8-44c6-9041-04d7bb7106b4",
   "metadata": {},
   "outputs": [],
   "source": [
    "ia = {}\n",
    "a = 20"
   ]
  },
  {
   "cell_type": "markdown",
   "id": "5ece41c7-b836-42f0-b69d-6303cd6c3b14",
   "metadata": {},
   "source": [
    "Şimdi exec() ile oluşturacağımız değerleri bu isim alanına gönderebiliriz:\n",
    "\n"
   ]
  },
  {
   "cell_type": "code",
   "execution_count": 122,
   "id": "87cb7c0d-dbdc-4aa3-b332-3cf4bc5ca614",
   "metadata": {},
   "outputs": [],
   "source": [
    "exec('a = 3', ia)\n"
   ]
  },
  {
   "cell_type": "markdown",
   "id": "53d378fc-a06a-4fe4-9cf3-638539c9f6a9",
   "metadata": {},
   "source": [
    "Böylece global isim alanındaki a değişkeninin değerine dokunmamış olduk:\n",
    "\n"
   ]
  },
  {
   "cell_type": "code",
   "execution_count": 123,
   "id": "0cb8f8bc-91c4-489e-87ca-5c317450dce4",
   "metadata": {},
   "outputs": [
    {
     "data": {
      "text/plain": [
       "20"
      ]
     },
     "execution_count": 123,
     "metadata": {},
     "output_type": "execute_result"
    }
   ],
   "source": [
    "a"
   ]
  },
  {
   "cell_type": "markdown",
   "id": "79a5220f-dcb6-4c49-b3a2-415ec123c420",
   "metadata": {},
   "source": [
    "Yeni oluşturduğumuz değer ise ia adlı yeni isim alanına gitti:\n",
    "\n"
   ]
  },
  {
   "cell_type": "code",
   "execution_count": 124,
   "id": "b31a3bec-b3b6-43fb-9493-2a59a04b4e3c",
   "metadata": {},
   "outputs": [
    {
     "data": {
      "text/plain": [
       "3"
      ]
     },
     "execution_count": 124,
     "metadata": {},
     "output_type": "execute_result"
    }
   ],
   "source": [
    "ia['a']"
   ]
  },
  {
   "cell_type": "markdown",
   "id": "7db285fd-424c-48d1-a58e-df3dd47bfd27",
   "metadata": {},
   "source": [
    "++++++++copyright()\n",
    "\n",
    "Bu fonksiyon yardımıyla Python’ın telif haklarına ilişkin bilgilere erişebilirsiniz:\n",
    "\n"
   ]
  },
  {
   "cell_type": "code",
   "execution_count": 125,
   "id": "2279b377-dc28-404e-b74c-e0a6d98d07fb",
   "metadata": {},
   "outputs": [
    {
     "name": "stdout",
     "output_type": "stream",
     "text": [
      "Copyright (c) 2001-2023 Python Software Foundation.\n",
      "All Rights Reserved.\n",
      "\n",
      "Copyright (c) 2000 BeOpen.com.\n",
      "All Rights Reserved.\n",
      "\n",
      "Copyright (c) 1995-2001 Corporation for National Research Initiatives.\n",
      "All Rights Reserved.\n",
      "\n",
      "Copyright (c) 1991-1995 Stichting Mathematisch Centrum, Amsterdam.\n",
      "All Rights Reserved.\n"
     ]
    }
   ],
   "source": [
    "copyright()"
   ]
  },
  {
   "cell_type": "markdown",
   "id": "f1842425-6386-48b3-957b-cc060c9bfe0a",
   "metadata": {},
   "source": [
    "+++++++credits()\n",
    "\n",
    "Bu fonksiyon, Python programlama diline katkıda bulunanlara teşekkür içeren küçük bir metni ekrana çıktı olarak verir:"
   ]
  },
  {
   "cell_type": "code",
   "execution_count": 126,
   "id": "b9252f69-716d-4367-89f7-fc1bbeab9ae2",
   "metadata": {},
   "outputs": [
    {
     "name": "stdout",
     "output_type": "stream",
     "text": [
      "    Thanks to CWI, CNRI, BeOpen.com, Zope Corporation and a cast of thousands\n",
      "    for supporting Python development.  See www.python.org for more information.\n"
     ]
    }
   ],
   "source": [
    "credits()"
   ]
  },
  {
   "cell_type": "markdown",
   "id": "567f5e15-7387-41ee-8309-56670068bc2b",
   "metadata": {},
   "source": [
    "++++++++++license()\n",
    "\n",
    "Bu fonksiyon yardımıyla Python’ın lisansına ilişkin epey ayrıntılı metinlere ulaşabilirsiniz.\n",
    "\n"
   ]
  },
  {
   "cell_type": "markdown",
   "id": "93af34b5-e47b-44f3-9838-542ca17c2b6d",
   "metadata": {},
   "source": [
    "++++++++++dir()\n",
    "\n",
    "Eğer dir() fonksiyonunu parametresiz olarak kullanırsak, mevcut isim alanındaki öğeleri bir liste halinde elde ederiz:\n",
    "\n"
   ]
  },
  {
   "cell_type": "code",
   "execution_count": 127,
   "id": "c0c5d40c-752c-463b-95dd-2121e376b887",
   "metadata": {},
   "outputs": [
    {
     "data": {
      "text/plain": [
       "['In',\n",
       " 'Out',\n",
       " '_',\n",
       " '_1',\n",
       " '_10',\n",
       " '_100',\n",
       " '_102',\n",
       " '_109',\n",
       " '_11',\n",
       " '_113',\n",
       " '_12',\n",
       " '_120',\n",
       " '_123',\n",
       " '_124',\n",
       " '_13',\n",
       " '_14',\n",
       " '_15',\n",
       " '_16',\n",
       " '_18',\n",
       " '_19',\n",
       " '_2',\n",
       " '_20',\n",
       " '_21',\n",
       " '_22',\n",
       " '_23',\n",
       " '_3',\n",
       " '_31',\n",
       " '_32',\n",
       " '_33',\n",
       " '_34',\n",
       " '_35',\n",
       " '_36',\n",
       " '_37',\n",
       " '_39',\n",
       " '_4',\n",
       " '_40',\n",
       " '_41',\n",
       " '_42',\n",
       " '_43',\n",
       " '_45',\n",
       " '_46',\n",
       " '_47',\n",
       " '_48',\n",
       " '_49',\n",
       " '_5',\n",
       " '_50',\n",
       " '_51',\n",
       " '_54',\n",
       " '_55',\n",
       " '_56',\n",
       " '_57',\n",
       " '_58',\n",
       " '_59',\n",
       " '_6',\n",
       " '_60',\n",
       " '_61',\n",
       " '_64',\n",
       " '_65',\n",
       " '_66',\n",
       " '_67',\n",
       " '_68',\n",
       " '_7',\n",
       " '_70',\n",
       " '_71',\n",
       " '_72',\n",
       " '_74',\n",
       " '_75',\n",
       " '_76',\n",
       " '_77',\n",
       " '_78',\n",
       " '_79',\n",
       " '_8',\n",
       " '_80',\n",
       " '_81',\n",
       " '_82',\n",
       " '_83',\n",
       " '_84',\n",
       " '_85',\n",
       " '_86',\n",
       " '_9',\n",
       " '_94',\n",
       " '_95',\n",
       " '_96',\n",
       " '_97',\n",
       " '_98',\n",
       " '_99',\n",
       " '__',\n",
       " '___',\n",
       " '__builtin__',\n",
       " '__builtins__',\n",
       " '__doc__',\n",
       " '__loader__',\n",
       " '__name__',\n",
       " '__package__',\n",
       " '__session__',\n",
       " '__spec__',\n",
       " '_dh',\n",
       " '_i',\n",
       " '_i1',\n",
       " '_i10',\n",
       " '_i100',\n",
       " '_i101',\n",
       " '_i102',\n",
       " '_i103',\n",
       " '_i104',\n",
       " '_i105',\n",
       " '_i106',\n",
       " '_i107',\n",
       " '_i108',\n",
       " '_i109',\n",
       " '_i11',\n",
       " '_i110',\n",
       " '_i111',\n",
       " '_i112',\n",
       " '_i113',\n",
       " '_i114',\n",
       " '_i115',\n",
       " '_i116',\n",
       " '_i117',\n",
       " '_i118',\n",
       " '_i119',\n",
       " '_i12',\n",
       " '_i120',\n",
       " '_i121',\n",
       " '_i122',\n",
       " '_i123',\n",
       " '_i124',\n",
       " '_i125',\n",
       " '_i126',\n",
       " '_i127',\n",
       " '_i13',\n",
       " '_i14',\n",
       " '_i15',\n",
       " '_i16',\n",
       " '_i17',\n",
       " '_i18',\n",
       " '_i19',\n",
       " '_i2',\n",
       " '_i20',\n",
       " '_i21',\n",
       " '_i22',\n",
       " '_i23',\n",
       " '_i24',\n",
       " '_i25',\n",
       " '_i26',\n",
       " '_i27',\n",
       " '_i28',\n",
       " '_i29',\n",
       " '_i3',\n",
       " '_i30',\n",
       " '_i31',\n",
       " '_i32',\n",
       " '_i33',\n",
       " '_i34',\n",
       " '_i35',\n",
       " '_i36',\n",
       " '_i37',\n",
       " '_i38',\n",
       " '_i39',\n",
       " '_i4',\n",
       " '_i40',\n",
       " '_i41',\n",
       " '_i42',\n",
       " '_i43',\n",
       " '_i44',\n",
       " '_i45',\n",
       " '_i46',\n",
       " '_i47',\n",
       " '_i48',\n",
       " '_i49',\n",
       " '_i5',\n",
       " '_i50',\n",
       " '_i51',\n",
       " '_i52',\n",
       " '_i53',\n",
       " '_i54',\n",
       " '_i55',\n",
       " '_i56',\n",
       " '_i57',\n",
       " '_i58',\n",
       " '_i59',\n",
       " '_i6',\n",
       " '_i60',\n",
       " '_i61',\n",
       " '_i62',\n",
       " '_i63',\n",
       " '_i64',\n",
       " '_i65',\n",
       " '_i66',\n",
       " '_i67',\n",
       " '_i68',\n",
       " '_i69',\n",
       " '_i7',\n",
       " '_i70',\n",
       " '_i71',\n",
       " '_i72',\n",
       " '_i73',\n",
       " '_i74',\n",
       " '_i75',\n",
       " '_i76',\n",
       " '_i77',\n",
       " '_i78',\n",
       " '_i79',\n",
       " '_i8',\n",
       " '_i80',\n",
       " '_i81',\n",
       " '_i82',\n",
       " '_i83',\n",
       " '_i84',\n",
       " '_i85',\n",
       " '_i86',\n",
       " '_i87',\n",
       " '_i88',\n",
       " '_i89',\n",
       " '_i9',\n",
       " '_i90',\n",
       " '_i91',\n",
       " '_i92',\n",
       " '_i93',\n",
       " '_i94',\n",
       " '_i95',\n",
       " '_i96',\n",
       " '_i97',\n",
       " '_i98',\n",
       " '_i99',\n",
       " '_ih',\n",
       " '_ii',\n",
       " '_iii',\n",
       " '_oh',\n",
       " 'a',\n",
       " 'bayt',\n",
       " 'df',\n",
       " 'exit',\n",
       " 'fonksiyon',\n",
       " 'get_ipython',\n",
       " 'i',\n",
       " 'ia',\n",
       " 'k',\n",
       " 'kardiz',\n",
       " 'l',\n",
       " 'liste',\n",
       " 'open',\n",
       " 'quit',\n",
       " 's',\n",
       " 'sys',\n",
       " 't1',\n",
       " 't2',\n",
       " 't3',\n",
       " 'temsil',\n",
       " 'x',\n",
       " 'z',\n",
       " 'öğeler']"
      ]
     },
     "execution_count": 127,
     "metadata": {},
     "output_type": "execute_result"
    }
   ],
   "source": [
    "dir()"
   ]
  },
  {
   "cell_type": "markdown",
   "id": "26b5448c-24ec-489d-b357-28f9cb46f1bb",
   "metadata": {},
   "source": [
    "Bu bakımdan dir() fonksiyonu globals() ve locals() fonksiyonlarına benzer. Ancak onlardan farkı, dir() fonksiyonunun çıktı olarak bir liste, globals() ve locals() fonksiyonlarının ise birer sözlük vermesidir.\n",
    "\n",
    "Ayrıca dir() fonksiyonunu kullanarak nesnelerin metot ve niteliklerini içeren bir listeye ulaşabileceğimizi de biliyorsunuz. Örneğin bu fonksiyonu kullanarak farklı veri tiplerinin metot ve niteliklerini listeleyebiliriz:"
   ]
  },
  {
   "cell_type": "code",
   "execution_count": null,
   "id": "05cf2201-a740-40a3-9e2b-3796a5835444",
   "metadata": {},
   "outputs": [],
   "source": [
    "dir('')\n",
    "dir([])\n",
    "dir({})"
   ]
  },
  {
   "cell_type": "markdown",
   "id": "c19573fd-0efe-420c-8993-d6fbcb21b5a3",
   "metadata": {},
   "source": [
    "++++++++divmod()\n",
    "\n",
    "Bu fonksiyonun işlevini bir örnek üzerinden göstermeye çalışalım:"
   ]
  },
  {
   "cell_type": "code",
   "execution_count": 128,
   "id": "bc51d056-178f-430b-8a55-ca1c3238bc8b",
   "metadata": {},
   "outputs": [
    {
     "data": {
      "text/plain": [
       "(5, 0)"
      ]
     },
     "execution_count": 128,
     "metadata": {},
     "output_type": "execute_result"
    }
   ],
   "source": [
    "divmod(10, 2)"
   ]
  },
  {
   "cell_type": "markdown",
   "id": "c0201eab-2bd9-42b9-a646-77fff1f31aa8",
   "metadata": {},
   "source": [
    "Gördüğünüz gibi divmod(10, 2) komutu bize iki öğeli bir demet veriyor. Bu demetin ilk öğesi, divmod() fonksiyonuna verilen ilk parametrenin ikinci parametreye bölünmesi işleminin sonucudur. Demetimizin ikinci öğesi ise, ilk parametrenin ikinci parametreye bölünmesi işleminden kalan sayıdır. Yani demetin ilk parametresi bölme işleminin ‘bölüm’ kısmını, ikinci öğesi ise ‘kalan’ kısmını verir.\n",
    "\n",
    "Bu fonksiyonun bölme işlemininin sonucunu tamsayı cinsinden verdiğine dikkat ediyoruz:"
   ]
  },
  {
   "cell_type": "code",
   "execution_count": 129,
   "id": "26425937-2ec3-48a7-a44b-8a14cff6955c",
   "metadata": {},
   "outputs": [
    {
     "data": {
      "text/plain": [
       "(3, 1)"
      ]
     },
     "execution_count": 129,
     "metadata": {},
     "output_type": "execute_result"
    }
   ],
   "source": [
    "divmod(10, 3)"
   ]
  },
  {
   "cell_type": "markdown",
   "id": "83e8e9b1-1a57-4c0b-a6f5-3c16787bccd6",
   "metadata": {},
   "source": [
    "+++++++++enumerate()\n",
    "\n",
    "İngilizcede enumerate kelimesi ‘numaralandırmak’ anlamına gelir. enumerate() fonksiyonunun görevi de kelimenin bu anlamıyla aynıdır. Yani bu fonksiyonu kullanarak nesneleri numaralandırabiliriz.\n",
    "\n",
    "Bu fonksiyon bize bir ‘enumerate’ nesnesi verir:"
   ]
  },
  {
   "cell_type": "code",
   "execution_count": 130,
   "id": "a1ec016c-519b-4edc-adb7-0a8c01f7c5ec",
   "metadata": {},
   "outputs": [
    {
     "data": {
      "text/plain": [
       "<enumerate at 0x75fb6c8195c0>"
      ]
     },
     "execution_count": 130,
     "metadata": {},
     "output_type": "execute_result"
    }
   ],
   "source": [
    "enumerate('istihza')"
   ]
  },
  {
   "cell_type": "code",
   "execution_count": 131,
   "id": "881ab648-372c-4e85-8fb5-c7136be72f39",
   "metadata": {},
   "outputs": [
    {
     "data": {
      "text/plain": [
       "[(0, 'i'), (1, 's'), (2, 't'), (3, 'i'), (4, 'h'), (5, 'z'), (6, 'a')]"
      ]
     },
     "execution_count": 131,
     "metadata": {},
     "output_type": "execute_result"
    }
   ],
   "source": [
    "list(enumerate('istihza'))"
   ]
  },
  {
   "cell_type": "markdown",
   "id": "70f95257-1ac0-4d83-9682-52d725042fa2",
   "metadata": {},
   "source": [
    "veya:"
   ]
  },
  {
   "cell_type": "code",
   "execution_count": 132,
   "id": "72e516ee-7f0c-4a28-81e5-b6a34085e021",
   "metadata": {},
   "outputs": [
    {
     "data": {
      "text/plain": [
       "[(0, 'i'), (1, 's'), (2, 't'), (3, 'i'), (4, 'h'), (5, 'z'), (6, 'a')]"
      ]
     },
     "execution_count": 132,
     "metadata": {},
     "output_type": "execute_result"
    }
   ],
   "source": [
    "[i for i in enumerate('istihza')]"
   ]
  },
  {
   "cell_type": "markdown",
   "id": "41923df6-ad21-4dc0-9f8a-76b28b985281",
   "metadata": {},
   "source": [
    "print() fonksiyonuna yıldızlı parametre olarak verebiliriz:"
   ]
  },
  {
   "cell_type": "code",
   "execution_count": 133,
   "id": "c7bab6a6-4345-41d6-b57f-4b0cb8a72c76",
   "metadata": {},
   "outputs": [
    {
     "name": "stdout",
     "output_type": "stream",
     "text": [
      "(0, 'i') (1, 's') (2, 't') (3, 'i') (4, 'h') (5, 'z') (6, 'a')\n"
     ]
    }
   ],
   "source": [
    "print(*enumerate('istihza'))"
   ]
  },
  {
   "cell_type": "markdown",
   "id": "85d0953d-c761-4054-b890-37a33a3f40b4",
   "metadata": {},
   "source": [
    "veya nesne üzerinde bir döngü kurabiliriz:"
   ]
  },
  {
   "cell_type": "code",
   "execution_count": 134,
   "id": "2a203893-4439-448a-af48-d8d8645c6529",
   "metadata": {},
   "outputs": [
    {
     "name": "stdout",
     "output_type": "stream",
     "text": [
      "(0, 'i')\n",
      "(1, 's')\n",
      "(2, 't')\n",
      "(3, 'i')\n",
      "(4, 'h')\n",
      "(5, 'z')\n",
      "(6, 'a')\n"
     ]
    }
   ],
   "source": [
    "for i in enumerate('istihza'):\n",
    "    print(i)\n"
   ]
  },
  {
   "cell_type": "markdown",
   "id": "93535453-f2c5-42f2-af93-349bbf81027b",
   "metadata": {},
   "source": [
    "Gördüğünüz gibi, ‘enumerate’ nesnesi bize her koşulda iki öğeli demetler veriyor. Bu demetlerin her bir öğesine nasıl ulaşabileceğimizi de biliyor olmalısınız:\n",
    "\n"
   ]
  },
  {
   "cell_type": "code",
   "execution_count": 135,
   "id": "97d1fa37-0c5a-4d7b-8db5-87e763593a35",
   "metadata": {},
   "outputs": [
    {
     "name": "stdout",
     "output_type": "stream",
     "text": [
      "0.  i\n",
      "1.  s\n",
      "2.  t\n",
      "3.  i\n",
      "4.  h\n",
      "5.  z\n",
      "6.  a\n"
     ]
    }
   ],
   "source": [
    "for sıra, öğe in enumerate('istihza'):\n",
    "    print(\"{}. {:>2}\".format(sıra, öğe))\n"
   ]
  },
  {
   "cell_type": "markdown",
   "id": "3fae99fa-33ac-433f-abeb-5aced9ef6443",
   "metadata": {},
   "source": [
    "Örneklerden de gördüğünüz gibi, enumerate() fonksiyonu bize bir dizi içindeki öğelerin sırasını ve öğenin kendisini içeren bir demet veriyor. Dikkat ettiyseniz, her zaman olduğu gibi, Python burada da saymaya 0’dan başlıyor. Yani enumerate() fonksiyonunun ürettiği öğe sıralamasında ilk öğenin sırası 0 oluyor. Elbette eğer isterseniz enumerate() fonksiyonunun saymaya kaçtan başlayacağını kendiniz de belirleyebilirsiniz:\n",
    "\n"
   ]
  },
  {
   "cell_type": "code",
   "execution_count": 136,
   "id": "5aba6956-f1d0-41cc-ad4d-de15918aa313",
   "metadata": {},
   "outputs": [
    {
     "name": "stdout",
     "output_type": "stream",
     "text": [
      "1.  i\n",
      "2.  s\n",
      "3.  t\n",
      "4.  i\n",
      "5.  h\n",
      "6.  z\n",
      "7.  a\n"
     ]
    }
   ],
   "source": [
    "for sıra, öğe in enumerate('istihza', 1):\n",
    "    print(\"{}. {:>2}\".format(sıra, öğe))"
   ]
  },
  {
   "cell_type": "markdown",
   "id": "c3ae9be4-4eb2-4942-93d4-2e3e154a6ac0",
   "metadata": {},
   "source": [
    "enumerate() fonksiyonuna verdiğimiz ikinci parametre saymaya kaçtan başlanacağını gösteriyor. Eğer bu fonksiyonu ikinci parametre olmadan kullanırsak Python bizim saymaya 0’dan başlamak istediğimizi varsayacaktır.\n",
    "\n"
   ]
  },
  {
   "cell_type": "markdown",
   "id": "53a7c54c-3364-4945-b17b-433797ac2726",
   "metadata": {},
   "source": [
    "+++++++++exit()\n",
    "\n",
    "Bu fonksiyon, o anda çalışan programdan çıkmanızı sağlar. Eğer bu komutu etkileşimli kabukta verirseniz o anda açık olan oturum kapanacaktır."
   ]
  },
  {
   "cell_type": "markdown",
   "id": "f7eeabf1-8629-42d2-b385-2c9c8f140480",
   "metadata": {},
   "source": [
    "+++++help()\n",
    "\n",
    "help() fonksiyonu gömülü fonksiyonlar içinde en faydalı fonksiyonların başında gelir. Bu fonksiyonu kullanarak Python programlama diline ait öğelere ilişkin yardım belgelerine ulaşabiliriz. Örneğin:\n",
    "\n"
   ]
  },
  {
   "cell_type": "code",
   "execution_count": null,
   "id": "c54e308d-6d90-45e8-96e2-f905b0b14a01",
   "metadata": {},
   "outputs": [],
   "source": [
    "help(dir)\n"
   ]
  },
  {
   "cell_type": "markdown",
   "id": "2a0f4898-5e12-422e-801b-5d274dc9a1dd",
   "metadata": {},
   "source": [
    "Bu komutu verdiğimizde dir() fonksiyonunun ne işe yaradığını gösteren İngilizce bir belgeye ulaşırız. Gördüğünüz gibi, hakkında bilgi edinmek istediğimiz öğeyi help() fonksiyonuna parametre olarak vererek ilgili yardım dosyasına erişebiliyoruz.\n",
    "\n",
    "Eğer bu fonksiyonu parametresiz olarak kullanırsak ‘etkileşimli yardım’ denen ekrana ulaşırız:"
   ]
  },
  {
   "cell_type": "code",
   "execution_count": 1,
   "id": "a34a56a7-3aca-464e-bcf2-b712b9bb6e6a",
   "metadata": {},
   "outputs": [
    {
     "name": "stdout",
     "output_type": "stream",
     "text": [
      "\n",
      "Welcome to Python 3.10's help utility!\n",
      "\n",
      "If this is your first time using Python, you should definitely check out\n",
      "the tutorial on the internet at https://docs.python.org/3.10/tutorial/.\n",
      "\n",
      "Enter the name of any module, keyword, or topic to get help on writing\n",
      "Python programs and using Python modules.  To quit this help utility and\n",
      "return to the interpreter, just type \"quit\".\n",
      "\n",
      "To get a list of available modules, keywords, symbols, or topics, type\n",
      "\"modules\", \"keywords\", \"symbols\", or \"topics\".  Each module also comes\n",
      "with a one-line summary of what it does; to list the modules whose name\n",
      "or summary contain a given string such as \"spam\", type \"modules spam\".\n",
      "\n"
     ]
    },
    {
     "name": "stdin",
     "output_type": "stream",
     "text": [
      "help>  q\n"
     ]
    },
    {
     "name": "stdout",
     "output_type": "stream",
     "text": [
      "\n",
      "You are now leaving help and returning to the Python interpreter.\n",
      "If you want to ask for help on a particular object directly from the\n",
      "interpreter, you can type \"help(object)\".  Executing \"help('string')\"\n",
      "has the same effect as typing a particular string at the help> prompt.\n"
     ]
    }
   ],
   "source": [
    "help()"
   ]
  },
  {
   "cell_type": "markdown",
   "id": "1ecd1d8b-250f-406f-a5f4-f901befce324",
   "metadata": {},
   "source": [
    "Bu ekranda, hakkında bilgi edinmek istediğiniz öğeyi help> ibaresinden hemen sonra, boşluk bırakmadan yazarak öğeye ilişkin bilgilere ulaşabilirsiniz:\n",
    "\n"
   ]
  },
  {
   "cell_type": "code",
   "execution_count": null,
   "id": "879442e0-efb4-40ae-ad3a-77767bab5398",
   "metadata": {},
   "outputs": [],
   "source": [
    "help> dir"
   ]
  },
  {
   "cell_type": "markdown",
   "id": "bcd89343-dab6-44ad-a32c-b54b1f3ab523",
   "metadata": {},
   "source": [
    "Etkileşimli yardım ekranından çıkmak için ‘q’ harfine basabilirsiniz."
   ]
  },
  {
   "cell_type": "markdown",
   "id": "b56b88bd-3bf4-4d25-b631-334a08fc6f1c",
   "metadata": {},
   "source": [
    "++++++++++id()\n",
    "\n",
    "Python’da her nesnenin bir kimliğinin olduğunu biliyorsunuz. Kimlik işleçlerini incelediğimiz konuda bundan bir miktar bahsetmiş ve orada id() adlı bir fonksiyondan söz etmiştik.\n",
    "\n",
    "Orada şöyle bir örnek vermiştik:"
   ]
  },
  {
   "cell_type": "code",
   "execution_count": 2,
   "id": "d9aefba4-8a77-4b16-a16f-91c97297fed8",
   "metadata": {},
   "outputs": [
    {
     "data": {
      "text/plain": [
       "125295349729040"
      ]
     },
     "execution_count": 2,
     "metadata": {},
     "output_type": "execute_result"
    }
   ],
   "source": [
    "a = 50\n",
    "id(a)"
   ]
  },
  {
   "cell_type": "code",
   "execution_count": 3,
   "id": "0f456e22-cddb-4433-935f-84cfcad5813c",
   "metadata": {},
   "outputs": [
    {
     "data": {
      "text/plain": [
       "125295277839472"
      ]
     },
     "execution_count": 3,
     "metadata": {},
     "output_type": "execute_result"
    }
   ],
   "source": [
    "kardiz = \"Elveda Zalim Dünya!\"\n",
    "id(kardiz)"
   ]
  },
  {
   "cell_type": "markdown",
   "id": "e77ca3af-393c-4b54-aca5-e0d9afbdcc71",
   "metadata": {},
   "source": [
    "Orada söylediğimiz ve yukarıdaki örneklerden de bir kez daha gördüğünüz gibi, Python’daki her nesnenin kimliği eşşiz, tek ve benzersizdir.\n",
    "\n",
    "++++++++++++++input()\n",
    "\n",
    "Bu fonksiyonun ne işe yaradığını gayet iyi biliyorsunuz. input() adlı bu gömülü fonksiyonu kullanarak kullanıcı ile veri alışverişinde bulunabiliyoruz.\n",
    "\n",
    "++++++++++format()\n",
    "\n",
    "Bu gömülü fonksiyonun görevi, daha önce karakter dizilerini işlerken, karakter dizilerinin bir metodu olarak öğrendiğimiz format() metoduna benzer bir şekilde, karakter dizilerini biçimlendirmektir. Ancak format() fonksiyonu, daha önce öğrendiğimiz format() metoduna göre daha dar kapsamlıdır. format() metodunu kullanarak oldukça karmaşık karakter dizisi biçimlendirme işlemlerini gerçekleştirebiliriz, ama birazdan inceleyeceğimiz format() gömülü fonksiyonu yalnızca tek bir değeri biçimlendirmek için kullanılır.\n",
    "\n",
    "Basit bir örnek verelim:\n",
    "\n"
   ]
  },
  {
   "cell_type": "code",
   "execution_count": 4,
   "id": "0ee66d4c-667f-4de4-8ff6-0b87dd5e7dfc",
   "metadata": {},
   "outputs": [
    {
     "data": {
      "text/plain": [
       "'12.00'"
      ]
     },
     "execution_count": 4,
     "metadata": {},
     "output_type": "execute_result"
    }
   ],
   "source": [
    "format(12, '.2f')\n"
   ]
  },
  {
   "cell_type": "markdown",
   "id": "cc03c11f-d20e-4bfa-8a74-977ef72a22c2",
   "metadata": {},
   "source": [
    "Yukarıdaki ifadeyi daha önce gördüğümüz format() metodu ile şu şekilde yazabiliriz:"
   ]
  },
  {
   "cell_type": "code",
   "execution_count": 6,
   "id": "bba2cf13-f165-4c24-92fe-91a0369bc9a2",
   "metadata": {},
   "outputs": [
    {
     "data": {
      "text/plain": [
       "'12.00'"
      ]
     },
     "execution_count": 6,
     "metadata": {},
     "output_type": "execute_result"
    }
   ],
   "source": [
    "'{:.2f}'.format(12)"
   ]
  },
  {
   "cell_type": "markdown",
   "id": "40a06f18-76c0-459c-a2d4-7f8dd19a0b3c",
   "metadata": {},
   "source": [
    "+++++++++filter()\n",
    "\n",
    "Bu gömülü fonksiyon yardımıyla dizi niteliği taşıyan nesneler içindeki öğeler üzerinde belirli bir ölçüte göre bir süzme işlemi uygulayabiliriz. Dilerseniz filter() fonksiyonunun görevini bir örnek üzerinden anlamaya çalışalım.\n",
    "\n",
    "Diyelim ki elimizde şöyle bir liste var:"
   ]
  },
  {
   "cell_type": "code",
   "execution_count": 7,
   "id": "15c68ff6-06c0-4133-a22f-6058143c8de5",
   "metadata": {},
   "outputs": [],
   "source": [
    "l = [400, 176, 64, 175, 355, 13, 207, 298, 397, 386, 31, 120, 120, 236, 241, 123, 249, 364, 292, 153]"
   ]
  },
  {
   "cell_type": "markdown",
   "id": "0eca1fbc-a3af-40d2-b56b-8e94bb6c950d",
   "metadata": {},
   "source": [
    "Amacımız bu liste içindeki tek sayıları süzmek.\n",
    "\n",
    "Daha önce öğrendiğimiz yöntemleri kullanarak bu görevi şu şekilde yerine getirebiliriz:\n",
    "\n"
   ]
  },
  {
   "cell_type": "code",
   "execution_count": 8,
   "id": "51e2888c-ba42-45fa-815b-53a146689afa",
   "metadata": {},
   "outputs": [
    {
     "name": "stdout",
     "output_type": "stream",
     "text": [
      "175\n",
      "355\n",
      "13\n",
      "207\n",
      "397\n",
      "31\n",
      "241\n",
      "123\n",
      "249\n",
      "153\n"
     ]
    }
   ],
   "source": [
    "for i in l:\n",
    "    if i % 2 == 1:\n",
    "            print(i)"
   ]
  },
  {
   "cell_type": "markdown",
   "id": "4f28c846-7b0d-4880-88f1-73eb4c3965c9",
   "metadata": {},
   "source": [
    "Hatta eğer istersek liste üreteçlerini kullanarak aynı işlemi daha kısa bir yoldan da halledebiliriz:\n",
    "\n"
   ]
  },
  {
   "cell_type": "code",
   "execution_count": 9,
   "id": "d69182ff-b0a5-4f33-972a-22ef99d50c5b",
   "metadata": {},
   "outputs": [
    {
     "data": {
      "text/plain": [
       "[175, 355, 13, 207, 397, 31, 241, 123, 249, 153]"
      ]
     },
     "execution_count": 9,
     "metadata": {},
     "output_type": "execute_result"
    }
   ],
   "source": [
    "[i for i in l if i % 2 == 1]"
   ]
  },
  {
   "cell_type": "markdown",
   "id": "bc04f300-7477-4b8d-9081-b5cd3119ada8",
   "metadata": {},
   "source": [
    "İşte Python, yukarıdaki işlemi yapabilmemiz için bize üçüncü bir yol daha sunar. Bu üçüncü yolun adı filter() fonksiyonudur. Dikkatlice bakın:\n",
    "\n"
   ]
  },
  {
   "cell_type": "code",
   "execution_count": 10,
   "id": "bff58b9e-3d4e-4f30-9b4b-a390a9d6dfc7",
   "metadata": {},
   "outputs": [
    {
     "name": "stdout",
     "output_type": "stream",
     "text": [
      "175 355 13 207 397 31 241 123 249 153\n"
     ]
    }
   ],
   "source": [
    "def tek(sayı):\n",
    "    return sayı % 2 == 1\n",
    "\n",
    "print(*filter(tek, l))"
   ]
  },
  {
   "cell_type": "markdown",
   "id": "0b2aed22-3579-41ab-aa35-142506f33416",
   "metadata": {},
   "source": [
    "Dilerseniz bu kodları daha iyi anlayabilmek için filter() fonksiyonuna biraz daha yakından bakalım…\n",
    "\n",
    "filter() fonksiyonu toplam iki parametre alır. Bu parametrelerden ilki ölçütü belirleyen fonksiyon, ikincisi ise bu ölçütün uygulanacağı öğedir. Yukarıdaki örneğe baktığımızda, tek() adlı fonksiyonun, l adlı öğe üzerine uygulandığını görüyoruz.\n",
    "\n",
    "Yukarıdaki örnekte ilk olarak tek() adlı bir fonksiyon tanımladık:"
   ]
  },
  {
   "cell_type": "code",
   "execution_count": null,
   "id": "080a44a9-5943-4a6e-8f1d-d424bbac1a27",
   "metadata": {},
   "outputs": [],
   "source": [
    "def tek(sayı):\n",
    "    return sayı % 2 == 1"
   ]
  },
  {
   "cell_type": "markdown",
   "id": "54773ce8-c87b-4400-874e-b4e369921a15",
   "metadata": {},
   "source": [
    "Bu fonksiyonun görevi, kendisine parametre olarak verilen bir sayının tek sayı olup olmadığını sorgulamak. Eğer verilen parametre bir tek sayı ise fonksiyonumuz True değerini, tek sayı değilse False değerini döndürecektir. İsterseniz fonksiyonumuzu test edelim:\n",
    "\n"
   ]
  },
  {
   "cell_type": "code",
   "execution_count": 11,
   "id": "d0aeb343-b85a-4714-84c4-178e141082ea",
   "metadata": {},
   "outputs": [
    {
     "name": "stdout",
     "output_type": "stream",
     "text": [
      "False\n"
     ]
    }
   ],
   "source": [
    "print(tek(12))"
   ]
  },
  {
   "cell_type": "markdown",
   "id": "b016ea34-7e32-4f80-9562-9d213b43e765",
   "metadata": {},
   "source": [
    "12 sayısı bir tek sayı olmadığı için fonksiyonumuz bize False çıktısı verir.\n",
    "\n",
    "Bir de şuna bakalım:"
   ]
  },
  {
   "cell_type": "code",
   "execution_count": 12,
   "id": "a7322e63-4ca3-4f3e-bf49-ada9f32876f8",
   "metadata": {},
   "outputs": [
    {
     "name": "stdout",
     "output_type": "stream",
     "text": [
      "True\n"
     ]
    }
   ],
   "source": [
    "print(tek(117))\n"
   ]
  },
  {
   "cell_type": "markdown",
   "id": "9dff03fd-0306-43ba-9bae-8a03806eac76",
   "metadata": {},
   "source": [
    "117 sayısı ise bir tek sayıdır. Bu nedenle fonksiyonumuz bize True değerini verecektir.\n",
    "\n",
    "İşte biz bu fonksiyonu, filter() fonksiyonu yardımıyla şu liste üzerine uygulayacağız:"
   ]
  },
  {
   "cell_type": "code",
   "execution_count": null,
   "id": "784f2d08-14b9-4443-a76f-c549c6cef9da",
   "metadata": {},
   "outputs": [],
   "source": [
    "l = [400, 176, 64, 175, 355, 13, 207, 298, 397, 386, 31,\n",
    "     120, 120, 236, 241, 123, 249, 364, 292, 153]"
   ]
  },
  {
   "cell_type": "markdown",
   "id": "88d40071-22f2-46e2-95da-4eb4ec7f14b6",
   "metadata": {},
   "source": [
    "Dediğimiz gibi, filter() fonksiyonu, dizi özelliği taşıyan nesneler üzerinde belli bir ölçüte göre filtreleme işlemi yapmamızı sağlar. Biz de biraz önce tanımladığımız tek() adlı fonksiyonu l adlı bu listeye uygulayarak liste içindeki tek sayıları filtreleyeceğiz.\n",
    "\n",
    "filter() fonksiyonunu çalıştıralım:"
   ]
  },
  {
   "cell_type": "code",
   "execution_count": 13,
   "id": "4891e427-36fc-4d06-8df3-61b7b0a79fcf",
   "metadata": {},
   "outputs": [
    {
     "data": {
      "text/plain": [
       "<filter at 0x71f4948bb760>"
      ]
     },
     "execution_count": 13,
     "metadata": {},
     "output_type": "execute_result"
    }
   ],
   "source": [
    "filter(tek, l)"
   ]
  },
  {
   "cell_type": "markdown",
   "id": "77023d71-6c57-4b9e-b37a-451f16f54175",
   "metadata": {},
   "source": [
    "Burada filter() fonksiyonuna ilk parametre olarak tek() fonksiyonunu verdik. İkinci parametremiz ise bu fonksiyonu uygulayacağımız l adlı liste. Amacımız, l adlı liste üzerine tek() fonksiyonunu uygulayarak, bu liste içindeki öğelerden True çıktısı verenleri (yani tek sayıları) ayıklamak.\n",
    "\n",
    "Şimdi de yukarıdaki koddan aldığımız çıktıya bakalım:"
   ]
  },
  {
   "cell_type": "markdown",
   "id": "37807066-0b03-4538-b479-9b1e62d8de69",
   "metadata": {},
   "source": [
    "Gördüğünüz gibi, bu fonksiyonu bu şekilde kullandığımızda elde ettiğimiz şey bir ‘filtre nesnesi’. Bu nesne içindeki öğeleri görebilmek için ne yapabileceğimizi biliyorsunuz:\n",
    "\n"
   ]
  },
  {
   "cell_type": "code",
   "execution_count": 14,
   "id": "e0dad38a-4c7b-40b4-ab0a-281bc136c9e7",
   "metadata": {},
   "outputs": [
    {
     "data": {
      "text/plain": [
       "[175, 355, 13, 207, 397, 31, 241, 123, 249, 153]"
      ]
     },
     "execution_count": 14,
     "metadata": {},
     "output_type": "execute_result"
    }
   ],
   "source": [
    "list(filter(tek, l))\n"
   ]
  },
  {
   "cell_type": "markdown",
   "id": "73c3cf6b-fd0f-437d-92f4-23ed6d45d902",
   "metadata": {},
   "source": [
    "veya:"
   ]
  },
  {
   "cell_type": "code",
   "execution_count": 15,
   "id": "21ed7136-a282-4521-b6f0-508bac80076f",
   "metadata": {},
   "outputs": [
    {
     "name": "stdout",
     "output_type": "stream",
     "text": [
      "175 355 13 207 397 31 241 123 249 153\n"
     ]
    }
   ],
   "source": [
    "print(*filter(tek, l))\n"
   ]
  },
  {
   "cell_type": "markdown",
   "id": "2c86fb8f-1b14-4de6-ba1f-15fd436e6f98",
   "metadata": {},
   "source": [
    "ya da:\n",
    "\n"
   ]
  },
  {
   "cell_type": "code",
   "execution_count": 16,
   "id": "ec4cc0ee-1a95-46fd-9edf-3fae84892721",
   "metadata": {},
   "outputs": [
    {
     "data": {
      "text/plain": [
       "[175, 355, 13, 207, 397, 31, 241, 123, 249, 153]"
      ]
     },
     "execution_count": 16,
     "metadata": {},
     "output_type": "execute_result"
    }
   ],
   "source": [
    "[i for i in filter(tek, l)]\n"
   ]
  },
  {
   "cell_type": "markdown",
   "id": "d2cd304d-55ac-4753-bfe8-8e7eecb8ea1b",
   "metadata": {},
   "source": [
    "Gördüğünüz gibi, gerçekten de l adlı liste içindeki bütün tek sayılar süzüldü.\n",
    "\n",
    "Gelin isterseniz filter() fonksiyonunu biraz daha iyi anlayabilmek için basit bir çalışma yapalım.\n",
    "\n",
    "Elimizde bir sınıftaki öğrencilerin Matematik sınavından aldığı notları içeren bir sözlük var:"
   ]
  },
  {
   "cell_type": "code",
   "execution_count": 17,
   "id": "4e58b9f9-17ac-4106-a052-96f9b07cf41e",
   "metadata": {},
   "outputs": [],
   "source": [
    "notlar = {'Ahmet'   : 60,\n",
    "          'Sinan'   : 50,\n",
    "          'Mehmet'  : 45,\n",
    "          'Ceren'   : 87,\n",
    "          'Selen'   : 99,\n",
    "          'Cem'     : 98,\n",
    "          'Can'     : 51,\n",
    "          'Kezban'  : 100,\n",
    "          'Hakan'   : 66,\n",
    "          'Mahmut'  : 80}"
   ]
  },
  {
   "cell_type": "markdown",
   "id": "f59e8e9e-3b02-449a-ae2d-05847e956886",
   "metadata": {},
   "source": [
    "Okulda kullanılan not sistemine göre yukarıdaki notları şu şekilde sınıflandırabiliyoruz:"
   ]
  },
  {
   "cell_type": "code",
   "execution_count": 18,
   "id": "4c903483-6057-4b07-b6e5-35858ecdcf87",
   "metadata": {},
   "outputs": [],
   "source": [
    "def not_durumu(n):\n",
    "    if n in range(0, 50): return 'F'\n",
    "    if n in range(50, 70): return 'D'\n",
    "    if n in range(70, 80): return 'C'\n",
    "    if n in range(80, 90): return 'B'\n",
    "    if n in range(90, 101): return 'A'"
   ]
  },
  {
   "cell_type": "markdown",
   "id": "e929224e-f9af-4fdc-a27a-2a070694b43f",
   "metadata": {},
   "source": [
    "Buna göre mesela print(not_durumu(54)) gibi bir kod yazdığımızda bu notun karşılık geldiği ‘D’ sayısını alabiliyoruz. Peki biz bu notları belli bir ölçüte göre süzmek, ayıklamak istersek ne yapabiliriz? Örneğin notu 70’ten yukarı olan öğrencileri listelemek istersek nasıl bir kod yazabiliriz?\n",
    "\n",
    "İşte böyle bir durumda filter() adlı gömülü fonksiyonu kullanabiliriz:"
   ]
  },
  {
   "cell_type": "code",
   "execution_count": 19,
   "id": "fc9d1008-b0f2-4885-ac06-59c36425fd0d",
   "metadata": {},
   "outputs": [
    {
     "name": "stdout",
     "output_type": "stream",
     "text": [
      "87 99 98 100 80\n"
     ]
    }
   ],
   "source": [
    "notlar = {'Ahmet'   : 60,\n",
    "          'Sinan'   : 50,\n",
    "          'Mehmet'  : 45,\n",
    "          'Ceren'   : 87,\n",
    "          'Selen'   : 99,\n",
    "          'Cem'     : 98,\n",
    "          'Can'     : 51,\n",
    "          'Kezban'  : 100,\n",
    "          'Hakan'   : 66,\n",
    "          'Mahmut'  : 80}\n",
    "\n",
    "def süz(n):\n",
    "    return n >= 70\n",
    "\n",
    "print(*filter(süz, notlar.values()))"
   ]
  },
  {
   "cell_type": "markdown",
   "id": "07a43f90-eb99-4a32-a6eb-2b24ded79998",
   "metadata": {},
   "source": [
    "Gördüğünüz gibi, filter() fonksiyonu, süz() adlı fonksiyon ile belirlediğimiz ölçütü notlar adlı sözlüğün değerleri üzerine tek tek uygulamamızı sağlıyor."
   ]
  },
  {
   "cell_type": "markdown",
   "id": "360c0345-1d12-447f-ba46-ffee37601ff8",
   "metadata": {},
   "source": [
    "hash()\n",
    "Bu fonksiyon, belirli türdeki nesnelere bir karma değeri vermemizi sağlar. Örneğin:"
   ]
  },
  {
   "cell_type": "code",
   "execution_count": 20,
   "id": "8f29bf4d-e421-4452-a62a-d32be2de269a",
   "metadata": {},
   "outputs": [
    {
     "data": {
      "text/plain": [
       "-5190468755543050344"
      ]
     },
     "execution_count": 20,
     "metadata": {},
     "output_type": "execute_result"
    }
   ],
   "source": [
    "hash('istihza')"
   ]
  },
  {
   "cell_type": "code",
   "execution_count": 21,
   "id": "528de028-fb1e-41c0-b2e6-11013a71c92c",
   "metadata": {},
   "outputs": [
    {
     "data": {
      "text/plain": [
       "-5149909365599437965"
      ]
     },
     "execution_count": 21,
     "metadata": {},
     "output_type": "execute_result"
    }
   ],
   "source": [
    "hash('python')\n"
   ]
  },
  {
   "cell_type": "markdown",
   "id": "6135183b-e4e8-4388-aaac-98eb12c4a2f9",
   "metadata": {},
   "source": [
    "Ancak bu fonksiyonun ürettiği çıktı aynı nesne için bütün sistemlerde aynı olmayabilir. Yani örneğin yukarıdaki hash('istihza') komutu 32 bitlik ve 64 bitlik işletim sistemlerinde birbirinden farklı sonuçlar verebilir. Ayrıca bu fonksiyonun ürettiği karma değerlerinin birbiriyle çakışma ihtimali de yüksektir. Dolayısıyla bu fonksiyonu kullanarak, mesela parola girişleri için karma değeri üretmek doğru olmaz."
   ]
  },
  {
   "cell_type": "markdown",
   "id": "214aa181-df00-41cf-8167-7c3f3df9341c",
   "metadata": {},
   "source": [
    "++++++++++isinstance()\n",
    "\n",
    "Hatırlarsanız daha ilk derslerimizde öğrendiğimiz type() adlı bir fonksiyon vardı. Bu fonksiyonu bir nesnenin hangi veri tipinde olduğunu tespit etmek için kullanıyorduk:"
   ]
  },
  {
   "cell_type": "code",
   "execution_count": 22,
   "id": "9e46a9a5-ae27-400d-8bef-f96f41073f55",
   "metadata": {},
   "outputs": [
    {
     "data": {
      "text/plain": [
       "str"
      ]
     },
     "execution_count": 22,
     "metadata": {},
     "output_type": "execute_result"
    }
   ],
   "source": [
    "type('istihza')\n"
   ]
  },
  {
   "cell_type": "markdown",
   "id": "6f235223-4b79-460b-94cd-3dee66ac6459",
   "metadata": {},
   "source": [
    "İşte buna benzer şekilde, tip denetimi için kullanabileceğimiz bir fonksiyon daha var. Bu fonksiyonun adı isinstance().\n",
    "\n",
    "Bu fonksiyonu şöyle kullanıyoruz:\n",
    "\n"
   ]
  },
  {
   "cell_type": "code",
   "execution_count": 23,
   "id": "8a172e01-2411-4868-acdc-1423adc1a901",
   "metadata": {},
   "outputs": [
    {
     "data": {
      "text/plain": [
       "True"
      ]
     },
     "execution_count": 23,
     "metadata": {},
     "output_type": "execute_result"
    }
   ],
   "source": [
    "isinstance('istihza', str)\n"
   ]
  },
  {
   "cell_type": "markdown",
   "id": "25d8b88e-a1e2-4500-a330-448d1daf4c15",
   "metadata": {},
   "source": [
    "Gördüğünüz gibi 'istihza' gerçekten bir karakter dizisi (str) olduğu için komutumuz True çıktısı veriyor.\n",
    "\n",
    "Bir de şuna bakalım:"
   ]
  },
  {
   "cell_type": "code",
   "execution_count": 24,
   "id": "72bc87f7-2fb9-4936-9268-6030ff4a3767",
   "metadata": {},
   "outputs": [
    {
     "data": {
      "text/plain": [
       "False"
      ]
     },
     "execution_count": 24,
     "metadata": {},
     "output_type": "execute_result"
    }
   ],
   "source": [
    "isinstance('istihza', list)\n"
   ]
  },
  {
   "cell_type": "markdown",
   "id": "05b6d4fc-2070-47e4-a6ae-6af82892c13e",
   "metadata": {},
   "source": [
    "'istihza' bir liste (list) olmadığı için komutumuz bu kez False çıktısı verdi.\n",
    "\n",
    "+++++++++++len()\n",
    "\n",
    "Bu fonksiyon yardımıyla nesnelerin uzunluklarını hesaplayabileceğimizi biliyorsunuz:\n"
   ]
  },
  {
   "cell_type": "code",
   "execution_count": 25,
   "id": "76e98215-4250-4053-bec0-17c24eb51ce5",
   "metadata": {},
   "outputs": [
    {
     "data": {
      "text/plain": [
       "7"
      ]
     },
     "execution_count": 25,
     "metadata": {},
     "output_type": "execute_result"
    }
   ],
   "source": [
    "len('istihza')"
   ]
  },
  {
   "cell_type": "code",
   "execution_count": 26,
   "id": "7007469b-e069-4730-9def-735afdff6c32",
   "metadata": {},
   "outputs": [
    {
     "data": {
      "text/plain": [
       "7"
      ]
     },
     "execution_count": 26,
     "metadata": {},
     "output_type": "execute_result"
    }
   ],
   "source": [
    "l = [1, 4, 5, 3, 2, 9, 10]\n",
    "len(l)\n"
   ]
  },
  {
   "cell_type": "markdown",
   "id": "33dbbef4-2147-4ada-9f95-fbbe76bcc118",
   "metadata": {},
   "source": [
    "++++++++map()\n",
    "\n",
    "Diyelim ki elimizde şöyle bir liste var:\n",
    "\n"
   ]
  },
  {
   "cell_type": "code",
   "execution_count": 27,
   "id": "6c4dc9bc-8e91-4a31-afd7-e039f3a3e372",
   "metadata": {},
   "outputs": [],
   "source": [
    "l = [1, 4, 5, 4, 2, 9, 10]\n"
   ]
  },
  {
   "cell_type": "markdown",
   "id": "2b2a20ad-8bd1-4874-b7cc-cb9b6a3bc017",
   "metadata": {},
   "source": [
    "Amacımız bu liste içindeki her öğenin karesini hesaplamak. Bunun için şöyle bir yol izleyebiliriz:\n",
    "\n"
   ]
  },
  {
   "cell_type": "code",
   "execution_count": 28,
   "id": "483603eb-6be9-41bf-9bac-7599f85c14f6",
   "metadata": {},
   "outputs": [],
   "source": [
    "for i in l:\n",
    "    i ** 2\n"
   ]
  },
  {
   "cell_type": "markdown",
   "id": "01f1f394-acad-468a-b0b2-8f139cdc6268",
   "metadata": {},
   "source": [
    "Böylece, istediğimiz gibi, bütün öğelerin karesini bulmuş olduk. Bu tür bir işlemi yapmanın bir başka yolu da map() adlı bir gömülü fonksiyondan yararlanmaktır. Dikkatlice bakın:\n",
    "\n"
   ]
  },
  {
   "cell_type": "code",
   "execution_count": 29,
   "id": "9427bdd2-5e78-43dd-af31-afc6697651b5",
   "metadata": {},
   "outputs": [],
   "source": [
    "def karesi(n):\n",
    "    return n ** 2\n"
   ]
  },
  {
   "cell_type": "markdown",
   "id": "92b6d368-a1c6-4c11-b40b-796e9ae0ba83",
   "metadata": {},
   "source": [
    "Burada bir n sayısının karesini hesaplayan bir fonksiyon tanımladık. Şimdi bu fonksiyonu l listesinin bütün öğeleri üzerine uygulayacağız:\n",
    "\n"
   ]
  },
  {
   "cell_type": "code",
   "execution_count": 30,
   "id": "72b38bcc-31ac-49ad-9c42-d30e6b06fe57",
   "metadata": {},
   "outputs": [
    {
     "data": {
      "text/plain": [
       "[1, 16, 25, 16, 4, 81, 100]"
      ]
     },
     "execution_count": 30,
     "metadata": {},
     "output_type": "execute_result"
    }
   ],
   "source": [
    "list(map(karesi, l))"
   ]
  },
  {
   "cell_type": "markdown",
   "id": "a1db76b3-a3d2-4f7f-82f0-17ae1cd5f1e6",
   "metadata": {},
   "source": [
    "++++++max()\n",
    "\n",
    "max() gömülü fonksiyonunun görevi, bir dizi içindeki en büyük öğeyi vermektir. Bu fonksiyon birkaç farklı parametre alır ve verdiği çıktı, aldığı parametrelerin türüne ve sayısına bağlı olarak değişiklik gösterebilir.\n",
    "\n",
    "Bu fonksiyonu en basit şu şekilde kullanabilirsiniz:\n",
    "\n"
   ]
  },
  {
   "cell_type": "markdown",
   "id": "3a8906bd-5226-4bf0-b905-31ffb06d4f05",
   "metadata": {},
   "source": [
    "max() fonksiyonu yukarıdaki şekilde çalıştırıldığında, kendisine verilen parametreler arasında en büyük olanı bulacaktır. Yukarıdaki parametrelerden en büyüğü 3 olduğu için de yukarıdaki komut 3 çıktısı verecektir.\n",
    "\n",
    "Yukarıdaki kodların sağladığı etkiyi şu şekilde de elde edebiliriz:"
   ]
  },
  {
   "cell_type": "code",
   "execution_count": 31,
   "id": "94b1c43e-e011-4915-8602-9b933b480982",
   "metadata": {},
   "outputs": [
    {
     "data": {
      "text/plain": [
       "3"
      ]
     },
     "execution_count": 31,
     "metadata": {},
     "output_type": "execute_result"
    }
   ],
   "source": [
    "liste = [1, 2, 3]\n",
    "max(liste)"
   ]
  },
  {
   "cell_type": "markdown",
   "id": "3b67cc43-41d7-4ee0-88bc-971cde4f23e0",
   "metadata": {},
   "source": [
    "max() fonksiyonu yukarıda gösterildiği gibi birtakım isimsiz parametrelerle birlikte key adlı isimli bir parametre de alır. Bu parametre yardımıyla max() fonksiyonunun ‘en büyük’ kavramını hangi ölçüte göre seçeceğini belirleyebiliriz. Örneğin:\n",
    "\n"
   ]
  },
  {
   "cell_type": "code",
   "execution_count": 32,
   "id": "c5963903-2492-401b-95f8-383c04082153",
   "metadata": {},
   "outputs": [
    {
     "data": {
      "text/plain": [
       "'abdullah'"
      ]
     },
     "execution_count": 32,
     "metadata": {},
     "output_type": "execute_result"
    }
   ],
   "source": [
    "isimler = ['ahmet', 'can', 'mehmet', 'selin', 'abdullah', 'kezban']\n",
    "max(isimler, key=len)\n"
   ]
  },
  {
   "cell_type": "markdown",
   "id": "3234bdaa-57ce-445e-9203-8d02e3e853bb",
   "metadata": {},
   "source": [
    "max() fonksiyonu öntanımlı olarak, ‘en büyük’ kavramını sayısal büyüklük üzerinden değerlendirir. Yani herhangi bir key parametresi kullanılmadığında, bu fonksiyon otomatik olarak bir dizi içindeki en büyük sayıyı bulur. Ancak eğer biz istersek, yukarıdaki örnekte olduğu gibi, ‘en büyük’ kavramının uzunluk cinsinden değerlendirilmesini de sağlayabiliriz.\n",
    "\n",
    "Yukarıdaki örnekte elimizde şöyle bir liste var:"
   ]
  },
  {
   "cell_type": "code",
   "execution_count": 33,
   "id": "f6c805db-268c-4051-8e51-465c3906f1a0",
   "metadata": {},
   "outputs": [],
   "source": [
    "isimler = ['ahmet', 'can', 'mehmet', 'selin', 'abdullah', 'kezban']"
   ]
  },
  {
   "cell_type": "markdown",
   "id": "b9c975f9-68a2-4d32-8ebb-815666dee1e0",
   "metadata": {},
   "source": [
    "Amacımız bu liste içindeki isimler arasından, en fazla harf içerenini bulmak. Bildiğiniz gibi Python’da bir karakter dizisinin uzunluğunu belirlemek için len() adlı bir fonksiyondan yararlanıyoruz. İşte aşağıdaki kod yardımıyla da max() fonksiyonunun ‘en büyük’ ölçütünü len() fonksiyonu üzerinden değerlendirmesini sağlıyoruz:"
   ]
  },
  {
   "cell_type": "code",
   "execution_count": 34,
   "id": "02e479de-fb19-445c-8ebb-29e1042add50",
   "metadata": {},
   "outputs": [
    {
     "data": {
      "text/plain": [
       "'abdullah'"
      ]
     },
     "execution_count": 34,
     "metadata": {},
     "output_type": "execute_result"
    }
   ],
   "source": [
    "max(isimler, key=len)"
   ]
  },
  {
   "cell_type": "markdown",
   "id": "18d9ca8b-3103-4e16-b3e2-7ff072333ea3",
   "metadata": {},
   "source": [
    "Bu arada key fonksiyonuna len() fonksiyonunu parantezsiz olarak verdiğimize dikkat edin.\n",
    "\n",
    "Gelin isterseniz max() fonksiyonunu biraz daha iyi anlamak için ufak bir çalışma yapalım.\n",
    "\n",
    "Diyelim ki elimizde şöyle bir sözlük var:\n",
    "\n"
   ]
  },
  {
   "cell_type": "code",
   "execution_count": 36,
   "id": "006e1024-16a2-441d-9d80-8007f226f4e8",
   "metadata": {},
   "outputs": [],
   "source": [
    "askerler = {'ahmet'     : 'onbaşı',\n",
    "            'mehmet'    : 'teğmen',\n",
    "            'ali'       : 'yüzbaşı',\n",
    "            'cevat'     : 'albay',\n",
    "            'berkay'    : 'üsteğmen',\n",
    "            'mahmut'    : 'binbaşı'}"
   ]
  },
  {
   "cell_type": "markdown",
   "id": "d4b1ccc6-129d-4c30-bc8d-8cae717313db",
   "metadata": {},
   "source": [
    "Amacımız bu sözlük içindeki en yüksek askeri rütbeyi bulmak. İşte bunun için max() fonksiyonundan yararlanabiliriz.\n",
    "\n",
    "Bildiğiniz gibi, max() fonksiyonu ölçüt olarak sayısal büyüklüğü göz önüne alıyor. Elbette askeri rütbeleri böyle bir ölçüte göre sıralamak pek mümkün değil. Ama eğer şöyle bir fonksiyon yazarsak işler değişir:"
   ]
  },
  {
   "cell_type": "code",
   "execution_count": 37,
   "id": "ae948745-04d6-4b2f-942c-e7b702007efc",
   "metadata": {},
   "outputs": [],
   "source": [
    "def en_yüksek_rütbe(rütbe):\n",
    "    rütbeler = {'er'        : 0,\n",
    "                'onbaşı'    : 1,\n",
    "                'çavuş'     : 2,\n",
    "                'asteğmen'  : 3,\n",
    "                'teğmen'    : 4,\n",
    "                'üsteğmen'  : 5,\n",
    "                'yüzbaşı'   : 6,\n",
    "                'binbaşı'   : 7,\n",
    "                'yarbay'    : 8,\n",
    "                'albay'     : 9}\n",
    "\n",
    "    return rütbeler[rütbe]"
   ]
  },
  {
   "cell_type": "markdown",
   "id": "62451cfc-b33a-49de-aa05-8eed45b2963d",
   "metadata": {},
   "source": [
    "Burada, rütbelerin her birine bir sayı verdik. En küçük rütbe en düşük sayıya, en yüksek rütbe ise en büyük sayıya sahip. Fonksiyonumuz bir adet parametre alıyor. Bu parametrenin adı rütbe. Yazdığımız fonksiyon, kendisine parametre olarak verilecek rütbeyi rütbeler adlı sözlükte arayıp, bu rütbeye karşılık gelen sayıyı döndürecek.\n",
    "\n",
    "Bu bilgileri kullanarak kodlarımızın son halini düzenleyelim:\n",
    "\n"
   ]
  },
  {
   "cell_type": "code",
   "execution_count": 39,
   "id": "3eccbe86-fd14-4300-8c7c-1bbf74953e3d",
   "metadata": {},
   "outputs": [],
   "source": [
    "def en_yüksek_rütbe(rütbe):\n",
    "    rütbeler = {'er'        : 0,\n",
    "                'onbaşı'    : 1,\n",
    "                'çavuş'     : 2,\n",
    "                'asteğmen'  : 3,\n",
    "                'teğmen'    : 4,\n",
    "                'üsteğmen'  : 5,\n",
    "                'yüzbaşı'   : 6,\n",
    "                'binbaşı'   : 7,\n",
    "                'yarbay'    : 8,\n",
    "                'albay'     : 9}\n",
    "\n",
    "    return rütbeler[rütbe]\n",
    "\n",
    "askerler = {'ahmet': 'onbaşı',\n",
    "            'mehmet': 'teğmen',\n",
    "            'ali': 'yüzbaşı',\n",
    "            'cevat': 'albay',\n",
    "            'berkay': 'üsteğmen',\n",
    "            'mahmut': 'binbaşı'}"
   ]
  },
  {
   "cell_type": "markdown",
   "id": "0482d72b-03bd-4dff-acbd-a13d60f81c1e",
   "metadata": {},
   "source": [
    "Artık max() fonksiyonunu askerler adlı sözlük üzerinde uygulayabiliriz:"
   ]
  },
  {
   "cell_type": "code",
   "execution_count": 44,
   "id": "c41be834-884e-4e6d-9821-67b4b9074f68",
   "metadata": {},
   "outputs": [
    {
     "name": "stdout",
     "output_type": "stream",
     "text": [
      "albay\n"
     ]
    }
   ],
   "source": [
    "print(max(askerler.values(), key=en_yüksek_rütbe))"
   ]
  },
  {
   "cell_type": "markdown",
   "id": "a03dfd78-e478-4323-8240-38e46fbbc507",
   "metadata": {},
   "source": [
    "Böylece askerler adlı sözlüğün değerleri en_yüksek_rütbe() fonksiyonunun sunduğu ölçüt üzerinden ele alınacak ve en büyük sayı değerine sahip olan rütbe çıktı olarak verilecektir.\n",
    "\n",
    "Yukarıdaki kodlar problemimizi çözüyor. Peki ama ya biz rütbe ile birlikte bu rütbeyi taşıyan askerin adını da öğrenmek istersek nasıl bir kod yazacağız?\n",
    "\n",
    "Bunun için de şöyle bir kod yazabiliriz:"
   ]
  },
  {
   "cell_type": "code",
   "execution_count": 45,
   "id": "9d6fc0c8-a56c-40b1-a101-62625a2f0c93",
   "metadata": {},
   "outputs": [
    {
     "name": "stdout",
     "output_type": "stream",
     "text": [
      "albay cevat\n"
     ]
    }
   ],
   "source": [
    "for k, v in askerler.items():\n",
    "    if askerler[k] in max(askerler.values(), key=en_yüksek_rütbe):\n",
    "        print(v, k)"
   ]
  },
  {
   "cell_type": "markdown",
   "id": "473922bd-8b2c-459b-ad3d-122d75e67ffa",
   "metadata": {},
   "source": [
    "Eğer isterseniz burada in işleci yerine == işlecini de kullanabilirsiniz:\n",
    "\n"
   ]
  },
  {
   "cell_type": "code",
   "execution_count": 46,
   "id": "afb043fb-69d1-4383-8181-20dd61ebebc2",
   "metadata": {},
   "outputs": [
    {
     "name": "stdout",
     "output_type": "stream",
     "text": [
      "albay cevat\n"
     ]
    }
   ],
   "source": [
    "for k, v in askerler.items():\n",
    "    if askerler[k] == max(askerler.values(), key=en_yüksek_rütbe):\n",
    "        print(v, k)"
   ]
  },
  {
   "cell_type": "markdown",
   "id": "b50ea439-2123-4274-92e9-2228cf7f40db",
   "metadata": {},
   "source": [
    "+++++++++min()\n",
    "\n",
    "min() fonksiyonu max() fonksiyonunun tam tersini yapar. Bildiğiniz gibi max() fonksiyonu bir dizi içindeki en büyük öğeyi buluyordu. İşte min() fonksiyonu da bir dizi içindeki en küçük öğeyi bulur. Bu fonksiyonun kullanımı max() ile aynıdır.\n",
    "\n"
   ]
  },
  {
   "cell_type": "markdown",
   "id": "afb87c69-78ee-4a6f-b705-4e1866c7c881",
   "metadata": {},
   "source": [
    "++++++++++open()\n",
    "\n",
    "Bu fonksiyon herhangi bir dosyayı açmak veya oluşturmak için kullanılır. Eğer dosyanın açılması veya oluşturulması esnasında bir hata ortaya çıkarsa IOError türünde bir hata mesajı verilir.\n",
    "\n",
    "Bu fonksiyonun formülü şudur:\n",
    "\n"
   ]
  },
  {
   "cell_type": "code",
   "execution_count": null,
   "id": "de96ae8b-3eff-407a-8fdc-abbd97ab5848",
   "metadata": {},
   "outputs": [],
   "source": [
    "open(dosya_adi, mode='r', buffering=-1, encoding=None,\n",
    "     errors=None, newline=None, closefd=True, opener=None)"
   ]
  },
  {
   "cell_type": "markdown",
   "id": "8c0da0b3-88e3-4c28-a546-aef0ab7dd532",
   "metadata": {},
   "source": [
    "Gördüğünüz gibi, bu fonksiyon pek çok farklı parametre alabiliyor. Biz şimdiye kadar bu parametrelerin yalnızca en sık kullanılanlarını işlemiştik. Şimdi ise geri kalan parametrelerin ne işe yaradığını da ele alacağız.\n",
    "\n",
    "Yukarıdaki formülden de görebileceğiniz gibi, open() fonksiyonunun ilk parametresi dosya_adi’dır. Yani açmak veya oluşturmak istediğimiz dosya adını bu parametre ile belirtiyoruz:"
   ]
  },
  {
   "cell_type": "code",
   "execution_count": null,
   "id": "c71863fd-317f-4d69-85de-868423718651",
   "metadata": {},
   "outputs": [],
   "source": [
    "open('falanca_dosya.txt')"
   ]
  },
  {
   "cell_type": "markdown",
   "id": "c1cab79a-6538-4a4f-96eb-de5898145578",
   "metadata": {},
   "source": [
    "Elbette eğer açmak istediğiniz dosya, o anda içinde bulunduğunuz dizinde değilse dosya adı olarak, o dosyanın tam adresini yazmanız gerekir. Mesela:"
   ]
  },
  {
   "cell_type": "code",
   "execution_count": null,
   "id": "240a53a0-ef6d-4406-868d-8dc89fe6491d",
   "metadata": {},
   "outputs": [],
   "source": [
    "open('/home/istihza/Desktop/dosya.txt')"
   ]
  },
  {
   "cell_type": "markdown",
   "id": "0436328d-9fd5-4706-b165-0a6006834331",
   "metadata": {},
   "source": [
    "Bu arada, dosya adresini yazarken ters taksim yerine düz taksim işaretlerini kullanmak daha doğru olacaktır. Bu taksim türü hem Windows’ta hem de GNU/Linux’ta çalışır. Ancak eğer ters taksim işaretlerini kullanacaksanız, dosya yolu içindeki sinsi kaçış dizilerine karşı dikkatli olmalısınız:"
   ]
  },
  {
   "cell_type": "code",
   "execution_count": 47,
   "id": "f69d4f6b-df47-42ff-81a3-ee9ddc143d6e",
   "metadata": {},
   "outputs": [
    {
     "ename": "FileNotFoundError",
     "evalue": "[Errno 2] No such file or directory: 'test\\nisan.txt'",
     "output_type": "error",
     "traceback": [
      "\u001b[0;31m---------------------------------------------------------------------------\u001b[0m",
      "\u001b[0;31mFileNotFoundError\u001b[0m                         Traceback (most recent call last)",
      "Cell \u001b[0;32mIn[47], line 1\u001b[0m\n\u001b[0;32m----> 1\u001b[0m f \u001b[38;5;241m=\u001b[39m \u001b[38;5;28;43mopen\u001b[39;49m\u001b[43m(\u001b[49m\u001b[38;5;124;43m'\u001b[39;49m\u001b[38;5;124;43mtest\u001b[39;49m\u001b[38;5;130;43;01m\\n\u001b[39;49;00m\u001b[38;5;124;43misan.txt\u001b[39;49m\u001b[38;5;124;43m'\u001b[39;49m\u001b[43m)\u001b[49m\n",
      "File \u001b[0;32m~/.local/lib/python3.10/site-packages/IPython/core/interactiveshell.py:324\u001b[0m, in \u001b[0;36m_modified_open\u001b[0;34m(file, *args, **kwargs)\u001b[0m\n\u001b[1;32m    317\u001b[0m \u001b[38;5;28;01mif\u001b[39;00m file \u001b[38;5;129;01min\u001b[39;00m {\u001b[38;5;241m0\u001b[39m, \u001b[38;5;241m1\u001b[39m, \u001b[38;5;241m2\u001b[39m}:\n\u001b[1;32m    318\u001b[0m     \u001b[38;5;28;01mraise\u001b[39;00m \u001b[38;5;167;01mValueError\u001b[39;00m(\n\u001b[1;32m    319\u001b[0m         \u001b[38;5;124mf\u001b[39m\u001b[38;5;124m\"\u001b[39m\u001b[38;5;124mIPython won\u001b[39m\u001b[38;5;124m'\u001b[39m\u001b[38;5;124mt let you open fd=\u001b[39m\u001b[38;5;132;01m{\u001b[39;00mfile\u001b[38;5;132;01m}\u001b[39;00m\u001b[38;5;124m by default \u001b[39m\u001b[38;5;124m\"\u001b[39m\n\u001b[1;32m    320\u001b[0m         \u001b[38;5;124m\"\u001b[39m\u001b[38;5;124mas it is likely to crash IPython. If you know what you are doing, \u001b[39m\u001b[38;5;124m\"\u001b[39m\n\u001b[1;32m    321\u001b[0m         \u001b[38;5;124m\"\u001b[39m\u001b[38;5;124myou can use builtins\u001b[39m\u001b[38;5;124m'\u001b[39m\u001b[38;5;124m open.\u001b[39m\u001b[38;5;124m\"\u001b[39m\n\u001b[1;32m    322\u001b[0m     )\n\u001b[0;32m--> 324\u001b[0m \u001b[38;5;28;01mreturn\u001b[39;00m \u001b[43mio_open\u001b[49m\u001b[43m(\u001b[49m\u001b[43mfile\u001b[49m\u001b[43m,\u001b[49m\u001b[43m \u001b[49m\u001b[38;5;241;43m*\u001b[39;49m\u001b[43margs\u001b[49m\u001b[43m,\u001b[49m\u001b[43m \u001b[49m\u001b[38;5;241;43m*\u001b[39;49m\u001b[38;5;241;43m*\u001b[39;49m\u001b[43mkwargs\u001b[49m\u001b[43m)\u001b[49m\n",
      "\u001b[0;31mFileNotFoundError\u001b[0m: [Errno 2] No such file or directory: 'test\\nisan.txt'"
     ]
    }
   ],
   "source": [
    "f = open('test\\nisan.txt')\n"
   ]
  },
  {
   "cell_type": "markdown",
   "id": "b5aa3df0-4d97-4159-ad40-6dfd32e77284",
   "metadata": {},
   "source": [
    "Burada problemin nisan.txt adlı dosyanın ilk harfi ile, bundan önce gelen ters taksim işaretinin birleşerek tesadüfen bir kaçış dizisi oluşturması olduğunu biliyorsunuz. Bu tür hatalara karşı ters taksim yerine düz taksim işaretlerini kullanabileceğiniz gibi r adlı kaçış dizisinden de yararlanabilirsiniz:\n",
    "\n"
   ]
  },
  {
   "cell_type": "code",
   "execution_count": null,
   "id": "79661fc4-393a-4841-a3b0-18d568cb0f8d",
   "metadata": {},
   "outputs": [],
   "source": [
    "f = open(r'test\\nisan.txt')\n"
   ]
  },
  {
   "cell_type": "markdown",
   "id": "09bcfab1-7f16-446b-a222-acc1d30c606a",
   "metadata": {},
   "source": [
    "open() fonksiyonunun ikinci parametresi olan mode’un da ne olduğunu biliyorsunuz. Bu parametre yardımıyla, herhangi bir dosyayı hangi kipte açmak istediğimizi belirtebiliyoruz.\n",
    "\n",
    "Bildiğiniz gibi, eğer mode parametresine herhangi bir değer vermezseniz Python ilgili dosyayı okuma kipinde açacaktır.\n",
    "\n",
    "Bu parametreye verebileceğiniz değerleri şöyle özetleyebiliriz:\n",
    "\n",
    "Karakter\n",
    "\n",
    "Anlamı\n",
    "\n",
    "‘r’\n",
    "\n",
    "Okuma kipidir. Öntanımlı değer budur.\n",
    "\n",
    "‘w’\n",
    "\n",
    "Yazma kipidir. Eğer belirtilen adda dosya zaten varsa o dosya silinir.\n",
    "\n",
    "‘x’\n",
    "\n",
    "Yeni bir dosya oluşturulup yazma kipinde açılır.\n",
    "\n",
    "‘a’\n",
    "\n",
    "Dosya ekleme kipinde açılır. Bu kip ile, varolan bir dosyanın sonuna eklemeler yapılabilir.\n",
    "\n",
    "‘b’\n",
    "\n",
    "Dosyaları ikili kipte açmak için kullanılır.\n",
    "\n",
    "‘t’\n",
    "\n",
    "Dosyaları metin kipinde açmak için kullanılır. Öntanımlı değerdir.\n",
    "\n",
    "‘+’\n",
    "\n",
    "Aynı dosya üzerinde hem okuma hem de yazma işlemleri yapılmasını sağlar.\n",
    "\n",
    "open() fonksiyonunun alabileceği bir başka parametre de buffering parametresidir. Bildiğiniz gibi, open() fonksiyonuyla bir dosyayı açıp bu dosyaya veri girdiğimizde bu veriler önce tampona alınacak, dosya kapandıktan sonra ise tamponda bekletilen veriler dosyaya işlenecektir. İşte bu buffering parametresi yardımıyla bu tampona alma işleminin nasıl yürüyeceğini belirleyebiliriz.\n",
    "\n",
    "Eğer dosyaya işlenecek verilerin tampona alınmadan doğrudan dosyaya işlenmesini isterseniz buffering değerini 0 olarak belirlersiniz. Yalnız bu değer sadece ikili kipte etkindir. Yani bir dosyayı eğer metin kipinde açıyorsanız buffering parametresinin değerini 0 yapamazsınız.\n",
    "\n",
    "Eğer dosyaya veri işlerken tampona alınan verilerin satır satır dosyaya eklenmesini isterseniz buffering değerini 1 olarak belirlersiniz. Bunun nasıl çalıştığını anlamak için şu örneği dikkatlice inceleyin:"
   ]
  },
  {
   "cell_type": "code",
   "execution_count": null,
   "id": "b1210759-7625-426c-9ace-6bf5fbfd85d1",
   "metadata": {},
   "outputs": [],
   "source": [
    "f = open('ni.txt', 'w', buffering=1)\n",
    "f.write('birinci satır\\n')\n"
   ]
  },
  {
   "cell_type": "code",
   "execution_count": null,
   "id": "60ef6433-379f-46c2-a691-3b5d39351419",
   "metadata": {},
   "outputs": [],
   "source": [
    "f.write('ikinci satır\\n')"
   ]
  },
  {
   "cell_type": "code",
   "execution_count": null,
   "id": "e9413ad7-57ef-4862-af95-d59d64007db1",
   "metadata": {},
   "outputs": [],
   "source": [
    "f.write('aaa')"
   ]
  },
  {
   "cell_type": "code",
   "execution_count": null,
   "id": "32cf0fe6-0a48-4c93-a7a6-8063e797332e",
   "metadata": {},
   "outputs": [],
   "source": [
    "f.write('\\n')\n"
   ]
  },
  {
   "cell_type": "markdown",
   "id": "f3615538-3fc6-4011-9a76-eb111285c61b",
   "metadata": {},
   "source": [
    "Burada her write() komutundan sonra ni.txt adlı dosyayı açıp bakarsanız, şu durumu görürsünüz:\n",
    "\n",
    "f.write('birinci satır\\n') komutuyla dosyaya bir satırlık veri ekledik ve bu veri dosyaya anında işlendi.\n",
    "\n",
    "f.write('ikinci satır\\n') komutuyla dosyaya bir satırlık başka bir veri daha ekledik ve bu veri de dosyaya anında işlendi.\n",
    "\n",
    "f.write('aaa') komutuyla eklenen veri satır değil. Çünkü satır sonuna işaret eden satır başı kaçış dizisini kullanmadık.\n",
    "\n",
    "f.write('\\n') komutuyla satır başı kaçış dizisini eklediğimiz anda bir önceki karakter dizisi ('aaa') de dosyaya eklenecektir.\n",
    "\n",
    "Ancak buffering parametresi bu 1 değerini yalnızca metin kipinde alabilir. Bu kısıtlamayı da aklımızın bir kenarına not edelim…\n",
    "\n",
    "0 ve 1 dışında buffering parametresine 1’den büyük bir değer verdiğinizde ise tampon boyutunun ne kadar olacağını kendiniz belirlemiş olursunuz.\n",
    "\n",
    "Yalnız çoğu durumda buffering parametresine herhangi bir özel değer atamanız gerekmeyecektir. Bu parametreye herhangi bir değer atamadığınızda, kullandığınız işletim sistemi tampona alma işlemlerininin nasıl yürütüleceğine ve tampon boyutuna kendisi karar verecektir. İşletim sisteminin sizin yerinize verdiği bu karar da çoğunlukla istediğiniz şey olacaktır… Eğer kendi sisteminizde öntanımlı tampon boyutunun ne olduğunu merak ediyorsanız şu komutları kullanabilirsiniz:"
   ]
  },
  {
   "cell_type": "code",
   "execution_count": 48,
   "id": "e11af080-2ed7-458b-a27d-0bbabbcefc4d",
   "metadata": {},
   "outputs": [
    {
     "data": {
      "text/plain": [
       "8192"
      ]
     },
     "execution_count": 48,
     "metadata": {},
     "output_type": "execute_result"
    }
   ],
   "source": [
    "import io\n",
    "io.DEFAULT_BUFFER_SIZE"
   ]
  },
  {
   "cell_type": "markdown",
   "id": "5a074284-ceb0-468f-99b1-85aab912bf74",
   "metadata": {},
   "source": [
    "Çoğu sistemde bu değer 4096 ve 8192 bayt olacaktır.\n",
    "\n",
    "open() fonksiyonunun alabileceği bir başka parametre de encoding parametresidir. Bu parametre, dosyanın hangi karakter kodlaması ile açılacağını belirler. Örneğin bir dosyayı ‘UTF-8’ karakter kodlaması ile açmak için şu komutu kullanıyoruz:"
   ]
  },
  {
   "cell_type": "code",
   "execution_count": null,
   "id": "81b83579-e8e1-427a-a111-861098241eac",
   "metadata": {
    "jupyter": {
     "source_hidden": true
    }
   },
   "outputs": [],
   "source": [
    "f = open('dosya', encoding='UTF-8')"
   ]
  },
  {
   "cell_type": "markdown",
   "id": "0f8e2644-771b-46c2-92e7-b8e313e16f1d",
   "metadata": {},
   "source": [
    "Üzerinde işlem yaptığınız dosyalarda özellikle Türkçe karakter sorunları yaşamak istemiyorsanız, bir dosyayı açarken mutlaka encoding parametresinin değerini de ayarlamanızı tavsiye ederim.\n",
    "\n",
    "Bir dosyayı açarken veya okurken herhangi bir karakter kodlama hatası ile karşılaştığınızda Python’ın ne tepki vermesi gerektiğini ise errors adlı parametre yardımıyla belirleyebilirsiniz.\n",
    "\n",
    "Eğer bu parametreye strict değerini verirseniz karakter kodlama hataları programınızın ValueError türünde bir hata vererek çalışmayı kesmesine neden olacaktır. Bu parametreye herhangi bir değer vermediğinizde de Python sanki strict değerini vermişsiniz gibi davranır.\n",
    "\n",
    "Eğer errors parametresine ignore değerini verirseniz kodlama hataları görmezden gelinecek, bu hataya sebep olan karakter silinecektir. Yalnız bu değerin veri kaybına yol açma ihtimalini de göz önünde bulundurmalısınız.\n",
    "\n",
    "Eğer errors parametresine replace değerini verirseniz kodlama hatasına yol açan karater ‘?’ veya ‘ufffd’ karakterleri ile değiştirilecektir.\n",
    "\n",
    "open() fonksiyonunun kabul ettiği bir başka parametre de newline adlı parametredir. Peki bu parametre ne işe yarar?\n",
    "\n",
    "Windows ve GNU/Linux işletim sistemleri satır sonlarını birbirlerinden farklı şekilde gösterir. GNU/Linux’ta yazılmış dosyalarda satır sonları \\n karakteri ile gösterilirken, Windows’ta yazılmış dosyalarda satır sonunda \\r\\n karakterleri bulunur. Eğer Windows ve GNU/Linux sistemleri arasında dosya alışverişi yapıyorsanız kimi durumlarda bu farklılık çeşitli sorunların ortaya çıkmasına yol açabilir. İşte dosyalarınızın hangi satır sonu karakterine sahip olacağını yukarıda bahsettiğimiz newline adlı parametre ile belirleyebilirsiniz. Örneğin:\n",
    "\n"
   ]
  },
  {
   "cell_type": "code",
   "execution_count": null,
   "id": "89626112-bafa-4f76-b36a-e51dfa262565",
   "metadata": {},
   "outputs": [],
   "source": [
    "f = open('dosya', newline='\\n')\n"
   ]
  },
  {
   "cell_type": "markdown",
   "id": "49c147a2-b32c-42b4-9792-41e208a0f8b8",
   "metadata": {},
   "source": [
    "Bu şekilde dosyanız hangi işletim sisteminde olursa olsun satır sonlarında \\n karakterine sahip olacaktır.\n",
    "\n",
    "Dosyaların metotlarını incelerseniz o listede fileno() adlı bir metodun olduğunu göreceksiniz. Bu metot, bize bir dosyanın ‘dosya tanımlayıcısını’ (file descriptor) verir. Dosya tanımlayıcıları, dosyaya işaret eden pozitif tam sayılardır. 0, 1 ve 2 sayıları standart girdi, standart çıktı ve standart hata dosyalarına ayrılmış olduğu için, sizin açtığınız ve üzerinde işlem yaptığınız dosyaların tanımlayıcıları 2 sayısından büyük olacaktır."
   ]
  },
  {
   "cell_type": "code",
   "execution_count": null,
   "id": "3188f51f-3584-4df5-80a1-979682e17e10",
   "metadata": {},
   "outputs": [],
   "source": [
    "f = open('ni.txt')\n",
    "f.fileno()"
   ]
  },
  {
   "cell_type": "raw",
   "id": "d23d4297-07fe-4fcc-96ed-aa631dd756b6",
   "metadata": {},
   "source": [
    "3"
   ]
  },
  {
   "cell_type": "markdown",
   "id": "84e7e29d-4638-49c5-ab87-e1d79ce7d547",
   "metadata": {},
   "source": [
    "İşte burada gördüğünüz sayı, ni.txt adlı dosyanın ‘dosya tanımlayıcısıdır. Her dosyanın dosya tanımlayıcısı benzersizdir:\n",
    "\n"
   ]
  },
  {
   "cell_type": "code",
   "execution_count": null,
   "id": "9eed3932-10fe-4ec3-bad0-4babfd9a9c32",
   "metadata": {},
   "outputs": [],
   "source": [
    "g = open('zi.txt')\n",
    "g.fileno()"
   ]
  },
  {
   "cell_type": "raw",
   "id": "7449631e-a935-470e-bd10-5a0e6595bde2",
   "metadata": {},
   "source": [
    "4"
   ]
  },
  {
   "cell_type": "markdown",
   "id": "e4aed689-59f4-4c80-b6a2-5a891da1cfa3",
   "metadata": {},
   "source": [
    "\n",
    "Python’da bir dosyayı open() fonksiyonuyla açarken dosya adını vermenin yanı sıra, dosyanın tanımlayıcısını da kullanabilirsiniz:\n",
    "\n"
   ]
  },
  {
   "cell_type": "code",
   "execution_count": null,
   "id": "fab6914d-743c-4872-aa94-26edf950751b",
   "metadata": {},
   "outputs": [],
   "source": [
    "z = open(4)"
   ]
  },
  {
   "cell_type": "markdown",
   "id": "0d60ef37-ae04-4fb6-abe8-a8fd81ad37f8",
   "metadata": {},
   "source": [
    "veya:\n",
    "\n"
   ]
  },
  {
   "cell_type": "code",
   "execution_count": null,
   "id": "ac6a37ff-d554-4fbe-8169-8e1cb1936d8d",
   "metadata": {},
   "outputs": [],
   "source": [
    "z = open(g.fileno())\n"
   ]
  },
  {
   "cell_type": "markdown",
   "id": "e991d36a-9e09-4d57-a890-f229314d73ac",
   "metadata": {},
   "source": [
    "Bu sayede, eğer isterseniz, elinizdeki dosyalarla daha ileri düzeyli işlemler yapabilirsiniz. Bir örnek verelim.\n",
    "\n",
    "Dediğimiz gibi, bir dosyanın tanımlayıcısı tek ve benzersizdir. Farklı dosyalar aynı tanımlayıcılara sahip olmaz:"
   ]
  },
  {
   "cell_type": "code",
   "execution_count": null,
   "id": "85a11e01-94dd-43b7-a3c6-4e8b6e3b9a6d",
   "metadata": {},
   "outputs": [],
   "source": [
    "a = open('aaa.txt')\n",
    "a.fileno()\n",
    "3"
   ]
  },
  {
   "cell_type": "code",
   "execution_count": null,
   "id": "95db7bfe-eae4-493f-9028-5bb3c6b03acb",
   "metadata": {},
   "outputs": [],
   "source": [
    "b = open('bbb.txt')\n",
    "b.fileno()\n",
    "4"
   ]
  },
  {
   "cell_type": "markdown",
   "id": "5b4c5751-944c-4f3e-b830-1732afa51e72",
   "metadata": {},
   "source": [
    "Şimdi şu örneklere bakın:"
   ]
  },
  {
   "cell_type": "code",
   "execution_count": null,
   "id": "26135251-ddbd-4303-938f-6b5dac441f30",
   "metadata": {},
   "outputs": [],
   "source": [
    "c = open(b.fileno(), closefd=False)\n"
   ]
  },
  {
   "cell_type": "markdown",
   "id": "7a46c070-9ccf-478c-a5f4-7569a7e488df",
   "metadata": {},
   "source": [
    "Bu şekilde b adlı dosyanın tanımlayıcısını kullanarak, aynı dosyayı bir de c adıyla açtık. Ancak burada kullandığımız closefd=False parametresine dikkat edin. Normalde dosyayı kapattığımızda dosyanın tanımlayıcısı serbest kalır ve başka bir dosya açıldığında bu tanımlayıcı yeni dosyaya atanır. Ama closefd parametresine False değeri verdiğimizde dosya kapansa bile, o dosyaya ait dosya tanımlayıcısı varolmaya devam edecektir.\n",
    "\n"
   ]
  },
  {
   "cell_type": "markdown",
   "id": "df76f56f-0377-4803-9654-8b9a086285c6",
   "metadata": {},
   "source": [
    "++++++++++++++pow()\n",
    "\n",
    "Daha önceki derslerimizde pek çok kez örneklerini verdiğimiz bu fonksiyon İngilizcedeki power (kuvvet) kelimesinin kısaltmasından oluşur. Adının anlamına uygun olarak, bu fonksiyonu bir sayının kuvvetlerini hesaplamak için kullanıyoruz.\n",
    "\n",
    "Bu fonksiyon en temel şekilde şöyle kullanılır:"
   ]
  },
  {
   "cell_type": "code",
   "execution_count": 49,
   "id": "964c5ef9-475e-4b3a-86ad-b86533fe912e",
   "metadata": {},
   "outputs": [
    {
     "data": {
      "text/plain": [
       "8"
      ]
     },
     "execution_count": 49,
     "metadata": {},
     "output_type": "execute_result"
    }
   ],
   "source": [
    "pow(2, 3)\n"
   ]
  },
  {
   "cell_type": "markdown",
   "id": "031472c1-2d80-4e52-9c8a-06dabf1810c2",
   "metadata": {},
   "source": [
    "Bu komutla 2 sayısının 3. kuvvetini hesaplamış oluyoruz.\n",
    "\n",
    "pow() fonksiyonu toplamda üç farklı parametre alır. İlk iki parametrenin ne olduğunu yukarıda örnekledik. Üçüncü parametre ise kuvvet hesaplaması sonucu elde edilen sayının modülüsünü hesaplayabilmemizi sağlar. Yani:\n",
    "\n"
   ]
  },
  {
   "cell_type": "code",
   "execution_count": 50,
   "id": "a24782f7-f6db-4fe4-a4be-27fabad18dc2",
   "metadata": {},
   "outputs": [
    {
     "data": {
      "text/plain": [
       "0"
      ]
     },
     "execution_count": 50,
     "metadata": {},
     "output_type": "execute_result"
    }
   ],
   "source": [
    "pow(2, 3, 2)\n"
   ]
  },
  {
   "cell_type": "markdown",
   "id": "106c0d2f-04ab-419f-8687-982f69ce0ce4",
   "metadata": {},
   "source": [
    "Burada yaptığımız şey şu: Öncelikle 2 sayısının 3. kuvvetini hesapladık. Elde ettiğimiz sayı 8. Ardından da bu sayının 2’ye bölünmesi işleminden kalan sayıyı elde ettik. Yani 0. Çünkü bildiğiniz gibi 8 % 2 işleminin sonucu 0’dır. Dolayısıyla yukarıdaki komut şuna eşdeğerdir:\n",
    "\n"
   ]
  },
  {
   "cell_type": "code",
   "execution_count": 51,
   "id": "0a4ff91d-ef40-421b-9ebc-6e673b4a9c2f",
   "metadata": {},
   "outputs": [
    {
     "data": {
      "text/plain": [
       "0"
      ]
     },
     "execution_count": 51,
     "metadata": {},
     "output_type": "execute_result"
    }
   ],
   "source": [
    "(2 ** 3) % 2\n"
   ]
  },
  {
   "cell_type": "markdown",
   "id": "a9b9f762-c170-4b2e-9634-ae8b8d253062",
   "metadata": {},
   "source": [
    "Ancak önceki derslerimizde de söylediğimiz gibi, pow() fonksiyonu çoğunlukla yalnızca ilk iki parametresi ile birlikte kullanılır:\n",
    "\n"
   ]
  },
  {
   "cell_type": "code",
   "execution_count": 52,
   "id": "ce1f9095-09cb-477a-89f9-405a6650d82e",
   "metadata": {},
   "outputs": [
    {
     "data": {
      "text/plain": [
       "144"
      ]
     },
     "execution_count": 52,
     "metadata": {},
     "output_type": "execute_result"
    }
   ],
   "source": [
    "pow(12, 2)\n"
   ]
  },
  {
   "cell_type": "markdown",
   "id": "0f989146-fb5a-4170-a592-ea289fa06a5d",
   "metadata": {},
   "source": [
    "++++++++++print()\n",
    "\n",
    "print() fonksiyonunu artık gayet iyi tanıyoruz. Bu fonksiyonu, bildiğiniz gibi, kullanıcılarımıza birtakım mesajlar göstermek için kullanıyoruz.\n",
    "\n",
    "Kullanımını daha önce ayrıntılı bir şekilde anlatmış olduğumuz bu fonksiyonu şu şekilde formüle edebiliriz:"
   ]
  },
  {
   "cell_type": "code",
   "execution_count": null,
   "id": "32d41d5b-5404-4ee6-9849-2b86330ad288",
   "metadata": {},
   "outputs": [],
   "source": [
    "print(deg1, deg2, deg3, ..., sep=' ', end='\\n', file=sys.stdout, flush=False)"
   ]
  },
  {
   "cell_type": "markdown",
   "id": "44c9e5bd-e902-454c-90bd-547b5eba5555",
   "metadata": {},
   "source": [
    "Burada;\n",
    "\n",
    "degx:\n",
    "Çıktı verilecek değerlerin ne olduğunu belirtir. Buraya 256 adete kadar değer yazabilirsiniz.\n",
    "\n",
    "sep:\n",
    "Çıktı verilirken değerlerin arasına hangi karakterin yerleştirileceğini belirtir. Bu değer öntanımlı olarak boşluk karakteridir.\n",
    "\n",
    "end:\n",
    "Çıktı verilecek son değerin ardından hangi karakterin iliştirileceğini belirtir. Bu değer öntanımlı olarak satır başı (\\n) karakteridir.\n",
    "\n",
    "file:\n",
    "Çıktıların hangi dosyaya yazılacağını belirtir. Öntanımlı olarak bu parametrenin değeri sys.stdout’tur. Yani print() fonksiyonu çıktılarını öntanımlı olarak standart çıktı konumuna gönderir.\n",
    "\n",
    "flush:\n",
    "Bildiğiniz gibi, herhangi bir dosyaya yazma işlemi sırasında dosyaya yazılacak değerler öncelikle tampona alınır. İşlem tamamlandıktan sonra tampondaki bu değerler topluca dosyaya aktarılır. İşte bu parametre, değerleri tampona almadan doğrudan dosyaya gönderebilmemizi sağlar. Bu parametrenin öntanımlı değeri False’tur. Yani değerler dosyaya yazılmadan önce öntanımlı olarak öncelikle tampona gider. Ama eğer biz bu parametrenin değerini True olarak değiştirirsek, değerler doğrudan dosyaya yazılır.\n",
    "\n"
   ]
  },
  {
   "cell_type": "markdown",
   "id": "691bbfdf-4431-4d8e-bfce-60abc723cd03",
   "metadata": {},
   "source": [
    "++++++++quit()\n",
    "\n",
    "Bu fonksiyonu programdan çıkmak için kullanıyoruz. Eğer bu fonksiyonu etkileşimli kabukta verecek olursanız etkileşimli kabuk kapanacaktır."
   ]
  },
  {
   "cell_type": "markdown",
   "id": "76a51799-45bf-4f09-9acb-36ad7beac4cf",
   "metadata": {},
   "source": [
    "++++++++++++range()\n",
    "\n",
    "Bu fonksiyonu belli bir aralıktaki sayıları listelemek için kullanıyoruz. Yani mesela 0 ile 10 arası sayıların listesini almak istersek şöyle bir komut yazabiliriz:\n",
    "\n"
   ]
  },
  {
   "cell_type": "code",
   "execution_count": 53,
   "id": "3235e75c-96cd-47c3-9a6c-eae7e641216f",
   "metadata": {},
   "outputs": [],
   "source": [
    "l = range(0, 10)\n"
   ]
  },
  {
   "cell_type": "markdown",
   "id": "e2fa4a36-fd02-4589-9573-159dfb42f858",
   "metadata": {},
   "source": [
    "Ancak burada dikkat etmemiz gereken bir özellik var: Bu fonksiyon aslında doğrudan herhangi bir sayı listesi oluşturmaz. Yukarıda l değişkenine atadığımız komutu ekrana yazdırırsak bunu daha net görebilirsiniz:\n",
    "\n"
   ]
  },
  {
   "cell_type": "code",
   "execution_count": 54,
   "id": "ceaa4cee-4cee-4a5f-ade6-9428583f1c78",
   "metadata": {},
   "outputs": [
    {
     "name": "stdout",
     "output_type": "stream",
     "text": [
      "range(0, 10)\n"
     ]
    }
   ],
   "source": [
    "print(l)\n"
   ]
  },
  {
   "cell_type": "markdown",
   "id": "7bc3329c-2855-4fd7-a119-6928744c808d",
   "metadata": {},
   "source": [
    "Bir de bu verinin tipine bakalım:\n",
    "\n"
   ]
  },
  {
   "cell_type": "code",
   "execution_count": 55,
   "id": "31ae4f4a-021c-4398-a413-aa15cd53a9ca",
   "metadata": {},
   "outputs": [
    {
     "data": {
      "text/plain": [
       "range"
      ]
     },
     "execution_count": 55,
     "metadata": {},
     "output_type": "execute_result"
    }
   ],
   "source": [
    "type(l)\n"
   ]
  },
  {
   "cell_type": "markdown",
   "id": "70c8d8e1-fbc8-4eb2-aa39-f50e07aac9a5",
   "metadata": {},
   "source": [
    "Gördüğünüz gibi, elimizdeki şey aslında bir sayı listesi değil, bir ‘range’ (aralık) nesnesidir. Biz bu nesneyi istersek başka veri tiplerine dönüştürebiliriz. Mesela bunu bir listeye dönüştürelim:\n",
    "\n"
   ]
  },
  {
   "cell_type": "code",
   "execution_count": 56,
   "id": "a30e2065-6564-4f21-a2ef-b9039dc96a8b",
   "metadata": {},
   "outputs": [
    {
     "data": {
      "text/plain": [
       "[0, 1, 2, 3, 4, 5, 6, 7, 8, 9]"
      ]
     },
     "execution_count": 56,
     "metadata": {},
     "output_type": "execute_result"
    }
   ],
   "source": [
    "list(l)"
   ]
  },
  {
   "cell_type": "markdown",
   "id": "5533c9ee-929d-4829-a12f-a1930d82d079",
   "metadata": {},
   "source": [
    "veya bir demete:"
   ]
  },
  {
   "cell_type": "code",
   "execution_count": 57,
   "id": "d51649a9-0070-4d1d-9beb-cc5335aedf0d",
   "metadata": {},
   "outputs": [
    {
     "data": {
      "text/plain": [
       "(0, 1, 2, 3, 4, 5, 6, 7, 8, 9)"
      ]
     },
     "execution_count": 57,
     "metadata": {},
     "output_type": "execute_result"
    }
   ],
   "source": [
    "tuple(l)"
   ]
  },
  {
   "cell_type": "markdown",
   "id": "e7949198-1eb0-4d7f-b89d-996c0ed945de",
   "metadata": {},
   "source": [
    "ya da bir kümeye veya dondurulmuş kümeye:\n",
    "\n"
   ]
  },
  {
   "cell_type": "code",
   "execution_count": 58,
   "id": "def1ac1d-1e56-47a3-ab4e-8f01712badf0",
   "metadata": {},
   "outputs": [
    {
     "data": {
      "text/plain": [
       "{0, 1, 2, 3, 4, 5, 6, 7, 8, 9}"
      ]
     },
     "execution_count": 58,
     "metadata": {},
     "output_type": "execute_result"
    }
   ],
   "source": [
    "set(l) #küme\n"
   ]
  },
  {
   "cell_type": "code",
   "execution_count": 59,
   "id": "81bb8fef-f2aa-4958-a0b4-64b991a1bd9d",
   "metadata": {},
   "outputs": [
    {
     "data": {
      "text/plain": [
       "frozenset({0, 1, 2, 3, 4, 5, 6, 7, 8, 9})"
      ]
     },
     "execution_count": 59,
     "metadata": {},
     "output_type": "execute_result"
    }
   ],
   "source": [
    "frozenset(l) #dondurulmuş küme\n"
   ]
  },
  {
   "cell_type": "markdown",
   "id": "1c202db9-1aef-4a47-9e0c-ee51b37f7a68",
   "metadata": {},
   "source": [
    "Bu ‘range’ nesnesini istediğiniz veri tipine dönüştürdükten sonra, dönüştürdüğünüz veri tipinin kuralları çerçevesinde elinizdeki veriyi işleyebilirsiniz.\n",
    "\n",
    "range() fonksiyonundan elde ettiğiniz ‘range’ nesnesinin içeriğini elde etmek için bunu başka bir veri tipine dönüştürmenin yanısıra, bu nesne üzerinde bir for döngüsü de kurabilirsiniz:"
   ]
  },
  {
   "cell_type": "code",
   "execution_count": 60,
   "id": "ad951bb8-1d1f-4ae1-a064-3760e3fd505e",
   "metadata": {},
   "outputs": [
    {
     "name": "stdout",
     "output_type": "stream",
     "text": [
      "0\n",
      "1\n",
      "2\n",
      "3\n",
      "4\n",
      "5\n",
      "6\n",
      "7\n",
      "8\n",
      "9\n"
     ]
    }
   ],
   "source": [
    "for i in range(10):\n",
    "    print(i)"
   ]
  },
  {
   "cell_type": "markdown",
   "id": "e4e0ee9e-10f3-4c15-899c-2c558be371f1",
   "metadata": {},
   "source": [
    "Ya da yıldızlı parametreler yardımıyla bu nesneyi print() fonksiyonuna göndererek, bu nesneyi istediğiniz gibi evirip çevirebilirsiniz:\n",
    "\n"
   ]
  },
  {
   "cell_type": "code",
   "execution_count": 61,
   "id": "76f7343b-cb66-47a6-be27-94a2ecbcfdfd",
   "metadata": {},
   "outputs": [
    {
     "name": "stdout",
     "output_type": "stream",
     "text": [
      "0, 1, 2, 3, 4, 5, 6, 7, 8, 9\n"
     ]
    }
   ],
   "source": [
    "print(*range(10), sep=\", \")"
   ]
  },
  {
   "cell_type": "markdown",
   "id": "1c1d5753-02d0-4484-9275-aa9ec4c0643e",
   "metadata": {},
   "source": [
    "Esasında, yukarıda nasıl kullanılacağına dair bazı örnekler verdiğimiz bu range() fonksiyonunu temel olarak şu şekilde formüle edebiliriz:"
   ]
  },
  {
   "cell_type": "raw",
   "id": "1f867e09-fece-4bd7-9211-eec94707379e",
   "metadata": {},
   "source": [
    "range(başlangıç_değer, bitiş_değeri, atlama_değeri)\n"
   ]
  },
  {
   "cell_type": "markdown",
   "id": "42e473f1-2660-4113-afc9-711200db2d72",
   "metadata": {},
   "source": [
    "Aşağıdaki örneği tekrar ele alalım:\n",
    "\n"
   ]
  },
  {
   "cell_type": "code",
   "execution_count": 62,
   "id": "e4ac87f8-50fd-4797-b3ea-a8582bb739d1",
   "metadata": {},
   "outputs": [
    {
     "data": {
      "text/plain": [
       "range(0, 10)"
      ]
     },
     "execution_count": 62,
     "metadata": {},
     "output_type": "execute_result"
    }
   ],
   "source": [
    "range(0, 10)\n"
   ]
  },
  {
   "cell_type": "markdown",
   "id": "9e3db66f-7318-4b41-98c4-78d252930296",
   "metadata": {},
   "source": [
    "Burada 0 başlangıç değeri, 10 ise bitiş değeridir. Buna göre oluşturulacak sayılar 0 ile 10 arasında olacaktır. Yalnız burada üretilecek sayı listesinde 0 sayısının dahil, 10 sayısının ise hariç olduğunu unutmuyoruz. Yani bu komutun bize vereceği ilk sayı 0; son sayı ise 9 olacaktır.\n",
    "\n",
    "range() fonksiyonunda başlangıç değerinin öntanımlı değeri 0’dır. Dolayısıyla istersek biz yukarıdaki komutu şöyle de yazabiliriz:"
   ]
  },
  {
   "cell_type": "code",
   "execution_count": 63,
   "id": "544f5f73-4aca-4bb9-956e-b9a8c8b0da27",
   "metadata": {},
   "outputs": [
    {
     "data": {
      "text/plain": [
       "range(0, 10)"
      ]
     },
     "execution_count": 63,
     "metadata": {},
     "output_type": "execute_result"
    }
   ],
   "source": [
    "range(10)"
   ]
  },
  {
   "cell_type": "markdown",
   "id": "c83ef7ad-d5b8-4b96-a468-8817fa78d881",
   "metadata": {},
   "source": [
    "Böylece Python bizim range(0, 10) komutunu kastettiğimizi varsayacaktır. Elbette eğer başlangıç değerinin 0 dışında bir değer olmasını istiyorsanız bunu özellikle belirtmeniz gerekir:"
   ]
  },
  {
   "cell_type": "code",
   "execution_count": 64,
   "id": "8b1726e9-06dd-4380-b599-cfaeaf701b29",
   "metadata": {},
   "outputs": [
    {
     "data": {
      "text/plain": [
       "range(10, 100)"
      ]
     },
     "execution_count": 64,
     "metadata": {},
     "output_type": "execute_result"
    }
   ],
   "source": [
    "range(10, 100)\n"
   ]
  },
  {
   "cell_type": "markdown",
   "id": "e8d60694-eccb-4cb2-a67e-78bc4dae3a37",
   "metadata": {},
   "source": [
    "Bu komut bize 10 ile (10 dahil) 100 arası (100 hariç) sayıları içeren bir ‘range’ nesnesi verecektir.\n",
    "\n",
    "Yukarıda verdiğimiz formülden de göreceğiniz gibi, başlangıç_değer ve bitiş_değer dışında range() fonksiyonu üçüncü bir parametre daha alabiliyor. Bu parametreye atlama_değeri adı verdik. Bu parametreyi şöyle kullanıyoruz:\n",
    "\n"
   ]
  },
  {
   "cell_type": "code",
   "execution_count": 65,
   "id": "b35a078d-75bb-4355-8a4b-0fd7c34b3a1c",
   "metadata": {},
   "outputs": [
    {
     "data": {
      "text/plain": [
       "[0, 2, 4, 6, 8]"
      ]
     },
     "execution_count": 65,
     "metadata": {},
     "output_type": "execute_result"
    }
   ],
   "source": [
    "list(range(0, 10, 2))\n"
   ]
  },
  {
   "cell_type": "markdown",
   "id": "c8f2ad6f-8baa-4e29-a755-c7da31203ac3",
   "metadata": {},
   "source": [
    "Gördüğünüz gibi, range() fonksiyonuna üçüncü parametre olarak verdiğimiz 2 sayısı, 0 ile 10 arası sayıların ikişer ikişer atlanarak üretilmesini sağladı."
   ]
  },
  {
   "cell_type": "markdown",
   "id": "2dbfdf4e-33b7-40f4-aa7c-8cd26fa43911",
   "metadata": {},
   "source": [
    "++++++++++reversed()\n",
    "\n",
    "Diyelim ki elimizde şöyle bir liste var:\n",
    "\n"
   ]
  },
  {
   "cell_type": "code",
   "execution_count": 66,
   "id": "64cffc43-931a-4a17-ba07-759afadfc72c",
   "metadata": {},
   "outputs": [],
   "source": [
    "isimler = ['ahmet', 'mehmet', 'veli', 'ayşe', 'çiğdem', 'ışık']"
   ]
  },
  {
   "cell_type": "markdown",
   "id": "fcf1a507-3adb-4a5d-90cb-c149cebd40f2",
   "metadata": {},
   "source": [
    "Eğer bu listedeki isimleri ters çevirmek, yani şöyle bir liste elde etmek isterseniz:\n",
    "\n"
   ]
  },
  {
   "cell_type": "code",
   "execution_count": 67,
   "id": "2ee240fc-cc7e-48ef-b835-16079a5ca244",
   "metadata": {},
   "outputs": [
    {
     "data": {
      "text/plain": [
       "['ışık', 'çiğdem', 'ayşe', 'veli', 'mehmet', 'ahmet']"
      ]
     },
     "execution_count": 67,
     "metadata": {},
     "output_type": "execute_result"
    }
   ],
   "source": [
    "['ışık', 'çiğdem', 'ayşe', 'veli', 'mehmet', 'ahmet']\n"
   ]
  },
  {
   "cell_type": "markdown",
   "id": "2ca3ecd1-196b-4691-a526-8c3df63f08eb",
   "metadata": {},
   "source": [
    "… ne yapmanız gerektiğini biliyorsunuz. Bu amaç için liste dilimleme yöntemlerinden yararlanabilirsiniz:\n",
    "\n"
   ]
  },
  {
   "cell_type": "code",
   "execution_count": 68,
   "id": "594d5b9e-ac18-4f09-8644-959bbbb0a8b9",
   "metadata": {},
   "outputs": [
    {
     "data": {
      "text/plain": [
       "['ışık', 'çiğdem', 'ayşe', 'veli', 'mehmet', 'ahmet']"
      ]
     },
     "execution_count": 68,
     "metadata": {},
     "output_type": "execute_result"
    }
   ],
   "source": [
    "isimler[::-1]\n"
   ]
  },
  {
   "cell_type": "markdown",
   "id": "2ea6d6ca-4ec3-47a7-9823-82d8d00e4ce3",
   "metadata": {},
   "source": [
    "İşte aynı işlevi reversed() adlı bir fonksiyon yardımıyla da yerine getirebilirsiniz:\n",
    "\n"
   ]
  },
  {
   "cell_type": "code",
   "execution_count": 69,
   "id": "10f84939-286f-4277-94cc-33bb339df2c9",
   "metadata": {},
   "outputs": [
    {
     "data": {
      "text/plain": [
       "<list_reverseiterator at 0x71f4948bb7c0>"
      ]
     },
     "execution_count": 69,
     "metadata": {},
     "output_type": "execute_result"
    }
   ],
   "source": [
    "reversed(isimler)\n"
   ]
  },
  {
   "cell_type": "markdown",
   "id": "bcf736f6-86dd-4b7a-97c2-4c15341fb6fa",
   "metadata": {},
   "source": [
    "Gördüğünüz gibi, tıpkı range() fonksiyonunda olduğu gibi, reversed() fonksiyonu da bize ürettiği öğelerin kendisi yerine, bir ‘nesne’ veriyor. Ama tabii ki bu bizim için bir sorun değil. Biz bu nesnenin içeriğini nasıl elde edebileceğimizi gayet iyi biliyoruz:\n",
    "\n"
   ]
  },
  {
   "cell_type": "code",
   "execution_count": 70,
   "id": "2a31105d-58f8-460a-829b-740327a68f26",
   "metadata": {},
   "outputs": [
    {
     "data": {
      "text/plain": [
       "['ışık', 'çiğdem', 'ayşe', 'veli', 'mehmet', 'ahmet']"
      ]
     },
     "execution_count": 70,
     "metadata": {},
     "output_type": "execute_result"
    }
   ],
   "source": [
    "list(reversed(isimler))\n"
   ]
  },
  {
   "cell_type": "markdown",
   "id": "bf8d9574-aff3-4551-9573-60b1d7520358",
   "metadata": {},
   "source": [
    "range() fonksiyonunu anlatırken sözünü ettiğimiz içerik elde etme yöntemlerini reversed() fonksiyonuna da uygulayabilirsiniz.\n",
    "\n",
    "++++++++sorted()\n",
    "\n",
    "\n",
    "Bu metot, daha önceki derslerimizden de bildiğiniz gibi, bir dizi içindeki öğeleri belirli bir ölçüte göre sıraya dizmemizi sağlıyor. Bununla ilgili çok basit bir örnek verelim:"
   ]
  },
  {
   "cell_type": "code",
   "execution_count": 71,
   "id": "2e1ea74f-62ba-4b62-b376-af54a15350c7",
   "metadata": {},
   "outputs": [
    {
     "data": {
      "text/plain": [
       "['a', 'e', 'h', 'm', 't']"
      ]
     },
     "execution_count": 71,
     "metadata": {},
     "output_type": "execute_result"
    }
   ],
   "source": [
    "sorted('ahmet')\n"
   ]
  },
  {
   "cell_type": "markdown",
   "id": "cf96ff35-35a8-4a90-aab3-f5a97345d285",
   "metadata": {},
   "source": [
    "Bu kodlar yardımıyla ahmet adlı karakter dizisi içindeki harfleri alfabe sırasına dizdik.\n",
    "\n",
    "Elbette bu fonksiyonu sadece karakter dizileri üzerine uygulamıyoruz. sorted() adlı fonksiyon, dizi özelliği taşıyan her türlü nesne üzerine uygulanabilir. Mesela demetlerin ve listelerin bir dizi olduğunu biliyoruz. Dolayısıyla:"
   ]
  },
  {
   "cell_type": "code",
   "execution_count": 72,
   "id": "dbf7a26d-9158-47b0-87b2-294d254dc73b",
   "metadata": {},
   "outputs": [
    {
     "data": {
      "text/plain": [
       "['armut', 'badem', 'elma', 'kiraz']"
      ]
     },
     "execution_count": 72,
     "metadata": {},
     "output_type": "execute_result"
    }
   ],
   "source": [
    "sorted(('elma', 'armut', 'kiraz', 'badem'))\n"
   ]
  },
  {
   "cell_type": "code",
   "execution_count": 73,
   "id": "2b65a812-8431-4dd6-9912-34444fcd872f",
   "metadata": {},
   "outputs": [
    {
     "data": {
      "text/plain": [
       "['armut', 'badem', 'elma', 'kiraz']"
      ]
     },
     "execution_count": 73,
     "metadata": {},
     "output_type": "execute_result"
    }
   ],
   "source": [
    "sorted(['elma', 'armut', 'kiraz', 'badem'])\n"
   ]
  },
  {
   "cell_type": "markdown",
   "id": "49d3f220-76f3-4bd5-881b-4ff3d52dc445",
   "metadata": {},
   "source": [
    "sorted() fonksiyonuna hangi türde bir veri tipi verirseniz verin, aldığınız çıktı her zaman bir liste olacaktır. Bunu unutmayın.\n",
    "\n",
    "Gördüğünüz gibi, sorted() fonksiyonu nesneler üzerinde bir sıralama işlemi gerçekleştiriyor. Ancak bu fonksiyonun bir problemi var.\n",
    "\n",
    "Dikkatlice bakın:"
   ]
  },
  {
   "cell_type": "code",
   "execution_count": 74,
   "id": "17aeec66-6a05-46f3-8fdf-684e4ec5854b",
   "metadata": {},
   "outputs": [
    {
     "data": {
      "text/plain": [
       "['ahmet', 'selin', 'zeynep', 'çiğdem', 'ışık', 'şebnem']"
      ]
     },
     "execution_count": 74,
     "metadata": {},
     "output_type": "execute_result"
    }
   ],
   "source": [
    "isimler = ['ahmet', 'çiğdem', 'ışık', 'şebnem', 'zeynep', 'selin']\n",
    "sorted(isimler)"
   ]
  },
  {
   "cell_type": "markdown",
   "id": "02eaad6a-f0e2-4e5b-ac17-38051b434254",
   "metadata": {},
   "source": [
    "Bu fonksiyon, Türkçe karakter içeren öğeleri düzgün sıralayamaz.\n",
    "\n",
    "Bu sorunu kısmen çözebilmek için locale adlı bir modül içindeki strxfrm() adlı bir fonksiyondan yararlanabilirsiniz:"
   ]
  },
  {
   "cell_type": "code",
   "execution_count": 75,
   "id": "3ec9d694-f135-4cc1-a65a-90c048bc382c",
   "metadata": {},
   "outputs": [],
   "source": [
    "import locale"
   ]
  },
  {
   "cell_type": "markdown",
   "id": "54256648-26f7-417b-b500-64bd76b48c06",
   "metadata": {},
   "source": [
    "Henüz modülleri öğrenmemiş de olsak, bir modülü kullanabilmek için öncelikle o modülü ‘içe aktarmamız’ gerektiğini artık biliyorsunuz. Bu işlemi import adlı bir komut yardımıyla yaptığımızı da biliyorsunuz.\n",
    "\n",
    "Şimdi de yerelimizi (locale) ‘Türkçe’ olarak ayarlayalım:\n",
    "\n"
   ]
  },
  {
   "cell_type": "code",
   "execution_count": null,
   "id": "510d68b2-50c5-4cf6-831a-0b86260a2e67",
   "metadata": {},
   "outputs": [],
   "source": [
    "locale.setlocale(locale.LC_ALL, 'tr_TR') #GNU/Linux\n",
    "locale.setlocale(locale.LC_ALL, 'Turkish_Turkey.1254') #Windows\n"
   ]
  },
  {
   "cell_type": "markdown",
   "id": "50857c75-cdb0-46b2-a4fe-17a7584db93d",
   "metadata": {},
   "source": [
    "Bu işlemleri yaptıktan sonra, sorted() fonksiyonunun key adlı bir parametresini kullanarak ve yine locale modülünün strxfrm() adlı fonksiyonundan faydalanarak Türkçe karakterler içeren listemizi sıralamayı deneyebiliriz:"
   ]
  },
  {
   "cell_type": "code",
   "execution_count": null,
   "id": "abfae030-d06f-43e4-8f7c-ad08dfd65c46",
   "metadata": {},
   "outputs": [],
   "source": [
    "sorted(isimler, key=locale.strxfrm)\n"
   ]
  },
  {
   "cell_type": "markdown",
   "id": "76bbe93e-4730-40db-b418-7662e29f5f75",
   "metadata": {},
   "source": [
    "locale modülü içinde bulunan strxfrm() adlı fonksiyon, karakter dizilerinin, o anda etkin yerel neyse, ona göre muamele görmesini sağlar. Biz yukarıda yerelimizi Türkçe olarak ayarladığımız için strxfrm() fonksiyonu, sorted() ile yapılan alfabe sırasına dizme işleminin Türkçenin kurallarına göre yapılmasını sağlıyor.\n",
    "\n",
    "Ancak bu yöntemin de sorunlu olduğunu bir süre sonra kendiniz de farkedeceksiniz. Mesela şu örneği inceleyin:"
   ]
  },
  {
   "cell_type": "code",
   "execution_count": null,
   "id": "ab8830c6-ef67-49d2-b568-b55f815ce0d7",
   "metadata": {},
   "outputs": [],
   "source": [
    "sorted('afgdhkıi', key=locale.strxfrm)\n"
   ]
  },
  {
   "cell_type": "markdown",
   "id": "66b76f33-f333-4482-b6a3-40a70eae8fb1",
   "metadata": {},
   "source": [
    "Gördüğünüz gibi, listede ‘i’ harfi ‘ı’ harfinden önce geliyor. Ama aslında bunun tersi olmalıydı.\n",
    "\n",
    "İşte böyle bir durumda, kendi sıralama mekanizmamızı kendimiz icat etmeliyiz. Peki ama nasıl?\n",
    "\n",
    "Bilgisayarlar farklı dillerdeki karakterleri her zaman doğru sıralayamasa da, sayıları her zaman doğru sıralar:"
   ]
  },
  {
   "cell_type": "code",
   "execution_count": null,
   "id": "16326885-cac0-4d8e-a1d5-49831b28d93f",
   "metadata": {},
   "outputs": [],
   "source": [
    "sorted([10, 9, 4, 14, 20])\n"
   ]
  },
  {
   "cell_type": "markdown",
   "id": "b6cc68c5-ceda-455e-8081-e59af5a6aad1",
   "metadata": {},
   "source": [
    "Bilgisayarların bu özelliğinden ve Python’daki sözlük veri tipinden yararlanarak kendi sıralama mekanizmamızı rahatlıkla icat edebiliriz.\n",
    "\n",
    "Öncelikle harflerimizi yazalım:\n",
    "\n"
   ]
  },
  {
   "cell_type": "code",
   "execution_count": 76,
   "id": "eceb0f5e-7929-4d91-84cd-bc8a385c0233",
   "metadata": {},
   "outputs": [],
   "source": [
    "harfler = \"abcçdefgğhıijklmnoöprsştuüvyz\"\n"
   ]
  },
  {
   "cell_type": "markdown",
   "id": "86a1aabf-846a-466b-a332-7d550398e5bc",
   "metadata": {},
   "source": [
    "Burada Türk alfabesini oluşturan harfleri sırasına göre dizdik. Şimdi bu harflerin her birine bir sayı vereceğiz:"
   ]
  },
  {
   "cell_type": "code",
   "execution_count": null,
   "id": "2db5c2ec-ced3-454d-a261-794fdfaa9234",
   "metadata": {},
   "outputs": [],
   "source": [
    "çevrim = {'a': 0, 'b': 1, 'c': 2, 'ç': 3, 'd': 4,\n",
    "          'e': 5, 'f': 6, 'g': 7, 'ğ': 8, 'h': 9,\n",
    "          'ı': 10, 'i': 11, 'j': 12, 'k': 13,\n",
    "          'l': 14, 'm': 15, 'n': 16, 'o': 17,\n",
    "          'ö': 18, 'p': 19, 'r': 20, 's': 21,\n",
    "          'ş': 22, 't': 23, 'u': 24, 'ü': 25,\n",
    "          'v': 26, 'y': 27, 'z': 28}"
   ]
  },
  {
   "cell_type": "markdown",
   "id": "5d425af9-6878-42c1-9cce-fb37fd6a08c4",
   "metadata": {},
   "source": [
    "Yalnız böyle her harfe karşılık gelen sayıyı elle yazmak yorucu olacaktır. Bu işlemi daha kolay bir şekilde yapabilmek için farklı teknikleri kullanabilirsiniz. Mesela daha önce öğrendiğimiz sözlük üreteçlerinden yararlanabilirsiniz:"
   ]
  },
  {
   "cell_type": "code",
   "execution_count": 77,
   "id": "0c62746d-dd77-448b-895b-57568f1498cb",
   "metadata": {},
   "outputs": [],
   "source": [
    "çevrim = {i: harfler.index(i) for i in harfler}\n"
   ]
  },
  {
   "cell_type": "markdown",
   "id": "c3c186b2-13c9-495a-a403-5188c1992348",
   "metadata": {},
   "source": [
    "Bu şekilde harfler değişkeni içindeki her bir harfin bir anahtar; bu harflerin harfler değişkeni içindeki sırasını gösteren her bir sayının ise bir değer olduğu bir sözlük oluşturmuş olduk.\n",
    "\n",
    "Şimdi isim listemizi alalım karşımıza:"
   ]
  },
  {
   "cell_type": "code",
   "execution_count": 78,
   "id": "9ef95d36-812b-4f3c-929d-ce74cedf3c97",
   "metadata": {},
   "outputs": [],
   "source": [
    "isimler = [\"ahmet\", \"ışık\", \"ismail\",\n",
    "           \"çiğdem\", \"can\", \"şule\"]"
   ]
  },
  {
   "cell_type": "markdown",
   "id": "2d3825c7-56b6-40f8-b056-c66b9e532ea3",
   "metadata": {},
   "source": [
    "Aynı şekilde key parametresine locale.strxfrm değerinin verilmesi de yetersiz kalacaktır:\n",
    "\n"
   ]
  },
  {
   "cell_type": "code",
   "execution_count": 79,
   "id": "606f63cd-408d-4a39-b1b0-d74add1685d4",
   "metadata": {},
   "outputs": [
    {
     "data": {
      "text/plain": [
       "['ahmet', 'can', 'ismail', 'çiğdem', 'ışık', 'şule']"
      ]
     },
     "execution_count": 79,
     "metadata": {},
     "output_type": "execute_result"
    }
   ],
   "source": [
    "sorted(isimler, key=locale.strxfrm)"
   ]
  },
  {
   "cell_type": "markdown",
   "id": "c56e18f7-3d4c-4e5f-97dc-5504b473cfc3",
   "metadata": {},
   "source": [
    "Ama biraz önce oluşturduğumuz çevrim anahtarını kullanırsak durum bambaşka olacaktır:\n",
    "\n"
   ]
  },
  {
   "cell_type": "code",
   "execution_count": 80,
   "id": "522a563a-309f-40cb-9b71-58044d961d27",
   "metadata": {},
   "outputs": [
    {
     "data": {
      "text/plain": [
       "['ahmet', 'can', 'çiğdem', 'ışık', 'ismail', 'şule']"
      ]
     },
     "execution_count": 80,
     "metadata": {},
     "output_type": "execute_result"
    }
   ],
   "source": [
    "sorted(isimler, key=lambda x: çevrim.get(x[0]))\n"
   ]
  },
  {
   "cell_type": "markdown",
   "id": "1da4ad04-9c27-4d45-be89-9088b0b9bd83",
   "metadata": {},
   "source": [
    "Ancak aslında burada da oldukça sinsi bir problem var. Bu metot ile kelime listesini oluşturan kelimeleri yalnızca ilk harflerine göre sıralıyoruz (x[0]). Peki ya aynı liste içinde ilk harfleri aynı olup, sonraki harflerde farklılaşan kelimeler varsa ne olacak? Yani mesela bu metot acaba ‘ismail’ ve ‘iskender’ kelimelerini doğru bir şekilde sıralayabilir mi? Bakalım:"
   ]
  },
  {
   "cell_type": "code",
   "execution_count": null,
   "id": "5176d031-698e-4fed-92b5-3bc48658988a",
   "metadata": {},
   "outputs": [],
   "source": [
    "harfler = \"abcçdefgğhıijklmnoöprsştuüvyz\"\n",
    "çevrim = {i: harfler.index(i) for i in harfler}\n",
    "\n",
    "isimler = [\"ahmet\", \"ışık\", \"ismail\", \"çiğdem\",\n",
    "           \"can\", \"şule\", \"iskender\"]\n",
    "\n",
    "print(sorted(isimler, key=lambda x: çevrim.get(x[0])))"
   ]
  },
  {
   "cell_type": "markdown",
   "id": "5be5e07c-57eb-44c3-9a28-cd09dc96fb1c",
   "metadata": {},
   "source": [
    "Buradan şu çıktıyı alıyoruz:"
   ]
  },
  {
   "cell_type": "code",
   "execution_count": null,
   "id": "1072373b-5583-4fe3-9a25-5ef1ca959bb5",
   "metadata": {},
   "outputs": [],
   "source": [
    "['ahmet', 'can', 'çiğdem', 'ışık', 'ismail', 'iskender', 'şule']"
   ]
  },
  {
   "cell_type": "markdown",
   "id": "63bd9847-d8d9-4172-af6a-86efb175250b",
   "metadata": {},
   "source": [
    "Gördüğünüz gibi ‘ismail’ ve ‘iskender’ kelimeleri doğru bir şekilde sıralanmadı; ‘iskender’ kelimesinin ‘ismail’ kelimesinden önce gelmesi gerekiyordu…\n",
    "\n",
    "Demek ki şimdiye kadar kullandığımız bütün sıralama yöntemlerinin bir eksiği varmış. O halde başka bir metot bulmaya çalışalım.\n",
    "\n",
    "Dikkatlice bakın:"
   ]
  },
  {
   "cell_type": "code",
   "execution_count": null,
   "id": "3da6605f-ad15-45e7-8d1a-62233306cd44",
   "metadata": {},
   "outputs": [],
   "source": [
    "harfler = 'abcçdefgğhıijklmnoöprsştuüvyz'\n",
    "çevrim = {i: harfler.index(i) for i in harfler}\n",
    "\n",
    "def sırala(kelime):\n",
    "    return ([çevrim.get(kelime[i]) for i in range(len(kelime))])\n",
    "\n",
    "isimler = ['ahmet', 'can', 'iskender', 'cigdem',\n",
    "           'ismet', 'ismail', 'ismit', 'çiğdem',\n",
    "           'ismıt', 'ışık', 'şule']\n",
    "\n",
    "print(*sorted(isimler, key=sırala), sep='\\n')\n"
   ]
  },
  {
   "cell_type": "markdown",
   "id": "db49c6f5-b833-4c88-bb88-c6cf055f59ed",
   "metadata": {},
   "source": [
    "Gelin bu kodları biraz inceleyelim.\n",
    "\n",
    "Burada ilk gördüğümüz kodlar şunlar:\n",
    "\n"
   ]
  },
  {
   "cell_type": "code",
   "execution_count": null,
   "id": "b0c0ec98-c282-459f-891d-737730a91540",
   "metadata": {},
   "outputs": [],
   "source": [
    "harfler = 'abcçdefgğhıijklmnoöprsştuüvyz'\n",
    "çevrim = {i: harfler.index(i) for i in harfler}"
   ]
  },
  {
   "cell_type": "markdown",
   "id": "a5ebc2be-b6f3-4e35-a960-051882e21998",
   "metadata": {},
   "source": [
    "Esasında siz bu kodların anlamını biliyorsunuz. Önceki derslerimizde de aynı kodları birkaç kez kullanmıştık. Yalnız biz burada, örnek olması açısından, harfler değişkeni için değer olarak yalnızca küçük harfleri kullandık. Bu kodları daha kapsamlı bir program içinde kullanacaksanız bu değişkenin uygun yerlerine mesela büyük harfleri ve noktalama işaretleriyle sayıları da eklemek isteyebilirsiniz.\n",
    "\n",
    "Sonraki satırlarda sırala() adlı bir fonksiyon tanımladık:"
   ]
  },
  {
   "cell_type": "code",
   "execution_count": null,
   "id": "6ae3cf7f-5372-40bf-8fd1-3be6a56f9e1c",
   "metadata": {},
   "outputs": [],
   "source": [
    "def sırala(kelime):\n",
    "    return ([çevrim.get(kelime[i]) for i in range(len(kelime))])"
   ]
  },
  {
   "cell_type": "markdown",
   "id": "463c1d26-7840-49ac-8d2c-6dad9cc27a2e",
   "metadata": {},
   "source": [
    "Burada liste üreteçlerinden yararlandığımıza dikkatinizi çekmek isterim:"
   ]
  },
  {
   "cell_type": "raw",
   "id": "edce1759-0409-4445-af79-2975d64bf250",
   "metadata": {},
   "source": [
    "[çevrim.get(kelime[i]) for i in range(len(kelime))]\n"
   ]
  },
  {
   "cell_type": "markdown",
   "id": "7eadc853-e4c5-4cb9-8f0a-7e057273ffe4",
   "metadata": {},
   "source": [
    "Bu kod yardımıyla kelime içinde geçen her bir harfi çevrim adlı sözlükte sorgulayarak, sözlükte ilgili harfe karşılık gelen sayıyı buluyoruz.\n",
    "\n",
    "Aslında bu kodları daha iyi anlayabilmek için Python’daki sorted() fonksiyonunun mantığını biraz daha derinlemesine incelememiz gerekiyor. Gelin şimdi bu inceleme işini yapalım:\n",
    "\n",
    "Diyelim ki elimizde şöyle bir liste var:\n",
    "\n"
   ]
  },
  {
   "cell_type": "code",
   "execution_count": null,
   "id": "5acf2cd4-812c-4853-9318-a18e03b9f285",
   "metadata": {},
   "outputs": [],
   "source": [
    "elemanlar = [('ahmet',       33,    'karataş'),\n",
    "             ('mehmet',      45,    'arpaçbahşiş'),\n",
    "             ('sevda',       24,    'arsuz'),\n",
    "             ('arzu',        40,    'siverek'),\n",
    "             ('abdullah',    30,    'payas'),\n",
    "             ('ilknur',      40,    'kilis'),\n",
    "             ('abdurrezzak', 40,    'bolvadin')]"
   ]
  },
  {
   "cell_type": "markdown",
   "id": "29e9a287-8dc6-4bce-82e3-31fc30e88ff3",
   "metadata": {},
   "source": [
    "Bu liste, her biri ‘isim’, ‘yaş’ ve ‘memleket’ bilgilerini içeren üç öğeli birer demetten oluşuyor. Eğer biz bu liste üzerine sorted() fonksiyonunu uygularsak:"
   ]
  },
  {
   "cell_type": "code",
   "execution_count": null,
   "id": "4d533802-5534-4c04-abb0-6362966ca2bc",
   "metadata": {},
   "outputs": [],
   "source": [
    "print(*sorted(elemanlar), sep='\\n')\n"
   ]
  },
  {
   "cell_type": "markdown",
   "id": "0ce2ef62-8711-4821-a1f7-8a50e30d911e",
   "metadata": {},
   "source": [
    "Python elemanları demetlerin ilk öğesine göre sıralayacaktır. Yani isme göre.\n",
    "\n",
    "Peki ya biz bu elemanları yaşa göre sıralamak istersek ne yapacağız?\n",
    "\n",
    "Bu amacı gerçekleştirmek için şöyle bir kod yazabiliriz:\n",
    "\n"
   ]
  },
  {
   "cell_type": "code",
   "execution_count": null,
   "id": "47cf75e5-0ce8-4622-939b-29fd0f57716b",
   "metadata": {},
   "outputs": [],
   "source": [
    "def sırala(liste):\n",
    "    return liste[1]\n",
    "\n",
    "elemanlar = [('ahmet',       33,    'karataş'),\n",
    "             ('mehmet',      45,    'arpaçbahşiş'),\n",
    "             ('sevda',       24,    'arsuz'),\n",
    "             ('arzu',        40,    'siverek'),\n",
    "             ('abdullah',    30,    'payas'),\n",
    "             ('ilknur',      40,    'kilis'),\n",
    "             ('abdurrezzak', 40,    'bolvadin')]\n",
    "\n",
    "print(*sorted(elemanlar, key=sırala), sep='\\n')"
   ]
  },
  {
   "cell_type": "markdown",
   "id": "76524a1c-410a-41fe-865e-cf98ff91839a",
   "metadata": {},
   "source": [
    "Bu örnek bize key parametresinin de ne işe yaradığını açık seçik gösteriyor. Eğer Python’ın kendi sıralama yönteminin dışında bir sıralama yöntemi uygulayacaksak, bu sıralama yönteminin ne olduğunu bir fonksiyon yardımıyla tarif edip bunu key parametresine değer olarak veriyoruz. Örneğin biz yukarıdaki Python’ın elemanlar adlı listeyi ilk sütuna (‘isim’ sütunu) göre değil, ikinci sütuna (‘yaş’ sütunu) göre sıralamasını istedik. Bunun için de şöyle bir fonksiyon yazdık:"
   ]
  },
  {
   "cell_type": "code",
   "execution_count": null,
   "id": "d6e4dddd-82c0-400e-a615-ee06483178d9",
   "metadata": {},
   "outputs": [],
   "source": [
    "def sırala(liste):\n",
    "    return liste[1]\n"
   ]
  },
  {
   "cell_type": "markdown",
   "id": "ec448b07-450f-40ee-9bdf-5c6456c40143",
   "metadata": {},
   "source": [
    "Bu fonksiyon, kendisine parametre olarak verilen nesnenin ikinci öğesini döndürüyor. İşte biz sorted() fonksiyonunun key parametresine bu fonksiyonu verdiğimizde Python sıralama işleminde elemanlar listesinin ikinci öğesini dikkate alacaktır. Eğer Python’ın sıralama işleminde mesela üçüncü sütunu dikkate almasını isterseniz sırala() fonksiyonunu şöyle yazabilirsiniz:"
   ]
  },
  {
   "cell_type": "code",
   "execution_count": null,
   "id": "fd2e3764-5720-4829-af3f-b7587af9ab0e",
   "metadata": {},
   "outputs": [],
   "source": [
    "def sırala(liste):\n",
    "    return liste[2]"
   ]
  },
  {
   "cell_type": "markdown",
   "id": "51a84a89-757e-4a42-96a6-20a7efa39c49",
   "metadata": {},
   "source": [
    "Gördüğünüz gibi, elemanlar listesinin ikinci sütununda değeri aynı olan öğeler var. Mesela ‘arzu’, ‘ilknur’ ve ‘abdurrezzak’ 40 yaşında. Python bu öğeleri sıralarken, bunların listede geçtiği sırayı dikkate alacaktır. Ama bazen biz sıralamanın böyle olmasını istemeyebiliriz. Mesela bizim istediğimiz şey, değeri aynı olan öğeler için üçüncü sütunun (veya birinci sütunun) dikkate alınması olabilir. İşte bunun için de sırala() fonksiyonunu şu şekilde tanımlayabiliriz:"
   ]
  },
  {
   "cell_type": "code",
   "execution_count": null,
   "id": "ee58bbbf-c761-4e97-a3c2-0accd63119e6",
   "metadata": {},
   "outputs": [],
   "source": [
    "def sırala(liste):\n",
    "    return (liste[1], liste[2])"
   ]
  },
  {
   "cell_type": "markdown",
   "id": "deb477e3-de74-4fe1-a1dd-39366ccb48fe",
   "metadata": {},
   "source": [
    "Gördüğünüz gibi burada sırala() fonksiyonu bize iki öğeli bir demet döndürüyor.\n",
    "\n",
    "Kodlarımız tam olarak şöyle görünecek:\n",
    "\n"
   ]
  },
  {
   "cell_type": "code",
   "execution_count": null,
   "id": "4038cfa9-12f5-4aff-891a-b432850296a0",
   "metadata": {},
   "outputs": [],
   "source": [
    "def sırala(liste):\n",
    "    return (liste[1], liste[2])\n",
    "\n",
    "elemanlar = [('ahmet',       33,    'karataş'),\n",
    "             ('mehmet',      45,    'arpaçbahşiş'),\n",
    "             ('sevda',       24,    'arsuz'),\n",
    "             ('arzu',        40,    'siverek'),\n",
    "             ('abdullah',    30,    'payas'),\n",
    "             ('ilknur',      40,    'kilis'),\n",
    "             ('abdurrezzak', 40,    'bolvadin')]\n",
    "\n",
    "print(*sorted(elemanlar, key=sırala), sep='\\n')"
   ]
  },
  {
   "cell_type": "markdown",
   "id": "2540a539-010e-43f2-b916-ae22b10bb501",
   "metadata": {},
   "source": [
    "Kodlarımızı böyle yazdığımızda Python listeyi ilk olarak ikinci sütundaki ‘yaş’ değerlerine göre sıralar. Değeri aynı olan öğelerle karşılaştığında ise üçüncü sütundaki ‘memleket’ değerlerine bakar ve sıralamayı ona göre yapar.\n",
    "\n",
    "Bütün bu açıklamalardan sonra yukarıdaki şu kodları daha iyi anlıyor olmalısınız:"
   ]
  },
  {
   "cell_type": "code",
   "execution_count": null,
   "id": "b16009be-c3e3-40b2-aa03-d0a0b8e0b46b",
   "metadata": {},
   "outputs": [],
   "source": [
    "harfler = 'abcçdefgğhıijklmnoöprsştuüvyz'\n",
    "çevrim = {i: harfler.index(i) for i in harfler}\n",
    "\n",
    "def sırala(kelime):\n",
    "    return ([çevrim.get(kelime[i]) for i in range(len(kelime))])\n",
    "\n",
    "isimler = ['ahmet', 'can', 'iskender', 'cigdem',\n",
    "           'ismet', 'ismail', 'ismit', 'çiğdem',\n",
    "           'ismıt', 'ışık', 'şule']\n",
    "\n",
    "print(*sorted(isimler, key=sırala), sep='\\n')"
   ]
  },
  {
   "cell_type": "markdown",
   "id": "e7cdbf26-82cd-4fc9-8202-f34c944df53a",
   "metadata": {},
   "source": [
    "Biz yine de her şeyin iyiden iyine anlaşıldığından emin olmak için durumu kısaca açıklayalım. Öncelikle ilgili fonksiyonu önümüze alalım:"
   ]
  },
  {
   "cell_type": "code",
   "execution_count": null,
   "id": "5a5607d1-d354-47eb-8734-c68dab58449e",
   "metadata": {},
   "outputs": [],
   "source": [
    "def sırala(kelime):\n",
    "    return ([çevrim.get(kelime[i]) for i in range(len(kelime))])"
   ]
  },
  {
   "cell_type": "markdown",
   "id": "7dab1310-36d1-42e9-95c3-89876939fc82",
   "metadata": {},
   "source": [
    "Burada yaptığımız şey biraz önce yaptığımız şeyle tamamen aynı aslında. Tek fark, Python’ın sıralamada kullanmasını istediğimiz öğeleri tek tek elle yazmak yerine, bunları bir liste üreteci yardımıyla otomatik olarak belirlemek.\n",
    "\n",
    "Eğer yukarıdaki kodları şöyle yazsaydık:\n",
    "\n"
   ]
  },
  {
   "cell_type": "code",
   "execution_count": null,
   "id": "82b025ba-571e-46f3-950a-3ebbab7d3efd",
   "metadata": {},
   "outputs": [],
   "source": [
    "def sırala(kelime):\n",
    "    return (çevrim.get(kelime[0]))"
   ]
  },
  {
   "cell_type": "markdown",
   "id": "1cdba4fc-ac67-444c-9cd2-74b834daabcb",
   "metadata": {},
   "source": [
    "Bu durumda Python sıralamada kelimelerin yalnızca ilk harflerini dikkate alacaktı. İlk harfi aynı olan kelimeleri ise bu yüzden düzgün sıralayamayacaktı. Elbette Python’ın önce ilk harfe, sonra ikinci harfe, sonra da üçüncü harfe bakmasını sağlayabiliriz:\n",
    "\n"
   ]
  },
  {
   "cell_type": "code",
   "execution_count": null,
   "id": "3f33ad3f-bf7b-46e9-b926-9692f9e24ed2",
   "metadata": {},
   "outputs": [],
   "source": [
    "def sırala(kelime):\n",
    "    return (çevrim.get(kelime[0]), çevrim.get(kelime[1]), çevrim.get(kelime[2]))"
   ]
  },
  {
   "cell_type": "markdown",
   "id": "afb7c562-49bf-4242-aeb1-38152091b647",
   "metadata": {},
   "source": [
    "Ancak bu yöntemin uygulanabilir ve pratik olmadığı ortada. Kendi kendinize bazı denemeler yaparak bunu kendiniz de rahatlıkla görebilirsiniz.\n",
    "\n",
    "Python’ın, sıralama yaparken kelimelerin önce ilk harflerini, sonra ikinci, sonra üçüncü, vb. harflerini karşılaştırmasını sağlamanın en uygun yolu şu olacaktır:\n",
    "\n"
   ]
  },
  {
   "cell_type": "code",
   "execution_count": null,
   "id": "23bed710-387c-43da-b917-6af2985a718a",
   "metadata": {},
   "outputs": [],
   "source": [
    "def sırala(kelime):\n",
    "    return ([çevrim.get(kelime[i]) for i in range(len(kelime))])"
   ]
  },
  {
   "cell_type": "markdown",
   "id": "a5f17de3-fef1-41d8-a22a-4b2de7889fd4",
   "metadata": {},
   "source": [
    "Gördüğünüz gibi, burada kelimelerdeki harflerin sırasını tek tek elle yazmak yerine, bunu bir for döngüsü içinde otomatik olarak yaptırıyoruz. Dolayısıyla sırala() fonksiyonuna verilen parametrenin mesela ahmet olduğu bir durumda yukarıdaki fonksiyon şu demeti döndürüyor:"
   ]
  },
  {
   "cell_type": "code",
   "execution_count": null,
   "id": "f22ffff4-0ed7-4fef-ba13-bc496a5a31ab",
   "metadata": {},
   "outputs": [],
   "source": [
    "def sırala('ahmet'):\n",
    "    return (çevrim.get('ahmet'[0]),\n",
    "            çevrim.get('ahmet'[1]),\n",
    "            çevrim.get('ahmet'[2]),\n",
    "            çevrim.get('ahmet'[3]),\n",
    "            çevrim.get('ahmet'[4]))"
   ]
  },
  {
   "cell_type": "markdown",
   "id": "294090a0-48a1-4405-a9ea-4df7fd1b5345",
   "metadata": {},
   "source": [
    "Mesela ‘can’ için ise şunu:"
   ]
  },
  {
   "cell_type": "code",
   "execution_count": null,
   "id": "f8433f01-b998-4246-a88e-25c42e70409b",
   "metadata": {},
   "outputs": [],
   "source": [
    "def sırala('can'):\n",
    "    return (çevrim.get('can'[0]),\n",
    "            çevrim.get('can'[1]),\n",
    "            çevrim.get('can'[2]))"
   ]
  },
  {
   "cell_type": "markdown",
   "id": "b0cfa0e4-dc46-40a0-bbcd-a79c9ded023b",
   "metadata": {},
   "source": [
    "Böylece Python, hangi uzunlukta bir isimle karşılaşırsa karşılaşsın, sıralama işlemini düzgün bir şekilde gerçekleştirebiliyor.\n",
    "\n",
    "Bu bölümde Python’da sıralama konusunu epey ayrıntılı bir şekilde ele aldık.\n",
    "\n"
   ]
  },
  {
   "cell_type": "markdown",
   "id": "601d5fa0-e130-4f00-a96f-9e72c326d301",
   "metadata": {},
   "source": [
    "+++++++++++lice()\n",
    "\n",
    "Bildiğiniz gibi, birtakım öğelerden oluşan bir nesnenin yalnızca belli kısımlarını ayırıp alma işlemine ‘dilimleme’ adı veriliyor. Örneğin elimizde şöyle bir liste olduğunu düşünelim:"
   ]
  },
  {
   "cell_type": "code",
   "execution_count": 84,
   "id": "1e82fe5d-790d-4d43-a31b-3146816c2537",
   "metadata": {},
   "outputs": [],
   "source": [
    "l = ['ahmet', 'mehmet', 'ayşe', 'senem', 'salih']\n"
   ]
  },
  {
   "cell_type": "markdown",
   "id": "3d6ab233-e57c-43f5-8766-d5e91d76888d",
   "metadata": {},
   "source": [
    "5 öğeli bu listenin yalnızca ilk iki öğesini almak, yani dilimlemek için şu yapıyı kullanıyoruz:\n",
    "\n"
   ]
  },
  {
   "cell_type": "code",
   "execution_count": 85,
   "id": "fe2e0e94-32ca-49fd-a516-7055e54a76bb",
   "metadata": {},
   "outputs": [
    {
     "data": {
      "text/plain": [
       "['ahmet', 'mehmet']"
      ]
     },
     "execution_count": 85,
     "metadata": {},
     "output_type": "execute_result"
    }
   ],
   "source": [
    "l[0:2]\n"
   ]
  },
  {
   "cell_type": "markdown",
   "id": "82bf7a37-9103-4872-b88d-7218cb7e9751",
   "metadata": {},
   "source": [
    "Dilimleme işleminin şöyle bir formülden oluştuğunu biliyoruz:"
   ]
  },
  {
   "cell_type": "code",
   "execution_count": null,
   "id": "f64e509e-fc56-4fbb-b11d-a560435df65b",
   "metadata": {},
   "outputs": [],
   "source": [
    "l[başlangıç:bitiş:atlama_değeri]"
   ]
  },
  {
   "cell_type": "markdown",
   "id": "5f2c6b67-4135-4a67-ba66-37c39dff663e",
   "metadata": {},
   "source": [
    "Başlangıç parametresinin öntanımlı değeri 0 olduğu için yukarıdaki kodu şöyle de yazabilirdik:"
   ]
  },
  {
   "cell_type": "code",
   "execution_count": null,
   "id": "f6413dec-fcda-4dc2-8500-1351bab95017",
   "metadata": {},
   "outputs": [],
   "source": [
    "l[:2]\n"
   ]
  },
  {
   "cell_type": "markdown",
   "id": "88b21a6f-4484-4da2-9cf7-cb6a30dec8b4",
   "metadata": {},
   "source": [
    "Aynı listenin, ilk öğeden itibaren sonuna kadar olan bütün öğelerini almak için ise şunu yazıyoruz:"
   ]
  },
  {
   "cell_type": "code",
   "execution_count": null,
   "id": "02d6083a-6f97-4b12-aa0b-cee462dd1f30",
   "metadata": {},
   "outputs": [],
   "source": [
    "l[1:]\n"
   ]
  },
  {
   "cell_type": "markdown",
   "id": "d4f4390b-d75a-46cc-9961-3842d8006dc3",
   "metadata": {},
   "source": [
    "Eğer bu listeyi, öğelerini ikişer ikişer atlayarak dilimlemek istersek de şu yolu takip ediyoruz:\n",
    "\n"
   ]
  },
  {
   "cell_type": "code",
   "execution_count": null,
   "id": "b445760d-e279-4787-93b6-57dda4bd036a",
   "metadata": {},
   "outputs": [],
   "source": [
    "l[::2]\n"
   ]
  },
  {
   "cell_type": "markdown",
   "id": "f7927d42-d1dc-4e8d-a317-6056c8afad15",
   "metadata": {},
   "source": [
    "Bu örnekte başlangıç ve bitiş parametrelerinin öntanımlı değerlerini kullandık. O yüzden o kısımları boş bıraktık. Öğeleri ikişer ikişer atlayabilmek için ise atlama_değeri olarak 2 sayısını kullandık.\n",
    "\n",
    "İşte yukarıdakine benzer dilimleme işlemleri için slice() adlı bir gömülü fonksiyondan da yararlanabiliriz. Dikkatlice bakın:\n",
    "\n",
    "Listemiz şu:"
   ]
  },
  {
   "cell_type": "code",
   "execution_count": 86,
   "id": "add4e097-fd02-46a9-9d67-125fc5a71360",
   "metadata": {},
   "outputs": [],
   "source": [
    "l = ['ahmet', 'mehmet', 'ayşe', 'senem', 'salih']\n"
   ]
  },
  {
   "cell_type": "markdown",
   "id": "9a0534d1-4d4a-49af-9ea6-e5d4f3fa8ec4",
   "metadata": {},
   "source": [
    "Bir ‘dilimleme’ (slice) nesnesi oluşturuyoruz:\n",
    "\n"
   ]
  },
  {
   "cell_type": "code",
   "execution_count": 87,
   "id": "c0333dbe-531b-4543-be91-a17c8b2caccc",
   "metadata": {},
   "outputs": [],
   "source": [
    "dl = slice(0, 3)\n"
   ]
  },
  {
   "cell_type": "markdown",
   "id": "4485fdef-c759-44bb-9d23-011c959703ab",
   "metadata": {},
   "source": [
    "Bu nesneyi liste üzerine uyguluyoruz:\n",
    "\n"
   ]
  },
  {
   "cell_type": "code",
   "execution_count": 88,
   "id": "30b7b904-0714-469d-a081-3b83b656ec02",
   "metadata": {},
   "outputs": [
    {
     "data": {
      "text/plain": [
       "['ahmet', 'mehmet', 'ayşe']"
      ]
     },
     "execution_count": 88,
     "metadata": {},
     "output_type": "execute_result"
    }
   ],
   "source": [
    "l[dl]\n"
   ]
  },
  {
   "cell_type": "markdown",
   "id": "c6d3df2d-78c3-4208-aad1-060a0a9d938b",
   "metadata": {},
   "source": [
    "Gördüğünüz gibi, slice() fonksiyonunu yukarıda iki parametre ile kullandık. Tahmin edebileceğiniz gibi, bu fonksiyonunu formülü şu şekildedir:\n",
    "\n"
   ]
  },
  {
   "cell_type": "code",
   "execution_count": null,
   "id": "8f71f16b-0bb5-42ae-814e-c70d456316f1",
   "metadata": {},
   "outputs": [],
   "source": [
    "slice(başlangıç, bitiş, atlama)\n"
   ]
  },
  {
   "cell_type": "markdown",
   "id": "57dde6ed-d16e-44ed-ab10-b106f7af2e48",
   "metadata": {},
   "source": [
    "++++++++sum()\n",
    "\n",
    "Bu fonksiyonun temel görevi, bir dizi içindeki değerlerin toplamını bulmaktır. Örneğin:\n",
    "\n"
   ]
  },
  {
   "cell_type": "code",
   "execution_count": null,
   "id": "e614810c-b946-413a-aee2-5fc83c315799",
   "metadata": {},
   "outputs": [],
   "source": [
    "l = [1, 2, 3]\n",
    "sum(l)\n"
   ]
  },
  {
   "cell_type": "markdown",
   "id": "bd5e7360-d856-4bad-a8a6-84477cb5a33c",
   "metadata": {},
   "source": [
    "Bu fonksiyon genellikle yukarıdaki gibi tek parametreyle kullanılır. Ama aslında bu fonksiyon ikinci bir parametre daha alır. Dikkatlice bakın:\n",
    "\n"
   ]
  },
  {
   "cell_type": "code",
   "execution_count": 89,
   "id": "e9acef68-9e99-489c-9c60-9a9e125dbb87",
   "metadata": {},
   "outputs": [
    {
     "data": {
      "text/plain": [
       "16"
      ]
     },
     "execution_count": 89,
     "metadata": {},
     "output_type": "execute_result"
    }
   ],
   "source": [
    "l = [1, 2, 3]\n",
    "sum(l, 10)"
   ]
  },
  {
   "cell_type": "markdown",
   "id": "5e3cc6dd-5bd1-4b87-9de5-7db7cc7cce88",
   "metadata": {},
   "source": [
    "Gördüğünüz gibi, Python sum() fonksiyonuna verilen ikinci parametreyi, birinci parametredeki toplam değerin üzerine ekliyor.\n",
    "\n",
    "+++++++type()\n",
    "\n",
    "type() fonksiyonunun görevi bir nesnenin hangi veri tipine ait olduğunu söylemektir. Bu fonksiyonu artık yakından tanıyorsunuz:\n",
    "\n"
   ]
  },
  {
   "cell_type": "code",
   "execution_count": 90,
   "id": "3a244fd2-3f25-416c-8a94-70c7fabe7825",
   "metadata": {},
   "outputs": [
    {
     "data": {
      "text/plain": [
       "str"
      ]
     },
     "execution_count": 90,
     "metadata": {},
     "output_type": "execute_result"
    }
   ],
   "source": [
    "type('elma')\n"
   ]
  },
  {
   "cell_type": "markdown",
   "id": "72b36dc3-ad5a-4d39-b1ec-66b0a6308c11",
   "metadata": {},
   "source": [
    "++++++++zip()\n",
    "\n",
    "Gelin isterseniz bu fonksiyonu bir örnek üzerinden açıklamaya çalışalım.\n",
    "\n",
    "Diyelim ki elimizde şöyle iki farklı liste var:"
   ]
  },
  {
   "cell_type": "code",
   "execution_count": 91,
   "id": "34f66fe4-3fca-48a0-815b-f16cb75965b7",
   "metadata": {},
   "outputs": [],
   "source": [
    "a1 = ['a', 'b', 'c']\n",
    "a2 = ['d', 'e', 'f']"
   ]
  },
  {
   "cell_type": "markdown",
   "id": "9f9d69f3-c1c9-4d11-b071-39eefa4afeeb",
   "metadata": {},
   "source": [
    "Eğer bu listelerin öğelerini birbirleriyle eşleştirmek istersek zip() fonksiyonundan yararlanabiliriz.\n",
    "\n",
    "Dikkatlice bakın:\n",
    "\n"
   ]
  },
  {
   "cell_type": "code",
   "execution_count": 92,
   "id": "7cafafa2-b632-405e-8c30-ca27babef9eb",
   "metadata": {},
   "outputs": [
    {
     "data": {
      "text/plain": [
       "<zip at 0x71f4943bc2c0>"
      ]
     },
     "execution_count": 92,
     "metadata": {},
     "output_type": "execute_result"
    }
   ],
   "source": [
    "zip(a1, a2)\n"
   ]
  },
  {
   "cell_type": "markdown",
   "id": "4a9dd705-a6c3-4752-8363-2ea2b66ec011",
   "metadata": {},
   "source": [
    "Gördüğünüz gibi, yukarıdaki kod bize bir ‘zip’ nesnesi veriyor. Bu nesnenin öğelerine nasıl ulaşabileceğinizi biliyorsunuz:\n",
    "\n"
   ]
  },
  {
   "cell_type": "code",
   "execution_count": 93,
   "id": "71fc807d-2c07-4c72-87d0-30f20f563ea2",
   "metadata": {},
   "outputs": [
    {
     "name": "stdout",
     "output_type": "stream",
     "text": [
      "('a', 'd') ('b', 'e') ('c', 'f')\n"
     ]
    }
   ],
   "source": [
    "print(*zip(a1, a2))\n"
   ]
  },
  {
   "cell_type": "code",
   "execution_count": 94,
   "id": "126d9b49-3156-4e8b-8a47-91f3562739ed",
   "metadata": {},
   "outputs": [
    {
     "data": {
      "text/plain": [
       "[('a', 'd'), ('b', 'e'), ('c', 'f')]"
      ]
     },
     "execution_count": 94,
     "metadata": {},
     "output_type": "execute_result"
    }
   ],
   "source": [
    "list(zip(a1, a2))\n"
   ]
  },
  {
   "cell_type": "code",
   "execution_count": 95,
   "id": "cbb082b4-009d-4609-8e51-fd20ea62feb7",
   "metadata": {},
   "outputs": [
    {
     "name": "stdout",
     "output_type": "stream",
     "text": [
      "a d\n",
      "b e\n",
      "c f\n"
     ]
    }
   ],
   "source": [
    "for a, b in zip(a1, a2):\n",
    "    print(a, b)"
   ]
  },
  {
   "cell_type": "markdown",
   "id": "e6127c65-abdb-457a-b90e-b47589029de9",
   "metadata": {},
   "source": [
    "Yukarıdaki çıktıları incelediğimizde, ilk listenin ilk öğesinin, ikinci listenin ilk öğesiyle; ilk listenin ikinci öğesinin, ikinci listenin ikinci öğesiyle; ilk listenin üçüncü öğesinin ise, ikinci listenin üçüncü öğesiyle eşleştiğini görüyoruz.\n",
    "\n",
    "Bu özellikten pek çok farklı şekilde yararlanabilirsiniz. Örneğin:\n",
    "\n"
   ]
  },
  {
   "cell_type": "code",
   "execution_count": 96,
   "id": "edac7830-af22-4249-b47c-96e13f281ed9",
   "metadata": {},
   "outputs": [
    {
     "name": "stdout",
     "output_type": "stream",
     "text": [
      "isim: ahmet / yaş: 25\n",
      "isim: mehmet / yaş: 40\n",
      "isim: zeynep / yaş: 35\n",
      "isim: ilker / yaş: 20\n"
     ]
    }
   ],
   "source": [
    "isimler = ['ahmet', 'mehmet', 'zeynep', 'ilker']\n",
    "yaşlar = [25, 40, 35, 20]\n",
    "for i, y in zip(isimler, yaşlar):\n",
    "    print('isim: {} / yaş: {}'.format(i, y))"
   ]
  },
  {
   "cell_type": "markdown",
   "id": "63f7ff1e-cd89-488e-b545-8a8052d828a9",
   "metadata": {},
   "source": [
    "Burada isimler ve yaşlar adlı listelerin öğelerini zip() fonksiyonu yardımıyla birbirleriyle eşleştirdik.\n",
    "\n"
   ]
  },
  {
   "cell_type": "markdown",
   "id": "fba03130-99be-42b0-8274-0eaef7e36874",
   "metadata": {},
   "source": [
    "vars()\n",
    "Bu fonksiyon, mevcut isim alanı içindeki metot, fonksiyon ve nitelikleri listeler. Eğer bu fonksiyonu parametresiz olarak kullanırsak, daha önce gördüğümüz locals() fonksiyonuyla aynı çıktıyı elde ederiz:\n",
    "\n"
   ]
  },
  {
   "cell_type": "code",
   "execution_count": 97,
   "id": "dd1b25a4-a723-406c-90f3-eccbaa35ab37",
   "metadata": {},
   "outputs": [
    {
     "data": {
      "text/plain": [
       "{'__name__': '__main__',\n",
       " '__doc__': 'Automatically created module for IPython interactive environment',\n",
       " '__package__': None,\n",
       " '__loader__': None,\n",
       " '__spec__': None,\n",
       " '__builtin__': <module 'builtins' (built-in)>,\n",
       " '__builtins__': <module 'builtins' (built-in)>,\n",
       " '_ih': ['',\n",
       "  'help()',\n",
       "  'a = 50\\nid(a)',\n",
       "  'kardiz = \"Elveda Zalim Dünya!\"\\nid(kardiz)',\n",
       "  \"format(12, '.2f')\",\n",
       "  \"'{:.2f}'.format(12)\",\n",
       "  \"'{:.2f}'.format(12)\",\n",
       "  'l = [400, 176, 64, 175, 355, 13, 207, 298, 397, 386, 31, 120, 120, 236, 241, 123, 249, 364, 292, 153]',\n",
       "  'for i in l:\\n    if i % 2 == 1:\\n            print(i)',\n",
       "  '[i for i in l if i % 2 == 1]',\n",
       "  'def tek(sayı):\\n    return sayı % 2 == 1\\n\\nprint(*filter(tek, l))',\n",
       "  'print(tek(12))',\n",
       "  'print(tek(117))',\n",
       "  'filter(tek, l)',\n",
       "  'list(filter(tek, l))',\n",
       "  'print(*filter(tek, l))',\n",
       "  '[i for i in filter(tek, l)]',\n",
       "  \"notlar = {'Ahmet'   : 60,\\n          'Sinan'   : 50,\\n          'Mehmet'  : 45,\\n          'Ceren'   : 87,\\n          'Selen'   : 99,\\n          'Cem'     : 98,\\n          'Can'     : 51,\\n          'Kezban'  : 100,\\n          'Hakan'   : 66,\\n          'Mahmut'  : 80}\",\n",
       "  \"def not_durumu(n):\\n    if n in range(0, 50): return 'F'\\n    if n in range(50, 70): return 'D'\\n    if n in range(70, 80): return 'C'\\n    if n in range(80, 90): return 'B'\\n    if n in range(90, 101): return 'A'\",\n",
       "  \"notlar = {'Ahmet'   : 60,\\n          'Sinan'   : 50,\\n          'Mehmet'  : 45,\\n          'Ceren'   : 87,\\n          'Selen'   : 99,\\n          'Cem'     : 98,\\n          'Can'     : 51,\\n          'Kezban'  : 100,\\n          'Hakan'   : 66,\\n          'Mahmut'  : 80}\\n\\ndef süz(n):\\n    return n >= 70\\n\\nprint(*filter(süz, notlar.values()))\",\n",
       "  \"hash('istihza')\",\n",
       "  \"hash('python')\",\n",
       "  \"type('istihza')\",\n",
       "  \"isinstance('istihza', str)\",\n",
       "  \"isinstance('istihza', list)\",\n",
       "  \"len('istihza')\",\n",
       "  'l = [1, 4, 5, 3, 2, 9, 10]\\nlen(l)',\n",
       "  'l = [1, 4, 5, 4, 2, 9, 10]',\n",
       "  'for i in l:\\n    i ** 2',\n",
       "  'def karesi(n):\\n    return n ** 2',\n",
       "  'list(map(karesi, l))',\n",
       "  'liste = [1, 2, 3]\\nmax(liste)',\n",
       "  \"isimler = ['ahmet', 'can', 'mehmet', 'selin', 'abdullah', 'kezban']\\nmax(isimler, key=len)\",\n",
       "  \"isimler = ['ahmet', 'can', 'mehmet', 'selin', 'abdullah', 'kezban']\",\n",
       "  'max(isimler, key=len)',\n",
       "  'Bu arada key fonksiyonuna len() fonksiyonunu parantezsiz olarak verdiğimize dikkat edin.\\n\\nGelin isterseniz max() fonksiyonunu biraz daha iyi anlamak için ufak bir çalışma yapalım.\\n\\nDiyelim ki elimizde şöyle bir sözlük var:',\n",
       "  \"askerler = {'ahmet'     : 'onbaşı',\\n            'mehmet'    : 'teğmen',\\n            'ali'       : 'yüzbaşı',\\n            'cevat'     : 'albay',\\n            'berkay'    : 'üsteğmen',\\n            'mahmut'    : 'binbaşı'}\",\n",
       "  \"def en_yüksek_rütbe(rütbe):\\n    rütbeler = {'er'        : 0,\\n                'onbaşı'    : 1,\\n                'çavuş'     : 2,\\n                'asteğmen'  : 3,\\n                'teğmen'    : 4,\\n                'üsteğmen'  : 5,\\n                'yüzbaşı'   : 6,\\n                'binbaşı'   : 7,\\n                'yarbay'    : 8,\\n                'albay'     : 9}\\n\\n    return rütbeler[rütbe]\",\n",
       "  'print(max(askerler.values(), key=en_yüksek_rütbe))|',\n",
       "  \"def en_yüksek_rütbe(rütbe):\\n    rütbeler = {'er'        : 0,\\n                'onbaşı'    : 1,\\n                'çavuş'     : 2,\\n                'asteğmen'  : 3,\\n                'teğmen'    : 4,\\n                'üsteğmen'  : 5,\\n                'yüzbaşı'   : 6,\\n                'binbaşı'   : 7,\\n                'yarbay'    : 8,\\n                'albay'     : 9}\\n\\n    return rütbeler[rütbe]\\n\\naskerler = {'ahmet': 'onbaşı',\\n            'mehmet': 'teğmen',\\n            'ali': 'yüzbaşı',\\n            'cevat': 'albay',\\n            'berkay': 'üsteğmen',\\n            'mahmut': 'binbaşı'}\",\n",
       "  'print(max(askerler.values(), key=en_yüksek_rütbe))|',\n",
       "  'print(max(askerler.values(), key=en_yüksek_rütbe))',\n",
       "  'print(max(askerler.keys(), key=en_yüksek_rütbe))',\n",
       "  'print(max(askerler.key(), key=en_yüksek_rütbe))',\n",
       "  'print(max(askerler.values(), key=en_yüksek_rütbe))',\n",
       "  'for k, v in askerler.items():\\n    if askerler[k] in max(askerler.values(), key=en_yüksek_rütbe):\\n        print(v, k)',\n",
       "  'for k, v in askerler.items():\\n    if askerler[k] == max(askerler.values(), key=en_yüksek_rütbe):\\n        print(v, k)',\n",
       "  \"f = open('test\\\\nisan.txt')\",\n",
       "  'import io\\nio.DEFAULT_BUFFER_SIZE',\n",
       "  'pow(2, 3)',\n",
       "  'pow(2, 3, 2)',\n",
       "  '(2 ** 3) % 2',\n",
       "  'pow(12, 2)',\n",
       "  'l = range(0, 10)',\n",
       "  'print(l)',\n",
       "  'type(l)',\n",
       "  'list(l)',\n",
       "  'tuple(l)',\n",
       "  'set(l) #küme',\n",
       "  'frozenset(l) #dondurulmuş küme',\n",
       "  'for i in range(10):\\n    print(i)',\n",
       "  'print(*range(10), sep=\", \")',\n",
       "  'range(0, 10)',\n",
       "  'range(10)',\n",
       "  'range(10, 100)',\n",
       "  'list(range(0, 10, 2))',\n",
       "  \"isimler = ['ahmet', 'mehmet', 'veli', 'ayşe', 'çiğdem', 'ışık']\",\n",
       "  \"['ışık', 'çiğdem', 'ayşe', 'veli', 'mehmet', 'ahmet']\",\n",
       "  'isimler[::-1]',\n",
       "  'reversed(isimler)',\n",
       "  'list(reversed(isimler))',\n",
       "  \"sorted('ahmet')\",\n",
       "  \"sorted(('elma', 'armut', 'kiraz', 'badem'))\",\n",
       "  \"sorted(['elma', 'armut', 'kiraz', 'badem'])\",\n",
       "  \"isimler = ['ahmet', 'çiğdem', 'ışık', 'şebnem', 'zeynep', 'selin']\\nsorted(isimler)\",\n",
       "  'import locale',\n",
       "  'harfler = \"abcçdefgğhıijklmnoöprsştuüvyz\"',\n",
       "  'çevrim = {i: harfler.index(i) for i in harfler}',\n",
       "  'isimler = [\"ahmet\", \"ışık\", \"ismail\",\\n           \"çiğdem\", \"can\", \"şule\"]',\n",
       "  'sorted(isimler, key=locale.strxfrm)',\n",
       "  'sorted(isimler, key=lambda x: çevrim.get(x[0]))',\n",
       "  'abs(-20)',\n",
       "  'abs(20)',\n",
       "  'abs(20.0)',\n",
       "  \"l = ['ahmet', 'mehmet', 'ayşe', 'senem', 'salih']\",\n",
       "  'l[0:2]',\n",
       "  \"l = ['ahmet', 'mehmet', 'ayşe', 'senem', 'salih']\",\n",
       "  'dl = slice(0, 3)',\n",
       "  'l[dl]',\n",
       "  'l = [1, 2, 3]\\nsum(l, 10)',\n",
       "  \"type('elma')\",\n",
       "  \"a1 = ['a', 'b', 'c']\\na2 = ['d', 'e', 'f']\",\n",
       "  'zip(a1, a2)',\n",
       "  'print(*zip(a1, a2))',\n",
       "  'list(zip(a1, a2))',\n",
       "  'for a, b in zip(a1, a2):\\n    print(a, b)',\n",
       "  \"isimler = ['ahmet', 'mehmet', 'zeynep', 'ilker']\\nyaşlar = [25, 40, 35, 20]\\nfor i, y in zip(isimler, yaşlar):\\n    print('isim: {} / yaş: {}'.format(i, y))\",\n",
       "  'vars()'],\n",
       " '_oh': {2: 125295349729040,\n",
       "  3: 125295277839472,\n",
       "  4: '12.00',\n",
       "  5: '12.00',\n",
       "  6: '12.00',\n",
       "  9: [175, 355, 13, 207, 397, 31, 241, 123, 249, 153],\n",
       "  13: <filter at 0x71f4948bb760>,\n",
       "  14: [175, 355, 13, 207, 397, 31, 241, 123, 249, 153],\n",
       "  16: [175, 355, 13, 207, 397, 31, 241, 123, 249, 153],\n",
       "  20: -5190468755543050344,\n",
       "  21: -5149909365599437965,\n",
       "  22: str,\n",
       "  23: True,\n",
       "  24: False,\n",
       "  25: 7,\n",
       "  26: 7,\n",
       "  30: [1, 16, 25, 16, 4, 81, 100],\n",
       "  31: 3,\n",
       "  32: 'abdullah',\n",
       "  34: 'abdullah',\n",
       "  48: 8192,\n",
       "  49: 8,\n",
       "  50: 0,\n",
       "  51: 0,\n",
       "  52: 144,\n",
       "  55: range,\n",
       "  56: [0, 1, 2, 3, 4, 5, 6, 7, 8, 9],\n",
       "  57: (0, 1, 2, 3, 4, 5, 6, 7, 8, 9),\n",
       "  58: {0, 1, 2, 3, 4, 5, 6, 7, 8, 9},\n",
       "  59: frozenset({0, 1, 2, 3, 4, 5, 6, 7, 8, 9}),\n",
       "  62: range(0, 10),\n",
       "  63: range(0, 10),\n",
       "  64: range(10, 100),\n",
       "  65: [0, 2, 4, 6, 8],\n",
       "  67: ['ışık', 'çiğdem', 'ayşe', 'veli', 'mehmet', 'ahmet'],\n",
       "  68: ['ışık', 'çiğdem', 'ayşe', 'veli', 'mehmet', 'ahmet'],\n",
       "  69: <list_reverseiterator at 0x71f4948bb7c0>,\n",
       "  70: ['ışık', 'çiğdem', 'ayşe', 'veli', 'mehmet', 'ahmet'],\n",
       "  71: ['a', 'e', 'h', 'm', 't'],\n",
       "  72: ['armut', 'badem', 'elma', 'kiraz'],\n",
       "  73: ['armut', 'badem', 'elma', 'kiraz'],\n",
       "  74: ['ahmet', 'selin', 'zeynep', 'çiğdem', 'ışık', 'şebnem'],\n",
       "  79: ['ahmet', 'can', 'ismail', 'çiğdem', 'ışık', 'şule'],\n",
       "  80: ['ahmet', 'can', 'çiğdem', 'ışık', 'ismail', 'şule'],\n",
       "  81: 20,\n",
       "  82: 20,\n",
       "  83: 20.0,\n",
       "  85: ['ahmet', 'mehmet'],\n",
       "  88: ['ahmet', 'mehmet', 'ayşe'],\n",
       "  89: 16,\n",
       "  90: str,\n",
       "  92: <zip at 0x71f4943bc2c0>,\n",
       "  94: [('a', 'd'), ('b', 'e'), ('c', 'f')]},\n",
       " '_dh': [PosixPath('/home/toree/Desktop/python-notes/ders26GomuluFonksiyonlar')],\n",
       " 'In': ['',\n",
       "  'help()',\n",
       "  'a = 50\\nid(a)',\n",
       "  'kardiz = \"Elveda Zalim Dünya!\"\\nid(kardiz)',\n",
       "  \"format(12, '.2f')\",\n",
       "  \"'{:.2f}'.format(12)\",\n",
       "  \"'{:.2f}'.format(12)\",\n",
       "  'l = [400, 176, 64, 175, 355, 13, 207, 298, 397, 386, 31, 120, 120, 236, 241, 123, 249, 364, 292, 153]',\n",
       "  'for i in l:\\n    if i % 2 == 1:\\n            print(i)',\n",
       "  '[i for i in l if i % 2 == 1]',\n",
       "  'def tek(sayı):\\n    return sayı % 2 == 1\\n\\nprint(*filter(tek, l))',\n",
       "  'print(tek(12))',\n",
       "  'print(tek(117))',\n",
       "  'filter(tek, l)',\n",
       "  'list(filter(tek, l))',\n",
       "  'print(*filter(tek, l))',\n",
       "  '[i for i in filter(tek, l)]',\n",
       "  \"notlar = {'Ahmet'   : 60,\\n          'Sinan'   : 50,\\n          'Mehmet'  : 45,\\n          'Ceren'   : 87,\\n          'Selen'   : 99,\\n          'Cem'     : 98,\\n          'Can'     : 51,\\n          'Kezban'  : 100,\\n          'Hakan'   : 66,\\n          'Mahmut'  : 80}\",\n",
       "  \"def not_durumu(n):\\n    if n in range(0, 50): return 'F'\\n    if n in range(50, 70): return 'D'\\n    if n in range(70, 80): return 'C'\\n    if n in range(80, 90): return 'B'\\n    if n in range(90, 101): return 'A'\",\n",
       "  \"notlar = {'Ahmet'   : 60,\\n          'Sinan'   : 50,\\n          'Mehmet'  : 45,\\n          'Ceren'   : 87,\\n          'Selen'   : 99,\\n          'Cem'     : 98,\\n          'Can'     : 51,\\n          'Kezban'  : 100,\\n          'Hakan'   : 66,\\n          'Mahmut'  : 80}\\n\\ndef süz(n):\\n    return n >= 70\\n\\nprint(*filter(süz, notlar.values()))\",\n",
       "  \"hash('istihza')\",\n",
       "  \"hash('python')\",\n",
       "  \"type('istihza')\",\n",
       "  \"isinstance('istihza', str)\",\n",
       "  \"isinstance('istihza', list)\",\n",
       "  \"len('istihza')\",\n",
       "  'l = [1, 4, 5, 3, 2, 9, 10]\\nlen(l)',\n",
       "  'l = [1, 4, 5, 4, 2, 9, 10]',\n",
       "  'for i in l:\\n    i ** 2',\n",
       "  'def karesi(n):\\n    return n ** 2',\n",
       "  'list(map(karesi, l))',\n",
       "  'liste = [1, 2, 3]\\nmax(liste)',\n",
       "  \"isimler = ['ahmet', 'can', 'mehmet', 'selin', 'abdullah', 'kezban']\\nmax(isimler, key=len)\",\n",
       "  \"isimler = ['ahmet', 'can', 'mehmet', 'selin', 'abdullah', 'kezban']\",\n",
       "  'max(isimler, key=len)',\n",
       "  'Bu arada key fonksiyonuna len() fonksiyonunu parantezsiz olarak verdiğimize dikkat edin.\\n\\nGelin isterseniz max() fonksiyonunu biraz daha iyi anlamak için ufak bir çalışma yapalım.\\n\\nDiyelim ki elimizde şöyle bir sözlük var:',\n",
       "  \"askerler = {'ahmet'     : 'onbaşı',\\n            'mehmet'    : 'teğmen',\\n            'ali'       : 'yüzbaşı',\\n            'cevat'     : 'albay',\\n            'berkay'    : 'üsteğmen',\\n            'mahmut'    : 'binbaşı'}\",\n",
       "  \"def en_yüksek_rütbe(rütbe):\\n    rütbeler = {'er'        : 0,\\n                'onbaşı'    : 1,\\n                'çavuş'     : 2,\\n                'asteğmen'  : 3,\\n                'teğmen'    : 4,\\n                'üsteğmen'  : 5,\\n                'yüzbaşı'   : 6,\\n                'binbaşı'   : 7,\\n                'yarbay'    : 8,\\n                'albay'     : 9}\\n\\n    return rütbeler[rütbe]\",\n",
       "  'print(max(askerler.values(), key=en_yüksek_rütbe))|',\n",
       "  \"def en_yüksek_rütbe(rütbe):\\n    rütbeler = {'er'        : 0,\\n                'onbaşı'    : 1,\\n                'çavuş'     : 2,\\n                'asteğmen'  : 3,\\n                'teğmen'    : 4,\\n                'üsteğmen'  : 5,\\n                'yüzbaşı'   : 6,\\n                'binbaşı'   : 7,\\n                'yarbay'    : 8,\\n                'albay'     : 9}\\n\\n    return rütbeler[rütbe]\\n\\naskerler = {'ahmet': 'onbaşı',\\n            'mehmet': 'teğmen',\\n            'ali': 'yüzbaşı',\\n            'cevat': 'albay',\\n            'berkay': 'üsteğmen',\\n            'mahmut': 'binbaşı'}\",\n",
       "  'print(max(askerler.values(), key=en_yüksek_rütbe))|',\n",
       "  'print(max(askerler.values(), key=en_yüksek_rütbe))',\n",
       "  'print(max(askerler.keys(), key=en_yüksek_rütbe))',\n",
       "  'print(max(askerler.key(), key=en_yüksek_rütbe))',\n",
       "  'print(max(askerler.values(), key=en_yüksek_rütbe))',\n",
       "  'for k, v in askerler.items():\\n    if askerler[k] in max(askerler.values(), key=en_yüksek_rütbe):\\n        print(v, k)',\n",
       "  'for k, v in askerler.items():\\n    if askerler[k] == max(askerler.values(), key=en_yüksek_rütbe):\\n        print(v, k)',\n",
       "  \"f = open('test\\\\nisan.txt')\",\n",
       "  'import io\\nio.DEFAULT_BUFFER_SIZE',\n",
       "  'pow(2, 3)',\n",
       "  'pow(2, 3, 2)',\n",
       "  '(2 ** 3) % 2',\n",
       "  'pow(12, 2)',\n",
       "  'l = range(0, 10)',\n",
       "  'print(l)',\n",
       "  'type(l)',\n",
       "  'list(l)',\n",
       "  'tuple(l)',\n",
       "  'set(l) #küme',\n",
       "  'frozenset(l) #dondurulmuş küme',\n",
       "  'for i in range(10):\\n    print(i)',\n",
       "  'print(*range(10), sep=\", \")',\n",
       "  'range(0, 10)',\n",
       "  'range(10)',\n",
       "  'range(10, 100)',\n",
       "  'list(range(0, 10, 2))',\n",
       "  \"isimler = ['ahmet', 'mehmet', 'veli', 'ayşe', 'çiğdem', 'ışık']\",\n",
       "  \"['ışık', 'çiğdem', 'ayşe', 'veli', 'mehmet', 'ahmet']\",\n",
       "  'isimler[::-1]',\n",
       "  'reversed(isimler)',\n",
       "  'list(reversed(isimler))',\n",
       "  \"sorted('ahmet')\",\n",
       "  \"sorted(('elma', 'armut', 'kiraz', 'badem'))\",\n",
       "  \"sorted(['elma', 'armut', 'kiraz', 'badem'])\",\n",
       "  \"isimler = ['ahmet', 'çiğdem', 'ışık', 'şebnem', 'zeynep', 'selin']\\nsorted(isimler)\",\n",
       "  'import locale',\n",
       "  'harfler = \"abcçdefgğhıijklmnoöprsştuüvyz\"',\n",
       "  'çevrim = {i: harfler.index(i) for i in harfler}',\n",
       "  'isimler = [\"ahmet\", \"ışık\", \"ismail\",\\n           \"çiğdem\", \"can\", \"şule\"]',\n",
       "  'sorted(isimler, key=locale.strxfrm)',\n",
       "  'sorted(isimler, key=lambda x: çevrim.get(x[0]))',\n",
       "  'abs(-20)',\n",
       "  'abs(20)',\n",
       "  'abs(20.0)',\n",
       "  \"l = ['ahmet', 'mehmet', 'ayşe', 'senem', 'salih']\",\n",
       "  'l[0:2]',\n",
       "  \"l = ['ahmet', 'mehmet', 'ayşe', 'senem', 'salih']\",\n",
       "  'dl = slice(0, 3)',\n",
       "  'l[dl]',\n",
       "  'l = [1, 2, 3]\\nsum(l, 10)',\n",
       "  \"type('elma')\",\n",
       "  \"a1 = ['a', 'b', 'c']\\na2 = ['d', 'e', 'f']\",\n",
       "  'zip(a1, a2)',\n",
       "  'print(*zip(a1, a2))',\n",
       "  'list(zip(a1, a2))',\n",
       "  'for a, b in zip(a1, a2):\\n    print(a, b)',\n",
       "  \"isimler = ['ahmet', 'mehmet', 'zeynep', 'ilker']\\nyaşlar = [25, 40, 35, 20]\\nfor i, y in zip(isimler, yaşlar):\\n    print('isim: {} / yaş: {}'.format(i, y))\",\n",
       "  'vars()'],\n",
       " 'Out': {2: 125295349729040,\n",
       "  3: 125295277839472,\n",
       "  4: '12.00',\n",
       "  5: '12.00',\n",
       "  6: '12.00',\n",
       "  9: [175, 355, 13, 207, 397, 31, 241, 123, 249, 153],\n",
       "  13: <filter at 0x71f4948bb760>,\n",
       "  14: [175, 355, 13, 207, 397, 31, 241, 123, 249, 153],\n",
       "  16: [175, 355, 13, 207, 397, 31, 241, 123, 249, 153],\n",
       "  20: -5190468755543050344,\n",
       "  21: -5149909365599437965,\n",
       "  22: str,\n",
       "  23: True,\n",
       "  24: False,\n",
       "  25: 7,\n",
       "  26: 7,\n",
       "  30: [1, 16, 25, 16, 4, 81, 100],\n",
       "  31: 3,\n",
       "  32: 'abdullah',\n",
       "  34: 'abdullah',\n",
       "  48: 8192,\n",
       "  49: 8,\n",
       "  50: 0,\n",
       "  51: 0,\n",
       "  52: 144,\n",
       "  55: range,\n",
       "  56: [0, 1, 2, 3, 4, 5, 6, 7, 8, 9],\n",
       "  57: (0, 1, 2, 3, 4, 5, 6, 7, 8, 9),\n",
       "  58: {0, 1, 2, 3, 4, 5, 6, 7, 8, 9},\n",
       "  59: frozenset({0, 1, 2, 3, 4, 5, 6, 7, 8, 9}),\n",
       "  62: range(0, 10),\n",
       "  63: range(0, 10),\n",
       "  64: range(10, 100),\n",
       "  65: [0, 2, 4, 6, 8],\n",
       "  67: ['ışık', 'çiğdem', 'ayşe', 'veli', 'mehmet', 'ahmet'],\n",
       "  68: ['ışık', 'çiğdem', 'ayşe', 'veli', 'mehmet', 'ahmet'],\n",
       "  69: <list_reverseiterator at 0x71f4948bb7c0>,\n",
       "  70: ['ışık', 'çiğdem', 'ayşe', 'veli', 'mehmet', 'ahmet'],\n",
       "  71: ['a', 'e', 'h', 'm', 't'],\n",
       "  72: ['armut', 'badem', 'elma', 'kiraz'],\n",
       "  73: ['armut', 'badem', 'elma', 'kiraz'],\n",
       "  74: ['ahmet', 'selin', 'zeynep', 'çiğdem', 'ışık', 'şebnem'],\n",
       "  79: ['ahmet', 'can', 'ismail', 'çiğdem', 'ışık', 'şule'],\n",
       "  80: ['ahmet', 'can', 'çiğdem', 'ışık', 'ismail', 'şule'],\n",
       "  81: 20,\n",
       "  82: 20,\n",
       "  83: 20.0,\n",
       "  85: ['ahmet', 'mehmet'],\n",
       "  88: ['ahmet', 'mehmet', 'ayşe'],\n",
       "  89: 16,\n",
       "  90: str,\n",
       "  92: <zip at 0x71f4943bc2c0>,\n",
       "  94: [('a', 'd'), ('b', 'e'), ('c', 'f')]},\n",
       " 'get_ipython': <bound method InteractiveShell.get_ipython of <ipykernel.zmqshell.ZMQInteractiveShell object at 0x71f494878880>>,\n",
       " 'exit': <IPython.core.autocall.ZMQExitAutocall at 0x71f4948794e0>,\n",
       " 'quit': <IPython.core.autocall.ZMQExitAutocall at 0x71f4948794e0>,\n",
       " 'open': <function io.open(file, mode='r', buffering=-1, encoding=None, errors=None, newline=None, closefd=True, opener=None)>,\n",
       " '_': [('a', 'd'), ('b', 'e'), ('c', 'f')],\n",
       " '__': <zip at 0x71f4943bc2c0>,\n",
       " '___': str,\n",
       " '__session__': '/home/toree/Desktop/python-notes/ders26GomuluFonksiyonlar/GomuluFonksiyonlar.ipynb',\n",
       " '_i': \"isimler = ['ahmet', 'mehmet', 'zeynep', 'ilker']\\nyaşlar = [25, 40, 35, 20]\\nfor i, y in zip(isimler, yaşlar):\\n    print('isim: {} / yaş: {}'.format(i, y))\",\n",
       " '_ii': 'for a, b in zip(a1, a2):\\n    print(a, b)',\n",
       " '_iii': 'list(zip(a1, a2))',\n",
       " '_i1': 'help()',\n",
       " '_i2': 'a = 50\\nid(a)',\n",
       " 'a': 'c',\n",
       " '_2': 125295349729040,\n",
       " '_i3': 'kardiz = \"Elveda Zalim Dünya!\"\\nid(kardiz)',\n",
       " 'kardiz': 'Elveda Zalim Dünya!',\n",
       " '_3': 125295277839472,\n",
       " '_i4': \"format(12, '.2f')\",\n",
       " '_4': '12.00',\n",
       " '_i5': \"'{:.2f}'.format(12)\",\n",
       " '_5': '12.00',\n",
       " '_i6': \"'{:.2f}'.format(12)\",\n",
       " '_6': '12.00',\n",
       " '_i7': 'l = [400, 176, 64, 175, 355, 13, 207, 298, 397, 386, 31, 120, 120, 236, 241, 123, 249, 364, 292, 153]',\n",
       " 'l': [1, 2, 3],\n",
       " '_i8': 'for i in l:\\n    if i % 2 == 1:\\n            print(i)',\n",
       " 'i': 'ilker',\n",
       " '_i9': '[i for i in l if i % 2 == 1]',\n",
       " '_9': [175, 355, 13, 207, 397, 31, 241, 123, 249, 153],\n",
       " '_i10': 'def tek(sayı):\\n    return sayı % 2 == 1\\n\\nprint(*filter(tek, l))',\n",
       " 'tek': <function __main__.tek(sayı)>,\n",
       " '_i11': 'print(tek(12))',\n",
       " '_i12': 'print(tek(117))',\n",
       " '_i13': 'filter(tek, l)',\n",
       " '_13': <filter at 0x71f4948bb760>,\n",
       " '_i14': 'list(filter(tek, l))',\n",
       " '_14': [175, 355, 13, 207, 397, 31, 241, 123, 249, 153],\n",
       " '_i15': 'print(*filter(tek, l))',\n",
       " '_i16': '[i for i in filter(tek, l)]',\n",
       " '_16': [175, 355, 13, 207, 397, 31, 241, 123, 249, 153],\n",
       " '_i17': \"notlar = {'Ahmet'   : 60,\\n          'Sinan'   : 50,\\n          'Mehmet'  : 45,\\n          'Ceren'   : 87,\\n          'Selen'   : 99,\\n          'Cem'     : 98,\\n          'Can'     : 51,\\n          'Kezban'  : 100,\\n          'Hakan'   : 66,\\n          'Mahmut'  : 80}\",\n",
       " 'notlar': {'Ahmet': 60,\n",
       "  'Sinan': 50,\n",
       "  'Mehmet': 45,\n",
       "  'Ceren': 87,\n",
       "  'Selen': 99,\n",
       "  'Cem': 98,\n",
       "  'Can': 51,\n",
       "  'Kezban': 100,\n",
       "  'Hakan': 66,\n",
       "  'Mahmut': 80},\n",
       " '_i18': \"def not_durumu(n):\\n    if n in range(0, 50): return 'F'\\n    if n in range(50, 70): return 'D'\\n    if n in range(70, 80): return 'C'\\n    if n in range(80, 90): return 'B'\\n    if n in range(90, 101): return 'A'\",\n",
       " 'not_durumu': <function __main__.not_durumu(n)>,\n",
       " '_i19': \"notlar = {'Ahmet'   : 60,\\n          'Sinan'   : 50,\\n          'Mehmet'  : 45,\\n          'Ceren'   : 87,\\n          'Selen'   : 99,\\n          'Cem'     : 98,\\n          'Can'     : 51,\\n          'Kezban'  : 100,\\n          'Hakan'   : 66,\\n          'Mahmut'  : 80}\\n\\ndef süz(n):\\n    return n >= 70\\n\\nprint(*filter(süz, notlar.values()))\",\n",
       " 'süz': <function __main__.süz(n)>,\n",
       " '_i20': \"hash('istihza')\",\n",
       " '_20': -5190468755543050344,\n",
       " '_i21': \"hash('python')\",\n",
       " '_21': -5149909365599437965,\n",
       " '_i22': \"type('istihza')\",\n",
       " '_22': str,\n",
       " '_i23': \"isinstance('istihza', str)\",\n",
       " '_23': True,\n",
       " '_i24': \"isinstance('istihza', list)\",\n",
       " '_24': False,\n",
       " '_i25': \"len('istihza')\",\n",
       " '_25': 7,\n",
       " '_i26': 'l = [1, 4, 5, 3, 2, 9, 10]\\nlen(l)',\n",
       " '_26': 7,\n",
       " '_i27': 'l = [1, 4, 5, 4, 2, 9, 10]',\n",
       " '_i28': 'for i in l:\\n    i ** 2',\n",
       " '_i29': 'def karesi(n):\\n    return n ** 2',\n",
       " 'karesi': <function __main__.karesi(n)>,\n",
       " '_i30': 'list(map(karesi, l))',\n",
       " '_30': [1, 16, 25, 16, 4, 81, 100],\n",
       " '_i31': 'liste = [1, 2, 3]\\nmax(liste)',\n",
       " 'liste': [1, 2, 3],\n",
       " '_31': 3,\n",
       " '_i32': \"isimler = ['ahmet', 'can', 'mehmet', 'selin', 'abdullah', 'kezban']\\nmax(isimler, key=len)\",\n",
       " 'isimler': ['ahmet', 'mehmet', 'zeynep', 'ilker'],\n",
       " '_32': 'abdullah',\n",
       " '_i33': \"isimler = ['ahmet', 'can', 'mehmet', 'selin', 'abdullah', 'kezban']\",\n",
       " '_i34': 'max(isimler, key=len)',\n",
       " '_34': 'abdullah',\n",
       " '_i35': 'Bu arada key fonksiyonuna len() fonksiyonunu parantezsiz olarak verdiğimize dikkat edin.\\n\\nGelin isterseniz max() fonksiyonunu biraz daha iyi anlamak için ufak bir çalışma yapalım.\\n\\nDiyelim ki elimizde şöyle bir sözlük var:',\n",
       " '_i36': \"askerler = {'ahmet'     : 'onbaşı',\\n            'mehmet'    : 'teğmen',\\n            'ali'       : 'yüzbaşı',\\n            'cevat'     : 'albay',\\n            'berkay'    : 'üsteğmen',\\n            'mahmut'    : 'binbaşı'}\",\n",
       " 'askerler': {'ahmet': 'onbaşı',\n",
       "  'mehmet': 'teğmen',\n",
       "  'ali': 'yüzbaşı',\n",
       "  'cevat': 'albay',\n",
       "  'berkay': 'üsteğmen',\n",
       "  'mahmut': 'binbaşı'},\n",
       " '_i37': \"def en_yüksek_rütbe(rütbe):\\n    rütbeler = {'er'        : 0,\\n                'onbaşı'    : 1,\\n                'çavuş'     : 2,\\n                'asteğmen'  : 3,\\n                'teğmen'    : 4,\\n                'üsteğmen'  : 5,\\n                'yüzbaşı'   : 6,\\n                'binbaşı'   : 7,\\n                'yarbay'    : 8,\\n                'albay'     : 9}\\n\\n    return rütbeler[rütbe]\",\n",
       " 'en_yüksek_rütbe': <function __main__.en_yüksek_rütbe(rütbe)>,\n",
       " '_i38': 'print(max(askerler.values(), key=en_yüksek_rütbe))|',\n",
       " '_i39': \"def en_yüksek_rütbe(rütbe):\\n    rütbeler = {'er'        : 0,\\n                'onbaşı'    : 1,\\n                'çavuş'     : 2,\\n                'asteğmen'  : 3,\\n                'teğmen'    : 4,\\n                'üsteğmen'  : 5,\\n                'yüzbaşı'   : 6,\\n                'binbaşı'   : 7,\\n                'yarbay'    : 8,\\n                'albay'     : 9}\\n\\n    return rütbeler[rütbe]\\n\\naskerler = {'ahmet': 'onbaşı',\\n            'mehmet': 'teğmen',\\n            'ali': 'yüzbaşı',\\n            'cevat': 'albay',\\n            'berkay': 'üsteğmen',\\n            'mahmut': 'binbaşı'}\",\n",
       " '_i40': 'print(max(askerler.values(), key=en_yüksek_rütbe))|',\n",
       " '_i41': 'print(max(askerler.values(), key=en_yüksek_rütbe))',\n",
       " '_i42': 'print(max(askerler.keys(), key=en_yüksek_rütbe))',\n",
       " '_i43': 'print(max(askerler.key(), key=en_yüksek_rütbe))',\n",
       " '_i44': 'print(max(askerler.values(), key=en_yüksek_rütbe))',\n",
       " '_i45': 'for k, v in askerler.items():\\n    if askerler[k] in max(askerler.values(), key=en_yüksek_rütbe):\\n        print(v, k)',\n",
       " 'k': 'mahmut',\n",
       " 'v': 'binbaşı',\n",
       " '_i46': 'for k, v in askerler.items():\\n    if askerler[k] == max(askerler.values(), key=en_yüksek_rütbe):\\n        print(v, k)',\n",
       " '_i47': \"f = open('test\\\\nisan.txt')\",\n",
       " '_i48': 'import io\\nio.DEFAULT_BUFFER_SIZE',\n",
       " 'io': <module 'io' from '/usr/lib/python3.10/io.py'>,\n",
       " '_48': 8192,\n",
       " '_i49': 'pow(2, 3)',\n",
       " '_49': 8,\n",
       " '_i50': 'pow(2, 3, 2)',\n",
       " '_50': 0,\n",
       " '_i51': '(2 ** 3) % 2',\n",
       " '_51': 0,\n",
       " '_i52': 'pow(12, 2)',\n",
       " '_52': 144,\n",
       " '_i53': 'l = range(0, 10)',\n",
       " '_i54': 'print(l)',\n",
       " '_i55': 'type(l)',\n",
       " '_55': range,\n",
       " '_i56': 'list(l)',\n",
       " '_56': [0, 1, 2, 3, 4, 5, 6, 7, 8, 9],\n",
       " '_i57': 'tuple(l)',\n",
       " '_57': (0, 1, 2, 3, 4, 5, 6, 7, 8, 9),\n",
       " '_i58': 'set(l) #küme',\n",
       " '_58': {0, 1, 2, 3, 4, 5, 6, 7, 8, 9},\n",
       " '_i59': 'frozenset(l) #dondurulmuş küme',\n",
       " '_59': frozenset({0, 1, 2, 3, 4, 5, 6, 7, 8, 9}),\n",
       " '_i60': 'for i in range(10):\\n    print(i)',\n",
       " '_i61': 'print(*range(10), sep=\", \")',\n",
       " '_i62': 'range(0, 10)',\n",
       " '_62': range(0, 10),\n",
       " '_i63': 'range(10)',\n",
       " '_63': range(0, 10),\n",
       " '_i64': 'range(10, 100)',\n",
       " '_64': range(10, 100),\n",
       " '_i65': 'list(range(0, 10, 2))',\n",
       " '_65': [0, 2, 4, 6, 8],\n",
       " '_i66': \"isimler = ['ahmet', 'mehmet', 'veli', 'ayşe', 'çiğdem', 'ışık']\",\n",
       " '_i67': \"['ışık', 'çiğdem', 'ayşe', 'veli', 'mehmet', 'ahmet']\",\n",
       " '_67': ['ışık', 'çiğdem', 'ayşe', 'veli', 'mehmet', 'ahmet'],\n",
       " '_i68': 'isimler[::-1]',\n",
       " '_68': ['ışık', 'çiğdem', 'ayşe', 'veli', 'mehmet', 'ahmet'],\n",
       " '_i69': 'reversed(isimler)',\n",
       " '_69': <list_reverseiterator at 0x71f4948bb7c0>,\n",
       " '_i70': 'list(reversed(isimler))',\n",
       " '_70': ['ışık', 'çiğdem', 'ayşe', 'veli', 'mehmet', 'ahmet'],\n",
       " '_i71': \"sorted('ahmet')\",\n",
       " '_71': ['a', 'e', 'h', 'm', 't'],\n",
       " '_i72': \"sorted(('elma', 'armut', 'kiraz', 'badem'))\",\n",
       " '_72': ['armut', 'badem', 'elma', 'kiraz'],\n",
       " '_i73': \"sorted(['elma', 'armut', 'kiraz', 'badem'])\",\n",
       " '_73': ['armut', 'badem', 'elma', 'kiraz'],\n",
       " '_i74': \"isimler = ['ahmet', 'çiğdem', 'ışık', 'şebnem', 'zeynep', 'selin']\\nsorted(isimler)\",\n",
       " '_74': ['ahmet', 'selin', 'zeynep', 'çiğdem', 'ışık', 'şebnem'],\n",
       " '_i75': 'import locale',\n",
       " 'locale': <module 'locale' from '/usr/lib/python3.10/locale.py'>,\n",
       " '_i76': 'harfler = \"abcçdefgğhıijklmnoöprsştuüvyz\"',\n",
       " 'harfler': 'abcçdefgğhıijklmnoöprsştuüvyz',\n",
       " '_i77': 'çevrim = {i: harfler.index(i) for i in harfler}',\n",
       " 'çevrim': {'a': 0,\n",
       "  'b': 1,\n",
       "  'c': 2,\n",
       "  'ç': 3,\n",
       "  'd': 4,\n",
       "  'e': 5,\n",
       "  'f': 6,\n",
       "  'g': 7,\n",
       "  'ğ': 8,\n",
       "  'h': 9,\n",
       "  'ı': 10,\n",
       "  'i': 11,\n",
       "  'j': 12,\n",
       "  'k': 13,\n",
       "  'l': 14,\n",
       "  'm': 15,\n",
       "  'n': 16,\n",
       "  'o': 17,\n",
       "  'ö': 18,\n",
       "  'p': 19,\n",
       "  'r': 20,\n",
       "  's': 21,\n",
       "  'ş': 22,\n",
       "  't': 23,\n",
       "  'u': 24,\n",
       "  'ü': 25,\n",
       "  'v': 26,\n",
       "  'y': 27,\n",
       "  'z': 28},\n",
       " '_i78': 'isimler = [\"ahmet\", \"ışık\", \"ismail\",\\n           \"çiğdem\", \"can\", \"şule\"]',\n",
       " '_i79': 'sorted(isimler, key=locale.strxfrm)',\n",
       " '_79': ['ahmet', 'can', 'ismail', 'çiğdem', 'ışık', 'şule'],\n",
       " '_i80': 'sorted(isimler, key=lambda x: çevrim.get(x[0]))',\n",
       " '_80': ['ahmet', 'can', 'çiğdem', 'ışık', 'ismail', 'şule'],\n",
       " '_i81': 'abs(-20)',\n",
       " '_81': 20,\n",
       " '_i82': 'abs(20)',\n",
       " '_82': 20,\n",
       " '_i83': 'abs(20.0)',\n",
       " '_83': 20.0,\n",
       " '_i84': \"l = ['ahmet', 'mehmet', 'ayşe', 'senem', 'salih']\",\n",
       " '_i85': 'l[0:2]',\n",
       " '_85': ['ahmet', 'mehmet'],\n",
       " '_i86': \"l = ['ahmet', 'mehmet', 'ayşe', 'senem', 'salih']\",\n",
       " '_i87': 'dl = slice(0, 3)',\n",
       " 'dl': slice(0, 3, None),\n",
       " '_i88': 'l[dl]',\n",
       " '_88': ['ahmet', 'mehmet', 'ayşe'],\n",
       " '_i89': 'l = [1, 2, 3]\\nsum(l, 10)',\n",
       " '_89': 16,\n",
       " '_i90': \"type('elma')\",\n",
       " '_90': str,\n",
       " '_i91': \"a1 = ['a', 'b', 'c']\\na2 = ['d', 'e', 'f']\",\n",
       " 'a1': ['a', 'b', 'c'],\n",
       " 'a2': ['d', 'e', 'f'],\n",
       " '_i92': 'zip(a1, a2)',\n",
       " '_92': <zip at 0x71f4943bc2c0>,\n",
       " '_i93': 'print(*zip(a1, a2))',\n",
       " '_i94': 'list(zip(a1, a2))',\n",
       " '_94': [('a', 'd'), ('b', 'e'), ('c', 'f')],\n",
       " '_i95': 'for a, b in zip(a1, a2):\\n    print(a, b)',\n",
       " 'b': 'f',\n",
       " '_i96': \"isimler = ['ahmet', 'mehmet', 'zeynep', 'ilker']\\nyaşlar = [25, 40, 35, 20]\\nfor i, y in zip(isimler, yaşlar):\\n    print('isim: {} / yaş: {}'.format(i, y))\",\n",
       " 'yaşlar': [25, 40, 35, 20],\n",
       " 'y': 20,\n",
       " '_i97': 'vars()'}"
      ]
     },
     "execution_count": 97,
     "metadata": {},
     "output_type": "execute_result"
    }
   ],
   "source": [
    "vars()\n"
   ]
  },
  {
   "cell_type": "markdown",
   "id": "cd831227-c7dd-47ff-98e8-0efce9380402",
   "metadata": {},
   "source": [
    "Bu fonksiyonu, nesnelerin metotlarını ve niteliklerini öğrenmek için de kullanabilirsiniz:\n",
    "\n"
   ]
  },
  {
   "cell_type": "code",
   "execution_count": 98,
   "id": "72b447e9-ce9a-4efa-a91e-ebd5e4542d99",
   "metadata": {},
   "outputs": [
    {
     "data": {
      "text/plain": [
       "mappingproxy({'__new__': <function dict.__new__(*args, **kwargs)>,\n",
       "              '__repr__': <slot wrapper '__repr__' of 'dict' objects>,\n",
       "              '__hash__': None,\n",
       "              '__getattribute__': <slot wrapper '__getattribute__' of 'dict' objects>,\n",
       "              '__lt__': <slot wrapper '__lt__' of 'dict' objects>,\n",
       "              '__le__': <slot wrapper '__le__' of 'dict' objects>,\n",
       "              '__eq__': <slot wrapper '__eq__' of 'dict' objects>,\n",
       "              '__ne__': <slot wrapper '__ne__' of 'dict' objects>,\n",
       "              '__gt__': <slot wrapper '__gt__' of 'dict' objects>,\n",
       "              '__ge__': <slot wrapper '__ge__' of 'dict' objects>,\n",
       "              '__iter__': <slot wrapper '__iter__' of 'dict' objects>,\n",
       "              '__init__': <slot wrapper '__init__' of 'dict' objects>,\n",
       "              '__or__': <slot wrapper '__or__' of 'dict' objects>,\n",
       "              '__ror__': <slot wrapper '__ror__' of 'dict' objects>,\n",
       "              '__ior__': <slot wrapper '__ior__' of 'dict' objects>,\n",
       "              '__len__': <slot wrapper '__len__' of 'dict' objects>,\n",
       "              '__getitem__': <method '__getitem__' of 'dict' objects>,\n",
       "              '__setitem__': <slot wrapper '__setitem__' of 'dict' objects>,\n",
       "              '__delitem__': <slot wrapper '__delitem__' of 'dict' objects>,\n",
       "              '__contains__': <method '__contains__' of 'dict' objects>,\n",
       "              '__sizeof__': <method '__sizeof__' of 'dict' objects>,\n",
       "              'get': <method 'get' of 'dict' objects>,\n",
       "              'setdefault': <method 'setdefault' of 'dict' objects>,\n",
       "              'pop': <method 'pop' of 'dict' objects>,\n",
       "              'popitem': <method 'popitem' of 'dict' objects>,\n",
       "              'keys': <method 'keys' of 'dict' objects>,\n",
       "              'items': <method 'items' of 'dict' objects>,\n",
       "              'values': <method 'values' of 'dict' objects>,\n",
       "              'update': <method 'update' of 'dict' objects>,\n",
       "              'fromkeys': <method 'fromkeys' of 'dict' objects>,\n",
       "              'clear': <method 'clear' of 'dict' objects>,\n",
       "              'copy': <method 'copy' of 'dict' objects>,\n",
       "              '__reversed__': <method '__reversed__' of 'dict' objects>,\n",
       "              '__class_getitem__': <method '__class_getitem__' of 'dict' objects>,\n",
       "              '__doc__': \"dict() -> new empty dictionary\\ndict(mapping) -> new dictionary initialized from a mapping object's\\n    (key, value) pairs\\ndict(iterable) -> new dictionary initialized as if via:\\n    d = {}\\n    for k, v in iterable:\\n        d[k] = v\\ndict(**kwargs) -> new dictionary initialized with the name=value pairs\\n    in the keyword argument list.  For example:  dict(one=1, two=2)\"})"
      ]
     },
     "execution_count": 98,
     "metadata": {},
     "output_type": "execute_result"
    }
   ],
   "source": [
    "vars(str)\n",
    "vars(list)\n",
    "vars(dict)"
   ]
  },
  {
   "cell_type": "markdown",
   "id": "17a192ab-1732-4193-93f6-16748957b080",
   "metadata": {},
   "source": [
    "Yukarıda sırasıyla karakter dizilerinin, listelerin ve sözlüklerin metotlarını listeledik. Bu yönüyle vars() fonksiyonu dir() fonksiyonuna benzer.\n",
    "\n",
    "Böylece Python’daki gömülü fonksiyonları tek tek incelemiş olduk. Bu bölümde incelemediğimiz gömülü fonksiyonlar şunlar:\n",
    "\n",
    "memoryview\n",
    "\n",
    "iter\n",
    "\n",
    "next\n",
    "\n",
    "object\n",
    "\n",
    "property\n",
    "\n",
    "staticmethod\n",
    "\n",
    "super\n",
    "\n",
    "getattr\n",
    "\n",
    "hasattr\n",
    "\n",
    "delattr\n",
    "\n",
    "classmethod\n",
    "\n",
    "issubclass\n",
    "\n",
    "setattr\n",
    "\n",
    "__import__\n",
    "\n",
    "Bu fonksiyonları, ilerleyen derslerle birlikte Python bilgimiz biraz daha arttığında ele alacağız."
   ]
  },
  {
   "cell_type": "code",
   "execution_count": null,
   "id": "34dfca6a-867d-4810-98c1-0efdae51dcd4",
   "metadata": {},
   "outputs": [],
   "source": []
  }
 ],
 "metadata": {
  "kernelspec": {
   "display_name": "Python 3 (ipykernel)",
   "language": "python",
   "name": "python3"
  },
  "language_info": {
   "codemirror_mode": {
    "name": "ipython",
    "version": 3
   },
   "file_extension": ".py",
   "mimetype": "text/x-python",
   "name": "python",
   "nbconvert_exporter": "python",
   "pygments_lexer": "ipython3",
   "version": "3.10.12"
  }
 },
 "nbformat": 4,
 "nbformat_minor": 5
}
