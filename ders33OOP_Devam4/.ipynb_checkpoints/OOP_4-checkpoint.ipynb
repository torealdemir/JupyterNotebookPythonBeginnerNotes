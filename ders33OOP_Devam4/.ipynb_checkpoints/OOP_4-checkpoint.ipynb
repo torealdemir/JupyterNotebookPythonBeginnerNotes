{
 "cells": [
  {
   "cell_type": "markdown",
   "id": "46c6c2a9-9a05-44cb-81c1-6f459ac398d8",
   "metadata": {},
   "source": [
    "++++++++++++++Nesne Tabanlı Programlama (Devamı)\n",
    "\n",
    "Nesne tabanlı programlamaya giriş yaparken, bu programlama yaklaşımının oldukça geniş kapsamlı bir konu olduğunu söylemiştik. Bu bölümde de bu geniş kapsamlı konunun ileri düzey yönlerini ele almaya devam edeceğiz.\n",
    "\n",
    "Ayrıca bu bölümü bitirdikten sonra, nesne tabanlı programlamanın yoğun bir şekilde kullanıldığı ‘grafik arayüz tasarlama’ konusundan da söz edebileceğiz. Böylece, bu zamana kadar gördüğümüz komut satırı uygulamalarından sonra, bu bölümle birlikte ilk kez düğmeli-menülü modern arayüzleri tanımaya da başlayacağız. Üstelik grafik arayüzlü programlar üzerinde çalışmak, nesne tabanlı programlamanın özellikle karmaşık yönlerini çok daha kolay ve net bir şekilde anlamamızı da sağlayacak."
   ]
  },
  {
   "cell_type": "markdown",
   "id": "ca7dac0f-4e58-482c-8081-3a8d5ed47111",
   "metadata": {},
   "source": [
    "+++++++++++Miras Alma\n",
    "\n",
    "Bu bölümde, yine nesne tabanlı programlamaya ait bir kavram olan ‘miras alma’dan söz edeceğiz. Bütün ayrıntılarıyla ele alacağımız miras alma, nesne tabanlı programlamanın en önemli konularından birisidir. Hatta nesne tabanlı programlamayı faydalı bir programlama yaklaşımı haline getiren özelliklerin başında miras alma gelir dersek çok da abartmış olmayız. Ayrıca miras alma konusu, komut satırında çalışan programların yanı sıra grafik arayüzlü programlar da yazabilmemizin önündeki son engel olacak. Bu bölümü tamamladıktan sonra, grafik arayüzlü programlar yazmamızı sağlayacak özel modüllerin belgelerinden yararlanabilmeye ve grafik arayüzlü programların kodlarını okuyup anlamaya başlayabileceğiz.\n",
    "\n",
    "Daha önce de söylediğimiz gibi, Python programlama dilinin temel felsefesi, bir kez yazılan kodları en verimli şekilde tekrar tekrar kullanabilmeye dayanır. Genel olarak baktığımızda dilin hemen hemen bütün öğeleri bu amaca hizmet edecek şekilde tasarlanmıştır. İşte bu başlık altında ele alacağımız ‘miras alma’ kavramı da kodların tekrar tekrar kullanılabilmesi felsefesine katkı sunan bir özelliktir.\n",
    "\n",
    "İsterseniz miras alma konusunu anlatmaya basit bir örnekle başlayalım.\n",
    "\n",
    "Diyelim ki bir oyun yazıyorsunuz. Bu oyun içinde askerler, işçiler, yöneticiler, krallar, kraliçeler ve bunun gibi oyuncu türleri olacak. Bu oyuncuları ve kabiliyetlerini mesela şöyle tanımlayabilirsiniz:"
   ]
  },
  {
   "cell_type": "code",
   "execution_count": null,
   "id": "b28ba75b-1a89-45a4-9497-f319a2776c66",
   "metadata": {},
   "outputs": [],
   "source": [
    "class Asker():\n",
    "    def __init__(self, isim, rütbe):\n",
    "        self.isim = isim\n",
    "        self.rütbe = rütbe\n",
    "        self.güç = 100\n",
    "\n",
    "    def hareket_et(self):\n",
    "        print('hareket ediliyor...')\n",
    "\n",
    "    def puan_kazan(self):\n",
    "        print('puan kazanıldı')\n",
    "\n",
    "    def puan_kaybet(self):\n",
    "        print('puan kaybedildi')\n",
    "\n",
    "class İşçi():\n",
    "    def __init__(self, isim, rütbe):\n",
    "        self.isim = isim\n",
    "        self.rütbe = rütbe\n",
    "        self.güç = 70\n",
    "\n",
    "    def hareket_et(self):\n",
    "        print('hareket ediliyor...')\n",
    "\n",
    "    def puan_kazan(self):\n",
    "        print('puan kazanıldı')\n",
    "\n",
    "    def puan_kaybet(self):\n",
    "        print('puan kaybedildi')\n",
    "\n",
    "class Yönetici():\n",
    "    def __init__(self, isim, rütbe):\n",
    "        self.isim = isim\n",
    "        self.rütbe = rütbe\n",
    "        self.güç = 20\n",
    "\n",
    "    def hareket_et(self):\n",
    "        print('hareket ediliyor...')\n",
    "\n",
    "    def puan_kazan(self):\n",
    "        print('puan kazanıldı')\n",
    "\n",
    "    def puan_kaybet(self):\n",
    "        print('puan kaybedildi')"
   ]
  },
  {
   "cell_type": "markdown",
   "id": "d8a53eae-3df4-46d0-9446-12e585de05ab",
   "metadata": {},
   "source": [
    "Burada asker, işçi ve yöneticinin her biri için ayrı bir sınıf tanımladık. Her sınıfın bir ismi, rütbesi ve gücü var. Ayrıca her sınıf; hareket etme, puan kazanma ve puan kaybetme gibi kabiliyetlere sahip.\n",
    "\n",
    "Bu kodların oyuncular.py adlı bir dosyada bulunduğunu varsayarsak, mesela bir asker oluşturmak için yukarıdaki kodları şöyle kullanabiliriz:\n",
    "\n"
   ]
  },
  {
   "cell_type": "code",
   "execution_count": null,
   "id": "91dab3a1-1400-4036-97a8-42637182e295",
   "metadata": {},
   "outputs": [],
   "source": [
    "import oyuncular\n",
    "asker1 = oyuncular.Asker('Mehmet', 'er')"
   ]
  },
  {
   "cell_type": "markdown",
   "id": "c23250b2-abe7-435c-ae64-b49347a4a20a",
   "metadata": {},
   "source": [
    "Asker() sınıfının isim ve rütbe parametrelerini belirtmek suretiyle bir asker nesnesi oluşturduk. Tıpkı Python’da gördüğümüz başka nesneler gibi, bu nesne de çeşitli nitelik ve metotlardan oluşuyor:"
   ]
  },
  {
   "cell_type": "code",
   "execution_count": null,
   "id": "cfd1e4dd-4203-4fb0-b263-20c931490f39",
   "metadata": {},
   "outputs": [],
   "source": [
    "dir(asker1)\n",
    "\n",
    "['__class__', '__delattr__', '__dict__', '__dir__', '__doc__',\n",
    " '__eq__', '__format__', '__ge__', '__getattribute__', '__gt__',\n",
    " '__hash__', '__init__', '__le__', '__lt__', '__module__', '__ne__',\n",
    " '__new__', '__reduce__', '__reduce_ex__', '__repr__', '__setattr__',\n",
    " '__sizeof__', '__str__', '__subclasshook__', '__weakref__', 'güç',\n",
    " 'hareket_et', 'isim', 'puan_kaybet', 'puan_kazan', 'rütbe']"
   ]
  },
  {
   "cell_type": "markdown",
   "id": "53215ba4-3760-404e-975f-829f82340bc7",
   "metadata": {},
   "source": [
    "Bu nitelik ve metotları asker nesnesi üzerine nasıl uygulayacağımızı biliyorsunuz:\n",
    "\n"
   ]
  },
  {
   "cell_type": "code",
   "execution_count": null,
   "id": "dc3f67d3-4329-426a-8996-b62eb36cfdbc",
   "metadata": {},
   "outputs": [],
   "source": [
    "asker1.isim\n",
    "\n",
    "'Mehmet'\n",
    "\n",
    "asker1.rütbe\n",
    "\n",
    "'er'\n",
    "\n",
    "asker1.güç\n",
    "\n",
    "100\n",
    "\n",
    "asker1.hareket_et()\n",
    "\n",
    "'hareket ediliyor...'\n",
    "\n",
    "asker1.puan_kazan()\n",
    "\n",
    "'puan kazanıldı'\n",
    "\n",
    "asker1.puan_kaybet()\n",
    "\n",
    "'puan kaybedildi'"
   ]
  },
  {
   "cell_type": "markdown",
   "id": "a6fe4a7b-feb9-4ab0-960a-a171aa7f1ee6",
   "metadata": {},
   "source": [
    "Aynı şekilde öteki İşçi() ve Yönetici() sınıflarını da örnekleyip kullanabiliriz. Bu konuda bir problem yok. Ancak yukarıdaki kodları incelediğinizde, aynı kodların sürekli tekrarlandığını göreceksiniz. Gördüğünüz gibi, aynı nitelik ve metotları her sınıf için yeniden tanımlıyoruz. Bu durumun Python’ın mantalitesine aykırı olduğunu tahmin etmek hiç zor değil. Peki acaba yukarıdaki kodları nasıl daha ‘Pythonvari’ hale getirebiliriz?\n",
    "\n",
    "Bu noktada ilk olarak taban sınıflardan söz etmemiz gerekiyor.\n",
    "\n"
   ]
  },
  {
   "cell_type": "markdown",
   "id": "381cb38c-7a52-43ee-b0f2-534366d952c9",
   "metadata": {},
   "source": [
    "+++++++++++Taban Sınıflar\n",
    "\n",
    "Taban sınıflar (base classes) miras alma konusunun önemli kavramlarından biridir. Dilerseniz taban sınıfın ne olduğu anlayabilmek için, yukarıda verdiğimiz örneği temel alarak çok basit bir uygulama yapalım.\n",
    "\n",
    "Öncelikle yukarıda verdiğimiz örneği tekrar önümüze alalım:"
   ]
  },
  {
   "cell_type": "code",
   "execution_count": null,
   "id": "de896f8a-5897-4d68-9c05-77ba9146dd2c",
   "metadata": {},
   "outputs": [],
   "source": [
    "class Asker():\n",
    "    def __init__(self, isim, rütbe):\n",
    "        self.isim = isim\n",
    "        self.rütbe = rütbe\n",
    "        self.güç = 100\n",
    "\n",
    "    def hareket_et(self):\n",
    "        print('hareket ediliyor...')\n",
    "\n",
    "    def puan_kazan(self):\n",
    "        print('puan kazanıldı')\n",
    "\n",
    "    def puan_kaybet(self):\n",
    "        print('puan kaybedildi')\n",
    "\n",
    "class İşçi():\n",
    "    def __init__(self, isim, rütbe):\n",
    "        self.isim = isim\n",
    "        self.rütbe = rütbe\n",
    "        self.güç = 70\n",
    "\n",
    "    def hareket_et(self):\n",
    "        print('hareket ediliyor...')\n",
    "\n",
    "    def puan_kazan(self):\n",
    "        print('puan kazanıldı')\n",
    "\n",
    "    def puan_kaybet(self):\n",
    "        print('puan kaybedildi')\n",
    "\n",
    "class Yönetici():\n",
    "    def __init__(self, isim, rütbe):\n",
    "        self.isim = isim\n",
    "        self.rütbe = rütbe\n",
    "        self.güç = 20\n",
    "\n",
    "    def hareket_et(self):\n",
    "        print('hareket ediliyor...')\n",
    "\n",
    "    def puan_kazan(self):\n",
    "        print('puan kazanıldı')\n",
    "\n",
    "    def puan_kaybet(self):\n",
    "        print('puan kaybedildi')"
   ]
  },
  {
   "cell_type": "markdown",
   "id": "1d66798e-32f0-4f5c-82ef-4cc5cbffdcf5",
   "metadata": {},
   "source": [
    "Bu örnekte, Asker(), İşçi() ve Yönetici() adlı sınıfların içeriğine baktığımızda pek çok metot ve niteliğin aslında birbiriyle aynı olduğunu görüyoruz. Gelin isterseniz bütün sınıflarda ortak olan bu nitelik ve metotları tek bir sınıf altında toplayalım.\n",
    "\n",
    "Asker(), İşçi() ve Yönetici() sınıflarının, yazdığımız programdaki oyuncuları temsil ettiğini düşünürsek, ortak nitelik ve metotları barındıran sınıfımızı da Oyuncu() olarak adlandırmamız mantıksız olmayacaktır:"
   ]
  },
  {
   "cell_type": "code",
   "execution_count": null,
   "id": "ceca72ca-eeaf-4a29-a38d-78a65212f05a",
   "metadata": {},
   "outputs": [],
   "source": [
    "class Oyuncu():\n",
    "    def __init__(self, isim, rütbe):\n",
    "        self.isim = isim\n",
    "        self.rütbe = rütbe\n",
    "        self.güç = 0\n",
    "\n",
    "    def hareket_et(self):\n",
    "        print('hareket ediliyor...')\n",
    "\n",
    "    def puan_kazan(self):\n",
    "        print('puan kazanıldı')\n",
    "\n",
    "    def puan_kaybet(self):\n",
    "        print('puan kaybedildi')"
   ]
  },
  {
   "cell_type": "markdown",
   "id": "ce486e37-5586-40eb-9824-0cf2e56fa1bd",
   "metadata": {},
   "source": [
    "İşte burada Oyuncu() adlı sınıf, bir ‘taban sınıf’ olarak adlandırılır. Taban sınıf denen şey, birkaç farklı sınıfta ortak olan nitelik ve metotları barındıran bir sınıf türüdür. İngilizcede base class olarak adlandırılan taban sınıflar, ayrıca üst sınıf (super class) veya ebeveyn sınıf (parent class) olarak da adlandırılır. Biz bu makalede taban sınıf ismini tercih edeceğiz.\n",
    "\n",
    "Yukarıdaki Oyuncu() adlı taban sınıf da, İşçi(), Asker(), Yönetici() gibi sınıfların hepsinde ortak olarak bulunacak nitelik ve metotları barındıracak. Öteki bütün sınıflar, ortak nitelik ve metotlarını her defasında tek tek yeniden tanımlamak yerine, Oyuncu() adlı bu taban sınıftan devralacak. Peki ama nasıl? İşte bunu anlamak için de ‘alt sınıf’ adlı bir kavrama değinmemiz gerekiyor.\n",
    "\n"
   ]
  },
  {
   "cell_type": "markdown",
   "id": "fadca9cf-ea71-450f-8eef-7410758e6e07",
   "metadata": {},
   "source": [
    "+++++++++++++Alt Sınıflar\n",
    "\n",
    "Bir taban sınıftan türeyen bütün sınıflar, o taban sınıfın alt sınıflarıdır. (subclass). Alt sınıflar, kendilerinden türedikleri taban sınıfların metot ve niteliklerini miras yoluyla devralır.\n",
    "\n",
    "Anlattığımız bu soyut şeyleri anlamanın en kolay yolu somut bir örnek üzerinden ilerlemektir. Mesela, biraz önce tanımladığımız Oyuncu() adlı taban sınıftan bir alt sınıf türetelim:"
   ]
  },
  {
   "cell_type": "code",
   "execution_count": null,
   "id": "1d5c723d-5ad6-46cb-b178-0ef21d1f7c1e",
   "metadata": {},
   "outputs": [],
   "source": [
    "class Asker(Oyuncu):\n",
    "    pass"
   ]
  },
  {
   "cell_type": "markdown",
   "id": "8791a137-49b2-4539-826e-046a72ba0014",
   "metadata": {},
   "source": [
    "Kodlarımız tam olarak şöyle görünüyor:\n",
    "\n"
   ]
  },
  {
   "cell_type": "code",
   "execution_count": null,
   "id": "a217de32-ea18-4b3e-bfd3-68fbc2f37025",
   "metadata": {},
   "outputs": [],
   "source": [
    "class Oyuncu():\n",
    "    def __init__(self, isim, rütbe):\n",
    "        self.isim = isim\n",
    "        self.rütbe = rütbe\n",
    "        self.güç = 0\n",
    "\n",
    "    def hareket_et(self):\n",
    "        print('hareket ediliyor...')\n",
    "\n",
    "    def puan_kazan(self):\n",
    "        print('puan kazanıldı')\n",
    "\n",
    "    def puan_kaybet(self):\n",
    "        print('puan kaybedildi')\n",
    "\n",
    "class Asker(Oyuncu):\n",
    "    pass"
   ]
  },
  {
   "cell_type": "markdown",
   "id": "3937a5f4-cfba-41c9-b2c2-a055cdde2725",
   "metadata": {},
   "source": [
    "Burada Asker() sınıfını tanımlarken, bu sınıfın parantezleri içine Oyuncu() sınıfının adını yazdığımıza dikkat edin. İşte bu şekilde bir sınıfın parantezleri içinde başka bir sınıfın adını belirtirsek, o sınıf, parantez içinde belirttiğimiz sınıfın bir alt sınıfı olmuş olur. Yani mesela yukarıdaki gibi Asker() sınıfının parantezleri arasına Oyuncu() sınıfının adını yazdığımızda, Asker() adlı sınıf;\n",
    "\n",
    "-Oyuncu() adlı sınıfı miras almış,\n",
    "\n",
    "-Oyuncu() adlı sınıfın bütün metot ve niteliklerini devralmış,\n",
    "\n",
    "-Oyuncu() adlı sınıftan türemiş oluyor.\n",
    "\n",
    "Bu sayede Oyuncu() sınıfında tanımlanan bütün nitelik ve metotlara Asker() sınıfından da erişebiliyoruz:\n",
    "\n"
   ]
  },
  {
   "cell_type": "code",
   "execution_count": null,
   "id": "88a13ebe-d0ae-4c27-959f-f10f44b8558c",
   "metadata": {},
   "outputs": [],
   "source": [
    "import oyuncular\n",
    "asker1 = oyuncular.Asker('Ahmet', 'Er')\n",
    "asker1.isim\n",
    "\n",
    "'Ahmet'\n",
    "\n",
    "asker1.rütbe\n",
    "\n",
    "'Er'\n",
    "\n",
    "asker1.güç\n",
    "\n",
    "0\n",
    "\n",
    "asker1.puan_kazan()\n",
    "\n",
    "'puan kazanıldı'"
   ]
  },
  {
   "cell_type": "markdown",
   "id": "82f9c58d-140d-4367-93c8-9528efd08f43",
   "metadata": {},
   "source": [
    "Örnek olması açısından, Oyuncu() sınıfından türeyen (miras alan) birkaç alt sınıf daha tanımlayalım:"
   ]
  },
  {
   "cell_type": "code",
   "execution_count": null,
   "id": "927351b3-1a52-4f2f-9973-8fbefc759501",
   "metadata": {},
   "outputs": [],
   "source": [
    "class Oyuncu():\n",
    "    def __init__(self, isim, rütbe):\n",
    "        self.isim = isim\n",
    "        self.rütbe = rütbe\n",
    "        self.güç = 0\n",
    "\n",
    "    def hareket_et(self):\n",
    "        print('hareket ediliyor...')\n",
    "\n",
    "    def puan_kazan(self):\n",
    "        print('puan kazanıldı')\n",
    "\n",
    "    def puan_kaybet(self):\n",
    "        print('puan kaybedildi')\n",
    "\n",
    "class Asker(Oyuncu):\n",
    "    pass\n",
    "\n",
    "class İşçi(Oyuncu):\n",
    "    pass\n",
    "\n",
    "class Yönetici(Oyuncu):\n",
    "    pass"
   ]
  },
  {
   "cell_type": "markdown",
   "id": "5af320db-dadb-42e8-8130-06fb5b0b9bd8",
   "metadata": {},
   "source": [
    "Tanımladığımız bu İşçi() ve Yönetici() sınıfları da tıpkı Asker() sınıfı gibi Oyuncu() adlı sınıftan miras aldığı için, Oyuncu() sınıfının sahip olduğu tüm nitelik ve metotlara sahiptirler.\n",
    "\n",
    "Buraya kadar anlattıklarımızı özetleyecek olursak, şu sınıf bir taban sınıftır:"
   ]
  },
  {
   "cell_type": "code",
   "execution_count": null,
   "id": "e752124f-ad6a-45fb-8d3d-8b4c3dfbcae6",
   "metadata": {},
   "outputs": [],
   "source": [
    "class Oyuncu():\n",
    "    def __init__(self, isim, rütbe):\n",
    "        self.isim = isim\n",
    "        self.rütbe = rütbe\n",
    "        self.güç = 0\n",
    "\n",
    "    def hareket_et(self):\n",
    "        print('hareket ediliyor...')\n",
    "\n",
    "    def puan_kazan(self):\n",
    "        print('puan kazanıldı')\n",
    "\n",
    "    def puan_kaybet(self):\n",
    "        print('puan kaybedildi')"
   ]
  },
  {
   "cell_type": "markdown",
   "id": "489bea48-45c3-4b65-8174-2e657f45f547",
   "metadata": {},
   "source": [
    "Bu taban sınıf, kendisinden türeyecek alt sınıfların ortak nitelik ve metotlarını tanımlar.\n",
    "\n",
    "Şu sınıflar ise, yukarıdaki taban sınıftan türeyen birer alt sınıftır:\n",
    "\n"
   ]
  },
  {
   "cell_type": "code",
   "execution_count": null,
   "id": "1ac77e58-8365-4cce-885c-f0bec5bead73",
   "metadata": {},
   "outputs": [],
   "source": [
    "class Asker(Oyuncu):\n",
    "    pass\n",
    "\n",
    "class İşçi(Oyuncu):\n",
    "    pass\n",
    "\n",
    "class Yönetici(Oyuncu):\n",
    "    pass"
   ]
  },
  {
   "cell_type": "markdown",
   "id": "79a017d1-e811-4a28-9fcb-d0eb32a8e461",
   "metadata": {},
   "source": [
    "Bu alt sınıflar, Oyuncu() adlı taban sınıfın bütün nitelik ve metotlarını miras yoluyla devralır. Yani Oyuncu() adlı taban/ebeveyn/üst sınıfın nitelik ve metotlarına, Asker(), İşçi() ve Yönetici() adlı alt sınıflardan erişebiliriz:\n",
    "\n"
   ]
  },
  {
   "cell_type": "code",
   "execution_count": null,
   "id": "5439f190-b0f1-482d-b757-8ce64c962589",
   "metadata": {},
   "outputs": [],
   "source": [
    "asker1 = Asker('Ahmet', 'İstihkamcı')\n",
    "işçi1 = İşçi('Mehmet', 'Usta')\n",
    "yönetici1 = Yönetici('Selim', 'Müdür')\n",
    "asker1.hareket_et()\n",
    "\n",
    "'hareket ediliyor...'\n",
    "\n",
    "işçi1.puan_kaybet()\n",
    "\n",
    "'puan kaybedildi'\n",
    "\n",
    "yönetici1.puan_kazan()\n",
    "\n",
    "'puan kazanıldı'"
   ]
  },
  {
   "cell_type": "markdown",
   "id": "5e45b5d3-2e3b-435b-b0fa-73c6290f55d2",
   "metadata": {},
   "source": [
    "İşte bu mekanizmaya miras alma (inheritance) adı verilir. Miras alma mekanizması, bir kez yazılan kodların farklı yerlerde kullanılabilmesini sağlayan, bu bakımdan da programcıyı kod tekrarına düşmekten kurtaran oldukça faydalı bir araçtır. İlerleyen sayfalarda miras alma mekanizmasının başka faydalarını da göreceğiz.\n",
    "\n"
   ]
  },
  {
   "cell_type": "markdown",
   "id": "b936eb42-ff61-4b04-9031-846a367b1be5",
   "metadata": {},
   "source": [
    "++++++++++++++++Miras Alma Türleri\n",
    "\n",
    "Tahmin edebileceğiniz gibi, miras alma yalnızca bir sınıfın parantezleri arasına başka bir sınıfı yazarak ilgili sınıfın bütün nitelik ve metotlarını kayıtsız şartsız devralmaktan ibaret değildir. Bir sınıf, muhtemelen, miras aldığı nitelik ve metotlar üzerinde birtakım değişiklikler de yapmak isteyecektir. Esasında miras alma mekanizmasının işleyişi bakımından kabaca üç ihtimalden söz edebiliriz:\n",
    "\n",
    "-Miras alınan sınıfın bütün nitelik ve metotları alt sınıfa olduğu gibi devredilir.\n",
    "\n",
    "-Miras alınan sınıfın bazı nitelik ve metotları alt sınıfta yeniden tanımlanır.\n",
    "\n",
    "-Miras alınan sınıfın bazı nitelik ve metotları alt sınıfta değişikliğe uğratılır.\n",
    "\n",
    "Bu ihtimallerden ilkini zaten görmüştük. Bir sınıfın parantezleri arasına başka bir sınıfın adını yazdıktan sonra eğer alt sınıfta herhangi bir değişiklik yapmazsak, taban sınıftaki nitelik ve metotlar olduğu gibi alt sınıflara aktarılacaktır.\n",
    "\n",
    "Mesela:"
   ]
  },
  {
   "cell_type": "code",
   "execution_count": null,
   "id": "4f5a4b35-2c52-4b79-9729-c9d69b6cb4a9",
   "metadata": {},
   "outputs": [],
   "source": [
    "class Asker(Oyuncu):\n",
    "    pass"
   ]
  },
  {
   "cell_type": "markdown",
   "id": "4550fb67-b8ea-4a98-8d8b-3fc77ee03250",
   "metadata": {},
   "source": [
    "Burada Asker() sınıfı, miras aldığı Oyuncu() sınıfının sanki bir kopyası gibidir. Dolayısıyla Oyuncu() sınıfının bütün nitelik ve metotlarına Asker() sınıfı altından da aynen erişebiliriz.\n",
    "\n",
    "Yani yukarıdaki kod, Oyuncu() adlı sınıfın bütün nitelik ve metotlarının Asker() sınıfı tarafından miras alınmasını sağlar. Bu şekilde, Oyuncu() sınıfı içinde hangi metot veya nitelik nasıl tanımlanmışsa, Asker() sınıfına da o şekilde devredilir.\n",
    "\n",
    "Taban sınıfımızın şu şekilde tanımlandığını biliyoruz:"
   ]
  },
  {
   "cell_type": "code",
   "execution_count": null,
   "id": "598be9d3-ecd5-4eb8-a98c-0300ab8bec51",
   "metadata": {},
   "outputs": [],
   "source": [
    "class Oyuncu():\n",
    "    def __init__(self, isim, rütbe):\n",
    "        self.isim = isim\n",
    "        self.rütbe = rütbe\n",
    "        self.güç = 0\n",
    "\n",
    "    def hareket_et(self):\n",
    "        print('hareket ediliyor...')\n",
    "\n",
    "    def puan_kazan(self):\n",
    "        print('puan kazanıldı')\n",
    "\n",
    "    def puan_kaybet(self):\n",
    "        print('puan kaybedildi')"
   ]
  },
  {
   "cell_type": "markdown",
   "id": "f1c1100d-fecd-4d53-9d99-42ed88944731",
   "metadata": {},
   "source": [
    "Dolayısıyla bu taban sınıfta hangi nitelik ve metotlar hangi değerlere sahipse aşağıdaki Asker(), İşçi() ve Yönetici() sınıfları da o değerlere sahip olacaktır:\n",
    "\n"
   ]
  },
  {
   "cell_type": "code",
   "execution_count": null,
   "id": "9569c3ea-40f4-4184-ab62-d39d3b1c2b06",
   "metadata": {},
   "outputs": [],
   "source": [
    "class Asker(Oyuncu):\n",
    "    pass\n",
    "\n",
    "class İşçi(Oyuncu):\n",
    "    pass\n",
    "\n",
    "class Yönetici(Oyuncu):\n",
    "    pass"
   ]
  },
  {
   "cell_type": "markdown",
   "id": "bcc01e43-be04-4c6e-b826-0910f343d03a",
   "metadata": {},
   "source": [
    "Ancak, dediğimiz gibi, miras almada tek seçenek bütün metot ve nitelikleri olduğu gibi alt sınıflara aktarmak değildir. Zaten öyle olsaydı miras alma mekanizmasının pek bir anlamı olmazdı. Biz miras aldığımız sınıflar üzerinde, içinde bulunduğumuz durumun gerektirdiği birtakım değişiklikleri yapabilmeliyiz ki bu mekanizmanın ilgi çekici bir yanı olsun.\n",
    "\n",
    "Ayrıca eğer bir taban sınıfı alt sınıflara olduğu gibi aktaracaksanız, taban sınıftan gelen metot ve nitelikler üzerinde herhangi bir değişiklik yapmayacaksanız ve alt sınıflara da herhangi bir nitelik ilave etmeyecekseniz, alt sınıflar tanımlamak yerine doğrudan taban sınıfın örneklerinden yararlanmak daha akıllıca ve pratik bir tercih olabilir:\n",
    "\n"
   ]
  },
  {
   "cell_type": "code",
   "execution_count": null,
   "id": "32b8e226-db28-45cf-8af6-cfc753508928",
   "metadata": {},
   "outputs": [],
   "source": [
    "asker = Oyuncu('Ahmet', 'Er')\n",
    "işçi = Oyuncu('Mehmet', 'Usta')\n",
    "yönetici = Oyuncu('Selim', 'Müdür')"
   ]
  },
  {
   "cell_type": "markdown",
   "id": "6f63c6cd-9032-429c-9cda-8171a7c2738f",
   "metadata": {},
   "source": [
    "Burada asker, işçi ve yönetici için ayrı ayrı alt sınıflar tanımlamak yerine, her biri için doğrudan Oyuncu() sınıfını farklı isim ve rütbe değerleriyle örnekleyerek istediğimiz şeyi elde ettik.\n",
    "\n",
    "İlerleyen derslerde miras alma alternatiflerinden daha ayrıntılı bir şekilde söz edeceğiz, ama dilerseniz şimdi konuyu daha fazla dağıtmadan miras alınan metot ve niteliklerin alt sınıflar içinde nasıl yeniden tanımlanacağını, nasıl değişikliğe uğratılacağını ve alt sınıflara nasıl yeni nitelik ve metotlar ekleneceğini incelemeye geçelim ve ilk örneklerimizi vermeye başlayalım.\n",
    "\n",
    "Hatırlarsanız bir önceki başlıkta şöyle bir kod yazmıştık:"
   ]
  },
  {
   "cell_type": "code",
   "execution_count": null,
   "id": "4bab4086-a511-45aa-8853-bf00f7597f75",
   "metadata": {},
   "outputs": [],
   "source": [
    "class Asker(Oyuncu):\n",
    "    pass"
   ]
  },
  {
   "cell_type": "markdown",
   "id": "5b85220e-cebf-4a60-b03c-44efe3e8f9fd",
   "metadata": {},
   "source": [
    "Burada Oyuncu() sınıfını bütünüyle alt sınıfa aktardık. Peki ya biz bir taban sınıfı olduğu gibi miras almak yerine, bazı nitelikleri üzerinde değişiklik yaparak miras almak istersek ne olacak? Mesela taban sınıf içinde self.güç değeri 0. Biz bu değerin Asker(), İşçi() ve Yönetici() örnekleri için birbirinden farklı olmasını isteyebiliriz. Veya taban sınıfı olduğu gibi miras almakla birlikte, alt sınıflardan herhangi birine ilave nitelik veya nitelikler eklemek de isteyebiliriz. Diyelim ki biz Asker() sınıfı için, öteki sınıflardan farklı olarak, bir de memleket niteliği tanımlamak istiyoruz. Peki bu durumda ne yapacağız?\n",
    "\n",
    "İşte bunun için Asker() sınıfını şu şekilde yazabiliriz:\n",
    "\n"
   ]
  },
  {
   "cell_type": "code",
   "execution_count": null,
   "id": "71521ab3-83cf-4a8e-87a2-0cd090bcbbbf",
   "metadata": {},
   "outputs": [],
   "source": [
    "class Asker(Oyuncu):\n",
    "    memleket = 'Arpaçbahşiş'"
   ]
  },
  {
   "cell_type": "markdown",
   "id": "bad72a56-de22-4d5e-874b-08198704bfca",
   "metadata": {},
   "source": [
    "Burada Asker() sınıfına memleket adlı bir sınıf niteliği eklemiş olduk. Dolayısıyla Asker() sınıfı, Oyuncu() adlı taban sınıftan miras alınan bütün nitelik ve metotlarla birlikte bir de memleket niteliğine sahip olmuş oldu:"
   ]
  },
  {
   "cell_type": "code",
   "execution_count": null,
   "id": "70298963-a448-4ec2-a0f8-096bd9c05aee",
   "metadata": {},
   "outputs": [],
   "source": [
    "asker = Asker('Ahmet', 'binbaşı')\n",
    "asker.isim\n",
    "\n",
    "'Ahmet'\n",
    "\n",
    "asker.memleket\n",
    "\n",
    "'Arpaçbahşiş'\n"
   ]
  },
  {
   "cell_type": "markdown",
   "id": "7bee6a31-bd33-4eca-a1d5-46dc9fc3581b",
   "metadata": {},
   "source": [
    "Elbette, bu niteliği öbür alt sınıflarda tanımlamadığımız için bu nitelik yalnızca Asker() sınıfına özgüdür.\n",
    "\n",
    "Aynı şekilde, bir taban sınıftan türeyen bir alt sınıfa yeni bir sınıf metodu, örnek metodu veya statik metot da ekleyebiliriz:"
   ]
  },
  {
   "cell_type": "code",
   "execution_count": null,
   "id": "225bfb34-2b7a-4158-aea0-4f65e11e748d",
   "metadata": {},
   "outputs": [],
   "source": [
    "class Asker(Oyuncu):\n",
    "    memleket = 'Arpaçbahşiş'\n",
    "\n",
    "    def örnek_metodu(self):\n",
    "        pass\n",
    "\n",
    "    @classmethod\n",
    "    def sınıf_metodu(cls):\n",
    "        pass\n",
    "\n",
    "    @staticmethod\n",
    "    def statik_metot():\n",
    "        pass"
   ]
  },
  {
   "cell_type": "markdown",
   "id": "08cffb77-61a3-4ccf-8b5f-b3031c2c5a0f",
   "metadata": {},
   "source": [
    "Kural şu: Eğer alt sınıfa eklenen herhangi bir nitelik veya metot taban sınıfta zaten varsa, alt sınıfa eklenen nitelik ve metotlar taban sınıftaki metot ve niteliklerin yerine geçecektir. Yani diyelim ki taban sınıfımız şu:"
   ]
  },
  {
   "cell_type": "code",
   "execution_count": null,
   "id": "14eafd33-e36a-48fc-88c4-55ed30f4c2d2",
   "metadata": {},
   "outputs": [],
   "source": [
    "class Oyuncu():\n",
    "    def __init__(self, isim, rütbe):\n",
    "        self.isim = isim\n",
    "        self.rütbe = rütbe\n",
    "        self.güç = 0\n",
    "\n",
    "    def hareket_et(self):\n",
    "        print('hareket ediliyor...')\n",
    "\n",
    "    def puan_kazan(self):\n",
    "        print('puan kazanıldı')\n",
    "\n",
    "    def puan_kaybet(self):\n",
    "        print('puan kaybedildi')"
   ]
  },
  {
   "cell_type": "markdown",
   "id": "46cd5dde-bccf-49d9-ae92-609aad5cc66e",
   "metadata": {},
   "source": [
    "Bu sınıfın nitelik ve metotlarını miras yoluyla devralan Asker() sınıfımız ise şu:"
   ]
  },
  {
   "cell_type": "code",
   "execution_count": null,
   "id": "135845ac-0b61-4387-9703-566eb7631a0c",
   "metadata": {},
   "outputs": [],
   "source": [
    "class Asker(Oyuncu):\n",
    "    pass"
   ]
  },
  {
   "cell_type": "markdown",
   "id": "41977505-4101-426f-b482-806462b6ff16",
   "metadata": {},
   "source": [
    "Şimdi bu sınıf içinde hareket_et() adlı bir örnek metodu tanımlayalım:\n",
    "\n"
   ]
  },
  {
   "cell_type": "code",
   "execution_count": null,
   "id": "19a0ea34-7b92-457f-a64d-dea6a8093c1f",
   "metadata": {},
   "outputs": [],
   "source": [
    "class Asker(Oyuncu):\n",
    "    def hareket_et(self):\n",
    "        print('yeni hareket_et() metodu')"
   ]
  },
  {
   "cell_type": "markdown",
   "id": "43810cae-196b-4faa-a891-b4db7039824b",
   "metadata": {},
   "source": [
    "Eğer taban sınıfta hareket_et() adlı bir metot olmasaydı, Asker() adlı alt sınıf, taban sınıftan miras alınan öteki metot ve niteliklerle birlikte bir de hareket_et() adlı yeni bir örnek metoduna sahip olmuş olacaktı. Ancak taban sınıfta zaten hareket_et() adlı bir örnek metodu olduğu için, alt sınıfta tanımladığımız aynı adlı örnek metodu, taban sınıftaki metodun yerine geçip üzerine yazıyor.\n",
    "\n",
    "Buraya kadar her şey tamam. Artık bir taban sınıfa ait metodu alt sınıfa miras yoluyla aktarırken nasıl yeniden tanımlayacağımızı öğrendik. Ayrıca alt sınıflara nasıl yeni metot ve nitelik ekleyeceğimizi de biliyoruz. Ama mesela, self.isim ve self.rütbe değişkenlerini korurken, taban sınıf içinde 0 değeri ile gösterilen self.güç değişkenini Asker(), İşçi() ve Yönetici() sınıflarının her biri içinde nasıl farklı bir değerle göstereceğimizi bilmiyoruz. Yani self.güç değerini Asker() sınıfı içinde 100, İşçi() sınıfı içinde 70, Yönetici() sınıfı içinde ise 50 ile göstermek istesek nasıl bir yol takip etmemiz gerektiği konusunda bir fikrimiz yok. İsterseniz şu ana kadar bildiğimiz yöntemleri kullanarak bu amacımızı gerçekleştirmeyi bir deneyelim:"
   ]
  },
  {
   "cell_type": "code",
   "execution_count": null,
   "id": "faae0d36-7d10-4fed-92f0-dec0704e8eff",
   "metadata": {},
   "outputs": [],
   "source": [
    "class Oyuncu():\n",
    "    def __init__(self, isim, rütbe):\n",
    "        self.isim = isim\n",
    "        self.rütbe = rütbe\n",
    "        self.güç = 0\n",
    "\n",
    "    def hareket_et(self):\n",
    "        print('hareket ediliyor...')\n",
    "\n",
    "    def puan_kazan(self):\n",
    "        print('puan kazanıldı')\n",
    "\n",
    "    def puan_kaybet(self):\n",
    "        print('puan kaybedildi')\n",
    "\n",
    "class Asker(Oyuncu):\n",
    "    def __init__(self, isim, rütbe):\n",
    "        self.güç = 100\n",
    "\n",
    "class İşçi(Oyuncu):\n",
    "    def __init__(self, isim, rütbe):\n",
    "        self.güç = 70\n",
    "\n",
    "class Yönetici(Oyuncu):\n",
    "    def __init__(self, isim, rütbe):\n",
    "        self.güç = 50"
   ]
  },
  {
   "cell_type": "markdown",
   "id": "f33dbbcf-9783-4a08-8920-66a3f9741908",
   "metadata": {},
   "source": [
    "Burada taban sınıfın __init__() metodunu alt sınıflarda yeniden tanımladık. Bu kodları bu şekilde yazıp çalıştırdığımızda self.güç değerinin her bir alt sınıf için istediğimiz değere sahip olduğunu görürüz. Ancak burada şöyle bir sorun var. Bu kodları bu şekilde yazarak self.isim ve self.rütbe değişkenlerinin değerini maalesef kaybettik…\n",
    "\n",
    "__init__() metodunun parametre listesine isim ve rütbe parametrelerini yazdığımız halde bunları kodlarımız içinde herhangi bir şekilde kullanmadığımız için, bu parametrelerin listede görünüyor olması bir şey ifade etmiyor. Yani alt sınıflarda tanımladığımız __init__() metodu bizden isim ve rütbe adlı iki parametre bekliyor olsa da, bu parametrelerin değerini kodlar içinde kullanmadığımız için bu parametrelere değer atamamız herhangi bir amaca hizmet etmiyor.\n",
    "\n",
    "Gelin bu söylediklerimizi kanıtlayalım:\n",
    "\n"
   ]
  },
  {
   "cell_type": "code",
   "execution_count": null,
   "id": "ec5dff70-1472-420e-a937-da50dfb6ba9b",
   "metadata": {},
   "outputs": [],
   "source": [
    "import oyuncular\n",
    "asker = oyuncular.Asker('Ahmet', 'Er')\n",
    "asker.rütbe\n",
    "\n",
    "Traceback (most recent call last):\n",
    "  File \"<stdin>\", line 1, in <module>\n",
    "AttributeError: 'Asker' object has no attribute 'rütbe'\n",
    "\n",
    "asker.isim\n",
    "\n",
    "Traceback (most recent call last):\n",
    "  File \"<stdin>\", line 1, in <module>\n",
    "AttributeError: 'Asker' object has no attribute 'isim'"
   ]
  },
  {
   "cell_type": "markdown",
   "id": "46be7b3e-28ca-4a93-94e3-2c14dedaecef",
   "metadata": {},
   "source": [
    "Bu sorunu çözmek için alt sınıflarımızı şu şekilde yazabiliriz:"
   ]
  },
  {
   "cell_type": "code",
   "execution_count": null,
   "id": "072176d9-ef06-4444-b1ec-b928e2b5ca65",
   "metadata": {},
   "outputs": [],
   "source": [
    "class Asker(Oyuncu):\n",
    "    def __init__(self, isim, rütbe):\n",
    "        self.isim = isim\n",
    "        self.rütbe = rütbe\n",
    "        self.güç = 100\n",
    "\n",
    "class İşçi(Oyuncu):\n",
    "    def __init__(self, isim, rütbe):\n",
    "        self.isim = isim\n",
    "        self.rütbe = rütbe\n",
    "        self.güç = 70\n",
    "\n",
    "class Yönetici(Oyuncu):\n",
    "    def __init__(self, isim, rütbe):\n",
    "        self.isim = isim\n",
    "        self.rütbe = rütbe\n",
    "        self.güç = 50"
   ]
  },
  {
   "cell_type": "markdown",
   "id": "aa3e71d3-2757-47fc-9014-94d0cbd2200d",
   "metadata": {},
   "source": [
    "Burada self.isim ve self.rütbe değişkenlerini her bir alt sınıf için tekrar tanımladık. Bu küçük örnekte pek sorun olmayabilir, ama taban sınıfın __init__() metodunun içinde çok daha karmaşık işlemlerin yapıldığı durumlarda yukarıdaki yaklaşım hiç de pratik olmayacaktır. Ayrıca eğer miras alma işlemini, içeriğini bilmediğiniz veya başka bir dosyada bulunan bir sınıftan yapıyorsanız yukarıdaki yöntem tamamen kullanışsız olacaktır. Ayrıca aynı şeyleri tekrar tekrar yazmak miras alma mekanizmasının ruhuna tamamen aykırıdır. Çünkü biz miras alma işlemini zaten aynı şeyleri tekrar tekrar yazmaktan kurtulmak için yapıyoruz.\n",
    "\n",
    "Bu arada, yukarıda yapmak istediğimiz şeyi şununla karıştırmayın: Biz elbette taban sınıftaki bir niteliği, örnekleme sırasında değiştirme imkanına her koşulda sahibiz. Yani taban ve alt sınıfların şöyle tanımlanmış olduğunu varsayarsak:\n",
    "\n"
   ]
  },
  {
   "cell_type": "code",
   "execution_count": null,
   "id": "1a949bd5-463c-42c7-8083-0da82921dc08",
   "metadata": {},
   "outputs": [],
   "source": [
    "class Oyuncu():\n",
    "    def __init__(self, isim, rütbe):\n",
    "        self.isim = isim\n",
    "        self.rütbe = rütbe\n",
    "        self.güç = 0\n",
    "\n",
    "    def hareket_et(self):\n",
    "        print('hareket ediliyor...')\n",
    "\n",
    "    def puan_kazan(self):\n",
    "        print('puan kazanıldı')\n",
    "\n",
    "    def puan_kaybet(self):\n",
    "        print('puan kaybedildi')\n",
    "\n",
    "class Asker(Oyuncu):\n",
    "    pass\n",
    "\n",
    "class İşçi(Oyuncu):\n",
    "    pass\n",
    "\n",
    "class Yönetici(Oyuncu):\n",
    "    pass"
   ]
  },
  {
   "cell_type": "markdown",
   "id": "90050d19-e513-4e30-87b9-1103888c46fa",
   "metadata": {},
   "source": [
    "Her bir alt sınıfın güç değişkenini şu şekilde değiştirebiliriz:\n",
    "\n"
   ]
  },
  {
   "cell_type": "code",
   "execution_count": null,
   "id": "158895cb-4867-462b-9c71-c4c98c582eaf",
   "metadata": {},
   "outputs": [],
   "source": [
    "import oyuncular\n",
    "asker = oyuncular.Asker('Ahmet', 'Er')\n",
    "asker.güç\n",
    "\n",
    "0"
   ]
  },
  {
   "cell_type": "markdown",
   "id": "066a8825-997f-4fd0-8977-efcb34781cab",
   "metadata": {},
   "source": [
    "Gördüğünüz gibi şu anda askerin gücü 0. Bunu 100 yapalım:"
   ]
  },
  {
   "cell_type": "code",
   "execution_count": null,
   "id": "9029336c-4e47-4e6f-8699-d66ac390342d",
   "metadata": {},
   "outputs": [],
   "source": [
    "asker.güç = 100\n",
    "asker.güç\n",
    "100\n"
   ]
  },
  {
   "cell_type": "markdown",
   "id": "0de1d1c9-81d9-43e5-bfe1-daaaee13afae",
   "metadata": {},
   "source": [
    "Aynı şeyi öteki İşçi() ve Yönetici() sınıflarının örnekleri üzerinde de yapabiliriz. Ama bizim istediğimiz bu değil. Biz, Asker() sınıfını örneklediğimiz anda gücü 100, İşçi() sınıfını örneklediğimiz anda gücü 70, Yönetici() sınıfını örneklediğimiz anda ise gücü 50 olsun istiyoruz.\n",
    "\n",
    "İşte tam bu noktada imdadımıza yepyeni bir fonksiyon yetişecek. Bu yeni fonksiyonun adı super()."
   ]
  },
  {
   "cell_type": "markdown",
   "id": "f2f13d62-d4ec-4b2c-bf65-b1ed7b9c9d8a",
   "metadata": {},
   "source": [
    "+++++++++++super()\n",
    "\n",
    "Hatırlarsanız, taban sınıflardan ilk kez bahsederken, bunlara üst sınıf da dendiğini söylemiştik. Üst sınıf kavramının İngilizcesi super class’tır. İşte bu bölümde inceleyeceğimiz super() fonksiyonunun adı da buradaki ‘super’, yani ‘üst’ kelimesinden gelir. Miras alınan üst sınıfa atıfta bulunan super() fonksiyonu, miras aldığımız bir üst sınıfın nitelik ve metotları üzerinde değişiklik yaparken, mevcut özellikleri de muhafaza edebilmemizi sağlar.\n",
    "\n",
    "Bir önceki başlıkta verdiğimiz örnek üzerinden super() fonksiyonunu açıklamaya çalışalım:"
   ]
  },
  {
   "cell_type": "code",
   "execution_count": null,
   "id": "24302d1d-d316-42f8-952a-5ed7375ca555",
   "metadata": {},
   "outputs": [],
   "source": [
    "class Oyuncu():\n",
    "    def __init__(self, isim, rütbe):\n",
    "        self.isim = isim\n",
    "        self.rütbe = rütbe\n",
    "        self.güç = 0\n",
    "\n",
    "    def hareket_et(self):\n",
    "        print('hareket ediliyor...')\n",
    "\n",
    "    def puan_kazan(self):\n",
    "        print('puan kazanıldı')\n",
    "\n",
    "    def puan_kaybet(self):\n",
    "        print('puan kaybedildi')\n",
    "\n",
    "class Asker(Oyuncu):\n",
    "    def __init__(self, isim, rütbe):\n",
    "        self.güç = 100"
   ]
  },
  {
   "cell_type": "markdown",
   "id": "261d4c97-3edd-4bd6-b3cf-fb2f2f8e7c53",
   "metadata": {},
   "source": [
    "Bu kodlarda, Oyuncu() adlı taban sınıfı miras alan Asker() sınıfı, __init__() metodu içinde self.güç değerini yeniden tanımlıyor. Ancak bu şekilde taban sınıfın __init__() metodu silindiği için, self.isim ve self.rütbe değişkenlerini kaybediyoruz. İşte bu sorunu, üst sınıfa atıfta bulunan super() fonksiyonu ile çözebiliriz.\n",
    "\n",
    "Dikkatlice bakın:\n",
    "\n"
   ]
  },
  {
   "cell_type": "code",
   "execution_count": null,
   "id": "c1784038-5b47-4b17-acbe-cf4fa9f031e1",
   "metadata": {},
   "outputs": [],
   "source": [
    "class Asker(Oyuncu):\n",
    "    def __init__(self, isim, rütbe):\n",
    "        super().__init__(isim, rütbe)\n",
    "        self.güç = 100"
   ]
  },
  {
   "cell_type": "markdown",
   "id": "1bea4ae0-48ac-4036-9440-2adb957216b6",
   "metadata": {},
   "source": [
    "Burada __init__() metodu içinde şöyle bir satır kullandığımızı görüyorsunuz:\n",
    "\n"
   ]
  },
  {
   "cell_type": "code",
   "execution_count": null,
   "id": "a162dfef-e1a8-47a4-bba3-2eb47255aa89",
   "metadata": {},
   "outputs": [],
   "source": [
    "super().__init__(isim, rütbe)"
   ]
  },
  {
   "cell_type": "markdown",
   "id": "d6667579-e33f-4715-954f-290731f6da44",
   "metadata": {},
   "source": [
    "İşte bu satırda super() fonksiyonu, tam da adının anlamına uygun olarak, miras alınan üst sınıfın __init__() metodu içindeki kodların, miras alan alt sınıfın __init__() metodu içine aktarılmasını sağlıyor. Böylece hem taban sınıfın __init__() metodu içindeki self.isim ve self.rütbe niteliklerini korumuş, hem de self.güç adlı yeni bir nitelik ekleme imkanı elde etmiş oluyoruz:"
   ]
  },
  {
   "cell_type": "code",
   "execution_count": null,
   "id": "e9dad818-7954-482e-9dd7-42507a07c6a5",
   "metadata": {},
   "outputs": [],
   "source": [
    "asker = oyuncular.Asker('Ahmet', 'Er')\n",
    "asker.isim\n",
    "\n",
    "'Ahmet'\n",
    "\n",
    "asker.rütbe\n",
    "\n",
    "'Er'\n",
    "\n",
    "asker.güç\n",
    "\n",
    "100"
   ]
  },
  {
   "cell_type": "markdown",
   "id": "f7b23c8c-64fa-4272-8bbf-a70156f301ee",
   "metadata": {},
   "source": [
    "Bu bilgiyi öteki alt sınıflara da uygulayalım:\n",
    "\n"
   ]
  },
  {
   "cell_type": "code",
   "execution_count": null,
   "id": "c6dcc8ec-edbb-4108-9571-25d5794b1dd7",
   "metadata": {},
   "outputs": [],
   "source": [
    "class Oyuncu():\n",
    "    def __init__(self, isim, rütbe):\n",
    "        self.isim = isim\n",
    "        self.rütbe = rütbe\n",
    "        self.güç = 0\n",
    "\n",
    "    def hareket_et(self):\n",
    "        print('hareket ediliyor...')\n",
    "\n",
    "    def puan_kazan(self):\n",
    "        print('puan kazanıldı')\n",
    "\n",
    "    def puan_kaybet(self):\n",
    "        print('puan kaybedildi')\n",
    "\n",
    "class Asker(Oyuncu):\n",
    "    def __init__(self, isim, rütbe):\n",
    "        super().__init__(isim, rütbe)\n",
    "        self.güç = 100\n",
    "\n",
    "class İşçi(Oyuncu):\n",
    "    def __init__(self, isim, rütbe):\n",
    "        super().__init__(isim, rütbe)\n",
    "        self.güç = 70\n",
    "\n",
    "class Yönetici(Oyuncu):\n",
    "    def __init__(self, isim, rütbe):\n",
    "        super().__init__(isim, rütbe)\n",
    "        self.güç = 20"
   ]
  },
  {
   "cell_type": "markdown",
   "id": "72be0268-afac-48a4-9b07-dbef9d506d98",
   "metadata": {},
   "source": [
    "Gördüğünüz gibi, super() fonksiyonu sayesinde taban sınıfın değiştirmek istediğimiz niteliklerine yeni değerler atarken, değiştirmek istemediğimiz nitelikleri ise aynı şekilde muhafaza ettik.\n",
    "\n",
    "Bu arada eğer taban sınıfın __init__() metodundaki parametre listesini alt sınıfta da tek tek tekrar etmek sizi rahatsız ediyorsa yukarıdaki kodları şöyle de yazabilirsiniz:"
   ]
  },
  {
   "cell_type": "code",
   "execution_count": null,
   "id": "b987ef62-8230-4c89-9e37-3f1d40a5371e",
   "metadata": {},
   "outputs": [],
   "source": [
    "class Asker(Oyuncu):\n",
    "    def __init__(self, *arglar):\n",
    "        super().__init__(*arglar)\n",
    "        self.güç = 100\n",
    "\n",
    "class İşçi(Oyuncu):\n",
    "    def __init__(self, *arglar):\n",
    "        super().__init__(*arglar)\n",
    "        self.güç = 70\n",
    "\n",
    "class Yönetici(Oyuncu):\n",
    "    def __init__(self, *arglar):\n",
    "        super().__init__(*arglar)\n",
    "        self.güç = 20"
   ]
  },
  {
   "cell_type": "markdown",
   "id": "3700d2e0-07c3-4a7e-b08a-b66c1e79973f",
   "metadata": {},
   "source": [
    "Yıldızlı parametreleri önceki derslerimizden hatırlıyor olmalısınız. Bildiğiniz gibi, tek yıldızlı parametreler bir fonksiyonun bütün konumlu (positional) argümanlarını, parametrelerin parantez içinde geçtiği sırayı dikkate alarak bir demet içinde toplar. İşte yukarıda da bu özellikten faydalanıyoruz. Eğer taban sınıfta isimli (keyword) argümanlar da olsaydı, o zaman da çift yıldızlı argümanları kullanabilirdik.\n",
    "\n",
    "Tek ve çift yıldızlı argümanlar genellikle şu şekilde gösterilir:"
   ]
  },
  {
   "cell_type": "code",
   "execution_count": null,
   "id": "6ad5cf3c-7683-4d76-8f88-28e8328cefa9",
   "metadata": {},
   "outputs": [],
   "source": [
    "class Asker(Oyuncu):\n",
    "    def __init__(self, *args, **kwargs):\n",
    "        super().__init__(*args, **kwargs)\n",
    "        self.güç = 100"
   ]
  },
  {
   "cell_type": "markdown",
   "id": "2a30cc58-6382-44e7-9761-21d99f2c94e3",
   "metadata": {},
   "source": [
    "Böylece konumlu argümanları bir demet içinde, isimli argümanları ise bir sözlük içinde toplamış oluyoruz. Bu da bizi üst (ya da taban) sınıfın parametre listesini alt sınıflarda tekrar etme derdinden kurtarıyor.\n",
    "\n",
    "Bu arada, miras alınan taban sınıfa atıfta bulunan super() fonksiyonu, Python programlama diline sonradan eklenmiş bir özelliktir. Bu fonksiyon gelmeden önce taban sınıfa atıfta bulunabilmek için doğrudan o sınıfın adını kullanıyorduk:\n",
    "\n"
   ]
  },
  {
   "cell_type": "code",
   "execution_count": null,
   "id": "5eaac804-7cf3-43d1-b3fd-70739e953301",
   "metadata": {},
   "outputs": [],
   "source": [
    "class Asker(Oyuncu):\n",
    "    def __init__(self, isim, rütbe):\n",
    "        Oyuncu.__init__(self, isim, rütbe)\n",
    "        self.güç = 100"
   ]
  },
  {
   "cell_type": "markdown",
   "id": "0774a0b0-bbc6-40f8-96d6-d952e470f18e",
   "metadata": {},
   "source": [
    "veya:"
   ]
  },
  {
   "cell_type": "code",
   "execution_count": null,
   "id": "6109e52d-9e0a-48c7-899f-ba67bc76f27b",
   "metadata": {},
   "outputs": [],
   "source": [
    "class Asker(Oyuncu):\n",
    "    def __init__(self, *args):\n",
    "        Oyuncu.__init__(self, *args)\n",
    "        self.güç = 100"
   ]
  },
  {
   "cell_type": "markdown",
   "id": "10dc1e42-c965-4f77-96f6-2b80f4fd56e1",
   "metadata": {},
   "source": [
    "Gördüğünüz gibi, eski yöntemde taban sınıfın adını iki kez kullanmamız gerekiyor. Ayrıca __init__() fonksiyonunun parametre listesinde ilk sıraya yine self kelimesini de eklemek zorunda kalıyoruz.\n",
    "\n",
    "İsterseniz yukarıda gösterdiğimiz eski yöntemi kullanmaya devam edebilirsiniz elbette. Ancak super() fonksiyonunu kullanmak eski yönteme göre biraz daha pratiktir.\n",
    "\n",
    "Yukarıdaki örneklerde super() fonksiyonunu __init__() metodu içinde kullandık. Ancak elbette super() fonksiyonunu yalnızca __init__() fonksiyonu içinde kullanmak zorunda değiliz. Bu fonksiyonu başka fonksiyonlar içinde de kullanabiliriz:"
   ]
  },
  {
   "cell_type": "code",
   "execution_count": null,
   "id": "4d501750-1def-42bf-9087-1b04501684b3",
   "metadata": {},
   "outputs": [],
   "source": [
    "class Oyuncu():\n",
    "    def __init__(self, isim, rütbe):\n",
    "        self.isim = isim\n",
    "        self.rütbe = rütbe\n",
    "        self.güç = 0\n",
    "\n",
    "    def hareket_et(self):\n",
    "        print('hareket ediliyor...')\n",
    "\n",
    "    def puan_kazan(self):\n",
    "        print('puan kazanıldı')\n",
    "\n",
    "    def puan_kaybet(self):\n",
    "        print('puan kaybedildi')\n",
    "\n",
    "class Asker(Oyuncu):\n",
    "    def __init__(self, isim, rütbe):\n",
    "        super().__init__(isim, rütbe)\n",
    "        self.güç = 100\n",
    "\n",
    "    def hareket_et(self):\n",
    "        super().hareket_et()\n",
    "        print('hedefe ulaşıldı.')"
   ]
  },
  {
   "cell_type": "markdown",
   "id": "f3db915d-e89f-4bc9-bb13-579fcef59243",
   "metadata": {},
   "source": [
    "Bu örneğin, super() fonksiyonunun nasıl işlediğini daha iyi anlamanızı sağladığını zannediyorum. Gördüğünüz gibi, taban sınıfın hareket_et() adlı metodunu alt sınıfta tanımladığımız aynı adlı fonksiyon içinde super() fonksiyonu yardımıyla genişlettik, yani taban sınıfın hareket_et() adlı fonksiyonuna yeni bir işlev ekledik:\n",
    "\n"
   ]
  },
  {
   "cell_type": "code",
   "execution_count": null,
   "id": "c61e4296-96fa-4bd4-814f-ce72c6555420",
   "metadata": {},
   "outputs": [],
   "source": [
    "def hareket_et(self):\n",
    "    super().hareket_et()\n",
    "    print('hedefe ulaşıldı.')"
   ]
  },
  {
   "cell_type": "markdown",
   "id": "e160d70c-9b80-4eda-a643-36c0166f74ef",
   "metadata": {},
   "source": [
    "Burada super().hareket_et() satırıyla taban sınıfın hareket_et() adlı metodunu alt sınıfta tanımladığımız yeni hareket_et() metodu içinde çalıştırarak, bu metodun kabiliyetlerini yeni hareket_et() metoduna aktarıyoruz."
   ]
  },
  {
   "cell_type": "markdown",
   "id": "e5848534-a585-4c27-b0d2-5a858ca2e6e5",
   "metadata": {},
   "source": [
    "++++++++++object Sınıfı\n",
    "\n",
    "Biz buraya gelinceye kadar Python’da sınıfları iki farklı şekilde tanımlayabileceğimizi öğrendik:\n",
    "\n"
   ]
  },
  {
   "cell_type": "code",
   "execution_count": null,
   "id": "8bd59be9-4dd2-425c-9701-8e1b8a637c5e",
   "metadata": {},
   "outputs": [],
   "source": [
    "class Deneme():\n",
    "    pass"
   ]
  },
  {
   "cell_type": "markdown",
   "id": "cfb56b3f-193d-413a-8ae6-6c01c6043103",
   "metadata": {},
   "source": [
    "veya:"
   ]
  },
  {
   "cell_type": "code",
   "execution_count": null,
   "id": "3b811834-2adc-46ee-9478-764dad0e7298",
   "metadata": {},
   "outputs": [],
   "source": [
    "class Deneme:\n",
    "    pass"
   ]
  },
  {
   "cell_type": "markdown",
   "id": "0952ce30-8318-4f6e-a29e-f00f04fd399f",
   "metadata": {},
   "source": [
    "Sınıf tanımlarken parantez kullansak da olur kullanmasak da. Eğer miras alacağınız bir sınıf yoksa parantezsiz yazımı tercih edebilir, parantezli yazım tarzını ise başka bir sınıftan miras aldığınız durumlar için saklayabilirsiniz:\n",
    "\n"
   ]
  },
  {
   "cell_type": "code",
   "execution_count": null,
   "id": "d48f5752-b8a6-4512-86c1-c5d12e73db70",
   "metadata": {},
   "outputs": [],
   "source": [
    "class AltSınıf(TabanSınıf):\n",
    "    pass"
   ]
  },
  {
   "cell_type": "markdown",
   "id": "7717caab-9848-467e-8efa-37a9d7ef847a",
   "metadata": {},
   "source": [
    "Ancak sağda solda incelediğiniz Python kodlarında bazen şöyle bir sınıf tanımlama şekli de görürseniz şaşırmayın:\n",
    "\n"
   ]
  },
  {
   "cell_type": "code",
   "execution_count": null,
   "id": "3d14311e-7e15-4ad8-bedf-46329c047567",
   "metadata": {},
   "outputs": [],
   "source": [
    "class Sınıf(object):\n",
    "    pass\n"
   ]
  },
  {
   "cell_type": "markdown",
   "id": "d60a95b4-a308-4a07-999f-4e23565b26b6",
   "metadata": {},
   "source": [
    "Python’ın 3.x öncesi sürümlerinde sınıflar yeni ve eski tip olmak üzere ikiye ayrılıyordu. Bu sürümlerde eski tip sınıflar şöyle tanımlanıyordu:"
   ]
  },
  {
   "cell_type": "code",
   "execution_count": null,
   "id": "62bf6d6e-9575-42cc-b5f7-038033408931",
   "metadata": {},
   "outputs": [],
   "source": [
    "class Sınıf:\n",
    "    pass\n"
   ]
  },
  {
   "cell_type": "markdown",
   "id": "c1d5846f-70d0-4ea7-9305-75645ddc3988",
   "metadata": {},
   "source": [
    "veya:\n",
    "\n"
   ]
  },
  {
   "cell_type": "code",
   "execution_count": null,
   "id": "8c395a06-4836-4c8f-b668-036ec4e6db5b",
   "metadata": {},
   "outputs": [],
   "source": [
    "class Sınıf():\n",
    "    pass"
   ]
  },
  {
   "cell_type": "markdown",
   "id": "ab706e25-7c84-41cc-9450-9ed45ae95b71",
   "metadata": {},
   "source": [
    "Yeni tip sınıflar ise şöyle:"
   ]
  },
  {
   "cell_type": "code",
   "execution_count": null,
   "id": "9d7c7a2f-82e4-4081-b8a9-7895598d504d",
   "metadata": {},
   "outputs": [],
   "source": [
    "class Sınıf(object):\n",
    "    pass"
   ]
  },
  {
   "cell_type": "markdown",
   "id": "dad96c7b-9bb1-423c-b4ba-71ce5daa640e",
   "metadata": {},
   "source": [
    "Yani eski tip sınıflar öntanımlı olarak herhangi bir taban sınıftan miras almazken, yeni tip sınıfların object adlı bir sınıftan miras alması gerekiyordu. Dolayısıyla, tanımladığınız bir sınıfta object sınıfını miras almadığınızda, yeni tip sınıflarla birlikte gelen özelliklerden yararlanamıyordunuz. Mesela önceki derslerde öğrendiğimiz @property bezeyicisi yeni tip sınıflarla gelen bir özelliktir. Eğer Python 3 öncesi bir sürüm için kod yazıyorsanız ve eğer @property bezeyicisini kullanmak istiyorsanız tanımladığınız sınıflarda açık açık object sınıfını miras almalısınız.\n",
    "\n",
    "Python 3’te ise bütün sınıflar yeni tip sınıftır. Dolayısıyla object sınıfını miras alsanız da almasanız da, tanımladığınız bütün sınıflar öntanımlı olarak object sınıfını miras alacaktır. Yani Python 3 açısından şu üç tanımlama arasında bir fark bulunmaz:\n",
    "\n"
   ]
  },
  {
   "cell_type": "code",
   "execution_count": null,
   "id": "9d269276-c144-4193-a79d-606dfa91b312",
   "metadata": {},
   "outputs": [],
   "source": [
    "class Sınıf:\n",
    "    pass\n",
    "\n",
    "class Sınıf():\n",
    "    pass\n",
    "\n",
    "class Sınıf(object):\n",
    "    pass"
   ]
  },
  {
   "cell_type": "markdown",
   "id": "31e9ed68-5836-494c-826d-5f9dcdb4f2ed",
   "metadata": {},
   "source": [
    "Bunların hepsi de Python 3 açısından birer yeni tip sınıftır. Daha doğrusu Python 3’te bütün sınıflar bir yeni tip sınıf olduğu için, yukarıdaki sınıf tanımlamaları hep aynı tipte sınıflara işaret eder. Python 2’de ise ilk iki tanımlama eski tip sınıfları gösterirken, yalnızca üçüncü tanımlama yeni tip sınıfları gösterir.\n",
    "\n",
    "Geldik bir bölümün daha sonuna… Böylece miras almaya ilişkin temel konuları incelemiş olduk. Bu bölümde öğrendiklerimiz sayesinde, etrafta gördüğümüz, miras alma mekanizmasının kullanıldığı kodların çok büyük bir bölümünü anlayabilecek duruma geldik. Bu mekanizmaya ilişkin olarak öğrenmemiz gerekenlerin geri kalanını da bir sonraki bölümde, grafik arayüz tasarımı konusuyla birlikte ele alacağız."
   ]
  },
  {
   "cell_type": "code",
   "execution_count": null,
   "id": "9cf93502-d696-43e7-b468-39e06654be11",
   "metadata": {},
   "outputs": [],
   "source": []
  }
 ],
 "metadata": {
  "kernelspec": {
   "display_name": "Python 3 (ipykernel)",
   "language": "python",
   "name": "python3"
  },
  "language_info": {
   "codemirror_mode": {
    "name": "ipython",
    "version": 3
   },
   "file_extension": ".py",
   "mimetype": "text/x-python",
   "name": "python",
   "nbconvert_exporter": "python",
   "pygments_lexer": "ipython3",
   "version": "3.10.12"
  }
 },
 "nbformat": 4,
 "nbformat_minor": 5
}
