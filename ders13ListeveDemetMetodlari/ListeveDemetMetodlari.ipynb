{
 "cells": [
  {
   "cell_type": "markdown",
   "id": "2c396f27-f8d0-443e-a556-3f1b85b210b3",
   "metadata": {},
   "source": [
    "+++++++++Listelerin ve Demetlerin Metotları\n",
    "\n",
    "\n",
    "++++++++++Listelerin Metotları\n",
    "\n",
    "\n",
    "Burada, geçen bölümde kaldığımız yerden devam edeceğiz listeleri anlatmaya. Ağırlıklı olarak bu bölümde listelerin metotlarından söz edeceğiz. ‘Metot’ kavramını karakter dizilerinden hatırlıyorsunuz. Karakter dizilerini anlatırken bol miktarda metot görmüştük.\n",
    "\n",
    "Python’da bütün veri tipleri bize birtakım metotlar sunar. Bu metotlar yardımıyla, ilgili veri tipi üzerinde önemli değişiklikler veya sorgulamalar yapabiliyoruz.\n",
    "\n",
    "Hatırlarsanız bir veri tipinin hangi metotlara sahip olduğunu görmek için dir() fonksiyonundan yararlanıyorduk. Listelerde de durum farklı değil. Dolayısıyla şu komut bize listelerin metotlarını sıralayacaktır:\n",
    "\n"
   ]
  },
  {
   "cell_type": "code",
   "execution_count": 1,
   "id": "74b23be4-7135-4677-88d7-85cc7077f4b7",
   "metadata": {},
   "outputs": [
    {
     "data": {
      "text/plain": [
       "['__add__',\n",
       " '__class__',\n",
       " '__class_getitem__',\n",
       " '__contains__',\n",
       " '__delattr__',\n",
       " '__delitem__',\n",
       " '__dir__',\n",
       " '__doc__',\n",
       " '__eq__',\n",
       " '__format__',\n",
       " '__ge__',\n",
       " '__getattribute__',\n",
       " '__getitem__',\n",
       " '__gt__',\n",
       " '__hash__',\n",
       " '__iadd__',\n",
       " '__imul__',\n",
       " '__init__',\n",
       " '__init_subclass__',\n",
       " '__iter__',\n",
       " '__le__',\n",
       " '__len__',\n",
       " '__lt__',\n",
       " '__mul__',\n",
       " '__ne__',\n",
       " '__new__',\n",
       " '__reduce__',\n",
       " '__reduce_ex__',\n",
       " '__repr__',\n",
       " '__reversed__',\n",
       " '__rmul__',\n",
       " '__setattr__',\n",
       " '__setitem__',\n",
       " '__sizeof__',\n",
       " '__str__',\n",
       " '__subclasshook__',\n",
       " 'append',\n",
       " 'clear',\n",
       " 'copy',\n",
       " 'count',\n",
       " 'extend',\n",
       " 'index',\n",
       " 'insert',\n",
       " 'pop',\n",
       " 'remove',\n",
       " 'reverse',\n",
       " 'sort']"
      ]
     },
     "execution_count": 1,
     "metadata": {},
     "output_type": "execute_result"
    }
   ],
   "source": [
    "dir(list)"
   ]
  },
  {
   "cell_type": "markdown",
   "id": "23a73b4c-4244-431c-a11a-dc0bec4e9c65",
   "metadata": {},
   "source": [
    "Gördüğünüz gibi, tıpkı karakter dizilerinde olduğu gibi, listelerin metotlarını görmek için de dir() fonksiyonuna parametre olarak veri tipinin teknik adını veriyoruz. Python’da listelerin teknik adı list olduğu için bu komutu dir(list) şeklinde kullanıyoruz. Elbette, eğer istersek, listelerin metotlarını almak için herhangi bir listeyi de kullanabiliriz. Mesela boş bir liste kullanalım:\n",
    "\n"
   ]
  },
  {
   "cell_type": "code",
   "execution_count": null,
   "id": "f6b0c192-7d24-4e98-81ca-ecb5040ae2ca",
   "metadata": {},
   "outputs": [],
   "source": [
    "dir([])"
   ]
  },
  {
   "cell_type": "markdown",
   "id": "bd914396-00bd-434e-957c-50144cb82f5b",
   "metadata": {},
   "source": [
    "Bu komut da dir(list) ile aynı çıktıyı verecektir. Bu listede bizi ilgilendiren metotlar ise şunlardır:\n",
    "\n"
   ]
  },
  {
   "cell_type": "code",
   "execution_count": 2,
   "id": "332950dc-5326-4917-b0b9-da600c8fab3a",
   "metadata": {},
   "outputs": [
    {
     "data": {
      "text/plain": [
       "['append',\n",
       " 'clear',\n",
       " 'copy',\n",
       " 'count',\n",
       " 'extend',\n",
       " 'index',\n",
       " 'insert',\n",
       " 'pop',\n",
       " 'remove',\n",
       " 'reverse',\n",
       " 'sort']"
      ]
     },
     "execution_count": 2,
     "metadata": {},
     "output_type": "execute_result"
    }
   ],
   "source": [
    "[i for i in dir(list) if not \"_\" in i]"
   ]
  },
  {
   "cell_type": "markdown",
   "id": "f805507e-1abe-433d-af44-de4bff7a7c64",
   "metadata": {},
   "source": [
    "Metotlar, bir programcının hayatını önemli ölçüde kolaylaştıran araçlardır. Bu yüzden, ‘Listeler’ konusunun ilk bölümünde öğrendiğimiz listeye öğe ekleme, öğe çıkarma, öğe değiştirme, öğe silme gibi işlemleri orada anlattığımız yöntemlerle değil, biraz sonra göreceğimiz metotlar aracılığıyla yapmayı tercih edeceğiz. Ama tabii ki, metotları tercih edecek olmamız, birinci bölümde anlattığımız yöntemleri bir kenara atmanızı gerektirmez. Unutmayın, bir dildeki herhangi bir özelliği siz kullanmasanız bile, etrafta bu özelliği kullanan başka programcılar var. Dolayısıyla en azından başkalarının yazdığı kodları anlayabilmek için dahi olsa, kendinizin kullanmayacağı yöntem ve yolları öğrenmeniz gerekir.\n",
    "\n",
    "append() metoduyla başlayalım…\n",
    "\n",
    "+++++++++++append()\n",
    "\n",
    "\n",
    "append kelimesi İngilizcede ‘eklemek, ilave etmek, iliştirmek’ gibi anlamlara gelir. append() metodunun görevi de kelime anlamıyla uyumludur. Bu metodu, bir listeye öğe eklemek için kullanıyoruz. Mesela:\n",
    "\n"
   ]
  },
  {
   "cell_type": "code",
   "execution_count": 3,
   "id": "186f590e-8689-4ba3-8676-0355151da0eb",
   "metadata": {},
   "outputs": [],
   "source": [
    "liste = [\"elma\", \"armut\", \"çilek\"]\n",
    "liste.append(\"erik\")"
   ]
  },
  {
   "cell_type": "markdown",
   "id": "99a7b7ab-a6d2-4343-9f7b-e189831276c9",
   "metadata": {},
   "source": [
    "Bu metot, yeni öğeyi listenin en sonuna ekler. Mesela yukarıdaki örnekte “erik” adlı karakter dizisi listede “çilek” adlı karakter dizisinin sağına eklendi.\n",
    "\n",
    "Hatırlarsanız bir önceki bölümde listeye öğe ekleme işini + işleci ile de yapabileceğimizi söylemiştik. Dolayısıyla, aslında yukarıdaki kodu şöyle de yazabiliriz:\n",
    "\n"
   ]
  },
  {
   "cell_type": "code",
   "execution_count": 4,
   "id": "8c66fcdd-d53b-4102-8f0f-6b9c6537b443",
   "metadata": {},
   "outputs": [
    {
     "name": "stdout",
     "output_type": "stream",
     "text": [
      "['elma', 'armut', 'çilek', 'erik']\n"
     ]
    }
   ],
   "source": [
    "liste = [\"elma\", \"armut\", \"çilek\"]\n",
    "liste = liste + [\"erik\"]\n",
    "print(liste)\n"
   ]
  },
  {
   "cell_type": "markdown",
   "id": "56aac3df-f4f9-4996-838c-7fb732b8580c",
   "metadata": {},
   "source": [
    "Bu iki yöntem birbiriyle aynı sonucu verse de hem pratiklik hem de işleyiş bakımından bu iki yöntemin birbirinden farklı olduğunu görüyoruz.\n",
    "\n",
    "Pratiklik açısından bakarsak, append() metodununu kullanmanın + işlecini kullanmaya kıyasla daha kolay olduğunu herhalde kimse reddetmeyecektir. Bu iki yöntem işleyiş bakımından da birbirinden ayrılıyor. Zira + işlecini kullandığımızda listeye yeni bir öğe eklerken aslında liste adlı başka bir liste daha oluşturmuş oluyoruz. Hatırlarsanız önceki bölümlerde listelerin değiştirilebilir (mutable) veri tipleri olduğunu söylemiştik. İşte append() metodu sayesinde listelerin bu özelliğinden sonuna kadar yararlanabiliyoruz. + işlecini kullandığımızda ise, orijinal listeyi değiştirmek yerine yeni bir liste oluşturduğumuz için, sanki listelere karakter dizisi muamelesi yapmış gibi oluyoruz. Gördüğünüz gibi, listeye append() metodunu uyguladıktan sonra bunu bir değişkene atamamıza gerek kalmıyor. append() metodu orijinal liste üzerinde doğrudan değişiklik yapmamıza izin verdiği için daha az kod yazmamızı ve programımızın daha performanslı çalışmasını sağlıyor.\n",
    "\n",
    "+ işleci ile append() metodu işlev olarak birbirine benzese de bu iki yöntem arasında önemli farklılıklar da vardır. Mesela şu örneğe bir göz atalım:"
   ]
  },
  {
   "cell_type": "code",
   "execution_count": 5,
   "id": "46b5f6d0-a698-4da5-9aa3-791f15ab847f",
   "metadata": {},
   "outputs": [
    {
     "name": "stdout",
     "output_type": "stream",
     "text": [
      "['Windows', 'GNU/Linux', 'Mac OS X', 'IPhone', 'Android', 'S60']\n"
     ]
    },
    {
     "data": {
      "text/plain": [
       "['Windows', 'GNU/Linux', 'Mac OS X', 'IPhone', 'Android', 'S60']"
      ]
     },
     "execution_count": 5,
     "metadata": {},
     "output_type": "execute_result"
    }
   ],
   "source": [
    "işletim_sistemleri = [\"Windows\", \"GNU/Linux\", \"Mac OS X\"]\n",
    "platformlar = [\"IPhone\", \"Android\", \"S60\"]\n",
    "hepsi = işletim_sistemleri + platformlar\n",
    "print(hepsi)\n",
    "\n",
    "['Windows', 'GNU/Linux', 'Mac OS X', 'IPhone', 'Android', 'S60']"
   ]
  },
  {
   "cell_type": "markdown",
   "id": "118b2b29-648c-4416-b324-5f0c66cfd352",
   "metadata": {},
   "source": [
    "Burada iki farklı listeyi, + işleci kullanarak birleştirdik. Aynı işi append() metoduyla şu şekilde yapabiliriz:\n",
    "\n"
   ]
  },
  {
   "cell_type": "code",
   "execution_count": 6,
   "id": "32fe37cf-5866-413e-8319-2411ca945551",
   "metadata": {},
   "outputs": [
    {
     "name": "stdout",
     "output_type": "stream",
     "text": [
      "['Windows', 'GNU/Linux', 'Mac OS X', 'IPhone', 'Android', 'S60']\n"
     ]
    }
   ],
   "source": [
    "işletim_sistemleri = [\"Windows\", \"GNU/Linux\", \"Mac OS X\"]\n",
    "platformlar = [\"IPhone\", \"Android\", \"S60\"]\n",
    "for i in platformlar:\n",
    "    işletim_sistemleri.append(i)\n",
    "\n",
    "print(işletim_sistemleri)"
   ]
  },
  {
   "cell_type": "markdown",
   "id": "07b56d61-970d-44bf-8fcc-e983a7376ebb",
   "metadata": {},
   "source": [
    "Burada platformlar adlı liste üzerinde bir for döngüsü kurmamızın nedeni, append() metodunun yalnızca tek bir parametre alabilmesidir. Yani bu metodu kullanarak bir listeye birden fazla öğe ekleyemezsiniz:\n",
    "\n"
   ]
  },
  {
   "cell_type": "code",
   "execution_count": 7,
   "id": "5b459d1a-3fbd-45c8-bf97-077cf6edac7c",
   "metadata": {},
   "outputs": [
    {
     "ename": "TypeError",
     "evalue": "list.append() takes exactly one argument (3 given)",
     "output_type": "error",
     "traceback": [
      "\u001b[0;31m---------------------------------------------------------------------------\u001b[0m",
      "\u001b[0;31mTypeError\u001b[0m                                 Traceback (most recent call last)",
      "Cell \u001b[0;32mIn[7], line 2\u001b[0m\n\u001b[1;32m      1\u001b[0m liste \u001b[38;5;241m=\u001b[39m [\u001b[38;5;241m1\u001b[39m, \u001b[38;5;241m2\u001b[39m, \u001b[38;5;241m3\u001b[39m]\n\u001b[0;32m----> 2\u001b[0m \u001b[43mliste\u001b[49m\u001b[38;5;241;43m.\u001b[39;49m\u001b[43mappend\u001b[49m\u001b[43m(\u001b[49m\u001b[38;5;241;43m4\u001b[39;49m\u001b[43m,\u001b[49m\u001b[43m \u001b[49m\u001b[38;5;241;43m5\u001b[39;49m\u001b[43m,\u001b[49m\u001b[43m \u001b[49m\u001b[38;5;241;43m6\u001b[39;49m\u001b[43m)\u001b[49m\n",
      "\u001b[0;31mTypeError\u001b[0m: list.append() takes exactly one argument (3 given)"
     ]
    }
   ],
   "source": [
    "liste = [1, 2, 3]\n",
    "liste.append(4, 5, 6)"
   ]
  },
  {
   "cell_type": "markdown",
   "id": "48220f11-c159-4d01-8892-256ae858f3c2",
   "metadata": {},
   "source": [
    "Bu sebeple, ekleyeceğiniz listenin öğeleri üzerinde bir for döngüsü kurmanız gerekir:\n",
    "\n"
   ]
  },
  {
   "cell_type": "code",
   "execution_count": 8,
   "id": "ed662d06-156f-462a-847b-7069ce1d29a5",
   "metadata": {},
   "outputs": [
    {
     "name": "stdout",
     "output_type": "stream",
     "text": [
      "[1, 2, 3, 4, 5, 6]\n"
     ]
    }
   ],
   "source": [
    "liste = [1, 2, 3]\n",
    "for i in [4, 5, 6]:\n",
    "    liste.append(i)\n",
    "\n",
    "print(liste)"
   ]
  },
  {
   "cell_type": "markdown",
   "id": "a45aa766-5ba2-4295-80d2-697bf087c1ef",
   "metadata": {},
   "source": [
    "Bir listeye birden fazla öğe eklemek için aklınıza şöyle bir yöntem de gelmiş olabilir:\n",
    "\n"
   ]
  },
  {
   "cell_type": "code",
   "execution_count": 9,
   "id": "85d54788-1b5d-4b27-b2b9-24f9f6eb12e6",
   "metadata": {},
   "outputs": [],
   "source": [
    "liste = [1, 2, 3]\n",
    "liste.append([4, 5, 6])"
   ]
  },
  {
   "cell_type": "markdown",
   "id": "9a61def0-bf06-46b3-a9b4-704982ac7d4f",
   "metadata": {},
   "source": [
    "Ancak bu komutun çıktısı pek beklediğiniz gibi olmayabilir:"
   ]
  },
  {
   "cell_type": "code",
   "execution_count": 10,
   "id": "0c3addbd-7358-4eca-be4b-6320931b4ea2",
   "metadata": {},
   "outputs": [
    {
     "name": "stdout",
     "output_type": "stream",
     "text": [
      "[1, 2, 3, [4, 5, 6]]\n"
     ]
    }
   ],
   "source": [
    "print(liste)"
   ]
  },
  {
   "cell_type": "markdown",
   "id": "8cb6e077-4aab-48f1-8a40-361cb5a8a45a",
   "metadata": {},
   "source": [
    "Gördüğünüz gibi, [4, 5, 6] öğesi listeye tek parça olarak eklendi. Eğer istediğiniz şey buysa ne âlâ! Ama değilse, for döngüsü ya da + işleci ile istediğiniz çıktıyı elde edebilirsiniz.\n",
    "\n",
    "Şöyle bir örnek daha düşünün: Diyelim ki kullanıcının girdiği bütün sayıları birbiriyle çarpan bir uygulama yazmak istiyoruz. Bunun için şöyle bir kod yazabiliriz:\n",
    "\n"
   ]
  },
  {
   "cell_type": "code",
   "execution_count": null,
   "id": "f6e65e06-23bf-4c92-b763-fc7de704f708",
   "metadata": {},
   "outputs": [],
   "source": [
    "sonuç = 1\n",
    "\n",
    "while True:\n",
    "    sayı = input(\"sayı (hesaplamak için q): \")\n",
    "    if sayı == \"q\":\n",
    "        break\n",
    "\n",
    "    sonuç *= int(sayı)\n",
    "\n",
    "print(sonuç)"
   ]
  },
  {
   "cell_type": "markdown",
   "id": "a7219a96-463f-4ffb-8488-9e29334385da",
   "metadata": {},
   "source": [
    "Burada kullanıcı her döngüde bir sayı girecek ve programımız girilen bu sayıyı sonuç değişkeninin o anki değeriyle çarparak yine sonuç değişkenine gönderecek. Böylece kullanıcı tarafından girilen bütün sayıların çarpımını elde etmiş olacağız. Kullanıcının ‘q’ harfine basmasıyla birlikte de sonuç değişkeninin değeri ekranda görünecek. Yalnız burada birkaç sorun var. Diyelim ki kullanıcı hiçbir sayı girmeden ‘q’ harfine basarsa, sonuç değişkeninin 1 olan değeri ekranda görünecek ve bu şekilde kullanıcı yanlış bir sonuç elde etmiş olacak. Ayrıca çarpma işlemi için en az 2 adet sayı gerekiyor. Dolayısıyla kullanıcı 2’den az sayı girerse de programımız yanlış sonuç verecektir. Kullanıcının yeterli miktarda sayı girip girmediğini tespit edebilmek için yine listelerden ve listelerin append() metodundan yararlanabiliriz:\n",
    "\n"
   ]
  },
  {
   "cell_type": "code",
   "execution_count": null,
   "id": "33b5bc5c-cb76-4038-a6ce-4e67794853a2",
   "metadata": {},
   "outputs": [],
   "source": [
    "kontrol = []\n",
    "sonuç = 1\n",
    "\n",
    "while True:\n",
    "    sayı = input(\"sayı (hesaplamak için q): \")\n",
    "    if sayı == \"q\":\n",
    "        break\n",
    "    kontrol.append(sayı)\n",
    "    sonuç *= int(sayı)\n",
    "\n",
    "if len(kontrol) < 2:\n",
    "    print(\"Yeterli sayı girilmedi!\")\n",
    "else:\n",
    "    print(sonuç)"
   ]
  },
  {
   "cell_type": "markdown",
   "id": "e9748d44-2c68-4243-9b5d-c4173204be84",
   "metadata": {},
   "source": [
    "Burada önceki koda ilave olarak, kontrol adlı boş bir liste tanımladık. Bu liste kullanıcının girdiği sayıları depolayacak. Bir önceki örnekte kullanıcının girdiği sayıları hiçbir yerde depolamadık. Orada yaptığımız şey her döngüde kullanıcı tarafından girilen sayıyı sonuç değişkeninin değeriyle çarpıp yine sonuç değişkenine göndermekti. Dolayısıyla kullanıcı tarafından girilen sayılar bir yerde tutulmadığı için kaybolup gidiyordu. Burada ise kontrol adlı liste, kullanıcı tarafından girilen sayıları tuttuğu için, bu sayıları daha sonra istediğimiz gibi kullanabilme imkanına kavuşuyoruz.\n",
    "\n",
    "Ayrıca bu ikinci kodlarda kontrol değişkeninin boyutuna bakarak kullanıcının 2’den az sayı girip girmediğini denetliyoruz. Eğer kontrol listesinin uzunluğu 2’den azsa kullanıcı çarpma işlemi için yeterli sayı girmemiş demektir. Böyle bir durumda çarpma işlemini yapmak yerine, kullanıcıya ‘Yeterli sayı girilmedi!’ şeklinde bir uyarı mesajı gösteriyoruz.\n",
    "\n",
    "append() metodu listelerin en önemli metotlarından biridir. Hem kendi yazdığınız, hem de başkalarının yazdığı programlarda append() metodunu sıkça göreceksiniz. Dolayısıyla listelerin hiçbir metodunu bilmeseniz bile append() metodunu öğrenmelisiniz.\n",
    "\n",
    "+++++++++++++extend()\n",
    "\n",
    "\n",
    "extend kelimesi İngilizcede ‘genişletmek, yaymak’ gibi anlamlara gelir. İşte extend() adlı metot da kelime anlamına uygun olarak listeleri ‘genişletir’.\n",
    "\n",
    "Şöyle bir düşündüğünüzde extend() metodunun append() metoduyla aynı işi yaptığını zannedebilirsiniz. Ama aslında bu iki metot işleyiş olarak birbirinden çok farklıdır.\n",
    "\n",
    "append() metodunu kullanarak yazdığımız şu koda dikkatlice bakın:"
   ]
  },
  {
   "cell_type": "code",
   "execution_count": 11,
   "id": "aef1bb13-87ee-4345-a9cc-378accf9de58",
   "metadata": {},
   "outputs": [
    {
     "name": "stdout",
     "output_type": "stream",
     "text": [
      "[1, 3, 4, [10, 11, 12]]\n"
     ]
    }
   ],
   "source": [
    "li1 = [1, 3, 4]\n",
    "li2 = [10, 11, 12]\n",
    "li1. append(li2)\n",
    "\n",
    "print(li1)"
   ]
  },
  {
   "cell_type": "markdown",
   "id": "1c019c1b-2914-4799-90d6-ff5fdf0be99d",
   "metadata": {},
   "source": [
    "append() metodunu anlatırken söylediğimiz gibi, bu metot bir listeye her defasında sadece tek bir öğe eklenmesine izin verir. Yukarıda olduğu gibi, eğer bu metodu kullanarak bir listeye yine bir liste eklemeye çalışırsanız, eklediğiniz liste tek bir öğe olarak eklenecektir. Yani yukarıdaki kodlar size şöyle bir çıktı verecektir:\n",
    "\n"
   ]
  },
  {
   "cell_type": "raw",
   "id": "e7302010-59e1-4795-ad9d-6ae8a4f541a5",
   "metadata": {},
   "source": [
    "[1, 3, 4, [10, 11, 12]]\n"
   ]
  },
  {
   "cell_type": "markdown",
   "id": "5bdce030-ee19-4d33-87d6-67b38acc9034",
   "metadata": {},
   "source": [
    "Gördüğünüz gibi, [10, 11, 12] listesi öteki listeye tek bir liste halinde eklendi. İşte extend() metodu bu tür durumlarda işinize yarayabilir. Mesela yukarıdaki örneği bir de extend() metodunu kullanarak yazalım:\n",
    "\n"
   ]
  },
  {
   "cell_type": "code",
   "execution_count": null,
   "id": "37c55b30-9a85-4cf4-b437-30408862142c",
   "metadata": {},
   "outputs": [],
   "source": [
    "li1 = [1, 3, 4]\n",
    "li2 = [10, 11, 12]\n",
    "li1. extend(li2)\n",
    "\n",
    "print(li1)\n"
   ]
  },
  {
   "cell_type": "markdown",
   "id": "1de71ccc-1719-4f45-aedf-86e2769a3b5d",
   "metadata": {},
   "source": [
    "Bu defa şöyle bir çıktı alıyoruz:"
   ]
  },
  {
   "cell_type": "raw",
   "id": "2021c4ce-cdd5-4bf0-a0f9-e104ac146c78",
   "metadata": {},
   "source": [
    "[1, 3, 4, 10, 11, 12]\n"
   ]
  },
  {
   "cell_type": "markdown",
   "id": "3b1e60e6-f104-4061-8fb7-cc4d3035bc0e",
   "metadata": {},
   "source": [
    "Gördüğünüz gibi, extend() metodu tam da kelime anlamına uygun olarak listeyi yeni öğelerle genişletti.\n",
    "\n",
    "Hatırlarsanız append() metodunu anlatırken şöyle bir örnek vermiştik:"
   ]
  },
  {
   "cell_type": "code",
   "execution_count": null,
   "id": "e6ac0462-0367-4466-9a9f-6a20b68185a0",
   "metadata": {},
   "outputs": [],
   "source": [
    "işletim_sistemleri = [\"Windows\", \"GNU/Linux\", \"Mac OS X\"]\n",
    "platformlar = [\"IPhone\", \"Android\", \"S60\"]\n",
    "hepsi = işletim_sistemleri + platformlar\n",
    "print(hepsi)"
   ]
  },
  {
   "cell_type": "markdown",
   "id": "dc95f796-432b-4ae5-87ff-3df372ce1e39",
   "metadata": {},
   "source": [
    "Burada + işlecini kullanarak işletim_sistemleri ve platformlar adlı listeleri birleştirerek hepsi adlı tek bir liste elde ettik. Aynı etkiyi append() metodunu kullanarak şu şekilde elde edebileceğimizi de söylemiştik orada:\n",
    "\n"
   ]
  },
  {
   "cell_type": "code",
   "execution_count": null,
   "id": "4a23779c-f84e-47f6-aef8-87c879ad8fa5",
   "metadata": {},
   "outputs": [],
   "source": [
    "işletim_sistemleri = [\"Windows\", \"GNU/Linux\", \"Mac OS X\"]\n",
    "platformlar = [\"IPhone\", \"Android\", \"S60\"]\n",
    "for i in platformlar:\n",
    "    işletim_sistemleri.append(i)\n",
    "\n",
    "print(işletim_sistemleri)"
   ]
  },
  {
   "cell_type": "markdown",
   "id": "ca3f72d7-cbd0-4156-a53f-3cac79e53d50",
   "metadata": {},
   "source": [
    "Esasında, append() metodunu kullanmaya kıyasla, burada + işlecini kullanmak sanki daha pratikmiş gibi görünüyor. Bir de şuna bakın:"
   ]
  },
  {
   "cell_type": "code",
   "execution_count": null,
   "id": "defe1d09-7b18-4cd5-8845-be7430b87694",
   "metadata": {},
   "outputs": [],
   "source": [
    "işletim_sistemleri = [\"Windows\", \"GNU/Linux\", \"Mac OS X\"]\n",
    "platformlar = [\"IPhone\", \"Android\", \"S60\"]\n",
    "işletim_sistemleri.extend(platformlar)\n",
    "print(işletim_sistemleri)"
   ]
  },
  {
   "cell_type": "markdown",
   "id": "527570fa-04ac-4fe6-8b78-b79ad5d9f7b4",
   "metadata": {},
   "source": [
    "Gördüğünüz gibi, bu örnekte extend() metodunu kullanmak append() metodunu kullanmaya göre daha pratik ve makul. Çünkü bir listeye tek tek öğe eklemek açısından append() metodu daha uygundur, ama eğer yukarıda olduğu gibi bir listeye başka bir liste ekleyeceksek extend() metodunu kullanmayı tercih edebiliriz.\n",
    "\n",
    "++++++++++insert()\n",
    "\n",
    "\n",
    "Bildiğiniz gibi, + işleci, append() ve extend() metotları öğeleri listenin sonuna ekliyor. Peki biz bir öğeyi listenin sonuna değil de, liste içinde başka bir konuma eklemek istersek ne yapacağız? İşte bunun için insert() adlı başka bir metottan yararlanacağız.\n",
    "\n",
    "insert kelimesi ‘yerleştirmek, sokmak’ gibi anlamlara gelir. insert() metodu da bu anlama uygun olarak, öğeleri listenin istediğimiz bir konumuna yerleştirir. Dikkatlice inceleyin:"
   ]
  },
  {
   "cell_type": "code",
   "execution_count": 12,
   "id": "d710b9a8-ded7-4ec8-aac2-6332e5b6936a",
   "metadata": {},
   "outputs": [
    {
     "name": "stdout",
     "output_type": "stream",
     "text": [
      "['erik', 'elma', 'armut', 'çilek']\n"
     ]
    }
   ],
   "source": [
    "liste = [\"elma\", \"armut\", \"çilek\"]\n",
    "liste.insert(0, \"erik\")\n",
    "print(liste)"
   ]
  },
  {
   "cell_type": "markdown",
   "id": "b26400f2-01c2-4d27-a70a-fd4058c395de",
   "metadata": {},
   "source": [
    "Gördüğünüz gibi insert() metodu iki parametre alıyor. İlk parametre, öğenin hangi konuma yerleştirileceğini, ikinci parametre ise yerleştirilecek öğenin ne olduğunu gösteriyor. Yukarıdaki örnekte “erik” öğesini listenin 0. konumuna, yani listenin en başına yerleştiriyoruz.\n",
    "\n",
    "ìnsert() metodu özellikle dosya işlemlerinde işinize yarar. Diyelim ki elimizde içeriği şöyle olan deneme.txt adlı bir dosya var:"
   ]
  },
  {
   "cell_type": "raw",
   "id": "beffba3b-6eae-4414-9cb9-6e15a8d3a17e",
   "metadata": {},
   "source": [
    "Ahmet Özkoparan\n",
    "Mehmet Veli\n",
    "Serdar Güzel\n",
    "Zeynep Güz"
   ]
  },
  {
   "cell_type": "markdown",
   "id": "c68d37d9-3ddf-4dae-bc42-fb08a3c4fb33",
   "metadata": {},
   "source": [
    "Bizim amacımız, ‘Ahmet Özkoparan’ satırından sonra ‘Ferhat Yaz’ diye bir satır daha eklemek. Yani dosyamızı şu hale getirmek istiyoruz:\n",
    "\n"
   ]
  },
  {
   "cell_type": "raw",
   "id": "5c096eeb-efca-4924-9330-647d65a2ca6c",
   "metadata": {},
   "source": [
    "Ahmet Özkoparan\n",
    "Ferhat Yaz\n",
    "Mehmet Veli\n",
    "Serdar Güzel\n",
    "Zeynep Güz"
   ]
  },
  {
   "cell_type": "markdown",
   "id": "963a359c-93b0-4d9e-8bc0-27dd9885aa01",
   "metadata": {},
   "source": [
    "Biz henüz Python’da dosya işlemlerinin nasıl yapılacağını öğrenmedik. Ama hatırlarsanız bundan önceki bölümlerde birkaç yerde open() adlı bir fonksiyondan bahsetmiş ve bu fonksiyonun dosya işlemlerinde kullanıldığını söylemiştik. Mesela yukarıda bahsettiğimiz deneme.txt adlı dosyayı açmak için open() fonksiyonunu şu şekilde kullanabiliriz:"
   ]
  },
  {
   "cell_type": "code",
   "execution_count": null,
   "id": "0dd3e83f-0a5a-499f-96df-dfe6fc493b0d",
   "metadata": {},
   "outputs": [],
   "source": [
    "f = open(\"deneme.txt\", \"r\")"
   ]
  },
  {
   "cell_type": "markdown",
   "id": "0afea885-32fe-423f-af29-7945e09752e2",
   "metadata": {},
   "source": [
    "Burada deneme.txt adlı dosyayı okuma modunda açmış olduk. Şimdi dosya içeriğini okuyalım:"
   ]
  },
  {
   "cell_type": "code",
   "execution_count": null,
   "id": "e72e48bc-16ff-4e71-8194-586ac0f285da",
   "metadata": {},
   "outputs": [],
   "source": [
    "içerik = f.readlines()"
   ]
  },
  {
   "cell_type": "markdown",
   "id": "163155b4-ee48-4bfa-b815-7ba23c2e870d",
   "metadata": {},
   "source": [
    "Bu satır sayesinde dosya içeriğini bir liste halinde alabildik. Eğer yukarıdaki kodlara şu eklemeyi yaparsanız, dosya içeriğini görebilirsiniz:\n",
    "\n"
   ]
  },
  {
   "cell_type": "code",
   "execution_count": null,
   "id": "02130eaf-3071-48a5-9593-a730f5fc7f60",
   "metadata": {},
   "outputs": [],
   "source": [
    "print(içerik)\n",
    "\n",
    "['Ahmet Özkoparan\\n', 'Mehmet Veli\\n', 'Serdar Güzel\\n', 'Zeynep Güz\\n', '\\n']"
   ]
  },
  {
   "cell_type": "markdown",
   "id": "eaf2f2d0-2659-4aee-8192-52e95147531d",
   "metadata": {},
   "source": [
    "Gördüğünüz gibi, dosya içeriği basit bir listeden ibaret. Dolayısıyla listelerle yapabildiğimiz her şeyi içerik adlı değişkenle de yapabiliriz. Yani bu listeye öğe ekleyebilir, listeden öğe çıkarabilir ya da bu listeyi başka bir liste ile birleştirebiliriz.\n",
    "\n",
    "Dosya içeriğini bir liste olarak aldığımıza göre şimdi bu listeye “Ahmet Özkoparan” öğesinden sonra “Ferhat Yaz” öğesini ekleyelim. Dikkatlice bakın:"
   ]
  },
  {
   "cell_type": "code",
   "execution_count": null,
   "id": "a70b91c0-7bf0-49ae-a84c-40d9ce7d0f2c",
   "metadata": {},
   "outputs": [],
   "source": [
    "içerik.insert(1, \"Ferhat Yaz\\n\")"
   ]
  },
  {
   "cell_type": "markdown",
   "id": "06408075-06c5-4113-8996-b1665a40b2ef",
   "metadata": {},
   "source": [
    "Dediğimiz gibi, f.readlines() satırı bize dosya içeriğini bir liste olarak verdi. Amacımız “Ahmet Özkoparan” öğesinden sonra “Ferhat Yaz” öğesini eklemek. Bunun için, liste metotlarından biri olan insert() metodunu kullanarak listenin 1. sırasına “Ferhat Yaz” öğesini ekledik. Burada “Ferhat Yaz” öğesine n adlı satır başı karakterini de ilave ettiğimize dikkat edin. Bu eklemeyi neden yaptığımızı anlamak için satır başı karakterini çıkarmayı deneyebilirsiniz.\n",
    "\n",
    "içerik adlı değişkenin değerini istediğimiz biçime getirdiğimize göre bu listeyi tekrar deneme.txt adlı dosyaya yazabiliriz. Ama bunun için öncelikle deneme.txt adlı dosyayı yazma modunda açmamız gerekiyor. Python’da dosyalar ya okuma ya da yazma modunda açılabilir. Okuma modunda açılan bir dosyaya yazılamaz. O yüzden dosyamızı bir de yazma modunda açmamız gerekiyor:"
   ]
  },
  {
   "cell_type": "code",
   "execution_count": null,
   "id": "226a2bc8-daaf-4362-8649-afa73bf0fa97",
   "metadata": {},
   "outputs": [],
   "source": [
    "g = open(\"deneme.txt\", \"w\")"
   ]
  },
  {
   "cell_type": "markdown",
   "id": "00255392-51fa-470e-954d-aee596460f26",
   "metadata": {},
   "source": [
    "open() fonksiyonunun ilk parametresi dosya adını gösterirken, ikinci parametresi dosyanın hangi modda açılacağını gösteriyor. Biz burada deneme.txt adlı dosyayı yazma modunda açtık. Buradaki “w” parametresi İngilizcede ‘yazmak’ anlamına gelen write kelimesinin ilk harfidir. Biraz önce ise deneme.txt dosyasını “r”, yani okuma (read) modunda açmıştık.\n",
    "\n",
    "Dosyamız artık üzerine yazmaya hazır. Dikkatlice bakın:\n",
    "\n"
   ]
  },
  {
   "cell_type": "code",
   "execution_count": null,
   "id": "b05f3f81-7c2e-4e09-a1f1-577f89fb6306",
   "metadata": {},
   "outputs": [],
   "source": [
    "g.writelines(içerik)"
   ]
  },
  {
   "cell_type": "markdown",
   "id": "6961cd57-ab65-480e-9a92-11da2d2fadc5",
   "metadata": {},
   "source": [
    "Burada, biraz önce istediğimiz biçime getirdiğimiz içerik adlı listeyi doğrudan dosyaya yazdık. Bu işlem için writelines() adlı özel bir metottan yararlandık. Bu metotları birkaç bölüm sonra ayrıntılı olarak inceleyeceğiz. Biz şimdilik sadece sonuca odaklanalım.\n",
    "\n",
    "Yapmamız gereken son işlem, açık dosyaları kapatmak olmalı:\n",
    "\n"
   ]
  },
  {
   "cell_type": "raw",
   "id": "2ad37c63-a479-418c-b42b-4a8f3fc14e54",
   "metadata": {},
   "source": [
    "f.close()\n",
    "g.close()\n"
   ]
  },
  {
   "cell_type": "markdown",
   "id": "5f1baabb-7588-4c5e-92e5-99aafe0c73d4",
   "metadata": {},
   "source": [
    "Şimdi kodlara topluca bir bakalım:\n",
    "\n"
   ]
  },
  {
   "cell_type": "code",
   "execution_count": null,
   "id": "81c55508-db39-427d-8aae-9322545b22a8",
   "metadata": {},
   "outputs": [],
   "source": [
    "f = open(\"deneme.txt\", \"r\")\n",
    "içerik = f.readlines()\n",
    "içerik.insert(1, \"Ferhat Yaz\\n\")\n",
    "\n",
    "g = open(\"deneme.txt\", \"w\")\n",
    "g.writelines(içerik)\n",
    "\n",
    "f.close()\n",
    "g.close()"
   ]
  },
  {
   "cell_type": "markdown",
   "id": "0cb0b337-b2b2-4346-8165-993439d686b0",
   "metadata": {},
   "source": [
    "Gördüğünüz gibi yaptığımız işlem şu basamaklardan oluşuyor:\n",
    "\n",
    "Öncelikle dosyamızı okuma modunda açıyoruz (f = open(\"deneme.txt\", \"r\"))\n",
    "\n",
    "Ardından dosya içeriğini bir liste olarak alıyoruz (içerik = f.readlines())\n",
    "\n",
    "Aldığımız bu listenin 2. sırasına “Ferhat Yaz” öğesini ekliyoruz (içerik.insert(1, \"Ferhat Yaz\\n\"))\n",
    "\n",
    "Listeyi istediğimiz şekle getirdikten sonra bu defa dosyamızı yazma modunda açıyoruz (g = open(\"deneme.txt\", \"w\"))\n",
    "\n",
    "Biraz önce düzenlediğimiz listeyi dosyaya yazıyoruz (g.writelines(içerik))\n",
    "\n",
    "Son olarak da, hem yaptığımız değişikliklerin etkin hale gelebilmesi hem de işletim sisteminin programımıza tahsis ettiği kaynakların serbest kalması için dosyalarımızı kapatıyoruz (f.close() ve g.close())\n",
    "\n",
    "Burada insert() metodunun bize nasıl kolaylık sağladığına dikkat edin. insert() metodu da listelerin önemli metotlarından biridir ve dediğimiz gibi, özellikle dosyaları manipüle ederken epey işimize yarar.\n",
    "\n",
    "++++++++++++remove()\n",
    "\n",
    "\n",
    "Bu metot listeden öğe silmemizi sağlar. Örneğin:"
   ]
  },
  {
   "cell_type": "code",
   "execution_count": 13,
   "id": "9a43cf5d-cc19-4509-9f82-2f2aba187ecc",
   "metadata": {},
   "outputs": [
    {
     "data": {
      "text/plain": [
       "['armut', 'çilek']"
      ]
     },
     "execution_count": 13,
     "metadata": {},
     "output_type": "execute_result"
    }
   ],
   "source": [
    "liste = [\"elma\", \"armut\", \"çilek\"]\n",
    "liste.remove(\"elma\")\n",
    "liste\n"
   ]
  },
  {
   "cell_type": "markdown",
   "id": "5232ebd3-07ca-47d7-ac4c-b62fb8d48f46",
   "metadata": {},
   "source": [
    "++++++++reverse()¶\n",
    "\n",
    "Daha önce verdiğimiz örneklerde, liste öğelerini ters çevirmek için dilimleme yöntemini kullanabileceğimizi öğrenmiştik:\n",
    "\n",
    "\n"
   ]
  },
  {
   "cell_type": "code",
   "execution_count": 14,
   "id": "2249458f-4ca6-4afa-befa-532e20b0f1f5",
   "metadata": {},
   "outputs": [
    {
     "data": {
      "text/plain": [
       "['kiraz', 'çilek', 'armut', 'elma']"
      ]
     },
     "execution_count": 14,
     "metadata": {},
     "output_type": "execute_result"
    }
   ],
   "source": [
    "meyveler = [\"elma\", \"armut\", \"çilek\", \"kiraz\"]\n",
    "meyveler[::-1]\n"
   ]
  },
  {
   "cell_type": "markdown",
   "id": "2c83fb60-327d-494e-83ca-6377fa364fc9",
   "metadata": {},
   "source": [
    "Eğer istersek, bu iş için, karakter dizilerini incelerken öğrendiğimiz reversed() fonksiyonunu da kullanabiliriz:\n",
    "\n"
   ]
  },
  {
   "cell_type": "code",
   "execution_count": 15,
   "id": "b03e46c5-fd48-47df-ae8d-93413649174b",
   "metadata": {},
   "outputs": [
    {
     "data": {
      "text/plain": [
       "<list_reverseiterator at 0x73437c2546a0>"
      ]
     },
     "execution_count": 15,
     "metadata": {},
     "output_type": "execute_result"
    }
   ],
   "source": [
    "reversed(meyveler)"
   ]
  },
  {
   "cell_type": "markdown",
   "id": "c7a3db19-ffcf-4eaf-8a29-eb62b5e1b8c7",
   "metadata": {},
   "source": [
    "Demek ki reversed() fonksiyonunu bir liste üzerine uyguladığımızda ‘list_reverseiterator’ adı verilen bir nesne elde ediyoruz. Bu nesnenin içeriğini görmek için birkaç farklı yöntemden yararlanabiliriz. Örneğin:\n",
    "\n"
   ]
  },
  {
   "cell_type": "code",
   "execution_count": 16,
   "id": "1c8ea8c4-fb33-4c67-b135-2cd300d5e48f",
   "metadata": {},
   "outputs": [
    {
     "name": "stdout",
     "output_type": "stream",
     "text": [
      "kiraz çilek armut elma\n"
     ]
    }
   ],
   "source": [
    "print(*reversed(meyveler))\n"
   ]
  },
  {
   "cell_type": "markdown",
   "id": "0e0a6310-8dcd-4727-b00c-bce8c3bb3898",
   "metadata": {},
   "source": [
    "… veya:"
   ]
  },
  {
   "cell_type": "code",
   "execution_count": 17,
   "id": "6c3d5e03-3c18-4819-a98e-c8bbcd1b6c71",
   "metadata": {},
   "outputs": [
    {
     "name": "stdout",
     "output_type": "stream",
     "text": [
      "['kiraz', 'çilek', 'armut', 'elma']\n"
     ]
    }
   ],
   "source": [
    "print(list(reversed(meyveler)))"
   ]
  },
  {
   "cell_type": "markdown",
   "id": "fcc700de-8f90-48fe-887a-e17f1e9a0187",
   "metadata": {},
   "source": [
    "… ya da:"
   ]
  },
  {
   "cell_type": "code",
   "execution_count": 18,
   "id": "47a8af5f-5bdb-4638-b4b6-8523b97a14a7",
   "metadata": {},
   "outputs": [
    {
     "name": "stdout",
     "output_type": "stream",
     "text": [
      "kiraz\n",
      "çilek\n",
      "armut\n",
      "elma\n"
     ]
    }
   ],
   "source": [
    "for i in reversed(meyveler):\n",
    "    print(i)"
   ]
  },
  {
   "cell_type": "markdown",
   "id": "d95e2c7b-8692-448e-8e5c-7df0d88905f4",
   "metadata": {},
   "source": [
    "Gördüğünüz gibi, Python’da bir listeyi ters çevirmenin pek çok yöntemi var. Dilerseniz şimdi bu yöntemlere bir tane daha ekleyelim.\n",
    "\n",
    "Python’da listelerin öğelerini ters çevirmek için yukarıdaki yöntemlere ek olarak listelerin reverse() metodunu da kullanabilirsiniz:\n",
    "\n"
   ]
  },
  {
   "cell_type": "code",
   "execution_count": 19,
   "id": "3845e959-f293-4e5d-94be-582b5a8a4123",
   "metadata": {},
   "outputs": [
    {
     "data": {
      "text/plain": [
       "['çilek', 'armut', 'elma']"
      ]
     },
     "execution_count": 19,
     "metadata": {},
     "output_type": "execute_result"
    }
   ],
   "source": [
    "liste = [\"elma\", \"armut\", \"çilek\"]\n",
    "liste.reverse()\n",
    "liste"
   ]
  },
  {
   "cell_type": "markdown",
   "id": "a3341c30-ee2e-49e4-a546-e8097d2d4548",
   "metadata": {},
   "source": [
    "İhtiyacınız olan çıktının türüne ve şekline göre yukarıdaki yöntemlerden herhangi birini tercih edebilirsiniz.\n",
    "\n",
    "++++++++++++pop()\n",
    "\n",
    "\n",
    "Tıpkı remove() metodu gibi, bu metot da bir listeden öğe silmemizi sağlar:"
   ]
  },
  {
   "cell_type": "code",
   "execution_count": 20,
   "id": "82d297e9-95f6-4530-823e-19fe20674170",
   "metadata": {},
   "outputs": [
    {
     "data": {
      "text/plain": [
       "'çilek'"
      ]
     },
     "execution_count": 20,
     "metadata": {},
     "output_type": "execute_result"
    }
   ],
   "source": [
    "liste = [\"elma\", \"armut\", \"çilek\"]\n",
    "liste.pop()"
   ]
  },
  {
   "cell_type": "markdown",
   "id": "2e810669-ad43-4b3e-97e1-1eba89e61080",
   "metadata": {},
   "source": [
    "Ancak bu metot, remove() metodundan biraz farklı davranır. pop() metodunu kullanarak bir liste öğesini sildiğimizde, silinen öğe ekrana basılacaktır. Bu metot parametresiz olarak kullanıldığında listenin son öğesini listeden atar. Alternatif olarak, bu metodu bir parametre ile birlikte de kullanabilirsiniz. Örneğin:\n",
    "\n"
   ]
  },
  {
   "cell_type": "code",
   "execution_count": 21,
   "id": "383662cc-e54b-48dc-97f0-82c3ed2cdd71",
   "metadata": {},
   "outputs": [
    {
     "data": {
      "text/plain": [
       "'elma'"
      ]
     },
     "execution_count": 21,
     "metadata": {},
     "output_type": "execute_result"
    }
   ],
   "source": [
    "liste.pop(0)"
   ]
  },
  {
   "cell_type": "markdown",
   "id": "3d97eaaf-11a6-4876-843a-1cb6a3559d17",
   "metadata": {},
   "source": [
    "Bu komut listenin 0. öğesini listeden atar ve atılan öğeyi ekrana basar.\n",
    "\n"
   ]
  },
  {
   "cell_type": "markdown",
   "id": "66dd4956-a43b-4c5d-a6de-8ab4c7cbe6af",
   "metadata": {},
   "source": [
    "+++++++++++sort()\n",
    "\n",
    "\n",
    "Yine listelerin önemli bir metodu ile karşı karşıyayız. sort() adlı bu önemli metot bir listenin öğelerini belli bir ölçüte göre sıraya dizmemizi sağlar. Basit bir örnek verelim. Diyelim ki elimizde şöyle bir liste var:\n",
    "\n",
    "\n"
   ]
  },
  {
   "cell_type": "code",
   "execution_count": 22,
   "id": "5e6ae9f7-f216-4fd1-b18a-28aea1e3cd75",
   "metadata": {},
   "outputs": [],
   "source": [
    "üyeler = ['Ahmet', 'Mehmet', 'Ceylan', 'Seyhan', 'Mahmut', 'Zeynep',\n",
    "          'Abdullah', 'Kadir', 'Kemal', 'Kamil', 'Selin', 'Senem',\n",
    "          'Sinem', 'Tayfun', 'Tuna', 'Tolga']"
   ]
  },
  {
   "cell_type": "markdown",
   "id": "20a4b44f-c5ea-4cc5-a4cf-0d78688f13bb",
   "metadata": {},
   "source": [
    "Bu listedeki isimleri mesela alfabe sırasına dizmek için sort() metodunu kullanabiliriz:\n",
    "\n"
   ]
  },
  {
   "cell_type": "code",
   "execution_count": 23,
   "id": "c5086ed9-9e5c-42a2-84cc-6a5d732a5b74",
   "metadata": {},
   "outputs": [
    {
     "name": "stdout",
     "output_type": "stream",
     "text": [
      "['Abdullah', 'Ahmet', 'Ceylan', 'Kadir', 'Kamil', 'Kemal', 'Mahmut', 'Mehmet', 'Selin', 'Senem', 'Seyhan', 'Sinem', 'Tayfun', 'Tolga', 'Tuna', 'Zeynep']\n"
     ]
    }
   ],
   "source": [
    "üyeler.sort()\n",
    "print(üyeler)"
   ]
  },
  {
   "cell_type": "markdown",
   "id": "b5dd61c7-a813-4079-b708-fec44be6a497",
   "metadata": {},
   "source": [
    "Bu metot elbette yalnızca harfleri alfabe sırasına dizmek için değil sayıları sıralamak için de kullanılabilir:\n",
    "\n"
   ]
  },
  {
   "cell_type": "code",
   "execution_count": 24,
   "id": "308ae203-6a18-4adb-a83a-dc526feafb9f",
   "metadata": {},
   "outputs": [
    {
     "name": "stdout",
     "output_type": "stream",
     "text": [
      "[-1, 0, 1, 3, 4, 6, 10]\n"
     ]
    }
   ],
   "source": [
    "sayılar = [1, 0, -1, 4, 10, 3, 6]\n",
    "sayılar.sort()\n",
    "print(sayılar)\n"
   ]
  },
  {
   "cell_type": "markdown",
   "id": "d41c8543-0bfa-4794-9a6a-c72c9e70cbb4",
   "metadata": {},
   "source": [
    "Gördüğünüz gibi, sort() metodu öğeleri artan sıralamaya tabi tutuyor. Yani öğeler ‘a, b, c’ veya 1, 2, 3 şeklinde sıralanıyor. Bunun tersini yapmak da mümkündür. Yani istersek Python’ın sıralama işlemini ‘c, b, a’ şeklinde yapmasını da sağlayabiliriz. Bunun için sort() metodunun reverse parametresini kullanacağız:"
   ]
  },
  {
   "cell_type": "code",
   "execution_count": 25,
   "id": "7923fcd0-8707-45f6-a6e6-df6eb0e80015",
   "metadata": {},
   "outputs": [],
   "source": [
    "üyeler = ['Ahmet', 'Mehmet', 'Ceylan', 'Seyhan', 'Mahmut', 'Zeynep',\n",
    "              'Abdullah', 'Kadir', 'Kemal', 'Kamil', 'Selin', 'Senem',\n",
    "             'Sinem', 'Tayfun', 'Tuna', 'Tolga']\n",
    "\n",
    "üyeler.sort(reverse=True)"
   ]
  },
  {
   "cell_type": "markdown",
   "id": "7752ba45-9cb1-4c84-863b-54b3e4072984",
   "metadata": {},
   "source": [
    "\n",
    "Gördüğünüz gibi sort() metodunun reverse adlı bir parametresine verdiğimiz True değeri sayesinde liste öğelerini ters sıraladık. Bu parametrenin öntanımlı değeri False’tur. Yani sort() metodu öntanımlı olarak öğeleri artıra artıra sıralar. Öğeleri azalta azalta sıralamak için reverse parametresinin False olan öntanımlı değerini True yapmamız yeterli olacaktır.\n",
    "\n",
    "Gelin isterseniz sort() metodunu kullanarak bir örnek daha verelim. Elimizde şöyle bir liste olsun:"
   ]
  },
  {
   "cell_type": "code",
   "execution_count": 26,
   "id": "685cf892-57ad-4f0b-9c1c-1ea1d8b3bb2f",
   "metadata": {},
   "outputs": [],
   "source": [
    "isimler = [\"Ahmet\", \"Işık\", \"İsmail\", \"Çiğdem\", \"Can\", \"Şule\"]"
   ]
  },
  {
   "cell_type": "markdown",
   "id": "7f8da1a7-16d7-4eab-8274-3584ddcc106d",
   "metadata": {},
   "source": [
    "Bu listedeki isimleri alfabe sırasına dizelim:\n",
    "\n"
   ]
  },
  {
   "cell_type": "code",
   "execution_count": 27,
   "id": "34759478-312d-4d19-9184-60ffeb79c42c",
   "metadata": {},
   "outputs": [
    {
     "data": {
      "text/plain": [
       "['Ahmet', 'Can', 'Işık', 'Çiğdem', 'İsmail', 'Şule']"
      ]
     },
     "execution_count": 27,
     "metadata": {},
     "output_type": "execute_result"
    }
   ],
   "source": [
    "isimler.sort()\n",
    "isimler"
   ]
  },
  {
   "cell_type": "markdown",
   "id": "4d1818dd-ecb1-4e6c-9262-c7b94673b21b",
   "metadata": {},
   "source": [
    "Gördüğünüz gibi, çıktı pek beklediğimiz gibi değil. Tıpkı karakter dizilerini anlatırken öğrendiğimiz sorted() fonksiyonunda olduğu gibi, listelerin sort() metodu da Türkçe karakterleri düzgün sıralayamaz. Eğer Türkçe karakterleri sıralamamız gereken bir program yazıyorsak bizim sort() metodunun işleyişine müdahale etmemiz gerekir. Temel olarak, sorted() fonksiyonunu anlatırken söylediklerimiz burada da geçerlidir. Orada bahsettiğimiz locale modülü burada da çoğu durumda işimizi halletmemizi sağlar. Ama sorted() fonksiyonunu anlatırken de söylediğimiz gibi, locale modülü burada da ‘i’ ve ‘ı’ harflerini düzgün sıralayamaz. Türkçe harflerin tamamını düzgün sıralayabilmek için şöyle bir kod yazabiliriz:"
   ]
  },
  {
   "cell_type": "code",
   "execution_count": 28,
   "id": "fb94cded-f9d8-4dae-bead-2e42e6dd0208",
   "metadata": {},
   "outputs": [
    {
     "name": "stdout",
     "output_type": "stream",
     "text": [
      "['ahmet', 'can', 'çiğdem', 'ışık', 'ismail', 'şule']\n"
     ]
    }
   ],
   "source": [
    "harfler = \"abcçdefgğhıijklmnoöprsştuüvyz\"\n",
    "çevrim = {harf: harfler.index(harf) for harf in harfler}\n",
    "\n",
    "\n",
    "isimler = [\"ahmet\", \"ışık\", \"ismail\", \"çiğdem\", \"can\", \"şule\"]\n",
    "\n",
    "isimler.sort(key=lambda x: çevrim.get(x[0]))\n",
    "\n",
    "print(isimler)"
   ]
  },
  {
   "cell_type": "markdown",
   "id": "558176e8-fa32-4070-8f06-108f773bf390",
   "metadata": {},
   "source": [
    "Bu kodların bir kısmını anlayabiliyor, bir kısmını ise anlayamıyor olabilirsiniz. Çünkü burada henüz işlemediğimiz konular var. Zamanı geldiğinde bu kodların tamamını anlayabilecek duruma geleceksiniz. Siz şimdilik sadece bu kodlardan ne çıkarabildiğinize bakın yeter. Zaten bizim buradaki amacımız, sort() metodunun Türkçe harfleri de düzgün bir şekilde sıralayabileceğini göstermekten ibarettir.\n",
    "\n",
    "Bu arada ufak bir uyarı yapmadan geçmeyelim: Yukarıdaki kodlar da esasında Türkçe kelimeleri tam anlamıyla düzgün bir şekilde sıralamak için yeterli değil. ‘Gömülü Fonksiyonlar’ konusunu incelerken, yeri geldiğinde bu konuya tekrar değinip, Türkçe kelimelerin nasıl doğru, tam ve eksiksiz bir biçimde sıralanacağını da tüm ayrıntılarıyla inceleyeceğiz.\n",
    "\n",
    "++++++++++index()\n",
    "\n",
    "\n",
    "Karakter dizileri konusunu anlatırken bu veri tipinin index() adlı bir metodu olduğundan söz etmiştik hatırlarsanız. İşte liste veri tipinin de index() adında ve karakter dizilerinin index() metoduyla aynı işi yapan bir metodu bulunur. Bu metot bir liste öğesinin liste içindeki konumunu söyler bize:"
   ]
  },
  {
   "cell_type": "code",
   "execution_count": 29,
   "id": "204aa9a5-7598-4b40-8ed2-805ad6ab508c",
   "metadata": {},
   "outputs": [
    {
     "data": {
      "text/plain": [
       "0"
      ]
     },
     "execution_count": 29,
     "metadata": {},
     "output_type": "execute_result"
    }
   ],
   "source": [
    "liste = [\"elma\", \"armut\", \"çilek\"]\n",
    "liste.index(\"elma\")"
   ]
  },
  {
   "cell_type": "markdown",
   "id": "fd08be1a-de43-4f80-9a39-c32dbf8407ff",
   "metadata": {},
   "source": [
    "Karakter dizilerinin index() metoduyla ilgili söylediğimiz her şey listelerin index() metodu için de geçerlidir."
   ]
  },
  {
   "cell_type": "markdown",
   "id": "83feb6a4-d395-44ab-8f83-36cbed2a1336",
   "metadata": {},
   "source": [
    "++++++++++count()\n",
    "\n",
    "\n",
    "Karakter dizileri ile listelerin ortak metotlarından biri de count() metodudur. Tıpkı karakter dizilerinde olduğu gibi, listelerin count() metodu da bir öğenin o veri tipi içinde kaç kez geçtiğini söyler:"
   ]
  },
  {
   "cell_type": "code",
   "execution_count": 30,
   "id": "770f2f01-0a4d-4c67-80ba-ff1363ab3ef8",
   "metadata": {},
   "outputs": [
    {
     "data": {
      "text/plain": [
       "2"
      ]
     },
     "execution_count": 30,
     "metadata": {},
     "output_type": "execute_result"
    }
   ],
   "source": [
    "liste = [\"elma\", \"armut\", \"elma\", \"çilek\"]\n",
    "liste.count(\"elma\")\n"
   ]
  },
  {
   "cell_type": "markdown",
   "id": "5c35ccca-fdae-482e-855a-fe373989b898",
   "metadata": {},
   "source": [
    "Karakter dizilerinin count() metoduyla ilgili söylediğimiz her şey listelerin count() metodu için de geçerlidir."
   ]
  },
  {
   "cell_type": "markdown",
   "id": "c24ae0e1-4d31-4918-9a37-8270f3f4c5ba",
   "metadata": {},
   "source": [
    "+++++++copy()\n",
    "\n",
    "\n",
    "Hatırlarsanız, geçen bölümde, listeleri, birbirlerini etkilemeyecek şekilde kopyalamak için şu iki yöntemi kullanmıştık:"
   ]
  },
  {
   "cell_type": "code",
   "execution_count": 31,
   "id": "156e28f6-7880-486a-b491-8780ab1740e2",
   "metadata": {},
   "outputs": [],
   "source": [
    "liste1 = [\"ahmet\", \"mehmet\", \"özlem\"]\n",
    "liste2 = liste1[:]\n"
   ]
  },
  {
   "cell_type": "markdown",
   "id": "62fb1006-72ec-4aae-82fe-22acb0ba4264",
   "metadata": {},
   "source": [
    "ve:"
   ]
  },
  {
   "cell_type": "code",
   "execution_count": 32,
   "id": "4c1ec275-678d-4f69-9d2d-da64e31b15e9",
   "metadata": {},
   "outputs": [],
   "source": [
    "liste2 = list(liste1)"
   ]
  },
  {
   "cell_type": "markdown",
   "id": "b7fb846b-5fb1-4d10-9c65-3043f1978f8a",
   "metadata": {},
   "source": [
    "İşte aynı iş için yukarıdakilere ek olarak copy() adlı bir metottan da yararlanabiliriz. Dikkatlice bakın:\n",
    "\n"
   ]
  },
  {
   "cell_type": "code",
   "execution_count": 33,
   "id": "1f974182-ffa8-46b6-a87b-8f23c01e4d74",
   "metadata": {},
   "outputs": [],
   "source": [
    "liste2 = liste1.copy()"
   ]
  },
  {
   "cell_type": "markdown",
   "id": "241d0410-e328-4bae-b29e-69acc8433758",
   "metadata": {},
   "source": [
    "Hangi yöntemi seçeceğiniz size kalmış…"
   ]
  },
  {
   "cell_type": "markdown",
   "id": "d678323c-1fa2-4a94-b9ed-df0e69cc6bd9",
   "metadata": {},
   "source": [
    "++++++++++++++++clear()\n",
    "\n",
    "\n",
    "Listelerle ilgili olarak ele alacağımız son metodun adı clear(). Bu metodun görevi bir listenin içeriğini silmektir.\n",
    "\n",
    "Diyelim ki elimizde şöyle bir liste var:"
   ]
  },
  {
   "cell_type": "code",
   "execution_count": 34,
   "id": "059cc5dc-d2fe-4cf1-aa5c-81e43da5acf9",
   "metadata": {},
   "outputs": [],
   "source": [
    "liste = [1, 2, 3, 5, 10, 20, 30, 45]"
   ]
  },
  {
   "cell_type": "markdown",
   "id": "2bc8ab9c-17ca-4d22-9f39-f617216fcd50",
   "metadata": {},
   "source": [
    "Bu listenin içini boşaltmak için clear() metodunu kullanabiliriz:\n",
    "\n"
   ]
  },
  {
   "cell_type": "code",
   "execution_count": 35,
   "id": "542ff794-da86-4973-85bb-fc476cab6c9d",
   "metadata": {},
   "outputs": [
    {
     "data": {
      "text/plain": [
       "[]"
      ]
     },
     "execution_count": 35,
     "metadata": {},
     "output_type": "execute_result"
    }
   ],
   "source": [
    "liste.clear()\n",
    "liste"
   ]
  },
  {
   "cell_type": "markdown",
   "id": "7c3821c3-dbab-48ec-b37e-7e87ebdb776b",
   "metadata": {},
   "source": [
    "Bu metodun del sözcüğünden farklı olduğunu dikkat edin. clear() metodu listenin içeriğini boşaltırken, del sözcüğü listeyi olduğu gibi ortadan kaldırır."
   ]
  },
  {
   "cell_type": "markdown",
   "id": "b0b89d8c-e485-4cbd-a25b-d31af8d00963",
   "metadata": {},
   "source": [
    "+++++++++++Demetlerin Metotları\n",
    "\n",
    "\n",
    "Listelerin metotlarını incelediğimize göre, artık demetlerin metotlarına bakabiliriz.\n",
    "\n",
    "Geçen bölümde de söylediğimiz gibi, listeler ve demetler birbirine benzer. Aralarındaki en önemli fark, listelerin değiştirilebilir bir veri tipi iken, demetlerin değiştirilemez bir veri tipi olmasıdır. Elbette bu fark, iki veri tipinin metotlarında da kendini gösterir. Demetler üzerinde değişiklik yapamadığımız için, bu veri tipi değişiklik yapmaya yarayan metotlara sahip değildir.\n",
    "\n",
    "Demetlerin hangi metotları olduğunu şu komutla görebilirsiniz:"
   ]
  },
  {
   "cell_type": "code",
   "execution_count": 36,
   "id": "09a62233-9794-48da-bf45-0987bf29d7a6",
   "metadata": {},
   "outputs": [
    {
     "data": {
      "text/plain": [
       "['__add__',\n",
       " '__class__',\n",
       " '__class_getitem__',\n",
       " '__contains__',\n",
       " '__delattr__',\n",
       " '__dir__',\n",
       " '__doc__',\n",
       " '__eq__',\n",
       " '__format__',\n",
       " '__ge__',\n",
       " '__getattribute__',\n",
       " '__getitem__',\n",
       " '__getnewargs__',\n",
       " '__gt__',\n",
       " '__hash__',\n",
       " '__init__',\n",
       " '__init_subclass__',\n",
       " '__iter__',\n",
       " '__le__',\n",
       " '__len__',\n",
       " '__lt__',\n",
       " '__mul__',\n",
       " '__ne__',\n",
       " '__new__',\n",
       " '__reduce__',\n",
       " '__reduce_ex__',\n",
       " '__repr__',\n",
       " '__rmul__',\n",
       " '__setattr__',\n",
       " '__sizeof__',\n",
       " '__str__',\n",
       " '__subclasshook__',\n",
       " 'count',\n",
       " 'index']"
      ]
     },
     "execution_count": 36,
     "metadata": {},
     "output_type": "execute_result"
    }
   ],
   "source": [
    "dir(tuple)"
   ]
  },
  {
   "cell_type": "markdown",
   "id": "2679c98d-856c-49cc-b18e-bd0be1dfdaf3",
   "metadata": {},
   "source": [
    "+++++++++++++index()\n",
    "\n",
    "\n",
    "Listeler ve karakter dizileri konusunu anlatırken bu veri tiplerinin index() adlı bir metodu olduğundan söz etmiştik hatırlarsanız. İşte demet veri tipinin de index() adında ve listelerle karakter dizilerinin index() metoduyla aynı işi yapan bir metodu bulunur. Bu metot bir demet öğesinin demet içindeki konumunu söyler bize:\n",
    "\n"
   ]
  },
  {
   "cell_type": "code",
   "execution_count": 37,
   "id": "2f635f4f-4fbb-4f4f-a4b7-ae8a9463da61",
   "metadata": {},
   "outputs": [
    {
     "data": {
      "text/plain": [
       "0"
      ]
     },
     "execution_count": 37,
     "metadata": {},
     "output_type": "execute_result"
    }
   ],
   "source": [
    "demet = (\"elma\", \"armut\", \"çilek\")\n",
    "demet.index(\"elma\")"
   ]
  },
  {
   "cell_type": "markdown",
   "id": "7ce4b635-acc2-4379-a324-cdbea86af926",
   "metadata": {},
   "source": [
    "Listelerin ve karakter dizilerinin index() metoduyla ilgili söylediğimiz her şey demetlerin index() metodu için de geçerlidir."
   ]
  },
  {
   "cell_type": "markdown",
   "id": "cef3204e-1052-403b-82d8-623673f21482",
   "metadata": {},
   "source": [
    "++++++++++count()\n",
    "\n",
    "\n",
    "Karakter dizileri, listeler ve demetlerin ortak metotlarından biri de count() metodudur. Tıpkı karakter dizileri ve listelerde olduğu gibi, demetlerin count() metodu da bir öğenin o veri tipi içinde kaç kez geçtiğini söyler:\n",
    "\n"
   ]
  },
  {
   "cell_type": "code",
   "execution_count": 38,
   "id": "b92ae43f-b507-4369-aa99-04ea8a2fb218",
   "metadata": {},
   "outputs": [
    {
     "data": {
      "text/plain": [
       "2"
      ]
     },
     "execution_count": 38,
     "metadata": {},
     "output_type": "execute_result"
    }
   ],
   "source": [
    "demet = (\"elma\", \"armut\", \"elma\", \"çilek\")\n",
    "demet.count(\"elma\")"
   ]
  },
  {
   "cell_type": "markdown",
   "id": "66956fd6-0ac1-4ee0-8d9b-c0234254abe2",
   "metadata": {},
   "source": [
    "Karakter dizilerinin ve listelerin count() metoduyla ilgili söylediğimiz her şeydemetlerin count() metodu için de geçerlidir."
   ]
  },
  {
   "cell_type": "code",
   "execution_count": null,
   "id": "92ef3df7-d150-4ac6-bacc-a2c520de9b7a",
   "metadata": {},
   "outputs": [],
   "source": []
  }
 ],
 "metadata": {
  "kernelspec": {
   "display_name": "Python 3 (ipykernel)",
   "language": "python",
   "name": "python3"
  },
  "language_info": {
   "codemirror_mode": {
    "name": "ipython",
    "version": 3
   },
   "file_extension": ".py",
   "mimetype": "text/x-python",
   "name": "python",
   "nbconvert_exporter": "python",
   "pygments_lexer": "ipython3",
   "version": "3.10.12"
  }
 },
 "nbformat": 4,
 "nbformat_minor": 5
}
