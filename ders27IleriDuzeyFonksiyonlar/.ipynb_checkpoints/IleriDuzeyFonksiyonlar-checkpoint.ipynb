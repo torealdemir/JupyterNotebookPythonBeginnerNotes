{
 "cells": [
  {
   "cell_type": "markdown",
   "id": "f498898d-1efb-4d8a-b44b-866f67fdc14a",
   "metadata": {},
   "source": [
    "++++++++++İleri Düzey Fonksiyonlar\n",
    "Buraya gelinceye kadar fonksiyonlara ilişkin epey söz söyledik. Artık Python programlama dilinde fonksiyonlara dair hemen her şeyi bildiğimizi rahatlıkla söyleyebiliriz. Zira bu noktaya kadar hem fonksiyonların temel (ve orta düzey) özelliklerini öğrendik, hem de ‘gömülü fonksiyon’ kavramını ve gömülü fonksiyonların kendisini bütün ayrıntılarıyla inceledik. Dolayısıyla yazdığımız kodlarda fonksiyonları oldukça verimli bir şekilde kullanabilecek kadar fonksiyon bilgisine sahibiz artık.\n",
    "\n",
    "Dediğimiz gibi, fonksiyonlara ilişkin en temel bilgileri edindik. Ancak fonksiyonlara dair henüz bilmediğimiz şeyler de var. Ama artık Python programlama dilinde geldiğimiz aşamayı dikkate alarak ileriye doğru bir adım daha atabilir, fonksiyonlara dair ileri düzey sayılabilecek konulardan da söz edebiliriz.\n",
    "\n",
    "İlk olarak ‘lambda fonksiyonlarını’ ele alalım.\n",
    "\n",
    "+++++++++++Lambda Fonksiyonları\n",
    "Şimdiye kadar Python programlama dilinde fonksiyon tanımlamak için hep def adlı bir ifadeden yararlanmıştık. Bu bölümde ise Python programlama dilinde fonksiyon tanımlamamızı sağlayacak, tıpkı def gibi bir ifadeden daha söz edeceğiz. Fonksiyon tanımlamamızı sağlayan bu yeni ifadeye lambda denir. Bu ifade ile oluşturulan fonksiyonlara ise ‘lambda fonksiyonları’…\n",
    "\n",
    "Bildiğiniz gibi Python’da bir fonksiyonu def ifadesi yardımıyla şöyle tanımlıyoruz:\n",
    "\n"
   ]
  },
  {
   "cell_type": "code",
   "execution_count": null,
   "id": "5ea2f307-0dcb-4992-8c5a-16998599a8db",
   "metadata": {},
   "outputs": [],
   "source": [
    "def fonk(param1, param2):\n",
    "    return param1 + param2"
   ]
  },
  {
   "cell_type": "markdown",
   "id": "c1f6be5e-c3d3-4664-a40d-9e6d9e68a593",
   "metadata": {},
   "source": [
    "Bu fonksiyon, kendisine verilen parametreleri birbiriyle toplayıp bize bunların toplamını döndürüyor:"
   ]
  },
  {
   "cell_type": "code",
   "execution_count": null,
   "id": "9f93979b-f589-417b-8204-d5c07d6a4143",
   "metadata": {},
   "outputs": [],
   "source": [
    "fonk(2, 4)"
   ]
  },
  {
   "cell_type": "markdown",
   "id": "09d33d1d-a918-4934-8d87-99fa20976a9a",
   "metadata": {},
   "source": [
    "Peki aynı işlemi lambda fonksiyonları yardımıyla yapmak istersek nasıl bir yol izleyeceğiz?\n",
    "\n",
    "Dikkatlice bakın:\n",
    "\n"
   ]
  },
  {
   "cell_type": "code",
   "execution_count": null,
   "id": "5354b7ee-ba3a-4229-a720-a6a25741bc8d",
   "metadata": {},
   "outputs": [],
   "source": [
    "fonk = lambda param1, param2: param1 + param2\n"
   ]
  },
  {
   "cell_type": "markdown",
   "id": "70c92d94-253c-4cb4-8661-e3e621d74cdc",
   "metadata": {},
   "source": [
    "İşte burada tanımladığımız şey bir lambda fonksiyonudur. Bu lambda fonksiyonunu da tıpkı biraz önce tanımladığımız def fonksiyonu gibi kullanabiliriz:\n",
    "\n"
   ]
  },
  {
   "cell_type": "code",
   "execution_count": null,
   "id": "c5edd1b5-ef8d-417c-b6de-d3a57a2ead75",
   "metadata": {},
   "outputs": [],
   "source": [
    "fonk(2, 4)\n"
   ]
  },
  {
   "cell_type": "markdown",
   "id": "488af259-53e6-4f53-b7ce-55a22128f7ee",
   "metadata": {},
   "source": [
    "Gördüğünüz gibi lambda fonksiyonlarını tanımlamak ve kullanmak hiç de zor değil.\n",
    "\n",
    "Lambda fonksiyonlarının neye benzediğinden temel olarak bahsettiğimize göre artık biraz daha derine inebiliriz.\n",
    "\n",
    "Lambda fonksiyonları Python programlama dilinin ileri düzey fonksiyonlarından biridir. Yukarıdaki örnek yardımıyla bu lambda fonksiyonlarının nasıl bir şey olduğunu gördük. Esasında biz buraya gelene kadar bu lambda fonksiyonlarını hiç görmemiş de değiliz. Hatırlarsanız daha önceki derslerimizde şöyle bir örnek kod yazmıştık:\n",
    "\n"
   ]
  },
  {
   "cell_type": "code",
   "execution_count": null,
   "id": "adfe18f8-4428-4b4d-9bde-8c660a2de88e",
   "metadata": {},
   "outputs": [],
   "source": [
    "harfler = \"abcçdefgğhıijklmnoöprsştuüvyz\"\n",
    "çevrim = {i: harfler.index(i) for i in harfler}\n",
    "\n",
    "isimler = [\"ahmet\", \"ışık\", \"ismail\", \"çiğdem\",\n",
    "           \"can\", \"şule\", \"iskender\"]\n",
    "\n",
    "print(sorted(isimler, key=lambda x: çevrim.get(x[0])))"
   ]
  },
  {
   "cell_type": "markdown",
   "id": "5e3d0839-b4c4-4f95-8e8d-117bad474390",
   "metadata": {},
   "source": [
    "\n",
    "Burada sorted() fonksiyonunun key parametresi içinde kullandığımız ifade bir lambda fonksiyonudur:\n",
    "\n"
   ]
  },
  {
   "cell_type": "code",
   "execution_count": null,
   "id": "509f9ef4-0f84-43d2-aab3-781a9567433c",
   "metadata": {
    "jupyter": {
     "source_hidden": true
    }
   },
   "outputs": [],
   "source": [
    "lambda x: çevrim.get(x[0])\n"
   ]
  },
  {
   "cell_type": "markdown",
   "id": "e3f99a0b-08a3-4096-ba98-8084a1a6604b",
   "metadata": {},
   "source": [
    "Peki lambda fonksiyonları nedir ve ne işe yarar?\n",
    "\n",
    "Lambda fonksiyonlarını, bir fonksiyonun işlevselliğine ihtiyaç duyduğumuz, ama konum olarak bir fonksiyon tanımlayamayacağımız veya fonksiyon tanımlamanın zor ya da meşakkatli olduğu durumlarda kullanabiliriz. Yukarıdaki örnek kod, bu tanıma iyi bir örnektir: sorted() fonksiyonunun key parametresi bizden bir fonksiyon tanımı bekler. Ancak biz elbette oraya def ifadesini kullanarak doğrudan bir fonksiyon tanımlayamayız. Ama def yerine lambda ifadesi yardımıyla key parametresi için bir lambda fonksiyonu tanımlayabiliriz.\n",
    "\n",
    "Eğer yukarıdaki kodları ‘normal’ bir fonksiyonla yazmak isteseydik şu kodları kullanabilirdik:"
   ]
  },
  {
   "cell_type": "code",
   "execution_count": null,
   "id": "ea95afe0-d88b-4d07-aef5-887572306ea1",
   "metadata": {},
   "outputs": [],
   "source": [
    "harfler = \"abcçdefgğhıijklmnoöprsştuüvyz\"\n",
    "çevrim = {i: harfler.index(i) for i in harfler}\n",
    "\n",
    "isimler = [\"ahmet\", \"ışık\", \"ismail\", \"çiğdem\",\n",
    "           \"can\", \"şule\", \"iskender\"]\n",
    "\n",
    "def sırala(eleman):\n",
    "    return çevrim.get(eleman[0])\n",
    "\n",
    "print(sorted(isimler, key=sırala))"
   ]
  },
  {
   "cell_type": "markdown",
   "id": "493565ab-7dda-47bf-879a-03bfa7ee0464",
   "metadata": {},
   "source": [
    "Burada lambda fonksiyonu kullanmak yerine, sırala() adlı bir fonksiyon kullandık.\n",
    "\n",
    "Eğer yukarıda ‘lambda’ ile yazdığımız örneği sırala() fonksiyonu ile yazdığımız örnekle kıyaslarsanız lambda fonksiyonlarında hangi parçanın neye karşılık geldiğini veya ne anlama sahip olduğunu rahatlıkla anlayabilirsiniz.\n",
    "\n",
    "Gelin bir örnek daha verelim:\n",
    "\n",
    "Diyelim ki bir sayının çift sayı olup olmadığını denetleyen bir fonksiyon yazmak istiyorsunuz. Bunun için şöyle bir fonksiyon tanımlayabileceğimizi biliyorsunuz:"
   ]
  },
  {
   "cell_type": "code",
   "execution_count": 1,
   "id": "8b8d5a1b-3c55-4a25-8cb0-fcb769ecf96b",
   "metadata": {},
   "outputs": [],
   "source": [
    "def çift_mi(sayı):\n",
    "    return sayı % 2 == 0"
   ]
  },
  {
   "cell_type": "markdown",
   "id": "358e0619-ba15-4244-8668-c1baf83a9ed0",
   "metadata": {},
   "source": [
    "Eğer çift_mi() fonksiyonuna parametre olarak verilen bir sayı çift ise fonksiyonumuz True çıktısı verecektir:\n",
    "\n"
   ]
  },
  {
   "cell_type": "code",
   "execution_count": 2,
   "id": "eef2503e-12a4-40a7-9a42-4f85bda003ec",
   "metadata": {},
   "outputs": [
    {
     "name": "stdout",
     "output_type": "stream",
     "text": [
      "True\n"
     ]
    }
   ],
   "source": [
    "print(çift_mi(100))"
   ]
  },
  {
   "cell_type": "markdown",
   "id": "d65859c9-fc5e-446a-b1fa-7f3f5b4eeba5",
   "metadata": {},
   "source": [
    "Aksi halde False çıktısı alırız:\n",
    "\n"
   ]
  },
  {
   "cell_type": "code",
   "execution_count": 3,
   "id": "4c7eabcb-ff32-470c-aff7-6ea2af639f93",
   "metadata": {},
   "outputs": [
    {
     "name": "stdout",
     "output_type": "stream",
     "text": [
      "False\n"
     ]
    }
   ],
   "source": [
    "print(çift_mi(99))\n"
   ]
  },
  {
   "cell_type": "markdown",
   "id": "b0dc2c2b-8bb3-4db8-9e07-b2ef03ffeb81",
   "metadata": {},
   "source": [
    "İşte yukarıdaki etkiyi lambda fonksiyonları yardımıyla da elde edebiliriz.\n",
    "\n",
    "Dikkatlice bakın:"
   ]
  },
  {
   "cell_type": "code",
   "execution_count": 4,
   "id": "f3bd9e9f-d8dd-41dd-be40-72eccb304441",
   "metadata": {},
   "outputs": [
    {
     "data": {
      "text/plain": [
       "True"
      ]
     },
     "execution_count": 4,
     "metadata": {},
     "output_type": "execute_result"
    }
   ],
   "source": [
    "çift_mi = lambda sayı: sayı % 2 == 0\n",
    "çift_mi(100)"
   ]
  },
  {
   "cell_type": "code",
   "execution_count": 5,
   "id": "b36bb8f0-d3d9-4ea2-9a60-29cea1ca6d2c",
   "metadata": {},
   "outputs": [
    {
     "data": {
      "text/plain": [
       "False"
      ]
     },
     "execution_count": 5,
     "metadata": {},
     "output_type": "execute_result"
    }
   ],
   "source": [
    "çift_mi(99)\n"
   ]
  },
  {
   "cell_type": "markdown",
   "id": "63be8394-01aa-4252-bf13-4196862d9f5d",
   "metadata": {},
   "source": [
    "Başka bir örnek daha verelim. Diyelim ki bir liste içindeki bütün sayıların karesini hesaplamak istiyoruz. Elimizdeki liste şu:"
   ]
  },
  {
   "cell_type": "code",
   "execution_count": 6,
   "id": "a8d9e326-5a62-4615-8894-b823ef386765",
   "metadata": {},
   "outputs": [],
   "source": [
    "l = [2, 5, 10, 23, 3, 6]"
   ]
  },
  {
   "cell_type": "markdown",
   "id": "3ce6eed1-6983-47e8-9bc9-0de469af4c14",
   "metadata": {},
   "source": [
    "Bu listedeki sayıların her birinin karesini hesaplamak için şöyle bir şey yazabiliriz:\n",
    "\n"
   ]
  },
  {
   "cell_type": "code",
   "execution_count": 7,
   "id": "b2e50d44-c638-4278-90d8-80830248a65d",
   "metadata": {},
   "outputs": [
    {
     "name": "stdout",
     "output_type": "stream",
     "text": [
      "4\n",
      "25\n",
      "100\n",
      "529\n",
      "9\n",
      "36\n"
     ]
    }
   ],
   "source": [
    "for i in l:\n",
    "    print(i**2)"
   ]
  },
  {
   "cell_type": "markdown",
   "id": "c7f352bc-e4fa-4ca2-bd2d-b0c90245f9c4",
   "metadata": {},
   "source": [
    "Veya şöyle bir şey:"
   ]
  },
  {
   "cell_type": "code",
   "execution_count": 8,
   "id": "bf8c2fc2-0abd-4b06-b14d-c59a6fa96977",
   "metadata": {},
   "outputs": [
    {
     "data": {
      "text/plain": [
       "[4, 25, 100, 529, 9, 36]"
      ]
     },
     "execution_count": 8,
     "metadata": {},
     "output_type": "execute_result"
    }
   ],
   "source": [
    "[i**2 for i in l]"
   ]
  },
  {
   "cell_type": "markdown",
   "id": "09920d9a-74d3-401b-82c1-602fd6a193cb",
   "metadata": {},
   "source": [
    "Ya da map() fonksiyonuyla birlikte lambda’yı kullanarak şu kodu yazabiliriz:\n",
    "\n"
   ]
  },
  {
   "cell_type": "code",
   "execution_count": 9,
   "id": "5817bfce-3241-4d99-9b60-3fe93c6028b6",
   "metadata": {},
   "outputs": [
    {
     "name": "stdout",
     "output_type": "stream",
     "text": [
      "4 25 100 529 9 36\n"
     ]
    }
   ],
   "source": [
    "print(*map(lambda sayı: sayı ** 2, l))\n"
   ]
  },
  {
   "cell_type": "markdown",
   "id": "44ac06ca-dce1-48e0-8e1d-b3896f3fb0e7",
   "metadata": {},
   "source": [
    "Son örnekte verdiğimiz lambda’lı kodu normal bir fonksiyon tanımlayarak şöyle de yazabilirdik:"
   ]
  },
  {
   "cell_type": "code",
   "execution_count": 10,
   "id": "46cf78a6-2af4-4520-b55a-4dd3cd90ac43",
   "metadata": {},
   "outputs": [],
   "source": [
    "def karesi(sayı):\n",
    "    return sayı ** 2"
   ]
  },
  {
   "cell_type": "code",
   "execution_count": 11,
   "id": "27cb2676-2f1f-4d16-b8b8-ed72c77afaf8",
   "metadata": {},
   "outputs": [
    {
     "name": "stdout",
     "output_type": "stream",
     "text": [
      "4 25 100 529 9 36\n"
     ]
    }
   ],
   "source": [
    "print(*map(karesi, l))\n"
   ]
  },
  {
   "cell_type": "markdown",
   "id": "f43bdb50-a2eb-4c2c-8095-38b590e5649f",
   "metadata": {},
   "source": [
    "Sözün özü, mesela şu kod:"
   ]
  },
  {
   "cell_type": "code",
   "execution_count": 12,
   "id": "03b7dd27-5cb8-4aec-ba90-4b2c65f87b84",
   "metadata": {},
   "outputs": [
    {
     "data": {
      "text/plain": [
       "<function __main__.<lambda>(x)>"
      ]
     },
     "execution_count": 12,
     "metadata": {},
     "output_type": "execute_result"
    }
   ],
   "source": [
    "lambda x: x + 10\n"
   ]
  },
  {
   "cell_type": "markdown",
   "id": "fb020642-dacc-4cf8-a260-da974aea0b24",
   "metadata": {},
   "source": [
    "Türkçede şu anlama gelir:"
   ]
  },
  {
   "cell_type": "code",
   "execution_count": null,
   "id": "deb9402b-aead-418d-8303-577ed252e0ac",
   "metadata": {},
   "outputs": [],
   "source": [
    "'x' adlı bir parametre alan bir lambda fonksiyonu tanımla. Bu fonksiyon, bu\n",
    "'x parametresine 10 sayısını eklesin."
   ]
  },
  {
   "cell_type": "markdown",
   "id": "5f3eaf3d-a596-46f4-b450-c72eef8ae2ca",
   "metadata": {},
   "source": [
    "Biz yukarıdaki örneklerde lambda fonksiyonunu tek bir parametre ile tanımladık. Ama elbette lambda fonksiyonlarının birden fazla parametre de alabileceğini de biliyorsunuz.\n",
    "\n",
    "Örneğin:\n",
    "\n"
   ]
  },
  {
   "cell_type": "code",
   "execution_count": 13,
   "id": "b1082a35-c243-46ba-924b-388f1755358c",
   "metadata": {},
   "outputs": [],
   "source": [
    "birleştir = lambda ifade, birleştirici: birleştirici.join(ifade.split())\n"
   ]
  },
  {
   "cell_type": "markdown",
   "id": "2b13cc61-5d4b-4628-a4da-bc252a028b4c",
   "metadata": {},
   "source": [
    "Burada lambda fonksiyonumuz toplam iki farklı parametre alıyor: Bunlardan ilki ifade, ikincisi ise birleştirici. Fonksiyonumuzun gövdesinde ifade parametresine split() metodunu uyguladıktan sonra, elde ettiğimiz parçaları birleştirici parametresinin değerini kullanarak birbirleriyle birleştiriyoruz. Yani:"
   ]
  },
  {
   "cell_type": "code",
   "execution_count": 14,
   "id": "82624d65-aded-434e-80fe-5eb3ec6cd3c0",
   "metadata": {},
   "outputs": [
    {
     "data": {
      "text/plain": [
       "'Ankara-Buyuksehir-Belediyesi'"
      ]
     },
     "execution_count": 14,
     "metadata": {},
     "output_type": "execute_result"
    }
   ],
   "source": [
    "birleştir('Ankara Buyuksehir Belediyesi', '-')\n"
   ]
  },
  {
   "cell_type": "markdown",
   "id": "bfc8fe3a-1070-40b4-9d58-71d542ec4405",
   "metadata": {},
   "source": [
    "Eğer aynı işlevi ‘normal’ bir fonksiyon yardımıyla elde etmek isteseydik şöyle bir şey yazabilirdik:\n",
    "\n"
   ]
  },
  {
   "cell_type": "code",
   "execution_count": 15,
   "id": "7162b470-329f-48fc-8e69-91f7f20437af",
   "metadata": {},
   "outputs": [],
   "source": [
    "def birleştir(ifade, birleştirici):\n",
    "    return birleştirici.join(ifade.split())"
   ]
  },
  {
   "cell_type": "code",
   "execution_count": 16,
   "id": "389cf1ce-8e5d-4b4d-ba74-2b0bfbf91f84",
   "metadata": {},
   "outputs": [
    {
     "data": {
      "text/plain": [
       "'Ankara-Buyuksehir-Belediyesi'"
      ]
     },
     "execution_count": 16,
     "metadata": {},
     "output_type": "execute_result"
    }
   ],
   "source": [
    "birleştir('Ankara Buyuksehir Belediyesi', '-')\n"
   ]
  },
  {
   "cell_type": "markdown",
   "id": "6cc40045-a094-419a-8932-305450a6b044",
   "metadata": {},
   "source": [
    "Yukarıdaki örneklerin dışında, lambda fonksiyonları özellikle grafik arayüz çalışmaları yaparken işinize yarayabilir. Örneğin:"
   ]
  },
  {
   "cell_type": "code",
   "execution_count": 18,
   "id": "2a53c501-4133-4ad6-80ed-3b605319ca42",
   "metadata": {},
   "outputs": [
    {
     "name": "stdout",
     "output_type": "stream",
     "text": [
      "merhaba\n",
      "merhaba\n",
      "merhaba\n",
      "merhaba\n"
     ]
    }
   ],
   "source": [
    "import tkinter\n",
    "import tkinter.ttk as ttk\n",
    "\n",
    "pen = tkinter.Tk()\n",
    "\n",
    "btn = ttk.Button(text='merhaba', command=lambda: print('merhaba'))\n",
    "btn.pack(padx=20, pady=20)\n",
    "\n",
    "pen.mainloop()"
   ]
  },
  {
   "cell_type": "markdown",
   "id": "fe4ef0ed-4df5-4980-b41f-efccff280fef",
   "metadata": {},
   "source": [
    "Bu kodları çalıştırıp ‘merhaba’ düğmesine bastığınızda komut satırında ‘merhaba’ çıktısı görünecektir. Tkinter’de fonksiyonların command parametresi bizden parametresiz bir fonksiyon girmemizi bekler. Ancak bazen, elde etmek istediğimiz işlevsellik için oraya parametreli bir fonksiyon yazmak durumunda kalabiliriz. İşte bunun gibi durumlarda lambda fonksiyonları faydalı olabilir. Elbette yukarıdaki kodları şöyle de yazabilirdik:\n",
    "\n"
   ]
  },
  {
   "cell_type": "code",
   "execution_count": null,
   "id": "0b4899f0-71b6-4306-b5d6-b71c778b5874",
   "metadata": {},
   "outputs": [],
   "source": [
    "import tkinter\n",
    "import tkinter.ttk as ttk\n",
    "\n",
    "pen = tkinter.Tk()\n",
    "\n",
    "def merhaba():\n",
    "    print('merhaba')\n",
    "\n",
    "btn = ttk.Button(text='merhaba', command=merhaba)\n",
    "btn.pack(padx=20, pady=20)\n",
    "\n",
    "pen.mainloop()"
   ]
  },
  {
   "cell_type": "markdown",
   "id": "77e6984c-b2f0-41ef-9db3-452aab0d1b53",
   "metadata": {},
   "source": [
    "Burada da lambda yerine isimli bir fonksiyon tanımlayıp, command parametresine doğrudan bu fonksiyonu verdik.\n",
    "\n",
    "Bütün bu örneklerden gördüğünüz gibi, lambda fonksiyonları son derece pratik araçlardır. Normal, isimli fonksiyonlarla elde ettiğimiz işlevselliği, lambda fonksiyonları yardımıyla çok daha kısa bir şekilde elde edebiliriz. Ancak lambda fonksiyonları normal fonksiyonlara göre biraz daha okunaksız yapılardır. O yüzden, eğer lambda fonksiyonlarını kullanmaya mecbur değilseniz, bunların yerine normal fonksiyonları veya yerine göre liste üreteçlerini tercih edebilirsiniz.\n",
    "\n",
    "++++++++++++++Özyinelemeli (Recursive) Fonksiyonlar\n",
    "\n",
    "Bu bölümde, lambda fonksiyonlarının ardından, yine Python’ın ileri düzey konularından biri olan ‘özyinelemeli fonksiyonlar’dan söz edeceğiz. İngilizcede recursive functions olarak adlandırılan özyinelemeli fonksiyonların, Python programlama dilinin anlaması en zor konularından biri olduğu söylenir. Ama bu söylenti sizi hiç endişelendirmesin. Zira biz burada bu çapraşık görünen konuyu size olabildiğince basit ve anlaşılır bir şekilde sunmak için elimizden gelen bütün çabayı göstereceğiz.\n",
    "\n",
    "O halde hemen başlayalım…\n",
    "\n",
    "Şimdiye kadar Python’da pek çok fonksiyon gördük. Bu fonksiyonlar kimi zaman Python programcılarınca tanımlanıp dile entegre edilmiş ‘gömülü fonksiyonlar’ (builtin functions) olarak, kimi zamansa o anda içinde bulunduğumuz duruma ve ihtiyaçlarımıza göre bizzat kendimizin tanımladığı ‘el yapımı fonksiyonlar’ (custom functions) olarak çıktı karşımıza.\n",
    "\n",
    "Şimdiye kadar öğrendiğimiz bütün bu fonksiyonların ortak bir noktası vardı. Bu ortak nokta, şu ana kadar fonksiyonları kullanarak yaptığımız örneklerden de gördüğünüz gibi, bu fonksiyonlar yardımıyla başka fonksiyonları çağırabiliyor olmamız. Örneğin:\n",
    "\n"
   ]
  },
  {
   "cell_type": "code",
   "execution_count": 19,
   "id": "57b56605-0bf2-4f76-a299-a8745aef440e",
   "metadata": {},
   "outputs": [],
   "source": [
    "def selamla(kim):\n",
    "    print('merhaba', kim)"
   ]
  },
  {
   "cell_type": "markdown",
   "id": "04f4dfc3-ee58-410e-a98f-8004a340cf31",
   "metadata": {},
   "source": [
    "Burada selamla() adlı bir fonksiyon tanımladık. Gördüğünüz gibi bu fonksiyon print() adlı başka bir fonksiyonu çağırıyor. Burada sıradışı bir şey yok. Dediğimiz gibi, şimdiye kadar zaten hep böyle fonksiyonlar görmüştük.\n",
    "\n",
    "Python fonksiyonları, yukarıdaki örnekte de gördüğünüz gibi, nasıl başka fonksiyonları çağırabiliyorsa, aynı şekilde, istenirse, kendi kendilerini de çağırabilirler. İşte bu tür fonksiyonlara Python programlama dilinde ‘kendi kendilerini yineleyen’, veya daha teknik bir dille ifade etmek gerekirse ‘özyinelemeli’ (recursive) fonksiyonlar adı verilir.\n",
    "\n",
    "Çok basit bir örnek verelim. Diyelim ki, kendisine parametre olarak verilen bir karakter dizisi içindeki karakterleri teker teker azaltarak ekrana basan bir fonksiyon yazmak istiyorsunuz. Yani mesela elinizde ‘istihza’ adlı bir karakter dizisi var. Sizin amacınız bu karakter dizisini şu şekilde basan bir fonksiyon yazmak:"
   ]
  },
  {
   "cell_type": "code",
   "execution_count": null,
   "id": "dd7664a7-5f5f-4340-9ca2-cf207b610b69",
   "metadata": {},
   "outputs": [],
   "source": []
  },
  {
   "cell_type": "raw",
   "id": "0974c795-78ad-465b-be94-ec355a3750b3",
   "metadata": {},
   "source": [
    "istihza\n",
    "stihza\n",
    "tihza\n",
    "ihza\n",
    "hza\n",
    "za\n",
    "a"
   ]
  },
  {
   "cell_type": "markdown",
   "id": "797d7c5e-2d67-4523-aed6-4f1b267cdaae",
   "metadata": {},
   "source": [
    "Elbette bu işi yapacak bir fonksiyonu, daha önce öğrendiğiniz döngüler ve başka yapılar yardımıyla rahatlıkla yazabilirsiniz. Ama isterseniz aynı işi özyinelemeli fonksiyonlar yardımıyla da yapabilirsiniz.\n",
    "\n",
    "Şimdi şu kodlara dikkatlice bakın:"
   ]
  },
  {
   "cell_type": "code",
   "execution_count": 21,
   "id": "785f4fa4-319e-4469-8ab7-940e4c0c0323",
   "metadata": {},
   "outputs": [
    {
     "name": "stdout",
     "output_type": "stream",
     "text": [
      "istihza\n",
      "stihza\n",
      "tihza\n",
      "ihza\n",
      "hza\n",
      "za\n",
      "a\n",
      "\n"
     ]
    }
   ],
   "source": [
    "def azalt(s):\n",
    "    if len(s) == 0:\n",
    "        return s\n",
    "    else:\n",
    "        print(s)\n",
    "        return azalt(s[1:])\n",
    "print(azalt('istihza'))"
   ]
  },
  {
   "cell_type": "markdown",
   "id": "269bdafd-5749-4c63-9d9b-fd654b1be4f6",
   "metadata": {},
   "source": [
    "Fonksiyonumuzu yazıp çalıştırdığımıza ve bu fonksiyonun bize nasıl bir çıktı verdiğini gördüğümüze göre fonksiyonu açıklamaya geçebiliriz.\n",
    "\n",
    "Bu fonksiyon ilk bakışta daha önce öğrendiğimiz fonksiyonlardan çok da farklı görünmüyor aslında. Ama eğer fonksiyonun son kısmına bakacak olursanız, bu fonksiyonu daha önce öğrendiğimiz fonksiyonlardan ayıran şu satırı görürsünüz:"
   ]
  },
  {
   "cell_type": "code",
   "execution_count": null,
   "id": "aa5df113-94d5-4681-9ce5-870b1bf5aad7",
   "metadata": {},
   "outputs": [],
   "source": [
    "return azalt(s[1:])\n"
   ]
  },
  {
   "cell_type": "markdown",
   "id": "f7f13ae2-5d07-477c-b575-5e36a99271f2",
   "metadata": {},
   "source": [
    "Gördüğünüz gibi, burada azalt() fonksiyonu içinde yine azalt() fonksiyonunu çağırıyoruz. Böylece fonksiyonumuz sürekli olarak kendi kendini yineliyor. Yani aynı fonksiyonu tekrar tekrar uyguluyor.\n",
    "\n",
    "Peki ama bunu nasıl yapıyor?\n",
    "\n",
    "Nasıl bir durumla karşı karşıya olduğumuzu daha iyi anlamak için yukarıdaki kodları şu şekilde yazalım:"
   ]
  },
  {
   "cell_type": "code",
   "execution_count": 28,
   "id": "1d67e336-42a5-4553-bcee-5040769107eb",
   "metadata": {},
   "outputs": [],
   "source": [
    "def azalt(s):\n",
    "    if len(s) < 1:\n",
    "        return s\n",
    "    else:\n",
    "        print(list(s))\n",
    "        return azalt(s[1:])"
   ]
  },
  {
   "cell_type": "markdown",
   "id": "274916a5-b298-4ffb-973f-3966c2754fbc",
   "metadata": {},
   "source": [
    "Burada fonksiyonun her yinelenişinde, özyinelemeli fonksiyona parametre olarak giden karakter dizisinin nasıl değiştiğini birazcık daha net olarak görebilmek için karakter dizisi içindeki karakterleri bir liste haline getirip ekrana basıyoruz:"
   ]
  },
  {
   "cell_type": "code",
   "execution_count": 29,
   "id": "ca573726-31fc-4586-95f6-bd493fee5e10",
   "metadata": {},
   "outputs": [
    {
     "name": "stdout",
     "output_type": "stream",
     "text": [
      "['i', 's', 't', 'i', 'h', 'z', 'a']\n",
      "['s', 't', 'i', 'h', 'z', 'a']\n",
      "['t', 'i', 'h', 'z', 'a']\n",
      "['i', 'h', 'z', 'a']\n",
      "['h', 'z', 'a']\n",
      "['z', 'a']\n",
      "['a']\n"
     ]
    },
    {
     "data": {
      "text/plain": [
       "''"
      ]
     },
     "execution_count": 29,
     "metadata": {},
     "output_type": "execute_result"
    }
   ],
   "source": [
    "azalt('istihza')"
   ]
  },
  {
   "cell_type": "markdown",
   "id": "aaf3367c-4cf5-4190-a903-b9dbacca554b",
   "metadata": {},
   "source": [
    "Yukarıdaki çıktının ilk satırında gördüğünüz gibi, fonksiyon ilk çağrıldığında listede ‘istihza’ karakter dizisini oluşturan bütün harfler var. Yani fonksiyonumuz ilk çalışmada parametre olarak karakter dizisinin tamamını alıyor. Ancak fonksiyonun her yinelenişinde listedeki harfler birer birer düşüyor. Böylece özyinelemeli fonksiyonumuz parametre olarak karakter dizisinin her defasında bir eksiltilmiş biçimini alıyor.\n",
    "\n",
    "Yukarıdaki sözünü ettiğimiz düşmenin yönü karakter dizisinin başından sonuna doğru. Yani her defasında, elde kalan karakter dizisinin ilk harfi düşüyor. Düşme yönünün böyle olması bizim kodları yazış şeklimizden kaynaklanıyor. Eğer bu kodları şöyle yazsaydık:\n",
    "\n"
   ]
  },
  {
   "cell_type": "code",
   "execution_count": 33,
   "id": "a069cc7b-d332-43dd-b6d0-292c14cffa1e",
   "metadata": {},
   "outputs": [],
   "source": [
    "def azalt(s):\n",
    "    if len(s) < 1:\n",
    "        return s\n",
    "    else:\n",
    "        print(list(s))\n",
    "        return azalt(s[:-1])"
   ]
  },
  {
   "cell_type": "markdown",
   "id": "76a9b18b-6b41-4fbb-83cd-cd4e853a8491",
   "metadata": {},
   "source": [
    "Harflerin düşme yönü sondan başa doğru olacaktı:"
   ]
  },
  {
   "cell_type": "code",
   "execution_count": 34,
   "id": "e449c15a-9004-4020-9ee3-ac13aa828753",
   "metadata": {},
   "outputs": [
    {
     "name": "stdout",
     "output_type": "stream",
     "text": [
      "['i', 's', 't', 'i', 'h', 'z', 'a']\n",
      "['i', 's', 't', 'i', 'h', 'z']\n",
      "['i', 's', 't', 'i', 'h']\n",
      "['i', 's', 't', 'i']\n",
      "['i', 's', 't']\n",
      "['i', 's']\n",
      "['i']\n"
     ]
    },
    {
     "data": {
      "text/plain": [
       "''"
      ]
     },
     "execution_count": 34,
     "metadata": {},
     "output_type": "execute_result"
    }
   ],
   "source": [
    "azalt('istihza')"
   ]
  },
  {
   "cell_type": "markdown",
   "id": "08a834ea-c7e4-4833-a6a7-07fe4137b1de",
   "metadata": {},
   "source": [
    "Burada, bir önceki koddaki azalt(s[1:]) satırını azalt(s[:-1]) şeklinde değiştirdiğimize dikkat edin.\n",
    "\n",
    "Fonksiyonun nasıl işlediğini daha iyi anlamak için, ‘istihza’ karakter dizisinin son harfinin her yineleniş esnasındaki konumunun nasıl değiştiğini de izleyebilirsiniz:\n",
    "\n"
   ]
  },
  {
   "cell_type": "code",
   "execution_count": 35,
   "id": "547986fb-010b-40ea-9758-272c22dec261",
   "metadata": {},
   "outputs": [
    {
     "name": "stdout",
     "output_type": "stream",
     "text": [
      "a harfinin 1. çalışmadaki konumu: 6\n",
      "a harfinin 2. çalışmadaki konumu: 5\n",
      "a harfinin 3. çalışmadaki konumu: 4\n",
      "a harfinin 4. çalışmadaki konumu: 3\n",
      "a harfinin 5. çalışmadaki konumu: 2\n",
      "a harfinin 6. çalışmadaki konumu: 1\n",
      "a harfinin 7. çalışmadaki konumu: 0\n"
     ]
    },
    {
     "data": {
      "text/plain": [
       "''"
      ]
     },
     "execution_count": 35,
     "metadata": {},
     "output_type": "execute_result"
    }
   ],
   "source": [
    "n = 0\n",
    "\n",
    "def azalt(s):\n",
    "    global n\n",
    "    mesaj = '{} harfinin {}. çalışmadaki konumu: {}'\n",
    "    if len(s) < 1:\n",
    "        return s\n",
    "    else:\n",
    "        n += 1\n",
    "        print(mesaj.format('a', n, s.index('a')))\n",
    "        return azalt(s[1:])\n",
    "\n",
    "azalt('istihza')"
   ]
  },
  {
   "cell_type": "markdown",
   "id": "af08140d-aaae-4d4c-b383-436b66721e6a",
   "metadata": {},
   "source": [
    "Gördüğünüz gibi ‘istihza’ kelimesinin en sonunda bulunan ‘a’ harfi her defasında baş tarafa doğru ilerliyor.\n",
    "\n",
    "Aynı şekilde, kodları daha iyi anlayabilmek için, fonksiyona parametre olarak verdiğimiz ‘istihza’ kelimesinin her yinelemede ne kadar uzunluğa sahip olduğunu da takip edebilirsiniz:\n",
    "\n"
   ]
  },
  {
   "cell_type": "code",
   "execution_count": null,
   "id": "b881857c-8c50-4dcb-a3c7-36c3d551a5e0",
   "metadata": {},
   "outputs": [],
   "source": [
    "def azalt(s):\n",
    "    if len(s) < 1:\n",
    "        return s\n",
    "    else:\n",
    "        print(len(s))\n",
    "        return azalt(s[:-1])"
   ]
  },
  {
   "cell_type": "markdown",
   "id": "b9680df8-2b48-4c5d-87c9-1330a8e4800c",
   "metadata": {},
   "source": [
    "Bu fonksiyonu ‘istihza’ karakter dizisine uyguladığımızda bize şu çıktıyı veriyor:"
   ]
  },
  {
   "cell_type": "raw",
   "id": "daa89d7a-d510-4ab8-b3a8-1bd1d789aa8e",
   "metadata": {},
   "source": [
    "7\n",
    "6\n",
    "5\n",
    "4\n",
    "3\n",
    "2\n",
    "1"
   ]
  },
  {
   "cell_type": "markdown",
   "id": "008a1f4d-341e-4cf8-a64d-fbef88235c50",
   "metadata": {},
   "source": [
    "Gördüğünüz gibi, fonksiyonun kendini her yineleyişinde karakter dizimiz küçülüyor.\n",
    "\n",
    "Bu durum bize özyinelemeli fonksiyonlar hakkında çok önemli bir bilgi veriyor esasında:\n",
    "\n",
    "Özyinelemeli fonksiyonlar; büyük bir problemin çözülebilmesi için, o problemin, problemin bütününü temsil eden daha küçük bir parçası üzerinde işlem yapabilmemizi sağlayan fonksiyonlardır.\n",
    "\n",
    "Yukarıdaki örnekte de bu ilkeyi uyguluyoruz. Yani biz ‘istihza’ karakter dizisinin öncelikle yalnızca ilk karakterini düşürüyoruz:"
   ]
  },
  {
   "cell_type": "code",
   "execution_count": null,
   "id": "344d613b-f92f-49af-a4da-40fc01984ad6",
   "metadata": {},
   "outputs": [],
   "source": [
    "s[1:]"
   ]
  },
  {
   "cell_type": "markdown",
   "id": "2bf92db8-4eef-4bc3-ba2f-50258bf24f94",
   "metadata": {},
   "source": [
    "Daha sonra da bu yöntemi özyinelemeli bir şekilde uyguladığımızda, ‘istihza’ karakter dizisinin her defasında daha küçük bir parçası bu yöntemden etkileniyor:\n",
    "\n"
   ]
  },
  {
   "cell_type": "code",
   "execution_count": null,
   "id": "459eb1c6-1fea-4d3c-9d4a-e3ce93417907",
   "metadata": {
    "jupyter": {
     "source_hidden": true
    }
   },
   "outputs": [],
   "source": [
    "azalt(s[1:])\n"
   ]
  },
  {
   "cell_type": "markdown",
   "id": "160c7560-50a8-4892-9da6-83008cc81e1f",
   "metadata": {},
   "source": [
    "Yani fonksiyonumuz ilk olarak ‘istihza’ karakter dizisinin ilk harfi olan ‘i’ harfini düşürüyor. Sonra ‘stihza’ kelimesinin ilk harfi olan ‘s’ harfini düşürüyor. Ardından ‘tihza’ kelimesinin ilk harfi olan ‘t’ harfini düşürüyor ve kelime tükenene kadar bu işlemi devam ettiriyor.\n",
    "\n",
    "Peki ama bunu nasıl yapıyor?\n",
    "\n",
    "Şimdi yukarıdaki fonksiyondaki şu kısma dikkatlice bakın:"
   ]
  },
  {
   "cell_type": "code",
   "execution_count": null,
   "id": "73bdc0de-0fcd-455f-b466-b6a5f07d9102",
   "metadata": {},
   "outputs": [],
   "source": [
    "if len(s) < 1:\n",
    "    return s"
   ]
  },
  {
   "cell_type": "markdown",
   "id": "81965e60-84b5-448c-ab62-1c7a0cf62a88",
   "metadata": {},
   "source": [
    "İşte burada özyinelemeli fonksiyonumuzun, karakter dizisi üzerinde ne kadar derine inmesi gerektiğini belirliyoruz. Buna göre, karakter dizisinin uzunluğu 1’in altına düştüğünde eldeki karakter dizisini döndürüyoruz. Yani karakter dizisinin uzunluğu 1’in altına düştüğünde elde kalan karakter dizisi boş bir karakter dizisi olduğu için o boş karakter dizisini döndürüyoruz. Eğer istersek elbette bu durumda başka bir şey de döndürebiliriz:\n",
    "\n"
   ]
  },
  {
   "cell_type": "code",
   "execution_count": null,
   "id": "69c280a5-e661-4a77-a93d-fb7002bbd791",
   "metadata": {},
   "outputs": [],
   "source": [
    "def azalt(s):\n",
    "    if len(s) < 1:\n",
    "        return 'bitti!'\n",
    "    else:\n",
    "        print(s)\n",
    "        return azalt(s[1:])"
   ]
  },
  {
   "cell_type": "markdown",
   "id": "c394572a-d9f6-4553-acd2-3d5f1a55e5f6",
   "metadata": {},
   "source": [
    "İşte if len(s) < 1: bloğunun bulunduğu bu kodlara ‘dip nokta’ adı veriyoruz. Fonksiyonumuzun yinelene yinelene (veya başka bir ifadeyle ‘dibe ine ine’) geleceği en son nokta burasıdır. Eğer bu dip noktayı belirtmezsek fonksiyonumuz, tıpkı dipsiz bir kuyuya düşmüş gibi, sürekli daha derine inmeye çalışacak, sonunda da hata verecektir. Ne demek istediğimizi daha iyi anlamak için kodlarımızı şöyle yazalım:"
   ]
  },
  {
   "cell_type": "code",
   "execution_count": 36,
   "id": "bc5924c2-f00f-41bf-986e-6e35bdd0909b",
   "metadata": {},
   "outputs": [],
   "source": [
    "def azalt(s):\n",
    "    print(s)\n",
    "    return azalt(s[1:])"
   ]
  },
  {
   "cell_type": "markdown",
   "id": "5fc01a03-a14b-4ac7-b683-a66e7c0b1105",
   "metadata": {},
   "source": [
    "Gördüğünüz gibi burada herhangi bir dip nokta belirtmedik. Bu kodları çalıştırdığımızda Python bize şöyle bir hata mesajı verecek:\n",
    "\n"
   ]
  },
  {
   "cell_type": "code",
   "execution_count": null,
   "id": "7e033395-606b-4766-810b-d1d5a6be45a1",
   "metadata": {
    "jupyter": {
     "source_hidden": true
    }
   },
   "outputs": [],
   "source": [
    "RuntimeError: maximum recursion depth exceeded\n"
   ]
  },
  {
   "cell_type": "markdown",
   "id": "3623015c-9db9-4767-a37d-c85cda113ef8",
   "metadata": {},
   "source": [
    "Dediğimiz gibi, özyinelemeli fonksiyonlar her yinelenişte sorunun (yani üzerinde işlem yapılan parametrenin) biraz daha derinine iner. Ancak bu derine inmenin de bir sınırı vardır. Bu sınırın ne olduğunu şu kodlar yardımıyla öğrenebilirsiniz:"
   ]
  },
  {
   "cell_type": "code",
   "execution_count": 37,
   "id": "0c2dbbbf-e03e-440b-86c6-905b754fc100",
   "metadata": {},
   "outputs": [
    {
     "data": {
      "text/plain": [
       "3000"
      ]
     },
     "execution_count": 37,
     "metadata": {},
     "output_type": "execute_result"
    }
   ],
   "source": [
    "import sys\n",
    "sys.getrecursionlimit()\n"
   ]
  },
  {
   "cell_type": "markdown",
   "id": "c8301836-ac33-42f0-9818-e626abed42e2",
   "metadata": {},
   "source": [
    "İşte biz özyinelemeli fonksiyonlarımızda dip noktayı mutlaka belirterek, Python’ın fonksiyonu yinelerken ne kadar derine inip nerede duracağını belirlemiş oluyoruz.\n",
    "\n",
    "Şimdi son kez, yukarıdaki örnek fonksiyonu, özyineleme mantığını çok daha iyi anlamanızı sağlayacak bir şekilde yeniden yazacağız. Dikkatlice bakın:\n",
    "\n"
   ]
  },
  {
   "cell_type": "code",
   "execution_count": 38,
   "id": "80586275-77a0-477c-a72a-72fcb5973646",
   "metadata": {},
   "outputs": [
    {
     "name": "stdout",
     "output_type": "stream",
     "text": [
      "özyineleme sürecine girerken: istihza\n",
      "özyineleme sürecine girerken: stihza\n",
      "özyineleme sürecine girerken: tihza\n",
      "özyineleme sürecine girerken: ihza\n",
      "özyineleme sürecine girerken: hza\n",
      "özyineleme sürecine girerken: za\n",
      "özyineleme sürecine girerken: a\n",
      "özyineleme sürecinden çıkarken: a\n",
      "özyineleme sürecinden çıkarken: za\n",
      "özyineleme sürecinden çıkarken: hza\n",
      "özyineleme sürecinden çıkarken: ihza\n",
      "özyineleme sürecinden çıkarken: tihza\n",
      "özyineleme sürecinden çıkarken: stihza\n",
      "özyineleme sürecinden çıkarken: istihza\n"
     ]
    }
   ],
   "source": [
    "def azalt(s):\n",
    "    if len(s) < 1:\n",
    "        return s\n",
    "    else:\n",
    "        print('özyineleme sürecine girerken:', s)\n",
    "        azalt(s[1:])\n",
    "        print('özyineleme sürecinden çıkarken:', s)\n",
    "\n",
    "azalt('istihza')"
   ]
  },
  {
   "cell_type": "markdown",
   "id": "707e4961-15c8-43de-a7c3-bb5db39b2979",
   "metadata": {},
   "source": [
    "Burada, fonksiyon kendini yinelemeye başlamadan hemen önce bir print() satırı yerleştirerek s değişkeninin durumunu takip ediyoruz:\n",
    "\n"
   ]
  },
  {
   "cell_type": "code",
   "execution_count": null,
   "id": "188df76a-ab32-4111-9aca-f34cdae83871",
   "metadata": {},
   "outputs": [],
   "source": [
    "print('özyineleme sürecine girerken:', s)"
   ]
  },
  {
   "cell_type": "markdown",
   "id": "e07551a4-5192-4a21-9aa8-70bbcf70c302",
   "metadata": {},
   "source": [
    "Aynı işlemi bir de fonksiyonun kendini yinelemeye başlamasının hemen ardından yapıyoruz:\n",
    "\n"
   ]
  },
  {
   "cell_type": "code",
   "execution_count": null,
   "id": "a3458945-e804-41ea-a12d-3703754fc2ea",
   "metadata": {},
   "outputs": [],
   "source": [
    "print('özyineleme sürecinden çıkarken:', s)\n"
   ]
  },
  {
   "cell_type": "markdown",
   "id": "75bb01a8-c08b-4775-9821-4f60df7c3e08",
   "metadata": {},
   "source": [
    "Gördüğünüz gibi fonksiyon özyineleme sürecine girerken düşürdüğü her bir karakteri, özyineleme sürecinden çıkarken yeniden döndürüyor. Bu, özyinelemeli fonksiyonların önemli bir özelliğidir. Mesela bu özellikten yararlanarak şöyle bir kod yazabilirsiniz:\n",
    "\n"
   ]
  },
  {
   "cell_type": "code",
   "execution_count": 39,
   "id": "2964dd21-7225-40a0-ba9d-fcce5e09046d",
   "metadata": {},
   "outputs": [
    {
     "name": "stdout",
     "output_type": "stream",
     "text": [
      "a\n",
      "z\n",
      "h\n",
      "i\n",
      "t\n",
      "s\n",
      "i\n"
     ]
    }
   ],
   "source": [
    "def ters_çevir(s):\n",
    "    if len(s) < 1:\n",
    "        return s\n",
    "    else:\n",
    "        ters_çevir(s[1:])\n",
    "        print(s[0])\n",
    "\n",
    "ters_çevir('istihza')"
   ]
  },
  {
   "cell_type": "markdown",
   "id": "85563bd6-a191-48c3-8d7b-5705878e0dc3",
   "metadata": {},
   "source": [
    "Burada yaptığımız şey çok basit: Yukarıda da söylediğimiz gibi, özyinelemeli fonksiyonlar, özyineleme sürecine girerken yaptığı işi, özyineleme sürecinden çıkarken tersine çevirir. İşte biz de bu özellikten yararlandık. Fonksiyonun kendini yinelediği noktanın çıkışına bir print() fonksiyonu yerleştirip, geri dönen karakterlerin ilk harfini ekrana bastık. Böylece s adlı parametrenin tersini elde etmiş olduk.\n",
    "\n",
    "Ancak eğer yukarıdaki kodları bu şekilde yazarsak, fonksiyondan dönen değeri her yerde kullanamayız. Mesela yukarıdaki fonksiyonu aşağıdaki gibi kullanamayız:"
   ]
  },
  {
   "cell_type": "code",
   "execution_count": 40,
   "id": "8c766f38-4240-499b-bb77-4bf644a1e6f8",
   "metadata": {},
   "outputs": [
    {
     "name": "stdin",
     "output_type": "stream",
     "text": [
      "kelime girin:  fdsadfas\n"
     ]
    },
    {
     "name": "stdout",
     "output_type": "stream",
     "text": [
      "s\n",
      "a\n",
      "f\n",
      "d\n",
      "a\n",
      "s\n",
      "d\n",
      "f\n",
      "Girdiğiniz kelimenin tersi: None\n"
     ]
    }
   ],
   "source": [
    "def ters_çevir(s):\n",
    "    if len(s) < 1:\n",
    "        return s\n",
    "    else:\n",
    "        ters_çevir(s[1:])\n",
    "        print(s[0])\n",
    "\n",
    "kelime = input('kelime girin: ')\n",
    "print('Girdiğiniz kelimenin tersi: {}'.format(ters_çevir(kelime)))"
   ]
  },
  {
   "cell_type": "markdown",
   "id": "f0e590f4-53ee-47c9-9b19-182ed65a4df4",
   "metadata": {},
   "source": [
    "Fonksiyonumuzun daha kullanışlı olabilmesi için kodlarımızı şöyle yazabiliriz:\n",
    "\n"
   ]
  },
  {
   "cell_type": "code",
   "execution_count": null,
   "id": "4c0ff970-5619-4043-90f8-be14c3c2e726",
   "metadata": {},
   "outputs": [],
   "source": [
    "def ters_çevir(s):\n",
    "    if len(s) < 1:\n",
    "        return s\n",
    "    else:\n",
    "        return ters_çevir(s[1:]) + s[0]\n",
    "\n",
    "kelime = input('kelime girin: ')\n",
    "print('Girdiğiniz kelimenin tersi: {}'.format(ters_çevir(kelime)))\n"
   ]
  },
  {
   "cell_type": "markdown",
   "id": "2f5339e4-5fa1-418f-be5a-87fdc8223501",
   "metadata": {},
   "source": [
    "Burada bizim amacımızı gerçekleştirmemizi sağlayan satır şu:\n",
    "\n"
   ]
  },
  {
   "cell_type": "code",
   "execution_count": null,
   "id": "52141d5b-1042-4c6c-b742-57edab3bc9ca",
   "metadata": {},
   "outputs": [],
   "source": [
    "return ters_çevir(s[1:]) + s[0]\n"
   ]
  },
  {
   "cell_type": "markdown",
   "id": "cc11f31e-e907-4140-a2c9-f7eb5b1be420",
   "metadata": {},
   "source": [
    "İlk bakışta bu satırın nasıl çalıştığını anlamak zor gelebilir. Ama aslında son derece basit bir mantığı var bu kodların. Şöyle düşünün: ters_çevir() fonksiyonunu özyinelemeli olarak işlettiğimizde, yani şu kodu yazdığımızda:\n",
    "\n"
   ]
  },
  {
   "cell_type": "code",
   "execution_count": null,
   "id": "4b790609-7ca1-4a68-8498-9efed4f346ea",
   "metadata": {
    "jupyter": {
     "source_hidden": true
    }
   },
   "outputs": [],
   "source": [
    "return ters_çevir(s[1:])\n"
   ]
  },
  {
   "cell_type": "markdown",
   "id": "b494c617-1c2d-4df6-8703-9dac28545fe9",
   "metadata": {},
   "source": [
    "…döndürülecek son değer boş bir karakter dizisidir. İşte biz özyinelemeden çıkılırken geri dönen karakterlerin ilk harflerini bu boş karakter dizisine ekliyoruz ve böylece girdiğimiz karakter dizisinin ters halini elde etmiş oluyoruz.\n",
    "\n",
    "Yukarıdaki işlevin aynısını, özyinelemeli fonksiyonunuzu şöyle yazarak da elde edebilirdiniz:"
   ]
  },
  {
   "cell_type": "code",
   "execution_count": null,
   "id": "52b2fb47-9601-4e93-808b-ee917a876e30",
   "metadata": {},
   "outputs": [],
   "source": [
    "def ters_çevir(s):\n",
    "    if not s:\n",
    "        return s\n",
    "    else:\n",
    "        return s[-1] + ters_çevir(s[:-1])\n",
    "\n",
    "print(ters_çevir('istihza'))"
   ]
  },
  {
   "cell_type": "markdown",
   "id": "a3cdbf5c-a69c-4a47-b6b4-76b68337abe6",
   "metadata": {},
   "source": [
    "Burada aynı iş için farklı bir yaklaşım benimsedik. İlk olarak, dip noktasını şu şekilde belirledik:"
   ]
  },
  {
   "cell_type": "code",
   "execution_count": null,
   "id": "557fcc60-047e-4ce6-b991-1aec40a88dd3",
   "metadata": {},
   "outputs": [],
   "source": [
    "if not s:\n",
    "    return s"
   ]
  },
  {
   "cell_type": "markdown",
   "id": "357285e2-2cac-40e1-abb0-5df9fa6da83c",
   "metadata": {},
   "source": [
    "Bildiğiniz gibi, boş veri tiplerinin bool değeri False’tur. Dolayısıyla özyineleme sırasında s parametresinin uzunluğunun 1’in altına düşmesi, s parametresinin içinin boşaldığını gösterir. Yani o anda s parametresinin bool değeri False olur. Biz de yukarıda bu durumdan faydalandık.\n",
    "\n",
    "Bir önceki kodlara göre bir başka farklılık da şu satırda:\n",
    "\n"
   ]
  },
  {
   "cell_type": "code",
   "execution_count": null,
   "id": "45c73eb4-05af-4f25-add4-bf01ad8c32e5",
   "metadata": {},
   "outputs": [],
   "source": [
    "return s[-1] + ters_çevir(s[:-1])\n"
   ]
  },
  {
   "cell_type": "markdown",
   "id": "48012996-4c47-47cf-bab8-3fdf50d5c7b5",
   "metadata": {},
   "source": [
    "Burada benimsediğimiz yaklaşımın özü şu: Bildiğiniz gibi bir karakter dizisini ters çevirmek istediğimizde öncelikle bu karakter dizisinin en son karakterini alıp en başa yerleştiririz. Yani mesela elimizdeki karakter dizisi ‘istihza’ ise, bu karakter dizisini ters çevirmenin ilk adımı bunun en son karakteri olan ‘a’ harfini alıp en başa koymaktır. Daha sonra da geri kalan harfleri tek tek tersten buna ekleriz:"
   ]
  },
  {
   "cell_type": "raw",
   "id": "d64c9223-12d7-4188-840f-ebe0c74a46a5",
   "metadata": {},
   "source": [
    "düz:  istihza\n",
    "ters: a + z + h + i + t + s + i"
   ]
  },
  {
   "cell_type": "markdown",
   "id": "6d81a85c-423e-445e-8334-26b90070b077",
   "metadata": {},
   "source": [
    "İşte yukarıdaki fonksiyonda da yaptığımız şey tam anlamıyla budur.\n",
    "\n",
    "Önce karakter dizisinin son harfini en başa koyuyoruz:"
   ]
  },
  {
   "cell_type": "code",
   "execution_count": null,
   "id": "0de7ec08-4753-440a-86c0-b17f06a28cbf",
   "metadata": {},
   "outputs": [],
   "source": [
    "return s[-1]"
   ]
  },
  {
   "cell_type": "markdown",
   "id": "bf74087f-f768-4b5c-a533-f5fc34080cb3",
   "metadata": {},
   "source": [
    "Ardından da buna geri kalan harfleri tek tek tersten ekliyoruz:"
   ]
  },
  {
   "cell_type": "code",
   "execution_count": null,
   "id": "f1bc8b77-7515-4a99-b505-726326b35fd8",
   "metadata": {},
   "outputs": [],
   "source": [
    "return s[-1] + ters_çevir(s[:-1])\n"
   ]
  },
  {
   "cell_type": "markdown",
   "id": "6ae21b06-4dcb-488e-a661-fb7d88a35825",
   "metadata": {},
   "source": [
    "Özyinelemeli fonksiyonlara ilişkin olarak yukarıda tek bir örnek üzerinde epey açıklama yaptık. Bu örnek ve açıklamalar, özyinelemeli fonksiyonların nasıl çalıştığı konusunda size epey fikir vermiş olmalı. Ancak elbette bu fonksiyonları tek bir örnek yardımıyla tamamen anlayamamış olabilirsiniz. O yüzden gelin isterseniz bir örnek daha verelim. Mesela bu kez de basit bir sayaç yapalım:\n",
    "\n"
   ]
  },
  {
   "cell_type": "code",
   "execution_count": null,
   "id": "06e43e9d-a0ab-48dd-95ad-44db80f60ebc",
   "metadata": {},
   "outputs": [],
   "source": [
    "def sayaç(sayı, sınır):\n",
    "    print(sayı)\n",
    "    if sayı == sınır:\n",
    "        return 'bitti!'\n",
    "    else:\n",
    "        return sayaç(sayı+1, sınır)"
   ]
  },
  {
   "cell_type": "raw",
   "id": "6f832071-bd3f-4863-80be-ce93feb11bee",
   "metadata": {},
   "source": [
    "Bu fonksiyonun yaptığı işi elbette başka şekillerde çok daha kolay bir şekilde halledebilirdik. Bu örneği burada vermemizin amacı yalnızca özyinelemeli fonksiyonların nasıl işlediğini göstermek. Yoksa böyle bir işi özyinelemeli fonksiyonlarla yapmanızı beklemiyoruz."
   ]
  },
  {
   "cell_type": "markdown",
   "id": "a4bb50d8-28e4-40c3-b9a0-2b6f5daf979d",
   "metadata": {},
   "source": [
    "Yukarıdaki fonksiyona dikkatlice bakarsanız aslında yaptığı işi çok basit bir şekilde gerçekleştirdiğini göreceksiniz.\n",
    "\n",
    "Burada öncelikle sayaç() adlı bir fonksiyon tanımladık. Bu fonksiyon toplam iki farklı parametre alıyor: sayı ve sınır.\n",
    "\n",
    "Buna göre fonksiyonumuzu şöyle kullanıyoruz:"
   ]
  },
  {
   "cell_type": "code",
   "execution_count": null,
   "id": "87fb612b-4021-418a-bdab-58a00b5c05d2",
   "metadata": {},
   "outputs": [],
   "source": [
    "print(sayaç(0, 100))\n"
   ]
  },
  {
   "cell_type": "markdown",
   "id": "06c2c83a-bea3-44de-b618-e0a97034fd8e",
   "metadata": {},
   "source": [
    "Burada sayı parametresine verdiğimiz 0 değeri sayacımızın saymaya kaçtan başlayacağını gösteriyor. sınır parametresine verdiğimiz 100 değeri ise kaça kadar sayılacağını gösteriyor. Buna göre biz 0’dan 100’e kadar olan sayıları sayıyoruz…\n",
    "\n",
    "Gelin şimdi biraz fonksiyonumuzu inceleyelim.\n",
    "\n",
    "İlk olarak şu satırı görüyoruz fonksiyon gövdesinde:\n",
    "\n"
   ]
  },
  {
   "cell_type": "code",
   "execution_count": null,
   "id": "dabebcdb-8a72-45e6-b78a-f477b3ccecf9",
   "metadata": {},
   "outputs": [],
   "source": [
    "print(sayı)\n"
   ]
  },
  {
   "cell_type": "markdown",
   "id": "ca78108e-268f-435d-8480-5b05bb6a61ca",
   "metadata": {},
   "source": [
    "Bu satır, özyinelemeli fonksiyonun her yinelenişinde sayı parametresinin durumunu ekrana basacak.\n",
    "\n",
    "Sonraki iki satırda ise şu kodları görüyoruz:\n",
    "\n"
   ]
  },
  {
   "cell_type": "code",
   "execution_count": null,
   "id": "6bff23b5-4ed4-456c-97b6-162b02cd2600",
   "metadata": {},
   "outputs": [],
   "source": [
    "if sayı == sınır:\n",
    "    return 'bitti!'"
   ]
  },
  {
   "cell_type": "markdown",
   "id": "2f791c6b-cd18-4203-af59-f36ae57e579e",
   "metadata": {},
   "source": [
    "Bu bizim ‘dip nokta’ adını verdiğimiz şey. Fonksiyonumuz yalnızca bu noktaya kadar yineleyecek, bu noktanın ilerisine geçmeyecektir. Yani sayı parametresinin değeri sınır parametresinin değerine ulaştığında özyineleme işlemi de sona erecek. Eğer böyle bir dip nokta belirtmezsek fonksiyonumuz sonsuza kadar kendini yinelemeye çalışacak, daha önce sözünü ettiğimiz ‘özyineleme limiti’ nedeniyle de belli bir aşamadan sonra hata verip çökecektir.\n",
    "\n",
    "Sonraki satırlarda ise şu kodları görüyoruz:"
   ]
  },
  {
   "cell_type": "code",
   "execution_count": null,
   "id": "37a296b1-c74f-4ab3-92a3-d82a11ad4ce8",
   "metadata": {},
   "outputs": [],
   "source": [
    "else:\n",
    "    return sayaç(sayı+1, sınır)"
   ]
  },
  {
   "cell_type": "markdown",
   "id": "81273acc-81f5-4145-97bd-384eae504b9a",
   "metadata": {},
   "source": [
    "Bu satırlar, bir önceki aşamada belirttiğimiz dip noktaya ulaşılana kadar fonksiyonumuzun hangi işlemleri yapacağını gösteriyor. Buna göre, fonksiyonun her yinelenişinde sayı parametresinin değerini 1 sayı artırıyoruz.\n",
    "\n",
    "Fonksiyonumuzu sayaç(0, 100) gibi bir komutla çalıştırdığımızı düşünürsek, fonksiyonun ilk çalışmasında 0 olan sayı değeri sonraki yinelemede 1, sonraki yinelemede 2, sonraki yinelemede ise 3 olacak ve bu durum sınır değer olan 100’e varılana kadar devam edecektir. sayı parametresinin değeri 100 olduğunda ise dip nokta olarak verdiğimiz ölçüt devreye girecek ve fonksiyonun kendi kendisini yinelemesi işlemine son verilecektir.\n",
    "\n",
    "Biz yukarıdaki örnekte yukarıya doğru sayan bir fonksiyon yazdık. Eğer yukarıdan aşağıya doğru sayan bir sayaç yapmak isterseniz yukarıdaki fonksiyonu şu şekle getirebilirsiniz:"
   ]
  },
  {
   "cell_type": "code",
   "execution_count": null,
   "id": "97b00e74-6c1a-4956-8c77-8adda667a7a1",
   "metadata": {},
   "outputs": [],
   "source": [
    "def sayaç(sayı, sınır):\n",
    "    print(sayı)\n",
    "    if sayı == sınır:\n",
    "        return 'bitti!'\n",
    "    else:\n",
    "        return sayaç(sayı-1, sınır)\n",
    "\n",
    "print(sayaç(100, 0))\n"
   ]
  },
  {
   "cell_type": "markdown",
   "id": "fc7eec07-be6b-4c44-9683-5c4dcde2fbd1",
   "metadata": {},
   "source": [
    "Burada, önceki fonksiyonda + olan işleci - işlecine çevirdik:\n",
    "\n"
   ]
  },
  {
   "cell_type": "code",
   "execution_count": null,
   "id": "5a5fac2e-2fe5-4a5e-afc6-28435f755654",
   "metadata": {},
   "outputs": [],
   "source": [
    "return sayaç(sayı-1, sınır)\n"
   ]
  },
  {
   "cell_type": "markdown",
   "id": "61f74bfc-26a2-4d78-af09-71897ab2361e",
   "metadata": {},
   "source": [
    "Fonksiyonumuzu çağırırken de elbette sayı parametresinin değerini 100 olarak, sınır parametresinin değerini ise 0 olarak belirledik.\n",
    "\n",
    "Bu arada, daha önce de bahsettiğimiz gibi, özyinelemeli fonksiyonlar, özyinelemeye başlarken döndürdükleri değeri, özyineleme işleminin sonunda tek tek geri döndürür. Bu özelliği göz önünde bulundurarak yukarıdaki fonksiyonu şu şekilde de yazabilirdiniz:"
   ]
  },
  {
   "cell_type": "code",
   "execution_count": null,
   "id": "69567327-0e2e-4b40-ac5b-1afb38146c78",
   "metadata": {},
   "outputs": [],
   "source": [
    "def sayaç(sayı, sınır):\n",
    "    if sayı == sınır:\n",
    "        return 'bitti!'\n",
    "    else:\n",
    "        sayaç(sayı+1, sınır)\n",
    "        print(sayı)\n",
    "\n",
    "print(sayaç(0, 10))"
   ]
  },
  {
   "cell_type": "markdown",
   "id": "9a2bb04b-ab48-4350-bb6e-552b62ffbc16",
   "metadata": {},
   "source": [
    "Dikkat ederseniz burada print(sayı) satırını özyineleme işlevinin çıkışına yerleştirdik. Böylece 0’dan 10’a kadar olan sayıları tersten elde ettik. Ancak tabii ki yukarıdaki anlamlı bir kod yazım tarzı değil. Çünkü fonksiyonumuzun yazım tarzıyla yaptığı iş birbiriyle çok ilgisiz. Sayıları yukarı doğru saymak üzere tasarlandığı belli olan bu kodlar, yalnızca bir print() fonksiyonunun özyineleme çıkışına yerleştirilmesi sayesinde yaptığı işi yapıyor…\n",
    "\n",
    "Yukarıda verdiğimiz örnekler sayesinde artık özyinelemeli fonksiyonlar hakkında en azından fikir sahibi olduğumuzu söyleyebiliriz. Gelin isterseniz şimdi özyinelemeli fonksiyonlarla ilgili (biraz daha mantıklı) bir örnek vererek bu çetrefilli konuyu zihnimizde netleştirmeye çalışalım.\n",
    "\n",
    "Bu defaki örneğimizde iç içe geçmiş listeleri tek katmanlı bir liste haline getireceğiz. Yani elimizde şöyle bir liste olduğunu varsayarsak:"
   ]
  },
  {
   "cell_type": "code",
   "execution_count": 41,
   "id": "be4f8457-3c69-4b88-83ec-a827a632ccd4",
   "metadata": {},
   "outputs": [],
   "source": [
    "l = [1, 2, 3, [4, 5, 6], [7, 8, 9, [10, 11], 12], 13, 14]"
   ]
  },
  {
   "cell_type": "markdown",
   "id": "fb0652b0-ae64-4758-adc9-d4e0de0d7e88",
   "metadata": {},
   "source": [
    "Yazacağımız kodlar bu listeyi şu hale getirecek:"
   ]
  },
  {
   "cell_type": "raw",
   "id": "0a39812d-4986-40be-9499-fc42244147ad",
   "metadata": {},
   "source": [
    "[1, 2, 3, 4, 5, 6, 7, 8, 9, 10, 11, 12, 13, 14]"
   ]
  },
  {
   "cell_type": "markdown",
   "id": "07406cd0-8bfc-4483-9bf1-4fc1f1f60591",
   "metadata": {},
   "source": [
    "Bu amacı gerçekleştirebilmek için şöyle bir fonksiyon yazalım:"
   ]
  },
  {
   "cell_type": "code",
   "execution_count": 42,
   "id": "b0ea8e0b-90ef-495a-adc4-9c6773c2e8c9",
   "metadata": {},
   "outputs": [
    {
     "name": "stdout",
     "output_type": "stream",
     "text": [
      "[1, 2, 3, 4, 5, 6, 7, 8, 9, 10, 11, 12, 13, 14]\n"
     ]
    }
   ],
   "source": [
    "def düz_liste_yap(liste):\n",
    "    if not isinstance(liste, list):\n",
    "        return [liste]\n",
    "    elif not liste:\n",
    "        return []\n",
    "    else:\n",
    "        return düz_liste_yap(liste[0]) + düz_liste_yap(liste[1:])\n",
    "\n",
    "l = [1, 2, 3, [4, 5, 6], [7, 8, 9, [10, 11], 12], 13, 14]\n",
    "\n",
    "print(düz_liste_yap(l))"
   ]
  },
  {
   "cell_type": "markdown",
   "id": "f07e3616-fc43-4064-bf4b-6d4abf4a51d6",
   "metadata": {},
   "source": [
    "Bu fonksiyonu yukarıdaki iç içe geçmiş listeye uyguladığınızda istediğiniz sonucu aldığınızı göreceksiniz.\n",
    "\n",
    "İlk bakışta yukarıdaki kodları anlamak biraz zor gelmiş olabilir. Ama endişe etmenize gerek yok. Zira biz bu kodları olabildiğince ayrıntılı bir şekilde açıklayacağız.\n",
    "\n",
    "İlk olarak dip noktamızı tanımlıyoruz her zamanki gibi:\n",
    "\n"
   ]
  },
  {
   "cell_type": "code",
   "execution_count": null,
   "id": "5124f2fb-1b04-4cbc-bf08-619a153e9ed5",
   "metadata": {},
   "outputs": [],
   "source": [
    "if not isinstance(liste, list):\n",
    "    return [liste]"
   ]
  },
  {
   "cell_type": "markdown",
   "id": "6fccf716-cb27-4e28-84a7-f1808652b4c7",
   "metadata": {},
   "source": [
    "Fonksiyonumuzun temel çalışma prensibine göre liste içindeki bütün öğeleri tek tek alıp başka bir liste içinde toplayacağız. Eğer liste elemanları üzerinde ilerlerken karşımıza liste olmayan bir eleman çıkarsa bu elemanı [liste] koduyla bir listeye dönüştüreceğiz.\n",
    "\n",
    "Önceki örneklerden farklı olarak, bu kez kodlarımızda iki farklı dip noktası kontrolü görüyoruz. İlkini yukarıda açıkladık. İkinci dip noktamız şu:"
   ]
  },
  {
   "cell_type": "code",
   "execution_count": null,
   "id": "cd033ab6-e1f2-4f4d-8406-edb038a7cf93",
   "metadata": {},
   "outputs": [],
   "source": [
    "elif not liste:\n",
    "    return []"
   ]
  },
  {
   "cell_type": "markdown",
   "id": "c4603e4d-d53e-4d82-aae3-290b2c744e11",
   "metadata": {},
   "source": [
    "Burada yaptığımız şey şu: Eğer özyineleme esnasında boş bir liste ile karşılaşırsak, tekrar boş bir liste döndürüyoruz. Peki ama neden?\n",
    "\n",
    "Bildiğiniz gibi boş bir listenin 0. elemanı olmaz. Yani boş bir liste üzerinde şu işlemi yapamayız:"
   ]
  },
  {
   "cell_type": "code",
   "execution_count": null,
   "id": "210ea44c-4742-4ad3-b172-ea2472272438",
   "metadata": {},
   "outputs": [],
   "source": [
    "a = []\n",
    "a[0]\n",
    "\n",
    "Traceback (most recent call last):\n",
    "  File \"<stdin>\", line 1, in <module>\n",
    "IndexError: list index out of range"
   ]
  },
  {
   "cell_type": "markdown",
   "id": "2c551181-4f67-4875-b9e1-94cb6b41a183",
   "metadata": {},
   "source": [
    "Gördüğünüz gibi, boş bir liste üzerinde indeksleme işlemi yapmaya kalkıştığımızda hata alıyoruz. Şimdi durumu daha iyi anlayabilmek için isterseniz yukarıdaki kodları bir de ikinci dip noktası kontrolü olmadan yazmayı deneyelim:"
   ]
  },
  {
   "cell_type": "code",
   "execution_count": 43,
   "id": "195ea489-b27b-4d63-9560-5fd20c244811",
   "metadata": {},
   "outputs": [
    {
     "ename": "IndexError",
     "evalue": "list index out of range",
     "output_type": "error",
     "traceback": [
      "\u001b[0;31m---------------------------------------------------------------------------\u001b[0m",
      "\u001b[0;31mIndexError\u001b[0m                                Traceback (most recent call last)",
      "Cell \u001b[0;32mIn[43], line 9\u001b[0m\n\u001b[1;32m      5\u001b[0m         \u001b[38;5;28;01mreturn\u001b[39;00m düz_liste_yap(liste[\u001b[38;5;241m0\u001b[39m]) \u001b[38;5;241m+\u001b[39m düz_liste_yap(liste[\u001b[38;5;241m1\u001b[39m:])\n\u001b[1;32m      7\u001b[0m l \u001b[38;5;241m=\u001b[39m [\u001b[38;5;241m1\u001b[39m, \u001b[38;5;241m2\u001b[39m, \u001b[38;5;241m3\u001b[39m, [\u001b[38;5;241m4\u001b[39m, \u001b[38;5;241m5\u001b[39m, \u001b[38;5;241m6\u001b[39m], [\u001b[38;5;241m7\u001b[39m, \u001b[38;5;241m8\u001b[39m, \u001b[38;5;241m9\u001b[39m, [\u001b[38;5;241m10\u001b[39m, \u001b[38;5;241m11\u001b[39m], \u001b[38;5;241m12\u001b[39m], \u001b[38;5;241m13\u001b[39m, \u001b[38;5;241m14\u001b[39m]\n\u001b[0;32m----> 9\u001b[0m \u001b[38;5;28mprint\u001b[39m(\u001b[43mdüz_liste_yap\u001b[49m\u001b[43m(\u001b[49m\u001b[43ml\u001b[49m\u001b[43m)\u001b[49m)\n",
      "Cell \u001b[0;32mIn[43], line 5\u001b[0m, in \u001b[0;36mdüz_liste_yap\u001b[0;34m(liste)\u001b[0m\n\u001b[1;32m      3\u001b[0m     \u001b[38;5;28;01mreturn\u001b[39;00m [liste]\n\u001b[1;32m      4\u001b[0m \u001b[38;5;28;01melse\u001b[39;00m:\n\u001b[0;32m----> 5\u001b[0m     \u001b[38;5;28;01mreturn\u001b[39;00m düz_liste_yap(liste[\u001b[38;5;241m0\u001b[39m]) \u001b[38;5;241m+\u001b[39m \u001b[43mdüz_liste_yap\u001b[49m\u001b[43m(\u001b[49m\u001b[43mliste\u001b[49m\u001b[43m[\u001b[49m\u001b[38;5;241;43m1\u001b[39;49m\u001b[43m:\u001b[49m\u001b[43m]\u001b[49m\u001b[43m)\u001b[49m\n",
      "Cell \u001b[0;32mIn[43], line 5\u001b[0m, in \u001b[0;36mdüz_liste_yap\u001b[0;34m(liste)\u001b[0m\n\u001b[1;32m      3\u001b[0m     \u001b[38;5;28;01mreturn\u001b[39;00m [liste]\n\u001b[1;32m      4\u001b[0m \u001b[38;5;28;01melse\u001b[39;00m:\n\u001b[0;32m----> 5\u001b[0m     \u001b[38;5;28;01mreturn\u001b[39;00m düz_liste_yap(liste[\u001b[38;5;241m0\u001b[39m]) \u001b[38;5;241m+\u001b[39m \u001b[43mdüz_liste_yap\u001b[49m\u001b[43m(\u001b[49m\u001b[43mliste\u001b[49m\u001b[43m[\u001b[49m\u001b[38;5;241;43m1\u001b[39;49m\u001b[43m:\u001b[49m\u001b[43m]\u001b[49m\u001b[43m)\u001b[49m\n",
      "    \u001b[0;31m[... skipping similar frames: düz_liste_yap at line 5 (5 times)]\u001b[0m\n",
      "Cell \u001b[0;32mIn[43], line 5\u001b[0m, in \u001b[0;36mdüz_liste_yap\u001b[0;34m(liste)\u001b[0m\n\u001b[1;32m      3\u001b[0m     \u001b[38;5;28;01mreturn\u001b[39;00m [liste]\n\u001b[1;32m      4\u001b[0m \u001b[38;5;28;01melse\u001b[39;00m:\n\u001b[0;32m----> 5\u001b[0m     \u001b[38;5;28;01mreturn\u001b[39;00m düz_liste_yap(\u001b[43mliste\u001b[49m\u001b[43m[\u001b[49m\u001b[38;5;241;43m0\u001b[39;49m\u001b[43m]\u001b[49m) \u001b[38;5;241m+\u001b[39m düz_liste_yap(liste[\u001b[38;5;241m1\u001b[39m:])\n",
      "\u001b[0;31mIndexError\u001b[0m: list index out of range"
     ]
    }
   ],
   "source": [
    "def düz_liste_yap(liste):\n",
    "    if not isinstance(liste, list):\n",
    "        return [liste]\n",
    "    else:\n",
    "        return düz_liste_yap(liste[0]) + düz_liste_yap(liste[1:])\n",
    "\n",
    "l = [1, 2, 3, [4, 5, 6], [7, 8, 9, [10, 11], 12], 13, 14]\n",
    "\n",
    "print(düz_liste_yap(l))"
   ]
  },
  {
   "cell_type": "markdown",
   "id": "1981f3f5-6411-4530-a19f-ceb3df0b8896",
   "metadata": {},
   "source": [
    "Gördüğünüz gibi, biraz önce boş bir liste üzerinde indeksleme yapmaya çalıştığımızda aldığımız hatanın aynısı bu. Çünkü kodlarımızın else bloğuna bakarsanız liste üzerinde indeksleme yaptığımızı görürsünüz:\n",
    "\n"
   ]
  },
  {
   "cell_type": "code",
   "execution_count": null,
   "id": "90718350-ddf2-4f06-8b53-a62d14961b10",
   "metadata": {},
   "outputs": [],
   "source": [
    "return düz_liste_yap(liste[0]) + düz_liste_yap(liste[1:])\n"
   ]
  },
  {
   "cell_type": "markdown",
   "id": "cff909f2-8ea9-4e78-ab5b-92eff25058c0",
   "metadata": {},
   "source": [
    "Elbette boş bir liste liste[0] veya liste[1:] gibi sorgulamalara IndexError tipinde bir hata mesajıyla cevap verecektir. İşte böyle bir durumda hata almamak için şu kodları yazıyoruz:"
   ]
  },
  {
   "cell_type": "code",
   "execution_count": null,
   "id": "f372df77-fc1c-4e0c-8e23-0299e162c6ed",
   "metadata": {},
   "outputs": [],
   "source": [
    "elif not liste:\n",
    "    return []"
   ]
  },
  {
   "cell_type": "markdown",
   "id": "d7d865fd-9421-4468-a831-6c01f23aff05",
   "metadata": {},
   "source": [
    "Böylece özyineleme esnasında boş bir listeyle karşılaştığımızda bu listeyi şu şekle dönüştürüyoruz:\n",
    "\n"
   ]
  },
  {
   "cell_type": "code",
   "execution_count": null,
   "id": "7e5e0501-f019-4510-89ae-2b102d7b5207",
   "metadata": {},
   "outputs": [],
   "source": [
    "[[]]"
   ]
  },
  {
   "cell_type": "markdown",
   "id": "cc4f8353-6ecd-4064-a7d6-a5c9eab6ae63",
   "metadata": {},
   "source": [
    "Böyle bir yapı üzerinde indeksleme yapılabilir:"
   ]
  },
  {
   "cell_type": "code",
   "execution_count": 44,
   "id": "5cd164d5-b463-4ae5-8266-52ed21e684f2",
   "metadata": {},
   "outputs": [
    {
     "data": {
      "text/plain": [
       "[]"
      ]
     },
     "execution_count": 44,
     "metadata": {},
     "output_type": "execute_result"
    }
   ],
   "source": [
    "a = [[]]\n",
    "a[0]\n"
   ]
  },
  {
   "cell_type": "markdown",
   "id": "032f8982-aff3-444f-9390-9c1e8fc3d355",
   "metadata": {},
   "source": [
    "Dip noktaya ulaşılana kadar yapılacak işlemler ise şunlar:"
   ]
  },
  {
   "cell_type": "raw",
   "id": "ebedde26-da8c-4fb5-977f-4ba1ef2b7f3a",
   "metadata": {},
   "source": [
    "return düz_liste_yap(liste[0]) + düz_liste_yap(liste[1:])\n"
   ]
  },
  {
   "cell_type": "markdown",
   "id": "466c0afc-b613-4b17-b0c2-21dae1720978",
   "metadata": {},
   "source": [
    "\n",
    "Yani listenin ilk öğesine, geri kalan öğeleri teker teker ekliyoruz.\n",
    "\n",
    "Gelin bir örnek daha verelim:"
   ]
  },
  {
   "cell_type": "code",
   "execution_count": null,
   "id": "5e6dd91f-8be9-4df3-bf15-a2d6998f057d",
   "metadata": {},
   "outputs": [],
   "source": [
    "def topla(sayilar):\n",
    "    if len(sayilar) < 1:\n",
    "        return 0\n",
    "    else:\n",
    "        ilk, son = sayilar[0], sayilar[1:]\n",
    "        return ilk+topla(son)"
   ]
  },
  {
   "cell_type": "markdown",
   "id": "d491534e-94be-4afd-aac5-8574f7c60011",
   "metadata": {},
   "source": [
    "Bu fonksiyonun görevi, kendisine liste olarak verilen sayıları birbiriyle toplamak. Biz bu işi başka yöntemlerle de yapabileceğimizi biliyoruz, ama bizim burada amacımız özyinelemeli fonksiyonları anlamak. O yüzden sayıları birbiriyle toplama işlemini bir de bu şekilde yapmaya çalışacağız.\n",
    "\n",
    "Elimizde şöyle bir liste olduğunu varsayalım:"
   ]
  },
  {
   "cell_type": "code",
   "execution_count": null,
   "id": "22b5a018-aa8e-44ac-a6b7-a8e9c835f888",
   "metadata": {},
   "outputs": [],
   "source": [
    "liste = [0, 1, 2, 3, 4, 5, 6, 7, 8, 9, 10]\n"
   ]
  },
  {
   "cell_type": "markdown",
   "id": "dbc79a9a-76d7-49c4-8639-4a10aeb84fe2",
   "metadata": {},
   "source": [
    "Böyle bir durumda fonksiyonumuz 55 çıktısı verir.\n",
    "\n",
    "Gelelim bu fonksiyonu açıklamaya…\n",
    "\n",
    "Her zamanki gibi ilk olarak dip noktamızı tanımlıyoruz:\n",
    "\n"
   ]
  },
  {
   "cell_type": "code",
   "execution_count": null,
   "id": "bf8d474d-8adb-48d8-a1f3-169a865e6e45",
   "metadata": {},
   "outputs": [],
   "source": [
    "if len(sayilar) < 1:\n",
    "    return 0"
   ]
  },
  {
   "cell_type": "markdown",
   "id": "94e8afab-a4bd-4405-af1e-e87ab152f791",
   "metadata": {},
   "source": [
    "Buna göre sayilar adlı listenin uzunluğu 1’in altına düşünce 0 değerini döndürüyoruz. Burada 0 değerini döndürmemizin nedeni, listede öğe kalmadığında programımızın hata vermesini önlemek. Eğer 0 dışında başka bir sayı döndürürsek bu sayı toplama işleminin sonucuna etki edecektir. Toplama işleminin sonucunu etkilemeyecek tek sayı 0 olduğu için biz de bu sayıyı döndürüyoruz.\n",
    "\n",
    "Taban noktaya varılıncaya kadar yapılacak işlemler ise şunlar:"
   ]
  },
  {
   "cell_type": "code",
   "execution_count": null,
   "id": "27880a51-051a-4521-b969-a3ab1015556a",
   "metadata": {},
   "outputs": [],
   "source": [
    "ilk, son = sayilar[0], sayilar[1:]\n",
    "return ilk+topla(son)"
   ]
  },
  {
   "cell_type": "markdown",
   "id": "d1f2be53-3d75-4d34-9a93-dab76ef3e9c8",
   "metadata": {},
   "source": [
    "Burada amacımız, listenin ilk sayısı ile listenin geri kalan öğelerini tek tek birbiriyle toplamak. Bunun için sayilar adlı listenin ilk öğesini, listenin geri kalanından ayırıyoruz ve ilk öğeyi ilk; geri kalan öğeleri ise son adlı bir değişkene gönderiyoruz:"
   ]
  },
  {
   "cell_type": "code",
   "execution_count": null,
   "id": "69628a8f-bed7-4181-901e-0ff766a016bd",
   "metadata": {},
   "outputs": [],
   "source": [
    "ilk, son = sayilar[0], sayilar[1:]\n"
   ]
  },
  {
   "cell_type": "markdown",
   "id": "7c1d24f1-c5fa-4df8-9cc1-69623b7a1606",
   "metadata": {},
   "source": [
    "Sonra da ilk öğeyi, geri kalan liste öğeleri ile tek tek topluyoruz. Bunun için de topla() fonksiyonunun kendisini son adlı değişken içinde tutulan liste öğelerine özyinelemeli olarak uyguluyoruz:\n",
    "\n"
   ]
  },
  {
   "cell_type": "code",
   "execution_count": null,
   "id": "21bcdfd4-2bbb-4300-b5b9-ce53424b9b39",
   "metadata": {},
   "outputs": [],
   "source": [
    "return ilk+topla(son)\n"
   ]
  },
  {
   "cell_type": "markdown",
   "id": "5ee7d1f5-3b6e-48e4-a0db-2fb77eb5a9de",
   "metadata": {},
   "source": [
    "Böylece liste içindeki bütün öğelerin toplam değerini elde etmiş oluyoruz.\n",
    "\n",
    "Bu arada, yeri gelmişken Python programlama dilinin pratik bir özelliğinden söz edelim. Gördüğünüz gibi sayıların ilk öğesini geri kalan öğelerden ayırmak için şöyle bir kod yazdık:\n",
    "\n"
   ]
  },
  {
   "cell_type": "code",
   "execution_count": null,
   "id": "81472d5b-620f-48e9-a591-0c03a8c66075",
   "metadata": {},
   "outputs": [],
   "source": [
    "ilk, son = sayilar[0], sayilar[1:]\n"
   ]
  },
  {
   "cell_type": "markdown",
   "id": "c7d7d520-b87f-4267-a49d-7cb5bffd11df",
   "metadata": {},
   "source": [
    "Aslında aynı işi çok daha pratik bir şekilde de halledebilirdik. Dikkatlice bakın:"
   ]
  },
  {
   "cell_type": "code",
   "execution_count": null,
   "id": "cd1504fa-c1db-418f-a300-e78059367be7",
   "metadata": {},
   "outputs": [],
   "source": [
    "ilk, *son = sayilar\n"
   ]
  },
  {
   "cell_type": "markdown",
   "id": "be867245-cd91-4ab3-bde6-8dfa2f6a7352",
   "metadata": {},
   "source": [
    "Böylece sayilar değişkenin ilk öğesi ilk değişkeninde, geri kalan öğeleri ise son değişkeninde tutulacaktır. İlerleyen derslerde ‘Yürüyücüler’ (Iterators) konusunu işlerken bu yapıdan daha ayrıntılı bir şekilde söz edeceğiz."
   ]
  },
  {
   "cell_type": "markdown",
   "id": "c905542e-5aa6-4f38-a3fb-8a0d2e63aa05",
   "metadata": {},
   "source": [
    "++++++++++İç İçe (Nested) Fonksiyonlar\n",
    "\n",
    "Bu bölümde iç içe fonksiyonların ne olduklarını ve nasıl kullanılabileceklerini inceleceğiz.\n",
    "\n",
    "++++++++++++İç İçe Fonksiyonlar Nedir?\n",
    "\n",
    "İsminden anlayabileceğimiz gibi içe içe olan birden fazla fonksiyonumuz olunca bunlara nested, yani iç içe fonksiyonlar diyoruz. Aşağıdaki gibi iki fonksiyonumuz olduğunu düşünelim:\n",
    "\n"
   ]
  },
  {
   "cell_type": "code",
   "execution_count": null,
   "id": "2d8a5a96-0dce-4c4f-849c-893a1256fc6a",
   "metadata": {},
   "outputs": [],
   "source": [
    "def fonk1():\n",
    "        def fonk2():\n",
    "                ..."
   ]
  },
  {
   "cell_type": "markdown",
   "id": "43d847dc-70f4-41b7-9299-356791f8f293",
   "metadata": {},
   "source": [
    "Burada fonk1 kapsayıcı (enclosing) veya dış fonksiyonumuz, fonk2 ise içerideki (nested) yani iç fonksiyonumuz oluyor. İç içe fonksiyonlarımızın ilginç özellikleri olduğunu söyleyebiliriz. Ayrıca bu fonksiyonları iyice anlamak, ileride üreteçleri (diğer bir adı ile yürüyücüleri) de daha iyi anlamamızı sağlayacaktır.\n",
    "\n",
    "İç içe fonksiyonları anlamanın en iyi yolu örnek üzerinden gitmektir. Şimdi şöyle bir fonksiyon tanımlayalım:"
   ]
  },
  {
   "cell_type": "code",
   "execution_count": 45,
   "id": "c658ea65-842a-4870-84a8-87113cc97a5e",
   "metadata": {},
   "outputs": [],
   "source": [
    "def yazıcı():\n",
    "    def yaz(mesaj):\n",
    "        print(mesaj)\n",
    "    return yaz"
   ]
  },
  {
   "cell_type": "markdown",
   "id": "fe723013-8db8-4318-bed3-0baf24e6f2a1",
   "metadata": {},
   "source": [
    "Kodu çalıştırıp etkileşimli kabuğu kullanalım:"
   ]
  },
  {
   "cell_type": "code",
   "execution_count": 46,
   "id": "960b5b35-6e49-40cd-878d-dccf7311002b",
   "metadata": {},
   "outputs": [
    {
     "name": "stdout",
     "output_type": "stream",
     "text": [
      "Merhaba\n"
     ]
    }
   ],
   "source": [
    "y = yazıcı()\n",
    "y(\"Merhaba\")"
   ]
  },
  {
   "cell_type": "code",
   "execution_count": 47,
   "id": "7e4fbfd1-1120-4cb3-b50b-1359928e9906",
   "metadata": {},
   "outputs": [
    {
     "data": {
      "text/plain": [
       "function"
      ]
     },
     "execution_count": 47,
     "metadata": {},
     "output_type": "execute_result"
    }
   ],
   "source": [
    "type(y)"
   ]
  },
  {
   "cell_type": "code",
   "execution_count": 48,
   "id": "7fa7fcec-9ab0-4fe7-9143-981e3cbf3e12",
   "metadata": {},
   "outputs": [
    {
     "data": {
      "text/plain": [
       "<function __main__.yazıcı.<locals>.yaz(mesaj)>"
      ]
     },
     "execution_count": 48,
     "metadata": {},
     "output_type": "execute_result"
    }
   ],
   "source": [
    "y"
   ]
  },
  {
   "cell_type": "markdown",
   "id": "7d696724-c90b-426d-9f6c-e35a2eb3412f",
   "metadata": {},
   "source": [
    "Şimdi bu çıktılarımızı inceleyelim. yazıcı fonksiyonumuz çağrıldığında değer olarak yaz fonksiyonunu çeviriyor. Bu yaz fonksiyonu da yazıcı fonksiyonumuzun içerisinde tanımladığı için bizim iç fonksiyonumuz oluyor. yazıcı ise kapsayıcı fonksiyonumuz. y(\"Merhaba\") komutu çağırıldığında ekrana Merhaba yazılıyor. Çünkü y’ye atanan değer olan yaz fonksiyonunun yaptığı iş buydu. Dikkat ederseniz y’nin türünün de function olduğunu görebilirsiniz. Son çıktımızda ise alışılmışın dışında bir <locals> ifadesi görüyoruz. Şimdi biraz bunun üzerine konuşacağız.\n",
    "\n",
    "Normalde bir fonksiyon yazdığımızda ve bu fonksiyon başka bir fonksiyonun içerisinde olmadığında, programı çalıştırıldığımızda ve kod işleme sırası bu fonksiyona geldiğinde fonksiyonumuz tanımlanmış olur. Yani bu fonksiyonun ne olduğu, ne yapacağı artık Python yorumlayıcısı tarafından bilinmektedir. Ayrıca bu fonksiyondan sadece bir tane vardır. Örneğin fonksiyonumuz şu şekilde ise:\n",
    "\n"
   ]
  },
  {
   "cell_type": "code",
   "execution_count": null,
   "id": "c90219ed-c2b0-43c3-9624-9f359e2e2a11",
   "metadata": {},
   "outputs": [],
   "source": [
    "def fonk():\n",
    "    pass"
   ]
  },
  {
   "cell_type": "markdown",
   "id": "0e786fb8-54bb-47e8-8836-5b11c5db3b28",
   "metadata": {},
   "source": [
    "Her fonk() yazdığımızda aynı fonksiyon çağrılır. Dikkat edin, aynı işlemler yapılır demiyorum. Aynı fonksiyon çağrılır. Yapacağı işlem burada bizim için önemli değil.\n",
    "\n",
    "Şimdi de iç içe fonksiyon tanımımıza ve şu <locals> kelimesine bakalım. İlk önce:"
   ]
  },
  {
   "cell_type": "code",
   "execution_count": null,
   "id": "f752f248-b23b-475b-b3af-a3c1ff497a70",
   "metadata": {},
   "outputs": [],
   "source": [
    "def yazıcı():\n",
    "    def yaz(mesaj):\n",
    "        print(mesaj)\n",
    "    return yaz\n"
   ]
  },
  {
   "cell_type": "markdown",
   "id": "2e0353b4-9c80-4218-84a0-06c2d4a55b26",
   "metadata": {},
   "source": [
    "Şeklinde kapsayıcı fonksiyonumuzu tanımlamış oluyoruz. Dikkat ederseniz sadece kapsa- yıcı fonksiyonun tanımlandığını söyledim. Artık yazıcı fonksiyonunun, Python yorum- layıcısı tarafından ne yapacağı, nasıl çalışacağı biliniyor. Ancak yaz fonksiyonu için aynı şeyleri söyleyemeyiz. Sonuç olarak bir fonksiyon çağırılmadan içerisindeki komutlar çalışmaz. Eğer def yaz... komutu çalışmaz ise de yaz fonksiyonumuz tanımlanmış olmaz. Yani şu anda yaz fonksiyonumuz tanımlanmamıştır. Peki ne zaman tanımlanacaktır? Tabii ki de yazıcı fonksiyonumuzu çağırdığımız zaman. Çünkü dediğimiz gibi, yazıcı fonksiyonu çağrılmadığı sürece def yaz... bölümü çalışmıyor. Python yorumlayıcısı programımız çalışırken yazıcı fonksiyonunun ne yapacağını bilir, dolayısı ile de yaz fonksiyonununun nasıl tanımlanacağını bilir. Ancak yaz fonksiyonu tanımlanmadan önce ne yapacağını bilemez. Buradan önemli yerlere varacağımız için bu kısmın anlaşılması gerekiyor. Şimdi şunu söyleyebiliriz ki yazıcı fonksiyonumuzu her çağırdımızda yaz sınıfı en baştan tanımlanır. Bu da yazıcı fonksiyonumuzu her çağırışımızda yeni tanımlanan yaz fonksiyonunun farklı ve tek olduğu anlamına gelir. Yani kapsayıcı olan yazıcı fonksiyonu sadece bir tane iken döndürdüğü yaz fonksiyonu birden fazla ve farklı oluyor. Yani yazıcı fonksiyonumuzu her çağırdığımızda sadece o çağırışımıza özel bir yaz fonksiyonu elde ediyoruz. İşte bu <locals> kelimesi buradan geliyor. Yani:\n",
    "\n"
   ]
  },
  {
   "cell_type": "code",
   "execution_count": null,
   "id": "75215b01-f653-4e63-a9e5-dabe223eed4f",
   "metadata": {},
   "outputs": [],
   "source": [
    "y\n",
    "<function yazıcı.<locals>.yaz at 0x00000210D9235558>"
   ]
  },
  {
   "cell_type": "markdown",
   "id": "c116c5a2-4dea-46c9-ada5-3f85ce27b425",
   "metadata": {},
   "source": [
    "Bu demek oluyor ki bizim y değişkenimiz, daha önceki bir yazıcı fonksiyonunun çağrısına ait, yani onun içinde tanımlanan bir yaz fonksiyonudur. locals da zaten yerel değişkenler anlamına gelir. Yani buradaki yaz fonksiyonu, daha önce çağırdığımız yazıcı fonksiyonunun içinde tanımlanan yerel bir değişkendir. Tanımlanan her yaz fonksiyonunun farklı olduğunu şu şekilde de görebiliriz:\n",
    "\n"
   ]
  },
  {
   "cell_type": "code",
   "execution_count": 49,
   "id": "56b28b4e-d48f-48eb-956d-cedbc03ad34e",
   "metadata": {},
   "outputs": [
    {
     "data": {
      "text/plain": [
       "<function __main__.yazıcı.<locals>.yaz(mesaj)>"
      ]
     },
     "execution_count": 49,
     "metadata": {},
     "output_type": "execute_result"
    }
   ],
   "source": [
    "y = yazıcı()\n",
    "b = yazıcı()\n",
    "y"
   ]
  },
  {
   "cell_type": "code",
   "execution_count": 50,
   "id": "1dcf4885-dbb4-4700-ada2-82646f793d4c",
   "metadata": {},
   "outputs": [
    {
     "data": {
      "text/plain": [
       "<function __main__.yazıcı.<locals>.yaz(mesaj)>"
      ]
     },
     "execution_count": 50,
     "metadata": {},
     "output_type": "execute_result"
    }
   ],
   "source": [
    "b"
   ]
  },
  {
   "cell_type": "code",
   "execution_count": 51,
   "id": "e9ecbb78-76fc-488c-9ddb-6d11cbea04a7",
   "metadata": {},
   "outputs": [
    {
     "data": {
      "text/plain": [
       "132106750909104"
      ]
     },
     "execution_count": 51,
     "metadata": {},
     "output_type": "execute_result"
    }
   ],
   "source": [
    "id(y)"
   ]
  },
  {
   "cell_type": "code",
   "execution_count": 52,
   "id": "5e618e6a-4bd9-41af-ad23-991237f2cd9f",
   "metadata": {},
   "outputs": [
    {
     "data": {
      "text/plain": [
       "132106750904784"
      ]
     },
     "execution_count": 52,
     "metadata": {},
     "output_type": "execute_result"
    }
   ],
   "source": [
    "id(b)"
   ]
  },
  {
   "cell_type": "markdown",
   "id": "0b975b81-1093-4b4d-a395-a38e5f41dcdf",
   "metadata": {},
   "source": [
    "Gördüğünüz gibi farklı yaz fonksiyonlarının hafızada saklandığı yerler de farklı oluyor…\n",
    "\n",
    "Bu konuda biraz daha ilerlemeden önce bilmemiz gereken başka şeyler de var. Biraz da onlar hakkında konuşalım.\n",
    "\n",
    "+++++‘nonlocal’ Deyimi\n",
    "\n",
    "nonlocal deyimi yerel olmayan anlamına gelir. Kullanım amacı global deyimi ile benzerdir. Ancak bunu kullanmamız küresel yani global değişkenlere ulaşmamızı değil, yerel olmayan değişkenlere ulaşmamızı sağlar. Ayrıca bu deyimi sadece iç içe fonksiyonlarda kullanabiliriz. Tabii bunu böyle söyleyince bir şey anlaşılmıyor. Örnek vermek lazım:"
   ]
  },
  {
   "cell_type": "code",
   "execution_count": null,
   "id": "3dd2ce5c-4b85-4cc5-913e-e70591f224f6",
   "metadata": {},
   "outputs": [],
   "source": [
    "def kapsayıcı_fonk():\n",
    "    non_local_değişken = 1\n",
    "\n",
    "    def iç_fonk():\n",
    "        non_local_değişken = 2\n",
    "        print(non_local_değişken)\n",
    "\n",
    "    return iç_fonk"
   ]
  },
  {
   "cell_type": "markdown",
   "id": "68a90a7a-b8e6-4f00-948e-2c9378516664",
   "metadata": {},
   "source": [
    "Burada iç içe bir fonksiyon yapısına sahibiz. Şimdi bu kodumuzu çalıştırıp etkileşimli kabukta denemeler yapalım:"
   ]
  },
  {
   "cell_type": "code",
   "execution_count": null,
   "id": "db613ad0-d025-491b-bf6d-802059855486",
   "metadata": {},
   "outputs": [],
   "source": [
    "dönüş_fonksiyonu = kapsayıcı_fonk()\n",
    "dönüş_fonksiyonu()\n",
    "2"
   ]
  },
  {
   "cell_type": "markdown",
   "id": "0d5f0d03-63c8-414e-9a5f-98d9d54b895b",
   "metadata": {},
   "source": [
    "Gördüğünüz gibi 1 yazılmadı. Yani kapsayıcı fonksiyona ait olan non_local_değişken ile iç fonksiyonumuza ait olan non_local_değişken farklılar. Aynı bu örnekte:\n",
    "\n"
   ]
  },
  {
   "cell_type": "code",
   "execution_count": null,
   "id": "59e9b427-e6bf-4c29-9f3c-937efc2c2251",
   "metadata": {},
   "outputs": [],
   "source": [
    "a = 1\n",
    "\n",
    "def fonk():\n",
    "    a = 2\n",
    "    print(a)\n"
   ]
  },
  {
   "cell_type": "markdown",
   "id": "0d3c7dfc-258b-45cd-b84e-ad28488e0ce5",
   "metadata": {},
   "source": [
    "küresel a değişkeni ile fonk fonksiyonuna ait a değişkeninin farklı olması gibi. Peki biz burada fonksiyon içinde de küresel a’yı kullanmak istersek nasıl yaparız? Bir şey yapmamıza gerek yok, zaten fonksiyon kendi içinde a değişkenini bulamayınca global alana bakacaktır:\n",
    "\n"
   ]
  },
  {
   "cell_type": "code",
   "execution_count": null,
   "id": "d213ac5d-412d-4c5c-af73-20b82f15e477",
   "metadata": {},
   "outputs": [],
   "source": [
    "a = 1\n",
    "\n",
    "def fonk():\n",
    "    print(a)\n",
    "\n",
    "fonk()\n",
    "1"
   ]
  },
  {
   "cell_type": "markdown",
   "id": "09a254ad-fb34-47f4-9412-c83430cdf100",
   "metadata": {},
   "source": [
    "Fakat eğer küresel olan a değişkenini değiştirmek istiyorsanız bildiğiniz gibi global deyimini kullanmamız lazım:"
   ]
  },
  {
   "cell_type": "code",
   "execution_count": 1,
   "id": "8f50ad2c-af65-4914-9fe9-845bfec93a20",
   "metadata": {},
   "outputs": [],
   "source": [
    "a = 1\n",
    "\n",
    "def fonk():\n",
    "    global a\n",
    "    a += 1\n",
    "    print(a)\n"
   ]
  },
  {
   "cell_type": "code",
   "execution_count": 2,
   "id": "6f95482d-7b68-4113-8ce4-911af199b815",
   "metadata": {},
   "outputs": [
    {
     "name": "stdout",
     "output_type": "stream",
     "text": [
      "2\n"
     ]
    }
   ],
   "source": [
    "fonk()"
   ]
  },
  {
   "cell_type": "code",
   "execution_count": 3,
   "id": "f447ec61-d0fa-457c-b92e-6903066a037d",
   "metadata": {},
   "outputs": [
    {
     "data": {
      "text/plain": [
       "2"
      ]
     },
     "execution_count": 3,
     "metadata": {},
     "output_type": "execute_result"
    }
   ],
   "source": [
    "a"
   ]
  },
  {
   "cell_type": "markdown",
   "id": "d0724ee0-ef77-4ed1-bf36-3d769be68ad3",
   "metadata": {},
   "source": [
    "İşte aynı bunun gibi:"
   ]
  },
  {
   "cell_type": "code",
   "execution_count": 4,
   "id": "c45e4bdb-9510-4cb3-af59-c6d52e68bc82",
   "metadata": {},
   "outputs": [],
   "source": [
    "def kapsayıcı_fonk():\n",
    "    non_local_değişken = 1\n",
    "\n",
    "    def iç_fonk():\n",
    "        non_local_değişken = 2\n",
    "        print(non_local_değişken)\n",
    "\n",
    "    return iç_fonk"
   ]
  },
  {
   "cell_type": "markdown",
   "id": "237fde87-c501-4ba2-aac5-ac5e017ebace",
   "metadata": {},
   "source": [
    "Örneğimizde de iç_fonk’un içinde kapsayıcı_fonk’a ait olan non_local_değişken değişkenini değiştirmek istersek bunu da nonlocal deyimi ile şöyle yapabiliriz:\n",
    "\n"
   ]
  },
  {
   "cell_type": "code",
   "execution_count": null,
   "id": "eb370448-2483-480f-9efe-5887c1059fec",
   "metadata": {},
   "outputs": [],
   "source": [
    "def kapsayıcı_fonk():\n",
    "    non_local_değişken = 1\n",
    "\n",
    "    def iç_fonk():\n",
    "        nonlocal non_local_değişken\n",
    "        non_local_değişken += 1\n",
    "        print(non_local_değişken)\n",
    "\n",
    "    return iç_fonk"
   ]
  },
  {
   "cell_type": "code",
   "execution_count": 5,
   "id": "7d379ad7-775a-4080-af8b-87c24ead9334",
   "metadata": {},
   "outputs": [],
   "source": [
    "dönüş_fonksiyonu = kapsayıcı_fonk()"
   ]
  },
  {
   "cell_type": "code",
   "execution_count": 6,
   "id": "b77266ed-b245-444b-85c1-2d89da566a9d",
   "metadata": {},
   "outputs": [
    {
     "name": "stdout",
     "output_type": "stream",
     "text": [
      "2\n"
     ]
    }
   ],
   "source": [
    "dönüş_fonksiyonu()"
   ]
  },
  {
   "cell_type": "markdown",
   "id": "9c18b0f5-253a-46a8-abb6-d42b5966fd69",
   "metadata": {},
   "source": [
    "Tabii bu değişkeni değiştirmek gibi bir amacımız yoksa, sadece kullanmak isteseydik şöyle de yapabilirdik ve nonlocal deyimine gerek kalmazdı:"
   ]
  },
  {
   "cell_type": "code",
   "execution_count": 7,
   "id": "261c4104-644c-485a-a23c-8a3ccbfc1fa0",
   "metadata": {},
   "outputs": [],
   "source": [
    "def kapsayıcı_fonk():\n",
    "    non_local_değişken = 1\n",
    "\n",
    "    def iç_fonk():\n",
    "        print(non_local_değişken)\n",
    "    return iç_fonk"
   ]
  },
  {
   "cell_type": "code",
   "execution_count": 8,
   "id": "44b5a91f-268b-4a6a-bbbf-431acc0c431f",
   "metadata": {},
   "outputs": [],
   "source": [
    "dönüş_fonksiyonu = kapsayıcı_fonk()"
   ]
  },
  {
   "cell_type": "code",
   "execution_count": 9,
   "id": "b9faab9d-9f53-4961-87b3-bde0bfdb7831",
   "metadata": {},
   "outputs": [
    {
     "name": "stdout",
     "output_type": "stream",
     "text": [
      "1\n"
     ]
    }
   ],
   "source": [
    "dönüş_fonksiyonu()"
   ]
  },
  {
   "cell_type": "markdown",
   "id": "45f901a0-7049-4aa1-b39c-9238246f4e3a",
   "metadata": {},
   "source": [
    "Gördüğünüz gibi nonlocal ifadesi iç içe fonksiyonlar ile çalışırken iç fonksiyonda, kapsayıcı fonksiyonunun değişkenlerini değiştirmemizi sağlıyor. Artık bu bilgiyi kullanarak şöyle bir fonksiyon oluşturabiliriz:\n",
    "\n"
   ]
  },
  {
   "cell_type": "code",
   "execution_count": 10,
   "id": "6f89d755-db2b-4860-b7f6-9c83f8f21f8e",
   "metadata": {},
   "outputs": [],
   "source": [
    "def yazıcı(mesaj):\n",
    "    def yaz():\n",
    "        nonlocal mesaj\n",
    "        mesaj += \" Dünya\"\n",
    "        print(mesaj)\n",
    "    return yaz"
   ]
  },
  {
   "cell_type": "code",
   "execution_count": 11,
   "id": "ec1ce5bb-019a-4554-a355-484404787aff",
   "metadata": {},
   "outputs": [],
   "source": [
    "y = yazıcı(\"Merhaba\")"
   ]
  },
  {
   "cell_type": "code",
   "execution_count": 12,
   "id": "317d9155-7089-4a29-bf1a-e19d8a1a40ff",
   "metadata": {},
   "outputs": [
    {
     "name": "stdout",
     "output_type": "stream",
     "text": [
      "Merhaba Dünya\n"
     ]
    }
   ],
   "source": [
    "y()"
   ]
  },
  {
   "cell_type": "markdown",
   "id": "403fdeb6-fbc5-4a0f-a1d0-d910b7b135b3",
   "metadata": {},
   "source": [
    "nonlocal deyiminin nasıl kullanıldığını bildiğiniz için örneğimizi anladığınızı düşünüyorum. Burda yaptığımız tek farklı şey nonlocal deyimi ile birlikte kullandığımız nesnenin yazıcı fonksiyonunun parametresi olması. Bunu yapmamızda bir sakınca yoktur. Sonuç olarak mesaj parametresi, normalde de yazıcı fonksiyonu içerisinde bir değişken gibi kullanılmaktadır. Ancak şunu da unutmayalım ki aynı global ifadesini kullanırken olduğu gibi nonlocal ifadesinde de eğer daha üst bir alandaki değişkenin üzerinde bir değer atama işleci kullanmayacaksak nonlocal ifadesini kullanmamıza gerek yoktur. Yani değişkeni nonlocal ifadesi olmadan da kullanabiliriz, ancak değerini değiştiremeyiz. Eğer yukarıdaki kodda nonlocal ifadesini kullanmazsak hata alırız:"
   ]
  },
  {
   "cell_type": "code",
   "execution_count": 13,
   "id": "d9e32b3a-f020-40a3-a8d9-591c94fe67b6",
   "metadata": {},
   "outputs": [],
   "source": [
    "def yazıcı(mesaj):\n",
    "    def yaz():\n",
    "        mesaj += \" Dünya\"\n",
    "        print(mesaj)\n",
    "    return yaz\n"
   ]
  },
  {
   "cell_type": "code",
   "execution_count": 14,
   "id": "ab2cba60-c3be-462c-9d64-39ac3e6093c0",
   "metadata": {},
   "outputs": [],
   "source": [
    "y = yazıcı(\"Merhaba Dünya\")"
   ]
  },
  {
   "cell_type": "code",
   "execution_count": 15,
   "id": "2008e478-4ec5-47c0-aabe-3b773d5809a4",
   "metadata": {},
   "outputs": [
    {
     "ename": "UnboundLocalError",
     "evalue": "local variable 'mesaj' referenced before assignment",
     "output_type": "error",
     "traceback": [
      "\u001b[0;31m---------------------------------------------------------------------------\u001b[0m",
      "\u001b[0;31mUnboundLocalError\u001b[0m                         Traceback (most recent call last)",
      "Cell \u001b[0;32mIn[15], line 1\u001b[0m\n\u001b[0;32m----> 1\u001b[0m \u001b[43my\u001b[49m\u001b[43m(\u001b[49m\u001b[43m)\u001b[49m\n",
      "Cell \u001b[0;32mIn[13], line 3\u001b[0m, in \u001b[0;36myazıcı.<locals>.yaz\u001b[0;34m()\u001b[0m\n\u001b[1;32m      2\u001b[0m \u001b[38;5;28;01mdef\u001b[39;00m\u001b[38;5;250m \u001b[39m\u001b[38;5;21myaz\u001b[39m():\n\u001b[0;32m----> 3\u001b[0m     mesaj \u001b[38;5;241m+\u001b[39m\u001b[38;5;241m=\u001b[39m \u001b[38;5;124m\"\u001b[39m\u001b[38;5;124m Dünya\u001b[39m\u001b[38;5;124m\"\u001b[39m\n\u001b[1;32m      4\u001b[0m     \u001b[38;5;28mprint\u001b[39m(mesaj)\n",
      "\u001b[0;31mUnboundLocalError\u001b[0m: local variable 'mesaj' referenced before assignment"
     ]
    }
   ],
   "source": [
    "y()"
   ]
  },
  {
   "cell_type": "markdown",
   "id": "09bac729-2f45-455b-b817-3969004287db",
   "metadata": {},
   "source": [
    "Sonuç olarak kapsayıcı fonksiyona ait değişkenleri, iç fonksiyonumuzda değiştirebilmek için nonlocal ifadesine ihtiyacımız vardır.\n",
    "\n",
    "Şimdi en başta konuştuğumuz <locals> konusuna geri dönüyoruz. İç fonksiyonun, çağırılan kapsayıcı fonksiyonun yerel değişkenlerinden biri olduğunu ve her seferinde yeniden tanımlandığını, bu yüzden de aynı işi yapsalar da aslında farklı olan fonksiyonlar elde ettiğimizi konuşmuştuk. Ancak her seferinde yeniden tanımlanan tek şey iç fonksiyon değildir. Kapsayıcı fonksiyonun içindeki her değişken, dış fonksiyonun her çağırılışında baştan tanımlanır. Bunu şu örnek üzerinden anlamaya çalışalım:"
   ]
  },
  {
   "cell_type": "code",
   "execution_count": 16,
   "id": "08fdc819-f8ae-419b-aa87-9fbd3bd60edc",
   "metadata": {},
   "outputs": [],
   "source": [
    "def sayıcı():\n",
    "    sayı = 0\n",
    "    def say():\n",
    "        nonlocal sayı\n",
    "        sayı += 1\n",
    "        return sayı\n",
    "    return say"
   ]
  },
  {
   "cell_type": "markdown",
   "id": "34b4e474-b22f-4af8-8eab-c42d4af1d1b4",
   "metadata": {},
   "source": [
    "Kodumuzu kısaca incelersek say fonksiyonunda sayı değişkenini nonlocal hale getiriyoruz. Aynı zamanda say fonksiyonu her çağırıldığında sayı değişkenini de bir artırıp değer olarak döndürüyoruz. Şimdi kodumuzu çalıştıralım:\n",
    "\n"
   ]
  },
  {
   "cell_type": "code",
   "execution_count": 17,
   "id": "af38bfe5-adf7-4088-8f82-ddf1df87f53f",
   "metadata": {},
   "outputs": [
    {
     "data": {
      "text/plain": [
       "function"
      ]
     },
     "execution_count": 17,
     "metadata": {},
     "output_type": "execute_result"
    }
   ],
   "source": [
    "s = sayıcı()\n",
    "type(s)"
   ]
  },
  {
   "cell_type": "code",
   "execution_count": 18,
   "id": "2e89cbe8-27f9-4cca-817b-38b8f3a54a03",
   "metadata": {},
   "outputs": [
    {
     "data": {
      "text/plain": [
       "<function __main__.sayıcı.<locals>.say()>"
      ]
     },
     "execution_count": 18,
     "metadata": {},
     "output_type": "execute_result"
    }
   ],
   "source": [
    "s"
   ]
  },
  {
   "cell_type": "code",
   "execution_count": 19,
   "id": "e59af5cd-1e18-4627-bbc4-f6427f6e99c2",
   "metadata": {},
   "outputs": [
    {
     "data": {
      "text/plain": [
       "1"
      ]
     },
     "execution_count": 19,
     "metadata": {},
     "output_type": "execute_result"
    }
   ],
   "source": [
    "s()"
   ]
  },
  {
   "cell_type": "code",
   "execution_count": 20,
   "id": "0a2eadd2-fc26-4a27-a46f-5bf690671dfe",
   "metadata": {},
   "outputs": [
    {
     "data": {
      "text/plain": [
       "2"
      ]
     },
     "execution_count": 20,
     "metadata": {},
     "output_type": "execute_result"
    }
   ],
   "source": [
    "s()"
   ]
  },
  {
   "cell_type": "code",
   "execution_count": 21,
   "id": "57b1d1f5-2d37-461a-8dc1-e462cb829654",
   "metadata": {},
   "outputs": [
    {
     "data": {
      "text/plain": [
       "3"
      ]
     },
     "execution_count": 21,
     "metadata": {},
     "output_type": "execute_result"
    }
   ],
   "source": [
    "s()"
   ]
  },
  {
   "cell_type": "code",
   "execution_count": 22,
   "id": "28a42775-b39f-47d7-86d2-6b4d14c87ea4",
   "metadata": {},
   "outputs": [
    {
     "data": {
      "text/plain": [
       "4"
      ]
     },
     "execution_count": 22,
     "metadata": {},
     "output_type": "execute_result"
    }
   ],
   "source": [
    "s()"
   ]
  },
  {
   "cell_type": "code",
   "execution_count": 23,
   "id": "3e52eb9b-c5eb-4628-bb82-dc04c2c8df76",
   "metadata": {},
   "outputs": [
    {
     "data": {
      "text/plain": [
       "5"
      ]
     },
     "execution_count": 23,
     "metadata": {},
     "output_type": "execute_result"
    }
   ],
   "source": [
    "s()"
   ]
  },
  {
   "cell_type": "markdown",
   "id": "25598677-3415-4212-a5c5-b1132a266b61",
   "metadata": {},
   "source": [
    "Gördüğünüz gibi ilginç bir şekilde sayıcı fonksiyonu çalışmış ve bitmiştir, ancak içerisinde bulunan sayı değişkeni silinmemiştir ve geri döndürülen say fonksiyonu tarafından kullanılmaya devam etmektedir. Yani biz göremesek de sayı değişkeni hala bir yerlede saklanılıyordur. Peki normalde bir fonksiyonun çalışması bitince yerel değişkenleri silinmez mi? Tabii ki silinir. Ancak burada say fonksiyonu içinde sayı değişkenini nonlocal hale getirmiş oluyoruz. Yani aslında biz sayı değişkenini kullanmaya devam ediyoruz. Eee şimdi Python kalkıp da bizim kullanacağımız bir değişkeni silse ayıp olur. O da bunu yapmıyor zaten. Ancak sayı değişkeni iç fonksiyon olan say fonksiyonunda hiç kullanılmasaydı silinirdi. Aslında bu örnekteki kilit olaylardan biri de sayı değişkeninin sadece bir defa tanımlanması ve bu tanımın aynı say fonksiyonunda olduğu gibi sayıcı fonksiyonumuzun sadece bir çağırılışına özgü olması. Buradan iki sonuca varıyoruz:\n",
    "\n",
    "sayıcı sınıfını birden fazla defa çağırsak bile geri döndürülen her say fonksiyonu ekrana sayıları hep sırayla yazdıracaktır. Çünkü her say fonksiyonu kendisini tanımlayan sayıcı çağırılışına ait olan sayı değişkenini kullanmaktadır.\n",
    "\n",
    "Her say fonksiyonunun kullandığı sayı değişkeni sadece bir defa 0 olarak tanımlanmakta ve daha sonra say fonksiyonumuzu her çağırışımızda artmaktadır.\n",
    "\n",
    "Evet dediğimiz gibi farklı say fonksiyonları farklı sayı değişkenlerini kullanıyor:"
   ]
  },
  {
   "cell_type": "code",
   "execution_count": 24,
   "id": "79c96f85-29eb-462d-a818-7fb7be03b8f9",
   "metadata": {},
   "outputs": [
    {
     "data": {
      "text/plain": [
       "1"
      ]
     },
     "execution_count": 24,
     "metadata": {},
     "output_type": "execute_result"
    }
   ],
   "source": [
    "s = sayıcı()\n",
    "s()"
   ]
  },
  {
   "cell_type": "code",
   "execution_count": 26,
   "id": "618a4e9e-7c06-4fb4-9e87-d0f6c2e4429d",
   "metadata": {},
   "outputs": [
    {
     "data": {
      "text/plain": [
       "2"
      ]
     },
     "execution_count": 26,
     "metadata": {},
     "output_type": "execute_result"
    }
   ],
   "source": [
    "s()"
   ]
  },
  {
   "cell_type": "code",
   "execution_count": 27,
   "id": "b48f205f-c74a-432e-903c-fc190079e158",
   "metadata": {},
   "outputs": [
    {
     "data": {
      "text/plain": [
       "3"
      ]
     },
     "execution_count": 27,
     "metadata": {},
     "output_type": "execute_result"
    }
   ],
   "source": [
    "s()"
   ]
  },
  {
   "cell_type": "code",
   "execution_count": 28,
   "id": "25ef56bb-d405-42f8-93ed-d31246a1c01a",
   "metadata": {},
   "outputs": [
    {
     "data": {
      "text/plain": [
       "4"
      ]
     },
     "execution_count": 28,
     "metadata": {},
     "output_type": "execute_result"
    }
   ],
   "source": [
    "s()"
   ]
  },
  {
   "cell_type": "code",
   "execution_count": 29,
   "id": "0bbe79a0-6e77-42e5-8923-ca17c0028174",
   "metadata": {},
   "outputs": [
    {
     "data": {
      "text/plain": [
       "1"
      ]
     },
     "execution_count": 29,
     "metadata": {},
     "output_type": "execute_result"
    }
   ],
   "source": [
    "s2 = sayıcı()\n",
    "s2()"
   ]
  },
  {
   "cell_type": "code",
   "execution_count": 31,
   "id": "32792cd4-3d4d-41c7-913e-fcd989cdc6cc",
   "metadata": {},
   "outputs": [
    {
     "data": {
      "text/plain": [
       "2"
      ]
     },
     "execution_count": 31,
     "metadata": {},
     "output_type": "execute_result"
    }
   ],
   "source": [
    "s2()"
   ]
  },
  {
   "cell_type": "code",
   "execution_count": 33,
   "id": "bf05ba38-d28d-4f4d-ba56-3270b3f413ae",
   "metadata": {},
   "outputs": [
    {
     "data": {
      "text/plain": [
       "3"
      ]
     },
     "execution_count": 33,
     "metadata": {},
     "output_type": "execute_result"
    }
   ],
   "source": [
    "s2()"
   ]
  },
  {
   "cell_type": "code",
   "execution_count": 34,
   "id": "e6cde9a4-4f77-442c-8397-67c74cefe387",
   "metadata": {},
   "outputs": [
    {
     "data": {
      "text/plain": [
       "4"
      ]
     },
     "execution_count": 34,
     "metadata": {},
     "output_type": "execute_result"
    }
   ],
   "source": [
    "s2()"
   ]
  },
  {
   "cell_type": "markdown",
   "id": "37d76198-b207-4398-a8e9-c82c40395e3c",
   "metadata": {},
   "source": [
    "Eğer bu örnekleri anlamakta zorluk çektiyseniz bunun çalışma mantığı olarak şunun ile aynı olduğunu söyleyebiliriz:"
   ]
  },
  {
   "cell_type": "code",
   "execution_count": 35,
   "id": "556bb8f3-45dd-4fff-b24b-9be4f99cfd19",
   "metadata": {},
   "outputs": [],
   "source": [
    "sayı = 0\n",
    "def say():\n",
    "    global sayı\n",
    "    sayı += 1\n",
    "    print(sayı)\n"
   ]
  },
  {
   "cell_type": "code",
   "execution_count": 36,
   "id": "91d42887-017f-46b8-9321-7e03bc568c7d",
   "metadata": {},
   "outputs": [
    {
     "name": "stdout",
     "output_type": "stream",
     "text": [
      "1\n"
     ]
    }
   ],
   "source": [
    "s = say\n",
    "s()"
   ]
  },
  {
   "cell_type": "code",
   "execution_count": 37,
   "id": "06e90b51-ea91-452a-af63-461e3b445241",
   "metadata": {},
   "outputs": [
    {
     "name": "stdout",
     "output_type": "stream",
     "text": [
      "2\n"
     ]
    }
   ],
   "source": [
    "s()"
   ]
  },
  {
   "cell_type": "code",
   "execution_count": 38,
   "id": "5e97d6d2-49a2-42eb-90e2-13e3df458aa1",
   "metadata": {},
   "outputs": [
    {
     "name": "stdout",
     "output_type": "stream",
     "text": [
      "3\n"
     ]
    }
   ],
   "source": [
    "s()"
   ]
  },
  {
   "cell_type": "code",
   "execution_count": 39,
   "id": "6835d375-c3c2-4b23-8e31-235bb918d46a",
   "metadata": {},
   "outputs": [
    {
     "name": "stdout",
     "output_type": "stream",
     "text": [
      "4\n"
     ]
    }
   ],
   "source": [
    "s()"
   ]
  },
  {
   "cell_type": "markdown",
   "id": "d9ccd56b-95e6-4b73-865c-aba0f7e6ac3a",
   "metadata": {},
   "source": [
    "global deyimi ile yaptığımız bu örneğin nonlocal ile yaptığımız örnekten belki de en önemli farkı, nonlocal örneğinde sayı değişkenine doğrudan erişememizdir. Ama sayı değişkenini say fonksiyonu tarafından kullanılmaktadır. Ancak bizim sayı değişkenine bizzat erişememiz, gördüğümüz gibi, silindiği anlamına gelmiyor…\n",
    "\n",
    "++++++++++İç İçe Fonksiyonların Kullanım Alanları\n",
    "\n",
    "Şu ana kadar iç içe fonksiyonların nasıl tanımlandığını ve nasıl çalıştığını öğrendik. Ancak öğrenme aşamasında olduğumuz için buraya kadar hep basit örnekler verdik. Şimdi bazı işe yarar örnekler vereceğiz ve ne zaman içe içe fonksiyon kullanıp ne zaman normal fonksiyonlar kullanmamızın daha doğru olacağını konuşacağız.\n",
    "\n",
    "Öncelikle şunu söyleyelim ki iç içe fonksiyonların en fazla kullanıldığı yer bezeyicilerdir. Bu daha sonra göreceğimiz bir konu ancak orada iç içe fonksiyonları çok fazla kullanacağız, haberiniz olsun.\n",
    "\n",
    "İç içe fonksiyonlar bazı işlemleri daha verimli yapmamızı sağlayabileceği gibi bazı işlemleri de (yanlış veya gereksiz yere kullanırsak) yavaşlatırlar. Mesela şu fonksiyona bakalım:"
   ]
  },
  {
   "cell_type": "code",
   "execution_count": 40,
   "id": "2fce7266-e3d4-4b35-98b0-dec519981a6d",
   "metadata": {},
   "outputs": [],
   "source": [
    "def işlem_yap(sayı, bölen, *eklenenler):\n",
    "    sonuç = sayı / bölen\n",
    "\n",
    "    for i in eklenenler:\n",
    "        sonuç += i\n",
    "\n",
    "    return sonuç"
   ]
  },
  {
   "cell_type": "markdown",
   "id": "a48fe2fa-d581-4f55-b115-5538be0dd049",
   "metadata": {},
   "source": [
    "Bu fonksiyonumuz aldığı sayı parametresini bölen parametresi ile böldükten sonra geriye kalan bütün parametreleri sonuca ekleyip geri döndürüyor. *eklenenler’in ne anlama geldiğini zaten daha önce öğrenmiştik. şimdi bu fonksiyonu kullanalım:"
   ]
  },
  {
   "cell_type": "code",
   "execution_count": 41,
   "id": "ad7b9d2a-28bd-49d9-85ce-9c980cc03f07",
   "metadata": {},
   "outputs": [
    {
     "data": {
      "text/plain": [
       "17.0"
      ]
     },
     "execution_count": 41,
     "metadata": {},
     "output_type": "execute_result"
    }
   ],
   "source": [
    "işlem_yap(10, 2, 5, 7)"
   ]
  },
  {
   "cell_type": "code",
   "execution_count": 42,
   "id": "ec4258d5-3045-4426-a07a-a29dd1d82601",
   "metadata": {},
   "outputs": [
    {
     "data": {
      "text/plain": [
       "6.0"
      ]
     },
     "execution_count": 42,
     "metadata": {},
     "output_type": "execute_result"
    }
   ],
   "source": [
    "işlem_yap(8, 4, 1, 3)"
   ]
  },
  {
   "cell_type": "markdown",
   "id": "5fbc87da-0233-47b1-8006-19cad470688a",
   "metadata": {},
   "source": [
    "Şimdi diyelim ki biz yazdığımız programda farklı sayı ve bölen parametreleri ile hep aynı eklenenler parametrelerini kullanacağız. Yani şunun gibi işlemler yapacağız:"
   ]
  },
  {
   "cell_type": "code",
   "execution_count": 43,
   "id": "da8e0165-5541-4dcb-940d-9df484b458e9",
   "metadata": {},
   "outputs": [
    {
     "data": {
      "text/plain": [
       "12.0"
      ]
     },
     "execution_count": 43,
     "metadata": {},
     "output_type": "execute_result"
    }
   ],
   "source": [
    "işlem_yap(4, 2, 1, 4, 5)"
   ]
  },
  {
   "cell_type": "code",
   "execution_count": 44,
   "id": "25ad509c-1be0-4350-bb94-73aa2ebb9a79",
   "metadata": {},
   "outputs": [
    {
     "data": {
      "text/plain": [
       "15.0"
      ]
     },
     "execution_count": 44,
     "metadata": {},
     "output_type": "execute_result"
    }
   ],
   "source": [
    "işlem_yap(60, 12, 1, 4, 5)"
   ]
  },
  {
   "cell_type": "code",
   "execution_count": 45,
   "id": "24cf8405-aa8c-415e-a273-19020ffb9d37",
   "metadata": {},
   "outputs": [
    {
     "data": {
      "text/plain": [
       "22.0"
      ]
     },
     "execution_count": 45,
     "metadata": {},
     "output_type": "execute_result"
    }
   ],
   "source": [
    "işlem_yap(48, 4, 1, 4, 5)"
   ]
  },
  {
   "cell_type": "code",
   "execution_count": 46,
   "id": "0566aac8-6f29-41b1-81d7-e339a89ee6cb",
   "metadata": {},
   "outputs": [
    {
     "data": {
      "text/plain": [
       "13.0"
      ]
     },
     "execution_count": 46,
     "metadata": {},
     "output_type": "execute_result"
    }
   ],
   "source": [
    "işlem_yap(12, 6, 3, 6, 2)"
   ]
  },
  {
   "cell_type": "markdown",
   "id": "8bc49382-067a-45ab-aba8-3e911848d8dc",
   "metadata": {},
   "source": [
    "Burada görebileceğimiz gibi aynı eklenenler değerleri çoklukla kullanılıyor. Böyle bir durumda toplama işlemini her seferinde gerçekleştirmemiz gereksiz oluyor. Bu işlemin sadece bir defa yapılmasını şu şekilde sağlayabiliriz:"
   ]
  },
  {
   "cell_type": "code",
   "execution_count": 47,
   "id": "ad2b3ac5-3319-4dc5-97cd-ad845af0cffb",
   "metadata": {},
   "outputs": [],
   "source": [
    "def işlem_yapıcı(*eklenenler):\n",
    "    ekle = 0\n",
    "    for i in eklenenler:\n",
    "        ekle += i\n",
    "\n",
    "    def işlem(sayı, bölen):\n",
    "        return sayı/bölen + ekle\n",
    "\n",
    "    return işlem"
   ]
  },
  {
   "cell_type": "markdown",
   "id": "43dcc7b1-614c-4a1d-b492-838e6761f592",
   "metadata": {},
   "source": [
    "Bu kodumuzda işlem_yapıcı fonksiyonu hep aynı olacağı için değişmeyecek olan eklenenler parametresini sadece bir defa alıyor ve hepsini topluyor, daha sonra işlem fonksiyonunu geri döndürüyor. işlem fonksiyonunu çağırdığımızda da sayı ve bölen parametrelerini veriyoruz ve işlemin sonucu bize geri dönüyor. İlk yaptığımız işlemleri bir de böyle kullanalım:"
   ]
  },
  {
   "cell_type": "code",
   "execution_count": 48,
   "id": "a28e84d2-b6b5-4187-815e-0d0df2dbe16a",
   "metadata": {},
   "outputs": [
    {
     "data": {
      "text/plain": [
       "12.0"
      ]
     },
     "execution_count": 48,
     "metadata": {},
     "output_type": "execute_result"
    }
   ],
   "source": [
    "işlemci = işlem_yapıcı(1, 4, 5)\n",
    "işlemci2 = işlem_yapıcı(3, 6, 2)\n",
    "işlemci(4, 2)"
   ]
  },
  {
   "cell_type": "code",
   "execution_count": 49,
   "id": "ba0527d5-565e-45e6-89bb-67f931f41830",
   "metadata": {},
   "outputs": [
    {
     "data": {
      "text/plain": [
       "15.0"
      ]
     },
     "execution_count": 49,
     "metadata": {},
     "output_type": "execute_result"
    }
   ],
   "source": [
    "işlemci(60, 12)\n"
   ]
  },
  {
   "cell_type": "code",
   "execution_count": 50,
   "id": "408022f1-7304-4b3c-9321-9942732a92f6",
   "metadata": {},
   "outputs": [
    {
     "data": {
      "text/plain": [
       "22.0"
      ]
     },
     "execution_count": 50,
     "metadata": {},
     "output_type": "execute_result"
    }
   ],
   "source": [
    "işlemci(48, 4)\n"
   ]
  },
  {
   "cell_type": "code",
   "execution_count": 51,
   "id": "8e1024b6-b17c-4d65-ae54-ca1feadc2b82",
   "metadata": {},
   "outputs": [
    {
     "data": {
      "text/plain": [
       "13.0"
      ]
     },
     "execution_count": 51,
     "metadata": {},
     "output_type": "execute_result"
    }
   ],
   "source": [
    "işlemci2(12, 6)\n"
   ]
  },
  {
   "cell_type": "code",
   "execution_count": 52,
   "id": "a5377718-ca13-4f0d-991b-6af0b82cc93a",
   "metadata": {},
   "outputs": [
    {
     "data": {
      "text/plain": [
       "14.0"
      ]
     },
     "execution_count": 52,
     "metadata": {},
     "output_type": "execute_result"
    }
   ],
   "source": [
    "işlemci2(12, 4)\n"
   ]
  },
  {
   "cell_type": "markdown",
   "id": "952b91b2-7af5-4901-b218-04e223eb43b3",
   "metadata": {},
   "source": [
    "Artık gerekli işlemi yapacak fonksiyonu sadece bir defa oluşturuyoruz ve sürekli onu kullanıyoruz. Bu da aynı parametrelerin sürekli fonksiyona parametre olarak yollanmasını engelliyor ve gerekli işlemlerin sadece bir defa yapılmasını sağlıyor. Kendi yazdığınız kodlarda herhangi bir amaç ile bir fonksiyon oluşturduğunuzda ve bu fonksiyonu da kullanırken bunun gibi bir durum ile karşılaştırdığımızda artık iç içe fonksiyonları kullanarak kodu nasıl daha verimli hale getireceğiniz hakkında aklınızda bir fikir oluşmuştur diye düşünüyorum.\n",
    "\n",
    "Şimdi de bir fonksiyon oluştururken o fonksiyonun içinde kod tekrarları yaptığımız fark ettiğimizi varsayalım. Böyle bir durumda bu kod tekrarlarını da azaltmak için bir fonksiyon daha yazmamız iyi olacaktır. Yani:\n",
    "\n"
   ]
  },
  {
   "cell_type": "code",
   "execution_count": 53,
   "id": "6280b76b-46c5-4d8d-b70b-9ed7537390ba",
   "metadata": {},
   "outputs": [],
   "source": [
    "def dosyadaki_karakter_sayısı(dosya, karakter):\n",
    "    sonuç = 0\n",
    "\n",
    "    if type(dosya) == str:\n",
    "        with open(dosya, \"r\") as f:\n",
    "            veri = f.read()\n",
    "            for i in veri:\n",
    "                if i == karakter:\n",
    "                    sonuç += 1\n",
    "    else:\n",
    "        veri = dosya.read()\n",
    "        for i in veri:\n",
    "            if i == karakter:\n",
    "                sonuç += 1\n",
    "\n",
    "    return sonuç\n"
   ]
  },
  {
   "cell_type": "markdown",
   "id": "b692562d-edc4-463a-a0d9-075656d62873",
   "metadata": {},
   "source": [
    "Elimizde bir dosyayı okuyacak ve bu dosyadaki belli bir karakterin sayını döndürecek bir fonksiyon var. Ama bu fonksiyon dosya parametresi olarak hem dosyanın ismini hem de açılmış bir dosyanın kendisini alabiliyor. if type(dosya) == str: kısmı dosya değişkeninin türünün str olup olmadığını kontrol ediyor, eğer öyleyse dosyayı açıyoruz ve okuyoruz. Öyle değilse dosyayı direkt okuyoruz. Dikkat ederseniz daha sonra yapılan işlemler aynı, yani:\n",
    "\n"
   ]
  },
  {
   "cell_type": "code",
   "execution_count": null,
   "id": "ef2d8d36-3788-462d-b762-560abd78cf39",
   "metadata": {},
   "outputs": [],
   "source": [
    "for i in veri:\n",
    "    if i == karakter:\n",
    "        sonuç += 1"
   ]
  },
  {
   "cell_type": "markdown",
   "id": "2f9020bf-384c-4db8-a6db-9515ca6f4a57",
   "metadata": {},
   "source": [
    "kısmı iki defa tekrar ediyor. Hatırlarsanız bir karakter dizisinin içinde herhangi bir karakterin kaç defa geçtiğini öğrenmek için count metodundan faydalanabiliriz:"
   ]
  },
  {
   "cell_type": "code",
   "execution_count": 55,
   "id": "de6b324f-6d20-4f3e-9a52-708a19cb1824",
   "metadata": {},
   "outputs": [
    {
     "data": {
      "text/plain": [
       "2"
      ]
     },
     "execution_count": 55,
     "metadata": {},
     "output_type": "execute_result"
    }
   ],
   "source": [
    "\"merhaba\".count(\"a\")\n"
   ]
  },
  {
   "cell_type": "markdown",
   "id": "962369a8-5b47-4a06-a054-7a5f4a714e19",
   "metadata": {},
   "source": [
    "Ama burada örneğimiz anlaşılsın diye bunu kendimiz yapıyoruz.\n",
    "\n",
    "Şimdi yukarıdaki tekrar eden yeri şu şekilde ayrı bir fonksiyon haline getirebiliriz:"
   ]
  },
  {
   "cell_type": "code",
   "execution_count": null,
   "id": "a1550ec1-526c-4661-a49e-a601d86bf548",
   "metadata": {},
   "outputs": [],
   "source": [
    "def karakter_sayısı(karakter_dizisi, karakter):\n",
    "    sayaç = 0\n",
    "    for i in karakter_dizisi:\n",
    "        if i == karakter:\n",
    "            sayaç += 1\n",
    "    return sayaç\n",
    "\n",
    "def dosyadaki_karakter_sayısı(dosya, karakter):\n",
    "    if type(dosya) == str:\n",
    "        with open(dosya, \"r\") as f:\n",
    "            return karakter_sayısı(f.read(), karakter)\n",
    "    else:\n",
    "        return karakter_sayısı(dosya.read(), karakter)"
   ]
  },
  {
   "cell_type": "markdown",
   "id": "25b7d8a6-29b5-4d86-b37d-35d2ee6222ed",
   "metadata": {},
   "source": [
    "Artık karakter dizisinin içinde bir karakterin kaç defa geçtiğini bulmak için karakter_sayısı sayısı adlı fonksiyon yararlanıyoruz. Ancak bizim bu fonksiyonu tanımlama sebebimiz dosyadaki_karakter_sayısı fonksiyonunda yaptığımız bir işlemi yerine getirmekdi. Eğer karakter_sayısı fonksiyonunu programımızda sadece dosyadaki_karakter_sayısı fonksiyonu içinde kullanacaksak bu fonksiyonu global alanda tanımlamamıza gerek yokü, dosyadaki_karakter_sayısı fonksiyonunun içinde de tanımlayabiliriz:"
   ]
  },
  {
   "cell_type": "code",
   "execution_count": null,
   "id": "5869c224-54e4-4a80-af28-47c751f9c59c",
   "metadata": {},
   "outputs": [],
   "source": [
    "def dosyadaki_karakter_sayısı(dosya, karakter):\n",
    "\n",
    "    def karakter_sayısı(karakter_dizisi):\n",
    "        sayaç = 0\n",
    "        for i in karakter_dizisi:\n",
    "            if i == karakter:\n",
    "                sayaç += 1\n",
    "        return sayaç\n",
    "\n",
    "    if type(dosya) == str:\n",
    "        with open(dosya, \"r\") as f:\n",
    "            return karakter_sayısı(f.read())\n",
    "    else:\n",
    "        return karakter_sayısı(dosya.read())"
   ]
  },
  {
   "cell_type": "markdown",
   "id": "40484d18-6a5f-431d-a3fc-0799421e21ab",
   "metadata": {},
   "source": [
    "Ayrıca bu şekilde karakter_sayısı fonksiyonunun karakter şeklinde bir parametreye ihtiyacı kalmadı, zaten dosyadaki_karakter_sayısı fonksiyonunun içindeki karakter değişkenine erişebiliyor. İç içe fonksiyonları bunun gibi durumlarda da kullanabiliriz.\n",
    "\n",
    "++++++++++Üreteçler (Generators)\n",
    "\n",
    "Biz üreteçlerle az çok tanışıyoruz. Liste üreteçleri olsun, sözlük üreteçleri olsun bu konu hakkında bir şeyler öğrenmiştik. Ancak biz üreteçlerimizi hep şunun gibi tanımlamıştık:\n",
    "\n"
   ]
  },
  {
   "cell_type": "code",
   "execution_count": 56,
   "id": "6755fee5-bfe1-4d4e-8f20-6ae485bb3140",
   "metadata": {},
   "outputs": [
    {
     "data": {
      "text/plain": [
       "[0, 1, 2, 3, 4, 5, 6, 7, 8, 9]"
      ]
     },
     "execution_count": 56,
     "metadata": {},
     "output_type": "execute_result"
    }
   ],
   "source": [
    "listem = [i for i in range(10)]\n",
    "listem"
   ]
  },
  {
   "cell_type": "markdown",
   "id": "66edcc41-d262-4f17-a63d-d75245d8c428",
   "metadata": {},
   "source": [
    "Dikkat ederseniz burada i for i in range(10) kısmı (nasıl lambda fonksiyonlar normal yolla tanımlanan fonksiyonlardan farklı bir söz dizimi kullanıyorsa) normal kodlardan biraz farklı bir söz dizimi kullanıyor. Bu söz dizimi ile karmaşık algoritmalar oluşturmak zordur, çoğunlukla da mümkün değildir. Zaten bunun bulunma sebebi karmaşık algoritmalarda kullanılması değil, kısa işlerde yazım kolaylığı sağlamasıdır. Yani bu yazım şekli, bazı fonksiyonların lambda olarak tanımlanması gibi, üreteç tanımlamanın sadece kısa bir yoludur. Peki aslında üreteçler nasıl tanımlanır? Şimdi gelin bu konuyu inceleyelim.\n",
    "\n",
    "++++++++++++Üreteçlere Giriş\n",
    "\n",
    "Üreteçler, fonksiyonlara benzer şekilde tanımlanır. Hatta tek farkının yield adındaki bir ifade olduğunu söyleyebiliriz. Hatırlarsanız iç içe fonksiyonlar konusunda üreteçler konusuna birkaç defa atıfta bulunmuştuk. Bu yüzden aynı işi yapacak iç içe bir fonksiyon ile bir üreteci karşılaştırarak konuya başlamak istiyorum:\n",
    "\n"
   ]
  },
  {
   "cell_type": "code",
   "execution_count": 58,
   "id": "9a5e0f91-0d6a-428f-8f52-b2486613c28e",
   "metadata": {},
   "outputs": [],
   "source": [
    "def fonksiyon_sayıcı():\n",
    "    sayı = 0\n",
    "    def say():\n",
    "        nonlocal sayı\n",
    "        sayı += 1\n",
    "        return sayı\n",
    "    return say\n",
    "\n",
    "def üreteç_sayıcı():\n",
    "    sayı = 0\n",
    "    while True:\n",
    "        sayı += 1\n",
    "        yield sayı"
   ]
  },
  {
   "cell_type": "markdown",
   "id": "6f054301-9c5b-429c-b49f-ba4e5d02dd69",
   "metadata": {},
   "source": [
    "Endişe etmeyin. İleride üreteç_sayıcı’nın nasıl çalıştığını inceleyeceğiz. Şimdilik sadece şuraya odaklanalım:\n",
    "\n"
   ]
  },
  {
   "cell_type": "code",
   "execution_count": 59,
   "id": "ce46d30c-7a9c-46b9-9344-2ae5e201610b",
   "metadata": {},
   "outputs": [
    {
     "data": {
      "text/plain": [
       "function"
      ]
     },
     "execution_count": 59,
     "metadata": {},
     "output_type": "execute_result"
    }
   ],
   "source": [
    "type(fonksiyon_sayıcı)\n"
   ]
  },
  {
   "cell_type": "code",
   "execution_count": 60,
   "id": "b9803592-aea2-4ac2-9aa7-b4c5642d1640",
   "metadata": {},
   "outputs": [
    {
     "data": {
      "text/plain": [
       "function"
      ]
     },
     "execution_count": 60,
     "metadata": {},
     "output_type": "execute_result"
    }
   ],
   "source": [
    "type(üreteç_sayıcı)\n"
   ]
  },
  {
   "cell_type": "code",
   "execution_count": 61,
   "id": "64f59d69-8b50-42f7-b230-821048e6dc09",
   "metadata": {},
   "outputs": [],
   "source": [
    "fonk = fonksiyon_sayıcı()\n",
    "üreteç = üreteç_sayıcı()\n"
   ]
  },
  {
   "cell_type": "code",
   "execution_count": 62,
   "id": "36431eff-f296-4462-b0b2-d630395c060a",
   "metadata": {},
   "outputs": [
    {
     "data": {
      "text/plain": [
       "function"
      ]
     },
     "execution_count": 62,
     "metadata": {},
     "output_type": "execute_result"
    }
   ],
   "source": [
    "type(fonk)"
   ]
  },
  {
   "cell_type": "code",
   "execution_count": 63,
   "id": "dff0d8c2-8226-42fe-831e-d8598d47cdaf",
   "metadata": {},
   "outputs": [
    {
     "data": {
      "text/plain": [
       "generator"
      ]
     },
     "execution_count": 63,
     "metadata": {},
     "output_type": "execute_result"
    }
   ],
   "source": [
    "type(üreteç)"
   ]
  },
  {
   "cell_type": "code",
   "execution_count": 64,
   "id": "f42a05c8-b718-4ca0-adf1-be51254223ca",
   "metadata": {},
   "outputs": [
    {
     "data": {
      "text/plain": [
       "1"
      ]
     },
     "execution_count": 64,
     "metadata": {},
     "output_type": "execute_result"
    }
   ],
   "source": [
    "fonk()"
   ]
  },
  {
   "cell_type": "code",
   "execution_count": 65,
   "id": "f6129c13-1f37-48d2-9197-35a9c9d880b2",
   "metadata": {},
   "outputs": [
    {
     "data": {
      "text/plain": [
       "2"
      ]
     },
     "execution_count": 65,
     "metadata": {},
     "output_type": "execute_result"
    }
   ],
   "source": [
    "fonk()"
   ]
  },
  {
   "cell_type": "code",
   "execution_count": 66,
   "id": "84737fa6-1826-42b6-9038-03cbf57e6541",
   "metadata": {},
   "outputs": [
    {
     "data": {
      "text/plain": [
       "3"
      ]
     },
     "execution_count": 66,
     "metadata": {},
     "output_type": "execute_result"
    }
   ],
   "source": [
    "fonk()"
   ]
  },
  {
   "cell_type": "code",
   "execution_count": 67,
   "id": "a859a4c7-6025-41eb-977f-5e456e0bcfb8",
   "metadata": {},
   "outputs": [
    {
     "data": {
      "text/plain": [
       "4"
      ]
     },
     "execution_count": 67,
     "metadata": {},
     "output_type": "execute_result"
    }
   ],
   "source": [
    "fonk()"
   ]
  },
  {
   "cell_type": "code",
   "execution_count": 68,
   "id": "29cf5ca8-a23b-49b5-a4c8-6b0c439e8c28",
   "metadata": {},
   "outputs": [
    {
     "data": {
      "text/plain": [
       "1"
      ]
     },
     "execution_count": 68,
     "metadata": {},
     "output_type": "execute_result"
    }
   ],
   "source": [
    "next(üreteç)"
   ]
  },
  {
   "cell_type": "code",
   "execution_count": 69,
   "id": "cc424daf-3485-4577-a36a-657397fe4948",
   "metadata": {},
   "outputs": [
    {
     "data": {
      "text/plain": [
       "2"
      ]
     },
     "execution_count": 69,
     "metadata": {},
     "output_type": "execute_result"
    }
   ],
   "source": [
    "next(üreteç)"
   ]
  },
  {
   "cell_type": "code",
   "execution_count": 70,
   "id": "99d7682b-275a-4d20-9ca7-e0d8d15ef3e1",
   "metadata": {},
   "outputs": [
    {
     "data": {
      "text/plain": [
       "3"
      ]
     },
     "execution_count": 70,
     "metadata": {},
     "output_type": "execute_result"
    }
   ],
   "source": [
    "next(üreteç)"
   ]
  },
  {
   "cell_type": "code",
   "execution_count": 71,
   "id": "49a043e9-9a4a-4180-b7ce-0fe55b45c244",
   "metadata": {},
   "outputs": [
    {
     "data": {
      "text/plain": [
       "4"
      ]
     },
     "execution_count": 71,
     "metadata": {},
     "output_type": "execute_result"
    }
   ],
   "source": [
    "next(üreteç)"
   ]
  },
  {
   "cell_type": "markdown",
   "id": "f2e50103-73de-46ff-b90d-547eefe32056",
   "metadata": {},
   "source": [
    "fonk ve üreteç değişkenlerini kullanarak elde ettiğimiz sonuçların aynı olduğunu görebiliyorsunuz. Şimdi bundan faydalanarak tanımlanma şekillerini anlamaya çalışalım.\n",
    "\n",
    "fonk fonksiyonunun nasıl çalıştığını zaten iç içe fonksiyonlar konusunda gördük. Şimdi next fonksiyonu ve yield deyimi ile alakalı konuşalım. Öncelikle şunu söylemek gerekir ki next fonksiyonu, gömülü bir fonksiyondur. Ne işe yaradığını anlamak için ise yield deyimini anlamamız gerekiyor. Eğer kodumuzu ve aldığımız çıktıları incelerseniz yield deyiminin, return deyimine bazı yönlerden benzediğini fark edebilirsiniz. Tabii önemli farklılıklar da var. Bir kere fark edeceğiniz gibi yield deyimi hangi değeri döndüreceğimizi belirliyor. Peki bu döndürme işleminin return ile değer döndürmekten ne farkı var? Bir fonksiyonun içinde return deyimine ulaşıldığında fonksiyon sonlanır ve fonksiyona ait yerel değişkenler silinir. yield deyiminde böyle bir şey söz konusu değildir. Aynı iç içe fonksiyonlarda iç fonksiyonunun dış fonksiyondaki değişkeni kullanması gibi üreteçlerin de yerel değişkenleri Python tarafından saklanır. Ancak üreteçlerde belli değişkenler değil, yerel değişkenlerin tamamı saklanır. Şimdi yukarıdaki örnekte şu üç kısma tekrar bakarsak:\n",
    "\n"
   ]
  },
  {
   "cell_type": "code",
   "execution_count": 72,
   "id": "0209df48-2126-401a-8757-444bf667e376",
   "metadata": {},
   "outputs": [
    {
     "data": {
      "text/plain": [
       "function"
      ]
     },
     "execution_count": 72,
     "metadata": {},
     "output_type": "execute_result"
    }
   ],
   "source": [
    "type(fonksiyon_sayıcı)\n"
   ]
  },
  {
   "cell_type": "code",
   "execution_count": 73,
   "id": "fb3bac29-84e5-4dd3-b428-df6d9f42b8c6",
   "metadata": {},
   "outputs": [
    {
     "data": {
      "text/plain": [
       "function"
      ]
     },
     "execution_count": 73,
     "metadata": {},
     "output_type": "execute_result"
    }
   ],
   "source": [
    "type(üreteç_sayıcı)\n"
   ]
  },
  {
   "cell_type": "code",
   "execution_count": 74,
   "id": "cd67ccf4-828c-4753-bb4f-729cbbc6794d",
   "metadata": {},
   "outputs": [],
   "source": [
    "fonk = fonksiyon_sayıcı()\n",
    "üreteç = üreteç_sayıcı()\n"
   ]
  },
  {
   "cell_type": "code",
   "execution_count": 75,
   "id": "9876e6c3-e045-4a65-8be4-d8e7172327fd",
   "metadata": {},
   "outputs": [
    {
     "data": {
      "text/plain": [
       "function"
      ]
     },
     "execution_count": 75,
     "metadata": {},
     "output_type": "execute_result"
    }
   ],
   "source": [
    "type(fonk)\n"
   ]
  },
  {
   "cell_type": "code",
   "execution_count": 76,
   "id": "a0ea25bf-e7a1-4f09-b5ae-ae09654c32bc",
   "metadata": {},
   "outputs": [
    {
     "data": {
      "text/plain": [
       "generator"
      ]
     },
     "execution_count": 76,
     "metadata": {},
     "output_type": "execute_result"
    }
   ],
   "source": [
    "type(üreteç)\n"
   ]
  },
  {
   "cell_type": "markdown",
   "id": "b2bf71c7-10e7-4912-8d14-a46840e13355",
   "metadata": {},
   "source": [
    "Şunu görüyoruz ki üreteç_sayıcı aslında bir fonksiyon. Ama alelade bir fonksiyon değil, çağrıldığında generator nesnesi döndüren bir fonksiyon. Yani aynı iç içe fonksiyonlarda önce kapsayıcı fonksiyonu çağırıp dönüş değerini kullandığımız gibi üreteçlerde de önce üreteci tanımladığımız fonksiyonu çağırıp dönüş değerini kullanıyoruz. Çünkü aslında üreteç olan nesne, bu döndürülen değerdir. Ve aynı iç içe fonksiyonlarda olduğu gibi bu durum birbirinden bağımsız ancak aynı işi yapan değişkenler oluşturmamızı sağlar. Dikkat ederseniz iç içe fonksiyonlar ve üreteçler, çalışma prensibi açısından benzerler. Ancak üreteçler yield ifadesininin kullanımı ile bize daha kullanışlı bir algoritma şekli vermektedir.\n",
    "\n",
    "Şu ana kadar üreteçlerin nasıl tanımlandığı ve nasıl kullanıldığı hakkında pek de bilgi vermedik. Yaptığımız şey, iç içe fonksiyonlar ile üreteçlerin, çalışma prensiblerinin ne kadar benzer olduğuna dikkat çekmek idi. Şimdi next fonksiyonu ve yield deyimi hakkında konuşarak kendi üreteçlerimizi nasıl tanımlayacağımıza bakalım.\n",
    "\n",
    "+++++++++++++Üreteçlerin Tanımlanması\n",
    "\n",
    "‘yield’ Deyimi ve ‘next’ Fonksiyonu\n",
    "next fonksiyonunun gömülü bir fonksiyon olduğunu söylemiştik. yield deyimi da üretecimizden değer döndürmemizi sağlıyordu. Peki bu işlemler hangi kurallar çerçevesinde gerçekleşiyor?\n",
    "\n",
    "Basit bir üreteç tanımlayarak yield metodunu anlatmaya çalışalım:"
   ]
  },
  {
   "cell_type": "code",
   "execution_count": 77,
   "id": "55e8f849-d0e8-40db-9a49-a60e3bd1533f",
   "metadata": {},
   "outputs": [],
   "source": [
    "def üreteç():\n",
    "        yield \"Merhaba\"\n",
    "        yield \"Dünya\""
   ]
  },
  {
   "cell_type": "markdown",
   "id": "180a2079-5e18-4b66-a21f-fe017c5abb41",
   "metadata": {},
   "source": [
    "return deyiminin fonksiyonu sonlandırırken yield deyimi üretecin çalışmasına ara verir ve sağındaki değişkeni geriye döndürür. Herhangi bir değer verilmemiş ise None döndürecektir. Şimdi kodumuzu çalıştıralım:\n",
    "\n"
   ]
  },
  {
   "cell_type": "code",
   "execution_count": 78,
   "id": "513497a5-0412-4a36-b25a-e0c7bac0d8b8",
   "metadata": {},
   "outputs": [
    {
     "data": {
      "text/plain": [
       "'Merhaba'"
      ]
     },
     "execution_count": 78,
     "metadata": {},
     "output_type": "execute_result"
    }
   ],
   "source": [
    "g = üreteç()\n",
    "next(g)"
   ]
  },
  {
   "cell_type": "code",
   "execution_count": 79,
   "id": "3915aa8b-051a-40c0-a533-5ea7219c84e0",
   "metadata": {},
   "outputs": [
    {
     "data": {
      "text/plain": [
       "'Dünya'"
      ]
     },
     "execution_count": 79,
     "metadata": {},
     "output_type": "execute_result"
    }
   ],
   "source": [
    "next(g)\n"
   ]
  },
  {
   "cell_type": "code",
   "execution_count": 80,
   "id": "61714702-7813-4b3a-8013-02238ddec3ed",
   "metadata": {},
   "outputs": [
    {
     "ename": "StopIteration",
     "evalue": "",
     "output_type": "error",
     "traceback": [
      "\u001b[0;31m---------------------------------------------------------------------------\u001b[0m",
      "\u001b[0;31mStopIteration\u001b[0m                             Traceback (most recent call last)",
      "Cell \u001b[0;32mIn[80], line 1\u001b[0m\n\u001b[0;32m----> 1\u001b[0m \u001b[38;5;28;43mnext\u001b[39;49m\u001b[43m(\u001b[49m\u001b[43mg\u001b[49m\u001b[43m)\u001b[49m\n",
      "\u001b[0;31mStopIteration\u001b[0m: "
     ]
    }
   ],
   "source": [
    "next(g)\n"
   ]
  },
  {
   "cell_type": "markdown",
   "id": "9134f91e-2c00-47e6-84af-36b6a01a6f47",
   "metadata": {},
   "source": [
    "Çıktımızı incelersek next fonksiyonunun, kendisine verilen üretecin kodunu bir yield deyimine rastlayana kadar çalıştırdığını, yield deyimine rastladığında ise deyimin sağındaki değişkeni döndürdüğünü görebiliriz. Unutmayalım ki bu döndürme işlemini yapan next fonksiyonudur. Üretecimizin içinde herhangi bir yönerge kalmadığında ise next fonksiyonumuz StopIteration hatası yükseltmektedir.\n",
    "\n"
   ]
  },
  {
   "cell_type": "raw",
   "id": "aa0670c4-ff8f-4cdd-962c-fa28b76fee4a",
   "metadata": {},
   "source": [
    "‘next’ fonksiyonunun burada yaptığı iş için ‘yineleme (iteration)’ terimi kullanılır. ‘next’ fonksiyonuna parametre olarak verilebilen nesneler ise birer ‘yinelenebilir nesne (iterable object)’dir. ‘generator’ sınıfı yinelenebilir nesnelere bir örnektir."
   ]
  },
  {
   "cell_type": "markdown",
   "id": "ef939264-4fbd-4a90-95aa-b2b0bd6fe5c3",
   "metadata": {},
   "source": [
    "Bir örnek daha yapalım:\n",
    "\n"
   ]
  },
  {
   "cell_type": "code",
   "execution_count": 81,
   "id": "8616530e-0aac-4667-900f-abad35c2afb7",
   "metadata": {},
   "outputs": [],
   "source": [
    "def üreteç():\n",
    "    print(\"üreteç ilk defa next fonksiyonu ile kullanıldı.\")\n",
    "    yield \"1. yield\"\n",
    "    print(\"üreteç ikinci defa next fonksiyonu ile kullanıldı.\")\n",
    "    yield \"2. yield\"\n",
    "    print(\"üreteç üçüncü defa next fonksiyonu ile kullanıldı ve bitti.\")"
   ]
  },
  {
   "cell_type": "code",
   "execution_count": 82,
   "id": "fea38535-a24b-4820-a7bb-e6f8f14517ab",
   "metadata": {},
   "outputs": [
    {
     "name": "stdout",
     "output_type": "stream",
     "text": [
      "üreteç ilk defa next fonksiyonu ile kullanıldı.\n"
     ]
    }
   ],
   "source": [
    "g = üreteç()\n",
    "ilk_dönüş = next(g)"
   ]
  },
  {
   "cell_type": "code",
   "execution_count": 83,
   "id": "53ac2f2f-bae0-477e-b7ca-14a354bb2536",
   "metadata": {},
   "outputs": [
    {
     "name": "stdout",
     "output_type": "stream",
     "text": [
      "üreteç ikinci defa next fonksiyonu ile kullanıldı.\n"
     ]
    }
   ],
   "source": [
    "ikinci_dönüş = next(g)"
   ]
  },
  {
   "cell_type": "code",
   "execution_count": 84,
   "id": "281f6344-22c6-49d4-8874-2e4cab4fee96",
   "metadata": {},
   "outputs": [
    {
     "name": "stdout",
     "output_type": "stream",
     "text": [
      "üreteç üçüncü defa next fonksiyonu ile kullanıldı ve bitti.\n"
     ]
    },
    {
     "ename": "StopIteration",
     "evalue": "",
     "output_type": "error",
     "traceback": [
      "\u001b[0;31m---------------------------------------------------------------------------\u001b[0m",
      "\u001b[0;31mStopIteration\u001b[0m                             Traceback (most recent call last)",
      "Cell \u001b[0;32mIn[84], line 1\u001b[0m\n\u001b[0;32m----> 1\u001b[0m son_dönüş \u001b[38;5;241m=\u001b[39m \u001b[38;5;28;43mnext\u001b[39;49m\u001b[43m(\u001b[49m\u001b[43mg\u001b[49m\u001b[43m)\u001b[49m\n",
      "\u001b[0;31mStopIteration\u001b[0m: "
     ]
    }
   ],
   "source": [
    "son_dönüş = next(g)"
   ]
  },
  {
   "cell_type": "code",
   "execution_count": 85,
   "id": "39a2385c-ee98-4cc2-85b2-194406bfbfa2",
   "metadata": {},
   "outputs": [
    {
     "data": {
      "text/plain": [
       "'1. yield'"
      ]
     },
     "execution_count": 85,
     "metadata": {},
     "output_type": "execute_result"
    }
   ],
   "source": [
    "ilk_dönüş"
   ]
  },
  {
   "cell_type": "code",
   "execution_count": 86,
   "id": "fecc13fd-f31e-4cc3-9ce4-f5440e181505",
   "metadata": {},
   "outputs": [
    {
     "data": {
      "text/plain": [
       "'2. yield'"
      ]
     },
     "execution_count": 86,
     "metadata": {},
     "output_type": "execute_result"
    }
   ],
   "source": [
    "ikinci_dönüş"
   ]
  },
  {
   "cell_type": "code",
   "execution_count": 87,
   "id": "1c12441c-f64e-4967-9e1b-6a77069fcc3b",
   "metadata": {},
   "outputs": [
    {
     "ename": "NameError",
     "evalue": "name 'son_dönüş' is not defined",
     "output_type": "error",
     "traceback": [
      "\u001b[0;31m---------------------------------------------------------------------------\u001b[0m",
      "\u001b[0;31mNameError\u001b[0m                                 Traceback (most recent call last)",
      "Cell \u001b[0;32mIn[87], line 1\u001b[0m\n\u001b[0;32m----> 1\u001b[0m \u001b[43mson_dönüş\u001b[49m\n",
      "\u001b[0;31mNameError\u001b[0m: name 'son_dönüş' is not defined"
     ]
    }
   ],
   "source": [
    "son_dönüş"
   ]
  },
  {
   "cell_type": "markdown",
   "id": "c9cbd309-405a-4214-9f2f-b9f8504c0143",
   "metadata": {},
   "source": [
    "Örneğimiz gayet açık. next fonksiyonu kendisine verilen üretecin kodunu en sol kaldığı yerden çalıştırmaya devam ediyor, bir yield ifadesine denk geldiğinde de üretecin çalışması duruyor ve next fonksiyonu yield deyiminin sağındaki değeri geri döndürüyor. Tabii son_dönüş’ün None olmak yerine tanımlanmamış olması da ilginç gelmiş olabilir. Bunu da şu örnekle açıklayabiliriz:"
   ]
  },
  {
   "cell_type": "raw",
   "id": "1cb7f32a-e4d0-4aee-9de5-f284cd88bd93",
   "metadata": {},
   "source": [
    "def hata():\n",
    "        raise Exception\n",
    "\n",
    "dönüş = hata()\n",
    "Traceback (most recent call last):\n",
    "  File \"<pyshell#8>\", line 1, in <module>\n",
    "    dönüş = hata()\n",
    "  File \"<pyshell#7>\", line 2, in hata\n",
    "    raise Exception\n",
    "Exception\n",
    "dönüş\n",
    "Traceback (most recent call last):\n",
    "  File \"<pyshell#9>\", line 1, in <module>\n",
    "    dönüş\n",
    "NameError: name 'dönüş' is not defined"
   ]
  },
  {
   "cell_type": "markdown",
   "id": "7de55c4d-ca94-4f09-8937-2e866598cd23",
   "metadata": {},
   "source": [
    "Gördüğümüz gibi son_dönüş değişkenimizin tanımlanmamış olmasının sebebi de next fonksiyonunun değer döndürmek yerine hata yükseltmiş olmasıdır.\n",
    "\n",
    "Buraya kadar yaptığımız örnekleri iç içe fonksiyonlar ile de kolayca yapabilirdik. Üreteçlerin önemli bir özelliği de tanımlanırken , fonksiyonlar gibi, her türlü ifade ile kullanılabilmesidir. Örnek olarak while döngüsü kullanarak, 1’den başlayarak her yinelediğimizde fibonacci sayı dizisinin bir sonraki elemanını döndürecek bir üreteç yazalım:\n",
    "\n"
   ]
  },
  {
   "cell_type": "code",
   "execution_count": 90,
   "id": "3f1c7bac-aaa9-4623-a645-da4e3df55d75",
   "metadata": {},
   "outputs": [],
   "source": [
    "def fibonacci():\n",
    "    x = 1\n",
    "    y = 0\n",
    "    z = 0\n",
    "    while True:\n",
    "        z = y\n",
    "        y = x\n",
    "        x = y + z\n",
    "        yield x"
   ]
  },
  {
   "cell_type": "raw",
   "id": "26912531-305c-4377-922c-d9cf429dbeaf",
   "metadata": {},
   "source": [
    "Fibonacci dizisi, 0 ve 1 ile başlayan ve her sayının kendisinden önce gelen iki sayının toplanması ile elde edildiği bir sayı dizisidir. İtalyan matematikçi Leonardo Fibonacci’den adını alır. 0, 1, 1 (0+1), 2 (1+1), 3 (1+2), 5 (2+3), 8 (3+5), 13 (5+8), 21 (8+13), 34 (13+21) şeklinde devam eder."
   ]
  },
  {
   "cell_type": "markdown",
   "id": "65ef8b2d-20b9-4a3d-89b6-f2e318a4c712",
   "metadata": {},
   "source": [
    "Şimdi bu kodu çalıştıralım:\n",
    "\n"
   ]
  },
  {
   "cell_type": "code",
   "execution_count": 91,
   "id": "080bc29e-02ff-4f88-95e0-726126630e77",
   "metadata": {},
   "outputs": [
    {
     "data": {
      "text/plain": [
       "1"
      ]
     },
     "execution_count": 91,
     "metadata": {},
     "output_type": "execute_result"
    }
   ],
   "source": [
    "f = fibonacci()\n",
    "next(f)"
   ]
  },
  {
   "cell_type": "code",
   "execution_count": 92,
   "id": "d6e27b4d-2988-40df-99ae-57e97db561fd",
   "metadata": {},
   "outputs": [
    {
     "data": {
      "text/plain": [
       "2"
      ]
     },
     "execution_count": 92,
     "metadata": {},
     "output_type": "execute_result"
    }
   ],
   "source": [
    "next(f)"
   ]
  },
  {
   "cell_type": "code",
   "execution_count": 98,
   "id": "32bba09d-adfa-4126-ac54-bcd367ede8a6",
   "metadata": {},
   "outputs": [
    {
     "data": {
      "text/plain": [
       "21"
      ]
     },
     "execution_count": 98,
     "metadata": {},
     "output_type": "execute_result"
    }
   ],
   "source": [
    "next(f)"
   ]
  },
  {
   "cell_type": "code",
   "execution_count": 99,
   "id": "74df7ece-7efa-499a-8875-2b0b224fdd9c",
   "metadata": {},
   "outputs": [
    {
     "data": {
      "text/plain": [
       "34"
      ]
     },
     "execution_count": 99,
     "metadata": {},
     "output_type": "execute_result"
    }
   ],
   "source": [
    "next(f)"
   ]
  },
  {
   "cell_type": "code",
   "execution_count": 96,
   "id": "91d4dec5-e1fd-4562-9fa1-07be4c20288c",
   "metadata": {},
   "outputs": [
    {
     "data": {
      "text/plain": [
       "13"
      ]
     },
     "execution_count": 96,
     "metadata": {},
     "output_type": "execute_result"
    }
   ],
   "source": [
    "next(f)"
   ]
  },
  {
   "cell_type": "markdown",
   "id": "776062f1-7ae2-4d43-980b-a8eae6cfaa51",
   "metadata": {},
   "source": [
    "Gördüğünüz gibi üretecimiz bize (ilk 0 ve 1 sonrasındaki) fibonacci sayılarını vermektedir. Kodumuzu anlamaya çalışırsak:\n",
    "\n",
    "İlk yinelemede, yani next fonksiyonunu ilk kullanışımızda, x, y ve z değişkenleri tanımlanıyor. Daha sonra while döngüsüne giriliyor. Değişkenlerin değerleri değiştirildikten sonra yield x deyimine geldiğimiz için next fonksiyonu x değerini döndürürerek üretecemizin çalışmasını durduruyor.\n",
    "\n",
    "İkinci yinelememizde normal bir kodda olacağı gibi while döngümüzün başına gidiliyor. Aynı işlemler tekrarlanıyor. Tekrar yield deyimine geliniyor. x değeri döndürürülüyor. Üretecimizin çalışması durduruluyor ve aynı şeyler tekrar etmeye devam ediyor.\n",
    "\n",
    "Üreteçlerin çok güzel özelliklerinden biri de for döngüsü ile kullanılabilmeleridir. Örneğin fibonacci üretecimiz için bunu uygulayalım:\n",
    "\n"
   ]
  },
  {
   "cell_type": "raw",
   "id": "4a4426a6-2b05-4a8e-97f3-5db29be3c3d1",
   "metadata": {},
   "source": [
    "for i in fibonacci():\n",
    "    print(i)\n",
    "\n",
    "1\n",
    "2\n",
    "3\n",
    "5\n",
    "8\n",
    "13\n",
    "21\n",
    "34\n",
    "55\n",
    "89\n",
    "144"
   ]
  },
  {
   "cell_type": "markdown",
   "id": "e1618e90-715f-49f4-836d-82537009e71e",
   "metadata": {},
   "source": [
    "for i in fibonacci() ifadesinde fibonacci fonksiyonunu çağırdığımıza dikkat edin. Sonuçta üretecimizin kendisi fibonacci fonksiyonu değil, onun döndüreceği değer."
   ]
  },
  {
   "cell_type": "markdown",
   "id": "af5926f2-14f6-4f58-aaf0-4ddc4aaad4e7",
   "metadata": {},
   "source": [
    "Ancak bu örnekte üretecimiz hiç durmuyor. Bazen üreteçlerimizin durmasını isteyebiliriz. Bunu yapmamız için tek gereken şey üretecimizin durmasını istediğimiz yerde üretecimizi return etmemizdir. Sonuçta üreteçler de bir tür fonksiyondur ve return deyimi fonksiyonları sonlandırır (bu return deyiminden dönen değer üreteçlerde bize ulaşmaz). Bu durum next fonksiyonunun StopIteration yükseltmesine neden olur. for döngüsü bu hatayı yakalar ve üretecimizin bittiğini anlar:"
   ]
  },
  {
   "cell_type": "code",
   "execution_count": 101,
   "id": "47a23999-bd52-457c-8a81-677aab05e091",
   "metadata": {},
   "outputs": [],
   "source": [
    "def fibonacci():\n",
    "    x = 1\n",
    "    y = 0\n",
    "    z = 0\n",
    "    while True:\n",
    "        z = y\n",
    "        y = x\n",
    "        x = y + z\n",
    "        yield x\n",
    "        if x > 100:\n",
    "            return"
   ]
  },
  {
   "cell_type": "code",
   "execution_count": 102,
   "id": "0fa493d0-2469-4729-bfc5-be63019de66d",
   "metadata": {},
   "outputs": [
    {
     "name": "stdout",
     "output_type": "stream",
     "text": [
      "1\n",
      "2\n",
      "3\n",
      "5\n",
      "8\n",
      "13\n",
      "21\n",
      "34\n",
      "55\n",
      "89\n",
      "144\n"
     ]
    }
   ],
   "source": [
    "for i in fibonacci():\n",
    "        print(i)"
   ]
  },
  {
   "cell_type": "markdown",
   "id": "f67e9335-d0bb-4c9a-bf5d-756eca1f29d9",
   "metadata": {},
   "source": [
    "Gördüğünüz gibi üretecimiz 100’den büyük bir tane daha değer yazıp durdu. Tabii burada fazladan bir if kullanmak yerine bu şartı while’dan sonra da yazabilirdik:\n",
    "\n"
   ]
  },
  {
   "cell_type": "code",
   "execution_count": 103,
   "id": "1f21b320-a349-4b93-9334-a185f5df45d9",
   "metadata": {},
   "outputs": [],
   "source": [
    "def fibonacci():\n",
    "    x = 1\n",
    "    y = 0\n",
    "    z = 0\n",
    "    while not x > 100:\n",
    "        z = y\n",
    "        y = x\n",
    "        x = y + z\n",
    "        yield x"
   ]
  },
  {
   "cell_type": "markdown",
   "id": "153dfea0-e681-4421-acb4-9924558d7246",
   "metadata": {},
   "source": [
    "Burada da x değişkeni 100’den büyük olduğunda döngümüz bitiyor ve başka kodumuz kalmadığımız için fonksiyon sonlanıyor. Zaten bir fonksiyonun sonuna ulaşıldığında da biz bir değer döndürmediysek de None değeri döndürülecektir.\n",
    "\n",
    "Son olarak parametre alan basit bir üreteç örneği yaparak bir sonraki konuya geçelim. Unutmayalım ki üreteçler de bir çeşit fonksiyon olduğu için fonksiyon tanımlarken yapabildiğimiz her şeyi üreteç tanımlarken de kullanabiliriz. Buna parametre vermek ve iç içe fonksiyonlar oluşturmak da dahildir.\n",
    "\n",
    "Üretecimiz bir sayı parametresi alacak ve o sayı defa ekrana yazı yazdıracak:\n",
    "\n"
   ]
  },
  {
   "cell_type": "code",
   "execution_count": 104,
   "id": "b00c45cd-83a5-46e1-9f56-5217a968a5dc",
   "metadata": {},
   "outputs": [
    {
     "name": "stdout",
     "output_type": "stream",
     "text": [
      "Merhaba Dünya!\n",
      "None\n",
      "Merhaba Dünya!\n",
      "None\n",
      "Merhaba Dünya!\n",
      "None\n",
      "Merhaba Dünya!\n",
      "None\n"
     ]
    }
   ],
   "source": [
    "def yaz(sayı):\n",
    "    for i in range(sayı):\n",
    "        print(\"Merhaba Dünya!\")\n",
    "        yield\n",
    "\n",
    "y = yaz(4)\n",
    "for i in y:\n",
    "    print(i)"
   ]
  },
  {
   "cell_type": "markdown",
   "id": "ddb45423-f7dd-4f77-9924-bcb7833ffcd1",
   "metadata": {},
   "source": [
    "‘yield from’ Deyimi\n",
    "yield from deyimi bir üretecin içinde, başka bir üretecin yield ile döndüreceği değerleri tekrar yield etmek istediğimizde kullanılabilir. Şöyle bir örnek verelim:\n",
    "\n"
   ]
  },
  {
   "cell_type": "code",
   "execution_count": 105,
   "id": "c87d744c-42ba-446b-98fe-6c77a29d7391",
   "metadata": {},
   "outputs": [],
   "source": [
    "def üreteç1():\n",
    "    yield \"üreteç1 başladı\"\n",
    "    yield \"üreteç1 bitti\"\n",
    "\n",
    "def üreteç2():\n",
    "    yield \"üreteç2 başladı\"\n",
    "    yield from üreteç1()\n",
    "    yield \"üreteç2 bitti\"\n"
   ]
  },
  {
   "cell_type": "code",
   "execution_count": 106,
   "id": "5f3e0169-129d-4f8f-9cfa-1527a30520e5",
   "metadata": {},
   "outputs": [
    {
     "name": "stdout",
     "output_type": "stream",
     "text": [
      "üreteç2 başladı\n",
      "üreteç1 başladı\n",
      "üreteç1 bitti\n",
      "üreteç2 bitti\n"
     ]
    }
   ],
   "source": [
    "for i in üreteç2():\n",
    "    print(i)"
   ]
  },
  {
   "cell_type": "markdown",
   "id": "59a79fa0-76fa-4485-908d-1f6744981ec8",
   "metadata": {},
   "source": [
    "Aslında yield from ile yazdığımız bu örnek şu kod ile eşdeğerdir:"
   ]
  },
  {
   "cell_type": "code",
   "execution_count": 107,
   "id": "f86c72c5-8ca6-493b-9edd-8465dfe11180",
   "metadata": {},
   "outputs": [],
   "source": [
    "def üreteç1():\n",
    "    yield \"üreteç1 başladı\"\n",
    "    yield \"üreteç1 bitti\"\n",
    "\n",
    "def üreteç2():\n",
    "    yield \"üreteç2 başladı\"\n",
    "    for i in üreteç1():\n",
    "        yield i\n",
    "    yield \"üreteç2 bitti\""
   ]
  },
  {
   "cell_type": "code",
   "execution_count": 108,
   "id": "52e1a591-9071-41ca-a789-d0050f67e79a",
   "metadata": {},
   "outputs": [
    {
     "name": "stdout",
     "output_type": "stream",
     "text": [
      "üreteç2 başladı\n",
      "üreteç1 başladı\n",
      "üreteç1 bitti\n",
      "üreteç2 bitti\n"
     ]
    }
   ],
   "source": [
    "for i in üreteç2():\n",
    "        print(i)\n"
   ]
  },
  {
   "cell_type": "markdown",
   "id": "6eae46e3-5fa5-4f27-b98a-053631bc720a",
   "metadata": {},
   "source": [
    "Yani:"
   ]
  },
  {
   "cell_type": "code",
   "execution_count": null,
   "id": "f3b1e1fc-f263-4691-8381-663033ce51a7",
   "metadata": {},
   "outputs": [],
   "source": [
    "yield from bir_üreteç\n"
   ]
  },
  {
   "cell_type": "markdown",
   "id": "934df70c-ddf8-46c7-ba04-20e754ed3a0a",
   "metadata": {},
   "source": [
    "ifadesi bu ifade eş değerdir:"
   ]
  },
  {
   "cell_type": "code",
   "execution_count": null,
   "id": "aa659661-e99b-4db6-9cda-f65c16872b80",
   "metadata": {},
   "outputs": [],
   "source": [
    "for i in bir_üreteç:\n",
    "    yield i"
   ]
  },
  {
   "cell_type": "markdown",
   "id": "e7557d67-d96e-4444-acb0-7a6d24516072",
   "metadata": {},
   "source": [
    "++++++++Liste ve Sözlük Üreteçleri Hakkında\n",
    "\n",
    "Üreteçler konusunun başında söylediğimiz şu bilgiyi tekrarlayarak konumuza başlayalım:\n",
    "\n",
    "Biz üreteçlerle az çok tanışıyoruz. Liste üreteçleri olsun, sözlük üreteçleri olsun bu konu hakkında bir şeyler öğrenmiştik. Ancak biz üreteçlerimizi hep şunun gibi tanımlamıştık:\n",
    "\n"
   ]
  },
  {
   "cell_type": "code",
   "execution_count": 110,
   "id": "2086aae8-6ded-49a0-85d2-b38eefd3d1a4",
   "metadata": {},
   "outputs": [
    {
     "data": {
      "text/plain": [
       "[0, 1, 2, 3, 4, 5, 6, 7, 8, 9]"
      ]
     },
     "execution_count": 110,
     "metadata": {},
     "output_type": "execute_result"
    }
   ],
   "source": [
    "listem = [i for i in range(10)]\n",
    "listem"
   ]
  },
  {
   "cell_type": "markdown",
   "id": "62603f28-1660-4fdb-a1e7-e1efbb7d0049",
   "metadata": {},
   "source": [
    "Dikkat ederseniz burada i for i in range(10) kısmı (nasıl lambda fonksiyonlar normal yolla tanımlanan fonksiyonlardan farklı bir söz dizimi kullanıyorsa) normal kodlardan biraz farklı bir söz dizimi kullanıyor. Bu söz dizimi ile karmaşık algoritmalar oluşturmak zordur, çoğunlukla da mümkün değildir. Zaten bunun bulunma sebebi karmaşık algoritmalarda kullanılması değil, kısa işlerde yazım kolaylığı sağlamasıdır. Yani bu yazım şekli, bazı fonksiyonların lambda olarak tanımlanması gibi, üreteç tanımlamanın sadece kısa bir yoludur. Peki aslında üreteçler nasıl tanımlanır? Şimdi gelin bu konuyu inceleyelim."
   ]
  },
  {
   "cell_type": "markdown",
   "id": "c831fbd9-65d7-4286-936b-b989fd2a0763",
   "metadata": {},
   "source": [
    "Biz önceden üreteçleri şu şekilde kullanmayı biliyorduk:\n",
    "\n"
   ]
  },
  {
   "cell_type": "code",
   "execution_count": 111,
   "id": "d1fb38b1-9806-4de1-a454-2efd1b988ec6",
   "metadata": {},
   "outputs": [
    {
     "data": {
      "text/plain": [
       "[0, 1, 2, 3, 4, 5, 6, 7, 8, 9]"
      ]
     },
     "execution_count": 111,
     "metadata": {},
     "output_type": "execute_result"
    }
   ],
   "source": [
    "listem = [i for i in range(10)]\n",
    "listem"
   ]
  },
  {
   "cell_type": "markdown",
   "id": "e00e4090-d39a-4e7e-acc1-11e5036a611d",
   "metadata": {},
   "source": [
    "Peki üreteç bu kodun neresinde? Aslında bu yazım oldukça kısaltılmış, yani kolaylaştırılmış bir yazım şeklidir. Biraz açacak olursak şunu elde ederiz:\n",
    "\n"
   ]
  },
  {
   "cell_type": "code",
   "execution_count": 112,
   "id": "cd378bc5-3f39-415f-ab75-c129ac879f41",
   "metadata": {},
   "outputs": [
    {
     "data": {
      "text/plain": [
       "generator"
      ]
     },
     "execution_count": 112,
     "metadata": {},
     "output_type": "execute_result"
    }
   ],
   "source": [
    "üreteç = (i for i in range(10))\n",
    "type(üreteç)"
   ]
  },
  {
   "cell_type": "code",
   "execution_count": 113,
   "id": "49aaa1fb-5628-4c7f-9c83-4f99f3863b2c",
   "metadata": {},
   "outputs": [
    {
     "data": {
      "text/plain": [
       "[0, 1, 2, 3, 4, 5, 6, 7, 8, 9]"
      ]
     },
     "execution_count": 113,
     "metadata": {},
     "output_type": "execute_result"
    }
   ],
   "source": [
    "listem = list(üreteç)\n",
    "listem\n"
   ]
  },
  {
   "cell_type": "markdown",
   "id": "9060cb7b-845d-43e9-b8a1-526723be986c",
   "metadata": {},
   "source": [
    "Şimdilik liste kısmını bir kenara koyarak üreteç kısmı ile ilgilenelim.\n",
    "\n",
    "Gördüğünüz gibi aslında şu yazım şekli:"
   ]
  },
  {
   "cell_type": "code",
   "execution_count": null,
   "id": "a3021834-8ad9-4d3a-b788-2b4ccc39db09",
   "metadata": {},
   "outputs": [],
   "source": [
    "üreteç = (i for i in range(10))\n"
   ]
  },
  {
   "cell_type": "markdown",
   "id": "28c1a6da-3282-461c-b2ea-405cce912530",
   "metadata": {},
   "source": [
    "Bunun için bir kısaltmadır:"
   ]
  },
  {
   "cell_type": "code",
   "execution_count": null,
   "id": "718577b1-e2f5-43a2-9d68-10d3312aba73",
   "metadata": {},
   "outputs": [],
   "source": [
    "def üreteç_fonksiyonu():\n",
    "    for i in range(10):\n",
    "        yield i\n",
    "\n",
    "üreteç = üreteç_fonksiyonu()"
   ]
  },
  {
   "cell_type": "markdown",
   "id": "84672126-be18-4496-a8cd-1504913b1c8b",
   "metadata": {},
   "source": [
    "Aynı lambda fonksiyonların normal fonksiyonlar için bir kısaltma olması gibi.\n",
    "\n",
    "Ancak şuraya dikkat etmek lazım ki:"
   ]
  },
  {
   "cell_type": "code",
   "execution_count": null,
   "id": "8cce2253-1d1b-4257-84a5-576662ed48b4",
   "metadata": {},
   "outputs": [],
   "source": [
    "üreteç = (i for i in range(10))\n"
   ]
  },
  {
   "cell_type": "markdown",
   "id": "4e778216-cc8e-473b-ba43-574eb70f218c",
   "metadata": {},
   "source": [
    "Yazdığımızda, elimizde çağırıldığında bize üreteç döndürecek bir fonksiyonumuz yok. Yani üreteç değişkenimiz generator türünde bir nesne ve tek kullanımlık. Sonuçta üreteçlerin yinelenmesi bir defa bittikten sonra bir daha kullanamayız, çünkü bir defa bittikten sonra hep StopIteration hatası yükseltirler. Eğer istersek yenisini oluşturabiliriz. üreteç değişkenimizin yinelenmesi bir defa tamamlandıktan sonra daha fazla onu kullanamayacağımızı şu şekilde görebiliriz:"
   ]
  },
  {
   "cell_type": "code",
   "execution_count": 114,
   "id": "941397de-df1a-4030-967c-2ca60246e12a",
   "metadata": {},
   "outputs": [
    {
     "name": "stdout",
     "output_type": "stream",
     "text": [
      "0\n",
      "1\n",
      "2\n",
      "3\n",
      "4\n"
     ]
    }
   ],
   "source": [
    "üreteç = (i for i in range(5))\n",
    "for i in üreteç:\n",
    "    print(i)"
   ]
  },
  {
   "cell_type": "code",
   "execution_count": 115,
   "id": "7b9610a8-82ea-41fd-b351-0b8a24266307",
   "metadata": {},
   "outputs": [
    {
     "name": "stdout",
     "output_type": "stream",
     "text": [
      "0\n",
      "1\n",
      "2\n",
      "3\n",
      "4\n"
     ]
    }
   ],
   "source": [
    "üreteç = (i for i in range(5))\n",
    "for i in üreteç:\n",
    "        print(i)"
   ]
  },
  {
   "cell_type": "code",
   "execution_count": 116,
   "id": "431e3a44-c0f2-4f5f-ac80-c73a88875b8c",
   "metadata": {},
   "outputs": [],
   "source": [
    "for i in üreteç:\n",
    "        print(i)"
   ]
  },
  {
   "cell_type": "markdown",
   "id": "7ef19fcd-60a3-41f5-b0d6-64244244a60f",
   "metadata": {},
   "source": [
    "Gördüğünüz gibi üreteç değişkenimizi bir defa for döngüsü ile kullandığımızda ikinci defa kullanamamaktayız. Çünkü ilk döngüde üretecimiz bitene kadar çalıştı ve en sonunda StopIteration yükseltti. Artık istediğimiz kadar üretecimizi kullanmayı deneyelim, StopIteration yükseltmeye devam edecektir (unutmayalım ki for döngüsü StopIteration hatalarını yakalar ve yakaladığında da çalışmayı bırakır)"
   ]
  },
  {
   "cell_type": "code",
   "execution_count": 117,
   "id": "94ec05a8-6d6c-42fd-a08a-431e1c49fb95",
   "metadata": {},
   "outputs": [
    {
     "data": {
      "text/plain": [
       "0"
      ]
     },
     "execution_count": 117,
     "metadata": {},
     "output_type": "execute_result"
    }
   ],
   "source": [
    "üreteç = (i for i in range(3))\n",
    "next(üreteç)"
   ]
  },
  {
   "cell_type": "code",
   "execution_count": 118,
   "id": "4a7b5bbf-39e7-4dde-b4c2-f99a84ac5829",
   "metadata": {},
   "outputs": [
    {
     "data": {
      "text/plain": [
       "1"
      ]
     },
     "execution_count": 118,
     "metadata": {},
     "output_type": "execute_result"
    }
   ],
   "source": [
    "next(üreteç)\n"
   ]
  },
  {
   "cell_type": "code",
   "execution_count": 119,
   "id": "e450916b-3d6f-4dce-8f72-9df3f4187a8c",
   "metadata": {},
   "outputs": [
    {
     "data": {
      "text/plain": [
       "2"
      ]
     },
     "execution_count": 119,
     "metadata": {},
     "output_type": "execute_result"
    }
   ],
   "source": [
    "next(üreteç)\n"
   ]
  },
  {
   "cell_type": "code",
   "execution_count": 120,
   "id": "9a895084-59e0-4f18-b6d8-cad528be2c4b",
   "metadata": {},
   "outputs": [
    {
     "ename": "StopIteration",
     "evalue": "",
     "output_type": "error",
     "traceback": [
      "\u001b[0;31m---------------------------------------------------------------------------\u001b[0m",
      "\u001b[0;31mStopIteration\u001b[0m                             Traceback (most recent call last)",
      "Cell \u001b[0;32mIn[120], line 1\u001b[0m\n\u001b[0;32m----> 1\u001b[0m \u001b[38;5;28;43mnext\u001b[39;49m\u001b[43m(\u001b[49m\u001b[43müreteç\u001b[49m\u001b[43m)\u001b[49m\n",
      "\u001b[0;31mStopIteration\u001b[0m: "
     ]
    }
   ],
   "source": [
    "next(üreteç)\n"
   ]
  },
  {
   "cell_type": "code",
   "execution_count": 121,
   "id": "84290cc8-1aa9-4a0a-a872-6a6c1853660b",
   "metadata": {},
   "outputs": [
    {
     "ename": "StopIteration",
     "evalue": "",
     "output_type": "error",
     "traceback": [
      "\u001b[0;31m---------------------------------------------------------------------------\u001b[0m",
      "\u001b[0;31mStopIteration\u001b[0m                             Traceback (most recent call last)",
      "Cell \u001b[0;32mIn[121], line 1\u001b[0m\n\u001b[0;32m----> 1\u001b[0m \u001b[38;5;28;43mnext\u001b[39;49m\u001b[43m(\u001b[49m\u001b[43müreteç\u001b[49m\u001b[43m)\u001b[49m\n",
      "\u001b[0;31mStopIteration\u001b[0m: "
     ]
    }
   ],
   "source": [
    "next(üreteç)\n"
   ]
  },
  {
   "cell_type": "markdown",
   "id": "9573785b-f05d-4014-8934-83625bac8067",
   "metadata": {},
   "source": [
    "Aynı şey normal yoldan tanımlanan üreteçler için de geçerlidir:"
   ]
  },
  {
   "cell_type": "code",
   "execution_count": 122,
   "id": "a3b35b43-b6e0-4d9a-a3d9-295e63d3cb7c",
   "metadata": {},
   "outputs": [],
   "source": [
    "def üreteç_fonksiyonu():\n",
    "    for i in range(3):\n",
    "        yield i\n"
   ]
  },
  {
   "cell_type": "code",
   "execution_count": 123,
   "id": "334a1820-90f8-4d85-9e2c-a729640e1db0",
   "metadata": {},
   "outputs": [],
   "source": [
    "üreteç = üreteç_fonksiyonu()"
   ]
  },
  {
   "cell_type": "code",
   "execution_count": 124,
   "id": "987f3c43-f7d2-4dba-b7be-bb5d8c349e64",
   "metadata": {},
   "outputs": [
    {
     "data": {
      "text/plain": [
       "0"
      ]
     },
     "execution_count": 124,
     "metadata": {},
     "output_type": "execute_result"
    }
   ],
   "source": [
    "next(üreteç)"
   ]
  },
  {
   "cell_type": "code",
   "execution_count": 125,
   "id": "fcd108bc-f515-4fbd-9919-dfc2ae27aaf1",
   "metadata": {},
   "outputs": [
    {
     "data": {
      "text/plain": [
       "1"
      ]
     },
     "execution_count": 125,
     "metadata": {},
     "output_type": "execute_result"
    }
   ],
   "source": [
    "next(üreteç)"
   ]
  },
  {
   "cell_type": "code",
   "execution_count": 126,
   "id": "2288fedc-6cd3-4ea7-b013-1bb0a8f090ef",
   "metadata": {},
   "outputs": [
    {
     "data": {
      "text/plain": [
       "2"
      ]
     },
     "execution_count": 126,
     "metadata": {},
     "output_type": "execute_result"
    }
   ],
   "source": [
    "next(üreteç)"
   ]
  },
  {
   "cell_type": "code",
   "execution_count": 127,
   "id": "d79a3a1b-8bf2-4bba-bc4f-62aa5a5bd59c",
   "metadata": {},
   "outputs": [
    {
     "ename": "StopIteration",
     "evalue": "",
     "output_type": "error",
     "traceback": [
      "\u001b[0;31m---------------------------------------------------------------------------\u001b[0m",
      "\u001b[0;31mStopIteration\u001b[0m                             Traceback (most recent call last)",
      "Cell \u001b[0;32mIn[127], line 1\u001b[0m\n\u001b[0;32m----> 1\u001b[0m \u001b[38;5;28;43mnext\u001b[39;49m\u001b[43m(\u001b[49m\u001b[43müreteç\u001b[49m\u001b[43m)\u001b[49m\n",
      "\u001b[0;31mStopIteration\u001b[0m: "
     ]
    }
   ],
   "source": [
    "next(üreteç)"
   ]
  },
  {
   "cell_type": "code",
   "execution_count": 128,
   "id": "65d1284f-f81f-49f4-ba83-adc8a75ef221",
   "metadata": {},
   "outputs": [
    {
     "ename": "StopIteration",
     "evalue": "",
     "output_type": "error",
     "traceback": [
      "\u001b[0;31m---------------------------------------------------------------------------\u001b[0m",
      "\u001b[0;31mStopIteration\u001b[0m                             Traceback (most recent call last)",
      "Cell \u001b[0;32mIn[128], line 1\u001b[0m\n\u001b[0;32m----> 1\u001b[0m \u001b[38;5;28;43mnext\u001b[39;49m\u001b[43m(\u001b[49m\u001b[43müreteç\u001b[49m\u001b[43m)\u001b[49m\n",
      "\u001b[0;31mStopIteration\u001b[0m: "
     ]
    }
   ],
   "source": [
    "next(üreteç)"
   ]
  },
  {
   "cell_type": "markdown",
   "id": "218e0890-238d-49d2-9a3e-bed627c51957",
   "metadata": {},
   "source": [
    "Buradaki fark üretecimizi bize veren fonksiyonumuz durduğu için yeni bir üreteç oluşturabiliyor olmamızdır:"
   ]
  },
  {
   "cell_type": "code",
   "execution_count": 129,
   "id": "7ce9d91d-0613-432a-ab77-0e5278de2956",
   "metadata": {},
   "outputs": [
    {
     "data": {
      "text/plain": [
       "0"
      ]
     },
     "execution_count": 129,
     "metadata": {},
     "output_type": "execute_result"
    }
   ],
   "source": [
    "üreteç2 = üreteç_fonksiyonu()\n",
    "next(üreteç2)"
   ]
  },
  {
   "cell_type": "markdown",
   "id": "19d80924-b120-4ea9-b700-9ac7d5921512",
   "metadata": {},
   "source": [
    "Ancak şu şekilde bir tanımlama yaptığımızda:\n",
    "\n"
   ]
  },
  {
   "cell_type": "code",
   "execution_count": 130,
   "id": "4244d8df-47c9-4fe3-90e1-53088bead708",
   "metadata": {},
   "outputs": [
    {
     "data": {
      "text/plain": [
       "generator"
      ]
     },
     "execution_count": 130,
     "metadata": {},
     "output_type": "execute_result"
    }
   ],
   "source": [
    "üreteç = (i for i in range(3))\n",
    "type(üreteç)"
   ]
  },
  {
   "cell_type": "markdown",
   "id": "1479a80e-d7a8-454d-a0f4-f2689a940349",
   "metadata": {},
   "source": [
    "Burada elde ettiğimiz üretecin kendisi oluyor, ve bu üreteç de tek kullanımlık. Şimdi bunların liste üreteçleri ile alakasına geri dönecek olursak:"
   ]
  },
  {
   "cell_type": "code",
   "execution_count": 131,
   "id": "199c7b97-317b-4c2c-b726-88e05458bbea",
   "metadata": {},
   "outputs": [
    {
     "data": {
      "text/plain": [
       "[0, 1, 2]"
      ]
     },
     "execution_count": 131,
     "metadata": {},
     "output_type": "execute_result"
    }
   ],
   "source": [
    "üreteç = üreteç_fonksiyonu()\n",
    "listem = list(üreteç)\n",
    "listem"
   ]
  },
  {
   "cell_type": "markdown",
   "id": "4d291b25-79cc-44e1-9781-1457dbbe3cd6",
   "metadata": {},
   "source": [
    "Gördüğünüz gibi aslında normal yoldan tanımlanmış üreteçler, yani yield ifadesi kullanılarak fonksiyon gibi tanımlanmış üreteçler, de list fonksiyonuna argüman olarak verilebilir. Aynı for döngüsünde kullanılabilmesi gibi. Çünkü -kendi geliştirme arayüzünüzü kullanarak görebilirsiniz- dikkat edersiniz list fonksiyonunun ilk parametresinin adı iterable’dır. Türkçe’ye çevirirsek yinelenebilir. Biz zaten üreteçlerin yinelenebilir nesnelere örnek olduğunu söylemiştik. Bu yüzden bütün üreteçleri list fonksiyonunu kullanarak bir listeye çevirebiliriz. Buna şu şekilde tanımlanan üreteçler de dahildir:"
   ]
  },
  {
   "cell_type": "code",
   "execution_count": 132,
   "id": "89d1df54-5cff-4958-9ab7-df6b489abcbc",
   "metadata": {},
   "outputs": [],
   "source": [
    "üreteç = (i for i in range(3))\n"
   ]
  },
  {
   "cell_type": "markdown",
   "id": "488e57ef-a487-443b-bdfa-61f8bb4f8b4d",
   "metadata": {},
   "source": [
    "Bu yüzden şu kod güzel bir şekilde çalışmaktadır:"
   ]
  },
  {
   "cell_type": "code",
   "execution_count": 133,
   "id": "14e3a8e4-e078-4a1b-bb7b-4a61312cb241",
   "metadata": {},
   "outputs": [
    {
     "data": {
      "text/plain": [
       "[0, 1, 2]"
      ]
     },
     "execution_count": 133,
     "metadata": {},
     "output_type": "execute_result"
    }
   ],
   "source": [
    "üreteç = (i for i in range(3))\n",
    "list(üreteç)"
   ]
  },
  {
   "cell_type": "markdown",
   "id": "e1be2879-37b4-4f9e-90a6-0d57ea9eae14",
   "metadata": {},
   "source": [
    "Ve şu yazım da yukarıda yazdığımızın daha da kısaltılmış halinden başka bir şey değildir:\n",
    "\n"
   ]
  },
  {
   "cell_type": "code",
   "execution_count": 134,
   "id": "f2abc1f8-ec68-4d8a-a554-b91f5c3634cf",
   "metadata": {},
   "outputs": [],
   "source": [
    "listem = [i for i in range(3)]\n"
   ]
  },
  {
   "cell_type": "markdown",
   "id": "91fd9b88-a244-4823-bd9e-180e3c37472d",
   "metadata": {},
   "source": [
    "Anlattıklarımız sözlük üreteçleri için de geçerlidir. Dikkat edersiniz kısa yoldan üreteç tanımlamaları (i for i in range(3)) şeklinde, liste tanımlamaları [i for i in range(3)] şeklinde ve sözlük tanımlamaları da {str(i):i for i in range(3)} şeklinde yapılmaktadır. Bu liste tanımlamasını:"
   ]
  },
  {
   "cell_type": "code",
   "execution_count": 135,
   "id": "4207df35-b9f8-4fcd-a158-e88da2e934cd",
   "metadata": {},
   "outputs": [],
   "source": [
    "üreteç = (i for i in range(3))\n",
    "listem = list(üreteç)"
   ]
  },
  {
   "cell_type": "markdown",
   "id": "6718ec90-62dd-455b-b779-f83f6d0fa709",
   "metadata": {},
   "source": [
    "Şu şekilde yazabileceğimiz gibi:\n",
    "\n"
   ]
  },
  {
   "cell_type": "code",
   "execution_count": 136,
   "id": "761da44e-1725-4b34-bda8-d50fd99633a9",
   "metadata": {},
   "outputs": [],
   "source": [
    "üreteç = (i for i in range(3))\n",
    "listem = []\n",
    "for i in üreteç:\n",
    "        listem.append(i)"
   ]
  },
  {
   "cell_type": "markdown",
   "id": "28505009-7f69-485f-b4e2-cb0456756dd2",
   "metadata": {},
   "source": [
    "Bu sözlük tanımlamasını da:"
   ]
  },
  {
   "cell_type": "code",
   "execution_count": 137,
   "id": "c641f5d6-3ad7-48f2-aa18-246c79d73b6f",
   "metadata": {},
   "outputs": [],
   "source": [
    "üreteç = ((str(i),i) for i in range(3))\n",
    "sözlük = dict(üreteç)"
   ]
  },
  {
   "cell_type": "markdown",
   "id": "76d8d234-2bac-40e3-a121-03008715accd",
   "metadata": {},
   "source": [
    "Şu şekilde yazabilirdik:\n",
    "\n"
   ]
  },
  {
   "cell_type": "code",
   "execution_count": 138,
   "id": "feea2cce-ecdb-4fb3-a409-7115ccc5fdbb",
   "metadata": {},
   "outputs": [],
   "source": [
    "üreteç = ((str(i),i) for i in range(3))\n",
    "sözlük = {}\n",
    "for key,value in üreteç:\n",
    "        sözlük[key] = value"
   ]
  },
  {
   "cell_type": "markdown",
   "id": "02b3be72-ce95-4caf-8af6-8b18249d5d8c",
   "metadata": {},
   "source": [
    "Son örneğimizde üretecimiz her yinelenişinde iki elemanlı bir tuple döndürüyor ve bu demetin ilk elemanı for döngüsü içinde key değişkenine, ikinci elemanı ise value değişkenine atanıyor. Şunun gibi de düşünebilirsiniz:\n",
    "\n"
   ]
  },
  {
   "cell_type": "code",
   "execution_count": 139,
   "id": "94fd9210-b3f4-4e1c-87b2-ec8c4efb9d76",
   "metadata": {},
   "outputs": [],
   "source": [
    "for key,value in (('0',0), ('1',1), ('2',2)):\n",
    "        sözlük[key] = value"
   ]
  },
  {
   "cell_type": "markdown",
   "id": "4fb8c2de-06c8-4791-845a-6c995ca982d1",
   "metadata": {},
   "source": [
    "Evet, artık üreteçler konusunda da kayda değer bilgiler öğrendiğimize göre bir sonraki konumuza geçelim."
   ]
  },
  {
   "cell_type": "code",
   "execution_count": null,
   "id": "3b9b64cc-a004-434e-ad6e-01310073c54d",
   "metadata": {},
   "outputs": [],
   "source": []
  }
 ],
 "metadata": {
  "kernelspec": {
   "display_name": "Python 3 (ipykernel)",
   "language": "python",
   "name": "python3"
  },
  "language_info": {
   "codemirror_mode": {
    "name": "ipython",
    "version": 3
   },
   "file_extension": ".py",
   "mimetype": "text/x-python",
   "name": "python",
   "nbconvert_exporter": "python",
   "pygments_lexer": "ipython3",
   "version": "3.10.12"
  }
 },
 "nbformat": 4,
 "nbformat_minor": 5
}
