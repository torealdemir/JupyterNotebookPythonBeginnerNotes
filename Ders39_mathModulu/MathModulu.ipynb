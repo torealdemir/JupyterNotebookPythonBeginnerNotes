{
 "cells": [
  {
   "cell_type": "markdown",
   "id": "a7a9210b-8449-43e9-b830-509c3fe97c20",
   "metadata": {},
   "source": [
    "+++++++++++++++++math Modülü\n",
    "\n",
    "math modülü matematiksel işlemler yapmanızı kolaylaştırmak için yazılmış bir modüldür.\n",
    "\n"
   ]
  },
  {
   "cell_type": "markdown",
   "id": "0b3dc5eb-ba54-4e71-92ed-1b934f4ddd71",
   "metadata": {},
   "source": [
    "++++++++++++++math.ceil()\n",
    "\n",
    "Verilen ondalıklı sayıyı bir üst sayıya çevirir. Sayı eğer tam sayı ise __ceil__ fonksiyonundan yararlanır.\n",
    "\n"
   ]
  },
  {
   "cell_type": "code",
   "execution_count": 2,
   "id": "cd942f41-79cb-47c5-9481-3eda7587f00a",
   "metadata": {},
   "outputs": [
    {
     "data": {
      "text/plain": [
       "33"
      ]
     },
     "execution_count": 2,
     "metadata": {},
     "output_type": "execute_result"
    }
   ],
   "source": [
    "import math\n",
    "math.ceil(32.05)"
   ]
  },
  {
   "cell_type": "code",
   "execution_count": 3,
   "id": "2a2d63b2-141f-43e7-affa-d9f05b9eaeca",
   "metadata": {},
   "outputs": [
    {
     "data": {
      "text/plain": [
       "3"
      ]
     },
     "execution_count": 3,
     "metadata": {},
     "output_type": "execute_result"
    }
   ],
   "source": [
    "math.ceil(2.98)\n"
   ]
  },
  {
   "cell_type": "markdown",
   "id": "3b8b095a-7866-4bbc-ac2f-926eca3a9a12",
   "metadata": {},
   "source": [
    "+++++++++++++math.copysign()\n",
    "\n",
    "Aldığı iki parametreden ikincisinin işaretini birincisine verir.\n",
    "\n"
   ]
  },
  {
   "cell_type": "code",
   "execution_count": 4,
   "id": "0dbddd0d-50f1-44fa-9b20-cc5bf15963f3",
   "metadata": {},
   "outputs": [
    {
     "data": {
      "text/plain": [
       "-25.0"
      ]
     },
     "execution_count": 4,
     "metadata": {},
     "output_type": "execute_result"
    }
   ],
   "source": [
    "math.copysign(25,-12)"
   ]
  },
  {
   "cell_type": "code",
   "execution_count": 5,
   "id": "3ec9cdc0-6d9a-4e2b-9444-6ed58534d507",
   "metadata": {},
   "outputs": [
    {
     "data": {
      "text/plain": [
       "-12.0"
      ]
     },
     "execution_count": 5,
     "metadata": {},
     "output_type": "execute_result"
    }
   ],
   "source": [
    "math.copysign(-12,-15)"
   ]
  },
  {
   "cell_type": "code",
   "execution_count": 6,
   "id": "e6034698-8373-4b94-8851-b61b59d773ec",
   "metadata": {},
   "outputs": [
    {
     "data": {
      "text/plain": [
       "245.0"
      ]
     },
     "execution_count": 6,
     "metadata": {},
     "output_type": "execute_result"
    }
   ],
   "source": [
    "math.copysign(-245,54)"
   ]
  },
  {
   "cell_type": "markdown",
   "id": "1f0e2d83-c9c4-4970-804a-614aa717d3fb",
   "metadata": {},
   "source": [
    "+++++++++++++math.fabs()\n",
    "\n",
    "Verilen değerin mutlak değerini alır. Gömülü fonksiyonlardan abs’den küçük bir farkı var. Çıktısını tam sayı olarak değil ondalıklı sayı olarak döndürüyor."
   ]
  },
  {
   "cell_type": "code",
   "execution_count": 2,
   "id": "04b4c580-032e-4e2a-bde6-42d6961c3e36",
   "metadata": {},
   "outputs": [
    {
     "data": {
      "text/plain": [
       "28.0"
      ]
     },
     "execution_count": 2,
     "metadata": {},
     "output_type": "execute_result"
    }
   ],
   "source": [
    "import math\n",
    "math.fabs(-28)"
   ]
  },
  {
   "cell_type": "code",
   "execution_count": 3,
   "id": "138b9998-958a-4654-90b8-1200f3c95123",
   "metadata": {},
   "outputs": [
    {
     "data": {
      "text/plain": [
       "28"
      ]
     },
     "execution_count": 3,
     "metadata": {},
     "output_type": "execute_result"
    }
   ],
   "source": [
    "abs(-28)"
   ]
  },
  {
   "cell_type": "markdown",
   "id": "50566bc5-7746-4540-aee8-38acae9c3724",
   "metadata": {},
   "source": [
    "+++++++++++++math.factorial()\n",
    "\n",
    "Verilen sayının faktoriyelini döndürüyor. Eğer verilen değer pozitif tam sayı değilse ValueError hatası veriyor."
   ]
  },
  {
   "cell_type": "code",
   "execution_count": 4,
   "id": "f2f6def2-91b8-4944-8a1d-3a76294cfec5",
   "metadata": {},
   "outputs": [
    {
     "data": {
      "text/plain": [
       "120"
      ]
     },
     "execution_count": 4,
     "metadata": {},
     "output_type": "execute_result"
    }
   ],
   "source": [
    "math.factorial(5)"
   ]
  },
  {
   "cell_type": "code",
   "execution_count": 5,
   "id": "42f8051a-d94a-4655-a4a3-0107d13a8807",
   "metadata": {},
   "outputs": [
    {
     "ename": "ValueError",
     "evalue": "factorial() not defined for negative values",
     "output_type": "error",
     "traceback": [
      "\u001b[0;31m---------------------------------------------------------------------------\u001b[0m",
      "\u001b[0;31mValueError\u001b[0m                                Traceback (most recent call last)",
      "Cell \u001b[0;32mIn[5], line 1\u001b[0m\n\u001b[0;32m----> 1\u001b[0m \u001b[43mmath\u001b[49m\u001b[38;5;241;43m.\u001b[39;49m\u001b[43mfactorial\u001b[49m\u001b[43m(\u001b[49m\u001b[38;5;241;43m-\u001b[39;49m\u001b[38;5;241;43m5\u001b[39;49m\u001b[43m)\u001b[49m\n",
      "\u001b[0;31mValueError\u001b[0m: factorial() not defined for negative values"
     ]
    }
   ],
   "source": [
    "math.factorial(-5)"
   ]
  },
  {
   "cell_type": "markdown",
   "id": "6c74792f-55ff-48b2-9ddf-00b47f995128",
   "metadata": {},
   "source": [
    "+++++++++++++math.floor()\n",
    "\n",
    "ceil fonksiyonunun tam tersi bir işleve sahip. Verilen ondalıklı sayıyının bir altındaki tam sayıyı döndürür. Sayı eğer tam sayı ise __floor__ fonksiyonundan faydalanır. int fonksiyonundan farkı negatif sayılarda ortaya çıkıyor."
   ]
  },
  {
   "cell_type": "code",
   "execution_count": 7,
   "id": "3f005200-3add-473a-8178-ef648e8ce181",
   "metadata": {},
   "outputs": [
    {
     "data": {
      "text/plain": [
       "25"
      ]
     },
     "execution_count": 7,
     "metadata": {},
     "output_type": "execute_result"
    }
   ],
   "source": [
    "math.floor(25.92)"
   ]
  },
  {
   "cell_type": "code",
   "execution_count": 8,
   "id": "9e831835-1253-4e71-83a9-527157e746da",
   "metadata": {},
   "outputs": [
    {
     "data": {
      "text/plain": [
       "-13"
      ]
     },
     "execution_count": 8,
     "metadata": {},
     "output_type": "execute_result"
    }
   ],
   "source": [
    "math.floor(-12.25)"
   ]
  },
  {
   "cell_type": "code",
   "execution_count": 9,
   "id": "0328bd55-72cb-46fc-a380-8fd06a555e15",
   "metadata": {},
   "outputs": [
    {
     "data": {
      "text/plain": [
       "-12"
      ]
     },
     "execution_count": 9,
     "metadata": {},
     "output_type": "execute_result"
    }
   ],
   "source": [
    "int(-12.25)"
   ]
  },
  {
   "cell_type": "markdown",
   "id": "4dac4f1e-8901-4b5d-9506-c2c44f914c33",
   "metadata": {},
   "source": [
    "++++++++++math.fmod()\n",
    "\n",
    "Verdiğiniz birinci parametrenin ikinci parametreye bölümünden kalanı buluyor. % operatöründen farkı negatif sayılarda ortaya çıkıyor."
   ]
  },
  {
   "cell_type": "code",
   "execution_count": 10,
   "id": "fe25aac7-aa0e-4713-a34e-4dfe01395cb6",
   "metadata": {},
   "outputs": [
    {
     "data": {
      "text/plain": [
       "1.0"
      ]
     },
     "execution_count": 10,
     "metadata": {},
     "output_type": "execute_result"
    }
   ],
   "source": [
    "math.fmod(45,2)\n"
   ]
  },
  {
   "cell_type": "code",
   "execution_count": 11,
   "id": "21a84f87-0cd2-446d-a7d9-8ffa560a68c9",
   "metadata": {},
   "outputs": [
    {
     "data": {
      "text/plain": [
       "3.0"
      ]
     },
     "execution_count": 11,
     "metadata": {},
     "output_type": "execute_result"
    }
   ],
   "source": [
    "math.fmod(45,14)\n"
   ]
  },
  {
   "cell_type": "code",
   "execution_count": 12,
   "id": "66b8bcbd-58fd-4021-bee3-6de159d551d7",
   "metadata": {},
   "outputs": [
    {
     "data": {
      "text/plain": [
       "3.0"
      ]
     },
     "execution_count": 12,
     "metadata": {},
     "output_type": "execute_result"
    }
   ],
   "source": [
    "math.fmod(45,-14)\n"
   ]
  },
  {
   "cell_type": "code",
   "execution_count": 13,
   "id": "e0fbeab8-f36a-4f8d-a3f9-4ace4fd62048",
   "metadata": {},
   "outputs": [
    {
     "data": {
      "text/plain": [
       "-11"
      ]
     },
     "execution_count": 13,
     "metadata": {},
     "output_type": "execute_result"
    }
   ],
   "source": [
    "45%-14\n"
   ]
  },
  {
   "cell_type": "markdown",
   "id": "9ce76eee-56bd-446f-9785-fc04f51c6b1b",
   "metadata": {},
   "source": [
    "++++++++++++++math.frexp()\n",
    "\n",
    "Bu fonksiyon x bilindiğinde aşağıdaki denklemin m ve e parametrelerini bulmaya yarıyor. m değerinin mutlak değeri 0,5 ve 1 arasında bir değer alıyor."
   ]
  },
  {
   "cell_type": "code",
   "execution_count": null,
   "id": "68d933e7-45aa-482d-acfa-4db565364156",
   "metadata": {},
   "outputs": [],
   "source": [
    "x = m * 2 ** e"
   ]
  },
  {
   "cell_type": "markdown",
   "id": "68c3cf58-b3c4-4f92-87ab-cb8f8d7566c1",
   "metadata": {},
   "source": [
    "Örnek:"
   ]
  },
  {
   "cell_type": "code",
   "execution_count": 15,
   "id": "9de53df9-7c28-4400-be3d-21e958e26bab",
   "metadata": {},
   "outputs": [
    {
     "data": {
      "text/plain": [
       "(0.5, 1)"
      ]
     },
     "execution_count": 15,
     "metadata": {},
     "output_type": "execute_result"
    }
   ],
   "source": [
    "math.frexp(1)"
   ]
  },
  {
   "cell_type": "code",
   "execution_count": 16,
   "id": "d67e156b-4bab-4ebc-86d7-61be948fc47e",
   "metadata": {},
   "outputs": [
    {
     "data": {
      "text/plain": [
       "(0.5, 4)"
      ]
     },
     "execution_count": 16,
     "metadata": {},
     "output_type": "execute_result"
    }
   ],
   "source": [
    "math.frexp(8)"
   ]
  },
  {
   "cell_type": "markdown",
   "id": "93e7cc20-b8a8-41a6-ad17-10b78a04619c",
   "metadata": {},
   "source": [
    "+++++++++++++++++math.fsum()\n",
    "\n",
    "sum fonksiyonuna çok benziyor. sum fonksiyonundaki bir açığı kapatıyor. sum fonksiyonu ondalıklı sayılarla çalışırken biraz sorun çıkarabiliyor."
   ]
  },
  {
   "cell_type": "code",
   "execution_count": 17,
   "id": "28f5378e-fd9e-489c-ba56-16d487a0f098",
   "metadata": {},
   "outputs": [
    {
     "data": {
      "text/plain": [
       "0.9999999999999999"
      ]
     },
     "execution_count": 17,
     "metadata": {},
     "output_type": "execute_result"
    }
   ],
   "source": [
    "sum([.1, .1, .1, .1, .1, .1, .1, .1, .1, .1])"
   ]
  },
  {
   "cell_type": "code",
   "execution_count": null,
   "id": "af1fb5f5-0893-4471-bef6-e188ee6b4026",
   "metadata": {},
   "outputs": [],
   "source": [
    "fsum([.1, .1, .1, .1, .1, .1, .1, .1, .1, .1])\n",
    "1.0"
   ]
  },
  {
   "cell_type": "markdown",
   "id": "7122809d-057a-42a1-83e8-152cda6105b0",
   "metadata": {},
   "source": [
    "++++++++math.gcd()¶\n",
    "\n",
    "Verilen iki sayinin ebobunu veriyor."
   ]
  },
  {
   "cell_type": "code",
   "execution_count": 19,
   "id": "bfb6612b-50a2-421c-a28a-5bdcae7c7f5b",
   "metadata": {},
   "outputs": [
    {
     "data": {
      "text/plain": [
       "5"
      ]
     },
     "execution_count": 19,
     "metadata": {},
     "output_type": "execute_result"
    }
   ],
   "source": [
    "math.gcd(45,70)"
   ]
  },
  {
   "cell_type": "code",
   "execution_count": 20,
   "id": "09bdd821-43ba-4163-8dff-6c92d07942d4",
   "metadata": {},
   "outputs": [
    {
     "data": {
      "text/plain": [
       "24"
      ]
     },
     "execution_count": 20,
     "metadata": {},
     "output_type": "execute_result"
    }
   ],
   "source": [
    "math.gcd(24,-24)"
   ]
  },
  {
   "cell_type": "code",
   "execution_count": 21,
   "id": "f3e11def-144b-4557-8d19-17ec15b5a45b",
   "metadata": {},
   "outputs": [
    {
     "data": {
      "text/plain": [
       "12"
      ]
     },
     "execution_count": 21,
     "metadata": {},
     "output_type": "execute_result"
    }
   ],
   "source": [
    "math.gcd(36,12)"
   ]
  },
  {
   "cell_type": "markdown",
   "id": "a101113e-8409-4578-9fb5-044ca6b624d2",
   "metadata": {},
   "source": [
    "++++++++++++++++math.trunc()\n",
    "\n",
    "int fonksiyonu ile aynı işi yapıyor."
   ]
  },
  {
   "cell_type": "code",
   "execution_count": 22,
   "id": "30b66fd9-70b7-4895-9e3d-50f17ab46089",
   "metadata": {},
   "outputs": [
    {
     "data": {
      "text/plain": [
       "15"
      ]
     },
     "execution_count": 22,
     "metadata": {},
     "output_type": "execute_result"
    }
   ],
   "source": [
    "math.trunc(15.12)"
   ]
  },
  {
   "cell_type": "code",
   "execution_count": 23,
   "id": "9e72cc0f-75d6-4707-8046-e0d095711df0",
   "metadata": {},
   "outputs": [
    {
     "data": {
      "text/plain": [
       "-15"
      ]
     },
     "execution_count": 23,
     "metadata": {},
     "output_type": "execute_result"
    }
   ],
   "source": [
    "math.trunc(-15.12)"
   ]
  },
  {
   "cell_type": "code",
   "execution_count": 24,
   "id": "7c34ac87-e12c-4575-bee9-8b3ae1274599",
   "metadata": {},
   "outputs": [
    {
     "data": {
      "text/plain": [
       "0"
      ]
     },
     "execution_count": 24,
     "metadata": {},
     "output_type": "execute_result"
    }
   ],
   "source": [
    "math.trunc(0.24)"
   ]
  },
  {
   "cell_type": "code",
   "execution_count": 25,
   "id": "9fa6875e-9991-4a43-8a1f-3d3ec7b6e199",
   "metadata": {},
   "outputs": [
    {
     "data": {
      "text/plain": [
       "0"
      ]
     },
     "execution_count": 25,
     "metadata": {},
     "output_type": "execute_result"
    }
   ],
   "source": [
    "int(0)\n"
   ]
  },
  {
   "cell_type": "code",
   "execution_count": 26,
   "id": "e0295498-1330-4195-92cb-aa39aba00f55",
   "metadata": {},
   "outputs": [
    {
     "data": {
      "text/plain": [
       "-15"
      ]
     },
     "execution_count": 26,
     "metadata": {},
     "output_type": "execute_result"
    }
   ],
   "source": [
    "int(-15.12)"
   ]
  },
  {
   "cell_type": "markdown",
   "id": "5cfcec4f-f48f-4f57-969a-7483bf0148b0",
   "metadata": {},
   "source": [
    "++++++++++++++math.e\n",
    "\n",
    "euler sabitini tutan bir değişken. Değeri: 2.718281…"
   ]
  },
  {
   "cell_type": "markdown",
   "id": "74583d53-5fab-4d14-91a0-7d37e91b4b43",
   "metadata": {},
   "source": [
    "++++++++++++++++math.pi\n",
    "\n",
    "pi sayısını tutan değişken. Değeri: 3.141592…."
   ]
  },
  {
   "cell_type": "markdown",
   "id": "ef7dd9de-1395-49d5-af4f-445f5cb7f75e",
   "metadata": {},
   "source": [
    "++++++++++++++++++math.tau\n",
    "\n",
    "tau sabitini tutan değişken. Değeri pi sayısının iki katı."
   ]
  },
  {
   "cell_type": "code",
   "execution_count": 27,
   "id": "f390c10c-cffb-4bfb-874c-db8dc39b7aa7",
   "metadata": {},
   "outputs": [
    {
     "data": {
      "text/plain": [
       "True"
      ]
     },
     "execution_count": 27,
     "metadata": {},
     "output_type": "execute_result"
    }
   ],
   "source": [
    "math.pi*2==math.tau"
   ]
  },
  {
   "cell_type": "markdown",
   "id": "d87b1884-47e2-49e5-aa8c-55c36e2437ef",
   "metadata": {},
   "source": [
    "++++++++++++math.exp()\n",
    "\n",
    "euler sabitinin kuvvetini alır. Yani yaptığı iş şudur:math.e ** x"
   ]
  },
  {
   "cell_type": "code",
   "execution_count": 28,
   "id": "bb267e2b-c33a-4efe-939b-127c5918a4ea",
   "metadata": {},
   "outputs": [
    {
     "data": {
      "text/plain": [
       "7.38905609893065"
      ]
     },
     "execution_count": 28,
     "metadata": {},
     "output_type": "execute_result"
    }
   ],
   "source": [
    "math.exp(2)\n"
   ]
  },
  {
   "cell_type": "markdown",
   "id": "d814fa18-66cf-4dc2-9bf6-60b6e4fbf713",
   "metadata": {},
   "source": [
    "+++++++++math.expm1()\n",
    "\n",
    "math.exp fonksiyonunun yaptığı işten tek farkı sonuçtan 1 çıkarmasıdır."
   ]
  },
  {
   "cell_type": "code",
   "execution_count": 29,
   "id": "f9b0b75b-03d7-4b85-9c49-3370c7e3c1ca",
   "metadata": {},
   "outputs": [
    {
     "data": {
      "text/plain": [
       "162754.79141900392"
      ]
     },
     "execution_count": 29,
     "metadata": {},
     "output_type": "execute_result"
    }
   ],
   "source": [
    "math.exp(12)\n"
   ]
  },
  {
   "cell_type": "code",
   "execution_count": 30,
   "id": "14c16303-30dd-4d6e-8249-590b12bdd1db",
   "metadata": {},
   "outputs": [
    {
     "data": {
      "text/plain": [
       "162753.79141900392"
      ]
     },
     "execution_count": 30,
     "metadata": {},
     "output_type": "execute_result"
    }
   ],
   "source": [
    "math.expm1(12)\n"
   ]
  },
  {
   "cell_type": "markdown",
   "id": "9b404e93-c93a-4322-9810-40250d357f13",
   "metadata": {},
   "source": [
    "++++++++++++math.log()\n",
    "\n",
    "Birinci değerin ikinci değere göre logaritmasını hesaplar."
   ]
  },
  {
   "cell_type": "code",
   "execution_count": 31,
   "id": "e3f50f8c-db4f-4bb2-9b4e-ff971750f775",
   "metadata": {},
   "outputs": [
    {
     "data": {
      "text/plain": [
       "1.0"
      ]
     },
     "execution_count": 31,
     "metadata": {},
     "output_type": "execute_result"
    }
   ],
   "source": [
    "math.log(10,10)\n"
   ]
  },
  {
   "cell_type": "code",
   "execution_count": 32,
   "id": "6e22f912-889e-44a0-9e50-fc0f9e4b6011",
   "metadata": {},
   "outputs": [
    {
     "data": {
      "text/plain": [
       "2.0"
      ]
     },
     "execution_count": 32,
     "metadata": {},
     "output_type": "execute_result"
    }
   ],
   "source": [
    "math.log(25,5)\n"
   ]
  },
  {
   "cell_type": "code",
   "execution_count": 33,
   "id": "5560c22e-5bb4-4fef-9b93-aedb2deef0cc",
   "metadata": {},
   "outputs": [
    {
     "data": {
      "text/plain": [
       "0.5"
      ]
     },
     "execution_count": 33,
     "metadata": {},
     "output_type": "execute_result"
    }
   ],
   "source": [
    "math.log(5,25)\n"
   ]
  },
  {
   "cell_type": "markdown",
   "id": "e8fd9817-d976-4761-9d27-5bd1c7864971",
   "metadata": {},
   "source": [
    "+++++++++++math.log1p()\n",
    "\n",
    "Verilen sayının bir fazlasının e tabanına göre logaritmasını hesaplar."
   ]
  },
  {
   "cell_type": "code",
   "execution_count": 34,
   "id": "16cb15d3-4132-4f17-9414-08271e7e43f0",
   "metadata": {},
   "outputs": [
    {
     "data": {
      "text/plain": [
       "0.0"
      ]
     },
     "execution_count": 34,
     "metadata": {},
     "output_type": "execute_result"
    }
   ],
   "source": [
    "math.log1p(0)\n"
   ]
  },
  {
   "cell_type": "code",
   "execution_count": 35,
   "id": "9b6c9d78-88f3-4072-a6e9-83baa9be8ce9",
   "metadata": {},
   "outputs": [
    {
     "data": {
      "text/plain": [
       "1.0986122886681096"
      ]
     },
     "execution_count": 35,
     "metadata": {},
     "output_type": "execute_result"
    }
   ],
   "source": [
    "math.log1p(2)\n"
   ]
  },
  {
   "cell_type": "markdown",
   "id": "85bdfcc2-d57a-492c-b913-b32db5ce695c",
   "metadata": {},
   "source": [
    "+++++++++++math.log2()\n",
    "\n",
    "Verilen sayının 2 tabanında logaritmasını hesaplar.\n",
    "\n"
   ]
  },
  {
   "cell_type": "code",
   "execution_count": 36,
   "id": "a2b77c26-7b46-493c-b49d-1d087dc2fb39",
   "metadata": {},
   "outputs": [
    {
     "data": {
      "text/plain": [
       "1.0"
      ]
     },
     "execution_count": 36,
     "metadata": {},
     "output_type": "execute_result"
    }
   ],
   "source": [
    "math.log2(2)"
   ]
  },
  {
   "cell_type": "code",
   "execution_count": 37,
   "id": "5a59a449-2e9d-4560-b9c6-a5194b6816b3",
   "metadata": {},
   "outputs": [
    {
     "data": {
      "text/plain": [
       "5.392317422778761"
      ]
     },
     "execution_count": 37,
     "metadata": {},
     "output_type": "execute_result"
    }
   ],
   "source": [
    "math.log2(42)"
   ]
  },
  {
   "cell_type": "markdown",
   "id": "0e635351-1aac-444c-9090-7253a8fe76e4",
   "metadata": {},
   "source": [
    "+++++++++++math.log10()\n",
    "\n",
    "Verilen sayının 10 tabanında logaritmasını hesaplar."
   ]
  },
  {
   "cell_type": "code",
   "execution_count": 38,
   "id": "f51d4356-2242-46d9-bcc7-5f72d55b285c",
   "metadata": {},
   "outputs": [
    {
     "data": {
      "text/plain": [
       "3.0"
      ]
     },
     "execution_count": 38,
     "metadata": {},
     "output_type": "execute_result"
    }
   ],
   "source": [
    "math.log10(1000)"
   ]
  },
  {
   "cell_type": "code",
   "execution_count": 39,
   "id": "91676bba-a728-46c2-b701-ce3282e91349",
   "metadata": {},
   "outputs": [
    {
     "data": {
      "text/plain": [
       "1.3010299956639813"
      ]
     },
     "execution_count": 39,
     "metadata": {},
     "output_type": "execute_result"
    }
   ],
   "source": [
    "math.log10(20)\n"
   ]
  },
  {
   "cell_type": "markdown",
   "id": "7d53abf9-0853-4525-afa0-b265d2f3a8c3",
   "metadata": {},
   "source": [
    "++++++++++++++++math.pow()\n",
    "\n",
    "** ve gömülü fonksiyonlardan pow ile aynı işi yapıyor. Yani birinci sayının ikinci sayıya göre kuvvetini alıyor.\n"
   ]
  },
  {
   "cell_type": "code",
   "execution_count": 40,
   "id": "cdd95b37-84bf-44b4-bd07-158656fa5383",
   "metadata": {},
   "outputs": [
    {
     "data": {
      "text/plain": [
       "32.0"
      ]
     },
     "execution_count": 40,
     "metadata": {},
     "output_type": "execute_result"
    }
   ],
   "source": [
    "math.pow(2,5)"
   ]
  },
  {
   "cell_type": "code",
   "execution_count": 41,
   "id": "c7bb2565-e43e-4ec3-a0e3-a6ff0bcae816",
   "metadata": {},
   "outputs": [
    {
     "data": {
      "text/plain": [
       "1.0"
      ]
     },
     "execution_count": 41,
     "metadata": {},
     "output_type": "execute_result"
    }
   ],
   "source": [
    "math.pow(2,0)\n"
   ]
  },
  {
   "cell_type": "code",
   "execution_count": 42,
   "id": "94901aad-711c-4e0a-a4af-8aff97b2c9ec",
   "metadata": {},
   "outputs": [
    {
     "data": {
      "text/plain": [
       "32"
      ]
     },
     "execution_count": 42,
     "metadata": {},
     "output_type": "execute_result"
    }
   ],
   "source": [
    "pow(2,5)\n"
   ]
  },
  {
   "cell_type": "code",
   "execution_count": 43,
   "id": "a98fca35-329e-438a-9a3c-4955f7251a40",
   "metadata": {},
   "outputs": [
    {
     "data": {
      "text/plain": [
       "1"
      ]
     },
     "execution_count": 43,
     "metadata": {},
     "output_type": "execute_result"
    }
   ],
   "source": [
    "pow(2,0)\n"
   ]
  },
  {
   "cell_type": "markdown",
   "id": "3e1b3d45-b19f-4f92-8ebc-c9f96d79dac7",
   "metadata": {},
   "source": [
    "+++++++++++++math.sqrt()\n",
    "\n",
    "Verilen sayının karekökünü hesaplar."
   ]
  },
  {
   "cell_type": "code",
   "execution_count": 44,
   "id": "437eb989-c7ef-49b2-ba10-999646d9b25e",
   "metadata": {},
   "outputs": [
    {
     "data": {
      "text/plain": [
       "4.0"
      ]
     },
     "execution_count": 44,
     "metadata": {},
     "output_type": "execute_result"
    }
   ],
   "source": [
    "math.sqrt(16)"
   ]
  },
  {
   "cell_type": "code",
   "execution_count": 45,
   "id": "450ad9c7-f318-41ac-a068-ccf2ed14ec22",
   "metadata": {},
   "outputs": [
    {
     "data": {
      "text/plain": [
       "15.0"
      ]
     },
     "execution_count": 45,
     "metadata": {},
     "output_type": "execute_result"
    }
   ],
   "source": [
    "math.sqrt(225)"
   ]
  },
  {
   "cell_type": "markdown",
   "id": "a9ad28e1-a8cc-4a74-a2f5-1667721b9d4c",
   "metadata": {},
   "source": [
    "+++++++++++++math.degrees()\n",
    "\n",
    "Verilen sayıyı radyandan dereceye çevirir."
   ]
  },
  {
   "cell_type": "code",
   "execution_count": 46,
   "id": "9253ee54-c41b-42e8-b260-06154f61c8bd",
   "metadata": {},
   "outputs": [
    {
     "data": {
      "text/plain": [
       "90.0"
      ]
     },
     "execution_count": 46,
     "metadata": {},
     "output_type": "execute_result"
    }
   ],
   "source": [
    "math.degrees(1.5707963267948966)\n"
   ]
  },
  {
   "cell_type": "markdown",
   "id": "c94c6f2e-9f91-4b46-9e3f-df50b128621e",
   "metadata": {},
   "source": [
    "+++++++++++++math.radians()\n",
    "\n",
    "Verilen sayıyı dereceden radyana çevirir."
   ]
  },
  {
   "cell_type": "code",
   "execution_count": 47,
   "id": "222d8c07-ba3c-44af-9da6-d032d22d776b",
   "metadata": {},
   "outputs": [
    {
     "data": {
      "text/plain": [
       "1.5707963267948966"
      ]
     },
     "execution_count": 47,
     "metadata": {},
     "output_type": "execute_result"
    }
   ],
   "source": [
    "math.radians(90)\n"
   ]
  },
  {
   "cell_type": "markdown",
   "id": "8eb7bbbf-bf0a-4f86-8804-70fbd48d78b7",
   "metadata": {},
   "source": [
    "+++++++++++++++math.sin()\n",
    "\n",
    "Radyan cinsinden verilen sayının sinüsünü hesaplar."
   ]
  },
  {
   "cell_type": "code",
   "execution_count": 48,
   "id": "e6989a21-3757-446f-8018-ffa116b2b818",
   "metadata": {},
   "outputs": [
    {
     "data": {
      "text/plain": [
       "0.8660254037844386"
      ]
     },
     "execution_count": 48,
     "metadata": {},
     "output_type": "execute_result"
    }
   ],
   "source": [
    "math.sin(math.radians(60))\n"
   ]
  },
  {
   "cell_type": "markdown",
   "id": "81e6ad3d-983d-4893-9d68-652df0fab32b",
   "metadata": {},
   "source": [
    "+++++++++++math.cos()\n",
    "\n",
    "Radyan cinsinden verilen parametrenin kosinüsünü hesaplar.\n",
    "\n",
    "+++++++++++math.tan()\n",
    "\n",
    "Radyan cinsinden verilen parametrenin tanjantını hesaplar.\n",
    "\n",
    "+++++++++++++math.asin()\n",
    "\n",
    "Verilen sinüs değerinden radyan cinsinde bir açı döndürür.\n",
    "\n",
    "++++++++++math.acos()\n",
    "\n",
    "Verilen kosinüs değerinden radyan cinsinde bir açı döndürür.\n",
    "\n",
    "+++++++++++math.atan()\n",
    "\n",
    "Verilen tanjant değerinden radyan cinsinde bir açı döndürür.\n",
    "\n",
    "++++++++++++++math.atan2()\n",
    "\n",
    "İlk değere y ikinci değere x dersek şu işlemin sonucunu döndürür: atan(y/x)\n",
    "\n",
    "++++++++++++++math.hypot()\n",
    "\n",
    "İlk değere x ikinci değere y dersek şu işlemin sonucunu döndürür: sqrt(x*x+y*y).\n",
    "\n",
    "+++++++++++++math.cosh()\n",
    "\n",
    "Verilen değerin hiperbolik kosinüsünü döndürür.\n",
    "\n",
    "+++++++++++math.sinh()\n",
    "\n",
    "Verilen değerin hiperbolik sinüsünü döndürür.\n",
    "\n",
    "++++++++++++math.tanh()\n",
    "\n",
    "Verilen değerin hiperbolik tanjantını döndürür.\n",
    "\n",
    "++++++++++++++math.acosh()\n",
    "\n",
    "Verilen hiperbolik kosinüs değerinin tersini döndürür.\n",
    "\n",
    "++++++++++++math.asinh()\n",
    "\n",
    "Verilen hiperbolik sinüs değerinin tersini döndürür.\n",
    "\n",
    "++++++++++++math.atanh()\n",
    "\n",
    "Verilen hiperbolik tanjant değerinin tersini döndürür.\n",
    "\n",
    "++++++++++++math.gamma()\n",
    "\n",
    "Bu fonksiyon factorial fonksiyonuna çok benziyor. Farklarından biri verilen sayının bir azının faktoriyelini hesaplamasıdır. Ancak asıl fark sayı büyüdüğünde ortaya çıkıyor."
   ]
  },
  {
   "cell_type": "code",
   "execution_count": 49,
   "id": "c9b29f1d-3a25-41be-b491-2c8f703f3f31",
   "metadata": {},
   "outputs": [
    {
     "data": {
      "text/plain": [
       "True"
      ]
     },
     "execution_count": 49,
     "metadata": {},
     "output_type": "execute_result"
    }
   ],
   "source": [
    "math.factorial(12)==math.gamma(13)"
   ]
  },
  {
   "cell_type": "code",
   "execution_count": 50,
   "id": "a7f45d8b-f00a-4ab9-800c-2d442d6ecc2c",
   "metadata": {},
   "outputs": [
    {
     "data": {
      "text/plain": [
       "479001600"
      ]
     },
     "execution_count": 50,
     "metadata": {},
     "output_type": "execute_result"
    }
   ],
   "source": [
    "math.factorial(12)"
   ]
  },
  {
   "cell_type": "code",
   "execution_count": 51,
   "id": "929c520f-0959-4653-9a1d-c11101ba90d6",
   "metadata": {},
   "outputs": [
    {
     "data": {
      "text/plain": [
       "479001600.0"
      ]
     },
     "execution_count": 51,
     "metadata": {},
     "output_type": "execute_result"
    }
   ],
   "source": [
    "math.gamma(13)"
   ]
  },
  {
   "cell_type": "code",
   "execution_count": 52,
   "id": "4fa148fd-f3f5-44de-b272-62adbe4e1b8f",
   "metadata": {},
   "outputs": [
    {
     "data": {
      "text/plain": [
       "False"
      ]
     },
     "execution_count": 52,
     "metadata": {},
     "output_type": "execute_result"
    }
   ],
   "source": [
    "math.factorial(35)==math.gamma(36)"
   ]
  },
  {
   "cell_type": "code",
   "execution_count": 53,
   "id": "9dff0d48-f1df-43b4-955c-e199091a7eb2",
   "metadata": {},
   "outputs": [
    {
     "data": {
      "text/plain": [
       "10333147966386144929666651337523200000000"
      ]
     },
     "execution_count": 53,
     "metadata": {},
     "output_type": "execute_result"
    }
   ],
   "source": [
    "math.factorial(35)"
   ]
  },
  {
   "cell_type": "code",
   "execution_count": 54,
   "id": "89315fbb-fe09-4407-b0cc-7563e2f8db87",
   "metadata": {},
   "outputs": [
    {
     "data": {
      "text/plain": [
       "1.0333147966386145e+40"
      ]
     },
     "execution_count": 54,
     "metadata": {},
     "output_type": "execute_result"
    }
   ],
   "source": [
    "math.gamma(36)"
   ]
  },
  {
   "cell_type": "markdown",
   "id": "d674b275-8413-4292-8590-fb93ddb218c5",
   "metadata": {},
   "source": [
    "++++++++++++++math.lgamma()\n",
    "\n",
    "Bu fonksiyon daha önce öğrendiğimiz iki fonksiyonu birleştiriyor.\n",
    "\n"
   ]
  },
  {
   "cell_type": "code",
   "execution_count": 55,
   "id": "468abc01-8e32-4be8-91ac-a6d7a705a9fa",
   "metadata": {},
   "outputs": [
    {
     "data": {
      "text/plain": [
       "True"
      ]
     },
     "execution_count": 55,
     "metadata": {},
     "output_type": "execute_result"
    }
   ],
   "source": [
    "math.lgamma(45)==math.log(math.gamma(45))"
   ]
  },
  {
   "cell_type": "code",
   "execution_count": 56,
   "id": "9169eb59-f0b5-490f-a12d-7749a8253230",
   "metadata": {},
   "outputs": [
    {
     "data": {
      "text/plain": [
       "125.3172711493569"
      ]
     },
     "execution_count": 56,
     "metadata": {},
     "output_type": "execute_result"
    }
   ],
   "source": [
    "math.log(math.gamma(45))\n"
   ]
  },
  {
   "cell_type": "code",
   "execution_count": 57,
   "id": "4c3899b5-29e9-4d20-b660-452f9fcf6e89",
   "metadata": {},
   "outputs": [
    {
     "data": {
      "text/plain": [
       "125.3172711493569"
      ]
     },
     "execution_count": 57,
     "metadata": {},
     "output_type": "execute_result"
    }
   ],
   "source": [
    "math.lgamma(45)\n"
   ]
  },
  {
   "cell_type": "code",
   "execution_count": null,
   "id": "bea77d46-0e51-4e26-bada-f36319a8a899",
   "metadata": {},
   "outputs": [],
   "source": []
  }
 ],
 "metadata": {
  "kernelspec": {
   "display_name": "Python 3 (ipykernel)",
   "language": "python",
   "name": "python3"
  },
  "language_info": {
   "codemirror_mode": {
    "name": "ipython",
    "version": 3
   },
   "file_extension": ".py",
   "mimetype": "text/x-python",
   "name": "python",
   "nbconvert_exporter": "python",
   "pygments_lexer": "ipython3",
   "version": "3.10.12"
  }
 },
 "nbformat": 4,
 "nbformat_minor": 5
}
