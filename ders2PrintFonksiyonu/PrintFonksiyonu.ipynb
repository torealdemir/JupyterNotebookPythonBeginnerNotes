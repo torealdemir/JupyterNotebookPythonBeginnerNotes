{
 "cells": [
  {
   "cell_type": "markdown",
   "id": "9c44bd84-3880-4556-80ec-0b6391d4c8fd",
   "metadata": {},
   "source": [
    "Print Fonksiyonu"
   ]
  },
  {
   "cell_type": "markdown",
   "id": "59d8fc6d-dca3-4c96-acb8-a1a726e2e0eb",
   "metadata": {},
   "source": [
    "Geçen bölümde bir yandan Python’ın etkileşimli kabuğunu yakından tanıyıp bu vesileyle bazı önemli fonksiyon ve araçları öğrenirken, öbür yandan bu öğrendiklerimizi kullanarak örnek programlar yazdık. Gördüğünüz gibi, azıcık bir bilgiyle dahi az çok işe yarar programlar yazmak mümkün olabiliyor. Daha yararlı programlar yazabilmek için henüz öğrenmemiz gereken pek çok şey var. İşte bu bölümde, ‘daha yararlı programlar yazmamızı’ sağlayacak çok önemli bir araçtan söz edeceğiz. Öneminden dolayı ayrıntılı bir şekilde anlatacağımız bu aracın adı print() fonksiyonu.\n",
    "\n",
    "Elbette bu bölümde sadece print() fonksiyonundan bahsetmeyeceğiz. Bu bölümde print() fonksiyonunun yanısıra Python’daki bazı önemli temel konuları da ele alacağız. Mesela bu bölümde Python’daki karakter dizilerine ve sayılara ilişkin çok önemli bilgiler vereceğiz. Ayrıca print() fonksiyonu vesilesiyle Python’daki ‘fonksiyon’ konusuna da sağlam bir giriş yapmış, bu kavram ile ilgili ilk bilgilerimizi almış olacağız. Sözün özü, bu bölüm bizim için, deyim yerindeyse, tam anlamıyla bir dönüm noktası olacak.\n",
    "\n",
    "O halde isterseniz lafı daha fazla uzatmadan işe print() fonksiyonunun ne olduğu ve ne işe yaradığını anlatarak başlayalım."
   ]
  },
  {
   "cell_type": "code",
   "execution_count": 6,
   "id": "ea4613db-8dcc-4948-9db3-9dea56405e13",
   "metadata": {},
   "outputs": [
    {
     "name": "stdout",
     "output_type": "stream",
     "text": [
      "Object `Yarar` not found.\n"
     ]
    }
   ],
   "source": [
    "Nedir, Ne İşe Yarar?"
   ]
  },
  {
   "cell_type": "markdown",
   "id": "9cea0d12-3039-45ea-8b81-451abdf09f61",
   "metadata": {},
   "source": [
    "Şimdiye kadar etkileşimli kabukta gerek karakter dizilerini gerekse sayıları doğrudan ekrana yazdık. Yani şöyle bir şey yaptık:\n",
    "\n"
   ]
  },
  {
   "cell_type": "code",
   "execution_count": 7,
   "id": "f41e7e8b-d202-4227-8ec6-a4f5d05e3dbf",
   "metadata": {},
   "outputs": [
    {
     "data": {
      "text/plain": [
       "6567"
      ]
     },
     "execution_count": 7,
     "metadata": {},
     "output_type": "execute_result"
    }
   ],
   "source": [
    "6567"
   ]
  },
  {
   "cell_type": "code",
   "execution_count": 8,
   "id": "731a487f-7dbe-4fdc-9e0a-49ac4b3507e9",
   "metadata": {},
   "outputs": [
    {
     "data": {
      "text/plain": [
       "'Python programlama dili'"
      ]
     },
     "execution_count": 8,
     "metadata": {},
     "output_type": "execute_result"
    }
   ],
   "source": [
    "\"Python programlama dili\""
   ]
  },
  {
   "cell_type": "markdown",
   "id": "ed59294e-4c63-4998-98c4-55176d2ede3d",
   "metadata": {},
   "source": [
    "Etkileşimli kabuk da, ekrana yazdığımız bu karakter dizisi ve sayıyı doğrudan bize çıktı olarak verdi. Ancak ilerde Python kodlarımızı bir dosyaya kaydedip çalıştırdığımızda da göreceğiniz gibi, Python’ın ekrana çıktı verebilmesi için yukarıdaki kullanım yeterli değildir. Yani yukarıdaki kullanım yalnızca etkileşimli kabukta çalışır. Bu kodları bir dosyaya kaydedip çalıştırmak istediğimizde hiçbir çıktı alamayız. Python’da yazdığımız şeylerin ekrana çıktı olarak verilebilmesi için print() adlı özel bir fonksiyondan yararlanmamız gerekir.\n",
    "\n",
    "O halde gelin bu print() fonksiyonunun ne işe yaradığını ve nasıl kullanıldığını anlamaya çalışalım:\n",
    "\n",
    "print() de tıpkı daha önce gördüğümüz type(), len() ve pow() gibi bir fonksiyondur. Fonksiyonları ilerde daha ayrıntılı bir şekilde inceleyeceğimizi söylemiştik hatırlarsanız. O yüzden fonksiyon kelimesine takılarak, burada anlattığımız şeylerin kafanızı karıştırmasına, moralinizi bozmasına izin vermeyin.\n",
    "\n",
    "print() fonksiyonunun görevi ekrana çıktı vermemizi sağlamaktır. Hemen bununla ilgili bir örnek verelim:"
   ]
  },
  {
   "cell_type": "code",
   "execution_count": 9,
   "id": "bc6e792b-7a4b-4a9f-9745-2f50fda2bd95",
   "metadata": {},
   "outputs": [
    {
     "name": "stdout",
     "output_type": "stream",
     "text": [
      "Python programlama dili\n"
     ]
    }
   ],
   "source": [
    "print(\"Python programlama dili\")"
   ]
  },
  {
   "cell_type": "markdown",
   "id": "c5026af8-19ab-4a31-a7b7-ae59f779ab10",
   "metadata": {},
   "source": [
    "Bildiğiniz gibi burada gördüğümüz “Python programlama dili” bir karakter dizisidir. İşte print() fonksiyonunun görevi bu karakter dizisini ekrana çıktı olarak vermektir. Peki bu karakter dizisini print() fonksiyonu olmadan yazdığımızda da ekrana çıktı vermiş olmuyor muyuz? Aslında olmuyoruz. Dediğimiz gibi, ilerde programlarımızı dosyalara kaydedip çalıştırdığımızda, başında print() olmayan ifadelerin çıktıda görünmediğine şahit olacaksınız.\n",
    "\n",
    "Daha önce de dediğimiz gibi, etkileşimli kabuk bir test ortamı olması açısından rahat bir ortamdır. Bu sebeple bu ortamda ekrana çıktı verebilmek için print() fonksiyonunu kullanmak zorunda değilsiniz. Yani başında print() olsa da olmasa da etkileşimli kabuk ekrana yazdırmak istediğiniz şeyi yazdırır. Ama iyi bir alışkanlık olması açısından, ekrana herhangi bir şey yazdıracağınızda ben size print() fonksiyonunu kullanmanızı tavsiye ederim.\n",
    "\n",
    "print() son derece güçlü bir fonksiyondur. Gelin isterseniz bu güçlü ve faydalı fonksiyonu derin derin incelemeye koyulalım."
   ]
  },
  {
   "cell_type": "markdown",
   "id": "fd8e7311-60f9-4190-b69d-7477b75033ff",
   "metadata": {},
   "source": [
    "Nasıl Kullanılır?\n",
    "Yukarıda verdiğimiz örnekte ilk gözümüze çarpan şey, karakter dizisini print() fonksiyonunun parantezleri içine yazmış olmamızdır. Biz bir fonksiyonun parantezleri içinde belirtilen öğelere ‘parametre’ dendiğini geçen bölümde öğrenmiştik. Tıpkı öğrendiğimiz öteki fonksiyonlar gibi, print() fonksiyonu da birtakım parametreler alır.\n",
    "\n",
    "Bu arada print() fonksiyonunun parantezini açıp parametreyi yazdıktan sonra, parantezi kapatmayı unutmuyoruz. Python programlama diline yeni başlayanların, hatta bazen deneyimli programcıların bile en sık yaptığı hatalardan biri açtıkları parantezi kapatmayı unutmalarıdır.\n",
    "\n",
    "Elbette, eğer istersek burada doğrudan “Python programlama dili” adlı karakter dizisini kullanmak yerine, önce bu karakter dizisini bir değişkene atayıp, sonra da print() fonksiyonunun parantezleri içinde bu değişkeni kullanabiliriz. Yani:\n",
    "\n"
   ]
  },
  {
   "cell_type": "code",
   "execution_count": 12,
   "id": "44592630-0531-4035-88c2-d74aa2f8b609",
   "metadata": {},
   "outputs": [
    {
     "name": "stdout",
     "output_type": "stream",
     "text": [
      "Python programlama dili\n"
     ]
    }
   ],
   "source": [
    "dil = \"Python programlama dili\"\n",
    "print(dil)\n"
   ]
  },
  {
   "cell_type": "markdown",
   "id": "290bb381-031f-49ed-bb33-38d874edd106",
   "metadata": {},
   "source": [
    "Bu arada, hem şimdi verdiğimiz, hem de daha önce yazdığımız örneklerde bir şey dikkatinizi çekmiş olmalı. Şimdiye kadar verdiğimiz örneklerde karakter dizilerini hep çift tırnakla gösterdik. Ama aslında tek seçeneğimiz çift tırnak değildir. Python bize üç farklı tırnak seçeneği sunar:\n",
    "\n",
    "Tek tırnak (’ ‘)\n",
    "\n",
    "Çift tırnak (” “)\n",
    "\n",
    "Üç tırnak (“”” “””)\n",
    "\n",
    "Dolayısıyla yukarıdaki örneği üç farklı şekilde yazabiliriz:"
   ]
  },
  {
   "cell_type": "code",
   "execution_count": 13,
   "id": "444721d0-f085-464b-a098-56d3b26fadb3",
   "metadata": {},
   "outputs": [
    {
     "name": "stdout",
     "output_type": "stream",
     "text": [
      "Python programlama dili\n",
      "Python programlama dili\n",
      "Python programlama dili\n"
     ]
    }
   ],
   "source": [
    "print('Python programlama dili')\n",
    "print(\"Python programlama dili\")\n",
    "print(\"\"\"Python programlama dili\"\"\")\n"
   ]
  },
  {
   "cell_type": "markdown",
   "id": "e434b9ea-b76c-4e5d-98e9-036a0b1a256f",
   "metadata": {},
   "source": [
    "Gördüğünüz gibi çıktılar arasında hiçbir fark yok.\n",
    "\n",
    "Peki çıktılarda hiçbir fark yoksa neden üç farklı tırnak çeşidi var?\n",
    "\n",
    "İsterseniz bu soruyu bir örnek üzerinden açıklamaya çalışalım. Diyelim ki ekrana şöyle bir çıktı vermek istiyoruz:\n",
    "\n"
   ]
  },
  {
   "cell_type": "markdown",
   "id": "7ee5d201-6cab-480a-805d-0e482db6139e",
   "metadata": {},
   "source": [
    "Python programlama dilinin adı \"piton\" yılanından gelmez"
   ]
  },
  {
   "cell_type": "code",
   "execution_count": 14,
   "id": "053a0c70-fe2e-43a2-a260-dbb21cd51827",
   "metadata": {},
   "outputs": [
    {
     "ename": "SyntaxError",
     "evalue": "invalid syntax. Perhaps you forgot a comma? (744969160.py, line 1)",
     "output_type": "error",
     "traceback": [
      "\u001b[0;36m  Cell \u001b[0;32mIn[14], line 1\u001b[0;36m\u001b[0m\n\u001b[0;31m    print(\"Python programlama dilinin adı \"piton\" yılanından gelmez\")\u001b[0m\n\u001b[0m          ^\u001b[0m\n\u001b[0;31mSyntaxError\u001b[0m\u001b[0;31m:\u001b[0m invalid syntax. Perhaps you forgot a comma?\n"
     ]
    }
   ],
   "source": [
    "print(\"Python programlama dilinin adı \"piton\" yılanından gelmez\")"
   ]
  },
  {
   "cell_type": "markdown",
   "id": "c7339c93-4b7f-4942-ad2f-930b9fa9c857",
   "metadata": {},
   "source": [
    "Bunun sebebi, cümle içinde geçen ‘piton’ kelimesinin de çift tırnaklar içinde gösterilmiş olmasıdır. Cümlenin, yani karakter dizisinin kendisi de çift tırnak içinde gösterildiği için Python, karakter dizisini başlatan ve bitiren tırnakların hangisi olduğunu ayırt edemiyor. Yukarıdaki cümleyi en kolay şu şekilde ekrana yazdırabiliriz:"
   ]
  },
  {
   "cell_type": "code",
   "execution_count": 15,
   "id": "00e7dd63-4282-4f8a-a67c-ee4059b79173",
   "metadata": {},
   "outputs": [
    {
     "name": "stdout",
     "output_type": "stream",
     "text": [
      "Python programlama dilinin adı \"piton\" yılanından gelmez\n"
     ]
    }
   ],
   "source": [
    "print('Python programlama dilinin adı \"piton\" yılanından gelmez')"
   ]
  },
  {
   "cell_type": "markdown",
   "id": "0a5bbdfd-48d8-4d82-9817-c6d92c4a07aa",
   "metadata": {},
   "source": [
    "Burada karakter dizisini tek tırnak içine aldık. Karakter dizisi içinde geçen ‘piton’ kelimesi çift tırnak içinde olduğu için, karakter dizisini başlatıp bitiren tırnaklarla ‘piton’ kelimesindeki tırnakların birbirine karışması gibi bir durum söz konusu değildir.\n",
    "\n",
    "Bir de şöyle bir örnek verelim: Diyelim ki aşağıdaki gibi bir çıktı elde etmek istiyoruz:"
   ]
  },
  {
   "cell_type": "markdown",
   "id": "f3ff6cf4-2921-40a2-887d-6f241cd9b917",
   "metadata": {},
   "source": [
    "İstanbul'un 5 günlük hava durumu tahmini"
   ]
  },
  {
   "cell_type": "code",
   "execution_count": 17,
   "id": "1c4f2e18-b575-419a-8606-c74f6772152a",
   "metadata": {},
   "outputs": [
    {
     "ename": "SyntaxError",
     "evalue": "unterminated string literal (detected at line 1) (387361678.py, line 1)",
     "output_type": "error",
     "traceback": [
      "\u001b[0;36m  Cell \u001b[0;32mIn[17], line 1\u001b[0;36m\u001b[0m\n\u001b[0;31m    print('İstanbul'un 5 günlük hava durumu tahmini')\u001b[0m\n\u001b[0m                                                   ^\u001b[0m\n\u001b[0;31mSyntaxError\u001b[0m\u001b[0;31m:\u001b[0m unterminated string literal (detected at line 1)\n"
     ]
    }
   ],
   "source": [
    "print('İstanbul'un 5 günlük hava durumu tahmini')\n"
   ]
  },
  {
   "cell_type": "markdown",
   "id": "08a912dc-90d2-4f23-856b-db493c7e11e2",
   "metadata": {},
   "source": [
    "Bu hatanın sebebi ‘İstanbul’un’ kelimesi içinde geçen kesme işaretidir. Tıpkı bir önceki örnekte olduğu gibi, Python karakter dizisini başlatan ve bitiren tırnakların hangisi olduğunu kestiremiyor. Python, karakter dizisinin en başındaki tek tırnak işaretinin ardından ‘İstanbul’un’ kelimesi içindeki kesme işaretini görünce karakter dizisinin burada sona erdiğini zannediyor. Ancak karakter dizisini soldan sağa doğru okumaya devam edince bir yerlerde bir terslik olduğunu düşünüyor ve bize bir hata mesajı göstermekten başka çaresi kalmıyor. Yukarıdaki karakter dizisini en kolay şöyle tanımlayabiliriz:\n",
    "\n"
   ]
  },
  {
   "cell_type": "code",
   "execution_count": 18,
   "id": "6c47412d-8ab8-4026-b16c-057b05a7ff81",
   "metadata": {},
   "outputs": [
    {
     "name": "stdout",
     "output_type": "stream",
     "text": [
      "İstanbul'un 5 günlük hava durumu tahmini\n"
     ]
    }
   ],
   "source": [
    "print(\"İstanbul'un 5 günlük hava durumu tahmini\")\n"
   ]
  },
  {
   "cell_type": "markdown",
   "id": "90c0ac8d-e722-48d9-98c5-045b4d3891c3",
   "metadata": {},
   "source": [
    "Burada da, karakter dizisi içinde geçen kesme işaretine takılmamak için karakter dizimizi çift tırnak işaretleri içine alıyoruz.\n",
    "\n",
    "Yukarıdaki karakter dizilerini düzgün bir şekilde çıktı verebilmek için üç tırnak işaretlerinden de yararlanabiliriz:"
   ]
  },
  {
   "cell_type": "code",
   "execution_count": 19,
   "id": "b5dc3c64-da52-4074-8f8f-b81b5c5b515b",
   "metadata": {},
   "outputs": [
    {
     "name": "stdout",
     "output_type": "stream",
     "text": [
      "Python programlama dilinin adı \"piton\" yılanından gelmez\n"
     ]
    }
   ],
   "source": [
    "print(\"\"\"Python programlama dilinin adı \"piton\" yılanından gelmez\"\"\")"
   ]
  },
  {
   "cell_type": "code",
   "execution_count": 20,
   "id": "ba85df1d-70f0-4bac-af5b-a4319562e0c3",
   "metadata": {},
   "outputs": [
    {
     "name": "stdout",
     "output_type": "stream",
     "text": [
      "İstanbul'un 5 günlük hava durumu tahmini\n"
     ]
    }
   ],
   "source": [
    "print(\"\"\"İstanbul'un 5 günlük hava durumu tahmini\"\"\")"
   ]
  },
  {
   "cell_type": "markdown",
   "id": "0fc1f238-3135-47d9-8134-840c55eeaad1",
   "metadata": {},
   "source": [
    "Bütün bu örneklerden sonra kafanızda şöyle bir düşünce uyanmış olabilir:\n",
    "\n",
    "Görünüşe göre üç tırnak işaretiyle her türlü karakter dizisini hatasız bir şekilde ekrana çıktı olarak verebiliyoruz. O zaman ben en iyisi bütün karakter dizileri için üç tırnak işaretini kullanayım!\n",
    "\n",
    "Elbette, eğer isterseniz pek çok karakter dizisi için üç tırnak işaretini kullanabilirsiniz. Ancak Python’da karakter dizileri tanımlanırken genellikle tek tırnak veya çift tırnak işaretleri kullanılır. Üç tırnak işaretlerinin asıl kullanım yeri ise farklıdır. Peki nedir bu üç tırnak işaretlerinin asıl kullanım yeri?\n",
    "\n",
    "Üç tırnak işaretlerini her türlü karakter dizisiyle birlikte kullanabiliyor olsak da, bu tırnak tipi çoğunlukla sadece birden fazla satıra yayılmış karakter dizilerini tanımlamada kullanılır. Örneğin şöyle bir ekran çıktısı vermek istediğinizi düşünün:"
   ]
  },
  {
   "cell_type": "raw",
   "id": "0b9dd843-0713-4d07-82e0-30275523d938",
   "metadata": {},
   "source": [
    "[H]=========HARMAN========[-][o][x]\n",
    "|                                 |\n",
    "|     Programa Hoşgeldiniz!       |\n",
    "|           Sürüm 0.8             |\n",
    "|    Devam etmek için herhangi    |\n",
    "|       bir düğmeye basın.        |\n",
    "|                                 |\n",
    "|=================================|"
   ]
  },
  {
   "cell_type": "markdown",
   "id": "dcb9df5a-d9e8-48be-ab7a-acdaae9b71d4",
   "metadata": {},
   "source": [
    "Böyle bir çıktı verebilmek için eğer tek veya çift tırnak kullanmaya kalkışırsanız epey eziyet çekersiniz. Bu tür bir çıktı vermenin en kolay yolu üç tırnakları kullanmaktır:"
   ]
  },
  {
   "cell_type": "code",
   "execution_count": 21,
   "id": "42bb3b38-b8d0-4027-965f-3f895f068615",
   "metadata": {},
   "outputs": [
    {
     "name": "stdout",
     "output_type": "stream",
     "text": [
      "\n",
      "[H]=========HARMAN========[-][o][x]\n",
      "|                                 |\n",
      "|     Programa Hoşgeldiniz!       |\n",
      "|           Sürüm 0.8             |\n",
      "|    Devam etmek için herhangi    |\n",
      "|       bir düğmeye basın.        |\n",
      "|                                 |\n",
      "|=================================|\n",
      "\n"
     ]
    }
   ],
   "source": [
    "print(\"\"\"\n",
    "[H]=========HARMAN========[-][o][x]\n",
    "|                                 |\n",
    "|     Programa Hoşgeldiniz!       |\n",
    "|           Sürüm 0.8             |\n",
    "|    Devam etmek için herhangi    |\n",
    "|       bir düğmeye basın.        |\n",
    "|                                 |\n",
    "|=================================|\n",
    "\"\"\")"
   ]
  },
  {
   "cell_type": "markdown",
   "id": "37c1126f-27df-46dd-bf70-c3dad70a134d",
   "metadata": {},
   "source": [
    "Burada bazı şeyler dikkatinizi çekmiş olmalı. Gördüğünüz gibi, üç tırnaklı yapı öteki tırnak tiplerine göre biraz farklı davranıyor. Şimdi şu örneğe bakın:"
   ]
  },
  {
   "cell_type": "markdown",
   "id": "b7d3bd94-6e31-4824-a1f8-2706ad301588",
   "metadata": {},
   "source": [
    "Buraya çok dikkatli bakın. Karakter dizisine üç tırnakla başladıktan sonra, kapanış tırnağını koymadan Enter tuşuna bastığımızda >>> işareti … işaretine dönüştü. Python bu şekilde bize, ‘yazmaya devam et!’ demiş oluyor. Biz de buna uyarak yazmaya devam edelim:\n",
    "\n"
   ]
  },
  {
   "cell_type": "markdown",
   "id": "e3497045-65d5-400a-8c7c-ba79bbbc35f9",
   "metadata": {},
   "source": [
    "print(\"\"\"Game Over!\n",
    "Insert Coin!\"\"\")"
   ]
  },
  {
   "cell_type": "markdown",
   "id": "e42241fe-b859-4940-9400-d10e13106c0d",
   "metadata": {},
   "source": [
    "Kapanış tırnağı koyulmadan Enter tuşuna basıldığında >>> işaretinin … işaretine dönüşmesi üç tırnağa özgü bir durumdur. Eğer aynı şeyi tek veya çift tırnaklarla yapmaya çalışırsanız programınız hata verir:"
   ]
  },
  {
   "cell_type": "code",
   "execution_count": 24,
   "id": "f62e51be-65a8-4813-8a8b-796d0ab18b7c",
   "metadata": {},
   "outputs": [
    {
     "ename": "SyntaxError",
     "evalue": "unterminated string literal (detected at line 1) (3545895289.py, line 1)",
     "output_type": "error",
     "traceback": [
      "\u001b[0;36m  Cell \u001b[0;32mIn[24], line 1\u001b[0;36m\u001b[0m\n\u001b[0;31m    print(\"Game Over!\u001b[0m\n\u001b[0m          ^\u001b[0m\n\u001b[0;31mSyntaxError\u001b[0m\u001b[0;31m:\u001b[0m unterminated string literal (detected at line 1)\n"
     ]
    }
   ],
   "source": [
    "print(\"Game Over!"
   ]
  },
  {
   "cell_type": "code",
   "execution_count": 25,
   "id": "a359c299-2a6f-4d44-8f44-e5c4e854c297",
   "metadata": {},
   "outputs": [
    {
     "ename": "SyntaxError",
     "evalue": "unterminated string literal (detected at line 1) (1884984986.py, line 1)",
     "output_type": "error",
     "traceback": [
      "\u001b[0;36m  Cell \u001b[0;32mIn[25], line 1\u001b[0;36m\u001b[0m\n\u001b[0;31m    print('Game Over!\u001b[0m\n\u001b[0m          ^\u001b[0m\n\u001b[0;31mSyntaxError\u001b[0m\u001b[0;31m:\u001b[0m unterminated string literal (detected at line 1)\n"
     ]
    }
   ],
   "source": [
    "print('Game Over!\n"
   ]
  },
  {
   "cell_type": "markdown",
   "id": "9c619eda-16c0-45d0-9de0-053d83bc1b40",
   "metadata": {},
   "source": [
    "Üç tırnak işaretlerinin tırnak kapanmadan Enter tuşuna basıldığında hata vermeme özelliği sayesinde, bu tırnak tipi özellikle birden fazla satıra yayılmış karakter dizilerinin gösterilmesi için birebirdir.\n",
    "\n",
    "Gelin isterseniz üç tırnak kullanımına ilişkin bir örnek daha verelim:"
   ]
  },
  {
   "cell_type": "code",
   "execution_count": 26,
   "id": "fa407ded-42ea-40ce-bcd5-4c152a9e20b1",
   "metadata": {},
   "outputs": [
    {
     "name": "stdout",
     "output_type": "stream",
     "text": [
      "Python programlama dili Guido Van Rossum\n",
      "adlı Hollandalı bir programcı tarafından 90’lı\n",
      "yılların başında geliştirilmeye başlanmıştır. Çoğu\n",
      "insan, isminin \"Python\" olmasına bakarak, bu programlama\n",
      "dilinin, adını piton yılanından aldığını düşünür.\n",
      "Ancak zannedildiğinin aksine bu programlama dilinin\n",
      "adı piton yılanından gelmez.\n"
     ]
    }
   ],
   "source": [
    "print(\"\"\"Python programlama dili Guido Van Rossum\n",
    "adlı Hollandalı bir programcı tarafından 90’lı\n",
    "yılların başında geliştirilmeye başlanmıştır. Çoğu\n",
    "insan, isminin \"Python\" olmasına bakarak, bu programlama\n",
    "dilinin, adını piton yılanından aldığını düşünür.\n",
    "Ancak zannedildiğinin aksine bu programlama dilinin\n",
    "adı piton yılanından gelmez.\"\"\")"
   ]
  },
  {
   "cell_type": "markdown",
   "id": "b2fb17a9-b37b-4321-9af0-277ae970a0c1",
   "metadata": {},
   "source": [
    "Elbette eğer istersek bu metni önce bir değişkene atamayı da tercih edebiliriz:"
   ]
  },
  {
   "cell_type": "code",
   "execution_count": 28,
   "id": "76f2ca0d-c578-408b-a8fe-1f7018d9df68",
   "metadata": {},
   "outputs": [
    {
     "name": "stdout",
     "output_type": "stream",
     "text": [
      "Python programlama dili Guido Van Rossum\n",
      "adlı Hollandalı bir programcı tarafından 90’lı\n",
      "yılların başında geliştirilmeye başlanmıştır. Çoğu\n",
      "insan, isminin \"Python\" olmasına bakarak, bu programlama\n",
      "dilinin, adını piton yılanından aldığını düşünür.\n",
      "Ancak zannedildiğinin aksine bu programlama dilinin\n",
      "adı piton yılanından gelmez.\n"
     ]
    }
   ],
   "source": [
    "python_hakkinda = \"\"\"Python programlama dili Guido Van Rossum\n",
    "adlı Hollandalı bir programcı tarafından 90’lı\n",
    "yılların başında geliştirilmeye başlanmıştır. Çoğu\n",
    "insan, isminin \"Python\" olmasına bakarak, bu programlama\n",
    "dilinin, adını piton yılanından aldığını düşünür.\n",
    "Ancak zannedildiğinin aksine bu programlama dilinin\n",
    "adı piton yılanından gelmez.\"\"\"\n",
    "print(python_hakkinda)"
   ]
  },
  {
   "cell_type": "markdown",
   "id": "31ae0d7a-8e76-459c-805c-2e0ae6bb45c9",
   "metadata": {},
   "source": [
    "BIR FONKSIYON OLARAK PRINT"
   ]
  },
  {
   "cell_type": "markdown",
   "id": "72d3841a-abac-446b-8615-4a7dee0ac889",
   "metadata": {},
   "source": [
    "print() ifadesinin bir fonksiyon olduğunu söylemiştik hatırlarsanız. Dediğimiz gibi, fonksiyonlarla ilgili ayrıntılı açıklamaları ilerleyen derslerde vereceğiz. Ancak şimdi dilerseniz bundan sonra anlatacaklarımızı daha iyi kavrayabilmemiz için, fonksiyonlar hakkında bilmemiz gereken bazı temel şeyleri öğrenmeye çalışalım.\n",
    "\n",
    "Gördüğünüz gibi, print() fonksiyonunu şöyle kullanıyoruz:\n",
    "\n"
   ]
  },
  {
   "cell_type": "code",
   "execution_count": 29,
   "id": "89f7b20a-e7ae-4b53-b7f9-d0a8c61e997d",
   "metadata": {},
   "outputs": [
    {
     "name": "stdout",
     "output_type": "stream",
     "text": [
      "Aramak istediğiniz kelimeyi yazın: \n"
     ]
    }
   ],
   "source": [
    "print(\"Aramak istediğiniz kelimeyi yazın: \")"
   ]
  },
  {
   "cell_type": "markdown",
   "id": "cab2e95f-4090-4a9d-838f-34aebd1c4772",
   "metadata": {},
   "source": [
    "Burada print() bir fonksiyon, “Aramak istediğiniz kelimeyi yazın:” adlı karakter dizisi ise bu fonksiyonun parametresidir. Daha önce len() adlı başka bir fonksiyon daha öğrenmiştik hatırlarsanız. Onu da şöyle kullanıyorduk:"
   ]
  },
  {
   "cell_type": "code",
   "execution_count": 30,
   "id": "891a41cc-8e06-4015-b111-87c5550ca7f9",
   "metadata": {},
   "outputs": [
    {
     "data": {
      "text/plain": [
       "4"
      ]
     },
     "execution_count": 30,
     "metadata": {},
     "output_type": "execute_result"
    }
   ],
   "source": [
    "len(\"elma\")"
   ]
  },
  {
   "cell_type": "markdown",
   "id": "124d49bb-5dcb-4e46-8651-c1a5bac3988f",
   "metadata": {},
   "source": [
    "Burada da len() bir fonksiyon, “elma” adlı karakter dizisi ise bu fonksiyonun parametresidir. Aslında biçim olarak print() ve len() fonksiyonlarının birbirinden hiçbir farkı olmadığını görüyorsunuz.\n",
    "\n",
    "Daha önce söylediğimiz ve bu örneklerden de anladığımız gibi, bir fonksiyonun parantezleri içinde belirtilen öğelere parametre adı veriliyor. Mesela aşağıdaki örnekte print() fonksiyonunu tek bir parametre ile kullanıyoruz:"
   ]
  },
  {
   "cell_type": "code",
   "execution_count": 31,
   "id": "962730a4-8921-4d3c-9cc0-facc30675976",
   "metadata": {},
   "outputs": [
    {
     "name": "stdout",
     "output_type": "stream",
     "text": [
      "En az 8 haneli bir parola belirleyin.\n"
     ]
    }
   ],
   "source": [
    "print('En az 8 haneli bir parola belirleyin.')"
   ]
  },
  {
   "cell_type": "markdown",
   "id": "57652415-e4ef-4355-a36d-9eeea13ac736",
   "metadata": {},
   "source": [
    "print() fonksiyonu, tıpkı pow() fonksiyonu gibi, birden fazla parametre alabilir:"
   ]
  },
  {
   "cell_type": "code",
   "execution_count": 33,
   "id": "e3a09564-82e1-4e3c-9a55-368c5e485907",
   "metadata": {},
   "outputs": [
    {
     "name": "stdout",
     "output_type": "stream",
     "text": [
      "Fırat Özgül\n"
     ]
    }
   ],
   "source": [
    "print('Fırat', 'Özgül')"
   ]
  },
  {
   "cell_type": "markdown",
   "id": "19cfb183-929e-457b-9f30-4d644f4170ab",
   "metadata": {},
   "source": [
    "Bu örnekte bizim için çıkarılacak çok dersler var. Bir defa burada print() fonksiyonunu iki farklı parametre ile birlikte kullandık. Bunlardan ilki Fırat adlı bir karakter dizisi, ikincisi ise Özgül adlı başka bir karakter dizisi. Python’ın bu iki karakter dizisini nasıl birleştirdiğine dikkat edin. print() fonksiyonu bu iki karakter dizisini çıktı olarak verirken aralarına da birer boşluk yerleştirdi. Ayrıca, geçen derste de vurguladığımız gibi, parametrelerin birbirinden virgül ile ayrıldığını da gözden kaçırmıyoruz.\n",
    "\n",
    "Gelin bununla ilgili bir iki örnek daha verelim elimizin alışması için:"
   ]
  },
  {
   "cell_type": "code",
   "execution_count": 34,
   "id": "c6b1de71-3942-4467-ab09-f5a82637bd60",
   "metadata": {},
   "outputs": [
    {
     "name": "stdout",
     "output_type": "stream",
     "text": [
      "Python Programlama Dili\n",
      "Fırat Özgül Adana 1980\n"
     ]
    }
   ],
   "source": [
    "print(\"Python\", \"Programlama\", \"Dili\")\n",
    "print('Fırat', 'Özgül', 'Adana', 1980)"
   ]
  },
  {
   "cell_type": "markdown",
   "id": "31b128c2-d604-4d76-a284-a97571a643c4",
   "metadata": {},
   "source": [
    "Bu arada dikkatinizi önemli bir noktaya çekmek istiyorum. Yukarıdaki örneklerde bazen tek tırnak, bazen de çift tırnak kullandık. Daha önce de söylediğimiz gibi, hangi tırnak tipini kullandığımız önemli değildir. Python hangi tırnak tipini kullandığımızdan ziyade, tırnak kullanımında tutarlı olup olmadığımızla ilgilenir. Yani Python için önemli olan, karakter dizisini hangi tırnakla başlatmışsak, o tırnakla bitirmemizdir. Yani şu tip kullanımlar geçerli değildir:"
   ]
  },
  {
   "cell_type": "code",
   "execution_count": 35,
   "id": "2beba7ae-4feb-4513-aac5-1dddb0b00775",
   "metadata": {},
   "outputs": [
    {
     "ename": "SyntaxError",
     "evalue": "unterminated string literal (detected at line 1) (3636621684.py, line 1)",
     "output_type": "error",
     "traceback": [
      "\u001b[0;36m  Cell \u001b[0;32mIn[35], line 1\u001b[0;36m\u001b[0m\n\u001b[0;31m    print(\"karakter dizisi')\u001b[0m\n\u001b[0m          ^\u001b[0m\n\u001b[0;31mSyntaxError\u001b[0m\u001b[0;31m:\u001b[0m unterminated string literal (detected at line 1)\n"
     ]
    }
   ],
   "source": [
    "print(\"karakter dizisi')\n",
    "\n",
    "print('karakter dizisi\")"
   ]
  },
  {
   "cell_type": "markdown",
   "id": "f2760f30-2074-4fcc-af7e-90731feeb30b",
   "metadata": {},
   "source": [
    "Karakter dizisini tanımlamaya başlarken kullandığımız tırnak tipi ile karakter dizisini tanımlamayı bitirirken kullandığımız tırnak tipi birbirinden farklı olduğu için bu iki kullanım da hata verecektir."
   ]
  },
  {
   "cell_type": "markdown",
   "id": "d293464b-79b6-47f2-9bd1-13afbe2b2820",
   "metadata": {},
   "source": [
    "PRINT() FONKSIYONUNUN PARAMETRELERI"
   ]
  },
  {
   "cell_type": "markdown",
   "id": "295da5b4-c498-406e-b885-43f98eba5550",
   "metadata": {},
   "source": [
    "Şimdiye kadar verdiğimiz örneklerde belki çok da belli olmuyordur, ama aslında print() fonksiyonu son derece güçlü bir araçtır. İşte şimdi biz bu fonksiyonun gücünü gözler önüne seren özelliklerini incelemeye başlayacağız. Bu bölümü dikkatle takip etmeniz, ilerde yapacağımız çalışmaları daha rahat anlayabilmeniz açısından büyük önem taşır."
   ]
  },
  {
   "cell_type": "markdown",
   "id": "2cde4018-2c8f-4642-8060-7b62dab38f88",
   "metadata": {},
   "source": [
    "sep"
   ]
  },
  {
   "cell_type": "markdown",
   "id": "d27667ea-f7ab-42cc-b7b3-5168e6f49c2c",
   "metadata": {},
   "source": [
    "print() fonksiyonu ile ilgili olarak yukarıda verdiğimiz örnekleri incelediğimizde, bu fonksiyonun kendine özgü bir davranış şekli olduğunu görüyoruz. Mesela bir önceki bölümde verdiğimiz şu örneğe bakalım:"
   ]
  },
  {
   "cell_type": "code",
   "execution_count": 39,
   "id": "3de957fb-0919-4d57-8407-36892cbcf93e",
   "metadata": {},
   "outputs": [
    {
     "name": "stdout",
     "output_type": "stream",
     "text": [
      "Fırat Özgül\n"
     ]
    }
   ],
   "source": [
    "print('Fırat', 'Özgül')"
   ]
  },
  {
   "cell_type": "markdown",
   "id": "ebb0cd18-2cb1-4dee-8faa-87dcf150f44a",
   "metadata": {},
   "source": [
    "Burada print() fonksiyonunu iki farklı parametre ile birlikte kullandık. Bu fonksiyon, kendisine verdiğimiz bu parametreleri belli bir düzene göre birbiriyle birleştirdi. Bu düzen gereğince print(), kendisine verilen parametreleri birleştirirken, parametreler arasına bir boşluk yerleştiriyor. Bunu daha net görmek için şöyle bir örnek daha verelim:"
   ]
  },
  {
   "cell_type": "code",
   "execution_count": 40,
   "id": "873417fe-15d2-492c-a578-a581853fd72b",
   "metadata": {},
   "outputs": [
    {
     "name": "stdout",
     "output_type": "stream",
     "text": [
      "Python PHP C++ C Erlang\n"
     ]
    }
   ],
   "source": [
    "print(\"Python\", \"PHP\", \"C++\", \"C\", \"Erlang\")"
   ]
  },
  {
   "cell_type": "markdown",
   "id": "3e076c43-c619-417d-af63-d0073283b7b0",
   "metadata": {},
   "source": [
    "Gördüğünüz gibi, print() fonksiyonu gerçekten de, kendisine verilen parametreleri birleştirirken, parametrelerin her biri arasına bir boşluk yerleştiriyor. Halbuki bu boşluğu biz talep etmedik! Python bize bu boşluğu eşantiyon olarak verdi. Çoğu durumda istediğimiz şey bu olacaktır, ama bazı durumlarda bu boşluğu istemeyebiliriz. Örneğin:"
   ]
  },
  {
   "cell_type": "code",
   "execution_count": 41,
   "id": "d653c44d-e14d-450b-8176-3d4df8e219bf",
   "metadata": {},
   "outputs": [
    {
     "name": "stdout",
     "output_type": "stream",
     "text": [
      "http:// www. istihza. com\n"
     ]
    }
   ],
   "source": [
    "print(\"http://\", \"www.\", \"istihza.\", \"com\")"
   ]
  },
  {
   "cell_type": "markdown",
   "id": "0cb38ed0-4431-40d3-b068-472cd9e00fe2",
   "metadata": {},
   "source": [
    "Ya da boşluk karakteri yerine daha farklı bir karakter kullanmak istiyor da olabiliriz. Peki böyle bir durumda ne yapmamız gerekir?\n",
    "\n",
    "İşte bu noktada bazı özel araçlardan yararlanarak print() fonksiyonunun öntanımlı davranış kalıpları üzerinde değişiklikler yapabiliriz.\n",
    "\n",
    "Peki nedir print() fonksiyonunu özelleştirmemizi sağlayacak bu araçlar?\n",
    "\n",
    "Hatırlarsanız, Python’da fonksiyonların parantezleri içindeki değerlere parametre adı verildiğini söylemiştik. Mesela print() fonksiyonunu bir ya da daha fazla parametre ile birlikte kullanabileceğimizi biliyoruz:"
   ]
  },
  {
   "cell_type": "code",
   "execution_count": 42,
   "id": "32935f4a-7d2c-4ab4-b9da-e3287c443df0",
   "metadata": {},
   "outputs": [
    {
     "name": "stdout",
     "output_type": "stream",
     "text": [
      "Mehmet Öz İstanbul Çamlıca 156 / 45\n"
     ]
    }
   ],
   "source": [
    "print(\"Mehmet\", \"Öz\", \"İstanbul\", \"Çamlıca\", 156, \"/\", 45)\n"
   ]
  },
  {
   "cell_type": "markdown",
   "id": "67feccb3-7483-45bb-8ce3-0628807ab240",
   "metadata": {},
   "source": [
    "print() fonksiyonu içinde istediğimiz sayıda karakter dizisi ve/veya sayı değerli parametre kullanabiliriz.\n",
    "\n",
    "Fonksiyonların bir de daha özel görünümlü parametreleri vardır. Mesela print() fonksiyonunun sep adlı özel bir parametresi bulunur. Bu parametre print() fonksiyonunda görünmese bile her zaman oradadır. Yani diyelim ki şöyle bir kod yazdık:"
   ]
  },
  {
   "cell_type": "code",
   "execution_count": 43,
   "id": "b762a27b-5eb6-4f5e-a924-38157430f204",
   "metadata": {},
   "outputs": [
    {
     "name": "stdout",
     "output_type": "stream",
     "text": [
      "http:// www. google. com\n"
     ]
    }
   ],
   "source": [
    "print(\"http://\", \"www.\", \"google.\", \"com\")"
   ]
  },
  {
   "cell_type": "markdown",
   "id": "8ff29870-85f1-4cb0-b000-8e52b0281cdb",
   "metadata": {},
   "source": [
    "Burada herhangi bir sep parametresi görmüyoruz. Ancak Python yukarıdaki kodu aslında şöyle algılar:"
   ]
  },
  {
   "cell_type": "code",
   "execution_count": 44,
   "id": "e03e5536-c357-4370-9d70-4a2097b67d58",
   "metadata": {},
   "outputs": [
    {
     "name": "stdout",
     "output_type": "stream",
     "text": [
      "http:// www. google. com\n"
     ]
    }
   ],
   "source": [
    "print(\"http://\", \"www.\", \"google.\", \"com\", sep=\" \")"
   ]
  },
  {
   "cell_type": "markdown",
   "id": "4fe6476e-9401-4113-b4aa-b68155f2f3b1",
   "metadata": {},
   "source": [
    "sep ifadesi, İngilizcede separator (ayırıcı, ayraç) kelimesinin kısaltmasıdır. Dolayısıyla print() fonksiyonundaki bu sep parametresi, ekrana basılacak öğeler arasına hangi karakterin yerleştirileceğini gösterir. Bu parametrenin öntanımlı değeri bir adet boşluk karakteridir (” “). Yani siz bu özel parametrenin değerini başka bir şeyle değiştirmezseniz, Python bu parametrenin değerini bir adet boşluk karakteri olarak alacak ve ekrana basılacak öğeleri birbirinden birer boşlukla ayıracaktır. Ancak eğer biz istersek bu sep parametresinin değerini değiştirebiliriz. Böylece Python, karakter dizilerini birleştirirken araya boşluk değil, bizim istediğimiz başka bir karakteri yerleştirebilir. Gelin şimdi bu parametrenin değerini nasıl değiştireceğimizi görelim:"
   ]
  },
  {
   "cell_type": "code",
   "execution_count": 46,
   "id": "1320a76e-2b7d-418c-880b-732821122d6a",
   "metadata": {},
   "outputs": [
    {
     "name": "stdout",
     "output_type": "stream",
     "text": [
      "http://www.google.com\n"
     ]
    }
   ],
   "source": [
    "print(\"http://\", \"www.\", \"google.\", \"com\", sep=\"\")"
   ]
  },
  {
   "cell_type": "markdown",
   "id": "e5e6644d-3941-42a3-bb48-f233c5e23b60",
   "metadata": {},
   "source": [
    "Gördüğünüz gibi, karakter dizilerini başarıyla birleştirip, geçerli bir internet adresi elde ettik.\n",
    "\n",
    "Burada yaptığımız şey aslında çok basit. Sadece sep parametresinin ‘bir adet boşluk karakteri’ olan öntanımlı değerini silip, yerine ‘boş bir karakter dizisi’ değerini yazdık. Bu iki kavramın birbirinden farklı olduğunu söylediğimizi hatırlıyorsunuz, değil mi?\n",
    "\n",
    "Gelin bir örnek daha yapalım:"
   ]
  },
  {
   "cell_type": "code",
   "execution_count": 47,
   "id": "95ead3cc-c996-42e5-952f-33892df9d045",
   "metadata": {},
   "outputs": [
    {
     "name": "stdout",
     "output_type": "stream",
     "text": [
      "T.C\n"
     ]
    }
   ],
   "source": [
    "print(\"T\", \"C\", sep=\".\")"
   ]
  },
  {
   "cell_type": "markdown",
   "id": "d9c6f3e7-7ed9-4491-830a-c87a05eeaf28",
   "metadata": {},
   "source": [
    "Burada Python’a şöyle bir emir vermiş olduk:\n",
    "\n",
    "“T” ve “C” karakter dizilerini birbiriyle birleştir! Bunu yaparken de bu karakter dizilerinin arasına nokta işareti yerleştir!\n",
    "\n",
    "sep parametresinin öteki parametrelerden farkı her zaman ismiyle birlikte kullanılmasıdır. Zaten teknik olarak da bu tür parametrelere ‘isimli parametreler’ adı verilir. Örneğin:"
   ]
  },
  {
   "cell_type": "code",
   "execution_count": 48,
   "id": "e67cb1e2-caa7-4cab-b927-07a6b6dfeabf",
   "metadata": {},
   "outputs": [
    {
     "name": "stdout",
     "output_type": "stream",
     "text": [
      "Adana-Mersin\n"
     ]
    }
   ],
   "source": [
    "print(\"Adana\", \"Mersin\", sep=\"-\")"
   ]
  },
  {
   "cell_type": "markdown",
   "id": "17a35b14-86f8-4353-9da8-329b8be4d107",
   "metadata": {},
   "source": [
    "Eğer burada sep parametresinin ismini belirtmeden, doğrudan parametrenin değerini yazarsak, bu değerin öteki parametrelerden hiçbir farkı kalmayacaktır:"
   ]
  },
  {
   "cell_type": "code",
   "execution_count": 50,
   "id": "88b172af-a236-469b-b805-c63a849e9099",
   "metadata": {},
   "outputs": [
    {
     "name": "stdout",
     "output_type": "stream",
     "text": [
      "Adana Mersin -\n"
     ]
    }
   ],
   "source": [
    "print(\"Adana\", \"Mersin\", \"-\")"
   ]
  },
  {
   "cell_type": "markdown",
   "id": "461bafc7-21e3-4d96-a161-b9710ca9be1f",
   "metadata": {},
   "source": [
    "Gelin isterseniz bu parametreyle ilgili bir örnek daha yapalım:\n",
    "\n",
    "‘Bir mumdur iki mumdur…’ diye başlayan türküyü biliyorsunuzdur. Şimdi bu türküyü Python’la nasıl yazabileceğimizi görelim!"
   ]
  },
  {
   "cell_type": "markdown",
   "id": "517caf32-a183-4276-b84c-e0c9606ca538",
   "metadata": {},
   "source": [
    "Gelin isterseniz bu parametreyle ilgili bir örnek daha yapalım:\n",
    "\n",
    "‘Bir mumdur iki mumdur…’ diye başlayan türküyü biliyorsunuzdur. Şimdi bu türküyü Python’la nasıl yazabileceğimizi görelim!"
   ]
  },
  {
   "cell_type": "markdown",
   "id": "53108af3-c03e-4ad4-85d0-eb92141a3b2d",
   "metadata": {},
   "source": [
    "Burada bir terslik olduğu açık! Karakter dizileri birbirlerine sıkışık düzende birleştirildi. Bunların arasında birer boşluk olsa tabii daha iyi olurdu. Ancak biliyorsunuz sep parametresinin öntanımlı değerini silip, yerine “mumdur” değerini yerleştirdiğimiz için, Python’ın otomatik olarak yerleştirdiği boşluk karakteri kayboldu. Ama eğer istersek o boşluk karakterlerini kendimiz de ayarlayabiliriz:"
   ]
  },
  {
   "cell_type": "code",
   "execution_count": 51,
   "id": "98772faa-e5a8-448d-a306-aaf482dec5d9",
   "metadata": {},
   "outputs": [
    {
     "name": "stdout",
     "output_type": "stream",
     "text": [
      "bir mumdur iki mumdur üç mumdur dört mumdur on dört\n"
     ]
    }
   ],
   "source": [
    "print(\"bir\", \"iki\", \"üç\", \"dört\", \"on dört\", sep=\" mumdur \")"
   ]
  },
  {
   "cell_type": "markdown",
   "id": "ee2cae24-d3f7-45e2-805a-3925a6118897",
   "metadata": {},
   "source": [
    "Gördüğünüz gibi, sep parametresine verdiğimiz “mumdur” değerinin sağında ve solunda birer boşluk bırakarak sorunumuzu çözebildik. Bu sorunu çözmenin başka bir yolu daha var. Hatırlarsanız etkileşimli kabukta ilk örneklerimizi verirken karakter dizilerini birleştirmek için + işaretinden de yararlanabileceğimizi söylemiştik. Dolayısıyla sep parametresini şöyle de yazabiliriz:"
   ]
  },
  {
   "cell_type": "code",
   "execution_count": 52,
   "id": "5a57d87b-8931-4424-96bb-ad1c1b25d838",
   "metadata": {},
   "outputs": [
    {
     "name": "stdout",
     "output_type": "stream",
     "text": [
      "bir mumdur iki mumdur üç mumdur dört mumdur on dört\n"
     ]
    }
   ],
   "source": [
    "print(\"bir\", \"iki\", \"üç\", \"dört\", \"on dört\", sep=\" \" + \"mumdur\" + \" \")"
   ]
  },
  {
   "cell_type": "markdown",
   "id": "4fc3e053-a905-4a5b-89d4-88e2721c66ed",
   "metadata": {},
   "source": [
    "Burada da, “mumdur” adlı karakter dizisinin başında ve sonunda birer boşluk bırakmak yerine, gerekli boşlukları + işareti yardımıyla bu karakter dizisine birleştirdik. Hatta istersek + işlecini kullanmak zorunda olmadığımızı dahi biliyorsunuz:\n",
    "\n"
   ]
  },
  {
   "cell_type": "code",
   "execution_count": 53,
   "id": "bc7aa90f-f3d6-4277-a608-c06ec6577e43",
   "metadata": {},
   "outputs": [
    {
     "name": "stdout",
     "output_type": "stream",
     "text": [
      "bir mumdur iki mumdur üç mumdur dört mumdur on dört\n"
     ]
    }
   ],
   "source": [
    "print(\"bir\", \"iki\", \"üç\", \"dört\", \"on dört\", sep=\" \" \"mumdur\" \" \")"
   ]
  },
  {
   "cell_type": "markdown",
   "id": "d03651f5-ccac-49f6-93f8-361a97943204",
   "metadata": {},
   "source": [
    "Ama gördüğünüz gibi bir problemimiz daha var. Türkünün sözleri şu şekilde olmalıydı:\n",
    "\n",
    "bir mumdur iki mumdur üç mumdur dört mumdur on dört mumdur\n",
    "\n",
    "Ama sondaki ‘mumdur’ kelimesi yukarıdaki çıktıda yok. Normal olan da bu aslında. sep parametresi, karakter dizilerinin arasına bir değer yerleştirir. Karakter dizilerinin son tarafıyla ilgilenmez. Bu iş için print() fonksiyonu başka bir parametreye sahiptir.\n",
    "\n",
    "Bu arada, yukarıdaki örneklerde hep karakter dizilerini kullanmış olmamız sizi yanıltmasın. sep parametresi yalnızca karakter dizilerinin değil sayıların arasına da istediğiniz bir değerin yerleştirilmesini sağlayabilir. Mesela:"
   ]
  },
  {
   "cell_type": "code",
   "execution_count": 54,
   "id": "e21e244b-7126-42b5-888d-a3b0bca1613d",
   "metadata": {},
   "outputs": [
    {
     "name": "stdout",
     "output_type": "stream",
     "text": [
      "1-2-3-4-5\n"
     ]
    }
   ],
   "source": [
    "print(1, 2, 3, 4, 5, sep=\"-\")"
   ]
  },
  {
   "cell_type": "markdown",
   "id": "bc21ad2d-ff6f-436e-88dc-c8278aee11fc",
   "metadata": {},
   "source": [
    "Ancak sep parametresine değer olarak yalnızca karakter dizilerini ve None adlı özel bir sözcüğü verebiliriz. (None sözcüğünden ileride söz edeceğiz):"
   ]
  },
  {
   "cell_type": "code",
   "execution_count": 55,
   "id": "6d1b10dd-bc19-4e9d-ba8b-5b644d245456",
   "metadata": {},
   "outputs": [
    {
     "ename": "TypeError",
     "evalue": "sep must be None or a string, not int",
     "output_type": "error",
     "traceback": [
      "\u001b[0;31m---------------------------------------------------------------------------\u001b[0m",
      "\u001b[0;31mTypeError\u001b[0m                                 Traceback (most recent call last)",
      "Cell \u001b[0;32mIn[55], line 1\u001b[0m\n\u001b[0;32m----> 1\u001b[0m \u001b[38;5;28;43mprint\u001b[39;49m\u001b[43m(\u001b[49m\u001b[38;5;241;43m1\u001b[39;49m\u001b[43m,\u001b[49m\u001b[43m \u001b[49m\u001b[38;5;241;43m2\u001b[39;49m\u001b[43m,\u001b[49m\u001b[43m \u001b[49m\u001b[38;5;241;43m3\u001b[39;49m\u001b[43m,\u001b[49m\u001b[43m \u001b[49m\u001b[38;5;241;43m4\u001b[39;49m\u001b[43m,\u001b[49m\u001b[43m \u001b[49m\u001b[38;5;241;43m5\u001b[39;49m\u001b[43m,\u001b[49m\u001b[43m \u001b[49m\u001b[43msep\u001b[49m\u001b[38;5;241;43m=\u001b[39;49m\u001b[38;5;241;43m0\u001b[39;49m\u001b[43m)\u001b[49m\n",
      "\u001b[0;31mTypeError\u001b[0m: sep must be None or a string, not int"
     ]
    }
   ],
   "source": [
    "print(1, 2, 3, 4, 5, sep=0)"
   ]
  },
  {
   "cell_type": "markdown",
   "id": "21ace6f3-25d2-4605-9ff6-5578c1f19236",
   "metadata": {},
   "source": [
    "Gördüğünüz gibi, sep parametresine bir sayı olan 0 değerini veremiyoruz.\n",
    "\n",
    "Peki bu parametreye None değeri verirsek ne olur? Bu parametreye None değeri verildiğinde, print() fonksiyonu bu parametre için öntanımlı değeri (yani bir adet boşluk) kullanır:"
   ]
  },
  {
   "cell_type": "code",
   "execution_count": 56,
   "id": "5275e344-4b7e-4753-a643-78a983c512a6",
   "metadata": {},
   "outputs": [
    {
     "name": "stdout",
     "output_type": "stream",
     "text": [
      "a b\n"
     ]
    }
   ],
   "source": [
    "print('a', 'b', sep=None)"
   ]
  },
  {
   "cell_type": "markdown",
   "id": "f0b7cb9a-80a1-49e8-a411-b52069ebe6bd",
   "metadata": {},
   "source": [
    "Eğer amacınız parametreleri birbirine bitiştirmekse, yani sep parametresinin öntanımlı değeri olan boşluk karakterini ortadan kaldırmaksa, sep parametresine boş bir karakter dizisi vermeniz gerektiğini biliyorsunuz:"
   ]
  },
  {
   "cell_type": "markdown",
   "id": "af5fdb2c-db6b-4221-8ada-db1a76487bc4",
   "metadata": {},
   "source": [
    "end"
   ]
  },
  {
   "cell_type": "markdown",
   "id": "42d8f15c-0e6e-428d-9880-e430f06863df",
   "metadata": {},
   "source": [
    "Bir önceki bölümde şöyle bir laf etmiştik:\n",
    "\n",
    "print() fonksiyonun sep adlı özel bir parametresi bulunur. Bu parametre print() fonksiyonunda görünmese bile her zaman oradadır.\n",
    "\n",
    "Aynı bu şekilde, print() fonksiyonunun end adlı özel bir parametresi daha bulunur. Tıpkı sep parametresi gibi, end parametresi de print() fonksiyonunda görünmese bile her zaman oradadır.\n",
    "\n",
    "Bildiğiniz gibi, sep parametresi print() fonksiyonuna verilen parametreler birleştirilirken araya hangi karakterin gireceğini belirliyordu. end parametresi ise bu parametrelerin sonuna neyin geleceğini belirler.\n",
    "\n",
    "print() fonksiyonu öntanımlı olarak, parametrelerin sonuna ‘satır başı karakteri’ ekler. Peki bu satır başı karakteri (veya ‘yeni satır karakteri’) denen şey de ne oluyor?\n",
    "\n",
    "Dilerseniz bunu bir örnek üzerinde görelim.\n",
    "\n",
    "Şöyle bir kodumuz olsun:\n",
    "\n"
   ]
  },
  {
   "cell_type": "code",
   "execution_count": 57,
   "id": "7c36e3ac-6888-4361-94d6-34060b8b7a6c",
   "metadata": {},
   "outputs": [
    {
     "name": "stdout",
     "output_type": "stream",
     "text": [
      "Pardus ve Ubuntu birer GNU/Linux dağıtımıdır.\n"
     ]
    }
   ],
   "source": [
    "print(\"Pardus ve Ubuntu birer GNU/Linux dağıtımıdır.\")"
   ]
  },
  {
   "cell_type": "markdown",
   "id": "a29ab877-6993-40a2-8440-fb9bc0884f6b",
   "metadata": {},
   "source": [
    "Bu kodu yazıp Enter tuşuna bastığımız anda print() fonksiyonu iki farklı işlem gerçekleştirir:\n",
    "\n",
    "Öncelikle karakter dizisini ekrana yazdırır.\n",
    "\n",
    "Ardından bir alt satıra geçip bize >>> işaretini gösterir.\n",
    "\n",
    "İşte bu ikinci işlem, karakter dizisinin sonunda bir adet satır başı karakteri olmasından, daha doğrusu print() fonksiyonunun, satır başı karakterini karakter dizisinin sonuna eklemesinden kaynaklanır. Bu açıklama biraz kafa karıştırıcı gelmiş olabilir. O halde biraz daha açıklayalım. Şu örneğe bakın:\n",
    "\n"
   ]
  },
  {
   "cell_type": "code",
   "execution_count": 58,
   "id": "1f0125b8-a1c8-4ba9-a70a-68831497005d",
   "metadata": {},
   "outputs": [
    {
     "name": "stdout",
     "output_type": "stream",
     "text": [
      "Pardus\n",
      "Ubuntu\n"
     ]
    }
   ],
   "source": [
    "print(\"Pardus\\nUbuntu\")\n"
   ]
  },
  {
   "cell_type": "markdown",
   "id": "6093a0ef-c243-4d24-a99d-b7f029263c58",
   "metadata": {},
   "source": [
    "Burada “Pardus” ve “Ubuntu” karakter dizilerinin tam ortasında çok özel bir karakter dizisi daha görüyorsunuz. Bu karakter dizisi şudur: \\n. İşte bu özel karakter dizisine satır başı karakteri (newline) adı verilir. Bu karakterin görevi, karakter dizisini, bulunduğu noktadan bölüp, karakter dizisinin geri kalanını bir alt satıra geçirmektir. Zaten çıktıda da bu işlevi yerine getirdiğini görüyorsunuz. Karakter dizisi “Pardus” kısmından sonra ikiye bölünüyor ve bu karakter dizisinin geri kalan kısmı olan “Ubuntu” karakter dizisi bir alt satıra yazdırılıyor. Bunu daha iyi anlamak için bir örnek daha verelim:"
   ]
  },
  {
   "cell_type": "code",
   "execution_count": 59,
   "id": "0871570f-4d1a-4fa1-bbed-f8d56cbe7692",
   "metadata": {},
   "outputs": [
    {
     "name": "stdout",
     "output_type": "stream",
     "text": [
      "birinci satır\n",
      "ikinci satır\n",
      "üçüncü satır\n"
     ]
    }
   ],
   "source": [
    "print(\"birinci satır\\nikinci satır\\nüçüncü satır\")"
   ]
  },
  {
   "cell_type": "markdown",
   "id": "747761d8-a912-4a89-af70-eb8dbd641fc0",
   "metadata": {},
   "source": [
    "Peki size bir soru sorayım: Acaba yukarıdaki kodları daha verimli bir şekilde nasıl yazabiliriz?\n",
    "\n",
    "Evet, doğru tahmin ettiniz… Tabii ki sep parametresini kullanarak:"
   ]
  },
  {
   "cell_type": "code",
   "execution_count": 60,
   "id": "083b21ff-4328-4364-8a1d-8f8a9f068d1f",
   "metadata": {},
   "outputs": [
    {
     "name": "stdout",
     "output_type": "stream",
     "text": [
      "birinci satır\n",
      "ikinci satır\n",
      "üçüncü satır\n"
     ]
    }
   ],
   "source": [
    "print(\"birinci satır\", \"ikinci satır\", \"üçüncü satır\", sep=\"\\n\")"
   ]
  },
  {
   "cell_type": "markdown",
   "id": "0449eacc-1910-4b2e-8ad4-3d22f82f6201",
   "metadata": {},
   "source": [
    "Burada yaptığımız şey çok basit. sep parametresinin değerini \\n, yani yeni satır karakteri (veya satır başı karakteri) olarak değiştirdik. Böylece karakter dizileri arasına birer \\n karakteri yerleştirerek her bir karakter dizisinin farklı satıra yazdırılmasını sağladık.\n",
    "\n",
    "İşte end parametresinin öntanımlı değeri de bu \\n karakteridir ve bu parametre print() fonksiyonunda görünmese bile her zaman oradadır.\n",
    "\n",
    "Yani diyelim ki şöyle bir kod yazdık:"
   ]
  },
  {
   "cell_type": "code",
   "execution_count": 61,
   "id": "48a3d2e3-e205-4a01-8d9b-e50ab6ea1819",
   "metadata": {},
   "outputs": [
    {
     "name": "stdout",
     "output_type": "stream",
     "text": [
      "Bugün günlerden Salı\n"
     ]
    }
   ],
   "source": [
    "print(\"Bugün günlerden Salı\")"
   ]
  },
  {
   "cell_type": "markdown",
   "id": "3ceb0b9e-b1ee-4959-a175-72c72141cd65",
   "metadata": {},
   "source": [
    "Burada herhangi bir end parametresi görmüyoruz. Ancak Python yukarıdaki kodu aslında şöyle algılar:"
   ]
  },
  {
   "cell_type": "code",
   "execution_count": 62,
   "id": "54f598d7-9c9e-45c3-8716-2be6885f154c",
   "metadata": {},
   "outputs": [
    {
     "name": "stdout",
     "output_type": "stream",
     "text": [
      "Bugün günlerden Salı\n"
     ]
    }
   ],
   "source": [
    "print(\"Bugün günlerden Salı\", end=\"\\n\")"
   ]
  },
  {
   "cell_type": "markdown",
   "id": "20a2f5e1-8d1d-4124-a118-1a7e40e8aca0",
   "metadata": {},
   "source": [
    "iraz önce de dediğimiz gibi, bu kodu yazıp Enter tuşuna bastığımız anda print() fonksiyonu iki farklı işlem gerçekleştirir:\n",
    "\n",
    "Öncelikle karakter dizisini ekrana yazdırır.\n",
    "\n",
    "Ardından bir alt satıra geçip bize >>> işaretini gösterir.\n",
    "\n",
    "Bunun ne demek olduğunu anlamak için end parametresinin değerini değiştirmemiz yeterli olacaktır:"
   ]
  },
  {
   "cell_type": "code",
   "execution_count": 63,
   "id": "44439ec7-9c58-489a-88bf-1f945d7694ef",
   "metadata": {},
   "outputs": [
    {
     "name": "stdout",
     "output_type": "stream",
     "text": [
      "Bugün günlerden Salı."
     ]
    }
   ],
   "source": [
    "print(\"Bugün günlerden Salı\", end=\".\")"
   ]
  },
  {
   "cell_type": "markdown",
   "id": "4a17c324-475f-402a-aef5-fefdf3f4db4a",
   "metadata": {},
   "source": [
    "Gördüğünüz gibi, end parametresinin öntanımlı değeri olan \\n karakterini silip yerine . (nokta) işareti koyduğumuz için, komutu yazıp Enter tuşuna bastığımızda print() fonksiyonu satır başına geçmedi. Yeni satıra geçebilmek için Enter tuşuna kendimiz basmalıyız. Elbette, eğer yukarıdaki kodları şöyle yazarsanız, print() fonksiyonu hem karakter dizisinin sonuna nokta ekleyecek, hem de satır başına geçecektir:"
   ]
  },
  {
   "cell_type": "code",
   "execution_count": 64,
   "id": "1fe24189-3b48-4c96-befa-1b63ae0e91e3",
   "metadata": {},
   "outputs": [
    {
     "name": "stdout",
     "output_type": "stream",
     "text": [
      "Bugün günlerden Salı.\n"
     ]
    }
   ],
   "source": [
    "print(\"Bugün günlerden Salı\", end=\".\\n\")"
   ]
  },
  {
   "cell_type": "markdown",
   "id": "aa07761a-5451-44d3-936d-f95c7c131017",
   "metadata": {},
   "source": [
    "Şimdi bu öğrendiklerimizi türkümüze uygulayalım:"
   ]
  },
  {
   "cell_type": "code",
   "execution_count": 66,
   "id": "dfb9f0cf-55cd-4403-b5cb-d305987799e7",
   "metadata": {},
   "outputs": [
    {
     "name": "stdout",
     "output_type": "stream",
     "text": [
      "bir mumdur iki mumdur üç mumdur dört mumdur on dört mumdur\n"
     ]
    }
   ],
   "source": [
    "print(\"bir\", \"iki\", \"üç\", \"dört\", \"on dört\",\n",
    "sep=\" mumdur \", end=\" mumdur\\n\")"
   ]
  },
  {
   "cell_type": "markdown",
   "id": "24de8744-023b-449f-a8b1-9dcc5e9b09f6",
   "metadata": {},
   "source": [
    "end parametresi de, tıpkı sep parametresi gibi, her zaman ismiyle birlikte kullanılması gereken bir parametredir. Yani eğer end parametresinin ismini belirtmeden sadece değerini kullanmaya çalışırsak Python ne yapmaya çalıştığımızı anlayamaz.\n",
    "\n",
    "Yine tıpkı sep parametresi gibi, end parametresinin değeri de sadece bir karakter dizisi veya None olabilir:\n",
    "\n"
   ]
  },
  {
   "cell_type": "markdown",
   "id": "e73f43dc-b0a3-47c9-8499-d4dd55b0cb33",
   "metadata": {},
   "source": [
    "Gördüğünüz gibi, end parametresine bir sayı olan 0 değerini veremiyoruz.\n",
    "\n",
    "Eğer bu parametreye None değeri verirsek, tıpkı sep parametresinde olduğu gibi, print() fonksiyonu bu parametre için öntanımlı değeri (yani satır başı karakteri) kullanır:"
   ]
  },
  {
   "cell_type": "code",
   "execution_count": 67,
   "id": "368b8d40-f82b-45e0-99ce-1712388e2e70",
   "metadata": {},
   "outputs": [
    {
     "name": "stdout",
     "output_type": "stream",
     "text": [
      "a b\n"
     ]
    }
   ],
   "source": [
    "print('a', 'b', end=None)"
   ]
  },
  {
   "cell_type": "markdown",
   "id": "07d5f22d-5eb0-496e-867f-3137dde27cc1",
   "metadata": {},
   "source": [
    "Eğer amacınız yeni satıra geçilmesini engellemekse, yani end parametresinin öntanımlı değeri olan \\n kaçış dizisini ortadan kaldırmaksa, end parametresine boş bir karakter dizisi vermelisiniz:"
   ]
  },
  {
   "cell_type": "code",
   "execution_count": 68,
   "id": "ce3a1163-8b34-4427-9f9f-01d5bff17c62",
   "metadata": {},
   "outputs": [
    {
     "name": "stdout",
     "output_type": "stream",
     "text": [
      "a b"
     ]
    }
   ],
   "source": [
    "print('a', 'b', end='')"
   ]
  },
  {
   "cell_type": "markdown",
   "id": "25d47871-c6a3-490f-82b1-84f3eb9ece93",
   "metadata": {},
   "source": [
    "FILE"
   ]
  },
  {
   "cell_type": "markdown",
   "id": "68bbba86-18b0-4374-a45a-1cf652ef7122",
   "metadata": {},
   "source": [
    "\n",
    "print() fonksiyonunun sep ve end dışında üçüncü bir özel parametresi daha bulunur. Bu parametrenin adı file’dır. Görevi ise, print() fonksiyonuna verilen karakter dizisi ve/veya sayıların, yani parametrelerin nereye yazılacağını belirtmektir.\n",
    "\n",
    "Bu parametrenin öntanımlı değeri sys.stdout’tur. Peki bu ne anlama geliyor? sys.stdout, ‘standart çıktı konumu’ anlamına gelir. Peki ‘standart çıktı konumu’ ne demek?\n",
    "\n",
    "Standart çıktı konumu; bir programın, ürettiği çıktıları verdiği yerdir. Aslında bu kavramın ne demek olduğu adından da anlaşılıyor:\n",
    "\n",
    "standart çıktı konumu = çıktıların standart olarak verildiği konum.\n",
    "\n",
    "Mesela Python öntanımlı olarak, ürettiği çıktıları ekrana verir. Eğer o anda etkileşimli kabukta çalışıyorsanız, Python ürettiği çıktıları etkileşimli kabuk üzerinde gösterir. Eğer yazdığınız bir programı komut satırında çalıştırıyorsanız, üretilen çıktılar komut satırında görünür. Dolayısıyla Python’ın standart çıktı konumu etkileşimli kabuk veya komut satırıdır. Yani print() fonksiyonu yardımıyla bastığınız çıktılar etkileşimli kabukta ya da komut satırında görünecektir.\n",
    "\n",
    "Şimdi bu konuyu daha iyi anlayabilmek için birkaç örnek yapalım.\n",
    "\n",
    "Normal şartlar altında print() fonksiyonunun çıktısını etkileşimli kabukta görürüz:"
   ]
  },
  {
   "cell_type": "code",
   "execution_count": 69,
   "id": "f558c40a-acd9-427b-a7ea-69102212a7bc",
   "metadata": {},
   "outputs": [
    {
     "name": "stdout",
     "output_type": "stream",
     "text": [
      "Ben Python, Monty Python!\n"
     ]
    }
   ],
   "source": [
    "print(\"Ben Python, Monty Python!\")"
   ]
  },
  {
   "cell_type": "markdown",
   "id": "34101f11-fa02-4e67-83d1-83ff397616d5",
   "metadata": {},
   "source": [
    "Ama eğer istersek print() fonksiyonunun, çıktılarını ekrana değil, bir dosyaya yazdırmasını da sağlayabiliriz. Mesela biz şimdi print() fonksiyonunun deneme.txt adlı bir dosyaya çıktı vermesini sağlayalım.\n",
    "\n",
    "Bunun için sırasıyla şu kodları yazalım:"
   ]
  },
  {
   "cell_type": "code",
   "execution_count": 70,
   "id": "7e5ef4fb-ead6-4b6c-a1b4-755582287b16",
   "metadata": {},
   "outputs": [],
   "source": [
    "dosya = open(\"deneme.txt\", \"w\")\n",
    "print(\"Ben Python, Monty Python!\", file=dosya)\n",
    "dosya.close()"
   ]
  },
  {
   "cell_type": "markdown",
   "id": "5d0e9ba9-4649-4d79-8623-44062f6fefd3",
   "metadata": {},
   "source": [
    "Herhangi bir çıktı almadınız, değil mi? Evet. Çünkü yazdığımız bu kodlar sayesinde print() fonksiyonu, çıktılarını deneme.txt adlı bir dosyaya yazdırdı.\n",
    "\n",
    "Gelin isterseniz yukarıdaki kodları satır satır inceleyelim:\n",
    "\n",
    "1. Öncelikle deneme.txt adlı bir dosya oluşturduk ve bu dosyayı dosya adlı bir değişkene atadık. Burada kullandığımız open() fonksiyonuna çok takılmayın. Bunu birkaç bölüm sonra inceleyeceğiz. Biz şimdilik bu şekilde dosya oluşturulduğunu bilelim yeter. Bu arada open fonksiyonunun da biçim olarak type(), len(), pow() ve print() fonksiyonlarına ne kadar benzediğine dikkat edin. Gördüğünüz gibi open() fonksiyonu da tıpkı type(), len(), pow() ve print() fonksiyonları gibi birtakım parametreler alıyor. Bu fonksiyonun ilk parametresi “deneme.txt” adlı bir karakter dizisi. İşte bu karakter dizisi bizim oluşturmak istediğimiz dosyanın adını gösteriyor. İkinci parametre ise “w” adlı başka bir karakter dizisi. Bu da deneme.txt dosyasının yazma kipinde (modunda) açılacağını gösteriyor. Ama dediğim gibi, siz şimdilik bu ayrıntılara fazla takılmayın. İlerleyen derslerde, bu konuları adınızı bilir gibi bileceğinizden emin olabilirsiniz.\n",
    "\n",
    "2. Oluşturduğumuz bu deneme.txt adlı dosya, o anda bulunduğunuz dizin içinde oluşacaktır. Bu dizinin hangisi olduğunu öğrenmek için şu komutları verebilirsiniz:"
   ]
  },
  {
   "cell_type": "code",
   "execution_count": 71,
   "id": "9cada670-fb55-4228-8a11-37e673fdd087",
   "metadata": {},
   "outputs": [
    {
     "data": {
      "text/plain": [
       "'/home/toree/Desktop/Temel Python Objeleri ve Veri Yapıları'"
      ]
     },
     "execution_count": 71,
     "metadata": {},
     "output_type": "execute_result"
    }
   ],
   "source": [
    " import os\n",
    "os.getcwd() #return current working directory"
   ]
  },
  {
   "cell_type": "markdown",
   "id": "f7002ce2-f8a1-481f-ba6c-92a42f7f3dcf",
   "metadata": {},
   "source": [
    "Bu komutun çıktısında hangi dizinin adı görünüyorsa, deneme.txt dosyası da o dizinin içindedir. Mesela bendeki çıktı /home/yazbel/Desktop. Demek ki oluşturduğum deneme.txt adlı dosya masaüstündeymiş. Ben bu komutları Ubuntu üzerinde verdim. Eğer Windows üzerinde verseydim şuna benzer bir çıktı alacaktım: C:\\Users\\yazbel\\Desktop\n",
    "\n",
    "3. Ardından da normal bir şekilde print() fonksiyonumuzu çalıştırdık. Ama gördüğünüz gibi print() fonksiyonu bize herhangi bir çıktı vermedi. Çünkü, daha önce de söylediğimiz gibi, print() fonksiyonunu biz ekrana değil, dosyaya çıktı verecek şekilde ayarladık. Bu işlemi, file adlı bir parametreye, biraz önce tanımladığımız dosya değişkenini yazarak yaptık.\n",
    "\n",
    "4. Son komut yardımıyla da, yaptığımız değişikliklerin dosyada görünebilmesi için ilk başta açtığımız dosyayı kapatıyoruz.\n",
    "\n",
    "Şimdi deneme.txt adlı dosyayı açın. Biraz önce print() fonksiyonuyla yazdırdığımız “Ben Python, Monty Python!” karakter dizisinin dosyaya işlenmiş olduğunu göreceksiniz.\n",
    "\n",
    "Böylece print() fonksiyonunun standart çıktı konumunu değiştirmiş olduk. Yani print() fonksiyonunun file adlı parametresine farklı bir değer vererek, print() fonksiyonunun etkileşimli kabuğa değil dosyaya yazmasını sağladık.\n",
    "\n",
    "Tıpkı sep ve end parametreleri gibi, file parametresi de, siz görmeseniz bile her zaman print() fonksiyonunun içinde vardır. Yani diyelim ki şöyle bir komut verdik:"
   ]
  },
  {
   "cell_type": "code",
   "execution_count": 72,
   "id": "572ad221-6a18-4029-8f8c-13f12f1b87f7",
   "metadata": {},
   "outputs": [
    {
     "name": "stdout",
     "output_type": "stream",
     "text": [
      "Tahir olmak da ayıp değil Zühre olmak da\n"
     ]
    }
   ],
   "source": [
    "print(\"Tahir olmak da ayıp değil\", \"Zühre olmak da\")"
   ]
  },
  {
   "cell_type": "markdown",
   "id": "1fb560f2-5f12-4ebc-b65d-1860a7894ba3",
   "metadata": {},
   "source": [
    "Python bu komutu şöyle algılar:"
   ]
  },
  {
   "cell_type": "code",
   "execution_count": 75,
   "id": "c473761d-01e2-4c73-baea-581928ef8e21",
   "metadata": {},
   "outputs": [
    {
     "name": "stdout",
     "output_type": "stream",
     "text": [
      "Tahir olmak da ayıp değil Zühre olmak da\n"
     ]
    }
   ],
   "source": [
    "import sys\n",
    "print(\"Tahir olmak da ayıp değil\", \"Zühre olmak da\", sep=\" \", end=\"\\n\", file=sys.stdout)"
   ]
  },
  {
   "cell_type": "markdown",
   "id": "e7da8868-db4a-496f-86ae-f2884844270e",
   "metadata": {},
   "source": [
    "ani kendisine parametre olarak verilen değerleri ekrana yazdırırken sırasıyla şu işlemleri gerçekleştirir:\n",
    "\n",
    "Parametrelerin arasına birer boşluk koyar (sep=\" \"),\n",
    "\n",
    "Ekrana yazdırma işlemi bittikten sonra parametrelerin sonuna satır başı karakteri ekler (end=\"\\n\")\n",
    "\n",
    "Bu çıktıyı standart çıktı konumuna gönderir (file=sys.stdout).\n",
    "\n",
    "İşte biz burada file parametresinin değeri olan standart çıktı konumuna başka bir değer vererek bu konumu değiştiriyoruz.\n",
    "\n",
    "Gelin isterseniz bununla ilgili bir örnek daha yapalım. Mesela kişisel bilgilerimizi bir dosyaya kaydedelim. Öncelikle bilgileri kaydedeceğimiz dosyayı oluşturalım:"
   ]
  },
  {
   "cell_type": "code",
   "execution_count": 76,
   "id": "e04dc2ea-3072-44b9-aaaf-4c746548a65a",
   "metadata": {},
   "outputs": [],
   "source": [
    "f = open(\"kişisel_bilgiler.txt\", \"w\")"
   ]
  },
  {
   "cell_type": "markdown",
   "id": "3d23f90f-df73-4a8e-abea-7688f527fbc3",
   "metadata": {},
   "source": [
    "Bu kodlarla, kişisel_bilgiler.txt adını taşıyan bir dosyayı yazma kipinde (w) açmış ve bu dosyayı f adlı bir değişkene atamış olduk. Şimdi bilgileri yazmaya başlayabiliriz:\n",
    "\n"
   ]
  },
  {
   "cell_type": "code",
   "execution_count": 78,
   "id": "cd1fda7e-6853-442e-9ab9-0da9e2c7fcce",
   "metadata": {},
   "outputs": [],
   "source": [
    "print(\"Fırat Özgül\", file=f)\n",
    "print(\"Adana\", file=f)\n",
    "print(\"Ubuntu\", file=f)\n"
   ]
  },
  {
   "cell_type": "markdown",
   "id": "6d1f1293-bcad-4ff1-9bc1-8e39fdac23b8",
   "metadata": {},
   "source": [
    "İşimiz bittiğinde dosyayı kapatmayı unutmuyoruz. Böylece bütün bilgiler dosyaya yazılmış oluyor:\n",
    "\n"
   ]
  },
  {
   "cell_type": "code",
   "execution_count": 79,
   "id": "abcf781f-484b-42e7-b3c3-c83818232fe5",
   "metadata": {},
   "outputs": [],
   "source": [
    "f.close()"
   ]
  },
  {
   "cell_type": "markdown",
   "id": "4c9d4c67-6d33-45d8-b741-dbd7aeb295a6",
   "metadata": {},
   "source": [
    "Oluşturduğumuz kişisel_bilgiler.txt adlı dosyayı açtığımızda, print() fonksiyonuna verdiğimiz parametrelerin dosyaya yazdırıldığını görüyoruz.\n",
    "\n",
    "En başta da söylediğim gibi, bu bölümde henüz öğrenmediğimiz bazı şeylerle karşılaştık. Eğer yukarıda verilen örnekleri anlamakta zorlandıysanız hiç endişe etmenize gerek yok. Birkaç bölüm sonra burada anlattığımız şeyler size çocuk oyuncağı gibi gelecek…"
   ]
  },
  {
   "cell_type": "markdown",
   "id": "607f9bd4-34df-4821-9e4a-ae9da1bd45ae",
   "metadata": {},
   "source": [
    "FLUSH"
   ]
  },
  {
   "cell_type": "markdown",
   "id": "1b6bb9f5-8b3d-431f-9d18-c8a83281a3ab",
   "metadata": {},
   "source": [
    "Şimdiye kadar print() fonksiyonunun sep, end ve file adlı özel birtakım parametreleri olduğunu öğrendik. print() fonksiyonunun bunların dışında başka bir özel parametresi daha bulunur. Bu parametrenin adı flush. İşte şimdi biz print() fonksiyonunun bu flush adlı parametresinden söz edeceğiz.\n",
    "\n",
    "Bildiğiniz gibi, print() gibi bir komut verdiğimizde Python, yazdırmak istediğimiz bilgiyi standart çıktı konumuna gönderir. Ancak Python’da bazı işlemler standart çıktı konumuna gönderilmeden önce bir süre tamponda bekletilir ve daha sonra bekleyen bu işlemler topluca standart çıktı konumuna gönderilir. Peki ilk başta çok karmaşıkmış gibi görünen bu ifade ne anlama geliyor?\n",
    "\n",
    "Aslında siz bu olguya hiç yabancı değilsiniz. file parametresini anlatırken verdiğimiz şu örneği tekrar ele alalım:\n",
    "\n"
   ]
  },
  {
   "cell_type": "code",
   "execution_count": 81,
   "id": "324b1a81-5687-4000-b6c8-c19c10c5423b",
   "metadata": {},
   "outputs": [],
   "source": [
    "f = open(\"kişisel_bilgiler.txt\", \"w\")"
   ]
  },
  {
   "cell_type": "markdown",
   "id": "0a8b8b5d-2ce7-4d58-8371-352d4fde02eb",
   "metadata": {},
   "source": [
    "Bu komutla kişisel_bilgiler.txt adlı bir dosyayı yazma kipinde açtık. Şimdi bu dosyaya bazı bilgiler ekleyelim:"
   ]
  },
  {
   "cell_type": "code",
   "execution_count": 82,
   "id": "f37b2bb2-f94d-4641-96c5-2adc6559f471",
   "metadata": {},
   "outputs": [],
   "source": [
    "print(\"Fırat Özgül\", file=f)"
   ]
  },
  {
   "cell_type": "markdown",
   "id": "b41601cd-84d6-4041-9872-b5666663d44e",
   "metadata": {},
   "source": [
    "Bu komutla kişisel_bilgiler.txt adlı dosyaya ‘Fırat Özgül’ diye bir satır eklemiş olduk.\n",
    "\n",
    "Şimdi bilgisayarınızda oluşan bu kişisel_bilgiler.txt dosyasını açın. Gördüğünüz gibi dosyada hiçbir bilgi yok. Dosya şu anda boş görünüyor. Halbuki biz biraz önce bu dosyaya ‘Fırat Özgül’ diye bir satır eklemiştik, değil mi?\n",
    "\n",
    "Python bizim bu dosyaya eklemek istediğimiz satırı tampona kaydetti. Dosyaya yazma işlemleri sona erdiğinde ise Python, tamponda bekleyen bütün bilgileri standart çıktı konumuna (yani bizim durumumuzda f adlı değişkenin tuttuğu kişisel_bilgiler.txt adlı dosyaya) boşaltacak.\n",
    "\n",
    "Dosyaya başka bilgiler de yazalım:"
   ]
  },
  {
   "cell_type": "code",
   "execution_count": 83,
   "id": "0ec8281f-3e08-4938-9718-7be1f177f1f5",
   "metadata": {},
   "outputs": [],
   "source": [
    "print(\"Adana\", file=f)\n",
    "print(\"Ubuntu\", file=f)"
   ]
  },
  {
   "cell_type": "markdown",
   "id": "eb4ff559-22dd-43ad-b60d-1569c743351c",
   "metadata": {},
   "source": [
    "Dosyaya yazacağımız şeyler bu kadar. Artık yazma işleminin sona erdiğini Python’a bildirmek için şu komutu veriyoruz:"
   ]
  },
  {
   "cell_type": "code",
   "execution_count": 84,
   "id": "66b852e0-cf06-4329-9073-07503ef8c6e0",
   "metadata": {},
   "outputs": [],
   "source": [
    "f.close()"
   ]
  },
  {
   "cell_type": "markdown",
   "id": "9cb0ab60-02c2-4c8e-960b-2a91df705c80",
   "metadata": {},
   "source": [
    "Böylece dosyamızı kapatmış olduk. Şimdi kişisel_bilgiler.txt adlı dosyaya çift tıklayarak dosyayı tekrar açın. Orada ‘Fırat Özgül’, ‘Adana’ ve ‘Ubuntu’ satırlarını göreceksiniz.\n",
    "\n",
    "Gördüğünüz gibi, gerçekten de Python dosyaya yazdırmak istediğimiz bütün verileri önce tamponda bekletti, daha sonra dosya kapatılınca tamponda bekleyen bütün verileri dosyaya boşalttı. İşte flush parametresi ile, bahsettiğimiz bu boşaltma işlemini kontrol edebilirsiniz. Şimdi dikkatlice inceleyin:"
   ]
  },
  {
   "cell_type": "code",
   "execution_count": 85,
   "id": "ee21d630-06ff-44b6-8c99-86c4b0031717",
   "metadata": {},
   "outputs": [],
   "source": [
    "f = open(\"kişisel_bilgiler.txt\", \"w\")"
   ]
  },
  {
   "cell_type": "markdown",
   "id": "60d2417d-b742-429a-b5e6-d757150eea18",
   "metadata": {},
   "source": [
    "Dosyamızı oluşturduk. Şimdi bu dosyaya bazı bilgiler ekleyelim:"
   ]
  },
  {
   "cell_type": "code",
   "execution_count": 87,
   "id": "f44ef7bc-3fbe-4a28-83dd-f35c247ac6b6",
   "metadata": {},
   "outputs": [],
   "source": [
    "print(\"Merhaba Dünya!\", file=f, flush=True)"
   ]
  },
  {
   "cell_type": "markdown",
   "id": "2e55f2a8-b121-4e31-9c34-6b83e63acd35",
   "metadata": {},
   "source": [
    "Gördüğünüz gibi, burada flush adlı yeni bir parametre kullandık. Bu parametreye verdiğimiz değer True. Şimdi dosyaya çift tıklayarak dosyayı açın. Gördüğünüz gibi, henüz dosyayı kapatmadığımız halde bilgiler dosyaya yazıldı. Bu durum, tahmin edebileceğiniz gibi, flush parametresine True değeri vermemiz sayesindedir. Bu parametre iki değer alabilir: True ve False. Bu parametrenin öntanımlı değeri False’tur. Yani eğer biz bu parametreye herhangi bir değer belirtmezsek Python bu parametrenin değerini False olarak kabul edecek ve bilgilerin dosyaya yazılması için dosyanın kapatılmasını bekleyecektir. Ancak bu parametreye True değerini verdiğimizde ise veriler tamponda bekletilmeksizin standart çıktı konumuna gönderilecektir.\n",
    "\n",
    "Yazdığınız bir programda, yapmak istediğiniz işin niteliğine göre, bir dosyaya yazmak istediğiniz bilgilerin bir süre tamponda bekletilmesini veya hiç bekletilmeden doğrudan dosyaya yazılmasını isteyebilirsiniz. İhtiyacınıza bağlı olarak da flush parametresinin değerini True veya False olarak belirleyebilirsiniz."
   ]
  },
  {
   "cell_type": "markdown",
   "id": "0a826721-f5b3-400c-bb7d-e7c0adca2e34",
   "metadata": {},
   "source": [
    "Birkaç Pratik Bilgi"
   ]
  },
  {
   "cell_type": "markdown",
   "id": "cd4b13c4-a866-493f-b33c-148719fd7c08",
   "metadata": {},
   "source": [
    "Buraya gelene kadar print() fonksiyonu ve bu fonksiyonun parametreleri hakkında epey söz söyledik. Dilerseniz şimdi de, programcılık maceranızda işinize yarayacak, işlerinizi kolaylaştıracak bazı ipuçları verelim."
   ]
  },
  {
   "cell_type": "markdown",
   "id": "96a269d7-0607-4eea-be75-db7d797fb9e2",
   "metadata": {},
   "source": [
    "Yıldızlı Parametreler"
   ]
  },
  {
   "cell_type": "markdown",
   "id": "1d3f648b-a48f-42b0-af02-ebc61c79b5f4",
   "metadata": {},
   "source": [
    "Şimdi size şöyle bir soru sormama izin verin: Acaba aşağıdaki gibi bir çıktıyı nasıl elde ederiz?\n",
    "\n",
    "L.i.n.u.x"
   ]
  },
  {
   "cell_type": "markdown",
   "id": "4fb73194-8af5-4475-8074-c26662f1ee8f",
   "metadata": {},
   "source": [
    "Aklınıza hemen şöyle bir cevap gelmiş olabilir:"
   ]
  },
  {
   "cell_type": "code",
   "execution_count": 88,
   "id": "30ffe32b-eebe-4a93-b796-3ac16b0e1228",
   "metadata": {},
   "outputs": [
    {
     "name": "stdout",
     "output_type": "stream",
     "text": [
      "L.i.n.u.x\n"
     ]
    }
   ],
   "source": [
    "print(\"L\", \"i\", \"n\", \"u\", \"x\", sep=\".\")"
   ]
  },
  {
   "cell_type": "markdown",
   "id": "2e30e655-8c93-4f0a-86ef-758d2c50e115",
   "metadata": {},
   "source": [
    "Yukarıdaki, gerçekten de doğru bir çözümdür. Ancak bu soruyu çözmenin çok daha basit bir yolu var. Şimdi dikkatle bakın:"
   ]
  },
  {
   "cell_type": "code",
   "execution_count": 89,
   "id": "5ce28334-526a-4627-ac5d-f5b8b59abf9c",
   "metadata": {},
   "outputs": [
    {
     "name": "stdout",
     "output_type": "stream",
     "text": [
      "L.i.n.u.x\n"
     ]
    }
   ],
   "source": [
    "print(*\"Linux\", sep=\".\")\n"
   ]
  },
  {
   "cell_type": "markdown",
   "id": "f037a158-a70b-4e13-9c13-3e1b07ce1b1f",
   "metadata": {},
   "source": [
    "Konuyu açıklamaya geçmeden önce bir örnek daha verelim:"
   ]
  },
  {
   "cell_type": "code",
   "execution_count": 90,
   "id": "92181d50-f915-46ec-8e36-5b89feaa893f",
   "metadata": {},
   "outputs": [
    {
     "name": "stdout",
     "output_type": "stream",
     "text": [
      "G a l a t a s a r a y\n"
     ]
    }
   ],
   "source": [
    "print(*\"Galatasaray\")"
   ]
  },
  {
   "cell_type": "markdown",
   "id": "60a1e2fd-e9bb-4a9f-b995-6f8fbe6b4e0c",
   "metadata": {},
   "source": [
    "Burada neler döndüğünü az çok tahmin ettiğinizi zannediyorum. Son örnekte de gördüğünüz gibi, “Galatasaray” karakter dizisinin başına eklediğimiz yıldız işareti; “Galatasaray” karakter dizisinin her bir öğesini parçalarına ayırarak, bunları tek tek print() fonksiyonuna yolluyor. Yani sanki print() fonksiyonunu şöyle yazmışız gibi oluyor:\n",
    "\n"
   ]
  },
  {
   "cell_type": "code",
   "execution_count": 91,
   "id": "21214eca-95a0-47c5-a990-1b757f292988",
   "metadata": {},
   "outputs": [
    {
     "name": "stdout",
     "output_type": "stream",
     "text": [
      "G a l a t a s a r a y\n"
     ]
    }
   ],
   "source": [
    "print(\"G\", \"a\", \"l\", \"a\", \"t\", \"a\", \"s\", \"a\", \"r\", \"a\", \"y\")"
   ]
  },
  {
   "cell_type": "markdown",
   "id": "ed22d8b0-bfda-49cd-b21b-3ca6cfbcbfbe",
   "metadata": {},
   "source": [
    "Dediğimiz gibi, bir fonksiyona parametre olarak verdiğimiz bir karakter dizisinin başına eklediğimiz yıldız işareti, bu karakter dizisini tek tek öğelerine ayırıp, bu öğeleri yine tek tek ve sanki her bir öğe ayrı bir parametreymiş gibi o fonksiyona gönderdiği için doğal olarak yıldız işaretini ancak, birden fazla parametre alabilen fonksiyonlara uygulayabiliriz.\n",
    "\n",
    "Örneğin len() fonksiyonu sadece tek bir parametre alabilir:"
   ]
  },
  {
   "cell_type": "code",
   "execution_count": 92,
   "id": "8d32e2b9-2fa3-4861-8c0b-5acda211ef66",
   "metadata": {},
   "outputs": [
    {
     "data": {
      "text/plain": [
       "11"
      ]
     },
     "execution_count": 92,
     "metadata": {},
     "output_type": "execute_result"
    }
   ],
   "source": [
    "len(\"Galatasaray\")"
   ]
  },
  {
   "cell_type": "markdown",
   "id": "615f771f-511c-4d83-b9be-3b872c53183e",
   "metadata": {},
   "source": [
    "Bu fonksiyonu birden fazla parametre ile kullanamayız:"
   ]
  },
  {
   "cell_type": "code",
   "execution_count": 93,
   "id": "a64c1ea7-5742-4d81-b848-227c557c4fc6",
   "metadata": {},
   "outputs": [
    {
     "ename": "TypeError",
     "evalue": "len() takes exactly one argument (3 given)",
     "output_type": "error",
     "traceback": [
      "\u001b[0;31m---------------------------------------------------------------------------\u001b[0m",
      "\u001b[0;31mTypeError\u001b[0m                                 Traceback (most recent call last)",
      "Cell \u001b[0;32mIn[93], line 1\u001b[0m\n\u001b[0;32m----> 1\u001b[0m \u001b[38;5;28;43mlen\u001b[39;49m\u001b[43m(\u001b[49m\u001b[38;5;124;43m\"\u001b[39;49m\u001b[38;5;124;43mGalatasaray\u001b[39;49m\u001b[38;5;124;43m\"\u001b[39;49m\u001b[43m,\u001b[49m\u001b[43m \u001b[49m\u001b[38;5;124;43m\"\u001b[39;49m\u001b[38;5;124;43mFenerbahçe\u001b[39;49m\u001b[38;5;124;43m\"\u001b[39;49m\u001b[43m,\u001b[49m\u001b[43m \u001b[49m\u001b[38;5;124;43m\"\u001b[39;49m\u001b[38;5;124;43mBeşiktaş\u001b[39;49m\u001b[38;5;124;43m\"\u001b[39;49m\u001b[43m)\u001b[49m\n",
      "\u001b[0;31mTypeError\u001b[0m: len() takes exactly one argument (3 given)"
     ]
    }
   ],
   "source": [
    "len(\"Galatasaray\", \"Fenerbahçe\", \"Beşiktaş\")"
   ]
  },
  {
   "cell_type": "markdown",
   "id": "6eeb3ab1-1d08-4ac7-8c7b-02213c62273e",
   "metadata": {},
   "source": [
    "Hata mesajında da söylendiği gibi, len() fonksiyonu yalnızca tek bir parametre alabilirken, biz 3 parametre vermeye çalışmışız…\n",
    "\n",
    "Dolayısıyla yıldızlı parametreleri len() fonksiyonuna uygulayamayız:"
   ]
  },
  {
   "cell_type": "code",
   "execution_count": 94,
   "id": "c2a54a87-0d21-4a34-838d-95870c4cd620",
   "metadata": {},
   "outputs": [
    {
     "ename": "TypeError",
     "evalue": "len() takes exactly one argument (11 given)",
     "output_type": "error",
     "traceback": [
      "\u001b[0;31m---------------------------------------------------------------------------\u001b[0m",
      "\u001b[0;31mTypeError\u001b[0m                                 Traceback (most recent call last)",
      "Cell \u001b[0;32mIn[94], line 1\u001b[0m\n\u001b[0;32m----> 1\u001b[0m \u001b[38;5;28;43mlen\u001b[39;49m\u001b[43m(\u001b[49m\u001b[38;5;241;43m*\u001b[39;49m\u001b[38;5;124;43m\"\u001b[39;49m\u001b[38;5;124;43mGalatasaray\u001b[39;49m\u001b[38;5;124;43m\"\u001b[39;49m\u001b[43m)\u001b[49m\n",
      "\u001b[0;31mTypeError\u001b[0m: len() takes exactly one argument (11 given)"
     ]
    }
   ],
   "source": [
    "len(*\"Galatasaray\")\n"
   ]
  },
  {
   "cell_type": "markdown",
   "id": "eb2a6e9f-9287-4f9d-a10f-8466145fbd49",
   "metadata": {},
   "source": [
    "Bir parametrenin başına yıldız eklediğimizde, o parametreyi oluşturan bütün öğeler tek tek fonksiyona gönderildiği için, sanki len() fonksiyonuna 1 değil de, 11 ayrı parametre vermişiz gibi bir sonuç ortaya çıkıyor.\n",
    "\n",
    "Yıldızlı parametreleri bir fonksiyona uygulayabilmemiz için o fonksiyonun birden fazla parametre alabilmesinin yanısıra, yapısının da yıldızlı parametre almaya uygun olması gerekir. Mesela open(), type() ve biraz önce bahsettiğimiz len() fonksiyonlarının yapısı yıldızlı parametre almaya uygun değildir. Dolayısıyla yıldızlı parametreleri her fonksiyonla birlikte kullanamayız, ama print() fonksiyonu yıldızlı parametreler için son derece uygun bir fonksiyondur:"
   ]
  },
  {
   "cell_type": "code",
   "execution_count": 95,
   "id": "4f9e64f5-fae9-46a9-b418-9b3386b8f491",
   "metadata": {},
   "outputs": [
    {
     "name": "stdout",
     "output_type": "stream",
     "text": [
      "G a l a t a s a r a y\n"
     ]
    }
   ],
   "source": [
    "print(*\"Galatasaray\")"
   ]
  },
  {
   "cell_type": "code",
   "execution_count": 96,
   "id": "bfec3679-f77d-4f1e-9a8e-b11c3bffe641",
   "metadata": {},
   "outputs": [
    {
     "name": "stdout",
     "output_type": "stream",
     "text": [
      "T.B.M.M\n"
     ]
    }
   ],
   "source": [
    "print(*\"TBMM\", sep=\".\")"
   ]
  },
  {
   "cell_type": "code",
   "execution_count": 97,
   "id": "afcd1316-5f01-4f04-96a5-54ceb44aa52b",
   "metadata": {},
   "outputs": [
    {
     "name": "stdout",
     "output_type": "stream",
     "text": [
      "a/b/c/ç/d/e/f/g/ğ/h\n"
     ]
    }
   ],
   "source": [
    "print(*\"abcçdefgğh\", sep=\"/\")"
   ]
  },
  {
   "cell_type": "markdown",
   "id": "e1c3368a-f6fc-428b-b8ff-01259f3614df",
   "metadata": {},
   "source": [
    "Bu örneklerden de gördüğünüz gibi, print() fonksiyonuna verdiğimiz bir parametrenin başına yıldız eklediğimizde, o parametre tek tek parçalarına ayrılıp print() fonksiyonuna gönderildiği için, sonuç olarak sep parametresinin karakter dizisi öğelerine tek tek uygulanmasını sağlamış oluyoruz.\n",
    "\n",
    "Hatırlarsanız sep parametresinin öntanımlı değerinin bir adet boşluk karakteri olduğunu söylemiştik. Yani aslında Python yukarıdaki ilk komutu şöyle görüyor:"
   ]
  },
  {
   "cell_type": "code",
   "execution_count": 98,
   "id": "2459a5c9-2ab9-43e5-96b0-db6bb761efb7",
   "metadata": {},
   "outputs": [
    {
     "name": "stdout",
     "output_type": "stream",
     "text": [
      "G a l a t a s a r a y\n"
     ]
    }
   ],
   "source": [
    "print(*\"Galatasaray\", sep=\" \")"
   ]
  },
  {
   "cell_type": "markdown",
   "id": "2f20c357-8251-40cb-8ed8-64b50212816d",
   "metadata": {},
   "source": [
    "Dolayısıyla, yıldız işareti sayesinde “Galatasaray” adlı karakter dizisinin her bir öğesinin arasına bir adet boşluk karakteri yerleştiriliyor. Bir sonraki “TBMM” karakter dizisinde ise, sep parametresinin değerini nokta işareti olarak değiştirdiğimiz için “TBMM” karakter dizisinin her bir öğesinin arasına bir adet nokta işareti yerleştiriliyor. Aynı şekilde “abcçdefgğh” karakter dizisinin her bir öğesini tek tek print() fonksiyonuna yollayarak, sep parametresine verdiğimiz / işareti yardımıyla her öğenin arasına bu / işaretini yerleştirebiliyoruz.\n",
    "\n",
    "Yıldızlı parametrelerle ilgili tek kısıtlama, bunların sayılarla birlikte kullanılamayacak olmasıdır:"
   ]
  },
  {
   "cell_type": "code",
   "execution_count": 99,
   "id": "41cb73e0-eaa5-4618-a178-12e76e93cf61",
   "metadata": {},
   "outputs": [
    {
     "ename": "TypeError",
     "evalue": "print() argument after * must be an iterable, not int",
     "output_type": "error",
     "traceback": [
      "\u001b[0;31m---------------------------------------------------------------------------\u001b[0m",
      "\u001b[0;31mTypeError\u001b[0m                                 Traceback (most recent call last)",
      "Cell \u001b[0;32mIn[99], line 1\u001b[0m\n\u001b[0;32m----> 1\u001b[0m \u001b[38;5;28;43mprint\u001b[39;49m\u001b[43m(\u001b[49m\u001b[38;5;241;43m*\u001b[39;49m\u001b[38;5;241;43m2345\u001b[39;49m\u001b[43m)\u001b[49m\n",
      "\u001b[0;31mTypeError\u001b[0m: print() argument after * must be an iterable, not int"
     ]
    }
   ],
   "source": [
    "print(*2345)"
   ]
  },
  {
   "cell_type": "markdown",
   "id": "a54afce7-2767-4bee-b903-9b6c2cf9b576",
   "metadata": {},
   "source": [
    "Çünkü yıldızlı parametreler ancak ve ancak dizi özelliği taşıyan veri tipleriyle birlikte kullanılabilir. Mesela karakter dizileri bu türden bir veri tipidir. İlerde dizi özelliği taşıyan ve bu sayede yıldızlı parametrelerle birlikte kullanılabilecek başka veri tiplerini de öğreneceğiz.\n",
    "\n",
    "Yukarıda verdiğimiz örnekler bize yıldızlı parametrelerin son derece kullanışlı araçlar olduğunu gösteriyor. İleride de bu parametrelerden bol bol yararlanacağız. Biz şimdi bu konuyu burada kapatıp başka bir şeyden söz edelim."
   ]
  },
  {
   "cell_type": "markdown",
   "id": "a35062cb-6630-4aab-ac8e-565b5a0c0905",
   "metadata": {},
   "source": [
    "sys.stdout’u Kalıcı Olarak Değiştirmek\n",
    "\n",
    "Önceki başlıklar altında verdiğimiz örneklerden de gördüğünüz gibi, print() fonksiyonunun file parametresi yardımıyla Python’ın standart çıktı konumunu geçici olarak değiştirebiliyoruz. Ama bazı durumlarda, yazdığınız programlarda, o programın işleyişi boyunca standart dışı bir çıktı konumu belirlemek isteyebilirsiniz. Yani standart çıktı konumunu geçici olarak değil, kalıcı olarak değiştirmeniz gerekebilir. Mesela yazdığınız programda bütün çıktıları bir dosyaya yazdırmayı tercih edebilirsiniz. Elbette bu işlemi her defasında file parametresini, çıktıları yazdırmak istediğiniz dosyanın adı olarak belirleyerek yapabilirsiniz. Tıpkı şu örnekte olduğu gibi:\n",
    "\n"
   ]
  },
  {
   "cell_type": "code",
   "execution_count": 100,
   "id": "1976279e-1603-4db3-a755-9b8e9ba4e6f7",
   "metadata": {},
   "outputs": [],
   "source": [
    "f = open(\"dosya.txt\", \"w\")\n",
    "print(\"Fırat Özgül\", file=f)\n",
    "print(\"Adana\", file=f)\n",
    "print(\"Ubuntu\", file=f)\n",
    "f.close()"
   ]
  },
  {
   "cell_type": "markdown",
   "id": "31865acc-a2e6-482f-8a0c-4a84746719eb",
   "metadata": {},
   "source": [
    "Gördüğünüz gibi, her defasında file parametresine f değerini vererek işimizi hallettik. Ama bunu yapmanın daha pratik bir yöntemi var. Dilerseniz yazdığınız programın tüm işleyişi boyunca çıktıları başka bir konuma yönlendirebilirsiniz. Bunun için hem şimdiye kadar öğrendiğimiz, hem de henüz öğrenmediğimiz bazı bilgileri kullanacağız.\n",
    "\n",
    "İlk önce şöyle bir kod yazalım:"
   ]
  },
  {
   "cell_type": "code",
   "execution_count": 101,
   "id": "c6d8c2f0-8f25-49d7-8cc7-5e5dd57a2ead",
   "metadata": {},
   "outputs": [],
   "source": [
    "import sys"
   ]
  },
  {
   "cell_type": "markdown",
   "id": "af3fc9ba-2417-4681-bcab-4838e1f5745c",
   "metadata": {},
   "source": [
    "Bu kod yardımıyla sys adlı özel bir ‘modülü’ programımıza dahil etmiş, yani içe aktarmış olduk. Peki ‘modül’ nedir, ‘içe aktarmak’ ne demek?\n",
    "\n",
    "Aslında biz bu ‘modül’ ve ‘içe aktarma’ kavramlarına hiç de yabancı değiliz. Önceki derslerde, pek üzerinde durmamış da olsak, biz Python’daki birkaç modülle zaten tanışmıştık. Mesela os adlı bir modül içindeki getcwd() adlı bir fonksiyonu kullanarak, o anda hangi dizinde bulunduğumuzu öğrenebilmiştik:"
   ]
  },
  {
   "cell_type": "code",
   "execution_count": 102,
   "id": "44996c52-9a34-4e8b-981e-d6266df7b1b2",
   "metadata": {},
   "outputs": [
    {
     "data": {
      "text/plain": [
       "'/home/toree/Desktop/Temel Python Objeleri ve Veri Yapıları'"
      ]
     },
     "execution_count": 102,
     "metadata": {},
     "output_type": "execute_result"
    }
   ],
   "source": [
    "import os\n",
    "os.getcwd()"
   ]
  },
  {
   "cell_type": "markdown",
   "id": "2fd64030-8e33-40f3-8415-e6c4cfda5390",
   "metadata": {},
   "source": [
    "Aynı şekilde keyword adlı başka bir modül içindeki kwlist adlı değişkeni kullanarak, hangi kelimelerin Python’da değişken adı olarak kullanılamayacağını da listeleyebilmiştik:"
   ]
  },
  {
   "cell_type": "code",
   "execution_count": 103,
   "id": "10ebc904-bc90-4f8a-8e62-9e0beb106c63",
   "metadata": {},
   "outputs": [
    {
     "data": {
      "text/plain": [
       "['False',\n",
       " 'None',\n",
       " 'True',\n",
       " 'and',\n",
       " 'as',\n",
       " 'assert',\n",
       " 'async',\n",
       " 'await',\n",
       " 'break',\n",
       " 'class',\n",
       " 'continue',\n",
       " 'def',\n",
       " 'del',\n",
       " 'elif',\n",
       " 'else',\n",
       " 'except',\n",
       " 'finally',\n",
       " 'for',\n",
       " 'from',\n",
       " 'global',\n",
       " 'if',\n",
       " 'import',\n",
       " 'in',\n",
       " 'is',\n",
       " 'lambda',\n",
       " 'nonlocal',\n",
       " 'not',\n",
       " 'or',\n",
       " 'pass',\n",
       " 'raise',\n",
       " 'return',\n",
       " 'try',\n",
       " 'while',\n",
       " 'with',\n",
       " 'yield']"
      ]
     },
     "execution_count": 103,
     "metadata": {},
     "output_type": "execute_result"
    }
   ],
   "source": [
    "import keyword\n",
    "keyword.kwlist"
   ]
  },
  {
   "cell_type": "markdown",
   "id": "ce50fd6e-de92-45fa-973b-461dabcab484",
   "metadata": {},
   "source": [
    "İşte şimdi de, os ve keyword modüllerine ek olarak sys adlı bir modülden söz ediyoruz. Gelin isterseniz öteki modülleri şimdilik bir kenara bırakıp, bu sys denen modüle dikkatimizi verelim.\n",
    "\n",
    "Dediğimiz gibi, sys modülü içinde pek çok önemli değişken ve fonksiyon bulunur. Ancak bir modül içindeki değişken ve fonksiyonları kullanabilmek için o modülü öncelikle programımıza dahil etmemiz, yani içe aktarmamız gerekiyor. Bunu import komutuyla yapıyoruz:"
   ]
  },
  {
   "cell_type": "code",
   "execution_count": 104,
   "id": "46a608ca-a858-4509-bc1f-b56a29448b14",
   "metadata": {},
   "outputs": [],
   "source": [
    "import sys"
   ]
  },
  {
   "cell_type": "markdown",
   "id": "c094eb92-5146-4354-9b2b-51cfff7d1e0c",
   "metadata": {},
   "source": [
    "Artık sys modülü içindeki bütün fonksiyon ve değişkenlere ulaşabileceğiz.\n",
    "\n",
    "sys modülü içinde bulunan pek çok değişken ve fonksiyondan biri de stdout adlı değişkendir. Bu değişkenin değerine şöyle ulaşabilirsiniz:\n",
    "\n"
   ]
  },
  {
   "cell_type": "code",
   "execution_count": 105,
   "id": "dc145247-fbab-405b-ad36-86c132f82be0",
   "metadata": {},
   "outputs": [
    {
     "data": {
      "text/plain": [
       "<ipykernel.iostream.OutStream at 0x70babffe7f10>"
      ]
     },
     "execution_count": 105,
     "metadata": {},
     "output_type": "execute_result"
    }
   ],
   "source": [
    "sys.stdout"
   ]
  },
  {
   "cell_type": "markdown",
   "id": "825b82ad-ec65-4209-9c84-d2a38ebe4ddb",
   "metadata": {},
   "source": [
    "Bu komut şuna benzer bir çıktı verir:\n",
    "\n",
    "<_io.TextIOWrapper name='<stdout>' mode='w' encoding='cp1254'>\n"
   ]
  },
  {
   "cell_type": "markdown",
   "id": "20f919b5-88f7-4733-a8b1-26b59857b4a0",
   "metadata": {},
   "source": [
    "Bu çıktıdaki name=’<stdout>’ kısmına dikkat edin. Bu ifadeye birazdan geri döneceğiz. Biz şimdi başka bir şeyden söz edelim.\n",
    "\n",
    "Hatırlarsanız etkileşimli kabuğu nasıl kapatabileceğimizi anlatırken, etkileşimli kabuktan çıkmanın bir yolunun da şu komutları vermek olduğunu söylemiştik:"
   ]
  },
  {
   "cell_type": "code",
   "execution_count": null,
   "id": "6ffca61c-a93c-4de3-ab12-0c430c70ada4",
   "metadata": {},
   "outputs": [],
   "source": [
    "import sys; sys.exit()"
   ]
  },
  {
   "cell_type": "markdown",
   "id": "cf8c47d7-6d8e-4ac7-814e-6bc0f7131f02",
   "metadata": {},
   "source": [
    "Bu komutu tek satırda yazmıştık, ama istersek şöyle de yazabiliriz elbette:"
   ]
  },
  {
   "cell_type": "code",
   "execution_count": 108,
   "id": "0749692b-db52-45ca-92f3-e63464379bcd",
   "metadata": {},
   "outputs": [
    {
     "ename": "SystemExit",
     "evalue": "",
     "output_type": "error",
     "traceback": [
      "An exception has occurred, use %tb to see the full traceback.\n",
      "\u001b[0;31mSystemExit\u001b[0m\n"
     ]
    }
   ],
   "source": [
    "import sys\n",
    "sys.exit()"
   ]
  },
  {
   "cell_type": "markdown",
   "id": "5a130c9a-95a5-4faf-98ef-f9e16c4c5210",
   "metadata": {},
   "source": [
    "Dedik ya, sys modülü içinde pek çok değişken ve fonksiyon bulunur. Nasıl stdout sys modülü içindeki değişkenlerden biri ise, exit() de sys modülü içinde bulunan fonksiyonlardan biridir.\n",
    "\n",
    "Biz ‘modüller’ konusunu ilerleyen derslerde ayrıntılı bir şekilde inceleyeceğiz. Şimdilik modüllere ilişkin olarak yalnızca şunları bilelim yeter:\n",
    "\n",
    "1. Python’da modüller import komutu ile içe aktarılır. Örneğin sys adlı modülü içe aktarmak için import sys komutunu veriyoruz.\n",
    "\n",
    "2. Modüller içinde pek çok faydalı değişken ve fonksiyon bulunur. İşte bir modülü içe aktardığımızda, o modül içindeki bu değişken ve fonksiyonları kullanma imkanı elde ederiz.\n",
    "\n",
    "3. sys modülü içindeki değişkenlere bir örnek stdout; fonksiyonlara örnek ise exit() fonksiyonudur. Bir modül içindeki bu değişken ve fonksiyonlara ‘modül_adı.değişken_ya_da_fonksiyon’ formülünü kullanarak erişebiliriz. Örneğin:"
   ]
  },
  {
   "cell_type": "code",
   "execution_count": null,
   "id": "c02ba0a3-6557-4c12-9f8e-e3ea03c8e7c5",
   "metadata": {},
   "outputs": [],
   "source": [
    "sys.stdout\n",
    "sys.exit()"
   ]
  },
  {
   "cell_type": "markdown",
   "id": "71612afb-665d-41ee-ad29-8abc02bbe178",
   "metadata": {},
   "source": [
    "4. Hatırlarsanız bundan önce de, open() fonksiyonu ile dosya oluşturmayı anlatırken, oluşturulan dosyanın hangi dizinde olduğunu bulabilmek amacıyla, o anda içinde bulunduğumuz dizini tespit edebilmek için şu kodları kullanmıştık:"
   ]
  },
  {
   "cell_type": "code",
   "execution_count": 109,
   "id": "a6bbdb86-82d5-4c51-8b47-ac38083ff4f2",
   "metadata": {
    "scrolled": true
   },
   "outputs": [
    {
     "data": {
      "text/plain": [
       "'/home/toree/Desktop/Temel Python Objeleri ve Veri Yapıları'"
      ]
     },
     "execution_count": 109,
     "metadata": {},
     "output_type": "execute_result"
    }
   ],
   "source": [
    "import os\n",
    "os.getcwd()"
   ]
  },
  {
   "cell_type": "markdown",
   "id": "a09cfae0-89c1-4a14-a02c-e6521d89f1f8",
   "metadata": {},
   "source": [
    "Burada da os adlı başka bir modül görüyoruz. İşte os da tıpkı sys gibi bir modüldür ve tıpkı sys modülünde olduğu gibi, os modülünün de içinde pek çok yararlı değişken ve fonksiyon bulunur. getcwd() adlı fonksiyon da os modülü içinde yer alan ve o anda hangi dizin altında bulunduğumuzu gösteren bir fonksiyondur. Elbette, yine tıpkı sys modülünde olduğu gibi, os modülü içindeki bu yararlı değişken ve fonksiyonları kullanabilmek için de öncelikle bu os modülünü içe aktarmamız, yani programımıza dahil etmemiz gerekiyor. os modülünü import komutu aracılığıyla uygun bir şekilde içe aktardıktan sonra, modül içinde yer alan getcwd() adlı fonksiyona yine ‘modül_adı.fonksiyon’ formülünü kullanarak erişebiliyoruz.\n",
    "\n",
    "Modüllere ilişkin şimdilik bu kadar bilgi yeter. Modülleri bir kenara bırakıp yolumuza devam edelim…\n",
    "\n",
    "Eğer sys.exit() komutunu verip etkileşimli kabuktan çıktıysanız, etkileşimli kabuğa tekrar girin ve sys modülünü yeniden içe aktarın:"
   ]
  },
  {
   "cell_type": "code",
   "execution_count": 110,
   "id": "28ab5bf1-5b48-460b-9ca6-93f0ada73313",
   "metadata": {},
   "outputs": [],
   "source": [
    "import sys"
   ]
  },
  {
   "cell_type": "markdown",
   "id": "5294e153-8d02-4b2e-899e-1a167c1c133c",
   "metadata": {},
   "source": [
    "Bir modülü aynı etkileşimli kabuk oturumu içinde bir kez içe aktarmak yeterlidir. Bir modülü bir kez içe aktardıktan sonra, o oturum süresince bu modül içindeki değişken ve fonksiyonları kullanmaya devam edebilirsiniz. Ama tabii ki etkileşimli kabuğu kapatıp tekrar açtıktan sonra, bir modülü kullanabilmek için o modülü tekrar içe aktarmanız gerekir.\n"
   ]
  },
  {
   "cell_type": "markdown",
   "id": "c34310ea-536d-454e-91d1-352061842596",
   "metadata": {},
   "source": [
    "Şimdi şu kodu yazın:"
   ]
  },
  {
   "cell_type": "code",
   "execution_count": 111,
   "id": "6bc7b7e1-62d6-4f70-834d-8f249afc8bc4",
   "metadata": {},
   "outputs": [],
   "source": [
    "f = open(\"dosya.txt\", \"w\")"
   ]
  },
  {
   "cell_type": "markdown",
   "id": "a9709c2b-e9b2-47ae-9079-0973ba9011b4",
   "metadata": {},
   "source": [
    "Bu kodun anlamını biliyorsunuz. Burada dosya.txt adlı bir dosyayı yazma kipinde açmış olduk. Tahmin edebileceğiniz gibi, çıktılarımızı ekran yerine bu dosyaya yönlendireceğiz.\n",
    "\n",
    "Şimdi de şöyle bir kod yazalım:"
   ]
  },
  {
   "cell_type": "code",
   "execution_count": 112,
   "id": "4ba344a3-ab7b-4155-a122-f33725be0855",
   "metadata": {},
   "outputs": [],
   "source": [
    "sys.stdout = f"
   ]
  },
  {
   "cell_type": "markdown",
   "id": "f6c74838-f469-4825-837d-d31db3eb69ac",
   "metadata": {},
   "source": [
    "Bildiğiniz gibi, sys.stdout değeri Python’ın çıktıları hangi konuma vereceğini belirliyor. İşte biz burada sys.stdout’un değerini biraz önce oluşturduğumuz f adlı dosya ile değiştiriyoruz. Böylece Python bütün çıktıları f değişkeni içinde belirttiğimiz dosya.txt adlı dosyaya gönderiyor.\n",
    "\n",
    "Bu andan sonra yazacağınız her şey dosya.txt adlı dosyaya gidecektir:"
   ]
  },
  {
   "cell_type": "code",
   "execution_count": 114,
   "id": "8493ceb3-eb45-4475-bbba-485a26d1331f",
   "metadata": {},
   "outputs": [],
   "source": [
    "print(\"deneme metni\", flush=True)"
   ]
  },
  {
   "cell_type": "markdown",
   "id": "169fb8ed-d7bb-40a6-aa95-12b881dc5822",
   "metadata": {},
   "source": [
    "Gördüğünüz gibi, burada file parametresini kullanmadığımız halde çıktılarımız ekrana değil, dosya.txt adlı bir dosyaya yazdırıldı. Peki ama bu nasıl oldu? Aslında bunun cevabı çok basit: Biraz önce sys.stdout = f komutuyla sys.stdout’un değerini f değişkeninin tuttuğu dosya ile değiştirdik. Bu işlemi yapmadan önce sys.stdout’un değeri şuydu hatırlarsanız:"
   ]
  },
  {
   "cell_type": "code",
   "execution_count": null,
   "id": "5ca55253-5a9c-477d-aceb-d272a82ccd96",
   "metadata": {},
   "outputs": [],
   "source": [
    "<_io.TextIOWrapper name='<stdout>' mode='w' encoding='cp1254'>"
   ]
  },
  {
   "cell_type": "markdown",
   "id": "a35ee6c0-36bd-489d-869c-3c6e1e1f597d",
   "metadata": {},
   "source": [
    "Ama sys.stdout = f komutundan sonra her şey değişti. Kontrol edelim:"
   ]
  },
  {
   "cell_type": "code",
   "execution_count": 116,
   "id": "aafdbd91-1f4e-4395-9704-38dfbf1c5e94",
   "metadata": {},
   "outputs": [],
   "source": [
    "print(sys.stdout, flush=True)"
   ]
  },
  {
   "cell_type": "markdown",
   "id": "e84eb199-47e4-448e-b222-236cb88d4c66",
   "metadata": {},
   "source": [
    "lbette bu komuttan herhangi bir çıktı almadınız. Çıktının ne olduğunu görmek için dosya.txt adlı dosyayı açın."
   ]
  },
  {
   "cell_type": "markdown",
   "id": "895815b5-dd61-4597-ac12-27a017094ef3",
   "metadata": {},
   "source": [
    "Gördüğünüz gibi, özgün stdout çıktısındaki name=’<stdout>’ değeri name=’dosya.txt’ olmuş. Dolayısıyla artık bütün çıktılar dosya.txt adlı dosyaya gidiyor…\n",
    "\n",
    "Bu arada, yukarıdaki çıktıda görünen name, mode ve encoding değerlerine şu şekilde ulaşabilirsiniz:"
   ]
  },
  {
   "cell_type": "code",
   "execution_count": 117,
   "id": "ebbb1797-3751-4854-b715-e17098798008",
   "metadata": {},
   "outputs": [
    {
     "data": {
      "text/plain": [
       "'UTF-8'"
      ]
     },
     "execution_count": 117,
     "metadata": {},
     "output_type": "execute_result"
    }
   ],
   "source": [
    "sys.stdout.name\n",
    "sys.stdout.mode\n",
    "sys.stdout.encoding"
   ]
  },
  {
   "cell_type": "markdown",
   "id": "ee64ad38-dd01-4556-a0fa-f9cb103d5662",
   "metadata": {},
   "source": [
    "Burada sys.stdout.name komutu standart çıktı konumunun o anki adını verecektir. sys.stdout.mode komutu ise standart çıktı konumunun hangi kipe sahip olduğunu gösterir. Standart çıktı konumu genellikle yazma kipinde (w) bulunur. sys.stdout.encoding kodu ise standart çıktı konumunun sahip olduğu kodlama biçimini gösterir. Kodlama biçimi, standart çıktı konumuna yazdıracağınız karakterlerin hangi kodlama biçimi ile kodlanacağını belirler. Kodlama biçimi Windows’ta genellikle ‘cp1254’, GNU/Linux’ta ise ‘utf-8’dir. Eğer bu kodlama biçimi yanlış olursa, mesela dosyaya yazdıracağınız karakterler içindeki Türkçe harfler düzgün görüntülenemez. Eğer burada söylediklerimiz size şu anda anlaşılmaz geliyorsa, söylediklerimizi dikkate almadan yolunuza devam edebilirsiniz. Birkaç bölüm sonra bu söylediklerimiz size daha fazla şey ifade etmeye başlayacak nasıl olsa.\n",
    "\n",
    "Peki standart çıktı konumunu eski haline döndürmek isterseniz ne yapacaksınız? Bunun için etkileşimli kabuktan çıkıp tekrar girebilirsiniz. Etkileşimli kabuğu tekrar açtığınızda her şeyin eski haline döndüğünü göreceksiniz. Aynı şekilde, eğer bu kodları bir program dosyasına yazmış olsaydınız, programınız kapandığında her şey eski haline dönecekti.\n",
    "\n",
    "Peki standart çıktı konumunu, etkileşimli kabuktan çıkmadan veya programı kapatmadan eski haline döndürmenin bir yolu var mı? Elbette var. Dikkatlice bakın:"
   ]
  },
  {
   "cell_type": "code",
   "execution_count": 119,
   "id": "980c3e97-feb0-4c82-b40f-bddda7a16f73",
   "metadata": {},
   "outputs": [],
   "source": [
    "import sys\n",
    "f = open(\"dosya.txt\", \"w\")\n",
    "sys.stdout, f = f, sys.stdout\n",
    "print(\"deneme\", flush=True)\n",
    "f, sys.stdout = sys.stdout, f\n",
    "print(\"deneme\")"
   ]
  },
  {
   "cell_type": "markdown",
   "id": "92089deb-2967-4b0f-9426-baaee72d3279",
   "metadata": {},
   "source": [
    "Aslında burada anlayamayacağınız hiçbir şey yok. Burada yaptığımız şeyi geçen bölümlerde değişkenlerin değerini nasıl takas edeceğimizi anlatırken de yapmıştık. Hatırlayalım:\n",
    "\n"
   ]
  },
  {
   "cell_type": "code",
   "execution_count": 120,
   "id": "b6035c3c-24f7-409f-b364-c785f5a9d621",
   "metadata": {},
   "outputs": [],
   "source": [
    "osman = \"Araştırma Geliştirme Müdürü\"\n",
    "mehmet = \"Proje Sorumlusu\"\n",
    "osman, mehmet = mehmet, osman"
   ]
  },
  {
   "cell_type": "markdown",
   "id": "d0576a19-8e74-43ce-a6e1-a4e888253862",
   "metadata": {},
   "source": [
    "Bu kodlarla Osman ve Mehmet’in unvanlarını birbiriyle takas etmiştik. İşte yukarıda yaptığımız şey de bununla aynıdır. sys.stdout, f = f, sys.stdout dediğimizde f değerini sys.stdout’a, sys.stdout’un değerini ise f’ye vermiş oluyoruz. f, sys.stdout = sys.stdout, f dediğimizde ise, bu işlemin tam tersini yaparak her şeyi eski haline getirmiş oluyoruz.\n",
    "\n",
    "Python’ın bize sunduğu bu kolaylıktan faydalanarak değişkenlerin değerini birbiriyle kolayca takas edebiliyoruz. Eğer böyle bir kolaylık olmasaydı yukarıdaki kodları şöyle yazabilirdik:"
   ]
  },
  {
   "cell_type": "code",
   "execution_count": 122,
   "id": "36c27fe9-d998-4518-9b13-62ef9dc39f8b",
   "metadata": {},
   "outputs": [],
   "source": [
    "import sys\n",
    "f = open(\"dosya.txt\", \"w\")\n",
    "özgün_stdout = sys.stdout\n",
    "sys.stdout = f\n",
    "print(\"deneme\", flush=True)\n",
    "sys.stdout = özgün_stdout\n",
    "print(\"deneme\")"
   ]
  },
  {
   "cell_type": "markdown",
   "id": "71d6794f-096d-4b66-beeb-6adc09e5a093",
   "metadata": {},
   "source": [
    "Gördüğünüz gibi, sys.stdout’un değerini kaybetmemek için, sys.stdout değerini f adlı dosyaya göndermeden önce şu kod yardımıyla yedekliyoruz:\n",
    "\n"
   ]
  },
  {
   "cell_type": "code",
   "execution_count": 123,
   "id": "628ddab4-ea96-4341-be74-f1152c79b1b6",
   "metadata": {},
   "outputs": [],
   "source": [
    "özgün_stdout = sys.stdout"
   ]
  },
  {
   "cell_type": "markdown",
   "id": "bb259e76-8e4c-400c-b52a-29080e559013",
   "metadata": {},
   "source": [
    "sys.stdout’un özgün değerini özgün_stdout değişkenine atadığımız için, bu değere sonradan tekrar ulaşabileceğiz. Zaten yukarıdaki kodlardan da gördüğünüz gibi, sys.stdout’un özgün değerine dönmek istediğimizde şu kodu yazarak isteğimizi gerçekleştirebiliyoruz:"
   ]
  },
  {
   "cell_type": "code",
   "execution_count": 124,
   "id": "6e4c5a74-56a7-45de-834f-8f4572eae1ab",
   "metadata": {},
   "outputs": [],
   "source": [
    "sys.stdout = özgün_stdout"
   ]
  },
  {
   "cell_type": "markdown",
   "id": "79b878ce-17a8-4c7a-8255-979439d5d71c",
   "metadata": {},
   "source": [
    "Böylece stdout değeri eski haline dönmüş oluyor ve bundan sonra yazdırdığımız her şey yeniden ekrana basılmaya başlıyor.\n",
    "\n",
    "…ve böylece uzun bir bölümü daha geride bıraktık. Bu bölümde hem print() fonksiyonunu bütün ayrıntılarıyla incelemiş olduk, hem de Python programlama diline dair başka çok önemli kavramlardan söz ettik. Bu bakımdan bu bölüm bize epey şey öğretti. Artık öğrendiğimiz bu bilgileri de küfemize koyarak başımız dik bir şekilde yola devam edebiliriz."
   ]
  },
  {
   "cell_type": "code",
   "execution_count": null,
   "id": "9b8e7b7a-4a8f-4ae0-a81f-75fde8defce3",
   "metadata": {},
   "outputs": [],
   "source": []
  }
 ],
 "metadata": {
  "kernelspec": {
   "display_name": "Python 3 (ipykernel)",
   "language": "python",
   "name": "python3"
  },
  "language_info": {
   "codemirror_mode": {
    "name": "ipython",
    "version": 3
   },
   "file_extension": ".py",
   "mimetype": "text/x-python",
   "name": "python",
   "nbconvert_exporter": "python",
   "pygments_lexer": "ipython3",
   "version": "3.10.12"
  }
 },
 "nbformat": 4,
 "nbformat_minor": 5
}
