{
 "cells": [
  {
   "cell_type": "markdown",
   "id": "4fff86f7-bd40-4a1d-93ab-5b66d7503020",
   "metadata": {},
   "source": [
    "++++++++++++++++f-string\n",
    "\n",
    "\n",
    "Daha önceki bölümlerde format() fonksiyonuyla karakter dizilerini nasıl biçimlendirebileceğimizi görmüştük. 3.6 sürümü ile Python’a eklenen f-string yapısı da buna benzer bir şekilde çalışıyor. Öncelikle format() fonksiyonunu nasıl kullandığımızı hatırlayalım:\n",
    "\n"
   ]
  },
  {
   "cell_type": "code",
   "execution_count": 2,
   "id": "d24b0bba-3c85-46b6-8786-b1075c63330e",
   "metadata": {},
   "outputs": [
    {
     "name": "stdout",
     "output_type": "stream",
     "text": [
      "Selam Buğra!\n"
     ]
    }
   ],
   "source": [
    "isim = 'Buğra'\n",
    "print('Selam {kime}!'.format(kime=isim))"
   ]
  },
  {
   "cell_type": "markdown",
   "id": "774db364-c90b-439b-a00d-9f573130e934",
   "metadata": {},
   "source": [
    "Burada öncelikle isim adında bir değişken tanımladık ve bu değişkene Buğra değerini atadık. Daha sonra da ‘Selam {isim}!’ diye bir karakter dizisini ekrana yazdırdık. format() fonksiyonunu kullanarak Python’a yazdırma işlemini yapmadan önce karakter dizimizdeki kime kısımını isim değişkeninin değeri ile değiştirmesi gerektiğini söyledik.\n",
    "\n",
    "format() fonksiyonumuz kendisine verdiğimiz değerleri kapsama alanı içerisinde uygun yerlere yerleştirir. Hatırlarsanız format() fonksiyonunu ilgilendiren kısımları süslü parantezlerin içine yazıyorduk. Yukarıdaki örneği şu şekilde de yapabiliriz:\n",
    "\n"
   ]
  },
  {
   "cell_type": "code",
   "execution_count": 3,
   "id": "ac71ad51-8535-4d7c-b098-e542ab2b25bf",
   "metadata": {},
   "outputs": [
    {
     "name": "stdout",
     "output_type": "stream",
     "text": [
      "Selam Buğra!\n"
     ]
    }
   ],
   "source": [
    "isim = 'Buğra'\n",
    "print('Selam {}!'.format(isim))"
   ]
  },
  {
   "cell_type": "markdown",
   "id": "fb6d7f2e-4e11-4efd-a130-80f8404a841a",
   "metadata": {},
   "source": [
    "Bu sefer format() fonksiyonuna belirli bir yer göstermediğimiz için sırasıyla ilgili alanlara verdiğimiz parametreleri dolduracak. Zaten bir parametre ve bir alan olduğu için yukarıdaki örnekle aynı çıktıyı alacağız. format() fonksiyonunu bu kadar hatırlamak yeter, hadi f-string’lere geçelim!"
   ]
  },
  {
   "cell_type": "markdown",
   "id": "5c8d334d-7da2-463f-a4c9-443d5f49219c",
   "metadata": {},
   "source": [
    "+++++++++++++Kullanım\n",
    "\n",
    "\n",
    "String nedir hepimiz biliyoruz, Türkçeye karakter dizisi olarak çeviriyoruz. Bu yapıya da f-string diyoruz çünkü bu yapıyı kullanmak istediğimiz stringin (karakter dizisinin) başına f veya F ekliyoruz. Yani bir ön ek ekleyerek Python’a artık onun normal, sıradan bir karakter dizisi olmadığını ve bir ön işlemden geçmesi gerektiğini belirtiyoruz:\n",
    "\n"
   ]
  },
  {
   "cell_type": "code",
   "execution_count": 4,
   "id": "1bdc2e52-d87d-4947-af08-8969d1b09f1e",
   "metadata": {},
   "outputs": [
    {
     "data": {
      "text/plain": [
       "'Selam Dünya!'"
      ]
     },
     "execution_count": 4,
     "metadata": {},
     "output_type": "execute_result"
    }
   ],
   "source": [
    "\"Selam Dünya!\" # Normal bir karakter dizisi\n",
    "f\"Selam Dünya!\" # Bu artık bir f-string"
   ]
  },
  {
   "cell_type": "raw",
   "id": "3e745084-4d8c-4e20-9bd5-43d93fd38a3c",
   "metadata": {},
   "source": [
    "f-string’leri kullanabilmeniz için Python 3.6 ya da daha yeni bir sürüm kullanmamız gerektiğini unutmayalım!"
   ]
  },
  {
   "cell_type": "markdown",
   "id": "f1d28a2e-eb42-4067-b55f-c384236a2183",
   "metadata": {},
   "source": [
    "Bu örnekte f-string’imizin normal bir karakter dizisinden farkı yok gibi görünüyor. Aslında şuanlık bir farkı yok. Çünkü biz f-string’in özelliklerini henüz kullanmadık. Yukarıda format() fonksiyonu için yazdığımız örneği bir de f-string için yazalım:"
   ]
  },
  {
   "cell_type": "code",
   "execution_count": 5,
   "id": "a2277ced-d851-42e0-8108-438185101ee4",
   "metadata": {},
   "outputs": [
    {
     "name": "stdout",
     "output_type": "stream",
     "text": [
      "Selam Buğra!\n"
     ]
    }
   ],
   "source": [
    "isim = 'Buğra'\n",
    "print(f'Selam {isim}!')"
   ]
  },
  {
   "cell_type": "markdown",
   "id": "873568ba-c901-453f-a67a-d5e1e9e57271",
   "metadata": {},
   "source": [
    "Bu örneği de çalıştırdığınızda yukarıdaki örneklerin çıktılarıyla aynı çıktıyı verdiğini göreceksiniz. Ama çok daha düzenli bir görünümle elde ettik bu sefer aynı çıktıyı. format() fonksiyonuna ilgileneceği kısımları, işlem yapacağı kısımları, süslü parantezler ile belirttiğimizi biliyoruz. f-string için de aynı şey geçerli ancak ufak bir farkla. Artık harici bir işlem yapılıp karakter dizimiz düzenlenmiyor, işlemler doğrudan karakter dizimiz içinde gerçekleştirilip yerini kendi alıyor!\n",
    "\n",
    "Bir örnek daha hazırlayalım ve üzerinde konuşalım"
   ]
  },
  {
   "cell_type": "code",
   "execution_count": 6,
   "id": "0d2ee26e-8cac-423c-b04f-3341a4bd5f8f",
   "metadata": {},
   "outputs": [
    {
     "data": {
      "text/plain": [
       "'Onun adı Buğra ve o 18 yaşında.'"
      ]
     },
     "execution_count": 6,
     "metadata": {},
     "output_type": "execute_result"
    }
   ],
   "source": [
    "isim = 'Buğra'\n",
    "yas = 18\n",
    "f'Onun adı {isim} ve o {yas} yaşında.'"
   ]
  },
  {
   "cell_type": "markdown",
   "id": "3d59b2a4-a458-4843-8c8d-a6ee6a548e8d",
   "metadata": {},
   "source": [
    "Aynı örneği format() fonksiyonu ile de yazıp arasındaki farka bakalım:"
   ]
  },
  {
   "cell_type": "code",
   "execution_count": 7,
   "id": "135af8af-69f2-483e-bc1a-039613fab3f3",
   "metadata": {},
   "outputs": [
    {
     "data": {
      "text/plain": [
       "'Onun adı Buğra ve o 18 yaşında.'"
      ]
     },
     "execution_count": 7,
     "metadata": {},
     "output_type": "execute_result"
    }
   ],
   "source": [
    "isim = 'Buğra'\n",
    "yas = 18\n",
    "\"Onun adı {} ve o {} yaşında.\".format(isim, yas)"
   ]
  },
  {
   "cell_type": "markdown",
   "id": "6ac501da-25e5-4a8e-a9e9-85bfcd0c25da",
   "metadata": {},
   "source": [
    "Yukarıdaki kodu en basit haliyle değişken isimleri kullanmadan yazdım, yani değişkenleri sırasıyla ilgili yerlere yerleştirecek. Buna rağmen f-string örneğimizdekinden çok daha uzun oldu ve okunabilirlik azaldı.\n",
    "\n",
    "Aynı zamanda f-string’lerin içinde Python işlemleri de yapabiliriz:"
   ]
  },
  {
   "cell_type": "code",
   "execution_count": 8,
   "id": "1e086607-98b4-4c2f-ac84-2ec6490cd038",
   "metadata": {},
   "outputs": [
    {
     "data": {
      "text/plain": [
       "'Rakamların toplamı 8 eder.'"
      ]
     },
     "execution_count": 8,
     "metadata": {},
     "output_type": "execute_result"
    }
   ],
   "source": [
    "birinci_rakam = 5\n",
    "ikinci_rakam = 3\n",
    "f'Rakamların toplamı {birinci_rakam + ikinci_rakam} eder.'"
   ]
  },
  {
   "cell_type": "markdown",
   "id": "f33b2316-1cbb-46b3-8d6e-e3ce06c72eb9",
   "metadata": {},
   "source": [
    "Hadi sadece toplama işlemi yapan bir hesap makinesi yapalım:"
   ]
  },
  {
   "cell_type": "code",
   "execution_count": null,
   "id": "a0ff6e41-8e2e-43c6-85f3-4ce54e969437",
   "metadata": {},
   "outputs": [],
   "source": [
    "birinci_sayi = int(input('Birinci sayıyı girin: '))\n",
    "ikinci_sayi = int(input('İkinci sayıyı girin: '))\n",
    "\n",
    "print(f'Sayıların toplamı {birinci_sayi + ikinci_sayi} eder.')"
   ]
  },
  {
   "cell_type": "markdown",
   "id": "bd4500e6-8a74-424e-b625-0579becf5e4c",
   "metadata": {},
   "source": [
    "Kullanıcının girdiği sayıları toplayan bir hesap makinesi yaptık. Az önce f-string’lerin içinde Python kodu yazabildiğimizi öğrenmiştik. Bu bilgimizi de kullanıp bu basit programı daha güncel hale getirelim:"
   ]
  },
  {
   "cell_type": "code",
   "execution_count": 9,
   "id": "27749538-6f4e-4863-b70e-01832cfea4f6",
   "metadata": {},
   "outputs": [
    {
     "name": "stdin",
     "output_type": "stream",
     "text": [
      "Birinci sayıyı girin:  2\n",
      "İkinci sayıyı girin:  3\n"
     ]
    },
    {
     "data": {
      "text/plain": [
       "'Sayıların toplamı 5 eder.'"
      ]
     },
     "execution_count": 9,
     "metadata": {},
     "output_type": "execute_result"
    }
   ],
   "source": [
    "f'Sayıların toplamı { int(input(\"Birinci sayıyı girin: \")) + int(input(\"İkinci sayıyı girin: \")) } eder.'"
   ]
  },
  {
   "cell_type": "markdown",
   "id": "88dd82e2-395e-409e-8c95-dbc62925d898",
   "metadata": {},
   "source": [
    "++++++++++f-string Formatlama Özellikleri\n",
    "\n",
    "\n",
    "f-string ifadelerinde süslü parantezler ({}) yazılan ifadenin bir operatörüdür. f-string içerisinde süslü parantez yazabilmek için genel kaçış karakteri olan ters eğik çizgi (\\) yerine { veya } parantezi 2 defa eklenir:"
   ]
  },
  {
   "cell_type": "code",
   "execution_count": 10,
   "id": "c53a0297-8e43-4c59-a33a-4d239d3cda2e",
   "metadata": {},
   "outputs": [
    {
     "data": {
      "text/plain": [
       "\"{ f-string: f'{ifade}' şeklinde kullanılır. }\""
      ]
     },
     "execution_count": 10,
     "metadata": {},
     "output_type": "execute_result"
    }
   ],
   "source": [
    "fstring = \"f-string\"\n",
    "f\"{{ {fstring}: f'{{ifade}}' şeklinde kullanılır. }}\""
   ]
  },
  {
   "cell_type": "markdown",
   "id": "c21aa4a5-e696-4461-aceb-bf7e4f365c2f",
   "metadata": {},
   "source": [
    "Formatlanacak ifadeden sonra = işareti eklenerek değişken adı ile birlikte sahip olduğu değerin repr hali elde edilebilir. print ile debug edildiği durumlarda pratik bir şekilde kullanılabilir:\n",
    "\n"
   ]
  },
  {
   "cell_type": "code",
   "execution_count": 12,
   "id": "d0369a87-96f1-46dd-88e6-d2ab995bb286",
   "metadata": {},
   "outputs": [
    {
     "data": {
      "text/plain": [
       "\"kaynak='Python İstihza' yıl='2025'\""
      ]
     },
     "execution_count": 12,
     "metadata": {},
     "output_type": "execute_result"
    }
   ],
   "source": [
    "kaynak = \"Python İstihza\"\n",
    "yıl = \"2025\"\n",
    "f\"{kaynak=} {yıl=}\""
   ]
  },
  {
   "cell_type": "markdown",
   "id": "329a91e7-b9ef-45d5-a460-080f625ec388",
   "metadata": {},
   "source": [
    "f-string ile formatlama yapılırken yazılan ifadeden sonra eklenen :’dan sonra ek formatlama işlemleri gerçekleştirilebilir.\n",
    "\n",
    "string metodlarında anlatılan center, ljust, rjust, zfill metodlarının f-string içerisinde : işaretinden sonra karakter uzunluğu yazılarak, belirtilen karakter alanında hizalama yapılabilir:\n",
    "\n"
   ]
  },
  {
   "cell_type": "code",
   "execution_count": 13,
   "id": "2d932c73-c58c-4d07-8a30-3193e9a9b1a5",
   "metadata": {},
   "outputs": [
    {
     "data": {
      "text/plain": [
       "'        Python Istihza        '"
      ]
     },
     "execution_count": 13,
     "metadata": {},
     "output_type": "execute_result"
    }
   ],
   "source": [
    "istihza = \"Python Istihza\"\n",
    "f\"{istihza:^30}\"   # \"istihza\".center(30)"
   ]
  },
  {
   "cell_type": "code",
   "execution_count": 14,
   "id": "85ce2ce7-5616-47ef-bb7e-467a1be083c6",
   "metadata": {},
   "outputs": [
    {
     "data": {
      "text/plain": [
       "'--------Python Istihza--------'"
      ]
     },
     "execution_count": 14,
     "metadata": {},
     "output_type": "execute_result"
    }
   ],
   "source": [
    "f\"{istihza:-^30}\"  # \"istihza\".center(30, '-')"
   ]
  },
  {
   "cell_type": "code",
   "execution_count": 15,
   "id": "ada6a7f5-bdb4-4c2a-b8c2-c7eaec21dd16",
   "metadata": {},
   "outputs": [
    {
     "data": {
      "text/plain": [
       "'Python Istihza                '"
      ]
     },
     "execution_count": 15,
     "metadata": {},
     "output_type": "execute_result"
    }
   ],
   "source": [
    "f\"{istihza:30}\"    # \"istihza\".ljust(30)"
   ]
  },
  {
   "cell_type": "code",
   "execution_count": 16,
   "id": "d97d8124-fe1b-43d6-9a35-bbf1dd327200",
   "metadata": {},
   "outputs": [
    {
     "data": {
      "text/plain": [
       "'                Python Istihza'"
      ]
     },
     "execution_count": 16,
     "metadata": {},
     "output_type": "execute_result"
    }
   ],
   "source": [
    "f\"{istihza:>30}\"   # \"istihza\".just(30)"
   ]
  },
  {
   "cell_type": "code",
   "execution_count": 17,
   "id": "09580062-a70d-4050-90f1-aa9638d3e2b0",
   "metadata": {},
   "outputs": [
    {
     "data": {
      "text/plain": [
       "'0000000000000000Python Istihza'"
      ]
     },
     "execution_count": 17,
     "metadata": {},
     "output_type": "execute_result"
    }
   ],
   "source": [
    "f\"{istihza:>030}\"  # \"istihza\".zfill(30)"
   ]
  },
  {
   "cell_type": "markdown",
   "id": "d9f572e4-409a-4d7b-9f24-c39c18789707",
   "metadata": {},
   "source": [
    "f-string ve .format için genel notasyon şu şekildedir:"
   ]
  },
  {
   "cell_type": "raw",
   "id": "94b75cb5-db57-4c5d-a95c-dc0e9269e665",
   "metadata": {},
   "source": [
    "[[dolgu_karakteri]hizalama][işaret][#][0][genişlik][grup_karakteri][.ondalık][veri_tıpı]\n",
    "\n",
    "dolgu_karakteri : <her hangi bir karakter>\n",
    "hizalama        : \"<\" | \">\" | \"^\" | \"=\"\n",
    "işaret          : \"+\" | \"-\" | \" \" (yalnızca sayı tipi)\n",
    "genişlik        : pozitif sayı\n",
    "grup_karakteri  : \"_\" | \",\" (yalnızca sayı tipi)\n",
    "ondalık         : pozitif sayı (yalnızca sayı tipi)\n",
    "veri_tıpı       : \"b\" | \"c\" | \"d\" | \"e\" | \"E\" | \"f\" | \"F\" | \"g\" | \"G\" | \"n\" | \"o\" | \"s\" | \"x\" | \"X\" | \"%\""
   ]
  },
  {
   "cell_type": "markdown",
   "id": "1ddb55ed-bdf2-46b7-a94e-3387d157cca7",
   "metadata": {},
   "source": [
    "Yukarıda verilen örneklerden birini kısaca açıklamak gerekirse:\n",
    "\n"
   ]
  },
  {
   "cell_type": "raw",
   "id": "6bc89e4e-ed72-4f3b-8b70-176253362d36",
   "metadata": {},
   "source": [
    "f\"{istihza:-^30}\"\n",
    "dolgu_karakteri : -\n",
    "hizalama        : ^\n",
    "genişlik        : 30"
   ]
  },
  {
   "cell_type": "markdown",
   "id": "22d3f65e-f2ed-4538-b419-f896739b0d47",
   "metadata": {},
   "source": [
    "Sayı formatlama örnekleri"
   ]
  },
  {
   "cell_type": "code",
   "execution_count": 18,
   "id": "e670fa24-f499-42f9-a743-73172b807dc0",
   "metadata": {},
   "outputs": [
    {
     "data": {
      "text/plain": [
       "'   123'"
      ]
     },
     "execution_count": 18,
     "metadata": {},
     "output_type": "execute_result"
    }
   ],
   "source": [
    "sayı = 123\n",
    "f\"{sayı:>6}\""
   ]
  },
  {
   "cell_type": "code",
   "execution_count": 19,
   "id": "b7cdd0d0-7ada-437e-aad7-9f31186ceed6",
   "metadata": {},
   "outputs": [
    {
     "data": {
      "text/plain": [
       "'00+123'"
      ]
     },
     "execution_count": 19,
     "metadata": {},
     "output_type": "execute_result"
    }
   ],
   "source": [
    "f\"{sayı:0>+6}\""
   ]
  },
  {
   "cell_type": "code",
   "execution_count": 20,
   "id": "2b7aab70-2da6-47ba-b141-a6f330f7b1a4",
   "metadata": {},
   "outputs": [
    {
     "data": {
      "text/plain": [
       "'+00123'"
      ]
     },
     "execution_count": 20,
     "metadata": {},
     "output_type": "execute_result"
    }
   ],
   "source": [
    "f\"{sayı:0=+6}\""
   ]
  },
  {
   "cell_type": "code",
   "execution_count": 21,
   "id": "36f710a2-4a90-49e6-a8cf-f1c24d7a9726",
   "metadata": {},
   "outputs": [
    {
     "data": {
      "text/plain": [
       "'Binary: 1111011 | Octal: 173 | Hexadecimal: 7b'"
      ]
     },
     "execution_count": 21,
     "metadata": {},
     "output_type": "execute_result"
    }
   ],
   "source": [
    "f\"Binary: {sayı:b} | Octal: {sayı:o} | Hexadecimal: {sayı:x}\""
   ]
  },
  {
   "cell_type": "code",
   "execution_count": 22,
   "id": "a0ab9567-48fb-4136-993f-7ce33baad5f1",
   "metadata": {},
   "outputs": [
    {
     "data": {
      "text/plain": [
       "'Binary: 0b1111011 | Octal: 0o173 | Hexadecimal: 0x7b'"
      ]
     },
     "execution_count": 22,
     "metadata": {},
     "output_type": "execute_result"
    }
   ],
   "source": [
    "f\"Binary: {sayı:#b} | Octal: {sayı:#o} | Hexadecimal: {sayı:#x}\""
   ]
  },
  {
   "cell_type": "code",
   "execution_count": 23,
   "id": "26966cec-d896-4fb9-8ace-23e2e5bbb12c",
   "metadata": {},
   "outputs": [
    {
     "data": {
      "text/plain": [
       "'0.12'"
      ]
     },
     "execution_count": 23,
     "metadata": {},
     "output_type": "execute_result"
    }
   ],
   "source": [
    "ondalık = 0.123\n",
    "f\"{ondalık:.2f}\"  # f | F ondalık formatlama"
   ]
  },
  {
   "cell_type": "code",
   "execution_count": 24,
   "id": "674d8f14-0cb3-4beb-b1db-326061fcddd8",
   "metadata": {},
   "outputs": [
    {
     "data": {
      "text/plain": [
       "'0.12300'"
      ]
     },
     "execution_count": 24,
     "metadata": {},
     "output_type": "execute_result"
    }
   ],
   "source": [
    "f\"{ondalık:.5f}\"\n"
   ]
  },
  {
   "cell_type": "code",
   "execution_count": 25,
   "id": "63262cd9-dd4b-4e19-85df-04a2532bb81f",
   "metadata": {},
   "outputs": [
    {
     "data": {
      "text/plain": [
       "'0.123'"
      ]
     },
     "execution_count": 25,
     "metadata": {},
     "output_type": "execute_result"
    }
   ],
   "source": [
    "f\"{ondalık:.5g}\"  # g | G fazla sıfırlar dahil edilmez"
   ]
  },
  {
   "cell_type": "code",
   "execution_count": 26,
   "id": "2ddef86a-5fa8-40d2-b5e4-6453b7d7c965",
   "metadata": {},
   "outputs": [],
   "source": [
    "sayı = 123456"
   ]
  },
  {
   "cell_type": "code",
   "execution_count": 27,
   "id": "bbe6b4f4-8132-4c46-86f2-d979f1e328c7",
   "metadata": {},
   "outputs": [
    {
     "data": {
      "text/plain": [
       "'123_456'"
      ]
     },
     "execution_count": 27,
     "metadata": {},
     "output_type": "execute_result"
    }
   ],
   "source": [
    "f\"{sayı:_}\""
   ]
  },
  {
   "cell_type": "code",
   "execution_count": 28,
   "id": "75ea334a-3c53-4b5a-bad9-5e4ffa6e6700",
   "metadata": {},
   "outputs": [
    {
     "data": {
      "text/plain": [
       "'----123_456----'"
      ]
     },
     "execution_count": 28,
     "metadata": {},
     "output_type": "execute_result"
    }
   ],
   "source": [
    "f\"{sayı:-^15_}\"\n"
   ]
  },
  {
   "cell_type": "code",
   "execution_count": 29,
   "id": "c37e4f54-eda8-475c-bbe3-eecaf685ed76",
   "metadata": {},
   "outputs": [
    {
     "data": {
      "text/plain": [
       "'123,456'"
      ]
     },
     "execution_count": 29,
     "metadata": {},
     "output_type": "execute_result"
    }
   ],
   "source": [
    "f\"{sayı:,}\""
   ]
  },
  {
   "cell_type": "code",
   "execution_count": 30,
   "id": "e22eaa1f-71ff-4cd3-9c3d-ecf542ae6225",
   "metadata": {},
   "outputs": [
    {
     "data": {
      "text/plain": [
       "'8.33%'"
      ]
     },
     "execution_count": 30,
     "metadata": {},
     "output_type": "execute_result"
    }
   ],
   "source": [
    "işlem = 1 / 12\n",
    "f\"{işlem:.2%}\"  # Sonucun 100 ile çarpılmış halini yüzde olarak çıktı verir"
   ]
  },
  {
   "cell_type": "markdown",
   "id": "c246f168-d217-4ec2-8e7a-0536f1e7978d",
   "metadata": {},
   "source": [
    "Formatlama için kullanılan operatörler değişken ile kullanılması durumunda değişkenlerin {} içine yazılması gerekmektedir.\n",
    "\n"
   ]
  },
  {
   "cell_type": "code",
   "execution_count": 31,
   "id": "3c163692-d7f0-464b-a5fe-68feb694c65b",
   "metadata": {},
   "outputs": [
    {
     "name": "stdout",
     "output_type": "stream",
     "text": [
      "  Sol: 'Hello, World!            '\n",
      " Orta: '      Hello, World!      '\n",
      "  Sağ: '            Hello, World!'\n"
     ]
    }
   ],
   "source": [
    "selam = \"Hello, World!\"\n",
    "hizalama = {\"Sol\": \"<\", \"Orta\": \"^\", \"Sağ\": \">\"}\n",
    "genişlik = 25\n",
    "for hiza, operatör in hizalama.items():\n",
    "    print(f\"{hiza:>5}: '{selam:{operatör}{genişlik}}'\")"
   ]
  },
  {
   "cell_type": "code",
   "execution_count": null,
   "id": "3d670cad-e5c0-4b33-a67b-fcc1fabf6f2e",
   "metadata": {},
   "outputs": [],
   "source": []
  }
 ],
 "metadata": {
  "kernelspec": {
   "display_name": "Python 3 (ipykernel)",
   "language": "python",
   "name": "python3"
  },
  "language_info": {
   "codemirror_mode": {
    "name": "ipython",
    "version": 3
   },
   "file_extension": ".py",
   "mimetype": "text/x-python",
   "name": "python",
   "nbconvert_exporter": "python",
   "pygments_lexer": "ipython3",
   "version": "3.10.12"
  }
 },
 "nbformat": 4,
 "nbformat_minor": 5
}
