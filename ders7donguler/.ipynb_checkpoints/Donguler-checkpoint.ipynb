{
 "cells": [
  {
   "cell_type": "markdown",
   "id": "0d226bbc-2bb1-4bd7-84e3-bcd346ee5080",
   "metadata": {},
   "source": [
    "Döngüler (Loops)\n",
    "Şimdiye kadar öğrendiklerimiz sayesinde Python’la ufak tefek programlar yazabilecek düzeye geldik. Mesela öğrendiğimiz bilgiler yardımıyla bir önceki bölümde çok basit bir hesap makinesi yazabilmiştik. Yalnız o hesap makinesinde farkettiyseniz çok önemli bir eksiklik vardı. Hesap makinemizle hesap yaptıktan sonra programımız kapanıyor, yeni hesap yapabilmek için programı yeniden başlatmamız gerekiyordu.\n",
    "\n",
    "Hesap makinesi programındaki sorun, örneğin, aşağıdaki program için de geçerlidir:\n",
    "\n"
   ]
  },
  {
   "cell_type": "code",
   "execution_count": 1,
   "id": "f11e2220-4449-43b1-8379-6a06a6b59043",
   "metadata": {},
   "outputs": [
    {
     "name": "stdin",
     "output_type": "stream",
     "text": [
      "Aklımdan bir sayı tuttum. Bil bakalım kaç tuttum?  23\n"
     ]
    },
    {
     "name": "stdout",
     "output_type": "stream",
     "text": [
      "Tebrikler! Bildiniz...\n"
     ]
    }
   ],
   "source": [
    "tuttuğum_sayı = 23\n",
    "\n",
    "bilbakalım = int(input(\"Aklımdan bir sayı tuttum. Bil bakalım kaç tuttum? \"))\n",
    "\n",
    "if bilbakalım == tuttuğum_sayı:\n",
    "    print(\"Tebrikler! Bildiniz...\")\n",
    "\n",
    "else:\n",
    "    print(\"Ne yazık ki tuttuğum sayı bu değildi...\")"
   ]
  },
  {
   "cell_type": "markdown",
   "id": "fcf33c1c-eab4-4029-9a94-f6c34141d276",
   "metadata": {},
   "source": [
    "Burada tuttuğum_sayı adlı bir değişken belirledik. Bu değişkenin değeri 23. Kullanıcıdan tuttuğumuz sayıyı tahmin etmesini istiyoruz. Eğer kullanıcının verdiği cevap tuttuğum_sayı değişkeninin değeriyle aynıysa (yani 23 ise), ekrana ‘Tebrikler!…’ yazısı dökülecektir. Aksi halde ‘Ne yazık ki…’ cümlesi ekrana dökülecektir.\n",
    "\n",
    "Bu program iyi, hoş, ama çok önemli bir eksiği var. Bu programı yalnızca bir kez kullanabiliyoruz. Yani kullanıcı yalnızca bir kez tahminde bulunabiliyor. Eğer kullanıcı bir kez daha tahminde bulunmak isterse programı yeniden çalıştırması gerekecek. Bunun hiç iyi bir yöntem olmadığı ortada. Halbuki yazdığımız bir program, ilk çalışmanın ardından kapanmasa, biz bu programı tekrar tekrar çalıştırabilsek, programımız sürekli olarak başa dönse ve program ancak biz istediğimizde kapansa ne iyi olurdu değil mi? Yani mesela yukarıdaki örnekte kullanıcı bir sayı tahmin ettikten sonra, eğer bu sayı bizim tuttuğumuz sayıyla aynı değilse, kullanıcıya tekrar tahmin etme fırsatı verebilsek çok hoş olurdu…\n",
    "\n",
    "Yukarıda açıklamaya çalıştığımız süreç, yani bir sürecin tekrar tekrar devam etmesi Python’da ‘döngü’ (loop) olarak adlandırılır.\n",
    "\n",
    "İşte bu bölümde, programlarımızın sürekli olarak çalışmasını nasıl sağlayabileceğimizi, yani programlarımızı bir döngü içine nasıl sokabileceğimizi öğreneceğiz.\n",
    "\n",
    "Python’da programlarımızı tekrar tekrar çalıştırabilmek için döngü adı verilen bazı ifadelerden yararlanacağız.\n",
    "\n",
    "Python’da iki tane döngü bulunur: while ve for\n",
    "\n",
    "Dilerseniz işe while döngüsü ile başlayalım.\n",
    "\n"
   ]
  },
  {
   "cell_type": "markdown",
   "id": "0e94f3ce-4c87-4fbd-8c8f-22f44c593165",
   "metadata": {},
   "source": [
    "+++++++++++while Döngüsü\n",
    "\n",
    "\n",
    "İngilizce bir kelime olan while, Türkçede ‘… iken, … olduğu sürece’ gibi anlamlara gelir. Python’da while bir döngüdür. Bir önceki bölümde söylediğimiz gibi, döngüler sayesinde programlarımızın sürekli olarak çalışmasını sağlayabiliriz.\n",
    "\n",
    "Bu bölümde Python’da while döngüsünün ne olduğunu ve ne işe yaradığını anlamaya çalışacağız. Öncelikle while döngüsünün temellerini kavrayarak işe başlayalım.\n",
    "\n",
    "Basit bir while döngüsü kabaca şuna benzer:\n",
    "\n"
   ]
  },
  {
   "cell_type": "code",
   "execution_count": 2,
   "id": "441625fc-7029-4c03-bc48-7782c42a71d6",
   "metadata": {},
   "outputs": [
    {
     "ename": "SyntaxError",
     "evalue": "incomplete input (580210508.py, line 3)",
     "output_type": "error",
     "traceback": [
      "\u001b[0;36m  Cell \u001b[0;32mIn[2], line 3\u001b[0;36m\u001b[0m\n\u001b[0;31m    while a == 1:\u001b[0m\n\u001b[0m                 ^\u001b[0m\n\u001b[0;31mSyntaxError\u001b[0m\u001b[0;31m:\u001b[0m incomplete input\n"
     ]
    }
   ],
   "source": [
    "a = 1\n",
    "\n",
    "while a == 1:"
   ]
  },
  {
   "cell_type": "markdown",
   "id": "fdae9663-103e-48bb-bf9f-3cb1c1cd543a",
   "metadata": {},
   "source": [
    "Burada a adlı bir değişken oluşturduk. Bu değişkenin değeri 1. Bir sonraki satırda ise while a == 1: gibi bir ifade yazdık. En başta da söylediğimiz gibi while kelimesi, ‘… iken, olduğu sürece’ gibi anlamlar taşıyor. Python programlama dilindeki anlamı da buna oldukça yakındır. Burada while a == 1 ifadesi programımıza şöyle bir anlam katıyor:\n",
    "\n",
    "a değişkeninin değeri 1 olduğu sürece…\n",
    "\n",
    "Gördüğünüz gibi cümlemiz henüz eksik. Yani belli ki bunun bir de devamı olacak. Ayrıca while ifadesinin sonundaki : işaretinden anladığımız gibi, bundan sonra gelecek satır girintili yazılacak. Devam edelim:\n",
    "\n"
   ]
  },
  {
   "cell_type": "markdown",
   "id": "9e064b4d-8398-46ae-af9f-2bd884c9091d",
   "metadata": {},
   "source": [
    "\n",
    "a = 1\n",
    "\n",
    "while a == 1:\n",
    "    print(\"bilgisayar çıldırdı!\")\n"
   ]
  },
  {
   "cell_type": "markdown",
   "id": "81919cbb-4ae1-47a4-9ed1-636a8d540ff3",
   "metadata": {},
   "source": [
    "Burada Python’a şu emri vermiş olduk:\n",
    "\n",
    "a değişkeninin değeri 1 olduğu sürece, ekrana ‘bilgisayar çıldırdı!’ yazısını dök!\n",
    "\n",
    "Bu programı çalıştırdığımızda Python verdiğimiz emre sadakatle uyacak ve a değişkeninin değeri 1 olduğu müddetçe de bilgisayarımızın ekranına ‘bilgisayar çıldırdı!’ yazısını dökecektir. Programımızın içinde a değişkeninin değeri 1 olduğu ve bu değişkenin değerini değiştirecek herhangi bir şey bulunmadığı için Python hiç sıkılmadan ekrana ‘bilgisayar çıldırdı!’ yazısını basmaya devam edecektir. Eğer siz durdurmazsanız bu durum sonsuza kadar devam edebilir. Bu çılgınlığa bir son vermek için klavyenizde Ctrl+C veya Ctrl+Z tuşlarına basarak programı durmaya zorlayabilirsiniz.\n",
    "\n",
    "Burada programımızı sonsuz bir döngüye sokmuş olduk (infinite loop). Esasında sonsuz döngüler genellikle bir program hatasına işaret eder. Yani çoğu durumda programcının arzu ettiği şey bu değildir. O yüzden doğru yaklaşım, döngüye soktuğumuz programlarımızı durduracak bir ölçüt belirlemektir. Yani öyle bir kod yazmalıyız ki, a değişkeninin 1 olan değeri bir noktadan sonra artık 1 olmasın ve böylece o noktaya ulaşıldığında programımız dursun. Kullanıcının Ctrl+C tuşlarına basarak programı durdurmak zorunda kalması pek hoş olmuyor. Gelin isterseniz bu soyut ifadeleri biraz somutlaştıralım.\n",
    "\n",
    "Öncelikle şu satırı yazarak işe başlıyoruz:"
   ]
  },
  {
   "cell_type": "code",
   "execution_count": null,
   "id": "8feb7cd8-975c-49f9-87e7-629b02625d0d",
   "metadata": {},
   "outputs": [],
   "source": [
    "a = 1"
   ]
  },
  {
   "cell_type": "markdown",
   "id": "0ff75645-a82d-4dbb-9be2-a2e8b277225b",
   "metadata": {},
   "source": [
    "Burada normal bir şekilde a değişkenine 1 değerini atadık. Şimdi devam ediyoruz:"
   ]
  },
  {
   "cell_type": "code",
   "execution_count": null,
   "id": "ee0537be-28d5-48e9-9cc3-74c99c508cac",
   "metadata": {},
   "outputs": [],
   "source": [
    "a = 1\n",
    "\n",
    "while a < 10:\n"
   ]
  },
  {
   "cell_type": "markdown",
   "id": "140d9830-0a7d-41f4-b7f7-cc147cd00ca8",
   "metadata": {},
   "source": [
    "while ile verdiğimiz ilk örnekte while a == 1 gibi bir ifade kullanmıştık. Bu ifade;\n",
    "\n",
    "a’nın değeri 1 olduğu müddetçe…\n",
    "\n",
    "gibi bir anlama geliyordu.\n",
    "\n",
    "while a < 10 ifadesi ise;\n",
    "\n",
    "a’nın değeri 10’dan küçük olduğu müddetçe…\n",
    "\n",
    "anlamına gelir. İşte burada programımızın sonsuz döngüye girmesini engelleyecek bir ölçüt koymuş olduk. Buna göre, a değişkeninin şimdiki değeri 1’dir. Biz, a’nın değeri 10’dan küçük olduğu müddetçe bir işlem yapacağız. Devam edelim:"
   ]
  },
  {
   "cell_type": "markdown",
   "id": "01209585-d6dc-48b9-852c-4d5825db44d9",
   "metadata": {},
   "source": [
    "a = 1\n",
    "\n",
    "while a < 10:\n",
    "    print(\"bilgisayar yine çıldırdı!\")"
   ]
  },
  {
   "cell_type": "markdown",
   "id": "781ec886-90ae-47d7-9162-122c01f8b19f",
   "metadata": {},
   "source": [
    "Ne oldu? İstediğimizi elde edemedik, değil mi? Programımız yine sonsuz döngüye girdi. Bu sonsuz döngüyü kırmak için Ctrl+C (veya Ctrl+Z)’ye basmamız gerekecek yine…\n",
    "\n",
    "Sizce buradaki hata nereden kaynaklandı? Yani neyi eksik yaptık da programımız sonsuz döngüye girmekten kurtulamadı? Aslında bunun cevabı çok basit. Biz yukarıdaki kodları yazarak Python’a şu emri vermiş olduk:\n",
    "\n",
    "a’nın değeri 10’dan küçük olduğu müddetçe ekrana ‘bilgisayar yine çıldırdı!’ yazısını bas!\n",
    "\n",
    "a değişkeninin değeri 1. Yani 10’dan küçük. Dolayısıyla Python’ın ekrana o çıktıyı basmasını engelleyecek herhangi bir şey yok…\n",
    "\n",
    "Şimdi bu problemi nasıl aşacağımızı görelim:"
   ]
  },
  {
   "cell_type": "code",
   "execution_count": null,
   "id": "5a79365b-5cb3-48d9-83a1-a99bf24fef9c",
   "metadata": {},
   "outputs": [],
   "source": [
    "a = 1\n",
    "\n",
    "while a < 10:\n",
    "    a += 1\n",
    "    print(\"bilgisayar yine çıldırdı!\")"
   ]
  },
  {
   "cell_type": "markdown",
   "id": "3c39af7d-19ca-47a7-b632-67fee70d230b",
   "metadata": {},
   "source": [
    "Burada a += 1 satırını ekledik kodlarımızın arasına. += işlecini anlatırken söylediğimiz gibi, bu satır, a değişkeninin değerine her defasında 1 ekliyor ve elde edilen sonucu tekrar a değişkenine atıyor. En sonunda a’nın değeri 10’a ulaşınca da, Python ekrana ‘bilgisayar yine çıldırdı!’ cümlesini yazmayı bırakıyor. Çünkü while döngüsü içinde belirttiğimiz ölçüte göre, programımızın devam edebilmesi için a değişkeninin değerinin 10’dan küçük olması gerekiyor. a’nın değeri 10’a ulaştığı anda bu ölçüt bozulacaktır. Gelin isterseniz bu kodları Python’ın nasıl algıladığına bir bakalım:\n",
    "\n",
    "Python öncelikle a = 1 satırını görüyor ve a’nın değerini 1 yapıyor.\n",
    "\n",
    "Daha sonra a’nın değeri 10’dan küçük olduğu müddetçe… (while a < 10) satırını görüyor.\n",
    "\n",
    "Ardından a’nın değerini, 1 artırıyor (a += 1) ve a’nın değeri 2 oluyor.\n",
    "\n",
    "a’nın değeri (yani 2) 10’dan küçük olduğu için Python ekrana ilgili çıktıyı veriyor.\n",
    "\n",
    "İlk döngüyü bitiren Python başa dönüyor ve a’nın değerinin 2 olduğunu görüyor.\n",
    "\n",
    "a’nın değerini yine 1 artırıyor ve a’yı 3 yapıyor.\n",
    "\n",
    "a’nın değeri hâlâ 10’dan küçük olduğu için ekrana yine ilgili çıktıyı veriyor.\n",
    "\n",
    "İkinci döngüyü de bitiren Python yine başa dönüyor ve a’nın değerinin 3 olduğunu görüyor.\n",
    "\n",
    "Yukarıdaki adımları tekrar eden Python, a’nın değeri 9 olana kadar ilerlemeye devam ediyor.\n",
    "\n",
    "a’nın değeri 9’a ulaştığında Python a’nın değerini bir kez daha artırınca bu değer 10’a ulaşıyor.\n",
    "\n",
    "Python a’nın değerinin artık 10’dan küçük olmadığını görüyor ve programdan çıkıyor.\n",
    "\n",
    "Yukarıdaki kodları şöyle yazarsak belki durum daha anlaşılır olabilir:\n",
    "\n"
   ]
  },
  {
   "cell_type": "markdown",
   "id": "438ab54d-abb6-4970-bff1-663a8db6503b",
   "metadata": {},
   "source": [
    "Yukarıdaki kodları şöyle yazarsak belki durum daha anlaşılır olabilir:\n",
    "\n"
   ]
  },
  {
   "cell_type": "code",
   "execution_count": 3,
   "id": "be91613e-137a-49fe-b8fe-e097a840b909",
   "metadata": {},
   "outputs": [
    {
     "name": "stdout",
     "output_type": "stream",
     "text": [
      "2\n",
      "3\n",
      "4\n",
      "5\n",
      "6\n",
      "7\n",
      "8\n",
      "9\n",
      "10\n"
     ]
    }
   ],
   "source": [
    "a = 1\n",
    "\n",
    "while a < 10:\n",
    "    a += 1\n",
    "    print(a)"
   ]
  },
  {
   "cell_type": "markdown",
   "id": "ea5d2e04-e505-4530-8ff1-d26ca69833ba",
   "metadata": {},
   "source": [
    "Burada Python’un arkada ne işler çevirdiğini daha net görebiliyoruz. Kodlarımız içine eklediğimiz while döngüsü sayesinde Python her defasında a değişkeninin değerini kontrol ediyor ve bu değer 10’dan küçük olduğu müddetçe a değişkeninin değerini 1 artırıp, yeni değeri ekrana basıyor. Bu değişkenin değeri 10’a ulaştığında ise, bu değerin artık 10’dan küçük olmadığını anlayıp bütün işlemleri durduruyor.\n",
    "\n",
    "Gelin isterseniz bu while döngüsünü daha önce yazdığımız hesap makinemize uygulayalım:"
   ]
  },
  {
   "cell_type": "code",
   "execution_count": null,
   "id": "ec577a69-2e76-4137-bd16-b4a6664a9b77",
   "metadata": {},
   "outputs": [],
   "source": [
    "giriş = \"\"\"\n",
    "(1) topla\n",
    "(2) çıkar\n",
    "(3) çarp\n",
    "(4) böl\n",
    "(5) karesini hesapla\n",
    "(6) karekök hesapla\n",
    "\"\"\"\n",
    "\n",
    "print(giriş)\n",
    "\n",
    "anahtar = 1\n",
    "\n",
    "while anahtar == 1:\n",
    "    soru = input(\"Yapmak istediğiniz işlemin numarasını girin (Çıkmak için q): \")\n",
    "\n",
    "    if soru == \"q\":\n",
    "        print(\"çıkılıyor...\")\n",
    "        anahtar = 0\n",
    "\n",
    "    elif soru == \"1\":\n",
    "        sayı1 = int(input(\"Toplama işlemi için ilk sayıyı girin: \"))\n",
    "        sayı2 = int(input(\"Toplama işlemi için ikinci sayıyı girin: \"))\n",
    "        print(sayı1, \"+\", sayı2, \"=\", sayı1 + sayı2)\n",
    "\n",
    "    elif soru == \"2\":\n",
    "        sayı3 = int(input(\"Çıkarma işlemi için ilk sayıyı girin: \"))\n",
    "        sayı4 = int(input(\"Çıkarma işlemi için ikinci sayıyı girin: \"))\n",
    "        print(sayı3, \"-\", sayı4, \"=\", sayı3 - sayı4)\n",
    "\n",
    "    elif soru == \"3\":\n",
    "        sayı5 = int(input(\"Çarpma işlemi için ilk sayıyı girin: \"))\n",
    "        sayı6 = int(input(\"Çarpma işlemi için ikinci sayıyı girin: \"))\n",
    "        print(sayı5, \"x\", sayı6, \"=\", sayı5 * sayı6)\n",
    "\n",
    "    elif soru == \"4\":\n",
    "        sayı7 = int(input(\"Bölme işlemi için ilk sayıyı girin: \"))\n",
    "        sayı8 = int(input(\"Bölme işlemi için ikinci sayıyı girin: \"))\n",
    "        print(sayı7, \"/\", sayı8, \"=\", sayı7 / sayı8)\n",
    "\n",
    "    elif soru == \"5\":\n",
    "        sayı9 = int(input(\"Karesini hesaplamak istediğiniz sayıyı girin: \"))\n",
    "        print(sayı9, \"sayısının karesi =\", sayı9 ** 2)\n",
    "\n",
    "    elif soru == \"6\":\n",
    "        sayı10 = int(input(\"Karekökünü hesaplamak istediğiniz sayıyı girin: \"))\n",
    "        print(sayı10, \"sayısının karekökü = \", sayı10 ** 0.5)\n",
    "\n",
    "    else:\n",
    "        print(\"Yanlış giriş.\")\n",
    "        print(\"Aşağıdaki seçeneklerden birini giriniz:\", giriş)"
   ]
  },
  {
   "cell_type": "markdown",
   "id": "7c638be7-4aeb-42eb-a70d-0a96980aff88",
   "metadata": {},
   "source": [
    "Burada ilave olarak şu satırları görüyorsunuz:"
   ]
  },
  {
   "cell_type": "code",
   "execution_count": null,
   "id": "2b70f340-cfa7-4f01-9485-70cd70773dce",
   "metadata": {},
   "outputs": [],
   "source": [
    "anahtar = 1\n",
    "\n",
    "while anahtar == 1:\n",
    "    soru = input(\"Yapmak istediğiniz işlemin numarasını girin (Çıkmak için q): \")\n",
    "\n",
    "    if soru == \"q\":\n",
    "        print(\"çıkılıyor...\")\n",
    "        anahtar = 0"
   ]
  },
  {
   "cell_type": "markdown",
   "id": "08591251-d57a-4a5b-ba6c-4cef51e38a77",
   "metadata": {},
   "source": [
    "Bu kodlarda yaptığımız şey aslında çok basit. Öncelikle değeri 1 olan anahtar adlı bir değişken tanımladık. Bir alt satırda ise, programımızın sürekli olarak çalışmasını sağlayacak olan while döngümüzü yazıyoruz. Programımız, anahtar değişkeninin değeri 1 olduğu müddetçe çalışmaya devam edecek. Daha önce de dediğimiz gibi, eğer bu anahtar değişkeninin değerini programın bir noktasında değiştirmezsek programımız sonsuza kadar çalışmaya devam edecektir. Çünkü biz programımızı anahtar değişkeninin değeri 1 olduğu sürece çalışmaya ayarladık. İşte programımızın bu tür bir sonsuz döngüye girmesini önlemek için bir if bloğu oluşturuyoruz. Buna göre, eğer kullanıcı klavyede q tuşuna basarsa programımız önce çıkılıyor… çıktısı verecek, ardından da anahtar değişkeninin 1 olan değerini 0 yapacaktır. Böylece artık anahtar’ın değeri 1 olmayacağı için programımız çalışmaya son verecektir.\n",
    "\n",
    "Buradaki mantığın ne kadar basit olduğunu görmenizi isterim. Önce bir değişken tanımlıyoruz, ardından bu değişkenin değeri aynı kaldığı müddetçe programımızı çalışmaya ayarlıyoruz. Bu döngüyü kırmak için de başta tanımladığımız o değişkene başka bir değer atıyoruz. Burada anahtar değişkenine atadığımız 1 ve 0 değerleri tamamen tesadüfidir. Yani siz bu değerleri istediğiniz gibi değiştirebilirsiniz. Mesela yukarıdaki kodları şöyle de yazabilirsiniz:\n",
    "\n"
   ]
  },
  {
   "cell_type": "code",
   "execution_count": null,
   "id": "64a7395a-1565-4e03-afd7-9c7f518ec2c0",
   "metadata": {},
   "outputs": [],
   "source": [
    "anahtar = \"hoyda bre!\"\n",
    "\n",
    "#anahtar'ın değeri 'hoyda bre!' olduğu müddetçe aşağıdaki bloğu\n",
    "#çalıştırmaya devam et.\n",
    "while anahtar == \"hoyda bre!\":\n",
    "    soru = input(\"Yapmak istediğiniz işlemin numarasını girin (Çıkmak için q): \")\n",
    "\n",
    "    if soru == \"q\":\n",
    "        print(\"çıkılıyor...\")\n",
    "        anahtar = \"dur yolcu!\"\n",
    "        #anahtar'ın değeri artık 'hoyda bre!' değil, 'dur yolcu'\n",
    "        #olduğu için döngüden çık ve böylece programı sona erdirmiş ol.\n"
   ]
  },
  {
   "cell_type": "markdown",
   "id": "9d8ce7a0-54d2-43f3-93fa-c2c0950d30b8",
   "metadata": {},
   "source": [
    "Gördüğünüz gibi, amaç herhangi bir değişkene herhangi bir değer atamak ve o değer aynı kaldığı müddetçe programın çalışmaya devam etmesini sağlamak. Kurduğumuz bu döngüyü kırmak için de o değişkene herhangi başka bir değer atamak…\n",
    "\n",
    "Yukarıda verdiğimiz son örnekte önce anahtar adlı bir değişken atayıp, while döngüsünün işleyişini bu değişkenin değerine göre yapılandırdık. Ama aslında yukarıdaki kodları çok daha basit bir şekilde de yazabiliriz. Dikkatlice bakın:"
   ]
  },
  {
   "cell_type": "code",
   "execution_count": null,
   "id": "9c530918-d1e0-4f57-9de7-adf8b776e472",
   "metadata": {},
   "outputs": [],
   "source": [
    "while True:\n",
    "    soru = input(\"Yapmak istediğiniz işlemin numarasını girin (Çıkmak için q): \")\n",
    "\n",
    "    if soru == \"q\":\n",
    "        print(\"çıkılıyor...\")\n",
    "        break"
   ]
  },
  {
   "cell_type": "code",
   "execution_count": null,
   "id": "05c35c01-06fe-4359-8a32-cdfde63d74c8",
   "metadata": {},
   "outputs": [],
   "source": [
    "Bu yapıyı hesap makinemize uygulayalım:\n",
    "\n",
    "giriş = \"\"\"\n",
    "(1) topla\n",
    "(2) çıkar\n",
    "(3) çarp\n",
    "(4) böl\n",
    "(5) karesini hesapla\n",
    "(6) karekök hesapla\n",
    "\"\"\"\n",
    "\n",
    "print(giriş)\n",
    "\n",
    "while True:\n",
    "    soru = input(\"Yapmak istediğiniz işlemin numarasını girin (Çıkmak için q): \")\n",
    "\n",
    "    if soru == \"q\":\n",
    "        print(\"çıkılıyor...\")\n",
    "        break\n",
    "\n",
    "    elif soru == \"1\":\n",
    "        sayı1 = int(input(\"Toplama işlemi için ilk sayıyı girin: \"))\n",
    "        sayı2 = int(input(\"Toplama işlemi için ikinci sayıyı girin: \"))\n",
    "        print(sayı1, \"+\", sayı2, \"=\", sayı1 + sayı2)\n",
    "\n",
    "    elif soru == \"2\":\n",
    "        sayı3 = int(input(\"Çıkarma işlemi için ilk sayıyı girin: \"))\n",
    "        sayı4 = int(input(\"Çıkarma işlemi için ikinci sayıyı girin: \"))\n",
    "        print(sayı3, \"-\", sayı4, \"=\", sayı3 - sayı4)\n",
    "\n",
    "    elif soru == \"3\":\n",
    "        sayı5 = int(input(\"Çarpma işlemi için ilk sayıyı girin: \"))\n",
    "        sayı6 = int(input(\"Çarpma işlemi için ikinci sayıyı girin: \"))\n",
    "        print(sayı5, \"x\", sayı6, \"=\", sayı5 * sayı6)\n",
    "\n",
    "    elif soru == \"4\":\n",
    "        sayı7 = int(input(\"Bölme işlemi için ilk sayıyı girin: \"))\n",
    "        sayı8 = int(input(\"Bölme işlemi için ikinci sayıyı girin: \"))\n",
    "        print(sayı7, \"/\", sayı8, \"=\", sayı7 / sayı8)\n",
    "\n",
    "    elif soru == \"5\":\n",
    "        sayı9 = int(input(\"Karesini hesaplamak istediğiniz sayıyı girin: \"))\n",
    "        print(sayı9, \"sayısının karesi =\", sayı9 ** 2)\n",
    "\n",
    "    elif soru == \"6\":\n",
    "        sayı10 = int(input(\"Karekökünü hesaplamak istediğiniz sayıyı girin: \"))\n",
    "        print(sayı10, \"sayısının karekökü = \", sayı10 ** 0.5)\n",
    "\n",
    "    else:\n",
    "        print(\"Yanlış giriş.\")\n",
    "        print(\"Aşağıdaki seçeneklerden birini giriniz:\", giriş)"
   ]
  },
  {
   "cell_type": "markdown",
   "id": "b91bff25-0763-4253-ab9c-58ad287273a7",
   "metadata": {},
   "source": [
    "Bu yapı sayesinde anahtar gibi bir değişken atama zorunluluğundan kurtulmuş olduk. Yukarıdaki kodların nasıl çalıştığını açıklayalım:\n",
    "\n",
    "while True ifadesi şöyle bir anlama gelir:\n",
    "\n",
    "True olduğu müddetçe…\n",
    "\n",
    "Peki ne True olduğu müddetçe? Burada neyin True olması gerektiğini belirtmediğimiz için, aslında bu kod parçası şu anlama geliyor:\n",
    "\n",
    "Aksi belirtilmediği sürece çalışmaya devam et!\n",
    "\n",
    "Eğer yukarıdaki açıklamayı biraz bulanık bulduysanız şu örneği inceleyebilirsiniz:\n",
    "\n"
   ]
  },
  {
   "cell_type": "code",
   "execution_count": null,
   "id": "03a9c0a1-38be-4fd7-9ef1-791423cd057e",
   "metadata": {},
   "outputs": [],
   "source": [
    "while True:\n",
    "    print(\"Bilgisayar çıldırdı!\")"
   ]
  },
  {
   "cell_type": "markdown",
   "id": "6f1388e4-9db1-40dd-aacc-8b789f646ee6",
   "metadata": {},
   "source": [
    "Bu kodları çalıştırdığınızda ekrana sürekli olarak Bilgisayar çıldırdı! çıktısı verilecektir. Bu döngüden çıkabilmek için Ctrl+C tuşlarına basmanız gerekiyor. Yukarıdaki kodların sonsuz döngüye girmesinin sorumlusu while True satırıdır. Çünkü burada biz Python’a;\n",
    "\n",
    "Aksi belirtilmediği sürece çalışmaya devam et!\n",
    "\n",
    "emri veriyoruz. Python da bu emrimizi sadakatle yerine getiriyor. Böyle bir durumda sonsuz döngüyü engellemek için programımızın bir yerinde Python’a bu döngüden çıkmasını sağlayacak bir emir vermemiz gerekiyor. Biz hesap makinesi programımızda bu döngüyü şu şekilde kırdık:"
   ]
  },
  {
   "cell_type": "code",
   "execution_count": null,
   "id": "d481f9bb-4899-4b59-956d-dc4c23e00dd5",
   "metadata": {},
   "outputs": [],
   "source": [
    "if soru == \"q\":\n",
    "    print(\"çıkılıyor...\")\n",
    "    break"
   ]
  },
  {
   "cell_type": "markdown",
   "id": "dd715740-1466-4312-a8c1-e977b4cdb9ed",
   "metadata": {},
   "source": [
    "Dikkat ederseniz burada break adlı yeni bir araç görüyoruz. Bu aracın tam olarak ne işe yaradığını ilerleyen sayfalarda inceleyeceğiz. Şimdilik yalnızca şunu bilelim: break kelimesi İngilizce’de ‘kırmak, koparmak, bozmak’ gibi anlamlara gelir. Bu aracın yukarıdaki görevi döngüyü ‘kırmak’tır. Dolayısıyla kullanıcı klavyede q tuşuna bastığında, while True ifadesi ile çalışmaya başlayan döngü kırılacak ve programımız sona erecektir.\n",
    "\n",
    "Bu yapıyı daha iyi anlayabilmek için şöyle basit bir örnek daha verelim:"
   ]
  },
  {
   "cell_type": "code",
   "execution_count": null,
   "id": "69345fd3-e42a-4c39-a3f4-1f4ba96b0004",
   "metadata": {},
   "outputs": [],
   "source": [
    "#Aksi belirtilmediği sürece kullanıcıya\n",
    "#aşağıdaki soruyu sormaya devam et!\n",
    "while True:\n",
    "    soru = input(\"Nasılsınız, iyi misiniz?\")\n",
    "\n",
    "    #Eğer kullanıcı 'q' tuşuna basarsa...\n",
    "    if soru == \"q\":\n",
    "        break #döngüyü kır ve programdan çık."
   ]
  },
  {
   "cell_type": "markdown",
   "id": "b1c344fb-849e-4219-abad-0ab7a98aebf9",
   "metadata": {},
   "source": [
    "Görüyorsunuz, aslında mantık gayet basit:\n",
    "\n",
    "Bir döngü oluştur ve bu döngüden çıkmak istediğinde, programın bir yerinde bu döngüyü sona erdirecek bir koşul meydan getir.\n",
    "\n",
    "Bu mantığı yukarıdaki örneğe şu şekilde uyguladık:\n",
    "\n",
    "while True: ifadesi yardımıyla bir döngü oluştur ve kullanıcı bu döngüden çıkmak istediğinde (yani q tuşuna bastığında), döngüyü kır ve programı sona erdir.\n",
    "\n",
    "Gelin isterseniz bu konuyu daha net kavramak için bir örnek daha verelim:\n",
    "\n"
   ]
  },
  {
   "cell_type": "code",
   "execution_count": null,
   "id": "ce88125c-a57c-492e-87c0-ee82d910be7e",
   "metadata": {},
   "outputs": [],
   "source": [
    "tekrar = 1\n",
    "\n",
    "while tekrar <= 3:\n",
    "    tekrar += 1\n",
    "    input(\"Nasılsınız, iyi misiniz?\")"
   ]
  },
  {
   "cell_type": "markdown",
   "id": "fb387575-717a-4552-b5e5-656efe8a7742",
   "metadata": {},
   "source": [
    "Burada programımız kullanıcıya üç kez ‘Nasılsınız, iyi misiniz?’ sorusunu soracak ve ardından kapanacaktır. Bu kodlarda while döngüsünü nasıl kullandığımıza dikkat edin. Aslında programın mantığı çok basit:\n",
    "\n",
    "Öncelikle değeri 1 olan tekrar adlı bir değişken tanımlıyoruz.\n",
    "\n",
    "Bu değişkenin değeri 3’e eşit veya 3’ten küçük olduğu müddetçe (while tekrar <= 3) değişkenin değerine 1 ekliyoruz (tekrar += 1).\n",
    "\n",
    "Başka bir deyişle bool(tekrar <= 3) ifadesi True olduğu müddetçe değişkenin değerine 1 ekliyoruz.\n",
    "\n",
    "tekrar değişkenine her 1 ekleyişimizde kullanıcıya ‘Nasılsınız, iyi misiniz?’ sorusunu soruyoruz (input(\"Nasılsınız, iyi misiniz?\")).\n",
    "\n",
    "tekrar değişkeninin değeri 3’ü aştığında bool(tekrar <= 3) ifadesi artık False değeri verdiği için programımız sona eriyor.\n",
    "\n",
    "Yukarıdaki uygulamada Python’ın alttan alta neler çevirdiğini daha iyi görmek için bu uygulamayı şöyle yazmayı deneyin:"
   ]
  },
  {
   "cell_type": "code",
   "execution_count": null,
   "id": "27a9f849-52dd-4cb3-9048-944888e293cd",
   "metadata": {},
   "outputs": [],
   "source": [
    "tekrar = 1\n",
    "\n",
    "while tekrar <= 3:\n",
    "    print(\"tekrar: \", tekrar)\n",
    "    tekrar += 1\n",
    "    input(\"Nasılsınız, iyi misiniz?\")\n",
    "    print(\"bool değeri: \", bool(tekrar <= 3))"
   ]
  },
  {
   "cell_type": "markdown",
   "id": "54970e84-4baf-4b99-968a-a882dafdb9c6",
   "metadata": {},
   "source": [
    "Daha önce de dediğimiz gibi, bir Python programının nasıl çalıştığını anlamanın en iyi yolu, program içinde uygun yerlere print() fonksiyonları yerleştirerek arka planda hangi kodların hangi çıktıları verdiğini izlemektir. İşte yukarıda da bu yöntemi kullandık. Yani tekrar değişkenininin değerini ve bool(tekrar <= 3) ifadesinin çıktısını ekrana yazdırarak arka tarafta neler olup bittiğini canlı canlı görme imkanına kavuştuk.\n",
    "\n",
    "Yukarıdaki programı çalıştırdığımızda şuna benzer çıktılar görüyoruz:\n",
    "\n",
    "tekrar:  1\n",
    "Nasılsınız, iyi misiniz? evet\n",
    "bool değeri:  True\n",
    "tekrar:  2\n",
    "Nasılsınız, iyi misiniz? evet\n",
    "bool değeri:  True\n",
    "tekrar:  3\n",
    "Nasılsınız, iyi misiniz? evet\n",
    "bool değeri:  False"
   ]
  },
  {
   "cell_type": "markdown",
   "id": "88405fe0-4eb8-4977-bb77-412d812726f4",
   "metadata": {},
   "source": [
    "Gördüğünüz gibi, tekrar değişkeninin değeri her döngüde 1 artıyor. tekrar <= 3 ifadesinin bool değeri, tekrar adlı değişkenin değeri 3’ü aşana kadar hep True olacaktır. Bu değişkenin değeri 3’ü aştığı anda tekrar <= 3 ifadesinin bool değeri False’a dönüyor ve böylece while döngüsü sona eriyor.\n",
    "\n",
    "Peki size şöyle bir soru sorsam: Acaba while döngüsünü kullanarak 1’den 100’e kadar olan aralıktaki çift sayıları nasıl bulursunuz?\n",
    "\n",
    "Çok basit:"
   ]
  },
  {
   "cell_type": "code",
   "execution_count": 4,
   "id": "944bbb23-85b1-403b-a381-c07d967f0b30",
   "metadata": {},
   "outputs": [
    {
     "name": "stdout",
     "output_type": "stream",
     "text": [
      "2\n",
      "4\n",
      "6\n",
      "8\n",
      "10\n",
      "12\n",
      "14\n",
      "16\n",
      "18\n",
      "20\n",
      "22\n",
      "24\n",
      "26\n",
      "28\n",
      "30\n",
      "32\n",
      "34\n",
      "36\n",
      "38\n",
      "40\n",
      "42\n",
      "44\n",
      "46\n",
      "48\n",
      "50\n",
      "52\n",
      "54\n",
      "56\n",
      "58\n",
      "60\n",
      "62\n",
      "64\n",
      "66\n",
      "68\n",
      "70\n",
      "72\n",
      "74\n",
      "76\n",
      "78\n",
      "80\n",
      "82\n",
      "84\n",
      "86\n",
      "88\n",
      "90\n",
      "92\n",
      "94\n",
      "96\n",
      "98\n",
      "100\n"
     ]
    }
   ],
   "source": [
    "a = 0\n",
    "\n",
    "while a < 100:\n",
    "    a += 1\n",
    "    if a % 2 == 0:\n",
    "        print(a)"
   ]
  },
  {
   "cell_type": "markdown",
   "id": "489cf36a-c589-4359-9001-5a9dd6a8b0c0",
   "metadata": {},
   "source": [
    "Gördüğünüz gibi, while döngüsünün içine bir adet if bloğu yerleştirdik.\n",
    "\n",
    "Yukarıdaki kodları şu şekilde Türkçeye çevirebiliriz:\n",
    "\n",
    "a değişkeninin değeri 100’den küçük olduğu müddetçe a değişkeninin değerini 1 artır. Bu değişkenin değerini her artırışında yeni değerin 2’ye tam bölünüp bölünmediğini kontrol et. Eğer a modülüs 2 değeri 0 ise (if a % 2 == 0), yani a’nın değeri bir çift sayı ise, bu değeri ekrana yazdır.\n",
    "\n",
    "Gördüğünüz gibi, while döngüsü son derece kullanışlı bir araçtır. Üstelik kullanımı da son derece kolaydır. Bu döngüyle bol bol pratik yaparak bu döngüyü rahatça kullanabilecek duruma gelebilirsiniz.\n",
    "\n",
    "En başta da söylediğimiz gibi, Python’da while dışında bir de for döngüsü vardır. En az while kadar önemli bir döngü olan for döngüsünün nasıl kullanıldığını anlamaya çalışalım şimdi de."
   ]
  },
  {
   "cell_type": "markdown",
   "id": "33b29788-5630-4adf-b874-da970d733538",
   "metadata": {},
   "source": [
    "+++++++++++++for Döngüsü\n",
    "\n",
    "\n",
    "Etrafta yazılmış Python programlarının kaynak kodlarını incelediğinizde, içinde for döngüsü geçmeyen bir program kolay kolay bulamazsınız. Belki while döngüsünün kullanılmadığı programlar vardır. Ancak for döngüsü Python’da o kadar yaygındır ve o kadar geniş bir kullanım alanına sahiptir ki, hemen hemen bütün Python programları bu for döngüsünden en az bir kez yararlanır.\n",
    "\n",
    "Peki nedir bu for döngüsü denen şey?\n",
    "\n",
    "for da tıpkı while gibi bir döngüdür. Yani tıpkı while döngüsünde olduğu gibi, programlarımızın birden fazla sayıda çalışmasını sağlar. Ancak for döngüsü while döngüsüne göre biraz daha yeteneklidir. while döngüsü ile yapamayacağınız veya yaparken çok zorlanacağınız şeyleri for döngüsü yardımıyla çok kolay bir şekilde halledebilirsiniz.\n",
    "\n",
    "Yalnız, söylediğimiz bu cümleden, for döngüsünün while döngüsüne bir alternatif olduğu sonucunu çıkarmayın. Evet, while ile yapabildiğiniz bir işlemi for ile de yapabilirsiniz çoğu zaman, ama bu döngülerin, belli vakalar için tek seçenek olduğu durumlar da vardır. Zira bu iki döngünün çalışma mantığı birbirinden farklıdır.\n",
    "\n",
    "Şimdi gelelim for döngüsünün nasıl kullanılacağına…\n",
    "\n",
    "Dikkatlice bakın:"
   ]
  },
  {
   "cell_type": "code",
   "execution_count": 6,
   "id": "5604cef9-f76d-44e6-ac02-af744ea57b3e",
   "metadata": {},
   "outputs": [
    {
     "name": "stdout",
     "output_type": "stream",
     "text": [
      "ş\n",
      "ç\n",
      "ö\n",
      "ğ\n",
      "ü\n",
      "İ\n",
      "ı\n"
     ]
    }
   ],
   "source": [
    "tr_harfler = \"şçöğüİı\"\n",
    "\n",
    "for harf in tr_harfler:\n",
    "    print(harf)"
   ]
  },
  {
   "cell_type": "markdown",
   "id": "5b37e69a-9df4-489d-8bfe-1246266605d2",
   "metadata": {},
   "source": [
    "Burada öncelikle tr_harfler adlı bir değişken tanımladık. Bu değişken Türkçeye özgü harfleri tutuyor. Daha sonra bir for döngüsü kurarak, tr_harfler adlı değişkenin her bir öğesini tek tek ekrana yazdırdık.\n",
    "\n",
    "Peki bu for döngüsünü nasıl kurduk?\n",
    "\n",
    "for döngülerinin söz dizimi şöyledir:\n",
    "\n"
   ]
  },
  {
   "cell_type": "raw",
   "id": "a175d25b-9824-4020-ad46-bfd5b913c3d2",
   "metadata": {},
   "source": [
    "for değişken_adı in değişken:\n",
    "    yapılacak_işlem"
   ]
  },
  {
   "cell_type": "markdown",
   "id": "75c1a381-9d24-47e4-ab13-e50b590f7d1f",
   "metadata": {},
   "source": [
    "Bu söz dizimini Türkçe olarak şöyle ifade edebiliriz:\n",
    "\n"
   ]
  },
  {
   "cell_type": "raw",
   "id": "fcbc6aff-98fe-4c5e-9f25-4a0f51feb3e4",
   "metadata": {},
   "source": [
    "değişken içindeki her bir öğeyi değişken_adı olarak adlandır:\n",
    "    ve bu öğelerle bir işlem yap."
   ]
  },
  {
   "cell_type": "markdown",
   "id": "44e6873d-88f3-41c9-877a-885f70d75032",
   "metadata": {},
   "source": [
    "Bu soyut yapıları kendi örneğimize uygulayarak durumu daha net anlamaya çalışalım:"
   ]
  },
  {
   "cell_type": "raw",
   "id": "ab1509e5-0950-4fd3-912b-c78e3c6fcd52",
   "metadata": {},
   "source": [
    "tr_harfler adlı değişken içindeki her bir öğeyi harf olarak adlandır:\n",
    "    ve harf olarak adlandırılan bu öğeleri ekrana yazdır."
   ]
  },
  {
   "cell_type": "markdown",
   "id": "eb1750c4-dcb6-41ee-bcbe-ecc11b434870",
   "metadata": {},
   "source": [
    "Yukarıdaki örnekte bir for döngüsü yardımıyla tr_harfler adlı değişken içindeki her bir öğeyi ekrana yazdırdık. Esasında for döngüsünün yeteneklerini düşündüğümüzde bu örnek pek heyecan verici değil. Zira aynı işi aslında print() fonksiyonu ile de yapabilirdik:"
   ]
  },
  {
   "cell_type": "code",
   "execution_count": 7,
   "id": "999f5ec6-5ff6-4de9-a638-c06f58362264",
   "metadata": {},
   "outputs": [
    {
     "name": "stdout",
     "output_type": "stream",
     "text": [
      "ş\n",
      "ç\n",
      "ö\n",
      "ğ\n",
      "ü\n",
      "İ\n",
      "ı\n"
     ]
    }
   ],
   "source": [
    "tr_harfler = \"şçöğüİı\"\n",
    "print(*tr_harfler, sep=\"\\n\")"
   ]
  },
  {
   "cell_type": "markdown",
   "id": "23783120-973e-4aa6-ac9c-aa02f2f8f5d0",
   "metadata": {},
   "source": [
    "Aslında bu işlemi while ile de yapmak mümkün (Bu kodlardaki, henüz öğrenmediğimiz kısmı şimdilik görmezden gelin):"
   ]
  },
  {
   "cell_type": "code",
   "execution_count": 8,
   "id": "b76a0b55-44b5-429f-adc3-08da73735254",
   "metadata": {},
   "outputs": [
    {
     "name": "stdout",
     "output_type": "stream",
     "text": [
      "ş\n",
      "ç\n",
      "ö\n",
      "ğ\n",
      "ü\n",
      "İ\n",
      "ı\n"
     ]
    }
   ],
   "source": [
    "tr_harfler = \"şçöğüİı\"\n",
    "a = 0\n",
    "\n",
    "while a < len(tr_harfler):\n",
    "    print(tr_harfler[a], sep=\"\\n\")\n",
    "    a += 1"
   ]
  },
  {
   "cell_type": "markdown",
   "id": "56d2b286-269c-4c96-bf73-37a1aafbc5e1",
   "metadata": {},
   "source": [
    "while döngüsü kullanıldığında işi uzattığımızı görüyorsunuz. Dediğimiz gibi, for döngüsü while döngüsüne göre biraz daha yeteneklidir ve while ile yapması daha zor (veya uzun) olan işlemleri for döngüsü ile çok daha kolay bir şekilde yapabiliriz. Ayrıca for döngüsü ile while döngüsünün çalışma mantıkları birbirinden farklıdır. for döngüsü, üzerinde döngü kurulabilecek veri tiplerinin her bir öğesinin üzerinden tek tek geçer ve bu öğelerin her biri üzerinde bir işlem yapar. while döngüsü ise herhangi bir ifadenin bool değerini kontrol eder ve bu değerin bool değeri False olana kadar, belirlenen işlemi yapmayı sürdürür.\n",
    "\n",
    "Bu arada, biraz önce ‘üzerinde döngü kurulabilecek veri tipleri’ diye bir kavramdan söz ettik. Örneğin karakter dizileri, üzerinde döngü kurulabilecek bir veri tipidir. Ama sayılar öyle değildir. Yani sayılar üzerinde döngü kuramayız. Mesela:"
   ]
  },
  {
   "cell_type": "code",
   "execution_count": 9,
   "id": "4da4afcb-a66f-482f-885a-66da29648093",
   "metadata": {},
   "outputs": [
    {
     "ename": "TypeError",
     "evalue": "'int' object is not iterable",
     "output_type": "error",
     "traceback": [
      "\u001b[0;31m---------------------------------------------------------------------------\u001b[0m",
      "\u001b[0;31mTypeError\u001b[0m                                 Traceback (most recent call last)",
      "Cell \u001b[0;32mIn[9], line 2\u001b[0m\n\u001b[1;32m      1\u001b[0m sayılar \u001b[38;5;241m=\u001b[39m \u001b[38;5;241m123456789\u001b[39m\n\u001b[0;32m----> 2\u001b[0m \u001b[38;5;28;01mfor\u001b[39;00m sayı \u001b[38;5;129;01min\u001b[39;00m sayılar:\n\u001b[1;32m      3\u001b[0m     \u001b[38;5;28mprint\u001b[39m(sayı)\n",
      "\u001b[0;31mTypeError\u001b[0m: 'int' object is not iterable"
     ]
    }
   ],
   "source": [
    "sayılar = 123456789\n",
    "for sayı in sayılar:\n",
    "    print(sayı)"
   ]
  },
  {
   "cell_type": "markdown",
   "id": "aef552a4-fc41-4017-959d-7089739819e4",
   "metadata": {},
   "source": [
    "Buradaki hata mesajından da göreceğiniz gibi int (tam sayı) türündeki nesneler üzerinde döngü kuramıyoruz. Hata mesajında görünen not iterable (üzerinde döngü kurulamaz) ifadesiyle kastedilen de budur.\n",
    "\n",
    "Gelin isterseniz for döngüsü ile bir örnek daha vererek durumu iyice anlamaya çalışalım:"
   ]
  },
  {
   "cell_type": "code",
   "execution_count": 10,
   "id": "ac230168-bfcd-4fa3-a0fe-696b5b0244d9",
   "metadata": {},
   "outputs": [
    {
     "name": "stdout",
     "output_type": "stream",
     "text": [
      "2\n",
      "4\n",
      "6\n",
      "8\n",
      "10\n",
      "12\n",
      "14\n",
      "16\n",
      "18\n"
     ]
    }
   ],
   "source": [
    "sayılar = \"123456789\"\n",
    "\n",
    "for sayı in sayılar:\n",
    "    print(int(sayı) * 2)"
   ]
  },
  {
   "cell_type": "markdown",
   "id": "44d3b4ac-83c9-487f-a3ac-6d77c2f66189",
   "metadata": {},
   "source": [
    "Burada sayılar adlı değişkenin her bir öğesini sayı olarak adlandırdıktan sonra, int() fonksiyonu yardımıyla bu öğeleri tek tek sayıya çevirdik ve her bir öğeyi 2 ile çarptık.\n",
    "\n",
    "for döngüsünün mantığını az çok anlamış olmalısınız. Bu döngü bir değişken içindeki her bir öğeyi tek tek ele alıp, iki nokta üst üste işaretinden sonra yazdığımız kod bloğunu bu öğelere tek tek uyguluyor.\n",
    "\n",
    "for kelimesi İngilizcede ‘için’ anlamına gelir. Döngünün yapısı içinde geçen in ifadesini de tanıyorsunuz. Biz bu ifadeyi ‘Aitlik İşleçleri’ konusunu işlerken de görmüştük. Hatırlarsanız in işleci bir öğenin bir veri tipi içinde bulunup bulunmadığını sorguluyordu. Mesela:\n",
    "\n"
   ]
  },
  {
   "cell_type": "code",
   "execution_count": 11,
   "id": "10cc27ad-11bc-4881-9e01-805b720572c4",
   "metadata": {},
   "outputs": [
    {
     "data": {
      "text/plain": [
       "True"
      ]
     },
     "execution_count": 11,
     "metadata": {},
     "output_type": "execute_result"
    }
   ],
   "source": [
    "a = \"istihza.com\"\n",
    "\"h\" in a"
   ]
  },
  {
   "cell_type": "markdown",
   "id": "0ce46d53-95ff-48cb-946a-d8f9956ec28e",
   "metadata": {},
   "source": [
    "“h” öğesi “istihza.com” adlı karakter dizisi içinde geçtiği için \"h\" in a kodu True çıktısı veriyor. Bir de şuna bakın:\n",
    "\n"
   ]
  },
  {
   "cell_type": "code",
   "execution_count": 12,
   "id": "30faa27a-fd66-4c35-890c-673a46eb502f",
   "metadata": {},
   "outputs": [
    {
     "data": {
      "text/plain": [
       "False"
      ]
     },
     "execution_count": 12,
     "metadata": {},
     "output_type": "execute_result"
    }
   ],
   "source": [
    "\"b\" in a"
   ]
  },
  {
   "cell_type": "markdown",
   "id": "97d3a71e-5d33-4598-a6ab-ca7b3af0493a",
   "metadata": {},
   "source": [
    "“b” öğesi “istihza.com” karakter dizisi içinde bulunmuyor. Dolayısıyla \"b\" in a sorgulaması False çıktısı veriyor.\n",
    "\n",
    "in kelimesi İngilizcede ‘içinde’ anlamına geliyor. Dolayısıyla for falanca in filanca: yazdığımızda aslında şöyle bir şey demiş oluyoruz:\n",
    "\n",
    "filanca içinde falanca adını verdiğimiz her bir öğe için…\n",
    "\n",
    "Yani şu kod:"
   ]
  },
  {
   "cell_type": "code",
   "execution_count": 13,
   "id": "f1ff3937-dfde-46d0-ba35-5dfcb37ace35",
   "metadata": {},
   "outputs": [
    {
     "name": "stdout",
     "output_type": "stream",
     "text": [
      "i\n",
      "s\n",
      "t\n",
      "i\n",
      "h\n",
      "z\n",
      "a\n"
     ]
    }
   ],
   "source": [
    "for s in \"istihza\":\n",
    "    print(s)"
   ]
  },
  {
   "cell_type": "markdown",
   "id": "bedce41e-59e7-4292-b8d9-25ef24be8179",
   "metadata": {},
   "source": [
    "Şu anlama geliyor:\n",
    "\n",
    "“istihza” karakter dizisi içinde s adını verdiğimiz her bir öğe için:\n",
    "s öğesini ekrana basma işlemi gerçekleştir!\n",
    "\n",
    "Ya da şu kod:"
   ]
  },
  {
   "cell_type": "code",
   "execution_count": 14,
   "id": "4b3ad3dc-d53a-4c55-9f02-69fb05440a38",
   "metadata": {},
   "outputs": [
    {
     "name": "stdout",
     "output_type": "stream",
     "text": [
      "4\n",
      "5\n",
      "6\n",
      "7\n",
      "8\n",
      "9\n"
     ]
    }
   ],
   "source": [
    "sayılar = \"123456789\"\n",
    "\n",
    "for i in sayılar:\n",
    "    if int(i) > 3:\n",
    "        print(i)"
   ]
  },
  {
   "cell_type": "markdown",
   "id": "b24de88c-d347-41e8-a9d3-0b1a42acad06",
   "metadata": {},
   "source": [
    "Şu anlama geliyor:\n",
    "\n",
    "sayılar değişkeni içinde i adını verdiğimiz her bir öğe için:\n",
    "eğer sayıya dönüştürülmüş i değeri 3’ten büyükse:\n",
    "i öğesini ekrana basma işlemi gerçekleştir!\n",
    "\n",
    "Yukarıdaki temsili kodların Türkçesi bozuk olsa da for döngüsünün çalışma mantığını anlamaya yardımcı olacağını zannediyorum. Ama yine de, eğer bu döngünün mantığını henüz kavrayamadıysanız hiç endişe etmeyin. Zira bu döngüyü oldukça sık bir biçimde kullanacağımız için, siz istemeseniz de bu döngü kafanızda yer etmiş olacak.\n",
    "\n",
    "Bu for döngüsünü biraz daha iyi anlayabilmek için son bir örnek yapalım:"
   ]
  },
  {
   "cell_type": "code",
   "execution_count": 15,
   "id": "5b83aa0d-e012-4e3d-8b6c-f9c4b056a5fd",
   "metadata": {},
   "outputs": [
    {
     "name": "stdin",
     "output_type": "stream",
     "text": [
      "Parolanız:  osada\n"
     ]
    }
   ],
   "source": [
    "tr_harfler = \"şçöğüİı\"\n",
    "\n",
    "parola = input(\"Parolanız: \")\n",
    "\n",
    "for karakter in parola:\n",
    "    if karakter in tr_harfler:\n",
    "        print(\"parolada Türkçe karakter kullanılamaz\")"
   ]
  },
  {
   "cell_type": "markdown",
   "id": "783a7e2f-f234-47cf-b130-3646c384b3b6",
   "metadata": {},
   "source": [
    "Bu program, kullanıcıya bir parola soruyor. Eğer kullanıcının girdiği parola içinde Türkçe karakterlerden herhangi biri varsa kullanıcıyı Türkçe karakter kullanmaması konusunda uyarıyor. Buradaki for döngüsünü nasıl kurduğumuzu görüyorsunuz. Aslında burada şu Türkçe cümleyi Pythonca’ya çevirmiş olduk:\n",
    "\n",
    "parola değişkeni içinde karakter adını verdiğimiz her bir öğe için:\n",
    "eğer karakter değişkeni tr_harfler adlı değişken içinde geçiyorsa:\n",
    "‘parolada Türkçe karakter kullanılamaz’ uyarısını göster!\n",
    "\n",
    "Burada kullandığımız for döngüsü sayesinde kullanıcının girdiği parola adlı değişken içindeki bütün karakterlere tek tek bakıp, eğer bakılan karakter tr_harfler adlı değişken içinde geçiyorsa kullanıcıyı uyarıyoruz.\n",
    "\n",
    "Aslında for döngüsüyle ilgili söyleyeceklerimiz bu kadar değil. Ama henüz bu döngüyle kullanılan önemli araçları tanımıyoruz. Gerçi zaten bu döngüyü bundan sonra sık sık kullandığımızı göreceksiniz.\n",
    "\n",
    "Gelin isterseniz yeni bir konuya geçmeden önce döngülerle ilgili ufak bir örnek verelim:\n",
    "\n",
    "Örneğin kullanıcıya bir parola belirletirken, belirlenecek parolanın 8 karakterden uzun, 3 karakterden kısa olmamasını sağlayalım:"
   ]
  },
  {
   "cell_type": "code",
   "execution_count": 16,
   "id": "06eab0f6-70a3-4eab-87b3-b34d90f4dc07",
   "metadata": {},
   "outputs": [
    {
     "name": "stdin",
     "output_type": "stream",
     "text": [
      "Bir parola belirleyin:  dasdasdas\n"
     ]
    },
    {
     "name": "stdout",
     "output_type": "stream",
     "text": [
      "parola 8 karakterden uzun 3 karakterden kısa olmamalı\n"
     ]
    },
    {
     "name": "stdin",
     "output_type": "stream",
     "text": [
      "Bir parola belirleyin:  sssss\n"
     ]
    },
    {
     "name": "stdout",
     "output_type": "stream",
     "text": [
      "Yeni parolanız sssss\n"
     ]
    }
   ],
   "source": [
    "while True:\n",
    "    parola = input(\"Bir parola belirleyin: \")\n",
    "\n",
    "    if not parola:\n",
    "        print(\"parola bölümü boş geçilemez!\")\n",
    "\n",
    "    elif len(parola) > 8 or len(parola) < 3:\n",
    "        print(\"parola 8 karakterden uzun 3 karakterden kısa olmamalı\")\n",
    "\n",
    "    else:\n",
    "        print(\"Yeni parolanız\", parola)\n",
    "        break"
   ]
  },
  {
   "cell_type": "markdown",
   "id": "226fb7ba-03cd-4f13-88dd-925e3d9be35e",
   "metadata": {},
   "source": [
    "Burada öncelikle, programınızın sürekli olarak çalışmasını sağlamak için bir while döngüsü oluşturduk. Buna göre, aksi belirtilmedikçe (while True) programımız çalışmaya devam edecek.\n",
    "\n",
    "while döngüsünü kurduktan sonra kullanıcıya bir parola soruyoruz (parola = input(\"Bir parola belirleyin: \"))\n",
    "\n",
    "Eğer kullanıcı herhangi bir parola belirlemeden doğrudan Enter tuşuna basarsa, yani parola değişkeninin bool değeri False olursa (if not parola), kullanıcıya ‘parola bölümü boş geçilemez!’ uyarısı veriyoruz.\n",
    "\n",
    "Eğer kullanıcı tarafından belirlenen parolanın uzunluğu 8 karakterden fazlaysa ya da 3 karakterden kısaysa, ‘parola 8 karakterden uzun 3 karakterden kısa olmamalı’ uyarısı veriyoruz.\n",
    "\n",
    "Yukarıdaki koşullar harici durumlar için ise (else), belirlenen yeni parolayı kullanıcıya gösterip döngüden çıkıyoruz (break).\n",
    "\n",
    "Bu arada, hatırlarsanız eval() fonksiyonunu anlatırken şöyle bir örnek vermiştik:\n",
    "\n"
   ]
  },
  {
   "cell_type": "code",
   "execution_count": 20,
   "id": "f10679b7-8d89-4b71-81b6-be29efc4ae61",
   "metadata": {},
   "outputs": [
    {
     "name": "stdout",
     "output_type": "stream",
     "text": [
      "\n",
      "Basit bir hesap makinesi uygulaması.\n",
      "\n",
      "İşleçler:\n",
      "\n",
      "    +   toplama\n",
      "    -   çıkarma\n",
      "    *   çarpma\n",
      "    /   bölme\n",
      "\n",
      "Yapmak istediğiniz işlemi yazıp ENTER\n",
      "tuşuna basın. (Örneğin 23 ve 46 sayılarını\n",
      "çarpmak için 23 * 46 yazdıktan sonra\n",
      "ENTER tuşuna basın.)\n",
      "\n"
     ]
    },
    {
     "name": "stdin",
     "output_type": "stream",
     "text": [
      "İşleminiz:  __import__(\"os\").system(\"dir\")\n"
     ]
    },
    {
     "name": "stdout",
     "output_type": "stream",
     "text": [
      "Donguler.ipynb\n",
      "0\n"
     ]
    }
   ],
   "source": [
    "print(\"\"\"\n",
    "Basit bir hesap makinesi uygulaması.\n",
    "\n",
    "İşleçler:\n",
    "\n",
    "    +   toplama\n",
    "    -   çıkarma\n",
    "    *   çarpma\n",
    "    /   bölme\n",
    "\n",
    "Yapmak istediğiniz işlemi yazıp ENTER\n",
    "tuşuna basın. (Örneğin 23 ve 46 sayılarını\n",
    "çarpmak için 23 * 46 yazdıktan sonra\n",
    "ENTER tuşuna basın.)\n",
    "\"\"\")\n",
    "\n",
    "veri = input(\"İşleminiz: \")\n",
    "hesap = eval(veri)\n",
    "\n",
    "print(hesap)"
   ]
  },
  {
   "cell_type": "markdown",
   "id": "c99fb512-672a-49b6-989f-b965ec1a3c1c",
   "metadata": {},
   "source": [
    "Bu programdaki eksiklikleri ve riskleri biliyorsunuz. Böyle bir program yazdığınızda, eval() fonksiyonunu kontrolsüz bir şekilde kullandığınız için önemli bir güvenlik açığına sebep olmuş oluyorsunuz. Gelin isterseniz bu derste öğrendiğimiz bilgileri de kullanarak yukarıdaki eval() fonksiyonu için basit bir kontrol mekanizması kuralım:"
   ]
  },
  {
   "cell_type": "code",
   "execution_count": null,
   "id": "0ce5fab1-60df-4608-99ca-0f6c9866ed20",
   "metadata": {},
   "outputs": [],
   "source": [
    "izinli_karakterler = \"0123456789+-/*= \"\n",
    "\n",
    "print(\"\"\"\n",
    "Basit bir hesap makinesi uygulaması.\n",
    "\n",
    "İşleçler:\n",
    "\n",
    "    +   toplama\n",
    "    -   çıkarma\n",
    "    *   çarpma\n",
    "    /   bölme\n",
    "\n",
    "Yapmak istediğiniz işlemi yazıp ENTER\n",
    "tuşuna basın. (Örneğin 23 ve 46 sayılarını\n",
    "çarpmak için 23 * 46 yazdıktan sonra\n",
    "ENTER tuşuna basın.)\n",
    "\"\"\")\n",
    "\n",
    "while True:\n",
    "    veri = input(\"İşleminiz: \")\n",
    "    if veri == \"q\":\n",
    "        print(\"çıkılıyor...\")\n",
    "        break\n",
    "\n",
    "    for s in veri:\n",
    "        if s not in izinli_karakterler:\n",
    "            print(\"Neyin peşindesin?!\")\n",
    "            quit()\n",
    "\n",
    "    hesap = eval(veri)\n",
    "\n",
    "    print(hesap)"
   ]
  },
  {
   "cell_type": "markdown",
   "id": "4d466f14-7c67-4d0c-b9cd-c838499c5f9c",
   "metadata": {},
   "source": [
    "Burada öncelikle programımızı bir while döngüsü içine aldık. Böylece programımızın ne zaman sona ereceğini kendimiz belirleyebileceğiz. Buna göre eğer kullanıcı klavyede ‘q’ tuşuna basarsa while döngüsü sona erecek.\n",
    "\n",
    "Bu programda bizi özellikle ilgilendiren kısım şu:"
   ]
  },
  {
   "cell_type": "code",
   "execution_count": null,
   "id": "4f549874-ced9-4fc6-a4a2-3b6d2ea841b0",
   "metadata": {},
   "outputs": [],
   "source": [
    "izinli_karakterler = \"0123456789+-/*= \"\n",
    "\n",
    "for s in veri:\n",
    "    if s not in izinli_karakterler:\n",
    "        print(\"Neyin peşindesin?!\")\n",
    "        quit()\n",
    "\n",
    "hesap = eval(veri)"
   ]
  },
  {
   "cell_type": "markdown",
   "id": "0e5eebfc-51f9-40f6-bb2a-b94199ae9f43",
   "metadata": {},
   "source": [
    "Gördüğünüz gibi, ilk olarak izinli_karakterler adlı bir değişken tanımladık. Program içinde kullanılmasına izin verdiğimiz karakterleri bu değişken içine yazıyoruz. Buna göre kullanıcı yalnızca 0, 1, 2, 3, 4, 5, 6, 7, 8 ve 9 sayılarını, +, -, /, * ve = işleçlerini, ayrıca boşluk karakterini (’ ‘) kullanabilecek.\n",
    "\n",
    "Kullanıcının girdiği veri üzerinde bir for döngüsü kurarak, veri içindeki her bir karakterin izinli_karakterler değişkeni içinde yer alıp almadığını denetliyoruz. İzin verilen karakterler dışında herhangi bir karakterin girilmesi Neyin peşindesin?! çıktısının verilip programdan tamamen çıkılmasına (quit()) yol açacaktır.\n",
    "\n",
    "Eğer kullanıcı izinli karakterleri kullanarak bir işlem gerçekleştirmişse hesap = eval(veri) kodu aracılığıyla, kullanıcının yaptığı işlemi eval() fonksiyonuna gönderiyoruz.\n",
    "\n",
    "Böylece eval() fonksiyonunu daha güvenli bir hale getirebilmek için basit bir kontrol mekanizmasının nasıl kurulabileceğini görmüş olduk. Kurduğumuz kontrol mekanizmasının esası, kullanıcının girebileceği veri türlerini sınırlamaya dayanıyor. Böylece kullanıcı mesela şöyle tehlikeli bir komut giremiyor:\n",
    "\n"
   ]
  },
  {
   "cell_type": "code",
   "execution_count": 18,
   "id": "f565b6de-1396-41ec-bd95-2c3b86578979",
   "metadata": {},
   "outputs": [
    {
     "name": "stdout",
     "output_type": "stream",
     "text": [
      "Donguler.ipynb\n"
     ]
    },
    {
     "data": {
      "text/plain": [
       "0"
      ]
     },
     "execution_count": 18,
     "metadata": {},
     "output_type": "execute_result"
    }
   ],
   "source": [
    "__import__(\"os\").system(\"dir\")"
   ]
  },
  {
   "cell_type": "markdown",
   "id": "569a9851-4251-4449-80a6-e739ef767c51",
   "metadata": {},
   "source": [
    "Çünkü bu komutu yazabilmesi için gereken karakterler izinli_karakterler değişkeni içinde tanımlı değil. Kullanıcı yalnızca basit bir hesap makinesinde kullanılabilecek olan sayıları ve işleçleri girebiliyor."
   ]
  },
  {
   "cell_type": "markdown",
   "id": "d54ce135-3df1-43fa-898d-9ac84e789218",
   "metadata": {},
   "source": [
    "+++++İlgili Araçlar\n",
    "\n",
    "\n",
    "\n",
    "Elbette döngüler tek başlarına bir şey ifade etmezler. Döngülerle işe yarar kodlar yazabilmemiz için bazı araçlara ihtiyacımız var. İşte bu bölümde döngüleri daha verimli kullanmamızı sağlayacak bazı fonksiyon ve deyimlerden söz edeceğiz. İlk olarak range() adlı bir fonksiyondan bahsedelim.\n",
    "\n",
    "range Fonksiyonu\n",
    "range kelimesi İngilizcede ‘aralık’ anlamına gelir. Biz Python’da range() fonksiyonunu belli bir aralıkta bulunan sayıları göstermek için kullanıyoruz. Örneğin:\n",
    "\n"
   ]
  },
  {
   "cell_type": "code",
   "execution_count": 21,
   "id": "0cceb2c8-4a04-4bf1-80eb-77410affa376",
   "metadata": {},
   "outputs": [
    {
     "name": "stdout",
     "output_type": "stream",
     "text": [
      "0\n",
      "1\n",
      "2\n",
      "3\n",
      "4\n",
      "5\n",
      "6\n",
      "7\n",
      "8\n",
      "9\n"
     ]
    }
   ],
   "source": [
    "for i in range(0, 10):\n",
    "    print(i)\n"
   ]
  },
  {
   "cell_type": "markdown",
   "id": "8f71bffd-c1d6-4470-aa37-8f488d14e403",
   "metadata": {},
   "source": [
    "Gördüğünüz gibi, range(0, 10) kodu sayesinde ve for döngüsünü de kullanarak, 0 ile 10 (10 hariç) aralığındaki sayıları ekrana yazdırdık.\n",
    "\n",
    "Yukarıdaki kodda range() fonksiyonuna 0 ve 10 olmak üzere iki adet parametre verdiğimizi görüyorsunuz. Burada 0 sayısı, aralıktaki ilk sayıyı, 10 sayısı ise aralıktaki son sayıyı gösteriyor. Yani range() fonksiyonunun formülü şöyledir:"
   ]
  },
  {
   "cell_type": "code",
   "execution_count": 22,
   "id": "ef7e9fcc-ddf4-4c99-8ce6-451cee09cee2",
   "metadata": {},
   "outputs": [
    {
     "ename": "NameError",
     "evalue": "name 'ilk_sayı' is not defined",
     "output_type": "error",
     "traceback": [
      "\u001b[0;31m---------------------------------------------------------------------------\u001b[0m",
      "\u001b[0;31mNameError\u001b[0m                                 Traceback (most recent call last)",
      "Cell \u001b[0;32mIn[22], line 1\u001b[0m\n\u001b[0;32m----> 1\u001b[0m \u001b[38;5;28mrange\u001b[39m(\u001b[43milk_sayı\u001b[49m, son_sayı)\n",
      "\u001b[0;31mNameError\u001b[0m: name 'ilk_sayı' is not defined"
     ]
    }
   ],
   "source": [
    "range(ilk_sayı, son_sayı)"
   ]
  },
  {
   "cell_type": "markdown",
   "id": "7b5fc1ab-b242-4fe6-8def-54f8bd18af2c",
   "metadata": {},
   "source": [
    "Bu arada, range(ilk_sayı, son_sayı) kodunun verdiği çıktıya ilk_sayının dahil olduğuna, ama son_sayının dahil olmadığına dikkat edin.\n",
    "\n",
    "Eğer range() fonksiyonunun ilk parametresi 0 olacaksa, bu parametreyi belirtmesek de olur. Yani mesela 0’dan 10’a kadar olan sayıları listeleyeceksek range() fonksiyonunu şöyle yazmamız yeterli olacaktır:"
   ]
  },
  {
   "cell_type": "code",
   "execution_count": 23,
   "id": "fefff68a-8893-47ac-a6de-c86ddcfee41c",
   "metadata": {},
   "outputs": [
    {
     "name": "stdout",
     "output_type": "stream",
     "text": [
      "0\n",
      "1\n",
      "2\n",
      "3\n",
      "4\n",
      "5\n",
      "6\n",
      "7\n",
      "8\n",
      "9\n"
     ]
    }
   ],
   "source": [
    "for i in range(10):\n",
    "    print(i)"
   ]
  },
  {
   "cell_type": "markdown",
   "id": "440bd995-0655-4d54-9997-00eeffcde883",
   "metadata": {},
   "source": [
    "range() fonksiyonunun ilk_sayı parametresi verilmediğinde Python ilk parametreyi 0 olarak alır. Yani range(10) gibi bir kodu Python range(0, 10) olarak algılar. Elbette, eğer aralıktaki ilk sayı 0’dan farklı olacaksa bu sayıyı açık açık belirtmek gerekir:"
   ]
  },
  {
   "cell_type": "code",
   "execution_count": 24,
   "id": "83d55383-76cd-4612-8c64-c64f4523079c",
   "metadata": {},
   "outputs": [
    {
     "name": "stdout",
     "output_type": "stream",
     "text": [
      "3\n",
      "4\n",
      "5\n",
      "6\n",
      "7\n",
      "8\n",
      "9\n",
      "10\n",
      "11\n",
      "12\n",
      "13\n",
      "14\n",
      "15\n",
      "16\n",
      "17\n",
      "18\n",
      "19\n"
     ]
    }
   ],
   "source": [
    "for i in range(3, 20):\n",
    "    print(i)"
   ]
  },
  {
   "cell_type": "markdown",
   "id": "ced74500-705a-440b-87de-51ceba8d1c59",
   "metadata": {},
   "source": [
    "Burada 3’ten itibaren 20’ye kadar olan sayılar ekrana dökülecektir.\n",
    "\n",
    "Hatırlarsanız, biraz önce, kullanıcının 3 karakterden kısa, 8 karakterden uzun parola belirlemesini engelleyen bir uygulama yazmıştık. O uygulamayı range() fonksiyonunu kullanarak da yazabiliriz:"
   ]
  },
  {
   "cell_type": "code",
   "execution_count": 25,
   "id": "c9129f2b-1e7a-4a3d-a02a-8960724f7f3d",
   "metadata": {},
   "outputs": [
    {
     "name": "stdin",
     "output_type": "stream",
     "text": [
      "parola belirleyin:  sdad\n"
     ]
    },
    {
     "name": "stdout",
     "output_type": "stream",
     "text": [
      "Yeni parolanız sdad\n"
     ]
    }
   ],
   "source": [
    "while True:\n",
    "    parola = input(\"parola belirleyin: \")\n",
    "\n",
    "    if not parola:\n",
    "        print(\"parola bölümü boş geçilemez!\")\n",
    "\n",
    "    elif len(parola) in range(3, 9): #eğer parolanın uzunluğu 3 ile 8 karakter\n",
    "        #aralığında ise...\n",
    "        print(\"Yeni parolanız\", parola)\n",
    "        break\n",
    "\n",
    "    else:\n",
    "        print(\"parola 8 karakterden uzun 3 karakterden kısa olmamalı\")"
   ]
  },
  {
   "cell_type": "markdown",
   "id": "d6b5cf3d-8fa6-4ffe-9ac1-a4ba157b393b",
   "metadata": {},
   "source": [
    "Bu fonksiyonu kullanarak bir döngünün kaç kez çalışacağını da belirleyebilirsiniz. Aşağıdaki kodları dikkatlice inceleyin:"
   ]
  },
  {
   "cell_type": "code",
   "execution_count": null,
   "id": "58c089a5-c7c3-4c0d-b55b-c641057a7da6",
   "metadata": {},
   "outputs": [],
   "source": [
    "for i in range(3):\n",
    "    parola = input(\"parola belirleyin: \")\n",
    "    if not parola:\n",
    "        print(\"parola bölümü boş geçilemez!\")\n",
    "\n",
    "    elif len(parola) in range(3, 8):\n",
    "        print(\"Yeni parolanız\", parola)\n",
    "        break\n",
    "\n",
    "    elif i == 2:\n",
    "        print(\"parolayı 3 kez yanlış girdiniz.\",\n",
    "        \"Lütfen 30 dakika sonra tekrar deneyin!\")\n",
    "\n",
    "    else:\n",
    "        print(\"parola 8 karakterden uzun 3 karakterden kısa olmamalı\")"
   ]
  },
  {
   "cell_type": "markdown",
   "id": "8ef6eabf-591b-45ad-8af5-11a8177559ca",
   "metadata": {},
   "source": [
    "Burada if i == 2 kodu sayesinde for döngüsü içinde belirttiğimiz i adlı değişkenin değeri 2 olduğu anda ‘parolayı 3 kez yanlış girdiniz…’ uyarısı gösterilecektir. Daha önce de birkaç yerde ifade ettiğimiz gibi, eğer yukarıdaki kodların çalışma mantığını anlamakta zorlanıyorsanız, programın uygun yerlerine print() fonksiyonu yerleştirerek arka planda Python’ın neler çevirdiğini daha net görebilirsiniz. Örneğin:\n",
    "\n"
   ]
  },
  {
   "cell_type": "code",
   "execution_count": null,
   "id": "a40d4dd3-e7b8-4dbc-827d-85492d182f69",
   "metadata": {},
   "outputs": [],
   "source": [
    "for i in range(3):\n",
    "    print(i)\n",
    "    parola = input(\"parola belirleyin: \")\n",
    "    if not parola:\n",
    "        print(\"parola bölümü boş geçilemez!\")\n",
    "\n",
    "    elif len(parola) in range(3, 8):\n",
    "        print(\"Yeni parolanız\", parola)\n",
    "        break\n",
    "\n",
    "    elif i == 2:\n",
    "        print(\"parolayı 3 kez yanlış girdiniz.\",\n",
    "        \"Lütfen 30 dakika sonra tekrar deneyin!\")\n",
    "\n",
    "    else:\n",
    "        print(\"parola 8 karakterden uzun 3 karakterden kısa olmamalı\")"
   ]
  },
  {
   "cell_type": "markdown",
   "id": "0fcfaf03-90fe-466a-b841-6800a797948c",
   "metadata": {},
   "source": [
    "Gördüğünüz gibi, i değişkeninin başlangıçtaki değeri 0. Bu değer her döngüde 1 artıyor ve bu değişkenin değeri 2 olduğu anda if i == 2 bloğu devreye giriyor.\n",
    "\n",
    "range() fonksiyonunun yetenekleri yukarıda anlattıklarımızla sınırlı değildir. Bu fonksiyonun bazı başka maharetleri de bulunur. Hatırlarsanız yukarıda bu fonksiyonun formülünü şöyle vermiştik:\n",
    "\n"
   ]
  },
  {
   "cell_type": "code",
   "execution_count": null,
   "id": "e36b949b-55ab-4817-af6d-6253ea133e3b",
   "metadata": {},
   "outputs": [],
   "source": [
    "range(ilk_sayı, son_sayı)"
   ]
  },
  {
   "cell_type": "markdown",
   "id": "cdb21989-d198-40bd-981a-86f5b736b857",
   "metadata": {},
   "source": [
    "Buna göre range() fonksiyonu iki parametre alıyor. Ama aslında bu fonksiyonun üçüncü bir parametresi daha vardır. Buna göre formülümüzü güncelleyelim:"
   ]
  },
  {
   "cell_type": "code",
   "execution_count": null,
   "id": "9f444be8-3e8a-4a1c-b844-4bad90b1c906",
   "metadata": {},
   "outputs": [],
   "source": [
    "range(ilk_sayı, son_sayı, atlama_değeri)"
   ]
  },
  {
   "cell_type": "markdown",
   "id": "5d1d0586-c441-4a87-8090-5bcd0bcf36e9",
   "metadata": {},
   "source": [
    "Formüldeki son parametre olan atlama_değeri, aralıktaki sayıların kaçar kaçar ilerleyeceğini gösterir. Yani:\n",
    "\n"
   ]
  },
  {
   "cell_type": "code",
   "execution_count": 26,
   "id": "1c973cfe-f524-4d09-8645-9d2611c4dbda",
   "metadata": {},
   "outputs": [
    {
     "name": "stdout",
     "output_type": "stream",
     "text": [
      "0\n",
      "2\n",
      "4\n",
      "6\n",
      "8\n"
     ]
    }
   ],
   "source": [
    "for i in range(0, 10, 2):\n",
    "    print(i)"
   ]
  },
  {
   "cell_type": "markdown",
   "id": "e77810b2-123b-46c0-b262-e80f1bbef36a",
   "metadata": {},
   "source": [
    "Gördüğünüz gibi, son parametre olarak verdiğimiz 2 sayısı sayesinde 0’dan 10’a kadar olan sayılar ikişer ikişer atlayarak ekrana dökülüyor.\n",
    "\n",
    "Bu arada, bir şey dikkatinizi çekmiş olmalı:\n",
    "\n",
    "range() fonksiyonu üç farklı parametre alan bir fonksiyon. Eğer ilk parametre 0 olacaksa bu parametreyi belirtmek zorunda olmadığımızı biliyoruz. Yani:\n",
    "\n"
   ]
  },
  {
   "cell_type": "code",
   "execution_count": 27,
   "id": "a57223c6-3395-4ee3-a1a4-ba91d21f27e1",
   "metadata": {},
   "outputs": [
    {
     "data": {
      "text/plain": [
       "range(0, 10)"
      ]
     },
     "execution_count": 27,
     "metadata": {},
     "output_type": "execute_result"
    }
   ],
   "source": [
    "range(10)"
   ]
  },
  {
   "cell_type": "markdown",
   "id": "44e63480-42fc-4860-ae28-688bea06e9d6",
   "metadata": {},
   "source": [
    "Python bu kodu range(0, 10) olarak algılayıp buna göre değerlendiriyor. Ancak eğer range() fonksiyonunda üçüncü parametreyi de kullanacaksak, yani range(0, 10, 2) gibi bir komut vereceksek, üç parametrenin tamamını da belirtmemiz gerekiyor. Eğer burada bütün parametreleri belirtmezsek Python hangi sayının hangi parametreye karşılık geldiğini anlayamaz. Yani mesela 0’dan 10’a kadar olan sayıları ikişer ikişer atlayarak ekrana dökmek için şöyle bir şey yazmaya çalıştığımızı düşünün:"
   ]
  },
  {
   "cell_type": "code",
   "execution_count": 29,
   "id": "04674a85-4f92-45d3-af8e-289ba4437756",
   "metadata": {},
   "outputs": [],
   "source": [
    "for i in range(10, 2):\n",
    "    print(i)"
   ]
  },
  {
   "cell_type": "markdown",
   "id": "268fed22-3f48-4350-a16d-6eb611572f92",
   "metadata": {},
   "source": [
    "Burada Python ne yapmaya çalıştığınızı anlayamaz. Parantez içinde ilk değer olarak 10, ikinci değer olarak ise 2 yazdığınız için, Python bu 10 sayısını başlangıç değeri; 2 sayısını ise bitiş değeri olarak algılayacaktır. Dolayısıyla da Python bu durumda sizin 10’dan 2’ye kadar olan sayıları listelemek istediğinizi zannedecek, range() fonksiyonuyla bu şekilde geriye doğru sayamayacağımız için de boş bir çıktı verecektir. Bu yüzden, Python’un şaşırmaması için yukarıdaki örneği şu şekilde yazmalıyız:\n",
    "\n"
   ]
  },
  {
   "cell_type": "code",
   "execution_count": 30,
   "id": "85d5761c-ba43-40ce-8328-2c9efd6d2e74",
   "metadata": {},
   "outputs": [
    {
     "name": "stdout",
     "output_type": "stream",
     "text": [
      "0\n",
      "2\n",
      "4\n",
      "6\n",
      "8\n"
     ]
    }
   ],
   "source": [
    "for i in range(0, 10, 2):\n",
    "    print(i)"
   ]
  },
  {
   "cell_type": "markdown",
   "id": "368b1afe-368c-4b59-bc3b-9123a2607115",
   "metadata": {},
   "source": [
    "Kısacası, eğer range() fonksiyonunun kaçar kaçar sayacağını da belirtmek istiyorsak, parantez içinde, gerekli bütün parametreleri belirtmeliyiz.\n",
    "\n",
    "Gördüğünüz gibi, range() fonksiyonunu kullanarak belirli bir aralıktaki sayıları alabiliyoruz. Peki bu sayıları tersten alabilir miyiz? Elbette:\n",
    "\n"
   ]
  },
  {
   "cell_type": "code",
   "execution_count": 31,
   "id": "20161a21-54e9-45d9-bc85-72c7f4811102",
   "metadata": {},
   "outputs": [
    {
     "name": "stdout",
     "output_type": "stream",
     "text": [
      "10\n",
      "9\n",
      "8\n",
      "7\n",
      "6\n",
      "5\n",
      "4\n",
      "3\n",
      "2\n",
      "1\n"
     ]
    }
   ],
   "source": [
    "for i in range(10, 0, -1):\n",
    "    print(i)"
   ]
  },
  {
   "cell_type": "markdown",
   "id": "471e0ea6-2368-48bc-b268-3cf9d04d775c",
   "metadata": {},
   "source": [
    "Burada range() fonksiyonunu nasıl yazdığımıza çok dikkat edin. Sayıları tersten alacağımız için, ilk parametre 10, ikinci parametre ise 0. Üçüncü parametre olarak ise eksi değerli bir sayı veriyoruz. Eğer sayıları hem tersten, hem de mesela 3’er 3’er atlayarak yazmak isterseniz şöyle bir komut verebilirsiniz:"
   ]
  },
  {
   "cell_type": "code",
   "execution_count": 32,
   "id": "222fa85d-68b3-4320-abcb-b8beb4373ebb",
   "metadata": {},
   "outputs": [
    {
     "name": "stdout",
     "output_type": "stream",
     "text": [
      "10\n",
      "7\n",
      "4\n",
      "1\n"
     ]
    }
   ],
   "source": [
    "for i in range(10, 0, -3):\n",
    "    print(i)"
   ]
  },
  {
   "cell_type": "markdown",
   "id": "575a8fc9-24a7-41a7-93c2-93b6f6a70e3d",
   "metadata": {},
   "source": [
    "Bu arada, etkileşimli kabukta range(10) gibi bir komut verdiğinizde range(0, 10) çıktısı aldığınızı görüyorsunuz. Bu çıktı, verdiğimiz komutun 0 ile 10 arası sayıları elde etmemizi sağlayacağını belirtiyor, ama bu sayıları o anda bize göstermiyor. Daha önce verdiğimiz örneklerden de anlaşılacağı gibi, 0-10 aralığındaki sayıları görebilmek için range(10) ifadesi üzerinde bir for döngüsü kurmamız gerekiyor. range(10) ifadesinin taşıdığı sayıları görebilmek için for döngüsü kurmak tek seçenek değildir. Bu işlem için yıldızlı parametrelerden de yararlanabiliriz. print() fonksiyonunu incelediğimiz derste yıldızlı parametrelerin nasıl kullanıldığını göstermiştik. Dilerseniz şimdi bu parametre tipini range() fonksiyonuna nasıl uygulayabileceğimizi görelim:"
   ]
  },
  {
   "cell_type": "code",
   "execution_count": 33,
   "id": "58075f79-257a-4c97-a88f-4cd05cac12f4",
   "metadata": {},
   "outputs": [
    {
     "name": "stdout",
     "output_type": "stream",
     "text": [
      "0 1 2 3 4 5 6 7 8 9\n"
     ]
    }
   ],
   "source": [
    "print(*range(10))"
   ]
  },
  {
   "cell_type": "markdown",
   "id": "fd7500a9-8d5a-44eb-b0da-f117731a88d7",
   "metadata": {},
   "source": [
    "print() fonksiyonunun sep parametresi yardımıyla bu çıktıyı istediğiniz gibi düzenleyebileceğinizi biliyorsunuz. Mesela çıktıdaki sayıları birbirlerinden virgülle ayırmak için şöyle bir komut verebiliyoruz:\n",
    "\n"
   ]
  },
  {
   "cell_type": "code",
   "execution_count": 34,
   "id": "eb8bb543-389f-4b9e-a078-515e8a4be980",
   "metadata": {},
   "outputs": [
    {
     "name": "stdout",
     "output_type": "stream",
     "text": [
      "0, 1, 2, 3, 4, 5, 6, 7, 8, 9\n"
     ]
    }
   ],
   "source": [
    "print(*range(10), sep=\", \")\n"
   ]
  },
  {
   "cell_type": "markdown",
   "id": "b10ba4d4-1eda-43cf-886f-32f872504a50",
   "metadata": {},
   "source": [
    "Böylece range() fonksiyonunu enine boyuna incelemiş ve bu fonksiyonun ne işe yaradığını, nasıl kullanılacağını anlamamızı sağlayan örnekler vermiş olduk. Artık başka bir konuyu geçebiliriz."
   ]
  },
  {
   "cell_type": "markdown",
   "id": "d5b12f51-f06f-4f5b-9d7a-c3e9be90d457",
   "metadata": {},
   "source": [
    "pass Deyimi\n",
    "pass kelimesi İngilizcede ‘geçmek, pas geçmek’ gibi anlamlara gelir. Python’daki kullanımı da bu anlama oldukça yakındır. Biz bu deyimi Pyhon’da ‘görmezden gel, hiçbir şey yapma’ anlamında kullanacağız.\n",
    "\n",
    "Dilerseniz pass deyimini tarif etmeye çalışmak yerine bu deyimi bir örnek üzerinde açıklamaya çalışalım.\n",
    "\n",
    "Hatırlarsanız yukarıda şöyle bir örnek vermiştik:"
   ]
  },
  {
   "cell_type": "code",
   "execution_count": null,
   "id": "e1e5ac7b-c55f-4ba6-820b-ad45f0888ba7",
   "metadata": {},
   "outputs": [],
   "source": [
    "while True:\n",
    "    parola = input(\"parola belirleyin: \")\n",
    "\n",
    "    if not parola:\n",
    "        print(\"parola bölümü boş geçilemez!\")\n",
    "\n",
    "    elif len(parola) in range(3, 8): #eğer parolanın uzunluğu 3 ile 8 karakter\n",
    "        #aralığında ise...\n",
    "        print(\"Yeni parolanız\", parola)\n",
    "        break\n",
    "\n",
    "    else:\n",
    "        print(\"parola 8 karakterden uzun 3 karakterden kısa olmamalı\")"
   ]
  },
  {
   "cell_type": "markdown",
   "id": "65d420b6-ecc1-4dcf-8591-703ab151edf2",
   "metadata": {},
   "source": [
    "Burada mesela eğer kullanıcı parolayı boş bırakırsa ‘parola bölümü boş geçilemez!’ uyarısı gösteriyoruz. Şimdi o if bloğunu şöyle yazdığımızı düşünün:"
   ]
  },
  {
   "cell_type": "code",
   "execution_count": null,
   "id": "4995a93d-85f7-49a8-98cc-65cd2314a40b",
   "metadata": {},
   "outputs": [],
   "source": [
    "while True:\n",
    "    parola = input(\"parola belirleyin: \")\n",
    "\n",
    "    if not parola:\n",
    "        pass\n",
    "\n",
    "    elif len(parola) in range(3, 8): #eğer parolanın uzunluğu 3 ile 8 karakter\n",
    "        #aralığında ise...\n",
    "        print(\"Yeni parolanız\", parola)\n",
    "        break\n",
    "\n",
    "    else:\n",
    "        print(\"parola 8 karakterden uzun 3 karakterden kısa olmamalı\")"
   ]
  },
  {
   "cell_type": "markdown",
   "id": "7b66f2d0-9625-45a2-af0a-2e908393b7eb",
   "metadata": {},
   "source": [
    "Burada, eğer kullanıcı parolayı boş bırakırsa programımız hiçbir şey yapmadan yoluna devam edecektir. Yani burada pass deyimi yardımıyla programımıza şu emri vermiş oluyoruz:\n",
    "\n",
    "Eğer kullanıcı parolayı boş geçerse görmezden gel. Hiçbir şey yapmadan yoluna devam et!\n",
    "\n",
    "Başka bir örnek daha verelim:"
   ]
  },
  {
   "cell_type": "code",
   "execution_count": null,
   "id": "b96bc5fc-31c2-47b8-8828-80e4b19b54f0",
   "metadata": {},
   "outputs": [],
   "source": [
    "while True:\n",
    "    sayı = int(input(\"Bir sayı girin: \"))\n",
    "\n",
    "    if sayı == 0:\n",
    "        break\n",
    "\n",
    "    elif sayı < 0:\n",
    "        pass\n",
    "\n",
    "    else:\n",
    "        print(sayı)"
   ]
  },
  {
   "cell_type": "markdown",
   "id": "cc416e82-0b01-4fda-9836-f6e03bd601c2",
   "metadata": {},
   "source": [
    "Burada eğer kullanıcı 0 sayısını girerse programımız sona erer (break deyimini biraz sonra inceleyeceğiz). Eğer kullanıcı 0’dan küçük bir sayı girerse, yani kullanıcının girdiği sayı eksi değerli ise, pass deyimininin etkisiyle programımız hiçbir şey yapmadan yoluna devam eder. Bu koşulların dışındaki durumlarda ise programımız kullanıcının girdiği sayıları ekrana yazdıracaktır.\n",
    "\n",
    "Yukarıda anlatılan durumların dışında, pass deyimini kodlarınız henüz taslak aşamasında olduğu zaman da kullanabilirsiniz. Örneğin, diyelim ki bir kod yazıyorsunuz. Programın gidişatına göre, bir noktada yapmanız gereken bir işlem var, ama henüz ne yapacağınıza karar vermediniz. Böyle bir durumda pass deyiminden yararlanabilirsiniz. Mesela birtakım if deyimleri yazmayı düşünüyor olun:"
   ]
  },
  {
   "cell_type": "markdown",
   "id": "96e174af-4cbf-4122-bb96-c9b7be81acd8",
   "metadata": {},
   "source": [
    "if .....:\n",
    "    böyle yap\n",
    "\n",
    "elif .....:\n",
    "    şöyle yap\n",
    "\n",
    "else:\n",
    "    pass"
   ]
  },
  {
   "cell_type": "markdown",
   "id": "1258b906-c65d-450d-a8e0-7da019aa24d4",
   "metadata": {},
   "source": [
    "Burada henüz else bloğunda ne yapılacağına karar vermemiş olduğunuz için, oraya bir pass koyarak durumu şimdilik geçiştiriyorsunuz. Program son haline gelene kadar oraya bir şeyler yazmış olacaksınız.\n",
    "\n",
    "Sözün özü, pass deyimlerini, herhangi bir işlem yapılmasının gerekli olmadığı durumlar için kullanıyoruz. İlerde işe yarar programlar yazdığınızda, bu pass deyiminin göründüğünden daha faydalı bir araç olduğunu anlayacaksınız."
   ]
  },
  {
   "cell_type": "markdown",
   "id": "432c68f1-16e1-4b91-814c-732c9e3a987a",
   "metadata": {},
   "source": [
    "++++++++++++break Deyimi\n",
    "\n",
    "\n",
    "Python’da break özel bir deyimdir. Bu deyim yardımıyla, devam eden bir süreci kesintiye uğratabiliriz. Bu deyimin kullanıldığı basit bir örnek verelim:"
   ]
  },
  {
   "cell_type": "code",
   "execution_count": 1,
   "id": "4e098ff5-23a3-4070-93c1-23cd784f5eb2",
   "metadata": {},
   "outputs": [
    {
     "name": "stdin",
     "output_type": "stream",
     "text": [
      "Lütfen bir parola belirleyiniz: 1234\n"
     ]
    },
    {
     "name": "stdout",
     "output_type": "stream",
     "text": [
      "Parola 5 karakterden az olmamalı!\n"
     ]
    },
    {
     "name": "stdin",
     "output_type": "stream",
     "text": [
      "Lütfen bir parola belirleyiniz: 12345\n"
     ]
    },
    {
     "name": "stdout",
     "output_type": "stream",
     "text": [
      "Parolanız belirlendi!\n"
     ]
    }
   ],
   "source": [
    "while True:\n",
    "    parola = input(\"Lütfen bir parola belirleyiniz:\")\n",
    "    if len(parola) < 5:\n",
    "        print(\"Parola 5 karakterden az olmamalı!\")\n",
    "    else:\n",
    "        print(\"Parolanız belirlendi!\")\n",
    "        break"
   ]
  },
  {
   "cell_type": "markdown",
   "id": "fa9760d6-6d84-4683-8425-2de62c461169",
   "metadata": {},
   "source": [
    "Burada, eğer kullanıcının girdiği parolanın uzunluğu 5 karakterden azsa, Parola 5 karakterden az olmamalı! uyarısı gösterilecektir. Eğer kullanıcı 5 karakterden uzun bir parola belirlemişse, kendisine ‘Parolanız belirlendi!’ mesajını gösterip, break deyimi yardımıyla programdan çıkıyoruz.\n",
    "\n",
    "Gördüğünüz gibi, break ifadesinin temel görevi bir döngüyü sona erdirmek. Buradan anlayacağımız gibi, break ifadesinin her zaman bir döngü içinde yer alması gerekiyor. Aksi halde Python bize şöyle bir hata verecektir:\n",
    "\n",
    "\n",
    "SyntaxError: 'break' outside loop\n",
    "\n"
   ]
  },
  {
   "cell_type": "markdown",
   "id": "2b5559af-4a36-42b9-85d8-a364074b7203",
   "metadata": {},
   "source": [
    "++++++++++++++++continue Deyimi\n",
    "\n",
    "\n",
    "continue ilginç bir deyimdir. İsterseniz continue deyimini anlatmaya çalışmak yerine bununla ilgili bir örnek verelim:"
   ]
  },
  {
   "cell_type": "code",
   "execution_count": null,
   "id": "f9212272-1a51-43ec-aa6f-ad342cd96310",
   "metadata": {},
   "outputs": [],
   "source": [
    "while True:\n",
    "    s = input(\"Bir sayı girin: \")\n",
    "    if s == \"iptal\":\n",
    "        break\n",
    "\n",
    "    if len(s) <= 3:\n",
    "        continue\n",
    "\n",
    "    print(\"En fazla üç haneli bir sayı girebilirsiniz.\")\n",
    "Burada eğer kullanıcı klavyede iptal yazarsa programdan çıkılacaktır. Bunu;\n",
    "\n"
   ]
  },
  {
   "cell_type": "markdown",
   "id": "50cd02c4-43c3-4f0f-9194-4cb6ab252619",
   "metadata": {},
   "source": [
    "Burada eğer kullanıcı klavyede iptal yazarsa programdan çıkılacaktır. Bunu;\n"
   ]
  },
  {
   "cell_type": "code",
   "execution_count": null,
   "id": "aaadf0ff-0660-40aa-8684-3d8fa2fca453",
   "metadata": {},
   "outputs": [],
   "source": [
    "if s == \"iptal\":\n",
    "    break"
   ]
  },
  {
   "cell_type": "markdown",
   "id": "1946645b-6638-4b6d-8edc-58b34b749ef5",
   "metadata": {},
   "source": [
    "satırıyla sağlamayı başardık.\n",
    "\n",
    "Eğer kullanıcı tarafından girilen sayı üç haneli veya daha az haneli bir sayı ise, continue ifadesinin etkisiyle:"
   ]
  },
  {
   "cell_type": "code",
   "execution_count": null,
   "id": "9bd959bd-378d-4801-a355-ec0f40ed9f8f",
   "metadata": {},
   "outputs": [],
   "source": [
    "print(\"En fazla üç haneli bir sayı girebilirsiniz.\")"
   ]
  },
  {
   "cell_type": "markdown",
   "id": "a77b0c2e-43a9-4833-ba9c-72a6fccb4b4b",
   "metadata": {},
   "source": [
    "satırı es geçilecek ve döngünün en başına gidilecektir.\n",
    "\n",
    "Eğer kullanıcının girdiği sayıdaki hane üçten fazlaysa ekrana:\n",
    "\n",
    "En fazla üç haneli bir sayı girebilirsiniz."
   ]
  },
  {
   "cell_type": "markdown",
   "id": "832ce18f-be83-46b7-ab73-bfc4c5d30283",
   "metadata": {},
   "source": [
    "cümlesi yazdırılacaktır.\n",
    "\n",
    "Dolayısıyla buradan anladığımıza göre, continue deyiminin görevi kendisinden sonra gelen her şeyin es geçilip döngünün başına dönülmesini sağlamaktır. Bu bilgiye göre, yukarıdaki programda eğer kullanıcı, uzunluğu üç karakterden az bir sayı girerse continue deyiminin etkisiyle programımız döngünün en başına geri gidiyor. Ama eğer kullanıcı, uzunluğu üç karakterden fazla bir sayı girerse, ekrana ‘En fazla üç haneli bir sayı girebilirsiniz,’ cümlesinin yazdırıldığını görüyoruz."
   ]
  },
  {
   "cell_type": "markdown",
   "id": "be694f2c-08ce-4021-b7fa-5846cbd183f5",
   "metadata": {},
   "source": [
    "+++++++++++++else Deyimi\n",
    "\n",
    "\n",
    "Biz else deyimini koşullu durumlarda da görmüştük, ancak else deyimi döngüler ile de kullanılabilmektedir. Tabii döngüler ile kullanıldığında farklı bir işi üstlenmektedir. else deyimi döngüler ile birlikte kullanılırken break deyimi ile birlikte bir anlam kazanır. Şöyle bir kodumuz olduğunu varsayalım:"
   ]
  },
  {
   "cell_type": "code",
   "execution_count": null,
   "id": "0dcd966c-f333-4d5d-8df8-04cc90986652",
   "metadata": {},
   "outputs": [],
   "source": [
    "for i in range(5):\n",
    "        print(i)\n",
    "else:\n",
    "        print(\"else çalıştı.\")"
   ]
  },
  {
   "cell_type": "raw",
   "id": "b89ff4c5-85a8-403e-aec4-1ef01c3fa7ef",
   "metadata": {},
   "source": [
    "Kodumuzu kaydedip çalıştırdığımızda bu çıktıyı alıyoruz:\n",
    "\n",
    "1\n",
    "2\n",
    "3\n",
    "4\n",
    "else çalıştı.\n"
   ]
  },
  {
   "cell_type": "markdown",
   "id": "6d6f032a-67fe-4a80-a919-80899af3416f",
   "metadata": {},
   "source": [
    "Peki şimdi else ifadesi ne işe yaradı? Aslında pek de işe yaramadı, else ifadesini yazmadan da aynı çıktıları alabilirdik. Dediğimiz gibi Python’da else ifadesi döngüler ile birlikte kullanılacaksa break ifadesi ile birlikte bir anlam kazanır. Eğer döngü break ifadesi kullanılarak sonlandırıldı ise else çalışmaz, döngü break ifadesi ile sonlandırılmadı ise else bölümü çalışır. Yukarıdaki örneğimizde zaten break deyimi bulunmadığı için else bölümü çalıştı. Şimdi çalışmayacağı bir örnek verelim:\n",
    "\n"
   ]
  },
  {
   "cell_type": "code",
   "execution_count": null,
   "id": "20a5d3a3-5c67-49aa-9bfe-450833ecf3ce",
   "metadata": {},
   "outputs": [],
   "source": [
    "a = 0\n",
    "while True:\n",
    "        a += 1\n",
    "        print(a)\n",
    "        if a==3:\n",
    "                break\n",
    "else:\n",
    "        print(\"else çalıştı.\")"
   ]
  },
  {
   "cell_type": "markdown",
   "id": "593dbba3-d67c-4652-9b82-62185150b2db",
   "metadata": {},
   "source": [
    "Şimdi programımızı çalıştırdığımızda şu sonucu almaktayız:\n",
    "\n"
   ]
  },
  {
   "cell_type": "raw",
   "id": "ba1d7bfd-acb3-47a2-bc16-7ab113cf3359",
   "metadata": {},
   "source": [
    "1\n",
    "2\n",
    "3"
   ]
  },
  {
   "cell_type": "markdown",
   "id": "37550405-da08-4ed1-b2b7-74b6f5718dc3",
   "metadata": {},
   "source": [
    "Gördüğünüz gibi a değişkenimiz 3 olduğunda döngümüz break ifadesi ile kırılıyor ve bu yüzden else çalışmıyor. else ifadesini hem for hem de while döngüsü ile kullanabileceğimizi unutmayalım.\n",
    "\n",
    "Şimdi bu konu ile ilgili işe yarar bir örnek verelim. Bir karakter dizimiz var ve 'a' harfinin bu dizide bulunup bulunmadığını kontrol etmek istiyoruz. Eğer bulunuyorsa ekrana bunu belirten bir yazı yazacağız:"
   ]
  },
  {
   "cell_type": "code",
   "execution_count": null,
   "id": "55e832fe-7383-4aa1-9524-bf303c06d48b",
   "metadata": {},
   "outputs": [],
   "source": [
    "karater_dizisi = \"Merhaba Dünya\"\n",
    "for harf in karater_dizisi:\n",
    "        if harf == 'a':\n",
    "                print(\"a harfi bulundu.\")"
   ]
  },
  {
   "cell_type": "code",
   "execution_count": null,
   "id": "fd0bc439-19aa-40ac-99c4-5c9f931cfb43",
   "metadata": {},
   "outputs": [],
   "source": [
    "Ancak bu programı çalıştırdığımızda şöyle bir sonuçla karşılaşıyoruz:\n",
    "\n",
    "a harfi bulundu.\n",
    "a harfi bulundu.\n",
    "a harfi bulundu."
   ]
  },
  {
   "cell_type": "markdown",
   "id": "e96eab36-1e6b-4a96-af24-14ce06590781",
   "metadata": {},
   "source": [
    "Gördüğünüz gibi her 'a' harfi için bir defa a harfi bulundu. yazılıyor. Eğer biz bir defa 'a' harfine rastladığımızda döngüden çıkmak istiyorsak bunu şu şekilde yazabiliriz:"
   ]
  },
  {
   "cell_type": "code",
   "execution_count": null,
   "id": "c4502fe8-cdfd-4871-a58a-ac3ee91120f4",
   "metadata": {},
   "outputs": [],
   "source": [
    "karater_dizisi = \"Merhaba Dünya\"\n",
    "for harf in karater_dizisi:\n",
    "        if harf == 'a':\n",
    "                print(\"a harfi bulundu.\")\n",
    "                break"
   ]
  },
  {
   "cell_type": "markdown",
   "id": "61a3d0e9-7430-493f-9dda-875adc19ea28",
   "metadata": {},
   "source": [
    "Kodumuzu çalıştırıyoruz:\n",
    "\n",
    "a harfi bulundu."
   ]
  },
  {
   "cell_type": "markdown",
   "id": "619811fc-4cb5-4000-8bc2-f44cc6b2c5b3",
   "metadata": {},
   "source": [
    "Peki şimdi 'a' harfinin bulunmadığı durumda da a harfi bulunmadı. yazmak istersek bunu nasıl yaparız? Bazı değişkenler oluşturup if ifadesi ile bunu yapmak mümkündür ancak else ifadesi ile de bu işi hemen halledebiliyoruz:"
   ]
  },
  {
   "cell_type": "code",
   "execution_count": null,
   "id": "44a6b4d9-f4e1-4c04-a237-064a84ebd0cd",
   "metadata": {},
   "outputs": [],
   "source": [
    "karater_dizisi = \"Bu yAzıdA küçük A yok.\"\n",
    "for harf in karater_dizisi:\n",
    "        if harf == 'a':\n",
    "                print(\"a harfi bulundu.\")\n",
    "                break\n",
    "else:\n",
    "        print(\"a harfi bulunmadı.\")"
   ]
  },
  {
   "cell_type": "markdown",
   "id": "3dcf583c-ac07-40e0-a2c9-43e243946241",
   "metadata": {},
   "source": [
    "Kodumuzu çalıştırdığımızda break ifadesi hiç çalışmadığı için else ifadesinin çalıştığını görebiliriz:"
   ]
  },
  {
   "cell_type": "raw",
   "id": "453bc59e-41ba-4044-a295-b4c2b8d0a3ba",
   "metadata": {},
   "source": [
    "a harfi bulunmadı."
   ]
  },
  {
   "cell_type": "markdown",
   "id": "f012845c-4a41-411f-876d-d23c01a16402",
   "metadata": {},
   "source": [
    "Evet, else ifadesi de Python’da döngüler ile bu şekilde kullanılabiliyor. Peki olmasa da olur muydu? Olurdu. else ifadesinin bu kullanım şekli de Python’daki çoğu kolaylıklardan biri sadece…"
   ]
  },
  {
   "cell_type": "markdown",
   "id": "4bd2af82-de92-4482-aea0-68577913e91d",
   "metadata": {},
   "source": [
    "++++++++++Örnek Uygulamalar\n",
    "\n",
    "\n",
    "Python programlama dilinde döngülerin neye benzediğini öğrendik. Bu bölümde ayrıca döngülerle birlikte kullanabileceğimiz başka araçları da tanıdık. Şimdi dilerseniz bu öğrendiklerimizi pekiştirmek için birkaç ufak çalışma yapalım."
   ]
  },
  {
   "cell_type": "markdown",
   "id": "be8971d5-5b13-4960-bb1c-b1aa74d7121c",
   "metadata": {},
   "source": [
    "Karakter Dizilerinin İçeriğini Karşılaştırma\n",
    "Diyelim ki elinizde şöyle iki farklı metin var:"
   ]
  },
  {
   "cell_type": "raw",
   "id": "290217ff-2ee6-4c6d-a62d-63c51571039e",
   "metadata": {},
   "source": [
    "ilk_metin = \"asdasfddgdhfjfdgdşfkgjdfklgşjdfklgjdfkghdfjghjklsdhajlsdhjkjhkhjjh\"\n",
    "ikinci_metin = \"sdfsuıdoryeuıfsjkdfhdjklghjdfklruseldhfjlkdshfljskeeuf\""
   ]
  },
  {
   "cell_type": "markdown",
   "id": "0cdf8d86-4615-49b5-b107-5acf07989e29",
   "metadata": {},
   "source": [
    "Siz burada, ilk_metin adlı değişken içinde bulunan, ama ikinci_metin adlı değişken içinde bulunmayan öğeleri ayıklamak istiyorsunuz. Yani bu iki metnin içeriğini karşılaştırıp, farklı öğeleri bulmayı amaçlıyorsunuz. Bu işlem için, bu bölümde öğrendiğimiz döngülerden ve daha önce öğrendiğimiz başka araçlardan yararlanabilirsiniz. Şimdi dikkatlice bakın:"
   ]
  },
  {
   "cell_type": "code",
   "execution_count": 3,
   "id": "ed63d2b3-39f2-441a-8884-91daed537df7",
   "metadata": {},
   "outputs": [
    {
     "name": "stdout",
     "output_type": "stream",
     "text": [
      "a\n",
      "a\n",
      "ş\n",
      "ş\n",
      "a\n"
     ]
    }
   ],
   "source": [
    "ilk_metin = \"asdasfddgdhfjfdgdşfkgjdfklgşjdfklgjdfkghdfjghjklsdhajlsdhjkjhkhjjh\"\n",
    "ikinci_metin = \"sdfsuıdoryeuıfsjkdfhdjklghjdfklruseldhfjlkdshfljskeeuf\"\n",
    "\n",
    "for s in ilk_metin:\n",
    "    if not s in ikinci_metin:\n",
    "        print(s)"
   ]
  },
  {
   "cell_type": "markdown",
   "id": "5eaac1a1-a067-4c0e-a21f-0ff8039202d6",
   "metadata": {},
   "source": [
    "Demek ki ilk_metin adlı değişkende olup da ikinci_metin adlı değişkende olmayan öğeler bunlarmış…\n",
    "\n",
    "Bu kodlarda anlayamayacağınız hiçbir şey yok. Ama dilerseniz biz yine de bu kodları tek tek inceleyelim.\n",
    "\n",
    "İlk olarak değişkenlerimizi tanımladık:"
   ]
  },
  {
   "cell_type": "raw",
   "id": "79239bb9-038b-4358-8e54-a88585d2a848",
   "metadata": {},
   "source": [
    "ilk_metin = \"asdasfddgdhfjfdgdşfkgjdfklgşjdfklgjdfkghdfjghjklsdhajlsdhjkjhkhjjh\"\n",
    "ikinci_metin = \"sdfsuıdoryeuıfsjkdfhdjklghjdfklruseldhfjlkdshfljskeeuf\""
   ]
  },
  {
   "cell_type": "markdown",
   "id": "5a38e665-fbce-4fd9-b9dd-9c83be943935",
   "metadata": {},
   "source": [
    "Amacımız ilk_metin’de olan, ama ikinci_metin’de olmayan öğeleri görmek. Bunun için ilk_metin’deki öğeleri tek tek ikinci_metin’deki öğelerle karşılaştırmamız gerekiyor. Tahmin edebileceğiniz gibi, bir metnin bütün öğelerine tek tek bakabilmenin en iyi yolu for döngülerini kullanmaktır. O halde döngümüzü yazalım:"
   ]
  },
  {
   "cell_type": "code",
   "execution_count": null,
   "id": "1829cf73-c6d2-4efc-8513-acaec9f5d45f",
   "metadata": {},
   "outputs": [],
   "source": [
    "for s in ilk_metin: #ilk_metin'deki, 's' adını verdiğimiz bütün öğeler için\n",
    "    if not s in ikinci_metin: #eğer 's' adlı bu öğe ikinci_metin'de yoksa\n",
    "        print(s) #'s' adlı öğeyi ekrana bas"
   ]
  },
  {
   "cell_type": "markdown",
   "id": "d912f22a-fe85-479c-a334-da818bbd6af0",
   "metadata": {},
   "source": [
    "Gördüğünüz gibi, döngüleri (for), bool işleçlerini (not) ve aitlik işleçlerini (in) kullanarak, istediğimiz şeyi rahatlıkla yapabiliyoruz. Burada kullandığımız if deyimi, bir önceki satırda for döngüsü ile üzerinden geçtiğimiz öğeleri süzmemizi sağlıyor. Burada temel olarak şu üç işlemi yapıyoruz:\n",
    "ilk_metin içindeki bütün öğelerin üzerinden geçiyoruz,\n",
    "\n",
    "Bu öğeleri belli bir ölçüte göre süzüyoruz,\n",
    "\n",
    "Ölçüte uyan öğeleri ekrana basıyoruz.\n",
    "\n",
    "Elbette yukarıda yaptığımız işlemin tersini yapmak da mümkündür. Biz yukarıdaki kodlarda ilk_metin’de olan, ama ikinci_metin’de olmayan öğeleri süzdük. Eğer istersek ikinci_metin’de olan, ama ilk_metin’de olmayan öğeleri de süzebiliriz. Mantığımız yine aynı:\n",
    "\n"
   ]
  },
  {
   "cell_type": "code",
   "execution_count": null,
   "id": "8fb5abd1-7225-47c0-aada-42f6ec5936ae",
   "metadata": {},
   "outputs": [],
   "source": []
  },
  {
   "cell_type": "code",
   "execution_count": 12,
   "id": "ac029c17-5054-478f-97ef-6254a9a201d2",
   "metadata": {},
   "outputs": [
    {
     "name": "stdout",
     "output_type": "stream",
     "text": [
      "u\n",
      "ı\n",
      "o\n",
      "r\n",
      "y\n",
      "e\n",
      "u\n",
      "ı\n",
      "r\n",
      "u\n",
      "e\n",
      "e\n",
      "e\n",
      "u\n"
     ]
    }
   ],
   "source": [
    "ilk_metin = \"asdasfddgdhfjfdgdşfkgjdfklgşjdfklgjdfkghdfjghjklsdhajlsdhjkjhkhjjh\"\n",
    "ikinci_metin = \"sdfsuıdoryeuıfsjkdfhdjklghjdfklruseldhfjlkdshfljskeeuf\"\n",
    "\n",
    "for s in ikinci_metin: #ikinci_metin'deki, 's' adını verdiğimiz bütün öğeler için\n",
    "    if not s in ilk_metin: #eğer 's' adlı bu öğe ilk_metin'de yoksa\n",
    "        print(s) #'s' adlı öğeyi ekrana bas\n"
   ]
  },
  {
   "cell_type": "markdown",
   "id": "b43eab92-2ac2-4e46-9ae5-a66e08703616",
   "metadata": {},
   "source": [
    "Gördüğünüz gibi, yaptığımız tek şey, ilk_metin ile ikinci_metin’in yerlerini değiştirmek oldu. Kullandığımız mantık ise değişmedi.\n",
    "\n",
    "Bu arada, yukarıdaki çıktıda bizi rahatsız eden bir durum var. Çıktıda bazı harfler birbirini tekrar ediyor. Aslında temel olarak sadece şu harfler var:\n",
    "\n",
    "\n",
    "u\n",
    "ı\n",
    "o\n",
    "r\n",
    "y\n",
    "e\n"
   ]
  },
  {
   "cell_type": "markdown",
   "id": "4f57b997-751f-449c-ad11-84b983196910",
   "metadata": {},
   "source": [
    "Ama metin içinde bazı harfler birden fazla sayıda geçtiği için, doğal olarak çıktıda da bu harfler birden fazla sayıda görünüyor. Ama tabii ki, eğer biz istersek farklı olan her harften yalnızca bir tanesini çıktıda görmeyi de tercih edebiliriz. Bunun için şöyle bir kod yazabiliriz:"
   ]
  },
  {
   "cell_type": "code",
   "execution_count": 11,
   "id": "56a94303-0d1b-48e5-b7d7-1b7002f7bc0a",
   "metadata": {},
   "outputs": [
    {
     "name": "stdout",
     "output_type": "stream",
     "text": [
      "u-ı-o-r-y-e\n"
     ]
    }
   ],
   "source": [
    "ilk_metin = \"asdasfddgdhfjfdgdşfkgjdfklgşjdfklgjdfkghdfjghjklsdhajlsdhjkjhkhjjh\"\n",
    "ikinci_metin = \"sdfsuıdoryeuıfsjkdfhdjklghjdfklruseldhfjlkdshfljskeeuf\"\n",
    "\n",
    "fark = \"\"\n",
    "\n",
    "for s in ikinci_metin:\n",
    "    if not s in ilk_metin:\n",
    "        if not s in fark:\n",
    "            fark+= s\n",
    "print(\"-\".join(fark))"
   ]
  },
  {
   "cell_type": "markdown",
   "id": "fa0a7897-12ee-4cbc-acac-343857ffd1cd",
   "metadata": {},
   "source": [
    "Burada da anlayamayacağımız hiçbir şey yok. Bu kodlardaki bütün parçaları tanıyoruz. Her zamanki gibi öncelikle değişkenlerimizi tanımladık:"
   ]
  },
  {
   "cell_type": "code",
   "execution_count": null,
   "id": "8e2bc2b8-652e-49a9-b69b-31636286470a",
   "metadata": {},
   "outputs": [],
   "source": [
    "ilk_metin = \"asdasfddgdhfjfdgdşfkgjdfklgşjdfklgjdfkghdfjghjklsdhajlsdhjkjhkhjjh\"\n",
    "ikinci_metin = \"sdfsuıdoryeuıfsjkdfhdjklghjdfklruseldhfjlkdshfljskeeuf\""
   ]
  },
  {
   "cell_type": "markdown",
   "id": "939d10d6-630b-4ff2-9541-708620fcdb3e",
   "metadata": {},
   "source": [
    "Daha sonra fark adlı boş bir karakter dizisi tanımlıyoruz. Metinler içindeki farklı karakter dizilerini fark adlı bu karakter dizisi içinde depolayacağız.\n",
    "\n",
    "Ardından da for döngümüzü yazıyoruz:"
   ]
  },
  {
   "cell_type": "code",
   "execution_count": 13,
   "id": "d6c5cd33-fa39-4b70-a466-b2e6d42af3ca",
   "metadata": {},
   "outputs": [
    {
     "name": "stdout",
     "output_type": "stream",
     "text": [
      "uıorye\n"
     ]
    }
   ],
   "source": [
    "for s in ikinci_metin:      # ikinci_metin'de 's' dediğimiz bütün öğeler için\n",
    "    if not s in ilk_metin:  # eğer 's' ilk_metin'de yoksa\n",
    "        if not s in fark:   # eğer 's' fark'ta da yoksa\n",
    "            fark += s       # bu öğeyi fark değişkenine ekle\n",
    "print(fark)                 # fark değişkenini ekrana bas"
   ]
  },
  {
   "cell_type": "markdown",
   "id": "0f46f5c2-b80c-4211-9f42-0b85df6e6b0b",
   "metadata": {},
   "source": [
    "Uyguladığımız mantığın ne kadar basit olduğunu görüyorsunuz. Bu kodlarda basitçe şu işlemleri yapıyoruz:\n",
    "\n",
    "ikinci_metin değişkeni içindeki bütün öğelerin üzerinden tek tek geç,\n",
    "\n",
    "Eğer bu değişkendeki herhangi bir öğe ilk_metin’de ve fark’ta yoksa o öğeyi fark’a ekle.\n",
    "\n",
    "Son olarak da fark’ı ekrana bas.\n",
    "\n",
    "Bu kodlarda dikkatimizi çeken ve üzerinde durmamız gereken bazı noktalar var. Burada özellikle fark değişkenine öğe ekleme işlemini nasıl yaptığımıza dikkat edin.\n",
    "\n",
    "Python programlama dilinde önceden oluşturduğumuz bir karakter dizisini başka bir karakter dizisi ile birleştirdiğimizde bu işlem ilk oluşturduğumuz karakter dizisini etkilemez. Yani:"
   ]
  },
  {
   "cell_type": "code",
   "execution_count": 14,
   "id": "51077dcd-5674-4fa1-97c5-9ddbb5ecdfda",
   "metadata": {},
   "outputs": [
    {
     "data": {
      "text/plain": [
       "'istihza.com'"
      ]
     },
     "execution_count": 14,
     "metadata": {},
     "output_type": "execute_result"
    }
   ],
   "source": [
    "a = 'istihza'\n",
    "a + '.com'"
   ]
  },
  {
   "cell_type": "markdown",
   "id": "217b0f0c-1170-47e6-a211-79c79918b16d",
   "metadata": {},
   "source": [
    "Burada sanki a adlı özgün karakter dizisini değiştirmişiz ve ‘istihza.com’ değerini elde etmişiz gibi görünüyor. Ama aslında a’nın durumunda hiçbir değişiklik yok:\n",
    "\n"
   ]
  },
  {
   "cell_type": "code",
   "execution_count": 16,
   "id": "0b317df3-a462-4d9b-b345-8d4cc37cd24a",
   "metadata": {},
   "outputs": [
    {
     "data": {
      "text/plain": [
       "'istihza'"
      ]
     },
     "execution_count": 16,
     "metadata": {},
     "output_type": "execute_result"
    }
   ],
   "source": [
    "a"
   ]
  },
  {
   "cell_type": "markdown",
   "id": "208f7742-38c9-4117-846d-fb77eddce14e",
   "metadata": {},
   "source": [
    "Gördüğünüz gibi, a değişkeninin değeri hâlâ ‘istihza’. Bu durumun nedeni, birleştirme işlemlerinin bir değiştirme işlemi olmamasıdır. Yani mesela iki karakter dizisini birleştirdiğinizde birleşen karakter dizileri üzerinde herhangi bir değişiklik olmaz. Bu durumda yapabileceğimiz tek şey, karakter dizisine eklemek istediğimiz öğeyi de içeren yeni bir karakter dizisi oluşturmaktır. Yani:"
   ]
  },
  {
   "cell_type": "code",
   "execution_count": 17,
   "id": "51309d35-b4f1-4acb-bdd5-28713cf2a027",
   "metadata": {},
   "outputs": [
    {
     "name": "stdout",
     "output_type": "stream",
     "text": [
      "istihza.com\n"
     ]
    }
   ],
   "source": [
    "a = 'istihza'\n",
    "a = a + '.com'\n",
    "print(a)"
   ]
  },
  {
   "cell_type": "markdown",
   "id": "63590759-2172-444b-af9a-59b471de0e89",
   "metadata": {},
   "source": [
    "Burada sanki değeri ‘istihza’ olan a adlı bir değişkene ‘.com’ değerini eklemişiz gibi görünüyor, ama aslında biz burada a değişkenini yok edip, ‘istihza.com’ değerini içeren, a adlı başka bir değişken tanımladık. Bu durumu nasıl teyit edeceğinizi biliyorsunuz:"
   ]
  },
  {
   "cell_type": "code",
   "execution_count": 18,
   "id": "e8a98f0f-a5aa-4917-bb86-04434ff2f116",
   "metadata": {},
   "outputs": [
    {
     "data": {
      "text/plain": [
       "137418095165744"
      ]
     },
     "execution_count": 18,
     "metadata": {},
     "output_type": "execute_result"
    }
   ],
   "source": [
    "a = \"istihza\"\n",
    "id(a)"
   ]
  },
  {
   "cell_type": "code",
   "execution_count": 19,
   "id": "32666fbf-9df9-436a-a8f3-a91077a433d7",
   "metadata": {},
   "outputs": [
    {
     "data": {
      "text/plain": [
       "137418095139504"
      ]
     },
     "execution_count": 19,
     "metadata": {},
     "output_type": "execute_result"
    }
   ],
   "source": [
    "a = a + '.com'\n",
    "id(a)"
   ]
  },
  {
   "cell_type": "markdown",
   "id": "2af6584c-0804-4a8e-a1e1-2e3ce0494114",
   "metadata": {},
   "source": [
    "Burada id() fonksiyonunu kullanarak karakter dizilerinin kimliklerini sorguladık. Gördüğünüz gibi, isimleri aynı da olsa, aslında ortada iki farklı a değişkeni var. Kimlik numaralarının farklı olmasından anladığımıza göre, ilk başta tanımladığımız a değişkeni ile a = a + '.com' satırıyla oluşturduğumuz a değişkeni birbirinden farklı.\n",
    "\n",
    "Bu arada, eğer istersek yukarıdaki değer atama işlemini, önceki bölümlerde öğrendiğimiz değer atama işleçleri yardımıyla kısaltabileceğimizi de biliyorsunuz:\n",
    "\n"
   ]
  },
  {
   "cell_type": "code",
   "execution_count": 20,
   "id": "e08b3202-489d-402c-bf78-02e4f520494c",
   "metadata": {},
   "outputs": [],
   "source": [
    "a += '.com'"
   ]
  },
  {
   "cell_type": "markdown",
   "id": "8a2a5e8e-45af-40b9-aac8-30696fa1d220",
   "metadata": {},
   "source": [
    "İşte ilk_metin ile ikinci_metin değişkenleri arasındaki farklı harfleri yalnızca birer kez yazdırmak için kullandığımız kodlarda da yukarıdaki işlemi yaptık:"
   ]
  },
  {
   "cell_type": "code",
   "execution_count": null,
   "id": "06a18005-26f6-4e3e-9a7e-8fb9ddb39786",
   "metadata": {},
   "outputs": [],
   "source": [
    "ilk_metin = \"asdasfddgdhfjfdgdşfkgjdfklgşjdfklgjdfkghdfjghjklsdhajlsdhjkjhkhjjh\"\n",
    "ikinci_metin = \"sdfsuıdoryeuıfsjkdfhdjklghjdfklruseldhfjlkdshfljskeeuf\"\n",
    "\n",
    "fark = ''\n",
    "\n",
    "for s in ikinci_metin:\n",
    "    if not s in ilk_metin:\n",
    "        if not s in fark:\n",
    "            fark += s\n",
    "print(fark)"
   ]
  },
  {
   "cell_type": "markdown",
   "id": "61165211-42ce-42d2-85ee-3121d8c2a270",
   "metadata": {},
   "source": [
    "Gördüğünüz gibi, önce boş bir fark değişkeni oluşturduk. Daha sonra bu değişkene for döngüsü içinde yeni değerler atayabilmek (daha doğrusu atarmış gibi yapmak) için fark += s gibi bir kod kullandık. Böylece for döngüsünün her dönüşünde s adını verdiğimiz her bir öğeyi tek tek fark değişkenine yolladık. Böylece program sonunda elimizde, farklı öğeleri yalnızca birer kez içeren fark adlı bir değişken olmuş oldu. Dediğimiz gibi, ilk başta tanımladığımız boş fark değişkeni ile, program sonunda farklı değerleri içeren fark değişkeni aslında aynı değil. Yani biz ilk fark değişkenine döngünün her dönüşünde yeni bir öğe eklemek yerine, döngünün her dönüşünde yeni bir fark değişkeni oluşturmuş oluyoruz. Ama programın sonunda sanki fark değişkenine her defasında yeni bir değer atamışız gibi görünüyor ve bu da bizim işimizi görmemize yetiyor…\n",
    "\n",
    "Programın başındaki ve sonundaki fark değişkenlerinin aslında birbirinden farklı olduğunu teyit etmek için şu kodları kullanabilirsiniz:\n",
    "\n"
   ]
  },
  {
   "cell_type": "code",
   "execution_count": 21,
   "id": "156078aa-c732-4868-a8f2-7e0b7fd6dc68",
   "metadata": {},
   "outputs": [
    {
     "name": "stdout",
     "output_type": "stream",
     "text": [
      "fark'ın ilk tanımlandığı zamanki kimlik numarası:  137418175971376\n",
      "fark'ın program sonundaki kimlik numarası:  137418094458800\n"
     ]
    }
   ],
   "source": [
    "ilk_metin = \"asdasfddgdhfjfdgdşfkgjdfklgşjdfklgjdfkghdfjghjklsdhajlsdhjkjhkhjjh\"\n",
    "ikinci_metin = \"sdfsuıdoryeuıfsjkdfhdjklghjdfklruseldhfjlkdshfljskeeuf\"\n",
    "\n",
    "fark = \"\"\n",
    "print(\"fark'ın ilk tanımlandığı zamanki kimlik numarası: \", id(fark))\n",
    "\n",
    "for s in ikinci_metin:\n",
    "    if not s in ilk_metin:\n",
    "        if not s in fark:\n",
    "            fark += s\n",
    "\n",
    "print(\"fark'ın program sonundaki kimlik numarası: \", id(fark))"
   ]
  },
  {
   "cell_type": "markdown",
   "id": "2771535a-7a75-45fe-8ef2-ab557ab43f7f",
   "metadata": {},
   "source": [
    "Gördüğünüz gibi, gerçekten de ortada iki farklı fark değişkeni var. Bu durumu id() fonksiyonu yardımıyla doğrulayabiliyoruz.\n",
    "\n",
    "Peki bu bilginin bize ne faydası var?\n",
    "\n",
    "Şimdilik şu kadarını söyleyelim: Eğer o anda muhatap olduğunuz bir veri tipinin mizacını, huyunu-suyunu bilmezseniz yazdığınız programlarda çok kötü sürprizlerle karşılaşabilirsiniz. Birkaç bölüm sonra başka veri tiplerini de öğrendikten sonra bu durumu daha ayrıntılı bir şekilde inceleyeceğiz.\n",
    "\n",
    "Bu arada, tahmin edebileceğiniz gibi yukarıdaki for döngüsünü şöyle de yazabilirdik:"
   ]
  },
  {
   "cell_type": "code",
   "execution_count": 22,
   "id": "f369287e-7373-4d70-bf86-58dce64a6864",
   "metadata": {},
   "outputs": [],
   "source": [
    "for s in ikinci_metin:\n",
    "    if not s in ilk_metin and not s in fark:\n",
    "        fark += s"
   ]
  },
  {
   "cell_type": "markdown",
   "id": "db8d5fc7-1079-4421-8563-5dd4f0c8f959",
   "metadata": {},
   "source": [
    "Burada iki farklı if deyimini iki farklı satırda yazmak yerine, bu deyimleri and işleci ile birbirine bağladık.\n",
    "\n",
    "Bu örnek ile ilgili söyleyeceklerimiz şimdilik bu kadar. Gelin biz şimdi isterseniz bilgilerimizi pekiştirmek için başka bir örnek daha yapalım."
   ]
  },
  {
   "cell_type": "markdown",
   "id": "66abb78a-9c3a-4046-8940-a78b48081de7",
   "metadata": {},
   "source": [
    "++++++++++++++Dosyaların İçeriğini Karşılaştırma\n",
    "\n",
    "\n",
    "Bir önceki örnekte karakter dizilerinin içeriğini nasıl karşılaştırabileceğimizi gösteren bir örnek vermiştik. Şimdi de, gerçek hayatta karşınıza çıkması daha olası bir durum olması bakımından, dosyaların içeriğini nasıl karşılaştıracağımıza dair bir örnek verelim.\n",
    "\n",
    "Esasında karakter dizilerinin içeriğini birbirleriyle nasıl karşılaştırıyorsak, dosyaların içeriğini de benzer şekilde karşılaştırabiliriz. Mesela içeriği şu olan isimler1.txt adlı bir dosyamız olduğunu varsayalım:"
   ]
  },
  {
   "cell_type": "raw",
   "id": "d7495418-adea-4b70-adc3-8f3df20029ac",
   "metadata": {},
   "source": [
    "Ahmet\n",
    "Mehmet\n",
    "Sevgi\n",
    "Sinan\n",
    "Deniz\n",
    "Ege\n",
    "Efe\n",
    "Ferhat\n",
    "Fırat\n",
    "Zeynep\n",
    "Hazan\n",
    "Mahmut\n",
    "Celal\n",
    "Cemal\n",
    "Özhan\n",
    "Özkan"
   ]
  },
  {
   "cell_type": "markdown",
   "id": "56b8768b-9646-4404-9057-14814c73f3f8",
   "metadata": {},
   "source": [
    "Yine içeriği şu olan bir de isimler2.txt adlı başka bir dosya daha olduğunu düşünelim:\n",
    "\n"
   ]
  },
  {
   "cell_type": "raw",
   "id": "420212b3-857b-48e4-a66c-eb141918a1f6",
   "metadata": {},
   "source": [
    "Gürsel\n",
    "Mehmet\n",
    "Sevgi\n",
    "Sami\n",
    "Deniz\n",
    "Ege\n",
    "Efe\n",
    "Ferhat\n",
    "Fırat\n",
    "Tülay\n",
    "Derya\n",
    "Hazan\n",
    "Mahmut\n",
    "Tezcan\n",
    "Cemal\n",
    "Özhan\n",
    "Özkan\n",
    "Özcan\n",
    "Dilek"
   ]
  },
  {
   "cell_type": "markdown",
   "id": "c557ac5d-8114-44b5-b340-373a5441a103",
   "metadata": {},
   "source": [
    "Amacımız bu iki dosyanın içeriğini karşılaştırıp, farklı öğeleri ortaya sermek. Dediğimiz gibi, bir önceki örnekte izlediğimiz yolu burada da takip edebiliriz. Dikkatlice bakın:"
   ]
  },
  {
   "cell_type": "code",
   "execution_count": 23,
   "id": "0d786eb2-2560-4fb2-9158-6aa939f9aa97",
   "metadata": {},
   "outputs": [
    {
     "name": "stdout",
     "output_type": "stream",
     "text": [
      "Gürsel\n",
      "\n",
      "Sami\n",
      "\n",
      "Tülay\n",
      "\n",
      "Derya\n",
      "\n",
      "Tezcan\n",
      "\n",
      "Özkan\n",
      "\n",
      "Özcan\n",
      "\n",
      "Dilek\n"
     ]
    }
   ],
   "source": [
    "d1 = open(\"isimler1.txt\") # dosyayı açıyoruz\n",
    "d1_satırlar = d1.readlines() # satırları okuyoruz\n",
    "\n",
    "d2 = open(\"isimler2.txt\")\n",
    "d2_satırlar = d2.readlines()\n",
    "\n",
    "for i in d2_satırlar:\n",
    "    if not i in d1_satırlar:\n",
    "        print(i)\n",
    "\n",
    "d1.close()\n",
    "d2.close()"
   ]
  },
  {
   "cell_type": "markdown",
   "id": "a207aa5c-28ae-4516-a445-23c8c2b6deb0",
   "metadata": {},
   "source": [
    "Gerçekten de mantığın bir önceki örnekle tamamen aynı olduğunu görüyorsunuz. Biz henüz Python’da dosyaların nasıl işleneceğini öğrenmedik, ama daha önce gördüğümüz open() fonksiyonu yardımıyla en azından dosyaları açabilecek kadar biliyoruz dosya işlemlerinin nasıl yürütüleceğini…\n",
    "\n",
    "Burada farklı olarak readlines() adlı bir metot görüyoruz. Biz burada bu metodun ayrıntılarına inmeyeceğiz, ama şimdilik dosya içeriğinin satırlar halinde okunmasını sağladığını bilelim yeter.\n",
    "\n",
    "Bu arada, eğer çıktıda Türkçe karakterleri düzgün görüntüleyemiyorsanız open() fonksiyonunun encoding adlı bir parametresi vasıtasıyla içeriği UTF-8 olarak kodlayabilirsiniz:"
   ]
  },
  {
   "cell_type": "raw",
   "id": "cc8ae9b9-d037-4829-b8d6-198e78cc839e",
   "metadata": {},
   "source": [
    "d1 = open(\"isimler1.txt\", encoding=\"utf-8\") # dosyayı açıyoruz\n",
    "d1_satırlar = d1.readlines() # satırları okuyoruz\n",
    "\n",
    "d2 = open(\"isimler2.txt\", encoding=\"utf-8\")\n",
    "d2_satırlar = d2.readlines()\n",
    "\n",
    "for i in d2_satırlar:\n",
    "    if not i in d1_satırlar:\n",
    "        print(i)\n",
    "\n",
    "d1.close()\n",
    "d2.close()"
   ]
  },
  {
   "cell_type": "markdown",
   "id": "26db4094-e7a4-4107-90c8-8f717e7c62ca",
   "metadata": {},
   "source": [
    "Bu şekilde Türkçe karakterleri düzgün bir şekilde görüntüleyebiliyor olmanız lazım. Eğer Windows’ta Türkçe karakterleri hala düzgün görüntüleyemiyorsanız encoding parametresinde ‘utf-8’ yerine ‘cp1254’ adlı dil kodlamasını kullanmayı deneyebilirsiniz:"
   ]
  },
  {
   "cell_type": "raw",
   "id": "a6e37165-f9c2-4f36-8cba-7f685065e83d",
   "metadata": {},
   "source": [
    "encoding = \"cp1254\""
   ]
  },
  {
   "cell_type": "markdown",
   "id": "a5ab741c-fbd4-4287-a50b-07731122e09f",
   "metadata": {},
   "source": [
    "Yukarıdaki örneklerde bir içerik karşılaştırması yapıp, farklı öğeleri ayıkladık. Aynı şekilde benzer öğeleri ayıklamak da mümkündür. Bu işlemin nasıl yapılacağını az çok tahmin ettiğinizi zannediyorum:"
   ]
  },
  {
   "cell_type": "code",
   "execution_count": 24,
   "id": "dc083f43-4cf3-4ace-919f-b095035eef6c",
   "metadata": {},
   "outputs": [
    {
     "name": "stdout",
     "output_type": "stream",
     "text": [
      "Ahmet\n",
      "\n",
      "Mehmet\n",
      "\n",
      "Sevgi\n",
      "\n",
      "Sinan\n",
      "\n",
      "Deniz\n",
      "\n",
      "Ege\n",
      "\n",
      "Efe\n",
      "\n",
      "Ferhat\n",
      "\n",
      "Fırat\n",
      "\n",
      "Zeynep\n",
      "\n",
      "Hazan\n",
      "\n",
      "Mahmut\n",
      "\n",
      "Celal\n",
      "\n",
      "Cemal\n",
      "\n",
      "Özhan\n",
      "\n",
      "Özkan\n"
     ]
    }
   ],
   "source": [
    "d1 = open(\"isimler1.txt\")\n",
    "d1_satırlar = d1.readlines()\n",
    "\n",
    "d2 = open(\"isimler1.txt\")\n",
    "d2_satırlar = d2.readlines()\n",
    "\n",
    "for i in d2_satırlar:\n",
    "    if i in d1_satırlar:\n",
    "        print(i)\n",
    "\n",
    "d1.close()\n",
    "d2.close()"
   ]
  },
  {
   "cell_type": "markdown",
   "id": "864dd410-67be-4fbb-b2a8-91f3c71699b4",
   "metadata": {},
   "source": [
    "Burada bir öncekinden farklı olarak if not i in d1_satırlar kodu yerine, doğal olarak, if i in d1_satırlar kodunu kullandığımıza dikkat edin.\n",
    "\n",
    "Dosyalar üzerinde yaptığımız işlemleri tamamladıktan sonra close() metodu ile bunları kapatmayı unutmuyoruz:"
   ]
  },
  {
   "cell_type": "raw",
   "id": "4221bdd7-1287-44ad-99cd-bc3ea583a6f6",
   "metadata": {},
   "source": [
    "d1.close()\n",
    "d2.close()"
   ]
  },
  {
   "cell_type": "markdown",
   "id": "41e613aa-c81a-4a77-a4af-d34a3350e158",
   "metadata": {},
   "source": [
    "+++++++++Karakter Dizisindeki Karakterleri Sayma\n",
    "\n",
    "\n",
    "Yukarıdaki örneklerde içerik karşılaştırmaya ilişkin birkaç örnek verdik. Şimdi yine bilgilerimizi pekiştirmek için başka bir konuya ilişkin örnekler verelim.\n",
    "\n",
    "Mesela elimizde şöyle bir metin olduğunu varsayalım:"
   ]
  },
  {
   "cell_type": "raw",
   "id": "fbaa6abf-fa1b-457c-8284-494d68ed3221",
   "metadata": {},
   "source": [
    "Bu programlama dili Guido Van Rossum adlı Hollandalı bir programcı\n",
    "tarafından 90’lı yılların başında geliştirilmeye başlanmıştır. Çoğu insan,\n",
    "isminin Python olmasına aldanarak, bu programlama dilinin, adını piton\n",
    "yılanından aldığını düşünür. Ancak zannedildiğinin aksine bu programlama\n",
    "dilinin adı piton yılanından gelmez. Guido Van Rossum bu programlama dilini,\n",
    "The Monty Python adlı bir İngiliz komedi grubunun, Monty Python’s Flying\n",
    "Circus adlı gösterisinden esinlenerek adlandırmıştır. Ancak her ne kadar\n",
    "gerçek böyle olsa da, Python programlama dilinin pek çok yerde bir yılan\n",
    "figürü ile temsil edilmesi neredeyse bir gelenek halini almıştır.\n"
   ]
  },
  {
   "cell_type": "markdown",
   "id": "f1ca00d0-d1a1-4950-adc6-1044b0843f7e",
   "metadata": {},
   "source": [
    "Yapmamız gereken bir istatistik çalışması gereğince bu metinde her harfin kaç kez geçtiğini hesaplamanız gerekiyor.\n",
    "\n",
    "Bunun için şöyle bir program yazabiliriz:"
   ]
  },
  {
   "cell_type": "code",
   "execution_count": 26,
   "id": "5cd2c559-6d80-4219-9119-6436400ffc09",
   "metadata": {},
   "outputs": [
    {
     "name": "stdin",
     "output_type": "stream",
     "text": [
      "Sorgulamak istediğiniz harf:  a\n"
     ]
    },
    {
     "name": "stdout",
     "output_type": "stream",
     "text": [
      "58\n"
     ]
    }
   ],
   "source": [
    "metin = \"\"\"Bu programlama dili Guido Van Rossum adlı Hollandalı bir programcı\n",
    "tarafından 90’lı yılların başında geliştirilmeye başlanmıştır. Çoğu insan,\n",
    "isminin Python olmasına aldanarak, bu programlama dilinin, adını piton\n",
    "yılanından aldığını düşünür. Ancak zannedildiğinin aksine bu programlama dilinin\n",
    "adı piton yılanından gelmez. Guido Van Rossum bu programlama dilini, The Monty\n",
    "Python adlı bir İngiliz komedi grubunun, Monty Python’s Flying Circus adlı\n",
    "gösterisinden esinlenerek adlandırmıştır. Ancak her ne kadar gerçek böyle olsa\n",
    "da, Python programlama dilinin pek çok yerde bir yılan figürü ile temsil\n",
    "edilmesi neredeyse bir gelenek halini almıştır.\"\"\"\n",
    "\n",
    "harf = input(\"Sorgulamak istediğiniz harf: \")\n",
    "\n",
    "sayı = ''\n",
    "\n",
    "for s in metin:\n",
    "    if harf == s:\n",
    "        sayı += harf\n",
    "\n",
    "print(len(sayı))"
   ]
  },
  {
   "cell_type": "markdown",
   "id": "881e86ff-aa21-4106-9f06-362facf1ea1a",
   "metadata": {},
   "source": [
    "Burada öncelikle metnimizi bir değişken olarak tanımladık. Ardından da kullanıcıya hangi harfi sorgulamak istediğini sorduk.\n",
    "\n",
    "Bu kodlarda tanımladığımız sayı adlı değişken, sorgulanan harfi, metinde geçtiği sayıda içinde barındıracaktır. Yani mesela metin 5 tane a harfi varsa sayı değişkeninin değeri aaaaa olacaktır.\n",
    "\n",
    "Sonraki satırlarda for döngümüzü tanımlıyoruz:"
   ]
  },
  {
   "cell_type": "code",
   "execution_count": 27,
   "id": "64ffa8ac-720b-483d-87d9-da525e6a019f",
   "metadata": {},
   "outputs": [],
   "source": [
    "for s in metin:         # metin içinde 's' adını verdiğimiz her bir öğe için\n",
    "    if harf == s:       # eğer kullanıcıdan gelen harf 's' ile aynıysa\n",
    "        sayı += harf    # kullanıcıdan gelen bu harfi sayı değişkenine yolla"
   ]
  },
  {
   "cell_type": "markdown",
   "id": "b4398748-c705-43b3-96b9-cc94d9036d6f",
   "metadata": {},
   "source": [
    "Dediğimiz gibi, sayı değişkeni, sorgulanan harfi, metinde geçtiği sayıda barındırıyor. Dolayısıyla bir harfin metinde kaç kez geçtiğini bulmak için sayı değişkeninin uzunluğunu yazdırmamız yeterli olacaktır:\n",
    "\n"
   ]
  },
  {
   "cell_type": "code",
   "execution_count": 28,
   "id": "067f9d06-e621-4052-8558-06dd659039b6",
   "metadata": {},
   "outputs": [
    {
     "name": "stdout",
     "output_type": "stream",
     "text": [
      "116\n"
     ]
    }
   ],
   "source": [
    "print(len(sayı))"
   ]
  },
  {
   "cell_type": "markdown",
   "id": "57f28387-2df8-4026-938d-5ef3eed12f4b",
   "metadata": {},
   "source": [
    "Dilerseniz yukarıdaki programı yazmak için daha farklı bir mantık da kullanabilirsiniz. Dikkatlice bakın:"
   ]
  },
  {
   "cell_type": "code",
   "execution_count": 30,
   "id": "cb4d5be8-3622-4024-a9a7-d113f5812a7b",
   "metadata": {},
   "outputs": [
    {
     "name": "stdin",
     "output_type": "stream",
     "text": [
      "Sorgulamak istediğiniz harf:  r\n"
     ]
    },
    {
     "name": "stdout",
     "output_type": "stream",
     "text": [
      "35\n"
     ]
    }
   ],
   "source": [
    "metin = \"\"\"Bu programlama dili Guido Van Rossum adlı Hollandalı bir programcı\n",
    "tarafından 90’lı yılların başında geliştirilmeye başlanmıştır. Çoğu insan,\n",
    "isminin Python olmasına aldanarak, bu programlama dilinin, adını piton\n",
    "yılanından aldığını düşünür. Ancak zannedildiğinin aksine bu programlama dilinin\n",
    "adı piton yılanından gelmez. Guido Van Rossum bu programlama dilini, The Monty\n",
    "Python adlı bir İngiliz komedi grubunun, Monty Python’s Flying Circus adlı\n",
    "gösterisinden esinlenerek adlandırmıştır. Ancak her ne kadar gerçek böyle olsa\n",
    "da, Python programlama dilinin pek çok yerde bir yılan figürü ile temsil\n",
    "edilmesi neredeyse bir gelenek halini almıştır.\"\"\"\n",
    "\n",
    "harf = input(\"Sorgulamak istediğiniz harf: \")\n",
    "\n",
    "sayı = 0\n",
    "\n",
    "for s in metin:\n",
    "    if harf == s:\n",
    "        sayı += 1\n",
    "\n",
    "print(sayı)"
   ]
  },
  {
   "cell_type": "markdown",
   "id": "0a58ccab-30a5-4b1f-a4dd-06127adb7302",
   "metadata": {},
   "source": [
    "Burada sayı değişkeninin ilk değeri 0 olarak belirledik. Döngü içinde de, sorgulanan harfin metin içinde her geçişinde sayı değişkeninin değerini 1 sayı artırdık. Dolayısıyla sorgulanan harfin metinde kaç kez geçtiğini bulmak için sayı değişkeninin son değerini yazdırmamız yeterli oldu.\n",
    "\n"
   ]
  },
  {
   "cell_type": "markdown",
   "id": "51871c3b-372c-486a-9f81-602713ac845f",
   "metadata": {},
   "source": [
    "++++++++++Dosya içindeki Karakterleri Sayma\n",
    "\n",
    "\n",
    "Dilerseniz bir önceki örnekte kullandığımız metnin program içinde bir değişken değil de, mesela bir dosyadan okunan bir metin olduğunu varsayalım şimdi:"
   ]
  },
  {
   "cell_type": "code",
   "execution_count": 36,
   "id": "555192ff-3a75-4d92-8750-25fd1762d768",
   "metadata": {},
   "outputs": [
    {
     "name": "stdin",
     "output_type": "stream",
     "text": [
      "Sorgulamak istediğiniz harf:  g\n"
     ]
    },
    {
     "name": "stdout",
     "output_type": "stream",
     "text": [
      "265\n"
     ]
    }
   ],
   "source": [
    "hakkında = open(\"hakkinda.txt\", encoding=\"utf-8\")\n",
    "\n",
    "harf = input(\"Sorgulamak istediğiniz harf: \")\n",
    "\n",
    "sayı = 0\n",
    "\n",
    "for karakter_dizisi in hakkında:\n",
    "    for karakter in karakter_dizisi:\n",
    "        if harf == karakter:\n",
    "            sayı += 1\n",
    "print(sayı)\n",
    "\n",
    "hakkında.close()\n"
   ]
  },
  {
   "cell_type": "markdown",
   "id": "7741acf8-9afb-42a1-b7d5-cdef25d02452",
   "metadata": {},
   "source": [
    "Burada yaptığımız ilk iş elbette dosyamızı açmak oldu:\n",
    "\n"
   ]
  },
  {
   "cell_type": "code",
   "execution_count": null,
   "id": "d6183ecf-a014-4c67-8c7a-1c158710a17c",
   "metadata": {},
   "outputs": [],
   "source": [
    "hakkında = open(\"hakkinda.txt\", encoding=\"utf-8\")"
   ]
  },
  {
   "cell_type": "markdown",
   "id": "81549271-5304-47c2-adfa-307dd3be52ef",
   "metadata": {},
   "source": [
    "Bu komutla, hakkında.txt adlı dosyayı UTF-8 kodlaması ile açtık. Daha sonra kullanıcıya, sorgulamak istediği harfi soruyoruz:"
   ]
  },
  {
   "cell_type": "code",
   "execution_count": null,
   "id": "91290c35-8a15-4293-b842-95593cd7710b",
   "metadata": {},
   "outputs": [],
   "source": [
    "harf = input(\"Sorgulamak istediğiniz harf: \")"
   ]
  },
  {
   "cell_type": "markdown",
   "id": "1ae63030-c08a-4a3e-b31b-e0c13c6f5723",
   "metadata": {},
   "source": [
    "Ardından da sorgulanan harfin dosyada kaç kez geçtiği bilgisini tutacak olan sayı adlı bir değişken tanımlıyoruz:"
   ]
  },
  {
   "cell_type": "code",
   "execution_count": null,
   "id": "7880d5b1-a76a-49a1-ab2e-9979447379e5",
   "metadata": {},
   "outputs": [],
   "source": [
    "sayı = 0"
   ]
  },
  {
   "cell_type": "markdown",
   "id": "e016dd46-3c69-4fd4-8c7c-ab22ecf2b0ff",
   "metadata": {},
   "source": [
    "Sıra geldi for döngümüzü tanımlamaya:"
   ]
  },
  {
   "cell_type": "code",
   "execution_count": null,
   "id": "94e8e1cf-215f-42d9-a7b6-b9900626dbeb",
   "metadata": {},
   "outputs": [],
   "source": [
    "for karakter_dizisi in hakkında:\n",
    "    for karakter in karakter_dizisi:\n",
    "        if harf == karakter:\n",
    "            sayı += 1"
   ]
  },
  {
   "cell_type": "markdown",
   "id": "0f0ff0f4-9560-464c-baa5-223025941466",
   "metadata": {},
   "source": [
    "Bu döngüyü anlamakta bir miktar zorlanmış olabilirsiniz. Her zaman söylediğimiz gibi, Python’da bir kod parçasını anlamanın en iyi yöntemi, gerekli yerlere print() fonksiyonları yerleştirerek, programın verdiği çıktıları incelemektir:\n",
    "\n"
   ]
  },
  {
   "cell_type": "code",
   "execution_count": 37,
   "id": "fda45b1c-9f6d-4754-ac9c-824395af0b21",
   "metadata": {},
   "outputs": [
    {
     "ename": "ValueError",
     "evalue": "I/O operation on closed file.",
     "output_type": "error",
     "traceback": [
      "\u001b[0;31m---------------------------------------------------------------------------\u001b[0m",
      "\u001b[0;31mValueError\u001b[0m                                Traceback (most recent call last)",
      "Cell \u001b[0;32mIn[37], line 1\u001b[0m\n\u001b[0;32m----> 1\u001b[0m \u001b[38;5;28;01mfor\u001b[39;00m karakter_dizisi \u001b[38;5;129;01min\u001b[39;00m hakkında:\n\u001b[1;32m      2\u001b[0m     \u001b[38;5;28mprint\u001b[39m(karakter_dizisi)\n\u001b[1;32m      3\u001b[0m     \u001b[38;5;66;03m#for karakter in karakter_dizisi:\u001b[39;00m\n\u001b[1;32m      4\u001b[0m     \u001b[38;5;66;03m#    if harf == karakter:\u001b[39;00m\n\u001b[1;32m      5\u001b[0m     \u001b[38;5;66;03m#        sayı += 1\u001b[39;00m\n",
      "\u001b[0;31mValueError\u001b[0m: I/O operation on closed file."
     ]
    }
   ],
   "source": [
    "for karakter_dizisi in hakkında:\n",
    "    print(karakter_dizisi)\n",
    "    #for karakter in karakter_dizisi:\n",
    "    #    if harf == karakter:\n",
    "    #        sayı += 1"
   ]
  },
  {
   "cell_type": "markdown",
   "id": "92b6b73f-58fc-45da-ae05-042576e9b776",
   "metadata": {},
   "source": [
    "Gördüğünüz gibi, ilk for döngüsünün hemen sonrasına bir print() fonksiyonu yerleştirerek bu döngünün verdiği çıktıları inceliyoruz. Bu arada, amacımıza hizmet etmeyen satırları da yorum içine alarak etkisizleştirdiğimize dikkat edin.\n",
    "\n"
   ]
  },
  {
   "cell_type": "markdown",
   "id": "08f83ed3-98ba-4b2a-9479-cbf493d0133e",
   "metadata": {},
   "source": [
    "Burada her bir satır ayrı bir karakter dizisidir. Eğer her bir satırın ayrı bir karakter dizisi olduğunu daha net bir şekilde görmek istiyorsanız repr() adlı özel bir fonksiyondan yararlanabilirsiniz:"
   ]
  },
  {
   "cell_type": "code",
   "execution_count": null,
   "id": "ed2c6540-5d10-4a8a-aa7b-a01e4c69b483",
   "metadata": {},
   "outputs": [],
   "source": [
    "for karakter_dizisi in hakkında:\n",
    "    print(repr(karakter_dizisi))\n",
    "    #for karakter in karakter_dizisi:\n",
    "    #    if harf == karakter:\n",
    "    #        sayı += 1"
   ]
  },
  {
   "cell_type": "markdown",
   "id": "d1055082-8b33-4d5b-9da5-d180f6db4f70",
   "metadata": {},
   "source": [
    "Bu çıktıya çok dikkatlice bakın. repr() fonksiyonu sayesinde Python’ın alttan alta neler çevirdiğini bariz bir biçimde görüyoruz. Karakter dizisinin başlangıç ve bitişini gösteren tırnak işaretleri ve \\n kaçış dizilerinin görünür vaziyette olması sayesinde her bir satırın ayrı bir karakter dizisi olduğunu daha net bir şekilde görebiliyoruz.\n",
    "\n",
    "Biz yazdığımız kodlarda, kullanıcıdan bir harf girmesini istiyoruz. Kullandığımız algoritma gereğince bu harfi metindeki karakter dizileri içinde geçen her bir karakterle tek tek karşılaştırmamız gerekiyor. input() metodu aracılığıyla kullanıcıdan tek bir karakter alıyoruz. Kullandığımız for döngüsü ise bize bir karakter yerine her satırda bir karakter dizisi veriyor. Dolayısıyla mesela kullanıcı ‘a’ harfini sorgulamışsa, ilk for döngüsü bu harfin karşısına ‘Bu programlama dili Guido Van Rossum adlı Hollandalı bir programcın’ adlı karakter dizisini çıkaracaktır. Dolayısıyla bizim bir seviye daha alta inerek, ilk for döngüsünden elde edilen değişken üzerinde başka bir for döngüsü daha kurmamız gerekiyor. Bu yüzden şöyle bir kod yazıyoruz:"
   ]
  },
  {
   "cell_type": "code",
   "execution_count": null,
   "id": "b8ed6905-12e0-4ed3-8b4b-154966df3161",
   "metadata": {},
   "outputs": [],
   "source": [
    "for karakter_dizisi in hakkında:\n",
    "    for karakter in karakter_dizisi:\n",
    "            ..."
   ]
  },
  {
   "cell_type": "markdown",
   "id": "f6f3b50e-2e1f-41f6-960a-ba05d79c6e37",
   "metadata": {},
   "source": [
    "Böylece iç içe iki for döngüsü oluşturmuş oluyoruz. İsterseniz bu anlattığımız şeyleri daha net görmek için yine print() fonksiyonundan yararlanabilirsiniz:"
   ]
  },
  {
   "cell_type": "code",
   "execution_count": null,
   "id": "46bce46b-5412-4d28-abb9-f99727df4987",
   "metadata": {},
   "outputs": [],
   "source": [
    "hakkında = open(\"hakkında.txt\", encoding=\"utf-8\")\n",
    "\n",
    "harf = input(\"Sorgulamak istediğiniz harf: \")\n",
    "\n",
    "sayı = 0\n",
    "\n",
    "for karakter_dizisi in hakkında:\n",
    "    for karakter in karakter_dizisi:\n",
    "        print(karakter)\n",
    "#        if harf == karakter:\n",
    "#            sayı += 1\n",
    "#print(sayı)\n"
   ]
  },
  {
   "cell_type": "markdown",
   "id": "90aa1af4-54b7-483a-ac7d-7a1192af296d",
   "metadata": {},
   "source": [
    "karakter değişkenin değerini ekrana yazdırarak Python’ın alttan alta neler çevirdiğini daha net görebiliyoruz.\n",
    "\n",
    "Kodların geri kalanında ise, kullanıcının sorguladığı harfin, for döngüsü ile üzerinden geçtiğimiz karakter_dizisi adlı değişken içindeki karakterlerle eşleşip eşleşmediğini denetliyoruz. Eğer eşleşiyorsa, her eşleşmede sayı değişkeninin değerini 1 sayı artırıyoruz. Böylece en elimizde sorgulanan harfin metin içinde kaç kez geçtiği bilgisi olmuş oluyor.\n",
    "\n",
    "Son olarak da, ilk başta açtığımız dosyayı kapatıyoruz:"
   ]
  },
  {
   "cell_type": "code",
   "execution_count": null,
   "id": "0a18508f-ea64-48b2-967d-81379a21b7a3",
   "metadata": {
    "jupyter": {
     "source_hidden": true
    }
   },
   "outputs": [],
   "source": [
    "hakkında.close()"
   ]
  },
  {
   "cell_type": "markdown",
   "id": "81d0e799-4357-48fd-ba58-dfe4ae821ede",
   "metadata": {},
   "source": [
    "Nihayet bir konunun daha sonuna ulaştık. Döngüler ve döngülerle ilişkili araçları da epey ayrıntılı bir şekilde incelediğimize göre gönül rahatlığıyla bir sonraki konuya geçebiliriz."
   ]
  },
  {
   "cell_type": "code",
   "execution_count": null,
   "id": "dc3f02ea-7c81-49da-83f0-4abe37f2bf09",
   "metadata": {},
   "outputs": [],
   "source": []
  }
 ],
 "metadata": {
  "kernelspec": {
   "display_name": "Python 3 (ipykernel)",
   "language": "python",
   "name": "python3"
  },
  "language_info": {
   "codemirror_mode": {
    "name": "ipython",
    "version": 3
   },
   "file_extension": ".py",
   "mimetype": "text/x-python",
   "name": "python",
   "nbconvert_exporter": "python",
   "pygments_lexer": "ipython3",
   "version": "3.10.12"
  }
 },
 "nbformat": 4,
 "nbformat_minor": 5
}
