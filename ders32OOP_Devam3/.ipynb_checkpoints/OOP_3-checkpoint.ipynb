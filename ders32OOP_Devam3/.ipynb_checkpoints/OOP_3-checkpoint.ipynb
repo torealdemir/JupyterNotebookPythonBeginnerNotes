{
 "cells": [
  {
   "cell_type": "markdown",
   "id": "b209fadc-322f-4ebe-9a01-5fb7f4edcb22",
   "metadata": {},
   "source": [
    "+++++++++++++Nesne Tabanlı Programlama (Devamı)\n",
    "\n",
    "Geçen bölümlerde, nesne tabanlı programlamaya ilişkin hem temel, hem orta, hem de ileri düzey sayılabilecek pek çok konuya değindik. Şimdiye kadar öğrendiklerimiz, nesne tabanlı programlama yaklaşımı çerçevesinde yazılım üretirken yönümüzü bulabilmemiz açısından büyük ölçüde yeterlidir. Ancak daha önce de söylediğimiz gibi, nesne tabanlı programlama çok geniş kapsamlı bir konudur ve içinde şimdiye kadar adını bile anmadığımız daha pek çok kavram barındırır. İşte bu bölümde, geçen derslerimizde incelemeye fırsat bulamadığımız, ancak nesne tabanlı programlamayı daha derinlemesine tanımak bakımından bilmemizin iyi olacağı birtakım ileri düzey kavramlardan söz edeceğiz.\n",
    "\n",
    "Bu bölümde inceleyeceğimiz ilk konu ‘sınıf üyeleri’.\n",
    "\n",
    "++++++++++++Sınıf Üyeleri\n",
    "\n",
    "Python’da bir sınıf içinde bulunan nitelikler, değişkenler, metotlar, fonksiyonlar ve buna benzer başka veri tipleri, o sınıfın üyelerini meydana getirir. Bir sınıfın üyelerini genel olarak üçe ayırarak inceleyebiliriz:\n",
    "\n",
    "Aleni üyeler (public members)\n",
    "\n",
    "Gizli üyeler (private members)\n",
    "\n",
    "Yarı-gizli üyeler (semi-private members).\n",
    "\n",
    "Bu bölümde bu üç üye türünü ve bunların birbirinden farkını ele alacağız. Öncelikle aleni üyelerden başlayalım.\n",
    "\n",
    "++++++++++++++++++++Aleni Üyeler\n",
    "                   \n",
    "Eğer bir sınıf üyesi dışarıya açıksa, yani bu üyeye sınıf dışından normal yöntemlerle erişilebiliyorsa bu tür üyelere ‘aleni üyeler’ adı verilir. Programlama maceranız boyunca karşınıza çıkacak veri üyelerinin tamamına yakını alenidir. Biz de bu kitapta şimdiye kadar yalnızca aleni üyeleri gördük.\n",
    "\n",
    "Eğer bildiğiniz tek programlama dili Python ise, şu anda tam olarak neden bahsediyor olduğumuza anlam verememiş olabilirsiniz. Dilerseniz durumu zihninizde biraz olsun netleştirebilmek için basit bir örnek verelim.\n",
    "\n",
    "Diyelim ki elimizde şöyle bir sınıf var:\n",
    "\n"
   ]
  },
  {
   "cell_type": "code",
   "execution_count": null,
   "id": "eff3f041-8b4c-4b44-8ab8-ad1844edb880",
   "metadata": {},
   "outputs": [],
   "source": [
    "class Sınıf():\n",
    "    sınıf_niteliği = 'sınıf niteliği'\n",
    "\n",
    "    def örnek_metodu(self):\n",
    "        print('örnek metodu')\n",
    "\n",
    "    @classmethod\n",
    "    def sınıf_metodu(cls):\n",
    "        print('sınıf metodu')\n",
    "\n",
    "    @staticmethod\n",
    "    def statik_metot():\n",
    "        print('statik metot')"
   ]
  },
  {
   "cell_type": "markdown",
   "id": "2c72b917-a4f7-49f3-9d56-8a3161041603",
   "metadata": {},
   "source": [
    "Bu kodların sinif.py adlı bir dosya içinde yer aldığını varsayarsak şöyle bir şeyler yazabiliriz:\n",
    "\n"
   ]
  },
  {
   "cell_type": "code",
   "execution_count": null,
   "id": "2f9d4f04-55f7-4e37-839e-db43a36e097a",
   "metadata": {},
   "outputs": [],
   "source": [
    "import sinif\n",
    "s = sinif.Sınıf()\n",
    "dir(s)\n",
    "\n",
    "['__class__', '__delattr__', '__dict__', '__dir__', '__doc__',\n",
    " '__eq__', '__format__', '__ge__', '__getattribute__', '__gt__',\n",
    " '__hash__', '__init__', '__le__', '__lt__', '__module__',\n",
    " '__ne__', '__new__', '__reduce__', '__reduce_ex__', '__repr__',\n",
    " '__setattr__', '__sizeof__', '__str__', '__subclasshook__', '__weakref__',\n",
    " 'statik_metot', 'sınıf_metodu', 'sınıf_niteliği', 'örnek_metodu']\n"
   ]
  },
  {
   "cell_type": "markdown",
   "id": "7730ecbb-0056-4d8b-bee6-2f86e0e56316",
   "metadata": {},
   "source": [
    "Burada öncelikle kodlarımızı barındıran modülü içe aktardık. Daha sonra, içe aktardığımız modülün içindeki Sınıf() adlı sınıfımızı s örneğine atadık ve ardından dir() komutunu kullanarak, içe aktardığımız bu sınıfın içeriğini sorguladık.\n",
    "\n",
    "Gördüğünüz gibi, içe aktardığımız sınıfın bütün öğeleri listede var. Yani biz bu sınıf içindeki bütün öğelere normal yollardan erişme imkanına sahibiz:\n",
    "\n"
   ]
  },
  {
   "cell_type": "code",
   "execution_count": null,
   "id": "25d64417-7d12-4d7b-9971-1765b8fc0e5a",
   "metadata": {},
   "outputs": [],
   "source": [
    "s.statik_metot()\n",
    "\n",
    "'statik metot'\n",
    "\n",
    "s.örnek_metodu()\n",
    "\n",
    "'örnek metodu'\n",
    "\n",
    "s.sınıf_metodu()\n",
    "\n",
    "'sınıf metodu'\n",
    "\n",
    "s.sınıf_niteliği\n",
    "\n",
    "'sınıf niteliği'"
   ]
  },
  {
   "cell_type": "markdown",
   "id": "adde71fe-6e84-436f-b488-f2e80872b196",
   "metadata": {},
   "source": [
    "İşte dir() komutunun çıktısında görünen ve normal yollardan erişebildiğimiz bütün bu öğeler birer aleni üyedir.\n",
    "\n",
    "Yukarıda da ifade ettiğimiz gibi, program yazarken çoğu zaman yalnızca aleni üyelerle muhatap olacaksınız. Ancak bazı durumlarda, yazdığınız bir sınıftaki bütün sınıf üyelerinin dışarıya açık olmasını istemeyebilirsiniz. Eğer kodlarınızda, sınıfın yalnızca iç işleyişini ilgilendiren, bu yüzden de dışarıdan erişilmesine gerek olmadığını veya erişilirse problem çıkacağını düşündüğünüz birtakım öğeler varsa bunları dışarıya kapatarak bir ‘gizli üye’ haline getirmek isteyebilirsiniz. Peki ama nasıl?\n",
    "\n",
    "+++++++++++Gizli Üyeler\n",
    "\n",
    "Python’da şimdiye kadar gördüğümüz ve yukarıda andığımız aleni üyelerin dışında, bir de gizli üyeler bulunur. Aleni üyelerin aksine gizli üyeler dışarıya açık değildir. Gizli üyelere, normal yöntemleri kullanarak sınıf dışından erişemeyiz.\n",
    "\n",
    "Konuyu açıklığa kavuşturmak için, aleni üyeleri anlatırken verdiğimiz sınıf örneğinde şu değişikliği yapalım:\n",
    "\n"
   ]
  },
  {
   "cell_type": "code",
   "execution_count": null,
   "id": "453d64c1-5f91-4d4c-835f-a317e5916998",
   "metadata": {},
   "outputs": [],
   "source": [
    "class Sınıf():\n",
    "    __gizli = 'gizli'\n",
    "\n",
    "    def örnek_metodu(self):\n",
    "        print(self.__gizli)\n",
    "        print('örnek metodu')\n",
    "\n",
    "    @classmethod\n",
    "    def sınıf_metodu(cls):\n",
    "        print('sınıf metodu')\n",
    "\n",
    "    @staticmethod\n",
    "    def statik_metot():\n",
    "        print('statik metot')"
   ]
  },
  {
   "cell_type": "markdown",
   "id": "b808173c-a0b9-4bdd-ada7-49f34c1a4b61",
   "metadata": {},
   "source": [
    "Burada __gizli adlı bir gizli sınıf niteliği tanımladık. Bu değişkenin yalnızca baş tarafında iki adet alt çizgi olduğuna, ancak uç tarafında alt çizgi bulunmadığına dikkat edin. İşte Python’da baş tarafında yukarıdaki gibi iki adet alt çizgi olan, ancak uç tarafında alt çizgi bulunmayan (veya yalnızca tek bir alt çizgi bulunan) bütün öğeler birer gizli üyedir. Dışarıya kapalı olan bu gizli üyelere, normal yöntemleri kullanarak sınıf dışından erişemezsiniz.\n",
    "\n",
    "İsterseniz deneyelim:"
   ]
  },
  {
   "cell_type": "code",
   "execution_count": null,
   "id": "d3bc0af2-fb95-44a5-b9a0-de1ede385cde",
   "metadata": {},
   "outputs": [],
   "source": [
    "import sinif\n",
    "s = sinif.Sınıf()\n",
    "s.__gizli\n",
    "\n",
    "Traceback (most recent call last):\n",
    "  File \"<stdin>\", line 1, in <module>\n",
    "AttributeError: 'Sınıf' object has no attribute '__gizli'\n"
   ]
  },
  {
   "cell_type": "markdown",
   "id": "9b2246c7-35f6-4cc1-8dff-b39b9ba9fba2",
   "metadata": {},
   "source": [
    "Gördüğünüz gibi, örnek adı üzerinden __gizli niteliğine erişemiyoruz. Bir de sınıf adı üzerinden erişmeyi deneyelim:\n",
    "\n"
   ]
  },
  {
   "cell_type": "code",
   "execution_count": null,
   "id": "61ce70cc-cf01-4888-b6ed-d79eeebbd8d7",
   "metadata": {},
   "outputs": [],
   "source": [
    "sinif.Sınıf.__gizli\n",
    "\n",
    "Traceback (most recent call last):\n",
    "  File \"<stdin>\", line 1, in <module>\n",
    "AttributeError: type object 'Sınıf' has no attribute '__gizli'"
   ]
  },
  {
   "cell_type": "markdown",
   "id": "9c3ed6cd-35bf-4b0c-8b0b-4feaf1f73133",
   "metadata": {},
   "source": [
    "Bu şekilde de erişemedik. Çünkü dediğimiz gibi, başında çift alt çizgi olan, ancak ucunda herhangi bir çizgi bulunmayan (veya tek bir alt çizgi bulunan) bu gizli öğelere normal yollardan erişemeyiz.\n",
    "\n",
    "Dilerseniz gizli üye oluşturma kurallarını şöyle bir netleştirelim:\n",
    "\n",
    "Bir üyenin gizli olabilmesi için başında en az iki adet, ucunda da en fazla bir adet alt çizgi bulunmalıdır. Yani şunlar birer gizli üyedir:\n",
    "\n"
   ]
  },
  {
   "cell_type": "code",
   "execution_count": null,
   "id": "d3a38af5-d524-4f14-8894-94fdc31b6c5c",
   "metadata": {},
   "outputs": [],
   "source": [
    "__gizli = 'gizli'\n",
    "__gizli_ = 'gizli'\n",
    "__gizli_üye = 'gizli'\n",
    "__gizli_üye_ = 'gizli'"
   ]
  },
  {
   "cell_type": "markdown",
   "id": "7bf3863f-5fb6-44f8-b6bc-23b726633c32",
   "metadata": {},
   "source": [
    "Burada önemli bir noktaya dikkatinizi çekmek istiyorum: Gizli üyeler yalnızca sınıf dışına kapalıdır. Bu üyelere sınıf içinden rahatlıkla erişebiliriz. Mesela yukarıdaki örnekte bu durumu görüyorsunuz. __gizli adlı değişkene örnek_metodu() içinden normal bir şekilde erişebiliyoruz:"
   ]
  },
  {
   "cell_type": "code",
   "execution_count": null,
   "id": "afabc138-cb27-4e69-b85a-d1f1470fe55d",
   "metadata": {},
   "outputs": [],
   "source": [
    "def örnek_metodu(self):\n",
    "    print(self.__gizli)\n",
    "    print('örnek metodu')"
   ]
  },
  {
   "cell_type": "markdown",
   "id": "6e3e47c9-3c70-4f52-835c-9e707cf1ed89",
   "metadata": {},
   "source": [
    "Bu durumda sınıf dışından bu örnek_metodu()’na eriştiğimizde gizli üye olan __gizli’ye de erişmiş oluyoruz:"
   ]
  },
  {
   "cell_type": "code",
   "execution_count": null,
   "id": "c555bc6e-c5b3-4460-88b7-de12ad976cde",
   "metadata": {},
   "outputs": [],
   "source": [
    "import sinif\n",
    "s = sinif.Sınıf()\n",
    "s.örnek_metodu()\n",
    "\n",
    "'gizli'\n",
    "'örnek metodu'"
   ]
  },
  {
   "cell_type": "markdown",
   "id": "2d39b9c7-72bf-4189-adf9-228dcc5f9491",
   "metadata": {},
   "source": [
    "Burada örnek_metodu(), __gizli adlı gizli üyeye erişmemiz için bize aracılık etmiş oluyor.\n",
    "\n",
    "Peki ama bir insan neden bu şekilde birtakım gizli üyeler tanımlamak istiyor olabilir?\n",
    "\n",
    "Hatırlarsanız geçen bölümde şöyle bir örnek vermiştik:\n",
    "\n"
   ]
  },
  {
   "cell_type": "code",
   "execution_count": null,
   "id": "71dbc88b-18ad-4e0e-8d33-9028a419c381",
   "metadata": {},
   "outputs": [],
   "source": [
    "class Çalışan():\n",
    "    personel = []\n",
    "\n",
    "    def __init__(self, isim):\n",
    "        self.isim = isim\n",
    "        self.kabiliyetleri = []\n",
    "        self.personele_ekle()\n",
    "\n",
    "    @classmethod\n",
    "    def personel_sayısını_görüntüle(cls):\n",
    "        print(len(cls.personel))\n",
    "\n",
    "    def personele_ekle(self):\n",
    "        self.personel.append(self.isim)\n",
    "        print('{} adlı kişi personele eklendi'.format(self.isim))\n",
    "\n",
    "    @classmethod\n",
    "    def personeli_görüntüle(cls):\n",
    "        print('Personel listesi:')\n",
    "        for kişi in cls.personel:\n",
    "            print(kişi)\n",
    "\n",
    "    def kabiliyet_ekle(self, kabiliyet):\n",
    "        self.kabiliyetleri.append(kabiliyet)\n",
    "\n",
    "    def kabiliyetleri_görüntüle(self):\n",
    "        print('{} adlı kişinin kabiliyetleri:'.format(self.isim))\n",
    "        for kabiliyet in self.kabiliyetleri:\n",
    "            print(kabiliyet)"
   ]
  },
  {
   "cell_type": "markdown",
   "id": "ff2bfa17-0ee9-417a-95f3-cedb1c07256b",
   "metadata": {},
   "source": [
    "Burada personel adlı bir sınıf niteliğimiz var. Bu niteliğe sınıf içinde hem personele_ekle() adlı örnek metodundan hem de personel_sayısını_görüntüle() ve personeli_görüntüle() adlı sınıf metotlarından erişmek suretiyle bu nitelik üzerinde çeşitli işlemler yapıyoruz.\n",
    "\n",
    "Esasında şöyle bir düşününce, personel adlı niteliğin yalnızca sınıfın iç işleyişi açısından önem taşıdığını rahatlıkla söyleyebiliriz. Bu niteliğe sınıf dışından doğrudan erişilerek personel üzerinde işlem yapılmaya çalışılması çok mantıksız. Yani sınıfımızı kullanacak kişilerin şu tür bir kod yazması biraz abes kaçacaktır:"
   ]
  },
  {
   "cell_type": "code",
   "execution_count": null,
   "id": "e066fe22-0e1c-4998-92f7-3e8ec07390b1",
   "metadata": {},
   "outputs": [],
   "source": [
    "from calisan import Çalışan\n",
    "Çalışan.personel.append('Ahmet')"
   ]
  },
  {
   "cell_type": "markdown",
   "id": "2f7c4a30-535e-4423-ab9f-4894abfaa917",
   "metadata": {},
   "source": [
    "Zira biz, kodlarımızın yapısı gereği, personel üzerindeki işlemlerin yalnızca çeşitli fonksiyonlar/metotlar aracılığıyla yapılmasını istiyoruz.\n",
    "\n",
    "Personele eleman ekleyecek kişilerin doğrudan personel listesine erişmesi, kodlarımızın kullanım kurallarının bir bakıma ihlal edilmesi anlamına geliyor. Çünkü biz personele eleman ekleme işlemleri için halihazırda ayrı bir metot tanımlamış durumdayız. Eğer personele adam eklenecekse, bu işlem doğrudan personel listesi üzerinden değil, personele_ekle() adlı örnek metodu üzerinden gerçekleştirilmeli. Yukarıdaki kodlarda bu personele_ekle() metodu doğrudan sınıfın kendi __init__() metodu tarafından kullanılıyor. Dolayısıyla yukarıdaki sınıfı kullanmanın doğru yolu, ilgili sınıfı örneklemektir:"
   ]
  },
  {
   "cell_type": "code",
   "execution_count": null,
   "id": "4126e4e2-2464-4d59-a5b5-1ad9b4c357a4",
   "metadata": {},
   "outputs": [],
   "source": [
    "from calisan import Çalışan\n",
    "ahmet = Çalışan('Ahmet')"
   ]
  },
  {
   "cell_type": "markdown",
   "id": "2aab9569-9416-4c0a-979c-e1c2b36a2f5a",
   "metadata": {},
   "source": [
    "Aynı şekilde personel listesini görüntülemek için de doğrudan personel listesine erişmeye çalışmayacağız. Yani şöyle bir şey yazmayacağız:\n",
    "\n"
   ]
  },
  {
   "cell_type": "code",
   "execution_count": null,
   "id": "f1120a90-b2f3-47b0-97c4-6e204c0dcf87",
   "metadata": {},
   "outputs": [],
   "source": [
    "Çalışan.personel"
   ]
  },
  {
   "cell_type": "markdown",
   "id": "9fb2c1e0-f7c4-46b0-8226-f06673c702a3",
   "metadata": {},
   "source": [
    "Bunun yerine, bu iş için özel olarak tasarladığımız personeli_görüntüle() fonksiyonunu kullanacağız:"
   ]
  },
  {
   "cell_type": "code",
   "execution_count": null,
   "id": "aeeb69e6-b868-4709-ae9c-5c696a3138d5",
   "metadata": {},
   "outputs": [],
   "source": [
    "Çalışan.personeli_görüntüle()\n"
   ]
  },
  {
   "cell_type": "markdown",
   "id": "631a030b-18b8-4a5e-bbfc-7f74ee013fc4",
   "metadata": {},
   "source": [
    "İşte yukarıdaki kodlarda yer alan personel listesinin usulsüz bir şekilde kullanılmasını önlemek amacıyla bu listeyi bir gizli üye haline getirebilirsiniz:\n",
    "\n"
   ]
  },
  {
   "cell_type": "code",
   "execution_count": null,
   "id": "d45c83cc-ad23-49d8-b6d5-dd1ba44809aa",
   "metadata": {},
   "outputs": [],
   "source": [
    "class Çalışan():\n",
    "    __personel = []\n",
    "\n",
    "    def __init__(self, isim):\n",
    "        self.isim = isim\n",
    "        self.kabiliyetleri = []\n",
    "        self.personele_ekle()\n",
    "\n",
    "    @classmethod\n",
    "    def personel_sayısını_görüntüle(cls):\n",
    "        print(len(cls.__personel))\n",
    "\n",
    "    def personele_ekle(self):\n",
    "        self.__personel.append(self.isim)\n",
    "        print('{} adlı kişi personele eklendi'.format(self.isim))\n",
    "\n",
    "    def personeli_görüntüle(self):\n",
    "        print('Personel listesi:')\n",
    "        for kişi in self.__personel:\n",
    "            print(kişi)\n",
    "\n",
    "    def kabiliyet_ekle(self, kabiliyet):\n",
    "        self.kabiliyetleri.append(kabiliyet)\n",
    "\n",
    "    def kabiliyetleri_görüntüle(self):\n",
    "        print('{} adlı kişinin kabiliyetleri:'.format(self.isim))\n",
    "        for kabiliyet in self.kabiliyetleri:\n",
    "            print(kabiliyet)"
   ]
  },
  {
   "cell_type": "markdown",
   "id": "622e421c-677d-41db-b999-0dc659b3fe4c",
   "metadata": {},
   "source": [
    "Burada personel listesinin baş tarafına iki alt çizgi ekleyerek bunu sınıf dışından, normal yollarla erişilmez hale getirdik:\n",
    "\n"
   ]
  },
  {
   "cell_type": "code",
   "execution_count": null,
   "id": "798708fe-5ff4-4eaa-8465-f7e3fd2656f8",
   "metadata": {},
   "outputs": [],
   "source": [
    "Çalışan.__personel\n",
    "\n",
    "Traceback (most recent call last):\n",
    "  File \"<stdin>\", line 1, in <module>\n",
    "AttributeError: type object 'Çalışan' has no attribute '__personel'"
   ]
  },
  {
   "cell_type": "markdown",
   "id": "613403fe-300e-4334-8b1b-06dc1f13f55d",
   "metadata": {},
   "source": [
    "Gördüğünüz gibi, aslında sınıfımız içinde __personel adlı bir nitelik olmasına rağmen, Python bu niteliğe sınıf dışından erişilmesine izin vermiyor. Eğer amacımız personel üzerinde çeşitli işlemler yapmaksa, bu iş için sınıfın bize sunduğu metotları kullanmamız gerekiyor:\n",
    "\n"
   ]
  },
  {
   "cell_type": "code",
   "execution_count": null,
   "id": "7236cd3b-b33e-4a79-940e-8d68faa243d8",
   "metadata": {},
   "outputs": [],
   "source": [
    "Çalışan.personel_sayısını_görüntüle()\n"
   ]
  },
  {
   "cell_type": "markdown",
   "id": "cfe4d29e-e0dd-4bc6-8ab4-0e89ad351d26",
   "metadata": {},
   "source": [
    "Bu tip durumlarda gizli üyeler epey işinize yarayabilir…\n",
    "\n",
    "Bir örnek daha verelim.\n",
    "\n",
    "Yukarıdaki kodlarda, tıpkı personel listesi gibi, aslında personele_ekle() fonksiyonu da dışarıdan erişilmesine gerek olmayan, hatta dışarıdan erişilirse kafa karıştırıcı olabilecek bir sınıf üyesidir.\n",
    "\n",
    "personele_ekle() adlı örnek metodu, sınıfımız içinde __init__() fonksiyonu tarafından kullanılıyor. Dolayısıyla sınıfımız örneklendiğinde personele_ekle() metodu devreye girerek yeni elemanı personel listesine ekliyor:"
   ]
  },
  {
   "cell_type": "code",
   "execution_count": null,
   "id": "e50f7340-77ef-4c7e-84e6-a8d475d89430",
   "metadata": {},
   "outputs": [],
   "source": [
    "ayşe = Çalışan('Ayşe')\n",
    "\n",
    "'Ayşe adlı kişi personele eklendi'"
   ]
  },
  {
   "cell_type": "markdown",
   "id": "4d61f260-ff40-469d-b526-e0f6e65e3ee1",
   "metadata": {},
   "source": [
    "Öte yandan, bu fonksiyon aleni bir üye olduğu için, buna dışarıdan erişmemizin önünde herhangi bir engel yok:"
   ]
  },
  {
   "cell_type": "code",
   "execution_count": null,
   "id": "eab5df53-359a-4e4f-8b5b-75e00578aaf2",
   "metadata": {},
   "outputs": [],
   "source": [
    "ayşe.personele_ekle()\n",
    "\n",
    "'Ayşe adlı kişi personele eklendi'"
   ]
  },
  {
   "cell_type": "markdown",
   "id": "0c6e2ff1-5ba1-46da-87ab-fb70029ea660",
   "metadata": {},
   "source": [
    "Bu fonksiyon sınıf dışından çağrıldığında, kendisini çağıran örnek adını personel listesine tekrar ekleyecektir:\n",
    "\n"
   ]
  },
  {
   "cell_type": "code",
   "execution_count": null,
   "id": "0665e05f-8776-43fa-8ca5-044d7d22fc52",
   "metadata": {},
   "outputs": [],
   "source": [
    "Çalışan.personeli_görüntüle()\n",
    "\n",
    "Ayşe\n",
    "Ayşe"
   ]
  },
  {
   "cell_type": "markdown",
   "id": "97c5e125-5429-43e8-96b6-26ef7e6f8e6d",
   "metadata": {},
   "source": [
    "Yani yukarıdaki komut Ayşe adlı kişiyi personel listesine tekrar ekler. Dolayısıyla bu fonksiyona sınıf dışından erişilmesi son derece mantıksız, son derece yanlış ve hatta son derece kafa karıştırıcıdır. O yüzden, herhangi bir sıkıntı yaşanmasını engellemek amacıyla bu fonksiyonu da bir gizli üye olarak tanımlayabiliriz:\n",
    "\n"
   ]
  },
  {
   "cell_type": "code",
   "execution_count": null,
   "id": "298128ee-2781-43f4-8f21-612c75f46a17",
   "metadata": {},
   "outputs": [],
   "source": [
    "class Çalışan():\n",
    "    __personel = []\n",
    "\n",
    "    def __init__(self, isim):\n",
    "        self.isim = isim\n",
    "        self.kabiliyetleri = []\n",
    "        self.__personele_ekle()\n",
    "\n",
    "    @classmethod\n",
    "    def personel_sayısını_görüntüle(cls):\n",
    "        print(len(cls.__personel))\n",
    "\n",
    "    def __personele_ekle(self):\n",
    "        self.__personel.append(self.isim)\n",
    "        print('{} adlı kişi personele eklendi'.format(self.isim))\n",
    "\n",
    "    @classmethod\n",
    "    def personeli_görüntüle(cls):\n",
    "        print('Personel listesi:')\n",
    "        for kişi in cls.__personel:\n",
    "            print(kişi)\n",
    "\n",
    "    def kabiliyet_ekle(self, kabiliyet):\n",
    "        self.kabiliyetleri.append(kabiliyet)\n",
    "\n",
    "    def kabiliyetleri_görüntüle(self):\n",
    "        print('{} adlı kişinin kabiliyetleri:'.format(self.isim))\n",
    "        for kabiliyet in self.kabiliyetleri:\n",
    "            print(kabiliyet)"
   ]
  },
  {
   "cell_type": "markdown",
   "id": "ddd67f32-3a7e-4ae8-8928-cf217fba39ad",
   "metadata": {},
   "source": [
    "Bu şekilde personele_ekle() fonksiyonunu da dışarıya kapatmış olduk. Artık bu fonksiyon da, olması gerektiği gibi, yalnızca sınıf içinde kullanılabilecek.\n",
    "\n",
    "Yukarıdaki örnekler, bazı durumlarda veri gizlemenin epey işimize yarayabileceğini bariz bir biçimde gösteriyor. Ama elbette, yukarıdaki işlemlerin hiçbiri zorunlu değildir. Yani siz, yazdığınız kodlarda hiçbir sınıf üyesini gizlemek mecburiyetinde değilsiniz. Yukarıda gösterdiğimiz kullanımlar tamamen tercih meselesidir. Zaten birkaç nadir durum dışında, Python’da verilerinizi gizlemek zorunda da kalmazsınız. Ama tabii kendiniz Python’ın bu özelliğinden yararlanmasanız da, sırf bu özellikten yararlanan başka programcıların yazdığı kodları anlayabilmek için bile olsa bu özellikten haberdar olmalısınız.\n",
    "\n",
    "+++++++++++İsim Bulandırma\n",
    "\n",
    "Gelin isterseniz gizli üyelere ilişkin ilginç bir özellikten söz edelim.\n",
    "\n",
    "Python’da ‘gizli’ olarak adlandırdığımız öğeler aslında o kadar da gizli değildir… Çünkü Python’da gerçek anlamda gizli ve dışarıya tamamen kapalı üyeler bulunmaz. Peki bu ne anlama geliyor?\n",
    "\n",
    "Bu şu anlama geliyor: Her ne kadar yukarıdaki örneklerde üyeleri dışarıya kapatmak için kullandığımız alt çizgi işaretleri ilgili değişkeni gizlese de, bunu tamamen erişilmez hale getirmez. Dediğimiz gibi, Python’da gerçek anlamda dışa kapalı sınıf üyeleri bulunmadığı için biz bu üyelere bir şekilde erişme imkanına sahibiz. Peki ama nasıl?\n",
    "\n",
    "Python, kodlar içinde gizli bir üye ile karşılaştığında özel bir ‘isim bulandırma’ (name mangling) işlemi gerçekleştirir ve ilgili gizli üyenin görünüşünü değiştirir. Eğer Python’ın arkaplanda neler çevirdiğini bilirseniz, gizli üyeye de erişebilirsiniz.\n",
    "\n",
    "Örnek sınıfımız şöyleydi:\n",
    "\n"
   ]
  },
  {
   "cell_type": "code",
   "execution_count": null,
   "id": "8f5d978e-28c0-47d6-bca9-0613c03c2560",
   "metadata": {},
   "outputs": [],
   "source": [
    "class Sınıf():\n",
    "    __gizli = 'gizli'\n",
    "\n",
    "    def örnek_metodu(self):\n",
    "        print(self.__gizli)\n",
    "        print('örnek metodu')\n",
    "\n",
    "    @classmethod\n",
    "    def sınıf_metodu(cls):\n",
    "        print('sınıf metodu')\n",
    "\n",
    "    @staticmethod\n",
    "    def statik_metot():\n",
    "        print('statik metot')"
   ]
  },
  {
   "cell_type": "markdown",
   "id": "6c0f8d6e-1791-44d7-9290-1359a319103e",
   "metadata": {},
   "source": [
    "Şimdi, bu sınıf içindeki gizli üyeye erişeceğiz.\n",
    "\n",
    "Dikkatlice bakın:\n",
    "\n"
   ]
  },
  {
   "cell_type": "code",
   "execution_count": null,
   "id": "143eff02-b8c4-4747-a4a6-cc0afd2f6982",
   "metadata": {},
   "outputs": [],
   "source": [
    "import sinif\n",
    "s = sinif.Sınıf()\n",
    "s._Sınıf__gizli\n",
    "\n",
    "'gizli'"
   ]
  },
  {
   "cell_type": "markdown",
   "id": "dc4c300a-27f5-4aa6-9578-44f0a83daada",
   "metadata": {},
   "source": [
    "Ne kadar da tuhaf, değil mi?\n",
    "\n",
    "İşte Python, siz bir sınıf üyesini __gizli şeklinde tanımladığınızda, bu öğe üzerinde şu işlemleri gerçekleştirir:\n",
    "\n",
    "Öncelikle değişkenin baş tarafına bir alt çizgi ekler:\n",
    "\n"
   ]
  },
  {
   "cell_type": "markdown",
   "id": "a6a6868d-6fae-40a3-b2c9-eab0d7ae442d",
   "metadata": {},
   "source": [
    "Daha sonra, bu alt çizginin sağ tarafına bu gizli üyeyi barındıran sınıfın adını iliştirir:"
   ]
  },
  {
   "cell_type": "code",
   "execution_count": null,
   "id": "545f0270-9556-464e-a676-5db9de18774b",
   "metadata": {},
   "outputs": [],
   "source": [
    "_Sınıf"
   ]
  },
  {
   "cell_type": "markdown",
   "id": "9724fa5f-9be7-4c6f-a2c9-aad5ed1cafb0",
   "metadata": {},
   "source": [
    "Son olarak da gizli üyeyi sınıf adının sağ tarafına yapıştırır:"
   ]
  },
  {
   "cell_type": "code",
   "execution_count": null,
   "id": "a090a50a-5397-4d4a-a32e-06d7c5a0dab0",
   "metadata": {},
   "outputs": [],
   "source": [
    "_Sınıf__gizli"
   ]
  },
  {
   "cell_type": "markdown",
   "id": "eead2f1c-e88f-43e4-96dd-6a45c5cb533e",
   "metadata": {},
   "source": [
    "Dolayısıyla _Sınıf__gizli kodunu kullanarak, __gizli adlı üyeye sınıf dışından erişebilirsiniz.\n",
    "\n",
    "Pratik olması bakımından bir örnek daha verelim. Mesela şu örneği ele alalım:"
   ]
  },
  {
   "cell_type": "code",
   "execution_count": null,
   "id": "f3fb31dd-1c6a-4da4-8ccf-b35651275ace",
   "metadata": {},
   "outputs": [],
   "source": [
    "class Çalışan():\n",
    "    __personel = []\n",
    "\n",
    "    def __init__(self, isim):\n",
    "        self.isim = isim\n",
    "        self.kabiliyetleri = []\n",
    "        self.__personele_ekle()\n",
    "\n",
    "    @classmethod\n",
    "    def personel_sayısını_görüntüle(cls):\n",
    "        print(len(cls.__personel))\n",
    "\n",
    "    def __personele_ekle(self):\n",
    "        self.__personel.append(self.isim)\n",
    "        print('{} adlı kişi personele eklendi'.format(self.isim))\n",
    "\n",
    "    @classmethod\n",
    "    def personeli_görüntüle(cls):\n",
    "        print('Personel listesi:')\n",
    "        for kişi in cls.__personel:\n",
    "            print(kişi)\n",
    "\n",
    "    def kabiliyet_ekle(self, kabiliyet):\n",
    "        self.kabiliyetleri.append(kabiliyet)\n",
    "\n",
    "    def kabiliyetleri_görüntüle(self):\n",
    "        print('{} adlı kişinin kabiliyetleri:'.format(self.isim))\n",
    "        for kabiliyet in self.kabiliyetleri:\n",
    "            print(kabiliyet)\n"
   ]
  },
  {
   "cell_type": "markdown",
   "id": "a2212ba6-b8d7-40c5-9455-f835c8c706ad",
   "metadata": {},
   "source": [
    "Burada __personele_ekle() adlı fonksiyon bir gizli üyedir. Dolayısıyla buna dışarıdan normal yöntemlerle erişemeyiz.\n",
    "\n",
    "Bunu test etmek için önce gerekli verileri oluşturalım:"
   ]
  },
  {
   "cell_type": "code",
   "execution_count": null,
   "id": "09ce2207-cf2f-45e2-969e-c00a6095dc14",
   "metadata": {},
   "outputs": [],
   "source": [
    "from calisan import Çalışan\n",
    "ahmet = Çalışan('Ahmet')\n",
    "\n",
    "Ahmet adlı kişi personele eklendi."
   ]
  },
  {
   "cell_type": "markdown",
   "id": "deb62c14-f273-4a9b-b255-dbe844b5301f",
   "metadata": {},
   "source": [
    "Şimdi ahmet örneği üzerinden bu gizli üyeye erişmeye çalışalım:\n",
    "\n"
   ]
  },
  {
   "cell_type": "code",
   "execution_count": null,
   "id": "1bb2f193-a325-4c5e-99af-ed13dfdba389",
   "metadata": {},
   "outputs": [],
   "source": [
    "ahmet.__personele_ekle()\n",
    "\n",
    "Traceback (most recent call last):\n",
    "  File \"<stdin>\", line 1, in <module>\n",
    "AttributeError: 'Çalışan' object has no attribute '__personele_ekle'"
   ]
  },
  {
   "cell_type": "markdown",
   "id": "40d2cb31-c0ca-41a2-b0a5-e4eec528223a",
   "metadata": {},
   "source": [
    "Gördüğünüz gibi, Python bu üyeye normal yollardan erişmemize izin vermiyor. Ama biz biliyoruz ki, Python bu üyeyi gizlerken özel bir isim bulandırma işlemi gerçekleştiriyor. Bu bulandırma işleminin nasıl gerçekleştirildiğini bildiğimize göre gizli üyeye erişebiliriz.\n",
    "\n",
    "Öncelikle örneğimizin adını yazalım. Zira gizli üyeye bu ad üzerinden erişeceğiz:\n",
    "\n"
   ]
  },
  {
   "cell_type": "code",
   "execution_count": null,
   "id": "88ab8c06-ea2a-470f-99b7-636672d33331",
   "metadata": {},
   "outputs": [],
   "source": [
    "ahmet.\n"
   ]
  },
  {
   "cell_type": "markdown",
   "id": "04b8d04d-1604-4f1b-8c13-9026e729db81",
   "metadata": {},
   "source": [
    "Şimdi bulandırma işlemini uygulamaya geçebiliriz.\n",
    "\n",
    "Öncelikle bir alt çizgi ekleyelim:"
   ]
  },
  {
   "cell_type": "code",
   "execution_count": null,
   "id": "e8c4abbb-4d08-4667-b006-ca23b7bcffd0",
   "metadata": {},
   "outputs": [],
   "source": [
    "ahmet._"
   ]
  },
  {
   "cell_type": "markdown",
   "id": "e71444b4-56b8-45ce-8da3-8b869d19aa2e",
   "metadata": {},
   "source": [
    "Daha sonra sınıf adını iliştirelim:"
   ]
  },
  {
   "cell_type": "code",
   "execution_count": null,
   "id": "296dabc3-e2c8-47b4-850c-463d4862ae99",
   "metadata": {},
   "outputs": [],
   "source": [
    "ahmet._Çalışan"
   ]
  },
  {
   "cell_type": "markdown",
   "id": "e196417f-bd8b-49f8-b7e9-09fad4aa304e",
   "metadata": {},
   "source": [
    "Son olarak da gizli üyenin kendisini yazalım:"
   ]
  },
  {
   "cell_type": "code",
   "execution_count": null,
   "id": "72401e40-7612-465b-8843-7b82e03c0133",
   "metadata": {},
   "outputs": [],
   "source": [
    "ahmet._Çalışan__personele_ekle()\n",
    "\n",
    "Ahmet adlı kişi personele eklendi."
   ]
  },
  {
   "cell_type": "markdown",
   "id": "824328f2-15af-4bb2-9219-e7209e17f1f3",
   "metadata": {},
   "source": [
    "Gayet başarılı…\n",
    "\n",
    "Yalnız buraya şöyle bir not düşelim: Her ne kadar Python bize gizli üyelere erişme imkanı sunsa da, başkasının yazdığı kodları kullanırken, o kodlardaki gizli üyelere erişmeye çalışmamak çoğu zaman iyi bir fikirdir. Nihayetinde eğer bir programcı, bir sınıf üyesini gizlemişse bunun bir nedeni vardır. Eğer erişmenizin istenmediği bir üyeye erişirseniz ve bunun sonucunda birtakım sorunlarla karşılaşırsanız bu durum o programı yazan programcının değil, tamamen sizin kabahatinizdir. Python programcılarının da sık sık söylediği gibi: ‘Neticede hepimiz, doğruyu yanlışı bilen, yetişkin insanlarız.’\n",
    "\n",
    "+++++++++++Yarı-gizli Üyeler\n",
    "\n",
    "Buraya kadar Python’a dair anlattığımız şeylerden, yerleşmiş adetlerin ve geleneklerin Python açısından ne kadar önemli olduğunu anlamış olmalısınız. Daha önce verdiğimiz örnekler, bu dildeki pek çok meselenin uzlaşma esası üzerinden çözüme kavuşturulduğunu bize açık ve seçik olarak gösterdi. Mesela geçen bölümlerde ele aldığımız self ve cls kelimeleri tamamen uzlaşmaya dayalı kavramlardır. Python topluluğu içinde, self kelimesinin örnek metotları için, cls kelimesinin ise sınıf metotları için kullanılması tamamen bir alışkanlık, adet, gelenek ve uzlaşı meselesidir. Python’ın kendisi bize bu kelimeleri dayatmaz. Ancak topluluk içinde süregelen kuvvetli gelenekler bizi başka kelimeleri değil de yukarıdaki kelimeleri kullanmaya teşvik eder. Aynı şekilde kod yazarken girinti sayısının dört boşluk olarak belirlenmiş olması da bir gelenekten ibarettir. Yazdığınız kodlarda, aynı program içinde hep aynı sayıda olmak şartıyla, istediğiniz sayıda boşluktan oluşan girintiler kullanabilirsiniz. Ama Python’ın topluluk içi gelenekleri bizi dört boşlukluk bir girintileme sistemi kullanmaya yöneltir.\n",
    "\n",
    "İşte tıpkı yukarıdakiler gibi, Python’daki sınıf üyelerinin dışa açık veya dışa kapalı olup olmaması da hep belli birtakım gelenekler üzerinden belirlenen bir durumdur.\n",
    "\n",
    "Bunun bir örneğini, yukarıda gizli üyeleri anlatırken vermiştik. Bir sınıf içindeki herhangi bir niteliğin başında çift alt çizgi gördüğümüzde, o sınıfı yazan kişinin, bu niteliğe sınıf dışından erişilmesini istemediğini anlıyoruz. Python her ne kadar nitelikleri gizlememiz için bize özel bir mekanizma sunmuş olsa da bu niteliğe erişmemizi tamamen engellemiyor, ancak ilgili sınıfı yazan kişinin niyetine saygı göstereceğimizi varsayıyor.\n",
    "\n",
    "Python’da sınıf üyelerinin gizliliği, yukarıda da gördüğümüz gibi, hem özel bir mekanizma ile hem de topluluk içi gelenekler tarafından korunur.\n",
    "\n",
    "Python’da bir de yalnızca topluluk içi gelenekler tarafından korunan ‘yarı-gizli’ üyeler (semi-private members) vardır. İşte bu bölümde, bir gizli üye türü olan yarı-gizli üyelerden söz edeceğiz.\n",
    "\n",
    "Yarı-gizli üyeler, herhangi bir özel mekanizma aracılığıyla değil de yalnızca topluluk içi gelenekler tarafından korunan niteliklerdir. Herhangi bir üyeyi yarı-gizli olarak işaretlemek için yapmamız gereken tek şey başına bir adet alt çizgi yerleştirmektir. Örneğin:"
   ]
  },
  {
   "cell_type": "code",
   "execution_count": null,
   "id": "3628ab7d-21ce-4124-8140-f4f3334d659d",
   "metadata": {},
   "outputs": [],
   "source": [
    "class Falanca():\n",
    "    _yarıgizli = 'yarıgizli'"
   ]
  },
  {
   "cell_type": "markdown",
   "id": "1b8932b0-d836-4a26-929e-a40d32590cb3",
   "metadata": {},
   "source": [
    "Buradaki _yarıgizli adlı niteliğe sınıf içinden veya dışından erişmemizi engelleyen veya zorlaştıran hiçbir mekanizma bulunmaz. Ama biz bir sınıf içinde tek alt çizgi ile başlayan bir öğe gördüğümüzde, bunun sınıfın iç işleyişine ilişkin bir ayrıntı olduğunu, sınıf dışından bu öğeyi değiştirmeye kalkışmamamız gerektiğini anlarız.\n",
    "\n",
    "++++++++++++@property Bezeyicisi\n",
    "\n",
    "Yukarıda aleni, gizli ve yarı-gizli sınıf üyelerinden söz ettik. İsterseniz özellikle yarı-gizli öğelerin kullanıldığı bir kod örneği vererek yukarıda anlattıklarımızı somut bir örnek üzerinden netleştirmeye çalışalım.\n",
    "\n",
    "Diyelim ki şöyle bir kod yazdık:\n",
    "\n"
   ]
  },
  {
   "cell_type": "code",
   "execution_count": null,
   "id": "85a0bbbb-7d16-45f5-92d8-f6f55356fb7e",
   "metadata": {},
   "outputs": [],
   "source": [
    "class Çalışan():\n",
    "    personel = []\n",
    "\n",
    "    def __init__(self, isim):\n",
    "        self.isim = isim\n",
    "        self.personele_ekle()\n",
    "\n",
    "    def personele_ekle(self):\n",
    "        self.personel.append(self.isim)\n",
    "        print('{} adlı kişi personele eklendi'.format(self.isim))\n",
    "\n",
    "    @classmethod\n",
    "    def personeli_görüntüle(cls):\n",
    "        print('Personel listesi:')\n",
    "        for kişi in cls.personel:\n",
    "            print(kişi)"
   ]
  },
  {
   "cell_type": "markdown",
   "id": "9b2ece3c-8342-4ddd-a00a-da3ffb146150",
   "metadata": {},
   "source": [
    "Burada personel veritabanına kişi eklememizi ve veritabanındaki kişileri görüntülememizi sağlayan birtakım metotlar var.\n",
    "\n",
    "Bu metotları şöyle kullanıyoruz:\n",
    "\n"
   ]
  },
  {
   "cell_type": "code",
   "execution_count": null,
   "id": "6840da90-01f4-42fe-be7b-97871d01b1c5",
   "metadata": {},
   "outputs": [],
   "source": [
    "from calisan import Çalışan\n",
    "ç1 = Çalışan('Ahmet')\n",
    "\n",
    "Ahmet adlı kişi personele eklendi\n",
    "\n",
    "ç2 = Çalışan('Mehmet')\n",
    "\n",
    "Mehmet adlı kişi personele eklendi\n",
    "\n",
    "Çalışan.personeli_görüntüle()\n",
    "\n",
    "Personel listesi:\n",
    "Ahmet\n",
    "Mehmet"
   ]
  },
  {
   "cell_type": "markdown",
   "id": "b1164d90-54c4-4030-a8e2-3c9938f926a5",
   "metadata": {},
   "source": [
    "Peki eğer kodlarımızı kullananlar personel listesindeki bir kişinin ismini sonradan değiştirmek isterse ne yapacak?\n",
    "\n",
    "Kodlarımız içinde, isim değişikliği yapılmasını sağlayan özel bir metot yok. Dolayısıyla kodlarımızı kullananlar, doğrudan isim adlı örnek değişkenine erişerek isim değişikliğini şu şekilde yapabilir:\n",
    "\n"
   ]
  },
  {
   "cell_type": "code",
   "execution_count": null,
   "id": "0910f64d-3e2f-4a9d-96b6-16245eb9e83c",
   "metadata": {},
   "outputs": [],
   "source": [
    "ç1.isim = 'Selim'"
   ]
  },
  {
   "cell_type": "markdown",
   "id": "25f51119-566a-4d83-9493-f5e10b611f12",
   "metadata": {},
   "source": [
    "Bu şekilde ‘Ahmet’ adlı kişinin ismini değiştirdik. Bunu teyit edelim:\n",
    "\n"
   ]
  },
  {
   "cell_type": "code",
   "execution_count": null,
   "id": "f7af5b1d-984d-42c5-8ae8-53411d77fe0b",
   "metadata": {},
   "outputs": [],
   "source": [
    "print(ç1.isim)\n",
    "\n",
    "Selim"
   ]
  },
  {
   "cell_type": "markdown",
   "id": "f714fecd-f91c-4511-be60-593cb32131ee",
   "metadata": {},
   "source": [
    "Ancak burada şöyle bir sorun var. Bu isim değişikliği personel listesine yansımadı. Kontrol edelim:\n",
    "\n"
   ]
  },
  {
   "cell_type": "code",
   "execution_count": null,
   "id": "6bb3e0f5-1bec-4f74-9bf6-d12a5bd67e00",
   "metadata": {},
   "outputs": [],
   "source": [
    "Çalışan.personeli_görüntüle()\n",
    "\n",
    "Personel listesi:\n",
    "Ahmet\n",
    "Mehmet"
   ]
  },
  {
   "cell_type": "markdown",
   "id": "42d19f13-1d47-401d-ab10-4522b11a4b1c",
   "metadata": {},
   "source": [
    "Gördüğünüz gibi, ‘Ahmet’ ismi hâlâ orada duruyor. Bu sorunu gidermek için, personel listesine de müdahale edilmesi gerekir:"
   ]
  },
  {
   "cell_type": "code",
   "execution_count": null,
   "id": "a5ec6c2c-513f-4683-9690-9bbb14ba7fbb",
   "metadata": {},
   "outputs": [],
   "source": [
    "kişi = Çalışan.personel.index('Ahmet')\n",
    "Çalışan.personel[kişi] = 'Selim'"
   ]
  },
  {
   "cell_type": "markdown",
   "id": "c5e605ca-8bd7-47a2-9461-f0cdab092733",
   "metadata": {},
   "source": [
    "Burada öncelikle listelerin index() metodunu kullanarak, değiştirmek istediğimiz kişinin personel listesindeki sırasını bulduk. Daha sonra da bu bilgiyi kullanarak listede gerekli değişikliği yaptık.\n",
    "\n",
    "Personel listesini tekrar kontrol ettiğimizde her şeyin yolunda olduğunu görebiliriz:\n",
    "\n"
   ]
  },
  {
   "cell_type": "code",
   "execution_count": null,
   "id": "859aeb55-5f21-4e8c-bc6d-cc0dbb2a27c6",
   "metadata": {},
   "outputs": [],
   "source": [
    "Çalışan.personeli_görüntüle()\n",
    "\n",
    "Personel listesi:\n",
    "Selim\n",
    "Mehmet"
   ]
  },
  {
   "cell_type": "markdown",
   "id": "c5cfbac8-4af6-44af-9f67-46f0f1e3ff5c",
   "metadata": {},
   "source": [
    "Ancak bunun hiç kullanışlı bir yöntem olmadığı çok açık. Basit bir isim değişikliği için, kullanıcılarımız bir sürü kod yazmak zorunda kalıyor. Kullanıcılarımızın hayatını kolaylaştırmak için onlara pratik bir metot sunabiliriz:"
   ]
  },
  {
   "cell_type": "code",
   "execution_count": null,
   "id": "4e1bf1fb-4218-461e-bc6b-27a2f4aca663",
   "metadata": {},
   "outputs": [],
   "source": [
    "class Çalışan():\n",
    "    personel = []\n",
    "\n",
    "    def __init__(self, isim):\n",
    "        self.isim = isim\n",
    "        self.personele_ekle()\n",
    "\n",
    "    def personele_ekle(self):\n",
    "        self.personel.append(self.isim)\n",
    "        print('{} adlı kişi personele eklendi'.format(self.isim))\n",
    "\n",
    "    @classmethod\n",
    "    def personeli_görüntüle(cls):\n",
    "        print('Personel listesi:')\n",
    "        for kişi in cls.personel:\n",
    "            print(kişi)\n",
    "\n",
    "    def isim_değiştir(self, yeni_isim):\n",
    "        kişi = self.personel.index(self.isim)\n",
    "        self.personel[kişi] = yeni_isim\n",
    "        print('yeni isim:', yeni_isim)"
   ]
  },
  {
   "cell_type": "markdown",
   "id": "d7bbeaa4-59a9-438f-94f9-3d0461cda53b",
   "metadata": {},
   "source": [
    "Burada isim_değiştir() adlı yeni bir fonksiyon tanımladık. Artık kodlarımızdan istifade edenler yalnızca bu yeni fonksiyonu kullanarak, personele önceden ekledikleri kişilerin ismini kolayca değiştirebilir:"
   ]
  },
  {
   "cell_type": "code",
   "execution_count": null,
   "id": "ec87bc97-3d5c-406f-96e3-f6305550369d",
   "metadata": {},
   "outputs": [],
   "source": [
    "from calisan import Çalışan\n",
    "ç1 = Çalışan('Ahmet')\n",
    "ç2 = Çalışan('Mehmet')\n",
    "ç3 = Çalışan('Selim')\n",
    "Çalışan.personeli_görüntüle()\n",
    "\n",
    "Personel listesi:\n",
    "Ahmet\n",
    "Mehmet\n",
    "Selim\n",
    "\n",
    "ç1.isim_değiştir('Emre')\n",
    "\n",
    "yeni isim: Emre\n",
    "\n",
    "Çalışan.personeli_görüntüle()\n",
    "\n",
    "Personel listesi:\n",
    "\n",
    "Emre\n",
    "Mehmet\n",
    "Selim"
   ]
  },
  {
   "cell_type": "markdown",
   "id": "cd152b9b-84cc-47e9-a4ef-0f26b1211e76",
   "metadata": {},
   "source": [
    "Gördüğünüz gibi, kodlarımız gayet güzel çalışıyor. Bu noktadan sonra, eğer arzu ederseniz, kullanıcılarınızın personel ve self.isim adlı değişkenlere doğrudan erişmesini engellemek için bunları tek alt çizgi veya çift alt çizgi kullanarak gizleyebilirsiniz.\n",
    "\n",
    "Çift alt çizgi ile:"
   ]
  },
  {
   "cell_type": "code",
   "execution_count": null,
   "id": "7898137f-ee54-428e-935d-059238aba0e9",
   "metadata": {},
   "outputs": [],
   "source": [
    "class Çalışan():\n",
    "    __personel = []\n",
    "\n",
    "    def __init__(self, isim):\n",
    "        self.__isim = isim\n",
    "        self.personele_ekle()\n",
    "\n",
    "    def personele_ekle(self):\n",
    "        self.__personel.append(self.__isim)\n",
    "        print('{} adlı kişi personele eklendi'.format(self.__isim))\n",
    "\n",
    "    @classmethod\n",
    "    def personeli_görüntüle(cls):\n",
    "        print('Personel listesi:')\n",
    "        for kişi in cls.__personel:\n",
    "            print(kişi)\n",
    "\n",
    "    def isim_değiştir(self, yeni_isim):\n",
    "        kişi = self.__personel.index(self.__isim)\n",
    "        self.__personel[kişi] = yeni_isim\n",
    "        print('yeni isim: ', yeni_isim)"
   ]
  },
  {
   "cell_type": "markdown",
   "id": "e6b0cdf9-fb5c-4104-ac48-7d15e68d7690",
   "metadata": {},
   "source": [
    "Tek alt çizgi ile:"
   ]
  },
  {
   "cell_type": "code",
   "execution_count": null,
   "id": "7639257f-5d82-471c-8b4f-032f3081d0f1",
   "metadata": {},
   "outputs": [],
   "source": [
    "class Çalışan():\n",
    "    _personel = []\n",
    "\n",
    "    def __init__(self, isim):\n",
    "        self._isim = isim\n",
    "        self.personele_ekle()\n",
    "\n",
    "    def personele_ekle(self):\n",
    "        self._personel.append(self._isim)\n",
    "        print('{} adlı kişi personele eklendi'.format(self._isim))\n",
    "\n",
    "    @classmethod\n",
    "    def personeli_görüntüle(cls):\n",
    "        print('Personel listesi:')\n",
    "        for kişi in cls._personel:\n",
    "            print(kişi)\n",
    "\n",
    "    def isim_değiştir(self, yeni_isim):\n",
    "        kişi = self._personel.index(self._isim)\n",
    "        self._personel[kişi] = yeni_isim\n",
    "        print('yeni isim: ', yeni_isim)"
   ]
  },
  {
   "cell_type": "markdown",
   "id": "143333b6-c4c2-4fb6-a171-9f6290187f24",
   "metadata": {},
   "source": [
    "personel ve self.isim adlı nitelikleri çift alt çizgi ile gizlediğimizde Python’ın isim bulandırma mekanizmasını işleteceğini, tek alt çizgi ile gizlediğimizde ise bu mekanizmanın işletilmeyeceğini biliyorsunuz.\n",
    "\n",
    "Peki size şöyle bir soru sorayım:\n",
    "\n",
    "Acaba, personel listesindeki bir ismi, mesela yalnızca şöyle bir komut vererek değiştiremez miyiz?"
   ]
  },
  {
   "cell_type": "code",
   "execution_count": null,
   "id": "c0fb1337-f0fa-4d1f-bee8-e606698db5ec",
   "metadata": {},
   "outputs": [],
   "source": [
    "ç1.isim = 'Emre'\n"
   ]
  },
  {
   "cell_type": "markdown",
   "id": "385082ae-fcfe-4947-a5f5-f800a6511bb1",
   "metadata": {},
   "source": [
    "Elbette değiştirebiliriz. Ancak bunun için özel bir araçtan yararlanmamız gerekir. Bu iş için @property adlı özel bir bezeyiciyi kullanacağız.\n",
    "\n",
    "Dikkatlice bakın:"
   ]
  },
  {
   "cell_type": "code",
   "execution_count": null,
   "id": "bd337dbb-58dd-49c9-b244-682625862c52",
   "metadata": {},
   "outputs": [],
   "source": [
    "class Çalışan():\n",
    "    _personel = []\n",
    "\n",
    "    def __init__(self, isim):\n",
    "        self._isim = isim\n",
    "        self.personele_ekle()\n",
    "\n",
    "    def personele_ekle(self):\n",
    "        self._personel.append(self._isim)\n",
    "        print('{} adlı kişi personele eklendi'.format(self._isim))\n",
    "\n",
    "    @classmethod\n",
    "    def personeli_görüntüle(cls):\n",
    "        print('Personel listesi:')\n",
    "        for kişi in cls._personel:\n",
    "            print(kişi)\n",
    "\n",
    "    @property\n",
    "    def isim(self):\n",
    "        return self._isim\n",
    "\n",
    "    @isim.setter\n",
    "    def isim(self, yeni_isim):\n",
    "        kişi = self._personel.index(self.isim)\n",
    "        self._personel[kişi] = yeni_isim\n",
    "        print('yeni isim: ', yeni_isim)"
   ]
  },
  {
   "cell_type": "markdown",
   "id": "4c600995-2196-44d2-93ed-6392ed3b5856",
   "metadata": {},
   "source": [
    "Bu kodları çalıştırdığınızda, tıpkı yukarıda bahsettiğimiz gibi, herhangi bir çalışanın ismini yalnızca şu şekilde değiştirebildiğinizi göreceksiniz:"
   ]
  },
  {
   "cell_type": "code",
   "execution_count": null,
   "id": "4fc76525-3023-4c1c-a4d4-77eaa1f032b2",
   "metadata": {},
   "outputs": [],
   "source": [
    "ç1.isim = 'Emre'"
   ]
  },
  {
   "cell_type": "markdown",
   "id": "a7e52d5d-416b-493e-88f7-a17ff26c025f",
   "metadata": {},
   "source": [
    "Üstelik bu kod, isim değişikliğinin personel listesine de yansımasını sağlıyor:\n",
    "\n"
   ]
  },
  {
   "cell_type": "code",
   "execution_count": null,
   "id": "0f4f6706-95b3-4fa9-b8e0-ffc67cb4fc34",
   "metadata": {},
   "outputs": [],
   "source": [
    "Çalışan.personeli_görüntüle()\n",
    "Emre"
   ]
  },
  {
   "cell_type": "markdown",
   "id": "6121bb7e-517f-4aff-827a-dbb91ea77ee3",
   "metadata": {},
   "source": [
    "Birazdan bu kodları derinlemesine inceleyeceğiz. Ama isterseniz öncelikle şu @property bezeyicisinden biraz söz edelim. Böylelikle yukarıdaki kodları anlamamız kolaylaşır.\n",
    "\n",
    "++++++++++++Metottan Niteliğe\n",
    "\n",
    "Şimdiye kadar verdiğimiz örneklerden anlamış olabileceğiniz gibi, bir sınıf içinde salt verileri tutan değişkenlere ‘nitelik’ adı veriyoruz. Mesela:"
   ]
  },
  {
   "cell_type": "code",
   "execution_count": null,
   "id": "36bffde5-8050-4089-a91e-0adc28ab743d",
   "metadata": {},
   "outputs": [],
   "source": [
    "class Falanca():\n",
    "    nitelik = 'nitelik'\n",
    "\n",
    "    def __init__(self):\n",
    "        self.nitelik = 'nitelik'"
   ]
  },
  {
   "cell_type": "markdown",
   "id": "40fb5181-2470-475a-b8e0-b4c25a04acf1",
   "metadata": {},
   "source": [
    "Burada nitelik bir sınıf niteliği, self.nitelik ise bir örnek niteliğidir.\n",
    "\n",
    "Buna karşılık, bir sınıf içinde fonksiyon biçiminde yer alan ve bir işlemi veya prosedürü yerine getiren öğelere ise metot adı veriyoruz. Mesela:\n",
    "\n"
   ]
  },
  {
   "cell_type": "code",
   "execution_count": null,
   "id": "240abffa-6437-4cc0-9ad1-a4cd4614161d",
   "metadata": {},
   "outputs": [],
   "source": [
    "class Falanca():\n",
    "    def __init__(self):\n",
    "        pass\n",
    "\n",
    "    def örnek_fonk(self):\n",
    "        pass\n",
    "\n",
    "    @classmethod\n",
    "    def sınıf_fonk(cls):\n",
    "        pass\n",
    "\n",
    "    @staticmethod\n",
    "    def statik_fonk():\n",
    "        pass"
   ]
  },
  {
   "cell_type": "markdown",
   "id": "a14619ef-c27a-4631-ac8c-3e107a679b20",
   "metadata": {},
   "source": [
    "Burada örnek_fonk() adlı fonksiyon bir örnek metodu, sınıf_fonk() adlı fonksiyon bir sınıf metodu, statik_fonk() adlı fonksiyon ise bir statik metottur. Metotlar ile niteliklerin gerçekleştirebilecekleri işlemlerin karmaşıklığının birbirinden farklı olmasının yanı sıra, bunlar arasında kullanım açısından da farklılık vardır. Mesela Falanca() sınıfı içindeki nitelik adlı sınıf niteliğini şu şekilde kullanıyoruz:\n",
    "\n"
   ]
  },
  {
   "cell_type": "code",
   "execution_count": null,
   "id": "e4ad048e-3407-49bd-b09f-2230740ea8a1",
   "metadata": {},
   "outputs": [],
   "source": [
    "Falanca.nitelik\n",
    "Falanca.nitelik = 'yeni değer'"
   ]
  },
  {
   "cell_type": "markdown",
   "id": "36e2a88a-3e7f-46f3-9ebc-80238cd4b5f5",
   "metadata": {},
   "source": [
    "Aynı sınıf içindeki sınıf_fonk() adlı sınıf metoduna ise şöyle erişiyoruz:\n",
    "\n"
   ]
  },
  {
   "cell_type": "code",
   "execution_count": null,
   "id": "eb649a3e-fe1e-430d-ab50-ae03e21ecd5d",
   "metadata": {},
   "outputs": [],
   "source": [
    "Falanca.sınıf_fonk()"
   ]
  },
  {
   "cell_type": "markdown",
   "id": "6881a469-77f3-4cab-96cc-342c49c0b65e",
   "metadata": {},
   "source": [
    "Niteliklerin aksine, metotlarda atama yoluyla değer değiştirme gibi bir şey söz konusu değildir. Yani şuna benzer bir şey yazamayız:"
   ]
  },
  {
   "cell_type": "code",
   "execution_count": null,
   "id": "20a4036c-2375-4fcd-8a7d-113c60b6c54b",
   "metadata": {},
   "outputs": [],
   "source": [
    "Falanca.sınıf_fonk() = 'yeni değer'"
   ]
  },
  {
   "cell_type": "markdown",
   "id": "89c9ccd1-9ec6-4cdc-a369-5402eb95ee73",
   "metadata": {},
   "source": [
    "Eğer metot bir parametre alıyorsa (yukarıdaki örneklerde metotlar parametre almıyor), bu parametreyi kullanarak metotla iletişim kurabiliriz. Mesela:\n",
    "\n"
   ]
  },
  {
   "cell_type": "code",
   "execution_count": null,
   "id": "e1e637ce-089b-479f-b3b3-4f36a4949b67",
   "metadata": {},
   "outputs": [],
   "source": [
    "Falanca.sınıf_fonk(yeni_değer)"
   ]
  },
  {
   "cell_type": "markdown",
   "id": "29f426e6-09ea-4773-9c49-14f50a3fa163",
   "metadata": {},
   "source": [
    "Property kelimesi (attribute kelimesine benzer bir şekilde) İngilizcede ‘özellik, nitelik’ gibi anlamlara gelir. Kelime anlamına uygun olarak, @property bezeyicisinin yaptığı en temel iş, bir metodu, nitelik gibi kullanılabilecek hale getirmektir. Çok basit bir örnek verelim:"
   ]
  },
  {
   "cell_type": "code",
   "execution_count": null,
   "id": "f14b9095-1376-4c3e-8c0c-3513f09f8aa1",
   "metadata": {},
   "outputs": [],
   "source": [
    "class Program():\n",
    "    def __init__(self):\n",
    "        pass\n",
    "\n",
    "    def versiyon(self):\n",
    "        return '0.1'"
   ]
  },
  {
   "cell_type": "markdown",
   "id": "b2823ea5-a50d-4074-a810-f91ee593e19d",
   "metadata": {},
   "source": [
    "Burada versiyon() adlı bir örnek metodu tanımladık. Bu programı şöyle kullanıyoruz:\n",
    "\n"
   ]
  },
  {
   "cell_type": "code",
   "execution_count": null,
   "id": "cb4de16c-dff0-4cec-9428-ebb2fef50d3f",
   "metadata": {},
   "outputs": [],
   "source": [
    "program = Program()\n",
    "program.versiyon()\n",
    "\n",
    "'0.1'"
   ]
  },
  {
   "cell_type": "markdown",
   "id": "c0cc1a45-b439-42f1-b1b7-45965c87a3fc",
   "metadata": {},
   "source": [
    "Şimdi programımızda şu değişikliği yapalım:"
   ]
  },
  {
   "cell_type": "code",
   "execution_count": null,
   "id": "ff2e7518-db1d-45a6-9e1f-3e5b2db9e234",
   "metadata": {},
   "outputs": [],
   "source": [
    "class Program():\n",
    "    def __init__(self):\n",
    "        pass\n",
    "\n",
    "    @property\n",
    "    def versiyon(self):\n",
    "        return '0.1'"
   ]
  },
  {
   "cell_type": "markdown",
   "id": "1c3f11d6-34fe-4070-805c-d0a42c1d5432",
   "metadata": {},
   "source": [
    "Burada versiyon() adlı metodu @property bezeyicisi ile ‘bezedik’. Böylece bu metodu bir ‘nitelik’ haline getirmiş olduk. Artık bunu şöyle kullanabiliriz:\n",
    "\n"
   ]
  },
  {
   "cell_type": "code",
   "execution_count": null,
   "id": "086d9e9e-6c33-4bf1-a547-2a757498e353",
   "metadata": {},
   "outputs": [],
   "source": [
    "program = Program()\n",
    "program.versiyon\n",
    "\n",
    "'0.1'"
   ]
  },
  {
   "cell_type": "markdown",
   "id": "4dbccd6a-4517-4c6c-8c6a-f762da54d08a",
   "metadata": {},
   "source": [
    "versiyon() fonksiyonunu, @property bezeyicisi yardımıyla bir niteliğe dönüştürdüğümüz için, artık bu fonksiyonu parantezsiz kullandığımıza dikkat edin.\n",
    "\n",
    "Gördüğünüz gibi, @property bezeyicisinin ilk görevi bir metodu niteliğe dönüştürmek. Peki acaba neden bir metodu niteliğe dönüştürmek istiyor olabiliriz?\n",
    "\n",
    "Şöyle bir program yazdığınızı düşünün:"
   ]
  },
  {
   "cell_type": "code",
   "execution_count": null,
   "id": "cac6a3cf-a821-4b44-84e8-3ca0365b4046",
   "metadata": {},
   "outputs": [],
   "source": [
    "class Program():\n",
    "    def __init__(self):\n",
    "        self.data = 0"
   ]
  },
  {
   "cell_type": "markdown",
   "id": "292559cd-3eca-430e-a008-3f76aaf1efd4",
   "metadata": {},
   "source": [
    "Yazdığınız bu programı kullananlar, sınıf içindeki data niteliğine şu şekilde erişiyor:\n",
    "\n"
   ]
  },
  {
   "cell_type": "code",
   "execution_count": null,
   "id": "a06d6215-cdfe-41d2-b6de-115c5a86ed49",
   "metadata": {},
   "outputs": [],
   "source": [
    "p = Program()\n",
    "p.data\n",
    "\n",
    "0"
   ]
  },
  {
   "cell_type": "markdown",
   "id": "f4402a18-a1d0-4ba3-87bd-c54f04e76202",
   "metadata": {},
   "source": [
    "Hatta duruma göre bu niteliği şu şekilde değişikliğe de uğratıyor:"
   ]
  },
  {
   "cell_type": "code",
   "execution_count": null,
   "id": "e35291ec-d5fe-460d-bc09-882248bc4eaa",
   "metadata": {},
   "outputs": [],
   "source": [
    "p.data = 1\n"
   ]
  },
  {
   "cell_type": "markdown",
   "id": "04fe44c4-de8d-45a5-bbd5-5e154d27c78c",
   "metadata": {},
   "source": [
    "Günün birinde, ‘data’ kelimesi yerine ‘veri’ kelimesinin daha uygun olduğunu düşünerek, ‘data’ kelimesini ‘veri’ olarak değiştirmek istediğinizi varsayalım. Bunun için kodlarınızda şu değişikliği yapabilirsiniz:"
   ]
  },
  {
   "cell_type": "code",
   "execution_count": null,
   "id": "e1bf02ee-dad9-4cd0-9611-a1983821c6e9",
   "metadata": {},
   "outputs": [],
   "source": [
    "class Program():\n",
    "    def __init__(self):\n",
    "        self.veri = 0"
   ]
  },
  {
   "cell_type": "markdown",
   "id": "00bcd05c-7f6f-4199-8801-f9052a0cec4d",
   "metadata": {},
   "source": [
    "Ancak bu şekilde, programınızı eskiden beri kullananların, sizin yazdığınız bu programı temel alarak oluşturdukları programları bozmuş oldunuz… Çünkü eğer bu programdan faydalanan birisi, yazdığı kodda eski self.data değişkenini kullanmışsa, yukarıdaki isim değişikliği yüzünden programı kullanılamaz hale gelecektir. İşte bunu önlemek için @property bezeyicisini kullanabilirsiniz.\n",
    "\n",
    "Dikkatlice bakın:"
   ]
  },
  {
   "cell_type": "code",
   "execution_count": null,
   "id": "58bbc6ea-de12-461b-8c12-df600d37197e",
   "metadata": {},
   "outputs": [],
   "source": [
    "class Program():\n",
    "    def __init__(self):\n",
    "        self.veri = 0\n",
    "\n",
    "    @property\n",
    "    def data(self):\n",
    "        return self.veri"
   ]
  },
  {
   "cell_type": "markdown",
   "id": "df53e399-da4b-427d-91cc-50ab0a38e8f9",
   "metadata": {},
   "source": [
    "Bu şekilde, self.data niteliğine yapılan bütün çağrılar data() adlı metot vasıtasıyla self.veri niteliğine yönlendirilecek. Böylece başkalarının bu programı kullanarak yazdığı eski kodları bozmadan, programımızda istediğimiz değişikliği yapmış olduk. Yani programımızda geriye dönük uyumluluğu (backwards compatibility) sağlamış olduk.\n",
    "\n",
    "Yukarıdaki kodlarda @property bezeyicisini kullanarak data() metodunu bir niteliğe dönüştürdüğümüz için artık şöyle bir kullanım mümkün:"
   ]
  },
  {
   "cell_type": "code",
   "execution_count": null,
   "id": "f4175009-8576-41b1-9a8d-dbbeaa6964f9",
   "metadata": {},
   "outputs": [],
   "source": [
    "p = Program()\n",
    "p.data\n",
    "0"
   ]
  },
  {
   "cell_type": "code",
   "execution_count": null,
   "id": "e45edc5b-e2eb-477f-999c-12c18f25de41",
   "metadata": {},
   "outputs": [],
   "source": [
    "p.veri\n",
    "\n",
    "0"
   ]
  },
  {
   "cell_type": "markdown",
   "id": "75a425b2-d989-4aca-a236-9e9b69c94cf3",
   "metadata": {},
   "source": [
    "Bu yapıda, self.veri üzerindeki değişiklikler self.data niteliğine de yansıyacaktır:"
   ]
  },
  {
   "cell_type": "code",
   "execution_count": null,
   "id": "75fc9218-8224-4d92-90c3-52d8ecf660c8",
   "metadata": {},
   "outputs": [],
   "source": [
    "p.veri = 5\n",
    "p.data\n",
    "\n",
    "5"
   ]
  },
  {
   "cell_type": "markdown",
   "id": "2b94a95f-6d6e-416f-82e1-c30f0b587a20",
   "metadata": {},
   "source": [
    "++++++++++++++Salt Okunur Nitelikler\n",
    "\n",
    "@property bezeyicisinin bir başka kabiliyeti de salt okunur nitelikler oluşturabilmesidir.\n",
    "\n",
    "Mesela yukarıdaki programı temel alarak şöyle bir şey deneyelim:"
   ]
  },
  {
   "cell_type": "code",
   "execution_count": null,
   "id": "3dd2403d-e400-4b1c-87a9-18a06197d1d0",
   "metadata": {},
   "outputs": [],
   "source": [
    "p = Program()\n",
    "p.data = 5\n",
    "\n",
    "Traceback (most recent call last):\n",
    "  File \"<stdin>\", line 1, in <module>\n",
    "AttributeError: can't set attribute"
   ]
  },
  {
   "cell_type": "markdown",
   "id": "103ebf61-2123-45a5-8b37-45fc0041bf82",
   "metadata": {},
   "source": [
    "Gördüğünüz gibi, data niteliği üzerinde değişiklik yapamıyoruz. Dolayısıyla, kodlarınızı kullananların değiştirmesini istemediğiniz, ‘salt okunur’ nitelikler oluşturmak için @property bezeyicisinden yararlanabilirsiniz.\n",
    "\n"
   ]
  },
  {
   "cell_type": "markdown",
   "id": "387de0de-a838-425c-a9cd-334dee305548",
   "metadata": {},
   "source": [
    "++++++++++++Veri Doğrulaması\n",
    "\n",
    "@property bezeyicisinin üç önemli işlevi bulunur:\n",
    "\n",
    "-Değer döndürmek\n",
    "\n",
    "-Değer atamak\n",
    "\n",
    "-Değer silmek\n",
    "\n",
    "Yukarıdaki örneklerde bu bezeyicinin değer döndürme işlevini görmüştük. Şimdi ise bu bezeyicinin değer atama işlevini anlamaya çalışalım.\n",
    "\n",
    "Bildiğiniz gibi, @property bezeyicisinin ‘değer döndürme’ işlevini kullanarak, bir niteliğe erişimi kısıtlayabiliyoruz. Örneğin, zamanında şöyle bir kod yazdığımızı varsayalım:"
   ]
  },
  {
   "cell_type": "code",
   "execution_count": null,
   "id": "170679b2-667b-47d8-b150-4f116897ba7e",
   "metadata": {},
   "outputs": [],
   "source": [
    "class Program():\n",
    "    def __init__(self):\n",
    "        self.sayı = 0"
   ]
  },
  {
   "cell_type": "markdown",
   "id": "b98354eb-0593-4514-a400-85864c2da194",
   "metadata": {},
   "source": [
    "Daha sonra herhangi bir sebepten ötürü buradaki self.sayı niteliğine erişimi kısıtlayıp bu niteliği üzerinde değişiklik yapılamaz hale getirmek istersek @property bezeyicisinden yararlanabiliriz:"
   ]
  },
  {
   "cell_type": "code",
   "execution_count": null,
   "id": "f519fc00-304c-4407-86cc-ba4c0abd06bc",
   "metadata": {},
   "outputs": [],
   "source": [
    "class Program():\n",
    "    def __init__(self):\n",
    "        self._sayı = 0\n",
    "\n",
    "    @property\n",
    "    def sayı(self):\n",
    "        return self._sayı\n"
   ]
  },
  {
   "cell_type": "markdown",
   "id": "bfd0080f-0b5e-407e-ad95-514de424ca90",
   "metadata": {},
   "source": [
    "Gördüğünüz gibi, öncelikle self.sayı adlı niteliği, başına bir alt çizgi getirerek normal erişime kapatmak istediğimizi belirttik. Bu kodları görenler, sayı niteliğinin yarı-gizli bir üye olduğunu anlayıp ona göre davranacak. Ayrıca biraz sonra tanımlayacağımız sayı() fonksiyonuyla bu değişkenin adının birbirine karışmaması için de bir önlem almış olacağız. Python’da bir değişkenin adını değiştirmeden o değişkene erişimi kontrol altına almak istediğimizde tek alt çizgi kullanmak tercih edilen bir yöntemdir.\n",
    "\n",
    "Daha sonra da sayı() fonksiyonumuzu tanımlıyoruz:"
   ]
  },
  {
   "cell_type": "code",
   "execution_count": null,
   "id": "930e4422-881b-4d7b-8d48-0ae16f8b9e06",
   "metadata": {},
   "outputs": [],
   "source": [
    "@property\n",
    "def sayı(self):\n",
    "    return self._sayı"
   ]
  },
  {
   "cell_type": "markdown",
   "id": "f9ea7a84-ea9d-4b57-bb71-e9aaf1b1f9a2",
   "metadata": {},
   "source": [
    "Bu sayı() fonksiyonunu @property ile bezediğimiz için, fonksiyon bir niteliğe dönüştü ve sayı değişkenini salt okunur hale getirdi. Eğer amacınız değişkeni salt okunur hale getirmek değilse @property ile bezediğimiz fonksiyon için bir setter parametresi tanımlayabilirsiniz. Nasıl mı? Dikkatlice inceleyin:"
   ]
  },
  {
   "cell_type": "code",
   "execution_count": null,
   "id": "6f7d47a5-cab7-4e9a-95ea-f5e38b3d9bd7",
   "metadata": {},
   "outputs": [],
   "source": [
    "class Program():\n",
    "    def __init__(self):\n",
    "        self._sayı = 0\n",
    "\n",
    "    @property\n",
    "    def sayı(self):\n",
    "        return self._sayı\n",
    "\n",
    "    @sayı.setter\n",
    "    def sayı(self, yeni_değer):\n",
    "        self._sayı = yeni_değer\n",
    "        return self._sayı"
   ]
  },
  {
   "cell_type": "markdown",
   "id": "3b841c8c-ff8a-40e5-8c1a-515bc8d2d146",
   "metadata": {},
   "source": [
    "@property ile bezeyerek bir nitelik haline getirdiğiniz fonksiyonu yazılabilir hale getirmek ve bu yazma işleminin nasıl olacağını belirlemek için özel bir .setter bezeyicisi ile bezenmiş yeni bir fonksiyon tanımlayabilirsiniz.\n",
    "\n",
    "Biz yukarıda, yine sayı adını taşıyan, .setter ile bezenmiş bir fonksiyon daha tanımladık:\n",
    "\n"
   ]
  },
  {
   "cell_type": "code",
   "execution_count": null,
   "id": "cf9e54f7-7a01-4175-b7f0-10b3258a7776",
   "metadata": {},
   "outputs": [],
   "source": [
    "@sayı.setter\n",
    "def sayı(self, yeni_değer):\n",
    "    self._sayı = yeni_değer\n",
    "    return self._sayı\n"
   ]
  },
  {
   "cell_type": "markdown",
   "id": "a7af1182-0665-42a6-8abf-e0c44357317d",
   "metadata": {},
   "source": [
    "Yukarıdaki kodları çalıştırdığımızda, _sayı değişkenine sayı adı ile normal bir şekilde erişip istediğimiz değişikliği yapabiliyoruz:\n",
    "\n"
   ]
  },
  {
   "cell_type": "code",
   "execution_count": null,
   "id": "24268c64-9c74-466a-8734-cdd8e8d652bc",
   "metadata": {},
   "outputs": [],
   "source": [
    "p = Program()\n",
    "p.sayı\n",
    "\n",
    "0"
   ]
  },
  {
   "cell_type": "code",
   "execution_count": null,
   "id": "a18a7bae-e78b-4610-b7c3-628ed8add572",
   "metadata": {},
   "outputs": [],
   "source": [
    "p.sayı = 5\n",
    "p.sayı\n",
    "\n",
    "5"
   ]
  },
  {
   "cell_type": "markdown",
   "id": "2efeb7e9-c63d-497c-b662-b1939448ec66",
   "metadata": {},
   "source": [
    "Gördüğünüz gibi, artık sayı değişkeni, kendisi için bir .setter bezeyicisi tanımlamış olmamız sayesinde değişiklik kabul ediyor.\n",
    "\n",
    ".setter bezeyicisini, bir niteliği yazılabilir hale getirmenin yanı sıra, doğrulama işlemleri için de kullanabilirsiniz.\n",
    "\n",
    "Basit bir örnek verelim:\n",
    "\n"
   ]
  },
  {
   "cell_type": "code",
   "execution_count": null,
   "id": "0b0658fa-aed2-4cba-af7d-c1a0f49fbb61",
   "metadata": {},
   "outputs": [],
   "source": [
    "class Program():\n",
    "    def __init__(self):\n",
    "        self._sayı = 0\n",
    "\n",
    "    @property\n",
    "    def sayı(self):\n",
    "        return self._sayı\n",
    "\n",
    "    @sayı.setter\n",
    "    def sayı(self, yeni_değer):\n",
    "        if yeni_değer % 2 == 0:\n",
    "            self._sayı = yeni_değer\n",
    "        else:\n",
    "            print('çift değil!')\n",
    "\n",
    "        return self.sayı"
   ]
  },
  {
   "cell_type": "markdown",
   "id": "6df0073b-7885-4d75-bcdf-8e412e1c61ca",
   "metadata": {},
   "source": [
    "Burada, self.sayı niteliğinin değerini çift sayılarla sınırlandırdık. Veri doğrulama/kısıtlama işlemini .setter bezeyicisi içinden gerçekleştirdiğimize dikkatinizi çekmek isterim. Buna göre, eğer self.sayı değişkenine girilen değer bir çift sayı ise bu değişikliği kabul ediyoruz. Aksi halde ‘çift değil!’ uyarısı gösteriyoruz:\n",
    "\n"
   ]
  },
  {
   "cell_type": "code",
   "execution_count": null,
   "id": "a2efe6b3-f614-4099-a5c6-33e40d8cfd2d",
   "metadata": {},
   "outputs": [],
   "source": [
    "p = Program()\n",
    "p.sayı = 2\n",
    "p.sayı = 5\n",
    "\n",
    "'çift değil!'"
   ]
  },
  {
   "cell_type": "markdown",
   "id": "6910f3bf-1649-4733-a619-2126f1045ecf",
   "metadata": {},
   "source": [
    "Bu arada, .setter dışında .deleter adlı özel bir @property bezeyicisi daha bulunur. Bunu da bir değeri silmek için kullanıyoruz:"
   ]
  },
  {
   "cell_type": "code",
   "execution_count": null,
   "id": "6777aaf9-30d7-4eb6-b4e3-8147a8b13279",
   "metadata": {},
   "outputs": [],
   "source": [
    "class Program():\n",
    "    def __init__(self):\n",
    "        self._sayı = 0\n",
    "\n",
    "    @property\n",
    "    def sayı(self):\n",
    "        return self._sayı\n",
    "\n",
    "    @sayı.setter\n",
    "    def sayı(self, yeni_değer):\n",
    "        if yeni_değer % 2 == 0:\n",
    "            self._sayı = yeni_değer\n",
    "        else:\n",
    "            print('çift değil!')\n",
    "\n",
    "        return self.sayı\n",
    "\n",
    "    @sayı.deleter\n",
    "    def sayı(self):\n",
    "        del self._sayı"
   ]
  },
  {
   "cell_type": "markdown",
   "id": "51b831cf-dbc7-44f9-baf4-b59e4d0568b5",
   "metadata": {},
   "source": [
    "Gördüğünüz gibi, @property bezeyicisini kullanırken üç ayrı metot tanımlıyoruz:\n",
    "\n",
    "İlgili niteliğe nasıl ulaşacağımızı gösteren bir metot: Bu metodu @property ile beziyoruz.\n",
    "\n",
    "İlgili niteliği nasıl ayarlayacağımızı gösteren bir metot: Bu metodu @metot_adı.setter şeklinde beziyoruz.\n",
    "\n",
    "İlgili niteliği nasıl sileceğimizi gösteren bir metot: Bu metodu @metot_adı.deleter şeklinde beziyoruz.\n",
    "\n",
    "Bu bölümde nesne tabanlı programlamanın orta-ileri düzey sayılabilecek yönlerine temas ettik. Artık nesne tabanlı programlamanın temellerinden biraz daha fazlasını bildiğinizi rahatlıkla iddia edebilirsiniz."
   ]
  },
  {
   "cell_type": "code",
   "execution_count": null,
   "id": "2a5eecde-2c70-4b45-8fdf-1dbb7e26d342",
   "metadata": {},
   "outputs": [],
   "source": []
  }
 ],
 "metadata": {
  "kernelspec": {
   "display_name": "Python 3 (ipykernel)",
   "language": "python",
   "name": "python3"
  },
  "language_info": {
   "codemirror_mode": {
    "name": "ipython",
    "version": 3
   },
   "file_extension": ".py",
   "mimetype": "text/x-python",
   "name": "python",
   "nbconvert_exporter": "python",
   "pygments_lexer": "ipython3",
   "version": "3.10.12"
  }
 },
 "nbformat": 4,
 "nbformat_minor": 5
}
