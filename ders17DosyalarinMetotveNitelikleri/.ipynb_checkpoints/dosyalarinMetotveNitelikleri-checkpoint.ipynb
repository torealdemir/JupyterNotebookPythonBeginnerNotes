{
 "cells": [
  {
   "cell_type": "markdown",
   "id": "e98f4541-f311-4657-8675-759b3a17ce71",
   "metadata": {},
   "source": [
    "++++++++++Dosyaların Metot ve Nitelikleri\n",
    "\n",
    "\n",
    "Dosyalara ilişkin olarak bir önceki bölümde anlattığımız şeylerin kafanıza yatması açısından size şu bilgiyi de verelim: Dosyalar da, tıpkı karakter dizileri ve listeler gibi, Python programlama dilindeki veri tiplerinden biridir. Dolayısıyla tıpkı karakter dizileri ve listeler gibi, dosya (file) adlı bu veri tipinin de bazı metotları ve nitelikleri vardır. Gelin isterseniz bu metot ve niteliklerin neler olduğunu şöyle bir listeleyelim:\n",
    "\n"
   ]
  },
  {
   "cell_type": "code",
   "execution_count": null,
   "id": "f9f46f2b-6525-42ea-9014-12a3901b3371",
   "metadata": {},
   "outputs": [],
   "source": [
    "dosya = open(\"falanca_dosya.txt\", \"w\")\n",
    "print(*[metot for metot in dir(dosya) if not metot.startswith(\"_\")], sep=\"\\n\")"
   ]
  },
  {
   "cell_type": "markdown",
   "id": "0797e798-29a9-4cb3-9716-626d0a4119db",
   "metadata": {},
   "source": [
    "Bu kodlar, dosya adlı veri tipinin bizi ilgilendiren bütün metotlarını alt alta ekrana basacaktır. Eğer yukarıdaki kodları anlamakta zorluk çektiyseniz, bunları şöyle de yazabilirsiniz:\n",
    "\n"
   ]
  },
  {
   "cell_type": "code",
   "execution_count": null,
   "id": "51fc8251-b2da-4e77-b518-b7b230714374",
   "metadata": {},
   "outputs": [],
   "source": [
    "dosya = open(\"falanca_dosya.txt\", \"w\")\n",
    "\n",
    "for metot in dir(dosya):\n",
    "    if not metot.startswith(\"_\"):\n",
    "        print(metot, sep=\"\\n\")"
   ]
  },
  {
   "cell_type": "markdown",
   "id": "52be1715-5d37-4e64-9ab0-faa9c37a87eb",
   "metadata": {},
   "source": [
    "Bildiğiniz gibi bu kodlar bir öncekiyle tamamen aynı anlama geliyor.\n",
    "\n",
    "Bu kodları çalıştırdığınızda karşınıza pek çok metot çıkacak. Biz buraya gelene kadar bu metotların en önemlilerini zaten inceledik. İncelemediğimiz yalnızca birkaç önemli metot (ve nitelik) kaldı. Gelin isterseniz henüz incelemediğimiz bu önemli metot ve nitelikleri gözden geçirelim.\n",
    "\n"
   ]
  },
  {
   "cell_type": "markdown",
   "id": "26d2d817-e60d-4314-aa09-e1d35b7a7f3b",
   "metadata": {},
   "source": [
    "++++++++++closed Niteliği\n",
    "\n",
    "\n",
    "Bu nitelik, bir dosyanın kapalı olup olmadığını sorgulamamızı sağlar. Dosya adının f olduğunu varsayarsak, bu niteliği şöyle kullanıyoruz:\n",
    "\n"
   ]
  },
  {
   "cell_type": "raw",
   "id": "74d84e18-0413-43d3-a985-1d12f8237db5",
   "metadata": {},
   "source": [
    "f.closed"
   ]
  },
  {
   "cell_type": "markdown",
   "id": "1de2c104-387b-42cd-9e63-34bde402800f",
   "metadata": {},
   "source": [
    "Eğer f adlı bu dosya kapalıysa True çıktısı, açıksa False çıktısı verilecektir.\n",
    "\n"
   ]
  },
  {
   "cell_type": "markdown",
   "id": "6836dc7a-c781-4bd5-92ce-66a0f0b1793a",
   "metadata": {},
   "source": [
    "++++++++++++readable() Metodu\n",
    "\n",
    "\n",
    "Bu metot bir dosyanın okuma yetkisine sahip olup olmadığını sorgulamamızı sağlar. Eğer bir dosya “r” gibi bir kiple açılmışsa, yani o dosya ‘okunabilir’ özellikle ise bu metot bize True çıktısı verir. Ama eğer dosya yazma kipinde açılmışsa bu metot bize False çıktısı verecektir."
   ]
  },
  {
   "cell_type": "markdown",
   "id": "6c755703-b9b6-4cd3-bc32-7883e791cf10",
   "metadata": {},
   "source": [
    "+++++++++++writable() Metodu\n",
    "\n",
    "\n",
    "Bu metot bir dosyanın yazma yetkisine sahip olup olmadığını sorgulamamızı sağlar. Eğer bir dosya “w” gibi bir kiple açılmışsa, yani o dosya ‘yazılabilir’ özellikle ise bu metot bize True çıktısı verir. Ama eğer dosya okuma kipinde açılmışsa bu metot bize False çıktısı verecektir."
   ]
  },
  {
   "cell_type": "markdown",
   "id": "82121a76-7e58-44de-97c9-8cc81bda8f28",
   "metadata": {},
   "source": [
    "++++++++++++truncate() Metodu\n",
    "\n",
    "\n",
    "Bu metot, henüz işlemediğimiz metotlar arasında en önemlilerinden biridir. Bu metot yardımıyla dosyalarımızı istediğimiz boyuta getirebiliyoruz.\n",
    "\n",
    "İngilizcede truncate kelimesi ‘budamak, kırpmak’ gibi anlamlara gelir. Bu metodun yaptığı iş de bu anlamıyla uyumludur. Bu metodu temel olarak şöyle kullanıyoruz:\n",
    "\n"
   ]
  },
  {
   "cell_type": "code",
   "execution_count": null,
   "id": "9dc955c8-d8ec-4638-9562-ea1f71036545",
   "metadata": {},
   "outputs": [],
   "source": [
    "with open(\"falanca.txt\", \"r+\") as f:\n",
    "    f.truncate()"
   ]
  },
  {
   "cell_type": "markdown",
   "id": "7d5b8e33-cc95-4ca1-b401-6131c75ddcce",
   "metadata": {},
   "source": [
    "Bu komutu bu şekilde kullandığımızda dosyanın bütün içeriği silinecektir. Yani bu kodlar, sanki dosyayı “w” kipiyle açmışsınız gibi bir etki ortaya çıkaracaktır.\n",
    "\n",
    "truncate() metodu yukarıda gördüğünüz şekilde parametresiz olarak kullanılabileceği gibi, parametreli olarak da kullanılabilir. Bu metodun parantezleri arasına, dosyanın kaç baytlık bir boyuta sahip olmasını istediğinizi yazabilirsiniz. Örneğin:\n",
    "\n"
   ]
  },
  {
   "cell_type": "raw",
   "id": "765b99ca-5290-4aea-a4cc-0ae8931e5f6d",
   "metadata": {},
   "source": [
    "with open(\"falanca.txt\", \"r+\") as f:\n",
    "    f.truncate(10)"
   ]
  },
  {
   "cell_type": "markdown",
   "id": "d0566d92-0a52-4e9c-ae0b-54b22d939a38",
   "metadata": {},
   "source": [
    "Bu kodlar, falanca.txt adlı dosyanın ilk 10 baytı dışındaki bütün verileri siler. Yani dosyayı yalnızca 10 baytlık bir boyuta sahip olacak şekilde kırpar.\n",
    "\n",
    "Gelin isterseniz bu metotla ilgili bir örnek verelim. Elimizdeki dosyanın şu içeriğe sahip olduğunu varsayalım:"
   ]
  },
  {
   "cell_type": "raw",
   "id": "956ff80f-1b78-4826-ae76-bcd05dc99df8",
   "metadata": {},
   "source": [
    "Ahmet Özbudak : 0533 123 23 34\n",
    "Mehmet Sülün  : 0532 212 22 22\n",
    "Sami Sam      : 0542 333 34 34"
   ]
  },
  {
   "cell_type": "markdown",
   "id": "b6e5040e-961b-4454-b705-eb301916b6d4",
   "metadata": {},
   "source": [
    "Amacımız dosyadaki şu iki satırı tamamen silmek:\n",
    "\n"
   ]
  },
  {
   "cell_type": "raw",
   "id": "7395893f-09b5-468a-9c0b-a8fe9c3a4683",
   "metadata": {},
   "source": [
    "Mehmet Sülün  : 0532 212 22 22\n",
    "Sami Sam      : 0542 333 34 34"
   ]
  },
  {
   "cell_type": "markdown",
   "id": "baeae625-9bcb-4d9c-8338-865d52255bc3",
   "metadata": {},
   "source": [
    "Yani dosyanın yeni içeriğinin tam olarak şöyle olmasını istiyoruz:\n",
    "\n"
   ]
  },
  {
   "cell_type": "raw",
   "id": "fd3fa535-8619-48f3-99c1-25f45eaab54d",
   "metadata": {},
   "source": [
    "Ahmet Özbudak : 0533 123 23 34"
   ]
  },
  {
   "cell_type": "markdown",
   "id": "d16e56eb-0497-43c9-b513-c216fd589e4d",
   "metadata": {},
   "source": [
    "Bunun için truncate() metodundan yararlanarak şu kodları yazabiliriz:\n",
    "\n"
   ]
  },
  {
   "cell_type": "code",
   "execution_count": null,
   "id": "5f41f0d5-3387-43af-9cee-3569c021b708",
   "metadata": {},
   "outputs": [],
   "source": [
    "with open(\"fihrist.txt\", \"r+\") as f:\n",
    "    f.readline()\n",
    "    f.seek(f.tell())\n",
    "    f.truncate()"
   ]
  },
  {
   "cell_type": "markdown",
   "id": "21da859e-7f77-48e0-a83e-217be6f1adc3",
   "metadata": {},
   "source": [
    "Bu kodları bir dosyaya kaydedip çalıştırdığınızda, istediğiniz sonucu elde ettiğinizi göreceksiniz.\n",
    "\n",
    "Burada sırasıyla şu işlemleri gerçekleştirdik:\n",
    "\n",
    "Önce dosyamızı hem okuma hem de yazma kipinde açtık. Çünkü aynı dosya üzerinde hem okuma hem de yazma işlemleri gerçekleştireceğiz:"
   ]
  },
  {
   "cell_type": "raw",
   "id": "a7e94287-194b-4a5b-a201-777fed92eb64",
   "metadata": {},
   "source": [
    "with open(\"fihrist.txt\", \"r+\") as f:"
   ]
  },
  {
   "cell_type": "markdown",
   "id": "35ef9e2c-1eba-4469-9f0a-8f0953e23961",
   "metadata": {},
   "source": [
    "Ardından dosyadan tek bir satır okuduk:"
   ]
  },
  {
   "cell_type": "raw",
   "id": "f1eb5fe0-9df5-44fb-8c70-c3794f2f4947",
   "metadata": {},
   "source": [
    "f.readline()"
   ]
  },
  {
   "cell_type": "markdown",
   "id": "fecd752a-ccdb-4cfa-9f9e-3e7df9a029d8",
   "metadata": {},
   "source": [
    "Daha sonra, truncate() metodunun imleç konumundan itibaren kırpma işlemi gerçekleştirebilmesi için imleci dosya içinde o anda bulunduğumuz konuma, yani ikinci satırın başına getirdik. Bildiğiniz gibi dosyaların tell() metodu, o anda dosya içinde hangi konumda bulunduğumuzu bildiriyor. Biz biraz önce yazdığımız readline() komutu yardımıyla dosyadan bir satır okuduğumuz için, o anda ikinci satırın başında bulunuyoruz. İşte seek() metodunu ve tell() metodundan elde ettiğimiz bu konum bilgisini kullanarak imleci istediğimiz konuma getirdik:"
   ]
  },
  {
   "cell_type": "raw",
   "id": "9a33bbad-1d23-4467-816e-6648a36ae360",
   "metadata": {},
   "source": [
    "f.seek(f.tell())"
   ]
  },
  {
   "cell_type": "markdown",
   "id": "cb0a17be-c5be-46b7-be60-150155260183",
   "metadata": {},
   "source": [
    "İmleci istediğimiz konuma getirdiğimize göre artık kırpma işlemini gerçekleştirebiliriz:\n",
    "\n"
   ]
  },
  {
   "cell_type": "raw",
   "id": "96797efb-cc53-4a12-bd86-40ff51711832",
   "metadata": {},
   "source": [
    "f.truncate()"
   ]
  },
  {
   "cell_type": "markdown",
   "id": "c9ecc6ba-c821-4ca7-b0fa-e5e7e7794b24",
   "metadata": {},
   "source": [
    "Artık elimizde tek satırlık bir dosya var…\n",
    "\n",
    "truncate() metodunun, yukarıda anlattığımızdan farklı bir özelliği daha var. Her ne kadar truncate kelimesi ‘kırpmak’ anlamına gelse ve bu metotla dosya boyutlarını küçültebilsek bile, bu metodu kullanarak aynı zamanda dosya boyutlarını artırabiliriz de. Örneğin boyutu 1 kilobayt olan bir dosyayı 3 kilobayta çıkarmak için bu metodu şöyle kullanabiliriz:\n",
    "\n"
   ]
  },
  {
   "cell_type": "code",
   "execution_count": null,
   "id": "8f5bebe1-35b5-497c-9a35-81710afad3fa",
   "metadata": {},
   "outputs": [],
   "source": [
    "f = open(\"fihrist.txt\", \"r+\")\n",
    "f.truncate(1024*3)\n",
    "f.close()"
   ]
  },
  {
   "cell_type": "markdown",
   "id": "f38e7543-bcf2-49bc-9447-d4e2b653af7d",
   "metadata": {},
   "source": [
    "Dosyanın boyutunu kontrol edecek olursanız, dosyanın gerçekten de 3 kilobayt’a çıktığını göreceksiniz. Peki bu metot bu işi nasıl yapıyor? Aslında bunun cevabı çok basit: Dosyanın sonuna gereken miktarda 0 ekleyerek… Zaten eğer fihrist.txt adlı bu dosyayı tekrar açıp okursanız bu durumu kendiniz de görebilirsiniz:\n",
    "\n"
   ]
  },
  {
   "cell_type": "raw",
   "id": "58731d79-f7d9-4f3e-ad3b-65d83bad7861",
   "metadata": {},
   "source": [
    "f = open(\"fihrist.txt\")\n",
    "f.read()"
   ]
  },
  {
   "cell_type": "markdown",
   "id": "029f8182-3789-48ba-8c21-47bbb04e3e1b",
   "metadata": {},
   "source": [
    "Gördüğünüz gibi, dosya sıfırlarla dolu."
   ]
  },
  {
   "cell_type": "markdown",
   "id": "824e397b-e851-43ac-8dcd-e94aa29fe201",
   "metadata": {},
   "source": [
    "+++++++mode Niteliği\n",
    "\n",
    "\n",
    "Bu nitelik, bize bir dosyanın hangi kipte açıldığına dair bilgi verir:"
   ]
  },
  {
   "cell_type": "code",
   "execution_count": null,
   "id": "4bb79d3f-2747-4cc5-88c1-70d66edfda52",
   "metadata": {},
   "outputs": [],
   "source": [
    "f = open(\"falanca.txt\")\n",
    "f.mode"
   ]
  },
  {
   "cell_type": "raw",
   "id": "2ee9354e-45e9-4457-b619-0573c80dd002",
   "metadata": {},
   "source": [
    "'r'"
   ]
  },
  {
   "cell_type": "markdown",
   "id": "15d3e0d1-943b-446e-b736-2e0155457e95",
   "metadata": {},
   "source": [
    "Demek ki bu dosya “r” kipinde açılmış…"
   ]
  },
  {
   "cell_type": "markdown",
   "id": "690e7965-d959-44d5-8ef1-3a2f05d8c745",
   "metadata": {},
   "source": [
    "++++++++++++name Niteliği\n",
    "\n",
    "\n",
    "Bu nitelik, bize bir dosyanın adını verir:\n",
    "\n"
   ]
  },
  {
   "cell_type": "code",
   "execution_count": null,
   "id": "70a52812-920e-4495-b6bd-0ac110fd10cc",
   "metadata": {},
   "outputs": [],
   "source": [
    "f.name"
   ]
  },
  {
   "cell_type": "raw",
   "id": "441359df-35b1-4eee-b190-1b4633a23cde",
   "metadata": {},
   "source": [
    "'falanca.txt'"
   ]
  },
  {
   "cell_type": "markdown",
   "id": "10401760-21ca-4bca-adcd-a919b8693944",
   "metadata": {},
   "source": [
    "++++++++++++encoding Niteliği\n",
    "\n",
    "\n",
    "Bu nitelik, bize bir dosyanın hangi dil kodlaması ile kodlandığını söyler:"
   ]
  },
  {
   "cell_type": "code",
   "execution_count": null,
   "id": "10ee3ec7-1cbe-4e0c-8605-83b1616a45bf",
   "metadata": {},
   "outputs": [],
   "source": [
    "f.encoding"
   ]
  },
  {
   "cell_type": "raw",
   "id": "af004dc0-4e6b-46f7-8ddd-26ffcf301a90",
   "metadata": {},
   "source": [
    "'utf-8'"
   ]
  },
  {
   "cell_type": "markdown",
   "id": "5a249ea6-d28c-4cc6-851f-bb86c97fbc92",
   "metadata": {},
   "source": [
    "veya:\n",
    "\n"
   ]
  },
  {
   "cell_type": "code",
   "execution_count": null,
   "id": "f1e6f5dd-26f0-4fa2-a2f8-3616bc1aebd0",
   "metadata": {},
   "outputs": [],
   "source": [
    "f.encoding"
   ]
  },
  {
   "cell_type": "raw",
   "id": "f4731d1d-4f69-4a6b-af69-23e84a88aabf",
   "metadata": {},
   "source": [
    "'cp1254' #Windows"
   ]
  },
  {
   "cell_type": "markdown",
   "id": "bf32ebe4-678b-49d7-9012-e4c7b1ef0a91",
   "metadata": {},
   "source": [
    "Böylece dosyaların en önemli metot ve niteliklerini incelemiş olduk. Bu arada, gerek bu derste, gerekse önceki derslerde verdiğimiz örneklerden, ‘metot’ ile ‘nitelik’ kavramları arasındaki farkı anladığınızı zannediyorum. Metotlar bir iş yaparken, nitelikler bir değer gösterir. Nitelikler basit birer değişkenden ibarettir. Metotlar ise bir işin nasıl yapılacağı ile ilgili süreci tanımlar. Esasında bu ikisi arasındaki farkları çok fazla kafaya takmanıza gerek yok. Zamanla (özellikle de başka programların kaynak kodlarını incelemeye başladığınızda) bu ikisi arasındaki farkı bariz bir biçimde göreceksiniz. O noktaya geldiğinizde, zaten kavramlar arasındaki farkları görmeniz konusunda biz de size yardımcı olmaya çalışacağız."
   ]
  },
  {
   "cell_type": "code",
   "execution_count": null,
   "id": "454db6ec-31f3-41ba-a98d-23faf1b0c90a",
   "metadata": {},
   "outputs": [],
   "source": []
  }
 ],
 "metadata": {
  "kernelspec": {
   "display_name": "Python 3 (ipykernel)",
   "language": "python",
   "name": "python3"
  },
  "language_info": {
   "codemirror_mode": {
    "name": "ipython",
    "version": 3
   },
   "file_extension": ".py",
   "mimetype": "text/x-python",
   "name": "python",
   "nbconvert_exporter": "python",
   "pygments_lexer": "ipython3",
   "version": "3.10.12"
  }
 },
 "nbformat": 4,
 "nbformat_minor": 5
}
