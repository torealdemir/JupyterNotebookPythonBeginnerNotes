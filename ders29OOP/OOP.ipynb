{
 "cells": [
  {
   "cell_type": "markdown",
   "id": "64dd8876-ef96-41f9-84d4-8796a0a0da9f",
   "metadata": {},
   "source": [
    "+++++++++++++Nesne Tabanlı Programlama (OOP)\n",
    "\n",
    "Bu bölümde, programlama faaliyetlerimizin önemli bir kısmını oluşturacak olan nesne tabanlı programlama yaklaşımına bir giriş yaparak, bu yaklaşımın temel kavramlarından biri olan sınıflara değineceğiz. Bu bölümde amacımız, sınıflar üzerinden hem nesne tabanlı programlamayı tanımak, hem bu yaklaşıma ilişkin temel bilgileri edinmek, hem de etrafımızda gördüğümüz nesne tabanlı yapıların büyük çoğunluğunu anlayabilecek seviyeye gelmek olacaktır. Bu bölümü tamamladıktan sonra, nesne tabanlı programlamayı orta düzeyde bildiğimizi iddia edebileceğiz."
   ]
  },
  {
   "cell_type": "markdown",
   "id": "ed5cb50c-74f3-4d47-915a-09351879555a",
   "metadata": {},
   "source": [
    "+++++++++++++++=Giriş\n",
    "\n",
    "Şimdiye kadar Python programlama dili ile ilgili olarak gördüğümüz konulardan öğrendiğimiz çok önemli bir bilgi var: Aslına bakarsak, bu programlama dilinin bütün felsefesi, ‘bir kez yazılan kodların en verimli şekilde tekrar tekrar kullanılabilmesi,’ fikrine dayanıyor.\n",
    "\n",
    "Şimdi bir geriye dönüp baktığımızda, esasında bu fikrin izlerini ta ilk derslerimize kadar sürebiliyoruz. Mesela değişkenleri ele alalım. Değişkenleri kullanmamızdaki temel gerekçe, bir kez yazdığımız bir kodu başka yerlerde rahatça kullanabilmek. Örneğin, isim = 'Uzun İhsan Efendi' gibi bir tanımlama yaptıktan sonra, bu isim değişkeni aracılığıyla ‘Uzun İhsan Efendi’ adlı karakter dizisini her defasında tekrar tekrar yazmak zorunda kalmadan, kodlarımızın her yanında kullanabiliyoruz.\n",
    "\n",
    "Aynı fikrin fonksiyonlar ve geçen bölümde incelediğimiz modüller için de geçerli olduğunu bariz bir şekilde görebilirsiniz. Gömülü fonksiyonlar, kendi tanımladığımız fonksiyonlar, hazır modüller, üçüncü şahıs modülleri hep belli bir karmaşık süreci basitleştirme, bir kez tanımlanan bir prosedürün tekrar tekrar kullanılabilmesini sağlama amacı güdüyor.\n",
    "\n",
    "İşte bu fikir nesne tabanlı programlama ve dolayısıyla ‘sınıf’ (class) adı verilen özel bir veri tipi için de geçerlidir. Bu bölümde, bunun neden ve nasıl böyle olduğunu bütün ayrıntılarıyla ele almaya çalışacağız.\n",
    "\n",
    "Bu arada, İngilizcede Object Oriented Programming olarak ifade edilen programlama yaklaşımı, Türkçede ‘Nesne Tabanlı Programlama’, ‘Nesne Yönelimli Programlama’ ya da ‘Nesneye Yönelik Programlama’ olarak karşılık bulur. Biz bu karşılıklardan, adı ‘Nesne Tabanlı Programlama’ olanı tercih edeceğiz.\n",
    "\n",
    "Unutmadan, nesne tabanlı programlamaya girmeden önce değinmemiz gereken bir şey daha var. Eğer öğrendiğiniz ilk programlama dili Python ise, nesne tabanlı programlamayı öğrenmenin (aslında öyle olmadığı halde) zor olduğunu düşünebilir, bu konuyu biraz karmaşık bulabilirsiniz. Bu durumda da kaçınılmaz olarak kendi kendinize şu soruyu sorarsınız: Acaba ben nesne tabanlı programlamayı öğrenmek zorunda mıyım?\n",
    "\n",
    "Bu sorunun kısa cevabı, eğer iyi bir programcı olmak istiyorsanız nesne tabanlı programlamayı öğrenmek zorundasınız, olacaktır.\n",
    "\n",
    "Uzun cevap ise şu:\n",
    "\n",
    "Nesne tabanlı programlama, pek çok yazılım geliştirme yönteminden yalnızca biridir. Siz bu yöntemi, yazdığınız programlarda kullanmak zorunda değilsiniz. Nesne tabanlı programlamadan hiç yararlanmadan da faydalı ve iyi programlar yazabilirsiniz elbette. Python sizi bu yöntemi kullanmaya asla zorlamaz. Ancak nesne tabanlı programlama yaklaşımı program geliştirme alanında oldukça yaygın kullanılan bir yöntemdir. Dolayısıyla, etrafta nesne tabanlı programlama yaklaşımından yararlanılarak yazılmış pek çok kodla karşılaşacaksınız. Hiç değilse karşılaştığınız bu kodları anlayabilmek için nesne tabanlı programlamayı biliyor ve tanıyor olmanız lazım. Aksi halde, bu yöntem kullanılarak geliştirilmiş programları anlayamazsınız.\n",
    "\n",
    "Mesela, grafik bir arayüze sahip (yani düğmeli, menülü) programların ezici çoğunluğu nesne tabanlı programlama yöntemiyle geliştiriliyor. Grafik arayüz geliştirmenizi sağlayacak araçları tanımanızı, öğrenmenizi sağlayan kitaplar ve makaleler de bu konuları hep nesne tabanlı programlama yaklaşımı üzerinden anlatıyor."
   ]
  },
  {
   "cell_type": "markdown",
   "id": "75b4214d-9a65-4fa6-870b-2c6f9f58c7e8",
   "metadata": {},
   "source": [
    "Sözün özü, nesne tabanlı programlamadan kaçamazsınız! İyi bir programcı olmak istiyorsanız, kendiniz hiç kullanmasanız bile, nesne tabanlı programlamayı öğrenmek zorundasınız. Hem şimdi nesne tabanlı programlamaya dudak bükseniz bile, bunu kullandıkça ve size sağladığı faydaları gördükçe onu siz de seveceksiniz…\n",
    "\n",
    "+++++++++++++++++++Sınıflar\n",
    "\n",
    "Nesne tabanlı programlamanın temelinde, yukarıdaki giriş bölümünde de adını andığımız ‘sınıf’ (class) adlı bir kavram bulunur. Bu bölümde, bu temel kavramı hakkıyla ele almaya çalışacağız.\n",
    "\n",
    "Peki tam olarak nedir bu sınıf denen şey?\n",
    "\n",
    "Çok kaba ve oldukça soyut bir şekilde tanımlayacak olursak, sınıflar, nesne üretmemizi sağlayan veri tipleridir. İşte nesne tabanlı programlama, adından da anlaşılacağı gibi, nesneler (ve dolayısıyla sınıflar) temel alınarak gerçekleştirilen bir programlama faaliyetidir.\n",
    "\n",
    "‘Hiçbir şey anlamadım!’ dediğinizi duyar gibiyim. Çünkü yukarıdaki tanım, ‘nesne’ ne demek, ‘sınıf’ ne anlama geliyor gibi sorulara cevap vermiyor. Yani programcılık açısından ‘nesne’ ve ‘sınıf’ kelimelerini burada ne anlamda kullandığımızı, yukarıdaki tanıma bakarak kestiremiyoruz. Eğer siz de bu fikirdeyseniz okumaya devam edin…\n",
    "\n",
    "++++++++++++++++++Sınıflar Ne İşe Yarar?\n",
    "\n",
    "Buraya gelene kadar Python’da pek çok veri tipi olduğunu öğrendik. Mesela önceki derslerimizde incelediğimiz listeler, demetler, karakter dizileri, sözlükler ve hatta fonksiyonlar hep birer veri tipidir. Bu tiplerin, verileri çeşitli şekillerde evirip çevirmemizi sağlayan birtakım araçlar olduğunu biliyoruz. İşte sınıflar da, tıpkı yukarıda saydığımız öteki veri tipleri gibi, verileri manipüle etmemizi sağlayan bir veri tipidir.\n",
    "\n",
    "Peki bu bölümde ele alacağımız ‘sınıf’ (class) veri tipi ne işe yarar?\n",
    "\n",
    "Dilerseniz bunu basit bir örnek üzerinde anlatmaya çalışalım.\n",
    "\n",
    "Diyelim ki, kullanıcının girdiği bir kelimedeki sesli harfleri sayan bir kod yazmak istiyorsunuz. Bu amacı gerçekleştirebilmek için yazabileceğiniz en basit kod herhalde şu olacaktır:"
   ]
  },
  {
   "cell_type": "code",
   "execution_count": null,
   "id": "405b6c7c-d6ed-44f7-a4ca-8faf1b8199dc",
   "metadata": {},
   "outputs": [],
   "source": [
    "sesli_harfler = 'aeıioöuü'\n",
    "sayaç = 0\n",
    "\n",
    "kelime = input('Bir kelime girin: ')\n",
    "\n",
    "for harf in kelime:\n",
    "    if harf in sesli_harfler:\n",
    "        sayaç += 1\n",
    "\n",
    "mesaj = '{} kelimesinde {} sesli harf var.'\n",
    "print(mesaj.format(kelime, sayaç))"
   ]
  },
  {
   "cell_type": "markdown",
   "id": "0ed9035f-6a73-4725-9d0f-6416b3328853",
   "metadata": {},
   "source": [
    "Düzgün bir şekilde çalışan, gayet basit kodlardır bunlar. Ayrıca amacımızı da kusursuz bir şekilde yerine getirir. Üstelik kodlardaki bütün öğeler tek bir isim/etki alanı (namespace, scope) içinde bulunduğu için, bunlara erişimde hiçbir zorluk çekmeyiz. Yani mesela sesli_harfler, sayaç, kelime, harf, mesaj değişkenlerine kodlar içinde her yerden erişebiliriz."
   ]
  },
  {
   "cell_type": "markdown",
   "id": "0696baa4-d011-471c-aa8d-eefadd50e731",
   "metadata": {},
   "source": [
    "Ancak bu kodların önemli bir dezavantajı, kodlarda benimsediğimiz yaklaşımın genişlemeye pek müsait olmamasıdır. Daha doğrusu, yukarıdaki kodlara yeni kodlar ekledikçe programımız karmaşık hale gelecek, kodları anlamak zorlaşacaktır.\n",
    "\n",
    "Kod yapısını biraz olsun rahatlatmak için bazı önlemler alabiliriz. Mesela kullanıcı tarafından girilen kelimedeki bir harfin sesli olup olmadığını denetleyen kodları bir fonksiyon içine alarak, o kısmı daha belirgin hale getirebiliriz:"
   ]
  },
  {
   "cell_type": "code",
   "execution_count": null,
   "id": "d772b8fd-001f-4b1c-a2ce-7ba1b328acb3",
   "metadata": {},
   "outputs": [],
   "source": [
    "sesli_harfler = 'aeıioöuü'\n",
    "sayaç = 0\n",
    "\n",
    "kelime = input('Bir kelime girin: ')\n",
    "\n",
    "def seslidir(harf):\n",
    "    return harf in sesli_harfler\n",
    "\n",
    "for harf in kelime:\n",
    "    if seslidir(harf):\n",
    "        sayaç += 1\n",
    "\n",
    "mesaj = '{} kelimesinde {} sesli harf var.'\n",
    "print(mesaj.format(kelime, sayaç))"
   ]
  },
  {
   "cell_type": "markdown",
   "id": "061f2fa4-d034-4da6-bf93-5e64aba56fd1",
   "metadata": {},
   "source": [
    "Burada, kontrol ettiğimiz harfin sesli_harfler adlı değişken içinde bulunup bulunmamasına göre True veya False çıktısı veren, seslidir() adlı bir fonksiyon tanımladık. Eğer kontrol ettiğimiz harf sesli_harfler değişkeni içinde geçiyorsa, yani bu bir sesli harf ise, seslidir() fonksiyonu True çıktısı verecektir. Aksi durumda ise bu fonksiyondan False çıktısı alacağız. Böylece sesli harf kontrolü yapmak istediğimiz her yerde yalnızca seslidir() fonksiyonunu kullanabileceğiz. Bu da bize, bir kez yazdığımız kodları tekrar tekrar kullanma imkanı verecek.\n",
    "\n",
    "Eğer yukarıdaki kodları daha da genel amaçlı bir hale getirmek istersek, sayacı artıran kodları da bir fonksiyon içine almayı düşünebiliriz:\n",
    "\n"
   ]
  },
  {
   "cell_type": "code",
   "execution_count": null,
   "id": "3f1c4d2a-7905-48ba-a22d-48fe5c3e670b",
   "metadata": {},
   "outputs": [],
   "source": [
    "sesli_harfler = 'aeıioöuü'\n",
    "sayaç = 0\n",
    "\n",
    "kelime = input('Bir kelime girin: ')\n",
    "\n",
    "def seslidir(harf):\n",
    "    return harf in sesli_harfler\n",
    "\n",
    "def artır():\n",
    "    global sayaç\n",
    "    for harf in kelime:\n",
    "        if seslidir(harf):\n",
    "            sayaç += 1\n",
    "    return sayaç\n",
    "\n",
    "mesaj = '{} kelimesinde {} sesli harf var.'\n",
    "print(mesaj.format(kelime, artır()))"
   ]
  },
  {
   "cell_type": "markdown",
   "id": "7d033572-369b-4812-93b1-c90202c059b8",
   "metadata": {},
   "source": [
    "Hatırlarsanız, ilk başta yazdığımız kodların en büyük avantajının, kodlarda geçen bütün öğelerin tek bir isim/etki alanında bulunması olduğunu söylemiştik. Bu sayede bütün öğelere her yerden erişebiliyorduk. Yukarıdaki kodlarda ise birden fazla isim/etki alanı var:\n",
    "\n",
    "sesli_harfler, sayaç, kelime ve mesaj değişkenlerinin bulunduğu global isim/etki alanı.\n",
    "\n",
    "seslidir() fonksiyonunun lokal isim/etki alanı.\n",
    "\n",
    "artır() fonksiyonunun lokal isim/etki alanı.\n",
    "\n",
    "Bildiğiniz gibi, global isim alanında bulunan değişkenlere her yerden ulaşabiliyoruz. Ancak bunları her yerden değiştiremiyoruz. Yani mesela global isim alanında bulunan sayaç değişkeninin değerini, seslidir() fonksiyonu içinden görüntüleyebiliriz.\n",
    "\n",
    "Bunu teyit edelim:\n",
    "\n"
   ]
  },
  {
   "cell_type": "code",
   "execution_count": null,
   "id": "27e28c98-eb7b-4c65-abcb-1148650a652c",
   "metadata": {},
   "outputs": [],
   "source": [
    "sesli_harfler = 'aeıioöuü'\n",
    "sayaç = 0\n",
    "\n",
    "kelime = input('Bir kelime girin: ')\n",
    "\n",
    "def seslidir(harf):\n",
    "    print('sayaç değişkeninin değeri şu anda: ', sayaç)\n",
    "    return harf in sesli_harfler\n",
    "\n",
    "def artır():\n",
    "    global sayaç\n",
    "    for harf in kelime:\n",
    "        if seslidir(harf):\n",
    "            sayaç += 1\n",
    "    return sayaç\n",
    "\n",
    "mesaj = '{} kelimesinde {} sesli harf var.'\n",
    "print(mesaj.format(kelime, artır()))"
   ]
  },
  {
   "cell_type": "markdown",
   "id": "36c8920c-9a27-4bf1-8404-386863873612",
   "metadata": {},
   "source": [
    "Gördüğünüz gibi, global isim alanındaki sayaç değişkeninin değerini seslidir() fonksiyonu içinde kullanabildik. Ama eğer bu değişken üzerinde değişiklik yapacaksak ilave adımlar atmak zorundayız. Dolayısıyla, mesela artır() fonksiyonunun etki alanından, global etki alanındaki sayaç değişkeni üzerinde değişiklik yapabilmek için global deyimini kullanmamız gerekiyor. Bu şekilde, global isim alanında bulunan sayaç adlı değişkenin değerini artırabiliyoruz.\n",
    "\n",
    "Dikkat ederseniz, artır() fonksiyonunda iki tane global değişken var: sayaç ve kelime. Ama biz bunlardan yalnızca sayaç değişkenini global olarak belirledik. Öbür global değişkenimiz kelime için ise bu işlemi yapmadık. Çünkü kelime adlı değişkeni değiştirmek gibi bir niyetimiz yok. Biz bu değişkeni sadece kullanmakla yetiniyoruz. O yüzden bu değişkeni global olarak belirlemek zorunda değiliz.\n",
    "\n",
    "Ancak bildiğiniz gibi, global deyimini kullanmak pek tavsiye edilen bir şey değil. Eğer siz de bu deyimi kullanmak istemezseniz, yukarıdaki kodları şu şekilde yazmayı yeğleyebilirsiniz:\n",
    "\n"
   ]
  },
  {
   "cell_type": "code",
   "execution_count": null,
   "id": "4fea000b-6b23-408e-a1f0-444a8b186d5f",
   "metadata": {},
   "outputs": [],
   "source": [
    "sesli_harfler = 'aeıioöuü'\n",
    "sayaç = 0\n",
    "\n",
    "kelime = input('Bir kelime girin: ')\n",
    "\n",
    "def seslidir(harf):\n",
    "    return harf in sesli_harfler\n",
    "\n",
    "def artır(sayaç):\n",
    "    for harf in kelime:\n",
    "        if seslidir(harf):\n",
    "            sayaç += 1\n",
    "    return sayaç\n",
    "\n",
    "mesaj = '{} kelimesinde {} sesli harf var.'\n",
    "print(mesaj.format(kelime, artır(sayaç)))"
   ]
  },
  {
   "cell_type": "markdown",
   "id": "89583b1e-3e6c-4c60-bc13-be5d2459c80b",
   "metadata": {},
   "source": [
    "Gördüğünüz gibi, bu kodlarda global deyimini kullanmak yerine, artır() fonksiyonuna verdiğimiz sayaç parametresi üzerinden global isim alanıyla iletişim kurarak, sayaç değişkenini manipüle edebildik. Sadece değerini kullandığımız global değişken kelime için ise özel bir şey yapmamıza gerek kalmadı.\n",
    "\n",
    "Bu arada, tabii ki, artır() fonksiyonunda parametre olarak kullandığımız kelime sayaç olmak zorunda değil. Kodlarımızı mesela şöyle de yazabilirdik:\n",
    "\n"
   ]
  },
  {
   "cell_type": "code",
   "execution_count": null,
   "id": "1a2717cc-4ed1-4bc6-b29d-093b3207216c",
   "metadata": {},
   "outputs": [],
   "source": [
    "sesli_harfler = 'aeıioöuü'\n",
    "sayaç = 0\n",
    "\n",
    "kelime = input('Bir kelime girin: ')\n",
    "\n",
    "def seslidir(harf):\n",
    "    return harf in sesli_harfler\n",
    "\n",
    "def artır(n):\n",
    "    for harf in kelime:\n",
    "        if seslidir(harf):\n",
    "            n += 1\n",
    "    return n\n",
    "\n",
    "mesaj = '{} kelimesinde {} sesli harf var.'\n",
    "print(mesaj.format(kelime, artır(sayaç)))"
   ]
  },
  {
   "cell_type": "markdown",
   "id": "678420ec-2dce-4b35-a1f0-43869e10520d",
   "metadata": {},
   "source": [
    "Önemli olan, artır() fonksiyonunun, bizim global isim alanıyla iletişim kurmamızı sağlayacak bir parametre alması. Bu parametrenin adının ne olduğunun bir önemi yok.\n",
    "\n",
    "Yukarıdaki kodlarda birkaç değişiklik daha yaparak, bu kodları iyice genişletilebilir hale getirebiliriz:"
   ]
  },
  {
   "cell_type": "code",
   "execution_count": null,
   "id": "c98f30cc-b27a-4d8d-9009-7f5ffa9378d2",
   "metadata": {},
   "outputs": [],
   "source": [
    "sesli_harfler = 'aeıioöuü'\n",
    "sayaç = 0\n",
    "\n",
    "def kelime_sor():\n",
    "    return input('Bir kelime girin: ')\n",
    "\n",
    "def seslidir(harf):\n",
    "    return harf in sesli_harfler\n",
    "\n",
    "def artır(sayaç, kelime):\n",
    "    for harf in kelime:\n",
    "        if seslidir(harf):\n",
    "            sayaç += 1\n",
    "    return sayaç\n",
    "\n",
    "def ekrana_bas(kelime):\n",
    "    mesaj = \"{} kelimesinde {} sesli harf var.\"\n",
    "    print(mesaj.format(kelime, artır(sayaç, kelime)))\n",
    "\n",
    "def çalıştır():\n",
    "    kelime = kelime_sor()\n",
    "    ekrana_bas(kelime)\n",
    "\n",
    "çalıştır()"
   ]
  },
  {
   "cell_type": "markdown",
   "id": "9aee9cbb-d181-41d5-b411-a845bd90da09",
   "metadata": {},
   "source": [
    "Bu kodlarda, fonksiyonlara verdiğimiz parametreler yardımıyla, farklı fonksiyonların lokal etki alanlarında yer alan öğeler arasında nasıl iletişim kurduğumuza dikkat edin. Bir önceki kodlarda global etki alanında bulunan kelime değişkenini bu kez çalıştır() fonksiyonunun lokal etki alanı içine yerleştirdiğimiz için, artır() fonksiyonu içindeki kelime değişkeni boşa düştü. O yüzden, bu değişkeni artır() fonksiyonuna bir parametre olarak verdik ve ekrana_bas() fonksiyonu içinde bu fonksiyonu çağırırken, hem sayaç hem de kelime argümanlarını kullandık.\n",
    "\n",
    "Ayrıca, kullanıcıya kelime sorup, aldığı kelimeyi ekrana basan kod parçalarını, yani programımızı başlatan kodları çalıştır() başlığı altında toplayarak bu kısmı tam anlamıyla ‘modüler’, yani esnek ve takılıp çıkarılabilir bir hale getirdik.\n",
    "\n",
    "Gördüğünüz gibi, yazdığımız kodların olabildiğince anlaşılır ve yönetilebilir olmasını sağlayabilmek için, bu kodları küçük birtakım birimlere böldük. Bu şekilde hem hangi işlevin nerede olduğunu bulmak kolaylaştı, hem kodların görünüşü daha anlaşılır oldu, hem de bu kodlara ileride yeni özellikler eklemek basitleşti. Unutmayın, bir programcının görevi yalnızca çalışan kodlar yazmak değildir. Programcı aynı zamanda kodlarının okunaklılığını artırmak ve bakımını kolaylaştırmakla da yükümlüdür.\n",
    "\n",
    "Bu bakımdan, programcı ile kod arasındaki ilişkiyi, yazar ile kitap arasındaki ilişkiye benzetebilirsiniz. Tıpkı bir programcı gibi, yazarın da görevi aklına gelenleri bir kağıda gelişigüzel boca etmek değildir. Yazar, yazdığı kitabın daha anlaşılır olmasını sağlamak için kitabına bir başlık atmalı, yazdığı yazıları alt başlıklara ve paragraflara bölmeli, ayrıca noktalama işaretlerini yerli yerinde kullanarak yazılarını olabildiğince okunaklı hale getirmelidir. Bir ana başlığı ve alt başlıkları olmayan, sadece tek bir büyük paragraftan oluşan, içinde hiçbir noktalama işaretinin kullanılmadığı bir makaleyi okumanın veya bu makaleye sonradan yeni bir şeyler eklemenin ne kadar zor olduğunu düşünün. İşte aynı şey bir programcının yazdığı kodlar için de geçerlidir. Eğer yazdığınız kodları anlaşılır birimlere bölmeden ekrana yığarsanız bu kodları ne başkaları okuyup anlayabilir, ne de siz ileride bu kodlara yeni işlevler ekleyebilirsiniz.\n",
    "\n",
    "Python programlama dili, kodlarınızı olabildiğince anlaşılır, okunaklı ve yönetilebilir hale getirmeniz için size pek çok araç sunar. Önceki derslerde gördüğümüz değişkenler, fonksiyonlar ve modüller bu araçlardan yalnızca birkaçıdır. İşte bu bölümde inceleyeceğimiz sınıflar da kodlarımızı ehlileştirmek için kullanacağımız son derece faydalı araçlardır.\n",
    "\n",
    "Birazdan, ‘sınıf’ denen bu faydalı araçları enine boyuna inceleyeceğiz. Ama gelin isterseniz, anlatmaya devam etmeden önce, verdiğimiz son kodları biraz daha kurcalayalım.\n",
    "\n",
    "Hatırlarsanız, geçen bölümde, yazdığımız Python kodlarının aynı zamanda hem bağımsız bir program olarak hem de bir modül olarak kullanılabileceğini söylemiştik.\n",
    "\n",
    "Mesela, yukarıdaki kodları sayac.py adlı bir dosyaya kaydettiğimizi varsayarsak, bu programı komut satırı üzerinden python sayac.py gibi bir kodla çalıştırabiliyoruz. Biz bu programı bu şekilde komut satırı üzerinden veya üzerine çift tıklayarak çalıştırdığımızda, bu kodları bağımsız bir program olarak çalıştırmış oluyoruz. Gelin bir de bu kodları bir modül olarak nasıl içe aktaracağımızı inceleyelim.\n",
    "\n",
    "Şimdi, sayac.py programının bulunduğu dizin altında Python komut satırını başlatalım ve orada şu komutu vererek sayac modülünü içe aktaralım:"
   ]
  },
  {
   "cell_type": "code",
   "execution_count": null,
   "id": "62b5431d-ec79-4c03-afd9-72647c37f1e1",
   "metadata": {},
   "outputs": [],
   "source": [
    "import sayac\n"
   ]
  },
  {
   "cell_type": "markdown",
   "id": "257fb085-5f83-4a88-87bf-7222f8436ea0",
   "metadata": {},
   "source": [
    "Bu komutu verdiğimiz anda, sayac.py programı çalışmaya başlayacaktır. Ancak bizim istediğimiz şey bu değil. Biz sayac.py programının çalışmaya başlamasını istemiyoruz. Bizim istediğimiz şey, bu sayac.py dosyasını bağımsız bir program olarak değil, bir modül olarak kullanmak ve böylece bu modül içindeki nitelik ve fonksiyonlara erişmek. Tam bu noktada şöyle bir soru aklımıza geliyor: Acaba bir insan neden bir programı modül olarak içe aktarmak istiyor olabilir?\n",
    "\n",
    "Bir Python dosyasına modül olarak erişmek istemenizin birkaç sebebi olabilir. Mesela bir program yazıyorsunuzdur ve amacınız yazdığınız kodların düzgün çalışıp çalışmadığını test etmektir. Bunun için, programınızı etkileşimli kabuk ortamına bir modül olarak aktarıp, bu modülün test etmek istediğiniz kısımlarını tek tek çalıştırabilirsiniz. Aynı şekilde, kendi yazdığınız veya başkası tarafından yazılmış bir program içindeki işlevsellikten başka bir program içinde de yararlanmak istiyor olabilirsiniz. İşte bunun için de, ilgili programı, başka bir program içinden çağırarak, yani o programı öteki program içine bir modül olarak aktararak, ilgili modül içindeki işlevleri kullanabilirsiniz.\n",
    "\n",
    "Diyelim ki biz, yukarıda yazdığımız sayac.py adlı dosya içindeki kodların düzgün çalışıp çalışmadığını kontrol etmek istiyoruz. Bunun için sayac.py dosyasındaki kodlarda şu değişikliği yapalım:"
   ]
  },
  {
   "cell_type": "code",
   "execution_count": null,
   "id": "988cc367-644a-4528-ac4a-733b0d93a869",
   "metadata": {},
   "outputs": [],
   "source": [
    "sesli_harfler = 'aeıioöuü'\n",
    "sayaç = 0\n",
    "\n",
    "def kelime_sor():\n",
    "    return input('Bir kelime girin: ')\n",
    "\n",
    "def seslidir(harf):\n",
    "    return harf in sesli_harfler\n",
    "\n",
    "def artır(sayaç, kelime):\n",
    "    for harf in kelime:\n",
    "        if seslidir(harf):\n",
    "            sayaç += 1\n",
    "    return sayaç\n",
    "\n",
    "def ekrana_bas(kelime):\n",
    "    mesaj = \"{} kelimesinde {} sesli harf var.\"\n",
    "    print(mesaj.format(kelime, artır(sayaç, kelime)))\n",
    "\n",
    "def çalıştır():\n",
    "    kelime = kelime_sor()\n",
    "    ekrana_bas(kelime)\n",
    "\n",
    "if __name__ == '__main__':\n",
    "    çalıştır()"
   ]
  },
  {
   "cell_type": "raw",
   "id": "63190467-6efd-46e7-9452-d79f1acb647f",
   "metadata": {},
   "source": [
    "Gördüğünüz gibi, burada çalıştır() fonksiyonunu if __name__ == '__main__' bloğuna aldık. Buna göre, eğer __name__ niteliğinin değeri ‘__main__’ ise çalıştır() fonksiyonu işlemeye başlayacak. Aksi halde herhangi bir şey olmayacak.\n",
    "\n",
    "Şimdi sayac.py programını komut satırı üzerinden python sayac.py gibi bir komutla çalıştırın. Programınız normal bir şekilde çalışacaktır. Çünkü, bildiğiniz gibi, bir Python programı bağımsız bir program olarak çalıştırıldığında __name__ niteliğinin değeri ‘__main__’ olur. Dolayısıyla da çalıştır() fonksiyonu işlemeye başlar.\n",
    "\n",
    "Şimdi de etkileşimli kabuğu tekrar açın ve şu komutu vererek modülü içe aktarın:"
   ]
  },
  {
   "cell_type": "code",
   "execution_count": null,
   "id": "33b0f0d5-7f68-4e32-b6e7-c88a0516c61a",
   "metadata": {},
   "outputs": [],
   "source": [
    "import sayac\n"
   ]
  },
  {
   "cell_type": "markdown",
   "id": "b8f0010a-2e67-4348-80fc-cdf6251bfff5",
   "metadata": {},
   "source": [
    "Bu defa programımız çalışmaya başlamadı. Çünkü bu kez, programımızı bir modül olarak içe aktardığımız için, __name__ niteliğinin değeri ‘__main__’ değil, ilgili modülün adı oldu (yani bizim örneğimizde sayac).\n",
    "\n",
    "Böylece __name__ niteliğinin farklı durumlarda farklı bir değere sahip olmasından yararlanarak, programınızın farklı durumlarda farklı tepkiler vermesini sağlamış olduk.\n",
    "\n",
    "sayac modülünü içe aktardıktan sonra, bu modülün içinde neler olduğunu nasıl kontrol edebileceğinizi biliyorsunuz:"
   ]
  },
  {
   "cell_type": "code",
   "execution_count": null,
   "id": "3b923337-d874-41a6-b813-f278ceef585e",
   "metadata": {},
   "outputs": [],
   "source": [
    "dir(sayac)\n",
    "\n",
    "['__builtins__', '__cached__', '__doc__', '__file__', '__loader__',\n",
    " '__name__', '__package__', '__spec__', 'artır', 'ekrana_bas',\n",
    " 'kelime_sor', 'sayaç', 'sesli_harfler', 'seslidir', 'çalıştır']"
   ]
  },
  {
   "cell_type": "code",
   "execution_count": null,
   "id": "76637725-cb1a-408b-9fd6-27e36a6bb63a",
   "metadata": {},
   "outputs": [],
   "source": [
    "sayac.seslidir('ö')\n",
    "\n",
    "True"
   ]
  },
  {
   "cell_type": "code",
   "execution_count": null,
   "id": "eb96098f-407a-4d57-b094-850e7be943d5",
   "metadata": {},
   "outputs": [],
   "source": [
    "sayac.seslidir('ç')\n",
    "\n",
    "False"
   ]
  },
  {
   "cell_type": "markdown",
   "id": "07782654-7386-4e7e-895e-08f017ece47b",
   "metadata": {},
   "source": [
    "Gördüğünüz gibi, sayac.py içinde tanımladığımız seslidir() fonksiyonunu, rastgele harflerin birer sesli harf olup olmadığını denetlemek için de kullanabiliyoruz. Bu şekilde aynı zamanda seslidir() fonksiyonunun düzgün bir şekilde çalışıp çalışmadığını, sesli olan ve olmayan harfleri başarılı bir şekilde birbirinden ayırt edip edemediğini de test etmiş oluyoruz.\n",
    "\n",
    "Devam edelim:"
   ]
  },
  {
   "cell_type": "code",
   "execution_count": null,
   "id": "9875debf-d048-469b-93aa-a0fa9684e0b3",
   "metadata": {},
   "outputs": [],
   "source": [
    "sayac.sesli_harfler\n",
    "\n",
    "'aeıioöuü'"
   ]
  },
  {
   "cell_type": "markdown",
   "id": "41cddbfd-37e4-48d3-b965-25e8dbb5b520",
   "metadata": {},
   "source": [
    "Modüllerin ne kadar faydalı araçlar olabileceğini bu örnek gayet net bir şekilde gösteriyor. Eğer ileride sesli harfleri kullanmamızı gerektiren başka bir program yazacak olursak, bu harfleri yeniden tanımlamak yerine, sayac.py dosyasından içe aktarabiliriz.\n",
    "\n",
    "Bütün bu örnekler sayesinde, sınıfları daha iyi anlamamızı sağlayacak altyapıyı oluşturmuş, bir yandan da eski bilgilerimizi pekiştirmiş olduk. Dilerseniz, sınıfları anlatmaya geçmeden önce, yukarıda verdiğimiz kodları sınıflı bir yapı içinde nasıl ifade edebileceğimizi de görelim.\n",
    "\n",
    "Elbette aşağıdaki kodları anlamanızı şu aşamada sizden beklemiyoruz. Bu bölümün sonuna vardığımızda, zihninizde her şey berraklaşmış olacak. Siz şimdilik sadece aşağıdaki kodlara bakın ve hem okunaklılık hem de yönetilebilirlik bakımından bu kodların bize ne gibi faydalar sağlıyor olabileceğine dair fikir yürütmeye çalışın. Anlamadığınız kısımlar olursa bunları geçin gitsin. Anladığınız kısımlar ise yanınıza kâr kalsın."
   ]
  },
  {
   "cell_type": "code",
   "execution_count": null,
   "id": "2f39ba09-0db8-4092-88cc-d30cf73e236a",
   "metadata": {},
   "outputs": [],
   "source": [
    "class HarfSayacı:\n",
    "    def __init__(self):\n",
    "        self.sesli_harfler = 'aeıioöuü'\n",
    "        self.sayaç = 0\n",
    "\n",
    "    def kelime_sor(self):\n",
    "        return input('Bir kelime girin: ')\n",
    "\n",
    "    def seslidir(self, harf):\n",
    "        return harf in self.sesli_harfler\n",
    "\n",
    "    def artır(self):\n",
    "        for harf in self.kelime:\n",
    "            if self.seslidir(harf):\n",
    "                self.sayaç += 1\n",
    "        return self.sayaç\n",
    "\n",
    "    def ekrana_bas(self):\n",
    "        mesaj = \"{} kelimesinde {} sesli harf var.\"\n",
    "        sesli_harf_sayısı = self.artır()\n",
    "        print(mesaj.format(self.kelime, sesli_harf_sayısı))\n",
    "\n",
    "    def çalıştır(self):\n",
    "        self.kelime = self.kelime_sor()\n",
    "        self.ekrana_bas()\n",
    "\n",
    "if __name__ == '__main__':\n",
    "    sayaç = HarfSayacı()\n",
    "    sayaç.çalıştır()"
   ]
  },
  {
   "cell_type": "markdown",
   "id": "ac4d9bb4-a2b8-45ed-8ad8-fe4b6d6648ce",
   "metadata": {},
   "source": [
    "Hakkında herhangi bir fikre sahip olmadığınız bir kod parçasını anlamanın en iyi yolu, anlamadığınız kısmı kodlardan çıkarıp, kodları bir de o şekilde çalıştırmaktır. Mesela yukarıdaki __init__, self ve class gibi öğelerin ismini değiştirin, bunları kodlardan çıkarın veya başka bir yere koyun. Elde ettiğiniz sonuçları gözlemleyerek bu kodlar hakkında en azından bir fikir sahibi olabilirsiniz.\n",
    "\n",
    "Gelin isterseniz, henüz yukarıdaki kodları anlayabilecek kadar sınıf bilgisine sahip olmasak da, bu kodları şöyle bir üstünkörü gözden geçirerek, bu kodların programcılık deneyimimiz açısından bize ne gibi bir katkı sunuyor olabileceğini anlamaya çalışalım.\n",
    "\n",
    "Yukarıdaki kodlarda dikkatimizi çeken ilk şey, bu kodların son derece derli toplu görünüyor olmasıdır. Öyle ki, HarfSayacı adlı sınıf içindeki fonksiyonlar sanki ipe dizilir gibi dizilmiş.\n",
    "\n",
    "HarfSayacı adlı sınıf ile bu sınıf yapısı içinde yer alan fonksiyonlar arasındaki ilişki gayet net bir şekilde görünüyor. Eğer ileride bu sayaca yeni bir işlev eklemek istersek, neyi nereye yerleştirmemiz gerektiği çok açık. Mesela ilerde bu kodlara sesli harflerle birlikte bir de sessiz harf denetim işlevi eklemek istersek, gerekli değişiklikleri kolayca yapabiliriz:\n",
    "\n"
   ]
  },
  {
   "cell_type": "code",
   "execution_count": null,
   "id": "5ab7c810-5ae5-4a64-95ce-5e39f1065be2",
   "metadata": {},
   "outputs": [],
   "source": [
    "class HarfSayacı:\n",
    "    def __init__(self):\n",
    "        self.sesli_harfler = 'aeıioöuü'\n",
    "        self.sessiz_harfler = 'bcçdfgğhjklmnprsştvyz'\n",
    "        self.sayaç_sesli = 0\n",
    "        self.sayaç_sessiz = 0\n",
    "\n",
    "    def kelime_sor(self):\n",
    "        return input('Bir kelime girin: ')\n",
    "\n",
    "    def seslidir(self, harf):\n",
    "        return harf in self.sesli_harfler\n",
    "\n",
    "    def sessizdir(self, harf):\n",
    "        return harf in self.sessiz_harfler\n",
    "\n",
    "    def artır(self):\n",
    "        for harf in self.kelime:\n",
    "            if self.seslidir(harf):\n",
    "                self.sayaç_sesli += 1\n",
    "            if self.sessizdir(harf):\n",
    "                self.sayaç_sessiz += 1\n",
    "        return (self.sayaç_sesli, self.sayaç_sessiz)\n",
    "\n",
    "    def ekrana_bas(self):\n",
    "        sesli, sessiz = self.artır()\n",
    "        mesaj = \"{} kelimesinde {} sesli {} sessiz harf var.\"\n",
    "        print(mesaj.format(self.kelime, sesli, sessiz))\n",
    "\n",
    "    def çalıştır(self):\n",
    "        self.kelime = self.kelime_sor()\n",
    "        self.ekrana_bas()\n",
    "\n",
    "if __name__ == '__main__':\n",
    "    sayaç = HarfSayacı()\n",
    "    sayaç.çalıştır()\n"
   ]
  },
  {
   "cell_type": "markdown",
   "id": "86cc9aa5-d164-4e5d-b6d8-9d82aa367906",
   "metadata": {},
   "source": [
    "Ayrıca sınıflı kodlarda, farklı etki alanları ile iletişim kurmak, sınıfsız kodlara kıyasla daha zahmetsizdir. Sınıflı ve sınıfsız kodlarda fonksiyonlara verdiğimiz parametreleri birbirleri ile kıyaslayarak bu durumu kendiniz de görebilirsiniz.\n",
    "\n",
    "Sınıflı yapıların daha pek çok avantajlı yönü vardır. İşte biz bu bölümde bunları size tek tek göstermeye çalışacağız.\n",
    "\n",
    "+++++++++++++Sınıf Tanımlamak\n",
    "\n",
    "Nesne tabanlı programlama yaklaşımı, özellikle birtakım ortak niteliklere ve davranış şekillerine sahip gruplar tanımlamak gerektiğinde son derece kullanışlıdır. Mesela şöyle bir örnek düşünün: Diyelim ki çalıştığınız işyerinde, işe alınan kişilerin kayıtlarını tutan bir veritabanınız var. Bir kişi işe alındığında, o kişiye dair belli birtakım bilgileri bu veritabanına işliyorsunuz. Mesela işe alınan kişinin adı, soyadı, unvanı, maaşı ve buna benzer başka bilgiler…\n",
    "\n",
    "Çalışmaya başlayacak kişileri temsil eden bir ‘Çalışan’ grubunu, bu grubun nitelikleri ile faaliyetlerini tutacak yapıyı ve bu grubun bütün öğelerinin taşıyacağı özellikleri nesne tabanlı programlama yaklaşımı ile kolayca kodlayabilirsiniz.\n",
    "\n",
    "Aynı şekilde, mesela yazdığınız bir oyun programı için, bir ‘Asker’ grubunu nesne tabanlı programlama mantığı içinde tanımlayarak, bu grubun her bir üyesinin sahip olacağı nitelikleri, kabiliyetleri ve davranış şekillerini kodlayabilir; mesela askerlerin sağa sola nasıl hareket edeceklerini, hangi durumlarda puan/enerji/güç kazanacaklarını veya kaybedeceklerini, bir asker ilk kez oluşturulduğunda hangi özellikleri taşıyacağını ve aklınıza gelebilecek başka her türlü özelliği tek tek belirleyebilirsiniz.\n",
    "\n",
    "Amacınız ne olursa olsun, atmanız gereken ilk adım, ilgili sınıfı tanımlamak olmalıdır. Zira fonksiyonlarda olduğu gibi, bir sınıfı kullanabilmek için de öncelikle o sınıfı tanımlamamız gerekiyor. Mesela, yukarıda bahsettiğimiz işe uygun olarak, Çalışan adlı bir sınıf tanımlayalım:\n",
    "\n"
   ]
  },
  {
   "cell_type": "code",
   "execution_count": null,
   "id": "199ffab3-8ea0-4783-b214-85b2e916226d",
   "metadata": {},
   "outputs": [],
   "source": [
    "class Çalışan:\n",
    "    pass"
   ]
  },
  {
   "cell_type": "markdown",
   "id": "0011cb00-05bd-4d48-9391-424ac7c1e013",
   "metadata": {},
   "source": [
    "Yukarıdaki, boş bir sınıf tanımıdır. Hatırlarsanız fonksiyonları tanımlamak için def adlı bir ifadeden yararlanıyorduk. İşte sınıfları tanımlamak için de class adlı bir ifadeden yararlanıyoruz. Bu ifadenin ardından gelen Çalışan kelimesi ise bu sınıfın adıdır.\n",
    "\n",
    "Eğer arzu ederseniz, yukarıdaki sınıfı şu şekilde de tanımlayabilirsiniz:"
   ]
  },
  {
   "cell_type": "code",
   "execution_count": null,
   "id": "bd3319d2-0367-46eb-8bfc-9a6255864f9c",
   "metadata": {},
   "outputs": [],
   "source": [
    "class Çalışan():\n",
    "    pass"
   ]
  },
  {
   "cell_type": "markdown",
   "id": "b1465c87-2963-4a7a-a717-4ddaea7c10e6",
   "metadata": {},
   "source": [
    "Yani sınıf adından sonra parantez kullanmayabileceğiniz gibi, kullanabilirsiniz de. Her ikisi de aynı kapıya çıkar. Ayrıca sınıf adlarında, yukarıda olduğu gibi büyük harf kullanmak ve birden fazla kelimeden oluşan sınıf adlarının ilk harflerini büyük yazıp bunları birleştirmek adettendir. Yani:"
   ]
  },
  {
   "cell_type": "code",
   "execution_count": null,
   "id": "362ac615-020f-4093-8f8d-ab839f9b17d1",
   "metadata": {},
   "outputs": [],
   "source": [
    "class ÇalışanSınıfı():\n",
    "    pass"
   ]
  },
  {
   "cell_type": "markdown",
   "id": "cad47e9d-309b-4c31-8895-d1c4b3b7c9b6",
   "metadata": {},
   "source": [
    "Veya parantezsiz olarak:"
   ]
  },
  {
   "cell_type": "code",
   "execution_count": null,
   "id": "69a088f9-3aee-401a-b719-06a62482e717",
   "metadata": {},
   "outputs": [],
   "source": [
    "class ÇalışanSınıfı:\n",
    "    pass"
   ]
  },
  {
   "cell_type": "markdown",
   "id": "306d18ea-9103-4d26-be47-ff528aace7f1",
   "metadata": {},
   "source": [
    "Gördüğünüz gibi sınıf tanımlamak fonksiyon tanımlamaya çok benziyor. Fonksiyonları tanımlarken nasıl def deyimini kullanıyorsak, sınıfları tanımlamak için de class deyimini kullanıyoruz.\n",
    "\n",
    "Örnek olması açısından, yukarıda bahsettiğimiz ‘Asker’ grubu için de bir sınıf tanımlayalım:"
   ]
  },
  {
   "cell_type": "code",
   "execution_count": null,
   "id": "e8eaabcd-dc62-4d6d-bbf7-23efb8c9781f",
   "metadata": {},
   "outputs": [],
   "source": [
    "class Asker:\n",
    "    pass"
   ]
  },
  {
   "cell_type": "markdown",
   "id": "e107e91c-9837-4dac-9d70-77fe35ce5453",
   "metadata": {},
   "source": [
    "… veya:"
   ]
  },
  {
   "cell_type": "code",
   "execution_count": null,
   "id": "41f52eab-d5e7-499e-9423-eb31df6bb6d3",
   "metadata": {},
   "outputs": [],
   "source": [
    "class Asker():\n",
    "    pass"
   ]
  },
  {
   "cell_type": "markdown",
   "id": "1bb82ac9-fb23-41e0-ba64-0c12c9498d20",
   "metadata": {},
   "source": [
    "Python’da sınıfları nasıl tanımlayacağımızı öğrendiğimize göre, bu sınıfları nasıl kullanacağımızı incelemeye geçebiliriz.\n",
    "\n",
    "+++++++++++++Sınıf Nitelikleri\n",
    "\n",
    "Yukarıda, boş bir sınıfı nasıl tanımlayacağımızı öğrendik. Elbette tanımladığımız sınıflar hep boş kalmayacak. Bu sınıflara birtakım nitelikler ekleyerek bu sınıfları kullanışlı hale getirebiliriz. Mesela:\n",
    "\n"
   ]
  },
  {
   "cell_type": "code",
   "execution_count": null,
   "id": "e08a180c-329f-4b0e-85f4-1e739f61cb1b",
   "metadata": {},
   "outputs": [],
   "source": [
    "class Çalışan():\n",
    "    kabiliyetleri = []\n",
    "    unvanı = 'işçi'"
   ]
  },
  {
   "cell_type": "markdown",
   "id": "1e6be8eb-ec5d-4a16-aa23-6ac6abad64ab",
   "metadata": {},
   "source": [
    "Burada unvanı ve kabiliyetleri adlı iki değişken tanımladık. Teknik dilde bu değişkenlere ‘sınıf niteliği’ (class attribute) adı verilir.\n",
    "\n",
    "Biraz önce, sınıf tanımlamayı öğrenirken sınıf tanımlamanın fonksiyon tanımlamaya çok benzediğini söylemiştik. Gerçekten de öyledir. Ancak fonksiyonlarla sınıflar arasında (başka farkların dışında) çok önemli bir fark bulunur. Bildiğiniz gibi, bir fonksiyonu tanımladıktan sonra, o fonksiyonun işlemeye başlaması için, o fonksiyonun mutlaka çağrılması gerekir. Çağrılmayan fonksiyonlar çalışmaz. Mesela yukarıdaki sınıfa benzeyen şöyle bir fonksiyon tanımladığımızı düşünün:"
   ]
  },
  {
   "cell_type": "code",
   "execution_count": null,
   "id": "9011673b-7847-41f6-a0d7-1a7177332f15",
   "metadata": {},
   "outputs": [],
   "source": [
    "def çalışan():\n",
    "    kabiliyetleri = []\n",
    "    unvanı = 'işçi'\n",
    "\n",
    "    print(kabiliyetleri)\n",
    "    print(unvanı)"
   ]
  },
  {
   "cell_type": "markdown",
   "id": "ad7e8d84-db13-4158-a455-063c4d87ebe3",
   "metadata": {},
   "source": [
    "Bu fonksiyonun çalışması için, kodlarımızın herhangi bir yerinde bu fonksiyonu çağırmamız lazım:"
   ]
  },
  {
   "cell_type": "code",
   "execution_count": null,
   "id": "0b8ed0a8-12b3-4fe7-9f45-2cad41fc7396",
   "metadata": {},
   "outputs": [],
   "source": [
    "çalışan()\n"
   ]
  },
  {
   "cell_type": "markdown",
   "id": "62a106f7-bc36-4271-bc8e-9dc9b61c796c",
   "metadata": {},
   "source": [
    "Ancak sınıflar farklıdır. Bunu görmek için yukarıdaki fonksiyonu bir sınıf haline getirelim:"
   ]
  },
  {
   "cell_type": "code",
   "execution_count": 1,
   "id": "e41ec371-c32f-4c5b-859c-b7115f37e130",
   "metadata": {},
   "outputs": [
    {
     "name": "stdout",
     "output_type": "stream",
     "text": [
      "[]\n",
      "işçi\n"
     ]
    }
   ],
   "source": [
    "class Çalışan():\n",
    "    kabiliyetleri = []\n",
    "    unvanı = 'işçi'\n",
    "\n",
    "    print(kabiliyetleri)\n",
    "    print(unvanı)"
   ]
  },
  {
   "cell_type": "markdown",
   "id": "9f5921cf-d01c-4737-90d7-11747b4f7ea4",
   "metadata": {},
   "source": [
    "Bu kodları mesela deneme.py adlı bir dosyaya kaydedip çalıştırdığınızda, unvanı ve kabiliyetleri değişkenlerinin değerinin ekrana basıldığını göreceksiniz.\n",
    "\n",
    "Aynı şey, yukarıdaki kodların bir modül olarak içe aktarıldığı durumlarda da geçerlidir. Yani yukarıdaki kodların deneme.py adlı bir dosyada bulunduğunu varsayarsak, bu modülü şu komutla içe aktardığımızda, sınıfı kodlarımızın herhangi bir yerinde çağırmamış olmamıza rağmen sınıf içeriği çalışmaya başlayacaktır:"
   ]
  },
  {
   "cell_type": "markdown",
   "id": "dc02b339-bc18-4634-809c-396be4c5771a",
   "metadata": {},
   "source": [
    "Eğer sınıf niteliklerinin ne zaman çalışacağını kendiniz kontrol etmek isterseniz, bu nitelikleri sınıf dışında kullanabilirsiniz:\n",
    "\n"
   ]
  },
  {
   "cell_type": "code",
   "execution_count": null,
   "id": "d81fe538-aedb-486a-b516-74dd64637e28",
   "metadata": {},
   "outputs": [],
   "source": [
    "class Çalışan():\n",
    "    kabiliyetleri = []\n",
    "    unvanı = 'işçi'\n",
    "\n",
    "print(Çalışan.kabiliyetleri)\n",
    "print(Çalışan.unvanı)"
   ]
  },
  {
   "cell_type": "markdown",
   "id": "b7db7bc8-f0e2-45c6-ad90-9e8c6d52650e",
   "metadata": {},
   "source": [
    "Burada Çalışan() adlı sınıfın niteliklerine nasıl eriştiğimize dikkat edin. Gördüğünüz gibi, sınıf niteliklerine erişmek için doğrudan sınıfın adını parantezsiz bir şekilde kullanıyoruz. Eğer sınıf adlarını parantezli bir şekilde yazarsak başka bir şey yapmış oluruz. Bundan biraz sonra bahsedeceğiz. Biz şimdilik, sınıf niteliklerine erişmek için sınıf adlarını parantezsiz kullanmamız gerektiğini bilelim yeter.\n",
    "\n",
    "Hatırlarsanız, bu bölüme başlarken, nesne tabanlı programlama yaklaşımının, özellikle birtakım ortak niteliklere ve davranış şekillerine sahip gruplar tanımlamak gerektiğinde son derece kullanışlı olduğunu söylemiştik. Gelin isterseniz yukarıdaki Çalışan() sınıfına birkaç nitelik daha ekleyerek bu iddiamızı destekleyelim:"
   ]
  },
  {
   "cell_type": "code",
   "execution_count": null,
   "id": "53058d1d-f52b-4273-92da-37cd5443288c",
   "metadata": {},
   "outputs": [],
   "source": [
    "class Çalışan():\n",
    "    kabiliyetleri = []\n",
    "    unvanı = 'işçi'\n",
    "    maaşı = 1500\n",
    "    memleketi = ''\n",
    "    doğum_tarihi = ''"
   ]
  },
  {
   "cell_type": "markdown",
   "id": "2502b8e4-7c19-423d-9930-df983b83d013",
   "metadata": {},
   "source": [
    "Burada belli kabiliyetleri, unvanı, maaşı, memleketi ve doğum_tarihi olan bir Çalışan() sınıfı tanımladık. Yani ‘Çalışan’ adlı bir grubun ortak niteliklerini belirledik. Elbette her çalışanın memleketi ve doğum tarihi farklı olacağı için sınıf içinde bu değişkenlere belli bir değer atamadık. Bunların birer karakter dizisi olacağını belirten bir işaret olması için yalnızca memleketi ve doğum_tarihi adlı birer boş karakter dizisi tanımladık.\n",
    "\n",
    "Yukarıda tanımladığımız sınıf niteliklerine, doğrudan sınıf adını kullanarak erişebileceğimizi biliyorsunuz:"
   ]
  },
  {
   "cell_type": "code",
   "execution_count": null,
   "id": "e64a6839-4e27-4de3-81bb-396c56d977d4",
   "metadata": {},
   "outputs": [],
   "source": [
    "print(Çalışan.maaşı)\n",
    "print(Çalışan.memleketi)\n",
    "print(Çalışan.doğum_tarihi)"
   ]
  },
  {
   "cell_type": "markdown",
   "id": "7c567581-d49c-4c02-92ed-6a25946efb0a",
   "metadata": {},
   "source": [
    "Eğer isterseniz bu sınıfa yeni sınıf nitelikleri de ekleyebilirsiniz:"
   ]
  },
  {
   "cell_type": "code",
   "execution_count": null,
   "id": "36606d26-8e73-4ef5-991e-24e1ec14cf41",
   "metadata": {},
   "outputs": [],
   "source": [
    "Çalışan.isim = 'Ahmet'\n",
    "Çalışan.yaş = 40"
   ]
  },
  {
   "cell_type": "markdown",
   "id": "dae6e41b-0dcb-46c4-ae79-d5c69e364314",
   "metadata": {},
   "source": [
    "Gayet güzel…\n",
    "\n",
    "Ancak burada şöyle bir sorun var: Biz yukarıdaki gibi doğrudan sınıf adını kullanarak öğelere eriştiğimizde kodlarımız tek kullanımlık olmuş oluyor. Yani bu şekilde ancak tek bir Çalışan() nesnesi (‘nesne’ kavramına ilerde değineceğiz), dolayısıyla da tek bir çalışan oluşturma imkanı elde edebiliyoruz. Ama biz, mantıken, sınıf içinde belirtilen özellikleri taşıyan, Ahmet, Mehmet, Veli, Selim, Selin ve buna benzer, istediğimiz sayıda çalışan oluşturabilmeliyiz. Peki ama nasıl?\n",
    "\n",
    "+++++++++++Sınıfların Örneklenmesi\n",
    "\n",
    "Biraz önce şöyle bir sınıf tanımlamıştık:"
   ]
  },
  {
   "cell_type": "code",
   "execution_count": null,
   "id": "dacbdac6-6f59-473e-8179-2778e1b42626",
   "metadata": {},
   "outputs": [],
   "source": [
    "class Çalışan():\n",
    "    kabiliyetleri = []\n",
    "    unvanı = 'işçi'\n",
    "    maaşı = 1500\n",
    "    memleketi = ''\n",
    "    doğum_tarihi = ''"
   ]
  },
  {
   "cell_type": "markdown",
   "id": "f4177a79-44e0-419e-9434-57112ceb2fd2",
   "metadata": {},
   "source": [
    "Daha önce de söylediğimiz gibi, sınıflar belli birtakım ortak özelliklere sahip gruplar tanımlamak için biçilmiş kaftandır. Burada da, her bir çalışan için ortak birtakım nitelikler tanımlayan Çalışan() adlı bir sınıf oluşturduk. Ancak elbette bu sınıfın bir işe yarayabilmesi için, biraz önce de değindiğimiz gibi, bu sınıfı temel alarak, bu sınıfta belirtilen nitelikleri taşıyan birden fazla sınıf üyesi meydana getirebilmemiz lazım.\n",
    "\n",
    "Şimdi dikkatlice bakın:"
   ]
  },
  {
   "cell_type": "code",
   "execution_count": null,
   "id": "c0dcc95d-6c5f-494e-8b73-213a03599238",
   "metadata": {},
   "outputs": [],
   "source": [
    "class Çalışan():\n",
    "    kabiliyetleri = []\n",
    "    unvanı = 'işçi'\n",
    "    maaşı = 1500\n",
    "    memleketi = ''\n",
    "    doğum_tarihi = ''\n",
    "\n",
    "ahmet = Çalışan()"
   ]
  },
  {
   "cell_type": "markdown",
   "id": "469738e4-6a73-415f-8323-aa8c946fa21e",
   "metadata": {},
   "source": [
    "Burada sınıfımızı ahmet adlı bir değişkene atadık.\n",
    "\n",
    "İşte bu işleme teknik dilde ‘örnekleme’ veya ‘örneklendirme’ (instantiation) adı verilir. Bu işlemi fonksiyon çağırma ile kıyaslayabiliriz: Python programlama dilinde bir fonksiyonu kullanışlı hale getirme işlemine ‘çağırma’, bir sınıfı kullanışlı hale getirme işlemine ise ‘örnekleme’ adı veriyoruz.\n",
    "\n",
    "Örnekleme kavramını daha iyi anlayabilmek için başka bir sınıf daha oluşturalım:"
   ]
  },
  {
   "cell_type": "code",
   "execution_count": null,
   "id": "bbbd9a80-1e9d-462e-ab07-c05421588185",
   "metadata": {},
   "outputs": [],
   "source": [
    "class Asker():\n",
    "    rütbesi = 'Er'\n",
    "    standart_teçhizat = ['G3', 'kasatura', 'süngü', 'el bombası']\n",
    "    gücü = 60\n",
    "    birliği = ''"
   ]
  },
  {
   "cell_type": "markdown",
   "id": "62823c42-ae5d-48d6-ab16-4360ffe3807d",
   "metadata": {},
   "source": [
    "Burada da belli birtakım niteliklere sahip Asker() adlı bir sınıf tanımladık. Bu sınıfın niteliklerine doğrudan sınıf adını kullanarak erişebileceğimizi biliyorsunuz:"
   ]
  },
  {
   "cell_type": "raw",
   "id": "3387b83b-b340-45e0-ae12-60950f1f2883",
   "metadata": {},
   "source": [
    "Asker.rütbesi\n",
    "Asker.standart_teçhizat\n",
    "Asker.gücü\n",
    "Asker.birliği"
   ]
  },
  {
   "cell_type": "markdown",
   "id": "d353d427-5105-451c-9da4-c2daa22c74f6",
   "metadata": {},
   "source": [
    "Ama bu sınıfın bir işe yarayabilmesi için, bu sınıfa bir ‘referans’ oluşturmamız lazım, ki daha sonra bu sınıfa bu referans üzerinden atıfta bulunabilelim. Yani bu sınıfı çağırırken buna bir isim vermeliyiz, ki bu isim üzerinden sınıfa ve niteliklerine erişebilelim.\n",
    "\n",
    "Mesela bu sınıfa daha sonra atıfta bulunabilmek amacıyla, bu sınıf için mehmet adlı bir referans noktası oluşturalım:\n",
    "\n"
   ]
  },
  {
   "cell_type": "code",
   "execution_count": null,
   "id": "2f67b439-8a1d-4ce6-ab10-f26aab6111e4",
   "metadata": {},
   "outputs": [],
   "source": [
    "mehmet = Asker()\n"
   ]
  },
  {
   "cell_type": "markdown",
   "id": "e3380670-c6cf-4aec-a253-1e4f9b86c86e",
   "metadata": {},
   "source": [
    "İşte, teknik olarak ifade etmemiz gerekirse, sınıfları bir isme atama işlemine örnekleme (veya örneklendirme) adı veriyoruz.\n",
    "\n",
    "Burada ahmet ve mehmet, ait oldukları sınıfların birer ‘sureti’ veya başka bir deyişle ‘örneği’dir (instance). mehmet’in, Asker() adlı sınıfın bir örneği, ahmet’inse Çalışan() adlı sınıfın bir örneği olması demek, mehmet’in ve ahmet’in, ilgili sınıfların bütün özelliklerini taşıyan birer üyesi olması demektir.\n",
    "\n"
   ]
  },
  {
   "cell_type": "raw",
   "id": "a6e240e4-bdbb-4420-854d-feca08f89e72",
   "metadata": {},
   "source": [
    "Bu bağlamda ‘örnek’ kelimesini ‘misal’ anlamında kullanmadığımıza özellikle dikkatinizi çekmek isterim. Türkçede ‘örnek’ kelimesi ile karşıladığımız ‘instance’ kavramı, nesne tabanlı programlamanın önemli teknik kavramlarından biridir."
   ]
  },
  {
   "cell_type": "markdown",
   "id": "972398e6-ee49-4b46-b793-290577a6fed5",
   "metadata": {},
   "source": [
    "Biz bir sınıfı çağırdığımızda (yani Asker() veya Çalışan() komutunu verdiğimizde), o sınıfı örneklemiş oluyoruz. Örneklediğimiz sınıfı bir değişkene atadığımızda ise o sınıfın bir örneğini çıkarmış, yani o sınıfın bütün özelliklerini taşıyan bir üye meydana getirmiş oluyoruz.\n",
    "\n",
    "Bu arada, elbette bu teknik terimleri ezberlemek zorunda değilsiniz. Ancak nesne tabanlı programlamaya ilişkin metinlerde bu terimlerle sık sık karşılaşacaksınız. Eğer bu terimlerin anlamını bilirseniz, okuduğunuz şey zihninizde daha kolay yer edecek, aksi halde, sürekli ne demek olduğunu bilmediğiniz terimlerle karşılaşmak öğrenme motivasyonunuza zarar verecektir.\n",
    "\n",
    "Esasında nesne tabanlı programlamayı öğrencilerin gözünde zor kılan şey, bu programlama yaklaşımının özünden ziyade, içerdiği terimlerdir. Gerçekten de nesne tabanlı programlama, pek çok çetrefilli teknik kavramı bünyesinde barındıran bir sistemdir. Bu nedenle öğrenciler bu konuya ilişkin bir şeyler okurken, muğlak kavramların arasında kaybolup konunun esasını gözden kaçırabiliyor. Eğer nesne tabanlı programlamaya ilişkin kavramları hakkıyla anlarsanız, bu yaklaşıma dair önemli bir engeli aşmışsınız demektir.\n",
    "\n",
    "Öte yandan, nesne tabanlı programlamaya ilişkin kavramları anlamak sadece Türkçe okuyup yazanlar için değil, aynı zamanda İngilizce bilip ilgili makaleleri özgün dilinden okuyanlar için de zor olabilir. O yüzden biz bu bölümde, kavramların Türkçeleri ile birlikte İngilizcelerini de vererek, İngilizce bilenlerin özgün metinleri okurken konuyu daha iyi anlamalarını sağlamaya çalışacağız. Dolayısıyla, bir kavramdan bahsederken onun aslının ne olduğunu da belirtmemiz, İngilizce bilip de konuyu daha ileri bir düzeyde araştırmak isteyenlere kolaylık sağlayacaktır.\n",
    "\n",
    "Ne diyorduk? Eğer elimizde şöyle bir kod varsa:"
   ]
  },
  {
   "cell_type": "code",
   "execution_count": null,
   "id": "a85cba12-f471-42e0-9b1c-064202bda912",
   "metadata": {},
   "outputs": [],
   "source": [
    "class Sipariş():\n",
    "    firma = ''\n",
    "    miktar = 0\n",
    "    sipariş_tarihi = ''\n",
    "    teslim_tarihi = ''\n",
    "    stok_adedi = 0\n",
    "\n",
    "\n",
    "jilet = Sipariş()"
   ]
  },
  {
   "cell_type": "markdown",
   "id": "722fb380-5086-459c-a5a7-f54e923b8bb7",
   "metadata": {},
   "source": [
    "Burada class, sınıfı tanımlamamıza yarayan bir öğedir. Tıpkı fonksiyonlardaki def gibi, sınıfları tanımlamak için de class adlı bir parçacığı kullanıyoruz.\n",
    "\n",
    "Sipariş ise, sınıfımızın adı oluyor. Biz sınıfımızın adını parantezli veya parantezsiz olarak kullanma imkanına sahibiz.\n",
    "\n",
    "Sınıfın gövdesinde tanımladığımız şu değişkenler birer sınıf niteliğidir (class attribute):\n",
    "\n"
   ]
  },
  {
   "cell_type": "code",
   "execution_count": null,
   "id": "2251c45f-89e7-44e2-9890-4dd5ec87a977",
   "metadata": {},
   "outputs": [],
   "source": [
    "firma = ''\n",
    "miktar = 0\n",
    "sipariş_tarihi = ''\n",
    "teslim_tarihi = ''\n",
    "stok_adedi = 0"
   ]
  },
  {
   "cell_type": "markdown",
   "id": "53d48d59-c8fc-4801-940e-c66884b07826",
   "metadata": {},
   "source": [
    "jilet = Sipariş() komutunu verdiğimizde ise, biraz önce tanımladığımız sınıfı örnekleyip (instantiation), bunu jilet adlı bir örneğe (instance) atamış oluyoruz. Yani jilet, Sipariş() adlı sınıfın bir örneği olmuş oluyor. Bir sınıftan istediğimiz sayıda örnek çıkarabiliriz:\n",
    "\n"
   ]
  },
  {
   "cell_type": "raw",
   "id": "5c9c23dd-35f2-4c9c-90ce-b65d1e50e221",
   "metadata": {},
   "source": [
    "kalem = Sipariş()\n",
    "pergel = Sipariş()\n",
    "çikolata = Sipariş()"
   ]
  },
  {
   "cell_type": "markdown",
   "id": "94731d87-3533-4812-91ee-90cf998f4c8b",
   "metadata": {},
   "source": [
    "Bu şekilde Sipariş() sınıfını üç kez örneklemiş, yani bu sınıfın bütün özelliklerini taşıyan üç farklı üye meydana getirmiş oluyoruz.\n",
    "\n",
    "Bu sınıf örneklerini kullanarak, ilgili sınıfın niteliklerine (attribute) erişebiliriz:\n",
    "\n"
   ]
  },
  {
   "cell_type": "raw",
   "id": "bdd75840-a6db-476f-ab64-d359a0042b9d",
   "metadata": {},
   "source": [
    "kalem = Sipariş()\n",
    "\n",
    "kalem.firma\n",
    "kalem.miktar\n",
    "kalem.sipariş_tarihi\n",
    "kalem.teslim_tarihi\n",
    "kalem.stok_adedi"
   ]
  },
  {
   "cell_type": "markdown",
   "id": "66fbe57e-f1a3-422f-9509-138c66f47fa4",
   "metadata": {},
   "source": [
    "Bildiğiniz gibi, eriştiğimiz bu nitelikler birer sınıf niteliği olduğu için, sınıfı hiç örneklemeden, bu niteliklere doğrudan sınıf adı üzerinden de erişebilirdik:"
   ]
  },
  {
   "cell_type": "raw",
   "id": "9cb4501c-31c6-469d-8292-85f0f376609b",
   "metadata": {},
   "source": [
    "Sipariş.firma\n",
    "Sipariş.miktar\n",
    "Sipariş.sipariş_tarihi\n",
    "Sipariş.teslim_tarihi\n",
    "Sipariş.stok_adedi"
   ]
  },
  {
   "cell_type": "markdown",
   "id": "49cd6f30-8a96-48e9-b676-bf1c819e3912",
   "metadata": {},
   "source": [
    "Özellikle, örneklenmesine gerek olmayan, yalnızca bir kez çalışacak sınıflarda, sınıf niteliklerine örnekler üzerinden değil de doğrudan sınıf adı üzerinden erişmek daha pratik olabilir. Ancak yukarıda olduğu gibi, tek bir sınıftan, ortak niteliklere sahip birden fazla üye oluşturmamız gereken durumlarda sınıfı bir örneğe atayıp, sınıf niteliklerine bu örnek üzerinden erişmek çok daha akıllıca olacaktır. Ancak her koşulda sınıfların niteliklerine doğrudan sınıf adları üzerinden erişmek yerine örnekler üzerinden erişmeyi tercih etmenizin de hiçbir sakıncası olmadığını bilin.\n",
    "\n",
    "Gelin şimdi yukarıda öğrendiklerimizi kullanarak ufak tefek uygulama çalışmaları yapalım.\n",
    "\n",
    "Sınıfımız şu olsun:\n",
    "\n"
   ]
  },
  {
   "cell_type": "code",
   "execution_count": null,
   "id": "de3a4ff1-fdaf-494f-b969-86526b4e500f",
   "metadata": {},
   "outputs": [],
   "source": [
    "class Sipariş():\n",
    "    firma = ''\n",
    "    miktar = 0\n",
    "    sipariş_tarihi = ''\n",
    "    teslim_tarihi = ''\n",
    "    stok_adedi = 0"
   ]
  },
  {
   "cell_type": "markdown",
   "id": "37357879-293d-4f15-8a57-bf96f26af1a7",
   "metadata": {},
   "source": [
    "Bildiğiniz gibi, ufak tefek kod çalışmaları yapmak için Python’ın etkileşimli kabuğu son derece uygun bir ortamdır. O halde yukarıdaki sınıfı sipariş.py adlı bir dosyaya kaydedelim, bu dosyanın bulunduğu konumda bir etkileşimli kabuk ortamı açalım ve sipariş.py dosyasını bir modül olarak içe aktaralım:"
   ]
  },
  {
   "cell_type": "code",
   "execution_count": null,
   "id": "810119e5-b172-45ad-be26-f768d802bca3",
   "metadata": {},
   "outputs": [],
   "source": [
    "import sipariş"
   ]
  },
  {
   "cell_type": "markdown",
   "id": "ed68a7b4-1a8c-4dd9-8fd9-bab1a6151ef3",
   "metadata": {},
   "source": [
    "Böylece sipariş modülü içindeki nitelik ve metotlara erişim sağladık. Bunu teyit edelim:\n",
    "\n"
   ]
  },
  {
   "cell_type": "raw",
   "id": "f20e06e8-744f-4979-acb2-777d02582970",
   "metadata": {},
   "source": [
    "dir(sipariş)\n",
    "\n",
    "['Sipariş', '__builtins__', '__cached__', '__doc__', '__file__',\n",
    " '__loader__', '__name__', '__package__', '__spec__']"
   ]
  },
  {
   "cell_type": "markdown",
   "id": "0fd82a0a-6828-48f3-9f80-b6799c489141",
   "metadata": {},
   "source": [
    "Sipariş() adlı sınıfı listenin en başında görebilirsiniz. O halde gelin bu sınıfı örnekleyerek kullanılabilir hale getirelim:\n",
    "\n"
   ]
  },
  {
   "cell_type": "code",
   "execution_count": null,
   "id": "84c89527-06c5-4894-80d6-2df9a9d84649",
   "metadata": {},
   "outputs": [],
   "source": [
    "gofret = sipariş.Sipariş()"
   ]
  },
  {
   "cell_type": "markdown",
   "id": "52c07c80-33af-45a1-85c1-91e187c8ec2c",
   "metadata": {},
   "source": [
    "Elbette Sipariş() adlı sınıf sipariş adlı modül içinde bulunduğundan, bu sınıfa sipariş önekiyle erişiyoruz. Tabii biz isteseydik modülü şu şekilde de içe aktarabilirdik:\n",
    "\n"
   ]
  },
  {
   "cell_type": "code",
   "execution_count": null,
   "id": "95d6cb43-d41d-4d1e-854f-4b1cc91e389b",
   "metadata": {},
   "outputs": [],
   "source": [
    "from sipariş import Sipariş"
   ]
  },
  {
   "cell_type": "markdown",
   "id": "575b655a-23bc-4b42-b19f-5010ed8e3c6e",
   "metadata": {},
   "source": [
    "Böylece Sipariş() sınıfına öneksiz olarak erişebilirdik:"
   ]
  },
  {
   "cell_type": "code",
   "execution_count": null,
   "id": "7a0fec71-2678-4f78-b9c8-a6e015220bbb",
   "metadata": {},
   "outputs": [],
   "source": [
    "gofret = Sipariş()"
   ]
  },
  {
   "cell_type": "markdown",
   "id": "8cf03571-b766-404a-b3fe-2e8c985e6d34",
   "metadata": {},
   "source": [
    "Ancak mevcut isim alanını kirletmemek ve bu alanı nereden geldiği belli olmayan birtakım nitelik ve metotlarla doldurmamak için biz import modül_adı biçimini tercih ediyoruz. Aksi halde, bu kodları okuyanlar, Sipariş() adlı sınıfın sipariş adlı bir modüle ait olduğunu anlamayacak, bu sınıfı ilk olarak mevcut dosya içinde bulmaya çalışacaklardır. Ama biz modül adını sınıf adına eklediğimizde modülün nereden geldiği gayet açık bir şekilde anlaşılabiliyor. Böylece hem kodları okuyan başkalarının işini hem de birkaç ay sonra kendi kodlarımıza tekrar bakmak istediğimizde kendi işimizi kolaylaştırmış oluyoruz.\n",
    "\n",
    "Neyse… Lafı daha fazla dolandırmadan kaldığımız yerden devam edelim…\n",
    "\n",
    "Sınıfımızı şu şekilde içe aktarmış ve örneklemiştik:\n",
    "\n"
   ]
  },
  {
   "cell_type": "code",
   "execution_count": null,
   "id": "4f9001bf-3675-47d4-a086-242b750eb5be",
   "metadata": {},
   "outputs": [],
   "source": [
    "import sipariş\n",
    "gofret = sipariş.Sipariş()"
   ]
  },
  {
   "cell_type": "markdown",
   "id": "72ab2380-2132-4cce-8414-9cdefdf5893c",
   "metadata": {},
   "source": [
    "Gelin şimdi bir de gofret örneğinin (instance) içeriğini kontrol edelim:"
   ]
  },
  {
   "cell_type": "code",
   "execution_count": null,
   "id": "66477236-c227-4c48-9345-d22e2a04160e",
   "metadata": {},
   "outputs": [],
   "source": [
    "dir(gofret)\n",
    "\n",
    "['__class__', '__delattr__', '__dict__', '__dir__', '__doc__',\n",
    " '__eq__', '__format__', '__ge__', '__getattribute__', '__gt__',\n",
    " '__hash__', '__init__', '__le__', '__lt__', '__module__', '__ne__',\n",
    " '__new__', '__reduce__', '__reduce_ex__', '__repr__', '__setattr__',\n",
    " '__sizeof__', '__str__', '__subclasshook__', '__weakref__', 'firma',\n",
    " 'miktar', 'sipariş_tarihi', 'stok_adedi', 'teslim_tarihi']"
   ]
  },
  {
   "cell_type": "markdown",
   "id": "6188a88b-6472-4f22-bce6-8b92f6b3fdc6",
   "metadata": {},
   "source": [
    "Gördüğünüz gibi, sınıf içinde tanımladığımız bütün sınıf nitelikleri (firma, miktar, sipariş_tarihi, stok_adedi ve teslim_tarihi) bu liste içinde var.\n",
    "\n",
    "Bu sınıf niteliklerinden, adı firma olanı kullanarak siparişin hangi firmadan yapılacağını belirleyebiliriz:\n",
    "\n"
   ]
  },
  {
   "cell_type": "code",
   "execution_count": null,
   "id": "ffad8672-ae86-47fc-a4c9-029714d50af7",
   "metadata": {},
   "outputs": [],
   "source": [
    "gofret.firma = 'Öz İstihza ve Şerikleri Gıda, Ticaret Anonim Şirketi'"
   ]
  },
  {
   "cell_type": "markdown",
   "id": "2d7e7973-0bcf-43a0-a493-883396c382b2",
   "metadata": {},
   "source": [
    "Böylece, sınıf içindeki bir niteliğe yeni bir değer atamış olduk. İsterseniz sipariş miktarını da belirleyelim:\n",
    "\n"
   ]
  },
  {
   "cell_type": "code",
   "execution_count": null,
   "id": "750e5238-1b1b-42d8-b282-08e59cf7a23e",
   "metadata": {},
   "outputs": [],
   "source": [
    "gofret.miktar = 1000\n"
   ]
  },
  {
   "cell_type": "markdown",
   "id": "ccd1a334-e899-442d-be90-d9dde7b00aa2",
   "metadata": {},
   "source": [
    "Öteki sınıf niteliklerini de ihtiyacınıza göre ayarlayabilir, hatta bu sınıfa yeni nitelikler de ekleyebilirsiniz.\n",
    "\n",
    "Gelin isterseniz pratik olması bakımından bir örnek daha verelim.\n",
    "\n",
    "Elimizde şöyle bir sınıf olsun:"
   ]
  },
  {
   "cell_type": "code",
   "execution_count": null,
   "id": "56ecdfcf-0eb8-477b-ac1c-69c5312e8892",
   "metadata": {},
   "outputs": [],
   "source": [
    "class Çalışan():\n",
    "    kabiliyetleri = []\n",
    "    unvanı = 'işçi'\n",
    "    maaşı = 1500\n",
    "    memleketi = ''\n",
    "    doğum_tarihi = ''"
   ]
  },
  {
   "cell_type": "markdown",
   "id": "098949a6-3e15-4287-95a9-5fb55a0f544e",
   "metadata": {},
   "source": [
    "Burada kabiliyetleri, unvanı, maaşı, memleketi ve doğum_tarihi adlı beş adet değişken tanımladık. Teknik dilde bu değişkenlere ‘sınıf niteliği’ (class attribute) adı verildiğini biliyorsunuz.\n",
    "\n",
    "Çalışan() sınıfı içindeki niteliklere erişmek için birkaç tane örnek çıkaralım:"
   ]
  },
  {
   "cell_type": "raw",
   "id": "7df215d3-f244-4f4b-9305-ba4e7470de95",
   "metadata": {},
   "source": [
    "ahmet = Çalışan()\n",
    "mehmet = Çalışan()\n",
    "ayşe = Çalışan()"
   ]
  },
  {
   "cell_type": "markdown",
   "id": "f98f02a0-5a93-43ed-af75-8b840aad5a70",
   "metadata": {},
   "source": [
    "Bu şekilde Çalışan() sınıfının üç farklı örneğini oluşturmuş olduk. Bu sınıfın niteliklerine, oluşturduğumuz bu örnekler üzerinden erişebiliriz:"
   ]
  },
  {
   "cell_type": "code",
   "execution_count": null,
   "id": "4c148061-2da0-4a48-8b39-546546bd8b04",
   "metadata": {},
   "outputs": [],
   "source": [
    "print(ahmet.kabiliyetleri)\n",
    "print(ahmet.unvanı)\n",
    "\n",
    "print(mehmet.maaşı)\n",
    "print(mehmet.memleketi)\n",
    "\n",
    "print(ayşe.kabiliyetleri)\n",
    "print(ayşe.doğum_tarihi)"
   ]
  },
  {
   "cell_type": "markdown",
   "id": "e0305f46-9dcb-4d14-b959-b0a66eb304de",
   "metadata": {},
   "source": [
    "Çıkardığımız örnekler aracılığıyla sınıf nitelikleri üzerinde değişiklik de yapabiliyoruz:\n",
    "\n"
   ]
  },
  {
   "cell_type": "code",
   "execution_count": null,
   "id": "516278a0-ae81-4065-8f1e-d1c86ec648cb",
   "metadata": {},
   "outputs": [],
   "source": [
    "ahmet.kabiliyetleri.append('prezantabl')\n"
   ]
  },
  {
   "cell_type": "markdown",
   "id": "99ae5de0-2d23-4a4f-83fc-15e18bf5e3ae",
   "metadata": {},
   "source": [
    "Şimdi burada bir duralım. Çünkü burada çok sinsi bir sorunla karşı karşıyayız. Dikkatlice bakın.\n",
    "\n",
    "Çalışan() sınıfı için bir ahmet örneği oluşturalım:\n",
    "\n"
   ]
  },
  {
   "cell_type": "code",
   "execution_count": null,
   "id": "9fc82c9a-45bb-497b-a21a-4ba3a58edba8",
   "metadata": {},
   "outputs": [],
   "source": [
    "ahmet = Çalışan()\n"
   ]
  },
  {
   "cell_type": "markdown",
   "id": "88563f45-a84d-4d91-ab41-03c7bb55fe1e",
   "metadata": {},
   "source": [
    "Buna ‘prezantabl’ kabiliyetini ekleyelim:"
   ]
  },
  {
   "cell_type": "code",
   "execution_count": null,
   "id": "72a534f7-3ec4-4bd1-a08c-9f8f26cf72e4",
   "metadata": {},
   "outputs": [],
   "source": [
    "ahmet.kabiliyetleri.append('prezantabl')\n"
   ]
  },
  {
   "cell_type": "markdown",
   "id": "3d2a772e-d678-434c-a141-05293a6c5f04",
   "metadata": {},
   "source": [
    "Bu kabiliyetin eklendiğini teyit edelim:\n",
    "\n"
   ]
  },
  {
   "cell_type": "code",
   "execution_count": null,
   "id": "bc894e90-4f2d-4450-b767-8b83c50a583f",
   "metadata": {},
   "outputs": [],
   "source": [
    "print(ahmet.kabiliyetleri)\n"
   ]
  },
  {
   "cell_type": "markdown",
   "id": "1f15635c-ee3b-42b7-b353-e6c76452549d",
   "metadata": {},
   "source": [
    "Şimdi Çalışan() sınıfının bir başka örneğini oluşturalım:"
   ]
  },
  {
   "cell_type": "code",
   "execution_count": null,
   "id": "959a1d5e-5c58-4d58-aa47-43f23e3fbbcc",
   "metadata": {},
   "outputs": [],
   "source": [
    "selim = Çalışan()\n"
   ]
  },
  {
   "cell_type": "markdown",
   "id": "d204cb99-2cff-403e-a129-080c44cfe7d6",
   "metadata": {},
   "source": [
    "Bu örneğin kabiliyetlerini kontrol edelim:\n",
    "\n"
   ]
  },
  {
   "cell_type": "code",
   "execution_count": null,
   "id": "60fee0d3-52cc-4a0a-b7ff-cc57955bd0f3",
   "metadata": {},
   "outputs": [],
   "source": [
    "print(selim.kabiliyetleri)\n"
   ]
  },
  {
   "cell_type": "markdown",
   "id": "0707a01f-1cca-4987-bcf6-162504091c1b",
   "metadata": {},
   "source": [
    "Gördüğünüz gibi, yalnızca ahmet örneğine eklemek istediğimiz ‘prezantabl’ kabiliyeti selim örneğine de eklenmiş. Ancak normal şartlarda arzu edilen bir şey değildir bu. Zira bu durum aslında programımızdaki bir tasarım hatasına işaret eder. Peki ama bu durumun sebebi nedir?\n",
    "\n",
    "Hatırlarsanız, sınıf niteliklerinden bahsederken, bu niteliklerin önemli bir özelliğinin, sınıf çağrılmadan çalışmaya başlamaları olduğunu söylemiştik. Sınıf niteliklerinin bir başka önemli özelliği de, bu niteliklere atanan değerlerin ve eğer yapılabiliyorsa bu değerler üzerinde sonradan yapılan değişikliklerin o sınıfın bütün örneklerini etkiliyor olmasıdır. Eğer ilgili sınıf niteliği; karakter dizisi, demet ve sayı gibi değiştirilemeyen (immutable) bir veri tipi ise bu sınıf niteliği üzerinde zaten değişiklik yapamazsınız. Yaptığınız şey ancak ilgili sınıf niteliğini yeniden tanımlamak olacaktır. Ancak eğer sınıf niteliği, liste, sözlük ve küme gibi değiştirilebilir (mutable) bir veri tipi ise bu nitelik üzerinde yapacağınız değişiklikler bütün sınıf örneklerine yansıyacaktır. Yazdığınız program açısından bu özellik arzu ettiğiniz bir şey olabilir veya olmayabilir. Önemli olan, sınıf niteliklerinin bu özelliğinin farkında olmanız ve kodlarınızı bu bilgi çerçevesinde yazmanızdır. Mesela yukarıdaki örnekte kabiliyetleri listesine eklenen öğelerin bütün örneklere yansıması istediğimiz bir şey değil. Ama eğer sınıfımız şöyle olsaydı:"
   ]
  },
  {
   "cell_type": "code",
   "execution_count": null,
   "id": "0b871ee6-04d2-420c-8809-c8eb1e49fad7",
   "metadata": {},
   "outputs": [],
   "source": [
    "class Çalışan():\n",
    "    personel_listesi = []"
   ]
  },
  {
   "cell_type": "markdown",
   "id": "845f6fc7-b2eb-4112-9763-6a98bba0d9bd",
   "metadata": {},
   "source": [
    "Burada personel_listesi adlı bir sınıf niteliği tanımladık. Eğer bu listenin, personele eklenen bütün elemanları barındırmasını planlıyorsak bu listenin her örneklemede büyümesi elbette istediğimiz bir şey olacaktır.\n",
    "\n",
    "Peki o halde biz değerinin her örnekte ortak değil de her örneğe özgü olmasını istediğimiz nitelikleri nasıl tanımlayacağız? Elbette sınıf nitelikleri yerine örnek nitelikleri denen başka bir kavramdan yararlanarak…"
   ]
  },
  {
   "cell_type": "markdown",
   "id": "eddb8509-26de-473a-ada2-8e0febdf0cee",
   "metadata": {},
   "source": [
    "+++++++++++++++Örnek Nitelikleri\n",
    "\n",
    "Şimdiye kadar öğrendiklerimiz, sınıflarla faydalı işler yapmamız için pek yeterli değildi. Sınıflar konusunda ufkumuzun genişleyebilmesi için, sınıf niteliklerinin (class attributes) yanı sıra, nesne tabanlı programlamanın önemli bir parçası olan örnek niteliklerinden (instance attributes) de söz etmemiz gerekiyor. Hem örnek niteliklerini öğrendikten sonra, bunların sınıf nitelikleri ile arasındaki farkları görünce sınıf niteliklerini de çok daha iyi anlamış olacaksınız.\n",
    "\n"
   ]
  },
  {
   "cell_type": "markdown",
   "id": "6dc8206b-1386-4d6e-92d2-a9d559eb6ebb",
   "metadata": {},
   "source": [
    "+++++++++++__init__ Fonksiyonu ve self\n",
    "\n",
    "Buraya gelene kadar, sınıflar ile ilgili verdiğimiz kod parçaları yalnızca sınıf niteliklerini içeriyordu. Mesela yukarıda tanımladığımız Çalışan() sınıfı içindeki unvanı ve kabiliyetleri adlı değişkenlerin birer sınıf niteliği olduğunu biliyoruz.\n",
    "\n",
    "Sınıf nitelikleri dışında, Python’da bir de örnek nitelikleri bulunur.\n",
    "\n",
    "Bildiğiniz gibi, Python’da sınıf niteliklerini tanımlamak için yapmamız gereken tek şey, sınıf tanımının hemen altına bunları alelade birer değişken gibi yazmaktan ibarettir:"
   ]
  },
  {
   "cell_type": "code",
   "execution_count": null,
   "id": "e9df5b27-19dc-42c0-85ed-ee3c7e61850f",
   "metadata": {},
   "outputs": [],
   "source": [
    "class Sınıf():\n",
    "    sınıf_niteliği1 = 0\n",
    "    sınıf_niteliği2 = 1"
   ]
  },
  {
   "cell_type": "markdown",
   "id": "e2a08e11-9b01-489d-b8ee-a4103b20a4f3",
   "metadata": {},
   "source": [
    "Örnek niteliklerini tanımlamak için ise iki yardımcı araca ihtiyacımız var: __init__() fonksiyonu ve self.\n",
    "\n",
    "Bu iki aracı şu şekilde kullanıyoruz:"
   ]
  },
  {
   "cell_type": "code",
   "execution_count": null,
   "id": "63cd6fd4-1705-4313-9998-5733a83521a4",
   "metadata": {},
   "outputs": [],
   "source": [
    "class Çalışan():\n",
    "    def __init__(self):\n",
    "        self.kabiliyetleri = []"
   ]
  },
  {
   "cell_type": "markdown",
   "id": "6bddb52f-558e-4797-83ce-b3a169637405",
   "metadata": {},
   "source": [
    "Bu arada, __init__() fonksiyonunun nasıl yazıldığına dikkat ediyoruz. init kelimesinin sağında ve solunda ikişer adet alt çizgi (_) bulunduğunu gözden kaçırmıyoruz. Ayrıca, __init__() fonksiyonunu def ifadesine bitişik yazmamaya da bilhassa özen gösteriyoruz.\n",
    "\n",
    "‘init’ kelimesinin solunda ve sağında bulunan alt çizgiler sizi sakın ürkütmesin. Aslında __init__(), alelade bir fonksiyondan başka bir şey değildir. Bu fonksiyonun öteki fonksiyonlardan tek farkı, sınıflar açısından biraz özel bir anlam taşıyor olmasıdır. Bu özel fonksiyonun görevi, sınıfımızı örneklediğimiz sırada, yani mesela ahmet = Çalışan() gibi bir komut verdiğimiz anda oluşturulacak nitelikleri ve gerçekleştirilecek işlemleri tanımlamaktır. Bu fonksiyonun ilk parametresi her zaman self olmak zorundadır. Bu açıklama ilk anda kulağınıza biraz anlaşılmaz gelmiş olabilir. Ama hiç endişe etmeyin. Bu bölümün sonuna vardığınızda bu iki öğeyi, adınızı bilir gibi biliyor olacaksınız.\n",
    "\n",
    "Hatırlarsanız, sınıf niteliklerini anlatırken bunların önemli bir özelliğinin, sınıfın çağrılmasına gerek olmadan çalışmaya başlaması olduğunu söylemiştik:"
   ]
  },
  {
   "cell_type": "code",
   "execution_count": null,
   "id": "3c9e7ceb-f193-411e-8089-3edcc5d8f63c",
   "metadata": {},
   "outputs": [],
   "source": [
    "class Çalışan():\n",
    "    selam = 'merhaba'\n",
    "    print(selam)"
   ]
  },
  {
   "cell_type": "markdown",
   "id": "b45d5d56-61cb-42b7-b063-5bc980f7e72d",
   "metadata": {},
   "source": [
    "Bu kodları çalıştırdığımız anda ekrana ‘merhaba’ çıktısı verilecektir. Örnek nitelikleri ise farklıdır:\n",
    "\n"
   ]
  },
  {
   "cell_type": "code",
   "execution_count": null,
   "id": "600f00ee-5f7f-4455-b73b-acfa0d3b5bfd",
   "metadata": {},
   "outputs": [],
   "source": [
    "class Çalışan():\n",
    "    def __init__(self):\n",
    "        self.kabiliyetleri = []\n",
    "        print(self.kabiliyetleri)"
   ]
  },
  {
   "cell_type": "markdown",
   "id": "e48dbdf0-01ad-4507-a92f-ea8e17626c93",
   "metadata": {},
   "source": [
    "Bu kodları çalıştırdığınızda herhangi bir çıktı almazsınız. Bu kodların çıktı verebilmesi için sınıfımızı mutlaka örneklememiz lazım:\n",
    "\n"
   ]
  },
  {
   "cell_type": "code",
   "execution_count": null,
   "id": "f5b7232e-0e68-45e4-a8fe-c7b4e7266e2b",
   "metadata": {},
   "outputs": [],
   "source": [
    "class Çalışan():\n",
    "    def __init__(self):\n",
    "        self.kabiliyetleri = []\n",
    "        print(self.kabiliyetleri)\n",
    "\n",
    "Çalışan()\n"
   ]
  },
  {
   "cell_type": "markdown",
   "id": "2886c16d-368a-4226-9ca8-a4fec1ff3623",
   "metadata": {},
   "source": [
    "Çünkü self.kabiliyetleri bir sınıf niteliği değil, bir örnek niteliğidir. Örnek niteliklerine erişebilmek için de ilgili sınıfı mutlaka örneklememiz gerekir. Ayrıca sınıf niteliklerinin aksine, örnek niteliklerine sınıf adları üzerinden erişemeyiz. Yani self.kabiliyetleri adlı örnek niteliğine erişmeye yönelik şöyle bir girişim bizi hüsrana uğratacaktır:\n",
    "\n"
   ]
  },
  {
   "cell_type": "code",
   "execution_count": null,
   "id": "bfee37b2-6c70-4c3c-ae73-5a9957502ea0",
   "metadata": {},
   "outputs": [],
   "source": [
    "Çalışan.kabiliyetleri"
   ]
  },
  {
   "cell_type": "markdown",
   "id": "4eb5b954-4baa-4a09-aef1-78eaa9624ce0",
   "metadata": {},
   "source": [
    "Bu örnek niteliğine erişmek için örneklendirme mekanizmasından yararlanmamız lazım:"
   ]
  },
  {
   "cell_type": "code",
   "execution_count": null,
   "id": "8df6b1d9-d411-436e-bc94-8cbbe68608b3",
   "metadata": {},
   "outputs": [],
   "source": [
    "Çalışan().kabiliyetleri #parantezlere dikkat!"
   ]
  },
  {
   "cell_type": "markdown",
   "id": "72713386-3ec7-48e8-8e9f-70703e8d9758",
   "metadata": {},
   "source": [
    "Gelin isterseniz, örneklendirme işlemini daha kullanışlı bir hale getirmek için, örneklendirdiğimiz sınıfı bir örneğe atayalım, yani bu sınıfın bir örneğini çıkaralım:"
   ]
  },
  {
   "cell_type": "code",
   "execution_count": null,
   "id": "c335cd18-5bbd-4be0-b63f-0c3830088c3d",
   "metadata": {},
   "outputs": [],
   "source": [
    "ahmet = Çalışan()"
   ]
  },
  {
   "cell_type": "markdown",
   "id": "c3cef791-c8f3-4db5-bfb9-30bbda535f80",
   "metadata": {},
   "source": [
    "ahmet = Çalışan() kodu yardımıyla, Çalışan sınıfının bir örneğini çıkardık ve buna ahmet adını verdik. İşte tam bu anda __init__() fonksiyonu çalışmaya başladı ve ahmet örneği için, kabiliyetleri adlı boş bir örnek niteliği oluşturdu.\n",
    "\n",
    "Peki yukarıda kodlarımızı yazarken __init__() fonksiyonuna parametre olarak verdiğimiz ve kabiliyetleri listesinin başında kullandığımız self kelimesi ne oluyor?\n",
    "\n",
    "Öncelikle bilmemiz gereken şey, self kelimesinin, Python programlama dilinin söz diziminin gerektirdiği bir öğe olduğudur. Bu kelime, Çalışan() adlı sınıfın örneklerini temsil eder. Peki ‘self kelimesinin bir sınıfın örneklerini temsil ediyor olması’ ne anlama geliyor?\n",
    "\n",
    "Bildiğiniz gibi, bir sınıfın örneğini şu şekilde çıkarıyoruz:\n",
    "\n"
   ]
  },
  {
   "cell_type": "code",
   "execution_count": null,
   "id": "fadc3aec-b05c-4eda-9190-718023e91fe8",
   "metadata": {
    "jupyter": {
     "source_hidden": true
    }
   },
   "outputs": [],
   "source": [
    "ahmet = Çalışan()\n"
   ]
  },
  {
   "cell_type": "markdown",
   "id": "d736c806-0767-4515-9074-f351da3d50e3",
   "metadata": {},
   "source": [
    "Bu ahmet örneğini kullanarak, Çalışan() sınıfının içindeki kabiliyetleri adlı örnek niteliğine sınıf dışından erişebiliriz:\n",
    "\n"
   ]
  },
  {
   "cell_type": "code",
   "execution_count": null,
   "id": "5be1c31f-13e6-4348-ac25-34410faaa45c",
   "metadata": {},
   "outputs": [],
   "source": [
    "print(ahmet.kabiliyetleri)\n"
   ]
  },
  {
   "cell_type": "markdown",
   "id": "9cc3d793-b976-4ebb-a79a-038a22ba145b",
   "metadata": {},
   "source": [
    "İşte self kelimesi, yukarıdaki kodda yer alan ahmet kelimesini temsil ediyor. Yani ahmet.kabiliyetleri şeklinde bir kod yazabilmemizi sağlayan şey, __init__() fonksiyonu içinde belirttiğimiz self kelimesidir. Eğer bu kelimeyi kullanmadan şöyle bir kod yazarsak:"
   ]
  },
  {
   "cell_type": "code",
   "execution_count": null,
   "id": "ba5b4b26-d681-488c-93ad-173712cd4543",
   "metadata": {},
   "outputs": [],
   "source": [
    "class Çalışan():\n",
    "    def __init__():\n",
    "        kabiliyetleri = []"
   ]
  },
  {
   "cell_type": "markdown",
   "id": "4d3136cd-33c5-461b-bab6-e15b353ef1ea",
   "metadata": {},
   "source": [
    "…artık aşağıdaki kodlar yardımıyla kabiliyetleri niteliğine erişemeyiz:"
   ]
  },
  {
   "cell_type": "code",
   "execution_count": null,
   "id": "b51619b8-fcae-42c5-98c4-6eb0edd0bd9f",
   "metadata": {},
   "outputs": [],
   "source": [
    "ahmet = Çalışan()\n",
    "print(ahmet.kabiliyetleri)"
   ]
  },
  {
   "cell_type": "markdown",
   "id": "e9e4f88f-3e9a-4651-ab69-687720ef2f75",
   "metadata": {},
   "source": [
    "Şimdi aynı kodları bir de şöyle yazalım:"
   ]
  },
  {
   "cell_type": "code",
   "execution_count": null,
   "id": "83d92240-3d8c-4d4b-b55a-c8d0b29334bb",
   "metadata": {},
   "outputs": [],
   "source": [
    "class Çalışan():\n",
    "    def __init__(self):\n",
    "        kabiliyetleri = []\n",
    "\n",
    "ahmet = Çalışan()\n",
    "print(ahmet.kabiliyetleri)"
   ]
  },
  {
   "cell_type": "markdown",
   "id": "c92f76a1-4a99-4fff-ad1c-d7fc4f859d4f",
   "metadata": {},
   "source": [
    "Burada __init__() fonksiyonunda ilk parametre olarak self’i belirttik. Ama kabiliyetleri niteliğinin başına self eklemedik. Dolayısıyla yazdığımız kodlar yine hata verdi. Çünkü, ahmet.kabiliyetleri şeklinde ifade ettiğimiz kodlardaki ahmet kelimesini karşılayacak herhangi bir öğe sınıf içinde bulunmuyor…\n",
    "\n",
    "Bu arada, örnek isimlerini (mesela ahmet) yalnızca örnek niteliklerine erişmek için kullanmıyoruz. Bunları aynı zamanda sınıf niteliklerine erişmek için de kullanabiliyoruz. Dolayısıyla eğer yukarıdaki sınıf tanımı içinde, self.kabiliyetleri adlı örnek niteliği’nin yanısıra personel adlı bir sınıf niteliği de bulunsaydı:\n",
    "\n"
   ]
  },
  {
   "cell_type": "code",
   "execution_count": null,
   "id": "be496efb-e1c1-4936-96e9-bb8a012bbcbe",
   "metadata": {},
   "outputs": [],
   "source": [
    "class Çalışan():\n",
    "    personel = ['personel']\n",
    "\n",
    "    def __init__(self):\n",
    "        self.kabiliyetleri = []"
   ]
  },
  {
   "cell_type": "markdown",
   "id": "bfb96cd4-06b7-4877-807f-a1bdc0d33d3e",
   "metadata": {},
   "source": [
    "Şu kodları yazdığımızda:"
   ]
  },
  {
   "cell_type": "code",
   "execution_count": null,
   "id": "96b9198d-5dff-4c64-ad2e-998415c71bdc",
   "metadata": {},
   "outputs": [],
   "source": [
    "ahmet = Çalışan()\n",
    "print(ahmet.personel)"
   ]
  },
  {
   "cell_type": "markdown",
   "id": "66b22a11-a4a5-40a6-b416-3feb3fd90473",
   "metadata": {},
   "source": [
    "…o sınıf niteliğine erişebilirdik. Ancak eğer __init__() fonksiyonu altındaki kabiliyetleri niteliğine erişmek istiyorsak, bu niteliğin başına self kelimesini getirerek, bu niteliği bir örnek niteliği haline getirmeli ve böylece, ahmet.kabiliyetleri kodundaki ahmet kelimesini temsil edecek bir öğeyi sınıf içinde oluşturmalıyız.\n",
    "\n",
    "Bu süreç tam olarak şöyle işler:\n",
    "\n",
    "Biz ahmet.kabiliyetleri şeklinde bir komut verdiğimizde, Python ilk olarak ilgili sınıfın __init__() fonksiyonu içinde kabiliyetleri adlı bir örnek niteliği arar. Elbette Python’ın bu örnek niteliğini bulabilmesi için, __init__() fonksiyonu içinde, bu fonksiyonun ilk parametresi ile aynı öneki taşıyan bir niteliğin yer alması gerekir. Yani eğer __init__() fonksiyonunun ilk parametresi self ise, Python bu fonksiyon içinde self.kabiliyetleri adlı bir örnek niteliği bulmaya çalışır. Eğer bulamazsa, Python bu kez kabiliyetleri adlı bir sınıf niteliği arar. Eğer onu da bulamazsa tabii ki hata verir…\n",
    "\n",
    "Gelin isterseniz bu mekanizmayı teyit edelim:"
   ]
  },
  {
   "cell_type": "code",
   "execution_count": 2,
   "id": "9d46d812-1031-49dc-bbd9-9977d08cfa2b",
   "metadata": {},
   "outputs": [],
   "source": [
    "class Çalışan():\n",
    "    kabiliyetleri = ['sınıf niteliği']\n",
    "\n",
    "    def __init__(self):\n",
    "        self.kabiliyetleri = ['örnek niteliği']\n"
   ]
  },
  {
   "cell_type": "code",
   "execution_count": 3,
   "id": "a2f71205-3710-468a-97f2-65f7db21683c",
   "metadata": {},
   "outputs": [
    {
     "name": "stdout",
     "output_type": "stream",
     "text": [
      "['örnek niteliği']\n"
     ]
    }
   ],
   "source": [
    "ahmet = Çalışan()\n",
    "print(ahmet.kabiliyetleri)"
   ]
  },
  {
   "cell_type": "markdown",
   "id": "01a65da8-cbaa-4d45-8e1a-f24ae4fc1cb0",
   "metadata": {},
   "source": [
    "Peki ama acaba yukarıdaki kodlar bize örnek niteliğini mi verir, yoksa sınıf niteliğini mi?\n",
    "\n",
    "Böyle bir durumda, yukarıda bahsettiğimiz mekanizma nedeniyle, self.kabiliyetleri şeklinde ifade ettiğimiz örnek niteliği, kabiliyetleri adlı sınıf niteliğini gölgeler. Bu yüzden de print(ahmet.kabiliyetleri) komutu, örnek niteliğini, yani self.kabiliyetleri listesini verir. Yukarıdaki kodları çalıştırarak siz de bu durumu teyit edebilirsiniz. Zira bu kodlar bize, self.kabiliyetleri listesinin değeri olan ‘örnek niteliği’ çıktısını verecektir…\n",
    "\n",
    "Peki ya siz sınıf niteliği olan kabiliyetleri listesine erişmek isterseniz ne olacak?\n",
    "\n",
    "İşte bunun için, sınıf örneğini değil de, sınıf adını kullanacaksınız:"
   ]
  },
  {
   "cell_type": "code",
   "execution_count": null,
   "id": "ed5f07c1-4f87-4384-9067-93ad3acb522a",
   "metadata": {},
   "outputs": [],
   "source": [
    "class Çalışan():\n",
    "    kabiliyetleri = ['sınıf niteliği']\n",
    "\n",
    "    def __init__(self):\n",
    "        self.kabiliyetleri = ['örnek niteliği']\n",
    "\n",
    "#sınıf niteliğine erişmek için\n",
    "#sınıf adını kullanıyoruz\n",
    "print(Çalışan.kabiliyetleri)\n",
    "\n",
    "#örnek niteliğine erişmek için\n",
    "#örnek adını kullanıyoruz\n",
    "ahmet = Çalışan()\n",
    "print(ahmet.kabiliyetleri)"
   ]
  },
  {
   "cell_type": "markdown",
   "id": "62ad320d-712f-4b31-a639-81e73f02186c",
   "metadata": {},
   "source": [
    "Ancak elbette, aynı adı taşıyan bir sınıf niteliği ile bir örnek niteliğini aynı sınıf içinde tanımlamak daha baştan iyi bir fikir değildir, ama yazdığınız bir sınıf yanlışlıkla aynı ada sahip sınıf ve örnek nitelikleri tanımlamanız nedeniyle beklenmedik bir çıktı veriyorsa, siz Python’ın bu özelliğinden haberdar olduğunuz için, hatanın nereden kaynaklandığını kolayca kestirebilirsiniz.\n",
    "\n",
    "Sözün kısası, Python’ın söz dizimi kuralları açısından, eğer bir örnek niteliği tanımlıyorsak, bu niteliğin başına bir self getirmemiz gerekir. Ayrıca bu self kelimesini de, örnek niteliğinin bulunduğu fonksiyonun parametre listesinde ilk sıraya yerleştirmiş olmalıyız. Unutmayın, örnek nitelikleri sadece fonksiyonlar içinde tanımlanabilir. Fonksiyon dışında örnek niteliği tanımlayamazsınız. Yani şöyle bir şey yazamazsınız:\n",
    "\n"
   ]
  },
  {
   "cell_type": "code",
   "execution_count": null,
   "id": "ead38e98-9389-4a4b-9b4c-3e776f939616",
   "metadata": {},
   "outputs": [],
   "source": [
    "class Çalışan():\n",
    "    self.n = 0\n",
    "\n",
    "    def __init__(self):\n",
    "        self.kabiliyetleri = []"
   ]
  },
  {
   "cell_type": "markdown",
   "id": "1acd92cf-b2ea-4959-bf7d-423916b45f50",
   "metadata": {},
   "source": [
    "Çünkü self kelimesi ancak ve ancak, içinde geçtiği fonksiyonun parametre listesinde ilk sırada kullanıldığında anlam kazanır.\n",
    "\n",
    "Bu noktada size çok önemli bir bilgi verelim: Python sınıflarında örnek niteliklerini temsil etmesi için kullanacağınız kelimenin self olması şart değildir. Bunun yerine istediğiniz başka bir kelimeyi kullanabilirsiniz. Mesela:\n",
    "\n"
   ]
  },
  {
   "cell_type": "code",
   "execution_count": null,
   "id": "76117c96-9d0d-40da-ad9e-d028b8bee112",
   "metadata": {},
   "outputs": [],
   "source": [
    "class Çalışan():\n",
    "    def __init__(falanca):\n",
    "        falanca.kabiliyetleri = []"
   ]
  },
  {
   "cell_type": "markdown",
   "id": "862b6046-677c-4094-98d0-5c74cb7f7ee1",
   "metadata": {},
   "source": [
    "Dediğimiz gibi, self kelimesi, bir sınıfın örneklerini temsil ediyor. Siz sınıf örneklerini hangi kelimenin temsil edeceğini kendiniz de belirleyebilirsiniz. Mesela yukarıdaki örnekte, __init__() fonksiyonunun ilk parametresini falanca olarak belirleyerek, örnek niteliklerinin falanca kelimesi ile temsil edilmesini sağlamış olduk. Python’da bu konuya ilişkin kural şudur: Sınıf içindeki bir fonksiyonun ilk parametresi ne ise, o fonksiyon içindeki örnek niteliklerini temsil eden kelime de odur. Örneğin, eğer şöyle bir sınıf tanımlamışsak:"
   ]
  },
  {
   "cell_type": "code",
   "execution_count": null,
   "id": "701a5af2-069f-4283-a137-84bb0f31299d",
   "metadata": {},
   "outputs": [],
   "source": [
    "class XY():\n",
    "    def __init__(a, b, c):\n",
    "        a.örnek_niteliği = []"
   ]
  },
  {
   "cell_type": "markdown",
   "id": "f09cfbd5-d67a-4121-89c4-c5ce8ee44720",
   "metadata": {},
   "source": [
    "Burada __init__() fonksiyonunun ilk parametresi a olduğu için, örnek niteliğini temsil eden kelime de a olur. Dolayısıyla örnek_niteliği adlı örnek niteliğimizin başına da önek olarak bu a kelimesini getiriyoruz.\n",
    "\n",
    "__init__() fonksiyonunun ilk parametresi a olarak belirlendikten sonra, bu fonksiyon içindeki bütün örnek nitelikleri, önek olarak a kelimesini alacaktır:\n",
    "\n"
   ]
  },
  {
   "cell_type": "code",
   "execution_count": null,
   "id": "6111bb6c-28f9-443d-b993-7851944dece8",
   "metadata": {},
   "outputs": [],
   "source": [
    "class XY():\n",
    "    def __init__(a, b, c):\n",
    "        a.örnek_niteliği1 = []\n",
    "        a.örnek_niteliği2 = 23\n",
    "        a.örnek_niteliği3 = 'istihza'"
   ]
  },
  {
   "cell_type": "markdown",
   "id": "e2c39395-6e4d-494a-b5b9-d8a04999c8a6",
   "metadata": {},
   "source": [
    "ANCAK! Her ne sebeple olursa olsun, örnek niteliklerini temsil etmek için self dışında bir kelime kullanmayın. Python bu kelimeyi bize dayatmasa da, self kullanımı Python topluluğu içinde çok güçlü ve sıkı sıkıya yerleşmiş bir gelenektir. Bu geleneği kimse bozmaz. Siz de bozmayın.\n",
    "\n",
    "Sözün özü, tek başına self kelimesinin hiçbir anlamının olmadığını asla aklınızdan çıkarmayın. Bu kelimenin Python açısından bir anlam kazanabilmesi için, ilgili fonksiyonun parametre listesinde ilk sırada belirtiliyor olması lazım. Zaten bu yüzden, dediğimiz gibi, self kelimesinin Python açısından bir özelliği yoktur. Yani şöyle bir kod yazmamızın, Python söz dizimi açısından hiçbir sakıncası bulunmaz:\n",
    "\n"
   ]
  },
  {
   "cell_type": "code",
   "execution_count": null,
   "id": "b5c2ed93-2602-40a8-b6ea-c4c12090535d",
   "metadata": {},
   "outputs": [],
   "source": [
    "class Çalışan():\n",
    "    def __init__(osman):\n",
    "        osman.kabiliyetleri = []"
   ]
  },
  {
   "cell_type": "markdown",
   "id": "081bc182-6288-4309-918b-df9d7f986b78",
   "metadata": {},
   "source": [
    "Çünkü Python, örnek niteliklerini temsil eden kelimenin ne olduğuyla asla ilgilenmez. Python için önemli olan tek şey, temsil işi için herhangi bir kelimenin belirlenmiş olmasıdır. Tabii, biz, daha önce de ısrarla söylediğimiz gibi, örnek niteliklerini self dışında bir kelime ile temsil etmeye teşebbüs etmeyeceğiz ve kodlarımızı şu şekilde yazmaktan şaşmayacağız:"
   ]
  },
  {
   "cell_type": "code",
   "execution_count": null,
   "id": "30df8d4b-3636-44b1-adca-581bdfe6ae5f",
   "metadata": {},
   "outputs": [],
   "source": [
    "class Çalışan():\n",
    "    def __init__(self):\n",
    "        self.kabiliyetleri = []"
   ]
  },
  {
   "cell_type": "markdown",
   "id": "2db61abf-8302-4b25-8023-478922f5ec33",
   "metadata": {},
   "source": [
    "İşte yukarıdaki kodda gördüğümüz self parametresi ve self öneki, birbirlerine bağımlı kavramlardır. Fonksiyonun ilk parametresi ne ise, örnek niteliklerinin öneki de o olacaktır.\n",
    "\n",
    "Bu arada, örnek niteliklerini anlatmaya başlamadan önce sınıf niteliklerine ilişkin sinsi bir durumdan söz etmiştik hatırlarsanız. Buna göre, eğer elimizde şöyle bir kod varsa:\n",
    "\n"
   ]
  },
  {
   "cell_type": "code",
   "execution_count": null,
   "id": "1825d099-cc30-437e-b241-be736bdbd63d",
   "metadata": {},
   "outputs": [],
   "source": [
    "class Çalışan():\n",
    "    kabiliyetleri = []"
   ]
  },
  {
   "cell_type": "markdown",
   "id": "c35b445c-fbe3-4c1f-9522-20ae80e60ca7",
   "metadata": {},
   "source": [
    "Biz bu sınıf içindeki kabiliyetleri listesine ekleme yaptığımızda, bu durum o sınıfın bütün örneklerini etkiliyordu.\n",
    "\n",
    "Yukarıdaki kodları deneme.py adlı bir dosyaya kaydettiğimizi varsayarsak:\n",
    "\n"
   ]
  },
  {
   "cell_type": "code",
   "execution_count": null,
   "id": "f8bd03e5-a784-4806-888c-3c7e3f6c511e",
   "metadata": {},
   "outputs": [],
   "source": [
    "import deneme\n",
    "ahmet = deneme.Çalışan()\n",
    "ahmet.kabiliyetleri.append('konuşkan')\n",
    "ahmet.kabiliyetleri\n",
    "\n",
    "['konuşkan']\n",
    "\n",
    "mehmet = deneme.Çalışan()\n",
    "print(mehmet.kabiliyetleri)\n",
    "\n",
    "['konuşkan']"
   ]
  },
  {
   "cell_type": "markdown",
   "id": "386d923e-f900-4dc6-9f61-3c82758288e2",
   "metadata": {},
   "source": [
    "İşte bu durumu önlemek için örnek metotlarından yararlanabiliyoruz:\n",
    "\n"
   ]
  },
  {
   "cell_type": "code",
   "execution_count": null,
   "id": "d2123dda-5fd9-469c-9643-bc49e430e5d0",
   "metadata": {},
   "outputs": [],
   "source": [
    "class Çalışan():\n",
    "    def __init__(self):\n",
    "        self.kabiliyetleri = []"
   ]
  },
  {
   "cell_type": "markdown",
   "id": "cacd972f-a22b-46e0-9db0-54a3fe30343e",
   "metadata": {},
   "source": [
    "Yukarıdaki kodları yine deneme.py adlı bir dosyaya kaydettiğimizi varsayarsak:"
   ]
  },
  {
   "cell_type": "code",
   "execution_count": null,
   "id": "e562444e-4021-412d-a9c7-7c52eb03e348",
   "metadata": {},
   "outputs": [],
   "source": [
    "import deneme\n",
    "ahmet = deneme.Çalışan()\n",
    "ahmet.kabiliyetleri.append('konuşkan')\n",
    "ahmet.kabiliyetleri\n",
    "\n",
    "['konuşkan']\n",
    "\n",
    "mehmet = deneme.Çalışan()\n",
    "print(mehmet.kabiliyetleri)\n",
    "\n",
    "[]"
   ]
  },
  {
   "cell_type": "markdown",
   "id": "79b0d1ca-6ce7-4c96-ab60-f4f3c3e82367",
   "metadata": {},
   "source": [
    "Gördüğünüz gibi, ahmet örneğine eklediğimiz ‘konuşkan’ öğesi, olması gerektiği gibi, mehmet örneğinde bulunmuyor. Birazdan bu konu üzerine birkaç kelam daha edeceğiz.\n",
    "\n"
   ]
  },
  {
   "cell_type": "markdown",
   "id": "f59df18c-ed56-4a11-9924-1a40382c9b28",
   "metadata": {},
   "source": [
    "++++++++++Örnek Metotları\n",
    "\n",
    "Buraya kadar sınıflar, örnekler, sınıf nitelikleri ve örnek nitelikleri konusunda epey bilgi edindik. Gelin şimdi isterseniz bu öğrendiklerimizi kullanarak az çok anlamlı bir şeyler yazmaya çalışalım. Böylece hem şimdiye kadar öğrendiklerimizi gözden geçirmiş ve pekiştirmiş oluruz, hem de bu bölümde ele alacağımız ‘örnek metotları’ (instance methods) kavramını anlamamız kolaylaşır:"
   ]
  },
  {
   "cell_type": "code",
   "execution_count": null,
   "id": "c32839b7-dad6-4c6a-8fae-2157662c83fa",
   "metadata": {},
   "outputs": [],
   "source": [
    "class Çalışan():\n",
    "    personel = []\n",
    "\n",
    "    def __init__(self, isim):\n",
    "        self.isim = isim\n",
    "        self.kabiliyetleri = []\n",
    "        self.personele_ekle()\n",
    "\n",
    "    def personele_ekle(self):\n",
    "        self.personel.append(self.isim)\n",
    "        print('{} adlı kişi personele eklendi'.format(self.isim))\n",
    "\n",
    "    def personeli_görüntüle(self):\n",
    "        print('Personel listesi:')\n",
    "        for kişi in self.personel:\n",
    "            print(kişi)\n",
    "\n",
    "    def kabiliyet_ekle(self, kabiliyet):\n",
    "        self.kabiliyetleri.append(kabiliyet)\n",
    "\n",
    "    def kabiliyetleri_görüntüle(self):\n",
    "        print('{} adlı kişinin kabiliyetleri:'.format(self.isim))\n",
    "        for kabiliyet in self.kabiliyetleri:\n",
    "            print(kabiliyet)"
   ]
  },
  {
   "cell_type": "markdown",
   "id": "e47a90bb-8acc-4b10-97bf-aae64e28f28c",
   "metadata": {},
   "source": [
    "Sınıfımızı tanımladık. Gelin isterseniz bu kodları açıklamaya başlamadan önce nasıl kullanacağımızı görelim.\n",
    "\n",
    "Bildiğiniz gibi, Python kodlarını test etmenin en iyi yolu, bunları etkileşimli kabuk üzerinde çalıştırmaktır. Özellikle bir program yazarken, tasarladığınız sınıfların, fonksiyonların ve öteki öğelerin düzgün çalışıp çalışmadığını test etmek için etkileşimli kabuğu sıklıkla kullanacaksınız.\n",
    "\n",
    "O halde, yukarıdaki kodları barındıran dosyanın bulunduğu dizin altında bir etkileşimli kabuk oturumu başlatalım ve dosya adının çalışan.py olduğunu varsayarak kodlarımızı bir modül şeklinde içe aktaralım:\n",
    "\n"
   ]
  },
  {
   "cell_type": "code",
   "execution_count": null,
   "id": "482e6b18-6bbc-48ad-bee4-a189b7c1e9d2",
   "metadata": {},
   "outputs": [],
   "source": [
    "import çalışan\n"
   ]
  },
  {
   "cell_type": "markdown",
   "id": "5cfdb22a-e261-4232-bf68-7b54b575df03",
   "metadata": {},
   "source": [
    "Daha sonra sınıfımızın iki farklı örneğini çıkaralım:"
   ]
  },
  {
   "cell_type": "code",
   "execution_count": null,
   "id": "5e726eae-c0a5-467a-a1ee-2832cda49701",
   "metadata": {},
   "outputs": [],
   "source": [
    "ç1 = çalışan.Çalışan('Ahmet')\n",
    "\n",
    "Ahmet adlı kişi personele eklendi\n",
    "\n",
    "ç2 = çalışan.Çalışan('Mehmet')\n",
    "\n",
    "Mehmet adlı kişi personele eklendi"
   ]
  },
  {
   "cell_type": "raw",
   "id": "2c53d43e-33e5-4044-aad7-adff0b6bccf4",
   "metadata": {},
   "source": [
    "Bu şekilde çalışan adlı modül içindeki Çalışan() adlı sınıfı sırasıyla ‘Ahmet’ ve ‘Mehmet’ parametreleri ile çağırarak ç1 ve ç2 adlı iki farklı sınıf örneği oluşturmuş olduk. Bu arada, sınıfımızı örneklediğimiz anda __init__() fonksiyonunun devreye girdiğine dikkat ediyoruz.\n",
    "\n",
    "personele_ekle() adlı fonksiyonu self.personele_ekle() şeklinde __init__() fonksiyonu içinden çağırdığımız için, sınıfımızı örneklediğimiz anda hem personelin kendisi personel listesine eklendi, hem de bu kişinin personele eklendiğine dair bir mesaj gösterildi.\n",
    "\n",
    "Tanımladığımız sınıfın niteliklerine, çıkardığımız örnekler üzerinden erişebiliriz:"
   ]
  },
  {
   "cell_type": "code",
   "execution_count": null,
   "id": "e84497a2-b3ae-4b0e-ac63-ec956f5aed2f",
   "metadata": {},
   "outputs": [],
   "source": [
    "ç1.isim\n",
    "\n",
    "'Ahmet'\n",
    "\n",
    "ç2.isim\n",
    "\n",
    "'Mehmet'"
   ]
  },
  {
   "cell_type": "markdown",
   "id": "4026bea0-ad67-4e30-8d1f-c469ad37600f",
   "metadata": {},
   "source": [
    "Yine bu örnekler üzerinden, bu nitelikleri değiştirebiliriz de:\n",
    "\n"
   ]
  },
  {
   "cell_type": "code",
   "execution_count": null,
   "id": "dedbebfc-9c8e-495d-994a-1b0e2763a720",
   "metadata": {},
   "outputs": [],
   "source": [
    "ç1.isim = 'Mahmut'\n",
    "ç1.personel[0] = 'Mahmut'"
   ]
  },
  {
   "cell_type": "markdown",
   "id": "fce5ca72-0a0a-4143-bebf-ad7600cca76b",
   "metadata": {},
   "source": [
    "Böylece ilk çalışanın ismini ‘Mahmut’ olarak değiştirdik:"
   ]
  },
  {
   "cell_type": "code",
   "execution_count": null,
   "id": "221c2091-0908-47cf-b0b6-643dd131da83",
   "metadata": {},
   "outputs": [],
   "source": [
    "ç1.isim\n",
    "'Mahmut'\n",
    "\n",
    "ç1.personel\n",
    "\n",
    "['Mahmut', 'Mehmet']"
   ]
  },
  {
   "cell_type": "markdown",
   "id": "7ef88fd0-372e-47f5-944f-f81af209eae9",
   "metadata": {},
   "source": [
    "Tanımladığımız sınıf içindeki fonksiyonları kullanarak, çalışanlarımıza birkaç kabiliyet ekleyelim:\n",
    "\n"
   ]
  },
  {
   "cell_type": "code",
   "execution_count": null,
   "id": "63bee98a-9038-42ed-8e3e-115e81b64ea0",
   "metadata": {},
   "outputs": [],
   "source": [
    "ç1.kabiliyet_ekle('prezantabl')\n",
    "ç1.kabiliyet_ekle('konuşkan')\n"
   ]
  },
  {
   "cell_type": "markdown",
   "id": "1c99fa44-bc3e-429a-966b-19d9fa2047c0",
   "metadata": {},
   "source": [
    "ç1 örneğinin kabiliyetlerini görüntüleyelim:\n",
    "\n"
   ]
  },
  {
   "cell_type": "code",
   "execution_count": null,
   "id": "1a6fa274-fc93-49f8-ba13-fa9386d591f3",
   "metadata": {},
   "outputs": [],
   "source": [
    "ç1.kabiliyetleri_görüntüle()\n",
    "\n",
    "Mahmut adlı kişinin kabiliyetleri:\n",
    "prezantabl\n",
    "konuşkan"
   ]
  },
  {
   "cell_type": "markdown",
   "id": "91529278-1c8d-48dd-bf98-0ae3c34ffe44",
   "metadata": {},
   "source": [
    "Şimdi de ç2 örneğine bir kabiliyet ekleyelim ve eklediğimiz kabiliyeti görüntüleyelim:\n",
    "\n"
   ]
  },
  {
   "cell_type": "code",
   "execution_count": null,
   "id": "67f6fc67-9ce4-488c-95bf-935457f9f4b4",
   "metadata": {},
   "outputs": [],
   "source": [
    "ç2.kabiliyet_ekle('girişken')\n",
    "ç2.kabiliyetleri_görüntüle()\n",
    "\n",
    "Mehmet adlı kişinin kabiliyetleri:\n",
    "girişken"
   ]
  },
  {
   "cell_type": "markdown",
   "id": "56d85697-fe1e-476c-ac8e-83612bd1d562",
   "metadata": {},
   "source": [
    "Gördüğünüz gibi, bir sınıf örneğine eklediğimiz kabiliyet öteki sınıf örneklerine karışmıyor. Bu, örnek niteliklerinin sınıf niteliklerinden önemli bir farkıdır. Zira sınıf nitelikleri bir sınıfın bütün örnekleri tarafından paylaşılır. Ama örnek nitelikleri her bir örneğe özgüdür. Bu özellikten biraz sonra daha ayrıntılı olarak söz edeceğiz. Biz şimdilik okumaya devam edelim.\n",
    "\n",
    "Sınıf örneklerimizin herhangi biri üzerinden personel listesine de ulaşabileceğimizi biliyoruz:\n",
    "\n"
   ]
  },
  {
   "cell_type": "code",
   "execution_count": null,
   "id": "ad18d016-00a8-442c-895c-468e103d899f",
   "metadata": {},
   "outputs": [],
   "source": [
    "ç1.personeli_görüntüle()\n",
    "\n",
    "Personel listesi:\n",
    "Mahmut\n",
    "Mehmet"
   ]
  },
  {
   "cell_type": "markdown",
   "id": "731a4986-61e2-4047-8bd0-42683c5398e1",
   "metadata": {},
   "source": [
    "Gayet güzel…\n",
    "\n",
    "Yukarıda anlattıklarımız sınıflar hakkında size epey fikir vermiş olmalı. Konuyu daha da derinlemesine anlayabilmek için, artık bu sınıfı incelemeye geçebiliriz.\n",
    "\n",
    "Sınıfımızı önümüze alalım:\n",
    "\n"
   ]
  },
  {
   "cell_type": "code",
   "execution_count": null,
   "id": "c8f484fd-8a65-422f-9f98-53f657c24792",
   "metadata": {},
   "outputs": [],
   "source": [
    "class Çalışan():\n",
    "    personel = []\n",
    "\n",
    "    def __init__(self, isim):\n",
    "        self.isim = isim\n",
    "        self.kabiliyetleri = []\n",
    "        self.personele_ekle()\n",
    "\n",
    "    def personele_ekle(self):\n",
    "        self.personel.append(self.isim)\n",
    "        print('{} adlı kişi personele eklendi'.format(self.isim))\n",
    "\n",
    "    def personeli_görüntüle(self):\n",
    "        print('Personel listesi:')\n",
    "        for kişi in self.personel:\n",
    "            print(kişi)\n",
    "\n",
    "    def kabiliyet_ekle(self, kabiliyet):\n",
    "        self.kabiliyetleri.append(kabiliyet)\n",
    "\n",
    "    def kabiliyetleri_görüntüle(self):\n",
    "        print('{} adlı kişinin kabiliyetleri:'.format(self.isim))\n",
    "        for kabiliyet in self.kabiliyetleri:\n",
    "            print(kabiliyet)"
   ]
  },
  {
   "cell_type": "markdown",
   "id": "d4e258c4-4ad5-4dcf-9321-49205169b808",
   "metadata": {},
   "source": [
    "Burada öncelikle her zamanki gibi sınıfımızı tanımlıyoruz:"
   ]
  },
  {
   "cell_type": "code",
   "execution_count": null,
   "id": "3cca1310-f199-41d2-8261-adfef8b5a293",
   "metadata": {},
   "outputs": [],
   "source": [
    "class Çalışan():\n"
   ]
  },
  {
   "cell_type": "markdown",
   "id": "7157da48-634e-4920-b40e-3f66dbd446b5",
   "metadata": {},
   "source": [
    "Daha sonra bu sınıfa personel adlı bir sınıf niteliği ekliyoruz:\n",
    "\n"
   ]
  },
  {
   "cell_type": "code",
   "execution_count": null,
   "id": "54083bac-925c-4ab2-908b-d762fa9cdaa9",
   "metadata": {},
   "outputs": [],
   "source": [
    "class Çalışan():\n",
    "    personel = []"
   ]
  },
  {
   "cell_type": "markdown",
   "id": "67d3284d-1ef3-48e2-9015-6ee883a62f14",
   "metadata": {},
   "source": [
    "Sınıf niteliklerinin özelliği, o sınıfın bütün örnekleri tarafından paylaşılıyor olmasıdır. Yani herhangi bir örneğin bu nitelik üzerinde yaptığı değişiklik, öteki örneklere de yansıyacaktır. Hele bir de bu sınıf niteliği, listeler gibi değiştirilebilir (mutable) bir veri tipi ise, bu durum hiç de istemediğiniz sonuçlar doğurabilir. Bununla ilgili bir örneği yukarıda vermiştik. Hatırlarsanız, kabiliyetleri adlı, liste veri tipinde bir sınıf niteliği oluşturduğumuzda, bu listeye eklediğimiz öğeler, hiç istemediğimiz halde öbür örneklere de sirayet ediyordu. Elbette, sınıf niteliklerinin bu özelliği, o anda yapmaya çalıştığınız şey açısından gerekli bir durum da olabilir. Mesela yukarıdaki kodlarda, listelerin ve sınıf niteliklerinin bu özelliği bizim amacımıza hizmet ediyor. Yukarıdaki sınıfı çalıştırdığımızda, eklenen her bir kişiyi bu personel listesine ilave edeceğiz. Dolayısıyla bu nitelik üzerinde yapılan değişikliklerin bütün örneklere yansıması bizim istediğimiz bir şey.\n",
    "\n",
    "Neyse… Lafı daha fazla uzatmadan, kodlarımızı açıklamaya kaldığımız yerden devam edelim…\n",
    "\n",
    "Sınıfımızı ve sınıf niteliğimizi tanımladıktan sonra __init__() adlı özel fonksiyonumuzu oluşturuyoruz:"
   ]
  },
  {
   "cell_type": "code",
   "execution_count": null,
   "id": "e22416e9-ca82-407e-b4f6-07cee843a35f",
   "metadata": {},
   "outputs": [],
   "source": [
    "def __init__(self, isim):\n",
    "    self.isim = isim\n",
    "    self.kabiliyetleri = []\n",
    "    self.personele_ekle()"
   ]
  },
  {
   "cell_type": "markdown",
   "id": "c171a367-18ef-4f7b-a348-85e45fe411e9",
   "metadata": {},
   "source": [
    "Bu fonksiyonun özelliği, sınıfın örneklenmesi ile birlikte otomatik olarak çalıştırılacak olmasıdır. Biz burada, self.isim ve self.kabiliyetleri adlı iki adet örnek niteliği tanımladık. Bu örnek niteliklerine sınıfımızın her tarafından erişebileceğiz.\n",
    "\n",
    "Yukarıda, tanımladığımız sınıfı nasıl kullanacağımızı gösterirken, Çalışan() sınıfını şu şekilde örneklediğimizi hatırlıyorsunuz:\n",
    "\n"
   ]
  },
  {
   "cell_type": "code",
   "execution_count": null,
   "id": "1c881df9-f425-41cf-8da3-071dd5df9fc1",
   "metadata": {},
   "outputs": [],
   "source": [
    "ç1 = çalışan.Çalışan('Ahmet')\n"
   ]
  },
  {
   "cell_type": "markdown",
   "id": "0239af24-5166-4d8f-a657-86138acc0217",
   "metadata": {},
   "source": [
    "Burada sınıfımızı ‘Ahmet’ adlı bir argümanla örneklediğimize dikkatinizi çekmek isterim. İşte bu argüman, biraz önce __init__() fonksiyonunu tanımlarken belirttiğimiz isim parametresine karşılık geliyor. Dolayısıyla, bir sınıfı çağırırken/örneklerken kullanacağımız argümanları, bu __init__() fonksiyonunun parametreleri olarak tanımlıyoruz.\n",
    "\n",
    "Daha sonra bu isim parametresini, __init__() fonksiyonunun gövdesi içinde bir örnek niteliği haline getiriyoruz:\n",
    "\n"
   ]
  },
  {
   "cell_type": "code",
   "execution_count": null,
   "id": "edb1d8ae-e54d-4d94-8099-2a31951b9c06",
   "metadata": {},
   "outputs": [],
   "source": [
    "self.isim = isim\n"
   ]
  },
  {
   "cell_type": "markdown",
   "id": "682c7a9f-42cb-4a36-90c6-9e0c2d44cd93",
   "metadata": {},
   "source": [
    "Bunu yapmamızın gerekçesi, isim parametresini sınıfımızın başka bölgelerinde de kullanabilmek. self kelimesini parametremizin başına yerleştirerek, bu parametreyi sınıfın başka yerlerinden de erişilebilir hale getiriyoruz.\n",
    "\n",
    "isim parametresini, self.isim kodu yardımıyla bir örnek niteliğine dönüştürdükten sonra self.kabiliyetleri adlı bir başka örnek niteliği daha tanımlıyoruz. Bu liste, sınıf örneklerine eklediğimiz kabiliyetleri tutacak.\n",
    "\n",
    "Bunun ardından şöyle bir kod görüyoruz:"
   ]
  },
  {
   "cell_type": "code",
   "execution_count": null,
   "id": "c2c665c1-0591-47a6-b5e9-cde98dd93d38",
   "metadata": {},
   "outputs": [],
   "source": [
    "self.personele_ekle()\n"
   ]
  },
  {
   "cell_type": "markdown",
   "id": "17a55c1b-92eb-4dec-a316-829554b1a67c",
   "metadata": {},
   "source": [
    "Burada, personele_ekle() adlı bir örnek metoduna (instance method) atıfta bulunuyoruz. Örnek metotları, bir sınıfın örnekleri vasıtasıyla çağrılabilen fonksiyonlardır. Bu fonksiyonların ilk parametresi her zaman self kelimesidir. Ayrıca bu fonksiyonlara sınıf içinde atıfta bulunurken de yine self kelimesini kullanıyoruz. Tıpkı yukarıdaki örnekte olduğu gibi…\n",
    "\n",
    "Bir örnek metodu olduğunu söylediğimiz personele_ekle() fonksiyonunu şu şekilde tanımladık:\n",
    "\n"
   ]
  },
  {
   "cell_type": "code",
   "execution_count": null,
   "id": "68278c63-2524-41f1-bc57-bc7532ccd2f2",
   "metadata": {},
   "outputs": [],
   "source": [
    "def personele_ekle(self):\n",
    "    self.personel.append(self.isim)\n",
    "    print('{} adlı kişi personele eklendi'.format(self.isim))"
   ]
  },
  {
   "cell_type": "markdown",
   "id": "b79dd15a-b272-436e-82b6-d73e56ad38ae",
   "metadata": {},
   "source": [
    "Burada, bir sınıf niteliği olan personel değişkenine nasıl eriştiğimize çok dikkat etmenizi istiyorum. Daha önce de söylediğimiz gibi, sınıf niteliklerine sınıf dışındayken örnekler üzerinden erişebiliyoruz. self kelimesi, bir sınıfın örneklerini temsil ettiği için, bir sınıf niteliğine sınıf içinden erişmemiz gerektiğinde self kelimesini kullanabiliriz.\n",
    "\n",
    "Sınıf niteliklerine, örnekler dışında, sınıf adıyla da erişebileceğinizi biliyorsunuz. Dolayısıyla isterseniz yukarıdaki kodları şöyle de yazabilirdiniz:\n",
    "\n"
   ]
  },
  {
   "cell_type": "code",
   "execution_count": null,
   "id": "84a1586e-cf50-47a0-85f0-5c3842e00c26",
   "metadata": {},
   "outputs": [],
   "source": [
    "def personele_ekle(self):\n",
    "    Çalışan.personel.append(self.isim)\n",
    "    print('{} adlı kişi personele eklendi'.format(self.isim))"
   ]
  },
  {
   "cell_type": "markdown",
   "id": "31eb0be0-3640-4360-9d39-012e80a1788f",
   "metadata": {},
   "source": [
    "Bir öncekinden farklı olarak, bu defa sınıf niteliğine doğrudan sınıf adını (Çalışan) kullanarak eriştik.\n",
    "\n",
    "Ayrıca bu fonksiyonda, bir örnek niteliği olan self.isim değişkenine de erişebiliyor olduğumuza dikkat edin. Unutmayın, self sınıfların çok önemli bir öğesidir. Bu öğeyi kullanarak hem örnek niteliklerine, hem sınıf niteliklerine, hem de örnek metotlarına ulaşabiliyoruz. Tanımladığımız bu personele_ekle() adlı örnek metodunu __init__() fonksiyonu içinden self.personele_ekle() kodu ile (yani yine self kelimesini kullanarak) çağırdığımızı hatırlıyorsunuz.\n",
    "\n",
    "personele_ekle() fonksiyonunun ardından arka arkaya üç fonksiyon daha tanımladık:"
   ]
  },
  {
   "cell_type": "code",
   "execution_count": null,
   "id": "edfd64d8-9e29-4c22-98c3-a464de8422b7",
   "metadata": {},
   "outputs": [],
   "source": [
    "def personeli_görüntüle(self):\n",
    "    print('Personel listesi:')\n",
    "    for kişi in self.personel:\n",
    "        print(kişi)\n",
    "\n",
    "def kabiliyet_ekle(self, kabiliyet):\n",
    "    self.kabiliyetleri.append(kabiliyet)\n",
    "\n",
    "def kabiliyetleri_görüntüle(self):\n",
    "    print('{} adlı kişinin kabiliyetleri:'.format(self.isim))\n",
    "    for kabiliyet in self.kabiliyetleri:\n",
    "        print(kabiliyet)"
   ]
  },
  {
   "cell_type": "markdown",
   "id": "03f5e06a-6044-4d6b-a63f-25880be54f44",
   "metadata": {},
   "source": [
    "Bu fonksiyonlar da, tıpkı personele_ekle() gibi, birer örnek metodudur. Bu örnek metotlarının da ilk parametrelerinin hep self olduğuna dikkat ediyoruz. Örnek metotlarına sınıf dışından örnek isimleri (ahmet, mehmet gibi) aracılığıyla, sınıf içinden ise, örnek isimlerini temsil eden self kelimesi aracılığıyla eriştiğimizi biliyorsunuz.\n",
    "\n",
    "Şimdi bir duralım…\n",
    "\n",
    "Bu noktaya kadar epey konuştuk, epey örnek verdik. Sınıflar hakkında yeterince bilgi sahibi olduğumuza göre, nihayet en başta verdiğimiz harf sayacı kodlarını rahatlıkla anlayabilecek düzeye eriştik:"
   ]
  },
  {
   "cell_type": "code",
   "execution_count": null,
   "id": "95bb1d1d-c27e-489b-99f0-bd8918f52bdd",
   "metadata": {},
   "outputs": [],
   "source": [
    "class HarfSayacı:\n",
    "    def __init__(self):\n",
    "        self.sesli_harfler = 'aeıioöuü'\n",
    "        self.sessiz_harfler = 'bcçdfgğhjklmnprsştvyz'\n",
    "        self.sayaç_sesli = 0\n",
    "        self.sayaç_sessiz = 0\n",
    "\n",
    "    def kelime_sor(self):\n",
    "        return input('Bir kelime girin: ')\n",
    "\n",
    "    def seslidir(self, harf):\n",
    "        return harf in self.sesli_harfler\n",
    "\n",
    "    def sessizdir(self, harf):\n",
    "        return harf in self.sessiz_harfler\n",
    "\n",
    "    def artır(self):\n",
    "        for harf in self.kelime:\n",
    "            if self.seslidir(harf):\n",
    "                self.sayaç_sesli += 1\n",
    "            if self.sessizdir(harf):\n",
    "                self.sayaç_sessiz += 1\n",
    "        return (self.sayaç_sesli, self.sayaç_sessiz)\n",
    "\n",
    "    def ekrana_bas(self):\n",
    "        sesli, sessiz = self.artır()\n",
    "        mesaj = \"{} kelimesinde {} sesli {} sessiz harf var.\"\n",
    "        print(mesaj.format(self.kelime, sesli, sessiz))\n",
    "\n",
    "    def çalıştır(self):\n",
    "        self.kelime = self.kelime_sor()\n",
    "        self.ekrana_bas()\n",
    "\n",
    "if __name__ == '__main__':\n",
    "    sayaç = HarfSayacı()\n",
    "    sayaç.çalıştır()"
   ]
  },
  {
   "cell_type": "markdown",
   "id": "3fcc6fd0-04f4-4e4a-a54e-b2a50ad74883",
   "metadata": {},
   "source": [
    "Gelin isterseniz bu kodlara da şöyle bir bakalım…\n",
    "\n",
    "Burada sınıfımızı şu şekilde tanımladık:\n",
    "\n"
   ]
  },
  {
   "cell_type": "code",
   "execution_count": null,
   "id": "93faec29-cd1b-4fdc-80a0-8f0d1bf3bf21",
   "metadata": {},
   "outputs": [],
   "source": [
    "class HarfSayacı:\n"
   ]
  },
  {
   "cell_type": "markdown",
   "id": "babeec54-1a45-4772-93c1-674839374bb0",
   "metadata": {},
   "source": [
    "Sınıf adını parantezli bir şekilde yazabileceğimizi de biliyorsunuz:"
   ]
  },
  {
   "cell_type": "code",
   "execution_count": null,
   "id": "e0c0c696-955d-446d-84dc-d5fcb00365e5",
   "metadata": {},
   "outputs": [],
   "source": [
    "class HarfSayacı():\n"
   ]
  },
  {
   "cell_type": "markdown",
   "id": "b2782310-1955-465e-826d-3191362fecc7",
   "metadata": {},
   "source": [
    "Daha sonra, __init__() fonksiyonu içinde dört adet örnek niteliği tanımladık:"
   ]
  },
  {
   "cell_type": "code",
   "execution_count": null,
   "id": "d66adcc7-7b26-4ed3-a5b5-84fdc4edaa56",
   "metadata": {},
   "outputs": [],
   "source": [
    "self.sesli_harfler = 'aeıioöuü'\n",
    "self.sessiz_harfler = 'bcçdfgğhjklmnprsştvyz'\n",
    "self.sayaç_sesli = 0\n",
    "self.sayaç_sessiz = 0\n"
   ]
  },
  {
   "cell_type": "markdown",
   "id": "11d8cfc8-0e87-445d-bad2-012074237c6c",
   "metadata": {},
   "source": [
    "Bunların birer örnek niteliği olduğunu, başlarına getirdiğimiz self kelimesinden anlıyoruz. Çünkü bildiğiniz gibi, self kelimesi, ilgili sınıfın örneklerini temsil ediyor. Bir sınıf içinde örnek niteliklerine ve örnek metotlarına hep bu self kelimesi aracılığıyla erişiyoruz.\n",
    "\n",
    "Bu sınıf içinde, ilk parametreleri self olan şu örnek metotlarını görüyoruz:"
   ]
  },
  {
   "cell_type": "code",
   "execution_count": null,
   "id": "b33a9eb0-ead7-40fe-bb79-cdda80a672b5",
   "metadata": {},
   "outputs": [],
   "source": [
    "def kelime_sor(self):\n",
    "    ...\n",
    "\n",
    "def seslidir(self, harf):\n",
    "    ...\n",
    "\n",
    "def sessizdir(self, harf):\n",
    "    ...\n",
    "\n",
    "def artır(self):\n",
    "    ...\n",
    "\n",
    "def ekrana_bas(self):\n",
    "    ...\n",
    "\n",
    "def çalıştır(self):\n",
    "    ..."
   ]
  },
  {
   "cell_type": "markdown",
   "id": "51f8d84f-514b-446e-a93a-a5b8b69d95ab",
   "metadata": {},
   "source": [
    "Sınıfla birlikte bütün örnek değişkenlerini ve örnek metotlarını tanımladıktan sonra programımızı çalıştırma aşamasına geliyoruz:\n",
    "\n"
   ]
  },
  {
   "cell_type": "code",
   "execution_count": null,
   "id": "25d2ba42-2f45-42bd-a225-7732e18308de",
   "metadata": {},
   "outputs": [],
   "source": [
    "if __name__ == '__main__':\n",
    "    sayaç = HarfSayacı()\n",
    "    sayaç.çalıştır()"
   ]
  },
  {
   "cell_type": "markdown",
   "id": "dea00712-1540-401f-93ad-2bb68cfba012",
   "metadata": {},
   "source": [
    "Buna göre, eğer programımız bağımsız olarak çalıştırılıyorsa öncelikle HarfSayacı() adlı sınıfı örneklendiriyoruz:"
   ]
  },
  {
   "cell_type": "code",
   "execution_count": null,
   "id": "48892403-74a1-4378-ac88-3848e720be6e",
   "metadata": {},
   "outputs": [],
   "source": [
    "sayaç = HarfSayacı()"
   ]
  },
  {
   "cell_type": "markdown",
   "id": "305e74f5-6a54-4e76-9511-bc914832d931",
   "metadata": {},
   "source": [
    "Daha sonra da sayaç örneği üzerinden HarfSayacı() adlı sınıfın çalıştır() metoduna erişerek programımızı başlatıyoruz.\n",
    "\n",
    "Böylece, Python’da nesne tabanlı programlama ve sınıflara dair öğrenmemiz gereken bütün temel bilgileri edinmiş olduk. Şu ana kadar öğrendikleriniz sayesinde, etrafta göreceğiniz sınıflı kodların büyük bölümünü anlayabilecek durumdasınız. Bir sonraki bölümde, nesne tabanlı programlamanın ayrıntılarına inmeye başlayacağız."
   ]
  },
  {
   "cell_type": "code",
   "execution_count": null,
   "id": "ba16d847-55ab-4edf-b14e-1db4c38a3e95",
   "metadata": {},
   "outputs": [],
   "source": []
  }
 ],
 "metadata": {
  "kernelspec": {
   "display_name": "Python 3 (ipykernel)",
   "language": "python",
   "name": "python3"
  },
  "language_info": {
   "codemirror_mode": {
    "name": "ipython",
    "version": 3
   },
   "file_extension": ".py",
   "mimetype": "text/x-python",
   "name": "python",
   "nbconvert_exporter": "python",
   "pygments_lexer": "ipython3",
   "version": "3.10.12"
  }
 },
 "nbformat": 4,
 "nbformat_minor": 5
}
